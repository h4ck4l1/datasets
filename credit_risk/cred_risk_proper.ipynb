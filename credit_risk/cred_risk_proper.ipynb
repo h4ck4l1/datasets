{
 "cells": [
  {
   "cell_type": "code",
   "execution_count": 1,
   "metadata": {},
   "outputs": [
    {
     "data": {
      "text/plain": [
       "'بِسْمِ اللهِ الرَّحْمٰنِ الرَّحِيْمِ'"
      ]
     },
     "execution_count": 1,
     "metadata": {},
     "output_type": "execute_result"
    }
   ],
   "source": [
    "'''بِسْمِ اللهِ الرَّحْمٰنِ الرَّحِيْمِ'''"
   ]
  },
  {
   "cell_type": "code",
   "execution_count": 2,
   "metadata": {},
   "outputs": [
    {
     "data": {
      "text/plain": [
       "'سُبْحَـٰنَكَ لَا عِلْمَ لَنَآ إِلَّا مَا عَلَّمْتَنَآ ۖ إِنَّكَ أَنتَ الْعَلِيمُ الْحَكِيمُ'"
      ]
     },
     "execution_count": 2,
     "metadata": {},
     "output_type": "execute_result"
    }
   ],
   "source": [
    "'''سُبْحَـٰنَكَ لَا عِلْمَ لَنَآ إِلَّا مَا عَلَّمْتَنَآ ۖ إِنَّكَ أَنتَ الْعَلِيمُ الْحَكِيمُ'''"
   ]
  },
  {
   "cell_type": "code",
   "execution_count": 3,
   "metadata": {},
   "outputs": [
    {
     "data": {
      "text/html": [
       "\n",
       "<style>\n",
       "    * {\n",
       "        font-family: Monaco;\n",
       "    }\n",
       "</style>\n"
      ],
      "text/plain": [
       "<IPython.core.display.HTML object>"
      ]
     },
     "execution_count": 3,
     "metadata": {},
     "output_type": "execute_result"
    }
   ],
   "source": [
    "from IPython.core.display import HTML\n",
    "HTML(r\"\"\"\n",
    "<style>\n",
    "    * {\n",
    "        font-family: Monaco;\n",
    "    }\n",
    "</style>\n",
    "\"\"\")"
   ]
  },
  {
   "cell_type": "code",
   "execution_count": 4,
   "metadata": {},
   "outputs": [
    {
     "data": {
      "text/plain": [
       "12"
      ]
     },
     "execution_count": 4,
     "metadata": {},
     "output_type": "execute_result"
    }
   ],
   "source": [
    "import os,sys,warnings,re,math,gc,time\n",
    "warnings.filterwarnings(\"ignore\")\n",
    "os.cpu_count()"
   ]
  },
  {
   "cell_type": "code",
   "execution_count": 5,
   "metadata": {},
   "outputs": [
    {
     "name": "stdout",
     "output_type": "stream",
     "text": [
      "Exception reporting mode: Minimal\n"
     ]
    }
   ],
   "source": [
    "os.environ[\"POLARS_MAX_THREADS\"] = \"40\"\n",
    "import numpy as np\n",
    "import pandas as pd\n",
    "import polars as pl\n",
    "import polars.selectors as cs\n",
    "from glob import glob\n",
    "from pathlib import Path\n",
    "from tqdm import tqdm\n",
    "from concurrent.futures import ThreadPoolExecutor\n",
    "import plotly.express as px\n",
    "import plotly.graph_objects as go\n",
    "import plotly.io as pio\n",
    "from plotly.subplots import make_subplots\n",
    "pio.templates[\"mod\"] = go.layout.Template(layout=dict(font=dict(family=\"Monaco\",size=15)))\n",
    "pio.templates.default = \"mod+plotly_dark\"\n",
    "from sklearn.metrics import auc,roc_auc_score\n",
    "from sklearn.model_selection import train_test_split\n",
    "import lightgbm as lgb\n",
    "import miceforest as mf\n",
    "from miceforest import mean_match_shap,mean_match_default,mean_match_fast_cat\n",
    "%xmode Minimal"
   ]
  },
  {
   "cell_type": "code",
   "execution_count": 6,
   "metadata": {},
   "outputs": [
    {
     "data": {
      "text/plain": [
       "polars.config.Config"
      ]
     },
     "execution_count": 6,
     "metadata": {},
     "output_type": "execute_result"
    }
   ],
   "source": [
    "pl.Config.set_fmt_str_lengths(100)\n",
    "pl.Config.set_float_precision(2)\n",
    "pl.Config.set_fmt_float(\"full\")\n",
    "pl.Config.set_tbl_rows(40)"
   ]
  },
  {
   "cell_type": "code",
   "execution_count": 7,
   "metadata": {},
   "outputs": [],
   "source": [
    "path_to_train = Path(\"Downloads/credit_risk/train/\")\n",
    "path_to_test = Path(\"Downloads/credit_risk/test/\")\n",
    "path_to_features = Path(\"Downloads/feature_definitions.csv\")"
   ]
  },
  {
   "cell_type": "code",
   "execution_count": 8,
   "metadata": {},
   "outputs": [
    {
     "data": {
      "text/html": [
       "<div><style>\n",
       ".dataframe > thead > tr,\n",
       ".dataframe > tbody > tr {\n",
       "  text-align: right;\n",
       "  white-space: pre-wrap;\n",
       "}\n",
       "</style>\n",
       "<small>shape: (5, 2)</small><table border=\"1\" class=\"dataframe\"><thead><tr><th>Variable</th><th>Description</th></tr><tr><td>str</td><td>str</td></tr></thead><tbody><tr><td>&quot;actualdpd_943P&quot;</td><td>&quot;Days Past Due (DPD) of previous contract (actual).&quot;</td></tr><tr><td>&quot;actualdpdtolerance_344P&quot;</td><td>&quot;DPD of client with tolerance.&quot;</td></tr><tr><td>&quot;addres_district_368M&quot;</td><td>&quot;District of the person&#x27;s address.&quot;</td></tr><tr><td>&quot;addres_role_871L&quot;</td><td>&quot;Role of person&#x27;s address.&quot;</td></tr><tr><td>&quot;addres_zip_823M&quot;</td><td>&quot;Zip code of the address.&quot;</td></tr></tbody></table></div>"
      ],
      "text/plain": [
       "shape: (5, 2)\n",
       "┌─────────────────────────┬────────────────────────────────────────────────────┐\n",
       "│ Variable                ┆ Description                                        │\n",
       "│ ---                     ┆ ---                                                │\n",
       "│ str                     ┆ str                                                │\n",
       "╞═════════════════════════╪════════════════════════════════════════════════════╡\n",
       "│ actualdpd_943P          ┆ Days Past Due (DPD) of previous contract (actual). │\n",
       "│ actualdpdtolerance_344P ┆ DPD of client with tolerance.                      │\n",
       "│ addres_district_368M    ┆ District of the person's address.                  │\n",
       "│ addres_role_871L        ┆ Role of person's address.                          │\n",
       "│ addres_zip_823M         ┆ Zip code of the address.                           │\n",
       "└─────────────────────────┴────────────────────────────────────────────────────┘"
      ]
     },
     "execution_count": 8,
     "metadata": {},
     "output_type": "execute_result"
    }
   ],
   "source": [
    "feat_df = pl.read_csv(path_to_features)\n",
    "feat_df.head()"
   ]
  },
  {
   "cell_type": "code",
   "execution_count": 9,
   "metadata": {},
   "outputs": [
    {
     "data": {
      "text/html": [
       "<div><style>\n",
       ".dataframe > thead > tr,\n",
       ".dataframe > tbody > tr {\n",
       "  text-align: right;\n",
       "  white-space: pre-wrap;\n",
       "}\n",
       "</style>\n",
       "<small>shape: (5, 3)</small><table border=\"1\" class=\"dataframe\"><thead><tr><th>index</th><th>path</th><th>filename</th></tr><tr><td>i64</td><td>str</td><td>str</td></tr></thead><tbody><tr><td>31</td><td>&quot;Downloads/credit_risk/train/train_applprev_1_0.parquet&quot;</td><td>&quot;train_applprev_1_0.parquet&quot;</td></tr><tr><td>13</td><td>&quot;Downloads/credit_risk/train/train_applprev_1_1.parquet&quot;</td><td>&quot;train_applprev_1_1.parquet&quot;</td></tr><tr><td>0</td><td>&quot;Downloads/credit_risk/train/train_applprev_2.parquet&quot;</td><td>&quot;train_applprev_2.parquet&quot;</td></tr><tr><td>7</td><td>&quot;Downloads/credit_risk/train/train_base.parquet&quot;</td><td>&quot;train_base.parquet&quot;</td></tr><tr><td>11</td><td>&quot;Downloads/credit_risk/train/train_credit_bureau_a_1_0.parquet&quot;</td><td>&quot;train_credit_bureau_a_1_0.parquet&quot;</td></tr></tbody></table></div>"
      ],
      "text/plain": [
       "shape: (5, 3)\n",
       "┌───────┬──────────────────────────────────────────────────────┬───────────────────────────────────┐\n",
       "│ index ┆ path                                                 ┆ filename                          │\n",
       "│ ---   ┆ ---                                                  ┆ ---                               │\n",
       "│ i64   ┆ str                                                  ┆ str                               │\n",
       "╞═══════╪══════════════════════════════════════════════════════╪═══════════════════════════════════╡\n",
       "│ 31    ┆ Downloads/credit_risk/train/train_applprev_1_0.parqu ┆ train_applprev_1_0.parquet        │\n",
       "│       ┆ et                                                   ┆                                   │\n",
       "│ 13    ┆ Downloads/credit_risk/train/train_applprev_1_1.parqu ┆ train_applprev_1_1.parquet        │\n",
       "│       ┆ et                                                   ┆                                   │\n",
       "│ 0     ┆ Downloads/credit_risk/train/train_applprev_2.parquet ┆ train_applprev_2.parquet          │\n",
       "│ 7     ┆ Downloads/credit_risk/train/train_base.parquet       ┆ train_base.parquet                │\n",
       "│ 11    ┆ Downloads/credit_risk/train/train_credit_bureau_a_1_ ┆ train_credit_bureau_a_1_0.parquet │\n",
       "│       ┆ 0.parquet                                            ┆                                   │\n",
       "└───────┴──────────────────────────────────────────────────────┴───────────────────────────────────┘"
      ]
     },
     "metadata": {},
     "output_type": "display_data"
    },
    {
     "data": {
      "text/html": [
       "<div><style>\n",
       ".dataframe > thead > tr,\n",
       ".dataframe > tbody > tr {\n",
       "  text-align: right;\n",
       "  white-space: pre-wrap;\n",
       "}\n",
       "</style>\n",
       "<small>shape: (5, 3)</small><table border=\"1\" class=\"dataframe\"><thead><tr><th>index</th><th>path</th><th>filename</th></tr><tr><td>i64</td><td>str</td><td>str</td></tr></thead><tbody><tr><td>31</td><td>&quot;Downloads/credit_risk/test/test_applprev_1_0.parquet&quot;</td><td>&quot;test_applprev_1_0.parquet&quot;</td></tr><tr><td>35</td><td>&quot;Downloads/credit_risk/test/test_applprev_1_1.parquet&quot;</td><td>&quot;test_applprev_1_1.parquet&quot;</td></tr><tr><td>9</td><td>&quot;Downloads/credit_risk/test/test_applprev_1_2.parquet&quot;</td><td>&quot;test_applprev_1_2.parquet&quot;</td></tr><tr><td>1</td><td>&quot;Downloads/credit_risk/test/test_applprev_2.parquet&quot;</td><td>&quot;test_applprev_2.parquet&quot;</td></tr><tr><td>33</td><td>&quot;Downloads/credit_risk/test/test_base.parquet&quot;</td><td>&quot;test_base.parquet&quot;</td></tr></tbody></table></div>"
      ],
      "text/plain": [
       "shape: (5, 3)\n",
       "┌───────┬──────────────────────────────────────────────────────┬───────────────────────────┐\n",
       "│ index ┆ path                                                 ┆ filename                  │\n",
       "│ ---   ┆ ---                                                  ┆ ---                       │\n",
       "│ i64   ┆ str                                                  ┆ str                       │\n",
       "╞═══════╪══════════════════════════════════════════════════════╪═══════════════════════════╡\n",
       "│ 31    ┆ Downloads/credit_risk/test/test_applprev_1_0.parquet ┆ test_applprev_1_0.parquet │\n",
       "│ 35    ┆ Downloads/credit_risk/test/test_applprev_1_1.parquet ┆ test_applprev_1_1.parquet │\n",
       "│ 9     ┆ Downloads/credit_risk/test/test_applprev_1_2.parquet ┆ test_applprev_1_2.parquet │\n",
       "│ 1     ┆ Downloads/credit_risk/test/test_applprev_2.parquet   ┆ test_applprev_2.parquet   │\n",
       "│ 33    ┆ Downloads/credit_risk/test/test_base.parquet         ┆ test_base.parquet         │\n",
       "└───────┴──────────────────────────────────────────────────────┴───────────────────────────┘"
      ]
     },
     "metadata": {},
     "output_type": "display_data"
    }
   ],
   "source": [
    "all_train_files = glob(\"Downloads/credit_risk/train/*.parquet\")\n",
    "all_test_files = glob(\"Downloads/credit_risk/test/*.parquet\")\n",
    "train_files_df = pl.DataFrame({\"index\":range(len(all_train_files)),\"path\":all_train_files})\n",
    "test_files_df = pl.DataFrame({\"index\":range(len(all_test_files)),\"path\":all_test_files})\n",
    "train_files_df = (\n",
    "    train_files_df\n",
    "    .with_columns(\n",
    "        (pl.col(\"path\").str.split(\"/\").list.get(-1)).alias(\"filename\")\n",
    "    )\n",
    "    .sort(by=\"filename\")\n",
    ")\n",
    "test_files_df = (\n",
    "    test_files_df\n",
    "    .with_columns(\n",
    "        (pl.col(\"path\").str.split(\"/\").list.get(-1)).alias(\"filename\")\n",
    "    )\n",
    "    .sort(by=\"filename\")\n",
    ")\n",
    "display(train_files_df.head())\n",
    "display(test_files_df.head())"
   ]
  },
  {
   "cell_type": "code",
   "execution_count": 10,
   "metadata": {},
   "outputs": [
    {
     "data": {
      "text/html": [
       "<div><style>\n",
       ".dataframe > thead > tr,\n",
       ".dataframe > tbody > tr {\n",
       "  text-align: right;\n",
       "  white-space: pre-wrap;\n",
       "}\n",
       "</style>\n",
       "<small>shape: (1, 3)</small><table border=\"1\" class=\"dataframe\"><thead><tr><th>index</th><th>path</th><th>filename</th></tr><tr><td>i64</td><td>str</td><td>str</td></tr></thead><tbody><tr><td>7</td><td>&quot;Downloads/credit_risk/train/train_base.parquet&quot;</td><td>&quot;train_base.parquet&quot;</td></tr></tbody></table></div>"
      ],
      "text/plain": [
       "shape: (1, 3)\n",
       "┌───────┬────────────────────────────────────────────────┬────────────────────┐\n",
       "│ index ┆ path                                           ┆ filename           │\n",
       "│ ---   ┆ ---                                            ┆ ---                │\n",
       "│ i64   ┆ str                                            ┆ str                │\n",
       "╞═══════╪════════════════════════════════════════════════╪════════════════════╡\n",
       "│ 7     ┆ Downloads/credit_risk/train/train_base.parquet ┆ train_base.parquet │\n",
       "└───────┴────────────────────────────────────────────────┴────────────────────┘"
      ]
     },
     "execution_count": 10,
     "metadata": {},
     "output_type": "execute_result"
    }
   ],
   "source": [
    "train_files_df.filter(pl.col(\"filename\").str.contains(\"base\"))"
   ]
  },
  {
   "cell_type": "code",
   "execution_count": 11,
   "metadata": {},
   "outputs": [
    {
     "data": {
      "text/html": [
       "<div><style>\n",
       ".dataframe > thead > tr,\n",
       ".dataframe > tbody > tr {\n",
       "  text-align: right;\n",
       "  white-space: pre-wrap;\n",
       "}\n",
       "</style>\n",
       "<small>shape: (5, 5)</small><table border=\"1\" class=\"dataframe\"><thead><tr><th>case_id_base</th><th>month</th><th>week</th><th>weekday</th><th>target</th></tr><tr><td>u32</td><td>i8</td><td>i8</td><td>i8</td><td>u8</td></tr></thead><tbody><tr><td>0</td><td>1</td><td>1</td><td>4</td><td>0</td></tr><tr><td>1</td><td>1</td><td>1</td><td>4</td><td>0</td></tr><tr><td>2</td><td>1</td><td>1</td><td>5</td><td>0</td></tr><tr><td>3</td><td>1</td><td>1</td><td>4</td><td>0</td></tr><tr><td>4</td><td>1</td><td>1</td><td>5</td><td>1</td></tr></tbody></table></div>"
      ],
      "text/plain": [
       "shape: (5, 5)\n",
       "┌──────────────┬───────┬──────┬─────────┬────────┐\n",
       "│ case_id_base ┆ month ┆ week ┆ weekday ┆ target │\n",
       "│ ---          ┆ ---   ┆ ---  ┆ ---     ┆ ---    │\n",
       "│ u32          ┆ i8    ┆ i8   ┆ i8      ┆ u8     │\n",
       "╞══════════════╪═══════╪══════╪═════════╪════════╡\n",
       "│ 0            ┆ 1     ┆ 1    ┆ 4       ┆ 0      │\n",
       "│ 1            ┆ 1     ┆ 1    ┆ 4       ┆ 0      │\n",
       "│ 2            ┆ 1     ┆ 1    ┆ 5       ┆ 0      │\n",
       "│ 3            ┆ 1     ┆ 1    ┆ 4       ┆ 0      │\n",
       "│ 4            ┆ 1     ┆ 1    ┆ 5       ┆ 1      │\n",
       "└──────────────┴───────┴──────┴─────────┴────────┘"
      ]
     },
     "metadata": {},
     "output_type": "display_data"
    },
    {
     "data": {
      "text/plain": [
       "(1526659, 5)"
      ]
     },
     "execution_count": 11,
     "metadata": {},
     "output_type": "execute_result"
    }
   ],
   "source": [
    "train_base = (\n",
    "    pl.scan_parquet(all_train_files[7])\n",
    "    .select(\n",
    "        pl.col(\"case_id\").cast(pl.UInt32).alias(\"case_id_base\"),\n",
    "        cs.contains(\"date\").str.to_date().alias(\"date\"),\n",
    "        pl.col(\"target\").cast(pl.UInt8)\n",
    "    )\n",
    "    .with_columns(\n",
    "        pl.col(\"date\").dt.month().alias(\"month\"),\n",
    "        pl.col(\"date\").dt.week().alias(\"week\"),\n",
    "        pl.col(\"date\").dt.weekday().alias(\"weekday\")\n",
    "    )\n",
    "\n",
    "    .select(~cs.contains([\"target\",\"date\"]),cs.contains(\"target\"))\n",
    ")\n",
    "display(train_base.fetch().head())\n",
    "train_base.collect(streaming=True).shape"
   ]
  },
  {
   "cell_type": "code",
   "execution_count": 12,
   "metadata": {},
   "outputs": [
    {
     "data": {
      "text/html": [
       "<div><style>\n",
       ".dataframe > thead > tr,\n",
       ".dataframe > tbody > tr {\n",
       "  text-align: right;\n",
       "  white-space: pre-wrap;\n",
       "}\n",
       "</style>\n",
       "<small>shape: (1, 3)</small><table border=\"1\" class=\"dataframe\"><thead><tr><th>index</th><th>path</th><th>filename</th></tr><tr><td>i64</td><td>str</td><td>str</td></tr></thead><tbody><tr><td>33</td><td>&quot;Downloads/credit_risk/test/test_base.parquet&quot;</td><td>&quot;test_base.parquet&quot;</td></tr></tbody></table></div>"
      ],
      "text/plain": [
       "shape: (1, 3)\n",
       "┌───────┬──────────────────────────────────────────────┬───────────────────┐\n",
       "│ index ┆ path                                         ┆ filename          │\n",
       "│ ---   ┆ ---                                          ┆ ---               │\n",
       "│ i64   ┆ str                                          ┆ str               │\n",
       "╞═══════╪══════════════════════════════════════════════╪═══════════════════╡\n",
       "│ 33    ┆ Downloads/credit_risk/test/test_base.parquet ┆ test_base.parquet │\n",
       "└───────┴──────────────────────────────────────────────┴───────────────────┘"
      ]
     },
     "execution_count": 12,
     "metadata": {},
     "output_type": "execute_result"
    }
   ],
   "source": [
    "test_files_df.filter(pl.col(\"filename\").str.contains(\"base\"))"
   ]
  },
  {
   "cell_type": "code",
   "execution_count": 13,
   "metadata": {},
   "outputs": [
    {
     "data": {
      "text/html": [
       "<div><style>\n",
       ".dataframe > thead > tr,\n",
       ".dataframe > tbody > tr {\n",
       "  text-align: right;\n",
       "  white-space: pre-wrap;\n",
       "}\n",
       "</style>\n",
       "<small>shape: (5, 4)</small><table border=\"1\" class=\"dataframe\"><thead><tr><th>case_id_base</th><th>month</th><th>week</th><th>weekday</th></tr><tr><td>u32</td><td>i8</td><td>i8</td><td>i8</td></tr></thead><tbody><tr><td>57543</td><td>10</td><td>41</td><td>2</td></tr><tr><td>57549</td><td>10</td><td>41</td><td>2</td></tr><tr><td>57551</td><td>10</td><td>41</td><td>2</td></tr><tr><td>57552</td><td>10</td><td>41</td><td>3</td></tr><tr><td>57569</td><td>10</td><td>41</td><td>2</td></tr></tbody></table></div>"
      ],
      "text/plain": [
       "shape: (5, 4)\n",
       "┌──────────────┬───────┬──────┬─────────┐\n",
       "│ case_id_base ┆ month ┆ week ┆ weekday │\n",
       "│ ---          ┆ ---   ┆ ---  ┆ ---     │\n",
       "│ u32          ┆ i8    ┆ i8   ┆ i8      │\n",
       "╞══════════════╪═══════╪══════╪═════════╡\n",
       "│ 57543        ┆ 10    ┆ 41   ┆ 2       │\n",
       "│ 57549        ┆ 10    ┆ 41   ┆ 2       │\n",
       "│ 57551        ┆ 10    ┆ 41   ┆ 2       │\n",
       "│ 57552        ┆ 10    ┆ 41   ┆ 3       │\n",
       "│ 57569        ┆ 10    ┆ 41   ┆ 2       │\n",
       "└──────────────┴───────┴──────┴─────────┘"
      ]
     },
     "metadata": {},
     "output_type": "display_data"
    },
    {
     "name": "stdout",
     "output_type": "stream",
     "text": [
      "(10, 4)\n"
     ]
    }
   ],
   "source": [
    "test_base = (\n",
    "    pl.scan_parquet(all_test_files[33])\n",
    "    .select(\n",
    "        pl.col(\"case_id\").cast(pl.UInt32).alias(\"case_id_base\"),\n",
    "        cs.contains(\"date\").str.to_date().alias(\"date\"),\n",
    "    )\n",
    "    .with_columns(\n",
    "        pl.col(\"date\").dt.month().alias(\"month\"),\n",
    "        pl.col(\"date\").dt.week().alias(\"week\"),\n",
    "        pl.col(\"date\").dt.weekday().alias(\"weekday\")\n",
    "    )\n",
    "\n",
    "    .select(~cs.contains([\"date\"]),cs.contains(\"target\"))\n",
    ")\n",
    "display(test_base.fetch().head())\n",
    "print(test_base.collect(streaming=True).shape)"
   ]
  },
  {
   "cell_type": "code",
   "execution_count": 14,
   "metadata": {},
   "outputs": [
    {
     "data": {
      "text/html": [
       "<div><style>\n",
       ".dataframe > thead > tr,\n",
       ".dataframe > tbody > tr {\n",
       "  text-align: right;\n",
       "  white-space: pre-wrap;\n",
       "}\n",
       "</style>\n",
       "<small>shape: (3, 3)</small><table border=\"1\" class=\"dataframe\"><thead><tr><th>index</th><th>path</th><th>filename</th></tr><tr><td>i64</td><td>str</td><td>str</td></tr></thead><tbody><tr><td>31</td><td>&quot;Downloads/credit_risk/train/train_applprev_1_0.parquet&quot;</td><td>&quot;train_applprev_1_0.parquet&quot;</td></tr><tr><td>13</td><td>&quot;Downloads/credit_risk/train/train_applprev_1_1.parquet&quot;</td><td>&quot;train_applprev_1_1.parquet&quot;</td></tr><tr><td>0</td><td>&quot;Downloads/credit_risk/train/train_applprev_2.parquet&quot;</td><td>&quot;train_applprev_2.parquet&quot;</td></tr></tbody></table></div>"
      ],
      "text/plain": [
       "shape: (3, 3)\n",
       "┌───────┬────────────────────────────────────────────────────────┬────────────────────────────┐\n",
       "│ index ┆ path                                                   ┆ filename                   │\n",
       "│ ---   ┆ ---                                                    ┆ ---                        │\n",
       "│ i64   ┆ str                                                    ┆ str                        │\n",
       "╞═══════╪════════════════════════════════════════════════════════╪════════════════════════════╡\n",
       "│ 31    ┆ Downloads/credit_risk/train/train_applprev_1_0.parquet ┆ train_applprev_1_0.parquet │\n",
       "│ 13    ┆ Downloads/credit_risk/train/train_applprev_1_1.parquet ┆ train_applprev_1_1.parquet │\n",
       "│ 0     ┆ Downloads/credit_risk/train/train_applprev_2.parquet   ┆ train_applprev_2.parquet   │\n",
       "└───────┴────────────────────────────────────────────────────────┴────────────────────────────┘"
      ]
     },
     "execution_count": 14,
     "metadata": {},
     "output_type": "execute_result"
    }
   ],
   "source": [
    "train_files_df.filter(pl.col(\"filename\").str.contains(\"appl\"))"
   ]
  },
  {
   "cell_type": "markdown",
   "metadata": {},
   "source": [
    "## Case_id, num_group1 and num_group2 relationships\n",
    "\n",
    "<font size=6>\n",
    "\n",
    "Goal of this competition is to predict risk quality of clients (or to be precise applications of clients), so client and his/her application is entity (case_id) for which your model predict probability of default (credit score).\n",
    "\n",
    "- depth=0 (what we call static attributes) are attributes that are aggregated on case_id level. Example can be age of client or gender, 1 records per 1 case_id.\n",
    "\n",
    "- depth=1, those are attributes where we have several records per client/application. Example can be previous applications or loans in credit bureau register, each client can have from 0 to n records. Therefore, for one case_id there might be several records, and to index them we use num_group1\n",
    "\n",
    "- depth=2: For some attributes with depth=1 we have more detailed information, for example for previous applications we have data about instalments like date of payments or days past due of each payments. It means for each previous application, you can have 0…n records about instalments/payments. And as an index is used num_group2\n",
    "\n",
    "To sum up, 1 client can have several previous applications, and each of those previous applications can have several records about instalments, payments, days past due, etc.\n",
    "\n",
    "- num_group1 : 0 -> 19\n",
    "- num_group2 : 0 -> 11"
   ]
  },
  {
   "cell_type": "markdown",
   "metadata": {},
   "source": [
    "## Functions"
   ]
  },
  {
   "cell_type": "code",
   "execution_count": 15,
   "metadata": {},
   "outputs": [],
   "source": [
    "def select_imputable_cols(df:pl.LazyFrame,threshold:int=10) -> pl.LazyFrame:\n",
    "    col_list = (\n",
    "        df\n",
    "        .collect(streaming=True)\n",
    "        .pipe(lambda df: (df.null_count()/df.shape[0])*100)\n",
    "        .transpose(include_header=True,column_names=[\"percentage of nulls\"])\n",
    "        .join(\n",
    "            feat_df,\n",
    "            left_on=\"column\",\n",
    "            right_on=\"Variable\",\n",
    "            how=\"left\"\n",
    "        )\n",
    "        .sort(by=\"percentage of nulls\")\n",
    "        .select([\"column\",\"Description\",\"percentage of nulls\"])\n",
    "        .filter(pl.col(\"percentage of nulls\") < threshold)\n",
    "        [\"column\"].to_list()\n",
    "    )\n",
    "    _ = df.select(col_list).lazy()\n",
    "    gc.collect()\n",
    "    return _"
   ]
  },
  {
   "cell_type": "code",
   "execution_count": 16,
   "metadata": {},
   "outputs": [],
   "source": [
    "def rename_cols(df: pl.LazyFrame) -> pl.LazyFrame:\n",
    "    return (\n",
    "        df\n",
    "        .pipe(\n",
    "            lambda df: df.rename(\n",
    "                {_:_ + \" \" + feat_df.filter(pl.col(\"Variable\") == _).select(\"Description\").item() for _ in df.columns if _ not in [\"case_id\",\"num_group1\",\"num_group2\"]}\n",
    "            )\n",
    "        )\n",
    "    )"
   ]
  },
  {
   "cell_type": "code",
   "execution_count": 17,
   "metadata": {},
   "outputs": [],
   "source": [
    "train_previous_application = (\n",
    "    pl.scan_parquet(path_to_train/\"train_applprev_1_*.parquet\",rechunk=True)\n",
    "    .drop(cs.contains(\"date\"))\n",
    "    .select(\n",
    "        pl.col(\"case_id\").cast(pl.UInt32),\n",
    "        cs.contains(\"num_group\").cast(pl.UInt8),\n",
    "        cs.float().cast(pl.Float32),\n",
    "        cs.string().cast(pl.Categorical),\n",
    "    )\n",
    "    .pipe(select_imputable_cols)\n",
    "    .pipe(rename_cols)\n",
    ")"
   ]
  },
  {
   "cell_type": "code",
   "execution_count": 18,
   "metadata": {},
   "outputs": [
    {
     "data": {
      "text/html": [
       "<div><style>\n",
       ".dataframe > thead > tr,\n",
       ".dataframe > tbody > tr {\n",
       "  text-align: right;\n",
       "  white-space: pre-wrap;\n",
       "}\n",
       "</style>\n",
       "<small>shape: (10, 20)</small><table border=\"1\" class=\"dataframe\"><thead><tr><th>case_id</th><th>num_group1</th><th>cancelreason_3545846M Application cancellation reason.</th><th>district_544M District of the address used in the previous loan application.</th><th>education_1138M Applicant&#x27;s education level from their previous application.</th><th>postype_4733339M Type of point of sale.</th><th>profession_152M Profession of the client during their previous loan application.</th><th>rejectreason_755M Reason for previous application rejection.</th><th>rejectreasonclient_4145042M Reason for rejection of the client&#x27;s previous application.</th><th>status_219L Previous application status.</th><th>actualdpd_943P Days Past Due (DPD) of previous contract (actual).</th><th>mainoccupationinc_437A Client&#x27;s main income amount in their previous application.</th><th>credacc_credlmt_575A Credit card credit limit provided for previous applications.</th><th>credamount_590A Loan amount or card limit of previous applications.</th><th>downpmt_134A Previous application downpayment amount.</th><th>credtype_587L Credit type of previous application.</th><th>inittransactioncode_279L Type of the initial transaction made in the previous application of the client.</th><th>annuity_853A Monthly annuity for previous applications.</th><th>pmtnum_8L Number of payments made for the previous application.</th><th>tenor_203L Number of instalments in the previous application.</th></tr><tr><td>u32</td><td>u8</td><td>cat</td><td>cat</td><td>cat</td><td>cat</td><td>cat</td><td>cat</td><td>cat</td><td>cat</td><td>f32</td><td>f32</td><td>f32</td><td>f32</td><td>f32</td><td>cat</td><td>cat</td><td>f32</td><td>f32</td><td>f32</td></tr></thead><tbody><tr><td>2</td><td>0</td><td>&quot;a55475b1&quot;</td><td>&quot;P136_108_173&quot;</td><td>&quot;P97_36_170&quot;</td><td>&quot;a55475b1&quot;</td><td>&quot;a55475b1&quot;</td><td>&quot;a55475b1&quot;</td><td>&quot;a55475b1&quot;</td><td>&quot;D&quot;</td><td>0.00</td><td>8200.00</td><td>0.00</td><td>10000.00</td><td>0.00</td><td>&quot;CAL&quot;</td><td>&quot;CASH&quot;</td><td>640.20</td><td>24.00</td><td>24.00</td></tr><tr><td>2</td><td>1</td><td>&quot;a55475b1&quot;</td><td>&quot;P136_108_173&quot;</td><td>&quot;P97_36_170&quot;</td><td>&quot;a55475b1&quot;</td><td>&quot;a55475b1&quot;</td><td>&quot;a55475b1&quot;</td><td>&quot;a55475b1&quot;</td><td>&quot;D&quot;</td><td>0.00</td><td>8200.00</td><td>0.00</td><td>16000.00</td><td>0.00</td><td>&quot;CAL&quot;</td><td>&quot;CASH&quot;</td><td>1682.40</td><td>12.00</td><td>12.00</td></tr><tr><td>3</td><td>0</td><td>&quot;P94_109_143&quot;</td><td>&quot;P131_33_167&quot;</td><td>&quot;P97_36_170&quot;</td><td>&quot;a55475b1&quot;</td><td>&quot;a55475b1&quot;</td><td>&quot;P94_109_143&quot;</td><td>&quot;a55475b1&quot;</td><td>&quot;D&quot;</td><td>0.00</td><td>11000.00</td><td>0.00</td><td>59999.80</td><td>0.00</td><td>&quot;CAL&quot;</td><td>&quot;CASH&quot;</td><td>6140.00</td><td>12.00</td><td>12.00</td></tr><tr><td>4</td><td>0</td><td>&quot;P24_27_36&quot;</td><td>&quot;P194_82_174&quot;</td><td>&quot;a55475b1&quot;</td><td>&quot;a55475b1&quot;</td><td>&quot;a55475b1&quot;</td><td>&quot;a55475b1&quot;</td><td>&quot;a55475b1&quot;</td><td>&quot;T&quot;</td><td>0.00</td><td>16000.00</td><td>0.00</td><td>40000.00</td><td>0.00</td><td>&quot;CAL&quot;</td><td>&quot;CASH&quot;</td><td>2556.60</td><td>24.00</td><td>24.00</td></tr><tr><td>5</td><td>0</td><td>&quot;P85_114_140&quot;</td><td>&quot;P54_133_26&quot;</td><td>&quot;a55475b1&quot;</td><td>&quot;a55475b1&quot;</td><td>&quot;a55475b1&quot;</td><td>&quot;a55475b1&quot;</td><td>&quot;a55475b1&quot;</td><td>&quot;T&quot;</td><td>0.00</td><td>62000.00</td><td>null</td><td>null</td><td>null</td><td>null</td><td>null</td><td>null</td><td>null</td><td>null</td></tr><tr><td>6</td><td>0</td><td>&quot;P94_109_143&quot;</td><td>&quot;P82_154_182&quot;</td><td>&quot;a55475b1&quot;</td><td>&quot;a55475b1&quot;</td><td>&quot;a55475b1&quot;</td><td>&quot;P94_109_143&quot;</td><td>&quot;a55475b1&quot;</td><td>&quot;D&quot;</td><td>0.00</td><td>37000.00</td><td>0.00</td><td>15980.00</td><td>0.00</td><td>&quot;CAL&quot;</td><td>&quot;CASH&quot;</td><td>1773.80</td><td>11.00</td><td>11.00</td></tr><tr><td>6</td><td>1</td><td>&quot;P94_109_143&quot;</td><td>&quot;P82_154_182&quot;</td><td>&quot;P97_36_170&quot;</td><td>&quot;a55475b1&quot;</td><td>&quot;a55475b1&quot;</td><td>&quot;P94_109_143&quot;</td><td>&quot;a55475b1&quot;</td><td>&quot;D&quot;</td><td>0.00</td><td>35000.00</td><td>0.00</td><td>32000.00</td><td>0.00</td><td>&quot;CAL&quot;</td><td>&quot;CASH&quot;</td><td>4189.60</td><td>11.00</td><td>11.00</td></tr><tr><td>6</td><td>2</td><td>&quot;a55475b1&quot;</td><td>&quot;a55475b1&quot;</td><td>&quot;P97_36_170&quot;</td><td>&quot;a55475b1&quot;</td><td>&quot;a55475b1&quot;</td><td>&quot;a55475b1&quot;</td><td>&quot;a55475b1&quot;</td><td>&quot;D&quot;</td><td>0.00</td><td>14000.00</td><td>0.00</td><td>17380.00</td><td>0.00</td><td>&quot;COL&quot;</td><td>&quot;POS&quot;</td><td>1110.40</td><td>24.00</td><td>24.00</td></tr><tr><td>10</td><td>0</td><td>&quot;P73_130_169&quot;</td><td>&quot;P38_65_49&quot;</td><td>&quot;P17_36_170&quot;</td><td>&quot;a55475b1&quot;</td><td>&quot;a55475b1&quot;</td><td>&quot;a55475b1&quot;</td><td>&quot;a55475b1&quot;</td><td>&quot;T&quot;</td><td>0.00</td><td>57000.00</td><td>0.00</td><td>100000.00</td><td>0.00</td><td>&quot;CAL&quot;</td><td>&quot;CASH&quot;</td><td>10916.60</td><td>12.00</td><td>12.00</td></tr><tr><td>13</td><td>0</td><td>&quot;P94_109_143&quot;</td><td>&quot;P120_80_181&quot;</td><td>&quot;a55475b1&quot;</td><td>&quot;a55475b1&quot;</td><td>&quot;a55475b1&quot;</td><td>&quot;P94_109_143&quot;</td><td>&quot;a55475b1&quot;</td><td>&quot;D&quot;</td><td>0.00</td><td>64000.00</td><td>0.00</td><td>40000.00</td><td>0.00</td><td>&quot;CAL&quot;</td><td>&quot;CASH&quot;</td><td>5069.60</td><td>12.00</td><td>12.00</td></tr></tbody></table></div>"
      ],
      "text/plain": [
       "shape: (10, 20)\n",
       "┌─────────┬────────────┬───────────┬───────────┬───┬───────────┬───────────┬───────────┬───────────┐\n",
       "│ case_id ┆ num_group1 ┆ cancelrea ┆ district_ ┆ … ┆ inittrans ┆ annuity_8 ┆ pmtnum_8L ┆ tenor_203 │\n",
       "│ ---     ┆ ---        ┆ son_35458 ┆ 544M      ┆   ┆ actioncod ┆ 53A       ┆ Number of ┆ L Number  │\n",
       "│ u32     ┆ u8         ┆ 46M Appli ┆ District  ┆   ┆ e_279L    ┆ Monthly   ┆ payments  ┆ of instal │\n",
       "│         ┆            ┆ cation    ┆ of the    ┆   ┆ Type of   ┆ annuity   ┆ made for  ┆ ments in  │\n",
       "│         ┆            ┆ cancellat ┆ address   ┆   ┆ the       ┆ for       ┆ the       ┆ the       │\n",
       "│         ┆            ┆ ion       ┆ used in   ┆   ┆ initial   ┆ previous  ┆ previous  ┆ previous  │\n",
       "│         ┆            ┆ reason.   ┆ the       ┆   ┆ transacti ┆ applicati ┆ applicati ┆ applicati │\n",
       "│         ┆            ┆ ---       ┆ previous  ┆   ┆ on made   ┆ ons.      ┆ on.       ┆ on.       │\n",
       "│         ┆            ┆ cat       ┆ loan appl ┆   ┆ in the    ┆ ---       ┆ ---       ┆ ---       │\n",
       "│         ┆            ┆           ┆ ication.  ┆   ┆ previous  ┆ f32       ┆ f32       ┆ f32       │\n",
       "│         ┆            ┆           ┆ ---       ┆   ┆ applicati ┆           ┆           ┆           │\n",
       "│         ┆            ┆           ┆ cat       ┆   ┆ on of the ┆           ┆           ┆           │\n",
       "│         ┆            ┆           ┆           ┆   ┆ cli…      ┆           ┆           ┆           │\n",
       "│         ┆            ┆           ┆           ┆   ┆ ---       ┆           ┆           ┆           │\n",
       "│         ┆            ┆           ┆           ┆   ┆ cat       ┆           ┆           ┆           │\n",
       "╞═════════╪════════════╪═══════════╪═══════════╪═══╪═══════════╪═══════════╪═══════════╪═══════════╡\n",
       "│ 2       ┆ 0          ┆ a55475b1  ┆ P136_108_ ┆ … ┆ CASH      ┆ 640.20    ┆ 24.00     ┆ 24.00     │\n",
       "│         ┆            ┆           ┆ 173       ┆   ┆           ┆           ┆           ┆           │\n",
       "│ 2       ┆ 1          ┆ a55475b1  ┆ P136_108_ ┆ … ┆ CASH      ┆ 1682.40   ┆ 12.00     ┆ 12.00     │\n",
       "│         ┆            ┆           ┆ 173       ┆   ┆           ┆           ┆           ┆           │\n",
       "│ 3       ┆ 0          ┆ P94_109_1 ┆ P131_33_1 ┆ … ┆ CASH      ┆ 6140.00   ┆ 12.00     ┆ 12.00     │\n",
       "│         ┆            ┆ 43        ┆ 67        ┆   ┆           ┆           ┆           ┆           │\n",
       "│ 4       ┆ 0          ┆ P24_27_36 ┆ P194_82_1 ┆ … ┆ CASH      ┆ 2556.60   ┆ 24.00     ┆ 24.00     │\n",
       "│         ┆            ┆           ┆ 74        ┆   ┆           ┆           ┆           ┆           │\n",
       "│ 5       ┆ 0          ┆ P85_114_1 ┆ P54_133_2 ┆ … ┆ null      ┆ null      ┆ null      ┆ null      │\n",
       "│         ┆            ┆ 40        ┆ 6         ┆   ┆           ┆           ┆           ┆           │\n",
       "│ 6       ┆ 0          ┆ P94_109_1 ┆ P82_154_1 ┆ … ┆ CASH      ┆ 1773.80   ┆ 11.00     ┆ 11.00     │\n",
       "│         ┆            ┆ 43        ┆ 82        ┆   ┆           ┆           ┆           ┆           │\n",
       "│ 6       ┆ 1          ┆ P94_109_1 ┆ P82_154_1 ┆ … ┆ CASH      ┆ 4189.60   ┆ 11.00     ┆ 11.00     │\n",
       "│         ┆            ┆ 43        ┆ 82        ┆   ┆           ┆           ┆           ┆           │\n",
       "│ 6       ┆ 2          ┆ a55475b1  ┆ a55475b1  ┆ … ┆ POS       ┆ 1110.40   ┆ 24.00     ┆ 24.00     │\n",
       "│ 10      ┆ 0          ┆ P73_130_1 ┆ P38_65_49 ┆ … ┆ CASH      ┆ 10916.60  ┆ 12.00     ┆ 12.00     │\n",
       "│         ┆            ┆ 69        ┆           ┆   ┆           ┆           ┆           ┆           │\n",
       "│ 13      ┆ 0          ┆ P94_109_1 ┆ P120_80_1 ┆ … ┆ CASH      ┆ 5069.60   ┆ 12.00     ┆ 12.00     │\n",
       "│         ┆            ┆ 43        ┆ 81        ┆   ┆           ┆           ┆           ┆           │\n",
       "└─────────┴────────────┴───────────┴───────────┴───┴───────────┴───────────┴───────────┴───────────┘"
      ]
     },
     "execution_count": 18,
     "metadata": {},
     "output_type": "execute_result"
    }
   ],
   "source": [
    "train_previous_application.fetch().head(10)"
   ]
  },
  {
   "cell_type": "code",
   "execution_count": 19,
   "metadata": {},
   "outputs": [
    {
     "data": {
      "text/html": [
       "<div><style>\n",
       ".dataframe > thead > tr,\n",
       ".dataframe > tbody > tr {\n",
       "  text-align: right;\n",
       "  white-space: pre-wrap;\n",
       "}\n",
       "</style>\n",
       "<small>shape: (5, 20)</small><table border=\"1\" class=\"dataframe\"><thead><tr><th>case_id</th><th>num_group1</th><th>actualdpd_943P Days Past Due (DPD) of previous contract (actual).</th><th>mainoccupationinc_437A Client&#x27;s main income amount in their previous application.</th><th>credacc_credlmt_575A Credit card credit limit provided for previous applications.</th><th>credamount_590A Loan amount or card limit of previous applications.</th><th>downpmt_134A Previous application downpayment amount.</th><th>annuity_853A Monthly annuity for previous applications.</th><th>pmtnum_8L Number of payments made for the previous application.</th><th>tenor_203L Number of instalments in the previous application.</th><th>cancelreason_3545846M Application cancellation reason.</th><th>district_544M District of the address used in the previous loan application.</th><th>education_1138M Applicant&#x27;s education level from their previous application.</th><th>postype_4733339M Type of point of sale.</th><th>profession_152M Profession of the client during their previous loan application.</th><th>rejectreason_755M Reason for previous application rejection.</th><th>rejectreasonclient_4145042M Reason for rejection of the client&#x27;s previous application.</th><th>status_219L Previous application status.</th><th>credtype_587L Credit type of previous application.</th><th>inittransactioncode_279L Type of the initial transaction made in the previous application of the client.</th></tr><tr><td>u32</td><td>u8</td><td>f32</td><td>f32</td><td>f32</td><td>f32</td><td>f32</td><td>f32</td><td>f32</td><td>f32</td><td>cat</td><td>cat</td><td>cat</td><td>cat</td><td>cat</td><td>cat</td><td>cat</td><td>cat</td><td>cat</td><td>cat</td></tr></thead><tbody><tr><td>2</td><td>0</td><td>0.00</td><td>8200.00</td><td>0.00</td><td>16000.00</td><td>0.00</td><td>1682.40</td><td>24.00</td><td>24.00</td><td>&quot;a55475b1&quot;</td><td>&quot;P136_108_173&quot;</td><td>&quot;P97_36_170&quot;</td><td>&quot;a55475b1&quot;</td><td>&quot;a55475b1&quot;</td><td>&quot;a55475b1&quot;</td><td>&quot;a55475b1&quot;</td><td>&quot;D&quot;</td><td>&quot;CAL&quot;</td><td>&quot;CASH&quot;</td></tr><tr><td>3</td><td>0</td><td>0.00</td><td>11000.00</td><td>0.00</td><td>59999.80</td><td>0.00</td><td>6140.00</td><td>12.00</td><td>12.00</td><td>&quot;P94_109_143&quot;</td><td>&quot;P131_33_167&quot;</td><td>&quot;P97_36_170&quot;</td><td>&quot;a55475b1&quot;</td><td>&quot;a55475b1&quot;</td><td>&quot;P94_109_143&quot;</td><td>&quot;a55475b1&quot;</td><td>&quot;D&quot;</td><td>&quot;CAL&quot;</td><td>&quot;CASH&quot;</td></tr><tr><td>4</td><td>0</td><td>0.00</td><td>16000.00</td><td>0.00</td><td>40000.00</td><td>0.00</td><td>2556.60</td><td>24.00</td><td>24.00</td><td>&quot;P24_27_36&quot;</td><td>&quot;P194_82_174&quot;</td><td>&quot;a55475b1&quot;</td><td>&quot;a55475b1&quot;</td><td>&quot;a55475b1&quot;</td><td>&quot;a55475b1&quot;</td><td>&quot;a55475b1&quot;</td><td>&quot;T&quot;</td><td>&quot;CAL&quot;</td><td>&quot;CASH&quot;</td></tr><tr><td>5</td><td>0</td><td>0.00</td><td>62000.00</td><td>2161.10</td><td>45335.69</td><td>471.80</td><td>3745.33</td><td>18.44</td><td>18.44</td><td>&quot;P85_114_140&quot;</td><td>&quot;P54_133_26&quot;</td><td>&quot;a55475b1&quot;</td><td>&quot;a55475b1&quot;</td><td>&quot;a55475b1&quot;</td><td>&quot;a55475b1&quot;</td><td>&quot;a55475b1&quot;</td><td>&quot;T&quot;</td><td>&quot;CAL&quot;</td><td>&quot;CASH&quot;</td></tr><tr><td>6</td><td>0</td><td>0.00</td><td>37000.00</td><td>0.00</td><td>32000.00</td><td>0.00</td><td>4189.60</td><td>24.00</td><td>24.00</td><td>&quot;P94_109_143&quot;</td><td>&quot;P82_154_182&quot;</td><td>&quot;P97_36_170&quot;</td><td>&quot;a55475b1&quot;</td><td>&quot;a55475b1&quot;</td><td>&quot;P94_109_143&quot;</td><td>&quot;a55475b1&quot;</td><td>&quot;D&quot;</td><td>&quot;CAL&quot;</td><td>&quot;CASH&quot;</td></tr></tbody></table></div>"
      ],
      "text/plain": [
       "shape: (5, 20)\n",
       "┌─────────┬────────────┬───────────┬───────────┬───┬───────────┬───────────┬───────────┬───────────┐\n",
       "│ case_id ┆ num_group1 ┆ actualdpd ┆ mainoccup ┆ … ┆ rejectrea ┆ status_21 ┆ credtype_ ┆ inittrans │\n",
       "│ ---     ┆ ---        ┆ _943P     ┆ ationinc_ ┆   ┆ sonclient ┆ 9L        ┆ 587L      ┆ actioncod │\n",
       "│ u32     ┆ u8         ┆ Days Past ┆ 437A      ┆   ┆ _4145042M ┆ Previous  ┆ Credit    ┆ e_279L    │\n",
       "│         ┆            ┆ Due (DPD) ┆ Client's  ┆   ┆ Reason    ┆ applicati ┆ type of   ┆ Type of   │\n",
       "│         ┆            ┆ of        ┆ main      ┆   ┆ for       ┆ on        ┆ previous  ┆ the       │\n",
       "│         ┆            ┆ previous  ┆ income    ┆   ┆ rejection ┆ status.   ┆ applicati ┆ initial   │\n",
       "│         ┆            ┆ contract  ┆ amount in ┆   ┆ of the    ┆ ---       ┆ on.       ┆ transacti │\n",
       "│         ┆            ┆ (actual). ┆ their     ┆   ┆ client's  ┆ cat       ┆ ---       ┆ on made   │\n",
       "│         ┆            ┆ ---       ┆ previous  ┆   ┆ previous  ┆           ┆ cat       ┆ in the    │\n",
       "│         ┆            ┆ f32       ┆ applicati ┆   ┆ applicati ┆           ┆           ┆ previous  │\n",
       "│         ┆            ┆           ┆ on.       ┆   ┆ on.       ┆           ┆           ┆ applicati │\n",
       "│         ┆            ┆           ┆ ---       ┆   ┆ ---       ┆           ┆           ┆ on of the │\n",
       "│         ┆            ┆           ┆ f32       ┆   ┆ cat       ┆           ┆           ┆ cli…      │\n",
       "│         ┆            ┆           ┆           ┆   ┆           ┆           ┆           ┆ ---       │\n",
       "│         ┆            ┆           ┆           ┆   ┆           ┆           ┆           ┆ cat       │\n",
       "╞═════════╪════════════╪═══════════╪═══════════╪═══╪═══════════╪═══════════╪═══════════╪═══════════╡\n",
       "│ 2       ┆ 0          ┆ 0.00      ┆ 8200.00   ┆ … ┆ a55475b1  ┆ D         ┆ CAL       ┆ CASH      │\n",
       "│ 3       ┆ 0          ┆ 0.00      ┆ 11000.00  ┆ … ┆ a55475b1  ┆ D         ┆ CAL       ┆ CASH      │\n",
       "│ 4       ┆ 0          ┆ 0.00      ┆ 16000.00  ┆ … ┆ a55475b1  ┆ T         ┆ CAL       ┆ CASH      │\n",
       "│ 5       ┆ 0          ┆ 0.00      ┆ 62000.00  ┆ … ┆ a55475b1  ┆ T         ┆ CAL       ┆ CASH      │\n",
       "│ 6       ┆ 0          ┆ 0.00      ┆ 37000.00  ┆ … ┆ a55475b1  ┆ D         ┆ CAL       ┆ CASH      │\n",
       "└─────────┴────────────┴───────────┴───────────┴───┴───────────┴───────────┴───────────┴───────────┘"
      ]
     },
     "execution_count": 19,
     "metadata": {},
     "output_type": "execute_result"
    }
   ],
   "source": [
    "train_previous_application_transformed = (\n",
    "    train_previous_application\n",
    "    .fill_null(strategy=\"mean\")\n",
    "    .group_by(\"case_id\")\n",
    "    .agg(\n",
    "        cs.integer().min(),\n",
    "        cs.float().max(),\n",
    "        cs.categorical().mode().get(0)\n",
    "    )\n",
    "    .sort(by=\"case_id\")\n",
    ")\n",
    "train_previous_application_transformed.fetch().head()"
   ]
  },
  {
   "cell_type": "code",
   "execution_count": 20,
   "metadata": {},
   "outputs": [
    {
     "data": {
      "text/html": [
       "<div><style>\n",
       ".dataframe > thead > tr,\n",
       ".dataframe > tbody > tr {\n",
       "  text-align: right;\n",
       "  white-space: pre-wrap;\n",
       "}\n",
       "</style>\n",
       "<small>shape: (1, 3)</small><table border=\"1\" class=\"dataframe\"><thead><tr><th>index</th><th>path</th><th>filename</th></tr><tr><td>i64</td><td>str</td><td>str</td></tr></thead><tbody><tr><td>0</td><td>&quot;Downloads/credit_risk/train/train_applprev_2.parquet&quot;</td><td>&quot;train_applprev_2.parquet&quot;</td></tr></tbody></table></div>"
      ],
      "text/plain": [
       "shape: (1, 3)\n",
       "┌───────┬──────────────────────────────────────────────────────┬──────────────────────────┐\n",
       "│ index ┆ path                                                 ┆ filename                 │\n",
       "│ ---   ┆ ---                                                  ┆ ---                      │\n",
       "│ i64   ┆ str                                                  ┆ str                      │\n",
       "╞═══════╪══════════════════════════════════════════════════════╪══════════════════════════╡\n",
       "│ 0     ┆ Downloads/credit_risk/train/train_applprev_2.parquet ┆ train_applprev_2.parquet │\n",
       "└───────┴──────────────────────────────────────────────────────┴──────────────────────────┘"
      ]
     },
     "execution_count": 20,
     "metadata": {},
     "output_type": "execute_result"
    }
   ],
   "source": [
    "train_files_df.filter(pl.col(\"filename\").str.contains(\"applprev_2\"))"
   ]
  },
  {
   "cell_type": "code",
   "execution_count": 21,
   "metadata": {},
   "outputs": [
    {
     "data": {
      "text/html": [
       "<div><style>\n",
       ".dataframe > thead > tr,\n",
       ".dataframe > tbody > tr {\n",
       "  text-align: right;\n",
       "  white-space: pre-wrap;\n",
       "}\n",
       "</style>\n",
       "<small>shape: (5, 4)</small><table border=\"1\" class=\"dataframe\"><thead><tr><th>case_id</th><th>num_group1</th><th>num_group2</th><th>cacccardblochreas_147M Card blocking reason.</th></tr><tr><td>u32</td><td>u8</td><td>u8</td><td>cat</td></tr></thead><tbody><tr><td>2</td><td>1</td><td>1</td><td>null</td></tr><tr><td>2</td><td>0</td><td>1</td><td>null</td></tr><tr><td>2</td><td>0</td><td>0</td><td>null</td></tr><tr><td>2</td><td>1</td><td>0</td><td>null</td></tr><tr><td>3</td><td>0</td><td>1</td><td>null</td></tr></tbody></table></div>"
      ],
      "text/plain": [
       "shape: (5, 4)\n",
       "┌─────────┬────────────┬────────────┬──────────────────────────────────────────────┐\n",
       "│ case_id ┆ num_group1 ┆ num_group2 ┆ cacccardblochreas_147M Card blocking reason. │\n",
       "│ ---     ┆ ---        ┆ ---        ┆ ---                                          │\n",
       "│ u32     ┆ u8         ┆ u8         ┆ cat                                          │\n",
       "╞═════════╪════════════╪════════════╪══════════════════════════════════════════════╡\n",
       "│ 2       ┆ 1          ┆ 1          ┆ null                                         │\n",
       "│ 2       ┆ 0          ┆ 1          ┆ null                                         │\n",
       "│ 2       ┆ 0          ┆ 0          ┆ null                                         │\n",
       "│ 2       ┆ 1          ┆ 0          ┆ null                                         │\n",
       "│ 3       ┆ 0          ┆ 1          ┆ null                                         │\n",
       "└─────────┴────────────┴────────────┴──────────────────────────────────────────────┘"
      ]
     },
     "execution_count": 21,
     "metadata": {},
     "output_type": "execute_result"
    }
   ],
   "source": [
    "train_previous_application_personal = (\n",
    "    pl.scan_parquet(all_train_files[0])\n",
    "    .select(\n",
    "        cs.by_name(\"case_id\").cast(pl.UInt32),\n",
    "        cs.contains([\"num_group\"]).cast(pl.UInt8),\n",
    "        cs.string().cast(pl.Categorical)\n",
    "    )\n",
    "    .pipe(select_imputable_cols)\n",
    "    .pipe(rename_cols)\n",
    ")\n",
    "train_previous_application_personal.fetch().head()"
   ]
  },
  {
   "cell_type": "code",
   "execution_count": 25,
   "metadata": {},
   "outputs": [
    {
     "data": {
      "text/html": [
       "<div><style>\n",
       ".dataframe > thead > tr,\n",
       ".dataframe > tbody > tr {\n",
       "  text-align: right;\n",
       "  white-space: pre-wrap;\n",
       "}\n",
       "</style>\n",
       "<small>shape: (5, 4)</small><table border=\"1\" class=\"dataframe\"><thead><tr><th>case_id</th><th>num_group1</th><th>num_group2</th><th>cacccardblochreas_147M Card blocking reason.</th></tr><tr><td>u32</td><td>u8</td><td>u8</td><td>cat</td></tr></thead><tbody><tr><td>103059</td><td>6</td><td>0</td><td>&quot;a55475b1&quot;</td></tr><tr><td>103059</td><td>5</td><td>0</td><td>&quot;a55475b1&quot;</td></tr><tr><td>103059</td><td>7</td><td>0</td><td>&quot;a55475b1&quot;</td></tr><tr><td>103059</td><td>8</td><td>1</td><td>&quot;a55475b1&quot;</td></tr><tr><td>103059</td><td>1</td><td>1</td><td>&quot;a55475b1&quot;</td></tr></tbody></table></div>"
      ],
      "text/plain": [
       "shape: (5, 4)\n",
       "┌─────────┬────────────┬────────────┬──────────────────────────────────────────────┐\n",
       "│ case_id ┆ num_group1 ┆ num_group2 ┆ cacccardblochreas_147M Card blocking reason. │\n",
       "│ ---     ┆ ---        ┆ ---        ┆ ---                                          │\n",
       "│ u32     ┆ u8         ┆ u8         ┆ cat                                          │\n",
       "╞═════════╪════════════╪════════════╪══════════════════════════════════════════════╡\n",
       "│ 103059  ┆ 6          ┆ 0          ┆ a55475b1                                     │\n",
       "│ 103059  ┆ 5          ┆ 0          ┆ a55475b1                                     │\n",
       "│ 103059  ┆ 7          ┆ 0          ┆ a55475b1                                     │\n",
       "│ 103059  ┆ 8          ┆ 1          ┆ a55475b1                                     │\n",
       "│ 103059  ┆ 1          ┆ 1          ┆ a55475b1                                     │\n",
       "└─────────┴────────────┴────────────┴──────────────────────────────────────────────┘"
      ]
     },
     "execution_count": 25,
     "metadata": {},
     "output_type": "execute_result"
    }
   ],
   "source": [
    "(\n",
    "    train_previous_application_personal\n",
    "    .collect(streaming=True)\n",
    "    .filter(~cs.categorical().is_null())\n",
    "    .head()\n",
    ")"
   ]
  },
  {
   "cell_type": "code",
   "execution_count": 109,
   "metadata": {},
   "outputs": [
    {
     "data": {
      "text/html": [
       "<div><style>\n",
       ".dataframe > thead > tr,\n",
       ".dataframe > tbody > tr {\n",
       "  text-align: right;\n",
       "  white-space: pre-wrap;\n",
       "}\n",
       "</style>\n",
       "<small>shape: (5, 4)</small><table border=\"1\" class=\"dataframe\"><thead><tr><th>case_id</th><th>num_group1</th><th>num_group2</th><th>cacccardblochreas_147M Card blocking reason.</th></tr><tr><td>u32</td><td>u8</td><td>u8</td><td>cat</td></tr></thead><tbody><tr><td>2</td><td>1</td><td>1</td><td>null</td></tr><tr><td>2</td><td>0</td><td>1</td><td>null</td></tr><tr><td>2</td><td>0</td><td>0</td><td>null</td></tr><tr><td>2</td><td>1</td><td>0</td><td>null</td></tr><tr><td>3</td><td>0</td><td>1</td><td>null</td></tr></tbody></table></div>"
      ],
      "text/plain": [
       "shape: (5, 4)\n",
       "┌─────────┬────────────┬────────────┬──────────────────────────────────────────────┐\n",
       "│ case_id ┆ num_group1 ┆ num_group2 ┆ cacccardblochreas_147M Card blocking reason. │\n",
       "│ ---     ┆ ---        ┆ ---        ┆ ---                                          │\n",
       "│ u32     ┆ u8         ┆ u8         ┆ cat                                          │\n",
       "╞═════════╪════════════╪════════════╪══════════════════════════════════════════════╡\n",
       "│ 2       ┆ 1          ┆ 1          ┆ null                                         │\n",
       "│ 2       ┆ 0          ┆ 1          ┆ null                                         │\n",
       "│ 2       ┆ 0          ┆ 0          ┆ null                                         │\n",
       "│ 2       ┆ 1          ┆ 0          ┆ null                                         │\n",
       "│ 3       ┆ 0          ┆ 1          ┆ null                                         │\n",
       "└─────────┴────────────┴────────────┴──────────────────────────────────────────────┘"
      ]
     },
     "execution_count": 109,
     "metadata": {},
     "output_type": "execute_result"
    }
   ],
   "source": [
    "train_previous_application_personal_transformed = (\n",
    "    train_previous_application_personal\n",
    "    .with_columns(cs.categorical().fill_null(cs.categorical().drop_nulls().mode().first()))\n",
    ")\n",
    "train_previous_application_personal_transformed.fetch().head()"
   ]
  },
  {
   "cell_type": "code",
   "execution_count": null,
   "metadata": {},
   "outputs": [],
   "source": []
  }
 ],
 "metadata": {
  "kernelspec": {
   "display_name": "base",
   "language": "python",
   "name": "python3"
  },
  "language_info": {
   "codemirror_mode": {
    "name": "ipython",
    "version": 3
   },
   "file_extension": ".py",
   "mimetype": "text/x-python",
   "name": "python",
   "nbconvert_exporter": "python",
   "pygments_lexer": "ipython3",
   "version": "3.11.7"
  }
 },
 "nbformat": 4,
 "nbformat_minor": 2
}
