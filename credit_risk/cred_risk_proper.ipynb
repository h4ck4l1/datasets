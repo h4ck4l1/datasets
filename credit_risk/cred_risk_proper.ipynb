{
 "cells": [
  {
   "cell_type": "code",
   "execution_count": 1,
   "metadata": {},
   "outputs": [
    {
     "data": {
      "text/plain": [
       "'بِسْمِ اللهِ الرَّحْمٰنِ الرَّحِيْمِ'"
      ]
     },
     "execution_count": 1,
     "metadata": {},
     "output_type": "execute_result"
    }
   ],
   "source": [
    "'''بِسْمِ اللهِ الرَّحْمٰنِ الرَّحِيْمِ'''"
   ]
  },
  {
   "cell_type": "code",
   "execution_count": 2,
   "metadata": {},
   "outputs": [
    {
     "data": {
      "text/plain": [
       "'سُبْحَـٰنَكَ لَا عِلْمَ لَنَآ إِلَّا مَا عَلَّمْتَنَآ ۖ إِنَّكَ أَنتَ الْعَلِيمُ الْحَكِيمُ'"
      ]
     },
     "execution_count": 2,
     "metadata": {},
     "output_type": "execute_result"
    }
   ],
   "source": [
    "'''سُبْحَـٰنَكَ لَا عِلْمَ لَنَآ إِلَّا مَا عَلَّمْتَنَآ ۖ إِنَّكَ أَنتَ الْعَلِيمُ الْحَكِيمُ'''"
   ]
  },
  {
   "cell_type": "code",
   "execution_count": 3,
   "metadata": {},
   "outputs": [
    {
     "data": {
      "text/html": [
       "\n",
       "<style>\n",
       "    * {\n",
       "        font-family: Monaco;\n",
       "    }\n",
       "</style>\n"
      ],
      "text/plain": [
       "<IPython.core.display.HTML object>"
      ]
     },
     "execution_count": 3,
     "metadata": {},
     "output_type": "execute_result"
    }
   ],
   "source": [
    "from IPython.core.display import HTML\n",
    "HTML(r\"\"\"\n",
    "<style>\n",
    "    * {\n",
    "        font-family: Monaco;\n",
    "    }\n",
    "</style>\n",
    "\"\"\")"
   ]
  },
  {
   "cell_type": "code",
   "execution_count": 4,
   "metadata": {},
   "outputs": [
    {
     "data": {
      "text/plain": [
       "12"
      ]
     },
     "execution_count": 4,
     "metadata": {},
     "output_type": "execute_result"
    }
   ],
   "source": [
    "import os,sys,warnings,re,math,gc,time\n",
    "warnings.filterwarnings(\"ignore\")\n",
    "os.cpu_count()"
   ]
  },
  {
   "cell_type": "code",
   "execution_count": 5,
   "metadata": {},
   "outputs": [
    {
     "name": "stdout",
     "output_type": "stream",
     "text": [
      "Exception reporting mode: Minimal\n"
     ]
    }
   ],
   "source": [
    "os.environ[\"POLARS_MAX_THREADS\"] = \"40\"\n",
    "import numpy as np\n",
    "import pandas as pd\n",
    "import polars as pl\n",
    "import polars.selectors as cs\n",
    "from glob import glob\n",
    "from pathlib import Path\n",
    "from tqdm import tqdm\n",
    "from concurrent.futures import ThreadPoolExecutor\n",
    "import plotly.express as px\n",
    "import plotly.graph_objects as go\n",
    "import plotly.io as pio\n",
    "from plotly.subplots import make_subplots\n",
    "pio.templates[\"mod\"] = go.layout.Template(layout=dict(font=dict(family=\"Monaco\",size=15)))\n",
    "pio.templates.default = \"mod+plotly_dark\"\n",
    "from sklearn.metrics import auc,roc_auc_score\n",
    "from sklearn.model_selection import train_test_split\n",
    "import lightgbm as lgb\n",
    "import miceforest as mf\n",
    "from miceforest import mean_match_shap,mean_match_default,mean_match_fast_cat\n",
    "%xmode Minimal"
   ]
  },
  {
   "cell_type": "code",
   "execution_count": 6,
   "metadata": {},
   "outputs": [
    {
     "data": {
      "text/plain": [
       "polars.config.Config"
      ]
     },
     "execution_count": 6,
     "metadata": {},
     "output_type": "execute_result"
    }
   ],
   "source": [
    "pl.Config.set_fmt_str_lengths(100)\n",
    "pl.Config.set_float_precision(2)\n",
    "pl.Config.set_fmt_float(\"full\")\n",
    "pl.Config.set_tbl_rows(40)"
   ]
  },
  {
   "cell_type": "code",
   "execution_count": 7,
   "metadata": {},
   "outputs": [],
   "source": [
    "path_to_train = Path(\"Downloads/credit_risk/train/\")\n",
    "path_to_test = Path(\"Downloads/credit_risk/test/\")\n",
    "path_to_features = Path(\"Downloads/feature_definitions.csv\")"
   ]
  },
  {
   "cell_type": "code",
   "execution_count": 8,
   "metadata": {},
   "outputs": [
    {
     "data": {
      "text/html": [
       "<div><style>\n",
       ".dataframe > thead > tr,\n",
       ".dataframe > tbody > tr {\n",
       "  text-align: right;\n",
       "  white-space: pre-wrap;\n",
       "}\n",
       "</style>\n",
       "<small>shape: (5, 2)</small><table border=\"1\" class=\"dataframe\"><thead><tr><th>Variable</th><th>Description</th></tr><tr><td>str</td><td>str</td></tr></thead><tbody><tr><td>&quot;actualdpd_943P&quot;</td><td>&quot;Days Past Due (DPD) of previous contract (actual).&quot;</td></tr><tr><td>&quot;actualdpdtolerance_344P&quot;</td><td>&quot;DPD of client with tolerance.&quot;</td></tr><tr><td>&quot;addres_district_368M&quot;</td><td>&quot;District of the person&#x27;s address.&quot;</td></tr><tr><td>&quot;addres_role_871L&quot;</td><td>&quot;Role of person&#x27;s address.&quot;</td></tr><tr><td>&quot;addres_zip_823M&quot;</td><td>&quot;Zip code of the address.&quot;</td></tr></tbody></table></div>"
      ],
      "text/plain": [
       "shape: (5, 2)\n",
       "┌─────────────────────────┬────────────────────────────────────────────────────┐\n",
       "│ Variable                ┆ Description                                        │\n",
       "│ ---                     ┆ ---                                                │\n",
       "│ str                     ┆ str                                                │\n",
       "╞═════════════════════════╪════════════════════════════════════════════════════╡\n",
       "│ actualdpd_943P          ┆ Days Past Due (DPD) of previous contract (actual). │\n",
       "│ actualdpdtolerance_344P ┆ DPD of client with tolerance.                      │\n",
       "│ addres_district_368M    ┆ District of the person's address.                  │\n",
       "│ addres_role_871L        ┆ Role of person's address.                          │\n",
       "│ addres_zip_823M         ┆ Zip code of the address.                           │\n",
       "└─────────────────────────┴────────────────────────────────────────────────────┘"
      ]
     },
     "execution_count": 8,
     "metadata": {},
     "output_type": "execute_result"
    }
   ],
   "source": [
    "feat_df = pl.read_csv(path_to_features)\n",
    "feat_df.head()"
   ]
  },
  {
   "cell_type": "code",
   "execution_count": 9,
   "metadata": {},
   "outputs": [
    {
     "data": {
      "text/html": [
       "<div><style>\n",
       ".dataframe > thead > tr,\n",
       ".dataframe > tbody > tr {\n",
       "  text-align: right;\n",
       "  white-space: pre-wrap;\n",
       "}\n",
       "</style>\n",
       "<small>shape: (5, 3)</small><table border=\"1\" class=\"dataframe\"><thead><tr><th>index</th><th>path</th><th>filename</th></tr><tr><td>i64</td><td>str</td><td>str</td></tr></thead><tbody><tr><td>31</td><td>&quot;Downloads/credit_risk/train/train_applprev_1_0.parquet&quot;</td><td>&quot;train_applprev_1_0.parquet&quot;</td></tr><tr><td>13</td><td>&quot;Downloads/credit_risk/train/train_applprev_1_1.parquet&quot;</td><td>&quot;train_applprev_1_1.parquet&quot;</td></tr><tr><td>0</td><td>&quot;Downloads/credit_risk/train/train_applprev_2.parquet&quot;</td><td>&quot;train_applprev_2.parquet&quot;</td></tr><tr><td>7</td><td>&quot;Downloads/credit_risk/train/train_base.parquet&quot;</td><td>&quot;train_base.parquet&quot;</td></tr><tr><td>11</td><td>&quot;Downloads/credit_risk/train/train_credit_bureau_a_1_0.parquet&quot;</td><td>&quot;train_credit_bureau_a_1_0.parquet&quot;</td></tr></tbody></table></div>"
      ],
      "text/plain": [
       "shape: (5, 3)\n",
       "┌───────┬──────────────────────────────────────────────────────┬───────────────────────────────────┐\n",
       "│ index ┆ path                                                 ┆ filename                          │\n",
       "│ ---   ┆ ---                                                  ┆ ---                               │\n",
       "│ i64   ┆ str                                                  ┆ str                               │\n",
       "╞═══════╪══════════════════════════════════════════════════════╪═══════════════════════════════════╡\n",
       "│ 31    ┆ Downloads/credit_risk/train/train_applprev_1_0.parqu ┆ train_applprev_1_0.parquet        │\n",
       "│       ┆ et                                                   ┆                                   │\n",
       "│ 13    ┆ Downloads/credit_risk/train/train_applprev_1_1.parqu ┆ train_applprev_1_1.parquet        │\n",
       "│       ┆ et                                                   ┆                                   │\n",
       "│ 0     ┆ Downloads/credit_risk/train/train_applprev_2.parquet ┆ train_applprev_2.parquet          │\n",
       "│ 7     ┆ Downloads/credit_risk/train/train_base.parquet       ┆ train_base.parquet                │\n",
       "│ 11    ┆ Downloads/credit_risk/train/train_credit_bureau_a_1_ ┆ train_credit_bureau_a_1_0.parquet │\n",
       "│       ┆ 0.parquet                                            ┆                                   │\n",
       "└───────┴──────────────────────────────────────────────────────┴───────────────────────────────────┘"
      ]
     },
     "metadata": {},
     "output_type": "display_data"
    },
    {
     "data": {
      "text/html": [
       "<div><style>\n",
       ".dataframe > thead > tr,\n",
       ".dataframe > tbody > tr {\n",
       "  text-align: right;\n",
       "  white-space: pre-wrap;\n",
       "}\n",
       "</style>\n",
       "<small>shape: (5, 3)</small><table border=\"1\" class=\"dataframe\"><thead><tr><th>index</th><th>path</th><th>filename</th></tr><tr><td>i64</td><td>str</td><td>str</td></tr></thead><tbody><tr><td>31</td><td>&quot;Downloads/credit_risk/test/test_applprev_1_0.parquet&quot;</td><td>&quot;test_applprev_1_0.parquet&quot;</td></tr><tr><td>35</td><td>&quot;Downloads/credit_risk/test/test_applprev_1_1.parquet&quot;</td><td>&quot;test_applprev_1_1.parquet&quot;</td></tr><tr><td>9</td><td>&quot;Downloads/credit_risk/test/test_applprev_1_2.parquet&quot;</td><td>&quot;test_applprev_1_2.parquet&quot;</td></tr><tr><td>1</td><td>&quot;Downloads/credit_risk/test/test_applprev_2.parquet&quot;</td><td>&quot;test_applprev_2.parquet&quot;</td></tr><tr><td>33</td><td>&quot;Downloads/credit_risk/test/test_base.parquet&quot;</td><td>&quot;test_base.parquet&quot;</td></tr></tbody></table></div>"
      ],
      "text/plain": [
       "shape: (5, 3)\n",
       "┌───────┬──────────────────────────────────────────────────────┬───────────────────────────┐\n",
       "│ index ┆ path                                                 ┆ filename                  │\n",
       "│ ---   ┆ ---                                                  ┆ ---                       │\n",
       "│ i64   ┆ str                                                  ┆ str                       │\n",
       "╞═══════╪══════════════════════════════════════════════════════╪═══════════════════════════╡\n",
       "│ 31    ┆ Downloads/credit_risk/test/test_applprev_1_0.parquet ┆ test_applprev_1_0.parquet │\n",
       "│ 35    ┆ Downloads/credit_risk/test/test_applprev_1_1.parquet ┆ test_applprev_1_1.parquet │\n",
       "│ 9     ┆ Downloads/credit_risk/test/test_applprev_1_2.parquet ┆ test_applprev_1_2.parquet │\n",
       "│ 1     ┆ Downloads/credit_risk/test/test_applprev_2.parquet   ┆ test_applprev_2.parquet   │\n",
       "│ 33    ┆ Downloads/credit_risk/test/test_base.parquet         ┆ test_base.parquet         │\n",
       "└───────┴──────────────────────────────────────────────────────┴───────────────────────────┘"
      ]
     },
     "metadata": {},
     "output_type": "display_data"
    }
   ],
   "source": [
    "all_train_files = glob(\"Downloads/credit_risk/train/*.parquet\")\n",
    "all_test_files = glob(\"Downloads/credit_risk/test/*.parquet\")\n",
    "train_files_df = pl.DataFrame({\"index\":range(len(all_train_files)),\"path\":all_train_files})\n",
    "test_files_df = pl.DataFrame({\"index\":range(len(all_test_files)),\"path\":all_test_files})\n",
    "train_files_df = (\n",
    "    train_files_df\n",
    "    .with_columns(\n",
    "        (pl.col(\"path\").str.split(\"/\").list.get(-1)).alias(\"filename\")\n",
    "    )\n",
    "    .sort(by=\"filename\")\n",
    ")\n",
    "test_files_df = (\n",
    "    test_files_df\n",
    "    .with_columns(\n",
    "        (pl.col(\"path\").str.split(\"/\").list.get(-1)).alias(\"filename\")\n",
    "    )\n",
    "    .sort(by=\"filename\")\n",
    ")\n",
    "display(train_files_df.head())\n",
    "display(test_files_df.head())"
   ]
  },
  {
   "cell_type": "code",
   "execution_count": 10,
   "metadata": {},
   "outputs": [
    {
     "data": {
      "text/html": [
       "<div><style>\n",
       ".dataframe > thead > tr,\n",
       ".dataframe > tbody > tr {\n",
       "  text-align: right;\n",
       "  white-space: pre-wrap;\n",
       "}\n",
       "</style>\n",
       "<small>shape: (1, 3)</small><table border=\"1\" class=\"dataframe\"><thead><tr><th>index</th><th>path</th><th>filename</th></tr><tr><td>i64</td><td>str</td><td>str</td></tr></thead><tbody><tr><td>7</td><td>&quot;Downloads/credit_risk/train/train_base.parquet&quot;</td><td>&quot;train_base.parquet&quot;</td></tr></tbody></table></div>"
      ],
      "text/plain": [
       "shape: (1, 3)\n",
       "┌───────┬────────────────────────────────────────────────┬────────────────────┐\n",
       "│ index ┆ path                                           ┆ filename           │\n",
       "│ ---   ┆ ---                                            ┆ ---                │\n",
       "│ i64   ┆ str                                            ┆ str                │\n",
       "╞═══════╪════════════════════════════════════════════════╪════════════════════╡\n",
       "│ 7     ┆ Downloads/credit_risk/train/train_base.parquet ┆ train_base.parquet │\n",
       "└───────┴────────────────────────────────────────────────┴────────────────────┘"
      ]
     },
     "execution_count": 10,
     "metadata": {},
     "output_type": "execute_result"
    }
   ],
   "source": [
    "train_files_df.filter(pl.col(\"filename\").str.contains(\"base\"))"
   ]
  },
  {
   "cell_type": "code",
   "execution_count": 11,
   "metadata": {},
   "outputs": [
    {
     "data": {
      "text/html": [
       "<div><style>\n",
       ".dataframe > thead > tr,\n",
       ".dataframe > tbody > tr {\n",
       "  text-align: right;\n",
       "  white-space: pre-wrap;\n",
       "}\n",
       "</style>\n",
       "<small>shape: (5, 5)</small><table border=\"1\" class=\"dataframe\"><thead><tr><th>case_id_base</th><th>month</th><th>week</th><th>weekday</th><th>target</th></tr><tr><td>u32</td><td>i8</td><td>i8</td><td>i8</td><td>u8</td></tr></thead><tbody><tr><td>0</td><td>1</td><td>1</td><td>4</td><td>0</td></tr><tr><td>1</td><td>1</td><td>1</td><td>4</td><td>0</td></tr><tr><td>2</td><td>1</td><td>1</td><td>5</td><td>0</td></tr><tr><td>3</td><td>1</td><td>1</td><td>4</td><td>0</td></tr><tr><td>4</td><td>1</td><td>1</td><td>5</td><td>1</td></tr></tbody></table></div>"
      ],
      "text/plain": [
       "shape: (5, 5)\n",
       "┌──────────────┬───────┬──────┬─────────┬────────┐\n",
       "│ case_id_base ┆ month ┆ week ┆ weekday ┆ target │\n",
       "│ ---          ┆ ---   ┆ ---  ┆ ---     ┆ ---    │\n",
       "│ u32          ┆ i8    ┆ i8   ┆ i8      ┆ u8     │\n",
       "╞══════════════╪═══════╪══════╪═════════╪════════╡\n",
       "│ 0            ┆ 1     ┆ 1    ┆ 4       ┆ 0      │\n",
       "│ 1            ┆ 1     ┆ 1    ┆ 4       ┆ 0      │\n",
       "│ 2            ┆ 1     ┆ 1    ┆ 5       ┆ 0      │\n",
       "│ 3            ┆ 1     ┆ 1    ┆ 4       ┆ 0      │\n",
       "│ 4            ┆ 1     ┆ 1    ┆ 5       ┆ 1      │\n",
       "└──────────────┴───────┴──────┴─────────┴────────┘"
      ]
     },
     "metadata": {},
     "output_type": "display_data"
    },
    {
     "data": {
      "text/plain": [
       "(1526659, 5)"
      ]
     },
     "execution_count": 11,
     "metadata": {},
     "output_type": "execute_result"
    }
   ],
   "source": [
    "train_base = (\n",
    "    pl.scan_parquet(all_train_files[7])\n",
    "    .select(\n",
    "        pl.col(\"case_id\").cast(pl.UInt32).alias(\"case_id_base\"),\n",
    "        cs.contains(\"date\").str.to_date().alias(\"date\"),\n",
    "        pl.col(\"target\").cast(pl.UInt8)\n",
    "    )\n",
    "    .with_columns(\n",
    "        pl.col(\"date\").dt.month().alias(\"month\"),\n",
    "        pl.col(\"date\").dt.week().alias(\"week\"),\n",
    "        pl.col(\"date\").dt.weekday().alias(\"weekday\")\n",
    "    )\n",
    "\n",
    "    .select(~cs.contains([\"target\",\"date\"]),cs.contains(\"target\"))\n",
    ")\n",
    "display(train_base.fetch().head())\n",
    "train_base.collect(streaming=True).shape"
   ]
  },
  {
   "cell_type": "code",
   "execution_count": 12,
   "metadata": {},
   "outputs": [
    {
     "data": {
      "text/html": [
       "<div><style>\n",
       ".dataframe > thead > tr,\n",
       ".dataframe > tbody > tr {\n",
       "  text-align: right;\n",
       "  white-space: pre-wrap;\n",
       "}\n",
       "</style>\n",
       "<small>shape: (1, 3)</small><table border=\"1\" class=\"dataframe\"><thead><tr><th>index</th><th>path</th><th>filename</th></tr><tr><td>i64</td><td>str</td><td>str</td></tr></thead><tbody><tr><td>33</td><td>&quot;Downloads/credit_risk/test/test_base.parquet&quot;</td><td>&quot;test_base.parquet&quot;</td></tr></tbody></table></div>"
      ],
      "text/plain": [
       "shape: (1, 3)\n",
       "┌───────┬──────────────────────────────────────────────┬───────────────────┐\n",
       "│ index ┆ path                                         ┆ filename          │\n",
       "│ ---   ┆ ---                                          ┆ ---               │\n",
       "│ i64   ┆ str                                          ┆ str               │\n",
       "╞═══════╪══════════════════════════════════════════════╪═══════════════════╡\n",
       "│ 33    ┆ Downloads/credit_risk/test/test_base.parquet ┆ test_base.parquet │\n",
       "└───────┴──────────────────────────────────────────────┴───────────────────┘"
      ]
     },
     "execution_count": 12,
     "metadata": {},
     "output_type": "execute_result"
    }
   ],
   "source": [
    "test_files_df.filter(pl.col(\"filename\").str.contains(\"base\"))"
   ]
  },
  {
   "cell_type": "code",
   "execution_count": 13,
   "metadata": {},
   "outputs": [
    {
     "data": {
      "text/html": [
       "<div><style>\n",
       ".dataframe > thead > tr,\n",
       ".dataframe > tbody > tr {\n",
       "  text-align: right;\n",
       "  white-space: pre-wrap;\n",
       "}\n",
       "</style>\n",
       "<small>shape: (5, 4)</small><table border=\"1\" class=\"dataframe\"><thead><tr><th>case_id_base</th><th>month</th><th>week</th><th>weekday</th></tr><tr><td>u32</td><td>i8</td><td>i8</td><td>i8</td></tr></thead><tbody><tr><td>57543</td><td>10</td><td>41</td><td>2</td></tr><tr><td>57549</td><td>10</td><td>41</td><td>2</td></tr><tr><td>57551</td><td>10</td><td>41</td><td>2</td></tr><tr><td>57552</td><td>10</td><td>41</td><td>3</td></tr><tr><td>57569</td><td>10</td><td>41</td><td>2</td></tr></tbody></table></div>"
      ],
      "text/plain": [
       "shape: (5, 4)\n",
       "┌──────────────┬───────┬──────┬─────────┐\n",
       "│ case_id_base ┆ month ┆ week ┆ weekday │\n",
       "│ ---          ┆ ---   ┆ ---  ┆ ---     │\n",
       "│ u32          ┆ i8    ┆ i8   ┆ i8      │\n",
       "╞══════════════╪═══════╪══════╪═════════╡\n",
       "│ 57543        ┆ 10    ┆ 41   ┆ 2       │\n",
       "│ 57549        ┆ 10    ┆ 41   ┆ 2       │\n",
       "│ 57551        ┆ 10    ┆ 41   ┆ 2       │\n",
       "│ 57552        ┆ 10    ┆ 41   ┆ 3       │\n",
       "│ 57569        ┆ 10    ┆ 41   ┆ 2       │\n",
       "└──────────────┴───────┴──────┴─────────┘"
      ]
     },
     "metadata": {},
     "output_type": "display_data"
    },
    {
     "name": "stdout",
     "output_type": "stream",
     "text": [
      "(10, 4)\n"
     ]
    }
   ],
   "source": [
    "test_base = (\n",
    "    pl.scan_parquet(all_test_files[33])\n",
    "    .select(\n",
    "        pl.col(\"case_id\").cast(pl.UInt32).alias(\"case_id_base\"),\n",
    "        cs.contains(\"date\").str.to_date().alias(\"date\"),\n",
    "    )\n",
    "    .with_columns(\n",
    "        pl.col(\"date\").dt.month().alias(\"month\"),\n",
    "        pl.col(\"date\").dt.week().alias(\"week\"),\n",
    "        pl.col(\"date\").dt.weekday().alias(\"weekday\")\n",
    "    )\n",
    "\n",
    "    .select(~cs.contains([\"date\"]),cs.contains(\"target\"))\n",
    ")\n",
    "display(test_base.fetch().head())\n",
    "print(test_base.collect(streaming=True).shape)"
   ]
  },
  {
   "cell_type": "code",
   "execution_count": 14,
   "metadata": {},
   "outputs": [
    {
     "data": {
      "text/html": [
       "<div><style>\n",
       ".dataframe > thead > tr,\n",
       ".dataframe > tbody > tr {\n",
       "  text-align: right;\n",
       "  white-space: pre-wrap;\n",
       "}\n",
       "</style>\n",
       "<small>shape: (3, 3)</small><table border=\"1\" class=\"dataframe\"><thead><tr><th>index</th><th>path</th><th>filename</th></tr><tr><td>i64</td><td>str</td><td>str</td></tr></thead><tbody><tr><td>31</td><td>&quot;Downloads/credit_risk/train/train_applprev_1_0.parquet&quot;</td><td>&quot;train_applprev_1_0.parquet&quot;</td></tr><tr><td>13</td><td>&quot;Downloads/credit_risk/train/train_applprev_1_1.parquet&quot;</td><td>&quot;train_applprev_1_1.parquet&quot;</td></tr><tr><td>0</td><td>&quot;Downloads/credit_risk/train/train_applprev_2.parquet&quot;</td><td>&quot;train_applprev_2.parquet&quot;</td></tr></tbody></table></div>"
      ],
      "text/plain": [
       "shape: (3, 3)\n",
       "┌───────┬────────────────────────────────────────────────────────┬────────────────────────────┐\n",
       "│ index ┆ path                                                   ┆ filename                   │\n",
       "│ ---   ┆ ---                                                    ┆ ---                        │\n",
       "│ i64   ┆ str                                                    ┆ str                        │\n",
       "╞═══════╪════════════════════════════════════════════════════════╪════════════════════════════╡\n",
       "│ 31    ┆ Downloads/credit_risk/train/train_applprev_1_0.parquet ┆ train_applprev_1_0.parquet │\n",
       "│ 13    ┆ Downloads/credit_risk/train/train_applprev_1_1.parquet ┆ train_applprev_1_1.parquet │\n",
       "│ 0     ┆ Downloads/credit_risk/train/train_applprev_2.parquet   ┆ train_applprev_2.parquet   │\n",
       "└───────┴────────────────────────────────────────────────────────┴────────────────────────────┘"
      ]
     },
     "execution_count": 14,
     "metadata": {},
     "output_type": "execute_result"
    }
   ],
   "source": [
    "train_files_df.filter(pl.col(\"filename\").str.contains(\"appl\"))"
   ]
  },
  {
   "cell_type": "markdown",
   "metadata": {},
   "source": [
    "## Functions"
   ]
  },
  {
   "cell_type": "code",
   "execution_count": 15,
   "metadata": {},
   "outputs": [],
   "source": [
    "def select_imputable_cols(df: pl.LazyFrame) -> pl.LazyFrame:\n",
    "    col_list = (\n",
    "        df\n",
    "        .collect(streaming=True)\n",
    "        .pipe(lambda df: (df.null_count()/df.shape[0])*100)\n",
    "        .transpose(include_header=True,column_names=[\"percentage of nulls\"])\n",
    "        .join(\n",
    "            feat_df,\n",
    "            left_on=\"column\",\n",
    "            right_on=\"Variable\",\n",
    "            how=\"left\"\n",
    "        )\n",
    "        .sort(by=\"percentage of nulls\")\n",
    "        .select([\"column\",\"Description\",\"percentage of nulls\"])\n",
    "        .filter(pl.col(\"percentage of nulls\") < 10)\n",
    "        [\"column\"].to_list()\n",
    "    )\n",
    "    _ = df.select(col_list).lazy()\n",
    "    gc.collect()\n",
    "    return _"
   ]
  },
  {
   "cell_type": "code",
   "execution_count": 30,
   "metadata": {},
   "outputs": [
    {
     "data": {
      "text/html": [
       "<div><style>\n",
       ".dataframe > thead > tr,\n",
       ".dataframe > tbody > tr {\n",
       "  text-align: right;\n",
       "  white-space: pre-wrap;\n",
       "}\n",
       "</style>\n",
       "<small>shape: (10, 20)</small><table border=\"1\" class=\"dataframe\"><thead><tr><th>case_id</th><th>num_group1</th><th>cancelreason_3545846M</th><th>district_544M</th><th>education_1138M</th><th>postype_4733339M</th><th>profession_152M</th><th>rejectreason_755M</th><th>rejectreasonclient_4145042M</th><th>status_219L</th><th>actualdpd_943P</th><th>mainoccupationinc_437A</th><th>credacc_credlmt_575A</th><th>credamount_590A</th><th>downpmt_134A</th><th>credtype_587L</th><th>inittransactioncode_279L</th><th>annuity_853A</th><th>pmtnum_8L</th><th>tenor_203L</th></tr><tr><td>u32</td><td>u8</td><td>cat</td><td>cat</td><td>cat</td><td>cat</td><td>cat</td><td>cat</td><td>cat</td><td>cat</td><td>f32</td><td>f32</td><td>f32</td><td>f32</td><td>f32</td><td>cat</td><td>cat</td><td>f32</td><td>f32</td><td>f32</td></tr></thead><tbody><tr><td>2</td><td>0</td><td>&quot;a55475b1&quot;</td><td>&quot;P136_108_173&quot;</td><td>&quot;P97_36_170&quot;</td><td>&quot;a55475b1&quot;</td><td>&quot;a55475b1&quot;</td><td>&quot;a55475b1&quot;</td><td>&quot;a55475b1&quot;</td><td>&quot;D&quot;</td><td>0.00</td><td>8200.00</td><td>0.00</td><td>10000.00</td><td>0.00</td><td>&quot;CAL&quot;</td><td>&quot;CASH&quot;</td><td>640.20</td><td>24.00</td><td>24.00</td></tr><tr><td>2</td><td>1</td><td>&quot;a55475b1&quot;</td><td>&quot;P136_108_173&quot;</td><td>&quot;P97_36_170&quot;</td><td>&quot;a55475b1&quot;</td><td>&quot;a55475b1&quot;</td><td>&quot;a55475b1&quot;</td><td>&quot;a55475b1&quot;</td><td>&quot;D&quot;</td><td>0.00</td><td>8200.00</td><td>0.00</td><td>16000.00</td><td>0.00</td><td>&quot;CAL&quot;</td><td>&quot;CASH&quot;</td><td>1682.40</td><td>12.00</td><td>12.00</td></tr><tr><td>3</td><td>0</td><td>&quot;P94_109_143&quot;</td><td>&quot;P131_33_167&quot;</td><td>&quot;P97_36_170&quot;</td><td>&quot;a55475b1&quot;</td><td>&quot;a55475b1&quot;</td><td>&quot;P94_109_143&quot;</td><td>&quot;a55475b1&quot;</td><td>&quot;D&quot;</td><td>0.00</td><td>11000.00</td><td>0.00</td><td>59999.80</td><td>0.00</td><td>&quot;CAL&quot;</td><td>&quot;CASH&quot;</td><td>6140.00</td><td>12.00</td><td>12.00</td></tr><tr><td>4</td><td>0</td><td>&quot;P24_27_36&quot;</td><td>&quot;P194_82_174&quot;</td><td>&quot;a55475b1&quot;</td><td>&quot;a55475b1&quot;</td><td>&quot;a55475b1&quot;</td><td>&quot;a55475b1&quot;</td><td>&quot;a55475b1&quot;</td><td>&quot;T&quot;</td><td>0.00</td><td>16000.00</td><td>0.00</td><td>40000.00</td><td>0.00</td><td>&quot;CAL&quot;</td><td>&quot;CASH&quot;</td><td>2556.60</td><td>24.00</td><td>24.00</td></tr><tr><td>5</td><td>0</td><td>&quot;P85_114_140&quot;</td><td>&quot;P54_133_26&quot;</td><td>&quot;a55475b1&quot;</td><td>&quot;a55475b1&quot;</td><td>&quot;a55475b1&quot;</td><td>&quot;a55475b1&quot;</td><td>&quot;a55475b1&quot;</td><td>&quot;T&quot;</td><td>0.00</td><td>62000.00</td><td>2161.10</td><td>45335.69</td><td>471.80</td><td>&quot;CAL&quot;</td><td>&quot;CASH&quot;</td><td>3745.33</td><td>18.44</td><td>18.44</td></tr><tr><td>6</td><td>0</td><td>&quot;P94_109_143&quot;</td><td>&quot;P82_154_182&quot;</td><td>&quot;a55475b1&quot;</td><td>&quot;a55475b1&quot;</td><td>&quot;a55475b1&quot;</td><td>&quot;P94_109_143&quot;</td><td>&quot;a55475b1&quot;</td><td>&quot;D&quot;</td><td>0.00</td><td>37000.00</td><td>0.00</td><td>15980.00</td><td>0.00</td><td>&quot;CAL&quot;</td><td>&quot;CASH&quot;</td><td>1773.80</td><td>11.00</td><td>11.00</td></tr><tr><td>6</td><td>1</td><td>&quot;P94_109_143&quot;</td><td>&quot;P82_154_182&quot;</td><td>&quot;P97_36_170&quot;</td><td>&quot;a55475b1&quot;</td><td>&quot;a55475b1&quot;</td><td>&quot;P94_109_143&quot;</td><td>&quot;a55475b1&quot;</td><td>&quot;D&quot;</td><td>0.00</td><td>35000.00</td><td>0.00</td><td>32000.00</td><td>0.00</td><td>&quot;CAL&quot;</td><td>&quot;CASH&quot;</td><td>4189.60</td><td>11.00</td><td>11.00</td></tr><tr><td>6</td><td>2</td><td>&quot;a55475b1&quot;</td><td>&quot;a55475b1&quot;</td><td>&quot;P97_36_170&quot;</td><td>&quot;a55475b1&quot;</td><td>&quot;a55475b1&quot;</td><td>&quot;a55475b1&quot;</td><td>&quot;a55475b1&quot;</td><td>&quot;D&quot;</td><td>0.00</td><td>14000.00</td><td>0.00</td><td>17380.00</td><td>0.00</td><td>&quot;COL&quot;</td><td>&quot;POS&quot;</td><td>1110.40</td><td>24.00</td><td>24.00</td></tr><tr><td>10</td><td>0</td><td>&quot;P73_130_169&quot;</td><td>&quot;P38_65_49&quot;</td><td>&quot;P17_36_170&quot;</td><td>&quot;a55475b1&quot;</td><td>&quot;a55475b1&quot;</td><td>&quot;a55475b1&quot;</td><td>&quot;a55475b1&quot;</td><td>&quot;T&quot;</td><td>0.00</td><td>57000.00</td><td>0.00</td><td>100000.00</td><td>0.00</td><td>&quot;CAL&quot;</td><td>&quot;CASH&quot;</td><td>10916.60</td><td>12.00</td><td>12.00</td></tr><tr><td>13</td><td>0</td><td>&quot;P94_109_143&quot;</td><td>&quot;P120_80_181&quot;</td><td>&quot;a55475b1&quot;</td><td>&quot;a55475b1&quot;</td><td>&quot;a55475b1&quot;</td><td>&quot;P94_109_143&quot;</td><td>&quot;a55475b1&quot;</td><td>&quot;D&quot;</td><td>0.00</td><td>64000.00</td><td>0.00</td><td>40000.00</td><td>0.00</td><td>&quot;CAL&quot;</td><td>&quot;CASH&quot;</td><td>5069.60</td><td>12.00</td><td>12.00</td></tr></tbody></table></div>"
      ],
      "text/plain": [
       "shape: (10, 20)\n",
       "┌─────────┬────────────┬───────────┬───────────┬───┬───────────┬───────────┬───────────┬───────────┐\n",
       "│ case_id ┆ num_group1 ┆ cancelrea ┆ district_ ┆ … ┆ inittrans ┆ annuity_8 ┆ pmtnum_8L ┆ tenor_203 │\n",
       "│ ---     ┆ ---        ┆ son_35458 ┆ 544M      ┆   ┆ actioncod ┆ 53A       ┆ ---       ┆ L         │\n",
       "│ u32     ┆ u8         ┆ 46M       ┆ ---       ┆   ┆ e_279L    ┆ ---       ┆ f32       ┆ ---       │\n",
       "│         ┆            ┆ ---       ┆ cat       ┆   ┆ ---       ┆ f32       ┆           ┆ f32       │\n",
       "│         ┆            ┆ cat       ┆           ┆   ┆ cat       ┆           ┆           ┆           │\n",
       "╞═════════╪════════════╪═══════════╪═══════════╪═══╪═══════════╪═══════════╪═══════════╪═══════════╡\n",
       "│ 2       ┆ 0          ┆ a55475b1  ┆ P136_108_ ┆ … ┆ CASH      ┆ 640.20    ┆ 24.00     ┆ 24.00     │\n",
       "│         ┆            ┆           ┆ 173       ┆   ┆           ┆           ┆           ┆           │\n",
       "│ 2       ┆ 1          ┆ a55475b1  ┆ P136_108_ ┆ … ┆ CASH      ┆ 1682.40   ┆ 12.00     ┆ 12.00     │\n",
       "│         ┆            ┆           ┆ 173       ┆   ┆           ┆           ┆           ┆           │\n",
       "│ 3       ┆ 0          ┆ P94_109_1 ┆ P131_33_1 ┆ … ┆ CASH      ┆ 6140.00   ┆ 12.00     ┆ 12.00     │\n",
       "│         ┆            ┆ 43        ┆ 67        ┆   ┆           ┆           ┆           ┆           │\n",
       "│ 4       ┆ 0          ┆ P24_27_36 ┆ P194_82_1 ┆ … ┆ CASH      ┆ 2556.60   ┆ 24.00     ┆ 24.00     │\n",
       "│         ┆            ┆           ┆ 74        ┆   ┆           ┆           ┆           ┆           │\n",
       "│ 5       ┆ 0          ┆ P85_114_1 ┆ P54_133_2 ┆ … ┆ CASH      ┆ 3745.33   ┆ 18.44     ┆ 18.44     │\n",
       "│         ┆            ┆ 40        ┆ 6         ┆   ┆           ┆           ┆           ┆           │\n",
       "│ 6       ┆ 0          ┆ P94_109_1 ┆ P82_154_1 ┆ … ┆ CASH      ┆ 1773.80   ┆ 11.00     ┆ 11.00     │\n",
       "│         ┆            ┆ 43        ┆ 82        ┆   ┆           ┆           ┆           ┆           │\n",
       "│ 6       ┆ 1          ┆ P94_109_1 ┆ P82_154_1 ┆ … ┆ CASH      ┆ 4189.60   ┆ 11.00     ┆ 11.00     │\n",
       "│         ┆            ┆ 43        ┆ 82        ┆   ┆           ┆           ┆           ┆           │\n",
       "│ 6       ┆ 2          ┆ a55475b1  ┆ a55475b1  ┆ … ┆ POS       ┆ 1110.40   ┆ 24.00     ┆ 24.00     │\n",
       "│ 10      ┆ 0          ┆ P73_130_1 ┆ P38_65_49 ┆ … ┆ CASH      ┆ 10916.60  ┆ 12.00     ┆ 12.00     │\n",
       "│         ┆            ┆ 69        ┆           ┆   ┆           ┆           ┆           ┆           │\n",
       "│ 13      ┆ 0          ┆ P94_109_1 ┆ P120_80_1 ┆ … ┆ CASH      ┆ 5069.60   ┆ 12.00     ┆ 12.00     │\n",
       "│         ┆            ┆ 43        ┆ 81        ┆   ┆           ┆           ┆           ┆           │\n",
       "└─────────┴────────────┴───────────┴───────────┴───┴───────────┴───────────┴───────────┴───────────┘"
      ]
     },
     "execution_count": 30,
     "metadata": {},
     "output_type": "execute_result"
    }
   ],
   "source": [
    "train_previous_application = (\n",
    "    pl.scan_parquet(path_to_train/\"train_applprev_1_*.parquet\")\n",
    "    .drop(cs.contains(\"date\"))\n",
    "    .select(\n",
    "        pl.col(\"case_id\").cast(pl.UInt32),\n",
    "        pl.col(\"num_group1\").cast(pl.UInt8),\n",
    "        cs.float().cast(pl.Float32),\n",
    "        cs.string().cast(pl.Categorical),\n",
    "    )\n",
    "    # .filter(pl.col(\"num_group1\") == 0)\n",
    "    .pipe(select_imputable_cols)\n",
    "    .fill_null(strategy=\"mean\")\n",
    ")\n",
    "train_previous_application.fetch().head(10)"
   ]
  },
  {
   "cell_type": "code",
   "execution_count": 17,
   "metadata": {},
   "outputs": [
    {
     "data": {
      "text/html": [
       "<div><style>\n",
       ".dataframe > thead > tr,\n",
       ".dataframe > tbody > tr {\n",
       "  text-align: right;\n",
       "  white-space: pre-wrap;\n",
       "}\n",
       "</style>\n",
       "<small>shape: (1, 3)</small><table border=\"1\" class=\"dataframe\"><thead><tr><th>index</th><th>path</th><th>filename</th></tr><tr><td>i64</td><td>str</td><td>str</td></tr></thead><tbody><tr><td>0</td><td>&quot;Downloads/credit_risk/train/train_applprev_2.parquet&quot;</td><td>&quot;train_applprev_2.parquet&quot;</td></tr></tbody></table></div>"
      ],
      "text/plain": [
       "shape: (1, 3)\n",
       "┌───────┬──────────────────────────────────────────────────────┬──────────────────────────┐\n",
       "│ index ┆ path                                                 ┆ filename                 │\n",
       "│ ---   ┆ ---                                                  ┆ ---                      │\n",
       "│ i64   ┆ str                                                  ┆ str                      │\n",
       "╞═══════╪══════════════════════════════════════════════════════╪══════════════════════════╡\n",
       "│ 0     ┆ Downloads/credit_risk/train/train_applprev_2.parquet ┆ train_applprev_2.parquet │\n",
       "└───────┴──────────────────────────────────────────────────────┴──────────────────────────┘"
      ]
     },
     "execution_count": 17,
     "metadata": {},
     "output_type": "execute_result"
    }
   ],
   "source": [
    "train_files_df.filter(pl.col(\"filename\").str.contains(\"applprev_2\"))"
   ]
  },
  {
   "cell_type": "code",
   "execution_count": 23,
   "metadata": {},
   "outputs": [
    {
     "data": {
      "text/html": [
       "<div><style>\n",
       ".dataframe > thead > tr,\n",
       ".dataframe > tbody > tr {\n",
       "  text-align: right;\n",
       "  white-space: pre-wrap;\n",
       "}\n",
       "</style>\n",
       "<small>shape: (5, 4)</small><table border=\"1\" class=\"dataframe\"><thead><tr><th>case_id</th><th>num_group1</th><th>num_group2</th><th>cacccardblochreas_147M</th></tr><tr><td>u32</td><td>u8</td><td>u8</td><td>cat</td></tr></thead><tbody><tr><td>2</td><td>1</td><td>1</td><td>null</td></tr><tr><td>2</td><td>0</td><td>1</td><td>null</td></tr><tr><td>2</td><td>0</td><td>0</td><td>null</td></tr><tr><td>2</td><td>1</td><td>0</td><td>null</td></tr><tr><td>3</td><td>0</td><td>1</td><td>null</td></tr></tbody></table></div>"
      ],
      "text/plain": [
       "shape: (5, 4)\n",
       "┌─────────┬────────────┬────────────┬────────────────────────┐\n",
       "│ case_id ┆ num_group1 ┆ num_group2 ┆ cacccardblochreas_147M │\n",
       "│ ---     ┆ ---        ┆ ---        ┆ ---                    │\n",
       "│ u32     ┆ u8         ┆ u8         ┆ cat                    │\n",
       "╞═════════╪════════════╪════════════╪════════════════════════╡\n",
       "│ 2       ┆ 1          ┆ 1          ┆ null                   │\n",
       "│ 2       ┆ 0          ┆ 1          ┆ null                   │\n",
       "│ 2       ┆ 0          ┆ 0          ┆ null                   │\n",
       "│ 2       ┆ 1          ┆ 0          ┆ null                   │\n",
       "│ 3       ┆ 0          ┆ 1          ┆ null                   │\n",
       "└─────────┴────────────┴────────────┴────────────────────────┘"
      ]
     },
     "execution_count": 23,
     "metadata": {},
     "output_type": "execute_result"
    }
   ],
   "source": [
    "train_previous_application_status = (\n",
    "    pl.scan_parquet(all_train_files[0])\n",
    "    .select(\n",
    "        pl.col(\"case_id\").cast(pl.UInt32),\n",
    "        pl.col(\"num_group1\").cast(pl.UInt8),\n",
    "        pl.col(\"num_group2\").cast(pl.UInt8),\n",
    "        cs.string().cast(pl.Categorical)\n",
    "    )\n",
    ")\n",
    "train_previous_application_status.fetch().head()"
   ]
  },
  {
   "cell_type": "code",
   "execution_count": 31,
   "metadata": {},
   "outputs": [
    {
     "data": {
      "text/html": [
       "<div><style>\n",
       ".dataframe > thead > tr,\n",
       ".dataframe > tbody > tr {\n",
       "  text-align: right;\n",
       "  white-space: pre-wrap;\n",
       "}\n",
       "</style>\n",
       "<small>shape: (20, 1)</small><table border=\"1\" class=\"dataframe\"><thead><tr><th>num_group1</th></tr><tr><td>u8</td></tr></thead><tbody><tr><td>0</td></tr><tr><td>1</td></tr><tr><td>2</td></tr><tr><td>3</td></tr><tr><td>4</td></tr><tr><td>5</td></tr><tr><td>6</td></tr><tr><td>7</td></tr><tr><td>8</td></tr><tr><td>9</td></tr><tr><td>10</td></tr><tr><td>11</td></tr><tr><td>12</td></tr><tr><td>13</td></tr><tr><td>14</td></tr><tr><td>15</td></tr><tr><td>16</td></tr><tr><td>17</td></tr><tr><td>18</td></tr><tr><td>19</td></tr></tbody></table></div>"
      ],
      "text/plain": [
       "shape: (20, 1)\n",
       "┌────────────┐\n",
       "│ num_group1 │\n",
       "│ ---        │\n",
       "│ u8         │\n",
       "╞════════════╡\n",
       "│ 0          │\n",
       "│ 1          │\n",
       "│ 2          │\n",
       "│ 3          │\n",
       "│ 4          │\n",
       "│ 5          │\n",
       "│ 6          │\n",
       "│ 7          │\n",
       "│ 8          │\n",
       "│ 9          │\n",
       "│ 10         │\n",
       "│ 11         │\n",
       "│ 12         │\n",
       "│ 13         │\n",
       "│ 14         │\n",
       "│ 15         │\n",
       "│ 16         │\n",
       "│ 17         │\n",
       "│ 18         │\n",
       "│ 19         │\n",
       "└────────────┘"
      ]
     },
     "execution_count": 31,
     "metadata": {},
     "output_type": "execute_result"
    }
   ],
   "source": [
    "(\n",
    "    train_previous_application\n",
    "    .select(\"num_group1\")\n",
    "    .unique()\n",
    "    .collect(streaming=True)\n",
    "    .sort(by=\"num_group1\")\n",
    ")"
   ]
  },
  {
   "cell_type": "code",
   "execution_count": 27,
   "metadata": {},
   "outputs": [
    {
     "data": {
      "text/html": [
       "<div><style>\n",
       ".dataframe > thead > tr,\n",
       ".dataframe > tbody > tr {\n",
       "  text-align: right;\n",
       "  white-space: pre-wrap;\n",
       "}\n",
       "</style>\n",
       "<small>shape: (20, 1)</small><table border=\"1\" class=\"dataframe\"><thead><tr><th>num_group1</th></tr><tr><td>u8</td></tr></thead><tbody><tr><td>0</td></tr><tr><td>1</td></tr><tr><td>2</td></tr><tr><td>3</td></tr><tr><td>4</td></tr><tr><td>5</td></tr><tr><td>6</td></tr><tr><td>7</td></tr><tr><td>8</td></tr><tr><td>9</td></tr><tr><td>10</td></tr><tr><td>11</td></tr><tr><td>12</td></tr><tr><td>13</td></tr><tr><td>14</td></tr><tr><td>15</td></tr><tr><td>16</td></tr><tr><td>17</td></tr><tr><td>18</td></tr><tr><td>19</td></tr></tbody></table></div>"
      ],
      "text/plain": [
       "shape: (20, 1)\n",
       "┌────────────┐\n",
       "│ num_group1 │\n",
       "│ ---        │\n",
       "│ u8         │\n",
       "╞════════════╡\n",
       "│ 0          │\n",
       "│ 1          │\n",
       "│ 2          │\n",
       "│ 3          │\n",
       "│ 4          │\n",
       "│ 5          │\n",
       "│ 6          │\n",
       "│ 7          │\n",
       "│ 8          │\n",
       "│ 9          │\n",
       "│ 10         │\n",
       "│ 11         │\n",
       "│ 12         │\n",
       "│ 13         │\n",
       "│ 14         │\n",
       "│ 15         │\n",
       "│ 16         │\n",
       "│ 17         │\n",
       "│ 18         │\n",
       "│ 19         │\n",
       "└────────────┘"
      ]
     },
     "execution_count": 27,
     "metadata": {},
     "output_type": "execute_result"
    }
   ],
   "source": [
    "(\n",
    "    train_previous_application_status\n",
    "    .select(\"num_group1\")\n",
    "    .unique()\n",
    "    .collect(streaming=True)\n",
    "    .sort(by=\"num_group1\")\n",
    ")"
   ]
  },
  {
   "cell_type": "code",
   "execution_count": 28,
   "metadata": {},
   "outputs": [
    {
     "data": {
      "text/html": [
       "<div><style>\n",
       ".dataframe > thead > tr,\n",
       ".dataframe > tbody > tr {\n",
       "  text-align: right;\n",
       "  white-space: pre-wrap;\n",
       "}\n",
       "</style>\n",
       "<small>shape: (12, 1)</small><table border=\"1\" class=\"dataframe\"><thead><tr><th>num_group2</th></tr><tr><td>u8</td></tr></thead><tbody><tr><td>0</td></tr><tr><td>1</td></tr><tr><td>2</td></tr><tr><td>3</td></tr><tr><td>4</td></tr><tr><td>5</td></tr><tr><td>6</td></tr><tr><td>7</td></tr><tr><td>8</td></tr><tr><td>9</td></tr><tr><td>10</td></tr><tr><td>11</td></tr></tbody></table></div>"
      ],
      "text/plain": [
       "shape: (12, 1)\n",
       "┌────────────┐\n",
       "│ num_group2 │\n",
       "│ ---        │\n",
       "│ u8         │\n",
       "╞════════════╡\n",
       "│ 0          │\n",
       "│ 1          │\n",
       "│ 2          │\n",
       "│ 3          │\n",
       "│ 4          │\n",
       "│ 5          │\n",
       "│ 6          │\n",
       "│ 7          │\n",
       "│ 8          │\n",
       "│ 9          │\n",
       "│ 10         │\n",
       "│ 11         │\n",
       "└────────────┘"
      ]
     },
     "execution_count": 28,
     "metadata": {},
     "output_type": "execute_result"
    }
   ],
   "source": [
    "(\n",
    "    train_previous_application_status\n",
    "    .select(\"num_group2\")\n",
    "    .unique()\n",
    "    .collect(streaming=True)\n",
    "    .sort(by=\"num_group2\")\n",
    ")"
   ]
  }
 ],
 "metadata": {
  "kernelspec": {
   "display_name": "base",
   "language": "python",
   "name": "python3"
  },
  "language_info": {
   "codemirror_mode": {
    "name": "ipython",
    "version": 3
   },
   "file_extension": ".py",
   "mimetype": "text/x-python",
   "name": "python",
   "nbconvert_exporter": "python",
   "pygments_lexer": "ipython3",
   "version": "3.11.7"
  }
 },
 "nbformat": 4,
 "nbformat_minor": 2
}
