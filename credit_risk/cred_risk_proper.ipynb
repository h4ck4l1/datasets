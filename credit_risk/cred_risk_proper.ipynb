{
 "cells": [
  {
   "cell_type": "code",
   "execution_count": 39,
   "metadata": {},
   "outputs": [
    {
     "data": {
      "text/plain": [
       "'بِسْمِ اللهِ الرَّحْمٰنِ الرَّحِيْمِ'"
      ]
     },
     "execution_count": 39,
     "metadata": {},
     "output_type": "execute_result"
    }
   ],
   "source": [
    "'''بِسْمِ اللهِ الرَّحْمٰنِ الرَّحِيْمِ'''"
   ]
  },
  {
   "cell_type": "code",
   "execution_count": 40,
   "metadata": {},
   "outputs": [
    {
     "data": {
      "text/plain": [
       "'سُبْحَـٰنَكَ لَا عِلْمَ لَنَآ إِلَّا مَا عَلَّمْتَنَآ ۖ إِنَّكَ أَنتَ الْعَلِيمُ الْحَكِيمُ'"
      ]
     },
     "execution_count": 40,
     "metadata": {},
     "output_type": "execute_result"
    }
   ],
   "source": [
    "'''سُبْحَـٰنَكَ لَا عِلْمَ لَنَآ إِلَّا مَا عَلَّمْتَنَآ ۖ إِنَّكَ أَنتَ الْعَلِيمُ الْحَكِيمُ'''"
   ]
  },
  {
   "cell_type": "code",
   "execution_count": 41,
   "metadata": {},
   "outputs": [
    {
     "data": {
      "text/html": [
       "\n",
       "<style>\n",
       "    * {\n",
       "        font-family: Monaco;\n",
       "    }\n",
       "</style>\n"
      ],
      "text/plain": [
       "<IPython.core.display.HTML object>"
      ]
     },
     "execution_count": 41,
     "metadata": {},
     "output_type": "execute_result"
    }
   ],
   "source": [
    "from IPython.core.display import HTML\n",
    "HTML(r\"\"\"\n",
    "<style>\n",
    "    * {\n",
    "        font-family: Monaco;\n",
    "    }\n",
    "</style>\n",
    "\"\"\")"
   ]
  },
  {
   "cell_type": "code",
   "execution_count": 42,
   "metadata": {},
   "outputs": [
    {
     "data": {
      "text/plain": [
       "12"
      ]
     },
     "execution_count": 42,
     "metadata": {},
     "output_type": "execute_result"
    }
   ],
   "source": [
    "import os,sys,warnings,re,math,gc,time\n",
    "warnings.filterwarnings(\"ignore\")\n",
    "os.cpu_count()"
   ]
  },
  {
   "cell_type": "code",
   "execution_count": 43,
   "metadata": {},
   "outputs": [
    {
     "name": "stdout",
     "output_type": "stream",
     "text": [
      "Exception reporting mode: Minimal\n"
     ]
    }
   ],
   "source": [
    "os.environ[\"POLARS_MAX_THREADS\"] = \"40\"\n",
    "import numpy as np\n",
    "import pandas as pd\n",
    "import polars as pl\n",
    "import polars.selectors as cs\n",
    "from glob import glob\n",
    "from pathlib import Path\n",
    "from tqdm import tqdm\n",
    "from concurrent.futures import ThreadPoolExecutor\n",
    "import plotly.express as px\n",
    "import plotly.graph_objects as go\n",
    "import plotly.io as pio\n",
    "from plotly.subplots import make_subplots\n",
    "pio.templates[\"mod\"] = go.layout.Template(layout=dict(font=dict(family=\"Monaco\",size=15)))\n",
    "pio.templates.default = \"mod+plotly_dark\"\n",
    "from sklearn.metrics import auc,roc_auc_score\n",
    "from sklearn.model_selection import train_test_split\n",
    "import lightgbm as lgb\n",
    "import miceforest as mf\n",
    "from miceforest import mean_match_shap,mean_match_default,mean_match_fast_cat\n",
    "%xmode Minimal"
   ]
  },
  {
   "cell_type": "code",
   "execution_count": 44,
   "metadata": {},
   "outputs": [
    {
     "data": {
      "text/plain": [
       "polars.config.Config"
      ]
     },
     "execution_count": 44,
     "metadata": {},
     "output_type": "execute_result"
    }
   ],
   "source": [
    "pl.Config.set_fmt_str_lengths(100)\n",
    "pl.Config.set_float_precision(2)\n",
    "pl.Config.set_fmt_float(\"full\")\n",
    "pl.Config.set_tbl_rows(40)"
   ]
  },
  {
   "cell_type": "code",
   "execution_count": 45,
   "metadata": {},
   "outputs": [],
   "source": [
    "path_to_train = Path(\"Downloads/credit_risk/train/\")\n",
    "path_to_test = Path(\"Downloads/credit_risk/test/\")\n",
    "path_to_features = Path(\"Downloads/feature_definitions.csv\")"
   ]
  },
  {
   "cell_type": "code",
   "execution_count": 46,
   "metadata": {},
   "outputs": [
    {
     "data": {
      "text/html": [
       "<div><style>\n",
       ".dataframe > thead > tr,\n",
       ".dataframe > tbody > tr {\n",
       "  text-align: right;\n",
       "  white-space: pre-wrap;\n",
       "}\n",
       "</style>\n",
       "<small>shape: (5, 2)</small><table border=\"1\" class=\"dataframe\"><thead><tr><th>Variable</th><th>Description</th></tr><tr><td>str</td><td>str</td></tr></thead><tbody><tr><td>&quot;actualdpd_943P&quot;</td><td>&quot;Days Past Due (DPD) of previous contract (actual).&quot;</td></tr><tr><td>&quot;actualdpdtolerance_344P&quot;</td><td>&quot;DPD of client with tolerance.&quot;</td></tr><tr><td>&quot;addres_district_368M&quot;</td><td>&quot;District of the person&#x27;s address.&quot;</td></tr><tr><td>&quot;addres_role_871L&quot;</td><td>&quot;Role of person&#x27;s address.&quot;</td></tr><tr><td>&quot;addres_zip_823M&quot;</td><td>&quot;Zip code of the address.&quot;</td></tr></tbody></table></div>"
      ],
      "text/plain": [
       "shape: (5, 2)\n",
       "┌─────────────────────────┬────────────────────────────────────────────────────┐\n",
       "│ Variable                ┆ Description                                        │\n",
       "│ ---                     ┆ ---                                                │\n",
       "│ str                     ┆ str                                                │\n",
       "╞═════════════════════════╪════════════════════════════════════════════════════╡\n",
       "│ actualdpd_943P          ┆ Days Past Due (DPD) of previous contract (actual). │\n",
       "│ actualdpdtolerance_344P ┆ DPD of client with tolerance.                      │\n",
       "│ addres_district_368M    ┆ District of the person's address.                  │\n",
       "│ addres_role_871L        ┆ Role of person's address.                          │\n",
       "│ addres_zip_823M         ┆ Zip code of the address.                           │\n",
       "└─────────────────────────┴────────────────────────────────────────────────────┘"
      ]
     },
     "execution_count": 46,
     "metadata": {},
     "output_type": "execute_result"
    }
   ],
   "source": [
    "feat_df = pl.read_csv(path_to_features)\n",
    "feat_df.head()"
   ]
  },
  {
   "cell_type": "code",
   "execution_count": 47,
   "metadata": {},
   "outputs": [
    {
     "data": {
      "text/html": [
       "<div><style>\n",
       ".dataframe > thead > tr,\n",
       ".dataframe > tbody > tr {\n",
       "  text-align: right;\n",
       "  white-space: pre-wrap;\n",
       "}\n",
       "</style>\n",
       "<small>shape: (5, 3)</small><table border=\"1\" class=\"dataframe\"><thead><tr><th>index</th><th>path</th><th>filename</th></tr><tr><td>i64</td><td>str</td><td>str</td></tr></thead><tbody><tr><td>31</td><td>&quot;Downloads/credit_risk/train/train_applprev_1_0.parquet&quot;</td><td>&quot;train_applprev_1_0.parquet&quot;</td></tr><tr><td>13</td><td>&quot;Downloads/credit_risk/train/train_applprev_1_1.parquet&quot;</td><td>&quot;train_applprev_1_1.parquet&quot;</td></tr><tr><td>0</td><td>&quot;Downloads/credit_risk/train/train_applprev_2.parquet&quot;</td><td>&quot;train_applprev_2.parquet&quot;</td></tr><tr><td>7</td><td>&quot;Downloads/credit_risk/train/train_base.parquet&quot;</td><td>&quot;train_base.parquet&quot;</td></tr><tr><td>11</td><td>&quot;Downloads/credit_risk/train/train_credit_bureau_a_1_0.parquet&quot;</td><td>&quot;train_credit_bureau_a_1_0.parquet&quot;</td></tr></tbody></table></div>"
      ],
      "text/plain": [
       "shape: (5, 3)\n",
       "┌───────┬──────────────────────────────────────────────────────┬───────────────────────────────────┐\n",
       "│ index ┆ path                                                 ┆ filename                          │\n",
       "│ ---   ┆ ---                                                  ┆ ---                               │\n",
       "│ i64   ┆ str                                                  ┆ str                               │\n",
       "╞═══════╪══════════════════════════════════════════════════════╪═══════════════════════════════════╡\n",
       "│ 31    ┆ Downloads/credit_risk/train/train_applprev_1_0.parqu ┆ train_applprev_1_0.parquet        │\n",
       "│       ┆ et                                                   ┆                                   │\n",
       "│ 13    ┆ Downloads/credit_risk/train/train_applprev_1_1.parqu ┆ train_applprev_1_1.parquet        │\n",
       "│       ┆ et                                                   ┆                                   │\n",
       "│ 0     ┆ Downloads/credit_risk/train/train_applprev_2.parquet ┆ train_applprev_2.parquet          │\n",
       "│ 7     ┆ Downloads/credit_risk/train/train_base.parquet       ┆ train_base.parquet                │\n",
       "│ 11    ┆ Downloads/credit_risk/train/train_credit_bureau_a_1_ ┆ train_credit_bureau_a_1_0.parquet │\n",
       "│       ┆ 0.parquet                                            ┆                                   │\n",
       "└───────┴──────────────────────────────────────────────────────┴───────────────────────────────────┘"
      ]
     },
     "metadata": {},
     "output_type": "display_data"
    },
    {
     "data": {
      "text/html": [
       "<div><style>\n",
       ".dataframe > thead > tr,\n",
       ".dataframe > tbody > tr {\n",
       "  text-align: right;\n",
       "  white-space: pre-wrap;\n",
       "}\n",
       "</style>\n",
       "<small>shape: (5, 3)</small><table border=\"1\" class=\"dataframe\"><thead><tr><th>index</th><th>path</th><th>filename</th></tr><tr><td>i64</td><td>str</td><td>str</td></tr></thead><tbody><tr><td>31</td><td>&quot;Downloads/credit_risk/test/test_applprev_1_0.parquet&quot;</td><td>&quot;test_applprev_1_0.parquet&quot;</td></tr><tr><td>35</td><td>&quot;Downloads/credit_risk/test/test_applprev_1_1.parquet&quot;</td><td>&quot;test_applprev_1_1.parquet&quot;</td></tr><tr><td>9</td><td>&quot;Downloads/credit_risk/test/test_applprev_1_2.parquet&quot;</td><td>&quot;test_applprev_1_2.parquet&quot;</td></tr><tr><td>1</td><td>&quot;Downloads/credit_risk/test/test_applprev_2.parquet&quot;</td><td>&quot;test_applprev_2.parquet&quot;</td></tr><tr><td>33</td><td>&quot;Downloads/credit_risk/test/test_base.parquet&quot;</td><td>&quot;test_base.parquet&quot;</td></tr></tbody></table></div>"
      ],
      "text/plain": [
       "shape: (5, 3)\n",
       "┌───────┬──────────────────────────────────────────────────────┬───────────────────────────┐\n",
       "│ index ┆ path                                                 ┆ filename                  │\n",
       "│ ---   ┆ ---                                                  ┆ ---                       │\n",
       "│ i64   ┆ str                                                  ┆ str                       │\n",
       "╞═══════╪══════════════════════════════════════════════════════╪═══════════════════════════╡\n",
       "│ 31    ┆ Downloads/credit_risk/test/test_applprev_1_0.parquet ┆ test_applprev_1_0.parquet │\n",
       "│ 35    ┆ Downloads/credit_risk/test/test_applprev_1_1.parquet ┆ test_applprev_1_1.parquet │\n",
       "│ 9     ┆ Downloads/credit_risk/test/test_applprev_1_2.parquet ┆ test_applprev_1_2.parquet │\n",
       "│ 1     ┆ Downloads/credit_risk/test/test_applprev_2.parquet   ┆ test_applprev_2.parquet   │\n",
       "│ 33    ┆ Downloads/credit_risk/test/test_base.parquet         ┆ test_base.parquet         │\n",
       "└───────┴──────────────────────────────────────────────────────┴───────────────────────────┘"
      ]
     },
     "metadata": {},
     "output_type": "display_data"
    }
   ],
   "source": [
    "all_train_files = glob(\"Downloads/credit_risk/train/*.parquet\")\n",
    "all_test_files = glob(\"Downloads/credit_risk/test/*.parquet\")\n",
    "train_files_df = pl.DataFrame({\"index\":range(len(all_train_files)),\"path\":all_train_files})\n",
    "test_files_df = pl.DataFrame({\"index\":range(len(all_test_files)),\"path\":all_test_files})\n",
    "train_files_df = (\n",
    "    train_files_df\n",
    "    .with_columns(\n",
    "        (pl.col(\"path\").str.split(\"/\").list.get(-1)).alias(\"filename\")\n",
    "    )\n",
    "    .sort(by=\"filename\")\n",
    ")\n",
    "test_files_df = (\n",
    "    test_files_df\n",
    "    .with_columns(\n",
    "        (pl.col(\"path\").str.split(\"/\").list.get(-1)).alias(\"filename\")\n",
    "    )\n",
    "    .sort(by=\"filename\")\n",
    ")\n",
    "display(train_files_df.head())\n",
    "display(test_files_df.head())"
   ]
  },
  {
   "cell_type": "code",
   "execution_count": 48,
   "metadata": {},
   "outputs": [
    {
     "data": {
      "text/html": [
       "<div><style>\n",
       ".dataframe > thead > tr,\n",
       ".dataframe > tbody > tr {\n",
       "  text-align: right;\n",
       "  white-space: pre-wrap;\n",
       "}\n",
       "</style>\n",
       "<small>shape: (1, 3)</small><table border=\"1\" class=\"dataframe\"><thead><tr><th>index</th><th>path</th><th>filename</th></tr><tr><td>i64</td><td>str</td><td>str</td></tr></thead><tbody><tr><td>7</td><td>&quot;Downloads/credit_risk/train/train_base.parquet&quot;</td><td>&quot;train_base.parquet&quot;</td></tr></tbody></table></div>"
      ],
      "text/plain": [
       "shape: (1, 3)\n",
       "┌───────┬────────────────────────────────────────────────┬────────────────────┐\n",
       "│ index ┆ path                                           ┆ filename           │\n",
       "│ ---   ┆ ---                                            ┆ ---                │\n",
       "│ i64   ┆ str                                            ┆ str                │\n",
       "╞═══════╪════════════════════════════════════════════════╪════════════════════╡\n",
       "│ 7     ┆ Downloads/credit_risk/train/train_base.parquet ┆ train_base.parquet │\n",
       "└───────┴────────────────────────────────────────────────┴────────────────────┘"
      ]
     },
     "execution_count": 48,
     "metadata": {},
     "output_type": "execute_result"
    }
   ],
   "source": [
    "train_files_df.filter(pl.col(\"filename\").str.contains(\"base\"))"
   ]
  },
  {
   "cell_type": "code",
   "execution_count": 49,
   "metadata": {},
   "outputs": [
    {
     "data": {
      "text/html": [
       "<div><style>\n",
       ".dataframe > thead > tr,\n",
       ".dataframe > tbody > tr {\n",
       "  text-align: right;\n",
       "  white-space: pre-wrap;\n",
       "}\n",
       "</style>\n",
       "<small>shape: (5, 5)</small><table border=\"1\" class=\"dataframe\"><thead><tr><th>case_id_base</th><th>month</th><th>week</th><th>weekday</th><th>target</th></tr><tr><td>u32</td><td>i8</td><td>i8</td><td>i8</td><td>u8</td></tr></thead><tbody><tr><td>0</td><td>1</td><td>1</td><td>4</td><td>0</td></tr><tr><td>1</td><td>1</td><td>1</td><td>4</td><td>0</td></tr><tr><td>2</td><td>1</td><td>1</td><td>5</td><td>0</td></tr><tr><td>3</td><td>1</td><td>1</td><td>4</td><td>0</td></tr><tr><td>4</td><td>1</td><td>1</td><td>5</td><td>1</td></tr></tbody></table></div>"
      ],
      "text/plain": [
       "shape: (5, 5)\n",
       "┌──────────────┬───────┬──────┬─────────┬────────┐\n",
       "│ case_id_base ┆ month ┆ week ┆ weekday ┆ target │\n",
       "│ ---          ┆ ---   ┆ ---  ┆ ---     ┆ ---    │\n",
       "│ u32          ┆ i8    ┆ i8   ┆ i8      ┆ u8     │\n",
       "╞══════════════╪═══════╪══════╪═════════╪════════╡\n",
       "│ 0            ┆ 1     ┆ 1    ┆ 4       ┆ 0      │\n",
       "│ 1            ┆ 1     ┆ 1    ┆ 4       ┆ 0      │\n",
       "│ 2            ┆ 1     ┆ 1    ┆ 5       ┆ 0      │\n",
       "│ 3            ┆ 1     ┆ 1    ┆ 4       ┆ 0      │\n",
       "│ 4            ┆ 1     ┆ 1    ┆ 5       ┆ 1      │\n",
       "└──────────────┴───────┴──────┴─────────┴────────┘"
      ]
     },
     "metadata": {},
     "output_type": "display_data"
    },
    {
     "data": {
      "text/plain": [
       "(1526659, 5)"
      ]
     },
     "execution_count": 49,
     "metadata": {},
     "output_type": "execute_result"
    }
   ],
   "source": [
    "train_base = (\n",
    "    pl.scan_parquet(all_train_files[7])\n",
    "    .select(\n",
    "        pl.col(\"case_id\").cast(pl.UInt32).alias(\"case_id_base\"),\n",
    "        cs.contains(\"date\").str.to_date().alias(\"date\"),\n",
    "        pl.col(\"target\").cast(pl.UInt8)\n",
    "    )\n",
    "    .with_columns(\n",
    "        pl.col(\"date\").dt.month().alias(\"month\"),\n",
    "        pl.col(\"date\").dt.week().alias(\"week\"),\n",
    "        pl.col(\"date\").dt.weekday().alias(\"weekday\")\n",
    "    )\n",
    "\n",
    "    .select(~cs.contains([\"target\",\"date\"]),cs.contains(\"target\"))\n",
    ")\n",
    "display(train_base.fetch().head())\n",
    "train_base.collect(streaming=True).shape"
   ]
  },
  {
   "cell_type": "code",
   "execution_count": 50,
   "metadata": {},
   "outputs": [
    {
     "data": {
      "text/html": [
       "<div><style>\n",
       ".dataframe > thead > tr,\n",
       ".dataframe > tbody > tr {\n",
       "  text-align: right;\n",
       "  white-space: pre-wrap;\n",
       "}\n",
       "</style>\n",
       "<small>shape: (1, 3)</small><table border=\"1\" class=\"dataframe\"><thead><tr><th>index</th><th>path</th><th>filename</th></tr><tr><td>i64</td><td>str</td><td>str</td></tr></thead><tbody><tr><td>33</td><td>&quot;Downloads/credit_risk/test/test_base.parquet&quot;</td><td>&quot;test_base.parquet&quot;</td></tr></tbody></table></div>"
      ],
      "text/plain": [
       "shape: (1, 3)\n",
       "┌───────┬──────────────────────────────────────────────┬───────────────────┐\n",
       "│ index ┆ path                                         ┆ filename          │\n",
       "│ ---   ┆ ---                                          ┆ ---               │\n",
       "│ i64   ┆ str                                          ┆ str               │\n",
       "╞═══════╪══════════════════════════════════════════════╪═══════════════════╡\n",
       "│ 33    ┆ Downloads/credit_risk/test/test_base.parquet ┆ test_base.parquet │\n",
       "└───────┴──────────────────────────────────────────────┴───────────────────┘"
      ]
     },
     "execution_count": 50,
     "metadata": {},
     "output_type": "execute_result"
    }
   ],
   "source": [
    "test_files_df.filter(pl.col(\"filename\").str.contains(\"base\"))"
   ]
  },
  {
   "cell_type": "code",
   "execution_count": 51,
   "metadata": {},
   "outputs": [
    {
     "data": {
      "text/html": [
       "<div><style>\n",
       ".dataframe > thead > tr,\n",
       ".dataframe > tbody > tr {\n",
       "  text-align: right;\n",
       "  white-space: pre-wrap;\n",
       "}\n",
       "</style>\n",
       "<small>shape: (5, 4)</small><table border=\"1\" class=\"dataframe\"><thead><tr><th>case_id_base</th><th>month</th><th>week</th><th>weekday</th></tr><tr><td>u32</td><td>i8</td><td>i8</td><td>i8</td></tr></thead><tbody><tr><td>57543</td><td>10</td><td>41</td><td>2</td></tr><tr><td>57549</td><td>10</td><td>41</td><td>2</td></tr><tr><td>57551</td><td>10</td><td>41</td><td>2</td></tr><tr><td>57552</td><td>10</td><td>41</td><td>3</td></tr><tr><td>57569</td><td>10</td><td>41</td><td>2</td></tr></tbody></table></div>"
      ],
      "text/plain": [
       "shape: (5, 4)\n",
       "┌──────────────┬───────┬──────┬─────────┐\n",
       "│ case_id_base ┆ month ┆ week ┆ weekday │\n",
       "│ ---          ┆ ---   ┆ ---  ┆ ---     │\n",
       "│ u32          ┆ i8    ┆ i8   ┆ i8      │\n",
       "╞══════════════╪═══════╪══════╪═════════╡\n",
       "│ 57543        ┆ 10    ┆ 41   ┆ 2       │\n",
       "│ 57549        ┆ 10    ┆ 41   ┆ 2       │\n",
       "│ 57551        ┆ 10    ┆ 41   ┆ 2       │\n",
       "│ 57552        ┆ 10    ┆ 41   ┆ 3       │\n",
       "│ 57569        ┆ 10    ┆ 41   ┆ 2       │\n",
       "└──────────────┴───────┴──────┴─────────┘"
      ]
     },
     "metadata": {},
     "output_type": "display_data"
    },
    {
     "name": "stdout",
     "output_type": "stream",
     "text": [
      "(10, 4)\n"
     ]
    }
   ],
   "source": [
    "test_base = (\n",
    "    pl.scan_parquet(all_test_files[33])\n",
    "    .select(\n",
    "        pl.col(\"case_id\").cast(pl.UInt32).alias(\"case_id_base\"),\n",
    "        cs.contains(\"date\").str.to_date().alias(\"date\"),\n",
    "    )\n",
    "    .with_columns(\n",
    "        pl.col(\"date\").dt.month().alias(\"month\"),\n",
    "        pl.col(\"date\").dt.week().alias(\"week\"),\n",
    "        pl.col(\"date\").dt.weekday().alias(\"weekday\")\n",
    "    )\n",
    "\n",
    "    .select(~cs.contains([\"date\"]),cs.contains(\"target\"))\n",
    ")\n",
    "display(test_base.fetch().head())\n",
    "print(test_base.collect(streaming=True).shape)"
   ]
  },
  {
   "cell_type": "code",
   "execution_count": 52,
   "metadata": {},
   "outputs": [
    {
     "data": {
      "text/html": [
       "<div><style>\n",
       ".dataframe > thead > tr,\n",
       ".dataframe > tbody > tr {\n",
       "  text-align: right;\n",
       "  white-space: pre-wrap;\n",
       "}\n",
       "</style>\n",
       "<small>shape: (3, 3)</small><table border=\"1\" class=\"dataframe\"><thead><tr><th>index</th><th>path</th><th>filename</th></tr><tr><td>i64</td><td>str</td><td>str</td></tr></thead><tbody><tr><td>31</td><td>&quot;Downloads/credit_risk/train/train_applprev_1_0.parquet&quot;</td><td>&quot;train_applprev_1_0.parquet&quot;</td></tr><tr><td>13</td><td>&quot;Downloads/credit_risk/train/train_applprev_1_1.parquet&quot;</td><td>&quot;train_applprev_1_1.parquet&quot;</td></tr><tr><td>0</td><td>&quot;Downloads/credit_risk/train/train_applprev_2.parquet&quot;</td><td>&quot;train_applprev_2.parquet&quot;</td></tr></tbody></table></div>"
      ],
      "text/plain": [
       "shape: (3, 3)\n",
       "┌───────┬────────────────────────────────────────────────────────┬────────────────────────────┐\n",
       "│ index ┆ path                                                   ┆ filename                   │\n",
       "│ ---   ┆ ---                                                    ┆ ---                        │\n",
       "│ i64   ┆ str                                                    ┆ str                        │\n",
       "╞═══════╪════════════════════════════════════════════════════════╪════════════════════════════╡\n",
       "│ 31    ┆ Downloads/credit_risk/train/train_applprev_1_0.parquet ┆ train_applprev_1_0.parquet │\n",
       "│ 13    ┆ Downloads/credit_risk/train/train_applprev_1_1.parquet ┆ train_applprev_1_1.parquet │\n",
       "│ 0     ┆ Downloads/credit_risk/train/train_applprev_2.parquet   ┆ train_applprev_2.parquet   │\n",
       "└───────┴────────────────────────────────────────────────────────┴────────────────────────────┘"
      ]
     },
     "execution_count": 52,
     "metadata": {},
     "output_type": "execute_result"
    }
   ],
   "source": [
    "train_files_df.filter(pl.col(\"filename\").str.contains(\"appl\"))"
   ]
  },
  {
   "cell_type": "markdown",
   "metadata": {},
   "source": [
    "## Case_id, num_group1 and num_group2 relationships\n",
    "\n",
    "<font size=6>\n",
    "\n",
    "Goal of this competition is to predict risk quality of clients (or to be precise applications of clients), so client and his/her application is entity (case_id) for which your model predict probability of default (credit score).\n",
    "\n",
    "- depth=0 (what we call static attributes) are attributes that are aggregated on case_id level. Example can be age of client or gender, 1 records per 1 case_id.\n",
    "\n",
    "- depth=1, those are attributes where we have several records per client/application. Example can be previous applications or loans in credit bureau register, each client can have from 0 to n records. Therefore, for one case_id there might be several records, and to index them we use num_group1\n",
    "\n",
    "- depth=2: For some attributes with depth=1 we have more detailed information, for example for previous applications we have data about instalments like date of payments or days past due of each payments. It means for each previous application, you can have 0…n records about instalments/payments. And as an index is used num_group2\n",
    "\n",
    "To sum up, 1 client can have several previous applications, and each of those previous applications can have several records about instalments, payments, days past due, etc.\n",
    "\n",
    "- num_group1 : 0 -> 19\n",
    "- num_group2 : 0 -> 11"
   ]
  },
  {
   "cell_type": "markdown",
   "metadata": {},
   "source": [
    "## Functions"
   ]
  },
  {
   "cell_type": "code",
   "execution_count": 53,
   "metadata": {},
   "outputs": [],
   "source": [
    "def select_imputable_cols(df:pl.LazyFrame,threshold:int=10) -> pl.LazyFrame:\n",
    "    col_list = (\n",
    "        df\n",
    "        .collect(streaming=True)\n",
    "        .pipe(lambda df: (df.null_count()/df.shape[0])*100)\n",
    "        .transpose(include_header=True,column_names=[\"percentage of nulls\"])\n",
    "        .join(\n",
    "            feat_df,\n",
    "            left_on=\"column\",\n",
    "            right_on=\"Variable\",\n",
    "            how=\"left\"\n",
    "        )\n",
    "        .sort(by=\"percentage of nulls\")\n",
    "        .select([\"column\",\"Description\",\"percentage of nulls\"])\n",
    "        .filter(pl.col(\"percentage of nulls\") < threshold)\n",
    "        [\"column\"].to_list()\n",
    "    )\n",
    "    _ = df.select(col_list)\n",
    "    gc.collect()\n",
    "    return _"
   ]
  },
  {
   "cell_type": "code",
   "execution_count": 54,
   "metadata": {},
   "outputs": [],
   "source": [
    "def rename_cols(df: pl.LazyFrame) -> pl.LazyFrame:\n",
    "    return (\n",
    "        df\n",
    "        .pipe(\n",
    "            lambda df: df.rename(\n",
    "                {_:_ + \" \" + feat_df.filter(pl.col(\"Variable\") == _).select(\"Description\").item() for _ in df.columns if _ not in [\"case_id\",\"num_group1\",\"num_group2\"]}\n",
    "            )\n",
    "        )\n",
    "    )"
   ]
  },
  {
   "cell_type": "code",
   "execution_count": 55,
   "metadata": {},
   "outputs": [],
   "source": [
    "train_past_depth_one = (\n",
    "    pl.scan_parquet(path_to_train/\"train_applprev_1_*.parquet\",rechunk=True)\n",
    "    .drop(cs.contains(\"date\"))\n",
    "    .select(\n",
    "        pl.col(\"case_id\").cast(pl.UInt32),\n",
    "        cs.contains(\"num_group\").cast(pl.UInt8),\n",
    "        cs.float().cast(pl.Float32),\n",
    "        cs.string().cast(pl.Categorical),\n",
    "    )\n",
    "    .pipe(select_imputable_cols)\n",
    "    .pipe(rename_cols)\n",
    ")"
   ]
  },
  {
   "cell_type": "code",
   "execution_count": 56,
   "metadata": {},
   "outputs": [
    {
     "data": {
      "text/html": [
       "<div><style>\n",
       ".dataframe > thead > tr,\n",
       ".dataframe > tbody > tr {\n",
       "  text-align: right;\n",
       "  white-space: pre-wrap;\n",
       "}\n",
       "</style>\n",
       "<small>shape: (10, 20)</small><table border=\"1\" class=\"dataframe\"><thead><tr><th>case_id</th><th>num_group1</th><th>cancelreason_3545846M Application cancellation reason.</th><th>district_544M District of the address used in the previous loan application.</th><th>education_1138M Applicant&#x27;s education level from their previous application.</th><th>postype_4733339M Type of point of sale.</th><th>profession_152M Profession of the client during their previous loan application.</th><th>rejectreason_755M Reason for previous application rejection.</th><th>rejectreasonclient_4145042M Reason for rejection of the client&#x27;s previous application.</th><th>status_219L Previous application status.</th><th>actualdpd_943P Days Past Due (DPD) of previous contract (actual).</th><th>mainoccupationinc_437A Client&#x27;s main income amount in their previous application.</th><th>credacc_credlmt_575A Credit card credit limit provided for previous applications.</th><th>credamount_590A Loan amount or card limit of previous applications.</th><th>downpmt_134A Previous application downpayment amount.</th><th>credtype_587L Credit type of previous application.</th><th>inittransactioncode_279L Type of the initial transaction made in the previous application of the client.</th><th>annuity_853A Monthly annuity for previous applications.</th><th>pmtnum_8L Number of payments made for the previous application.</th><th>tenor_203L Number of instalments in the previous application.</th></tr><tr><td>u32</td><td>u8</td><td>cat</td><td>cat</td><td>cat</td><td>cat</td><td>cat</td><td>cat</td><td>cat</td><td>cat</td><td>f32</td><td>f32</td><td>f32</td><td>f32</td><td>f32</td><td>cat</td><td>cat</td><td>f32</td><td>f32</td><td>f32</td></tr></thead><tbody><tr><td>2</td><td>0</td><td>&quot;a55475b1&quot;</td><td>&quot;P136_108_173&quot;</td><td>&quot;P97_36_170&quot;</td><td>&quot;a55475b1&quot;</td><td>&quot;a55475b1&quot;</td><td>&quot;a55475b1&quot;</td><td>&quot;a55475b1&quot;</td><td>&quot;D&quot;</td><td>0.00</td><td>8200.00</td><td>0.00</td><td>10000.00</td><td>0.00</td><td>&quot;CAL&quot;</td><td>&quot;CASH&quot;</td><td>640.20</td><td>24.00</td><td>24.00</td></tr><tr><td>2</td><td>1</td><td>&quot;a55475b1&quot;</td><td>&quot;P136_108_173&quot;</td><td>&quot;P97_36_170&quot;</td><td>&quot;a55475b1&quot;</td><td>&quot;a55475b1&quot;</td><td>&quot;a55475b1&quot;</td><td>&quot;a55475b1&quot;</td><td>&quot;D&quot;</td><td>0.00</td><td>8200.00</td><td>0.00</td><td>16000.00</td><td>0.00</td><td>&quot;CAL&quot;</td><td>&quot;CASH&quot;</td><td>1682.40</td><td>12.00</td><td>12.00</td></tr><tr><td>3</td><td>0</td><td>&quot;P94_109_143&quot;</td><td>&quot;P131_33_167&quot;</td><td>&quot;P97_36_170&quot;</td><td>&quot;a55475b1&quot;</td><td>&quot;a55475b1&quot;</td><td>&quot;P94_109_143&quot;</td><td>&quot;a55475b1&quot;</td><td>&quot;D&quot;</td><td>0.00</td><td>11000.00</td><td>0.00</td><td>59999.80</td><td>0.00</td><td>&quot;CAL&quot;</td><td>&quot;CASH&quot;</td><td>6140.00</td><td>12.00</td><td>12.00</td></tr><tr><td>4</td><td>0</td><td>&quot;P24_27_36&quot;</td><td>&quot;P194_82_174&quot;</td><td>&quot;a55475b1&quot;</td><td>&quot;a55475b1&quot;</td><td>&quot;a55475b1&quot;</td><td>&quot;a55475b1&quot;</td><td>&quot;a55475b1&quot;</td><td>&quot;T&quot;</td><td>0.00</td><td>16000.00</td><td>0.00</td><td>40000.00</td><td>0.00</td><td>&quot;CAL&quot;</td><td>&quot;CASH&quot;</td><td>2556.60</td><td>24.00</td><td>24.00</td></tr><tr><td>5</td><td>0</td><td>&quot;P85_114_140&quot;</td><td>&quot;P54_133_26&quot;</td><td>&quot;a55475b1&quot;</td><td>&quot;a55475b1&quot;</td><td>&quot;a55475b1&quot;</td><td>&quot;a55475b1&quot;</td><td>&quot;a55475b1&quot;</td><td>&quot;T&quot;</td><td>0.00</td><td>62000.00</td><td>null</td><td>null</td><td>null</td><td>null</td><td>null</td><td>null</td><td>null</td><td>null</td></tr><tr><td>6</td><td>0</td><td>&quot;P94_109_143&quot;</td><td>&quot;P82_154_182&quot;</td><td>&quot;a55475b1&quot;</td><td>&quot;a55475b1&quot;</td><td>&quot;a55475b1&quot;</td><td>&quot;P94_109_143&quot;</td><td>&quot;a55475b1&quot;</td><td>&quot;D&quot;</td><td>0.00</td><td>37000.00</td><td>0.00</td><td>15980.00</td><td>0.00</td><td>&quot;CAL&quot;</td><td>&quot;CASH&quot;</td><td>1773.80</td><td>11.00</td><td>11.00</td></tr><tr><td>6</td><td>1</td><td>&quot;P94_109_143&quot;</td><td>&quot;P82_154_182&quot;</td><td>&quot;P97_36_170&quot;</td><td>&quot;a55475b1&quot;</td><td>&quot;a55475b1&quot;</td><td>&quot;P94_109_143&quot;</td><td>&quot;a55475b1&quot;</td><td>&quot;D&quot;</td><td>0.00</td><td>35000.00</td><td>0.00</td><td>32000.00</td><td>0.00</td><td>&quot;CAL&quot;</td><td>&quot;CASH&quot;</td><td>4189.60</td><td>11.00</td><td>11.00</td></tr><tr><td>6</td><td>2</td><td>&quot;a55475b1&quot;</td><td>&quot;a55475b1&quot;</td><td>&quot;P97_36_170&quot;</td><td>&quot;a55475b1&quot;</td><td>&quot;a55475b1&quot;</td><td>&quot;a55475b1&quot;</td><td>&quot;a55475b1&quot;</td><td>&quot;D&quot;</td><td>0.00</td><td>14000.00</td><td>0.00</td><td>17380.00</td><td>0.00</td><td>&quot;COL&quot;</td><td>&quot;POS&quot;</td><td>1110.40</td><td>24.00</td><td>24.00</td></tr><tr><td>10</td><td>0</td><td>&quot;P73_130_169&quot;</td><td>&quot;P38_65_49&quot;</td><td>&quot;P17_36_170&quot;</td><td>&quot;a55475b1&quot;</td><td>&quot;a55475b1&quot;</td><td>&quot;a55475b1&quot;</td><td>&quot;a55475b1&quot;</td><td>&quot;T&quot;</td><td>0.00</td><td>57000.00</td><td>0.00</td><td>100000.00</td><td>0.00</td><td>&quot;CAL&quot;</td><td>&quot;CASH&quot;</td><td>10916.60</td><td>12.00</td><td>12.00</td></tr><tr><td>13</td><td>0</td><td>&quot;P94_109_143&quot;</td><td>&quot;P120_80_181&quot;</td><td>&quot;a55475b1&quot;</td><td>&quot;a55475b1&quot;</td><td>&quot;a55475b1&quot;</td><td>&quot;P94_109_143&quot;</td><td>&quot;a55475b1&quot;</td><td>&quot;D&quot;</td><td>0.00</td><td>64000.00</td><td>0.00</td><td>40000.00</td><td>0.00</td><td>&quot;CAL&quot;</td><td>&quot;CASH&quot;</td><td>5069.60</td><td>12.00</td><td>12.00</td></tr></tbody></table></div>"
      ],
      "text/plain": [
       "shape: (10, 20)\n",
       "┌─────────┬────────────┬───────────┬───────────┬───┬───────────┬───────────┬───────────┬───────────┐\n",
       "│ case_id ┆ num_group1 ┆ cancelrea ┆ district_ ┆ … ┆ inittrans ┆ annuity_8 ┆ pmtnum_8L ┆ tenor_203 │\n",
       "│ ---     ┆ ---        ┆ son_35458 ┆ 544M      ┆   ┆ actioncod ┆ 53A       ┆ Number of ┆ L Number  │\n",
       "│ u32     ┆ u8         ┆ 46M Appli ┆ District  ┆   ┆ e_279L    ┆ Monthly   ┆ payments  ┆ of instal │\n",
       "│         ┆            ┆ cation    ┆ of the    ┆   ┆ Type of   ┆ annuity   ┆ made for  ┆ ments in  │\n",
       "│         ┆            ┆ cancellat ┆ address   ┆   ┆ the       ┆ for       ┆ the       ┆ the       │\n",
       "│         ┆            ┆ ion       ┆ used in   ┆   ┆ initial   ┆ previous  ┆ previous  ┆ previous  │\n",
       "│         ┆            ┆ reason.   ┆ the       ┆   ┆ transacti ┆ applicati ┆ applicati ┆ applicati │\n",
       "│         ┆            ┆ ---       ┆ previous  ┆   ┆ on made   ┆ ons.      ┆ on.       ┆ on.       │\n",
       "│         ┆            ┆ cat       ┆ loan appl ┆   ┆ in the    ┆ ---       ┆ ---       ┆ ---       │\n",
       "│         ┆            ┆           ┆ ication.  ┆   ┆ previous  ┆ f32       ┆ f32       ┆ f32       │\n",
       "│         ┆            ┆           ┆ ---       ┆   ┆ applicati ┆           ┆           ┆           │\n",
       "│         ┆            ┆           ┆ cat       ┆   ┆ on of the ┆           ┆           ┆           │\n",
       "│         ┆            ┆           ┆           ┆   ┆ cli…      ┆           ┆           ┆           │\n",
       "│         ┆            ┆           ┆           ┆   ┆ ---       ┆           ┆           ┆           │\n",
       "│         ┆            ┆           ┆           ┆   ┆ cat       ┆           ┆           ┆           │\n",
       "╞═════════╪════════════╪═══════════╪═══════════╪═══╪═══════════╪═══════════╪═══════════╪═══════════╡\n",
       "│ 2       ┆ 0          ┆ a55475b1  ┆ P136_108_ ┆ … ┆ CASH      ┆ 640.20    ┆ 24.00     ┆ 24.00     │\n",
       "│         ┆            ┆           ┆ 173       ┆   ┆           ┆           ┆           ┆           │\n",
       "│ 2       ┆ 1          ┆ a55475b1  ┆ P136_108_ ┆ … ┆ CASH      ┆ 1682.40   ┆ 12.00     ┆ 12.00     │\n",
       "│         ┆            ┆           ┆ 173       ┆   ┆           ┆           ┆           ┆           │\n",
       "│ 3       ┆ 0          ┆ P94_109_1 ┆ P131_33_1 ┆ … ┆ CASH      ┆ 6140.00   ┆ 12.00     ┆ 12.00     │\n",
       "│         ┆            ┆ 43        ┆ 67        ┆   ┆           ┆           ┆           ┆           │\n",
       "│ 4       ┆ 0          ┆ P24_27_36 ┆ P194_82_1 ┆ … ┆ CASH      ┆ 2556.60   ┆ 24.00     ┆ 24.00     │\n",
       "│         ┆            ┆           ┆ 74        ┆   ┆           ┆           ┆           ┆           │\n",
       "│ 5       ┆ 0          ┆ P85_114_1 ┆ P54_133_2 ┆ … ┆ null      ┆ null      ┆ null      ┆ null      │\n",
       "│         ┆            ┆ 40        ┆ 6         ┆   ┆           ┆           ┆           ┆           │\n",
       "│ 6       ┆ 0          ┆ P94_109_1 ┆ P82_154_1 ┆ … ┆ CASH      ┆ 1773.80   ┆ 11.00     ┆ 11.00     │\n",
       "│         ┆            ┆ 43        ┆ 82        ┆   ┆           ┆           ┆           ┆           │\n",
       "│ 6       ┆ 1          ┆ P94_109_1 ┆ P82_154_1 ┆ … ┆ CASH      ┆ 4189.60   ┆ 11.00     ┆ 11.00     │\n",
       "│         ┆            ┆ 43        ┆ 82        ┆   ┆           ┆           ┆           ┆           │\n",
       "│ 6       ┆ 2          ┆ a55475b1  ┆ a55475b1  ┆ … ┆ POS       ┆ 1110.40   ┆ 24.00     ┆ 24.00     │\n",
       "│ 10      ┆ 0          ┆ P73_130_1 ┆ P38_65_49 ┆ … ┆ CASH      ┆ 10916.60  ┆ 12.00     ┆ 12.00     │\n",
       "│         ┆            ┆ 69        ┆           ┆   ┆           ┆           ┆           ┆           │\n",
       "│ 13      ┆ 0          ┆ P94_109_1 ┆ P120_80_1 ┆ … ┆ CASH      ┆ 5069.60   ┆ 12.00     ┆ 12.00     │\n",
       "│         ┆            ┆ 43        ┆ 81        ┆   ┆           ┆           ┆           ┆           │\n",
       "└─────────┴────────────┴───────────┴───────────┴───┴───────────┴───────────┴───────────┴───────────┘"
      ]
     },
     "execution_count": 56,
     "metadata": {},
     "output_type": "execute_result"
    }
   ],
   "source": [
    "train_past_depth_one.fetch().head(10)"
   ]
  },
  {
   "cell_type": "code",
   "execution_count": 57,
   "metadata": {},
   "outputs": [
    {
     "data": {
      "text/html": [
       "<div><style>\n",
       ".dataframe > thead > tr,\n",
       ".dataframe > tbody > tr {\n",
       "  text-align: right;\n",
       "  white-space: pre-wrap;\n",
       "}\n",
       "</style>\n",
       "<small>shape: (5, 20)</small><table border=\"1\" class=\"dataframe\"><thead><tr><th>case_id</th><th>num_group1</th><th>actualdpd_943P Days Past Due (DPD) of previous contract (actual).</th><th>mainoccupationinc_437A Client&#x27;s main income amount in their previous application.</th><th>credacc_credlmt_575A Credit card credit limit provided for previous applications.</th><th>credamount_590A Loan amount or card limit of previous applications.</th><th>downpmt_134A Previous application downpayment amount.</th><th>annuity_853A Monthly annuity for previous applications.</th><th>pmtnum_8L Number of payments made for the previous application.</th><th>tenor_203L Number of instalments in the previous application.</th><th>cancelreason_3545846M Application cancellation reason.</th><th>district_544M District of the address used in the previous loan application.</th><th>education_1138M Applicant&#x27;s education level from their previous application.</th><th>postype_4733339M Type of point of sale.</th><th>profession_152M Profession of the client during their previous loan application.</th><th>rejectreason_755M Reason for previous application rejection.</th><th>rejectreasonclient_4145042M Reason for rejection of the client&#x27;s previous application.</th><th>status_219L Previous application status.</th><th>credtype_587L Credit type of previous application.</th><th>inittransactioncode_279L Type of the initial transaction made in the previous application of the client.</th></tr><tr><td>u32</td><td>u8</td><td>f32</td><td>f32</td><td>f32</td><td>f32</td><td>f32</td><td>f32</td><td>f32</td><td>f32</td><td>cat</td><td>cat</td><td>cat</td><td>cat</td><td>cat</td><td>cat</td><td>cat</td><td>cat</td><td>cat</td><td>cat</td></tr></thead><tbody><tr><td>2</td><td>0</td><td>0.00</td><td>8200.00</td><td>0.00</td><td>16000.00</td><td>0.00</td><td>1682.40</td><td>24.00</td><td>24.00</td><td>&quot;a55475b1&quot;</td><td>&quot;P136_108_173&quot;</td><td>&quot;P97_36_170&quot;</td><td>&quot;a55475b1&quot;</td><td>&quot;a55475b1&quot;</td><td>&quot;a55475b1&quot;</td><td>&quot;a55475b1&quot;</td><td>&quot;D&quot;</td><td>&quot;CAL&quot;</td><td>&quot;CASH&quot;</td></tr><tr><td>3</td><td>0</td><td>0.00</td><td>11000.00</td><td>0.00</td><td>59999.80</td><td>0.00</td><td>6140.00</td><td>12.00</td><td>12.00</td><td>&quot;P94_109_143&quot;</td><td>&quot;P131_33_167&quot;</td><td>&quot;P97_36_170&quot;</td><td>&quot;a55475b1&quot;</td><td>&quot;a55475b1&quot;</td><td>&quot;P94_109_143&quot;</td><td>&quot;a55475b1&quot;</td><td>&quot;D&quot;</td><td>&quot;CAL&quot;</td><td>&quot;CASH&quot;</td></tr><tr><td>4</td><td>0</td><td>0.00</td><td>16000.00</td><td>0.00</td><td>40000.00</td><td>0.00</td><td>2556.60</td><td>24.00</td><td>24.00</td><td>&quot;P24_27_36&quot;</td><td>&quot;P194_82_174&quot;</td><td>&quot;a55475b1&quot;</td><td>&quot;a55475b1&quot;</td><td>&quot;a55475b1&quot;</td><td>&quot;a55475b1&quot;</td><td>&quot;a55475b1&quot;</td><td>&quot;T&quot;</td><td>&quot;CAL&quot;</td><td>&quot;CASH&quot;</td></tr><tr><td>5</td><td>0</td><td>0.00</td><td>62000.00</td><td>2161.10</td><td>45335.69</td><td>471.80</td><td>3745.33</td><td>18.44</td><td>18.44</td><td>&quot;P85_114_140&quot;</td><td>&quot;P54_133_26&quot;</td><td>&quot;a55475b1&quot;</td><td>&quot;a55475b1&quot;</td><td>&quot;a55475b1&quot;</td><td>&quot;a55475b1&quot;</td><td>&quot;a55475b1&quot;</td><td>&quot;T&quot;</td><td>&quot;CAL&quot;</td><td>&quot;CASH&quot;</td></tr><tr><td>6</td><td>0</td><td>0.00</td><td>37000.00</td><td>0.00</td><td>32000.00</td><td>0.00</td><td>4189.60</td><td>24.00</td><td>24.00</td><td>&quot;P94_109_143&quot;</td><td>&quot;P82_154_182&quot;</td><td>&quot;P97_36_170&quot;</td><td>&quot;a55475b1&quot;</td><td>&quot;a55475b1&quot;</td><td>&quot;P94_109_143&quot;</td><td>&quot;a55475b1&quot;</td><td>&quot;D&quot;</td><td>&quot;CAL&quot;</td><td>&quot;CASH&quot;</td></tr></tbody></table></div>"
      ],
      "text/plain": [
       "shape: (5, 20)\n",
       "┌─────────┬────────────┬───────────┬───────────┬───┬───────────┬───────────┬───────────┬───────────┐\n",
       "│ case_id ┆ num_group1 ┆ actualdpd ┆ mainoccup ┆ … ┆ rejectrea ┆ status_21 ┆ credtype_ ┆ inittrans │\n",
       "│ ---     ┆ ---        ┆ _943P     ┆ ationinc_ ┆   ┆ sonclient ┆ 9L        ┆ 587L      ┆ actioncod │\n",
       "│ u32     ┆ u8         ┆ Days Past ┆ 437A      ┆   ┆ _4145042M ┆ Previous  ┆ Credit    ┆ e_279L    │\n",
       "│         ┆            ┆ Due (DPD) ┆ Client's  ┆   ┆ Reason    ┆ applicati ┆ type of   ┆ Type of   │\n",
       "│         ┆            ┆ of        ┆ main      ┆   ┆ for       ┆ on        ┆ previous  ┆ the       │\n",
       "│         ┆            ┆ previous  ┆ income    ┆   ┆ rejection ┆ status.   ┆ applicati ┆ initial   │\n",
       "│         ┆            ┆ contract  ┆ amount in ┆   ┆ of the    ┆ ---       ┆ on.       ┆ transacti │\n",
       "│         ┆            ┆ (actual). ┆ their     ┆   ┆ client's  ┆ cat       ┆ ---       ┆ on made   │\n",
       "│         ┆            ┆ ---       ┆ previous  ┆   ┆ previous  ┆           ┆ cat       ┆ in the    │\n",
       "│         ┆            ┆ f32       ┆ applicati ┆   ┆ applicati ┆           ┆           ┆ previous  │\n",
       "│         ┆            ┆           ┆ on.       ┆   ┆ on.       ┆           ┆           ┆ applicati │\n",
       "│         ┆            ┆           ┆ ---       ┆   ┆ ---       ┆           ┆           ┆ on of the │\n",
       "│         ┆            ┆           ┆ f32       ┆   ┆ cat       ┆           ┆           ┆ cli…      │\n",
       "│         ┆            ┆           ┆           ┆   ┆           ┆           ┆           ┆ ---       │\n",
       "│         ┆            ┆           ┆           ┆   ┆           ┆           ┆           ┆ cat       │\n",
       "╞═════════╪════════════╪═══════════╪═══════════╪═══╪═══════════╪═══════════╪═══════════╪═══════════╡\n",
       "│ 2       ┆ 0          ┆ 0.00      ┆ 8200.00   ┆ … ┆ a55475b1  ┆ D         ┆ CAL       ┆ CASH      │\n",
       "│ 3       ┆ 0          ┆ 0.00      ┆ 11000.00  ┆ … ┆ a55475b1  ┆ D         ┆ CAL       ┆ CASH      │\n",
       "│ 4       ┆ 0          ┆ 0.00      ┆ 16000.00  ┆ … ┆ a55475b1  ┆ T         ┆ CAL       ┆ CASH      │\n",
       "│ 5       ┆ 0          ┆ 0.00      ┆ 62000.00  ┆ … ┆ a55475b1  ┆ T         ┆ CAL       ┆ CASH      │\n",
       "│ 6       ┆ 0          ┆ 0.00      ┆ 37000.00  ┆ … ┆ a55475b1  ┆ D         ┆ CAL       ┆ CASH      │\n",
       "└─────────┴────────────┴───────────┴───────────┴───┴───────────┴───────────┴───────────┴───────────┘"
      ]
     },
     "execution_count": 57,
     "metadata": {},
     "output_type": "execute_result"
    }
   ],
   "source": [
    "train_past_depth_one_transformed = (\n",
    "    train_past_depth_one\n",
    "    .fill_null(strategy=\"mean\")\n",
    "    .group_by(\"case_id\")\n",
    "    .agg(\n",
    "        cs.integer().min(),\n",
    "        cs.float().max(),\n",
    "        cs.categorical().mode().get(0)\n",
    "    )\n",
    "    .sort(by=\"case_id\")\n",
    ")\n",
    "train_past_depth_one_transformed.fetch().head()"
   ]
  },
  {
   "cell_type": "code",
   "execution_count": 58,
   "metadata": {},
   "outputs": [
    {
     "data": {
      "text/html": [
       "<div><style>\n",
       ".dataframe > thead > tr,\n",
       ".dataframe > tbody > tr {\n",
       "  text-align: right;\n",
       "  white-space: pre-wrap;\n",
       "}\n",
       "</style>\n",
       "<small>shape: (1, 3)</small><table border=\"1\" class=\"dataframe\"><thead><tr><th>index</th><th>path</th><th>filename</th></tr><tr><td>i64</td><td>str</td><td>str</td></tr></thead><tbody><tr><td>0</td><td>&quot;Downloads/credit_risk/train/train_applprev_2.parquet&quot;</td><td>&quot;train_applprev_2.parquet&quot;</td></tr></tbody></table></div>"
      ],
      "text/plain": [
       "shape: (1, 3)\n",
       "┌───────┬──────────────────────────────────────────────────────┬──────────────────────────┐\n",
       "│ index ┆ path                                                 ┆ filename                 │\n",
       "│ ---   ┆ ---                                                  ┆ ---                      │\n",
       "│ i64   ┆ str                                                  ┆ str                      │\n",
       "╞═══════╪══════════════════════════════════════════════════════╪══════════════════════════╡\n",
       "│ 0     ┆ Downloads/credit_risk/train/train_applprev_2.parquet ┆ train_applprev_2.parquet │\n",
       "└───────┴──────────────────────────────────────────────────────┴──────────────────────────┘"
      ]
     },
     "execution_count": 58,
     "metadata": {},
     "output_type": "execute_result"
    }
   ],
   "source": [
    "train_files_df.filter(pl.col(\"filename\").str.contains(\"applprev_2\"))"
   ]
  },
  {
   "cell_type": "code",
   "execution_count": 59,
   "metadata": {},
   "outputs": [
    {
     "data": {
      "text/html": [
       "<div><style>\n",
       ".dataframe > thead > tr,\n",
       ".dataframe > tbody > tr {\n",
       "  text-align: right;\n",
       "  white-space: pre-wrap;\n",
       "}\n",
       "</style>\n",
       "<small>shape: (5, 4)</small><table border=\"1\" class=\"dataframe\"><thead><tr><th>case_id</th><th>num_group1</th><th>num_group2</th><th>cacccardblochreas_147M Card blocking reason.</th></tr><tr><td>u32</td><td>u8</td><td>u8</td><td>cat</td></tr></thead><tbody><tr><td>2</td><td>1</td><td>1</td><td>null</td></tr><tr><td>2</td><td>0</td><td>1</td><td>null</td></tr><tr><td>2</td><td>0</td><td>0</td><td>null</td></tr><tr><td>2</td><td>1</td><td>0</td><td>null</td></tr><tr><td>3</td><td>0</td><td>1</td><td>null</td></tr></tbody></table></div>"
      ],
      "text/plain": [
       "shape: (5, 4)\n",
       "┌─────────┬────────────┬────────────┬──────────────────────────────────────────────┐\n",
       "│ case_id ┆ num_group1 ┆ num_group2 ┆ cacccardblochreas_147M Card blocking reason. │\n",
       "│ ---     ┆ ---        ┆ ---        ┆ ---                                          │\n",
       "│ u32     ┆ u8         ┆ u8         ┆ cat                                          │\n",
       "╞═════════╪════════════╪════════════╪══════════════════════════════════════════════╡\n",
       "│ 2       ┆ 1          ┆ 1          ┆ null                                         │\n",
       "│ 2       ┆ 0          ┆ 1          ┆ null                                         │\n",
       "│ 2       ┆ 0          ┆ 0          ┆ null                                         │\n",
       "│ 2       ┆ 1          ┆ 0          ┆ null                                         │\n",
       "│ 3       ┆ 0          ┆ 1          ┆ null                                         │\n",
       "└─────────┴────────────┴────────────┴──────────────────────────────────────────────┘"
      ]
     },
     "execution_count": 59,
     "metadata": {},
     "output_type": "execute_result"
    }
   ],
   "source": [
    "train_past_depth_two = (\n",
    "    pl.scan_parquet(all_train_files[0])\n",
    "    .drop(cs.contains(\"date\"))\n",
    "    .select(\n",
    "        cs.by_name(\"case_id\").cast(pl.UInt32),\n",
    "        cs.contains([\"num_group\"]).cast(pl.UInt8),\n",
    "        cs.string().cast(pl.Categorical)\n",
    "    )\n",
    "    .pipe(select_imputable_cols)\n",
    "    .pipe(rename_cols)\n",
    ")\n",
    "train_past_depth_two.fetch().head()"
   ]
  },
  {
   "cell_type": "code",
   "execution_count": 61,
   "metadata": {},
   "outputs": [
    {
     "data": {
      "text/html": [
       "<div><style>\n",
       ".dataframe > thead > tr,\n",
       ".dataframe > tbody > tr {\n",
       "  text-align: right;\n",
       "  white-space: pre-wrap;\n",
       "}\n",
       "</style>\n",
       "<small>shape: (5, 4)</small><table border=\"1\" class=\"dataframe\"><thead><tr><th>case_id</th><th>num_group1</th><th>num_group2</th><th>cacccardblochreas_147M Card blocking reason.</th></tr><tr><td>u32</td><td>u8</td><td>u8</td><td>cat</td></tr></thead><tbody><tr><td>2</td><td>0</td><td>0</td><td>null</td></tr><tr><td>3</td><td>0</td><td>0</td><td>null</td></tr><tr><td>4</td><td>0</td><td>0</td><td>null</td></tr><tr><td>5</td><td>0</td><td>0</td><td>null</td></tr><tr><td>6</td><td>0</td><td>0</td><td>null</td></tr></tbody></table></div>"
      ],
      "text/plain": [
       "shape: (5, 4)\n",
       "┌─────────┬────────────┬────────────┬──────────────────────────────────────────────┐\n",
       "│ case_id ┆ num_group1 ┆ num_group2 ┆ cacccardblochreas_147M Card blocking reason. │\n",
       "│ ---     ┆ ---        ┆ ---        ┆ ---                                          │\n",
       "│ u32     ┆ u8         ┆ u8         ┆ cat                                          │\n",
       "╞═════════╪════════════╪════════════╪══════════════════════════════════════════════╡\n",
       "│ 2       ┆ 0          ┆ 0          ┆ null                                         │\n",
       "│ 3       ┆ 0          ┆ 0          ┆ null                                         │\n",
       "│ 4       ┆ 0          ┆ 0          ┆ null                                         │\n",
       "│ 5       ┆ 0          ┆ 0          ┆ null                                         │\n",
       "│ 6       ┆ 0          ┆ 0          ┆ null                                         │\n",
       "└─────────┴────────────┴────────────┴──────────────────────────────────────────────┘"
      ]
     },
     "execution_count": 61,
     "metadata": {},
     "output_type": "execute_result"
    }
   ],
   "source": [
    "train_past_depth_two_transformed = (\n",
    "    train_past_depth_two\n",
    "    .with_columns(\n",
    "        cs.contains(\"Card\").fill_null(value=cs.contains(\"Card\").mode().first())\n",
    "    )\n",
    "    .filter((pl.col(\"num_group1\") == 0) & (pl.col(\"num_group2\") == 0))\n",
    ")\n",
    "train_past_depth_two_transformed.fetch().head()"
   ]
  },
  {
   "cell_type": "markdown",
   "metadata": {},
   "source": [
    "## Static Files"
   ]
  },
  {
   "cell_type": "code",
   "execution_count": 62,
   "metadata": {},
   "outputs": [
    {
     "data": {
      "text/html": [
       "<div><style>\n",
       ".dataframe > thead > tr,\n",
       ".dataframe > tbody > tr {\n",
       "  text-align: right;\n",
       "  white-space: pre-wrap;\n",
       "}\n",
       "</style>\n",
       "<small>shape: (2, 3)</small><table border=\"1\" class=\"dataframe\"><thead><tr><th>index</th><th>path</th><th>filename</th></tr><tr><td>i64</td><td>str</td><td>str</td></tr></thead><tbody><tr><td>21</td><td>&quot;Downloads/credit_risk/train/train_static_0_0.parquet&quot;</td><td>&quot;train_static_0_0.parquet&quot;</td></tr><tr><td>16</td><td>&quot;Downloads/credit_risk/train/train_static_0_1.parquet&quot;</td><td>&quot;train_static_0_1.parquet&quot;</td></tr></tbody></table></div>"
      ],
      "text/plain": [
       "shape: (2, 3)\n",
       "┌───────┬──────────────────────────────────────────────────────┬──────────────────────────┐\n",
       "│ index ┆ path                                                 ┆ filename                 │\n",
       "│ ---   ┆ ---                                                  ┆ ---                      │\n",
       "│ i64   ┆ str                                                  ┆ str                      │\n",
       "╞═══════╪══════════════════════════════════════════════════════╪══════════════════════════╡\n",
       "│ 21    ┆ Downloads/credit_risk/train/train_static_0_0.parquet ┆ train_static_0_0.parquet │\n",
       "│ 16    ┆ Downloads/credit_risk/train/train_static_0_1.parquet ┆ train_static_0_1.parquet │\n",
       "└───────┴──────────────────────────────────────────────────────┴──────────────────────────┘"
      ]
     },
     "execution_count": 62,
     "metadata": {},
     "output_type": "execute_result"
    }
   ],
   "source": [
    "train_files_df.filter(cs.contains(\"file\").str.contains(\"train_static_0_\"))"
   ]
  },
  {
   "cell_type": "code",
   "execution_count": 63,
   "metadata": {},
   "outputs": [
    {
     "data": {
      "text/html": [
       "<div><style>\n",
       ".dataframe > thead > tr,\n",
       ".dataframe > tbody > tr {\n",
       "  text-align: right;\n",
       "  white-space: pre-wrap;\n",
       "}\n",
       "</style>\n",
       "<small>shape: (5, 61)</small><table border=\"1\" class=\"dataframe\"><thead><tr><th>case_id</th><th>annuity_780A Monthly annuity amount.</th><th>applicationcnt_361L Number of applications associated with the same email address as the client.</th><th>applications30d_658L Number of applications made by the client in the last 30 days.</th><th>applicationscnt_1086L Number of applications associated with the same phone number.</th><th>applicationscnt_464L Number of applications made in the last 30 days by other clients with the same employer as the applicant.</th><th>applicationscnt_629L Number of applications with the same employer in the last 7 days.</th><th>applicationscnt_867L Number of applications associated with the same mobile phone.</th><th>clientscnt12m_3712952L Number of clients that have used the same mobile phone as the applicant in the past 12 months.</th><th>clientscnt3m_3712950L Number of clients who have the same mobile phone number in the last 3 months.</th><th>clientscnt6m_3712949L Total number of clients who have used the same mobile number in the last 6 months.</th><th>clientscnt_100L Number of applications with matching employer&#x27;s phone and client&#x27;s.</th><th>clientscnt_1022L Number of clients sharing the same mobile phone.</th><th>clientscnt_1071L Number of applications where the alternative phone number matches that of the client.</th><th>clientscnt_1130L Number of applications where client&#x27;s phone number matches the alternative phone contact.</th><th>clientscnt_157L Number of clients whose employer has the same phone number as the client.</th><th>clientscnt_257L Number of clients that share an alternative phone number with the applicant.</th><th>clientscnt_304L Number of clients with the same phone number.</th><th>clientscnt_360L Number of clients that have the same alternative phone number and employer&#x27;s phone number.</th><th>clientscnt_493L Number of clients with matching phone numbers for both the employer and the client.</th><th>clientscnt_533L Number of clients with same client&#x27;s and alternative&#x27;s phone number</th><th>clientscnt_887L Number of clients sharing the same employer&#x27;s phone number.</th><th>clientscnt_946L Number of clients with matching mobile and employer&#x27;s number.</th><th>credamount_770A Loan amount or credit card limit.</th><th>deferredmnthsnum_166L Number of deferred months.</th><th>disbursedcredamount_1113A Disbursed credit amount after consolidation.</th><th>downpmt_116A Amount of downpayment.</th><th>homephncnt_628L Number of distinct home phones on client&#x27;s application.</th><th>mobilephncnt_593L Number of persons with the same mobile phone number.</th><th>numactivecreds_622L Number of active credits.</th><th>numactivecredschannel_414L Number of active credits.</th><th>numactiverelcontr_750L Number of active revolving credits.</th><th>numcontrs3months_479L Number of contracts in last 3 months.</th><th>numnotactivated_1143L Number of non-activated credits.</th><th>numpmtchanneldd_318L Number of previous loan contracts for the applicant that had direct debit as payment channel.</th><th>numrejects9m_859L Number of credit applications that were rejected in the last 9 months.</th><th>sellerplacecnt_915L Number of sellerplaces where the same client&#x27;s document was used.</th><th>sellerplacescnt_216L Number of sellerplaces where the same client&#x27;s mobile phone was used.</th><th>lastapprcommoditycat_1041M Commodity category of the last loan applications made by the applicant.</th><th>lastapprcommoditytypec_5251766M Commodity type of the last application.</th><th>lastcancelreason_561M Cancellation reason of the last application.</th><th>lastrejectcommoditycat_161M Category of commodity in the applicant&#x27;s last rejected application.</th><th>lastrejectcommodtypec_5251769M Commodity type of the last rejected application.</th><th>lastrejectreason_759M Reason for rejection on the most recent rejected application.</th><th>lastrejectreasonclient_4145040M Reason for the client&#x27;s last loan rejection.</th><th>previouscontdistrict_112M Contact district of the client&#x27;s previous approved application.</th><th>credtype_322L Type of credit.</th><th>inittransactioncode_186L Transaction type of the initial credit transaction.</th><th>totaldebt_9A Total amount of debt.</th><th>annuitynextmonth_57A Next month&#x27;s amount of annuity.</th><th>currdebt_22A Current debt amount of the client.</th><th>currdebtcredtyperange_828A Current amount of debt of the applicant.</th><th>numinstls_657L Number of instalments.</th><th>totalsettled_863A Sum of all payments made by the client.</th><th>twobodfilling_608L Type of application process.</th><th>disbursementtype_67L Type of disbursement.</th><th>pmtnum_254L Total number of loan payments made by the client.</th><th>paytype1st_925L Type of first payment of the client.</th><th>paytype_783L Type of payment.</th><th>posfpd10lastmonth_333P Average FPD10 (Share of contracts with first installment past due more than 10 days) from point of sales that processed contract in the previous month.</th><th>posfpd30lastmonth_3976960P Average FPD30 (Share of contracts with first installment past due more than 30 days) from point of sales that processed contract in the previous month.</th></tr><tr><td>u32</td><td>f32</td><td>f32</td><td>f32</td><td>f32</td><td>f32</td><td>f32</td><td>f32</td><td>f32</td><td>f32</td><td>f32</td><td>f32</td><td>f32</td><td>f32</td><td>f32</td><td>f32</td><td>f32</td><td>f32</td><td>f32</td><td>f32</td><td>f32</td><td>f32</td><td>f32</td><td>f32</td><td>f32</td><td>f32</td><td>f32</td><td>f32</td><td>f32</td><td>f32</td><td>f32</td><td>f32</td><td>f32</td><td>f32</td><td>f32</td><td>f32</td><td>f32</td><td>f32</td><td>cat</td><td>cat</td><td>cat</td><td>cat</td><td>cat</td><td>cat</td><td>cat</td><td>cat</td><td>cat</td><td>cat</td><td>f32</td><td>f32</td><td>f32</td><td>f32</td><td>f32</td><td>f32</td><td>cat</td><td>cat</td><td>f32</td><td>cat</td><td>cat</td><td>f32</td><td>f32</td></tr></thead><tbody><tr><td>0</td><td>1917.60</td><td>0.00</td><td>0.00</td><td>0.00</td><td>0.00</td><td>0.00</td><td>0.00</td><td>0.00</td><td>0.00</td><td>0.00</td><td>0.00</td><td>0.00</td><td>0.00</td><td>0.00</td><td>0.00</td><td>0.00</td><td>0.00</td><td>0.00</td><td>0.00</td><td>0.00</td><td>0.00</td><td>0.00</td><td>30000.00</td><td>0.00</td><td>30000.00</td><td>0.00</td><td>0.00</td><td>1.00</td><td>0.00</td><td>0.00</td><td>0.00</td><td>0.00</td><td>0.00</td><td>0.00</td><td>0.00</td><td>0.00</td><td>0.00</td><td>&quot;a55475b1&quot;</td><td>&quot;a55475b1&quot;</td><td>&quot;a55475b1&quot;</td><td>&quot;a55475b1&quot;</td><td>&quot;a55475b1&quot;</td><td>&quot;a55475b1&quot;</td><td>&quot;a55475b1&quot;</td><td>&quot;a55475b1&quot;</td><td>&quot;CAL&quot;</td><td>&quot;CASH&quot;</td><td>0.00</td><td>0.00</td><td>0.00</td><td>0.00</td><td>0.00</td><td>0.00</td><td>&quot;BO&quot;</td><td>&quot;GBA&quot;</td><td>24.00</td><td>&quot;OTHER&quot;</td><td>&quot;OTHER&quot;</td><td>0.00</td><td>0.00</td></tr><tr><td>1</td><td>3134.00</td><td>0.00</td><td>0.00</td><td>0.00</td><td>0.00</td><td>0.00</td><td>0.00</td><td>0.00</td><td>0.00</td><td>0.00</td><td>0.00</td><td>0.00</td><td>0.00</td><td>0.00</td><td>3.00</td><td>0.00</td><td>0.00</td><td>0.00</td><td>0.00</td><td>0.00</td><td>0.00</td><td>0.00</td><td>19999.80</td><td>0.00</td><td>19999.80</td><td>0.00</td><td>0.00</td><td>1.00</td><td>0.00</td><td>0.00</td><td>0.00</td><td>0.00</td><td>0.00</td><td>0.00</td><td>0.00</td><td>0.00</td><td>0.00</td><td>&quot;a55475b1&quot;</td><td>&quot;a55475b1&quot;</td><td>&quot;a55475b1&quot;</td><td>&quot;a55475b1&quot;</td><td>&quot;a55475b1&quot;</td><td>&quot;a55475b1&quot;</td><td>&quot;a55475b1&quot;</td><td>&quot;a55475b1&quot;</td><td>&quot;CAL&quot;</td><td>&quot;CASH&quot;</td><td>0.00</td><td>0.00</td><td>0.00</td><td>0.00</td><td>0.00</td><td>0.00</td><td>&quot;BO&quot;</td><td>&quot;GBA&quot;</td><td>18.00</td><td>&quot;OTHER&quot;</td><td>&quot;OTHER&quot;</td><td>0.00</td><td>0.00</td></tr><tr><td>2</td><td>4937.00</td><td>0.00</td><td>0.00</td><td>0.00</td><td>0.00</td><td>0.00</td><td>0.00</td><td>0.00</td><td>0.00</td><td>0.00</td><td>0.00</td><td>0.00</td><td>0.00</td><td>0.00</td><td>0.00</td><td>0.00</td><td>0.00</td><td>0.00</td><td>0.00</td><td>0.00</td><td>0.00</td><td>0.00</td><td>78000.00</td><td>0.00</td><td>78000.00</td><td>0.00</td><td>1.00</td><td>2.00</td><td>0.00</td><td>0.00</td><td>0.00</td><td>0.00</td><td>0.00</td><td>0.00</td><td>0.00</td><td>0.00</td><td>0.00</td><td>&quot;a55475b1&quot;</td><td>&quot;a55475b1&quot;</td><td>&quot;a55475b1&quot;</td><td>&quot;a55475b1&quot;</td><td>&quot;a55475b1&quot;</td><td>&quot;a55475b1&quot;</td><td>&quot;a55475b1&quot;</td><td>&quot;a55475b1&quot;</td><td>&quot;CAL&quot;</td><td>&quot;CASH&quot;</td><td>0.00</td><td>0.00</td><td>0.00</td><td>0.00</td><td>0.00</td><td>0.00</td><td>&quot;BO&quot;</td><td>&quot;GBA&quot;</td><td>36.00</td><td>&quot;OTHER&quot;</td><td>&quot;OTHER&quot;</td><td>0.00</td><td>0.00</td></tr><tr><td>3</td><td>4643.60</td><td>0.00</td><td>1.00</td><td>0.00</td><td>2.00</td><td>0.00</td><td>1.00</td><td>0.00</td><td>0.00</td><td>0.00</td><td>0.00</td><td>0.00</td><td>0.00</td><td>1.00</td><td>0.00</td><td>0.00</td><td>0.00</td><td>0.00</td><td>0.00</td><td>0.00</td><td>0.00</td><td>0.00</td><td>40000.00</td><td>0.00</td><td>40000.00</td><td>0.00</td><td>0.00</td><td>1.00</td><td>0.00</td><td>0.00</td><td>0.00</td><td>1.00</td><td>0.00</td><td>0.00</td><td>1.00</td><td>1.00</td><td>1.00</td><td>&quot;a55475b1&quot;</td><td>&quot;a55475b1&quot;</td><td>&quot;P94_109_143&quot;</td><td>&quot;a55475b1&quot;</td><td>&quot;a55475b1&quot;</td><td>&quot;P94_109_143&quot;</td><td>&quot;a55475b1&quot;</td><td>&quot;a55475b1&quot;</td><td>&quot;CAL&quot;</td><td>&quot;CASH&quot;</td><td>0.00</td><td>0.00</td><td>0.00</td><td>0.00</td><td>0.00</td><td>0.00</td><td>&quot;BO&quot;</td><td>&quot;GBA&quot;</td><td>12.00</td><td>&quot;OTHER&quot;</td><td>&quot;OTHER&quot;</td><td>0.00</td><td>0.00</td></tr><tr><td>4</td><td>3390.20</td><td>0.00</td><td>1.00</td><td>0.00</td><td>0.00</td><td>0.00</td><td>1.00</td><td>0.00</td><td>0.00</td><td>0.00</td><td>0.00</td><td>0.00</td><td>0.00</td><td>0.00</td><td>0.00</td><td>0.00</td><td>0.00</td><td>0.00</td><td>0.00</td><td>0.00</td><td>0.00</td><td>0.00</td><td>44000.00</td><td>0.00</td><td>44000.00</td><td>0.00</td><td>1.00</td><td>1.00</td><td>0.00</td><td>0.00</td><td>0.00</td><td>0.00</td><td>0.00</td><td>0.00</td><td>0.00</td><td>0.00</td><td>0.00</td><td>&quot;a55475b1&quot;</td><td>&quot;a55475b1&quot;</td><td>&quot;P24_27_36&quot;</td><td>&quot;a55475b1&quot;</td><td>&quot;a55475b1&quot;</td><td>&quot;a55475b1&quot;</td><td>&quot;a55475b1&quot;</td><td>&quot;a55475b1&quot;</td><td>&quot;CAL&quot;</td><td>&quot;CASH&quot;</td><td>0.00</td><td>0.00</td><td>0.00</td><td>0.00</td><td>0.00</td><td>0.00</td><td>&quot;BO&quot;</td><td>&quot;GBA&quot;</td><td>24.00</td><td>&quot;OTHER&quot;</td><td>&quot;OTHER&quot;</td><td>0.00</td><td>0.00</td></tr></tbody></table></div>"
      ],
      "text/plain": [
       "shape: (5, 61)\n",
       "┌─────────┬────────────┬───────────┬───────────┬───┬───────────┬───────────┬───────────┬───────────┐\n",
       "│ case_id ┆ annuity_78 ┆ applicati ┆ applicati ┆ … ┆ paytype1s ┆ paytype_7 ┆ posfpd10l ┆ posfpd30l │\n",
       "│ ---     ┆ 0A Monthly ┆ oncnt_361 ┆ ons30d_65 ┆   ┆ t_925L    ┆ 83L Type  ┆ astmonth_ ┆ astmonth_ │\n",
       "│ u32     ┆ annuity    ┆ L Number  ┆ 8L Number ┆   ┆ Type of   ┆ of        ┆ 333P      ┆ 3976960P  │\n",
       "│         ┆ amount.    ┆ of applic ┆ of applic ┆   ┆ first     ┆ payment.  ┆ Average   ┆ Average   │\n",
       "│         ┆ ---        ┆ ations    ┆ ations    ┆   ┆ payment   ┆ ---       ┆ FPD10     ┆ FPD30     │\n",
       "│         ┆ f32        ┆ associate ┆ made by   ┆   ┆ of the    ┆ cat       ┆ (Share of ┆ (Share of │\n",
       "│         ┆            ┆ d with    ┆ the       ┆   ┆ client.   ┆           ┆ contracts ┆ contracts │\n",
       "│         ┆            ┆ the same  ┆ client in ┆   ┆ ---       ┆           ┆ with      ┆ with      │\n",
       "│         ┆            ┆ email     ┆ the last  ┆   ┆ cat       ┆           ┆ first ins ┆ first ins │\n",
       "│         ┆            ┆ address   ┆ 30 days.  ┆   ┆           ┆           ┆ tallment  ┆ tallment  │\n",
       "│         ┆            ┆ as the    ┆ ---       ┆   ┆           ┆           ┆ past due  ┆ past due  │\n",
       "│         ┆            ┆ client.   ┆ f32       ┆   ┆           ┆           ┆ more than ┆ more th…  │\n",
       "│         ┆            ┆ ---       ┆           ┆   ┆           ┆           ┆ 1…        ┆ ---       │\n",
       "│         ┆            ┆ f32       ┆           ┆   ┆           ┆           ┆ ---       ┆ f32       │\n",
       "│         ┆            ┆           ┆           ┆   ┆           ┆           ┆ f32       ┆           │\n",
       "╞═════════╪════════════╪═══════════╪═══════════╪═══╪═══════════╪═══════════╪═══════════╪═══════════╡\n",
       "│ 0       ┆ 1917.60    ┆ 0.00      ┆ 0.00      ┆ … ┆ OTHER     ┆ OTHER     ┆ 0.00      ┆ 0.00      │\n",
       "│ 1       ┆ 3134.00    ┆ 0.00      ┆ 0.00      ┆ … ┆ OTHER     ┆ OTHER     ┆ 0.00      ┆ 0.00      │\n",
       "│ 2       ┆ 4937.00    ┆ 0.00      ┆ 0.00      ┆ … ┆ OTHER     ┆ OTHER     ┆ 0.00      ┆ 0.00      │\n",
       "│ 3       ┆ 4643.60    ┆ 0.00      ┆ 1.00      ┆ … ┆ OTHER     ┆ OTHER     ┆ 0.00      ┆ 0.00      │\n",
       "│ 4       ┆ 3390.20    ┆ 0.00      ┆ 1.00      ┆ … ┆ OTHER     ┆ OTHER     ┆ 0.00      ┆ 0.00      │\n",
       "└─────────┴────────────┴───────────┴───────────┴───┴───────────┴───────────┴───────────┴───────────┘"
      ]
     },
     "execution_count": 63,
     "metadata": {},
     "output_type": "execute_result"
    }
   ],
   "source": [
    "train_static_base = (\n",
    "    pl.scan_parquet(\"Downloads/credit_risk/train/train_static_0_*.parquet\")\n",
    "    .drop(cs.contains(\"date\"))\n",
    "    .select(\n",
    "        cs.by_name(\"case_id\").cast(pl.UInt32),\n",
    "        cs.float().cast(pl.Float32),\n",
    "        cs.string().cast(pl.Categorical)\n",
    "    )\n",
    "    .pipe(rename_cols)\n",
    "    .pipe(select_imputable_cols)\n",
    ")\n",
    "train_static_base.fetch().head()"
   ]
  },
  {
   "cell_type": "code",
   "execution_count": 64,
   "metadata": {},
   "outputs": [
    {
     "data": {
      "text/html": [
       "<div><style>\n",
       ".dataframe > thead > tr,\n",
       ".dataframe > tbody > tr {\n",
       "  text-align: right;\n",
       "  white-space: pre-wrap;\n",
       "}\n",
       "</style>\n",
       "<small>shape: (5, 61)</small><table border=\"1\" class=\"dataframe\"><thead><tr><th>case_id</th><th>annuity_780A Monthly annuity amount.</th><th>applicationcnt_361L Number of applications associated with the same email address as the client.</th><th>applications30d_658L Number of applications made by the client in the last 30 days.</th><th>applicationscnt_1086L Number of applications associated with the same phone number.</th><th>applicationscnt_464L Number of applications made in the last 30 days by other clients with the same employer as the applicant.</th><th>applicationscnt_629L Number of applications with the same employer in the last 7 days.</th><th>applicationscnt_867L Number of applications associated with the same mobile phone.</th><th>clientscnt12m_3712952L Number of clients that have used the same mobile phone as the applicant in the past 12 months.</th><th>clientscnt3m_3712950L Number of clients who have the same mobile phone number in the last 3 months.</th><th>clientscnt6m_3712949L Total number of clients who have used the same mobile number in the last 6 months.</th><th>clientscnt_100L Number of applications with matching employer&#x27;s phone and client&#x27;s.</th><th>clientscnt_1022L Number of clients sharing the same mobile phone.</th><th>clientscnt_1071L Number of applications where the alternative phone number matches that of the client.</th><th>clientscnt_1130L Number of applications where client&#x27;s phone number matches the alternative phone contact.</th><th>clientscnt_157L Number of clients whose employer has the same phone number as the client.</th><th>clientscnt_257L Number of clients that share an alternative phone number with the applicant.</th><th>clientscnt_304L Number of clients with the same phone number.</th><th>clientscnt_360L Number of clients that have the same alternative phone number and employer&#x27;s phone number.</th><th>clientscnt_493L Number of clients with matching phone numbers for both the employer and the client.</th><th>clientscnt_533L Number of clients with same client&#x27;s and alternative&#x27;s phone number</th><th>clientscnt_887L Number of clients sharing the same employer&#x27;s phone number.</th><th>clientscnt_946L Number of clients with matching mobile and employer&#x27;s number.</th><th>credamount_770A Loan amount or credit card limit.</th><th>deferredmnthsnum_166L Number of deferred months.</th><th>disbursedcredamount_1113A Disbursed credit amount after consolidation.</th><th>downpmt_116A Amount of downpayment.</th><th>homephncnt_628L Number of distinct home phones on client&#x27;s application.</th><th>mobilephncnt_593L Number of persons with the same mobile phone number.</th><th>numactivecreds_622L Number of active credits.</th><th>numactivecredschannel_414L Number of active credits.</th><th>numactiverelcontr_750L Number of active revolving credits.</th><th>numcontrs3months_479L Number of contracts in last 3 months.</th><th>numnotactivated_1143L Number of non-activated credits.</th><th>numpmtchanneldd_318L Number of previous loan contracts for the applicant that had direct debit as payment channel.</th><th>numrejects9m_859L Number of credit applications that were rejected in the last 9 months.</th><th>sellerplacecnt_915L Number of sellerplaces where the same client&#x27;s document was used.</th><th>sellerplacescnt_216L Number of sellerplaces where the same client&#x27;s mobile phone was used.</th><th>lastapprcommoditycat_1041M Commodity category of the last loan applications made by the applicant.</th><th>lastapprcommoditytypec_5251766M Commodity type of the last application.</th><th>lastcancelreason_561M Cancellation reason of the last application.</th><th>lastrejectcommoditycat_161M Category of commodity in the applicant&#x27;s last rejected application.</th><th>lastrejectcommodtypec_5251769M Commodity type of the last rejected application.</th><th>lastrejectreason_759M Reason for rejection on the most recent rejected application.</th><th>lastrejectreasonclient_4145040M Reason for the client&#x27;s last loan rejection.</th><th>previouscontdistrict_112M Contact district of the client&#x27;s previous approved application.</th><th>credtype_322L Type of credit.</th><th>inittransactioncode_186L Transaction type of the initial credit transaction.</th><th>totaldebt_9A Total amount of debt.</th><th>annuitynextmonth_57A Next month&#x27;s amount of annuity.</th><th>currdebt_22A Current debt amount of the client.</th><th>currdebtcredtyperange_828A Current amount of debt of the applicant.</th><th>numinstls_657L Number of instalments.</th><th>totalsettled_863A Sum of all payments made by the client.</th><th>twobodfilling_608L Type of application process.</th><th>disbursementtype_67L Type of disbursement.</th><th>pmtnum_254L Total number of loan payments made by the client.</th><th>paytype1st_925L Type of first payment of the client.</th><th>paytype_783L Type of payment.</th><th>posfpd10lastmonth_333P Average FPD10 (Share of contracts with first installment past due more than 10 days) from point of sales that processed contract in the previous month.</th><th>posfpd30lastmonth_3976960P Average FPD30 (Share of contracts with first installment past due more than 30 days) from point of sales that processed contract in the previous month.</th></tr><tr><td>u32</td><td>f32</td><td>f32</td><td>f32</td><td>f32</td><td>f32</td><td>f32</td><td>f32</td><td>f32</td><td>f32</td><td>f32</td><td>f32</td><td>f32</td><td>f32</td><td>f32</td><td>f32</td><td>f32</td><td>f32</td><td>f32</td><td>f32</td><td>f32</td><td>f32</td><td>f32</td><td>f32</td><td>f32</td><td>f32</td><td>f32</td><td>f32</td><td>f32</td><td>f32</td><td>f32</td><td>f32</td><td>f32</td><td>f32</td><td>f32</td><td>f32</td><td>f32</td><td>f32</td><td>cat</td><td>cat</td><td>cat</td><td>cat</td><td>cat</td><td>cat</td><td>cat</td><td>cat</td><td>cat</td><td>cat</td><td>f32</td><td>f32</td><td>f32</td><td>f32</td><td>f32</td><td>f32</td><td>cat</td><td>cat</td><td>f32</td><td>cat</td><td>cat</td><td>f32</td><td>f32</td></tr></thead><tbody><tr><td>0</td><td>1917.60</td><td>0.00</td><td>0.00</td><td>0.00</td><td>0.00</td><td>0.00</td><td>0.00</td><td>0.00</td><td>0.00</td><td>0.00</td><td>0.00</td><td>0.00</td><td>0.00</td><td>0.00</td><td>0.00</td><td>0.00</td><td>0.00</td><td>0.00</td><td>0.00</td><td>0.00</td><td>0.00</td><td>0.00</td><td>30000.00</td><td>0.00</td><td>30000.00</td><td>0.00</td><td>0.00</td><td>1.00</td><td>0.00</td><td>0.00</td><td>0.00</td><td>0.00</td><td>0.00</td><td>0.00</td><td>0.00</td><td>0.00</td><td>0.00</td><td>&quot;a55475b1&quot;</td><td>&quot;a55475b1&quot;</td><td>&quot;a55475b1&quot;</td><td>&quot;a55475b1&quot;</td><td>&quot;a55475b1&quot;</td><td>&quot;a55475b1&quot;</td><td>&quot;a55475b1&quot;</td><td>&quot;a55475b1&quot;</td><td>&quot;CAL&quot;</td><td>&quot;CASH&quot;</td><td>0.00</td><td>0.00</td><td>0.00</td><td>0.00</td><td>0.00</td><td>0.00</td><td>&quot;BO&quot;</td><td>&quot;GBA&quot;</td><td>24.00</td><td>&quot;OTHER&quot;</td><td>&quot;OTHER&quot;</td><td>0.00</td><td>0.00</td></tr><tr><td>1</td><td>3134.00</td><td>0.00</td><td>0.00</td><td>0.00</td><td>0.00</td><td>0.00</td><td>0.00</td><td>0.00</td><td>0.00</td><td>0.00</td><td>0.00</td><td>0.00</td><td>0.00</td><td>0.00</td><td>3.00</td><td>0.00</td><td>0.00</td><td>0.00</td><td>0.00</td><td>0.00</td><td>0.00</td><td>0.00</td><td>19999.80</td><td>0.00</td><td>19999.80</td><td>0.00</td><td>0.00</td><td>1.00</td><td>0.00</td><td>0.00</td><td>0.00</td><td>0.00</td><td>0.00</td><td>0.00</td><td>0.00</td><td>0.00</td><td>0.00</td><td>&quot;a55475b1&quot;</td><td>&quot;a55475b1&quot;</td><td>&quot;a55475b1&quot;</td><td>&quot;a55475b1&quot;</td><td>&quot;a55475b1&quot;</td><td>&quot;a55475b1&quot;</td><td>&quot;a55475b1&quot;</td><td>&quot;a55475b1&quot;</td><td>&quot;CAL&quot;</td><td>&quot;CASH&quot;</td><td>0.00</td><td>0.00</td><td>0.00</td><td>0.00</td><td>0.00</td><td>0.00</td><td>&quot;BO&quot;</td><td>&quot;GBA&quot;</td><td>18.00</td><td>&quot;OTHER&quot;</td><td>&quot;OTHER&quot;</td><td>0.00</td><td>0.00</td></tr><tr><td>2</td><td>4937.00</td><td>0.00</td><td>0.00</td><td>0.00</td><td>0.00</td><td>0.00</td><td>0.00</td><td>0.00</td><td>0.00</td><td>0.00</td><td>0.00</td><td>0.00</td><td>0.00</td><td>0.00</td><td>0.00</td><td>0.00</td><td>0.00</td><td>0.00</td><td>0.00</td><td>0.00</td><td>0.00</td><td>0.00</td><td>78000.00</td><td>0.00</td><td>78000.00</td><td>0.00</td><td>1.00</td><td>2.00</td><td>0.00</td><td>0.00</td><td>0.00</td><td>0.00</td><td>0.00</td><td>0.00</td><td>0.00</td><td>0.00</td><td>0.00</td><td>&quot;a55475b1&quot;</td><td>&quot;a55475b1&quot;</td><td>&quot;a55475b1&quot;</td><td>&quot;a55475b1&quot;</td><td>&quot;a55475b1&quot;</td><td>&quot;a55475b1&quot;</td><td>&quot;a55475b1&quot;</td><td>&quot;a55475b1&quot;</td><td>&quot;CAL&quot;</td><td>&quot;CASH&quot;</td><td>0.00</td><td>0.00</td><td>0.00</td><td>0.00</td><td>0.00</td><td>0.00</td><td>&quot;BO&quot;</td><td>&quot;GBA&quot;</td><td>36.00</td><td>&quot;OTHER&quot;</td><td>&quot;OTHER&quot;</td><td>0.00</td><td>0.00</td></tr><tr><td>3</td><td>4643.60</td><td>0.00</td><td>1.00</td><td>0.00</td><td>2.00</td><td>0.00</td><td>1.00</td><td>0.00</td><td>0.00</td><td>0.00</td><td>0.00</td><td>0.00</td><td>0.00</td><td>1.00</td><td>0.00</td><td>0.00</td><td>0.00</td><td>0.00</td><td>0.00</td><td>0.00</td><td>0.00</td><td>0.00</td><td>40000.00</td><td>0.00</td><td>40000.00</td><td>0.00</td><td>0.00</td><td>1.00</td><td>0.00</td><td>0.00</td><td>0.00</td><td>1.00</td><td>0.00</td><td>0.00</td><td>1.00</td><td>1.00</td><td>1.00</td><td>&quot;a55475b1&quot;</td><td>&quot;a55475b1&quot;</td><td>&quot;P94_109_143&quot;</td><td>&quot;a55475b1&quot;</td><td>&quot;a55475b1&quot;</td><td>&quot;P94_109_143&quot;</td><td>&quot;a55475b1&quot;</td><td>&quot;a55475b1&quot;</td><td>&quot;CAL&quot;</td><td>&quot;CASH&quot;</td><td>0.00</td><td>0.00</td><td>0.00</td><td>0.00</td><td>0.00</td><td>0.00</td><td>&quot;BO&quot;</td><td>&quot;GBA&quot;</td><td>12.00</td><td>&quot;OTHER&quot;</td><td>&quot;OTHER&quot;</td><td>0.00</td><td>0.00</td></tr><tr><td>4</td><td>3390.20</td><td>0.00</td><td>1.00</td><td>0.00</td><td>0.00</td><td>0.00</td><td>1.00</td><td>0.00</td><td>0.00</td><td>0.00</td><td>0.00</td><td>0.00</td><td>0.00</td><td>0.00</td><td>0.00</td><td>0.00</td><td>0.00</td><td>0.00</td><td>0.00</td><td>0.00</td><td>0.00</td><td>0.00</td><td>44000.00</td><td>0.00</td><td>44000.00</td><td>0.00</td><td>1.00</td><td>1.00</td><td>0.00</td><td>0.00</td><td>0.00</td><td>0.00</td><td>0.00</td><td>0.00</td><td>0.00</td><td>0.00</td><td>0.00</td><td>&quot;a55475b1&quot;</td><td>&quot;a55475b1&quot;</td><td>&quot;P24_27_36&quot;</td><td>&quot;a55475b1&quot;</td><td>&quot;a55475b1&quot;</td><td>&quot;a55475b1&quot;</td><td>&quot;a55475b1&quot;</td><td>&quot;a55475b1&quot;</td><td>&quot;CAL&quot;</td><td>&quot;CASH&quot;</td><td>0.00</td><td>0.00</td><td>0.00</td><td>0.00</td><td>0.00</td><td>0.00</td><td>&quot;BO&quot;</td><td>&quot;GBA&quot;</td><td>24.00</td><td>&quot;OTHER&quot;</td><td>&quot;OTHER&quot;</td><td>0.00</td><td>0.00</td></tr></tbody></table></div>"
      ],
      "text/plain": [
       "shape: (5, 61)\n",
       "┌─────────┬────────────┬───────────┬───────────┬───┬───────────┬───────────┬───────────┬───────────┐\n",
       "│ case_id ┆ annuity_78 ┆ applicati ┆ applicati ┆ … ┆ paytype1s ┆ paytype_7 ┆ posfpd10l ┆ posfpd30l │\n",
       "│ ---     ┆ 0A Monthly ┆ oncnt_361 ┆ ons30d_65 ┆   ┆ t_925L    ┆ 83L Type  ┆ astmonth_ ┆ astmonth_ │\n",
       "│ u32     ┆ annuity    ┆ L Number  ┆ 8L Number ┆   ┆ Type of   ┆ of        ┆ 333P      ┆ 3976960P  │\n",
       "│         ┆ amount.    ┆ of applic ┆ of applic ┆   ┆ first     ┆ payment.  ┆ Average   ┆ Average   │\n",
       "│         ┆ ---        ┆ ations    ┆ ations    ┆   ┆ payment   ┆ ---       ┆ FPD10     ┆ FPD30     │\n",
       "│         ┆ f32        ┆ associate ┆ made by   ┆   ┆ of the    ┆ cat       ┆ (Share of ┆ (Share of │\n",
       "│         ┆            ┆ d with    ┆ the       ┆   ┆ client.   ┆           ┆ contracts ┆ contracts │\n",
       "│         ┆            ┆ the same  ┆ client in ┆   ┆ ---       ┆           ┆ with      ┆ with      │\n",
       "│         ┆            ┆ email     ┆ the last  ┆   ┆ cat       ┆           ┆ first ins ┆ first ins │\n",
       "│         ┆            ┆ address   ┆ 30 days.  ┆   ┆           ┆           ┆ tallment  ┆ tallment  │\n",
       "│         ┆            ┆ as the    ┆ ---       ┆   ┆           ┆           ┆ past due  ┆ past due  │\n",
       "│         ┆            ┆ client.   ┆ f32       ┆   ┆           ┆           ┆ more than ┆ more th…  │\n",
       "│         ┆            ┆ ---       ┆           ┆   ┆           ┆           ┆ 1…        ┆ ---       │\n",
       "│         ┆            ┆ f32       ┆           ┆   ┆           ┆           ┆ ---       ┆ f32       │\n",
       "│         ┆            ┆           ┆           ┆   ┆           ┆           ┆ f32       ┆           │\n",
       "╞═════════╪════════════╪═══════════╪═══════════╪═══╪═══════════╪═══════════╪═══════════╪═══════════╡\n",
       "│ 0       ┆ 1917.60    ┆ 0.00      ┆ 0.00      ┆ … ┆ OTHER     ┆ OTHER     ┆ 0.00      ┆ 0.00      │\n",
       "│ 1       ┆ 3134.00    ┆ 0.00      ┆ 0.00      ┆ … ┆ OTHER     ┆ OTHER     ┆ 0.00      ┆ 0.00      │\n",
       "│ 2       ┆ 4937.00    ┆ 0.00      ┆ 0.00      ┆ … ┆ OTHER     ┆ OTHER     ┆ 0.00      ┆ 0.00      │\n",
       "│ 3       ┆ 4643.60    ┆ 0.00      ┆ 1.00      ┆ … ┆ OTHER     ┆ OTHER     ┆ 0.00      ┆ 0.00      │\n",
       "│ 4       ┆ 3390.20    ┆ 0.00      ┆ 1.00      ┆ … ┆ OTHER     ┆ OTHER     ┆ 0.00      ┆ 0.00      │\n",
       "└─────────┴────────────┴───────────┴───────────┴───┴───────────┴───────────┴───────────┴───────────┘"
      ]
     },
     "execution_count": 64,
     "metadata": {},
     "output_type": "execute_result"
    }
   ],
   "source": [
    "train_static_base_transformed = (\n",
    "    train_static_base\n",
    "    .with_columns(\n",
    "        cs.categorical().fill_null(value=cs.categorical().mode().first()),\n",
    "        cs.float().fill_null(strategy=\"mean\")\n",
    "    )\n",
    ")\n",
    "train_static_base_transformed.fetch().head()"
   ]
  },
  {
   "cell_type": "code",
   "execution_count": 65,
   "metadata": {},
   "outputs": [
    {
     "data": {
      "text/html": [
       "<div><style>\n",
       ".dataframe > thead > tr,\n",
       ".dataframe > tbody > tr {\n",
       "  text-align: right;\n",
       "  white-space: pre-wrap;\n",
       "}\n",
       "</style>\n",
       "<small>shape: (3, 3)</small><table border=\"1\" class=\"dataframe\"><thead><tr><th>index</th><th>path</th><th>filename</th></tr><tr><td>i64</td><td>str</td><td>str</td></tr></thead><tbody><tr><td>21</td><td>&quot;Downloads/credit_risk/train/train_static_0_0.parquet&quot;</td><td>&quot;train_static_0_0.parquet&quot;</td></tr><tr><td>16</td><td>&quot;Downloads/credit_risk/train/train_static_0_1.parquet&quot;</td><td>&quot;train_static_0_1.parquet&quot;</td></tr><tr><td>3</td><td>&quot;Downloads/credit_risk/train/train_static_cb_0.parquet&quot;</td><td>&quot;train_static_cb_0.parquet&quot;</td></tr></tbody></table></div>"
      ],
      "text/plain": [
       "shape: (3, 3)\n",
       "┌───────┬───────────────────────────────────────────────────────┬───────────────────────────┐\n",
       "│ index ┆ path                                                  ┆ filename                  │\n",
       "│ ---   ┆ ---                                                   ┆ ---                       │\n",
       "│ i64   ┆ str                                                   ┆ str                       │\n",
       "╞═══════╪═══════════════════════════════════════════════════════╪═══════════════════════════╡\n",
       "│ 21    ┆ Downloads/credit_risk/train/train_static_0_0.parquet  ┆ train_static_0_0.parquet  │\n",
       "│ 16    ┆ Downloads/credit_risk/train/train_static_0_1.parquet  ┆ train_static_0_1.parquet  │\n",
       "│ 3     ┆ Downloads/credit_risk/train/train_static_cb_0.parquet ┆ train_static_cb_0.parquet │\n",
       "└───────┴───────────────────────────────────────────────────────┴───────────────────────────┘"
      ]
     },
     "execution_count": 65,
     "metadata": {},
     "output_type": "execute_result"
    }
   ],
   "source": [
    "train_files_df.filter(cs.contains(\"file\").str.contains(\"static\"))"
   ]
  },
  {
   "cell_type": "code",
   "execution_count": 95,
   "metadata": {},
   "outputs": [
    {
     "data": {
      "text/html": [
       "<div><style>\n",
       ".dataframe > thead > tr,\n",
       ".dataframe > tbody > tr {\n",
       "  text-align: right;\n",
       "  white-space: pre-wrap;\n",
       "}\n",
       "</style>\n",
       "<small>shape: (5, 17)</small><table border=\"1\" class=\"dataframe\"><thead><tr><th>case_id</th><th>description_5085714M Categorization of clients by credit bureau.</th><th>education_1103M Level of education of the client provided by external source.</th><th>education_88M Education level of the client.</th><th>maritalst_385M Marital status of the client.</th><th>maritalst_893M Marital status of the client</th><th>days120_123L Number of credit bureau queries for the last 120 days.</th><th>days180_256L Number of credit bureau queries for last 180 days.</th><th>days30_165L Number of credit bureau queries for the last 30 days.</th><th>days360_512L Number of Credit Bureau queries for last 360 days.</th><th>days90_310L Number of credit bureau queries for the last 90 days.</th><th>firstquarter_103L Number of results obtained from credit bureau in the first quarter.</th><th>fourthquarter_440L Number of results in fourth quarter.</th><th>numberofqueries_373L Number of queries to credit bureau.</th><th>secondquarter_766L Number of results in second quarter.</th><th>thirdquarter_1082L Number of results in third quarter.</th><th>dateofbirth_337D Client&#x27;s date of birth.</th></tr><tr><td>u32</td><td>cat</td><td>cat</td><td>cat</td><td>cat</td><td>cat</td><td>f32</td><td>f32</td><td>f32</td><td>f32</td><td>f32</td><td>f32</td><td>f32</td><td>f32</td><td>f32</td><td>f32</td><td>cat</td></tr></thead><tbody><tr><td>357</td><td>&quot;a55475b1&quot;</td><td>&quot;a55475b1&quot;</td><td>&quot;a55475b1&quot;</td><td>&quot;a55475b1&quot;</td><td>&quot;a55475b1&quot;</td><td>null</td><td>null</td><td>null</td><td>null</td><td>null</td><td>null</td><td>null</td><td>null</td><td>null</td><td>null</td><td>null</td></tr><tr><td>381</td><td>&quot;a55475b1&quot;</td><td>&quot;a55475b1&quot;</td><td>&quot;a55475b1&quot;</td><td>&quot;a55475b1&quot;</td><td>&quot;a55475b1&quot;</td><td>null</td><td>null</td><td>null</td><td>null</td><td>null</td><td>null</td><td>null</td><td>null</td><td>null</td><td>null</td><td>null</td></tr><tr><td>388</td><td>&quot;a55475b1&quot;</td><td>&quot;a55475b1&quot;</td><td>&quot;a55475b1&quot;</td><td>&quot;a55475b1&quot;</td><td>&quot;a55475b1&quot;</td><td>6.00</td><td>8.00</td><td>2.00</td><td>10.00</td><td>4.00</td><td>2.00</td><td>6.00</td><td>10.00</td><td>3.00</td><td>5.00</td><td>&quot;1989-04-01&quot;</td></tr><tr><td>405</td><td>&quot;a55475b1&quot;</td><td>&quot;a55475b1&quot;</td><td>&quot;a55475b1&quot;</td><td>&quot;a55475b1&quot;</td><td>&quot;a55475b1&quot;</td><td>0.00</td><td>0.00</td><td>0.00</td><td>1.00</td><td>0.00</td><td>0.00</td><td>4.00</td><td>1.00</td><td>2.00</td><td>0.00</td><td>&quot;1974-03-01&quot;</td></tr><tr><td>409</td><td>&quot;a55475b1&quot;</td><td>&quot;717ddd49&quot;</td><td>&quot;a55475b1&quot;</td><td>&quot;a7fcb6e5&quot;</td><td>&quot;a55475b1&quot;</td><td>2.00</td><td>3.00</td><td>0.00</td><td>3.00</td><td>1.00</td><td>4.00</td><td>1.00</td><td>3.00</td><td>0.00</td><td>4.00</td><td>&quot;1993-06-01&quot;</td></tr></tbody></table></div>"
      ],
      "text/plain": [
       "shape: (5, 17)\n",
       "┌─────────┬────────────┬───────────┬───────────┬───┬───────────┬───────────┬───────────┬───────────┐\n",
       "│ case_id ┆ descriptio ┆ education ┆ education ┆ … ┆ numberofq ┆ secondqua ┆ thirdquar ┆ dateofbir │\n",
       "│ ---     ┆ n_5085714M ┆ _1103M    ┆ _88M      ┆   ┆ ueries_37 ┆ rter_766L ┆ ter_1082L ┆ th_337D   │\n",
       "│ u32     ┆ Categoriza ┆ Level of  ┆ Education ┆   ┆ 3L Number ┆ Number of ┆ Number of ┆ Client's  │\n",
       "│         ┆ tion of    ┆ education ┆ level of  ┆   ┆ of        ┆ results   ┆ results   ┆ date of   │\n",
       "│         ┆ clients by ┆ of the    ┆ the       ┆   ┆ queries   ┆ in second ┆ in third  ┆ birth.    │\n",
       "│         ┆ credit     ┆ client    ┆ client.   ┆   ┆ to credit ┆ quarter.  ┆ quarter.  ┆ ---       │\n",
       "│         ┆ bureau.    ┆ provided  ┆ ---       ┆   ┆ bureau.   ┆ ---       ┆ ---       ┆ cat       │\n",
       "│         ┆ ---        ┆ by        ┆ cat       ┆   ┆ ---       ┆ f32       ┆ f32       ┆           │\n",
       "│         ┆ cat        ┆ external  ┆           ┆   ┆ f32       ┆           ┆           ┆           │\n",
       "│         ┆            ┆ source.   ┆           ┆   ┆           ┆           ┆           ┆           │\n",
       "│         ┆            ┆ ---       ┆           ┆   ┆           ┆           ┆           ┆           │\n",
       "│         ┆            ┆ cat       ┆           ┆   ┆           ┆           ┆           ┆           │\n",
       "╞═════════╪════════════╪═══════════╪═══════════╪═══╪═══════════╪═══════════╪═══════════╪═══════════╡\n",
       "│ 357     ┆ a55475b1   ┆ a55475b1  ┆ a55475b1  ┆ … ┆ null      ┆ null      ┆ null      ┆ null      │\n",
       "│ 381     ┆ a55475b1   ┆ a55475b1  ┆ a55475b1  ┆ … ┆ null      ┆ null      ┆ null      ┆ null      │\n",
       "│ 388     ┆ a55475b1   ┆ a55475b1  ┆ a55475b1  ┆ … ┆ 10.00     ┆ 3.00      ┆ 5.00      ┆ 1989-04-0 │\n",
       "│         ┆            ┆           ┆           ┆   ┆           ┆           ┆           ┆ 1         │\n",
       "│ 405     ┆ a55475b1   ┆ a55475b1  ┆ a55475b1  ┆ … ┆ 1.00      ┆ 2.00      ┆ 0.00      ┆ 1974-03-0 │\n",
       "│         ┆            ┆           ┆           ┆   ┆           ┆           ┆           ┆ 1         │\n",
       "│ 409     ┆ a55475b1   ┆ 717ddd49  ┆ a55475b1  ┆ … ┆ 3.00      ┆ 0.00      ┆ 4.00      ┆ 1993-06-0 │\n",
       "│         ┆            ┆           ┆           ┆   ┆           ┆           ┆           ┆ 1         │\n",
       "└─────────┴────────────┴───────────┴───────────┴───┴───────────┴───────────┴───────────┴───────────┘"
      ]
     },
     "execution_count": 95,
     "metadata": {},
     "output_type": "execute_result"
    }
   ],
   "source": [
    "train_static_external =(\n",
    "    pl.scan_parquet(\"Downloads/credit_risk/train/train_static_cb_0.parquet\")\n",
    "    .drop(cs.contains(\"date\"))\n",
    "    .select(\n",
    "        cs.by_name(\"case_id\").cast(pl.UInt32),\n",
    "        cs.float().cast(pl.Float32),\n",
    "        cs.string().cast(pl.Categorical)\n",
    "    )\n",
    "    .pipe(rename_cols)\n",
    "    .pipe(select_imputable_cols)\n",
    ")\n",
    "train_static_external.fetch().head()"
   ]
  },
  {
   "cell_type": "code",
   "execution_count": 90,
   "metadata": {},
   "outputs": [
    {
     "data": {
      "text/html": [
       "<div><style>\n",
       ".dataframe > thead > tr,\n",
       ".dataframe > tbody > tr {\n",
       "  text-align: right;\n",
       "  white-space: pre-wrap;\n",
       "}\n",
       "</style>\n",
       "<small>shape: (5, 16)</small><table border=\"1\" class=\"dataframe\"><thead><tr><th>case_id</th><th>description_5085714M Categorization of clients by credit bureau.</th><th>education_1103M Level of education of the client provided by external source.</th><th>education_88M Education level of the client.</th><th>maritalst_385M Marital status of the client.</th><th>maritalst_893M Marital status of the client</th><th>days120_123L Number of credit bureau queries for the last 120 days.</th><th>days180_256L Number of credit bureau queries for last 180 days.</th><th>days30_165L Number of credit bureau queries for the last 30 days.</th><th>days360_512L Number of Credit Bureau queries for last 360 days.</th><th>days90_310L Number of credit bureau queries for the last 90 days.</th><th>firstquarter_103L Number of results obtained from credit bureau in the first quarter.</th><th>fourthquarter_440L Number of results in fourth quarter.</th><th>numberofqueries_373L Number of queries to credit bureau.</th><th>secondquarter_766L Number of results in second quarter.</th><th>thirdquarter_1082L Number of results in third quarter.</th></tr><tr><td>u32</td><td>cat</td><td>cat</td><td>cat</td><td>cat</td><td>cat</td><td>f32</td><td>f32</td><td>f32</td><td>f32</td><td>f32</td><td>f32</td><td>f32</td><td>f32</td><td>f32</td><td>f32</td></tr></thead><tbody><tr><td>357</td><td>&quot;a55475b1&quot;</td><td>&quot;a55475b1&quot;</td><td>&quot;a55475b1&quot;</td><td>&quot;a55475b1&quot;</td><td>&quot;a55475b1&quot;</td><td>2.10</td><td>2.88</td><td>0.69</td><td>4.88</td><td>1.62</td><td>1.79</td><td>2.40</td><td>4.88</td><td>1.73</td><td>2.25</td></tr><tr><td>381</td><td>&quot;a55475b1&quot;</td><td>&quot;a55475b1&quot;</td><td>&quot;a55475b1&quot;</td><td>&quot;a55475b1&quot;</td><td>&quot;a55475b1&quot;</td><td>2.10</td><td>2.88</td><td>0.69</td><td>4.88</td><td>1.62</td><td>1.79</td><td>2.40</td><td>4.88</td><td>1.73</td><td>2.25</td></tr><tr><td>388</td><td>&quot;a55475b1&quot;</td><td>&quot;a55475b1&quot;</td><td>&quot;a55475b1&quot;</td><td>&quot;a55475b1&quot;</td><td>&quot;a55475b1&quot;</td><td>6.00</td><td>8.00</td><td>2.00</td><td>10.00</td><td>4.00</td><td>2.00</td><td>6.00</td><td>10.00</td><td>3.00</td><td>5.00</td></tr><tr><td>405</td><td>&quot;a55475b1&quot;</td><td>&quot;a55475b1&quot;</td><td>&quot;a55475b1&quot;</td><td>&quot;a55475b1&quot;</td><td>&quot;a55475b1&quot;</td><td>0.00</td><td>0.00</td><td>0.00</td><td>1.00</td><td>0.00</td><td>0.00</td><td>4.00</td><td>1.00</td><td>2.00</td><td>0.00</td></tr><tr><td>409</td><td>&quot;a55475b1&quot;</td><td>&quot;717ddd49&quot;</td><td>&quot;a55475b1&quot;</td><td>&quot;a7fcb6e5&quot;</td><td>&quot;a55475b1&quot;</td><td>2.00</td><td>3.00</td><td>0.00</td><td>3.00</td><td>1.00</td><td>4.00</td><td>1.00</td><td>3.00</td><td>0.00</td><td>4.00</td></tr></tbody></table></div>"
      ],
      "text/plain": [
       "shape: (5, 16)\n",
       "┌─────────┬────────────┬───────────┬───────────┬───┬───────────┬───────────┬───────────┬───────────┐\n",
       "│ case_id ┆ descriptio ┆ education ┆ education ┆ … ┆ fourthqua ┆ numberofq ┆ secondqua ┆ thirdquar │\n",
       "│ ---     ┆ n_5085714M ┆ _1103M    ┆ _88M      ┆   ┆ rter_440L ┆ ueries_37 ┆ rter_766L ┆ ter_1082L │\n",
       "│ u32     ┆ Categoriza ┆ Level of  ┆ Education ┆   ┆ Number of ┆ 3L Number ┆ Number of ┆ Number of │\n",
       "│         ┆ tion of    ┆ education ┆ level of  ┆   ┆ results   ┆ of        ┆ results   ┆ results   │\n",
       "│         ┆ clients by ┆ of the    ┆ the       ┆   ┆ in fourth ┆ queries   ┆ in second ┆ in third  │\n",
       "│         ┆ credit     ┆ client    ┆ client.   ┆   ┆ quarter.  ┆ to credit ┆ quarter.  ┆ quarter.  │\n",
       "│         ┆ bureau.    ┆ provided  ┆ ---       ┆   ┆ ---       ┆ bureau.   ┆ ---       ┆ ---       │\n",
       "│         ┆ ---        ┆ by        ┆ cat       ┆   ┆ f32       ┆ ---       ┆ f32       ┆ f32       │\n",
       "│         ┆ cat        ┆ external  ┆           ┆   ┆           ┆ f32       ┆           ┆           │\n",
       "│         ┆            ┆ source.   ┆           ┆   ┆           ┆           ┆           ┆           │\n",
       "│         ┆            ┆ ---       ┆           ┆   ┆           ┆           ┆           ┆           │\n",
       "│         ┆            ┆ cat       ┆           ┆   ┆           ┆           ┆           ┆           │\n",
       "╞═════════╪════════════╪═══════════╪═══════════╪═══╪═══════════╪═══════════╪═══════════╪═══════════╡\n",
       "│ 357     ┆ a55475b1   ┆ a55475b1  ┆ a55475b1  ┆ … ┆ 2.40      ┆ 4.88      ┆ 1.73      ┆ 2.25      │\n",
       "│ 381     ┆ a55475b1   ┆ a55475b1  ┆ a55475b1  ┆ … ┆ 2.40      ┆ 4.88      ┆ 1.73      ┆ 2.25      │\n",
       "│ 388     ┆ a55475b1   ┆ a55475b1  ┆ a55475b1  ┆ … ┆ 6.00      ┆ 10.00     ┆ 3.00      ┆ 5.00      │\n",
       "│ 405     ┆ a55475b1   ┆ a55475b1  ┆ a55475b1  ┆ … ┆ 4.00      ┆ 1.00      ┆ 2.00      ┆ 0.00      │\n",
       "│ 409     ┆ a55475b1   ┆ 717ddd49  ┆ a55475b1  ┆ … ┆ 1.00      ┆ 3.00      ┆ 0.00      ┆ 4.00      │\n",
       "└─────────┴────────────┴───────────┴───────────┴───┴───────────┴───────────┴───────────┴───────────┘"
      ]
     },
     "execution_count": 90,
     "metadata": {},
     "output_type": "execute_result"
    }
   ],
   "source": [
    "train_static_external_transformed = (\n",
    "    train_static_external\n",
    "    .drop(cs.contains(\"birth\"))\n",
    "    .with_columns(\n",
    "        cs.float().fill_null(strategy=\"mean\")\n",
    "    )\n",
    ")\n",
    "train_static_external_transformed.fetch().head()"
   ]
  },
  {
   "cell_type": "markdown",
   "metadata": {},
   "source": [
    "## Train Person"
   ]
  },
  {
   "cell_type": "code",
   "execution_count": 113,
   "metadata": {},
   "outputs": [
    {
     "data": {
      "text/html": [
       "<div><style>\n",
       ".dataframe > thead > tr,\n",
       ".dataframe > tbody > tr {\n",
       "  text-align: right;\n",
       "  white-space: pre-wrap;\n",
       "}\n",
       "</style>\n",
       "<small>shape: (2, 3)</small><table border=\"1\" class=\"dataframe\"><thead><tr><th>index</th><th>path</th><th>filename</th></tr><tr><td>i64</td><td>str</td><td>str</td></tr></thead><tbody><tr><td>5</td><td>&quot;Downloads/credit_risk/train/train_person_1.parquet&quot;</td><td>&quot;train_person_1.parquet&quot;</td></tr><tr><td>30</td><td>&quot;Downloads/credit_risk/train/train_person_2.parquet&quot;</td><td>&quot;train_person_2.parquet&quot;</td></tr></tbody></table></div>"
      ],
      "text/plain": [
       "shape: (2, 3)\n",
       "┌───────┬────────────────────────────────────────────────────┬────────────────────────┐\n",
       "│ index ┆ path                                               ┆ filename               │\n",
       "│ ---   ┆ ---                                                ┆ ---                    │\n",
       "│ i64   ┆ str                                                ┆ str                    │\n",
       "╞═══════╪════════════════════════════════════════════════════╪════════════════════════╡\n",
       "│ 5     ┆ Downloads/credit_risk/train/train_person_1.parquet ┆ train_person_1.parquet │\n",
       "│ 30    ┆ Downloads/credit_risk/train/train_person_2.parquet ┆ train_person_2.parquet │\n",
       "└───────┴────────────────────────────────────────────────────┴────────────────────────┘"
      ]
     },
     "execution_count": 113,
     "metadata": {},
     "output_type": "execute_result"
    }
   ],
   "source": [
    "train_files_df.filter(pl.col(\"filename\").str.contains(\"person\"))"
   ]
  },
  {
   "cell_type": "code",
   "execution_count": 147,
   "metadata": {},
   "outputs": [
    {
     "data": {
      "text/html": [
       "<div><style>\n",
       ".dataframe > thead > tr,\n",
       ".dataframe > tbody > tr {\n",
       "  text-align: right;\n",
       "  white-space: pre-wrap;\n",
       "}\n",
       "</style>\n",
       "<small>shape: (5, 13)</small><table border=\"1\" class=\"dataframe\"><thead><tr><th>case_id</th><th>num_group1</th><th>contaddr_district_15M Zip code of a contact person&#x27;s address.</th><th>contaddr_zipcode_807M Zip code of contact address.</th><th>education_927M Education level of the person.</th><th>empladdr_district_926M District where the employer&#x27;s address is located.</th><th>empladdr_zipcode_114M Zipcode of employer&#x27;s address.</th><th>language1_981M The primary language of the person.</th><th>registaddr_district_1083M District of person&#x27;s registered address.</th><th>registaddr_zipcode_184M Registered address&#x27;s zip code of a person.</th><th>persontype_1072L Person type.</th><th>role_1084L Type of contact role.</th><th>type_25L Contact type of a person.</th></tr><tr><td>u32</td><td>u8</td><td>cat</td><td>cat</td><td>cat</td><td>cat</td><td>cat</td><td>cat</td><td>cat</td><td>cat</td><td>f32</td><td>cat</td><td>cat</td></tr></thead><tbody><tr><td>0</td><td>0</td><td>&quot;P88_18_84&quot;</td><td>&quot;P167_100_165&quot;</td><td>&quot;P97_36_170&quot;</td><td>&quot;P142_57_166&quot;</td><td>&quot;P167_100_165&quot;</td><td>&quot;P10_39_147&quot;</td><td>&quot;P88_18_84&quot;</td><td>&quot;P167_100_165&quot;</td><td>1.00</td><td>&quot;CL&quot;</td><td>&quot;PRIMARY_MOBILE&quot;</td></tr><tr><td>0</td><td>1</td><td>&quot;a55475b1&quot;</td><td>&quot;a55475b1&quot;</td><td>&quot;a55475b1&quot;</td><td>&quot;a55475b1&quot;</td><td>&quot;a55475b1&quot;</td><td>&quot;a55475b1&quot;</td><td>&quot;a55475b1&quot;</td><td>&quot;a55475b1&quot;</td><td>1.00</td><td>&quot;EM&quot;</td><td>&quot;PHONE&quot;</td></tr><tr><td>0</td><td>2</td><td>&quot;a55475b1&quot;</td><td>&quot;a55475b1&quot;</td><td>&quot;a55475b1&quot;</td><td>&quot;a55475b1&quot;</td><td>&quot;a55475b1&quot;</td><td>&quot;a55475b1&quot;</td><td>&quot;a55475b1&quot;</td><td>&quot;a55475b1&quot;</td><td>4.00</td><td>&quot;PE&quot;</td><td>&quot;PHONE&quot;</td></tr><tr><td>0</td><td>3</td><td>&quot;a55475b1&quot;</td><td>&quot;a55475b1&quot;</td><td>&quot;a55475b1&quot;</td><td>&quot;a55475b1&quot;</td><td>&quot;a55475b1&quot;</td><td>&quot;a55475b1&quot;</td><td>&quot;a55475b1&quot;</td><td>&quot;a55475b1&quot;</td><td>5.00</td><td>&quot;PE&quot;</td><td>&quot;PHONE&quot;</td></tr><tr><td>1</td><td>0</td><td>&quot;P103_93_94&quot;</td><td>&quot;P176_37_166&quot;</td><td>&quot;P97_36_170&quot;</td><td>&quot;P49_46_174&quot;</td><td>&quot;P160_59_140&quot;</td><td>&quot;P10_39_147&quot;</td><td>&quot;P103_93_94&quot;</td><td>&quot;P176_37_166&quot;</td><td>1.00</td><td>&quot;CL&quot;</td><td>&quot;PRIMARY_MOBILE&quot;</td></tr></tbody></table></div>"
      ],
      "text/plain": [
       "shape: (5, 13)\n",
       "┌─────────┬────────────┬───────────┬───────────┬───┬───────────┬───────────┬───────────┬───────────┐\n",
       "│ case_id ┆ num_group1 ┆ contaddr_ ┆ contaddr_ ┆ … ┆ registadd ┆ persontyp ┆ role_1084 ┆ type_25L  │\n",
       "│ ---     ┆ ---        ┆ district_ ┆ zipcode_8 ┆   ┆ r_zipcode ┆ e_1072L   ┆ L Type of ┆ Contact   │\n",
       "│ u32     ┆ u8         ┆ 15M Zip   ┆ 07M Zip   ┆   ┆ _184M Reg ┆ Person    ┆ contact   ┆ type of a │\n",
       "│         ┆            ┆ code of a ┆ code of   ┆   ┆ istered   ┆ type.     ┆ role.     ┆ person.   │\n",
       "│         ┆            ┆ contact   ┆ contact   ┆   ┆ address's ┆ ---       ┆ ---       ┆ ---       │\n",
       "│         ┆            ┆ person's  ┆ address.  ┆   ┆ zip code  ┆ f32       ┆ cat       ┆ cat       │\n",
       "│         ┆            ┆ address.  ┆ ---       ┆   ┆ of a      ┆           ┆           ┆           │\n",
       "│         ┆            ┆ ---       ┆ cat       ┆   ┆ person.   ┆           ┆           ┆           │\n",
       "│         ┆            ┆ cat       ┆           ┆   ┆ ---       ┆           ┆           ┆           │\n",
       "│         ┆            ┆           ┆           ┆   ┆ cat       ┆           ┆           ┆           │\n",
       "╞═════════╪════════════╪═══════════╪═══════════╪═══╪═══════════╪═══════════╪═══════════╪═══════════╡\n",
       "│ 0       ┆ 0          ┆ P88_18_84 ┆ P167_100_ ┆ … ┆ P167_100_ ┆ 1.00      ┆ CL        ┆ PRIMARY_M │\n",
       "│         ┆            ┆           ┆ 165       ┆   ┆ 165       ┆           ┆           ┆ OBILE     │\n",
       "│ 0       ┆ 1          ┆ a55475b1  ┆ a55475b1  ┆ … ┆ a55475b1  ┆ 1.00      ┆ EM        ┆ PHONE     │\n",
       "│ 0       ┆ 2          ┆ a55475b1  ┆ a55475b1  ┆ … ┆ a55475b1  ┆ 4.00      ┆ PE        ┆ PHONE     │\n",
       "│ 0       ┆ 3          ┆ a55475b1  ┆ a55475b1  ┆ … ┆ a55475b1  ┆ 5.00      ┆ PE        ┆ PHONE     │\n",
       "│ 1       ┆ 0          ┆ P103_93_9 ┆ P176_37_1 ┆ … ┆ P176_37_1 ┆ 1.00      ┆ CL        ┆ PRIMARY_M │\n",
       "│         ┆            ┆ 4         ┆ 66        ┆   ┆ 66        ┆           ┆           ┆ OBILE     │\n",
       "└─────────┴────────────┴───────────┴───────────┴───┴───────────┴───────────┴───────────┴───────────┘"
      ]
     },
     "execution_count": 147,
     "metadata": {},
     "output_type": "execute_result"
    }
   ],
   "source": [
    "train_person_depth_one = (\n",
    "    pl.scan_parquet(all_train_files[5])\n",
    "    .drop(cs.contains(\"date\"))\n",
    "    .select(\n",
    "        cs.by_name(\"case_id\").cast(pl.UInt32),\n",
    "        cs.by_name(\"num_group1\").cast(pl.UInt8),\n",
    "        cs.boolean(),\n",
    "        cs.float().cast(pl.Float32),\n",
    "        cs.string().cast(pl.Categorical()),\n",
    "    )\n",
    "    .pipe(rename_cols)\n",
    "    .pipe(select_imputable_cols)\n",
    ")\n",
    "train_person_depth_one.fetch().head()"
   ]
  },
  {
   "cell_type": "code",
   "execution_count": 151,
   "metadata": {},
   "outputs": [
    {
     "data": {
      "text/html": [
       "<div><style>\n",
       ".dataframe > thead > tr,\n",
       ".dataframe > tbody > tr {\n",
       "  text-align: right;\n",
       "  white-space: pre-wrap;\n",
       "}\n",
       "</style>\n",
       "<small>shape: (5, 13)</small><table border=\"1\" class=\"dataframe\"><thead><tr><th>case_id</th><th>num_group1</th><th>contaddr_district_15M Zip code of a contact person&#x27;s address.</th><th>contaddr_zipcode_807M Zip code of contact address.</th><th>education_927M Education level of the person.</th><th>empladdr_district_926M District where the employer&#x27;s address is located.</th><th>empladdr_zipcode_114M Zipcode of employer&#x27;s address.</th><th>language1_981M The primary language of the person.</th><th>registaddr_district_1083M District of person&#x27;s registered address.</th><th>registaddr_zipcode_184M Registered address&#x27;s zip code of a person.</th><th>persontype_1072L Person type.</th><th>role_1084L Type of contact role.</th><th>type_25L Contact type of a person.</th></tr><tr><td>u32</td><td>u8</td><td>cat</td><td>cat</td><td>cat</td><td>cat</td><td>cat</td><td>cat</td><td>cat</td><td>cat</td><td>f32</td><td>cat</td><td>cat</td></tr></thead><tbody><tr><td>0</td><td>0</td><td>&quot;P88_18_84&quot;</td><td>&quot;P167_100_165&quot;</td><td>&quot;P97_36_170&quot;</td><td>&quot;P142_57_166&quot;</td><td>&quot;P167_100_165&quot;</td><td>&quot;P10_39_147&quot;</td><td>&quot;P88_18_84&quot;</td><td>&quot;P167_100_165&quot;</td><td>1.00</td><td>&quot;CL&quot;</td><td>&quot;PRIMARY_MOBILE&quot;</td></tr><tr><td>0</td><td>1</td><td>&quot;a55475b1&quot;</td><td>&quot;a55475b1&quot;</td><td>&quot;a55475b1&quot;</td><td>&quot;a55475b1&quot;</td><td>&quot;a55475b1&quot;</td><td>&quot;a55475b1&quot;</td><td>&quot;a55475b1&quot;</td><td>&quot;a55475b1&quot;</td><td>1.00</td><td>&quot;EM&quot;</td><td>&quot;PHONE&quot;</td></tr><tr><td>0</td><td>2</td><td>&quot;a55475b1&quot;</td><td>&quot;a55475b1&quot;</td><td>&quot;a55475b1&quot;</td><td>&quot;a55475b1&quot;</td><td>&quot;a55475b1&quot;</td><td>&quot;a55475b1&quot;</td><td>&quot;a55475b1&quot;</td><td>&quot;a55475b1&quot;</td><td>4.00</td><td>&quot;PE&quot;</td><td>&quot;PHONE&quot;</td></tr><tr><td>0</td><td>3</td><td>&quot;a55475b1&quot;</td><td>&quot;a55475b1&quot;</td><td>&quot;a55475b1&quot;</td><td>&quot;a55475b1&quot;</td><td>&quot;a55475b1&quot;</td><td>&quot;a55475b1&quot;</td><td>&quot;a55475b1&quot;</td><td>&quot;a55475b1&quot;</td><td>5.00</td><td>&quot;PE&quot;</td><td>&quot;PHONE&quot;</td></tr><tr><td>1</td><td>0</td><td>&quot;P103_93_94&quot;</td><td>&quot;P176_37_166&quot;</td><td>&quot;P97_36_170&quot;</td><td>&quot;P49_46_174&quot;</td><td>&quot;P160_59_140&quot;</td><td>&quot;P10_39_147&quot;</td><td>&quot;P103_93_94&quot;</td><td>&quot;P176_37_166&quot;</td><td>1.00</td><td>&quot;CL&quot;</td><td>&quot;PRIMARY_MOBILE&quot;</td></tr></tbody></table></div>"
      ],
      "text/plain": [
       "shape: (5, 13)\n",
       "┌─────────┬────────────┬───────────┬───────────┬───┬───────────┬───────────┬───────────┬───────────┐\n",
       "│ case_id ┆ num_group1 ┆ contaddr_ ┆ contaddr_ ┆ … ┆ registadd ┆ persontyp ┆ role_1084 ┆ type_25L  │\n",
       "│ ---     ┆ ---        ┆ district_ ┆ zipcode_8 ┆   ┆ r_zipcode ┆ e_1072L   ┆ L Type of ┆ Contact   │\n",
       "│ u32     ┆ u8         ┆ 15M Zip   ┆ 07M Zip   ┆   ┆ _184M Reg ┆ Person    ┆ contact   ┆ type of a │\n",
       "│         ┆            ┆ code of a ┆ code of   ┆   ┆ istered   ┆ type.     ┆ role.     ┆ person.   │\n",
       "│         ┆            ┆ contact   ┆ contact   ┆   ┆ address's ┆ ---       ┆ ---       ┆ ---       │\n",
       "│         ┆            ┆ person's  ┆ address.  ┆   ┆ zip code  ┆ f32       ┆ cat       ┆ cat       │\n",
       "│         ┆            ┆ address.  ┆ ---       ┆   ┆ of a      ┆           ┆           ┆           │\n",
       "│         ┆            ┆ ---       ┆ cat       ┆   ┆ person.   ┆           ┆           ┆           │\n",
       "│         ┆            ┆ cat       ┆           ┆   ┆ ---       ┆           ┆           ┆           │\n",
       "│         ┆            ┆           ┆           ┆   ┆ cat       ┆           ┆           ┆           │\n",
       "╞═════════╪════════════╪═══════════╪═══════════╪═══╪═══════════╪═══════════╪═══════════╪═══════════╡\n",
       "│ 0       ┆ 0          ┆ P88_18_84 ┆ P167_100_ ┆ … ┆ P167_100_ ┆ 1.00      ┆ CL        ┆ PRIMARY_M │\n",
       "│         ┆            ┆           ┆ 165       ┆   ┆ 165       ┆           ┆           ┆ OBILE     │\n",
       "│ 0       ┆ 1          ┆ a55475b1  ┆ a55475b1  ┆ … ┆ a55475b1  ┆ 1.00      ┆ EM        ┆ PHONE     │\n",
       "│ 0       ┆ 2          ┆ a55475b1  ┆ a55475b1  ┆ … ┆ a55475b1  ┆ 4.00      ┆ PE        ┆ PHONE     │\n",
       "│ 0       ┆ 3          ┆ a55475b1  ┆ a55475b1  ┆ … ┆ a55475b1  ┆ 5.00      ┆ PE        ┆ PHONE     │\n",
       "│ 1       ┆ 0          ┆ P103_93_9 ┆ P176_37_1 ┆ … ┆ P176_37_1 ┆ 1.00      ┆ CL        ┆ PRIMARY_M │\n",
       "│         ┆            ┆ 4         ┆ 66        ┆   ┆ 66        ┆           ┆           ┆ OBILE     │\n",
       "└─────────┴────────────┴───────────┴───────────┴───┴───────────┴───────────┴───────────┴───────────┘"
      ]
     },
     "execution_count": 151,
     "metadata": {},
     "output_type": "execute_result"
    }
   ],
   "source": [
    "train_person_depth_one_transformed = (\n",
    "    train_person_depth_one\n",
    "    .with_columns(\n",
    "        cs.categorical().fill_null(value=cs.categorical().mode().first()),\n",
    "        cs.float().fill_null(strategy=\"mean\")\n",
    "    )\n",
    ")\n",
    "train_person_depth_one_transformed.fetch().head()"
   ]
  },
  {
   "cell_type": "code",
   "execution_count": 157,
   "metadata": {},
   "outputs": [
    {
     "data": {
      "text/html": [
       "<i>naive plan: (run <b>LazyFrame.explain(optimized=True)</b> to see the optimized plan)</i>\n",
       "    <p></p>\n",
       "    <div> SELECT [col(\"case_id\").strict_cast(UInt32), col(\"num_group1\").strict_cast(UInt8), col(\"num_group2\").strict_cast(UInt8), col(\"addres_district_368M\").strict_cast(Categorical(None, Physical)), col(\"addres_role_871L\").strict_cast(Categorical(None, Physical)), col(\"addres_zip_823M\").strict_cast(Categorical(None, Physical)), col(\"conts_role_79M\").strict_cast(Categorical(None, Physical)), col(\"empls_economicalst_849M\").strict_cast(Categorical(None, Physical)), col(\"empls_employedfrom_796D\").strict_cast(Categorical(None, Physical)), col(\"empls_employer_name_740M\").strict_cast(Categorical(None, Physical)), col(\"relatedpersons_role_762T\").strict_cast(Categorical(None, Physical))] FROM<p></p>   SELECT [col(\"case_id\"), col(\"addres_district_368M\"), col(\"addres_role_871L\"), col(\"addres_zip_823M\"), col(\"conts_role_79M\"), col(\"empls_economicalst_849M\"), col(\"empls_employedfrom_796D\"), col(\"empls_employer_name_740M\"), col(\"num_group1\"), col(\"num_group2\"), col(\"relatedpersons_role_762T\")] FROM<p></p><p></p>      Parquet SCAN Downloads/credit_risk/train/train_person_2.parquet<p></p>      PROJECT */11 COLUMNS</div>"
      ],
      "text/plain": [
       "<LazyFrame [11 cols, {\"case_id\": UInt32 … \"relatedpersons_role_762T\": Categorical(ordering='physical')}] at 0x7FE029E67DD0>"
      ]
     },
     "execution_count": 157,
     "metadata": {},
     "output_type": "execute_result"
    }
   ],
   "source": [
    "(\n",
    "    pl.scan_parquet(all_train_files[30])\n",
    "    .drop(cs.contains(\"date\"))\n",
    "    .select(\n",
    "        cs.by_name(\"case_id\").cast(pl.UInt32),\n",
    "        cs.contains(\"num_group\").cast(pl.UInt8),\n",
    "        cs.float().cast(pl.Float32),\n",
    "        cs.string().cast(pl.Categorical)\n",
    "    )\n",
    ")"
   ]
  },
  {
   "cell_type": "code",
   "execution_count": null,
   "metadata": {},
   "outputs": [],
   "source": []
  }
 ],
 "metadata": {
  "kernelspec": {
   "display_name": "base",
   "language": "python",
   "name": "python3"
  },
  "language_info": {
   "codemirror_mode": {
    "name": "ipython",
    "version": 3
   },
   "file_extension": ".py",
   "mimetype": "text/x-python",
   "name": "python",
   "nbconvert_exporter": "python",
   "pygments_lexer": "ipython3",
   "version": "3.11.7"
  }
 },
 "nbformat": 4,
 "nbformat_minor": 2
}
