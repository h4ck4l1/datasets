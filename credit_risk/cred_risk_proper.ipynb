{
 "cells": [
  {
   "cell_type": "code",
   "execution_count": 1,
   "metadata": {},
   "outputs": [
    {
     "data": {
      "text/plain": [
       "'بِسْمِ اللهِ الرَّحْمٰنِ الرَّحِيْمِ'"
      ]
     },
     "execution_count": 1,
     "metadata": {},
     "output_type": "execute_result"
    }
   ],
   "source": [
    "'''بِسْمِ اللهِ الرَّحْمٰنِ الرَّحِيْمِ'''"
   ]
  },
  {
   "cell_type": "code",
   "execution_count": 2,
   "metadata": {},
   "outputs": [
    {
     "data": {
      "text/plain": [
       "'سُبْحَـٰنَكَ لَا عِلْمَ لَنَآ إِلَّا مَا عَلَّمْتَنَآ ۖ إِنَّكَ أَنتَ الْعَلِيمُ الْحَكِيمُ'"
      ]
     },
     "execution_count": 2,
     "metadata": {},
     "output_type": "execute_result"
    }
   ],
   "source": [
    "'''سُبْحَـٰنَكَ لَا عِلْمَ لَنَآ إِلَّا مَا عَلَّمْتَنَآ ۖ إِنَّكَ أَنتَ الْعَلِيمُ الْحَكِيمُ'''"
   ]
  },
  {
   "cell_type": "code",
   "execution_count": 3,
   "metadata": {},
   "outputs": [
    {
     "data": {
      "text/html": [
       "\n",
       "<style>\n",
       "    * {\n",
       "        font-family: Monaco;\n",
       "    }\n",
       "</style>\n"
      ],
      "text/plain": [
       "<IPython.core.display.HTML object>"
      ]
     },
     "execution_count": 3,
     "metadata": {},
     "output_type": "execute_result"
    }
   ],
   "source": [
    "from IPython.core.display import HTML\n",
    "HTML(r\"\"\"\n",
    "<style>\n",
    "    * {\n",
    "        font-family: Monaco;\n",
    "    }\n",
    "</style>\n",
    "\"\"\")"
   ]
  },
  {
   "cell_type": "code",
   "execution_count": 4,
   "metadata": {},
   "outputs": [
    {
     "data": {
      "text/plain": [
       "12"
      ]
     },
     "execution_count": 4,
     "metadata": {},
     "output_type": "execute_result"
    }
   ],
   "source": [
    "import os,sys,warnings,re,math,gc,time\n",
    "warnings.filterwarnings(\"ignore\")\n",
    "os.cpu_count()"
   ]
  },
  {
   "cell_type": "code",
   "execution_count": 5,
   "metadata": {},
   "outputs": [
    {
     "name": "stdout",
     "output_type": "stream",
     "text": [
      "Exception reporting mode: Minimal\n"
     ]
    }
   ],
   "source": [
    "os.environ[\"POLARS_MAX_THREADS\"] = \"40\"\n",
    "import numpy as np\n",
    "import pandas as pd\n",
    "import polars as pl\n",
    "import polars.selectors as cs\n",
    "from glob import glob\n",
    "from pathlib import Path\n",
    "from tqdm import tqdm\n",
    "from concurrent.futures import ThreadPoolExecutor\n",
    "import plotly.express as px\n",
    "import plotly.graph_objects as go\n",
    "import plotly.io as pio\n",
    "from plotly.subplots import make_subplots\n",
    "pio.templates[\"mod\"] = go.layout.Template(layout=dict(font=dict(family=\"Monaco\",size=15)))\n",
    "pio.templates.default = \"mod+plotly_dark\"\n",
    "from sklearn.metrics import auc,roc_auc_score\n",
    "from sklearn.model_selection import train_test_split\n",
    "import lightgbm as lgb\n",
    "import miceforest as mf\n",
    "from miceforest import mean_match_shap,mean_match_default,mean_match_fast_cat\n",
    "%xmode Minimal"
   ]
  },
  {
   "cell_type": "code",
   "execution_count": 6,
   "metadata": {},
   "outputs": [
    {
     "data": {
      "text/plain": [
       "polars.config.Config"
      ]
     },
     "execution_count": 6,
     "metadata": {},
     "output_type": "execute_result"
    }
   ],
   "source": [
    "pl.Config.set_fmt_str_lengths(100)\n",
    "pl.Config.set_thousands_separator(\",\")\n",
    "pl.Config.set_float_precision(2)\n",
    "pl.Config.set_fmt_float(\"full\")\n",
    "pl.Config.set_tbl_rows(40)"
   ]
  },
  {
   "cell_type": "code",
   "execution_count": 7,
   "metadata": {},
   "outputs": [],
   "source": [
    "path_to_train = Path(\"Downloads/credit_risk/train/\")\n",
    "path_to_test = Path(\"Downloads/credit_risk/test/\")\n",
    "path_to_features = Path(\"Downloads/feature_definitions.csv\")"
   ]
  },
  {
   "cell_type": "code",
   "execution_count": 8,
   "metadata": {},
   "outputs": [
    {
     "data": {
      "text/html": [
       "<div><style>\n",
       ".dataframe > thead > tr,\n",
       ".dataframe > tbody > tr {\n",
       "  text-align: right;\n",
       "  white-space: pre-wrap;\n",
       "}\n",
       "</style>\n",
       "<small>shape: (5, 2)</small><table border=\"1\" class=\"dataframe\"><thead><tr><th>Variable</th><th>Description</th></tr><tr><td>str</td><td>str</td></tr></thead><tbody><tr><td>&quot;actualdpd_943P&quot;</td><td>&quot;Days Past Due (DPD) of previous contract (actual).&quot;</td></tr><tr><td>&quot;actualdpdtolerance_344P&quot;</td><td>&quot;DPD of client with tolerance.&quot;</td></tr><tr><td>&quot;addres_district_368M&quot;</td><td>&quot;District of the person&#x27;s address.&quot;</td></tr><tr><td>&quot;addres_role_871L&quot;</td><td>&quot;Role of person&#x27;s address.&quot;</td></tr><tr><td>&quot;addres_zip_823M&quot;</td><td>&quot;Zip code of the address.&quot;</td></tr></tbody></table></div>"
      ],
      "text/plain": [
       "shape: (5, 2)\n",
       "┌─────────────────────────┬────────────────────────────────────────────────────┐\n",
       "│ Variable                ┆ Description                                        │\n",
       "│ ---                     ┆ ---                                                │\n",
       "│ str                     ┆ str                                                │\n",
       "╞═════════════════════════╪════════════════════════════════════════════════════╡\n",
       "│ actualdpd_943P          ┆ Days Past Due (DPD) of previous contract (actual). │\n",
       "│ actualdpdtolerance_344P ┆ DPD of client with tolerance.                      │\n",
       "│ addres_district_368M    ┆ District of the person's address.                  │\n",
       "│ addres_role_871L        ┆ Role of person's address.                          │\n",
       "│ addres_zip_823M         ┆ Zip code of the address.                           │\n",
       "└─────────────────────────┴────────────────────────────────────────────────────┘"
      ]
     },
     "execution_count": 8,
     "metadata": {},
     "output_type": "execute_result"
    }
   ],
   "source": [
    "feat_df = pl.read_csv(path_to_features)\n",
    "feat_df.head()"
   ]
  },
  {
   "cell_type": "code",
   "execution_count": 9,
   "metadata": {},
   "outputs": [
    {
     "data": {
      "text/html": [
       "<div><style>\n",
       ".dataframe > thead > tr,\n",
       ".dataframe > tbody > tr {\n",
       "  text-align: right;\n",
       "  white-space: pre-wrap;\n",
       "}\n",
       "</style>\n",
       "<small>shape: (5, 3)</small><table border=\"1\" class=\"dataframe\"><thead><tr><th>index</th><th>path</th><th>filename</th></tr><tr><td>i64</td><td>str</td><td>str</td></tr></thead><tbody><tr><td>31</td><td>&quot;Downloads/credit_risk/train/train_applprev_1_0.parquet&quot;</td><td>&quot;train_applprev_1_0.parquet&quot;</td></tr><tr><td>13</td><td>&quot;Downloads/credit_risk/train/train_applprev_1_1.parquet&quot;</td><td>&quot;train_applprev_1_1.parquet&quot;</td></tr><tr><td>0</td><td>&quot;Downloads/credit_risk/train/train_applprev_2.parquet&quot;</td><td>&quot;train_applprev_2.parquet&quot;</td></tr><tr><td>7</td><td>&quot;Downloads/credit_risk/train/train_base.parquet&quot;</td><td>&quot;train_base.parquet&quot;</td></tr><tr><td>11</td><td>&quot;Downloads/credit_risk/train/train_credit_bureau_a_1_0.parquet&quot;</td><td>&quot;train_credit_bureau_a_1_0.parquet&quot;</td></tr></tbody></table></div>"
      ],
      "text/plain": [
       "shape: (5, 3)\n",
       "┌───────┬──────────────────────────────────────────────────────┬───────────────────────────────────┐\n",
       "│ index ┆ path                                                 ┆ filename                          │\n",
       "│ ---   ┆ ---                                                  ┆ ---                               │\n",
       "│ i64   ┆ str                                                  ┆ str                               │\n",
       "╞═══════╪══════════════════════════════════════════════════════╪═══════════════════════════════════╡\n",
       "│ 31    ┆ Downloads/credit_risk/train/train_applprev_1_0.parqu ┆ train_applprev_1_0.parquet        │\n",
       "│       ┆ et                                                   ┆                                   │\n",
       "│ 13    ┆ Downloads/credit_risk/train/train_applprev_1_1.parqu ┆ train_applprev_1_1.parquet        │\n",
       "│       ┆ et                                                   ┆                                   │\n",
       "│ 0     ┆ Downloads/credit_risk/train/train_applprev_2.parquet ┆ train_applprev_2.parquet          │\n",
       "│ 7     ┆ Downloads/credit_risk/train/train_base.parquet       ┆ train_base.parquet                │\n",
       "│ 11    ┆ Downloads/credit_risk/train/train_credit_bureau_a_1_ ┆ train_credit_bureau_a_1_0.parquet │\n",
       "│       ┆ 0.parquet                                            ┆                                   │\n",
       "└───────┴──────────────────────────────────────────────────────┴───────────────────────────────────┘"
      ]
     },
     "metadata": {},
     "output_type": "display_data"
    },
    {
     "data": {
      "text/html": [
       "<div><style>\n",
       ".dataframe > thead > tr,\n",
       ".dataframe > tbody > tr {\n",
       "  text-align: right;\n",
       "  white-space: pre-wrap;\n",
       "}\n",
       "</style>\n",
       "<small>shape: (5, 3)</small><table border=\"1\" class=\"dataframe\"><thead><tr><th>index</th><th>path</th><th>filename</th></tr><tr><td>i64</td><td>str</td><td>str</td></tr></thead><tbody><tr><td>31</td><td>&quot;Downloads/credit_risk/test/test_applprev_1_0.parquet&quot;</td><td>&quot;test_applprev_1_0.parquet&quot;</td></tr><tr><td>35</td><td>&quot;Downloads/credit_risk/test/test_applprev_1_1.parquet&quot;</td><td>&quot;test_applprev_1_1.parquet&quot;</td></tr><tr><td>9</td><td>&quot;Downloads/credit_risk/test/test_applprev_1_2.parquet&quot;</td><td>&quot;test_applprev_1_2.parquet&quot;</td></tr><tr><td>1</td><td>&quot;Downloads/credit_risk/test/test_applprev_2.parquet&quot;</td><td>&quot;test_applprev_2.parquet&quot;</td></tr><tr><td>33</td><td>&quot;Downloads/credit_risk/test/test_base.parquet&quot;</td><td>&quot;test_base.parquet&quot;</td></tr></tbody></table></div>"
      ],
      "text/plain": [
       "shape: (5, 3)\n",
       "┌───────┬──────────────────────────────────────────────────────┬───────────────────────────┐\n",
       "│ index ┆ path                                                 ┆ filename                  │\n",
       "│ ---   ┆ ---                                                  ┆ ---                       │\n",
       "│ i64   ┆ str                                                  ┆ str                       │\n",
       "╞═══════╪══════════════════════════════════════════════════════╪═══════════════════════════╡\n",
       "│ 31    ┆ Downloads/credit_risk/test/test_applprev_1_0.parquet ┆ test_applprev_1_0.parquet │\n",
       "│ 35    ┆ Downloads/credit_risk/test/test_applprev_1_1.parquet ┆ test_applprev_1_1.parquet │\n",
       "│ 9     ┆ Downloads/credit_risk/test/test_applprev_1_2.parquet ┆ test_applprev_1_2.parquet │\n",
       "│ 1     ┆ Downloads/credit_risk/test/test_applprev_2.parquet   ┆ test_applprev_2.parquet   │\n",
       "│ 33    ┆ Downloads/credit_risk/test/test_base.parquet         ┆ test_base.parquet         │\n",
       "└───────┴──────────────────────────────────────────────────────┴───────────────────────────┘"
      ]
     },
     "metadata": {},
     "output_type": "display_data"
    }
   ],
   "source": [
    "all_train_files = glob(\"Downloads/credit_risk/train/*.parquet\")\n",
    "all_test_files = glob(\"Downloads/credit_risk/test/*.parquet\")\n",
    "train_files_df = pl.DataFrame({\"index\":range(len(all_train_files)),\"path\":all_train_files})\n",
    "test_files_df = pl.DataFrame({\"index\":range(len(all_test_files)),\"path\":all_test_files})\n",
    "train_files_df = (\n",
    "    train_files_df\n",
    "    .with_columns(\n",
    "        (pl.col(\"path\").str.split(\"/\").list.get(-1)).alias(\"filename\")\n",
    "    )\n",
    "    .sort(by=\"filename\")\n",
    ")\n",
    "test_files_df = (\n",
    "    test_files_df\n",
    "    .with_columns(\n",
    "        (pl.col(\"path\").str.split(\"/\").list.get(-1)).alias(\"filename\")\n",
    "    )\n",
    "    .sort(by=\"filename\")\n",
    ")\n",
    "display(train_files_df.head())\n",
    "display(test_files_df.head())"
   ]
  },
  {
   "cell_type": "code",
   "execution_count": 10,
   "metadata": {},
   "outputs": [
    {
     "data": {
      "text/html": [
       "<div><style>\n",
       ".dataframe > thead > tr,\n",
       ".dataframe > tbody > tr {\n",
       "  text-align: right;\n",
       "  white-space: pre-wrap;\n",
       "}\n",
       "</style>\n",
       "<small>shape: (1, 3)</small><table border=\"1\" class=\"dataframe\"><thead><tr><th>index</th><th>path</th><th>filename</th></tr><tr><td>i64</td><td>str</td><td>str</td></tr></thead><tbody><tr><td>7</td><td>&quot;Downloads/credit_risk/train/train_base.parquet&quot;</td><td>&quot;train_base.parquet&quot;</td></tr></tbody></table></div>"
      ],
      "text/plain": [
       "shape: (1, 3)\n",
       "┌───────┬────────────────────────────────────────────────┬────────────────────┐\n",
       "│ index ┆ path                                           ┆ filename           │\n",
       "│ ---   ┆ ---                                            ┆ ---                │\n",
       "│ i64   ┆ str                                            ┆ str                │\n",
       "╞═══════╪════════════════════════════════════════════════╪════════════════════╡\n",
       "│ 7     ┆ Downloads/credit_risk/train/train_base.parquet ┆ train_base.parquet │\n",
       "└───────┴────────────────────────────────────────────────┴────────────────────┘"
      ]
     },
     "execution_count": 10,
     "metadata": {},
     "output_type": "execute_result"
    }
   ],
   "source": [
    "train_files_df.filter(pl.col(\"filename\").str.contains(\"base\"))"
   ]
  },
  {
   "cell_type": "code",
   "execution_count": 11,
   "metadata": {},
   "outputs": [
    {
     "data": {
      "text/html": [
       "<div><style>\n",
       ".dataframe > thead > tr,\n",
       ".dataframe > tbody > tr {\n",
       "  text-align: right;\n",
       "  white-space: pre-wrap;\n",
       "}\n",
       "</style>\n",
       "<small>shape: (5, 5)</small><table border=\"1\" class=\"dataframe\"><thead><tr><th>case_id_base</th><th>month</th><th>week</th><th>weekday</th><th>target</th></tr><tr><td>u32</td><td>i8</td><td>i8</td><td>i8</td><td>u8</td></tr></thead><tbody><tr><td>0</td><td>1</td><td>1</td><td>4</td><td>0</td></tr><tr><td>1</td><td>1</td><td>1</td><td>4</td><td>0</td></tr><tr><td>2</td><td>1</td><td>1</td><td>5</td><td>0</td></tr><tr><td>3</td><td>1</td><td>1</td><td>4</td><td>0</td></tr><tr><td>4</td><td>1</td><td>1</td><td>5</td><td>1</td></tr></tbody></table></div>"
      ],
      "text/plain": [
       "shape: (5, 5)\n",
       "┌──────────────┬───────┬──────┬─────────┬────────┐\n",
       "│ case_id_base ┆ month ┆ week ┆ weekday ┆ target │\n",
       "│ ---          ┆ ---   ┆ ---  ┆ ---     ┆ ---    │\n",
       "│ u32          ┆ i8    ┆ i8   ┆ i8      ┆ u8     │\n",
       "╞══════════════╪═══════╪══════╪═════════╪════════╡\n",
       "│ 0            ┆ 1     ┆ 1    ┆ 4       ┆ 0      │\n",
       "│ 1            ┆ 1     ┆ 1    ┆ 4       ┆ 0      │\n",
       "│ 2            ┆ 1     ┆ 1    ┆ 5       ┆ 0      │\n",
       "│ 3            ┆ 1     ┆ 1    ┆ 4       ┆ 0      │\n",
       "│ 4            ┆ 1     ┆ 1    ┆ 5       ┆ 1      │\n",
       "└──────────────┴───────┴──────┴─────────┴────────┘"
      ]
     },
     "metadata": {},
     "output_type": "display_data"
    },
    {
     "data": {
      "text/plain": [
       "(1526659, 5)"
      ]
     },
     "execution_count": 11,
     "metadata": {},
     "output_type": "execute_result"
    }
   ],
   "source": [
    "train_base = (\n",
    "    pl.scan_parquet(all_train_files[7])\n",
    "    .select(\n",
    "        pl.col(\"case_id\").cast(pl.UInt32).alias(\"case_id_base\"),\n",
    "        cs.contains(\"date\").str.to_date().alias(\"date\"),\n",
    "        pl.col(\"target\").cast(pl.UInt8)\n",
    "    )\n",
    "    .with_columns(\n",
    "        pl.col(\"date\").dt.month().alias(\"month\"),\n",
    "        pl.col(\"date\").dt.week().alias(\"week\"),\n",
    "        pl.col(\"date\").dt.weekday().alias(\"weekday\")\n",
    "    )\n",
    "\n",
    "    .select(~cs.contains([\"target\",\"date\"]),cs.contains(\"target\"))\n",
    ")\n",
    "display(train_base.fetch().head())\n",
    "train_base.collect().shape"
   ]
  },
  {
   "cell_type": "code",
   "execution_count": 12,
   "metadata": {},
   "outputs": [
    {
     "data": {
      "text/html": [
       "<div><style>\n",
       ".dataframe > thead > tr,\n",
       ".dataframe > tbody > tr {\n",
       "  text-align: right;\n",
       "  white-space: pre-wrap;\n",
       "}\n",
       "</style>\n",
       "<small>shape: (1, 3)</small><table border=\"1\" class=\"dataframe\"><thead><tr><th>index</th><th>path</th><th>filename</th></tr><tr><td>i64</td><td>str</td><td>str</td></tr></thead><tbody><tr><td>33</td><td>&quot;Downloads/credit_risk/test/test_base.parquet&quot;</td><td>&quot;test_base.parquet&quot;</td></tr></tbody></table></div>"
      ],
      "text/plain": [
       "shape: (1, 3)\n",
       "┌───────┬──────────────────────────────────────────────┬───────────────────┐\n",
       "│ index ┆ path                                         ┆ filename          │\n",
       "│ ---   ┆ ---                                          ┆ ---               │\n",
       "│ i64   ┆ str                                          ┆ str               │\n",
       "╞═══════╪══════════════════════════════════════════════╪═══════════════════╡\n",
       "│ 33    ┆ Downloads/credit_risk/test/test_base.parquet ┆ test_base.parquet │\n",
       "└───────┴──────────────────────────────────────────────┴───────────────────┘"
      ]
     },
     "execution_count": 12,
     "metadata": {},
     "output_type": "execute_result"
    }
   ],
   "source": [
    "test_files_df.filter(pl.col(\"filename\").str.contains(\"base\"))"
   ]
  },
  {
   "cell_type": "code",
   "execution_count": 13,
   "metadata": {},
   "outputs": [
    {
     "data": {
      "text/html": [
       "<div><style>\n",
       ".dataframe > thead > tr,\n",
       ".dataframe > tbody > tr {\n",
       "  text-align: right;\n",
       "  white-space: pre-wrap;\n",
       "}\n",
       "</style>\n",
       "<small>shape: (5, 4)</small><table border=\"1\" class=\"dataframe\"><thead><tr><th>case_id_base</th><th>month</th><th>week</th><th>weekday</th></tr><tr><td>u32</td><td>i8</td><td>i8</td><td>i8</td></tr></thead><tbody><tr><td>57,543</td><td>10</td><td>41</td><td>2</td></tr><tr><td>57,549</td><td>10</td><td>41</td><td>2</td></tr><tr><td>57,551</td><td>10</td><td>41</td><td>2</td></tr><tr><td>57,552</td><td>10</td><td>41</td><td>3</td></tr><tr><td>57,569</td><td>10</td><td>41</td><td>2</td></tr></tbody></table></div>"
      ],
      "text/plain": [
       "shape: (5, 4)\n",
       "┌──────────────┬───────┬──────┬─────────┐\n",
       "│ case_id_base ┆ month ┆ week ┆ weekday │\n",
       "│ ---          ┆ ---   ┆ ---  ┆ ---     │\n",
       "│ u32          ┆ i8    ┆ i8   ┆ i8      │\n",
       "╞══════════════╪═══════╪══════╪═════════╡\n",
       "│ 57,543       ┆ 10    ┆ 41   ┆ 2       │\n",
       "│ 57,549       ┆ 10    ┆ 41   ┆ 2       │\n",
       "│ 57,551       ┆ 10    ┆ 41   ┆ 2       │\n",
       "│ 57,552       ┆ 10    ┆ 41   ┆ 3       │\n",
       "│ 57,569       ┆ 10    ┆ 41   ┆ 2       │\n",
       "└──────────────┴───────┴──────┴─────────┘"
      ]
     },
     "metadata": {},
     "output_type": "display_data"
    },
    {
     "name": "stdout",
     "output_type": "stream",
     "text": [
      "(10, 4)\n"
     ]
    }
   ],
   "source": [
    "test_base = (\n",
    "    pl.scan_parquet(all_test_files[33])\n",
    "    .select(\n",
    "        pl.col(\"case_id\").cast(pl.UInt32).alias(\"case_id_base\"),\n",
    "        cs.contains(\"date\").str.to_date().alias(\"date\"),\n",
    "    )\n",
    "    .with_columns(\n",
    "        pl.col(\"date\").dt.month().alias(\"month\"),\n",
    "        pl.col(\"date\").dt.week().alias(\"week\"),\n",
    "        pl.col(\"date\").dt.weekday().alias(\"weekday\")\n",
    "    )\n",
    "\n",
    "    .select(~cs.contains([\"date\"]),cs.contains(\"target\"))\n",
    ")\n",
    "display(test_base.fetch().head())\n",
    "print(test_base.collect().shape)"
   ]
  },
  {
   "cell_type": "code",
   "execution_count": 14,
   "metadata": {},
   "outputs": [
    {
     "data": {
      "text/html": [
       "<div><style>\n",
       ".dataframe > thead > tr,\n",
       ".dataframe > tbody > tr {\n",
       "  text-align: right;\n",
       "  white-space: pre-wrap;\n",
       "}\n",
       "</style>\n",
       "<small>shape: (3, 3)</small><table border=\"1\" class=\"dataframe\"><thead><tr><th>index</th><th>path</th><th>filename</th></tr><tr><td>i64</td><td>str</td><td>str</td></tr></thead><tbody><tr><td>31</td><td>&quot;Downloads/credit_risk/train/train_applprev_1_0.parquet&quot;</td><td>&quot;train_applprev_1_0.parquet&quot;</td></tr><tr><td>13</td><td>&quot;Downloads/credit_risk/train/train_applprev_1_1.parquet&quot;</td><td>&quot;train_applprev_1_1.parquet&quot;</td></tr><tr><td>0</td><td>&quot;Downloads/credit_risk/train/train_applprev_2.parquet&quot;</td><td>&quot;train_applprev_2.parquet&quot;</td></tr></tbody></table></div>"
      ],
      "text/plain": [
       "shape: (3, 3)\n",
       "┌───────┬────────────────────────────────────────────────────────┬────────────────────────────┐\n",
       "│ index ┆ path                                                   ┆ filename                   │\n",
       "│ ---   ┆ ---                                                    ┆ ---                        │\n",
       "│ i64   ┆ str                                                    ┆ str                        │\n",
       "╞═══════╪════════════════════════════════════════════════════════╪════════════════════════════╡\n",
       "│ 31    ┆ Downloads/credit_risk/train/train_applprev_1_0.parquet ┆ train_applprev_1_0.parquet │\n",
       "│ 13    ┆ Downloads/credit_risk/train/train_applprev_1_1.parquet ┆ train_applprev_1_1.parquet │\n",
       "│ 0     ┆ Downloads/credit_risk/train/train_applprev_2.parquet   ┆ train_applprev_2.parquet   │\n",
       "└───────┴────────────────────────────────────────────────────────┴────────────────────────────┘"
      ]
     },
     "execution_count": 14,
     "metadata": {},
     "output_type": "execute_result"
    }
   ],
   "source": [
    "train_files_df.filter(pl.col(\"filename\").str.contains(\"appl\"))"
   ]
  },
  {
   "cell_type": "markdown",
   "metadata": {},
   "source": [
    "## Case_id, num_group1 and num_group2 relationships\n",
    "\n",
    "<font size=6>\n",
    "\n",
    "Goal of this competition is to predict risk quality of clients (or to be precise applications of clients), so client and his/her application is entity (case_id) for which your model predict probability of default (credit score).\n",
    "\n",
    "- depth=0 (what we call static attributes) are attributes that are aggregated on case_id level. Example can be age of client or gender, 1 records per 1 case_id.\n",
    "\n",
    "- depth=1, those are attributes where we have several records per client/application. Example can be previous applications or loans in credit bureau register, each client can have from 0 to n records. Therefore, for one case_id there might be several records, and to index them we use num_group1\n",
    "\n",
    "- depth=2: For some attributes with depth=1 we have more detailed information, for example for previous applications we have data about instalments like date of payments or days past due of each payments. It means for each previous application, you can have 0…n records about instalments/payments. And as an index is used num_group2\n",
    "\n",
    "To sum up, 1 client can have several previous applications, and each of those previous applications can have several records about instalments, payments, days past due, etc.\n",
    "\n",
    "- num_group1 : 0 -> 19\n",
    "- num_group2 : 0 -> 11"
   ]
  },
  {
   "cell_type": "markdown",
   "metadata": {},
   "source": [
    "## Functions"
   ]
  },
  {
   "cell_type": "code",
   "execution_count": 15,
   "metadata": {},
   "outputs": [],
   "source": [
    "def select_imputable_cols(df:pl.LazyFrame,threshold:int=10) -> pl.LazyFrame:\n",
    "    col_list = (\n",
    "        df\n",
    "        .collect()\n",
    "        .pipe(lambda df: (df.null_count()/df.shape[0])*100)\n",
    "        .transpose(include_header=True,column_names=[\"percentage of nulls\"])\n",
    "        .join(\n",
    "            feat_df,\n",
    "            left_on=\"column\",\n",
    "            right_on=\"Variable\",\n",
    "            how=\"left\"\n",
    "        )\n",
    "        .sort(by=\"percentage of nulls\")\n",
    "        .select([\"column\",\"Description\",\"percentage of nulls\"])\n",
    "        .filter(pl.col(\"percentage of nulls\") < threshold)\n",
    "        [\"column\"].to_list()\n",
    "    )\n",
    "    _ = df.select(col_list)\n",
    "    gc.collect()\n",
    "    return _"
   ]
  },
  {
   "cell_type": "code",
   "execution_count": 16,
   "metadata": {},
   "outputs": [],
   "source": [
    "def rename_cols(df: pl.LazyFrame) -> pl.LazyFrame:\n",
    "    return (\n",
    "        df\n",
    "        .pipe(\n",
    "            lambda df: df.rename(\n",
    "                {_:_ + \" \" + feat_df.filter(pl.col(\"Variable\") == _).select(\"Description\").item() for _ in df.columns if _ not in [\"case_id\",\"num_group1\",\"num_group2\"]}\n",
    "            )\n",
    "        )\n",
    "    )"
   ]
  },
  {
   "cell_type": "code",
   "execution_count": 17,
   "metadata": {},
   "outputs": [],
   "source": [
    "train_past_depth_one = (\n",
    "    pl.scan_parquet(path_to_train/\"train_applprev_1_*.parquet\",rechunk=True)\n",
    "    .drop(cs.contains(\"date\"))\n",
    "    .select(\n",
    "        pl.col(\"case_id\").cast(pl.UInt32),\n",
    "        cs.contains(\"num_group\").cast(pl.UInt8),\n",
    "        cs.float().cast(pl.Float32),\n",
    "        cs.string().cast(pl.Categorical),\n",
    "    )\n",
    ")"
   ]
  },
  {
   "cell_type": "code",
   "execution_count": 18,
   "metadata": {},
   "outputs": [
    {
     "data": {
      "text/html": [
       "<div><style>\n",
       ".dataframe > thead > tr,\n",
       ".dataframe > tbody > tr {\n",
       "  text-align: right;\n",
       "  white-space: pre-wrap;\n",
       "}\n",
       "</style>\n",
       "<small>shape: (10, 35)</small><table border=\"1\" class=\"dataframe\"><thead><tr><th>case_id</th><th>num_group1</th><th>actualdpd_943P</th><th>annuity_853A</th><th>byoccupationinc_3656910L</th><th>childnum_21L</th><th>credacc_actualbalance_314A</th><th>credacc_credlmt_575A</th><th>credacc_maxhisbal_375A</th><th>credacc_minhisbal_90A</th><th>credacc_transactions_402L</th><th>credamount_590A</th><th>currdebt_94A</th><th>downpmt_134A</th><th>mainoccupationinc_437A</th><th>maxdpdtolerance_577P</th><th>outstandingdebt_522A</th><th>pmtnum_8L</th><th>revolvingaccount_394A</th><th>tenor_203L</th><th>cancelreason_3545846M</th><th>credacc_status_367L</th><th>credtype_587L</th><th>district_544M</th><th>dtlastpmt_581D</th><th>dtlastpmtallstes_3545839D</th><th>education_1138M</th><th>employedfrom_700D</th><th>familystate_726L</th><th>inittransactioncode_279L</th><th>postype_4733339M</th><th>profession_152M</th><th>rejectreason_755M</th><th>rejectreasonclient_4145042M</th><th>status_219L</th></tr><tr><td>u32</td><td>u8</td><td>f32</td><td>f32</td><td>f32</td><td>f32</td><td>f32</td><td>f32</td><td>f32</td><td>f32</td><td>f32</td><td>f32</td><td>f32</td><td>f32</td><td>f32</td><td>f32</td><td>f32</td><td>f32</td><td>f32</td><td>f32</td><td>cat</td><td>cat</td><td>cat</td><td>cat</td><td>cat</td><td>cat</td><td>cat</td><td>cat</td><td>cat</td><td>cat</td><td>cat</td><td>cat</td><td>cat</td><td>cat</td><td>cat</td></tr></thead><tbody><tr><td>2</td><td>0</td><td>0.00</td><td>640.20</td><td>null</td><td>0.00</td><td>null</td><td>0.00</td><td>null</td><td>null</td><td>null</td><td>10,000.00</td><td>null</td><td>0.00</td><td>8,200.00</td><td>null</td><td>null</td><td>24.00</td><td>null</td><td>24.00</td><td>&quot;a55475b1&quot;</td><td>null</td><td>&quot;CAL&quot;</td><td>&quot;P136_108_173&quot;</td><td>null</td><td>null</td><td>&quot;P97_36_170&quot;</td><td>&quot;2010-02-15&quot;</td><td>&quot;SINGLE&quot;</td><td>&quot;CASH&quot;</td><td>&quot;a55475b1&quot;</td><td>&quot;a55475b1&quot;</td><td>&quot;a55475b1&quot;</td><td>&quot;a55475b1&quot;</td><td>&quot;D&quot;</td></tr><tr><td>2</td><td>1</td><td>0.00</td><td>1,682.40</td><td>null</td><td>0.00</td><td>null</td><td>0.00</td><td>null</td><td>null</td><td>null</td><td>16,000.00</td><td>null</td><td>0.00</td><td>8,200.00</td><td>null</td><td>null</td><td>12.00</td><td>null</td><td>12.00</td><td>&quot;a55475b1&quot;</td><td>null</td><td>&quot;CAL&quot;</td><td>&quot;P136_108_173&quot;</td><td>null</td><td>null</td><td>&quot;P97_36_170&quot;</td><td>&quot;2010-02-15&quot;</td><td>&quot;SINGLE&quot;</td><td>&quot;CASH&quot;</td><td>&quot;a55475b1&quot;</td><td>&quot;a55475b1&quot;</td><td>&quot;a55475b1&quot;</td><td>&quot;a55475b1&quot;</td><td>&quot;D&quot;</td></tr><tr><td>3</td><td>0</td><td>0.00</td><td>6,140.00</td><td>null</td><td>null</td><td>null</td><td>0.00</td><td>null</td><td>null</td><td>null</td><td>59,999.80</td><td>null</td><td>0.00</td><td>11,000.00</td><td>null</td><td>null</td><td>12.00</td><td>null</td><td>12.00</td><td>&quot;P94_109_143&quot;</td><td>null</td><td>&quot;CAL&quot;</td><td>&quot;P131_33_167&quot;</td><td>null</td><td>null</td><td>&quot;P97_36_170&quot;</td><td>&quot;2018-05-15&quot;</td><td>&quot;MARRIED&quot;</td><td>&quot;CASH&quot;</td><td>&quot;a55475b1&quot;</td><td>&quot;a55475b1&quot;</td><td>&quot;P94_109_143&quot;</td><td>&quot;a55475b1&quot;</td><td>&quot;D&quot;</td></tr><tr><td>4</td><td>0</td><td>0.00</td><td>2,556.60</td><td>null</td><td>null</td><td>null</td><td>0.00</td><td>null</td><td>null</td><td>null</td><td>40,000.00</td><td>null</td><td>0.00</td><td>16,000.00</td><td>null</td><td>null</td><td>24.00</td><td>null</td><td>24.00</td><td>&quot;P24_27_36&quot;</td><td>null</td><td>&quot;CAL&quot;</td><td>&quot;P194_82_174&quot;</td><td>null</td><td>null</td><td>&quot;a55475b1&quot;</td><td>null</td><td>null</td><td>&quot;CASH&quot;</td><td>&quot;a55475b1&quot;</td><td>&quot;a55475b1&quot;</td><td>&quot;a55475b1&quot;</td><td>&quot;a55475b1&quot;</td><td>&quot;T&quot;</td></tr><tr><td>5</td><td>0</td><td>0.00</td><td>null</td><td>null</td><td>null</td><td>null</td><td>null</td><td>null</td><td>null</td><td>null</td><td>null</td><td>null</td><td>null</td><td>62,000.00</td><td>null</td><td>null</td><td>null</td><td>null</td><td>null</td><td>&quot;P85_114_140&quot;</td><td>null</td><td>null</td><td>&quot;P54_133_26&quot;</td><td>null</td><td>null</td><td>&quot;a55475b1&quot;</td><td>null</td><td>null</td><td>null</td><td>&quot;a55475b1&quot;</td><td>&quot;a55475b1&quot;</td><td>&quot;a55475b1&quot;</td><td>&quot;a55475b1&quot;</td><td>&quot;T&quot;</td></tr><tr><td>6</td><td>0</td><td>0.00</td><td>1,773.80</td><td>null</td><td>null</td><td>null</td><td>0.00</td><td>null</td><td>null</td><td>null</td><td>15,980.00</td><td>null</td><td>0.00</td><td>37,000.00</td><td>null</td><td>null</td><td>11.00</td><td>null</td><td>11.00</td><td>&quot;P94_109_143&quot;</td><td>null</td><td>&quot;CAL&quot;</td><td>&quot;P82_154_182&quot;</td><td>null</td><td>null</td><td>&quot;a55475b1&quot;</td><td>null</td><td>null</td><td>&quot;CASH&quot;</td><td>&quot;a55475b1&quot;</td><td>&quot;a55475b1&quot;</td><td>&quot;P94_109_143&quot;</td><td>&quot;a55475b1&quot;</td><td>&quot;D&quot;</td></tr><tr><td>6</td><td>1</td><td>0.00</td><td>4,189.60</td><td>null</td><td>0.00</td><td>null</td><td>0.00</td><td>null</td><td>null</td><td>null</td><td>32,000.00</td><td>null</td><td>0.00</td><td>35,000.00</td><td>null</td><td>null</td><td>11.00</td><td>null</td><td>11.00</td><td>&quot;P94_109_143&quot;</td><td>null</td><td>&quot;CAL&quot;</td><td>&quot;P82_154_182&quot;</td><td>null</td><td>null</td><td>&quot;P97_36_170&quot;</td><td>&quot;2013-09-15&quot;</td><td>&quot;SINGLE&quot;</td><td>&quot;CASH&quot;</td><td>&quot;a55475b1&quot;</td><td>&quot;a55475b1&quot;</td><td>&quot;P94_109_143&quot;</td><td>&quot;a55475b1&quot;</td><td>&quot;D&quot;</td></tr><tr><td>6</td><td>2</td><td>0.00</td><td>1,110.40</td><td>1.00</td><td>0.00</td><td>null</td><td>0.00</td><td>null</td><td>null</td><td>null</td><td>17,380.00</td><td>0.00</td><td>0.00</td><td>14,000.00</td><td>null</td><td>0.00</td><td>24.00</td><td>null</td><td>24.00</td><td>&quot;a55475b1&quot;</td><td>null</td><td>&quot;COL&quot;</td><td>&quot;a55475b1&quot;</td><td>null</td><td>null</td><td>&quot;P97_36_170&quot;</td><td>&quot;2012-09-15&quot;</td><td>&quot;SINGLE&quot;</td><td>&quot;POS&quot;</td><td>&quot;a55475b1&quot;</td><td>&quot;a55475b1&quot;</td><td>&quot;a55475b1&quot;</td><td>&quot;a55475b1&quot;</td><td>&quot;D&quot;</td></tr><tr><td>10</td><td>0</td><td>0.00</td><td>10,916.60</td><td>null</td><td>null</td><td>null</td><td>0.00</td><td>null</td><td>null</td><td>null</td><td>100,000.00</td><td>null</td><td>0.00</td><td>57,000.00</td><td>null</td><td>null</td><td>12.00</td><td>null</td><td>12.00</td><td>&quot;P73_130_169&quot;</td><td>null</td><td>&quot;CAL&quot;</td><td>&quot;P38_65_49&quot;</td><td>null</td><td>null</td><td>&quot;P17_36_170&quot;</td><td>null</td><td>&quot;MARRIED&quot;</td><td>&quot;CASH&quot;</td><td>&quot;a55475b1&quot;</td><td>&quot;a55475b1&quot;</td><td>&quot;a55475b1&quot;</td><td>&quot;a55475b1&quot;</td><td>&quot;T&quot;</td></tr><tr><td>13</td><td>0</td><td>0.00</td><td>5,069.60</td><td>null</td><td>null</td><td>null</td><td>0.00</td><td>null</td><td>null</td><td>null</td><td>40,000.00</td><td>null</td><td>0.00</td><td>64,000.00</td><td>null</td><td>null</td><td>12.00</td><td>null</td><td>12.00</td><td>&quot;P94_109_143&quot;</td><td>null</td><td>&quot;CAL&quot;</td><td>&quot;P120_80_181&quot;</td><td>null</td><td>null</td><td>&quot;a55475b1&quot;</td><td>null</td><td>null</td><td>&quot;CASH&quot;</td><td>&quot;a55475b1&quot;</td><td>&quot;a55475b1&quot;</td><td>&quot;P94_109_143&quot;</td><td>&quot;a55475b1&quot;</td><td>&quot;D&quot;</td></tr></tbody></table></div>"
      ],
      "text/plain": [
       "shape: (10, 35)\n",
       "┌─────────┬────────────┬───────────┬───────────┬───┬───────────┬───────────┬───────────┬───────────┐\n",
       "│ case_id ┆ num_group1 ┆ actualdpd ┆ annuity_8 ┆ … ┆ professio ┆ rejectrea ┆ rejectrea ┆ status_21 │\n",
       "│ ---     ┆ ---        ┆ _943P     ┆ 53A       ┆   ┆ n_152M    ┆ son_755M  ┆ sonclient ┆ 9L        │\n",
       "│ u32     ┆ u8         ┆ ---       ┆ ---       ┆   ┆ ---       ┆ ---       ┆ _4145042M ┆ ---       │\n",
       "│         ┆            ┆ f32       ┆ f32       ┆   ┆ cat       ┆ cat       ┆ ---       ┆ cat       │\n",
       "│         ┆            ┆           ┆           ┆   ┆           ┆           ┆ cat       ┆           │\n",
       "╞═════════╪════════════╪═══════════╪═══════════╪═══╪═══════════╪═══════════╪═══════════╪═══════════╡\n",
       "│ 2       ┆ 0          ┆ 0.00      ┆ 640.20    ┆ … ┆ a55475b1  ┆ a55475b1  ┆ a55475b1  ┆ D         │\n",
       "│ 2       ┆ 1          ┆ 0.00      ┆ 1,682.40  ┆ … ┆ a55475b1  ┆ a55475b1  ┆ a55475b1  ┆ D         │\n",
       "│ 3       ┆ 0          ┆ 0.00      ┆ 6,140.00  ┆ … ┆ a55475b1  ┆ P94_109_1 ┆ a55475b1  ┆ D         │\n",
       "│         ┆            ┆           ┆           ┆   ┆           ┆ 43        ┆           ┆           │\n",
       "│ 4       ┆ 0          ┆ 0.00      ┆ 2,556.60  ┆ … ┆ a55475b1  ┆ a55475b1  ┆ a55475b1  ┆ T         │\n",
       "│ 5       ┆ 0          ┆ 0.00      ┆ null      ┆ … ┆ a55475b1  ┆ a55475b1  ┆ a55475b1  ┆ T         │\n",
       "│ 6       ┆ 0          ┆ 0.00      ┆ 1,773.80  ┆ … ┆ a55475b1  ┆ P94_109_1 ┆ a55475b1  ┆ D         │\n",
       "│         ┆            ┆           ┆           ┆   ┆           ┆ 43        ┆           ┆           │\n",
       "│ 6       ┆ 1          ┆ 0.00      ┆ 4,189.60  ┆ … ┆ a55475b1  ┆ P94_109_1 ┆ a55475b1  ┆ D         │\n",
       "│         ┆            ┆           ┆           ┆   ┆           ┆ 43        ┆           ┆           │\n",
       "│ 6       ┆ 2          ┆ 0.00      ┆ 1,110.40  ┆ … ┆ a55475b1  ┆ a55475b1  ┆ a55475b1  ┆ D         │\n",
       "│ 10      ┆ 0          ┆ 0.00      ┆ 10,916.60 ┆ … ┆ a55475b1  ┆ a55475b1  ┆ a55475b1  ┆ T         │\n",
       "│ 13      ┆ 0          ┆ 0.00      ┆ 5,069.60  ┆ … ┆ a55475b1  ┆ P94_109_1 ┆ a55475b1  ┆ D         │\n",
       "│         ┆            ┆           ┆           ┆   ┆           ┆ 43        ┆           ┆           │\n",
       "└─────────┴────────────┴───────────┴───────────┴───┴───────────┴───────────┴───────────┴───────────┘"
      ]
     },
     "execution_count": 18,
     "metadata": {},
     "output_type": "execute_result"
    }
   ],
   "source": [
    "train_past_depth_one.fetch().head(10)"
   ]
  },
  {
   "cell_type": "code",
   "execution_count": 19,
   "metadata": {},
   "outputs": [
    {
     "data": {
      "text/html": [
       "<div><style>\n",
       ".dataframe > thead > tr,\n",
       ".dataframe > tbody > tr {\n",
       "  text-align: right;\n",
       "  white-space: pre-wrap;\n",
       "}\n",
       "</style>\n",
       "<small>shape: (5, 20)</small><table border=\"1\" class=\"dataframe\"><thead><tr><th>case_id</th><th>num_group1</th><th>actualdpd_943P Days Past Due (DPD) of previous contract (actual).</th><th>mainoccupationinc_437A Client&#x27;s main income amount in their previous application.</th><th>credacc_credlmt_575A Credit card credit limit provided for previous applications.</th><th>credamount_590A Loan amount or card limit of previous applications.</th><th>downpmt_134A Previous application downpayment amount.</th><th>annuity_853A Monthly annuity for previous applications.</th><th>pmtnum_8L Number of payments made for the previous application.</th><th>tenor_203L Number of instalments in the previous application.</th><th>cancelreason_3545846M Application cancellation reason.</th><th>district_544M District of the address used in the previous loan application.</th><th>education_1138M Applicant&#x27;s education level from their previous application.</th><th>postype_4733339M Type of point of sale.</th><th>profession_152M Profession of the client during their previous loan application.</th><th>rejectreason_755M Reason for previous application rejection.</th><th>rejectreasonclient_4145042M Reason for rejection of the client&#x27;s previous application.</th><th>status_219L Previous application status.</th><th>credtype_587L Credit type of previous application.</th><th>inittransactioncode_279L Type of the initial transaction made in the previous application of the client.</th></tr><tr><td>u32</td><td>u8</td><td>f32</td><td>f32</td><td>f32</td><td>f32</td><td>f32</td><td>f32</td><td>f32</td><td>f32</td><td>cat</td><td>cat</td><td>cat</td><td>cat</td><td>cat</td><td>cat</td><td>cat</td><td>cat</td><td>cat</td><td>cat</td></tr></thead><tbody><tr><td>2</td><td>0</td><td>0.00</td><td>8,200.00</td><td>0.00</td><td>16,000.00</td><td>0.00</td><td>1,682.40</td><td>24.00</td><td>24.00</td><td>&quot;a55475b1&quot;</td><td>&quot;P136_108_173&quot;</td><td>&quot;P97_36_170&quot;</td><td>&quot;a55475b1&quot;</td><td>&quot;a55475b1&quot;</td><td>&quot;a55475b1&quot;</td><td>&quot;a55475b1&quot;</td><td>&quot;D&quot;</td><td>&quot;CAL&quot;</td><td>&quot;CASH&quot;</td></tr><tr><td>3</td><td>0</td><td>0.00</td><td>11,000.00</td><td>0.00</td><td>59,999.80</td><td>0.00</td><td>6,140.00</td><td>12.00</td><td>12.00</td><td>&quot;P94_109_143&quot;</td><td>&quot;P131_33_167&quot;</td><td>&quot;P97_36_170&quot;</td><td>&quot;a55475b1&quot;</td><td>&quot;a55475b1&quot;</td><td>&quot;P94_109_143&quot;</td><td>&quot;a55475b1&quot;</td><td>&quot;D&quot;</td><td>&quot;CAL&quot;</td><td>&quot;CASH&quot;</td></tr><tr><td>4</td><td>0</td><td>0.00</td><td>16,000.00</td><td>0.00</td><td>40,000.00</td><td>0.00</td><td>2,556.60</td><td>24.00</td><td>24.00</td><td>&quot;P24_27_36&quot;</td><td>&quot;P194_82_174&quot;</td><td>&quot;a55475b1&quot;</td><td>&quot;a55475b1&quot;</td><td>&quot;a55475b1&quot;</td><td>&quot;a55475b1&quot;</td><td>&quot;a55475b1&quot;</td><td>&quot;T&quot;</td><td>&quot;CAL&quot;</td><td>&quot;CASH&quot;</td></tr><tr><td>5</td><td>0</td><td>0.00</td><td>62,000.00</td><td>2,161.10</td><td>45,335.69</td><td>471.80</td><td>3,745.33</td><td>18.44</td><td>18.44</td><td>&quot;P85_114_140&quot;</td><td>&quot;P54_133_26&quot;</td><td>&quot;a55475b1&quot;</td><td>&quot;a55475b1&quot;</td><td>&quot;a55475b1&quot;</td><td>&quot;a55475b1&quot;</td><td>&quot;a55475b1&quot;</td><td>&quot;T&quot;</td><td>&quot;CAL&quot;</td><td>&quot;CASH&quot;</td></tr><tr><td>6</td><td>0</td><td>0.00</td><td>37,000.00</td><td>0.00</td><td>32,000.00</td><td>0.00</td><td>4,189.60</td><td>24.00</td><td>24.00</td><td>&quot;P94_109_143&quot;</td><td>&quot;P82_154_182&quot;</td><td>&quot;P97_36_170&quot;</td><td>&quot;a55475b1&quot;</td><td>&quot;a55475b1&quot;</td><td>&quot;P94_109_143&quot;</td><td>&quot;a55475b1&quot;</td><td>&quot;D&quot;</td><td>&quot;CAL&quot;</td><td>&quot;CASH&quot;</td></tr></tbody></table></div>"
      ],
      "text/plain": [
       "shape: (5, 20)\n",
       "┌─────────┬────────────┬───────────┬───────────┬───┬───────────┬───────────┬───────────┬───────────┐\n",
       "│ case_id ┆ num_group1 ┆ actualdpd ┆ mainoccup ┆ … ┆ rejectrea ┆ status_21 ┆ credtype_ ┆ inittrans │\n",
       "│ ---     ┆ ---        ┆ _943P     ┆ ationinc_ ┆   ┆ sonclient ┆ 9L        ┆ 587L      ┆ actioncod │\n",
       "│ u32     ┆ u8         ┆ Days Past ┆ 437A      ┆   ┆ _4145042M ┆ Previous  ┆ Credit    ┆ e_279L    │\n",
       "│         ┆            ┆ Due (DPD) ┆ Client's  ┆   ┆ Reason    ┆ applicati ┆ type of   ┆ Type of   │\n",
       "│         ┆            ┆ of        ┆ main      ┆   ┆ for       ┆ on        ┆ previous  ┆ the       │\n",
       "│         ┆            ┆ previous  ┆ income    ┆   ┆ rejection ┆ status.   ┆ applicati ┆ initial   │\n",
       "│         ┆            ┆ contract  ┆ amount in ┆   ┆ of the    ┆ ---       ┆ on.       ┆ transacti │\n",
       "│         ┆            ┆ (actual). ┆ their     ┆   ┆ client's  ┆ cat       ┆ ---       ┆ on made   │\n",
       "│         ┆            ┆ ---       ┆ previous  ┆   ┆ previous  ┆           ┆ cat       ┆ in the    │\n",
       "│         ┆            ┆ f32       ┆ applicati ┆   ┆ applicati ┆           ┆           ┆ previous  │\n",
       "│         ┆            ┆           ┆ on.       ┆   ┆ on.       ┆           ┆           ┆ applicati │\n",
       "│         ┆            ┆           ┆ ---       ┆   ┆ ---       ┆           ┆           ┆ on of the │\n",
       "│         ┆            ┆           ┆ f32       ┆   ┆ cat       ┆           ┆           ┆ cli…      │\n",
       "│         ┆            ┆           ┆           ┆   ┆           ┆           ┆           ┆ ---       │\n",
       "│         ┆            ┆           ┆           ┆   ┆           ┆           ┆           ┆ cat       │\n",
       "╞═════════╪════════════╪═══════════╪═══════════╪═══╪═══════════╪═══════════╪═══════════╪═══════════╡\n",
       "│ 2       ┆ 0          ┆ 0.00      ┆ 8,200.00  ┆ … ┆ a55475b1  ┆ D         ┆ CAL       ┆ CASH      │\n",
       "│ 3       ┆ 0          ┆ 0.00      ┆ 11,000.00 ┆ … ┆ a55475b1  ┆ D         ┆ CAL       ┆ CASH      │\n",
       "│ 4       ┆ 0          ┆ 0.00      ┆ 16,000.00 ┆ … ┆ a55475b1  ┆ T         ┆ CAL       ┆ CASH      │\n",
       "│ 5       ┆ 0          ┆ 0.00      ┆ 62,000.00 ┆ … ┆ a55475b1  ┆ T         ┆ CAL       ┆ CASH      │\n",
       "│ 6       ┆ 0          ┆ 0.00      ┆ 37,000.00 ┆ … ┆ a55475b1  ┆ D         ┆ CAL       ┆ CASH      │\n",
       "└─────────┴────────────┴───────────┴───────────┴───┴───────────┴───────────┴───────────┴───────────┘"
      ]
     },
     "execution_count": 19,
     "metadata": {},
     "output_type": "execute_result"
    }
   ],
   "source": [
    "train_past_depth_one_transformed = (\n",
    "    train_past_depth_one\n",
    "    .pipe(rename_cols)\n",
    "    .pipe(select_imputable_cols)\n",
    "    .fill_null(strategy=\"mean\")\n",
    "    .group_by(\"case_id\")\n",
    "    .agg(\n",
    "        cs.integer().min(),\n",
    "        cs.float().max(),\n",
    "        cs.categorical().mode().get(0)\n",
    "    )\n",
    "    .sort(by=\"case_id\")\n",
    ")\n",
    "train_past_depth_one_transformed.fetch().head()"
   ]
  },
  {
   "cell_type": "code",
   "execution_count": 20,
   "metadata": {},
   "outputs": [
    {
     "data": {
      "text/html": [
       "<div><style>\n",
       ".dataframe > thead > tr,\n",
       ".dataframe > tbody > tr {\n",
       "  text-align: right;\n",
       "  white-space: pre-wrap;\n",
       "}\n",
       "</style>\n",
       "<small>shape: (1, 3)</small><table border=\"1\" class=\"dataframe\"><thead><tr><th>index</th><th>path</th><th>filename</th></tr><tr><td>i64</td><td>str</td><td>str</td></tr></thead><tbody><tr><td>0</td><td>&quot;Downloads/credit_risk/train/train_applprev_2.parquet&quot;</td><td>&quot;train_applprev_2.parquet&quot;</td></tr></tbody></table></div>"
      ],
      "text/plain": [
       "shape: (1, 3)\n",
       "┌───────┬──────────────────────────────────────────────────────┬──────────────────────────┐\n",
       "│ index ┆ path                                                 ┆ filename                 │\n",
       "│ ---   ┆ ---                                                  ┆ ---                      │\n",
       "│ i64   ┆ str                                                  ┆ str                      │\n",
       "╞═══════╪══════════════════════════════════════════════════════╪══════════════════════════╡\n",
       "│ 0     ┆ Downloads/credit_risk/train/train_applprev_2.parquet ┆ train_applprev_2.parquet │\n",
       "└───────┴──────────────────────────────────────────────────────┴──────────────────────────┘"
      ]
     },
     "execution_count": 20,
     "metadata": {},
     "output_type": "execute_result"
    }
   ],
   "source": [
    "train_files_df.filter(pl.col(\"filename\").str.contains(\"applprev_2\"))"
   ]
  },
  {
   "cell_type": "code",
   "execution_count": 21,
   "metadata": {},
   "outputs": [
    {
     "data": {
      "text/html": [
       "<div><style>\n",
       ".dataframe > thead > tr,\n",
       ".dataframe > tbody > tr {\n",
       "  text-align: right;\n",
       "  white-space: pre-wrap;\n",
       "}\n",
       "</style>\n",
       "<small>shape: (5, 6)</small><table border=\"1\" class=\"dataframe\"><thead><tr><th>case_id</th><th>num_group1</th><th>num_group2</th><th>cacccardblochreas_147M</th><th>conts_type_509L</th><th>credacc_cards_status_52L</th></tr><tr><td>u32</td><td>u8</td><td>u8</td><td>cat</td><td>cat</td><td>cat</td></tr></thead><tbody><tr><td>2</td><td>1</td><td>1</td><td>null</td><td>&quot;EMPLOYMENT_PHONE&quot;</td><td>null</td></tr><tr><td>2</td><td>0</td><td>1</td><td>null</td><td>&quot;EMPLOYMENT_PHONE&quot;</td><td>null</td></tr><tr><td>2</td><td>0</td><td>0</td><td>null</td><td>&quot;PRIMARY_MOBILE&quot;</td><td>null</td></tr><tr><td>2</td><td>1</td><td>0</td><td>null</td><td>&quot;PRIMARY_MOBILE&quot;</td><td>null</td></tr><tr><td>3</td><td>0</td><td>1</td><td>null</td><td>&quot;PRIMARY_MOBILE&quot;</td><td>null</td></tr></tbody></table></div>"
      ],
      "text/plain": [
       "shape: (5, 6)\n",
       "┌─────────┬────────────┬────────────┬─────────────────────┬──────────────────┬─────────────────────┐\n",
       "│ case_id ┆ num_group1 ┆ num_group2 ┆ cacccardblochreas_1 ┆ conts_type_509L  ┆ credacc_cards_statu │\n",
       "│ ---     ┆ ---        ┆ ---        ┆ 47M                 ┆ ---              ┆ s_52L               │\n",
       "│ u32     ┆ u8         ┆ u8         ┆ ---                 ┆ cat              ┆ ---                 │\n",
       "│         ┆            ┆            ┆ cat                 ┆                  ┆ cat                 │\n",
       "╞═════════╪════════════╪════════════╪═════════════════════╪══════════════════╪═════════════════════╡\n",
       "│ 2       ┆ 1          ┆ 1          ┆ null                ┆ EMPLOYMENT_PHONE ┆ null                │\n",
       "│ 2       ┆ 0          ┆ 1          ┆ null                ┆ EMPLOYMENT_PHONE ┆ null                │\n",
       "│ 2       ┆ 0          ┆ 0          ┆ null                ┆ PRIMARY_MOBILE   ┆ null                │\n",
       "│ 2       ┆ 1          ┆ 0          ┆ null                ┆ PRIMARY_MOBILE   ┆ null                │\n",
       "│ 3       ┆ 0          ┆ 1          ┆ null                ┆ PRIMARY_MOBILE   ┆ null                │\n",
       "└─────────┴────────────┴────────────┴─────────────────────┴──────────────────┴─────────────────────┘"
      ]
     },
     "execution_count": 21,
     "metadata": {},
     "output_type": "execute_result"
    }
   ],
   "source": [
    "train_past_depth_two = (\n",
    "    pl.scan_parquet(all_train_files[0])\n",
    "    .drop(cs.contains(\"date\"))\n",
    "    .select(\n",
    "        cs.by_name(\"case_id\").cast(pl.UInt32),\n",
    "        cs.contains([\"num_group\"]).cast(pl.UInt8),\n",
    "        cs.string().cast(pl.Categorical)\n",
    "    )\n",
    ")\n",
    "train_past_depth_two.fetch().head()"
   ]
  },
  {
   "cell_type": "code",
   "execution_count": 22,
   "metadata": {},
   "outputs": [
    {
     "data": {
      "text/html": [
       "<div><style>\n",
       ".dataframe > thead > tr,\n",
       ".dataframe > tbody > tr {\n",
       "  text-align: right;\n",
       "  white-space: pre-wrap;\n",
       "}\n",
       "</style>\n",
       "<small>shape: (5, 4)</small><table border=\"1\" class=\"dataframe\"><thead><tr><th>case_id</th><th>num_group1</th><th>num_group2</th><th>cacccardblochreas_147M Card blocking reason.</th></tr><tr><td>u32</td><td>u8</td><td>u8</td><td>cat</td></tr></thead><tbody><tr><td>2</td><td>0</td><td>0</td><td>null</td></tr><tr><td>3</td><td>0</td><td>0</td><td>null</td></tr><tr><td>4</td><td>0</td><td>0</td><td>null</td></tr><tr><td>5</td><td>0</td><td>0</td><td>null</td></tr><tr><td>6</td><td>0</td><td>0</td><td>null</td></tr></tbody></table></div>"
      ],
      "text/plain": [
       "shape: (5, 4)\n",
       "┌─────────┬────────────┬────────────┬──────────────────────────────────────────────┐\n",
       "│ case_id ┆ num_group1 ┆ num_group2 ┆ cacccardblochreas_147M Card blocking reason. │\n",
       "│ ---     ┆ ---        ┆ ---        ┆ ---                                          │\n",
       "│ u32     ┆ u8         ┆ u8         ┆ cat                                          │\n",
       "╞═════════╪════════════╪════════════╪══════════════════════════════════════════════╡\n",
       "│ 2       ┆ 0          ┆ 0          ┆ null                                         │\n",
       "│ 3       ┆ 0          ┆ 0          ┆ null                                         │\n",
       "│ 4       ┆ 0          ┆ 0          ┆ null                                         │\n",
       "│ 5       ┆ 0          ┆ 0          ┆ null                                         │\n",
       "│ 6       ┆ 0          ┆ 0          ┆ null                                         │\n",
       "└─────────┴────────────┴────────────┴──────────────────────────────────────────────┘"
      ]
     },
     "execution_count": 22,
     "metadata": {},
     "output_type": "execute_result"
    }
   ],
   "source": [
    "train_past_depth_two_transformed = (\n",
    "    train_past_depth_two\n",
    "    .pipe(select_imputable_cols)\n",
    "    .pipe(rename_cols)\n",
    "    .with_columns(\n",
    "        cs.contains(\"Card\").fill_null(value=cs.contains(\"Card\").mode().first())\n",
    "    )\n",
    "    .filter((pl.col(\"num_group1\") == 0) & (pl.col(\"num_group2\") == 0))\n",
    ")\n",
    "train_past_depth_two_transformed.fetch().head()"
   ]
  },
  {
   "cell_type": "markdown",
   "metadata": {},
   "source": [
    "## Static Files"
   ]
  },
  {
   "cell_type": "code",
   "execution_count": 23,
   "metadata": {},
   "outputs": [
    {
     "data": {
      "text/html": [
       "<div><style>\n",
       ".dataframe > thead > tr,\n",
       ".dataframe > tbody > tr {\n",
       "  text-align: right;\n",
       "  white-space: pre-wrap;\n",
       "}\n",
       "</style>\n",
       "<small>shape: (2, 3)</small><table border=\"1\" class=\"dataframe\"><thead><tr><th>index</th><th>path</th><th>filename</th></tr><tr><td>i64</td><td>str</td><td>str</td></tr></thead><tbody><tr><td>21</td><td>&quot;Downloads/credit_risk/train/train_static_0_0.parquet&quot;</td><td>&quot;train_static_0_0.parquet&quot;</td></tr><tr><td>16</td><td>&quot;Downloads/credit_risk/train/train_static_0_1.parquet&quot;</td><td>&quot;train_static_0_1.parquet&quot;</td></tr></tbody></table></div>"
      ],
      "text/plain": [
       "shape: (2, 3)\n",
       "┌───────┬──────────────────────────────────────────────────────┬──────────────────────────┐\n",
       "│ index ┆ path                                                 ┆ filename                 │\n",
       "│ ---   ┆ ---                                                  ┆ ---                      │\n",
       "│ i64   ┆ str                                                  ┆ str                      │\n",
       "╞═══════╪══════════════════════════════════════════════════════╪══════════════════════════╡\n",
       "│ 21    ┆ Downloads/credit_risk/train/train_static_0_0.parquet ┆ train_static_0_0.parquet │\n",
       "│ 16    ┆ Downloads/credit_risk/train/train_static_0_1.parquet ┆ train_static_0_1.parquet │\n",
       "└───────┴──────────────────────────────────────────────────────┴──────────────────────────┘"
      ]
     },
     "execution_count": 23,
     "metadata": {},
     "output_type": "execute_result"
    }
   ],
   "source": [
    "train_files_df.filter(cs.contains(\"file\").str.contains(\"train_static_0_\"))"
   ]
  },
  {
   "cell_type": "code",
   "execution_count": 24,
   "metadata": {},
   "outputs": [
    {
     "data": {
      "text/html": [
       "<div><style>\n",
       ".dataframe > thead > tr,\n",
       ".dataframe > tbody > tr {\n",
       "  text-align: right;\n",
       "  white-space: pre-wrap;\n",
       "}\n",
       "</style>\n",
       "<small>shape: (5, 151)</small><table border=\"1\" class=\"dataframe\"><thead><tr><th>case_id</th><th>actualdpdtolerance_344P</th><th>amtinstpaidbefduel24m_4187115A</th><th>annuity_780A</th><th>annuitynextmonth_57A</th><th>applicationcnt_361L</th><th>applications30d_658L</th><th>applicationscnt_1086L</th><th>applicationscnt_464L</th><th>applicationscnt_629L</th><th>applicationscnt_867L</th><th>avgdbddpdlast24m_3658932P</th><th>avgdbddpdlast3m_4187120P</th><th>avgdbdtollast24m_4525197P</th><th>avgdpdtolclosure24_3658938P</th><th>avginstallast24m_3658937A</th><th>avglnamtstart24m_4525187A</th><th>avgmaxdpdlast9m_3716943P</th><th>avgoutstandbalancel6m_4187114A</th><th>avgpmtlast12m_4525200A</th><th>clientscnt12m_3712952L</th><th>clientscnt3m_3712950L</th><th>clientscnt6m_3712949L</th><th>clientscnt_100L</th><th>clientscnt_1022L</th><th>clientscnt_1071L</th><th>clientscnt_1130L</th><th>clientscnt_136L</th><th>clientscnt_157L</th><th>clientscnt_257L</th><th>clientscnt_304L</th><th>clientscnt_360L</th><th>clientscnt_493L</th><th>clientscnt_533L</th><th>clientscnt_887L</th><th>clientscnt_946L</th><th>cntincpaycont9m_3716944L</th><th>&hellip;</th><th>pctinstlsallpaidlate1d_3546856L</th><th>pctinstlsallpaidlate4d_3546849L</th><th>pctinstlsallpaidlate6d_3546844L</th><th>pmtnum_254L</th><th>posfpd10lastmonth_333P</th><th>posfpd30lastmonth_3976960P</th><th>posfstqpd30lastmonth_3976962P</th><th>price_1097A</th><th>sellerplacecnt_915L</th><th>sellerplacescnt_216L</th><th>sumoutstandtotal_3546847A</th><th>sumoutstandtotalest_4493215A</th><th>totaldebt_9A</th><th>totalsettled_863A</th><th>totinstallast1m_4525188A</th><th>bankacctype_710L</th><th>cardtype_51L</th><th>credtype_322L</th><th>disbursementtype_67L</th><th>dtlastpmtallstes_4499206D</th><th>firstclxcampaign_1125D</th><th>inittransactioncode_186L</th><th>lastapprcommoditycat_1041M</th><th>lastapprcommoditytypec_5251766M</th><th>lastcancelreason_561M</th><th>lastrejectcommoditycat_161M</th><th>lastrejectcommodtypec_5251769M</th><th>lastrejectreason_759M</th><th>lastrejectreasonclient_4145040M</th><th>lastst_736L</th><th>paytype1st_925L</th><th>paytype_783L</th><th>payvacationpostpone_4187118D</th><th>previouscontdistrict_112M</th><th>twobodfilling_608L</th><th>typesuite_864L</th><th>validfrom_1069D</th></tr><tr><td>u32</td><td>f32</td><td>f32</td><td>f32</td><td>f32</td><td>f32</td><td>f32</td><td>f32</td><td>f32</td><td>f32</td><td>f32</td><td>f32</td><td>f32</td><td>f32</td><td>f32</td><td>f32</td><td>f32</td><td>f32</td><td>f32</td><td>f32</td><td>f32</td><td>f32</td><td>f32</td><td>f32</td><td>f32</td><td>f32</td><td>f32</td><td>f32</td><td>f32</td><td>f32</td><td>f32</td><td>f32</td><td>f32</td><td>f32</td><td>f32</td><td>f32</td><td>f32</td><td>&hellip;</td><td>f32</td><td>f32</td><td>f32</td><td>f32</td><td>f32</td><td>f32</td><td>f32</td><td>f32</td><td>f32</td><td>f32</td><td>f32</td><td>f32</td><td>f32</td><td>f32</td><td>f32</td><td>cat</td><td>cat</td><td>cat</td><td>cat</td><td>cat</td><td>cat</td><td>cat</td><td>cat</td><td>cat</td><td>cat</td><td>cat</td><td>cat</td><td>cat</td><td>cat</td><td>cat</td><td>cat</td><td>cat</td><td>cat</td><td>cat</td><td>cat</td><td>cat</td><td>cat</td></tr></thead><tbody><tr><td>0</td><td>null</td><td>null</td><td>1,917.60</td><td>0.00</td><td>0.00</td><td>0.00</td><td>0.00</td><td>0.00</td><td>0.00</td><td>0.00</td><td>null</td><td>null</td><td>null</td><td>null</td><td>null</td><td>null</td><td>null</td><td>null</td><td>null</td><td>0.00</td><td>0.00</td><td>0.00</td><td>0.00</td><td>0.00</td><td>0.00</td><td>0.00</td><td>null</td><td>0.00</td><td>0.00</td><td>0.00</td><td>0.00</td><td>0.00</td><td>0.00</td><td>0.00</td><td>0.00</td><td>null</td><td>&hellip;</td><td>null</td><td>null</td><td>null</td><td>24.00</td><td>0.00</td><td>0.00</td><td>null</td><td>null</td><td>0.00</td><td>0.00</td><td>null</td><td>null</td><td>0.00</td><td>0.00</td><td>null</td><td>null</td><td>null</td><td>&quot;CAL&quot;</td><td>&quot;GBA&quot;</td><td>null</td><td>null</td><td>&quot;CASH&quot;</td><td>&quot;a55475b1&quot;</td><td>&quot;a55475b1&quot;</td><td>&quot;a55475b1&quot;</td><td>&quot;a55475b1&quot;</td><td>&quot;a55475b1&quot;</td><td>&quot;a55475b1&quot;</td><td>&quot;a55475b1&quot;</td><td>null</td><td>&quot;OTHER&quot;</td><td>&quot;OTHER&quot;</td><td>null</td><td>&quot;a55475b1&quot;</td><td>&quot;BO&quot;</td><td>null</td><td>null</td></tr><tr><td>1</td><td>null</td><td>null</td><td>3,134.00</td><td>0.00</td><td>0.00</td><td>0.00</td><td>0.00</td><td>0.00</td><td>0.00</td><td>0.00</td><td>null</td><td>null</td><td>null</td><td>null</td><td>null</td><td>null</td><td>null</td><td>null</td><td>null</td><td>0.00</td><td>0.00</td><td>0.00</td><td>0.00</td><td>0.00</td><td>0.00</td><td>0.00</td><td>0.00</td><td>3.00</td><td>0.00</td><td>0.00</td><td>0.00</td><td>0.00</td><td>0.00</td><td>0.00</td><td>0.00</td><td>null</td><td>&hellip;</td><td>null</td><td>null</td><td>null</td><td>18.00</td><td>0.00</td><td>0.00</td><td>null</td><td>null</td><td>0.00</td><td>0.00</td><td>null</td><td>null</td><td>0.00</td><td>0.00</td><td>null</td><td>null</td><td>null</td><td>&quot;CAL&quot;</td><td>&quot;GBA&quot;</td><td>null</td><td>null</td><td>&quot;CASH&quot;</td><td>&quot;a55475b1&quot;</td><td>&quot;a55475b1&quot;</td><td>&quot;a55475b1&quot;</td><td>&quot;a55475b1&quot;</td><td>&quot;a55475b1&quot;</td><td>&quot;a55475b1&quot;</td><td>&quot;a55475b1&quot;</td><td>null</td><td>&quot;OTHER&quot;</td><td>&quot;OTHER&quot;</td><td>null</td><td>&quot;a55475b1&quot;</td><td>&quot;BO&quot;</td><td>null</td><td>null</td></tr><tr><td>2</td><td>null</td><td>null</td><td>4,937.00</td><td>0.00</td><td>0.00</td><td>0.00</td><td>0.00</td><td>0.00</td><td>0.00</td><td>0.00</td><td>null</td><td>null</td><td>null</td><td>null</td><td>null</td><td>null</td><td>null</td><td>null</td><td>null</td><td>0.00</td><td>0.00</td><td>0.00</td><td>0.00</td><td>0.00</td><td>0.00</td><td>0.00</td><td>null</td><td>0.00</td><td>0.00</td><td>0.00</td><td>0.00</td><td>0.00</td><td>0.00</td><td>0.00</td><td>0.00</td><td>null</td><td>&hellip;</td><td>null</td><td>null</td><td>null</td><td>36.00</td><td>0.00</td><td>0.00</td><td>null</td><td>null</td><td>0.00</td><td>0.00</td><td>null</td><td>null</td><td>0.00</td><td>0.00</td><td>null</td><td>null</td><td>null</td><td>&quot;CAL&quot;</td><td>&quot;GBA&quot;</td><td>null</td><td>null</td><td>&quot;CASH&quot;</td><td>&quot;a55475b1&quot;</td><td>&quot;a55475b1&quot;</td><td>&quot;a55475b1&quot;</td><td>&quot;a55475b1&quot;</td><td>&quot;a55475b1&quot;</td><td>&quot;a55475b1&quot;</td><td>&quot;a55475b1&quot;</td><td>&quot;D&quot;</td><td>&quot;OTHER&quot;</td><td>&quot;OTHER&quot;</td><td>null</td><td>&quot;a55475b1&quot;</td><td>&quot;BO&quot;</td><td>&quot;AL&quot;</td><td>null</td></tr><tr><td>3</td><td>null</td><td>null</td><td>4,643.60</td><td>0.00</td><td>0.00</td><td>1.00</td><td>0.00</td><td>2.00</td><td>0.00</td><td>1.00</td><td>null</td><td>null</td><td>null</td><td>null</td><td>null</td><td>null</td><td>null</td><td>null</td><td>null</td><td>0.00</td><td>0.00</td><td>0.00</td><td>0.00</td><td>0.00</td><td>0.00</td><td>1.00</td><td>null</td><td>0.00</td><td>0.00</td><td>0.00</td><td>0.00</td><td>0.00</td><td>0.00</td><td>0.00</td><td>0.00</td><td>null</td><td>&hellip;</td><td>null</td><td>null</td><td>null</td><td>12.00</td><td>0.00</td><td>0.00</td><td>null</td><td>null</td><td>1.00</td><td>1.00</td><td>null</td><td>null</td><td>0.00</td><td>0.00</td><td>null</td><td>null</td><td>null</td><td>&quot;CAL&quot;</td><td>&quot;GBA&quot;</td><td>null</td><td>null</td><td>&quot;CASH&quot;</td><td>&quot;a55475b1&quot;</td><td>&quot;a55475b1&quot;</td><td>&quot;P94_109_143&quot;</td><td>&quot;a55475b1&quot;</td><td>&quot;a55475b1&quot;</td><td>&quot;P94_109_143&quot;</td><td>&quot;a55475b1&quot;</td><td>&quot;D&quot;</td><td>&quot;OTHER&quot;</td><td>&quot;OTHER&quot;</td><td>null</td><td>&quot;a55475b1&quot;</td><td>&quot;BO&quot;</td><td>&quot;AL&quot;</td><td>null</td></tr><tr><td>4</td><td>null</td><td>null</td><td>3,390.20</td><td>0.00</td><td>0.00</td><td>1.00</td><td>0.00</td><td>0.00</td><td>0.00</td><td>1.00</td><td>null</td><td>null</td><td>null</td><td>null</td><td>null</td><td>null</td><td>null</td><td>null</td><td>null</td><td>0.00</td><td>0.00</td><td>0.00</td><td>0.00</td><td>0.00</td><td>0.00</td><td>0.00</td><td>null</td><td>0.00</td><td>0.00</td><td>0.00</td><td>0.00</td><td>0.00</td><td>0.00</td><td>0.00</td><td>0.00</td><td>null</td><td>&hellip;</td><td>null</td><td>null</td><td>null</td><td>24.00</td><td>0.00</td><td>0.00</td><td>null</td><td>null</td><td>0.00</td><td>0.00</td><td>null</td><td>null</td><td>0.00</td><td>0.00</td><td>null</td><td>null</td><td>null</td><td>&quot;CAL&quot;</td><td>&quot;GBA&quot;</td><td>null</td><td>null</td><td>&quot;CASH&quot;</td><td>&quot;a55475b1&quot;</td><td>&quot;a55475b1&quot;</td><td>&quot;P24_27_36&quot;</td><td>&quot;a55475b1&quot;</td><td>&quot;a55475b1&quot;</td><td>&quot;a55475b1&quot;</td><td>&quot;a55475b1&quot;</td><td>&quot;T&quot;</td><td>&quot;OTHER&quot;</td><td>&quot;OTHER&quot;</td><td>null</td><td>&quot;a55475b1&quot;</td><td>&quot;BO&quot;</td><td>&quot;AL&quot;</td><td>null</td></tr></tbody></table></div>"
      ],
      "text/plain": [
       "shape: (5, 151)\n",
       "┌─────────┬────────────┬───────────┬───────────┬───┬───────────┬───────────┬───────────┬───────────┐\n",
       "│ case_id ┆ actualdpdt ┆ amtinstpa ┆ annuity_7 ┆ … ┆ previousc ┆ twobodfil ┆ typesuite ┆ validfrom │\n",
       "│ ---     ┆ olerance_3 ┆ idbefduel ┆ 80A       ┆   ┆ ontdistri ┆ ling_608L ┆ _864L     ┆ _1069D    │\n",
       "│ u32     ┆ 44P        ┆ 24m_41871 ┆ ---       ┆   ┆ ct_112M   ┆ ---       ┆ ---       ┆ ---       │\n",
       "│         ┆ ---        ┆ 15A       ┆ f32       ┆   ┆ ---       ┆ cat       ┆ cat       ┆ cat       │\n",
       "│         ┆ f32        ┆ ---       ┆           ┆   ┆ cat       ┆           ┆           ┆           │\n",
       "│         ┆            ┆ f32       ┆           ┆   ┆           ┆           ┆           ┆           │\n",
       "╞═════════╪════════════╪═══════════╪═══════════╪═══╪═══════════╪═══════════╪═══════════╪═══════════╡\n",
       "│ 0       ┆ null       ┆ null      ┆ 1,917.60  ┆ … ┆ a55475b1  ┆ BO        ┆ null      ┆ null      │\n",
       "│ 1       ┆ null       ┆ null      ┆ 3,134.00  ┆ … ┆ a55475b1  ┆ BO        ┆ null      ┆ null      │\n",
       "│ 2       ┆ null       ┆ null      ┆ 4,937.00  ┆ … ┆ a55475b1  ┆ BO        ┆ AL        ┆ null      │\n",
       "│ 3       ┆ null       ┆ null      ┆ 4,643.60  ┆ … ┆ a55475b1  ┆ BO        ┆ AL        ┆ null      │\n",
       "│ 4       ┆ null       ┆ null      ┆ 3,390.20  ┆ … ┆ a55475b1  ┆ BO        ┆ AL        ┆ null      │\n",
       "└─────────┴────────────┴───────────┴───────────┴───┴───────────┴───────────┴───────────┴───────────┘"
      ]
     },
     "execution_count": 24,
     "metadata": {},
     "output_type": "execute_result"
    }
   ],
   "source": [
    "train_static_base = (\n",
    "    pl.scan_parquet(\"Downloads/credit_risk/train/train_static_0_*.parquet\")\n",
    "    .drop(cs.contains(\"date\"))\n",
    "    .select(\n",
    "        cs.by_name(\"case_id\").cast(pl.UInt32),\n",
    "        cs.float().cast(pl.Float32),\n",
    "        cs.string().cast(pl.Categorical)\n",
    "    )\n",
    ")\n",
    "train_static_base.fetch().head()"
   ]
  },
  {
   "cell_type": "code",
   "execution_count": 25,
   "metadata": {},
   "outputs": [
    {
     "data": {
      "text/html": [
       "<div><style>\n",
       ".dataframe > thead > tr,\n",
       ".dataframe > tbody > tr {\n",
       "  text-align: right;\n",
       "  white-space: pre-wrap;\n",
       "}\n",
       "</style>\n",
       "<small>shape: (5, 61)</small><table border=\"1\" class=\"dataframe\"><thead><tr><th>case_id</th><th>annuity_780A Monthly annuity amount.</th><th>applicationcnt_361L Number of applications associated with the same email address as the client.</th><th>applications30d_658L Number of applications made by the client in the last 30 days.</th><th>applicationscnt_1086L Number of applications associated with the same phone number.</th><th>applicationscnt_464L Number of applications made in the last 30 days by other clients with the same employer as the applicant.</th><th>applicationscnt_629L Number of applications with the same employer in the last 7 days.</th><th>applicationscnt_867L Number of applications associated with the same mobile phone.</th><th>clientscnt12m_3712952L Number of clients that have used the same mobile phone as the applicant in the past 12 months.</th><th>clientscnt3m_3712950L Number of clients who have the same mobile phone number in the last 3 months.</th><th>clientscnt6m_3712949L Total number of clients who have used the same mobile number in the last 6 months.</th><th>clientscnt_100L Number of applications with matching employer&#x27;s phone and client&#x27;s.</th><th>clientscnt_1022L Number of clients sharing the same mobile phone.</th><th>clientscnt_1071L Number of applications where the alternative phone number matches that of the client.</th><th>clientscnt_1130L Number of applications where client&#x27;s phone number matches the alternative phone contact.</th><th>clientscnt_157L Number of clients whose employer has the same phone number as the client.</th><th>clientscnt_257L Number of clients that share an alternative phone number with the applicant.</th><th>clientscnt_304L Number of clients with the same phone number.</th><th>clientscnt_360L Number of clients that have the same alternative phone number and employer&#x27;s phone number.</th><th>clientscnt_493L Number of clients with matching phone numbers for both the employer and the client.</th><th>clientscnt_533L Number of clients with same client&#x27;s and alternative&#x27;s phone number</th><th>clientscnt_887L Number of clients sharing the same employer&#x27;s phone number.</th><th>clientscnt_946L Number of clients with matching mobile and employer&#x27;s number.</th><th>credamount_770A Loan amount or credit card limit.</th><th>deferredmnthsnum_166L Number of deferred months.</th><th>disbursedcredamount_1113A Disbursed credit amount after consolidation.</th><th>downpmt_116A Amount of downpayment.</th><th>homephncnt_628L Number of distinct home phones on client&#x27;s application.</th><th>mobilephncnt_593L Number of persons with the same mobile phone number.</th><th>numactivecreds_622L Number of active credits.</th><th>numactivecredschannel_414L Number of active credits.</th><th>numactiverelcontr_750L Number of active revolving credits.</th><th>numcontrs3months_479L Number of contracts in last 3 months.</th><th>numnotactivated_1143L Number of non-activated credits.</th><th>numpmtchanneldd_318L Number of previous loan contracts for the applicant that had direct debit as payment channel.</th><th>numrejects9m_859L Number of credit applications that were rejected in the last 9 months.</th><th>sellerplacecnt_915L Number of sellerplaces where the same client&#x27;s document was used.</th><th>sellerplacescnt_216L Number of sellerplaces where the same client&#x27;s mobile phone was used.</th><th>lastapprcommoditycat_1041M Commodity category of the last loan applications made by the applicant.</th><th>lastapprcommoditytypec_5251766M Commodity type of the last application.</th><th>lastcancelreason_561M Cancellation reason of the last application.</th><th>lastrejectcommoditycat_161M Category of commodity in the applicant&#x27;s last rejected application.</th><th>lastrejectcommodtypec_5251769M Commodity type of the last rejected application.</th><th>lastrejectreason_759M Reason for rejection on the most recent rejected application.</th><th>lastrejectreasonclient_4145040M Reason for the client&#x27;s last loan rejection.</th><th>previouscontdistrict_112M Contact district of the client&#x27;s previous approved application.</th><th>credtype_322L Type of credit.</th><th>inittransactioncode_186L Transaction type of the initial credit transaction.</th><th>totaldebt_9A Total amount of debt.</th><th>annuitynextmonth_57A Next month&#x27;s amount of annuity.</th><th>currdebt_22A Current debt amount of the client.</th><th>currdebtcredtyperange_828A Current amount of debt of the applicant.</th><th>numinstls_657L Number of instalments.</th><th>totalsettled_863A Sum of all payments made by the client.</th><th>twobodfilling_608L Type of application process.</th><th>disbursementtype_67L Type of disbursement.</th><th>pmtnum_254L Total number of loan payments made by the client.</th><th>paytype1st_925L Type of first payment of the client.</th><th>paytype_783L Type of payment.</th><th>posfpd10lastmonth_333P Average FPD10 (Share of contracts with first installment past due more than 10 days) from point of sales that processed contract in the previous month.</th><th>posfpd30lastmonth_3976960P Average FPD30 (Share of contracts with first installment past due more than 30 days) from point of sales that processed contract in the previous month.</th></tr><tr><td>u32</td><td>f32</td><td>f32</td><td>f32</td><td>f32</td><td>f32</td><td>f32</td><td>f32</td><td>f32</td><td>f32</td><td>f32</td><td>f32</td><td>f32</td><td>f32</td><td>f32</td><td>f32</td><td>f32</td><td>f32</td><td>f32</td><td>f32</td><td>f32</td><td>f32</td><td>f32</td><td>f32</td><td>f32</td><td>f32</td><td>f32</td><td>f32</td><td>f32</td><td>f32</td><td>f32</td><td>f32</td><td>f32</td><td>f32</td><td>f32</td><td>f32</td><td>f32</td><td>f32</td><td>cat</td><td>cat</td><td>cat</td><td>cat</td><td>cat</td><td>cat</td><td>cat</td><td>cat</td><td>cat</td><td>cat</td><td>f32</td><td>f32</td><td>f32</td><td>f32</td><td>f32</td><td>f32</td><td>cat</td><td>cat</td><td>f32</td><td>cat</td><td>cat</td><td>f32</td><td>f32</td></tr></thead><tbody><tr><td>0</td><td>1,917.60</td><td>0.00</td><td>0.00</td><td>0.00</td><td>0.00</td><td>0.00</td><td>0.00</td><td>0.00</td><td>0.00</td><td>0.00</td><td>0.00</td><td>0.00</td><td>0.00</td><td>0.00</td><td>0.00</td><td>0.00</td><td>0.00</td><td>0.00</td><td>0.00</td><td>0.00</td><td>0.00</td><td>0.00</td><td>30,000.00</td><td>0.00</td><td>30,000.00</td><td>0.00</td><td>0.00</td><td>1.00</td><td>0.00</td><td>0.00</td><td>0.00</td><td>0.00</td><td>0.00</td><td>0.00</td><td>0.00</td><td>0.00</td><td>0.00</td><td>&quot;a55475b1&quot;</td><td>&quot;a55475b1&quot;</td><td>&quot;a55475b1&quot;</td><td>&quot;a55475b1&quot;</td><td>&quot;a55475b1&quot;</td><td>&quot;a55475b1&quot;</td><td>&quot;a55475b1&quot;</td><td>&quot;a55475b1&quot;</td><td>&quot;CAL&quot;</td><td>&quot;CASH&quot;</td><td>0.00</td><td>0.00</td><td>0.00</td><td>0.00</td><td>0.00</td><td>0.00</td><td>&quot;BO&quot;</td><td>&quot;GBA&quot;</td><td>24.00</td><td>&quot;OTHER&quot;</td><td>&quot;OTHER&quot;</td><td>0.00</td><td>0.00</td></tr><tr><td>1</td><td>3,134.00</td><td>0.00</td><td>0.00</td><td>0.00</td><td>0.00</td><td>0.00</td><td>0.00</td><td>0.00</td><td>0.00</td><td>0.00</td><td>0.00</td><td>0.00</td><td>0.00</td><td>0.00</td><td>3.00</td><td>0.00</td><td>0.00</td><td>0.00</td><td>0.00</td><td>0.00</td><td>0.00</td><td>0.00</td><td>19,999.80</td><td>0.00</td><td>19,999.80</td><td>0.00</td><td>0.00</td><td>1.00</td><td>0.00</td><td>0.00</td><td>0.00</td><td>0.00</td><td>0.00</td><td>0.00</td><td>0.00</td><td>0.00</td><td>0.00</td><td>&quot;a55475b1&quot;</td><td>&quot;a55475b1&quot;</td><td>&quot;a55475b1&quot;</td><td>&quot;a55475b1&quot;</td><td>&quot;a55475b1&quot;</td><td>&quot;a55475b1&quot;</td><td>&quot;a55475b1&quot;</td><td>&quot;a55475b1&quot;</td><td>&quot;CAL&quot;</td><td>&quot;CASH&quot;</td><td>0.00</td><td>0.00</td><td>0.00</td><td>0.00</td><td>0.00</td><td>0.00</td><td>&quot;BO&quot;</td><td>&quot;GBA&quot;</td><td>18.00</td><td>&quot;OTHER&quot;</td><td>&quot;OTHER&quot;</td><td>0.00</td><td>0.00</td></tr><tr><td>2</td><td>4,937.00</td><td>0.00</td><td>0.00</td><td>0.00</td><td>0.00</td><td>0.00</td><td>0.00</td><td>0.00</td><td>0.00</td><td>0.00</td><td>0.00</td><td>0.00</td><td>0.00</td><td>0.00</td><td>0.00</td><td>0.00</td><td>0.00</td><td>0.00</td><td>0.00</td><td>0.00</td><td>0.00</td><td>0.00</td><td>78,000.00</td><td>0.00</td><td>78,000.00</td><td>0.00</td><td>1.00</td><td>2.00</td><td>0.00</td><td>0.00</td><td>0.00</td><td>0.00</td><td>0.00</td><td>0.00</td><td>0.00</td><td>0.00</td><td>0.00</td><td>&quot;a55475b1&quot;</td><td>&quot;a55475b1&quot;</td><td>&quot;a55475b1&quot;</td><td>&quot;a55475b1&quot;</td><td>&quot;a55475b1&quot;</td><td>&quot;a55475b1&quot;</td><td>&quot;a55475b1&quot;</td><td>&quot;a55475b1&quot;</td><td>&quot;CAL&quot;</td><td>&quot;CASH&quot;</td><td>0.00</td><td>0.00</td><td>0.00</td><td>0.00</td><td>0.00</td><td>0.00</td><td>&quot;BO&quot;</td><td>&quot;GBA&quot;</td><td>36.00</td><td>&quot;OTHER&quot;</td><td>&quot;OTHER&quot;</td><td>0.00</td><td>0.00</td></tr><tr><td>3</td><td>4,643.60</td><td>0.00</td><td>1.00</td><td>0.00</td><td>2.00</td><td>0.00</td><td>1.00</td><td>0.00</td><td>0.00</td><td>0.00</td><td>0.00</td><td>0.00</td><td>0.00</td><td>1.00</td><td>0.00</td><td>0.00</td><td>0.00</td><td>0.00</td><td>0.00</td><td>0.00</td><td>0.00</td><td>0.00</td><td>40,000.00</td><td>0.00</td><td>40,000.00</td><td>0.00</td><td>0.00</td><td>1.00</td><td>0.00</td><td>0.00</td><td>0.00</td><td>1.00</td><td>0.00</td><td>0.00</td><td>1.00</td><td>1.00</td><td>1.00</td><td>&quot;a55475b1&quot;</td><td>&quot;a55475b1&quot;</td><td>&quot;P94_109_143&quot;</td><td>&quot;a55475b1&quot;</td><td>&quot;a55475b1&quot;</td><td>&quot;P94_109_143&quot;</td><td>&quot;a55475b1&quot;</td><td>&quot;a55475b1&quot;</td><td>&quot;CAL&quot;</td><td>&quot;CASH&quot;</td><td>0.00</td><td>0.00</td><td>0.00</td><td>0.00</td><td>0.00</td><td>0.00</td><td>&quot;BO&quot;</td><td>&quot;GBA&quot;</td><td>12.00</td><td>&quot;OTHER&quot;</td><td>&quot;OTHER&quot;</td><td>0.00</td><td>0.00</td></tr><tr><td>4</td><td>3,390.20</td><td>0.00</td><td>1.00</td><td>0.00</td><td>0.00</td><td>0.00</td><td>1.00</td><td>0.00</td><td>0.00</td><td>0.00</td><td>0.00</td><td>0.00</td><td>0.00</td><td>0.00</td><td>0.00</td><td>0.00</td><td>0.00</td><td>0.00</td><td>0.00</td><td>0.00</td><td>0.00</td><td>0.00</td><td>44,000.00</td><td>0.00</td><td>44,000.00</td><td>0.00</td><td>1.00</td><td>1.00</td><td>0.00</td><td>0.00</td><td>0.00</td><td>0.00</td><td>0.00</td><td>0.00</td><td>0.00</td><td>0.00</td><td>0.00</td><td>&quot;a55475b1&quot;</td><td>&quot;a55475b1&quot;</td><td>&quot;P24_27_36&quot;</td><td>&quot;a55475b1&quot;</td><td>&quot;a55475b1&quot;</td><td>&quot;a55475b1&quot;</td><td>&quot;a55475b1&quot;</td><td>&quot;a55475b1&quot;</td><td>&quot;CAL&quot;</td><td>&quot;CASH&quot;</td><td>0.00</td><td>0.00</td><td>0.00</td><td>0.00</td><td>0.00</td><td>0.00</td><td>&quot;BO&quot;</td><td>&quot;GBA&quot;</td><td>24.00</td><td>&quot;OTHER&quot;</td><td>&quot;OTHER&quot;</td><td>0.00</td><td>0.00</td></tr></tbody></table></div>"
      ],
      "text/plain": [
       "shape: (5, 61)\n",
       "┌─────────┬────────────┬───────────┬───────────┬───┬───────────┬───────────┬───────────┬───────────┐\n",
       "│ case_id ┆ annuity_78 ┆ applicati ┆ applicati ┆ … ┆ paytype1s ┆ paytype_7 ┆ posfpd10l ┆ posfpd30l │\n",
       "│ ---     ┆ 0A Monthly ┆ oncnt_361 ┆ ons30d_65 ┆   ┆ t_925L    ┆ 83L Type  ┆ astmonth_ ┆ astmonth_ │\n",
       "│ u32     ┆ annuity    ┆ L Number  ┆ 8L Number ┆   ┆ Type of   ┆ of        ┆ 333P      ┆ 3976960P  │\n",
       "│         ┆ amount.    ┆ of applic ┆ of applic ┆   ┆ first     ┆ payment.  ┆ Average   ┆ Average   │\n",
       "│         ┆ ---        ┆ ations    ┆ ations    ┆   ┆ payment   ┆ ---       ┆ FPD10     ┆ FPD30     │\n",
       "│         ┆ f32        ┆ associate ┆ made by   ┆   ┆ of the    ┆ cat       ┆ (Share of ┆ (Share of │\n",
       "│         ┆            ┆ d with    ┆ the       ┆   ┆ client.   ┆           ┆ contracts ┆ contracts │\n",
       "│         ┆            ┆ the same  ┆ client in ┆   ┆ ---       ┆           ┆ with      ┆ with      │\n",
       "│         ┆            ┆ email     ┆ the last  ┆   ┆ cat       ┆           ┆ first ins ┆ first ins │\n",
       "│         ┆            ┆ address   ┆ 30 days.  ┆   ┆           ┆           ┆ tallment  ┆ tallment  │\n",
       "│         ┆            ┆ as the    ┆ ---       ┆   ┆           ┆           ┆ past due  ┆ past due  │\n",
       "│         ┆            ┆ client.   ┆ f32       ┆   ┆           ┆           ┆ more than ┆ more th…  │\n",
       "│         ┆            ┆ ---       ┆           ┆   ┆           ┆           ┆ 1…        ┆ ---       │\n",
       "│         ┆            ┆ f32       ┆           ┆   ┆           ┆           ┆ ---       ┆ f32       │\n",
       "│         ┆            ┆           ┆           ┆   ┆           ┆           ┆ f32       ┆           │\n",
       "╞═════════╪════════════╪═══════════╪═══════════╪═══╪═══════════╪═══════════╪═══════════╪═══════════╡\n",
       "│ 0       ┆ 1,917.60   ┆ 0.00      ┆ 0.00      ┆ … ┆ OTHER     ┆ OTHER     ┆ 0.00      ┆ 0.00      │\n",
       "│ 1       ┆ 3,134.00   ┆ 0.00      ┆ 0.00      ┆ … ┆ OTHER     ┆ OTHER     ┆ 0.00      ┆ 0.00      │\n",
       "│ 2       ┆ 4,937.00   ┆ 0.00      ┆ 0.00      ┆ … ┆ OTHER     ┆ OTHER     ┆ 0.00      ┆ 0.00      │\n",
       "│ 3       ┆ 4,643.60   ┆ 0.00      ┆ 1.00      ┆ … ┆ OTHER     ┆ OTHER     ┆ 0.00      ┆ 0.00      │\n",
       "│ 4       ┆ 3,390.20   ┆ 0.00      ┆ 1.00      ┆ … ┆ OTHER     ┆ OTHER     ┆ 0.00      ┆ 0.00      │\n",
       "└─────────┴────────────┴───────────┴───────────┴───┴───────────┴───────────┴───────────┴───────────┘"
      ]
     },
     "execution_count": 25,
     "metadata": {},
     "output_type": "execute_result"
    }
   ],
   "source": [
    "train_static_base_transformed = (\n",
    "    train_static_base\n",
    "    .pipe(rename_cols)\n",
    "    .pipe(select_imputable_cols)\n",
    "    .with_columns(\n",
    "        cs.categorical().fill_null(value=cs.categorical().mode().first()),\n",
    "        cs.float().fill_null(strategy=\"mean\")\n",
    "    )\n",
    ")\n",
    "train_static_base_transformed.fetch().head()"
   ]
  },
  {
   "cell_type": "code",
   "execution_count": 26,
   "metadata": {},
   "outputs": [
    {
     "data": {
      "text/html": [
       "<div><style>\n",
       ".dataframe > thead > tr,\n",
       ".dataframe > tbody > tr {\n",
       "  text-align: right;\n",
       "  white-space: pre-wrap;\n",
       "}\n",
       "</style>\n",
       "<small>shape: (3, 3)</small><table border=\"1\" class=\"dataframe\"><thead><tr><th>index</th><th>path</th><th>filename</th></tr><tr><td>i64</td><td>str</td><td>str</td></tr></thead><tbody><tr><td>21</td><td>&quot;Downloads/credit_risk/train/train_static_0_0.parquet&quot;</td><td>&quot;train_static_0_0.parquet&quot;</td></tr><tr><td>16</td><td>&quot;Downloads/credit_risk/train/train_static_0_1.parquet&quot;</td><td>&quot;train_static_0_1.parquet&quot;</td></tr><tr><td>3</td><td>&quot;Downloads/credit_risk/train/train_static_cb_0.parquet&quot;</td><td>&quot;train_static_cb_0.parquet&quot;</td></tr></tbody></table></div>"
      ],
      "text/plain": [
       "shape: (3, 3)\n",
       "┌───────┬───────────────────────────────────────────────────────┬───────────────────────────┐\n",
       "│ index ┆ path                                                  ┆ filename                  │\n",
       "│ ---   ┆ ---                                                   ┆ ---                       │\n",
       "│ i64   ┆ str                                                   ┆ str                       │\n",
       "╞═══════╪═══════════════════════════════════════════════════════╪═══════════════════════════╡\n",
       "│ 21    ┆ Downloads/credit_risk/train/train_static_0_0.parquet  ┆ train_static_0_0.parquet  │\n",
       "│ 16    ┆ Downloads/credit_risk/train/train_static_0_1.parquet  ┆ train_static_0_1.parquet  │\n",
       "│ 3     ┆ Downloads/credit_risk/train/train_static_cb_0.parquet ┆ train_static_cb_0.parquet │\n",
       "└───────┴───────────────────────────────────────────────────────┴───────────────────────────┘"
      ]
     },
     "execution_count": 26,
     "metadata": {},
     "output_type": "execute_result"
    }
   ],
   "source": [
    "train_files_df.filter(cs.contains(\"file\").str.contains(\"static\"))"
   ]
  },
  {
   "cell_type": "code",
   "execution_count": 27,
   "metadata": {},
   "outputs": [
    {
     "data": {
      "text/html": [
       "<div><style>\n",
       ".dataframe > thead > tr,\n",
       ".dataframe > tbody > tr {\n",
       "  text-align: right;\n",
       "  white-space: pre-wrap;\n",
       "}\n",
       "</style>\n",
       "<small>shape: (5, 44)</small><table border=\"1\" class=\"dataframe\"><thead><tr><th>case_id</th><th>contractssum_5085716L</th><th>days120_123L</th><th>days180_256L</th><th>days30_165L</th><th>days360_512L</th><th>days90_310L</th><th>firstquarter_103L</th><th>for3years_128L</th><th>for3years_504L</th><th>for3years_584L</th><th>formonth_118L</th><th>formonth_206L</th><th>formonth_535L</th><th>forquarter_1017L</th><th>forquarter_462L</th><th>forquarter_634L</th><th>fortoday_1092L</th><th>forweek_1077L</th><th>forweek_528L</th><th>forweek_601L</th><th>foryear_618L</th><th>foryear_818L</th><th>foryear_850L</th><th>fourthquarter_440L</th><th>numberofqueries_373L</th><th>pmtaverage_3A</th><th>pmtaverage_4527227A</th><th>pmtaverage_4955615A</th><th>pmtcount_4527229L</th><th>pmtcount_4955617L</th><th>pmtcount_693L</th><th>pmtscount_423L</th><th>pmtssum_45A</th><th>riskassesment_940T</th><th>secondquarter_766L</th><th>thirdquarter_1082L</th><th>description_5085714M</th><th>education_1103M</th><th>education_88M</th><th>maritalst_385M</th><th>maritalst_893M</th><th>requesttype_4525192L</th><th>riskassesment_302T</th></tr><tr><td>u32</td><td>f32</td><td>f32</td><td>f32</td><td>f32</td><td>f32</td><td>f32</td><td>f32</td><td>f32</td><td>f32</td><td>f32</td><td>f32</td><td>f32</td><td>f32</td><td>f32</td><td>f32</td><td>f32</td><td>f32</td><td>f32</td><td>f32</td><td>f32</td><td>f32</td><td>f32</td><td>f32</td><td>f32</td><td>f32</td><td>f32</td><td>f32</td><td>f32</td><td>f32</td><td>f32</td><td>f32</td><td>f32</td><td>f32</td><td>f32</td><td>f32</td><td>f32</td><td>cat</td><td>cat</td><td>cat</td><td>cat</td><td>cat</td><td>cat</td><td>cat</td></tr></thead><tbody><tr><td>357</td><td>null</td><td>null</td><td>null</td><td>null</td><td>null</td><td>null</td><td>null</td><td>null</td><td>null</td><td>null</td><td>null</td><td>null</td><td>null</td><td>null</td><td>null</td><td>null</td><td>null</td><td>null</td><td>null</td><td>null</td><td>null</td><td>null</td><td>null</td><td>null</td><td>null</td><td>null</td><td>null</td><td>null</td><td>null</td><td>null</td><td>null</td><td>6.00</td><td>6,301.40</td><td>null</td><td>null</td><td>null</td><td>&quot;a55475b1&quot;</td><td>&quot;a55475b1&quot;</td><td>&quot;a55475b1&quot;</td><td>&quot;a55475b1&quot;</td><td>&quot;a55475b1&quot;</td><td>null</td><td>null</td></tr><tr><td>381</td><td>null</td><td>null</td><td>null</td><td>null</td><td>null</td><td>null</td><td>null</td><td>null</td><td>null</td><td>null</td><td>null</td><td>null</td><td>null</td><td>null</td><td>null</td><td>null</td><td>null</td><td>null</td><td>null</td><td>null</td><td>null</td><td>null</td><td>null</td><td>null</td><td>null</td><td>null</td><td>null</td><td>null</td><td>null</td><td>null</td><td>null</td><td>6.00</td><td>4,019.60</td><td>null</td><td>null</td><td>null</td><td>&quot;a55475b1&quot;</td><td>&quot;a55475b1&quot;</td><td>&quot;a55475b1&quot;</td><td>&quot;a55475b1&quot;</td><td>&quot;a55475b1&quot;</td><td>null</td><td>null</td></tr><tr><td>388</td><td>null</td><td>6.00</td><td>8.00</td><td>2.00</td><td>10.00</td><td>4.00</td><td>2.00</td><td>null</td><td>null</td><td>null</td><td>null</td><td>null</td><td>null</td><td>null</td><td>null</td><td>null</td><td>null</td><td>null</td><td>null</td><td>null</td><td>null</td><td>null</td><td>null</td><td>6.00</td><td>10.00</td><td>null</td><td>null</td><td>null</td><td>null</td><td>null</td><td>null</td><td>6.00</td><td>14,548.00</td><td>null</td><td>3.00</td><td>5.00</td><td>&quot;a55475b1&quot;</td><td>&quot;a55475b1&quot;</td><td>&quot;a55475b1&quot;</td><td>&quot;a55475b1&quot;</td><td>&quot;a55475b1&quot;</td><td>null</td><td>null</td></tr><tr><td>405</td><td>null</td><td>0.00</td><td>0.00</td><td>0.00</td><td>1.00</td><td>0.00</td><td>0.00</td><td>null</td><td>null</td><td>null</td><td>null</td><td>null</td><td>null</td><td>null</td><td>null</td><td>null</td><td>null</td><td>null</td><td>null</td><td>null</td><td>null</td><td>null</td><td>null</td><td>4.00</td><td>1.00</td><td>null</td><td>null</td><td>null</td><td>null</td><td>null</td><td>null</td><td>6.00</td><td>10,498.24</td><td>null</td><td>2.00</td><td>0.00</td><td>&quot;a55475b1&quot;</td><td>&quot;a55475b1&quot;</td><td>&quot;a55475b1&quot;</td><td>&quot;a55475b1&quot;</td><td>&quot;a55475b1&quot;</td><td>null</td><td>null</td></tr><tr><td>409</td><td>null</td><td>2.00</td><td>3.00</td><td>0.00</td><td>3.00</td><td>1.00</td><td>4.00</td><td>null</td><td>null</td><td>null</td><td>null</td><td>null</td><td>null</td><td>null</td><td>null</td><td>null</td><td>null</td><td>null</td><td>null</td><td>null</td><td>null</td><td>null</td><td>null</td><td>1.00</td><td>3.00</td><td>null</td><td>null</td><td>null</td><td>null</td><td>null</td><td>null</td><td>7.00</td><td>6,344.88</td><td>null</td><td>0.00</td><td>4.00</td><td>&quot;a55475b1&quot;</td><td>&quot;717ddd49&quot;</td><td>&quot;a55475b1&quot;</td><td>&quot;a7fcb6e5&quot;</td><td>&quot;a55475b1&quot;</td><td>null</td><td>null</td></tr></tbody></table></div>"
      ],
      "text/plain": [
       "shape: (5, 44)\n",
       "┌─────────┬────────────┬───────────┬───────────┬───┬───────────┬───────────┬───────────┬───────────┐\n",
       "│ case_id ┆ contractss ┆ days120_1 ┆ days180_2 ┆ … ┆ maritalst ┆ maritalst ┆ requestty ┆ riskasses │\n",
       "│ ---     ┆ um_5085716 ┆ 23L       ┆ 56L       ┆   ┆ _385M     ┆ _893M     ┆ pe_452519 ┆ ment_302T │\n",
       "│ u32     ┆ L          ┆ ---       ┆ ---       ┆   ┆ ---       ┆ ---       ┆ 2L        ┆ ---       │\n",
       "│         ┆ ---        ┆ f32       ┆ f32       ┆   ┆ cat       ┆ cat       ┆ ---       ┆ cat       │\n",
       "│         ┆ f32        ┆           ┆           ┆   ┆           ┆           ┆ cat       ┆           │\n",
       "╞═════════╪════════════╪═══════════╪═══════════╪═══╪═══════════╪═══════════╪═══════════╪═══════════╡\n",
       "│ 357     ┆ null       ┆ null      ┆ null      ┆ … ┆ a55475b1  ┆ a55475b1  ┆ null      ┆ null      │\n",
       "│ 381     ┆ null       ┆ null      ┆ null      ┆ … ┆ a55475b1  ┆ a55475b1  ┆ null      ┆ null      │\n",
       "│ 388     ┆ null       ┆ 6.00      ┆ 8.00      ┆ … ┆ a55475b1  ┆ a55475b1  ┆ null      ┆ null      │\n",
       "│ 405     ┆ null       ┆ 0.00      ┆ 0.00      ┆ … ┆ a55475b1  ┆ a55475b1  ┆ null      ┆ null      │\n",
       "│ 409     ┆ null       ┆ 2.00      ┆ 3.00      ┆ … ┆ a7fcb6e5  ┆ a55475b1  ┆ null      ┆ null      │\n",
       "└─────────┴────────────┴───────────┴───────────┴───┴───────────┴───────────┴───────────┴───────────┘"
      ]
     },
     "execution_count": 27,
     "metadata": {},
     "output_type": "execute_result"
    }
   ],
   "source": [
    "train_static_external =(\n",
    "    pl.scan_parquet(\"Downloads/credit_risk/train/train_static_cb_0.parquet\")\n",
    "    .drop(cs.contains(\"date\"))\n",
    "    .select(\n",
    "        cs.by_name(\"case_id\").cast(pl.UInt32),\n",
    "        cs.float().cast(pl.Float32),\n",
    "        cs.string().cast(pl.Categorical)\n",
    "    )\n",
    ")\n",
    "train_static_external.fetch().head()"
   ]
  },
  {
   "cell_type": "code",
   "execution_count": 28,
   "metadata": {},
   "outputs": [
    {
     "data": {
      "text/html": [
       "<div><style>\n",
       ".dataframe > thead > tr,\n",
       ".dataframe > tbody > tr {\n",
       "  text-align: right;\n",
       "  white-space: pre-wrap;\n",
       "}\n",
       "</style>\n",
       "<small>shape: (5, 16)</small><table border=\"1\" class=\"dataframe\"><thead><tr><th>case_id</th><th>description_5085714M Categorization of clients by credit bureau.</th><th>education_1103M Level of education of the client provided by external source.</th><th>education_88M Education level of the client.</th><th>maritalst_385M Marital status of the client.</th><th>maritalst_893M Marital status of the client</th><th>days120_123L Number of credit bureau queries for the last 120 days.</th><th>days180_256L Number of credit bureau queries for last 180 days.</th><th>days30_165L Number of credit bureau queries for the last 30 days.</th><th>days360_512L Number of Credit Bureau queries for last 360 days.</th><th>days90_310L Number of credit bureau queries for the last 90 days.</th><th>firstquarter_103L Number of results obtained from credit bureau in the first quarter.</th><th>fourthquarter_440L Number of results in fourth quarter.</th><th>numberofqueries_373L Number of queries to credit bureau.</th><th>secondquarter_766L Number of results in second quarter.</th><th>thirdquarter_1082L Number of results in third quarter.</th></tr><tr><td>u32</td><td>cat</td><td>cat</td><td>cat</td><td>cat</td><td>cat</td><td>f32</td><td>f32</td><td>f32</td><td>f32</td><td>f32</td><td>f32</td><td>f32</td><td>f32</td><td>f32</td><td>f32</td></tr></thead><tbody><tr><td>357</td><td>&quot;a55475b1&quot;</td><td>&quot;a55475b1&quot;</td><td>&quot;a55475b1&quot;</td><td>&quot;a55475b1&quot;</td><td>&quot;a55475b1&quot;</td><td>2.10</td><td>2.88</td><td>0.69</td><td>4.88</td><td>1.62</td><td>1.79</td><td>2.40</td><td>4.88</td><td>1.73</td><td>2.25</td></tr><tr><td>381</td><td>&quot;a55475b1&quot;</td><td>&quot;a55475b1&quot;</td><td>&quot;a55475b1&quot;</td><td>&quot;a55475b1&quot;</td><td>&quot;a55475b1&quot;</td><td>2.10</td><td>2.88</td><td>0.69</td><td>4.88</td><td>1.62</td><td>1.79</td><td>2.40</td><td>4.88</td><td>1.73</td><td>2.25</td></tr><tr><td>388</td><td>&quot;a55475b1&quot;</td><td>&quot;a55475b1&quot;</td><td>&quot;a55475b1&quot;</td><td>&quot;a55475b1&quot;</td><td>&quot;a55475b1&quot;</td><td>6.00</td><td>8.00</td><td>2.00</td><td>10.00</td><td>4.00</td><td>2.00</td><td>6.00</td><td>10.00</td><td>3.00</td><td>5.00</td></tr><tr><td>405</td><td>&quot;a55475b1&quot;</td><td>&quot;a55475b1&quot;</td><td>&quot;a55475b1&quot;</td><td>&quot;a55475b1&quot;</td><td>&quot;a55475b1&quot;</td><td>0.00</td><td>0.00</td><td>0.00</td><td>1.00</td><td>0.00</td><td>0.00</td><td>4.00</td><td>1.00</td><td>2.00</td><td>0.00</td></tr><tr><td>409</td><td>&quot;a55475b1&quot;</td><td>&quot;717ddd49&quot;</td><td>&quot;a55475b1&quot;</td><td>&quot;a7fcb6e5&quot;</td><td>&quot;a55475b1&quot;</td><td>2.00</td><td>3.00</td><td>0.00</td><td>3.00</td><td>1.00</td><td>4.00</td><td>1.00</td><td>3.00</td><td>0.00</td><td>4.00</td></tr></tbody></table></div>"
      ],
      "text/plain": [
       "shape: (5, 16)\n",
       "┌─────────┬────────────┬───────────┬───────────┬───┬───────────┬───────────┬───────────┬───────────┐\n",
       "│ case_id ┆ descriptio ┆ education ┆ education ┆ … ┆ fourthqua ┆ numberofq ┆ secondqua ┆ thirdquar │\n",
       "│ ---     ┆ n_5085714M ┆ _1103M    ┆ _88M      ┆   ┆ rter_440L ┆ ueries_37 ┆ rter_766L ┆ ter_1082L │\n",
       "│ u32     ┆ Categoriza ┆ Level of  ┆ Education ┆   ┆ Number of ┆ 3L Number ┆ Number of ┆ Number of │\n",
       "│         ┆ tion of    ┆ education ┆ level of  ┆   ┆ results   ┆ of        ┆ results   ┆ results   │\n",
       "│         ┆ clients by ┆ of the    ┆ the       ┆   ┆ in fourth ┆ queries   ┆ in second ┆ in third  │\n",
       "│         ┆ credit     ┆ client    ┆ client.   ┆   ┆ quarter.  ┆ to credit ┆ quarter.  ┆ quarter.  │\n",
       "│         ┆ bureau.    ┆ provided  ┆ ---       ┆   ┆ ---       ┆ bureau.   ┆ ---       ┆ ---       │\n",
       "│         ┆ ---        ┆ by        ┆ cat       ┆   ┆ f32       ┆ ---       ┆ f32       ┆ f32       │\n",
       "│         ┆ cat        ┆ external  ┆           ┆   ┆           ┆ f32       ┆           ┆           │\n",
       "│         ┆            ┆ source.   ┆           ┆   ┆           ┆           ┆           ┆           │\n",
       "│         ┆            ┆ ---       ┆           ┆   ┆           ┆           ┆           ┆           │\n",
       "│         ┆            ┆ cat       ┆           ┆   ┆           ┆           ┆           ┆           │\n",
       "╞═════════╪════════════╪═══════════╪═══════════╪═══╪═══════════╪═══════════╪═══════════╪═══════════╡\n",
       "│ 357     ┆ a55475b1   ┆ a55475b1  ┆ a55475b1  ┆ … ┆ 2.40      ┆ 4.88      ┆ 1.73      ┆ 2.25      │\n",
       "│ 381     ┆ a55475b1   ┆ a55475b1  ┆ a55475b1  ┆ … ┆ 2.40      ┆ 4.88      ┆ 1.73      ┆ 2.25      │\n",
       "│ 388     ┆ a55475b1   ┆ a55475b1  ┆ a55475b1  ┆ … ┆ 6.00      ┆ 10.00     ┆ 3.00      ┆ 5.00      │\n",
       "│ 405     ┆ a55475b1   ┆ a55475b1  ┆ a55475b1  ┆ … ┆ 4.00      ┆ 1.00      ┆ 2.00      ┆ 0.00      │\n",
       "│ 409     ┆ a55475b1   ┆ 717ddd49  ┆ a55475b1  ┆ … ┆ 1.00      ┆ 3.00      ┆ 0.00      ┆ 4.00      │\n",
       "└─────────┴────────────┴───────────┴───────────┴───┴───────────┴───────────┴───────────┴───────────┘"
      ]
     },
     "execution_count": 28,
     "metadata": {},
     "output_type": "execute_result"
    }
   ],
   "source": [
    "train_static_external_transformed = (\n",
    "    train_static_external\n",
    "    .pipe(rename_cols)\n",
    "    .pipe(select_imputable_cols)\n",
    "    .drop(cs.contains(\"birth\"))\n",
    "    .with_columns(\n",
    "        cs.float().fill_null(strategy=\"mean\")\n",
    "    )\n",
    ")\n",
    "train_static_external_transformed.fetch().head()"
   ]
  },
  {
   "cell_type": "markdown",
   "metadata": {},
   "source": [
    "## Train Person"
   ]
  },
  {
   "cell_type": "code",
   "execution_count": 29,
   "metadata": {},
   "outputs": [
    {
     "data": {
      "text/html": [
       "<div><style>\n",
       ".dataframe > thead > tr,\n",
       ".dataframe > tbody > tr {\n",
       "  text-align: right;\n",
       "  white-space: pre-wrap;\n",
       "}\n",
       "</style>\n",
       "<small>shape: (2, 3)</small><table border=\"1\" class=\"dataframe\"><thead><tr><th>index</th><th>path</th><th>filename</th></tr><tr><td>i64</td><td>str</td><td>str</td></tr></thead><tbody><tr><td>5</td><td>&quot;Downloads/credit_risk/train/train_person_1.parquet&quot;</td><td>&quot;train_person_1.parquet&quot;</td></tr><tr><td>30</td><td>&quot;Downloads/credit_risk/train/train_person_2.parquet&quot;</td><td>&quot;train_person_2.parquet&quot;</td></tr></tbody></table></div>"
      ],
      "text/plain": [
       "shape: (2, 3)\n",
       "┌───────┬────────────────────────────────────────────────────┬────────────────────────┐\n",
       "│ index ┆ path                                               ┆ filename               │\n",
       "│ ---   ┆ ---                                                ┆ ---                    │\n",
       "│ i64   ┆ str                                                ┆ str                    │\n",
       "╞═══════╪════════════════════════════════════════════════════╪════════════════════════╡\n",
       "│ 5     ┆ Downloads/credit_risk/train/train_person_1.parquet ┆ train_person_1.parquet │\n",
       "│ 30    ┆ Downloads/credit_risk/train/train_person_2.parquet ┆ train_person_2.parquet │\n",
       "└───────┴────────────────────────────────────────────────────┴────────────────────────┘"
      ]
     },
     "execution_count": 29,
     "metadata": {},
     "output_type": "execute_result"
    }
   ],
   "source": [
    "train_files_df.filter(pl.col(\"filename\").str.contains(\"person\"))"
   ]
  },
  {
   "cell_type": "code",
   "execution_count": 30,
   "metadata": {},
   "outputs": [
    {
     "data": {
      "text/html": [
       "<div><style>\n",
       ".dataframe > thead > tr,\n",
       ".dataframe > tbody > tr {\n",
       "  text-align: right;\n",
       "  white-space: pre-wrap;\n",
       "}\n",
       "</style>\n",
       "<small>shape: (5, 36)</small><table border=\"1\" class=\"dataframe\"><thead><tr><th>case_id</th><th>num_group1</th><th>contaddr_matchlist_1032L</th><th>contaddr_smempladdr_334L</th><th>isreference_387L</th><th>remitter_829L</th><th>safeguarantyflag_411L</th><th>childnum_185L</th><th>mainoccupationinc_384A</th><th>personindex_1023L</th><th>persontype_1072L</th><th>persontype_792L</th><th>birth_259D</th><th>contaddr_district_15M</th><th>contaddr_zipcode_807M</th><th>education_927M</th><th>empl_employedfrom_271D</th><th>empl_employedtotal_800L</th><th>empl_industry_691L</th><th>empladdr_district_926M</th><th>empladdr_zipcode_114M</th><th>familystate_447L</th><th>gender_992L</th><th>housetype_905L</th><th>housingtype_772L</th><th>incometype_1044T</th><th>language1_981M</th><th>maritalst_703L</th><th>registaddr_district_1083M</th><th>registaddr_zipcode_184M</th><th>relationshiptoclient_415T</th><th>relationshiptoclient_642T</th><th>role_1084L</th><th>role_993L</th><th>sex_738L</th><th>type_25L</th></tr><tr><td>u32</td><td>u8</td><td>bool</td><td>bool</td><td>bool</td><td>bool</td><td>bool</td><td>f32</td><td>f32</td><td>f32</td><td>f32</td><td>f32</td><td>cat</td><td>cat</td><td>cat</td><td>cat</td><td>cat</td><td>cat</td><td>cat</td><td>cat</td><td>cat</td><td>cat</td><td>cat</td><td>cat</td><td>cat</td><td>cat</td><td>cat</td><td>cat</td><td>cat</td><td>cat</td><td>cat</td><td>cat</td><td>cat</td><td>cat</td><td>cat</td><td>cat</td></tr></thead><tbody><tr><td>0</td><td>0</td><td>false</td><td>false</td><td>null</td><td>null</td><td>true</td><td>null</td><td>10,800.00</td><td>0.00</td><td>1.00</td><td>1.00</td><td>&quot;1986-07-01&quot;</td><td>&quot;P88_18_84&quot;</td><td>&quot;P167_100_165&quot;</td><td>&quot;P97_36_170&quot;</td><td>&quot;2017-09-15&quot;</td><td>&quot;MORE_FIVE&quot;</td><td>&quot;OTHER&quot;</td><td>&quot;P142_57_166&quot;</td><td>&quot;P167_100_165&quot;</td><td>&quot;MARRIED&quot;</td><td>null</td><td>null</td><td>null</td><td>&quot;SALARIED_GOVT&quot;</td><td>&quot;P10_39_147&quot;</td><td>null</td><td>&quot;P88_18_84&quot;</td><td>&quot;P167_100_165&quot;</td><td>null</td><td>null</td><td>&quot;CL&quot;</td><td>null</td><td>&quot;F&quot;</td><td>&quot;PRIMARY_MOBILE&quot;</td></tr><tr><td>0</td><td>1</td><td>null</td><td>null</td><td>null</td><td>false</td><td>null</td><td>null</td><td>null</td><td>1.00</td><td>1.00</td><td>4.00</td><td>null</td><td>&quot;a55475b1&quot;</td><td>&quot;a55475b1&quot;</td><td>&quot;a55475b1&quot;</td><td>null</td><td>null</td><td>null</td><td>&quot;a55475b1&quot;</td><td>&quot;a55475b1&quot;</td><td>null</td><td>null</td><td>null</td><td>null</td><td>null</td><td>&quot;a55475b1&quot;</td><td>null</td><td>&quot;a55475b1&quot;</td><td>&quot;a55475b1&quot;</td><td>&quot;SPOUSE&quot;</td><td>null</td><td>&quot;EM&quot;</td><td>null</td><td>null</td><td>&quot;PHONE&quot;</td></tr><tr><td>0</td><td>2</td><td>null</td><td>null</td><td>null</td><td>false</td><td>null</td><td>null</td><td>null</td><td>2.00</td><td>4.00</td><td>5.00</td><td>null</td><td>&quot;a55475b1&quot;</td><td>&quot;a55475b1&quot;</td><td>&quot;a55475b1&quot;</td><td>null</td><td>null</td><td>null</td><td>&quot;a55475b1&quot;</td><td>&quot;a55475b1&quot;</td><td>null</td><td>null</td><td>null</td><td>null</td><td>null</td><td>&quot;a55475b1&quot;</td><td>null</td><td>&quot;a55475b1&quot;</td><td>&quot;a55475b1&quot;</td><td>&quot;COLLEAGUE&quot;</td><td>&quot;SPOUSE&quot;</td><td>&quot;PE&quot;</td><td>null</td><td>null</td><td>&quot;PHONE&quot;</td></tr><tr><td>0</td><td>3</td><td>null</td><td>null</td><td>null</td><td>null</td><td>null</td><td>null</td><td>null</td><td>null</td><td>5.00</td><td>null</td><td>null</td><td>&quot;a55475b1&quot;</td><td>&quot;a55475b1&quot;</td><td>&quot;a55475b1&quot;</td><td>null</td><td>null</td><td>null</td><td>&quot;a55475b1&quot;</td><td>&quot;a55475b1&quot;</td><td>null</td><td>null</td><td>null</td><td>null</td><td>null</td><td>&quot;a55475b1&quot;</td><td>null</td><td>&quot;a55475b1&quot;</td><td>&quot;a55475b1&quot;</td><td>null</td><td>&quot;COLLEAGUE&quot;</td><td>&quot;PE&quot;</td><td>null</td><td>null</td><td>&quot;PHONE&quot;</td></tr><tr><td>1</td><td>0</td><td>false</td><td>false</td><td>null</td><td>null</td><td>true</td><td>null</td><td>10,000.00</td><td>0.00</td><td>1.00</td><td>1.00</td><td>&quot;1957-08-01&quot;</td><td>&quot;P103_93_94&quot;</td><td>&quot;P176_37_166&quot;</td><td>&quot;P97_36_170&quot;</td><td>&quot;2008-10-29&quot;</td><td>&quot;MORE_FIVE&quot;</td><td>&quot;OTHER&quot;</td><td>&quot;P49_46_174&quot;</td><td>&quot;P160_59_140&quot;</td><td>&quot;DIVORCED&quot;</td><td>null</td><td>null</td><td>null</td><td>&quot;SALARIED_GOVT&quot;</td><td>&quot;P10_39_147&quot;</td><td>null</td><td>&quot;P103_93_94&quot;</td><td>&quot;P176_37_166&quot;</td><td>null</td><td>null</td><td>&quot;CL&quot;</td><td>null</td><td>&quot;M&quot;</td><td>&quot;PRIMARY_MOBILE&quot;</td></tr></tbody></table></div>"
      ],
      "text/plain": [
       "shape: (5, 36)\n",
       "┌─────────┬────────────┬────────────┬───────────┬───┬───────────┬───────────┬──────────┬───────────┐\n",
       "│ case_id ┆ num_group1 ┆ contaddr_m ┆ contaddr_ ┆ … ┆ role_1084 ┆ role_993L ┆ sex_738L ┆ type_25L  │\n",
       "│ ---     ┆ ---        ┆ atchlist_1 ┆ smempladd ┆   ┆ L         ┆ ---       ┆ ---      ┆ ---       │\n",
       "│ u32     ┆ u8         ┆ 032L       ┆ r_334L    ┆   ┆ ---       ┆ cat       ┆ cat      ┆ cat       │\n",
       "│         ┆            ┆ ---        ┆ ---       ┆   ┆ cat       ┆           ┆          ┆           │\n",
       "│         ┆            ┆ bool       ┆ bool      ┆   ┆           ┆           ┆          ┆           │\n",
       "╞═════════╪════════════╪════════════╪═══════════╪═══╪═══════════╪═══════════╪══════════╪═══════════╡\n",
       "│ 0       ┆ 0          ┆ false      ┆ false     ┆ … ┆ CL        ┆ null      ┆ F        ┆ PRIMARY_M │\n",
       "│         ┆            ┆            ┆           ┆   ┆           ┆           ┆          ┆ OBILE     │\n",
       "│ 0       ┆ 1          ┆ null       ┆ null      ┆ … ┆ EM        ┆ null      ┆ null     ┆ PHONE     │\n",
       "│ 0       ┆ 2          ┆ null       ┆ null      ┆ … ┆ PE        ┆ null      ┆ null     ┆ PHONE     │\n",
       "│ 0       ┆ 3          ┆ null       ┆ null      ┆ … ┆ PE        ┆ null      ┆ null     ┆ PHONE     │\n",
       "│ 1       ┆ 0          ┆ false      ┆ false     ┆ … ┆ CL        ┆ null      ┆ M        ┆ PRIMARY_M │\n",
       "│         ┆            ┆            ┆           ┆   ┆           ┆           ┆          ┆ OBILE     │\n",
       "└─────────┴────────────┴────────────┴───────────┴───┴───────────┴───────────┴──────────┴───────────┘"
      ]
     },
     "execution_count": 30,
     "metadata": {},
     "output_type": "execute_result"
    }
   ],
   "source": [
    "train_person_depth_one = (\n",
    "    pl.scan_parquet(all_train_files[5])\n",
    "    .drop(cs.contains(\"date\"))\n",
    "    .select(\n",
    "        cs.by_name(\"case_id\").cast(pl.UInt32),\n",
    "        cs.by_name(\"num_group1\").cast(pl.UInt8),\n",
    "        cs.boolean(),\n",
    "        cs.float().cast(pl.Float32),\n",
    "        cs.string().cast(pl.Categorical()),\n",
    "    )\n",
    ")\n",
    "train_person_depth_one.fetch().head()"
   ]
  },
  {
   "cell_type": "code",
   "execution_count": 31,
   "metadata": {},
   "outputs": [
    {
     "data": {
      "text/html": [
       "<div><style>\n",
       ".dataframe > thead > tr,\n",
       ".dataframe > tbody > tr {\n",
       "  text-align: right;\n",
       "  white-space: pre-wrap;\n",
       "}\n",
       "</style>\n",
       "<small>shape: (5, 13)</small><table border=\"1\" class=\"dataframe\"><thead><tr><th>case_id</th><th>num_group1</th><th>contaddr_district_15M Zip code of a contact person&#x27;s address.</th><th>contaddr_zipcode_807M Zip code of contact address.</th><th>education_927M Education level of the person.</th><th>empladdr_district_926M District where the employer&#x27;s address is located.</th><th>empladdr_zipcode_114M Zipcode of employer&#x27;s address.</th><th>language1_981M The primary language of the person.</th><th>registaddr_district_1083M District of person&#x27;s registered address.</th><th>registaddr_zipcode_184M Registered address&#x27;s zip code of a person.</th><th>persontype_1072L Person type.</th><th>role_1084L Type of contact role.</th><th>type_25L Contact type of a person.</th></tr><tr><td>u32</td><td>u8</td><td>cat</td><td>cat</td><td>cat</td><td>cat</td><td>cat</td><td>cat</td><td>cat</td><td>cat</td><td>f32</td><td>cat</td><td>cat</td></tr></thead><tbody><tr><td>0</td><td>0</td><td>&quot;P88_18_84&quot;</td><td>&quot;P167_100_165&quot;</td><td>&quot;P97_36_170&quot;</td><td>&quot;P142_57_166&quot;</td><td>&quot;P167_100_165&quot;</td><td>&quot;P10_39_147&quot;</td><td>&quot;P88_18_84&quot;</td><td>&quot;P167_100_165&quot;</td><td>1.00</td><td>&quot;CL&quot;</td><td>&quot;PRIMARY_MOBILE&quot;</td></tr><tr><td>0</td><td>1</td><td>&quot;a55475b1&quot;</td><td>&quot;a55475b1&quot;</td><td>&quot;a55475b1&quot;</td><td>&quot;a55475b1&quot;</td><td>&quot;a55475b1&quot;</td><td>&quot;a55475b1&quot;</td><td>&quot;a55475b1&quot;</td><td>&quot;a55475b1&quot;</td><td>1.00</td><td>&quot;EM&quot;</td><td>&quot;PHONE&quot;</td></tr><tr><td>0</td><td>2</td><td>&quot;a55475b1&quot;</td><td>&quot;a55475b1&quot;</td><td>&quot;a55475b1&quot;</td><td>&quot;a55475b1&quot;</td><td>&quot;a55475b1&quot;</td><td>&quot;a55475b1&quot;</td><td>&quot;a55475b1&quot;</td><td>&quot;a55475b1&quot;</td><td>4.00</td><td>&quot;PE&quot;</td><td>&quot;PHONE&quot;</td></tr><tr><td>0</td><td>3</td><td>&quot;a55475b1&quot;</td><td>&quot;a55475b1&quot;</td><td>&quot;a55475b1&quot;</td><td>&quot;a55475b1&quot;</td><td>&quot;a55475b1&quot;</td><td>&quot;a55475b1&quot;</td><td>&quot;a55475b1&quot;</td><td>&quot;a55475b1&quot;</td><td>5.00</td><td>&quot;PE&quot;</td><td>&quot;PHONE&quot;</td></tr><tr><td>1</td><td>0</td><td>&quot;P103_93_94&quot;</td><td>&quot;P176_37_166&quot;</td><td>&quot;P97_36_170&quot;</td><td>&quot;P49_46_174&quot;</td><td>&quot;P160_59_140&quot;</td><td>&quot;P10_39_147&quot;</td><td>&quot;P103_93_94&quot;</td><td>&quot;P176_37_166&quot;</td><td>1.00</td><td>&quot;CL&quot;</td><td>&quot;PRIMARY_MOBILE&quot;</td></tr></tbody></table></div>"
      ],
      "text/plain": [
       "shape: (5, 13)\n",
       "┌─────────┬────────────┬───────────┬───────────┬───┬───────────┬───────────┬───────────┬───────────┐\n",
       "│ case_id ┆ num_group1 ┆ contaddr_ ┆ contaddr_ ┆ … ┆ registadd ┆ persontyp ┆ role_1084 ┆ type_25L  │\n",
       "│ ---     ┆ ---        ┆ district_ ┆ zipcode_8 ┆   ┆ r_zipcode ┆ e_1072L   ┆ L Type of ┆ Contact   │\n",
       "│ u32     ┆ u8         ┆ 15M Zip   ┆ 07M Zip   ┆   ┆ _184M Reg ┆ Person    ┆ contact   ┆ type of a │\n",
       "│         ┆            ┆ code of a ┆ code of   ┆   ┆ istered   ┆ type.     ┆ role.     ┆ person.   │\n",
       "│         ┆            ┆ contact   ┆ contact   ┆   ┆ address's ┆ ---       ┆ ---       ┆ ---       │\n",
       "│         ┆            ┆ person's  ┆ address.  ┆   ┆ zip code  ┆ f32       ┆ cat       ┆ cat       │\n",
       "│         ┆            ┆ address.  ┆ ---       ┆   ┆ of a      ┆           ┆           ┆           │\n",
       "│         ┆            ┆ ---       ┆ cat       ┆   ┆ person.   ┆           ┆           ┆           │\n",
       "│         ┆            ┆ cat       ┆           ┆   ┆ ---       ┆           ┆           ┆           │\n",
       "│         ┆            ┆           ┆           ┆   ┆ cat       ┆           ┆           ┆           │\n",
       "╞═════════╪════════════╪═══════════╪═══════════╪═══╪═══════════╪═══════════╪═══════════╪═══════════╡\n",
       "│ 0       ┆ 0          ┆ P88_18_84 ┆ P167_100_ ┆ … ┆ P167_100_ ┆ 1.00      ┆ CL        ┆ PRIMARY_M │\n",
       "│         ┆            ┆           ┆ 165       ┆   ┆ 165       ┆           ┆           ┆ OBILE     │\n",
       "│ 0       ┆ 1          ┆ a55475b1  ┆ a55475b1  ┆ … ┆ a55475b1  ┆ 1.00      ┆ EM        ┆ PHONE     │\n",
       "│ 0       ┆ 2          ┆ a55475b1  ┆ a55475b1  ┆ … ┆ a55475b1  ┆ 4.00      ┆ PE        ┆ PHONE     │\n",
       "│ 0       ┆ 3          ┆ a55475b1  ┆ a55475b1  ┆ … ┆ a55475b1  ┆ 5.00      ┆ PE        ┆ PHONE     │\n",
       "│ 1       ┆ 0          ┆ P103_93_9 ┆ P176_37_1 ┆ … ┆ P176_37_1 ┆ 1.00      ┆ CL        ┆ PRIMARY_M │\n",
       "│         ┆            ┆ 4         ┆ 66        ┆   ┆ 66        ┆           ┆           ┆ OBILE     │\n",
       "└─────────┴────────────┴───────────┴───────────┴───┴───────────┴───────────┴───────────┴───────────┘"
      ]
     },
     "execution_count": 31,
     "metadata": {},
     "output_type": "execute_result"
    }
   ],
   "source": [
    "train_person_depth_one_transformed = (\n",
    "    train_person_depth_one\n",
    "    .pipe(rename_cols)\n",
    "    .pipe(select_imputable_cols)\n",
    "    .with_columns(\n",
    "        cs.categorical().fill_null(value=cs.categorical().mode().first()),\n",
    "        cs.float().fill_null(strategy=\"mean\")\n",
    "    )\n",
    ")\n",
    "train_person_depth_one_transformed.fetch().head()"
   ]
  },
  {
   "cell_type": "code",
   "execution_count": 32,
   "metadata": {},
   "outputs": [
    {
     "data": {
      "text/html": [
       "<div><style>\n",
       ".dataframe > thead > tr,\n",
       ".dataframe > tbody > tr {\n",
       "  text-align: right;\n",
       "  white-space: pre-wrap;\n",
       "}\n",
       "</style>\n",
       "<small>shape: (5, 11)</small><table border=\"1\" class=\"dataframe\"><thead><tr><th>case_id</th><th>num_group1</th><th>num_group2</th><th>addres_district_368M</th><th>addres_role_871L</th><th>addres_zip_823M</th><th>conts_role_79M</th><th>empls_economicalst_849M</th><th>empls_employedfrom_796D</th><th>empls_employer_name_740M</th><th>relatedpersons_role_762T</th></tr><tr><td>u32</td><td>u8</td><td>u8</td><td>cat</td><td>cat</td><td>cat</td><td>cat</td><td>cat</td><td>cat</td><td>cat</td><td>cat</td></tr></thead><tbody><tr><td>5</td><td>0</td><td>0</td><td>&quot;a55475b1&quot;</td><td>null</td><td>&quot;a55475b1&quot;</td><td>&quot;a55475b1&quot;</td><td>&quot;a55475b1&quot;</td><td>null</td><td>&quot;a55475b1&quot;</td><td>null</td></tr><tr><td>6</td><td>0</td><td>0</td><td>&quot;P55_110_32&quot;</td><td>&quot;CONTACT&quot;</td><td>&quot;P10_68_40&quot;</td><td>&quot;P38_92_157&quot;</td><td>&quot;P164_110_33&quot;</td><td>null</td><td>&quot;a55475b1&quot;</td><td>null</td></tr><tr><td>6</td><td>0</td><td>1</td><td>&quot;P55_110_32&quot;</td><td>&quot;PERMANENT&quot;</td><td>&quot;P10_68_40&quot;</td><td>&quot;a55475b1&quot;</td><td>&quot;a55475b1&quot;</td><td>null</td><td>&quot;a55475b1&quot;</td><td>null</td></tr><tr><td>6</td><td>1</td><td>0</td><td>&quot;P204_92_178&quot;</td><td>&quot;CONTACT&quot;</td><td>&quot;P65_136_169&quot;</td><td>&quot;P38_92_157&quot;</td><td>&quot;P164_110_33&quot;</td><td>null</td><td>&quot;a55475b1&quot;</td><td>&quot;OTHER_RELATIVE&quot;</td></tr><tr><td>6</td><td>1</td><td>1</td><td>&quot;P191_109_75&quot;</td><td>&quot;CONTACT&quot;</td><td>&quot;P10_68_40&quot;</td><td>&quot;P7_147_157&quot;</td><td>&quot;a55475b1&quot;</td><td>null</td><td>&quot;a55475b1&quot;</td><td>&quot;OTHER_RELATIVE&quot;</td></tr></tbody></table></div>"
      ],
      "text/plain": [
       "shape: (5, 11)\n",
       "┌─────────┬────────────┬───────────┬───────────┬───┬───────────┬───────────┬───────────┬───────────┐\n",
       "│ case_id ┆ num_group1 ┆ num_group ┆ addres_di ┆ … ┆ empls_eco ┆ empls_emp ┆ empls_emp ┆ relatedpe │\n",
       "│ ---     ┆ ---        ┆ 2         ┆ strict_36 ┆   ┆ nomicalst ┆ loyedfrom ┆ loyer_nam ┆ rsons_rol │\n",
       "│ u32     ┆ u8         ┆ ---       ┆ 8M        ┆   ┆ _849M     ┆ _796D     ┆ e_740M    ┆ e_762T    │\n",
       "│         ┆            ┆ u8        ┆ ---       ┆   ┆ ---       ┆ ---       ┆ ---       ┆ ---       │\n",
       "│         ┆            ┆           ┆ cat       ┆   ┆ cat       ┆ cat       ┆ cat       ┆ cat       │\n",
       "╞═════════╪════════════╪═══════════╪═══════════╪═══╪═══════════╪═══════════╪═══════════╪═══════════╡\n",
       "│ 5       ┆ 0          ┆ 0         ┆ a55475b1  ┆ … ┆ a55475b1  ┆ null      ┆ a55475b1  ┆ null      │\n",
       "│ 6       ┆ 0          ┆ 0         ┆ P55_110_3 ┆ … ┆ P164_110_ ┆ null      ┆ a55475b1  ┆ null      │\n",
       "│         ┆            ┆           ┆ 2         ┆   ┆ 33        ┆           ┆           ┆           │\n",
       "│ 6       ┆ 0          ┆ 1         ┆ P55_110_3 ┆ … ┆ a55475b1  ┆ null      ┆ a55475b1  ┆ null      │\n",
       "│         ┆            ┆           ┆ 2         ┆   ┆           ┆           ┆           ┆           │\n",
       "│ 6       ┆ 1          ┆ 0         ┆ P204_92_1 ┆ … ┆ P164_110_ ┆ null      ┆ a55475b1  ┆ OTHER_REL │\n",
       "│         ┆            ┆           ┆ 78        ┆   ┆ 33        ┆           ┆           ┆ ATIVE     │\n",
       "│ 6       ┆ 1          ┆ 1         ┆ P191_109_ ┆ … ┆ a55475b1  ┆ null      ┆ a55475b1  ┆ OTHER_REL │\n",
       "│         ┆            ┆           ┆ 75        ┆   ┆           ┆           ┆           ┆ ATIVE     │\n",
       "└─────────┴────────────┴───────────┴───────────┴───┴───────────┴───────────┴───────────┴───────────┘"
      ]
     },
     "execution_count": 32,
     "metadata": {},
     "output_type": "execute_result"
    }
   ],
   "source": [
    "train_person_depth_two = (\n",
    "    pl.scan_parquet(all_train_files[30])\n",
    "    .drop(cs.contains(\"date\"))\n",
    "    .select(\n",
    "        cs.by_name(\"case_id\").cast(pl.UInt32),\n",
    "        cs.contains(\"num_group\").cast(pl.UInt8),\n",
    "        cs.float().cast(pl.Float32),\n",
    "        cs.string().cast(pl.Categorical)\n",
    "    )\n",
    ")\n",
    "train_person_depth_two.fetch().head()"
   ]
  },
  {
   "cell_type": "code",
   "execution_count": 33,
   "metadata": {},
   "outputs": [
    {
     "data": {
      "text/html": [
       "<div><style>\n",
       ".dataframe > thead > tr,\n",
       ".dataframe > tbody > tr {\n",
       "  text-align: right;\n",
       "  white-space: pre-wrap;\n",
       "}\n",
       "</style>\n",
       "<small>shape: (5, 8)</small><table border=\"1\" class=\"dataframe\"><thead><tr><th>case_id</th><th>num_group1</th><th>num_group2</th><th>addres_district_368M District of the person&#x27;s address.</th><th>addres_zip_823M Zip code of the address.</th><th>conts_role_79M Type of contact role of a person.</th><th>empls_economicalst_849M The economical status of the person (num_group1 - person, num_group2 - employment).</th><th>empls_employer_name_740M Employer&#x27;s name (num_group1 - person, num_group2 - employment).</th></tr><tr><td>u32</td><td>u8</td><td>u8</td><td>cat</td><td>cat</td><td>cat</td><td>cat</td><td>cat</td></tr></thead><tbody><tr><td>5</td><td>0</td><td>0</td><td>&quot;a55475b1&quot;</td><td>&quot;a55475b1&quot;</td><td>&quot;a55475b1&quot;</td><td>&quot;a55475b1&quot;</td><td>&quot;a55475b1&quot;</td></tr><tr><td>6</td><td>0</td><td>0</td><td>&quot;P55_110_32&quot;</td><td>&quot;P10_68_40&quot;</td><td>&quot;P38_92_157&quot;</td><td>&quot;P164_110_33&quot;</td><td>&quot;a55475b1&quot;</td></tr><tr><td>6</td><td>0</td><td>1</td><td>&quot;P55_110_32&quot;</td><td>&quot;P10_68_40&quot;</td><td>&quot;a55475b1&quot;</td><td>&quot;a55475b1&quot;</td><td>&quot;a55475b1&quot;</td></tr><tr><td>6</td><td>1</td><td>0</td><td>&quot;P204_92_178&quot;</td><td>&quot;P65_136_169&quot;</td><td>&quot;P38_92_157&quot;</td><td>&quot;P164_110_33&quot;</td><td>&quot;a55475b1&quot;</td></tr><tr><td>6</td><td>1</td><td>1</td><td>&quot;P191_109_75&quot;</td><td>&quot;P10_68_40&quot;</td><td>&quot;P7_147_157&quot;</td><td>&quot;a55475b1&quot;</td><td>&quot;a55475b1&quot;</td></tr></tbody></table></div>"
      ],
      "text/plain": [
       "shape: (5, 8)\n",
       "┌─────────┬────────────┬────────────┬────────────┬────────────┬────────────┬───────────┬───────────┐\n",
       "│ case_id ┆ num_group1 ┆ num_group2 ┆ addres_dis ┆ addres_zip ┆ conts_role ┆ empls_eco ┆ empls_emp │\n",
       "│ ---     ┆ ---        ┆ ---        ┆ trict_368M ┆ _823M Zip  ┆ _79M Type  ┆ nomicalst ┆ loyer_nam │\n",
       "│ u32     ┆ u8         ┆ u8         ┆ District   ┆ code of    ┆ of contact ┆ _849M The ┆ e_740M    │\n",
       "│         ┆            ┆            ┆ of the     ┆ the        ┆ role of a  ┆ economica ┆ Employer' │\n",
       "│         ┆            ┆            ┆ person's   ┆ address.   ┆ person.    ┆ l status  ┆ s name    │\n",
       "│         ┆            ┆            ┆ address.   ┆ ---        ┆ ---        ┆ of the    ┆ (num_grou │\n",
       "│         ┆            ┆            ┆ ---        ┆ cat        ┆ cat        ┆ person    ┆ p1 -      │\n",
       "│         ┆            ┆            ┆ cat        ┆            ┆            ┆ (num_grou ┆ person,   │\n",
       "│         ┆            ┆            ┆            ┆            ┆            ┆ p1 -      ┆ num_group │\n",
       "│         ┆            ┆            ┆            ┆            ┆            ┆ person,   ┆ 2 - emplo │\n",
       "│         ┆            ┆            ┆            ┆            ┆            ┆ num_group ┆ yment).   │\n",
       "│         ┆            ┆            ┆            ┆            ┆            ┆ 2 -       ┆ ---       │\n",
       "│         ┆            ┆            ┆            ┆            ┆            ┆ emplo…    ┆ cat       │\n",
       "│         ┆            ┆            ┆            ┆            ┆            ┆ ---       ┆           │\n",
       "│         ┆            ┆            ┆            ┆            ┆            ┆ cat       ┆           │\n",
       "╞═════════╪════════════╪════════════╪════════════╪════════════╪════════════╪═══════════╪═══════════╡\n",
       "│ 5       ┆ 0          ┆ 0          ┆ a55475b1   ┆ a55475b1   ┆ a55475b1   ┆ a55475b1  ┆ a55475b1  │\n",
       "│ 6       ┆ 0          ┆ 0          ┆ P55_110_32 ┆ P10_68_40  ┆ P38_92_157 ┆ P164_110_ ┆ a55475b1  │\n",
       "│         ┆            ┆            ┆            ┆            ┆            ┆ 33        ┆           │\n",
       "│ 6       ┆ 0          ┆ 1          ┆ P55_110_32 ┆ P10_68_40  ┆ a55475b1   ┆ a55475b1  ┆ a55475b1  │\n",
       "│ 6       ┆ 1          ┆ 0          ┆ P204_92_17 ┆ P65_136_16 ┆ P38_92_157 ┆ P164_110_ ┆ a55475b1  │\n",
       "│         ┆            ┆            ┆ 8          ┆ 9          ┆            ┆ 33        ┆           │\n",
       "│ 6       ┆ 1          ┆ 1          ┆ P191_109_7 ┆ P10_68_40  ┆ P7_147_157 ┆ a55475b1  ┆ a55475b1  │\n",
       "│         ┆            ┆            ┆ 5          ┆            ┆            ┆           ┆           │\n",
       "└─────────┴────────────┴────────────┴────────────┴────────────┴────────────┴───────────┴───────────┘"
      ]
     },
     "execution_count": 33,
     "metadata": {},
     "output_type": "execute_result"
    }
   ],
   "source": [
    "train_person_depth_two_transformed = (\n",
    "    train_person_depth_two\n",
    "    .pipe(rename_cols)\n",
    "    .pipe(select_imputable_cols)\n",
    ")\n",
    "train_person_depth_two_transformed.fetch().head()"
   ]
  },
  {
   "cell_type": "code",
   "execution_count": 34,
   "metadata": {},
   "outputs": [
    {
     "data": {
      "text/html": [
       "<div><style>\n",
       ".dataframe > thead > tr,\n",
       ".dataframe > tbody > tr {\n",
       "  text-align: right;\n",
       "  white-space: pre-wrap;\n",
       "}\n",
       "</style>\n",
       "<small>shape: (1, 3)</small><table border=\"1\" class=\"dataframe\"><thead><tr><th>index</th><th>path</th><th>filename</th></tr><tr><td>i64</td><td>str</td><td>str</td></tr></thead><tbody><tr><td>24</td><td>&quot;Downloads/credit_risk/train/train_other_1.parquet&quot;</td><td>&quot;train_other_1.parquet&quot;</td></tr></tbody></table></div>"
      ],
      "text/plain": [
       "shape: (1, 3)\n",
       "┌───────┬───────────────────────────────────────────────────┬───────────────────────┐\n",
       "│ index ┆ path                                              ┆ filename              │\n",
       "│ ---   ┆ ---                                               ┆ ---                   │\n",
       "│ i64   ┆ str                                               ┆ str                   │\n",
       "╞═══════╪═══════════════════════════════════════════════════╪═══════════════════════╡\n",
       "│ 24    ┆ Downloads/credit_risk/train/train_other_1.parquet ┆ train_other_1.parquet │\n",
       "└───────┴───────────────────────────────────────────────────┴───────────────────────┘"
      ]
     },
     "execution_count": 34,
     "metadata": {},
     "output_type": "execute_result"
    }
   ],
   "source": [
    "train_files_df.filter(cs.by_name(\"filename\").str.contains(\"other\"))"
   ]
  },
  {
   "cell_type": "code",
   "execution_count": 35,
   "metadata": {},
   "outputs": [
    {
     "data": {
      "text/html": [
       "<div><style>\n",
       ".dataframe > thead > tr,\n",
       ".dataframe > tbody > tr {\n",
       "  text-align: right;\n",
       "  white-space: pre-wrap;\n",
       "}\n",
       "</style>\n",
       "<small>shape: (5, 7)</small><table border=\"1\" class=\"dataframe\"><thead><tr><th>case_id</th><th>num_group1</th><th>amtdebitincoming_4809443A</th><th>amtdebitoutgoing_4809440A</th><th>amtdepositbalance_4809441A</th><th>amtdepositincoming_4809444A</th><th>amtdepositoutgoing_4809442A</th></tr><tr><td>u32</td><td>u8</td><td>f32</td><td>f32</td><td>f32</td><td>f32</td><td>f32</td></tr></thead><tbody><tr><td>43,801</td><td>0</td><td>12,466.60</td><td>12,291.20</td><td>914.20</td><td>0.00</td><td>304.80</td></tr><tr><td>43,991</td><td>0</td><td>3,333.40</td><td>3,273.40</td><td>0.00</td><td>0.00</td><td>0.00</td></tr><tr><td>44,001</td><td>0</td><td>10,000.00</td><td>10,000.00</td><td>0.00</td><td>0.00</td><td>0.00</td></tr><tr><td>44,053</td><td>0</td><td>0.00</td><td>0.00</td><td>2,586.40</td><td>0.00</td><td>88.80</td></tr><tr><td>44,130</td><td>0</td><td>63.80</td><td>60.80</td><td>0.00</td><td>0.00</td><td>0.00</td></tr></tbody></table></div>"
      ],
      "text/plain": [
       "shape: (5, 7)\n",
       "┌─────────┬────────────┬───────────────┬──────────────┬──────────────┬──────────────┬──────────────┐\n",
       "│ case_id ┆ num_group1 ┆ amtdebitincom ┆ amtdebitoutg ┆ amtdepositba ┆ amtdepositin ┆ amtdepositou │\n",
       "│ ---     ┆ ---        ┆ ing_4809443A  ┆ oing_4809440 ┆ lance_480944 ┆ coming_48094 ┆ tgoing_48094 │\n",
       "│ u32     ┆ u8         ┆ ---           ┆ A            ┆ 1A           ┆ 44A          ┆ 42A          │\n",
       "│         ┆            ┆ f32           ┆ ---          ┆ ---          ┆ ---          ┆ ---          │\n",
       "│         ┆            ┆               ┆ f32          ┆ f32          ┆ f32          ┆ f32          │\n",
       "╞═════════╪════════════╪═══════════════╪══════════════╪══════════════╪══════════════╪══════════════╡\n",
       "│ 43,801  ┆ 0          ┆ 12,466.60     ┆ 12,291.20    ┆ 914.20       ┆ 0.00         ┆ 304.80       │\n",
       "│ 43,991  ┆ 0          ┆ 3,333.40      ┆ 3,273.40     ┆ 0.00         ┆ 0.00         ┆ 0.00         │\n",
       "│ 44,001  ┆ 0          ┆ 10,000.00     ┆ 10,000.00    ┆ 0.00         ┆ 0.00         ┆ 0.00         │\n",
       "│ 44,053  ┆ 0          ┆ 0.00          ┆ 0.00         ┆ 2,586.40     ┆ 0.00         ┆ 88.80        │\n",
       "│ 44,130  ┆ 0          ┆ 63.80         ┆ 60.80        ┆ 0.00         ┆ 0.00         ┆ 0.00         │\n",
       "└─────────┴────────────┴───────────────┴──────────────┴──────────────┴──────────────┴──────────────┘"
      ]
     },
     "execution_count": 35,
     "metadata": {},
     "output_type": "execute_result"
    }
   ],
   "source": [
    "train_other = (\n",
    "    pl.scan_parquet(all_train_files[24])\n",
    "    .drop(cs.contains(\"date\"))\n",
    "    .select(\n",
    "        cs.by_name(\"case_id\").cast(pl.UInt32),\n",
    "        cs.contains(\"num_group\").cast(pl.UInt8),\n",
    "        cs.float().cast(pl.Float32),\n",
    "        cs.string().cast(pl.Categorical)\n",
    "    )\n",
    ")\n",
    "train_other.fetch().head()"
   ]
  },
  {
   "cell_type": "code",
   "execution_count": 36,
   "metadata": {},
   "outputs": [
    {
     "data": {
      "text/html": [
       "<div><style>\n",
       ".dataframe > thead > tr,\n",
       ".dataframe > tbody > tr {\n",
       "  text-align: right;\n",
       "  white-space: pre-wrap;\n",
       "}\n",
       "</style>\n",
       "<small>shape: (5, 7)</small><table border=\"1\" class=\"dataframe\"><thead><tr><th>case_id</th><th>num_group1</th><th>amtdebitincoming_4809443A Incoming debit card transactions amount.</th><th>amtdebitoutgoing_4809440A Outgoing debit card transactions amount.</th><th>amtdepositbalance_4809441A Deposit balance of client.</th><th>amtdepositincoming_4809444A Amount of incoming deposits to client&#x27;s account.</th><th>amtdepositoutgoing_4809442A Amount of outgoing deposits from client&#x27;s account.</th></tr><tr><td>u32</td><td>u8</td><td>f32</td><td>f32</td><td>f32</td><td>f32</td><td>f32</td></tr></thead><tbody><tr><td>43,801</td><td>0</td><td>12,466.60</td><td>12,291.20</td><td>914.20</td><td>0.00</td><td>304.80</td></tr><tr><td>43,991</td><td>0</td><td>3,333.40</td><td>3,273.40</td><td>0.00</td><td>0.00</td><td>0.00</td></tr><tr><td>44,001</td><td>0</td><td>10,000.00</td><td>10,000.00</td><td>0.00</td><td>0.00</td><td>0.00</td></tr><tr><td>44,053</td><td>0</td><td>0.00</td><td>0.00</td><td>2,586.40</td><td>0.00</td><td>88.80</td></tr><tr><td>44,130</td><td>0</td><td>63.80</td><td>60.80</td><td>0.00</td><td>0.00</td><td>0.00</td></tr></tbody></table></div>"
      ],
      "text/plain": [
       "shape: (5, 7)\n",
       "┌─────────┬────────────┬───────────────┬──────────────┬──────────────┬──────────────┬──────────────┐\n",
       "│ case_id ┆ num_group1 ┆ amtdebitincom ┆ amtdebitoutg ┆ amtdepositba ┆ amtdepositin ┆ amtdepositou │\n",
       "│ ---     ┆ ---        ┆ ing_4809443A  ┆ oing_4809440 ┆ lance_480944 ┆ coming_48094 ┆ tgoing_48094 │\n",
       "│ u32     ┆ u8         ┆ Incoming      ┆ A Outgoing   ┆ 1A Deposit   ┆ 44A Amount   ┆ 42A Amount   │\n",
       "│         ┆            ┆ debit card    ┆ debit card   ┆ balance of   ┆ of incoming  ┆ of outgoing  │\n",
       "│         ┆            ┆ transactions  ┆ transactions ┆ client.      ┆ deposits to  ┆ deposits     │\n",
       "│         ┆            ┆ amount.       ┆ amount.      ┆ ---          ┆ client's     ┆ from         │\n",
       "│         ┆            ┆ ---           ┆ ---          ┆ f32          ┆ account.     ┆ client's     │\n",
       "│         ┆            ┆ f32           ┆ f32          ┆              ┆ ---          ┆ account.     │\n",
       "│         ┆            ┆               ┆              ┆              ┆ f32          ┆ ---          │\n",
       "│         ┆            ┆               ┆              ┆              ┆              ┆ f32          │\n",
       "╞═════════╪════════════╪═══════════════╪══════════════╪══════════════╪══════════════╪══════════════╡\n",
       "│ 43,801  ┆ 0          ┆ 12,466.60     ┆ 12,291.20    ┆ 914.20       ┆ 0.00         ┆ 304.80       │\n",
       "│ 43,991  ┆ 0          ┆ 3,333.40      ┆ 3,273.40     ┆ 0.00         ┆ 0.00         ┆ 0.00         │\n",
       "│ 44,001  ┆ 0          ┆ 10,000.00     ┆ 10,000.00    ┆ 0.00         ┆ 0.00         ┆ 0.00         │\n",
       "│ 44,053  ┆ 0          ┆ 0.00          ┆ 0.00         ┆ 2,586.40     ┆ 0.00         ┆ 88.80        │\n",
       "│ 44,130  ┆ 0          ┆ 63.80         ┆ 60.80        ┆ 0.00         ┆ 0.00         ┆ 0.00         │\n",
       "└─────────┴────────────┴───────────────┴──────────────┴──────────────┴──────────────┴──────────────┘"
      ]
     },
     "execution_count": 36,
     "metadata": {},
     "output_type": "execute_result"
    }
   ],
   "source": [
    "train_other_transformed = (\n",
    "    train_other\n",
    "    .pipe(rename_cols)\n",
    "    .pipe(select_imputable_cols)\n",
    ")\n",
    "train_other_transformed.fetch().head()"
   ]
  },
  {
   "cell_type": "code",
   "execution_count": 37,
   "metadata": {},
   "outputs": [
    {
     "data": {
      "text/html": [
       "<div><style>\n",
       ".dataframe > thead > tr,\n",
       ".dataframe > tbody > tr {\n",
       "  text-align: right;\n",
       "  white-space: pre-wrap;\n",
       "}\n",
       "</style>\n",
       "<small>shape: (3, 3)</small><table border=\"1\" class=\"dataframe\"><thead><tr><th>index</th><th>path</th><th>filename</th></tr><tr><td>i64</td><td>str</td><td>str</td></tr></thead><tbody><tr><td>1</td><td>&quot;Downloads/credit_risk/train/train_tax_registry_a_1.parquet&quot;</td><td>&quot;train_tax_registry_a_1.parquet&quot;</td></tr><tr><td>22</td><td>&quot;Downloads/credit_risk/train/train_tax_registry_b_1.parquet&quot;</td><td>&quot;train_tax_registry_b_1.parquet&quot;</td></tr><tr><td>23</td><td>&quot;Downloads/credit_risk/train/train_tax_registry_c_1.parquet&quot;</td><td>&quot;train_tax_registry_c_1.parquet&quot;</td></tr></tbody></table></div>"
      ],
      "text/plain": [
       "shape: (3, 3)\n",
       "┌───────┬─────────────────────────────────────────────────────────┬────────────────────────────────┐\n",
       "│ index ┆ path                                                    ┆ filename                       │\n",
       "│ ---   ┆ ---                                                     ┆ ---                            │\n",
       "│ i64   ┆ str                                                     ┆ str                            │\n",
       "╞═══════╪═════════════════════════════════════════════════════════╪════════════════════════════════╡\n",
       "│ 1     ┆ Downloads/credit_risk/train/train_tax_registry_a_1.parq ┆ train_tax_registry_a_1.parquet │\n",
       "│       ┆ uet                                                     ┆                                │\n",
       "│ 22    ┆ Downloads/credit_risk/train/train_tax_registry_b_1.parq ┆ train_tax_registry_b_1.parquet │\n",
       "│       ┆ uet                                                     ┆                                │\n",
       "│ 23    ┆ Downloads/credit_risk/train/train_tax_registry_c_1.parq ┆ train_tax_registry_c_1.parquet │\n",
       "│       ┆ uet                                                     ┆                                │\n",
       "└───────┴─────────────────────────────────────────────────────────┴────────────────────────────────┘"
      ]
     },
     "execution_count": 37,
     "metadata": {},
     "output_type": "execute_result"
    }
   ],
   "source": [
    "train_files_df.filter(cs.by_name(\"filename\").str.contains(\"registry\"))"
   ]
  },
  {
   "cell_type": "code",
   "execution_count": 38,
   "metadata": {},
   "outputs": [
    {
     "data": {
      "text/html": [
       "<div><style>\n",
       ".dataframe > thead > tr,\n",
       ".dataframe > tbody > tr {\n",
       "  text-align: right;\n",
       "  white-space: pre-wrap;\n",
       "}\n",
       "</style>\n",
       "<small>shape: (2, 4)</small><table border=\"1\" class=\"dataframe\"><thead><tr><th>case_id</th><th>amount_4527230A Tax deductions amount tracked by the government registry.</th><th>name_4527232M Name of employer.</th><th>num_group1</th></tr><tr><td>i64</td><td>f64</td><td>str</td><td>i64</td></tr></thead><tbody><tr><td>28,631</td><td>1,946.00</td><td>&quot;f980a1ea&quot;</td><td>2</td></tr><tr><td>28,631</td><td>711.00</td><td>&quot;f980a1ea&quot;</td><td>3</td></tr></tbody></table></div>"
      ],
      "text/plain": [
       "shape: (2, 4)\n",
       "┌─────────┬─────────────────────────────────────────┬─────────────────────────────────┬────────────┐\n",
       "│ case_id ┆ amount_4527230A Tax deductions amount   ┆ name_4527232M Name of employer. ┆ num_group1 │\n",
       "│ ---     ┆ tracked by the government registry.     ┆ ---                             ┆ ---        │\n",
       "│ i64     ┆ ---                                     ┆ str                             ┆ i64        │\n",
       "│         ┆ f64                                     ┆                                 ┆            │\n",
       "╞═════════╪═════════════════════════════════════════╪═════════════════════════════════╪════════════╡\n",
       "│ 28,631  ┆ 1,946.00                                ┆ f980a1ea                        ┆ 2          │\n",
       "│ 28,631  ┆ 711.00                                  ┆ f980a1ea                        ┆ 3          │\n",
       "└─────────┴─────────────────────────────────────────┴─────────────────────────────────┴────────────┘"
      ]
     },
     "metadata": {},
     "output_type": "display_data"
    },
    {
     "data": {
      "text/html": [
       "<div><style>\n",
       ".dataframe > thead > tr,\n",
       ".dataframe > tbody > tr {\n",
       "  text-align: right;\n",
       "  white-space: pre-wrap;\n",
       "}\n",
       "</style>\n",
       "<small>shape: (2, 4)</small><table border=\"1\" class=\"dataframe\"><thead><tr><th>case_id</th><th>amount_4917619A Tax deductions amount tracked by the government registry.</th><th>name_4917606M Name of employer.</th><th>num_group1</th></tr><tr><td>i64</td><td>f64</td><td>str</td><td>i64</td></tr></thead><tbody><tr><td>49,435</td><td>6,885.00</td><td>&quot;6b730375&quot;</td><td>7</td></tr><tr><td>49,435</td><td>6,885.00</td><td>&quot;6b730375&quot;</td><td>1</td></tr></tbody></table></div>"
      ],
      "text/plain": [
       "shape: (2, 4)\n",
       "┌─────────┬─────────────────────────────────────────┬─────────────────────────────────┬────────────┐\n",
       "│ case_id ┆ amount_4917619A Tax deductions amount   ┆ name_4917606M Name of employer. ┆ num_group1 │\n",
       "│ ---     ┆ tracked by the government registry.     ┆ ---                             ┆ ---        │\n",
       "│ i64     ┆ ---                                     ┆ str                             ┆ i64        │\n",
       "│         ┆ f64                                     ┆                                 ┆            │\n",
       "╞═════════╪═════════════════════════════════════════╪═════════════════════════════════╪════════════╡\n",
       "│ 49,435  ┆ 6,885.00                                ┆ 6b730375                        ┆ 7          │\n",
       "│ 49,435  ┆ 6,885.00                                ┆ 6b730375                        ┆ 1          │\n",
       "└─────────┴─────────────────────────────────────────┴─────────────────────────────────┴────────────┘"
      ]
     },
     "metadata": {},
     "output_type": "display_data"
    },
    {
     "data": {
      "text/html": [
       "<div><style>\n",
       ".dataframe > thead > tr,\n",
       ".dataframe > tbody > tr {\n",
       "  text-align: right;\n",
       "  white-space: pre-wrap;\n",
       "}\n",
       "</style>\n",
       "<small>shape: (2, 4)</small><table border=\"1\" class=\"dataframe\"><thead><tr><th>case_id</th><th>employername_160M Employer&#x27;s name.</th><th>num_group1</th><th>pmtamount_36A Tax deductions amount for credit bureau payments.</th></tr><tr><td>i64</td><td>str</td><td>i64</td><td>f64</td></tr></thead><tbody><tr><td>357</td><td>&quot;c91b12ff&quot;</td><td>5</td><td>1,100.00</td></tr><tr><td>357</td><td>&quot;c91b12ff&quot;</td><td>1</td><td>1,200.00</td></tr></tbody></table></div>"
      ],
      "text/plain": [
       "shape: (2, 4)\n",
       "┌─────────┬────────────────────────────────────┬────────────┬──────────────────────────────────────┐\n",
       "│ case_id ┆ employername_160M Employer's name. ┆ num_group1 ┆ pmtamount_36A Tax deductions amount  │\n",
       "│ ---     ┆ ---                                ┆ ---        ┆ for credit bureau payments.          │\n",
       "│ i64     ┆ str                                ┆ i64        ┆ ---                                  │\n",
       "│         ┆                                    ┆            ┆ f64                                  │\n",
       "╞═════════╪════════════════════════════════════╪════════════╪══════════════════════════════════════╡\n",
       "│ 357     ┆ c91b12ff                           ┆ 5          ┆ 1,100.00                             │\n",
       "│ 357     ┆ c91b12ff                           ┆ 1          ┆ 1,200.00                             │\n",
       "└─────────┴────────────────────────────────────┴────────────┴──────────────────────────────────────┘"
      ]
     },
     "metadata": {},
     "output_type": "display_data"
    },
    {
     "data": {
      "text/html": [
       "<div><style>\n",
       ".dataframe > thead > tr,\n",
       ".dataframe > tbody > tr {\n",
       "  text-align: right;\n",
       "  white-space: pre-wrap;\n",
       "}\n",
       "</style>\n",
       "<small>shape: (1, 1)</small><table border=\"1\" class=\"dataframe\"><thead><tr><th>total case_ids that are present in train base case ids</th></tr><tr><td>f64</td></tr></thead><tbody><tr><td>0.66</td></tr></tbody></table></div>"
      ],
      "text/plain": [
       "shape: (1, 1)\n",
       "┌────────────────────────────────────────────────────────┐\n",
       "│ total case_ids that are present in train base case ids │\n",
       "│ ---                                                    │\n",
       "│ f64                                                    │\n",
       "╞════════════════════════════════════════════════════════╡\n",
       "│ 0.66                                                   │\n",
       "└────────────────────────────────────────────────────────┘"
      ]
     },
     "execution_count": 38,
     "metadata": {},
     "output_type": "execute_result"
    }
   ],
   "source": [
    "train_first_registry = (\n",
    "    pl.scan_parquet(all_train_files[1])\n",
    "    .drop(cs.contains(\"date\"))\n",
    "    .pipe(rename_cols)\n",
    ")\n",
    "display(train_first_registry.fetch().head(2))\n",
    "train_second_registry = (\n",
    "    pl.scan_parquet(all_train_files[22])\n",
    "    .drop(cs.contains(\"date\"))\n",
    "    .pipe(rename_cols)\n",
    ")\n",
    "display(train_second_registry.fetch().head(2))\n",
    "train_third_registry = (\n",
    "    pl.scan_parquet(all_train_files[23])\n",
    "    .drop(cs.contains(\"date\"))\n",
    "    .pipe(rename_cols)\n",
    ")\n",
    "display(train_third_registry.fetch().head(2))\n",
    "(\n",
    "    pl.concat(\n",
    "        [\n",
    "            train_first_registry.select(cs.by_name('case_id').unique()),\n",
    "            train_second_registry.select(cs.by_name(\"case_id\").unique()),\n",
    "            train_third_registry.select(cs.by_name(\"case_id\").unique())\n",
    "        ],\n",
    "        how=\"vertical\"\n",
    "    )\n",
    "    .with_context(\n",
    "        train_base\n",
    "    )\n",
    "    .select(pl.col(\"case_id_base\").is_in(pl.col(\"case_id\")).mean().alias(\"total case_ids that are present in train base case ids\"))\n",
    "    .collect()\n",
    ")"
   ]
  },
  {
   "cell_type": "code",
   "execution_count": 39,
   "metadata": {},
   "outputs": [
    {
     "data": {
      "text/html": [
       "<div><style>\n",
       ".dataframe > thead > tr,\n",
       ".dataframe > tbody > tr {\n",
       "  text-align: right;\n",
       "  white-space: pre-wrap;\n",
       "}\n",
       "</style>\n",
       "<small>shape: (4, 3)</small><table border=\"1\" class=\"dataframe\"><thead><tr><th>index</th><th>path</th><th>filename</th></tr><tr><td>i64</td><td>str</td><td>str</td></tr></thead><tbody><tr><td>11</td><td>&quot;Downloads/credit_risk/train/train_credit_bureau_a_1_0.parquet&quot;</td><td>&quot;train_credit_bureau_a_1_0.parquet&quot;</td></tr><tr><td>14</td><td>&quot;Downloads/credit_risk/train/train_credit_bureau_a_1_1.parquet&quot;</td><td>&quot;train_credit_bureau_a_1_1.parquet&quot;</td></tr><tr><td>28</td><td>&quot;Downloads/credit_risk/train/train_credit_bureau_a_1_2.parquet&quot;</td><td>&quot;train_credit_bureau_a_1_2.parquet&quot;</td></tr><tr><td>9</td><td>&quot;Downloads/credit_risk/train/train_credit_bureau_a_1_3.parquet&quot;</td><td>&quot;train_credit_bureau_a_1_3.parquet&quot;</td></tr></tbody></table></div>"
      ],
      "text/plain": [
       "shape: (4, 3)\n",
       "┌───────┬──────────────────────────────────────────────────────┬───────────────────────────────────┐\n",
       "│ index ┆ path                                                 ┆ filename                          │\n",
       "│ ---   ┆ ---                                                  ┆ ---                               │\n",
       "│ i64   ┆ str                                                  ┆ str                               │\n",
       "╞═══════╪══════════════════════════════════════════════════════╪═══════════════════════════════════╡\n",
       "│ 11    ┆ Downloads/credit_risk/train/train_credit_bureau_a_1_ ┆ train_credit_bureau_a_1_0.parquet │\n",
       "│       ┆ 0.parquet                                            ┆                                   │\n",
       "│ 14    ┆ Downloads/credit_risk/train/train_credit_bureau_a_1_ ┆ train_credit_bureau_a_1_1.parquet │\n",
       "│       ┆ 1.parquet                                            ┆                                   │\n",
       "│ 28    ┆ Downloads/credit_risk/train/train_credit_bureau_a_1_ ┆ train_credit_bureau_a_1_2.parquet │\n",
       "│       ┆ 2.parquet                                            ┆                                   │\n",
       "│ 9     ┆ Downloads/credit_risk/train/train_credit_bureau_a_1_ ┆ train_credit_bureau_a_1_3.parquet │\n",
       "│       ┆ 3.parquet                                            ┆                                   │\n",
       "└───────┴──────────────────────────────────────────────────────┴───────────────────────────────────┘"
      ]
     },
     "execution_count": 39,
     "metadata": {},
     "output_type": "execute_result"
    }
   ],
   "source": [
    "train_files_df.filter(pl.col(\"filename\").str.contains(\"_a_1_\"))"
   ]
  },
  {
   "cell_type": "code",
   "execution_count": 40,
   "metadata": {},
   "outputs": [
    {
     "data": {
      "text/html": [
       "<div><style>\n",
       ".dataframe > thead > tr,\n",
       ".dataframe > tbody > tr {\n",
       "  text-align: right;\n",
       "  white-space: pre-wrap;\n",
       "}\n",
       "</style>\n",
       "<small>shape: (5, 61)</small><table border=\"1\" class=\"dataframe\"><thead><tr><th>case_id</th><th>num_group1</th><th>annualeffectiverate_199L</th><th>annualeffectiverate_63L</th><th>contractsum_5085717L</th><th>credlmt_230A</th><th>credlmt_935A</th><th>debtoutstand_525A</th><th>debtoverdue_47A</th><th>dpdmax_139P</th><th>dpdmax_757P</th><th>instlamount_768A</th><th>instlamount_852A</th><th>interestrate_508L</th><th>monthlyinstlamount_332A</th><th>monthlyinstlamount_674A</th><th>nominalrate_281L</th><th>nominalrate_498L</th><th>numberofcontrsvalue_258L</th><th>numberofcontrsvalue_358L</th><th>numberofinstls_229L</th><th>numberofinstls_320L</th><th>numberofoutstandinstls_520L</th><th>numberofoutstandinstls_59L</th><th>numberofoverdueinstlmax_1039L</th><th>numberofoverdueinstlmax_1151L</th><th>numberofoverdueinstls_725L</th><th>numberofoverdueinstls_834L</th><th>outstandingamount_354A</th><th>outstandingamount_362A</th><th>overdueamount_31A</th><th>overdueamount_659A</th><th>overdueamountmax2_14A</th><th>overdueamountmax2_398A</th><th>overdueamountmax_155A</th><th>overdueamountmax_35A</th><th>periodicityofpmts_1102L</th><th>periodicityofpmts_837L</th><th>prolongationcount_1120L</th><th>prolongationcount_599L</th><th>residualamount_488A</th><th>residualamount_856A</th><th>totalamount_6A</th><th>totalamount_996A</th><th>totaldebtoverduevalue_178A</th><th>totaldebtoverduevalue_718A</th><th>totaloutstanddebtvalue_39A</th><th>totaloutstanddebtvalue_668A</th><th>classificationofcontr_13M</th><th>classificationofcontr_400M</th><th>contractst_545M</th><th>contractst_964M</th><th>description_351M</th><th>financialinstitution_382M</th><th>financialinstitution_591M</th><th>numberofoverdueinstlmaxdat_148D</th><th>numberofoverdueinstlmaxdat_641D</th><th>purposeofcred_426M</th><th>purposeofcred_874M</th><th>subjectrole_182M</th><th>subjectrole_93M</th></tr><tr><td>u32</td><td>u16</td><td>f32</td><td>f32</td><td>f32</td><td>f32</td><td>f32</td><td>f32</td><td>f32</td><td>f32</td><td>f32</td><td>f32</td><td>f32</td><td>f32</td><td>f32</td><td>f32</td><td>f32</td><td>f32</td><td>f32</td><td>f32</td><td>f32</td><td>f32</td><td>f32</td><td>f32</td><td>f32</td><td>f32</td><td>f32</td><td>f32</td><td>f32</td><td>f32</td><td>f32</td><td>f32</td><td>f32</td><td>f32</td><td>f32</td><td>f32</td><td>f32</td><td>f32</td><td>f32</td><td>f32</td><td>f32</td><td>f32</td><td>f32</td><td>f32</td><td>f32</td><td>f32</td><td>f32</td><td>f32</td><td>cat</td><td>cat</td><td>cat</td><td>cat</td><td>cat</td><td>cat</td><td>cat</td><td>cat</td><td>cat</td><td>cat</td><td>cat</td><td>cat</td><td>cat</td></tr></thead><tbody><tr><td>388</td><td>0</td><td>null</td><td>null</td><td>null</td><td>null</td><td>null</td><td>374,419.50</td><td>0.00</td><td>0.00</td><td>null</td><td>null</td><td>null</td><td>null</td><td>7,811.45</td><td>null</td><td>null</td><td>null</td><td>2.00</td><td>1.00</td><td>null</td><td>60.00</td><td>null</td><td>54.00</td><td>0.00</td><td>null</td><td>0.00</td><td>null</td><td>null</td><td>260,093.70</td><td>null</td><td>0.00</td><td>0.00</td><td>null</td><td>0.00</td><td>null</td><td>null</td><td>30.00</td><td>null</td><td>null</td><td>null</td><td>null</td><td>null</td><td>268,897.62</td><td>0.00</td><td>0.00</td><td>374,419.50</td><td>0.00</td><td>&quot;4408ff0f&quot;</td><td>&quot;a55475b1&quot;</td><td>&quot;7241344e&quot;</td><td>&quot;a55475b1&quot;</td><td>&quot;a55475b1&quot;</td><td>&quot;a55475b1&quot;</td><td>&quot;55b002a9&quot;</td><td>null</td><td>null</td><td>&quot;96a8fdfe&quot;</td><td>&quot;a55475b1&quot;</td><td>&quot;ab3c25cf&quot;</td><td>&quot;ab3c25cf&quot;</td></tr><tr><td>388</td><td>1</td><td>null</td><td>null</td><td>null</td><td>null</td><td>135,806.00</td><td>null</td><td>null</td><td>0.00</td><td>null</td><td>8,742.80</td><td>null</td><td>null</td><td>8,742.80</td><td>null</td><td>null</td><td>null</td><td>null</td><td>null</td><td>null</td><td>null</td><td>null</td><td>null</td><td>0.00</td><td>null</td><td>0.00</td><td>null</td><td>null</td><td>null</td><td>null</td><td>0.00</td><td>0.00</td><td>null</td><td>0.00</td><td>null</td><td>null</td><td>null</td><td>null</td><td>null</td><td>null</td><td>114,325.80</td><td>null</td><td>null</td><td>null</td><td>null</td><td>null</td><td>null</td><td>&quot;ea6782cc&quot;</td><td>&quot;a55475b1&quot;</td><td>&quot;7241344e&quot;</td><td>&quot;a55475b1&quot;</td><td>&quot;a55475b1&quot;</td><td>&quot;a55475b1&quot;</td><td>&quot;P204_66_73&quot;</td><td>null</td><td>null</td><td>&quot;60c73645&quot;</td><td>&quot;a55475b1&quot;</td><td>&quot;a55475b1&quot;</td><td>&quot;a55475b1&quot;</td></tr><tr><td>388</td><td>2</td><td>null</td><td>null</td><td>null</td><td>null</td><td>null</td><td>null</td><td>null</td><td>null</td><td>null</td><td>null</td><td>null</td><td>null</td><td>null</td><td>null</td><td>null</td><td>null</td><td>null</td><td>null</td><td>null</td><td>null</td><td>null</td><td>null</td><td>null</td><td>null</td><td>null</td><td>null</td><td>null</td><td>null</td><td>null</td><td>null</td><td>null</td><td>null</td><td>null</td><td>null</td><td>null</td><td>null</td><td>null</td><td>null</td><td>null</td><td>null</td><td>null</td><td>null</td><td>null</td><td>null</td><td>null</td><td>null</td><td>&quot;a55475b1&quot;</td><td>&quot;a55475b1&quot;</td><td>&quot;a55475b1&quot;</td><td>&quot;a55475b1&quot;</td><td>&quot;a55475b1&quot;</td><td>&quot;a55475b1&quot;</td><td>&quot;a55475b1&quot;</td><td>null</td><td>null</td><td>&quot;a55475b1&quot;</td><td>&quot;a55475b1&quot;</td><td>&quot;a55475b1&quot;</td><td>&quot;a55475b1&quot;</td></tr><tr><td>388</td><td>3</td><td>null</td><td>null</td><td>null</td><td>null</td><td>null</td><td>null</td><td>null</td><td>null</td><td>null</td><td>null</td><td>null</td><td>null</td><td>null</td><td>null</td><td>null</td><td>null</td><td>null</td><td>null</td><td>null</td><td>null</td><td>null</td><td>null</td><td>null</td><td>null</td><td>null</td><td>null</td><td>null</td><td>null</td><td>null</td><td>null</td><td>null</td><td>null</td><td>null</td><td>null</td><td>null</td><td>null</td><td>null</td><td>null</td><td>null</td><td>null</td><td>null</td><td>null</td><td>null</td><td>null</td><td>null</td><td>null</td><td>&quot;a55475b1&quot;</td><td>&quot;a55475b1&quot;</td><td>&quot;a55475b1&quot;</td><td>&quot;a55475b1&quot;</td><td>&quot;a55475b1&quot;</td><td>&quot;a55475b1&quot;</td><td>&quot;a55475b1&quot;</td><td>null</td><td>null</td><td>&quot;a55475b1&quot;</td><td>&quot;a55475b1&quot;</td><td>&quot;a55475b1&quot;</td><td>&quot;a55475b1&quot;</td></tr><tr><td>388</td><td>4</td><td>null</td><td>null</td><td>null</td><td>null</td><td>null</td><td>null</td><td>null</td><td>null</td><td>null</td><td>null</td><td>null</td><td>null</td><td>null</td><td>null</td><td>null</td><td>null</td><td>null</td><td>null</td><td>null</td><td>null</td><td>null</td><td>null</td><td>null</td><td>null</td><td>null</td><td>null</td><td>null</td><td>null</td><td>null</td><td>null</td><td>null</td><td>null</td><td>null</td><td>null</td><td>null</td><td>null</td><td>null</td><td>null</td><td>null</td><td>null</td><td>null</td><td>null</td><td>null</td><td>null</td><td>null</td><td>null</td><td>&quot;a55475b1&quot;</td><td>&quot;a55475b1&quot;</td><td>&quot;a55475b1&quot;</td><td>&quot;a55475b1&quot;</td><td>&quot;a55475b1&quot;</td><td>&quot;a55475b1&quot;</td><td>&quot;a55475b1&quot;</td><td>null</td><td>null</td><td>&quot;a55475b1&quot;</td><td>&quot;a55475b1&quot;</td><td>&quot;a55475b1&quot;</td><td>&quot;a55475b1&quot;</td></tr></tbody></table></div>"
      ],
      "text/plain": [
       "shape: (5, 61)\n",
       "┌─────────┬────────────┬───────────┬───────────┬───┬───────────┬───────────┬───────────┬───────────┐\n",
       "│ case_id ┆ num_group1 ┆ annualeff ┆ annualeff ┆ … ┆ purposeof ┆ purposeof ┆ subjectro ┆ subjectro │\n",
       "│ ---     ┆ ---        ┆ ectiverat ┆ ectiverat ┆   ┆ cred_426M ┆ cred_874M ┆ le_182M   ┆ le_93M    │\n",
       "│ u32     ┆ u16        ┆ e_199L    ┆ e_63L     ┆   ┆ ---       ┆ ---       ┆ ---       ┆ ---       │\n",
       "│         ┆            ┆ ---       ┆ ---       ┆   ┆ cat       ┆ cat       ┆ cat       ┆ cat       │\n",
       "│         ┆            ┆ f32       ┆ f32       ┆   ┆           ┆           ┆           ┆           │\n",
       "╞═════════╪════════════╪═══════════╪═══════════╪═══╪═══════════╪═══════════╪═══════════╪═══════════╡\n",
       "│ 388     ┆ 0          ┆ null      ┆ null      ┆ … ┆ 96a8fdfe  ┆ a55475b1  ┆ ab3c25cf  ┆ ab3c25cf  │\n",
       "│ 388     ┆ 1          ┆ null      ┆ null      ┆ … ┆ 60c73645  ┆ a55475b1  ┆ a55475b1  ┆ a55475b1  │\n",
       "│ 388     ┆ 2          ┆ null      ┆ null      ┆ … ┆ a55475b1  ┆ a55475b1  ┆ a55475b1  ┆ a55475b1  │\n",
       "│ 388     ┆ 3          ┆ null      ┆ null      ┆ … ┆ a55475b1  ┆ a55475b1  ┆ a55475b1  ┆ a55475b1  │\n",
       "│ 388     ┆ 4          ┆ null      ┆ null      ┆ … ┆ a55475b1  ┆ a55475b1  ┆ a55475b1  ┆ a55475b1  │\n",
       "└─────────┴────────────┴───────────┴───────────┴───┴───────────┴───────────┴───────────┴───────────┘"
      ]
     },
     "execution_count": 40,
     "metadata": {},
     "output_type": "execute_result"
    }
   ],
   "source": [
    "train_credit_bureau = (\n",
    "    pl.scan_parquet(\"Downloads/credit_risk/train/train_credit_bureau_a_1_*.parquet\")\n",
    "    .drop(cs.contains(\"date\"))\n",
    "    .select(\n",
    "        cs.by_name(\"case_id\").cast(pl.UInt32),\n",
    "        cs.contains(\"num_group\").cast(pl.UInt16),\n",
    "        cs.float().cast(pl.Float32),\n",
    "        cs.string().cast(pl.Categorical)\n",
    "    )\n",
    ")\n",
    "train_credit_bureau.fetch().head()"
   ]
  },
  {
   "cell_type": "code",
   "execution_count": 41,
   "metadata": {},
   "outputs": [
    {
     "data": {
      "text/html": [
       "<div><style>\n",
       ".dataframe > thead > tr,\n",
       ".dataframe > tbody > tr {\n",
       "  text-align: right;\n",
       "  white-space: pre-wrap;\n",
       "}\n",
       "</style>\n",
       "<small>shape: (5, 13)</small><table border=\"1\" class=\"dataframe\"><thead><tr><th>case_id</th><th>num_group1</th><th>classificationofcontr_13M Classificiation of the active contract.</th><th>classificationofcontr_400M Classificiation of the closed contract.</th><th>contractst_545M Contract status.</th><th>contractst_964M Contract status of terminated credit contract.</th><th>description_351M Categorization of clients by credit bureau.</th><th>financialinstitution_382M Name of financial institution that is linked to a closed contract.</th><th>financialinstitution_591M Financial institution name of the active contract.</th><th>purposeofcred_426M Purpose of credit for active contract.</th><th>purposeofcred_874M Purpose of credit on a closed contract.</th><th>subjectrole_182M Subject role in active credit contract.</th><th>subjectrole_93M Subject role in closed credit contract.</th></tr><tr><td>u32</td><td>u16</td><td>cat</td><td>cat</td><td>cat</td><td>cat</td><td>cat</td><td>cat</td><td>cat</td><td>cat</td><td>cat</td><td>cat</td><td>cat</td></tr></thead><tbody><tr><td>388</td><td>0</td><td>&quot;4408ff0f&quot;</td><td>&quot;a55475b1&quot;</td><td>&quot;7241344e&quot;</td><td>&quot;a55475b1&quot;</td><td>&quot;a55475b1&quot;</td><td>&quot;a55475b1&quot;</td><td>&quot;55b002a9&quot;</td><td>&quot;96a8fdfe&quot;</td><td>&quot;a55475b1&quot;</td><td>&quot;ab3c25cf&quot;</td><td>&quot;ab3c25cf&quot;</td></tr><tr><td>388</td><td>1</td><td>&quot;ea6782cc&quot;</td><td>&quot;a55475b1&quot;</td><td>&quot;7241344e&quot;</td><td>&quot;a55475b1&quot;</td><td>&quot;a55475b1&quot;</td><td>&quot;a55475b1&quot;</td><td>&quot;P204_66_73&quot;</td><td>&quot;60c73645&quot;</td><td>&quot;a55475b1&quot;</td><td>&quot;a55475b1&quot;</td><td>&quot;a55475b1&quot;</td></tr><tr><td>388</td><td>2</td><td>&quot;a55475b1&quot;</td><td>&quot;a55475b1&quot;</td><td>&quot;a55475b1&quot;</td><td>&quot;a55475b1&quot;</td><td>&quot;a55475b1&quot;</td><td>&quot;a55475b1&quot;</td><td>&quot;a55475b1&quot;</td><td>&quot;a55475b1&quot;</td><td>&quot;a55475b1&quot;</td><td>&quot;a55475b1&quot;</td><td>&quot;a55475b1&quot;</td></tr><tr><td>388</td><td>3</td><td>&quot;a55475b1&quot;</td><td>&quot;a55475b1&quot;</td><td>&quot;a55475b1&quot;</td><td>&quot;a55475b1&quot;</td><td>&quot;a55475b1&quot;</td><td>&quot;a55475b1&quot;</td><td>&quot;a55475b1&quot;</td><td>&quot;a55475b1&quot;</td><td>&quot;a55475b1&quot;</td><td>&quot;a55475b1&quot;</td><td>&quot;a55475b1&quot;</td></tr><tr><td>388</td><td>4</td><td>&quot;a55475b1&quot;</td><td>&quot;a55475b1&quot;</td><td>&quot;a55475b1&quot;</td><td>&quot;a55475b1&quot;</td><td>&quot;a55475b1&quot;</td><td>&quot;a55475b1&quot;</td><td>&quot;a55475b1&quot;</td><td>&quot;a55475b1&quot;</td><td>&quot;a55475b1&quot;</td><td>&quot;a55475b1&quot;</td><td>&quot;a55475b1&quot;</td></tr></tbody></table></div>"
      ],
      "text/plain": [
       "shape: (5, 13)\n",
       "┌─────────┬────────────┬───────────┬───────────┬───┬───────────┬───────────┬───────────┬───────────┐\n",
       "│ case_id ┆ num_group1 ┆ classific ┆ classific ┆ … ┆ purposeof ┆ purposeof ┆ subjectro ┆ subjectro │\n",
       "│ ---     ┆ ---        ┆ ationofco ┆ ationofco ┆   ┆ cred_426M ┆ cred_874M ┆ le_182M   ┆ le_93M    │\n",
       "│ u32     ┆ u16        ┆ ntr_13M   ┆ ntr_400M  ┆   ┆ Purpose   ┆ Purpose   ┆ Subject   ┆ Subject   │\n",
       "│         ┆            ┆ Classific ┆ Classific ┆   ┆ of credit ┆ of credit ┆ role in   ┆ role in   │\n",
       "│         ┆            ┆ iation of ┆ iation of ┆   ┆ for       ┆ on a      ┆ active    ┆ closed    │\n",
       "│         ┆            ┆ the       ┆ the       ┆   ┆ active    ┆ closed    ┆ credit    ┆ credit    │\n",
       "│         ┆            ┆ active    ┆ closed    ┆   ┆ contract. ┆ contract. ┆ contract. ┆ contract. │\n",
       "│         ┆            ┆ contract. ┆ contract. ┆   ┆ ---       ┆ ---       ┆ ---       ┆ ---       │\n",
       "│         ┆            ┆ ---       ┆ ---       ┆   ┆ cat       ┆ cat       ┆ cat       ┆ cat       │\n",
       "│         ┆            ┆ cat       ┆ cat       ┆   ┆           ┆           ┆           ┆           │\n",
       "╞═════════╪════════════╪═══════════╪═══════════╪═══╪═══════════╪═══════════╪═══════════╪═══════════╡\n",
       "│ 388     ┆ 0          ┆ 4408ff0f  ┆ a55475b1  ┆ … ┆ 96a8fdfe  ┆ a55475b1  ┆ ab3c25cf  ┆ ab3c25cf  │\n",
       "│ 388     ┆ 1          ┆ ea6782cc  ┆ a55475b1  ┆ … ┆ 60c73645  ┆ a55475b1  ┆ a55475b1  ┆ a55475b1  │\n",
       "│ 388     ┆ 2          ┆ a55475b1  ┆ a55475b1  ┆ … ┆ a55475b1  ┆ a55475b1  ┆ a55475b1  ┆ a55475b1  │\n",
       "│ 388     ┆ 3          ┆ a55475b1  ┆ a55475b1  ┆ … ┆ a55475b1  ┆ a55475b1  ┆ a55475b1  ┆ a55475b1  │\n",
       "│ 388     ┆ 4          ┆ a55475b1  ┆ a55475b1  ┆ … ┆ a55475b1  ┆ a55475b1  ┆ a55475b1  ┆ a55475b1  │\n",
       "└─────────┴────────────┴───────────┴───────────┴───┴───────────┴───────────┴───────────┴───────────┘"
      ]
     },
     "execution_count": 41,
     "metadata": {},
     "output_type": "execute_result"
    }
   ],
   "source": [
    "train_credit_bureau_transformed = (\n",
    "    train_credit_bureau\n",
    "    .pipe(rename_cols)\n",
    "    .pipe(select_imputable_cols)\n",
    ")\n",
    "train_credit_bureau_transformed.fetch().head()"
   ]
  },
  {
   "cell_type": "code",
   "execution_count": 47,
   "metadata": {},
   "outputs": [
    {
     "data": {
      "text/html": [
       "<div><style>\n",
       ".dataframe > thead > tr,\n",
       ".dataframe > tbody > tr {\n",
       "  text-align: right;\n",
       "  white-space: pre-wrap;\n",
       "}\n",
       "</style>\n",
       "<small>shape: (1, 1)</small><table border=\"1\" class=\"dataframe\"><thead><tr><th>case_id_base</th></tr><tr><td>f64</td></tr></thead><tbody><tr><td>0.91</td></tr></tbody></table></div>"
      ],
      "text/plain": [
       "shape: (1, 1)\n",
       "┌──────────────┐\n",
       "│ case_id_base │\n",
       "│ ---          │\n",
       "│ f64          │\n",
       "╞══════════════╡\n",
       "│ 0.91         │\n",
       "└──────────────┘"
      ]
     },
     "execution_count": 47,
     "metadata": {},
     "output_type": "execute_result"
    }
   ],
   "source": [
    "(\n",
    "    train_credit_bureau_transformed\n",
    "    .select(\"case_id\")\n",
    "    .with_context(\n",
    "        train_base.select(\"case_id_base\")\n",
    "    )\n",
    "    .select(\n",
    "        pl.col(\"case_id_base\").is_in(pl.col('case_id')).mean()\n",
    "    )\n",
    "    .collect()\n",
    ")"
   ]
  }
 ],
 "metadata": {
  "kernelspec": {
   "display_name": "base",
   "language": "python",
   "name": "python3"
  },
  "language_info": {
   "codemirror_mode": {
    "name": "ipython",
    "version": 3
   },
   "file_extension": ".py",
   "mimetype": "text/x-python",
   "name": "python",
   "nbconvert_exporter": "python",
   "pygments_lexer": "ipython3",
   "version": "3.11.7"
  }
 },
 "nbformat": 4,
 "nbformat_minor": 2
}
