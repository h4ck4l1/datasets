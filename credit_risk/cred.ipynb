{
 "cells": [
  {
   "cell_type": "code",
   "execution_count": 63,
   "metadata": {},
   "outputs": [
    {
     "data": {
      "text/plain": [
       "'بِسْمِ اللهِ الرَّحْمٰنِ الرَّحِيْمِ'"
      ]
     },
     "execution_count": 63,
     "metadata": {},
     "output_type": "execute_result"
    }
   ],
   "source": [
    "'''بِسْمِ اللهِ الرَّحْمٰنِ الرَّحِيْمِ'''"
   ]
  },
  {
   "cell_type": "code",
   "execution_count": 64,
   "metadata": {},
   "outputs": [
    {
     "data": {
      "text/plain": [
       "'سُبْحَـٰنَكَ لَا عِلْمَ لَنَآ إِلَّا مَا عَلَّمْتَنَآ ۖ إِنَّكَ أَنتَ الْعَلِيمُ الْحَكِيمُ'"
      ]
     },
     "execution_count": 64,
     "metadata": {},
     "output_type": "execute_result"
    }
   ],
   "source": [
    "'''سُبْحَـٰنَكَ لَا عِلْمَ لَنَآ إِلَّا مَا عَلَّمْتَنَآ ۖ إِنَّكَ أَنتَ الْعَلِيمُ الْحَكِيمُ'''"
   ]
  },
  {
   "cell_type": "code",
   "execution_count": 65,
   "metadata": {},
   "outputs": [
    {
     "data": {
      "text/html": [
       "\n",
       "<style>\n",
       "    * {\n",
       "        font-family: Monaco;\n",
       "    }\n",
       "</style>\n"
      ],
      "text/plain": [
       "<IPython.core.display.HTML object>"
      ]
     },
     "execution_count": 65,
     "metadata": {},
     "output_type": "execute_result"
    }
   ],
   "source": [
    "from IPython.core.display import HTML\n",
    "HTML(r\"\"\"\n",
    "<style>\n",
    "    * {\n",
    "        font-family: Monaco;\n",
    "    }\n",
    "</style>\n",
    "\"\"\")"
   ]
  },
  {
   "cell_type": "code",
   "execution_count": 66,
   "metadata": {},
   "outputs": [
    {
     "data": {
      "text/plain": [
       "12"
      ]
     },
     "execution_count": 66,
     "metadata": {},
     "output_type": "execute_result"
    }
   ],
   "source": [
    "import os,sys,warnings,re,math,gc,time\n",
    "warnings.filterwarnings(\"ignore\")\n",
    "os.cpu_count()"
   ]
  },
  {
   "cell_type": "code",
   "execution_count": 67,
   "metadata": {},
   "outputs": [
    {
     "name": "stdout",
     "output_type": "stream",
     "text": [
      "Exception reporting mode: Minimal\n"
     ]
    }
   ],
   "source": [
    "os.environ[\"POLARS_MAX_THREADS\"] = \"40\"\n",
    "import numpy as np\n",
    "import pandas as pd\n",
    "import polars as pl\n",
    "import polars.selectors as cs\n",
    "from glob import glob\n",
    "from pathlib import Path\n",
    "from tqdm import tqdm\n",
    "from concurrent.futures import ThreadPoolExecutor\n",
    "import plotly.express as px\n",
    "import plotly.graph_objects as go\n",
    "import plotly.io as pio\n",
    "from plotly.subplots import make_subplots\n",
    "pio.templates[\"mod\"] = go.layout.Template(layout=dict(font=dict(family=\"Monaco\",size=15)))\n",
    "pio.templates.default = \"mod+plotly_dark\"\n",
    "from sklearn.metrics import auc,roc_auc_score\n",
    "from sklearn.model_selection import train_test_split\n",
    "import lightgbm as lgb\n",
    "import miceforest as mf\n",
    "from miceforest import mean_match_shap,mean_match_default,mean_match_fast_cat\n",
    "%xmode Minimal"
   ]
  },
  {
   "cell_type": "code",
   "execution_count": 68,
   "metadata": {},
   "outputs": [
    {
     "data": {
      "text/plain": [
       "polars.config.Config"
      ]
     },
     "execution_count": 68,
     "metadata": {},
     "output_type": "execute_result"
    }
   ],
   "source": [
    "pl.Config.set_fmt_str_lengths(100)\n",
    "pl.Config.set_thousands_separator(\",\")\n",
    "pl.Config.set_float_precision(2)\n",
    "pl.Config.set_fmt_float(\"full\")\n",
    "pl.Config.set_tbl_rows(40)"
   ]
  },
  {
   "cell_type": "code",
   "execution_count": 69,
   "metadata": {},
   "outputs": [],
   "source": [
    "path_to_train = Path(\"Downloads/credit_risk/train/\")\n",
    "path_to_test = Path(\"Downloads/credit_risk/test/\")\n",
    "path_to_features = Path(\"Downloads/feature_definitions.csv\")"
   ]
  },
  {
   "cell_type": "code",
   "execution_count": 70,
   "metadata": {},
   "outputs": [
    {
     "data": {
      "text/html": [
       "<div><style>\n",
       ".dataframe > thead > tr,\n",
       ".dataframe > tbody > tr {\n",
       "  text-align: right;\n",
       "  white-space: pre-wrap;\n",
       "}\n",
       "</style>\n",
       "<small>shape: (5, 2)</small><table border=\"1\" class=\"dataframe\"><thead><tr><th>Variable</th><th>Description</th></tr><tr><td>str</td><td>str</td></tr></thead><tbody><tr><td>&quot;actualdpd_943P&quot;</td><td>&quot;Days Past Due (DPD) of previous contract (actual).&quot;</td></tr><tr><td>&quot;actualdpdtolerance_344P&quot;</td><td>&quot;DPD of client with tolerance.&quot;</td></tr><tr><td>&quot;addres_district_368M&quot;</td><td>&quot;District of the person&#x27;s address.&quot;</td></tr><tr><td>&quot;addres_role_871L&quot;</td><td>&quot;Role of person&#x27;s address.&quot;</td></tr><tr><td>&quot;addres_zip_823M&quot;</td><td>&quot;Zip code of the address.&quot;</td></tr></tbody></table></div>"
      ],
      "text/plain": [
       "shape: (5, 2)\n",
       "┌─────────────────────────┬────────────────────────────────────────────────────┐\n",
       "│ Variable                ┆ Description                                        │\n",
       "│ ---                     ┆ ---                                                │\n",
       "│ str                     ┆ str                                                │\n",
       "╞═════════════════════════╪════════════════════════════════════════════════════╡\n",
       "│ actualdpd_943P          ┆ Days Past Due (DPD) of previous contract (actual). │\n",
       "│ actualdpdtolerance_344P ┆ DPD of client with tolerance.                      │\n",
       "│ addres_district_368M    ┆ District of the person's address.                  │\n",
       "│ addres_role_871L        ┆ Role of person's address.                          │\n",
       "│ addres_zip_823M         ┆ Zip code of the address.                           │\n",
       "└─────────────────────────┴────────────────────────────────────────────────────┘"
      ]
     },
     "execution_count": 70,
     "metadata": {},
     "output_type": "execute_result"
    }
   ],
   "source": [
    "feat_df = pl.read_csv(path_to_features)\n",
    "feat_df.head()"
   ]
  },
  {
   "cell_type": "code",
   "execution_count": 71,
   "metadata": {},
   "outputs": [
    {
     "data": {
      "text/html": [
       "<div><style>\n",
       ".dataframe > thead > tr,\n",
       ".dataframe > tbody > tr {\n",
       "  text-align: right;\n",
       "  white-space: pre-wrap;\n",
       "}\n",
       "</style>\n",
       "<small>shape: (5, 3)</small><table border=\"1\" class=\"dataframe\"><thead><tr><th>index</th><th>path</th><th>filename</th></tr><tr><td>i64</td><td>str</td><td>str</td></tr></thead><tbody><tr><td>31</td><td>&quot;Downloads/credit_risk/train/train_applprev_1_0.parquet&quot;</td><td>&quot;train_applprev_1_0.parquet&quot;</td></tr><tr><td>13</td><td>&quot;Downloads/credit_risk/train/train_applprev_1_1.parquet&quot;</td><td>&quot;train_applprev_1_1.parquet&quot;</td></tr><tr><td>0</td><td>&quot;Downloads/credit_risk/train/train_applprev_2.parquet&quot;</td><td>&quot;train_applprev_2.parquet&quot;</td></tr><tr><td>7</td><td>&quot;Downloads/credit_risk/train/train_base.parquet&quot;</td><td>&quot;train_base.parquet&quot;</td></tr><tr><td>11</td><td>&quot;Downloads/credit_risk/train/train_credit_bureau_a_1_0.parquet&quot;</td><td>&quot;train_credit_bureau_a_1_0.parquet&quot;</td></tr></tbody></table></div>"
      ],
      "text/plain": [
       "shape: (5, 3)\n",
       "┌───────┬──────────────────────────────────────────────────────┬───────────────────────────────────┐\n",
       "│ index ┆ path                                                 ┆ filename                          │\n",
       "│ ---   ┆ ---                                                  ┆ ---                               │\n",
       "│ i64   ┆ str                                                  ┆ str                               │\n",
       "╞═══════╪══════════════════════════════════════════════════════╪═══════════════════════════════════╡\n",
       "│ 31    ┆ Downloads/credit_risk/train/train_applprev_1_0.parqu ┆ train_applprev_1_0.parquet        │\n",
       "│       ┆ et                                                   ┆                                   │\n",
       "│ 13    ┆ Downloads/credit_risk/train/train_applprev_1_1.parqu ┆ train_applprev_1_1.parquet        │\n",
       "│       ┆ et                                                   ┆                                   │\n",
       "│ 0     ┆ Downloads/credit_risk/train/train_applprev_2.parquet ┆ train_applprev_2.parquet          │\n",
       "│ 7     ┆ Downloads/credit_risk/train/train_base.parquet       ┆ train_base.parquet                │\n",
       "│ 11    ┆ Downloads/credit_risk/train/train_credit_bureau_a_1_ ┆ train_credit_bureau_a_1_0.parquet │\n",
       "│       ┆ 0.parquet                                            ┆                                   │\n",
       "└───────┴──────────────────────────────────────────────────────┴───────────────────────────────────┘"
      ]
     },
     "metadata": {},
     "output_type": "display_data"
    },
    {
     "data": {
      "text/html": [
       "<div><style>\n",
       ".dataframe > thead > tr,\n",
       ".dataframe > tbody > tr {\n",
       "  text-align: right;\n",
       "  white-space: pre-wrap;\n",
       "}\n",
       "</style>\n",
       "<small>shape: (5, 3)</small><table border=\"1\" class=\"dataframe\"><thead><tr><th>index</th><th>path</th><th>filename</th></tr><tr><td>i64</td><td>str</td><td>str</td></tr></thead><tbody><tr><td>31</td><td>&quot;Downloads/credit_risk/test/test_applprev_1_0.parquet&quot;</td><td>&quot;test_applprev_1_0.parquet&quot;</td></tr><tr><td>35</td><td>&quot;Downloads/credit_risk/test/test_applprev_1_1.parquet&quot;</td><td>&quot;test_applprev_1_1.parquet&quot;</td></tr><tr><td>9</td><td>&quot;Downloads/credit_risk/test/test_applprev_1_2.parquet&quot;</td><td>&quot;test_applprev_1_2.parquet&quot;</td></tr><tr><td>1</td><td>&quot;Downloads/credit_risk/test/test_applprev_2.parquet&quot;</td><td>&quot;test_applprev_2.parquet&quot;</td></tr><tr><td>33</td><td>&quot;Downloads/credit_risk/test/test_base.parquet&quot;</td><td>&quot;test_base.parquet&quot;</td></tr></tbody></table></div>"
      ],
      "text/plain": [
       "shape: (5, 3)\n",
       "┌───────┬──────────────────────────────────────────────────────┬───────────────────────────┐\n",
       "│ index ┆ path                                                 ┆ filename                  │\n",
       "│ ---   ┆ ---                                                  ┆ ---                       │\n",
       "│ i64   ┆ str                                                  ┆ str                       │\n",
       "╞═══════╪══════════════════════════════════════════════════════╪═══════════════════════════╡\n",
       "│ 31    ┆ Downloads/credit_risk/test/test_applprev_1_0.parquet ┆ test_applprev_1_0.parquet │\n",
       "│ 35    ┆ Downloads/credit_risk/test/test_applprev_1_1.parquet ┆ test_applprev_1_1.parquet │\n",
       "│ 9     ┆ Downloads/credit_risk/test/test_applprev_1_2.parquet ┆ test_applprev_1_2.parquet │\n",
       "│ 1     ┆ Downloads/credit_risk/test/test_applprev_2.parquet   ┆ test_applprev_2.parquet   │\n",
       "│ 33    ┆ Downloads/credit_risk/test/test_base.parquet         ┆ test_base.parquet         │\n",
       "└───────┴──────────────────────────────────────────────────────┴───────────────────────────┘"
      ]
     },
     "metadata": {},
     "output_type": "display_data"
    }
   ],
   "source": [
    "all_train_files = glob(\"Downloads/credit_risk/train/*.parquet\")\n",
    "all_test_files = glob(\"Downloads/credit_risk/test/*.parquet\")\n",
    "train_files_df = pl.DataFrame({\"index\":range(len(all_train_files)),\"path\":all_train_files})\n",
    "test_files_df = pl.DataFrame({\"index\":range(len(all_test_files)),\"path\":all_test_files})\n",
    "train_files_df = (\n",
    "    train_files_df\n",
    "    .with_columns(\n",
    "        (pl.col(\"path\").str.split(\"/\").list.get(-1)).alias(\"filename\")\n",
    "    )\n",
    "    .sort(by=\"filename\")\n",
    ")\n",
    "test_files_df = (\n",
    "    test_files_df\n",
    "    .with_columns(\n",
    "        (pl.col(\"path\").str.split(\"/\").list.get(-1)).alias(\"filename\")\n",
    "    )\n",
    "    .sort(by=\"filename\")\n",
    ")\n",
    "display(train_files_df.head())\n",
    "display(test_files_df.head())"
   ]
  },
  {
   "cell_type": "code",
   "execution_count": 72,
   "metadata": {},
   "outputs": [
    {
     "data": {
      "text/html": [
       "<div><style>\n",
       ".dataframe > thead > tr,\n",
       ".dataframe > tbody > tr {\n",
       "  text-align: right;\n",
       "  white-space: pre-wrap;\n",
       "}\n",
       "</style>\n",
       "<small>shape: (1, 3)</small><table border=\"1\" class=\"dataframe\"><thead><tr><th>index</th><th>path</th><th>filename</th></tr><tr><td>i64</td><td>str</td><td>str</td></tr></thead><tbody><tr><td>7</td><td>&quot;Downloads/credit_risk/train/train_base.parquet&quot;</td><td>&quot;train_base.parquet&quot;</td></tr></tbody></table></div>"
      ],
      "text/plain": [
       "shape: (1, 3)\n",
       "┌───────┬────────────────────────────────────────────────┬────────────────────┐\n",
       "│ index ┆ path                                           ┆ filename           │\n",
       "│ ---   ┆ ---                                            ┆ ---                │\n",
       "│ i64   ┆ str                                            ┆ str                │\n",
       "╞═══════╪════════════════════════════════════════════════╪════════════════════╡\n",
       "│ 7     ┆ Downloads/credit_risk/train/train_base.parquet ┆ train_base.parquet │\n",
       "└───────┴────────────────────────────────────────────────┴────────────────────┘"
      ]
     },
     "execution_count": 72,
     "metadata": {},
     "output_type": "execute_result"
    }
   ],
   "source": [
    "train_files_df.filter(pl.col(\"filename\").str.contains(\"base\"))"
   ]
  },
  {
   "cell_type": "code",
   "execution_count": 73,
   "metadata": {},
   "outputs": [
    {
     "data": {
      "text/html": [
       "<div><style>\n",
       ".dataframe > thead > tr,\n",
       ".dataframe > tbody > tr {\n",
       "  text-align: right;\n",
       "  white-space: pre-wrap;\n",
       "}\n",
       "</style>\n",
       "<small>shape: (5, 5)</small><table border=\"1\" class=\"dataframe\"><thead><tr><th>case_id_base</th><th>month</th><th>week</th><th>weekday</th><th>target</th></tr><tr><td>u32</td><td>i8</td><td>i8</td><td>i8</td><td>u8</td></tr></thead><tbody><tr><td>0</td><td>1</td><td>1</td><td>4</td><td>0</td></tr><tr><td>1</td><td>1</td><td>1</td><td>4</td><td>0</td></tr><tr><td>2</td><td>1</td><td>1</td><td>5</td><td>0</td></tr><tr><td>3</td><td>1</td><td>1</td><td>4</td><td>0</td></tr><tr><td>4</td><td>1</td><td>1</td><td>5</td><td>1</td></tr></tbody></table></div>"
      ],
      "text/plain": [
       "shape: (5, 5)\n",
       "┌──────────────┬───────┬──────┬─────────┬────────┐\n",
       "│ case_id_base ┆ month ┆ week ┆ weekday ┆ target │\n",
       "│ ---          ┆ ---   ┆ ---  ┆ ---     ┆ ---    │\n",
       "│ u32          ┆ i8    ┆ i8   ┆ i8      ┆ u8     │\n",
       "╞══════════════╪═══════╪══════╪═════════╪════════╡\n",
       "│ 0            ┆ 1     ┆ 1    ┆ 4       ┆ 0      │\n",
       "│ 1            ┆ 1     ┆ 1    ┆ 4       ┆ 0      │\n",
       "│ 2            ┆ 1     ┆ 1    ┆ 5       ┆ 0      │\n",
       "│ 3            ┆ 1     ┆ 1    ┆ 4       ┆ 0      │\n",
       "│ 4            ┆ 1     ┆ 1    ┆ 5       ┆ 1      │\n",
       "└──────────────┴───────┴──────┴─────────┴────────┘"
      ]
     },
     "metadata": {},
     "output_type": "display_data"
    }
   ],
   "source": [
    "train_base = (\n",
    "    pl.scan_parquet(all_train_files[7])\n",
    "    .select(\n",
    "        pl.col(\"case_id\").cast(pl.UInt32).alias(\"case_id_base\"),\n",
    "        cs.contains(\"date\").str.to_date().alias(\"date\"),\n",
    "        pl.col(\"target\").cast(pl.UInt8)\n",
    "    )\n",
    "    .with_columns(\n",
    "        pl.col(\"date\").dt.month().alias(\"month\"),\n",
    "        pl.col(\"date\").dt.week().alias(\"week\"),\n",
    "        pl.col(\"date\").dt.weekday().alias(\"weekday\")\n",
    "    )\n",
    "\n",
    "    .select(~cs.contains([\"target\",\"date\"]),cs.contains(\"target\"))\n",
    ")\n",
    "display(train_base.fetch().head())"
   ]
  },
  {
   "cell_type": "code",
   "execution_count": 74,
   "metadata": {},
   "outputs": [
    {
     "data": {
      "text/html": [
       "<div><style>\n",
       ".dataframe > thead > tr,\n",
       ".dataframe > tbody > tr {\n",
       "  text-align: right;\n",
       "  white-space: pre-wrap;\n",
       "}\n",
       "</style>\n",
       "<small>shape: (1, 3)</small><table border=\"1\" class=\"dataframe\"><thead><tr><th>index</th><th>path</th><th>filename</th></tr><tr><td>i64</td><td>str</td><td>str</td></tr></thead><tbody><tr><td>33</td><td>&quot;Downloads/credit_risk/test/test_base.parquet&quot;</td><td>&quot;test_base.parquet&quot;</td></tr></tbody></table></div>"
      ],
      "text/plain": [
       "shape: (1, 3)\n",
       "┌───────┬──────────────────────────────────────────────┬───────────────────┐\n",
       "│ index ┆ path                                         ┆ filename          │\n",
       "│ ---   ┆ ---                                          ┆ ---               │\n",
       "│ i64   ┆ str                                          ┆ str               │\n",
       "╞═══════╪══════════════════════════════════════════════╪═══════════════════╡\n",
       "│ 33    ┆ Downloads/credit_risk/test/test_base.parquet ┆ test_base.parquet │\n",
       "└───────┴──────────────────────────────────────────────┴───────────────────┘"
      ]
     },
     "execution_count": 74,
     "metadata": {},
     "output_type": "execute_result"
    }
   ],
   "source": [
    "test_files_df.filter(pl.col(\"filename\").str.contains(\"base\"))"
   ]
  },
  {
   "cell_type": "code",
   "execution_count": 75,
   "metadata": {},
   "outputs": [
    {
     "data": {
      "text/html": [
       "<div><style>\n",
       ".dataframe > thead > tr,\n",
       ".dataframe > tbody > tr {\n",
       "  text-align: right;\n",
       "  white-space: pre-wrap;\n",
       "}\n",
       "</style>\n",
       "<small>shape: (5, 5)</small><table border=\"1\" class=\"dataframe\"><thead><tr><th>case_id_base</th><th>month</th><th>week</th><th>weekday</th><th>target</th></tr><tr><td>u32</td><td>i8</td><td>i8</td><td>i8</td><td>u8</td></tr></thead><tbody><tr><td>57,543</td><td>10</td><td>41</td><td>2</td><td>0</td></tr><tr><td>57,549</td><td>10</td><td>41</td><td>2</td><td>0</td></tr><tr><td>57,551</td><td>10</td><td>41</td><td>2</td><td>0</td></tr><tr><td>57,552</td><td>10</td><td>41</td><td>3</td><td>0</td></tr><tr><td>57,569</td><td>10</td><td>41</td><td>2</td><td>0</td></tr></tbody></table></div>"
      ],
      "text/plain": [
       "shape: (5, 5)\n",
       "┌──────────────┬───────┬──────┬─────────┬────────┐\n",
       "│ case_id_base ┆ month ┆ week ┆ weekday ┆ target │\n",
       "│ ---          ┆ ---   ┆ ---  ┆ ---     ┆ ---    │\n",
       "│ u32          ┆ i8    ┆ i8   ┆ i8      ┆ u8     │\n",
       "╞══════════════╪═══════╪══════╪═════════╪════════╡\n",
       "│ 57,543       ┆ 10    ┆ 41   ┆ 2       ┆ 0      │\n",
       "│ 57,549       ┆ 10    ┆ 41   ┆ 2       ┆ 0      │\n",
       "│ 57,551       ┆ 10    ┆ 41   ┆ 2       ┆ 0      │\n",
       "│ 57,552       ┆ 10    ┆ 41   ┆ 3       ┆ 0      │\n",
       "│ 57,569       ┆ 10    ┆ 41   ┆ 2       ┆ 0      │\n",
       "└──────────────┴───────┴──────┴─────────┴────────┘"
      ]
     },
     "metadata": {},
     "output_type": "display_data"
    },
    {
     "name": "stdout",
     "output_type": "stream",
     "text": [
      "(10, 5)\n"
     ]
    }
   ],
   "source": [
    "test_base = (\n",
    "    pl.scan_parquet(all_test_files[33])\n",
    "    .select(\n",
    "        pl.col(\"case_id\").cast(pl.UInt32).alias(\"case_id_base\"),\n",
    "        cs.contains(\"date\").str.to_date().alias(\"date\"),\n",
    "    )\n",
    "    .with_columns(\n",
    "        pl.col(\"date\").dt.month().alias(\"month\"),\n",
    "        pl.col(\"date\").dt.week().alias(\"week\"),\n",
    "        pl.col(\"date\").dt.weekday().alias(\"weekday\"),\n",
    "        pl.lit(0).cast(pl.UInt8).alias(\"target\")\n",
    "    )\n",
    "\n",
    "    .select(~cs.contains([\"date\"]))\n",
    ")\n",
    "display(test_base.fetch().head())\n",
    "print(test_base.collect().shape)"
   ]
  },
  {
   "cell_type": "code",
   "execution_count": 76,
   "metadata": {},
   "outputs": [
    {
     "data": {
      "text/html": [
       "<div><style>\n",
       ".dataframe > thead > tr,\n",
       ".dataframe > tbody > tr {\n",
       "  text-align: right;\n",
       "  white-space: pre-wrap;\n",
       "}\n",
       "</style>\n",
       "<small>shape: (5, 5)</small><table border=\"1\" class=\"dataframe\"><thead><tr><th>case_id_base</th><th>month</th><th>week</th><th>weekday</th><th>target</th></tr><tr><td>u32</td><td>i8</td><td>i8</td><td>i8</td><td>u8</td></tr></thead><tbody><tr><td>0</td><td>1</td><td>1</td><td>4</td><td>0</td></tr><tr><td>1</td><td>1</td><td>1</td><td>4</td><td>0</td></tr><tr><td>2</td><td>1</td><td>1</td><td>5</td><td>0</td></tr><tr><td>3</td><td>1</td><td>1</td><td>4</td><td>0</td></tr><tr><td>4</td><td>1</td><td>1</td><td>5</td><td>1</td></tr></tbody></table></div>"
      ],
      "text/plain": [
       "shape: (5, 5)\n",
       "┌──────────────┬───────┬──────┬─────────┬────────┐\n",
       "│ case_id_base ┆ month ┆ week ┆ weekday ┆ target │\n",
       "│ ---          ┆ ---   ┆ ---  ┆ ---     ┆ ---    │\n",
       "│ u32          ┆ i8    ┆ i8   ┆ i8      ┆ u8     │\n",
       "╞══════════════╪═══════╪══════╪═════════╪════════╡\n",
       "│ 0            ┆ 1     ┆ 1    ┆ 4       ┆ 0      │\n",
       "│ 1            ┆ 1     ┆ 1    ┆ 4       ┆ 0      │\n",
       "│ 2            ┆ 1     ┆ 1    ┆ 5       ┆ 0      │\n",
       "│ 3            ┆ 1     ┆ 1    ┆ 4       ┆ 0      │\n",
       "│ 4            ┆ 1     ┆ 1    ┆ 5       ┆ 1      │\n",
       "└──────────────┴───────┴──────┴─────────┴────────┘"
      ]
     },
     "execution_count": 76,
     "metadata": {},
     "output_type": "execute_result"
    }
   ],
   "source": [
    "out_case_ids = test_base.select(\"case_id_base\").collect()\n",
    "total_base = (\n",
    "    pl.concat([\n",
    "        train_base,\n",
    "        test_base\n",
    "    ],\n",
    "    )\n",
    "    .sort(by=\"case_id_base\")\n",
    ")\n",
    "total_base.fetch().head()"
   ]
  },
  {
   "cell_type": "markdown",
   "metadata": {},
   "source": [
    "## Case_id, num_group1 and num_group2 relationships\n",
    "\n",
    "<font size=6>\n",
    "\n",
    "Goal of this competition is to predict risk quality of clients (or to be precise applications of clients), so client and his/her application is entity (case_id) for which your model predict probability of default (credit score).\n",
    "\n",
    "- depth=0 (what we call static attributes) are attributes that are aggregated on case_id level. Example can be age of client or gender, 1 records per 1 case_id.\n",
    "\n",
    "- depth=1, those are attributes where we have several records per client/application. Example can be previous applications or loans in credit bureau register, each client can have from 0 to n records. Therefore, for one case_id there might be several records, and to index them we use num_group1\n",
    "\n",
    "- depth=2: For some attributes with depth=1 we have more detailed information, for example for previous applications we have data about instalments like date of payments or days past due of each payments. It means for each previous application, you can have 0…n records about instalments/payments. And as an index is used num_group2\n",
    "\n",
    "To sum up, 1 client can have several previous applications, and each of those previous applications can have several records about instalments, payments, days past due, etc.\n",
    "\n",
    "- num_group1 : 0 -> 19\n",
    "- num_group2 : 0 -> 11"
   ]
  },
  {
   "cell_type": "code",
   "execution_count": 77,
   "metadata": {},
   "outputs": [],
   "source": [
    "def select_imputable_cols(df:pl.LazyFrame,threshold:int=10,stream=False) -> pl.LazyFrame:\n",
    "    col_list = (\n",
    "        df\n",
    "        .collect(streaming=stream)\n",
    "        .pipe(lambda df: (df.null_count()/df.shape[0])*100)\n",
    "        .transpose(include_header=True,column_names=[\"percentage of nulls\"])\n",
    "        .join(\n",
    "            feat_df,\n",
    "            left_on=\"column\",\n",
    "            right_on=\"Variable\",\n",
    "            how=\"left\"\n",
    "        )\n",
    "        .sort(by=\"percentage of nulls\")\n",
    "        .select([\"column\",\"Description\",\"percentage of nulls\"])\n",
    "        .filter(pl.col(\"percentage of nulls\") < threshold)\n",
    "        [\"column\"].to_list()\n",
    "    )\n",
    "    _ = df.select(col_list)\n",
    "    gc.collect()\n",
    "    return _"
   ]
  },
  {
   "cell_type": "code",
   "execution_count": 78,
   "metadata": {},
   "outputs": [],
   "source": [
    "def rename_cols(df: pl.LazyFrame) -> pl.LazyFrame:\n",
    "    return (\n",
    "        df\n",
    "        .pipe(\n",
    "            lambda df: df.rename(\n",
    "                {_:_ + \" \" + feat_df.filter(pl.col(\"Variable\") == _).select(\"Description\").item() for _ in df.columns if _ not in [\"case_id\",\"num_group1\",\"num_group2\"]}\n",
    "            )\n",
    "        )\n",
    "    )"
   ]
  },
  {
   "cell_type": "code",
   "execution_count": 80,
   "metadata": {},
   "outputs": [
    {
     "data": {
      "text/html": [
       "<div><style>\n",
       ".dataframe > thead > tr,\n",
       ".dataframe > tbody > tr {\n",
       "  text-align: right;\n",
       "  white-space: pre-wrap;\n",
       "}\n",
       "</style>\n",
       "<small>shape: (7, 2)</small><table border=\"1\" class=\"dataframe\"><thead><tr><th>column</th><th>column_0</th></tr><tr><td>str</td><td>u32</td></tr></thead><tbody><tr><td>&quot;creationdate_885D&quot;</td><td>66</td></tr><tr><td>&quot;firstnonzeroinstldate_307D&quot;</td><td>652,482</td></tr><tr><td>&quot;approvaldate_319D&quot;</td><td>3,010,294</td></tr><tr><td>&quot;dateactivated_425D&quot;</td><td>3,141,753</td></tr><tr><td>&quot;employedfrom_700D&quot;</td><td>3,886,478</td></tr><tr><td>&quot;dtlastpmtallstes_3545839D&quot;</td><td>4,043,621</td></tr><tr><td>&quot;dtlastpmt_581D&quot;</td><td>4,750,384</td></tr></tbody></table></div>"
      ],
      "text/plain": [
       "shape: (7, 2)\n",
       "┌────────────────────────────┬───────────┐\n",
       "│ column                     ┆ column_0  │\n",
       "│ ---                        ┆ ---       │\n",
       "│ str                        ┆ u32       │\n",
       "╞════════════════════════════╪═══════════╡\n",
       "│ creationdate_885D          ┆ 66        │\n",
       "│ firstnonzeroinstldate_307D ┆ 652,482   │\n",
       "│ approvaldate_319D          ┆ 3,010,294 │\n",
       "│ dateactivated_425D         ┆ 3,141,753 │\n",
       "│ employedfrom_700D          ┆ 3,886,478 │\n",
       "│ dtlastpmtallstes_3545839D  ┆ 4,043,621 │\n",
       "│ dtlastpmt_581D             ┆ 4,750,384 │\n",
       "└────────────────────────────┴───────────┘"
      ]
     },
     "execution_count": 80,
     "metadata": {},
     "output_type": "execute_result"
    }
   ],
   "source": [
    "train_past_depth_one = (\n",
    "    pl.scan_parquet(path_to_train/\"train_applprev_1_*.parquet\",rechunk=True)\n",
    "    .select(\n",
    "        pl.col(\"case_id\").cast(pl.UInt32),\n",
    "        cs.contains(\"num_group\").cast(pl.UInt8),\n",
    "        cs.boolean().cast(pl.UInt8),\n",
    "        cs.float().cast(pl.Float32),\n",
    "        cs.string().cast(pl.Categorical),\n",
    "    )\n",
    ")\n",
    "train_past_depth_one.fetch().head()"
   ]
  },
  {
   "cell_type": "code",
   "execution_count": 18,
   "metadata": {},
   "outputs": [
    {
     "data": {
      "text/html": [
       "<div><style>\n",
       ".dataframe > thead > tr,\n",
       ".dataframe > tbody > tr {\n",
       "  text-align: right;\n",
       "  white-space: pre-wrap;\n",
       "}\n",
       "</style>\n",
       "<small>shape: (4, 3)</small><table border=\"1\" class=\"dataframe\"><thead><tr><th>index</th><th>path</th><th>filename</th></tr><tr><td>i64</td><td>str</td><td>str</td></tr></thead><tbody><tr><td>31</td><td>&quot;Downloads/credit_risk/test/test_applprev_1_0.parquet&quot;</td><td>&quot;test_applprev_1_0.parquet&quot;</td></tr><tr><td>35</td><td>&quot;Downloads/credit_risk/test/test_applprev_1_1.parquet&quot;</td><td>&quot;test_applprev_1_1.parquet&quot;</td></tr><tr><td>9</td><td>&quot;Downloads/credit_risk/test/test_applprev_1_2.parquet&quot;</td><td>&quot;test_applprev_1_2.parquet&quot;</td></tr><tr><td>1</td><td>&quot;Downloads/credit_risk/test/test_applprev_2.parquet&quot;</td><td>&quot;test_applprev_2.parquet&quot;</td></tr></tbody></table></div>"
      ],
      "text/plain": [
       "shape: (4, 3)\n",
       "┌───────┬──────────────────────────────────────────────────────┬───────────────────────────┐\n",
       "│ index ┆ path                                                 ┆ filename                  │\n",
       "│ ---   ┆ ---                                                  ┆ ---                       │\n",
       "│ i64   ┆ str                                                  ┆ str                       │\n",
       "╞═══════╪══════════════════════════════════════════════════════╪═══════════════════════════╡\n",
       "│ 31    ┆ Downloads/credit_risk/test/test_applprev_1_0.parquet ┆ test_applprev_1_0.parquet │\n",
       "│ 35    ┆ Downloads/credit_risk/test/test_applprev_1_1.parquet ┆ test_applprev_1_1.parquet │\n",
       "│ 9     ┆ Downloads/credit_risk/test/test_applprev_1_2.parquet ┆ test_applprev_1_2.parquet │\n",
       "│ 1     ┆ Downloads/credit_risk/test/test_applprev_2.parquet   ┆ test_applprev_2.parquet   │\n",
       "└───────┴──────────────────────────────────────────────────────┴───────────────────────────┘"
      ]
     },
     "execution_count": 18,
     "metadata": {},
     "output_type": "execute_result"
    }
   ],
   "source": [
    "test_files_df.filter(pl.col(\"filename\").str.contains(\"applprev\"))"
   ]
  },
  {
   "cell_type": "code",
   "execution_count": 19,
   "metadata": {},
   "outputs": [
    {
     "data": {
      "text/html": [
       "<div><style>\n",
       ".dataframe > thead > tr,\n",
       ".dataframe > tbody > tr {\n",
       "  text-align: right;\n",
       "  white-space: pre-wrap;\n",
       "}\n",
       "</style>\n",
       "<small>shape: (5, 34)</small><table border=\"1\" class=\"dataframe\"><thead><tr><th>case_id</th><th>num_group1</th><th>isbidproduct_390L</th><th>isdebitcard_527L</th><th>actualdpd_943P</th><th>annuity_853A</th><th>byoccupationinc_3656910L</th><th>childnum_21L</th><th>credacc_actualbalance_314A</th><th>credacc_credlmt_575A</th><th>credacc_maxhisbal_375A</th><th>credacc_minhisbal_90A</th><th>credacc_transactions_402L</th><th>credamount_590A</th><th>currdebt_94A</th><th>downpmt_134A</th><th>mainoccupationinc_437A</th><th>maxdpdtolerance_577P</th><th>outstandingdebt_522A</th><th>pmtnum_8L</th><th>revolvingaccount_394A</th><th>tenor_203L</th><th>cancelreason_3545846M</th><th>credacc_status_367L</th><th>credtype_587L</th><th>district_544M</th><th>education_1138M</th><th>familystate_726L</th><th>inittransactioncode_279L</th><th>postype_4733339M</th><th>profession_152M</th><th>rejectreason_755M</th><th>rejectreasonclient_4145042M</th><th>status_219L</th></tr><tr><td>u32</td><td>u8</td><td>u8</td><td>u8</td><td>f32</td><td>f32</td><td>f32</td><td>f32</td><td>f32</td><td>f32</td><td>f32</td><td>f32</td><td>f32</td><td>f32</td><td>f32</td><td>f32</td><td>f32</td><td>f32</td><td>f32</td><td>f32</td><td>f32</td><td>f32</td><td>cat</td><td>cat</td><td>cat</td><td>cat</td><td>cat</td><td>cat</td><td>cat</td><td>cat</td><td>cat</td><td>cat</td><td>cat</td><td>cat</td></tr></thead><tbody><tr><td>57,543</td><td>0</td><td>0</td><td>null</td><td>0.00</td><td>1,519.80</td><td>null</td><td>null</td><td>null</td><td>0.00</td><td>null</td><td>null</td><td>null</td><td>37,998.00</td><td>null</td><td>0.00</td><td>30,000.00</td><td>null</td><td>null</td><td>31.00</td><td>null</td><td>31.00</td><td>&quot;P94_109_143&quot;</td><td>null</td><td>&quot;COL&quot;</td><td>&quot;P197_47_166&quot;</td><td>&quot;a55475b1&quot;</td><td>null</td><td>&quot;POS&quot;</td><td>&quot;P149_40_170&quot;</td><td>&quot;a55475b1&quot;</td><td>&quot;P99_56_166&quot;</td><td>&quot;P94_109_143&quot;</td><td>&quot;D&quot;</td></tr><tr><td>57,549</td><td>0</td><td>0</td><td>null</td><td>0.00</td><td>2,048.80</td><td>null</td><td>null</td><td>null</td><td>0.00</td><td>null</td><td>null</td><td>null</td><td>20,000.00</td><td>null</td><td>0.00</td><td>12,000.00</td><td>null</td><td>null</td><td>12.00</td><td>null</td><td>12.00</td><td>&quot;P94_109_143&quot;</td><td>null</td><td>&quot;CAL&quot;</td><td>&quot;P7_110_89&quot;</td><td>&quot;P97_36_170&quot;</td><td>&quot;SINGLE&quot;</td><td>&quot;CASH&quot;</td><td>&quot;P67_102_161&quot;</td><td>&quot;a55475b1&quot;</td><td>&quot;P45_84_106&quot;</td><td>&quot;P94_109_143&quot;</td><td>&quot;D&quot;</td></tr><tr><td>57,551</td><td>0</td><td>0</td><td>null</td><td>0.00</td><td>1,871.80</td><td>null</td><td>null</td><td>null</td><td>0.00</td><td>null</td><td>null</td><td>null</td><td>20,000.00</td><td>null</td><td>0.00</td><td>22,000.00</td><td>null</td><td>null</td><td>12.00</td><td>null</td><td>12.00</td><td>&quot;P94_109_143&quot;</td><td>null</td><td>&quot;CAL&quot;</td><td>&quot;a55475b1&quot;</td><td>&quot;a55475b1&quot;</td><td>null</td><td>&quot;CASH&quot;</td><td>&quot;P67_102_161&quot;</td><td>&quot;a55475b1&quot;</td><td>&quot;P99_56_166&quot;</td><td>&quot;P94_109_143&quot;</td><td>&quot;D&quot;</td></tr><tr><td>57,551</td><td>1</td><td>0</td><td>null</td><td>0.00</td><td>5,401.00</td><td>null</td><td>null</td><td>null</td><td>0.00</td><td>null</td><td>null</td><td>null</td><td>60,000.00</td><td>null</td><td>0.00</td><td>50,000.00</td><td>null</td><td>null</td><td>18.00</td><td>null</td><td>18.00</td><td>&quot;P94_109_143&quot;</td><td>null</td><td>&quot;CAL&quot;</td><td>&quot;P197_47_166&quot;</td><td>&quot;P97_36_170&quot;</td><td>&quot;MARRIED&quot;</td><td>&quot;CASH&quot;</td><td>&quot;P46_145_78&quot;</td><td>&quot;a55475b1&quot;</td><td>&quot;P45_84_106&quot;</td><td>&quot;P94_109_143&quot;</td><td>&quot;D&quot;</td></tr><tr><td>57,552</td><td>0</td><td>0</td><td>null</td><td>0.00</td><td>4,834.20</td><td>null</td><td>1.00</td><td>null</td><td>0.00</td><td>null</td><td>null</td><td>null</td><td>50,000.00</td><td>null</td><td>0.00</td><td>16,000.00</td><td>null</td><td>null</td><td>18.00</td><td>null</td><td>18.00</td><td>&quot;P94_109_143&quot;</td><td>null</td><td>&quot;CAL&quot;</td><td>&quot;P11_36_178&quot;</td><td>&quot;P97_36_170&quot;</td><td>&quot;MARRIED&quot;</td><td>&quot;CASH&quot;</td><td>&quot;P46_145_78&quot;</td><td>&quot;a55475b1&quot;</td><td>&quot;P45_84_106&quot;</td><td>&quot;P94_109_143&quot;</td><td>&quot;D&quot;</td></tr></tbody></table></div>"
      ],
      "text/plain": [
       "shape: (5, 34)\n",
       "┌─────────┬────────────┬───────────┬───────────┬───┬───────────┬───────────┬───────────┬───────────┐\n",
       "│ case_id ┆ num_group1 ┆ isbidprod ┆ isdebitca ┆ … ┆ professio ┆ rejectrea ┆ rejectrea ┆ status_21 │\n",
       "│ ---     ┆ ---        ┆ uct_390L  ┆ rd_527L   ┆   ┆ n_152M    ┆ son_755M  ┆ sonclient ┆ 9L        │\n",
       "│ u32     ┆ u8         ┆ ---       ┆ ---       ┆   ┆ ---       ┆ ---       ┆ _4145042M ┆ ---       │\n",
       "│         ┆            ┆ u8        ┆ u8        ┆   ┆ cat       ┆ cat       ┆ ---       ┆ cat       │\n",
       "│         ┆            ┆           ┆           ┆   ┆           ┆           ┆ cat       ┆           │\n",
       "╞═════════╪════════════╪═══════════╪═══════════╪═══╪═══════════╪═══════════╪═══════════╪═══════════╡\n",
       "│ 57,543  ┆ 0          ┆ 0         ┆ null      ┆ … ┆ a55475b1  ┆ P99_56_16 ┆ P94_109_1 ┆ D         │\n",
       "│         ┆            ┆           ┆           ┆   ┆           ┆ 6         ┆ 43        ┆           │\n",
       "│ 57,549  ┆ 0          ┆ 0         ┆ null      ┆ … ┆ a55475b1  ┆ P45_84_10 ┆ P94_109_1 ┆ D         │\n",
       "│         ┆            ┆           ┆           ┆   ┆           ┆ 6         ┆ 43        ┆           │\n",
       "│ 57,551  ┆ 0          ┆ 0         ┆ null      ┆ … ┆ a55475b1  ┆ P99_56_16 ┆ P94_109_1 ┆ D         │\n",
       "│         ┆            ┆           ┆           ┆   ┆           ┆ 6         ┆ 43        ┆           │\n",
       "│ 57,551  ┆ 1          ┆ 0         ┆ null      ┆ … ┆ a55475b1  ┆ P45_84_10 ┆ P94_109_1 ┆ D         │\n",
       "│         ┆            ┆           ┆           ┆   ┆           ┆ 6         ┆ 43        ┆           │\n",
       "│ 57,552  ┆ 0          ┆ 0         ┆ null      ┆ … ┆ a55475b1  ┆ P45_84_10 ┆ P94_109_1 ┆ D         │\n",
       "│         ┆            ┆           ┆           ┆   ┆           ┆ 6         ┆ 43        ┆           │\n",
       "└─────────┴────────────┴───────────┴───────────┴───┴───────────┴───────────┴───────────┴───────────┘"
      ]
     },
     "execution_count": 19,
     "metadata": {},
     "output_type": "execute_result"
    }
   ],
   "source": [
    "test_past_depth_one = (\n",
    "    pl.scan_parquet(path_to_test/\"test_applprev_1_*.parquet\",rechunk=True)\n",
    "    .select(train_past_depth_one.columns)\n",
    "    .cast(train_past_depth_one.schema)\n",
    ")\n",
    "test_past_depth_one.fetch().head()"
   ]
  },
  {
   "cell_type": "code",
   "execution_count": 20,
   "metadata": {},
   "outputs": [
    {
     "data": {
      "text/html": [
       "<div><style>\n",
       ".dataframe > thead > tr,\n",
       ".dataframe > tbody > tr {\n",
       "  text-align: right;\n",
       "  white-space: pre-wrap;\n",
       "}\n",
       "</style>\n",
       "<small>shape: (5, 21)</small><table border=\"1\" class=\"dataframe\"><thead><tr><th>case_id</th><th>num_group1</th><th>isbidproduct_390L Flag for determining if the product is a cross-sell in previous applications.</th><th>actualdpd_943P Days Past Due (DPD) of previous contract (actual).</th><th>mainoccupationinc_437A Client&#x27;s main income amount in their previous application.</th><th>credacc_credlmt_575A Credit card credit limit provided for previous applications.</th><th>credamount_590A Loan amount or card limit of previous applications.</th><th>downpmt_134A Previous application downpayment amount.</th><th>annuity_853A Monthly annuity for previous applications.</th><th>pmtnum_8L Number of payments made for the previous application.</th><th>tenor_203L Number of instalments in the previous application.</th><th>cancelreason_3545846M Application cancellation reason.</th><th>district_544M District of the address used in the previous loan application.</th><th>education_1138M Applicant&#x27;s education level from their previous application.</th><th>postype_4733339M Type of point of sale.</th><th>profession_152M Profession of the client during their previous loan application.</th><th>rejectreason_755M Reason for previous application rejection.</th><th>rejectreasonclient_4145042M Reason for rejection of the client&#x27;s previous application.</th><th>status_219L Previous application status.</th><th>credtype_587L Credit type of previous application.</th><th>inittransactioncode_279L Type of the initial transaction made in the previous application of the client.</th></tr><tr><td>u32</td><td>u8</td><td>u8</td><td>f32</td><td>f32</td><td>f32</td><td>f32</td><td>f32</td><td>f32</td><td>f32</td><td>f32</td><td>cat</td><td>cat</td><td>cat</td><td>cat</td><td>cat</td><td>cat</td><td>cat</td><td>cat</td><td>cat</td><td>cat</td></tr></thead><tbody><tr><td>2</td><td>0</td><td>0</td><td>0.00</td><td>8,200.00</td><td>0.00</td><td>16,000.00</td><td>0.00</td><td>1,682.40</td><td>24.00</td><td>24.00</td><td>&quot;a55475b1&quot;</td><td>&quot;P136_108_173&quot;</td><td>&quot;P97_36_170&quot;</td><td>&quot;a55475b1&quot;</td><td>&quot;a55475b1&quot;</td><td>&quot;a55475b1&quot;</td><td>&quot;a55475b1&quot;</td><td>&quot;D&quot;</td><td>&quot;CAL&quot;</td><td>&quot;CASH&quot;</td></tr><tr><td>3</td><td>0</td><td>0</td><td>0.00</td><td>11,000.00</td><td>0.00</td><td>59,999.80</td><td>0.00</td><td>6,140.00</td><td>12.00</td><td>12.00</td><td>&quot;P94_109_143&quot;</td><td>&quot;P131_33_167&quot;</td><td>&quot;P97_36_170&quot;</td><td>&quot;a55475b1&quot;</td><td>&quot;a55475b1&quot;</td><td>&quot;P94_109_143&quot;</td><td>&quot;a55475b1&quot;</td><td>&quot;D&quot;</td><td>&quot;CAL&quot;</td><td>&quot;CASH&quot;</td></tr><tr><td>4</td><td>0</td><td>0</td><td>0.00</td><td>16,000.00</td><td>0.00</td><td>40,000.00</td><td>0.00</td><td>2,556.60</td><td>24.00</td><td>24.00</td><td>&quot;P24_27_36&quot;</td><td>&quot;P194_82_174&quot;</td><td>&quot;a55475b1&quot;</td><td>&quot;a55475b1&quot;</td><td>&quot;a55475b1&quot;</td><td>&quot;a55475b1&quot;</td><td>&quot;a55475b1&quot;</td><td>&quot;T&quot;</td><td>&quot;CAL&quot;</td><td>&quot;CASH&quot;</td></tr><tr><td>5</td><td>0</td><td>0</td><td>0.00</td><td>62,000.00</td><td>5,131.54</td><td>60,176.47</td><td>658.24</td><td>4,540.34</td><td>21.24</td><td>21.24</td><td>&quot;P85_114_140&quot;</td><td>&quot;P54_133_26&quot;</td><td>&quot;a55475b1&quot;</td><td>&quot;a55475b1&quot;</td><td>&quot;a55475b1&quot;</td><td>&quot;a55475b1&quot;</td><td>&quot;a55475b1&quot;</td><td>&quot;T&quot;</td><td>&quot;CAL&quot;</td><td>&quot;CASH&quot;</td></tr><tr><td>6</td><td>0</td><td>0</td><td>0.00</td><td>37,000.00</td><td>0.00</td><td>32,000.00</td><td>0.00</td><td>4,189.60</td><td>24.00</td><td>24.00</td><td>&quot;P94_109_143&quot;</td><td>&quot;P82_154_182&quot;</td><td>&quot;P97_36_170&quot;</td><td>&quot;a55475b1&quot;</td><td>&quot;a55475b1&quot;</td><td>&quot;P94_109_143&quot;</td><td>&quot;a55475b1&quot;</td><td>&quot;D&quot;</td><td>&quot;CAL&quot;</td><td>&quot;CASH&quot;</td></tr></tbody></table></div>"
      ],
      "text/plain": [
       "shape: (5, 21)\n",
       "┌─────────┬────────────┬───────────┬───────────┬───┬───────────┬───────────┬───────────┬───────────┐\n",
       "│ case_id ┆ num_group1 ┆ isbidprod ┆ actualdpd ┆ … ┆ rejectrea ┆ status_21 ┆ credtype_ ┆ inittrans │\n",
       "│ ---     ┆ ---        ┆ uct_390L  ┆ _943P     ┆   ┆ sonclient ┆ 9L        ┆ 587L      ┆ actioncod │\n",
       "│ u32     ┆ u8         ┆ Flag for  ┆ Days Past ┆   ┆ _4145042M ┆ Previous  ┆ Credit    ┆ e_279L    │\n",
       "│         ┆            ┆ determini ┆ Due (DPD) ┆   ┆ Reason    ┆ applicati ┆ type of   ┆ Type of   │\n",
       "│         ┆            ┆ ng if the ┆ of        ┆   ┆ for       ┆ on        ┆ previous  ┆ the       │\n",
       "│         ┆            ┆ product   ┆ previous  ┆   ┆ rejection ┆ status.   ┆ applicati ┆ initial   │\n",
       "│         ┆            ┆ is a cros ┆ contract  ┆   ┆ of the    ┆ ---       ┆ on.       ┆ transacti │\n",
       "│         ┆            ┆ s-sell in ┆ (actual). ┆   ┆ client's  ┆ cat       ┆ ---       ┆ on made   │\n",
       "│         ┆            ┆ previous  ┆ ---       ┆   ┆ previous  ┆           ┆ cat       ┆ in the    │\n",
       "│         ┆            ┆ applicati ┆ f32       ┆   ┆ applicati ┆           ┆           ┆ previous  │\n",
       "│         ┆            ┆ ons.      ┆           ┆   ┆ on.       ┆           ┆           ┆ applicati │\n",
       "│         ┆            ┆ ---       ┆           ┆   ┆ ---       ┆           ┆           ┆ on of the │\n",
       "│         ┆            ┆ u8        ┆           ┆   ┆ cat       ┆           ┆           ┆ cli…      │\n",
       "│         ┆            ┆           ┆           ┆   ┆           ┆           ┆           ┆ ---       │\n",
       "│         ┆            ┆           ┆           ┆   ┆           ┆           ┆           ┆ cat       │\n",
       "╞═════════╪════════════╪═══════════╪═══════════╪═══╪═══════════╪═══════════╪═══════════╪═══════════╡\n",
       "│ 2       ┆ 0          ┆ 0         ┆ 0.00      ┆ … ┆ a55475b1  ┆ D         ┆ CAL       ┆ CASH      │\n",
       "│ 3       ┆ 0          ┆ 0         ┆ 0.00      ┆ … ┆ a55475b1  ┆ D         ┆ CAL       ┆ CASH      │\n",
       "│ 4       ┆ 0          ┆ 0         ┆ 0.00      ┆ … ┆ a55475b1  ┆ T         ┆ CAL       ┆ CASH      │\n",
       "│ 5       ┆ 0          ┆ 0         ┆ 0.00      ┆ … ┆ a55475b1  ┆ T         ┆ CAL       ┆ CASH      │\n",
       "│ 6       ┆ 0          ┆ 0         ┆ 0.00      ┆ … ┆ a55475b1  ┆ D         ┆ CAL       ┆ CASH      │\n",
       "└─────────┴────────────┴───────────┴───────────┴───┴───────────┴───────────┴───────────┴───────────┘"
      ]
     },
     "execution_count": 20,
     "metadata": {},
     "output_type": "execute_result"
    }
   ],
   "source": [
    "total_past_depth_one = (\n",
    "    pl.concat(\n",
    "        [\n",
    "            train_past_depth_one,\n",
    "            test_past_depth_one\n",
    "        ]\n",
    "    )\n",
    "    .sort(by=\"case_id\")\n",
    "    .pipe(rename_cols)\n",
    "    .pipe(select_imputable_cols)\n",
    "    .group_by('case_id')\n",
    "    .agg(\n",
    "        cs.integer().min(),\n",
    "        cs.float().max(),\n",
    "        cs.categorical().drop_nulls().mode().first()\n",
    "    )\n",
    "    .with_columns(\n",
    "        cs.categorical().fill_null(value=cs.categorical().drop_nulls().mode().first()),\n",
    "        cs.float().fill_null(strategy=\"mean\")\n",
    "    )\n",
    ")\n",
    "total_past_depth_one.fetch().head()"
   ]
  },
  {
   "cell_type": "code",
   "execution_count": 21,
   "metadata": {},
   "outputs": [
    {
     "data": {
      "text/html": [
       "<div><style>\n",
       ".dataframe > thead > tr,\n",
       ".dataframe > tbody > tr {\n",
       "  text-align: right;\n",
       "  white-space: pre-wrap;\n",
       "}\n",
       "</style>\n",
       "<small>shape: (1, 3)</small><table border=\"1\" class=\"dataframe\"><thead><tr><th>index</th><th>path</th><th>filename</th></tr><tr><td>i64</td><td>str</td><td>str</td></tr></thead><tbody><tr><td>0</td><td>&quot;Downloads/credit_risk/train/train_applprev_2.parquet&quot;</td><td>&quot;train_applprev_2.parquet&quot;</td></tr></tbody></table></div>"
      ],
      "text/plain": [
       "shape: (1, 3)\n",
       "┌───────┬──────────────────────────────────────────────────────┬──────────────────────────┐\n",
       "│ index ┆ path                                                 ┆ filename                 │\n",
       "│ ---   ┆ ---                                                  ┆ ---                      │\n",
       "│ i64   ┆ str                                                  ┆ str                      │\n",
       "╞═══════╪══════════════════════════════════════════════════════╪══════════════════════════╡\n",
       "│ 0     ┆ Downloads/credit_risk/train/train_applprev_2.parquet ┆ train_applprev_2.parquet │\n",
       "└───────┴──────────────────────────────────────────────────────┴──────────────────────────┘"
      ]
     },
     "execution_count": 21,
     "metadata": {},
     "output_type": "execute_result"
    }
   ],
   "source": [
    "train_files_df.filter(pl.col(\"filename\").str.contains(\"applprev_2\"))"
   ]
  },
  {
   "cell_type": "code",
   "execution_count": 22,
   "metadata": {},
   "outputs": [
    {
     "data": {
      "text/html": [
       "<div><style>\n",
       ".dataframe > thead > tr,\n",
       ".dataframe > tbody > tr {\n",
       "  text-align: right;\n",
       "  white-space: pre-wrap;\n",
       "}\n",
       "</style>\n",
       "<small>shape: (5, 6)</small><table border=\"1\" class=\"dataframe\"><thead><tr><th>case_id</th><th>num_group1</th><th>num_group2</th><th>cacccardblochreas_147M</th><th>conts_type_509L</th><th>credacc_cards_status_52L</th></tr><tr><td>u32</td><td>u8</td><td>u8</td><td>cat</td><td>cat</td><td>cat</td></tr></thead><tbody><tr><td>2</td><td>1</td><td>1</td><td>null</td><td>&quot;EMPLOYMENT_PHONE&quot;</td><td>null</td></tr><tr><td>2</td><td>0</td><td>1</td><td>null</td><td>&quot;EMPLOYMENT_PHONE&quot;</td><td>null</td></tr><tr><td>2</td><td>0</td><td>0</td><td>null</td><td>&quot;PRIMARY_MOBILE&quot;</td><td>null</td></tr><tr><td>2</td><td>1</td><td>0</td><td>null</td><td>&quot;PRIMARY_MOBILE&quot;</td><td>null</td></tr><tr><td>3</td><td>0</td><td>1</td><td>null</td><td>&quot;PRIMARY_MOBILE&quot;</td><td>null</td></tr></tbody></table></div>"
      ],
      "text/plain": [
       "shape: (5, 6)\n",
       "┌─────────┬────────────┬────────────┬─────────────────────┬──────────────────┬─────────────────────┐\n",
       "│ case_id ┆ num_group1 ┆ num_group2 ┆ cacccardblochreas_1 ┆ conts_type_509L  ┆ credacc_cards_statu │\n",
       "│ ---     ┆ ---        ┆ ---        ┆ 47M                 ┆ ---              ┆ s_52L               │\n",
       "│ u32     ┆ u8         ┆ u8         ┆ ---                 ┆ cat              ┆ ---                 │\n",
       "│         ┆            ┆            ┆ cat                 ┆                  ┆ cat                 │\n",
       "╞═════════╪════════════╪════════════╪═════════════════════╪══════════════════╪═════════════════════╡\n",
       "│ 2       ┆ 1          ┆ 1          ┆ null                ┆ EMPLOYMENT_PHONE ┆ null                │\n",
       "│ 2       ┆ 0          ┆ 1          ┆ null                ┆ EMPLOYMENT_PHONE ┆ null                │\n",
       "│ 2       ┆ 0          ┆ 0          ┆ null                ┆ PRIMARY_MOBILE   ┆ null                │\n",
       "│ 2       ┆ 1          ┆ 0          ┆ null                ┆ PRIMARY_MOBILE   ┆ null                │\n",
       "│ 3       ┆ 0          ┆ 1          ┆ null                ┆ PRIMARY_MOBILE   ┆ null                │\n",
       "└─────────┴────────────┴────────────┴─────────────────────┴──────────────────┴─────────────────────┘"
      ]
     },
     "execution_count": 22,
     "metadata": {},
     "output_type": "execute_result"
    }
   ],
   "source": [
    "train_past_depth_two = (\n",
    "    pl.scan_parquet(all_train_files[0])\n",
    "    .drop(cs.ends_with(\"D\"))\n",
    "    .select(\n",
    "        cs.by_name(\"case_id\").cast(pl.UInt32),\n",
    "        cs.contains(\"num_group\").cast(pl.UInt8),\n",
    "        cs.boolean().cast(pl.UInt8),\n",
    "        cs.float().cast(pl.Float32),\n",
    "        cs.string().cast(pl.Categorical)\n",
    "    )\n",
    ")\n",
    "train_past_depth_two.fetch().head()"
   ]
  },
  {
   "cell_type": "code",
   "execution_count": 23,
   "metadata": {},
   "outputs": [
    {
     "data": {
      "text/html": [
       "<div><style>\n",
       ".dataframe > thead > tr,\n",
       ".dataframe > tbody > tr {\n",
       "  text-align: right;\n",
       "  white-space: pre-wrap;\n",
       "}\n",
       "</style>\n",
       "<small>shape: (1, 3)</small><table border=\"1\" class=\"dataframe\"><thead><tr><th>index</th><th>path</th><th>filename</th></tr><tr><td>i64</td><td>str</td><td>str</td></tr></thead><tbody><tr><td>1</td><td>&quot;Downloads/credit_risk/test/test_applprev_2.parquet&quot;</td><td>&quot;test_applprev_2.parquet&quot;</td></tr></tbody></table></div>"
      ],
      "text/plain": [
       "shape: (1, 3)\n",
       "┌───────┬────────────────────────────────────────────────────┬─────────────────────────┐\n",
       "│ index ┆ path                                               ┆ filename                │\n",
       "│ ---   ┆ ---                                                ┆ ---                     │\n",
       "│ i64   ┆ str                                                ┆ str                     │\n",
       "╞═══════╪════════════════════════════════════════════════════╪═════════════════════════╡\n",
       "│ 1     ┆ Downloads/credit_risk/test/test_applprev_2.parquet ┆ test_applprev_2.parquet │\n",
       "└───────┴────────────────────────────────────────────────────┴─────────────────────────┘"
      ]
     },
     "execution_count": 23,
     "metadata": {},
     "output_type": "execute_result"
    }
   ],
   "source": [
    "test_files_df.filter(pl.col(\"filename\").str.contains(\"applprev_2\"))"
   ]
  },
  {
   "cell_type": "code",
   "execution_count": 24,
   "metadata": {},
   "outputs": [
    {
     "data": {
      "text/html": [
       "<div><style>\n",
       ".dataframe > thead > tr,\n",
       ".dataframe > tbody > tr {\n",
       "  text-align: right;\n",
       "  white-space: pre-wrap;\n",
       "}\n",
       "</style>\n",
       "<small>shape: (5, 6)</small><table border=\"1\" class=\"dataframe\"><thead><tr><th>case_id</th><th>num_group1</th><th>num_group2</th><th>cacccardblochreas_147M</th><th>conts_type_509L</th><th>credacc_cards_status_52L</th></tr><tr><td>u32</td><td>u8</td><td>u8</td><td>cat</td><td>cat</td><td>cat</td></tr></thead><tbody><tr><td>57,543</td><td>0</td><td>0</td><td>null</td><td>&quot;PRIMARY_MOBILE&quot;</td><td>null</td></tr><tr><td>57,549</td><td>0</td><td>2</td><td>null</td><td>&quot;PHONE&quot;</td><td>null</td></tr><tr><td>57,549</td><td>0</td><td>0</td><td>null</td><td>&quot;PRIMARY_MOBILE&quot;</td><td>null</td></tr><tr><td>57,549</td><td>0</td><td>1</td><td>null</td><td>&quot;HOME_PHONE&quot;</td><td>null</td></tr><tr><td>57,551</td><td>1</td><td>1</td><td>null</td><td>&quot;PRIMARY_MOBILE&quot;</td><td>null</td></tr></tbody></table></div>"
      ],
      "text/plain": [
       "shape: (5, 6)\n",
       "┌─────────┬────────────┬────────────┬──────────────────────┬─────────────────┬─────────────────────┐\n",
       "│ case_id ┆ num_group1 ┆ num_group2 ┆ cacccardblochreas_14 ┆ conts_type_509L ┆ credacc_cards_statu │\n",
       "│ ---     ┆ ---        ┆ ---        ┆ 7M                   ┆ ---             ┆ s_52L               │\n",
       "│ u32     ┆ u8         ┆ u8         ┆ ---                  ┆ cat             ┆ ---                 │\n",
       "│         ┆            ┆            ┆ cat                  ┆                 ┆ cat                 │\n",
       "╞═════════╪════════════╪════════════╪══════════════════════╪═════════════════╪═════════════════════╡\n",
       "│ 57,543  ┆ 0          ┆ 0          ┆ null                 ┆ PRIMARY_MOBILE  ┆ null                │\n",
       "│ 57,549  ┆ 0          ┆ 2          ┆ null                 ┆ PHONE           ┆ null                │\n",
       "│ 57,549  ┆ 0          ┆ 0          ┆ null                 ┆ PRIMARY_MOBILE  ┆ null                │\n",
       "│ 57,549  ┆ 0          ┆ 1          ┆ null                 ┆ HOME_PHONE      ┆ null                │\n",
       "│ 57,551  ┆ 1          ┆ 1          ┆ null                 ┆ PRIMARY_MOBILE  ┆ null                │\n",
       "└─────────┴────────────┴────────────┴──────────────────────┴─────────────────┴─────────────────────┘"
      ]
     },
     "execution_count": 24,
     "metadata": {},
     "output_type": "execute_result"
    }
   ],
   "source": [
    "test_past_depth_two = (\n",
    "    pl.scan_parquet(all_test_files[1])\n",
    "    .select(train_past_depth_two.columns)\n",
    "    .cast(train_past_depth_two.schema)\n",
    ")\n",
    "test_past_depth_two.fetch().head()"
   ]
  },
  {
   "cell_type": "code",
   "execution_count": 25,
   "metadata": {},
   "outputs": [
    {
     "data": {
      "text/html": [
       "<div><style>\n",
       ".dataframe > thead > tr,\n",
       ".dataframe > tbody > tr {\n",
       "  text-align: right;\n",
       "  white-space: pre-wrap;\n",
       "}\n",
       "</style>\n",
       "<small>shape: (5, 4)</small><table border=\"1\" class=\"dataframe\"><thead><tr><th>case_id</th><th>num_group1</th><th>num_group2</th><th>cacccardblochreas_147M Card blocking reason.</th></tr><tr><td>u32</td><td>u8</td><td>u8</td><td>cat</td></tr></thead><tbody><tr><td>2</td><td>0</td><td>0</td><td>null</td></tr><tr><td>3</td><td>0</td><td>0</td><td>null</td></tr><tr><td>4</td><td>0</td><td>0</td><td>null</td></tr><tr><td>5</td><td>0</td><td>0</td><td>null</td></tr><tr><td>6</td><td>0</td><td>0</td><td>null</td></tr></tbody></table></div>"
      ],
      "text/plain": [
       "shape: (5, 4)\n",
       "┌─────────┬────────────┬────────────┬──────────────────────────────────────────────┐\n",
       "│ case_id ┆ num_group1 ┆ num_group2 ┆ cacccardblochreas_147M Card blocking reason. │\n",
       "│ ---     ┆ ---        ┆ ---        ┆ ---                                          │\n",
       "│ u32     ┆ u8         ┆ u8         ┆ cat                                          │\n",
       "╞═════════╪════════════╪════════════╪══════════════════════════════════════════════╡\n",
       "│ 2       ┆ 0          ┆ 0          ┆ null                                         │\n",
       "│ 3       ┆ 0          ┆ 0          ┆ null                                         │\n",
       "│ 4       ┆ 0          ┆ 0          ┆ null                                         │\n",
       "│ 5       ┆ 0          ┆ 0          ┆ null                                         │\n",
       "│ 6       ┆ 0          ┆ 0          ┆ null                                         │\n",
       "└─────────┴────────────┴────────────┴──────────────────────────────────────────────┘"
      ]
     },
     "execution_count": 25,
     "metadata": {},
     "output_type": "execute_result"
    }
   ],
   "source": [
    "total_past_depth_two = (\n",
    "    pl.concat(\n",
    "        [\n",
    "            train_past_depth_two,\n",
    "            test_past_depth_two\n",
    "        ]\n",
    "    )\n",
    "    .sort(by=\"case_id\")\n",
    "    .pipe(rename_cols)\n",
    "    .pipe(select_imputable_cols)\n",
    "    .group_by(\"case_id\")\n",
    "    .agg(\n",
    "        cs.integer().min(),\n",
    "        cs.categorical().drop_nulls().mode().first()\n",
    "    )\n",
    ")\n",
    "total_past_depth_two.fetch().head()"
   ]
  },
  {
   "cell_type": "markdown",
   "metadata": {},
   "source": [
    "## Static Files"
   ]
  },
  {
   "cell_type": "code",
   "execution_count": 26,
   "metadata": {},
   "outputs": [
    {
     "data": {
      "text/html": [
       "<div><style>\n",
       ".dataframe > thead > tr,\n",
       ".dataframe > tbody > tr {\n",
       "  text-align: right;\n",
       "  white-space: pre-wrap;\n",
       "}\n",
       "</style>\n",
       "<small>shape: (2, 3)</small><table border=\"1\" class=\"dataframe\"><thead><tr><th>index</th><th>path</th><th>filename</th></tr><tr><td>i64</td><td>str</td><td>str</td></tr></thead><tbody><tr><td>21</td><td>&quot;Downloads/credit_risk/train/train_static_0_0.parquet&quot;</td><td>&quot;train_static_0_0.parquet&quot;</td></tr><tr><td>16</td><td>&quot;Downloads/credit_risk/train/train_static_0_1.parquet&quot;</td><td>&quot;train_static_0_1.parquet&quot;</td></tr></tbody></table></div>"
      ],
      "text/plain": [
       "shape: (2, 3)\n",
       "┌───────┬──────────────────────────────────────────────────────┬──────────────────────────┐\n",
       "│ index ┆ path                                                 ┆ filename                 │\n",
       "│ ---   ┆ ---                                                  ┆ ---                      │\n",
       "│ i64   ┆ str                                                  ┆ str                      │\n",
       "╞═══════╪══════════════════════════════════════════════════════╪══════════════════════════╡\n",
       "│ 21    ┆ Downloads/credit_risk/train/train_static_0_0.parquet ┆ train_static_0_0.parquet │\n",
       "│ 16    ┆ Downloads/credit_risk/train/train_static_0_1.parquet ┆ train_static_0_1.parquet │\n",
       "└───────┴──────────────────────────────────────────────────────┴──────────────────────────┘"
      ]
     },
     "execution_count": 26,
     "metadata": {},
     "output_type": "execute_result"
    }
   ],
   "source": [
    "train_files_df.filter(cs.contains(\"file\").str.contains(\"train_static_0_\"))"
   ]
  },
  {
   "cell_type": "code",
   "execution_count": 27,
   "metadata": {},
   "outputs": [
    {
     "data": {
      "text/html": [
       "<div><style>\n",
       ".dataframe > thead > tr,\n",
       ".dataframe > tbody > tr {\n",
       "  text-align: right;\n",
       "  white-space: pre-wrap;\n",
       "}\n",
       "</style>\n",
       "<small>shape: (5, 153)</small><table border=\"1\" class=\"dataframe\"><thead><tr><th>case_id</th><th>equalitydataagreement_891L</th><th>equalityempfrom_62L</th><th>isbidproduct_1095L</th><th>isbidproductrequest_292L</th><th>isdebitcard_729L</th><th>opencred_647L</th><th>actualdpdtolerance_344P</th><th>amtinstpaidbefduel24m_4187115A</th><th>annuity_780A</th><th>annuitynextmonth_57A</th><th>applicationcnt_361L</th><th>applications30d_658L</th><th>applicationscnt_1086L</th><th>applicationscnt_464L</th><th>applicationscnt_629L</th><th>applicationscnt_867L</th><th>avgdbddpdlast24m_3658932P</th><th>avgdbddpdlast3m_4187120P</th><th>avgdbdtollast24m_4525197P</th><th>avgdpdtolclosure24_3658938P</th><th>avginstallast24m_3658937A</th><th>avglnamtstart24m_4525187A</th><th>avgmaxdpdlast9m_3716943P</th><th>avgoutstandbalancel6m_4187114A</th><th>avgpmtlast12m_4525200A</th><th>clientscnt12m_3712952L</th><th>clientscnt3m_3712950L</th><th>clientscnt6m_3712949L</th><th>clientscnt_100L</th><th>clientscnt_1022L</th><th>clientscnt_1071L</th><th>clientscnt_1130L</th><th>clientscnt_136L</th><th>clientscnt_157L</th><th>clientscnt_257L</th><th>clientscnt_304L</th><th>&hellip;</th><th>numpmtchanneldd_318L</th><th>numrejects9m_859L</th><th>pctinstlsallpaidearl3d_427L</th><th>pctinstlsallpaidlat10d_839L</th><th>pctinstlsallpaidlate1d_3546856L</th><th>pctinstlsallpaidlate4d_3546849L</th><th>pctinstlsallpaidlate6d_3546844L</th><th>pmtnum_254L</th><th>posfpd10lastmonth_333P</th><th>posfpd30lastmonth_3976960P</th><th>posfstqpd30lastmonth_3976962P</th><th>price_1097A</th><th>sellerplacecnt_915L</th><th>sellerplacescnt_216L</th><th>sumoutstandtotal_3546847A</th><th>sumoutstandtotalest_4493215A</th><th>totaldebt_9A</th><th>totalsettled_863A</th><th>totinstallast1m_4525188A</th><th>bankacctype_710L</th><th>cardtype_51L</th><th>credtype_322L</th><th>disbursementtype_67L</th><th>inittransactioncode_186L</th><th>lastapprcommoditycat_1041M</th><th>lastapprcommoditytypec_5251766M</th><th>lastcancelreason_561M</th><th>lastrejectcommoditycat_161M</th><th>lastrejectcommodtypec_5251769M</th><th>lastrejectreason_759M</th><th>lastrejectreasonclient_4145040M</th><th>lastst_736L</th><th>paytype1st_925L</th><th>paytype_783L</th><th>previouscontdistrict_112M</th><th>twobodfilling_608L</th><th>typesuite_864L</th></tr><tr><td>u32</td><td>bool</td><td>bool</td><td>bool</td><td>bool</td><td>bool</td><td>bool</td><td>f32</td><td>f32</td><td>f32</td><td>f32</td><td>f32</td><td>f32</td><td>f32</td><td>f32</td><td>f32</td><td>f32</td><td>f32</td><td>f32</td><td>f32</td><td>f32</td><td>f32</td><td>f32</td><td>f32</td><td>f32</td><td>f32</td><td>f32</td><td>f32</td><td>f32</td><td>f32</td><td>f32</td><td>f32</td><td>f32</td><td>f32</td><td>f32</td><td>f32</td><td>f32</td><td>&hellip;</td><td>f32</td><td>f32</td><td>f32</td><td>f32</td><td>f32</td><td>f32</td><td>f32</td><td>f32</td><td>f32</td><td>f32</td><td>f32</td><td>f32</td><td>f32</td><td>f32</td><td>f32</td><td>f32</td><td>f32</td><td>f32</td><td>f32</td><td>cat</td><td>cat</td><td>cat</td><td>cat</td><td>cat</td><td>cat</td><td>cat</td><td>cat</td><td>cat</td><td>cat</td><td>cat</td><td>cat</td><td>cat</td><td>cat</td><td>cat</td><td>cat</td><td>cat</td><td>cat</td></tr></thead><tbody><tr><td>0</td><td>null</td><td>null</td><td>false</td><td>null</td><td>null</td><td>null</td><td>null</td><td>null</td><td>1,917.60</td><td>0.00</td><td>0.00</td><td>0.00</td><td>0.00</td><td>0.00</td><td>0.00</td><td>0.00</td><td>null</td><td>null</td><td>null</td><td>null</td><td>null</td><td>null</td><td>null</td><td>null</td><td>null</td><td>0.00</td><td>0.00</td><td>0.00</td><td>0.00</td><td>0.00</td><td>0.00</td><td>0.00</td><td>null</td><td>0.00</td><td>0.00</td><td>0.00</td><td>&hellip;</td><td>0.00</td><td>0.00</td><td>null</td><td>null</td><td>null</td><td>null</td><td>null</td><td>24.00</td><td>0.00</td><td>0.00</td><td>null</td><td>null</td><td>0.00</td><td>0.00</td><td>null</td><td>null</td><td>0.00</td><td>0.00</td><td>null</td><td>null</td><td>null</td><td>&quot;CAL&quot;</td><td>&quot;GBA&quot;</td><td>&quot;CASH&quot;</td><td>&quot;a55475b1&quot;</td><td>&quot;a55475b1&quot;</td><td>&quot;a55475b1&quot;</td><td>&quot;a55475b1&quot;</td><td>&quot;a55475b1&quot;</td><td>&quot;a55475b1&quot;</td><td>&quot;a55475b1&quot;</td><td>null</td><td>&quot;OTHER&quot;</td><td>&quot;OTHER&quot;</td><td>&quot;a55475b1&quot;</td><td>&quot;BO&quot;</td><td>null</td></tr><tr><td>1</td><td>null</td><td>null</td><td>false</td><td>null</td><td>null</td><td>null</td><td>null</td><td>null</td><td>3,134.00</td><td>0.00</td><td>0.00</td><td>0.00</td><td>0.00</td><td>0.00</td><td>0.00</td><td>0.00</td><td>null</td><td>null</td><td>null</td><td>null</td><td>null</td><td>null</td><td>null</td><td>null</td><td>null</td><td>0.00</td><td>0.00</td><td>0.00</td><td>0.00</td><td>0.00</td><td>0.00</td><td>0.00</td><td>0.00</td><td>3.00</td><td>0.00</td><td>0.00</td><td>&hellip;</td><td>0.00</td><td>0.00</td><td>null</td><td>null</td><td>null</td><td>null</td><td>null</td><td>18.00</td><td>0.00</td><td>0.00</td><td>null</td><td>null</td><td>0.00</td><td>0.00</td><td>null</td><td>null</td><td>0.00</td><td>0.00</td><td>null</td><td>null</td><td>null</td><td>&quot;CAL&quot;</td><td>&quot;GBA&quot;</td><td>&quot;CASH&quot;</td><td>&quot;a55475b1&quot;</td><td>&quot;a55475b1&quot;</td><td>&quot;a55475b1&quot;</td><td>&quot;a55475b1&quot;</td><td>&quot;a55475b1&quot;</td><td>&quot;a55475b1&quot;</td><td>&quot;a55475b1&quot;</td><td>null</td><td>&quot;OTHER&quot;</td><td>&quot;OTHER&quot;</td><td>&quot;a55475b1&quot;</td><td>&quot;BO&quot;</td><td>null</td></tr><tr><td>2</td><td>null</td><td>null</td><td>false</td><td>null</td><td>null</td><td>false</td><td>null</td><td>null</td><td>4,937.00</td><td>0.00</td><td>0.00</td><td>0.00</td><td>0.00</td><td>0.00</td><td>0.00</td><td>0.00</td><td>null</td><td>null</td><td>null</td><td>null</td><td>null</td><td>null</td><td>null</td><td>null</td><td>null</td><td>0.00</td><td>0.00</td><td>0.00</td><td>0.00</td><td>0.00</td><td>0.00</td><td>0.00</td><td>null</td><td>0.00</td><td>0.00</td><td>0.00</td><td>&hellip;</td><td>0.00</td><td>0.00</td><td>null</td><td>null</td><td>null</td><td>null</td><td>null</td><td>36.00</td><td>0.00</td><td>0.00</td><td>null</td><td>null</td><td>0.00</td><td>0.00</td><td>null</td><td>null</td><td>0.00</td><td>0.00</td><td>null</td><td>null</td><td>null</td><td>&quot;CAL&quot;</td><td>&quot;GBA&quot;</td><td>&quot;CASH&quot;</td><td>&quot;a55475b1&quot;</td><td>&quot;a55475b1&quot;</td><td>&quot;a55475b1&quot;</td><td>&quot;a55475b1&quot;</td><td>&quot;a55475b1&quot;</td><td>&quot;a55475b1&quot;</td><td>&quot;a55475b1&quot;</td><td>&quot;D&quot;</td><td>&quot;OTHER&quot;</td><td>&quot;OTHER&quot;</td><td>&quot;a55475b1&quot;</td><td>&quot;BO&quot;</td><td>&quot;AL&quot;</td></tr><tr><td>3</td><td>true</td><td>true</td><td>false</td><td>null</td><td>null</td><td>false</td><td>null</td><td>null</td><td>4,643.60</td><td>0.00</td><td>0.00</td><td>1.00</td><td>0.00</td><td>2.00</td><td>0.00</td><td>1.00</td><td>null</td><td>null</td><td>null</td><td>null</td><td>null</td><td>null</td><td>null</td><td>null</td><td>null</td><td>0.00</td><td>0.00</td><td>0.00</td><td>0.00</td><td>0.00</td><td>0.00</td><td>1.00</td><td>null</td><td>0.00</td><td>0.00</td><td>0.00</td><td>&hellip;</td><td>0.00</td><td>1.00</td><td>null</td><td>null</td><td>null</td><td>null</td><td>null</td><td>12.00</td><td>0.00</td><td>0.00</td><td>null</td><td>null</td><td>1.00</td><td>1.00</td><td>null</td><td>null</td><td>0.00</td><td>0.00</td><td>null</td><td>null</td><td>null</td><td>&quot;CAL&quot;</td><td>&quot;GBA&quot;</td><td>&quot;CASH&quot;</td><td>&quot;a55475b1&quot;</td><td>&quot;a55475b1&quot;</td><td>&quot;P94_109_143&quot;</td><td>&quot;a55475b1&quot;</td><td>&quot;a55475b1&quot;</td><td>&quot;P94_109_143&quot;</td><td>&quot;a55475b1&quot;</td><td>&quot;D&quot;</td><td>&quot;OTHER&quot;</td><td>&quot;OTHER&quot;</td><td>&quot;a55475b1&quot;</td><td>&quot;BO&quot;</td><td>&quot;AL&quot;</td></tr><tr><td>4</td><td>null</td><td>null</td><td>false</td><td>null</td><td>null</td><td>false</td><td>null</td><td>null</td><td>3,390.20</td><td>0.00</td><td>0.00</td><td>1.00</td><td>0.00</td><td>0.00</td><td>0.00</td><td>1.00</td><td>null</td><td>null</td><td>null</td><td>null</td><td>null</td><td>null</td><td>null</td><td>null</td><td>null</td><td>0.00</td><td>0.00</td><td>0.00</td><td>0.00</td><td>0.00</td><td>0.00</td><td>0.00</td><td>null</td><td>0.00</td><td>0.00</td><td>0.00</td><td>&hellip;</td><td>0.00</td><td>0.00</td><td>null</td><td>null</td><td>null</td><td>null</td><td>null</td><td>24.00</td><td>0.00</td><td>0.00</td><td>null</td><td>null</td><td>0.00</td><td>0.00</td><td>null</td><td>null</td><td>0.00</td><td>0.00</td><td>null</td><td>null</td><td>null</td><td>&quot;CAL&quot;</td><td>&quot;GBA&quot;</td><td>&quot;CASH&quot;</td><td>&quot;a55475b1&quot;</td><td>&quot;a55475b1&quot;</td><td>&quot;P24_27_36&quot;</td><td>&quot;a55475b1&quot;</td><td>&quot;a55475b1&quot;</td><td>&quot;a55475b1&quot;</td><td>&quot;a55475b1&quot;</td><td>&quot;T&quot;</td><td>&quot;OTHER&quot;</td><td>&quot;OTHER&quot;</td><td>&quot;a55475b1&quot;</td><td>&quot;BO&quot;</td><td>&quot;AL&quot;</td></tr></tbody></table></div>"
      ],
      "text/plain": [
       "shape: (5, 153)\n",
       "┌─────────┬────────────┬───────────┬───────────┬───┬───────────┬───────────┬───────────┬───────────┐\n",
       "│ case_id ┆ equalityda ┆ equalitye ┆ isbidprod ┆ … ┆ paytype_7 ┆ previousc ┆ twobodfil ┆ typesuite │\n",
       "│ ---     ┆ taagreemen ┆ mpfrom_62 ┆ uct_1095L ┆   ┆ 83L       ┆ ontdistri ┆ ling_608L ┆ _864L     │\n",
       "│ u32     ┆ t_891L     ┆ L         ┆ ---       ┆   ┆ ---       ┆ ct_112M   ┆ ---       ┆ ---       │\n",
       "│         ┆ ---        ┆ ---       ┆ bool      ┆   ┆ cat       ┆ ---       ┆ cat       ┆ cat       │\n",
       "│         ┆ bool       ┆ bool      ┆           ┆   ┆           ┆ cat       ┆           ┆           │\n",
       "╞═════════╪════════════╪═══════════╪═══════════╪═══╪═══════════╪═══════════╪═══════════╪═══════════╡\n",
       "│ 0       ┆ null       ┆ null      ┆ false     ┆ … ┆ OTHER     ┆ a55475b1  ┆ BO        ┆ null      │\n",
       "│ 1       ┆ null       ┆ null      ┆ false     ┆ … ┆ OTHER     ┆ a55475b1  ┆ BO        ┆ null      │\n",
       "│ 2       ┆ null       ┆ null      ┆ false     ┆ … ┆ OTHER     ┆ a55475b1  ┆ BO        ┆ AL        │\n",
       "│ 3       ┆ true       ┆ true      ┆ false     ┆ … ┆ OTHER     ┆ a55475b1  ┆ BO        ┆ AL        │\n",
       "│ 4       ┆ null       ┆ null      ┆ false     ┆ … ┆ OTHER     ┆ a55475b1  ┆ BO        ┆ AL        │\n",
       "└─────────┴────────────┴───────────┴───────────┴───┴───────────┴───────────┴───────────┴───────────┘"
      ]
     },
     "execution_count": 27,
     "metadata": {},
     "output_type": "execute_result"
    }
   ],
   "source": [
    "train_static_base = (\n",
    "    pl.scan_parquet(\"Downloads/credit_risk/train/train_static_0_*.parquet\")\n",
    "    .drop(cs.ends_with(\"D\"))\n",
    "    .select(\n",
    "        cs.by_name(\"case_id\").cast(pl.UInt32),\n",
    "        cs.boolean(),\n",
    "        cs.float().cast(pl.Float32),\n",
    "        cs.string().cast(pl.Categorical)\n",
    "    )\n",
    ")\n",
    "train_static_base.fetch().head()"
   ]
  },
  {
   "cell_type": "code",
   "execution_count": 28,
   "metadata": {},
   "outputs": [
    {
     "data": {
      "text/html": [
       "<div><style>\n",
       ".dataframe > thead > tr,\n",
       ".dataframe > tbody > tr {\n",
       "  text-align: right;\n",
       "  white-space: pre-wrap;\n",
       "}\n",
       "</style>\n",
       "<small>shape: (4, 3)</small><table border=\"1\" class=\"dataframe\"><thead><tr><th>index</th><th>path</th><th>filename</th></tr><tr><td>i64</td><td>str</td><td>str</td></tr></thead><tbody><tr><td>32</td><td>&quot;Downloads/credit_risk/test/test_static_0_0.parquet&quot;</td><td>&quot;test_static_0_0.parquet&quot;</td></tr><tr><td>23</td><td>&quot;Downloads/credit_risk/test/test_static_0_1.parquet&quot;</td><td>&quot;test_static_0_1.parquet&quot;</td></tr><tr><td>13</td><td>&quot;Downloads/credit_risk/test/test_static_0_2.parquet&quot;</td><td>&quot;test_static_0_2.parquet&quot;</td></tr><tr><td>10</td><td>&quot;Downloads/credit_risk/test/test_static_cb_0.parquet&quot;</td><td>&quot;test_static_cb_0.parquet&quot;</td></tr></tbody></table></div>"
      ],
      "text/plain": [
       "shape: (4, 3)\n",
       "┌───────┬─────────────────────────────────────────────────────┬──────────────────────────┐\n",
       "│ index ┆ path                                                ┆ filename                 │\n",
       "│ ---   ┆ ---                                                 ┆ ---                      │\n",
       "│ i64   ┆ str                                                 ┆ str                      │\n",
       "╞═══════╪═════════════════════════════════════════════════════╪══════════════════════════╡\n",
       "│ 32    ┆ Downloads/credit_risk/test/test_static_0_0.parquet  ┆ test_static_0_0.parquet  │\n",
       "│ 23    ┆ Downloads/credit_risk/test/test_static_0_1.parquet  ┆ test_static_0_1.parquet  │\n",
       "│ 13    ┆ Downloads/credit_risk/test/test_static_0_2.parquet  ┆ test_static_0_2.parquet  │\n",
       "│ 10    ┆ Downloads/credit_risk/test/test_static_cb_0.parquet ┆ test_static_cb_0.parquet │\n",
       "└───────┴─────────────────────────────────────────────────────┴──────────────────────────┘"
      ]
     },
     "execution_count": 28,
     "metadata": {},
     "output_type": "execute_result"
    }
   ],
   "source": [
    "test_files_df.filter(pl.col(\"filename\").str.contains(\"static\"))"
   ]
  },
  {
   "cell_type": "code",
   "execution_count": 29,
   "metadata": {},
   "outputs": [
    {
     "data": {
      "text/html": [
       "<div><style>\n",
       ".dataframe > thead > tr,\n",
       ".dataframe > tbody > tr {\n",
       "  text-align: right;\n",
       "  white-space: pre-wrap;\n",
       "}\n",
       "</style>\n",
       "<small>shape: (5, 153)</small><table border=\"1\" class=\"dataframe\"><thead><tr><th>case_id</th><th>equalitydataagreement_891L</th><th>equalityempfrom_62L</th><th>isbidproduct_1095L</th><th>isbidproductrequest_292L</th><th>isdebitcard_729L</th><th>opencred_647L</th><th>actualdpdtolerance_344P</th><th>amtinstpaidbefduel24m_4187115A</th><th>annuity_780A</th><th>annuitynextmonth_57A</th><th>applicationcnt_361L</th><th>applications30d_658L</th><th>applicationscnt_1086L</th><th>applicationscnt_464L</th><th>applicationscnt_629L</th><th>applicationscnt_867L</th><th>avgdbddpdlast24m_3658932P</th><th>avgdbddpdlast3m_4187120P</th><th>avgdbdtollast24m_4525197P</th><th>avgdpdtolclosure24_3658938P</th><th>avginstallast24m_3658937A</th><th>avglnamtstart24m_4525187A</th><th>avgmaxdpdlast9m_3716943P</th><th>avgoutstandbalancel6m_4187114A</th><th>avgpmtlast12m_4525200A</th><th>clientscnt12m_3712952L</th><th>clientscnt3m_3712950L</th><th>clientscnt6m_3712949L</th><th>clientscnt_100L</th><th>clientscnt_1022L</th><th>clientscnt_1071L</th><th>clientscnt_1130L</th><th>clientscnt_136L</th><th>clientscnt_157L</th><th>clientscnt_257L</th><th>clientscnt_304L</th><th>&hellip;</th><th>numpmtchanneldd_318L</th><th>numrejects9m_859L</th><th>pctinstlsallpaidearl3d_427L</th><th>pctinstlsallpaidlat10d_839L</th><th>pctinstlsallpaidlate1d_3546856L</th><th>pctinstlsallpaidlate4d_3546849L</th><th>pctinstlsallpaidlate6d_3546844L</th><th>pmtnum_254L</th><th>posfpd10lastmonth_333P</th><th>posfpd30lastmonth_3976960P</th><th>posfstqpd30lastmonth_3976962P</th><th>price_1097A</th><th>sellerplacecnt_915L</th><th>sellerplacescnt_216L</th><th>sumoutstandtotal_3546847A</th><th>sumoutstandtotalest_4493215A</th><th>totaldebt_9A</th><th>totalsettled_863A</th><th>totinstallast1m_4525188A</th><th>bankacctype_710L</th><th>cardtype_51L</th><th>credtype_322L</th><th>disbursementtype_67L</th><th>inittransactioncode_186L</th><th>lastapprcommoditycat_1041M</th><th>lastapprcommoditytypec_5251766M</th><th>lastcancelreason_561M</th><th>lastrejectcommoditycat_161M</th><th>lastrejectcommodtypec_5251769M</th><th>lastrejectreason_759M</th><th>lastrejectreasonclient_4145040M</th><th>lastst_736L</th><th>paytype1st_925L</th><th>paytype_783L</th><th>previouscontdistrict_112M</th><th>twobodfilling_608L</th><th>typesuite_864L</th></tr><tr><td>u32</td><td>bool</td><td>bool</td><td>bool</td><td>bool</td><td>bool</td><td>bool</td><td>f32</td><td>f32</td><td>f32</td><td>f32</td><td>f32</td><td>f32</td><td>f32</td><td>f32</td><td>f32</td><td>f32</td><td>f32</td><td>f32</td><td>f32</td><td>f32</td><td>f32</td><td>f32</td><td>f32</td><td>f32</td><td>f32</td><td>f32</td><td>f32</td><td>f32</td><td>f32</td><td>f32</td><td>f32</td><td>f32</td><td>f32</td><td>f32</td><td>f32</td><td>f32</td><td>&hellip;</td><td>f32</td><td>f32</td><td>f32</td><td>f32</td><td>f32</td><td>f32</td><td>f32</td><td>f32</td><td>f32</td><td>f32</td><td>f32</td><td>f32</td><td>f32</td><td>f32</td><td>f32</td><td>f32</td><td>f32</td><td>f32</td><td>f32</td><td>cat</td><td>cat</td><td>cat</td><td>cat</td><td>cat</td><td>cat</td><td>cat</td><td>cat</td><td>cat</td><td>cat</td><td>cat</td><td>cat</td><td>cat</td><td>cat</td><td>cat</td><td>cat</td><td>cat</td><td>cat</td></tr></thead><tbody><tr><td>57,543</td><td>null</td><td>null</td><td>false</td><td>null</td><td>null</td><td>false</td><td>null</td><td>null</td><td>7,637.20</td><td>0.00</td><td>0.00</td><td>0.00</td><td>0.00</td><td>0.00</td><td>0.00</td><td>1.00</td><td>null</td><td>null</td><td>null</td><td>null</td><td>null</td><td>null</td><td>null</td><td>null</td><td>null</td><td>0.00</td><td>0.00</td><td>0.00</td><td>0.00</td><td>0.00</td><td>0.00</td><td>0.00</td><td>null</td><td>0.00</td><td>0.00</td><td>0.00</td><td>&hellip;</td><td>0.00</td><td>0.00</td><td>null</td><td>null</td><td>null</td><td>null</td><td>null</td><td>36.00</td><td>0.00</td><td>0.00</td><td>0.00</td><td>0.00</td><td>0.00</td><td>1.00</td><td>null</td><td>null</td><td>0.00</td><td>0.00</td><td>null</td><td>null</td><td>null</td><td>&quot;CAL&quot;</td><td>&quot;GBA&quot;</td><td>&quot;CASH&quot;</td><td>&quot;a55475b1&quot;</td><td>&quot;a55475b1&quot;</td><td>&quot;P94_109_143&quot;</td><td>&quot;P159_130_59&quot;</td><td>&quot;P75_90_70&quot;</td><td>&quot;P99_56_166&quot;</td><td>&quot;P94_109_143&quot;</td><td>&quot;D&quot;</td><td>&quot;OTHER&quot;</td><td>&quot;OTHER&quot;</td><td>&quot;a55475b1&quot;</td><td>&quot;FO&quot;</td><td>&quot;AL&quot;</td></tr><tr><td>57,549</td><td>null</td><td>null</td><td>false</td><td>null</td><td>null</td><td>false</td><td>null</td><td>null</td><td>902.60</td><td>0.00</td><td>0.00</td><td>0.00</td><td>0.00</td><td>0.00</td><td>0.00</td><td>0.00</td><td>null</td><td>null</td><td>null</td><td>null</td><td>null</td><td>null</td><td>null</td><td>null</td><td>null</td><td>0.00</td><td>0.00</td><td>0.00</td><td>0.00</td><td>0.00</td><td>0.00</td><td>0.00</td><td>null</td><td>1.00</td><td>0.00</td><td>0.00</td><td>&hellip;</td><td>0.00</td><td>0.00</td><td>null</td><td>null</td><td>null</td><td>null</td><td>null</td><td>12.00</td><td>0.00</td><td>0.00</td><td>1.00</td><td>null</td><td>0.00</td><td>0.00</td><td>null</td><td>null</td><td>0.00</td><td>0.00</td><td>null</td><td>null</td><td>null</td><td>&quot;CAL&quot;</td><td>&quot;GBA&quot;</td><td>&quot;CASH&quot;</td><td>&quot;a55475b1&quot;</td><td>&quot;a55475b1&quot;</td><td>&quot;P94_109_143&quot;</td><td>&quot;a55475b1&quot;</td><td>&quot;a55475b1&quot;</td><td>&quot;P45_84_106&quot;</td><td>&quot;P94_109_143&quot;</td><td>&quot;D&quot;</td><td>&quot;OTHER&quot;</td><td>&quot;OTHER&quot;</td><td>&quot;a55475b1&quot;</td><td>&quot;BO&quot;</td><td>&quot;AL&quot;</td></tr><tr><td>57,551</td><td>null</td><td>null</td><td>false</td><td>null</td><td>null</td><td>false</td><td>null</td><td>null</td><td>3,610.20</td><td>0.00</td><td>0.00</td><td>0.00</td><td>0.00</td><td>0.00</td><td>0.00</td><td>2.00</td><td>null</td><td>null</td><td>null</td><td>null</td><td>null</td><td>null</td><td>null</td><td>null</td><td>null</td><td>0.00</td><td>0.00</td><td>0.00</td><td>0.00</td><td>0.00</td><td>0.00</td><td>0.00</td><td>null</td><td>1.00</td><td>0.00</td><td>0.00</td><td>&hellip;</td><td>0.00</td><td>0.00</td><td>null</td><td>null</td><td>null</td><td>null</td><td>null</td><td>12.00</td><td>0.00</td><td>0.00</td><td>0.00</td><td>null</td><td>0.00</td><td>1.00</td><td>null</td><td>null</td><td>0.00</td><td>0.00</td><td>null</td><td>null</td><td>null</td><td>&quot;CAL&quot;</td><td>&quot;GBA&quot;</td><td>&quot;CASH&quot;</td><td>&quot;a55475b1&quot;</td><td>&quot;a55475b1&quot;</td><td>&quot;P94_109_143&quot;</td><td>&quot;a55475b1&quot;</td><td>&quot;a55475b1&quot;</td><td>&quot;P99_56_166&quot;</td><td>&quot;P94_109_143&quot;</td><td>&quot;D&quot;</td><td>&quot;OTHER&quot;</td><td>&quot;OTHER&quot;</td><td>&quot;a55475b1&quot;</td><td>&quot;BO&quot;</td><td>&quot;AL&quot;</td></tr><tr><td>57,552</td><td>null</td><td>null</td><td>false</td><td>null</td><td>null</td><td>false</td><td>null</td><td>null</td><td>6,964.40</td><td>0.00</td><td>0.00</td><td>0.00</td><td>0.00</td><td>0.00</td><td>0.00</td><td>1.00</td><td>null</td><td>null</td><td>null</td><td>null</td><td>null</td><td>null</td><td>null</td><td>null</td><td>null</td><td>0.00</td><td>0.00</td><td>0.00</td><td>0.00</td><td>0.00</td><td>0.00</td><td>1.00</td><td>null</td><td>0.00</td><td>0.00</td><td>0.00</td><td>&hellip;</td><td>0.00</td><td>0.00</td><td>null</td><td>null</td><td>null</td><td>null</td><td>null</td><td>18.00</td><td>0.00</td><td>0.00</td><td>0.00</td><td>null</td><td>0.00</td><td>0.00</td><td>null</td><td>null</td><td>0.00</td><td>0.00</td><td>null</td><td>&quot;CA&quot;</td><td>null</td><td>&quot;CAL&quot;</td><td>&quot;GBA&quot;</td><td>&quot;CASH&quot;</td><td>&quot;a55475b1&quot;</td><td>&quot;a55475b1&quot;</td><td>&quot;P94_109_143&quot;</td><td>&quot;a55475b1&quot;</td><td>&quot;a55475b1&quot;</td><td>&quot;P45_84_106&quot;</td><td>&quot;P94_109_143&quot;</td><td>&quot;D&quot;</td><td>&quot;OTHER&quot;</td><td>&quot;OTHER&quot;</td><td>&quot;a55475b1&quot;</td><td>&quot;FO&quot;</td><td>null</td></tr><tr><td>57,569</td><td>null</td><td>null</td><td>false</td><td>null</td><td>null</td><td>null</td><td>null</td><td>null</td><td>5,553.40</td><td>0.00</td><td>0.00</td><td>0.00</td><td>0.00</td><td>0.00</td><td>0.00</td><td>0.00</td><td>null</td><td>null</td><td>null</td><td>null</td><td>null</td><td>null</td><td>null</td><td>null</td><td>null</td><td>0.00</td><td>0.00</td><td>0.00</td><td>0.00</td><td>0.00</td><td>0.00</td><td>0.00</td><td>null</td><td>0.00</td><td>0.00</td><td>0.00</td><td>&hellip;</td><td>0.00</td><td>0.00</td><td>null</td><td>null</td><td>null</td><td>null</td><td>null</td><td>11.00</td><td>0.00</td><td>0.00</td><td>0.00</td><td>null</td><td>0.00</td><td>0.00</td><td>null</td><td>null</td><td>0.00</td><td>0.00</td><td>null</td><td>&quot;CA&quot;</td><td>null</td><td>&quot;CAL&quot;</td><td>&quot;GBA&quot;</td><td>&quot;CASH&quot;</td><td>&quot;a55475b1&quot;</td><td>&quot;a55475b1&quot;</td><td>&quot;a55475b1&quot;</td><td>&quot;a55475b1&quot;</td><td>&quot;a55475b1&quot;</td><td>&quot;a55475b1&quot;</td><td>&quot;a55475b1&quot;</td><td>null</td><td>&quot;OTHER&quot;</td><td>&quot;OTHER&quot;</td><td>&quot;a55475b1&quot;</td><td>&quot;FO&quot;</td><td>&quot;AL&quot;</td></tr></tbody></table></div>"
      ],
      "text/plain": [
       "shape: (5, 153)\n",
       "┌─────────┬────────────┬───────────┬───────────┬───┬───────────┬───────────┬───────────┬───────────┐\n",
       "│ case_id ┆ equalityda ┆ equalitye ┆ isbidprod ┆ … ┆ paytype_7 ┆ previousc ┆ twobodfil ┆ typesuite │\n",
       "│ ---     ┆ taagreemen ┆ mpfrom_62 ┆ uct_1095L ┆   ┆ 83L       ┆ ontdistri ┆ ling_608L ┆ _864L     │\n",
       "│ u32     ┆ t_891L     ┆ L         ┆ ---       ┆   ┆ ---       ┆ ct_112M   ┆ ---       ┆ ---       │\n",
       "│         ┆ ---        ┆ ---       ┆ bool      ┆   ┆ cat       ┆ ---       ┆ cat       ┆ cat       │\n",
       "│         ┆ bool       ┆ bool      ┆           ┆   ┆           ┆ cat       ┆           ┆           │\n",
       "╞═════════╪════════════╪═══════════╪═══════════╪═══╪═══════════╪═══════════╪═══════════╪═══════════╡\n",
       "│ 57,543  ┆ null       ┆ null      ┆ false     ┆ … ┆ OTHER     ┆ a55475b1  ┆ FO        ┆ AL        │\n",
       "│ 57,549  ┆ null       ┆ null      ┆ false     ┆ … ┆ OTHER     ┆ a55475b1  ┆ BO        ┆ AL        │\n",
       "│ 57,551  ┆ null       ┆ null      ┆ false     ┆ … ┆ OTHER     ┆ a55475b1  ┆ BO        ┆ AL        │\n",
       "│ 57,552  ┆ null       ┆ null      ┆ false     ┆ … ┆ OTHER     ┆ a55475b1  ┆ FO        ┆ null      │\n",
       "│ 57,569  ┆ null       ┆ null      ┆ false     ┆ … ┆ OTHER     ┆ a55475b1  ┆ FO        ┆ AL        │\n",
       "└─────────┴────────────┴───────────┴───────────┴───┴───────────┴───────────┴───────────┴───────────┘"
      ]
     },
     "execution_count": 29,
     "metadata": {},
     "output_type": "execute_result"
    }
   ],
   "source": [
    "test_static_base = (\n",
    "    pl.concat(\n",
    "        [\n",
    "            (\n",
    "                pl.scan_parquet(\"Downloads/credit_risk/test/test_static_0_0.parquet\")\n",
    "                .select(train_static_base.columns)\n",
    "                .cast(train_static_base.schema)\n",
    "            ),\n",
    "            (\n",
    "                pl.scan_parquet(\"Downloads/credit_risk/test/test_static_0_1.parquet\")\n",
    "                .select(train_static_base.columns)\n",
    "                .cast(train_static_base.schema)\n",
    "            ),\n",
    "            (\n",
    "                pl.scan_parquet(\"Downloads/credit_risk/test/test_static_0_2.parquet\")\n",
    "                .select(train_static_base.columns)\n",
    "                .cast(train_static_base.schema)\n",
    "            )\n",
    "        ],\n",
    "        rechunk=True\n",
    "    )\n",
    ")\n",
    "test_static_base.fetch().head()"
   ]
  },
  {
   "cell_type": "code",
   "execution_count": 30,
   "metadata": {},
   "outputs": [
    {
     "data": {
      "text/html": [
       "<div><style>\n",
       ".dataframe > thead > tr,\n",
       ".dataframe > tbody > tr {\n",
       "  text-align: right;\n",
       "  white-space: pre-wrap;\n",
       "}\n",
       "</style>\n",
       "<small>shape: (5, 62)</small><table border=\"1\" class=\"dataframe\"><thead><tr><th>case_id</th><th>isbidproduct_1095L Flag indicating if the product is a cross-sell.</th><th>annuity_780A Monthly annuity amount.</th><th>applicationcnt_361L Number of applications associated with the same email address as the client.</th><th>applications30d_658L Number of applications made by the client in the last 30 days.</th><th>applicationscnt_1086L Number of applications associated with the same phone number.</th><th>applicationscnt_464L Number of applications made in the last 30 days by other clients with the same employer as the applicant.</th><th>applicationscnt_629L Number of applications with the same employer in the last 7 days.</th><th>applicationscnt_867L Number of applications associated with the same mobile phone.</th><th>clientscnt12m_3712952L Number of clients that have used the same mobile phone as the applicant in the past 12 months.</th><th>clientscnt3m_3712950L Number of clients who have the same mobile phone number in the last 3 months.</th><th>clientscnt6m_3712949L Total number of clients who have used the same mobile number in the last 6 months.</th><th>clientscnt_100L Number of applications with matching employer&#x27;s phone and client&#x27;s.</th><th>clientscnt_1022L Number of clients sharing the same mobile phone.</th><th>clientscnt_1071L Number of applications where the alternative phone number matches that of the client.</th><th>clientscnt_1130L Number of applications where client&#x27;s phone number matches the alternative phone contact.</th><th>clientscnt_157L Number of clients whose employer has the same phone number as the client.</th><th>clientscnt_257L Number of clients that share an alternative phone number with the applicant.</th><th>clientscnt_304L Number of clients with the same phone number.</th><th>clientscnt_360L Number of clients that have the same alternative phone number and employer&#x27;s phone number.</th><th>clientscnt_493L Number of clients with matching phone numbers for both the employer and the client.</th><th>clientscnt_533L Number of clients with same client&#x27;s and alternative&#x27;s phone number</th><th>clientscnt_887L Number of clients sharing the same employer&#x27;s phone number.</th><th>clientscnt_946L Number of clients with matching mobile and employer&#x27;s number.</th><th>credamount_770A Loan amount or credit card limit.</th><th>disbursedcredamount_1113A Disbursed credit amount after consolidation.</th><th>downpmt_116A Amount of downpayment.</th><th>homephncnt_628L Number of distinct home phones on client&#x27;s application.</th><th>mobilephncnt_593L Number of persons with the same mobile phone number.</th><th>numactivecreds_622L Number of active credits.</th><th>numactivecredschannel_414L Number of active credits.</th><th>numactiverelcontr_750L Number of active revolving credits.</th><th>numcontrs3months_479L Number of contracts in last 3 months.</th><th>numnotactivated_1143L Number of non-activated credits.</th><th>numpmtchanneldd_318L Number of previous loan contracts for the applicant that had direct debit as payment channel.</th><th>numrejects9m_859L Number of credit applications that were rejected in the last 9 months.</th><th>sellerplacecnt_915L Number of sellerplaces where the same client&#x27;s document was used.</th><th>sellerplacescnt_216L Number of sellerplaces where the same client&#x27;s mobile phone was used.</th><th>lastapprcommoditycat_1041M Commodity category of the last loan applications made by the applicant.</th><th>lastapprcommoditytypec_5251766M Commodity type of the last application.</th><th>lastcancelreason_561M Cancellation reason of the last application.</th><th>lastrejectcommoditycat_161M Category of commodity in the applicant&#x27;s last rejected application.</th><th>lastrejectcommodtypec_5251769M Commodity type of the last rejected application.</th><th>lastrejectreason_759M Reason for rejection on the most recent rejected application.</th><th>lastrejectreasonclient_4145040M Reason for the client&#x27;s last loan rejection.</th><th>previouscontdistrict_112M Contact district of the client&#x27;s previous approved application.</th><th>credtype_322L Type of credit.</th><th>inittransactioncode_186L Transaction type of the initial credit transaction.</th><th>totaldebt_9A Total amount of debt.</th><th>annuitynextmonth_57A Next month&#x27;s amount of annuity.</th><th>currdebt_22A Current debt amount of the client.</th><th>currdebtcredtyperange_828A Current amount of debt of the applicant.</th><th>numinstls_657L Number of instalments.</th><th>totalsettled_863A Sum of all payments made by the client.</th><th>deferredmnthsnum_166L Number of deferred months.</th><th>twobodfilling_608L Type of application process.</th><th>disbursementtype_67L Type of disbursement.</th><th>pmtnum_254L Total number of loan payments made by the client.</th><th>paytype1st_925L Type of first payment of the client.</th><th>paytype_783L Type of payment.</th><th>posfpd10lastmonth_333P Average FPD10 (Share of contracts with first installment past due more than 10 days) from point of sales that processed contract in the previous month.</th><th>posfpd30lastmonth_3976960P Average FPD30 (Share of contracts with first installment past due more than 30 days) from point of sales that processed contract in the previous month.</th></tr><tr><td>u32</td><td>u8</td><td>f32</td><td>f32</td><td>f32</td><td>f32</td><td>f32</td><td>f32</td><td>f32</td><td>f32</td><td>f32</td><td>f32</td><td>f32</td><td>f32</td><td>f32</td><td>f32</td><td>f32</td><td>f32</td><td>f32</td><td>f32</td><td>f32</td><td>f32</td><td>f32</td><td>f32</td><td>f32</td><td>f32</td><td>f32</td><td>f32</td><td>f32</td><td>f32</td><td>f32</td><td>f32</td><td>f32</td><td>f32</td><td>f32</td><td>f32</td><td>f32</td><td>f32</td><td>cat</td><td>cat</td><td>cat</td><td>cat</td><td>cat</td><td>cat</td><td>cat</td><td>cat</td><td>cat</td><td>cat</td><td>f32</td><td>f32</td><td>f32</td><td>f32</td><td>f32</td><td>f32</td><td>f32</td><td>cat</td><td>cat</td><td>f32</td><td>cat</td><td>cat</td><td>f32</td><td>f32</td></tr></thead><tbody><tr><td>0</td><td>0</td><td>1,917.60</td><td>0.00</td><td>0.00</td><td>0.00</td><td>0.00</td><td>0.00</td><td>0.00</td><td>0.00</td><td>0.00</td><td>0.00</td><td>0.00</td><td>0.00</td><td>0.00</td><td>0.00</td><td>0.00</td><td>0.00</td><td>0.00</td><td>0.00</td><td>0.00</td><td>0.00</td><td>0.00</td><td>0.00</td><td>30,000.00</td><td>30,000.00</td><td>0.00</td><td>0.00</td><td>1.00</td><td>0.00</td><td>0.00</td><td>0.00</td><td>0.00</td><td>0.00</td><td>0.00</td><td>0.00</td><td>0.00</td><td>0.00</td><td>&quot;a55475b1&quot;</td><td>&quot;a55475b1&quot;</td><td>&quot;a55475b1&quot;</td><td>&quot;a55475b1&quot;</td><td>&quot;a55475b1&quot;</td><td>&quot;a55475b1&quot;</td><td>&quot;a55475b1&quot;</td><td>&quot;a55475b1&quot;</td><td>&quot;CAL&quot;</td><td>&quot;CASH&quot;</td><td>0.00</td><td>0.00</td><td>0.00</td><td>0.00</td><td>0.00</td><td>0.00</td><td>0.00</td><td>&quot;BO&quot;</td><td>&quot;GBA&quot;</td><td>24.00</td><td>&quot;OTHER&quot;</td><td>&quot;OTHER&quot;</td><td>0.00</td><td>0.00</td></tr><tr><td>1</td><td>0</td><td>3,134.00</td><td>0.00</td><td>0.00</td><td>0.00</td><td>0.00</td><td>0.00</td><td>0.00</td><td>0.00</td><td>0.00</td><td>0.00</td><td>0.00</td><td>0.00</td><td>0.00</td><td>0.00</td><td>3.00</td><td>0.00</td><td>0.00</td><td>0.00</td><td>0.00</td><td>0.00</td><td>0.00</td><td>0.00</td><td>19,999.80</td><td>19,999.80</td><td>0.00</td><td>0.00</td><td>1.00</td><td>0.00</td><td>0.00</td><td>0.00</td><td>0.00</td><td>0.00</td><td>0.00</td><td>0.00</td><td>0.00</td><td>0.00</td><td>&quot;a55475b1&quot;</td><td>&quot;a55475b1&quot;</td><td>&quot;a55475b1&quot;</td><td>&quot;a55475b1&quot;</td><td>&quot;a55475b1&quot;</td><td>&quot;a55475b1&quot;</td><td>&quot;a55475b1&quot;</td><td>&quot;a55475b1&quot;</td><td>&quot;CAL&quot;</td><td>&quot;CASH&quot;</td><td>0.00</td><td>0.00</td><td>0.00</td><td>0.00</td><td>0.00</td><td>0.00</td><td>0.00</td><td>&quot;BO&quot;</td><td>&quot;GBA&quot;</td><td>18.00</td><td>&quot;OTHER&quot;</td><td>&quot;OTHER&quot;</td><td>0.00</td><td>0.00</td></tr><tr><td>2</td><td>0</td><td>4,937.00</td><td>0.00</td><td>0.00</td><td>0.00</td><td>0.00</td><td>0.00</td><td>0.00</td><td>0.00</td><td>0.00</td><td>0.00</td><td>0.00</td><td>0.00</td><td>0.00</td><td>0.00</td><td>0.00</td><td>0.00</td><td>0.00</td><td>0.00</td><td>0.00</td><td>0.00</td><td>0.00</td><td>0.00</td><td>78,000.00</td><td>78,000.00</td><td>0.00</td><td>1.00</td><td>2.00</td><td>0.00</td><td>0.00</td><td>0.00</td><td>0.00</td><td>0.00</td><td>0.00</td><td>0.00</td><td>0.00</td><td>0.00</td><td>&quot;a55475b1&quot;</td><td>&quot;a55475b1&quot;</td><td>&quot;a55475b1&quot;</td><td>&quot;a55475b1&quot;</td><td>&quot;a55475b1&quot;</td><td>&quot;a55475b1&quot;</td><td>&quot;a55475b1&quot;</td><td>&quot;a55475b1&quot;</td><td>&quot;CAL&quot;</td><td>&quot;CASH&quot;</td><td>0.00</td><td>0.00</td><td>0.00</td><td>0.00</td><td>0.00</td><td>0.00</td><td>0.00</td><td>&quot;BO&quot;</td><td>&quot;GBA&quot;</td><td>36.00</td><td>&quot;OTHER&quot;</td><td>&quot;OTHER&quot;</td><td>0.00</td><td>0.00</td></tr><tr><td>3</td><td>0</td><td>4,643.60</td><td>0.00</td><td>1.00</td><td>0.00</td><td>2.00</td><td>0.00</td><td>1.00</td><td>0.00</td><td>0.00</td><td>0.00</td><td>0.00</td><td>0.00</td><td>0.00</td><td>1.00</td><td>0.00</td><td>0.00</td><td>0.00</td><td>0.00</td><td>0.00</td><td>0.00</td><td>0.00</td><td>0.00</td><td>40,000.00</td><td>40,000.00</td><td>0.00</td><td>0.00</td><td>1.00</td><td>0.00</td><td>0.00</td><td>0.00</td><td>1.00</td><td>0.00</td><td>0.00</td><td>1.00</td><td>1.00</td><td>1.00</td><td>&quot;a55475b1&quot;</td><td>&quot;a55475b1&quot;</td><td>&quot;P94_109_143&quot;</td><td>&quot;a55475b1&quot;</td><td>&quot;a55475b1&quot;</td><td>&quot;P94_109_143&quot;</td><td>&quot;a55475b1&quot;</td><td>&quot;a55475b1&quot;</td><td>&quot;CAL&quot;</td><td>&quot;CASH&quot;</td><td>0.00</td><td>0.00</td><td>0.00</td><td>0.00</td><td>0.00</td><td>0.00</td><td>0.00</td><td>&quot;BO&quot;</td><td>&quot;GBA&quot;</td><td>12.00</td><td>&quot;OTHER&quot;</td><td>&quot;OTHER&quot;</td><td>0.00</td><td>0.00</td></tr><tr><td>4</td><td>0</td><td>3,390.20</td><td>0.00</td><td>1.00</td><td>0.00</td><td>0.00</td><td>0.00</td><td>1.00</td><td>0.00</td><td>0.00</td><td>0.00</td><td>0.00</td><td>0.00</td><td>0.00</td><td>0.00</td><td>0.00</td><td>0.00</td><td>0.00</td><td>0.00</td><td>0.00</td><td>0.00</td><td>0.00</td><td>0.00</td><td>44,000.00</td><td>44,000.00</td><td>0.00</td><td>1.00</td><td>1.00</td><td>0.00</td><td>0.00</td><td>0.00</td><td>0.00</td><td>0.00</td><td>0.00</td><td>0.00</td><td>0.00</td><td>0.00</td><td>&quot;a55475b1&quot;</td><td>&quot;a55475b1&quot;</td><td>&quot;P24_27_36&quot;</td><td>&quot;a55475b1&quot;</td><td>&quot;a55475b1&quot;</td><td>&quot;a55475b1&quot;</td><td>&quot;a55475b1&quot;</td><td>&quot;a55475b1&quot;</td><td>&quot;CAL&quot;</td><td>&quot;CASH&quot;</td><td>0.00</td><td>0.00</td><td>0.00</td><td>0.00</td><td>0.00</td><td>0.00</td><td>0.00</td><td>&quot;BO&quot;</td><td>&quot;GBA&quot;</td><td>24.00</td><td>&quot;OTHER&quot;</td><td>&quot;OTHER&quot;</td><td>0.00</td><td>0.00</td></tr></tbody></table></div>"
      ],
      "text/plain": [
       "shape: (5, 62)\n",
       "┌─────────┬────────────┬───────────┬───────────┬───┬───────────┬───────────┬───────────┬───────────┐\n",
       "│ case_id ┆ isbidprodu ┆ annuity_7 ┆ applicati ┆ … ┆ paytype1s ┆ paytype_7 ┆ posfpd10l ┆ posfpd30l │\n",
       "│ ---     ┆ ct_1095L   ┆ 80A       ┆ oncnt_361 ┆   ┆ t_925L    ┆ 83L Type  ┆ astmonth_ ┆ astmonth_ │\n",
       "│ u32     ┆ Flag       ┆ Monthly   ┆ L Number  ┆   ┆ Type of   ┆ of        ┆ 333P      ┆ 3976960P  │\n",
       "│         ┆ indicating ┆ annuity   ┆ of applic ┆   ┆ first     ┆ payment.  ┆ Average   ┆ Average   │\n",
       "│         ┆ if the     ┆ amount.   ┆ ations    ┆   ┆ payment   ┆ ---       ┆ FPD10     ┆ FPD30     │\n",
       "│         ┆ product is ┆ ---       ┆ associate ┆   ┆ of the    ┆ cat       ┆ (Share of ┆ (Share of │\n",
       "│         ┆ a cross-se ┆ f32       ┆ d with    ┆   ┆ client.   ┆           ┆ contracts ┆ contracts │\n",
       "│         ┆ ll.        ┆           ┆ the same  ┆   ┆ ---       ┆           ┆ with      ┆ with      │\n",
       "│         ┆ ---        ┆           ┆ email     ┆   ┆ cat       ┆           ┆ first ins ┆ first ins │\n",
       "│         ┆ u8         ┆           ┆ address   ┆   ┆           ┆           ┆ tallment  ┆ tallment  │\n",
       "│         ┆            ┆           ┆ as the    ┆   ┆           ┆           ┆ past due  ┆ past due  │\n",
       "│         ┆            ┆           ┆ client.   ┆   ┆           ┆           ┆ more than ┆ more th…  │\n",
       "│         ┆            ┆           ┆ ---       ┆   ┆           ┆           ┆ 1…        ┆ ---       │\n",
       "│         ┆            ┆           ┆ f32       ┆   ┆           ┆           ┆ ---       ┆ f32       │\n",
       "│         ┆            ┆           ┆           ┆   ┆           ┆           ┆ f32       ┆           │\n",
       "╞═════════╪════════════╪═══════════╪═══════════╪═══╪═══════════╪═══════════╪═══════════╪═══════════╡\n",
       "│ 0       ┆ 0          ┆ 1,917.60  ┆ 0.00      ┆ … ┆ OTHER     ┆ OTHER     ┆ 0.00      ┆ 0.00      │\n",
       "│ 1       ┆ 0          ┆ 3,134.00  ┆ 0.00      ┆ … ┆ OTHER     ┆ OTHER     ┆ 0.00      ┆ 0.00      │\n",
       "│ 2       ┆ 0          ┆ 4,937.00  ┆ 0.00      ┆ … ┆ OTHER     ┆ OTHER     ┆ 0.00      ┆ 0.00      │\n",
       "│ 3       ┆ 0          ┆ 4,643.60  ┆ 0.00      ┆ … ┆ OTHER     ┆ OTHER     ┆ 0.00      ┆ 0.00      │\n",
       "│ 4       ┆ 0          ┆ 3,390.20  ┆ 0.00      ┆ … ┆ OTHER     ┆ OTHER     ┆ 0.00      ┆ 0.00      │\n",
       "└─────────┴────────────┴───────────┴───────────┴───┴───────────┴───────────┴───────────┴───────────┘"
      ]
     },
     "execution_count": 30,
     "metadata": {},
     "output_type": "execute_result"
    }
   ],
   "source": [
    "total_static_base = (\n",
    "    pl.concat(\n",
    "        [\n",
    "            train_static_base,\n",
    "            test_static_base\n",
    "        ],\n",
    "        rechunk=True\n",
    "    )\n",
    "    .sort(by=\"case_id\")\n",
    "    .pipe(rename_cols)\n",
    "    .pipe(select_imputable_cols)\n",
    "    .with_columns(\n",
    "        cs.boolean().fill_null(value=cs.boolean().drop_nulls().mode().first()).cast(pl.UInt8),\n",
    "        cs.float().fill_null(value=cs.float().drop_nulls().mean()),\n",
    "        cs.categorical().fill_null(value=cs.categorical().drop_nulls().mode().first())\n",
    "    )\n",
    ")\n",
    "total_static_base.fetch().head()"
   ]
  },
  {
   "cell_type": "code",
   "execution_count": 31,
   "metadata": {},
   "outputs": [
    {
     "data": {
      "text/html": [
       "<div><style>\n",
       ".dataframe > thead > tr,\n",
       ".dataframe > tbody > tr {\n",
       "  text-align: right;\n",
       "  white-space: pre-wrap;\n",
       "}\n",
       "</style>\n",
       "<small>shape: (5, 44)</small><table border=\"1\" class=\"dataframe\"><thead><tr><th>case_id</th><th>contractssum_5085716L</th><th>days120_123L</th><th>days180_256L</th><th>days30_165L</th><th>days360_512L</th><th>days90_310L</th><th>firstquarter_103L</th><th>for3years_128L</th><th>for3years_504L</th><th>for3years_584L</th><th>formonth_118L</th><th>formonth_206L</th><th>formonth_535L</th><th>forquarter_1017L</th><th>forquarter_462L</th><th>forquarter_634L</th><th>fortoday_1092L</th><th>forweek_1077L</th><th>forweek_528L</th><th>forweek_601L</th><th>foryear_618L</th><th>foryear_818L</th><th>foryear_850L</th><th>fourthquarter_440L</th><th>numberofqueries_373L</th><th>pmtaverage_3A</th><th>pmtaverage_4527227A</th><th>pmtaverage_4955615A</th><th>pmtcount_4527229L</th><th>pmtcount_4955617L</th><th>pmtcount_693L</th><th>pmtscount_423L</th><th>pmtssum_45A</th><th>riskassesment_940T</th><th>secondquarter_766L</th><th>thirdquarter_1082L</th><th>description_5085714M</th><th>education_1103M</th><th>education_88M</th><th>maritalst_385M</th><th>maritalst_893M</th><th>requesttype_4525192L</th><th>riskassesment_302T</th></tr><tr><td>u32</td><td>f32</td><td>f32</td><td>f32</td><td>f32</td><td>f32</td><td>f32</td><td>f32</td><td>f32</td><td>f32</td><td>f32</td><td>f32</td><td>f32</td><td>f32</td><td>f32</td><td>f32</td><td>f32</td><td>f32</td><td>f32</td><td>f32</td><td>f32</td><td>f32</td><td>f32</td><td>f32</td><td>f32</td><td>f32</td><td>f32</td><td>f32</td><td>f32</td><td>f32</td><td>f32</td><td>f32</td><td>f32</td><td>f32</td><td>f32</td><td>f32</td><td>f32</td><td>cat</td><td>cat</td><td>cat</td><td>cat</td><td>cat</td><td>cat</td><td>cat</td></tr></thead><tbody><tr><td>357</td><td>null</td><td>null</td><td>null</td><td>null</td><td>null</td><td>null</td><td>null</td><td>null</td><td>null</td><td>null</td><td>null</td><td>null</td><td>null</td><td>null</td><td>null</td><td>null</td><td>null</td><td>null</td><td>null</td><td>null</td><td>null</td><td>null</td><td>null</td><td>null</td><td>null</td><td>null</td><td>null</td><td>null</td><td>null</td><td>null</td><td>null</td><td>6.00</td><td>6,301.40</td><td>null</td><td>null</td><td>null</td><td>&quot;a55475b1&quot;</td><td>&quot;a55475b1&quot;</td><td>&quot;a55475b1&quot;</td><td>&quot;a55475b1&quot;</td><td>&quot;a55475b1&quot;</td><td>null</td><td>null</td></tr><tr><td>381</td><td>null</td><td>null</td><td>null</td><td>null</td><td>null</td><td>null</td><td>null</td><td>null</td><td>null</td><td>null</td><td>null</td><td>null</td><td>null</td><td>null</td><td>null</td><td>null</td><td>null</td><td>null</td><td>null</td><td>null</td><td>null</td><td>null</td><td>null</td><td>null</td><td>null</td><td>null</td><td>null</td><td>null</td><td>null</td><td>null</td><td>null</td><td>6.00</td><td>4,019.60</td><td>null</td><td>null</td><td>null</td><td>&quot;a55475b1&quot;</td><td>&quot;a55475b1&quot;</td><td>&quot;a55475b1&quot;</td><td>&quot;a55475b1&quot;</td><td>&quot;a55475b1&quot;</td><td>null</td><td>null</td></tr><tr><td>388</td><td>null</td><td>6.00</td><td>8.00</td><td>2.00</td><td>10.00</td><td>4.00</td><td>2.00</td><td>null</td><td>null</td><td>null</td><td>null</td><td>null</td><td>null</td><td>null</td><td>null</td><td>null</td><td>null</td><td>null</td><td>null</td><td>null</td><td>null</td><td>null</td><td>null</td><td>6.00</td><td>10.00</td><td>null</td><td>null</td><td>null</td><td>null</td><td>null</td><td>null</td><td>6.00</td><td>14,548.00</td><td>null</td><td>3.00</td><td>5.00</td><td>&quot;a55475b1&quot;</td><td>&quot;a55475b1&quot;</td><td>&quot;a55475b1&quot;</td><td>&quot;a55475b1&quot;</td><td>&quot;a55475b1&quot;</td><td>null</td><td>null</td></tr><tr><td>405</td><td>null</td><td>0.00</td><td>0.00</td><td>0.00</td><td>1.00</td><td>0.00</td><td>0.00</td><td>null</td><td>null</td><td>null</td><td>null</td><td>null</td><td>null</td><td>null</td><td>null</td><td>null</td><td>null</td><td>null</td><td>null</td><td>null</td><td>null</td><td>null</td><td>null</td><td>4.00</td><td>1.00</td><td>null</td><td>null</td><td>null</td><td>null</td><td>null</td><td>null</td><td>6.00</td><td>10,498.24</td><td>null</td><td>2.00</td><td>0.00</td><td>&quot;a55475b1&quot;</td><td>&quot;a55475b1&quot;</td><td>&quot;a55475b1&quot;</td><td>&quot;a55475b1&quot;</td><td>&quot;a55475b1&quot;</td><td>null</td><td>null</td></tr><tr><td>409</td><td>null</td><td>2.00</td><td>3.00</td><td>0.00</td><td>3.00</td><td>1.00</td><td>4.00</td><td>null</td><td>null</td><td>null</td><td>null</td><td>null</td><td>null</td><td>null</td><td>null</td><td>null</td><td>null</td><td>null</td><td>null</td><td>null</td><td>null</td><td>null</td><td>null</td><td>1.00</td><td>3.00</td><td>null</td><td>null</td><td>null</td><td>null</td><td>null</td><td>null</td><td>7.00</td><td>6,344.88</td><td>null</td><td>0.00</td><td>4.00</td><td>&quot;a55475b1&quot;</td><td>&quot;717ddd49&quot;</td><td>&quot;a55475b1&quot;</td><td>&quot;a7fcb6e5&quot;</td><td>&quot;a55475b1&quot;</td><td>null</td><td>null</td></tr></tbody></table></div>"
      ],
      "text/plain": [
       "shape: (5, 44)\n",
       "┌─────────┬────────────┬───────────┬───────────┬───┬───────────┬───────────┬───────────┬───────────┐\n",
       "│ case_id ┆ contractss ┆ days120_1 ┆ days180_2 ┆ … ┆ maritalst ┆ maritalst ┆ requestty ┆ riskasses │\n",
       "│ ---     ┆ um_5085716 ┆ 23L       ┆ 56L       ┆   ┆ _385M     ┆ _893M     ┆ pe_452519 ┆ ment_302T │\n",
       "│ u32     ┆ L          ┆ ---       ┆ ---       ┆   ┆ ---       ┆ ---       ┆ 2L        ┆ ---       │\n",
       "│         ┆ ---        ┆ f32       ┆ f32       ┆   ┆ cat       ┆ cat       ┆ ---       ┆ cat       │\n",
       "│         ┆ f32        ┆           ┆           ┆   ┆           ┆           ┆ cat       ┆           │\n",
       "╞═════════╪════════════╪═══════════╪═══════════╪═══╪═══════════╪═══════════╪═══════════╪═══════════╡\n",
       "│ 357     ┆ null       ┆ null      ┆ null      ┆ … ┆ a55475b1  ┆ a55475b1  ┆ null      ┆ null      │\n",
       "│ 381     ┆ null       ┆ null      ┆ null      ┆ … ┆ a55475b1  ┆ a55475b1  ┆ null      ┆ null      │\n",
       "│ 388     ┆ null       ┆ 6.00      ┆ 8.00      ┆ … ┆ a55475b1  ┆ a55475b1  ┆ null      ┆ null      │\n",
       "│ 405     ┆ null       ┆ 0.00      ┆ 0.00      ┆ … ┆ a55475b1  ┆ a55475b1  ┆ null      ┆ null      │\n",
       "│ 409     ┆ null       ┆ 2.00      ┆ 3.00      ┆ … ┆ a7fcb6e5  ┆ a55475b1  ┆ null      ┆ null      │\n",
       "└─────────┴────────────┴───────────┴───────────┴───┴───────────┴───────────┴───────────┴───────────┘"
      ]
     },
     "execution_count": 31,
     "metadata": {},
     "output_type": "execute_result"
    }
   ],
   "source": [
    "train_static_second_base = (\n",
    "    pl.scan_parquet(\"Downloads/credit_risk/train/train_static_cb_0.parquet\")\n",
    "    .drop(cs.ends_with(\"D\"))\n",
    "    .select(\n",
    "        cs.by_name(\"case_id\").cast(pl.UInt32),\n",
    "        cs.boolean(),\n",
    "        cs.float().cast(pl.Float32),\n",
    "        cs.string().cast(pl.Categorical)\n",
    "    )\n",
    ")\n",
    "train_static_second_base.fetch().head()"
   ]
  },
  {
   "cell_type": "code",
   "execution_count": 32,
   "metadata": {},
   "outputs": [
    {
     "data": {
      "text/html": [
       "<div><style>\n",
       ".dataframe > thead > tr,\n",
       ".dataframe > tbody > tr {\n",
       "  text-align: right;\n",
       "  white-space: pre-wrap;\n",
       "}\n",
       "</style>\n",
       "<small>shape: (5, 44)</small><table border=\"1\" class=\"dataframe\"><thead><tr><th>case_id</th><th>contractssum_5085716L</th><th>days120_123L</th><th>days180_256L</th><th>days30_165L</th><th>days360_512L</th><th>days90_310L</th><th>firstquarter_103L</th><th>for3years_128L</th><th>for3years_504L</th><th>for3years_584L</th><th>formonth_118L</th><th>formonth_206L</th><th>formonth_535L</th><th>forquarter_1017L</th><th>forquarter_462L</th><th>forquarter_634L</th><th>fortoday_1092L</th><th>forweek_1077L</th><th>forweek_528L</th><th>forweek_601L</th><th>foryear_618L</th><th>foryear_818L</th><th>foryear_850L</th><th>fourthquarter_440L</th><th>numberofqueries_373L</th><th>pmtaverage_3A</th><th>pmtaverage_4527227A</th><th>pmtaverage_4955615A</th><th>pmtcount_4527229L</th><th>pmtcount_4955617L</th><th>pmtcount_693L</th><th>pmtscount_423L</th><th>pmtssum_45A</th><th>riskassesment_940T</th><th>secondquarter_766L</th><th>thirdquarter_1082L</th><th>description_5085714M</th><th>education_1103M</th><th>education_88M</th><th>maritalst_385M</th><th>maritalst_893M</th><th>requesttype_4525192L</th><th>riskassesment_302T</th></tr><tr><td>u32</td><td>f32</td><td>f32</td><td>f32</td><td>f32</td><td>f32</td><td>f32</td><td>f32</td><td>f32</td><td>f32</td><td>f32</td><td>f32</td><td>f32</td><td>f32</td><td>f32</td><td>f32</td><td>f32</td><td>f32</td><td>f32</td><td>f32</td><td>f32</td><td>f32</td><td>f32</td><td>f32</td><td>f32</td><td>f32</td><td>f32</td><td>f32</td><td>f32</td><td>f32</td><td>f32</td><td>f32</td><td>f32</td><td>f32</td><td>f32</td><td>f32</td><td>f32</td><td>cat</td><td>cat</td><td>cat</td><td>cat</td><td>cat</td><td>cat</td><td>cat</td></tr></thead><tbody><tr><td>57,543</td><td>22,130.26</td><td>9.00</td><td>9.00</td><td>9.00</td><td>10.00</td><td>9.00</td><td>4.00</td><td>null</td><td>null</td><td>null</td><td>null</td><td>null</td><td>null</td><td>null</td><td>null</td><td>null</td><td>null</td><td>null</td><td>null</td><td>null</td><td>null</td><td>null</td><td>null</td><td>4.00</td><td>10.00</td><td>null</td><td>null</td><td>null</td><td>null</td><td>null</td><td>null</td><td>null</td><td>null</td><td>null</td><td>1.00</td><td>6.00</td><td>&quot;2fc785b2&quot;</td><td>&quot;a55475b1&quot;</td><td>&quot;a55475b1&quot;</td><td>&quot;a55475b1&quot;</td><td>&quot;a55475b1&quot;</td><td>null</td><td>null</td></tr><tr><td>57,549</td><td>null</td><td>0.00</td><td>0.00</td><td>0.00</td><td>0.00</td><td>0.00</td><td>0.00</td><td>null</td><td>null</td><td>null</td><td>null</td><td>null</td><td>null</td><td>null</td><td>null</td><td>null</td><td>null</td><td>null</td><td>null</td><td>null</td><td>null</td><td>null</td><td>null</td><td>0.00</td><td>0.00</td><td>null</td><td>null</td><td>null</td><td>null</td><td>null</td><td>null</td><td>null</td><td>null</td><td>null</td><td>2.00</td><td>0.00</td><td>&quot;2fc785b2&quot;</td><td>&quot;a55475b1&quot;</td><td>&quot;a55475b1&quot;</td><td>&quot;a55475b1&quot;</td><td>&quot;a55475b1&quot;</td><td>null</td><td>null</td></tr><tr><td>57,551</td><td>null</td><td>2.00</td><td>2.00</td><td>1.00</td><td>2.00</td><td>2.00</td><td>0.00</td><td>null</td><td>null</td><td>null</td><td>null</td><td>null</td><td>null</td><td>null</td><td>null</td><td>null</td><td>null</td><td>null</td><td>null</td><td>null</td><td>null</td><td>null</td><td>null</td><td>1.00</td><td>2.00</td><td>null</td><td>null</td><td>null</td><td>null</td><td>null</td><td>null</td><td>null</td><td>null</td><td>null</td><td>0.00</td><td>2.00</td><td>&quot;2fc785b2&quot;</td><td>&quot;a55475b1&quot;</td><td>&quot;a55475b1&quot;</td><td>&quot;a55475b1&quot;</td><td>&quot;a55475b1&quot;</td><td>null</td><td>null</td></tr><tr><td>57,552</td><td>null</td><td>0.00</td><td>0.00</td><td>0.00</td><td>0.00</td><td>0.00</td><td>0.00</td><td>null</td><td>null</td><td>null</td><td>null</td><td>null</td><td>null</td><td>null</td><td>null</td><td>null</td><td>null</td><td>null</td><td>null</td><td>null</td><td>null</td><td>null</td><td>null</td><td>0.00</td><td>0.00</td><td>null</td><td>null</td><td>16,327.00</td><td>null</td><td>14.00</td><td>null</td><td>null</td><td>null</td><td>null</td><td>0.00</td><td>0.00</td><td>&quot;2fc785b2&quot;</td><td>&quot;a55475b1&quot;</td><td>&quot;a55475b1&quot;</td><td>&quot;a55475b1&quot;</td><td>&quot;a55475b1&quot;</td><td>null</td><td>null</td></tr><tr><td>57,569</td><td>null</td><td>0.00</td><td>0.00</td><td>0.00</td><td>0.00</td><td>0.00</td><td>0.00</td><td>null</td><td>null</td><td>null</td><td>null</td><td>null</td><td>null</td><td>null</td><td>null</td><td>null</td><td>null</td><td>null</td><td>null</td><td>null</td><td>null</td><td>null</td><td>null</td><td>0.00</td><td>0.00</td><td>null</td><td>null</td><td>16,303.40</td><td>null</td><td>14.00</td><td>null</td><td>null</td><td>null</td><td>null</td><td>1.00</td><td>0.00</td><td>&quot;2fc785b2&quot;</td><td>&quot;a55475b1&quot;</td><td>&quot;a55475b1&quot;</td><td>&quot;b6cabe76&quot;</td><td>&quot;a55475b1&quot;</td><td>null</td><td>null</td></tr></tbody></table></div>"
      ],
      "text/plain": [
       "shape: (5, 44)\n",
       "┌─────────┬────────────┬───────────┬───────────┬───┬───────────┬───────────┬───────────┬───────────┐\n",
       "│ case_id ┆ contractss ┆ days120_1 ┆ days180_2 ┆ … ┆ maritalst ┆ maritalst ┆ requestty ┆ riskasses │\n",
       "│ ---     ┆ um_5085716 ┆ 23L       ┆ 56L       ┆   ┆ _385M     ┆ _893M     ┆ pe_452519 ┆ ment_302T │\n",
       "│ u32     ┆ L          ┆ ---       ┆ ---       ┆   ┆ ---       ┆ ---       ┆ 2L        ┆ ---       │\n",
       "│         ┆ ---        ┆ f32       ┆ f32       ┆   ┆ cat       ┆ cat       ┆ ---       ┆ cat       │\n",
       "│         ┆ f32        ┆           ┆           ┆   ┆           ┆           ┆ cat       ┆           │\n",
       "╞═════════╪════════════╪═══════════╪═══════════╪═══╪═══════════╪═══════════╪═══════════╪═══════════╡\n",
       "│ 57,543  ┆ 22,130.26  ┆ 9.00      ┆ 9.00      ┆ … ┆ a55475b1  ┆ a55475b1  ┆ null      ┆ null      │\n",
       "│ 57,549  ┆ null       ┆ 0.00      ┆ 0.00      ┆ … ┆ a55475b1  ┆ a55475b1  ┆ null      ┆ null      │\n",
       "│ 57,551  ┆ null       ┆ 2.00      ┆ 2.00      ┆ … ┆ a55475b1  ┆ a55475b1  ┆ null      ┆ null      │\n",
       "│ 57,552  ┆ null       ┆ 0.00      ┆ 0.00      ┆ … ┆ a55475b1  ┆ a55475b1  ┆ null      ┆ null      │\n",
       "│ 57,569  ┆ null       ┆ 0.00      ┆ 0.00      ┆ … ┆ b6cabe76  ┆ a55475b1  ┆ null      ┆ null      │\n",
       "└─────────┴────────────┴───────────┴───────────┴───┴───────────┴───────────┴───────────┴───────────┘"
      ]
     },
     "execution_count": 32,
     "metadata": {},
     "output_type": "execute_result"
    }
   ],
   "source": [
    "test_static_second_base = (\n",
    "    pl.scan_parquet(\"Downloads/credit_risk/test/test_static_cb_0.parquet\")\n",
    "    .select(train_static_second_base.columns)\n",
    "    .cast(train_static_second_base.schema)\n",
    ")\n",
    "test_static_second_base.fetch().head()"
   ]
  },
  {
   "cell_type": "code",
   "execution_count": 33,
   "metadata": {},
   "outputs": [
    {
     "data": {
      "text/html": [
       "<div><style>\n",
       ".dataframe > thead > tr,\n",
       ".dataframe > tbody > tr {\n",
       "  text-align: right;\n",
       "  white-space: pre-wrap;\n",
       "}\n",
       "</style>\n",
       "<small>shape: (5, 16)</small><table border=\"1\" class=\"dataframe\"><thead><tr><th>case_id</th><th>description_5085714M Categorization of clients by credit bureau.</th><th>education_1103M Level of education of the client provided by external source.</th><th>education_88M Education level of the client.</th><th>maritalst_385M Marital status of the client.</th><th>maritalst_893M Marital status of the client</th><th>days120_123L Number of credit bureau queries for the last 120 days.</th><th>days180_256L Number of credit bureau queries for last 180 days.</th><th>days30_165L Number of credit bureau queries for the last 30 days.</th><th>days360_512L Number of Credit Bureau queries for last 360 days.</th><th>days90_310L Number of credit bureau queries for the last 90 days.</th><th>firstquarter_103L Number of results obtained from credit bureau in the first quarter.</th><th>fourthquarter_440L Number of results in fourth quarter.</th><th>numberofqueries_373L Number of queries to credit bureau.</th><th>secondquarter_766L Number of results in second quarter.</th><th>thirdquarter_1082L Number of results in third quarter.</th></tr><tr><td>u32</td><td>cat</td><td>cat</td><td>cat</td><td>cat</td><td>cat</td><td>f32</td><td>f32</td><td>f32</td><td>f32</td><td>f32</td><td>f32</td><td>f32</td><td>f32</td><td>f32</td><td>f32</td></tr></thead><tbody><tr><td>357</td><td>&quot;a55475b1&quot;</td><td>&quot;a55475b1&quot;</td><td>&quot;a55475b1&quot;</td><td>&quot;a55475b1&quot;</td><td>&quot;a55475b1&quot;</td><td>2.10</td><td>2.86</td><td>0.71</td><td>4.83</td><td>1.62</td><td>1.78</td><td>2.37</td><td>4.83</td><td>1.72</td><td>2.24</td></tr><tr><td>381</td><td>&quot;a55475b1&quot;</td><td>&quot;a55475b1&quot;</td><td>&quot;a55475b1&quot;</td><td>&quot;a55475b1&quot;</td><td>&quot;a55475b1&quot;</td><td>2.10</td><td>2.86</td><td>0.71</td><td>4.83</td><td>1.62</td><td>1.78</td><td>2.37</td><td>4.83</td><td>1.72</td><td>2.24</td></tr><tr><td>388</td><td>&quot;a55475b1&quot;</td><td>&quot;a55475b1&quot;</td><td>&quot;a55475b1&quot;</td><td>&quot;a55475b1&quot;</td><td>&quot;a55475b1&quot;</td><td>6.00</td><td>8.00</td><td>2.00</td><td>10.00</td><td>4.00</td><td>2.00</td><td>6.00</td><td>10.00</td><td>3.00</td><td>5.00</td></tr><tr><td>405</td><td>&quot;a55475b1&quot;</td><td>&quot;a55475b1&quot;</td><td>&quot;a55475b1&quot;</td><td>&quot;a55475b1&quot;</td><td>&quot;a55475b1&quot;</td><td>0.00</td><td>0.00</td><td>0.00</td><td>1.00</td><td>0.00</td><td>0.00</td><td>4.00</td><td>1.00</td><td>2.00</td><td>0.00</td></tr><tr><td>409</td><td>&quot;a55475b1&quot;</td><td>&quot;717ddd49&quot;</td><td>&quot;a55475b1&quot;</td><td>&quot;a7fcb6e5&quot;</td><td>&quot;a55475b1&quot;</td><td>2.00</td><td>3.00</td><td>0.00</td><td>3.00</td><td>1.00</td><td>4.00</td><td>1.00</td><td>3.00</td><td>0.00</td><td>4.00</td></tr></tbody></table></div>"
      ],
      "text/plain": [
       "shape: (5, 16)\n",
       "┌─────────┬────────────┬───────────┬───────────┬───┬───────────┬───────────┬───────────┬───────────┐\n",
       "│ case_id ┆ descriptio ┆ education ┆ education ┆ … ┆ fourthqua ┆ numberofq ┆ secondqua ┆ thirdquar │\n",
       "│ ---     ┆ n_5085714M ┆ _1103M    ┆ _88M      ┆   ┆ rter_440L ┆ ueries_37 ┆ rter_766L ┆ ter_1082L │\n",
       "│ u32     ┆ Categoriza ┆ Level of  ┆ Education ┆   ┆ Number of ┆ 3L Number ┆ Number of ┆ Number of │\n",
       "│         ┆ tion of    ┆ education ┆ level of  ┆   ┆ results   ┆ of        ┆ results   ┆ results   │\n",
       "│         ┆ clients by ┆ of the    ┆ the       ┆   ┆ in fourth ┆ queries   ┆ in second ┆ in third  │\n",
       "│         ┆ credit     ┆ client    ┆ client.   ┆   ┆ quarter.  ┆ to credit ┆ quarter.  ┆ quarter.  │\n",
       "│         ┆ bureau.    ┆ provided  ┆ ---       ┆   ┆ ---       ┆ bureau.   ┆ ---       ┆ ---       │\n",
       "│         ┆ ---        ┆ by        ┆ cat       ┆   ┆ f32       ┆ ---       ┆ f32       ┆ f32       │\n",
       "│         ┆ cat        ┆ external  ┆           ┆   ┆           ┆ f32       ┆           ┆           │\n",
       "│         ┆            ┆ source.   ┆           ┆   ┆           ┆           ┆           ┆           │\n",
       "│         ┆            ┆ ---       ┆           ┆   ┆           ┆           ┆           ┆           │\n",
       "│         ┆            ┆ cat       ┆           ┆   ┆           ┆           ┆           ┆           │\n",
       "╞═════════╪════════════╪═══════════╪═══════════╪═══╪═══════════╪═══════════╪═══════════╪═══════════╡\n",
       "│ 357     ┆ a55475b1   ┆ a55475b1  ┆ a55475b1  ┆ … ┆ 2.37      ┆ 4.83      ┆ 1.72      ┆ 2.24      │\n",
       "│ 381     ┆ a55475b1   ┆ a55475b1  ┆ a55475b1  ┆ … ┆ 2.37      ┆ 4.83      ┆ 1.72      ┆ 2.24      │\n",
       "│ 388     ┆ a55475b1   ┆ a55475b1  ┆ a55475b1  ┆ … ┆ 6.00      ┆ 10.00     ┆ 3.00      ┆ 5.00      │\n",
       "│ 405     ┆ a55475b1   ┆ a55475b1  ┆ a55475b1  ┆ … ┆ 4.00      ┆ 1.00      ┆ 2.00      ┆ 0.00      │\n",
       "│ 409     ┆ a55475b1   ┆ 717ddd49  ┆ a55475b1  ┆ … ┆ 1.00      ┆ 3.00      ┆ 0.00      ┆ 4.00      │\n",
       "└─────────┴────────────┴───────────┴───────────┴───┴───────────┴───────────┴───────────┴───────────┘"
      ]
     },
     "execution_count": 33,
     "metadata": {},
     "output_type": "execute_result"
    }
   ],
   "source": [
    "total_static_second_base = (\n",
    "    pl.concat(\n",
    "        [\n",
    "            train_static_second_base,\n",
    "            test_static_second_base\n",
    "        ],\n",
    "        rechunk=True\n",
    "    )\n",
    "    .sort(by=\"case_id\")\n",
    "    .pipe(rename_cols)\n",
    "    .pipe(select_imputable_cols)\n",
    "    .with_columns(\n",
    "        cs.boolean().fill_null(value=cs.boolean().drop_nulls().mode().first()).cast(pl.UInt8),\n",
    "        cs.float().fill_null(value=cs.float().drop_nulls().mean()),\n",
    "        cs.categorical().fill_null(value=cs.categorical().drop_nulls().mode().first())\n",
    "    )\n",
    ")\n",
    "total_static_second_base.fetch().head()"
   ]
  },
  {
   "cell_type": "markdown",
   "metadata": {},
   "source": [
    "## Train Person"
   ]
  },
  {
   "cell_type": "code",
   "execution_count": 34,
   "metadata": {},
   "outputs": [
    {
     "data": {
      "text/html": [
       "<div><style>\n",
       ".dataframe > thead > tr,\n",
       ".dataframe > tbody > tr {\n",
       "  text-align: right;\n",
       "  white-space: pre-wrap;\n",
       "}\n",
       "</style>\n",
       "<small>shape: (2, 3)</small><table border=\"1\" class=\"dataframe\"><thead><tr><th>index</th><th>path</th><th>filename</th></tr><tr><td>i64</td><td>str</td><td>str</td></tr></thead><tbody><tr><td>5</td><td>&quot;Downloads/credit_risk/train/train_person_1.parquet&quot;</td><td>&quot;train_person_1.parquet&quot;</td></tr><tr><td>30</td><td>&quot;Downloads/credit_risk/train/train_person_2.parquet&quot;</td><td>&quot;train_person_2.parquet&quot;</td></tr></tbody></table></div>"
      ],
      "text/plain": [
       "shape: (2, 3)\n",
       "┌───────┬────────────────────────────────────────────────────┬────────────────────────┐\n",
       "│ index ┆ path                                               ┆ filename               │\n",
       "│ ---   ┆ ---                                                ┆ ---                    │\n",
       "│ i64   ┆ str                                                ┆ str                    │\n",
       "╞═══════╪════════════════════════════════════════════════════╪════════════════════════╡\n",
       "│ 5     ┆ Downloads/credit_risk/train/train_person_1.parquet ┆ train_person_1.parquet │\n",
       "│ 30    ┆ Downloads/credit_risk/train/train_person_2.parquet ┆ train_person_2.parquet │\n",
       "└───────┴────────────────────────────────────────────────────┴────────────────────────┘"
      ]
     },
     "execution_count": 34,
     "metadata": {},
     "output_type": "execute_result"
    }
   ],
   "source": [
    "train_files_df.filter(pl.col(\"filename\").str.contains(\"person\"))"
   ]
  },
  {
   "cell_type": "code",
   "execution_count": 35,
   "metadata": {},
   "outputs": [
    {
     "data": {
      "text/html": [
       "<div><style>\n",
       ".dataframe > thead > tr,\n",
       ".dataframe > tbody > tr {\n",
       "  text-align: right;\n",
       "  white-space: pre-wrap;\n",
       "}\n",
       "</style>\n",
       "<small>shape: (5, 34)</small><table border=\"1\" class=\"dataframe\"><thead><tr><th>case_id</th><th>num_group1</th><th>contaddr_matchlist_1032L</th><th>contaddr_smempladdr_334L</th><th>isreference_387L</th><th>remitter_829L</th><th>safeguarantyflag_411L</th><th>childnum_185L</th><th>mainoccupationinc_384A</th><th>personindex_1023L</th><th>persontype_1072L</th><th>persontype_792L</th><th>contaddr_district_15M</th><th>contaddr_zipcode_807M</th><th>education_927M</th><th>empl_employedtotal_800L</th><th>empl_industry_691L</th><th>empladdr_district_926M</th><th>empladdr_zipcode_114M</th><th>familystate_447L</th><th>gender_992L</th><th>housetype_905L</th><th>housingtype_772L</th><th>incometype_1044T</th><th>language1_981M</th><th>maritalst_703L</th><th>registaddr_district_1083M</th><th>registaddr_zipcode_184M</th><th>relationshiptoclient_415T</th><th>relationshiptoclient_642T</th><th>role_1084L</th><th>role_993L</th><th>sex_738L</th><th>type_25L</th></tr><tr><td>u32</td><td>u8</td><td>bool</td><td>bool</td><td>bool</td><td>bool</td><td>bool</td><td>f32</td><td>f32</td><td>f32</td><td>f32</td><td>f32</td><td>cat</td><td>cat</td><td>cat</td><td>cat</td><td>cat</td><td>cat</td><td>cat</td><td>cat</td><td>cat</td><td>cat</td><td>cat</td><td>cat</td><td>cat</td><td>cat</td><td>cat</td><td>cat</td><td>cat</td><td>cat</td><td>cat</td><td>cat</td><td>cat</td><td>cat</td></tr></thead><tbody><tr><td>0</td><td>0</td><td>false</td><td>false</td><td>null</td><td>null</td><td>true</td><td>null</td><td>10,800.00</td><td>0.00</td><td>1.00</td><td>1.00</td><td>&quot;P88_18_84&quot;</td><td>&quot;P167_100_165&quot;</td><td>&quot;P97_36_170&quot;</td><td>&quot;MORE_FIVE&quot;</td><td>&quot;OTHER&quot;</td><td>&quot;P142_57_166&quot;</td><td>&quot;P167_100_165&quot;</td><td>&quot;MARRIED&quot;</td><td>null</td><td>null</td><td>null</td><td>&quot;SALARIED_GOVT&quot;</td><td>&quot;P10_39_147&quot;</td><td>null</td><td>&quot;P88_18_84&quot;</td><td>&quot;P167_100_165&quot;</td><td>null</td><td>null</td><td>&quot;CL&quot;</td><td>null</td><td>&quot;F&quot;</td><td>&quot;PRIMARY_MOBILE&quot;</td></tr><tr><td>0</td><td>1</td><td>null</td><td>null</td><td>null</td><td>false</td><td>null</td><td>null</td><td>null</td><td>1.00</td><td>1.00</td><td>4.00</td><td>&quot;a55475b1&quot;</td><td>&quot;a55475b1&quot;</td><td>&quot;a55475b1&quot;</td><td>null</td><td>null</td><td>&quot;a55475b1&quot;</td><td>&quot;a55475b1&quot;</td><td>null</td><td>null</td><td>null</td><td>null</td><td>null</td><td>&quot;a55475b1&quot;</td><td>null</td><td>&quot;a55475b1&quot;</td><td>&quot;a55475b1&quot;</td><td>&quot;SPOUSE&quot;</td><td>null</td><td>&quot;EM&quot;</td><td>null</td><td>null</td><td>&quot;PHONE&quot;</td></tr><tr><td>0</td><td>2</td><td>null</td><td>null</td><td>null</td><td>false</td><td>null</td><td>null</td><td>null</td><td>2.00</td><td>4.00</td><td>5.00</td><td>&quot;a55475b1&quot;</td><td>&quot;a55475b1&quot;</td><td>&quot;a55475b1&quot;</td><td>null</td><td>null</td><td>&quot;a55475b1&quot;</td><td>&quot;a55475b1&quot;</td><td>null</td><td>null</td><td>null</td><td>null</td><td>null</td><td>&quot;a55475b1&quot;</td><td>null</td><td>&quot;a55475b1&quot;</td><td>&quot;a55475b1&quot;</td><td>&quot;COLLEAGUE&quot;</td><td>&quot;SPOUSE&quot;</td><td>&quot;PE&quot;</td><td>null</td><td>null</td><td>&quot;PHONE&quot;</td></tr><tr><td>0</td><td>3</td><td>null</td><td>null</td><td>null</td><td>null</td><td>null</td><td>null</td><td>null</td><td>null</td><td>5.00</td><td>null</td><td>&quot;a55475b1&quot;</td><td>&quot;a55475b1&quot;</td><td>&quot;a55475b1&quot;</td><td>null</td><td>null</td><td>&quot;a55475b1&quot;</td><td>&quot;a55475b1&quot;</td><td>null</td><td>null</td><td>null</td><td>null</td><td>null</td><td>&quot;a55475b1&quot;</td><td>null</td><td>&quot;a55475b1&quot;</td><td>&quot;a55475b1&quot;</td><td>null</td><td>&quot;COLLEAGUE&quot;</td><td>&quot;PE&quot;</td><td>null</td><td>null</td><td>&quot;PHONE&quot;</td></tr><tr><td>1</td><td>0</td><td>false</td><td>false</td><td>null</td><td>null</td><td>true</td><td>null</td><td>10,000.00</td><td>0.00</td><td>1.00</td><td>1.00</td><td>&quot;P103_93_94&quot;</td><td>&quot;P176_37_166&quot;</td><td>&quot;P97_36_170&quot;</td><td>&quot;MORE_FIVE&quot;</td><td>&quot;OTHER&quot;</td><td>&quot;P49_46_174&quot;</td><td>&quot;P160_59_140&quot;</td><td>&quot;DIVORCED&quot;</td><td>null</td><td>null</td><td>null</td><td>&quot;SALARIED_GOVT&quot;</td><td>&quot;P10_39_147&quot;</td><td>null</td><td>&quot;P103_93_94&quot;</td><td>&quot;P176_37_166&quot;</td><td>null</td><td>null</td><td>&quot;CL&quot;</td><td>null</td><td>&quot;M&quot;</td><td>&quot;PRIMARY_MOBILE&quot;</td></tr></tbody></table></div>"
      ],
      "text/plain": [
       "shape: (5, 34)\n",
       "┌─────────┬────────────┬────────────┬───────────┬───┬───────────┬───────────┬──────────┬───────────┐\n",
       "│ case_id ┆ num_group1 ┆ contaddr_m ┆ contaddr_ ┆ … ┆ role_1084 ┆ role_993L ┆ sex_738L ┆ type_25L  │\n",
       "│ ---     ┆ ---        ┆ atchlist_1 ┆ smempladd ┆   ┆ L         ┆ ---       ┆ ---      ┆ ---       │\n",
       "│ u32     ┆ u8         ┆ 032L       ┆ r_334L    ┆   ┆ ---       ┆ cat       ┆ cat      ┆ cat       │\n",
       "│         ┆            ┆ ---        ┆ ---       ┆   ┆ cat       ┆           ┆          ┆           │\n",
       "│         ┆            ┆ bool       ┆ bool      ┆   ┆           ┆           ┆          ┆           │\n",
       "╞═════════╪════════════╪════════════╪═══════════╪═══╪═══════════╪═══════════╪══════════╪═══════════╡\n",
       "│ 0       ┆ 0          ┆ false      ┆ false     ┆ … ┆ CL        ┆ null      ┆ F        ┆ PRIMARY_M │\n",
       "│         ┆            ┆            ┆           ┆   ┆           ┆           ┆          ┆ OBILE     │\n",
       "│ 0       ┆ 1          ┆ null       ┆ null      ┆ … ┆ EM        ┆ null      ┆ null     ┆ PHONE     │\n",
       "│ 0       ┆ 2          ┆ null       ┆ null      ┆ … ┆ PE        ┆ null      ┆ null     ┆ PHONE     │\n",
       "│ 0       ┆ 3          ┆ null       ┆ null      ┆ … ┆ PE        ┆ null      ┆ null     ┆ PHONE     │\n",
       "│ 1       ┆ 0          ┆ false      ┆ false     ┆ … ┆ CL        ┆ null      ┆ M        ┆ PRIMARY_M │\n",
       "│         ┆            ┆            ┆           ┆   ┆           ┆           ┆          ┆ OBILE     │\n",
       "└─────────┴────────────┴────────────┴───────────┴───┴───────────┴───────────┴──────────┴───────────┘"
      ]
     },
     "execution_count": 35,
     "metadata": {},
     "output_type": "execute_result"
    }
   ],
   "source": [
    "train_person_depth_one = (\n",
    "    pl.scan_parquet(all_train_files[5])\n",
    "    .drop(cs.ends_with(\"D\"))\n",
    "    .select(\n",
    "        cs.by_name(\"case_id\").cast(pl.UInt32),\n",
    "        cs.by_name(\"num_group1\").cast(pl.UInt8),\n",
    "        cs.boolean(),\n",
    "        cs.float().cast(pl.Float32),\n",
    "        cs.string().cast(pl.Categorical()),\n",
    "    )\n",
    ")\n",
    "train_person_depth_one.fetch().head()"
   ]
  },
  {
   "cell_type": "code",
   "execution_count": 36,
   "metadata": {},
   "outputs": [
    {
     "data": {
      "text/html": [
       "<div><style>\n",
       ".dataframe > thead > tr,\n",
       ".dataframe > tbody > tr {\n",
       "  text-align: right;\n",
       "  white-space: pre-wrap;\n",
       "}\n",
       "</style>\n",
       "<small>shape: (2, 3)</small><table border=\"1\" class=\"dataframe\"><thead><tr><th>index</th><th>path</th><th>filename</th></tr><tr><td>i64</td><td>str</td><td>str</td></tr></thead><tbody><tr><td>25</td><td>&quot;Downloads/credit_risk/test/test_person_1.parquet&quot;</td><td>&quot;test_person_1.parquet&quot;</td></tr><tr><td>29</td><td>&quot;Downloads/credit_risk/test/test_person_2.parquet&quot;</td><td>&quot;test_person_2.parquet&quot;</td></tr></tbody></table></div>"
      ],
      "text/plain": [
       "shape: (2, 3)\n",
       "┌───────┬──────────────────────────────────────────────────┬───────────────────────┐\n",
       "│ index ┆ path                                             ┆ filename              │\n",
       "│ ---   ┆ ---                                              ┆ ---                   │\n",
       "│ i64   ┆ str                                              ┆ str                   │\n",
       "╞═══════╪══════════════════════════════════════════════════╪═══════════════════════╡\n",
       "│ 25    ┆ Downloads/credit_risk/test/test_person_1.parquet ┆ test_person_1.parquet │\n",
       "│ 29    ┆ Downloads/credit_risk/test/test_person_2.parquet ┆ test_person_2.parquet │\n",
       "└───────┴──────────────────────────────────────────────────┴───────────────────────┘"
      ]
     },
     "execution_count": 36,
     "metadata": {},
     "output_type": "execute_result"
    }
   ],
   "source": [
    "test_files_df.filter(pl.col(\"filename\").str.contains(\"person\"))"
   ]
  },
  {
   "cell_type": "code",
   "execution_count": 37,
   "metadata": {},
   "outputs": [
    {
     "data": {
      "text/html": [
       "<div><style>\n",
       ".dataframe > thead > tr,\n",
       ".dataframe > tbody > tr {\n",
       "  text-align: right;\n",
       "  white-space: pre-wrap;\n",
       "}\n",
       "</style>\n",
       "<small>shape: (5, 34)</small><table border=\"1\" class=\"dataframe\"><thead><tr><th>case_id</th><th>num_group1</th><th>contaddr_matchlist_1032L</th><th>contaddr_smempladdr_334L</th><th>isreference_387L</th><th>remitter_829L</th><th>safeguarantyflag_411L</th><th>childnum_185L</th><th>mainoccupationinc_384A</th><th>personindex_1023L</th><th>persontype_1072L</th><th>persontype_792L</th><th>contaddr_district_15M</th><th>contaddr_zipcode_807M</th><th>education_927M</th><th>empl_employedtotal_800L</th><th>empl_industry_691L</th><th>empladdr_district_926M</th><th>empladdr_zipcode_114M</th><th>familystate_447L</th><th>gender_992L</th><th>housetype_905L</th><th>housingtype_772L</th><th>incometype_1044T</th><th>language1_981M</th><th>maritalst_703L</th><th>registaddr_district_1083M</th><th>registaddr_zipcode_184M</th><th>relationshiptoclient_415T</th><th>relationshiptoclient_642T</th><th>role_1084L</th><th>role_993L</th><th>sex_738L</th><th>type_25L</th></tr><tr><td>u32</td><td>u8</td><td>bool</td><td>bool</td><td>bool</td><td>bool</td><td>bool</td><td>f32</td><td>f32</td><td>f32</td><td>f32</td><td>f32</td><td>cat</td><td>cat</td><td>cat</td><td>cat</td><td>cat</td><td>cat</td><td>cat</td><td>cat</td><td>cat</td><td>cat</td><td>cat</td><td>cat</td><td>cat</td><td>cat</td><td>cat</td><td>cat</td><td>cat</td><td>cat</td><td>cat</td><td>cat</td><td>cat</td><td>cat</td></tr></thead><tbody><tr><td>57,543</td><td>0</td><td>false</td><td>false</td><td>null</td><td>null</td><td>false</td><td>null</td><td>36,000.00</td><td>0.00</td><td>1.00</td><td>1.00</td><td>&quot;P107_30_170&quot;</td><td>&quot;P144_138_111&quot;</td><td>&quot;P97_36_170&quot;</td><td>&quot;MORE_ONE&quot;</td><td>&quot;OTHER&quot;</td><td>&quot;P16_81_96&quot;</td><td>&quot;P144_138_111&quot;</td><td>&quot;MARRIED&quot;</td><td>null</td><td>null</td><td>null</td><td>&quot;EMPLOYED&quot;</td><td>&quot;P209_127_106&quot;</td><td>null</td><td>&quot;P107_30_170&quot;</td><td>&quot;P144_138_111&quot;</td><td>null</td><td>null</td><td>&quot;CL&quot;</td><td>null</td><td>&quot;M&quot;</td><td>&quot;PRIMARY_MOBILE&quot;</td></tr><tr><td>57,543</td><td>1</td><td>null</td><td>null</td><td>null</td><td>false</td><td>null</td><td>null</td><td>null</td><td>1.00</td><td>1.00</td><td>5.00</td><td>&quot;a55475b1&quot;</td><td>&quot;a55475b1&quot;</td><td>&quot;a55475b1&quot;</td><td>null</td><td>null</td><td>&quot;a55475b1&quot;</td><td>&quot;a55475b1&quot;</td><td>null</td><td>null</td><td>null</td><td>null</td><td>null</td><td>&quot;a55475b1&quot;</td><td>null</td><td>&quot;a55475b1&quot;</td><td>&quot;a55475b1&quot;</td><td>&quot;OTHER&quot;</td><td>null</td><td>&quot;EM&quot;</td><td>null</td><td>null</td><td>&quot;PHONE&quot;</td></tr><tr><td>57,543</td><td>2</td><td>null</td><td>null</td><td>null</td><td>null</td><td>null</td><td>null</td><td>null</td><td>null</td><td>5.00</td><td>null</td><td>&quot;a55475b1&quot;</td><td>&quot;a55475b1&quot;</td><td>&quot;a55475b1&quot;</td><td>null</td><td>null</td><td>&quot;a55475b1&quot;</td><td>&quot;a55475b1&quot;</td><td>null</td><td>null</td><td>null</td><td>null</td><td>null</td><td>&quot;a55475b1&quot;</td><td>null</td><td>&quot;a55475b1&quot;</td><td>&quot;a55475b1&quot;</td><td>null</td><td>&quot;OTHER&quot;</td><td>&quot;PE&quot;</td><td>null</td><td>null</td><td>&quot;PHONE&quot;</td></tr><tr><td>57,549</td><td>0</td><td>false</td><td>false</td><td>null</td><td>null</td><td>false</td><td>null</td><td>15,000.00</td><td>0.00</td><td>1.00</td><td>1.00</td><td>&quot;P7_110_89&quot;</td><td>&quot;P166_45_172&quot;</td><td>&quot;P97_36_170&quot;</td><td>&quot;MORE_ONE&quot;</td><td>&quot;OTHER&quot;</td><td>&quot;P7_110_89&quot;</td><td>&quot;P166_45_172&quot;</td><td>&quot;SINGLE&quot;</td><td>null</td><td>null</td><td>null</td><td>&quot;EMPLOYED&quot;</td><td>&quot;P10_39_147&quot;</td><td>null</td><td>&quot;P7_110_89&quot;</td><td>&quot;P166_45_172&quot;</td><td>null</td><td>null</td><td>&quot;EM&quot;</td><td>null</td><td>&quot;M&quot;</td><td>&quot;PRIMARY_MOBILE&quot;</td></tr><tr><td>57,549</td><td>1</td><td>null</td><td>null</td><td>null</td><td>false</td><td>null</td><td>null</td><td>null</td><td>1.00</td><td>1.00</td><td>5.00</td><td>&quot;a55475b1&quot;</td><td>&quot;a55475b1&quot;</td><td>&quot;a55475b1&quot;</td><td>null</td><td>null</td><td>&quot;a55475b1&quot;</td><td>&quot;a55475b1&quot;</td><td>null</td><td>null</td><td>null</td><td>null</td><td>null</td><td>&quot;a55475b1&quot;</td><td>null</td><td>&quot;a55475b1&quot;</td><td>&quot;a55475b1&quot;</td><td>&quot;SIBLING&quot;</td><td>null</td><td>&quot;EM&quot;</td><td>null</td><td>null</td><td>&quot;ALTERNATIVE_PHONE&quot;</td></tr></tbody></table></div>"
      ],
      "text/plain": [
       "shape: (5, 34)\n",
       "┌─────────┬────────────┬────────────┬───────────┬───┬───────────┬───────────┬──────────┬───────────┐\n",
       "│ case_id ┆ num_group1 ┆ contaddr_m ┆ contaddr_ ┆ … ┆ role_1084 ┆ role_993L ┆ sex_738L ┆ type_25L  │\n",
       "│ ---     ┆ ---        ┆ atchlist_1 ┆ smempladd ┆   ┆ L         ┆ ---       ┆ ---      ┆ ---       │\n",
       "│ u32     ┆ u8         ┆ 032L       ┆ r_334L    ┆   ┆ ---       ┆ cat       ┆ cat      ┆ cat       │\n",
       "│         ┆            ┆ ---        ┆ ---       ┆   ┆ cat       ┆           ┆          ┆           │\n",
       "│         ┆            ┆ bool       ┆ bool      ┆   ┆           ┆           ┆          ┆           │\n",
       "╞═════════╪════════════╪════════════╪═══════════╪═══╪═══════════╪═══════════╪══════════╪═══════════╡\n",
       "│ 57,543  ┆ 0          ┆ false      ┆ false     ┆ … ┆ CL        ┆ null      ┆ M        ┆ PRIMARY_M │\n",
       "│         ┆            ┆            ┆           ┆   ┆           ┆           ┆          ┆ OBILE     │\n",
       "│ 57,543  ┆ 1          ┆ null       ┆ null      ┆ … ┆ EM        ┆ null      ┆ null     ┆ PHONE     │\n",
       "│ 57,543  ┆ 2          ┆ null       ┆ null      ┆ … ┆ PE        ┆ null      ┆ null     ┆ PHONE     │\n",
       "│ 57,549  ┆ 0          ┆ false      ┆ false     ┆ … ┆ EM        ┆ null      ┆ M        ┆ PRIMARY_M │\n",
       "│         ┆            ┆            ┆           ┆   ┆           ┆           ┆          ┆ OBILE     │\n",
       "│ 57,549  ┆ 1          ┆ null       ┆ null      ┆ … ┆ EM        ┆ null      ┆ null     ┆ ALTERNATI │\n",
       "│         ┆            ┆            ┆           ┆   ┆           ┆           ┆          ┆ VE_PHONE  │\n",
       "└─────────┴────────────┴────────────┴───────────┴───┴───────────┴───────────┴──────────┴───────────┘"
      ]
     },
     "execution_count": 37,
     "metadata": {},
     "output_type": "execute_result"
    }
   ],
   "source": [
    "test_person_depth_one = (\n",
    "    pl.scan_parquet(all_test_files[25])\n",
    "    .select(train_person_depth_one.columns)\n",
    "    .cast(train_person_depth_one.schema)\n",
    ")\n",
    "test_person_depth_one.fetch().head()"
   ]
  },
  {
   "cell_type": "code",
   "execution_count": 38,
   "metadata": {},
   "outputs": [
    {
     "data": {
      "text/html": [
       "<div><style>\n",
       ".dataframe > thead > tr,\n",
       ".dataframe > tbody > tr {\n",
       "  text-align: right;\n",
       "  white-space: pre-wrap;\n",
       "}\n",
       "</style>\n",
       "<small>shape: (5, 13)</small><table border=\"1\" class=\"dataframe\"><thead><tr><th>case_id</th><th>num_group1</th><th>persontype_1072L Person type.</th><th>contaddr_district_15M Zip code of a contact person&#x27;s address.</th><th>contaddr_zipcode_807M Zip code of contact address.</th><th>education_927M Education level of the person.</th><th>empladdr_district_926M District where the employer&#x27;s address is located.</th><th>empladdr_zipcode_114M Zipcode of employer&#x27;s address.</th><th>language1_981M The primary language of the person.</th><th>registaddr_district_1083M District of person&#x27;s registered address.</th><th>registaddr_zipcode_184M Registered address&#x27;s zip code of a person.</th><th>role_1084L Type of contact role.</th><th>type_25L Contact type of a person.</th></tr><tr><td>u32</td><td>u8</td><td>f32</td><td>cat</td><td>cat</td><td>cat</td><td>cat</td><td>cat</td><td>cat</td><td>cat</td><td>cat</td><td>cat</td><td>cat</td></tr></thead><tbody><tr><td>0</td><td>0</td><td>5.00</td><td>&quot;a55475b1&quot;</td><td>&quot;a55475b1&quot;</td><td>&quot;a55475b1&quot;</td><td>&quot;a55475b1&quot;</td><td>&quot;a55475b1&quot;</td><td>&quot;a55475b1&quot;</td><td>&quot;a55475b1&quot;</td><td>&quot;a55475b1&quot;</td><td>&quot;PE&quot;</td><td>&quot;PHONE&quot;</td></tr><tr><td>1</td><td>0</td><td>5.00</td><td>&quot;a55475b1&quot;</td><td>&quot;a55475b1&quot;</td><td>&quot;a55475b1&quot;</td><td>&quot;a55475b1&quot;</td><td>&quot;a55475b1&quot;</td><td>&quot;a55475b1&quot;</td><td>&quot;a55475b1&quot;</td><td>&quot;a55475b1&quot;</td><td>&quot;PE&quot;</td><td>&quot;PHONE&quot;</td></tr><tr><td>2</td><td>0</td><td>5.00</td><td>&quot;a55475b1&quot;</td><td>&quot;a55475b1&quot;</td><td>&quot;a55475b1&quot;</td><td>&quot;a55475b1&quot;</td><td>&quot;a55475b1&quot;</td><td>&quot;a55475b1&quot;</td><td>&quot;a55475b1&quot;</td><td>&quot;a55475b1&quot;</td><td>&quot;PE&quot;</td><td>&quot;PRIMARY_MOBILE&quot;</td></tr><tr><td>3</td><td>0</td><td>4.00</td><td>&quot;a55475b1&quot;</td><td>&quot;a55475b1&quot;</td><td>&quot;a55475b1&quot;</td><td>&quot;a55475b1&quot;</td><td>&quot;a55475b1&quot;</td><td>&quot;a55475b1&quot;</td><td>&quot;a55475b1&quot;</td><td>&quot;a55475b1&quot;</td><td>&quot;PE&quot;</td><td>&quot;PHONE&quot;</td></tr><tr><td>4</td><td>0</td><td>5.00</td><td>&quot;a55475b1&quot;</td><td>&quot;a55475b1&quot;</td><td>&quot;a55475b1&quot;</td><td>&quot;a55475b1&quot;</td><td>&quot;a55475b1&quot;</td><td>&quot;a55475b1&quot;</td><td>&quot;a55475b1&quot;</td><td>&quot;a55475b1&quot;</td><td>&quot;PE&quot;</td><td>&quot;PHONE&quot;</td></tr></tbody></table></div>"
      ],
      "text/plain": [
       "shape: (5, 13)\n",
       "┌─────────┬────────────┬───────────┬───────────┬───┬───────────┬───────────┬───────────┬───────────┐\n",
       "│ case_id ┆ num_group1 ┆ persontyp ┆ contaddr_ ┆ … ┆ registadd ┆ registadd ┆ role_1084 ┆ type_25L  │\n",
       "│ ---     ┆ ---        ┆ e_1072L   ┆ district_ ┆   ┆ r_distric ┆ r_zipcode ┆ L Type of ┆ Contact   │\n",
       "│ u32     ┆ u8         ┆ Person    ┆ 15M Zip   ┆   ┆ t_1083M   ┆ _184M Reg ┆ contact   ┆ type of a │\n",
       "│         ┆            ┆ type.     ┆ code of a ┆   ┆ District  ┆ istered   ┆ role.     ┆ person.   │\n",
       "│         ┆            ┆ ---       ┆ contact   ┆   ┆ of        ┆ address's ┆ ---       ┆ ---       │\n",
       "│         ┆            ┆ f32       ┆ person's  ┆   ┆ person's  ┆ zip code  ┆ cat       ┆ cat       │\n",
       "│         ┆            ┆           ┆ address.  ┆   ┆ registere ┆ of a      ┆           ┆           │\n",
       "│         ┆            ┆           ┆ ---       ┆   ┆ d         ┆ person.   ┆           ┆           │\n",
       "│         ┆            ┆           ┆ cat       ┆   ┆ address.  ┆ ---       ┆           ┆           │\n",
       "│         ┆            ┆           ┆           ┆   ┆ ---       ┆ cat       ┆           ┆           │\n",
       "│         ┆            ┆           ┆           ┆   ┆ cat       ┆           ┆           ┆           │\n",
       "╞═════════╪════════════╪═══════════╪═══════════╪═══╪═══════════╪═══════════╪═══════════╪═══════════╡\n",
       "│ 0       ┆ 0          ┆ 5.00      ┆ a55475b1  ┆ … ┆ a55475b1  ┆ a55475b1  ┆ PE        ┆ PHONE     │\n",
       "│ 1       ┆ 0          ┆ 5.00      ┆ a55475b1  ┆ … ┆ a55475b1  ┆ a55475b1  ┆ PE        ┆ PHONE     │\n",
       "│ 2       ┆ 0          ┆ 5.00      ┆ a55475b1  ┆ … ┆ a55475b1  ┆ a55475b1  ┆ PE        ┆ PRIMARY_M │\n",
       "│         ┆            ┆           ┆           ┆   ┆           ┆           ┆           ┆ OBILE     │\n",
       "│ 3       ┆ 0          ┆ 4.00      ┆ a55475b1  ┆ … ┆ a55475b1  ┆ a55475b1  ┆ PE        ┆ PHONE     │\n",
       "│ 4       ┆ 0          ┆ 5.00      ┆ a55475b1  ┆ … ┆ a55475b1  ┆ a55475b1  ┆ PE        ┆ PHONE     │\n",
       "└─────────┴────────────┴───────────┴───────────┴───┴───────────┴───────────┴───────────┴───────────┘"
      ]
     },
     "execution_count": 38,
     "metadata": {},
     "output_type": "execute_result"
    }
   ],
   "source": [
    "total_person_depth_one = (\n",
    "    pl.concat(\n",
    "        [\n",
    "            train_person_depth_one,\n",
    "            test_person_depth_one\n",
    "        ]\n",
    "    )\n",
    "    .sort(by=\"case_id\")\n",
    "    .pipe(rename_cols)\n",
    "    .pipe(select_imputable_cols)\n",
    "    .group_by(\"case_id\")\n",
    "    .agg(\n",
    "        cs.integer().min(),\n",
    "        cs.boolean().drop_nulls().mode().first().cast(pl.UInt8),\n",
    "        cs.float().max(),\n",
    "        cs.categorical().drop_nulls().mode().first()\n",
    "    )\n",
    ")\n",
    "total_person_depth_one.fetch().head()"
   ]
  },
  {
   "cell_type": "code",
   "execution_count": 39,
   "metadata": {},
   "outputs": [
    {
     "data": {
      "text/html": [
       "<div><style>\n",
       ".dataframe > thead > tr,\n",
       ".dataframe > tbody > tr {\n",
       "  text-align: right;\n",
       "  white-space: pre-wrap;\n",
       "}\n",
       "</style>\n",
       "<small>shape: (5, 10)</small><table border=\"1\" class=\"dataframe\"><thead><tr><th>case_id</th><th>num_group1</th><th>num_group2</th><th>addres_district_368M</th><th>addres_role_871L</th><th>addres_zip_823M</th><th>conts_role_79M</th><th>empls_economicalst_849M</th><th>empls_employer_name_740M</th><th>relatedpersons_role_762T</th></tr><tr><td>u32</td><td>u8</td><td>u8</td><td>cat</td><td>cat</td><td>cat</td><td>cat</td><td>cat</td><td>cat</td><td>cat</td></tr></thead><tbody><tr><td>5</td><td>0</td><td>0</td><td>&quot;a55475b1&quot;</td><td>null</td><td>&quot;a55475b1&quot;</td><td>&quot;a55475b1&quot;</td><td>&quot;a55475b1&quot;</td><td>&quot;a55475b1&quot;</td><td>null</td></tr><tr><td>6</td><td>0</td><td>0</td><td>&quot;P55_110_32&quot;</td><td>&quot;CONTACT&quot;</td><td>&quot;P10_68_40&quot;</td><td>&quot;P38_92_157&quot;</td><td>&quot;P164_110_33&quot;</td><td>&quot;a55475b1&quot;</td><td>null</td></tr><tr><td>6</td><td>0</td><td>1</td><td>&quot;P55_110_32&quot;</td><td>&quot;PERMANENT&quot;</td><td>&quot;P10_68_40&quot;</td><td>&quot;a55475b1&quot;</td><td>&quot;a55475b1&quot;</td><td>&quot;a55475b1&quot;</td><td>null</td></tr><tr><td>6</td><td>1</td><td>0</td><td>&quot;P204_92_178&quot;</td><td>&quot;CONTACT&quot;</td><td>&quot;P65_136_169&quot;</td><td>&quot;P38_92_157&quot;</td><td>&quot;P164_110_33&quot;</td><td>&quot;a55475b1&quot;</td><td>&quot;OTHER_RELATIVE&quot;</td></tr><tr><td>6</td><td>1</td><td>1</td><td>&quot;P191_109_75&quot;</td><td>&quot;CONTACT&quot;</td><td>&quot;P10_68_40&quot;</td><td>&quot;P7_147_157&quot;</td><td>&quot;a55475b1&quot;</td><td>&quot;a55475b1&quot;</td><td>&quot;OTHER_RELATIVE&quot;</td></tr></tbody></table></div>"
      ],
      "text/plain": [
       "shape: (5, 10)\n",
       "┌─────────┬────────────┬───────────┬───────────┬───┬───────────┬───────────┬───────────┬───────────┐\n",
       "│ case_id ┆ num_group1 ┆ num_group ┆ addres_di ┆ … ┆ conts_rol ┆ empls_eco ┆ empls_emp ┆ relatedpe │\n",
       "│ ---     ┆ ---        ┆ 2         ┆ strict_36 ┆   ┆ e_79M     ┆ nomicalst ┆ loyer_nam ┆ rsons_rol │\n",
       "│ u32     ┆ u8         ┆ ---       ┆ 8M        ┆   ┆ ---       ┆ _849M     ┆ e_740M    ┆ e_762T    │\n",
       "│         ┆            ┆ u8        ┆ ---       ┆   ┆ cat       ┆ ---       ┆ ---       ┆ ---       │\n",
       "│         ┆            ┆           ┆ cat       ┆   ┆           ┆ cat       ┆ cat       ┆ cat       │\n",
       "╞═════════╪════════════╪═══════════╪═══════════╪═══╪═══════════╪═══════════╪═══════════╪═══════════╡\n",
       "│ 5       ┆ 0          ┆ 0         ┆ a55475b1  ┆ … ┆ a55475b1  ┆ a55475b1  ┆ a55475b1  ┆ null      │\n",
       "│ 6       ┆ 0          ┆ 0         ┆ P55_110_3 ┆ … ┆ P38_92_15 ┆ P164_110_ ┆ a55475b1  ┆ null      │\n",
       "│         ┆            ┆           ┆ 2         ┆   ┆ 7         ┆ 33        ┆           ┆           │\n",
       "│ 6       ┆ 0          ┆ 1         ┆ P55_110_3 ┆ … ┆ a55475b1  ┆ a55475b1  ┆ a55475b1  ┆ null      │\n",
       "│         ┆            ┆           ┆ 2         ┆   ┆           ┆           ┆           ┆           │\n",
       "│ 6       ┆ 1          ┆ 0         ┆ P204_92_1 ┆ … ┆ P38_92_15 ┆ P164_110_ ┆ a55475b1  ┆ OTHER_REL │\n",
       "│         ┆            ┆           ┆ 78        ┆   ┆ 7         ┆ 33        ┆           ┆ ATIVE     │\n",
       "│ 6       ┆ 1          ┆ 1         ┆ P191_109_ ┆ … ┆ P7_147_15 ┆ a55475b1  ┆ a55475b1  ┆ OTHER_REL │\n",
       "│         ┆            ┆           ┆ 75        ┆   ┆ 7         ┆           ┆           ┆ ATIVE     │\n",
       "└─────────┴────────────┴───────────┴───────────┴───┴───────────┴───────────┴───────────┴───────────┘"
      ]
     },
     "execution_count": 39,
     "metadata": {},
     "output_type": "execute_result"
    }
   ],
   "source": [
    "train_person_depth_two = (\n",
    "    pl.scan_parquet(all_train_files[30])\n",
    "    .drop(cs.ends_with(\"D\"))\n",
    "    .select(\n",
    "        cs.by_name(\"case_id\").cast(pl.UInt32),\n",
    "        cs.contains(\"num_group\").cast(pl.UInt8),\n",
    "        cs.boolean(),\n",
    "        cs.float().cast(pl.Float32),\n",
    "        cs.string().cast(pl.Categorical()),\n",
    "    )\n",
    ")\n",
    "train_person_depth_two.fetch().head()"
   ]
  },
  {
   "cell_type": "code",
   "execution_count": 40,
   "metadata": {},
   "outputs": [
    {
     "data": {
      "text/html": [
       "<div><style>\n",
       ".dataframe > thead > tr,\n",
       ".dataframe > tbody > tr {\n",
       "  text-align: right;\n",
       "  white-space: pre-wrap;\n",
       "}\n",
       "</style>\n",
       "<small>shape: (5, 10)</small><table border=\"1\" class=\"dataframe\"><thead><tr><th>case_id</th><th>num_group1</th><th>num_group2</th><th>addres_district_368M</th><th>addres_role_871L</th><th>addres_zip_823M</th><th>conts_role_79M</th><th>empls_economicalst_849M</th><th>empls_employer_name_740M</th><th>relatedpersons_role_762T</th></tr><tr><td>u32</td><td>u8</td><td>u8</td><td>cat</td><td>cat</td><td>cat</td><td>cat</td><td>cat</td><td>cat</td><td>cat</td></tr></thead><tbody><tr><td>57,552</td><td>0</td><td>0</td><td>&quot;a55475b1&quot;</td><td>null</td><td>&quot;a55475b1&quot;</td><td>&quot;a55475b1&quot;</td><td>&quot;a55475b1&quot;</td><td>&quot;a55475b1&quot;</td><td>null</td></tr><tr><td>57,569</td><td>0</td><td>0</td><td>&quot;a55475b1&quot;</td><td>null</td><td>&quot;a55475b1&quot;</td><td>&quot;a55475b1&quot;</td><td>&quot;a55475b1&quot;</td><td>&quot;a55475b1&quot;</td><td>null</td></tr><tr><td>57,630</td><td>0</td><td>0</td><td>&quot;a55475b1&quot;</td><td>null</td><td>&quot;a55475b1&quot;</td><td>&quot;a55475b1&quot;</td><td>&quot;a55475b1&quot;</td><td>&quot;a55475b1&quot;</td><td>null</td></tr><tr><td>57,631</td><td>0</td><td>0</td><td>&quot;a55475b1&quot;</td><td>null</td><td>&quot;a55475b1&quot;</td><td>&quot;a55475b1&quot;</td><td>&quot;a55475b1&quot;</td><td>&quot;a55475b1&quot;</td><td>null</td></tr><tr><td>57,632</td><td>0</td><td>0</td><td>&quot;a55475b1&quot;</td><td>null</td><td>&quot;a55475b1&quot;</td><td>&quot;a55475b1&quot;</td><td>&quot;a55475b1&quot;</td><td>&quot;a55475b1&quot;</td><td>null</td></tr></tbody></table></div>"
      ],
      "text/plain": [
       "shape: (5, 10)\n",
       "┌─────────┬────────────┬───────────┬───────────┬───┬───────────┬───────────┬───────────┬───────────┐\n",
       "│ case_id ┆ num_group1 ┆ num_group ┆ addres_di ┆ … ┆ conts_rol ┆ empls_eco ┆ empls_emp ┆ relatedpe │\n",
       "│ ---     ┆ ---        ┆ 2         ┆ strict_36 ┆   ┆ e_79M     ┆ nomicalst ┆ loyer_nam ┆ rsons_rol │\n",
       "│ u32     ┆ u8         ┆ ---       ┆ 8M        ┆   ┆ ---       ┆ _849M     ┆ e_740M    ┆ e_762T    │\n",
       "│         ┆            ┆ u8        ┆ ---       ┆   ┆ cat       ┆ ---       ┆ ---       ┆ ---       │\n",
       "│         ┆            ┆           ┆ cat       ┆   ┆           ┆ cat       ┆ cat       ┆ cat       │\n",
       "╞═════════╪════════════╪═══════════╪═══════════╪═══╪═══════════╪═══════════╪═══════════╪═══════════╡\n",
       "│ 57,552  ┆ 0          ┆ 0         ┆ a55475b1  ┆ … ┆ a55475b1  ┆ a55475b1  ┆ a55475b1  ┆ null      │\n",
       "│ 57,569  ┆ 0          ┆ 0         ┆ a55475b1  ┆ … ┆ a55475b1  ┆ a55475b1  ┆ a55475b1  ┆ null      │\n",
       "│ 57,630  ┆ 0          ┆ 0         ┆ a55475b1  ┆ … ┆ a55475b1  ┆ a55475b1  ┆ a55475b1  ┆ null      │\n",
       "│ 57,631  ┆ 0          ┆ 0         ┆ a55475b1  ┆ … ┆ a55475b1  ┆ a55475b1  ┆ a55475b1  ┆ null      │\n",
       "│ 57,632  ┆ 0          ┆ 0         ┆ a55475b1  ┆ … ┆ a55475b1  ┆ a55475b1  ┆ a55475b1  ┆ null      │\n",
       "└─────────┴────────────┴───────────┴───────────┴───┴───────────┴───────────┴───────────┴───────────┘"
      ]
     },
     "execution_count": 40,
     "metadata": {},
     "output_type": "execute_result"
    }
   ],
   "source": [
    "test_person_depth_two = (\n",
    "    pl.scan_parquet(all_test_files[29])\n",
    "    .select(train_person_depth_two.columns)\n",
    "    .cast(train_person_depth_two.schema)\n",
    ")\n",
    "test_person_depth_two.fetch().head()"
   ]
  },
  {
   "cell_type": "code",
   "execution_count": 41,
   "metadata": {},
   "outputs": [
    {
     "data": {
      "text/html": [
       "<div><style>\n",
       ".dataframe > thead > tr,\n",
       ".dataframe > tbody > tr {\n",
       "  text-align: right;\n",
       "  white-space: pre-wrap;\n",
       "}\n",
       "</style>\n",
       "<small>shape: (5, 8)</small><table border=\"1\" class=\"dataframe\"><thead><tr><th>case_id</th><th>num_group1</th><th>num_group2</th><th>addres_district_368M District of the person&#x27;s address.</th><th>addres_zip_823M Zip code of the address.</th><th>conts_role_79M Type of contact role of a person.</th><th>empls_economicalst_849M The economical status of the person (num_group1 - person, num_group2 - employment).</th><th>empls_employer_name_740M Employer&#x27;s name (num_group1 - person, num_group2 - employment).</th></tr><tr><td>u32</td><td>u8</td><td>u8</td><td>cat</td><td>cat</td><td>cat</td><td>cat</td><td>cat</td></tr></thead><tbody><tr><td>5</td><td>0</td><td>0</td><td>&quot;a55475b1&quot;</td><td>&quot;a55475b1&quot;</td><td>&quot;a55475b1&quot;</td><td>&quot;a55475b1&quot;</td><td>&quot;a55475b1&quot;</td></tr><tr><td>6</td><td>0</td><td>0</td><td>&quot;P204_92_178&quot;</td><td>&quot;P10_68_40&quot;</td><td>&quot;P38_92_157&quot;</td><td>&quot;a55475b1&quot;</td><td>&quot;a55475b1&quot;</td></tr><tr><td>7</td><td>0</td><td>0</td><td>&quot;a55475b1&quot;</td><td>&quot;a55475b1&quot;</td><td>&quot;a55475b1&quot;</td><td>&quot;a55475b1&quot;</td><td>&quot;a55475b1&quot;</td></tr><tr><td>8</td><td>0</td><td>0</td><td>&quot;a55475b1&quot;</td><td>&quot;a55475b1&quot;</td><td>&quot;a55475b1&quot;</td><td>&quot;a55475b1&quot;</td><td>&quot;a55475b1&quot;</td></tr><tr><td>9</td><td>0</td><td>0</td><td>&quot;a55475b1&quot;</td><td>&quot;a55475b1&quot;</td><td>&quot;a55475b1&quot;</td><td>&quot;a55475b1&quot;</td><td>&quot;a55475b1&quot;</td></tr></tbody></table></div>"
      ],
      "text/plain": [
       "shape: (5, 8)\n",
       "┌─────────┬────────────┬────────────┬────────────┬────────────┬────────────┬───────────┬───────────┐\n",
       "│ case_id ┆ num_group1 ┆ num_group2 ┆ addres_dis ┆ addres_zip ┆ conts_role ┆ empls_eco ┆ empls_emp │\n",
       "│ ---     ┆ ---        ┆ ---        ┆ trict_368M ┆ _823M Zip  ┆ _79M Type  ┆ nomicalst ┆ loyer_nam │\n",
       "│ u32     ┆ u8         ┆ u8         ┆ District   ┆ code of    ┆ of contact ┆ _849M The ┆ e_740M    │\n",
       "│         ┆            ┆            ┆ of the     ┆ the        ┆ role of a  ┆ economica ┆ Employer' │\n",
       "│         ┆            ┆            ┆ person's   ┆ address.   ┆ person.    ┆ l status  ┆ s name    │\n",
       "│         ┆            ┆            ┆ address.   ┆ ---        ┆ ---        ┆ of the    ┆ (num_grou │\n",
       "│         ┆            ┆            ┆ ---        ┆ cat        ┆ cat        ┆ person    ┆ p1 -      │\n",
       "│         ┆            ┆            ┆ cat        ┆            ┆            ┆ (num_grou ┆ person,   │\n",
       "│         ┆            ┆            ┆            ┆            ┆            ┆ p1 -      ┆ num_group │\n",
       "│         ┆            ┆            ┆            ┆            ┆            ┆ person,   ┆ 2 - emplo │\n",
       "│         ┆            ┆            ┆            ┆            ┆            ┆ num_group ┆ yment).   │\n",
       "│         ┆            ┆            ┆            ┆            ┆            ┆ 2 -       ┆ ---       │\n",
       "│         ┆            ┆            ┆            ┆            ┆            ┆ emplo…    ┆ cat       │\n",
       "│         ┆            ┆            ┆            ┆            ┆            ┆ ---       ┆           │\n",
       "│         ┆            ┆            ┆            ┆            ┆            ┆ cat       ┆           │\n",
       "╞═════════╪════════════╪════════════╪════════════╪════════════╪════════════╪═══════════╪═══════════╡\n",
       "│ 5       ┆ 0          ┆ 0          ┆ a55475b1   ┆ a55475b1   ┆ a55475b1   ┆ a55475b1  ┆ a55475b1  │\n",
       "│ 6       ┆ 0          ┆ 0          ┆ P204_92_17 ┆ P10_68_40  ┆ P38_92_157 ┆ a55475b1  ┆ a55475b1  │\n",
       "│         ┆            ┆            ┆ 8          ┆            ┆            ┆           ┆           │\n",
       "│ 7       ┆ 0          ┆ 0          ┆ a55475b1   ┆ a55475b1   ┆ a55475b1   ┆ a55475b1  ┆ a55475b1  │\n",
       "│ 8       ┆ 0          ┆ 0          ┆ a55475b1   ┆ a55475b1   ┆ a55475b1   ┆ a55475b1  ┆ a55475b1  │\n",
       "│ 9       ┆ 0          ┆ 0          ┆ a55475b1   ┆ a55475b1   ┆ a55475b1   ┆ a55475b1  ┆ a55475b1  │\n",
       "└─────────┴────────────┴────────────┴────────────┴────────────┴────────────┴───────────┴───────────┘"
      ]
     },
     "execution_count": 41,
     "metadata": {},
     "output_type": "execute_result"
    }
   ],
   "source": [
    "total_person_depth_two = (\n",
    "    pl.concat(\n",
    "        [\n",
    "            train_person_depth_two,\n",
    "            test_person_depth_two\n",
    "        ]\n",
    "    )\n",
    "    .sort(by=\"case_id\")\n",
    "    .pipe(rename_cols)\n",
    "    .pipe(select_imputable_cols)\n",
    "    .group_by(\"case_id\")\n",
    "    .agg(\n",
    "        cs.integer().min(),\n",
    "        cs.boolean().drop_nulls().mode().first().cast(pl.UInt8),\n",
    "        cs.categorical().drop_nulls().mode().first()\n",
    "    )\n",
    ")\n",
    "total_person_depth_two.fetch().head()"
   ]
  },
  {
   "cell_type": "code",
   "execution_count": 42,
   "metadata": {},
   "outputs": [
    {
     "data": {
      "text/html": [
       "<div><style>\n",
       ".dataframe > thead > tr,\n",
       ".dataframe > tbody > tr {\n",
       "  text-align: right;\n",
       "  white-space: pre-wrap;\n",
       "}\n",
       "</style>\n",
       "<small>shape: (4, 3)</small><table border=\"1\" class=\"dataframe\"><thead><tr><th>index</th><th>path</th><th>filename</th></tr><tr><td>i64</td><td>str</td><td>str</td></tr></thead><tbody><tr><td>11</td><td>&quot;Downloads/credit_risk/train/train_credit_bureau_a_1_0.parquet&quot;</td><td>&quot;train_credit_bureau_a_1_0.parquet&quot;</td></tr><tr><td>14</td><td>&quot;Downloads/credit_risk/train/train_credit_bureau_a_1_1.parquet&quot;</td><td>&quot;train_credit_bureau_a_1_1.parquet&quot;</td></tr><tr><td>28</td><td>&quot;Downloads/credit_risk/train/train_credit_bureau_a_1_2.parquet&quot;</td><td>&quot;train_credit_bureau_a_1_2.parquet&quot;</td></tr><tr><td>9</td><td>&quot;Downloads/credit_risk/train/train_credit_bureau_a_1_3.parquet&quot;</td><td>&quot;train_credit_bureau_a_1_3.parquet&quot;</td></tr></tbody></table></div>"
      ],
      "text/plain": [
       "shape: (4, 3)\n",
       "┌───────┬──────────────────────────────────────────────────────┬───────────────────────────────────┐\n",
       "│ index ┆ path                                                 ┆ filename                          │\n",
       "│ ---   ┆ ---                                                  ┆ ---                               │\n",
       "│ i64   ┆ str                                                  ┆ str                               │\n",
       "╞═══════╪══════════════════════════════════════════════════════╪═══════════════════════════════════╡\n",
       "│ 11    ┆ Downloads/credit_risk/train/train_credit_bureau_a_1_ ┆ train_credit_bureau_a_1_0.parquet │\n",
       "│       ┆ 0.parquet                                            ┆                                   │\n",
       "│ 14    ┆ Downloads/credit_risk/train/train_credit_bureau_a_1_ ┆ train_credit_bureau_a_1_1.parquet │\n",
       "│       ┆ 1.parquet                                            ┆                                   │\n",
       "│ 28    ┆ Downloads/credit_risk/train/train_credit_bureau_a_1_ ┆ train_credit_bureau_a_1_2.parquet │\n",
       "│       ┆ 2.parquet                                            ┆                                   │\n",
       "│ 9     ┆ Downloads/credit_risk/train/train_credit_bureau_a_1_ ┆ train_credit_bureau_a_1_3.parquet │\n",
       "│       ┆ 3.parquet                                            ┆                                   │\n",
       "└───────┴──────────────────────────────────────────────────────┴───────────────────────────────────┘"
      ]
     },
     "execution_count": 42,
     "metadata": {},
     "output_type": "execute_result"
    }
   ],
   "source": [
    "train_files_df.filter(pl.col(\"filename\").str.contains(\"_a_1_\"))\n"
   ]
  },
  {
   "cell_type": "code",
   "execution_count": 43,
   "metadata": {},
   "outputs": [
    {
     "data": {
      "text/html": [
       "<div><style>\n",
       ".dataframe > thead > tr,\n",
       ".dataframe > tbody > tr {\n",
       "  text-align: right;\n",
       "  white-space: pre-wrap;\n",
       "}\n",
       "</style>\n",
       "<small>shape: (5, 67)</small><table border=\"1\" class=\"dataframe\"><thead><tr><th>case_id</th><th>num_group1</th><th>annualeffectiverate_199L</th><th>annualeffectiverate_63L</th><th>contractsum_5085717L</th><th>credlmt_230A</th><th>credlmt_935A</th><th>debtoutstand_525A</th><th>debtoverdue_47A</th><th>dpdmax_139P</th><th>dpdmax_757P</th><th>dpdmaxdatemonth_442T</th><th>dpdmaxdatemonth_89T</th><th>dpdmaxdateyear_596T</th><th>dpdmaxdateyear_896T</th><th>instlamount_768A</th><th>instlamount_852A</th><th>interestrate_508L</th><th>monthlyinstlamount_332A</th><th>monthlyinstlamount_674A</th><th>nominalrate_281L</th><th>nominalrate_498L</th><th>numberofcontrsvalue_258L</th><th>numberofcontrsvalue_358L</th><th>numberofinstls_229L</th><th>numberofinstls_320L</th><th>numberofoutstandinstls_520L</th><th>numberofoutstandinstls_59L</th><th>numberofoverdueinstlmax_1039L</th><th>numberofoverdueinstlmax_1151L</th><th>numberofoverdueinstls_725L</th><th>numberofoverdueinstls_834L</th><th>outstandingamount_354A</th><th>outstandingamount_362A</th><th>overdueamount_31A</th><th>overdueamount_659A</th><th>overdueamountmax2_14A</th><th>overdueamountmax2_398A</th><th>overdueamountmax_155A</th><th>overdueamountmax_35A</th><th>overdueamountmaxdatemonth_284T</th><th>overdueamountmaxdatemonth_365T</th><th>overdueamountmaxdateyear_2T</th><th>overdueamountmaxdateyear_994T</th><th>periodicityofpmts_1102L</th><th>periodicityofpmts_837L</th><th>prolongationcount_1120L</th><th>prolongationcount_599L</th><th>residualamount_488A</th><th>residualamount_856A</th><th>totalamount_6A</th><th>totalamount_996A</th><th>totaldebtoverduevalue_178A</th><th>totaldebtoverduevalue_718A</th><th>totaloutstanddebtvalue_39A</th><th>totaloutstanddebtvalue_668A</th><th>classificationofcontr_13M</th><th>classificationofcontr_400M</th><th>contractst_545M</th><th>contractst_964M</th><th>description_351M</th><th>financialinstitution_382M</th><th>financialinstitution_591M</th><th>purposeofcred_426M</th><th>purposeofcred_874M</th><th>subjectrole_182M</th><th>subjectrole_93M</th></tr><tr><td>u32</td><td>u16</td><td>f32</td><td>f32</td><td>f32</td><td>f32</td><td>f32</td><td>f32</td><td>f32</td><td>f32</td><td>f32</td><td>f32</td><td>f32</td><td>f32</td><td>f32</td><td>f32</td><td>f32</td><td>f32</td><td>f32</td><td>f32</td><td>f32</td><td>f32</td><td>f32</td><td>f32</td><td>f32</td><td>f32</td><td>f32</td><td>f32</td><td>f32</td><td>f32</td><td>f32</td><td>f32</td><td>f32</td><td>f32</td><td>f32</td><td>f32</td><td>f32</td><td>f32</td><td>f32</td><td>f32</td><td>f32</td><td>f32</td><td>f32</td><td>f32</td><td>f32</td><td>f32</td><td>f32</td><td>f32</td><td>f32</td><td>f32</td><td>f32</td><td>f32</td><td>f32</td><td>f32</td><td>f32</td><td>f32</td><td>cat</td><td>cat</td><td>cat</td><td>cat</td><td>cat</td><td>cat</td><td>cat</td><td>cat</td><td>cat</td><td>cat</td><td>cat</td></tr></thead><tbody><tr><td>388</td><td>0</td><td>null</td><td>null</td><td>null</td><td>null</td><td>null</td><td>374,419.50</td><td>0.00</td><td>0.00</td><td>null</td><td>null</td><td>7.00</td><td>2,018.00</td><td>null</td><td>null</td><td>null</td><td>null</td><td>7,811.45</td><td>null</td><td>null</td><td>null</td><td>2.00</td><td>1.00</td><td>null</td><td>60.00</td><td>null</td><td>54.00</td><td>0.00</td><td>null</td><td>0.00</td><td>null</td><td>null</td><td>260,093.70</td><td>null</td><td>0.00</td><td>0.00</td><td>null</td><td>0.00</td><td>null</td><td>null</td><td>7.00</td><td>2,018.00</td><td>null</td><td>null</td><td>30.00</td><td>null</td><td>null</td><td>null</td><td>null</td><td>null</td><td>268,897.62</td><td>0.00</td><td>0.00</td><td>374,419.50</td><td>0.00</td><td>&quot;4408ff0f&quot;</td><td>&quot;a55475b1&quot;</td><td>&quot;7241344e&quot;</td><td>&quot;a55475b1&quot;</td><td>&quot;a55475b1&quot;</td><td>&quot;a55475b1&quot;</td><td>&quot;55b002a9&quot;</td><td>&quot;96a8fdfe&quot;</td><td>&quot;a55475b1&quot;</td><td>&quot;ab3c25cf&quot;</td><td>&quot;ab3c25cf&quot;</td></tr><tr><td>388</td><td>1</td><td>null</td><td>null</td><td>null</td><td>null</td><td>135,806.00</td><td>null</td><td>null</td><td>0.00</td><td>null</td><td>null</td><td>8.00</td><td>2,018.00</td><td>null</td><td>8,742.80</td><td>null</td><td>null</td><td>8,742.80</td><td>null</td><td>null</td><td>null</td><td>null</td><td>null</td><td>null</td><td>null</td><td>null</td><td>null</td><td>0.00</td><td>null</td><td>0.00</td><td>null</td><td>null</td><td>null</td><td>null</td><td>0.00</td><td>0.00</td><td>null</td><td>0.00</td><td>null</td><td>null</td><td>8.00</td><td>2,018.00</td><td>null</td><td>null</td><td>null</td><td>null</td><td>null</td><td>null</td><td>114,325.80</td><td>null</td><td>null</td><td>null</td><td>null</td><td>null</td><td>null</td><td>&quot;ea6782cc&quot;</td><td>&quot;a55475b1&quot;</td><td>&quot;7241344e&quot;</td><td>&quot;a55475b1&quot;</td><td>&quot;a55475b1&quot;</td><td>&quot;a55475b1&quot;</td><td>&quot;P204_66_73&quot;</td><td>&quot;60c73645&quot;</td><td>&quot;a55475b1&quot;</td><td>&quot;a55475b1&quot;</td><td>&quot;a55475b1&quot;</td></tr><tr><td>388</td><td>2</td><td>null</td><td>null</td><td>null</td><td>null</td><td>null</td><td>null</td><td>null</td><td>null</td><td>null</td><td>null</td><td>null</td><td>null</td><td>null</td><td>null</td><td>null</td><td>null</td><td>null</td><td>null</td><td>null</td><td>null</td><td>null</td><td>null</td><td>null</td><td>null</td><td>null</td><td>null</td><td>null</td><td>null</td><td>null</td><td>null</td><td>null</td><td>null</td><td>null</td><td>null</td><td>null</td><td>null</td><td>null</td><td>null</td><td>null</td><td>null</td><td>null</td><td>null</td><td>null</td><td>null</td><td>null</td><td>null</td><td>null</td><td>null</td><td>null</td><td>null</td><td>null</td><td>null</td><td>null</td><td>null</td><td>&quot;a55475b1&quot;</td><td>&quot;a55475b1&quot;</td><td>&quot;a55475b1&quot;</td><td>&quot;a55475b1&quot;</td><td>&quot;a55475b1&quot;</td><td>&quot;a55475b1&quot;</td><td>&quot;a55475b1&quot;</td><td>&quot;a55475b1&quot;</td><td>&quot;a55475b1&quot;</td><td>&quot;a55475b1&quot;</td><td>&quot;a55475b1&quot;</td></tr><tr><td>388</td><td>3</td><td>null</td><td>null</td><td>null</td><td>null</td><td>null</td><td>null</td><td>null</td><td>null</td><td>null</td><td>null</td><td>null</td><td>null</td><td>null</td><td>null</td><td>null</td><td>null</td><td>null</td><td>null</td><td>null</td><td>null</td><td>null</td><td>null</td><td>null</td><td>null</td><td>null</td><td>null</td><td>null</td><td>null</td><td>null</td><td>null</td><td>null</td><td>null</td><td>null</td><td>null</td><td>null</td><td>null</td><td>null</td><td>null</td><td>null</td><td>null</td><td>null</td><td>null</td><td>null</td><td>null</td><td>null</td><td>null</td><td>null</td><td>null</td><td>null</td><td>null</td><td>null</td><td>null</td><td>null</td><td>null</td><td>&quot;a55475b1&quot;</td><td>&quot;a55475b1&quot;</td><td>&quot;a55475b1&quot;</td><td>&quot;a55475b1&quot;</td><td>&quot;a55475b1&quot;</td><td>&quot;a55475b1&quot;</td><td>&quot;a55475b1&quot;</td><td>&quot;a55475b1&quot;</td><td>&quot;a55475b1&quot;</td><td>&quot;a55475b1&quot;</td><td>&quot;a55475b1&quot;</td></tr><tr><td>388</td><td>4</td><td>null</td><td>null</td><td>null</td><td>null</td><td>null</td><td>null</td><td>null</td><td>null</td><td>null</td><td>null</td><td>null</td><td>null</td><td>null</td><td>null</td><td>null</td><td>null</td><td>null</td><td>null</td><td>null</td><td>null</td><td>null</td><td>null</td><td>null</td><td>null</td><td>null</td><td>null</td><td>null</td><td>null</td><td>null</td><td>null</td><td>null</td><td>null</td><td>null</td><td>null</td><td>null</td><td>null</td><td>null</td><td>null</td><td>null</td><td>null</td><td>null</td><td>null</td><td>null</td><td>null</td><td>null</td><td>null</td><td>null</td><td>null</td><td>null</td><td>null</td><td>null</td><td>null</td><td>null</td><td>null</td><td>&quot;a55475b1&quot;</td><td>&quot;a55475b1&quot;</td><td>&quot;a55475b1&quot;</td><td>&quot;a55475b1&quot;</td><td>&quot;a55475b1&quot;</td><td>&quot;a55475b1&quot;</td><td>&quot;a55475b1&quot;</td><td>&quot;a55475b1&quot;</td><td>&quot;a55475b1&quot;</td><td>&quot;a55475b1&quot;</td><td>&quot;a55475b1&quot;</td></tr></tbody></table></div>"
      ],
      "text/plain": [
       "shape: (5, 67)\n",
       "┌─────────┬────────────┬───────────┬───────────┬───┬───────────┬───────────┬───────────┬───────────┐\n",
       "│ case_id ┆ num_group1 ┆ annualeff ┆ annualeff ┆ … ┆ purposeof ┆ purposeof ┆ subjectro ┆ subjectro │\n",
       "│ ---     ┆ ---        ┆ ectiverat ┆ ectiverat ┆   ┆ cred_426M ┆ cred_874M ┆ le_182M   ┆ le_93M    │\n",
       "│ u32     ┆ u16        ┆ e_199L    ┆ e_63L     ┆   ┆ ---       ┆ ---       ┆ ---       ┆ ---       │\n",
       "│         ┆            ┆ ---       ┆ ---       ┆   ┆ cat       ┆ cat       ┆ cat       ┆ cat       │\n",
       "│         ┆            ┆ f32       ┆ f32       ┆   ┆           ┆           ┆           ┆           │\n",
       "╞═════════╪════════════╪═══════════╪═══════════╪═══╪═══════════╪═══════════╪═══════════╪═══════════╡\n",
       "│ 388     ┆ 0          ┆ null      ┆ null      ┆ … ┆ 96a8fdfe  ┆ a55475b1  ┆ ab3c25cf  ┆ ab3c25cf  │\n",
       "│ 388     ┆ 1          ┆ null      ┆ null      ┆ … ┆ 60c73645  ┆ a55475b1  ┆ a55475b1  ┆ a55475b1  │\n",
       "│ 388     ┆ 2          ┆ null      ┆ null      ┆ … ┆ a55475b1  ┆ a55475b1  ┆ a55475b1  ┆ a55475b1  │\n",
       "│ 388     ┆ 3          ┆ null      ┆ null      ┆ … ┆ a55475b1  ┆ a55475b1  ┆ a55475b1  ┆ a55475b1  │\n",
       "│ 388     ┆ 4          ┆ null      ┆ null      ┆ … ┆ a55475b1  ┆ a55475b1  ┆ a55475b1  ┆ a55475b1  │\n",
       "└─────────┴────────────┴───────────┴───────────┴───┴───────────┴───────────┴───────────┴───────────┘"
      ]
     },
     "execution_count": 43,
     "metadata": {},
     "output_type": "execute_result"
    }
   ],
   "source": [
    "train_credit_bureau = (\n",
    "    pl.scan_parquet(\"Downloads/credit_risk/train/train_credit_bureau_a_1_*.parquet\")\n",
    "    .drop(cs.ends_with(\"D\"))\n",
    "    .select(\n",
    "        cs.by_name(\"case_id\").cast(pl.UInt32),\n",
    "        cs.contains(\"num_group\").cast(pl.UInt16),\n",
    "        cs.boolean(),\n",
    "        cs.float().cast(pl.Float32),\n",
    "        cs.string().cast(pl.Categorical)\n",
    "    )\n",
    ")\n",
    "train_credit_bureau.fetch().head()"
   ]
  },
  {
   "cell_type": "code",
   "execution_count": 44,
   "metadata": {},
   "outputs": [
    {
     "data": {
      "text/html": [
       "<div><style>\n",
       ".dataframe > thead > tr,\n",
       ".dataframe > tbody > tr {\n",
       "  text-align: right;\n",
       "  white-space: pre-wrap;\n",
       "}\n",
       "</style>\n",
       "<small>shape: (5, 3)</small><table border=\"1\" class=\"dataframe\"><thead><tr><th>index</th><th>path</th><th>filename</th></tr><tr><td>i64</td><td>str</td><td>str</td></tr></thead><tbody><tr><td>16</td><td>&quot;Downloads/credit_risk/test/test_credit_bureau_a_1_0.parquet&quot;</td><td>&quot;test_credit_bureau_a_1_0.parquet&quot;</td></tr><tr><td>5</td><td>&quot;Downloads/credit_risk/test/test_credit_bureau_a_1_1.parquet&quot;</td><td>&quot;test_credit_bureau_a_1_1.parquet&quot;</td></tr><tr><td>21</td><td>&quot;Downloads/credit_risk/test/test_credit_bureau_a_1_2.parquet&quot;</td><td>&quot;test_credit_bureau_a_1_2.parquet&quot;</td></tr><tr><td>27</td><td>&quot;Downloads/credit_risk/test/test_credit_bureau_a_1_3.parquet&quot;</td><td>&quot;test_credit_bureau_a_1_3.parquet&quot;</td></tr><tr><td>17</td><td>&quot;Downloads/credit_risk/test/test_credit_bureau_a_1_4.parquet&quot;</td><td>&quot;test_credit_bureau_a_1_4.parquet&quot;</td></tr></tbody></table></div>"
      ],
      "text/plain": [
       "shape: (5, 3)\n",
       "┌───────┬───────────────────────────────────────────────────────┬──────────────────────────────────┐\n",
       "│ index ┆ path                                                  ┆ filename                         │\n",
       "│ ---   ┆ ---                                                   ┆ ---                              │\n",
       "│ i64   ┆ str                                                   ┆ str                              │\n",
       "╞═══════╪═══════════════════════════════════════════════════════╪══════════════════════════════════╡\n",
       "│ 16    ┆ Downloads/credit_risk/test/test_credit_bureau_a_1_0.p ┆ test_credit_bureau_a_1_0.parquet │\n",
       "│       ┆ arquet                                                ┆                                  │\n",
       "│ 5     ┆ Downloads/credit_risk/test/test_credit_bureau_a_1_1.p ┆ test_credit_bureau_a_1_1.parquet │\n",
       "│       ┆ arquet                                                ┆                                  │\n",
       "│ 21    ┆ Downloads/credit_risk/test/test_credit_bureau_a_1_2.p ┆ test_credit_bureau_a_1_2.parquet │\n",
       "│       ┆ arquet                                                ┆                                  │\n",
       "│ 27    ┆ Downloads/credit_risk/test/test_credit_bureau_a_1_3.p ┆ test_credit_bureau_a_1_3.parquet │\n",
       "│       ┆ arquet                                                ┆                                  │\n",
       "│ 17    ┆ Downloads/credit_risk/test/test_credit_bureau_a_1_4.p ┆ test_credit_bureau_a_1_4.parquet │\n",
       "│       ┆ arquet                                                ┆                                  │\n",
       "└───────┴───────────────────────────────────────────────────────┴──────────────────────────────────┘"
      ]
     },
     "execution_count": 44,
     "metadata": {},
     "output_type": "execute_result"
    }
   ],
   "source": [
    "test_files_df.filter(pl.col(\"filename\").str.contains(\"_a_1_\"))"
   ]
  },
  {
   "cell_type": "code",
   "execution_count": 45,
   "metadata": {},
   "outputs": [
    {
     "data": {
      "text/html": [
       "<div><style>\n",
       ".dataframe > thead > tr,\n",
       ".dataframe > tbody > tr {\n",
       "  text-align: right;\n",
       "  white-space: pre-wrap;\n",
       "}\n",
       "</style>\n",
       "<small>shape: (5, 67)</small><table border=\"1\" class=\"dataframe\"><thead><tr><th>case_id</th><th>num_group1</th><th>annualeffectiverate_199L</th><th>annualeffectiverate_63L</th><th>contractsum_5085717L</th><th>credlmt_230A</th><th>credlmt_935A</th><th>debtoutstand_525A</th><th>debtoverdue_47A</th><th>dpdmax_139P</th><th>dpdmax_757P</th><th>dpdmaxdatemonth_442T</th><th>dpdmaxdatemonth_89T</th><th>dpdmaxdateyear_596T</th><th>dpdmaxdateyear_896T</th><th>instlamount_768A</th><th>instlamount_852A</th><th>interestrate_508L</th><th>monthlyinstlamount_332A</th><th>monthlyinstlamount_674A</th><th>nominalrate_281L</th><th>nominalrate_498L</th><th>numberofcontrsvalue_258L</th><th>numberofcontrsvalue_358L</th><th>numberofinstls_229L</th><th>numberofinstls_320L</th><th>numberofoutstandinstls_520L</th><th>numberofoutstandinstls_59L</th><th>numberofoverdueinstlmax_1039L</th><th>numberofoverdueinstlmax_1151L</th><th>numberofoverdueinstls_725L</th><th>numberofoverdueinstls_834L</th><th>outstandingamount_354A</th><th>outstandingamount_362A</th><th>overdueamount_31A</th><th>overdueamount_659A</th><th>overdueamountmax2_14A</th><th>overdueamountmax2_398A</th><th>overdueamountmax_155A</th><th>overdueamountmax_35A</th><th>overdueamountmaxdatemonth_284T</th><th>overdueamountmaxdatemonth_365T</th><th>overdueamountmaxdateyear_2T</th><th>overdueamountmaxdateyear_994T</th><th>periodicityofpmts_1102L</th><th>periodicityofpmts_837L</th><th>prolongationcount_1120L</th><th>prolongationcount_599L</th><th>residualamount_488A</th><th>residualamount_856A</th><th>totalamount_6A</th><th>totalamount_996A</th><th>totaldebtoverduevalue_178A</th><th>totaldebtoverduevalue_718A</th><th>totaloutstanddebtvalue_39A</th><th>totaloutstanddebtvalue_668A</th><th>classificationofcontr_13M</th><th>classificationofcontr_400M</th><th>contractst_545M</th><th>contractst_964M</th><th>description_351M</th><th>financialinstitution_382M</th><th>financialinstitution_591M</th><th>purposeofcred_426M</th><th>purposeofcred_874M</th><th>subjectrole_182M</th><th>subjectrole_93M</th></tr><tr><td>u32</td><td>u16</td><td>f32</td><td>f32</td><td>f32</td><td>f32</td><td>f32</td><td>f32</td><td>f32</td><td>f32</td><td>f32</td><td>f32</td><td>f32</td><td>f32</td><td>f32</td><td>f32</td><td>f32</td><td>f32</td><td>f32</td><td>f32</td><td>f32</td><td>f32</td><td>f32</td><td>f32</td><td>f32</td><td>f32</td><td>f32</td><td>f32</td><td>f32</td><td>f32</td><td>f32</td><td>f32</td><td>f32</td><td>f32</td><td>f32</td><td>f32</td><td>f32</td><td>f32</td><td>f32</td><td>f32</td><td>f32</td><td>f32</td><td>f32</td><td>f32</td><td>f32</td><td>f32</td><td>f32</td><td>f32</td><td>f32</td><td>f32</td><td>f32</td><td>f32</td><td>f32</td><td>f32</td><td>f32</td><td>f32</td><td>cat</td><td>cat</td><td>cat</td><td>cat</td><td>cat</td><td>cat</td><td>cat</td><td>cat</td><td>cat</td><td>cat</td><td>cat</td></tr></thead><tbody><tr><td>57,543</td><td>0</td><td>null</td><td>null</td><td>22,130.26</td><td>null</td><td>128,397.80</td><td>0.00</td><td>4,426.05</td><td>802.00</td><td>null</td><td>null</td><td>10.00</td><td>2,020.00</td><td>null</td><td>0.00</td><td>null</td><td>null</td><td>0.00</td><td>null</td><td>null</td><td>null</td><td>1.00</td><td>null</td><td>null</td><td>null</td><td>null</td><td>null</td><td>891.00</td><td>null</td><td>891.00</td><td>null</td><td>null</td><td>null</td><td>null</td><td>4,426.05</td><td>107,427.52</td><td>null</td><td>107,427.52</td><td>null</td><td>null</td><td>11.00</td><td>2,018.00</td><td>null</td><td>null</td><td>null</td><td>null</td><td>null</td><td>null</td><td>0.00</td><td>null</td><td>null</td><td>4,426.05</td><td>null</td><td>0.00</td><td>null</td><td>&quot;ea6782cc&quot;</td><td>&quot;a55475b1&quot;</td><td>&quot;b919198c&quot;</td><td>&quot;a55475b1&quot;</td><td>&quot;a55475b1&quot;</td><td>&quot;a55475b1&quot;</td><td>&quot;b619fa46&quot;</td><td>&quot;60c73645&quot;</td><td>&quot;a55475b1&quot;</td><td>&quot;ab3c25cf&quot;</td><td>&quot;a55475b1&quot;</td></tr><tr><td>57,543</td><td>1</td><td>null</td><td>null</td><td>null</td><td>null</td><td>null</td><td>null</td><td>null</td><td>null</td><td>null</td><td>null</td><td>null</td><td>null</td><td>null</td><td>null</td><td>null</td><td>null</td><td>null</td><td>null</td><td>null</td><td>null</td><td>null</td><td>null</td><td>null</td><td>null</td><td>null</td><td>null</td><td>null</td><td>null</td><td>null</td><td>null</td><td>null</td><td>null</td><td>null</td><td>null</td><td>null</td><td>null</td><td>null</td><td>null</td><td>null</td><td>null</td><td>null</td><td>null</td><td>null</td><td>null</td><td>null</td><td>null</td><td>null</td><td>null</td><td>null</td><td>null</td><td>null</td><td>null</td><td>null</td><td>null</td><td>&quot;a55475b1&quot;</td><td>&quot;a55475b1&quot;</td><td>&quot;a55475b1&quot;</td><td>&quot;a55475b1&quot;</td><td>&quot;a55475b1&quot;</td><td>&quot;a55475b1&quot;</td><td>&quot;a55475b1&quot;</td><td>&quot;a55475b1&quot;</td><td>&quot;a55475b1&quot;</td><td>&quot;a55475b1&quot;</td><td>&quot;a55475b1&quot;</td></tr><tr><td>57,543</td><td>2</td><td>null</td><td>null</td><td>null</td><td>null</td><td>null</td><td>null</td><td>null</td><td>null</td><td>null</td><td>null</td><td>null</td><td>null</td><td>null</td><td>null</td><td>null</td><td>null</td><td>null</td><td>null</td><td>null</td><td>null</td><td>null</td><td>null</td><td>null</td><td>null</td><td>null</td><td>null</td><td>null</td><td>null</td><td>null</td><td>null</td><td>null</td><td>null</td><td>null</td><td>null</td><td>null</td><td>null</td><td>null</td><td>null</td><td>null</td><td>null</td><td>null</td><td>null</td><td>null</td><td>null</td><td>null</td><td>null</td><td>null</td><td>null</td><td>null</td><td>null</td><td>null</td><td>null</td><td>null</td><td>null</td><td>&quot;a55475b1&quot;</td><td>&quot;a55475b1&quot;</td><td>&quot;a55475b1&quot;</td><td>&quot;a55475b1&quot;</td><td>&quot;a55475b1&quot;</td><td>&quot;a55475b1&quot;</td><td>&quot;a55475b1&quot;</td><td>&quot;a55475b1&quot;</td><td>&quot;a55475b1&quot;</td><td>&quot;a55475b1&quot;</td><td>&quot;a55475b1&quot;</td></tr><tr><td>57,543</td><td>3</td><td>null</td><td>null</td><td>null</td><td>null</td><td>null</td><td>null</td><td>null</td><td>null</td><td>null</td><td>null</td><td>null</td><td>null</td><td>null</td><td>null</td><td>null</td><td>null</td><td>null</td><td>null</td><td>null</td><td>null</td><td>null</td><td>null</td><td>null</td><td>null</td><td>null</td><td>null</td><td>null</td><td>null</td><td>null</td><td>null</td><td>null</td><td>null</td><td>null</td><td>null</td><td>null</td><td>null</td><td>null</td><td>null</td><td>null</td><td>null</td><td>null</td><td>null</td><td>null</td><td>null</td><td>null</td><td>null</td><td>null</td><td>null</td><td>null</td><td>null</td><td>null</td><td>null</td><td>null</td><td>null</td><td>&quot;a55475b1&quot;</td><td>&quot;a55475b1&quot;</td><td>&quot;a55475b1&quot;</td><td>&quot;a55475b1&quot;</td><td>&quot;a55475b1&quot;</td><td>&quot;a55475b1&quot;</td><td>&quot;a55475b1&quot;</td><td>&quot;a55475b1&quot;</td><td>&quot;a55475b1&quot;</td><td>&quot;a55475b1&quot;</td><td>&quot;a55475b1&quot;</td></tr><tr><td>57,543</td><td>4</td><td>null</td><td>null</td><td>null</td><td>null</td><td>null</td><td>null</td><td>null</td><td>null</td><td>null</td><td>null</td><td>null</td><td>null</td><td>null</td><td>null</td><td>null</td><td>null</td><td>null</td><td>null</td><td>null</td><td>null</td><td>null</td><td>null</td><td>null</td><td>null</td><td>null</td><td>null</td><td>null</td><td>null</td><td>null</td><td>null</td><td>null</td><td>null</td><td>null</td><td>null</td><td>null</td><td>null</td><td>null</td><td>null</td><td>null</td><td>null</td><td>null</td><td>null</td><td>null</td><td>null</td><td>null</td><td>null</td><td>null</td><td>null</td><td>null</td><td>null</td><td>null</td><td>null</td><td>null</td><td>null</td><td>&quot;a55475b1&quot;</td><td>&quot;a55475b1&quot;</td><td>&quot;a55475b1&quot;</td><td>&quot;a55475b1&quot;</td><td>&quot;a55475b1&quot;</td><td>&quot;a55475b1&quot;</td><td>&quot;a55475b1&quot;</td><td>&quot;a55475b1&quot;</td><td>&quot;a55475b1&quot;</td><td>&quot;a55475b1&quot;</td><td>&quot;a55475b1&quot;</td></tr></tbody></table></div>"
      ],
      "text/plain": [
       "shape: (5, 67)\n",
       "┌─────────┬────────────┬───────────┬───────────┬───┬───────────┬───────────┬───────────┬───────────┐\n",
       "│ case_id ┆ num_group1 ┆ annualeff ┆ annualeff ┆ … ┆ purposeof ┆ purposeof ┆ subjectro ┆ subjectro │\n",
       "│ ---     ┆ ---        ┆ ectiverat ┆ ectiverat ┆   ┆ cred_426M ┆ cred_874M ┆ le_182M   ┆ le_93M    │\n",
       "│ u32     ┆ u16        ┆ e_199L    ┆ e_63L     ┆   ┆ ---       ┆ ---       ┆ ---       ┆ ---       │\n",
       "│         ┆            ┆ ---       ┆ ---       ┆   ┆ cat       ┆ cat       ┆ cat       ┆ cat       │\n",
       "│         ┆            ┆ f32       ┆ f32       ┆   ┆           ┆           ┆           ┆           │\n",
       "╞═════════╪════════════╪═══════════╪═══════════╪═══╪═══════════╪═══════════╪═══════════╪═══════════╡\n",
       "│ 57,543  ┆ 0          ┆ null      ┆ null      ┆ … ┆ 60c73645  ┆ a55475b1  ┆ ab3c25cf  ┆ a55475b1  │\n",
       "│ 57,543  ┆ 1          ┆ null      ┆ null      ┆ … ┆ a55475b1  ┆ a55475b1  ┆ a55475b1  ┆ a55475b1  │\n",
       "│ 57,543  ┆ 2          ┆ null      ┆ null      ┆ … ┆ a55475b1  ┆ a55475b1  ┆ a55475b1  ┆ a55475b1  │\n",
       "│ 57,543  ┆ 3          ┆ null      ┆ null      ┆ … ┆ a55475b1  ┆ a55475b1  ┆ a55475b1  ┆ a55475b1  │\n",
       "│ 57,543  ┆ 4          ┆ null      ┆ null      ┆ … ┆ a55475b1  ┆ a55475b1  ┆ a55475b1  ┆ a55475b1  │\n",
       "└─────────┴────────────┴───────────┴───────────┴───┴───────────┴───────────┴───────────┴───────────┘"
      ]
     },
     "execution_count": 45,
     "metadata": {},
     "output_type": "execute_result"
    }
   ],
   "source": [
    "test_credit_bureau = (\n",
    "    pl.concat(\n",
    "        [\n",
    "            pl.scan_parquet(all_test_files[16])\n",
    "            .select(train_credit_bureau.columns)\n",
    "            .cast(train_credit_bureau.schema),\n",
    "            pl.scan_parquet(all_test_files[5])\n",
    "            .select(train_credit_bureau.columns)\n",
    "            .cast(train_credit_bureau.schema),\n",
    "            pl.scan_parquet(all_test_files[21])\n",
    "            .select(train_credit_bureau.columns)\n",
    "            .cast(train_credit_bureau.schema),\n",
    "            pl.scan_parquet(all_test_files[27])\n",
    "            .select(train_credit_bureau.columns)\n",
    "            .cast(train_credit_bureau.schema),\n",
    "            pl.scan_parquet(all_test_files[17])\n",
    "            .select(train_credit_bureau.columns)\n",
    "            .cast(train_credit_bureau.schema)\n",
    "        ],\n",
    "        rechunk=True\n",
    "    )\n",
    ")\n",
    "test_credit_bureau.fetch().head()"
   ]
  },
  {
   "cell_type": "code",
   "execution_count": 46,
   "metadata": {},
   "outputs": [
    {
     "data": {
      "text/html": [
       "<div><style>\n",
       ".dataframe > thead > tr,\n",
       ".dataframe > tbody > tr {\n",
       "  text-align: right;\n",
       "  white-space: pre-wrap;\n",
       "}\n",
       "</style>\n",
       "<small>shape: (5, 13)</small><table border=\"1\" class=\"dataframe\"><thead><tr><th>case_id</th><th>num_group1</th><th>classificationofcontr_13M Classificiation of the active contract.</th><th>classificationofcontr_400M Classificiation of the closed contract.</th><th>contractst_545M Contract status.</th><th>contractst_964M Contract status of terminated credit contract.</th><th>description_351M Categorization of clients by credit bureau.</th><th>financialinstitution_382M Name of financial institution that is linked to a closed contract.</th><th>financialinstitution_591M Financial institution name of the active contract.</th><th>purposeofcred_426M Purpose of credit for active contract.</th><th>purposeofcred_874M Purpose of credit on a closed contract.</th><th>subjectrole_182M Subject role in active credit contract.</th><th>subjectrole_93M Subject role in closed credit contract.</th></tr><tr><td>u32</td><td>u16</td><td>cat</td><td>cat</td><td>cat</td><td>cat</td><td>cat</td><td>cat</td><td>cat</td><td>cat</td><td>cat</td><td>cat</td><td>cat</td></tr></thead><tbody><tr><td>388</td><td>0</td><td>&quot;a55475b1&quot;</td><td>&quot;a55475b1&quot;</td><td>&quot;a55475b1&quot;</td><td>&quot;a55475b1&quot;</td><td>&quot;a55475b1&quot;</td><td>&quot;a55475b1&quot;</td><td>&quot;a55475b1&quot;</td><td>&quot;a55475b1&quot;</td><td>&quot;a55475b1&quot;</td><td>&quot;a55475b1&quot;</td><td>&quot;a55475b1&quot;</td></tr><tr><td>405</td><td>0</td><td>&quot;a55475b1&quot;</td><td>&quot;a55475b1&quot;</td><td>&quot;a55475b1&quot;</td><td>&quot;a55475b1&quot;</td><td>&quot;a55475b1&quot;</td><td>&quot;a55475b1&quot;</td><td>&quot;a55475b1&quot;</td><td>&quot;a55475b1&quot;</td><td>&quot;a55475b1&quot;</td><td>&quot;a55475b1&quot;</td><td>&quot;a55475b1&quot;</td></tr><tr><td>409</td><td>0</td><td>&quot;a55475b1&quot;</td><td>&quot;a55475b1&quot;</td><td>&quot;a55475b1&quot;</td><td>&quot;a55475b1&quot;</td><td>&quot;a55475b1&quot;</td><td>&quot;a55475b1&quot;</td><td>&quot;a55475b1&quot;</td><td>&quot;a55475b1&quot;</td><td>&quot;a55475b1&quot;</td><td>&quot;a55475b1&quot;</td><td>&quot;a55475b1&quot;</td></tr><tr><td>410</td><td>0</td><td>&quot;a55475b1&quot;</td><td>&quot;a55475b1&quot;</td><td>&quot;a55475b1&quot;</td><td>&quot;a55475b1&quot;</td><td>&quot;a55475b1&quot;</td><td>&quot;a55475b1&quot;</td><td>&quot;a55475b1&quot;</td><td>&quot;a55475b1&quot;</td><td>&quot;a55475b1&quot;</td><td>&quot;a55475b1&quot;</td><td>&quot;a55475b1&quot;</td></tr><tr><td>411</td><td>0</td><td>&quot;a55475b1&quot;</td><td>&quot;a55475b1&quot;</td><td>&quot;a55475b1&quot;</td><td>&quot;a55475b1&quot;</td><td>&quot;a55475b1&quot;</td><td>&quot;a55475b1&quot;</td><td>&quot;a55475b1&quot;</td><td>&quot;a55475b1&quot;</td><td>&quot;a55475b1&quot;</td><td>&quot;a55475b1&quot;</td><td>&quot;a55475b1&quot;</td></tr></tbody></table></div>"
      ],
      "text/plain": [
       "shape: (5, 13)\n",
       "┌─────────┬────────────┬───────────┬───────────┬───┬───────────┬───────────┬───────────┬───────────┐\n",
       "│ case_id ┆ num_group1 ┆ classific ┆ classific ┆ … ┆ purposeof ┆ purposeof ┆ subjectro ┆ subjectro │\n",
       "│ ---     ┆ ---        ┆ ationofco ┆ ationofco ┆   ┆ cred_426M ┆ cred_874M ┆ le_182M   ┆ le_93M    │\n",
       "│ u32     ┆ u16        ┆ ntr_13M   ┆ ntr_400M  ┆   ┆ Purpose   ┆ Purpose   ┆ Subject   ┆ Subject   │\n",
       "│         ┆            ┆ Classific ┆ Classific ┆   ┆ of credit ┆ of credit ┆ role in   ┆ role in   │\n",
       "│         ┆            ┆ iation of ┆ iation of ┆   ┆ for       ┆ on a      ┆ active    ┆ closed    │\n",
       "│         ┆            ┆ the       ┆ the       ┆   ┆ active    ┆ closed    ┆ credit    ┆ credit    │\n",
       "│         ┆            ┆ active    ┆ closed    ┆   ┆ contract. ┆ contract. ┆ contract. ┆ contract. │\n",
       "│         ┆            ┆ contract. ┆ contract. ┆   ┆ ---       ┆ ---       ┆ ---       ┆ ---       │\n",
       "│         ┆            ┆ ---       ┆ ---       ┆   ┆ cat       ┆ cat       ┆ cat       ┆ cat       │\n",
       "│         ┆            ┆ cat       ┆ cat       ┆   ┆           ┆           ┆           ┆           │\n",
       "╞═════════╪════════════╪═══════════╪═══════════╪═══╪═══════════╪═══════════╪═══════════╪═══════════╡\n",
       "│ 388     ┆ 0          ┆ a55475b1  ┆ a55475b1  ┆ … ┆ a55475b1  ┆ a55475b1  ┆ a55475b1  ┆ a55475b1  │\n",
       "│ 405     ┆ 0          ┆ a55475b1  ┆ a55475b1  ┆ … ┆ a55475b1  ┆ a55475b1  ┆ a55475b1  ┆ a55475b1  │\n",
       "│ 409     ┆ 0          ┆ a55475b1  ┆ a55475b1  ┆ … ┆ a55475b1  ┆ a55475b1  ┆ a55475b1  ┆ a55475b1  │\n",
       "│ 410     ┆ 0          ┆ a55475b1  ┆ a55475b1  ┆ … ┆ a55475b1  ┆ a55475b1  ┆ a55475b1  ┆ a55475b1  │\n",
       "│ 411     ┆ 0          ┆ a55475b1  ┆ a55475b1  ┆ … ┆ a55475b1  ┆ a55475b1  ┆ a55475b1  ┆ a55475b1  │\n",
       "└─────────┴────────────┴───────────┴───────────┴───┴───────────┴───────────┴───────────┴───────────┘"
      ]
     },
     "execution_count": 46,
     "metadata": {},
     "output_type": "execute_result"
    }
   ],
   "source": [
    "total_credit_bureau = (\n",
    "    pl.concat(\n",
    "        [\n",
    "            train_credit_bureau,\n",
    "            test_credit_bureau\n",
    "        ],\n",
    "        rechunk=True\n",
    "    )\n",
    "    .sort(by=\"case_id\")\n",
    "    .pipe(rename_cols)\n",
    "    .pipe(select_imputable_cols,stream=True)\n",
    "    .group_by(\"case_id\")\n",
    "    .agg(\n",
    "        cs.integer().min(),\n",
    "        cs.boolean().drop_nulls().mode().first().cast(pl.UInt8),\n",
    "        cs.float().drop_nulls().mean(),\n",
    "        cs.categorical().drop_nulls().mode().first()\n",
    "    )\n",
    ")\n",
    "total_credit_bureau.fetch().head()"
   ]
  },
  {
   "cell_type": "code",
   "execution_count": 47,
   "metadata": {},
   "outputs": [
    {
     "data": {
      "text/html": [
       "<div><style>\n",
       ".dataframe > thead > tr,\n",
       ".dataframe > tbody > tr {\n",
       "  text-align: right;\n",
       "  white-space: pre-wrap;\n",
       "}\n",
       "</style>\n",
       "<small>shape: (5, 19)</small><table border=\"1\" class=\"dataframe\"><thead><tr><th>case_id</th><th>num_group1</th><th>num_group2</th><th>collater_valueofguarantee_1124L</th><th>collater_valueofguarantee_876L</th><th>pmts_dpd_1073P</th><th>pmts_dpd_303P</th><th>pmts_month_158T</th><th>pmts_month_706T</th><th>pmts_overdue_1140A</th><th>pmts_overdue_1152A</th><th>pmts_year_1139T</th><th>pmts_year_507T</th><th>collater_typofvalofguarant_298M</th><th>collater_typofvalofguarant_407M</th><th>collaterals_typeofguarante_359M</th><th>collaterals_typeofguarante_669M</th><th>subjectroles_name_541M</th><th>subjectroles_name_838M</th></tr><tr><td>u32</td><td>u16</td><td>u16</td><td>f32</td><td>f32</td><td>f32</td><td>f32</td><td>f32</td><td>f32</td><td>f32</td><td>f32</td><td>f32</td><td>f32</td><td>cat</td><td>cat</td><td>cat</td><td>cat</td><td>cat</td><td>cat</td></tr></thead><tbody><tr><td>388</td><td>0</td><td>0</td><td>0.00</td><td>null</td><td>null</td><td>null</td><td>2.00</td><td>null</td><td>null</td><td>null</td><td>2,018.00</td><td>null</td><td>&quot;8fd95e4b&quot;</td><td>&quot;a55475b1&quot;</td><td>&quot;a55475b1&quot;</td><td>&quot;c7a5ad39&quot;</td><td>&quot;a55475b1&quot;</td><td>&quot;ab3c25cf&quot;</td></tr><tr><td>388</td><td>0</td><td>1</td><td>null</td><td>null</td><td>null</td><td>null</td><td>3.00</td><td>null</td><td>null</td><td>null</td><td>2,018.00</td><td>null</td><td>&quot;a55475b1&quot;</td><td>&quot;a55475b1&quot;</td><td>&quot;a55475b1&quot;</td><td>&quot;a55475b1&quot;</td><td>&quot;a55475b1&quot;</td><td>&quot;a55475b1&quot;</td></tr><tr><td>388</td><td>0</td><td>2</td><td>null</td><td>null</td><td>null</td><td>null</td><td>4.00</td><td>null</td><td>null</td><td>null</td><td>2,018.00</td><td>null</td><td>&quot;a55475b1&quot;</td><td>&quot;a55475b1&quot;</td><td>&quot;a55475b1&quot;</td><td>&quot;a55475b1&quot;</td><td>&quot;a55475b1&quot;</td><td>&quot;a55475b1&quot;</td></tr><tr><td>388</td><td>0</td><td>3</td><td>null</td><td>null</td><td>null</td><td>null</td><td>5.00</td><td>null</td><td>null</td><td>null</td><td>2,018.00</td><td>null</td><td>&quot;a55475b1&quot;</td><td>&quot;a55475b1&quot;</td><td>&quot;a55475b1&quot;</td><td>&quot;a55475b1&quot;</td><td>&quot;a55475b1&quot;</td><td>&quot;a55475b1&quot;</td></tr><tr><td>388</td><td>0</td><td>4</td><td>null</td><td>null</td><td>null</td><td>null</td><td>6.00</td><td>null</td><td>null</td><td>null</td><td>2,018.00</td><td>null</td><td>&quot;a55475b1&quot;</td><td>&quot;a55475b1&quot;</td><td>&quot;a55475b1&quot;</td><td>&quot;a55475b1&quot;</td><td>&quot;a55475b1&quot;</td><td>&quot;a55475b1&quot;</td></tr></tbody></table></div>"
      ],
      "text/plain": [
       "shape: (5, 19)\n",
       "┌─────────┬────────────┬───────────┬───────────┬───┬───────────┬───────────┬───────────┬───────────┐\n",
       "│ case_id ┆ num_group1 ┆ num_group ┆ collater_ ┆ … ┆ collatera ┆ collatera ┆ subjectro ┆ subjectro │\n",
       "│ ---     ┆ ---        ┆ 2         ┆ valueofgu ┆   ┆ ls_typeof ┆ ls_typeof ┆ les_name_ ┆ les_name_ │\n",
       "│ u32     ┆ u16        ┆ ---       ┆ arantee_1 ┆   ┆ guarante_ ┆ guarante_ ┆ 541M      ┆ 838M      │\n",
       "│         ┆            ┆ u16       ┆ 124L      ┆   ┆ 359M      ┆ 669M      ┆ ---       ┆ ---       │\n",
       "│         ┆            ┆           ┆ ---       ┆   ┆ ---       ┆ ---       ┆ cat       ┆ cat       │\n",
       "│         ┆            ┆           ┆ f32       ┆   ┆ cat       ┆ cat       ┆           ┆           │\n",
       "╞═════════╪════════════╪═══════════╪═══════════╪═══╪═══════════╪═══════════╪═══════════╪═══════════╡\n",
       "│ 388     ┆ 0          ┆ 0         ┆ 0.00      ┆ … ┆ a55475b1  ┆ c7a5ad39  ┆ a55475b1  ┆ ab3c25cf  │\n",
       "│ 388     ┆ 0          ┆ 1         ┆ null      ┆ … ┆ a55475b1  ┆ a55475b1  ┆ a55475b1  ┆ a55475b1  │\n",
       "│ 388     ┆ 0          ┆ 2         ┆ null      ┆ … ┆ a55475b1  ┆ a55475b1  ┆ a55475b1  ┆ a55475b1  │\n",
       "│ 388     ┆ 0          ┆ 3         ┆ null      ┆ … ┆ a55475b1  ┆ a55475b1  ┆ a55475b1  ┆ a55475b1  │\n",
       "│ 388     ┆ 0          ┆ 4         ┆ null      ┆ … ┆ a55475b1  ┆ a55475b1  ┆ a55475b1  ┆ a55475b1  │\n",
       "└─────────┴────────────┴───────────┴───────────┴───┴───────────┴───────────┴───────────┴───────────┘"
      ]
     },
     "execution_count": 47,
     "metadata": {},
     "output_type": "execute_result"
    }
   ],
   "source": [
    "train_credit_bureau_depth = (\n",
    "    pl.scan_parquet(\"Downloads/credit_risk/train/train_credit_bureau_a_2_*.parquet\")\n",
    "    .drop(cs.ends_with(\"D\"))\n",
    "    .select(\n",
    "        cs.by_name(\"case_id\").cast(pl.UInt32),\n",
    "        cs.contains(\"num_group\").cast(pl.UInt16),\n",
    "        cs.boolean(),\n",
    "        cs.float().cast(pl.Float32),\n",
    "        cs.string().cast(pl.Categorical)\n",
    "    )\n",
    ")\n",
    "train_credit_bureau_depth.fetch().head()"
   ]
  },
  {
   "cell_type": "code",
   "execution_count": 48,
   "metadata": {},
   "outputs": [
    {
     "data": {
      "text/html": [
       "<div><style>\n",
       ".dataframe > thead > tr,\n",
       ".dataframe > tbody > tr {\n",
       "  text-align: right;\n",
       "  white-space: pre-wrap;\n",
       "}\n",
       "</style>\n",
       "<small>shape: (5, 19)</small><table border=\"1\" class=\"dataframe\"><thead><tr><th>case_id</th><th>num_group1</th><th>num_group2</th><th>collater_valueofguarantee_1124L</th><th>collater_valueofguarantee_876L</th><th>pmts_dpd_1073P</th><th>pmts_dpd_303P</th><th>pmts_month_158T</th><th>pmts_month_706T</th><th>pmts_overdue_1140A</th><th>pmts_overdue_1152A</th><th>pmts_year_1139T</th><th>pmts_year_507T</th><th>collater_typofvalofguarant_298M</th><th>collater_typofvalofguarant_407M</th><th>collaterals_typeofguarante_359M</th><th>collaterals_typeofguarante_669M</th><th>subjectroles_name_541M</th><th>subjectroles_name_838M</th></tr><tr><td>u32</td><td>u16</td><td>u16</td><td>f32</td><td>f32</td><td>f32</td><td>f32</td><td>f32</td><td>f32</td><td>f32</td><td>f32</td><td>f32</td><td>f32</td><td>cat</td><td>cat</td><td>cat</td><td>cat</td><td>cat</td><td>cat</td></tr></thead><tbody><tr><td>57,543</td><td>0</td><td>0</td><td>0.00</td><td>null</td><td>null</td><td>null</td><td>2.00</td><td>null</td><td>null</td><td>null</td><td>2,018.00</td><td>null</td><td>&quot;9a0c095e&quot;</td><td>&quot;a55475b1&quot;</td><td>&quot;a55475b1&quot;</td><td>&quot;c7a5ad39&quot;</td><td>&quot;a55475b1&quot;</td><td>&quot;ab3c25cf&quot;</td></tr><tr><td>57,543</td><td>0</td><td>1</td><td>null</td><td>null</td><td>null</td><td>null</td><td>3.00</td><td>null</td><td>null</td><td>null</td><td>2,018.00</td><td>null</td><td>&quot;a55475b1&quot;</td><td>&quot;a55475b1&quot;</td><td>&quot;a55475b1&quot;</td><td>&quot;a55475b1&quot;</td><td>&quot;a55475b1&quot;</td><td>&quot;a55475b1&quot;</td></tr><tr><td>57,543</td><td>0</td><td>2</td><td>null</td><td>null</td><td>null</td><td>null</td><td>4.00</td><td>null</td><td>null</td><td>null</td><td>2,018.00</td><td>null</td><td>&quot;a55475b1&quot;</td><td>&quot;a55475b1&quot;</td><td>&quot;a55475b1&quot;</td><td>&quot;a55475b1&quot;</td><td>&quot;a55475b1&quot;</td><td>&quot;a55475b1&quot;</td></tr><tr><td>57,543</td><td>0</td><td>3</td><td>null</td><td>null</td><td>null</td><td>null</td><td>5.00</td><td>null</td><td>null</td><td>null</td><td>2,018.00</td><td>null</td><td>&quot;a55475b1&quot;</td><td>&quot;a55475b1&quot;</td><td>&quot;a55475b1&quot;</td><td>&quot;a55475b1&quot;</td><td>&quot;a55475b1&quot;</td><td>&quot;a55475b1&quot;</td></tr><tr><td>57,543</td><td>0</td><td>4</td><td>null</td><td>null</td><td>null</td><td>null</td><td>6.00</td><td>null</td><td>null</td><td>null</td><td>2,018.00</td><td>null</td><td>&quot;a55475b1&quot;</td><td>&quot;a55475b1&quot;</td><td>&quot;a55475b1&quot;</td><td>&quot;a55475b1&quot;</td><td>&quot;a55475b1&quot;</td><td>&quot;a55475b1&quot;</td></tr></tbody></table></div>"
      ],
      "text/plain": [
       "shape: (5, 19)\n",
       "┌─────────┬────────────┬───────────┬───────────┬───┬───────────┬───────────┬───────────┬───────────┐\n",
       "│ case_id ┆ num_group1 ┆ num_group ┆ collater_ ┆ … ┆ collatera ┆ collatera ┆ subjectro ┆ subjectro │\n",
       "│ ---     ┆ ---        ┆ 2         ┆ valueofgu ┆   ┆ ls_typeof ┆ ls_typeof ┆ les_name_ ┆ les_name_ │\n",
       "│ u32     ┆ u16        ┆ ---       ┆ arantee_1 ┆   ┆ guarante_ ┆ guarante_ ┆ 541M      ┆ 838M      │\n",
       "│         ┆            ┆ u16       ┆ 124L      ┆   ┆ 359M      ┆ 669M      ┆ ---       ┆ ---       │\n",
       "│         ┆            ┆           ┆ ---       ┆   ┆ ---       ┆ ---       ┆ cat       ┆ cat       │\n",
       "│         ┆            ┆           ┆ f32       ┆   ┆ cat       ┆ cat       ┆           ┆           │\n",
       "╞═════════╪════════════╪═══════════╪═══════════╪═══╪═══════════╪═══════════╪═══════════╪═══════════╡\n",
       "│ 57,543  ┆ 0          ┆ 0         ┆ 0.00      ┆ … ┆ a55475b1  ┆ c7a5ad39  ┆ a55475b1  ┆ ab3c25cf  │\n",
       "│ 57,543  ┆ 0          ┆ 1         ┆ null      ┆ … ┆ a55475b1  ┆ a55475b1  ┆ a55475b1  ┆ a55475b1  │\n",
       "│ 57,543  ┆ 0          ┆ 2         ┆ null      ┆ … ┆ a55475b1  ┆ a55475b1  ┆ a55475b1  ┆ a55475b1  │\n",
       "│ 57,543  ┆ 0          ┆ 3         ┆ null      ┆ … ┆ a55475b1  ┆ a55475b1  ┆ a55475b1  ┆ a55475b1  │\n",
       "│ 57,543  ┆ 0          ┆ 4         ┆ null      ┆ … ┆ a55475b1  ┆ a55475b1  ┆ a55475b1  ┆ a55475b1  │\n",
       "└─────────┴────────────┴───────────┴───────────┴───┴───────────┴───────────┴───────────┴───────────┘"
      ]
     },
     "execution_count": 48,
     "metadata": {},
     "output_type": "execute_result"
    }
   ],
   "source": [
    "test_credit_bureau_depth = (\n",
    "    pl.scan_parquet(\"Downloads/credit_risk/test/test_credit_bureau_a_2_*.parquet\")\n",
    "    .select(train_credit_bureau_depth.columns)\n",
    "    .cast(train_credit_bureau_depth.schema)\n",
    ")\n",
    "test_credit_bureau_depth.fetch().head()"
   ]
  },
  {
   "cell_type": "code",
   "execution_count": 49,
   "metadata": {},
   "outputs": [
    {
     "data": {
      "text/html": [
       "<div><style>\n",
       ".dataframe > thead > tr,\n",
       ".dataframe > tbody > tr {\n",
       "  text-align: right;\n",
       "  white-space: pre-wrap;\n",
       "}\n",
       "</style>\n",
       "<small>shape: (5, 9)</small><table border=\"1\" class=\"dataframe\"><thead><tr><th>case_id</th><th>num_group1</th><th>num_group2</th><th>collater_typofvalofguarant_298M Collateral valuation type (active contract).</th><th>collater_typofvalofguarant_407M Collateral valuation type (closed contract).</th><th>collaterals_typeofguarante_359M Type of collateral that was used as a guarantee for a closed contract.</th><th>collaterals_typeofguarante_669M Collateral type for the active contract.</th><th>subjectroles_name_541M Name of subject role in closed credit contract (num_group1 - terminated contract, num_group2 - subject roles).</th><th>subjectroles_name_838M Name of subject role in active credit contract (num_group1 - existing contract, num_group2 - subject roles).</th></tr><tr><td>u32</td><td>u16</td><td>u16</td><td>cat</td><td>cat</td><td>cat</td><td>cat</td><td>cat</td><td>cat</td></tr></thead><tbody><tr><td>388</td><td>0</td><td>0</td><td>&quot;a55475b1&quot;</td><td>&quot;a55475b1&quot;</td><td>&quot;a55475b1&quot;</td><td>&quot;a55475b1&quot;</td><td>&quot;a55475b1&quot;</td><td>&quot;a55475b1&quot;</td></tr><tr><td>405</td><td>0</td><td>0</td><td>&quot;a55475b1&quot;</td><td>&quot;a55475b1&quot;</td><td>&quot;a55475b1&quot;</td><td>&quot;a55475b1&quot;</td><td>&quot;a55475b1&quot;</td><td>&quot;a55475b1&quot;</td></tr><tr><td>409</td><td>0</td><td>0</td><td>&quot;a55475b1&quot;</td><td>&quot;a55475b1&quot;</td><td>&quot;a55475b1&quot;</td><td>&quot;a55475b1&quot;</td><td>&quot;a55475b1&quot;</td><td>&quot;a55475b1&quot;</td></tr><tr><td>410</td><td>0</td><td>0</td><td>&quot;a55475b1&quot;</td><td>&quot;a55475b1&quot;</td><td>&quot;a55475b1&quot;</td><td>&quot;a55475b1&quot;</td><td>&quot;a55475b1&quot;</td><td>&quot;a55475b1&quot;</td></tr><tr><td>411</td><td>0</td><td>0</td><td>&quot;a55475b1&quot;</td><td>&quot;a55475b1&quot;</td><td>&quot;a55475b1&quot;</td><td>&quot;a55475b1&quot;</td><td>&quot;a55475b1&quot;</td><td>&quot;a55475b1&quot;</td></tr></tbody></table></div>"
      ],
      "text/plain": [
       "shape: (5, 9)\n",
       "┌─────────┬────────────┬───────────┬───────────┬───┬───────────┬───────────┬───────────┬───────────┐\n",
       "│ case_id ┆ num_group1 ┆ num_group ┆ collater_ ┆ … ┆ collatera ┆ collatera ┆ subjectro ┆ subjectro │\n",
       "│ ---     ┆ ---        ┆ 2         ┆ typofvalo ┆   ┆ ls_typeof ┆ ls_typeof ┆ les_name_ ┆ les_name_ │\n",
       "│ u32     ┆ u16        ┆ ---       ┆ fguarant_ ┆   ┆ guarante_ ┆ guarante_ ┆ 541M Name ┆ 838M Name │\n",
       "│         ┆            ┆ u16       ┆ 298M Coll ┆   ┆ 359M Type ┆ 669M Coll ┆ of        ┆ of        │\n",
       "│         ┆            ┆           ┆ ateral    ┆   ┆ of collat ┆ ateral    ┆ subject   ┆ subject   │\n",
       "│         ┆            ┆           ┆ valuation ┆   ┆ eral that ┆ type for  ┆ role in   ┆ role in   │\n",
       "│         ┆            ┆           ┆ type      ┆   ┆ was used  ┆ the       ┆ closed    ┆ active    │\n",
       "│         ┆            ┆           ┆ (active   ┆   ┆ as a      ┆ active    ┆ credit    ┆ credit    │\n",
       "│         ┆            ┆           ┆ contract) ┆   ┆ guarantee ┆ contract. ┆ contract  ┆ contract  │\n",
       "│         ┆            ┆           ┆ .         ┆   ┆ for a     ┆ ---       ┆ (num_grou ┆ (num_grou │\n",
       "│         ┆            ┆           ┆ ---       ┆   ┆ closed    ┆ cat       ┆ p1 - term ┆ p1 -      │\n",
       "│         ┆            ┆           ┆ cat       ┆   ┆ contrac…  ┆           ┆ inated    ┆ existing  │\n",
       "│         ┆            ┆           ┆           ┆   ┆ ---       ┆           ┆ contr…    ┆ contrac…  │\n",
       "│         ┆            ┆           ┆           ┆   ┆ cat       ┆           ┆ ---       ┆ ---       │\n",
       "│         ┆            ┆           ┆           ┆   ┆           ┆           ┆ cat       ┆ cat       │\n",
       "╞═════════╪════════════╪═══════════╪═══════════╪═══╪═══════════╪═══════════╪═══════════╪═══════════╡\n",
       "│ 388     ┆ 0          ┆ 0         ┆ a55475b1  ┆ … ┆ a55475b1  ┆ a55475b1  ┆ a55475b1  ┆ a55475b1  │\n",
       "│ 405     ┆ 0          ┆ 0         ┆ a55475b1  ┆ … ┆ a55475b1  ┆ a55475b1  ┆ a55475b1  ┆ a55475b1  │\n",
       "│ 409     ┆ 0          ┆ 0         ┆ a55475b1  ┆ … ┆ a55475b1  ┆ a55475b1  ┆ a55475b1  ┆ a55475b1  │\n",
       "│ 410     ┆ 0          ┆ 0         ┆ a55475b1  ┆ … ┆ a55475b1  ┆ a55475b1  ┆ a55475b1  ┆ a55475b1  │\n",
       "│ 411     ┆ 0          ┆ 0         ┆ a55475b1  ┆ … ┆ a55475b1  ┆ a55475b1  ┆ a55475b1  ┆ a55475b1  │\n",
       "└─────────┴────────────┴───────────┴───────────┴───┴───────────┴───────────┴───────────┴───────────┘"
      ]
     },
     "execution_count": 49,
     "metadata": {},
     "output_type": "execute_result"
    }
   ],
   "source": [
    "total_credit_bureau_depth = (\n",
    "    pl.concat(\n",
    "        [\n",
    "            train_credit_bureau_depth,\n",
    "            test_credit_bureau_depth\n",
    "        ]\n",
    "    )\n",
    "    .sort(by=\"case_id\")\n",
    "    .pipe(rename_cols)\n",
    "    .pipe(select_imputable_cols,stream=True)\n",
    "    .group_by(\"case_id\")\n",
    "    .agg(\n",
    "        cs.integer().min(),\n",
    "        cs.float().max(),\n",
    "        cs.categorical().drop_nulls().mode().first()\n",
    "    )\n",
    ")\n",
    "total_credit_bureau_depth.fetch().head()"
   ]
  },
  {
   "cell_type": "code",
   "execution_count": 50,
   "metadata": {},
   "outputs": [
    {
     "name": "stdout",
     "output_type": "stream",
     "text": [
      "total_base\n",
      "total_past_depth_one\n",
      "total_past_depth_two\n",
      "total_static_base\n",
      "total_static_second_base\n",
      "total_person_depth_one\n",
      "total_person_depth_two\n",
      "total_credit_bureau\n",
      "total_credit_bureau_depth\n"
     ]
    }
   ],
   "source": [
    "try:\n",
    "    for x in globals().keys():\n",
    "        if \"total\" in x:\n",
    "            print(x)\n",
    "except RuntimeError:\n",
    "    for x in globals().keys():\n",
    "        if \"total\" in x:\n",
    "            print(x)"
   ]
  },
  {
   "cell_type": "code",
   "execution_count": 51,
   "metadata": {},
   "outputs": [
    {
     "data": {
      "text/html": [
       "<div><style>\n",
       ".dataframe > thead > tr,\n",
       ".dataframe > tbody > tr {\n",
       "  text-align: right;\n",
       "  white-space: pre-wrap;\n",
       "}\n",
       "</style>\n",
       "<small>shape: (5, 3_200)</small><table border=\"1\" class=\"dataframe\"><thead><tr><th>case_id_base</th><th>isbidproduct_1095L Flag indicating if the product is a cross-sell.</th><th>isbidproduct_390L Flag for determining if the product is a cross-sell in previous applications.</th><th>month</th><th>week</th><th>weekday</th><th>annuity_780A Monthly annuity amount.</th><th>applicationcnt_361L Number of applications associated with the same email address as the client.</th><th>applications30d_658L Number of applications made by the client in the last 30 days.</th><th>applicationscnt_1086L Number of applications associated with the same phone number.</th><th>applicationscnt_464L Number of applications made in the last 30 days by other clients with the same employer as the applicant.</th><th>applicationscnt_629L Number of applications with the same employer in the last 7 days.</th><th>applicationscnt_867L Number of applications associated with the same mobile phone.</th><th>clientscnt12m_3712952L Number of clients that have used the same mobile phone as the applicant in the past 12 months.</th><th>clientscnt3m_3712950L Number of clients who have the same mobile phone number in the last 3 months.</th><th>clientscnt6m_3712949L Total number of clients who have used the same mobile number in the last 6 months.</th><th>clientscnt_100L Number of applications with matching employer&#x27;s phone and client&#x27;s.</th><th>clientscnt_1022L Number of clients sharing the same mobile phone.</th><th>clientscnt_1071L Number of applications where the alternative phone number matches that of the client.</th><th>clientscnt_1130L Number of applications where client&#x27;s phone number matches the alternative phone contact.</th><th>clientscnt_157L Number of clients whose employer has the same phone number as the client.</th><th>clientscnt_257L Number of clients that share an alternative phone number with the applicant.</th><th>clientscnt_304L Number of clients with the same phone number.</th><th>clientscnt_360L Number of clients that have the same alternative phone number and employer&#x27;s phone number.</th><th>clientscnt_493L Number of clients with matching phone numbers for both the employer and the client.</th><th>clientscnt_533L Number of clients with same client&#x27;s and alternative&#x27;s phone number</th><th>clientscnt_887L Number of clients sharing the same employer&#x27;s phone number.</th><th>clientscnt_946L Number of clients with matching mobile and employer&#x27;s number.</th><th>credamount_770A Loan amount or credit card limit.</th><th>disbursedcredamount_1113A Disbursed credit amount after consolidation.</th><th>downpmt_116A Amount of downpayment.</th><th>homephncnt_628L Number of distinct home phones on client&#x27;s application.</th><th>mobilephncnt_593L Number of persons with the same mobile phone number.</th><th>numactivecreds_622L Number of active credits.</th><th>numactivecredschannel_414L Number of active credits.</th><th>numactiverelcontr_750L Number of active revolving credits.</th><th>numcontrs3months_479L Number of contracts in last 3 months.</th><th>&hellip;</th><th>rejectreason_755M Reason for previous application rejection._P94_109_143</th><th>rejectreason_755M Reason for previous application rejection._P99_56_166</th><th>rejectreason_755M Reason for previous application rejection._a55475b1</th><th>rejectreasonclient_4145042M Reason for rejection of the client&#x27;s previous application._P129_162_80</th><th>rejectreasonclient_4145042M Reason for rejection of the client&#x27;s previous application._P19_25_34</th><th>rejectreasonclient_4145042M Reason for rejection of the client&#x27;s previous application._P30_86_84</th><th>rejectreasonclient_4145042M Reason for rejection of the client&#x27;s previous application._P52_67_90</th><th>rejectreasonclient_4145042M Reason for rejection of the client&#x27;s previous application._P53_10_15</th><th>rejectreasonclient_4145042M Reason for rejection of the client&#x27;s previous application._P59_114_135</th><th>rejectreasonclient_4145042M Reason for rejection of the client&#x27;s previous application._P5_143_178</th><th>rejectreasonclient_4145042M Reason for rejection of the client&#x27;s previous application._P64_121_167</th><th>rejectreasonclient_4145042M Reason for rejection of the client&#x27;s previous application._P69_72_116</th><th>rejectreasonclient_4145042M Reason for rejection of the client&#x27;s previous application._P84_14_61</th><th>rejectreasonclient_4145042M Reason for rejection of the client&#x27;s previous application._P94_109_143</th><th>rejectreasonclient_4145042M Reason for rejection of the client&#x27;s previous application._a55475b1</th><th>status_219L Previous application status._A</th><th>status_219L Previous application status._D</th><th>status_219L Previous application status._H</th><th>status_219L Previous application status._K</th><th>status_219L Previous application status._L</th><th>status_219L Previous application status._N</th><th>status_219L Previous application status._P</th><th>status_219L Previous application status._Q</th><th>status_219L Previous application status._S</th><th>status_219L Previous application status._T</th><th>credtype_587L Credit type of previous application._CAL</th><th>credtype_587L Credit type of previous application._COL</th><th>credtype_587L Credit type of previous application._REL</th><th>inittransactioncode_279L Type of the initial transaction made in the previous application of the client._CASH</th><th>inittransactioncode_279L Type of the initial transaction made in the previous application of the client._NDF</th><th>inittransactioncode_279L Type of the initial transaction made in the previous application of the client._POS</th><th>cacccardblochreas_147M Card blocking reason._P17_56_144</th><th>cacccardblochreas_147M Card blocking reason._P19_60_110</th><th>cacccardblochreas_147M Card blocking reason._P201_63_60</th><th>cacccardblochreas_147M Card blocking reason._P33_145_161</th><th>cacccardblochreas_147M Card blocking reason._a55475b1</th><th>target</th></tr><tr><td>u32</td><td>u8</td><td>u8</td><td>i8</td><td>i8</td><td>i8</td><td>f32</td><td>f32</td><td>f32</td><td>f32</td><td>f32</td><td>f32</td><td>f32</td><td>f32</td><td>f32</td><td>f32</td><td>f32</td><td>f32</td><td>f32</td><td>f32</td><td>f32</td><td>f32</td><td>f32</td><td>f32</td><td>f32</td><td>f32</td><td>f32</td><td>f32</td><td>f32</td><td>f32</td><td>f32</td><td>f32</td><td>f32</td><td>f32</td><td>f32</td><td>f32</td><td>f32</td><td>&hellip;</td><td>u8</td><td>u8</td><td>u8</td><td>u8</td><td>u8</td><td>u8</td><td>u8</td><td>u8</td><td>u8</td><td>u8</td><td>u8</td><td>u8</td><td>u8</td><td>u8</td><td>u8</td><td>u8</td><td>u8</td><td>u8</td><td>u8</td><td>u8</td><td>u8</td><td>u8</td><td>u8</td><td>u8</td><td>u8</td><td>u8</td><td>u8</td><td>u8</td><td>u8</td><td>u8</td><td>u8</td><td>u8</td><td>u8</td><td>u8</td><td>u8</td><td>u8</td><td>u8</td></tr></thead><tbody><tr><td>0</td><td>0</td><td>0</td><td>1</td><td>1</td><td>4</td><td>1,917.60</td><td>0.00</td><td>0.00</td><td>0.00</td><td>0.00</td><td>0.00</td><td>0.00</td><td>0.00</td><td>0.00</td><td>0.00</td><td>0.00</td><td>0.00</td><td>0.00</td><td>0.00</td><td>0.00</td><td>0.00</td><td>0.00</td><td>0.00</td><td>0.00</td><td>0.00</td><td>0.00</td><td>0.00</td><td>30,000.00</td><td>30,000.00</td><td>0.00</td><td>0.00</td><td>1.00</td><td>0.00</td><td>0.00</td><td>0.00</td><td>0.00</td><td>&hellip;</td><td>0</td><td>0</td><td>1</td><td>0</td><td>0</td><td>0</td><td>0</td><td>0</td><td>0</td><td>0</td><td>0</td><td>0</td><td>0</td><td>0</td><td>1</td><td>0</td><td>0</td><td>0</td><td>1</td><td>0</td><td>0</td><td>0</td><td>0</td><td>0</td><td>0</td><td>0</td><td>1</td><td>0</td><td>0</td><td>0</td><td>1</td><td>0</td><td>0</td><td>0</td><td>0</td><td>1</td><td>0</td></tr><tr><td>1</td><td>0</td><td>0</td><td>1</td><td>1</td><td>4</td><td>3,134.00</td><td>0.00</td><td>0.00</td><td>0.00</td><td>0.00</td><td>0.00</td><td>0.00</td><td>0.00</td><td>0.00</td><td>0.00</td><td>0.00</td><td>0.00</td><td>0.00</td><td>0.00</td><td>3.00</td><td>0.00</td><td>0.00</td><td>0.00</td><td>0.00</td><td>0.00</td><td>0.00</td><td>0.00</td><td>19,999.80</td><td>19,999.80</td><td>0.00</td><td>0.00</td><td>1.00</td><td>0.00</td><td>0.00</td><td>0.00</td><td>0.00</td><td>&hellip;</td><td>0</td><td>0</td><td>1</td><td>0</td><td>0</td><td>0</td><td>0</td><td>0</td><td>0</td><td>0</td><td>0</td><td>0</td><td>0</td><td>0</td><td>1</td><td>0</td><td>0</td><td>0</td><td>1</td><td>0</td><td>0</td><td>0</td><td>0</td><td>0</td><td>0</td><td>0</td><td>1</td><td>0</td><td>0</td><td>0</td><td>1</td><td>0</td><td>0</td><td>0</td><td>0</td><td>1</td><td>0</td></tr><tr><td>2</td><td>0</td><td>0</td><td>1</td><td>1</td><td>5</td><td>4,937.00</td><td>0.00</td><td>0.00</td><td>0.00</td><td>0.00</td><td>0.00</td><td>0.00</td><td>0.00</td><td>0.00</td><td>0.00</td><td>0.00</td><td>0.00</td><td>0.00</td><td>0.00</td><td>0.00</td><td>0.00</td><td>0.00</td><td>0.00</td><td>0.00</td><td>0.00</td><td>0.00</td><td>0.00</td><td>78,000.00</td><td>78,000.00</td><td>0.00</td><td>1.00</td><td>2.00</td><td>0.00</td><td>0.00</td><td>0.00</td><td>0.00</td><td>&hellip;</td><td>0</td><td>0</td><td>1</td><td>0</td><td>0</td><td>0</td><td>0</td><td>0</td><td>0</td><td>0</td><td>0</td><td>0</td><td>0</td><td>0</td><td>1</td><td>0</td><td>1</td><td>0</td><td>0</td><td>0</td><td>0</td><td>0</td><td>0</td><td>0</td><td>0</td><td>1</td><td>0</td><td>0</td><td>1</td><td>0</td><td>0</td><td>0</td><td>0</td><td>0</td><td>0</td><td>1</td><td>0</td></tr><tr><td>3</td><td>0</td><td>0</td><td>1</td><td>1</td><td>4</td><td>4,643.60</td><td>0.00</td><td>1.00</td><td>0.00</td><td>2.00</td><td>0.00</td><td>1.00</td><td>0.00</td><td>0.00</td><td>0.00</td><td>0.00</td><td>0.00</td><td>0.00</td><td>1.00</td><td>0.00</td><td>0.00</td><td>0.00</td><td>0.00</td><td>0.00</td><td>0.00</td><td>0.00</td><td>0.00</td><td>40,000.00</td><td>40,000.00</td><td>0.00</td><td>0.00</td><td>1.00</td><td>0.00</td><td>0.00</td><td>0.00</td><td>1.00</td><td>&hellip;</td><td>1</td><td>0</td><td>0</td><td>0</td><td>0</td><td>0</td><td>0</td><td>0</td><td>0</td><td>0</td><td>0</td><td>0</td><td>0</td><td>0</td><td>1</td><td>0</td><td>1</td><td>0</td><td>0</td><td>0</td><td>0</td><td>0</td><td>0</td><td>0</td><td>0</td><td>1</td><td>0</td><td>0</td><td>1</td><td>0</td><td>0</td><td>0</td><td>0</td><td>0</td><td>0</td><td>1</td><td>0</td></tr><tr><td>4</td><td>0</td><td>0</td><td>1</td><td>1</td><td>5</td><td>3,390.20</td><td>0.00</td><td>1.00</td><td>0.00</td><td>0.00</td><td>0.00</td><td>1.00</td><td>0.00</td><td>0.00</td><td>0.00</td><td>0.00</td><td>0.00</td><td>0.00</td><td>0.00</td><td>0.00</td><td>0.00</td><td>0.00</td><td>0.00</td><td>0.00</td><td>0.00</td><td>0.00</td><td>0.00</td><td>44,000.00</td><td>44,000.00</td><td>0.00</td><td>1.00</td><td>1.00</td><td>0.00</td><td>0.00</td><td>0.00</td><td>0.00</td><td>&hellip;</td><td>0</td><td>0</td><td>1</td><td>0</td><td>0</td><td>0</td><td>0</td><td>0</td><td>0</td><td>0</td><td>0</td><td>0</td><td>0</td><td>0</td><td>1</td><td>0</td><td>0</td><td>0</td><td>0</td><td>0</td><td>0</td><td>0</td><td>0</td><td>0</td><td>1</td><td>1</td><td>0</td><td>0</td><td>1</td><td>0</td><td>0</td><td>0</td><td>0</td><td>0</td><td>0</td><td>1</td><td>1</td></tr></tbody></table></div>"
      ],
      "text/plain": [
       "shape: (5, 3_200)\n",
       "┌────────────┬────────────┬────────────┬───────┬───┬────────────┬────────────┬────────────┬────────┐\n",
       "│ case_id_ba ┆ isbidprodu ┆ isbidprodu ┆ month ┆ … ┆ cacccardbl ┆ cacccardbl ┆ cacccardbl ┆ target │\n",
       "│ se         ┆ ct_1095L   ┆ ct_390L    ┆ ---   ┆   ┆ ochreas_14 ┆ ochreas_14 ┆ ochreas_14 ┆ ---    │\n",
       "│ ---        ┆ Flag       ┆ Flag for   ┆ i8    ┆   ┆ 7M Card    ┆ 7M Card    ┆ 7M Card    ┆ u8     │\n",
       "│ u32        ┆ indicating ┆ determinin ┆       ┆   ┆ blocking   ┆ blocking   ┆ blocking   ┆        │\n",
       "│            ┆ if the     ┆ g if the   ┆       ┆   ┆ reason._P2 ┆ reason._P3 ┆ reason._a5 ┆        │\n",
       "│            ┆ product is ┆ product is ┆       ┆   ┆ 01_63_60   ┆ 3_145_161  ┆ 5475b1     ┆        │\n",
       "│            ┆ a cross-se ┆ a          ┆       ┆   ┆ ---        ┆ ---        ┆ ---        ┆        │\n",
       "│            ┆ ll.        ┆ cross-sell ┆       ┆   ┆ u8         ┆ u8         ┆ u8         ┆        │\n",
       "│            ┆ ---        ┆ in         ┆       ┆   ┆            ┆            ┆            ┆        │\n",
       "│            ┆ u8         ┆ previous   ┆       ┆   ┆            ┆            ┆            ┆        │\n",
       "│            ┆            ┆ applicatio ┆       ┆   ┆            ┆            ┆            ┆        │\n",
       "│            ┆            ┆ ns.        ┆       ┆   ┆            ┆            ┆            ┆        │\n",
       "│            ┆            ┆ ---        ┆       ┆   ┆            ┆            ┆            ┆        │\n",
       "│            ┆            ┆ u8         ┆       ┆   ┆            ┆            ┆            ┆        │\n",
       "╞════════════╪════════════╪════════════╪═══════╪═══╪════════════╪════════════╪════════════╪════════╡\n",
       "│ 0          ┆ 0          ┆ 0          ┆ 1     ┆ … ┆ 0          ┆ 0          ┆ 1          ┆ 0      │\n",
       "│ 1          ┆ 0          ┆ 0          ┆ 1     ┆ … ┆ 0          ┆ 0          ┆ 1          ┆ 0      │\n",
       "│ 2          ┆ 0          ┆ 0          ┆ 1     ┆ … ┆ 0          ┆ 0          ┆ 1          ┆ 0      │\n",
       "│ 3          ┆ 0          ┆ 0          ┆ 1     ┆ … ┆ 0          ┆ 0          ┆ 1          ┆ 0      │\n",
       "│ 4          ┆ 0          ┆ 0          ┆ 1     ┆ … ┆ 0          ┆ 0          ┆ 1          ┆ 1      │\n",
       "└────────────┴────────────┴────────────┴───────┴───┴────────────┴────────────┴────────────┴────────┘"
      ]
     },
     "execution_count": 51,
     "metadata": {},
     "output_type": "execute_result"
    }
   ],
   "source": [
    "total_df = (\n",
    "    total_base\n",
    "    .join(\n",
    "        total_static_base,\n",
    "        left_on=\"case_id_base\",\n",
    "        right_on=\"case_id\",\n",
    "        how=\"left\"\n",
    "    )\n",
    "    .join(\n",
    "        total_static_second_base,\n",
    "        left_on=\"case_id_base\",\n",
    "        right_on=\"case_id\",\n",
    "        how=\"left\"\n",
    "    )\n",
    "    .join(\n",
    "        total_past_depth_one,\n",
    "        left_on=\"case_id_base\",\n",
    "        right_on=\"case_id\",\n",
    "        how=\"left\"\n",
    "    )\n",
    "    .join(\n",
    "        total_past_depth_two,\n",
    "        left_on=\"case_id_base\",\n",
    "        right_on=\"case_id\",\n",
    "        how=\"left\"\n",
    "    )\n",
    "    .join(\n",
    "        total_credit_bureau,\n",
    "        left_on=\"case_id_base\",\n",
    "        right_on=\"case_id\",\n",
    "        how=\"left\"\n",
    "    )\n",
    "    .drop(cs.contains(\"num_group\"))\n",
    "    .select(\n",
    "        cs.unsigned_integer(),\n",
    "        cs.signed_integer(),\n",
    "        cs.boolean(),\n",
    "        cs.float(),\n",
    "        cs.categorical()\n",
    "    )\n",
    "    .select(\n",
    "        cs.contains(\"case_id\"),\n",
    "        ~cs.contains([\"case_id\",\"target\"]),\n",
    "        cs.contains(\"target\")\n",
    "    )\n",
    "    .with_columns(\n",
    "        cs.integer().fill_null(strategy=\"mean\"),\n",
    "        cs.boolean().fill_null(value=cs.boolean().drop_nulls().mode().first()),\n",
    "        cs.float().fill_null(strategy=\"mean\"),\n",
    "        cs.categorical().fill_null(value=cs.categorical().drop_nulls().mode().first())\n",
    "    )\n",
    "    .collect(streaming=True)\n",
    ")\n",
    "total_df.head()"
   ]
  },
  {
   "cell_type": "code",
   "execution_count": 52,
   "metadata": {},
   "outputs": [
    {
     "data": {
      "text/html": [
       "<div><style>\n",
       ".dataframe > thead > tr,\n",
       ".dataframe > tbody > tr {\n",
       "  text-align: right;\n",
       "  white-space: pre-wrap;\n",
       "}\n",
       "</style>\n",
       "<small>shape: (2, 3_200)</small><table border=\"1\" class=\"dataframe\"><thead><tr><th>case_id_base</th><th>isbidproduct_1095L Flag indicating if the product is a cross-sell.</th><th>isbidproduct_390L Flag for determining if the product is a cross-sell in previous applications.</th><th>month</th><th>week</th><th>weekday</th><th>annuity_780A Monthly annuity amount.</th><th>applicationcnt_361L Number of applications associated with the same email address as the client.</th><th>applications30d_658L Number of applications made by the client in the last 30 days.</th><th>applicationscnt_1086L Number of applications associated with the same phone number.</th><th>applicationscnt_464L Number of applications made in the last 30 days by other clients with the same employer as the applicant.</th><th>applicationscnt_629L Number of applications with the same employer in the last 7 days.</th><th>applicationscnt_867L Number of applications associated with the same mobile phone.</th><th>clientscnt12m_3712952L Number of clients that have used the same mobile phone as the applicant in the past 12 months.</th><th>clientscnt3m_3712950L Number of clients who have the same mobile phone number in the last 3 months.</th><th>clientscnt6m_3712949L Total number of clients who have used the same mobile number in the last 6 months.</th><th>clientscnt_100L Number of applications with matching employer&#x27;s phone and client&#x27;s.</th><th>clientscnt_1022L Number of clients sharing the same mobile phone.</th><th>clientscnt_1071L Number of applications where the alternative phone number matches that of the client.</th><th>clientscnt_1130L Number of applications where client&#x27;s phone number matches the alternative phone contact.</th><th>clientscnt_157L Number of clients whose employer has the same phone number as the client.</th><th>clientscnt_257L Number of clients that share an alternative phone number with the applicant.</th><th>clientscnt_304L Number of clients with the same phone number.</th><th>clientscnt_360L Number of clients that have the same alternative phone number and employer&#x27;s phone number.</th><th>clientscnt_493L Number of clients with matching phone numbers for both the employer and the client.</th><th>clientscnt_533L Number of clients with same client&#x27;s and alternative&#x27;s phone number</th><th>clientscnt_887L Number of clients sharing the same employer&#x27;s phone number.</th><th>clientscnt_946L Number of clients with matching mobile and employer&#x27;s number.</th><th>credamount_770A Loan amount or credit card limit.</th><th>disbursedcredamount_1113A Disbursed credit amount after consolidation.</th><th>downpmt_116A Amount of downpayment.</th><th>homephncnt_628L Number of distinct home phones on client&#x27;s application.</th><th>mobilephncnt_593L Number of persons with the same mobile phone number.</th><th>numactivecreds_622L Number of active credits.</th><th>numactivecredschannel_414L Number of active credits.</th><th>numactiverelcontr_750L Number of active revolving credits.</th><th>numcontrs3months_479L Number of contracts in last 3 months.</th><th>&hellip;</th><th>rejectreason_755M Reason for previous application rejection._P94_109_143</th><th>rejectreason_755M Reason for previous application rejection._P99_56_166</th><th>rejectreason_755M Reason for previous application rejection._a55475b1</th><th>rejectreasonclient_4145042M Reason for rejection of the client&#x27;s previous application._P129_162_80</th><th>rejectreasonclient_4145042M Reason for rejection of the client&#x27;s previous application._P19_25_34</th><th>rejectreasonclient_4145042M Reason for rejection of the client&#x27;s previous application._P30_86_84</th><th>rejectreasonclient_4145042M Reason for rejection of the client&#x27;s previous application._P52_67_90</th><th>rejectreasonclient_4145042M Reason for rejection of the client&#x27;s previous application._P53_10_15</th><th>rejectreasonclient_4145042M Reason for rejection of the client&#x27;s previous application._P59_114_135</th><th>rejectreasonclient_4145042M Reason for rejection of the client&#x27;s previous application._P5_143_178</th><th>rejectreasonclient_4145042M Reason for rejection of the client&#x27;s previous application._P64_121_167</th><th>rejectreasonclient_4145042M Reason for rejection of the client&#x27;s previous application._P69_72_116</th><th>rejectreasonclient_4145042M Reason for rejection of the client&#x27;s previous application._P84_14_61</th><th>rejectreasonclient_4145042M Reason for rejection of the client&#x27;s previous application._P94_109_143</th><th>rejectreasonclient_4145042M Reason for rejection of the client&#x27;s previous application._a55475b1</th><th>status_219L Previous application status._A</th><th>status_219L Previous application status._D</th><th>status_219L Previous application status._H</th><th>status_219L Previous application status._K</th><th>status_219L Previous application status._L</th><th>status_219L Previous application status._N</th><th>status_219L Previous application status._P</th><th>status_219L Previous application status._Q</th><th>status_219L Previous application status._S</th><th>status_219L Previous application status._T</th><th>credtype_587L Credit type of previous application._CAL</th><th>credtype_587L Credit type of previous application._COL</th><th>credtype_587L Credit type of previous application._REL</th><th>inittransactioncode_279L Type of the initial transaction made in the previous application of the client._CASH</th><th>inittransactioncode_279L Type of the initial transaction made in the previous application of the client._NDF</th><th>inittransactioncode_279L Type of the initial transaction made in the previous application of the client._POS</th><th>cacccardblochreas_147M Card blocking reason._P17_56_144</th><th>cacccardblochreas_147M Card blocking reason._P19_60_110</th><th>cacccardblochreas_147M Card blocking reason._P201_63_60</th><th>cacccardblochreas_147M Card blocking reason._P33_145_161</th><th>cacccardblochreas_147M Card blocking reason._a55475b1</th><th>target</th></tr><tr><td>u32</td><td>u8</td><td>u8</td><td>i8</td><td>i8</td><td>i8</td><td>f32</td><td>f32</td><td>f32</td><td>f32</td><td>f32</td><td>f32</td><td>f32</td><td>f32</td><td>f32</td><td>f32</td><td>f32</td><td>f32</td><td>f32</td><td>f32</td><td>f32</td><td>f32</td><td>f32</td><td>f32</td><td>f32</td><td>f32</td><td>f32</td><td>f32</td><td>f32</td><td>f32</td><td>f32</td><td>f32</td><td>f32</td><td>f32</td><td>f32</td><td>f32</td><td>f32</td><td>&hellip;</td><td>u8</td><td>u8</td><td>u8</td><td>u8</td><td>u8</td><td>u8</td><td>u8</td><td>u8</td><td>u8</td><td>u8</td><td>u8</td><td>u8</td><td>u8</td><td>u8</td><td>u8</td><td>u8</td><td>u8</td><td>u8</td><td>u8</td><td>u8</td><td>u8</td><td>u8</td><td>u8</td><td>u8</td><td>u8</td><td>u8</td><td>u8</td><td>u8</td><td>u8</td><td>u8</td><td>u8</td><td>u8</td><td>u8</td><td>u8</td><td>u8</td><td>u8</td><td>u8</td></tr></thead><tbody><tr><td>57,543</td><td>0</td><td>0</td><td>10</td><td>41</td><td>2</td><td>7,637.20</td><td>0.00</td><td>0.00</td><td>0.00</td><td>0.00</td><td>0.00</td><td>1.00</td><td>0.00</td><td>0.00</td><td>0.00</td><td>0.00</td><td>0.00</td><td>0.00</td><td>0.00</td><td>0.00</td><td>0.00</td><td>0.00</td><td>0.00</td><td>0.00</td><td>0.00</td><td>0.00</td><td>1.00</td><td>100,000.00</td><td>100,000.00</td><td>0.00</td><td>0.00</td><td>1.00</td><td>0.00</td><td>0.00</td><td>0.00</td><td>0.00</td><td>&hellip;</td><td>0</td><td>1</td><td>0</td><td>0</td><td>0</td><td>0</td><td>0</td><td>0</td><td>0</td><td>0</td><td>0</td><td>0</td><td>0</td><td>1</td><td>0</td><td>0</td><td>1</td><td>0</td><td>0</td><td>0</td><td>0</td><td>0</td><td>0</td><td>0</td><td>0</td><td>0</td><td>1</td><td>0</td><td>0</td><td>0</td><td>1</td><td>0</td><td>0</td><td>0</td><td>0</td><td>1</td><td>0</td></tr><tr><td>57,549</td><td>0</td><td>0</td><td>10</td><td>41</td><td>2</td><td>902.60</td><td>0.00</td><td>0.00</td><td>0.00</td><td>0.00</td><td>0.00</td><td>0.00</td><td>0.00</td><td>0.00</td><td>0.00</td><td>0.00</td><td>0.00</td><td>0.00</td><td>0.00</td><td>1.00</td><td>0.00</td><td>0.00</td><td>0.00</td><td>0.00</td><td>0.00</td><td>0.00</td><td>0.00</td><td>10,000.00</td><td>10,000.00</td><td>0.00</td><td>1.00</td><td>2.00</td><td>0.00</td><td>0.00</td><td>0.00</td><td>0.00</td><td>&hellip;</td><td>0</td><td>0</td><td>0</td><td>0</td><td>0</td><td>0</td><td>0</td><td>0</td><td>0</td><td>0</td><td>0</td><td>0</td><td>0</td><td>1</td><td>0</td><td>0</td><td>1</td><td>0</td><td>0</td><td>0</td><td>0</td><td>0</td><td>0</td><td>0</td><td>0</td><td>1</td><td>0</td><td>0</td><td>1</td><td>0</td><td>0</td><td>0</td><td>0</td><td>0</td><td>0</td><td>1</td><td>0</td></tr></tbody></table></div>"
      ],
      "text/plain": [
       "shape: (2, 3_200)\n",
       "┌────────────┬────────────┬────────────┬───────┬───┬────────────┬────────────┬────────────┬────────┐\n",
       "│ case_id_ba ┆ isbidprodu ┆ isbidprodu ┆ month ┆ … ┆ cacccardbl ┆ cacccardbl ┆ cacccardbl ┆ target │\n",
       "│ se         ┆ ct_1095L   ┆ ct_390L    ┆ ---   ┆   ┆ ochreas_14 ┆ ochreas_14 ┆ ochreas_14 ┆ ---    │\n",
       "│ ---        ┆ Flag       ┆ Flag for   ┆ i8    ┆   ┆ 7M Card    ┆ 7M Card    ┆ 7M Card    ┆ u8     │\n",
       "│ u32        ┆ indicating ┆ determinin ┆       ┆   ┆ blocking   ┆ blocking   ┆ blocking   ┆        │\n",
       "│            ┆ if the     ┆ g if the   ┆       ┆   ┆ reason._P2 ┆ reason._P3 ┆ reason._a5 ┆        │\n",
       "│            ┆ product is ┆ product is ┆       ┆   ┆ 01_63_60   ┆ 3_145_161  ┆ 5475b1     ┆        │\n",
       "│            ┆ a cross-se ┆ a          ┆       ┆   ┆ ---        ┆ ---        ┆ ---        ┆        │\n",
       "│            ┆ ll.        ┆ cross-sell ┆       ┆   ┆ u8         ┆ u8         ┆ u8         ┆        │\n",
       "│            ┆ ---        ┆ in         ┆       ┆   ┆            ┆            ┆            ┆        │\n",
       "│            ┆ u8         ┆ previous   ┆       ┆   ┆            ┆            ┆            ┆        │\n",
       "│            ┆            ┆ applicatio ┆       ┆   ┆            ┆            ┆            ┆        │\n",
       "│            ┆            ┆ ns.        ┆       ┆   ┆            ┆            ┆            ┆        │\n",
       "│            ┆            ┆ ---        ┆       ┆   ┆            ┆            ┆            ┆        │\n",
       "│            ┆            ┆ u8         ┆       ┆   ┆            ┆            ┆            ┆        │\n",
       "╞════════════╪════════════╪════════════╪═══════╪═══╪════════════╪════════════╪════════════╪════════╡\n",
       "│ 57,543     ┆ 0          ┆ 0          ┆ 10    ┆ … ┆ 0          ┆ 0          ┆ 1          ┆ 0      │\n",
       "│ 57,549     ┆ 0          ┆ 0          ┆ 10    ┆ … ┆ 0          ┆ 0          ┆ 1          ┆ 0      │\n",
       "└────────────┴────────────┴────────────┴───────┴───┴────────────┴────────────┴────────────┴────────┘"
      ]
     },
     "metadata": {},
     "output_type": "display_data"
    },
    {
     "data": {
      "text/html": [
       "<div><style>\n",
       ".dataframe > thead > tr,\n",
       ".dataframe > tbody > tr {\n",
       "  text-align: right;\n",
       "  white-space: pre-wrap;\n",
       "}\n",
       "</style>\n",
       "<small>shape: (5, 3_200)</small><table border=\"1\" class=\"dataframe\"><thead><tr><th>case_id_base</th><th>isbidproduct_1095L Flag indicating if the product is a cross-sell.</th><th>isbidproduct_390L Flag for determining if the product is a cross-sell in previous applications.</th><th>month</th><th>week</th><th>weekday</th><th>annuity_780A Monthly annuity amount.</th><th>applicationcnt_361L Number of applications associated with the same email address as the client.</th><th>applications30d_658L Number of applications made by the client in the last 30 days.</th><th>applicationscnt_1086L Number of applications associated with the same phone number.</th><th>applicationscnt_464L Number of applications made in the last 30 days by other clients with the same employer as the applicant.</th><th>applicationscnt_629L Number of applications with the same employer in the last 7 days.</th><th>applicationscnt_867L Number of applications associated with the same mobile phone.</th><th>clientscnt12m_3712952L Number of clients that have used the same mobile phone as the applicant in the past 12 months.</th><th>clientscnt3m_3712950L Number of clients who have the same mobile phone number in the last 3 months.</th><th>clientscnt6m_3712949L Total number of clients who have used the same mobile number in the last 6 months.</th><th>clientscnt_100L Number of applications with matching employer&#x27;s phone and client&#x27;s.</th><th>clientscnt_1022L Number of clients sharing the same mobile phone.</th><th>clientscnt_1071L Number of applications where the alternative phone number matches that of the client.</th><th>clientscnt_1130L Number of applications where client&#x27;s phone number matches the alternative phone contact.</th><th>clientscnt_157L Number of clients whose employer has the same phone number as the client.</th><th>clientscnt_257L Number of clients that share an alternative phone number with the applicant.</th><th>clientscnt_304L Number of clients with the same phone number.</th><th>clientscnt_360L Number of clients that have the same alternative phone number and employer&#x27;s phone number.</th><th>clientscnt_493L Number of clients with matching phone numbers for both the employer and the client.</th><th>clientscnt_533L Number of clients with same client&#x27;s and alternative&#x27;s phone number</th><th>clientscnt_887L Number of clients sharing the same employer&#x27;s phone number.</th><th>clientscnt_946L Number of clients with matching mobile and employer&#x27;s number.</th><th>credamount_770A Loan amount or credit card limit.</th><th>disbursedcredamount_1113A Disbursed credit amount after consolidation.</th><th>downpmt_116A Amount of downpayment.</th><th>homephncnt_628L Number of distinct home phones on client&#x27;s application.</th><th>mobilephncnt_593L Number of persons with the same mobile phone number.</th><th>numactivecreds_622L Number of active credits.</th><th>numactivecredschannel_414L Number of active credits.</th><th>numactiverelcontr_750L Number of active revolving credits.</th><th>numcontrs3months_479L Number of contracts in last 3 months.</th><th>&hellip;</th><th>rejectreason_755M Reason for previous application rejection._P94_109_143</th><th>rejectreason_755M Reason for previous application rejection._P99_56_166</th><th>rejectreason_755M Reason for previous application rejection._a55475b1</th><th>rejectreasonclient_4145042M Reason for rejection of the client&#x27;s previous application._P129_162_80</th><th>rejectreasonclient_4145042M Reason for rejection of the client&#x27;s previous application._P19_25_34</th><th>rejectreasonclient_4145042M Reason for rejection of the client&#x27;s previous application._P30_86_84</th><th>rejectreasonclient_4145042M Reason for rejection of the client&#x27;s previous application._P52_67_90</th><th>rejectreasonclient_4145042M Reason for rejection of the client&#x27;s previous application._P53_10_15</th><th>rejectreasonclient_4145042M Reason for rejection of the client&#x27;s previous application._P59_114_135</th><th>rejectreasonclient_4145042M Reason for rejection of the client&#x27;s previous application._P5_143_178</th><th>rejectreasonclient_4145042M Reason for rejection of the client&#x27;s previous application._P64_121_167</th><th>rejectreasonclient_4145042M Reason for rejection of the client&#x27;s previous application._P69_72_116</th><th>rejectreasonclient_4145042M Reason for rejection of the client&#x27;s previous application._P84_14_61</th><th>rejectreasonclient_4145042M Reason for rejection of the client&#x27;s previous application._P94_109_143</th><th>rejectreasonclient_4145042M Reason for rejection of the client&#x27;s previous application._a55475b1</th><th>status_219L Previous application status._A</th><th>status_219L Previous application status._D</th><th>status_219L Previous application status._H</th><th>status_219L Previous application status._K</th><th>status_219L Previous application status._L</th><th>status_219L Previous application status._N</th><th>status_219L Previous application status._P</th><th>status_219L Previous application status._Q</th><th>status_219L Previous application status._S</th><th>status_219L Previous application status._T</th><th>credtype_587L Credit type of previous application._CAL</th><th>credtype_587L Credit type of previous application._COL</th><th>credtype_587L Credit type of previous application._REL</th><th>inittransactioncode_279L Type of the initial transaction made in the previous application of the client._CASH</th><th>inittransactioncode_279L Type of the initial transaction made in the previous application of the client._NDF</th><th>inittransactioncode_279L Type of the initial transaction made in the previous application of the client._POS</th><th>cacccardblochreas_147M Card blocking reason._P17_56_144</th><th>cacccardblochreas_147M Card blocking reason._P19_60_110</th><th>cacccardblochreas_147M Card blocking reason._P201_63_60</th><th>cacccardblochreas_147M Card blocking reason._P33_145_161</th><th>cacccardblochreas_147M Card blocking reason._a55475b1</th><th>target</th></tr><tr><td>u32</td><td>u8</td><td>u8</td><td>i8</td><td>i8</td><td>i8</td><td>f32</td><td>f32</td><td>f32</td><td>f32</td><td>f32</td><td>f32</td><td>f32</td><td>f32</td><td>f32</td><td>f32</td><td>f32</td><td>f32</td><td>f32</td><td>f32</td><td>f32</td><td>f32</td><td>f32</td><td>f32</td><td>f32</td><td>f32</td><td>f32</td><td>f32</td><td>f32</td><td>f32</td><td>f32</td><td>f32</td><td>f32</td><td>f32</td><td>f32</td><td>f32</td><td>f32</td><td>&hellip;</td><td>u8</td><td>u8</td><td>u8</td><td>u8</td><td>u8</td><td>u8</td><td>u8</td><td>u8</td><td>u8</td><td>u8</td><td>u8</td><td>u8</td><td>u8</td><td>u8</td><td>u8</td><td>u8</td><td>u8</td><td>u8</td><td>u8</td><td>u8</td><td>u8</td><td>u8</td><td>u8</td><td>u8</td><td>u8</td><td>u8</td><td>u8</td><td>u8</td><td>u8</td><td>u8</td><td>u8</td><td>u8</td><td>u8</td><td>u8</td><td>u8</td><td>u8</td><td>u8</td></tr></thead><tbody><tr><td>0</td><td>0</td><td>0</td><td>1</td><td>1</td><td>4</td><td>1,917.60</td><td>0.00</td><td>0.00</td><td>0.00</td><td>0.00</td><td>0.00</td><td>0.00</td><td>0.00</td><td>0.00</td><td>0.00</td><td>0.00</td><td>0.00</td><td>0.00</td><td>0.00</td><td>0.00</td><td>0.00</td><td>0.00</td><td>0.00</td><td>0.00</td><td>0.00</td><td>0.00</td><td>0.00</td><td>30,000.00</td><td>30,000.00</td><td>0.00</td><td>0.00</td><td>1.00</td><td>0.00</td><td>0.00</td><td>0.00</td><td>0.00</td><td>&hellip;</td><td>0</td><td>0</td><td>1</td><td>0</td><td>0</td><td>0</td><td>0</td><td>0</td><td>0</td><td>0</td><td>0</td><td>0</td><td>0</td><td>0</td><td>1</td><td>0</td><td>0</td><td>0</td><td>1</td><td>0</td><td>0</td><td>0</td><td>0</td><td>0</td><td>0</td><td>0</td><td>1</td><td>0</td><td>0</td><td>0</td><td>1</td><td>0</td><td>0</td><td>0</td><td>0</td><td>1</td><td>0</td></tr><tr><td>1</td><td>0</td><td>0</td><td>1</td><td>1</td><td>4</td><td>3,134.00</td><td>0.00</td><td>0.00</td><td>0.00</td><td>0.00</td><td>0.00</td><td>0.00</td><td>0.00</td><td>0.00</td><td>0.00</td><td>0.00</td><td>0.00</td><td>0.00</td><td>0.00</td><td>3.00</td><td>0.00</td><td>0.00</td><td>0.00</td><td>0.00</td><td>0.00</td><td>0.00</td><td>0.00</td><td>19,999.80</td><td>19,999.80</td><td>0.00</td><td>0.00</td><td>1.00</td><td>0.00</td><td>0.00</td><td>0.00</td><td>0.00</td><td>&hellip;</td><td>0</td><td>0</td><td>1</td><td>0</td><td>0</td><td>0</td><td>0</td><td>0</td><td>0</td><td>0</td><td>0</td><td>0</td><td>0</td><td>0</td><td>1</td><td>0</td><td>0</td><td>0</td><td>1</td><td>0</td><td>0</td><td>0</td><td>0</td><td>0</td><td>0</td><td>0</td><td>1</td><td>0</td><td>0</td><td>0</td><td>1</td><td>0</td><td>0</td><td>0</td><td>0</td><td>1</td><td>0</td></tr><tr><td>2</td><td>0</td><td>0</td><td>1</td><td>1</td><td>5</td><td>4,937.00</td><td>0.00</td><td>0.00</td><td>0.00</td><td>0.00</td><td>0.00</td><td>0.00</td><td>0.00</td><td>0.00</td><td>0.00</td><td>0.00</td><td>0.00</td><td>0.00</td><td>0.00</td><td>0.00</td><td>0.00</td><td>0.00</td><td>0.00</td><td>0.00</td><td>0.00</td><td>0.00</td><td>0.00</td><td>78,000.00</td><td>78,000.00</td><td>0.00</td><td>1.00</td><td>2.00</td><td>0.00</td><td>0.00</td><td>0.00</td><td>0.00</td><td>&hellip;</td><td>0</td><td>0</td><td>1</td><td>0</td><td>0</td><td>0</td><td>0</td><td>0</td><td>0</td><td>0</td><td>0</td><td>0</td><td>0</td><td>0</td><td>1</td><td>0</td><td>1</td><td>0</td><td>0</td><td>0</td><td>0</td><td>0</td><td>0</td><td>0</td><td>0</td><td>1</td><td>0</td><td>0</td><td>1</td><td>0</td><td>0</td><td>0</td><td>0</td><td>0</td><td>0</td><td>1</td><td>0</td></tr><tr><td>3</td><td>0</td><td>0</td><td>1</td><td>1</td><td>4</td><td>4,643.60</td><td>0.00</td><td>1.00</td><td>0.00</td><td>2.00</td><td>0.00</td><td>1.00</td><td>0.00</td><td>0.00</td><td>0.00</td><td>0.00</td><td>0.00</td><td>0.00</td><td>1.00</td><td>0.00</td><td>0.00</td><td>0.00</td><td>0.00</td><td>0.00</td><td>0.00</td><td>0.00</td><td>0.00</td><td>40,000.00</td><td>40,000.00</td><td>0.00</td><td>0.00</td><td>1.00</td><td>0.00</td><td>0.00</td><td>0.00</td><td>1.00</td><td>&hellip;</td><td>1</td><td>0</td><td>0</td><td>0</td><td>0</td><td>0</td><td>0</td><td>0</td><td>0</td><td>0</td><td>0</td><td>0</td><td>0</td><td>0</td><td>1</td><td>0</td><td>1</td><td>0</td><td>0</td><td>0</td><td>0</td><td>0</td><td>0</td><td>0</td><td>0</td><td>1</td><td>0</td><td>0</td><td>1</td><td>0</td><td>0</td><td>0</td><td>0</td><td>0</td><td>0</td><td>1</td><td>0</td></tr><tr><td>4</td><td>0</td><td>0</td><td>1</td><td>1</td><td>5</td><td>3,390.20</td><td>0.00</td><td>1.00</td><td>0.00</td><td>0.00</td><td>0.00</td><td>1.00</td><td>0.00</td><td>0.00</td><td>0.00</td><td>0.00</td><td>0.00</td><td>0.00</td><td>0.00</td><td>0.00</td><td>0.00</td><td>0.00</td><td>0.00</td><td>0.00</td><td>0.00</td><td>0.00</td><td>0.00</td><td>44,000.00</td><td>44,000.00</td><td>0.00</td><td>1.00</td><td>1.00</td><td>0.00</td><td>0.00</td><td>0.00</td><td>0.00</td><td>&hellip;</td><td>0</td><td>0</td><td>1</td><td>0</td><td>0</td><td>0</td><td>0</td><td>0</td><td>0</td><td>0</td><td>0</td><td>0</td><td>0</td><td>0</td><td>1</td><td>0</td><td>0</td><td>0</td><td>0</td><td>0</td><td>0</td><td>0</td><td>0</td><td>0</td><td>1</td><td>1</td><td>0</td><td>0</td><td>1</td><td>0</td><td>0</td><td>0</td><td>0</td><td>0</td><td>0</td><td>1</td><td>1</td></tr></tbody></table></div>"
      ],
      "text/plain": [
       "shape: (5, 3_200)\n",
       "┌────────────┬────────────┬────────────┬───────┬───┬────────────┬────────────┬────────────┬────────┐\n",
       "│ case_id_ba ┆ isbidprodu ┆ isbidprodu ┆ month ┆ … ┆ cacccardbl ┆ cacccardbl ┆ cacccardbl ┆ target │\n",
       "│ se         ┆ ct_1095L   ┆ ct_390L    ┆ ---   ┆   ┆ ochreas_14 ┆ ochreas_14 ┆ ochreas_14 ┆ ---    │\n",
       "│ ---        ┆ Flag       ┆ Flag for   ┆ i8    ┆   ┆ 7M Card    ┆ 7M Card    ┆ 7M Card    ┆ u8     │\n",
       "│ u32        ┆ indicating ┆ determinin ┆       ┆   ┆ blocking   ┆ blocking   ┆ blocking   ┆        │\n",
       "│            ┆ if the     ┆ g if the   ┆       ┆   ┆ reason._P2 ┆ reason._P3 ┆ reason._a5 ┆        │\n",
       "│            ┆ product is ┆ product is ┆       ┆   ┆ 01_63_60   ┆ 3_145_161  ┆ 5475b1     ┆        │\n",
       "│            ┆ a cross-se ┆ a          ┆       ┆   ┆ ---        ┆ ---        ┆ ---        ┆        │\n",
       "│            ┆ ll.        ┆ cross-sell ┆       ┆   ┆ u8         ┆ u8         ┆ u8         ┆        │\n",
       "│            ┆ ---        ┆ in         ┆       ┆   ┆            ┆            ┆            ┆        │\n",
       "│            ┆ u8         ┆ previous   ┆       ┆   ┆            ┆            ┆            ┆        │\n",
       "│            ┆            ┆ applicatio ┆       ┆   ┆            ┆            ┆            ┆        │\n",
       "│            ┆            ┆ ns.        ┆       ┆   ┆            ┆            ┆            ┆        │\n",
       "│            ┆            ┆ ---        ┆       ┆   ┆            ┆            ┆            ┆        │\n",
       "│            ┆            ┆ u8         ┆       ┆   ┆            ┆            ┆            ┆        │\n",
       "╞════════════╪════════════╪════════════╪═══════╪═══╪════════════╪════════════╪════════════╪════════╡\n",
       "│ 0          ┆ 0          ┆ 0          ┆ 1     ┆ … ┆ 0          ┆ 0          ┆ 1          ┆ 0      │\n",
       "│ 1          ┆ 0          ┆ 0          ┆ 1     ┆ … ┆ 0          ┆ 0          ┆ 1          ┆ 0      │\n",
       "│ 2          ┆ 0          ┆ 0          ┆ 1     ┆ … ┆ 0          ┆ 0          ┆ 1          ┆ 0      │\n",
       "│ 3          ┆ 0          ┆ 0          ┆ 1     ┆ … ┆ 0          ┆ 0          ┆ 1          ┆ 0      │\n",
       "│ 4          ┆ 0          ┆ 0          ┆ 1     ┆ … ┆ 0          ┆ 0          ┆ 1          ┆ 1      │\n",
       "└────────────┴────────────┴────────────┴───────┴───┴────────────┴────────────┴────────────┴────────┘"
      ]
     },
     "execution_count": 52,
     "metadata": {},
     "output_type": "execute_result"
    }
   ],
   "source": [
    "submission_df = total_df.filter(pl.col(\"case_id_base\").is_in(out_case_ids))\n",
    "train_df = total_df.filter(~pl.col(\"case_id_base\").is_in(out_case_ids))\n",
    "display(submission_df.head(2))\n",
    "train_df.head()"
   ]
  },
  {
   "cell_type": "code",
   "execution_count": 53,
   "metadata": {},
   "outputs": [],
   "source": [
    "all_case_ids = train_df.select(\"case_id_base\")\n",
    "train_case_ids,test_case_ids = train_test_split(all_case_ids,test_size=0.25,random_state=52)\n",
    "valid_case_ids,test_case_ids = train_test_split(test_case_ids,test_size=0.35,random_state=25)"
   ]
  },
  {
   "cell_type": "code",
   "execution_count": 54,
   "metadata": {},
   "outputs": [],
   "source": [
    "def convert_to_pandas(ids:pl.DataFrame) -> list[pd.DataFrame]:\n",
    "    return (\n",
    "        train_df.filter(pl.col(\"case_id_base\").is_in(ids)).select(\"case_id_base\",\"week\",\"target\").to_pandas(),\n",
    "        train_df.filter(pl.col(\"case_id_base\").is_in(ids)).select(~cs.by_name([\"case_id_base\",\"week\",\"target\"])).to_pandas(),\n",
    "        train_df.filter(pl.col(\"case_id_base\").is_in(ids)).select(\"target\").to_pandas()\n",
    "    )"
   ]
  },
  {
   "cell_type": "code",
   "execution_count": 55,
   "metadata": {},
   "outputs": [],
   "source": [
    "X_train_base,X_train,y_train = convert_to_pandas(train_case_ids)\n",
    "X_valid_base,X_valid,y_valid = convert_to_pandas(valid_case_ids)\n",
    "X_test_base,X_test,y_test = convert_to_pandas(test_case_ids)"
   ]
  },
  {
   "cell_type": "code",
   "execution_count": 56,
   "metadata": {},
   "outputs": [
    {
     "data": {
      "text/html": [
       "<div>\n",
       "<style scoped>\n",
       "    .dataframe tbody tr th:only-of-type {\n",
       "        vertical-align: middle;\n",
       "    }\n",
       "\n",
       "    .dataframe tbody tr th {\n",
       "        vertical-align: top;\n",
       "    }\n",
       "\n",
       "    .dataframe thead th {\n",
       "        text-align: right;\n",
       "    }\n",
       "</style>\n",
       "<table border=\"1\" class=\"dataframe\">\n",
       "  <thead>\n",
       "    <tr style=\"text-align: right;\">\n",
       "      <th></th>\n",
       "      <th>case_id_base</th>\n",
       "      <th>week</th>\n",
       "      <th>target</th>\n",
       "    </tr>\n",
       "  </thead>\n",
       "  <tbody>\n",
       "    <tr>\n",
       "      <th>0</th>\n",
       "      <td>0</td>\n",
       "      <td>1</td>\n",
       "      <td>0</td>\n",
       "    </tr>\n",
       "    <tr>\n",
       "      <th>1</th>\n",
       "      <td>1</td>\n",
       "      <td>1</td>\n",
       "      <td>0</td>\n",
       "    </tr>\n",
       "  </tbody>\n",
       "</table>\n",
       "</div>"
      ],
      "text/plain": [
       "   case_id_base  week  target\n",
       "0             0     1       0\n",
       "1             1     1       0"
      ]
     },
     "metadata": {},
     "output_type": "display_data"
    },
    {
     "data": {
      "text/html": [
       "<div>\n",
       "<style scoped>\n",
       "    .dataframe tbody tr th:only-of-type {\n",
       "        vertical-align: middle;\n",
       "    }\n",
       "\n",
       "    .dataframe tbody tr th {\n",
       "        vertical-align: top;\n",
       "    }\n",
       "\n",
       "    .dataframe thead th {\n",
       "        text-align: right;\n",
       "    }\n",
       "</style>\n",
       "<table border=\"1\" class=\"dataframe\">\n",
       "  <thead>\n",
       "    <tr style=\"text-align: right;\">\n",
       "      <th></th>\n",
       "      <th>isbidproduct_1095L Flag indicating if the product is a cross-sell.</th>\n",
       "      <th>isbidproduct_390L Flag for determining if the product is a cross-sell in previous applications.</th>\n",
       "      <th>month</th>\n",
       "      <th>weekday</th>\n",
       "      <th>annuity_780A Monthly annuity amount.</th>\n",
       "      <th>applicationcnt_361L Number of applications associated with the same email address as the client.</th>\n",
       "      <th>applications30d_658L Number of applications made by the client in the last 30 days.</th>\n",
       "      <th>applicationscnt_1086L Number of applications associated with the same phone number.</th>\n",
       "      <th>applicationscnt_464L Number of applications made in the last 30 days by other clients with the same employer as the applicant.</th>\n",
       "      <th>applicationscnt_629L Number of applications with the same employer in the last 7 days.</th>\n",
       "      <th>...</th>\n",
       "      <th>credtype_587L Credit type of previous application._COL</th>\n",
       "      <th>credtype_587L Credit type of previous application._REL</th>\n",
       "      <th>inittransactioncode_279L Type of the initial transaction made in the previous application of the client._CASH</th>\n",
       "      <th>inittransactioncode_279L Type of the initial transaction made in the previous application of the client._NDF</th>\n",
       "      <th>inittransactioncode_279L Type of the initial transaction made in the previous application of the client._POS</th>\n",
       "      <th>cacccardblochreas_147M Card blocking reason._P17_56_144</th>\n",
       "      <th>cacccardblochreas_147M Card blocking reason._P19_60_110</th>\n",
       "      <th>cacccardblochreas_147M Card blocking reason._P201_63_60</th>\n",
       "      <th>cacccardblochreas_147M Card blocking reason._P33_145_161</th>\n",
       "      <th>cacccardblochreas_147M Card blocking reason._a55475b1</th>\n",
       "    </tr>\n",
       "  </thead>\n",
       "  <tbody>\n",
       "    <tr>\n",
       "      <th>0</th>\n",
       "      <td>0</td>\n",
       "      <td>0</td>\n",
       "      <td>1</td>\n",
       "      <td>4</td>\n",
       "      <td>1917.599976</td>\n",
       "      <td>0.0</td>\n",
       "      <td>0.0</td>\n",
       "      <td>0.0</td>\n",
       "      <td>0.0</td>\n",
       "      <td>0.0</td>\n",
       "      <td>...</td>\n",
       "      <td>1</td>\n",
       "      <td>0</td>\n",
       "      <td>0</td>\n",
       "      <td>0</td>\n",
       "      <td>1</td>\n",
       "      <td>0</td>\n",
       "      <td>0</td>\n",
       "      <td>0</td>\n",
       "      <td>0</td>\n",
       "      <td>1</td>\n",
       "    </tr>\n",
       "    <tr>\n",
       "      <th>1</th>\n",
       "      <td>0</td>\n",
       "      <td>0</td>\n",
       "      <td>1</td>\n",
       "      <td>4</td>\n",
       "      <td>3134.000000</td>\n",
       "      <td>0.0</td>\n",
       "      <td>0.0</td>\n",
       "      <td>0.0</td>\n",
       "      <td>0.0</td>\n",
       "      <td>0.0</td>\n",
       "      <td>...</td>\n",
       "      <td>1</td>\n",
       "      <td>0</td>\n",
       "      <td>0</td>\n",
       "      <td>0</td>\n",
       "      <td>1</td>\n",
       "      <td>0</td>\n",
       "      <td>0</td>\n",
       "      <td>0</td>\n",
       "      <td>0</td>\n",
       "      <td>1</td>\n",
       "    </tr>\n",
       "  </tbody>\n",
       "</table>\n",
       "<p>2 rows × 3197 columns</p>\n",
       "</div>"
      ],
      "text/plain": [
       "   isbidproduct_1095L Flag indicating if the product is a cross-sell.  \\\n",
       "0                                                  0                    \n",
       "1                                                  0                    \n",
       "\n",
       "   isbidproduct_390L Flag for determining if the product is a cross-sell in previous applications.  \\\n",
       "0                                                  0                                                 \n",
       "1                                                  0                                                 \n",
       "\n",
       "   month  weekday  annuity_780A Monthly annuity amount.  \\\n",
       "0      1        4                           1917.599976   \n",
       "1      1        4                           3134.000000   \n",
       "\n",
       "   applicationcnt_361L Number of applications associated with the same email address as the client.  \\\n",
       "0                                                0.0                                                  \n",
       "1                                                0.0                                                  \n",
       "\n",
       "   applications30d_658L Number of applications made by the client in the last 30 days.  \\\n",
       "0                                                0.0                                     \n",
       "1                                                0.0                                     \n",
       "\n",
       "   applicationscnt_1086L Number of applications associated with the same phone number.  \\\n",
       "0                                                0.0                                     \n",
       "1                                                0.0                                     \n",
       "\n",
       "   applicationscnt_464L Number of applications made in the last 30 days by other clients with the same employer as the applicant.  \\\n",
       "0                                                0.0                                                                                \n",
       "1                                                0.0                                                                                \n",
       "\n",
       "   applicationscnt_629L Number of applications with the same employer in the last 7 days.  \\\n",
       "0                                                0.0                                        \n",
       "1                                                0.0                                        \n",
       "\n",
       "   ...  credtype_587L Credit type of previous application._COL  \\\n",
       "0  ...                                                  1        \n",
       "1  ...                                                  1        \n",
       "\n",
       "   credtype_587L Credit type of previous application._REL  \\\n",
       "0                                                  0        \n",
       "1                                                  0        \n",
       "\n",
       "   inittransactioncode_279L Type of the initial transaction made in the previous application of the client._CASH  \\\n",
       "0                                                  0                                                               \n",
       "1                                                  0                                                               \n",
       "\n",
       "   inittransactioncode_279L Type of the initial transaction made in the previous application of the client._NDF  \\\n",
       "0                                                  0                                                              \n",
       "1                                                  0                                                              \n",
       "\n",
       "   inittransactioncode_279L Type of the initial transaction made in the previous application of the client._POS  \\\n",
       "0                                                  1                                                              \n",
       "1                                                  1                                                              \n",
       "\n",
       "   cacccardblochreas_147M Card blocking reason._P17_56_144  \\\n",
       "0                                                  0         \n",
       "1                                                  0         \n",
       "\n",
       "   cacccardblochreas_147M Card blocking reason._P19_60_110  \\\n",
       "0                                                  0         \n",
       "1                                                  0         \n",
       "\n",
       "   cacccardblochreas_147M Card blocking reason._P201_63_60  \\\n",
       "0                                                  0         \n",
       "1                                                  0         \n",
       "\n",
       "   cacccardblochreas_147M Card blocking reason._P33_145_161  \\\n",
       "0                                                  0          \n",
       "1                                                  0          \n",
       "\n",
       "   cacccardblochreas_147M Card blocking reason._a55475b1  \n",
       "0                                                  1      \n",
       "1                                                  1      \n",
       "\n",
       "[2 rows x 3197 columns]"
      ]
     },
     "metadata": {},
     "output_type": "display_data"
    },
    {
     "data": {
      "text/html": [
       "<div>\n",
       "<style scoped>\n",
       "    .dataframe tbody tr th:only-of-type {\n",
       "        vertical-align: middle;\n",
       "    }\n",
       "\n",
       "    .dataframe tbody tr th {\n",
       "        vertical-align: top;\n",
       "    }\n",
       "\n",
       "    .dataframe thead th {\n",
       "        text-align: right;\n",
       "    }\n",
       "</style>\n",
       "<table border=\"1\" class=\"dataframe\">\n",
       "  <thead>\n",
       "    <tr style=\"text-align: right;\">\n",
       "      <th></th>\n",
       "      <th>target</th>\n",
       "    </tr>\n",
       "  </thead>\n",
       "  <tbody>\n",
       "    <tr>\n",
       "      <th>0</th>\n",
       "      <td>0</td>\n",
       "    </tr>\n",
       "    <tr>\n",
       "      <th>1</th>\n",
       "      <td>0</td>\n",
       "    </tr>\n",
       "  </tbody>\n",
       "</table>\n",
       "</div>"
      ],
      "text/plain": [
       "   target\n",
       "0       0\n",
       "1       0"
      ]
     },
     "metadata": {},
     "output_type": "display_data"
    }
   ],
   "source": [
    "display(X_train_base.head(2))\n",
    "display(X_train.head(2))\n",
    "display(y_train.head(2))"
   ]
  },
  {
   "cell_type": "code",
   "execution_count": 57,
   "metadata": {},
   "outputs": [
    {
     "data": {
      "text/html": [
       "<div>\n",
       "<style scoped>\n",
       "    .dataframe tbody tr th:only-of-type {\n",
       "        vertical-align: middle;\n",
       "    }\n",
       "\n",
       "    .dataframe tbody tr th {\n",
       "        vertical-align: top;\n",
       "    }\n",
       "\n",
       "    .dataframe thead th {\n",
       "        text-align: right;\n",
       "    }\n",
       "</style>\n",
       "<table border=\"1\" class=\"dataframe\">\n",
       "  <thead>\n",
       "    <tr style=\"text-align: right;\">\n",
       "      <th></th>\n",
       "      <th>case_id_base</th>\n",
       "      <th>week</th>\n",
       "      <th>target</th>\n",
       "    </tr>\n",
       "  </thead>\n",
       "  <tbody>\n",
       "    <tr>\n",
       "      <th>0</th>\n",
       "      <td>2</td>\n",
       "      <td>1</td>\n",
       "      <td>0</td>\n",
       "    </tr>\n",
       "    <tr>\n",
       "      <th>1</th>\n",
       "      <td>3</td>\n",
       "      <td>1</td>\n",
       "      <td>0</td>\n",
       "    </tr>\n",
       "  </tbody>\n",
       "</table>\n",
       "</div>"
      ],
      "text/plain": [
       "   case_id_base  week  target\n",
       "0             2     1       0\n",
       "1             3     1       0"
      ]
     },
     "metadata": {},
     "output_type": "display_data"
    },
    {
     "data": {
      "text/html": [
       "<div>\n",
       "<style scoped>\n",
       "    .dataframe tbody tr th:only-of-type {\n",
       "        vertical-align: middle;\n",
       "    }\n",
       "\n",
       "    .dataframe tbody tr th {\n",
       "        vertical-align: top;\n",
       "    }\n",
       "\n",
       "    .dataframe thead th {\n",
       "        text-align: right;\n",
       "    }\n",
       "</style>\n",
       "<table border=\"1\" class=\"dataframe\">\n",
       "  <thead>\n",
       "    <tr style=\"text-align: right;\">\n",
       "      <th></th>\n",
       "      <th>isbidproduct_1095L Flag indicating if the product is a cross-sell.</th>\n",
       "      <th>isbidproduct_390L Flag for determining if the product is a cross-sell in previous applications.</th>\n",
       "      <th>month</th>\n",
       "      <th>weekday</th>\n",
       "      <th>annuity_780A Monthly annuity amount.</th>\n",
       "      <th>applicationcnt_361L Number of applications associated with the same email address as the client.</th>\n",
       "      <th>applications30d_658L Number of applications made by the client in the last 30 days.</th>\n",
       "      <th>applicationscnt_1086L Number of applications associated with the same phone number.</th>\n",
       "      <th>applicationscnt_464L Number of applications made in the last 30 days by other clients with the same employer as the applicant.</th>\n",
       "      <th>applicationscnt_629L Number of applications with the same employer in the last 7 days.</th>\n",
       "      <th>...</th>\n",
       "      <th>credtype_587L Credit type of previous application._COL</th>\n",
       "      <th>credtype_587L Credit type of previous application._REL</th>\n",
       "      <th>inittransactioncode_279L Type of the initial transaction made in the previous application of the client._CASH</th>\n",
       "      <th>inittransactioncode_279L Type of the initial transaction made in the previous application of the client._NDF</th>\n",
       "      <th>inittransactioncode_279L Type of the initial transaction made in the previous application of the client._POS</th>\n",
       "      <th>cacccardblochreas_147M Card blocking reason._P17_56_144</th>\n",
       "      <th>cacccardblochreas_147M Card blocking reason._P19_60_110</th>\n",
       "      <th>cacccardblochreas_147M Card blocking reason._P201_63_60</th>\n",
       "      <th>cacccardblochreas_147M Card blocking reason._P33_145_161</th>\n",
       "      <th>cacccardblochreas_147M Card blocking reason._a55475b1</th>\n",
       "    </tr>\n",
       "  </thead>\n",
       "  <tbody>\n",
       "    <tr>\n",
       "      <th>0</th>\n",
       "      <td>0</td>\n",
       "      <td>0</td>\n",
       "      <td>1</td>\n",
       "      <td>5</td>\n",
       "      <td>4937.000000</td>\n",
       "      <td>0.0</td>\n",
       "      <td>0.0</td>\n",
       "      <td>0.0</td>\n",
       "      <td>0.0</td>\n",
       "      <td>0.0</td>\n",
       "      <td>...</td>\n",
       "      <td>0</td>\n",
       "      <td>0</td>\n",
       "      <td>1</td>\n",
       "      <td>0</td>\n",
       "      <td>0</td>\n",
       "      <td>0</td>\n",
       "      <td>0</td>\n",
       "      <td>0</td>\n",
       "      <td>0</td>\n",
       "      <td>1</td>\n",
       "    </tr>\n",
       "    <tr>\n",
       "      <th>1</th>\n",
       "      <td>0</td>\n",
       "      <td>0</td>\n",
       "      <td>1</td>\n",
       "      <td>4</td>\n",
       "      <td>4643.600098</td>\n",
       "      <td>0.0</td>\n",
       "      <td>1.0</td>\n",
       "      <td>0.0</td>\n",
       "      <td>2.0</td>\n",
       "      <td>0.0</td>\n",
       "      <td>...</td>\n",
       "      <td>0</td>\n",
       "      <td>0</td>\n",
       "      <td>1</td>\n",
       "      <td>0</td>\n",
       "      <td>0</td>\n",
       "      <td>0</td>\n",
       "      <td>0</td>\n",
       "      <td>0</td>\n",
       "      <td>0</td>\n",
       "      <td>1</td>\n",
       "    </tr>\n",
       "  </tbody>\n",
       "</table>\n",
       "<p>2 rows × 3197 columns</p>\n",
       "</div>"
      ],
      "text/plain": [
       "   isbidproduct_1095L Flag indicating if the product is a cross-sell.  \\\n",
       "0                                                  0                    \n",
       "1                                                  0                    \n",
       "\n",
       "   isbidproduct_390L Flag for determining if the product is a cross-sell in previous applications.  \\\n",
       "0                                                  0                                                 \n",
       "1                                                  0                                                 \n",
       "\n",
       "   month  weekday  annuity_780A Monthly annuity amount.  \\\n",
       "0      1        5                           4937.000000   \n",
       "1      1        4                           4643.600098   \n",
       "\n",
       "   applicationcnt_361L Number of applications associated with the same email address as the client.  \\\n",
       "0                                                0.0                                                  \n",
       "1                                                0.0                                                  \n",
       "\n",
       "   applications30d_658L Number of applications made by the client in the last 30 days.  \\\n",
       "0                                                0.0                                     \n",
       "1                                                1.0                                     \n",
       "\n",
       "   applicationscnt_1086L Number of applications associated with the same phone number.  \\\n",
       "0                                                0.0                                     \n",
       "1                                                0.0                                     \n",
       "\n",
       "   applicationscnt_464L Number of applications made in the last 30 days by other clients with the same employer as the applicant.  \\\n",
       "0                                                0.0                                                                                \n",
       "1                                                2.0                                                                                \n",
       "\n",
       "   applicationscnt_629L Number of applications with the same employer in the last 7 days.  \\\n",
       "0                                                0.0                                        \n",
       "1                                                0.0                                        \n",
       "\n",
       "   ...  credtype_587L Credit type of previous application._COL  \\\n",
       "0  ...                                                  0        \n",
       "1  ...                                                  0        \n",
       "\n",
       "   credtype_587L Credit type of previous application._REL  \\\n",
       "0                                                  0        \n",
       "1                                                  0        \n",
       "\n",
       "   inittransactioncode_279L Type of the initial transaction made in the previous application of the client._CASH  \\\n",
       "0                                                  1                                                               \n",
       "1                                                  1                                                               \n",
       "\n",
       "   inittransactioncode_279L Type of the initial transaction made in the previous application of the client._NDF  \\\n",
       "0                                                  0                                                              \n",
       "1                                                  0                                                              \n",
       "\n",
       "   inittransactioncode_279L Type of the initial transaction made in the previous application of the client._POS  \\\n",
       "0                                                  0                                                              \n",
       "1                                                  0                                                              \n",
       "\n",
       "   cacccardblochreas_147M Card blocking reason._P17_56_144  \\\n",
       "0                                                  0         \n",
       "1                                                  0         \n",
       "\n",
       "   cacccardblochreas_147M Card blocking reason._P19_60_110  \\\n",
       "0                                                  0         \n",
       "1                                                  0         \n",
       "\n",
       "   cacccardblochreas_147M Card blocking reason._P201_63_60  \\\n",
       "0                                                  0         \n",
       "1                                                  0         \n",
       "\n",
       "   cacccardblochreas_147M Card blocking reason._P33_145_161  \\\n",
       "0                                                  0          \n",
       "1                                                  0          \n",
       "\n",
       "   cacccardblochreas_147M Card blocking reason._a55475b1  \n",
       "0                                                  1      \n",
       "1                                                  1      \n",
       "\n",
       "[2 rows x 3197 columns]"
      ]
     },
     "metadata": {},
     "output_type": "display_data"
    },
    {
     "data": {
      "text/html": [
       "<div>\n",
       "<style scoped>\n",
       "    .dataframe tbody tr th:only-of-type {\n",
       "        vertical-align: middle;\n",
       "    }\n",
       "\n",
       "    .dataframe tbody tr th {\n",
       "        vertical-align: top;\n",
       "    }\n",
       "\n",
       "    .dataframe thead th {\n",
       "        text-align: right;\n",
       "    }\n",
       "</style>\n",
       "<table border=\"1\" class=\"dataframe\">\n",
       "  <thead>\n",
       "    <tr style=\"text-align: right;\">\n",
       "      <th></th>\n",
       "      <th>target</th>\n",
       "    </tr>\n",
       "  </thead>\n",
       "  <tbody>\n",
       "    <tr>\n",
       "      <th>0</th>\n",
       "      <td>0</td>\n",
       "    </tr>\n",
       "    <tr>\n",
       "      <th>1</th>\n",
       "      <td>0</td>\n",
       "    </tr>\n",
       "  </tbody>\n",
       "</table>\n",
       "</div>"
      ],
      "text/plain": [
       "   target\n",
       "0       0\n",
       "1       0"
      ]
     },
     "metadata": {},
     "output_type": "display_data"
    }
   ],
   "source": [
    "display(X_valid_base.head(2))\n",
    "display(X_valid.head(2))\n",
    "display(y_valid.head(2))"
   ]
  },
  {
   "cell_type": "code",
   "execution_count": 58,
   "metadata": {},
   "outputs": [
    {
     "data": {
      "text/html": [
       "<div>\n",
       "<style scoped>\n",
       "    .dataframe tbody tr th:only-of-type {\n",
       "        vertical-align: middle;\n",
       "    }\n",
       "\n",
       "    .dataframe tbody tr th {\n",
       "        vertical-align: top;\n",
       "    }\n",
       "\n",
       "    .dataframe thead th {\n",
       "        text-align: right;\n",
       "    }\n",
       "</style>\n",
       "<table border=\"1\" class=\"dataframe\">\n",
       "  <thead>\n",
       "    <tr style=\"text-align: right;\">\n",
       "      <th></th>\n",
       "      <th>case_id_base</th>\n",
       "      <th>week</th>\n",
       "      <th>target</th>\n",
       "    </tr>\n",
       "  </thead>\n",
       "  <tbody>\n",
       "    <tr>\n",
       "      <th>0</th>\n",
       "      <td>27</td>\n",
       "      <td>1</td>\n",
       "      <td>0</td>\n",
       "    </tr>\n",
       "    <tr>\n",
       "      <th>1</th>\n",
       "      <td>29</td>\n",
       "      <td>1</td>\n",
       "      <td>0</td>\n",
       "    </tr>\n",
       "  </tbody>\n",
       "</table>\n",
       "</div>"
      ],
      "text/plain": [
       "   case_id_base  week  target\n",
       "0            27     1       0\n",
       "1            29     1       0"
      ]
     },
     "metadata": {},
     "output_type": "display_data"
    },
    {
     "data": {
      "text/html": [
       "<div>\n",
       "<style scoped>\n",
       "    .dataframe tbody tr th:only-of-type {\n",
       "        vertical-align: middle;\n",
       "    }\n",
       "\n",
       "    .dataframe tbody tr th {\n",
       "        vertical-align: top;\n",
       "    }\n",
       "\n",
       "    .dataframe thead th {\n",
       "        text-align: right;\n",
       "    }\n",
       "</style>\n",
       "<table border=\"1\" class=\"dataframe\">\n",
       "  <thead>\n",
       "    <tr style=\"text-align: right;\">\n",
       "      <th></th>\n",
       "      <th>isbidproduct_1095L Flag indicating if the product is a cross-sell.</th>\n",
       "      <th>isbidproduct_390L Flag for determining if the product is a cross-sell in previous applications.</th>\n",
       "      <th>month</th>\n",
       "      <th>weekday</th>\n",
       "      <th>annuity_780A Monthly annuity amount.</th>\n",
       "      <th>applicationcnt_361L Number of applications associated with the same email address as the client.</th>\n",
       "      <th>applications30d_658L Number of applications made by the client in the last 30 days.</th>\n",
       "      <th>applicationscnt_1086L Number of applications associated with the same phone number.</th>\n",
       "      <th>applicationscnt_464L Number of applications made in the last 30 days by other clients with the same employer as the applicant.</th>\n",
       "      <th>applicationscnt_629L Number of applications with the same employer in the last 7 days.</th>\n",
       "      <th>...</th>\n",
       "      <th>credtype_587L Credit type of previous application._COL</th>\n",
       "      <th>credtype_587L Credit type of previous application._REL</th>\n",
       "      <th>inittransactioncode_279L Type of the initial transaction made in the previous application of the client._CASH</th>\n",
       "      <th>inittransactioncode_279L Type of the initial transaction made in the previous application of the client._NDF</th>\n",
       "      <th>inittransactioncode_279L Type of the initial transaction made in the previous application of the client._POS</th>\n",
       "      <th>cacccardblochreas_147M Card blocking reason._P17_56_144</th>\n",
       "      <th>cacccardblochreas_147M Card blocking reason._P19_60_110</th>\n",
       "      <th>cacccardblochreas_147M Card blocking reason._P201_63_60</th>\n",
       "      <th>cacccardblochreas_147M Card blocking reason._P33_145_161</th>\n",
       "      <th>cacccardblochreas_147M Card blocking reason._a55475b1</th>\n",
       "    </tr>\n",
       "  </thead>\n",
       "  <tbody>\n",
       "    <tr>\n",
       "      <th>0</th>\n",
       "      <td>0</td>\n",
       "      <td>0</td>\n",
       "      <td>1</td>\n",
       "      <td>4</td>\n",
       "      <td>1218.000000</td>\n",
       "      <td>0.0</td>\n",
       "      <td>0.0</td>\n",
       "      <td>0.0</td>\n",
       "      <td>0.0</td>\n",
       "      <td>0.0</td>\n",
       "      <td>...</td>\n",
       "      <td>1</td>\n",
       "      <td>0</td>\n",
       "      <td>0</td>\n",
       "      <td>0</td>\n",
       "      <td>1</td>\n",
       "      <td>0</td>\n",
       "      <td>0</td>\n",
       "      <td>0</td>\n",
       "      <td>0</td>\n",
       "      <td>1</td>\n",
       "    </tr>\n",
       "    <tr>\n",
       "      <th>1</th>\n",
       "      <td>0</td>\n",
       "      <td>0</td>\n",
       "      <td>1</td>\n",
       "      <td>4</td>\n",
       "      <td>2294.800049</td>\n",
       "      <td>0.0</td>\n",
       "      <td>0.0</td>\n",
       "      <td>8.0</td>\n",
       "      <td>0.0</td>\n",
       "      <td>0.0</td>\n",
       "      <td>...</td>\n",
       "      <td>0</td>\n",
       "      <td>0</td>\n",
       "      <td>1</td>\n",
       "      <td>0</td>\n",
       "      <td>0</td>\n",
       "      <td>0</td>\n",
       "      <td>0</td>\n",
       "      <td>0</td>\n",
       "      <td>0</td>\n",
       "      <td>1</td>\n",
       "    </tr>\n",
       "  </tbody>\n",
       "</table>\n",
       "<p>2 rows × 3197 columns</p>\n",
       "</div>"
      ],
      "text/plain": [
       "   isbidproduct_1095L Flag indicating if the product is a cross-sell.  \\\n",
       "0                                                  0                    \n",
       "1                                                  0                    \n",
       "\n",
       "   isbidproduct_390L Flag for determining if the product is a cross-sell in previous applications.  \\\n",
       "0                                                  0                                                 \n",
       "1                                                  0                                                 \n",
       "\n",
       "   month  weekday  annuity_780A Monthly annuity amount.  \\\n",
       "0      1        4                           1218.000000   \n",
       "1      1        4                           2294.800049   \n",
       "\n",
       "   applicationcnt_361L Number of applications associated with the same email address as the client.  \\\n",
       "0                                                0.0                                                  \n",
       "1                                                0.0                                                  \n",
       "\n",
       "   applications30d_658L Number of applications made by the client in the last 30 days.  \\\n",
       "0                                                0.0                                     \n",
       "1                                                0.0                                     \n",
       "\n",
       "   applicationscnt_1086L Number of applications associated with the same phone number.  \\\n",
       "0                                                0.0                                     \n",
       "1                                                8.0                                     \n",
       "\n",
       "   applicationscnt_464L Number of applications made in the last 30 days by other clients with the same employer as the applicant.  \\\n",
       "0                                                0.0                                                                                \n",
       "1                                                0.0                                                                                \n",
       "\n",
       "   applicationscnt_629L Number of applications with the same employer in the last 7 days.  \\\n",
       "0                                                0.0                                        \n",
       "1                                                0.0                                        \n",
       "\n",
       "   ...  credtype_587L Credit type of previous application._COL  \\\n",
       "0  ...                                                  1        \n",
       "1  ...                                                  0        \n",
       "\n",
       "   credtype_587L Credit type of previous application._REL  \\\n",
       "0                                                  0        \n",
       "1                                                  0        \n",
       "\n",
       "   inittransactioncode_279L Type of the initial transaction made in the previous application of the client._CASH  \\\n",
       "0                                                  0                                                               \n",
       "1                                                  1                                                               \n",
       "\n",
       "   inittransactioncode_279L Type of the initial transaction made in the previous application of the client._NDF  \\\n",
       "0                                                  0                                                              \n",
       "1                                                  0                                                              \n",
       "\n",
       "   inittransactioncode_279L Type of the initial transaction made in the previous application of the client._POS  \\\n",
       "0                                                  1                                                              \n",
       "1                                                  0                                                              \n",
       "\n",
       "   cacccardblochreas_147M Card blocking reason._P17_56_144  \\\n",
       "0                                                  0         \n",
       "1                                                  0         \n",
       "\n",
       "   cacccardblochreas_147M Card blocking reason._P19_60_110  \\\n",
       "0                                                  0         \n",
       "1                                                  0         \n",
       "\n",
       "   cacccardblochreas_147M Card blocking reason._P201_63_60  \\\n",
       "0                                                  0         \n",
       "1                                                  0         \n",
       "\n",
       "   cacccardblochreas_147M Card blocking reason._P33_145_161  \\\n",
       "0                                                  0          \n",
       "1                                                  0          \n",
       "\n",
       "   cacccardblochreas_147M Card blocking reason._a55475b1  \n",
       "0                                                  1      \n",
       "1                                                  1      \n",
       "\n",
       "[2 rows x 3197 columns]"
      ]
     },
     "metadata": {},
     "output_type": "display_data"
    },
    {
     "data": {
      "text/html": [
       "<div>\n",
       "<style scoped>\n",
       "    .dataframe tbody tr th:only-of-type {\n",
       "        vertical-align: middle;\n",
       "    }\n",
       "\n",
       "    .dataframe tbody tr th {\n",
       "        vertical-align: top;\n",
       "    }\n",
       "\n",
       "    .dataframe thead th {\n",
       "        text-align: right;\n",
       "    }\n",
       "</style>\n",
       "<table border=\"1\" class=\"dataframe\">\n",
       "  <thead>\n",
       "    <tr style=\"text-align: right;\">\n",
       "      <th></th>\n",
       "      <th>target</th>\n",
       "    </tr>\n",
       "  </thead>\n",
       "  <tbody>\n",
       "    <tr>\n",
       "      <th>0</th>\n",
       "      <td>0</td>\n",
       "    </tr>\n",
       "    <tr>\n",
       "      <th>1</th>\n",
       "      <td>0</td>\n",
       "    </tr>\n",
       "  </tbody>\n",
       "</table>\n",
       "</div>"
      ],
      "text/plain": [
       "   target\n",
       "0       0\n",
       "1       0"
      ]
     },
     "metadata": {},
     "output_type": "display_data"
    }
   ],
   "source": [
    "display(X_test_base.head(2))\n",
    "display(X_test.head(2))\n",
    "display(y_test.head(2))"
   ]
  },
  {
   "cell_type": "code",
   "execution_count": 59,
   "metadata": {},
   "outputs": [
    {
     "name": "stdout",
     "output_type": "stream",
     "text": [
      "[50]\tvalid_0's auc: 0.740976\n",
      "[100]\tvalid_0's auc: 0.755117\n",
      "[150]\tvalid_0's auc: 0.761577\n",
      "[200]\tvalid_0's auc: 0.765369\n",
      "[250]\tvalid_0's auc: 0.767602\n",
      "[300]\tvalid_0's auc: 0.769319\n",
      "[350]\tvalid_0's auc: 0.770418\n",
      "[400]\tvalid_0's auc: 0.771336\n",
      "[450]\tvalid_0's auc: 0.772393\n",
      "[500]\tvalid_0's auc: 0.773171\n",
      "[550]\tvalid_0's auc: 0.773633\n",
      "[600]\tvalid_0's auc: 0.774251\n",
      "[650]\tvalid_0's auc: 0.774678\n",
      "[700]\tvalid_0's auc: 0.774946\n",
      "[750]\tvalid_0's auc: 0.775147\n",
      "[800]\tvalid_0's auc: 0.775369\n",
      "[850]\tvalid_0's auc: 0.775573\n",
      "[900]\tvalid_0's auc: 0.775771\n",
      "[950]\tvalid_0's auc: 0.775939\n",
      "[1000]\tvalid_0's auc: 0.776059\n",
      "[1050]\tvalid_0's auc: 0.776015\n",
      "[1100]\tvalid_0's auc: 0.776137\n",
      "[1150]\tvalid_0's auc: 0.776166\n",
      "[1200]\tvalid_0's auc: 0.776211\n",
      "[1250]\tvalid_0's auc: 0.776252\n",
      "[1300]\tvalid_0's auc: 0.776254\n",
      "[1350]\tvalid_0's auc: 0.776243\n",
      "[1400]\tvalid_0's auc: 0.77631\n",
      "[1450]\tvalid_0's auc: 0.776277\n",
      "[1500]\tvalid_0's auc: 0.776324\n",
      "[1550]\tvalid_0's auc: 0.776313\n",
      "[1600]\tvalid_0's auc: 0.77621\n",
      "[1650]\tvalid_0's auc: 0.776228\n",
      "[1700]\tvalid_0's auc: 0.776145\n",
      "[1750]\tvalid_0's auc: 0.776102\n",
      "[1800]\tvalid_0's auc: 0.776144\n",
      "[1850]\tvalid_0's auc: 0.776229\n",
      "[1900]\tvalid_0's auc: 0.776185\n",
      "[1950]\tvalid_0's auc: 0.776206\n",
      "[2000]\tvalid_0's auc: 0.776151\n",
      "[2050]\tvalid_0's auc: 0.776074\n",
      "[2100]\tvalid_0's auc: 0.776007\n",
      "[2150]\tvalid_0's auc: 0.775932\n",
      "[2200]\tvalid_0's auc: 0.77589\n",
      "[2250]\tvalid_0's auc: 0.775845\n",
      "[2300]\tvalid_0's auc: 0.775732\n",
      "[2350]\tvalid_0's auc: 0.775687\n",
      "[2400]\tvalid_0's auc: 0.775621\n",
      "[2450]\tvalid_0's auc: 0.77547\n",
      "[2500]\tvalid_0's auc: 0.775447\n",
      "[2550]\tvalid_0's auc: 0.775331\n",
      "[2600]\tvalid_0's auc: 0.775127\n",
      "[2650]\tvalid_0's auc: 0.775124\n",
      "[2700]\tvalid_0's auc: 0.774983\n",
      "[2750]\tvalid_0's auc: 0.775021\n",
      "[2800]\tvalid_0's auc: 0.775039\n",
      "[2850]\tvalid_0's auc: 0.774951\n",
      "[2900]\tvalid_0's auc: 0.774919\n",
      "[2950]\tvalid_0's auc: 0.774872\n",
      "[3000]\tvalid_0's auc: 0.77483\n",
      "[3050]\tvalid_0's auc: 0.774741\n",
      "[3100]\tvalid_0's auc: 0.77463\n",
      "[3150]\tvalid_0's auc: 0.774612\n",
      "[3200]\tvalid_0's auc: 0.774547\n",
      "[3250]\tvalid_0's auc: 0.774506\n",
      "[3300]\tvalid_0's auc: 0.774559\n",
      "[3350]\tvalid_0's auc: 0.774531\n",
      "[3400]\tvalid_0's auc: 0.774424\n",
      "[3450]\tvalid_0's auc: 0.774392\n",
      "[3500]\tvalid_0's auc: 0.774397\n",
      "[3550]\tvalid_0's auc: 0.774362\n",
      "[3600]\tvalid_0's auc: 0.774298\n",
      "[3650]\tvalid_0's auc: 0.77425\n",
      "[3700]\tvalid_0's auc: 0.77419\n",
      "[3750]\tvalid_0's auc: 0.774132\n",
      "[3800]\tvalid_0's auc: 0.774044\n",
      "[3850]\tvalid_0's auc: 0.773993\n",
      "[3900]\tvalid_0's auc: 0.773999\n",
      "[3950]\tvalid_0's auc: 0.773899\n",
      "[4000]\tvalid_0's auc: 0.77382\n",
      "[4050]\tvalid_0's auc: 0.773841\n",
      "[4100]\tvalid_0's auc: 0.773804\n",
      "[4150]\tvalid_0's auc: 0.773686\n",
      "[4200]\tvalid_0's auc: 0.773572\n",
      "[4250]\tvalid_0's auc: 0.773481\n",
      "[4300]\tvalid_0's auc: 0.773364\n",
      "[4350]\tvalid_0's auc: 0.773318\n",
      "[4400]\tvalid_0's auc: 0.773184\n",
      "[4450]\tvalid_0's auc: 0.773079\n",
      "[4500]\tvalid_0's auc: 0.773088\n",
      "[4550]\tvalid_0's auc: 0.773101\n",
      "[4600]\tvalid_0's auc: 0.773145\n",
      "[4650]\tvalid_0's auc: 0.773135\n",
      "[4700]\tvalid_0's auc: 0.773012\n",
      "[4750]\tvalid_0's auc: 0.772873\n",
      "[4800]\tvalid_0's auc: 0.772762\n",
      "[4850]\tvalid_0's auc: 0.772692\n",
      "[4900]\tvalid_0's auc: 0.772606\n",
      "[4950]\tvalid_0's auc: 0.772502\n",
      "[5000]\tvalid_0's auc: 0.772395\n"
     ]
    }
   ],
   "source": [
    "lgb_train = lgb.Dataset(X_train,label=y_train)\n",
    "lgb_valid = lgb.Dataset(X_valid,label=y_valid,reference=lgb_train)\n",
    "\n",
    "params = {\n",
    "    \"boosting_type\":\"gbdt\",\n",
    "    \"objective\": \"binary\",\n",
    "    \"metric\": \"auc\",\n",
    "    \"max_depth\": 16,\n",
    "    \"num_leaves\": 64,\n",
    "    \"learning_rate\": 0.05,\n",
    "    \"max_bin\": 255,\n",
    "    \"colsample_bytree\": 0.8,\n",
    "    \"colsample_bynode\": 0.8,\n",
    "    \"random_state\": 55,\n",
    "    \"reg_alpha\": 0.1,\n",
    "    \"reg_lambda\": 10,\n",
    "    \"extra_trees\": True,\n",
    "    \"bagging_freq\": 5,\n",
    "    \"n_estimators\": 5000,\n",
    "    \"device\": \"gpu\",\n",
    "    \"verbose\": -1\n",
    "}\n",
    "\n",
    "gbm = lgb.train(\n",
    "    params,\n",
    "    lgb_train,\n",
    "    valid_sets=lgb_valid,\n",
    "    callbacks=[lgb.log_evaluation(50)]\n",
    ")"
   ]
  },
  {
   "cell_type": "code",
   "execution_count": 60,
   "metadata": {},
   "outputs": [
    {
     "name": "stdout",
     "output_type": "stream",
     "text": [
      "The AUC score on the train set is: 0.9095411978341514\n",
      "The AUC score on the valid set is: 0.772395003655979\n",
      "The AUC score on the test set is: 0.770044569684937\n"
     ]
    }
   ],
   "source": [
    "for base, X in [(X_train_base, X_train), (X_valid_base, X_valid), (X_test_base, X_test)]:\n",
    "    y_pred = gbm.predict(X, num_iteration=gbm.best_iteration)\n",
    "    base[\"score\"] = y_pred\n",
    "    \n",
    "print(f'The AUC score on the train set is: {roc_auc_score(X_train_base[\"target\"], X_train_base[\"score\"])}') \n",
    "print(f'The AUC score on the valid set is: {roc_auc_score(X_valid_base[\"target\"], X_valid_base[\"score\"])}') \n",
    "print(f'The AUC score on the test set is: {roc_auc_score(X_test_base[\"target\"], X_test_base[\"score\"])}')  "
   ]
  },
  {
   "cell_type": "code",
   "execution_count": 61,
   "metadata": {},
   "outputs": [
    {
     "name": "stdout",
     "output_type": "stream",
     "text": [
      "The stability score on the train set is: 0.8073161458836813\n",
      "The stability score on the valid set is: 0.5160765205908068\n",
      "The stability score on the test set is: 0.5019689474098561\n"
     ]
    }
   ],
   "source": [
    "def gini_stability(base, w_fallingrate=88.0, w_resstd=-0.5):\n",
    "    gini_in_time = base.loc[:, [\"week\", \"target\", \"score\"]]\\\n",
    "        .sort_values(\"week\")\\\n",
    "        .groupby(\"week\")[[\"target\", \"score\"]]\\\n",
    "        .apply(lambda x: 2*roc_auc_score(x[\"target\"], x[\"score\"])-1).tolist()\n",
    "    \n",
    "    x = np.arange(len(gini_in_time))\n",
    "    y = gini_in_time\n",
    "    a, b = np.polyfit(x, y, 1)\n",
    "    y_hat = a*x + b\n",
    "    residuals = y - y_hat\n",
    "    res_std = np.std(residuals)\n",
    "    avg_gini = np.mean(gini_in_time)\n",
    "    return avg_gini + w_fallingrate * min(0, a) + w_resstd * res_std\n",
    "\n",
    "stability_score_train = gini_stability(X_train_base)\n",
    "stability_score_valid = gini_stability(X_valid_base)\n",
    "stability_score_test = gini_stability(X_test_base)\n",
    "\n",
    "print(f'The stability score on the train set is: {stability_score_train}') \n",
    "print(f'The stability score on the valid set is: {stability_score_valid}') \n",
    "print(f'The stability score on the test set is: {stability_score_test}')"
   ]
  },
  {
   "cell_type": "code",
   "execution_count": 62,
   "metadata": {},
   "outputs": [],
   "source": [
    "out_df = submission_df.select(~cs.by_name([\"case_id_base\",\"week\",\"target\"])).to_pandas()\n",
    "y_sub_pred = gbm.predict(out_df)\n",
    "sub_df = pd.DataFrame({\n",
    "    \"case_id\": submission_df.select(\"case_id_base\").to_series().to_numpy(),\n",
    "    \"score\": y_sub_pred\n",
    "}).set_index(\"case_id\")\n",
    "sub_df.to_csv(\"submission.csv\")"
   ]
  }
 ],
 "metadata": {
  "kernelspec": {
   "display_name": "base",
   "language": "python",
   "name": "python3"
  },
  "language_info": {
   "codemirror_mode": {
    "name": "ipython",
    "version": 3
   },
   "file_extension": ".py",
   "mimetype": "text/x-python",
   "name": "python",
   "nbconvert_exporter": "python",
   "pygments_lexer": "ipython3",
   "version": "3.11.7"
  }
 },
 "nbformat": 4,
 "nbformat_minor": 2
}
