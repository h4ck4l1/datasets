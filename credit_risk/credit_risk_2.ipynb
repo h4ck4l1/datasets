{
 "cells": [
  {
   "cell_type": "code",
   "execution_count": 1,
   "metadata": {},
   "outputs": [
    {
     "data": {
      "text/plain": [
       "'بِسْمِ اللهِ الرَّحْمٰنِ الرَّحِيْمِ'"
      ]
     },
     "execution_count": 1,
     "metadata": {},
     "output_type": "execute_result"
    }
   ],
   "source": [
    "'''بِسْمِ اللهِ الرَّحْمٰنِ الرَّحِيْمِ'''"
   ]
  },
  {
   "cell_type": "code",
   "execution_count": 2,
   "metadata": {},
   "outputs": [
    {
     "data": {
      "text/plain": [
       "'سُبْحَـٰنَكَ لَا عِلْمَ لَنَآ إِلَّا مَا عَلَّمْتَنَآ ۖ إِنَّكَ أَنتَ الْعَلِيمُ الْحَكِيمُ'"
      ]
     },
     "execution_count": 2,
     "metadata": {},
     "output_type": "execute_result"
    }
   ],
   "source": [
    "'''سُبْحَـٰنَكَ لَا عِلْمَ لَنَآ إِلَّا مَا عَلَّمْتَنَآ ۖ إِنَّكَ أَنتَ الْعَلِيمُ الْحَكِيمُ'''"
   ]
  },
  {
   "cell_type": "code",
   "execution_count": 3,
   "metadata": {},
   "outputs": [
    {
     "data": {
      "text/plain": [
       "12"
      ]
     },
     "execution_count": 3,
     "metadata": {},
     "output_type": "execute_result"
    }
   ],
   "source": [
    "import os,sys,time,re,math,gc,warnings\n",
    "warnings.filterwarnings(\"ignore\")\n",
    "from IPython.display import clear_output\n",
    "os.cpu_count()"
   ]
  },
  {
   "cell_type": "code",
   "execution_count": 4,
   "metadata": {},
   "outputs": [
    {
     "name": "stdout",
     "output_type": "stream",
     "text": [
      "Exception reporting mode: Minimal\n"
     ]
    }
   ],
   "source": [
    "os.environ[\"POLARS_MAX_THREADS\"] = \"40\"\n",
    "from pathlib import Path\n",
    "from tqdm import tqdm\n",
    "from concurrent.futures import ThreadPoolExecutor,wait\n",
    "import numpy as np\n",
    "import pandas as pd\n",
    "import polars as pl\n",
    "import polars.selectors as cs\n",
    "import plotly.express as px\n",
    "import plotly.graph_objects as go\n",
    "import plotly.io as pio\n",
    "pio.templates[\"mod\"] = go.layout.Template(layout=dict(font=dict(family=\"Monaco\")))\n",
    "pio.templates.default = \"mod+plotly_dark\"\n",
    "from plotly.subplots import make_subplots\n",
    "from sklearn.metrics import auc,roc_auc_score\n",
    "%xmode Minimal"
   ]
  },
  {
   "cell_type": "code",
   "execution_count": 5,
   "metadata": {},
   "outputs": [
    {
     "data": {
      "text/plain": [
       "polars.config.Config"
      ]
     },
     "execution_count": 5,
     "metadata": {},
     "output_type": "execute_result"
    }
   ],
   "source": [
    "pl.Config.set_fmt_str_lengths(100)\n",
    "pl.Config.set_float_precision(2)\n",
    "pl.Config.set_fmt_float(\"full\")\n",
    "pl.Config.set_tbl_rows(10)"
   ]
  },
  {
   "cell_type": "code",
   "execution_count": 6,
   "metadata": {},
   "outputs": [],
   "source": [
    "train_previous_application_columns = [\n",
    "    'education_1138M',\n",
    "    'rejectreasonclient_4145042M',\n",
    "    'district_544M',\n",
    "    'num_group1',\n",
    "    'rejectreason_755M',\n",
    "    'postype_4733339M',\n",
    "    'cancelreason_3545846M'\n",
    "    ]\n",
    "train_previous_application_status_columns = [\n",
    "    'num_group1',\n",
    "    'num_group2'\n",
    "    ]\n",
    "train_total_static_columns = [\n",
    "    'mobilephncnt_593L',\n",
    "    'lastrejectreasonclient_4145040M',\n",
    "    'lastapprcommoditycat_1041M',\n",
    "    'credamount_770A',\n",
    "    'numrejects9m_859L',\n",
    "    'homephncnt_628L',\n",
    "    'disbursedcredamount_1113A',\n",
    "    'lastrejectreason_759M',\n",
    "    'numnotactivated_1143L',\n",
    "    'sellerplacecnt_915L',\n",
    "    'numcontrs3months_479L',\n",
    "    'annuity_780A',\n",
    "    'clientscnt_533L',\n",
    "    'applications30d_658L',\n",
    "    'lastcancelreason_561M',\n",
    "    'lastrejectcommoditycat_161M',\n",
    "    'deferredmnthsnum_166L',\n",
    "    'numactivecredschannel_414L'\n",
    "    ]\n",
    "train_static_depth_columns = [\n",
    "    'education_1103M',\n",
    "    'education_88M',\n",
    "    'maritalst_385M',\n",
    "    'description_5085714M',\n",
    "    'maritalst_893M'\n",
    "    ]\n",
    "train_debit_columns = None\n",
    "train_deposit_columns = [\"amount_416A\"]\n",
    "train_person_1_columns = [\n",
    "    'education_927M',\n",
    "    'registaddr_district_1083M',\n",
    "    'contaddr_district_15M',\n",
    "    'empladdr_district_926M',\n",
    "    'empladdr_zipcode_114M',\n",
    "    'language1_981M'\n",
    "    ]\n",
    "train_person_2_columns = ['addres_zip_823M', 'addres_district_368M']\n",
    "train_other_columns = ['amtdepositbalance_4809441A']\n",
    "train_tax_registry_1_columns = ['amount_4527230A']\n",
    "train_tax_registry_2_columns = ['amount_4917619A']\n",
    "train_tax_registry_3_columns = ['pmtamount_36A']\n",
    "train_credit_internal_columns = ['contractst_545M',\n",
    " 'contractst_964M',\n",
    " 'financialinstitution_382M',\n",
    " 'classificationofcontr_400M',\n",
    " 'purposeofcred_874M',\n",
    " 'description_351M',\n",
    " 'financialinstitution_591M']"
   ]
  },
  {
   "cell_type": "code",
   "execution_count": 7,
   "metadata": {},
   "outputs": [
    {
     "data": {
      "text/html": [
       "<div><style>\n",
       ".dataframe > thead > tr,\n",
       ".dataframe > tbody > tr {\n",
       "  text-align: right;\n",
       "  white-space: pre-wrap;\n",
       "}\n",
       "</style>\n",
       "<small>shape: (5, 5)</small><table border=\"1\" class=\"dataframe\"><thead><tr><th>case_id_base</th><th>month</th><th>week</th><th>year</th><th>target</th></tr><tr><td>u32</td><td>u8</td><td>u8</td><td>u16</td><td>u8</td></tr></thead><tbody><tr><td>0</td><td>1</td><td>1</td><td>2019</td><td>0</td></tr><tr><td>1</td><td>1</td><td>1</td><td>2019</td><td>0</td></tr><tr><td>2</td><td>1</td><td>1</td><td>2019</td><td>0</td></tr><tr><td>3</td><td>1</td><td>1</td><td>2019</td><td>0</td></tr><tr><td>4</td><td>1</td><td>1</td><td>2019</td><td>1</td></tr></tbody></table></div>"
      ],
      "text/plain": [
       "shape: (5, 5)\n",
       "┌──────────────┬───────┬──────┬──────┬────────┐\n",
       "│ case_id_base ┆ month ┆ week ┆ year ┆ target │\n",
       "│ ---          ┆ ---   ┆ ---  ┆ ---  ┆ ---    │\n",
       "│ u32          ┆ u8    ┆ u8   ┆ u16  ┆ u8     │\n",
       "╞══════════════╪═══════╪══════╪══════╪════════╡\n",
       "│ 0            ┆ 1     ┆ 1    ┆ 2019 ┆ 0      │\n",
       "│ 1            ┆ 1     ┆ 1    ┆ 2019 ┆ 0      │\n",
       "│ 2            ┆ 1     ┆ 1    ┆ 2019 ┆ 0      │\n",
       "│ 3            ┆ 1     ┆ 1    ┆ 2019 ┆ 0      │\n",
       "│ 4            ┆ 1     ┆ 1    ┆ 2019 ┆ 1      │\n",
       "└──────────────┴───────┴──────┴──────┴────────┘"
      ]
     },
     "execution_count": 7,
     "metadata": {},
     "output_type": "execute_result"
    }
   ],
   "source": [
    "train_base = (\n",
    "    pl.scan_parquet(\"Downloads/credit_risk/train/train_base.parquet\")\n",
    "    .drop([\"MONTH\",\"WEEK_NUM\"])\n",
    "    .select(\n",
    "        pl.col(\"case_id\").cast(pl.UInt32),\n",
    "        pl.col(\"date_decision\").str.to_datetime().dt.month().cast(pl.UInt8).alias(\"month\"),\n",
    "        pl.col(\"date_decision\").str.to_datetime().dt.week().cast(pl.UInt8).alias(\"week\"),\n",
    "        pl.col(\"date_decision\").str.to_datetime().dt.year().cast(pl.UInt16).alias(\"year\"),\n",
    "        pl.col(\"target\").cast(pl.UInt8)\n",
    "    )\n",
    "    .drop(\"date_decision\")\n",
    "    .rename({\"case_id\":\"case_id_base\"})\n",
    ")\n",
    "train_base.fetch().head()"
   ]
  },
  {
   "cell_type": "code",
   "execution_count": 8,
   "metadata": {},
   "outputs": [],
   "source": [
    "def rem_case_ids(df):\n",
    "    def get_var_name(df):\n",
    "        for name,value in globals().items():\n",
    "            if value is df:\n",
    "                return name\n",
    "\n",
    "    return (\n",
    "        df\n",
    "        .select(pl.col(\"case_id\").unique())\n",
    "        .with_context(\n",
    "            train_base.select([\"case_id_base\",\"target\"])\n",
    "        )\n",
    "        .select(\n",
    "            pl.col(\"case_id_base\").is_in(pl.col(\"case_id\")).cast(pl.UInt8).mean().alias(f\"% of train_base case_ids in {get_var_name(df)}\")\n",
    "        )\n",
    "        .collect(streaming=True)\n",
    "    )"
   ]
  },
  {
   "cell_type": "code",
   "execution_count": 9,
   "metadata": {},
   "outputs": [
    {
     "data": {
      "text/html": [
       "<div><style>\n",
       ".dataframe > thead > tr,\n",
       ".dataframe > tbody > tr {\n",
       "  text-align: right;\n",
       "  white-space: pre-wrap;\n",
       "}\n",
       "</style>\n",
       "<small>shape: (5, 8)</small><table border=\"1\" class=\"dataframe\"><thead><tr><th>case_id</th><th>education_1138M</th><th>rejectreasonclient_4145042M</th><th>district_544M</th><th>num_group1</th><th>rejectreason_755M</th><th>postype_4733339M</th><th>cancelreason_3545846M</th></tr><tr><td>u32</td><td>cat</td><td>cat</td><td>cat</td><td>i8</td><td>cat</td><td>cat</td><td>cat</td></tr></thead><tbody><tr><td>2</td><td>&quot;P97_36_170&quot;</td><td>&quot;a55475b1&quot;</td><td>&quot;P136_108_173&quot;</td><td>0</td><td>&quot;a55475b1&quot;</td><td>&quot;a55475b1&quot;</td><td>&quot;a55475b1&quot;</td></tr><tr><td>2</td><td>&quot;P97_36_170&quot;</td><td>&quot;a55475b1&quot;</td><td>&quot;P136_108_173&quot;</td><td>1</td><td>&quot;a55475b1&quot;</td><td>&quot;a55475b1&quot;</td><td>&quot;a55475b1&quot;</td></tr><tr><td>3</td><td>&quot;P97_36_170&quot;</td><td>&quot;a55475b1&quot;</td><td>&quot;P131_33_167&quot;</td><td>0</td><td>&quot;P94_109_143&quot;</td><td>&quot;a55475b1&quot;</td><td>&quot;P94_109_143&quot;</td></tr><tr><td>4</td><td>&quot;a55475b1&quot;</td><td>&quot;a55475b1&quot;</td><td>&quot;P194_82_174&quot;</td><td>0</td><td>&quot;a55475b1&quot;</td><td>&quot;a55475b1&quot;</td><td>&quot;P24_27_36&quot;</td></tr><tr><td>5</td><td>&quot;a55475b1&quot;</td><td>&quot;a55475b1&quot;</td><td>&quot;P54_133_26&quot;</td><td>0</td><td>&quot;a55475b1&quot;</td><td>&quot;a55475b1&quot;</td><td>&quot;P85_114_140&quot;</td></tr></tbody></table></div>"
      ],
      "text/plain": [
       "shape: (5, 8)\n",
       "┌─────────┬────────────┬────────────┬────────────┬────────────┬────────────┬───────────┬───────────┐\n",
       "│ case_id ┆ education_ ┆ rejectreas ┆ district_5 ┆ num_group1 ┆ rejectreas ┆ postype_4 ┆ cancelrea │\n",
       "│ ---     ┆ 1138M      ┆ onclient_4 ┆ 44M        ┆ ---        ┆ on_755M    ┆ 733339M   ┆ son_35458 │\n",
       "│ u32     ┆ ---        ┆ 145042M    ┆ ---        ┆ i8         ┆ ---        ┆ ---       ┆ 46M       │\n",
       "│         ┆ cat        ┆ ---        ┆ cat        ┆            ┆ cat        ┆ cat       ┆ ---       │\n",
       "│         ┆            ┆ cat        ┆            ┆            ┆            ┆           ┆ cat       │\n",
       "╞═════════╪════════════╪════════════╪════════════╪════════════╪════════════╪═══════════╪═══════════╡\n",
       "│ 2       ┆ P97_36_170 ┆ a55475b1   ┆ P136_108_1 ┆ 0          ┆ a55475b1   ┆ a55475b1  ┆ a55475b1  │\n",
       "│         ┆            ┆            ┆ 73         ┆            ┆            ┆           ┆           │\n",
       "│ 2       ┆ P97_36_170 ┆ a55475b1   ┆ P136_108_1 ┆ 1          ┆ a55475b1   ┆ a55475b1  ┆ a55475b1  │\n",
       "│         ┆            ┆            ┆ 73         ┆            ┆            ┆           ┆           │\n",
       "│ 3       ┆ P97_36_170 ┆ a55475b1   ┆ P131_33_16 ┆ 0          ┆ P94_109_14 ┆ a55475b1  ┆ P94_109_1 │\n",
       "│         ┆            ┆            ┆ 7          ┆            ┆ 3          ┆           ┆ 43        │\n",
       "│ 4       ┆ a55475b1   ┆ a55475b1   ┆ P194_82_17 ┆ 0          ┆ a55475b1   ┆ a55475b1  ┆ P24_27_36 │\n",
       "│         ┆            ┆            ┆ 4          ┆            ┆            ┆           ┆           │\n",
       "│ 5       ┆ a55475b1   ┆ a55475b1   ┆ P54_133_26 ┆ 0          ┆ a55475b1   ┆ a55475b1  ┆ P85_114_1 │\n",
       "│         ┆            ┆            ┆            ┆            ┆            ┆           ┆ 40        │\n",
       "└─────────┴────────────┴────────────┴────────────┴────────────┴────────────┴───────────┴───────────┘"
      ]
     },
     "metadata": {},
     "output_type": "display_data"
    },
    {
     "data": {
      "text/html": [
       "<div><style>\n",
       ".dataframe > thead > tr,\n",
       ".dataframe > tbody > tr {\n",
       "  text-align: right;\n",
       "  white-space: pre-wrap;\n",
       "}\n",
       "</style>\n",
       "<small>shape: (1, 1)</small><table border=\"1\" class=\"dataframe\"><thead><tr><th>% of train_base case_ids in train_previous_application</th></tr><tr><td>f64</td></tr></thead><tbody><tr><td>0.80</td></tr></tbody></table></div>"
      ],
      "text/plain": [
       "shape: (1, 1)\n",
       "┌────────────────────────────────────────────────────────┐\n",
       "│ % of train_base case_ids in train_previous_application │\n",
       "│ ---                                                    │\n",
       "│ f64                                                    │\n",
       "╞════════════════════════════════════════════════════════╡\n",
       "│ 0.80                                                   │\n",
       "└────────────────────────────────────────────────────────┘"
      ]
     },
     "execution_count": 9,
     "metadata": {},
     "output_type": "execute_result"
    }
   ],
   "source": [
    "train_previous_application =(\n",
    "    pl.scan_parquet(Path(\"Downloads/credit_risk/train/train_applprev_1_*.parquet\"))\n",
    "    .select([\"case_id\"]+train_previous_application_columns)\n",
    "    .select(pl.all().shrink_dtype())\n",
    "    .with_columns(pl.col(\"case_id\").cast(pl.UInt32),pl.col(pl.String).cast(pl.Categorical))\n",
    ")\n",
    "display(train_previous_application.fetch().head())\n",
    "train_previous_application.pipe(rem_case_ids)"
   ]
  },
  {
   "cell_type": "code",
   "execution_count": 10,
   "metadata": {},
   "outputs": [
    {
     "data": {
      "text/html": [
       "<div><style>\n",
       ".dataframe > thead > tr,\n",
       ".dataframe > tbody > tr {\n",
       "  text-align: right;\n",
       "  white-space: pre-wrap;\n",
       "}\n",
       "</style>\n",
       "<small>shape: (5, 3)</small><table border=\"1\" class=\"dataframe\"><thead><tr><th>case_id</th><th>num_group1</th><th>num_group2</th></tr><tr><td>u32</td><td>i8</td><td>i8</td></tr></thead><tbody><tr><td>2</td><td>1</td><td>1</td></tr><tr><td>2</td><td>0</td><td>1</td></tr><tr><td>2</td><td>0</td><td>0</td></tr><tr><td>2</td><td>1</td><td>0</td></tr><tr><td>3</td><td>0</td><td>1</td></tr></tbody></table></div>"
      ],
      "text/plain": [
       "shape: (5, 3)\n",
       "┌─────────┬────────────┬────────────┐\n",
       "│ case_id ┆ num_group1 ┆ num_group2 │\n",
       "│ ---     ┆ ---        ┆ ---        │\n",
       "│ u32     ┆ i8         ┆ i8         │\n",
       "╞═════════╪════════════╪════════════╡\n",
       "│ 2       ┆ 1          ┆ 1          │\n",
       "│ 2       ┆ 0          ┆ 1          │\n",
       "│ 2       ┆ 0          ┆ 0          │\n",
       "│ 2       ┆ 1          ┆ 0          │\n",
       "│ 3       ┆ 0          ┆ 1          │\n",
       "└─────────┴────────────┴────────────┘"
      ]
     },
     "metadata": {},
     "output_type": "display_data"
    },
    {
     "data": {
      "text/html": [
       "<div><style>\n",
       ".dataframe > thead > tr,\n",
       ".dataframe > tbody > tr {\n",
       "  text-align: right;\n",
       "  white-space: pre-wrap;\n",
       "}\n",
       "</style>\n",
       "<small>shape: (1, 1)</small><table border=\"1\" class=\"dataframe\"><thead><tr><th>% of train_base case_ids in train_previous_application_status</th></tr><tr><td>f64</td></tr></thead><tbody><tr><td>0.80</td></tr></tbody></table></div>"
      ],
      "text/plain": [
       "shape: (1, 1)\n",
       "┌───────────────────────────────────────────────────────────────┐\n",
       "│ % of train_base case_ids in train_previous_application_status │\n",
       "│ ---                                                           │\n",
       "│ f64                                                           │\n",
       "╞═══════════════════════════════════════════════════════════════╡\n",
       "│ 0.80                                                          │\n",
       "└───────────────────────────────────────────────────────────────┘"
      ]
     },
     "execution_count": 10,
     "metadata": {},
     "output_type": "execute_result"
    }
   ],
   "source": [
    "train_previous_application_status = (\n",
    "    pl.scan_parquet(\"Downloads/credit_risk/train/train_applprev_2.parquet\")\n",
    "    .select([\"case_id\"]+train_previous_application_status_columns)\n",
    "    .with_columns(pl.all().shrink_dtype())\n",
    "    .with_columns(pl.col(\"case_id\").cast(pl.UInt32),pl.col(pl.String).cast(pl.Categorical))\n",
    ")\n",
    "display(train_previous_application_status.fetch().head())\n",
    "train_previous_application_status.pipe(rem_case_ids)"
   ]
  },
  {
   "cell_type": "code",
   "execution_count": 11,
   "metadata": {},
   "outputs": [
    {
     "data": {
      "text/html": [
       "<div><style>\n",
       ".dataframe > thead > tr,\n",
       ".dataframe > tbody > tr {\n",
       "  text-align: right;\n",
       "  white-space: pre-wrap;\n",
       "}\n",
       "</style>\n",
       "<small>shape: (5, 19)</small><table border=\"1\" class=\"dataframe\"><thead><tr><th>case_id</th><th>mobilephncnt 593L</th><th>lastrejectreasonclient 4145040M</th><th>lastapprcommoditycat 1041M</th><th>credamount 770A</th><th>numrejects9m 859L</th><th>homephncnt 628L</th><th>disbursedcredamount 1113A</th><th>lastrejectreason 759M</th><th>numnotactivated 1143L</th><th>sellerplacecnt 915L</th><th>numcontrs3months 479L</th><th>annuity 780A</th><th>clientscnt 533L</th><th>applications30d 658L</th><th>lastcancelreason 561M</th><th>lastrejectcommoditycat 161M</th><th>deferredmnthsnum 166L</th><th>numactivecredschannel 414L</th></tr><tr><td>u32</td><td>f32</td><td>cat</td><td>cat</td><td>f32</td><td>f32</td><td>f32</td><td>f32</td><td>cat</td><td>f32</td><td>f32</td><td>f32</td><td>f32</td><td>f32</td><td>f32</td><td>cat</td><td>cat</td><td>f32</td><td>f32</td></tr></thead><tbody><tr><td>0</td><td>1.00</td><td>&quot;a55475b1&quot;</td><td>&quot;a55475b1&quot;</td><td>30000.00</td><td>0.00</td><td>0.00</td><td>30000.00</td><td>&quot;a55475b1&quot;</td><td>0.00</td><td>0.00</td><td>0.00</td><td>1917.60</td><td>0.00</td><td>0.00</td><td>&quot;a55475b1&quot;</td><td>&quot;a55475b1&quot;</td><td>0.00</td><td>0.00</td></tr><tr><td>1</td><td>1.00</td><td>&quot;a55475b1&quot;</td><td>&quot;a55475b1&quot;</td><td>19999.80</td><td>0.00</td><td>0.00</td><td>19999.80</td><td>&quot;a55475b1&quot;</td><td>0.00</td><td>0.00</td><td>0.00</td><td>3134.00</td><td>0.00</td><td>0.00</td><td>&quot;a55475b1&quot;</td><td>&quot;a55475b1&quot;</td><td>0.00</td><td>0.00</td></tr><tr><td>2</td><td>2.00</td><td>&quot;a55475b1&quot;</td><td>&quot;a55475b1&quot;</td><td>78000.00</td><td>0.00</td><td>1.00</td><td>78000.00</td><td>&quot;a55475b1&quot;</td><td>0.00</td><td>0.00</td><td>0.00</td><td>4937.00</td><td>0.00</td><td>0.00</td><td>&quot;a55475b1&quot;</td><td>&quot;a55475b1&quot;</td><td>0.00</td><td>0.00</td></tr><tr><td>3</td><td>1.00</td><td>&quot;a55475b1&quot;</td><td>&quot;a55475b1&quot;</td><td>40000.00</td><td>1.00</td><td>0.00</td><td>40000.00</td><td>&quot;P94_109_143&quot;</td><td>0.00</td><td>1.00</td><td>1.00</td><td>4643.60</td><td>0.00</td><td>1.00</td><td>&quot;P94_109_143&quot;</td><td>&quot;a55475b1&quot;</td><td>0.00</td><td>0.00</td></tr><tr><td>4</td><td>1.00</td><td>&quot;a55475b1&quot;</td><td>&quot;a55475b1&quot;</td><td>44000.00</td><td>0.00</td><td>1.00</td><td>44000.00</td><td>&quot;a55475b1&quot;</td><td>0.00</td><td>0.00</td><td>0.00</td><td>3390.20</td><td>0.00</td><td>1.00</td><td>&quot;P24_27_36&quot;</td><td>&quot;a55475b1&quot;</td><td>0.00</td><td>0.00</td></tr></tbody></table></div>"
      ],
      "text/plain": [
       "shape: (5, 19)\n",
       "┌─────────┬────────────┬───────────┬───────────┬───┬───────────┬───────────┬───────────┬───────────┐\n",
       "│ case_id ┆ mobilephnc ┆ lastrejec ┆ lastapprc ┆ … ┆ lastcance ┆ lastrejec ┆ deferredm ┆ numactive │\n",
       "│ ---     ┆ nt 593L    ┆ treasoncl ┆ ommodityc ┆   ┆ lreason   ┆ tcommodit ┆ nthsnum   ┆ credschan │\n",
       "│ u32     ┆ ---        ┆ ient      ┆ at 1041M  ┆   ┆ 561M      ┆ ycat 161M ┆ 166L      ┆ nel 414L  │\n",
       "│         ┆ f32        ┆ 4145040M  ┆ ---       ┆   ┆ ---       ┆ ---       ┆ ---       ┆ ---       │\n",
       "│         ┆            ┆ ---       ┆ cat       ┆   ┆ cat       ┆ cat       ┆ f32       ┆ f32       │\n",
       "│         ┆            ┆ cat       ┆           ┆   ┆           ┆           ┆           ┆           │\n",
       "╞═════════╪════════════╪═══════════╪═══════════╪═══╪═══════════╪═══════════╪═══════════╪═══════════╡\n",
       "│ 0       ┆ 1.00       ┆ a55475b1  ┆ a55475b1  ┆ … ┆ a55475b1  ┆ a55475b1  ┆ 0.00      ┆ 0.00      │\n",
       "│ 1       ┆ 1.00       ┆ a55475b1  ┆ a55475b1  ┆ … ┆ a55475b1  ┆ a55475b1  ┆ 0.00      ┆ 0.00      │\n",
       "│ 2       ┆ 2.00       ┆ a55475b1  ┆ a55475b1  ┆ … ┆ a55475b1  ┆ a55475b1  ┆ 0.00      ┆ 0.00      │\n",
       "│ 3       ┆ 1.00       ┆ a55475b1  ┆ a55475b1  ┆ … ┆ P94_109_1 ┆ a55475b1  ┆ 0.00      ┆ 0.00      │\n",
       "│         ┆            ┆           ┆           ┆   ┆ 43        ┆           ┆           ┆           │\n",
       "│ 4       ┆ 1.00       ┆ a55475b1  ┆ a55475b1  ┆ … ┆ P24_27_36 ┆ a55475b1  ┆ 0.00      ┆ 0.00      │\n",
       "└─────────┴────────────┴───────────┴───────────┴───┴───────────┴───────────┴───────────┴───────────┘"
      ]
     },
     "metadata": {},
     "output_type": "display_data"
    },
    {
     "data": {
      "text/html": [
       "<div><style>\n",
       ".dataframe > thead > tr,\n",
       ".dataframe > tbody > tr {\n",
       "  text-align: right;\n",
       "  white-space: pre-wrap;\n",
       "}\n",
       "</style>\n",
       "<small>shape: (1, 1)</small><table border=\"1\" class=\"dataframe\"><thead><tr><th>% of train_base case_ids in train_static_total</th></tr><tr><td>f64</td></tr></thead><tbody><tr><td>1.00</td></tr></tbody></table></div>"
      ],
      "text/plain": [
       "shape: (1, 1)\n",
       "┌────────────────────────────────────────────────┐\n",
       "│ % of train_base case_ids in train_static_total │\n",
       "│ ---                                            │\n",
       "│ f64                                            │\n",
       "╞════════════════════════════════════════════════╡\n",
       "│ 1.00                                           │\n",
       "└────────────────────────────────────────────────┘"
      ]
     },
     "execution_count": 11,
     "metadata": {},
     "output_type": "execute_result"
    }
   ],
   "source": [
    "train_static_total = (\n",
    "    pl.scan_parquet(\"Downloads/credit_risk/train/train_static_0_*.parquet\")\n",
    "    .select([\"case_id\"]+train_total_static_columns)\n",
    "    .with_columns(\n",
    "        pl.col(\"case_id\").cast(pl.UInt32),\n",
    "        cs.string().cast(pl.Categorical),\n",
    "        cs.float().cast(pl.Float32)\n",
    "    )\n",
    "    .pipe(lambda df: df.rename({_:\" \".join(_.split(\"_\")) for _ in df.columns if _ != 'case_id'}))\n",
    ")\n",
    "display(train_static_total.fetch().head())\n",
    "train_static_total.pipe(rem_case_ids)"
   ]
  },
  {
   "cell_type": "code",
   "execution_count": 12,
   "metadata": {},
   "outputs": [
    {
     "data": {
      "text/html": [
       "<div><style>\n",
       ".dataframe > thead > tr,\n",
       ".dataframe > tbody > tr {\n",
       "  text-align: right;\n",
       "  white-space: pre-wrap;\n",
       "}\n",
       "</style>\n",
       "<small>shape: (5, 6)</small><table border=\"1\" class=\"dataframe\"><thead><tr><th>case_id</th><th>education 1103M</th><th>education 88M</th><th>maritalst 385M</th><th>description 5085714M</th><th>maritalst 893M</th></tr><tr><td>u32</td><td>cat</td><td>cat</td><td>cat</td><td>cat</td><td>cat</td></tr></thead><tbody><tr><td>357</td><td>&quot;a55475b1&quot;</td><td>&quot;a55475b1&quot;</td><td>&quot;a55475b1&quot;</td><td>&quot;a55475b1&quot;</td><td>&quot;a55475b1&quot;</td></tr><tr><td>381</td><td>&quot;a55475b1&quot;</td><td>&quot;a55475b1&quot;</td><td>&quot;a55475b1&quot;</td><td>&quot;a55475b1&quot;</td><td>&quot;a55475b1&quot;</td></tr><tr><td>388</td><td>&quot;a55475b1&quot;</td><td>&quot;a55475b1&quot;</td><td>&quot;a55475b1&quot;</td><td>&quot;a55475b1&quot;</td><td>&quot;a55475b1&quot;</td></tr><tr><td>405</td><td>&quot;a55475b1&quot;</td><td>&quot;a55475b1&quot;</td><td>&quot;a55475b1&quot;</td><td>&quot;a55475b1&quot;</td><td>&quot;a55475b1&quot;</td></tr><tr><td>409</td><td>&quot;717ddd49&quot;</td><td>&quot;a55475b1&quot;</td><td>&quot;a7fcb6e5&quot;</td><td>&quot;a55475b1&quot;</td><td>&quot;a55475b1&quot;</td></tr></tbody></table></div>"
      ],
      "text/plain": [
       "shape: (5, 6)\n",
       "┌─────────┬─────────────────┬───────────────┬────────────────┬─────────────┬────────────────┐\n",
       "│ case_id ┆ education 1103M ┆ education 88M ┆ maritalst 385M ┆ description ┆ maritalst 893M │\n",
       "│ ---     ┆ ---             ┆ ---           ┆ ---            ┆ 5085714M    ┆ ---            │\n",
       "│ u32     ┆ cat             ┆ cat           ┆ cat            ┆ ---         ┆ cat            │\n",
       "│         ┆                 ┆               ┆                ┆ cat         ┆                │\n",
       "╞═════════╪═════════════════╪═══════════════╪════════════════╪═════════════╪════════════════╡\n",
       "│ 357     ┆ a55475b1        ┆ a55475b1      ┆ a55475b1       ┆ a55475b1    ┆ a55475b1       │\n",
       "│ 381     ┆ a55475b1        ┆ a55475b1      ┆ a55475b1       ┆ a55475b1    ┆ a55475b1       │\n",
       "│ 388     ┆ a55475b1        ┆ a55475b1      ┆ a55475b1       ┆ a55475b1    ┆ a55475b1       │\n",
       "│ 405     ┆ a55475b1        ┆ a55475b1      ┆ a55475b1       ┆ a55475b1    ┆ a55475b1       │\n",
       "│ 409     ┆ 717ddd49        ┆ a55475b1      ┆ a7fcb6e5       ┆ a55475b1    ┆ a55475b1       │\n",
       "└─────────┴─────────────────┴───────────────┴────────────────┴─────────────┴────────────────┘"
      ]
     },
     "metadata": {},
     "output_type": "display_data"
    },
    {
     "data": {
      "text/html": [
       "<div><style>\n",
       ".dataframe > thead > tr,\n",
       ".dataframe > tbody > tr {\n",
       "  text-align: right;\n",
       "  white-space: pre-wrap;\n",
       "}\n",
       "</style>\n",
       "<small>shape: (1, 1)</small><table border=\"1\" class=\"dataframe\"><thead><tr><th>% of train_base case_ids in train_static_depth</th></tr><tr><td>f64</td></tr></thead><tbody><tr><td>0.98</td></tr></tbody></table></div>"
      ],
      "text/plain": [
       "shape: (1, 1)\n",
       "┌────────────────────────────────────────────────┐\n",
       "│ % of train_base case_ids in train_static_depth │\n",
       "│ ---                                            │\n",
       "│ f64                                            │\n",
       "╞════════════════════════════════════════════════╡\n",
       "│ 0.98                                           │\n",
       "└────────────────────────────────────────────────┘"
      ]
     },
     "execution_count": 12,
     "metadata": {},
     "output_type": "execute_result"
    }
   ],
   "source": [
    "train_static_depth = (\n",
    "    pl.scan_parquet(\"Downloads/credit_risk/train/train_static_cb_0.parquet\")\n",
    "    .select([\"case_id\"]+train_static_depth_columns)\n",
    "    .with_columns(\n",
    "        pl.col(\"case_id\").cast(pl.UInt32),\n",
    "        cs.string().cast(pl.Categorical),\n",
    "        cs.float().cast(pl.Float32)\n",
    "    )\n",
    "    .pipe(lambda df: df.rename({_:\" \".join(_.split(\"_\")) for _ in df.columns if _ != 'case_id'}))\n",
    ")\n",
    "display(train_static_depth.fetch().head())\n",
    "train_static_depth.pipe(rem_case_ids)"
   ]
  },
  {
   "cell_type": "code",
   "execution_count": 13,
   "metadata": {},
   "outputs": [
    {
     "data": {
      "text/html": [
       "<div><style>\n",
       ".dataframe > thead > tr,\n",
       ".dataframe > tbody > tr {\n",
       "  text-align: right;\n",
       "  white-space: pre-wrap;\n",
       "}\n",
       "</style>\n",
       "<small>shape: (5, 2)</small><table border=\"1\" class=\"dataframe\"><thead><tr><th>case_id</th><th>amount 416A</th></tr><tr><td>u32</td><td>f32</td></tr></thead><tbody><tr><td>225</td><td>0.00</td></tr><tr><td>331</td><td>260.37</td></tr><tr><td>358</td><td>0.00</td></tr><tr><td>390</td><td>211748.53</td></tr><tr><td>390</td><td>223.68</td></tr></tbody></table></div>"
      ],
      "text/plain": [
       "shape: (5, 2)\n",
       "┌─────────┬─────────────┐\n",
       "│ case_id ┆ amount 416A │\n",
       "│ ---     ┆ ---         │\n",
       "│ u32     ┆ f32         │\n",
       "╞═════════╪═════════════╡\n",
       "│ 225     ┆ 0.00        │\n",
       "│ 331     ┆ 260.37      │\n",
       "│ 358     ┆ 0.00        │\n",
       "│ 390     ┆ 211748.53   │\n",
       "│ 390     ┆ 223.68      │\n",
       "└─────────┴─────────────┘"
      ]
     },
     "metadata": {},
     "output_type": "display_data"
    },
    {
     "data": {
      "text/html": [
       "<div><style>\n",
       ".dataframe > thead > tr,\n",
       ".dataframe > tbody > tr {\n",
       "  text-align: right;\n",
       "  white-space: pre-wrap;\n",
       "}\n",
       "</style>\n",
       "<small>shape: (1, 1)</small><table border=\"1\" class=\"dataframe\"><thead><tr><th>% of train_base case_ids in train_deposit</th></tr><tr><td>f64</td></tr></thead><tbody><tr><td>0.07</td></tr></tbody></table></div>"
      ],
      "text/plain": [
       "shape: (1, 1)\n",
       "┌───────────────────────────────────────────┐\n",
       "│ % of train_base case_ids in train_deposit │\n",
       "│ ---                                       │\n",
       "│ f64                                       │\n",
       "╞═══════════════════════════════════════════╡\n",
       "│ 0.07                                      │\n",
       "└───────────────────────────────────────────┘"
      ]
     },
     "execution_count": 13,
     "metadata": {},
     "output_type": "execute_result"
    }
   ],
   "source": [
    "train_deposit = (\n",
    "    pl.scan_parquet(\"Downloads/credit_risk/train/train_deposit_1.parquet\")\n",
    "    .select([\"case_id\"]+train_deposit_columns)\n",
    "    .with_columns(\n",
    "        pl.col(\"case_id\").cast(pl.UInt32),\n",
    "        cs.float().cast(pl.Float32)\n",
    "    )\n",
    "    .pipe(lambda df: df.rename({_:\" \".join(_.split(\"_\")) for _ in df.columns if _ != 'case_id'}))\n",
    ")\n",
    "display(train_deposit.fetch().head())\n",
    "train_deposit.pipe(rem_case_ids)"
   ]
  },
  {
   "cell_type": "code",
   "execution_count": 14,
   "metadata": {},
   "outputs": [
    {
     "data": {
      "text/html": [
       "<div><style>\n",
       ".dataframe > thead > tr,\n",
       ".dataframe > tbody > tr {\n",
       "  text-align: right;\n",
       "  white-space: pre-wrap;\n",
       "}\n",
       "</style>\n",
       "<small>shape: (5, 10)</small><table border=\"1\" class=\"dataframe\"><thead><tr><th>case_id</th><th>education 927M</th><th>registaddr district 1083M</th><th>contaddr district 15M</th><th>empladdr district 926M</th><th>empladdr zipcode 114M</th><th>language1 981M</th><th>personindex 1023L</th><th>persontype 1072L</th><th>persontype 792L</th></tr><tr><td>u32</td><td>cat</td><td>cat</td><td>cat</td><td>cat</td><td>cat</td><td>cat</td><td>u8</td><td>u8</td><td>u8</td></tr></thead><tbody><tr><td>0</td><td>&quot;P97_36_170&quot;</td><td>&quot;P88_18_84&quot;</td><td>&quot;P88_18_84&quot;</td><td>&quot;P142_57_166&quot;</td><td>&quot;P167_100_165&quot;</td><td>&quot;P10_39_147&quot;</td><td>0</td><td>1</td><td>1</td></tr><tr><td>0</td><td>&quot;a55475b1&quot;</td><td>&quot;a55475b1&quot;</td><td>&quot;a55475b1&quot;</td><td>&quot;a55475b1&quot;</td><td>&quot;a55475b1&quot;</td><td>&quot;a55475b1&quot;</td><td>1</td><td>1</td><td>4</td></tr><tr><td>0</td><td>&quot;a55475b1&quot;</td><td>&quot;a55475b1&quot;</td><td>&quot;a55475b1&quot;</td><td>&quot;a55475b1&quot;</td><td>&quot;a55475b1&quot;</td><td>&quot;a55475b1&quot;</td><td>2</td><td>4</td><td>5</td></tr><tr><td>0</td><td>&quot;a55475b1&quot;</td><td>&quot;a55475b1&quot;</td><td>&quot;a55475b1&quot;</td><td>&quot;a55475b1&quot;</td><td>&quot;a55475b1&quot;</td><td>&quot;a55475b1&quot;</td><td>2</td><td>5</td><td>5</td></tr><tr><td>1</td><td>&quot;P97_36_170&quot;</td><td>&quot;P103_93_94&quot;</td><td>&quot;P103_93_94&quot;</td><td>&quot;P49_46_174&quot;</td><td>&quot;P160_59_140&quot;</td><td>&quot;P10_39_147&quot;</td><td>0</td><td>1</td><td>1</td></tr></tbody></table></div>"
      ],
      "text/plain": [
       "shape: (5, 10)\n",
       "┌─────────┬────────────┬───────────┬───────────┬───┬───────────┬───────────┬───────────┬───────────┐\n",
       "│ case_id ┆ education  ┆ registadd ┆ contaddr  ┆ … ┆ language1 ┆ personind ┆ persontyp ┆ persontyp │\n",
       "│ ---     ┆ 927M       ┆ r         ┆ district  ┆   ┆ 981M      ┆ ex 1023L  ┆ e 1072L   ┆ e 792L    │\n",
       "│ u32     ┆ ---        ┆ district  ┆ 15M       ┆   ┆ ---       ┆ ---       ┆ ---       ┆ ---       │\n",
       "│         ┆ cat        ┆ 1083M     ┆ ---       ┆   ┆ cat       ┆ u8        ┆ u8        ┆ u8        │\n",
       "│         ┆            ┆ ---       ┆ cat       ┆   ┆           ┆           ┆           ┆           │\n",
       "│         ┆            ┆ cat       ┆           ┆   ┆           ┆           ┆           ┆           │\n",
       "╞═════════╪════════════╪═══════════╪═══════════╪═══╪═══════════╪═══════════╪═══════════╪═══════════╡\n",
       "│ 0       ┆ P97_36_170 ┆ P88_18_84 ┆ P88_18_84 ┆ … ┆ P10_39_14 ┆ 0         ┆ 1         ┆ 1         │\n",
       "│         ┆            ┆           ┆           ┆   ┆ 7         ┆           ┆           ┆           │\n",
       "│ 0       ┆ a55475b1   ┆ a55475b1  ┆ a55475b1  ┆ … ┆ a55475b1  ┆ 1         ┆ 1         ┆ 4         │\n",
       "│ 0       ┆ a55475b1   ┆ a55475b1  ┆ a55475b1  ┆ … ┆ a55475b1  ┆ 2         ┆ 4         ┆ 5         │\n",
       "│ 0       ┆ a55475b1   ┆ a55475b1  ┆ a55475b1  ┆ … ┆ a55475b1  ┆ 2         ┆ 5         ┆ 5         │\n",
       "│ 1       ┆ P97_36_170 ┆ P103_93_9 ┆ P103_93_9 ┆ … ┆ P10_39_14 ┆ 0         ┆ 1         ┆ 1         │\n",
       "│         ┆            ┆ 4         ┆ 4         ┆   ┆ 7         ┆           ┆           ┆           │\n",
       "└─────────┴────────────┴───────────┴───────────┴───┴───────────┴───────────┴───────────┴───────────┘"
      ]
     },
     "metadata": {},
     "output_type": "display_data"
    },
    {
     "data": {
      "text/html": [
       "<div><style>\n",
       ".dataframe > thead > tr,\n",
       ".dataframe > tbody > tr {\n",
       "  text-align: right;\n",
       "  white-space: pre-wrap;\n",
       "}\n",
       "</style>\n",
       "<small>shape: (1, 1)</small><table border=\"1\" class=\"dataframe\"><thead><tr><th>% of train_base case_ids in train_first_person</th></tr><tr><td>f64</td></tr></thead><tbody><tr><td>1.00</td></tr></tbody></table></div>"
      ],
      "text/plain": [
       "shape: (1, 1)\n",
       "┌────────────────────────────────────────────────┐\n",
       "│ % of train_base case_ids in train_first_person │\n",
       "│ ---                                            │\n",
       "│ f64                                            │\n",
       "╞════════════════════════════════════════════════╡\n",
       "│ 1.00                                           │\n",
       "└────────────────────────────────────────────────┘"
      ]
     },
     "execution_count": 14,
     "metadata": {},
     "output_type": "execute_result"
    }
   ],
   "source": [
    "train_first_person = (\n",
    "    pl.scan_parquet(\"Downloads/credit_risk/train/train_person_1.parquet\")\n",
    "    .select(pl.col(\"case_id\").cast(pl.UInt32),cs.by_name(train_person_1_columns),cs.contains(\"person\"))\n",
    "    .with_columns(cs.string().cast(pl.Categorical),cs.float().cast(pl.UInt8))\n",
    "    .pipe(lambda df: df.rename({_:\" \".join(_.split(\"_\")) for _ in df.columns if not _ == 'case_id'}))\n",
    "    .fill_null(strategy=\"forward\")\n",
    ")\n",
    "display(train_first_person.fetch().head())\n",
    "train_first_person.pipe(rem_case_ids)"
   ]
  },
  {
   "cell_type": "code",
   "execution_count": 15,
   "metadata": {},
   "outputs": [
    {
     "data": {
      "text/html": [
       "<div><style>\n",
       ".dataframe > thead > tr,\n",
       ".dataframe > tbody > tr {\n",
       "  text-align: right;\n",
       "  white-space: pre-wrap;\n",
       "}\n",
       "</style>\n",
       "<small>shape: (5, 3)</small><table border=\"1\" class=\"dataframe\"><thead><tr><th>case_id</th><th>addres zip 823M</th><th>addres district 368M</th></tr><tr><td>u32</td><td>cat</td><td>cat</td></tr></thead><tbody><tr><td>5</td><td>&quot;a55475b1&quot;</td><td>&quot;a55475b1&quot;</td></tr><tr><td>6</td><td>&quot;P10_68_40&quot;</td><td>&quot;P55_110_32&quot;</td></tr><tr><td>6</td><td>&quot;P10_68_40&quot;</td><td>&quot;P55_110_32&quot;</td></tr><tr><td>6</td><td>&quot;P65_136_169&quot;</td><td>&quot;P204_92_178&quot;</td></tr><tr><td>6</td><td>&quot;P10_68_40&quot;</td><td>&quot;P191_109_75&quot;</td></tr></tbody></table></div>"
      ],
      "text/plain": [
       "shape: (5, 3)\n",
       "┌─────────┬─────────────────┬──────────────────────┐\n",
       "│ case_id ┆ addres zip 823M ┆ addres district 368M │\n",
       "│ ---     ┆ ---             ┆ ---                  │\n",
       "│ u32     ┆ cat             ┆ cat                  │\n",
       "╞═════════╪═════════════════╪══════════════════════╡\n",
       "│ 5       ┆ a55475b1        ┆ a55475b1             │\n",
       "│ 6       ┆ P10_68_40       ┆ P55_110_32           │\n",
       "│ 6       ┆ P10_68_40       ┆ P55_110_32           │\n",
       "│ 6       ┆ P65_136_169     ┆ P204_92_178          │\n",
       "│ 6       ┆ P10_68_40       ┆ P191_109_75          │\n",
       "└─────────┴─────────────────┴──────────────────────┘"
      ]
     },
     "metadata": {},
     "output_type": "display_data"
    },
    {
     "data": {
      "text/html": [
       "<div><style>\n",
       ".dataframe > thead > tr,\n",
       ".dataframe > tbody > tr {\n",
       "  text-align: right;\n",
       "  white-space: pre-wrap;\n",
       "}\n",
       "</style>\n",
       "<small>shape: (1, 1)</small><table border=\"1\" class=\"dataframe\"><thead><tr><th>% of train_base case_ids in train_second_person</th></tr><tr><td>f64</td></tr></thead><tbody><tr><td>0.94</td></tr></tbody></table></div>"
      ],
      "text/plain": [
       "shape: (1, 1)\n",
       "┌─────────────────────────────────────────────────┐\n",
       "│ % of train_base case_ids in train_second_person │\n",
       "│ ---                                             │\n",
       "│ f64                                             │\n",
       "╞═════════════════════════════════════════════════╡\n",
       "│ 0.94                                            │\n",
       "└─────────────────────────────────────────────────┘"
      ]
     },
     "execution_count": 15,
     "metadata": {},
     "output_type": "execute_result"
    }
   ],
   "source": [
    "train_second_person = (\n",
    "    pl.scan_parquet(\"Downloads/credit_risk/train/train_person_2.parquet\")\n",
    "    .select(pl.col(\"case_id\").cast(pl.UInt32),cs.by_name(train_person_2_columns).cast(pl.Categorical))\n",
    "    .pipe(lambda df: df.rename({_:\" \".join(_.split(\"_\")) for _ in df.columns if not _ == 'case_id'}))\n",
    ")\n",
    "display(train_second_person.fetch().head())\n",
    "train_second_person.pipe(rem_case_ids)"
   ]
  },
  {
   "cell_type": "code",
   "execution_count": 16,
   "metadata": {},
   "outputs": [
    {
     "data": {
      "text/html": [
       "<div><style>\n",
       ".dataframe > thead > tr,\n",
       ".dataframe > tbody > tr {\n",
       "  text-align: right;\n",
       "  white-space: pre-wrap;\n",
       "}\n",
       "</style>\n",
       "<small>shape: (5, 2)</small><table border=\"1\" class=\"dataframe\"><thead><tr><th>case_id</th><th>amount 4527230A</th></tr><tr><td>u32</td><td>f32</td></tr></thead><tbody><tr><td>28631</td><td>1946.00</td></tr><tr><td>28631</td><td>711.00</td></tr><tr><td>28631</td><td>3616.40</td></tr><tr><td>28631</td><td>2600.00</td></tr><tr><td>28632</td><td>2564.00</td></tr></tbody></table></div>"
      ],
      "text/plain": [
       "shape: (5, 2)\n",
       "┌─────────┬─────────────────┐\n",
       "│ case_id ┆ amount 4527230A │\n",
       "│ ---     ┆ ---             │\n",
       "│ u32     ┆ f32             │\n",
       "╞═════════╪═════════════════╡\n",
       "│ 28631   ┆ 1946.00         │\n",
       "│ 28631   ┆ 711.00          │\n",
       "│ 28631   ┆ 3616.40         │\n",
       "│ 28631   ┆ 2600.00         │\n",
       "│ 28632   ┆ 2564.00         │\n",
       "└─────────┴─────────────────┘"
      ]
     },
     "metadata": {},
     "output_type": "display_data"
    },
    {
     "data": {
      "text/html": [
       "<div><style>\n",
       ".dataframe > thead > tr,\n",
       ".dataframe > tbody > tr {\n",
       "  text-align: right;\n",
       "  white-space: pre-wrap;\n",
       "}\n",
       "</style>\n",
       "<small>shape: (1, 1)</small><table border=\"1\" class=\"dataframe\"><thead><tr><th>% of train_base case_ids in train_first_registry</th></tr><tr><td>f64</td></tr></thead><tbody><tr><td>0.30</td></tr></tbody></table></div>"
      ],
      "text/plain": [
       "shape: (1, 1)\n",
       "┌──────────────────────────────────────────────────┐\n",
       "│ % of train_base case_ids in train_first_registry │\n",
       "│ ---                                              │\n",
       "│ f64                                              │\n",
       "╞══════════════════════════════════════════════════╡\n",
       "│ 0.30                                             │\n",
       "└──────────────────────────────────────────────────┘"
      ]
     },
     "execution_count": 16,
     "metadata": {},
     "output_type": "execute_result"
    }
   ],
   "source": [
    "train_first_registry = (\n",
    "    pl.scan_parquet(\"Downloads/credit_risk/train/train_tax_registry_a_1.parquet\")\n",
    "    .select(pl.col(\"case_id\").cast(pl.UInt32),cs.by_name(train_tax_registry_1_columns).cast(pl.Float32))\n",
    "    .pipe(lambda df: df.rename({_:\" \".join(_.split(\"_\")) for _ in df.columns if not _ == 'case_id'}))\n",
    ")\n",
    "display(train_first_registry.fetch().head())\n",
    "train_first_registry.pipe(rem_case_ids)"
   ]
  },
  {
   "cell_type": "code",
   "execution_count": 17,
   "metadata": {},
   "outputs": [
    {
     "data": {
      "text/html": [
       "<div><style>\n",
       ".dataframe > thead > tr,\n",
       ".dataframe > tbody > tr {\n",
       "  text-align: right;\n",
       "  white-space: pre-wrap;\n",
       "}\n",
       "</style>\n",
       "<small>shape: (5, 2)</small><table border=\"1\" class=\"dataframe\"><thead><tr><th>case_id</th><th>amount 4917619A</th></tr><tr><td>u32</td><td>f32</td></tr></thead><tbody><tr><td>49435</td><td>6885.00</td></tr><tr><td>49435</td><td>6885.00</td></tr><tr><td>49435</td><td>6885.00</td></tr><tr><td>49435</td><td>6885.00</td></tr><tr><td>49435</td><td>6885.00</td></tr></tbody></table></div>"
      ],
      "text/plain": [
       "shape: (5, 2)\n",
       "┌─────────┬─────────────────┐\n",
       "│ case_id ┆ amount 4917619A │\n",
       "│ ---     ┆ ---             │\n",
       "│ u32     ┆ f32             │\n",
       "╞═════════╪═════════════════╡\n",
       "│ 49435   ┆ 6885.00         │\n",
       "│ 49435   ┆ 6885.00         │\n",
       "│ 49435   ┆ 6885.00         │\n",
       "│ 49435   ┆ 6885.00         │\n",
       "│ 49435   ┆ 6885.00         │\n",
       "└─────────┴─────────────────┘"
      ]
     },
     "metadata": {},
     "output_type": "display_data"
    },
    {
     "data": {
      "text/html": [
       "<div><style>\n",
       ".dataframe > thead > tr,\n",
       ".dataframe > tbody > tr {\n",
       "  text-align: right;\n",
       "  white-space: pre-wrap;\n",
       "}\n",
       "</style>\n",
       "<small>shape: (1, 1)</small><table border=\"1\" class=\"dataframe\"><thead><tr><th>% of train_base case_ids in train_second_registry</th></tr><tr><td>f64</td></tr></thead><tbody><tr><td>0.10</td></tr></tbody></table></div>"
      ],
      "text/plain": [
       "shape: (1, 1)\n",
       "┌───────────────────────────────────────────────────┐\n",
       "│ % of train_base case_ids in train_second_registry │\n",
       "│ ---                                               │\n",
       "│ f64                                               │\n",
       "╞═══════════════════════════════════════════════════╡\n",
       "│ 0.10                                              │\n",
       "└───────────────────────────────────────────────────┘"
      ]
     },
     "execution_count": 17,
     "metadata": {},
     "output_type": "execute_result"
    }
   ],
   "source": [
    "train_second_registry = (\n",
    "    pl.scan_parquet(\"Downloads/credit_risk/train/train_tax_registry_b_1.parquet\")\n",
    "    .select(pl.col(\"case_id\").cast(pl.UInt32),cs.by_name(train_tax_registry_2_columns).cast(pl.Float32))\n",
    "    .pipe(lambda df: df.rename({_:\" \".join(_.split(\"_\")) for _ in df.columns if not _ == 'case_id'}))\n",
    ")\n",
    "display(train_second_registry.fetch().head())\n",
    "train_second_registry.pipe(rem_case_ids)"
   ]
  },
  {
   "cell_type": "code",
   "execution_count": 18,
   "metadata": {},
   "outputs": [
    {
     "data": {
      "text/html": [
       "<div><style>\n",
       ".dataframe > thead > tr,\n",
       ".dataframe > tbody > tr {\n",
       "  text-align: right;\n",
       "  white-space: pre-wrap;\n",
       "}\n",
       "</style>\n",
       "<small>shape: (5, 2)</small><table border=\"1\" class=\"dataframe\"><thead><tr><th>case_id</th><th>pmtamount 36A</th></tr><tr><td>u32</td><td>f32</td></tr></thead><tbody><tr><td>357</td><td>1100.00</td></tr><tr><td>357</td><td>1200.00</td></tr><tr><td>357</td><td>1200.00</td></tr><tr><td>357</td><td>1200.00</td></tr><tr><td>357</td><td>628.60</td></tr></tbody></table></div>"
      ],
      "text/plain": [
       "shape: (5, 2)\n",
       "┌─────────┬───────────────┐\n",
       "│ case_id ┆ pmtamount 36A │\n",
       "│ ---     ┆ ---           │\n",
       "│ u32     ┆ f32           │\n",
       "╞═════════╪═══════════════╡\n",
       "│ 357     ┆ 1100.00       │\n",
       "│ 357     ┆ 1200.00       │\n",
       "│ 357     ┆ 1200.00       │\n",
       "│ 357     ┆ 1200.00       │\n",
       "│ 357     ┆ 628.60        │\n",
       "└─────────┴───────────────┘"
      ]
     },
     "metadata": {},
     "output_type": "display_data"
    },
    {
     "data": {
      "text/html": [
       "<div><style>\n",
       ".dataframe > thead > tr,\n",
       ".dataframe > tbody > tr {\n",
       "  text-align: right;\n",
       "  white-space: pre-wrap;\n",
       "}\n",
       "</style>\n",
       "<small>shape: (1, 1)</small><table border=\"1\" class=\"dataframe\"><thead><tr><th>% of train_base case_ids in train_third_registry</th></tr><tr><td>f64</td></tr></thead><tbody><tr><td>0.32</td></tr></tbody></table></div>"
      ],
      "text/plain": [
       "shape: (1, 1)\n",
       "┌──────────────────────────────────────────────────┐\n",
       "│ % of train_base case_ids in train_third_registry │\n",
       "│ ---                                              │\n",
       "│ f64                                              │\n",
       "╞══════════════════════════════════════════════════╡\n",
       "│ 0.32                                             │\n",
       "└──────────────────────────────────────────────────┘"
      ]
     },
     "execution_count": 18,
     "metadata": {},
     "output_type": "execute_result"
    }
   ],
   "source": [
    "train_third_registry = (\n",
    "    pl.scan_parquet(\"Downloads/credit_risk/train/train_tax_registry_c_1.parquet\")\n",
    "    .select(pl.col(\"case_id\").cast(pl.UInt32),cs.by_name(train_tax_registry_3_columns).cast(pl.Float32))\n",
    "    .pipe(lambda df: df.rename({_:\" \".join(_.split(\"_\")) for _ in df.columns if not _ == 'case_id'}))\n",
    ")\n",
    "display(train_third_registry.fetch().head())\n",
    "train_third_registry.pipe(rem_case_ids)"
   ]
  },
  {
   "cell_type": "code",
   "execution_count": 19,
   "metadata": {},
   "outputs": [
    {
     "data": {
      "text/html": [
       "<div><style>\n",
       ".dataframe > thead > tr,\n",
       ".dataframe > tbody > tr {\n",
       "  text-align: right;\n",
       "  white-space: pre-wrap;\n",
       "}\n",
       "</style>\n",
       "<small>shape: (5, 7)</small><table border=\"1\" class=\"dataframe\"><thead><tr><th>contractst 545M</th><th>contractst 964M</th><th>financialinstitution 382M</th><th>classificationofcontr 400M</th><th>purposeofcred 874M</th><th>description 351M</th><th>financialinstitution 591M</th></tr><tr><td>cat</td><td>cat</td><td>cat</td><td>cat</td><td>cat</td><td>cat</td><td>cat</td></tr></thead><tbody><tr><td>&quot;7241344e&quot;</td><td>&quot;a55475b1&quot;</td><td>&quot;a55475b1&quot;</td><td>&quot;a55475b1&quot;</td><td>&quot;a55475b1&quot;</td><td>&quot;a55475b1&quot;</td><td>&quot;55b002a9&quot;</td></tr><tr><td>&quot;7241344e&quot;</td><td>&quot;a55475b1&quot;</td><td>&quot;a55475b1&quot;</td><td>&quot;a55475b1&quot;</td><td>&quot;a55475b1&quot;</td><td>&quot;a55475b1&quot;</td><td>&quot;P204_66_73&quot;</td></tr><tr><td>&quot;a55475b1&quot;</td><td>&quot;a55475b1&quot;</td><td>&quot;a55475b1&quot;</td><td>&quot;a55475b1&quot;</td><td>&quot;a55475b1&quot;</td><td>&quot;a55475b1&quot;</td><td>&quot;a55475b1&quot;</td></tr><tr><td>&quot;a55475b1&quot;</td><td>&quot;a55475b1&quot;</td><td>&quot;a55475b1&quot;</td><td>&quot;a55475b1&quot;</td><td>&quot;a55475b1&quot;</td><td>&quot;a55475b1&quot;</td><td>&quot;a55475b1&quot;</td></tr><tr><td>&quot;a55475b1&quot;</td><td>&quot;a55475b1&quot;</td><td>&quot;a55475b1&quot;</td><td>&quot;a55475b1&quot;</td><td>&quot;a55475b1&quot;</td><td>&quot;a55475b1&quot;</td><td>&quot;a55475b1&quot;</td></tr></tbody></table></div>"
      ],
      "text/plain": [
       "shape: (5, 7)\n",
       "┌──────────────┬─────────────┬─────────────┬─────────────┬─────────────┬─────────────┬─────────────┐\n",
       "│ contractst   ┆ contractst  ┆ financialin ┆ classificat ┆ purposeofcr ┆ description ┆ financialin │\n",
       "│ 545M         ┆ 964M        ┆ stitution   ┆ ionofcontr  ┆ ed 874M     ┆ 351M        ┆ stitution   │\n",
       "│ ---          ┆ ---         ┆ 382M        ┆ 400M        ┆ ---         ┆ ---         ┆ 591M        │\n",
       "│ cat          ┆ cat         ┆ ---         ┆ ---         ┆ cat         ┆ cat         ┆ ---         │\n",
       "│              ┆             ┆ cat         ┆ cat         ┆             ┆             ┆ cat         │\n",
       "╞══════════════╪═════════════╪═════════════╪═════════════╪═════════════╪═════════════╪═════════════╡\n",
       "│ 7241344e     ┆ a55475b1    ┆ a55475b1    ┆ a55475b1    ┆ a55475b1    ┆ a55475b1    ┆ 55b002a9    │\n",
       "│ 7241344e     ┆ a55475b1    ┆ a55475b1    ┆ a55475b1    ┆ a55475b1    ┆ a55475b1    ┆ P204_66_73  │\n",
       "│ a55475b1     ┆ a55475b1    ┆ a55475b1    ┆ a55475b1    ┆ a55475b1    ┆ a55475b1    ┆ a55475b1    │\n",
       "│ a55475b1     ┆ a55475b1    ┆ a55475b1    ┆ a55475b1    ┆ a55475b1    ┆ a55475b1    ┆ a55475b1    │\n",
       "│ a55475b1     ┆ a55475b1    ┆ a55475b1    ┆ a55475b1    ┆ a55475b1    ┆ a55475b1    ┆ a55475b1    │\n",
       "└──────────────┴─────────────┴─────────────┴─────────────┴─────────────┴─────────────┴─────────────┘"
      ]
     },
     "execution_count": 19,
     "metadata": {},
     "output_type": "execute_result"
    }
   ],
   "source": [
    "(\n",
    "    pl.scan_parquet(\"Downloads/credit_risk/train/train_credit_bureau_a_1_*.parquet\")\n",
    "    .select(pl.col('case_id').cast(pl.UInt32),cs.by_name(train_credit_internal_columns).cast(pl.Categorical))\n",
    "    .select(cs.categorical())\n",
    "    .pipe(lambda df: df.rename({_:\" \".join(_.split(\"_\")) for _ in df.columns if not _ == 'case_id'}))\n",
    "    .fetch()\n",
    "    .head()\n",
    ")"
   ]
  },
  {
   "cell_type": "code",
   "execution_count": 28,
   "metadata": {},
   "outputs": [
    {
     "data": {
      "text/html": [
       "<div><style>\n",
       ".dataframe > thead > tr,\n",
       ".dataframe > tbody > tr {\n",
       "  text-align: right;\n",
       "  white-space: pre-wrap;\n",
       "}\n",
       "</style>\n",
       "<small>shape: (1, 1)</small><table border=\"1\" class=\"dataframe\"><thead><tr><th>% of train_base case_ids in None</th></tr><tr><td>f64</td></tr></thead><tbody><tr><td>0.91</td></tr></tbody></table></div>"
      ],
      "text/plain": [
       "shape: (1, 1)\n",
       "┌──────────────────────────────────┐\n",
       "│ % of train_base case_ids in None │\n",
       "│ ---                              │\n",
       "│ f64                              │\n",
       "╞══════════════════════════════════╡\n",
       "│ 0.91                             │\n",
       "└──────────────────────────────────┘"
      ]
     },
     "execution_count": 28,
     "metadata": {},
     "output_type": "execute_result"
    }
   ],
   "source": [
    "(\n",
    "    pl.scan_parquet(\"Downloads/credit_risk/train/train_credit_bureau_a_2_*.parquet\")\n",
    "    .select([\"case_id\",\"num_group1\",\"num_group2\"])\n",
    "    .pipe(rem_case_ids)\n",
    ")"
   ]
  }
 ],
 "metadata": {
  "kernelspec": {
   "display_name": "base",
   "language": "python",
   "name": "python3"
  },
  "language_info": {
   "codemirror_mode": {
    "name": "ipython",
    "version": 3
   },
   "file_extension": ".py",
   "mimetype": "text/x-python",
   "name": "python",
   "nbconvert_exporter": "python",
   "pygments_lexer": "ipython3",
   "version": "3.11.7"
  }
 },
 "nbformat": 4,
 "nbformat_minor": 2
}
