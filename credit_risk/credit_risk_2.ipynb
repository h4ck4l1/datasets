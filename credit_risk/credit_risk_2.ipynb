{
 "cells": [
  {
   "cell_type": "code",
   "execution_count": 1,
   "metadata": {},
   "outputs": [
    {
     "data": {
      "text/plain": [
       "'بِسْمِ اللهِ الرَّحْمٰنِ الرَّحِيْمِ'"
      ]
     },
     "execution_count": 1,
     "metadata": {},
     "output_type": "execute_result"
    }
   ],
   "source": [
    "'''بِسْمِ اللهِ الرَّحْمٰنِ الرَّحِيْمِ'''"
   ]
  },
  {
   "cell_type": "code",
   "execution_count": 2,
   "metadata": {},
   "outputs": [
    {
     "data": {
      "text/plain": [
       "'سُبْحَـٰنَكَ لَا عِلْمَ لَنَآ إِلَّا مَا عَلَّمْتَنَآ ۖ إِنَّكَ أَنتَ الْعَلِيمُ الْحَكِيمُ'"
      ]
     },
     "execution_count": 2,
     "metadata": {},
     "output_type": "execute_result"
    }
   ],
   "source": [
    "'''سُبْحَـٰنَكَ لَا عِلْمَ لَنَآ إِلَّا مَا عَلَّمْتَنَآ ۖ إِنَّكَ أَنتَ الْعَلِيمُ الْحَكِيمُ'''"
   ]
  },
  {
   "cell_type": "code",
   "execution_count": 3,
   "metadata": {},
   "outputs": [
    {
     "data": {
      "text/html": [
       "\n",
       "<style>\n",
       "    * {\n",
       "        font-family: Monaco;\n",
       "    }\n",
       "</style>\n"
      ],
      "text/plain": [
       "<IPython.core.display.HTML object>"
      ]
     },
     "execution_count": 3,
     "metadata": {},
     "output_type": "execute_result"
    }
   ],
   "source": [
    "from IPython.core.display import HTML\n",
    "HTML(r\"\"\"\n",
    "<style>\n",
    "    * {\n",
    "        font-family: Monaco;\n",
    "    }\n",
    "</style>\n",
    "\"\"\")"
   ]
  },
  {
   "cell_type": "code",
   "execution_count": 4,
   "metadata": {},
   "outputs": [
    {
     "data": {
      "text/plain": [
       "12"
      ]
     },
     "execution_count": 4,
     "metadata": {},
     "output_type": "execute_result"
    }
   ],
   "source": [
    "import os,sys,time,re,math,gc,warnings\n",
    "warnings.filterwarnings(\"ignore\")\n",
    "from IPython.display import clear_output\n",
    "os.cpu_count()"
   ]
  },
  {
   "cell_type": "code",
   "execution_count": 5,
   "metadata": {},
   "outputs": [
    {
     "name": "stdout",
     "output_type": "stream",
     "text": [
      "Exception reporting mode: Minimal\n"
     ]
    }
   ],
   "source": [
    "os.environ[\"POLARS_MAX_THREADS\"] = \"40\"\n",
    "from pathlib import Path\n",
    "from tqdm import tqdm\n",
    "from glob import glob\n",
    "from concurrent.futures import ThreadPoolExecutor,wait\n",
    "import numpy as np\n",
    "import pandas as pd\n",
    "import polars as pl\n",
    "import polars.selectors as cs\n",
    "import plotly.express as px\n",
    "import plotly.graph_objects as go\n",
    "import plotly.io as pio\n",
    "pio.templates[\"mod\"] = go.layout.Template(layout=dict(font=dict(family=\"Monaco\")))\n",
    "pio.templates.default = \"mod+plotly_dark\"\n",
    "from plotly.subplots import make_subplots\n",
    "from sklearn.metrics import auc,roc_auc_score\n",
    "%xmode Minimal"
   ]
  },
  {
   "cell_type": "code",
   "execution_count": 6,
   "metadata": {},
   "outputs": [
    {
     "data": {
      "text/plain": [
       "polars.config.Config"
      ]
     },
     "execution_count": 6,
     "metadata": {},
     "output_type": "execute_result"
    }
   ],
   "source": [
    "pl.Config.set_fmt_str_lengths(100)\n",
    "pl.Config.set_float_precision(2)\n",
    "pl.Config.set_fmt_float(\"full\")\n",
    "pl.Config.set_tbl_rows(40)"
   ]
  },
  {
   "cell_type": "code",
   "execution_count": 7,
   "metadata": {},
   "outputs": [],
   "source": [
    "train_previous_application_columns = [\n",
    "    'education_1138M',\n",
    "    'rejectreasonclient_4145042M',\n",
    "    'district_544M',\n",
    "    'num_group1',\n",
    "    'rejectreason_755M',\n",
    "    'postype_4733339M',\n",
    "    'cancelreason_3545846M'\n",
    "    ]\n",
    "train_previous_application_status_columns = [\n",
    "    'num_group1',\n",
    "    'num_group2'\n",
    "    ]\n",
    "train_total_static_columns = [\n",
    "    'mobilephncnt_593L',\n",
    "    'lastrejectreasonclient_4145040M',\n",
    "    'lastapprcommoditycat_1041M',\n",
    "    'credamount_770A',\n",
    "    'numrejects9m_859L',\n",
    "    'homephncnt_628L',\n",
    "    'disbursedcredamount_1113A',\n",
    "    'lastrejectreason_759M',\n",
    "    'numnotactivated_1143L',\n",
    "    'sellerplacecnt_915L',\n",
    "    'numcontrs3months_479L',\n",
    "    'annuity_780A',\n",
    "    'clientscnt_533L',\n",
    "    'applications30d_658L',\n",
    "    'lastcancelreason_561M',\n",
    "    'lastrejectcommoditycat_161M',\n",
    "    'deferredmnthsnum_166L',\n",
    "    'numactivecredschannel_414L'\n",
    "    ]\n",
    "train_static_depth_columns = [\n",
    "    'education_1103M',\n",
    "    'education_88M',\n",
    "    'maritalst_385M',\n",
    "    'description_5085714M',\n",
    "    'maritalst_893M'\n",
    "    ]\n",
    "train_debit_columns = None\n",
    "train_deposit_columns = [\"amount_416A\"]\n",
    "train_person_1_columns = [\n",
    "    'education_927M',\n",
    "    'registaddr_district_1083M',\n",
    "    'contaddr_district_15M',\n",
    "    'empladdr_district_926M',\n",
    "    'empladdr_zipcode_114M',\n",
    "    'language1_981M'\n",
    "    ]\n",
    "train_person_2_columns = ['addres_zip_823M', 'addres_district_368M']\n",
    "train_other_columns = ['amtdepositbalance_4809441A']\n",
    "train_tax_registry_1_columns = ['amount_4527230A']\n",
    "train_tax_registry_2_columns = ['amount_4917619A']\n",
    "train_tax_registry_3_columns = ['pmtamount_36A']\n",
    "train_credit_internal_columns = ['contractst_545M',\n",
    " 'contractst_964M',\n",
    " 'financialinstitution_382M',\n",
    " 'classificationofcontr_400M',\n",
    " 'purposeofcred_874M',\n",
    " 'description_351M',\n",
    " 'financialinstitution_591M']"
   ]
  },
  {
   "cell_type": "code",
   "execution_count": 8,
   "metadata": {},
   "outputs": [
    {
     "data": {
      "text/html": [
       "<div><style>\n",
       ".dataframe > thead > tr,\n",
       ".dataframe > tbody > tr {\n",
       "  text-align: right;\n",
       "  white-space: pre-wrap;\n",
       "}\n",
       "</style>\n",
       "<small>shape: (5, 5)</small><table border=\"1\" class=\"dataframe\"><thead><tr><th>case_id_base</th><th>month</th><th>week</th><th>year</th><th>target</th></tr><tr><td>u32</td><td>u8</td><td>u8</td><td>u16</td><td>u8</td></tr></thead><tbody><tr><td>0</td><td>1</td><td>1</td><td>2019</td><td>0</td></tr><tr><td>1</td><td>1</td><td>1</td><td>2019</td><td>0</td></tr><tr><td>2</td><td>1</td><td>1</td><td>2019</td><td>0</td></tr><tr><td>3</td><td>1</td><td>1</td><td>2019</td><td>0</td></tr><tr><td>4</td><td>1</td><td>1</td><td>2019</td><td>1</td></tr></tbody></table></div>"
      ],
      "text/plain": [
       "shape: (5, 5)\n",
       "┌──────────────┬───────┬──────┬──────┬────────┐\n",
       "│ case_id_base ┆ month ┆ week ┆ year ┆ target │\n",
       "│ ---          ┆ ---   ┆ ---  ┆ ---  ┆ ---    │\n",
       "│ u32          ┆ u8    ┆ u8   ┆ u16  ┆ u8     │\n",
       "╞══════════════╪═══════╪══════╪══════╪════════╡\n",
       "│ 0            ┆ 1     ┆ 1    ┆ 2019 ┆ 0      │\n",
       "│ 1            ┆ 1     ┆ 1    ┆ 2019 ┆ 0      │\n",
       "│ 2            ┆ 1     ┆ 1    ┆ 2019 ┆ 0      │\n",
       "│ 3            ┆ 1     ┆ 1    ┆ 2019 ┆ 0      │\n",
       "│ 4            ┆ 1     ┆ 1    ┆ 2019 ┆ 1      │\n",
       "└──────────────┴───────┴──────┴──────┴────────┘"
      ]
     },
     "execution_count": 8,
     "metadata": {},
     "output_type": "execute_result"
    }
   ],
   "source": [
    "train_base = (\n",
    "    pl.scan_parquet(\"Downloads/credit_risk/train/train_base.parquet\")\n",
    "    .drop([\"MONTH\",\"WEEK_NUM\"])\n",
    "    .select(\n",
    "        pl.col(\"case_id\").cast(pl.UInt32),\n",
    "        pl.col(\"date_decision\").str.to_datetime().dt.month().cast(pl.UInt8).alias(\"month\"),\n",
    "        pl.col(\"date_decision\").str.to_datetime().dt.week().cast(pl.UInt8).alias(\"week\"),\n",
    "        pl.col(\"date_decision\").str.to_datetime().dt.year().cast(pl.UInt16).alias(\"year\"),\n",
    "        pl.col(\"target\").cast(pl.UInt8)\n",
    "    )\n",
    "    .drop(\"date_decision\")\n",
    "    .rename({\"case_id\":\"case_id_base\"})\n",
    ")\n",
    "train_base.fetch().head()"
   ]
  },
  {
   "cell_type": "code",
   "execution_count": 9,
   "metadata": {},
   "outputs": [],
   "source": [
    "def rem_train_case_ids(df):\n",
    "    def get_var_name(df):\n",
    "        for name,value in globals().items():\n",
    "            if value is df:\n",
    "                return name\n",
    "\n",
    "    return (\n",
    "        df\n",
    "        .select(pl.col(\"case_id\").unique())\n",
    "        .with_context(\n",
    "            train_base.select([\"case_id_base\"])\n",
    "        )\n",
    "        .select(\n",
    "            pl.col(\"case_id_base\").is_in(pl.col(\"case_id\")).cast(pl.UInt8).mean().alias(f\"% of train_base case_ids in {get_var_name(df)}\")\n",
    "        )\n",
    "        .collect(streaming=True)\n",
    "    )"
   ]
  },
  {
   "cell_type": "code",
   "execution_count": 10,
   "metadata": {},
   "outputs": [
    {
     "data": {
      "text/html": [
       "<div><style>\n",
       ".dataframe > thead > tr,\n",
       ".dataframe > tbody > tr {\n",
       "  text-align: right;\n",
       "  white-space: pre-wrap;\n",
       "}\n",
       "</style>\n",
       "<small>shape: (5, 8)</small><table border=\"1\" class=\"dataframe\"><thead><tr><th>case_id</th><th>education_1138M</th><th>rejectreasonclient_4145042M</th><th>district_544M</th><th>num_group1</th><th>rejectreason_755M</th><th>postype_4733339M</th><th>cancelreason_3545846M</th></tr><tr><td>u32</td><td>cat</td><td>cat</td><td>cat</td><td>i8</td><td>cat</td><td>cat</td><td>cat</td></tr></thead><tbody><tr><td>2</td><td>&quot;P97_36_170&quot;</td><td>&quot;a55475b1&quot;</td><td>&quot;P136_108_173&quot;</td><td>0</td><td>&quot;a55475b1&quot;</td><td>&quot;a55475b1&quot;</td><td>&quot;a55475b1&quot;</td></tr><tr><td>2</td><td>&quot;P97_36_170&quot;</td><td>&quot;a55475b1&quot;</td><td>&quot;P136_108_173&quot;</td><td>1</td><td>&quot;a55475b1&quot;</td><td>&quot;a55475b1&quot;</td><td>&quot;a55475b1&quot;</td></tr><tr><td>3</td><td>&quot;P97_36_170&quot;</td><td>&quot;a55475b1&quot;</td><td>&quot;P131_33_167&quot;</td><td>0</td><td>&quot;P94_109_143&quot;</td><td>&quot;a55475b1&quot;</td><td>&quot;P94_109_143&quot;</td></tr><tr><td>4</td><td>&quot;a55475b1&quot;</td><td>&quot;a55475b1&quot;</td><td>&quot;P194_82_174&quot;</td><td>0</td><td>&quot;a55475b1&quot;</td><td>&quot;a55475b1&quot;</td><td>&quot;P24_27_36&quot;</td></tr><tr><td>5</td><td>&quot;a55475b1&quot;</td><td>&quot;a55475b1&quot;</td><td>&quot;P54_133_26&quot;</td><td>0</td><td>&quot;a55475b1&quot;</td><td>&quot;a55475b1&quot;</td><td>&quot;P85_114_140&quot;</td></tr></tbody></table></div>"
      ],
      "text/plain": [
       "shape: (5, 8)\n",
       "┌─────────┬────────────┬────────────┬────────────┬────────────┬────────────┬───────────┬───────────┐\n",
       "│ case_id ┆ education_ ┆ rejectreas ┆ district_5 ┆ num_group1 ┆ rejectreas ┆ postype_4 ┆ cancelrea │\n",
       "│ ---     ┆ 1138M      ┆ onclient_4 ┆ 44M        ┆ ---        ┆ on_755M    ┆ 733339M   ┆ son_35458 │\n",
       "│ u32     ┆ ---        ┆ 145042M    ┆ ---        ┆ i8         ┆ ---        ┆ ---       ┆ 46M       │\n",
       "│         ┆ cat        ┆ ---        ┆ cat        ┆            ┆ cat        ┆ cat       ┆ ---       │\n",
       "│         ┆            ┆ cat        ┆            ┆            ┆            ┆           ┆ cat       │\n",
       "╞═════════╪════════════╪════════════╪════════════╪════════════╪════════════╪═══════════╪═══════════╡\n",
       "│ 2       ┆ P97_36_170 ┆ a55475b1   ┆ P136_108_1 ┆ 0          ┆ a55475b1   ┆ a55475b1  ┆ a55475b1  │\n",
       "│         ┆            ┆            ┆ 73         ┆            ┆            ┆           ┆           │\n",
       "│ 2       ┆ P97_36_170 ┆ a55475b1   ┆ P136_108_1 ┆ 1          ┆ a55475b1   ┆ a55475b1  ┆ a55475b1  │\n",
       "│         ┆            ┆            ┆ 73         ┆            ┆            ┆           ┆           │\n",
       "│ 3       ┆ P97_36_170 ┆ a55475b1   ┆ P131_33_16 ┆ 0          ┆ P94_109_14 ┆ a55475b1  ┆ P94_109_1 │\n",
       "│         ┆            ┆            ┆ 7          ┆            ┆ 3          ┆           ┆ 43        │\n",
       "│ 4       ┆ a55475b1   ┆ a55475b1   ┆ P194_82_17 ┆ 0          ┆ a55475b1   ┆ a55475b1  ┆ P24_27_36 │\n",
       "│         ┆            ┆            ┆ 4          ┆            ┆            ┆           ┆           │\n",
       "│ 5       ┆ a55475b1   ┆ a55475b1   ┆ P54_133_26 ┆ 0          ┆ a55475b1   ┆ a55475b1  ┆ P85_114_1 │\n",
       "│         ┆            ┆            ┆            ┆            ┆            ┆           ┆ 40        │\n",
       "└─────────┴────────────┴────────────┴────────────┴────────────┴────────────┴───────────┴───────────┘"
      ]
     },
     "metadata": {},
     "output_type": "display_data"
    },
    {
     "data": {
      "text/html": [
       "<div><style>\n",
       ".dataframe > thead > tr,\n",
       ".dataframe > tbody > tr {\n",
       "  text-align: right;\n",
       "  white-space: pre-wrap;\n",
       "}\n",
       "</style>\n",
       "<small>shape: (1, 1)</small><table border=\"1\" class=\"dataframe\"><thead><tr><th>% of train_base case_ids in train_previous_application</th></tr><tr><td>f64</td></tr></thead><tbody><tr><td>0.80</td></tr></tbody></table></div>"
      ],
      "text/plain": [
       "shape: (1, 1)\n",
       "┌────────────────────────────────────────────────────────┐\n",
       "│ % of train_base case_ids in train_previous_application │\n",
       "│ ---                                                    │\n",
       "│ f64                                                    │\n",
       "╞════════════════════════════════════════════════════════╡\n",
       "│ 0.80                                                   │\n",
       "└────────────────────────────────────────────────────────┘"
      ]
     },
     "execution_count": 10,
     "metadata": {},
     "output_type": "execute_result"
    }
   ],
   "source": [
    "train_previous_application =(\n",
    "    pl.scan_parquet(Path(\"Downloads/credit_risk/train/train_applprev_1_*.parquet\"))\n",
    "    .select(\"case_id\",cs.by_name(train_previous_application_columns))\n",
    "    .select(pl.all().shrink_dtype())\n",
    "    .with_columns(pl.col(\"case_id\").cast(pl.UInt32),pl.col(pl.String).cast(pl.Categorical))\n",
    ")\n",
    "display(train_previous_application.fetch().head())\n",
    "train_previous_application.pipe(rem_train_case_ids)"
   ]
  },
  {
   "cell_type": "code",
   "execution_count": 11,
   "metadata": {},
   "outputs": [
    {
     "data": {
      "text/html": [
       "<div><style>\n",
       ".dataframe > thead > tr,\n",
       ".dataframe > tbody > tr {\n",
       "  text-align: right;\n",
       "  white-space: pre-wrap;\n",
       "}\n",
       "</style>\n",
       "<small>shape: (5, 3)</small><table border=\"1\" class=\"dataframe\"><thead><tr><th>case_id</th><th>num_group1</th><th>num_group2</th></tr><tr><td>u32</td><td>i8</td><td>i8</td></tr></thead><tbody><tr><td>2</td><td>1</td><td>1</td></tr><tr><td>2</td><td>0</td><td>1</td></tr><tr><td>2</td><td>0</td><td>0</td></tr><tr><td>2</td><td>1</td><td>0</td></tr><tr><td>3</td><td>0</td><td>1</td></tr></tbody></table></div>"
      ],
      "text/plain": [
       "shape: (5, 3)\n",
       "┌─────────┬────────────┬────────────┐\n",
       "│ case_id ┆ num_group1 ┆ num_group2 │\n",
       "│ ---     ┆ ---        ┆ ---        │\n",
       "│ u32     ┆ i8         ┆ i8         │\n",
       "╞═════════╪════════════╪════════════╡\n",
       "│ 2       ┆ 1          ┆ 1          │\n",
       "│ 2       ┆ 0          ┆ 1          │\n",
       "│ 2       ┆ 0          ┆ 0          │\n",
       "│ 2       ┆ 1          ┆ 0          │\n",
       "│ 3       ┆ 0          ┆ 1          │\n",
       "└─────────┴────────────┴────────────┘"
      ]
     },
     "metadata": {},
     "output_type": "display_data"
    },
    {
     "data": {
      "text/html": [
       "<div><style>\n",
       ".dataframe > thead > tr,\n",
       ".dataframe > tbody > tr {\n",
       "  text-align: right;\n",
       "  white-space: pre-wrap;\n",
       "}\n",
       "</style>\n",
       "<small>shape: (1, 1)</small><table border=\"1\" class=\"dataframe\"><thead><tr><th>% of train_base case_ids in train_previous_application_status</th></tr><tr><td>f64</td></tr></thead><tbody><tr><td>0.80</td></tr></tbody></table></div>"
      ],
      "text/plain": [
       "shape: (1, 1)\n",
       "┌───────────────────────────────────────────────────────────────┐\n",
       "│ % of train_base case_ids in train_previous_application_status │\n",
       "│ ---                                                           │\n",
       "│ f64                                                           │\n",
       "╞═══════════════════════════════════════════════════════════════╡\n",
       "│ 0.80                                                          │\n",
       "└───────────────────────────────────────────────────────────────┘"
      ]
     },
     "execution_count": 11,
     "metadata": {},
     "output_type": "execute_result"
    }
   ],
   "source": [
    "train_previous_application_status = (\n",
    "    pl.scan_parquet(\"Downloads/credit_risk/train/train_applprev_2.parquet\")\n",
    "    .select(\"case_id\",cs.by_name(train_previous_application_status_columns))\n",
    "    .with_columns(pl.all().shrink_dtype())\n",
    "    .with_columns(pl.col(\"case_id\").cast(pl.UInt32),pl.col(pl.String).cast(pl.Categorical))\n",
    ")\n",
    "display(train_previous_application_status.fetch().head())\n",
    "train_previous_application_status.pipe(rem_train_case_ids)"
   ]
  },
  {
   "cell_type": "code",
   "execution_count": 12,
   "metadata": {},
   "outputs": [
    {
     "data": {
      "text/html": [
       "<div><style>\n",
       ".dataframe > thead > tr,\n",
       ".dataframe > tbody > tr {\n",
       "  text-align: right;\n",
       "  white-space: pre-wrap;\n",
       "}\n",
       "</style>\n",
       "<small>shape: (5, 19)</small><table border=\"1\" class=\"dataframe\"><thead><tr><th>case_id</th><th>mobilephncnt 593L</th><th>lastrejectreasonclient 4145040M</th><th>lastapprcommoditycat 1041M</th><th>credamount 770A</th><th>numrejects9m 859L</th><th>homephncnt 628L</th><th>disbursedcredamount 1113A</th><th>lastrejectreason 759M</th><th>numnotactivated 1143L</th><th>sellerplacecnt 915L</th><th>numcontrs3months 479L</th><th>annuity 780A</th><th>clientscnt 533L</th><th>applications30d 658L</th><th>lastcancelreason 561M</th><th>lastrejectcommoditycat 161M</th><th>deferredmnthsnum 166L</th><th>numactivecredschannel 414L</th></tr><tr><td>u32</td><td>f32</td><td>cat</td><td>cat</td><td>f32</td><td>f32</td><td>f32</td><td>f32</td><td>cat</td><td>f32</td><td>f32</td><td>f32</td><td>f32</td><td>f32</td><td>f32</td><td>cat</td><td>cat</td><td>f32</td><td>f32</td></tr></thead><tbody><tr><td>0</td><td>1.00</td><td>&quot;a55475b1&quot;</td><td>&quot;a55475b1&quot;</td><td>30000.00</td><td>0.00</td><td>0.00</td><td>30000.00</td><td>&quot;a55475b1&quot;</td><td>0.00</td><td>0.00</td><td>0.00</td><td>1917.60</td><td>0.00</td><td>0.00</td><td>&quot;a55475b1&quot;</td><td>&quot;a55475b1&quot;</td><td>0.00</td><td>0.00</td></tr><tr><td>1</td><td>1.00</td><td>&quot;a55475b1&quot;</td><td>&quot;a55475b1&quot;</td><td>19999.80</td><td>0.00</td><td>0.00</td><td>19999.80</td><td>&quot;a55475b1&quot;</td><td>0.00</td><td>0.00</td><td>0.00</td><td>3134.00</td><td>0.00</td><td>0.00</td><td>&quot;a55475b1&quot;</td><td>&quot;a55475b1&quot;</td><td>0.00</td><td>0.00</td></tr><tr><td>2</td><td>2.00</td><td>&quot;a55475b1&quot;</td><td>&quot;a55475b1&quot;</td><td>78000.00</td><td>0.00</td><td>1.00</td><td>78000.00</td><td>&quot;a55475b1&quot;</td><td>0.00</td><td>0.00</td><td>0.00</td><td>4937.00</td><td>0.00</td><td>0.00</td><td>&quot;a55475b1&quot;</td><td>&quot;a55475b1&quot;</td><td>0.00</td><td>0.00</td></tr><tr><td>3</td><td>1.00</td><td>&quot;a55475b1&quot;</td><td>&quot;a55475b1&quot;</td><td>40000.00</td><td>1.00</td><td>0.00</td><td>40000.00</td><td>&quot;P94_109_143&quot;</td><td>0.00</td><td>1.00</td><td>1.00</td><td>4643.60</td><td>0.00</td><td>1.00</td><td>&quot;P94_109_143&quot;</td><td>&quot;a55475b1&quot;</td><td>0.00</td><td>0.00</td></tr><tr><td>4</td><td>1.00</td><td>&quot;a55475b1&quot;</td><td>&quot;a55475b1&quot;</td><td>44000.00</td><td>0.00</td><td>1.00</td><td>44000.00</td><td>&quot;a55475b1&quot;</td><td>0.00</td><td>0.00</td><td>0.00</td><td>3390.20</td><td>0.00</td><td>1.00</td><td>&quot;P24_27_36&quot;</td><td>&quot;a55475b1&quot;</td><td>0.00</td><td>0.00</td></tr></tbody></table></div>"
      ],
      "text/plain": [
       "shape: (5, 19)\n",
       "┌─────────┬────────────┬───────────┬───────────┬───┬───────────┬───────────┬───────────┬───────────┐\n",
       "│ case_id ┆ mobilephnc ┆ lastrejec ┆ lastapprc ┆ … ┆ lastcance ┆ lastrejec ┆ deferredm ┆ numactive │\n",
       "│ ---     ┆ nt 593L    ┆ treasoncl ┆ ommodityc ┆   ┆ lreason   ┆ tcommodit ┆ nthsnum   ┆ credschan │\n",
       "│ u32     ┆ ---        ┆ ient      ┆ at 1041M  ┆   ┆ 561M      ┆ ycat 161M ┆ 166L      ┆ nel 414L  │\n",
       "│         ┆ f32        ┆ 4145040M  ┆ ---       ┆   ┆ ---       ┆ ---       ┆ ---       ┆ ---       │\n",
       "│         ┆            ┆ ---       ┆ cat       ┆   ┆ cat       ┆ cat       ┆ f32       ┆ f32       │\n",
       "│         ┆            ┆ cat       ┆           ┆   ┆           ┆           ┆           ┆           │\n",
       "╞═════════╪════════════╪═══════════╪═══════════╪═══╪═══════════╪═══════════╪═══════════╪═══════════╡\n",
       "│ 0       ┆ 1.00       ┆ a55475b1  ┆ a55475b1  ┆ … ┆ a55475b1  ┆ a55475b1  ┆ 0.00      ┆ 0.00      │\n",
       "│ 1       ┆ 1.00       ┆ a55475b1  ┆ a55475b1  ┆ … ┆ a55475b1  ┆ a55475b1  ┆ 0.00      ┆ 0.00      │\n",
       "│ 2       ┆ 2.00       ┆ a55475b1  ┆ a55475b1  ┆ … ┆ a55475b1  ┆ a55475b1  ┆ 0.00      ┆ 0.00      │\n",
       "│ 3       ┆ 1.00       ┆ a55475b1  ┆ a55475b1  ┆ … ┆ P94_109_1 ┆ a55475b1  ┆ 0.00      ┆ 0.00      │\n",
       "│         ┆            ┆           ┆           ┆   ┆ 43        ┆           ┆           ┆           │\n",
       "│ 4       ┆ 1.00       ┆ a55475b1  ┆ a55475b1  ┆ … ┆ P24_27_36 ┆ a55475b1  ┆ 0.00      ┆ 0.00      │\n",
       "└─────────┴────────────┴───────────┴───────────┴───┴───────────┴───────────┴───────────┴───────────┘"
      ]
     },
     "metadata": {},
     "output_type": "display_data"
    },
    {
     "data": {
      "text/html": [
       "<div><style>\n",
       ".dataframe > thead > tr,\n",
       ".dataframe > tbody > tr {\n",
       "  text-align: right;\n",
       "  white-space: pre-wrap;\n",
       "}\n",
       "</style>\n",
       "<small>shape: (1, 1)</small><table border=\"1\" class=\"dataframe\"><thead><tr><th>% of train_base case_ids in train_static_total</th></tr><tr><td>f64</td></tr></thead><tbody><tr><td>1.00</td></tr></tbody></table></div>"
      ],
      "text/plain": [
       "shape: (1, 1)\n",
       "┌────────────────────────────────────────────────┐\n",
       "│ % of train_base case_ids in train_static_total │\n",
       "│ ---                                            │\n",
       "│ f64                                            │\n",
       "╞════════════════════════════════════════════════╡\n",
       "│ 1.00                                           │\n",
       "└────────────────────────────────────────────────┘"
      ]
     },
     "execution_count": 12,
     "metadata": {},
     "output_type": "execute_result"
    }
   ],
   "source": [
    "train_static_total = (\n",
    "    pl.scan_parquet(\"Downloads/credit_risk/train/train_static_0_*.parquet\")\n",
    "    .select(\"case_id\",cs.by_name(train_total_static_columns))\n",
    "    .with_columns(\n",
    "        pl.col(\"case_id\").cast(pl.UInt32),\n",
    "        cs.string().cast(pl.Categorical),\n",
    "        cs.float().cast(pl.Float32)\n",
    "    )\n",
    "    .pipe(lambda df: df.rename({_:\" \".join(_.split(\"_\")) for _ in df.columns if _ != 'case_id'}))\n",
    ")\n",
    "display(train_static_total.fetch().head())\n",
    "train_static_total.pipe(rem_train_case_ids)"
   ]
  },
  {
   "cell_type": "code",
   "execution_count": 13,
   "metadata": {},
   "outputs": [
    {
     "data": {
      "text/html": [
       "<div><style>\n",
       ".dataframe > thead > tr,\n",
       ".dataframe > tbody > tr {\n",
       "  text-align: right;\n",
       "  white-space: pre-wrap;\n",
       "}\n",
       "</style>\n",
       "<small>shape: (5, 6)</small><table border=\"1\" class=\"dataframe\"><thead><tr><th>case_id</th><th>education 1103M</th><th>education 88M</th><th>maritalst 385M</th><th>description 5085714M</th><th>maritalst 893M</th></tr><tr><td>u32</td><td>cat</td><td>cat</td><td>cat</td><td>cat</td><td>cat</td></tr></thead><tbody><tr><td>357</td><td>&quot;a55475b1&quot;</td><td>&quot;a55475b1&quot;</td><td>&quot;a55475b1&quot;</td><td>&quot;a55475b1&quot;</td><td>&quot;a55475b1&quot;</td></tr><tr><td>381</td><td>&quot;a55475b1&quot;</td><td>&quot;a55475b1&quot;</td><td>&quot;a55475b1&quot;</td><td>&quot;a55475b1&quot;</td><td>&quot;a55475b1&quot;</td></tr><tr><td>388</td><td>&quot;a55475b1&quot;</td><td>&quot;a55475b1&quot;</td><td>&quot;a55475b1&quot;</td><td>&quot;a55475b1&quot;</td><td>&quot;a55475b1&quot;</td></tr><tr><td>405</td><td>&quot;a55475b1&quot;</td><td>&quot;a55475b1&quot;</td><td>&quot;a55475b1&quot;</td><td>&quot;a55475b1&quot;</td><td>&quot;a55475b1&quot;</td></tr><tr><td>409</td><td>&quot;717ddd49&quot;</td><td>&quot;a55475b1&quot;</td><td>&quot;a7fcb6e5&quot;</td><td>&quot;a55475b1&quot;</td><td>&quot;a55475b1&quot;</td></tr></tbody></table></div>"
      ],
      "text/plain": [
       "shape: (5, 6)\n",
       "┌─────────┬─────────────────┬───────────────┬────────────────┬─────────────┬────────────────┐\n",
       "│ case_id ┆ education 1103M ┆ education 88M ┆ maritalst 385M ┆ description ┆ maritalst 893M │\n",
       "│ ---     ┆ ---             ┆ ---           ┆ ---            ┆ 5085714M    ┆ ---            │\n",
       "│ u32     ┆ cat             ┆ cat           ┆ cat            ┆ ---         ┆ cat            │\n",
       "│         ┆                 ┆               ┆                ┆ cat         ┆                │\n",
       "╞═════════╪═════════════════╪═══════════════╪════════════════╪═════════════╪════════════════╡\n",
       "│ 357     ┆ a55475b1        ┆ a55475b1      ┆ a55475b1       ┆ a55475b1    ┆ a55475b1       │\n",
       "│ 381     ┆ a55475b1        ┆ a55475b1      ┆ a55475b1       ┆ a55475b1    ┆ a55475b1       │\n",
       "│ 388     ┆ a55475b1        ┆ a55475b1      ┆ a55475b1       ┆ a55475b1    ┆ a55475b1       │\n",
       "│ 405     ┆ a55475b1        ┆ a55475b1      ┆ a55475b1       ┆ a55475b1    ┆ a55475b1       │\n",
       "│ 409     ┆ 717ddd49        ┆ a55475b1      ┆ a7fcb6e5       ┆ a55475b1    ┆ a55475b1       │\n",
       "└─────────┴─────────────────┴───────────────┴────────────────┴─────────────┴────────────────┘"
      ]
     },
     "metadata": {},
     "output_type": "display_data"
    },
    {
     "data": {
      "text/html": [
       "<div><style>\n",
       ".dataframe > thead > tr,\n",
       ".dataframe > tbody > tr {\n",
       "  text-align: right;\n",
       "  white-space: pre-wrap;\n",
       "}\n",
       "</style>\n",
       "<small>shape: (1, 1)</small><table border=\"1\" class=\"dataframe\"><thead><tr><th>% of train_base case_ids in train_static_depth</th></tr><tr><td>f64</td></tr></thead><tbody><tr><td>0.98</td></tr></tbody></table></div>"
      ],
      "text/plain": [
       "shape: (1, 1)\n",
       "┌────────────────────────────────────────────────┐\n",
       "│ % of train_base case_ids in train_static_depth │\n",
       "│ ---                                            │\n",
       "│ f64                                            │\n",
       "╞════════════════════════════════════════════════╡\n",
       "│ 0.98                                           │\n",
       "└────────────────────────────────────────────────┘"
      ]
     },
     "execution_count": 13,
     "metadata": {},
     "output_type": "execute_result"
    }
   ],
   "source": [
    "train_static_depth = (\n",
    "    pl.scan_parquet(\"Downloads/credit_risk/train/train_static_cb_0.parquet\")\n",
    "    .select(\"case_id\",cs.by_name(train_static_depth_columns))\n",
    "    .with_columns(\n",
    "        pl.col(\"case_id\").cast(pl.UInt32),\n",
    "        cs.string().cast(pl.Categorical),\n",
    "        cs.float().cast(pl.Float32)\n",
    "    )\n",
    "    .pipe(lambda df: df.rename({_:\" \".join(_.split(\"_\")) for _ in df.columns if _ != 'case_id'}))\n",
    ")\n",
    "display(train_static_depth.fetch().head())\n",
    "train_static_depth.pipe(rem_train_case_ids)"
   ]
  },
  {
   "cell_type": "code",
   "execution_count": 14,
   "metadata": {},
   "outputs": [
    {
     "data": {
      "text/html": [
       "<div><style>\n",
       ".dataframe > thead > tr,\n",
       ".dataframe > tbody > tr {\n",
       "  text-align: right;\n",
       "  white-space: pre-wrap;\n",
       "}\n",
       "</style>\n",
       "<small>shape: (5, 2)</small><table border=\"1\" class=\"dataframe\"><thead><tr><th>case_id</th><th>amount 416A</th></tr><tr><td>u32</td><td>f32</td></tr></thead><tbody><tr><td>225</td><td>0.00</td></tr><tr><td>331</td><td>260.37</td></tr><tr><td>358</td><td>0.00</td></tr><tr><td>390</td><td>211748.53</td></tr><tr><td>390</td><td>223.68</td></tr></tbody></table></div>"
      ],
      "text/plain": [
       "shape: (5, 2)\n",
       "┌─────────┬─────────────┐\n",
       "│ case_id ┆ amount 416A │\n",
       "│ ---     ┆ ---         │\n",
       "│ u32     ┆ f32         │\n",
       "╞═════════╪═════════════╡\n",
       "│ 225     ┆ 0.00        │\n",
       "│ 331     ┆ 260.37      │\n",
       "│ 358     ┆ 0.00        │\n",
       "│ 390     ┆ 211748.53   │\n",
       "│ 390     ┆ 223.68      │\n",
       "└─────────┴─────────────┘"
      ]
     },
     "metadata": {},
     "output_type": "display_data"
    },
    {
     "data": {
      "text/html": [
       "<div><style>\n",
       ".dataframe > thead > tr,\n",
       ".dataframe > tbody > tr {\n",
       "  text-align: right;\n",
       "  white-space: pre-wrap;\n",
       "}\n",
       "</style>\n",
       "<small>shape: (1, 1)</small><table border=\"1\" class=\"dataframe\"><thead><tr><th>% of train_base case_ids in train_deposit</th></tr><tr><td>f64</td></tr></thead><tbody><tr><td>0.07</td></tr></tbody></table></div>"
      ],
      "text/plain": [
       "shape: (1, 1)\n",
       "┌───────────────────────────────────────────┐\n",
       "│ % of train_base case_ids in train_deposit │\n",
       "│ ---                                       │\n",
       "│ f64                                       │\n",
       "╞═══════════════════════════════════════════╡\n",
       "│ 0.07                                      │\n",
       "└───────────────────────────────────────────┘"
      ]
     },
     "execution_count": 14,
     "metadata": {},
     "output_type": "execute_result"
    }
   ],
   "source": [
    "train_deposit = (\n",
    "    pl.scan_parquet(\"Downloads/credit_risk/train/train_deposit_1.parquet\")\n",
    "    .select(\"case_id\",cs.by_name(train_deposit_columns))\n",
    "    .with_columns(\n",
    "        pl.col(\"case_id\").cast(pl.UInt32),\n",
    "        cs.float().cast(pl.Float32)\n",
    "    )\n",
    "    .pipe(lambda df: df.rename({_:\" \".join(_.split(\"_\")) for _ in df.columns if _ != 'case_id'}))\n",
    ")\n",
    "display(train_deposit.fetch().head())\n",
    "train_deposit.pipe(rem_train_case_ids)"
   ]
  },
  {
   "cell_type": "code",
   "execution_count": 15,
   "metadata": {},
   "outputs": [
    {
     "data": {
      "text/html": [
       "<div><style>\n",
       ".dataframe > thead > tr,\n",
       ".dataframe > tbody > tr {\n",
       "  text-align: right;\n",
       "  white-space: pre-wrap;\n",
       "}\n",
       "</style>\n",
       "<small>shape: (5, 10)</small><table border=\"1\" class=\"dataframe\"><thead><tr><th>case_id</th><th>education 927M</th><th>registaddr district 1083M</th><th>contaddr district 15M</th><th>empladdr district 926M</th><th>empladdr zipcode 114M</th><th>language1 981M</th><th>personindex 1023L</th><th>persontype 1072L</th><th>persontype 792L</th></tr><tr><td>u32</td><td>cat</td><td>cat</td><td>cat</td><td>cat</td><td>cat</td><td>cat</td><td>u8</td><td>u8</td><td>u8</td></tr></thead><tbody><tr><td>0</td><td>&quot;P97_36_170&quot;</td><td>&quot;P88_18_84&quot;</td><td>&quot;P88_18_84&quot;</td><td>&quot;P142_57_166&quot;</td><td>&quot;P167_100_165&quot;</td><td>&quot;P10_39_147&quot;</td><td>0</td><td>1</td><td>1</td></tr><tr><td>0</td><td>&quot;a55475b1&quot;</td><td>&quot;a55475b1&quot;</td><td>&quot;a55475b1&quot;</td><td>&quot;a55475b1&quot;</td><td>&quot;a55475b1&quot;</td><td>&quot;a55475b1&quot;</td><td>1</td><td>1</td><td>4</td></tr><tr><td>0</td><td>&quot;a55475b1&quot;</td><td>&quot;a55475b1&quot;</td><td>&quot;a55475b1&quot;</td><td>&quot;a55475b1&quot;</td><td>&quot;a55475b1&quot;</td><td>&quot;a55475b1&quot;</td><td>2</td><td>4</td><td>5</td></tr><tr><td>0</td><td>&quot;a55475b1&quot;</td><td>&quot;a55475b1&quot;</td><td>&quot;a55475b1&quot;</td><td>&quot;a55475b1&quot;</td><td>&quot;a55475b1&quot;</td><td>&quot;a55475b1&quot;</td><td>2</td><td>5</td><td>5</td></tr><tr><td>1</td><td>&quot;P97_36_170&quot;</td><td>&quot;P103_93_94&quot;</td><td>&quot;P103_93_94&quot;</td><td>&quot;P49_46_174&quot;</td><td>&quot;P160_59_140&quot;</td><td>&quot;P10_39_147&quot;</td><td>0</td><td>1</td><td>1</td></tr></tbody></table></div>"
      ],
      "text/plain": [
       "shape: (5, 10)\n",
       "┌─────────┬────────────┬───────────┬───────────┬───┬───────────┬───────────┬───────────┬───────────┐\n",
       "│ case_id ┆ education  ┆ registadd ┆ contaddr  ┆ … ┆ language1 ┆ personind ┆ persontyp ┆ persontyp │\n",
       "│ ---     ┆ 927M       ┆ r         ┆ district  ┆   ┆ 981M      ┆ ex 1023L  ┆ e 1072L   ┆ e 792L    │\n",
       "│ u32     ┆ ---        ┆ district  ┆ 15M       ┆   ┆ ---       ┆ ---       ┆ ---       ┆ ---       │\n",
       "│         ┆ cat        ┆ 1083M     ┆ ---       ┆   ┆ cat       ┆ u8        ┆ u8        ┆ u8        │\n",
       "│         ┆            ┆ ---       ┆ cat       ┆   ┆           ┆           ┆           ┆           │\n",
       "│         ┆            ┆ cat       ┆           ┆   ┆           ┆           ┆           ┆           │\n",
       "╞═════════╪════════════╪═══════════╪═══════════╪═══╪═══════════╪═══════════╪═══════════╪═══════════╡\n",
       "│ 0       ┆ P97_36_170 ┆ P88_18_84 ┆ P88_18_84 ┆ … ┆ P10_39_14 ┆ 0         ┆ 1         ┆ 1         │\n",
       "│         ┆            ┆           ┆           ┆   ┆ 7         ┆           ┆           ┆           │\n",
       "│ 0       ┆ a55475b1   ┆ a55475b1  ┆ a55475b1  ┆ … ┆ a55475b1  ┆ 1         ┆ 1         ┆ 4         │\n",
       "│ 0       ┆ a55475b1   ┆ a55475b1  ┆ a55475b1  ┆ … ┆ a55475b1  ┆ 2         ┆ 4         ┆ 5         │\n",
       "│ 0       ┆ a55475b1   ┆ a55475b1  ┆ a55475b1  ┆ … ┆ a55475b1  ┆ 2         ┆ 5         ┆ 5         │\n",
       "│ 1       ┆ P97_36_170 ┆ P103_93_9 ┆ P103_93_9 ┆ … ┆ P10_39_14 ┆ 0         ┆ 1         ┆ 1         │\n",
       "│         ┆            ┆ 4         ┆ 4         ┆   ┆ 7         ┆           ┆           ┆           │\n",
       "└─────────┴────────────┴───────────┴───────────┴───┴───────────┴───────────┴───────────┴───────────┘"
      ]
     },
     "metadata": {},
     "output_type": "display_data"
    },
    {
     "data": {
      "text/html": [
       "<div><style>\n",
       ".dataframe > thead > tr,\n",
       ".dataframe > tbody > tr {\n",
       "  text-align: right;\n",
       "  white-space: pre-wrap;\n",
       "}\n",
       "</style>\n",
       "<small>shape: (1, 1)</small><table border=\"1\" class=\"dataframe\"><thead><tr><th>% of train_base case_ids in train_first_person</th></tr><tr><td>f64</td></tr></thead><tbody><tr><td>1.00</td></tr></tbody></table></div>"
      ],
      "text/plain": [
       "shape: (1, 1)\n",
       "┌────────────────────────────────────────────────┐\n",
       "│ % of train_base case_ids in train_first_person │\n",
       "│ ---                                            │\n",
       "│ f64                                            │\n",
       "╞════════════════════════════════════════════════╡\n",
       "│ 1.00                                           │\n",
       "└────────────────────────────────────────────────┘"
      ]
     },
     "execution_count": 15,
     "metadata": {},
     "output_type": "execute_result"
    }
   ],
   "source": [
    "train_first_person = (\n",
    "    pl.scan_parquet(\"Downloads/credit_risk/train/train_person_1.parquet\")\n",
    "    .select(pl.col(\"case_id\").cast(pl.UInt32),cs.by_name(train_person_1_columns),cs.contains(\"person\"))\n",
    "    .with_columns(cs.string().cast(pl.Categorical),cs.float().cast(pl.UInt8))\n",
    "    .pipe(lambda df: df.rename({_:\" \".join(_.split(\"_\")) for _ in df.columns if not _ == 'case_id'}))\n",
    "    .fill_null(strategy=\"forward\")\n",
    ")\n",
    "display(train_first_person.fetch().head())\n",
    "train_first_person.pipe(rem_train_case_ids)"
   ]
  },
  {
   "cell_type": "code",
   "execution_count": 16,
   "metadata": {},
   "outputs": [
    {
     "data": {
      "text/html": [
       "<div><style>\n",
       ".dataframe > thead > tr,\n",
       ".dataframe > tbody > tr {\n",
       "  text-align: right;\n",
       "  white-space: pre-wrap;\n",
       "}\n",
       "</style>\n",
       "<small>shape: (5, 3)</small><table border=\"1\" class=\"dataframe\"><thead><tr><th>case_id</th><th>addres zip 823M</th><th>addres district 368M</th></tr><tr><td>u32</td><td>cat</td><td>cat</td></tr></thead><tbody><tr><td>5</td><td>&quot;a55475b1&quot;</td><td>&quot;a55475b1&quot;</td></tr><tr><td>6</td><td>&quot;P10_68_40&quot;</td><td>&quot;P55_110_32&quot;</td></tr><tr><td>6</td><td>&quot;P10_68_40&quot;</td><td>&quot;P55_110_32&quot;</td></tr><tr><td>6</td><td>&quot;P65_136_169&quot;</td><td>&quot;P204_92_178&quot;</td></tr><tr><td>6</td><td>&quot;P10_68_40&quot;</td><td>&quot;P191_109_75&quot;</td></tr></tbody></table></div>"
      ],
      "text/plain": [
       "shape: (5, 3)\n",
       "┌─────────┬─────────────────┬──────────────────────┐\n",
       "│ case_id ┆ addres zip 823M ┆ addres district 368M │\n",
       "│ ---     ┆ ---             ┆ ---                  │\n",
       "│ u32     ┆ cat             ┆ cat                  │\n",
       "╞═════════╪═════════════════╪══════════════════════╡\n",
       "│ 5       ┆ a55475b1        ┆ a55475b1             │\n",
       "│ 6       ┆ P10_68_40       ┆ P55_110_32           │\n",
       "│ 6       ┆ P10_68_40       ┆ P55_110_32           │\n",
       "│ 6       ┆ P65_136_169     ┆ P204_92_178          │\n",
       "│ 6       ┆ P10_68_40       ┆ P191_109_75          │\n",
       "└─────────┴─────────────────┴──────────────────────┘"
      ]
     },
     "metadata": {},
     "output_type": "display_data"
    },
    {
     "data": {
      "text/html": [
       "<div><style>\n",
       ".dataframe > thead > tr,\n",
       ".dataframe > tbody > tr {\n",
       "  text-align: right;\n",
       "  white-space: pre-wrap;\n",
       "}\n",
       "</style>\n",
       "<small>shape: (1, 1)</small><table border=\"1\" class=\"dataframe\"><thead><tr><th>% of train_base case_ids in train_second_person</th></tr><tr><td>f64</td></tr></thead><tbody><tr><td>0.94</td></tr></tbody></table></div>"
      ],
      "text/plain": [
       "shape: (1, 1)\n",
       "┌─────────────────────────────────────────────────┐\n",
       "│ % of train_base case_ids in train_second_person │\n",
       "│ ---                                             │\n",
       "│ f64                                             │\n",
       "╞═════════════════════════════════════════════════╡\n",
       "│ 0.94                                            │\n",
       "└─────────────────────────────────────────────────┘"
      ]
     },
     "execution_count": 16,
     "metadata": {},
     "output_type": "execute_result"
    }
   ],
   "source": [
    "train_second_person = (\n",
    "    pl.scan_parquet(\"Downloads/credit_risk/train/train_person_2.parquet\")\n",
    "    .select(pl.col(\"case_id\").cast(pl.UInt32),cs.by_name(train_person_2_columns).cast(pl.Categorical))\n",
    "    .pipe(lambda df: df.rename({_:\" \".join(_.split(\"_\")) for _ in df.columns if not _ == 'case_id'}))\n",
    ")\n",
    "display(train_second_person.fetch().head())\n",
    "train_second_person.pipe(rem_train_case_ids)"
   ]
  },
  {
   "cell_type": "code",
   "execution_count": 17,
   "metadata": {},
   "outputs": [
    {
     "data": {
      "text/html": [
       "<div><style>\n",
       ".dataframe > thead > tr,\n",
       ".dataframe > tbody > tr {\n",
       "  text-align: right;\n",
       "  white-space: pre-wrap;\n",
       "}\n",
       "</style>\n",
       "<small>shape: (5, 2)</small><table border=\"1\" class=\"dataframe\"><thead><tr><th>case_id</th><th>amount 4527230A</th></tr><tr><td>u32</td><td>f32</td></tr></thead><tbody><tr><td>28631</td><td>1946.00</td></tr><tr><td>28631</td><td>711.00</td></tr><tr><td>28631</td><td>3616.40</td></tr><tr><td>28631</td><td>2600.00</td></tr><tr><td>28632</td><td>2564.00</td></tr></tbody></table></div>"
      ],
      "text/plain": [
       "shape: (5, 2)\n",
       "┌─────────┬─────────────────┐\n",
       "│ case_id ┆ amount 4527230A │\n",
       "│ ---     ┆ ---             │\n",
       "│ u32     ┆ f32             │\n",
       "╞═════════╪═════════════════╡\n",
       "│ 28631   ┆ 1946.00         │\n",
       "│ 28631   ┆ 711.00          │\n",
       "│ 28631   ┆ 3616.40         │\n",
       "│ 28631   ┆ 2600.00         │\n",
       "│ 28632   ┆ 2564.00         │\n",
       "└─────────┴─────────────────┘"
      ]
     },
     "metadata": {},
     "output_type": "display_data"
    },
    {
     "data": {
      "text/html": [
       "<div><style>\n",
       ".dataframe > thead > tr,\n",
       ".dataframe > tbody > tr {\n",
       "  text-align: right;\n",
       "  white-space: pre-wrap;\n",
       "}\n",
       "</style>\n",
       "<small>shape: (1, 1)</small><table border=\"1\" class=\"dataframe\"><thead><tr><th>% of train_base case_ids in train_first_registry</th></tr><tr><td>f64</td></tr></thead><tbody><tr><td>0.30</td></tr></tbody></table></div>"
      ],
      "text/plain": [
       "shape: (1, 1)\n",
       "┌──────────────────────────────────────────────────┐\n",
       "│ % of train_base case_ids in train_first_registry │\n",
       "│ ---                                              │\n",
       "│ f64                                              │\n",
       "╞══════════════════════════════════════════════════╡\n",
       "│ 0.30                                             │\n",
       "└──────────────────────────────────────────────────┘"
      ]
     },
     "execution_count": 17,
     "metadata": {},
     "output_type": "execute_result"
    }
   ],
   "source": [
    "train_first_registry = (\n",
    "    pl.scan_parquet(\"Downloads/credit_risk/train/train_tax_registry_a_1.parquet\")\n",
    "    .select(pl.col(\"case_id\").cast(pl.UInt32),cs.by_name(train_tax_registry_1_columns).cast(pl.Float32))\n",
    "    .pipe(lambda df: df.rename({_:\" \".join(_.split(\"_\")) for _ in df.columns if not _ == 'case_id'}))\n",
    ")\n",
    "display(train_first_registry.fetch().head())\n",
    "train_first_registry.pipe(rem_train_case_ids)"
   ]
  },
  {
   "cell_type": "code",
   "execution_count": 18,
   "metadata": {},
   "outputs": [
    {
     "data": {
      "text/html": [
       "<div><style>\n",
       ".dataframe > thead > tr,\n",
       ".dataframe > tbody > tr {\n",
       "  text-align: right;\n",
       "  white-space: pre-wrap;\n",
       "}\n",
       "</style>\n",
       "<small>shape: (5, 2)</small><table border=\"1\" class=\"dataframe\"><thead><tr><th>case_id</th><th>amount 4917619A</th></tr><tr><td>u32</td><td>f32</td></tr></thead><tbody><tr><td>49435</td><td>6885.00</td></tr><tr><td>49435</td><td>6885.00</td></tr><tr><td>49435</td><td>6885.00</td></tr><tr><td>49435</td><td>6885.00</td></tr><tr><td>49435</td><td>6885.00</td></tr></tbody></table></div>"
      ],
      "text/plain": [
       "shape: (5, 2)\n",
       "┌─────────┬─────────────────┐\n",
       "│ case_id ┆ amount 4917619A │\n",
       "│ ---     ┆ ---             │\n",
       "│ u32     ┆ f32             │\n",
       "╞═════════╪═════════════════╡\n",
       "│ 49435   ┆ 6885.00         │\n",
       "│ 49435   ┆ 6885.00         │\n",
       "│ 49435   ┆ 6885.00         │\n",
       "│ 49435   ┆ 6885.00         │\n",
       "│ 49435   ┆ 6885.00         │\n",
       "└─────────┴─────────────────┘"
      ]
     },
     "metadata": {},
     "output_type": "display_data"
    },
    {
     "data": {
      "text/html": [
       "<div><style>\n",
       ".dataframe > thead > tr,\n",
       ".dataframe > tbody > tr {\n",
       "  text-align: right;\n",
       "  white-space: pre-wrap;\n",
       "}\n",
       "</style>\n",
       "<small>shape: (1, 1)</small><table border=\"1\" class=\"dataframe\"><thead><tr><th>% of train_base case_ids in train_second_registry</th></tr><tr><td>f64</td></tr></thead><tbody><tr><td>0.10</td></tr></tbody></table></div>"
      ],
      "text/plain": [
       "shape: (1, 1)\n",
       "┌───────────────────────────────────────────────────┐\n",
       "│ % of train_base case_ids in train_second_registry │\n",
       "│ ---                                               │\n",
       "│ f64                                               │\n",
       "╞═══════════════════════════════════════════════════╡\n",
       "│ 0.10                                              │\n",
       "└───────────────────────────────────────────────────┘"
      ]
     },
     "execution_count": 18,
     "metadata": {},
     "output_type": "execute_result"
    }
   ],
   "source": [
    "train_second_registry = (\n",
    "    pl.scan_parquet(\"Downloads/credit_risk/train/train_tax_registry_b_1.parquet\")\n",
    "    .select(pl.col(\"case_id\").cast(pl.UInt32),cs.by_name(train_tax_registry_2_columns).cast(pl.Float32))\n",
    "    .pipe(lambda df: df.rename({_:\" \".join(_.split(\"_\")) for _ in df.columns if not _ == 'case_id'}))\n",
    ")\n",
    "display(train_second_registry.fetch().head())\n",
    "train_second_registry.pipe(rem_train_case_ids)"
   ]
  },
  {
   "cell_type": "code",
   "execution_count": 19,
   "metadata": {},
   "outputs": [
    {
     "data": {
      "text/html": [
       "<div><style>\n",
       ".dataframe > thead > tr,\n",
       ".dataframe > tbody > tr {\n",
       "  text-align: right;\n",
       "  white-space: pre-wrap;\n",
       "}\n",
       "</style>\n",
       "<small>shape: (5, 2)</small><table border=\"1\" class=\"dataframe\"><thead><tr><th>case_id</th><th>pmtamount 36A</th></tr><tr><td>u32</td><td>f32</td></tr></thead><tbody><tr><td>357</td><td>1100.00</td></tr><tr><td>357</td><td>1200.00</td></tr><tr><td>357</td><td>1200.00</td></tr><tr><td>357</td><td>1200.00</td></tr><tr><td>357</td><td>628.60</td></tr></tbody></table></div>"
      ],
      "text/plain": [
       "shape: (5, 2)\n",
       "┌─────────┬───────────────┐\n",
       "│ case_id ┆ pmtamount 36A │\n",
       "│ ---     ┆ ---           │\n",
       "│ u32     ┆ f32           │\n",
       "╞═════════╪═══════════════╡\n",
       "│ 357     ┆ 1100.00       │\n",
       "│ 357     ┆ 1200.00       │\n",
       "│ 357     ┆ 1200.00       │\n",
       "│ 357     ┆ 1200.00       │\n",
       "│ 357     ┆ 628.60        │\n",
       "└─────────┴───────────────┘"
      ]
     },
     "metadata": {},
     "output_type": "display_data"
    },
    {
     "data": {
      "text/html": [
       "<div><style>\n",
       ".dataframe > thead > tr,\n",
       ".dataframe > tbody > tr {\n",
       "  text-align: right;\n",
       "  white-space: pre-wrap;\n",
       "}\n",
       "</style>\n",
       "<small>shape: (1, 1)</small><table border=\"1\" class=\"dataframe\"><thead><tr><th>% of train_base case_ids in train_third_registry</th></tr><tr><td>f64</td></tr></thead><tbody><tr><td>0.32</td></tr></tbody></table></div>"
      ],
      "text/plain": [
       "shape: (1, 1)\n",
       "┌──────────────────────────────────────────────────┐\n",
       "│ % of train_base case_ids in train_third_registry │\n",
       "│ ---                                              │\n",
       "│ f64                                              │\n",
       "╞══════════════════════════════════════════════════╡\n",
       "│ 0.32                                             │\n",
       "└──────────────────────────────────────────────────┘"
      ]
     },
     "execution_count": 19,
     "metadata": {},
     "output_type": "execute_result"
    }
   ],
   "source": [
    "train_third_registry = (\n",
    "    pl.scan_parquet(\"Downloads/credit_risk/train/train_tax_registry_c_1.parquet\")\n",
    "    .select(pl.col(\"case_id\").cast(pl.UInt32),cs.by_name(train_tax_registry_3_columns).cast(pl.Float32))\n",
    "    .pipe(lambda df: df.rename({_:\" \".join(_.split(\"_\")) for _ in df.columns if not _ == 'case_id'}))\n",
    ")\n",
    "display(train_third_registry.fetch().head())\n",
    "train_third_registry.pipe(rem_train_case_ids)"
   ]
  },
  {
   "cell_type": "code",
   "execution_count": 20,
   "metadata": {},
   "outputs": [
    {
     "data": {
      "text/html": [
       "<div><style>\n",
       ".dataframe > thead > tr,\n",
       ".dataframe > tbody > tr {\n",
       "  text-align: right;\n",
       "  white-space: pre-wrap;\n",
       "}\n",
       "</style>\n",
       "<small>shape: (5, 8)</small><table border=\"1\" class=\"dataframe\"><thead><tr><th>case_id</th><th>contractst 545M</th><th>contractst 964M</th><th>financialinstitution 382M</th><th>classificationofcontr 400M</th><th>purposeofcred 874M</th><th>description 351M</th><th>financialinstitution 591M</th></tr><tr><td>u32</td><td>cat</td><td>cat</td><td>cat</td><td>cat</td><td>cat</td><td>cat</td><td>cat</td></tr></thead><tbody><tr><td>388</td><td>&quot;7241344e&quot;</td><td>&quot;a55475b1&quot;</td><td>&quot;a55475b1&quot;</td><td>&quot;a55475b1&quot;</td><td>&quot;a55475b1&quot;</td><td>&quot;a55475b1&quot;</td><td>&quot;55b002a9&quot;</td></tr><tr><td>388</td><td>&quot;7241344e&quot;</td><td>&quot;a55475b1&quot;</td><td>&quot;a55475b1&quot;</td><td>&quot;a55475b1&quot;</td><td>&quot;a55475b1&quot;</td><td>&quot;a55475b1&quot;</td><td>&quot;P204_66_73&quot;</td></tr><tr><td>388</td><td>&quot;a55475b1&quot;</td><td>&quot;a55475b1&quot;</td><td>&quot;a55475b1&quot;</td><td>&quot;a55475b1&quot;</td><td>&quot;a55475b1&quot;</td><td>&quot;a55475b1&quot;</td><td>&quot;a55475b1&quot;</td></tr><tr><td>388</td><td>&quot;a55475b1&quot;</td><td>&quot;a55475b1&quot;</td><td>&quot;a55475b1&quot;</td><td>&quot;a55475b1&quot;</td><td>&quot;a55475b1&quot;</td><td>&quot;a55475b1&quot;</td><td>&quot;a55475b1&quot;</td></tr><tr><td>388</td><td>&quot;a55475b1&quot;</td><td>&quot;a55475b1&quot;</td><td>&quot;a55475b1&quot;</td><td>&quot;a55475b1&quot;</td><td>&quot;a55475b1&quot;</td><td>&quot;a55475b1&quot;</td><td>&quot;a55475b1&quot;</td></tr></tbody></table></div>"
      ],
      "text/plain": [
       "shape: (5, 8)\n",
       "┌─────────┬────────────┬────────────┬────────────┬────────────┬────────────┬───────────┬───────────┐\n",
       "│ case_id ┆ contractst ┆ contractst ┆ financiali ┆ classifica ┆ purposeofc ┆ descripti ┆ financial │\n",
       "│ ---     ┆ 545M       ┆ 964M       ┆ nstitution ┆ tionofcont ┆ red 874M   ┆ on 351M   ┆ instituti │\n",
       "│ u32     ┆ ---        ┆ ---        ┆ 382M       ┆ r 400M     ┆ ---        ┆ ---       ┆ on 591M   │\n",
       "│         ┆ cat        ┆ cat        ┆ ---        ┆ ---        ┆ cat        ┆ cat       ┆ ---       │\n",
       "│         ┆            ┆            ┆ cat        ┆ cat        ┆            ┆           ┆ cat       │\n",
       "╞═════════╪════════════╪════════════╪════════════╪════════════╪════════════╪═══════════╪═══════════╡\n",
       "│ 388     ┆ 7241344e   ┆ a55475b1   ┆ a55475b1   ┆ a55475b1   ┆ a55475b1   ┆ a55475b1  ┆ 55b002a9  │\n",
       "│ 388     ┆ 7241344e   ┆ a55475b1   ┆ a55475b1   ┆ a55475b1   ┆ a55475b1   ┆ a55475b1  ┆ P204_66_7 │\n",
       "│         ┆            ┆            ┆            ┆            ┆            ┆           ┆ 3         │\n",
       "│ 388     ┆ a55475b1   ┆ a55475b1   ┆ a55475b1   ┆ a55475b1   ┆ a55475b1   ┆ a55475b1  ┆ a55475b1  │\n",
       "│ 388     ┆ a55475b1   ┆ a55475b1   ┆ a55475b1   ┆ a55475b1   ┆ a55475b1   ┆ a55475b1  ┆ a55475b1  │\n",
       "│ 388     ┆ a55475b1   ┆ a55475b1   ┆ a55475b1   ┆ a55475b1   ┆ a55475b1   ┆ a55475b1  ┆ a55475b1  │\n",
       "└─────────┴────────────┴────────────┴────────────┴────────────┴────────────┴───────────┴───────────┘"
      ]
     },
     "execution_count": 20,
     "metadata": {},
     "output_type": "execute_result"
    }
   ],
   "source": [
    "train_credit_internal = (\n",
    "    pl.scan_parquet(\"Downloads/credit_risk/train/train_credit_bureau_a_1_*.parquet\")\n",
    "    .select(pl.col('case_id').cast(pl.UInt32),cs.by_name(train_credit_internal_columns).cast(pl.Categorical))\n",
    "    .pipe(lambda df: df.rename({_:\" \".join(_.split(\"_\")) for _ in df.columns if not _ == 'case_id'}))\n",
    ")\n",
    "train_credit_internal.fetch().head()"
   ]
  },
  {
   "cell_type": "markdown",
   "metadata": {},
   "source": [
    "# Test data preprocessing"
   ]
  },
  {
   "cell_type": "code",
   "execution_count": 21,
   "metadata": {},
   "outputs": [
    {
     "data": {
      "text/html": [
       "<div><style>\n",
       ".dataframe > thead > tr,\n",
       ".dataframe > tbody > tr {\n",
       "  text-align: right;\n",
       "  white-space: pre-wrap;\n",
       "}\n",
       "</style>\n",
       "<small>shape: (36, 2)</small><table border=\"1\" class=\"dataframe\"><thead><tr><th>index</th><th>filename</th></tr><tr><td>i64</td><td>str</td></tr></thead><tbody><tr><td>0</td><td>&quot;test_applprev_1_0.parquet&quot;</td></tr><tr><td>1</td><td>&quot;test_applprev_1_1.parquet&quot;</td></tr><tr><td>2</td><td>&quot;test_applprev_1_2.parquet&quot;</td></tr><tr><td>3</td><td>&quot;test_applprev_2.parquet&quot;</td></tr><tr><td>4</td><td>&quot;test_base.parquet&quot;</td></tr><tr><td>5</td><td>&quot;test_credit_bureau_a_1_0.parquet&quot;</td></tr><tr><td>6</td><td>&quot;test_credit_bureau_a_1_1.parquet&quot;</td></tr><tr><td>7</td><td>&quot;test_credit_bureau_a_1_2.parquet&quot;</td></tr><tr><td>8</td><td>&quot;test_credit_bureau_a_1_3.parquet&quot;</td></tr><tr><td>9</td><td>&quot;test_credit_bureau_a_1_4.parquet&quot;</td></tr><tr><td>10</td><td>&quot;test_credit_bureau_a_2_0.parquet&quot;</td></tr><tr><td>11</td><td>&quot;test_credit_bureau_a_2_1.parquet&quot;</td></tr><tr><td>12</td><td>&quot;test_credit_bureau_a_2_10.parquet&quot;</td></tr><tr><td>13</td><td>&quot;test_credit_bureau_a_2_11.parquet&quot;</td></tr><tr><td>14</td><td>&quot;test_credit_bureau_a_2_2.parquet&quot;</td></tr><tr><td>15</td><td>&quot;test_credit_bureau_a_2_3.parquet&quot;</td></tr><tr><td>16</td><td>&quot;test_credit_bureau_a_2_4.parquet&quot;</td></tr><tr><td>17</td><td>&quot;test_credit_bureau_a_2_5.parquet&quot;</td></tr><tr><td>18</td><td>&quot;test_credit_bureau_a_2_6.parquet&quot;</td></tr><tr><td>19</td><td>&quot;test_credit_bureau_a_2_7.parquet&quot;</td></tr><tr><td>20</td><td>&quot;test_credit_bureau_a_2_8.parquet&quot;</td></tr><tr><td>21</td><td>&quot;test_credit_bureau_a_2_9.parquet&quot;</td></tr><tr><td>22</td><td>&quot;test_credit_bureau_b_1.parquet&quot;</td></tr><tr><td>23</td><td>&quot;test_credit_bureau_b_2.parquet&quot;</td></tr><tr><td>24</td><td>&quot;test_debitcard_1.parquet&quot;</td></tr><tr><td>25</td><td>&quot;test_deposit_1.parquet&quot;</td></tr><tr><td>26</td><td>&quot;test_other_1.parquet&quot;</td></tr><tr><td>27</td><td>&quot;test_person_1.parquet&quot;</td></tr><tr><td>28</td><td>&quot;test_person_2.parquet&quot;</td></tr><tr><td>29</td><td>&quot;test_static_0_0.parquet&quot;</td></tr><tr><td>30</td><td>&quot;test_static_0_1.parquet&quot;</td></tr><tr><td>31</td><td>&quot;test_static_0_2.parquet&quot;</td></tr><tr><td>32</td><td>&quot;test_static_cb_0.parquet&quot;</td></tr><tr><td>33</td><td>&quot;test_tax_registry_a_1.parquet&quot;</td></tr><tr><td>34</td><td>&quot;test_tax_registry_b_1.parquet&quot;</td></tr><tr><td>35</td><td>&quot;test_tax_registry_c_1.parquet&quot;</td></tr></tbody></table></div>"
      ],
      "text/plain": [
       "shape: (36, 2)\n",
       "┌───────┬───────────────────────────────────┐\n",
       "│ index ┆ filename                          │\n",
       "│ ---   ┆ ---                               │\n",
       "│ i64   ┆ str                               │\n",
       "╞═══════╪═══════════════════════════════════╡\n",
       "│ 0     ┆ test_applprev_1_0.parquet         │\n",
       "│ 1     ┆ test_applprev_1_1.parquet         │\n",
       "│ 2     ┆ test_applprev_1_2.parquet         │\n",
       "│ 3     ┆ test_applprev_2.parquet           │\n",
       "│ 4     ┆ test_base.parquet                 │\n",
       "│ 5     ┆ test_credit_bureau_a_1_0.parquet  │\n",
       "│ 6     ┆ test_credit_bureau_a_1_1.parquet  │\n",
       "│ 7     ┆ test_credit_bureau_a_1_2.parquet  │\n",
       "│ 8     ┆ test_credit_bureau_a_1_3.parquet  │\n",
       "│ 9     ┆ test_credit_bureau_a_1_4.parquet  │\n",
       "│ 10    ┆ test_credit_bureau_a_2_0.parquet  │\n",
       "│ 11    ┆ test_credit_bureau_a_2_1.parquet  │\n",
       "│ 12    ┆ test_credit_bureau_a_2_10.parquet │\n",
       "│ 13    ┆ test_credit_bureau_a_2_11.parquet │\n",
       "│ 14    ┆ test_credit_bureau_a_2_2.parquet  │\n",
       "│ 15    ┆ test_credit_bureau_a_2_3.parquet  │\n",
       "│ 16    ┆ test_credit_bureau_a_2_4.parquet  │\n",
       "│ 17    ┆ test_credit_bureau_a_2_5.parquet  │\n",
       "│ 18    ┆ test_credit_bureau_a_2_6.parquet  │\n",
       "│ 19    ┆ test_credit_bureau_a_2_7.parquet  │\n",
       "│ 20    ┆ test_credit_bureau_a_2_8.parquet  │\n",
       "│ 21    ┆ test_credit_bureau_a_2_9.parquet  │\n",
       "│ 22    ┆ test_credit_bureau_b_1.parquet    │\n",
       "│ 23    ┆ test_credit_bureau_b_2.parquet    │\n",
       "│ 24    ┆ test_debitcard_1.parquet          │\n",
       "│ 25    ┆ test_deposit_1.parquet            │\n",
       "│ 26    ┆ test_other_1.parquet              │\n",
       "│ 27    ┆ test_person_1.parquet             │\n",
       "│ 28    ┆ test_person_2.parquet             │\n",
       "│ 29    ┆ test_static_0_0.parquet           │\n",
       "│ 30    ┆ test_static_0_1.parquet           │\n",
       "│ 31    ┆ test_static_0_2.parquet           │\n",
       "│ 32    ┆ test_static_cb_0.parquet          │\n",
       "│ 33    ┆ test_tax_registry_a_1.parquet     │\n",
       "│ 34    ┆ test_tax_registry_b_1.parquet     │\n",
       "│ 35    ┆ test_tax_registry_c_1.parquet     │\n",
       "└───────┴───────────────────────────────────┘"
      ]
     },
     "execution_count": 21,
     "metadata": {},
     "output_type": "execute_result"
    }
   ],
   "source": [
    "test_path = Path(\"Downloads/credit_risk/test\")\n",
    "test_files = sorted(os.listdir(test_path))\n",
    "test_files_df = pl.DataFrame(\n",
    "    {\n",
    "        \"index\":range(len(test_files)),\n",
    "        \"filename\":test_files\n",
    "    }\n",
    ")\n",
    "test_files_df"
   ]
  },
  {
   "cell_type": "code",
   "execution_count": 22,
   "metadata": {},
   "outputs": [
    {
     "data": {
      "text/html": [
       "<div><style>\n",
       ".dataframe > thead > tr,\n",
       ".dataframe > tbody > tr {\n",
       "  text-align: right;\n",
       "  white-space: pre-wrap;\n",
       "}\n",
       "</style>\n",
       "<small>shape: (5, 4)</small><table border=\"1\" class=\"dataframe\"><thead><tr><th>case_id_base</th><th>month</th><th>week</th><th>year</th></tr><tr><td>u32</td><td>u8</td><td>u8</td><td>u16</td></tr></thead><tbody><tr><td>57543</td><td>10</td><td>41</td><td>2020</td></tr><tr><td>57549</td><td>10</td><td>41</td><td>2020</td></tr><tr><td>57551</td><td>10</td><td>41</td><td>2020</td></tr><tr><td>57552</td><td>10</td><td>41</td><td>2020</td></tr><tr><td>57569</td><td>10</td><td>41</td><td>2020</td></tr></tbody></table></div>"
      ],
      "text/plain": [
       "shape: (5, 4)\n",
       "┌──────────────┬───────┬──────┬──────┐\n",
       "│ case_id_base ┆ month ┆ week ┆ year │\n",
       "│ ---          ┆ ---   ┆ ---  ┆ ---  │\n",
       "│ u32          ┆ u8    ┆ u8   ┆ u16  │\n",
       "╞══════════════╪═══════╪══════╪══════╡\n",
       "│ 57543        ┆ 10    ┆ 41   ┆ 2020 │\n",
       "│ 57549        ┆ 10    ┆ 41   ┆ 2020 │\n",
       "│ 57551        ┆ 10    ┆ 41   ┆ 2020 │\n",
       "│ 57552        ┆ 10    ┆ 41   ┆ 2020 │\n",
       "│ 57569        ┆ 10    ┆ 41   ┆ 2020 │\n",
       "└──────────────┴───────┴──────┴──────┘"
      ]
     },
     "execution_count": 22,
     "metadata": {},
     "output_type": "execute_result"
    }
   ],
   "source": [
    "test_base = (\n",
    "    pl.scan_parquet(\"Downloads/credit_risk/test/test_base.parquet\")\n",
    "    .drop([\"MONTH\",\"WEEK_NUM\"])\n",
    "    .select(\n",
    "        pl.col(\"case_id\").cast(pl.UInt32),\n",
    "        pl.col(\"date_decision\").str.to_datetime().dt.month().cast(pl.UInt8).alias(\"month\"),\n",
    "        pl.col(\"date_decision\").str.to_datetime().dt.week().cast(pl.UInt8).alias(\"week\"),\n",
    "        pl.col(\"date_decision\").str.to_datetime().dt.year().cast(pl.UInt16).alias(\"year\"),\n",
    "    )\n",
    "    .drop(\"date_decision\")\n",
    "    .rename({\"case_id\":\"case_id_base\"})\n",
    ")\n",
    "test_base.fetch().head()"
   ]
  },
  {
   "cell_type": "code",
   "execution_count": 23,
   "metadata": {},
   "outputs": [],
   "source": [
    "def rem_test_case_ids(df):\n",
    "    def get_var_name(df):\n",
    "        for name,value in globals().items():\n",
    "            if value is df:\n",
    "                return name\n",
    "\n",
    "    return (\n",
    "        df\n",
    "        .select(pl.col(\"case_id\").unique())\n",
    "        .with_context(\n",
    "            test_base.select(\"case_id_base\")\n",
    "        )\n",
    "        .select(\n",
    "            pl.col(\"case_id_base\").is_in(pl.col(\"case_id\")).cast(pl.UInt8).mean().alias(f\"% of test_base case_ids in {get_var_name(df)}\")\n",
    "        )\n",
    "        .collect(streaming=True)\n",
    "    )"
   ]
  },
  {
   "cell_type": "code",
   "execution_count": 24,
   "metadata": {},
   "outputs": [
    {
     "data": {
      "text/html": [
       "<div><style>\n",
       ".dataframe > thead > tr,\n",
       ".dataframe > tbody > tr {\n",
       "  text-align: right;\n",
       "  white-space: pre-wrap;\n",
       "}\n",
       "</style>\n",
       "<small>shape: (5, 8)</small><table border=\"1\" class=\"dataframe\"><thead><tr><th>case_id</th><th>education_1138M</th><th>rejectreasonclient_4145042M</th><th>district_544M</th><th>num_group1</th><th>rejectreason_755M</th><th>postype_4733339M</th><th>cancelreason_3545846M</th></tr><tr><td>u32</td><td>cat</td><td>cat</td><td>cat</td><td>i8</td><td>cat</td><td>cat</td><td>cat</td></tr></thead><tbody><tr><td>57543</td><td>&quot;a55475b1&quot;</td><td>&quot;P94_109_143&quot;</td><td>&quot;P197_47_166&quot;</td><td>0</td><td>&quot;P99_56_166&quot;</td><td>&quot;P149_40_170&quot;</td><td>&quot;P94_109_143&quot;</td></tr><tr><td>57549</td><td>&quot;P97_36_170&quot;</td><td>&quot;P94_109_143&quot;</td><td>&quot;P7_110_89&quot;</td><td>0</td><td>&quot;P45_84_106&quot;</td><td>&quot;P67_102_161&quot;</td><td>&quot;P94_109_143&quot;</td></tr><tr><td>57551</td><td>&quot;a55475b1&quot;</td><td>&quot;P94_109_143&quot;</td><td>&quot;a55475b1&quot;</td><td>0</td><td>&quot;P99_56_166&quot;</td><td>&quot;P67_102_161&quot;</td><td>&quot;P94_109_143&quot;</td></tr><tr><td>57551</td><td>&quot;P97_36_170&quot;</td><td>&quot;P94_109_143&quot;</td><td>&quot;P197_47_166&quot;</td><td>1</td><td>&quot;P45_84_106&quot;</td><td>&quot;P46_145_78&quot;</td><td>&quot;P94_109_143&quot;</td></tr><tr><td>57552</td><td>&quot;P97_36_170&quot;</td><td>&quot;P94_109_143&quot;</td><td>&quot;P11_36_178&quot;</td><td>0</td><td>&quot;P45_84_106&quot;</td><td>&quot;P46_145_78&quot;</td><td>&quot;P94_109_143&quot;</td></tr></tbody></table></div>"
      ],
      "text/plain": [
       "shape: (5, 8)\n",
       "┌─────────┬────────────┬────────────┬────────────┬────────────┬────────────┬───────────┬───────────┐\n",
       "│ case_id ┆ education_ ┆ rejectreas ┆ district_5 ┆ num_group1 ┆ rejectreas ┆ postype_4 ┆ cancelrea │\n",
       "│ ---     ┆ 1138M      ┆ onclient_4 ┆ 44M        ┆ ---        ┆ on_755M    ┆ 733339M   ┆ son_35458 │\n",
       "│ u32     ┆ ---        ┆ 145042M    ┆ ---        ┆ i8         ┆ ---        ┆ ---       ┆ 46M       │\n",
       "│         ┆ cat        ┆ ---        ┆ cat        ┆            ┆ cat        ┆ cat       ┆ ---       │\n",
       "│         ┆            ┆ cat        ┆            ┆            ┆            ┆           ┆ cat       │\n",
       "╞═════════╪════════════╪════════════╪════════════╪════════════╪════════════╪═══════════╪═══════════╡\n",
       "│ 57543   ┆ a55475b1   ┆ P94_109_14 ┆ P197_47_16 ┆ 0          ┆ P99_56_166 ┆ P149_40_1 ┆ P94_109_1 │\n",
       "│         ┆            ┆ 3          ┆ 6          ┆            ┆            ┆ 70        ┆ 43        │\n",
       "│ 57549   ┆ P97_36_170 ┆ P94_109_14 ┆ P7_110_89  ┆ 0          ┆ P45_84_106 ┆ P67_102_1 ┆ P94_109_1 │\n",
       "│         ┆            ┆ 3          ┆            ┆            ┆            ┆ 61        ┆ 43        │\n",
       "│ 57551   ┆ a55475b1   ┆ P94_109_14 ┆ a55475b1   ┆ 0          ┆ P99_56_166 ┆ P67_102_1 ┆ P94_109_1 │\n",
       "│         ┆            ┆ 3          ┆            ┆            ┆            ┆ 61        ┆ 43        │\n",
       "│ 57551   ┆ P97_36_170 ┆ P94_109_14 ┆ P197_47_16 ┆ 1          ┆ P45_84_106 ┆ P46_145_7 ┆ P94_109_1 │\n",
       "│         ┆            ┆ 3          ┆ 6          ┆            ┆            ┆ 8         ┆ 43        │\n",
       "│ 57552   ┆ P97_36_170 ┆ P94_109_14 ┆ P11_36_178 ┆ 0          ┆ P45_84_106 ┆ P46_145_7 ┆ P94_109_1 │\n",
       "│         ┆            ┆ 3          ┆            ┆            ┆            ┆ 8         ┆ 43        │\n",
       "└─────────┴────────────┴────────────┴────────────┴────────────┴────────────┴───────────┴───────────┘"
      ]
     },
     "metadata": {},
     "output_type": "display_data"
    },
    {
     "data": {
      "text/html": [
       "<div><style>\n",
       ".dataframe > thead > tr,\n",
       ".dataframe > tbody > tr {\n",
       "  text-align: right;\n",
       "  white-space: pre-wrap;\n",
       "}\n",
       "</style>\n",
       "<small>shape: (1, 1)</small><table border=\"1\" class=\"dataframe\"><thead><tr><th>% of test_base case_ids in test_previous_application</th></tr><tr><td>f64</td></tr></thead><tbody><tr><td>0.60</td></tr></tbody></table></div>"
      ],
      "text/plain": [
       "shape: (1, 1)\n",
       "┌──────────────────────────────────────────────────────┐\n",
       "│ % of test_base case_ids in test_previous_application │\n",
       "│ ---                                                  │\n",
       "│ f64                                                  │\n",
       "╞══════════════════════════════════════════════════════╡\n",
       "│ 0.60                                                 │\n",
       "└──────────────────────────────────────────────────────┘"
      ]
     },
     "execution_count": 24,
     "metadata": {},
     "output_type": "execute_result"
    }
   ],
   "source": [
    "test_previous_application = (\n",
    "    pl.scan_parquet(\"Downloads/credit_risk/test/test_applprev_1_*.parquet\")\n",
    "    .select(\"case_id\",cs.by_name(train_previous_application_columns))\n",
    "    .select(pl.all().shrink_dtype())\n",
    "    .with_columns(pl.col(\"case_id\").cast(pl.UInt32),pl.col(pl.String).cast(pl.Categorical))\n",
    ")\n",
    "display(test_previous_application.fetch().head())\n",
    "test_previous_application.pipe(rem_test_case_ids)"
   ]
  },
  {
   "cell_type": "code",
   "execution_count": 25,
   "metadata": {},
   "outputs": [
    {
     "data": {
      "text/html": [
       "<div><style>\n",
       ".dataframe > thead > tr,\n",
       ".dataframe > tbody > tr {\n",
       "  text-align: right;\n",
       "  white-space: pre-wrap;\n",
       "}\n",
       "</style>\n",
       "<small>shape: (5, 3)</small><table border=\"1\" class=\"dataframe\"><thead><tr><th>case_id</th><th>num_group1</th><th>num_group2</th></tr><tr><td>u32</td><td>i8</td><td>i8</td></tr></thead><tbody><tr><td>57543</td><td>0</td><td>0</td></tr><tr><td>57549</td><td>0</td><td>2</td></tr><tr><td>57549</td><td>0</td><td>0</td></tr><tr><td>57549</td><td>0</td><td>1</td></tr><tr><td>57551</td><td>1</td><td>1</td></tr></tbody></table></div>"
      ],
      "text/plain": [
       "shape: (5, 3)\n",
       "┌─────────┬────────────┬────────────┐\n",
       "│ case_id ┆ num_group1 ┆ num_group2 │\n",
       "│ ---     ┆ ---        ┆ ---        │\n",
       "│ u32     ┆ i8         ┆ i8         │\n",
       "╞═════════╪════════════╪════════════╡\n",
       "│ 57543   ┆ 0          ┆ 0          │\n",
       "│ 57549   ┆ 0          ┆ 2          │\n",
       "│ 57549   ┆ 0          ┆ 0          │\n",
       "│ 57549   ┆ 0          ┆ 1          │\n",
       "│ 57551   ┆ 1          ┆ 1          │\n",
       "└─────────┴────────────┴────────────┘"
      ]
     },
     "metadata": {},
     "output_type": "display_data"
    },
    {
     "data": {
      "text/html": [
       "<div><style>\n",
       ".dataframe > thead > tr,\n",
       ".dataframe > tbody > tr {\n",
       "  text-align: right;\n",
       "  white-space: pre-wrap;\n",
       "}\n",
       "</style>\n",
       "<small>shape: (1, 1)</small><table border=\"1\" class=\"dataframe\"><thead><tr><th>% of test_base case_ids in test_previous_application_status</th></tr><tr><td>f64</td></tr></thead><tbody><tr><td>0.40</td></tr></tbody></table></div>"
      ],
      "text/plain": [
       "shape: (1, 1)\n",
       "┌─────────────────────────────────────────────────────────────┐\n",
       "│ % of test_base case_ids in test_previous_application_status │\n",
       "│ ---                                                         │\n",
       "│ f64                                                         │\n",
       "╞═════════════════════════════════════════════════════════════╡\n",
       "│ 0.40                                                        │\n",
       "└─────────────────────────────────────────────────────────────┘"
      ]
     },
     "execution_count": 25,
     "metadata": {},
     "output_type": "execute_result"
    }
   ],
   "source": [
    "test_previous_application_status = (\n",
    "    pl.scan_parquet(\"Downloads/credit_risk/test/test_applprev_2.parquet\")\n",
    "    .select(\"case_id\",cs.by_name(train_previous_application_status_columns))\n",
    "    .with_columns(pl.all().shrink_dtype())\n",
    "    .with_columns(\n",
    "        pl.col(\"case_id\").cast(pl.UInt32),\n",
    "        pl.col(pl.String).cast(pl.Categorical)\n",
    "    )\n",
    ")\n",
    "display(test_previous_application_status.fetch().head())\n",
    "test_previous_application_status.pipe(rem_test_case_ids)"
   ]
  },
  {
   "cell_type": "code",
   "execution_count": 26,
   "metadata": {},
   "outputs": [
    {
     "data": {
      "text/html": [
       "<div><style>\n",
       ".dataframe > thead > tr,\n",
       ".dataframe > tbody > tr {\n",
       "  text-align: right;\n",
       "  white-space: pre-wrap;\n",
       "}\n",
       "</style>\n",
       "<small>shape: (5, 19)</small><table border=\"1\" class=\"dataframe\"><thead><tr><th>case_id</th><th>mobilephncnt 593L</th><th>lastrejectreasonclient 4145040M</th><th>lastapprcommoditycat 1041M</th><th>credamount 770A</th><th>numrejects9m 859L</th><th>homephncnt 628L</th><th>disbursedcredamount 1113A</th><th>lastrejectreason 759M</th><th>numnotactivated 1143L</th><th>sellerplacecnt 915L</th><th>numcontrs3months 479L</th><th>annuity 780A</th><th>clientscnt 533L</th><th>applications30d 658L</th><th>lastcancelreason 561M</th><th>lastrejectcommoditycat 161M</th><th>deferredmnthsnum 166L</th><th>numactivecredschannel 414L</th></tr><tr><td>u32</td><td>f32</td><td>cat</td><td>cat</td><td>f32</td><td>f32</td><td>f32</td><td>f32</td><td>cat</td><td>f32</td><td>f32</td><td>f32</td><td>f32</td><td>f32</td><td>f32</td><td>cat</td><td>cat</td><td>f32</td><td>f32</td></tr></thead><tbody><tr><td>57543</td><td>1.00</td><td>&quot;P94_109_143&quot;</td><td>&quot;a55475b1&quot;</td><td>100000.00</td><td>0.00</td><td>0.00</td><td>100000.00</td><td>&quot;P99_56_166&quot;</td><td>0.00</td><td>0.00</td><td>0.00</td><td>7637.20</td><td>0.00</td><td>0.00</td><td>&quot;P94_109_143&quot;</td><td>&quot;P159_130_59&quot;</td><td>0.00</td><td>0.00</td></tr><tr><td>57549</td><td>2.00</td><td>&quot;P94_109_143&quot;</td><td>&quot;a55475b1&quot;</td><td>10000.00</td><td>0.00</td><td>1.00</td><td>10000.00</td><td>&quot;P45_84_106&quot;</td><td>0.00</td><td>0.00</td><td>0.00</td><td>902.60</td><td>0.00</td><td>0.00</td><td>&quot;P94_109_143&quot;</td><td>&quot;a55475b1&quot;</td><td>0.00</td><td>0.00</td></tr><tr><td>57551</td><td>1.00</td><td>&quot;P94_109_143&quot;</td><td>&quot;a55475b1&quot;</td><td>40000.00</td><td>0.00</td><td>0.00</td><td>40000.00</td><td>&quot;P99_56_166&quot;</td><td>0.00</td><td>0.00</td><td>0.00</td><td>3610.20</td><td>0.00</td><td>0.00</td><td>&quot;P94_109_143&quot;</td><td>&quot;a55475b1&quot;</td><td>0.00</td><td>0.00</td></tr><tr><td>57552</td><td>1.00</td><td>&quot;P94_109_143&quot;</td><td>&quot;a55475b1&quot;</td><td>90000.00</td><td>0.00</td><td>0.00</td><td>90000.00</td><td>&quot;P45_84_106&quot;</td><td>0.00</td><td>0.00</td><td>0.00</td><td>6964.40</td><td>1.00</td><td>0.00</td><td>&quot;P94_109_143&quot;</td><td>&quot;a55475b1&quot;</td><td>0.00</td><td>0.00</td></tr><tr><td>57569</td><td>1.00</td><td>&quot;a55475b1&quot;</td><td>&quot;a55475b1&quot;</td><td>50000.00</td><td>0.00</td><td>0.00</td><td>50000.00</td><td>&quot;a55475b1&quot;</td><td>0.00</td><td>0.00</td><td>0.00</td><td>5553.40</td><td>0.00</td><td>0.00</td><td>&quot;a55475b1&quot;</td><td>&quot;a55475b1&quot;</td><td>0.00</td><td>0.00</td></tr></tbody></table></div>"
      ],
      "text/plain": [
       "shape: (5, 19)\n",
       "┌─────────┬────────────┬───────────┬───────────┬───┬───────────┬───────────┬───────────┬───────────┐\n",
       "│ case_id ┆ mobilephnc ┆ lastrejec ┆ lastapprc ┆ … ┆ lastcance ┆ lastrejec ┆ deferredm ┆ numactive │\n",
       "│ ---     ┆ nt 593L    ┆ treasoncl ┆ ommodityc ┆   ┆ lreason   ┆ tcommodit ┆ nthsnum   ┆ credschan │\n",
       "│ u32     ┆ ---        ┆ ient      ┆ at 1041M  ┆   ┆ 561M      ┆ ycat 161M ┆ 166L      ┆ nel 414L  │\n",
       "│         ┆ f32        ┆ 4145040M  ┆ ---       ┆   ┆ ---       ┆ ---       ┆ ---       ┆ ---       │\n",
       "│         ┆            ┆ ---       ┆ cat       ┆   ┆ cat       ┆ cat       ┆ f32       ┆ f32       │\n",
       "│         ┆            ┆ cat       ┆           ┆   ┆           ┆           ┆           ┆           │\n",
       "╞═════════╪════════════╪═══════════╪═══════════╪═══╪═══════════╪═══════════╪═══════════╪═══════════╡\n",
       "│ 57543   ┆ 1.00       ┆ P94_109_1 ┆ a55475b1  ┆ … ┆ P94_109_1 ┆ P159_130_ ┆ 0.00      ┆ 0.00      │\n",
       "│         ┆            ┆ 43        ┆           ┆   ┆ 43        ┆ 59        ┆           ┆           │\n",
       "│ 57549   ┆ 2.00       ┆ P94_109_1 ┆ a55475b1  ┆ … ┆ P94_109_1 ┆ a55475b1  ┆ 0.00      ┆ 0.00      │\n",
       "│         ┆            ┆ 43        ┆           ┆   ┆ 43        ┆           ┆           ┆           │\n",
       "│ 57551   ┆ 1.00       ┆ P94_109_1 ┆ a55475b1  ┆ … ┆ P94_109_1 ┆ a55475b1  ┆ 0.00      ┆ 0.00      │\n",
       "│         ┆            ┆ 43        ┆           ┆   ┆ 43        ┆           ┆           ┆           │\n",
       "│ 57552   ┆ 1.00       ┆ P94_109_1 ┆ a55475b1  ┆ … ┆ P94_109_1 ┆ a55475b1  ┆ 0.00      ┆ 0.00      │\n",
       "│         ┆            ┆ 43        ┆           ┆   ┆ 43        ┆           ┆           ┆           │\n",
       "│ 57569   ┆ 1.00       ┆ a55475b1  ┆ a55475b1  ┆ … ┆ a55475b1  ┆ a55475b1  ┆ 0.00      ┆ 0.00      │\n",
       "└─────────┴────────────┴───────────┴───────────┴───┴───────────┴───────────┴───────────┴───────────┘"
      ]
     },
     "metadata": {},
     "output_type": "display_data"
    },
    {
     "data": {
      "text/html": [
       "<div><style>\n",
       ".dataframe > thead > tr,\n",
       ".dataframe > tbody > tr {\n",
       "  text-align: right;\n",
       "  white-space: pre-wrap;\n",
       "}\n",
       "</style>\n",
       "<small>shape: (1, 1)</small><table border=\"1\" class=\"dataframe\"><thead><tr><th>% of test_base case_ids in test_static_total</th></tr><tr><td>f64</td></tr></thead><tbody><tr><td>1.00</td></tr></tbody></table></div>"
      ],
      "text/plain": [
       "shape: (1, 1)\n",
       "┌──────────────────────────────────────────────┐\n",
       "│ % of test_base case_ids in test_static_total │\n",
       "│ ---                                          │\n",
       "│ f64                                          │\n",
       "╞══════════════════════════════════════════════╡\n",
       "│ 1.00                                         │\n",
       "└──────────────────────────────────────────────┘"
      ]
     },
     "execution_count": 26,
     "metadata": {},
     "output_type": "execute_result"
    }
   ],
   "source": [
    "test_static_total = (\n",
    "    pl.scan_parquet(\"Downloads/credit_risk/test/test_static_0_*.parquet\")\n",
    "    .select(\"case_id\",cs.by_name(train_total_static_columns))\n",
    "    .with_columns(\n",
    "        pl.col(\"case_id\").cast(pl.UInt32),\n",
    "        cs.string().cast(pl.Categorical),\n",
    "        cs.float().cast(pl.Float32)\n",
    "    )\n",
    "    .pipe(lambda df: df.rename({_:\" \".join(_.split(\"_\")) for _ in df.columns if _ != 'case_id'}))\n",
    ")\n",
    "display(test_static_total.fetch().head())\n",
    "test_static_total.pipe(rem_test_case_ids)"
   ]
  },
  {
   "cell_type": "code",
   "execution_count": 27,
   "metadata": {},
   "outputs": [
    {
     "data": {
      "text/html": [
       "<div><style>\n",
       ".dataframe > thead > tr,\n",
       ".dataframe > tbody > tr {\n",
       "  text-align: right;\n",
       "  white-space: pre-wrap;\n",
       "}\n",
       "</style>\n",
       "<small>shape: (5, 6)</small><table border=\"1\" class=\"dataframe\"><thead><tr><th>case_id</th><th>education 1103M</th><th>education 88M</th><th>maritalst 385M</th><th>description 5085714M</th><th>maritalst 893M</th></tr><tr><td>u32</td><td>cat</td><td>cat</td><td>cat</td><td>cat</td><td>cat</td></tr></thead><tbody><tr><td>57543</td><td>&quot;a55475b1&quot;</td><td>&quot;a55475b1&quot;</td><td>&quot;a55475b1&quot;</td><td>&quot;2fc785b2&quot;</td><td>&quot;a55475b1&quot;</td></tr><tr><td>57549</td><td>&quot;a55475b1&quot;</td><td>&quot;a55475b1&quot;</td><td>&quot;a55475b1&quot;</td><td>&quot;2fc785b2&quot;</td><td>&quot;a55475b1&quot;</td></tr><tr><td>57551</td><td>&quot;a55475b1&quot;</td><td>&quot;a55475b1&quot;</td><td>&quot;a55475b1&quot;</td><td>&quot;2fc785b2&quot;</td><td>&quot;a55475b1&quot;</td></tr><tr><td>57552</td><td>&quot;a55475b1&quot;</td><td>&quot;a55475b1&quot;</td><td>&quot;a55475b1&quot;</td><td>&quot;2fc785b2&quot;</td><td>&quot;a55475b1&quot;</td></tr><tr><td>57569</td><td>&quot;a55475b1&quot;</td><td>&quot;a55475b1&quot;</td><td>&quot;b6cabe76&quot;</td><td>&quot;2fc785b2&quot;</td><td>&quot;a55475b1&quot;</td></tr></tbody></table></div>"
      ],
      "text/plain": [
       "shape: (5, 6)\n",
       "┌─────────┬─────────────────┬───────────────┬────────────────┬─────────────┬────────────────┐\n",
       "│ case_id ┆ education 1103M ┆ education 88M ┆ maritalst 385M ┆ description ┆ maritalst 893M │\n",
       "│ ---     ┆ ---             ┆ ---           ┆ ---            ┆ 5085714M    ┆ ---            │\n",
       "│ u32     ┆ cat             ┆ cat           ┆ cat            ┆ ---         ┆ cat            │\n",
       "│         ┆                 ┆               ┆                ┆ cat         ┆                │\n",
       "╞═════════╪═════════════════╪═══════════════╪════════════════╪═════════════╪════════════════╡\n",
       "│ 57543   ┆ a55475b1        ┆ a55475b1      ┆ a55475b1       ┆ 2fc785b2    ┆ a55475b1       │\n",
       "│ 57549   ┆ a55475b1        ┆ a55475b1      ┆ a55475b1       ┆ 2fc785b2    ┆ a55475b1       │\n",
       "│ 57551   ┆ a55475b1        ┆ a55475b1      ┆ a55475b1       ┆ 2fc785b2    ┆ a55475b1       │\n",
       "│ 57552   ┆ a55475b1        ┆ a55475b1      ┆ a55475b1       ┆ 2fc785b2    ┆ a55475b1       │\n",
       "│ 57569   ┆ a55475b1        ┆ a55475b1      ┆ b6cabe76       ┆ 2fc785b2    ┆ a55475b1       │\n",
       "└─────────┴─────────────────┴───────────────┴────────────────┴─────────────┴────────────────┘"
      ]
     },
     "metadata": {},
     "output_type": "display_data"
    },
    {
     "data": {
      "text/html": [
       "<div><style>\n",
       ".dataframe > thead > tr,\n",
       ".dataframe > tbody > tr {\n",
       "  text-align: right;\n",
       "  white-space: pre-wrap;\n",
       "}\n",
       "</style>\n",
       "<small>shape: (1, 1)</small><table border=\"1\" class=\"dataframe\"><thead><tr><th>% of test_base case_ids in test_static_depth</th></tr><tr><td>f64</td></tr></thead><tbody><tr><td>1.00</td></tr></tbody></table></div>"
      ],
      "text/plain": [
       "shape: (1, 1)\n",
       "┌──────────────────────────────────────────────┐\n",
       "│ % of test_base case_ids in test_static_depth │\n",
       "│ ---                                          │\n",
       "│ f64                                          │\n",
       "╞══════════════════════════════════════════════╡\n",
       "│ 1.00                                         │\n",
       "└──────────────────────────────────────────────┘"
      ]
     },
     "execution_count": 27,
     "metadata": {},
     "output_type": "execute_result"
    }
   ],
   "source": [
    "test_static_depth = (\n",
    "    pl.scan_parquet(\"Downloads/credit_risk/test/test_static_cb_0.parquet\")\n",
    "    .select(cs.by_name(\"case_id\").cast(pl.UInt32),cs.by_name(train_static_depth_columns).cast(pl.Categorical))\n",
    "    .pipe(lambda df: df.rename({_:\" \".join(_.split(\"_\")) for _ in df.columns if _ != 'case_id'}))\n",
    ")\n",
    "display(test_static_depth.fetch().head())\n",
    "test_static_depth.pipe(rem_test_case_ids)"
   ]
  },
  {
   "cell_type": "code",
   "execution_count": 28,
   "metadata": {},
   "outputs": [
    {
     "data": {
      "text/html": [
       "<div><style>\n",
       ".dataframe > thead > tr,\n",
       ".dataframe > tbody > tr {\n",
       "  text-align: right;\n",
       "  white-space: pre-wrap;\n",
       "}\n",
       "</style>\n",
       "<small>shape: (5, 2)</small><table border=\"1\" class=\"dataframe\"><thead><tr><th>case_id</th><th>amount 416A</th></tr><tr><td>u32</td><td>f32</td></tr></thead><tbody><tr><td>57694</td><td>150052.38</td></tr><tr><td>57719</td><td>368.39</td></tr><tr><td>57737</td><td>202.00</td></tr><tr><td>57774</td><td>733.01</td></tr><tr><td>57890</td><td>1178.49</td></tr></tbody></table></div>"
      ],
      "text/plain": [
       "shape: (5, 2)\n",
       "┌─────────┬─────────────┐\n",
       "│ case_id ┆ amount 416A │\n",
       "│ ---     ┆ ---         │\n",
       "│ u32     ┆ f32         │\n",
       "╞═════════╪═════════════╡\n",
       "│ 57694   ┆ 150052.38   │\n",
       "│ 57719   ┆ 368.39      │\n",
       "│ 57737   ┆ 202.00      │\n",
       "│ 57774   ┆ 733.01      │\n",
       "│ 57890   ┆ 1178.49     │\n",
       "└─────────┴─────────────┘"
      ]
     },
     "metadata": {},
     "output_type": "display_data"
    },
    {
     "data": {
      "text/html": [
       "<div><style>\n",
       ".dataframe > thead > tr,\n",
       ".dataframe > tbody > tr {\n",
       "  text-align: right;\n",
       "  white-space: pre-wrap;\n",
       "}\n",
       "</style>\n",
       "<small>shape: (1, 1)</small><table border=\"1\" class=\"dataframe\"><thead><tr><th>% of test_base case_ids in test_deposit</th></tr><tr><td>f64</td></tr></thead><tbody><tr><td>0.00</td></tr></tbody></table></div>"
      ],
      "text/plain": [
       "shape: (1, 1)\n",
       "┌─────────────────────────────────────────┐\n",
       "│ % of test_base case_ids in test_deposit │\n",
       "│ ---                                     │\n",
       "│ f64                                     │\n",
       "╞═════════════════════════════════════════╡\n",
       "│ 0.00                                    │\n",
       "└─────────────────────────────────────────┘"
      ]
     },
     "execution_count": 28,
     "metadata": {},
     "output_type": "execute_result"
    }
   ],
   "source": [
    "test_deposit = (\n",
    "    pl.scan_parquet(\"Downloads/credit_risk/test/test_deposit_1.parquet\")\n",
    "    .select(cs.by_name(\"case_id\").cast(pl.UInt32),cs.float().cast(pl.Float32))\n",
    "    .pipe(lambda df: df.rename({_:\" \".join(_.split(\"_\")) for _ in df.columns if _ != 'case_id'}))\n",
    ")\n",
    "display(test_deposit.fetch().head())\n",
    "test_deposit.pipe(rem_test_case_ids)"
   ]
  },
  {
   "cell_type": "code",
   "execution_count": 29,
   "metadata": {},
   "outputs": [
    {
     "data": {
      "text/html": [
       "<div><style>\n",
       ".dataframe > thead > tr,\n",
       ".dataframe > tbody > tr {\n",
       "  text-align: right;\n",
       "  white-space: pre-wrap;\n",
       "}\n",
       "</style>\n",
       "<small>shape: (5, 10)</small><table border=\"1\" class=\"dataframe\"><thead><tr><th>case_id</th><th>education 927M</th><th>registaddr district 1083M</th><th>contaddr district 15M</th><th>empladdr district 926M</th><th>empladdr zipcode 114M</th><th>language1 981M</th><th>personindex 1023L</th><th>persontype 1072L</th><th>persontype 792L</th></tr><tr><td>u32</td><td>cat</td><td>cat</td><td>cat</td><td>cat</td><td>cat</td><td>cat</td><td>u32</td><td>u32</td><td>u32</td></tr></thead><tbody><tr><td>57543</td><td>&quot;P97_36_170&quot;</td><td>&quot;P107_30_170&quot;</td><td>&quot;P107_30_170&quot;</td><td>&quot;P16_81_96&quot;</td><td>&quot;P144_138_111&quot;</td><td>&quot;P209_127_106&quot;</td><td>0</td><td>1</td><td>1</td></tr><tr><td>57543</td><td>&quot;a55475b1&quot;</td><td>&quot;a55475b1&quot;</td><td>&quot;a55475b1&quot;</td><td>&quot;a55475b1&quot;</td><td>&quot;a55475b1&quot;</td><td>&quot;a55475b1&quot;</td><td>1</td><td>1</td><td>5</td></tr><tr><td>57543</td><td>&quot;a55475b1&quot;</td><td>&quot;a55475b1&quot;</td><td>&quot;a55475b1&quot;</td><td>&quot;a55475b1&quot;</td><td>&quot;a55475b1&quot;</td><td>&quot;a55475b1&quot;</td><td>1</td><td>5</td><td>5</td></tr><tr><td>57549</td><td>&quot;P97_36_170&quot;</td><td>&quot;P7_110_89&quot;</td><td>&quot;P7_110_89&quot;</td><td>&quot;P7_110_89&quot;</td><td>&quot;P166_45_172&quot;</td><td>&quot;P10_39_147&quot;</td><td>0</td><td>1</td><td>1</td></tr><tr><td>57549</td><td>&quot;a55475b1&quot;</td><td>&quot;a55475b1&quot;</td><td>&quot;a55475b1&quot;</td><td>&quot;a55475b1&quot;</td><td>&quot;a55475b1&quot;</td><td>&quot;a55475b1&quot;</td><td>1</td><td>1</td><td>5</td></tr></tbody></table></div>"
      ],
      "text/plain": [
       "shape: (5, 10)\n",
       "┌─────────┬────────────┬───────────┬───────────┬───┬───────────┬───────────┬───────────┬───────────┐\n",
       "│ case_id ┆ education  ┆ registadd ┆ contaddr  ┆ … ┆ language1 ┆ personind ┆ persontyp ┆ persontyp │\n",
       "│ ---     ┆ 927M       ┆ r         ┆ district  ┆   ┆ 981M      ┆ ex 1023L  ┆ e 1072L   ┆ e 792L    │\n",
       "│ u32     ┆ ---        ┆ district  ┆ 15M       ┆   ┆ ---       ┆ ---       ┆ ---       ┆ ---       │\n",
       "│         ┆ cat        ┆ 1083M     ┆ ---       ┆   ┆ cat       ┆ u32       ┆ u32       ┆ u32       │\n",
       "│         ┆            ┆ ---       ┆ cat       ┆   ┆           ┆           ┆           ┆           │\n",
       "│         ┆            ┆ cat       ┆           ┆   ┆           ┆           ┆           ┆           │\n",
       "╞═════════╪════════════╪═══════════╪═══════════╪═══╪═══════════╪═══════════╪═══════════╪═══════════╡\n",
       "│ 57543   ┆ P97_36_170 ┆ P107_30_1 ┆ P107_30_1 ┆ … ┆ P209_127_ ┆ 0         ┆ 1         ┆ 1         │\n",
       "│         ┆            ┆ 70        ┆ 70        ┆   ┆ 106       ┆           ┆           ┆           │\n",
       "│ 57543   ┆ a55475b1   ┆ a55475b1  ┆ a55475b1  ┆ … ┆ a55475b1  ┆ 1         ┆ 1         ┆ 5         │\n",
       "│ 57543   ┆ a55475b1   ┆ a55475b1  ┆ a55475b1  ┆ … ┆ a55475b1  ┆ 1         ┆ 5         ┆ 5         │\n",
       "│ 57549   ┆ P97_36_170 ┆ P7_110_89 ┆ P7_110_89 ┆ … ┆ P10_39_14 ┆ 0         ┆ 1         ┆ 1         │\n",
       "│         ┆            ┆           ┆           ┆   ┆ 7         ┆           ┆           ┆           │\n",
       "│ 57549   ┆ a55475b1   ┆ a55475b1  ┆ a55475b1  ┆ … ┆ a55475b1  ┆ 1         ┆ 1         ┆ 5         │\n",
       "└─────────┴────────────┴───────────┴───────────┴───┴───────────┴───────────┴───────────┴───────────┘"
      ]
     },
     "metadata": {},
     "output_type": "display_data"
    },
    {
     "data": {
      "text/html": [
       "<div><style>\n",
       ".dataframe > thead > tr,\n",
       ".dataframe > tbody > tr {\n",
       "  text-align: right;\n",
       "  white-space: pre-wrap;\n",
       "}\n",
       "</style>\n",
       "<small>shape: (1, 1)</small><table border=\"1\" class=\"dataframe\"><thead><tr><th>% of test_base case_ids in test_first_person</th></tr><tr><td>f64</td></tr></thead><tbody><tr><td>0.30</td></tr></tbody></table></div>"
      ],
      "text/plain": [
       "shape: (1, 1)\n",
       "┌──────────────────────────────────────────────┐\n",
       "│ % of test_base case_ids in test_first_person │\n",
       "│ ---                                          │\n",
       "│ f64                                          │\n",
       "╞══════════════════════════════════════════════╡\n",
       "│ 0.30                                         │\n",
       "└──────────────────────────────────────────────┘"
      ]
     },
     "execution_count": 29,
     "metadata": {},
     "output_type": "execute_result"
    }
   ],
   "source": [
    "test_first_person = (\n",
    "    pl.scan_parquet(\"Downloads/credit_risk/test/test_person_1.parquet\")\n",
    "    .select(\n",
    "        cs.by_name(\"case_id\").cast(pl.UInt32),\n",
    "        cs.by_name(train_person_1_columns).cast(pl.Categorical),\n",
    "        cs.contains(\"person\").cast(pl.UInt32)\n",
    "    )\n",
    "    .pipe(lambda df: df.rename({_:\" \".join(_.split(\"_\")) for _ in df.columns if not _ == 'case_id'}))\n",
    "    .fill_null(strategy=\"forward\")\n",
    ")\n",
    "display(test_first_person.fetch().head())\n",
    "test_first_person.pipe(rem_test_case_ids)"
   ]
  },
  {
   "cell_type": "code",
   "execution_count": 30,
   "metadata": {},
   "outputs": [
    {
     "data": {
      "text/html": [
       "<div><style>\n",
       ".dataframe > thead > tr,\n",
       ".dataframe > tbody > tr {\n",
       "  text-align: right;\n",
       "  white-space: pre-wrap;\n",
       "}\n",
       "</style>\n",
       "<small>shape: (5, 3)</small><table border=\"1\" class=\"dataframe\"><thead><tr><th>case_id</th><th>addres zip 823M</th><th>addres district 368M</th></tr><tr><td>u32</td><td>cat</td><td>cat</td></tr></thead><tbody><tr><td>57552</td><td>&quot;a55475b1&quot;</td><td>&quot;a55475b1&quot;</td></tr><tr><td>57569</td><td>&quot;a55475b1&quot;</td><td>&quot;a55475b1&quot;</td></tr><tr><td>57630</td><td>&quot;a55475b1&quot;</td><td>&quot;a55475b1&quot;</td></tr><tr><td>57631</td><td>&quot;a55475b1&quot;</td><td>&quot;a55475b1&quot;</td></tr><tr><td>57632</td><td>&quot;a55475b1&quot;</td><td>&quot;a55475b1&quot;</td></tr></tbody></table></div>"
      ],
      "text/plain": [
       "shape: (5, 3)\n",
       "┌─────────┬─────────────────┬──────────────────────┐\n",
       "│ case_id ┆ addres zip 823M ┆ addres district 368M │\n",
       "│ ---     ┆ ---             ┆ ---                  │\n",
       "│ u32     ┆ cat             ┆ cat                  │\n",
       "╞═════════╪═════════════════╪══════════════════════╡\n",
       "│ 57552   ┆ a55475b1        ┆ a55475b1             │\n",
       "│ 57569   ┆ a55475b1        ┆ a55475b1             │\n",
       "│ 57630   ┆ a55475b1        ┆ a55475b1             │\n",
       "│ 57631   ┆ a55475b1        ┆ a55475b1             │\n",
       "│ 57632   ┆ a55475b1        ┆ a55475b1             │\n",
       "└─────────┴─────────────────┴──────────────────────┘"
      ]
     },
     "metadata": {},
     "output_type": "display_data"
    },
    {
     "data": {
      "text/html": [
       "<div><style>\n",
       ".dataframe > thead > tr,\n",
       ".dataframe > tbody > tr {\n",
       "  text-align: right;\n",
       "  white-space: pre-wrap;\n",
       "}\n",
       "</style>\n",
       "<small>shape: (1, 1)</small><table border=\"1\" class=\"dataframe\"><thead><tr><th>% of test_base case_ids in test_second_person</th></tr><tr><td>f64</td></tr></thead><tbody><tr><td>0.70</td></tr></tbody></table></div>"
      ],
      "text/plain": [
       "shape: (1, 1)\n",
       "┌───────────────────────────────────────────────┐\n",
       "│ % of test_base case_ids in test_second_person │\n",
       "│ ---                                           │\n",
       "│ f64                                           │\n",
       "╞═══════════════════════════════════════════════╡\n",
       "│ 0.70                                          │\n",
       "└───────────────────────────────────────────────┘"
      ]
     },
     "execution_count": 30,
     "metadata": {},
     "output_type": "execute_result"
    }
   ],
   "source": [
    "test_second_person = (\n",
    "    pl.scan_parquet(\"Downloads/credit_risk/test/test_person_2.parquet\")\n",
    "    .select(cs.by_name(\"case_id\").cast(pl.UInt32),cs.by_name(train_person_2_columns).cast(pl.Categorical))\n",
    "    .pipe(lambda df: df.rename({_:\" \".join(_.split(\"_\")) for _ in df.columns if not _ == 'case_id'}))\n",
    ")\n",
    "display(test_second_person.fetch().head())\n",
    "test_second_person.pipe(rem_test_case_ids)"
   ]
  },
  {
   "cell_type": "code",
   "execution_count": 31,
   "metadata": {},
   "outputs": [
    {
     "data": {
      "text/html": [
       "<div><style>\n",
       ".dataframe > thead > tr,\n",
       ".dataframe > tbody > tr {\n",
       "  text-align: right;\n",
       "  white-space: pre-wrap;\n",
       "}\n",
       "</style>\n",
       "<small>shape: (5, 2)</small><table border=\"1\" class=\"dataframe\"><thead><tr><th>case_id</th><th>amount 4527230A</th></tr><tr><td>u32</td><td>f32</td></tr></thead><tbody><tr><td>57679</td><td>1120.00</td></tr><tr><td>57679</td><td>3640.00</td></tr><tr><td>57679</td><td>3122.00</td></tr><tr><td>57679</td><td>2160.00</td></tr><tr><td>57679</td><td>1494.60</td></tr></tbody></table></div>"
      ],
      "text/plain": [
       "shape: (5, 2)\n",
       "┌─────────┬─────────────────┐\n",
       "│ case_id ┆ amount 4527230A │\n",
       "│ ---     ┆ ---             │\n",
       "│ u32     ┆ f32             │\n",
       "╞═════════╪═════════════════╡\n",
       "│ 57679   ┆ 1120.00         │\n",
       "│ 57679   ┆ 3640.00         │\n",
       "│ 57679   ┆ 3122.00         │\n",
       "│ 57679   ┆ 2160.00         │\n",
       "│ 57679   ┆ 1494.60         │\n",
       "└─────────┴─────────────────┘"
      ]
     },
     "metadata": {},
     "output_type": "display_data"
    },
    {
     "data": {
      "text/html": [
       "<div><style>\n",
       ".dataframe > thead > tr,\n",
       ".dataframe > tbody > tr {\n",
       "  text-align: right;\n",
       "  white-space: pre-wrap;\n",
       "}\n",
       "</style>\n",
       "<small>shape: (1, 1)</small><table border=\"1\" class=\"dataframe\"><thead><tr><th>% of test_base case_ids in test_first_registry</th></tr><tr><td>f64</td></tr></thead><tbody><tr><td>0.00</td></tr></tbody></table></div>"
      ],
      "text/plain": [
       "shape: (1, 1)\n",
       "┌────────────────────────────────────────────────┐\n",
       "│ % of test_base case_ids in test_first_registry │\n",
       "│ ---                                            │\n",
       "│ f64                                            │\n",
       "╞════════════════════════════════════════════════╡\n",
       "│ 0.00                                           │\n",
       "└────────────────────────────────────────────────┘"
      ]
     },
     "execution_count": 31,
     "metadata": {},
     "output_type": "execute_result"
    }
   ],
   "source": [
    "test_first_registry = (\n",
    "    pl.scan_parquet(\"Downloads/credit_risk/test/test_tax_registry_a_1.parquet\")\n",
    "    .select(cs.by_name(\"case_id\").cast(pl.UInt32),cs.by_name(train_tax_registry_1_columns).cast(pl.Float32))\n",
    "    .pipe(lambda df: df.rename({_:\" \".join(_.split(\"_\")) for _ in df.columns if not _ == 'case_id'}))\n",
    ")\n",
    "display(test_first_registry.fetch().head())\n",
    "test_first_registry.pipe(rem_test_case_ids)"
   ]
  },
  {
   "cell_type": "code",
   "execution_count": 32,
   "metadata": {},
   "outputs": [
    {
     "data": {
      "text/html": [
       "<div><style>\n",
       ".dataframe > thead > tr,\n",
       ".dataframe > tbody > tr {\n",
       "  text-align: right;\n",
       "  white-space: pre-wrap;\n",
       "}\n",
       "</style>\n",
       "<small>shape: (5, 2)</small><table border=\"1\" class=\"dataframe\"><thead><tr><th>case_id</th><th>amount 4917619A</th></tr><tr><td>u32</td><td>f32</td></tr></thead><tbody><tr><td>57543</td><td>23976.00</td></tr><tr><td>57543</td><td>23310.20</td></tr><tr><td>57543</td><td>25174.80</td></tr><tr><td>57543</td><td>23976.00</td></tr><tr><td>57543</td><td>31060.20</td></tr></tbody></table></div>"
      ],
      "text/plain": [
       "shape: (5, 2)\n",
       "┌─────────┬─────────────────┐\n",
       "│ case_id ┆ amount 4917619A │\n",
       "│ ---     ┆ ---             │\n",
       "│ u32     ┆ f32             │\n",
       "╞═════════╪═════════════════╡\n",
       "│ 57543   ┆ 23976.00        │\n",
       "│ 57543   ┆ 23310.20        │\n",
       "│ 57543   ┆ 25174.80        │\n",
       "│ 57543   ┆ 23976.00        │\n",
       "│ 57543   ┆ 31060.20        │\n",
       "└─────────┴─────────────────┘"
      ]
     },
     "metadata": {},
     "output_type": "display_data"
    },
    {
     "data": {
      "text/html": [
       "<div><style>\n",
       ".dataframe > thead > tr,\n",
       ".dataframe > tbody > tr {\n",
       "  text-align: right;\n",
       "  white-space: pre-wrap;\n",
       "}\n",
       "</style>\n",
       "<small>shape: (1, 1)</small><table border=\"1\" class=\"dataframe\"><thead><tr><th>% of test_base case_ids in test_second_registry</th></tr><tr><td>f64</td></tr></thead><tbody><tr><td>0.20</td></tr></tbody></table></div>"
      ],
      "text/plain": [
       "shape: (1, 1)\n",
       "┌─────────────────────────────────────────────────┐\n",
       "│ % of test_base case_ids in test_second_registry │\n",
       "│ ---                                             │\n",
       "│ f64                                             │\n",
       "╞═════════════════════════════════════════════════╡\n",
       "│ 0.20                                            │\n",
       "└─────────────────────────────────────────────────┘"
      ]
     },
     "execution_count": 32,
     "metadata": {},
     "output_type": "execute_result"
    }
   ],
   "source": [
    "test_second_registry = (\n",
    "    pl.scan_parquet(\"Downloads/credit_risk/test/test_tax_registry_b_1.parquet\")\n",
    "    .select(cs.by_name(\"case_id\").cast(pl.UInt32),cs.by_name(train_tax_registry_2_columns).cast(pl.Float32))\n",
    "    .pipe(lambda df: df.rename({_:\" \".join(_.split(\"_\")) for _ in df.columns if not _ == 'case_id'}))\n",
    ")\n",
    "display(test_second_registry.fetch().head())\n",
    "test_second_registry.pipe(rem_test_case_ids)"
   ]
  },
  {
   "cell_type": "code",
   "execution_count": 33,
   "metadata": {},
   "outputs": [
    {
     "data": {
      "text/html": [
       "<div><style>\n",
       ".dataframe > thead > tr,\n",
       ".dataframe > tbody > tr {\n",
       "  text-align: right;\n",
       "  white-space: pre-wrap;\n",
       "}\n",
       "</style>\n",
       "<small>shape: (5, 8)</small><table border=\"1\" class=\"dataframe\"><thead><tr><th>case_id</th><th>contractst 545M</th><th>contractst 964M</th><th>financialinstitution 382M</th><th>classificationofcontr 400M</th><th>purposeofcred 874M</th><th>description 351M</th><th>financialinstitution 591M</th></tr><tr><td>u32</td><td>cat</td><td>cat</td><td>cat</td><td>cat</td><td>cat</td><td>cat</td><td>cat</td></tr></thead><tbody><tr><td>57543</td><td>&quot;b919198c&quot;</td><td>&quot;a55475b1&quot;</td><td>&quot;a55475b1&quot;</td><td>&quot;a55475b1&quot;</td><td>&quot;a55475b1&quot;</td><td>&quot;a55475b1&quot;</td><td>&quot;b619fa46&quot;</td></tr><tr><td>57543</td><td>&quot;a55475b1&quot;</td><td>&quot;a55475b1&quot;</td><td>&quot;a55475b1&quot;</td><td>&quot;a55475b1&quot;</td><td>&quot;a55475b1&quot;</td><td>&quot;a55475b1&quot;</td><td>&quot;a55475b1&quot;</td></tr><tr><td>57543</td><td>&quot;a55475b1&quot;</td><td>&quot;a55475b1&quot;</td><td>&quot;a55475b1&quot;</td><td>&quot;a55475b1&quot;</td><td>&quot;a55475b1&quot;</td><td>&quot;a55475b1&quot;</td><td>&quot;a55475b1&quot;</td></tr><tr><td>57543</td><td>&quot;a55475b1&quot;</td><td>&quot;a55475b1&quot;</td><td>&quot;a55475b1&quot;</td><td>&quot;a55475b1&quot;</td><td>&quot;a55475b1&quot;</td><td>&quot;a55475b1&quot;</td><td>&quot;a55475b1&quot;</td></tr><tr><td>57543</td><td>&quot;a55475b1&quot;</td><td>&quot;a55475b1&quot;</td><td>&quot;a55475b1&quot;</td><td>&quot;a55475b1&quot;</td><td>&quot;a55475b1&quot;</td><td>&quot;a55475b1&quot;</td><td>&quot;a55475b1&quot;</td></tr></tbody></table></div>"
      ],
      "text/plain": [
       "shape: (5, 8)\n",
       "┌─────────┬────────────┬────────────┬────────────┬────────────┬────────────┬───────────┬───────────┐\n",
       "│ case_id ┆ contractst ┆ contractst ┆ financiali ┆ classifica ┆ purposeofc ┆ descripti ┆ financial │\n",
       "│ ---     ┆ 545M       ┆ 964M       ┆ nstitution ┆ tionofcont ┆ red 874M   ┆ on 351M   ┆ instituti │\n",
       "│ u32     ┆ ---        ┆ ---        ┆ 382M       ┆ r 400M     ┆ ---        ┆ ---       ┆ on 591M   │\n",
       "│         ┆ cat        ┆ cat        ┆ ---        ┆ ---        ┆ cat        ┆ cat       ┆ ---       │\n",
       "│         ┆            ┆            ┆ cat        ┆ cat        ┆            ┆           ┆ cat       │\n",
       "╞═════════╪════════════╪════════════╪════════════╪════════════╪════════════╪═══════════╪═══════════╡\n",
       "│ 57543   ┆ b919198c   ┆ a55475b1   ┆ a55475b1   ┆ a55475b1   ┆ a55475b1   ┆ a55475b1  ┆ b619fa46  │\n",
       "│ 57543   ┆ a55475b1   ┆ a55475b1   ┆ a55475b1   ┆ a55475b1   ┆ a55475b1   ┆ a55475b1  ┆ a55475b1  │\n",
       "│ 57543   ┆ a55475b1   ┆ a55475b1   ┆ a55475b1   ┆ a55475b1   ┆ a55475b1   ┆ a55475b1  ┆ a55475b1  │\n",
       "│ 57543   ┆ a55475b1   ┆ a55475b1   ┆ a55475b1   ┆ a55475b1   ┆ a55475b1   ┆ a55475b1  ┆ a55475b1  │\n",
       "│ 57543   ┆ a55475b1   ┆ a55475b1   ┆ a55475b1   ┆ a55475b1   ┆ a55475b1   ┆ a55475b1  ┆ a55475b1  │\n",
       "└─────────┴────────────┴────────────┴────────────┴────────────┴────────────┴───────────┴───────────┘"
      ]
     },
     "metadata": {},
     "output_type": "display_data"
    },
    {
     "data": {
      "text/html": [
       "<div><style>\n",
       ".dataframe > thead > tr,\n",
       ".dataframe > tbody > tr {\n",
       "  text-align: right;\n",
       "  white-space: pre-wrap;\n",
       "}\n",
       "</style>\n",
       "<small>shape: (1, 1)</small><table border=\"1\" class=\"dataframe\"><thead><tr><th>% of test_base case_ids in test_credit_internal</th></tr><tr><td>f64</td></tr></thead><tbody><tr><td>0.20</td></tr></tbody></table></div>"
      ],
      "text/plain": [
       "shape: (1, 1)\n",
       "┌─────────────────────────────────────────────────┐\n",
       "│ % of test_base case_ids in test_credit_internal │\n",
       "│ ---                                             │\n",
       "│ f64                                             │\n",
       "╞═════════════════════════════════════════════════╡\n",
       "│ 0.20                                            │\n",
       "└─────────────────────────────────────────────────┘"
      ]
     },
     "execution_count": 33,
     "metadata": {},
     "output_type": "execute_result"
    }
   ],
   "source": [
    "test_credit_internal = (\n",
    "    pl.scan_parquet(\"Downloads/credit_risk/test/test_credit_bureau_a_1_*.parquet\")\n",
    "    .select(cs.by_name(\"case_id\").cast(pl.UInt32),cs.by_name(train_credit_internal_columns).cast(pl.Categorical))\n",
    "    .pipe(lambda df: df.rename({_:\" \".join(_.split(\"_\")) for _ in df.columns if not _ == 'case_id'}))\n",
    ")\n",
    "display(test_credit_internal.fetch().head())\n",
    "test_credit_internal.pipe(rem_test_case_ids)"
   ]
  },
  {
   "cell_type": "code",
   "execution_count": 35,
   "metadata": {},
   "outputs": [
    {
     "data": {
      "text/html": [
       "<div><style>\n",
       ".dataframe > thead > tr,\n",
       ".dataframe > tbody > tr {\n",
       "  text-align: right;\n",
       "  white-space: pre-wrap;\n",
       "}\n",
       "</style>\n",
       "<small>shape: (11, 2)</small><table border=\"1\" class=\"dataframe\"><thead><tr><th>dataframe</th><th>case_ids_present</th></tr><tr><td>str</td><td>f64</td></tr></thead><tbody><tr><td>&quot;train_static_total&quot;</td><td>1.00</td></tr><tr><td>&quot;train_first_person&quot;</td><td>1.00</td></tr><tr><td>&quot;train_static_depth&quot;</td><td>0.98</td></tr><tr><td>&quot;train_second_person&quot;</td><td>0.94</td></tr><tr><td>&quot;train_credit_internal&quot;</td><td>0.91</td></tr><tr><td>&quot;train_previous_application&quot;</td><td>0.80</td></tr><tr><td>&quot;train_previous_application_status&quot;</td><td>0.80</td></tr><tr><td>&quot;train_third_registry&quot;</td><td>0.32</td></tr><tr><td>&quot;train_first_registry&quot;</td><td>0.30</td></tr><tr><td>&quot;train_second_registry&quot;</td><td>0.10</td></tr><tr><td>&quot;train_deposit&quot;</td><td>0.07</td></tr></tbody></table></div>"
      ],
      "text/plain": [
       "shape: (11, 2)\n",
       "┌───────────────────────────────────┬──────────────────┐\n",
       "│ dataframe                         ┆ case_ids_present │\n",
       "│ ---                               ┆ ---              │\n",
       "│ str                               ┆ f64              │\n",
       "╞═══════════════════════════════════╪══════════════════╡\n",
       "│ train_static_total                ┆ 1.00             │\n",
       "│ train_first_person                ┆ 1.00             │\n",
       "│ train_static_depth                ┆ 0.98             │\n",
       "│ train_second_person               ┆ 0.94             │\n",
       "│ train_credit_internal             ┆ 0.91             │\n",
       "│ train_previous_application        ┆ 0.80             │\n",
       "│ train_previous_application_status ┆ 0.80             │\n",
       "│ train_third_registry              ┆ 0.32             │\n",
       "│ train_first_registry              ┆ 0.30             │\n",
       "│ train_second_registry             ┆ 0.10             │\n",
       "│ train_deposit                     ┆ 0.07             │\n",
       "└───────────────────────────────────┴──────────────────┘"
      ]
     },
     "metadata": {},
     "output_type": "display_data"
    },
    {
     "data": {
      "text/html": [
       "<div><style>\n",
       ".dataframe > thead > tr,\n",
       ".dataframe > tbody > tr {\n",
       "  text-align: right;\n",
       "  white-space: pre-wrap;\n",
       "}\n",
       "</style>\n",
       "<small>shape: (10, 2)</small><table border=\"1\" class=\"dataframe\"><thead><tr><th>dataframe</th><th>case_ids_present</th></tr><tr><td>str</td><td>f64</td></tr></thead><tbody><tr><td>&quot;test_static_total&quot;</td><td>1.00</td></tr><tr><td>&quot;test_static_depth&quot;</td><td>1.00</td></tr><tr><td>&quot;test_second_person&quot;</td><td>0.70</td></tr><tr><td>&quot;test_previous_application&quot;</td><td>0.60</td></tr><tr><td>&quot;test_previous_application_status&quot;</td><td>0.40</td></tr><tr><td>&quot;test_first_person&quot;</td><td>0.30</td></tr><tr><td>&quot;test_second_registry&quot;</td><td>0.20</td></tr><tr><td>&quot;test_credit_internal&quot;</td><td>0.20</td></tr><tr><td>&quot;test_deposit&quot;</td><td>0.00</td></tr><tr><td>&quot;test_first_registry&quot;</td><td>0.00</td></tr></tbody></table></div>"
      ],
      "text/plain": [
       "shape: (10, 2)\n",
       "┌──────────────────────────────────┬──────────────────┐\n",
       "│ dataframe                        ┆ case_ids_present │\n",
       "│ ---                              ┆ ---              │\n",
       "│ str                              ┆ f64              │\n",
       "╞══════════════════════════════════╪══════════════════╡\n",
       "│ test_static_total                ┆ 1.00             │\n",
       "│ test_static_depth                ┆ 1.00             │\n",
       "│ test_second_person               ┆ 0.70             │\n",
       "│ test_previous_application        ┆ 0.60             │\n",
       "│ test_previous_application_status ┆ 0.40             │\n",
       "│ test_first_person                ┆ 0.30             │\n",
       "│ test_second_registry             ┆ 0.20             │\n",
       "│ test_credit_internal             ┆ 0.20             │\n",
       "│ test_deposit                     ┆ 0.00             │\n",
       "│ test_first_registry              ┆ 0.00             │\n",
       "└──────────────────────────────────┴──────────────────┘"
      ]
     },
     "execution_count": 35,
     "metadata": {},
     "output_type": "execute_result"
    }
   ],
   "source": [
    "_ = {\"dataframe\":[],\"case_ids_present\":[]}\n",
    "__ = {\"dataframe\":[],\"case_ids_present\":[]}\n",
    "for name,val in globals().items():\n",
    "    if (\"train\" in name) & (\"columns\" not in name) & ('rem' not in name) & (\"base\" not in name):\n",
    "        _[\"dataframe\"].append(name)\n",
    "        _[\"case_ids_present\"].append(val.pipe(rem_train_case_ids).item())\n",
    "    if (\"test\" in name) & (\"rem\" not in name) & (\"base\" not in name) & (\"path\" not in name) & (\"files\" not in name):\n",
    "        __[\"dataframe\"].append(name)\n",
    "        __[\"case_ids_present\"].append(val.pipe(rem_test_case_ids).item())\n",
    "_ = pl.DataFrame(_).sort(by=\"case_ids_present\",descending=True)\n",
    "__ = pl.DataFrame(__).sort(by=\"case_ids_present\",descending=True)\n",
    "display(_)\n",
    "__"
   ]
  },
  {
   "cell_type": "code",
   "execution_count": 63,
   "metadata": {},
   "outputs": [
    {
     "data": {
      "text/html": [
       "<div><style>\n",
       ".dataframe > thead > tr,\n",
       ".dataframe > tbody > tr {\n",
       "  text-align: right;\n",
       "  white-space: pre-wrap;\n",
       "}\n",
       "</style>\n",
       "<small>shape: (5, 30)</small><table border=\"1\" class=\"dataframe\"><thead><tr><th>case_id_base</th><th>month</th><th>week</th><th>year</th><th>target</th><th>mobilephncnt 593L</th><th>lastrejectreasonclient 4145040M</th><th>lastapprcommoditycat 1041M</th><th>credamount 770A</th><th>numrejects9m 859L</th><th>homephncnt 628L</th><th>disbursedcredamount 1113A</th><th>lastrejectreason 759M</th><th>numnotactivated 1143L</th><th>sellerplacecnt 915L</th><th>numcontrs3months 479L</th><th>annuity 780A</th><th>clientscnt 533L</th><th>applications30d 658L</th><th>lastcancelreason 561M</th><th>lastrejectcommoditycat 161M</th><th>deferredmnthsnum 166L</th><th>numactivecredschannel 414L</th><th>education 1103M</th><th>education 88M</th><th>maritalst 385M</th><th>description 5085714M</th><th>maritalst 893M</th><th>addres zip 823M</th><th>addres district 368M</th></tr><tr><td>u32</td><td>u8</td><td>u8</td><td>u16</td><td>u8</td><td>f32</td><td>cat</td><td>cat</td><td>f32</td><td>f32</td><td>f32</td><td>f32</td><td>cat</td><td>f32</td><td>f32</td><td>f32</td><td>f32</td><td>f32</td><td>f32</td><td>cat</td><td>cat</td><td>f32</td><td>f32</td><td>cat</td><td>cat</td><td>cat</td><td>cat</td><td>cat</td><td>cat</td><td>cat</td></tr></thead><tbody><tr><td>0</td><td>1</td><td>1</td><td>2019</td><td>0</td><td>1.00</td><td>&quot;a55475b1&quot;</td><td>&quot;a55475b1&quot;</td><td>30000.00</td><td>0.00</td><td>0.00</td><td>30000.00</td><td>&quot;a55475b1&quot;</td><td>0.00</td><td>0.00</td><td>0.00</td><td>1917.60</td><td>0.00</td><td>0.00</td><td>&quot;a55475b1&quot;</td><td>&quot;a55475b1&quot;</td><td>0.00</td><td>0.00</td><td>null</td><td>null</td><td>null</td><td>null</td><td>null</td><td>null</td><td>null</td></tr><tr><td>1</td><td>1</td><td>1</td><td>2019</td><td>0</td><td>1.00</td><td>&quot;a55475b1&quot;</td><td>&quot;a55475b1&quot;</td><td>19999.80</td><td>0.00</td><td>0.00</td><td>19999.80</td><td>&quot;a55475b1&quot;</td><td>0.00</td><td>0.00</td><td>0.00</td><td>3134.00</td><td>0.00</td><td>0.00</td><td>&quot;a55475b1&quot;</td><td>&quot;a55475b1&quot;</td><td>0.00</td><td>0.00</td><td>null</td><td>null</td><td>null</td><td>null</td><td>null</td><td>null</td><td>null</td></tr><tr><td>2</td><td>1</td><td>1</td><td>2019</td><td>0</td><td>2.00</td><td>&quot;a55475b1&quot;</td><td>&quot;a55475b1&quot;</td><td>78000.00</td><td>0.00</td><td>1.00</td><td>78000.00</td><td>&quot;a55475b1&quot;</td><td>0.00</td><td>0.00</td><td>0.00</td><td>4937.00</td><td>0.00</td><td>0.00</td><td>&quot;a55475b1&quot;</td><td>&quot;a55475b1&quot;</td><td>0.00</td><td>0.00</td><td>null</td><td>null</td><td>null</td><td>null</td><td>null</td><td>null</td><td>null</td></tr><tr><td>3</td><td>1</td><td>1</td><td>2019</td><td>0</td><td>1.00</td><td>&quot;a55475b1&quot;</td><td>&quot;a55475b1&quot;</td><td>40000.00</td><td>1.00</td><td>0.00</td><td>40000.00</td><td>&quot;P94_109_143&quot;</td><td>0.00</td><td>1.00</td><td>1.00</td><td>4643.60</td><td>0.00</td><td>1.00</td><td>&quot;P94_109_143&quot;</td><td>&quot;a55475b1&quot;</td><td>0.00</td><td>0.00</td><td>null</td><td>null</td><td>null</td><td>null</td><td>null</td><td>null</td><td>null</td></tr><tr><td>4</td><td>1</td><td>1</td><td>2019</td><td>1</td><td>1.00</td><td>&quot;a55475b1&quot;</td><td>&quot;a55475b1&quot;</td><td>44000.00</td><td>0.00</td><td>1.00</td><td>44000.00</td><td>&quot;a55475b1&quot;</td><td>0.00</td><td>0.00</td><td>0.00</td><td>3390.20</td><td>0.00</td><td>1.00</td><td>&quot;P24_27_36&quot;</td><td>&quot;a55475b1&quot;</td><td>0.00</td><td>0.00</td><td>null</td><td>null</td><td>null</td><td>null</td><td>null</td><td>null</td><td>null</td></tr></tbody></table></div>"
      ],
      "text/plain": [
       "shape: (5, 30)\n",
       "┌──────────────┬───────┬──────┬──────┬───┬─────────────┬───────────┬────────────┬──────────┐\n",
       "│ case_id_base ┆ month ┆ week ┆ year ┆ … ┆ description ┆ maritalst ┆ addres zip ┆ addres   │\n",
       "│ ---          ┆ ---   ┆ ---  ┆ ---  ┆   ┆ 5085714M    ┆ 893M      ┆ 823M       ┆ district │\n",
       "│ u32          ┆ u8    ┆ u8   ┆ u16  ┆   ┆ ---         ┆ ---       ┆ ---        ┆ 368M     │\n",
       "│              ┆       ┆      ┆      ┆   ┆ cat         ┆ cat       ┆ cat        ┆ ---      │\n",
       "│              ┆       ┆      ┆      ┆   ┆             ┆           ┆            ┆ cat      │\n",
       "╞══════════════╪═══════╪══════╪══════╪═══╪═════════════╪═══════════╪════════════╪══════════╡\n",
       "│ 0            ┆ 1     ┆ 1    ┆ 2019 ┆ … ┆ null        ┆ null      ┆ null       ┆ null     │\n",
       "│ 1            ┆ 1     ┆ 1    ┆ 2019 ┆ … ┆ null        ┆ null      ┆ null       ┆ null     │\n",
       "│ 2            ┆ 1     ┆ 1    ┆ 2019 ┆ … ┆ null        ┆ null      ┆ null       ┆ null     │\n",
       "│ 3            ┆ 1     ┆ 1    ┆ 2019 ┆ … ┆ null        ┆ null      ┆ null       ┆ null     │\n",
       "│ 4            ┆ 1     ┆ 1    ┆ 2019 ┆ … ┆ null        ┆ null      ┆ null       ┆ null     │\n",
       "└──────────────┴───────┴──────┴──────┴───┴─────────────┴───────────┴────────────┴──────────┘"
      ]
     },
     "execution_count": 63,
     "metadata": {},
     "output_type": "execute_result"
    }
   ],
   "source": [
    "(\n",
    "    train_base\n",
    "    .join(\n",
    "        train_static_total,\n",
    "        left_on=\"case_id_base\",\n",
    "        right_on=\"case_id\",\n",
    "        how=\"left\"\n",
    "    )\n",
    "    .join(\n",
    "        train_static_depth,\n",
    "        left_on=\"case_id_base\",\n",
    "        right_on=\"case_id\",\n",
    "        how=\"left\"\n",
    "    )\n",
    "    .join(\n",
    "        train_second_person,\n",
    "        left_on=\"case_id_base\",\n",
    "        right_on=\"case_id\",\n",
    "        how='left'\n",
    "    )\n",
    "    .collect(streaming=True)\n",
    ")"
   ]
  },
  {
   "cell_type": "code",
   "execution_count": 41,
   "metadata": {},
   "outputs": [],
   "source": []
  }
 ],
 "metadata": {
  "kernelspec": {
   "display_name": "base",
   "language": "python",
   "name": "python3"
  },
  "language_info": {
   "codemirror_mode": {
    "name": "ipython",
    "version": 3
   },
   "file_extension": ".py",
   "mimetype": "text/x-python",
   "name": "python",
   "nbconvert_exporter": "python",
   "pygments_lexer": "ipython3",
   "version": "3.11.7"
  }
 },
 "nbformat": 4,
 "nbformat_minor": 2
}
