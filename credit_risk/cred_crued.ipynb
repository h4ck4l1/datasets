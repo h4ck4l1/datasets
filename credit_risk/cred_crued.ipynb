{
 "cells": [
  {
   "cell_type": "code",
   "execution_count": 1,
   "metadata": {},
   "outputs": [
    {
     "data": {
      "text/plain": [
       "'بِسْمِ اللهِ الرَّحْمٰنِ الرَّحِيْمِ'"
      ]
     },
     "execution_count": 1,
     "metadata": {},
     "output_type": "execute_result"
    }
   ],
   "source": [
    "'''بِسْمِ اللهِ الرَّحْمٰنِ الرَّحِيْمِ'''"
   ]
  },
  {
   "cell_type": "code",
   "execution_count": 2,
   "metadata": {},
   "outputs": [
    {
     "data": {
      "text/plain": [
       "'سُبْحَـٰنَكَ لَا عِلْمَ لَنَآ إِلَّا مَا عَلَّمْتَنَآ ۖ إِنَّكَ أَنتَ الْعَلِيمُ الْحَكِيمُ'"
      ]
     },
     "execution_count": 2,
     "metadata": {},
     "output_type": "execute_result"
    }
   ],
   "source": [
    "'''سُبْحَـٰنَكَ لَا عِلْمَ لَنَآ إِلَّا مَا عَلَّمْتَنَآ ۖ إِنَّكَ أَنتَ الْعَلِيمُ الْحَكِيمُ'''"
   ]
  },
  {
   "cell_type": "code",
   "execution_count": 3,
   "metadata": {},
   "outputs": [
    {
     "data": {
      "text/html": [
       "\n",
       "<style>\n",
       "    * {\n",
       "        font-family: Monaco;\n",
       "    }\n",
       "</style>\n"
      ],
      "text/plain": [
       "<IPython.core.display.HTML object>"
      ]
     },
     "execution_count": 3,
     "metadata": {},
     "output_type": "execute_result"
    }
   ],
   "source": [
    "from IPython.core.display import HTML\n",
    "HTML(r\"\"\"\n",
    "<style>\n",
    "    * {\n",
    "        font-family: Monaco;\n",
    "    }\n",
    "</style>\n",
    "\"\"\")"
   ]
  },
  {
   "cell_type": "code",
   "execution_count": 4,
   "metadata": {},
   "outputs": [
    {
     "data": {
      "text/plain": [
       "12"
      ]
     },
     "execution_count": 4,
     "metadata": {},
     "output_type": "execute_result"
    }
   ],
   "source": [
    "import os,sys,warnings,re,math,gc,time\n",
    "warnings.filterwarnings(\"ignore\")\n",
    "os.cpu_count()"
   ]
  },
  {
   "cell_type": "code",
   "execution_count": 5,
   "metadata": {},
   "outputs": [
    {
     "name": "stdout",
     "output_type": "stream",
     "text": [
      "Exception reporting mode: Minimal\n"
     ]
    }
   ],
   "source": [
    "os.environ[\"POLARS_MAX_THREADS\"] = \"20\"\n",
    "import numpy as np\n",
    "import pandas as pd\n",
    "import polars as pl\n",
    "import polars.selectors as cs\n",
    "from glob import glob\n",
    "from pathlib import Path\n",
    "from tqdm import tqdm\n",
    "from concurrent.futures import ThreadPoolExecutor\n",
    "import plotly.express as px\n",
    "import plotly.graph_objects as go\n",
    "import plotly.io as pio\n",
    "from plotly.subplots import make_subplots\n",
    "pio.templates[\"mod\"] = go.layout.Template(layout=dict(font=dict(family=\"Monaco\",size=15)))\n",
    "pio.templates.default = \"mod+plotly_dark\"\n",
    "from sklearn.metrics import auc,roc_auc_score\n",
    "from sklearn.model_selection import train_test_split\n",
    "import lightgbm as lgb\n",
    "%xmode Minimal"
   ]
  },
  {
   "cell_type": "code",
   "execution_count": 6,
   "metadata": {},
   "outputs": [
    {
     "data": {
      "text/plain": [
       "polars.config.Config"
      ]
     },
     "execution_count": 6,
     "metadata": {},
     "output_type": "execute_result"
    }
   ],
   "source": [
    "pl.Config.set_fmt_str_lengths(100)\n",
    "pl.Config.set_streaming_chunk_size(20000)\n",
    "pl.Config.set_thousands_separator(\",\")\n",
    "pl.Config.set_float_precision(2)\n",
    "pl.Config.set_fmt_float(\"full\")\n",
    "pl.Config.set_tbl_rows(40)"
   ]
  },
  {
   "cell_type": "code",
   "execution_count": 7,
   "metadata": {},
   "outputs": [],
   "source": [
    "path_to_train = Path(\"Downloads/credit_risk/train/\")\n",
    "path_to_test = Path(\"Downloads/credit_risk/test/\")\n",
    "path_to_features = Path(\"Downloads/feature_definitions.csv\")"
   ]
  },
  {
   "cell_type": "code",
   "execution_count": 8,
   "metadata": {},
   "outputs": [
    {
     "data": {
      "text/html": [
       "<div><style>\n",
       ".dataframe > thead > tr,\n",
       ".dataframe > tbody > tr {\n",
       "  text-align: right;\n",
       "  white-space: pre-wrap;\n",
       "}\n",
       "</style>\n",
       "<small>shape: (5, 2)</small><table border=\"1\" class=\"dataframe\"><thead><tr><th>Variable</th><th>Description</th></tr><tr><td>str</td><td>str</td></tr></thead><tbody><tr><td>&quot;actualdpd_943P&quot;</td><td>&quot;Days Past Due (DPD) of previous contract (actual).&quot;</td></tr><tr><td>&quot;actualdpdtolerance_344P&quot;</td><td>&quot;DPD of client with tolerance.&quot;</td></tr><tr><td>&quot;addres_district_368M&quot;</td><td>&quot;District of the person&#x27;s address.&quot;</td></tr><tr><td>&quot;addres_role_871L&quot;</td><td>&quot;Role of person&#x27;s address.&quot;</td></tr><tr><td>&quot;addres_zip_823M&quot;</td><td>&quot;Zip code of the address.&quot;</td></tr></tbody></table></div>"
      ],
      "text/plain": [
       "shape: (5, 2)\n",
       "┌─────────────────────────┬────────────────────────────────────────────────────┐\n",
       "│ Variable                ┆ Description                                        │\n",
       "│ ---                     ┆ ---                                                │\n",
       "│ str                     ┆ str                                                │\n",
       "╞═════════════════════════╪════════════════════════════════════════════════════╡\n",
       "│ actualdpd_943P          ┆ Days Past Due (DPD) of previous contract (actual). │\n",
       "│ actualdpdtolerance_344P ┆ DPD of client with tolerance.                      │\n",
       "│ addres_district_368M    ┆ District of the person's address.                  │\n",
       "│ addres_role_871L        ┆ Role of person's address.                          │\n",
       "│ addres_zip_823M         ┆ Zip code of the address.                           │\n",
       "└─────────────────────────┴────────────────────────────────────────────────────┘"
      ]
     },
     "execution_count": 8,
     "metadata": {},
     "output_type": "execute_result"
    }
   ],
   "source": [
    "feat_df = pl.read_csv(path_to_features)\n",
    "feat_df.head()"
   ]
  },
  {
   "cell_type": "code",
   "execution_count": 9,
   "metadata": {},
   "outputs": [
    {
     "data": {
      "text/html": [
       "<div><style>\n",
       ".dataframe > thead > tr,\n",
       ".dataframe > tbody > tr {\n",
       "  text-align: right;\n",
       "  white-space: pre-wrap;\n",
       "}\n",
       "</style>\n",
       "<small>shape: (5, 3)</small><table border=\"1\" class=\"dataframe\"><thead><tr><th>index</th><th>path</th><th>filename</th></tr><tr><td>i64</td><td>str</td><td>str</td></tr></thead><tbody><tr><td>31</td><td>&quot;Downloads/credit_risk/train/train_applprev_1_0.parquet&quot;</td><td>&quot;train_applprev_1_0.parquet&quot;</td></tr><tr><td>13</td><td>&quot;Downloads/credit_risk/train/train_applprev_1_1.parquet&quot;</td><td>&quot;train_applprev_1_1.parquet&quot;</td></tr><tr><td>0</td><td>&quot;Downloads/credit_risk/train/train_applprev_2.parquet&quot;</td><td>&quot;train_applprev_2.parquet&quot;</td></tr><tr><td>7</td><td>&quot;Downloads/credit_risk/train/train_base.parquet&quot;</td><td>&quot;train_base.parquet&quot;</td></tr><tr><td>11</td><td>&quot;Downloads/credit_risk/train/train_credit_bureau_a_1_0.parquet&quot;</td><td>&quot;train_credit_bureau_a_1_0.parquet&quot;</td></tr></tbody></table></div>"
      ],
      "text/plain": [
       "shape: (5, 3)\n",
       "┌───────┬──────────────────────────────────────────────────────┬───────────────────────────────────┐\n",
       "│ index ┆ path                                                 ┆ filename                          │\n",
       "│ ---   ┆ ---                                                  ┆ ---                               │\n",
       "│ i64   ┆ str                                                  ┆ str                               │\n",
       "╞═══════╪══════════════════════════════════════════════════════╪═══════════════════════════════════╡\n",
       "│ 31    ┆ Downloads/credit_risk/train/train_applprev_1_0.parqu ┆ train_applprev_1_0.parquet        │\n",
       "│       ┆ et                                                   ┆                                   │\n",
       "│ 13    ┆ Downloads/credit_risk/train/train_applprev_1_1.parqu ┆ train_applprev_1_1.parquet        │\n",
       "│       ┆ et                                                   ┆                                   │\n",
       "│ 0     ┆ Downloads/credit_risk/train/train_applprev_2.parquet ┆ train_applprev_2.parquet          │\n",
       "│ 7     ┆ Downloads/credit_risk/train/train_base.parquet       ┆ train_base.parquet                │\n",
       "│ 11    ┆ Downloads/credit_risk/train/train_credit_bureau_a_1_ ┆ train_credit_bureau_a_1_0.parquet │\n",
       "│       ┆ 0.parquet                                            ┆                                   │\n",
       "└───────┴──────────────────────────────────────────────────────┴───────────────────────────────────┘"
      ]
     },
     "metadata": {},
     "output_type": "display_data"
    },
    {
     "data": {
      "text/html": [
       "<div><style>\n",
       ".dataframe > thead > tr,\n",
       ".dataframe > tbody > tr {\n",
       "  text-align: right;\n",
       "  white-space: pre-wrap;\n",
       "}\n",
       "</style>\n",
       "<small>shape: (5, 3)</small><table border=\"1\" class=\"dataframe\"><thead><tr><th>index</th><th>path</th><th>filename</th></tr><tr><td>i64</td><td>str</td><td>str</td></tr></thead><tbody><tr><td>31</td><td>&quot;Downloads/credit_risk/test/test_applprev_1_0.parquet&quot;</td><td>&quot;test_applprev_1_0.parquet&quot;</td></tr><tr><td>35</td><td>&quot;Downloads/credit_risk/test/test_applprev_1_1.parquet&quot;</td><td>&quot;test_applprev_1_1.parquet&quot;</td></tr><tr><td>9</td><td>&quot;Downloads/credit_risk/test/test_applprev_1_2.parquet&quot;</td><td>&quot;test_applprev_1_2.parquet&quot;</td></tr><tr><td>1</td><td>&quot;Downloads/credit_risk/test/test_applprev_2.parquet&quot;</td><td>&quot;test_applprev_2.parquet&quot;</td></tr><tr><td>33</td><td>&quot;Downloads/credit_risk/test/test_base.parquet&quot;</td><td>&quot;test_base.parquet&quot;</td></tr></tbody></table></div>"
      ],
      "text/plain": [
       "shape: (5, 3)\n",
       "┌───────┬──────────────────────────────────────────────────────┬───────────────────────────┐\n",
       "│ index ┆ path                                                 ┆ filename                  │\n",
       "│ ---   ┆ ---                                                  ┆ ---                       │\n",
       "│ i64   ┆ str                                                  ┆ str                       │\n",
       "╞═══════╪══════════════════════════════════════════════════════╪═══════════════════════════╡\n",
       "│ 31    ┆ Downloads/credit_risk/test/test_applprev_1_0.parquet ┆ test_applprev_1_0.parquet │\n",
       "│ 35    ┆ Downloads/credit_risk/test/test_applprev_1_1.parquet ┆ test_applprev_1_1.parquet │\n",
       "│ 9     ┆ Downloads/credit_risk/test/test_applprev_1_2.parquet ┆ test_applprev_1_2.parquet │\n",
       "│ 1     ┆ Downloads/credit_risk/test/test_applprev_2.parquet   ┆ test_applprev_2.parquet   │\n",
       "│ 33    ┆ Downloads/credit_risk/test/test_base.parquet         ┆ test_base.parquet         │\n",
       "└───────┴──────────────────────────────────────────────────────┴───────────────────────────┘"
      ]
     },
     "metadata": {},
     "output_type": "display_data"
    }
   ],
   "source": [
    "all_train_files = glob(\"Downloads/credit_risk/train/*.parquet\")\n",
    "all_test_files = glob(\"Downloads/credit_risk/test/*.parquet\")\n",
    "train_files_df = pl.DataFrame({\"index\":range(len(all_train_files)),\"path\":all_train_files})\n",
    "test_files_df = pl.DataFrame({\"index\":range(len(all_test_files)),\"path\":all_test_files})\n",
    "train_files_df = (\n",
    "    train_files_df\n",
    "    .with_columns(\n",
    "        (pl.col(\"path\").str.split(\"/\").list.get(-1)).alias(\"filename\")\n",
    "    )\n",
    "    .sort(by=\"filename\")\n",
    ")\n",
    "test_files_df = (\n",
    "    test_files_df\n",
    "    .with_columns(\n",
    "        (pl.col(\"path\").str.split(\"/\").list.get(-1)).alias(\"filename\")\n",
    "    )\n",
    "    .sort(by=\"filename\")\n",
    ")\n",
    "display(train_files_df.head())\n",
    "display(test_files_df.head())"
   ]
  },
  {
   "cell_type": "code",
   "execution_count": 10,
   "metadata": {},
   "outputs": [
    {
     "data": {
      "text/html": [
       "<div><style>\n",
       ".dataframe > thead > tr,\n",
       ".dataframe > tbody > tr {\n",
       "  text-align: right;\n",
       "  white-space: pre-wrap;\n",
       "}\n",
       "</style>\n",
       "<small>shape: (1, 3)</small><table border=\"1\" class=\"dataframe\"><thead><tr><th>index</th><th>path</th><th>filename</th></tr><tr><td>i64</td><td>str</td><td>str</td></tr></thead><tbody><tr><td>7</td><td>&quot;Downloads/credit_risk/train/train_base.parquet&quot;</td><td>&quot;train_base.parquet&quot;</td></tr></tbody></table></div>"
      ],
      "text/plain": [
       "shape: (1, 3)\n",
       "┌───────┬────────────────────────────────────────────────┬────────────────────┐\n",
       "│ index ┆ path                                           ┆ filename           │\n",
       "│ ---   ┆ ---                                            ┆ ---                │\n",
       "│ i64   ┆ str                                            ┆ str                │\n",
       "╞═══════╪════════════════════════════════════════════════╪════════════════════╡\n",
       "│ 7     ┆ Downloads/credit_risk/train/train_base.parquet ┆ train_base.parquet │\n",
       "└───────┴────────────────────────────────────────────────┴────────────────────┘"
      ]
     },
     "metadata": {},
     "output_type": "display_data"
    }
   ],
   "source": [
    "display(train_files_df.filter(pl.col(\"filename\").str.contains(\"base\")))\n",
    "_ind = train_files_df.filter(pl.col(\"filename\").str.contains(\"base\")).select(\"index\").item()"
   ]
  },
  {
   "cell_type": "code",
   "execution_count": 11,
   "metadata": {},
   "outputs": [
    {
     "data": {
      "text/html": [
       "<div><style>\n",
       ".dataframe > thead > tr,\n",
       ".dataframe > tbody > tr {\n",
       "  text-align: right;\n",
       "  white-space: pre-wrap;\n",
       "}\n",
       "</style>\n",
       "<small>shape: (5, 6)</small><table border=\"1\" class=\"dataframe\"><thead><tr><th>case_id_base</th><th>Date</th><th>month</th><th>week</th><th>weekday</th><th>target</th></tr><tr><td>u32</td><td>date</td><td>i8</td><td>i8</td><td>i8</td><td>u8</td></tr></thead><tbody><tr><td>0</td><td>2019-01-03</td><td>1</td><td>1</td><td>4</td><td>0</td></tr><tr><td>1</td><td>2019-01-03</td><td>1</td><td>1</td><td>4</td><td>0</td></tr><tr><td>2</td><td>2019-01-04</td><td>1</td><td>1</td><td>5</td><td>0</td></tr><tr><td>3</td><td>2019-01-03</td><td>1</td><td>1</td><td>4</td><td>0</td></tr><tr><td>4</td><td>2019-01-04</td><td>1</td><td>1</td><td>5</td><td>1</td></tr></tbody></table></div>"
      ],
      "text/plain": [
       "shape: (5, 6)\n",
       "┌──────────────┬────────────┬───────┬──────┬─────────┬────────┐\n",
       "│ case_id_base ┆ Date       ┆ month ┆ week ┆ weekday ┆ target │\n",
       "│ ---          ┆ ---        ┆ ---   ┆ ---  ┆ ---     ┆ ---    │\n",
       "│ u32          ┆ date       ┆ i8    ┆ i8   ┆ i8      ┆ u8     │\n",
       "╞══════════════╪════════════╪═══════╪══════╪═════════╪════════╡\n",
       "│ 0            ┆ 2019-01-03 ┆ 1     ┆ 1    ┆ 4       ┆ 0      │\n",
       "│ 1            ┆ 2019-01-03 ┆ 1     ┆ 1    ┆ 4       ┆ 0      │\n",
       "│ 2            ┆ 2019-01-04 ┆ 1     ┆ 1    ┆ 5       ┆ 0      │\n",
       "│ 3            ┆ 2019-01-03 ┆ 1     ┆ 1    ┆ 4       ┆ 0      │\n",
       "│ 4            ┆ 2019-01-04 ┆ 1     ┆ 1    ┆ 5       ┆ 1      │\n",
       "└──────────────┴────────────┴───────┴──────┴─────────┴────────┘"
      ]
     },
     "metadata": {},
     "output_type": "display_data"
    },
    {
     "name": "stdout",
     "output_type": "stream",
     "text": [
      "(1526659, 6)\n"
     ]
    }
   ],
   "source": [
    "train_base = (\n",
    "    pl.scan_parquet(all_train_files[_ind])\n",
    "    .select(\n",
    "        pl.col(\"case_id\").cast(pl.UInt32).alias(\"case_id_base\"),\n",
    "        cs.contains(\"date\").str.to_date().alias(\"Date\"),\n",
    "        pl.col(\"target\").cast(pl.UInt8)\n",
    "    )\n",
    "    .with_columns(\n",
    "        pl.col(\"Date\").dt.month().alias(\"month\"),\n",
    "        pl.col(\"Date\").dt.week().alias(\"week\"),\n",
    "        pl.col(\"Date\").dt.weekday().alias(\"weekday\")\n",
    "    )\n",
    "\n",
    "    .select(~cs.contains(\"target\"),cs.contains(\"target\"))\n",
    ")\n",
    "display(train_base.fetch().head())\n",
    "print(train_base.collect(streaming=True).shape)"
   ]
  },
  {
   "cell_type": "code",
   "execution_count": 12,
   "metadata": {},
   "outputs": [
    {
     "data": {
      "text/html": [
       "<div><style>\n",
       ".dataframe > thead > tr,\n",
       ".dataframe > tbody > tr {\n",
       "  text-align: right;\n",
       "  white-space: pre-wrap;\n",
       "}\n",
       "</style>\n",
       "<small>shape: (1, 3)</small><table border=\"1\" class=\"dataframe\"><thead><tr><th>index</th><th>path</th><th>filename</th></tr><tr><td>i64</td><td>str</td><td>str</td></tr></thead><tbody><tr><td>33</td><td>&quot;Downloads/credit_risk/test/test_base.parquet&quot;</td><td>&quot;test_base.parquet&quot;</td></tr></tbody></table></div>"
      ],
      "text/plain": [
       "shape: (1, 3)\n",
       "┌───────┬──────────────────────────────────────────────┬───────────────────┐\n",
       "│ index ┆ path                                         ┆ filename          │\n",
       "│ ---   ┆ ---                                          ┆ ---               │\n",
       "│ i64   ┆ str                                          ┆ str               │\n",
       "╞═══════╪══════════════════════════════════════════════╪═══════════════════╡\n",
       "│ 33    ┆ Downloads/credit_risk/test/test_base.parquet ┆ test_base.parquet │\n",
       "└───────┴──────────────────────────────────────────────┴───────────────────┘"
      ]
     },
     "metadata": {},
     "output_type": "display_data"
    }
   ],
   "source": [
    "display(test_files_df.filter(pl.col(\"filename\").str.contains(\"base\")))\n",
    "_ind = test_files_df.filter(pl.col(\"filename\").str.contains(\"base\")).select(\"index\").item()"
   ]
  },
  {
   "cell_type": "code",
   "execution_count": 13,
   "metadata": {},
   "outputs": [
    {
     "data": {
      "text/html": [
       "<div><style>\n",
       ".dataframe > thead > tr,\n",
       ".dataframe > tbody > tr {\n",
       "  text-align: right;\n",
       "  white-space: pre-wrap;\n",
       "}\n",
       "</style>\n",
       "<small>shape: (5, 6)</small><table border=\"1\" class=\"dataframe\"><thead><tr><th>case_id_base</th><th>Date</th><th>month</th><th>week</th><th>weekday</th><th>target</th></tr><tr><td>u32</td><td>date</td><td>i8</td><td>i8</td><td>i8</td><td>u8</td></tr></thead><tbody><tr><td>57,543</td><td>2020-10-06</td><td>10</td><td>41</td><td>2</td><td>0</td></tr><tr><td>57,549</td><td>2020-10-06</td><td>10</td><td>41</td><td>2</td><td>0</td></tr><tr><td>57,551</td><td>2020-10-06</td><td>10</td><td>41</td><td>2</td><td>0</td></tr><tr><td>57,552</td><td>2020-10-07</td><td>10</td><td>41</td><td>3</td><td>0</td></tr><tr><td>57,569</td><td>2020-10-06</td><td>10</td><td>41</td><td>2</td><td>0</td></tr></tbody></table></div>"
      ],
      "text/plain": [
       "shape: (5, 6)\n",
       "┌──────────────┬────────────┬───────┬──────┬─────────┬────────┐\n",
       "│ case_id_base ┆ Date       ┆ month ┆ week ┆ weekday ┆ target │\n",
       "│ ---          ┆ ---        ┆ ---   ┆ ---  ┆ ---     ┆ ---    │\n",
       "│ u32          ┆ date       ┆ i8    ┆ i8   ┆ i8      ┆ u8     │\n",
       "╞══════════════╪════════════╪═══════╪══════╪═════════╪════════╡\n",
       "│ 57,543       ┆ 2020-10-06 ┆ 10    ┆ 41   ┆ 2       ┆ 0      │\n",
       "│ 57,549       ┆ 2020-10-06 ┆ 10    ┆ 41   ┆ 2       ┆ 0      │\n",
       "│ 57,551       ┆ 2020-10-06 ┆ 10    ┆ 41   ┆ 2       ┆ 0      │\n",
       "│ 57,552       ┆ 2020-10-07 ┆ 10    ┆ 41   ┆ 3       ┆ 0      │\n",
       "│ 57,569       ┆ 2020-10-06 ┆ 10    ┆ 41   ┆ 2       ┆ 0      │\n",
       "└──────────────┴────────────┴───────┴──────┴─────────┴────────┘"
      ]
     },
     "metadata": {},
     "output_type": "display_data"
    },
    {
     "name": "stdout",
     "output_type": "stream",
     "text": [
      "(10, 6)\n"
     ]
    }
   ],
   "source": [
    "test_base = (\n",
    "    pl.scan_parquet(all_test_files[_ind])\n",
    "    .select(\n",
    "        pl.col(\"case_id\").cast(pl.UInt32).alias(\"case_id_base\"),\n",
    "        cs.contains(\"date\").str.to_date().alias(\"Date\"),\n",
    "    )\n",
    "    .with_columns(\n",
    "        pl.col(\"Date\").dt.month().alias(\"month\"),\n",
    "        pl.col(\"Date\").dt.week().alias(\"week\"),\n",
    "        pl.col(\"Date\").dt.weekday().alias(\"weekday\"),\n",
    "        pl.lit(0).cast(pl.UInt8).alias(\"target\")\n",
    "    )\n",
    ")\n",
    "display(test_base.fetch().head())\n",
    "print(test_base.collect().shape)"
   ]
  },
  {
   "cell_type": "code",
   "execution_count": 14,
   "metadata": {},
   "outputs": [
    {
     "data": {
      "text/html": [
       "<div><style>\n",
       ".dataframe > thead > tr,\n",
       ".dataframe > tbody > tr {\n",
       "  text-align: right;\n",
       "  white-space: pre-wrap;\n",
       "}\n",
       "</style>\n",
       "<small>shape: (5, 3)</small><table border=\"1\" class=\"dataframe\"><thead><tr><th>index</th><th>path</th><th>filename</th></tr><tr><td>i64</td><td>str</td><td>str</td></tr></thead><tbody><tr><td>31</td><td>&quot;Downloads/credit_risk/test/test_applprev_1_0.parquet&quot;</td><td>&quot;test_applprev_1_0.parquet&quot;</td></tr><tr><td>35</td><td>&quot;Downloads/credit_risk/test/test_applprev_1_1.parquet&quot;</td><td>&quot;test_applprev_1_1.parquet&quot;</td></tr><tr><td>9</td><td>&quot;Downloads/credit_risk/test/test_applprev_1_2.parquet&quot;</td><td>&quot;test_applprev_1_2.parquet&quot;</td></tr><tr><td>1</td><td>&quot;Downloads/credit_risk/test/test_applprev_2.parquet&quot;</td><td>&quot;test_applprev_2.parquet&quot;</td></tr><tr><td>33</td><td>&quot;Downloads/credit_risk/test/test_base.parquet&quot;</td><td>&quot;test_base.parquet&quot;</td></tr></tbody></table></div>"
      ],
      "text/plain": [
       "shape: (5, 3)\n",
       "┌───────┬──────────────────────────────────────────────────────┬───────────────────────────┐\n",
       "│ index ┆ path                                                 ┆ filename                  │\n",
       "│ ---   ┆ ---                                                  ┆ ---                       │\n",
       "│ i64   ┆ str                                                  ┆ str                       │\n",
       "╞═══════╪══════════════════════════════════════════════════════╪═══════════════════════════╡\n",
       "│ 31    ┆ Downloads/credit_risk/test/test_applprev_1_0.parquet ┆ test_applprev_1_0.parquet │\n",
       "│ 35    ┆ Downloads/credit_risk/test/test_applprev_1_1.parquet ┆ test_applprev_1_1.parquet │\n",
       "│ 9     ┆ Downloads/credit_risk/test/test_applprev_1_2.parquet ┆ test_applprev_1_2.parquet │\n",
       "│ 1     ┆ Downloads/credit_risk/test/test_applprev_2.parquet   ┆ test_applprev_2.parquet   │\n",
       "│ 33    ┆ Downloads/credit_risk/test/test_base.parquet         ┆ test_base.parquet         │\n",
       "└───────┴──────────────────────────────────────────────────────┴───────────────────────────┘"
      ]
     },
     "execution_count": 14,
     "metadata": {},
     "output_type": "execute_result"
    }
   ],
   "source": [
    "all_files_df = (\n",
    "    pl.concat(\n",
    "        [\n",
    "            train_files_df,\n",
    "            test_files_df\n",
    "        ]\n",
    "    )\n",
    "    .sort(by=\"filename\")\n",
    ")\n",
    "all_files_df.head()"
   ]
  },
  {
   "cell_type": "code",
   "execution_count": 15,
   "metadata": {},
   "outputs": [
    {
     "data": {
      "text/html": [
       "<div><style>\n",
       ".dataframe > thead > tr,\n",
       ".dataframe > tbody > tr {\n",
       "  text-align: right;\n",
       "  white-space: pre-wrap;\n",
       "}\n",
       "</style>\n",
       "<small>shape: (5, 6)</small><table border=\"1\" class=\"dataframe\"><thead><tr><th>case_id_base</th><th>Date</th><th>month</th><th>week</th><th>weekday</th><th>target</th></tr><tr><td>u32</td><td>date</td><td>i8</td><td>i8</td><td>i8</td><td>u8</td></tr></thead><tbody><tr><td>0</td><td>2019-01-03</td><td>1</td><td>1</td><td>4</td><td>0</td></tr><tr><td>1</td><td>2019-01-03</td><td>1</td><td>1</td><td>4</td><td>0</td></tr><tr><td>2</td><td>2019-01-04</td><td>1</td><td>1</td><td>5</td><td>0</td></tr><tr><td>3</td><td>2019-01-03</td><td>1</td><td>1</td><td>4</td><td>0</td></tr><tr><td>4</td><td>2019-01-04</td><td>1</td><td>1</td><td>5</td><td>1</td></tr></tbody></table></div>"
      ],
      "text/plain": [
       "shape: (5, 6)\n",
       "┌──────────────┬────────────┬───────┬──────┬─────────┬────────┐\n",
       "│ case_id_base ┆ Date       ┆ month ┆ week ┆ weekday ┆ target │\n",
       "│ ---          ┆ ---        ┆ ---   ┆ ---  ┆ ---     ┆ ---    │\n",
       "│ u32          ┆ date       ┆ i8    ┆ i8   ┆ i8      ┆ u8     │\n",
       "╞══════════════╪════════════╪═══════╪══════╪═════════╪════════╡\n",
       "│ 0            ┆ 2019-01-03 ┆ 1     ┆ 1    ┆ 4       ┆ 0      │\n",
       "│ 1            ┆ 2019-01-03 ┆ 1     ┆ 1    ┆ 4       ┆ 0      │\n",
       "│ 2            ┆ 2019-01-04 ┆ 1     ┆ 1    ┆ 5       ┆ 0      │\n",
       "│ 3            ┆ 2019-01-03 ┆ 1     ┆ 1    ┆ 4       ┆ 0      │\n",
       "│ 4            ┆ 2019-01-04 ┆ 1     ┆ 1    ┆ 5       ┆ 1      │\n",
       "└──────────────┴────────────┴───────┴──────┴─────────┴────────┘"
      ]
     },
     "execution_count": 15,
     "metadata": {},
     "output_type": "execute_result"
    }
   ],
   "source": [
    "total_base = (\n",
    "    pl.concat(\n",
    "        [\n",
    "            train_base,\n",
    "            test_base\n",
    "        ]\n",
    "    )\n",
    ")\n",
    "total_base.fetch().head()"
   ]
  },
  {
   "cell_type": "code",
   "execution_count": 16,
   "metadata": {},
   "outputs": [],
   "source": [
    "def read_and_cast(filter_string:str):\n",
    "    _files_list = all_files_df.filter(pl.col(\"filename\").str.contains(filter_string))[\"path\"].to_list()\n",
    "    return (\n",
    "        pl.concat(\n",
    "            [\n",
    "                pl.scan_parquet(_) for _ in _files_list\n",
    "            ],\n",
    "            how=\"vertical_relaxed\"\n",
    "        )\n",
    "        .select(\n",
    "            cs.by_name(\"case_id\").cast(pl.UInt32),\n",
    "            cs.contains(\"num_group\").cast(pl.UInt16),\n",
    "            cs.ends_with(\"D\").cast(pl.Date),\n",
    "            cs.ends_with(\"L\",\"T\",\"M\").cast(pl.String).cast(pl.Categorical),\n",
    "            cs.ends_with(\"P\",\"A\").cast(pl.Float32)\n",
    "        )\n",
    "    )\n",
    "\n",
    "def select_impuatable(df:pl.LazyFrame,threshold=0.5):\n",
    "    _ = df.collect(streaming=True)\n",
    "    __ = _.shape[0]\n",
    "    cols = (\n",
    "        _\n",
    "        .null_count()\n",
    "        .pipe(lambda df: df/__)\n",
    "        .transpose(include_header=True)\n",
    "        .filter(pl.col(\"column_0\") <= threshold)\n",
    "        [\"column\"].to_list()\n",
    "        \n",
    "    )\n",
    "    del _,__\n",
    "    gc.collect()\n",
    "    return df.select(cols)\n",
    "\n",
    "def grouping(df:pl.LazyFrame):\n",
    "    return (\n",
    "        df\n",
    "        .group_by(\"case_id\")\n",
    "        .agg(\n",
    "            (cs.ends_with(\"P\",\"A\",\"D\") | cs.contains(\"num_group\")).max().prefix(\"max_\"),\n",
    "            (cs.ends_with(\"P\",\"A\",\"D\") | cs.contains(\"num_group\")).min().prefix(\"min_\"),\n",
    "            (cs.ends_with(\"P\",\"A\",\"D\") | cs.contains(\"num_group\")).mean().prefix(\"mean_\"),\n",
    "            cs.ends_with(\"L\",\"T\",\"M\").mode().drop_nulls().first().prefix(\"first_\"),\n",
    "        )\n",
    "    )"
   ]
  },
  {
   "cell_type": "markdown",
   "metadata": {},
   "source": [
    "## Past Application"
   ]
  },
  {
   "cell_type": "code",
   "execution_count": 17,
   "metadata": {},
   "outputs": [
    {
     "data": {
      "text/html": [
       "<div><style>\n",
       ".dataframe > thead > tr,\n",
       ".dataframe > tbody > tr {\n",
       "  text-align: right;\n",
       "  white-space: pre-wrap;\n",
       "}\n",
       "</style>\n",
       "<small>shape: (5, 29)</small><table border=\"1\" class=\"dataframe\"><thead><tr><th>case_id</th><th>num_group1</th><th>approvaldate_319D</th><th>creationdate_885D</th><th>dateactivated_425D</th><th>firstnonzeroinstldate_307D</th><th>cancelreason_3545846M</th><th>credtype_587L</th><th>district_544M</th><th>education_1138M</th><th>familystate_726L</th><th>inittransactioncode_279L</th><th>isbidproduct_390L</th><th>pmtnum_8L</th><th>postype_4733339M</th><th>profession_152M</th><th>rejectreason_755M</th><th>rejectreasonclient_4145042M</th><th>status_219L</th><th>tenor_203L</th><th>actualdpd_943P</th><th>annuity_853A</th><th>credacc_credlmt_575A</th><th>credamount_590A</th><th>currdebt_94A</th><th>downpmt_134A</th><th>mainoccupationinc_437A</th><th>maxdpdtolerance_577P</th><th>outstandingdebt_522A</th></tr><tr><td>u32</td><td>u16</td><td>date</td><td>date</td><td>date</td><td>date</td><td>cat</td><td>cat</td><td>cat</td><td>cat</td><td>cat</td><td>cat</td><td>cat</td><td>cat</td><td>cat</td><td>cat</td><td>cat</td><td>cat</td><td>cat</td><td>cat</td><td>f32</td><td>f32</td><td>f32</td><td>f32</td><td>f32</td><td>f32</td><td>f32</td><td>f32</td><td>f32</td></tr></thead><tbody><tr><td>57,543</td><td>0</td><td>null</td><td>2018-07-10</td><td>null</td><td>2018-08-09</td><td>&quot;P94_109_143&quot;</td><td>&quot;COL&quot;</td><td>&quot;P197_47_166&quot;</td><td>&quot;a55475b1&quot;</td><td>null</td><td>&quot;POS&quot;</td><td>&quot;false&quot;</td><td>&quot;31.0&quot;</td><td>&quot;P149_40_170&quot;</td><td>&quot;a55475b1&quot;</td><td>&quot;P99_56_166&quot;</td><td>&quot;P94_109_143&quot;</td><td>&quot;D&quot;</td><td>&quot;31.0&quot;</td><td>0.00</td><td>1,519.80</td><td>0.00</td><td>37,998.00</td><td>null</td><td>0.00</td><td>30,000.00</td><td>null</td><td>null</td></tr><tr><td>57,549</td><td>0</td><td>null</td><td>2019-04-09</td><td>null</td><td>2019-05-10</td><td>&quot;P94_109_143&quot;</td><td>&quot;CAL&quot;</td><td>&quot;P7_110_89&quot;</td><td>&quot;P97_36_170&quot;</td><td>&quot;SINGLE&quot;</td><td>&quot;CASH&quot;</td><td>&quot;false&quot;</td><td>&quot;12.0&quot;</td><td>&quot;P67_102_161&quot;</td><td>&quot;a55475b1&quot;</td><td>&quot;P45_84_106&quot;</td><td>&quot;P94_109_143&quot;</td><td>&quot;D&quot;</td><td>&quot;12.0&quot;</td><td>0.00</td><td>2,048.80</td><td>0.00</td><td>20,000.00</td><td>null</td><td>0.00</td><td>12,000.00</td><td>null</td><td>null</td></tr><tr><td>57,551</td><td>0</td><td>null</td><td>2019-11-23</td><td>null</td><td>2019-12-23</td><td>&quot;P94_109_143&quot;</td><td>&quot;CAL&quot;</td><td>&quot;a55475b1&quot;</td><td>&quot;a55475b1&quot;</td><td>null</td><td>&quot;CASH&quot;</td><td>&quot;false&quot;</td><td>&quot;12.0&quot;</td><td>&quot;P67_102_161&quot;</td><td>&quot;a55475b1&quot;</td><td>&quot;P99_56_166&quot;</td><td>&quot;P94_109_143&quot;</td><td>&quot;D&quot;</td><td>&quot;12.0&quot;</td><td>0.00</td><td>1,871.80</td><td>0.00</td><td>20,000.00</td><td>null</td><td>0.00</td><td>22,000.00</td><td>null</td><td>null</td></tr><tr><td>57,551</td><td>1</td><td>null</td><td>2018-08-08</td><td>null</td><td>2018-09-08</td><td>&quot;P94_109_143&quot;</td><td>&quot;CAL&quot;</td><td>&quot;P197_47_166&quot;</td><td>&quot;P97_36_170&quot;</td><td>&quot;MARRIED&quot;</td><td>&quot;CASH&quot;</td><td>&quot;false&quot;</td><td>&quot;18.0&quot;</td><td>&quot;P46_145_78&quot;</td><td>&quot;a55475b1&quot;</td><td>&quot;P45_84_106&quot;</td><td>&quot;P94_109_143&quot;</td><td>&quot;D&quot;</td><td>&quot;18.0&quot;</td><td>0.00</td><td>5,401.00</td><td>0.00</td><td>60,000.00</td><td>null</td><td>0.00</td><td>50,000.00</td><td>null</td><td>null</td></tr><tr><td>57,552</td><td>0</td><td>null</td><td>2017-03-01</td><td>null</td><td>2017-03-29</td><td>&quot;P94_109_143&quot;</td><td>&quot;CAL&quot;</td><td>&quot;P11_36_178&quot;</td><td>&quot;P97_36_170&quot;</td><td>&quot;MARRIED&quot;</td><td>&quot;CASH&quot;</td><td>&quot;false&quot;</td><td>&quot;18.0&quot;</td><td>&quot;P46_145_78&quot;</td><td>&quot;a55475b1&quot;</td><td>&quot;P45_84_106&quot;</td><td>&quot;P94_109_143&quot;</td><td>&quot;D&quot;</td><td>&quot;18.0&quot;</td><td>0.00</td><td>4,834.20</td><td>0.00</td><td>50,000.00</td><td>null</td><td>0.00</td><td>16,000.00</td><td>null</td><td>null</td></tr></tbody></table></div>"
      ],
      "text/plain": [
       "shape: (5, 29)\n",
       "┌─────────┬────────────┬───────────┬───────────┬───┬───────────┬───────────┬───────────┬───────────┐\n",
       "│ case_id ┆ num_group1 ┆ approvald ┆ creationd ┆ … ┆ downpmt_1 ┆ mainoccup ┆ maxdpdtol ┆ outstandi │\n",
       "│ ---     ┆ ---        ┆ ate_319D  ┆ ate_885D  ┆   ┆ 34A       ┆ ationinc_ ┆ erance_57 ┆ ngdebt_52 │\n",
       "│ u32     ┆ u16        ┆ ---       ┆ ---       ┆   ┆ ---       ┆ 437A      ┆ 7P        ┆ 2A        │\n",
       "│         ┆            ┆ date      ┆ date      ┆   ┆ f32       ┆ ---       ┆ ---       ┆ ---       │\n",
       "│         ┆            ┆           ┆           ┆   ┆           ┆ f32       ┆ f32       ┆ f32       │\n",
       "╞═════════╪════════════╪═══════════╪═══════════╪═══╪═══════════╪═══════════╪═══════════╪═══════════╡\n",
       "│ 57,543  ┆ 0          ┆ null      ┆ 2018-07-1 ┆ … ┆ 0.00      ┆ 30,000.00 ┆ null      ┆ null      │\n",
       "│         ┆            ┆           ┆ 0         ┆   ┆           ┆           ┆           ┆           │\n",
       "│ 57,549  ┆ 0          ┆ null      ┆ 2019-04-0 ┆ … ┆ 0.00      ┆ 12,000.00 ┆ null      ┆ null      │\n",
       "│         ┆            ┆           ┆ 9         ┆   ┆           ┆           ┆           ┆           │\n",
       "│ 57,551  ┆ 0          ┆ null      ┆ 2019-11-2 ┆ … ┆ 0.00      ┆ 22,000.00 ┆ null      ┆ null      │\n",
       "│         ┆            ┆           ┆ 3         ┆   ┆           ┆           ┆           ┆           │\n",
       "│ 57,551  ┆ 1          ┆ null      ┆ 2018-08-0 ┆ … ┆ 0.00      ┆ 50,000.00 ┆ null      ┆ null      │\n",
       "│         ┆            ┆           ┆ 8         ┆   ┆           ┆           ┆           ┆           │\n",
       "│ 57,552  ┆ 0          ┆ null      ┆ 2017-03-0 ┆ … ┆ 0.00      ┆ 16,000.00 ┆ null      ┆ null      │\n",
       "│         ┆            ┆           ┆ 1         ┆   ┆           ┆           ┆           ┆           │\n",
       "└─────────┴────────────┴───────────┴───────────┴───┴───────────┴───────────┴───────────┴───────────┘"
      ]
     },
     "execution_count": 17,
     "metadata": {},
     "output_type": "execute_result"
    }
   ],
   "source": [
    "total_past_shallow = read_and_cast(\"applprev_1\").pipe(select_impuatable)\n",
    "total_past_shallow.fetch().head()"
   ]
  },
  {
   "cell_type": "code",
   "execution_count": 18,
   "metadata": {},
   "outputs": [
    {
     "data": {
      "text/html": [
       "<div><style>\n",
       ".dataframe > thead > tr,\n",
       ".dataframe > tbody > tr {\n",
       "  text-align: right;\n",
       "  white-space: pre-wrap;\n",
       "}\n",
       "</style>\n",
       "<small>shape: (5, 5)</small><table border=\"1\" class=\"dataframe\"><thead><tr><th>case_id</th><th>num_group1</th><th>num_group2</th><th>cacccardblochreas_147M</th><th>conts_type_509L</th></tr><tr><td>u32</td><td>u16</td><td>u16</td><td>cat</td><td>cat</td></tr></thead><tbody><tr><td>57,543</td><td>0</td><td>0</td><td>null</td><td>&quot;PRIMARY_MOBILE&quot;</td></tr><tr><td>57,549</td><td>0</td><td>2</td><td>null</td><td>&quot;PHONE&quot;</td></tr><tr><td>57,549</td><td>0</td><td>0</td><td>null</td><td>&quot;PRIMARY_MOBILE&quot;</td></tr><tr><td>57,549</td><td>0</td><td>1</td><td>null</td><td>&quot;HOME_PHONE&quot;</td></tr><tr><td>57,551</td><td>1</td><td>1</td><td>null</td><td>&quot;PRIMARY_MOBILE&quot;</td></tr></tbody></table></div>"
      ],
      "text/plain": [
       "shape: (5, 5)\n",
       "┌─────────┬────────────┬────────────┬────────────────────────┬─────────────────┐\n",
       "│ case_id ┆ num_group1 ┆ num_group2 ┆ cacccardblochreas_147M ┆ conts_type_509L │\n",
       "│ ---     ┆ ---        ┆ ---        ┆ ---                    ┆ ---             │\n",
       "│ u32     ┆ u16        ┆ u16        ┆ cat                    ┆ cat             │\n",
       "╞═════════╪════════════╪════════════╪════════════════════════╪═════════════════╡\n",
       "│ 57,543  ┆ 0          ┆ 0          ┆ null                   ┆ PRIMARY_MOBILE  │\n",
       "│ 57,549  ┆ 0          ┆ 2          ┆ null                   ┆ PHONE           │\n",
       "│ 57,549  ┆ 0          ┆ 0          ┆ null                   ┆ PRIMARY_MOBILE  │\n",
       "│ 57,549  ┆ 0          ┆ 1          ┆ null                   ┆ HOME_PHONE      │\n",
       "│ 57,551  ┆ 1          ┆ 1          ┆ null                   ┆ PRIMARY_MOBILE  │\n",
       "└─────────┴────────────┴────────────┴────────────────────────┴─────────────────┘"
      ]
     },
     "execution_count": 18,
     "metadata": {},
     "output_type": "execute_result"
    }
   ],
   "source": [
    "total_past_depth = read_and_cast(\"applprev_2\").pipe(select_impuatable)\n",
    "total_past_depth.fetch().head()"
   ]
  },
  {
   "cell_type": "code",
   "execution_count": 19,
   "metadata": {},
   "outputs": [
    {
     "data": {
      "text/html": [
       "<div><style>\n",
       ".dataframe > thead > tr,\n",
       ".dataframe > tbody > tr {\n",
       "  text-align: right;\n",
       "  white-space: pre-wrap;\n",
       "}\n",
       "</style>\n",
       "<small>shape: (5, 119)</small><table border=\"1\" class=\"dataframe\"><thead><tr><th>case_id</th><th>firstdatedue_489D</th><th>lastactivateddate_801D</th><th>lastapplicationdate_877D</th><th>lastapprdate_640D</th><th>applicationcnt_361L</th><th>applications30d_658L</th><th>applicationscnt_1086L</th><th>applicationscnt_464L</th><th>applicationscnt_629L</th><th>applicationscnt_867L</th><th>clientscnt12m_3712952L</th><th>clientscnt3m_3712950L</th><th>clientscnt6m_3712949L</th><th>clientscnt_100L</th><th>clientscnt_1022L</th><th>clientscnt_1071L</th><th>clientscnt_1130L</th><th>clientscnt_157L</th><th>clientscnt_257L</th><th>clientscnt_304L</th><th>clientscnt_360L</th><th>clientscnt_493L</th><th>clientscnt_533L</th><th>clientscnt_887L</th><th>clientscnt_946L</th><th>cntincpaycont9m_3716944L</th><th>cntpmts24_3658933L</th><th>commnoinclast6m_3546845L</th><th>credtype_322L</th><th>daysoverduetolerancedd_3976961L</th><th>deferredmnthsnum_166L</th><th>disbursementtype_67L</th><th>eir_270L</th><th>homephncnt_628L</th><th>inittransactioncode_186L</th><th>interestrate_311L</th><th>&hellip;</th><th>sellerplacecnt_915L</th><th>sellerplacescnt_216L</th><th>twobodfilling_608L</th><th>actualdpdtolerance_344P</th><th>amtinstpaidbefduel24m_4187115A</th><th>annuity_780A</th><th>annuitynextmonth_57A</th><th>avgdbddpdlast24m_3658932P</th><th>avgdpdtolclosure24_3658938P</th><th>avginstallast24m_3658937A</th><th>avgmaxdpdlast9m_3716943P</th><th>credamount_770A</th><th>currdebt_22A</th><th>currdebtcredtyperange_828A</th><th>disbursedcredamount_1113A</th><th>downpmt_116A</th><th>lastapprcredamount_781A</th><th>maininc_215A</th><th>maxannuity_159A</th><th>maxdbddpdtollast12m_3658940P</th><th>maxdebt4_972A</th><th>maxdpdfrom6mto36m_3546853P</th><th>maxdpdlast12m_727P</th><th>maxdpdlast24m_143P</th><th>maxdpdlast3m_392P</th><th>maxdpdlast6m_474P</th><th>maxdpdlast9m_1059P</th><th>maxdpdtolerance_374P</th><th>maxinstallast24m_3658928A</th><th>mindbddpdlast24m_3658935P</th><th>posfpd10lastmonth_333P</th><th>posfpd30lastmonth_3976960P</th><th>posfstqpd30lastmonth_3976962P</th><th>price_1097A</th><th>sumoutstandtotal_3546847A</th><th>totaldebt_9A</th><th>totalsettled_863A</th></tr><tr><td>u32</td><td>date</td><td>date</td><td>date</td><td>date</td><td>cat</td><td>cat</td><td>cat</td><td>cat</td><td>cat</td><td>cat</td><td>cat</td><td>cat</td><td>cat</td><td>cat</td><td>cat</td><td>cat</td><td>cat</td><td>cat</td><td>cat</td><td>cat</td><td>cat</td><td>cat</td><td>cat</td><td>cat</td><td>cat</td><td>cat</td><td>cat</td><td>cat</td><td>cat</td><td>cat</td><td>cat</td><td>cat</td><td>cat</td><td>cat</td><td>cat</td><td>cat</td><td>&hellip;</td><td>cat</td><td>cat</td><td>cat</td><td>f32</td><td>f32</td><td>f32</td><td>f32</td><td>f32</td><td>f32</td><td>f32</td><td>f32</td><td>f32</td><td>f32</td><td>f32</td><td>f32</td><td>f32</td><td>f32</td><td>f32</td><td>f32</td><td>f32</td><td>f32</td><td>f32</td><td>f32</td><td>f32</td><td>f32</td><td>f32</td><td>f32</td><td>f32</td><td>f32</td><td>f32</td><td>f32</td><td>f32</td><td>f32</td><td>f32</td><td>f32</td><td>f32</td><td>f32</td></tr></thead><tbody><tr><td>57,543</td><td>null</td><td>null</td><td>2018-07-10</td><td>null</td><td>&quot;0.0&quot;</td><td>&quot;0.0&quot;</td><td>&quot;0.0&quot;</td><td>&quot;0.0&quot;</td><td>&quot;0.0&quot;</td><td>&quot;1.0&quot;</td><td>&quot;0.0&quot;</td><td>&quot;0.0&quot;</td><td>&quot;0.0&quot;</td><td>&quot;0.0&quot;</td><td>&quot;0.0&quot;</td><td>&quot;0.0&quot;</td><td>&quot;0.0&quot;</td><td>&quot;0.0&quot;</td><td>&quot;0.0&quot;</td><td>&quot;0.0&quot;</td><td>&quot;0.0&quot;</td><td>&quot;0.0&quot;</td><td>&quot;0.0&quot;</td><td>&quot;0.0&quot;</td><td>&quot;1.0&quot;</td><td>null</td><td>null</td><td>&quot;0.0&quot;</td><td>&quot;CAL&quot;</td><td>null</td><td>&quot;0.0&quot;</td><td>&quot;GBA&quot;</td><td>&quot;0.45&quot;</td><td>&quot;0.0&quot;</td><td>&quot;CASH&quot;</td><td>&quot;0.45&quot;</td><td>&hellip;</td><td>&quot;0.0&quot;</td><td>&quot;1.0&quot;</td><td>&quot;FO&quot;</td><td>null</td><td>null</td><td>7,637.20</td><td>0.00</td><td>null</td><td>null</td><td>null</td><td>null</td><td>100,000.00</td><td>0.00</td><td>0.00</td><td>100,000.00</td><td>0.00</td><td>null</td><td>null</td><td>0.00</td><td>null</td><td>0.00</td><td>0.00</td><td>0.00</td><td>0.00</td><td>0.00</td><td>0.00</td><td>0.00</td><td>0.00</td><td>null</td><td>null</td><td>0.00</td><td>0.00</td><td>0.00</td><td>0.00</td><td>null</td><td>0.00</td><td>0.00</td></tr><tr><td>57,549</td><td>null</td><td>null</td><td>2019-04-09</td><td>null</td><td>&quot;0.0&quot;</td><td>&quot;0.0&quot;</td><td>&quot;0.0&quot;</td><td>&quot;0.0&quot;</td><td>&quot;0.0&quot;</td><td>&quot;0.0&quot;</td><td>&quot;0.0&quot;</td><td>&quot;0.0&quot;</td><td>&quot;0.0&quot;</td><td>&quot;0.0&quot;</td><td>&quot;0.0&quot;</td><td>&quot;0.0&quot;</td><td>&quot;0.0&quot;</td><td>&quot;1.0&quot;</td><td>&quot;0.0&quot;</td><td>&quot;0.0&quot;</td><td>&quot;0.0&quot;</td><td>&quot;0.0&quot;</td><td>&quot;0.0&quot;</td><td>&quot;0.0&quot;</td><td>&quot;0.0&quot;</td><td>null</td><td>null</td><td>&quot;0.0&quot;</td><td>&quot;CAL&quot;</td><td>null</td><td>&quot;0.0&quot;</td><td>&quot;GBA&quot;</td><td>&quot;0.15&quot;</td><td>&quot;1.0&quot;</td><td>&quot;CASH&quot;</td><td>&quot;0.15&quot;</td><td>&hellip;</td><td>&quot;0.0&quot;</td><td>&quot;0.0&quot;</td><td>&quot;BO&quot;</td><td>null</td><td>null</td><td>902.60</td><td>0.00</td><td>null</td><td>null</td><td>null</td><td>null</td><td>10,000.00</td><td>0.00</td><td>0.00</td><td>10,000.00</td><td>0.00</td><td>null</td><td>null</td><td>0.00</td><td>null</td><td>0.00</td><td>0.00</td><td>0.00</td><td>0.00</td><td>0.00</td><td>0.00</td><td>0.00</td><td>0.00</td><td>null</td><td>null</td><td>0.00</td><td>0.00</td><td>1.00</td><td>null</td><td>null</td><td>0.00</td><td>0.00</td></tr><tr><td>57,551</td><td>null</td><td>null</td><td>2019-11-23</td><td>null</td><td>&quot;0.0&quot;</td><td>&quot;0.0&quot;</td><td>&quot;0.0&quot;</td><td>&quot;0.0&quot;</td><td>&quot;0.0&quot;</td><td>&quot;2.0&quot;</td><td>&quot;0.0&quot;</td><td>&quot;0.0&quot;</td><td>&quot;0.0&quot;</td><td>&quot;0.0&quot;</td><td>&quot;0.0&quot;</td><td>&quot;0.0&quot;</td><td>&quot;0.0&quot;</td><td>&quot;1.0&quot;</td><td>&quot;0.0&quot;</td><td>&quot;0.0&quot;</td><td>&quot;0.0&quot;</td><td>&quot;0.0&quot;</td><td>&quot;0.0&quot;</td><td>&quot;0.0&quot;</td><td>&quot;0.0&quot;</td><td>null</td><td>null</td><td>&quot;0.0&quot;</td><td>&quot;CAL&quot;</td><td>null</td><td>&quot;0.0&quot;</td><td>&quot;GBA&quot;</td><td>&quot;0.15&quot;</td><td>&quot;0.0&quot;</td><td>&quot;CASH&quot;</td><td>&quot;0.15&quot;</td><td>&hellip;</td><td>&quot;0.0&quot;</td><td>&quot;1.0&quot;</td><td>&quot;BO&quot;</td><td>null</td><td>null</td><td>3,610.20</td><td>0.00</td><td>null</td><td>null</td><td>null</td><td>null</td><td>40,000.00</td><td>0.00</td><td>0.00</td><td>40,000.00</td><td>0.00</td><td>null</td><td>null</td><td>0.00</td><td>null</td><td>0.00</td><td>0.00</td><td>0.00</td><td>0.00</td><td>0.00</td><td>0.00</td><td>0.00</td><td>0.00</td><td>null</td><td>null</td><td>0.00</td><td>0.00</td><td>0.00</td><td>null</td><td>null</td><td>0.00</td><td>0.00</td></tr><tr><td>57,552</td><td>null</td><td>null</td><td>2017-03-01</td><td>null</td><td>&quot;0.0&quot;</td><td>&quot;0.0&quot;</td><td>&quot;0.0&quot;</td><td>&quot;0.0&quot;</td><td>&quot;0.0&quot;</td><td>&quot;1.0&quot;</td><td>&quot;0.0&quot;</td><td>&quot;0.0&quot;</td><td>&quot;0.0&quot;</td><td>&quot;0.0&quot;</td><td>&quot;0.0&quot;</td><td>&quot;0.0&quot;</td><td>&quot;1.0&quot;</td><td>&quot;0.0&quot;</td><td>&quot;0.0&quot;</td><td>&quot;0.0&quot;</td><td>&quot;0.0&quot;</td><td>&quot;0.0&quot;</td><td>&quot;1.0&quot;</td><td>&quot;0.0&quot;</td><td>&quot;0.0&quot;</td><td>null</td><td>null</td><td>&quot;0.0&quot;</td><td>&quot;CAL&quot;</td><td>null</td><td>&quot;0.0&quot;</td><td>&quot;GBA&quot;</td><td>&quot;0.45&quot;</td><td>&quot;0.0&quot;</td><td>&quot;CASH&quot;</td><td>&quot;0.45&quot;</td><td>&hellip;</td><td>&quot;0.0&quot;</td><td>&quot;0.0&quot;</td><td>&quot;FO&quot;</td><td>null</td><td>null</td><td>6,964.40</td><td>0.00</td><td>null</td><td>null</td><td>null</td><td>null</td><td>90,000.00</td><td>0.00</td><td>0.00</td><td>90,000.00</td><td>0.00</td><td>null</td><td>null</td><td>0.00</td><td>null</td><td>0.00</td><td>0.00</td><td>0.00</td><td>0.00</td><td>0.00</td><td>0.00</td><td>0.00</td><td>0.00</td><td>null</td><td>null</td><td>0.00</td><td>0.00</td><td>0.00</td><td>null</td><td>null</td><td>0.00</td><td>0.00</td></tr><tr><td>57,569</td><td>null</td><td>null</td><td>null</td><td>null</td><td>&quot;0.0&quot;</td><td>&quot;0.0&quot;</td><td>&quot;0.0&quot;</td><td>&quot;0.0&quot;</td><td>&quot;0.0&quot;</td><td>&quot;0.0&quot;</td><td>&quot;0.0&quot;</td><td>&quot;0.0&quot;</td><td>&quot;0.0&quot;</td><td>&quot;0.0&quot;</td><td>&quot;0.0&quot;</td><td>&quot;0.0&quot;</td><td>&quot;0.0&quot;</td><td>&quot;0.0&quot;</td><td>&quot;0.0&quot;</td><td>&quot;0.0&quot;</td><td>&quot;0.0&quot;</td><td>&quot;0.0&quot;</td><td>&quot;0.0&quot;</td><td>&quot;0.0&quot;</td><td>&quot;0.0&quot;</td><td>null</td><td>null</td><td>&quot;0.0&quot;</td><td>&quot;CAL&quot;</td><td>null</td><td>&quot;0.0&quot;</td><td>&quot;GBA&quot;</td><td>&quot;0.42&quot;</td><td>&quot;0.0&quot;</td><td>&quot;CASH&quot;</td><td>&quot;0.42&quot;</td><td>&hellip;</td><td>&quot;0.0&quot;</td><td>&quot;0.0&quot;</td><td>&quot;FO&quot;</td><td>null</td><td>null</td><td>5,553.40</td><td>0.00</td><td>null</td><td>null</td><td>null</td><td>null</td><td>50,000.00</td><td>0.00</td><td>0.00</td><td>50,000.00</td><td>0.00</td><td>null</td><td>null</td><td>0.00</td><td>null</td><td>0.00</td><td>0.00</td><td>0.00</td><td>0.00</td><td>0.00</td><td>0.00</td><td>0.00</td><td>0.00</td><td>null</td><td>null</td><td>0.00</td><td>0.00</td><td>0.00</td><td>null</td><td>null</td><td>0.00</td><td>0.00</td></tr></tbody></table></div>"
      ],
      "text/plain": [
       "shape: (5, 119)\n",
       "┌─────────┬────────────┬───────────┬───────────┬───┬───────────┬───────────┬───────────┬───────────┐\n",
       "│ case_id ┆ firstdated ┆ lastactiv ┆ lastappli ┆ … ┆ price_109 ┆ sumoutsta ┆ totaldebt ┆ totalsett │\n",
       "│ ---     ┆ ue_489D    ┆ ateddate_ ┆ cationdat ┆   ┆ 7A        ┆ ndtotal_3 ┆ _9A       ┆ led_863A  │\n",
       "│ u32     ┆ ---        ┆ 801D      ┆ e_877D    ┆   ┆ ---       ┆ 546847A   ┆ ---       ┆ ---       │\n",
       "│         ┆ date       ┆ ---       ┆ ---       ┆   ┆ f32       ┆ ---       ┆ f32       ┆ f32       │\n",
       "│         ┆            ┆ date      ┆ date      ┆   ┆           ┆ f32       ┆           ┆           │\n",
       "╞═════════╪════════════╪═══════════╪═══════════╪═══╪═══════════╪═══════════╪═══════════╪═══════════╡\n",
       "│ 57,543  ┆ null       ┆ null      ┆ 2018-07-1 ┆ … ┆ 0.00      ┆ null      ┆ 0.00      ┆ 0.00      │\n",
       "│         ┆            ┆           ┆ 0         ┆   ┆           ┆           ┆           ┆           │\n",
       "│ 57,549  ┆ null       ┆ null      ┆ 2019-04-0 ┆ … ┆ null      ┆ null      ┆ 0.00      ┆ 0.00      │\n",
       "│         ┆            ┆           ┆ 9         ┆   ┆           ┆           ┆           ┆           │\n",
       "│ 57,551  ┆ null       ┆ null      ┆ 2019-11-2 ┆ … ┆ null      ┆ null      ┆ 0.00      ┆ 0.00      │\n",
       "│         ┆            ┆           ┆ 3         ┆   ┆           ┆           ┆           ┆           │\n",
       "│ 57,552  ┆ null       ┆ null      ┆ 2017-03-0 ┆ … ┆ null      ┆ null      ┆ 0.00      ┆ 0.00      │\n",
       "│         ┆            ┆           ┆ 1         ┆   ┆           ┆           ┆           ┆           │\n",
       "│ 57,569  ┆ null       ┆ null      ┆ null      ┆ … ┆ null      ┆ null      ┆ 0.00      ┆ 0.00      │\n",
       "└─────────┴────────────┴───────────┴───────────┴───┴───────────┴───────────┴───────────┴───────────┘"
      ]
     },
     "execution_count": 19,
     "metadata": {},
     "output_type": "execute_result"
    }
   ],
   "source": [
    "total_static_base = read_and_cast(\"static_0\").pipe(select_impuatable)\n",
    "total_static_base.fetch().head()"
   ]
  },
  {
   "cell_type": "code",
   "execution_count": 20,
   "metadata": {},
   "outputs": [
    {
     "data": {
      "text/html": [
       "<div><style>\n",
       ".dataframe > thead > tr,\n",
       ".dataframe > tbody > tr {\n",
       "  text-align: right;\n",
       "  white-space: pre-wrap;\n",
       "}\n",
       "</style>\n",
       "<small>shape: (5, 22)</small><table border=\"1\" class=\"dataframe\"><thead><tr><th>case_id</th><th>num_group1</th><th>birth_259D</th><th>contaddr_district_15M</th><th>contaddr_matchlist_1032L</th><th>contaddr_smempladdr_334L</th><th>contaddr_zipcode_807M</th><th>education_927M</th><th>empladdr_district_926M</th><th>empladdr_zipcode_114M</th><th>incometype_1044T</th><th>language1_981M</th><th>personindex_1023L</th><th>persontype_1072L</th><th>persontype_792L</th><th>registaddr_district_1083M</th><th>registaddr_zipcode_184M</th><th>role_1084L</th><th>safeguarantyflag_411L</th><th>sex_738L</th><th>type_25L</th><th>mainoccupationinc_384A</th></tr><tr><td>u32</td><td>u16</td><td>date</td><td>cat</td><td>cat</td><td>cat</td><td>cat</td><td>cat</td><td>cat</td><td>cat</td><td>cat</td><td>cat</td><td>cat</td><td>cat</td><td>cat</td><td>cat</td><td>cat</td><td>cat</td><td>cat</td><td>cat</td><td>cat</td><td>f32</td></tr></thead><tbody><tr><td>57,543</td><td>0</td><td>1996-08-01</td><td>&quot;P107_30_170&quot;</td><td>&quot;false&quot;</td><td>&quot;false&quot;</td><td>&quot;P144_138_111&quot;</td><td>&quot;P97_36_170&quot;</td><td>&quot;P16_81_96&quot;</td><td>&quot;P144_138_111&quot;</td><td>&quot;EMPLOYED&quot;</td><td>&quot;P209_127_106&quot;</td><td>&quot;0.0&quot;</td><td>&quot;1.0&quot;</td><td>&quot;1.0&quot;</td><td>&quot;P107_30_170&quot;</td><td>&quot;P144_138_111&quot;</td><td>&quot;CL&quot;</td><td>&quot;false&quot;</td><td>&quot;M&quot;</td><td>&quot;PRIMARY_MOBILE&quot;</td><td>36,000.00</td></tr><tr><td>57,543</td><td>1</td><td>null</td><td>&quot;a55475b1&quot;</td><td>null</td><td>null</td><td>&quot;a55475b1&quot;</td><td>&quot;a55475b1&quot;</td><td>&quot;a55475b1&quot;</td><td>&quot;a55475b1&quot;</td><td>null</td><td>&quot;a55475b1&quot;</td><td>&quot;1.0&quot;</td><td>&quot;1.0&quot;</td><td>&quot;5.0&quot;</td><td>&quot;a55475b1&quot;</td><td>&quot;a55475b1&quot;</td><td>&quot;EM&quot;</td><td>null</td><td>null</td><td>&quot;PHONE&quot;</td><td>null</td></tr><tr><td>57,543</td><td>2</td><td>null</td><td>&quot;a55475b1&quot;</td><td>null</td><td>null</td><td>&quot;a55475b1&quot;</td><td>&quot;a55475b1&quot;</td><td>&quot;a55475b1&quot;</td><td>&quot;a55475b1&quot;</td><td>null</td><td>&quot;a55475b1&quot;</td><td>null</td><td>&quot;5.0&quot;</td><td>null</td><td>&quot;a55475b1&quot;</td><td>&quot;a55475b1&quot;</td><td>&quot;PE&quot;</td><td>null</td><td>null</td><td>&quot;PHONE&quot;</td><td>null</td></tr><tr><td>57,549</td><td>0</td><td>1992-03-01</td><td>&quot;P7_110_89&quot;</td><td>&quot;false&quot;</td><td>&quot;false&quot;</td><td>&quot;P166_45_172&quot;</td><td>&quot;P97_36_170&quot;</td><td>&quot;P7_110_89&quot;</td><td>&quot;P166_45_172&quot;</td><td>&quot;EMPLOYED&quot;</td><td>&quot;P10_39_147&quot;</td><td>&quot;0.0&quot;</td><td>&quot;1.0&quot;</td><td>&quot;1.0&quot;</td><td>&quot;P7_110_89&quot;</td><td>&quot;P166_45_172&quot;</td><td>&quot;EM&quot;</td><td>&quot;false&quot;</td><td>&quot;M&quot;</td><td>&quot;PRIMARY_MOBILE&quot;</td><td>15,000.00</td></tr><tr><td>57,549</td><td>1</td><td>null</td><td>&quot;a55475b1&quot;</td><td>null</td><td>null</td><td>&quot;a55475b1&quot;</td><td>&quot;a55475b1&quot;</td><td>&quot;a55475b1&quot;</td><td>&quot;a55475b1&quot;</td><td>null</td><td>&quot;a55475b1&quot;</td><td>&quot;1.0&quot;</td><td>&quot;1.0&quot;</td><td>&quot;5.0&quot;</td><td>&quot;a55475b1&quot;</td><td>&quot;a55475b1&quot;</td><td>&quot;EM&quot;</td><td>null</td><td>null</td><td>&quot;ALTERNATIVE_PHONE&quot;</td><td>null</td></tr></tbody></table></div>"
      ],
      "text/plain": [
       "shape: (5, 22)\n",
       "┌─────────┬────────────┬────────────┬───────────┬───┬───────────┬──────────┬───────────┬───────────┐\n",
       "│ case_id ┆ num_group1 ┆ birth_259D ┆ contaddr_ ┆ … ┆ safeguara ┆ sex_738L ┆ type_25L  ┆ mainoccup │\n",
       "│ ---     ┆ ---        ┆ ---        ┆ district_ ┆   ┆ ntyflag_4 ┆ ---      ┆ ---       ┆ ationinc_ │\n",
       "│ u32     ┆ u16        ┆ date       ┆ 15M       ┆   ┆ 11L       ┆ cat      ┆ cat       ┆ 384A      │\n",
       "│         ┆            ┆            ┆ ---       ┆   ┆ ---       ┆          ┆           ┆ ---       │\n",
       "│         ┆            ┆            ┆ cat       ┆   ┆ cat       ┆          ┆           ┆ f32       │\n",
       "╞═════════╪════════════╪════════════╪═══════════╪═══╪═══════════╪══════════╪═══════════╪═══════════╡\n",
       "│ 57,543  ┆ 0          ┆ 1996-08-01 ┆ P107_30_1 ┆ … ┆ false     ┆ M        ┆ PRIMARY_M ┆ 36,000.00 │\n",
       "│         ┆            ┆            ┆ 70        ┆   ┆           ┆          ┆ OBILE     ┆           │\n",
       "│ 57,543  ┆ 1          ┆ null       ┆ a55475b1  ┆ … ┆ null      ┆ null     ┆ PHONE     ┆ null      │\n",
       "│ 57,543  ┆ 2          ┆ null       ┆ a55475b1  ┆ … ┆ null      ┆ null     ┆ PHONE     ┆ null      │\n",
       "│ 57,549  ┆ 0          ┆ 1992-03-01 ┆ P7_110_89 ┆ … ┆ false     ┆ M        ┆ PRIMARY_M ┆ 15,000.00 │\n",
       "│         ┆            ┆            ┆           ┆   ┆           ┆          ┆ OBILE     ┆           │\n",
       "│ 57,549  ┆ 1          ┆ null       ┆ a55475b1  ┆ … ┆ null      ┆ null     ┆ ALTERNATI ┆ null      │\n",
       "│         ┆            ┆            ┆           ┆   ┆           ┆          ┆ VE_PHONE  ┆           │\n",
       "└─────────┴────────────┴────────────┴───────────┴───┴───────────┴──────────┴───────────┴───────────┘"
      ]
     },
     "execution_count": 20,
     "metadata": {},
     "output_type": "execute_result"
    }
   ],
   "source": [
    "total_person_shallow = read_and_cast(\"person_1\").pipe(select_impuatable)\n",
    "total_person_shallow.fetch().head()"
   ]
  },
  {
   "cell_type": "code",
   "execution_count": 21,
   "metadata": {},
   "outputs": [
    {
     "data": {
      "text/html": [
       "<div><style>\n",
       ".dataframe > thead > tr,\n",
       ".dataframe > tbody > tr {\n",
       "  text-align: right;\n",
       "  white-space: pre-wrap;\n",
       "}\n",
       "</style>\n",
       "<small>shape: (5, 8)</small><table border=\"1\" class=\"dataframe\"><thead><tr><th>case_id</th><th>num_group1</th><th>num_group2</th><th>addres_district_368M</th><th>addres_zip_823M</th><th>conts_role_79M</th><th>empls_economicalst_849M</th><th>empls_employer_name_740M</th></tr><tr><td>u32</td><td>u16</td><td>u16</td><td>cat</td><td>cat</td><td>cat</td><td>cat</td><td>cat</td></tr></thead><tbody><tr><td>57,552</td><td>0</td><td>0</td><td>&quot;a55475b1&quot;</td><td>&quot;a55475b1&quot;</td><td>&quot;a55475b1&quot;</td><td>&quot;a55475b1&quot;</td><td>&quot;a55475b1&quot;</td></tr><tr><td>57,569</td><td>0</td><td>0</td><td>&quot;a55475b1&quot;</td><td>&quot;a55475b1&quot;</td><td>&quot;a55475b1&quot;</td><td>&quot;a55475b1&quot;</td><td>&quot;a55475b1&quot;</td></tr><tr><td>57,630</td><td>0</td><td>0</td><td>&quot;a55475b1&quot;</td><td>&quot;a55475b1&quot;</td><td>&quot;a55475b1&quot;</td><td>&quot;a55475b1&quot;</td><td>&quot;a55475b1&quot;</td></tr><tr><td>57,631</td><td>0</td><td>0</td><td>&quot;a55475b1&quot;</td><td>&quot;a55475b1&quot;</td><td>&quot;a55475b1&quot;</td><td>&quot;a55475b1&quot;</td><td>&quot;a55475b1&quot;</td></tr><tr><td>57,632</td><td>0</td><td>0</td><td>&quot;a55475b1&quot;</td><td>&quot;a55475b1&quot;</td><td>&quot;a55475b1&quot;</td><td>&quot;a55475b1&quot;</td><td>&quot;a55475b1&quot;</td></tr></tbody></table></div>"
      ],
      "text/plain": [
       "shape: (5, 8)\n",
       "┌─────────┬────────────┬────────────┬────────────┬────────────┬────────────┬───────────┬───────────┐\n",
       "│ case_id ┆ num_group1 ┆ num_group2 ┆ addres_dis ┆ addres_zip ┆ conts_role ┆ empls_eco ┆ empls_emp │\n",
       "│ ---     ┆ ---        ┆ ---        ┆ trict_368M ┆ _823M      ┆ _79M       ┆ nomicalst ┆ loyer_nam │\n",
       "│ u32     ┆ u16        ┆ u16        ┆ ---        ┆ ---        ┆ ---        ┆ _849M     ┆ e_740M    │\n",
       "│         ┆            ┆            ┆ cat        ┆ cat        ┆ cat        ┆ ---       ┆ ---       │\n",
       "│         ┆            ┆            ┆            ┆            ┆            ┆ cat       ┆ cat       │\n",
       "╞═════════╪════════════╪════════════╪════════════╪════════════╪════════════╪═══════════╪═══════════╡\n",
       "│ 57,552  ┆ 0          ┆ 0          ┆ a55475b1   ┆ a55475b1   ┆ a55475b1   ┆ a55475b1  ┆ a55475b1  │\n",
       "│ 57,569  ┆ 0          ┆ 0          ┆ a55475b1   ┆ a55475b1   ┆ a55475b1   ┆ a55475b1  ┆ a55475b1  │\n",
       "│ 57,630  ┆ 0          ┆ 0          ┆ a55475b1   ┆ a55475b1   ┆ a55475b1   ┆ a55475b1  ┆ a55475b1  │\n",
       "│ 57,631  ┆ 0          ┆ 0          ┆ a55475b1   ┆ a55475b1   ┆ a55475b1   ┆ a55475b1  ┆ a55475b1  │\n",
       "│ 57,632  ┆ 0          ┆ 0          ┆ a55475b1   ┆ a55475b1   ┆ a55475b1   ┆ a55475b1  ┆ a55475b1  │\n",
       "└─────────┴────────────┴────────────┴────────────┴────────────┴────────────┴───────────┴───────────┘"
      ]
     },
     "execution_count": 21,
     "metadata": {},
     "output_type": "execute_result"
    }
   ],
   "source": [
    "total_person_depth = read_and_cast(\"person_2\").pipe(select_impuatable)\n",
    "total_person_depth.fetch().head()"
   ]
  },
  {
   "cell_type": "code",
   "execution_count": 22,
   "metadata": {},
   "outputs": [
    {
     "data": {
      "text/html": [
       "<div><style>\n",
       ".dataframe > thead > tr,\n",
       ".dataframe > tbody > tr {\n",
       "  text-align: right;\n",
       "  white-space: pre-wrap;\n",
       "}\n",
       "</style>\n",
       "<small>shape: (5, 7)</small><table border=\"1\" class=\"dataframe\"><thead><tr><th>case_id</th><th>num_group1</th><th>amtdebitincoming_4809443A</th><th>amtdebitoutgoing_4809440A</th><th>amtdepositbalance_4809441A</th><th>amtdepositincoming_4809444A</th><th>amtdepositoutgoing_4809442A</th></tr><tr><td>u32</td><td>u16</td><td>f32</td><td>f32</td><td>f32</td><td>f32</td><td>f32</td></tr></thead><tbody><tr><td>57,635</td><td>0</td><td>0.00</td><td>0.00</td><td>12,028.80</td><td>0.00</td><td>4,011.00</td></tr><tr><td>57,694</td><td>0</td><td>0.00</td><td>0.00</td><td>246,588.20</td><td>0.00</td><td>2,294.80</td></tr><tr><td>57,719</td><td>0</td><td>0.00</td><td>0.00</td><td>507.00</td><td>0.00</td><td>3.80</td></tr><tr><td>57,762</td><td>0</td><td>0.00</td><td>0.00</td><td>240.20</td><td>0.00</td><td>1.80</td></tr><tr><td>57,774</td><td>0</td><td>0.00</td><td>0.00</td><td>988.60</td><td>0.00</td><td>8.20</td></tr></tbody></table></div>"
      ],
      "text/plain": [
       "shape: (5, 7)\n",
       "┌─────────┬────────────┬───────────────┬──────────────┬──────────────┬──────────────┬──────────────┐\n",
       "│ case_id ┆ num_group1 ┆ amtdebitincom ┆ amtdebitoutg ┆ amtdepositba ┆ amtdepositin ┆ amtdepositou │\n",
       "│ ---     ┆ ---        ┆ ing_4809443A  ┆ oing_4809440 ┆ lance_480944 ┆ coming_48094 ┆ tgoing_48094 │\n",
       "│ u32     ┆ u16        ┆ ---           ┆ A            ┆ 1A           ┆ 44A          ┆ 42A          │\n",
       "│         ┆            ┆ f32           ┆ ---          ┆ ---          ┆ ---          ┆ ---          │\n",
       "│         ┆            ┆               ┆ f32          ┆ f32          ┆ f32          ┆ f32          │\n",
       "╞═════════╪════════════╪═══════════════╪══════════════╪══════════════╪══════════════╪══════════════╡\n",
       "│ 57,635  ┆ 0          ┆ 0.00          ┆ 0.00         ┆ 12,028.80    ┆ 0.00         ┆ 4,011.00     │\n",
       "│ 57,694  ┆ 0          ┆ 0.00          ┆ 0.00         ┆ 246,588.20   ┆ 0.00         ┆ 2,294.80     │\n",
       "│ 57,719  ┆ 0          ┆ 0.00          ┆ 0.00         ┆ 507.00       ┆ 0.00         ┆ 3.80         │\n",
       "│ 57,762  ┆ 0          ┆ 0.00          ┆ 0.00         ┆ 240.20       ┆ 0.00         ┆ 1.80         │\n",
       "│ 57,774  ┆ 0          ┆ 0.00          ┆ 0.00         ┆ 988.60       ┆ 0.00         ┆ 8.20         │\n",
       "└─────────┴────────────┴───────────────┴──────────────┴──────────────┴──────────────┴──────────────┘"
      ]
     },
     "execution_count": 22,
     "metadata": {},
     "output_type": "execute_result"
    }
   ],
   "source": [
    "total_other_shallow = read_and_cast(\"other_1\").pipe(select_impuatable)\n",
    "total_other_shallow.fetch().head()"
   ]
  },
  {
   "cell_type": "code",
   "execution_count": 23,
   "metadata": {},
   "outputs": [
    {
     "data": {
      "text/html": [
       "<div><style>\n",
       ".dataframe > thead > tr,\n",
       ".dataframe > tbody > tr {\n",
       "  text-align: right;\n",
       "  white-space: pre-wrap;\n",
       "}\n",
       "</style>\n",
       "<small>shape: (5, 4)</small><table border=\"1\" class=\"dataframe\"><thead><tr><th>case_id</th><th>num_group1</th><th>openingdate_313D</th><th>amount_416A</th></tr><tr><td>u32</td><td>u16</td><td>date</td><td>f32</td></tr></thead><tbody><tr><td>57,694</td><td>0</td><td>2016-10-12</td><td>150,052.38</td></tr><tr><td>57,719</td><td>0</td><td>2016-09-22</td><td>368.39</td></tr><tr><td>57,737</td><td>0</td><td>2016-05-13</td><td>202.00</td></tr><tr><td>57,774</td><td>0</td><td>2016-03-03</td><td>733.01</td></tr><tr><td>57,890</td><td>0</td><td>2015-03-12</td><td>1,178.49</td></tr></tbody></table></div>"
      ],
      "text/plain": [
       "shape: (5, 4)\n",
       "┌─────────┬────────────┬──────────────────┬─────────────┐\n",
       "│ case_id ┆ num_group1 ┆ openingdate_313D ┆ amount_416A │\n",
       "│ ---     ┆ ---        ┆ ---              ┆ ---         │\n",
       "│ u32     ┆ u16        ┆ date             ┆ f32         │\n",
       "╞═════════╪════════════╪══════════════════╪═════════════╡\n",
       "│ 57,694  ┆ 0          ┆ 2016-10-12       ┆ 150,052.38  │\n",
       "│ 57,719  ┆ 0          ┆ 2016-09-22       ┆ 368.39      │\n",
       "│ 57,737  ┆ 0          ┆ 2016-05-13       ┆ 202.00      │\n",
       "│ 57,774  ┆ 0          ┆ 2016-03-03       ┆ 733.01      │\n",
       "│ 57,890  ┆ 0          ┆ 2015-03-12       ┆ 1,178.49    │\n",
       "└─────────┴────────────┴──────────────────┴─────────────┘"
      ]
     },
     "execution_count": 23,
     "metadata": {},
     "output_type": "execute_result"
    }
   ],
   "source": [
    "total_deposit_shallow = read_and_cast(\"deposit_1\").pipe(select_impuatable)\n",
    "total_deposit_shallow.fetch().head()"
   ]
  },
  {
   "cell_type": "code",
   "execution_count": 24,
   "metadata": {},
   "outputs": [
    {
     "data": {
      "text/html": [
       "<div><style>\n",
       ".dataframe > thead > tr,\n",
       ".dataframe > tbody > tr {\n",
       "  text-align: right;\n",
       "  white-space: pre-wrap;\n",
       "}\n",
       "</style>\n",
       "<small>shape: (5, 3)</small><table border=\"1\" class=\"dataframe\"><thead><tr><th>case_id</th><th>num_group1</th><th>openingdate_857D</th></tr><tr><td>u32</td><td>u16</td><td>date</td></tr></thead><tbody><tr><td>57,694</td><td>0</td><td>2016-10-12</td></tr><tr><td>57,719</td><td>0</td><td>2016-09-22</td></tr><tr><td>57,737</td><td>0</td><td>2016-05-13</td></tr><tr><td>57,774</td><td>0</td><td>2016-03-03</td></tr><tr><td>57,890</td><td>0</td><td>2015-03-12</td></tr></tbody></table></div>"
      ],
      "text/plain": [
       "shape: (5, 3)\n",
       "┌─────────┬────────────┬──────────────────┐\n",
       "│ case_id ┆ num_group1 ┆ openingdate_857D │\n",
       "│ ---     ┆ ---        ┆ ---              │\n",
       "│ u32     ┆ u16        ┆ date             │\n",
       "╞═════════╪════════════╪══════════════════╡\n",
       "│ 57,694  ┆ 0          ┆ 2016-10-12       │\n",
       "│ 57,719  ┆ 0          ┆ 2016-09-22       │\n",
       "│ 57,737  ┆ 0          ┆ 2016-05-13       │\n",
       "│ 57,774  ┆ 0          ┆ 2016-03-03       │\n",
       "│ 57,890  ┆ 0          ┆ 2015-03-12       │\n",
       "└─────────┴────────────┴──────────────────┘"
      ]
     },
     "execution_count": 24,
     "metadata": {},
     "output_type": "execute_result"
    }
   ],
   "source": [
    "total_debitcard_shallow = read_and_cast(\"debitcard\").pipe(select_impuatable)\n",
    "total_debitcard_shallow.fetch().head()"
   ]
  },
  {
   "cell_type": "code",
   "execution_count": 25,
   "metadata": {},
   "outputs": [
    {
     "data": {
      "text/html": [
       "<div><style>\n",
       ".dataframe > thead > tr,\n",
       ".dataframe > tbody > tr {\n",
       "  text-align: right;\n",
       "  white-space: pre-wrap;\n",
       "}\n",
       "</style>\n",
       "<small>shape: (5, 14)</small><table border=\"1\" class=\"dataframe\"><thead><tr><th>case_id</th><th>num_group1</th><th>refreshdate_3813885D</th><th>classificationofcontr_13M</th><th>classificationofcontr_400M</th><th>contractst_545M</th><th>contractst_964M</th><th>description_351M</th><th>financialinstitution_382M</th><th>financialinstitution_591M</th><th>purposeofcred_426M</th><th>purposeofcred_874M</th><th>subjectrole_182M</th><th>subjectrole_93M</th></tr><tr><td>u32</td><td>u16</td><td>date</td><td>cat</td><td>cat</td><td>cat</td><td>cat</td><td>cat</td><td>cat</td><td>cat</td><td>cat</td><td>cat</td><td>cat</td><td>cat</td></tr></thead><tbody><tr><td>57,543</td><td>0</td><td>2020-10-17</td><td>&quot;ea6782cc&quot;</td><td>&quot;a55475b1&quot;</td><td>&quot;b919198c&quot;</td><td>&quot;a55475b1&quot;</td><td>&quot;a55475b1&quot;</td><td>&quot;a55475b1&quot;</td><td>&quot;b619fa46&quot;</td><td>&quot;60c73645&quot;</td><td>&quot;a55475b1&quot;</td><td>&quot;ab3c25cf&quot;</td><td>&quot;a55475b1&quot;</td></tr><tr><td>57,543</td><td>1</td><td>2020-10-20</td><td>&quot;a55475b1&quot;</td><td>&quot;a55475b1&quot;</td><td>&quot;a55475b1&quot;</td><td>&quot;a55475b1&quot;</td><td>&quot;a55475b1&quot;</td><td>&quot;a55475b1&quot;</td><td>&quot;a55475b1&quot;</td><td>&quot;a55475b1&quot;</td><td>&quot;a55475b1&quot;</td><td>&quot;a55475b1&quot;</td><td>&quot;a55475b1&quot;</td></tr><tr><td>57,543</td><td>2</td><td>2020-10-19</td><td>&quot;a55475b1&quot;</td><td>&quot;a55475b1&quot;</td><td>&quot;a55475b1&quot;</td><td>&quot;a55475b1&quot;</td><td>&quot;a55475b1&quot;</td><td>&quot;a55475b1&quot;</td><td>&quot;a55475b1&quot;</td><td>&quot;a55475b1&quot;</td><td>&quot;a55475b1&quot;</td><td>&quot;a55475b1&quot;</td><td>&quot;a55475b1&quot;</td></tr><tr><td>57,543</td><td>3</td><td>null</td><td>&quot;a55475b1&quot;</td><td>&quot;a55475b1&quot;</td><td>&quot;a55475b1&quot;</td><td>&quot;a55475b1&quot;</td><td>&quot;a55475b1&quot;</td><td>&quot;a55475b1&quot;</td><td>&quot;a55475b1&quot;</td><td>&quot;a55475b1&quot;</td><td>&quot;a55475b1&quot;</td><td>&quot;a55475b1&quot;</td><td>&quot;a55475b1&quot;</td></tr><tr><td>57,543</td><td>4</td><td>2019-01-03</td><td>&quot;a55475b1&quot;</td><td>&quot;a55475b1&quot;</td><td>&quot;a55475b1&quot;</td><td>&quot;a55475b1&quot;</td><td>&quot;a55475b1&quot;</td><td>&quot;a55475b1&quot;</td><td>&quot;a55475b1&quot;</td><td>&quot;a55475b1&quot;</td><td>&quot;a55475b1&quot;</td><td>&quot;a55475b1&quot;</td><td>&quot;a55475b1&quot;</td></tr></tbody></table></div>"
      ],
      "text/plain": [
       "shape: (5, 14)\n",
       "┌─────────┬────────────┬───────────┬───────────┬───┬───────────┬───────────┬───────────┬───────────┐\n",
       "│ case_id ┆ num_group1 ┆ refreshda ┆ classific ┆ … ┆ purposeof ┆ purposeof ┆ subjectro ┆ subjectro │\n",
       "│ ---     ┆ ---        ┆ te_381388 ┆ ationofco ┆   ┆ cred_426M ┆ cred_874M ┆ le_182M   ┆ le_93M    │\n",
       "│ u32     ┆ u16        ┆ 5D        ┆ ntr_13M   ┆   ┆ ---       ┆ ---       ┆ ---       ┆ ---       │\n",
       "│         ┆            ┆ ---       ┆ ---       ┆   ┆ cat       ┆ cat       ┆ cat       ┆ cat       │\n",
       "│         ┆            ┆ date      ┆ cat       ┆   ┆           ┆           ┆           ┆           │\n",
       "╞═════════╪════════════╪═══════════╪═══════════╪═══╪═══════════╪═══════════╪═══════════╪═══════════╡\n",
       "│ 57,543  ┆ 0          ┆ 2020-10-1 ┆ ea6782cc  ┆ … ┆ 60c73645  ┆ a55475b1  ┆ ab3c25cf  ┆ a55475b1  │\n",
       "│         ┆            ┆ 7         ┆           ┆   ┆           ┆           ┆           ┆           │\n",
       "│ 57,543  ┆ 1          ┆ 2020-10-2 ┆ a55475b1  ┆ … ┆ a55475b1  ┆ a55475b1  ┆ a55475b1  ┆ a55475b1  │\n",
       "│         ┆            ┆ 0         ┆           ┆   ┆           ┆           ┆           ┆           │\n",
       "│ 57,543  ┆ 2          ┆ 2020-10-1 ┆ a55475b1  ┆ … ┆ a55475b1  ┆ a55475b1  ┆ a55475b1  ┆ a55475b1  │\n",
       "│         ┆            ┆ 9         ┆           ┆   ┆           ┆           ┆           ┆           │\n",
       "│ 57,543  ┆ 3          ┆ null      ┆ a55475b1  ┆ … ┆ a55475b1  ┆ a55475b1  ┆ a55475b1  ┆ a55475b1  │\n",
       "│ 57,543  ┆ 4          ┆ 2019-01-0 ┆ a55475b1  ┆ … ┆ a55475b1  ┆ a55475b1  ┆ a55475b1  ┆ a55475b1  │\n",
       "│         ┆            ┆ 3         ┆           ┆   ┆           ┆           ┆           ┆           │\n",
       "└─────────┴────────────┴───────────┴───────────┴───┴───────────┴───────────┴───────────┴───────────┘"
      ]
     },
     "execution_count": 25,
     "metadata": {},
     "output_type": "execute_result"
    }
   ],
   "source": [
    "total_credit_internal_shallow = read_and_cast(\"bureau_a_1\").pipe(select_impuatable)\n",
    "total_credit_internal_shallow.fetch().head()"
   ]
  },
  {
   "cell_type": "code",
   "execution_count": 26,
   "metadata": {},
   "outputs": [
    {
     "data": {
      "text/html": [
       "<div><style>\n",
       ".dataframe > thead > tr,\n",
       ".dataframe > tbody > tr {\n",
       "  text-align: right;\n",
       "  white-space: pre-wrap;\n",
       "}\n",
       "</style>\n",
       "<small>shape: (5, 36)</small><table border=\"1\" class=\"dataframe\"><thead><tr><th>case_id</th><th>num_group1</th><th>contractdate_551D</th><th>contractmaturitydate_151D</th><th>lastupdate_260D</th><th>classificationofcontr_1114M</th><th>contractst_516M</th><th>contracttype_653M</th><th>credor_3940957M</th><th>credquantity_1099L</th><th>credquantity_984L</th><th>dpdmaxdatemonth_804T</th><th>dpdmaxdateyear_742T</th><th>numberofinstls_810L</th><th>overdueamountmaxdatemonth_494T</th><th>overdueamountmaxdateyear_432T</th><th>periodicityofpmts_997M</th><th>pmtmethod_731M</th><th>pmtnumpending_403L</th><th>purposeofcred_722M</th><th>subjectrole_326M</th><th>subjectrole_43M</th><th>amount_1115A</th><th>debtpastduevalue_732A</th><th>debtvalue_227A</th><th>dpd_550P</th><th>dpd_733P</th><th>dpdmax_851P</th><th>installmentamount_644A</th><th>installmentamount_833A</th><th>instlamount_892A</th><th>maxdebtpduevalodued_3940955A</th><th>overdueamountmax_950A</th><th>pmtdaysoverdue_1135P</th><th>totalamount_503A</th><th>totalamount_881A</th></tr><tr><td>u32</td><td>u16</td><td>date</td><td>date</td><td>date</td><td>cat</td><td>cat</td><td>cat</td><td>cat</td><td>cat</td><td>cat</td><td>cat</td><td>cat</td><td>cat</td><td>cat</td><td>cat</td><td>cat</td><td>cat</td><td>cat</td><td>cat</td><td>cat</td><td>cat</td><td>f32</td><td>f32</td><td>f32</td><td>f32</td><td>f32</td><td>f32</td><td>f32</td><td>f32</td><td>f32</td><td>f32</td><td>f32</td><td>f32</td><td>f32</td><td>f32</td></tr></thead><tbody><tr><td>57,660</td><td>0</td><td>2019-12-08</td><td>2021-12-08</td><td>2020-10-10</td><td>&quot;ea6782cc&quot;</td><td>&quot;7241344e&quot;</td><td>&quot;1c9c5356&quot;</td><td>&quot;b619fa46&quot;</td><td>&quot;2.0&quot;</td><td>&quot;1.0&quot;</td><td>&quot;12.0&quot;</td><td>&quot;2019.0&quot;</td><td>null</td><td>&quot;12.0&quot;</td><td>&quot;2019.0&quot;</td><td>&quot;a55475b1&quot;</td><td>&quot;a55475b1&quot;</td><td>null</td><td>&quot;60c73645&quot;</td><td>&quot;ab3c25cf&quot;</td><td>&quot;ab3c25cf&quot;</td><td>null</td><td>0.00</td><td>null</td><td>0.00</td><td>0.00</td><td>0.00</td><td>0.00</td><td>109,099.58</td><td>null</td><td>0.00</td><td>0.00</td><td>0.00</td><td>133,279.00</td><td>16,800.00</td></tr><tr><td>57,660</td><td>1</td><td>2013-03-14</td><td>2021-03-14</td><td>2020-10-20</td><td>&quot;ea6782cc&quot;</td><td>&quot;7241344e&quot;</td><td>&quot;1c9c5356&quot;</td><td>&quot;b619fa46&quot;</td><td>null</td><td>null</td><td>&quot;10.0&quot;</td><td>&quot;2017.0&quot;</td><td>null</td><td>&quot;8.0&quot;</td><td>&quot;2015.0&quot;</td><td>&quot;a55475b1&quot;</td><td>&quot;a55475b1&quot;</td><td>null</td><td>&quot;60c73645&quot;</td><td>&quot;a55475b1&quot;</td><td>&quot;a55475b1&quot;</td><td>null</td><td>0.00</td><td>null</td><td>null</td><td>null</td><td>32,618.00</td><td>null</td><td>null</td><td>null</td><td>11.40</td><td>16.20</td><td>0.00</td><td>null</td><td>null</td></tr><tr><td>57,679</td><td>0</td><td>2019-06-26</td><td>2021-06-26</td><td>2020-10-04</td><td>&quot;ea6782cc&quot;</td><td>&quot;7241344e&quot;</td><td>&quot;1c9c5356&quot;</td><td>&quot;b619fa46&quot;</td><td>&quot;1.0&quot;</td><td>&quot;2.0&quot;</td><td>&quot;9.0&quot;</td><td>&quot;2019.0&quot;</td><td>null</td><td>&quot;9.0&quot;</td><td>&quot;2019.0&quot;</td><td>&quot;a55475b1&quot;</td><td>&quot;a55475b1&quot;</td><td>null</td><td>&quot;60c73645&quot;</td><td>&quot;ab3c25cf&quot;</td><td>&quot;ab3c25cf&quot;</td><td>null</td><td>0.00</td><td>null</td><td>0.00</td><td>0.00</td><td>9,057.00</td><td>0.00</td><td>0.00</td><td>null</td><td>2.00</td><td>2.00</td><td>0.00</td><td>0.00</td><td>86,800.00</td></tr><tr><td>57,679</td><td>1</td><td>2019-10-04</td><td>2021-10-04</td><td>2020-10-12</td><td>&quot;01f63ac8&quot;</td><td>&quot;7241344e&quot;</td><td>&quot;4257cbed&quot;</td><td>&quot;50babcd4&quot;</td><td>&quot;1.0&quot;</td><td>null</td><td>&quot;10.0&quot;</td><td>&quot;2020.0&quot;</td><td>&quot;24.0&quot;</td><td>&quot;10.0&quot;</td><td>&quot;2020.0&quot;</td><td>&quot;a0b598e4&quot;</td><td>&quot;dbcbe8f8&quot;</td><td>&quot;12.0&quot;</td><td>&quot;60c73645&quot;</td><td>&quot;ab3c25cf&quot;</td><td>&quot;a55475b1&quot;</td><td>60,000.00</td><td>0.00</td><td>35,481.71</td><td>0.00</td><td>null</td><td>17,310.00</td><td>null</td><td>35,481.71</td><td>3,529.16</td><td>41.60</td><td>43.00</td><td>0.00</td><td>60,000.00</td><td>null</td></tr><tr><td>57,689</td><td>0</td><td>2019-12-31</td><td>2021-12-31</td><td>2020-10-04</td><td>&quot;ea6782cc&quot;</td><td>&quot;7241344e&quot;</td><td>&quot;1c9c5356&quot;</td><td>&quot;b619fa46&quot;</td><td>&quot;2.0&quot;</td><td>null</td><td>&quot;2.0&quot;</td><td>&quot;2020.0&quot;</td><td>null</td><td>&quot;2.0&quot;</td><td>&quot;2020.0&quot;</td><td>&quot;a55475b1&quot;</td><td>&quot;a55475b1&quot;</td><td>null</td><td>&quot;60c73645&quot;</td><td>&quot;ab3c25cf&quot;</td><td>&quot;a55475b1&quot;</td><td>null</td><td>0.00</td><td>null</td><td>0.00</td><td>null</td><td>0.00</td><td>null</td><td>82,776.80</td><td>null</td><td>0.00</td><td>0.00</td><td>0.00</td><td>144,958.80</td><td>null</td></tr></tbody></table></div>"
      ],
      "text/plain": [
       "shape: (5, 36)\n",
       "┌─────────┬────────────┬───────────┬───────────┬───┬───────────┬───────────┬───────────┬───────────┐\n",
       "│ case_id ┆ num_group1 ┆ contractd ┆ contractm ┆ … ┆ overdueam ┆ pmtdaysov ┆ totalamou ┆ totalamou │\n",
       "│ ---     ┆ ---        ┆ ate_551D  ┆ aturityda ┆   ┆ ountmax_9 ┆ erdue_113 ┆ nt_503A   ┆ nt_881A   │\n",
       "│ u32     ┆ u16        ┆ ---       ┆ te_151D   ┆   ┆ 50A       ┆ 5P        ┆ ---       ┆ ---       │\n",
       "│         ┆            ┆ date      ┆ ---       ┆   ┆ ---       ┆ ---       ┆ f32       ┆ f32       │\n",
       "│         ┆            ┆           ┆ date      ┆   ┆ f32       ┆ f32       ┆           ┆           │\n",
       "╞═════════╪════════════╪═══════════╪═══════════╪═══╪═══════════╪═══════════╪═══════════╪═══════════╡\n",
       "│ 57,660  ┆ 0          ┆ 2019-12-0 ┆ 2021-12-0 ┆ … ┆ 0.00      ┆ 0.00      ┆ 133,279.0 ┆ 16,800.00 │\n",
       "│         ┆            ┆ 8         ┆ 8         ┆   ┆           ┆           ┆ 0         ┆           │\n",
       "│ 57,660  ┆ 1          ┆ 2013-03-1 ┆ 2021-03-1 ┆ … ┆ 16.20     ┆ 0.00      ┆ null      ┆ null      │\n",
       "│         ┆            ┆ 4         ┆ 4         ┆   ┆           ┆           ┆           ┆           │\n",
       "│ 57,679  ┆ 0          ┆ 2019-06-2 ┆ 2021-06-2 ┆ … ┆ 2.00      ┆ 0.00      ┆ 0.00      ┆ 86,800.00 │\n",
       "│         ┆            ┆ 6         ┆ 6         ┆   ┆           ┆           ┆           ┆           │\n",
       "│ 57,679  ┆ 1          ┆ 2019-10-0 ┆ 2021-10-0 ┆ … ┆ 43.00     ┆ 0.00      ┆ 60,000.00 ┆ null      │\n",
       "│         ┆            ┆ 4         ┆ 4         ┆   ┆           ┆           ┆           ┆           │\n",
       "│ 57,689  ┆ 0          ┆ 2019-12-3 ┆ 2021-12-3 ┆ … ┆ 0.00      ┆ 0.00      ┆ 144,958.8 ┆ null      │\n",
       "│         ┆            ┆ 1         ┆ 1         ┆   ┆           ┆           ┆ 0         ┆           │\n",
       "└─────────┴────────────┴───────────┴───────────┴───┴───────────┴───────────┴───────────┴───────────┘"
      ]
     },
     "execution_count": 26,
     "metadata": {},
     "output_type": "execute_result"
    }
   ],
   "source": [
    "total_credit_external_shallow = read_and_cast(\"bureau_b_1\").pipe(select_impuatable)\n",
    "total_credit_external_shallow.fetch().head()"
   ]
  },
  {
   "cell_type": "code",
   "execution_count": 27,
   "metadata": {},
   "outputs": [
    {
     "data": {
      "text/html": [
       "<div><style>\n",
       ".dataframe > thead > tr,\n",
       ".dataframe > tbody > tr {\n",
       "  text-align: right;\n",
       "  white-space: pre-wrap;\n",
       "}\n",
       "</style>\n",
       "<small>shape: (5, 6)</small><table border=\"1\" class=\"dataframe\"><thead><tr><th>case_id</th><th>num_group1</th><th>num_group2</th><th>pmts_date_1107D</th><th>pmts_dpdvalue_108P</th><th>pmts_pmtsoverdue_635A</th></tr><tr><td>u32</td><td>u16</td><td>u16</td><td>date</td><td>f32</td><td>f32</td></tr></thead><tbody><tr><td>57,660</td><td>1</td><td>16</td><td>2019-02-15</td><td>0.00</td><td>0.00</td></tr><tr><td>57,660</td><td>1</td><td>30</td><td>2020-04-15</td><td>0.00</td><td>0.00</td></tr><tr><td>57,660</td><td>1</td><td>34</td><td>2020-08-15</td><td>0.00</td><td>0.00</td></tr><tr><td>57,660</td><td>1</td><td>26</td><td>2019-12-15</td><td>0.00</td><td>0.00</td></tr><tr><td>57,660</td><td>0</td><td>9</td><td>2020-08-15</td><td>0.00</td><td>0.00</td></tr></tbody></table></div>"
      ],
      "text/plain": [
       "shape: (5, 6)\n",
       "┌─────────┬────────────┬────────────┬─────────────────┬────────────────────┬───────────────────────┐\n",
       "│ case_id ┆ num_group1 ┆ num_group2 ┆ pmts_date_1107D ┆ pmts_dpdvalue_108P ┆ pmts_pmtsoverdue_635A │\n",
       "│ ---     ┆ ---        ┆ ---        ┆ ---             ┆ ---                ┆ ---                   │\n",
       "│ u32     ┆ u16        ┆ u16        ┆ date            ┆ f32                ┆ f32                   │\n",
       "╞═════════╪════════════╪════════════╪═════════════════╪════════════════════╪═══════════════════════╡\n",
       "│ 57,660  ┆ 1          ┆ 16         ┆ 2019-02-15      ┆ 0.00               ┆ 0.00                  │\n",
       "│ 57,660  ┆ 1          ┆ 30         ┆ 2020-04-15      ┆ 0.00               ┆ 0.00                  │\n",
       "│ 57,660  ┆ 1          ┆ 34         ┆ 2020-08-15      ┆ 0.00               ┆ 0.00                  │\n",
       "│ 57,660  ┆ 1          ┆ 26         ┆ 2019-12-15      ┆ 0.00               ┆ 0.00                  │\n",
       "│ 57,660  ┆ 0          ┆ 9          ┆ 2020-08-15      ┆ 0.00               ┆ 0.00                  │\n",
       "└─────────┴────────────┴────────────┴─────────────────┴────────────────────┴───────────────────────┘"
      ]
     },
     "execution_count": 27,
     "metadata": {},
     "output_type": "execute_result"
    }
   ],
   "source": [
    "total_credit_external_depth = read_and_cast(\"bureau_b_2\").pipe(select_impuatable)\n",
    "total_credit_external_depth.fetch().head()"
   ]
  },
  {
   "cell_type": "code",
   "execution_count": 28,
   "metadata": {},
   "outputs": [
    {
     "data": {
      "text/html": [
       "<div><style>\n",
       ".dataframe > thead > tr,\n",
       ".dataframe > tbody > tr {\n",
       "  text-align: right;\n",
       "  white-space: pre-wrap;\n",
       "}\n",
       "</style>\n",
       "<small>shape: (5, 5)</small><table border=\"1\" class=\"dataframe\"><thead><tr><th>case_id</th><th>num_group1</th><th>recorddate_4527225D</th><th>name_4527232M</th><th>amount_4527230A</th></tr><tr><td>u32</td><td>u16</td><td>date</td><td>cat</td><td>f32</td></tr></thead><tbody><tr><td>57,679</td><td>4</td><td>2020-10-20</td><td>&quot;ba006408&quot;</td><td>1,120.00</td></tr><tr><td>57,679</td><td>3</td><td>2020-10-20</td><td>&quot;ba006408&quot;</td><td>3,640.00</td></tr><tr><td>57,679</td><td>1</td><td>2020-10-20</td><td>&quot;ba006408&quot;</td><td>3,122.00</td></tr><tr><td>57,679</td><td>0</td><td>2020-10-20</td><td>&quot;ba006408&quot;</td><td>2,160.00</td></tr><tr><td>57,679</td><td>2</td><td>2020-10-20</td><td>&quot;ba006408&quot;</td><td>1,494.60</td></tr></tbody></table></div>"
      ],
      "text/plain": [
       "shape: (5, 5)\n",
       "┌─────────┬────────────┬─────────────────────┬───────────────┬─────────────────┐\n",
       "│ case_id ┆ num_group1 ┆ recorddate_4527225D ┆ name_4527232M ┆ amount_4527230A │\n",
       "│ ---     ┆ ---        ┆ ---                 ┆ ---           ┆ ---             │\n",
       "│ u32     ┆ u16        ┆ date                ┆ cat           ┆ f32             │\n",
       "╞═════════╪════════════╪═════════════════════╪═══════════════╪═════════════════╡\n",
       "│ 57,679  ┆ 4          ┆ 2020-10-20          ┆ ba006408      ┆ 1,120.00        │\n",
       "│ 57,679  ┆ 3          ┆ 2020-10-20          ┆ ba006408      ┆ 3,640.00        │\n",
       "│ 57,679  ┆ 1          ┆ 2020-10-20          ┆ ba006408      ┆ 3,122.00        │\n",
       "│ 57,679  ┆ 0          ┆ 2020-10-20          ┆ ba006408      ┆ 2,160.00        │\n",
       "│ 57,679  ┆ 2          ┆ 2020-10-20          ┆ ba006408      ┆ 1,494.60        │\n",
       "└─────────┴────────────┴─────────────────────┴───────────────┴─────────────────┘"
      ]
     },
     "execution_count": 28,
     "metadata": {},
     "output_type": "execute_result"
    }
   ],
   "source": [
    "total_registry_a = read_and_cast(\"registry_a\").pipe(select_impuatable)\n",
    "total_registry_a.fetch().head()"
   ]
  },
  {
   "cell_type": "code",
   "execution_count": 29,
   "metadata": {},
   "outputs": [
    {
     "data": {
      "text/html": [
       "<div><style>\n",
       ".dataframe > thead > tr,\n",
       ".dataframe > tbody > tr {\n",
       "  text-align: right;\n",
       "  white-space: pre-wrap;\n",
       "}\n",
       "</style>\n",
       "<small>shape: (5, 5)</small><table border=\"1\" class=\"dataframe\"><thead><tr><th>case_id</th><th>num_group1</th><th>deductiondate_4917603D</th><th>name_4917606M</th><th>amount_4917619A</th></tr><tr><td>u32</td><td>u16</td><td>date</td><td>cat</td><td>f32</td></tr></thead><tbody><tr><td>57,543</td><td>1</td><td>2020-09-17</td><td>&quot;9f9384a2&quot;</td><td>23,976.00</td></tr><tr><td>57,543</td><td>2</td><td>2020-09-17</td><td>&quot;9f9384a2&quot;</td><td>23,310.20</td></tr><tr><td>57,543</td><td>4</td><td>2020-10-09</td><td>&quot;d2142f5c&quot;</td><td>25,174.80</td></tr><tr><td>57,543</td><td>0</td><td>2020-07-03</td><td>&quot;d2142f5c&quot;</td><td>23,976.00</td></tr><tr><td>57,543</td><td>3</td><td>2020-10-02</td><td>&quot;d2142f5c&quot;</td><td>31,060.20</td></tr></tbody></table></div>"
      ],
      "text/plain": [
       "shape: (5, 5)\n",
       "┌─────────┬────────────┬────────────────────────┬───────────────┬─────────────────┐\n",
       "│ case_id ┆ num_group1 ┆ deductiondate_4917603D ┆ name_4917606M ┆ amount_4917619A │\n",
       "│ ---     ┆ ---        ┆ ---                    ┆ ---           ┆ ---             │\n",
       "│ u32     ┆ u16        ┆ date                   ┆ cat           ┆ f32             │\n",
       "╞═════════╪════════════╪════════════════════════╪═══════════════╪═════════════════╡\n",
       "│ 57,543  ┆ 1          ┆ 2020-09-17             ┆ 9f9384a2      ┆ 23,976.00       │\n",
       "│ 57,543  ┆ 2          ┆ 2020-09-17             ┆ 9f9384a2      ┆ 23,310.20       │\n",
       "│ 57,543  ┆ 4          ┆ 2020-10-09             ┆ d2142f5c      ┆ 25,174.80       │\n",
       "│ 57,543  ┆ 0          ┆ 2020-07-03             ┆ d2142f5c      ┆ 23,976.00       │\n",
       "│ 57,543  ┆ 3          ┆ 2020-10-02             ┆ d2142f5c      ┆ 31,060.20       │\n",
       "└─────────┴────────────┴────────────────────────┴───────────────┴─────────────────┘"
      ]
     },
     "execution_count": 29,
     "metadata": {},
     "output_type": "execute_result"
    }
   ],
   "source": [
    "total_registry_b = read_and_cast(\"registry_b\").pipe(select_impuatable)\n",
    "total_registry_b.fetch().head()"
   ]
  },
  {
   "cell_type": "code",
   "execution_count": 30,
   "metadata": {},
   "outputs": [
    {
     "data": {
      "text/html": [
       "<div><style>\n",
       ".dataframe > thead > tr,\n",
       ".dataframe > tbody > tr {\n",
       "  text-align: right;\n",
       "  white-space: pre-wrap;\n",
       "}\n",
       "</style>\n",
       "<small>shape: (5, 5)</small><table border=\"1\" class=\"dataframe\"><thead><tr><th>case_id</th><th>num_group1</th><th>processingdate_168D</th><th>employername_160M</th><th>pmtamount_36A</th></tr><tr><td>u32</td><td>u16</td><td>date</td><td>cat</td><td>f32</td></tr></thead><tbody><tr><td>357</td><td>5</td><td>2018-08-08</td><td>&quot;c91b12ff&quot;</td><td>1,100.00</td></tr><tr><td>357</td><td>1</td><td>2018-11-28</td><td>&quot;c91b12ff&quot;</td><td>1,200.00</td></tr><tr><td>357</td><td>4</td><td>2018-09-10</td><td>&quot;c91b12ff&quot;</td><td>1,200.00</td></tr><tr><td>357</td><td>0</td><td>2019-01-04</td><td>&quot;c91b12ff&quot;</td><td>1,200.00</td></tr><tr><td>357</td><td>3</td><td>2018-10-08</td><td>&quot;c91b12ff&quot;</td><td>628.60</td></tr></tbody></table></div>"
      ],
      "text/plain": [
       "shape: (5, 5)\n",
       "┌─────────┬────────────┬─────────────────────┬───────────────────┬───────────────┐\n",
       "│ case_id ┆ num_group1 ┆ processingdate_168D ┆ employername_160M ┆ pmtamount_36A │\n",
       "│ ---     ┆ ---        ┆ ---                 ┆ ---               ┆ ---           │\n",
       "│ u32     ┆ u16        ┆ date                ┆ cat               ┆ f32           │\n",
       "╞═════════╪════════════╪═════════════════════╪═══════════════════╪═══════════════╡\n",
       "│ 357     ┆ 5          ┆ 2018-08-08          ┆ c91b12ff          ┆ 1,100.00      │\n",
       "│ 357     ┆ 1          ┆ 2018-11-28          ┆ c91b12ff          ┆ 1,200.00      │\n",
       "│ 357     ┆ 4          ┆ 2018-09-10          ┆ c91b12ff          ┆ 1,200.00      │\n",
       "│ 357     ┆ 0          ┆ 2019-01-04          ┆ c91b12ff          ┆ 1,200.00      │\n",
       "│ 357     ┆ 3          ┆ 2018-10-08          ┆ c91b12ff          ┆ 628.60        │\n",
       "└─────────┴────────────┴─────────────────────┴───────────────────┴───────────────┘"
      ]
     },
     "execution_count": 30,
     "metadata": {},
     "output_type": "execute_result"
    }
   ],
   "source": [
    "total_registry_c = read_and_cast(\"registry_c\").pipe(select_impuatable)\n",
    "total_registry_c.fetch().head()"
   ]
  },
  {
   "cell_type": "code",
   "execution_count": 31,
   "metadata": {},
   "outputs": [
    {
     "name": "stdout",
     "output_type": "stream",
     "text": [
      "total_base\n",
      "total_past_shallow\n",
      "total_past_depth\n",
      "total_static_base\n",
      "total_person_shallow\n",
      "total_person_depth\n",
      "total_other_shallow\n",
      "total_deposit_shallow\n",
      "total_debitcard_shallow\n",
      "total_credit_internal_shallow\n",
      "total_credit_external_shallow\n",
      "total_credit_external_depth\n",
      "total_registry_a\n",
      "total_registry_b\n",
      "total_registry_c\n"
     ]
    }
   ],
   "source": [
    "try:\n",
    "    for _ in globals().keys():\n",
    "        if \"total_\" in _:\n",
    "            print(_)\n",
    "except RuntimeError:\n",
    "    for _ in globals().keys():\n",
    "        if \"total_\" in _:\n",
    "            print(_)"
   ]
  },
  {
   "cell_type": "code",
   "execution_count": 32,
   "metadata": {},
   "outputs": [
    {
     "ename": "",
     "evalue": "",
     "output_type": "error",
     "traceback": [
      "\u001b[1;31mThe Kernel crashed while executing code in the current cell or a previous cell. \n",
      "\u001b[1;31mPlease review the code in the cell(s) to identify a possible cause of the failure. \n",
      "\u001b[1;31mClick <a href='https://aka.ms/vscodeJupyterKernelCrash'>here</a> for more info. \n",
      "\u001b[1;31mView Jupyter <a href='command:jupyter.viewOutput'>log</a> for further details."
     ]
    }
   ],
   "source": [
    "total_df = (\n",
    "    total_base\n",
    "    .join(\n",
    "        total_past_shallow.drop(cs.contains(\"num_group\")),\n",
    "        left_on=\"case_id_base\",\n",
    "        right_on=\"case_id\",\n",
    "        how=\"left\"\n",
    "    )\n",
    "    .join(\n",
    "        total_past_depth.drop(cs.contains(\"num_group\")),\n",
    "        left_on=\"case_id_base\",\n",
    "        right_on=\"case_id\",\n",
    "        how=\"left\"\n",
    "    )\n",
    "    .join(\n",
    "        total_static_base.drop(cs.contains(\"num_group\")),\n",
    "        left_on=\"case_id_base\",\n",
    "        right_on=\"case_id\",\n",
    "        how=\"left\"\n",
    "    )\n",
    "    .join(\n",
    "        total_person_shallow.drop(cs.contains(\"num_group\")),\n",
    "        left_on=\"case_id_base\",\n",
    "        right_on=\"case_id\",\n",
    "        how=\"left\"\n",
    "    )\n",
    "    .join(\n",
    "        total_person_depth.drop(cs.contains(\"num_group\")),\n",
    "        left_on=\"case_id_base\",\n",
    "        right_on=\"case_id\",\n",
    "        how=\"left\"\n",
    "    )\n",
    "    .join(\n",
    "        total_other_shallow.drop(cs.contains(\"num_group\")),\n",
    "        left_on=\"case_id_base\",\n",
    "        right_on=\"case_id\",\n",
    "        how=\"left\"\n",
    "    )\n",
    "    .join(\n",
    "        total_deposit_shallow.drop(cs.contains(\"num_group\")),\n",
    "        left_on=\"case_id_base\",\n",
    "        right_on=\"case_id\",\n",
    "        how=\"left\"\n",
    "    )\n",
    "    .join(\n",
    "        total_debitcard_shallow.drop(cs.contains(\"num_group\")),\n",
    "        left_on=\"case_id_base\",\n",
    "        right_on=\"case_id\",\n",
    "        how=\"left\"\n",
    "    )\n",
    "    .join(\n",
    "        total_credit_internal_shallow.drop(cs.contains(\"num_group\")),\n",
    "        left_on=\"case_id_base\",\n",
    "        right_on=\"case_id\",\n",
    "        how=\"left\"\n",
    "    )\n",
    "    .join(\n",
    "        total_credit_external_shallow.drop(cs.contains(\"num_group\")),\n",
    "        left_on=\"case_id_base\",\n",
    "        right_on=\"case_id\",\n",
    "        how=\"left\"\n",
    "    )\n",
    "    .join(\n",
    "        total_credit_external_depth.drop(cs.contains(\"num_group\")),\n",
    "        left_on=\"case_id_base\",\n",
    "        right_on=\"case_id\",\n",
    "        how=\"left\"\n",
    "    )\n",
    "    .join(\n",
    "        total_registry_a.drop(cs.contains(\"num_group\")),\n",
    "        left_on=\"case_id_base\",\n",
    "        right_on=\"case_id\",\n",
    "        how=\"left\"\n",
    "    )\n",
    "    .join(\n",
    "        total_registry_b.drop(cs.contains(\"num_group\")),\n",
    "        left_on=\"case_id_base\",\n",
    "        right_on=\"case_id\",\n",
    "        how=\"left\"\n",
    "    )\n",
    "    .join(\n",
    "        total_registry_c.drop(cs.contains(\"num_group\")),\n",
    "        left_on=\"case_id_base\",\n",
    "        right_on=\"case_id\",\n",
    "        how=\"left\"\n",
    "    )\n",
    "    .with_columns(\n",
    "        (cs.date() - pl.col(\"Date\"))\n",
    "    )\n",
    ")\n",
    "total_df.collect(streaming=True)"
   ]
  },
  {
   "cell_type": "code",
   "execution_count": null,
   "metadata": {},
   "outputs": [],
   "source": []
  }
 ],
 "metadata": {
  "kernelspec": {
   "display_name": "base",
   "language": "python",
   "name": "python3"
  },
  "language_info": {
   "codemirror_mode": {
    "name": "ipython",
    "version": 3
   },
   "file_extension": ".py",
   "mimetype": "text/x-python",
   "name": "python",
   "nbconvert_exporter": "python",
   "pygments_lexer": "ipython3",
   "version": "3.11.7"
  }
 },
 "nbformat": 4,
 "nbformat_minor": 2
}
