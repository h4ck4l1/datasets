{
 "cells": [
  {
   "cell_type": "code",
   "execution_count": 1,
   "metadata": {},
   "outputs": [
    {
     "data": {
      "text/plain": [
       "'بِسْمِ اللهِ الرَّحْمٰنِ الرَّحِيْمِ'"
      ]
     },
     "execution_count": 1,
     "metadata": {},
     "output_type": "execute_result"
    }
   ],
   "source": [
    "'''بِسْمِ اللهِ الرَّحْمٰنِ الرَّحِيْمِ'''"
   ]
  },
  {
   "cell_type": "code",
   "execution_count": 2,
   "metadata": {},
   "outputs": [
    {
     "data": {
      "text/plain": [
       "'سُبْحَـٰنَكَ لَا عِلْمَ لَنَآ إِلَّا مَا عَلَّمْتَنَآ ۖ إِنَّكَ أَنتَ الْعَلِيمُ الْحَكِيمُ'"
      ]
     },
     "execution_count": 2,
     "metadata": {},
     "output_type": "execute_result"
    }
   ],
   "source": [
    "'''سُبْحَـٰنَكَ لَا عِلْمَ لَنَآ إِلَّا مَا عَلَّمْتَنَآ ۖ إِنَّكَ أَنتَ الْعَلِيمُ الْحَكِيمُ'''"
   ]
  },
  {
   "cell_type": "code",
   "execution_count": 3,
   "metadata": {},
   "outputs": [
    {
     "data": {
      "text/html": [
       "\n",
       "<style>\n",
       "    * {\n",
       "        font-family: Monaco;\n",
       "    }\n",
       "</style>\n"
      ],
      "text/plain": [
       "<IPython.core.display.HTML object>"
      ]
     },
     "execution_count": 3,
     "metadata": {},
     "output_type": "execute_result"
    }
   ],
   "source": [
    "from IPython.core.display import HTML\n",
    "HTML(r\"\"\"\n",
    "<style>\n",
    "    * {\n",
    "        font-family: Monaco;\n",
    "    }\n",
    "</style>\n",
    "\"\"\")"
   ]
  },
  {
   "cell_type": "code",
   "execution_count": 4,
   "metadata": {},
   "outputs": [
    {
     "data": {
      "text/plain": [
       "12"
      ]
     },
     "execution_count": 4,
     "metadata": {},
     "output_type": "execute_result"
    }
   ],
   "source": [
    "import os,sys,warnings,re,math,gc,time\n",
    "warnings.filterwarnings(\"ignore\")\n",
    "os.cpu_count()"
   ]
  },
  {
   "cell_type": "code",
   "execution_count": 5,
   "metadata": {},
   "outputs": [
    {
     "name": "stdout",
     "output_type": "stream",
     "text": [
      "Exception reporting mode: Minimal\n"
     ]
    }
   ],
   "source": [
    "# os.environ[\"POLARS_MAX_THREADS\"] = \"20\"\n",
    "import numpy as np\n",
    "import pandas as pd\n",
    "import polars as pl\n",
    "import polars.selectors as cs\n",
    "from glob import glob\n",
    "from pathlib import Path\n",
    "from tqdm import tqdm\n",
    "from concurrent.futures import ThreadPoolExecutor\n",
    "import plotly.express as px\n",
    "import plotly.graph_objects as go\n",
    "import plotly.io as pio\n",
    "from plotly.subplots import make_subplots\n",
    "pio.templates[\"mod\"] = go.layout.Template(layout=dict(font=dict(family=\"Monaco\",size=15)))\n",
    "pio.templates.default = \"mod+plotly_dark\"\n",
    "from sklearn.metrics import auc,roc_auc_score\n",
    "from sklearn.model_selection import train_test_split\n",
    "import lightgbm as lgb\n",
    "%xmode Minimal"
   ]
  },
  {
   "cell_type": "code",
   "execution_count": 6,
   "metadata": {},
   "outputs": [
    {
     "data": {
      "text/plain": [
       "polars.config.Config"
      ]
     },
     "execution_count": 6,
     "metadata": {},
     "output_type": "execute_result"
    }
   ],
   "source": [
    "pl.Config.set_fmt_str_lengths(100)\n",
    "# pl.Config.set_streaming_chunk_size(10000)\n",
    "pl.Config.set_thousands_separator(\",\")\n",
    "pl.Config.set_float_precision(2)\n",
    "pl.Config.set_fmt_float(\"full\")\n",
    "pl.Config.set_tbl_rows(40)"
   ]
  },
  {
   "cell_type": "code",
   "execution_count": 7,
   "metadata": {},
   "outputs": [],
   "source": [
    "path_to_train = Path(\"Downloads/credit_risk/train/\")\n",
    "path_to_test = Path(\"Downloads/credit_risk/test/\")\n",
    "path_to_features = Path(\"Downloads/feature_definitions.csv\")"
   ]
  },
  {
   "cell_type": "code",
   "execution_count": 8,
   "metadata": {},
   "outputs": [
    {
     "data": {
      "text/html": [
       "<div><style>\n",
       ".dataframe > thead > tr,\n",
       ".dataframe > tbody > tr {\n",
       "  text-align: right;\n",
       "  white-space: pre-wrap;\n",
       "}\n",
       "</style>\n",
       "<small>shape: (5, 2)</small><table border=\"1\" class=\"dataframe\"><thead><tr><th>Variable</th><th>Description</th></tr><tr><td>str</td><td>str</td></tr></thead><tbody><tr><td>&quot;actualdpd_943P&quot;</td><td>&quot;Days Past Due (DPD) of previous contract (actual).&quot;</td></tr><tr><td>&quot;actualdpdtolerance_344P&quot;</td><td>&quot;DPD of client with tolerance.&quot;</td></tr><tr><td>&quot;addres_district_368M&quot;</td><td>&quot;District of the person&#x27;s address.&quot;</td></tr><tr><td>&quot;addres_role_871L&quot;</td><td>&quot;Role of person&#x27;s address.&quot;</td></tr><tr><td>&quot;addres_zip_823M&quot;</td><td>&quot;Zip code of the address.&quot;</td></tr></tbody></table></div>"
      ],
      "text/plain": [
       "shape: (5, 2)\n",
       "┌─────────────────────────┬────────────────────────────────────────────────────┐\n",
       "│ Variable                ┆ Description                                        │\n",
       "│ ---                     ┆ ---                                                │\n",
       "│ str                     ┆ str                                                │\n",
       "╞═════════════════════════╪════════════════════════════════════════════════════╡\n",
       "│ actualdpd_943P          ┆ Days Past Due (DPD) of previous contract (actual). │\n",
       "│ actualdpdtolerance_344P ┆ DPD of client with tolerance.                      │\n",
       "│ addres_district_368M    ┆ District of the person's address.                  │\n",
       "│ addres_role_871L        ┆ Role of person's address.                          │\n",
       "│ addres_zip_823M         ┆ Zip code of the address.                           │\n",
       "└─────────────────────────┴────────────────────────────────────────────────────┘"
      ]
     },
     "execution_count": 8,
     "metadata": {},
     "output_type": "execute_result"
    }
   ],
   "source": [
    "feat_df = pl.read_csv(path_to_features)\n",
    "feat_df.head()"
   ]
  },
  {
   "cell_type": "code",
   "execution_count": 9,
   "metadata": {},
   "outputs": [
    {
     "data": {
      "text/html": [
       "<div><style>\n",
       ".dataframe > thead > tr,\n",
       ".dataframe > tbody > tr {\n",
       "  text-align: right;\n",
       "  white-space: pre-wrap;\n",
       "}\n",
       "</style>\n",
       "<small>shape: (5, 3)</small><table border=\"1\" class=\"dataframe\"><thead><tr><th>index</th><th>path</th><th>filename</th></tr><tr><td>i64</td><td>str</td><td>str</td></tr></thead><tbody><tr><td>31</td><td>&quot;Downloads/credit_risk/train/train_applprev_1_0.parquet&quot;</td><td>&quot;train_applprev_1_0.parquet&quot;</td></tr><tr><td>13</td><td>&quot;Downloads/credit_risk/train/train_applprev_1_1.parquet&quot;</td><td>&quot;train_applprev_1_1.parquet&quot;</td></tr><tr><td>0</td><td>&quot;Downloads/credit_risk/train/train_applprev_2.parquet&quot;</td><td>&quot;train_applprev_2.parquet&quot;</td></tr><tr><td>7</td><td>&quot;Downloads/credit_risk/train/train_base.parquet&quot;</td><td>&quot;train_base.parquet&quot;</td></tr><tr><td>11</td><td>&quot;Downloads/credit_risk/train/train_credit_bureau_a_1_0.parquet&quot;</td><td>&quot;train_credit_bureau_a_1_0.parquet&quot;</td></tr></tbody></table></div>"
      ],
      "text/plain": [
       "shape: (5, 3)\n",
       "┌───────┬──────────────────────────────────────────────────────┬───────────────────────────────────┐\n",
       "│ index ┆ path                                                 ┆ filename                          │\n",
       "│ ---   ┆ ---                                                  ┆ ---                               │\n",
       "│ i64   ┆ str                                                  ┆ str                               │\n",
       "╞═══════╪══════════════════════════════════════════════════════╪═══════════════════════════════════╡\n",
       "│ 31    ┆ Downloads/credit_risk/train/train_applprev_1_0.parqu ┆ train_applprev_1_0.parquet        │\n",
       "│       ┆ et                                                   ┆                                   │\n",
       "│ 13    ┆ Downloads/credit_risk/train/train_applprev_1_1.parqu ┆ train_applprev_1_1.parquet        │\n",
       "│       ┆ et                                                   ┆                                   │\n",
       "│ 0     ┆ Downloads/credit_risk/train/train_applprev_2.parquet ┆ train_applprev_2.parquet          │\n",
       "│ 7     ┆ Downloads/credit_risk/train/train_base.parquet       ┆ train_base.parquet                │\n",
       "│ 11    ┆ Downloads/credit_risk/train/train_credit_bureau_a_1_ ┆ train_credit_bureau_a_1_0.parquet │\n",
       "│       ┆ 0.parquet                                            ┆                                   │\n",
       "└───────┴──────────────────────────────────────────────────────┴───────────────────────────────────┘"
      ]
     },
     "metadata": {},
     "output_type": "display_data"
    },
    {
     "data": {
      "text/html": [
       "<div><style>\n",
       ".dataframe > thead > tr,\n",
       ".dataframe > tbody > tr {\n",
       "  text-align: right;\n",
       "  white-space: pre-wrap;\n",
       "}\n",
       "</style>\n",
       "<small>shape: (5, 3)</small><table border=\"1\" class=\"dataframe\"><thead><tr><th>index</th><th>path</th><th>filename</th></tr><tr><td>i64</td><td>str</td><td>str</td></tr></thead><tbody><tr><td>31</td><td>&quot;Downloads/credit_risk/test/test_applprev_1_0.parquet&quot;</td><td>&quot;test_applprev_1_0.parquet&quot;</td></tr><tr><td>35</td><td>&quot;Downloads/credit_risk/test/test_applprev_1_1.parquet&quot;</td><td>&quot;test_applprev_1_1.parquet&quot;</td></tr><tr><td>9</td><td>&quot;Downloads/credit_risk/test/test_applprev_1_2.parquet&quot;</td><td>&quot;test_applprev_1_2.parquet&quot;</td></tr><tr><td>1</td><td>&quot;Downloads/credit_risk/test/test_applprev_2.parquet&quot;</td><td>&quot;test_applprev_2.parquet&quot;</td></tr><tr><td>33</td><td>&quot;Downloads/credit_risk/test/test_base.parquet&quot;</td><td>&quot;test_base.parquet&quot;</td></tr></tbody></table></div>"
      ],
      "text/plain": [
       "shape: (5, 3)\n",
       "┌───────┬──────────────────────────────────────────────────────┬───────────────────────────┐\n",
       "│ index ┆ path                                                 ┆ filename                  │\n",
       "│ ---   ┆ ---                                                  ┆ ---                       │\n",
       "│ i64   ┆ str                                                  ┆ str                       │\n",
       "╞═══════╪══════════════════════════════════════════════════════╪═══════════════════════════╡\n",
       "│ 31    ┆ Downloads/credit_risk/test/test_applprev_1_0.parquet ┆ test_applprev_1_0.parquet │\n",
       "│ 35    ┆ Downloads/credit_risk/test/test_applprev_1_1.parquet ┆ test_applprev_1_1.parquet │\n",
       "│ 9     ┆ Downloads/credit_risk/test/test_applprev_1_2.parquet ┆ test_applprev_1_2.parquet │\n",
       "│ 1     ┆ Downloads/credit_risk/test/test_applprev_2.parquet   ┆ test_applprev_2.parquet   │\n",
       "│ 33    ┆ Downloads/credit_risk/test/test_base.parquet         ┆ test_base.parquet         │\n",
       "└───────┴──────────────────────────────────────────────────────┴───────────────────────────┘"
      ]
     },
     "metadata": {},
     "output_type": "display_data"
    }
   ],
   "source": [
    "all_train_files = glob(\"Downloads/credit_risk/train/*.parquet\")\n",
    "all_test_files = glob(\"Downloads/credit_risk/test/*.parquet\")\n",
    "train_files_df = pl.DataFrame({\"index\":range(len(all_train_files)),\"path\":all_train_files})\n",
    "test_files_df = pl.DataFrame({\"index\":range(len(all_test_files)),\"path\":all_test_files})\n",
    "train_files_df = (\n",
    "    train_files_df\n",
    "    .with_columns(\n",
    "        (pl.col(\"path\").str.split(\"/\").list.get(-1)).alias(\"filename\")\n",
    "    )\n",
    "    .sort(by=\"filename\")\n",
    ")\n",
    "test_files_df = (\n",
    "    test_files_df\n",
    "    .with_columns(\n",
    "        (pl.col(\"path\").str.split(\"/\").list.get(-1)).alias(\"filename\")\n",
    "    )\n",
    "    .sort(by=\"filename\")\n",
    ")\n",
    "display(train_files_df.head())\n",
    "display(test_files_df.head())"
   ]
  },
  {
   "cell_type": "code",
   "execution_count": 10,
   "metadata": {},
   "outputs": [
    {
     "data": {
      "text/html": [
       "<div><style>\n",
       ".dataframe > thead > tr,\n",
       ".dataframe > tbody > tr {\n",
       "  text-align: right;\n",
       "  white-space: pre-wrap;\n",
       "}\n",
       "</style>\n",
       "<small>shape: (1, 3)</small><table border=\"1\" class=\"dataframe\"><thead><tr><th>index</th><th>path</th><th>filename</th></tr><tr><td>i64</td><td>str</td><td>str</td></tr></thead><tbody><tr><td>7</td><td>&quot;Downloads/credit_risk/train/train_base.parquet&quot;</td><td>&quot;train_base.parquet&quot;</td></tr></tbody></table></div>"
      ],
      "text/plain": [
       "shape: (1, 3)\n",
       "┌───────┬────────────────────────────────────────────────┬────────────────────┐\n",
       "│ index ┆ path                                           ┆ filename           │\n",
       "│ ---   ┆ ---                                            ┆ ---                │\n",
       "│ i64   ┆ str                                            ┆ str                │\n",
       "╞═══════╪════════════════════════════════════════════════╪════════════════════╡\n",
       "│ 7     ┆ Downloads/credit_risk/train/train_base.parquet ┆ train_base.parquet │\n",
       "└───────┴────────────────────────────────────────────────┴────────────────────┘"
      ]
     },
     "metadata": {},
     "output_type": "display_data"
    }
   ],
   "source": [
    "display(train_files_df.filter(pl.col(\"filename\").str.contains(\"base\")))\n",
    "_ind = train_files_df.filter(pl.col(\"filename\").str.contains(\"base\")).select(\"index\").item()"
   ]
  },
  {
   "cell_type": "code",
   "execution_count": 11,
   "metadata": {},
   "outputs": [
    {
     "data": {
      "text/html": [
       "<div><style>\n",
       ".dataframe > thead > tr,\n",
       ".dataframe > tbody > tr {\n",
       "  text-align: right;\n",
       "  white-space: pre-wrap;\n",
       "}\n",
       "</style>\n",
       "<small>shape: (5, 6)</small><table border=\"1\" class=\"dataframe\"><thead><tr><th>case_id_base</th><th>date</th><th>month</th><th>week</th><th>weekday</th><th>target</th></tr><tr><td>u32</td><td>date</td><td>i8</td><td>i8</td><td>i8</td><td>u8</td></tr></thead><tbody><tr><td>0</td><td>2019-01-03</td><td>1</td><td>1</td><td>4</td><td>0</td></tr><tr><td>1</td><td>2019-01-03</td><td>1</td><td>1</td><td>4</td><td>0</td></tr><tr><td>2</td><td>2019-01-04</td><td>1</td><td>1</td><td>5</td><td>0</td></tr><tr><td>3</td><td>2019-01-03</td><td>1</td><td>1</td><td>4</td><td>0</td></tr><tr><td>4</td><td>2019-01-04</td><td>1</td><td>1</td><td>5</td><td>1</td></tr></tbody></table></div>"
      ],
      "text/plain": [
       "shape: (5, 6)\n",
       "┌──────────────┬────────────┬───────┬──────┬─────────┬────────┐\n",
       "│ case_id_base ┆ date       ┆ month ┆ week ┆ weekday ┆ target │\n",
       "│ ---          ┆ ---        ┆ ---   ┆ ---  ┆ ---     ┆ ---    │\n",
       "│ u32          ┆ date       ┆ i8    ┆ i8   ┆ i8      ┆ u8     │\n",
       "╞══════════════╪════════════╪═══════╪══════╪═════════╪════════╡\n",
       "│ 0            ┆ 2019-01-03 ┆ 1     ┆ 1    ┆ 4       ┆ 0      │\n",
       "│ 1            ┆ 2019-01-03 ┆ 1     ┆ 1    ┆ 4       ┆ 0      │\n",
       "│ 2            ┆ 2019-01-04 ┆ 1     ┆ 1    ┆ 5       ┆ 0      │\n",
       "│ 3            ┆ 2019-01-03 ┆ 1     ┆ 1    ┆ 4       ┆ 0      │\n",
       "│ 4            ┆ 2019-01-04 ┆ 1     ┆ 1    ┆ 5       ┆ 1      │\n",
       "└──────────────┴────────────┴───────┴──────┴─────────┴────────┘"
      ]
     },
     "metadata": {},
     "output_type": "display_data"
    },
    {
     "name": "stdout",
     "output_type": "stream",
     "text": [
      "(1526659, 6)\n"
     ]
    }
   ],
   "source": [
    "train_base = (\n",
    "    pl.scan_parquet(all_train_files[_ind])\n",
    "    .select(\n",
    "        pl.col(\"case_id\").cast(pl.UInt32).alias(\"case_id_base\"),\n",
    "        cs.contains(\"date\").str.to_date().alias(\"date\"),\n",
    "        pl.col(\"target\").cast(pl.UInt8)\n",
    "    )\n",
    "    .with_columns(\n",
    "        pl.col(\"date\").dt.month().alias(\"month\"),\n",
    "        pl.col(\"date\").dt.week().alias(\"week\"),\n",
    "        pl.col(\"date\").dt.weekday().alias(\"weekday\")\n",
    "    )\n",
    "\n",
    "    .select(~cs.contains(\"target\"),cs.contains(\"target\"))\n",
    ")\n",
    "display(train_base.fetch().head())\n",
    "print(train_base.collect(streaming=True).shape)"
   ]
  },
  {
   "cell_type": "code",
   "execution_count": 12,
   "metadata": {},
   "outputs": [
    {
     "data": {
      "text/html": [
       "<div><style>\n",
       ".dataframe > thead > tr,\n",
       ".dataframe > tbody > tr {\n",
       "  text-align: right;\n",
       "  white-space: pre-wrap;\n",
       "}\n",
       "</style>\n",
       "<small>shape: (1, 3)</small><table border=\"1\" class=\"dataframe\"><thead><tr><th>index</th><th>path</th><th>filename</th></tr><tr><td>i64</td><td>str</td><td>str</td></tr></thead><tbody><tr><td>33</td><td>&quot;Downloads/credit_risk/test/test_base.parquet&quot;</td><td>&quot;test_base.parquet&quot;</td></tr></tbody></table></div>"
      ],
      "text/plain": [
       "shape: (1, 3)\n",
       "┌───────┬──────────────────────────────────────────────┬───────────────────┐\n",
       "│ index ┆ path                                         ┆ filename          │\n",
       "│ ---   ┆ ---                                          ┆ ---               │\n",
       "│ i64   ┆ str                                          ┆ str               │\n",
       "╞═══════╪══════════════════════════════════════════════╪═══════════════════╡\n",
       "│ 33    ┆ Downloads/credit_risk/test/test_base.parquet ┆ test_base.parquet │\n",
       "└───────┴──────────────────────────────────────────────┴───────────────────┘"
      ]
     },
     "metadata": {},
     "output_type": "display_data"
    }
   ],
   "source": [
    "display(test_files_df.filter(pl.col(\"filename\").str.contains(\"base\")))\n",
    "_ind = test_files_df.filter(pl.col(\"filename\").str.contains(\"base\")).select(\"index\").item()"
   ]
  },
  {
   "cell_type": "code",
   "execution_count": 13,
   "metadata": {},
   "outputs": [
    {
     "data": {
      "text/html": [
       "<div><style>\n",
       ".dataframe > thead > tr,\n",
       ".dataframe > tbody > tr {\n",
       "  text-align: right;\n",
       "  white-space: pre-wrap;\n",
       "}\n",
       "</style>\n",
       "<small>shape: (5, 6)</small><table border=\"1\" class=\"dataframe\"><thead><tr><th>case_id_base</th><th>date</th><th>month</th><th>week</th><th>weekday</th><th>target</th></tr><tr><td>u32</td><td>date</td><td>i8</td><td>i8</td><td>i8</td><td>u8</td></tr></thead><tbody><tr><td>57,543</td><td>2020-10-06</td><td>10</td><td>41</td><td>2</td><td>0</td></tr><tr><td>57,549</td><td>2020-10-06</td><td>10</td><td>41</td><td>2</td><td>0</td></tr><tr><td>57,551</td><td>2020-10-06</td><td>10</td><td>41</td><td>2</td><td>0</td></tr><tr><td>57,552</td><td>2020-10-07</td><td>10</td><td>41</td><td>3</td><td>0</td></tr><tr><td>57,569</td><td>2020-10-06</td><td>10</td><td>41</td><td>2</td><td>0</td></tr></tbody></table></div>"
      ],
      "text/plain": [
       "shape: (5, 6)\n",
       "┌──────────────┬────────────┬───────┬──────┬─────────┬────────┐\n",
       "│ case_id_base ┆ date       ┆ month ┆ week ┆ weekday ┆ target │\n",
       "│ ---          ┆ ---        ┆ ---   ┆ ---  ┆ ---     ┆ ---    │\n",
       "│ u32          ┆ date       ┆ i8    ┆ i8   ┆ i8      ┆ u8     │\n",
       "╞══════════════╪════════════╪═══════╪══════╪═════════╪════════╡\n",
       "│ 57,543       ┆ 2020-10-06 ┆ 10    ┆ 41   ┆ 2       ┆ 0      │\n",
       "│ 57,549       ┆ 2020-10-06 ┆ 10    ┆ 41   ┆ 2       ┆ 0      │\n",
       "│ 57,551       ┆ 2020-10-06 ┆ 10    ┆ 41   ┆ 2       ┆ 0      │\n",
       "│ 57,552       ┆ 2020-10-07 ┆ 10    ┆ 41   ┆ 3       ┆ 0      │\n",
       "│ 57,569       ┆ 2020-10-06 ┆ 10    ┆ 41   ┆ 2       ┆ 0      │\n",
       "└──────────────┴────────────┴───────┴──────┴─────────┴────────┘"
      ]
     },
     "metadata": {},
     "output_type": "display_data"
    },
    {
     "name": "stdout",
     "output_type": "stream",
     "text": [
      "(10, 6)\n"
     ]
    }
   ],
   "source": [
    "test_base = (\n",
    "    pl.scan_parquet(all_test_files[_ind])\n",
    "    .select(\n",
    "        pl.col(\"case_id\").cast(pl.UInt32).alias(\"case_id_base\"),\n",
    "        cs.contains(\"date\").str.to_date().alias(\"date\"),\n",
    "    )\n",
    "    .with_columns(\n",
    "        pl.col(\"date\").dt.month().alias(\"month\"),\n",
    "        pl.col(\"date\").dt.week().alias(\"week\"),\n",
    "        pl.col(\"date\").dt.weekday().alias(\"weekday\"),\n",
    "        pl.lit(0).cast(pl.UInt8).alias(\"target\")\n",
    "    )\n",
    ")\n",
    "display(test_base.fetch().head())\n",
    "print(test_base.collect().shape)"
   ]
  },
  {
   "cell_type": "code",
   "execution_count": 14,
   "metadata": {},
   "outputs": [
    {
     "data": {
      "text/html": [
       "<div><style>\n",
       ".dataframe > thead > tr,\n",
       ".dataframe > tbody > tr {\n",
       "  text-align: right;\n",
       "  white-space: pre-wrap;\n",
       "}\n",
       "</style>\n",
       "<small>shape: (5, 3)</small><table border=\"1\" class=\"dataframe\"><thead><tr><th>index</th><th>path</th><th>filename</th></tr><tr><td>i64</td><td>str</td><td>str</td></tr></thead><tbody><tr><td>31</td><td>&quot;Downloads/credit_risk/test/test_applprev_1_0.parquet&quot;</td><td>&quot;test_applprev_1_0.parquet&quot;</td></tr><tr><td>35</td><td>&quot;Downloads/credit_risk/test/test_applprev_1_1.parquet&quot;</td><td>&quot;test_applprev_1_1.parquet&quot;</td></tr><tr><td>9</td><td>&quot;Downloads/credit_risk/test/test_applprev_1_2.parquet&quot;</td><td>&quot;test_applprev_1_2.parquet&quot;</td></tr><tr><td>1</td><td>&quot;Downloads/credit_risk/test/test_applprev_2.parquet&quot;</td><td>&quot;test_applprev_2.parquet&quot;</td></tr><tr><td>33</td><td>&quot;Downloads/credit_risk/test/test_base.parquet&quot;</td><td>&quot;test_base.parquet&quot;</td></tr></tbody></table></div>"
      ],
      "text/plain": [
       "shape: (5, 3)\n",
       "┌───────┬──────────────────────────────────────────────────────┬───────────────────────────┐\n",
       "│ index ┆ path                                                 ┆ filename                  │\n",
       "│ ---   ┆ ---                                                  ┆ ---                       │\n",
       "│ i64   ┆ str                                                  ┆ str                       │\n",
       "╞═══════╪══════════════════════════════════════════════════════╪═══════════════════════════╡\n",
       "│ 31    ┆ Downloads/credit_risk/test/test_applprev_1_0.parquet ┆ test_applprev_1_0.parquet │\n",
       "│ 35    ┆ Downloads/credit_risk/test/test_applprev_1_1.parquet ┆ test_applprev_1_1.parquet │\n",
       "│ 9     ┆ Downloads/credit_risk/test/test_applprev_1_2.parquet ┆ test_applprev_1_2.parquet │\n",
       "│ 1     ┆ Downloads/credit_risk/test/test_applprev_2.parquet   ┆ test_applprev_2.parquet   │\n",
       "│ 33    ┆ Downloads/credit_risk/test/test_base.parquet         ┆ test_base.parquet         │\n",
       "└───────┴──────────────────────────────────────────────────────┴───────────────────────────┘"
      ]
     },
     "execution_count": 14,
     "metadata": {},
     "output_type": "execute_result"
    }
   ],
   "source": [
    "all_files_df = (\n",
    "    pl.concat(\n",
    "        [\n",
    "            train_files_df,\n",
    "            test_files_df\n",
    "        ]\n",
    "    )\n",
    "    .sort(by=\"filename\")\n",
    ")\n",
    "all_files_df.head()"
   ]
  },
  {
   "cell_type": "code",
   "execution_count": 15,
   "metadata": {},
   "outputs": [
    {
     "data": {
      "text/html": [
       "<div><style>\n",
       ".dataframe > thead > tr,\n",
       ".dataframe > tbody > tr {\n",
       "  text-align: right;\n",
       "  white-space: pre-wrap;\n",
       "}\n",
       "</style>\n",
       "<small>shape: (5, 6)</small><table border=\"1\" class=\"dataframe\"><thead><tr><th>case_id_base</th><th>date</th><th>month</th><th>week</th><th>weekday</th><th>target</th></tr><tr><td>u32</td><td>date</td><td>i8</td><td>i8</td><td>i8</td><td>u8</td></tr></thead><tbody><tr><td>0</td><td>2019-01-03</td><td>1</td><td>1</td><td>4</td><td>0</td></tr><tr><td>1</td><td>2019-01-03</td><td>1</td><td>1</td><td>4</td><td>0</td></tr><tr><td>2</td><td>2019-01-04</td><td>1</td><td>1</td><td>5</td><td>0</td></tr><tr><td>3</td><td>2019-01-03</td><td>1</td><td>1</td><td>4</td><td>0</td></tr><tr><td>4</td><td>2019-01-04</td><td>1</td><td>1</td><td>5</td><td>1</td></tr></tbody></table></div>"
      ],
      "text/plain": [
       "shape: (5, 6)\n",
       "┌──────────────┬────────────┬───────┬──────┬─────────┬────────┐\n",
       "│ case_id_base ┆ date       ┆ month ┆ week ┆ weekday ┆ target │\n",
       "│ ---          ┆ ---        ┆ ---   ┆ ---  ┆ ---     ┆ ---    │\n",
       "│ u32          ┆ date       ┆ i8    ┆ i8   ┆ i8      ┆ u8     │\n",
       "╞══════════════╪════════════╪═══════╪══════╪═════════╪════════╡\n",
       "│ 0            ┆ 2019-01-03 ┆ 1     ┆ 1    ┆ 4       ┆ 0      │\n",
       "│ 1            ┆ 2019-01-03 ┆ 1     ┆ 1    ┆ 4       ┆ 0      │\n",
       "│ 2            ┆ 2019-01-04 ┆ 1     ┆ 1    ┆ 5       ┆ 0      │\n",
       "│ 3            ┆ 2019-01-03 ┆ 1     ┆ 1    ┆ 4       ┆ 0      │\n",
       "│ 4            ┆ 2019-01-04 ┆ 1     ┆ 1    ┆ 5       ┆ 1      │\n",
       "└──────────────┴────────────┴───────┴──────┴─────────┴────────┘"
      ]
     },
     "execution_count": 15,
     "metadata": {},
     "output_type": "execute_result"
    }
   ],
   "source": [
    "total_base = (\n",
    "    pl.concat(\n",
    "        [\n",
    "            train_base,\n",
    "            test_base\n",
    "        ]\n",
    "    )\n",
    ")\n",
    "total_base.fetch().head()"
   ]
  },
  {
   "cell_type": "code",
   "execution_count": 16,
   "metadata": {},
   "outputs": [],
   "source": [
    "def read_and_cast(filter_string:str):\n",
    "    _files_list = all_files_df.filter(pl.col(\"filename\").str.contains(filter_string))[\"path\"].to_list()\n",
    "    return (\n",
    "        pl.concat(\n",
    "            [\n",
    "                pl.scan_parquet(_) for _ in _files_list\n",
    "            ],\n",
    "            how=\"vertical_relaxed\"\n",
    "        )\n",
    "        .select(\n",
    "            cs.by_name(\"case_id\").cast(pl.UInt32),\n",
    "            cs.contains(\"num_group\").cast(pl.UInt16),\n",
    "            cs.ends_with(\"D\").cast(pl.Date),\n",
    "            cs.ends_with(\"L\",\"T\",\"M\").cast(pl.String).cast(pl.Categorical),\n",
    "            cs.ends_with(\"P\",\"A\").cast(pl.Float32)\n",
    "        )\n",
    "        .sort(by=\"case_id\")\n",
    "    )\n",
    "\n",
    "\n",
    "\n",
    "def grouping(df:pl.LazyFrame):\n",
    "    return (\n",
    "        df\n",
    "        .group_by(\"case_id\")\n",
    "        .agg(\n",
    "            (cs.ends_with(\"P\",\"A\",\"D\") | cs.contains(\"num_group\")).max().suffix(\"_max\"),\n",
    "            (cs.ends_with(\"P\",\"A\",\"D\") | cs.contains(\"num_group\")).min().suffix(\"_min\"),\n",
    "            (cs.ends_with(\"P\",\"A\",\"D\") | cs.contains(\"num_group\")).mean().suffix(\"_mean\"),\n",
    "            (cs.ends_with(\"P\",\"A\",\"D\") | cs.contains(\"num_group\")).std().suffix(\"_std\"),\n",
    "            cs.ends_with(\"L\",\"T\",\"M\").mode().drop_nulls().first().suffix(\"_first_mode\"),\n",
    "            cs.ends_with(\"L\",\"T\",\"M\").mode().drop_nulls().last().suffix(\"_last_mode\"),\n",
    "            cs.all().first().suffix(\"_first\"),\n",
    "            cs.all().last().suffix(\"_last\")\n",
    "        )\n",
    "        .select(\n",
    "            cs.by_name(\"case_id\"),\n",
    "            cs.contains(\"num_group\"),\n",
    "            ~(cs.by_name(\"case_id\") | cs.contains(\"num_group\"))\n",
    "        )\n",
    "    )"
   ]
  },
  {
   "cell_type": "markdown",
   "metadata": {},
   "source": [
    "## Past Application"
   ]
  },
  {
   "cell_type": "code",
   "execution_count": 17,
   "metadata": {},
   "outputs": [
    {
     "data": {
      "text/html": [
       "<div><style>\n",
       ".dataframe > thead > tr,\n",
       ".dataframe > tbody > tr {\n",
       "  text-align: right;\n",
       "  white-space: pre-wrap;\n",
       "}\n",
       "</style>\n",
       "<small>shape: (5, 41)</small><table border=\"1\" class=\"dataframe\"><thead><tr><th>case_id</th><th>num_group1</th><th>approvaldate_319D</th><th>creationdate_885D</th><th>dateactivated_425D</th><th>dtlastpmt_581D</th><th>dtlastpmtallstes_3545839D</th><th>employedfrom_700D</th><th>firstnonzeroinstldate_307D</th><th>byoccupationinc_3656910L</th><th>cancelreason_3545846M</th><th>childnum_21L</th><th>credacc_status_367L</th><th>credacc_transactions_402L</th><th>credtype_587L</th><th>district_544M</th><th>education_1138M</th><th>familystate_726L</th><th>inittransactioncode_279L</th><th>isbidproduct_390L</th><th>isdebitcard_527L</th><th>pmtnum_8L</th><th>postype_4733339M</th><th>profession_152M</th><th>rejectreason_755M</th><th>rejectreasonclient_4145042M</th><th>status_219L</th><th>tenor_203L</th><th>actualdpd_943P</th><th>annuity_853A</th><th>credacc_actualbalance_314A</th><th>credacc_credlmt_575A</th><th>credacc_maxhisbal_375A</th><th>credacc_minhisbal_90A</th><th>credamount_590A</th><th>currdebt_94A</th><th>downpmt_134A</th><th>mainoccupationinc_437A</th><th>maxdpdtolerance_577P</th><th>outstandingdebt_522A</th><th>revolvingaccount_394A</th></tr><tr><td>u32</td><td>u16</td><td>date</td><td>date</td><td>date</td><td>date</td><td>date</td><td>date</td><td>date</td><td>cat</td><td>cat</td><td>cat</td><td>cat</td><td>cat</td><td>cat</td><td>cat</td><td>cat</td><td>cat</td><td>cat</td><td>cat</td><td>cat</td><td>cat</td><td>cat</td><td>cat</td><td>cat</td><td>cat</td><td>cat</td><td>cat</td><td>f32</td><td>f32</td><td>f32</td><td>f32</td><td>f32</td><td>f32</td><td>f32</td><td>f32</td><td>f32</td><td>f32</td><td>f32</td><td>f32</td><td>f32</td></tr></thead><tbody><tr><td>2</td><td>0</td><td>null</td><td>2013-04-03</td><td>null</td><td>null</td><td>null</td><td>2010-02-15</td><td>2013-05-04</td><td>null</td><td>&quot;a55475b1&quot;</td><td>&quot;0.0&quot;</td><td>null</td><td>null</td><td>&quot;CAL&quot;</td><td>&quot;P136_108_173&quot;</td><td>&quot;P97_36_170&quot;</td><td>&quot;SINGLE&quot;</td><td>&quot;CASH&quot;</td><td>&quot;false&quot;</td><td>null</td><td>&quot;24.0&quot;</td><td>&quot;a55475b1&quot;</td><td>&quot;a55475b1&quot;</td><td>&quot;a55475b1&quot;</td><td>&quot;a55475b1&quot;</td><td>&quot;D&quot;</td><td>&quot;24.0&quot;</td><td>0.00</td><td>640.20</td><td>null</td><td>0.00</td><td>null</td><td>null</td><td>10,000.00</td><td>null</td><td>0.00</td><td>8,200.00</td><td>null</td><td>null</td><td>null</td></tr><tr><td>2</td><td>1</td><td>null</td><td>2013-04-03</td><td>null</td><td>null</td><td>null</td><td>2010-02-15</td><td>2013-05-04</td><td>null</td><td>&quot;a55475b1&quot;</td><td>&quot;0.0&quot;</td><td>null</td><td>null</td><td>&quot;CAL&quot;</td><td>&quot;P136_108_173&quot;</td><td>&quot;P97_36_170&quot;</td><td>&quot;SINGLE&quot;</td><td>&quot;CASH&quot;</td><td>&quot;false&quot;</td><td>null</td><td>&quot;12.0&quot;</td><td>&quot;a55475b1&quot;</td><td>&quot;a55475b1&quot;</td><td>&quot;a55475b1&quot;</td><td>&quot;a55475b1&quot;</td><td>&quot;D&quot;</td><td>&quot;12.0&quot;</td><td>0.00</td><td>1,682.40</td><td>null</td><td>0.00</td><td>null</td><td>null</td><td>16,000.00</td><td>null</td><td>0.00</td><td>8,200.00</td><td>null</td><td>null</td><td>null</td></tr><tr><td>3</td><td>0</td><td>null</td><td>2019-01-07</td><td>null</td><td>null</td><td>null</td><td>2018-05-15</td><td>2019-02-07</td><td>null</td><td>&quot;P94_109_143&quot;</td><td>null</td><td>null</td><td>null</td><td>&quot;CAL&quot;</td><td>&quot;P131_33_167&quot;</td><td>&quot;P97_36_170&quot;</td><td>&quot;MARRIED&quot;</td><td>&quot;CASH&quot;</td><td>&quot;false&quot;</td><td>null</td><td>&quot;12.0&quot;</td><td>&quot;a55475b1&quot;</td><td>&quot;a55475b1&quot;</td><td>&quot;P94_109_143&quot;</td><td>&quot;a55475b1&quot;</td><td>&quot;D&quot;</td><td>&quot;12.0&quot;</td><td>0.00</td><td>6,140.00</td><td>null</td><td>0.00</td><td>null</td><td>null</td><td>59,999.80</td><td>null</td><td>0.00</td><td>11,000.00</td><td>null</td><td>null</td><td>null</td></tr><tr><td>4</td><td>0</td><td>null</td><td>2019-01-08</td><td>null</td><td>null</td><td>null</td><td>null</td><td>2019-02-08</td><td>null</td><td>&quot;P24_27_36&quot;</td><td>null</td><td>null</td><td>null</td><td>&quot;CAL&quot;</td><td>&quot;P194_82_174&quot;</td><td>&quot;a55475b1&quot;</td><td>null</td><td>&quot;CASH&quot;</td><td>&quot;false&quot;</td><td>null</td><td>&quot;24.0&quot;</td><td>&quot;a55475b1&quot;</td><td>&quot;a55475b1&quot;</td><td>&quot;a55475b1&quot;</td><td>&quot;a55475b1&quot;</td><td>&quot;T&quot;</td><td>&quot;24.0&quot;</td><td>0.00</td><td>2,556.60</td><td>null</td><td>0.00</td><td>null</td><td>null</td><td>40,000.00</td><td>null</td><td>0.00</td><td>16,000.00</td><td>null</td><td>null</td><td>null</td></tr><tr><td>5</td><td>0</td><td>null</td><td>2019-01-16</td><td>null</td><td>null</td><td>null</td><td>null</td><td>null</td><td>null</td><td>&quot;P85_114_140&quot;</td><td>null</td><td>null</td><td>null</td><td>null</td><td>&quot;P54_133_26&quot;</td><td>&quot;a55475b1&quot;</td><td>null</td><td>null</td><td>&quot;false&quot;</td><td>null</td><td>null</td><td>&quot;a55475b1&quot;</td><td>&quot;a55475b1&quot;</td><td>&quot;a55475b1&quot;</td><td>&quot;a55475b1&quot;</td><td>&quot;T&quot;</td><td>null</td><td>0.00</td><td>null</td><td>null</td><td>null</td><td>null</td><td>null</td><td>null</td><td>null</td><td>null</td><td>62,000.00</td><td>null</td><td>null</td><td>null</td></tr></tbody></table></div>"
      ],
      "text/plain": [
       "shape: (5, 41)\n",
       "┌─────────┬────────────┬───────────┬───────────┬───┬───────────┬───────────┬───────────┬───────────┐\n",
       "│ case_id ┆ num_group1 ┆ approvald ┆ creationd ┆ … ┆ mainoccup ┆ maxdpdtol ┆ outstandi ┆ revolving │\n",
       "│ ---     ┆ ---        ┆ ate_319D  ┆ ate_885D  ┆   ┆ ationinc_ ┆ erance_57 ┆ ngdebt_52 ┆ account_3 │\n",
       "│ u32     ┆ u16        ┆ ---       ┆ ---       ┆   ┆ 437A      ┆ 7P        ┆ 2A        ┆ 94A       │\n",
       "│         ┆            ┆ date      ┆ date      ┆   ┆ ---       ┆ ---       ┆ ---       ┆ ---       │\n",
       "│         ┆            ┆           ┆           ┆   ┆ f32       ┆ f32       ┆ f32       ┆ f32       │\n",
       "╞═════════╪════════════╪═══════════╪═══════════╪═══╪═══════════╪═══════════╪═══════════╪═══════════╡\n",
       "│ 2       ┆ 0          ┆ null      ┆ 2013-04-0 ┆ … ┆ 8,200.00  ┆ null      ┆ null      ┆ null      │\n",
       "│         ┆            ┆           ┆ 3         ┆   ┆           ┆           ┆           ┆           │\n",
       "│ 2       ┆ 1          ┆ null      ┆ 2013-04-0 ┆ … ┆ 8,200.00  ┆ null      ┆ null      ┆ null      │\n",
       "│         ┆            ┆           ┆ 3         ┆   ┆           ┆           ┆           ┆           │\n",
       "│ 3       ┆ 0          ┆ null      ┆ 2019-01-0 ┆ … ┆ 11,000.00 ┆ null      ┆ null      ┆ null      │\n",
       "│         ┆            ┆           ┆ 7         ┆   ┆           ┆           ┆           ┆           │\n",
       "│ 4       ┆ 0          ┆ null      ┆ 2019-01-0 ┆ … ┆ 16,000.00 ┆ null      ┆ null      ┆ null      │\n",
       "│         ┆            ┆           ┆ 8         ┆   ┆           ┆           ┆           ┆           │\n",
       "│ 5       ┆ 0          ┆ null      ┆ 2019-01-1 ┆ … ┆ 62,000.00 ┆ null      ┆ null      ┆ null      │\n",
       "│         ┆            ┆           ┆ 6         ┆   ┆           ┆           ┆           ┆           │\n",
       "└─────────┴────────────┴───────────┴───────────┴───┴───────────┴───────────┴───────────┴───────────┘"
      ]
     },
     "execution_count": 17,
     "metadata": {},
     "output_type": "execute_result"
    }
   ],
   "source": [
    "total_past_shallow = read_and_cast(\"applprev_1\")\n",
    "total_past_shallow.fetch().head()"
   ]
  },
  {
   "cell_type": "code",
   "execution_count": 18,
   "metadata": {},
   "outputs": [
    {
     "data": {
      "text/html": [
       "<div><style>\n",
       ".dataframe > thead > tr,\n",
       ".dataframe > tbody > tr {\n",
       "  text-align: right;\n",
       "  white-space: pre-wrap;\n",
       "}\n",
       "</style>\n",
       "<small>shape: (5, 6)</small><table border=\"1\" class=\"dataframe\"><thead><tr><th>case_id</th><th>num_group1</th><th>num_group2</th><th>cacccardblochreas_147M</th><th>conts_type_509L</th><th>credacc_cards_status_52L</th></tr><tr><td>u32</td><td>u16</td><td>u16</td><td>cat</td><td>cat</td><td>cat</td></tr></thead><tbody><tr><td>2</td><td>1</td><td>1</td><td>null</td><td>&quot;EMPLOYMENT_PHONE&quot;</td><td>null</td></tr><tr><td>2</td><td>0</td><td>1</td><td>null</td><td>&quot;EMPLOYMENT_PHONE&quot;</td><td>null</td></tr><tr><td>2</td><td>0</td><td>0</td><td>null</td><td>&quot;PRIMARY_MOBILE&quot;</td><td>null</td></tr><tr><td>2</td><td>1</td><td>0</td><td>null</td><td>&quot;PRIMARY_MOBILE&quot;</td><td>null</td></tr><tr><td>3</td><td>0</td><td>1</td><td>null</td><td>&quot;PRIMARY_MOBILE&quot;</td><td>null</td></tr></tbody></table></div>"
      ],
      "text/plain": [
       "shape: (5, 6)\n",
       "┌─────────┬────────────┬────────────┬─────────────────────┬──────────────────┬─────────────────────┐\n",
       "│ case_id ┆ num_group1 ┆ num_group2 ┆ cacccardblochreas_1 ┆ conts_type_509L  ┆ credacc_cards_statu │\n",
       "│ ---     ┆ ---        ┆ ---        ┆ 47M                 ┆ ---              ┆ s_52L               │\n",
       "│ u32     ┆ u16        ┆ u16        ┆ ---                 ┆ cat              ┆ ---                 │\n",
       "│         ┆            ┆            ┆ cat                 ┆                  ┆ cat                 │\n",
       "╞═════════╪════════════╪════════════╪═════════════════════╪══════════════════╪═════════════════════╡\n",
       "│ 2       ┆ 1          ┆ 1          ┆ null                ┆ EMPLOYMENT_PHONE ┆ null                │\n",
       "│ 2       ┆ 0          ┆ 1          ┆ null                ┆ EMPLOYMENT_PHONE ┆ null                │\n",
       "│ 2       ┆ 0          ┆ 0          ┆ null                ┆ PRIMARY_MOBILE   ┆ null                │\n",
       "│ 2       ┆ 1          ┆ 0          ┆ null                ┆ PRIMARY_MOBILE   ┆ null                │\n",
       "│ 3       ┆ 0          ┆ 1          ┆ null                ┆ PRIMARY_MOBILE   ┆ null                │\n",
       "└─────────┴────────────┴────────────┴─────────────────────┴──────────────────┴─────────────────────┘"
      ]
     },
     "execution_count": 18,
     "metadata": {},
     "output_type": "execute_result"
    }
   ],
   "source": [
    "total_past_depth = read_and_cast(\"applprev_2\")\n",
    "total_past_depth.fetch().head()"
   ]
  },
  {
   "cell_type": "code",
   "execution_count": 19,
   "metadata": {},
   "outputs": [
    {
     "data": {
      "text/html": [
       "<div><style>\n",
       ".dataframe > thead > tr,\n",
       ".dataframe > tbody > tr {\n",
       "  text-align: right;\n",
       "  white-space: pre-wrap;\n",
       "}\n",
       "</style>\n",
       "<small>shape: (5, 168)</small><table border=\"1\" class=\"dataframe\"><thead><tr><th>case_id</th><th>datefirstoffer_1144D</th><th>datelastinstal40dpd_247D</th><th>datelastunpaid_3546854D</th><th>dtlastpmtallstes_4499206D</th><th>firstclxcampaign_1125D</th><th>firstdatedue_489D</th><th>lastactivateddate_801D</th><th>lastapplicationdate_877D</th><th>lastapprdate_640D</th><th>lastdelinqdate_224D</th><th>lastrejectdate_50D</th><th>lastrepayingdate_696D</th><th>maxdpdinstldate_3546855D</th><th>payvacationpostpone_4187118D</th><th>validfrom_1069D</th><th>applicationcnt_361L</th><th>applications30d_658L</th><th>applicationscnt_1086L</th><th>applicationscnt_464L</th><th>applicationscnt_629L</th><th>applicationscnt_867L</th><th>bankacctype_710L</th><th>cardtype_51L</th><th>clientscnt12m_3712952L</th><th>clientscnt3m_3712950L</th><th>clientscnt6m_3712949L</th><th>clientscnt_100L</th><th>clientscnt_1022L</th><th>clientscnt_1071L</th><th>clientscnt_1130L</th><th>clientscnt_136L</th><th>clientscnt_157L</th><th>clientscnt_257L</th><th>clientscnt_304L</th><th>clientscnt_360L</th><th>clientscnt_493L</th><th>&hellip;</th><th>disbursedcredamount_1113A</th><th>downpmt_116A</th><th>inittransactionamount_650A</th><th>lastapprcredamount_781A</th><th>lastotherinc_902A</th><th>lastotherlnsexpense_631A</th><th>lastrejectcredamount_222A</th><th>maininc_215A</th><th>maxannuity_159A</th><th>maxannuity_4075009A</th><th>maxdbddpdlast1m_3658939P</th><th>maxdbddpdtollast12m_3658940P</th><th>maxdbddpdtollast6m_4187119P</th><th>maxdebt4_972A</th><th>maxdpdfrom6mto36m_3546853P</th><th>maxdpdinstlnum_3546846P</th><th>maxdpdlast12m_727P</th><th>maxdpdlast24m_143P</th><th>maxdpdlast3m_392P</th><th>maxdpdlast6m_474P</th><th>maxdpdlast9m_1059P</th><th>maxdpdtolerance_374P</th><th>maxinstallast24m_3658928A</th><th>maxlnamtstart6m_4525199A</th><th>maxoutstandbalancel12m_4187113A</th><th>maxpmtlast3m_4525190A</th><th>mindbddpdlast24m_3658935P</th><th>mindbdtollast24m_4525191P</th><th>posfpd10lastmonth_333P</th><th>posfpd30lastmonth_3976960P</th><th>posfstqpd30lastmonth_3976962P</th><th>price_1097A</th><th>sumoutstandtotal_3546847A</th><th>sumoutstandtotalest_4493215A</th><th>totaldebt_9A</th><th>totalsettled_863A</th><th>totinstallast1m_4525188A</th></tr><tr><td>u32</td><td>date</td><td>date</td><td>date</td><td>date</td><td>date</td><td>date</td><td>date</td><td>date</td><td>date</td><td>date</td><td>date</td><td>date</td><td>date</td><td>date</td><td>date</td><td>cat</td><td>cat</td><td>cat</td><td>cat</td><td>cat</td><td>cat</td><td>cat</td><td>cat</td><td>cat</td><td>cat</td><td>cat</td><td>cat</td><td>cat</td><td>cat</td><td>cat</td><td>cat</td><td>cat</td><td>cat</td><td>cat</td><td>cat</td><td>cat</td><td>&hellip;</td><td>f32</td><td>f32</td><td>f32</td><td>f32</td><td>f32</td><td>f32</td><td>f32</td><td>f32</td><td>f32</td><td>f32</td><td>f32</td><td>f32</td><td>f32</td><td>f32</td><td>f32</td><td>f32</td><td>f32</td><td>f32</td><td>f32</td><td>f32</td><td>f32</td><td>f32</td><td>f32</td><td>f32</td><td>f32</td><td>f32</td><td>f32</td><td>f32</td><td>f32</td><td>f32</td><td>f32</td><td>f32</td><td>f32</td><td>f32</td><td>f32</td><td>f32</td><td>f32</td></tr></thead><tbody><tr><td>0</td><td>null</td><td>null</td><td>null</td><td>null</td><td>null</td><td>null</td><td>null</td><td>null</td><td>null</td><td>null</td><td>null</td><td>null</td><td>null</td><td>null</td><td>null</td><td>&quot;0.0&quot;</td><td>&quot;0.0&quot;</td><td>&quot;0.0&quot;</td><td>&quot;0.0&quot;</td><td>&quot;0.0&quot;</td><td>&quot;0.0&quot;</td><td>null</td><td>null</td><td>&quot;0.0&quot;</td><td>&quot;0.0&quot;</td><td>&quot;0.0&quot;</td><td>&quot;0.0&quot;</td><td>&quot;0.0&quot;</td><td>&quot;0.0&quot;</td><td>&quot;0.0&quot;</td><td>null</td><td>&quot;0.0&quot;</td><td>&quot;0.0&quot;</td><td>&quot;0.0&quot;</td><td>&quot;0.0&quot;</td><td>&quot;0.0&quot;</td><td>&hellip;</td><td>30,000.00</td><td>0.00</td><td>null</td><td>null</td><td>null</td><td>null</td><td>null</td><td>null</td><td>0.00</td><td>null</td><td>null</td><td>null</td><td>null</td><td>0.00</td><td>0.00</td><td>null</td><td>0.00</td><td>0.00</td><td>0.00</td><td>0.00</td><td>0.00</td><td>0.00</td><td>null</td><td>null</td><td>null</td><td>null</td><td>null</td><td>null</td><td>0.00</td><td>0.00</td><td>null</td><td>null</td><td>null</td><td>null</td><td>0.00</td><td>0.00</td><td>null</td></tr><tr><td>1</td><td>null</td><td>null</td><td>null</td><td>null</td><td>null</td><td>null</td><td>null</td><td>null</td><td>null</td><td>null</td><td>null</td><td>null</td><td>null</td><td>null</td><td>null</td><td>&quot;0.0&quot;</td><td>&quot;0.0&quot;</td><td>&quot;0.0&quot;</td><td>&quot;0.0&quot;</td><td>&quot;0.0&quot;</td><td>&quot;0.0&quot;</td><td>null</td><td>null</td><td>&quot;0.0&quot;</td><td>&quot;0.0&quot;</td><td>&quot;0.0&quot;</td><td>&quot;0.0&quot;</td><td>&quot;0.0&quot;</td><td>&quot;0.0&quot;</td><td>&quot;0.0&quot;</td><td>&quot;0.0&quot;</td><td>&quot;3.0&quot;</td><td>&quot;0.0&quot;</td><td>&quot;0.0&quot;</td><td>&quot;0.0&quot;</td><td>&quot;0.0&quot;</td><td>&hellip;</td><td>19,999.80</td><td>0.00</td><td>null</td><td>null</td><td>null</td><td>null</td><td>null</td><td>null</td><td>0.00</td><td>null</td><td>null</td><td>null</td><td>null</td><td>0.00</td><td>0.00</td><td>null</td><td>0.00</td><td>0.00</td><td>0.00</td><td>0.00</td><td>0.00</td><td>0.00</td><td>null</td><td>null</td><td>null</td><td>null</td><td>null</td><td>null</td><td>0.00</td><td>0.00</td><td>null</td><td>null</td><td>null</td><td>null</td><td>0.00</td><td>0.00</td><td>null</td></tr><tr><td>2</td><td>null</td><td>null</td><td>null</td><td>null</td><td>null</td><td>null</td><td>null</td><td>2013-04-03</td><td>null</td><td>null</td><td>2013-04-03</td><td>null</td><td>null</td><td>null</td><td>null</td><td>&quot;0.0&quot;</td><td>&quot;0.0&quot;</td><td>&quot;0.0&quot;</td><td>&quot;0.0&quot;</td><td>&quot;0.0&quot;</td><td>&quot;0.0&quot;</td><td>null</td><td>null</td><td>&quot;0.0&quot;</td><td>&quot;0.0&quot;</td><td>&quot;0.0&quot;</td><td>&quot;0.0&quot;</td><td>&quot;0.0&quot;</td><td>&quot;0.0&quot;</td><td>&quot;0.0&quot;</td><td>null</td><td>&quot;0.0&quot;</td><td>&quot;0.0&quot;</td><td>&quot;0.0&quot;</td><td>&quot;0.0&quot;</td><td>&quot;0.0&quot;</td><td>&hellip;</td><td>78,000.00</td><td>0.00</td><td>null</td><td>null</td><td>null</td><td>null</td><td>10,000.00</td><td>null</td><td>0.00</td><td>null</td><td>null</td><td>null</td><td>null</td><td>0.00</td><td>null</td><td>null</td><td>0.00</td><td>0.00</td><td>0.00</td><td>0.00</td><td>0.00</td><td>0.00</td><td>null</td><td>null</td><td>null</td><td>null</td><td>null</td><td>null</td><td>0.00</td><td>0.00</td><td>null</td><td>null</td><td>null</td><td>null</td><td>0.00</td><td>0.00</td><td>null</td></tr><tr><td>3</td><td>null</td><td>null</td><td>null</td><td>null</td><td>null</td><td>null</td><td>null</td><td>2019-01-07</td><td>null</td><td>null</td><td>2019-01-07</td><td>null</td><td>null</td><td>null</td><td>null</td><td>&quot;0.0&quot;</td><td>&quot;1.0&quot;</td><td>&quot;0.0&quot;</td><td>&quot;2.0&quot;</td><td>&quot;0.0&quot;</td><td>&quot;1.0&quot;</td><td>null</td><td>null</td><td>&quot;0.0&quot;</td><td>&quot;0.0&quot;</td><td>&quot;0.0&quot;</td><td>&quot;0.0&quot;</td><td>&quot;0.0&quot;</td><td>&quot;0.0&quot;</td><td>&quot;1.0&quot;</td><td>null</td><td>&quot;0.0&quot;</td><td>&quot;0.0&quot;</td><td>&quot;0.0&quot;</td><td>&quot;0.0&quot;</td><td>&quot;0.0&quot;</td><td>&hellip;</td><td>40,000.00</td><td>0.00</td><td>null</td><td>null</td><td>null</td><td>null</td><td>59,999.80</td><td>null</td><td>0.00</td><td>null</td><td>null</td><td>null</td><td>null</td><td>0.00</td><td>0.00</td><td>null</td><td>0.00</td><td>0.00</td><td>0.00</td><td>0.00</td><td>0.00</td><td>0.00</td><td>null</td><td>null</td><td>null</td><td>null</td><td>null</td><td>null</td><td>0.00</td><td>0.00</td><td>null</td><td>null</td><td>null</td><td>null</td><td>0.00</td><td>0.00</td><td>null</td></tr><tr><td>4</td><td>null</td><td>null</td><td>null</td><td>null</td><td>null</td><td>null</td><td>null</td><td>2019-01-08</td><td>null</td><td>null</td><td>null</td><td>null</td><td>null</td><td>null</td><td>null</td><td>&quot;0.0&quot;</td><td>&quot;1.0&quot;</td><td>&quot;0.0&quot;</td><td>&quot;0.0&quot;</td><td>&quot;0.0&quot;</td><td>&quot;1.0&quot;</td><td>null</td><td>null</td><td>&quot;0.0&quot;</td><td>&quot;0.0&quot;</td><td>&quot;0.0&quot;</td><td>&quot;0.0&quot;</td><td>&quot;0.0&quot;</td><td>&quot;0.0&quot;</td><td>&quot;0.0&quot;</td><td>null</td><td>&quot;0.0&quot;</td><td>&quot;0.0&quot;</td><td>&quot;0.0&quot;</td><td>&quot;0.0&quot;</td><td>&quot;0.0&quot;</td><td>&hellip;</td><td>44,000.00</td><td>0.00</td><td>null</td><td>null</td><td>null</td><td>null</td><td>null</td><td>null</td><td>0.00</td><td>null</td><td>null</td><td>null</td><td>null</td><td>0.00</td><td>0.00</td><td>null</td><td>0.00</td><td>0.00</td><td>0.00</td><td>0.00</td><td>0.00</td><td>0.00</td><td>null</td><td>null</td><td>null</td><td>null</td><td>null</td><td>null</td><td>0.00</td><td>0.00</td><td>null</td><td>null</td><td>null</td><td>null</td><td>0.00</td><td>0.00</td><td>null</td></tr></tbody></table></div>"
      ],
      "text/plain": [
       "shape: (5, 168)\n",
       "┌─────────┬────────────┬───────────┬───────────┬───┬───────────┬───────────┬───────────┬───────────┐\n",
       "│ case_id ┆ datefirsto ┆ datelasti ┆ datelastu ┆ … ┆ sumoutsta ┆ totaldebt ┆ totalsett ┆ totinstal │\n",
       "│ ---     ┆ ffer_1144D ┆ nstal40dp ┆ npaid_354 ┆   ┆ ndtotales ┆ _9A       ┆ led_863A  ┆ last1m_45 │\n",
       "│ u32     ┆ ---        ┆ d_247D    ┆ 6854D     ┆   ┆ t_4493215 ┆ ---       ┆ ---       ┆ 25188A    │\n",
       "│         ┆ date       ┆ ---       ┆ ---       ┆   ┆ A         ┆ f32       ┆ f32       ┆ ---       │\n",
       "│         ┆            ┆ date      ┆ date      ┆   ┆ ---       ┆           ┆           ┆ f32       │\n",
       "│         ┆            ┆           ┆           ┆   ┆ f32       ┆           ┆           ┆           │\n",
       "╞═════════╪════════════╪═══════════╪═══════════╪═══╪═══════════╪═══════════╪═══════════╪═══════════╡\n",
       "│ 0       ┆ null       ┆ null      ┆ null      ┆ … ┆ null      ┆ 0.00      ┆ 0.00      ┆ null      │\n",
       "│ 1       ┆ null       ┆ null      ┆ null      ┆ … ┆ null      ┆ 0.00      ┆ 0.00      ┆ null      │\n",
       "│ 2       ┆ null       ┆ null      ┆ null      ┆ … ┆ null      ┆ 0.00      ┆ 0.00      ┆ null      │\n",
       "│ 3       ┆ null       ┆ null      ┆ null      ┆ … ┆ null      ┆ 0.00      ┆ 0.00      ┆ null      │\n",
       "│ 4       ┆ null       ┆ null      ┆ null      ┆ … ┆ null      ┆ 0.00      ┆ 0.00      ┆ null      │\n",
       "└─────────┴────────────┴───────────┴───────────┴───┴───────────┴───────────┴───────────┴───────────┘"
      ]
     },
     "execution_count": 19,
     "metadata": {},
     "output_type": "execute_result"
    }
   ],
   "source": [
    "total_static_base = read_and_cast(\"static_0\")\n",
    "total_static_base.fetch().head()"
   ]
  },
  {
   "cell_type": "code",
   "execution_count": 20,
   "metadata": {},
   "outputs": [
    {
     "data": {
      "text/html": [
       "<div><style>\n",
       ".dataframe > thead > tr,\n",
       ".dataframe > tbody > tr {\n",
       "  text-align: right;\n",
       "  white-space: pre-wrap;\n",
       "}\n",
       "</style>\n",
       "<small>shape: (5, 37)</small><table border=\"1\" class=\"dataframe\"><thead><tr><th>case_id</th><th>num_group1</th><th>birth_259D</th><th>birthdate_87D</th><th>empl_employedfrom_271D</th><th>childnum_185L</th><th>contaddr_district_15M</th><th>contaddr_matchlist_1032L</th><th>contaddr_smempladdr_334L</th><th>contaddr_zipcode_807M</th><th>education_927M</th><th>empl_employedtotal_800L</th><th>empl_industry_691L</th><th>empladdr_district_926M</th><th>empladdr_zipcode_114M</th><th>familystate_447L</th><th>gender_992L</th><th>housetype_905L</th><th>housingtype_772L</th><th>incometype_1044T</th><th>isreference_387L</th><th>language1_981M</th><th>maritalst_703L</th><th>personindex_1023L</th><th>persontype_1072L</th><th>persontype_792L</th><th>registaddr_district_1083M</th><th>registaddr_zipcode_184M</th><th>relationshiptoclient_415T</th><th>relationshiptoclient_642T</th><th>remitter_829L</th><th>role_1084L</th><th>role_993L</th><th>safeguarantyflag_411L</th><th>sex_738L</th><th>type_25L</th><th>mainoccupationinc_384A</th></tr><tr><td>u32</td><td>u16</td><td>date</td><td>date</td><td>date</td><td>cat</td><td>cat</td><td>cat</td><td>cat</td><td>cat</td><td>cat</td><td>cat</td><td>cat</td><td>cat</td><td>cat</td><td>cat</td><td>cat</td><td>cat</td><td>cat</td><td>cat</td><td>cat</td><td>cat</td><td>cat</td><td>cat</td><td>cat</td><td>cat</td><td>cat</td><td>cat</td><td>cat</td><td>cat</td><td>cat</td><td>cat</td><td>cat</td><td>cat</td><td>cat</td><td>cat</td><td>f32</td></tr></thead><tbody><tr><td>0</td><td>0</td><td>1986-07-01</td><td>null</td><td>2017-09-15</td><td>null</td><td>&quot;P88_18_84&quot;</td><td>&quot;false&quot;</td><td>&quot;false&quot;</td><td>&quot;P167_100_165&quot;</td><td>&quot;P97_36_170&quot;</td><td>&quot;MORE_FIVE&quot;</td><td>&quot;OTHER&quot;</td><td>&quot;P142_57_166&quot;</td><td>&quot;P167_100_165&quot;</td><td>&quot;MARRIED&quot;</td><td>null</td><td>null</td><td>null</td><td>&quot;SALARIED_GOVT&quot;</td><td>null</td><td>&quot;P10_39_147&quot;</td><td>null</td><td>&quot;0.0&quot;</td><td>&quot;1.0&quot;</td><td>&quot;1.0&quot;</td><td>&quot;P88_18_84&quot;</td><td>&quot;P167_100_165&quot;</td><td>null</td><td>null</td><td>null</td><td>&quot;CL&quot;</td><td>null</td><td>&quot;true&quot;</td><td>&quot;F&quot;</td><td>&quot;PRIMARY_MOBILE&quot;</td><td>10,800.00</td></tr><tr><td>0</td><td>1</td><td>null</td><td>null</td><td>null</td><td>null</td><td>&quot;a55475b1&quot;</td><td>null</td><td>null</td><td>&quot;a55475b1&quot;</td><td>&quot;a55475b1&quot;</td><td>null</td><td>null</td><td>&quot;a55475b1&quot;</td><td>&quot;a55475b1&quot;</td><td>null</td><td>null</td><td>null</td><td>null</td><td>null</td><td>null</td><td>&quot;a55475b1&quot;</td><td>null</td><td>&quot;1.0&quot;</td><td>&quot;1.0&quot;</td><td>&quot;4.0&quot;</td><td>&quot;a55475b1&quot;</td><td>&quot;a55475b1&quot;</td><td>&quot;SPOUSE&quot;</td><td>null</td><td>&quot;false&quot;</td><td>&quot;EM&quot;</td><td>null</td><td>null</td><td>null</td><td>&quot;PHONE&quot;</td><td>null</td></tr><tr><td>0</td><td>2</td><td>null</td><td>null</td><td>null</td><td>null</td><td>&quot;a55475b1&quot;</td><td>null</td><td>null</td><td>&quot;a55475b1&quot;</td><td>&quot;a55475b1&quot;</td><td>null</td><td>null</td><td>&quot;a55475b1&quot;</td><td>&quot;a55475b1&quot;</td><td>null</td><td>null</td><td>null</td><td>null</td><td>null</td><td>null</td><td>&quot;a55475b1&quot;</td><td>null</td><td>&quot;2.0&quot;</td><td>&quot;4.0&quot;</td><td>&quot;5.0&quot;</td><td>&quot;a55475b1&quot;</td><td>&quot;a55475b1&quot;</td><td>&quot;COLLEAGUE&quot;</td><td>&quot;SPOUSE&quot;</td><td>&quot;false&quot;</td><td>&quot;PE&quot;</td><td>null</td><td>null</td><td>null</td><td>&quot;PHONE&quot;</td><td>null</td></tr><tr><td>0</td><td>3</td><td>null</td><td>null</td><td>null</td><td>null</td><td>&quot;a55475b1&quot;</td><td>null</td><td>null</td><td>&quot;a55475b1&quot;</td><td>&quot;a55475b1&quot;</td><td>null</td><td>null</td><td>&quot;a55475b1&quot;</td><td>&quot;a55475b1&quot;</td><td>null</td><td>null</td><td>null</td><td>null</td><td>null</td><td>null</td><td>&quot;a55475b1&quot;</td><td>null</td><td>null</td><td>&quot;5.0&quot;</td><td>null</td><td>&quot;a55475b1&quot;</td><td>&quot;a55475b1&quot;</td><td>null</td><td>&quot;COLLEAGUE&quot;</td><td>null</td><td>&quot;PE&quot;</td><td>null</td><td>null</td><td>null</td><td>&quot;PHONE&quot;</td><td>null</td></tr><tr><td>1</td><td>0</td><td>1957-08-01</td><td>null</td><td>2008-10-29</td><td>null</td><td>&quot;P103_93_94&quot;</td><td>&quot;false&quot;</td><td>&quot;false&quot;</td><td>&quot;P176_37_166&quot;</td><td>&quot;P97_36_170&quot;</td><td>&quot;MORE_FIVE&quot;</td><td>&quot;OTHER&quot;</td><td>&quot;P49_46_174&quot;</td><td>&quot;P160_59_140&quot;</td><td>&quot;DIVORCED&quot;</td><td>null</td><td>null</td><td>null</td><td>&quot;SALARIED_GOVT&quot;</td><td>null</td><td>&quot;P10_39_147&quot;</td><td>null</td><td>&quot;0.0&quot;</td><td>&quot;1.0&quot;</td><td>&quot;1.0&quot;</td><td>&quot;P103_93_94&quot;</td><td>&quot;P176_37_166&quot;</td><td>null</td><td>null</td><td>null</td><td>&quot;CL&quot;</td><td>null</td><td>&quot;true&quot;</td><td>&quot;M&quot;</td><td>&quot;PRIMARY_MOBILE&quot;</td><td>10,000.00</td></tr></tbody></table></div>"
      ],
      "text/plain": [
       "shape: (5, 37)\n",
       "┌─────────┬────────────┬────────────┬───────────┬───┬───────────┬──────────┬───────────┬───────────┐\n",
       "│ case_id ┆ num_group1 ┆ birth_259D ┆ birthdate ┆ … ┆ safeguara ┆ sex_738L ┆ type_25L  ┆ mainoccup │\n",
       "│ ---     ┆ ---        ┆ ---        ┆ _87D      ┆   ┆ ntyflag_4 ┆ ---      ┆ ---       ┆ ationinc_ │\n",
       "│ u32     ┆ u16        ┆ date       ┆ ---       ┆   ┆ 11L       ┆ cat      ┆ cat       ┆ 384A      │\n",
       "│         ┆            ┆            ┆ date      ┆   ┆ ---       ┆          ┆           ┆ ---       │\n",
       "│         ┆            ┆            ┆           ┆   ┆ cat       ┆          ┆           ┆ f32       │\n",
       "╞═════════╪════════════╪════════════╪═══════════╪═══╪═══════════╪══════════╪═══════════╪═══════════╡\n",
       "│ 0       ┆ 0          ┆ 1986-07-01 ┆ null      ┆ … ┆ true      ┆ F        ┆ PRIMARY_M ┆ 10,800.00 │\n",
       "│         ┆            ┆            ┆           ┆   ┆           ┆          ┆ OBILE     ┆           │\n",
       "│ 0       ┆ 1          ┆ null       ┆ null      ┆ … ┆ null      ┆ null     ┆ PHONE     ┆ null      │\n",
       "│ 0       ┆ 2          ┆ null       ┆ null      ┆ … ┆ null      ┆ null     ┆ PHONE     ┆ null      │\n",
       "│ 0       ┆ 3          ┆ null       ┆ null      ┆ … ┆ null      ┆ null     ┆ PHONE     ┆ null      │\n",
       "│ 1       ┆ 0          ┆ 1957-08-01 ┆ null      ┆ … ┆ true      ┆ M        ┆ PRIMARY_M ┆ 10,000.00 │\n",
       "│         ┆            ┆            ┆           ┆   ┆           ┆          ┆ OBILE     ┆           │\n",
       "└─────────┴────────────┴────────────┴───────────┴───┴───────────┴──────────┴───────────┴───────────┘"
      ]
     },
     "execution_count": 20,
     "metadata": {},
     "output_type": "execute_result"
    }
   ],
   "source": [
    "total_person_shallow = read_and_cast(\"person_1\")\n",
    "total_person_shallow.fetch().head()"
   ]
  },
  {
   "cell_type": "code",
   "execution_count": 21,
   "metadata": {},
   "outputs": [
    {
     "data": {
      "text/html": [
       "<div><style>\n",
       ".dataframe > thead > tr,\n",
       ".dataframe > tbody > tr {\n",
       "  text-align: right;\n",
       "  white-space: pre-wrap;\n",
       "}\n",
       "</style>\n",
       "<small>shape: (5, 11)</small><table border=\"1\" class=\"dataframe\"><thead><tr><th>case_id</th><th>num_group1</th><th>num_group2</th><th>empls_employedfrom_796D</th><th>addres_district_368M</th><th>addres_role_871L</th><th>addres_zip_823M</th><th>conts_role_79M</th><th>empls_economicalst_849M</th><th>empls_employer_name_740M</th><th>relatedpersons_role_762T</th></tr><tr><td>u32</td><td>u16</td><td>u16</td><td>date</td><td>cat</td><td>cat</td><td>cat</td><td>cat</td><td>cat</td><td>cat</td><td>cat</td></tr></thead><tbody><tr><td>5</td><td>0</td><td>0</td><td>null</td><td>&quot;a55475b1&quot;</td><td>null</td><td>&quot;a55475b1&quot;</td><td>&quot;a55475b1&quot;</td><td>&quot;a55475b1&quot;</td><td>&quot;a55475b1&quot;</td><td>null</td></tr><tr><td>6</td><td>0</td><td>0</td><td>null</td><td>&quot;P55_110_32&quot;</td><td>&quot;CONTACT&quot;</td><td>&quot;P10_68_40&quot;</td><td>&quot;P38_92_157&quot;</td><td>&quot;P164_110_33&quot;</td><td>&quot;a55475b1&quot;</td><td>null</td></tr><tr><td>6</td><td>0</td><td>1</td><td>null</td><td>&quot;P55_110_32&quot;</td><td>&quot;PERMANENT&quot;</td><td>&quot;P10_68_40&quot;</td><td>&quot;a55475b1&quot;</td><td>&quot;a55475b1&quot;</td><td>&quot;a55475b1&quot;</td><td>null</td></tr><tr><td>6</td><td>1</td><td>0</td><td>null</td><td>&quot;P204_92_178&quot;</td><td>&quot;CONTACT&quot;</td><td>&quot;P65_136_169&quot;</td><td>&quot;P38_92_157&quot;</td><td>&quot;P164_110_33&quot;</td><td>&quot;a55475b1&quot;</td><td>&quot;OTHER_RELATIVE&quot;</td></tr><tr><td>6</td><td>1</td><td>1</td><td>null</td><td>&quot;P191_109_75&quot;</td><td>&quot;CONTACT&quot;</td><td>&quot;P10_68_40&quot;</td><td>&quot;P7_147_157&quot;</td><td>&quot;a55475b1&quot;</td><td>&quot;a55475b1&quot;</td><td>&quot;OTHER_RELATIVE&quot;</td></tr></tbody></table></div>"
      ],
      "text/plain": [
       "shape: (5, 11)\n",
       "┌─────────┬────────────┬───────────┬───────────┬───┬───────────┬───────────┬───────────┬───────────┐\n",
       "│ case_id ┆ num_group1 ┆ num_group ┆ empls_emp ┆ … ┆ conts_rol ┆ empls_eco ┆ empls_emp ┆ relatedpe │\n",
       "│ ---     ┆ ---        ┆ 2         ┆ loyedfrom ┆   ┆ e_79M     ┆ nomicalst ┆ loyer_nam ┆ rsons_rol │\n",
       "│ u32     ┆ u16        ┆ ---       ┆ _796D     ┆   ┆ ---       ┆ _849M     ┆ e_740M    ┆ e_762T    │\n",
       "│         ┆            ┆ u16       ┆ ---       ┆   ┆ cat       ┆ ---       ┆ ---       ┆ ---       │\n",
       "│         ┆            ┆           ┆ date      ┆   ┆           ┆ cat       ┆ cat       ┆ cat       │\n",
       "╞═════════╪════════════╪═══════════╪═══════════╪═══╪═══════════╪═══════════╪═══════════╪═══════════╡\n",
       "│ 5       ┆ 0          ┆ 0         ┆ null      ┆ … ┆ a55475b1  ┆ a55475b1  ┆ a55475b1  ┆ null      │\n",
       "│ 6       ┆ 0          ┆ 0         ┆ null      ┆ … ┆ P38_92_15 ┆ P164_110_ ┆ a55475b1  ┆ null      │\n",
       "│         ┆            ┆           ┆           ┆   ┆ 7         ┆ 33        ┆           ┆           │\n",
       "│ 6       ┆ 0          ┆ 1         ┆ null      ┆ … ┆ a55475b1  ┆ a55475b1  ┆ a55475b1  ┆ null      │\n",
       "│ 6       ┆ 1          ┆ 0         ┆ null      ┆ … ┆ P38_92_15 ┆ P164_110_ ┆ a55475b1  ┆ OTHER_REL │\n",
       "│         ┆            ┆           ┆           ┆   ┆ 7         ┆ 33        ┆           ┆ ATIVE     │\n",
       "│ 6       ┆ 1          ┆ 1         ┆ null      ┆ … ┆ P7_147_15 ┆ a55475b1  ┆ a55475b1  ┆ OTHER_REL │\n",
       "│         ┆            ┆           ┆           ┆   ┆ 7         ┆           ┆           ┆ ATIVE     │\n",
       "└─────────┴────────────┴───────────┴───────────┴───┴───────────┴───────────┴───────────┴───────────┘"
      ]
     },
     "execution_count": 21,
     "metadata": {},
     "output_type": "execute_result"
    }
   ],
   "source": [
    "total_person_depth = read_and_cast(\"person_2\")\n",
    "total_person_depth.fetch().head()"
   ]
  },
  {
   "cell_type": "code",
   "execution_count": 22,
   "metadata": {},
   "outputs": [
    {
     "data": {
      "text/html": [
       "<div><style>\n",
       ".dataframe > thead > tr,\n",
       ".dataframe > tbody > tr {\n",
       "  text-align: right;\n",
       "  white-space: pre-wrap;\n",
       "}\n",
       "</style>\n",
       "<small>shape: (5, 7)</small><table border=\"1\" class=\"dataframe\"><thead><tr><th>case_id</th><th>num_group1</th><th>amtdebitincoming_4809443A</th><th>amtdebitoutgoing_4809440A</th><th>amtdepositbalance_4809441A</th><th>amtdepositincoming_4809444A</th><th>amtdepositoutgoing_4809442A</th></tr><tr><td>u32</td><td>u16</td><td>f32</td><td>f32</td><td>f32</td><td>f32</td><td>f32</td></tr></thead><tbody><tr><td>43,801</td><td>0</td><td>12,466.60</td><td>12,291.20</td><td>914.20</td><td>0.00</td><td>304.80</td></tr><tr><td>43,991</td><td>0</td><td>3,333.40</td><td>3,273.40</td><td>0.00</td><td>0.00</td><td>0.00</td></tr><tr><td>44,001</td><td>0</td><td>10,000.00</td><td>10,000.00</td><td>0.00</td><td>0.00</td><td>0.00</td></tr><tr><td>44,053</td><td>0</td><td>0.00</td><td>0.00</td><td>2,586.40</td><td>0.00</td><td>88.80</td></tr><tr><td>44,130</td><td>0</td><td>63.80</td><td>60.80</td><td>0.00</td><td>0.00</td><td>0.00</td></tr></tbody></table></div>"
      ],
      "text/plain": [
       "shape: (5, 7)\n",
       "┌─────────┬────────────┬───────────────┬──────────────┬──────────────┬──────────────┬──────────────┐\n",
       "│ case_id ┆ num_group1 ┆ amtdebitincom ┆ amtdebitoutg ┆ amtdepositba ┆ amtdepositin ┆ amtdepositou │\n",
       "│ ---     ┆ ---        ┆ ing_4809443A  ┆ oing_4809440 ┆ lance_480944 ┆ coming_48094 ┆ tgoing_48094 │\n",
       "│ u32     ┆ u16        ┆ ---           ┆ A            ┆ 1A           ┆ 44A          ┆ 42A          │\n",
       "│         ┆            ┆ f32           ┆ ---          ┆ ---          ┆ ---          ┆ ---          │\n",
       "│         ┆            ┆               ┆ f32          ┆ f32          ┆ f32          ┆ f32          │\n",
       "╞═════════╪════════════╪═══════════════╪══════════════╪══════════════╪══════════════╪══════════════╡\n",
       "│ 43,801  ┆ 0          ┆ 12,466.60     ┆ 12,291.20    ┆ 914.20       ┆ 0.00         ┆ 304.80       │\n",
       "│ 43,991  ┆ 0          ┆ 3,333.40      ┆ 3,273.40     ┆ 0.00         ┆ 0.00         ┆ 0.00         │\n",
       "│ 44,001  ┆ 0          ┆ 10,000.00     ┆ 10,000.00    ┆ 0.00         ┆ 0.00         ┆ 0.00         │\n",
       "│ 44,053  ┆ 0          ┆ 0.00          ┆ 0.00         ┆ 2,586.40     ┆ 0.00         ┆ 88.80        │\n",
       "│ 44,130  ┆ 0          ┆ 63.80         ┆ 60.80        ┆ 0.00         ┆ 0.00         ┆ 0.00         │\n",
       "└─────────┴────────────┴───────────────┴──────────────┴──────────────┴──────────────┴──────────────┘"
      ]
     },
     "execution_count": 22,
     "metadata": {},
     "output_type": "execute_result"
    }
   ],
   "source": [
    "total_other_shallow = read_and_cast(\"other_1\")\n",
    "total_other_shallow.fetch().head()"
   ]
  },
  {
   "cell_type": "code",
   "execution_count": 23,
   "metadata": {},
   "outputs": [
    {
     "data": {
      "text/html": [
       "<div><style>\n",
       ".dataframe > thead > tr,\n",
       ".dataframe > tbody > tr {\n",
       "  text-align: right;\n",
       "  white-space: pre-wrap;\n",
       "}\n",
       "</style>\n",
       "<small>shape: (5, 5)</small><table border=\"1\" class=\"dataframe\"><thead><tr><th>case_id</th><th>num_group1</th><th>contractenddate_991D</th><th>openingdate_313D</th><th>amount_416A</th></tr><tr><td>u32</td><td>u16</td><td>date</td><td>date</td><td>f32</td></tr></thead><tbody><tr><td>225</td><td>0</td><td>null</td><td>2016-08-16</td><td>0.00</td></tr><tr><td>331</td><td>0</td><td>2018-03-18</td><td>2015-03-19</td><td>260.37</td></tr><tr><td>358</td><td>0</td><td>null</td><td>2014-09-02</td><td>0.00</td></tr><tr><td>390</td><td>0</td><td>2017-07-22</td><td>2014-07-23</td><td>211,748.53</td></tr><tr><td>390</td><td>2</td><td>null</td><td>2016-06-08</td><td>223.68</td></tr></tbody></table></div>"
      ],
      "text/plain": [
       "shape: (5, 5)\n",
       "┌─────────┬────────────┬──────────────────────┬──────────────────┬─────────────┐\n",
       "│ case_id ┆ num_group1 ┆ contractenddate_991D ┆ openingdate_313D ┆ amount_416A │\n",
       "│ ---     ┆ ---        ┆ ---                  ┆ ---              ┆ ---         │\n",
       "│ u32     ┆ u16        ┆ date                 ┆ date             ┆ f32         │\n",
       "╞═════════╪════════════╪══════════════════════╪══════════════════╪═════════════╡\n",
       "│ 225     ┆ 0          ┆ null                 ┆ 2016-08-16       ┆ 0.00        │\n",
       "│ 331     ┆ 0          ┆ 2018-03-18           ┆ 2015-03-19       ┆ 260.37      │\n",
       "│ 358     ┆ 0          ┆ null                 ┆ 2014-09-02       ┆ 0.00        │\n",
       "│ 390     ┆ 0          ┆ 2017-07-22           ┆ 2014-07-23       ┆ 211,748.53  │\n",
       "│ 390     ┆ 2          ┆ null                 ┆ 2016-06-08       ┆ 223.68      │\n",
       "└─────────┴────────────┴──────────────────────┴──────────────────┴─────────────┘"
      ]
     },
     "execution_count": 23,
     "metadata": {},
     "output_type": "execute_result"
    }
   ],
   "source": [
    "total_deposit_shallow = read_and_cast(\"deposit_1\")\n",
    "total_deposit_shallow.fetch().head()"
   ]
  },
  {
   "cell_type": "code",
   "execution_count": 24,
   "metadata": {},
   "outputs": [
    {
     "data": {
      "text/html": [
       "<div><style>\n",
       ".dataframe > thead > tr,\n",
       ".dataframe > tbody > tr {\n",
       "  text-align: right;\n",
       "  white-space: pre-wrap;\n",
       "}\n",
       "</style>\n",
       "<small>shape: (5, 6)</small><table border=\"1\" class=\"dataframe\"><thead><tr><th>case_id</th><th>num_group1</th><th>openingdate_857D</th><th>last180dayaveragebalance_704A</th><th>last180dayturnover_1134A</th><th>last30dayturnover_651A</th></tr><tr><td>u32</td><td>u16</td><td>date</td><td>f32</td><td>f32</td><td>f32</td></tr></thead><tbody><tr><td>225</td><td>0</td><td>2016-08-16</td><td>null</td><td>null</td><td>null</td></tr><tr><td>331</td><td>0</td><td>2015-03-19</td><td>null</td><td>null</td><td>null</td></tr><tr><td>358</td><td>0</td><td>2014-09-02</td><td>null</td><td>null</td><td>null</td></tr><tr><td>390</td><td>0</td><td>2014-07-23</td><td>null</td><td>null</td><td>null</td></tr><tr><td>390</td><td>2</td><td>2016-06-08</td><td>null</td><td>null</td><td>null</td></tr></tbody></table></div>"
      ],
      "text/plain": [
       "shape: (5, 6)\n",
       "┌─────────┬────────────┬──────────────────┬──────────────────┬──────────────────┬──────────────────┐\n",
       "│ case_id ┆ num_group1 ┆ openingdate_857D ┆ last180dayaverag ┆ last180dayturnov ┆ last30dayturnove │\n",
       "│ ---     ┆ ---        ┆ ---              ┆ ebalance_704A    ┆ er_1134A         ┆ r_651A           │\n",
       "│ u32     ┆ u16        ┆ date             ┆ ---              ┆ ---              ┆ ---              │\n",
       "│         ┆            ┆                  ┆ f32              ┆ f32              ┆ f32              │\n",
       "╞═════════╪════════════╪══════════════════╪══════════════════╪══════════════════╪══════════════════╡\n",
       "│ 225     ┆ 0          ┆ 2016-08-16       ┆ null             ┆ null             ┆ null             │\n",
       "│ 331     ┆ 0          ┆ 2015-03-19       ┆ null             ┆ null             ┆ null             │\n",
       "│ 358     ┆ 0          ┆ 2014-09-02       ┆ null             ┆ null             ┆ null             │\n",
       "│ 390     ┆ 0          ┆ 2014-07-23       ┆ null             ┆ null             ┆ null             │\n",
       "│ 390     ┆ 2          ┆ 2016-06-08       ┆ null             ┆ null             ┆ null             │\n",
       "└─────────┴────────────┴──────────────────┴──────────────────┴──────────────────┴──────────────────┘"
      ]
     },
     "execution_count": 24,
     "metadata": {},
     "output_type": "execute_result"
    }
   ],
   "source": [
    "total_debitcard_shallow = read_and_cast(\"debitcard\")\n",
    "total_debitcard_shallow.fetch().head()"
   ]
  },
  {
   "cell_type": "code",
   "execution_count": 25,
   "metadata": {},
   "outputs": [
    {
     "data": {
      "text/html": [
       "<div><style>\n",
       ".dataframe > thead > tr,\n",
       ".dataframe > tbody > tr {\n",
       "  text-align: right;\n",
       "  white-space: pre-wrap;\n",
       "}\n",
       "</style>\n",
       "<small>shape: (5, 79)</small><table border=\"1\" class=\"dataframe\"><thead><tr><th>case_id</th><th>num_group1</th><th>dateofcredend_289D</th><th>dateofcredend_353D</th><th>dateofcredstart_181D</th><th>dateofcredstart_739D</th><th>dateofrealrepmt_138D</th><th>lastupdate_1112D</th><th>lastupdate_388D</th><th>numberofoverdueinstlmaxdat_148D</th><th>numberofoverdueinstlmaxdat_641D</th><th>overdueamountmax2date_1002D</th><th>overdueamountmax2date_1142D</th><th>refreshdate_3813885D</th><th>annualeffectiverate_199L</th><th>annualeffectiverate_63L</th><th>classificationofcontr_13M</th><th>classificationofcontr_400M</th><th>contractst_545M</th><th>contractst_964M</th><th>contractsum_5085717L</th><th>description_351M</th><th>dpdmaxdatemonth_442T</th><th>dpdmaxdatemonth_89T</th><th>dpdmaxdateyear_596T</th><th>dpdmaxdateyear_896T</th><th>financialinstitution_382M</th><th>financialinstitution_591M</th><th>interestrate_508L</th><th>nominalrate_281L</th><th>nominalrate_498L</th><th>numberofcontrsvalue_258L</th><th>numberofcontrsvalue_358L</th><th>numberofinstls_229L</th><th>numberofinstls_320L</th><th>numberofoutstandinstls_520L</th><th>numberofoutstandinstls_59L</th><th>&hellip;</th><th>overdueamountmaxdatemonth_365T</th><th>overdueamountmaxdateyear_2T</th><th>overdueamountmaxdateyear_994T</th><th>periodicityofpmts_1102L</th><th>periodicityofpmts_837L</th><th>prolongationcount_1120L</th><th>prolongationcount_599L</th><th>purposeofcred_426M</th><th>purposeofcred_874M</th><th>subjectrole_182M</th><th>subjectrole_93M</th><th>credlmt_230A</th><th>credlmt_935A</th><th>debtoutstand_525A</th><th>debtoverdue_47A</th><th>dpdmax_139P</th><th>dpdmax_757P</th><th>instlamount_768A</th><th>instlamount_852A</th><th>monthlyinstlamount_332A</th><th>monthlyinstlamount_674A</th><th>outstandingamount_354A</th><th>outstandingamount_362A</th><th>overdueamount_31A</th><th>overdueamount_659A</th><th>overdueamountmax2_14A</th><th>overdueamountmax2_398A</th><th>overdueamountmax_155A</th><th>overdueamountmax_35A</th><th>residualamount_488A</th><th>residualamount_856A</th><th>totalamount_6A</th><th>totalamount_996A</th><th>totaldebtoverduevalue_178A</th><th>totaldebtoverduevalue_718A</th><th>totaloutstanddebtvalue_39A</th><th>totaloutstanddebtvalue_668A</th></tr><tr><td>u32</td><td>u16</td><td>date</td><td>date</td><td>date</td><td>date</td><td>date</td><td>date</td><td>date</td><td>date</td><td>date</td><td>date</td><td>date</td><td>date</td><td>cat</td><td>cat</td><td>cat</td><td>cat</td><td>cat</td><td>cat</td><td>cat</td><td>cat</td><td>cat</td><td>cat</td><td>cat</td><td>cat</td><td>cat</td><td>cat</td><td>cat</td><td>cat</td><td>cat</td><td>cat</td><td>cat</td><td>cat</td><td>cat</td><td>cat</td><td>cat</td><td>&hellip;</td><td>cat</td><td>cat</td><td>cat</td><td>cat</td><td>cat</td><td>cat</td><td>cat</td><td>cat</td><td>cat</td><td>cat</td><td>cat</td><td>f32</td><td>f32</td><td>f32</td><td>f32</td><td>f32</td><td>f32</td><td>f32</td><td>f32</td><td>f32</td><td>f32</td><td>f32</td><td>f32</td><td>f32</td><td>f32</td><td>f32</td><td>f32</td><td>f32</td><td>f32</td><td>f32</td><td>f32</td><td>f32</td><td>f32</td><td>f32</td><td>f32</td><td>f32</td><td>f32</td></tr></thead><tbody><tr><td>388</td><td>0</td><td>2023-06-20</td><td>null</td><td>null</td><td>2018-06-20</td><td>null</td><td>2019-01-24</td><td>null</td><td>null</td><td>null</td><td>null</td><td>null</td><td>null</td><td>null</td><td>null</td><td>&quot;4408ff0f&quot;</td><td>&quot;a55475b1&quot;</td><td>&quot;7241344e&quot;</td><td>&quot;a55475b1&quot;</td><td>null</td><td>&quot;a55475b1&quot;</td><td>null</td><td>&quot;7.0&quot;</td><td>&quot;2018.0&quot;</td><td>null</td><td>&quot;a55475b1&quot;</td><td>&quot;55b002a9&quot;</td><td>null</td><td>null</td><td>null</td><td>&quot;2.0&quot;</td><td>&quot;1.0&quot;</td><td>null</td><td>&quot;60.0&quot;</td><td>null</td><td>&quot;54.0&quot;</td><td>&hellip;</td><td>&quot;7.0&quot;</td><td>&quot;2018.0&quot;</td><td>null</td><td>null</td><td>&quot;30.0&quot;</td><td>null</td><td>null</td><td>&quot;96a8fdfe&quot;</td><td>&quot;a55475b1&quot;</td><td>&quot;ab3c25cf&quot;</td><td>&quot;ab3c25cf&quot;</td><td>null</td><td>null</td><td>374,419.50</td><td>0.00</td><td>0.00</td><td>null</td><td>null</td><td>null</td><td>7,811.45</td><td>null</td><td>null</td><td>260,093.70</td><td>null</td><td>0.00</td><td>0.00</td><td>null</td><td>0.00</td><td>null</td><td>null</td><td>null</td><td>null</td><td>268,897.62</td><td>0.00</td><td>0.00</td><td>374,419.50</td><td>0.00</td></tr><tr><td>388</td><td>1</td><td>2020-08-06</td><td>null</td><td>null</td><td>2018-08-06</td><td>null</td><td>2019-01-11</td><td>null</td><td>null</td><td>null</td><td>null</td><td>null</td><td>null</td><td>null</td><td>null</td><td>&quot;ea6782cc&quot;</td><td>&quot;a55475b1&quot;</td><td>&quot;7241344e&quot;</td><td>&quot;a55475b1&quot;</td><td>null</td><td>&quot;a55475b1&quot;</td><td>null</td><td>&quot;8.0&quot;</td><td>&quot;2018.0&quot;</td><td>null</td><td>&quot;a55475b1&quot;</td><td>&quot;P204_66_73&quot;</td><td>null</td><td>null</td><td>null</td><td>null</td><td>null</td><td>null</td><td>null</td><td>null</td><td>null</td><td>&hellip;</td><td>&quot;8.0&quot;</td><td>&quot;2018.0&quot;</td><td>null</td><td>null</td><td>null</td><td>null</td><td>null</td><td>&quot;60c73645&quot;</td><td>&quot;a55475b1&quot;</td><td>&quot;a55475b1&quot;</td><td>&quot;a55475b1&quot;</td><td>null</td><td>135,806.00</td><td>null</td><td>null</td><td>0.00</td><td>null</td><td>8,742.80</td><td>null</td><td>8,742.80</td><td>null</td><td>null</td><td>null</td><td>null</td><td>0.00</td><td>0.00</td><td>null</td><td>0.00</td><td>null</td><td>null</td><td>114,325.80</td><td>null</td><td>null</td><td>null</td><td>null</td><td>null</td><td>null</td></tr><tr><td>388</td><td>2</td><td>null</td><td>null</td><td>null</td><td>null</td><td>null</td><td>null</td><td>null</td><td>null</td><td>null</td><td>null</td><td>null</td><td>2019-01-28</td><td>null</td><td>null</td><td>&quot;a55475b1&quot;</td><td>&quot;a55475b1&quot;</td><td>&quot;a55475b1&quot;</td><td>&quot;a55475b1&quot;</td><td>null</td><td>&quot;a55475b1&quot;</td><td>null</td><td>null</td><td>null</td><td>null</td><td>&quot;a55475b1&quot;</td><td>&quot;a55475b1&quot;</td><td>null</td><td>null</td><td>null</td><td>null</td><td>null</td><td>null</td><td>null</td><td>null</td><td>null</td><td>&hellip;</td><td>null</td><td>null</td><td>null</td><td>null</td><td>null</td><td>null</td><td>null</td><td>&quot;a55475b1&quot;</td><td>&quot;a55475b1&quot;</td><td>&quot;a55475b1&quot;</td><td>&quot;a55475b1&quot;</td><td>null</td><td>null</td><td>null</td><td>null</td><td>null</td><td>null</td><td>null</td><td>null</td><td>null</td><td>null</td><td>null</td><td>null</td><td>null</td><td>null</td><td>null</td><td>null</td><td>null</td><td>null</td><td>null</td><td>null</td><td>null</td><td>null</td><td>null</td><td>null</td><td>null</td><td>null</td></tr><tr><td>388</td><td>3</td><td>null</td><td>null</td><td>null</td><td>null</td><td>null</td><td>null</td><td>null</td><td>null</td><td>null</td><td>null</td><td>null</td><td>2019-01-28</td><td>null</td><td>null</td><td>&quot;a55475b1&quot;</td><td>&quot;a55475b1&quot;</td><td>&quot;a55475b1&quot;</td><td>&quot;a55475b1&quot;</td><td>null</td><td>&quot;a55475b1&quot;</td><td>null</td><td>null</td><td>null</td><td>null</td><td>&quot;a55475b1&quot;</td><td>&quot;a55475b1&quot;</td><td>null</td><td>null</td><td>null</td><td>null</td><td>null</td><td>null</td><td>null</td><td>null</td><td>null</td><td>&hellip;</td><td>null</td><td>null</td><td>null</td><td>null</td><td>null</td><td>null</td><td>null</td><td>&quot;a55475b1&quot;</td><td>&quot;a55475b1&quot;</td><td>&quot;a55475b1&quot;</td><td>&quot;a55475b1&quot;</td><td>null</td><td>null</td><td>null</td><td>null</td><td>null</td><td>null</td><td>null</td><td>null</td><td>null</td><td>null</td><td>null</td><td>null</td><td>null</td><td>null</td><td>null</td><td>null</td><td>null</td><td>null</td><td>null</td><td>null</td><td>null</td><td>null</td><td>null</td><td>null</td><td>null</td><td>null</td></tr><tr><td>388</td><td>4</td><td>null</td><td>null</td><td>null</td><td>null</td><td>null</td><td>null</td><td>null</td><td>null</td><td>null</td><td>null</td><td>null</td><td>2019-01-28</td><td>null</td><td>null</td><td>&quot;a55475b1&quot;</td><td>&quot;a55475b1&quot;</td><td>&quot;a55475b1&quot;</td><td>&quot;a55475b1&quot;</td><td>null</td><td>&quot;a55475b1&quot;</td><td>null</td><td>null</td><td>null</td><td>null</td><td>&quot;a55475b1&quot;</td><td>&quot;a55475b1&quot;</td><td>null</td><td>null</td><td>null</td><td>null</td><td>null</td><td>null</td><td>null</td><td>null</td><td>null</td><td>&hellip;</td><td>null</td><td>null</td><td>null</td><td>null</td><td>null</td><td>null</td><td>null</td><td>&quot;a55475b1&quot;</td><td>&quot;a55475b1&quot;</td><td>&quot;a55475b1&quot;</td><td>&quot;a55475b1&quot;</td><td>null</td><td>null</td><td>null</td><td>null</td><td>null</td><td>null</td><td>null</td><td>null</td><td>null</td><td>null</td><td>null</td><td>null</td><td>null</td><td>null</td><td>null</td><td>null</td><td>null</td><td>null</td><td>null</td><td>null</td><td>null</td><td>null</td><td>null</td><td>null</td><td>null</td><td>null</td></tr></tbody></table></div>"
      ],
      "text/plain": [
       "shape: (5, 79)\n",
       "┌─────────┬────────────┬───────────┬───────────┬───┬───────────┬───────────┬───────────┬───────────┐\n",
       "│ case_id ┆ num_group1 ┆ dateofcre ┆ dateofcre ┆ … ┆ totaldebt ┆ totaldebt ┆ totalouts ┆ totalouts │\n",
       "│ ---     ┆ ---        ┆ dend_289D ┆ dend_353D ┆   ┆ overdueva ┆ overdueva ┆ tanddebtv ┆ tanddebtv │\n",
       "│ u32     ┆ u16        ┆ ---       ┆ ---       ┆   ┆ lue_178A  ┆ lue_718A  ┆ alue_39A  ┆ alue_668A │\n",
       "│         ┆            ┆ date      ┆ date      ┆   ┆ ---       ┆ ---       ┆ ---       ┆ ---       │\n",
       "│         ┆            ┆           ┆           ┆   ┆ f32       ┆ f32       ┆ f32       ┆ f32       │\n",
       "╞═════════╪════════════╪═══════════╪═══════════╪═══╪═══════════╪═══════════╪═══════════╪═══════════╡\n",
       "│ 388     ┆ 0          ┆ 2023-06-2 ┆ null      ┆ … ┆ 0.00      ┆ 0.00      ┆ 374,419.5 ┆ 0.00      │\n",
       "│         ┆            ┆ 0         ┆           ┆   ┆           ┆           ┆ 0         ┆           │\n",
       "│ 388     ┆ 1          ┆ 2020-08-0 ┆ null      ┆ … ┆ null      ┆ null      ┆ null      ┆ null      │\n",
       "│         ┆            ┆ 6         ┆           ┆   ┆           ┆           ┆           ┆           │\n",
       "│ 388     ┆ 2          ┆ null      ┆ null      ┆ … ┆ null      ┆ null      ┆ null      ┆ null      │\n",
       "│ 388     ┆ 3          ┆ null      ┆ null      ┆ … ┆ null      ┆ null      ┆ null      ┆ null      │\n",
       "│ 388     ┆ 4          ┆ null      ┆ null      ┆ … ┆ null      ┆ null      ┆ null      ┆ null      │\n",
       "└─────────┴────────────┴───────────┴───────────┴───┴───────────┴───────────┴───────────┴───────────┘"
      ]
     },
     "execution_count": 25,
     "metadata": {},
     "output_type": "execute_result"
    }
   ],
   "source": [
    "total_credit_internal_shallow = read_and_cast(\"bureau_a_1\")\n",
    "total_credit_internal_shallow.fetch().head()"
   ]
  },
  {
   "cell_type": "code",
   "execution_count": 26,
   "metadata": {},
   "outputs": [
    {
     "data": {
      "text/html": [
       "<div><style>\n",
       ".dataframe > thead > tr,\n",
       ".dataframe > tbody > tr {\n",
       "  text-align: right;\n",
       "  white-space: pre-wrap;\n",
       "}\n",
       "</style>\n",
       "<small>shape: (5, 45)</small><table border=\"1\" class=\"dataframe\"><thead><tr><th>case_id</th><th>num_group1</th><th>contractdate_551D</th><th>contractmaturitydate_151D</th><th>lastupdate_260D</th><th>classificationofcontr_1114M</th><th>contractst_516M</th><th>contracttype_653M</th><th>credor_3940957M</th><th>credquantity_1099L</th><th>credquantity_984L</th><th>dpdmaxdatemonth_804T</th><th>dpdmaxdateyear_742T</th><th>interesteffectiverate_369L</th><th>interestrateyearly_538L</th><th>numberofinstls_810L</th><th>overdueamountmaxdatemonth_494T</th><th>overdueamountmaxdateyear_432T</th><th>periodicityofpmts_997L</th><th>periodicityofpmts_997M</th><th>pmtmethod_731M</th><th>pmtnumpending_403L</th><th>purposeofcred_722M</th><th>subjectrole_326M</th><th>subjectrole_43M</th><th>amount_1115A</th><th>credlmt_1052A</th><th>credlmt_228A</th><th>credlmt_3940954A</th><th>debtpastduevalue_732A</th><th>debtvalue_227A</th><th>dpd_550P</th><th>dpd_733P</th><th>dpdmax_851P</th><th>installmentamount_644A</th><th>installmentamount_833A</th><th>instlamount_892A</th><th>maxdebtpduevalodued_3940955A</th><th>overdueamountmax_950A</th><th>pmtdaysoverdue_1135P</th><th>residualamount_1093A</th><th>residualamount_127A</th><th>residualamount_3940956A</th><th>totalamount_503A</th><th>totalamount_881A</th></tr><tr><td>u32</td><td>u16</td><td>date</td><td>date</td><td>date</td><td>cat</td><td>cat</td><td>cat</td><td>cat</td><td>cat</td><td>cat</td><td>cat</td><td>cat</td><td>cat</td><td>cat</td><td>cat</td><td>cat</td><td>cat</td><td>cat</td><td>cat</td><td>cat</td><td>cat</td><td>cat</td><td>cat</td><td>cat</td><td>f32</td><td>f32</td><td>f32</td><td>f32</td><td>f32</td><td>f32</td><td>f32</td><td>f32</td><td>f32</td><td>f32</td><td>f32</td><td>f32</td><td>f32</td><td>f32</td><td>f32</td><td>f32</td><td>f32</td><td>f32</td><td>f32</td><td>f32</td></tr></thead><tbody><tr><td>467</td><td>0</td><td>2011-06-15</td><td>2031-06-13</td><td>2019-01-20</td><td>&quot;ea6782cc&quot;</td><td>&quot;7241344e&quot;</td><td>&quot;724be82a&quot;</td><td>&quot;P164_34_168&quot;</td><td>&quot;2.0&quot;</td><td>&quot;1.0&quot;</td><td>null</td><td>null</td><td>null</td><td>null</td><td>null</td><td>null</td><td>null</td><td>null</td><td>&quot;a55475b1&quot;</td><td>&quot;a55475b1&quot;</td><td>null</td><td>&quot;96a8fdfe&quot;</td><td>&quot;fa4f56f1&quot;</td><td>&quot;ab3c25cf&quot;</td><td>null</td><td>3,000,000.00</td><td>10,000.00</td><td>3,000,000.00</td><td>null</td><td>null</td><td>0.00</td><td>0.00</td><td>null</td><td>0.00</td><td>0.00</td><td>null</td><td>null</td><td>null</td><td>null</td><td>0.00</td><td>0.00</td><td>null</td><td>3,000,000.00</td><td>10,000.00</td></tr><tr><td>467</td><td>1</td><td>2019-01-04</td><td>2021-08-04</td><td>2019-01-20</td><td>&quot;ea6782cc&quot;</td><td>&quot;7241344e&quot;</td><td>&quot;724be82a&quot;</td><td>&quot;P164_34_168&quot;</td><td>&quot;1.0&quot;</td><td>&quot;2.0&quot;</td><td>null</td><td>null</td><td>null</td><td>null</td><td>null</td><td>null</td><td>null</td><td>null</td><td>&quot;a55475b1&quot;</td><td>&quot;a55475b1&quot;</td><td>null</td><td>&quot;96a8fdfe&quot;</td><td>&quot;ab3c25cf&quot;</td><td>&quot;ab3c25cf&quot;</td><td>null</td><td>null</td><td>null</td><td>130,365.00</td><td>null</td><td>null</td><td>0.00</td><td>0.00</td><td>null</td><td>0.00</td><td>26,571.97</td><td>null</td><td>null</td><td>null</td><td>null</td><td>null</td><td>null</td><td>null</td><td>78,000.00</td><td>960,000.00</td></tr><tr><td>467</td><td>2</td><td>2016-10-25</td><td>2019-10-25</td><td>2019-01-10</td><td>&quot;ea6782cc&quot;</td><td>&quot;7241344e&quot;</td><td>&quot;4257cbed&quot;</td><td>&quot;c5a72b57&quot;</td><td>null</td><td>null</td><td>&quot;11.0&quot;</td><td>&quot;2016.0&quot;</td><td>null</td><td>null</td><td>&quot;36.0&quot;</td><td>&quot;11.0&quot;</td><td>&quot;2016.0&quot;</td><td>null</td><td>&quot;a0b598e4&quot;</td><td>&quot;e914c86c&quot;</td><td>&quot;10.0&quot;</td><td>&quot;96a8fdfe&quot;</td><td>&quot;a55475b1&quot;</td><td>&quot;a55475b1&quot;</td><td>78,000.00</td><td>null</td><td>null</td><td>null</td><td>0.00</td><td>26,571.97</td><td>null</td><td>null</td><td>0.00</td><td>null</td><td>null</td><td>2,898.76</td><td>0.00</td><td>0.00</td><td>0.00</td><td>null</td><td>null</td><td>null</td><td>null</td><td>null</td></tr><tr><td>1,445</td><td>0</td><td>2015-01-30</td><td>2021-01-30</td><td>2019-01-19</td><td>&quot;ea6782cc&quot;</td><td>&quot;7241344e&quot;</td><td>&quot;1c9c5356&quot;</td><td>&quot;b619fa46&quot;</td><td>&quot;2.0&quot;</td><td>&quot;5.0&quot;</td><td>&quot;1.0&quot;</td><td>&quot;2018.0&quot;</td><td>null</td><td>null</td><td>null</td><td>&quot;2.0&quot;</td><td>&quot;2018.0&quot;</td><td>null</td><td>&quot;a55475b1&quot;</td><td>&quot;a55475b1&quot;</td><td>null</td><td>&quot;60c73645&quot;</td><td>&quot;daf49a8a&quot;</td><td>&quot;ab3c25cf&quot;</td><td>null</td><td>400,000.00</td><td>100,000.00</td><td>74,000.00</td><td>0.00</td><td>null</td><td>0.00</td><td>0.00</td><td>200,418.00</td><td>0.00</td><td>0.00</td><td>null</td><td>0.40</td><td>1.40</td><td>0.00</td><td>0.00</td><td>0.00</td><td>73,044.18</td><td>400,000.00</td><td>100,000.00</td></tr><tr><td>1,445</td><td>1</td><td>2014-09-12</td><td>2021-09-12</td><td>2019-01-13</td><td>&quot;01f63ac8&quot;</td><td>&quot;7241344e&quot;</td><td>&quot;724be82a&quot;</td><td>&quot;74bd67a8&quot;</td><td>&quot;3.0&quot;</td><td>&quot;17.0&quot;</td><td>null</td><td>null</td><td>null</td><td>null</td><td>null</td><td>null</td><td>null</td><td>null</td><td>&quot;a55475b1&quot;</td><td>&quot;a55475b1&quot;</td><td>null</td><td>&quot;96a8fdfe&quot;</td><td>&quot;ab3c25cf&quot;</td><td>&quot;ab3c25cf&quot;</td><td>null</td><td>null</td><td>null</td><td>400,000.00</td><td>null</td><td>null</td><td>0.00</td><td>0.00</td><td>null</td><td>0.00</td><td>209,617.77</td><td>null</td><td>null</td><td>null</td><td>null</td><td>null</td><td>null</td><td>null</td><td>396,800.62</td><td>184,587.80</td></tr></tbody></table></div>"
      ],
      "text/plain": [
       "shape: (5, 45)\n",
       "┌─────────┬────────────┬───────────┬───────────┬───┬───────────┬───────────┬───────────┬───────────┐\n",
       "│ case_id ┆ num_group1 ┆ contractd ┆ contractm ┆ … ┆ residuala ┆ residuala ┆ totalamou ┆ totalamou │\n",
       "│ ---     ┆ ---        ┆ ate_551D  ┆ aturityda ┆   ┆ mount_127 ┆ mount_394 ┆ nt_503A   ┆ nt_881A   │\n",
       "│ u32     ┆ u16        ┆ ---       ┆ te_151D   ┆   ┆ A         ┆ 0956A     ┆ ---       ┆ ---       │\n",
       "│         ┆            ┆ date      ┆ ---       ┆   ┆ ---       ┆ ---       ┆ f32       ┆ f32       │\n",
       "│         ┆            ┆           ┆ date      ┆   ┆ f32       ┆ f32       ┆           ┆           │\n",
       "╞═════════╪════════════╪═══════════╪═══════════╪═══╪═══════════╪═══════════╪═══════════╪═══════════╡\n",
       "│ 467     ┆ 0          ┆ 2011-06-1 ┆ 2031-06-1 ┆ … ┆ 0.00      ┆ null      ┆ 3,000,000 ┆ 10,000.00 │\n",
       "│         ┆            ┆ 5         ┆ 3         ┆   ┆           ┆           ┆ .00       ┆           │\n",
       "│ 467     ┆ 1          ┆ 2019-01-0 ┆ 2021-08-0 ┆ … ┆ null      ┆ null      ┆ 78,000.00 ┆ 960,000.0 │\n",
       "│         ┆            ┆ 4         ┆ 4         ┆   ┆           ┆           ┆           ┆ 0         │\n",
       "│ 467     ┆ 2          ┆ 2016-10-2 ┆ 2019-10-2 ┆ … ┆ null      ┆ null      ┆ null      ┆ null      │\n",
       "│         ┆            ┆ 5         ┆ 5         ┆   ┆           ┆           ┆           ┆           │\n",
       "│ 1,445   ┆ 0          ┆ 2015-01-3 ┆ 2021-01-3 ┆ … ┆ 0.00      ┆ 73,044.18 ┆ 400,000.0 ┆ 100,000.0 │\n",
       "│         ┆            ┆ 0         ┆ 0         ┆   ┆           ┆           ┆ 0         ┆ 0         │\n",
       "│ 1,445   ┆ 1          ┆ 2014-09-1 ┆ 2021-09-1 ┆ … ┆ null      ┆ null      ┆ 396,800.6 ┆ 184,587.8 │\n",
       "│         ┆            ┆ 2         ┆ 2         ┆   ┆           ┆           ┆ 2         ┆ 0         │\n",
       "└─────────┴────────────┴───────────┴───────────┴───┴───────────┴───────────┴───────────┴───────────┘"
      ]
     },
     "execution_count": 26,
     "metadata": {},
     "output_type": "execute_result"
    }
   ],
   "source": [
    "total_credit_external_shallow = read_and_cast(\"bureau_b_1\")\n",
    "total_credit_external_shallow.fetch().head()"
   ]
  },
  {
   "cell_type": "code",
   "execution_count": 27,
   "metadata": {},
   "outputs": [
    {
     "data": {
      "text/html": [
       "<div><style>\n",
       ".dataframe > thead > tr,\n",
       ".dataframe > tbody > tr {\n",
       "  text-align: right;\n",
       "  white-space: pre-wrap;\n",
       "}\n",
       "</style>\n",
       "<small>shape: (5, 6)</small><table border=\"1\" class=\"dataframe\"><thead><tr><th>case_id</th><th>num_group1</th><th>num_group2</th><th>pmts_date_1107D</th><th>pmts_dpdvalue_108P</th><th>pmts_pmtsoverdue_635A</th></tr><tr><td>u32</td><td>u16</td><td>u16</td><td>date</td><td>f32</td><td>f32</td></tr></thead><tbody><tr><td>467</td><td>2</td><td>19</td><td>2018-05-15</td><td>0.00</td><td>0.00</td></tr><tr><td>467</td><td>2</td><td>25</td><td>2018-11-15</td><td>0.00</td><td>0.00</td></tr><tr><td>467</td><td>2</td><td>18</td><td>2018-04-15</td><td>0.00</td><td>0.00</td></tr><tr><td>467</td><td>2</td><td>0</td><td>2016-10-15</td><td>0.00</td><td>0.00</td></tr><tr><td>467</td><td>2</td><td>6</td><td>2017-04-15</td><td>0.00</td><td>0.00</td></tr></tbody></table></div>"
      ],
      "text/plain": [
       "shape: (5, 6)\n",
       "┌─────────┬────────────┬────────────┬─────────────────┬────────────────────┬───────────────────────┐\n",
       "│ case_id ┆ num_group1 ┆ num_group2 ┆ pmts_date_1107D ┆ pmts_dpdvalue_108P ┆ pmts_pmtsoverdue_635A │\n",
       "│ ---     ┆ ---        ┆ ---        ┆ ---             ┆ ---                ┆ ---                   │\n",
       "│ u32     ┆ u16        ┆ u16        ┆ date            ┆ f32                ┆ f32                   │\n",
       "╞═════════╪════════════╪════════════╪═════════════════╪════════════════════╪═══════════════════════╡\n",
       "│ 467     ┆ 2          ┆ 19         ┆ 2018-05-15      ┆ 0.00               ┆ 0.00                  │\n",
       "│ 467     ┆ 2          ┆ 25         ┆ 2018-11-15      ┆ 0.00               ┆ 0.00                  │\n",
       "│ 467     ┆ 2          ┆ 18         ┆ 2018-04-15      ┆ 0.00               ┆ 0.00                  │\n",
       "│ 467     ┆ 2          ┆ 0          ┆ 2016-10-15      ┆ 0.00               ┆ 0.00                  │\n",
       "│ 467     ┆ 2          ┆ 6          ┆ 2017-04-15      ┆ 0.00               ┆ 0.00                  │\n",
       "└─────────┴────────────┴────────────┴─────────────────┴────────────────────┴───────────────────────┘"
      ]
     },
     "execution_count": 27,
     "metadata": {},
     "output_type": "execute_result"
    }
   ],
   "source": [
    "total_credit_external_depth = read_and_cast(\"bureau_b_2\")\n",
    "total_credit_external_depth.fetch().head()"
   ]
  },
  {
   "cell_type": "code",
   "execution_count": 28,
   "metadata": {},
   "outputs": [
    {
     "data": {
      "text/html": [
       "<div><style>\n",
       ".dataframe > thead > tr,\n",
       ".dataframe > tbody > tr {\n",
       "  text-align: right;\n",
       "  white-space: pre-wrap;\n",
       "}\n",
       "</style>\n",
       "<small>shape: (5, 5)</small><table border=\"1\" class=\"dataframe\"><thead><tr><th>case_id</th><th>num_group1</th><th>recorddate_4527225D</th><th>name_4527232M</th><th>amount_4527230A</th></tr><tr><td>u32</td><td>u16</td><td>date</td><td>cat</td><td>f32</td></tr></thead><tbody><tr><td>28,631</td><td>2</td><td>2019-09-13</td><td>&quot;f980a1ea&quot;</td><td>1,946.00</td></tr><tr><td>28,631</td><td>3</td><td>2019-09-13</td><td>&quot;f980a1ea&quot;</td><td>711.00</td></tr><tr><td>28,631</td><td>0</td><td>2019-09-13</td><td>&quot;f980a1ea&quot;</td><td>3,616.40</td></tr><tr><td>28,631</td><td>1</td><td>2019-09-13</td><td>&quot;f980a1ea&quot;</td><td>2,600.00</td></tr><tr><td>28,632</td><td>5</td><td>2019-09-13</td><td>&quot;5f9b74f5&quot;</td><td>2,564.00</td></tr></tbody></table></div>"
      ],
      "text/plain": [
       "shape: (5, 5)\n",
       "┌─────────┬────────────┬─────────────────────┬───────────────┬─────────────────┐\n",
       "│ case_id ┆ num_group1 ┆ recorddate_4527225D ┆ name_4527232M ┆ amount_4527230A │\n",
       "│ ---     ┆ ---        ┆ ---                 ┆ ---           ┆ ---             │\n",
       "│ u32     ┆ u16        ┆ date                ┆ cat           ┆ f32             │\n",
       "╞═════════╪════════════╪═════════════════════╪═══════════════╪═════════════════╡\n",
       "│ 28,631  ┆ 2          ┆ 2019-09-13          ┆ f980a1ea      ┆ 1,946.00        │\n",
       "│ 28,631  ┆ 3          ┆ 2019-09-13          ┆ f980a1ea      ┆ 711.00          │\n",
       "│ 28,631  ┆ 0          ┆ 2019-09-13          ┆ f980a1ea      ┆ 3,616.40        │\n",
       "│ 28,631  ┆ 1          ┆ 2019-09-13          ┆ f980a1ea      ┆ 2,600.00        │\n",
       "│ 28,632  ┆ 5          ┆ 2019-09-13          ┆ 5f9b74f5      ┆ 2,564.00        │\n",
       "└─────────┴────────────┴─────────────────────┴───────────────┴─────────────────┘"
      ]
     },
     "execution_count": 28,
     "metadata": {},
     "output_type": "execute_result"
    }
   ],
   "source": [
    "total_registry_a = read_and_cast(\"registry_a\")\n",
    "total_registry_a.fetch().head()"
   ]
  },
  {
   "cell_type": "code",
   "execution_count": 29,
   "metadata": {},
   "outputs": [
    {
     "data": {
      "text/html": [
       "<div><style>\n",
       ".dataframe > thead > tr,\n",
       ".dataframe > tbody > tr {\n",
       "  text-align: right;\n",
       "  white-space: pre-wrap;\n",
       "}\n",
       "</style>\n",
       "<small>shape: (5, 5)</small><table border=\"1\" class=\"dataframe\"><thead><tr><th>case_id</th><th>num_group1</th><th>deductiondate_4917603D</th><th>name_4917606M</th><th>amount_4917619A</th></tr><tr><td>u32</td><td>u16</td><td>date</td><td>cat</td><td>f32</td></tr></thead><tbody><tr><td>49,435</td><td>7</td><td>2019-10-16</td><td>&quot;6b730375&quot;</td><td>6,885.00</td></tr><tr><td>49,435</td><td>1</td><td>2019-10-16</td><td>&quot;6b730375&quot;</td><td>6,885.00</td></tr><tr><td>49,435</td><td>8</td><td>2019-10-16</td><td>&quot;6b730375&quot;</td><td>6,885.00</td></tr><tr><td>49,435</td><td>3</td><td>2019-10-16</td><td>&quot;6b730375&quot;</td><td>6,885.00</td></tr><tr><td>49,435</td><td>4</td><td>2019-10-16</td><td>&quot;6b730375&quot;</td><td>6,885.00</td></tr></tbody></table></div>"
      ],
      "text/plain": [
       "shape: (5, 5)\n",
       "┌─────────┬────────────┬────────────────────────┬───────────────┬─────────────────┐\n",
       "│ case_id ┆ num_group1 ┆ deductiondate_4917603D ┆ name_4917606M ┆ amount_4917619A │\n",
       "│ ---     ┆ ---        ┆ ---                    ┆ ---           ┆ ---             │\n",
       "│ u32     ┆ u16        ┆ date                   ┆ cat           ┆ f32             │\n",
       "╞═════════╪════════════╪════════════════════════╪═══════════════╪═════════════════╡\n",
       "│ 49,435  ┆ 7          ┆ 2019-10-16             ┆ 6b730375      ┆ 6,885.00        │\n",
       "│ 49,435  ┆ 1          ┆ 2019-10-16             ┆ 6b730375      ┆ 6,885.00        │\n",
       "│ 49,435  ┆ 8          ┆ 2019-10-16             ┆ 6b730375      ┆ 6,885.00        │\n",
       "│ 49,435  ┆ 3          ┆ 2019-10-16             ┆ 6b730375      ┆ 6,885.00        │\n",
       "│ 49,435  ┆ 4          ┆ 2019-10-16             ┆ 6b730375      ┆ 6,885.00        │\n",
       "└─────────┴────────────┴────────────────────────┴───────────────┴─────────────────┘"
      ]
     },
     "execution_count": 29,
     "metadata": {},
     "output_type": "execute_result"
    }
   ],
   "source": [
    "total_registry_b = read_and_cast(\"registry_b\")\n",
    "total_registry_b.fetch().head()"
   ]
  },
  {
   "cell_type": "code",
   "execution_count": 30,
   "metadata": {},
   "outputs": [
    {
     "data": {
      "text/html": [
       "<div><style>\n",
       ".dataframe > thead > tr,\n",
       ".dataframe > tbody > tr {\n",
       "  text-align: right;\n",
       "  white-space: pre-wrap;\n",
       "}\n",
       "</style>\n",
       "<small>shape: (5, 5)</small><table border=\"1\" class=\"dataframe\"><thead><tr><th>case_id</th><th>num_group1</th><th>processingdate_168D</th><th>employername_160M</th><th>pmtamount_36A</th></tr><tr><td>u32</td><td>u16</td><td>date</td><td>cat</td><td>f32</td></tr></thead><tbody><tr><td>357</td><td>5</td><td>2018-08-08</td><td>&quot;c91b12ff&quot;</td><td>1,100.00</td></tr><tr><td>357</td><td>1</td><td>2018-11-28</td><td>&quot;c91b12ff&quot;</td><td>1,200.00</td></tr><tr><td>357</td><td>4</td><td>2018-09-10</td><td>&quot;c91b12ff&quot;</td><td>1,200.00</td></tr><tr><td>357</td><td>0</td><td>2019-01-04</td><td>&quot;c91b12ff&quot;</td><td>1,200.00</td></tr><tr><td>357</td><td>3</td><td>2018-10-08</td><td>&quot;c91b12ff&quot;</td><td>628.60</td></tr></tbody></table></div>"
      ],
      "text/plain": [
       "shape: (5, 5)\n",
       "┌─────────┬────────────┬─────────────────────┬───────────────────┬───────────────┐\n",
       "│ case_id ┆ num_group1 ┆ processingdate_168D ┆ employername_160M ┆ pmtamount_36A │\n",
       "│ ---     ┆ ---        ┆ ---                 ┆ ---               ┆ ---           │\n",
       "│ u32     ┆ u16        ┆ date                ┆ cat               ┆ f32           │\n",
       "╞═════════╪════════════╪═════════════════════╪═══════════════════╪═══════════════╡\n",
       "│ 357     ┆ 5          ┆ 2018-08-08          ┆ c91b12ff          ┆ 1,100.00      │\n",
       "│ 357     ┆ 1          ┆ 2018-11-28          ┆ c91b12ff          ┆ 1,200.00      │\n",
       "│ 357     ┆ 4          ┆ 2018-09-10          ┆ c91b12ff          ┆ 1,200.00      │\n",
       "│ 357     ┆ 0          ┆ 2019-01-04          ┆ c91b12ff          ┆ 1,200.00      │\n",
       "│ 357     ┆ 3          ┆ 2018-10-08          ┆ c91b12ff          ┆ 628.60        │\n",
       "└─────────┴────────────┴─────────────────────┴───────────────────┴───────────────┘"
      ]
     },
     "execution_count": 30,
     "metadata": {},
     "output_type": "execute_result"
    }
   ],
   "source": [
    "total_registry_c = read_and_cast(\"registry_c\")\n",
    "total_registry_c.fetch().head()"
   ]
  },
  {
   "cell_type": "code",
   "execution_count": 31,
   "metadata": {},
   "outputs": [
    {
     "name": "stdout",
     "output_type": "stream",
     "text": [
      "total_base\n",
      "total_past_shallow\n",
      "total_past_depth\n",
      "total_static_base\n",
      "total_person_shallow\n",
      "total_person_depth\n",
      "total_other_shallow\n",
      "total_deposit_shallow\n",
      "total_debitcard_shallow\n",
      "total_credit_internal_shallow\n",
      "total_credit_external_shallow\n",
      "total_credit_external_depth\n",
      "total_registry_a\n",
      "total_registry_b\n",
      "total_registry_c\n"
     ]
    }
   ],
   "source": [
    "try:\n",
    "    for _ in globals().keys():\n",
    "        if \"total_\" in _:\n",
    "            print(_)\n",
    "except RuntimeError:\n",
    "    for _ in globals().keys():\n",
    "        if \"total_\" in _:\n",
    "            print(_)"
   ]
  },
  {
   "cell_type": "code",
   "execution_count": 32,
   "metadata": {},
   "outputs": [],
   "source": [
    "total_df = (\n",
    "    total_base\n",
    "    .join(\n",
    "        total_past_shallow.drop(cs.contains(\"num_group\")),\n",
    "        left_on=\"case_id_base\",\n",
    "        right_on=\"case_id\",\n",
    "        how=\"left\"\n",
    "    )\n",
    "    .join(\n",
    "        total_past_depth.drop(cs.contains(\"num_group\")),\n",
    "        left_on=\"case_id_base\",\n",
    "        right_on=\"case_id\",\n",
    "        how=\"left\"\n",
    "    )\n",
    "    .join(\n",
    "        total_static_base.drop(cs.contains(\"num_group\")),\n",
    "        left_on=\"case_id_base\",\n",
    "        right_on=\"case_id\",\n",
    "        how=\"left\"\n",
    "    )\n",
    "    .join(\n",
    "        total_person_shallow.drop(cs.contains(\"num_group\")),\n",
    "        left_on=\"case_id_base\",\n",
    "        right_on=\"case_id\",\n",
    "        how=\"left\"\n",
    "    )\n",
    "    .join(\n",
    "        total_person_depth.drop(cs.contains(\"num_group\")),\n",
    "        left_on=\"case_id_base\",\n",
    "        right_on=\"case_id\",\n",
    "        how=\"left\"\n",
    "    )\n",
    "    .join(\n",
    "        total_other_shallow.drop(cs.contains(\"num_group\")),\n",
    "        left_on=\"case_id_base\",\n",
    "        right_on=\"case_id\",\n",
    "        how=\"left\"\n",
    "    )\n",
    "    .join(\n",
    "        total_deposit_shallow.drop(cs.contains(\"num_group\")),\n",
    "        left_on=\"case_id_base\",\n",
    "        right_on=\"case_id\",\n",
    "        how=\"left\"\n",
    "    )\n",
    "    .join(\n",
    "        total_debitcard_shallow.drop(cs.contains(\"num_group\")),\n",
    "        left_on=\"case_id_base\",\n",
    "        right_on=\"case_id\",\n",
    "        how=\"left\"\n",
    "    )\n",
    "    .join(\n",
    "        total_credit_internal_shallow.drop(cs.contains(\"num_group\")),\n",
    "        left_on=\"case_id_base\",\n",
    "        right_on=\"case_id\",\n",
    "        how=\"left\"\n",
    "    )\n",
    "    .join(\n",
    "        total_credit_external_shallow.drop(cs.contains(\"num_group\")),\n",
    "        left_on=\"case_id_base\",\n",
    "        right_on=\"case_id\",\n",
    "        how=\"left\"\n",
    "    )\n",
    "    .join(\n",
    "        total_credit_external_depth.drop(cs.contains(\"num_group\")),\n",
    "        left_on=\"case_id_base\",\n",
    "        right_on=\"case_id\",\n",
    "        how=\"left\"\n",
    "    )\n",
    "    .join(\n",
    "        total_registry_a.drop(cs.contains(\"num_group\")),\n",
    "        left_on=\"case_id_base\",\n",
    "        right_on=\"case_id\",\n",
    "        how=\"left\"\n",
    "    )\n",
    "    .join(\n",
    "        total_registry_b.drop(cs.contains(\"num_group\")),\n",
    "        left_on=\"case_id_base\",\n",
    "        right_on=\"case_id\",\n",
    "        how=\"left\"\n",
    "    )\n",
    "    .join(\n",
    "        total_registry_c.drop(cs.contains(\"num_group\")),\n",
    "        left_on=\"case_id_base\",\n",
    "        right_on=\"case_id\",\n",
    "        how=\"left\"\n",
    "    )\n",
    "    .select(\n",
    "        (cs.ends_with(\"D\") - pl.col(\"date\"))\n",
    "    )\n",
    ")\n",
    "total_df.collect(streaming=True)"
   ]
  }
 ],
 "metadata": {
  "kernelspec": {
   "display_name": "base",
   "language": "python",
   "name": "python3"
  },
  "language_info": {
   "codemirror_mode": {
    "name": "ipython",
    "version": 3
   },
   "file_extension": ".py",
   "mimetype": "text/x-python",
   "name": "python",
   "nbconvert_exporter": "python",
   "pygments_lexer": "ipython3",
   "version": "3.11.7"
  }
 },
 "nbformat": 4,
 "nbformat_minor": 2
}
