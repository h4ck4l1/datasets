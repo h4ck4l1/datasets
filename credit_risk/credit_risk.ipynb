{
 "cells": [
  {
   "cell_type": "code",
   "execution_count": 1,
   "metadata": {},
   "outputs": [
    {
     "data": {
      "text/plain": [
       "'بِسْمِ اللهِ الرَّحْمٰنِ الرَّحِيْمِ'"
      ]
     },
     "execution_count": 1,
     "metadata": {},
     "output_type": "execute_result"
    }
   ],
   "source": [
    "'''بِسْمِ اللهِ الرَّحْمٰنِ الرَّحِيْمِ'''"
   ]
  },
  {
   "cell_type": "code",
   "execution_count": 2,
   "metadata": {},
   "outputs": [
    {
     "data": {
      "text/plain": [
       "'سُبْحَـٰنَكَ لَا عِلْمَ لَنَآ إِلَّا مَا عَلَّمْتَنَآ ۖ إِنَّكَ أَنتَ الْعَلِيمُ الْحَكِيمُ'"
      ]
     },
     "execution_count": 2,
     "metadata": {},
     "output_type": "execute_result"
    }
   ],
   "source": [
    "'''سُبْحَـٰنَكَ لَا عِلْمَ لَنَآ إِلَّا مَا عَلَّمْتَنَآ ۖ إِنَّكَ أَنتَ الْعَلِيمُ الْحَكِيمُ'''"
   ]
  },
  {
   "cell_type": "code",
   "execution_count": 101,
   "metadata": {},
   "outputs": [
    {
     "data": {
      "text/html": [
       "\n",
       "<style>\n",
       "    * {\n",
       "        font-family: Monaco;\n",
       "        font-size: 21px !important;\n",
       "    }\n",
       "</style>\n"
      ],
      "text/plain": [
       "<IPython.core.display.HTML object>"
      ]
     },
     "execution_count": 101,
     "metadata": {},
     "output_type": "execute_result"
    }
   ],
   "source": [
    "from IPython.core.display import HTML\n",
    "HTML(r\"\"\"\n",
    "<style>\n",
    "    * {\n",
    "        font-family: Monaco;\n",
    "        # font-size: 21px !important;\n",
    "    }\n",
    "</style>\n",
    "\"\"\")"
   ]
  },
  {
   "cell_type": "code",
   "execution_count": 43,
   "metadata": {},
   "outputs": [
    {
     "name": "stdout",
     "output_type": "stream",
     "text": [
      "Exception reporting mode: Minimal\n"
     ]
    },
    {
     "data": {
      "text/plain": [
       "12"
      ]
     },
     "execution_count": 43,
     "metadata": {},
     "output_type": "execute_result"
    }
   ],
   "source": [
    "%xmode Minimal\n",
    "import os,sys,warnings,time,re,gc\n",
    "from IPython.display import clear_output\n",
    "warnings.filterwarnings(\"ignore\")\n",
    "from typing import Literal,Optional\n",
    "from pathlib import Path\n",
    "import numpy as np\n",
    "import polars as pl\n",
    "import polars.selectors as cs\n",
    "import pandas as pd\n",
    "import plotly.express as px\n",
    "import plotly.graph_objects as go\n",
    "import plotly.io as pio\n",
    "pio.templates[\"mod\"] = go.layout.Template(layout=dict(font=dict(family=\"Monaco\",size=12)))\n",
    "pio.templates.default = \"plotly_dark+mod\"\n",
    "from plotly.subplots import make_subplots\n",
    "import hvplot as hv\n",
    "os.cpu_count()"
   ]
  },
  {
   "cell_type": "code",
   "execution_count": 5,
   "metadata": {},
   "outputs": [
    {
     "data": {
      "application/javascript": "(function(root) {\n  function now() {\n    return new Date();\n  }\n\n  var force = true;\n  var py_version = '3.3.4'.replace('rc', '-rc.').replace('.dev', '-dev.');\n  var reloading = false;\n  var Bokeh = root.Bokeh;\n\n  if (typeof (root._bokeh_timeout) === \"undefined\" || force) {\n    root._bokeh_timeout = Date.now() + 5000;\n    root._bokeh_failed_load = false;\n  }\n\n  function run_callbacks() {\n    try {\n      root._bokeh_onload_callbacks.forEach(function(callback) {\n        if (callback != null)\n          callback();\n      });\n    } finally {\n      delete root._bokeh_onload_callbacks;\n    }\n    console.debug(\"Bokeh: all callbacks have finished\");\n  }\n\n  function load_libs(css_urls, js_urls, js_modules, js_exports, callback) {\n    if (css_urls == null) css_urls = [];\n    if (js_urls == null) js_urls = [];\n    if (js_modules == null) js_modules = [];\n    if (js_exports == null) js_exports = {};\n\n    root._bokeh_onload_callbacks.push(callback);\n\n    if (root._bokeh_is_loading > 0) {\n      console.debug(\"Bokeh: BokehJS is being loaded, scheduling callback at\", now());\n      return null;\n    }\n    if (js_urls.length === 0 && js_modules.length === 0 && Object.keys(js_exports).length === 0) {\n      run_callbacks();\n      return null;\n    }\n    if (!reloading) {\n      console.debug(\"Bokeh: BokehJS not loaded, scheduling load and callback at\", now());\n    }\n\n    function on_load() {\n      root._bokeh_is_loading--;\n      if (root._bokeh_is_loading === 0) {\n        console.debug(\"Bokeh: all BokehJS libraries/stylesheets loaded\");\n        run_callbacks()\n      }\n    }\n    window._bokeh_on_load = on_load\n\n    function on_error() {\n      console.error(\"failed to load \" + url);\n    }\n\n    var skip = [];\n    if (window.requirejs) {\n      window.requirejs.config({'packages': {}, 'paths': {'plotly': 'https://cdn.plot.ly/plotly-2.25.2.min', 'jspanel': 'https://cdn.jsdelivr.net/npm/jspanel4@4.12.0/dist/jspanel', 'jspanel-modal': 'https://cdn.jsdelivr.net/npm/jspanel4@4.12.0/dist/extensions/modal/jspanel.modal', 'jspanel-tooltip': 'https://cdn.jsdelivr.net/npm/jspanel4@4.12.0/dist/extensions/tooltip/jspanel.tooltip', 'jspanel-hint': 'https://cdn.jsdelivr.net/npm/jspanel4@4.12.0/dist/extensions/hint/jspanel.hint', 'jspanel-layout': 'https://cdn.jsdelivr.net/npm/jspanel4@4.12.0/dist/extensions/layout/jspanel.layout', 'jspanel-contextmenu': 'https://cdn.jsdelivr.net/npm/jspanel4@4.12.0/dist/extensions/contextmenu/jspanel.contextmenu', 'jspanel-dock': 'https://cdn.jsdelivr.net/npm/jspanel4@4.12.0/dist/extensions/dock/jspanel.dock', 'gridstack': 'https://cdn.jsdelivr.net/npm/gridstack@7.2.3/dist/gridstack-all', 'notyf': 'https://cdn.jsdelivr.net/npm/notyf@3/notyf.min'}, 'shim': {'jspanel': {'exports': 'jsPanel'}, 'gridstack': {'exports': 'GridStack'}}});\n      require([\"plotly\"], function(Plotly) {\n\twindow.Plotly = Plotly\n\ton_load()\n      })\n      require([\"jspanel\"], function(jsPanel) {\n\twindow.jsPanel = jsPanel\n\ton_load()\n      })\n      require([\"jspanel-modal\"], function() {\n\ton_load()\n      })\n      require([\"jspanel-tooltip\"], function() {\n\ton_load()\n      })\n      require([\"jspanel-hint\"], function() {\n\ton_load()\n      })\n      require([\"jspanel-layout\"], function() {\n\ton_load()\n      })\n      require([\"jspanel-contextmenu\"], function() {\n\ton_load()\n      })\n      require([\"jspanel-dock\"], function() {\n\ton_load()\n      })\n      require([\"gridstack\"], function(GridStack) {\n\twindow.GridStack = GridStack\n\ton_load()\n      })\n      require([\"notyf\"], function() {\n\ton_load()\n      })\n      root._bokeh_is_loading = css_urls.length + 10;\n    } else {\n      root._bokeh_is_loading = css_urls.length + js_urls.length + js_modules.length + Object.keys(js_exports).length;\n    }\n\n    var existing_stylesheets = []\n    var links = document.getElementsByTagName('link')\n    for (var i = 0; i < links.length; i++) {\n      var link = links[i]\n      if (link.href != null) {\n\texisting_stylesheets.push(link.href)\n      }\n    }\n    for (var i = 0; i < css_urls.length; i++) {\n      var url = css_urls[i];\n      if (existing_stylesheets.indexOf(url) !== -1) {\n\ton_load()\n\tcontinue;\n      }\n      const element = document.createElement(\"link\");\n      element.onload = on_load;\n      element.onerror = on_error;\n      element.rel = \"stylesheet\";\n      element.type = \"text/css\";\n      element.href = url;\n      console.debug(\"Bokeh: injecting link tag for BokehJS stylesheet: \", url);\n      document.body.appendChild(element);\n    }    if (((window['Plotly'] !== undefined) && (!(window['Plotly'] instanceof HTMLElement))) || window.requirejs) {\n      var urls = ['https://cdn.holoviz.org/panel/1.3.8/dist/bundled/plotlyplot/plotly-2.25.2.min.js'];\n      for (var i = 0; i < urls.length; i++) {\n        skip.push(urls[i])\n      }\n    }    if (((window['jsPanel'] !== undefined) && (!(window['jsPanel'] instanceof HTMLElement))) || window.requirejs) {\n      var urls = ['https://cdn.holoviz.org/panel/1.3.8/dist/bundled/floatpanel/jspanel4@4.12.0/dist/jspanel.js', 'https://cdn.holoviz.org/panel/1.3.8/dist/bundled/floatpanel/jspanel4@4.12.0/dist/extensions/modal/jspanel.modal.js', 'https://cdn.holoviz.org/panel/1.3.8/dist/bundled/floatpanel/jspanel4@4.12.0/dist/extensions/tooltip/jspanel.tooltip.js', 'https://cdn.holoviz.org/panel/1.3.8/dist/bundled/floatpanel/jspanel4@4.12.0/dist/extensions/hint/jspanel.hint.js', 'https://cdn.holoviz.org/panel/1.3.8/dist/bundled/floatpanel/jspanel4@4.12.0/dist/extensions/layout/jspanel.layout.js', 'https://cdn.holoviz.org/panel/1.3.8/dist/bundled/floatpanel/jspanel4@4.12.0/dist/extensions/contextmenu/jspanel.contextmenu.js', 'https://cdn.holoviz.org/panel/1.3.8/dist/bundled/floatpanel/jspanel4@4.12.0/dist/extensions/dock/jspanel.dock.js'];\n      for (var i = 0; i < urls.length; i++) {\n        skip.push(urls[i])\n      }\n    }    if (((window['GridStack'] !== undefined) && (!(window['GridStack'] instanceof HTMLElement))) || window.requirejs) {\n      var urls = ['https://cdn.holoviz.org/panel/1.3.8/dist/bundled/gridstack/gridstack@7.2.3/dist/gridstack-all.js'];\n      for (var i = 0; i < urls.length; i++) {\n        skip.push(urls[i])\n      }\n    }    if (((window['Notyf'] !== undefined) && (!(window['Notyf'] instanceof HTMLElement))) || window.requirejs) {\n      var urls = ['https://cdn.holoviz.org/panel/1.3.8/dist/bundled/notificationarea/notyf@3/notyf.min.js'];\n      for (var i = 0; i < urls.length; i++) {\n        skip.push(urls[i])\n      }\n    }    var existing_scripts = []\n    var scripts = document.getElementsByTagName('script')\n    for (var i = 0; i < scripts.length; i++) {\n      var script = scripts[i]\n      if (script.src != null) {\n\texisting_scripts.push(script.src)\n      }\n    }\n    for (var i = 0; i < js_urls.length; i++) {\n      var url = js_urls[i];\n      if (skip.indexOf(url) !== -1 || existing_scripts.indexOf(url) !== -1) {\n\tif (!window.requirejs) {\n\t  on_load();\n\t}\n\tcontinue;\n      }\n      var element = document.createElement('script');\n      element.onload = on_load;\n      element.onerror = on_error;\n      element.async = false;\n      element.src = url;\n      console.debug(\"Bokeh: injecting script tag for BokehJS library: \", url);\n      document.head.appendChild(element);\n    }\n    for (var i = 0; i < js_modules.length; i++) {\n      var url = js_modules[i];\n      if (skip.indexOf(url) !== -1 || existing_scripts.indexOf(url) !== -1) {\n\tif (!window.requirejs) {\n\t  on_load();\n\t}\n\tcontinue;\n      }\n      var element = document.createElement('script');\n      element.onload = on_load;\n      element.onerror = on_error;\n      element.async = false;\n      element.src = url;\n      element.type = \"module\";\n      console.debug(\"Bokeh: injecting script tag for BokehJS library: \", url);\n      document.head.appendChild(element);\n    }\n    for (const name in js_exports) {\n      var url = js_exports[name];\n      if (skip.indexOf(url) >= 0 || root[name] != null) {\n\tif (!window.requirejs) {\n\t  on_load();\n\t}\n\tcontinue;\n      }\n      var element = document.createElement('script');\n      element.onerror = on_error;\n      element.async = false;\n      element.type = \"module\";\n      console.debug(\"Bokeh: injecting script tag for BokehJS library: \", url);\n      element.textContent = `\n      import ${name} from \"${url}\"\n      window.${name} = ${name}\n      window._bokeh_on_load()\n      `\n      document.head.appendChild(element);\n    }\n    if (!js_urls.length && !js_modules.length) {\n      on_load()\n    }\n  };\n\n  function inject_raw_css(css) {\n    const element = document.createElement(\"style\");\n    element.appendChild(document.createTextNode(css));\n    document.body.appendChild(element);\n  }\n\n  var js_urls = [\"https://cdn.holoviz.org/panel/1.3.8/dist/bundled/jquery/jquery.slim.min.js\", \"https://cdn.holoviz.org/panel/1.3.8/dist/bundled/plotlyplot/plotly-2.25.2.min.js\", \"https://cdn.bokeh.org/bokeh/release/bokeh-3.3.4.min.js\", \"https://cdn.bokeh.org/bokeh/release/bokeh-gl-3.3.4.min.js\", \"https://cdn.bokeh.org/bokeh/release/bokeh-widgets-3.3.4.min.js\", \"https://cdn.bokeh.org/bokeh/release/bokeh-tables-3.3.4.min.js\", \"https://cdn.holoviz.org/panel/1.3.8/dist/panel.min.js\"];\n  var js_modules = [];\n  var js_exports = {};\n  var css_urls = [];\n  var inline_js = [    function(Bokeh) {\n      Bokeh.set_log_level(\"info\");\n    },\nfunction(Bokeh) {} // ensure no trailing comma for IE\n  ];\n\n  function run_inline_js() {\n    if ((root.Bokeh !== undefined) || (force === true)) {\n      for (var i = 0; i < inline_js.length; i++) {\n\ttry {\n          inline_js[i].call(root, root.Bokeh);\n\t} catch(e) {\n\t  if (!reloading) {\n\t    throw e;\n\t  }\n\t}\n      }\n      // Cache old bokeh versions\n      if (Bokeh != undefined && !reloading) {\n\tvar NewBokeh = root.Bokeh;\n\tif (Bokeh.versions === undefined) {\n\t  Bokeh.versions = new Map();\n\t}\n\tif (NewBokeh.version !== Bokeh.version) {\n\t  Bokeh.versions.set(NewBokeh.version, NewBokeh)\n\t}\n\troot.Bokeh = Bokeh;\n      }} else if (Date.now() < root._bokeh_timeout) {\n      setTimeout(run_inline_js, 100);\n    } else if (!root._bokeh_failed_load) {\n      console.log(\"Bokeh: BokehJS failed to load within specified timeout.\");\n      root._bokeh_failed_load = true;\n    }\n    root._bokeh_is_initializing = false\n  }\n\n  function load_or_wait() {\n    // Implement a backoff loop that tries to ensure we do not load multiple\n    // versions of Bokeh and its dependencies at the same time.\n    // In recent versions we use the root._bokeh_is_initializing flag\n    // to determine whether there is an ongoing attempt to initialize\n    // bokeh, however for backward compatibility we also try to ensure\n    // that we do not start loading a newer (Panel>=1.0 and Bokeh>3) version\n    // before older versions are fully initialized.\n    if (root._bokeh_is_initializing && Date.now() > root._bokeh_timeout) {\n      root._bokeh_is_initializing = false;\n      root._bokeh_onload_callbacks = undefined;\n      console.log(\"Bokeh: BokehJS was loaded multiple times but one version failed to initialize.\");\n      load_or_wait();\n    } else if (root._bokeh_is_initializing || (typeof root._bokeh_is_initializing === \"undefined\" && root._bokeh_onload_callbacks !== undefined)) {\n      setTimeout(load_or_wait, 100);\n    } else {\n      root._bokeh_is_initializing = true\n      root._bokeh_onload_callbacks = []\n      var bokeh_loaded = Bokeh != null && (Bokeh.version === py_version || (Bokeh.versions !== undefined && Bokeh.versions.has(py_version)));\n      if (!reloading && !bokeh_loaded) {\n\troot.Bokeh = undefined;\n      }\n      load_libs(css_urls, js_urls, js_modules, js_exports, function() {\n\tconsole.debug(\"Bokeh: BokehJS plotting callback run at\", now());\n\trun_inline_js();\n      });\n    }\n  }\n  // Give older versions of the autoload script a head-start to ensure\n  // they initialize before we start loading newer version.\n  setTimeout(load_or_wait, 100)\n}(window));",
      "application/vnd.holoviews_load.v0+json": ""
     },
     "metadata": {},
     "output_type": "display_data"
    },
    {
     "data": {
      "application/javascript": "\nif ((window.PyViz === undefined) || (window.PyViz instanceof HTMLElement)) {\n  window.PyViz = {comms: {}, comm_status:{}, kernels:{}, receivers: {}, plot_index: []}\n}\n\n\n    function JupyterCommManager() {\n    }\n\n    JupyterCommManager.prototype.register_target = function(plot_id, comm_id, msg_handler) {\n      if (window.comm_manager || ((window.Jupyter !== undefined) && (Jupyter.notebook.kernel != null))) {\n        var comm_manager = window.comm_manager || Jupyter.notebook.kernel.comm_manager;\n        comm_manager.register_target(comm_id, function(comm) {\n          comm.on_msg(msg_handler);\n        });\n      } else if ((plot_id in window.PyViz.kernels) && (window.PyViz.kernels[plot_id])) {\n        window.PyViz.kernels[plot_id].registerCommTarget(comm_id, function(comm) {\n          comm.onMsg = msg_handler;\n        });\n      } else if (typeof google != 'undefined' && google.colab.kernel != null) {\n        google.colab.kernel.comms.registerTarget(comm_id, (comm) => {\n          var messages = comm.messages[Symbol.asyncIterator]();\n          function processIteratorResult(result) {\n            var message = result.value;\n            console.log(message)\n            var content = {data: message.data, comm_id};\n            var buffers = []\n            for (var buffer of message.buffers || []) {\n              buffers.push(new DataView(buffer))\n            }\n            var metadata = message.metadata || {};\n            var msg = {content, buffers, metadata}\n            msg_handler(msg);\n            return messages.next().then(processIteratorResult);\n          }\n          return messages.next().then(processIteratorResult);\n        })\n      }\n    }\n\n    JupyterCommManager.prototype.get_client_comm = function(plot_id, comm_id, msg_handler) {\n      if (comm_id in window.PyViz.comms) {\n        return window.PyViz.comms[comm_id];\n      } else if (window.comm_manager || ((window.Jupyter !== undefined) && (Jupyter.notebook.kernel != null))) {\n        var comm_manager = window.comm_manager || Jupyter.notebook.kernel.comm_manager;\n        var comm = comm_manager.new_comm(comm_id, {}, {}, {}, comm_id);\n        if (msg_handler) {\n          comm.on_msg(msg_handler);\n        }\n      } else if ((plot_id in window.PyViz.kernels) && (window.PyViz.kernels[plot_id])) {\n        var comm = window.PyViz.kernels[plot_id].connectToComm(comm_id);\n        comm.open();\n        if (msg_handler) {\n          comm.onMsg = msg_handler;\n        }\n      } else if (typeof google != 'undefined' && google.colab.kernel != null) {\n        var comm_promise = google.colab.kernel.comms.open(comm_id)\n        comm_promise.then((comm) => {\n          window.PyViz.comms[comm_id] = comm;\n          if (msg_handler) {\n            var messages = comm.messages[Symbol.asyncIterator]();\n            function processIteratorResult(result) {\n              var message = result.value;\n              var content = {data: message.data};\n              var metadata = message.metadata || {comm_id};\n              var msg = {content, metadata}\n              msg_handler(msg);\n              return messages.next().then(processIteratorResult);\n            }\n            return messages.next().then(processIteratorResult);\n          }\n        }) \n        var sendClosure = (data, metadata, buffers, disposeOnDone) => {\n          return comm_promise.then((comm) => {\n            comm.send(data, metadata, buffers, disposeOnDone);\n          });\n        };\n        var comm = {\n          send: sendClosure\n        };\n      }\n      window.PyViz.comms[comm_id] = comm;\n      return comm;\n    }\n    window.PyViz.comm_manager = new JupyterCommManager();\n    \n\n\nvar JS_MIME_TYPE = 'application/javascript';\nvar HTML_MIME_TYPE = 'text/html';\nvar EXEC_MIME_TYPE = 'application/vnd.holoviews_exec.v0+json';\nvar CLASS_NAME = 'output';\n\n/**\n * Render data to the DOM node\n */\nfunction render(props, node) {\n  var div = document.createElement(\"div\");\n  var script = document.createElement(\"script\");\n  node.appendChild(div);\n  node.appendChild(script);\n}\n\n/**\n * Handle when a new output is added\n */\nfunction handle_add_output(event, handle) {\n  var output_area = handle.output_area;\n  var output = handle.output;\n  if ((output.data == undefined) || (!output.data.hasOwnProperty(EXEC_MIME_TYPE))) {\n    return\n  }\n  var id = output.metadata[EXEC_MIME_TYPE][\"id\"];\n  var toinsert = output_area.element.find(\".\" + CLASS_NAME.split(' ')[0]);\n  if (id !== undefined) {\n    var nchildren = toinsert.length;\n    var html_node = toinsert[nchildren-1].children[0];\n    html_node.innerHTML = output.data[HTML_MIME_TYPE];\n    var scripts = [];\n    var nodelist = html_node.querySelectorAll(\"script\");\n    for (var i in nodelist) {\n      if (nodelist.hasOwnProperty(i)) {\n        scripts.push(nodelist[i])\n      }\n    }\n\n    scripts.forEach( function (oldScript) {\n      var newScript = document.createElement(\"script\");\n      var attrs = [];\n      var nodemap = oldScript.attributes;\n      for (var j in nodemap) {\n        if (nodemap.hasOwnProperty(j)) {\n          attrs.push(nodemap[j])\n        }\n      }\n      attrs.forEach(function(attr) { newScript.setAttribute(attr.name, attr.value) });\n      newScript.appendChild(document.createTextNode(oldScript.innerHTML));\n      oldScript.parentNode.replaceChild(newScript, oldScript);\n    });\n    if (JS_MIME_TYPE in output.data) {\n      toinsert[nchildren-1].children[1].textContent = output.data[JS_MIME_TYPE];\n    }\n    output_area._hv_plot_id = id;\n    if ((window.Bokeh !== undefined) && (id in Bokeh.index)) {\n      window.PyViz.plot_index[id] = Bokeh.index[id];\n    } else {\n      window.PyViz.plot_index[id] = null;\n    }\n  } else if (output.metadata[EXEC_MIME_TYPE][\"server_id\"] !== undefined) {\n    var bk_div = document.createElement(\"div\");\n    bk_div.innerHTML = output.data[HTML_MIME_TYPE];\n    var script_attrs = bk_div.children[0].attributes;\n    for (var i = 0; i < script_attrs.length; i++) {\n      toinsert[toinsert.length - 1].childNodes[1].setAttribute(script_attrs[i].name, script_attrs[i].value);\n    }\n    // store reference to server id on output_area\n    output_area._bokeh_server_id = output.metadata[EXEC_MIME_TYPE][\"server_id\"];\n  }\n}\n\n/**\n * Handle when an output is cleared or removed\n */\nfunction handle_clear_output(event, handle) {\n  var id = handle.cell.output_area._hv_plot_id;\n  var server_id = handle.cell.output_area._bokeh_server_id;\n  if (((id === undefined) || !(id in PyViz.plot_index)) && (server_id !== undefined)) { return; }\n  var comm = window.PyViz.comm_manager.get_client_comm(\"hv-extension-comm\", \"hv-extension-comm\", function () {});\n  if (server_id !== null) {\n    comm.send({event_type: 'server_delete', 'id': server_id});\n    return;\n  } else if (comm !== null) {\n    comm.send({event_type: 'delete', 'id': id});\n  }\n  delete PyViz.plot_index[id];\n  if ((window.Bokeh !== undefined) & (id in window.Bokeh.index)) {\n    var doc = window.Bokeh.index[id].model.document\n    doc.clear();\n    const i = window.Bokeh.documents.indexOf(doc);\n    if (i > -1) {\n      window.Bokeh.documents.splice(i, 1);\n    }\n  }\n}\n\n/**\n * Handle kernel restart event\n */\nfunction handle_kernel_cleanup(event, handle) {\n  delete PyViz.comms[\"hv-extension-comm\"];\n  window.PyViz.plot_index = {}\n}\n\n/**\n * Handle update_display_data messages\n */\nfunction handle_update_output(event, handle) {\n  handle_clear_output(event, {cell: {output_area: handle.output_area}})\n  handle_add_output(event, handle)\n}\n\nfunction register_renderer(events, OutputArea) {\n  function append_mime(data, metadata, element) {\n    // create a DOM node to render to\n    var toinsert = this.create_output_subarea(\n    metadata,\n    CLASS_NAME,\n    EXEC_MIME_TYPE\n    );\n    this.keyboard_manager.register_events(toinsert);\n    // Render to node\n    var props = {data: data, metadata: metadata[EXEC_MIME_TYPE]};\n    render(props, toinsert[0]);\n    element.append(toinsert);\n    return toinsert\n  }\n\n  events.on('output_added.OutputArea', handle_add_output);\n  events.on('output_updated.OutputArea', handle_update_output);\n  events.on('clear_output.CodeCell', handle_clear_output);\n  events.on('delete.Cell', handle_clear_output);\n  events.on('kernel_ready.Kernel', handle_kernel_cleanup);\n\n  OutputArea.prototype.register_mime_type(EXEC_MIME_TYPE, append_mime, {\n    safe: true,\n    index: 0\n  });\n}\n\nif (window.Jupyter !== undefined) {\n  try {\n    var events = require('base/js/events');\n    var OutputArea = require('notebook/js/outputarea').OutputArea;\n    if (OutputArea.prototype.mime_types().indexOf(EXEC_MIME_TYPE) == -1) {\n      register_renderer(events, OutputArea);\n    }\n  } catch(err) {\n  }\n}\n",
      "application/vnd.holoviews_load.v0+json": ""
     },
     "metadata": {},
     "output_type": "display_data"
    },
    {
     "data": {
      "text/html": [
       "<style>*[data-root-id],\n",
       "*[data-root-id] > * {\n",
       "  box-sizing: border-box;\n",
       "  font-family: var(--jp-ui-font-family);\n",
       "  font-size: var(--jp-ui-font-size1);\n",
       "  color: var(--vscode-editor-foreground, var(--jp-ui-font-color1));\n",
       "}\n",
       "\n",
       "/* Override VSCode background color */\n",
       ".cell-output-ipywidget-background:has(\n",
       "    > .cell-output-ipywidget-background > .lm-Widget > *[data-root-id]\n",
       "  ),\n",
       ".cell-output-ipywidget-background:has(> .lm-Widget > *[data-root-id]) {\n",
       "  background-color: transparent !important;\n",
       "}\n",
       "</style>"
      ]
     },
     "metadata": {},
     "output_type": "display_data"
    },
    {
     "data": {
      "application/vnd.holoviews_exec.v0+json": "",
      "text/html": [
       "<div id='p1002'>\n",
       "  <div id=\"e90563ef-983c-4f2f-9753-19a37b8773a3\" data-root-id=\"p1002\" style=\"display: contents;\"></div>\n",
       "</div>\n",
       "<script type=\"application/javascript\">(function(root) {\n",
       "  var docs_json = {\"b7205cfd-dbb0-43fc-87d8-5982f7bdeea8\":{\"version\":\"3.3.4\",\"title\":\"Bokeh Application\",\"roots\":[{\"type\":\"object\",\"name\":\"panel.models.browser.BrowserInfo\",\"id\":\"p1002\"},{\"type\":\"object\",\"name\":\"panel.models.comm_manager.CommManager\",\"id\":\"p1003\",\"attributes\":{\"plot_id\":\"p1002\",\"comm_id\":\"c59cf3b263c040a494e377232eeb227c\",\"client_comm_id\":\"98276fcebd3a4d33a942bcd3e0ca8dff\"}}],\"defs\":[{\"type\":\"model\",\"name\":\"ReactiveHTML1\"},{\"type\":\"model\",\"name\":\"FlexBox1\",\"properties\":[{\"name\":\"align_content\",\"kind\":\"Any\",\"default\":\"flex-start\"},{\"name\":\"align_items\",\"kind\":\"Any\",\"default\":\"flex-start\"},{\"name\":\"flex_direction\",\"kind\":\"Any\",\"default\":\"row\"},{\"name\":\"flex_wrap\",\"kind\":\"Any\",\"default\":\"wrap\"},{\"name\":\"justify_content\",\"kind\":\"Any\",\"default\":\"flex-start\"}]},{\"type\":\"model\",\"name\":\"FloatPanel1\",\"properties\":[{\"name\":\"config\",\"kind\":\"Any\",\"default\":{\"type\":\"map\"}},{\"name\":\"contained\",\"kind\":\"Any\",\"default\":true},{\"name\":\"position\",\"kind\":\"Any\",\"default\":\"right-top\"},{\"name\":\"offsetx\",\"kind\":\"Any\",\"default\":null},{\"name\":\"offsety\",\"kind\":\"Any\",\"default\":null},{\"name\":\"theme\",\"kind\":\"Any\",\"default\":\"primary\"},{\"name\":\"status\",\"kind\":\"Any\",\"default\":\"normalized\"}]},{\"type\":\"model\",\"name\":\"GridStack1\",\"properties\":[{\"name\":\"mode\",\"kind\":\"Any\",\"default\":\"warn\"},{\"name\":\"ncols\",\"kind\":\"Any\",\"default\":null},{\"name\":\"nrows\",\"kind\":\"Any\",\"default\":null},{\"name\":\"allow_resize\",\"kind\":\"Any\",\"default\":true},{\"name\":\"allow_drag\",\"kind\":\"Any\",\"default\":true},{\"name\":\"state\",\"kind\":\"Any\",\"default\":[]}]},{\"type\":\"model\",\"name\":\"drag1\",\"properties\":[{\"name\":\"slider_width\",\"kind\":\"Any\",\"default\":5},{\"name\":\"slider_color\",\"kind\":\"Any\",\"default\":\"black\"},{\"name\":\"value\",\"kind\":\"Any\",\"default\":50}]},{\"type\":\"model\",\"name\":\"click1\",\"properties\":[{\"name\":\"terminal_output\",\"kind\":\"Any\",\"default\":\"\"},{\"name\":\"debug_name\",\"kind\":\"Any\",\"default\":\"\"},{\"name\":\"clears\",\"kind\":\"Any\",\"default\":0}]},{\"type\":\"model\",\"name\":\"copy_to_clipboard1\",\"properties\":[{\"name\":\"fill\",\"kind\":\"Any\",\"default\":\"none\"},{\"name\":\"value\",\"kind\":\"Any\",\"default\":null}]},{\"type\":\"model\",\"name\":\"FastWrapper1\",\"properties\":[{\"name\":\"object\",\"kind\":\"Any\",\"default\":null},{\"name\":\"style\",\"kind\":\"Any\",\"default\":null}]},{\"type\":\"model\",\"name\":\"NotificationAreaBase1\",\"properties\":[{\"name\":\"js_events\",\"kind\":\"Any\",\"default\":{\"type\":\"map\"}},{\"name\":\"position\",\"kind\":\"Any\",\"default\":\"bottom-right\"},{\"name\":\"_clear\",\"kind\":\"Any\",\"default\":0}]},{\"type\":\"model\",\"name\":\"NotificationArea1\",\"properties\":[{\"name\":\"js_events\",\"kind\":\"Any\",\"default\":{\"type\":\"map\"}},{\"name\":\"notifications\",\"kind\":\"Any\",\"default\":[]},{\"name\":\"position\",\"kind\":\"Any\",\"default\":\"bottom-right\"},{\"name\":\"_clear\",\"kind\":\"Any\",\"default\":0},{\"name\":\"types\",\"kind\":\"Any\",\"default\":[{\"type\":\"map\",\"entries\":[[\"type\",\"warning\"],[\"background\",\"#ffc107\"],[\"icon\",{\"type\":\"map\",\"entries\":[[\"className\",\"fas fa-exclamation-triangle\"],[\"tagName\",\"i\"],[\"color\",\"white\"]]}]]},{\"type\":\"map\",\"entries\":[[\"type\",\"info\"],[\"background\",\"#007bff\"],[\"icon\",{\"type\":\"map\",\"entries\":[[\"className\",\"fas fa-info-circle\"],[\"tagName\",\"i\"],[\"color\",\"white\"]]}]]}]}]},{\"type\":\"model\",\"name\":\"Notification\",\"properties\":[{\"name\":\"background\",\"kind\":\"Any\",\"default\":null},{\"name\":\"duration\",\"kind\":\"Any\",\"default\":3000},{\"name\":\"icon\",\"kind\":\"Any\",\"default\":null},{\"name\":\"message\",\"kind\":\"Any\",\"default\":\"\"},{\"name\":\"notification_type\",\"kind\":\"Any\",\"default\":null},{\"name\":\"_destroyed\",\"kind\":\"Any\",\"default\":false}]},{\"type\":\"model\",\"name\":\"TemplateActions1\",\"properties\":[{\"name\":\"open_modal\",\"kind\":\"Any\",\"default\":0},{\"name\":\"close_modal\",\"kind\":\"Any\",\"default\":0}]},{\"type\":\"model\",\"name\":\"BootstrapTemplateActions1\",\"properties\":[{\"name\":\"open_modal\",\"kind\":\"Any\",\"default\":0},{\"name\":\"close_modal\",\"kind\":\"Any\",\"default\":0}]},{\"type\":\"model\",\"name\":\"MaterialTemplateActions1\",\"properties\":[{\"name\":\"open_modal\",\"kind\":\"Any\",\"default\":0},{\"name\":\"close_modal\",\"kind\":\"Any\",\"default\":0}]}]}};\n",
       "  var render_items = [{\"docid\":\"b7205cfd-dbb0-43fc-87d8-5982f7bdeea8\",\"roots\":{\"p1002\":\"e90563ef-983c-4f2f-9753-19a37b8773a3\"},\"root_ids\":[\"p1002\"]}];\n",
       "  var docs = Object.values(docs_json)\n",
       "  if (!docs) {\n",
       "    return\n",
       "  }\n",
       "  const py_version = docs[0].version.replace('rc', '-rc.').replace('.dev', '-dev.')\n",
       "  function embed_document(root) {\n",
       "    var Bokeh = get_bokeh(root)\n",
       "    Bokeh.embed.embed_items_notebook(docs_json, render_items);\n",
       "    for (const render_item of render_items) {\n",
       "      for (const root_id of render_item.root_ids) {\n",
       "\tconst id_el = document.getElementById(root_id)\n",
       "\tif (id_el.children.length && (id_el.children[0].className === 'bk-root')) {\n",
       "\t  const root_el = id_el.children[0]\n",
       "\t  root_el.id = root_el.id + '-rendered'\n",
       "\t}\n",
       "      }\n",
       "    }\n",
       "  }\n",
       "  function get_bokeh(root) {\n",
       "    if (root.Bokeh === undefined) {\n",
       "      return null\n",
       "    } else if (root.Bokeh.version !== py_version) {\n",
       "      if (root.Bokeh.versions === undefined || !root.Bokeh.versions.has(py_version)) {\n",
       "\treturn null\n",
       "      }\n",
       "      return root.Bokeh.versions.get(py_version);\n",
       "    } else if (root.Bokeh.version === py_version) {\n",
       "      return root.Bokeh\n",
       "    }\n",
       "    return null\n",
       "  }\n",
       "  function is_loaded(root) {\n",
       "    var Bokeh = get_bokeh(root)\n",
       "    return (Bokeh != null && Bokeh.Panel !== undefined && ( root['Plotly'] !== undefined))\n",
       "  }\n",
       "  if (is_loaded(root)) {\n",
       "    embed_document(root);\n",
       "  } else {\n",
       "    var attempts = 0;\n",
       "    var timer = setInterval(function(root) {\n",
       "      if (is_loaded(root)) {\n",
       "        clearInterval(timer);\n",
       "        embed_document(root);\n",
       "      } else if (document.readyState == \"complete\") {\n",
       "        attempts++;\n",
       "        if (attempts > 200) {\n",
       "          clearInterval(timer);\n",
       "\t  var Bokeh = get_bokeh(root)\n",
       "\t  if (Bokeh == null || Bokeh.Panel == null) {\n",
       "            console.warn(\"Panel: ERROR: Unable to run Panel code because Bokeh or Panel library is missing\");\n",
       "\t  } else {\n",
       "\t    console.warn(\"Panel: WARNING: Attempting to render but not all required libraries could be resolved.\")\n",
       "\t    embed_document(root)\n",
       "\t  }\n",
       "        }\n",
       "      }\n",
       "    }, 25, root)\n",
       "  }\n",
       "})(window);</script>"
      ]
     },
     "metadata": {
      "application/vnd.holoviews_exec.v0+json": {
       "id": "p1002"
      }
     },
     "output_type": "display_data"
    }
   ],
   "source": [
    "hv.extension('plotly')"
   ]
  },
  {
   "cell_type": "code",
   "execution_count": 6,
   "metadata": {},
   "outputs": [
    {
     "data": {
      "text/plain": [
       "polars.config.Config"
      ]
     },
     "execution_count": 6,
     "metadata": {},
     "output_type": "execute_result"
    }
   ],
   "source": [
    "pl.Config.set_fmt_float(\"full\")\n",
    "pl.Config.set_fmt_str_lengths(200)\n",
    "pl.Config.set_float_precision(2)\n",
    "pl.Config.set_tbl_rows(32)"
   ]
  },
  {
   "cell_type": "code",
   "execution_count": 7,
   "metadata": {},
   "outputs": [
    {
     "name": "stdout",
     "output_type": "stream",
     "text": [
      "32\n"
     ]
    },
    {
     "data": {
      "text/html": [
       "<div><style>\n",
       ".dataframe > thead > tr,\n",
       ".dataframe > tbody > tr {\n",
       "  text-align: right;\n",
       "  white-space: pre-wrap;\n",
       "}\n",
       "</style>\n",
       "<small>shape: (32, 2)</small><table border=\"1\" class=\"dataframe\"><thead><tr><th>index</th><th>filename</th></tr><tr><td>i8</td><td>str</td></tr></thead><tbody><tr><td>0</td><td>&quot;train_applprev_1_0.parquet&quot;</td></tr><tr><td>1</td><td>&quot;train_applprev_1_1.parquet&quot;</td></tr><tr><td>2</td><td>&quot;train_applprev_2.parquet&quot;</td></tr><tr><td>3</td><td>&quot;train_base.parquet&quot;</td></tr><tr><td>4</td><td>&quot;train_credit_bureau_a_1_0.parquet&quot;</td></tr><tr><td>5</td><td>&quot;train_credit_bureau_a_1_1.parquet&quot;</td></tr><tr><td>6</td><td>&quot;train_credit_bureau_a_1_2.parquet&quot;</td></tr><tr><td>7</td><td>&quot;train_credit_bureau_a_1_3.parquet&quot;</td></tr><tr><td>8</td><td>&quot;train_credit_bureau_a_2_0.parquet&quot;</td></tr><tr><td>9</td><td>&quot;train_credit_bureau_a_2_1.parquet&quot;</td></tr><tr><td>10</td><td>&quot;train_credit_bureau_a_2_10.parquet&quot;</td></tr><tr><td>11</td><td>&quot;train_credit_bureau_a_2_2.parquet&quot;</td></tr><tr><td>12</td><td>&quot;train_credit_bureau_a_2_3.parquet&quot;</td></tr><tr><td>13</td><td>&quot;train_credit_bureau_a_2_4.parquet&quot;</td></tr><tr><td>14</td><td>&quot;train_credit_bureau_a_2_5.parquet&quot;</td></tr><tr><td>15</td><td>&quot;train_credit_bureau_a_2_6.parquet&quot;</td></tr><tr><td>16</td><td>&quot;train_credit_bureau_a_2_7.parquet&quot;</td></tr><tr><td>17</td><td>&quot;train_credit_bureau_a_2_8.parquet&quot;</td></tr><tr><td>18</td><td>&quot;train_credit_bureau_a_2_9.parquet&quot;</td></tr><tr><td>19</td><td>&quot;train_credit_bureau_b_1.parquet&quot;</td></tr><tr><td>20</td><td>&quot;train_credit_bureau_b_2.parquet&quot;</td></tr><tr><td>21</td><td>&quot;train_debitcard_1.parquet&quot;</td></tr><tr><td>22</td><td>&quot;train_deposit_1.parquet&quot;</td></tr><tr><td>23</td><td>&quot;train_other_1.parquet&quot;</td></tr><tr><td>24</td><td>&quot;train_person_1.parquet&quot;</td></tr><tr><td>25</td><td>&quot;train_person_2.parquet&quot;</td></tr><tr><td>26</td><td>&quot;train_static_0_0.parquet&quot;</td></tr><tr><td>27</td><td>&quot;train_static_0_1.parquet&quot;</td></tr><tr><td>28</td><td>&quot;train_static_cb_0.parquet&quot;</td></tr><tr><td>29</td><td>&quot;train_tax_registry_a_1.parquet&quot;</td></tr><tr><td>30</td><td>&quot;train_tax_registry_b_1.parquet&quot;</td></tr><tr><td>31</td><td>&quot;train_tax_registry_c_1.parquet&quot;</td></tr></tbody></table></div>"
      ],
      "text/plain": [
       "shape: (32, 2)\n",
       "┌───────┬────────────────────────────────────┐\n",
       "│ index ┆ filename                           │\n",
       "│ ---   ┆ ---                                │\n",
       "│ i8    ┆ str                                │\n",
       "╞═══════╪════════════════════════════════════╡\n",
       "│ 0     ┆ train_applprev_1_0.parquet         │\n",
       "│ 1     ┆ train_applprev_1_1.parquet         │\n",
       "│ 2     ┆ train_applprev_2.parquet           │\n",
       "│ 3     ┆ train_base.parquet                 │\n",
       "│ 4     ┆ train_credit_bureau_a_1_0.parquet  │\n",
       "│ 5     ┆ train_credit_bureau_a_1_1.parquet  │\n",
       "│ 6     ┆ train_credit_bureau_a_1_2.parquet  │\n",
       "│ 7     ┆ train_credit_bureau_a_1_3.parquet  │\n",
       "│ 8     ┆ train_credit_bureau_a_2_0.parquet  │\n",
       "│ 9     ┆ train_credit_bureau_a_2_1.parquet  │\n",
       "│ 10    ┆ train_credit_bureau_a_2_10.parquet │\n",
       "│ 11    ┆ train_credit_bureau_a_2_2.parquet  │\n",
       "│ 12    ┆ train_credit_bureau_a_2_3.parquet  │\n",
       "│ 13    ┆ train_credit_bureau_a_2_4.parquet  │\n",
       "│ 14    ┆ train_credit_bureau_a_2_5.parquet  │\n",
       "│ 15    ┆ train_credit_bureau_a_2_6.parquet  │\n",
       "│ 16    ┆ train_credit_bureau_a_2_7.parquet  │\n",
       "│ 17    ┆ train_credit_bureau_a_2_8.parquet  │\n",
       "│ 18    ┆ train_credit_bureau_a_2_9.parquet  │\n",
       "│ 19    ┆ train_credit_bureau_b_1.parquet    │\n",
       "│ 20    ┆ train_credit_bureau_b_2.parquet    │\n",
       "│ 21    ┆ train_debitcard_1.parquet          │\n",
       "│ 22    ┆ train_deposit_1.parquet            │\n",
       "│ 23    ┆ train_other_1.parquet              │\n",
       "│ 24    ┆ train_person_1.parquet             │\n",
       "│ 25    ┆ train_person_2.parquet             │\n",
       "│ 26    ┆ train_static_0_0.parquet           │\n",
       "│ 27    ┆ train_static_0_1.parquet           │\n",
       "│ 28    ┆ train_static_cb_0.parquet          │\n",
       "│ 29    ┆ train_tax_registry_a_1.parquet     │\n",
       "│ 30    ┆ train_tax_registry_b_1.parquet     │\n",
       "│ 31    ┆ train_tax_registry_c_1.parquet     │\n",
       "└───────┴────────────────────────────────────┘"
      ]
     },
     "execution_count": 7,
     "metadata": {},
     "output_type": "execute_result"
    }
   ],
   "source": [
    "path_to_train = Path(\"Downloads/credit_risk/train\")\n",
    "all_train_files = os.listdir(path_to_train)\n",
    "print(len(all_train_files))\n",
    "all_train_files.sort()\n",
    "all_files_df = (\n",
    "    pl.DataFrame({\n",
    "        \"index\":range(len(all_train_files)),\n",
    "        \"filename\":all_train_files\n",
    "    },\n",
    "    schema={\"index\":pl.Int8,\"filename\":pl.Utf8}\n",
    "    )\n",
    ")\n",
    "all_files_df"
   ]
  },
  {
   "cell_type": "code",
   "execution_count": 35,
   "metadata": {},
   "outputs": [
    {
     "name": "stdout",
     "output_type": "stream",
     "text": [
      "1869\n"
     ]
    },
    {
     "data": {
      "text/html": [
       "<div><style>\n",
       ".dataframe > thead > tr,\n",
       ".dataframe > tbody > tr {\n",
       "  text-align: right;\n",
       "  white-space: pre-wrap;\n",
       "}\n",
       "</style>\n",
       "<small>shape: (5, 2)</small><table border=\"1\" class=\"dataframe\"><thead><tr><th>Variable</th><th>Description</th></tr><tr><td>str</td><td>str</td></tr></thead><tbody><tr><td>&quot;actualdpd_943P&quot;</td><td>&quot;Days Past Due (DPD) of previous contract (actual).&quot;</td></tr><tr><td>&quot;actualdpdtolerance_344P&quot;</td><td>&quot;DPD of client with tolerance.&quot;</td></tr><tr><td>&quot;addres_district_368M&quot;</td><td>&quot;District of the person&#x27;s address.&quot;</td></tr><tr><td>&quot;addres_role_871L&quot;</td><td>&quot;Role of person&#x27;s address.&quot;</td></tr><tr><td>&quot;addres_zip_823M&quot;</td><td>&quot;Zip code of the address.&quot;</td></tr></tbody></table></div>"
      ],
      "text/plain": [
       "shape: (5, 2)\n",
       "┌─────────────────────────┬────────────────────────────────────────────────────┐\n",
       "│ Variable                ┆ Description                                        │\n",
       "│ ---                     ┆ ---                                                │\n",
       "│ str                     ┆ str                                                │\n",
       "╞═════════════════════════╪════════════════════════════════════════════════════╡\n",
       "│ actualdpd_943P          ┆ Days Past Due (DPD) of previous contract (actual). │\n",
       "│ actualdpdtolerance_344P ┆ DPD of client with tolerance.                      │\n",
       "│ addres_district_368M    ┆ District of the person's address.                  │\n",
       "│ addres_role_871L        ┆ Role of person's address.                          │\n",
       "│ addres_zip_823M         ┆ Zip code of the address.                           │\n",
       "└─────────────────────────┴────────────────────────────────────────────────────┘"
      ]
     },
     "execution_count": 35,
     "metadata": {},
     "output_type": "execute_result"
    }
   ],
   "source": [
    "feature_columns = (\n",
    "    pl.read_csv(\"Downloads/feature_definitions.csv\")\n",
    "    .select(\n",
    "        pl.all().shrink_dtype()\n",
    "    )\n",
    ")\n",
    "\n",
    "def rename_to_full(df:pl.LazyFrame) -> pl.DataFrame:    \n",
    "    rename_dict = {}\n",
    "    for _ in df.columns:\n",
    "        des_str = feature_columns.filter(pl.col(\"Variable\") == _)[\"Description\"].item() if _ not in [\"case_id\",\"num_group1\",\"num_group2\"] else \"\"\n",
    "        total_str = _+\"\\n\"+\"(\"+des_str+\")\" if _ not in [\"case_id\",\"num_group1\",\"num_group2\"] else _\n",
    "        rename_dict[_] = total_str\n",
    "    return df.rename(rename_dict)\n",
    "\n",
    "def preprocess(ind:int) -> pl.LazyFrame:\n",
    "    return (\n",
    "        pl.scan_parquet(path_to_train/all_train_files[ind])\n",
    "        .drop(cs.contains('date'))\n",
    "        .select(pl.all().shrink_dtype())\n",
    "        .pipe(rename_to_full)\n",
    "    )\n",
    "\n",
    "def plot_nulls(df:pl.LazyFrame):\n",
    "    l = df.collect().shape[0]\n",
    "    gc.collect()\n",
    "    return (\n",
    "        px.bar(\n",
    "            df\n",
    "            .null_count()\n",
    "            .collect()\n",
    "            .transpose(include_header=True)\n",
    "            .with_columns(\n",
    "                (pl.col(\"column_0\")/l).round(2).alias(\"percent\")\n",
    "            ),\n",
    "            x=\"column\",\n",
    "            y=\"column_0\",\n",
    "            color=\"column\",\n",
    "            hover_data=[\"column\",\"percent\"],\n",
    "            hover_name=\"column\",\n",
    "            height=900\n",
    "        )\n",
    "        .update_xaxes(showticklabels=False,title=\"All Columns\")\n",
    "        .update_yaxes(title=\"Null Counts\")\n",
    "        .update_layout(legend_tracegroupgap=10)\n",
    "        .add_hline(y=l,line=dict(dash=\"dashdot\"),annotation_text=\"Total rows\")\n",
    "    )\n",
    "\n",
    "print(gc.collect())\n",
    "feature_columns.head()"
   ]
  },
  {
   "cell_type": "markdown",
   "metadata": {},
   "source": [
    "## Base Files"
   ]
  },
  {
   "cell_type": "code",
   "execution_count": 9,
   "metadata": {},
   "outputs": [
    {
     "data": {
      "text/html": [
       "<div><style>\n",
       ".dataframe > thead > tr,\n",
       ".dataframe > tbody > tr {\n",
       "  text-align: right;\n",
       "  white-space: pre-wrap;\n",
       "}\n",
       "</style>\n",
       "<small>shape: (1, 2)</small><table border=\"1\" class=\"dataframe\"><thead><tr><th>index</th><th>filename</th></tr><tr><td>i8</td><td>str</td></tr></thead><tbody><tr><td>3</td><td>&quot;train_base.parquet&quot;</td></tr></tbody></table></div>"
      ],
      "text/plain": [
       "shape: (1, 2)\n",
       "┌───────┬────────────────────┐\n",
       "│ index ┆ filename           │\n",
       "│ ---   ┆ ---                │\n",
       "│ i8    ┆ str                │\n",
       "╞═══════╪════════════════════╡\n",
       "│ 3     ┆ train_base.parquet │\n",
       "└───────┴────────────────────┘"
      ]
     },
     "execution_count": 9,
     "metadata": {},
     "output_type": "execute_result"
    }
   ],
   "source": [
    "all_files_df.filter(pl.col(\"filename\").str.contains(\"base\"))"
   ]
  },
  {
   "cell_type": "code",
   "execution_count": 10,
   "metadata": {},
   "outputs": [
    {
     "data": {
      "text/html": [
       "<div><style>\n",
       ".dataframe > thead > tr,\n",
       ".dataframe > tbody > tr {\n",
       "  text-align: right;\n",
       "  white-space: pre-wrap;\n",
       "}\n",
       "</style>\n",
       "<small>shape: (5, 6)</small><table border=\"1\" class=\"dataframe\"><thead><tr><th>case_id</th><th>date_decision</th><th>MONTH</th><th>WEEK_NUM</th><th>target</th><th>month</th></tr><tr><td>i32</td><td>date</td><td>i32</td><td>i8</td><td>i8</td><td>i8</td></tr></thead><tbody><tr><td>0</td><td>2019-01-03</td><td>201901</td><td>0</td><td>0</td><td>1</td></tr><tr><td>1</td><td>2019-01-03</td><td>201901</td><td>0</td><td>0</td><td>1</td></tr><tr><td>2</td><td>2019-01-04</td><td>201901</td><td>0</td><td>0</td><td>1</td></tr><tr><td>3</td><td>2019-01-03</td><td>201901</td><td>0</td><td>0</td><td>1</td></tr><tr><td>4</td><td>2019-01-04</td><td>201901</td><td>0</td><td>1</td><td>1</td></tr></tbody></table></div>"
      ],
      "text/plain": [
       "shape: (5, 6)\n",
       "┌─────────┬───────────────┬────────┬──────────┬────────┬───────┐\n",
       "│ case_id ┆ date_decision ┆ MONTH  ┆ WEEK_NUM ┆ target ┆ month │\n",
       "│ ---     ┆ ---           ┆ ---    ┆ ---      ┆ ---    ┆ ---   │\n",
       "│ i32     ┆ date          ┆ i32    ┆ i8       ┆ i8     ┆ i8    │\n",
       "╞═════════╪═══════════════╪════════╪══════════╪════════╪═══════╡\n",
       "│ 0       ┆ 2019-01-03    ┆ 201901 ┆ 0        ┆ 0      ┆ 1     │\n",
       "│ 1       ┆ 2019-01-03    ┆ 201901 ┆ 0        ┆ 0      ┆ 1     │\n",
       "│ 2       ┆ 2019-01-04    ┆ 201901 ┆ 0        ┆ 0      ┆ 1     │\n",
       "│ 3       ┆ 2019-01-03    ┆ 201901 ┆ 0        ┆ 0      ┆ 1     │\n",
       "│ 4       ┆ 2019-01-04    ┆ 201901 ┆ 0        ┆ 1      ┆ 1     │\n",
       "└─────────┴───────────────┴────────┴──────────┴────────┴───────┘"
      ]
     },
     "metadata": {},
     "output_type": "display_data"
    },
    {
     "data": {
      "text/plain": [
       "21.83903217315674"
      ]
     },
     "execution_count": 10,
     "metadata": {},
     "output_type": "execute_result"
    }
   ],
   "source": [
    "train_base = (\n",
    "    pl.read_parquet(path_to_train/all_train_files[3])\n",
    "    .select(pl.all().shrink_dtype())\n",
    "    .with_columns(\n",
    "        pl.col(\"date_decision\").str.to_date(),\n",
    "        pl.col(\"date_decision\").str.to_date().dt.month().alias(\"month\")\n",
    "    )\n",
    ")\n",
    "gc.collect()\n",
    "display(train_base.head())\n",
    "train_base.estimated_size(\"mb\")"
   ]
  },
  {
   "cell_type": "code",
   "execution_count": 11,
   "metadata": {},
   "outputs": [
    {
     "data": {
      "text/html": [
       "<div><style>\n",
       ".dataframe > thead > tr,\n",
       ".dataframe > tbody > tr {\n",
       "  text-align: right;\n",
       "  white-space: pre-wrap;\n",
       "}\n",
       "</style>\n",
       "<small>shape: (9, 7)</small><table border=\"1\" class=\"dataframe\"><thead><tr><th>statistic</th><th>case_id</th><th>date_decision</th><th>MONTH</th><th>WEEK_NUM</th><th>target</th><th>month</th></tr><tr><td>str</td><td>f64</td><td>str</td><td>f64</td><td>f64</td><td>f64</td><td>f64</td></tr></thead><tbody><tr><td>&quot;count&quot;</td><td>1526659.00</td><td>&quot;1526659&quot;</td><td>1526659.00</td><td>1526659.00</td><td>1526659.00</td><td>1526659.00</td></tr><tr><td>&quot;null_count&quot;</td><td>0.00</td><td>&quot;0&quot;</td><td>0.00</td><td>0.00</td><td>0.00</td><td>0.00</td></tr><tr><td>&quot;mean&quot;</td><td>1286076.57</td><td>&quot;2019-10-16&quot;</td><td>201936.29</td><td>40.77</td><td>0.03</td><td>6.43</td></tr><tr><td>&quot;std&quot;</td><td>718946.59</td><td>null</td><td>44.74</td><td>23.80</td><td>0.17</td><td>3.51</td></tr><tr><td>&quot;min&quot;</td><td>0.00</td><td>&quot;2019-01-01&quot;</td><td>201901.00</td><td>0.00</td><td>0.00</td><td>1.00</td></tr><tr><td>&quot;25%&quot;</td><td>766198.00</td><td>&quot;2019-06-13&quot;</td><td>201906.00</td><td>23.00</td><td>0.00</td><td>3.00</td></tr><tr><td>&quot;50%&quot;</td><td>1357358.00</td><td>&quot;2019-10-11&quot;</td><td>201910.00</td><td>40.00</td><td>0.00</td><td>7.00</td></tr><tr><td>&quot;75%&quot;</td><td>1739023.00</td><td>&quot;2020-01-26&quot;</td><td>202001.00</td><td>55.00</td><td>0.00</td><td>9.00</td></tr><tr><td>&quot;max&quot;</td><td>2703454.00</td><td>&quot;2020-10-05&quot;</td><td>202010.00</td><td>91.00</td><td>1.00</td><td>12.00</td></tr></tbody></table></div>"
      ],
      "text/plain": [
       "shape: (9, 7)\n",
       "┌────────────┬────────────┬───────────────┬────────────┬────────────┬────────────┬────────────┐\n",
       "│ statistic  ┆ case_id    ┆ date_decision ┆ MONTH      ┆ WEEK_NUM   ┆ target     ┆ month      │\n",
       "│ ---        ┆ ---        ┆ ---           ┆ ---        ┆ ---        ┆ ---        ┆ ---        │\n",
       "│ str        ┆ f64        ┆ str           ┆ f64        ┆ f64        ┆ f64        ┆ f64        │\n",
       "╞════════════╪════════════╪═══════════════╪════════════╪════════════╪════════════╪════════════╡\n",
       "│ count      ┆ 1526659.00 ┆ 1526659       ┆ 1526659.00 ┆ 1526659.00 ┆ 1526659.00 ┆ 1526659.00 │\n",
       "│ null_count ┆ 0.00       ┆ 0             ┆ 0.00       ┆ 0.00       ┆ 0.00       ┆ 0.00       │\n",
       "│ mean       ┆ 1286076.57 ┆ 2019-10-16    ┆ 201936.29  ┆ 40.77      ┆ 0.03       ┆ 6.43       │\n",
       "│ std        ┆ 718946.59  ┆ null          ┆ 44.74      ┆ 23.80      ┆ 0.17       ┆ 3.51       │\n",
       "│ min        ┆ 0.00       ┆ 2019-01-01    ┆ 201901.00  ┆ 0.00       ┆ 0.00       ┆ 1.00       │\n",
       "│ 25%        ┆ 766198.00  ┆ 2019-06-13    ┆ 201906.00  ┆ 23.00      ┆ 0.00       ┆ 3.00       │\n",
       "│ 50%        ┆ 1357358.00 ┆ 2019-10-11    ┆ 201910.00  ┆ 40.00      ┆ 0.00       ┆ 7.00       │\n",
       "│ 75%        ┆ 1739023.00 ┆ 2020-01-26    ┆ 202001.00  ┆ 55.00      ┆ 0.00       ┆ 9.00       │\n",
       "│ max        ┆ 2703454.00 ┆ 2020-10-05    ┆ 202010.00  ┆ 91.00      ┆ 1.00       ┆ 12.00      │\n",
       "└────────────┴────────────┴───────────────┴────────────┴────────────┴────────────┴────────────┘"
      ]
     },
     "execution_count": 11,
     "metadata": {},
     "output_type": "execute_result"
    }
   ],
   "source": [
    "train_base.describe()"
   ]
  },
  {
   "cell_type": "code",
   "execution_count": 61,
   "metadata": {},
   "outputs": [],
   "source": [
    "def missing_case_ids(df:pl.LazyFrame):\n",
    "    return (\n",
    "        df\n",
    "        .with_context(\n",
    "            train_base.lazy().select(pl.col(\"case_id\").suffix(\"_base\"))\n",
    "        )\n",
    "        .select(\n",
    "            (~pl.col(\"case_id_base\").is_in(pl.col(\"case_id\"))).cast(pl.Int8).mean().alias(\"percentage of base case ids not present\")\n",
    "        )\n",
    "        .collect()\n",
    "    )\n"
   ]
  },
  {
   "cell_type": "markdown",
   "metadata": {},
   "source": [
    "## Previous Files"
   ]
  },
  {
   "cell_type": "code",
   "execution_count": 99,
   "metadata": {},
   "outputs": [
    {
     "data": {
      "text/html": [
       "<div><style>\n",
       ".dataframe > thead > tr,\n",
       ".dataframe > tbody > tr {\n",
       "  text-align: right;\n",
       "  white-space: pre-wrap;\n",
       "}\n",
       "</style>\n",
       "<small>shape: (3, 2)</small><table border=\"1\" class=\"dataframe\"><thead><tr><th>index</th><th>filename</th></tr><tr><td>i8</td><td>str</td></tr></thead><tbody><tr><td>0</td><td>&quot;train_applprev_1_0.parquet&quot;</td></tr><tr><td>1</td><td>&quot;train_applprev_1_1.parquet&quot;</td></tr><tr><td>2</td><td>&quot;train_applprev_2.parquet&quot;</td></tr></tbody></table></div>"
      ],
      "text/plain": [
       "shape: (3, 2)\n",
       "┌───────┬────────────────────────────┐\n",
       "│ index ┆ filename                   │\n",
       "│ ---   ┆ ---                        │\n",
       "│ i8    ┆ str                        │\n",
       "╞═══════╪════════════════════════════╡\n",
       "│ 0     ┆ train_applprev_1_0.parquet │\n",
       "│ 1     ┆ train_applprev_1_1.parquet │\n",
       "│ 2     ┆ train_applprev_2.parquet   │\n",
       "└───────┴────────────────────────────┘"
      ]
     },
     "execution_count": 99,
     "metadata": {},
     "output_type": "execute_result"
    }
   ],
   "source": [
    "all_files_df.filter(pl.col('filename').str.contains(\"prev\"))"
   ]
  },
  {
   "cell_type": "code",
   "execution_count": 12,
   "metadata": {},
   "outputs": [
    {
     "data": {
      "text/plain": [
       "0"
      ]
     },
     "execution_count": 12,
     "metadata": {},
     "output_type": "execute_result"
    }
   ],
   "source": [
    "train_applprev_1 = preprocess(0)\n",
    "train_applprev_2 = preprocess(1)\n",
    "gc.collect()"
   ]
  },
  {
   "cell_type": "code",
   "execution_count": 44,
   "metadata": {},
   "outputs": [
    {
     "data": {
      "text/html": [
       "<div><style>\n",
       ".dataframe > thead > tr,\n",
       ".dataframe > tbody > tr {\n",
       "  text-align: right;\n",
       "  white-space: pre-wrap;\n",
       "}\n",
       "</style>\n",
       "<small>shape: (5, 37)</small><table border=\"1\" class=\"dataframe\"><thead><tr><th>case_id</th><th>actualdpd_943P\n",
       "(Days Past Due (DPD) of previous contract (actual).)</th><th>annuity_853A\n",
       "(Monthly annuity for previous applications.)</th><th>byoccupationinc_3656910L\n",
       "(Applicant&#x27;s income from previous applications.)</th><th>cancelreason_3545846M\n",
       "(Application cancellation reason.)</th><th>childnum_21L\n",
       "(Number of children in the previous application.)</th><th>credacc_actualbalance_314A\n",
       "(Actual balance on credit account.)</th><th>credacc_credlmt_575A\n",
       "(Credit card credit limit provided for previous applications.)</th><th>credacc_maxhisbal_375A\n",
       "(Maximal historical balance of previous credit account)</th><th>credacc_minhisbal_90A\n",
       "(Minimum historical balance of previous credit accounts.)</th><th>credacc_status_367L\n",
       "(Account status of previous credit applications.)</th><th>credacc_transactions_402L\n",
       "(Number of transactions made with the previous credit account of the applicant.)</th><th>credamount_590A\n",
       "(Loan amount or card limit of previous applications.)</th><th>credtype_587L\n",
       "(Credit type of previous application.)</th><th>currdebt_94A\n",
       "(Previous application&#x27;s current debt.)</th><th>district_544M\n",
       "(District of the address used in the previous loan application.)</th><th>downpmt_134A\n",
       "(Previous application downpayment amount.)</th><th>dtlastpmt_581D\n",
       "(Date of last payment made by the applicant.)</th><th>dtlastpmtallstes_3545839D\n",
       "(Date of the applicant&#x27;s last payment.)</th><th>education_1138M\n",
       "(Applicant&#x27;s education level from their previous application.)</th><th>employedfrom_700D\n",
       "(Employment start date from the previous application.)</th><th>familystate_726L\n",
       "(Family State in previous application of applicant.)</th><th>inittransactioncode_279L\n",
       "(Type of the initial transaction made in the previous application of the client.)</th><th>isbidproduct_390L\n",
       "(Flag for determining if the product is a cross-sell in previous applications.)</th><th>isdebitcard_527L\n",
       "(Previous application flag indicating if product being applied for is a debit card.)</th><th>mainoccupationinc_437A\n",
       "(Client&#x27;s main income amount in their previous application.)</th><th>maxdpdtolerance_577P\n",
       "(Maximum DPD with tolerance (on previous application/s).)</th><th>num_group1</th><th>outstandingdebt_522A\n",
       "(Amount of outstanding debt on the client&#x27;s previous application.)</th><th>pmtnum_8L\n",
       "(Number of payments made for the previous application.)</th><th>postype_4733339M\n",
       "(Type of point of sale.)</th><th>profession_152M\n",
       "(Profession of the client during their previous loan application.)</th><th>rejectreason_755M\n",
       "(Reason for previous application rejection.)</th><th>rejectreasonclient_4145042M\n",
       "(Reason for rejection of the client&#x27;s previous application.)</th><th>revolvingaccount_394A\n",
       "(Revolving account that was present in the applicant&#x27;s previous application.)</th><th>status_219L\n",
       "(Previous application status.)</th><th>tenor_203L\n",
       "(Number of instalments in the previous application.)</th></tr><tr><td>i16</td><td>f32</td><td>f32</td><td>f32</td><td>str</td><td>f32</td><td>f32</td><td>f32</td><td>f32</td><td>f32</td><td>str</td><td>f32</td><td>f32</td><td>str</td><td>f32</td><td>str</td><td>f32</td><td>str</td><td>str</td><td>str</td><td>str</td><td>str</td><td>str</td><td>bool</td><td>bool</td><td>f32</td><td>f32</td><td>i8</td><td>f32</td><td>f32</td><td>str</td><td>str</td><td>str</td><td>str</td><td>f32</td><td>str</td><td>f32</td></tr></thead><tbody><tr><td>2</td><td>0.00</td><td>640.20</td><td>null</td><td>&quot;a55475b1&quot;</td><td>0.00</td><td>null</td><td>0.00</td><td>null</td><td>null</td><td>null</td><td>null</td><td>10000.00</td><td>&quot;CAL&quot;</td><td>null</td><td>&quot;P136_108_173&quot;</td><td>0.00</td><td>null</td><td>null</td><td>&quot;P97_36_170&quot;</td><td>&quot;2010-02-15&quot;</td><td>&quot;SINGLE&quot;</td><td>&quot;CASH&quot;</td><td>false</td><td>null</td><td>8200.00</td><td>null</td><td>0</td><td>null</td><td>24.00</td><td>&quot;a55475b1&quot;</td><td>&quot;a55475b1&quot;</td><td>&quot;a55475b1&quot;</td><td>&quot;a55475b1&quot;</td><td>null</td><td>&quot;D&quot;</td><td>24.00</td></tr><tr><td>2</td><td>0.00</td><td>1682.40</td><td>null</td><td>&quot;a55475b1&quot;</td><td>0.00</td><td>null</td><td>0.00</td><td>null</td><td>null</td><td>null</td><td>null</td><td>16000.00</td><td>&quot;CAL&quot;</td><td>null</td><td>&quot;P136_108_173&quot;</td><td>0.00</td><td>null</td><td>null</td><td>&quot;P97_36_170&quot;</td><td>&quot;2010-02-15&quot;</td><td>&quot;SINGLE&quot;</td><td>&quot;CASH&quot;</td><td>false</td><td>null</td><td>8200.00</td><td>null</td><td>1</td><td>null</td><td>12.00</td><td>&quot;a55475b1&quot;</td><td>&quot;a55475b1&quot;</td><td>&quot;a55475b1&quot;</td><td>&quot;a55475b1&quot;</td><td>null</td><td>&quot;D&quot;</td><td>12.00</td></tr><tr><td>3</td><td>0.00</td><td>6140.00</td><td>null</td><td>&quot;P94_109_143&quot;</td><td>null</td><td>null</td><td>0.00</td><td>null</td><td>null</td><td>null</td><td>null</td><td>59999.80</td><td>&quot;CAL&quot;</td><td>null</td><td>&quot;P131_33_167&quot;</td><td>0.00</td><td>null</td><td>null</td><td>&quot;P97_36_170&quot;</td><td>&quot;2018-05-15&quot;</td><td>&quot;MARRIED&quot;</td><td>&quot;CASH&quot;</td><td>false</td><td>null</td><td>11000.00</td><td>null</td><td>0</td><td>null</td><td>12.00</td><td>&quot;a55475b1&quot;</td><td>&quot;a55475b1&quot;</td><td>&quot;P94_109_143&quot;</td><td>&quot;a55475b1&quot;</td><td>null</td><td>&quot;D&quot;</td><td>12.00</td></tr><tr><td>4</td><td>0.00</td><td>2556.60</td><td>null</td><td>&quot;P24_27_36&quot;</td><td>null</td><td>null</td><td>0.00</td><td>null</td><td>null</td><td>null</td><td>null</td><td>40000.00</td><td>&quot;CAL&quot;</td><td>null</td><td>&quot;P194_82_174&quot;</td><td>0.00</td><td>null</td><td>null</td><td>&quot;a55475b1&quot;</td><td>null</td><td>null</td><td>&quot;CASH&quot;</td><td>false</td><td>null</td><td>16000.00</td><td>null</td><td>0</td><td>null</td><td>24.00</td><td>&quot;a55475b1&quot;</td><td>&quot;a55475b1&quot;</td><td>&quot;a55475b1&quot;</td><td>&quot;a55475b1&quot;</td><td>null</td><td>&quot;T&quot;</td><td>24.00</td></tr><tr><td>5</td><td>0.00</td><td>null</td><td>null</td><td>&quot;P85_114_140&quot;</td><td>null</td><td>null</td><td>null</td><td>null</td><td>null</td><td>null</td><td>null</td><td>null</td><td>null</td><td>null</td><td>&quot;P54_133_26&quot;</td><td>null</td><td>null</td><td>null</td><td>&quot;a55475b1&quot;</td><td>null</td><td>null</td><td>null</td><td>false</td><td>null</td><td>62000.00</td><td>null</td><td>0</td><td>null</td><td>null</td><td>&quot;a55475b1&quot;</td><td>&quot;a55475b1&quot;</td><td>&quot;a55475b1&quot;</td><td>&quot;a55475b1&quot;</td><td>null</td><td>&quot;T&quot;</td><td>null</td></tr></tbody></table></div>"
      ],
      "text/plain": [
       "shape: (5, 37)\n",
       "┌─────────┬────────────┬───────────┬───────────┬───┬───────────┬───────────┬───────────┬───────────┐\n",
       "│ case_id ┆ actualdpd_ ┆ annuity_8 ┆ byoccupat ┆ … ┆ rejectrea ┆ revolving ┆ status_21 ┆ tenor_203 │\n",
       "│ ---     ┆ 943P       ┆ 53A       ┆ ioninc_36 ┆   ┆ sonclient ┆ account_3 ┆ 9L        ┆ L         │\n",
       "│ i16     ┆ (Days Past ┆ (Monthly  ┆ 56910L    ┆   ┆ _4145042M ┆ 94A       ┆ (Previous ┆ (Number   │\n",
       "│         ┆ Due (DPD)  ┆ annuity   ┆ (Applican ┆   ┆ (Reason   ┆ (Revolvin ┆ applicati ┆ of instal │\n",
       "│         ┆ of         ┆ for       ┆ t's       ┆   ┆ for       ┆ g account ┆ on        ┆ ments in  │\n",
       "│         ┆ previous   ┆ previous  ┆ income    ┆   ┆ rejection ┆ that was  ┆ status.)  ┆ the       │\n",
       "│         ┆ contract   ┆ applicati ┆ from      ┆   ┆ of the    ┆ present   ┆ ---       ┆ previous  │\n",
       "│         ┆ (actual).) ┆ ons.)     ┆ previous  ┆   ┆ client's  ┆ in the    ┆ str       ┆ applicati │\n",
       "│         ┆ ---        ┆ ---       ┆ applicati ┆   ┆ previous  ┆ applicant ┆           ┆ on.)      │\n",
       "│         ┆ f32        ┆ f32       ┆ ons.)     ┆   ┆ applicati ┆ 's        ┆           ┆ ---       │\n",
       "│         ┆            ┆           ┆ ---       ┆   ┆ on.)      ┆ previous  ┆           ┆ f32       │\n",
       "│         ┆            ┆           ┆ f32       ┆   ┆ ---       ┆ applicati ┆           ┆           │\n",
       "│         ┆            ┆           ┆           ┆   ┆ str       ┆ on.)      ┆           ┆           │\n",
       "│         ┆            ┆           ┆           ┆   ┆           ┆ ---       ┆           ┆           │\n",
       "│         ┆            ┆           ┆           ┆   ┆           ┆ f32       ┆           ┆           │\n",
       "╞═════════╪════════════╪═══════════╪═══════════╪═══╪═══════════╪═══════════╪═══════════╪═══════════╡\n",
       "│ 2       ┆ 0.00       ┆ 640.20    ┆ null      ┆ … ┆ a55475b1  ┆ null      ┆ D         ┆ 24.00     │\n",
       "│ 2       ┆ 0.00       ┆ 1682.40   ┆ null      ┆ … ┆ a55475b1  ┆ null      ┆ D         ┆ 12.00     │\n",
       "│ 3       ┆ 0.00       ┆ 6140.00   ┆ null      ┆ … ┆ a55475b1  ┆ null      ┆ D         ┆ 12.00     │\n",
       "│ 4       ┆ 0.00       ┆ 2556.60   ┆ null      ┆ … ┆ a55475b1  ┆ null      ┆ T         ┆ 24.00     │\n",
       "│ 5       ┆ 0.00       ┆ null      ┆ null      ┆ … ┆ a55475b1  ┆ null      ┆ T         ┆ null      │\n",
       "└─────────┴────────────┴───────────┴───────────┴───┴───────────┴───────────┴───────────┴───────────┘"
      ]
     },
     "metadata": {},
     "output_type": "display_data"
    },
    {
     "data": {
      "application/vnd.plotly.v1+json": {
       "config": {
        "plotlyServerURL": "https://plot.ly"
       },
       "data": [
        {
         "alignmentgroup": "True",
         "customdata": [
          [
           0
          ]
         ],
         "hovertemplate": "<b>%{hovertext}</b><br><br>column=%{x}<br>column_0=%{y}<br>percent=%{customdata[0]}<extra></extra>",
         "hovertext": [
          "case_id"
         ],
         "legendgroup": "case_id",
         "marker": {
          "color": "#636efa",
          "pattern": {
           "shape": ""
          }
         },
         "name": "case_id",
         "offsetgroup": "case_id",
         "orientation": "v",
         "showlegend": true,
         "textposition": "auto",
         "type": "bar",
         "x": [
          "case_id"
         ],
         "xaxis": "x",
         "y": [
          0
         ],
         "yaxis": "y"
        },
        {
         "alignmentgroup": "True",
         "customdata": [
          [
           0
          ]
         ],
         "hovertemplate": "<b>%{hovertext}</b><br><br>column=%{x}<br>column_0=%{y}<br>percent=%{customdata[0]}<extra></extra>",
         "hovertext": [
          "actualdpd_943P\n(Days Past Due (DPD) of previous contract (actual).)"
         ],
         "legendgroup": "actualdpd_943P\n(Days Past Due (DPD) of previous contract (actual).)",
         "marker": {
          "color": "#EF553B",
          "pattern": {
           "shape": ""
          }
         },
         "name": "actualdpd_943P\n(Days Past Due (DPD) of previous contract (actual).)",
         "offsetgroup": "actualdpd_943P\n(Days Past Due (DPD) of previous contract (actual).)",
         "orientation": "v",
         "showlegend": true,
         "textposition": "auto",
         "type": "bar",
         "x": [
          "actualdpd_943P\n(Days Past Due (DPD) of previous contract (actual).)"
         ],
         "xaxis": "x",
         "y": [
          2234
         ],
         "yaxis": "y"
        },
        {
         "alignmentgroup": "True",
         "customdata": [
          [
           0.04
          ]
         ],
         "hovertemplate": "<b>%{hovertext}</b><br><br>column=%{x}<br>column_0=%{y}<br>percent=%{customdata[0]}<extra></extra>",
         "hovertext": [
          "annuity_853A\n(Monthly annuity for previous applications.)"
         ],
         "legendgroup": "annuity_853A\n(Monthly annuity for previous applications.)",
         "marker": {
          "color": "#00cc96",
          "pattern": {
           "shape": ""
          }
         },
         "name": "annuity_853A\n(Monthly annuity for previous applications.)",
         "offsetgroup": "annuity_853A\n(Monthly annuity for previous applications.)",
         "orientation": "v",
         "showlegend": true,
         "textposition": "auto",
         "type": "bar",
         "x": [
          "annuity_853A\n(Monthly annuity for previous applications.)"
         ],
         "xaxis": "x",
         "y": [
          155851
         ],
         "yaxis": "y"
        },
        {
         "alignmentgroup": "True",
         "customdata": [
          [
           0.74
          ]
         ],
         "hovertemplate": "<b>%{hovertext}</b><br><br>column=%{x}<br>column_0=%{y}<br>percent=%{customdata[0]}<extra></extra>",
         "hovertext": [
          "byoccupationinc_3656910L\n(Applicant's income from previous applications.)"
         ],
         "legendgroup": "byoccupationinc_3656910L\n(Applicant's income from previous applications.)",
         "marker": {
          "color": "#ab63fa",
          "pattern": {
           "shape": ""
          }
         },
         "name": "byoccupationinc_3656910L\n(Applicant's income from previous applications.)",
         "offsetgroup": "byoccupationinc_3656910L\n(Applicant's income from previous applications.)",
         "orientation": "v",
         "showlegend": true,
         "textposition": "auto",
         "type": "bar",
         "x": [
          "byoccupationinc_3656910L\n(Applicant's income from previous applications.)"
         ],
         "xaxis": "x",
         "y": [
          2896024
         ],
         "yaxis": "y"
        },
        {
         "alignmentgroup": "True",
         "customdata": [
          [
           0
          ]
         ],
         "hovertemplate": "<b>%{hovertext}</b><br><br>column=%{x}<br>column_0=%{y}<br>percent=%{customdata[0]}<extra></extra>",
         "hovertext": [
          "cancelreason_3545846M\n(Application cancellation reason.)"
         ],
         "legendgroup": "cancelreason_3545846M\n(Application cancellation reason.)",
         "marker": {
          "color": "#FFA15A",
          "pattern": {
           "shape": ""
          }
         },
         "name": "cancelreason_3545846M\n(Application cancellation reason.)",
         "offsetgroup": "cancelreason_3545846M\n(Application cancellation reason.)",
         "orientation": "v",
         "showlegend": true,
         "textposition": "auto",
         "type": "bar",
         "x": [
          "cancelreason_3545846M\n(Application cancellation reason.)"
         ],
         "xaxis": "x",
         "y": [
          0
         ],
         "yaxis": "y"
        },
        {
         "alignmentgroup": "True",
         "customdata": [
          [
           0.5
          ]
         ],
         "hovertemplate": "<b>%{hovertext}</b><br><br>column=%{x}<br>column_0=%{y}<br>percent=%{customdata[0]}<extra></extra>",
         "hovertext": [
          "childnum_21L\n(Number of children in the previous application.)"
         ],
         "legendgroup": "childnum_21L\n(Number of children in the previous application.)",
         "marker": {
          "color": "#19d3f3",
          "pattern": {
           "shape": ""
          }
         },
         "name": "childnum_21L\n(Number of children in the previous application.)",
         "offsetgroup": "childnum_21L\n(Number of children in the previous application.)",
         "orientation": "v",
         "showlegend": true,
         "textposition": "auto",
         "type": "bar",
         "x": [
          "childnum_21L\n(Number of children in the previous application.)"
         ],
         "xaxis": "x",
         "y": [
          1953893
         ],
         "yaxis": "y"
        },
        {
         "alignmentgroup": "True",
         "customdata": [
          [
           0.96
          ]
         ],
         "hovertemplate": "<b>%{hovertext}</b><br><br>column=%{x}<br>column_0=%{y}<br>percent=%{customdata[0]}<extra></extra>",
         "hovertext": [
          "credacc_actualbalance_314A\n(Actual balance on credit account.)"
         ],
         "legendgroup": "credacc_actualbalance_314A\n(Actual balance on credit account.)",
         "marker": {
          "color": "#FF6692",
          "pattern": {
           "shape": ""
          }
         },
         "name": "credacc_actualbalance_314A\n(Actual balance on credit account.)",
         "offsetgroup": "credacc_actualbalance_314A\n(Actual balance on credit account.)",
         "orientation": "v",
         "showlegend": true,
         "textposition": "auto",
         "type": "bar",
         "x": [
          "credacc_actualbalance_314A\n(Actual balance on credit account.)"
         ],
         "xaxis": "x",
         "y": [
          3719506
         ],
         "yaxis": "y"
        },
        {
         "alignmentgroup": "True",
         "customdata": [
          [
           0.03
          ]
         ],
         "hovertemplate": "<b>%{hovertext}</b><br><br>column=%{x}<br>column_0=%{y}<br>percent=%{customdata[0]}<extra></extra>",
         "hovertext": [
          "credacc_credlmt_575A\n(Credit card credit limit provided for previous applications.)"
         ],
         "legendgroup": "credacc_credlmt_575A\n(Credit card credit limit provided for previous applications.)",
         "marker": {
          "color": "#B6E880",
          "pattern": {
           "shape": ""
          }
         },
         "name": "credacc_credlmt_575A\n(Credit card credit limit provided for previous applications.)",
         "offsetgroup": "credacc_credlmt_575A\n(Credit card credit limit provided for previous applications.)",
         "orientation": "v",
         "showlegend": true,
         "textposition": "auto",
         "type": "bar",
         "x": [
          "credacc_credlmt_575A\n(Credit card credit limit provided for previous applications.)"
         ],
         "xaxis": "x",
         "y": [
          119070
         ],
         "yaxis": "y"
        },
        {
         "alignmentgroup": "True",
         "customdata": [
          [
           0.96
          ]
         ],
         "hovertemplate": "<b>%{hovertext}</b><br><br>column=%{x}<br>column_0=%{y}<br>percent=%{customdata[0]}<extra></extra>",
         "hovertext": [
          "credacc_maxhisbal_375A\n(Maximal historical balance of previous credit account)"
         ],
         "legendgroup": "credacc_maxhisbal_375A\n(Maximal historical balance of previous credit account)",
         "marker": {
          "color": "#FF97FF",
          "pattern": {
           "shape": ""
          }
         },
         "name": "credacc_maxhisbal_375A\n(Maximal historical balance of previous credit account)",
         "offsetgroup": "credacc_maxhisbal_375A\n(Maximal historical balance of previous credit account)",
         "orientation": "v",
         "showlegend": true,
         "textposition": "auto",
         "type": "bar",
         "x": [
          "credacc_maxhisbal_375A\n(Maximal historical balance of previous credit account)"
         ],
         "xaxis": "x",
         "y": [
          3719506
         ],
         "yaxis": "y"
        },
        {
         "alignmentgroup": "True",
         "customdata": [
          [
           0.96
          ]
         ],
         "hovertemplate": "<b>%{hovertext}</b><br><br>column=%{x}<br>column_0=%{y}<br>percent=%{customdata[0]}<extra></extra>",
         "hovertext": [
          "credacc_minhisbal_90A\n(Minimum historical balance of previous credit accounts.)"
         ],
         "legendgroup": "credacc_minhisbal_90A\n(Minimum historical balance of previous credit accounts.)",
         "marker": {
          "color": "#FECB52",
          "pattern": {
           "shape": ""
          }
         },
         "name": "credacc_minhisbal_90A\n(Minimum historical balance of previous credit accounts.)",
         "offsetgroup": "credacc_minhisbal_90A\n(Minimum historical balance of previous credit accounts.)",
         "orientation": "v",
         "showlegend": true,
         "textposition": "auto",
         "type": "bar",
         "x": [
          "credacc_minhisbal_90A\n(Minimum historical balance of previous credit accounts.)"
         ],
         "xaxis": "x",
         "y": [
          3719506
         ],
         "yaxis": "y"
        },
        {
         "alignmentgroup": "True",
         "customdata": [
          [
           0.96
          ]
         ],
         "hovertemplate": "<b>%{hovertext}</b><br><br>column=%{x}<br>column_0=%{y}<br>percent=%{customdata[0]}<extra></extra>",
         "hovertext": [
          "credacc_status_367L\n(Account status of previous credit applications.)"
         ],
         "legendgroup": "credacc_status_367L\n(Account status of previous credit applications.)",
         "marker": {
          "color": "#636efa",
          "pattern": {
           "shape": ""
          }
         },
         "name": "credacc_status_367L\n(Account status of previous credit applications.)",
         "offsetgroup": "credacc_status_367L\n(Account status of previous credit applications.)",
         "orientation": "v",
         "showlegend": true,
         "textposition": "auto",
         "type": "bar",
         "x": [
          "credacc_status_367L\n(Account status of previous credit applications.)"
         ],
         "xaxis": "x",
         "y": [
          3719506
         ],
         "yaxis": "y"
        },
        {
         "alignmentgroup": "True",
         "customdata": [
          [
           0.96
          ]
         ],
         "hovertemplate": "<b>%{hovertext}</b><br><br>column=%{x}<br>column_0=%{y}<br>percent=%{customdata[0]}<extra></extra>",
         "hovertext": [
          "credacc_transactions_402L\n(Number of transactions made with the previous credit account of the applicant.)"
         ],
         "legendgroup": "credacc_transactions_402L\n(Number of transactions made with the previous credit account of the applicant.)",
         "marker": {
          "color": "#EF553B",
          "pattern": {
           "shape": ""
          }
         },
         "name": "credacc_transactions_402L\n(Number of transactions made with the previous credit account of the applicant.)",
         "offsetgroup": "credacc_transactions_402L\n(Number of transactions made with the previous credit account of the applicant.)",
         "orientation": "v",
         "showlegend": true,
         "textposition": "auto",
         "type": "bar",
         "x": [
          "credacc_transactions_402L\n(Number of transactions made with the previous credit account of the applicant.)"
         ],
         "xaxis": "x",
         "y": [
          3719506
         ],
         "yaxis": "y"
        },
        {
         "alignmentgroup": "True",
         "customdata": [
          [
           0.03
          ]
         ],
         "hovertemplate": "<b>%{hovertext}</b><br><br>column=%{x}<br>column_0=%{y}<br>percent=%{customdata[0]}<extra></extra>",
         "hovertext": [
          "credamount_590A\n(Loan amount or card limit of previous applications.)"
         ],
         "legendgroup": "credamount_590A\n(Loan amount or card limit of previous applications.)",
         "marker": {
          "color": "#00cc96",
          "pattern": {
           "shape": ""
          }
         },
         "name": "credamount_590A\n(Loan amount or card limit of previous applications.)",
         "offsetgroup": "credamount_590A\n(Loan amount or card limit of previous applications.)",
         "orientation": "v",
         "showlegend": true,
         "textposition": "auto",
         "type": "bar",
         "x": [
          "credamount_590A\n(Loan amount or card limit of previous applications.)"
         ],
         "xaxis": "x",
         "y": [
          123329
         ],
         "yaxis": "y"
        },
        {
         "alignmentgroup": "True",
         "customdata": [
          [
           0.03
          ]
         ],
         "hovertemplate": "<b>%{hovertext}</b><br><br>column=%{x}<br>column_0=%{y}<br>percent=%{customdata[0]}<extra></extra>",
         "hovertext": [
          "credtype_587L\n(Credit type of previous application.)"
         ],
         "legendgroup": "credtype_587L\n(Credit type of previous application.)",
         "marker": {
          "color": "#ab63fa",
          "pattern": {
           "shape": ""
          }
         },
         "name": "credtype_587L\n(Credit type of previous application.)",
         "offsetgroup": "credtype_587L\n(Credit type of previous application.)",
         "orientation": "v",
         "showlegend": true,
         "textposition": "auto",
         "type": "bar",
         "x": [
          "credtype_587L\n(Credit type of previous application.)"
         ],
         "xaxis": "x",
         "y": [
          123329
         ],
         "yaxis": "y"
        },
        {
         "alignmentgroup": "True",
         "customdata": [
          [
           0.33
          ]
         ],
         "hovertemplate": "<b>%{hovertext}</b><br><br>column=%{x}<br>column_0=%{y}<br>percent=%{customdata[0]}<extra></extra>",
         "hovertext": [
          "currdebt_94A\n(Previous application's current debt.)"
         ],
         "legendgroup": "currdebt_94A\n(Previous application's current debt.)",
         "marker": {
          "color": "#FFA15A",
          "pattern": {
           "shape": ""
          }
         },
         "name": "currdebt_94A\n(Previous application's current debt.)",
         "offsetgroup": "currdebt_94A\n(Previous application's current debt.)",
         "orientation": "v",
         "showlegend": true,
         "textposition": "auto",
         "type": "bar",
         "x": [
          "currdebt_94A\n(Previous application's current debt.)"
         ],
         "xaxis": "x",
         "y": [
          1270377
         ],
         "yaxis": "y"
        },
        {
         "alignmentgroup": "True",
         "customdata": [
          [
           0
          ]
         ],
         "hovertemplate": "<b>%{hovertext}</b><br><br>column=%{x}<br>column_0=%{y}<br>percent=%{customdata[0]}<extra></extra>",
         "hovertext": [
          "district_544M\n(District of the address used in the previous loan application.)"
         ],
         "legendgroup": "district_544M\n(District of the address used in the previous loan application.)",
         "marker": {
          "color": "#19d3f3",
          "pattern": {
           "shape": ""
          }
         },
         "name": "district_544M\n(District of the address used in the previous loan application.)",
         "offsetgroup": "district_544M\n(District of the address used in the previous loan application.)",
         "orientation": "v",
         "showlegend": true,
         "textposition": "auto",
         "type": "bar",
         "x": [
          "district_544M\n(District of the address used in the previous loan application.)"
         ],
         "xaxis": "x",
         "y": [
          0
         ],
         "yaxis": "y"
        },
        {
         "alignmentgroup": "True",
         "customdata": [
          [
           0.03
          ]
         ],
         "hovertemplate": "<b>%{hovertext}</b><br><br>column=%{x}<br>column_0=%{y}<br>percent=%{customdata[0]}<extra></extra>",
         "hovertext": [
          "downpmt_134A\n(Previous application downpayment amount.)"
         ],
         "legendgroup": "downpmt_134A\n(Previous application downpayment amount.)",
         "marker": {
          "color": "#FF6692",
          "pattern": {
           "shape": ""
          }
         },
         "name": "downpmt_134A\n(Previous application downpayment amount.)",
         "offsetgroup": "downpmt_134A\n(Previous application downpayment amount.)",
         "orientation": "v",
         "showlegend": true,
         "textposition": "auto",
         "type": "bar",
         "x": [
          "downpmt_134A\n(Previous application downpayment amount.)"
         ],
         "xaxis": "x",
         "y": [
          123329
         ],
         "yaxis": "y"
        },
        {
         "alignmentgroup": "True",
         "customdata": [
          [
           0.74
          ]
         ],
         "hovertemplate": "<b>%{hovertext}</b><br><br>column=%{x}<br>column_0=%{y}<br>percent=%{customdata[0]}<extra></extra>",
         "hovertext": [
          "dtlastpmt_581D\n(Date of last payment made by the applicant.)"
         ],
         "legendgroup": "dtlastpmt_581D\n(Date of last payment made by the applicant.)",
         "marker": {
          "color": "#B6E880",
          "pattern": {
           "shape": ""
          }
         },
         "name": "dtlastpmt_581D\n(Date of last payment made by the applicant.)",
         "offsetgroup": "dtlastpmt_581D\n(Date of last payment made by the applicant.)",
         "orientation": "v",
         "showlegend": true,
         "textposition": "auto",
         "type": "bar",
         "x": [
          "dtlastpmt_581D\n(Date of last payment made by the applicant.)"
         ],
         "xaxis": "x",
         "y": [
          2860375
         ],
         "yaxis": "y"
        },
        {
         "alignmentgroup": "True",
         "customdata": [
          [
           0.63
          ]
         ],
         "hovertemplate": "<b>%{hovertext}</b><br><br>column=%{x}<br>column_0=%{y}<br>percent=%{customdata[0]}<extra></extra>",
         "hovertext": [
          "dtlastpmtallstes_3545839D\n(Date of the applicant's last payment.)"
         ],
         "legendgroup": "dtlastpmtallstes_3545839D\n(Date of the applicant's last payment.)",
         "marker": {
          "color": "#FF97FF",
          "pattern": {
           "shape": ""
          }
         },
         "name": "dtlastpmtallstes_3545839D\n(Date of the applicant's last payment.)",
         "offsetgroup": "dtlastpmtallstes_3545839D\n(Date of the applicant's last payment.)",
         "orientation": "v",
         "showlegend": true,
         "textposition": "auto",
         "type": "bar",
         "x": [
          "dtlastpmtallstes_3545839D\n(Date of the applicant's last payment.)"
         ],
         "xaxis": "x",
         "y": [
          2434155
         ],
         "yaxis": "y"
        },
        {
         "alignmentgroup": "True",
         "customdata": [
          [
           0
          ]
         ],
         "hovertemplate": "<b>%{hovertext}</b><br><br>column=%{x}<br>column_0=%{y}<br>percent=%{customdata[0]}<extra></extra>",
         "hovertext": [
          "education_1138M\n(Applicant's education level from their previous application.)"
         ],
         "legendgroup": "education_1138M\n(Applicant's education level from their previous application.)",
         "marker": {
          "color": "#FECB52",
          "pattern": {
           "shape": ""
          }
         },
         "name": "education_1138M\n(Applicant's education level from their previous application.)",
         "offsetgroup": "education_1138M\n(Applicant's education level from their previous application.)",
         "orientation": "v",
         "showlegend": true,
         "textposition": "auto",
         "type": "bar",
         "x": [
          "education_1138M\n(Applicant's education level from their previous application.)"
         ],
         "xaxis": "x",
         "y": [
          0
         ],
         "yaxis": "y"
        },
        {
         "alignmentgroup": "True",
         "customdata": [
          [
           0.56
          ]
         ],
         "hovertemplate": "<b>%{hovertext}</b><br><br>column=%{x}<br>column_0=%{y}<br>percent=%{customdata[0]}<extra></extra>",
         "hovertext": [
          "employedfrom_700D\n(Employment start date from the previous application.)"
         ],
         "legendgroup": "employedfrom_700D\n(Employment start date from the previous application.)",
         "marker": {
          "color": "#636efa",
          "pattern": {
           "shape": ""
          }
         },
         "name": "employedfrom_700D\n(Employment start date from the previous application.)",
         "offsetgroup": "employedfrom_700D\n(Employment start date from the previous application.)",
         "orientation": "v",
         "showlegend": true,
         "textposition": "auto",
         "type": "bar",
         "x": [
          "employedfrom_700D\n(Employment start date from the previous application.)"
         ],
         "xaxis": "x",
         "y": [
          2180869
         ],
         "yaxis": "y"
        },
        {
         "alignmentgroup": "True",
         "customdata": [
          [
           0.32
          ]
         ],
         "hovertemplate": "<b>%{hovertext}</b><br><br>column=%{x}<br>column_0=%{y}<br>percent=%{customdata[0]}<extra></extra>",
         "hovertext": [
          "familystate_726L\n(Family State in previous application of applicant.)"
         ],
         "legendgroup": "familystate_726L\n(Family State in previous application of applicant.)",
         "marker": {
          "color": "#EF553B",
          "pattern": {
           "shape": ""
          }
         },
         "name": "familystate_726L\n(Family State in previous application of applicant.)",
         "offsetgroup": "familystate_726L\n(Family State in previous application of applicant.)",
         "orientation": "v",
         "showlegend": true,
         "textposition": "auto",
         "type": "bar",
         "x": [
          "familystate_726L\n(Family State in previous application of applicant.)"
         ],
         "xaxis": "x",
         "y": [
          1245201
         ],
         "yaxis": "y"
        },
        {
         "alignmentgroup": "True",
         "customdata": [
          [
           0.03
          ]
         ],
         "hovertemplate": "<b>%{hovertext}</b><br><br>column=%{x}<br>column_0=%{y}<br>percent=%{customdata[0]}<extra></extra>",
         "hovertext": [
          "inittransactioncode_279L\n(Type of the initial transaction made in the previous application of the client.)"
         ],
         "legendgroup": "inittransactioncode_279L\n(Type of the initial transaction made in the previous application of the client.)",
         "marker": {
          "color": "#00cc96",
          "pattern": {
           "shape": ""
          }
         },
         "name": "inittransactioncode_279L\n(Type of the initial transaction made in the previous application of the client.)",
         "offsetgroup": "inittransactioncode_279L\n(Type of the initial transaction made in the previous application of the client.)",
         "orientation": "v",
         "showlegend": true,
         "textposition": "auto",
         "type": "bar",
         "x": [
          "inittransactioncode_279L\n(Type of the initial transaction made in the previous application of the client.)"
         ],
         "xaxis": "x",
         "y": [
          123329
         ],
         "yaxis": "y"
        },
        {
         "alignmentgroup": "True",
         "customdata": [
          [
           0
          ]
         ],
         "hovertemplate": "<b>%{hovertext}</b><br><br>column=%{x}<br>column_0=%{y}<br>percent=%{customdata[0]}<extra></extra>",
         "hovertext": [
          "isbidproduct_390L\n(Flag for determining if the product is a cross-sell in previous applications.)"
         ],
         "legendgroup": "isbidproduct_390L\n(Flag for determining if the product is a cross-sell in previous applications.)",
         "marker": {
          "color": "#ab63fa",
          "pattern": {
           "shape": ""
          }
         },
         "name": "isbidproduct_390L\n(Flag for determining if the product is a cross-sell in previous applications.)",
         "offsetgroup": "isbidproduct_390L\n(Flag for determining if the product is a cross-sell in previous applications.)",
         "orientation": "v",
         "showlegend": true,
         "textposition": "auto",
         "type": "bar",
         "x": [
          "isbidproduct_390L\n(Flag for determining if the product is a cross-sell in previous applications.)"
         ],
         "xaxis": "x",
         "y": [
          35
         ],
         "yaxis": "y"
        },
        {
         "alignmentgroup": "True",
         "customdata": [
          [
           0.94
          ]
         ],
         "hovertemplate": "<b>%{hovertext}</b><br><br>column=%{x}<br>column_0=%{y}<br>percent=%{customdata[0]}<extra></extra>",
         "hovertext": [
          "isdebitcard_527L\n(Previous application flag indicating if product being applied for is a debit card.)"
         ],
         "legendgroup": "isdebitcard_527L\n(Previous application flag indicating if product being applied for is a debit card.)",
         "marker": {
          "color": "#FFA15A",
          "pattern": {
           "shape": ""
          }
         },
         "name": "isdebitcard_527L\n(Previous application flag indicating if product being applied for is a debit card.)",
         "offsetgroup": "isdebitcard_527L\n(Previous application flag indicating if product being applied for is a debit card.)",
         "orientation": "v",
         "showlegend": true,
         "textposition": "auto",
         "type": "bar",
         "x": [
          "isdebitcard_527L\n(Previous application flag indicating if product being applied for is a debit card.)"
         ],
         "xaxis": "x",
         "y": [
          3637550
         ],
         "yaxis": "y"
        },
        {
         "alignmentgroup": "True",
         "customdata": [
          [
           0.01
          ]
         ],
         "hovertemplate": "<b>%{hovertext}</b><br><br>column=%{x}<br>column_0=%{y}<br>percent=%{customdata[0]}<extra></extra>",
         "hovertext": [
          "mainoccupationinc_437A\n(Client's main income amount in their previous application.)"
         ],
         "legendgroup": "mainoccupationinc_437A\n(Client's main income amount in their previous application.)",
         "marker": {
          "color": "#19d3f3",
          "pattern": {
           "shape": ""
          }
         },
         "name": "mainoccupationinc_437A\n(Client's main income amount in their previous application.)",
         "offsetgroup": "mainoccupationinc_437A\n(Client's main income amount in their previous application.)",
         "orientation": "v",
         "showlegend": true,
         "textposition": "auto",
         "type": "bar",
         "x": [
          "mainoccupationinc_437A\n(Client's main income amount in their previous application.)"
         ],
         "xaxis": "x",
         "y": [
          36612
         ],
         "yaxis": "y"
        },
        {
         "alignmentgroup": "True",
         "customdata": [
          [
           0.47
          ]
         ],
         "hovertemplate": "<b>%{hovertext}</b><br><br>column=%{x}<br>column_0=%{y}<br>percent=%{customdata[0]}<extra></extra>",
         "hovertext": [
          "maxdpdtolerance_577P\n(Maximum DPD with tolerance (on previous application/s).)"
         ],
         "legendgroup": "maxdpdtolerance_577P\n(Maximum DPD with tolerance (on previous application/s).)",
         "marker": {
          "color": "#FF6692",
          "pattern": {
           "shape": ""
          }
         },
         "name": "maxdpdtolerance_577P\n(Maximum DPD with tolerance (on previous application/s).)",
         "offsetgroup": "maxdpdtolerance_577P\n(Maximum DPD with tolerance (on previous application/s).)",
         "orientation": "v",
         "showlegend": true,
         "textposition": "auto",
         "type": "bar",
         "x": [
          "maxdpdtolerance_577P\n(Maximum DPD with tolerance (on previous application/s).)"
         ],
         "xaxis": "x",
         "y": [
          1817378
         ],
         "yaxis": "y"
        },
        {
         "alignmentgroup": "True",
         "customdata": [
          [
           0
          ]
         ],
         "hovertemplate": "<b>%{hovertext}</b><br><br>column=%{x}<br>column_0=%{y}<br>percent=%{customdata[0]}<extra></extra>",
         "hovertext": [
          "num_group1"
         ],
         "legendgroup": "num_group1",
         "marker": {
          "color": "#B6E880",
          "pattern": {
           "shape": ""
          }
         },
         "name": "num_group1",
         "offsetgroup": "num_group1",
         "orientation": "v",
         "showlegend": true,
         "textposition": "auto",
         "type": "bar",
         "x": [
          "num_group1"
         ],
         "xaxis": "x",
         "y": [
          0
         ],
         "yaxis": "y"
        },
        {
         "alignmentgroup": "True",
         "customdata": [
          [
           0.33
          ]
         ],
         "hovertemplate": "<b>%{hovertext}</b><br><br>column=%{x}<br>column_0=%{y}<br>percent=%{customdata[0]}<extra></extra>",
         "hovertext": [
          "outstandingdebt_522A\n(Amount of outstanding debt on the client's previous application.)"
         ],
         "legendgroup": "outstandingdebt_522A\n(Amount of outstanding debt on the client's previous application.)",
         "marker": {
          "color": "#FF97FF",
          "pattern": {
           "shape": ""
          }
         },
         "name": "outstandingdebt_522A\n(Amount of outstanding debt on the client's previous application.)",
         "offsetgroup": "outstandingdebt_522A\n(Amount of outstanding debt on the client's previous application.)",
         "orientation": "v",
         "showlegend": true,
         "textposition": "auto",
         "type": "bar",
         "x": [
          "outstandingdebt_522A\n(Amount of outstanding debt on the client's previous application.)"
         ],
         "xaxis": "x",
         "y": [
          1277922
         ],
         "yaxis": "y"
        },
        {
         "alignmentgroup": "True",
         "customdata": [
          [
           0.08
          ]
         ],
         "hovertemplate": "<b>%{hovertext}</b><br><br>column=%{x}<br>column_0=%{y}<br>percent=%{customdata[0]}<extra></extra>",
         "hovertext": [
          "pmtnum_8L\n(Number of payments made for the previous application.)"
         ],
         "legendgroup": "pmtnum_8L\n(Number of payments made for the previous application.)",
         "marker": {
          "color": "#FECB52",
          "pattern": {
           "shape": ""
          }
         },
         "name": "pmtnum_8L\n(Number of payments made for the previous application.)",
         "offsetgroup": "pmtnum_8L\n(Number of payments made for the previous application.)",
         "orientation": "v",
         "showlegend": true,
         "textposition": "auto",
         "type": "bar",
         "x": [
          "pmtnum_8L\n(Number of payments made for the previous application.)"
         ],
         "xaxis": "x",
         "y": [
          312833
         ],
         "yaxis": "y"
        },
        {
         "alignmentgroup": "True",
         "customdata": [
          [
           0
          ]
         ],
         "hovertemplate": "<b>%{hovertext}</b><br><br>column=%{x}<br>column_0=%{y}<br>percent=%{customdata[0]}<extra></extra>",
         "hovertext": [
          "postype_4733339M\n(Type of point of sale.)"
         ],
         "legendgroup": "postype_4733339M\n(Type of point of sale.)",
         "marker": {
          "color": "#636efa",
          "pattern": {
           "shape": ""
          }
         },
         "name": "postype_4733339M\n(Type of point of sale.)",
         "offsetgroup": "postype_4733339M\n(Type of point of sale.)",
         "orientation": "v",
         "showlegend": true,
         "textposition": "auto",
         "type": "bar",
         "x": [
          "postype_4733339M\n(Type of point of sale.)"
         ],
         "xaxis": "x",
         "y": [
          0
         ],
         "yaxis": "y"
        },
        {
         "alignmentgroup": "True",
         "customdata": [
          [
           0
          ]
         ],
         "hovertemplate": "<b>%{hovertext}</b><br><br>column=%{x}<br>column_0=%{y}<br>percent=%{customdata[0]}<extra></extra>",
         "hovertext": [
          "profession_152M\n(Profession of the client during their previous loan application.)"
         ],
         "legendgroup": "profession_152M\n(Profession of the client during their previous loan application.)",
         "marker": {
          "color": "#EF553B",
          "pattern": {
           "shape": ""
          }
         },
         "name": "profession_152M\n(Profession of the client during their previous loan application.)",
         "offsetgroup": "profession_152M\n(Profession of the client during their previous loan application.)",
         "orientation": "v",
         "showlegend": true,
         "textposition": "auto",
         "type": "bar",
         "x": [
          "profession_152M\n(Profession of the client during their previous loan application.)"
         ],
         "xaxis": "x",
         "y": [
          0
         ],
         "yaxis": "y"
        },
        {
         "alignmentgroup": "True",
         "customdata": [
          [
           0
          ]
         ],
         "hovertemplate": "<b>%{hovertext}</b><br><br>column=%{x}<br>column_0=%{y}<br>percent=%{customdata[0]}<extra></extra>",
         "hovertext": [
          "rejectreason_755M\n(Reason for previous application rejection.)"
         ],
         "legendgroup": "rejectreason_755M\n(Reason for previous application rejection.)",
         "marker": {
          "color": "#00cc96",
          "pattern": {
           "shape": ""
          }
         },
         "name": "rejectreason_755M\n(Reason for previous application rejection.)",
         "offsetgroup": "rejectreason_755M\n(Reason for previous application rejection.)",
         "orientation": "v",
         "showlegend": true,
         "textposition": "auto",
         "type": "bar",
         "x": [
          "rejectreason_755M\n(Reason for previous application rejection.)"
         ],
         "xaxis": "x",
         "y": [
          0
         ],
         "yaxis": "y"
        },
        {
         "alignmentgroup": "True",
         "customdata": [
          [
           0
          ]
         ],
         "hovertemplate": "<b>%{hovertext}</b><br><br>column=%{x}<br>column_0=%{y}<br>percent=%{customdata[0]}<extra></extra>",
         "hovertext": [
          "rejectreasonclient_4145042M\n(Reason for rejection of the client's previous application.)"
         ],
         "legendgroup": "rejectreasonclient_4145042M\n(Reason for rejection of the client's previous application.)",
         "marker": {
          "color": "#ab63fa",
          "pattern": {
           "shape": ""
          }
         },
         "name": "rejectreasonclient_4145042M\n(Reason for rejection of the client's previous application.)",
         "offsetgroup": "rejectreasonclient_4145042M\n(Reason for rejection of the client's previous application.)",
         "orientation": "v",
         "showlegend": true,
         "textposition": "auto",
         "type": "bar",
         "x": [
          "rejectreasonclient_4145042M\n(Reason for rejection of the client's previous application.)"
         ],
         "xaxis": "x",
         "y": [
          0
         ],
         "yaxis": "y"
        },
        {
         "alignmentgroup": "True",
         "customdata": [
          [
           0.96
          ]
         ],
         "hovertemplate": "<b>%{hovertext}</b><br><br>column=%{x}<br>column_0=%{y}<br>percent=%{customdata[0]}<extra></extra>",
         "hovertext": [
          "revolvingaccount_394A\n(Revolving account that was present in the applicant's previous application.)"
         ],
         "legendgroup": "revolvingaccount_394A\n(Revolving account that was present in the applicant's previous application.)",
         "marker": {
          "color": "#FFA15A",
          "pattern": {
           "shape": ""
          }
         },
         "name": "revolvingaccount_394A\n(Revolving account that was present in the applicant's previous application.)",
         "offsetgroup": "revolvingaccount_394A\n(Revolving account that was present in the applicant's previous application.)",
         "orientation": "v",
         "showlegend": true,
         "textposition": "auto",
         "type": "bar",
         "x": [
          "revolvingaccount_394A\n(Revolving account that was present in the applicant's previous application.)"
         ],
         "xaxis": "x",
         "y": [
          3731033
         ],
         "yaxis": "y"
        },
        {
         "alignmentgroup": "True",
         "customdata": [
          [
           0
          ]
         ],
         "hovertemplate": "<b>%{hovertext}</b><br><br>column=%{x}<br>column_0=%{y}<br>percent=%{customdata[0]}<extra></extra>",
         "hovertext": [
          "status_219L\n(Previous application status.)"
         ],
         "legendgroup": "status_219L\n(Previous application status.)",
         "marker": {
          "color": "#19d3f3",
          "pattern": {
           "shape": ""
          }
         },
         "name": "status_219L\n(Previous application status.)",
         "offsetgroup": "status_219L\n(Previous application status.)",
         "orientation": "v",
         "showlegend": true,
         "textposition": "auto",
         "type": "bar",
         "x": [
          "status_219L\n(Previous application status.)"
         ],
         "xaxis": "x",
         "y": [
          35
         ],
         "yaxis": "y"
        },
        {
         "alignmentgroup": "True",
         "customdata": [
          [
           0.08
          ]
         ],
         "hovertemplate": "<b>%{hovertext}</b><br><br>column=%{x}<br>column_0=%{y}<br>percent=%{customdata[0]}<extra></extra>",
         "hovertext": [
          "tenor_203L\n(Number of instalments in the previous application.)"
         ],
         "legendgroup": "tenor_203L\n(Number of instalments in the previous application.)",
         "marker": {
          "color": "#FF6692",
          "pattern": {
           "shape": ""
          }
         },
         "name": "tenor_203L\n(Number of instalments in the previous application.)",
         "offsetgroup": "tenor_203L\n(Number of instalments in the previous application.)",
         "orientation": "v",
         "showlegend": true,
         "textposition": "auto",
         "type": "bar",
         "x": [
          "tenor_203L\n(Number of instalments in the previous application.)"
         ],
         "xaxis": "x",
         "y": [
          312833
         ],
         "yaxis": "y"
        }
       ],
       "layout": {
        "annotations": [
         {
          "showarrow": false,
          "text": "Total rows",
          "x": 1,
          "xanchor": "right",
          "xref": "x domain",
          "y": 3887684,
          "yanchor": "bottom",
          "yref": "y"
         }
        ],
        "barmode": "relative",
        "height": 900,
        "legend": {
         "title": {
          "text": "column"
         },
         "tracegroupgap": 10
        },
        "margin": {
         "t": 60
        },
        "shapes": [
         {
          "line": {
           "dash": "dashdot"
          },
          "type": "line",
          "x0": 0,
          "x1": 1,
          "xref": "x domain",
          "y0": 3887684,
          "y1": 3887684,
          "yref": "y"
         }
        ],
        "template": {
         "data": {
          "bar": [
           {
            "error_x": {
             "color": "#f2f5fa"
            },
            "error_y": {
             "color": "#f2f5fa"
            },
            "marker": {
             "line": {
              "color": "rgb(17,17,17)",
              "width": 0.5
             },
             "pattern": {
              "fillmode": "overlay",
              "size": 10,
              "solidity": 0.2
             }
            },
            "type": "bar"
           }
          ],
          "barpolar": [
           {
            "marker": {
             "line": {
              "color": "rgb(17,17,17)",
              "width": 0.5
             },
             "pattern": {
              "fillmode": "overlay",
              "size": 10,
              "solidity": 0.2
             }
            },
            "type": "barpolar"
           }
          ],
          "carpet": [
           {
            "aaxis": {
             "endlinecolor": "#A2B1C6",
             "gridcolor": "#506784",
             "linecolor": "#506784",
             "minorgridcolor": "#506784",
             "startlinecolor": "#A2B1C6"
            },
            "baxis": {
             "endlinecolor": "#A2B1C6",
             "gridcolor": "#506784",
             "linecolor": "#506784",
             "minorgridcolor": "#506784",
             "startlinecolor": "#A2B1C6"
            },
            "type": "carpet"
           }
          ],
          "choropleth": [
           {
            "colorbar": {
             "outlinewidth": 0,
             "ticks": ""
            },
            "type": "choropleth"
           }
          ],
          "contour": [
           {
            "colorbar": {
             "outlinewidth": 0,
             "ticks": ""
            },
            "colorscale": [
             [
              0,
              "#0d0887"
             ],
             [
              0.1111111111111111,
              "#46039f"
             ],
             [
              0.2222222222222222,
              "#7201a8"
             ],
             [
              0.3333333333333333,
              "#9c179e"
             ],
             [
              0.4444444444444444,
              "#bd3786"
             ],
             [
              0.5555555555555556,
              "#d8576b"
             ],
             [
              0.6666666666666666,
              "#ed7953"
             ],
             [
              0.7777777777777778,
              "#fb9f3a"
             ],
             [
              0.8888888888888888,
              "#fdca26"
             ],
             [
              1,
              "#f0f921"
             ]
            ],
            "type": "contour"
           }
          ],
          "contourcarpet": [
           {
            "colorbar": {
             "outlinewidth": 0,
             "ticks": ""
            },
            "type": "contourcarpet"
           }
          ],
          "heatmap": [
           {
            "colorbar": {
             "outlinewidth": 0,
             "ticks": ""
            },
            "colorscale": [
             [
              0,
              "#0d0887"
             ],
             [
              0.1111111111111111,
              "#46039f"
             ],
             [
              0.2222222222222222,
              "#7201a8"
             ],
             [
              0.3333333333333333,
              "#9c179e"
             ],
             [
              0.4444444444444444,
              "#bd3786"
             ],
             [
              0.5555555555555556,
              "#d8576b"
             ],
             [
              0.6666666666666666,
              "#ed7953"
             ],
             [
              0.7777777777777778,
              "#fb9f3a"
             ],
             [
              0.8888888888888888,
              "#fdca26"
             ],
             [
              1,
              "#f0f921"
             ]
            ],
            "type": "heatmap"
           }
          ],
          "heatmapgl": [
           {
            "colorbar": {
             "outlinewidth": 0,
             "ticks": ""
            },
            "colorscale": [
             [
              0,
              "#0d0887"
             ],
             [
              0.1111111111111111,
              "#46039f"
             ],
             [
              0.2222222222222222,
              "#7201a8"
             ],
             [
              0.3333333333333333,
              "#9c179e"
             ],
             [
              0.4444444444444444,
              "#bd3786"
             ],
             [
              0.5555555555555556,
              "#d8576b"
             ],
             [
              0.6666666666666666,
              "#ed7953"
             ],
             [
              0.7777777777777778,
              "#fb9f3a"
             ],
             [
              0.8888888888888888,
              "#fdca26"
             ],
             [
              1,
              "#f0f921"
             ]
            ],
            "type": "heatmapgl"
           }
          ],
          "histogram": [
           {
            "marker": {
             "pattern": {
              "fillmode": "overlay",
              "size": 10,
              "solidity": 0.2
             }
            },
            "type": "histogram"
           }
          ],
          "histogram2d": [
           {
            "colorbar": {
             "outlinewidth": 0,
             "ticks": ""
            },
            "colorscale": [
             [
              0,
              "#0d0887"
             ],
             [
              0.1111111111111111,
              "#46039f"
             ],
             [
              0.2222222222222222,
              "#7201a8"
             ],
             [
              0.3333333333333333,
              "#9c179e"
             ],
             [
              0.4444444444444444,
              "#bd3786"
             ],
             [
              0.5555555555555556,
              "#d8576b"
             ],
             [
              0.6666666666666666,
              "#ed7953"
             ],
             [
              0.7777777777777778,
              "#fb9f3a"
             ],
             [
              0.8888888888888888,
              "#fdca26"
             ],
             [
              1,
              "#f0f921"
             ]
            ],
            "type": "histogram2d"
           }
          ],
          "histogram2dcontour": [
           {
            "colorbar": {
             "outlinewidth": 0,
             "ticks": ""
            },
            "colorscale": [
             [
              0,
              "#0d0887"
             ],
             [
              0.1111111111111111,
              "#46039f"
             ],
             [
              0.2222222222222222,
              "#7201a8"
             ],
             [
              0.3333333333333333,
              "#9c179e"
             ],
             [
              0.4444444444444444,
              "#bd3786"
             ],
             [
              0.5555555555555556,
              "#d8576b"
             ],
             [
              0.6666666666666666,
              "#ed7953"
             ],
             [
              0.7777777777777778,
              "#fb9f3a"
             ],
             [
              0.8888888888888888,
              "#fdca26"
             ],
             [
              1,
              "#f0f921"
             ]
            ],
            "type": "histogram2dcontour"
           }
          ],
          "mesh3d": [
           {
            "colorbar": {
             "outlinewidth": 0,
             "ticks": ""
            },
            "type": "mesh3d"
           }
          ],
          "parcoords": [
           {
            "line": {
             "colorbar": {
              "outlinewidth": 0,
              "ticks": ""
             }
            },
            "type": "parcoords"
           }
          ],
          "pie": [
           {
            "automargin": true,
            "type": "pie"
           }
          ],
          "scatter": [
           {
            "marker": {
             "line": {
              "color": "#283442"
             }
            },
            "type": "scatter"
           }
          ],
          "scatter3d": [
           {
            "line": {
             "colorbar": {
              "outlinewidth": 0,
              "ticks": ""
             }
            },
            "marker": {
             "colorbar": {
              "outlinewidth": 0,
              "ticks": ""
             }
            },
            "type": "scatter3d"
           }
          ],
          "scattercarpet": [
           {
            "marker": {
             "colorbar": {
              "outlinewidth": 0,
              "ticks": ""
             }
            },
            "type": "scattercarpet"
           }
          ],
          "scattergeo": [
           {
            "marker": {
             "colorbar": {
              "outlinewidth": 0,
              "ticks": ""
             }
            },
            "type": "scattergeo"
           }
          ],
          "scattergl": [
           {
            "marker": {
             "line": {
              "color": "#283442"
             }
            },
            "type": "scattergl"
           }
          ],
          "scattermapbox": [
           {
            "marker": {
             "colorbar": {
              "outlinewidth": 0,
              "ticks": ""
             }
            },
            "type": "scattermapbox"
           }
          ],
          "scatterpolar": [
           {
            "marker": {
             "colorbar": {
              "outlinewidth": 0,
              "ticks": ""
             }
            },
            "type": "scatterpolar"
           }
          ],
          "scatterpolargl": [
           {
            "marker": {
             "colorbar": {
              "outlinewidth": 0,
              "ticks": ""
             }
            },
            "type": "scatterpolargl"
           }
          ],
          "scatterternary": [
           {
            "marker": {
             "colorbar": {
              "outlinewidth": 0,
              "ticks": ""
             }
            },
            "type": "scatterternary"
           }
          ],
          "surface": [
           {
            "colorbar": {
             "outlinewidth": 0,
             "ticks": ""
            },
            "colorscale": [
             [
              0,
              "#0d0887"
             ],
             [
              0.1111111111111111,
              "#46039f"
             ],
             [
              0.2222222222222222,
              "#7201a8"
             ],
             [
              0.3333333333333333,
              "#9c179e"
             ],
             [
              0.4444444444444444,
              "#bd3786"
             ],
             [
              0.5555555555555556,
              "#d8576b"
             ],
             [
              0.6666666666666666,
              "#ed7953"
             ],
             [
              0.7777777777777778,
              "#fb9f3a"
             ],
             [
              0.8888888888888888,
              "#fdca26"
             ],
             [
              1,
              "#f0f921"
             ]
            ],
            "type": "surface"
           }
          ],
          "table": [
           {
            "cells": {
             "fill": {
              "color": "#506784"
             },
             "line": {
              "color": "rgb(17,17,17)"
             }
            },
            "header": {
             "fill": {
              "color": "#2a3f5f"
             },
             "line": {
              "color": "rgb(17,17,17)"
             }
            },
            "type": "table"
           }
          ]
         },
         "layout": {
          "annotationdefaults": {
           "arrowcolor": "#f2f5fa",
           "arrowhead": 0,
           "arrowwidth": 1
          },
          "autotypenumbers": "strict",
          "coloraxis": {
           "colorbar": {
            "outlinewidth": 0,
            "ticks": ""
           }
          },
          "colorscale": {
           "diverging": [
            [
             0,
             "#8e0152"
            ],
            [
             0.1,
             "#c51b7d"
            ],
            [
             0.2,
             "#de77ae"
            ],
            [
             0.3,
             "#f1b6da"
            ],
            [
             0.4,
             "#fde0ef"
            ],
            [
             0.5,
             "#f7f7f7"
            ],
            [
             0.6,
             "#e6f5d0"
            ],
            [
             0.7,
             "#b8e186"
            ],
            [
             0.8,
             "#7fbc41"
            ],
            [
             0.9,
             "#4d9221"
            ],
            [
             1,
             "#276419"
            ]
           ],
           "sequential": [
            [
             0,
             "#0d0887"
            ],
            [
             0.1111111111111111,
             "#46039f"
            ],
            [
             0.2222222222222222,
             "#7201a8"
            ],
            [
             0.3333333333333333,
             "#9c179e"
            ],
            [
             0.4444444444444444,
             "#bd3786"
            ],
            [
             0.5555555555555556,
             "#d8576b"
            ],
            [
             0.6666666666666666,
             "#ed7953"
            ],
            [
             0.7777777777777778,
             "#fb9f3a"
            ],
            [
             0.8888888888888888,
             "#fdca26"
            ],
            [
             1,
             "#f0f921"
            ]
           ],
           "sequentialminus": [
            [
             0,
             "#0d0887"
            ],
            [
             0.1111111111111111,
             "#46039f"
            ],
            [
             0.2222222222222222,
             "#7201a8"
            ],
            [
             0.3333333333333333,
             "#9c179e"
            ],
            [
             0.4444444444444444,
             "#bd3786"
            ],
            [
             0.5555555555555556,
             "#d8576b"
            ],
            [
             0.6666666666666666,
             "#ed7953"
            ],
            [
             0.7777777777777778,
             "#fb9f3a"
            ],
            [
             0.8888888888888888,
             "#fdca26"
            ],
            [
             1,
             "#f0f921"
            ]
           ]
          },
          "colorway": [
           "#636efa",
           "#EF553B",
           "#00cc96",
           "#ab63fa",
           "#FFA15A",
           "#19d3f3",
           "#FF6692",
           "#B6E880",
           "#FF97FF",
           "#FECB52"
          ],
          "font": {
           "color": "#f2f5fa",
           "family": "Monaco",
           "size": 12
          },
          "geo": {
           "bgcolor": "rgb(17,17,17)",
           "lakecolor": "rgb(17,17,17)",
           "landcolor": "rgb(17,17,17)",
           "showlakes": true,
           "showland": true,
           "subunitcolor": "#506784"
          },
          "hoverlabel": {
           "align": "left"
          },
          "hovermode": "closest",
          "mapbox": {
           "style": "dark"
          },
          "paper_bgcolor": "rgb(17,17,17)",
          "plot_bgcolor": "rgb(17,17,17)",
          "polar": {
           "angularaxis": {
            "gridcolor": "#506784",
            "linecolor": "#506784",
            "ticks": ""
           },
           "bgcolor": "rgb(17,17,17)",
           "radialaxis": {
            "gridcolor": "#506784",
            "linecolor": "#506784",
            "ticks": ""
           }
          },
          "scene": {
           "xaxis": {
            "backgroundcolor": "rgb(17,17,17)",
            "gridcolor": "#506784",
            "gridwidth": 2,
            "linecolor": "#506784",
            "showbackground": true,
            "ticks": "",
            "zerolinecolor": "#C8D4E3"
           },
           "yaxis": {
            "backgroundcolor": "rgb(17,17,17)",
            "gridcolor": "#506784",
            "gridwidth": 2,
            "linecolor": "#506784",
            "showbackground": true,
            "ticks": "",
            "zerolinecolor": "#C8D4E3"
           },
           "zaxis": {
            "backgroundcolor": "rgb(17,17,17)",
            "gridcolor": "#506784",
            "gridwidth": 2,
            "linecolor": "#506784",
            "showbackground": true,
            "ticks": "",
            "zerolinecolor": "#C8D4E3"
           }
          },
          "shapedefaults": {
           "line": {
            "color": "#f2f5fa"
           }
          },
          "sliderdefaults": {
           "bgcolor": "#C8D4E3",
           "bordercolor": "rgb(17,17,17)",
           "borderwidth": 1,
           "tickwidth": 0
          },
          "ternary": {
           "aaxis": {
            "gridcolor": "#506784",
            "linecolor": "#506784",
            "ticks": ""
           },
           "baxis": {
            "gridcolor": "#506784",
            "linecolor": "#506784",
            "ticks": ""
           },
           "bgcolor": "rgb(17,17,17)",
           "caxis": {
            "gridcolor": "#506784",
            "linecolor": "#506784",
            "ticks": ""
           }
          },
          "title": {
           "x": 0.05
          },
          "updatemenudefaults": {
           "bgcolor": "#506784",
           "borderwidth": 0
          },
          "xaxis": {
           "automargin": true,
           "gridcolor": "#283442",
           "linecolor": "#506784",
           "ticks": "",
           "title": {
            "standoff": 15
           },
           "zerolinecolor": "#283442",
           "zerolinewidth": 2
          },
          "yaxis": {
           "automargin": true,
           "gridcolor": "#283442",
           "linecolor": "#506784",
           "ticks": "",
           "title": {
            "standoff": 15
           },
           "zerolinecolor": "#283442",
           "zerolinewidth": 2
          }
         }
        },
        "xaxis": {
         "anchor": "y",
         "categoryarray": [
          "case_id",
          "actualdpd_943P\n(Days Past Due (DPD) of previous contract (actual).)",
          "annuity_853A\n(Monthly annuity for previous applications.)",
          "byoccupationinc_3656910L\n(Applicant's income from previous applications.)",
          "cancelreason_3545846M\n(Application cancellation reason.)",
          "childnum_21L\n(Number of children in the previous application.)",
          "credacc_actualbalance_314A\n(Actual balance on credit account.)",
          "credacc_credlmt_575A\n(Credit card credit limit provided for previous applications.)",
          "credacc_maxhisbal_375A\n(Maximal historical balance of previous credit account)",
          "credacc_minhisbal_90A\n(Minimum historical balance of previous credit accounts.)",
          "credacc_status_367L\n(Account status of previous credit applications.)",
          "credacc_transactions_402L\n(Number of transactions made with the previous credit account of the applicant.)",
          "credamount_590A\n(Loan amount or card limit of previous applications.)",
          "credtype_587L\n(Credit type of previous application.)",
          "currdebt_94A\n(Previous application's current debt.)",
          "district_544M\n(District of the address used in the previous loan application.)",
          "downpmt_134A\n(Previous application downpayment amount.)",
          "dtlastpmt_581D\n(Date of last payment made by the applicant.)",
          "dtlastpmtallstes_3545839D\n(Date of the applicant's last payment.)",
          "education_1138M\n(Applicant's education level from their previous application.)",
          "employedfrom_700D\n(Employment start date from the previous application.)",
          "familystate_726L\n(Family State in previous application of applicant.)",
          "inittransactioncode_279L\n(Type of the initial transaction made in the previous application of the client.)",
          "isbidproduct_390L\n(Flag for determining if the product is a cross-sell in previous applications.)",
          "isdebitcard_527L\n(Previous application flag indicating if product being applied for is a debit card.)",
          "mainoccupationinc_437A\n(Client's main income amount in their previous application.)",
          "maxdpdtolerance_577P\n(Maximum DPD with tolerance (on previous application/s).)",
          "num_group1",
          "outstandingdebt_522A\n(Amount of outstanding debt on the client's previous application.)",
          "pmtnum_8L\n(Number of payments made for the previous application.)",
          "postype_4733339M\n(Type of point of sale.)",
          "profession_152M\n(Profession of the client during their previous loan application.)",
          "rejectreason_755M\n(Reason for previous application rejection.)",
          "rejectreasonclient_4145042M\n(Reason for rejection of the client's previous application.)",
          "revolvingaccount_394A\n(Revolving account that was present in the applicant's previous application.)",
          "status_219L\n(Previous application status.)",
          "tenor_203L\n(Number of instalments in the previous application.)"
         ],
         "categoryorder": "array",
         "domain": [
          0,
          1
         ],
         "showticklabels": false,
         "title": {
          "text": "All Columns"
         }
        },
        "yaxis": {
         "anchor": "x",
         "domain": [
          0,
          1
         ],
         "title": {
          "text": "Null Counts"
         }
        }
       }
      }
     },
     "metadata": {},
     "output_type": "display_data"
    }
   ],
   "source": [
    "display(train_applprev_1.fetch().head())\n",
    "train_applprev_1.pipe(plot_nulls)"
   ]
  },
  {
   "cell_type": "code",
   "execution_count": 42,
   "metadata": {},
   "outputs": [
    {
     "data": {
      "text/html": [
       "<div><style>\n",
       ".dataframe > thead > tr,\n",
       ".dataframe > tbody > tr {\n",
       "  text-align: right;\n",
       "  white-space: pre-wrap;\n",
       "}\n",
       "</style>\n",
       "<small>shape: (5, 37)</small><table border=\"1\" class=\"dataframe\"><thead><tr><th>case_id</th><th>actualdpd_943P\n",
       "(Days Past Due (DPD) of previous contract (actual).)</th><th>annuity_853A\n",
       "(Monthly annuity for previous applications.)</th><th>byoccupationinc_3656910L\n",
       "(Applicant&#x27;s income from previous applications.)</th><th>cancelreason_3545846M\n",
       "(Application cancellation reason.)</th><th>childnum_21L\n",
       "(Number of children in the previous application.)</th><th>credacc_actualbalance_314A\n",
       "(Actual balance on credit account.)</th><th>credacc_credlmt_575A\n",
       "(Credit card credit limit provided for previous applications.)</th><th>credacc_maxhisbal_375A\n",
       "(Maximal historical balance of previous credit account)</th><th>credacc_minhisbal_90A\n",
       "(Minimum historical balance of previous credit accounts.)</th><th>credacc_status_367L\n",
       "(Account status of previous credit applications.)</th><th>credacc_transactions_402L\n",
       "(Number of transactions made with the previous credit account of the applicant.)</th><th>credamount_590A\n",
       "(Loan amount or card limit of previous applications.)</th><th>credtype_587L\n",
       "(Credit type of previous application.)</th><th>currdebt_94A\n",
       "(Previous application&#x27;s current debt.)</th><th>district_544M\n",
       "(District of the address used in the previous loan application.)</th><th>downpmt_134A\n",
       "(Previous application downpayment amount.)</th><th>dtlastpmt_581D\n",
       "(Date of last payment made by the applicant.)</th><th>dtlastpmtallstes_3545839D\n",
       "(Date of the applicant&#x27;s last payment.)</th><th>education_1138M\n",
       "(Applicant&#x27;s education level from their previous application.)</th><th>employedfrom_700D\n",
       "(Employment start date from the previous application.)</th><th>familystate_726L\n",
       "(Family State in previous application of applicant.)</th><th>inittransactioncode_279L\n",
       "(Type of the initial transaction made in the previous application of the client.)</th><th>isbidproduct_390L\n",
       "(Flag for determining if the product is a cross-sell in previous applications.)</th><th>isdebitcard_527L\n",
       "(Previous application flag indicating if product being applied for is a debit card.)</th><th>mainoccupationinc_437A\n",
       "(Client&#x27;s main income amount in their previous application.)</th><th>maxdpdtolerance_577P\n",
       "(Maximum DPD with tolerance (on previous application/s).)</th><th>num_group1</th><th>outstandingdebt_522A\n",
       "(Amount of outstanding debt on the client&#x27;s previous application.)</th><th>pmtnum_8L\n",
       "(Number of payments made for the previous application.)</th><th>postype_4733339M\n",
       "(Type of point of sale.)</th><th>profession_152M\n",
       "(Profession of the client during their previous loan application.)</th><th>rejectreason_755M\n",
       "(Reason for previous application rejection.)</th><th>rejectreasonclient_4145042M\n",
       "(Reason for rejection of the client&#x27;s previous application.)</th><th>revolvingaccount_394A\n",
       "(Revolving account that was present in the applicant&#x27;s previous application.)</th><th>status_219L\n",
       "(Previous application status.)</th><th>tenor_203L\n",
       "(Number of instalments in the previous application.)</th></tr><tr><td>i32</td><td>f32</td><td>f32</td><td>f32</td><td>str</td><td>f32</td><td>f32</td><td>f32</td><td>f32</td><td>f32</td><td>str</td><td>f32</td><td>f32</td><td>str</td><td>f32</td><td>str</td><td>f32</td><td>str</td><td>str</td><td>str</td><td>str</td><td>str</td><td>str</td><td>bool</td><td>bool</td><td>f32</td><td>f32</td><td>i8</td><td>f32</td><td>f32</td><td>str</td><td>str</td><td>str</td><td>str</td><td>f32</td><td>str</td><td>f32</td></tr></thead><tbody><tr><td>40704</td><td>0.00</td><td>7204.60</td><td>null</td><td>&quot;P94_109_143&quot;</td><td>null</td><td>null</td><td>0.00</td><td>null</td><td>null</td><td>null</td><td>null</td><td>54000.00</td><td>&quot;CAL&quot;</td><td>null</td><td>&quot;P147_6_101&quot;</td><td>0.00</td><td>null</td><td>null</td><td>&quot;a55475b1&quot;</td><td>null</td><td>null</td><td>&quot;CASH&quot;</td><td>false</td><td>null</td><td>40000.00</td><td>null</td><td>0</td><td>null</td><td>12.00</td><td>&quot;P46_145_78&quot;</td><td>&quot;a55475b1&quot;</td><td>&quot;P198_131_9&quot;</td><td>&quot;P94_109_143&quot;</td><td>null</td><td>&quot;D&quot;</td><td>12.00</td></tr><tr><td>40734</td><td>0.00</td><td>3870.20</td><td>null</td><td>&quot;P94_109_143&quot;</td><td>null</td><td>null</td><td>0.00</td><td>null</td><td>null</td><td>null</td><td>null</td><td>50000.00</td><td>&quot;CAL&quot;</td><td>null</td><td>&quot;P111_148_100&quot;</td><td>0.00</td><td>null</td><td>null</td><td>&quot;a55475b1&quot;</td><td>null</td><td>null</td><td>&quot;CASH&quot;</td><td>false</td><td>null</td><td>50000.00</td><td>null</td><td>0</td><td>null</td><td>18.00</td><td>&quot;P149_40_170&quot;</td><td>&quot;a55475b1&quot;</td><td>&quot;P45_84_106&quot;</td><td>&quot;P94_109_143&quot;</td><td>null</td><td>&quot;D&quot;</td><td>18.00</td></tr><tr><td>40737</td><td>0.00</td><td>2324.40</td><td>1.00</td><td>&quot;a55475b1&quot;</td><td>0.00</td><td>null</td><td>0.00</td><td>null</td><td>null</td><td>null</td><td>null</td><td>30000.00</td><td>&quot;CAL&quot;</td><td>0.00</td><td>&quot;a55475b1&quot;</td><td>0.00</td><td>null</td><td>null</td><td>&quot;P97_36_170&quot;</td><td>&quot;2014-01-15&quot;</td><td>&quot;MARRIED&quot;</td><td>&quot;CASH&quot;</td><td>false</td><td>null</td><td>16000.00</td><td>null</td><td>0</td><td>0.00</td><td>18.00</td><td>&quot;P46_145_78&quot;</td><td>&quot;a55475b1&quot;</td><td>&quot;a55475b1&quot;</td><td>&quot;a55475b1&quot;</td><td>null</td><td>&quot;D&quot;</td><td>18.00</td></tr><tr><td>40791</td><td>0.00</td><td>3044.40</td><td>null</td><td>&quot;P94_109_143&quot;</td><td>null</td><td>null</td><td>0.00</td><td>null</td><td>null</td><td>null</td><td>null</td><td>44840.00</td><td>&quot;COL&quot;</td><td>null</td><td>&quot;P19_11_176&quot;</td><td>0.00</td><td>null</td><td>null</td><td>&quot;a55475b1&quot;</td><td>null</td><td>null</td><td>&quot;POS&quot;</td><td>false</td><td>null</td><td>30000.00</td><td>null</td><td>0</td><td>null</td><td>24.00</td><td>&quot;P177_117_192&quot;</td><td>&quot;a55475b1&quot;</td><td>&quot;P99_56_166&quot;</td><td>&quot;P94_109_143&quot;</td><td>null</td><td>&quot;D&quot;</td><td>24.00</td></tr><tr><td>40791</td><td>0.00</td><td>2320.80</td><td>1.00</td><td>&quot;a55475b1&quot;</td><td>0.00</td><td>null</td><td>0.00</td><td>null</td><td>null</td><td>null</td><td>null</td><td>27830.00</td><td>&quot;COL&quot;</td><td>0.00</td><td>&quot;a55475b1&quot;</td><td>0.00</td><td>null</td><td>null</td><td>&quot;P97_36_170&quot;</td><td>&quot;2013-04-15&quot;</td><td>&quot;SINGLE&quot;</td><td>&quot;POS&quot;</td><td>false</td><td>null</td><td>16000.00</td><td>null</td><td>1</td><td>0.00</td><td>12.00</td><td>&quot;P60_146_156&quot;</td><td>&quot;a55475b1&quot;</td><td>&quot;a55475b1&quot;</td><td>&quot;a55475b1&quot;</td><td>null</td><td>&quot;D&quot;</td><td>12.00</td></tr></tbody></table></div>"
      ],
      "text/plain": [
       "shape: (5, 37)\n",
       "┌─────────┬────────────┬───────────┬───────────┬───┬───────────┬───────────┬───────────┬───────────┐\n",
       "│ case_id ┆ actualdpd_ ┆ annuity_8 ┆ byoccupat ┆ … ┆ rejectrea ┆ revolving ┆ status_21 ┆ tenor_203 │\n",
       "│ ---     ┆ 943P       ┆ 53A       ┆ ioninc_36 ┆   ┆ sonclient ┆ account_3 ┆ 9L        ┆ L         │\n",
       "│ i32     ┆ (Days Past ┆ (Monthly  ┆ 56910L    ┆   ┆ _4145042M ┆ 94A       ┆ (Previous ┆ (Number   │\n",
       "│         ┆ Due (DPD)  ┆ annuity   ┆ (Applican ┆   ┆ (Reason   ┆ (Revolvin ┆ applicati ┆ of instal │\n",
       "│         ┆ of         ┆ for       ┆ t's       ┆   ┆ for       ┆ g account ┆ on        ┆ ments in  │\n",
       "│         ┆ previous   ┆ previous  ┆ income    ┆   ┆ rejection ┆ that was  ┆ status.)  ┆ the       │\n",
       "│         ┆ contract   ┆ applicati ┆ from      ┆   ┆ of the    ┆ present   ┆ ---       ┆ previous  │\n",
       "│         ┆ (actual).) ┆ ons.)     ┆ previous  ┆   ┆ client's  ┆ in the    ┆ str       ┆ applicati │\n",
       "│         ┆ ---        ┆ ---       ┆ applicati ┆   ┆ previous  ┆ applicant ┆           ┆ on.)      │\n",
       "│         ┆ f32        ┆ f32       ┆ ons.)     ┆   ┆ applicati ┆ 's        ┆           ┆ ---       │\n",
       "│         ┆            ┆           ┆ ---       ┆   ┆ on.)      ┆ previous  ┆           ┆ f32       │\n",
       "│         ┆            ┆           ┆ f32       ┆   ┆ ---       ┆ applicati ┆           ┆           │\n",
       "│         ┆            ┆           ┆           ┆   ┆ str       ┆ on.)      ┆           ┆           │\n",
       "│         ┆            ┆           ┆           ┆   ┆           ┆ ---       ┆           ┆           │\n",
       "│         ┆            ┆           ┆           ┆   ┆           ┆ f32       ┆           ┆           │\n",
       "╞═════════╪════════════╪═══════════╪═══════════╪═══╪═══════════╪═══════════╪═══════════╪═══════════╡\n",
       "│ 40704   ┆ 0.00       ┆ 7204.60   ┆ null      ┆ … ┆ P94_109_1 ┆ null      ┆ D         ┆ 12.00     │\n",
       "│         ┆            ┆           ┆           ┆   ┆ 43        ┆           ┆           ┆           │\n",
       "│ 40734   ┆ 0.00       ┆ 3870.20   ┆ null      ┆ … ┆ P94_109_1 ┆ null      ┆ D         ┆ 18.00     │\n",
       "│         ┆            ┆           ┆           ┆   ┆ 43        ┆           ┆           ┆           │\n",
       "│ 40737   ┆ 0.00       ┆ 2324.40   ┆ 1.00      ┆ … ┆ a55475b1  ┆ null      ┆ D         ┆ 18.00     │\n",
       "│ 40791   ┆ 0.00       ┆ 3044.40   ┆ null      ┆ … ┆ P94_109_1 ┆ null      ┆ D         ┆ 24.00     │\n",
       "│         ┆            ┆           ┆           ┆   ┆ 43        ┆           ┆           ┆           │\n",
       "│ 40791   ┆ 0.00       ┆ 2320.80   ┆ 1.00      ┆ … ┆ a55475b1  ┆ null      ┆ D         ┆ 12.00     │\n",
       "└─────────┴────────────┴───────────┴───────────┴───┴───────────┴───────────┴───────────┴───────────┘"
      ]
     },
     "metadata": {},
     "output_type": "display_data"
    },
    {
     "data": {
      "application/vnd.plotly.v1+json": {
       "config": {
        "plotlyServerURL": "https://plot.ly"
       },
       "data": [
        {
         "alignmentgroup": "True",
         "customdata": [
          [
           0
          ]
         ],
         "hovertemplate": "<b>%{hovertext}</b><br><br>column=%{x}<br>column_0=%{y}<br>percent=%{customdata[0]}<extra></extra>",
         "hovertext": [
          "case_id"
         ],
         "legendgroup": "case_id",
         "marker": {
          "color": "#636efa",
          "pattern": {
           "shape": ""
          }
         },
         "name": "case_id",
         "offsetgroup": "case_id",
         "orientation": "v",
         "showlegend": true,
         "textposition": "auto",
         "type": "bar",
         "x": [
          "case_id"
         ],
         "xaxis": "x",
         "y": [
          0
         ],
         "yaxis": "y"
        },
        {
         "alignmentgroup": "True",
         "customdata": [
          [
           0
          ]
         ],
         "hovertemplate": "<b>%{hovertext}</b><br><br>column=%{x}<br>column_0=%{y}<br>percent=%{customdata[0]}<extra></extra>",
         "hovertext": [
          "actualdpd_943P\n(Days Past Due (DPD) of previous contract (actual).)"
         ],
         "legendgroup": "actualdpd_943P\n(Days Past Due (DPD) of previous contract (actual).)",
         "marker": {
          "color": "#EF553B",
          "pattern": {
           "shape": ""
          }
         },
         "name": "actualdpd_943P\n(Days Past Due (DPD) of previous contract (actual).)",
         "offsetgroup": "actualdpd_943P\n(Days Past Due (DPD) of previous contract (actual).)",
         "orientation": "v",
         "showlegend": true,
         "textposition": "auto",
         "type": "bar",
         "x": [
          "actualdpd_943P\n(Days Past Due (DPD) of previous contract (actual).)"
         ],
         "xaxis": "x",
         "y": [
          266
         ],
         "yaxis": "y"
        },
        {
         "alignmentgroup": "True",
         "customdata": [
          [
           0.04
          ]
         ],
         "hovertemplate": "<b>%{hovertext}</b><br><br>column=%{x}<br>column_0=%{y}<br>percent=%{customdata[0]}<extra></extra>",
         "hovertext": [
          "annuity_853A\n(Monthly annuity for previous applications.)"
         ],
         "legendgroup": "annuity_853A\n(Monthly annuity for previous applications.)",
         "marker": {
          "color": "#00cc96",
          "pattern": {
           "shape": ""
          }
         },
         "name": "annuity_853A\n(Monthly annuity for previous applications.)",
         "offsetgroup": "annuity_853A\n(Monthly annuity for previous applications.)",
         "orientation": "v",
         "showlegend": true,
         "textposition": "auto",
         "type": "bar",
         "x": [
          "annuity_853A\n(Monthly annuity for previous applications.)"
         ],
         "xaxis": "x",
         "y": [
          94885
         ],
         "yaxis": "y"
        },
        {
         "alignmentgroup": "True",
         "customdata": [
          [
           0.79
          ]
         ],
         "hovertemplate": "<b>%{hovertext}</b><br><br>column=%{x}<br>column_0=%{y}<br>percent=%{customdata[0]}<extra></extra>",
         "hovertext": [
          "byoccupationinc_3656910L\n(Applicant's income from previous applications.)"
         ],
         "legendgroup": "byoccupationinc_3656910L\n(Applicant's income from previous applications.)",
         "marker": {
          "color": "#ab63fa",
          "pattern": {
           "shape": ""
          }
         },
         "name": "byoccupationinc_3656910L\n(Applicant's income from previous applications.)",
         "offsetgroup": "byoccupationinc_3656910L\n(Applicant's income from previous applications.)",
         "orientation": "v",
         "showlegend": true,
         "textposition": "auto",
         "type": "bar",
         "x": [
          "byoccupationinc_3656910L\n(Applicant's income from previous applications.)"
         ],
         "xaxis": "x",
         "y": [
          2095507
         ],
         "yaxis": "y"
        },
        {
         "alignmentgroup": "True",
         "customdata": [
          [
           0
          ]
         ],
         "hovertemplate": "<b>%{hovertext}</b><br><br>column=%{x}<br>column_0=%{y}<br>percent=%{customdata[0]}<extra></extra>",
         "hovertext": [
          "cancelreason_3545846M\n(Application cancellation reason.)"
         ],
         "legendgroup": "cancelreason_3545846M\n(Application cancellation reason.)",
         "marker": {
          "color": "#FFA15A",
          "pattern": {
           "shape": ""
          }
         },
         "name": "cancelreason_3545846M\n(Application cancellation reason.)",
         "offsetgroup": "cancelreason_3545846M\n(Application cancellation reason.)",
         "orientation": "v",
         "showlegend": true,
         "textposition": "auto",
         "type": "bar",
         "x": [
          "cancelreason_3545846M\n(Application cancellation reason.)"
         ],
         "xaxis": "x",
         "y": [
          0
         ],
         "yaxis": "y"
        },
        {
         "alignmentgroup": "True",
         "customdata": [
          [
           0.61
          ]
         ],
         "hovertemplate": "<b>%{hovertext}</b><br><br>column=%{x}<br>column_0=%{y}<br>percent=%{customdata[0]}<extra></extra>",
         "hovertext": [
          "childnum_21L\n(Number of children in the previous application.)"
         ],
         "legendgroup": "childnum_21L\n(Number of children in the previous application.)",
         "marker": {
          "color": "#19d3f3",
          "pattern": {
           "shape": ""
          }
         },
         "name": "childnum_21L\n(Number of children in the previous application.)",
         "offsetgroup": "childnum_21L\n(Number of children in the previous application.)",
         "orientation": "v",
         "showlegend": true,
         "textposition": "auto",
         "type": "bar",
         "x": [
          "childnum_21L\n(Number of children in the previous application.)"
         ],
         "xaxis": "x",
         "y": [
          1605531
         ],
         "yaxis": "y"
        },
        {
         "alignmentgroup": "True",
         "customdata": [
          [
           0.94
          ]
         ],
         "hovertemplate": "<b>%{hovertext}</b><br><br>column=%{x}<br>column_0=%{y}<br>percent=%{customdata[0]}<extra></extra>",
         "hovertext": [
          "credacc_actualbalance_314A\n(Actual balance on credit account.)"
         ],
         "legendgroup": "credacc_actualbalance_314A\n(Actual balance on credit account.)",
         "marker": {
          "color": "#FF6692",
          "pattern": {
           "shape": ""
          }
         },
         "name": "credacc_actualbalance_314A\n(Actual balance on credit account.)",
         "offsetgroup": "credacc_actualbalance_314A\n(Actual balance on credit account.)",
         "orientation": "v",
         "showlegend": true,
         "textposition": "auto",
         "type": "bar",
         "x": [
          "credacc_actualbalance_314A\n(Actual balance on credit account.)"
         ],
         "xaxis": "x",
         "y": [
          2486439
         ],
         "yaxis": "y"
        },
        {
         "alignmentgroup": "True",
         "customdata": [
          [
           0.03
          ]
         ],
         "hovertemplate": "<b>%{hovertext}</b><br><br>column=%{x}<br>column_0=%{y}<br>percent=%{customdata[0]}<extra></extra>",
         "hovertext": [
          "credacc_credlmt_575A\n(Credit card credit limit provided for previous applications.)"
         ],
         "legendgroup": "credacc_credlmt_575A\n(Credit card credit limit provided for previous applications.)",
         "marker": {
          "color": "#B6E880",
          "pattern": {
           "shape": ""
          }
         },
         "name": "credacc_credlmt_575A\n(Credit card credit limit provided for previous applications.)",
         "offsetgroup": "credacc_credlmt_575A\n(Credit card credit limit provided for previous applications.)",
         "orientation": "v",
         "showlegend": true,
         "textposition": "auto",
         "type": "bar",
         "x": [
          "credacc_credlmt_575A\n(Credit card credit limit provided for previous applications.)"
         ],
         "xaxis": "x",
         "y": [
          75062
         ],
         "yaxis": "y"
        },
        {
         "alignmentgroup": "True",
         "customdata": [
          [
           0.94
          ]
         ],
         "hovertemplate": "<b>%{hovertext}</b><br><br>column=%{x}<br>column_0=%{y}<br>percent=%{customdata[0]}<extra></extra>",
         "hovertext": [
          "credacc_maxhisbal_375A\n(Maximal historical balance of previous credit account)"
         ],
         "legendgroup": "credacc_maxhisbal_375A\n(Maximal historical balance of previous credit account)",
         "marker": {
          "color": "#FF97FF",
          "pattern": {
           "shape": ""
          }
         },
         "name": "credacc_maxhisbal_375A\n(Maximal historical balance of previous credit account)",
         "offsetgroup": "credacc_maxhisbal_375A\n(Maximal historical balance of previous credit account)",
         "orientation": "v",
         "showlegend": true,
         "textposition": "auto",
         "type": "bar",
         "x": [
          "credacc_maxhisbal_375A\n(Maximal historical balance of previous credit account)"
         ],
         "xaxis": "x",
         "y": [
          2486439
         ],
         "yaxis": "y"
        },
        {
         "alignmentgroup": "True",
         "customdata": [
          [
           0.94
          ]
         ],
         "hovertemplate": "<b>%{hovertext}</b><br><br>column=%{x}<br>column_0=%{y}<br>percent=%{customdata[0]}<extra></extra>",
         "hovertext": [
          "credacc_minhisbal_90A\n(Minimum historical balance of previous credit accounts.)"
         ],
         "legendgroup": "credacc_minhisbal_90A\n(Minimum historical balance of previous credit accounts.)",
         "marker": {
          "color": "#FECB52",
          "pattern": {
           "shape": ""
          }
         },
         "name": "credacc_minhisbal_90A\n(Minimum historical balance of previous credit accounts.)",
         "offsetgroup": "credacc_minhisbal_90A\n(Minimum historical balance of previous credit accounts.)",
         "orientation": "v",
         "showlegend": true,
         "textposition": "auto",
         "type": "bar",
         "x": [
          "credacc_minhisbal_90A\n(Minimum historical balance of previous credit accounts.)"
         ],
         "xaxis": "x",
         "y": [
          2486439
         ],
         "yaxis": "y"
        },
        {
         "alignmentgroup": "True",
         "customdata": [
          [
           0.94
          ]
         ],
         "hovertemplate": "<b>%{hovertext}</b><br><br>column=%{x}<br>column_0=%{y}<br>percent=%{customdata[0]}<extra></extra>",
         "hovertext": [
          "credacc_status_367L\n(Account status of previous credit applications.)"
         ],
         "legendgroup": "credacc_status_367L\n(Account status of previous credit applications.)",
         "marker": {
          "color": "#636efa",
          "pattern": {
           "shape": ""
          }
         },
         "name": "credacc_status_367L\n(Account status of previous credit applications.)",
         "offsetgroup": "credacc_status_367L\n(Account status of previous credit applications.)",
         "orientation": "v",
         "showlegend": true,
         "textposition": "auto",
         "type": "bar",
         "x": [
          "credacc_status_367L\n(Account status of previous credit applications.)"
         ],
         "xaxis": "x",
         "y": [
          2486439
         ],
         "yaxis": "y"
        },
        {
         "alignmentgroup": "True",
         "customdata": [
          [
           0.94
          ]
         ],
         "hovertemplate": "<b>%{hovertext}</b><br><br>column=%{x}<br>column_0=%{y}<br>percent=%{customdata[0]}<extra></extra>",
         "hovertext": [
          "credacc_transactions_402L\n(Number of transactions made with the previous credit account of the applicant.)"
         ],
         "legendgroup": "credacc_transactions_402L\n(Number of transactions made with the previous credit account of the applicant.)",
         "marker": {
          "color": "#EF553B",
          "pattern": {
           "shape": ""
          }
         },
         "name": "credacc_transactions_402L\n(Number of transactions made with the previous credit account of the applicant.)",
         "offsetgroup": "credacc_transactions_402L\n(Number of transactions made with the previous credit account of the applicant.)",
         "orientation": "v",
         "showlegend": true,
         "textposition": "auto",
         "type": "bar",
         "x": [
          "credacc_transactions_402L\n(Number of transactions made with the previous credit account of the applicant.)"
         ],
         "xaxis": "x",
         "y": [
          2486439
         ],
         "yaxis": "y"
        },
        {
         "alignmentgroup": "True",
         "customdata": [
          [
           0.03
          ]
         ],
         "hovertemplate": "<b>%{hovertext}</b><br><br>column=%{x}<br>column_0=%{y}<br>percent=%{customdata[0]}<extra></extra>",
         "hovertext": [
          "credamount_590A\n(Loan amount or card limit of previous applications.)"
         ],
         "legendgroup": "credamount_590A\n(Loan amount or card limit of previous applications.)",
         "marker": {
          "color": "#00cc96",
          "pattern": {
           "shape": ""
          }
         },
         "name": "credamount_590A\n(Loan amount or card limit of previous applications.)",
         "offsetgroup": "credamount_590A\n(Loan amount or card limit of previous applications.)",
         "orientation": "v",
         "showlegend": true,
         "textposition": "auto",
         "type": "bar",
         "x": [
          "credamount_590A\n(Loan amount or card limit of previous applications.)"
         ],
         "xaxis": "x",
         "y": [
          78869
         ],
         "yaxis": "y"
        },
        {
         "alignmentgroup": "True",
         "customdata": [
          [
           0.03
          ]
         ],
         "hovertemplate": "<b>%{hovertext}</b><br><br>column=%{x}<br>column_0=%{y}<br>percent=%{customdata[0]}<extra></extra>",
         "hovertext": [
          "credtype_587L\n(Credit type of previous application.)"
         ],
         "legendgroup": "credtype_587L\n(Credit type of previous application.)",
         "marker": {
          "color": "#ab63fa",
          "pattern": {
           "shape": ""
          }
         },
         "name": "credtype_587L\n(Credit type of previous application.)",
         "offsetgroup": "credtype_587L\n(Credit type of previous application.)",
         "orientation": "v",
         "showlegend": true,
         "textposition": "auto",
         "type": "bar",
         "x": [
          "credtype_587L\n(Credit type of previous application.)"
         ],
         "xaxis": "x",
         "y": [
          78869
         ],
         "yaxis": "y"
        },
        {
         "alignmentgroup": "True",
         "customdata": [
          [
           0.37
          ]
         ],
         "hovertemplate": "<b>%{hovertext}</b><br><br>column=%{x}<br>column_0=%{y}<br>percent=%{customdata[0]}<extra></extra>",
         "hovertext": [
          "currdebt_94A\n(Previous application's current debt.)"
         ],
         "legendgroup": "currdebt_94A\n(Previous application's current debt.)",
         "marker": {
          "color": "#FFA15A",
          "pattern": {
           "shape": ""
          }
         },
         "name": "currdebt_94A\n(Previous application's current debt.)",
         "offsetgroup": "currdebt_94A\n(Previous application's current debt.)",
         "orientation": "v",
         "showlegend": true,
         "textposition": "auto",
         "type": "bar",
         "x": [
          "currdebt_94A\n(Previous application's current debt.)"
         ],
         "xaxis": "x",
         "y": [
          976135
         ],
         "yaxis": "y"
        },
        {
         "alignmentgroup": "True",
         "customdata": [
          [
           0
          ]
         ],
         "hovertemplate": "<b>%{hovertext}</b><br><br>column=%{x}<br>column_0=%{y}<br>percent=%{customdata[0]}<extra></extra>",
         "hovertext": [
          "district_544M\n(District of the address used in the previous loan application.)"
         ],
         "legendgroup": "district_544M\n(District of the address used in the previous loan application.)",
         "marker": {
          "color": "#19d3f3",
          "pattern": {
           "shape": ""
          }
         },
         "name": "district_544M\n(District of the address used in the previous loan application.)",
         "offsetgroup": "district_544M\n(District of the address used in the previous loan application.)",
         "orientation": "v",
         "showlegend": true,
         "textposition": "auto",
         "type": "bar",
         "x": [
          "district_544M\n(District of the address used in the previous loan application.)"
         ],
         "xaxis": "x",
         "y": [
          0
         ],
         "yaxis": "y"
        },
        {
         "alignmentgroup": "True",
         "customdata": [
          [
           0.03
          ]
         ],
         "hovertemplate": "<b>%{hovertext}</b><br><br>column=%{x}<br>column_0=%{y}<br>percent=%{customdata[0]}<extra></extra>",
         "hovertext": [
          "downpmt_134A\n(Previous application downpayment amount.)"
         ],
         "legendgroup": "downpmt_134A\n(Previous application downpayment amount.)",
         "marker": {
          "color": "#FF6692",
          "pattern": {
           "shape": ""
          }
         },
         "name": "downpmt_134A\n(Previous application downpayment amount.)",
         "offsetgroup": "downpmt_134A\n(Previous application downpayment amount.)",
         "orientation": "v",
         "showlegend": true,
         "textposition": "auto",
         "type": "bar",
         "x": [
          "downpmt_134A\n(Previous application downpayment amount.)"
         ],
         "xaxis": "x",
         "y": [
          78869
         ],
         "yaxis": "y"
        },
        {
         "alignmentgroup": "True",
         "customdata": [
          [
           0.72
          ]
         ],
         "hovertemplate": "<b>%{hovertext}</b><br><br>column=%{x}<br>column_0=%{y}<br>percent=%{customdata[0]}<extra></extra>",
         "hovertext": [
          "dtlastpmt_581D\n(Date of last payment made by the applicant.)"
         ],
         "legendgroup": "dtlastpmt_581D\n(Date of last payment made by the applicant.)",
         "marker": {
          "color": "#B6E880",
          "pattern": {
           "shape": ""
          }
         },
         "name": "dtlastpmt_581D\n(Date of last payment made by the applicant.)",
         "offsetgroup": "dtlastpmt_581D\n(Date of last payment made by the applicant.)",
         "orientation": "v",
         "showlegend": true,
         "textposition": "auto",
         "type": "bar",
         "x": [
          "dtlastpmt_581D\n(Date of last payment made by the applicant.)"
         ],
         "xaxis": "x",
         "y": [
          1890009
         ],
         "yaxis": "y"
        },
        {
         "alignmentgroup": "True",
         "customdata": [
          [
           0.61
          ]
         ],
         "hovertemplate": "<b>%{hovertext}</b><br><br>column=%{x}<br>column_0=%{y}<br>percent=%{customdata[0]}<extra></extra>",
         "hovertext": [
          "dtlastpmtallstes_3545839D\n(Date of the applicant's last payment.)"
         ],
         "legendgroup": "dtlastpmtallstes_3545839D\n(Date of the applicant's last payment.)",
         "marker": {
          "color": "#FF97FF",
          "pattern": {
           "shape": ""
          }
         },
         "name": "dtlastpmtallstes_3545839D\n(Date of the applicant's last payment.)",
         "offsetgroup": "dtlastpmtallstes_3545839D\n(Date of the applicant's last payment.)",
         "orientation": "v",
         "showlegend": true,
         "textposition": "auto",
         "type": "bar",
         "x": [
          "dtlastpmtallstes_3545839D\n(Date of the applicant's last payment.)"
         ],
         "xaxis": "x",
         "y": [
          1609466
         ],
         "yaxis": "y"
        },
        {
         "alignmentgroup": "True",
         "customdata": [
          [
           0
          ]
         ],
         "hovertemplate": "<b>%{hovertext}</b><br><br>column=%{x}<br>column_0=%{y}<br>percent=%{customdata[0]}<extra></extra>",
         "hovertext": [
          "education_1138M\n(Applicant's education level from their previous application.)"
         ],
         "legendgroup": "education_1138M\n(Applicant's education level from their previous application.)",
         "marker": {
          "color": "#FECB52",
          "pattern": {
           "shape": ""
          }
         },
         "name": "education_1138M\n(Applicant's education level from their previous application.)",
         "offsetgroup": "education_1138M\n(Applicant's education level from their previous application.)",
         "orientation": "v",
         "showlegend": true,
         "textposition": "auto",
         "type": "bar",
         "x": [
          "education_1138M\n(Applicant's education level from their previous application.)"
         ],
         "xaxis": "x",
         "y": [
          0
         ],
         "yaxis": "y"
        },
        {
         "alignmentgroup": "True",
         "customdata": [
          [
           0.65
          ]
         ],
         "hovertemplate": "<b>%{hovertext}</b><br><br>column=%{x}<br>column_0=%{y}<br>percent=%{customdata[0]}<extra></extra>",
         "hovertext": [
          "employedfrom_700D\n(Employment start date from the previous application.)"
         ],
         "legendgroup": "employedfrom_700D\n(Employment start date from the previous application.)",
         "marker": {
          "color": "#636efa",
          "pattern": {
           "shape": ""
          }
         },
         "name": "employedfrom_700D\n(Employment start date from the previous application.)",
         "offsetgroup": "employedfrom_700D\n(Employment start date from the previous application.)",
         "orientation": "v",
         "showlegend": true,
         "textposition": "auto",
         "type": "bar",
         "x": [
          "employedfrom_700D\n(Employment start date from the previous application.)"
         ],
         "xaxis": "x",
         "y": [
          1705609
         ],
         "yaxis": "y"
        },
        {
         "alignmentgroup": "True",
         "customdata": [
          [
           0.44
          ]
         ],
         "hovertemplate": "<b>%{hovertext}</b><br><br>column=%{x}<br>column_0=%{y}<br>percent=%{customdata[0]}<extra></extra>",
         "hovertext": [
          "familystate_726L\n(Family State in previous application of applicant.)"
         ],
         "legendgroup": "familystate_726L\n(Family State in previous application of applicant.)",
         "marker": {
          "color": "#EF553B",
          "pattern": {
           "shape": ""
          }
         },
         "name": "familystate_726L\n(Family State in previous application of applicant.)",
         "offsetgroup": "familystate_726L\n(Family State in previous application of applicant.)",
         "orientation": "v",
         "showlegend": true,
         "textposition": "auto",
         "type": "bar",
         "x": [
          "familystate_726L\n(Family State in previous application of applicant.)"
         ],
         "xaxis": "x",
         "y": [
          1148691
         ],
         "yaxis": "y"
        },
        {
         "alignmentgroup": "True",
         "customdata": [
          [
           0.03
          ]
         ],
         "hovertemplate": "<b>%{hovertext}</b><br><br>column=%{x}<br>column_0=%{y}<br>percent=%{customdata[0]}<extra></extra>",
         "hovertext": [
          "inittransactioncode_279L\n(Type of the initial transaction made in the previous application of the client.)"
         ],
         "legendgroup": "inittransactioncode_279L\n(Type of the initial transaction made in the previous application of the client.)",
         "marker": {
          "color": "#00cc96",
          "pattern": {
           "shape": ""
          }
         },
         "name": "inittransactioncode_279L\n(Type of the initial transaction made in the previous application of the client.)",
         "offsetgroup": "inittransactioncode_279L\n(Type of the initial transaction made in the previous application of the client.)",
         "orientation": "v",
         "showlegend": true,
         "textposition": "auto",
         "type": "bar",
         "x": [
          "inittransactioncode_279L\n(Type of the initial transaction made in the previous application of the client.)"
         ],
         "xaxis": "x",
         "y": [
          78869
         ],
         "yaxis": "y"
        },
        {
         "alignmentgroup": "True",
         "customdata": [
          [
           0
          ]
         ],
         "hovertemplate": "<b>%{hovertext}</b><br><br>column=%{x}<br>column_0=%{y}<br>percent=%{customdata[0]}<extra></extra>",
         "hovertext": [
          "isbidproduct_390L\n(Flag for determining if the product is a cross-sell in previous applications.)"
         ],
         "legendgroup": "isbidproduct_390L\n(Flag for determining if the product is a cross-sell in previous applications.)",
         "marker": {
          "color": "#ab63fa",
          "pattern": {
           "shape": ""
          }
         },
         "name": "isbidproduct_390L\n(Flag for determining if the product is a cross-sell in previous applications.)",
         "offsetgroup": "isbidproduct_390L\n(Flag for determining if the product is a cross-sell in previous applications.)",
         "orientation": "v",
         "showlegend": true,
         "textposition": "auto",
         "type": "bar",
         "x": [
          "isbidproduct_390L\n(Flag for determining if the product is a cross-sell in previous applications.)"
         ],
         "xaxis": "x",
         "y": [
          31
         ],
         "yaxis": "y"
        },
        {
         "alignmentgroup": "True",
         "customdata": [
          [
           0.92
          ]
         ],
         "hovertemplate": "<b>%{hovertext}</b><br><br>column=%{x}<br>column_0=%{y}<br>percent=%{customdata[0]}<extra></extra>",
         "hovertext": [
          "isdebitcard_527L\n(Previous application flag indicating if product being applied for is a debit card.)"
         ],
         "legendgroup": "isdebitcard_527L\n(Previous application flag indicating if product being applied for is a debit card.)",
         "marker": {
          "color": "#FFA15A",
          "pattern": {
           "shape": ""
          }
         },
         "name": "isdebitcard_527L\n(Previous application flag indicating if product being applied for is a debit card.)",
         "offsetgroup": "isdebitcard_527L\n(Previous application flag indicating if product being applied for is a debit card.)",
         "orientation": "v",
         "showlegend": true,
         "textposition": "auto",
         "type": "bar",
         "x": [
          "isdebitcard_527L\n(Previous application flag indicating if product being applied for is a debit card.)"
         ],
         "xaxis": "x",
         "y": [
          2425416
         ],
         "yaxis": "y"
        },
        {
         "alignmentgroup": "True",
         "customdata": [
          [
           0.02
          ]
         ],
         "hovertemplate": "<b>%{hovertext}</b><br><br>column=%{x}<br>column_0=%{y}<br>percent=%{customdata[0]}<extra></extra>",
         "hovertext": [
          "mainoccupationinc_437A\n(Client's main income amount in their previous application.)"
         ],
         "legendgroup": "mainoccupationinc_437A\n(Client's main income amount in their previous application.)",
         "marker": {
          "color": "#19d3f3",
          "pattern": {
           "shape": ""
          }
         },
         "name": "mainoccupationinc_437A\n(Client's main income amount in their previous application.)",
         "offsetgroup": "mainoccupationinc_437A\n(Client's main income amount in their previous application.)",
         "orientation": "v",
         "showlegend": true,
         "textposition": "auto",
         "type": "bar",
         "x": [
          "mainoccupationinc_437A\n(Client's main income amount in their previous application.)"
         ],
         "xaxis": "x",
         "y": [
          65371
         ],
         "yaxis": "y"
        },
        {
         "alignmentgroup": "True",
         "customdata": [
          [
           0.48
          ]
         ],
         "hovertemplate": "<b>%{hovertext}</b><br><br>column=%{x}<br>column_0=%{y}<br>percent=%{customdata[0]}<extra></extra>",
         "hovertext": [
          "maxdpdtolerance_577P\n(Maximum DPD with tolerance (on previous application/s).)"
         ],
         "legendgroup": "maxdpdtolerance_577P\n(Maximum DPD with tolerance (on previous application/s).)",
         "marker": {
          "color": "#FF6692",
          "pattern": {
           "shape": ""
          }
         },
         "name": "maxdpdtolerance_577P\n(Maximum DPD with tolerance (on previous application/s).)",
         "offsetgroup": "maxdpdtolerance_577P\n(Maximum DPD with tolerance (on previous application/s).)",
         "orientation": "v",
         "showlegend": true,
         "textposition": "auto",
         "type": "bar",
         "x": [
          "maxdpdtolerance_577P\n(Maximum DPD with tolerance (on previous application/s).)"
         ],
         "xaxis": "x",
         "y": [
          1278326
         ],
         "yaxis": "y"
        },
        {
         "alignmentgroup": "True",
         "customdata": [
          [
           0
          ]
         ],
         "hovertemplate": "<b>%{hovertext}</b><br><br>column=%{x}<br>column_0=%{y}<br>percent=%{customdata[0]}<extra></extra>",
         "hovertext": [
          "num_group1"
         ],
         "legendgroup": "num_group1",
         "marker": {
          "color": "#B6E880",
          "pattern": {
           "shape": ""
          }
         },
         "name": "num_group1",
         "offsetgroup": "num_group1",
         "orientation": "v",
         "showlegend": true,
         "textposition": "auto",
         "type": "bar",
         "x": [
          "num_group1"
         ],
         "xaxis": "x",
         "y": [
          0
         ],
         "yaxis": "y"
        },
        {
         "alignmentgroup": "True",
         "customdata": [
          [
           0.37
          ]
         ],
         "hovertemplate": "<b>%{hovertext}</b><br><br>column=%{x}<br>column_0=%{y}<br>percent=%{customdata[0]}<extra></extra>",
         "hovertext": [
          "outstandingdebt_522A\n(Amount of outstanding debt on the client's previous application.)"
         ],
         "legendgroup": "outstandingdebt_522A\n(Amount of outstanding debt on the client's previous application.)",
         "marker": {
          "color": "#FF97FF",
          "pattern": {
           "shape": ""
          }
         },
         "name": "outstandingdebt_522A\n(Amount of outstanding debt on the client's previous application.)",
         "offsetgroup": "outstandingdebt_522A\n(Amount of outstanding debt on the client's previous application.)",
         "orientation": "v",
         "showlegend": true,
         "textposition": "auto",
         "type": "bar",
         "x": [
          "outstandingdebt_522A\n(Amount of outstanding debt on the client's previous application.)"
         ],
         "xaxis": "x",
         "y": [
          980346
         ],
         "yaxis": "y"
        },
        {
         "alignmentgroup": "True",
         "customdata": [
          [
           0.09
          ]
         ],
         "hovertemplate": "<b>%{hovertext}</b><br><br>column=%{x}<br>column_0=%{y}<br>percent=%{customdata[0]}<extra></extra>",
         "hovertext": [
          "pmtnum_8L\n(Number of payments made for the previous application.)"
         ],
         "legendgroup": "pmtnum_8L\n(Number of payments made for the previous application.)",
         "marker": {
          "color": "#FECB52",
          "pattern": {
           "shape": ""
          }
         },
         "name": "pmtnum_8L\n(Number of payments made for the previous application.)",
         "offsetgroup": "pmtnum_8L\n(Number of payments made for the previous application.)",
         "orientation": "v",
         "showlegend": true,
         "textposition": "auto",
         "type": "bar",
         "x": [
          "pmtnum_8L\n(Number of payments made for the previous application.)"
         ],
         "xaxis": "x",
         "y": [
          238987
         ],
         "yaxis": "y"
        },
        {
         "alignmentgroup": "True",
         "customdata": [
          [
           0
          ]
         ],
         "hovertemplate": "<b>%{hovertext}</b><br><br>column=%{x}<br>column_0=%{y}<br>percent=%{customdata[0]}<extra></extra>",
         "hovertext": [
          "postype_4733339M\n(Type of point of sale.)"
         ],
         "legendgroup": "postype_4733339M\n(Type of point of sale.)",
         "marker": {
          "color": "#636efa",
          "pattern": {
           "shape": ""
          }
         },
         "name": "postype_4733339M\n(Type of point of sale.)",
         "offsetgroup": "postype_4733339M\n(Type of point of sale.)",
         "orientation": "v",
         "showlegend": true,
         "textposition": "auto",
         "type": "bar",
         "x": [
          "postype_4733339M\n(Type of point of sale.)"
         ],
         "xaxis": "x",
         "y": [
          0
         ],
         "yaxis": "y"
        },
        {
         "alignmentgroup": "True",
         "customdata": [
          [
           0
          ]
         ],
         "hovertemplate": "<b>%{hovertext}</b><br><br>column=%{x}<br>column_0=%{y}<br>percent=%{customdata[0]}<extra></extra>",
         "hovertext": [
          "profession_152M\n(Profession of the client during their previous loan application.)"
         ],
         "legendgroup": "profession_152M\n(Profession of the client during their previous loan application.)",
         "marker": {
          "color": "#EF553B",
          "pattern": {
           "shape": ""
          }
         },
         "name": "profession_152M\n(Profession of the client during their previous loan application.)",
         "offsetgroup": "profession_152M\n(Profession of the client during their previous loan application.)",
         "orientation": "v",
         "showlegend": true,
         "textposition": "auto",
         "type": "bar",
         "x": [
          "profession_152M\n(Profession of the client during their previous loan application.)"
         ],
         "xaxis": "x",
         "y": [
          0
         ],
         "yaxis": "y"
        },
        {
         "alignmentgroup": "True",
         "customdata": [
          [
           0
          ]
         ],
         "hovertemplate": "<b>%{hovertext}</b><br><br>column=%{x}<br>column_0=%{y}<br>percent=%{customdata[0]}<extra></extra>",
         "hovertext": [
          "rejectreason_755M\n(Reason for previous application rejection.)"
         ],
         "legendgroup": "rejectreason_755M\n(Reason for previous application rejection.)",
         "marker": {
          "color": "#00cc96",
          "pattern": {
           "shape": ""
          }
         },
         "name": "rejectreason_755M\n(Reason for previous application rejection.)",
         "offsetgroup": "rejectreason_755M\n(Reason for previous application rejection.)",
         "orientation": "v",
         "showlegend": true,
         "textposition": "auto",
         "type": "bar",
         "x": [
          "rejectreason_755M\n(Reason for previous application rejection.)"
         ],
         "xaxis": "x",
         "y": [
          0
         ],
         "yaxis": "y"
        },
        {
         "alignmentgroup": "True",
         "customdata": [
          [
           0
          ]
         ],
         "hovertemplate": "<b>%{hovertext}</b><br><br>column=%{x}<br>column_0=%{y}<br>percent=%{customdata[0]}<extra></extra>",
         "hovertext": [
          "rejectreasonclient_4145042M\n(Reason for rejection of the client's previous application.)"
         ],
         "legendgroup": "rejectreasonclient_4145042M\n(Reason for rejection of the client's previous application.)",
         "marker": {
          "color": "#ab63fa",
          "pattern": {
           "shape": ""
          }
         },
         "name": "rejectreasonclient_4145042M\n(Reason for rejection of the client's previous application.)",
         "offsetgroup": "rejectreasonclient_4145042M\n(Reason for rejection of the client's previous application.)",
         "orientation": "v",
         "showlegend": true,
         "textposition": "auto",
         "type": "bar",
         "x": [
          "rejectreasonclient_4145042M\n(Reason for rejection of the client's previous application.)"
         ],
         "xaxis": "x",
         "y": [
          0
         ],
         "yaxis": "y"
        },
        {
         "alignmentgroup": "True",
         "customdata": [
          [
           0.95
          ]
         ],
         "hovertemplate": "<b>%{hovertext}</b><br><br>column=%{x}<br>column_0=%{y}<br>percent=%{customdata[0]}<extra></extra>",
         "hovertext": [
          "revolvingaccount_394A\n(Revolving account that was present in the applicant's previous application.)"
         ],
         "legendgroup": "revolvingaccount_394A\n(Revolving account that was present in the applicant's previous application.)",
         "marker": {
          "color": "#FFA15A",
          "pattern": {
           "shape": ""
          }
         },
         "name": "revolvingaccount_394A\n(Revolving account that was present in the applicant's previous application.)",
         "offsetgroup": "revolvingaccount_394A\n(Revolving account that was present in the applicant's previous application.)",
         "orientation": "v",
         "showlegend": true,
         "textposition": "auto",
         "type": "bar",
         "x": [
          "revolvingaccount_394A\n(Revolving account that was present in the applicant's previous application.)"
         ],
         "xaxis": "x",
         "y": [
          2498196
         ],
         "yaxis": "y"
        },
        {
         "alignmentgroup": "True",
         "customdata": [
          [
           0
          ]
         ],
         "hovertemplate": "<b>%{hovertext}</b><br><br>column=%{x}<br>column_0=%{y}<br>percent=%{customdata[0]}<extra></extra>",
         "hovertext": [
          "status_219L\n(Previous application status.)"
         ],
         "legendgroup": "status_219L\n(Previous application status.)",
         "marker": {
          "color": "#19d3f3",
          "pattern": {
           "shape": ""
          }
         },
         "name": "status_219L\n(Previous application status.)",
         "offsetgroup": "status_219L\n(Previous application status.)",
         "orientation": "v",
         "showlegend": true,
         "textposition": "auto",
         "type": "bar",
         "x": [
          "status_219L\n(Previous application status.)"
         ],
         "xaxis": "x",
         "y": [
          31
         ],
         "yaxis": "y"
        },
        {
         "alignmentgroup": "True",
         "customdata": [
          [
           0.09
          ]
         ],
         "hovertemplate": "<b>%{hovertext}</b><br><br>column=%{x}<br>column_0=%{y}<br>percent=%{customdata[0]}<extra></extra>",
         "hovertext": [
          "tenor_203L\n(Number of instalments in the previous application.)"
         ],
         "legendgroup": "tenor_203L\n(Number of instalments in the previous application.)",
         "marker": {
          "color": "#FF6692",
          "pattern": {
           "shape": ""
          }
         },
         "name": "tenor_203L\n(Number of instalments in the previous application.)",
         "offsetgroup": "tenor_203L\n(Number of instalments in the previous application.)",
         "orientation": "v",
         "showlegend": true,
         "textposition": "auto",
         "type": "bar",
         "x": [
          "tenor_203L\n(Number of instalments in the previous application.)"
         ],
         "xaxis": "x",
         "y": [
          238987
         ],
         "yaxis": "y"
        }
       ],
       "layout": {
        "annotations": [
         {
          "showarrow": false,
          "text": "Total rows",
          "x": 1,
          "xanchor": "right",
          "xref": "x domain",
          "y": 2638295,
          "yanchor": "bottom",
          "yref": "y"
         }
        ],
        "barmode": "relative",
        "height": 900,
        "legend": {
         "title": {
          "text": "column"
         },
         "tracegroupgap": 10
        },
        "margin": {
         "t": 60
        },
        "shapes": [
         {
          "line": {
           "dash": "dashdot"
          },
          "type": "line",
          "x0": 0,
          "x1": 1,
          "xref": "x domain",
          "y0": 2638295,
          "y1": 2638295,
          "yref": "y"
         }
        ],
        "template": {
         "data": {
          "bar": [
           {
            "error_x": {
             "color": "#f2f5fa"
            },
            "error_y": {
             "color": "#f2f5fa"
            },
            "marker": {
             "line": {
              "color": "rgb(17,17,17)",
              "width": 0.5
             },
             "pattern": {
              "fillmode": "overlay",
              "size": 10,
              "solidity": 0.2
             }
            },
            "type": "bar"
           }
          ],
          "barpolar": [
           {
            "marker": {
             "line": {
              "color": "rgb(17,17,17)",
              "width": 0.5
             },
             "pattern": {
              "fillmode": "overlay",
              "size": 10,
              "solidity": 0.2
             }
            },
            "type": "barpolar"
           }
          ],
          "carpet": [
           {
            "aaxis": {
             "endlinecolor": "#A2B1C6",
             "gridcolor": "#506784",
             "linecolor": "#506784",
             "minorgridcolor": "#506784",
             "startlinecolor": "#A2B1C6"
            },
            "baxis": {
             "endlinecolor": "#A2B1C6",
             "gridcolor": "#506784",
             "linecolor": "#506784",
             "minorgridcolor": "#506784",
             "startlinecolor": "#A2B1C6"
            },
            "type": "carpet"
           }
          ],
          "choropleth": [
           {
            "colorbar": {
             "outlinewidth": 0,
             "ticks": ""
            },
            "type": "choropleth"
           }
          ],
          "contour": [
           {
            "colorbar": {
             "outlinewidth": 0,
             "ticks": ""
            },
            "colorscale": [
             [
              0,
              "#0d0887"
             ],
             [
              0.1111111111111111,
              "#46039f"
             ],
             [
              0.2222222222222222,
              "#7201a8"
             ],
             [
              0.3333333333333333,
              "#9c179e"
             ],
             [
              0.4444444444444444,
              "#bd3786"
             ],
             [
              0.5555555555555556,
              "#d8576b"
             ],
             [
              0.6666666666666666,
              "#ed7953"
             ],
             [
              0.7777777777777778,
              "#fb9f3a"
             ],
             [
              0.8888888888888888,
              "#fdca26"
             ],
             [
              1,
              "#f0f921"
             ]
            ],
            "type": "contour"
           }
          ],
          "contourcarpet": [
           {
            "colorbar": {
             "outlinewidth": 0,
             "ticks": ""
            },
            "type": "contourcarpet"
           }
          ],
          "heatmap": [
           {
            "colorbar": {
             "outlinewidth": 0,
             "ticks": ""
            },
            "colorscale": [
             [
              0,
              "#0d0887"
             ],
             [
              0.1111111111111111,
              "#46039f"
             ],
             [
              0.2222222222222222,
              "#7201a8"
             ],
             [
              0.3333333333333333,
              "#9c179e"
             ],
             [
              0.4444444444444444,
              "#bd3786"
             ],
             [
              0.5555555555555556,
              "#d8576b"
             ],
             [
              0.6666666666666666,
              "#ed7953"
             ],
             [
              0.7777777777777778,
              "#fb9f3a"
             ],
             [
              0.8888888888888888,
              "#fdca26"
             ],
             [
              1,
              "#f0f921"
             ]
            ],
            "type": "heatmap"
           }
          ],
          "heatmapgl": [
           {
            "colorbar": {
             "outlinewidth": 0,
             "ticks": ""
            },
            "colorscale": [
             [
              0,
              "#0d0887"
             ],
             [
              0.1111111111111111,
              "#46039f"
             ],
             [
              0.2222222222222222,
              "#7201a8"
             ],
             [
              0.3333333333333333,
              "#9c179e"
             ],
             [
              0.4444444444444444,
              "#bd3786"
             ],
             [
              0.5555555555555556,
              "#d8576b"
             ],
             [
              0.6666666666666666,
              "#ed7953"
             ],
             [
              0.7777777777777778,
              "#fb9f3a"
             ],
             [
              0.8888888888888888,
              "#fdca26"
             ],
             [
              1,
              "#f0f921"
             ]
            ],
            "type": "heatmapgl"
           }
          ],
          "histogram": [
           {
            "marker": {
             "pattern": {
              "fillmode": "overlay",
              "size": 10,
              "solidity": 0.2
             }
            },
            "type": "histogram"
           }
          ],
          "histogram2d": [
           {
            "colorbar": {
             "outlinewidth": 0,
             "ticks": ""
            },
            "colorscale": [
             [
              0,
              "#0d0887"
             ],
             [
              0.1111111111111111,
              "#46039f"
             ],
             [
              0.2222222222222222,
              "#7201a8"
             ],
             [
              0.3333333333333333,
              "#9c179e"
             ],
             [
              0.4444444444444444,
              "#bd3786"
             ],
             [
              0.5555555555555556,
              "#d8576b"
             ],
             [
              0.6666666666666666,
              "#ed7953"
             ],
             [
              0.7777777777777778,
              "#fb9f3a"
             ],
             [
              0.8888888888888888,
              "#fdca26"
             ],
             [
              1,
              "#f0f921"
             ]
            ],
            "type": "histogram2d"
           }
          ],
          "histogram2dcontour": [
           {
            "colorbar": {
             "outlinewidth": 0,
             "ticks": ""
            },
            "colorscale": [
             [
              0,
              "#0d0887"
             ],
             [
              0.1111111111111111,
              "#46039f"
             ],
             [
              0.2222222222222222,
              "#7201a8"
             ],
             [
              0.3333333333333333,
              "#9c179e"
             ],
             [
              0.4444444444444444,
              "#bd3786"
             ],
             [
              0.5555555555555556,
              "#d8576b"
             ],
             [
              0.6666666666666666,
              "#ed7953"
             ],
             [
              0.7777777777777778,
              "#fb9f3a"
             ],
             [
              0.8888888888888888,
              "#fdca26"
             ],
             [
              1,
              "#f0f921"
             ]
            ],
            "type": "histogram2dcontour"
           }
          ],
          "mesh3d": [
           {
            "colorbar": {
             "outlinewidth": 0,
             "ticks": ""
            },
            "type": "mesh3d"
           }
          ],
          "parcoords": [
           {
            "line": {
             "colorbar": {
              "outlinewidth": 0,
              "ticks": ""
             }
            },
            "type": "parcoords"
           }
          ],
          "pie": [
           {
            "automargin": true,
            "type": "pie"
           }
          ],
          "scatter": [
           {
            "marker": {
             "line": {
              "color": "#283442"
             }
            },
            "type": "scatter"
           }
          ],
          "scatter3d": [
           {
            "line": {
             "colorbar": {
              "outlinewidth": 0,
              "ticks": ""
             }
            },
            "marker": {
             "colorbar": {
              "outlinewidth": 0,
              "ticks": ""
             }
            },
            "type": "scatter3d"
           }
          ],
          "scattercarpet": [
           {
            "marker": {
             "colorbar": {
              "outlinewidth": 0,
              "ticks": ""
             }
            },
            "type": "scattercarpet"
           }
          ],
          "scattergeo": [
           {
            "marker": {
             "colorbar": {
              "outlinewidth": 0,
              "ticks": ""
             }
            },
            "type": "scattergeo"
           }
          ],
          "scattergl": [
           {
            "marker": {
             "line": {
              "color": "#283442"
             }
            },
            "type": "scattergl"
           }
          ],
          "scattermapbox": [
           {
            "marker": {
             "colorbar": {
              "outlinewidth": 0,
              "ticks": ""
             }
            },
            "type": "scattermapbox"
           }
          ],
          "scatterpolar": [
           {
            "marker": {
             "colorbar": {
              "outlinewidth": 0,
              "ticks": ""
             }
            },
            "type": "scatterpolar"
           }
          ],
          "scatterpolargl": [
           {
            "marker": {
             "colorbar": {
              "outlinewidth": 0,
              "ticks": ""
             }
            },
            "type": "scatterpolargl"
           }
          ],
          "scatterternary": [
           {
            "marker": {
             "colorbar": {
              "outlinewidth": 0,
              "ticks": ""
             }
            },
            "type": "scatterternary"
           }
          ],
          "surface": [
           {
            "colorbar": {
             "outlinewidth": 0,
             "ticks": ""
            },
            "colorscale": [
             [
              0,
              "#0d0887"
             ],
             [
              0.1111111111111111,
              "#46039f"
             ],
             [
              0.2222222222222222,
              "#7201a8"
             ],
             [
              0.3333333333333333,
              "#9c179e"
             ],
             [
              0.4444444444444444,
              "#bd3786"
             ],
             [
              0.5555555555555556,
              "#d8576b"
             ],
             [
              0.6666666666666666,
              "#ed7953"
             ],
             [
              0.7777777777777778,
              "#fb9f3a"
             ],
             [
              0.8888888888888888,
              "#fdca26"
             ],
             [
              1,
              "#f0f921"
             ]
            ],
            "type": "surface"
           }
          ],
          "table": [
           {
            "cells": {
             "fill": {
              "color": "#506784"
             },
             "line": {
              "color": "rgb(17,17,17)"
             }
            },
            "header": {
             "fill": {
              "color": "#2a3f5f"
             },
             "line": {
              "color": "rgb(17,17,17)"
             }
            },
            "type": "table"
           }
          ]
         },
         "layout": {
          "annotationdefaults": {
           "arrowcolor": "#f2f5fa",
           "arrowhead": 0,
           "arrowwidth": 1
          },
          "autotypenumbers": "strict",
          "coloraxis": {
           "colorbar": {
            "outlinewidth": 0,
            "ticks": ""
           }
          },
          "colorscale": {
           "diverging": [
            [
             0,
             "#8e0152"
            ],
            [
             0.1,
             "#c51b7d"
            ],
            [
             0.2,
             "#de77ae"
            ],
            [
             0.3,
             "#f1b6da"
            ],
            [
             0.4,
             "#fde0ef"
            ],
            [
             0.5,
             "#f7f7f7"
            ],
            [
             0.6,
             "#e6f5d0"
            ],
            [
             0.7,
             "#b8e186"
            ],
            [
             0.8,
             "#7fbc41"
            ],
            [
             0.9,
             "#4d9221"
            ],
            [
             1,
             "#276419"
            ]
           ],
           "sequential": [
            [
             0,
             "#0d0887"
            ],
            [
             0.1111111111111111,
             "#46039f"
            ],
            [
             0.2222222222222222,
             "#7201a8"
            ],
            [
             0.3333333333333333,
             "#9c179e"
            ],
            [
             0.4444444444444444,
             "#bd3786"
            ],
            [
             0.5555555555555556,
             "#d8576b"
            ],
            [
             0.6666666666666666,
             "#ed7953"
            ],
            [
             0.7777777777777778,
             "#fb9f3a"
            ],
            [
             0.8888888888888888,
             "#fdca26"
            ],
            [
             1,
             "#f0f921"
            ]
           ],
           "sequentialminus": [
            [
             0,
             "#0d0887"
            ],
            [
             0.1111111111111111,
             "#46039f"
            ],
            [
             0.2222222222222222,
             "#7201a8"
            ],
            [
             0.3333333333333333,
             "#9c179e"
            ],
            [
             0.4444444444444444,
             "#bd3786"
            ],
            [
             0.5555555555555556,
             "#d8576b"
            ],
            [
             0.6666666666666666,
             "#ed7953"
            ],
            [
             0.7777777777777778,
             "#fb9f3a"
            ],
            [
             0.8888888888888888,
             "#fdca26"
            ],
            [
             1,
             "#f0f921"
            ]
           ]
          },
          "colorway": [
           "#636efa",
           "#EF553B",
           "#00cc96",
           "#ab63fa",
           "#FFA15A",
           "#19d3f3",
           "#FF6692",
           "#B6E880",
           "#FF97FF",
           "#FECB52"
          ],
          "font": {
           "color": "#f2f5fa",
           "family": "Victor Mono",
           "size": 12
          },
          "geo": {
           "bgcolor": "rgb(17,17,17)",
           "lakecolor": "rgb(17,17,17)",
           "landcolor": "rgb(17,17,17)",
           "showlakes": true,
           "showland": true,
           "subunitcolor": "#506784"
          },
          "hoverlabel": {
           "align": "left"
          },
          "hovermode": "closest",
          "mapbox": {
           "style": "dark"
          },
          "paper_bgcolor": "rgb(17,17,17)",
          "plot_bgcolor": "rgb(17,17,17)",
          "polar": {
           "angularaxis": {
            "gridcolor": "#506784",
            "linecolor": "#506784",
            "ticks": ""
           },
           "bgcolor": "rgb(17,17,17)",
           "radialaxis": {
            "gridcolor": "#506784",
            "linecolor": "#506784",
            "ticks": ""
           }
          },
          "scene": {
           "xaxis": {
            "backgroundcolor": "rgb(17,17,17)",
            "gridcolor": "#506784",
            "gridwidth": 2,
            "linecolor": "#506784",
            "showbackground": true,
            "ticks": "",
            "zerolinecolor": "#C8D4E3"
           },
           "yaxis": {
            "backgroundcolor": "rgb(17,17,17)",
            "gridcolor": "#506784",
            "gridwidth": 2,
            "linecolor": "#506784",
            "showbackground": true,
            "ticks": "",
            "zerolinecolor": "#C8D4E3"
           },
           "zaxis": {
            "backgroundcolor": "rgb(17,17,17)",
            "gridcolor": "#506784",
            "gridwidth": 2,
            "linecolor": "#506784",
            "showbackground": true,
            "ticks": "",
            "zerolinecolor": "#C8D4E3"
           }
          },
          "shapedefaults": {
           "line": {
            "color": "#f2f5fa"
           }
          },
          "sliderdefaults": {
           "bgcolor": "#C8D4E3",
           "bordercolor": "rgb(17,17,17)",
           "borderwidth": 1,
           "tickwidth": 0
          },
          "ternary": {
           "aaxis": {
            "gridcolor": "#506784",
            "linecolor": "#506784",
            "ticks": ""
           },
           "baxis": {
            "gridcolor": "#506784",
            "linecolor": "#506784",
            "ticks": ""
           },
           "bgcolor": "rgb(17,17,17)",
           "caxis": {
            "gridcolor": "#506784",
            "linecolor": "#506784",
            "ticks": ""
           }
          },
          "title": {
           "x": 0.05
          },
          "updatemenudefaults": {
           "bgcolor": "#506784",
           "borderwidth": 0
          },
          "xaxis": {
           "automargin": true,
           "gridcolor": "#283442",
           "linecolor": "#506784",
           "ticks": "",
           "title": {
            "standoff": 15
           },
           "zerolinecolor": "#283442",
           "zerolinewidth": 2
          },
          "yaxis": {
           "automargin": true,
           "gridcolor": "#283442",
           "linecolor": "#506784",
           "ticks": "",
           "title": {
            "standoff": 15
           },
           "zerolinecolor": "#283442",
           "zerolinewidth": 2
          }
         }
        },
        "xaxis": {
         "anchor": "y",
         "categoryarray": [
          "case_id",
          "actualdpd_943P\n(Days Past Due (DPD) of previous contract (actual).)",
          "annuity_853A\n(Monthly annuity for previous applications.)",
          "byoccupationinc_3656910L\n(Applicant's income from previous applications.)",
          "cancelreason_3545846M\n(Application cancellation reason.)",
          "childnum_21L\n(Number of children in the previous application.)",
          "credacc_actualbalance_314A\n(Actual balance on credit account.)",
          "credacc_credlmt_575A\n(Credit card credit limit provided for previous applications.)",
          "credacc_maxhisbal_375A\n(Maximal historical balance of previous credit account)",
          "credacc_minhisbal_90A\n(Minimum historical balance of previous credit accounts.)",
          "credacc_status_367L\n(Account status of previous credit applications.)",
          "credacc_transactions_402L\n(Number of transactions made with the previous credit account of the applicant.)",
          "credamount_590A\n(Loan amount or card limit of previous applications.)",
          "credtype_587L\n(Credit type of previous application.)",
          "currdebt_94A\n(Previous application's current debt.)",
          "district_544M\n(District of the address used in the previous loan application.)",
          "downpmt_134A\n(Previous application downpayment amount.)",
          "dtlastpmt_581D\n(Date of last payment made by the applicant.)",
          "dtlastpmtallstes_3545839D\n(Date of the applicant's last payment.)",
          "education_1138M\n(Applicant's education level from their previous application.)",
          "employedfrom_700D\n(Employment start date from the previous application.)",
          "familystate_726L\n(Family State in previous application of applicant.)",
          "inittransactioncode_279L\n(Type of the initial transaction made in the previous application of the client.)",
          "isbidproduct_390L\n(Flag for determining if the product is a cross-sell in previous applications.)",
          "isdebitcard_527L\n(Previous application flag indicating if product being applied for is a debit card.)",
          "mainoccupationinc_437A\n(Client's main income amount in their previous application.)",
          "maxdpdtolerance_577P\n(Maximum DPD with tolerance (on previous application/s).)",
          "num_group1",
          "outstandingdebt_522A\n(Amount of outstanding debt on the client's previous application.)",
          "pmtnum_8L\n(Number of payments made for the previous application.)",
          "postype_4733339M\n(Type of point of sale.)",
          "profession_152M\n(Profession of the client during their previous loan application.)",
          "rejectreason_755M\n(Reason for previous application rejection.)",
          "rejectreasonclient_4145042M\n(Reason for rejection of the client's previous application.)",
          "revolvingaccount_394A\n(Revolving account that was present in the applicant's previous application.)",
          "status_219L\n(Previous application status.)",
          "tenor_203L\n(Number of instalments in the previous application.)"
         ],
         "categoryorder": "array",
         "domain": [
          0,
          1
         ],
         "showticklabels": false,
         "title": {
          "text": "All Columns"
         }
        },
        "yaxis": {
         "anchor": "x",
         "domain": [
          0,
          1
         ],
         "title": {
          "text": "Null Counts"
         }
        }
       }
      }
     },
     "metadata": {},
     "output_type": "display_data"
    }
   ],
   "source": [
    "display(train_applprev_2.fetch().head())\n",
    "train_applprev_2.pipe(plot_nulls)"
   ]
  },
  {
   "cell_type": "code",
   "execution_count": 70,
   "metadata": {},
   "outputs": [
    {
     "data": {
      "text/html": [
       "<div><style>\n",
       ".dataframe > thead > tr,\n",
       ".dataframe > tbody > tr {\n",
       "  text-align: right;\n",
       "  white-space: pre-wrap;\n",
       "}\n",
       "</style>\n",
       "<small>shape: (5, 37)</small><table border=\"1\" class=\"dataframe\"><thead><tr><th>case_id</th><th>actualdpd_943P\n",
       "(Days Past Due (DPD) of previous contract (actual).)</th><th>annuity_853A\n",
       "(Monthly annuity for previous applications.)</th><th>byoccupationinc_3656910L\n",
       "(Applicant&#x27;s income from previous applications.)</th><th>cancelreason_3545846M\n",
       "(Application cancellation reason.)</th><th>childnum_21L\n",
       "(Number of children in the previous application.)</th><th>credacc_actualbalance_314A\n",
       "(Actual balance on credit account.)</th><th>credacc_credlmt_575A\n",
       "(Credit card credit limit provided for previous applications.)</th><th>credacc_maxhisbal_375A\n",
       "(Maximal historical balance of previous credit account)</th><th>credacc_minhisbal_90A\n",
       "(Minimum historical balance of previous credit accounts.)</th><th>credacc_status_367L\n",
       "(Account status of previous credit applications.)</th><th>credacc_transactions_402L\n",
       "(Number of transactions made with the previous credit account of the applicant.)</th><th>credamount_590A\n",
       "(Loan amount or card limit of previous applications.)</th><th>credtype_587L\n",
       "(Credit type of previous application.)</th><th>currdebt_94A\n",
       "(Previous application&#x27;s current debt.)</th><th>district_544M\n",
       "(District of the address used in the previous loan application.)</th><th>downpmt_134A\n",
       "(Previous application downpayment amount.)</th><th>dtlastpmt_581D\n",
       "(Date of last payment made by the applicant.)</th><th>dtlastpmtallstes_3545839D\n",
       "(Date of the applicant&#x27;s last payment.)</th><th>education_1138M\n",
       "(Applicant&#x27;s education level from their previous application.)</th><th>employedfrom_700D\n",
       "(Employment start date from the previous application.)</th><th>familystate_726L\n",
       "(Family State in previous application of applicant.)</th><th>inittransactioncode_279L\n",
       "(Type of the initial transaction made in the previous application of the client.)</th><th>isbidproduct_390L\n",
       "(Flag for determining if the product is a cross-sell in previous applications.)</th><th>isdebitcard_527L\n",
       "(Previous application flag indicating if product being applied for is a debit card.)</th><th>mainoccupationinc_437A\n",
       "(Client&#x27;s main income amount in their previous application.)</th><th>maxdpdtolerance_577P\n",
       "(Maximum DPD with tolerance (on previous application/s).)</th><th>num_group1</th><th>outstandingdebt_522A\n",
       "(Amount of outstanding debt on the client&#x27;s previous application.)</th><th>pmtnum_8L\n",
       "(Number of payments made for the previous application.)</th><th>postype_4733339M\n",
       "(Type of point of sale.)</th><th>profession_152M\n",
       "(Profession of the client during their previous loan application.)</th><th>rejectreason_755M\n",
       "(Reason for previous application rejection.)</th><th>rejectreasonclient_4145042M\n",
       "(Reason for rejection of the client&#x27;s previous application.)</th><th>revolvingaccount_394A\n",
       "(Revolving account that was present in the applicant&#x27;s previous application.)</th><th>status_219L\n",
       "(Previous application status.)</th><th>tenor_203L\n",
       "(Number of instalments in the previous application.)</th></tr><tr><td>i32</td><td>f32</td><td>f32</td><td>f32</td><td>str</td><td>f32</td><td>f32</td><td>f32</td><td>f32</td><td>f32</td><td>str</td><td>f32</td><td>f32</td><td>str</td><td>f32</td><td>str</td><td>f32</td><td>str</td><td>str</td><td>str</td><td>str</td><td>str</td><td>str</td><td>bool</td><td>bool</td><td>f32</td><td>f32</td><td>i8</td><td>f32</td><td>f32</td><td>str</td><td>str</td><td>str</td><td>str</td><td>f32</td><td>str</td><td>f32</td></tr></thead><tbody><tr><td>2</td><td>0.00</td><td>640.20</td><td>null</td><td>&quot;a55475b1&quot;</td><td>0.00</td><td>null</td><td>0.00</td><td>null</td><td>null</td><td>null</td><td>null</td><td>10000.00</td><td>&quot;CAL&quot;</td><td>null</td><td>&quot;P136_108_173&quot;</td><td>0.00</td><td>null</td><td>null</td><td>&quot;P97_36_170&quot;</td><td>&quot;2010-02-15&quot;</td><td>&quot;SINGLE&quot;</td><td>&quot;CASH&quot;</td><td>false</td><td>null</td><td>8200.00</td><td>null</td><td>0</td><td>null</td><td>24.00</td><td>&quot;a55475b1&quot;</td><td>&quot;a55475b1&quot;</td><td>&quot;a55475b1&quot;</td><td>&quot;a55475b1&quot;</td><td>null</td><td>&quot;D&quot;</td><td>24.00</td></tr><tr><td>2</td><td>0.00</td><td>1682.40</td><td>null</td><td>&quot;a55475b1&quot;</td><td>0.00</td><td>null</td><td>0.00</td><td>null</td><td>null</td><td>null</td><td>null</td><td>16000.00</td><td>&quot;CAL&quot;</td><td>null</td><td>&quot;P136_108_173&quot;</td><td>0.00</td><td>null</td><td>null</td><td>&quot;P97_36_170&quot;</td><td>&quot;2010-02-15&quot;</td><td>&quot;SINGLE&quot;</td><td>&quot;CASH&quot;</td><td>false</td><td>null</td><td>8200.00</td><td>null</td><td>1</td><td>null</td><td>12.00</td><td>&quot;a55475b1&quot;</td><td>&quot;a55475b1&quot;</td><td>&quot;a55475b1&quot;</td><td>&quot;a55475b1&quot;</td><td>null</td><td>&quot;D&quot;</td><td>12.00</td></tr><tr><td>3</td><td>0.00</td><td>6140.00</td><td>null</td><td>&quot;P94_109_143&quot;</td><td>null</td><td>null</td><td>0.00</td><td>null</td><td>null</td><td>null</td><td>null</td><td>59999.80</td><td>&quot;CAL&quot;</td><td>null</td><td>&quot;P131_33_167&quot;</td><td>0.00</td><td>null</td><td>null</td><td>&quot;P97_36_170&quot;</td><td>&quot;2018-05-15&quot;</td><td>&quot;MARRIED&quot;</td><td>&quot;CASH&quot;</td><td>false</td><td>null</td><td>11000.00</td><td>null</td><td>0</td><td>null</td><td>12.00</td><td>&quot;a55475b1&quot;</td><td>&quot;a55475b1&quot;</td><td>&quot;P94_109_143&quot;</td><td>&quot;a55475b1&quot;</td><td>null</td><td>&quot;D&quot;</td><td>12.00</td></tr><tr><td>4</td><td>0.00</td><td>2556.60</td><td>null</td><td>&quot;P24_27_36&quot;</td><td>null</td><td>null</td><td>0.00</td><td>null</td><td>null</td><td>null</td><td>null</td><td>40000.00</td><td>&quot;CAL&quot;</td><td>null</td><td>&quot;P194_82_174&quot;</td><td>0.00</td><td>null</td><td>null</td><td>&quot;a55475b1&quot;</td><td>null</td><td>null</td><td>&quot;CASH&quot;</td><td>false</td><td>null</td><td>16000.00</td><td>null</td><td>0</td><td>null</td><td>24.00</td><td>&quot;a55475b1&quot;</td><td>&quot;a55475b1&quot;</td><td>&quot;a55475b1&quot;</td><td>&quot;a55475b1&quot;</td><td>null</td><td>&quot;T&quot;</td><td>24.00</td></tr><tr><td>5</td><td>0.00</td><td>null</td><td>null</td><td>&quot;P85_114_140&quot;</td><td>null</td><td>null</td><td>null</td><td>null</td><td>null</td><td>null</td><td>null</td><td>null</td><td>null</td><td>null</td><td>&quot;P54_133_26&quot;</td><td>null</td><td>null</td><td>null</td><td>&quot;a55475b1&quot;</td><td>null</td><td>null</td><td>null</td><td>false</td><td>null</td><td>62000.00</td><td>null</td><td>0</td><td>null</td><td>null</td><td>&quot;a55475b1&quot;</td><td>&quot;a55475b1&quot;</td><td>&quot;a55475b1&quot;</td><td>&quot;a55475b1&quot;</td><td>null</td><td>&quot;T&quot;</td><td>null</td></tr></tbody></table></div>"
      ],
      "text/plain": [
       "shape: (5, 37)\n",
       "┌─────────┬────────────┬───────────┬───────────┬───┬───────────┬───────────┬───────────┬───────────┐\n",
       "│ case_id ┆ actualdpd_ ┆ annuity_8 ┆ byoccupat ┆ … ┆ rejectrea ┆ revolving ┆ status_21 ┆ tenor_203 │\n",
       "│ ---     ┆ 943P       ┆ 53A       ┆ ioninc_36 ┆   ┆ sonclient ┆ account_3 ┆ 9L        ┆ L         │\n",
       "│ i32     ┆ (Days Past ┆ (Monthly  ┆ 56910L    ┆   ┆ _4145042M ┆ 94A       ┆ (Previous ┆ (Number   │\n",
       "│         ┆ Due (DPD)  ┆ annuity   ┆ (Applican ┆   ┆ (Reason   ┆ (Revolvin ┆ applicati ┆ of instal │\n",
       "│         ┆ of         ┆ for       ┆ t's       ┆   ┆ for       ┆ g account ┆ on        ┆ ments in  │\n",
       "│         ┆ previous   ┆ previous  ┆ income    ┆   ┆ rejection ┆ that was  ┆ status.)  ┆ the       │\n",
       "│         ┆ contract   ┆ applicati ┆ from      ┆   ┆ of the    ┆ present   ┆ ---       ┆ previous  │\n",
       "│         ┆ (actual).) ┆ ons.)     ┆ previous  ┆   ┆ client's  ┆ in the    ┆ str       ┆ applicati │\n",
       "│         ┆ ---        ┆ ---       ┆ applicati ┆   ┆ previous  ┆ applicant ┆           ┆ on.)      │\n",
       "│         ┆ f32        ┆ f32       ┆ ons.)     ┆   ┆ applicati ┆ 's        ┆           ┆ ---       │\n",
       "│         ┆            ┆           ┆ ---       ┆   ┆ on.)      ┆ previous  ┆           ┆ f32       │\n",
       "│         ┆            ┆           ┆ f32       ┆   ┆ ---       ┆ applicati ┆           ┆           │\n",
       "│         ┆            ┆           ┆           ┆   ┆ str       ┆ on.)      ┆           ┆           │\n",
       "│         ┆            ┆           ┆           ┆   ┆           ┆ ---       ┆           ┆           │\n",
       "│         ┆            ┆           ┆           ┆   ┆           ┆ f32       ┆           ┆           │\n",
       "╞═════════╪════════════╪═══════════╪═══════════╪═══╪═══════════╪═══════════╪═══════════╪═══════════╡\n",
       "│ 2       ┆ 0.00       ┆ 640.20    ┆ null      ┆ … ┆ a55475b1  ┆ null      ┆ D         ┆ 24.00     │\n",
       "│ 2       ┆ 0.00       ┆ 1682.40   ┆ null      ┆ … ┆ a55475b1  ┆ null      ┆ D         ┆ 12.00     │\n",
       "│ 3       ┆ 0.00       ┆ 6140.00   ┆ null      ┆ … ┆ a55475b1  ┆ null      ┆ D         ┆ 12.00     │\n",
       "│ 4       ┆ 0.00       ┆ 2556.60   ┆ null      ┆ … ┆ a55475b1  ┆ null      ┆ T         ┆ 24.00     │\n",
       "│ 5       ┆ 0.00       ┆ null      ┆ null      ┆ … ┆ a55475b1  ┆ null      ┆ T         ┆ null      │\n",
       "└─────────┴────────────┴───────────┴───────────┴───┴───────────┴───────────┴───────────┴───────────┘"
      ]
     },
     "execution_count": 70,
     "metadata": {},
     "output_type": "execute_result"
    }
   ],
   "source": [
    "train_previous_application = pl.concat(\n",
    "    [\n",
    "        train_applprev_1.with_columns(pl.col(\"case_id\").cast(pl.Int32)),\n",
    "        train_applprev_2.with_columns(pl.col(\"case_id\").cast(pl.Int32))\n",
    "    ],\n",
    "    how=\"vertical\",\n",
    "    rechunk=True\n",
    ")\n",
    "train_previous_application.fetch().head()"
   ]
  },
  {
   "cell_type": "code",
   "execution_count": 72,
   "metadata": {},
   "outputs": [
    {
     "data": {
      "text/html": [
       "<div><style>\n",
       ".dataframe > thead > tr,\n",
       ".dataframe > tbody > tr {\n",
       "  text-align: right;\n",
       "  white-space: pre-wrap;\n",
       "}\n",
       "</style>\n",
       "<small>shape: (5, 6)</small><table border=\"1\" class=\"dataframe\"><thead><tr><th>case_id</th><th>cacccardblochreas_147M\n",
       "(Card blocking reason.)</th><th>conts_type_509L\n",
       "(Person contact type in previous application.)</th><th>credacc_cards_status_52L\n",
       "(Card status of the previous credit account.)</th><th>num_group1</th><th>num_group2</th></tr><tr><td>i16</td><td>str</td><td>str</td><td>str</td><td>i8</td><td>i8</td></tr></thead><tbody><tr><td>2</td><td>null</td><td>&quot;EMPLOYMENT_PHONE&quot;</td><td>null</td><td>1</td><td>1</td></tr><tr><td>2</td><td>null</td><td>&quot;EMPLOYMENT_PHONE&quot;</td><td>null</td><td>0</td><td>1</td></tr><tr><td>2</td><td>null</td><td>&quot;PRIMARY_MOBILE&quot;</td><td>null</td><td>0</td><td>0</td></tr><tr><td>2</td><td>null</td><td>&quot;PRIMARY_MOBILE&quot;</td><td>null</td><td>1</td><td>0</td></tr><tr><td>3</td><td>null</td><td>&quot;PRIMARY_MOBILE&quot;</td><td>null</td><td>0</td><td>1</td></tr></tbody></table></div>"
      ],
      "text/plain": [
       "shape: (5, 6)\n",
       "┌─────────┬────────────────────┬────────────────────┬────────────────────┬────────────┬────────────┐\n",
       "│ case_id ┆ cacccardblochreas_ ┆ conts_type_509L    ┆ credacc_cards_stat ┆ num_group1 ┆ num_group2 │\n",
       "│ ---     ┆ 147M               ┆ (Person contact    ┆ us_52L             ┆ ---        ┆ ---        │\n",
       "│ i16     ┆ (Card blocking     ┆ type in previous   ┆ (Card status of    ┆ i8         ┆ i8         │\n",
       "│         ┆ reason.)           ┆ application.)      ┆ the previous       ┆            ┆            │\n",
       "│         ┆ ---                ┆ ---                ┆ credit account.)   ┆            ┆            │\n",
       "│         ┆ str                ┆ str                ┆ ---                ┆            ┆            │\n",
       "│         ┆                    ┆                    ┆ str                ┆            ┆            │\n",
       "╞═════════╪════════════════════╪════════════════════╪════════════════════╪════════════╪════════════╡\n",
       "│ 2       ┆ null               ┆ EMPLOYMENT_PHONE   ┆ null               ┆ 1          ┆ 1          │\n",
       "│ 2       ┆ null               ┆ EMPLOYMENT_PHONE   ┆ null               ┆ 0          ┆ 1          │\n",
       "│ 2       ┆ null               ┆ PRIMARY_MOBILE     ┆ null               ┆ 0          ┆ 0          │\n",
       "│ 2       ┆ null               ┆ PRIMARY_MOBILE     ┆ null               ┆ 1          ┆ 0          │\n",
       "│ 3       ┆ null               ┆ PRIMARY_MOBILE     ┆ null               ┆ 0          ┆ 1          │\n",
       "└─────────┴────────────────────┴────────────────────┴────────────────────┴────────────┴────────────┘"
      ]
     },
     "execution_count": 72,
     "metadata": {},
     "output_type": "execute_result"
    }
   ],
   "source": [
    "train_previous_application_status = preprocess(2)\n",
    "train_previous_application_status.fetch().head()"
   ]
  },
  {
   "cell_type": "code",
   "execution_count": 73,
   "metadata": {},
   "outputs": [
    {
     "data": {
      "application/vnd.plotly.v1+json": {
       "config": {
        "plotlyServerURL": "https://plot.ly"
       },
       "data": [
        {
         "alignmentgroup": "True",
         "customdata": [
          [
           0
          ]
         ],
         "hovertemplate": "<b>%{hovertext}</b><br><br>column=%{x}<br>column_0=%{y}<br>percent=%{customdata[0]}<extra></extra>",
         "hovertext": [
          "case_id"
         ],
         "legendgroup": "case_id",
         "marker": {
          "color": "#636efa",
          "pattern": {
           "shape": ""
          }
         },
         "name": "case_id",
         "offsetgroup": "case_id",
         "orientation": "v",
         "showlegend": true,
         "textposition": "auto",
         "type": "bar",
         "x": [
          "case_id"
         ],
         "xaxis": "x",
         "y": [
          0
         ],
         "yaxis": "y"
        },
        {
         "alignmentgroup": "True",
         "customdata": [
          [
           0.01
          ]
         ],
         "hovertemplate": "<b>%{hovertext}</b><br><br>column=%{x}<br>column_0=%{y}<br>percent=%{customdata[0]}<extra></extra>",
         "hovertext": [
          "cacccardblochreas_147M\n(Card blocking reason.)"
         ],
         "legendgroup": "cacccardblochreas_147M\n(Card blocking reason.)",
         "marker": {
          "color": "#EF553B",
          "pattern": {
           "shape": ""
          }
         },
         "name": "cacccardblochreas_147M\n(Card blocking reason.)",
         "offsetgroup": "cacccardblochreas_147M\n(Card blocking reason.)",
         "orientation": "v",
         "showlegend": true,
         "textposition": "auto",
         "type": "bar",
         "x": [
          "cacccardblochreas_147M\n(Card blocking reason.)"
         ],
         "xaxis": "x",
         "y": [
          109249
         ],
         "yaxis": "y"
        },
        {
         "alignmentgroup": "True",
         "customdata": [
          [
           0.17
          ]
         ],
         "hovertemplate": "<b>%{hovertext}</b><br><br>column=%{x}<br>column_0=%{y}<br>percent=%{customdata[0]}<extra></extra>",
         "hovertext": [
          "conts_type_509L\n(Person contact type in previous application.)"
         ],
         "legendgroup": "conts_type_509L\n(Person contact type in previous application.)",
         "marker": {
          "color": "#00cc96",
          "pattern": {
           "shape": ""
          }
         },
         "name": "conts_type_509L\n(Person contact type in previous application.)",
         "offsetgroup": "conts_type_509L\n(Person contact type in previous application.)",
         "orientation": "v",
         "showlegend": true,
         "textposition": "auto",
         "type": "bar",
         "x": [
          "conts_type_509L\n(Person contact type in previous application.)"
         ],
         "xaxis": "x",
         "y": [
          2394056
         ],
         "yaxis": "y"
        },
        {
         "alignmentgroup": "True",
         "customdata": [
          [
           0.98
          ]
         ],
         "hovertemplate": "<b>%{hovertext}</b><br><br>column=%{x}<br>column_0=%{y}<br>percent=%{customdata[0]}<extra></extra>",
         "hovertext": [
          "credacc_cards_status_52L\n(Card status of the previous credit account.)"
         ],
         "legendgroup": "credacc_cards_status_52L\n(Card status of the previous credit account.)",
         "marker": {
          "color": "#ab63fa",
          "pattern": {
           "shape": ""
          }
         },
         "name": "credacc_cards_status_52L\n(Card status of the previous credit account.)",
         "offsetgroup": "credacc_cards_status_52L\n(Card status of the previous credit account.)",
         "orientation": "v",
         "showlegend": true,
         "textposition": "auto",
         "type": "bar",
         "x": [
          "credacc_cards_status_52L\n(Card status of the previous credit account.)"
         ],
         "xaxis": "x",
         "y": [
          13733404
         ],
         "yaxis": "y"
        },
        {
         "alignmentgroup": "True",
         "customdata": [
          [
           0
          ]
         ],
         "hovertemplate": "<b>%{hovertext}</b><br><br>column=%{x}<br>column_0=%{y}<br>percent=%{customdata[0]}<extra></extra>",
         "hovertext": [
          "num_group1"
         ],
         "legendgroup": "num_group1",
         "marker": {
          "color": "#FFA15A",
          "pattern": {
           "shape": ""
          }
         },
         "name": "num_group1",
         "offsetgroup": "num_group1",
         "orientation": "v",
         "showlegend": true,
         "textposition": "auto",
         "type": "bar",
         "x": [
          "num_group1"
         ],
         "xaxis": "x",
         "y": [
          0
         ],
         "yaxis": "y"
        },
        {
         "alignmentgroup": "True",
         "customdata": [
          [
           0
          ]
         ],
         "hovertemplate": "<b>%{hovertext}</b><br><br>column=%{x}<br>column_0=%{y}<br>percent=%{customdata[0]}<extra></extra>",
         "hovertext": [
          "num_group2"
         ],
         "legendgroup": "num_group2",
         "marker": {
          "color": "#19d3f3",
          "pattern": {
           "shape": ""
          }
         },
         "name": "num_group2",
         "offsetgroup": "num_group2",
         "orientation": "v",
         "showlegend": true,
         "textposition": "auto",
         "type": "bar",
         "x": [
          "num_group2"
         ],
         "xaxis": "x",
         "y": [
          0
         ],
         "yaxis": "y"
        }
       ],
       "layout": {
        "annotations": [
         {
          "showarrow": false,
          "text": "Total rows",
          "x": 1,
          "xanchor": "right",
          "xref": "x domain",
          "y": 14075487,
          "yanchor": "bottom",
          "yref": "y"
         }
        ],
        "barmode": "relative",
        "height": 900,
        "legend": {
         "title": {
          "text": "column"
         },
         "tracegroupgap": 10
        },
        "margin": {
         "t": 60
        },
        "shapes": [
         {
          "line": {
           "dash": "dashdot"
          },
          "type": "line",
          "x0": 0,
          "x1": 1,
          "xref": "x domain",
          "y0": 14075487,
          "y1": 14075487,
          "yref": "y"
         }
        ],
        "template": {
         "data": {
          "bar": [
           {
            "error_x": {
             "color": "#f2f5fa"
            },
            "error_y": {
             "color": "#f2f5fa"
            },
            "marker": {
             "line": {
              "color": "rgb(17,17,17)",
              "width": 0.5
             },
             "pattern": {
              "fillmode": "overlay",
              "size": 10,
              "solidity": 0.2
             }
            },
            "type": "bar"
           }
          ],
          "barpolar": [
           {
            "marker": {
             "line": {
              "color": "rgb(17,17,17)",
              "width": 0.5
             },
             "pattern": {
              "fillmode": "overlay",
              "size": 10,
              "solidity": 0.2
             }
            },
            "type": "barpolar"
           }
          ],
          "carpet": [
           {
            "aaxis": {
             "endlinecolor": "#A2B1C6",
             "gridcolor": "#506784",
             "linecolor": "#506784",
             "minorgridcolor": "#506784",
             "startlinecolor": "#A2B1C6"
            },
            "baxis": {
             "endlinecolor": "#A2B1C6",
             "gridcolor": "#506784",
             "linecolor": "#506784",
             "minorgridcolor": "#506784",
             "startlinecolor": "#A2B1C6"
            },
            "type": "carpet"
           }
          ],
          "choropleth": [
           {
            "colorbar": {
             "outlinewidth": 0,
             "ticks": ""
            },
            "type": "choropleth"
           }
          ],
          "contour": [
           {
            "colorbar": {
             "outlinewidth": 0,
             "ticks": ""
            },
            "colorscale": [
             [
              0,
              "#0d0887"
             ],
             [
              0.1111111111111111,
              "#46039f"
             ],
             [
              0.2222222222222222,
              "#7201a8"
             ],
             [
              0.3333333333333333,
              "#9c179e"
             ],
             [
              0.4444444444444444,
              "#bd3786"
             ],
             [
              0.5555555555555556,
              "#d8576b"
             ],
             [
              0.6666666666666666,
              "#ed7953"
             ],
             [
              0.7777777777777778,
              "#fb9f3a"
             ],
             [
              0.8888888888888888,
              "#fdca26"
             ],
             [
              1,
              "#f0f921"
             ]
            ],
            "type": "contour"
           }
          ],
          "contourcarpet": [
           {
            "colorbar": {
             "outlinewidth": 0,
             "ticks": ""
            },
            "type": "contourcarpet"
           }
          ],
          "heatmap": [
           {
            "colorbar": {
             "outlinewidth": 0,
             "ticks": ""
            },
            "colorscale": [
             [
              0,
              "#0d0887"
             ],
             [
              0.1111111111111111,
              "#46039f"
             ],
             [
              0.2222222222222222,
              "#7201a8"
             ],
             [
              0.3333333333333333,
              "#9c179e"
             ],
             [
              0.4444444444444444,
              "#bd3786"
             ],
             [
              0.5555555555555556,
              "#d8576b"
             ],
             [
              0.6666666666666666,
              "#ed7953"
             ],
             [
              0.7777777777777778,
              "#fb9f3a"
             ],
             [
              0.8888888888888888,
              "#fdca26"
             ],
             [
              1,
              "#f0f921"
             ]
            ],
            "type": "heatmap"
           }
          ],
          "heatmapgl": [
           {
            "colorbar": {
             "outlinewidth": 0,
             "ticks": ""
            },
            "colorscale": [
             [
              0,
              "#0d0887"
             ],
             [
              0.1111111111111111,
              "#46039f"
             ],
             [
              0.2222222222222222,
              "#7201a8"
             ],
             [
              0.3333333333333333,
              "#9c179e"
             ],
             [
              0.4444444444444444,
              "#bd3786"
             ],
             [
              0.5555555555555556,
              "#d8576b"
             ],
             [
              0.6666666666666666,
              "#ed7953"
             ],
             [
              0.7777777777777778,
              "#fb9f3a"
             ],
             [
              0.8888888888888888,
              "#fdca26"
             ],
             [
              1,
              "#f0f921"
             ]
            ],
            "type": "heatmapgl"
           }
          ],
          "histogram": [
           {
            "marker": {
             "pattern": {
              "fillmode": "overlay",
              "size": 10,
              "solidity": 0.2
             }
            },
            "type": "histogram"
           }
          ],
          "histogram2d": [
           {
            "colorbar": {
             "outlinewidth": 0,
             "ticks": ""
            },
            "colorscale": [
             [
              0,
              "#0d0887"
             ],
             [
              0.1111111111111111,
              "#46039f"
             ],
             [
              0.2222222222222222,
              "#7201a8"
             ],
             [
              0.3333333333333333,
              "#9c179e"
             ],
             [
              0.4444444444444444,
              "#bd3786"
             ],
             [
              0.5555555555555556,
              "#d8576b"
             ],
             [
              0.6666666666666666,
              "#ed7953"
             ],
             [
              0.7777777777777778,
              "#fb9f3a"
             ],
             [
              0.8888888888888888,
              "#fdca26"
             ],
             [
              1,
              "#f0f921"
             ]
            ],
            "type": "histogram2d"
           }
          ],
          "histogram2dcontour": [
           {
            "colorbar": {
             "outlinewidth": 0,
             "ticks": ""
            },
            "colorscale": [
             [
              0,
              "#0d0887"
             ],
             [
              0.1111111111111111,
              "#46039f"
             ],
             [
              0.2222222222222222,
              "#7201a8"
             ],
             [
              0.3333333333333333,
              "#9c179e"
             ],
             [
              0.4444444444444444,
              "#bd3786"
             ],
             [
              0.5555555555555556,
              "#d8576b"
             ],
             [
              0.6666666666666666,
              "#ed7953"
             ],
             [
              0.7777777777777778,
              "#fb9f3a"
             ],
             [
              0.8888888888888888,
              "#fdca26"
             ],
             [
              1,
              "#f0f921"
             ]
            ],
            "type": "histogram2dcontour"
           }
          ],
          "mesh3d": [
           {
            "colorbar": {
             "outlinewidth": 0,
             "ticks": ""
            },
            "type": "mesh3d"
           }
          ],
          "parcoords": [
           {
            "line": {
             "colorbar": {
              "outlinewidth": 0,
              "ticks": ""
             }
            },
            "type": "parcoords"
           }
          ],
          "pie": [
           {
            "automargin": true,
            "type": "pie"
           }
          ],
          "scatter": [
           {
            "marker": {
             "line": {
              "color": "#283442"
             }
            },
            "type": "scatter"
           }
          ],
          "scatter3d": [
           {
            "line": {
             "colorbar": {
              "outlinewidth": 0,
              "ticks": ""
             }
            },
            "marker": {
             "colorbar": {
              "outlinewidth": 0,
              "ticks": ""
             }
            },
            "type": "scatter3d"
           }
          ],
          "scattercarpet": [
           {
            "marker": {
             "colorbar": {
              "outlinewidth": 0,
              "ticks": ""
             }
            },
            "type": "scattercarpet"
           }
          ],
          "scattergeo": [
           {
            "marker": {
             "colorbar": {
              "outlinewidth": 0,
              "ticks": ""
             }
            },
            "type": "scattergeo"
           }
          ],
          "scattergl": [
           {
            "marker": {
             "line": {
              "color": "#283442"
             }
            },
            "type": "scattergl"
           }
          ],
          "scattermapbox": [
           {
            "marker": {
             "colorbar": {
              "outlinewidth": 0,
              "ticks": ""
             }
            },
            "type": "scattermapbox"
           }
          ],
          "scatterpolar": [
           {
            "marker": {
             "colorbar": {
              "outlinewidth": 0,
              "ticks": ""
             }
            },
            "type": "scatterpolar"
           }
          ],
          "scatterpolargl": [
           {
            "marker": {
             "colorbar": {
              "outlinewidth": 0,
              "ticks": ""
             }
            },
            "type": "scatterpolargl"
           }
          ],
          "scatterternary": [
           {
            "marker": {
             "colorbar": {
              "outlinewidth": 0,
              "ticks": ""
             }
            },
            "type": "scatterternary"
           }
          ],
          "surface": [
           {
            "colorbar": {
             "outlinewidth": 0,
             "ticks": ""
            },
            "colorscale": [
             [
              0,
              "#0d0887"
             ],
             [
              0.1111111111111111,
              "#46039f"
             ],
             [
              0.2222222222222222,
              "#7201a8"
             ],
             [
              0.3333333333333333,
              "#9c179e"
             ],
             [
              0.4444444444444444,
              "#bd3786"
             ],
             [
              0.5555555555555556,
              "#d8576b"
             ],
             [
              0.6666666666666666,
              "#ed7953"
             ],
             [
              0.7777777777777778,
              "#fb9f3a"
             ],
             [
              0.8888888888888888,
              "#fdca26"
             ],
             [
              1,
              "#f0f921"
             ]
            ],
            "type": "surface"
           }
          ],
          "table": [
           {
            "cells": {
             "fill": {
              "color": "#506784"
             },
             "line": {
              "color": "rgb(17,17,17)"
             }
            },
            "header": {
             "fill": {
              "color": "#2a3f5f"
             },
             "line": {
              "color": "rgb(17,17,17)"
             }
            },
            "type": "table"
           }
          ]
         },
         "layout": {
          "annotationdefaults": {
           "arrowcolor": "#f2f5fa",
           "arrowhead": 0,
           "arrowwidth": 1
          },
          "autotypenumbers": "strict",
          "coloraxis": {
           "colorbar": {
            "outlinewidth": 0,
            "ticks": ""
           }
          },
          "colorscale": {
           "diverging": [
            [
             0,
             "#8e0152"
            ],
            [
             0.1,
             "#c51b7d"
            ],
            [
             0.2,
             "#de77ae"
            ],
            [
             0.3,
             "#f1b6da"
            ],
            [
             0.4,
             "#fde0ef"
            ],
            [
             0.5,
             "#f7f7f7"
            ],
            [
             0.6,
             "#e6f5d0"
            ],
            [
             0.7,
             "#b8e186"
            ],
            [
             0.8,
             "#7fbc41"
            ],
            [
             0.9,
             "#4d9221"
            ],
            [
             1,
             "#276419"
            ]
           ],
           "sequential": [
            [
             0,
             "#0d0887"
            ],
            [
             0.1111111111111111,
             "#46039f"
            ],
            [
             0.2222222222222222,
             "#7201a8"
            ],
            [
             0.3333333333333333,
             "#9c179e"
            ],
            [
             0.4444444444444444,
             "#bd3786"
            ],
            [
             0.5555555555555556,
             "#d8576b"
            ],
            [
             0.6666666666666666,
             "#ed7953"
            ],
            [
             0.7777777777777778,
             "#fb9f3a"
            ],
            [
             0.8888888888888888,
             "#fdca26"
            ],
            [
             1,
             "#f0f921"
            ]
           ],
           "sequentialminus": [
            [
             0,
             "#0d0887"
            ],
            [
             0.1111111111111111,
             "#46039f"
            ],
            [
             0.2222222222222222,
             "#7201a8"
            ],
            [
             0.3333333333333333,
             "#9c179e"
            ],
            [
             0.4444444444444444,
             "#bd3786"
            ],
            [
             0.5555555555555556,
             "#d8576b"
            ],
            [
             0.6666666666666666,
             "#ed7953"
            ],
            [
             0.7777777777777778,
             "#fb9f3a"
            ],
            [
             0.8888888888888888,
             "#fdca26"
            ],
            [
             1,
             "#f0f921"
            ]
           ]
          },
          "colorway": [
           "#636efa",
           "#EF553B",
           "#00cc96",
           "#ab63fa",
           "#FFA15A",
           "#19d3f3",
           "#FF6692",
           "#B6E880",
           "#FF97FF",
           "#FECB52"
          ],
          "font": {
           "color": "#f2f5fa",
           "family": "Monaco",
           "size": 12
          },
          "geo": {
           "bgcolor": "rgb(17,17,17)",
           "lakecolor": "rgb(17,17,17)",
           "landcolor": "rgb(17,17,17)",
           "showlakes": true,
           "showland": true,
           "subunitcolor": "#506784"
          },
          "hoverlabel": {
           "align": "left"
          },
          "hovermode": "closest",
          "mapbox": {
           "style": "dark"
          },
          "paper_bgcolor": "rgb(17,17,17)",
          "plot_bgcolor": "rgb(17,17,17)",
          "polar": {
           "angularaxis": {
            "gridcolor": "#506784",
            "linecolor": "#506784",
            "ticks": ""
           },
           "bgcolor": "rgb(17,17,17)",
           "radialaxis": {
            "gridcolor": "#506784",
            "linecolor": "#506784",
            "ticks": ""
           }
          },
          "scene": {
           "xaxis": {
            "backgroundcolor": "rgb(17,17,17)",
            "gridcolor": "#506784",
            "gridwidth": 2,
            "linecolor": "#506784",
            "showbackground": true,
            "ticks": "",
            "zerolinecolor": "#C8D4E3"
           },
           "yaxis": {
            "backgroundcolor": "rgb(17,17,17)",
            "gridcolor": "#506784",
            "gridwidth": 2,
            "linecolor": "#506784",
            "showbackground": true,
            "ticks": "",
            "zerolinecolor": "#C8D4E3"
           },
           "zaxis": {
            "backgroundcolor": "rgb(17,17,17)",
            "gridcolor": "#506784",
            "gridwidth": 2,
            "linecolor": "#506784",
            "showbackground": true,
            "ticks": "",
            "zerolinecolor": "#C8D4E3"
           }
          },
          "shapedefaults": {
           "line": {
            "color": "#f2f5fa"
           }
          },
          "sliderdefaults": {
           "bgcolor": "#C8D4E3",
           "bordercolor": "rgb(17,17,17)",
           "borderwidth": 1,
           "tickwidth": 0
          },
          "ternary": {
           "aaxis": {
            "gridcolor": "#506784",
            "linecolor": "#506784",
            "ticks": ""
           },
           "baxis": {
            "gridcolor": "#506784",
            "linecolor": "#506784",
            "ticks": ""
           },
           "bgcolor": "rgb(17,17,17)",
           "caxis": {
            "gridcolor": "#506784",
            "linecolor": "#506784",
            "ticks": ""
           }
          },
          "title": {
           "x": 0.05
          },
          "updatemenudefaults": {
           "bgcolor": "#506784",
           "borderwidth": 0
          },
          "xaxis": {
           "automargin": true,
           "gridcolor": "#283442",
           "linecolor": "#506784",
           "ticks": "",
           "title": {
            "standoff": 15
           },
           "zerolinecolor": "#283442",
           "zerolinewidth": 2
          },
          "yaxis": {
           "automargin": true,
           "gridcolor": "#283442",
           "linecolor": "#506784",
           "ticks": "",
           "title": {
            "standoff": 15
           },
           "zerolinecolor": "#283442",
           "zerolinewidth": 2
          }
         }
        },
        "xaxis": {
         "anchor": "y",
         "categoryarray": [
          "case_id",
          "cacccardblochreas_147M\n(Card blocking reason.)",
          "conts_type_509L\n(Person contact type in previous application.)",
          "credacc_cards_status_52L\n(Card status of the previous credit account.)",
          "num_group1",
          "num_group2"
         ],
         "categoryorder": "array",
         "domain": [
          0,
          1
         ],
         "showticklabels": false,
         "title": {
          "text": "All Columns"
         }
        },
        "yaxis": {
         "anchor": "x",
         "domain": [
          0,
          1
         ],
         "title": {
          "text": "Null Counts"
         }
        }
       }
      }
     },
     "metadata": {},
     "output_type": "display_data"
    }
   ],
   "source": [
    "train_previous_application_status.pipe(plot_nulls)"
   ]
  },
  {
   "cell_type": "markdown",
   "metadata": {},
   "source": [
    "## Static Files"
   ]
  },
  {
   "cell_type": "code",
   "execution_count": 74,
   "metadata": {},
   "outputs": [
    {
     "data": {
      "text/html": [
       "<div><style>\n",
       ".dataframe > thead > tr,\n",
       ".dataframe > tbody > tr {\n",
       "  text-align: right;\n",
       "  white-space: pre-wrap;\n",
       "}\n",
       "</style>\n",
       "<small>shape: (3, 2)</small><table border=\"1\" class=\"dataframe\"><thead><tr><th>index</th><th>filename</th></tr><tr><td>i8</td><td>str</td></tr></thead><tbody><tr><td>26</td><td>&quot;train_static_0_0.parquet&quot;</td></tr><tr><td>27</td><td>&quot;train_static_0_1.parquet&quot;</td></tr><tr><td>28</td><td>&quot;train_static_cb_0.parquet&quot;</td></tr></tbody></table></div>"
      ],
      "text/plain": [
       "shape: (3, 2)\n",
       "┌───────┬───────────────────────────┐\n",
       "│ index ┆ filename                  │\n",
       "│ ---   ┆ ---                       │\n",
       "│ i8    ┆ str                       │\n",
       "╞═══════╪═══════════════════════════╡\n",
       "│ 26    ┆ train_static_0_0.parquet  │\n",
       "│ 27    ┆ train_static_0_1.parquet  │\n",
       "│ 28    ┆ train_static_cb_0.parquet │\n",
       "└───────┴───────────────────────────┘"
      ]
     },
     "execution_count": 74,
     "metadata": {},
     "output_type": "execute_result"
    }
   ],
   "source": [
    "all_files_df.filter(pl.col(\"filename\").str.contains(\"static\"))"
   ]
  },
  {
   "cell_type": "code",
   "execution_count": 75,
   "metadata": {},
   "outputs": [
    {
     "name": "stdout",
     "output_type": "stream",
     "text": [
      "(1003757, 157)\n"
     ]
    },
    {
     "data": {
      "text/html": [
       "<div><style>\n",
       ".dataframe > thead > tr,\n",
       ".dataframe > tbody > tr {\n",
       "  text-align: right;\n",
       "  white-space: pre-wrap;\n",
       "}\n",
       "</style>\n",
       "<small>shape: (5, 157)</small><table border=\"1\" class=\"dataframe\"><thead><tr><th>case_id</th><th>actualdpdtolerance_344P\n",
       "(DPD of client with tolerance.)</th><th>amtinstpaidbefduel24m_4187115A\n",
       "(Number of instalments paid before due date in the last 24 months.)</th><th>annuity_780A\n",
       "(Monthly annuity amount.)</th><th>annuitynextmonth_57A\n",
       "(Next month&#x27;s amount of annuity.)</th><th>applicationcnt_361L\n",
       "(Number of applications associated with the same email address as the client.)</th><th>applications30d_658L\n",
       "(Number of applications made by the client in the last 30 days.)</th><th>applicationscnt_1086L\n",
       "(Number of applications associated with the same phone number.)</th><th>applicationscnt_464L\n",
       "(Number of applications made in the last 30 days by other clients with the same employer as the applicant.)</th><th>applicationscnt_629L\n",
       "(Number of applications with the same employer in the last 7 days.)</th><th>applicationscnt_867L\n",
       "(Number of applications associated with the same mobile phone.)</th><th>avgdbddpdlast24m_3658932P\n",
       "(Average days past or before due of payment during the last 24 months.)</th><th>avgdbddpdlast3m_4187120P\n",
       "(Average days past or before due of payment during the last 3 months.)</th><th>avgdbdtollast24m_4525197P\n",
       "(Average days of payment before due date within the last 24 months (with tolerance).)</th><th>avgdpdtolclosure24_3658938P\n",
       "(Average DPD (days past due) with tolerance within the past 24 months from the maximum closure date, assuming that the contract is finished. If the contract is ongoing, the calculation is based on the current date.)</th><th>avginstallast24m_3658937A\n",
       "(Average instalments paid by the client over the past 24 months.)</th><th>avglnamtstart24m_4525187A\n",
       "(Average loan amount in the last 24 months.)</th><th>avgmaxdpdlast9m_3716943P\n",
       "(Average Days Past Due (DPD) of the client in last 9 months.)</th><th>avgoutstandbalancel6m_4187114A\n",
       "(Average outstanding balance of applicant for the last 6 months.)</th><th>avgpmtlast12m_4525200A\n",
       "(Average of payments made by the client in the last 12 months.)</th><th>bankacctype_710L\n",
       "(Type of applicant&#x27;s bank account.)</th><th>cardtype_51L\n",
       "(Type of credit card.)</th><th>clientscnt12m_3712952L\n",
       "(Number of clients that have used the same mobile phone as the applicant in the past 12 months.)</th><th>clientscnt3m_3712950L\n",
       "(Number of clients who have the same mobile phone number in the last 3 months.)</th><th>clientscnt6m_3712949L\n",
       "(Total number of clients who have used the same mobile number in the last 6 months.)</th><th>clientscnt_100L\n",
       "(Number of applications with matching employer&#x27;s phone and client&#x27;s.)</th><th>clientscnt_1022L\n",
       "(Number of clients sharing the same mobile phone.)</th><th>clientscnt_1071L\n",
       "(Number of applications where the alternative phone number matches that of the client.)</th><th>clientscnt_1130L\n",
       "(Number of applications where client&#x27;s phone number matches the alternative phone contact.)</th><th>clientscnt_136L\n",
       "(Number of applications associated with same email address as client&#x27;s email.)</th><th>clientscnt_157L\n",
       "(Number of clients whose employer has the same phone number as the client.)</th><th>clientscnt_257L\n",
       "(Number of clients that share an alternative phone number with the applicant.)</th><th>clientscnt_304L\n",
       "(Number of clients with the same phone number.)</th><th>clientscnt_360L\n",
       "(Number of clients that have the same alternative phone number and employer&#x27;s phone number.)</th><th>clientscnt_493L\n",
       "(Number of clients with matching phone numbers for both the employer and the client.)</th><th>clientscnt_533L\n",
       "(Number of clients with same client&#x27;s and alternative&#x27;s phone number)</th><th>clientscnt_887L\n",
       "(Number of clients sharing the same employer&#x27;s phone number.)</th><th>&hellip;</th><th>numinstpaidearlyest_4493214L\n",
       "(Number of instalments paid before the due date.)</th><th>numinstpaidlastcontr_4325080L\n",
       "(Number of paid installments from the client&#x27;s last contract.)</th><th>numinstpaidlate1d_3546852L\n",
       "(Number of instalments paid more than 1 day past their due date.)</th><th>numinstregularpaid_973L\n",
       "(Number of fully paid regular installments in the client&#x27;s previous contracts.)</th><th>numinstregularpaidest_4493210L\n",
       "(Number of fully paid regular installments on clients&#x27; previous contracts.)</th><th>numinsttopaygr_769L\n",
       "(Number of unpaid instalments.)</th><th>numinsttopaygrest_4493213L\n",
       "(Number of unpaid instalments.)</th><th>numinstunpaidmax_3546851L\n",
       "(Maximum number of unpaid instalments.)</th><th>numinstunpaidmaxest_4493212L\n",
       "(Maximum number of unpaid instalments.)</th><th>numnotactivated_1143L\n",
       "(Number of non-activated credits.)</th><th>numpmtchanneldd_318L\n",
       "(Number of previous loan contracts for the applicant that had direct debit as payment channel.)</th><th>numrejects9m_859L\n",
       "(Number of credit applications that were rejected in the last 9 months.)</th><th>opencred_647L\n",
       "(Number of active loans from the previous application.)</th><th>paytype1st_925L\n",
       "(Type of first payment of the client.)</th><th>paytype_783L\n",
       "(Type of payment.)</th><th>payvacationpostpone_4187118D\n",
       "(Date of last payment holiday instalment.)</th><th>pctinstlsallpaidearl3d_427L\n",
       "(Percentage of installments paid at least 3 days prior to the due date.)</th><th>pctinstlsallpaidlat10d_839L\n",
       "(Percentage of installments that were paid 10 or more days after the due date.)</th><th>pctinstlsallpaidlate1d_3546856L\n",
       "(Percentage of installments that are paid 1 or more days after the due date.)</th><th>pctinstlsallpaidlate4d_3546849L\n",
       "(Percentage of installments that were paid 4 or more days past their due date.)</th><th>pctinstlsallpaidlate6d_3546844L\n",
       "(Percentage of installments that were paid 6 or more days past their due date.)</th><th>pmtnum_254L\n",
       "(Total number of loan payments made by the client.)</th><th>posfpd10lastmonth_333P\n",
       "(Average FPD10 (Share of contracts with first installment past due more than 10 days) from point of sales that processed contract in the previous month.)</th><th>posfpd30lastmonth_3976960P\n",
       "(Average FPD30 (Share of contracts with first installment past due more than 30 days) from point of sales that processed contract in the previous month.)</th><th>posfstqpd30lastmonth_3976962P\n",
       "(Average FSTPD30 (share of contracts with first, second, or third installment past due more than 30 days) from point of sale that processed contract in the last month.)</th><th>previouscontdistrict_112M\n",
       "(Contact district of the client&#x27;s previous approved application.)</th><th>price_1097A\n",
       "(Credit price.)</th><th>sellerplacecnt_915L\n",
       "(Number of sellerplaces where the same client&#x27;s document was used.)</th><th>sellerplacescnt_216L\n",
       "(Number of sellerplaces where the same client&#x27;s mobile phone was used.)</th><th>sumoutstandtotal_3546847A\n",
       "(Sum of total outstanding amount.)</th><th>sumoutstandtotalest_4493215A\n",
       "(Sum of total outstanding amount.)</th><th>totaldebt_9A\n",
       "(Total amount of debt.)</th><th>totalsettled_863A\n",
       "(Sum of all payments made by the client.)</th><th>totinstallast1m_4525188A\n",
       "(Total amount of monthly instalments paid in the previous month.)</th><th>twobodfilling_608L\n",
       "(Type of application process.)</th><th>typesuite_864L\n",
       "(Persons accompanying the client during the loan application process.)</th><th>validfrom_1069D\n",
       "(Date since the client has an active campaign.)</th></tr><tr><td>i16</td><td>f32</td><td>f32</td><td>f32</td><td>f32</td><td>f32</td><td>f32</td><td>f32</td><td>f32</td><td>f32</td><td>f32</td><td>f32</td><td>f32</td><td>f32</td><td>f32</td><td>f32</td><td>f32</td><td>f32</td><td>f32</td><td>f32</td><td>str</td><td>str</td><td>f32</td><td>f32</td><td>f32</td><td>f32</td><td>f32</td><td>f32</td><td>f32</td><td>f32</td><td>f32</td><td>f32</td><td>f32</td><td>f32</td><td>f32</td><td>f32</td><td>f32</td><td>&hellip;</td><td>f32</td><td>f32</td><td>f32</td><td>f32</td><td>f32</td><td>f32</td><td>f32</td><td>f32</td><td>f32</td><td>f32</td><td>f32</td><td>f32</td><td>bool</td><td>str</td><td>str</td><td>str</td><td>f32</td><td>f32</td><td>f32</td><td>f32</td><td>f32</td><td>f32</td><td>f32</td><td>f32</td><td>f32</td><td>str</td><td>f32</td><td>f32</td><td>f32</td><td>f32</td><td>f32</td><td>f32</td><td>f32</td><td>f32</td><td>str</td><td>str</td><td>str</td></tr></thead><tbody><tr><td>0</td><td>null</td><td>null</td><td>1917.60</td><td>0.00</td><td>0.00</td><td>0.00</td><td>0.00</td><td>0.00</td><td>0.00</td><td>0.00</td><td>null</td><td>null</td><td>null</td><td>null</td><td>null</td><td>null</td><td>null</td><td>null</td><td>null</td><td>null</td><td>null</td><td>0.00</td><td>0.00</td><td>0.00</td><td>0.00</td><td>0.00</td><td>0.00</td><td>0.00</td><td>null</td><td>0.00</td><td>0.00</td><td>0.00</td><td>0.00</td><td>0.00</td><td>0.00</td><td>0.00</td><td>&hellip;</td><td>null</td><td>null</td><td>null</td><td>null</td><td>null</td><td>null</td><td>null</td><td>null</td><td>null</td><td>0.00</td><td>0.00</td><td>0.00</td><td>null</td><td>&quot;OTHER&quot;</td><td>&quot;OTHER&quot;</td><td>null</td><td>null</td><td>null</td><td>null</td><td>null</td><td>null</td><td>24.00</td><td>0.00</td><td>0.00</td><td>null</td><td>&quot;a55475b1&quot;</td><td>null</td><td>0.00</td><td>0.00</td><td>null</td><td>null</td><td>0.00</td><td>0.00</td><td>null</td><td>&quot;BO&quot;</td><td>null</td><td>null</td></tr><tr><td>1</td><td>null</td><td>null</td><td>3134.00</td><td>0.00</td><td>0.00</td><td>0.00</td><td>0.00</td><td>0.00</td><td>0.00</td><td>0.00</td><td>null</td><td>null</td><td>null</td><td>null</td><td>null</td><td>null</td><td>null</td><td>null</td><td>null</td><td>null</td><td>null</td><td>0.00</td><td>0.00</td><td>0.00</td><td>0.00</td><td>0.00</td><td>0.00</td><td>0.00</td><td>0.00</td><td>3.00</td><td>0.00</td><td>0.00</td><td>0.00</td><td>0.00</td><td>0.00</td><td>0.00</td><td>&hellip;</td><td>null</td><td>null</td><td>null</td><td>null</td><td>null</td><td>null</td><td>null</td><td>null</td><td>null</td><td>0.00</td><td>0.00</td><td>0.00</td><td>null</td><td>&quot;OTHER&quot;</td><td>&quot;OTHER&quot;</td><td>null</td><td>null</td><td>null</td><td>null</td><td>null</td><td>null</td><td>18.00</td><td>0.00</td><td>0.00</td><td>null</td><td>&quot;a55475b1&quot;</td><td>null</td><td>0.00</td><td>0.00</td><td>null</td><td>null</td><td>0.00</td><td>0.00</td><td>null</td><td>&quot;BO&quot;</td><td>null</td><td>null</td></tr><tr><td>2</td><td>null</td><td>null</td><td>4937.00</td><td>0.00</td><td>0.00</td><td>0.00</td><td>0.00</td><td>0.00</td><td>0.00</td><td>0.00</td><td>null</td><td>null</td><td>null</td><td>null</td><td>null</td><td>null</td><td>null</td><td>null</td><td>null</td><td>null</td><td>null</td><td>0.00</td><td>0.00</td><td>0.00</td><td>0.00</td><td>0.00</td><td>0.00</td><td>0.00</td><td>null</td><td>0.00</td><td>0.00</td><td>0.00</td><td>0.00</td><td>0.00</td><td>0.00</td><td>0.00</td><td>&hellip;</td><td>null</td><td>null</td><td>null</td><td>null</td><td>null</td><td>null</td><td>null</td><td>null</td><td>null</td><td>0.00</td><td>0.00</td><td>0.00</td><td>false</td><td>&quot;OTHER&quot;</td><td>&quot;OTHER&quot;</td><td>null</td><td>null</td><td>null</td><td>null</td><td>null</td><td>null</td><td>36.00</td><td>0.00</td><td>0.00</td><td>null</td><td>&quot;a55475b1&quot;</td><td>null</td><td>0.00</td><td>0.00</td><td>null</td><td>null</td><td>0.00</td><td>0.00</td><td>null</td><td>&quot;BO&quot;</td><td>&quot;AL&quot;</td><td>null</td></tr><tr><td>3</td><td>null</td><td>null</td><td>4643.60</td><td>0.00</td><td>0.00</td><td>1.00</td><td>0.00</td><td>2.00</td><td>0.00</td><td>1.00</td><td>null</td><td>null</td><td>null</td><td>null</td><td>null</td><td>null</td><td>null</td><td>null</td><td>null</td><td>null</td><td>null</td><td>0.00</td><td>0.00</td><td>0.00</td><td>0.00</td><td>0.00</td><td>0.00</td><td>1.00</td><td>null</td><td>0.00</td><td>0.00</td><td>0.00</td><td>0.00</td><td>0.00</td><td>0.00</td><td>0.00</td><td>&hellip;</td><td>null</td><td>null</td><td>null</td><td>null</td><td>null</td><td>null</td><td>null</td><td>null</td><td>null</td><td>0.00</td><td>0.00</td><td>1.00</td><td>false</td><td>&quot;OTHER&quot;</td><td>&quot;OTHER&quot;</td><td>null</td><td>null</td><td>null</td><td>null</td><td>null</td><td>null</td><td>12.00</td><td>0.00</td><td>0.00</td><td>null</td><td>&quot;a55475b1&quot;</td><td>null</td><td>1.00</td><td>1.00</td><td>null</td><td>null</td><td>0.00</td><td>0.00</td><td>null</td><td>&quot;BO&quot;</td><td>&quot;AL&quot;</td><td>null</td></tr><tr><td>4</td><td>null</td><td>null</td><td>3390.20</td><td>0.00</td><td>0.00</td><td>1.00</td><td>0.00</td><td>0.00</td><td>0.00</td><td>1.00</td><td>null</td><td>null</td><td>null</td><td>null</td><td>null</td><td>null</td><td>null</td><td>null</td><td>null</td><td>null</td><td>null</td><td>0.00</td><td>0.00</td><td>0.00</td><td>0.00</td><td>0.00</td><td>0.00</td><td>0.00</td><td>null</td><td>0.00</td><td>0.00</td><td>0.00</td><td>0.00</td><td>0.00</td><td>0.00</td><td>0.00</td><td>&hellip;</td><td>null</td><td>null</td><td>null</td><td>null</td><td>null</td><td>null</td><td>null</td><td>null</td><td>null</td><td>0.00</td><td>0.00</td><td>0.00</td><td>false</td><td>&quot;OTHER&quot;</td><td>&quot;OTHER&quot;</td><td>null</td><td>null</td><td>null</td><td>null</td><td>null</td><td>null</td><td>24.00</td><td>0.00</td><td>0.00</td><td>null</td><td>&quot;a55475b1&quot;</td><td>null</td><td>0.00</td><td>0.00</td><td>null</td><td>null</td><td>0.00</td><td>0.00</td><td>null</td><td>&quot;BO&quot;</td><td>&quot;AL&quot;</td><td>null</td></tr></tbody></table></div>"
      ],
      "text/plain": [
       "shape: (5, 157)\n",
       "┌─────────┬────────────┬───────────┬───────────┬───┬───────────┬───────────┬───────────┬───────────┐\n",
       "│ case_id ┆ actualdpdt ┆ amtinstpa ┆ annuity_7 ┆ … ┆ totinstal ┆ twobodfil ┆ typesuite ┆ validfrom │\n",
       "│ ---     ┆ olerance_3 ┆ idbefduel ┆ 80A       ┆   ┆ last1m_45 ┆ ling_608L ┆ _864L     ┆ _1069D    │\n",
       "│ i16     ┆ 44P        ┆ 24m_41871 ┆ (Monthly  ┆   ┆ 25188A    ┆ (Type of  ┆ (Persons  ┆ (Date     │\n",
       "│         ┆ (DPD of    ┆ 15A       ┆ annuity   ┆   ┆ (Total    ┆ applicati ┆ accompany ┆ since the │\n",
       "│         ┆ client     ┆ (Number   ┆ amount.)  ┆   ┆ amount of ┆ on        ┆ ing the   ┆ client    │\n",
       "│         ┆ with toler ┆ of instal ┆ ---       ┆   ┆ monthly   ┆ process.) ┆ client    ┆ has an    │\n",
       "│         ┆ ance.)     ┆ ments     ┆ f32       ┆   ┆ instalmen ┆ ---       ┆ during    ┆ active    │\n",
       "│         ┆ ---        ┆ paid      ┆           ┆   ┆ ts paid   ┆ str       ┆ the loan  ┆ campaign. │\n",
       "│         ┆ f32        ┆ before    ┆           ┆   ┆ in the    ┆           ┆ applicati ┆ )         │\n",
       "│         ┆            ┆ due date  ┆           ┆   ┆ previous  ┆           ┆ on        ┆ ---       │\n",
       "│         ┆            ┆ in the    ┆           ┆   ┆ month.)   ┆           ┆ process.) ┆ str       │\n",
       "│         ┆            ┆ last 24   ┆           ┆   ┆ ---       ┆           ┆ ---       ┆           │\n",
       "│         ┆            ┆ months.)  ┆           ┆   ┆ f32       ┆           ┆ str       ┆           │\n",
       "│         ┆            ┆ ---       ┆           ┆   ┆           ┆           ┆           ┆           │\n",
       "│         ┆            ┆ f32       ┆           ┆   ┆           ┆           ┆           ┆           │\n",
       "╞═════════╪════════════╪═══════════╪═══════════╪═══╪═══════════╪═══════════╪═══════════╪═══════════╡\n",
       "│ 0       ┆ null       ┆ null      ┆ 1917.60   ┆ … ┆ null      ┆ BO        ┆ null      ┆ null      │\n",
       "│ 1       ┆ null       ┆ null      ┆ 3134.00   ┆ … ┆ null      ┆ BO        ┆ null      ┆ null      │\n",
       "│ 2       ┆ null       ┆ null      ┆ 4937.00   ┆ … ┆ null      ┆ BO        ┆ AL        ┆ null      │\n",
       "│ 3       ┆ null       ┆ null      ┆ 4643.60   ┆ … ┆ null      ┆ BO        ┆ AL        ┆ null      │\n",
       "│ 4       ┆ null       ┆ null      ┆ 3390.20   ┆ … ┆ null      ┆ BO        ┆ AL        ┆ null      │\n",
       "└─────────┴────────────┴───────────┴───────────┴───┴───────────┴───────────┴───────────┴───────────┘"
      ]
     },
     "execution_count": 75,
     "metadata": {},
     "output_type": "execute_result"
    }
   ],
   "source": [
    "train_static_0 = preprocess(26)\n",
    "print(train_static_0.collect().shape)\n",
    "gc.collect()\n",
    "train_static_0.fetch().head()"
   ]
  },
  {
   "cell_type": "code",
   "execution_count": 76,
   "metadata": {},
   "outputs": [
    {
     "name": "stdout",
     "output_type": "stream",
     "text": [
      "(522902, 157)\n"
     ]
    },
    {
     "data": {
      "text/html": [
       "<div><style>\n",
       ".dataframe > thead > tr,\n",
       ".dataframe > tbody > tr {\n",
       "  text-align: right;\n",
       "  white-space: pre-wrap;\n",
       "}\n",
       "</style>\n",
       "<small>shape: (5, 157)</small><table border=\"1\" class=\"dataframe\"><thead><tr><th>case_id</th><th>actualdpdtolerance_344P\n",
       "(DPD of client with tolerance.)</th><th>amtinstpaidbefduel24m_4187115A\n",
       "(Number of instalments paid before due date in the last 24 months.)</th><th>annuity_780A\n",
       "(Monthly annuity amount.)</th><th>annuitynextmonth_57A\n",
       "(Next month&#x27;s amount of annuity.)</th><th>applicationcnt_361L\n",
       "(Number of applications associated with the same email address as the client.)</th><th>applications30d_658L\n",
       "(Number of applications made by the client in the last 30 days.)</th><th>applicationscnt_1086L\n",
       "(Number of applications associated with the same phone number.)</th><th>applicationscnt_464L\n",
       "(Number of applications made in the last 30 days by other clients with the same employer as the applicant.)</th><th>applicationscnt_629L\n",
       "(Number of applications with the same employer in the last 7 days.)</th><th>applicationscnt_867L\n",
       "(Number of applications associated with the same mobile phone.)</th><th>avgdbddpdlast24m_3658932P\n",
       "(Average days past or before due of payment during the last 24 months.)</th><th>avgdbddpdlast3m_4187120P\n",
       "(Average days past or before due of payment during the last 3 months.)</th><th>avgdbdtollast24m_4525197P\n",
       "(Average days of payment before due date within the last 24 months (with tolerance).)</th><th>avgdpdtolclosure24_3658938P\n",
       "(Average DPD (days past due) with tolerance within the past 24 months from the maximum closure date, assuming that the contract is finished. If the contract is ongoing, the calculation is based on the current date.)</th><th>avginstallast24m_3658937A\n",
       "(Average instalments paid by the client over the past 24 months.)</th><th>avglnamtstart24m_4525187A\n",
       "(Average loan amount in the last 24 months.)</th><th>avgmaxdpdlast9m_3716943P\n",
       "(Average Days Past Due (DPD) of the client in last 9 months.)</th><th>avgoutstandbalancel6m_4187114A\n",
       "(Average outstanding balance of applicant for the last 6 months.)</th><th>avgpmtlast12m_4525200A\n",
       "(Average of payments made by the client in the last 12 months.)</th><th>bankacctype_710L\n",
       "(Type of applicant&#x27;s bank account.)</th><th>cardtype_51L\n",
       "(Type of credit card.)</th><th>clientscnt12m_3712952L\n",
       "(Number of clients that have used the same mobile phone as the applicant in the past 12 months.)</th><th>clientscnt3m_3712950L\n",
       "(Number of clients who have the same mobile phone number in the last 3 months.)</th><th>clientscnt6m_3712949L\n",
       "(Total number of clients who have used the same mobile number in the last 6 months.)</th><th>clientscnt_100L\n",
       "(Number of applications with matching employer&#x27;s phone and client&#x27;s.)</th><th>clientscnt_1022L\n",
       "(Number of clients sharing the same mobile phone.)</th><th>clientscnt_1071L\n",
       "(Number of applications where the alternative phone number matches that of the client.)</th><th>clientscnt_1130L\n",
       "(Number of applications where client&#x27;s phone number matches the alternative phone contact.)</th><th>clientscnt_136L\n",
       "(Number of applications associated with same email address as client&#x27;s email.)</th><th>clientscnt_157L\n",
       "(Number of clients whose employer has the same phone number as the client.)</th><th>clientscnt_257L\n",
       "(Number of clients that share an alternative phone number with the applicant.)</th><th>clientscnt_304L\n",
       "(Number of clients with the same phone number.)</th><th>clientscnt_360L\n",
       "(Number of clients that have the same alternative phone number and employer&#x27;s phone number.)</th><th>clientscnt_493L\n",
       "(Number of clients with matching phone numbers for both the employer and the client.)</th><th>clientscnt_533L\n",
       "(Number of clients with same client&#x27;s and alternative&#x27;s phone number)</th><th>clientscnt_887L\n",
       "(Number of clients sharing the same employer&#x27;s phone number.)</th><th>&hellip;</th><th>numinstpaidearlyest_4493214L\n",
       "(Number of instalments paid before the due date.)</th><th>numinstpaidlastcontr_4325080L\n",
       "(Number of paid installments from the client&#x27;s last contract.)</th><th>numinstpaidlate1d_3546852L\n",
       "(Number of instalments paid more than 1 day past their due date.)</th><th>numinstregularpaid_973L\n",
       "(Number of fully paid regular installments in the client&#x27;s previous contracts.)</th><th>numinstregularpaidest_4493210L\n",
       "(Number of fully paid regular installments on clients&#x27; previous contracts.)</th><th>numinsttopaygr_769L\n",
       "(Number of unpaid instalments.)</th><th>numinsttopaygrest_4493213L\n",
       "(Number of unpaid instalments.)</th><th>numinstunpaidmax_3546851L\n",
       "(Maximum number of unpaid instalments.)</th><th>numinstunpaidmaxest_4493212L\n",
       "(Maximum number of unpaid instalments.)</th><th>numnotactivated_1143L\n",
       "(Number of non-activated credits.)</th><th>numpmtchanneldd_318L\n",
       "(Number of previous loan contracts for the applicant that had direct debit as payment channel.)</th><th>numrejects9m_859L\n",
       "(Number of credit applications that were rejected in the last 9 months.)</th><th>opencred_647L\n",
       "(Number of active loans from the previous application.)</th><th>paytype1st_925L\n",
       "(Type of first payment of the client.)</th><th>paytype_783L\n",
       "(Type of payment.)</th><th>payvacationpostpone_4187118D\n",
       "(Date of last payment holiday instalment.)</th><th>pctinstlsallpaidearl3d_427L\n",
       "(Percentage of installments paid at least 3 days prior to the due date.)</th><th>pctinstlsallpaidlat10d_839L\n",
       "(Percentage of installments that were paid 10 or more days after the due date.)</th><th>pctinstlsallpaidlate1d_3546856L\n",
       "(Percentage of installments that are paid 1 or more days after the due date.)</th><th>pctinstlsallpaidlate4d_3546849L\n",
       "(Percentage of installments that were paid 4 or more days past their due date.)</th><th>pctinstlsallpaidlate6d_3546844L\n",
       "(Percentage of installments that were paid 6 or more days past their due date.)</th><th>pmtnum_254L\n",
       "(Total number of loan payments made by the client.)</th><th>posfpd10lastmonth_333P\n",
       "(Average FPD10 (Share of contracts with first installment past due more than 10 days) from point of sales that processed contract in the previous month.)</th><th>posfpd30lastmonth_3976960P\n",
       "(Average FPD30 (Share of contracts with first installment past due more than 30 days) from point of sales that processed contract in the previous month.)</th><th>posfstqpd30lastmonth_3976962P\n",
       "(Average FSTPD30 (share of contracts with first, second, or third installment past due more than 30 days) from point of sale that processed contract in the last month.)</th><th>previouscontdistrict_112M\n",
       "(Contact district of the client&#x27;s previous approved application.)</th><th>price_1097A\n",
       "(Credit price.)</th><th>sellerplacecnt_915L\n",
       "(Number of sellerplaces where the same client&#x27;s document was used.)</th><th>sellerplacescnt_216L\n",
       "(Number of sellerplaces where the same client&#x27;s mobile phone was used.)</th><th>sumoutstandtotal_3546847A\n",
       "(Sum of total outstanding amount.)</th><th>sumoutstandtotalest_4493215A\n",
       "(Sum of total outstanding amount.)</th><th>totaldebt_9A\n",
       "(Total amount of debt.)</th><th>totalsettled_863A\n",
       "(Sum of all payments made by the client.)</th><th>totinstallast1m_4525188A\n",
       "(Total amount of monthly instalments paid in the previous month.)</th><th>twobodfilling_608L\n",
       "(Type of application process.)</th><th>typesuite_864L\n",
       "(Persons accompanying the client during the loan application process.)</th><th>validfrom_1069D\n",
       "(Date since the client has an active campaign.)</th></tr><tr><td>i32</td><td>f32</td><td>f32</td><td>f32</td><td>f32</td><td>f32</td><td>f32</td><td>f32</td><td>f32</td><td>f32</td><td>f32</td><td>f32</td><td>f32</td><td>f32</td><td>f32</td><td>f32</td><td>f32</td><td>f32</td><td>f32</td><td>f32</td><td>str</td><td>str</td><td>f32</td><td>f32</td><td>f32</td><td>f32</td><td>f32</td><td>f32</td><td>f32</td><td>f32</td><td>f32</td><td>f32</td><td>f32</td><td>f32</td><td>f32</td><td>f32</td><td>f32</td><td>&hellip;</td><td>f32</td><td>f32</td><td>f32</td><td>f32</td><td>f32</td><td>f32</td><td>f32</td><td>f32</td><td>f32</td><td>f32</td><td>f32</td><td>f32</td><td>bool</td><td>str</td><td>str</td><td>str</td><td>f32</td><td>f32</td><td>f32</td><td>f32</td><td>f32</td><td>f32</td><td>f32</td><td>f32</td><td>f32</td><td>str</td><td>f32</td><td>f32</td><td>f32</td><td>f32</td><td>f32</td><td>f32</td><td>f32</td><td>f32</td><td>str</td><td>str</td><td>str</td></tr></thead><tbody><tr><td>40626</td><td>null</td><td>null</td><td>1976.20</td><td>0.00</td><td>0.00</td><td>0.00</td><td>0.00</td><td>1.00</td><td>0.00</td><td>0.00</td><td>null</td><td>null</td><td>null</td><td>null</td><td>null</td><td>null</td><td>null</td><td>null</td><td>null</td><td>null</td><td>null</td><td>0.00</td><td>0.00</td><td>0.00</td><td>0.00</td><td>0.00</td><td>0.00</td><td>0.00</td><td>null</td><td>0.00</td><td>0.00</td><td>0.00</td><td>0.00</td><td>0.00</td><td>0.00</td><td>0.00</td><td>&hellip;</td><td>null</td><td>null</td><td>null</td><td>null</td><td>null</td><td>null</td><td>null</td><td>null</td><td>null</td><td>0.00</td><td>0.00</td><td>0.00</td><td>null</td><td>&quot;OTHER&quot;</td><td>&quot;OTHER&quot;</td><td>null</td><td>null</td><td>null</td><td>null</td><td>null</td><td>null</td><td>24.00</td><td>0.00</td><td>0.00</td><td>null</td><td>&quot;a55475b1&quot;</td><td>null</td><td>0.00</td><td>0.00</td><td>null</td><td>null</td><td>0.00</td><td>0.00</td><td>null</td><td>&quot;FO&quot;</td><td>&quot;AL&quot;</td><td>null</td></tr><tr><td>40704</td><td>null</td><td>null</td><td>3731.20</td><td>0.00</td><td>0.00</td><td>0.00</td><td>0.00</td><td>0.00</td><td>0.00</td><td>0.00</td><td>null</td><td>null</td><td>null</td><td>null</td><td>null</td><td>null</td><td>null</td><td>null</td><td>null</td><td>null</td><td>null</td><td>0.00</td><td>0.00</td><td>0.00</td><td>0.00</td><td>0.00</td><td>0.00</td><td>0.00</td><td>null</td><td>0.00</td><td>0.00</td><td>0.00</td><td>0.00</td><td>0.00</td><td>0.00</td><td>0.00</td><td>&hellip;</td><td>null</td><td>null</td><td>null</td><td>null</td><td>null</td><td>null</td><td>null</td><td>null</td><td>null</td><td>0.00</td><td>0.00</td><td>0.00</td><td>false</td><td>&quot;OTHER&quot;</td><td>&quot;OTHER&quot;</td><td>null</td><td>null</td><td>null</td><td>null</td><td>null</td><td>null</td><td>12.00</td><td>null</td><td>null</td><td>null</td><td>&quot;a55475b1&quot;</td><td>null</td><td>0.00</td><td>0.00</td><td>null</td><td>null</td><td>0.00</td><td>0.00</td><td>null</td><td>&quot;FO&quot;</td><td>&quot;AL&quot;</td><td>null</td></tr><tr><td>40734</td><td>null</td><td>null</td><td>3731.20</td><td>0.00</td><td>0.00</td><td>1.00</td><td>0.00</td><td>0.00</td><td>0.00</td><td>1.00</td><td>null</td><td>null</td><td>null</td><td>null</td><td>null</td><td>null</td><td>null</td><td>null</td><td>null</td><td>null</td><td>null</td><td>0.00</td><td>0.00</td><td>0.00</td><td>0.00</td><td>0.00</td><td>0.00</td><td>0.00</td><td>null</td><td>0.00</td><td>0.00</td><td>0.00</td><td>0.00</td><td>0.00</td><td>1.00</td><td>0.00</td><td>&hellip;</td><td>null</td><td>null</td><td>null</td><td>null</td><td>null</td><td>null</td><td>null</td><td>null</td><td>null</td><td>0.00</td><td>0.00</td><td>1.00</td><td>false</td><td>&quot;OTHER&quot;</td><td>&quot;OTHER&quot;</td><td>null</td><td>null</td><td>null</td><td>null</td><td>null</td><td>null</td><td>12.00</td><td>0.00</td><td>0.00</td><td>null</td><td>&quot;a55475b1&quot;</td><td>null</td><td>1.00</td><td>1.00</td><td>null</td><td>null</td><td>0.00</td><td>0.00</td><td>null</td><td>&quot;FO&quot;</td><td>&quot;AL&quot;</td><td>null</td></tr><tr><td>40737</td><td>0.00</td><td>null</td><td>2362.00</td><td>0.00</td><td>0.00</td><td>0.00</td><td>2.00</td><td>0.00</td><td>0.00</td><td>1.00</td><td>null</td><td>null</td><td>null</td><td>null</td><td>null</td><td>null</td><td>null</td><td>null</td><td>null</td><td>null</td><td>null</td><td>0.00</td><td>0.00</td><td>0.00</td><td>0.00</td><td>0.00</td><td>0.00</td><td>0.00</td><td>null</td><td>0.00</td><td>0.00</td><td>1.00</td><td>0.00</td><td>0.00</td><td>0.00</td><td>0.00</td><td>&hellip;</td><td>null</td><td>null</td><td>null</td><td>null</td><td>null</td><td>null</td><td>null</td><td>null</td><td>null</td><td>0.00</td><td>0.00</td><td>0.00</td><td>false</td><td>&quot;OTHER&quot;</td><td>&quot;OTHER&quot;</td><td>null</td><td>null</td><td>null</td><td>null</td><td>null</td><td>null</td><td>24.00</td><td>null</td><td>null</td><td>null</td><td>&quot;a55475b1&quot;</td><td>null</td><td>0.00</td><td>1.00</td><td>null</td><td>null</td><td>0.00</td><td>0.00</td><td>null</td><td>&quot;FO&quot;</td><td>&quot;AL&quot;</td><td>null</td></tr><tr><td>40766</td><td>null</td><td>null</td><td>1143.00</td><td>0.00</td><td>0.00</td><td>0.00</td><td>0.00</td><td>0.00</td><td>0.00</td><td>0.00</td><td>null</td><td>null</td><td>null</td><td>null</td><td>null</td><td>null</td><td>null</td><td>null</td><td>null</td><td>null</td><td>null</td><td>0.00</td><td>0.00</td><td>0.00</td><td>0.00</td><td>0.00</td><td>0.00</td><td>0.00</td><td>null</td><td>0.00</td><td>0.00</td><td>0.00</td><td>0.00</td><td>0.00</td><td>0.00</td><td>0.00</td><td>&hellip;</td><td>null</td><td>null</td><td>null</td><td>null</td><td>null</td><td>null</td><td>null</td><td>null</td><td>null</td><td>0.00</td><td>0.00</td><td>0.00</td><td>null</td><td>&quot;OTHER&quot;</td><td>&quot;OTHER&quot;</td><td>null</td><td>null</td><td>null</td><td>null</td><td>null</td><td>null</td><td>12.00</td><td>0.00</td><td>0.00</td><td>null</td><td>&quot;a55475b1&quot;</td><td>null</td><td>0.00</td><td>0.00</td><td>null</td><td>null</td><td>0.00</td><td>0.00</td><td>null</td><td>&quot;FO&quot;</td><td>&quot;AL&quot;</td><td>null</td></tr></tbody></table></div>"
      ],
      "text/plain": [
       "shape: (5, 157)\n",
       "┌─────────┬────────────┬───────────┬───────────┬───┬───────────┬───────────┬───────────┬───────────┐\n",
       "│ case_id ┆ actualdpdt ┆ amtinstpa ┆ annuity_7 ┆ … ┆ totinstal ┆ twobodfil ┆ typesuite ┆ validfrom │\n",
       "│ ---     ┆ olerance_3 ┆ idbefduel ┆ 80A       ┆   ┆ last1m_45 ┆ ling_608L ┆ _864L     ┆ _1069D    │\n",
       "│ i32     ┆ 44P        ┆ 24m_41871 ┆ (Monthly  ┆   ┆ 25188A    ┆ (Type of  ┆ (Persons  ┆ (Date     │\n",
       "│         ┆ (DPD of    ┆ 15A       ┆ annuity   ┆   ┆ (Total    ┆ applicati ┆ accompany ┆ since the │\n",
       "│         ┆ client     ┆ (Number   ┆ amount.)  ┆   ┆ amount of ┆ on        ┆ ing the   ┆ client    │\n",
       "│         ┆ with toler ┆ of instal ┆ ---       ┆   ┆ monthly   ┆ process.) ┆ client    ┆ has an    │\n",
       "│         ┆ ance.)     ┆ ments     ┆ f32       ┆   ┆ instalmen ┆ ---       ┆ during    ┆ active    │\n",
       "│         ┆ ---        ┆ paid      ┆           ┆   ┆ ts paid   ┆ str       ┆ the loan  ┆ campaign. │\n",
       "│         ┆ f32        ┆ before    ┆           ┆   ┆ in the    ┆           ┆ applicati ┆ )         │\n",
       "│         ┆            ┆ due date  ┆           ┆   ┆ previous  ┆           ┆ on        ┆ ---       │\n",
       "│         ┆            ┆ in the    ┆           ┆   ┆ month.)   ┆           ┆ process.) ┆ str       │\n",
       "│         ┆            ┆ last 24   ┆           ┆   ┆ ---       ┆           ┆ ---       ┆           │\n",
       "│         ┆            ┆ months.)  ┆           ┆   ┆ f32       ┆           ┆ str       ┆           │\n",
       "│         ┆            ┆ ---       ┆           ┆   ┆           ┆           ┆           ┆           │\n",
       "│         ┆            ┆ f32       ┆           ┆   ┆           ┆           ┆           ┆           │\n",
       "╞═════════╪════════════╪═══════════╪═══════════╪═══╪═══════════╪═══════════╪═══════════╪═══════════╡\n",
       "│ 40626   ┆ null       ┆ null      ┆ 1976.20   ┆ … ┆ null      ┆ FO        ┆ AL        ┆ null      │\n",
       "│ 40704   ┆ null       ┆ null      ┆ 3731.20   ┆ … ┆ null      ┆ FO        ┆ AL        ┆ null      │\n",
       "│ 40734   ┆ null       ┆ null      ┆ 3731.20   ┆ … ┆ null      ┆ FO        ┆ AL        ┆ null      │\n",
       "│ 40737   ┆ 0.00       ┆ null      ┆ 2362.00   ┆ … ┆ null      ┆ FO        ┆ AL        ┆ null      │\n",
       "│ 40766   ┆ null       ┆ null      ┆ 1143.00   ┆ … ┆ null      ┆ FO        ┆ AL        ┆ null      │\n",
       "└─────────┴────────────┴───────────┴───────────┴───┴───────────┴───────────┴───────────┴───────────┘"
      ]
     },
     "execution_count": 76,
     "metadata": {},
     "output_type": "execute_result"
    }
   ],
   "source": [
    "train_static_1 = preprocess(27)\n",
    "print(train_static_1.collect().shape)\n",
    "gc.collect()\n",
    "train_static_1.fetch().head()"
   ]
  },
  {
   "cell_type": "code",
   "execution_count": 77,
   "metadata": {},
   "outputs": [
    {
     "name": "stdout",
     "output_type": "stream",
     "text": [
      "(1500476, 44)\n"
     ]
    },
    {
     "data": {
      "text/html": [
       "<div><style>\n",
       ".dataframe > thead > tr,\n",
       ".dataframe > tbody > tr {\n",
       "  text-align: right;\n",
       "  white-space: pre-wrap;\n",
       "}\n",
       "</style>\n",
       "<small>shape: (5, 44)</small><table border=\"1\" class=\"dataframe\"><thead><tr><th>case_id</th><th>contractssum_5085716L\n",
       "(Total sum of values of contracts retrieved from external credit bureau.)</th><th>days120_123L\n",
       "(Number of credit bureau queries for the last 120 days.)</th><th>days180_256L\n",
       "(Number of credit bureau queries for last 180 days.)</th><th>days30_165L\n",
       "(Number of credit bureau queries for the last 30 days.)</th><th>days360_512L\n",
       "(Number of Credit Bureau queries for last 360 days.)</th><th>days90_310L\n",
       "(Number of credit bureau queries for the last 90 days.)</th><th>description_5085714M\n",
       "(Categorization of clients by credit bureau.)</th><th>education_1103M\n",
       "(Level of education of the client provided by external source.)</th><th>education_88M\n",
       "(Education level of the client.)</th><th>firstquarter_103L\n",
       "(Number of results obtained from credit bureau in the first quarter.)</th><th>for3years_128L\n",
       "(Number of rejected applications in the past 3 years.)</th><th>for3years_504L\n",
       "(Client&#x27;s credit history data over the last three years.)</th><th>for3years_584L\n",
       "(Number of cancellations in the last 3 years.)</th><th>formonth_118L\n",
       "(Number of rejections in a month.)</th><th>formonth_206L\n",
       "(Number of cancelations in the previous month.)</th><th>formonth_535L\n",
       "(Credit history for the last month.)</th><th>forquarter_1017L\n",
       "(Number of cancellations recorded in the credit bureau in the last quarter.)</th><th>forquarter_462L\n",
       "(Number of credit applications that were rejected in the last quarter.)</th><th>forquarter_634L\n",
       "(Credit history for the last quarter.)</th><th>fortoday_1092L\n",
       "(Client&#x27;s credit history for today.)</th><th>forweek_1077L\n",
       "(Number of cancelations in the last week.)</th><th>forweek_528L\n",
       "(Credit history for the last week.)</th><th>forweek_601L\n",
       "(Number of rejected applications in the last week.)</th><th>foryear_618L\n",
       "(Number of application rejections in the previous year.)</th><th>foryear_818L\n",
       "(Number of cancelations that occurred in last year.)</th><th>foryear_850L\n",
       "(Credit history for the last year.)</th><th>fourthquarter_440L\n",
       "(Number of results in fourth quarter.)</th><th>maritalst_385M\n",
       "(Marital status of the client.)</th><th>maritalst_893M\n",
       "(Marital status of the client)</th><th>numberofqueries_373L\n",
       "(Number of queries to credit bureau.)</th><th>pmtaverage_3A\n",
       "(Average of tax deductions.)</th><th>pmtaverage_4527227A\n",
       "(Average of tax deductions.)</th><th>pmtaverage_4955615A\n",
       "(Average of tax deductions.)</th><th>pmtcount_4527229L\n",
       "(Number of tax deductions.)</th><th>pmtcount_4955617L\n",
       "(Number of tax deductions.)</th><th>pmtcount_693L\n",
       "(Number of tax deductions.)</th><th>pmtscount_423L\n",
       "(Number of tax deduction payments.)</th><th>pmtssum_45A\n",
       "(Sum of tax deductions for the client.)</th><th>requesttype_4525192L\n",
       "(Tax authority request type.)</th><th>riskassesment_302T\n",
       "(Estimated probability that the client will default on their credit obligation within the next year.)</th><th>riskassesment_940T\n",
       "(Estimate of client&#x27;s creditworthiness.)</th><th>secondquarter_766L\n",
       "(Number of results in second quarter.)</th><th>thirdquarter_1082L\n",
       "(Number of results in third quarter.)</th></tr><tr><td>i16</td><td>f32</td><td>f32</td><td>f32</td><td>f32</td><td>f32</td><td>f32</td><td>str</td><td>str</td><td>str</td><td>f32</td><td>f32</td><td>f32</td><td>f32</td><td>f32</td><td>f32</td><td>f32</td><td>f32</td><td>f32</td><td>f32</td><td>f32</td><td>f32</td><td>f32</td><td>f32</td><td>f32</td><td>f32</td><td>f32</td><td>f32</td><td>str</td><td>str</td><td>f32</td><td>f32</td><td>f32</td><td>f32</td><td>f32</td><td>f32</td><td>f32</td><td>f32</td><td>f32</td><td>str</td><td>str</td><td>f32</td><td>f32</td><td>f32</td></tr></thead><tbody><tr><td>357</td><td>null</td><td>null</td><td>null</td><td>null</td><td>null</td><td>null</td><td>&quot;a55475b1&quot;</td><td>&quot;a55475b1&quot;</td><td>&quot;a55475b1&quot;</td><td>null</td><td>null</td><td>null</td><td>null</td><td>null</td><td>null</td><td>null</td><td>null</td><td>null</td><td>null</td><td>null</td><td>null</td><td>null</td><td>null</td><td>null</td><td>null</td><td>null</td><td>null</td><td>&quot;a55475b1&quot;</td><td>&quot;a55475b1&quot;</td><td>null</td><td>null</td><td>null</td><td>null</td><td>null</td><td>null</td><td>null</td><td>6.00</td><td>6301.40</td><td>null</td><td>null</td><td>null</td><td>null</td><td>null</td></tr><tr><td>381</td><td>null</td><td>null</td><td>null</td><td>null</td><td>null</td><td>null</td><td>&quot;a55475b1&quot;</td><td>&quot;a55475b1&quot;</td><td>&quot;a55475b1&quot;</td><td>null</td><td>null</td><td>null</td><td>null</td><td>null</td><td>null</td><td>null</td><td>null</td><td>null</td><td>null</td><td>null</td><td>null</td><td>null</td><td>null</td><td>null</td><td>null</td><td>null</td><td>null</td><td>&quot;a55475b1&quot;</td><td>&quot;a55475b1&quot;</td><td>null</td><td>null</td><td>null</td><td>null</td><td>null</td><td>null</td><td>null</td><td>6.00</td><td>4019.60</td><td>null</td><td>null</td><td>null</td><td>null</td><td>null</td></tr><tr><td>388</td><td>null</td><td>6.00</td><td>8.00</td><td>2.00</td><td>10.00</td><td>4.00</td><td>&quot;a55475b1&quot;</td><td>&quot;a55475b1&quot;</td><td>&quot;a55475b1&quot;</td><td>2.00</td><td>null</td><td>null</td><td>null</td><td>null</td><td>null</td><td>null</td><td>null</td><td>null</td><td>null</td><td>null</td><td>null</td><td>null</td><td>null</td><td>null</td><td>null</td><td>null</td><td>6.00</td><td>&quot;a55475b1&quot;</td><td>&quot;a55475b1&quot;</td><td>10.00</td><td>null</td><td>null</td><td>null</td><td>null</td><td>null</td><td>null</td><td>6.00</td><td>14548.00</td><td>null</td><td>null</td><td>null</td><td>3.00</td><td>5.00</td></tr><tr><td>405</td><td>null</td><td>0.00</td><td>0.00</td><td>0.00</td><td>1.00</td><td>0.00</td><td>&quot;a55475b1&quot;</td><td>&quot;a55475b1&quot;</td><td>&quot;a55475b1&quot;</td><td>0.00</td><td>null</td><td>null</td><td>null</td><td>null</td><td>null</td><td>null</td><td>null</td><td>null</td><td>null</td><td>null</td><td>null</td><td>null</td><td>null</td><td>null</td><td>null</td><td>null</td><td>4.00</td><td>&quot;a55475b1&quot;</td><td>&quot;a55475b1&quot;</td><td>1.00</td><td>null</td><td>null</td><td>null</td><td>null</td><td>null</td><td>null</td><td>6.00</td><td>10498.24</td><td>null</td><td>null</td><td>null</td><td>2.00</td><td>0.00</td></tr><tr><td>409</td><td>null</td><td>2.00</td><td>3.00</td><td>0.00</td><td>3.00</td><td>1.00</td><td>&quot;a55475b1&quot;</td><td>&quot;717ddd49&quot;</td><td>&quot;a55475b1&quot;</td><td>4.00</td><td>null</td><td>null</td><td>null</td><td>null</td><td>null</td><td>null</td><td>null</td><td>null</td><td>null</td><td>null</td><td>null</td><td>null</td><td>null</td><td>null</td><td>null</td><td>null</td><td>1.00</td><td>&quot;a7fcb6e5&quot;</td><td>&quot;a55475b1&quot;</td><td>3.00</td><td>null</td><td>null</td><td>null</td><td>null</td><td>null</td><td>null</td><td>7.00</td><td>6344.88</td><td>null</td><td>null</td><td>null</td><td>0.00</td><td>4.00</td></tr></tbody></table></div>"
      ],
      "text/plain": [
       "shape: (5, 44)\n",
       "┌─────────┬────────────┬───────────┬───────────┬───┬───────────┬───────────┬───────────┬───────────┐\n",
       "│ case_id ┆ contractss ┆ days120_1 ┆ days180_2 ┆ … ┆ riskasses ┆ riskasses ┆ secondqua ┆ thirdquar │\n",
       "│ ---     ┆ um_5085716 ┆ 23L       ┆ 56L       ┆   ┆ ment_302T ┆ ment_940T ┆ rter_766L ┆ ter_1082L │\n",
       "│ i16     ┆ L          ┆ (Number   ┆ (Number   ┆   ┆ (Estimate ┆ (Estimate ┆ (Number   ┆ (Number   │\n",
       "│         ┆ (Total sum ┆ of credit ┆ of credit ┆   ┆ d probabi ┆ of        ┆ of        ┆ of        │\n",
       "│         ┆ of values  ┆ bureau    ┆ bureau    ┆   ┆ lity that ┆ client's  ┆ results   ┆ results   │\n",
       "│         ┆ of         ┆ queries   ┆ queries   ┆   ┆ the       ┆ creditwor ┆ in second ┆ in third  │\n",
       "│         ┆ contracts  ┆ for the   ┆ for last  ┆   ┆ client    ┆ thiness.) ┆ quarter.) ┆ quarter.) │\n",
       "│         ┆ retrieved  ┆ last 120  ┆ 180       ┆   ┆ will      ┆ ---       ┆ ---       ┆ ---       │\n",
       "│         ┆ from       ┆ days.)    ┆ days.)    ┆   ┆ default   ┆ f32       ┆ f32       ┆ f32       │\n",
       "│         ┆ external   ┆ ---       ┆ ---       ┆   ┆ on their  ┆           ┆           ┆           │\n",
       "│         ┆ credit     ┆ f32       ┆ f32       ┆   ┆ credit    ┆           ┆           ┆           │\n",
       "│         ┆ bureau.)   ┆           ┆           ┆   ┆ obligatio ┆           ┆           ┆           │\n",
       "│         ┆ ---        ┆           ┆           ┆   ┆ n within  ┆           ┆           ┆           │\n",
       "│         ┆ f32        ┆           ┆           ┆   ┆ the next  ┆           ┆           ┆           │\n",
       "│         ┆            ┆           ┆           ┆   ┆ year.)    ┆           ┆           ┆           │\n",
       "│         ┆            ┆           ┆           ┆   ┆ ---       ┆           ┆           ┆           │\n",
       "│         ┆            ┆           ┆           ┆   ┆ str       ┆           ┆           ┆           │\n",
       "╞═════════╪════════════╪═══════════╪═══════════╪═══╪═══════════╪═══════════╪═══════════╪═══════════╡\n",
       "│ 357     ┆ null       ┆ null      ┆ null      ┆ … ┆ null      ┆ null      ┆ null      ┆ null      │\n",
       "│ 381     ┆ null       ┆ null      ┆ null      ┆ … ┆ null      ┆ null      ┆ null      ┆ null      │\n",
       "│ 388     ┆ null       ┆ 6.00      ┆ 8.00      ┆ … ┆ null      ┆ null      ┆ 3.00      ┆ 5.00      │\n",
       "│ 405     ┆ null       ┆ 0.00      ┆ 0.00      ┆ … ┆ null      ┆ null      ┆ 2.00      ┆ 0.00      │\n",
       "│ 409     ┆ null       ┆ 2.00      ┆ 3.00      ┆ … ┆ null      ┆ null      ┆ 0.00      ┆ 4.00      │\n",
       "└─────────┴────────────┴───────────┴───────────┴───┴───────────┴───────────┴───────────┴───────────┘"
      ]
     },
     "execution_count": 77,
     "metadata": {},
     "output_type": "execute_result"
    }
   ],
   "source": [
    "train_static_2 = preprocess(28)\n",
    "print(train_static_2.collect().shape)\n",
    "gc.collect()\n",
    "train_static_2.fetch().head()"
   ]
  },
  {
   "cell_type": "markdown",
   "metadata": {},
   "source": [
    "## Train debitcard"
   ]
  },
  {
   "cell_type": "code",
   "execution_count": 97,
   "metadata": {},
   "outputs": [
    {
     "data": {
      "text/html": [
       "<div><style>\n",
       ".dataframe > thead > tr,\n",
       ".dataframe > tbody > tr {\n",
       "  text-align: right;\n",
       "  white-space: pre-wrap;\n",
       "}\n",
       "</style>\n",
       "<small>shape: (1, 2)</small><table border=\"1\" class=\"dataframe\"><thead><tr><th>index</th><th>filename</th></tr><tr><td>i8</td><td>str</td></tr></thead><tbody><tr><td>21</td><td>&quot;train_debitcard_1.parquet&quot;</td></tr></tbody></table></div>"
      ],
      "text/plain": [
       "shape: (1, 2)\n",
       "┌───────┬───────────────────────────┐\n",
       "│ index ┆ filename                  │\n",
       "│ ---   ┆ ---                       │\n",
       "│ i8    ┆ str                       │\n",
       "╞═══════╪═══════════════════════════╡\n",
       "│ 21    ┆ train_debitcard_1.parquet │\n",
       "└───────┴───────────────────────────┘"
      ]
     },
     "execution_count": 97,
     "metadata": {},
     "output_type": "execute_result"
    }
   ],
   "source": [
    "all_files_df.filter(pl.col('filename').str.contains(\"debit\"))"
   ]
  },
  {
   "cell_type": "code",
   "execution_count": 78,
   "metadata": {},
   "outputs": [
    {
     "data": {
      "text/html": [
       "<div><style>\n",
       ".dataframe > thead > tr,\n",
       ".dataframe > tbody > tr {\n",
       "  text-align: right;\n",
       "  white-space: pre-wrap;\n",
       "}\n",
       "</style>\n",
       "<small>shape: (5, 5)</small><table border=\"1\" class=\"dataframe\"><thead><tr><th>case_id</th><th>last180dayaveragebalance_704A\n",
       "(Average balance on debit card in the last 180 days.)</th><th>last180dayturnover_1134A\n",
       "(Debit card&#x27;s turnover within the last 180 days.)</th><th>last30dayturnover_651A\n",
       "(Debit card turnover for the last 30 days.)</th><th>num_group1</th></tr><tr><td>i16</td><td>f32</td><td>f32</td><td>f32</td><td>i8</td></tr></thead><tbody><tr><td>225</td><td>null</td><td>null</td><td>null</td><td>0</td></tr><tr><td>331</td><td>null</td><td>null</td><td>null</td><td>0</td></tr><tr><td>358</td><td>null</td><td>null</td><td>null</td><td>0</td></tr><tr><td>390</td><td>null</td><td>null</td><td>null</td><td>0</td></tr><tr><td>390</td><td>null</td><td>null</td><td>null</td><td>2</td></tr></tbody></table></div>"
      ],
      "text/plain": [
       "shape: (5, 5)\n",
       "┌─────────┬─────────────────────────┬────────────────────────┬────────────────────────┬────────────┐\n",
       "│ case_id ┆ last180dayaveragebalanc ┆ last180dayturnover_113 ┆ last30dayturnover_651A ┆ num_group1 │\n",
       "│ ---     ┆ e_704A                  ┆ 4A                     ┆ (Debit card turnover   ┆ ---        │\n",
       "│ i16     ┆ (Average balance on     ┆ (Debit card's turnover ┆ for the last 30 days.) ┆ i8         │\n",
       "│         ┆ debit card in the last  ┆ within the last 180    ┆ ---                    ┆            │\n",
       "│         ┆ 180 days.)              ┆ days.)                 ┆ f32                    ┆            │\n",
       "│         ┆ ---                     ┆ ---                    ┆                        ┆            │\n",
       "│         ┆ f32                     ┆ f32                    ┆                        ┆            │\n",
       "╞═════════╪═════════════════════════╪════════════════════════╪════════════════════════╪════════════╡\n",
       "│ 225     ┆ null                    ┆ null                   ┆ null                   ┆ 0          │\n",
       "│ 331     ┆ null                    ┆ null                   ┆ null                   ┆ 0          │\n",
       "│ 358     ┆ null                    ┆ null                   ┆ null                   ┆ 0          │\n",
       "│ 390     ┆ null                    ┆ null                   ┆ null                   ┆ 0          │\n",
       "│ 390     ┆ null                    ┆ null                   ┆ null                   ┆ 2          │\n",
       "└─────────┴─────────────────────────┴────────────────────────┴────────────────────────┴────────────┘"
      ]
     },
     "metadata": {},
     "output_type": "display_data"
    },
    {
     "data": {
      "application/vnd.plotly.v1+json": {
       "config": {
        "plotlyServerURL": "https://plot.ly"
       },
       "data": [
        {
         "alignmentgroup": "True",
         "customdata": [
          [
           0
          ]
         ],
         "hovertemplate": "<b>%{hovertext}</b><br><br>column=%{x}<br>column_0=%{y}<br>percent=%{customdata[0]}<extra></extra>",
         "hovertext": [
          "case_id"
         ],
         "legendgroup": "case_id",
         "marker": {
          "color": "#636efa",
          "pattern": {
           "shape": ""
          }
         },
         "name": "case_id",
         "offsetgroup": "case_id",
         "orientation": "v",
         "showlegend": true,
         "textposition": "auto",
         "type": "bar",
         "x": [
          "case_id"
         ],
         "xaxis": "x",
         "y": [
          0
         ],
         "yaxis": "y"
        },
        {
         "alignmentgroup": "True",
         "customdata": [
          [
           0.92
          ]
         ],
         "hovertemplate": "<b>%{hovertext}</b><br><br>column=%{x}<br>column_0=%{y}<br>percent=%{customdata[0]}<extra></extra>",
         "hovertext": [
          "last180dayaveragebalance_704A\n(Average balance on debit card in the last 180 days.)"
         ],
         "legendgroup": "last180dayaveragebalance_704A\n(Average balance on debit card in the last 180 days.)",
         "marker": {
          "color": "#EF553B",
          "pattern": {
           "shape": ""
          }
         },
         "name": "last180dayaveragebalance_704A\n(Average balance on debit card in the last 180 days.)",
         "offsetgroup": "last180dayaveragebalance_704A\n(Average balance on debit card in the last 180 days.)",
         "orientation": "v",
         "showlegend": true,
         "textposition": "auto",
         "type": "bar",
         "x": [
          "last180dayaveragebalance_704A\n(Average balance on debit card in the last 180 days.)"
         ],
         "xaxis": "x",
         "y": [
          145086
         ],
         "yaxis": "y"
        },
        {
         "alignmentgroup": "True",
         "customdata": [
          [
           0.93
          ]
         ],
         "hovertemplate": "<b>%{hovertext}</b><br><br>column=%{x}<br>column_0=%{y}<br>percent=%{customdata[0]}<extra></extra>",
         "hovertext": [
          "last180dayturnover_1134A\n(Debit card's turnover within the last 180 days.)"
         ],
         "legendgroup": "last180dayturnover_1134A\n(Debit card's turnover within the last 180 days.)",
         "marker": {
          "color": "#00cc96",
          "pattern": {
           "shape": ""
          }
         },
         "name": "last180dayturnover_1134A\n(Debit card's turnover within the last 180 days.)",
         "offsetgroup": "last180dayturnover_1134A\n(Debit card's turnover within the last 180 days.)",
         "orientation": "v",
         "showlegend": true,
         "textposition": "auto",
         "type": "bar",
         "x": [
          "last180dayturnover_1134A\n(Debit card's turnover within the last 180 days.)"
         ],
         "xaxis": "x",
         "y": [
          146221
         ],
         "yaxis": "y"
        },
        {
         "alignmentgroup": "True",
         "customdata": [
          [
           0.93
          ]
         ],
         "hovertemplate": "<b>%{hovertext}</b><br><br>column=%{x}<br>column_0=%{y}<br>percent=%{customdata[0]}<extra></extra>",
         "hovertext": [
          "last30dayturnover_651A\n(Debit card turnover for the last 30 days.)"
         ],
         "legendgroup": "last30dayturnover_651A\n(Debit card turnover for the last 30 days.)",
         "marker": {
          "color": "#ab63fa",
          "pattern": {
           "shape": ""
          }
         },
         "name": "last30dayturnover_651A\n(Debit card turnover for the last 30 days.)",
         "offsetgroup": "last30dayturnover_651A\n(Debit card turnover for the last 30 days.)",
         "orientation": "v",
         "showlegend": true,
         "textposition": "auto",
         "type": "bar",
         "x": [
          "last30dayturnover_651A\n(Debit card turnover for the last 30 days.)"
         ],
         "xaxis": "x",
         "y": [
          146221
         ],
         "yaxis": "y"
        },
        {
         "alignmentgroup": "True",
         "customdata": [
          [
           0
          ]
         ],
         "hovertemplate": "<b>%{hovertext}</b><br><br>column=%{x}<br>column_0=%{y}<br>percent=%{customdata[0]}<extra></extra>",
         "hovertext": [
          "num_group1"
         ],
         "legendgroup": "num_group1",
         "marker": {
          "color": "#FFA15A",
          "pattern": {
           "shape": ""
          }
         },
         "name": "num_group1",
         "offsetgroup": "num_group1",
         "orientation": "v",
         "showlegend": true,
         "textposition": "auto",
         "type": "bar",
         "x": [
          "num_group1"
         ],
         "xaxis": "x",
         "y": [
          0
         ],
         "yaxis": "y"
        }
       ],
       "layout": {
        "annotations": [
         {
          "showarrow": false,
          "text": "Total rows",
          "x": 1,
          "xanchor": "right",
          "xref": "x domain",
          "y": 157302,
          "yanchor": "bottom",
          "yref": "y"
         }
        ],
        "barmode": "relative",
        "height": 900,
        "legend": {
         "title": {
          "text": "column"
         },
         "tracegroupgap": 10
        },
        "margin": {
         "t": 60
        },
        "shapes": [
         {
          "line": {
           "dash": "dashdot"
          },
          "type": "line",
          "x0": 0,
          "x1": 1,
          "xref": "x domain",
          "y0": 157302,
          "y1": 157302,
          "yref": "y"
         }
        ],
        "template": {
         "data": {
          "bar": [
           {
            "error_x": {
             "color": "#f2f5fa"
            },
            "error_y": {
             "color": "#f2f5fa"
            },
            "marker": {
             "line": {
              "color": "rgb(17,17,17)",
              "width": 0.5
             },
             "pattern": {
              "fillmode": "overlay",
              "size": 10,
              "solidity": 0.2
             }
            },
            "type": "bar"
           }
          ],
          "barpolar": [
           {
            "marker": {
             "line": {
              "color": "rgb(17,17,17)",
              "width": 0.5
             },
             "pattern": {
              "fillmode": "overlay",
              "size": 10,
              "solidity": 0.2
             }
            },
            "type": "barpolar"
           }
          ],
          "carpet": [
           {
            "aaxis": {
             "endlinecolor": "#A2B1C6",
             "gridcolor": "#506784",
             "linecolor": "#506784",
             "minorgridcolor": "#506784",
             "startlinecolor": "#A2B1C6"
            },
            "baxis": {
             "endlinecolor": "#A2B1C6",
             "gridcolor": "#506784",
             "linecolor": "#506784",
             "minorgridcolor": "#506784",
             "startlinecolor": "#A2B1C6"
            },
            "type": "carpet"
           }
          ],
          "choropleth": [
           {
            "colorbar": {
             "outlinewidth": 0,
             "ticks": ""
            },
            "type": "choropleth"
           }
          ],
          "contour": [
           {
            "colorbar": {
             "outlinewidth": 0,
             "ticks": ""
            },
            "colorscale": [
             [
              0,
              "#0d0887"
             ],
             [
              0.1111111111111111,
              "#46039f"
             ],
             [
              0.2222222222222222,
              "#7201a8"
             ],
             [
              0.3333333333333333,
              "#9c179e"
             ],
             [
              0.4444444444444444,
              "#bd3786"
             ],
             [
              0.5555555555555556,
              "#d8576b"
             ],
             [
              0.6666666666666666,
              "#ed7953"
             ],
             [
              0.7777777777777778,
              "#fb9f3a"
             ],
             [
              0.8888888888888888,
              "#fdca26"
             ],
             [
              1,
              "#f0f921"
             ]
            ],
            "type": "contour"
           }
          ],
          "contourcarpet": [
           {
            "colorbar": {
             "outlinewidth": 0,
             "ticks": ""
            },
            "type": "contourcarpet"
           }
          ],
          "heatmap": [
           {
            "colorbar": {
             "outlinewidth": 0,
             "ticks": ""
            },
            "colorscale": [
             [
              0,
              "#0d0887"
             ],
             [
              0.1111111111111111,
              "#46039f"
             ],
             [
              0.2222222222222222,
              "#7201a8"
             ],
             [
              0.3333333333333333,
              "#9c179e"
             ],
             [
              0.4444444444444444,
              "#bd3786"
             ],
             [
              0.5555555555555556,
              "#d8576b"
             ],
             [
              0.6666666666666666,
              "#ed7953"
             ],
             [
              0.7777777777777778,
              "#fb9f3a"
             ],
             [
              0.8888888888888888,
              "#fdca26"
             ],
             [
              1,
              "#f0f921"
             ]
            ],
            "type": "heatmap"
           }
          ],
          "heatmapgl": [
           {
            "colorbar": {
             "outlinewidth": 0,
             "ticks": ""
            },
            "colorscale": [
             [
              0,
              "#0d0887"
             ],
             [
              0.1111111111111111,
              "#46039f"
             ],
             [
              0.2222222222222222,
              "#7201a8"
             ],
             [
              0.3333333333333333,
              "#9c179e"
             ],
             [
              0.4444444444444444,
              "#bd3786"
             ],
             [
              0.5555555555555556,
              "#d8576b"
             ],
             [
              0.6666666666666666,
              "#ed7953"
             ],
             [
              0.7777777777777778,
              "#fb9f3a"
             ],
             [
              0.8888888888888888,
              "#fdca26"
             ],
             [
              1,
              "#f0f921"
             ]
            ],
            "type": "heatmapgl"
           }
          ],
          "histogram": [
           {
            "marker": {
             "pattern": {
              "fillmode": "overlay",
              "size": 10,
              "solidity": 0.2
             }
            },
            "type": "histogram"
           }
          ],
          "histogram2d": [
           {
            "colorbar": {
             "outlinewidth": 0,
             "ticks": ""
            },
            "colorscale": [
             [
              0,
              "#0d0887"
             ],
             [
              0.1111111111111111,
              "#46039f"
             ],
             [
              0.2222222222222222,
              "#7201a8"
             ],
             [
              0.3333333333333333,
              "#9c179e"
             ],
             [
              0.4444444444444444,
              "#bd3786"
             ],
             [
              0.5555555555555556,
              "#d8576b"
             ],
             [
              0.6666666666666666,
              "#ed7953"
             ],
             [
              0.7777777777777778,
              "#fb9f3a"
             ],
             [
              0.8888888888888888,
              "#fdca26"
             ],
             [
              1,
              "#f0f921"
             ]
            ],
            "type": "histogram2d"
           }
          ],
          "histogram2dcontour": [
           {
            "colorbar": {
             "outlinewidth": 0,
             "ticks": ""
            },
            "colorscale": [
             [
              0,
              "#0d0887"
             ],
             [
              0.1111111111111111,
              "#46039f"
             ],
             [
              0.2222222222222222,
              "#7201a8"
             ],
             [
              0.3333333333333333,
              "#9c179e"
             ],
             [
              0.4444444444444444,
              "#bd3786"
             ],
             [
              0.5555555555555556,
              "#d8576b"
             ],
             [
              0.6666666666666666,
              "#ed7953"
             ],
             [
              0.7777777777777778,
              "#fb9f3a"
             ],
             [
              0.8888888888888888,
              "#fdca26"
             ],
             [
              1,
              "#f0f921"
             ]
            ],
            "type": "histogram2dcontour"
           }
          ],
          "mesh3d": [
           {
            "colorbar": {
             "outlinewidth": 0,
             "ticks": ""
            },
            "type": "mesh3d"
           }
          ],
          "parcoords": [
           {
            "line": {
             "colorbar": {
              "outlinewidth": 0,
              "ticks": ""
             }
            },
            "type": "parcoords"
           }
          ],
          "pie": [
           {
            "automargin": true,
            "type": "pie"
           }
          ],
          "scatter": [
           {
            "marker": {
             "line": {
              "color": "#283442"
             }
            },
            "type": "scatter"
           }
          ],
          "scatter3d": [
           {
            "line": {
             "colorbar": {
              "outlinewidth": 0,
              "ticks": ""
             }
            },
            "marker": {
             "colorbar": {
              "outlinewidth": 0,
              "ticks": ""
             }
            },
            "type": "scatter3d"
           }
          ],
          "scattercarpet": [
           {
            "marker": {
             "colorbar": {
              "outlinewidth": 0,
              "ticks": ""
             }
            },
            "type": "scattercarpet"
           }
          ],
          "scattergeo": [
           {
            "marker": {
             "colorbar": {
              "outlinewidth": 0,
              "ticks": ""
             }
            },
            "type": "scattergeo"
           }
          ],
          "scattergl": [
           {
            "marker": {
             "line": {
              "color": "#283442"
             }
            },
            "type": "scattergl"
           }
          ],
          "scattermapbox": [
           {
            "marker": {
             "colorbar": {
              "outlinewidth": 0,
              "ticks": ""
             }
            },
            "type": "scattermapbox"
           }
          ],
          "scatterpolar": [
           {
            "marker": {
             "colorbar": {
              "outlinewidth": 0,
              "ticks": ""
             }
            },
            "type": "scatterpolar"
           }
          ],
          "scatterpolargl": [
           {
            "marker": {
             "colorbar": {
              "outlinewidth": 0,
              "ticks": ""
             }
            },
            "type": "scatterpolargl"
           }
          ],
          "scatterternary": [
           {
            "marker": {
             "colorbar": {
              "outlinewidth": 0,
              "ticks": ""
             }
            },
            "type": "scatterternary"
           }
          ],
          "surface": [
           {
            "colorbar": {
             "outlinewidth": 0,
             "ticks": ""
            },
            "colorscale": [
             [
              0,
              "#0d0887"
             ],
             [
              0.1111111111111111,
              "#46039f"
             ],
             [
              0.2222222222222222,
              "#7201a8"
             ],
             [
              0.3333333333333333,
              "#9c179e"
             ],
             [
              0.4444444444444444,
              "#bd3786"
             ],
             [
              0.5555555555555556,
              "#d8576b"
             ],
             [
              0.6666666666666666,
              "#ed7953"
             ],
             [
              0.7777777777777778,
              "#fb9f3a"
             ],
             [
              0.8888888888888888,
              "#fdca26"
             ],
             [
              1,
              "#f0f921"
             ]
            ],
            "type": "surface"
           }
          ],
          "table": [
           {
            "cells": {
             "fill": {
              "color": "#506784"
             },
             "line": {
              "color": "rgb(17,17,17)"
             }
            },
            "header": {
             "fill": {
              "color": "#2a3f5f"
             },
             "line": {
              "color": "rgb(17,17,17)"
             }
            },
            "type": "table"
           }
          ]
         },
         "layout": {
          "annotationdefaults": {
           "arrowcolor": "#f2f5fa",
           "arrowhead": 0,
           "arrowwidth": 1
          },
          "autotypenumbers": "strict",
          "coloraxis": {
           "colorbar": {
            "outlinewidth": 0,
            "ticks": ""
           }
          },
          "colorscale": {
           "diverging": [
            [
             0,
             "#8e0152"
            ],
            [
             0.1,
             "#c51b7d"
            ],
            [
             0.2,
             "#de77ae"
            ],
            [
             0.3,
             "#f1b6da"
            ],
            [
             0.4,
             "#fde0ef"
            ],
            [
             0.5,
             "#f7f7f7"
            ],
            [
             0.6,
             "#e6f5d0"
            ],
            [
             0.7,
             "#b8e186"
            ],
            [
             0.8,
             "#7fbc41"
            ],
            [
             0.9,
             "#4d9221"
            ],
            [
             1,
             "#276419"
            ]
           ],
           "sequential": [
            [
             0,
             "#0d0887"
            ],
            [
             0.1111111111111111,
             "#46039f"
            ],
            [
             0.2222222222222222,
             "#7201a8"
            ],
            [
             0.3333333333333333,
             "#9c179e"
            ],
            [
             0.4444444444444444,
             "#bd3786"
            ],
            [
             0.5555555555555556,
             "#d8576b"
            ],
            [
             0.6666666666666666,
             "#ed7953"
            ],
            [
             0.7777777777777778,
             "#fb9f3a"
            ],
            [
             0.8888888888888888,
             "#fdca26"
            ],
            [
             1,
             "#f0f921"
            ]
           ],
           "sequentialminus": [
            [
             0,
             "#0d0887"
            ],
            [
             0.1111111111111111,
             "#46039f"
            ],
            [
             0.2222222222222222,
             "#7201a8"
            ],
            [
             0.3333333333333333,
             "#9c179e"
            ],
            [
             0.4444444444444444,
             "#bd3786"
            ],
            [
             0.5555555555555556,
             "#d8576b"
            ],
            [
             0.6666666666666666,
             "#ed7953"
            ],
            [
             0.7777777777777778,
             "#fb9f3a"
            ],
            [
             0.8888888888888888,
             "#fdca26"
            ],
            [
             1,
             "#f0f921"
            ]
           ]
          },
          "colorway": [
           "#636efa",
           "#EF553B",
           "#00cc96",
           "#ab63fa",
           "#FFA15A",
           "#19d3f3",
           "#FF6692",
           "#B6E880",
           "#FF97FF",
           "#FECB52"
          ],
          "font": {
           "color": "#f2f5fa",
           "family": "Monaco",
           "size": 12
          },
          "geo": {
           "bgcolor": "rgb(17,17,17)",
           "lakecolor": "rgb(17,17,17)",
           "landcolor": "rgb(17,17,17)",
           "showlakes": true,
           "showland": true,
           "subunitcolor": "#506784"
          },
          "hoverlabel": {
           "align": "left"
          },
          "hovermode": "closest",
          "mapbox": {
           "style": "dark"
          },
          "paper_bgcolor": "rgb(17,17,17)",
          "plot_bgcolor": "rgb(17,17,17)",
          "polar": {
           "angularaxis": {
            "gridcolor": "#506784",
            "linecolor": "#506784",
            "ticks": ""
           },
           "bgcolor": "rgb(17,17,17)",
           "radialaxis": {
            "gridcolor": "#506784",
            "linecolor": "#506784",
            "ticks": ""
           }
          },
          "scene": {
           "xaxis": {
            "backgroundcolor": "rgb(17,17,17)",
            "gridcolor": "#506784",
            "gridwidth": 2,
            "linecolor": "#506784",
            "showbackground": true,
            "ticks": "",
            "zerolinecolor": "#C8D4E3"
           },
           "yaxis": {
            "backgroundcolor": "rgb(17,17,17)",
            "gridcolor": "#506784",
            "gridwidth": 2,
            "linecolor": "#506784",
            "showbackground": true,
            "ticks": "",
            "zerolinecolor": "#C8D4E3"
           },
           "zaxis": {
            "backgroundcolor": "rgb(17,17,17)",
            "gridcolor": "#506784",
            "gridwidth": 2,
            "linecolor": "#506784",
            "showbackground": true,
            "ticks": "",
            "zerolinecolor": "#C8D4E3"
           }
          },
          "shapedefaults": {
           "line": {
            "color": "#f2f5fa"
           }
          },
          "sliderdefaults": {
           "bgcolor": "#C8D4E3",
           "bordercolor": "rgb(17,17,17)",
           "borderwidth": 1,
           "tickwidth": 0
          },
          "ternary": {
           "aaxis": {
            "gridcolor": "#506784",
            "linecolor": "#506784",
            "ticks": ""
           },
           "baxis": {
            "gridcolor": "#506784",
            "linecolor": "#506784",
            "ticks": ""
           },
           "bgcolor": "rgb(17,17,17)",
           "caxis": {
            "gridcolor": "#506784",
            "linecolor": "#506784",
            "ticks": ""
           }
          },
          "title": {
           "x": 0.05
          },
          "updatemenudefaults": {
           "bgcolor": "#506784",
           "borderwidth": 0
          },
          "xaxis": {
           "automargin": true,
           "gridcolor": "#283442",
           "linecolor": "#506784",
           "ticks": "",
           "title": {
            "standoff": 15
           },
           "zerolinecolor": "#283442",
           "zerolinewidth": 2
          },
          "yaxis": {
           "automargin": true,
           "gridcolor": "#283442",
           "linecolor": "#506784",
           "ticks": "",
           "title": {
            "standoff": 15
           },
           "zerolinecolor": "#283442",
           "zerolinewidth": 2
          }
         }
        },
        "xaxis": {
         "anchor": "y",
         "categoryarray": [
          "case_id",
          "last180dayaveragebalance_704A\n(Average balance on debit card in the last 180 days.)",
          "last180dayturnover_1134A\n(Debit card's turnover within the last 180 days.)",
          "last30dayturnover_651A\n(Debit card turnover for the last 30 days.)",
          "num_group1"
         ],
         "categoryorder": "array",
         "domain": [
          0,
          1
         ],
         "showticklabels": false,
         "title": {
          "text": "All Columns"
         }
        },
        "yaxis": {
         "anchor": "x",
         "domain": [
          0,
          1
         ],
         "title": {
          "text": "Null Counts"
         }
        }
       }
      }
     },
     "metadata": {},
     "output_type": "display_data"
    }
   ],
   "source": [
    "train_debit = preprocess(21)\n",
    "display(train_debit.fetch().head())\n",
    "gc.collect()\n",
    "train_debit.pipe(plot_nulls)"
   ]
  },
  {
   "cell_type": "code",
   "execution_count": 98,
   "metadata": {},
   "outputs": [
    {
     "data": {
      "text/html": [
       "<div><style>\n",
       ".dataframe > thead > tr,\n",
       ".dataframe > tbody > tr {\n",
       "  text-align: right;\n",
       "  white-space: pre-wrap;\n",
       "}\n",
       "</style>\n",
       "<small>shape: (1, 2)</small><table border=\"1\" class=\"dataframe\"><thead><tr><th>index</th><th>filename</th></tr><tr><td>i8</td><td>str</td></tr></thead><tbody><tr><td>22</td><td>&quot;train_deposit_1.parquet&quot;</td></tr></tbody></table></div>"
      ],
      "text/plain": [
       "shape: (1, 2)\n",
       "┌───────┬─────────────────────────┐\n",
       "│ index ┆ filename                │\n",
       "│ ---   ┆ ---                     │\n",
       "│ i8    ┆ str                     │\n",
       "╞═══════╪═════════════════════════╡\n",
       "│ 22    ┆ train_deposit_1.parquet │\n",
       "└───────┴─────────────────────────┘"
      ]
     },
     "execution_count": 98,
     "metadata": {},
     "output_type": "execute_result"
    }
   ],
   "source": [
    "all_files_df.filter(pl.col('filename').str.contains(\"deposit\"))"
   ]
  },
  {
   "cell_type": "code",
   "execution_count": 79,
   "metadata": {},
   "outputs": [
    {
     "data": {
      "text/html": [
       "<div><style>\n",
       ".dataframe > thead > tr,\n",
       ".dataframe > tbody > tr {\n",
       "  text-align: right;\n",
       "  white-space: pre-wrap;\n",
       "}\n",
       "</style>\n",
       "<small>shape: (5, 3)</small><table border=\"1\" class=\"dataframe\"><thead><tr><th>case_id</th><th>amount_416A\n",
       "(Deposit amount.)</th><th>num_group1</th></tr><tr><td>i16</td><td>f32</td><td>i8</td></tr></thead><tbody><tr><td>225</td><td>0.00</td><td>0</td></tr><tr><td>331</td><td>260.37</td><td>0</td></tr><tr><td>358</td><td>0.00</td><td>0</td></tr><tr><td>390</td><td>211748.53</td><td>0</td></tr><tr><td>390</td><td>223.68</td><td>2</td></tr></tbody></table></div>"
      ],
      "text/plain": [
       "shape: (5, 3)\n",
       "┌─────────┬───────────────────┬────────────┐\n",
       "│ case_id ┆ amount_416A       ┆ num_group1 │\n",
       "│ ---     ┆ (Deposit amount.) ┆ ---        │\n",
       "│ i16     ┆ ---               ┆ i8         │\n",
       "│         ┆ f32               ┆            │\n",
       "╞═════════╪═══════════════════╪════════════╡\n",
       "│ 225     ┆ 0.00              ┆ 0          │\n",
       "│ 331     ┆ 260.37            ┆ 0          │\n",
       "│ 358     ┆ 0.00              ┆ 0          │\n",
       "│ 390     ┆ 211748.53         ┆ 0          │\n",
       "│ 390     ┆ 223.68            ┆ 2          │\n",
       "└─────────┴───────────────────┴────────────┘"
      ]
     },
     "metadata": {},
     "output_type": "display_data"
    },
    {
     "data": {
      "application/vnd.plotly.v1+json": {
       "config": {
        "plotlyServerURL": "https://plot.ly"
       },
       "data": [
        {
         "alignmentgroup": "True",
         "customdata": [
          [
           0
          ]
         ],
         "hovertemplate": "<b>%{hovertext}</b><br><br>column=%{x}<br>column_0=%{y}<br>percent=%{customdata[0]}<extra></extra>",
         "hovertext": [
          "case_id"
         ],
         "legendgroup": "case_id",
         "marker": {
          "color": "#636efa",
          "pattern": {
           "shape": ""
          }
         },
         "name": "case_id",
         "offsetgroup": "case_id",
         "orientation": "v",
         "showlegend": true,
         "textposition": "auto",
         "type": "bar",
         "x": [
          "case_id"
         ],
         "xaxis": "x",
         "y": [
          0
         ],
         "yaxis": "y"
        },
        {
         "alignmentgroup": "True",
         "customdata": [
          [
           0
          ]
         ],
         "hovertemplate": "<b>%{hovertext}</b><br><br>column=%{x}<br>column_0=%{y}<br>percent=%{customdata[0]}<extra></extra>",
         "hovertext": [
          "amount_416A\n(Deposit amount.)"
         ],
         "legendgroup": "amount_416A\n(Deposit amount.)",
         "marker": {
          "color": "#EF553B",
          "pattern": {
           "shape": ""
          }
         },
         "name": "amount_416A\n(Deposit amount.)",
         "offsetgroup": "amount_416A\n(Deposit amount.)",
         "orientation": "v",
         "showlegend": true,
         "textposition": "auto",
         "type": "bar",
         "x": [
          "amount_416A\n(Deposit amount.)"
         ],
         "xaxis": "x",
         "y": [
          0
         ],
         "yaxis": "y"
        },
        {
         "alignmentgroup": "True",
         "customdata": [
          [
           0
          ]
         ],
         "hovertemplate": "<b>%{hovertext}</b><br><br>column=%{x}<br>column_0=%{y}<br>percent=%{customdata[0]}<extra></extra>",
         "hovertext": [
          "num_group1"
         ],
         "legendgroup": "num_group1",
         "marker": {
          "color": "#00cc96",
          "pattern": {
           "shape": ""
          }
         },
         "name": "num_group1",
         "offsetgroup": "num_group1",
         "orientation": "v",
         "showlegend": true,
         "textposition": "auto",
         "type": "bar",
         "x": [
          "num_group1"
         ],
         "xaxis": "x",
         "y": [
          0
         ],
         "yaxis": "y"
        }
       ],
       "layout": {
        "annotations": [
         {
          "showarrow": false,
          "text": "Total rows",
          "x": 1,
          "xanchor": "right",
          "xref": "x domain",
          "y": 145086,
          "yanchor": "bottom",
          "yref": "y"
         }
        ],
        "barmode": "relative",
        "height": 900,
        "legend": {
         "title": {
          "text": "column"
         },
         "tracegroupgap": 10
        },
        "margin": {
         "t": 60
        },
        "shapes": [
         {
          "line": {
           "dash": "dashdot"
          },
          "type": "line",
          "x0": 0,
          "x1": 1,
          "xref": "x domain",
          "y0": 145086,
          "y1": 145086,
          "yref": "y"
         }
        ],
        "template": {
         "data": {
          "bar": [
           {
            "error_x": {
             "color": "#f2f5fa"
            },
            "error_y": {
             "color": "#f2f5fa"
            },
            "marker": {
             "line": {
              "color": "rgb(17,17,17)",
              "width": 0.5
             },
             "pattern": {
              "fillmode": "overlay",
              "size": 10,
              "solidity": 0.2
             }
            },
            "type": "bar"
           }
          ],
          "barpolar": [
           {
            "marker": {
             "line": {
              "color": "rgb(17,17,17)",
              "width": 0.5
             },
             "pattern": {
              "fillmode": "overlay",
              "size": 10,
              "solidity": 0.2
             }
            },
            "type": "barpolar"
           }
          ],
          "carpet": [
           {
            "aaxis": {
             "endlinecolor": "#A2B1C6",
             "gridcolor": "#506784",
             "linecolor": "#506784",
             "minorgridcolor": "#506784",
             "startlinecolor": "#A2B1C6"
            },
            "baxis": {
             "endlinecolor": "#A2B1C6",
             "gridcolor": "#506784",
             "linecolor": "#506784",
             "minorgridcolor": "#506784",
             "startlinecolor": "#A2B1C6"
            },
            "type": "carpet"
           }
          ],
          "choropleth": [
           {
            "colorbar": {
             "outlinewidth": 0,
             "ticks": ""
            },
            "type": "choropleth"
           }
          ],
          "contour": [
           {
            "colorbar": {
             "outlinewidth": 0,
             "ticks": ""
            },
            "colorscale": [
             [
              0,
              "#0d0887"
             ],
             [
              0.1111111111111111,
              "#46039f"
             ],
             [
              0.2222222222222222,
              "#7201a8"
             ],
             [
              0.3333333333333333,
              "#9c179e"
             ],
             [
              0.4444444444444444,
              "#bd3786"
             ],
             [
              0.5555555555555556,
              "#d8576b"
             ],
             [
              0.6666666666666666,
              "#ed7953"
             ],
             [
              0.7777777777777778,
              "#fb9f3a"
             ],
             [
              0.8888888888888888,
              "#fdca26"
             ],
             [
              1,
              "#f0f921"
             ]
            ],
            "type": "contour"
           }
          ],
          "contourcarpet": [
           {
            "colorbar": {
             "outlinewidth": 0,
             "ticks": ""
            },
            "type": "contourcarpet"
           }
          ],
          "heatmap": [
           {
            "colorbar": {
             "outlinewidth": 0,
             "ticks": ""
            },
            "colorscale": [
             [
              0,
              "#0d0887"
             ],
             [
              0.1111111111111111,
              "#46039f"
             ],
             [
              0.2222222222222222,
              "#7201a8"
             ],
             [
              0.3333333333333333,
              "#9c179e"
             ],
             [
              0.4444444444444444,
              "#bd3786"
             ],
             [
              0.5555555555555556,
              "#d8576b"
             ],
             [
              0.6666666666666666,
              "#ed7953"
             ],
             [
              0.7777777777777778,
              "#fb9f3a"
             ],
             [
              0.8888888888888888,
              "#fdca26"
             ],
             [
              1,
              "#f0f921"
             ]
            ],
            "type": "heatmap"
           }
          ],
          "heatmapgl": [
           {
            "colorbar": {
             "outlinewidth": 0,
             "ticks": ""
            },
            "colorscale": [
             [
              0,
              "#0d0887"
             ],
             [
              0.1111111111111111,
              "#46039f"
             ],
             [
              0.2222222222222222,
              "#7201a8"
             ],
             [
              0.3333333333333333,
              "#9c179e"
             ],
             [
              0.4444444444444444,
              "#bd3786"
             ],
             [
              0.5555555555555556,
              "#d8576b"
             ],
             [
              0.6666666666666666,
              "#ed7953"
             ],
             [
              0.7777777777777778,
              "#fb9f3a"
             ],
             [
              0.8888888888888888,
              "#fdca26"
             ],
             [
              1,
              "#f0f921"
             ]
            ],
            "type": "heatmapgl"
           }
          ],
          "histogram": [
           {
            "marker": {
             "pattern": {
              "fillmode": "overlay",
              "size": 10,
              "solidity": 0.2
             }
            },
            "type": "histogram"
           }
          ],
          "histogram2d": [
           {
            "colorbar": {
             "outlinewidth": 0,
             "ticks": ""
            },
            "colorscale": [
             [
              0,
              "#0d0887"
             ],
             [
              0.1111111111111111,
              "#46039f"
             ],
             [
              0.2222222222222222,
              "#7201a8"
             ],
             [
              0.3333333333333333,
              "#9c179e"
             ],
             [
              0.4444444444444444,
              "#bd3786"
             ],
             [
              0.5555555555555556,
              "#d8576b"
             ],
             [
              0.6666666666666666,
              "#ed7953"
             ],
             [
              0.7777777777777778,
              "#fb9f3a"
             ],
             [
              0.8888888888888888,
              "#fdca26"
             ],
             [
              1,
              "#f0f921"
             ]
            ],
            "type": "histogram2d"
           }
          ],
          "histogram2dcontour": [
           {
            "colorbar": {
             "outlinewidth": 0,
             "ticks": ""
            },
            "colorscale": [
             [
              0,
              "#0d0887"
             ],
             [
              0.1111111111111111,
              "#46039f"
             ],
             [
              0.2222222222222222,
              "#7201a8"
             ],
             [
              0.3333333333333333,
              "#9c179e"
             ],
             [
              0.4444444444444444,
              "#bd3786"
             ],
             [
              0.5555555555555556,
              "#d8576b"
             ],
             [
              0.6666666666666666,
              "#ed7953"
             ],
             [
              0.7777777777777778,
              "#fb9f3a"
             ],
             [
              0.8888888888888888,
              "#fdca26"
             ],
             [
              1,
              "#f0f921"
             ]
            ],
            "type": "histogram2dcontour"
           }
          ],
          "mesh3d": [
           {
            "colorbar": {
             "outlinewidth": 0,
             "ticks": ""
            },
            "type": "mesh3d"
           }
          ],
          "parcoords": [
           {
            "line": {
             "colorbar": {
              "outlinewidth": 0,
              "ticks": ""
             }
            },
            "type": "parcoords"
           }
          ],
          "pie": [
           {
            "automargin": true,
            "type": "pie"
           }
          ],
          "scatter": [
           {
            "marker": {
             "line": {
              "color": "#283442"
             }
            },
            "type": "scatter"
           }
          ],
          "scatter3d": [
           {
            "line": {
             "colorbar": {
              "outlinewidth": 0,
              "ticks": ""
             }
            },
            "marker": {
             "colorbar": {
              "outlinewidth": 0,
              "ticks": ""
             }
            },
            "type": "scatter3d"
           }
          ],
          "scattercarpet": [
           {
            "marker": {
             "colorbar": {
              "outlinewidth": 0,
              "ticks": ""
             }
            },
            "type": "scattercarpet"
           }
          ],
          "scattergeo": [
           {
            "marker": {
             "colorbar": {
              "outlinewidth": 0,
              "ticks": ""
             }
            },
            "type": "scattergeo"
           }
          ],
          "scattergl": [
           {
            "marker": {
             "line": {
              "color": "#283442"
             }
            },
            "type": "scattergl"
           }
          ],
          "scattermapbox": [
           {
            "marker": {
             "colorbar": {
              "outlinewidth": 0,
              "ticks": ""
             }
            },
            "type": "scattermapbox"
           }
          ],
          "scatterpolar": [
           {
            "marker": {
             "colorbar": {
              "outlinewidth": 0,
              "ticks": ""
             }
            },
            "type": "scatterpolar"
           }
          ],
          "scatterpolargl": [
           {
            "marker": {
             "colorbar": {
              "outlinewidth": 0,
              "ticks": ""
             }
            },
            "type": "scatterpolargl"
           }
          ],
          "scatterternary": [
           {
            "marker": {
             "colorbar": {
              "outlinewidth": 0,
              "ticks": ""
             }
            },
            "type": "scatterternary"
           }
          ],
          "surface": [
           {
            "colorbar": {
             "outlinewidth": 0,
             "ticks": ""
            },
            "colorscale": [
             [
              0,
              "#0d0887"
             ],
             [
              0.1111111111111111,
              "#46039f"
             ],
             [
              0.2222222222222222,
              "#7201a8"
             ],
             [
              0.3333333333333333,
              "#9c179e"
             ],
             [
              0.4444444444444444,
              "#bd3786"
             ],
             [
              0.5555555555555556,
              "#d8576b"
             ],
             [
              0.6666666666666666,
              "#ed7953"
             ],
             [
              0.7777777777777778,
              "#fb9f3a"
             ],
             [
              0.8888888888888888,
              "#fdca26"
             ],
             [
              1,
              "#f0f921"
             ]
            ],
            "type": "surface"
           }
          ],
          "table": [
           {
            "cells": {
             "fill": {
              "color": "#506784"
             },
             "line": {
              "color": "rgb(17,17,17)"
             }
            },
            "header": {
             "fill": {
              "color": "#2a3f5f"
             },
             "line": {
              "color": "rgb(17,17,17)"
             }
            },
            "type": "table"
           }
          ]
         },
         "layout": {
          "annotationdefaults": {
           "arrowcolor": "#f2f5fa",
           "arrowhead": 0,
           "arrowwidth": 1
          },
          "autotypenumbers": "strict",
          "coloraxis": {
           "colorbar": {
            "outlinewidth": 0,
            "ticks": ""
           }
          },
          "colorscale": {
           "diverging": [
            [
             0,
             "#8e0152"
            ],
            [
             0.1,
             "#c51b7d"
            ],
            [
             0.2,
             "#de77ae"
            ],
            [
             0.3,
             "#f1b6da"
            ],
            [
             0.4,
             "#fde0ef"
            ],
            [
             0.5,
             "#f7f7f7"
            ],
            [
             0.6,
             "#e6f5d0"
            ],
            [
             0.7,
             "#b8e186"
            ],
            [
             0.8,
             "#7fbc41"
            ],
            [
             0.9,
             "#4d9221"
            ],
            [
             1,
             "#276419"
            ]
           ],
           "sequential": [
            [
             0,
             "#0d0887"
            ],
            [
             0.1111111111111111,
             "#46039f"
            ],
            [
             0.2222222222222222,
             "#7201a8"
            ],
            [
             0.3333333333333333,
             "#9c179e"
            ],
            [
             0.4444444444444444,
             "#bd3786"
            ],
            [
             0.5555555555555556,
             "#d8576b"
            ],
            [
             0.6666666666666666,
             "#ed7953"
            ],
            [
             0.7777777777777778,
             "#fb9f3a"
            ],
            [
             0.8888888888888888,
             "#fdca26"
            ],
            [
             1,
             "#f0f921"
            ]
           ],
           "sequentialminus": [
            [
             0,
             "#0d0887"
            ],
            [
             0.1111111111111111,
             "#46039f"
            ],
            [
             0.2222222222222222,
             "#7201a8"
            ],
            [
             0.3333333333333333,
             "#9c179e"
            ],
            [
             0.4444444444444444,
             "#bd3786"
            ],
            [
             0.5555555555555556,
             "#d8576b"
            ],
            [
             0.6666666666666666,
             "#ed7953"
            ],
            [
             0.7777777777777778,
             "#fb9f3a"
            ],
            [
             0.8888888888888888,
             "#fdca26"
            ],
            [
             1,
             "#f0f921"
            ]
           ]
          },
          "colorway": [
           "#636efa",
           "#EF553B",
           "#00cc96",
           "#ab63fa",
           "#FFA15A",
           "#19d3f3",
           "#FF6692",
           "#B6E880",
           "#FF97FF",
           "#FECB52"
          ],
          "font": {
           "color": "#f2f5fa",
           "family": "Monaco",
           "size": 12
          },
          "geo": {
           "bgcolor": "rgb(17,17,17)",
           "lakecolor": "rgb(17,17,17)",
           "landcolor": "rgb(17,17,17)",
           "showlakes": true,
           "showland": true,
           "subunitcolor": "#506784"
          },
          "hoverlabel": {
           "align": "left"
          },
          "hovermode": "closest",
          "mapbox": {
           "style": "dark"
          },
          "paper_bgcolor": "rgb(17,17,17)",
          "plot_bgcolor": "rgb(17,17,17)",
          "polar": {
           "angularaxis": {
            "gridcolor": "#506784",
            "linecolor": "#506784",
            "ticks": ""
           },
           "bgcolor": "rgb(17,17,17)",
           "radialaxis": {
            "gridcolor": "#506784",
            "linecolor": "#506784",
            "ticks": ""
           }
          },
          "scene": {
           "xaxis": {
            "backgroundcolor": "rgb(17,17,17)",
            "gridcolor": "#506784",
            "gridwidth": 2,
            "linecolor": "#506784",
            "showbackground": true,
            "ticks": "",
            "zerolinecolor": "#C8D4E3"
           },
           "yaxis": {
            "backgroundcolor": "rgb(17,17,17)",
            "gridcolor": "#506784",
            "gridwidth": 2,
            "linecolor": "#506784",
            "showbackground": true,
            "ticks": "",
            "zerolinecolor": "#C8D4E3"
           },
           "zaxis": {
            "backgroundcolor": "rgb(17,17,17)",
            "gridcolor": "#506784",
            "gridwidth": 2,
            "linecolor": "#506784",
            "showbackground": true,
            "ticks": "",
            "zerolinecolor": "#C8D4E3"
           }
          },
          "shapedefaults": {
           "line": {
            "color": "#f2f5fa"
           }
          },
          "sliderdefaults": {
           "bgcolor": "#C8D4E3",
           "bordercolor": "rgb(17,17,17)",
           "borderwidth": 1,
           "tickwidth": 0
          },
          "ternary": {
           "aaxis": {
            "gridcolor": "#506784",
            "linecolor": "#506784",
            "ticks": ""
           },
           "baxis": {
            "gridcolor": "#506784",
            "linecolor": "#506784",
            "ticks": ""
           },
           "bgcolor": "rgb(17,17,17)",
           "caxis": {
            "gridcolor": "#506784",
            "linecolor": "#506784",
            "ticks": ""
           }
          },
          "title": {
           "x": 0.05
          },
          "updatemenudefaults": {
           "bgcolor": "#506784",
           "borderwidth": 0
          },
          "xaxis": {
           "automargin": true,
           "gridcolor": "#283442",
           "linecolor": "#506784",
           "ticks": "",
           "title": {
            "standoff": 15
           },
           "zerolinecolor": "#283442",
           "zerolinewidth": 2
          },
          "yaxis": {
           "automargin": true,
           "gridcolor": "#283442",
           "linecolor": "#506784",
           "ticks": "",
           "title": {
            "standoff": 15
           },
           "zerolinecolor": "#283442",
           "zerolinewidth": 2
          }
         }
        },
        "xaxis": {
         "anchor": "y",
         "categoryarray": [
          "case_id",
          "amount_416A\n(Deposit amount.)",
          "num_group1"
         ],
         "categoryorder": "array",
         "domain": [
          0,
          1
         ],
         "showticklabels": false,
         "title": {
          "text": "All Columns"
         }
        },
        "yaxis": {
         "anchor": "x",
         "domain": [
          0,
          1
         ],
         "title": {
          "text": "Null Counts"
         }
        }
       }
      }
     },
     "metadata": {},
     "output_type": "display_data"
    }
   ],
   "source": [
    "train_deposit = preprocess(22)\n",
    "display(train_deposit.fetch().head())\n",
    "gc.collect()\n",
    "train_deposit.pipe(plot_nulls)"
   ]
  },
  {
   "cell_type": "markdown",
   "metadata": {},
   "source": [
    "## Train person"
   ]
  },
  {
   "cell_type": "code",
   "execution_count": 95,
   "metadata": {},
   "outputs": [
    {
     "data": {
      "text/html": [
       "<div><style>\n",
       ".dataframe > thead > tr,\n",
       ".dataframe > tbody > tr {\n",
       "  text-align: right;\n",
       "  white-space: pre-wrap;\n",
       "}\n",
       "</style>\n",
       "<small>shape: (2, 2)</small><table border=\"1\" class=\"dataframe\"><thead><tr><th>index</th><th>filename</th></tr><tr><td>i8</td><td>str</td></tr></thead><tbody><tr><td>24</td><td>&quot;train_person_1.parquet&quot;</td></tr><tr><td>25</td><td>&quot;train_person_2.parquet&quot;</td></tr></tbody></table></div>"
      ],
      "text/plain": [
       "shape: (2, 2)\n",
       "┌───────┬────────────────────────┐\n",
       "│ index ┆ filename               │\n",
       "│ ---   ┆ ---                    │\n",
       "│ i8    ┆ str                    │\n",
       "╞═══════╪════════════════════════╡\n",
       "│ 24    ┆ train_person_1.parquet │\n",
       "│ 25    ┆ train_person_2.parquet │\n",
       "└───────┴────────────────────────┘"
      ]
     },
     "execution_count": 95,
     "metadata": {},
     "output_type": "execute_result"
    }
   ],
   "source": [
    "all_files_df.filter(pl.col(\"filename\").str.contains(\"person\"))"
   ]
  },
  {
   "cell_type": "code",
   "execution_count": 91,
   "metadata": {},
   "outputs": [
    {
     "data": {
      "text/html": [
       "<div><style>\n",
       ".dataframe > thead > tr,\n",
       ".dataframe > tbody > tr {\n",
       "  text-align: right;\n",
       "  white-space: pre-wrap;\n",
       "}\n",
       "</style>\n",
       "<small>shape: (5, 36)</small><table border=\"1\" class=\"dataframe\"><thead><tr><th>case_id</th><th>birth_259D\n",
       "(Date of birth of the person.)</th><th>childnum_185L\n",
       "(Number of children of the applicant.)</th><th>contaddr_district_15M\n",
       "(Zip code of a contact person&#x27;s address.)</th><th>contaddr_matchlist_1032L\n",
       "(Indicates whether the contact address is found in a code list.)</th><th>contaddr_smempladdr_334L\n",
       "(Indicates whether the contact address is the same as the employment address.)</th><th>contaddr_zipcode_807M\n",
       "(Zip code of contact address.)</th><th>education_927M\n",
       "(Education level of the person.)</th><th>empl_employedfrom_271D\n",
       "(Start date of employment.)</th><th>empl_employedtotal_800L\n",
       "(Employment length of a person.)</th><th>empl_industry_691L\n",
       "(Employment Industry of the person.)</th><th>empladdr_district_926M\n",
       "(District where the employer&#x27;s address is located.)</th><th>empladdr_zipcode_114M\n",
       "(Zipcode of employer&#x27;s address.)</th><th>familystate_447L\n",
       "(Family state of the person.)</th><th>gender_992L\n",
       "(Gender of a person.)</th><th>housetype_905L\n",
       "(House type of the person.)</th><th>housingtype_772L\n",
       "(Type of housing of the person.)</th><th>incometype_1044T\n",
       "(Type of income of the person)</th><th>isreference_387L\n",
       "(Flag indicating whether the person is a reference contact.)</th><th>language1_981M\n",
       "(The primary language of the person.)</th><th>mainoccupationinc_384A\n",
       "(Amount of the main income of the client.)</th><th>maritalst_703L\n",
       "(Marital status of the client.)</th><th>num_group1</th><th>personindex_1023L\n",
       "(Order of the person specified on the application form.)</th><th>persontype_1072L\n",
       "(Person type.)</th><th>persontype_792L\n",
       "(Person type.)</th><th>registaddr_district_1083M\n",
       "(District of person&#x27;s registered address.)</th><th>registaddr_zipcode_184M\n",
       "(Registered address&#x27;s zip code of a person.)</th><th>relationshiptoclient_415T\n",
       "(Relationship to the client.)</th><th>relationshiptoclient_642T\n",
       "(Relationship to the client.)</th><th>remitter_829L\n",
       "(Flag indicating whether the client is a remitter.)</th><th>role_1084L\n",
       "(Type of contact role.)</th><th>role_993L\n",
       "(Person&#x27;s role.)</th><th>safeguarantyflag_411L\n",
       "(Flag indicating if client is using a flexible product with additional safeguard garanty.)</th><th>sex_738L\n",
       "(Gender of the client.)</th><th>type_25L\n",
       "(Contact type of a person.)</th></tr><tr><td>i16</td><td>str</td><td>f32</td><td>str</td><td>bool</td><td>bool</td><td>str</td><td>str</td><td>str</td><td>str</td><td>str</td><td>str</td><td>str</td><td>str</td><td>str</td><td>str</td><td>str</td><td>str</td><td>bool</td><td>str</td><td>f32</td><td>str</td><td>i8</td><td>f32</td><td>f32</td><td>f32</td><td>str</td><td>str</td><td>str</td><td>str</td><td>bool</td><td>str</td><td>str</td><td>bool</td><td>str</td><td>str</td></tr></thead><tbody><tr><td>0</td><td>&quot;1986-07-01&quot;</td><td>null</td><td>&quot;P88_18_84&quot;</td><td>false</td><td>false</td><td>&quot;P167_100_165&quot;</td><td>&quot;P97_36_170&quot;</td><td>&quot;2017-09-15&quot;</td><td>&quot;MORE_FIVE&quot;</td><td>&quot;OTHER&quot;</td><td>&quot;P142_57_166&quot;</td><td>&quot;P167_100_165&quot;</td><td>&quot;MARRIED&quot;</td><td>null</td><td>null</td><td>null</td><td>&quot;SALARIED_GOVT&quot;</td><td>null</td><td>&quot;P10_39_147&quot;</td><td>10800.00</td><td>null</td><td>0</td><td>0.00</td><td>1.00</td><td>1.00</td><td>&quot;P88_18_84&quot;</td><td>&quot;P167_100_165&quot;</td><td>null</td><td>null</td><td>null</td><td>&quot;CL&quot;</td><td>null</td><td>true</td><td>&quot;F&quot;</td><td>&quot;PRIMARY_MOBILE&quot;</td></tr><tr><td>0</td><td>null</td><td>null</td><td>&quot;a55475b1&quot;</td><td>null</td><td>null</td><td>&quot;a55475b1&quot;</td><td>&quot;a55475b1&quot;</td><td>null</td><td>null</td><td>null</td><td>&quot;a55475b1&quot;</td><td>&quot;a55475b1&quot;</td><td>null</td><td>null</td><td>null</td><td>null</td><td>null</td><td>null</td><td>&quot;a55475b1&quot;</td><td>null</td><td>null</td><td>1</td><td>1.00</td><td>1.00</td><td>4.00</td><td>&quot;a55475b1&quot;</td><td>&quot;a55475b1&quot;</td><td>&quot;SPOUSE&quot;</td><td>null</td><td>false</td><td>&quot;EM&quot;</td><td>null</td><td>null</td><td>null</td><td>&quot;PHONE&quot;</td></tr><tr><td>0</td><td>null</td><td>null</td><td>&quot;a55475b1&quot;</td><td>null</td><td>null</td><td>&quot;a55475b1&quot;</td><td>&quot;a55475b1&quot;</td><td>null</td><td>null</td><td>null</td><td>&quot;a55475b1&quot;</td><td>&quot;a55475b1&quot;</td><td>null</td><td>null</td><td>null</td><td>null</td><td>null</td><td>null</td><td>&quot;a55475b1&quot;</td><td>null</td><td>null</td><td>2</td><td>2.00</td><td>4.00</td><td>5.00</td><td>&quot;a55475b1&quot;</td><td>&quot;a55475b1&quot;</td><td>&quot;COLLEAGUE&quot;</td><td>&quot;SPOUSE&quot;</td><td>false</td><td>&quot;PE&quot;</td><td>null</td><td>null</td><td>null</td><td>&quot;PHONE&quot;</td></tr><tr><td>0</td><td>null</td><td>null</td><td>&quot;a55475b1&quot;</td><td>null</td><td>null</td><td>&quot;a55475b1&quot;</td><td>&quot;a55475b1&quot;</td><td>null</td><td>null</td><td>null</td><td>&quot;a55475b1&quot;</td><td>&quot;a55475b1&quot;</td><td>null</td><td>null</td><td>null</td><td>null</td><td>null</td><td>null</td><td>&quot;a55475b1&quot;</td><td>null</td><td>null</td><td>3</td><td>null</td><td>5.00</td><td>null</td><td>&quot;a55475b1&quot;</td><td>&quot;a55475b1&quot;</td><td>null</td><td>&quot;COLLEAGUE&quot;</td><td>null</td><td>&quot;PE&quot;</td><td>null</td><td>null</td><td>null</td><td>&quot;PHONE&quot;</td></tr><tr><td>1</td><td>&quot;1957-08-01&quot;</td><td>null</td><td>&quot;P103_93_94&quot;</td><td>false</td><td>false</td><td>&quot;P176_37_166&quot;</td><td>&quot;P97_36_170&quot;</td><td>&quot;2008-10-29&quot;</td><td>&quot;MORE_FIVE&quot;</td><td>&quot;OTHER&quot;</td><td>&quot;P49_46_174&quot;</td><td>&quot;P160_59_140&quot;</td><td>&quot;DIVORCED&quot;</td><td>null</td><td>null</td><td>null</td><td>&quot;SALARIED_GOVT&quot;</td><td>null</td><td>&quot;P10_39_147&quot;</td><td>10000.00</td><td>null</td><td>0</td><td>0.00</td><td>1.00</td><td>1.00</td><td>&quot;P103_93_94&quot;</td><td>&quot;P176_37_166&quot;</td><td>null</td><td>null</td><td>null</td><td>&quot;CL&quot;</td><td>null</td><td>true</td><td>&quot;M&quot;</td><td>&quot;PRIMARY_MOBILE&quot;</td></tr></tbody></table></div>"
      ],
      "text/plain": [
       "shape: (5, 36)\n",
       "┌─────────┬────────────┬───────────┬───────────┬───┬───────────┬───────────┬───────────┬───────────┐\n",
       "│ case_id ┆ birth_259D ┆ childnum_ ┆ contaddr_ ┆ … ┆ role_993L ┆ safeguara ┆ sex_738L  ┆ type_25L  │\n",
       "│ ---     ┆ (Date of   ┆ 185L      ┆ district_ ┆   ┆ (Person's ┆ ntyflag_4 ┆ (Gender   ┆ (Contact  │\n",
       "│ i16     ┆ birth of   ┆ (Number   ┆ 15M       ┆   ┆ role.)    ┆ 11L       ┆ of the    ┆ type of a │\n",
       "│         ┆ the        ┆ of        ┆ (Zip code ┆   ┆ ---       ┆ (Flag ind ┆ client.)  ┆ person.)  │\n",
       "│         ┆ person.)   ┆ children  ┆ of a      ┆   ┆ str       ┆ icating   ┆ ---       ┆ ---       │\n",
       "│         ┆ ---        ┆ of the    ┆ contact   ┆   ┆           ┆ if client ┆ str       ┆ str       │\n",
       "│         ┆ str        ┆ applicant ┆ person's  ┆   ┆           ┆ is using  ┆           ┆           │\n",
       "│         ┆            ┆ .)        ┆ address.) ┆   ┆           ┆ a         ┆           ┆           │\n",
       "│         ┆            ┆ ---       ┆ ---       ┆   ┆           ┆ flexible  ┆           ┆           │\n",
       "│         ┆            ┆ f32       ┆ str       ┆   ┆           ┆ product   ┆           ┆           │\n",
       "│         ┆            ┆           ┆           ┆   ┆           ┆ with addi ┆           ┆           │\n",
       "│         ┆            ┆           ┆           ┆   ┆           ┆ tional    ┆           ┆           │\n",
       "│         ┆            ┆           ┆           ┆   ┆           ┆ safeguard ┆           ┆           │\n",
       "│         ┆            ┆           ┆           ┆   ┆           ┆ garanty.) ┆           ┆           │\n",
       "│         ┆            ┆           ┆           ┆   ┆           ┆ ---       ┆           ┆           │\n",
       "│         ┆            ┆           ┆           ┆   ┆           ┆ bool      ┆           ┆           │\n",
       "╞═════════╪════════════╪═══════════╪═══════════╪═══╪═══════════╪═══════════╪═══════════╪═══════════╡\n",
       "│ 0       ┆ 1986-07-01 ┆ null      ┆ P88_18_84 ┆ … ┆ null      ┆ true      ┆ F         ┆ PRIMARY_M │\n",
       "│         ┆            ┆           ┆           ┆   ┆           ┆           ┆           ┆ OBILE     │\n",
       "│ 0       ┆ null       ┆ null      ┆ a55475b1  ┆ … ┆ null      ┆ null      ┆ null      ┆ PHONE     │\n",
       "│ 0       ┆ null       ┆ null      ┆ a55475b1  ┆ … ┆ null      ┆ null      ┆ null      ┆ PHONE     │\n",
       "│ 0       ┆ null       ┆ null      ┆ a55475b1  ┆ … ┆ null      ┆ null      ┆ null      ┆ PHONE     │\n",
       "│ 1       ┆ 1957-08-01 ┆ null      ┆ P103_93_9 ┆ … ┆ null      ┆ true      ┆ M         ┆ PRIMARY_M │\n",
       "│         ┆            ┆           ┆ 4         ┆   ┆           ┆           ┆           ┆ OBILE     │\n",
       "└─────────┴────────────┴───────────┴───────────┴───┴───────────┴───────────┴───────────┴───────────┘"
      ]
     },
     "metadata": {},
     "output_type": "display_data"
    },
    {
     "data": {
      "application/vnd.plotly.v1+json": {
       "config": {
        "plotlyServerURL": "https://plot.ly"
       },
       "data": [
        {
         "alignmentgroup": "True",
         "customdata": [
          [
           0
          ]
         ],
         "hovertemplate": "<b>%{hovertext}</b><br><br>column=%{x}<br>column_0=%{y}<br>percent=%{customdata[0]}<extra></extra>",
         "hovertext": [
          "case_id"
         ],
         "legendgroup": "case_id",
         "marker": {
          "color": "#636efa",
          "pattern": {
           "shape": ""
          }
         },
         "name": "case_id",
         "offsetgroup": "case_id",
         "orientation": "v",
         "showlegend": true,
         "textposition": "auto",
         "type": "bar",
         "x": [
          "case_id"
         ],
         "xaxis": "x",
         "y": [
          0
         ],
         "yaxis": "y"
        },
        {
         "alignmentgroup": "True",
         "customdata": [
          [
           0.49
          ]
         ],
         "hovertemplate": "<b>%{hovertext}</b><br><br>column=%{x}<br>column_0=%{y}<br>percent=%{customdata[0]}<extra></extra>",
         "hovertext": [
          "birth_259D\n(Date of birth of the person.)"
         ],
         "legendgroup": "birth_259D\n(Date of birth of the person.)",
         "marker": {
          "color": "#EF553B",
          "pattern": {
           "shape": ""
          }
         },
         "name": "birth_259D\n(Date of birth of the person.)",
         "offsetgroup": "birth_259D\n(Date of birth of the person.)",
         "orientation": "v",
         "showlegend": true,
         "textposition": "auto",
         "type": "bar",
         "x": [
          "birth_259D\n(Date of birth of the person.)"
         ],
         "xaxis": "x",
         "y": [
          1447332
         ],
         "yaxis": "y"
        },
        {
         "alignmentgroup": "True",
         "customdata": [
          [
           1
          ]
         ],
         "hovertemplate": "<b>%{hovertext}</b><br><br>column=%{x}<br>column_0=%{y}<br>percent=%{customdata[0]}<extra></extra>",
         "hovertext": [
          "childnum_185L\n(Number of children of the applicant.)"
         ],
         "legendgroup": "childnum_185L\n(Number of children of the applicant.)",
         "marker": {
          "color": "#00cc96",
          "pattern": {
           "shape": ""
          }
         },
         "name": "childnum_185L\n(Number of children of the applicant.)",
         "offsetgroup": "childnum_185L\n(Number of children of the applicant.)",
         "orientation": "v",
         "showlegend": true,
         "textposition": "auto",
         "type": "bar",
         "x": [
          "childnum_185L\n(Number of children of the applicant.)"
         ],
         "xaxis": "x",
         "y": [
          2964084
         ],
         "yaxis": "y"
        },
        {
         "alignmentgroup": "True",
         "customdata": [
          [
           0
          ]
         ],
         "hovertemplate": "<b>%{hovertext}</b><br><br>column=%{x}<br>column_0=%{y}<br>percent=%{customdata[0]}<extra></extra>",
         "hovertext": [
          "contaddr_district_15M\n(Zip code of a contact person's address.)"
         ],
         "legendgroup": "contaddr_district_15M\n(Zip code of a contact person's address.)",
         "marker": {
          "color": "#ab63fa",
          "pattern": {
           "shape": ""
          }
         },
         "name": "contaddr_district_15M\n(Zip code of a contact person's address.)",
         "offsetgroup": "contaddr_district_15M\n(Zip code of a contact person's address.)",
         "orientation": "v",
         "showlegend": true,
         "textposition": "auto",
         "type": "bar",
         "x": [
          "contaddr_district_15M\n(Zip code of a contact person's address.)"
         ],
         "xaxis": "x",
         "y": [
          0
         ],
         "yaxis": "y"
        },
        {
         "alignmentgroup": "True",
         "customdata": [
          [
           0.49
          ]
         ],
         "hovertemplate": "<b>%{hovertext}</b><br><br>column=%{x}<br>column_0=%{y}<br>percent=%{customdata[0]}<extra></extra>",
         "hovertext": [
          "contaddr_matchlist_1032L\n(Indicates whether the contact address is found in a code list.)"
         ],
         "legendgroup": "contaddr_matchlist_1032L\n(Indicates whether the contact address is found in a code list.)",
         "marker": {
          "color": "#FFA15A",
          "pattern": {
           "shape": ""
          }
         },
         "name": "contaddr_matchlist_1032L\n(Indicates whether the contact address is found in a code list.)",
         "offsetgroup": "contaddr_matchlist_1032L\n(Indicates whether the contact address is found in a code list.)",
         "orientation": "v",
         "showlegend": true,
         "textposition": "auto",
         "type": "bar",
         "x": [
          "contaddr_matchlist_1032L\n(Indicates whether the contact address is found in a code list.)"
         ],
         "xaxis": "x",
         "y": [
          1447773
         ],
         "yaxis": "y"
        },
        {
         "alignmentgroup": "True",
         "customdata": [
          [
           0.49
          ]
         ],
         "hovertemplate": "<b>%{hovertext}</b><br><br>column=%{x}<br>column_0=%{y}<br>percent=%{customdata[0]}<extra></extra>",
         "hovertext": [
          "contaddr_smempladdr_334L\n(Indicates whether the contact address is the same as the employment address.)"
         ],
         "legendgroup": "contaddr_smempladdr_334L\n(Indicates whether the contact address is the same as the employment address.)",
         "marker": {
          "color": "#19d3f3",
          "pattern": {
           "shape": ""
          }
         },
         "name": "contaddr_smempladdr_334L\n(Indicates whether the contact address is the same as the employment address.)",
         "offsetgroup": "contaddr_smempladdr_334L\n(Indicates whether the contact address is the same as the employment address.)",
         "orientation": "v",
         "showlegend": true,
         "textposition": "auto",
         "type": "bar",
         "x": [
          "contaddr_smempladdr_334L\n(Indicates whether the contact address is the same as the employment address.)"
         ],
         "xaxis": "x",
         "y": [
          1447773
         ],
         "yaxis": "y"
        },
        {
         "alignmentgroup": "True",
         "customdata": [
          [
           0
          ]
         ],
         "hovertemplate": "<b>%{hovertext}</b><br><br>column=%{x}<br>column_0=%{y}<br>percent=%{customdata[0]}<extra></extra>",
         "hovertext": [
          "contaddr_zipcode_807M\n(Zip code of contact address.)"
         ],
         "legendgroup": "contaddr_zipcode_807M\n(Zip code of contact address.)",
         "marker": {
          "color": "#FF6692",
          "pattern": {
           "shape": ""
          }
         },
         "name": "contaddr_zipcode_807M\n(Zip code of contact address.)",
         "offsetgroup": "contaddr_zipcode_807M\n(Zip code of contact address.)",
         "orientation": "v",
         "showlegend": true,
         "textposition": "auto",
         "type": "bar",
         "x": [
          "contaddr_zipcode_807M\n(Zip code of contact address.)"
         ],
         "xaxis": "x",
         "y": [
          0
         ],
         "yaxis": "y"
        },
        {
         "alignmentgroup": "True",
         "customdata": [
          [
           0
          ]
         ],
         "hovertemplate": "<b>%{hovertext}</b><br><br>column=%{x}<br>column_0=%{y}<br>percent=%{customdata[0]}<extra></extra>",
         "hovertext": [
          "education_927M\n(Education level of the person.)"
         ],
         "legendgroup": "education_927M\n(Education level of the person.)",
         "marker": {
          "color": "#B6E880",
          "pattern": {
           "shape": ""
          }
         },
         "name": "education_927M\n(Education level of the person.)",
         "offsetgroup": "education_927M\n(Education level of the person.)",
         "orientation": "v",
         "showlegend": true,
         "textposition": "auto",
         "type": "bar",
         "x": [
          "education_927M\n(Education level of the person.)"
         ],
         "xaxis": "x",
         "y": [
          0
         ],
         "yaxis": "y"
        },
        {
         "alignmentgroup": "True",
         "customdata": [
          [
           0.81
          ]
         ],
         "hovertemplate": "<b>%{hovertext}</b><br><br>column=%{x}<br>column_0=%{y}<br>percent=%{customdata[0]}<extra></extra>",
         "hovertext": [
          "empl_employedfrom_271D\n(Start date of employment.)"
         ],
         "legendgroup": "empl_employedfrom_271D\n(Start date of employment.)",
         "marker": {
          "color": "#FF97FF",
          "pattern": {
           "shape": ""
          }
         },
         "name": "empl_employedfrom_271D\n(Start date of employment.)",
         "offsetgroup": "empl_employedfrom_271D\n(Start date of employment.)",
         "orientation": "v",
         "showlegend": true,
         "textposition": "auto",
         "type": "bar",
         "x": [
          "empl_employedfrom_271D\n(Start date of employment.)"
         ],
         "xaxis": "x",
         "y": [
          2407290
         ],
         "yaxis": "y"
        },
        {
         "alignmentgroup": "True",
         "customdata": [
          [
           0.82
          ]
         ],
         "hovertemplate": "<b>%{hovertext}</b><br><br>column=%{x}<br>column_0=%{y}<br>percent=%{customdata[0]}<extra></extra>",
         "hovertext": [
          "empl_employedtotal_800L\n(Employment length of a person.)"
         ],
         "legendgroup": "empl_employedtotal_800L\n(Employment length of a person.)",
         "marker": {
          "color": "#FECB52",
          "pattern": {
           "shape": ""
          }
         },
         "name": "empl_employedtotal_800L\n(Employment length of a person.)",
         "offsetgroup": "empl_employedtotal_800L\n(Employment length of a person.)",
         "orientation": "v",
         "showlegend": true,
         "textposition": "auto",
         "type": "bar",
         "x": [
          "empl_employedtotal_800L\n(Employment length of a person.)"
         ],
         "xaxis": "x",
         "y": [
          2445676
         ],
         "yaxis": "y"
        },
        {
         "alignmentgroup": "True",
         "customdata": [
          [
           0.82
          ]
         ],
         "hovertemplate": "<b>%{hovertext}</b><br><br>column=%{x}<br>column_0=%{y}<br>percent=%{customdata[0]}<extra></extra>",
         "hovertext": [
          "empl_industry_691L\n(Employment Industry of the person.)"
         ],
         "legendgroup": "empl_industry_691L\n(Employment Industry of the person.)",
         "marker": {
          "color": "#636efa",
          "pattern": {
           "shape": ""
          }
         },
         "name": "empl_industry_691L\n(Employment Industry of the person.)",
         "offsetgroup": "empl_industry_691L\n(Employment Industry of the person.)",
         "orientation": "v",
         "showlegend": true,
         "textposition": "auto",
         "type": "bar",
         "x": [
          "empl_industry_691L\n(Employment Industry of the person.)"
         ],
         "xaxis": "x",
         "y": [
          2451755
         ],
         "yaxis": "y"
        },
        {
         "alignmentgroup": "True",
         "customdata": [
          [
           0
          ]
         ],
         "hovertemplate": "<b>%{hovertext}</b><br><br>column=%{x}<br>column_0=%{y}<br>percent=%{customdata[0]}<extra></extra>",
         "hovertext": [
          "empladdr_district_926M\n(District where the employer's address is located.)"
         ],
         "legendgroup": "empladdr_district_926M\n(District where the employer's address is located.)",
         "marker": {
          "color": "#EF553B",
          "pattern": {
           "shape": ""
          }
         },
         "name": "empladdr_district_926M\n(District where the employer's address is located.)",
         "offsetgroup": "empladdr_district_926M\n(District where the employer's address is located.)",
         "orientation": "v",
         "showlegend": true,
         "textposition": "auto",
         "type": "bar",
         "x": [
          "empladdr_district_926M\n(District where the employer's address is located.)"
         ],
         "xaxis": "x",
         "y": [
          0
         ],
         "yaxis": "y"
        },
        {
         "alignmentgroup": "True",
         "customdata": [
          [
           0
          ]
         ],
         "hovertemplate": "<b>%{hovertext}</b><br><br>column=%{x}<br>column_0=%{y}<br>percent=%{customdata[0]}<extra></extra>",
         "hovertext": [
          "empladdr_zipcode_114M\n(Zipcode of employer's address.)"
         ],
         "legendgroup": "empladdr_zipcode_114M\n(Zipcode of employer's address.)",
         "marker": {
          "color": "#00cc96",
          "pattern": {
           "shape": ""
          }
         },
         "name": "empladdr_zipcode_114M\n(Zipcode of employer's address.)",
         "offsetgroup": "empladdr_zipcode_114M\n(Zipcode of employer's address.)",
         "orientation": "v",
         "showlegend": true,
         "textposition": "auto",
         "type": "bar",
         "x": [
          "empladdr_zipcode_114M\n(Zipcode of employer's address.)"
         ],
         "xaxis": "x",
         "y": [
          0
         ],
         "yaxis": "y"
        },
        {
         "alignmentgroup": "True",
         "customdata": [
          [
           0.76
          ]
         ],
         "hovertemplate": "<b>%{hovertext}</b><br><br>column=%{x}<br>column_0=%{y}<br>percent=%{customdata[0]}<extra></extra>",
         "hovertext": [
          "familystate_447L\n(Family state of the person.)"
         ],
         "legendgroup": "familystate_447L\n(Family state of the person.)",
         "marker": {
          "color": "#ab63fa",
          "pattern": {
           "shape": ""
          }
         },
         "name": "familystate_447L\n(Family state of the person.)",
         "offsetgroup": "familystate_447L\n(Family state of the person.)",
         "orientation": "v",
         "showlegend": true,
         "textposition": "auto",
         "type": "bar",
         "x": [
          "familystate_447L\n(Family state of the person.)"
         ],
         "xaxis": "x",
         "y": [
          2245378
         ],
         "yaxis": "y"
        },
        {
         "alignmentgroup": "True",
         "customdata": [
          [
           0.99
          ]
         ],
         "hovertemplate": "<b>%{hovertext}</b><br><br>column=%{x}<br>column_0=%{y}<br>percent=%{customdata[0]}<extra></extra>",
         "hovertext": [
          "gender_992L\n(Gender of a person.)"
         ],
         "legendgroup": "gender_992L\n(Gender of a person.)",
         "marker": {
          "color": "#FFA15A",
          "pattern": {
           "shape": ""
          }
         },
         "name": "gender_992L\n(Gender of a person.)",
         "offsetgroup": "gender_992L\n(Gender of a person.)",
         "orientation": "v",
         "showlegend": true,
         "textposition": "auto",
         "type": "bar",
         "x": [
          "gender_992L\n(Gender of a person.)"
         ],
         "xaxis": "x",
         "y": [
          2949075
         ],
         "yaxis": "y"
        },
        {
         "alignmentgroup": "True",
         "customdata": [
          [
           0.97
          ]
         ],
         "hovertemplate": "<b>%{hovertext}</b><br><br>column=%{x}<br>column_0=%{y}<br>percent=%{customdata[0]}<extra></extra>",
         "hovertext": [
          "housetype_905L\n(House type of the person.)"
         ],
         "legendgroup": "housetype_905L\n(House type of the person.)",
         "marker": {
          "color": "#19d3f3",
          "pattern": {
           "shape": ""
          }
         },
         "name": "housetype_905L\n(House type of the person.)",
         "offsetgroup": "housetype_905L\n(House type of the person.)",
         "orientation": "v",
         "showlegend": true,
         "textposition": "auto",
         "type": "bar",
         "x": [
          "housetype_905L\n(House type of the person.)"
         ],
         "xaxis": "x",
         "y": [
          2873173
         ],
         "yaxis": "y"
        },
        {
         "alignmentgroup": "True",
         "customdata": [
          [
           1
          ]
         ],
         "hovertemplate": "<b>%{hovertext}</b><br><br>column=%{x}<br>column_0=%{y}<br>percent=%{customdata[0]}<extra></extra>",
         "hovertext": [
          "housingtype_772L\n(Type of housing of the person.)"
         ],
         "legendgroup": "housingtype_772L\n(Type of housing of the person.)",
         "marker": {
          "color": "#FF6692",
          "pattern": {
           "shape": ""
          }
         },
         "name": "housingtype_772L\n(Type of housing of the person.)",
         "offsetgroup": "housingtype_772L\n(Type of housing of the person.)",
         "orientation": "v",
         "showlegend": true,
         "textposition": "auto",
         "type": "bar",
         "x": [
          "housingtype_772L\n(Type of housing of the person.)"
         ],
         "xaxis": "x",
         "y": [
          2964176
         ],
         "yaxis": "y"
        },
        {
         "alignmentgroup": "True",
         "customdata": [
          [
           0.49
          ]
         ],
         "hovertemplate": "<b>%{hovertext}</b><br><br>column=%{x}<br>column_0=%{y}<br>percent=%{customdata[0]}<extra></extra>",
         "hovertext": [
          "incometype_1044T\n(Type of income of the person)"
         ],
         "legendgroup": "incometype_1044T\n(Type of income of the person)",
         "marker": {
          "color": "#B6E880",
          "pattern": {
           "shape": ""
          }
         },
         "name": "incometype_1044T\n(Type of income of the person)",
         "offsetgroup": "incometype_1044T\n(Type of income of the person)",
         "orientation": "v",
         "showlegend": true,
         "textposition": "auto",
         "type": "bar",
         "x": [
          "incometype_1044T\n(Type of income of the person)"
         ],
         "xaxis": "x",
         "y": [
          1447332
         ],
         "yaxis": "y"
        },
        {
         "alignmentgroup": "True",
         "customdata": [
          [
           0.99
          ]
         ],
         "hovertemplate": "<b>%{hovertext}</b><br><br>column=%{x}<br>column_0=%{y}<br>percent=%{customdata[0]}<extra></extra>",
         "hovertext": [
          "isreference_387L\n(Flag indicating whether the person is a reference contact.)"
         ],
         "legendgroup": "isreference_387L\n(Flag indicating whether the person is a reference contact.)",
         "marker": {
          "color": "#FF97FF",
          "pattern": {
           "shape": ""
          }
         },
         "name": "isreference_387L\n(Flag indicating whether the person is a reference contact.)",
         "offsetgroup": "isreference_387L\n(Flag indicating whether the person is a reference contact.)",
         "orientation": "v",
         "showlegend": true,
         "textposition": "auto",
         "type": "bar",
         "x": [
          "isreference_387L\n(Flag indicating whether the person is a reference contact.)"
         ],
         "xaxis": "x",
         "y": [
          2949075
         ],
         "yaxis": "y"
        },
        {
         "alignmentgroup": "True",
         "customdata": [
          [
           0
          ]
         ],
         "hovertemplate": "<b>%{hovertext}</b><br><br>column=%{x}<br>column_0=%{y}<br>percent=%{customdata[0]}<extra></extra>",
         "hovertext": [
          "language1_981M\n(The primary language of the person.)"
         ],
         "legendgroup": "language1_981M\n(The primary language of the person.)",
         "marker": {
          "color": "#FECB52",
          "pattern": {
           "shape": ""
          }
         },
         "name": "language1_981M\n(The primary language of the person.)",
         "offsetgroup": "language1_981M\n(The primary language of the person.)",
         "orientation": "v",
         "showlegend": true,
         "textposition": "auto",
         "type": "bar",
         "x": [
          "language1_981M\n(The primary language of the person.)"
         ],
         "xaxis": "x",
         "y": [
          0
         ],
         "yaxis": "y"
        },
        {
         "alignmentgroup": "True",
         "customdata": [
          [
           0.49
          ]
         ],
         "hovertemplate": "<b>%{hovertext}</b><br><br>column=%{x}<br>column_0=%{y}<br>percent=%{customdata[0]}<extra></extra>",
         "hovertext": [
          "mainoccupationinc_384A\n(Amount of the main income of the client.)"
         ],
         "legendgroup": "mainoccupationinc_384A\n(Amount of the main income of the client.)",
         "marker": {
          "color": "#636efa",
          "pattern": {
           "shape": ""
          }
         },
         "name": "mainoccupationinc_384A\n(Amount of the main income of the client.)",
         "offsetgroup": "mainoccupationinc_384A\n(Amount of the main income of the client.)",
         "orientation": "v",
         "showlegend": true,
         "textposition": "auto",
         "type": "bar",
         "x": [
          "mainoccupationinc_384A\n(Amount of the main income of the client.)"
         ],
         "xaxis": "x",
         "y": [
          1447332
         ],
         "yaxis": "y"
        },
        {
         "alignmentgroup": "True",
         "customdata": [
          [
           1
          ]
         ],
         "hovertemplate": "<b>%{hovertext}</b><br><br>column=%{x}<br>column_0=%{y}<br>percent=%{customdata[0]}<extra></extra>",
         "hovertext": [
          "maritalst_703L\n(Marital status of the client.)"
         ],
         "legendgroup": "maritalst_703L\n(Marital status of the client.)",
         "marker": {
          "color": "#EF553B",
          "pattern": {
           "shape": ""
          }
         },
         "name": "maritalst_703L\n(Marital status of the client.)",
         "offsetgroup": "maritalst_703L\n(Marital status of the client.)",
         "orientation": "v",
         "showlegend": true,
         "textposition": "auto",
         "type": "bar",
         "x": [
          "maritalst_703L\n(Marital status of the client.)"
         ],
         "xaxis": "x",
         "y": [
          2962646
         ],
         "yaxis": "y"
        },
        {
         "alignmentgroup": "True",
         "customdata": [
          [
           0
          ]
         ],
         "hovertemplate": "<b>%{hovertext}</b><br><br>column=%{x}<br>column_0=%{y}<br>percent=%{customdata[0]}<extra></extra>",
         "hovertext": [
          "num_group1"
         ],
         "legendgroup": "num_group1",
         "marker": {
          "color": "#00cc96",
          "pattern": {
           "shape": ""
          }
         },
         "name": "num_group1",
         "offsetgroup": "num_group1",
         "orientation": "v",
         "showlegend": true,
         "textposition": "auto",
         "type": "bar",
         "x": [
          "num_group1"
         ],
         "xaxis": "x",
         "y": [
          0
         ],
         "yaxis": "y"
        },
        {
         "alignmentgroup": "True",
         "customdata": [
          [
           0.22
          ]
         ],
         "hovertemplate": "<b>%{hovertext}</b><br><br>column=%{x}<br>column_0=%{y}<br>percent=%{customdata[0]}<extra></extra>",
         "hovertext": [
          "personindex_1023L\n(Order of the person specified on the application form.)"
         ],
         "legendgroup": "personindex_1023L\n(Order of the person specified on the application form.)",
         "marker": {
          "color": "#ab63fa",
          "pattern": {
           "shape": ""
          }
         },
         "name": "personindex_1023L\n(Order of the person specified on the application form.)",
         "offsetgroup": "personindex_1023L\n(Order of the person specified on the application form.)",
         "orientation": "v",
         "showlegend": true,
         "textposition": "auto",
         "type": "bar",
         "x": [
          "personindex_1023L\n(Order of the person specified on the application form.)"
         ],
         "xaxis": "x",
         "y": [
          642283
         ],
         "yaxis": "y"
        },
        {
         "alignmentgroup": "True",
         "customdata": [
          [
           0
          ]
         ],
         "hovertemplate": "<b>%{hovertext}</b><br><br>column=%{x}<br>column_0=%{y}<br>percent=%{customdata[0]}<extra></extra>",
         "hovertext": [
          "persontype_1072L\n(Person type.)"
         ],
         "legendgroup": "persontype_1072L\n(Person type.)",
         "marker": {
          "color": "#FFA15A",
          "pattern": {
           "shape": ""
          }
         },
         "name": "persontype_1072L\n(Person type.)",
         "offsetgroup": "persontype_1072L\n(Person type.)",
         "orientation": "v",
         "showlegend": true,
         "textposition": "auto",
         "type": "bar",
         "x": [
          "persontype_1072L\n(Person type.)"
         ],
         "xaxis": "x",
         "y": [
          6117
         ],
         "yaxis": "y"
        },
        {
         "alignmentgroup": "True",
         "customdata": [
          [
           0.22
          ]
         ],
         "hovertemplate": "<b>%{hovertext}</b><br><br>column=%{x}<br>column_0=%{y}<br>percent=%{customdata[0]}<extra></extra>",
         "hovertext": [
          "persontype_792L\n(Person type.)"
         ],
         "legendgroup": "persontype_792L\n(Person type.)",
         "marker": {
          "color": "#19d3f3",
          "pattern": {
           "shape": ""
          }
         },
         "name": "persontype_792L\n(Person type.)",
         "offsetgroup": "persontype_792L\n(Person type.)",
         "orientation": "v",
         "showlegend": true,
         "textposition": "auto",
         "type": "bar",
         "x": [
          "persontype_792L\n(Person type.)"
         ],
         "xaxis": "x",
         "y": [
          642283
         ],
         "yaxis": "y"
        },
        {
         "alignmentgroup": "True",
         "customdata": [
          [
           0
          ]
         ],
         "hovertemplate": "<b>%{hovertext}</b><br><br>column=%{x}<br>column_0=%{y}<br>percent=%{customdata[0]}<extra></extra>",
         "hovertext": [
          "registaddr_district_1083M\n(District of person's registered address.)"
         ],
         "legendgroup": "registaddr_district_1083M\n(District of person's registered address.)",
         "marker": {
          "color": "#FF6692",
          "pattern": {
           "shape": ""
          }
         },
         "name": "registaddr_district_1083M\n(District of person's registered address.)",
         "offsetgroup": "registaddr_district_1083M\n(District of person's registered address.)",
         "orientation": "v",
         "showlegend": true,
         "textposition": "auto",
         "type": "bar",
         "x": [
          "registaddr_district_1083M\n(District of person's registered address.)"
         ],
         "xaxis": "x",
         "y": [
          0
         ],
         "yaxis": "y"
        },
        {
         "alignmentgroup": "True",
         "customdata": [
          [
           0
          ]
         ],
         "hovertemplate": "<b>%{hovertext}</b><br><br>column=%{x}<br>column_0=%{y}<br>percent=%{customdata[0]}<extra></extra>",
         "hovertext": [
          "registaddr_zipcode_184M\n(Registered address's zip code of a person.)"
         ],
         "legendgroup": "registaddr_zipcode_184M\n(Registered address's zip code of a person.)",
         "marker": {
          "color": "#B6E880",
          "pattern": {
           "shape": ""
          }
         },
         "name": "registaddr_zipcode_184M\n(Registered address's zip code of a person.)",
         "offsetgroup": "registaddr_zipcode_184M\n(Registered address's zip code of a person.)",
         "orientation": "v",
         "showlegend": true,
         "textposition": "auto",
         "type": "bar",
         "x": [
          "registaddr_zipcode_184M\n(Registered address's zip code of a person.)"
         ],
         "xaxis": "x",
         "y": [
          0
         ],
         "yaxis": "y"
        },
        {
         "alignmentgroup": "True",
         "customdata": [
          [
           0.73
          ]
         ],
         "hovertemplate": "<b>%{hovertext}</b><br><br>column=%{x}<br>column_0=%{y}<br>percent=%{customdata[0]}<extra></extra>",
         "hovertext": [
          "relationshiptoclient_415T\n(Relationship to the client.)"
         ],
         "legendgroup": "relationshiptoclient_415T\n(Relationship to the client.)",
         "marker": {
          "color": "#FF97FF",
          "pattern": {
           "shape": ""
          }
         },
         "name": "relationshiptoclient_415T\n(Relationship to the client.)",
         "offsetgroup": "relationshiptoclient_415T\n(Relationship to the client.)",
         "orientation": "v",
         "showlegend": true,
         "textposition": "auto",
         "type": "bar",
         "x": [
          "relationshiptoclient_415T\n(Relationship to the client.)"
         ],
         "xaxis": "x",
         "y": [
          2168942
         ],
         "yaxis": "y"
        },
        {
         "alignmentgroup": "True",
         "customdata": [
          [
           0.73
          ]
         ],
         "hovertemplate": "<b>%{hovertext}</b><br><br>column=%{x}<br>column_0=%{y}<br>percent=%{customdata[0]}<extra></extra>",
         "hovertext": [
          "relationshiptoclient_642T\n(Relationship to the client.)"
         ],
         "legendgroup": "relationshiptoclient_642T\n(Relationship to the client.)",
         "marker": {
          "color": "#FECB52",
          "pattern": {
           "shape": ""
          }
         },
         "name": "relationshiptoclient_642T\n(Relationship to the client.)",
         "offsetgroup": "relationshiptoclient_642T\n(Relationship to the client.)",
         "orientation": "v",
         "showlegend": true,
         "textposition": "auto",
         "type": "bar",
         "x": [
          "relationshiptoclient_642T\n(Relationship to the client.)"
         ],
         "xaxis": "x",
         "y": [
          2168049
         ],
         "yaxis": "y"
        },
        {
         "alignmentgroup": "True",
         "customdata": [
          [
           0.73
          ]
         ],
         "hovertemplate": "<b>%{hovertext}</b><br><br>column=%{x}<br>column_0=%{y}<br>percent=%{customdata[0]}<extra></extra>",
         "hovertext": [
          "remitter_829L\n(Flag indicating whether the client is a remitter.)"
         ],
         "legendgroup": "remitter_829L\n(Flag indicating whether the client is a remitter.)",
         "marker": {
          "color": "#636efa",
          "pattern": {
           "shape": ""
          }
         },
         "name": "remitter_829L\n(Flag indicating whether the client is a remitter.)",
         "offsetgroup": "remitter_829L\n(Flag indicating whether the client is a remitter.)",
         "orientation": "v",
         "showlegend": true,
         "textposition": "auto",
         "type": "bar",
         "x": [
          "remitter_829L\n(Flag indicating whether the client is a remitter.)"
         ],
         "xaxis": "x",
         "y": [
          2168942
         ],
         "yaxis": "y"
        },
        {
         "alignmentgroup": "True",
         "customdata": [
          [
           0
          ]
         ],
         "hovertemplate": "<b>%{hovertext}</b><br><br>column=%{x}<br>column_0=%{y}<br>percent=%{customdata[0]}<extra></extra>",
         "hovertext": [
          "role_1084L\n(Type of contact role.)"
         ],
         "legendgroup": "role_1084L\n(Type of contact role.)",
         "marker": {
          "color": "#EF553B",
          "pattern": {
           "shape": ""
          }
         },
         "name": "role_1084L\n(Type of contact role.)",
         "offsetgroup": "role_1084L\n(Type of contact role.)",
         "orientation": "v",
         "showlegend": true,
         "textposition": "auto",
         "type": "bar",
         "x": [
          "role_1084L\n(Type of contact role.)"
         ],
         "xaxis": "x",
         "y": [
          6117
         ],
         "yaxis": "y"
        },
        {
         "alignmentgroup": "True",
         "customdata": [
          [
           0.99
          ]
         ],
         "hovertemplate": "<b>%{hovertext}</b><br><br>column=%{x}<br>column_0=%{y}<br>percent=%{customdata[0]}<extra></extra>",
         "hovertext": [
          "role_993L\n(Person's role.)"
         ],
         "legendgroup": "role_993L\n(Person's role.)",
         "marker": {
          "color": "#00cc96",
          "pattern": {
           "shape": ""
          }
         },
         "name": "role_993L\n(Person's role.)",
         "offsetgroup": "role_993L\n(Person's role.)",
         "orientation": "v",
         "showlegend": true,
         "textposition": "auto",
         "type": "bar",
         "x": [
          "role_993L\n(Person's role.)"
         ],
         "xaxis": "x",
         "y": [
          2949075
         ],
         "yaxis": "y"
        },
        {
         "alignmentgroup": "True",
         "customdata": [
          [
           0.49
          ]
         ],
         "hovertemplate": "<b>%{hovertext}</b><br><br>column=%{x}<br>column_0=%{y}<br>percent=%{customdata[0]}<extra></extra>",
         "hovertext": [
          "safeguarantyflag_411L\n(Flag indicating if client is using a flexible product with additional safeguard garanty.)"
         ],
         "legendgroup": "safeguarantyflag_411L\n(Flag indicating if client is using a flexible product with additional safeguard garanty.)",
         "marker": {
          "color": "#ab63fa",
          "pattern": {
           "shape": ""
          }
         },
         "name": "safeguarantyflag_411L\n(Flag indicating if client is using a flexible product with additional safeguard garanty.)",
         "offsetgroup": "safeguarantyflag_411L\n(Flag indicating if client is using a flexible product with additional safeguard garanty.)",
         "orientation": "v",
         "showlegend": true,
         "textposition": "auto",
         "type": "bar",
         "x": [
          "safeguarantyflag_411L\n(Flag indicating if client is using a flexible product with additional safeguard garanty.)"
         ],
         "xaxis": "x",
         "y": [
          1447334
         ],
         "yaxis": "y"
        },
        {
         "alignmentgroup": "True",
         "customdata": [
          [
           0.49
          ]
         ],
         "hovertemplate": "<b>%{hovertext}</b><br><br>column=%{x}<br>column_0=%{y}<br>percent=%{customdata[0]}<extra></extra>",
         "hovertext": [
          "sex_738L\n(Gender of the client.)"
         ],
         "legendgroup": "sex_738L\n(Gender of the client.)",
         "marker": {
          "color": "#FFA15A",
          "pattern": {
           "shape": ""
          }
         },
         "name": "sex_738L\n(Gender of the client.)",
         "offsetgroup": "sex_738L\n(Gender of the client.)",
         "orientation": "v",
         "showlegend": true,
         "textposition": "auto",
         "type": "bar",
         "x": [
          "sex_738L\n(Gender of the client.)"
         ],
         "xaxis": "x",
         "y": [
          1447332
         ],
         "yaxis": "y"
        },
        {
         "alignmentgroup": "True",
         "customdata": [
          [
           0
          ]
         ],
         "hovertemplate": "<b>%{hovertext}</b><br><br>column=%{x}<br>column_0=%{y}<br>percent=%{customdata[0]}<extra></extra>",
         "hovertext": [
          "type_25L\n(Contact type of a person.)"
         ],
         "legendgroup": "type_25L\n(Contact type of a person.)",
         "marker": {
          "color": "#19d3f3",
          "pattern": {
           "shape": ""
          }
         },
         "name": "type_25L\n(Contact type of a person.)",
         "offsetgroup": "type_25L\n(Contact type of a person.)",
         "orientation": "v",
         "showlegend": true,
         "textposition": "auto",
         "type": "bar",
         "x": [
          "type_25L\n(Contact type of a person.)"
         ],
         "xaxis": "x",
         "y": [
          6117
         ],
         "yaxis": "y"
        }
       ],
       "layout": {
        "annotations": [
         {
          "showarrow": false,
          "text": "Total rows",
          "x": 1,
          "xanchor": "right",
          "xref": "x domain",
          "y": 2973991,
          "yanchor": "bottom",
          "yref": "y"
         }
        ],
        "barmode": "relative",
        "height": 900,
        "legend": {
         "title": {
          "text": "column"
         },
         "tracegroupgap": 10
        },
        "margin": {
         "t": 60
        },
        "shapes": [
         {
          "line": {
           "dash": "dashdot"
          },
          "type": "line",
          "x0": 0,
          "x1": 1,
          "xref": "x domain",
          "y0": 2973991,
          "y1": 2973991,
          "yref": "y"
         }
        ],
        "template": {
         "data": {
          "bar": [
           {
            "error_x": {
             "color": "#f2f5fa"
            },
            "error_y": {
             "color": "#f2f5fa"
            },
            "marker": {
             "line": {
              "color": "rgb(17,17,17)",
              "width": 0.5
             },
             "pattern": {
              "fillmode": "overlay",
              "size": 10,
              "solidity": 0.2
             }
            },
            "type": "bar"
           }
          ],
          "barpolar": [
           {
            "marker": {
             "line": {
              "color": "rgb(17,17,17)",
              "width": 0.5
             },
             "pattern": {
              "fillmode": "overlay",
              "size": 10,
              "solidity": 0.2
             }
            },
            "type": "barpolar"
           }
          ],
          "carpet": [
           {
            "aaxis": {
             "endlinecolor": "#A2B1C6",
             "gridcolor": "#506784",
             "linecolor": "#506784",
             "minorgridcolor": "#506784",
             "startlinecolor": "#A2B1C6"
            },
            "baxis": {
             "endlinecolor": "#A2B1C6",
             "gridcolor": "#506784",
             "linecolor": "#506784",
             "minorgridcolor": "#506784",
             "startlinecolor": "#A2B1C6"
            },
            "type": "carpet"
           }
          ],
          "choropleth": [
           {
            "colorbar": {
             "outlinewidth": 0,
             "ticks": ""
            },
            "type": "choropleth"
           }
          ],
          "contour": [
           {
            "colorbar": {
             "outlinewidth": 0,
             "ticks": ""
            },
            "colorscale": [
             [
              0,
              "#0d0887"
             ],
             [
              0.1111111111111111,
              "#46039f"
             ],
             [
              0.2222222222222222,
              "#7201a8"
             ],
             [
              0.3333333333333333,
              "#9c179e"
             ],
             [
              0.4444444444444444,
              "#bd3786"
             ],
             [
              0.5555555555555556,
              "#d8576b"
             ],
             [
              0.6666666666666666,
              "#ed7953"
             ],
             [
              0.7777777777777778,
              "#fb9f3a"
             ],
             [
              0.8888888888888888,
              "#fdca26"
             ],
             [
              1,
              "#f0f921"
             ]
            ],
            "type": "contour"
           }
          ],
          "contourcarpet": [
           {
            "colorbar": {
             "outlinewidth": 0,
             "ticks": ""
            },
            "type": "contourcarpet"
           }
          ],
          "heatmap": [
           {
            "colorbar": {
             "outlinewidth": 0,
             "ticks": ""
            },
            "colorscale": [
             [
              0,
              "#0d0887"
             ],
             [
              0.1111111111111111,
              "#46039f"
             ],
             [
              0.2222222222222222,
              "#7201a8"
             ],
             [
              0.3333333333333333,
              "#9c179e"
             ],
             [
              0.4444444444444444,
              "#bd3786"
             ],
             [
              0.5555555555555556,
              "#d8576b"
             ],
             [
              0.6666666666666666,
              "#ed7953"
             ],
             [
              0.7777777777777778,
              "#fb9f3a"
             ],
             [
              0.8888888888888888,
              "#fdca26"
             ],
             [
              1,
              "#f0f921"
             ]
            ],
            "type": "heatmap"
           }
          ],
          "heatmapgl": [
           {
            "colorbar": {
             "outlinewidth": 0,
             "ticks": ""
            },
            "colorscale": [
             [
              0,
              "#0d0887"
             ],
             [
              0.1111111111111111,
              "#46039f"
             ],
             [
              0.2222222222222222,
              "#7201a8"
             ],
             [
              0.3333333333333333,
              "#9c179e"
             ],
             [
              0.4444444444444444,
              "#bd3786"
             ],
             [
              0.5555555555555556,
              "#d8576b"
             ],
             [
              0.6666666666666666,
              "#ed7953"
             ],
             [
              0.7777777777777778,
              "#fb9f3a"
             ],
             [
              0.8888888888888888,
              "#fdca26"
             ],
             [
              1,
              "#f0f921"
             ]
            ],
            "type": "heatmapgl"
           }
          ],
          "histogram": [
           {
            "marker": {
             "pattern": {
              "fillmode": "overlay",
              "size": 10,
              "solidity": 0.2
             }
            },
            "type": "histogram"
           }
          ],
          "histogram2d": [
           {
            "colorbar": {
             "outlinewidth": 0,
             "ticks": ""
            },
            "colorscale": [
             [
              0,
              "#0d0887"
             ],
             [
              0.1111111111111111,
              "#46039f"
             ],
             [
              0.2222222222222222,
              "#7201a8"
             ],
             [
              0.3333333333333333,
              "#9c179e"
             ],
             [
              0.4444444444444444,
              "#bd3786"
             ],
             [
              0.5555555555555556,
              "#d8576b"
             ],
             [
              0.6666666666666666,
              "#ed7953"
             ],
             [
              0.7777777777777778,
              "#fb9f3a"
             ],
             [
              0.8888888888888888,
              "#fdca26"
             ],
             [
              1,
              "#f0f921"
             ]
            ],
            "type": "histogram2d"
           }
          ],
          "histogram2dcontour": [
           {
            "colorbar": {
             "outlinewidth": 0,
             "ticks": ""
            },
            "colorscale": [
             [
              0,
              "#0d0887"
             ],
             [
              0.1111111111111111,
              "#46039f"
             ],
             [
              0.2222222222222222,
              "#7201a8"
             ],
             [
              0.3333333333333333,
              "#9c179e"
             ],
             [
              0.4444444444444444,
              "#bd3786"
             ],
             [
              0.5555555555555556,
              "#d8576b"
             ],
             [
              0.6666666666666666,
              "#ed7953"
             ],
             [
              0.7777777777777778,
              "#fb9f3a"
             ],
             [
              0.8888888888888888,
              "#fdca26"
             ],
             [
              1,
              "#f0f921"
             ]
            ],
            "type": "histogram2dcontour"
           }
          ],
          "mesh3d": [
           {
            "colorbar": {
             "outlinewidth": 0,
             "ticks": ""
            },
            "type": "mesh3d"
           }
          ],
          "parcoords": [
           {
            "line": {
             "colorbar": {
              "outlinewidth": 0,
              "ticks": ""
             }
            },
            "type": "parcoords"
           }
          ],
          "pie": [
           {
            "automargin": true,
            "type": "pie"
           }
          ],
          "scatter": [
           {
            "marker": {
             "line": {
              "color": "#283442"
             }
            },
            "type": "scatter"
           }
          ],
          "scatter3d": [
           {
            "line": {
             "colorbar": {
              "outlinewidth": 0,
              "ticks": ""
             }
            },
            "marker": {
             "colorbar": {
              "outlinewidth": 0,
              "ticks": ""
             }
            },
            "type": "scatter3d"
           }
          ],
          "scattercarpet": [
           {
            "marker": {
             "colorbar": {
              "outlinewidth": 0,
              "ticks": ""
             }
            },
            "type": "scattercarpet"
           }
          ],
          "scattergeo": [
           {
            "marker": {
             "colorbar": {
              "outlinewidth": 0,
              "ticks": ""
             }
            },
            "type": "scattergeo"
           }
          ],
          "scattergl": [
           {
            "marker": {
             "line": {
              "color": "#283442"
             }
            },
            "type": "scattergl"
           }
          ],
          "scattermapbox": [
           {
            "marker": {
             "colorbar": {
              "outlinewidth": 0,
              "ticks": ""
             }
            },
            "type": "scattermapbox"
           }
          ],
          "scatterpolar": [
           {
            "marker": {
             "colorbar": {
              "outlinewidth": 0,
              "ticks": ""
             }
            },
            "type": "scatterpolar"
           }
          ],
          "scatterpolargl": [
           {
            "marker": {
             "colorbar": {
              "outlinewidth": 0,
              "ticks": ""
             }
            },
            "type": "scatterpolargl"
           }
          ],
          "scatterternary": [
           {
            "marker": {
             "colorbar": {
              "outlinewidth": 0,
              "ticks": ""
             }
            },
            "type": "scatterternary"
           }
          ],
          "surface": [
           {
            "colorbar": {
             "outlinewidth": 0,
             "ticks": ""
            },
            "colorscale": [
             [
              0,
              "#0d0887"
             ],
             [
              0.1111111111111111,
              "#46039f"
             ],
             [
              0.2222222222222222,
              "#7201a8"
             ],
             [
              0.3333333333333333,
              "#9c179e"
             ],
             [
              0.4444444444444444,
              "#bd3786"
             ],
             [
              0.5555555555555556,
              "#d8576b"
             ],
             [
              0.6666666666666666,
              "#ed7953"
             ],
             [
              0.7777777777777778,
              "#fb9f3a"
             ],
             [
              0.8888888888888888,
              "#fdca26"
             ],
             [
              1,
              "#f0f921"
             ]
            ],
            "type": "surface"
           }
          ],
          "table": [
           {
            "cells": {
             "fill": {
              "color": "#506784"
             },
             "line": {
              "color": "rgb(17,17,17)"
             }
            },
            "header": {
             "fill": {
              "color": "#2a3f5f"
             },
             "line": {
              "color": "rgb(17,17,17)"
             }
            },
            "type": "table"
           }
          ]
         },
         "layout": {
          "annotationdefaults": {
           "arrowcolor": "#f2f5fa",
           "arrowhead": 0,
           "arrowwidth": 1
          },
          "autotypenumbers": "strict",
          "coloraxis": {
           "colorbar": {
            "outlinewidth": 0,
            "ticks": ""
           }
          },
          "colorscale": {
           "diverging": [
            [
             0,
             "#8e0152"
            ],
            [
             0.1,
             "#c51b7d"
            ],
            [
             0.2,
             "#de77ae"
            ],
            [
             0.3,
             "#f1b6da"
            ],
            [
             0.4,
             "#fde0ef"
            ],
            [
             0.5,
             "#f7f7f7"
            ],
            [
             0.6,
             "#e6f5d0"
            ],
            [
             0.7,
             "#b8e186"
            ],
            [
             0.8,
             "#7fbc41"
            ],
            [
             0.9,
             "#4d9221"
            ],
            [
             1,
             "#276419"
            ]
           ],
           "sequential": [
            [
             0,
             "#0d0887"
            ],
            [
             0.1111111111111111,
             "#46039f"
            ],
            [
             0.2222222222222222,
             "#7201a8"
            ],
            [
             0.3333333333333333,
             "#9c179e"
            ],
            [
             0.4444444444444444,
             "#bd3786"
            ],
            [
             0.5555555555555556,
             "#d8576b"
            ],
            [
             0.6666666666666666,
             "#ed7953"
            ],
            [
             0.7777777777777778,
             "#fb9f3a"
            ],
            [
             0.8888888888888888,
             "#fdca26"
            ],
            [
             1,
             "#f0f921"
            ]
           ],
           "sequentialminus": [
            [
             0,
             "#0d0887"
            ],
            [
             0.1111111111111111,
             "#46039f"
            ],
            [
             0.2222222222222222,
             "#7201a8"
            ],
            [
             0.3333333333333333,
             "#9c179e"
            ],
            [
             0.4444444444444444,
             "#bd3786"
            ],
            [
             0.5555555555555556,
             "#d8576b"
            ],
            [
             0.6666666666666666,
             "#ed7953"
            ],
            [
             0.7777777777777778,
             "#fb9f3a"
            ],
            [
             0.8888888888888888,
             "#fdca26"
            ],
            [
             1,
             "#f0f921"
            ]
           ]
          },
          "colorway": [
           "#636efa",
           "#EF553B",
           "#00cc96",
           "#ab63fa",
           "#FFA15A",
           "#19d3f3",
           "#FF6692",
           "#B6E880",
           "#FF97FF",
           "#FECB52"
          ],
          "font": {
           "color": "#f2f5fa",
           "family": "Monaco",
           "size": 12
          },
          "geo": {
           "bgcolor": "rgb(17,17,17)",
           "lakecolor": "rgb(17,17,17)",
           "landcolor": "rgb(17,17,17)",
           "showlakes": true,
           "showland": true,
           "subunitcolor": "#506784"
          },
          "hoverlabel": {
           "align": "left"
          },
          "hovermode": "closest",
          "mapbox": {
           "style": "dark"
          },
          "paper_bgcolor": "rgb(17,17,17)",
          "plot_bgcolor": "rgb(17,17,17)",
          "polar": {
           "angularaxis": {
            "gridcolor": "#506784",
            "linecolor": "#506784",
            "ticks": ""
           },
           "bgcolor": "rgb(17,17,17)",
           "radialaxis": {
            "gridcolor": "#506784",
            "linecolor": "#506784",
            "ticks": ""
           }
          },
          "scene": {
           "xaxis": {
            "backgroundcolor": "rgb(17,17,17)",
            "gridcolor": "#506784",
            "gridwidth": 2,
            "linecolor": "#506784",
            "showbackground": true,
            "ticks": "",
            "zerolinecolor": "#C8D4E3"
           },
           "yaxis": {
            "backgroundcolor": "rgb(17,17,17)",
            "gridcolor": "#506784",
            "gridwidth": 2,
            "linecolor": "#506784",
            "showbackground": true,
            "ticks": "",
            "zerolinecolor": "#C8D4E3"
           },
           "zaxis": {
            "backgroundcolor": "rgb(17,17,17)",
            "gridcolor": "#506784",
            "gridwidth": 2,
            "linecolor": "#506784",
            "showbackground": true,
            "ticks": "",
            "zerolinecolor": "#C8D4E3"
           }
          },
          "shapedefaults": {
           "line": {
            "color": "#f2f5fa"
           }
          },
          "sliderdefaults": {
           "bgcolor": "#C8D4E3",
           "bordercolor": "rgb(17,17,17)",
           "borderwidth": 1,
           "tickwidth": 0
          },
          "ternary": {
           "aaxis": {
            "gridcolor": "#506784",
            "linecolor": "#506784",
            "ticks": ""
           },
           "baxis": {
            "gridcolor": "#506784",
            "linecolor": "#506784",
            "ticks": ""
           },
           "bgcolor": "rgb(17,17,17)",
           "caxis": {
            "gridcolor": "#506784",
            "linecolor": "#506784",
            "ticks": ""
           }
          },
          "title": {
           "x": 0.05
          },
          "updatemenudefaults": {
           "bgcolor": "#506784",
           "borderwidth": 0
          },
          "xaxis": {
           "automargin": true,
           "gridcolor": "#283442",
           "linecolor": "#506784",
           "ticks": "",
           "title": {
            "standoff": 15
           },
           "zerolinecolor": "#283442",
           "zerolinewidth": 2
          },
          "yaxis": {
           "automargin": true,
           "gridcolor": "#283442",
           "linecolor": "#506784",
           "ticks": "",
           "title": {
            "standoff": 15
           },
           "zerolinecolor": "#283442",
           "zerolinewidth": 2
          }
         }
        },
        "xaxis": {
         "anchor": "y",
         "categoryarray": [
          "case_id",
          "birth_259D\n(Date of birth of the person.)",
          "childnum_185L\n(Number of children of the applicant.)",
          "contaddr_district_15M\n(Zip code of a contact person's address.)",
          "contaddr_matchlist_1032L\n(Indicates whether the contact address is found in a code list.)",
          "contaddr_smempladdr_334L\n(Indicates whether the contact address is the same as the employment address.)",
          "contaddr_zipcode_807M\n(Zip code of contact address.)",
          "education_927M\n(Education level of the person.)",
          "empl_employedfrom_271D\n(Start date of employment.)",
          "empl_employedtotal_800L\n(Employment length of a person.)",
          "empl_industry_691L\n(Employment Industry of the person.)",
          "empladdr_district_926M\n(District where the employer's address is located.)",
          "empladdr_zipcode_114M\n(Zipcode of employer's address.)",
          "familystate_447L\n(Family state of the person.)",
          "gender_992L\n(Gender of a person.)",
          "housetype_905L\n(House type of the person.)",
          "housingtype_772L\n(Type of housing of the person.)",
          "incometype_1044T\n(Type of income of the person)",
          "isreference_387L\n(Flag indicating whether the person is a reference contact.)",
          "language1_981M\n(The primary language of the person.)",
          "mainoccupationinc_384A\n(Amount of the main income of the client.)",
          "maritalst_703L\n(Marital status of the client.)",
          "num_group1",
          "personindex_1023L\n(Order of the person specified on the application form.)",
          "persontype_1072L\n(Person type.)",
          "persontype_792L\n(Person type.)",
          "registaddr_district_1083M\n(District of person's registered address.)",
          "registaddr_zipcode_184M\n(Registered address's zip code of a person.)",
          "relationshiptoclient_415T\n(Relationship to the client.)",
          "relationshiptoclient_642T\n(Relationship to the client.)",
          "remitter_829L\n(Flag indicating whether the client is a remitter.)",
          "role_1084L\n(Type of contact role.)",
          "role_993L\n(Person's role.)",
          "safeguarantyflag_411L\n(Flag indicating if client is using a flexible product with additional safeguard garanty.)",
          "sex_738L\n(Gender of the client.)",
          "type_25L\n(Contact type of a person.)"
         ],
         "categoryorder": "array",
         "domain": [
          0,
          1
         ],
         "showticklabels": false,
         "title": {
          "text": "All Columns"
         }
        },
        "yaxis": {
         "anchor": "x",
         "domain": [
          0,
          1
         ],
         "title": {
          "text": "Null Counts"
         }
        }
       }
      }
     },
     "metadata": {},
     "output_type": "display_data"
    }
   ],
   "source": [
    "train_person_1 = preprocess(24)\n",
    "display(train_person_1.fetch().head())\n",
    "gc.collect()\n",
    "train_person_1.pipe(plot_nulls)"
   ]
  },
  {
   "cell_type": "code",
   "execution_count": 82,
   "metadata": {},
   "outputs": [
    {
     "data": {
      "text/html": [
       "<div><style>\n",
       ".dataframe > thead > tr,\n",
       ".dataframe > tbody > tr {\n",
       "  text-align: right;\n",
       "  white-space: pre-wrap;\n",
       "}\n",
       "</style>\n",
       "<small>shape: (5, 11)</small><table border=\"1\" class=\"dataframe\"><thead><tr><th>case_id</th><th>addres_district_368M\n",
       "(District of the person&#x27;s address.)</th><th>addres_role_871L\n",
       "(Role of person&#x27;s address.)</th><th>addres_zip_823M\n",
       "(Zip code of the address.)</th><th>conts_role_79M\n",
       "(Type of contact role of a person.)</th><th>empls_economicalst_849M\n",
       "(The economical status of the person (num_group1 - person, num_group2 - employment).)</th><th>empls_employedfrom_796D\n",
       "(Start of employment (num_group1 - person, num_group2 - employment).)</th><th>empls_employer_name_740M\n",
       "(Employer&#x27;s name (num_group1 - person, num_group2 - employment).)</th><th>num_group1</th><th>num_group2</th><th>relatedpersons_role_762T\n",
       "(Relationship type of a client&#x27;s related person (num_group1 - person, num_group2 - related person).)</th></tr><tr><td>i16</td><td>str</td><td>str</td><td>str</td><td>str</td><td>str</td><td>str</td><td>str</td><td>i8</td><td>i8</td><td>str</td></tr></thead><tbody><tr><td>5</td><td>&quot;a55475b1&quot;</td><td>null</td><td>&quot;a55475b1&quot;</td><td>&quot;a55475b1&quot;</td><td>&quot;a55475b1&quot;</td><td>null</td><td>&quot;a55475b1&quot;</td><td>0</td><td>0</td><td>null</td></tr><tr><td>6</td><td>&quot;P55_110_32&quot;</td><td>&quot;CONTACT&quot;</td><td>&quot;P10_68_40&quot;</td><td>&quot;P38_92_157&quot;</td><td>&quot;P164_110_33&quot;</td><td>null</td><td>&quot;a55475b1&quot;</td><td>0</td><td>0</td><td>null</td></tr><tr><td>6</td><td>&quot;P55_110_32&quot;</td><td>&quot;PERMANENT&quot;</td><td>&quot;P10_68_40&quot;</td><td>&quot;a55475b1&quot;</td><td>&quot;a55475b1&quot;</td><td>null</td><td>&quot;a55475b1&quot;</td><td>0</td><td>1</td><td>null</td></tr><tr><td>6</td><td>&quot;P204_92_178&quot;</td><td>&quot;CONTACT&quot;</td><td>&quot;P65_136_169&quot;</td><td>&quot;P38_92_157&quot;</td><td>&quot;P164_110_33&quot;</td><td>null</td><td>&quot;a55475b1&quot;</td><td>1</td><td>0</td><td>&quot;OTHER_RELATIVE&quot;</td></tr><tr><td>6</td><td>&quot;P191_109_75&quot;</td><td>&quot;CONTACT&quot;</td><td>&quot;P10_68_40&quot;</td><td>&quot;P7_147_157&quot;</td><td>&quot;a55475b1&quot;</td><td>null</td><td>&quot;a55475b1&quot;</td><td>1</td><td>1</td><td>&quot;OTHER_RELATIVE&quot;</td></tr></tbody></table></div>"
      ],
      "text/plain": [
       "shape: (5, 11)\n",
       "┌─────────┬────────────┬───────────┬───────────┬───┬───────────┬───────────┬───────────┬───────────┐\n",
       "│ case_id ┆ addres_dis ┆ addres_ro ┆ addres_zi ┆ … ┆ empls_emp ┆ num_group ┆ num_group ┆ relatedpe │\n",
       "│ ---     ┆ trict_368M ┆ le_871L   ┆ p_823M    ┆   ┆ loyer_nam ┆ 1         ┆ 2         ┆ rsons_rol │\n",
       "│ i16     ┆ (District  ┆ (Role of  ┆ (Zip code ┆   ┆ e_740M    ┆ ---       ┆ ---       ┆ e_762T    │\n",
       "│         ┆ of the     ┆ person's  ┆ of the    ┆   ┆ (Employer ┆ i8        ┆ i8        ┆ (Relation │\n",
       "│         ┆ person's   ┆ address.) ┆ address.) ┆   ┆ 's name   ┆           ┆           ┆ ship type │\n",
       "│         ┆ address.)  ┆ ---       ┆ ---       ┆   ┆ (num_grou ┆           ┆           ┆ of a      │\n",
       "│         ┆ ---        ┆ str       ┆ str       ┆   ┆ p1 -      ┆           ┆           ┆ client's  │\n",
       "│         ┆ str        ┆           ┆           ┆   ┆ person,   ┆           ┆           ┆ related   │\n",
       "│         ┆            ┆           ┆           ┆   ┆ num_group ┆           ┆           ┆ person    │\n",
       "│         ┆            ┆           ┆           ┆   ┆ 2 - emplo ┆           ┆           ┆ (num_grou │\n",
       "│         ┆            ┆           ┆           ┆   ┆ yment).)  ┆           ┆           ┆ p1 -      │\n",
       "│         ┆            ┆           ┆           ┆   ┆ ---       ┆           ┆           ┆ person,   │\n",
       "│         ┆            ┆           ┆           ┆   ┆ str       ┆           ┆           ┆ num_group │\n",
       "│         ┆            ┆           ┆           ┆   ┆           ┆           ┆           ┆ 2 -       │\n",
       "│         ┆            ┆           ┆           ┆   ┆           ┆           ┆           ┆ related   │\n",
       "│         ┆            ┆           ┆           ┆   ┆           ┆           ┆           ┆ person).) │\n",
       "│         ┆            ┆           ┆           ┆   ┆           ┆           ┆           ┆ ---       │\n",
       "│         ┆            ┆           ┆           ┆   ┆           ┆           ┆           ┆ str       │\n",
       "╞═════════╪════════════╪═══════════╪═══════════╪═══╪═══════════╪═══════════╪═══════════╪═══════════╡\n",
       "│ 5       ┆ a55475b1   ┆ null      ┆ a55475b1  ┆ … ┆ a55475b1  ┆ 0         ┆ 0         ┆ null      │\n",
       "│ 6       ┆ P55_110_32 ┆ CONTACT   ┆ P10_68_40 ┆ … ┆ a55475b1  ┆ 0         ┆ 0         ┆ null      │\n",
       "│ 6       ┆ P55_110_32 ┆ PERMANENT ┆ P10_68_40 ┆ … ┆ a55475b1  ┆ 0         ┆ 1         ┆ null      │\n",
       "│ 6       ┆ P204_92_17 ┆ CONTACT   ┆ P65_136_1 ┆ … ┆ a55475b1  ┆ 1         ┆ 0         ┆ OTHER_REL │\n",
       "│         ┆ 8          ┆           ┆ 69        ┆   ┆           ┆           ┆           ┆ ATIVE     │\n",
       "│ 6       ┆ P191_109_7 ┆ CONTACT   ┆ P10_68_40 ┆ … ┆ a55475b1  ┆ 1         ┆ 1         ┆ OTHER_REL │\n",
       "│         ┆ 5          ┆           ┆           ┆   ┆           ┆           ┆           ┆ ATIVE     │\n",
       "└─────────┴────────────┴───────────┴───────────┴───┴───────────┴───────────┴───────────┴───────────┘"
      ]
     },
     "metadata": {},
     "output_type": "display_data"
    },
    {
     "data": {
      "application/vnd.plotly.v1+json": {
       "config": {
        "plotlyServerURL": "https://plot.ly"
       },
       "data": [
        {
         "alignmentgroup": "True",
         "customdata": [
          [
           0
          ]
         ],
         "hovertemplate": "<b>%{hovertext}</b><br><br>column=%{x}<br>column_0=%{y}<br>percent=%{customdata[0]}<extra></extra>",
         "hovertext": [
          "case_id"
         ],
         "legendgroup": "case_id",
         "marker": {
          "color": "#636efa",
          "pattern": {
           "shape": ""
          }
         },
         "name": "case_id",
         "offsetgroup": "case_id",
         "orientation": "v",
         "showlegend": true,
         "textposition": "auto",
         "type": "bar",
         "x": [
          "case_id"
         ],
         "xaxis": "x",
         "y": [
          0
         ],
         "yaxis": "y"
        },
        {
         "alignmentgroup": "True",
         "customdata": [
          [
           0
          ]
         ],
         "hovertemplate": "<b>%{hovertext}</b><br><br>column=%{x}<br>column_0=%{y}<br>percent=%{customdata[0]}<extra></extra>",
         "hovertext": [
          "addres_district_368M\n(District of the person's address.)"
         ],
         "legendgroup": "addres_district_368M\n(District of the person's address.)",
         "marker": {
          "color": "#EF553B",
          "pattern": {
           "shape": ""
          }
         },
         "name": "addres_district_368M\n(District of the person's address.)",
         "offsetgroup": "addres_district_368M\n(District of the person's address.)",
         "orientation": "v",
         "showlegend": true,
         "textposition": "auto",
         "type": "bar",
         "x": [
          "addres_district_368M\n(District of the person's address.)"
         ],
         "xaxis": "x",
         "y": [
          0
         ],
         "yaxis": "y"
        },
        {
         "alignmentgroup": "True",
         "customdata": [
          [
           0.96
          ]
         ],
         "hovertemplate": "<b>%{hovertext}</b><br><br>column=%{x}<br>column_0=%{y}<br>percent=%{customdata[0]}<extra></extra>",
         "hovertext": [
          "addres_role_871L\n(Role of person's address.)"
         ],
         "legendgroup": "addres_role_871L\n(Role of person's address.)",
         "marker": {
          "color": "#00cc96",
          "pattern": {
           "shape": ""
          }
         },
         "name": "addres_role_871L\n(Role of person's address.)",
         "offsetgroup": "addres_role_871L\n(Role of person's address.)",
         "orientation": "v",
         "showlegend": true,
         "textposition": "auto",
         "type": "bar",
         "x": [
          "addres_role_871L\n(Role of person's address.)"
         ],
         "xaxis": "x",
         "y": [
          1575736
         ],
         "yaxis": "y"
        },
        {
         "alignmentgroup": "True",
         "customdata": [
          [
           0
          ]
         ],
         "hovertemplate": "<b>%{hovertext}</b><br><br>column=%{x}<br>column_0=%{y}<br>percent=%{customdata[0]}<extra></extra>",
         "hovertext": [
          "addres_zip_823M\n(Zip code of the address.)"
         ],
         "legendgroup": "addres_zip_823M\n(Zip code of the address.)",
         "marker": {
          "color": "#ab63fa",
          "pattern": {
           "shape": ""
          }
         },
         "name": "addres_zip_823M\n(Zip code of the address.)",
         "offsetgroup": "addres_zip_823M\n(Zip code of the address.)",
         "orientation": "v",
         "showlegend": true,
         "textposition": "auto",
         "type": "bar",
         "x": [
          "addres_zip_823M\n(Zip code of the address.)"
         ],
         "xaxis": "x",
         "y": [
          0
         ],
         "yaxis": "y"
        },
        {
         "alignmentgroup": "True",
         "customdata": [
          [
           0
          ]
         ],
         "hovertemplate": "<b>%{hovertext}</b><br><br>column=%{x}<br>column_0=%{y}<br>percent=%{customdata[0]}<extra></extra>",
         "hovertext": [
          "conts_role_79M\n(Type of contact role of a person.)"
         ],
         "legendgroup": "conts_role_79M\n(Type of contact role of a person.)",
         "marker": {
          "color": "#FFA15A",
          "pattern": {
           "shape": ""
          }
         },
         "name": "conts_role_79M\n(Type of contact role of a person.)",
         "offsetgroup": "conts_role_79M\n(Type of contact role of a person.)",
         "orientation": "v",
         "showlegend": true,
         "textposition": "auto",
         "type": "bar",
         "x": [
          "conts_role_79M\n(Type of contact role of a person.)"
         ],
         "xaxis": "x",
         "y": [
          0
         ],
         "yaxis": "y"
        },
        {
         "alignmentgroup": "True",
         "customdata": [
          [
           0
          ]
         ],
         "hovertemplate": "<b>%{hovertext}</b><br><br>column=%{x}<br>column_0=%{y}<br>percent=%{customdata[0]}<extra></extra>",
         "hovertext": [
          "empls_economicalst_849M\n(The economical status of the person (num_group1 - person, num_group2 - employment).)"
         ],
         "legendgroup": "empls_economicalst_849M\n(The economical status of the person (num_group1 - person, num_group2 - employment).)",
         "marker": {
          "color": "#19d3f3",
          "pattern": {
           "shape": ""
          }
         },
         "name": "empls_economicalst_849M\n(The economical status of the person (num_group1 - person, num_group2 - employment).)",
         "offsetgroup": "empls_economicalst_849M\n(The economical status of the person (num_group1 - person, num_group2 - employment).)",
         "orientation": "v",
         "showlegend": true,
         "textposition": "auto",
         "type": "bar",
         "x": [
          "empls_economicalst_849M\n(The economical status of the person (num_group1 - person, num_group2 - employment).)"
         ],
         "xaxis": "x",
         "y": [
          0
         ],
         "yaxis": "y"
        },
        {
         "alignmentgroup": "True",
         "customdata": [
          [
           1
          ]
         ],
         "hovertemplate": "<b>%{hovertext}</b><br><br>column=%{x}<br>column_0=%{y}<br>percent=%{customdata[0]}<extra></extra>",
         "hovertext": [
          "empls_employedfrom_796D\n(Start of employment (num_group1 - person, num_group2 - employment).)"
         ],
         "legendgroup": "empls_employedfrom_796D\n(Start of employment (num_group1 - person, num_group2 - employment).)",
         "marker": {
          "color": "#FF6692",
          "pattern": {
           "shape": ""
          }
         },
         "name": "empls_employedfrom_796D\n(Start of employment (num_group1 - person, num_group2 - employment).)",
         "offsetgroup": "empls_employedfrom_796D\n(Start of employment (num_group1 - person, num_group2 - employment).)",
         "orientation": "v",
         "showlegend": true,
         "textposition": "auto",
         "type": "bar",
         "x": [
          "empls_employedfrom_796D\n(Start of employment (num_group1 - person, num_group2 - employment).)"
         ],
         "xaxis": "x",
         "y": [
          1637653
         ],
         "yaxis": "y"
        },
        {
         "alignmentgroup": "True",
         "customdata": [
          [
           0
          ]
         ],
         "hovertemplate": "<b>%{hovertext}</b><br><br>column=%{x}<br>column_0=%{y}<br>percent=%{customdata[0]}<extra></extra>",
         "hovertext": [
          "empls_employer_name_740M\n(Employer's name (num_group1 - person, num_group2 - employment).)"
         ],
         "legendgroup": "empls_employer_name_740M\n(Employer's name (num_group1 - person, num_group2 - employment).)",
         "marker": {
          "color": "#B6E880",
          "pattern": {
           "shape": ""
          }
         },
         "name": "empls_employer_name_740M\n(Employer's name (num_group1 - person, num_group2 - employment).)",
         "offsetgroup": "empls_employer_name_740M\n(Employer's name (num_group1 - person, num_group2 - employment).)",
         "orientation": "v",
         "showlegend": true,
         "textposition": "auto",
         "type": "bar",
         "x": [
          "empls_employer_name_740M\n(Employer's name (num_group1 - person, num_group2 - employment).)"
         ],
         "xaxis": "x",
         "y": [
          0
         ],
         "yaxis": "y"
        },
        {
         "alignmentgroup": "True",
         "customdata": [
          [
           0
          ]
         ],
         "hovertemplate": "<b>%{hovertext}</b><br><br>column=%{x}<br>column_0=%{y}<br>percent=%{customdata[0]}<extra></extra>",
         "hovertext": [
          "num_group1"
         ],
         "legendgroup": "num_group1",
         "marker": {
          "color": "#FF97FF",
          "pattern": {
           "shape": ""
          }
         },
         "name": "num_group1",
         "offsetgroup": "num_group1",
         "orientation": "v",
         "showlegend": true,
         "textposition": "auto",
         "type": "bar",
         "x": [
          "num_group1"
         ],
         "xaxis": "x",
         "y": [
          0
         ],
         "yaxis": "y"
        },
        {
         "alignmentgroup": "True",
         "customdata": [
          [
           0
          ]
         ],
         "hovertemplate": "<b>%{hovertext}</b><br><br>column=%{x}<br>column_0=%{y}<br>percent=%{customdata[0]}<extra></extra>",
         "hovertext": [
          "num_group2"
         ],
         "legendgroup": "num_group2",
         "marker": {
          "color": "#FECB52",
          "pattern": {
           "shape": ""
          }
         },
         "name": "num_group2",
         "offsetgroup": "num_group2",
         "orientation": "v",
         "showlegend": true,
         "textposition": "auto",
         "type": "bar",
         "x": [
          "num_group2"
         ],
         "xaxis": "x",
         "y": [
          0
         ],
         "yaxis": "y"
        },
        {
         "alignmentgroup": "True",
         "customdata": [
          [
           0.98
          ]
         ],
         "hovertemplate": "<b>%{hovertext}</b><br><br>column=%{x}<br>column_0=%{y}<br>percent=%{customdata[0]}<extra></extra>",
         "hovertext": [
          "relatedpersons_role_762T\n(Relationship type of a client's related person (num_group1 - person, num_group2 - related person).)"
         ],
         "legendgroup": "relatedpersons_role_762T\n(Relationship type of a client's related person (num_group1 - person, num_group2 - related person).)",
         "marker": {
          "color": "#636efa",
          "pattern": {
           "shape": ""
          }
         },
         "name": "relatedpersons_role_762T\n(Relationship type of a client's related person (num_group1 - person, num_group2 - related person).)",
         "offsetgroup": "relatedpersons_role_762T\n(Relationship type of a client's related person (num_group1 - person, num_group2 - related person).)",
         "orientation": "v",
         "showlegend": true,
         "textposition": "auto",
         "type": "bar",
         "x": [
          "relatedpersons_role_762T\n(Relationship type of a client's related person (num_group1 - person, num_group2 - related person).)"
         ],
         "xaxis": "x",
         "y": [
          1614684
         ],
         "yaxis": "y"
        }
       ],
       "layout": {
        "annotations": [
         {
          "showarrow": false,
          "text": "Total rows",
          "x": 1,
          "xanchor": "right",
          "xref": "x domain",
          "y": 1643410,
          "yanchor": "bottom",
          "yref": "y"
         }
        ],
        "barmode": "relative",
        "height": 900,
        "legend": {
         "title": {
          "text": "column"
         },
         "tracegroupgap": 10
        },
        "margin": {
         "t": 60
        },
        "shapes": [
         {
          "line": {
           "dash": "dashdot"
          },
          "type": "line",
          "x0": 0,
          "x1": 1,
          "xref": "x domain",
          "y0": 1643410,
          "y1": 1643410,
          "yref": "y"
         }
        ],
        "template": {
         "data": {
          "bar": [
           {
            "error_x": {
             "color": "#f2f5fa"
            },
            "error_y": {
             "color": "#f2f5fa"
            },
            "marker": {
             "line": {
              "color": "rgb(17,17,17)",
              "width": 0.5
             },
             "pattern": {
              "fillmode": "overlay",
              "size": 10,
              "solidity": 0.2
             }
            },
            "type": "bar"
           }
          ],
          "barpolar": [
           {
            "marker": {
             "line": {
              "color": "rgb(17,17,17)",
              "width": 0.5
             },
             "pattern": {
              "fillmode": "overlay",
              "size": 10,
              "solidity": 0.2
             }
            },
            "type": "barpolar"
           }
          ],
          "carpet": [
           {
            "aaxis": {
             "endlinecolor": "#A2B1C6",
             "gridcolor": "#506784",
             "linecolor": "#506784",
             "minorgridcolor": "#506784",
             "startlinecolor": "#A2B1C6"
            },
            "baxis": {
             "endlinecolor": "#A2B1C6",
             "gridcolor": "#506784",
             "linecolor": "#506784",
             "minorgridcolor": "#506784",
             "startlinecolor": "#A2B1C6"
            },
            "type": "carpet"
           }
          ],
          "choropleth": [
           {
            "colorbar": {
             "outlinewidth": 0,
             "ticks": ""
            },
            "type": "choropleth"
           }
          ],
          "contour": [
           {
            "colorbar": {
             "outlinewidth": 0,
             "ticks": ""
            },
            "colorscale": [
             [
              0,
              "#0d0887"
             ],
             [
              0.1111111111111111,
              "#46039f"
             ],
             [
              0.2222222222222222,
              "#7201a8"
             ],
             [
              0.3333333333333333,
              "#9c179e"
             ],
             [
              0.4444444444444444,
              "#bd3786"
             ],
             [
              0.5555555555555556,
              "#d8576b"
             ],
             [
              0.6666666666666666,
              "#ed7953"
             ],
             [
              0.7777777777777778,
              "#fb9f3a"
             ],
             [
              0.8888888888888888,
              "#fdca26"
             ],
             [
              1,
              "#f0f921"
             ]
            ],
            "type": "contour"
           }
          ],
          "contourcarpet": [
           {
            "colorbar": {
             "outlinewidth": 0,
             "ticks": ""
            },
            "type": "contourcarpet"
           }
          ],
          "heatmap": [
           {
            "colorbar": {
             "outlinewidth": 0,
             "ticks": ""
            },
            "colorscale": [
             [
              0,
              "#0d0887"
             ],
             [
              0.1111111111111111,
              "#46039f"
             ],
             [
              0.2222222222222222,
              "#7201a8"
             ],
             [
              0.3333333333333333,
              "#9c179e"
             ],
             [
              0.4444444444444444,
              "#bd3786"
             ],
             [
              0.5555555555555556,
              "#d8576b"
             ],
             [
              0.6666666666666666,
              "#ed7953"
             ],
             [
              0.7777777777777778,
              "#fb9f3a"
             ],
             [
              0.8888888888888888,
              "#fdca26"
             ],
             [
              1,
              "#f0f921"
             ]
            ],
            "type": "heatmap"
           }
          ],
          "heatmapgl": [
           {
            "colorbar": {
             "outlinewidth": 0,
             "ticks": ""
            },
            "colorscale": [
             [
              0,
              "#0d0887"
             ],
             [
              0.1111111111111111,
              "#46039f"
             ],
             [
              0.2222222222222222,
              "#7201a8"
             ],
             [
              0.3333333333333333,
              "#9c179e"
             ],
             [
              0.4444444444444444,
              "#bd3786"
             ],
             [
              0.5555555555555556,
              "#d8576b"
             ],
             [
              0.6666666666666666,
              "#ed7953"
             ],
             [
              0.7777777777777778,
              "#fb9f3a"
             ],
             [
              0.8888888888888888,
              "#fdca26"
             ],
             [
              1,
              "#f0f921"
             ]
            ],
            "type": "heatmapgl"
           }
          ],
          "histogram": [
           {
            "marker": {
             "pattern": {
              "fillmode": "overlay",
              "size": 10,
              "solidity": 0.2
             }
            },
            "type": "histogram"
           }
          ],
          "histogram2d": [
           {
            "colorbar": {
             "outlinewidth": 0,
             "ticks": ""
            },
            "colorscale": [
             [
              0,
              "#0d0887"
             ],
             [
              0.1111111111111111,
              "#46039f"
             ],
             [
              0.2222222222222222,
              "#7201a8"
             ],
             [
              0.3333333333333333,
              "#9c179e"
             ],
             [
              0.4444444444444444,
              "#bd3786"
             ],
             [
              0.5555555555555556,
              "#d8576b"
             ],
             [
              0.6666666666666666,
              "#ed7953"
             ],
             [
              0.7777777777777778,
              "#fb9f3a"
             ],
             [
              0.8888888888888888,
              "#fdca26"
             ],
             [
              1,
              "#f0f921"
             ]
            ],
            "type": "histogram2d"
           }
          ],
          "histogram2dcontour": [
           {
            "colorbar": {
             "outlinewidth": 0,
             "ticks": ""
            },
            "colorscale": [
             [
              0,
              "#0d0887"
             ],
             [
              0.1111111111111111,
              "#46039f"
             ],
             [
              0.2222222222222222,
              "#7201a8"
             ],
             [
              0.3333333333333333,
              "#9c179e"
             ],
             [
              0.4444444444444444,
              "#bd3786"
             ],
             [
              0.5555555555555556,
              "#d8576b"
             ],
             [
              0.6666666666666666,
              "#ed7953"
             ],
             [
              0.7777777777777778,
              "#fb9f3a"
             ],
             [
              0.8888888888888888,
              "#fdca26"
             ],
             [
              1,
              "#f0f921"
             ]
            ],
            "type": "histogram2dcontour"
           }
          ],
          "mesh3d": [
           {
            "colorbar": {
             "outlinewidth": 0,
             "ticks": ""
            },
            "type": "mesh3d"
           }
          ],
          "parcoords": [
           {
            "line": {
             "colorbar": {
              "outlinewidth": 0,
              "ticks": ""
             }
            },
            "type": "parcoords"
           }
          ],
          "pie": [
           {
            "automargin": true,
            "type": "pie"
           }
          ],
          "scatter": [
           {
            "marker": {
             "line": {
              "color": "#283442"
             }
            },
            "type": "scatter"
           }
          ],
          "scatter3d": [
           {
            "line": {
             "colorbar": {
              "outlinewidth": 0,
              "ticks": ""
             }
            },
            "marker": {
             "colorbar": {
              "outlinewidth": 0,
              "ticks": ""
             }
            },
            "type": "scatter3d"
           }
          ],
          "scattercarpet": [
           {
            "marker": {
             "colorbar": {
              "outlinewidth": 0,
              "ticks": ""
             }
            },
            "type": "scattercarpet"
           }
          ],
          "scattergeo": [
           {
            "marker": {
             "colorbar": {
              "outlinewidth": 0,
              "ticks": ""
             }
            },
            "type": "scattergeo"
           }
          ],
          "scattergl": [
           {
            "marker": {
             "line": {
              "color": "#283442"
             }
            },
            "type": "scattergl"
           }
          ],
          "scattermapbox": [
           {
            "marker": {
             "colorbar": {
              "outlinewidth": 0,
              "ticks": ""
             }
            },
            "type": "scattermapbox"
           }
          ],
          "scatterpolar": [
           {
            "marker": {
             "colorbar": {
              "outlinewidth": 0,
              "ticks": ""
             }
            },
            "type": "scatterpolar"
           }
          ],
          "scatterpolargl": [
           {
            "marker": {
             "colorbar": {
              "outlinewidth": 0,
              "ticks": ""
             }
            },
            "type": "scatterpolargl"
           }
          ],
          "scatterternary": [
           {
            "marker": {
             "colorbar": {
              "outlinewidth": 0,
              "ticks": ""
             }
            },
            "type": "scatterternary"
           }
          ],
          "surface": [
           {
            "colorbar": {
             "outlinewidth": 0,
             "ticks": ""
            },
            "colorscale": [
             [
              0,
              "#0d0887"
             ],
             [
              0.1111111111111111,
              "#46039f"
             ],
             [
              0.2222222222222222,
              "#7201a8"
             ],
             [
              0.3333333333333333,
              "#9c179e"
             ],
             [
              0.4444444444444444,
              "#bd3786"
             ],
             [
              0.5555555555555556,
              "#d8576b"
             ],
             [
              0.6666666666666666,
              "#ed7953"
             ],
             [
              0.7777777777777778,
              "#fb9f3a"
             ],
             [
              0.8888888888888888,
              "#fdca26"
             ],
             [
              1,
              "#f0f921"
             ]
            ],
            "type": "surface"
           }
          ],
          "table": [
           {
            "cells": {
             "fill": {
              "color": "#506784"
             },
             "line": {
              "color": "rgb(17,17,17)"
             }
            },
            "header": {
             "fill": {
              "color": "#2a3f5f"
             },
             "line": {
              "color": "rgb(17,17,17)"
             }
            },
            "type": "table"
           }
          ]
         },
         "layout": {
          "annotationdefaults": {
           "arrowcolor": "#f2f5fa",
           "arrowhead": 0,
           "arrowwidth": 1
          },
          "autotypenumbers": "strict",
          "coloraxis": {
           "colorbar": {
            "outlinewidth": 0,
            "ticks": ""
           }
          },
          "colorscale": {
           "diverging": [
            [
             0,
             "#8e0152"
            ],
            [
             0.1,
             "#c51b7d"
            ],
            [
             0.2,
             "#de77ae"
            ],
            [
             0.3,
             "#f1b6da"
            ],
            [
             0.4,
             "#fde0ef"
            ],
            [
             0.5,
             "#f7f7f7"
            ],
            [
             0.6,
             "#e6f5d0"
            ],
            [
             0.7,
             "#b8e186"
            ],
            [
             0.8,
             "#7fbc41"
            ],
            [
             0.9,
             "#4d9221"
            ],
            [
             1,
             "#276419"
            ]
           ],
           "sequential": [
            [
             0,
             "#0d0887"
            ],
            [
             0.1111111111111111,
             "#46039f"
            ],
            [
             0.2222222222222222,
             "#7201a8"
            ],
            [
             0.3333333333333333,
             "#9c179e"
            ],
            [
             0.4444444444444444,
             "#bd3786"
            ],
            [
             0.5555555555555556,
             "#d8576b"
            ],
            [
             0.6666666666666666,
             "#ed7953"
            ],
            [
             0.7777777777777778,
             "#fb9f3a"
            ],
            [
             0.8888888888888888,
             "#fdca26"
            ],
            [
             1,
             "#f0f921"
            ]
           ],
           "sequentialminus": [
            [
             0,
             "#0d0887"
            ],
            [
             0.1111111111111111,
             "#46039f"
            ],
            [
             0.2222222222222222,
             "#7201a8"
            ],
            [
             0.3333333333333333,
             "#9c179e"
            ],
            [
             0.4444444444444444,
             "#bd3786"
            ],
            [
             0.5555555555555556,
             "#d8576b"
            ],
            [
             0.6666666666666666,
             "#ed7953"
            ],
            [
             0.7777777777777778,
             "#fb9f3a"
            ],
            [
             0.8888888888888888,
             "#fdca26"
            ],
            [
             1,
             "#f0f921"
            ]
           ]
          },
          "colorway": [
           "#636efa",
           "#EF553B",
           "#00cc96",
           "#ab63fa",
           "#FFA15A",
           "#19d3f3",
           "#FF6692",
           "#B6E880",
           "#FF97FF",
           "#FECB52"
          ],
          "font": {
           "color": "#f2f5fa",
           "family": "Monaco",
           "size": 12
          },
          "geo": {
           "bgcolor": "rgb(17,17,17)",
           "lakecolor": "rgb(17,17,17)",
           "landcolor": "rgb(17,17,17)",
           "showlakes": true,
           "showland": true,
           "subunitcolor": "#506784"
          },
          "hoverlabel": {
           "align": "left"
          },
          "hovermode": "closest",
          "mapbox": {
           "style": "dark"
          },
          "paper_bgcolor": "rgb(17,17,17)",
          "plot_bgcolor": "rgb(17,17,17)",
          "polar": {
           "angularaxis": {
            "gridcolor": "#506784",
            "linecolor": "#506784",
            "ticks": ""
           },
           "bgcolor": "rgb(17,17,17)",
           "radialaxis": {
            "gridcolor": "#506784",
            "linecolor": "#506784",
            "ticks": ""
           }
          },
          "scene": {
           "xaxis": {
            "backgroundcolor": "rgb(17,17,17)",
            "gridcolor": "#506784",
            "gridwidth": 2,
            "linecolor": "#506784",
            "showbackground": true,
            "ticks": "",
            "zerolinecolor": "#C8D4E3"
           },
           "yaxis": {
            "backgroundcolor": "rgb(17,17,17)",
            "gridcolor": "#506784",
            "gridwidth": 2,
            "linecolor": "#506784",
            "showbackground": true,
            "ticks": "",
            "zerolinecolor": "#C8D4E3"
           },
           "zaxis": {
            "backgroundcolor": "rgb(17,17,17)",
            "gridcolor": "#506784",
            "gridwidth": 2,
            "linecolor": "#506784",
            "showbackground": true,
            "ticks": "",
            "zerolinecolor": "#C8D4E3"
           }
          },
          "shapedefaults": {
           "line": {
            "color": "#f2f5fa"
           }
          },
          "sliderdefaults": {
           "bgcolor": "#C8D4E3",
           "bordercolor": "rgb(17,17,17)",
           "borderwidth": 1,
           "tickwidth": 0
          },
          "ternary": {
           "aaxis": {
            "gridcolor": "#506784",
            "linecolor": "#506784",
            "ticks": ""
           },
           "baxis": {
            "gridcolor": "#506784",
            "linecolor": "#506784",
            "ticks": ""
           },
           "bgcolor": "rgb(17,17,17)",
           "caxis": {
            "gridcolor": "#506784",
            "linecolor": "#506784",
            "ticks": ""
           }
          },
          "title": {
           "x": 0.05
          },
          "updatemenudefaults": {
           "bgcolor": "#506784",
           "borderwidth": 0
          },
          "xaxis": {
           "automargin": true,
           "gridcolor": "#283442",
           "linecolor": "#506784",
           "ticks": "",
           "title": {
            "standoff": 15
           },
           "zerolinecolor": "#283442",
           "zerolinewidth": 2
          },
          "yaxis": {
           "automargin": true,
           "gridcolor": "#283442",
           "linecolor": "#506784",
           "ticks": "",
           "title": {
            "standoff": 15
           },
           "zerolinecolor": "#283442",
           "zerolinewidth": 2
          }
         }
        },
        "xaxis": {
         "anchor": "y",
         "categoryarray": [
          "case_id",
          "addres_district_368M\n(District of the person's address.)",
          "addres_role_871L\n(Role of person's address.)",
          "addres_zip_823M\n(Zip code of the address.)",
          "conts_role_79M\n(Type of contact role of a person.)",
          "empls_economicalst_849M\n(The economical status of the person (num_group1 - person, num_group2 - employment).)",
          "empls_employedfrom_796D\n(Start of employment (num_group1 - person, num_group2 - employment).)",
          "empls_employer_name_740M\n(Employer's name (num_group1 - person, num_group2 - employment).)",
          "num_group1",
          "num_group2",
          "relatedpersons_role_762T\n(Relationship type of a client's related person (num_group1 - person, num_group2 - related person).)"
         ],
         "categoryorder": "array",
         "domain": [
          0,
          1
         ],
         "showticklabels": false,
         "title": {
          "text": "All Columns"
         }
        },
        "yaxis": {
         "anchor": "x",
         "domain": [
          0,
          1
         ],
         "title": {
          "text": "Null Counts"
         }
        }
       }
      }
     },
     "metadata": {},
     "output_type": "display_data"
    }
   ],
   "source": [
    "train_person_2 = preprocess(25)\n",
    "display(train_person_2.fetch().head())\n",
    "gc.collect()\n",
    "train_person_2.pipe(plot_nulls)"
   ]
  },
  {
   "cell_type": "code",
   "execution_count": 94,
   "metadata": {},
   "outputs": [
    {
     "data": {
      "text/html": [
       "<div><style>\n",
       ".dataframe > thead > tr,\n",
       ".dataframe > tbody > tr {\n",
       "  text-align: right;\n",
       "  white-space: pre-wrap;\n",
       "}\n",
       "</style>\n",
       "<small>shape: (1, 2)</small><table border=\"1\" class=\"dataframe\"><thead><tr><th>index</th><th>filename</th></tr><tr><td>i8</td><td>str</td></tr></thead><tbody><tr><td>23</td><td>&quot;train_other_1.parquet&quot;</td></tr></tbody></table></div>"
      ],
      "text/plain": [
       "shape: (1, 2)\n",
       "┌───────┬───────────────────────┐\n",
       "│ index ┆ filename              │\n",
       "│ ---   ┆ ---                   │\n",
       "│ i8    ┆ str                   │\n",
       "╞═══════╪═══════════════════════╡\n",
       "│ 23    ┆ train_other_1.parquet │\n",
       "└───────┴───────────────────────┘"
      ]
     },
     "execution_count": 94,
     "metadata": {},
     "output_type": "execute_result"
    }
   ],
   "source": [
    "all_files_df.filter(pl.col('filename').str.contains(\"other\"))"
   ]
  },
  {
   "cell_type": "code",
   "execution_count": 83,
   "metadata": {},
   "outputs": [
    {
     "data": {
      "text/html": [
       "<div><style>\n",
       ".dataframe > thead > tr,\n",
       ".dataframe > tbody > tr {\n",
       "  text-align: right;\n",
       "  white-space: pre-wrap;\n",
       "}\n",
       "</style>\n",
       "<small>shape: (5, 7)</small><table border=\"1\" class=\"dataframe\"><thead><tr><th>case_id</th><th>amtdebitincoming_4809443A\n",
       "(Incoming debit card transactions amount.)</th><th>amtdebitoutgoing_4809440A\n",
       "(Outgoing debit card transactions amount.)</th><th>amtdepositbalance_4809441A\n",
       "(Deposit balance of client.)</th><th>amtdepositincoming_4809444A\n",
       "(Amount of incoming deposits to client&#x27;s account.)</th><th>amtdepositoutgoing_4809442A\n",
       "(Amount of outgoing deposits from client&#x27;s account.)</th><th>num_group1</th></tr><tr><td>i32</td><td>f32</td><td>f32</td><td>f32</td><td>f32</td><td>f32</td><td>i8</td></tr></thead><tbody><tr><td>43801</td><td>12466.60</td><td>12291.20</td><td>914.20</td><td>0.00</td><td>304.80</td><td>0</td></tr><tr><td>43991</td><td>3333.40</td><td>3273.40</td><td>0.00</td><td>0.00</td><td>0.00</td><td>0</td></tr><tr><td>44001</td><td>10000.00</td><td>10000.00</td><td>0.00</td><td>0.00</td><td>0.00</td><td>0</td></tr><tr><td>44053</td><td>0.00</td><td>0.00</td><td>2586.40</td><td>0.00</td><td>88.80</td><td>0</td></tr><tr><td>44130</td><td>63.80</td><td>60.80</td><td>0.00</td><td>0.00</td><td>0.00</td><td>0</td></tr></tbody></table></div>"
      ],
      "text/plain": [
       "shape: (5, 7)\n",
       "┌─────────┬───────────────┬──────────────┬──────────────┬──────────────┬──────────────┬────────────┐\n",
       "│ case_id ┆ amtdebitincom ┆ amtdebitoutg ┆ amtdepositba ┆ amtdepositin ┆ amtdepositou ┆ num_group1 │\n",
       "│ ---     ┆ ing_4809443A  ┆ oing_4809440 ┆ lance_480944 ┆ coming_48094 ┆ tgoing_48094 ┆ ---        │\n",
       "│ i32     ┆ (Incoming     ┆ A            ┆ 1A           ┆ 44A          ┆ 42A          ┆ i8         │\n",
       "│         ┆ debit card    ┆ (Outgoing    ┆ (Deposit     ┆ (Amount of   ┆ (Amount of   ┆            │\n",
       "│         ┆ transactions  ┆ debit card   ┆ balance of   ┆ incoming     ┆ outgoing     ┆            │\n",
       "│         ┆ amount.)      ┆ transactions ┆ client.)     ┆ deposits to  ┆ deposits     ┆            │\n",
       "│         ┆ ---           ┆ amount.)     ┆ ---          ┆ client's     ┆ from         ┆            │\n",
       "│         ┆ f32           ┆ ---          ┆ f32          ┆ account.)    ┆ client's     ┆            │\n",
       "│         ┆               ┆ f32          ┆              ┆ ---          ┆ account.)    ┆            │\n",
       "│         ┆               ┆              ┆              ┆ f32          ┆ ---          ┆            │\n",
       "│         ┆               ┆              ┆              ┆              ┆ f32          ┆            │\n",
       "╞═════════╪═══════════════╪══════════════╪══════════════╪══════════════╪══════════════╪════════════╡\n",
       "│ 43801   ┆ 12466.60      ┆ 12291.20     ┆ 914.20       ┆ 0.00         ┆ 304.80       ┆ 0          │\n",
       "│ 43991   ┆ 3333.40       ┆ 3273.40      ┆ 0.00         ┆ 0.00         ┆ 0.00         ┆ 0          │\n",
       "│ 44001   ┆ 10000.00      ┆ 10000.00     ┆ 0.00         ┆ 0.00         ┆ 0.00         ┆ 0          │\n",
       "│ 44053   ┆ 0.00          ┆ 0.00         ┆ 2586.40      ┆ 0.00         ┆ 88.80        ┆ 0          │\n",
       "│ 44130   ┆ 63.80         ┆ 60.80        ┆ 0.00         ┆ 0.00         ┆ 0.00         ┆ 0          │\n",
       "└─────────┴───────────────┴──────────────┴──────────────┴──────────────┴──────────────┴────────────┘"
      ]
     },
     "metadata": {},
     "output_type": "display_data"
    },
    {
     "data": {
      "application/vnd.plotly.v1+json": {
       "config": {
        "plotlyServerURL": "https://plot.ly"
       },
       "data": [
        {
         "alignmentgroup": "True",
         "customdata": [
          [
           0
          ]
         ],
         "hovertemplate": "<b>%{hovertext}</b><br><br>column=%{x}<br>column_0=%{y}<br>percent=%{customdata[0]}<extra></extra>",
         "hovertext": [
          "case_id"
         ],
         "legendgroup": "case_id",
         "marker": {
          "color": "#636efa",
          "pattern": {
           "shape": ""
          }
         },
         "name": "case_id",
         "offsetgroup": "case_id",
         "orientation": "v",
         "showlegend": true,
         "textposition": "auto",
         "type": "bar",
         "x": [
          "case_id"
         ],
         "xaxis": "x",
         "y": [
          0
         ],
         "yaxis": "y"
        },
        {
         "alignmentgroup": "True",
         "customdata": [
          [
           0
          ]
         ],
         "hovertemplate": "<b>%{hovertext}</b><br><br>column=%{x}<br>column_0=%{y}<br>percent=%{customdata[0]}<extra></extra>",
         "hovertext": [
          "amtdebitincoming_4809443A\n(Incoming debit card transactions amount.)"
         ],
         "legendgroup": "amtdebitincoming_4809443A\n(Incoming debit card transactions amount.)",
         "marker": {
          "color": "#EF553B",
          "pattern": {
           "shape": ""
          }
         },
         "name": "amtdebitincoming_4809443A\n(Incoming debit card transactions amount.)",
         "offsetgroup": "amtdebitincoming_4809443A\n(Incoming debit card transactions amount.)",
         "orientation": "v",
         "showlegend": true,
         "textposition": "auto",
         "type": "bar",
         "x": [
          "amtdebitincoming_4809443A\n(Incoming debit card transactions amount.)"
         ],
         "xaxis": "x",
         "y": [
          0
         ],
         "yaxis": "y"
        },
        {
         "alignmentgroup": "True",
         "customdata": [
          [
           0
          ]
         ],
         "hovertemplate": "<b>%{hovertext}</b><br><br>column=%{x}<br>column_0=%{y}<br>percent=%{customdata[0]}<extra></extra>",
         "hovertext": [
          "amtdebitoutgoing_4809440A\n(Outgoing debit card transactions amount.)"
         ],
         "legendgroup": "amtdebitoutgoing_4809440A\n(Outgoing debit card transactions amount.)",
         "marker": {
          "color": "#00cc96",
          "pattern": {
           "shape": ""
          }
         },
         "name": "amtdebitoutgoing_4809440A\n(Outgoing debit card transactions amount.)",
         "offsetgroup": "amtdebitoutgoing_4809440A\n(Outgoing debit card transactions amount.)",
         "orientation": "v",
         "showlegend": true,
         "textposition": "auto",
         "type": "bar",
         "x": [
          "amtdebitoutgoing_4809440A\n(Outgoing debit card transactions amount.)"
         ],
         "xaxis": "x",
         "y": [
          0
         ],
         "yaxis": "y"
        },
        {
         "alignmentgroup": "True",
         "customdata": [
          [
           0
          ]
         ],
         "hovertemplate": "<b>%{hovertext}</b><br><br>column=%{x}<br>column_0=%{y}<br>percent=%{customdata[0]}<extra></extra>",
         "hovertext": [
          "amtdepositbalance_4809441A\n(Deposit balance of client.)"
         ],
         "legendgroup": "amtdepositbalance_4809441A\n(Deposit balance of client.)",
         "marker": {
          "color": "#ab63fa",
          "pattern": {
           "shape": ""
          }
         },
         "name": "amtdepositbalance_4809441A\n(Deposit balance of client.)",
         "offsetgroup": "amtdepositbalance_4809441A\n(Deposit balance of client.)",
         "orientation": "v",
         "showlegend": true,
         "textposition": "auto",
         "type": "bar",
         "x": [
          "amtdepositbalance_4809441A\n(Deposit balance of client.)"
         ],
         "xaxis": "x",
         "y": [
          0
         ],
         "yaxis": "y"
        },
        {
         "alignmentgroup": "True",
         "customdata": [
          [
           0
          ]
         ],
         "hovertemplate": "<b>%{hovertext}</b><br><br>column=%{x}<br>column_0=%{y}<br>percent=%{customdata[0]}<extra></extra>",
         "hovertext": [
          "amtdepositincoming_4809444A\n(Amount of incoming deposits to client's account.)"
         ],
         "legendgroup": "amtdepositincoming_4809444A\n(Amount of incoming deposits to client's account.)",
         "marker": {
          "color": "#FFA15A",
          "pattern": {
           "shape": ""
          }
         },
         "name": "amtdepositincoming_4809444A\n(Amount of incoming deposits to client's account.)",
         "offsetgroup": "amtdepositincoming_4809444A\n(Amount of incoming deposits to client's account.)",
         "orientation": "v",
         "showlegend": true,
         "textposition": "auto",
         "type": "bar",
         "x": [
          "amtdepositincoming_4809444A\n(Amount of incoming deposits to client's account.)"
         ],
         "xaxis": "x",
         "y": [
          0
         ],
         "yaxis": "y"
        },
        {
         "alignmentgroup": "True",
         "customdata": [
          [
           0
          ]
         ],
         "hovertemplate": "<b>%{hovertext}</b><br><br>column=%{x}<br>column_0=%{y}<br>percent=%{customdata[0]}<extra></extra>",
         "hovertext": [
          "amtdepositoutgoing_4809442A\n(Amount of outgoing deposits from client's account.)"
         ],
         "legendgroup": "amtdepositoutgoing_4809442A\n(Amount of outgoing deposits from client's account.)",
         "marker": {
          "color": "#19d3f3",
          "pattern": {
           "shape": ""
          }
         },
         "name": "amtdepositoutgoing_4809442A\n(Amount of outgoing deposits from client's account.)",
         "offsetgroup": "amtdepositoutgoing_4809442A\n(Amount of outgoing deposits from client's account.)",
         "orientation": "v",
         "showlegend": true,
         "textposition": "auto",
         "type": "bar",
         "x": [
          "amtdepositoutgoing_4809442A\n(Amount of outgoing deposits from client's account.)"
         ],
         "xaxis": "x",
         "y": [
          0
         ],
         "yaxis": "y"
        },
        {
         "alignmentgroup": "True",
         "customdata": [
          [
           0
          ]
         ],
         "hovertemplate": "<b>%{hovertext}</b><br><br>column=%{x}<br>column_0=%{y}<br>percent=%{customdata[0]}<extra></extra>",
         "hovertext": [
          "num_group1"
         ],
         "legendgroup": "num_group1",
         "marker": {
          "color": "#FF6692",
          "pattern": {
           "shape": ""
          }
         },
         "name": "num_group1",
         "offsetgroup": "num_group1",
         "orientation": "v",
         "showlegend": true,
         "textposition": "auto",
         "type": "bar",
         "x": [
          "num_group1"
         ],
         "xaxis": "x",
         "y": [
          0
         ],
         "yaxis": "y"
        }
       ],
       "layout": {
        "annotations": [
         {
          "showarrow": false,
          "text": "Total rows",
          "x": 1,
          "xanchor": "right",
          "xref": "x domain",
          "y": 51109,
          "yanchor": "bottom",
          "yref": "y"
         }
        ],
        "barmode": "relative",
        "height": 900,
        "legend": {
         "title": {
          "text": "column"
         },
         "tracegroupgap": 10
        },
        "margin": {
         "t": 60
        },
        "shapes": [
         {
          "line": {
           "dash": "dashdot"
          },
          "type": "line",
          "x0": 0,
          "x1": 1,
          "xref": "x domain",
          "y0": 51109,
          "y1": 51109,
          "yref": "y"
         }
        ],
        "template": {
         "data": {
          "bar": [
           {
            "error_x": {
             "color": "#f2f5fa"
            },
            "error_y": {
             "color": "#f2f5fa"
            },
            "marker": {
             "line": {
              "color": "rgb(17,17,17)",
              "width": 0.5
             },
             "pattern": {
              "fillmode": "overlay",
              "size": 10,
              "solidity": 0.2
             }
            },
            "type": "bar"
           }
          ],
          "barpolar": [
           {
            "marker": {
             "line": {
              "color": "rgb(17,17,17)",
              "width": 0.5
             },
             "pattern": {
              "fillmode": "overlay",
              "size": 10,
              "solidity": 0.2
             }
            },
            "type": "barpolar"
           }
          ],
          "carpet": [
           {
            "aaxis": {
             "endlinecolor": "#A2B1C6",
             "gridcolor": "#506784",
             "linecolor": "#506784",
             "minorgridcolor": "#506784",
             "startlinecolor": "#A2B1C6"
            },
            "baxis": {
             "endlinecolor": "#A2B1C6",
             "gridcolor": "#506784",
             "linecolor": "#506784",
             "minorgridcolor": "#506784",
             "startlinecolor": "#A2B1C6"
            },
            "type": "carpet"
           }
          ],
          "choropleth": [
           {
            "colorbar": {
             "outlinewidth": 0,
             "ticks": ""
            },
            "type": "choropleth"
           }
          ],
          "contour": [
           {
            "colorbar": {
             "outlinewidth": 0,
             "ticks": ""
            },
            "colorscale": [
             [
              0,
              "#0d0887"
             ],
             [
              0.1111111111111111,
              "#46039f"
             ],
             [
              0.2222222222222222,
              "#7201a8"
             ],
             [
              0.3333333333333333,
              "#9c179e"
             ],
             [
              0.4444444444444444,
              "#bd3786"
             ],
             [
              0.5555555555555556,
              "#d8576b"
             ],
             [
              0.6666666666666666,
              "#ed7953"
             ],
             [
              0.7777777777777778,
              "#fb9f3a"
             ],
             [
              0.8888888888888888,
              "#fdca26"
             ],
             [
              1,
              "#f0f921"
             ]
            ],
            "type": "contour"
           }
          ],
          "contourcarpet": [
           {
            "colorbar": {
             "outlinewidth": 0,
             "ticks": ""
            },
            "type": "contourcarpet"
           }
          ],
          "heatmap": [
           {
            "colorbar": {
             "outlinewidth": 0,
             "ticks": ""
            },
            "colorscale": [
             [
              0,
              "#0d0887"
             ],
             [
              0.1111111111111111,
              "#46039f"
             ],
             [
              0.2222222222222222,
              "#7201a8"
             ],
             [
              0.3333333333333333,
              "#9c179e"
             ],
             [
              0.4444444444444444,
              "#bd3786"
             ],
             [
              0.5555555555555556,
              "#d8576b"
             ],
             [
              0.6666666666666666,
              "#ed7953"
             ],
             [
              0.7777777777777778,
              "#fb9f3a"
             ],
             [
              0.8888888888888888,
              "#fdca26"
             ],
             [
              1,
              "#f0f921"
             ]
            ],
            "type": "heatmap"
           }
          ],
          "heatmapgl": [
           {
            "colorbar": {
             "outlinewidth": 0,
             "ticks": ""
            },
            "colorscale": [
             [
              0,
              "#0d0887"
             ],
             [
              0.1111111111111111,
              "#46039f"
             ],
             [
              0.2222222222222222,
              "#7201a8"
             ],
             [
              0.3333333333333333,
              "#9c179e"
             ],
             [
              0.4444444444444444,
              "#bd3786"
             ],
             [
              0.5555555555555556,
              "#d8576b"
             ],
             [
              0.6666666666666666,
              "#ed7953"
             ],
             [
              0.7777777777777778,
              "#fb9f3a"
             ],
             [
              0.8888888888888888,
              "#fdca26"
             ],
             [
              1,
              "#f0f921"
             ]
            ],
            "type": "heatmapgl"
           }
          ],
          "histogram": [
           {
            "marker": {
             "pattern": {
              "fillmode": "overlay",
              "size": 10,
              "solidity": 0.2
             }
            },
            "type": "histogram"
           }
          ],
          "histogram2d": [
           {
            "colorbar": {
             "outlinewidth": 0,
             "ticks": ""
            },
            "colorscale": [
             [
              0,
              "#0d0887"
             ],
             [
              0.1111111111111111,
              "#46039f"
             ],
             [
              0.2222222222222222,
              "#7201a8"
             ],
             [
              0.3333333333333333,
              "#9c179e"
             ],
             [
              0.4444444444444444,
              "#bd3786"
             ],
             [
              0.5555555555555556,
              "#d8576b"
             ],
             [
              0.6666666666666666,
              "#ed7953"
             ],
             [
              0.7777777777777778,
              "#fb9f3a"
             ],
             [
              0.8888888888888888,
              "#fdca26"
             ],
             [
              1,
              "#f0f921"
             ]
            ],
            "type": "histogram2d"
           }
          ],
          "histogram2dcontour": [
           {
            "colorbar": {
             "outlinewidth": 0,
             "ticks": ""
            },
            "colorscale": [
             [
              0,
              "#0d0887"
             ],
             [
              0.1111111111111111,
              "#46039f"
             ],
             [
              0.2222222222222222,
              "#7201a8"
             ],
             [
              0.3333333333333333,
              "#9c179e"
             ],
             [
              0.4444444444444444,
              "#bd3786"
             ],
             [
              0.5555555555555556,
              "#d8576b"
             ],
             [
              0.6666666666666666,
              "#ed7953"
             ],
             [
              0.7777777777777778,
              "#fb9f3a"
             ],
             [
              0.8888888888888888,
              "#fdca26"
             ],
             [
              1,
              "#f0f921"
             ]
            ],
            "type": "histogram2dcontour"
           }
          ],
          "mesh3d": [
           {
            "colorbar": {
             "outlinewidth": 0,
             "ticks": ""
            },
            "type": "mesh3d"
           }
          ],
          "parcoords": [
           {
            "line": {
             "colorbar": {
              "outlinewidth": 0,
              "ticks": ""
             }
            },
            "type": "parcoords"
           }
          ],
          "pie": [
           {
            "automargin": true,
            "type": "pie"
           }
          ],
          "scatter": [
           {
            "marker": {
             "line": {
              "color": "#283442"
             }
            },
            "type": "scatter"
           }
          ],
          "scatter3d": [
           {
            "line": {
             "colorbar": {
              "outlinewidth": 0,
              "ticks": ""
             }
            },
            "marker": {
             "colorbar": {
              "outlinewidth": 0,
              "ticks": ""
             }
            },
            "type": "scatter3d"
           }
          ],
          "scattercarpet": [
           {
            "marker": {
             "colorbar": {
              "outlinewidth": 0,
              "ticks": ""
             }
            },
            "type": "scattercarpet"
           }
          ],
          "scattergeo": [
           {
            "marker": {
             "colorbar": {
              "outlinewidth": 0,
              "ticks": ""
             }
            },
            "type": "scattergeo"
           }
          ],
          "scattergl": [
           {
            "marker": {
             "line": {
              "color": "#283442"
             }
            },
            "type": "scattergl"
           }
          ],
          "scattermapbox": [
           {
            "marker": {
             "colorbar": {
              "outlinewidth": 0,
              "ticks": ""
             }
            },
            "type": "scattermapbox"
           }
          ],
          "scatterpolar": [
           {
            "marker": {
             "colorbar": {
              "outlinewidth": 0,
              "ticks": ""
             }
            },
            "type": "scatterpolar"
           }
          ],
          "scatterpolargl": [
           {
            "marker": {
             "colorbar": {
              "outlinewidth": 0,
              "ticks": ""
             }
            },
            "type": "scatterpolargl"
           }
          ],
          "scatterternary": [
           {
            "marker": {
             "colorbar": {
              "outlinewidth": 0,
              "ticks": ""
             }
            },
            "type": "scatterternary"
           }
          ],
          "surface": [
           {
            "colorbar": {
             "outlinewidth": 0,
             "ticks": ""
            },
            "colorscale": [
             [
              0,
              "#0d0887"
             ],
             [
              0.1111111111111111,
              "#46039f"
             ],
             [
              0.2222222222222222,
              "#7201a8"
             ],
             [
              0.3333333333333333,
              "#9c179e"
             ],
             [
              0.4444444444444444,
              "#bd3786"
             ],
             [
              0.5555555555555556,
              "#d8576b"
             ],
             [
              0.6666666666666666,
              "#ed7953"
             ],
             [
              0.7777777777777778,
              "#fb9f3a"
             ],
             [
              0.8888888888888888,
              "#fdca26"
             ],
             [
              1,
              "#f0f921"
             ]
            ],
            "type": "surface"
           }
          ],
          "table": [
           {
            "cells": {
             "fill": {
              "color": "#506784"
             },
             "line": {
              "color": "rgb(17,17,17)"
             }
            },
            "header": {
             "fill": {
              "color": "#2a3f5f"
             },
             "line": {
              "color": "rgb(17,17,17)"
             }
            },
            "type": "table"
           }
          ]
         },
         "layout": {
          "annotationdefaults": {
           "arrowcolor": "#f2f5fa",
           "arrowhead": 0,
           "arrowwidth": 1
          },
          "autotypenumbers": "strict",
          "coloraxis": {
           "colorbar": {
            "outlinewidth": 0,
            "ticks": ""
           }
          },
          "colorscale": {
           "diverging": [
            [
             0,
             "#8e0152"
            ],
            [
             0.1,
             "#c51b7d"
            ],
            [
             0.2,
             "#de77ae"
            ],
            [
             0.3,
             "#f1b6da"
            ],
            [
             0.4,
             "#fde0ef"
            ],
            [
             0.5,
             "#f7f7f7"
            ],
            [
             0.6,
             "#e6f5d0"
            ],
            [
             0.7,
             "#b8e186"
            ],
            [
             0.8,
             "#7fbc41"
            ],
            [
             0.9,
             "#4d9221"
            ],
            [
             1,
             "#276419"
            ]
           ],
           "sequential": [
            [
             0,
             "#0d0887"
            ],
            [
             0.1111111111111111,
             "#46039f"
            ],
            [
             0.2222222222222222,
             "#7201a8"
            ],
            [
             0.3333333333333333,
             "#9c179e"
            ],
            [
             0.4444444444444444,
             "#bd3786"
            ],
            [
             0.5555555555555556,
             "#d8576b"
            ],
            [
             0.6666666666666666,
             "#ed7953"
            ],
            [
             0.7777777777777778,
             "#fb9f3a"
            ],
            [
             0.8888888888888888,
             "#fdca26"
            ],
            [
             1,
             "#f0f921"
            ]
           ],
           "sequentialminus": [
            [
             0,
             "#0d0887"
            ],
            [
             0.1111111111111111,
             "#46039f"
            ],
            [
             0.2222222222222222,
             "#7201a8"
            ],
            [
             0.3333333333333333,
             "#9c179e"
            ],
            [
             0.4444444444444444,
             "#bd3786"
            ],
            [
             0.5555555555555556,
             "#d8576b"
            ],
            [
             0.6666666666666666,
             "#ed7953"
            ],
            [
             0.7777777777777778,
             "#fb9f3a"
            ],
            [
             0.8888888888888888,
             "#fdca26"
            ],
            [
             1,
             "#f0f921"
            ]
           ]
          },
          "colorway": [
           "#636efa",
           "#EF553B",
           "#00cc96",
           "#ab63fa",
           "#FFA15A",
           "#19d3f3",
           "#FF6692",
           "#B6E880",
           "#FF97FF",
           "#FECB52"
          ],
          "font": {
           "color": "#f2f5fa",
           "family": "Monaco",
           "size": 12
          },
          "geo": {
           "bgcolor": "rgb(17,17,17)",
           "lakecolor": "rgb(17,17,17)",
           "landcolor": "rgb(17,17,17)",
           "showlakes": true,
           "showland": true,
           "subunitcolor": "#506784"
          },
          "hoverlabel": {
           "align": "left"
          },
          "hovermode": "closest",
          "mapbox": {
           "style": "dark"
          },
          "paper_bgcolor": "rgb(17,17,17)",
          "plot_bgcolor": "rgb(17,17,17)",
          "polar": {
           "angularaxis": {
            "gridcolor": "#506784",
            "linecolor": "#506784",
            "ticks": ""
           },
           "bgcolor": "rgb(17,17,17)",
           "radialaxis": {
            "gridcolor": "#506784",
            "linecolor": "#506784",
            "ticks": ""
           }
          },
          "scene": {
           "xaxis": {
            "backgroundcolor": "rgb(17,17,17)",
            "gridcolor": "#506784",
            "gridwidth": 2,
            "linecolor": "#506784",
            "showbackground": true,
            "ticks": "",
            "zerolinecolor": "#C8D4E3"
           },
           "yaxis": {
            "backgroundcolor": "rgb(17,17,17)",
            "gridcolor": "#506784",
            "gridwidth": 2,
            "linecolor": "#506784",
            "showbackground": true,
            "ticks": "",
            "zerolinecolor": "#C8D4E3"
           },
           "zaxis": {
            "backgroundcolor": "rgb(17,17,17)",
            "gridcolor": "#506784",
            "gridwidth": 2,
            "linecolor": "#506784",
            "showbackground": true,
            "ticks": "",
            "zerolinecolor": "#C8D4E3"
           }
          },
          "shapedefaults": {
           "line": {
            "color": "#f2f5fa"
           }
          },
          "sliderdefaults": {
           "bgcolor": "#C8D4E3",
           "bordercolor": "rgb(17,17,17)",
           "borderwidth": 1,
           "tickwidth": 0
          },
          "ternary": {
           "aaxis": {
            "gridcolor": "#506784",
            "linecolor": "#506784",
            "ticks": ""
           },
           "baxis": {
            "gridcolor": "#506784",
            "linecolor": "#506784",
            "ticks": ""
           },
           "bgcolor": "rgb(17,17,17)",
           "caxis": {
            "gridcolor": "#506784",
            "linecolor": "#506784",
            "ticks": ""
           }
          },
          "title": {
           "x": 0.05
          },
          "updatemenudefaults": {
           "bgcolor": "#506784",
           "borderwidth": 0
          },
          "xaxis": {
           "automargin": true,
           "gridcolor": "#283442",
           "linecolor": "#506784",
           "ticks": "",
           "title": {
            "standoff": 15
           },
           "zerolinecolor": "#283442",
           "zerolinewidth": 2
          },
          "yaxis": {
           "automargin": true,
           "gridcolor": "#283442",
           "linecolor": "#506784",
           "ticks": "",
           "title": {
            "standoff": 15
           },
           "zerolinecolor": "#283442",
           "zerolinewidth": 2
          }
         }
        },
        "xaxis": {
         "anchor": "y",
         "categoryarray": [
          "case_id",
          "amtdebitincoming_4809443A\n(Incoming debit card transactions amount.)",
          "amtdebitoutgoing_4809440A\n(Outgoing debit card transactions amount.)",
          "amtdepositbalance_4809441A\n(Deposit balance of client.)",
          "amtdepositincoming_4809444A\n(Amount of incoming deposits to client's account.)",
          "amtdepositoutgoing_4809442A\n(Amount of outgoing deposits from client's account.)",
          "num_group1"
         ],
         "categoryorder": "array",
         "domain": [
          0,
          1
         ],
         "showticklabels": false,
         "title": {
          "text": "All Columns"
         }
        },
        "yaxis": {
         "anchor": "x",
         "domain": [
          0,
          1
         ],
         "title": {
          "text": "Null Counts"
         }
        }
       }
      }
     },
     "metadata": {},
     "output_type": "display_data"
    }
   ],
   "source": [
    "train_other = preprocess(23)\n",
    "display(train_other.fetch().head())\n",
    "train_other.pipe(plot_nulls)"
   ]
  },
  {
   "cell_type": "markdown",
   "metadata": {},
   "source": [
    "## Train Tax Registry"
   ]
  },
  {
   "cell_type": "code",
   "execution_count": 93,
   "metadata": {},
   "outputs": [
    {
     "data": {
      "text/html": [
       "<div><style>\n",
       ".dataframe > thead > tr,\n",
       ".dataframe > tbody > tr {\n",
       "  text-align: right;\n",
       "  white-space: pre-wrap;\n",
       "}\n",
       "</style>\n",
       "<small>shape: (3, 2)</small><table border=\"1\" class=\"dataframe\"><thead><tr><th>index</th><th>filename</th></tr><tr><td>i8</td><td>str</td></tr></thead><tbody><tr><td>29</td><td>&quot;train_tax_registry_a_1.parquet&quot;</td></tr><tr><td>30</td><td>&quot;train_tax_registry_b_1.parquet&quot;</td></tr><tr><td>31</td><td>&quot;train_tax_registry_c_1.parquet&quot;</td></tr></tbody></table></div>"
      ],
      "text/plain": [
       "shape: (3, 2)\n",
       "┌───────┬────────────────────────────────┐\n",
       "│ index ┆ filename                       │\n",
       "│ ---   ┆ ---                            │\n",
       "│ i8    ┆ str                            │\n",
       "╞═══════╪════════════════════════════════╡\n",
       "│ 29    ┆ train_tax_registry_a_1.parquet │\n",
       "│ 30    ┆ train_tax_registry_b_1.parquet │\n",
       "│ 31    ┆ train_tax_registry_c_1.parquet │\n",
       "└───────┴────────────────────────────────┘"
      ]
     },
     "execution_count": 93,
     "metadata": {},
     "output_type": "execute_result"
    }
   ],
   "source": [
    "all_files_df.filter(pl.col(\"filename\").str.contains(\"registry\"))"
   ]
  },
  {
   "cell_type": "code",
   "execution_count": 84,
   "metadata": {},
   "outputs": [
    {
     "data": {
      "text/html": [
       "<div><style>\n",
       ".dataframe > thead > tr,\n",
       ".dataframe > tbody > tr {\n",
       "  text-align: right;\n",
       "  white-space: pre-wrap;\n",
       "}\n",
       "</style>\n",
       "<small>shape: (5, 4)</small><table border=\"1\" class=\"dataframe\"><thead><tr><th>case_id</th><th>amount_4527230A\n",
       "(Tax deductions amount tracked by the government registry.)</th><th>name_4527232M\n",
       "(Name of employer.)</th><th>num_group1</th></tr><tr><td>i16</td><td>f32</td><td>str</td><td>i8</td></tr></thead><tbody><tr><td>28631</td><td>1946.00</td><td>&quot;f980a1ea&quot;</td><td>2</td></tr><tr><td>28631</td><td>711.00</td><td>&quot;f980a1ea&quot;</td><td>3</td></tr><tr><td>28631</td><td>3616.40</td><td>&quot;f980a1ea&quot;</td><td>0</td></tr><tr><td>28631</td><td>2600.00</td><td>&quot;f980a1ea&quot;</td><td>1</td></tr><tr><td>28632</td><td>2564.00</td><td>&quot;5f9b74f5&quot;</td><td>5</td></tr></tbody></table></div>"
      ],
      "text/plain": [
       "shape: (5, 4)\n",
       "┌─────────┬──────────────────────────────────────────────────┬─────────────────────┬────────────┐\n",
       "│ case_id ┆ amount_4527230A                                  ┆ name_4527232M       ┆ num_group1 │\n",
       "│ ---     ┆ (Tax deductions amount tracked by the government ┆ (Name of employer.) ┆ ---        │\n",
       "│ i16     ┆ registry.)                                       ┆ ---                 ┆ i8         │\n",
       "│         ┆ ---                                              ┆ str                 ┆            │\n",
       "│         ┆ f32                                              ┆                     ┆            │\n",
       "╞═════════╪══════════════════════════════════════════════════╪═════════════════════╪════════════╡\n",
       "│ 28631   ┆ 1946.00                                          ┆ f980a1ea            ┆ 2          │\n",
       "│ 28631   ┆ 711.00                                           ┆ f980a1ea            ┆ 3          │\n",
       "│ 28631   ┆ 3616.40                                          ┆ f980a1ea            ┆ 0          │\n",
       "│ 28631   ┆ 2600.00                                          ┆ f980a1ea            ┆ 1          │\n",
       "│ 28632   ┆ 2564.00                                          ┆ 5f9b74f5            ┆ 5          │\n",
       "└─────────┴──────────────────────────────────────────────────┴─────────────────────┴────────────┘"
      ]
     },
     "metadata": {},
     "output_type": "display_data"
    },
    {
     "data": {
      "application/vnd.plotly.v1+json": {
       "config": {
        "plotlyServerURL": "https://plot.ly"
       },
       "data": [
        {
         "alignmentgroup": "True",
         "customdata": [
          [
           0
          ]
         ],
         "hovertemplate": "<b>%{hovertext}</b><br><br>column=%{x}<br>column_0=%{y}<br>percent=%{customdata[0]}<extra></extra>",
         "hovertext": [
          "case_id"
         ],
         "legendgroup": "case_id",
         "marker": {
          "color": "#636efa",
          "pattern": {
           "shape": ""
          }
         },
         "name": "case_id",
         "offsetgroup": "case_id",
         "orientation": "v",
         "showlegend": true,
         "textposition": "auto",
         "type": "bar",
         "x": [
          "case_id"
         ],
         "xaxis": "x",
         "y": [
          0
         ],
         "yaxis": "y"
        },
        {
         "alignmentgroup": "True",
         "customdata": [
          [
           0
          ]
         ],
         "hovertemplate": "<b>%{hovertext}</b><br><br>column=%{x}<br>column_0=%{y}<br>percent=%{customdata[0]}<extra></extra>",
         "hovertext": [
          "amount_4527230A\n(Tax deductions amount tracked by the government registry.)"
         ],
         "legendgroup": "amount_4527230A\n(Tax deductions amount tracked by the government registry.)",
         "marker": {
          "color": "#EF553B",
          "pattern": {
           "shape": ""
          }
         },
         "name": "amount_4527230A\n(Tax deductions amount tracked by the government registry.)",
         "offsetgroup": "amount_4527230A\n(Tax deductions amount tracked by the government registry.)",
         "orientation": "v",
         "showlegend": true,
         "textposition": "auto",
         "type": "bar",
         "x": [
          "amount_4527230A\n(Tax deductions amount tracked by the government registry.)"
         ],
         "xaxis": "x",
         "y": [
          0
         ],
         "yaxis": "y"
        },
        {
         "alignmentgroup": "True",
         "customdata": [
          [
           0
          ]
         ],
         "hovertemplate": "<b>%{hovertext}</b><br><br>column=%{x}<br>column_0=%{y}<br>percent=%{customdata[0]}<extra></extra>",
         "hovertext": [
          "name_4527232M\n(Name of employer.)"
         ],
         "legendgroup": "name_4527232M\n(Name of employer.)",
         "marker": {
          "color": "#00cc96",
          "pattern": {
           "shape": ""
          }
         },
         "name": "name_4527232M\n(Name of employer.)",
         "offsetgroup": "name_4527232M\n(Name of employer.)",
         "orientation": "v",
         "showlegend": true,
         "textposition": "auto",
         "type": "bar",
         "x": [
          "name_4527232M\n(Name of employer.)"
         ],
         "xaxis": "x",
         "y": [
          0
         ],
         "yaxis": "y"
        },
        {
         "alignmentgroup": "True",
         "customdata": [
          [
           0
          ]
         ],
         "hovertemplate": "<b>%{hovertext}</b><br><br>column=%{x}<br>column_0=%{y}<br>percent=%{customdata[0]}<extra></extra>",
         "hovertext": [
          "num_group1"
         ],
         "legendgroup": "num_group1",
         "marker": {
          "color": "#ab63fa",
          "pattern": {
           "shape": ""
          }
         },
         "name": "num_group1",
         "offsetgroup": "num_group1",
         "orientation": "v",
         "showlegend": true,
         "textposition": "auto",
         "type": "bar",
         "x": [
          "num_group1"
         ],
         "xaxis": "x",
         "y": [
          0
         ],
         "yaxis": "y"
        }
       ],
       "layout": {
        "annotations": [
         {
          "showarrow": false,
          "text": "Total rows",
          "x": 1,
          "xanchor": "right",
          "xref": "x domain",
          "y": 3275770,
          "yanchor": "bottom",
          "yref": "y"
         }
        ],
        "barmode": "relative",
        "height": 900,
        "legend": {
         "title": {
          "text": "column"
         },
         "tracegroupgap": 10
        },
        "margin": {
         "t": 60
        },
        "shapes": [
         {
          "line": {
           "dash": "dashdot"
          },
          "type": "line",
          "x0": 0,
          "x1": 1,
          "xref": "x domain",
          "y0": 3275770,
          "y1": 3275770,
          "yref": "y"
         }
        ],
        "template": {
         "data": {
          "bar": [
           {
            "error_x": {
             "color": "#f2f5fa"
            },
            "error_y": {
             "color": "#f2f5fa"
            },
            "marker": {
             "line": {
              "color": "rgb(17,17,17)",
              "width": 0.5
             },
             "pattern": {
              "fillmode": "overlay",
              "size": 10,
              "solidity": 0.2
             }
            },
            "type": "bar"
           }
          ],
          "barpolar": [
           {
            "marker": {
             "line": {
              "color": "rgb(17,17,17)",
              "width": 0.5
             },
             "pattern": {
              "fillmode": "overlay",
              "size": 10,
              "solidity": 0.2
             }
            },
            "type": "barpolar"
           }
          ],
          "carpet": [
           {
            "aaxis": {
             "endlinecolor": "#A2B1C6",
             "gridcolor": "#506784",
             "linecolor": "#506784",
             "minorgridcolor": "#506784",
             "startlinecolor": "#A2B1C6"
            },
            "baxis": {
             "endlinecolor": "#A2B1C6",
             "gridcolor": "#506784",
             "linecolor": "#506784",
             "minorgridcolor": "#506784",
             "startlinecolor": "#A2B1C6"
            },
            "type": "carpet"
           }
          ],
          "choropleth": [
           {
            "colorbar": {
             "outlinewidth": 0,
             "ticks": ""
            },
            "type": "choropleth"
           }
          ],
          "contour": [
           {
            "colorbar": {
             "outlinewidth": 0,
             "ticks": ""
            },
            "colorscale": [
             [
              0,
              "#0d0887"
             ],
             [
              0.1111111111111111,
              "#46039f"
             ],
             [
              0.2222222222222222,
              "#7201a8"
             ],
             [
              0.3333333333333333,
              "#9c179e"
             ],
             [
              0.4444444444444444,
              "#bd3786"
             ],
             [
              0.5555555555555556,
              "#d8576b"
             ],
             [
              0.6666666666666666,
              "#ed7953"
             ],
             [
              0.7777777777777778,
              "#fb9f3a"
             ],
             [
              0.8888888888888888,
              "#fdca26"
             ],
             [
              1,
              "#f0f921"
             ]
            ],
            "type": "contour"
           }
          ],
          "contourcarpet": [
           {
            "colorbar": {
             "outlinewidth": 0,
             "ticks": ""
            },
            "type": "contourcarpet"
           }
          ],
          "heatmap": [
           {
            "colorbar": {
             "outlinewidth": 0,
             "ticks": ""
            },
            "colorscale": [
             [
              0,
              "#0d0887"
             ],
             [
              0.1111111111111111,
              "#46039f"
             ],
             [
              0.2222222222222222,
              "#7201a8"
             ],
             [
              0.3333333333333333,
              "#9c179e"
             ],
             [
              0.4444444444444444,
              "#bd3786"
             ],
             [
              0.5555555555555556,
              "#d8576b"
             ],
             [
              0.6666666666666666,
              "#ed7953"
             ],
             [
              0.7777777777777778,
              "#fb9f3a"
             ],
             [
              0.8888888888888888,
              "#fdca26"
             ],
             [
              1,
              "#f0f921"
             ]
            ],
            "type": "heatmap"
           }
          ],
          "heatmapgl": [
           {
            "colorbar": {
             "outlinewidth": 0,
             "ticks": ""
            },
            "colorscale": [
             [
              0,
              "#0d0887"
             ],
             [
              0.1111111111111111,
              "#46039f"
             ],
             [
              0.2222222222222222,
              "#7201a8"
             ],
             [
              0.3333333333333333,
              "#9c179e"
             ],
             [
              0.4444444444444444,
              "#bd3786"
             ],
             [
              0.5555555555555556,
              "#d8576b"
             ],
             [
              0.6666666666666666,
              "#ed7953"
             ],
             [
              0.7777777777777778,
              "#fb9f3a"
             ],
             [
              0.8888888888888888,
              "#fdca26"
             ],
             [
              1,
              "#f0f921"
             ]
            ],
            "type": "heatmapgl"
           }
          ],
          "histogram": [
           {
            "marker": {
             "pattern": {
              "fillmode": "overlay",
              "size": 10,
              "solidity": 0.2
             }
            },
            "type": "histogram"
           }
          ],
          "histogram2d": [
           {
            "colorbar": {
             "outlinewidth": 0,
             "ticks": ""
            },
            "colorscale": [
             [
              0,
              "#0d0887"
             ],
             [
              0.1111111111111111,
              "#46039f"
             ],
             [
              0.2222222222222222,
              "#7201a8"
             ],
             [
              0.3333333333333333,
              "#9c179e"
             ],
             [
              0.4444444444444444,
              "#bd3786"
             ],
             [
              0.5555555555555556,
              "#d8576b"
             ],
             [
              0.6666666666666666,
              "#ed7953"
             ],
             [
              0.7777777777777778,
              "#fb9f3a"
             ],
             [
              0.8888888888888888,
              "#fdca26"
             ],
             [
              1,
              "#f0f921"
             ]
            ],
            "type": "histogram2d"
           }
          ],
          "histogram2dcontour": [
           {
            "colorbar": {
             "outlinewidth": 0,
             "ticks": ""
            },
            "colorscale": [
             [
              0,
              "#0d0887"
             ],
             [
              0.1111111111111111,
              "#46039f"
             ],
             [
              0.2222222222222222,
              "#7201a8"
             ],
             [
              0.3333333333333333,
              "#9c179e"
             ],
             [
              0.4444444444444444,
              "#bd3786"
             ],
             [
              0.5555555555555556,
              "#d8576b"
             ],
             [
              0.6666666666666666,
              "#ed7953"
             ],
             [
              0.7777777777777778,
              "#fb9f3a"
             ],
             [
              0.8888888888888888,
              "#fdca26"
             ],
             [
              1,
              "#f0f921"
             ]
            ],
            "type": "histogram2dcontour"
           }
          ],
          "mesh3d": [
           {
            "colorbar": {
             "outlinewidth": 0,
             "ticks": ""
            },
            "type": "mesh3d"
           }
          ],
          "parcoords": [
           {
            "line": {
             "colorbar": {
              "outlinewidth": 0,
              "ticks": ""
             }
            },
            "type": "parcoords"
           }
          ],
          "pie": [
           {
            "automargin": true,
            "type": "pie"
           }
          ],
          "scatter": [
           {
            "marker": {
             "line": {
              "color": "#283442"
             }
            },
            "type": "scatter"
           }
          ],
          "scatter3d": [
           {
            "line": {
             "colorbar": {
              "outlinewidth": 0,
              "ticks": ""
             }
            },
            "marker": {
             "colorbar": {
              "outlinewidth": 0,
              "ticks": ""
             }
            },
            "type": "scatter3d"
           }
          ],
          "scattercarpet": [
           {
            "marker": {
             "colorbar": {
              "outlinewidth": 0,
              "ticks": ""
             }
            },
            "type": "scattercarpet"
           }
          ],
          "scattergeo": [
           {
            "marker": {
             "colorbar": {
              "outlinewidth": 0,
              "ticks": ""
             }
            },
            "type": "scattergeo"
           }
          ],
          "scattergl": [
           {
            "marker": {
             "line": {
              "color": "#283442"
             }
            },
            "type": "scattergl"
           }
          ],
          "scattermapbox": [
           {
            "marker": {
             "colorbar": {
              "outlinewidth": 0,
              "ticks": ""
             }
            },
            "type": "scattermapbox"
           }
          ],
          "scatterpolar": [
           {
            "marker": {
             "colorbar": {
              "outlinewidth": 0,
              "ticks": ""
             }
            },
            "type": "scatterpolar"
           }
          ],
          "scatterpolargl": [
           {
            "marker": {
             "colorbar": {
              "outlinewidth": 0,
              "ticks": ""
             }
            },
            "type": "scatterpolargl"
           }
          ],
          "scatterternary": [
           {
            "marker": {
             "colorbar": {
              "outlinewidth": 0,
              "ticks": ""
             }
            },
            "type": "scatterternary"
           }
          ],
          "surface": [
           {
            "colorbar": {
             "outlinewidth": 0,
             "ticks": ""
            },
            "colorscale": [
             [
              0,
              "#0d0887"
             ],
             [
              0.1111111111111111,
              "#46039f"
             ],
             [
              0.2222222222222222,
              "#7201a8"
             ],
             [
              0.3333333333333333,
              "#9c179e"
             ],
             [
              0.4444444444444444,
              "#bd3786"
             ],
             [
              0.5555555555555556,
              "#d8576b"
             ],
             [
              0.6666666666666666,
              "#ed7953"
             ],
             [
              0.7777777777777778,
              "#fb9f3a"
             ],
             [
              0.8888888888888888,
              "#fdca26"
             ],
             [
              1,
              "#f0f921"
             ]
            ],
            "type": "surface"
           }
          ],
          "table": [
           {
            "cells": {
             "fill": {
              "color": "#506784"
             },
             "line": {
              "color": "rgb(17,17,17)"
             }
            },
            "header": {
             "fill": {
              "color": "#2a3f5f"
             },
             "line": {
              "color": "rgb(17,17,17)"
             }
            },
            "type": "table"
           }
          ]
         },
         "layout": {
          "annotationdefaults": {
           "arrowcolor": "#f2f5fa",
           "arrowhead": 0,
           "arrowwidth": 1
          },
          "autotypenumbers": "strict",
          "coloraxis": {
           "colorbar": {
            "outlinewidth": 0,
            "ticks": ""
           }
          },
          "colorscale": {
           "diverging": [
            [
             0,
             "#8e0152"
            ],
            [
             0.1,
             "#c51b7d"
            ],
            [
             0.2,
             "#de77ae"
            ],
            [
             0.3,
             "#f1b6da"
            ],
            [
             0.4,
             "#fde0ef"
            ],
            [
             0.5,
             "#f7f7f7"
            ],
            [
             0.6,
             "#e6f5d0"
            ],
            [
             0.7,
             "#b8e186"
            ],
            [
             0.8,
             "#7fbc41"
            ],
            [
             0.9,
             "#4d9221"
            ],
            [
             1,
             "#276419"
            ]
           ],
           "sequential": [
            [
             0,
             "#0d0887"
            ],
            [
             0.1111111111111111,
             "#46039f"
            ],
            [
             0.2222222222222222,
             "#7201a8"
            ],
            [
             0.3333333333333333,
             "#9c179e"
            ],
            [
             0.4444444444444444,
             "#bd3786"
            ],
            [
             0.5555555555555556,
             "#d8576b"
            ],
            [
             0.6666666666666666,
             "#ed7953"
            ],
            [
             0.7777777777777778,
             "#fb9f3a"
            ],
            [
             0.8888888888888888,
             "#fdca26"
            ],
            [
             1,
             "#f0f921"
            ]
           ],
           "sequentialminus": [
            [
             0,
             "#0d0887"
            ],
            [
             0.1111111111111111,
             "#46039f"
            ],
            [
             0.2222222222222222,
             "#7201a8"
            ],
            [
             0.3333333333333333,
             "#9c179e"
            ],
            [
             0.4444444444444444,
             "#bd3786"
            ],
            [
             0.5555555555555556,
             "#d8576b"
            ],
            [
             0.6666666666666666,
             "#ed7953"
            ],
            [
             0.7777777777777778,
             "#fb9f3a"
            ],
            [
             0.8888888888888888,
             "#fdca26"
            ],
            [
             1,
             "#f0f921"
            ]
           ]
          },
          "colorway": [
           "#636efa",
           "#EF553B",
           "#00cc96",
           "#ab63fa",
           "#FFA15A",
           "#19d3f3",
           "#FF6692",
           "#B6E880",
           "#FF97FF",
           "#FECB52"
          ],
          "font": {
           "color": "#f2f5fa",
           "family": "Monaco",
           "size": 12
          },
          "geo": {
           "bgcolor": "rgb(17,17,17)",
           "lakecolor": "rgb(17,17,17)",
           "landcolor": "rgb(17,17,17)",
           "showlakes": true,
           "showland": true,
           "subunitcolor": "#506784"
          },
          "hoverlabel": {
           "align": "left"
          },
          "hovermode": "closest",
          "mapbox": {
           "style": "dark"
          },
          "paper_bgcolor": "rgb(17,17,17)",
          "plot_bgcolor": "rgb(17,17,17)",
          "polar": {
           "angularaxis": {
            "gridcolor": "#506784",
            "linecolor": "#506784",
            "ticks": ""
           },
           "bgcolor": "rgb(17,17,17)",
           "radialaxis": {
            "gridcolor": "#506784",
            "linecolor": "#506784",
            "ticks": ""
           }
          },
          "scene": {
           "xaxis": {
            "backgroundcolor": "rgb(17,17,17)",
            "gridcolor": "#506784",
            "gridwidth": 2,
            "linecolor": "#506784",
            "showbackground": true,
            "ticks": "",
            "zerolinecolor": "#C8D4E3"
           },
           "yaxis": {
            "backgroundcolor": "rgb(17,17,17)",
            "gridcolor": "#506784",
            "gridwidth": 2,
            "linecolor": "#506784",
            "showbackground": true,
            "ticks": "",
            "zerolinecolor": "#C8D4E3"
           },
           "zaxis": {
            "backgroundcolor": "rgb(17,17,17)",
            "gridcolor": "#506784",
            "gridwidth": 2,
            "linecolor": "#506784",
            "showbackground": true,
            "ticks": "",
            "zerolinecolor": "#C8D4E3"
           }
          },
          "shapedefaults": {
           "line": {
            "color": "#f2f5fa"
           }
          },
          "sliderdefaults": {
           "bgcolor": "#C8D4E3",
           "bordercolor": "rgb(17,17,17)",
           "borderwidth": 1,
           "tickwidth": 0
          },
          "ternary": {
           "aaxis": {
            "gridcolor": "#506784",
            "linecolor": "#506784",
            "ticks": ""
           },
           "baxis": {
            "gridcolor": "#506784",
            "linecolor": "#506784",
            "ticks": ""
           },
           "bgcolor": "rgb(17,17,17)",
           "caxis": {
            "gridcolor": "#506784",
            "linecolor": "#506784",
            "ticks": ""
           }
          },
          "title": {
           "x": 0.05
          },
          "updatemenudefaults": {
           "bgcolor": "#506784",
           "borderwidth": 0
          },
          "xaxis": {
           "automargin": true,
           "gridcolor": "#283442",
           "linecolor": "#506784",
           "ticks": "",
           "title": {
            "standoff": 15
           },
           "zerolinecolor": "#283442",
           "zerolinewidth": 2
          },
          "yaxis": {
           "automargin": true,
           "gridcolor": "#283442",
           "linecolor": "#506784",
           "ticks": "",
           "title": {
            "standoff": 15
           },
           "zerolinecolor": "#283442",
           "zerolinewidth": 2
          }
         }
        },
        "xaxis": {
         "anchor": "y",
         "categoryarray": [
          "case_id",
          "amount_4527230A\n(Tax deductions amount tracked by the government registry.)",
          "name_4527232M\n(Name of employer.)",
          "num_group1"
         ],
         "categoryorder": "array",
         "domain": [
          0,
          1
         ],
         "showticklabels": false,
         "title": {
          "text": "All Columns"
         }
        },
        "yaxis": {
         "anchor": "x",
         "domain": [
          0,
          1
         ],
         "title": {
          "text": "Null Counts"
         }
        }
       }
      }
     },
     "metadata": {},
     "output_type": "display_data"
    }
   ],
   "source": [
    "train_tax_registry_1 = preprocess(29)\n",
    "display(train_tax_registry_1.fetch().head())\n",
    "train_tax_registry_1.pipe(plot_nulls)"
   ]
  },
  {
   "cell_type": "code",
   "execution_count": 85,
   "metadata": {},
   "outputs": [
    {
     "data": {
      "text/html": [
       "<div><style>\n",
       ".dataframe > thead > tr,\n",
       ".dataframe > tbody > tr {\n",
       "  text-align: right;\n",
       "  white-space: pre-wrap;\n",
       "}\n",
       "</style>\n",
       "<small>shape: (5, 4)</small><table border=\"1\" class=\"dataframe\"><thead><tr><th>case_id</th><th>amount_4917619A\n",
       "(Tax deductions amount tracked by the government registry.)</th><th>name_4917606M\n",
       "(Name of employer.)</th><th>num_group1</th></tr><tr><td>i32</td><td>f32</td><td>str</td><td>i8</td></tr></thead><tbody><tr><td>49435</td><td>6885.00</td><td>&quot;6b730375&quot;</td><td>7</td></tr><tr><td>49435</td><td>6885.00</td><td>&quot;6b730375&quot;</td><td>1</td></tr><tr><td>49435</td><td>6885.00</td><td>&quot;6b730375&quot;</td><td>8</td></tr><tr><td>49435</td><td>6885.00</td><td>&quot;6b730375&quot;</td><td>3</td></tr><tr><td>49435</td><td>6885.00</td><td>&quot;6b730375&quot;</td><td>4</td></tr></tbody></table></div>"
      ],
      "text/plain": [
       "shape: (5, 4)\n",
       "┌─────────┬──────────────────────────────────────────────────┬─────────────────────┬────────────┐\n",
       "│ case_id ┆ amount_4917619A                                  ┆ name_4917606M       ┆ num_group1 │\n",
       "│ ---     ┆ (Tax deductions amount tracked by the government ┆ (Name of employer.) ┆ ---        │\n",
       "│ i32     ┆ registry.)                                       ┆ ---                 ┆ i8         │\n",
       "│         ┆ ---                                              ┆ str                 ┆            │\n",
       "│         ┆ f32                                              ┆                     ┆            │\n",
       "╞═════════╪══════════════════════════════════════════════════╪═════════════════════╪════════════╡\n",
       "│ 49435   ┆ 6885.00                                          ┆ 6b730375            ┆ 7          │\n",
       "│ 49435   ┆ 6885.00                                          ┆ 6b730375            ┆ 1          │\n",
       "│ 49435   ┆ 6885.00                                          ┆ 6b730375            ┆ 8          │\n",
       "│ 49435   ┆ 6885.00                                          ┆ 6b730375            ┆ 3          │\n",
       "│ 49435   ┆ 6885.00                                          ┆ 6b730375            ┆ 4          │\n",
       "└─────────┴──────────────────────────────────────────────────┴─────────────────────┴────────────┘"
      ]
     },
     "metadata": {},
     "output_type": "display_data"
    },
    {
     "data": {
      "application/vnd.plotly.v1+json": {
       "config": {
        "plotlyServerURL": "https://plot.ly"
       },
       "data": [
        {
         "alignmentgroup": "True",
         "customdata": [
          [
           0
          ]
         ],
         "hovertemplate": "<b>%{hovertext}</b><br><br>column=%{x}<br>column_0=%{y}<br>percent=%{customdata[0]}<extra></extra>",
         "hovertext": [
          "case_id"
         ],
         "legendgroup": "case_id",
         "marker": {
          "color": "#636efa",
          "pattern": {
           "shape": ""
          }
         },
         "name": "case_id",
         "offsetgroup": "case_id",
         "orientation": "v",
         "showlegend": true,
         "textposition": "auto",
         "type": "bar",
         "x": [
          "case_id"
         ],
         "xaxis": "x",
         "y": [
          0
         ],
         "yaxis": "y"
        },
        {
         "alignmentgroup": "True",
         "customdata": [
          [
           0
          ]
         ],
         "hovertemplate": "<b>%{hovertext}</b><br><br>column=%{x}<br>column_0=%{y}<br>percent=%{customdata[0]}<extra></extra>",
         "hovertext": [
          "amount_4917619A\n(Tax deductions amount tracked by the government registry.)"
         ],
         "legendgroup": "amount_4917619A\n(Tax deductions amount tracked by the government registry.)",
         "marker": {
          "color": "#EF553B",
          "pattern": {
           "shape": ""
          }
         },
         "name": "amount_4917619A\n(Tax deductions amount tracked by the government registry.)",
         "offsetgroup": "amount_4917619A\n(Tax deductions amount tracked by the government registry.)",
         "orientation": "v",
         "showlegend": true,
         "textposition": "auto",
         "type": "bar",
         "x": [
          "amount_4917619A\n(Tax deductions amount tracked by the government registry.)"
         ],
         "xaxis": "x",
         "y": [
          0
         ],
         "yaxis": "y"
        },
        {
         "alignmentgroup": "True",
         "customdata": [
          [
           0
          ]
         ],
         "hovertemplate": "<b>%{hovertext}</b><br><br>column=%{x}<br>column_0=%{y}<br>percent=%{customdata[0]}<extra></extra>",
         "hovertext": [
          "name_4917606M\n(Name of employer.)"
         ],
         "legendgroup": "name_4917606M\n(Name of employer.)",
         "marker": {
          "color": "#00cc96",
          "pattern": {
           "shape": ""
          }
         },
         "name": "name_4917606M\n(Name of employer.)",
         "offsetgroup": "name_4917606M\n(Name of employer.)",
         "orientation": "v",
         "showlegend": true,
         "textposition": "auto",
         "type": "bar",
         "x": [
          "name_4917606M\n(Name of employer.)"
         ],
         "xaxis": "x",
         "y": [
          0
         ],
         "yaxis": "y"
        },
        {
         "alignmentgroup": "True",
         "customdata": [
          [
           0
          ]
         ],
         "hovertemplate": "<b>%{hovertext}</b><br><br>column=%{x}<br>column_0=%{y}<br>percent=%{customdata[0]}<extra></extra>",
         "hovertext": [
          "num_group1"
         ],
         "legendgroup": "num_group1",
         "marker": {
          "color": "#ab63fa",
          "pattern": {
           "shape": ""
          }
         },
         "name": "num_group1",
         "offsetgroup": "num_group1",
         "orientation": "v",
         "showlegend": true,
         "textposition": "auto",
         "type": "bar",
         "x": [
          "num_group1"
         ],
         "xaxis": "x",
         "y": [
          0
         ],
         "yaxis": "y"
        }
       ],
       "layout": {
        "annotations": [
         {
          "showarrow": false,
          "text": "Total rows",
          "x": 1,
          "xanchor": "right",
          "xref": "x domain",
          "y": 1107933,
          "yanchor": "bottom",
          "yref": "y"
         }
        ],
        "barmode": "relative",
        "height": 900,
        "legend": {
         "title": {
          "text": "column"
         },
         "tracegroupgap": 10
        },
        "margin": {
         "t": 60
        },
        "shapes": [
         {
          "line": {
           "dash": "dashdot"
          },
          "type": "line",
          "x0": 0,
          "x1": 1,
          "xref": "x domain",
          "y0": 1107933,
          "y1": 1107933,
          "yref": "y"
         }
        ],
        "template": {
         "data": {
          "bar": [
           {
            "error_x": {
             "color": "#f2f5fa"
            },
            "error_y": {
             "color": "#f2f5fa"
            },
            "marker": {
             "line": {
              "color": "rgb(17,17,17)",
              "width": 0.5
             },
             "pattern": {
              "fillmode": "overlay",
              "size": 10,
              "solidity": 0.2
             }
            },
            "type": "bar"
           }
          ],
          "barpolar": [
           {
            "marker": {
             "line": {
              "color": "rgb(17,17,17)",
              "width": 0.5
             },
             "pattern": {
              "fillmode": "overlay",
              "size": 10,
              "solidity": 0.2
             }
            },
            "type": "barpolar"
           }
          ],
          "carpet": [
           {
            "aaxis": {
             "endlinecolor": "#A2B1C6",
             "gridcolor": "#506784",
             "linecolor": "#506784",
             "minorgridcolor": "#506784",
             "startlinecolor": "#A2B1C6"
            },
            "baxis": {
             "endlinecolor": "#A2B1C6",
             "gridcolor": "#506784",
             "linecolor": "#506784",
             "minorgridcolor": "#506784",
             "startlinecolor": "#A2B1C6"
            },
            "type": "carpet"
           }
          ],
          "choropleth": [
           {
            "colorbar": {
             "outlinewidth": 0,
             "ticks": ""
            },
            "type": "choropleth"
           }
          ],
          "contour": [
           {
            "colorbar": {
             "outlinewidth": 0,
             "ticks": ""
            },
            "colorscale": [
             [
              0,
              "#0d0887"
             ],
             [
              0.1111111111111111,
              "#46039f"
             ],
             [
              0.2222222222222222,
              "#7201a8"
             ],
             [
              0.3333333333333333,
              "#9c179e"
             ],
             [
              0.4444444444444444,
              "#bd3786"
             ],
             [
              0.5555555555555556,
              "#d8576b"
             ],
             [
              0.6666666666666666,
              "#ed7953"
             ],
             [
              0.7777777777777778,
              "#fb9f3a"
             ],
             [
              0.8888888888888888,
              "#fdca26"
             ],
             [
              1,
              "#f0f921"
             ]
            ],
            "type": "contour"
           }
          ],
          "contourcarpet": [
           {
            "colorbar": {
             "outlinewidth": 0,
             "ticks": ""
            },
            "type": "contourcarpet"
           }
          ],
          "heatmap": [
           {
            "colorbar": {
             "outlinewidth": 0,
             "ticks": ""
            },
            "colorscale": [
             [
              0,
              "#0d0887"
             ],
             [
              0.1111111111111111,
              "#46039f"
             ],
             [
              0.2222222222222222,
              "#7201a8"
             ],
             [
              0.3333333333333333,
              "#9c179e"
             ],
             [
              0.4444444444444444,
              "#bd3786"
             ],
             [
              0.5555555555555556,
              "#d8576b"
             ],
             [
              0.6666666666666666,
              "#ed7953"
             ],
             [
              0.7777777777777778,
              "#fb9f3a"
             ],
             [
              0.8888888888888888,
              "#fdca26"
             ],
             [
              1,
              "#f0f921"
             ]
            ],
            "type": "heatmap"
           }
          ],
          "heatmapgl": [
           {
            "colorbar": {
             "outlinewidth": 0,
             "ticks": ""
            },
            "colorscale": [
             [
              0,
              "#0d0887"
             ],
             [
              0.1111111111111111,
              "#46039f"
             ],
             [
              0.2222222222222222,
              "#7201a8"
             ],
             [
              0.3333333333333333,
              "#9c179e"
             ],
             [
              0.4444444444444444,
              "#bd3786"
             ],
             [
              0.5555555555555556,
              "#d8576b"
             ],
             [
              0.6666666666666666,
              "#ed7953"
             ],
             [
              0.7777777777777778,
              "#fb9f3a"
             ],
             [
              0.8888888888888888,
              "#fdca26"
             ],
             [
              1,
              "#f0f921"
             ]
            ],
            "type": "heatmapgl"
           }
          ],
          "histogram": [
           {
            "marker": {
             "pattern": {
              "fillmode": "overlay",
              "size": 10,
              "solidity": 0.2
             }
            },
            "type": "histogram"
           }
          ],
          "histogram2d": [
           {
            "colorbar": {
             "outlinewidth": 0,
             "ticks": ""
            },
            "colorscale": [
             [
              0,
              "#0d0887"
             ],
             [
              0.1111111111111111,
              "#46039f"
             ],
             [
              0.2222222222222222,
              "#7201a8"
             ],
             [
              0.3333333333333333,
              "#9c179e"
             ],
             [
              0.4444444444444444,
              "#bd3786"
             ],
             [
              0.5555555555555556,
              "#d8576b"
             ],
             [
              0.6666666666666666,
              "#ed7953"
             ],
             [
              0.7777777777777778,
              "#fb9f3a"
             ],
             [
              0.8888888888888888,
              "#fdca26"
             ],
             [
              1,
              "#f0f921"
             ]
            ],
            "type": "histogram2d"
           }
          ],
          "histogram2dcontour": [
           {
            "colorbar": {
             "outlinewidth": 0,
             "ticks": ""
            },
            "colorscale": [
             [
              0,
              "#0d0887"
             ],
             [
              0.1111111111111111,
              "#46039f"
             ],
             [
              0.2222222222222222,
              "#7201a8"
             ],
             [
              0.3333333333333333,
              "#9c179e"
             ],
             [
              0.4444444444444444,
              "#bd3786"
             ],
             [
              0.5555555555555556,
              "#d8576b"
             ],
             [
              0.6666666666666666,
              "#ed7953"
             ],
             [
              0.7777777777777778,
              "#fb9f3a"
             ],
             [
              0.8888888888888888,
              "#fdca26"
             ],
             [
              1,
              "#f0f921"
             ]
            ],
            "type": "histogram2dcontour"
           }
          ],
          "mesh3d": [
           {
            "colorbar": {
             "outlinewidth": 0,
             "ticks": ""
            },
            "type": "mesh3d"
           }
          ],
          "parcoords": [
           {
            "line": {
             "colorbar": {
              "outlinewidth": 0,
              "ticks": ""
             }
            },
            "type": "parcoords"
           }
          ],
          "pie": [
           {
            "automargin": true,
            "type": "pie"
           }
          ],
          "scatter": [
           {
            "marker": {
             "line": {
              "color": "#283442"
             }
            },
            "type": "scatter"
           }
          ],
          "scatter3d": [
           {
            "line": {
             "colorbar": {
              "outlinewidth": 0,
              "ticks": ""
             }
            },
            "marker": {
             "colorbar": {
              "outlinewidth": 0,
              "ticks": ""
             }
            },
            "type": "scatter3d"
           }
          ],
          "scattercarpet": [
           {
            "marker": {
             "colorbar": {
              "outlinewidth": 0,
              "ticks": ""
             }
            },
            "type": "scattercarpet"
           }
          ],
          "scattergeo": [
           {
            "marker": {
             "colorbar": {
              "outlinewidth": 0,
              "ticks": ""
             }
            },
            "type": "scattergeo"
           }
          ],
          "scattergl": [
           {
            "marker": {
             "line": {
              "color": "#283442"
             }
            },
            "type": "scattergl"
           }
          ],
          "scattermapbox": [
           {
            "marker": {
             "colorbar": {
              "outlinewidth": 0,
              "ticks": ""
             }
            },
            "type": "scattermapbox"
           }
          ],
          "scatterpolar": [
           {
            "marker": {
             "colorbar": {
              "outlinewidth": 0,
              "ticks": ""
             }
            },
            "type": "scatterpolar"
           }
          ],
          "scatterpolargl": [
           {
            "marker": {
             "colorbar": {
              "outlinewidth": 0,
              "ticks": ""
             }
            },
            "type": "scatterpolargl"
           }
          ],
          "scatterternary": [
           {
            "marker": {
             "colorbar": {
              "outlinewidth": 0,
              "ticks": ""
             }
            },
            "type": "scatterternary"
           }
          ],
          "surface": [
           {
            "colorbar": {
             "outlinewidth": 0,
             "ticks": ""
            },
            "colorscale": [
             [
              0,
              "#0d0887"
             ],
             [
              0.1111111111111111,
              "#46039f"
             ],
             [
              0.2222222222222222,
              "#7201a8"
             ],
             [
              0.3333333333333333,
              "#9c179e"
             ],
             [
              0.4444444444444444,
              "#bd3786"
             ],
             [
              0.5555555555555556,
              "#d8576b"
             ],
             [
              0.6666666666666666,
              "#ed7953"
             ],
             [
              0.7777777777777778,
              "#fb9f3a"
             ],
             [
              0.8888888888888888,
              "#fdca26"
             ],
             [
              1,
              "#f0f921"
             ]
            ],
            "type": "surface"
           }
          ],
          "table": [
           {
            "cells": {
             "fill": {
              "color": "#506784"
             },
             "line": {
              "color": "rgb(17,17,17)"
             }
            },
            "header": {
             "fill": {
              "color": "#2a3f5f"
             },
             "line": {
              "color": "rgb(17,17,17)"
             }
            },
            "type": "table"
           }
          ]
         },
         "layout": {
          "annotationdefaults": {
           "arrowcolor": "#f2f5fa",
           "arrowhead": 0,
           "arrowwidth": 1
          },
          "autotypenumbers": "strict",
          "coloraxis": {
           "colorbar": {
            "outlinewidth": 0,
            "ticks": ""
           }
          },
          "colorscale": {
           "diverging": [
            [
             0,
             "#8e0152"
            ],
            [
             0.1,
             "#c51b7d"
            ],
            [
             0.2,
             "#de77ae"
            ],
            [
             0.3,
             "#f1b6da"
            ],
            [
             0.4,
             "#fde0ef"
            ],
            [
             0.5,
             "#f7f7f7"
            ],
            [
             0.6,
             "#e6f5d0"
            ],
            [
             0.7,
             "#b8e186"
            ],
            [
             0.8,
             "#7fbc41"
            ],
            [
             0.9,
             "#4d9221"
            ],
            [
             1,
             "#276419"
            ]
           ],
           "sequential": [
            [
             0,
             "#0d0887"
            ],
            [
             0.1111111111111111,
             "#46039f"
            ],
            [
             0.2222222222222222,
             "#7201a8"
            ],
            [
             0.3333333333333333,
             "#9c179e"
            ],
            [
             0.4444444444444444,
             "#bd3786"
            ],
            [
             0.5555555555555556,
             "#d8576b"
            ],
            [
             0.6666666666666666,
             "#ed7953"
            ],
            [
             0.7777777777777778,
             "#fb9f3a"
            ],
            [
             0.8888888888888888,
             "#fdca26"
            ],
            [
             1,
             "#f0f921"
            ]
           ],
           "sequentialminus": [
            [
             0,
             "#0d0887"
            ],
            [
             0.1111111111111111,
             "#46039f"
            ],
            [
             0.2222222222222222,
             "#7201a8"
            ],
            [
             0.3333333333333333,
             "#9c179e"
            ],
            [
             0.4444444444444444,
             "#bd3786"
            ],
            [
             0.5555555555555556,
             "#d8576b"
            ],
            [
             0.6666666666666666,
             "#ed7953"
            ],
            [
             0.7777777777777778,
             "#fb9f3a"
            ],
            [
             0.8888888888888888,
             "#fdca26"
            ],
            [
             1,
             "#f0f921"
            ]
           ]
          },
          "colorway": [
           "#636efa",
           "#EF553B",
           "#00cc96",
           "#ab63fa",
           "#FFA15A",
           "#19d3f3",
           "#FF6692",
           "#B6E880",
           "#FF97FF",
           "#FECB52"
          ],
          "font": {
           "color": "#f2f5fa",
           "family": "Monaco",
           "size": 12
          },
          "geo": {
           "bgcolor": "rgb(17,17,17)",
           "lakecolor": "rgb(17,17,17)",
           "landcolor": "rgb(17,17,17)",
           "showlakes": true,
           "showland": true,
           "subunitcolor": "#506784"
          },
          "hoverlabel": {
           "align": "left"
          },
          "hovermode": "closest",
          "mapbox": {
           "style": "dark"
          },
          "paper_bgcolor": "rgb(17,17,17)",
          "plot_bgcolor": "rgb(17,17,17)",
          "polar": {
           "angularaxis": {
            "gridcolor": "#506784",
            "linecolor": "#506784",
            "ticks": ""
           },
           "bgcolor": "rgb(17,17,17)",
           "radialaxis": {
            "gridcolor": "#506784",
            "linecolor": "#506784",
            "ticks": ""
           }
          },
          "scene": {
           "xaxis": {
            "backgroundcolor": "rgb(17,17,17)",
            "gridcolor": "#506784",
            "gridwidth": 2,
            "linecolor": "#506784",
            "showbackground": true,
            "ticks": "",
            "zerolinecolor": "#C8D4E3"
           },
           "yaxis": {
            "backgroundcolor": "rgb(17,17,17)",
            "gridcolor": "#506784",
            "gridwidth": 2,
            "linecolor": "#506784",
            "showbackground": true,
            "ticks": "",
            "zerolinecolor": "#C8D4E3"
           },
           "zaxis": {
            "backgroundcolor": "rgb(17,17,17)",
            "gridcolor": "#506784",
            "gridwidth": 2,
            "linecolor": "#506784",
            "showbackground": true,
            "ticks": "",
            "zerolinecolor": "#C8D4E3"
           }
          },
          "shapedefaults": {
           "line": {
            "color": "#f2f5fa"
           }
          },
          "sliderdefaults": {
           "bgcolor": "#C8D4E3",
           "bordercolor": "rgb(17,17,17)",
           "borderwidth": 1,
           "tickwidth": 0
          },
          "ternary": {
           "aaxis": {
            "gridcolor": "#506784",
            "linecolor": "#506784",
            "ticks": ""
           },
           "baxis": {
            "gridcolor": "#506784",
            "linecolor": "#506784",
            "ticks": ""
           },
           "bgcolor": "rgb(17,17,17)",
           "caxis": {
            "gridcolor": "#506784",
            "linecolor": "#506784",
            "ticks": ""
           }
          },
          "title": {
           "x": 0.05
          },
          "updatemenudefaults": {
           "bgcolor": "#506784",
           "borderwidth": 0
          },
          "xaxis": {
           "automargin": true,
           "gridcolor": "#283442",
           "linecolor": "#506784",
           "ticks": "",
           "title": {
            "standoff": 15
           },
           "zerolinecolor": "#283442",
           "zerolinewidth": 2
          },
          "yaxis": {
           "automargin": true,
           "gridcolor": "#283442",
           "linecolor": "#506784",
           "ticks": "",
           "title": {
            "standoff": 15
           },
           "zerolinecolor": "#283442",
           "zerolinewidth": 2
          }
         }
        },
        "xaxis": {
         "anchor": "y",
         "categoryarray": [
          "case_id",
          "amount_4917619A\n(Tax deductions amount tracked by the government registry.)",
          "name_4917606M\n(Name of employer.)",
          "num_group1"
         ],
         "categoryorder": "array",
         "domain": [
          0,
          1
         ],
         "showticklabels": false,
         "title": {
          "text": "All Columns"
         }
        },
        "yaxis": {
         "anchor": "x",
         "domain": [
          0,
          1
         ],
         "title": {
          "text": "Null Counts"
         }
        }
       }
      }
     },
     "metadata": {},
     "output_type": "display_data"
    }
   ],
   "source": [
    "train_tax_registry_2 = preprocess(30)\n",
    "display(train_tax_registry_2.fetch().head())\n",
    "train_tax_registry_2.pipe(plot_nulls)"
   ]
  },
  {
   "cell_type": "code",
   "execution_count": 86,
   "metadata": {},
   "outputs": [
    {
     "data": {
      "text/html": [
       "<div><style>\n",
       ".dataframe > thead > tr,\n",
       ".dataframe > tbody > tr {\n",
       "  text-align: right;\n",
       "  white-space: pre-wrap;\n",
       "}\n",
       "</style>\n",
       "<small>shape: (5, 4)</small><table border=\"1\" class=\"dataframe\"><thead><tr><th>case_id</th><th>employername_160M\n",
       "(Employer&#x27;s name.)</th><th>num_group1</th><th>pmtamount_36A\n",
       "(Tax deductions amount for credit bureau payments.)</th></tr><tr><td>i16</td><td>str</td><td>i8</td><td>f32</td></tr></thead><tbody><tr><td>357</td><td>&quot;c91b12ff&quot;</td><td>5</td><td>1100.00</td></tr><tr><td>357</td><td>&quot;c91b12ff&quot;</td><td>1</td><td>1200.00</td></tr><tr><td>357</td><td>&quot;c91b12ff&quot;</td><td>4</td><td>1200.00</td></tr><tr><td>357</td><td>&quot;c91b12ff&quot;</td><td>0</td><td>1200.00</td></tr><tr><td>357</td><td>&quot;c91b12ff&quot;</td><td>3</td><td>628.60</td></tr></tbody></table></div>"
      ],
      "text/plain": [
       "shape: (5, 4)\n",
       "┌─────────┬────────────────────┬────────────┬─────────────────────────────────────────────────────┐\n",
       "│ case_id ┆ employername_160M  ┆ num_group1 ┆ pmtamount_36A                                       │\n",
       "│ ---     ┆ (Employer's name.) ┆ ---        ┆ (Tax deductions amount for credit bureau payments.) │\n",
       "│ i16     ┆ ---                ┆ i8         ┆ ---                                                 │\n",
       "│         ┆ str                ┆            ┆ f32                                                 │\n",
       "╞═════════╪════════════════════╪════════════╪═════════════════════════════════════════════════════╡\n",
       "│ 357     ┆ c91b12ff           ┆ 5          ┆ 1100.00                                             │\n",
       "│ 357     ┆ c91b12ff           ┆ 1          ┆ 1200.00                                             │\n",
       "│ 357     ┆ c91b12ff           ┆ 4          ┆ 1200.00                                             │\n",
       "│ 357     ┆ c91b12ff           ┆ 0          ┆ 1200.00                                             │\n",
       "│ 357     ┆ c91b12ff           ┆ 3          ┆ 628.60                                              │\n",
       "└─────────┴────────────────────┴────────────┴─────────────────────────────────────────────────────┘"
      ]
     },
     "metadata": {},
     "output_type": "display_data"
    },
    {
     "data": {
      "application/vnd.plotly.v1+json": {
       "config": {
        "plotlyServerURL": "https://plot.ly"
       },
       "data": [
        {
         "alignmentgroup": "True",
         "customdata": [
          [
           0
          ]
         ],
         "hovertemplate": "<b>%{hovertext}</b><br><br>column=%{x}<br>column_0=%{y}<br>percent=%{customdata[0]}<extra></extra>",
         "hovertext": [
          "case_id"
         ],
         "legendgroup": "case_id",
         "marker": {
          "color": "#636efa",
          "pattern": {
           "shape": ""
          }
         },
         "name": "case_id",
         "offsetgroup": "case_id",
         "orientation": "v",
         "showlegend": true,
         "textposition": "auto",
         "type": "bar",
         "x": [
          "case_id"
         ],
         "xaxis": "x",
         "y": [
          0
         ],
         "yaxis": "y"
        },
        {
         "alignmentgroup": "True",
         "customdata": [
          [
           0
          ]
         ],
         "hovertemplate": "<b>%{hovertext}</b><br><br>column=%{x}<br>column_0=%{y}<br>percent=%{customdata[0]}<extra></extra>",
         "hovertext": [
          "employername_160M\n(Employer's name.)"
         ],
         "legendgroup": "employername_160M\n(Employer's name.)",
         "marker": {
          "color": "#EF553B",
          "pattern": {
           "shape": ""
          }
         },
         "name": "employername_160M\n(Employer's name.)",
         "offsetgroup": "employername_160M\n(Employer's name.)",
         "orientation": "v",
         "showlegend": true,
         "textposition": "auto",
         "type": "bar",
         "x": [
          "employername_160M\n(Employer's name.)"
         ],
         "xaxis": "x",
         "y": [
          0
         ],
         "yaxis": "y"
        },
        {
         "alignmentgroup": "True",
         "customdata": [
          [
           0
          ]
         ],
         "hovertemplate": "<b>%{hovertext}</b><br><br>column=%{x}<br>column_0=%{y}<br>percent=%{customdata[0]}<extra></extra>",
         "hovertext": [
          "num_group1"
         ],
         "legendgroup": "num_group1",
         "marker": {
          "color": "#00cc96",
          "pattern": {
           "shape": ""
          }
         },
         "name": "num_group1",
         "offsetgroup": "num_group1",
         "orientation": "v",
         "showlegend": true,
         "textposition": "auto",
         "type": "bar",
         "x": [
          "num_group1"
         ],
         "xaxis": "x",
         "y": [
          0
         ],
         "yaxis": "y"
        },
        {
         "alignmentgroup": "True",
         "customdata": [
          [
           0
          ]
         ],
         "hovertemplate": "<b>%{hovertext}</b><br><br>column=%{x}<br>column_0=%{y}<br>percent=%{customdata[0]}<extra></extra>",
         "hovertext": [
          "pmtamount_36A\n(Tax deductions amount for credit bureau payments.)"
         ],
         "legendgroup": "pmtamount_36A\n(Tax deductions amount for credit bureau payments.)",
         "marker": {
          "color": "#ab63fa",
          "pattern": {
           "shape": ""
          }
         },
         "name": "pmtamount_36A\n(Tax deductions amount for credit bureau payments.)",
         "offsetgroup": "pmtamount_36A\n(Tax deductions amount for credit bureau payments.)",
         "orientation": "v",
         "showlegend": true,
         "textposition": "auto",
         "type": "bar",
         "x": [
          "pmtamount_36A\n(Tax deductions amount for credit bureau payments.)"
         ],
         "xaxis": "x",
         "y": [
          0
         ],
         "yaxis": "y"
        }
       ],
       "layout": {
        "annotations": [
         {
          "showarrow": false,
          "text": "Total rows",
          "x": 1,
          "xanchor": "right",
          "xref": "x domain",
          "y": 3343800,
          "yanchor": "bottom",
          "yref": "y"
         }
        ],
        "barmode": "relative",
        "height": 900,
        "legend": {
         "title": {
          "text": "column"
         },
         "tracegroupgap": 10
        },
        "margin": {
         "t": 60
        },
        "shapes": [
         {
          "line": {
           "dash": "dashdot"
          },
          "type": "line",
          "x0": 0,
          "x1": 1,
          "xref": "x domain",
          "y0": 3343800,
          "y1": 3343800,
          "yref": "y"
         }
        ],
        "template": {
         "data": {
          "bar": [
           {
            "error_x": {
             "color": "#f2f5fa"
            },
            "error_y": {
             "color": "#f2f5fa"
            },
            "marker": {
             "line": {
              "color": "rgb(17,17,17)",
              "width": 0.5
             },
             "pattern": {
              "fillmode": "overlay",
              "size": 10,
              "solidity": 0.2
             }
            },
            "type": "bar"
           }
          ],
          "barpolar": [
           {
            "marker": {
             "line": {
              "color": "rgb(17,17,17)",
              "width": 0.5
             },
             "pattern": {
              "fillmode": "overlay",
              "size": 10,
              "solidity": 0.2
             }
            },
            "type": "barpolar"
           }
          ],
          "carpet": [
           {
            "aaxis": {
             "endlinecolor": "#A2B1C6",
             "gridcolor": "#506784",
             "linecolor": "#506784",
             "minorgridcolor": "#506784",
             "startlinecolor": "#A2B1C6"
            },
            "baxis": {
             "endlinecolor": "#A2B1C6",
             "gridcolor": "#506784",
             "linecolor": "#506784",
             "minorgridcolor": "#506784",
             "startlinecolor": "#A2B1C6"
            },
            "type": "carpet"
           }
          ],
          "choropleth": [
           {
            "colorbar": {
             "outlinewidth": 0,
             "ticks": ""
            },
            "type": "choropleth"
           }
          ],
          "contour": [
           {
            "colorbar": {
             "outlinewidth": 0,
             "ticks": ""
            },
            "colorscale": [
             [
              0,
              "#0d0887"
             ],
             [
              0.1111111111111111,
              "#46039f"
             ],
             [
              0.2222222222222222,
              "#7201a8"
             ],
             [
              0.3333333333333333,
              "#9c179e"
             ],
             [
              0.4444444444444444,
              "#bd3786"
             ],
             [
              0.5555555555555556,
              "#d8576b"
             ],
             [
              0.6666666666666666,
              "#ed7953"
             ],
             [
              0.7777777777777778,
              "#fb9f3a"
             ],
             [
              0.8888888888888888,
              "#fdca26"
             ],
             [
              1,
              "#f0f921"
             ]
            ],
            "type": "contour"
           }
          ],
          "contourcarpet": [
           {
            "colorbar": {
             "outlinewidth": 0,
             "ticks": ""
            },
            "type": "contourcarpet"
           }
          ],
          "heatmap": [
           {
            "colorbar": {
             "outlinewidth": 0,
             "ticks": ""
            },
            "colorscale": [
             [
              0,
              "#0d0887"
             ],
             [
              0.1111111111111111,
              "#46039f"
             ],
             [
              0.2222222222222222,
              "#7201a8"
             ],
             [
              0.3333333333333333,
              "#9c179e"
             ],
             [
              0.4444444444444444,
              "#bd3786"
             ],
             [
              0.5555555555555556,
              "#d8576b"
             ],
             [
              0.6666666666666666,
              "#ed7953"
             ],
             [
              0.7777777777777778,
              "#fb9f3a"
             ],
             [
              0.8888888888888888,
              "#fdca26"
             ],
             [
              1,
              "#f0f921"
             ]
            ],
            "type": "heatmap"
           }
          ],
          "heatmapgl": [
           {
            "colorbar": {
             "outlinewidth": 0,
             "ticks": ""
            },
            "colorscale": [
             [
              0,
              "#0d0887"
             ],
             [
              0.1111111111111111,
              "#46039f"
             ],
             [
              0.2222222222222222,
              "#7201a8"
             ],
             [
              0.3333333333333333,
              "#9c179e"
             ],
             [
              0.4444444444444444,
              "#bd3786"
             ],
             [
              0.5555555555555556,
              "#d8576b"
             ],
             [
              0.6666666666666666,
              "#ed7953"
             ],
             [
              0.7777777777777778,
              "#fb9f3a"
             ],
             [
              0.8888888888888888,
              "#fdca26"
             ],
             [
              1,
              "#f0f921"
             ]
            ],
            "type": "heatmapgl"
           }
          ],
          "histogram": [
           {
            "marker": {
             "pattern": {
              "fillmode": "overlay",
              "size": 10,
              "solidity": 0.2
             }
            },
            "type": "histogram"
           }
          ],
          "histogram2d": [
           {
            "colorbar": {
             "outlinewidth": 0,
             "ticks": ""
            },
            "colorscale": [
             [
              0,
              "#0d0887"
             ],
             [
              0.1111111111111111,
              "#46039f"
             ],
             [
              0.2222222222222222,
              "#7201a8"
             ],
             [
              0.3333333333333333,
              "#9c179e"
             ],
             [
              0.4444444444444444,
              "#bd3786"
             ],
             [
              0.5555555555555556,
              "#d8576b"
             ],
             [
              0.6666666666666666,
              "#ed7953"
             ],
             [
              0.7777777777777778,
              "#fb9f3a"
             ],
             [
              0.8888888888888888,
              "#fdca26"
             ],
             [
              1,
              "#f0f921"
             ]
            ],
            "type": "histogram2d"
           }
          ],
          "histogram2dcontour": [
           {
            "colorbar": {
             "outlinewidth": 0,
             "ticks": ""
            },
            "colorscale": [
             [
              0,
              "#0d0887"
             ],
             [
              0.1111111111111111,
              "#46039f"
             ],
             [
              0.2222222222222222,
              "#7201a8"
             ],
             [
              0.3333333333333333,
              "#9c179e"
             ],
             [
              0.4444444444444444,
              "#bd3786"
             ],
             [
              0.5555555555555556,
              "#d8576b"
             ],
             [
              0.6666666666666666,
              "#ed7953"
             ],
             [
              0.7777777777777778,
              "#fb9f3a"
             ],
             [
              0.8888888888888888,
              "#fdca26"
             ],
             [
              1,
              "#f0f921"
             ]
            ],
            "type": "histogram2dcontour"
           }
          ],
          "mesh3d": [
           {
            "colorbar": {
             "outlinewidth": 0,
             "ticks": ""
            },
            "type": "mesh3d"
           }
          ],
          "parcoords": [
           {
            "line": {
             "colorbar": {
              "outlinewidth": 0,
              "ticks": ""
             }
            },
            "type": "parcoords"
           }
          ],
          "pie": [
           {
            "automargin": true,
            "type": "pie"
           }
          ],
          "scatter": [
           {
            "marker": {
             "line": {
              "color": "#283442"
             }
            },
            "type": "scatter"
           }
          ],
          "scatter3d": [
           {
            "line": {
             "colorbar": {
              "outlinewidth": 0,
              "ticks": ""
             }
            },
            "marker": {
             "colorbar": {
              "outlinewidth": 0,
              "ticks": ""
             }
            },
            "type": "scatter3d"
           }
          ],
          "scattercarpet": [
           {
            "marker": {
             "colorbar": {
              "outlinewidth": 0,
              "ticks": ""
             }
            },
            "type": "scattercarpet"
           }
          ],
          "scattergeo": [
           {
            "marker": {
             "colorbar": {
              "outlinewidth": 0,
              "ticks": ""
             }
            },
            "type": "scattergeo"
           }
          ],
          "scattergl": [
           {
            "marker": {
             "line": {
              "color": "#283442"
             }
            },
            "type": "scattergl"
           }
          ],
          "scattermapbox": [
           {
            "marker": {
             "colorbar": {
              "outlinewidth": 0,
              "ticks": ""
             }
            },
            "type": "scattermapbox"
           }
          ],
          "scatterpolar": [
           {
            "marker": {
             "colorbar": {
              "outlinewidth": 0,
              "ticks": ""
             }
            },
            "type": "scatterpolar"
           }
          ],
          "scatterpolargl": [
           {
            "marker": {
             "colorbar": {
              "outlinewidth": 0,
              "ticks": ""
             }
            },
            "type": "scatterpolargl"
           }
          ],
          "scatterternary": [
           {
            "marker": {
             "colorbar": {
              "outlinewidth": 0,
              "ticks": ""
             }
            },
            "type": "scatterternary"
           }
          ],
          "surface": [
           {
            "colorbar": {
             "outlinewidth": 0,
             "ticks": ""
            },
            "colorscale": [
             [
              0,
              "#0d0887"
             ],
             [
              0.1111111111111111,
              "#46039f"
             ],
             [
              0.2222222222222222,
              "#7201a8"
             ],
             [
              0.3333333333333333,
              "#9c179e"
             ],
             [
              0.4444444444444444,
              "#bd3786"
             ],
             [
              0.5555555555555556,
              "#d8576b"
             ],
             [
              0.6666666666666666,
              "#ed7953"
             ],
             [
              0.7777777777777778,
              "#fb9f3a"
             ],
             [
              0.8888888888888888,
              "#fdca26"
             ],
             [
              1,
              "#f0f921"
             ]
            ],
            "type": "surface"
           }
          ],
          "table": [
           {
            "cells": {
             "fill": {
              "color": "#506784"
             },
             "line": {
              "color": "rgb(17,17,17)"
             }
            },
            "header": {
             "fill": {
              "color": "#2a3f5f"
             },
             "line": {
              "color": "rgb(17,17,17)"
             }
            },
            "type": "table"
           }
          ]
         },
         "layout": {
          "annotationdefaults": {
           "arrowcolor": "#f2f5fa",
           "arrowhead": 0,
           "arrowwidth": 1
          },
          "autotypenumbers": "strict",
          "coloraxis": {
           "colorbar": {
            "outlinewidth": 0,
            "ticks": ""
           }
          },
          "colorscale": {
           "diverging": [
            [
             0,
             "#8e0152"
            ],
            [
             0.1,
             "#c51b7d"
            ],
            [
             0.2,
             "#de77ae"
            ],
            [
             0.3,
             "#f1b6da"
            ],
            [
             0.4,
             "#fde0ef"
            ],
            [
             0.5,
             "#f7f7f7"
            ],
            [
             0.6,
             "#e6f5d0"
            ],
            [
             0.7,
             "#b8e186"
            ],
            [
             0.8,
             "#7fbc41"
            ],
            [
             0.9,
             "#4d9221"
            ],
            [
             1,
             "#276419"
            ]
           ],
           "sequential": [
            [
             0,
             "#0d0887"
            ],
            [
             0.1111111111111111,
             "#46039f"
            ],
            [
             0.2222222222222222,
             "#7201a8"
            ],
            [
             0.3333333333333333,
             "#9c179e"
            ],
            [
             0.4444444444444444,
             "#bd3786"
            ],
            [
             0.5555555555555556,
             "#d8576b"
            ],
            [
             0.6666666666666666,
             "#ed7953"
            ],
            [
             0.7777777777777778,
             "#fb9f3a"
            ],
            [
             0.8888888888888888,
             "#fdca26"
            ],
            [
             1,
             "#f0f921"
            ]
           ],
           "sequentialminus": [
            [
             0,
             "#0d0887"
            ],
            [
             0.1111111111111111,
             "#46039f"
            ],
            [
             0.2222222222222222,
             "#7201a8"
            ],
            [
             0.3333333333333333,
             "#9c179e"
            ],
            [
             0.4444444444444444,
             "#bd3786"
            ],
            [
             0.5555555555555556,
             "#d8576b"
            ],
            [
             0.6666666666666666,
             "#ed7953"
            ],
            [
             0.7777777777777778,
             "#fb9f3a"
            ],
            [
             0.8888888888888888,
             "#fdca26"
            ],
            [
             1,
             "#f0f921"
            ]
           ]
          },
          "colorway": [
           "#636efa",
           "#EF553B",
           "#00cc96",
           "#ab63fa",
           "#FFA15A",
           "#19d3f3",
           "#FF6692",
           "#B6E880",
           "#FF97FF",
           "#FECB52"
          ],
          "font": {
           "color": "#f2f5fa",
           "family": "Monaco",
           "size": 12
          },
          "geo": {
           "bgcolor": "rgb(17,17,17)",
           "lakecolor": "rgb(17,17,17)",
           "landcolor": "rgb(17,17,17)",
           "showlakes": true,
           "showland": true,
           "subunitcolor": "#506784"
          },
          "hoverlabel": {
           "align": "left"
          },
          "hovermode": "closest",
          "mapbox": {
           "style": "dark"
          },
          "paper_bgcolor": "rgb(17,17,17)",
          "plot_bgcolor": "rgb(17,17,17)",
          "polar": {
           "angularaxis": {
            "gridcolor": "#506784",
            "linecolor": "#506784",
            "ticks": ""
           },
           "bgcolor": "rgb(17,17,17)",
           "radialaxis": {
            "gridcolor": "#506784",
            "linecolor": "#506784",
            "ticks": ""
           }
          },
          "scene": {
           "xaxis": {
            "backgroundcolor": "rgb(17,17,17)",
            "gridcolor": "#506784",
            "gridwidth": 2,
            "linecolor": "#506784",
            "showbackground": true,
            "ticks": "",
            "zerolinecolor": "#C8D4E3"
           },
           "yaxis": {
            "backgroundcolor": "rgb(17,17,17)",
            "gridcolor": "#506784",
            "gridwidth": 2,
            "linecolor": "#506784",
            "showbackground": true,
            "ticks": "",
            "zerolinecolor": "#C8D4E3"
           },
           "zaxis": {
            "backgroundcolor": "rgb(17,17,17)",
            "gridcolor": "#506784",
            "gridwidth": 2,
            "linecolor": "#506784",
            "showbackground": true,
            "ticks": "",
            "zerolinecolor": "#C8D4E3"
           }
          },
          "shapedefaults": {
           "line": {
            "color": "#f2f5fa"
           }
          },
          "sliderdefaults": {
           "bgcolor": "#C8D4E3",
           "bordercolor": "rgb(17,17,17)",
           "borderwidth": 1,
           "tickwidth": 0
          },
          "ternary": {
           "aaxis": {
            "gridcolor": "#506784",
            "linecolor": "#506784",
            "ticks": ""
           },
           "baxis": {
            "gridcolor": "#506784",
            "linecolor": "#506784",
            "ticks": ""
           },
           "bgcolor": "rgb(17,17,17)",
           "caxis": {
            "gridcolor": "#506784",
            "linecolor": "#506784",
            "ticks": ""
           }
          },
          "title": {
           "x": 0.05
          },
          "updatemenudefaults": {
           "bgcolor": "#506784",
           "borderwidth": 0
          },
          "xaxis": {
           "automargin": true,
           "gridcolor": "#283442",
           "linecolor": "#506784",
           "ticks": "",
           "title": {
            "standoff": 15
           },
           "zerolinecolor": "#283442",
           "zerolinewidth": 2
          },
          "yaxis": {
           "automargin": true,
           "gridcolor": "#283442",
           "linecolor": "#506784",
           "ticks": "",
           "title": {
            "standoff": 15
           },
           "zerolinecolor": "#283442",
           "zerolinewidth": 2
          }
         }
        },
        "xaxis": {
         "anchor": "y",
         "categoryarray": [
          "case_id",
          "employername_160M\n(Employer's name.)",
          "num_group1",
          "pmtamount_36A\n(Tax deductions amount for credit bureau payments.)"
         ],
         "categoryorder": "array",
         "domain": [
          0,
          1
         ],
         "showticklabels": false,
         "title": {
          "text": "All Columns"
         }
        },
        "yaxis": {
         "anchor": "x",
         "domain": [
          0,
          1
         ],
         "title": {
          "text": "Null Counts"
         }
        }
       }
      }
     },
     "metadata": {},
     "output_type": "display_data"
    }
   ],
   "source": [
    "train_tax_registry_3 = preprocess(31)\n",
    "display(train_tax_registry_3.fetch().head())\n",
    "train_tax_registry_3.pipe(plot_nulls)"
   ]
  },
  {
   "cell_type": "markdown",
   "metadata": {},
   "source": [
    "## Train credit Bureau"
   ]
  },
  {
   "cell_type": "code",
   "execution_count": 87,
   "metadata": {},
   "outputs": [
    {
     "data": {
      "text/html": [
       "<div><style>\n",
       ".dataframe > thead > tr,\n",
       ".dataframe > tbody > tr {\n",
       "  text-align: right;\n",
       "  white-space: pre-wrap;\n",
       "}\n",
       "</style>\n",
       "<small>shape: (17, 2)</small><table border=\"1\" class=\"dataframe\"><thead><tr><th>index</th><th>filename</th></tr><tr><td>i8</td><td>str</td></tr></thead><tbody><tr><td>4</td><td>&quot;train_credit_bureau_a_1_0.parquet&quot;</td></tr><tr><td>5</td><td>&quot;train_credit_bureau_a_1_1.parquet&quot;</td></tr><tr><td>6</td><td>&quot;train_credit_bureau_a_1_2.parquet&quot;</td></tr><tr><td>7</td><td>&quot;train_credit_bureau_a_1_3.parquet&quot;</td></tr><tr><td>8</td><td>&quot;train_credit_bureau_a_2_0.parquet&quot;</td></tr><tr><td>9</td><td>&quot;train_credit_bureau_a_2_1.parquet&quot;</td></tr><tr><td>10</td><td>&quot;train_credit_bureau_a_2_10.parquet&quot;</td></tr><tr><td>11</td><td>&quot;train_credit_bureau_a_2_2.parquet&quot;</td></tr><tr><td>12</td><td>&quot;train_credit_bureau_a_2_3.parquet&quot;</td></tr><tr><td>13</td><td>&quot;train_credit_bureau_a_2_4.parquet&quot;</td></tr><tr><td>14</td><td>&quot;train_credit_bureau_a_2_5.parquet&quot;</td></tr><tr><td>15</td><td>&quot;train_credit_bureau_a_2_6.parquet&quot;</td></tr><tr><td>16</td><td>&quot;train_credit_bureau_a_2_7.parquet&quot;</td></tr><tr><td>17</td><td>&quot;train_credit_bureau_a_2_8.parquet&quot;</td></tr><tr><td>18</td><td>&quot;train_credit_bureau_a_2_9.parquet&quot;</td></tr><tr><td>19</td><td>&quot;train_credit_bureau_b_1.parquet&quot;</td></tr><tr><td>20</td><td>&quot;train_credit_bureau_b_2.parquet&quot;</td></tr></tbody></table></div>"
      ],
      "text/plain": [
       "shape: (17, 2)\n",
       "┌───────┬────────────────────────────────────┐\n",
       "│ index ┆ filename                           │\n",
       "│ ---   ┆ ---                                │\n",
       "│ i8    ┆ str                                │\n",
       "╞═══════╪════════════════════════════════════╡\n",
       "│ 4     ┆ train_credit_bureau_a_1_0.parquet  │\n",
       "│ 5     ┆ train_credit_bureau_a_1_1.parquet  │\n",
       "│ 6     ┆ train_credit_bureau_a_1_2.parquet  │\n",
       "│ 7     ┆ train_credit_bureau_a_1_3.parquet  │\n",
       "│ 8     ┆ train_credit_bureau_a_2_0.parquet  │\n",
       "│ 9     ┆ train_credit_bureau_a_2_1.parquet  │\n",
       "│ 10    ┆ train_credit_bureau_a_2_10.parquet │\n",
       "│ 11    ┆ train_credit_bureau_a_2_2.parquet  │\n",
       "│ 12    ┆ train_credit_bureau_a_2_3.parquet  │\n",
       "│ 13    ┆ train_credit_bureau_a_2_4.parquet  │\n",
       "│ 14    ┆ train_credit_bureau_a_2_5.parquet  │\n",
       "│ 15    ┆ train_credit_bureau_a_2_6.parquet  │\n",
       "│ 16    ┆ train_credit_bureau_a_2_7.parquet  │\n",
       "│ 17    ┆ train_credit_bureau_a_2_8.parquet  │\n",
       "│ 18    ┆ train_credit_bureau_a_2_9.parquet  │\n",
       "│ 19    ┆ train_credit_bureau_b_1.parquet    │\n",
       "│ 20    ┆ train_credit_bureau_b_2.parquet    │\n",
       "└───────┴────────────────────────────────────┘"
      ]
     },
     "execution_count": 87,
     "metadata": {},
     "output_type": "execute_result"
    }
   ],
   "source": [
    "(\n",
    "    all_files_df\n",
    "    .filter(~pl.col(\"filename\").str.contains_any([\"applprev\",\"base\",\"debit\",\"other\",\"person\",\"static\",\"registry\",\"deposit\"]))\n",
    ")"
   ]
  },
  {
   "cell_type": "code",
   "execution_count": 100,
   "metadata": {},
   "outputs": [
    {
     "data": {
      "text/html": [
       "<div><style>\n",
       ".dataframe > thead > tr,\n",
       ".dataframe > tbody > tr {\n",
       "  text-align: right;\n",
       "  white-space: pre-wrap;\n",
       "}\n",
       "</style>\n",
       "<small>shape: (5, 61)</small><table border=\"1\" class=\"dataframe\"><thead><tr><th>case_id</th><th>annualeffectiverate_199L\n",
       "(Interest rate of the closed contracts.)</th><th>annualeffectiverate_63L\n",
       "(Interest rate for the active contracts.)</th><th>classificationofcontr_13M\n",
       "(Classificiation of the active contract.)</th><th>classificationofcontr_400M\n",
       "(Classificiation of the closed contract.)</th><th>contractst_545M\n",
       "(Contract status.)</th><th>contractst_964M\n",
       "(Contract status of terminated credit contract.)</th><th>contractsum_5085717L\n",
       "(Sum of other contract values.)</th><th>credlmt_230A\n",
       "(Credit limit of the closed credit contracts from credit bureau.)</th><th>credlmt_935A\n",
       "(Credit limit for active loan.)</th><th>debtoutstand_525A\n",
       "(Outstanding amount of existing contract.)</th><th>debtoverdue_47A\n",
       "(Amount that is currently past due on a client&#x27;s existing credit contract.)</th><th>description_351M\n",
       "(Categorization of clients by credit bureau.)</th><th>dpdmax_139P\n",
       "(Maximal days past due for active contract.)</th><th>dpdmax_757P\n",
       "(Maximum days past due for a closed contract.)</th><th>financialinstitution_382M\n",
       "(Name of financial institution that is linked to a closed contract.)</th><th>financialinstitution_591M\n",
       "(Financial institution name of the active contract.)</th><th>instlamount_768A\n",
       "(Instalment amount for the active contract in credit bureau.)</th><th>instlamount_852A\n",
       "(Instalment amount for closed contract.)</th><th>interestrate_508L\n",
       "(Interest rate for a closed contract in the credit bureau.)</th><th>monthlyinstlamount_332A\n",
       "(Monthly instalment amount for active contract.)</th><th>monthlyinstlamount_674A\n",
       "(Monthly amount of instalment payment on a closed contract.)</th><th>nominalrate_281L\n",
       "(Interest rate of the active contract.)</th><th>nominalrate_498L\n",
       "(Interest rate for closed contract.)</th><th>num_group1</th><th>numberofcontrsvalue_258L\n",
       "(Number of active contracts in credit bureau.)</th><th>numberofcontrsvalue_358L\n",
       "(Number of closed credit contracts.)</th><th>numberofinstls_229L\n",
       "(Number of instalments on closed contract.)</th><th>numberofinstls_320L\n",
       "(Number of instalments of the active contract.)</th><th>numberofoutstandinstls_520L\n",
       "(Number of outstanding instalment for closed contract.)</th><th>numberofoutstandinstls_59L\n",
       "(Number of outstanding instalments for the active contracts.)</th><th>numberofoverdueinstlmax_1039L\n",
       "(Number of outstanding instalments for active contracts.)</th><th>numberofoverdueinstlmax_1151L\n",
       "(Maximum number of past due installments for a closed contract.)</th><th>numberofoverdueinstlmaxdat_148D\n",
       "(Date of maximum number of past due instalments for the closed contract.)</th><th>numberofoverdueinstlmaxdat_641D\n",
       "(Date of maximum number of past due instalments for the active contract.)</th><th>numberofoverdueinstls_725L\n",
       "(Maximum number of past due instalments for an active contract.)</th><th>numberofoverdueinstls_834L\n",
       "(Number of past due instalments for a closed contract.)</th><th>outstandingamount_354A\n",
       "(Outstanding amount for closed credit contract in credit bureau.)</th><th>outstandingamount_362A\n",
       "(Active contract&#x27;s outstanding amount.)</th><th>overdueamount_31A\n",
       "(Past due amount for a closed contract.)</th><th>overdueamount_659A\n",
       "(Past due amount for active contract.)</th><th>overdueamountmax2_14A\n",
       "(Maximal past due amount for an active contract.)</th><th>overdueamountmax2_398A\n",
       "(Maximal overdue amount for a closed contract.)</th><th>overdueamountmax_155A\n",
       "(Maximal past due amount for active contract.)</th><th>overdueamountmax_35A\n",
       "(Maximal past due amount for a closed contract.)</th><th>periodicityofpmts_1102L\n",
       "(Frequency of instalments for a closed contract.)</th><th>periodicityofpmts_837L\n",
       "(Frequency of instalments for an active contract.)</th><th>prolongationcount_1120L\n",
       "(Count of prolongations on terminated contract according to credit bureau.)</th><th>prolongationcount_599L\n",
       "(Count of active contract prolongations.)</th><th>purposeofcred_426M\n",
       "(Purpose of credit for active contract.)</th><th>purposeofcred_874M\n",
       "(Purpose of credit on a closed contract.)</th><th>residualamount_488A\n",
       "(Residual amount of a closed contract.)</th><th>residualamount_856A\n",
       "(Residual amount for the active contract.)</th><th>subjectrole_182M\n",
       "(Subject role in active credit contract.)</th><th>subjectrole_93M\n",
       "(Subject role in closed credit contract.)</th><th>totalamount_6A\n",
       "(Total amount of closed contracts.)</th><th>totalamount_996A\n",
       "(Total amount of active contracts in the credit bureau.)</th><th>totaldebtoverduevalue_178A\n",
       "(Total amount of past due debt on active contracts.)</th><th>totaldebtoverduevalue_718A\n",
       "(Total overdue debt amount for closed credit contracts.)</th><th>totaloutstanddebtvalue_39A\n",
       "(Total outstanding debt for active contracts in the credit bureau.)</th><th>totaloutstanddebtvalue_668A\n",
       "(Total outstanding debt for the closed contracts in the credit bureau.)</th></tr><tr><td>i16</td><td>f32</td><td>f32</td><td>str</td><td>str</td><td>str</td><td>str</td><td>f32</td><td>f32</td><td>f32</td><td>f32</td><td>f32</td><td>str</td><td>f32</td><td>f32</td><td>str</td><td>str</td><td>f32</td><td>f32</td><td>f32</td><td>f32</td><td>f32</td><td>f32</td><td>f32</td><td>i8</td><td>f32</td><td>f32</td><td>f32</td><td>f32</td><td>f32</td><td>f32</td><td>f32</td><td>f32</td><td>str</td><td>str</td><td>f32</td><td>f32</td><td>f32</td><td>f32</td><td>f32</td><td>f32</td><td>f32</td><td>f32</td><td>f32</td><td>f32</td><td>f32</td><td>f32</td><td>f32</td><td>f32</td><td>str</td><td>str</td><td>f32</td><td>f32</td><td>str</td><td>str</td><td>f32</td><td>f32</td><td>f32</td><td>f32</td><td>f32</td><td>f32</td></tr></thead><tbody><tr><td>388</td><td>null</td><td>null</td><td>&quot;4408ff0f&quot;</td><td>&quot;a55475b1&quot;</td><td>&quot;7241344e&quot;</td><td>&quot;a55475b1&quot;</td><td>null</td><td>null</td><td>null</td><td>374419.50</td><td>0.00</td><td>&quot;a55475b1&quot;</td><td>0.00</td><td>null</td><td>&quot;a55475b1&quot;</td><td>&quot;55b002a9&quot;</td><td>null</td><td>null</td><td>null</td><td>7811.45</td><td>null</td><td>null</td><td>null</td><td>0</td><td>2.00</td><td>1.00</td><td>null</td><td>60.00</td><td>null</td><td>54.00</td><td>0.00</td><td>null</td><td>null</td><td>null</td><td>0.00</td><td>null</td><td>null</td><td>260093.70</td><td>null</td><td>0.00</td><td>0.00</td><td>null</td><td>0.00</td><td>null</td><td>null</td><td>30.00</td><td>null</td><td>null</td><td>&quot;96a8fdfe&quot;</td><td>&quot;a55475b1&quot;</td><td>null</td><td>null</td><td>&quot;ab3c25cf&quot;</td><td>&quot;ab3c25cf&quot;</td><td>null</td><td>268897.62</td><td>0.00</td><td>0.00</td><td>374419.50</td><td>0.00</td></tr><tr><td>388</td><td>null</td><td>null</td><td>&quot;ea6782cc&quot;</td><td>&quot;a55475b1&quot;</td><td>&quot;7241344e&quot;</td><td>&quot;a55475b1&quot;</td><td>null</td><td>null</td><td>135806.00</td><td>null</td><td>null</td><td>&quot;a55475b1&quot;</td><td>0.00</td><td>null</td><td>&quot;a55475b1&quot;</td><td>&quot;P204_66_73&quot;</td><td>8742.80</td><td>null</td><td>null</td><td>8742.80</td><td>null</td><td>null</td><td>null</td><td>1</td><td>null</td><td>null</td><td>null</td><td>null</td><td>null</td><td>null</td><td>0.00</td><td>null</td><td>null</td><td>null</td><td>0.00</td><td>null</td><td>null</td><td>null</td><td>null</td><td>0.00</td><td>0.00</td><td>null</td><td>0.00</td><td>null</td><td>null</td><td>null</td><td>null</td><td>null</td><td>&quot;60c73645&quot;</td><td>&quot;a55475b1&quot;</td><td>null</td><td>114325.80</td><td>&quot;a55475b1&quot;</td><td>&quot;a55475b1&quot;</td><td>null</td><td>null</td><td>null</td><td>null</td><td>null</td><td>null</td></tr><tr><td>388</td><td>null</td><td>null</td><td>&quot;a55475b1&quot;</td><td>&quot;a55475b1&quot;</td><td>&quot;a55475b1&quot;</td><td>&quot;a55475b1&quot;</td><td>null</td><td>null</td><td>null</td><td>null</td><td>null</td><td>&quot;a55475b1&quot;</td><td>null</td><td>null</td><td>&quot;a55475b1&quot;</td><td>&quot;a55475b1&quot;</td><td>null</td><td>null</td><td>null</td><td>null</td><td>null</td><td>null</td><td>null</td><td>2</td><td>null</td><td>null</td><td>null</td><td>null</td><td>null</td><td>null</td><td>null</td><td>null</td><td>null</td><td>null</td><td>null</td><td>null</td><td>null</td><td>null</td><td>null</td><td>null</td><td>null</td><td>null</td><td>null</td><td>null</td><td>null</td><td>null</td><td>null</td><td>null</td><td>&quot;a55475b1&quot;</td><td>&quot;a55475b1&quot;</td><td>null</td><td>null</td><td>&quot;a55475b1&quot;</td><td>&quot;a55475b1&quot;</td><td>null</td><td>null</td><td>null</td><td>null</td><td>null</td><td>null</td></tr><tr><td>388</td><td>null</td><td>null</td><td>&quot;a55475b1&quot;</td><td>&quot;a55475b1&quot;</td><td>&quot;a55475b1&quot;</td><td>&quot;a55475b1&quot;</td><td>null</td><td>null</td><td>null</td><td>null</td><td>null</td><td>&quot;a55475b1&quot;</td><td>null</td><td>null</td><td>&quot;a55475b1&quot;</td><td>&quot;a55475b1&quot;</td><td>null</td><td>null</td><td>null</td><td>null</td><td>null</td><td>null</td><td>null</td><td>3</td><td>null</td><td>null</td><td>null</td><td>null</td><td>null</td><td>null</td><td>null</td><td>null</td><td>null</td><td>null</td><td>null</td><td>null</td><td>null</td><td>null</td><td>null</td><td>null</td><td>null</td><td>null</td><td>null</td><td>null</td><td>null</td><td>null</td><td>null</td><td>null</td><td>&quot;a55475b1&quot;</td><td>&quot;a55475b1&quot;</td><td>null</td><td>null</td><td>&quot;a55475b1&quot;</td><td>&quot;a55475b1&quot;</td><td>null</td><td>null</td><td>null</td><td>null</td><td>null</td><td>null</td></tr><tr><td>388</td><td>null</td><td>null</td><td>&quot;a55475b1&quot;</td><td>&quot;a55475b1&quot;</td><td>&quot;a55475b1&quot;</td><td>&quot;a55475b1&quot;</td><td>null</td><td>null</td><td>null</td><td>null</td><td>null</td><td>&quot;a55475b1&quot;</td><td>null</td><td>null</td><td>&quot;a55475b1&quot;</td><td>&quot;a55475b1&quot;</td><td>null</td><td>null</td><td>null</td><td>null</td><td>null</td><td>null</td><td>null</td><td>4</td><td>null</td><td>null</td><td>null</td><td>null</td><td>null</td><td>null</td><td>null</td><td>null</td><td>null</td><td>null</td><td>null</td><td>null</td><td>null</td><td>null</td><td>null</td><td>null</td><td>null</td><td>null</td><td>null</td><td>null</td><td>null</td><td>null</td><td>null</td><td>null</td><td>&quot;a55475b1&quot;</td><td>&quot;a55475b1&quot;</td><td>null</td><td>null</td><td>&quot;a55475b1&quot;</td><td>&quot;a55475b1&quot;</td><td>null</td><td>null</td><td>null</td><td>null</td><td>null</td><td>null</td></tr></tbody></table></div>"
      ],
      "text/plain": [
       "shape: (5, 61)\n",
       "┌─────────┬────────────┬───────────┬───────────┬───┬───────────┬───────────┬───────────┬───────────┐\n",
       "│ case_id ┆ annualeffe ┆ annualeff ┆ classific ┆ … ┆ totaldebt ┆ totaldebt ┆ totalouts ┆ totalouts │\n",
       "│ ---     ┆ ctiverate_ ┆ ectiverat ┆ ationofco ┆   ┆ overdueva ┆ overdueva ┆ tanddebtv ┆ tanddebtv │\n",
       "│ i16     ┆ 199L       ┆ e_63L     ┆ ntr_13M   ┆   ┆ lue_178A  ┆ lue_718A  ┆ alue_39A  ┆ alue_668A │\n",
       "│         ┆ (Interest  ┆ (Interest ┆ (Classifi ┆   ┆ (Total    ┆ (Total    ┆ (Total    ┆ (Total    │\n",
       "│         ┆ rate of    ┆ rate for  ┆ ciation   ┆   ┆ amount of ┆ overdue   ┆ outstandi ┆ outstandi │\n",
       "│         ┆ the closed ┆ the       ┆ of the    ┆   ┆ past due  ┆ debt      ┆ ng debt   ┆ ng debt   │\n",
       "│         ┆ contracts. ┆ active    ┆ active    ┆   ┆ debt on   ┆ amount    ┆ for       ┆ for the   │\n",
       "│         ┆ )          ┆ contracts ┆ contract. ┆   ┆ active    ┆ for       ┆ active    ┆ closed    │\n",
       "│         ┆ ---        ┆ .)        ┆ )         ┆   ┆ contracts ┆ closed    ┆ contracts ┆ contracts │\n",
       "│         ┆ f32        ┆ ---       ┆ ---       ┆   ┆ .)        ┆ credit    ┆ in the    ┆ in the    │\n",
       "│         ┆            ┆ f32       ┆ str       ┆   ┆ ---       ┆ contracts ┆ credit    ┆ credit    │\n",
       "│         ┆            ┆           ┆           ┆   ┆ f32       ┆ .)        ┆ bureau.)  ┆ bureau.)  │\n",
       "│         ┆            ┆           ┆           ┆   ┆           ┆ ---       ┆ ---       ┆ ---       │\n",
       "│         ┆            ┆           ┆           ┆   ┆           ┆ f32       ┆ f32       ┆ f32       │\n",
       "╞═════════╪════════════╪═══════════╪═══════════╪═══╪═══════════╪═══════════╪═══════════╪═══════════╡\n",
       "│ 388     ┆ null       ┆ null      ┆ 4408ff0f  ┆ … ┆ 0.00      ┆ 0.00      ┆ 374419.50 ┆ 0.00      │\n",
       "│ 388     ┆ null       ┆ null      ┆ ea6782cc  ┆ … ┆ null      ┆ null      ┆ null      ┆ null      │\n",
       "│ 388     ┆ null       ┆ null      ┆ a55475b1  ┆ … ┆ null      ┆ null      ┆ null      ┆ null      │\n",
       "│ 388     ┆ null       ┆ null      ┆ a55475b1  ┆ … ┆ null      ┆ null      ┆ null      ┆ null      │\n",
       "│ 388     ┆ null       ┆ null      ┆ a55475b1  ┆ … ┆ null      ┆ null      ┆ null      ┆ null      │\n",
       "└─────────┴────────────┴───────────┴───────────┴───┴───────────┴───────────┴───────────┴───────────┘"
      ]
     },
     "metadata": {},
     "output_type": "display_data"
    },
    {
     "data": {
      "application/vnd.plotly.v1+json": {
       "config": {
        "plotlyServerURL": "https://plot.ly"
       },
       "data": [
        {
         "alignmentgroup": "True",
         "customdata": [
          [
           0
          ]
         ],
         "hovertemplate": "<b>%{hovertext}</b><br><br>column=%{x}<br>column_0=%{y}<br>percent=%{customdata[0]}<extra></extra>",
         "hovertext": [
          "case_id"
         ],
         "legendgroup": "case_id",
         "marker": {
          "color": "#636efa",
          "pattern": {
           "shape": ""
          }
         },
         "name": "case_id",
         "offsetgroup": "case_id",
         "orientation": "v",
         "showlegend": true,
         "textposition": "auto",
         "type": "bar",
         "x": [
          "case_id"
         ],
         "xaxis": "x",
         "y": [
          0
         ],
         "yaxis": "y"
        },
        {
         "alignmentgroup": "True",
         "customdata": [
          [
           0.99
          ]
         ],
         "hovertemplate": "<b>%{hovertext}</b><br><br>column=%{x}<br>column_0=%{y}<br>percent=%{customdata[0]}<extra></extra>",
         "hovertext": [
          "annualeffectiverate_199L\n(Interest rate of the closed contracts.)"
         ],
         "legendgroup": "annualeffectiverate_199L\n(Interest rate of the closed contracts.)",
         "marker": {
          "color": "#EF553B",
          "pattern": {
           "shape": ""
          }
         },
         "name": "annualeffectiverate_199L\n(Interest rate of the closed contracts.)",
         "offsetgroup": "annualeffectiverate_199L\n(Interest rate of the closed contracts.)",
         "orientation": "v",
         "showlegend": true,
         "textposition": "auto",
         "type": "bar",
         "x": [
          "annualeffectiverate_199L\n(Interest rate of the closed contracts.)"
         ],
         "xaxis": "x",
         "y": [
          4071231
         ],
         "yaxis": "y"
        },
        {
         "alignmentgroup": "True",
         "customdata": [
          [
           0.98
          ]
         ],
         "hovertemplate": "<b>%{hovertext}</b><br><br>column=%{x}<br>column_0=%{y}<br>percent=%{customdata[0]}<extra></extra>",
         "hovertext": [
          "annualeffectiverate_63L\n(Interest rate for the active contracts.)"
         ],
         "legendgroup": "annualeffectiverate_63L\n(Interest rate for the active contracts.)",
         "marker": {
          "color": "#00cc96",
          "pattern": {
           "shape": ""
          }
         },
         "name": "annualeffectiverate_63L\n(Interest rate for the active contracts.)",
         "offsetgroup": "annualeffectiverate_63L\n(Interest rate for the active contracts.)",
         "orientation": "v",
         "showlegend": true,
         "textposition": "auto",
         "type": "bar",
         "x": [
          "annualeffectiverate_63L\n(Interest rate for the active contracts.)"
         ],
         "xaxis": "x",
         "y": [
          4035875
         ],
         "yaxis": "y"
        },
        {
         "alignmentgroup": "True",
         "customdata": [
          [
           0
          ]
         ],
         "hovertemplate": "<b>%{hovertext}</b><br><br>column=%{x}<br>column_0=%{y}<br>percent=%{customdata[0]}<extra></extra>",
         "hovertext": [
          "classificationofcontr_13M\n(Classificiation of the active contract.)"
         ],
         "legendgroup": "classificationofcontr_13M\n(Classificiation of the active contract.)",
         "marker": {
          "color": "#ab63fa",
          "pattern": {
           "shape": ""
          }
         },
         "name": "classificationofcontr_13M\n(Classificiation of the active contract.)",
         "offsetgroup": "classificationofcontr_13M\n(Classificiation of the active contract.)",
         "orientation": "v",
         "showlegend": true,
         "textposition": "auto",
         "type": "bar",
         "x": [
          "classificationofcontr_13M\n(Classificiation of the active contract.)"
         ],
         "xaxis": "x",
         "y": [
          0
         ],
         "yaxis": "y"
        },
        {
         "alignmentgroup": "True",
         "customdata": [
          [
           0
          ]
         ],
         "hovertemplate": "<b>%{hovertext}</b><br><br>column=%{x}<br>column_0=%{y}<br>percent=%{customdata[0]}<extra></extra>",
         "hovertext": [
          "classificationofcontr_400M\n(Classificiation of the closed contract.)"
         ],
         "legendgroup": "classificationofcontr_400M\n(Classificiation of the closed contract.)",
         "marker": {
          "color": "#FFA15A",
          "pattern": {
           "shape": ""
          }
         },
         "name": "classificationofcontr_400M\n(Classificiation of the closed contract.)",
         "offsetgroup": "classificationofcontr_400M\n(Classificiation of the closed contract.)",
         "orientation": "v",
         "showlegend": true,
         "textposition": "auto",
         "type": "bar",
         "x": [
          "classificationofcontr_400M\n(Classificiation of the closed contract.)"
         ],
         "xaxis": "x",
         "y": [
          0
         ],
         "yaxis": "y"
        },
        {
         "alignmentgroup": "True",
         "customdata": [
          [
           0
          ]
         ],
         "hovertemplate": "<b>%{hovertext}</b><br><br>column=%{x}<br>column_0=%{y}<br>percent=%{customdata[0]}<extra></extra>",
         "hovertext": [
          "contractst_545M\n(Contract status.)"
         ],
         "legendgroup": "contractst_545M\n(Contract status.)",
         "marker": {
          "color": "#19d3f3",
          "pattern": {
           "shape": ""
          }
         },
         "name": "contractst_545M\n(Contract status.)",
         "offsetgroup": "contractst_545M\n(Contract status.)",
         "orientation": "v",
         "showlegend": true,
         "textposition": "auto",
         "type": "bar",
         "x": [
          "contractst_545M\n(Contract status.)"
         ],
         "xaxis": "x",
         "y": [
          0
         ],
         "yaxis": "y"
        },
        {
         "alignmentgroup": "True",
         "customdata": [
          [
           0
          ]
         ],
         "hovertemplate": "<b>%{hovertext}</b><br><br>column=%{x}<br>column_0=%{y}<br>percent=%{customdata[0]}<extra></extra>",
         "hovertext": [
          "contractst_964M\n(Contract status of terminated credit contract.)"
         ],
         "legendgroup": "contractst_964M\n(Contract status of terminated credit contract.)",
         "marker": {
          "color": "#FF6692",
          "pattern": {
           "shape": ""
          }
         },
         "name": "contractst_964M\n(Contract status of terminated credit contract.)",
         "offsetgroup": "contractst_964M\n(Contract status of terminated credit contract.)",
         "orientation": "v",
         "showlegend": true,
         "textposition": "auto",
         "type": "bar",
         "x": [
          "contractst_964M\n(Contract status of terminated credit contract.)"
         ],
         "xaxis": "x",
         "y": [
          0
         ],
         "yaxis": "y"
        },
        {
         "alignmentgroup": "True",
         "customdata": [
          [
           1
          ]
         ],
         "hovertemplate": "<b>%{hovertext}</b><br><br>column=%{x}<br>column_0=%{y}<br>percent=%{customdata[0]}<extra></extra>",
         "hovertext": [
          "contractsum_5085717L\n(Sum of other contract values.)"
         ],
         "legendgroup": "contractsum_5085717L\n(Sum of other contract values.)",
         "marker": {
          "color": "#B6E880",
          "pattern": {
           "shape": ""
          }
         },
         "name": "contractsum_5085717L\n(Sum of other contract values.)",
         "offsetgroup": "contractsum_5085717L\n(Sum of other contract values.)",
         "orientation": "v",
         "showlegend": true,
         "textposition": "auto",
         "type": "bar",
         "x": [
          "contractsum_5085717L\n(Sum of other contract values.)"
         ],
         "xaxis": "x",
         "y": [
          4108212
         ],
         "yaxis": "y"
        },
        {
         "alignmentgroup": "True",
         "customdata": [
          [
           0.98
          ]
         ],
         "hovertemplate": "<b>%{hovertext}</b><br><br>column=%{x}<br>column_0=%{y}<br>percent=%{customdata[0]}<extra></extra>",
         "hovertext": [
          "credlmt_230A\n(Credit limit of the closed credit contracts from credit bureau.)"
         ],
         "legendgroup": "credlmt_230A\n(Credit limit of the closed credit contracts from credit bureau.)",
         "marker": {
          "color": "#FF97FF",
          "pattern": {
           "shape": ""
          }
         },
         "name": "credlmt_230A\n(Credit limit of the closed credit contracts from credit bureau.)",
         "offsetgroup": "credlmt_230A\n(Credit limit of the closed credit contracts from credit bureau.)",
         "orientation": "v",
         "showlegend": true,
         "textposition": "auto",
         "type": "bar",
         "x": [
          "credlmt_230A\n(Credit limit of the closed credit contracts from credit bureau.)"
         ],
         "xaxis": "x",
         "y": [
          4043918
         ],
         "yaxis": "y"
        },
        {
         "alignmentgroup": "True",
         "customdata": [
          [
           0.93
          ]
         ],
         "hovertemplate": "<b>%{hovertext}</b><br><br>column=%{x}<br>column_0=%{y}<br>percent=%{customdata[0]}<extra></extra>",
         "hovertext": [
          "credlmt_935A\n(Credit limit for active loan.)"
         ],
         "legendgroup": "credlmt_935A\n(Credit limit for active loan.)",
         "marker": {
          "color": "#FECB52",
          "pattern": {
           "shape": ""
          }
         },
         "name": "credlmt_935A\n(Credit limit for active loan.)",
         "offsetgroup": "credlmt_935A\n(Credit limit for active loan.)",
         "orientation": "v",
         "showlegend": true,
         "textposition": "auto",
         "type": "bar",
         "x": [
          "credlmt_935A\n(Credit limit for active loan.)"
         ],
         "xaxis": "x",
         "y": [
          3810159
         ],
         "yaxis": "y"
        },
        {
         "alignmentgroup": "True",
         "customdata": [
          [
           0.92
          ]
         ],
         "hovertemplate": "<b>%{hovertext}</b><br><br>column=%{x}<br>column_0=%{y}<br>percent=%{customdata[0]}<extra></extra>",
         "hovertext": [
          "debtoutstand_525A\n(Outstanding amount of existing contract.)"
         ],
         "legendgroup": "debtoutstand_525A\n(Outstanding amount of existing contract.)",
         "marker": {
          "color": "#636efa",
          "pattern": {
           "shape": ""
          }
         },
         "name": "debtoutstand_525A\n(Outstanding amount of existing contract.)",
         "offsetgroup": "debtoutstand_525A\n(Outstanding amount of existing contract.)",
         "orientation": "v",
         "showlegend": true,
         "textposition": "auto",
         "type": "bar",
         "x": [
          "debtoutstand_525A\n(Outstanding amount of existing contract.)"
         ],
         "xaxis": "x",
         "y": [
          3773397
         ],
         "yaxis": "y"
        },
        {
         "alignmentgroup": "True",
         "customdata": [
          [
           0.92
          ]
         ],
         "hovertemplate": "<b>%{hovertext}</b><br><br>column=%{x}<br>column_0=%{y}<br>percent=%{customdata[0]}<extra></extra>",
         "hovertext": [
          "debtoverdue_47A\n(Amount that is currently past due on a client's existing credit contract.)"
         ],
         "legendgroup": "debtoverdue_47A\n(Amount that is currently past due on a client's existing credit contract.)",
         "marker": {
          "color": "#EF553B",
          "pattern": {
           "shape": ""
          }
         },
         "name": "debtoverdue_47A\n(Amount that is currently past due on a client's existing credit contract.)",
         "offsetgroup": "debtoverdue_47A\n(Amount that is currently past due on a client's existing credit contract.)",
         "orientation": "v",
         "showlegend": true,
         "textposition": "auto",
         "type": "bar",
         "x": [
          "debtoverdue_47A\n(Amount that is currently past due on a client's existing credit contract.)"
         ],
         "xaxis": "x",
         "y": [
          3773397
         ],
         "yaxis": "y"
        },
        {
         "alignmentgroup": "True",
         "customdata": [
          [
           0
          ]
         ],
         "hovertemplate": "<b>%{hovertext}</b><br><br>column=%{x}<br>column_0=%{y}<br>percent=%{customdata[0]}<extra></extra>",
         "hovertext": [
          "description_351M\n(Categorization of clients by credit bureau.)"
         ],
         "legendgroup": "description_351M\n(Categorization of clients by credit bureau.)",
         "marker": {
          "color": "#00cc96",
          "pattern": {
           "shape": ""
          }
         },
         "name": "description_351M\n(Categorization of clients by credit bureau.)",
         "offsetgroup": "description_351M\n(Categorization of clients by credit bureau.)",
         "orientation": "v",
         "showlegend": true,
         "textposition": "auto",
         "type": "bar",
         "x": [
          "description_351M\n(Categorization of clients by credit bureau.)"
         ],
         "xaxis": "x",
         "y": [
          0
         ],
         "yaxis": "y"
        },
        {
         "alignmentgroup": "True",
         "customdata": [
          [
           0.84
          ]
         ],
         "hovertemplate": "<b>%{hovertext}</b><br><br>column=%{x}<br>column_0=%{y}<br>percent=%{customdata[0]}<extra></extra>",
         "hovertext": [
          "dpdmax_139P\n(Maximal days past due for active contract.)"
         ],
         "legendgroup": "dpdmax_139P\n(Maximal days past due for active contract.)",
         "marker": {
          "color": "#ab63fa",
          "pattern": {
           "shape": ""
          }
         },
         "name": "dpdmax_139P\n(Maximal days past due for active contract.)",
         "offsetgroup": "dpdmax_139P\n(Maximal days past due for active contract.)",
         "orientation": "v",
         "showlegend": true,
         "textposition": "auto",
         "type": "bar",
         "x": [
          "dpdmax_139P\n(Maximal days past due for active contract.)"
         ],
         "xaxis": "x",
         "y": [
          3452623
         ],
         "yaxis": "y"
        },
        {
         "alignmentgroup": "True",
         "customdata": [
          [
           0.89
          ]
         ],
         "hovertemplate": "<b>%{hovertext}</b><br><br>column=%{x}<br>column_0=%{y}<br>percent=%{customdata[0]}<extra></extra>",
         "hovertext": [
          "dpdmax_757P\n(Maximum days past due for a closed contract.)"
         ],
         "legendgroup": "dpdmax_757P\n(Maximum days past due for a closed contract.)",
         "marker": {
          "color": "#FFA15A",
          "pattern": {
           "shape": ""
          }
         },
         "name": "dpdmax_757P\n(Maximum days past due for a closed contract.)",
         "offsetgroup": "dpdmax_757P\n(Maximum days past due for a closed contract.)",
         "orientation": "v",
         "showlegend": true,
         "textposition": "auto",
         "type": "bar",
         "x": [
          "dpdmax_757P\n(Maximum days past due for a closed contract.)"
         ],
         "xaxis": "x",
         "y": [
          3667919
         ],
         "yaxis": "y"
        },
        {
         "alignmentgroup": "True",
         "customdata": [
          [
           0
          ]
         ],
         "hovertemplate": "<b>%{hovertext}</b><br><br>column=%{x}<br>column_0=%{y}<br>percent=%{customdata[0]}<extra></extra>",
         "hovertext": [
          "financialinstitution_382M\n(Name of financial institution that is linked to a closed contract.)"
         ],
         "legendgroup": "financialinstitution_382M\n(Name of financial institution that is linked to a closed contract.)",
         "marker": {
          "color": "#19d3f3",
          "pattern": {
           "shape": ""
          }
         },
         "name": "financialinstitution_382M\n(Name of financial institution that is linked to a closed contract.)",
         "offsetgroup": "financialinstitution_382M\n(Name of financial institution that is linked to a closed contract.)",
         "orientation": "v",
         "showlegend": true,
         "textposition": "auto",
         "type": "bar",
         "x": [
          "financialinstitution_382M\n(Name of financial institution that is linked to a closed contract.)"
         ],
         "xaxis": "x",
         "y": [
          0
         ],
         "yaxis": "y"
        },
        {
         "alignmentgroup": "True",
         "customdata": [
          [
           0
          ]
         ],
         "hovertemplate": "<b>%{hovertext}</b><br><br>column=%{x}<br>column_0=%{y}<br>percent=%{customdata[0]}<extra></extra>",
         "hovertext": [
          "financialinstitution_591M\n(Financial institution name of the active contract.)"
         ],
         "legendgroup": "financialinstitution_591M\n(Financial institution name of the active contract.)",
         "marker": {
          "color": "#FF6692",
          "pattern": {
           "shape": ""
          }
         },
         "name": "financialinstitution_591M\n(Financial institution name of the active contract.)",
         "offsetgroup": "financialinstitution_591M\n(Financial institution name of the active contract.)",
         "orientation": "v",
         "showlegend": true,
         "textposition": "auto",
         "type": "bar",
         "x": [
          "financialinstitution_591M\n(Financial institution name of the active contract.)"
         ],
         "xaxis": "x",
         "y": [
          0
         ],
         "yaxis": "y"
        },
        {
         "alignmentgroup": "True",
         "customdata": [
          [
           0.93
          ]
         ],
         "hovertemplate": "<b>%{hovertext}</b><br><br>column=%{x}<br>column_0=%{y}<br>percent=%{customdata[0]}<extra></extra>",
         "hovertext": [
          "instlamount_768A\n(Instalment amount for the active contract in credit bureau.)"
         ],
         "legendgroup": "instlamount_768A\n(Instalment amount for the active contract in credit bureau.)",
         "marker": {
          "color": "#B6E880",
          "pattern": {
           "shape": ""
          }
         },
         "name": "instlamount_768A\n(Instalment amount for the active contract in credit bureau.)",
         "offsetgroup": "instlamount_768A\n(Instalment amount for the active contract in credit bureau.)",
         "orientation": "v",
         "showlegend": true,
         "textposition": "auto",
         "type": "bar",
         "x": [
          "instlamount_768A\n(Instalment amount for the active contract in credit bureau.)"
         ],
         "xaxis": "x",
         "y": [
          3813073
         ],
         "yaxis": "y"
        },
        {
         "alignmentgroup": "True",
         "customdata": [
          [
           0.99
          ]
         ],
         "hovertemplate": "<b>%{hovertext}</b><br><br>column=%{x}<br>column_0=%{y}<br>percent=%{customdata[0]}<extra></extra>",
         "hovertext": [
          "instlamount_852A\n(Instalment amount for closed contract.)"
         ],
         "legendgroup": "instlamount_852A\n(Instalment amount for closed contract.)",
         "marker": {
          "color": "#FF97FF",
          "pattern": {
           "shape": ""
          }
         },
         "name": "instlamount_852A\n(Instalment amount for closed contract.)",
         "offsetgroup": "instlamount_852A\n(Instalment amount for closed contract.)",
         "orientation": "v",
         "showlegend": true,
         "textposition": "auto",
         "type": "bar",
         "x": [
          "instlamount_852A\n(Instalment amount for closed contract.)"
         ],
         "xaxis": "x",
         "y": [
          4067156
         ],
         "yaxis": "y"
        },
        {
         "alignmentgroup": "True",
         "customdata": [
          [
           1
          ]
         ],
         "hovertemplate": "<b>%{hovertext}</b><br><br>column=%{x}<br>column_0=%{y}<br>percent=%{customdata[0]}<extra></extra>",
         "hovertext": [
          "interestrate_508L\n(Interest rate for a closed contract in the credit bureau.)"
         ],
         "legendgroup": "interestrate_508L\n(Interest rate for a closed contract in the credit bureau.)",
         "marker": {
          "color": "#FECB52",
          "pattern": {
           "shape": ""
          }
         },
         "name": "interestrate_508L\n(Interest rate for a closed contract in the credit bureau.)",
         "offsetgroup": "interestrate_508L\n(Interest rate for a closed contract in the credit bureau.)",
         "orientation": "v",
         "showlegend": true,
         "textposition": "auto",
         "type": "bar",
         "x": [
          "interestrate_508L\n(Interest rate for a closed contract in the credit bureau.)"
         ],
         "xaxis": "x",
         "y": [
          4102975
         ],
         "yaxis": "y"
        },
        {
         "alignmentgroup": "True",
         "customdata": [
          [
           0.84
          ]
         ],
         "hovertemplate": "<b>%{hovertext}</b><br><br>column=%{x}<br>column_0=%{y}<br>percent=%{customdata[0]}<extra></extra>",
         "hovertext": [
          "monthlyinstlamount_332A\n(Monthly instalment amount for active contract.)"
         ],
         "legendgroup": "monthlyinstlamount_332A\n(Monthly instalment amount for active contract.)",
         "marker": {
          "color": "#636efa",
          "pattern": {
           "shape": ""
          }
         },
         "name": "monthlyinstlamount_332A\n(Monthly instalment amount for active contract.)",
         "offsetgroup": "monthlyinstlamount_332A\n(Monthly instalment amount for active contract.)",
         "orientation": "v",
         "showlegend": true,
         "textposition": "auto",
         "type": "bar",
         "x": [
          "monthlyinstlamount_332A\n(Monthly instalment amount for active contract.)"
         ],
         "xaxis": "x",
         "y": [
          3452923
         ],
         "yaxis": "y"
        },
        {
         "alignmentgroup": "True",
         "customdata": [
          [
           0.9
          ]
         ],
         "hovertemplate": "<b>%{hovertext}</b><br><br>column=%{x}<br>column_0=%{y}<br>percent=%{customdata[0]}<extra></extra>",
         "hovertext": [
          "monthlyinstlamount_674A\n(Monthly amount of instalment payment on a closed contract.)"
         ],
         "legendgroup": "monthlyinstlamount_674A\n(Monthly amount of instalment payment on a closed contract.)",
         "marker": {
          "color": "#EF553B",
          "pattern": {
           "shape": ""
          }
         },
         "name": "monthlyinstlamount_674A\n(Monthly amount of instalment payment on a closed contract.)",
         "offsetgroup": "monthlyinstlamount_674A\n(Monthly amount of instalment payment on a closed contract.)",
         "orientation": "v",
         "showlegend": true,
         "textposition": "auto",
         "type": "bar",
         "x": [
          "monthlyinstlamount_674A\n(Monthly amount of instalment payment on a closed contract.)"
         ],
         "xaxis": "x",
         "y": [
          3687335
         ],
         "yaxis": "y"
        },
        {
         "alignmentgroup": "True",
         "customdata": [
          [
           0.94
          ]
         ],
         "hovertemplate": "<b>%{hovertext}</b><br><br>column=%{x}<br>column_0=%{y}<br>percent=%{customdata[0]}<extra></extra>",
         "hovertext": [
          "nominalrate_281L\n(Interest rate of the active contract.)"
         ],
         "legendgroup": "nominalrate_281L\n(Interest rate of the active contract.)",
         "marker": {
          "color": "#00cc96",
          "pattern": {
           "shape": ""
          }
         },
         "name": "nominalrate_281L\n(Interest rate of the active contract.)",
         "offsetgroup": "nominalrate_281L\n(Interest rate of the active contract.)",
         "orientation": "v",
         "showlegend": true,
         "textposition": "auto",
         "type": "bar",
         "x": [
          "nominalrate_281L\n(Interest rate of the active contract.)"
         ],
         "xaxis": "x",
         "y": [
          3863576
         ],
         "yaxis": "y"
        },
        {
         "alignmentgroup": "True",
         "customdata": [
          [
           0.97
          ]
         ],
         "hovertemplate": "<b>%{hovertext}</b><br><br>column=%{x}<br>column_0=%{y}<br>percent=%{customdata[0]}<extra></extra>",
         "hovertext": [
          "nominalrate_498L\n(Interest rate for closed contract.)"
         ],
         "legendgroup": "nominalrate_498L\n(Interest rate for closed contract.)",
         "marker": {
          "color": "#ab63fa",
          "pattern": {
           "shape": ""
          }
         },
         "name": "nominalrate_498L\n(Interest rate for closed contract.)",
         "offsetgroup": "nominalrate_498L\n(Interest rate for closed contract.)",
         "orientation": "v",
         "showlegend": true,
         "textposition": "auto",
         "type": "bar",
         "x": [
          "nominalrate_498L\n(Interest rate for closed contract.)"
         ],
         "xaxis": "x",
         "y": [
          3969804
         ],
         "yaxis": "y"
        },
        {
         "alignmentgroup": "True",
         "customdata": [
          [
           0
          ]
         ],
         "hovertemplate": "<b>%{hovertext}</b><br><br>column=%{x}<br>column_0=%{y}<br>percent=%{customdata[0]}<extra></extra>",
         "hovertext": [
          "num_group1"
         ],
         "legendgroup": "num_group1",
         "marker": {
          "color": "#FFA15A",
          "pattern": {
           "shape": ""
          }
         },
         "name": "num_group1",
         "offsetgroup": "num_group1",
         "orientation": "v",
         "showlegend": true,
         "textposition": "auto",
         "type": "bar",
         "x": [
          "num_group1"
         ],
         "xaxis": "x",
         "y": [
          0
         ],
         "yaxis": "y"
        },
        {
         "alignmentgroup": "True",
         "customdata": [
          [
           0.92
          ]
         ],
         "hovertemplate": "<b>%{hovertext}</b><br><br>column=%{x}<br>column_0=%{y}<br>percent=%{customdata[0]}<extra></extra>",
         "hovertext": [
          "numberofcontrsvalue_258L\n(Number of active contracts in credit bureau.)"
         ],
         "legendgroup": "numberofcontrsvalue_258L\n(Number of active contracts in credit bureau.)",
         "marker": {
          "color": "#19d3f3",
          "pattern": {
           "shape": ""
          }
         },
         "name": "numberofcontrsvalue_258L\n(Number of active contracts in credit bureau.)",
         "offsetgroup": "numberofcontrsvalue_258L\n(Number of active contracts in credit bureau.)",
         "orientation": "v",
         "showlegend": true,
         "textposition": "auto",
         "type": "bar",
         "x": [
          "numberofcontrsvalue_258L\n(Number of active contracts in credit bureau.)"
         ],
         "xaxis": "x",
         "y": [
          3770638
         ],
         "yaxis": "y"
        },
        {
         "alignmentgroup": "True",
         "customdata": [
          [
           0.93
          ]
         ],
         "hovertemplate": "<b>%{hovertext}</b><br><br>column=%{x}<br>column_0=%{y}<br>percent=%{customdata[0]}<extra></extra>",
         "hovertext": [
          "numberofcontrsvalue_358L\n(Number of closed credit contracts.)"
         ],
         "legendgroup": "numberofcontrsvalue_358L\n(Number of closed credit contracts.)",
         "marker": {
          "color": "#FF6692",
          "pattern": {
           "shape": ""
          }
         },
         "name": "numberofcontrsvalue_358L\n(Number of closed credit contracts.)",
         "offsetgroup": "numberofcontrsvalue_358L\n(Number of closed credit contracts.)",
         "orientation": "v",
         "showlegend": true,
         "textposition": "auto",
         "type": "bar",
         "x": [
          "numberofcontrsvalue_358L\n(Number of closed credit contracts.)"
         ],
         "xaxis": "x",
         "y": [
          3809610
         ],
         "yaxis": "y"
        },
        {
         "alignmentgroup": "True",
         "customdata": [
          [
           0.9
          ]
         ],
         "hovertemplate": "<b>%{hovertext}</b><br><br>column=%{x}<br>column_0=%{y}<br>percent=%{customdata[0]}<extra></extra>",
         "hovertext": [
          "numberofinstls_229L\n(Number of instalments on closed contract.)"
         ],
         "legendgroup": "numberofinstls_229L\n(Number of instalments on closed contract.)",
         "marker": {
          "color": "#B6E880",
          "pattern": {
           "shape": ""
          }
         },
         "name": "numberofinstls_229L\n(Number of instalments on closed contract.)",
         "offsetgroup": "numberofinstls_229L\n(Number of instalments on closed contract.)",
         "orientation": "v",
         "showlegend": true,
         "textposition": "auto",
         "type": "bar",
         "x": [
          "numberofinstls_229L\n(Number of instalments on closed contract.)"
         ],
         "xaxis": "x",
         "y": [
          3715974
         ],
         "yaxis": "y"
        },
        {
         "alignmentgroup": "True",
         "customdata": [
          [
           0.91
          ]
         ],
         "hovertemplate": "<b>%{hovertext}</b><br><br>column=%{x}<br>column_0=%{y}<br>percent=%{customdata[0]}<extra></extra>",
         "hovertext": [
          "numberofinstls_320L\n(Number of instalments of the active contract.)"
         ],
         "legendgroup": "numberofinstls_320L\n(Number of instalments of the active contract.)",
         "marker": {
          "color": "#FF97FF",
          "pattern": {
           "shape": ""
          }
         },
         "name": "numberofinstls_320L\n(Number of instalments of the active contract.)",
         "offsetgroup": "numberofinstls_320L\n(Number of instalments of the active contract.)",
         "orientation": "v",
         "showlegend": true,
         "textposition": "auto",
         "type": "bar",
         "x": [
          "numberofinstls_320L\n(Number of instalments of the active contract.)"
         ],
         "xaxis": "x",
         "y": [
          3747975
         ],
         "yaxis": "y"
        },
        {
         "alignmentgroup": "True",
         "customdata": [
          [
           0.9
          ]
         ],
         "hovertemplate": "<b>%{hovertext}</b><br><br>column=%{x}<br>column_0=%{y}<br>percent=%{customdata[0]}<extra></extra>",
         "hovertext": [
          "numberofoutstandinstls_520L\n(Number of outstanding instalment for closed contract.)"
         ],
         "legendgroup": "numberofoutstandinstls_520L\n(Number of outstanding instalment for closed contract.)",
         "marker": {
          "color": "#FECB52",
          "pattern": {
           "shape": ""
          }
         },
         "name": "numberofoutstandinstls_520L\n(Number of outstanding instalment for closed contract.)",
         "offsetgroup": "numberofoutstandinstls_520L\n(Number of outstanding instalment for closed contract.)",
         "orientation": "v",
         "showlegend": true,
         "textposition": "auto",
         "type": "bar",
         "x": [
          "numberofoutstandinstls_520L\n(Number of outstanding instalment for closed contract.)"
         ],
         "xaxis": "x",
         "y": [
          3715663
         ],
         "yaxis": "y"
        },
        {
         "alignmentgroup": "True",
         "customdata": [
          [
           0.91
          ]
         ],
         "hovertemplate": "<b>%{hovertext}</b><br><br>column=%{x}<br>column_0=%{y}<br>percent=%{customdata[0]}<extra></extra>",
         "hovertext": [
          "numberofoutstandinstls_59L\n(Number of outstanding instalments for the active contracts.)"
         ],
         "legendgroup": "numberofoutstandinstls_59L\n(Number of outstanding instalments for the active contracts.)",
         "marker": {
          "color": "#636efa",
          "pattern": {
           "shape": ""
          }
         },
         "name": "numberofoutstandinstls_59L\n(Number of outstanding instalments for the active contracts.)",
         "offsetgroup": "numberofoutstandinstls_59L\n(Number of outstanding instalments for the active contracts.)",
         "orientation": "v",
         "showlegend": true,
         "textposition": "auto",
         "type": "bar",
         "x": [
          "numberofoutstandinstls_59L\n(Number of outstanding instalments for the active contracts.)"
         ],
         "xaxis": "x",
         "y": [
          3747993
         ],
         "yaxis": "y"
        },
        {
         "alignmentgroup": "True",
         "customdata": [
          [
           0.84
          ]
         ],
         "hovertemplate": "<b>%{hovertext}</b><br><br>column=%{x}<br>column_0=%{y}<br>percent=%{customdata[0]}<extra></extra>",
         "hovertext": [
          "numberofoverdueinstlmax_1039L\n(Number of outstanding instalments for active contracts.)"
         ],
         "legendgroup": "numberofoverdueinstlmax_1039L\n(Number of outstanding instalments for active contracts.)",
         "marker": {
          "color": "#EF553B",
          "pattern": {
           "shape": ""
          }
         },
         "name": "numberofoverdueinstlmax_1039L\n(Number of outstanding instalments for active contracts.)",
         "offsetgroup": "numberofoverdueinstlmax_1039L\n(Number of outstanding instalments for active contracts.)",
         "orientation": "v",
         "showlegend": true,
         "textposition": "auto",
         "type": "bar",
         "x": [
          "numberofoverdueinstlmax_1039L\n(Number of outstanding instalments for active contracts.)"
         ],
         "xaxis": "x",
         "y": [
          3449815
         ],
         "yaxis": "y"
        },
        {
         "alignmentgroup": "True",
         "customdata": [
          [
           0.89
          ]
         ],
         "hovertemplate": "<b>%{hovertext}</b><br><br>column=%{x}<br>column_0=%{y}<br>percent=%{customdata[0]}<extra></extra>",
         "hovertext": [
          "numberofoverdueinstlmax_1151L\n(Maximum number of past due installments for a closed contract.)"
         ],
         "legendgroup": "numberofoverdueinstlmax_1151L\n(Maximum number of past due installments for a closed contract.)",
         "marker": {
          "color": "#00cc96",
          "pattern": {
           "shape": ""
          }
         },
         "name": "numberofoverdueinstlmax_1151L\n(Maximum number of past due installments for a closed contract.)",
         "offsetgroup": "numberofoverdueinstlmax_1151L\n(Maximum number of past due installments for a closed contract.)",
         "orientation": "v",
         "showlegend": true,
         "textposition": "auto",
         "type": "bar",
         "x": [
          "numberofoverdueinstlmax_1151L\n(Maximum number of past due installments for a closed contract.)"
         ],
         "xaxis": "x",
         "y": [
          3651491
         ],
         "yaxis": "y"
        },
        {
         "alignmentgroup": "True",
         "customdata": [
          [
           0.97
          ]
         ],
         "hovertemplate": "<b>%{hovertext}</b><br><br>column=%{x}<br>column_0=%{y}<br>percent=%{customdata[0]}<extra></extra>",
         "hovertext": [
          "numberofoverdueinstlmaxdat_148D\n(Date of maximum number of past due instalments for the closed contract.)"
         ],
         "legendgroup": "numberofoverdueinstlmaxdat_148D\n(Date of maximum number of past due instalments for the closed contract.)",
         "marker": {
          "color": "#ab63fa",
          "pattern": {
           "shape": ""
          }
         },
         "name": "numberofoverdueinstlmaxdat_148D\n(Date of maximum number of past due instalments for the closed contract.)",
         "offsetgroup": "numberofoverdueinstlmaxdat_148D\n(Date of maximum number of past due instalments for the closed contract.)",
         "orientation": "v",
         "showlegend": true,
         "textposition": "auto",
         "type": "bar",
         "x": [
          "numberofoverdueinstlmaxdat_148D\n(Date of maximum number of past due instalments for the closed contract.)"
         ],
         "xaxis": "x",
         "y": [
          3971294
         ],
         "yaxis": "y"
        },
        {
         "alignmentgroup": "True",
         "customdata": [
          [
           0.96
          ]
         ],
         "hovertemplate": "<b>%{hovertext}</b><br><br>column=%{x}<br>column_0=%{y}<br>percent=%{customdata[0]}<extra></extra>",
         "hovertext": [
          "numberofoverdueinstlmaxdat_641D\n(Date of maximum number of past due instalments for the active contract.)"
         ],
         "legendgroup": "numberofoverdueinstlmaxdat_641D\n(Date of maximum number of past due instalments for the active contract.)",
         "marker": {
          "color": "#FFA15A",
          "pattern": {
           "shape": ""
          }
         },
         "name": "numberofoverdueinstlmaxdat_641D\n(Date of maximum number of past due instalments for the active contract.)",
         "offsetgroup": "numberofoverdueinstlmaxdat_641D\n(Date of maximum number of past due instalments for the active contract.)",
         "orientation": "v",
         "showlegend": true,
         "textposition": "auto",
         "type": "bar",
         "x": [
          "numberofoverdueinstlmaxdat_641D\n(Date of maximum number of past due instalments for the active contract.)"
         ],
         "xaxis": "x",
         "y": [
          3940253
         ],
         "yaxis": "y"
        },
        {
         "alignmentgroup": "True",
         "customdata": [
          [
           0.84
          ]
         ],
         "hovertemplate": "<b>%{hovertext}</b><br><br>column=%{x}<br>column_0=%{y}<br>percent=%{customdata[0]}<extra></extra>",
         "hovertext": [
          "numberofoverdueinstls_725L\n(Maximum number of past due instalments for an active contract.)"
         ],
         "legendgroup": "numberofoverdueinstls_725L\n(Maximum number of past due instalments for an active contract.)",
         "marker": {
          "color": "#19d3f3",
          "pattern": {
           "shape": ""
          }
         },
         "name": "numberofoverdueinstls_725L\n(Maximum number of past due instalments for an active contract.)",
         "offsetgroup": "numberofoverdueinstls_725L\n(Maximum number of past due instalments for an active contract.)",
         "orientation": "v",
         "showlegend": true,
         "textposition": "auto",
         "type": "bar",
         "x": [
          "numberofoverdueinstls_725L\n(Maximum number of past due instalments for an active contract.)"
         ],
         "xaxis": "x",
         "y": [
          3452684
         ],
         "yaxis": "y"
        },
        {
         "alignmentgroup": "True",
         "customdata": [
          [
           0.89
          ]
         ],
         "hovertemplate": "<b>%{hovertext}</b><br><br>column=%{x}<br>column_0=%{y}<br>percent=%{customdata[0]}<extra></extra>",
         "hovertext": [
          "numberofoverdueinstls_834L\n(Number of past due instalments for a closed contract.)"
         ],
         "legendgroup": "numberofoverdueinstls_834L\n(Number of past due instalments for a closed contract.)",
         "marker": {
          "color": "#FF6692",
          "pattern": {
           "shape": ""
          }
         },
         "name": "numberofoverdueinstls_834L\n(Number of past due instalments for a closed contract.)",
         "offsetgroup": "numberofoverdueinstls_834L\n(Number of past due instalments for a closed contract.)",
         "orientation": "v",
         "showlegend": true,
         "textposition": "auto",
         "type": "bar",
         "x": [
          "numberofoverdueinstls_834L\n(Number of past due instalments for a closed contract.)"
         ],
         "xaxis": "x",
         "y": [
          3652014
         ],
         "yaxis": "y"
        },
        {
         "alignmentgroup": "True",
         "customdata": [
          [
           0.9
          ]
         ],
         "hovertemplate": "<b>%{hovertext}</b><br><br>column=%{x}<br>column_0=%{y}<br>percent=%{customdata[0]}<extra></extra>",
         "hovertext": [
          "outstandingamount_354A\n(Outstanding amount for closed credit contract in credit bureau.)"
         ],
         "legendgroup": "outstandingamount_354A\n(Outstanding amount for closed credit contract in credit bureau.)",
         "marker": {
          "color": "#B6E880",
          "pattern": {
           "shape": ""
          }
         },
         "name": "outstandingamount_354A\n(Outstanding amount for closed credit contract in credit bureau.)",
         "offsetgroup": "outstandingamount_354A\n(Outstanding amount for closed credit contract in credit bureau.)",
         "orientation": "v",
         "showlegend": true,
         "textposition": "auto",
         "type": "bar",
         "x": [
          "outstandingamount_354A\n(Outstanding amount for closed credit contract in credit bureau.)"
         ],
         "xaxis": "x",
         "y": [
          3715535
         ],
         "yaxis": "y"
        },
        {
         "alignmentgroup": "True",
         "customdata": [
          [
           0.91
          ]
         ],
         "hovertemplate": "<b>%{hovertext}</b><br><br>column=%{x}<br>column_0=%{y}<br>percent=%{customdata[0]}<extra></extra>",
         "hovertext": [
          "outstandingamount_362A\n(Active contract's outstanding amount.)"
         ],
         "legendgroup": "outstandingamount_362A\n(Active contract's outstanding amount.)",
         "marker": {
          "color": "#FF97FF",
          "pattern": {
           "shape": ""
          }
         },
         "name": "outstandingamount_362A\n(Active contract's outstanding amount.)",
         "offsetgroup": "outstandingamount_362A\n(Active contract's outstanding amount.)",
         "orientation": "v",
         "showlegend": true,
         "textposition": "auto",
         "type": "bar",
         "x": [
          "outstandingamount_362A\n(Active contract's outstanding amount.)"
         ],
         "xaxis": "x",
         "y": [
          3747881
         ],
         "yaxis": "y"
        },
        {
         "alignmentgroup": "True",
         "customdata": [
          [
           0.89
          ]
         ],
         "hovertemplate": "<b>%{hovertext}</b><br><br>column=%{x}<br>column_0=%{y}<br>percent=%{customdata[0]}<extra></extra>",
         "hovertext": [
          "overdueamount_31A\n(Past due amount for a closed contract.)"
         ],
         "legendgroup": "overdueamount_31A\n(Past due amount for a closed contract.)",
         "marker": {
          "color": "#FECB52",
          "pattern": {
           "shape": ""
          }
         },
         "name": "overdueamount_31A\n(Past due amount for a closed contract.)",
         "offsetgroup": "overdueamount_31A\n(Past due amount for a closed contract.)",
         "orientation": "v",
         "showlegend": true,
         "textposition": "auto",
         "type": "bar",
         "x": [
          "overdueamount_31A\n(Past due amount for a closed contract.)"
         ],
         "xaxis": "x",
         "y": [
          3651899
         ],
         "yaxis": "y"
        },
        {
         "alignmentgroup": "True",
         "customdata": [
          [
           0.84
          ]
         ],
         "hovertemplate": "<b>%{hovertext}</b><br><br>column=%{x}<br>column_0=%{y}<br>percent=%{customdata[0]}<extra></extra>",
         "hovertext": [
          "overdueamount_659A\n(Past due amount for active contract.)"
         ],
         "legendgroup": "overdueamount_659A\n(Past due amount for active contract.)",
         "marker": {
          "color": "#636efa",
          "pattern": {
           "shape": ""
          }
         },
         "name": "overdueamount_659A\n(Past due amount for active contract.)",
         "offsetgroup": "overdueamount_659A\n(Past due amount for active contract.)",
         "orientation": "v",
         "showlegend": true,
         "textposition": "auto",
         "type": "bar",
         "x": [
          "overdueamount_659A\n(Past due amount for active contract.)"
         ],
         "xaxis": "x",
         "y": [
          3452681
         ],
         "yaxis": "y"
        },
        {
         "alignmentgroup": "True",
         "customdata": [
          [
           0.84
          ]
         ],
         "hovertemplate": "<b>%{hovertext}</b><br><br>column=%{x}<br>column_0=%{y}<br>percent=%{customdata[0]}<extra></extra>",
         "hovertext": [
          "overdueamountmax2_14A\n(Maximal past due amount for an active contract.)"
         ],
         "legendgroup": "overdueamountmax2_14A\n(Maximal past due amount for an active contract.)",
         "marker": {
          "color": "#EF553B",
          "pattern": {
           "shape": ""
          }
         },
         "name": "overdueamountmax2_14A\n(Maximal past due amount for an active contract.)",
         "offsetgroup": "overdueamountmax2_14A\n(Maximal past due amount for an active contract.)",
         "orientation": "v",
         "showlegend": true,
         "textposition": "auto",
         "type": "bar",
         "x": [
          "overdueamountmax2_14A\n(Maximal past due amount for an active contract.)"
         ],
         "xaxis": "x",
         "y": [
          3449815
         ],
         "yaxis": "y"
        },
        {
         "alignmentgroup": "True",
         "customdata": [
          [
           0.89
          ]
         ],
         "hovertemplate": "<b>%{hovertext}</b><br><br>column=%{x}<br>column_0=%{y}<br>percent=%{customdata[0]}<extra></extra>",
         "hovertext": [
          "overdueamountmax2_398A\n(Maximal overdue amount for a closed contract.)"
         ],
         "legendgroup": "overdueamountmax2_398A\n(Maximal overdue amount for a closed contract.)",
         "marker": {
          "color": "#00cc96",
          "pattern": {
           "shape": ""
          }
         },
         "name": "overdueamountmax2_398A\n(Maximal overdue amount for a closed contract.)",
         "offsetgroup": "overdueamountmax2_398A\n(Maximal overdue amount for a closed contract.)",
         "orientation": "v",
         "showlegend": true,
         "textposition": "auto",
         "type": "bar",
         "x": [
          "overdueamountmax2_398A\n(Maximal overdue amount for a closed contract.)"
         ],
         "xaxis": "x",
         "y": [
          3651491
         ],
         "yaxis": "y"
        },
        {
         "alignmentgroup": "True",
         "customdata": [
          [
           0.84
          ]
         ],
         "hovertemplate": "<b>%{hovertext}</b><br><br>column=%{x}<br>column_0=%{y}<br>percent=%{customdata[0]}<extra></extra>",
         "hovertext": [
          "overdueamountmax_155A\n(Maximal past due amount for active contract.)"
         ],
         "legendgroup": "overdueamountmax_155A\n(Maximal past due amount for active contract.)",
         "marker": {
          "color": "#ab63fa",
          "pattern": {
           "shape": ""
          }
         },
         "name": "overdueamountmax_155A\n(Maximal past due amount for active contract.)",
         "offsetgroup": "overdueamountmax_155A\n(Maximal past due amount for active contract.)",
         "orientation": "v",
         "showlegend": true,
         "textposition": "auto",
         "type": "bar",
         "x": [
          "overdueamountmax_155A\n(Maximal past due amount for active contract.)"
         ],
         "xaxis": "x",
         "y": [
          3449815
         ],
         "yaxis": "y"
        },
        {
         "alignmentgroup": "True",
         "customdata": [
          [
           0.89
          ]
         ],
         "hovertemplate": "<b>%{hovertext}</b><br><br>column=%{x}<br>column_0=%{y}<br>percent=%{customdata[0]}<extra></extra>",
         "hovertext": [
          "overdueamountmax_35A\n(Maximal past due amount for a closed contract.)"
         ],
         "legendgroup": "overdueamountmax_35A\n(Maximal past due amount for a closed contract.)",
         "marker": {
          "color": "#FFA15A",
          "pattern": {
           "shape": ""
          }
         },
         "name": "overdueamountmax_35A\n(Maximal past due amount for a closed contract.)",
         "offsetgroup": "overdueamountmax_35A\n(Maximal past due amount for a closed contract.)",
         "orientation": "v",
         "showlegend": true,
         "textposition": "auto",
         "type": "bar",
         "x": [
          "overdueamountmax_35A\n(Maximal past due amount for a closed contract.)"
         ],
         "xaxis": "x",
         "y": [
          3667444
         ],
         "yaxis": "y"
        },
        {
         "alignmentgroup": "True",
         "customdata": [
          [
           0.91
          ]
         ],
         "hovertemplate": "<b>%{hovertext}</b><br><br>column=%{x}<br>column_0=%{y}<br>percent=%{customdata[0]}<extra></extra>",
         "hovertext": [
          "periodicityofpmts_1102L\n(Frequency of instalments for a closed contract.)"
         ],
         "legendgroup": "periodicityofpmts_1102L\n(Frequency of instalments for a closed contract.)",
         "marker": {
          "color": "#19d3f3",
          "pattern": {
           "shape": ""
          }
         },
         "name": "periodicityofpmts_1102L\n(Frequency of instalments for a closed contract.)",
         "offsetgroup": "periodicityofpmts_1102L\n(Frequency of instalments for a closed contract.)",
         "orientation": "v",
         "showlegend": true,
         "textposition": "auto",
         "type": "bar",
         "x": [
          "periodicityofpmts_1102L\n(Frequency of instalments for a closed contract.)"
         ],
         "xaxis": "x",
         "y": [
          3748546
         ],
         "yaxis": "y"
        },
        {
         "alignmentgroup": "True",
         "customdata": [
          [
           0.91
          ]
         ],
         "hovertemplate": "<b>%{hovertext}</b><br><br>column=%{x}<br>column_0=%{y}<br>percent=%{customdata[0]}<extra></extra>",
         "hovertext": [
          "periodicityofpmts_837L\n(Frequency of instalments for an active contract.)"
         ],
         "legendgroup": "periodicityofpmts_837L\n(Frequency of instalments for an active contract.)",
         "marker": {
          "color": "#FF6692",
          "pattern": {
           "shape": ""
          }
         },
         "name": "periodicityofpmts_837L\n(Frequency of instalments for an active contract.)",
         "offsetgroup": "periodicityofpmts_837L\n(Frequency of instalments for an active contract.)",
         "orientation": "v",
         "showlegend": true,
         "textposition": "auto",
         "type": "bar",
         "x": [
          "periodicityofpmts_837L\n(Frequency of instalments for an active contract.)"
         ],
         "xaxis": "x",
         "y": [
          3755452
         ],
         "yaxis": "y"
        },
        {
         "alignmentgroup": "True",
         "customdata": [
          [
           0.99
          ]
         ],
         "hovertemplate": "<b>%{hovertext}</b><br><br>column=%{x}<br>column_0=%{y}<br>percent=%{customdata[0]}<extra></extra>",
         "hovertext": [
          "prolongationcount_1120L\n(Count of prolongations on terminated contract according to credit bureau.)"
         ],
         "legendgroup": "prolongationcount_1120L\n(Count of prolongations on terminated contract according to credit bureau.)",
         "marker": {
          "color": "#B6E880",
          "pattern": {
           "shape": ""
          }
         },
         "name": "prolongationcount_1120L\n(Count of prolongations on terminated contract according to credit bureau.)",
         "offsetgroup": "prolongationcount_1120L\n(Count of prolongations on terminated contract according to credit bureau.)",
         "orientation": "v",
         "showlegend": true,
         "textposition": "auto",
         "type": "bar",
         "x": [
          "prolongationcount_1120L\n(Count of prolongations on terminated contract according to credit bureau.)"
         ],
         "xaxis": "x",
         "y": [
          4081757
         ],
         "yaxis": "y"
        },
        {
         "alignmentgroup": "True",
         "customdata": [
          [
           1
          ]
         ],
         "hovertemplate": "<b>%{hovertext}</b><br><br>column=%{x}<br>column_0=%{y}<br>percent=%{customdata[0]}<extra></extra>",
         "hovertext": [
          "prolongationcount_599L\n(Count of active contract prolongations.)"
         ],
         "legendgroup": "prolongationcount_599L\n(Count of active contract prolongations.)",
         "marker": {
          "color": "#FF97FF",
          "pattern": {
           "shape": ""
          }
         },
         "name": "prolongationcount_599L\n(Count of active contract prolongations.)",
         "offsetgroup": "prolongationcount_599L\n(Count of active contract prolongations.)",
         "orientation": "v",
         "showlegend": true,
         "textposition": "auto",
         "type": "bar",
         "x": [
          "prolongationcount_599L\n(Count of active contract prolongations.)"
         ],
         "xaxis": "x",
         "y": [
          4102220
         ],
         "yaxis": "y"
        },
        {
         "alignmentgroup": "True",
         "customdata": [
          [
           0
          ]
         ],
         "hovertemplate": "<b>%{hovertext}</b><br><br>column=%{x}<br>column_0=%{y}<br>percent=%{customdata[0]}<extra></extra>",
         "hovertext": [
          "purposeofcred_426M\n(Purpose of credit for active contract.)"
         ],
         "legendgroup": "purposeofcred_426M\n(Purpose of credit for active contract.)",
         "marker": {
          "color": "#FECB52",
          "pattern": {
           "shape": ""
          }
         },
         "name": "purposeofcred_426M\n(Purpose of credit for active contract.)",
         "offsetgroup": "purposeofcred_426M\n(Purpose of credit for active contract.)",
         "orientation": "v",
         "showlegend": true,
         "textposition": "auto",
         "type": "bar",
         "x": [
          "purposeofcred_426M\n(Purpose of credit for active contract.)"
         ],
         "xaxis": "x",
         "y": [
          0
         ],
         "yaxis": "y"
        },
        {
         "alignmentgroup": "True",
         "customdata": [
          [
           0
          ]
         ],
         "hovertemplate": "<b>%{hovertext}</b><br><br>column=%{x}<br>column_0=%{y}<br>percent=%{customdata[0]}<extra></extra>",
         "hovertext": [
          "purposeofcred_874M\n(Purpose of credit on a closed contract.)"
         ],
         "legendgroup": "purposeofcred_874M\n(Purpose of credit on a closed contract.)",
         "marker": {
          "color": "#636efa",
          "pattern": {
           "shape": ""
          }
         },
         "name": "purposeofcred_874M\n(Purpose of credit on a closed contract.)",
         "offsetgroup": "purposeofcred_874M\n(Purpose of credit on a closed contract.)",
         "orientation": "v",
         "showlegend": true,
         "textposition": "auto",
         "type": "bar",
         "x": [
          "purposeofcred_874M\n(Purpose of credit on a closed contract.)"
         ],
         "xaxis": "x",
         "y": [
          0
         ],
         "yaxis": "y"
        },
        {
         "alignmentgroup": "True",
         "customdata": [
          [
           0.98
          ]
         ],
         "hovertemplate": "<b>%{hovertext}</b><br><br>column=%{x}<br>column_0=%{y}<br>percent=%{customdata[0]}<extra></extra>",
         "hovertext": [
          "residualamount_488A\n(Residual amount of a closed contract.)"
         ],
         "legendgroup": "residualamount_488A\n(Residual amount of a closed contract.)",
         "marker": {
          "color": "#EF553B",
          "pattern": {
           "shape": ""
          }
         },
         "name": "residualamount_488A\n(Residual amount of a closed contract.)",
         "offsetgroup": "residualamount_488A\n(Residual amount of a closed contract.)",
         "orientation": "v",
         "showlegend": true,
         "textposition": "auto",
         "type": "bar",
         "x": [
          "residualamount_488A\n(Residual amount of a closed contract.)"
         ],
         "xaxis": "x",
         "y": [
          4044452
         ],
         "yaxis": "y"
        },
        {
         "alignmentgroup": "True",
         "customdata": [
          [
           0.93
          ]
         ],
         "hovertemplate": "<b>%{hovertext}</b><br><br>column=%{x}<br>column_0=%{y}<br>percent=%{customdata[0]}<extra></extra>",
         "hovertext": [
          "residualamount_856A\n(Residual amount for the active contract.)"
         ],
         "legendgroup": "residualamount_856A\n(Residual amount for the active contract.)",
         "marker": {
          "color": "#00cc96",
          "pattern": {
           "shape": ""
          }
         },
         "name": "residualamount_856A\n(Residual amount for the active contract.)",
         "offsetgroup": "residualamount_856A\n(Residual amount for the active contract.)",
         "orientation": "v",
         "showlegend": true,
         "textposition": "auto",
         "type": "bar",
         "x": [
          "residualamount_856A\n(Residual amount for the active contract.)"
         ],
         "xaxis": "x",
         "y": [
          3813073
         ],
         "yaxis": "y"
        },
        {
         "alignmentgroup": "True",
         "customdata": [
          [
           0
          ]
         ],
         "hovertemplate": "<b>%{hovertext}</b><br><br>column=%{x}<br>column_0=%{y}<br>percent=%{customdata[0]}<extra></extra>",
         "hovertext": [
          "subjectrole_182M\n(Subject role in active credit contract.)"
         ],
         "legendgroup": "subjectrole_182M\n(Subject role in active credit contract.)",
         "marker": {
          "color": "#ab63fa",
          "pattern": {
           "shape": ""
          }
         },
         "name": "subjectrole_182M\n(Subject role in active credit contract.)",
         "offsetgroup": "subjectrole_182M\n(Subject role in active credit contract.)",
         "orientation": "v",
         "showlegend": true,
         "textposition": "auto",
         "type": "bar",
         "x": [
          "subjectrole_182M\n(Subject role in active credit contract.)"
         ],
         "xaxis": "x",
         "y": [
          0
         ],
         "yaxis": "y"
        },
        {
         "alignmentgroup": "True",
         "customdata": [
          [
           0
          ]
         ],
         "hovertemplate": "<b>%{hovertext}</b><br><br>column=%{x}<br>column_0=%{y}<br>percent=%{customdata[0]}<extra></extra>",
         "hovertext": [
          "subjectrole_93M\n(Subject role in closed credit contract.)"
         ],
         "legendgroup": "subjectrole_93M\n(Subject role in closed credit contract.)",
         "marker": {
          "color": "#FFA15A",
          "pattern": {
           "shape": ""
          }
         },
         "name": "subjectrole_93M\n(Subject role in closed credit contract.)",
         "offsetgroup": "subjectrole_93M\n(Subject role in closed credit contract.)",
         "orientation": "v",
         "showlegend": true,
         "textposition": "auto",
         "type": "bar",
         "x": [
          "subjectrole_93M\n(Subject role in closed credit contract.)"
         ],
         "xaxis": "x",
         "y": [
          0
         ],
         "yaxis": "y"
        },
        {
         "alignmentgroup": "True",
         "customdata": [
          [
           0.9
          ]
         ],
         "hovertemplate": "<b>%{hovertext}</b><br><br>column=%{x}<br>column_0=%{y}<br>percent=%{customdata[0]}<extra></extra>",
         "hovertext": [
          "totalamount_6A\n(Total amount of closed contracts.)"
         ],
         "legendgroup": "totalamount_6A\n(Total amount of closed contracts.)",
         "marker": {
          "color": "#19d3f3",
          "pattern": {
           "shape": ""
          }
         },
         "name": "totalamount_6A\n(Total amount of closed contracts.)",
         "offsetgroup": "totalamount_6A\n(Total amount of closed contracts.)",
         "orientation": "v",
         "showlegend": true,
         "textposition": "auto",
         "type": "bar",
         "x": [
          "totalamount_6A\n(Total amount of closed contracts.)"
         ],
         "xaxis": "x",
         "y": [
          3715421
         ],
         "yaxis": "y"
        },
        {
         "alignmentgroup": "True",
         "customdata": [
          [
           0.91
          ]
         ],
         "hovertemplate": "<b>%{hovertext}</b><br><br>column=%{x}<br>column_0=%{y}<br>percent=%{customdata[0]}<extra></extra>",
         "hovertext": [
          "totalamount_996A\n(Total amount of active contracts in the credit bureau.)"
         ],
         "legendgroup": "totalamount_996A\n(Total amount of active contracts in the credit bureau.)",
         "marker": {
          "color": "#FF6692",
          "pattern": {
           "shape": ""
          }
         },
         "name": "totalamount_996A\n(Total amount of active contracts in the credit bureau.)",
         "offsetgroup": "totalamount_996A\n(Total amount of active contracts in the credit bureau.)",
         "orientation": "v",
         "showlegend": true,
         "textposition": "auto",
         "type": "bar",
         "x": [
          "totalamount_996A\n(Total amount of active contracts in the credit bureau.)"
         ],
         "xaxis": "x",
         "y": [
          3747868
         ],
         "yaxis": "y"
        },
        {
         "alignmentgroup": "True",
         "customdata": [
          [
           0.92
          ]
         ],
         "hovertemplate": "<b>%{hovertext}</b><br><br>column=%{x}<br>column_0=%{y}<br>percent=%{customdata[0]}<extra></extra>",
         "hovertext": [
          "totaldebtoverduevalue_178A\n(Total amount of past due debt on active contracts.)"
         ],
         "legendgroup": "totaldebtoverduevalue_178A\n(Total amount of past due debt on active contracts.)",
         "marker": {
          "color": "#B6E880",
          "pattern": {
           "shape": ""
          }
         },
         "name": "totaldebtoverduevalue_178A\n(Total amount of past due debt on active contracts.)",
         "offsetgroup": "totaldebtoverduevalue_178A\n(Total amount of past due debt on active contracts.)",
         "orientation": "v",
         "showlegend": true,
         "textposition": "auto",
         "type": "bar",
         "x": [
          "totaldebtoverduevalue_178A\n(Total amount of past due debt on active contracts.)"
         ],
         "xaxis": "x",
         "y": [
          3770638
         ],
         "yaxis": "y"
        },
        {
         "alignmentgroup": "True",
         "customdata": [
          [
           0.93
          ]
         ],
         "hovertemplate": "<b>%{hovertext}</b><br><br>column=%{x}<br>column_0=%{y}<br>percent=%{customdata[0]}<extra></extra>",
         "hovertext": [
          "totaldebtoverduevalue_718A\n(Total overdue debt amount for closed credit contracts.)"
         ],
         "legendgroup": "totaldebtoverduevalue_718A\n(Total overdue debt amount for closed credit contracts.)",
         "marker": {
          "color": "#FF97FF",
          "pattern": {
           "shape": ""
          }
         },
         "name": "totaldebtoverduevalue_718A\n(Total overdue debt amount for closed credit contracts.)",
         "offsetgroup": "totaldebtoverduevalue_718A\n(Total overdue debt amount for closed credit contracts.)",
         "orientation": "v",
         "showlegend": true,
         "textposition": "auto",
         "type": "bar",
         "x": [
          "totaldebtoverduevalue_718A\n(Total overdue debt amount for closed credit contracts.)"
         ],
         "xaxis": "x",
         "y": [
          3809610
         ],
         "yaxis": "y"
        },
        {
         "alignmentgroup": "True",
         "customdata": [
          [
           0.92
          ]
         ],
         "hovertemplate": "<b>%{hovertext}</b><br><br>column=%{x}<br>column_0=%{y}<br>percent=%{customdata[0]}<extra></extra>",
         "hovertext": [
          "totaloutstanddebtvalue_39A\n(Total outstanding debt for active contracts in the credit bureau.)"
         ],
         "legendgroup": "totaloutstanddebtvalue_39A\n(Total outstanding debt for active contracts in the credit bureau.)",
         "marker": {
          "color": "#FECB52",
          "pattern": {
           "shape": ""
          }
         },
         "name": "totaloutstanddebtvalue_39A\n(Total outstanding debt for active contracts in the credit bureau.)",
         "offsetgroup": "totaloutstanddebtvalue_39A\n(Total outstanding debt for active contracts in the credit bureau.)",
         "orientation": "v",
         "showlegend": true,
         "textposition": "auto",
         "type": "bar",
         "x": [
          "totaloutstanddebtvalue_39A\n(Total outstanding debt for active contracts in the credit bureau.)"
         ],
         "xaxis": "x",
         "y": [
          3770638
         ],
         "yaxis": "y"
        },
        {
         "alignmentgroup": "True",
         "customdata": [
          [
           0.93
          ]
         ],
         "hovertemplate": "<b>%{hovertext}</b><br><br>column=%{x}<br>column_0=%{y}<br>percent=%{customdata[0]}<extra></extra>",
         "hovertext": [
          "totaloutstanddebtvalue_668A\n(Total outstanding debt for the closed contracts in the credit bureau.)"
         ],
         "legendgroup": "totaloutstanddebtvalue_668A\n(Total outstanding debt for the closed contracts in the credit bureau.)",
         "marker": {
          "color": "#636efa",
          "pattern": {
           "shape": ""
          }
         },
         "name": "totaloutstanddebtvalue_668A\n(Total outstanding debt for the closed contracts in the credit bureau.)",
         "offsetgroup": "totaloutstanddebtvalue_668A\n(Total outstanding debt for the closed contracts in the credit bureau.)",
         "orientation": "v",
         "showlegend": true,
         "textposition": "auto",
         "type": "bar",
         "x": [
          "totaloutstanddebtvalue_668A\n(Total outstanding debt for the closed contracts in the credit bureau.)"
         ],
         "xaxis": "x",
         "y": [
          3809610
         ],
         "yaxis": "y"
        }
       ],
       "layout": {
        "annotations": [
         {
          "showarrow": false,
          "text": "Total rows",
          "x": 1,
          "xanchor": "right",
          "xref": "x domain",
          "y": 4108212,
          "yanchor": "bottom",
          "yref": "y"
         }
        ],
        "barmode": "relative",
        "height": 900,
        "legend": {
         "title": {
          "text": "column"
         },
         "tracegroupgap": 10
        },
        "margin": {
         "t": 60
        },
        "shapes": [
         {
          "line": {
           "dash": "dashdot"
          },
          "type": "line",
          "x0": 0,
          "x1": 1,
          "xref": "x domain",
          "y0": 4108212,
          "y1": 4108212,
          "yref": "y"
         }
        ],
        "template": {
         "data": {
          "bar": [
           {
            "error_x": {
             "color": "#f2f5fa"
            },
            "error_y": {
             "color": "#f2f5fa"
            },
            "marker": {
             "line": {
              "color": "rgb(17,17,17)",
              "width": 0.5
             },
             "pattern": {
              "fillmode": "overlay",
              "size": 10,
              "solidity": 0.2
             }
            },
            "type": "bar"
           }
          ],
          "barpolar": [
           {
            "marker": {
             "line": {
              "color": "rgb(17,17,17)",
              "width": 0.5
             },
             "pattern": {
              "fillmode": "overlay",
              "size": 10,
              "solidity": 0.2
             }
            },
            "type": "barpolar"
           }
          ],
          "carpet": [
           {
            "aaxis": {
             "endlinecolor": "#A2B1C6",
             "gridcolor": "#506784",
             "linecolor": "#506784",
             "minorgridcolor": "#506784",
             "startlinecolor": "#A2B1C6"
            },
            "baxis": {
             "endlinecolor": "#A2B1C6",
             "gridcolor": "#506784",
             "linecolor": "#506784",
             "minorgridcolor": "#506784",
             "startlinecolor": "#A2B1C6"
            },
            "type": "carpet"
           }
          ],
          "choropleth": [
           {
            "colorbar": {
             "outlinewidth": 0,
             "ticks": ""
            },
            "type": "choropleth"
           }
          ],
          "contour": [
           {
            "colorbar": {
             "outlinewidth": 0,
             "ticks": ""
            },
            "colorscale": [
             [
              0,
              "#0d0887"
             ],
             [
              0.1111111111111111,
              "#46039f"
             ],
             [
              0.2222222222222222,
              "#7201a8"
             ],
             [
              0.3333333333333333,
              "#9c179e"
             ],
             [
              0.4444444444444444,
              "#bd3786"
             ],
             [
              0.5555555555555556,
              "#d8576b"
             ],
             [
              0.6666666666666666,
              "#ed7953"
             ],
             [
              0.7777777777777778,
              "#fb9f3a"
             ],
             [
              0.8888888888888888,
              "#fdca26"
             ],
             [
              1,
              "#f0f921"
             ]
            ],
            "type": "contour"
           }
          ],
          "contourcarpet": [
           {
            "colorbar": {
             "outlinewidth": 0,
             "ticks": ""
            },
            "type": "contourcarpet"
           }
          ],
          "heatmap": [
           {
            "colorbar": {
             "outlinewidth": 0,
             "ticks": ""
            },
            "colorscale": [
             [
              0,
              "#0d0887"
             ],
             [
              0.1111111111111111,
              "#46039f"
             ],
             [
              0.2222222222222222,
              "#7201a8"
             ],
             [
              0.3333333333333333,
              "#9c179e"
             ],
             [
              0.4444444444444444,
              "#bd3786"
             ],
             [
              0.5555555555555556,
              "#d8576b"
             ],
             [
              0.6666666666666666,
              "#ed7953"
             ],
             [
              0.7777777777777778,
              "#fb9f3a"
             ],
             [
              0.8888888888888888,
              "#fdca26"
             ],
             [
              1,
              "#f0f921"
             ]
            ],
            "type": "heatmap"
           }
          ],
          "heatmapgl": [
           {
            "colorbar": {
             "outlinewidth": 0,
             "ticks": ""
            },
            "colorscale": [
             [
              0,
              "#0d0887"
             ],
             [
              0.1111111111111111,
              "#46039f"
             ],
             [
              0.2222222222222222,
              "#7201a8"
             ],
             [
              0.3333333333333333,
              "#9c179e"
             ],
             [
              0.4444444444444444,
              "#bd3786"
             ],
             [
              0.5555555555555556,
              "#d8576b"
             ],
             [
              0.6666666666666666,
              "#ed7953"
             ],
             [
              0.7777777777777778,
              "#fb9f3a"
             ],
             [
              0.8888888888888888,
              "#fdca26"
             ],
             [
              1,
              "#f0f921"
             ]
            ],
            "type": "heatmapgl"
           }
          ],
          "histogram": [
           {
            "marker": {
             "pattern": {
              "fillmode": "overlay",
              "size": 10,
              "solidity": 0.2
             }
            },
            "type": "histogram"
           }
          ],
          "histogram2d": [
           {
            "colorbar": {
             "outlinewidth": 0,
             "ticks": ""
            },
            "colorscale": [
             [
              0,
              "#0d0887"
             ],
             [
              0.1111111111111111,
              "#46039f"
             ],
             [
              0.2222222222222222,
              "#7201a8"
             ],
             [
              0.3333333333333333,
              "#9c179e"
             ],
             [
              0.4444444444444444,
              "#bd3786"
             ],
             [
              0.5555555555555556,
              "#d8576b"
             ],
             [
              0.6666666666666666,
              "#ed7953"
             ],
             [
              0.7777777777777778,
              "#fb9f3a"
             ],
             [
              0.8888888888888888,
              "#fdca26"
             ],
             [
              1,
              "#f0f921"
             ]
            ],
            "type": "histogram2d"
           }
          ],
          "histogram2dcontour": [
           {
            "colorbar": {
             "outlinewidth": 0,
             "ticks": ""
            },
            "colorscale": [
             [
              0,
              "#0d0887"
             ],
             [
              0.1111111111111111,
              "#46039f"
             ],
             [
              0.2222222222222222,
              "#7201a8"
             ],
             [
              0.3333333333333333,
              "#9c179e"
             ],
             [
              0.4444444444444444,
              "#bd3786"
             ],
             [
              0.5555555555555556,
              "#d8576b"
             ],
             [
              0.6666666666666666,
              "#ed7953"
             ],
             [
              0.7777777777777778,
              "#fb9f3a"
             ],
             [
              0.8888888888888888,
              "#fdca26"
             ],
             [
              1,
              "#f0f921"
             ]
            ],
            "type": "histogram2dcontour"
           }
          ],
          "mesh3d": [
           {
            "colorbar": {
             "outlinewidth": 0,
             "ticks": ""
            },
            "type": "mesh3d"
           }
          ],
          "parcoords": [
           {
            "line": {
             "colorbar": {
              "outlinewidth": 0,
              "ticks": ""
             }
            },
            "type": "parcoords"
           }
          ],
          "pie": [
           {
            "automargin": true,
            "type": "pie"
           }
          ],
          "scatter": [
           {
            "marker": {
             "line": {
              "color": "#283442"
             }
            },
            "type": "scatter"
           }
          ],
          "scatter3d": [
           {
            "line": {
             "colorbar": {
              "outlinewidth": 0,
              "ticks": ""
             }
            },
            "marker": {
             "colorbar": {
              "outlinewidth": 0,
              "ticks": ""
             }
            },
            "type": "scatter3d"
           }
          ],
          "scattercarpet": [
           {
            "marker": {
             "colorbar": {
              "outlinewidth": 0,
              "ticks": ""
             }
            },
            "type": "scattercarpet"
           }
          ],
          "scattergeo": [
           {
            "marker": {
             "colorbar": {
              "outlinewidth": 0,
              "ticks": ""
             }
            },
            "type": "scattergeo"
           }
          ],
          "scattergl": [
           {
            "marker": {
             "line": {
              "color": "#283442"
             }
            },
            "type": "scattergl"
           }
          ],
          "scattermapbox": [
           {
            "marker": {
             "colorbar": {
              "outlinewidth": 0,
              "ticks": ""
             }
            },
            "type": "scattermapbox"
           }
          ],
          "scatterpolar": [
           {
            "marker": {
             "colorbar": {
              "outlinewidth": 0,
              "ticks": ""
             }
            },
            "type": "scatterpolar"
           }
          ],
          "scatterpolargl": [
           {
            "marker": {
             "colorbar": {
              "outlinewidth": 0,
              "ticks": ""
             }
            },
            "type": "scatterpolargl"
           }
          ],
          "scatterternary": [
           {
            "marker": {
             "colorbar": {
              "outlinewidth": 0,
              "ticks": ""
             }
            },
            "type": "scatterternary"
           }
          ],
          "surface": [
           {
            "colorbar": {
             "outlinewidth": 0,
             "ticks": ""
            },
            "colorscale": [
             [
              0,
              "#0d0887"
             ],
             [
              0.1111111111111111,
              "#46039f"
             ],
             [
              0.2222222222222222,
              "#7201a8"
             ],
             [
              0.3333333333333333,
              "#9c179e"
             ],
             [
              0.4444444444444444,
              "#bd3786"
             ],
             [
              0.5555555555555556,
              "#d8576b"
             ],
             [
              0.6666666666666666,
              "#ed7953"
             ],
             [
              0.7777777777777778,
              "#fb9f3a"
             ],
             [
              0.8888888888888888,
              "#fdca26"
             ],
             [
              1,
              "#f0f921"
             ]
            ],
            "type": "surface"
           }
          ],
          "table": [
           {
            "cells": {
             "fill": {
              "color": "#506784"
             },
             "line": {
              "color": "rgb(17,17,17)"
             }
            },
            "header": {
             "fill": {
              "color": "#2a3f5f"
             },
             "line": {
              "color": "rgb(17,17,17)"
             }
            },
            "type": "table"
           }
          ]
         },
         "layout": {
          "annotationdefaults": {
           "arrowcolor": "#f2f5fa",
           "arrowhead": 0,
           "arrowwidth": 1
          },
          "autotypenumbers": "strict",
          "coloraxis": {
           "colorbar": {
            "outlinewidth": 0,
            "ticks": ""
           }
          },
          "colorscale": {
           "diverging": [
            [
             0,
             "#8e0152"
            ],
            [
             0.1,
             "#c51b7d"
            ],
            [
             0.2,
             "#de77ae"
            ],
            [
             0.3,
             "#f1b6da"
            ],
            [
             0.4,
             "#fde0ef"
            ],
            [
             0.5,
             "#f7f7f7"
            ],
            [
             0.6,
             "#e6f5d0"
            ],
            [
             0.7,
             "#b8e186"
            ],
            [
             0.8,
             "#7fbc41"
            ],
            [
             0.9,
             "#4d9221"
            ],
            [
             1,
             "#276419"
            ]
           ],
           "sequential": [
            [
             0,
             "#0d0887"
            ],
            [
             0.1111111111111111,
             "#46039f"
            ],
            [
             0.2222222222222222,
             "#7201a8"
            ],
            [
             0.3333333333333333,
             "#9c179e"
            ],
            [
             0.4444444444444444,
             "#bd3786"
            ],
            [
             0.5555555555555556,
             "#d8576b"
            ],
            [
             0.6666666666666666,
             "#ed7953"
            ],
            [
             0.7777777777777778,
             "#fb9f3a"
            ],
            [
             0.8888888888888888,
             "#fdca26"
            ],
            [
             1,
             "#f0f921"
            ]
           ],
           "sequentialminus": [
            [
             0,
             "#0d0887"
            ],
            [
             0.1111111111111111,
             "#46039f"
            ],
            [
             0.2222222222222222,
             "#7201a8"
            ],
            [
             0.3333333333333333,
             "#9c179e"
            ],
            [
             0.4444444444444444,
             "#bd3786"
            ],
            [
             0.5555555555555556,
             "#d8576b"
            ],
            [
             0.6666666666666666,
             "#ed7953"
            ],
            [
             0.7777777777777778,
             "#fb9f3a"
            ],
            [
             0.8888888888888888,
             "#fdca26"
            ],
            [
             1,
             "#f0f921"
            ]
           ]
          },
          "colorway": [
           "#636efa",
           "#EF553B",
           "#00cc96",
           "#ab63fa",
           "#FFA15A",
           "#19d3f3",
           "#FF6692",
           "#B6E880",
           "#FF97FF",
           "#FECB52"
          ],
          "font": {
           "color": "#f2f5fa",
           "family": "Monaco",
           "size": 12
          },
          "geo": {
           "bgcolor": "rgb(17,17,17)",
           "lakecolor": "rgb(17,17,17)",
           "landcolor": "rgb(17,17,17)",
           "showlakes": true,
           "showland": true,
           "subunitcolor": "#506784"
          },
          "hoverlabel": {
           "align": "left"
          },
          "hovermode": "closest",
          "mapbox": {
           "style": "dark"
          },
          "paper_bgcolor": "rgb(17,17,17)",
          "plot_bgcolor": "rgb(17,17,17)",
          "polar": {
           "angularaxis": {
            "gridcolor": "#506784",
            "linecolor": "#506784",
            "ticks": ""
           },
           "bgcolor": "rgb(17,17,17)",
           "radialaxis": {
            "gridcolor": "#506784",
            "linecolor": "#506784",
            "ticks": ""
           }
          },
          "scene": {
           "xaxis": {
            "backgroundcolor": "rgb(17,17,17)",
            "gridcolor": "#506784",
            "gridwidth": 2,
            "linecolor": "#506784",
            "showbackground": true,
            "ticks": "",
            "zerolinecolor": "#C8D4E3"
           },
           "yaxis": {
            "backgroundcolor": "rgb(17,17,17)",
            "gridcolor": "#506784",
            "gridwidth": 2,
            "linecolor": "#506784",
            "showbackground": true,
            "ticks": "",
            "zerolinecolor": "#C8D4E3"
           },
           "zaxis": {
            "backgroundcolor": "rgb(17,17,17)",
            "gridcolor": "#506784",
            "gridwidth": 2,
            "linecolor": "#506784",
            "showbackground": true,
            "ticks": "",
            "zerolinecolor": "#C8D4E3"
           }
          },
          "shapedefaults": {
           "line": {
            "color": "#f2f5fa"
           }
          },
          "sliderdefaults": {
           "bgcolor": "#C8D4E3",
           "bordercolor": "rgb(17,17,17)",
           "borderwidth": 1,
           "tickwidth": 0
          },
          "ternary": {
           "aaxis": {
            "gridcolor": "#506784",
            "linecolor": "#506784",
            "ticks": ""
           },
           "baxis": {
            "gridcolor": "#506784",
            "linecolor": "#506784",
            "ticks": ""
           },
           "bgcolor": "rgb(17,17,17)",
           "caxis": {
            "gridcolor": "#506784",
            "linecolor": "#506784",
            "ticks": ""
           }
          },
          "title": {
           "x": 0.05
          },
          "updatemenudefaults": {
           "bgcolor": "#506784",
           "borderwidth": 0
          },
          "xaxis": {
           "automargin": true,
           "gridcolor": "#283442",
           "linecolor": "#506784",
           "ticks": "",
           "title": {
            "standoff": 15
           },
           "zerolinecolor": "#283442",
           "zerolinewidth": 2
          },
          "yaxis": {
           "automargin": true,
           "gridcolor": "#283442",
           "linecolor": "#506784",
           "ticks": "",
           "title": {
            "standoff": 15
           },
           "zerolinecolor": "#283442",
           "zerolinewidth": 2
          }
         }
        },
        "xaxis": {
         "anchor": "y",
         "categoryarray": [
          "case_id",
          "annualeffectiverate_199L\n(Interest rate of the closed contracts.)",
          "annualeffectiverate_63L\n(Interest rate for the active contracts.)",
          "classificationofcontr_13M\n(Classificiation of the active contract.)",
          "classificationofcontr_400M\n(Classificiation of the closed contract.)",
          "contractst_545M\n(Contract status.)",
          "contractst_964M\n(Contract status of terminated credit contract.)",
          "contractsum_5085717L\n(Sum of other contract values.)",
          "credlmt_230A\n(Credit limit of the closed credit contracts from credit bureau.)",
          "credlmt_935A\n(Credit limit for active loan.)",
          "debtoutstand_525A\n(Outstanding amount of existing contract.)",
          "debtoverdue_47A\n(Amount that is currently past due on a client's existing credit contract.)",
          "description_351M\n(Categorization of clients by credit bureau.)",
          "dpdmax_139P\n(Maximal days past due for active contract.)",
          "dpdmax_757P\n(Maximum days past due for a closed contract.)",
          "financialinstitution_382M\n(Name of financial institution that is linked to a closed contract.)",
          "financialinstitution_591M\n(Financial institution name of the active contract.)",
          "instlamount_768A\n(Instalment amount for the active contract in credit bureau.)",
          "instlamount_852A\n(Instalment amount for closed contract.)",
          "interestrate_508L\n(Interest rate for a closed contract in the credit bureau.)",
          "monthlyinstlamount_332A\n(Monthly instalment amount for active contract.)",
          "monthlyinstlamount_674A\n(Monthly amount of instalment payment on a closed contract.)",
          "nominalrate_281L\n(Interest rate of the active contract.)",
          "nominalrate_498L\n(Interest rate for closed contract.)",
          "num_group1",
          "numberofcontrsvalue_258L\n(Number of active contracts in credit bureau.)",
          "numberofcontrsvalue_358L\n(Number of closed credit contracts.)",
          "numberofinstls_229L\n(Number of instalments on closed contract.)",
          "numberofinstls_320L\n(Number of instalments of the active contract.)",
          "numberofoutstandinstls_520L\n(Number of outstanding instalment for closed contract.)",
          "numberofoutstandinstls_59L\n(Number of outstanding instalments for the active contracts.)",
          "numberofoverdueinstlmax_1039L\n(Number of outstanding instalments for active contracts.)",
          "numberofoverdueinstlmax_1151L\n(Maximum number of past due installments for a closed contract.)",
          "numberofoverdueinstlmaxdat_148D\n(Date of maximum number of past due instalments for the closed contract.)",
          "numberofoverdueinstlmaxdat_641D\n(Date of maximum number of past due instalments for the active contract.)",
          "numberofoverdueinstls_725L\n(Maximum number of past due instalments for an active contract.)",
          "numberofoverdueinstls_834L\n(Number of past due instalments for a closed contract.)",
          "outstandingamount_354A\n(Outstanding amount for closed credit contract in credit bureau.)",
          "outstandingamount_362A\n(Active contract's outstanding amount.)",
          "overdueamount_31A\n(Past due amount for a closed contract.)",
          "overdueamount_659A\n(Past due amount for active contract.)",
          "overdueamountmax2_14A\n(Maximal past due amount for an active contract.)",
          "overdueamountmax2_398A\n(Maximal overdue amount for a closed contract.)",
          "overdueamountmax_155A\n(Maximal past due amount for active contract.)",
          "overdueamountmax_35A\n(Maximal past due amount for a closed contract.)",
          "periodicityofpmts_1102L\n(Frequency of instalments for a closed contract.)",
          "periodicityofpmts_837L\n(Frequency of instalments for an active contract.)",
          "prolongationcount_1120L\n(Count of prolongations on terminated contract according to credit bureau.)",
          "prolongationcount_599L\n(Count of active contract prolongations.)",
          "purposeofcred_426M\n(Purpose of credit for active contract.)",
          "purposeofcred_874M\n(Purpose of credit on a closed contract.)",
          "residualamount_488A\n(Residual amount of a closed contract.)",
          "residualamount_856A\n(Residual amount for the active contract.)",
          "subjectrole_182M\n(Subject role in active credit contract.)",
          "subjectrole_93M\n(Subject role in closed credit contract.)",
          "totalamount_6A\n(Total amount of closed contracts.)",
          "totalamount_996A\n(Total amount of active contracts in the credit bureau.)",
          "totaldebtoverduevalue_178A\n(Total amount of past due debt on active contracts.)",
          "totaldebtoverduevalue_718A\n(Total overdue debt amount for closed credit contracts.)",
          "totaloutstanddebtvalue_39A\n(Total outstanding debt for active contracts in the credit bureau.)",
          "totaloutstanddebtvalue_668A\n(Total outstanding debt for the closed contracts in the credit bureau.)"
         ],
         "categoryorder": "array",
         "domain": [
          0,
          1
         ],
         "showticklabels": false,
         "title": {
          "text": "All Columns"
         }
        },
        "yaxis": {
         "anchor": "x",
         "domain": [
          0,
          1
         ],
         "title": {
          "text": "Null Counts"
         }
        }
       }
      }
     },
     "metadata": {},
     "output_type": "display_data"
    }
   ],
   "source": [
    "train_credit_1 = preprocess(4)\n",
    "display(train_credit_1.fetch().head())\n",
    "gc.collect()\n",
    "train_credit_1.pipe(plot_nulls)"
   ]
  },
  {
   "cell_type": "code",
   "execution_count": null,
   "metadata": {},
   "outputs": [],
   "source": []
  }
 ],
 "metadata": {
  "kernelspec": {
   "display_name": "base",
   "language": "python",
   "name": "python3"
  },
  "language_info": {
   "codemirror_mode": {
    "name": "ipython",
    "version": 3
   },
   "file_extension": ".py",
   "mimetype": "text/x-python",
   "name": "python",
   "nbconvert_exporter": "python",
   "pygments_lexer": "ipython3",
   "version": "3.11.7"
  }
 },
 "nbformat": 4,
 "nbformat_minor": 2
}
