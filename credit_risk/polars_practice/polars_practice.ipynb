{
 "cells": [
  {
   "cell_type": "code",
   "execution_count": 1,
   "id": "137007a6-0280-494d-b81b-bf7cc70479c5",
   "metadata": {
    "editable": true,
    "slideshow": {
     "slide_type": ""
    },
    "tags": []
   },
   "outputs": [],
   "source": [
    "import os,warnings,sys,time,re,math\n",
    "os.environ[\"TF_CPP_MIN_LOG_LEVEL\"] = \"3\"\n",
    "os.environ[\"KERAS_BACKEND\"] = \"tensorflow\"\n",
    "from IPython.display import clear_output,HTML\n",
    "warnings.filterwarnings(\"ignore\")\n",
    "from glob import glob\n",
    "import numpy as np\n",
    "import pandas as pd\n",
    "import polars as pl\n",
    "import polars.selectors as cs\n",
    "import hvplot as hv\n",
    "hv.extension(\"plotly\")\n",
    "import dask.dataframe as dd\n",
    "from dask.distributed import Client\n",
    "import tensorflow as tf\n",
    "from tensorflow import keras\n",
    "import plotly.express as px\n",
    "import plotly.graph_objects as go\n",
    "import plotly.io as pio\n",
    "pio.templates.default = \"plotly_dark\"\n",
    "from plotly.subplots import make_subplots\n",
    "import matplotlib.pyplot as plt\n",
    "tf.get_logger().setLevel(\"ERROR\")\n",
    "%matplotlib inline\n",
    "clear_output()"
   ]
  },
  {
   "cell_type": "markdown",
   "id": "81800cdf-1bbb-4b67-a1a3-a2681ad5fbfe",
   "metadata": {},
   "source": [
    "# Overview\n",
    "\n",
    "- Polars is entirely based on Arrow dat types and backed by Arrow memory arrays. This makes data processing cache-efficient and well -supported for Inter Process Communication . Most data types follow the exact implementation from Arrow, with the excpetio of ```String``` (thisis actually ```LargeUtf8```), ```Categorical``` , and ```Object``` (support is limited). The data types are:\n",
    "\n",
    "## Numeric - Int8,Int16,Int32,Int64,UInt8,UInt16,UInt32,UInt64,Float32,Float64\n",
    "## Nested - Struct,List\n",
    "## Temporal - Date,Datetime,Duration,Time\n",
    "## Other - Boolean,String,Binary,Object,Categorical,Enum\n",
    "\n",
    "# Floating Point\n",
    "\n",
    "- Polars generally follows IEEE 756 with some exceptions as:\n",
    "  - Any NaN compares equal to any other NaN, and is greater than any-other Non-NaN value\n",
    "  - Operations do not guarentee any particular behavior on the sign of zero or NaN. This is not just limited to arthmetic operations, e.g. a sort or group by operation may canonicalize all zeros to +0 and all NaNs to postive NaN without payload for efficient equality checks"
   ]
  },
  {
   "cell_type": "code",
   "execution_count": 2,
   "id": "0c4a95cf-1ede-4ef6-95c6-eecbee8608fe",
   "metadata": {},
   "outputs": [
    {
     "name": "stdout",
     "output_type": "stream",
     "text": [
      "Number of Train files: 32\n",
      "Number of Test files: 36\n"
     ]
    }
   ],
   "source": [
    "train_files = glob(\"Downloads/credit_risk/train/*\")\n",
    "test_files = glob(\"Downloads/credit_risk/test/*\")\n",
    "print(f\"Number of Train files: {len(train_files)}\")\n",
    "print(f\"Number of Test files: {len(test_files)}\")"
   ]
  },
  {
   "cell_type": "code",
   "execution_count": 3,
   "id": "de0a924c-5b6c-42e5-9dca-d6ce9b5a10fe",
   "metadata": {},
   "outputs": [
    {
     "data": {
      "text/html": [
       "<div><style>\n",
       ".dataframe > thead > tr,\n",
       ".dataframe > tbody > tr {\n",
       "  text-align: right;\n",
       "  white-space: pre-wrap;\n",
       "}\n",
       "</style>\n",
       "<small>shape: (5, 5)</small><table border=\"1\" class=\"dataframe\"><thead><tr><th>case_id</th><th>date_decision</th><th>MONTH</th><th>WEEK_NUM</th><th>target</th></tr><tr><td>i64</td><td>str</td><td>i64</td><td>i64</td><td>i64</td></tr></thead><tbody><tr><td>0</td><td>&quot;2019-01-03&quot;</td><td>201901</td><td>0</td><td>0</td></tr><tr><td>1</td><td>&quot;2019-01-03&quot;</td><td>201901</td><td>0</td><td>0</td></tr><tr><td>2</td><td>&quot;2019-01-04&quot;</td><td>201901</td><td>0</td><td>0</td></tr><tr><td>3</td><td>&quot;2019-01-03&quot;</td><td>201901</td><td>0</td><td>0</td></tr><tr><td>4</td><td>&quot;2019-01-04&quot;</td><td>201901</td><td>0</td><td>1</td></tr></tbody></table></div>"
      ],
      "text/plain": [
       "shape: (5, 5)\n",
       "┌─────────┬───────────────┬────────┬──────────┬────────┐\n",
       "│ case_id ┆ date_decision ┆ MONTH  ┆ WEEK_NUM ┆ target │\n",
       "│ ---     ┆ ---           ┆ ---    ┆ ---      ┆ ---    │\n",
       "│ i64     ┆ str           ┆ i64    ┆ i64      ┆ i64    │\n",
       "╞═════════╪═══════════════╪════════╪══════════╪════════╡\n",
       "│ 0       ┆ 2019-01-03    ┆ 201901 ┆ 0        ┆ 0      │\n",
       "│ 1       ┆ 2019-01-03    ┆ 201901 ┆ 0        ┆ 0      │\n",
       "│ 2       ┆ 2019-01-04    ┆ 201901 ┆ 0        ┆ 0      │\n",
       "│ 3       ┆ 2019-01-03    ┆ 201901 ┆ 0        ┆ 0      │\n",
       "│ 4       ┆ 2019-01-04    ┆ 201901 ┆ 0        ┆ 1      │\n",
       "└─────────┴───────────────┴────────┴──────────┴────────┘"
      ]
     },
     "execution_count": 3,
     "metadata": {},
     "output_type": "execute_result"
    }
   ],
   "source": [
    "train_base = pl.read_parquet(train_files[7])\n",
    "train_base.head()"
   ]
  },
  {
   "cell_type": "code",
   "execution_count": 4,
   "id": "258ad42c-09bb-495d-851f-f84e9b5ade38",
   "metadata": {},
   "outputs": [
    {
     "name": "stdout",
     "output_type": "stream",
     "text": [
      "Rows: 1526659\n",
      "Columns: 5\n",
      "$ case_id       <i64> 0, 1, 2, 3, 4, 5, 6, 7, 8, 9\n",
      "$ date_decision <str> '2019-01-03', '2019-01-03', '2019-01-04', '2019-01-03', '2019-01-04', '2019-01-02', '2019-01-03', '2019-01-03', '2019-01-03', '2019-01-03'\n",
      "$ MONTH         <i64> 201901, 201901, 201901, 201901, 201901, 201901, 201901, 201901, 201901, 201901\n",
      "$ WEEK_NUM      <i64> 0, 0, 0, 0, 0, 0, 0, 0, 0, 0\n",
      "$ target        <i64> 0, 0, 0, 0, 1, 0, 0, 0, 0, 0\n",
      "\n"
     ]
    }
   ],
   "source": [
    "train_base.glimpse()"
   ]
  },
  {
   "cell_type": "code",
   "execution_count": 5,
   "id": "e79316b6-24a1-4a2d-a72c-c50a298a4c97",
   "metadata": {},
   "outputs": [
    {
     "data": {
      "text/html": [
       "<div><style>\n",
       ".dataframe > thead > tr,\n",
       ".dataframe > tbody > tr {\n",
       "  text-align: right;\n",
       "  white-space: pre-wrap;\n",
       "}\n",
       "</style>\n",
       "<small>shape: (5, 3)</small><table border=\"1\" class=\"dataframe\"><thead><tr><th>case_id</th><th>WEEK_NUM</th><th>target</th></tr><tr><td>i64</td><td>i64</td><td>i64</td></tr></thead><tbody><tr><td>0</td><td>0</td><td>0</td></tr><tr><td>1</td><td>0</td><td>0</td></tr><tr><td>2</td><td>0</td><td>0</td></tr><tr><td>3</td><td>0</td><td>0</td></tr><tr><td>4</td><td>0</td><td>1</td></tr></tbody></table></div>"
      ],
      "text/plain": [
       "shape: (5, 3)\n",
       "┌─────────┬──────────┬────────┐\n",
       "│ case_id ┆ WEEK_NUM ┆ target │\n",
       "│ ---     ┆ ---      ┆ ---    │\n",
       "│ i64     ┆ i64      ┆ i64    │\n",
       "╞═════════╪══════════╪════════╡\n",
       "│ 0       ┆ 0        ┆ 0      │\n",
       "│ 1       ┆ 0        ┆ 0      │\n",
       "│ 2       ┆ 0        ┆ 0      │\n",
       "│ 3       ┆ 0        ┆ 0      │\n",
       "│ 4       ┆ 0        ┆ 1      │\n",
       "└─────────┴──────────┴────────┘"
      ]
     },
     "execution_count": 5,
     "metadata": {},
     "output_type": "execute_result"
    }
   ],
   "source": [
    "train_base.select(\n",
    "    [\n",
    "        pl.col(\"case_id\"),\n",
    "        pl.col(\"WEEK_NUM\"),\n",
    "        pl.col(\"target\")\n",
    "    ]\n",
    ").head()"
   ]
  },
  {
   "cell_type": "code",
   "execution_count": 6,
   "id": "e6281f7d-12e4-4000-99ba-c85f42025bf9",
   "metadata": {},
   "outputs": [
    {
     "data": {
      "text/html": [
       "<div><style>\n",
       ".dataframe > thead > tr,\n",
       ".dataframe > tbody > tr {\n",
       "  text-align: right;\n",
       "  white-space: pre-wrap;\n",
       "}\n",
       "</style>\n",
       "<small>shape: (5, 2)</small><table border=\"1\" class=\"dataframe\"><thead><tr><th>WEEK_NUM</th><th>target_counts</th></tr><tr><td>i64</td><td>u32</td></tr></thead><tbody><tr><td>3</td><td>16108</td></tr><tr><td>12</td><td>17105</td></tr><tr><td>24</td><td>19503</td></tr><tr><td>18</td><td>11729</td></tr><tr><td>0</td><td>16735</td></tr></tbody></table></div>"
      ],
      "text/plain": [
       "shape: (5, 2)\n",
       "┌──────────┬───────────────┐\n",
       "│ WEEK_NUM ┆ target_counts │\n",
       "│ ---      ┆ ---           │\n",
       "│ i64      ┆ u32           │\n",
       "╞══════════╪═══════════════╡\n",
       "│ 3        ┆ 16108         │\n",
       "│ 12       ┆ 17105         │\n",
       "│ 24       ┆ 19503         │\n",
       "│ 18       ┆ 11729         │\n",
       "│ 0        ┆ 16735         │\n",
       "└──────────┴───────────────┘"
      ]
     },
     "execution_count": 6,
     "metadata": {},
     "output_type": "execute_result"
    }
   ],
   "source": [
    "(\n",
    "    train_base\n",
    "    .group_by([\"WEEK_NUM\"])\n",
    "    .agg(\n",
    "        pl.col(\"target\").count().alias(\"target_counts\")\n",
    "    )\n",
    ").head()"
   ]
  },
  {
   "cell_type": "code",
   "execution_count": 7,
   "id": "ee80f689-c2bc-4bc3-bf13-1cec3778359e",
   "metadata": {},
   "outputs": [
    {
     "data": {
      "text/plain": [
       "OrderedDict([('case_id', Int64),\n",
       "             ('date_decision', String),\n",
       "             ('MONTH', Int64),\n",
       "             ('WEEK_NUM', Int64),\n",
       "             ('target', Int64)])"
      ]
     },
     "execution_count": 7,
     "metadata": {},
     "output_type": "execute_result"
    }
   ],
   "source": [
    "train_base.schema"
   ]
  },
  {
   "cell_type": "code",
   "execution_count": 8,
   "id": "97644bcd-094f-464f-873a-64004cc45127",
   "metadata": {},
   "outputs": [
    {
     "data": {
      "text/plain": [
       "[Int64, String, Int64, Int64, Int64]"
      ]
     },
     "execution_count": 8,
     "metadata": {},
     "output_type": "execute_result"
    }
   ],
   "source": [
    "train_base.dtypes"
   ]
  },
  {
   "cell_type": "code",
   "execution_count": 9,
   "id": "743d989b-467a-42ad-acda-520ad0ee186b",
   "metadata": {},
   "outputs": [
    {
     "data": {
      "text/plain": [
       "Int64"
      ]
     },
     "execution_count": 9,
     "metadata": {},
     "output_type": "execute_result"
    }
   ],
   "source": [
    "train_base[\"WEEK_NUM\"].dtype"
   ]
  },
  {
   "cell_type": "code",
   "execution_count": 10,
   "id": "83ded6c6-854b-413e-b2bd-4bb75a7c815f",
   "metadata": {},
   "outputs": [
    {
     "data": {
      "text/html": [
       "<div><style>\n",
       ".dataframe > thead > tr,\n",
       ".dataframe > tbody > tr {\n",
       "  text-align: right;\n",
       "  white-space: pre-wrap;\n",
       "}\n",
       "</style>\n",
       "<small>shape: (5, 1)</small><table border=\"1\" class=\"dataframe\"><thead><tr><th>WEEK_NUM</th></tr><tr><td>i64</td></tr></thead><tbody><tr><td>0</td></tr><tr><td>0</td></tr><tr><td>0</td></tr><tr><td>0</td></tr><tr><td>0</td></tr></tbody></table></div>"
      ],
      "text/plain": [
       "shape: (5, 1)\n",
       "┌──────────┐\n",
       "│ WEEK_NUM │\n",
       "│ ---      │\n",
       "│ i64      │\n",
       "╞══════════╡\n",
       "│ 0        │\n",
       "│ 0        │\n",
       "│ 0        │\n",
       "│ 0        │\n",
       "│ 0        │\n",
       "└──────────┘"
      ]
     },
     "execution_count": 10,
     "metadata": {},
     "output_type": "execute_result"
    }
   ],
   "source": [
    "train_base[\"WEEK_NUM\"].to_frame().head()"
   ]
  },
  {
   "cell_type": "code",
   "execution_count": 11,
   "id": "c19083d1-9a03-4800-b721-12d364fc4dd8",
   "metadata": {},
   "outputs": [],
   "source": [
    "values = [_**2 for _ in range(100)]"
   ]
  },
  {
   "cell_type": "code",
   "execution_count": 12,
   "id": "1e015741",
   "metadata": {},
   "outputs": [
    {
     "data": {
      "text/html": [
       "<div><style>\n",
       ".dataframe > thead > tr,\n",
       ".dataframe > tbody > tr {\n",
       "  text-align: right;\n",
       "  white-space: pre-wrap;\n",
       "}\n",
       "</style>\n",
       "<small>shape: (10,)</small><table border=\"1\" class=\"dataframe\"><thead><tr><th></th></tr><tr><td>i64</td></tr></thead><tbody><tr><td>0</td></tr><tr><td>1</td></tr><tr><td>4</td></tr><tr><td>9</td></tr><tr><td>16</td></tr><tr><td>25</td></tr><tr><td>36</td></tr><tr><td>49</td></tr><tr><td>64</td></tr><tr><td>81</td></tr></tbody></table></div>"
      ],
      "text/plain": [
       "shape: (10,)\n",
       "Series: '' [i64]\n",
       "[\n",
       "\t0\n",
       "\t1\n",
       "\t4\n",
       "\t9\n",
       "\t16\n",
       "\t25\n",
       "\t36\n",
       "\t49\n",
       "\t64\n",
       "\t81\n",
       "]"
      ]
     },
     "execution_count": 12,
     "metadata": {},
     "output_type": "execute_result"
    }
   ],
   "source": [
    "pl.Series(values).head()"
   ]
  },
  {
   "cell_type": "code",
   "execution_count": 13,
   "id": "0713ece0",
   "metadata": {},
   "outputs": [
    {
     "data": {
      "text/html": [
       "<div><style>\n",
       ".dataframe > thead > tr,\n",
       ".dataframe > tbody > tr {\n",
       "  text-align: right;\n",
       "  white-space: pre-wrap;\n",
       "}\n",
       "</style>\n",
       "<small>shape: (3, 2)</small><table border=\"1\" class=\"dataframe\"><thead><tr><th>col0</th><th>col1</th></tr><tr><td>i64</td><td>i64</td></tr></thead><tbody><tr><td>2</td><td>5</td></tr><tr><td>3</td><td>6</td></tr><tr><td>4</td><td>7</td></tr></tbody></table></div>"
      ],
      "text/plain": [
       "shape: (3, 2)\n",
       "┌──────┬──────┐\n",
       "│ col0 ┆ col1 │\n",
       "│ ---  ┆ ---  │\n",
       "│ i64  ┆ i64  │\n",
       "╞══════╪══════╡\n",
       "│ 2    ┆ 5    │\n",
       "│ 3    ┆ 6    │\n",
       "│ 4    ┆ 7    │\n",
       "└──────┴──────┘"
      ]
     },
     "execution_count": 13,
     "metadata": {},
     "output_type": "execute_result"
    }
   ],
   "source": [
    "data_dict = {\"col0\":[2,3,4],\"col1\":[5,6,7]}\n",
    "pl.DataFrame(data_dict)"
   ]
  },
  {
   "cell_type": "code",
   "execution_count": 14,
   "id": "e764f4ce",
   "metadata": {},
   "outputs": [
    {
     "data": {
      "text/html": [
       "<div><style>\n",
       ".dataframe > thead > tr,\n",
       ".dataframe > tbody > tr {\n",
       "  text-align: right;\n",
       "  white-space: pre-wrap;\n",
       "}\n",
       "</style>\n",
       "<small>shape: (3, 2)</small><table border=\"1\" class=\"dataframe\"><thead><tr><th>col0</th><th>col1</th></tr><tr><td>i32</td><td>i32</td></tr></thead><tbody><tr><td>2</td><td>5</td></tr><tr><td>3</td><td>6</td></tr><tr><td>4</td><td>7</td></tr></tbody></table></div>"
      ],
      "text/plain": [
       "shape: (3, 2)\n",
       "┌──────┬──────┐\n",
       "│ col0 ┆ col1 │\n",
       "│ ---  ┆ ---  │\n",
       "│ i32  ┆ i32  │\n",
       "╞══════╪══════╡\n",
       "│ 2    ┆ 5    │\n",
       "│ 3    ┆ 6    │\n",
       "│ 4    ┆ 7    │\n",
       "└──────┴──────┘"
      ]
     },
     "execution_count": 14,
     "metadata": {},
     "output_type": "execute_result"
    }
   ],
   "source": [
    "temp_df = pl.DataFrame(data_dict,schema=dict(col0=pl.Int32,col1=pl.Int32))\n",
    "temp_df"
   ]
  },
  {
   "cell_type": "code",
   "execution_count": 15,
   "id": "8841fbcd",
   "metadata": {},
   "outputs": [
    {
     "data": {
      "text/plain": [
       "[{'col0': 2, 'col1': 5}, {'col0': 3, 'col1': 6}, {'col0': 4, 'col1': 7}]"
      ]
     },
     "execution_count": 15,
     "metadata": {},
     "output_type": "execute_result"
    }
   ],
   "source": [
    "temp_df.to_dicts()"
   ]
  },
  {
   "cell_type": "code",
   "execution_count": 16,
   "id": "5f77aec9",
   "metadata": {},
   "outputs": [
    {
     "name": "stdout",
     "output_type": "stream",
     "text": [
      "--------Version info---------\n",
      "Polars:               0.20.8\n",
      "Index type:           UInt32\n",
      "Platform:             Linux-5.15.0-94-generic-x86_64-with-glibc2.31\n",
      "Python:               3.11.7 (main, Dec 15 2023, 18:12:31) [GCC 11.2.0]\n",
      "\n",
      "----Optional dependencies----\n",
      "adbc_driver_manager:  0.9.0\n",
      "cloudpickle:          2.2.1\n",
      "connectorx:           0.3.2\n",
      "deltalake:            0.15.3\n",
      "fsspec:               2023.12.2\n",
      "gevent:               24.2.1\n",
      "hvplot:               0.9.2\n",
      "matplotlib:           3.8.2\n",
      "numpy:                1.26.3\n",
      "openpyxl:             3.0.10\n",
      "pandas:               2.2.0\n",
      "pyarrow:              15.0.0\n",
      "pydantic:             2.6.1\n",
      "pyiceberg:            0.5.1\n",
      "pyxlsb:               <not installed>\n",
      "sqlalchemy:           2.0.25\n",
      "xlsx2csv:             0.8.2\n",
      "xlsxwriter:           3.1.9\n"
     ]
    }
   ],
   "source": [
    "pl.show_versions()"
   ]
  },
  {
   "cell_type": "code",
   "execution_count": 17,
   "id": "e1801e97",
   "metadata": {},
   "outputs": [
    {
     "data": {
      "text/plain": [
       "array([[0, '2019-01-03', 201901, 0, 0],\n",
       "       [1, '2019-01-03', 201901, 0, 0],\n",
       "       [2, '2019-01-04', 201901, 0, 0],\n",
       "       ...,\n",
       "       [2703452, '2020-10-05', 202010, 91, 0],\n",
       "       [2703453, '2020-10-05', 202010, 91, 0],\n",
       "       [2703454, '2020-10-05', 202010, 91, 0]], dtype=object)"
      ]
     },
     "execution_count": 17,
     "metadata": {},
     "output_type": "execute_result"
    }
   ],
   "source": [
    "train_base.to_numpy()"
   ]
  },
  {
   "cell_type": "code",
   "execution_count": 18,
   "id": "518f4931",
   "metadata": {},
   "outputs": [
    {
     "data": {
      "text/html": [
       "<div><style>\n",
       ".dataframe > thead > tr,\n",
       ".dataframe > tbody > tr {\n",
       "  text-align: right;\n",
       "  white-space: pre-wrap;\n",
       "}\n",
       "</style>\n",
       "<small>shape: (5, 5)</small><table border=\"1\" class=\"dataframe\"><thead><tr><th>case_id</th><th>date_decision</th><th>MONTH</th><th>WEEK_NUM</th><th>target</th></tr><tr><td>i64</td><td>str</td><td>i64</td><td>i64</td><td>i64</td></tr></thead><tbody><tr><td>0</td><td>&quot;2019-01-03&quot;</td><td>201901</td><td>0</td><td>0</td></tr><tr><td>1</td><td>&quot;2019-01-03&quot;</td><td>201901</td><td>0</td><td>0</td></tr><tr><td>2</td><td>&quot;2019-01-04&quot;</td><td>201901</td><td>0</td><td>0</td></tr><tr><td>3</td><td>&quot;2019-01-03&quot;</td><td>201901</td><td>0</td><td>0</td></tr><tr><td>4</td><td>&quot;2019-01-04&quot;</td><td>201901</td><td>0</td><td>1</td></tr></tbody></table></div>"
      ],
      "text/plain": [
       "shape: (5, 5)\n",
       "┌─────────┬───────────────┬────────┬──────────┬────────┐\n",
       "│ case_id ┆ date_decision ┆ MONTH  ┆ WEEK_NUM ┆ target │\n",
       "│ ---     ┆ ---           ┆ ---    ┆ ---      ┆ ---    │\n",
       "│ i64     ┆ str           ┆ i64    ┆ i64      ┆ i64    │\n",
       "╞═════════╪═══════════════╪════════╪══════════╪════════╡\n",
       "│ 0       ┆ 2019-01-03    ┆ 201901 ┆ 0        ┆ 0      │\n",
       "│ 1       ┆ 2019-01-03    ┆ 201901 ┆ 0        ┆ 0      │\n",
       "│ 2       ┆ 2019-01-04    ┆ 201901 ┆ 0        ┆ 0      │\n",
       "│ 3       ┆ 2019-01-03    ┆ 201901 ┆ 0        ┆ 0      │\n",
       "│ 4       ┆ 2019-01-04    ┆ 201901 ┆ 0        ┆ 1      │\n",
       "└─────────┴───────────────┴────────┴──────────┴────────┘"
      ]
     },
     "execution_count": 18,
     "metadata": {},
     "output_type": "execute_result"
    }
   ],
   "source": [
    "train_base.head()"
   ]
  },
  {
   "cell_type": "code",
   "execution_count": 19,
   "id": "66481fe3",
   "metadata": {},
   "outputs": [
    {
     "data": {
      "text/plain": [
       "array([[      0,  201901,       0,       0],\n",
       "       [      1,  201901,       0,       0],\n",
       "       [      2,  201901,       0,       0],\n",
       "       ...,\n",
       "       [2703452,  202010,      91,       0],\n",
       "       [2703453,  202010,      91,       0],\n",
       "       [2703454,  202010,      91,       0]])"
      ]
     },
     "execution_count": 19,
     "metadata": {},
     "output_type": "execute_result"
    }
   ],
   "source": [
    "ints_array = (\n",
    "    train_base\n",
    "    .select(\n",
    "        pl.col(pl.Int64)\n",
    "    )\n",
    "    .to_numpy()\n",
    ")\n",
    "ints_array"
   ]
  },
  {
   "cell_type": "code",
   "execution_count": 20,
   "id": "6db1b868",
   "metadata": {},
   "outputs": [
    {
     "data": {
      "text/html": [
       "<div><style>\n",
       ".dataframe > thead > tr,\n",
       ".dataframe > tbody > tr {\n",
       "  text-align: right;\n",
       "  white-space: pre-wrap;\n",
       "}\n",
       "</style>\n",
       "<small>shape: (4, 4)</small><table border=\"1\" class=\"dataframe\"><thead><tr><th>column_1</th><th>column_2</th><th>column_3</th><th>column_0</th></tr><tr><td>i32</td><td>i32</td><td>i32</td><td>i32</td></tr></thead><tbody><tr><td>15</td><td>12</td><td>4</td><td>4</td></tr><tr><td>6</td><td>0</td><td>9</td><td>15</td></tr><tr><td>10</td><td>4</td><td>15</td><td>19</td></tr><tr><td>7</td><td>4</td><td>19</td><td>1</td></tr></tbody></table></div>"
      ],
      "text/plain": [
       "shape: (4, 4)\n",
       "┌──────────┬──────────┬──────────┬──────────┐\n",
       "│ column_1 ┆ column_2 ┆ column_3 ┆ column_0 │\n",
       "│ ---      ┆ ---      ┆ ---      ┆ ---      │\n",
       "│ i32      ┆ i32      ┆ i32      ┆ i32      │\n",
       "╞══════════╪══════════╪══════════╪══════════╡\n",
       "│ 15       ┆ 12       ┆ 4        ┆ 4        │\n",
       "│ 6        ┆ 0        ┆ 9        ┆ 15       │\n",
       "│ 10       ┆ 4        ┆ 15       ┆ 19       │\n",
       "│ 7        ┆ 4        ┆ 19       ┆ 1        │\n",
       "└──────────┴──────────┴──────────┴──────────┘"
      ]
     },
     "execution_count": 20,
     "metadata": {},
     "output_type": "execute_result"
    }
   ],
   "source": [
    "temp_df = pl.DataFrame(np.random.randint(low=0,high=20,size=(4,4)),schema=dict(column_1=pl.Int32,column_2=pl.Int32,column_3=pl.Int32,column_0=pl.Int32))\n",
    "temp_df"
   ]
  },
  {
   "cell_type": "code",
   "execution_count": 21,
   "id": "7e634687",
   "metadata": {},
   "outputs": [
    {
     "data": {
      "text/html": [
       "<div>\n",
       "<style scoped>\n",
       "    .dataframe tbody tr th:only-of-type {\n",
       "        vertical-align: middle;\n",
       "    }\n",
       "\n",
       "    .dataframe tbody tr th {\n",
       "        vertical-align: top;\n",
       "    }\n",
       "\n",
       "    .dataframe thead th {\n",
       "        text-align: right;\n",
       "    }\n",
       "</style>\n",
       "<table border=\"1\" class=\"dataframe\">\n",
       "  <thead>\n",
       "    <tr style=\"text-align: right;\">\n",
       "      <th></th>\n",
       "      <th>column_0</th>\n",
       "      <th>column_1</th>\n",
       "      <th>column_2</th>\n",
       "      <th>column3</th>\n",
       "    </tr>\n",
       "  </thead>\n",
       "  <tbody>\n",
       "    <tr>\n",
       "      <th>0</th>\n",
       "      <td>5</td>\n",
       "      <td>17</td>\n",
       "      <td>9</td>\n",
       "      <td>17</td>\n",
       "    </tr>\n",
       "    <tr>\n",
       "      <th>1</th>\n",
       "      <td>13</td>\n",
       "      <td>18</td>\n",
       "      <td>14</td>\n",
       "      <td>1</td>\n",
       "    </tr>\n",
       "    <tr>\n",
       "      <th>2</th>\n",
       "      <td>5</td>\n",
       "      <td>10</td>\n",
       "      <td>4</td>\n",
       "      <td>14</td>\n",
       "    </tr>\n",
       "    <tr>\n",
       "      <th>3</th>\n",
       "      <td>1</td>\n",
       "      <td>8</td>\n",
       "      <td>17</td>\n",
       "      <td>6</td>\n",
       "    </tr>\n",
       "  </tbody>\n",
       "</table>\n",
       "</div>"
      ],
      "text/plain": [
       "   column_0  column_1  column_2  column3\n",
       "0         5        17         9       17\n",
       "1        13        18        14        1\n",
       "2         5        10         4       14\n",
       "3         1         8        17        6"
      ]
     },
     "execution_count": 21,
     "metadata": {},
     "output_type": "execute_result"
    }
   ],
   "source": [
    "temp_pdf = pd.DataFrame(np.random.randint(low=0,high=20,size=(4,4)),columns=[\"column_0\",\"column_1\",\"column_2\",\"column3\"])\n",
    "temp_pdf"
   ]
  },
  {
   "cell_type": "code",
   "execution_count": 22,
   "id": "6f54093b",
   "metadata": {},
   "outputs": [
    {
     "data": {
      "text/plain": [
       "case_id           int64\n",
       "date_decision    object\n",
       "MONTH             int64\n",
       "WEEK_NUM          int64\n",
       "target            int64\n",
       "dtype: object"
      ]
     },
     "execution_count": 22,
     "metadata": {},
     "output_type": "execute_result"
    }
   ],
   "source": [
    "train_base.to_pandas().dtypes"
   ]
  },
  {
   "cell_type": "code",
   "execution_count": 23,
   "id": "a4157ae7",
   "metadata": {},
   "outputs": [
    {
     "data": {
      "text/plain": [
       "case_id                 int64[pyarrow]\n",
       "date_decision    large_string[pyarrow]\n",
       "MONTH                   int64[pyarrow]\n",
       "WEEK_NUM                int64[pyarrow]\n",
       "target                  int64[pyarrow]\n",
       "dtype: object"
      ]
     },
     "execution_count": 23,
     "metadata": {},
     "output_type": "execute_result"
    }
   ],
   "source": [
    "train_base.to_pandas(use_pyarrow_extension_array=True).dtypes"
   ]
  },
  {
   "cell_type": "markdown",
   "id": "54bbcb36",
   "metadata": {},
   "source": [
    "# Filetring Rows"
   ]
  },
  {
   "cell_type": "code",
   "execution_count": 24,
   "id": "72e0636d",
   "metadata": {},
   "outputs": [
    {
     "data": {
      "text/html": [
       "<div><style>\n",
       ".dataframe > thead > tr,\n",
       ".dataframe > tbody > tr {\n",
       "  text-align: right;\n",
       "  white-space: pre-wrap;\n",
       "}\n",
       "</style>\n",
       "<small>shape: (2, 5)</small><table border=\"1\" class=\"dataframe\"><thead><tr><th>case_id</th><th>date_decision</th><th>MONTH</th><th>WEEK_NUM</th><th>target</th></tr><tr><td>i64</td><td>str</td><td>i64</td><td>i64</td><td>i64</td></tr></thead><tbody><tr><td>0</td><td>&quot;2019-01-03&quot;</td><td>201901</td><td>0</td><td>0</td></tr><tr><td>1</td><td>&quot;2019-01-03&quot;</td><td>201901</td><td>0</td><td>0</td></tr></tbody></table></div>"
      ],
      "text/plain": [
       "shape: (2, 5)\n",
       "┌─────────┬───────────────┬────────┬──────────┬────────┐\n",
       "│ case_id ┆ date_decision ┆ MONTH  ┆ WEEK_NUM ┆ target │\n",
       "│ ---     ┆ ---           ┆ ---    ┆ ---      ┆ ---    │\n",
       "│ i64     ┆ str           ┆ i64    ┆ i64      ┆ i64    │\n",
       "╞═════════╪═══════════════╪════════╪══════════╪════════╡\n",
       "│ 0       ┆ 2019-01-03    ┆ 201901 ┆ 0        ┆ 0      │\n",
       "│ 1       ┆ 2019-01-03    ┆ 201901 ┆ 0        ┆ 0      │\n",
       "└─────────┴───────────────┴────────┴──────────┴────────┘"
      ]
     },
     "execution_count": 24,
     "metadata": {},
     "output_type": "execute_result"
    }
   ],
   "source": [
    "train_base[:2]"
   ]
  },
  {
   "cell_type": "code",
   "execution_count": 25,
   "id": "9dd16796",
   "metadata": {},
   "outputs": [
    {
     "data": {
      "text/html": [
       "<div><style>\n",
       ".dataframe > thead > tr,\n",
       ".dataframe > tbody > tr {\n",
       "  text-align: right;\n",
       "  white-space: pre-wrap;\n",
       "}\n",
       "</style>\n",
       "<small>shape: (1, 5)</small><table border=\"1\" class=\"dataframe\"><thead><tr><th>case_id</th><th>date_decision</th><th>MONTH</th><th>WEEK_NUM</th><th>target</th></tr><tr><td>i64</td><td>str</td><td>i64</td><td>i64</td><td>i64</td></tr></thead><tbody><tr><td>0</td><td>&quot;2019-01-03&quot;</td><td>201901</td><td>0</td><td>0</td></tr></tbody></table></div>"
      ],
      "text/plain": [
       "shape: (1, 5)\n",
       "┌─────────┬───────────────┬────────┬──────────┬────────┐\n",
       "│ case_id ┆ date_decision ┆ MONTH  ┆ WEEK_NUM ┆ target │\n",
       "│ ---     ┆ ---           ┆ ---    ┆ ---      ┆ ---    │\n",
       "│ i64     ┆ str           ┆ i64    ┆ i64      ┆ i64    │\n",
       "╞═════════╪═══════════════╪════════╪══════════╪════════╡\n",
       "│ 0       ┆ 2019-01-03    ┆ 201901 ┆ 0        ┆ 0      │\n",
       "└─────────┴───────────────┴────────┴──────────┴────────┘"
      ]
     },
     "execution_count": 25,
     "metadata": {},
     "output_type": "execute_result"
    }
   ],
   "source": [
    "train_base[[0]]"
   ]
  },
  {
   "cell_type": "code",
   "execution_count": 26,
   "id": "a6d2f2c6",
   "metadata": {},
   "outputs": [
    {
     "data": {
      "text/html": [
       "<div><style>\n",
       ".dataframe > thead > tr,\n",
       ".dataframe > tbody > tr {\n",
       "  text-align: right;\n",
       "  white-space: pre-wrap;\n",
       "}\n",
       "</style>\n",
       "<small>shape: (1, 5)</small><table border=\"1\" class=\"dataframe\"><thead><tr><th>case_id</th><th>date_decision</th><th>MONTH</th><th>WEEK_NUM</th><th>target</th></tr><tr><td>i64</td><td>str</td><td>i64</td><td>i64</td><td>i64</td></tr></thead><tbody><tr><td>2703454</td><td>&quot;2020-10-05&quot;</td><td>202010</td><td>91</td><td>0</td></tr></tbody></table></div>"
      ],
      "text/plain": [
       "shape: (1, 5)\n",
       "┌─────────┬───────────────┬────────┬──────────┬────────┐\n",
       "│ case_id ┆ date_decision ┆ MONTH  ┆ WEEK_NUM ┆ target │\n",
       "│ ---     ┆ ---           ┆ ---    ┆ ---      ┆ ---    │\n",
       "│ i64     ┆ str           ┆ i64    ┆ i64      ┆ i64    │\n",
       "╞═════════╪═══════════════╪════════╪══════════╪════════╡\n",
       "│ 2703454 ┆ 2020-10-05    ┆ 202010 ┆ 91       ┆ 0      │\n",
       "└─────────┴───────────────┴────────┴──────────┴────────┘"
      ]
     },
     "execution_count": 26,
     "metadata": {},
     "output_type": "execute_result"
    }
   ],
   "source": [
    "train_base[[-1]]"
   ]
  },
  {
   "cell_type": "code",
   "execution_count": 27,
   "id": "c1abd048",
   "metadata": {},
   "outputs": [
    {
     "data": {
      "text/html": [
       "<div><style>\n",
       ".dataframe > thead > tr,\n",
       ".dataframe > tbody > tr {\n",
       "  text-align: right;\n",
       "  white-space: pre-wrap;\n",
       "}\n",
       "</style>\n",
       "<small>shape: (5, 3)</small><table border=\"1\" class=\"dataframe\"><thead><tr><th>case_id</th><th>WEEK_NUM</th><th>target</th></tr><tr><td>i64</td><td>i64</td><td>i64</td></tr></thead><tbody><tr><td>1000001</td><td>80</td><td>0</td></tr><tr><td>1000002</td><td>80</td><td>0</td></tr><tr><td>1000003</td><td>80</td><td>1</td></tr><tr><td>1000004</td><td>80</td><td>0</td></tr><tr><td>1000005</td><td>80</td><td>0</td></tr></tbody></table></div>"
      ],
      "text/plain": [
       "shape: (5, 3)\n",
       "┌─────────┬──────────┬────────┐\n",
       "│ case_id ┆ WEEK_NUM ┆ target │\n",
       "│ ---     ┆ ---      ┆ ---    │\n",
       "│ i64     ┆ i64      ┆ i64    │\n",
       "╞═════════╪══════════╪════════╡\n",
       "│ 1000001 ┆ 80       ┆ 0      │\n",
       "│ 1000002 ┆ 80       ┆ 0      │\n",
       "│ 1000003 ┆ 80       ┆ 1      │\n",
       "│ 1000004 ┆ 80       ┆ 0      │\n",
       "│ 1000005 ┆ 80       ┆ 0      │\n",
       "└─────────┴──────────┴────────┘"
      ]
     },
     "execution_count": 27,
     "metadata": {},
     "output_type": "execute_result"
    }
   ],
   "source": [
    "(\n",
    "    train_base\n",
    "    .filter(\n",
    "        pl.col(\"case_id\") > 1000000\n",
    "    )\n",
    "    .select(\"case_id\",\"WEEK_NUM\",\"target\")\n",
    "    .head()\n",
    ")"
   ]
  },
  {
   "cell_type": "markdown",
   "id": "632460b6-a8cc-4a00-a672-8c4ac7aac0ca",
   "metadata": {},
   "source": [
    "## Keyword filter\n",
    "\n",
    "- only works with equality operator"
   ]
  },
  {
   "cell_type": "code",
   "execution_count": 28,
   "id": "605a290a",
   "metadata": {},
   "outputs": [
    {
     "data": {
      "text/html": [
       "<div><style>\n",
       ".dataframe > thead > tr,\n",
       ".dataframe > tbody > tr {\n",
       "  text-align: right;\n",
       "  white-space: pre-wrap;\n",
       "}\n",
       "</style>\n",
       "<small>shape: (1, 3)</small><table border=\"1\" class=\"dataframe\"><thead><tr><th>case_id</th><th>WEEK_NUM</th><th>target</th></tr><tr><td>i64</td><td>i64</td><td>i64</td></tr></thead><tbody><tr><td>1000002</td><td>80</td><td>0</td></tr></tbody></table></div>"
      ],
      "text/plain": [
       "shape: (1, 3)\n",
       "┌─────────┬──────────┬────────┐\n",
       "│ case_id ┆ WEEK_NUM ┆ target │\n",
       "│ ---     ┆ ---      ┆ ---    │\n",
       "│ i64     ┆ i64      ┆ i64    │\n",
       "╞═════════╪══════════╪════════╡\n",
       "│ 1000002 ┆ 80       ┆ 0      │\n",
       "└─────────┴──────────┴────────┘"
      ]
     },
     "execution_count": 28,
     "metadata": {},
     "output_type": "execute_result"
    }
   ],
   "source": [
    "(\n",
    "    train_base\n",
    "    .filter(\n",
    "        case_id = 1000002\n",
    "    )\n",
    "    .select(\"case_id\",\"WEEK_NUM\",\"target\")\n",
    "    .head()\n",
    ")"
   ]
  },
  {
   "cell_type": "markdown",
   "id": "a210f2f8-6ad3-4585-bf97-ef3e49fcb021",
   "metadata": {},
   "source": [
    "## Filtering on a boolean list"
   ]
  },
  {
   "cell_type": "code",
   "execution_count": 29,
   "id": "1a979d8a-4013-4a60-b292-51ceabb4755e",
   "metadata": {},
   "outputs": [
    {
     "data": {
      "text/html": [
       "<div><style>\n",
       ".dataframe > thead > tr,\n",
       ".dataframe > tbody > tr {\n",
       "  text-align: right;\n",
       "  white-space: pre-wrap;\n",
       "}\n",
       "</style>\n",
       "<small>shape: (5, 3)</small><table border=\"1\" class=\"dataframe\"><thead><tr><th>case_id</th><th>WEEK_NUM</th><th>target</th></tr><tr><td>i64</td><td>i64</td><td>i64</td></tr></thead><tbody><tr><td>4</td><td>0</td><td>1</td></tr><tr><td>101</td><td>0</td><td>1</td></tr><tr><td>118</td><td>0</td><td>1</td></tr><tr><td>129</td><td>0</td><td>1</td></tr><tr><td>148</td><td>0</td><td>1</td></tr></tbody></table></div>"
      ],
      "text/plain": [
       "shape: (5, 3)\n",
       "┌─────────┬──────────┬────────┐\n",
       "│ case_id ┆ WEEK_NUM ┆ target │\n",
       "│ ---     ┆ ---      ┆ ---    │\n",
       "│ i64     ┆ i64      ┆ i64    │\n",
       "╞═════════╪══════════╪════════╡\n",
       "│ 4       ┆ 0        ┆ 1      │\n",
       "│ 101     ┆ 0        ┆ 1      │\n",
       "│ 118     ┆ 0        ┆ 1      │\n",
       "│ 129     ┆ 0        ┆ 1      │\n",
       "│ 148     ┆ 0        ┆ 1      │\n",
       "└─────────┴──────────┴────────┘"
      ]
     },
     "execution_count": 29,
     "metadata": {},
     "output_type": "execute_result"
    }
   ],
   "source": [
    "boolean_list = [True if target == 1 else False for target in train_base[\"target\"]]\n",
    "(\n",
    "    train_base\n",
    "    .filter(\n",
    "        boolean_list\n",
    "    )\n",
    "    .select(\"case_id\",\"WEEK_NUM\",\"target\")\n",
    ").head()"
   ]
  },
  {
   "cell_type": "code",
   "execution_count": 30,
   "id": "2b4f181a-cf62-4250-ac75-b4072eb5eb10",
   "metadata": {},
   "outputs": [
    {
     "data": {
      "text/html": [
       "<div><style>\n",
       ".dataframe > thead > tr,\n",
       ".dataframe > tbody > tr {\n",
       "  text-align: right;\n",
       "  white-space: pre-wrap;\n",
       "}\n",
       "</style>\n",
       "<small>shape: (5, 3)</small><table border=\"1\" class=\"dataframe\"><thead><tr><th>case_id</th><th>WEEK_NUM</th><th>target</th></tr><tr><td>i64</td><td>i64</td><td>i64</td></tr></thead><tbody><tr><td>4</td><td>0</td><td>1</td></tr><tr><td>101</td><td>0</td><td>1</td></tr><tr><td>118</td><td>0</td><td>1</td></tr><tr><td>129</td><td>0</td><td>1</td></tr><tr><td>148</td><td>0</td><td>1</td></tr></tbody></table></div>"
      ],
      "text/plain": [
       "shape: (5, 3)\n",
       "┌─────────┬──────────┬────────┐\n",
       "│ case_id ┆ WEEK_NUM ┆ target │\n",
       "│ ---     ┆ ---      ┆ ---    │\n",
       "│ i64     ┆ i64      ┆ i64    │\n",
       "╞═════════╪══════════╪════════╡\n",
       "│ 4       ┆ 0        ┆ 1      │\n",
       "│ 101     ┆ 0        ┆ 1      │\n",
       "│ 118     ┆ 0        ┆ 1      │\n",
       "│ 129     ┆ 0        ┆ 1      │\n",
       "│ 148     ┆ 0        ┆ 1      │\n",
       "└─────────┴──────────┴────────┘"
      ]
     },
     "execution_count": 30,
     "metadata": {},
     "output_type": "execute_result"
    }
   ],
   "source": [
    "(\n",
    "    train_base\n",
    "    .with_columns(\n",
    "        target_defaulted = pl.col(\"target\") > 0\n",
    "    )\n",
    "    .filter(\n",
    "        pl.col(\"target_defaulted\")\n",
    "    )\n",
    "    .select(\"case_id\",\"WEEK_NUM\",\"target\")\n",
    "    .head()\n",
    ")"
   ]
  },
  {
   "cell_type": "code",
   "execution_count": 31,
   "id": "60bc0821-ac0e-44de-a075-575791c993d2",
   "metadata": {},
   "outputs": [],
   "source": [
    "target_class_dict = (\n",
    "    train_base\n",
    "    .partition_by(\"target\",as_dict=True)\n",
    ")"
   ]
  },
  {
   "cell_type": "code",
   "execution_count": 32,
   "id": "0a4b94a0-47e7-4f36-923d-3e19b98a34bf",
   "metadata": {},
   "outputs": [
    {
     "data": {
      "text/plain": [
       "dict_keys([0, 1])"
      ]
     },
     "execution_count": 32,
     "metadata": {},
     "output_type": "execute_result"
    }
   ],
   "source": [
    "target_class_dict.keys()"
   ]
  },
  {
   "cell_type": "code",
   "execution_count": 33,
   "id": "fd0d3ca3-b45d-41f0-8bef-e49d9ba0bf06",
   "metadata": {},
   "outputs": [
    {
     "data": {
      "text/html": [
       "<div><style>\n",
       ".dataframe > thead > tr,\n",
       ".dataframe > tbody > tr {\n",
       "  text-align: right;\n",
       "  white-space: pre-wrap;\n",
       "}\n",
       "</style>\n",
       "<small>shape: (5, 5)</small><table border=\"1\" class=\"dataframe\"><thead><tr><th>case_id</th><th>date_decision</th><th>MONTH</th><th>WEEK_NUM</th><th>target</th></tr><tr><td>i64</td><td>str</td><td>i64</td><td>i64</td><td>i64</td></tr></thead><tbody><tr><td>4</td><td>&quot;2019-01-04&quot;</td><td>201901</td><td>0</td><td>1</td></tr><tr><td>101</td><td>&quot;2019-01-03&quot;</td><td>201901</td><td>0</td><td>1</td></tr><tr><td>118</td><td>&quot;2019-01-03&quot;</td><td>201901</td><td>0</td><td>1</td></tr><tr><td>129</td><td>&quot;2019-01-04&quot;</td><td>201901</td><td>0</td><td>1</td></tr><tr><td>148</td><td>&quot;2019-01-04&quot;</td><td>201901</td><td>0</td><td>1</td></tr></tbody></table></div>"
      ],
      "text/plain": [
       "shape: (5, 5)\n",
       "┌─────────┬───────────────┬────────┬──────────┬────────┐\n",
       "│ case_id ┆ date_decision ┆ MONTH  ┆ WEEK_NUM ┆ target │\n",
       "│ ---     ┆ ---           ┆ ---    ┆ ---      ┆ ---    │\n",
       "│ i64     ┆ str           ┆ i64    ┆ i64      ┆ i64    │\n",
       "╞═════════╪═══════════════╪════════╪══════════╪════════╡\n",
       "│ 4       ┆ 2019-01-04    ┆ 201901 ┆ 0        ┆ 1      │\n",
       "│ 101     ┆ 2019-01-03    ┆ 201901 ┆ 0        ┆ 1      │\n",
       "│ 118     ┆ 2019-01-03    ┆ 201901 ┆ 0        ┆ 1      │\n",
       "│ 129     ┆ 2019-01-04    ┆ 201901 ┆ 0        ┆ 1      │\n",
       "│ 148     ┆ 2019-01-04    ┆ 201901 ┆ 0        ┆ 1      │\n",
       "└─────────┴───────────────┴────────┴──────────┴────────┘"
      ]
     },
     "execution_count": 33,
     "metadata": {},
     "output_type": "execute_result"
    }
   ],
   "source": [
    "(\n",
    "    target_class_dict[1]\n",
    "    .head()\n",
    ")"
   ]
  },
  {
   "cell_type": "code",
   "execution_count": 34,
   "id": "90a86f92-2d32-4cc8-9def-3d361746dcfc",
   "metadata": {},
   "outputs": [
    {
     "data": {
      "text/plain": [
       "dict_keys([0, 1, 2, 3, 4, 5, 6, 7, 8, 9, 10, 11, 12, 13, 14, 15, 16, 17, 18, 19, 20, 21, 22, 23, 24, 25, 26, 27, 29, 28, 30, 31, 32, 33, 34, 35, 36, 37, 38, 39, 40, 41, 42, 43, 44, 45, 46, 47, 48, 49, 50, 51, 52, 53, 54, 55, 56, 57, 58, 59, 60, 61, 62, 63, 64, 65, 66, 67, 68, 69, 70, 71, 72, 73, 74, 75, 76, 77, 78, 79, 80, 81, 82, 83, 84, 85, 86, 87, 88, 89, 90, 91])"
      ]
     },
     "execution_count": 34,
     "metadata": {},
     "output_type": "execute_result"
    }
   ],
   "source": [
    "week_num_dict = (\n",
    "    train_base\n",
    "    .partition_by(\"WEEK_NUM\",as_dict=True)\n",
    ")\n",
    "week_num_dict.keys()"
   ]
  },
  {
   "cell_type": "code",
   "execution_count": 35,
   "id": "65783078-2399-4e9f-bfec-b084013baf25",
   "metadata": {},
   "outputs": [
    {
     "data": {
      "text/html": [
       "<div><style>\n",
       ".dataframe > thead > tr,\n",
       ".dataframe > tbody > tr {\n",
       "  text-align: right;\n",
       "  white-space: pre-wrap;\n",
       "}\n",
       "</style>\n",
       "<small>shape: (5, 5)</small><table border=\"1\" class=\"dataframe\"><thead><tr><th>case_id</th><th>date_decision</th><th>MONTH</th><th>WEEK_NUM</th><th>target</th></tr><tr><td>i64</td><td>str</td><td>i64</td><td>i64</td><td>i64</td></tr></thead><tbody><tr><td>716</td><td>&quot;2019-01-17&quot;</td><td>201901</td><td>2</td><td>0</td></tr><tr><td>762</td><td>&quot;2019-01-17&quot;</td><td>201901</td><td>2</td><td>0</td></tr><tr><td>809</td><td>&quot;2019-01-17&quot;</td><td>201901</td><td>2</td><td>0</td></tr><tr><td>901</td><td>&quot;2019-01-18&quot;</td><td>201901</td><td>2</td><td>0</td></tr><tr><td>916</td><td>&quot;2019-01-16&quot;</td><td>201901</td><td>2</td><td>0</td></tr></tbody></table></div>"
      ],
      "text/plain": [
       "shape: (5, 5)\n",
       "┌─────────┬───────────────┬────────┬──────────┬────────┐\n",
       "│ case_id ┆ date_decision ┆ MONTH  ┆ WEEK_NUM ┆ target │\n",
       "│ ---     ┆ ---           ┆ ---    ┆ ---      ┆ ---    │\n",
       "│ i64     ┆ str           ┆ i64    ┆ i64      ┆ i64    │\n",
       "╞═════════╪═══════════════╪════════╪══════════╪════════╡\n",
       "│ 716     ┆ 2019-01-17    ┆ 201901 ┆ 2        ┆ 0      │\n",
       "│ 762     ┆ 2019-01-17    ┆ 201901 ┆ 2        ┆ 0      │\n",
       "│ 809     ┆ 2019-01-17    ┆ 201901 ┆ 2        ┆ 0      │\n",
       "│ 901     ┆ 2019-01-18    ┆ 201901 ┆ 2        ┆ 0      │\n",
       "│ 916     ┆ 2019-01-16    ┆ 201901 ┆ 2        ┆ 0      │\n",
       "└─────────┴───────────────┴────────┴──────────┴────────┘"
      ]
     },
     "execution_count": 35,
     "metadata": {},
     "output_type": "execute_result"
    }
   ],
   "source": [
    "(\n",
    "    week_num_dict[2]\n",
    "    .head()\n",
    ")"
   ]
  },
  {
   "cell_type": "code",
   "execution_count": 36,
   "id": "322bbc37-0641-4b27-92c1-4fc694b382e3",
   "metadata": {},
   "outputs": [
    {
     "data": {
      "text/plain": [
       "['case_id', 'date_decision', 'MONTH', 'WEEK_NUM', 'target']"
      ]
     },
     "execution_count": 36,
     "metadata": {},
     "output_type": "execute_result"
    }
   ],
   "source": [
    "(\n",
    "    pl.scan_parquet(train_files[7])\n",
    "    .head()\n",
    ").columns"
   ]
  },
  {
   "cell_type": "code",
   "execution_count": 37,
   "id": "db60f157-4e80-4ab6-9738-a8b357f841ee",
   "metadata": {},
   "outputs": [
    {
     "data": {
      "text/html": [
       "<div><style>\n",
       ".dataframe > thead > tr,\n",
       ".dataframe > tbody > tr {\n",
       "  text-align: right;\n",
       "  white-space: pre-wrap;\n",
       "}\n",
       "</style>\n",
       "<small>shape: (5, 3)</small><table border=\"1\" class=\"dataframe\"><thead><tr><th>case_id</th><th>WEEK_NUM</th><th>target</th></tr><tr><td>i64</td><td>i64</td><td>i64</td></tr></thead><tbody><tr><td>4</td><td>0</td><td>1</td></tr><tr><td>101</td><td>0</td><td>1</td></tr><tr><td>118</td><td>0</td><td>1</td></tr><tr><td>129</td><td>0</td><td>1</td></tr><tr><td>148</td><td>0</td><td>1</td></tr></tbody></table></div>"
      ],
      "text/plain": [
       "shape: (5, 3)\n",
       "┌─────────┬──────────┬────────┐\n",
       "│ case_id ┆ WEEK_NUM ┆ target │\n",
       "│ ---     ┆ ---      ┆ ---    │\n",
       "│ i64     ┆ i64      ┆ i64    │\n",
       "╞═════════╪══════════╪════════╡\n",
       "│ 4       ┆ 0        ┆ 1      │\n",
       "│ 101     ┆ 0        ┆ 1      │\n",
       "│ 118     ┆ 0        ┆ 1      │\n",
       "│ 129     ┆ 0        ┆ 1      │\n",
       "│ 148     ┆ 0        ┆ 1      │\n",
       "└─────────┴──────────┴────────┘"
      ]
     },
     "execution_count": 37,
     "metadata": {},
     "output_type": "execute_result"
    }
   ],
   "source": [
    "(\n",
    "    pl.scan_parquet(train_files[7])\n",
    "    .filter(\n",
    "        pl.col(\"target\") > 0\n",
    "    )\n",
    "    .select(\"case_id\",\"WEEK_NUM\",\"target\")\n",
    "    .fetch()\n",
    "    .head()\n",
    ")"
   ]
  },
  {
   "cell_type": "code",
   "execution_count": 38,
   "id": "b2995ad6-ad08-4acc-a7cb-6442c66ff1c2",
   "metadata": {},
   "outputs": [
    {
     "name": "stdout",
     "output_type": "stream",
     "text": [
      "naive plan: (run LazyFrame.explain(optimized=True) to see the optimized plan)\n",
      "\n",
      "FILTER [(col(\"target\")) > (0)] FROM\n",
      "\n",
      "  Parquet SCAN Downloads/credit_risk/train/train_base.parquet\n",
      "  PROJECT */5 COLUMNS\n"
     ]
    }
   ],
   "source": [
    "train_lazy = pl.scan_parquet(train_files[7]).filter(pl.col(\"target\") > 0)\n",
    "print(train_lazy)"
   ]
  },
  {
   "cell_type": "code",
   "execution_count": 39,
   "id": "89dea950-1e9c-4e64-b04d-bc0382210084",
   "metadata": {},
   "outputs": [
    {
     "name": "stdout",
     "output_type": "stream",
     "text": [
      "\n",
      "  Parquet SCAN Downloads/credit_risk/train/train_base.parquet\n",
      "  PROJECT */5 COLUMNS\n",
      "  SELECTION: [(col(\"target\")) > (0)]\n"
     ]
    }
   ],
   "source": [
    "print(train_lazy.explain())"
   ]
  },
  {
   "cell_type": "code",
   "execution_count": 40,
   "id": "9dac666d-73d8-4c52-babb-a4eeed605e80",
   "metadata": {},
   "outputs": [
    {
     "name": "stdout",
     "output_type": "stream",
     "text": [
      "naive plan: (run LazyFrame.explain(optimized=True) to see the optimized plan)\n",
      "\n",
      "FILTER [(col(\"WEEK_NUM\")) > (15)] FROM\n",
      "FILTER [(col(\"target\")) > (0)] FROM\n",
      "\n",
      "  Parquet SCAN Downloads/credit_risk/train/train_base.parquet\n",
      "  PROJECT */5 COLUMNS\n",
      "*--------------------------------------------------------------------------------*\n",
      "\n",
      "  Parquet SCAN Downloads/credit_risk/train/train_base.parquet\n",
      "  PROJECT */5 COLUMNS\n",
      "  SELECTION: [([(col(\"WEEK_NUM\")) > (15)]) & ([(col(\"target\")) > (0)])]\n"
     ]
    }
   ],
   "source": [
    "train_lazy = (\n",
    "    pl.scan_parquet(train_files[7])\n",
    "    .filter(\n",
    "        pl.col(\"target\") > 0\n",
    "    )\n",
    "    .filter(\n",
    "        pl.col(\"WEEK_NUM\") > 15\n",
    "    )\n",
    ")\n",
    "print(train_lazy)\n",
    "print(\"*--------------------------------------------------------------------------------*\")\n",
    "print(train_lazy.explain())"
   ]
  },
  {
   "cell_type": "code",
   "execution_count": 41,
   "id": "d8686192-91ce-433f-92d6-099406fcc454",
   "metadata": {},
   "outputs": [
    {
     "data": {
      "text/plain": [
       "201901"
      ]
     },
     "execution_count": 41,
     "metadata": {},
     "output_type": "execute_result"
    }
   ],
   "source": [
    "train_base[10,\"MONTH\"]"
   ]
  },
  {
   "cell_type": "code",
   "execution_count": 42,
   "id": "00029313",
   "metadata": {},
   "outputs": [
    {
     "data": {
      "text/html": [
       "<div><style>\n",
       ".dataframe > thead > tr,\n",
       ".dataframe > tbody > tr {\n",
       "  text-align: right;\n",
       "  white-space: pre-wrap;\n",
       "}\n",
       "</style>\n",
       "<small>shape: (5,)</small><table border=\"1\" class=\"dataframe\"><thead><tr><th>MONTH</th></tr><tr><td>i64</td></tr></thead><tbody><tr><td>201901</td></tr><tr><td>201901</td></tr><tr><td>201901</td></tr><tr><td>201901</td></tr><tr><td>201901</td></tr></tbody></table></div>"
      ],
      "text/plain": [
       "shape: (5,)\n",
       "Series: 'MONTH' [i64]\n",
       "[\n",
       "\t201901\n",
       "\t201901\n",
       "\t201901\n",
       "\t201901\n",
       "\t201901\n",
       "]"
      ]
     },
     "execution_count": 42,
     "metadata": {},
     "output_type": "execute_result"
    }
   ],
   "source": [
    "train_base[15:20,\"MONTH\"]"
   ]
  },
  {
   "cell_type": "code",
   "execution_count": 43,
   "id": "c1958daa",
   "metadata": {},
   "outputs": [
    {
     "data": {
      "text/html": [
       "<div><style>\n",
       ".dataframe > thead > tr,\n",
       ".dataframe > tbody > tr {\n",
       "  text-align: right;\n",
       "  white-space: pre-wrap;\n",
       "}\n",
       "</style>\n",
       "<small>shape: (5, 3)</small><table border=\"1\" class=\"dataframe\"><thead><tr><th>case_id</th><th>date_decision</th><th>MONTH</th></tr><tr><td>i64</td><td>str</td><td>i64</td></tr></thead><tbody><tr><td>15</td><td>&quot;2019-01-03&quot;</td><td>201901</td></tr><tr><td>16</td><td>&quot;2019-01-03&quot;</td><td>201901</td></tr><tr><td>17</td><td>&quot;2019-01-03&quot;</td><td>201901</td></tr><tr><td>18</td><td>&quot;2019-01-03&quot;</td><td>201901</td></tr><tr><td>19</td><td>&quot;2019-01-03&quot;</td><td>201901</td></tr></tbody></table></div>"
      ],
      "text/plain": [
       "shape: (5, 3)\n",
       "┌─────────┬───────────────┬────────┐\n",
       "│ case_id ┆ date_decision ┆ MONTH  │\n",
       "│ ---     ┆ ---           ┆ ---    │\n",
       "│ i64     ┆ str           ┆ i64    │\n",
       "╞═════════╪═══════════════╪════════╡\n",
       "│ 15      ┆ 2019-01-03    ┆ 201901 │\n",
       "│ 16      ┆ 2019-01-03    ┆ 201901 │\n",
       "│ 17      ┆ 2019-01-03    ┆ 201901 │\n",
       "│ 18      ┆ 2019-01-03    ┆ 201901 │\n",
       "│ 19      ┆ 2019-01-03    ┆ 201901 │\n",
       "└─────────┴───────────────┴────────┘"
      ]
     },
     "execution_count": 43,
     "metadata": {},
     "output_type": "execute_result"
    }
   ],
   "source": [
    "train_base[15:20,:3]"
   ]
  },
  {
   "cell_type": "code",
   "execution_count": 44,
   "id": "c8d66244",
   "metadata": {},
   "outputs": [
    {
     "data": {
      "text/html": [
       "<div><style>\n",
       ".dataframe > thead > tr,\n",
       ".dataframe > tbody > tr {\n",
       "  text-align: right;\n",
       "  white-space: pre-wrap;\n",
       "}\n",
       "</style>\n",
       "<small>shape: (5, 4)</small><table border=\"1\" class=\"dataframe\"><thead><tr><th>case_id</th><th>date_decision</th><th>MONTH</th><th>WEEK_NUM</th></tr><tr><td>i64</td><td>str</td><td>i64</td><td>i64</td></tr></thead><tbody><tr><td>15</td><td>&quot;2019-01-03&quot;</td><td>201901</td><td>0</td></tr><tr><td>16</td><td>&quot;2019-01-03&quot;</td><td>201901</td><td>0</td></tr><tr><td>17</td><td>&quot;2019-01-03&quot;</td><td>201901</td><td>0</td></tr><tr><td>18</td><td>&quot;2019-01-03&quot;</td><td>201901</td><td>0</td></tr><tr><td>19</td><td>&quot;2019-01-03&quot;</td><td>201901</td><td>0</td></tr></tbody></table></div>"
      ],
      "text/plain": [
       "shape: (5, 4)\n",
       "┌─────────┬───────────────┬────────┬──────────┐\n",
       "│ case_id ┆ date_decision ┆ MONTH  ┆ WEEK_NUM │\n",
       "│ ---     ┆ ---           ┆ ---    ┆ ---      │\n",
       "│ i64     ┆ str           ┆ i64    ┆ i64      │\n",
       "╞═════════╪═══════════════╪════════╪══════════╡\n",
       "│ 15      ┆ 2019-01-03    ┆ 201901 ┆ 0        │\n",
       "│ 16      ┆ 2019-01-03    ┆ 201901 ┆ 0        │\n",
       "│ 17      ┆ 2019-01-03    ┆ 201901 ┆ 0        │\n",
       "│ 18      ┆ 2019-01-03    ┆ 201901 ┆ 0        │\n",
       "│ 19      ┆ 2019-01-03    ┆ 201901 ┆ 0        │\n",
       "└─────────┴───────────────┴────────┴──────────┘"
      ]
     },
     "execution_count": 44,
     "metadata": {},
     "output_type": "execute_result"
    }
   ],
   "source": [
    "train_base[15:20,\"case_id\":\"WEEK_NUM\"]"
   ]
  },
  {
   "cell_type": "code",
   "execution_count": 45,
   "id": "74d31e6f",
   "metadata": {},
   "outputs": [
    {
     "data": {
      "text/html": [
       "<div><style>\n",
       ".dataframe > thead > tr,\n",
       ".dataframe > tbody > tr {\n",
       "  text-align: right;\n",
       "  white-space: pre-wrap;\n",
       "}\n",
       "</style>\n",
       "<small>shape: (5, 1)</small><table border=\"1\" class=\"dataframe\"><thead><tr><th>case_id</th></tr><tr><td>i64</td></tr></thead><tbody><tr><td>0</td></tr><tr><td>1</td></tr><tr><td>2</td></tr><tr><td>3</td></tr><tr><td>4</td></tr></tbody></table></div>"
      ],
      "text/plain": [
       "shape: (5, 1)\n",
       "┌─────────┐\n",
       "│ case_id │\n",
       "│ ---     │\n",
       "│ i64     │\n",
       "╞═════════╡\n",
       "│ 0       │\n",
       "│ 1       │\n",
       "│ 2       │\n",
       "│ 3       │\n",
       "│ 4       │\n",
       "└─────────┘"
      ]
     },
     "execution_count": 45,
     "metadata": {},
     "output_type": "execute_result"
    }
   ],
   "source": [
    "(\n",
    "    train_base\n",
    "    .select(pl.col(\"case_id\"))\n",
    "    .head()\n",
    ")"
   ]
  },
  {
   "cell_type": "code",
   "execution_count": 46,
   "id": "b5943a15",
   "metadata": {},
   "outputs": [
    {
     "data": {
      "text/html": [
       "<div><style>\n",
       ".dataframe > thead > tr,\n",
       ".dataframe > tbody > tr {\n",
       "  text-align: right;\n",
       "  white-space: pre-wrap;\n",
       "}\n",
       "</style>\n",
       "<small>shape: (5, 2)</small><table border=\"1\" class=\"dataframe\"><thead><tr><th>case_id</th><th>WEEK_NUM</th></tr><tr><td>i64</td><td>i64</td></tr></thead><tbody><tr><td>0</td><td>0</td></tr><tr><td>1</td><td>0</td></tr><tr><td>2</td><td>0</td></tr><tr><td>3</td><td>0</td></tr><tr><td>4</td><td>0</td></tr></tbody></table></div>"
      ],
      "text/plain": [
       "shape: (5, 2)\n",
       "┌─────────┬──────────┐\n",
       "│ case_id ┆ WEEK_NUM │\n",
       "│ ---     ┆ ---      │\n",
       "│ i64     ┆ i64      │\n",
       "╞═════════╪══════════╡\n",
       "│ 0       ┆ 0        │\n",
       "│ 1       ┆ 0        │\n",
       "│ 2       ┆ 0        │\n",
       "│ 3       ┆ 0        │\n",
       "│ 4       ┆ 0        │\n",
       "└─────────┴──────────┘"
      ]
     },
     "execution_count": 46,
     "metadata": {},
     "output_type": "execute_result"
    }
   ],
   "source": [
    "(\n",
    "    train_base\n",
    "    .select([\"case_id\",\"WEEK_NUM\"])\n",
    "    .head()\n",
    ")"
   ]
  },
  {
   "cell_type": "code",
   "execution_count": 47,
   "id": "0a0b87ca",
   "metadata": {},
   "outputs": [
    {
     "data": {
      "text/html": [
       "<div><style>\n",
       ".dataframe > thead > tr,\n",
       ".dataframe > tbody > tr {\n",
       "  text-align: right;\n",
       "  white-space: pre-wrap;\n",
       "}\n",
       "</style>\n",
       "<small>shape: (5, 1)</small><table border=\"1\" class=\"dataframe\"><thead><tr><th>MONTH</th></tr><tr><td>f64</td></tr></thead><tbody><tr><td>0.0</td></tr><tr><td>0.0</td></tr><tr><td>0.0</td></tr><tr><td>0.0</td></tr><tr><td>2019.01</td></tr></tbody></table></div>"
      ],
      "text/plain": [
       "shape: (5, 1)\n",
       "┌─────────┐\n",
       "│ MONTH   │\n",
       "│ ---     │\n",
       "│ f64     │\n",
       "╞═════════╡\n",
       "│ 0.0     │\n",
       "│ 0.0     │\n",
       "│ 0.0     │\n",
       "│ 0.0     │\n",
       "│ 2019.01 │\n",
       "└─────────┘"
      ]
     },
     "execution_count": 47,
     "metadata": {},
     "output_type": "execute_result"
    }
   ],
   "source": [
    "(\n",
    "    train_base\n",
    "    .select(\n",
    "        pl.col(\"MONTH\")/100 * pl.col(\"target\")\n",
    "    )\n",
    "    .head()\n",
    ")"
   ]
  },
  {
   "cell_type": "code",
   "execution_count": 48,
   "id": "0a027293",
   "metadata": {},
   "outputs": [
    {
     "data": {
      "text/html": [
       "<div><style>\n",
       ".dataframe > thead > tr,\n",
       ".dataframe > tbody > tr {\n",
       "  text-align: right;\n",
       "  white-space: pre-wrap;\n",
       "}\n",
       "</style>\n",
       "<small>shape: (5, 2)</small><table border=\"1\" class=\"dataframe\"><thead><tr><th>MONTH</th><th>MONTH_STRING</th></tr><tr><td>i64</td><td>str</td></tr></thead><tbody><tr><td>201901</td><td>&quot;201901&quot;</td></tr><tr><td>201901</td><td>&quot;201901&quot;</td></tr><tr><td>201901</td><td>&quot;201901&quot;</td></tr><tr><td>201901</td><td>&quot;201901&quot;</td></tr><tr><td>201901</td><td>&quot;201901&quot;</td></tr></tbody></table></div>"
      ],
      "text/plain": [
       "shape: (5, 2)\n",
       "┌────────┬──────────────┐\n",
       "│ MONTH  ┆ MONTH_STRING │\n",
       "│ ---    ┆ ---          │\n",
       "│ i64    ┆ str          │\n",
       "╞════════╪══════════════╡\n",
       "│ 201901 ┆ 201901       │\n",
       "│ 201901 ┆ 201901       │\n",
       "│ 201901 ┆ 201901       │\n",
       "│ 201901 ┆ 201901       │\n",
       "│ 201901 ┆ 201901       │\n",
       "└────────┴──────────────┘"
      ]
     },
     "execution_count": 48,
     "metadata": {},
     "output_type": "execute_result"
    }
   ],
   "source": [
    "(\n",
    "    train_base\n",
    "    .select(\n",
    "        [\n",
    "            pl.col(\"MONTH\"),\n",
    "            pl.col(\"MONTH\").cast(pl.String).alias(\"MONTH_STRING\")\n",
    "        ]\n",
    "    ).head()\n",
    ")"
   ]
  },
  {
   "cell_type": "code",
   "execution_count": 49,
   "id": "851cb7d4",
   "metadata": {},
   "outputs": [
    {
     "name": "stdout",
     "output_type": "stream",
     "text": [
      " WITH_COLUMNS:\n",
      " [col(\"target\").strict_cast(Float32)]\n",
      "  FAST_PROJECT: [case_id, WEEK_NUM, target]\n",
      "\n",
      "      Parquet SCAN Downloads/credit_risk/train/train_base.parquet\n",
      "      PROJECT 3/5 COLUMNS\n"
     ]
    }
   ],
   "source": [
    "print(\n",
    "    (\n",
    "        (\n",
    "            pl.scan_parquet(train_files[7])\n",
    "        )\n",
    "        .select([\"case_id\",\"WEEK_NUM\",\"target\"])\n",
    "        .with_columns(\n",
    "            pl.col(\"target\").cast(pl.Float32)\n",
    "        )\n",
    "    )\n",
    "    .explain()\n",
    ")"
   ]
  },
  {
   "cell_type": "code",
   "execution_count": 50,
   "id": "898a0901",
   "metadata": {},
   "outputs": [
    {
     "data": {
      "text/html": [
       "<div><style>\n",
       ".dataframe > thead > tr,\n",
       ".dataframe > tbody > tr {\n",
       "  text-align: right;\n",
       "  white-space: pre-wrap;\n",
       "}\n",
       "</style>\n",
       "<small>shape: (5, 5)</small><table border=\"1\" class=\"dataframe\"><thead><tr><th>case_id</th><th>date_decision</th><th>MONTH</th><th>WEEK_NUM</th><th>target</th></tr><tr><td>i64</td><td>str</td><td>i64</td><td>i64</td><td>i64</td></tr></thead><tbody><tr><td>0</td><td>&quot;2019-01-03&quot;</td><td>201901</td><td>0</td><td>0</td></tr><tr><td>1</td><td>&quot;2019-01-03&quot;</td><td>201901</td><td>0</td><td>0</td></tr><tr><td>2</td><td>&quot;2019-01-04&quot;</td><td>201901</td><td>0</td><td>0</td></tr><tr><td>3</td><td>&quot;2019-01-03&quot;</td><td>201901</td><td>0</td><td>0</td></tr><tr><td>4</td><td>&quot;2019-01-04&quot;</td><td>201901</td><td>0</td><td>1</td></tr></tbody></table></div>"
      ],
      "text/plain": [
       "shape: (5, 5)\n",
       "┌─────────┬───────────────┬────────┬──────────┬────────┐\n",
       "│ case_id ┆ date_decision ┆ MONTH  ┆ WEEK_NUM ┆ target │\n",
       "│ ---     ┆ ---           ┆ ---    ┆ ---      ┆ ---    │\n",
       "│ i64     ┆ str           ┆ i64    ┆ i64      ┆ i64    │\n",
       "╞═════════╪═══════════════╪════════╪══════════╪════════╡\n",
       "│ 0       ┆ 2019-01-03    ┆ 201901 ┆ 0        ┆ 0      │\n",
       "│ 1       ┆ 2019-01-03    ┆ 201901 ┆ 0        ┆ 0      │\n",
       "│ 2       ┆ 2019-01-04    ┆ 201901 ┆ 0        ┆ 0      │\n",
       "│ 3       ┆ 2019-01-03    ┆ 201901 ┆ 0        ┆ 0      │\n",
       "│ 4       ┆ 2019-01-04    ┆ 201901 ┆ 0        ┆ 1      │\n",
       "└─────────┴───────────────┴────────┴──────────┴────────┘"
      ]
     },
     "execution_count": 50,
     "metadata": {},
     "output_type": "execute_result"
    }
   ],
   "source": [
    "(\n",
    "    pl.read_parquet(train_files[7])\n",
    "    .select(\n",
    "        cs.all()\n",
    "    )\n",
    "    .head()\n",
    ")"
   ]
  },
  {
   "cell_type": "code",
   "execution_count": 51,
   "id": "2f90860b",
   "metadata": {},
   "outputs": [
    {
     "data": {
      "text/html": [
       "<div><style>\n",
       ".dataframe > thead > tr,\n",
       ".dataframe > tbody > tr {\n",
       "  text-align: right;\n",
       "  white-space: pre-wrap;\n",
       "}\n",
       "</style>\n",
       "<small>shape: (5, 3)</small><table border=\"1\" class=\"dataframe\"><thead><tr><th>case_id</th><th>WEEK_NUM</th><th>target</th></tr><tr><td>i64</td><td>i64</td><td>i64</td></tr></thead><tbody><tr><td>0</td><td>0</td><td>0</td></tr><tr><td>1</td><td>0</td><td>0</td></tr><tr><td>2</td><td>0</td><td>0</td></tr><tr><td>3</td><td>0</td><td>0</td></tr><tr><td>4</td><td>0</td><td>1</td></tr></tbody></table></div>"
      ],
      "text/plain": [
       "shape: (5, 3)\n",
       "┌─────────┬──────────┬────────┐\n",
       "│ case_id ┆ WEEK_NUM ┆ target │\n",
       "│ ---     ┆ ---      ┆ ---    │\n",
       "│ i64     ┆ i64      ┆ i64    │\n",
       "╞═════════╪══════════╪════════╡\n",
       "│ 0       ┆ 0        ┆ 0      │\n",
       "│ 1       ┆ 0        ┆ 0      │\n",
       "│ 2       ┆ 0        ┆ 0      │\n",
       "│ 3       ┆ 0        ┆ 0      │\n",
       "│ 4       ┆ 0        ┆ 1      │\n",
       "└─────────┴──────────┴────────┘"
      ]
     },
     "execution_count": 51,
     "metadata": {},
     "output_type": "execute_result"
    }
   ],
   "source": [
    "(\n",
    "    pl.read_parquet(train_files[7])\n",
    "    .select(\n",
    "        pl.exclude([\"date_decision\",\"MONTH\"])\n",
    "    )\n",
    "    .head()\n",
    ")"
   ]
  },
  {
   "cell_type": "code",
   "execution_count": 52,
   "id": "226e8568",
   "metadata": {},
   "outputs": [
    {
     "data": {
      "text/html": [
       "<div><style>\n",
       ".dataframe > thead > tr,\n",
       ".dataframe > tbody > tr {\n",
       "  text-align: right;\n",
       "  white-space: pre-wrap;\n",
       "}\n",
       "</style>\n",
       "<small>shape: (5, 4)</small><table border=\"1\" class=\"dataframe\"><thead><tr><th>case_id</th><th>MONTH</th><th>WEEK_NUM</th><th>target</th></tr><tr><td>i64</td><td>i64</td><td>i64</td><td>i64</td></tr></thead><tbody><tr><td>0</td><td>201901</td><td>0</td><td>0</td></tr><tr><td>1</td><td>201901</td><td>0</td><td>0</td></tr><tr><td>2</td><td>201901</td><td>0</td><td>0</td></tr><tr><td>3</td><td>201901</td><td>0</td><td>0</td></tr><tr><td>4</td><td>201901</td><td>0</td><td>1</td></tr></tbody></table></div>"
      ],
      "text/plain": [
       "shape: (5, 4)\n",
       "┌─────────┬────────┬──────────┬────────┐\n",
       "│ case_id ┆ MONTH  ┆ WEEK_NUM ┆ target │\n",
       "│ ---     ┆ ---    ┆ ---      ┆ ---    │\n",
       "│ i64     ┆ i64    ┆ i64      ┆ i64    │\n",
       "╞═════════╪════════╪══════════╪════════╡\n",
       "│ 0       ┆ 201901 ┆ 0        ┆ 0      │\n",
       "│ 1       ┆ 201901 ┆ 0        ┆ 0      │\n",
       "│ 2       ┆ 201901 ┆ 0        ┆ 0      │\n",
       "│ 3       ┆ 201901 ┆ 0        ┆ 0      │\n",
       "│ 4       ┆ 201901 ┆ 0        ┆ 1      │\n",
       "└─────────┴────────┴──────────┴────────┘"
      ]
     },
     "execution_count": 52,
     "metadata": {},
     "output_type": "execute_result"
    }
   ],
   "source": [
    "(\n",
    "    pl.read_parquet(train_files[7])\n",
    "    .select(\n",
    "        pl.col(pl.INTEGER_DTYPES)\n",
    "    )\n",
    "    .head()\n",
    ")"
   ]
  },
  {
   "cell_type": "code",
   "execution_count": 53,
   "id": "e57c6051",
   "metadata": {},
   "outputs": [
    {
     "data": {
      "text/html": [
       "<div><style>\n",
       ".dataframe > thead > tr,\n",
       ".dataframe > tbody > tr {\n",
       "  text-align: right;\n",
       "  white-space: pre-wrap;\n",
       "}\n",
       "</style>\n",
       "<small>shape: (5, 5)</small><table border=\"1\" class=\"dataframe\"><thead><tr><th>case_id</th><th>date_decision</th><th>target</th><th>MONTH</th><th>WEEK_NUM</th></tr><tr><td>i64</td><td>str</td><td>i64</td><td>i64</td><td>i64</td></tr></thead><tbody><tr><td>0</td><td>&quot;2019-01-03&quot;</td><td>0</td><td>201901</td><td>0</td></tr><tr><td>1</td><td>&quot;2019-01-03&quot;</td><td>0</td><td>201901</td><td>0</td></tr><tr><td>2</td><td>&quot;2019-01-04&quot;</td><td>0</td><td>201901</td><td>0</td></tr><tr><td>3</td><td>&quot;2019-01-03&quot;</td><td>0</td><td>201901</td><td>0</td></tr><tr><td>4</td><td>&quot;2019-01-04&quot;</td><td>1</td><td>201901</td><td>0</td></tr></tbody></table></div>"
      ],
      "text/plain": [
       "shape: (5, 5)\n",
       "┌─────────┬───────────────┬────────┬────────┬──────────┐\n",
       "│ case_id ┆ date_decision ┆ target ┆ MONTH  ┆ WEEK_NUM │\n",
       "│ ---     ┆ ---           ┆ ---    ┆ ---    ┆ ---      │\n",
       "│ i64     ┆ str           ┆ i64    ┆ i64    ┆ i64      │\n",
       "╞═════════╪═══════════════╪════════╪════════╪══════════╡\n",
       "│ 0       ┆ 2019-01-03    ┆ 0      ┆ 201901 ┆ 0        │\n",
       "│ 1       ┆ 2019-01-03    ┆ 0      ┆ 201901 ┆ 0        │\n",
       "│ 2       ┆ 2019-01-04    ┆ 0      ┆ 201901 ┆ 0        │\n",
       "│ 3       ┆ 2019-01-03    ┆ 0      ┆ 201901 ┆ 0        │\n",
       "│ 4       ┆ 2019-01-04    ┆ 1      ┆ 201901 ┆ 0        │\n",
       "└─────────┴───────────────┴────────┴────────┴──────────┘"
      ]
     },
     "execution_count": 53,
     "metadata": {},
     "output_type": "execute_result"
    }
   ],
   "source": [
    "(\n",
    "    pl.read_parquet(train_files[7])\n",
    "    .select(\n",
    "        cs.contains(\"e\") | cs.contains(\"N\")\n",
    "    )\n",
    "    .head()\n",
    ")"
   ]
  },
  {
   "cell_type": "code",
   "execution_count": 54,
   "id": "b87bf07f",
   "metadata": {},
   "outputs": [
    {
     "data": {
      "text/html": [
       "<div><style>\n",
       ".dataframe > thead > tr,\n",
       ".dataframe > tbody > tr {\n",
       "  text-align: right;\n",
       "  white-space: pre-wrap;\n",
       "}\n",
       "</style>\n",
       "<small>shape: (5, 3)</small><table border=\"1\" class=\"dataframe\"><thead><tr><th>case_id</th><th>WEEK_NUM</th><th>target</th></tr><tr><td>i64</td><td>i64</td><td>i64</td></tr></thead><tbody><tr><td>0</td><td>0</td><td>0</td></tr><tr><td>1</td><td>0</td><td>0</td></tr><tr><td>2</td><td>0</td><td>0</td></tr><tr><td>3</td><td>0</td><td>0</td></tr><tr><td>4</td><td>0</td><td>1</td></tr></tbody></table></div>"
      ],
      "text/plain": [
       "shape: (5, 3)\n",
       "┌─────────┬──────────┬────────┐\n",
       "│ case_id ┆ WEEK_NUM ┆ target │\n",
       "│ ---     ┆ ---      ┆ ---    │\n",
       "│ i64     ┆ i64      ┆ i64    │\n",
       "╞═════════╪══════════╪════════╡\n",
       "│ 0       ┆ 0        ┆ 0      │\n",
       "│ 1       ┆ 0        ┆ 0      │\n",
       "│ 2       ┆ 0        ┆ 0      │\n",
       "│ 3       ┆ 0        ┆ 0      │\n",
       "│ 4       ┆ 0        ┆ 1      │\n",
       "└─────────┴──────────┴────────┘"
      ]
     },
     "execution_count": 54,
     "metadata": {},
     "output_type": "execute_result"
    }
   ],
   "source": [
    "(\n",
    "    pl.read_parquet(train_files[7])\n",
    "    .select(\n",
    "        cs.exclude([\"MONTH\",\"date_decision\"])\n",
    "    )\n",
    "    .head()\n",
    ")"
   ]
  },
  {
   "cell_type": "code",
   "execution_count": 55,
   "id": "35e1213b",
   "metadata": {},
   "outputs": [
    {
     "data": {
      "text/html": [
       "<div><style>\n",
       ".dataframe > thead > tr,\n",
       ".dataframe > tbody > tr {\n",
       "  text-align: right;\n",
       "  white-space: pre-wrap;\n",
       "}\n",
       "</style>\n",
       "<small>shape: (2, 5)</small><table border=\"1\" class=\"dataframe\"><thead><tr><th>case_id</th><th>date_decision</th><th>MONTH</th><th>WEEK_NUM</th><th>target</th></tr><tr><td>i64</td><td>str</td><td>i64</td><td>i64</td><td>i64</td></tr></thead><tbody><tr><td>0</td><td>&quot;2019-01-01&quot;</td><td>201901</td><td>0</td><td>0</td></tr><tr><td>2703454</td><td>&quot;2020-10-05&quot;</td><td>202010</td><td>91</td><td>1</td></tr></tbody></table></div>"
      ],
      "text/plain": [
       "shape: (2, 5)\n",
       "┌─────────┬───────────────┬────────┬──────────┬────────┐\n",
       "│ case_id ┆ date_decision ┆ MONTH  ┆ WEEK_NUM ┆ target │\n",
       "│ ---     ┆ ---           ┆ ---    ┆ ---      ┆ ---    │\n",
       "│ i64     ┆ str           ┆ i64    ┆ i64      ┆ i64    │\n",
       "╞═════════╪═══════════════╪════════╪══════════╪════════╡\n",
       "│ 0       ┆ 2019-01-01    ┆ 201901 ┆ 0        ┆ 0      │\n",
       "│ 2703454 ┆ 2020-10-05    ┆ 202010 ┆ 91       ┆ 1      │\n",
       "└─────────┴───────────────┴────────┴──────────┴────────┘"
      ]
     },
     "execution_count": 55,
     "metadata": {},
     "output_type": "execute_result"
    }
   ],
   "source": [
    "temp_df = pl.read_parquet(train_files[7])\n",
    "pl.concat(\n",
    "    [\n",
    "        temp_df.min(),\n",
    "        temp_df.max()\n",
    "    ]\n",
    ")"
   ]
  },
  {
   "cell_type": "code",
   "execution_count": 56,
   "id": "0d52e4cf",
   "metadata": {},
   "outputs": [
    {
     "data": {
      "text/html": [
       "<div><style>\n",
       ".dataframe > thead > tr,\n",
       ".dataframe > tbody > tr {\n",
       "  text-align: right;\n",
       "  white-space: pre-wrap;\n",
       "}\n",
       "</style>\n",
       "<small>shape: (9, 6)</small><table border=\"1\" class=\"dataframe\"><thead><tr><th>statistic</th><th>case_id</th><th>date_decision</th><th>MONTH</th><th>WEEK_NUM</th><th>target</th></tr><tr><td>str</td><td>f64</td><td>str</td><td>f64</td><td>f64</td><td>f64</td></tr></thead><tbody><tr><td>&quot;count&quot;</td><td>1.526659e6</td><td>&quot;1526659&quot;</td><td>1.526659e6</td><td>1.526659e6</td><td>1.526659e6</td></tr><tr><td>&quot;null_count&quot;</td><td>0.0</td><td>&quot;0&quot;</td><td>0.0</td><td>0.0</td><td>0.0</td></tr><tr><td>&quot;mean&quot;</td><td>1.2861e6</td><td>null</td><td>201936.287982</td><td>40.769036</td><td>0.031437</td></tr><tr><td>&quot;std&quot;</td><td>718946.592285</td><td>null</td><td>44.735975</td><td>23.797981</td><td>0.174496</td></tr><tr><td>&quot;min&quot;</td><td>0.0</td><td>&quot;2019-01-01&quot;</td><td>201901.0</td><td>0.0</td><td>0.0</td></tr><tr><td>&quot;25%&quot;</td><td>766198.0</td><td>null</td><td>201906.0</td><td>23.0</td><td>0.0</td></tr><tr><td>&quot;50%&quot;</td><td>1.357358e6</td><td>null</td><td>201910.0</td><td>40.0</td><td>0.0</td></tr><tr><td>&quot;75%&quot;</td><td>1.739023e6</td><td>null</td><td>202001.0</td><td>55.0</td><td>0.0</td></tr><tr><td>&quot;max&quot;</td><td>2.703454e6</td><td>&quot;2020-10-05&quot;</td><td>202010.0</td><td>91.0</td><td>1.0</td></tr></tbody></table></div>"
      ],
      "text/plain": [
       "shape: (9, 6)\n",
       "┌────────────┬───────────────┬───────────────┬───────────────┬────────────┬────────────┐\n",
       "│ statistic  ┆ case_id       ┆ date_decision ┆ MONTH         ┆ WEEK_NUM   ┆ target     │\n",
       "│ ---        ┆ ---           ┆ ---           ┆ ---           ┆ ---        ┆ ---        │\n",
       "│ str        ┆ f64           ┆ str           ┆ f64           ┆ f64        ┆ f64        │\n",
       "╞════════════╪═══════════════╪═══════════════╪═══════════════╪════════════╪════════════╡\n",
       "│ count      ┆ 1.526659e6    ┆ 1526659       ┆ 1.526659e6    ┆ 1.526659e6 ┆ 1.526659e6 │\n",
       "│ null_count ┆ 0.0           ┆ 0             ┆ 0.0           ┆ 0.0        ┆ 0.0        │\n",
       "│ mean       ┆ 1.2861e6      ┆ null          ┆ 201936.287982 ┆ 40.769036  ┆ 0.031437   │\n",
       "│ std        ┆ 718946.592285 ┆ null          ┆ 44.735975     ┆ 23.797981  ┆ 0.174496   │\n",
       "│ min        ┆ 0.0           ┆ 2019-01-01    ┆ 201901.0      ┆ 0.0        ┆ 0.0        │\n",
       "│ 25%        ┆ 766198.0      ┆ null          ┆ 201906.0      ┆ 23.0       ┆ 0.0        │\n",
       "│ 50%        ┆ 1.357358e6    ┆ null          ┆ 201910.0      ┆ 40.0       ┆ 0.0        │\n",
       "│ 75%        ┆ 1.739023e6    ┆ null          ┆ 202001.0      ┆ 55.0       ┆ 0.0        │\n",
       "│ max        ┆ 2.703454e6    ┆ 2020-10-05    ┆ 202010.0      ┆ 91.0       ┆ 1.0        │\n",
       "└────────────┴───────────────┴───────────────┴───────────────┴────────────┴────────────┘"
      ]
     },
     "execution_count": 56,
     "metadata": {},
     "output_type": "execute_result"
    }
   ],
   "source": [
    "temp_df.describe()"
   ]
  },
  {
   "cell_type": "code",
   "execution_count": 57,
   "id": "e6025f0d",
   "metadata": {},
   "outputs": [
    {
     "data": {
      "text/html": [
       "<div><style>\n",
       ".dataframe > thead > tr,\n",
       ".dataframe > tbody > tr {\n",
       "  text-align: right;\n",
       "  white-space: pre-wrap;\n",
       "}\n",
       "</style>\n",
       "<small>shape: (5, 6)</small><table border=\"1\" class=\"dataframe\"><thead><tr><th>case_id</th><th>date_decision</th><th>MONTH</th><th>WEEK_NUM</th><th>Target</th><th>double_week</th></tr><tr><td>i64</td><td>str</td><td>i64</td><td>i64</td><td>f32</td><td>i64</td></tr></thead><tbody><tr><td>0</td><td>&quot;2019-01-03&quot;</td><td>201901</td><td>0</td><td>0.0</td><td>0</td></tr><tr><td>1</td><td>&quot;2019-01-03&quot;</td><td>201901</td><td>0</td><td>0.0</td><td>0</td></tr><tr><td>2</td><td>&quot;2019-01-04&quot;</td><td>201901</td><td>0</td><td>0.0</td><td>0</td></tr><tr><td>3</td><td>&quot;2019-01-03&quot;</td><td>201901</td><td>0</td><td>0.0</td><td>0</td></tr><tr><td>4</td><td>&quot;2019-01-04&quot;</td><td>201901</td><td>0</td><td>1.0</td><td>0</td></tr></tbody></table></div>"
      ],
      "text/plain": [
       "shape: (5, 6)\n",
       "┌─────────┬───────────────┬────────┬──────────┬────────┬─────────────┐\n",
       "│ case_id ┆ date_decision ┆ MONTH  ┆ WEEK_NUM ┆ Target ┆ double_week │\n",
       "│ ---     ┆ ---           ┆ ---    ┆ ---      ┆ ---    ┆ ---         │\n",
       "│ i64     ┆ str           ┆ i64    ┆ i64      ┆ f32    ┆ i64         │\n",
       "╞═════════╪═══════════════╪════════╪══════════╪════════╪═════════════╡\n",
       "│ 0       ┆ 2019-01-03    ┆ 201901 ┆ 0        ┆ 0.0    ┆ 0           │\n",
       "│ 1       ┆ 2019-01-03    ┆ 201901 ┆ 0        ┆ 0.0    ┆ 0           │\n",
       "│ 2       ┆ 2019-01-04    ┆ 201901 ┆ 0        ┆ 0.0    ┆ 0           │\n",
       "│ 3       ┆ 2019-01-03    ┆ 201901 ┆ 0        ┆ 0.0    ┆ 0           │\n",
       "│ 4       ┆ 2019-01-04    ┆ 201901 ┆ 0        ┆ 1.0    ┆ 0           │\n",
       "└─────────┴───────────────┴────────┴──────────┴────────┴─────────────┘"
      ]
     },
     "execution_count": 57,
     "metadata": {},
     "output_type": "execute_result"
    }
   ],
   "source": [
    "(\n",
    "    pl.read_parquet(train_files[7])\n",
    "    .with_columns(\n",
    "        pl.col(\"target\").cast(pl.Float32).alias(\"Target\"),\n",
    "        (pl.col(\"WEEK_NUM\") * 2).alias(\"double_week\")\n",
    "    )\n",
    "    .drop(\"target\")\n",
    "    .head()\n",
    ")"
   ]
  },
  {
   "cell_type": "code",
   "execution_count": 58,
   "id": "1a45e7cc",
   "metadata": {},
   "outputs": [
    {
     "data": {
      "text/html": [
       "<div><style>\n",
       ".dataframe > thead > tr,\n",
       ".dataframe > tbody > tr {\n",
       "  text-align: right;\n",
       "  white-space: pre-wrap;\n",
       "}\n",
       "</style>\n",
       "<small>shape: (5, 6)</small><table border=\"1\" class=\"dataframe\"><thead><tr><th>case_id</th><th>date_decision</th><th>MONTH</th><th>WEEK_NUM</th><th>target</th><th>Nan_column</th></tr><tr><td>i64</td><td>str</td><td>i64</td><td>i64</td><td>i64</td><td>f32</td></tr></thead><tbody><tr><td>0</td><td>&quot;2019-01-03&quot;</td><td>201901</td><td>0</td><td>0</td><td>NaN</td></tr><tr><td>1</td><td>&quot;2019-01-03&quot;</td><td>201901</td><td>0</td><td>0</td><td>NaN</td></tr><tr><td>2</td><td>&quot;2019-01-04&quot;</td><td>201901</td><td>0</td><td>0</td><td>NaN</td></tr><tr><td>3</td><td>&quot;2019-01-03&quot;</td><td>201901</td><td>0</td><td>0</td><td>NaN</td></tr><tr><td>4</td><td>&quot;2019-01-04&quot;</td><td>201901</td><td>0</td><td>1</td><td>NaN</td></tr></tbody></table></div>"
      ],
      "text/plain": [
       "shape: (5, 6)\n",
       "┌─────────┬───────────────┬────────┬──────────┬────────┬────────────┐\n",
       "│ case_id ┆ date_decision ┆ MONTH  ┆ WEEK_NUM ┆ target ┆ Nan_column │\n",
       "│ ---     ┆ ---           ┆ ---    ┆ ---      ┆ ---    ┆ ---        │\n",
       "│ i64     ┆ str           ┆ i64    ┆ i64      ┆ i64    ┆ f32        │\n",
       "╞═════════╪═══════════════╪════════╪══════════╪════════╪════════════╡\n",
       "│ 0       ┆ 2019-01-03    ┆ 201901 ┆ 0        ┆ 0      ┆ NaN        │\n",
       "│ 1       ┆ 2019-01-03    ┆ 201901 ┆ 0        ┆ 0      ┆ NaN        │\n",
       "│ 2       ┆ 2019-01-04    ┆ 201901 ┆ 0        ┆ 0      ┆ NaN        │\n",
       "│ 3       ┆ 2019-01-03    ┆ 201901 ┆ 0        ┆ 0      ┆ NaN        │\n",
       "│ 4       ┆ 2019-01-04    ┆ 201901 ┆ 0        ┆ 1      ┆ NaN        │\n",
       "└─────────┴───────────────┴────────┴──────────┴────────┴────────────┘"
      ]
     },
     "execution_count": 58,
     "metadata": {},
     "output_type": "execute_result"
    }
   ],
   "source": [
    "(\n",
    "    pl.read_parquet(train_files[7])\n",
    "    .with_columns(\n",
    "        pl.lit(np.nan).cast(pl.Float32).alias(\"Nan_column\")\n",
    "    )\n",
    "    .head()\n",
    ")"
   ]
  },
  {
   "cell_type": "code",
   "execution_count": 59,
   "id": "14376562",
   "metadata": {},
   "outputs": [
    {
     "data": {
      "text/html": [
       "<div><style>\n",
       ".dataframe > thead > tr,\n",
       ".dataframe > tbody > tr {\n",
       "  text-align: right;\n",
       "  white-space: pre-wrap;\n",
       "}\n",
       "</style>\n",
       "<small>shape: (5, 3)</small><table border=\"1\" class=\"dataframe\"><thead><tr><th>case_id</th><th>target_inversed</th><th>target_normal</th></tr><tr><td>i64</td><td>f32</td><td>f32</td></tr></thead><tbody><tr><td>0</td><td>-1.0</td><td>0.0</td></tr><tr><td>1</td><td>-1.0</td><td>0.0</td></tr><tr><td>2</td><td>-1.0</td><td>0.0</td></tr><tr><td>3</td><td>-1.0</td><td>0.0</td></tr><tr><td>4</td><td>1.0</td><td>1.0</td></tr></tbody></table></div>"
      ],
      "text/plain": [
       "shape: (5, 3)\n",
       "┌─────────┬─────────────────┬───────────────┐\n",
       "│ case_id ┆ target_inversed ┆ target_normal │\n",
       "│ ---     ┆ ---             ┆ ---           │\n",
       "│ i64     ┆ f32             ┆ f32           │\n",
       "╞═════════╪═════════════════╪═══════════════╡\n",
       "│ 0       ┆ -1.0            ┆ 0.0           │\n",
       "│ 1       ┆ -1.0            ┆ 0.0           │\n",
       "│ 2       ┆ -1.0            ┆ 0.0           │\n",
       "│ 3       ┆ -1.0            ┆ 0.0           │\n",
       "│ 4       ┆ 1.0             ┆ 1.0           │\n",
       "└─────────┴─────────────────┴───────────────┘"
      ]
     },
     "execution_count": 59,
     "metadata": {},
     "output_type": "execute_result"
    }
   ],
   "source": [
    "(\n",
    "    pl.read_parquet(train_files[7])\n",
    "    .select(\n",
    "        pl.col(\"case_id\"),\n",
    "        pl.when(pl.col(\"target\") == 1)\n",
    "        .then(pl.col(\"target\"))\n",
    "        .otherwise(-1)\n",
    "        .cast(pl.Float32)\n",
    "        .alias(\"target_inversed\"),\n",
    "        pl.col(\"target\")\n",
    "        .cast(pl.Float32)\n",
    "        .alias(\"target_normal\")\n",
    "    )\n",
    "    .head()\n",
    ")"
   ]
  },
  {
   "cell_type": "code",
   "execution_count": 60,
   "id": "d691a55d",
   "metadata": {},
   "outputs": [
    {
     "data": {
      "text/html": [
       "<div><style>\n",
       ".dataframe > thead > tr,\n",
       ".dataframe > tbody > tr {\n",
       "  text-align: right;\n",
       "  white-space: pre-wrap;\n",
       "}\n",
       "</style>\n",
       "<small>shape: (2, 1)</small><table border=\"1\" class=\"dataframe\"><thead><tr><th>WEEK_NUM</th></tr><tr><td>i64</td></tr></thead><tbody><tr><td>0</td></tr><tr><td>91</td></tr></tbody></table></div>"
      ],
      "text/plain": [
       "shape: (2, 1)\n",
       "┌──────────┐\n",
       "│ WEEK_NUM │\n",
       "│ ---      │\n",
       "│ i64      │\n",
       "╞══════════╡\n",
       "│ 0        │\n",
       "│ 91       │\n",
       "└──────────┘"
      ]
     },
     "execution_count": 60,
     "metadata": {},
     "output_type": "execute_result"
    }
   ],
   "source": [
    "pl.read_parquet(train_files[7]).select(pl.col(\"WEEK_NUM\").gather([1,-1]))"
   ]
  },
  {
   "cell_type": "code",
   "execution_count": 61,
   "id": "77bcfff0",
   "metadata": {},
   "outputs": [
    {
     "data": {
      "text/html": [
       "<div><style>\n",
       ".dataframe > thead > tr,\n",
       ".dataframe > tbody > tr {\n",
       "  text-align: right;\n",
       "  white-space: pre-wrap;\n",
       "}\n",
       "</style>\n",
       "<small>shape: (5, 4)</small><table border=\"1\" class=\"dataframe\"><thead><tr><th>case_id</th><th>undefaulted_week_num_class</th><th>defaulted_week_num_class</th><th>target</th></tr><tr><td>i64</td><td>i32</td><td>i32</td><td>bool</td></tr></thead><tbody><tr><td>0</td><td>1</td><td>0</td><td>false</td></tr><tr><td>1</td><td>1</td><td>0</td><td>false</td></tr><tr><td>2</td><td>1</td><td>0</td><td>false</td></tr><tr><td>3</td><td>1</td><td>0</td><td>false</td></tr><tr><td>4</td><td>0</td><td>1</td><td>true</td></tr></tbody></table></div>"
      ],
      "text/plain": [
       "shape: (5, 4)\n",
       "┌─────────┬────────────────────────────┬──────────────────────────┬────────┐\n",
       "│ case_id ┆ undefaulted_week_num_class ┆ defaulted_week_num_class ┆ target │\n",
       "│ ---     ┆ ---                        ┆ ---                      ┆ ---    │\n",
       "│ i64     ┆ i32                        ┆ i32                      ┆ bool   │\n",
       "╞═════════╪════════════════════════════╪══════════════════════════╪════════╡\n",
       "│ 0       ┆ 1                          ┆ 0                        ┆ false  │\n",
       "│ 1       ┆ 1                          ┆ 0                        ┆ false  │\n",
       "│ 2       ┆ 1                          ┆ 0                        ┆ false  │\n",
       "│ 3       ┆ 1                          ┆ 0                        ┆ false  │\n",
       "│ 4       ┆ 0                          ┆ 1                        ┆ true   │\n",
       "└─────────┴────────────────────────────┴──────────────────────────┴────────┘"
      ]
     },
     "execution_count": 61,
     "metadata": {},
     "output_type": "execute_result"
    }
   ],
   "source": [
    "(\n",
    "    pl.read_parquet(train_files[7])\n",
    "    .select(\n",
    "        pl.col(\"case_id\"),\n",
    "        pl.when(\n",
    "            (pl.col(\"WEEK_NUM\") < 33) & (pl.col(\"target\") < 1)\n",
    "        )\n",
    "        .then(1)\n",
    "        .when(\n",
    "            (pl.col(\"WEEK_NUM\") > 33) & (pl.col(\"WEEK_NUM\") <= 66) & (pl.col(\"target\")  < 1)\n",
    "        )\n",
    "        .then(2)\n",
    "        .when(\n",
    "            (pl.col(\"WEEK_NUM\") > 66) & (pl.col(\"target\")  < 1)\n",
    "        )\n",
    "        .then(3)\n",
    "        .otherwise(0)\n",
    "        .alias(\"undefaulted_week_num_class\"),\n",
    "        pl.when(\n",
    "            (pl.col(\"WEEK_NUM\") < 33) & (pl.col(\"target\") > 0)\n",
    "        )\n",
    "        .then(1)\n",
    "        .when(\n",
    "            (pl.col(\"WEEK_NUM\") > 33) & (pl.col(\"WEEK_NUM\") <= 66) & (pl.col(\"target\")  > 0)\n",
    "        )\n",
    "        .then(2)\n",
    "        .when(\n",
    "            (pl.col(\"WEEK_NUM\") > 66) & (pl.col(\"target\")  > 0)\n",
    "        )\n",
    "        .then(3)\n",
    "        .otherwise(0)\n",
    "        .alias(\"defaulted_week_num_class\"),\n",
    "        pl.col(\"target\").cast(pl.Boolean)\n",
    "    )\n",
    "    .head()\n",
    ")"
   ]
  },
  {
   "cell_type": "markdown",
   "id": "2e2442ab",
   "metadata": {},
   "source": [
    "# Practice Questions"
   ]
  },
  {
   "cell_type": "code",
   "execution_count": 62,
   "id": "2e60d878",
   "metadata": {},
   "outputs": [
    {
     "name": "stdout",
     "output_type": "stream",
     "text": [
      "naive plan: (run LazyFrame.explain(optimized=True) to see the optimized plan)\n",
      "\n",
      "\n",
      "  Csv SCAN train.csv\n",
      "  PROJECT */14 COLUMNS\n"
     ]
    }
   ],
   "source": [
    "# Question 1.1\n",
    "\n",
    "df = pl.scan_csv(\"train.csv\")\n",
    "print(df)"
   ]
  },
  {
   "cell_type": "code",
   "execution_count": 63,
   "id": "61dabb1c",
   "metadata": {},
   "outputs": [
    {
     "data": {
      "text/plain": [
       "['PassengerId',\n",
       " 'HomePlanet',\n",
       " 'CryoSleep',\n",
       " 'Cabin',\n",
       " 'Destination',\n",
       " 'Age',\n",
       " 'VIP',\n",
       " 'RoomService',\n",
       " 'FoodCourt',\n",
       " 'ShoppingMall',\n",
       " 'Spa',\n",
       " 'VRDeck',\n",
       " 'Name',\n",
       " 'Transported']"
      ]
     },
     "execution_count": 63,
     "metadata": {},
     "output_type": "execute_result"
    }
   ],
   "source": [
    "# Question 1.2\n",
    "\n",
    "(\n",
    "    df\n",
    "    .columns\n",
    ")"
   ]
  },
  {
   "cell_type": "code",
   "execution_count": 64,
   "id": "f54a631e",
   "metadata": {},
   "outputs": [
    {
     "data": {
      "text/plain": [
       "OrderedDict([('PassengerId', String),\n",
       "             ('HomePlanet', String),\n",
       "             ('CryoSleep', Boolean),\n",
       "             ('Cabin', String),\n",
       "             ('Destination', String),\n",
       "             ('Age', Float64),\n",
       "             ('VIP', Boolean),\n",
       "             ('RoomService', Float64),\n",
       "             ('FoodCourt', Float64),\n",
       "             ('ShoppingMall', Float64),\n",
       "             ('Spa', Float64),\n",
       "             ('VRDeck', Float64),\n",
       "             ('Name', String),\n",
       "             ('Transported', Boolean)])"
      ]
     },
     "execution_count": 64,
     "metadata": {},
     "output_type": "execute_result"
    }
   ],
   "source": [
    "# Question 1.3\n",
    "\n",
    "(\n",
    "    df\n",
    "    .schema\n",
    ")"
   ]
  },
  {
   "cell_type": "code",
   "execution_count": 65,
   "id": "ee1322ea",
   "metadata": {},
   "outputs": [
    {
     "name": "stdout",
     "output_type": "stream",
     "text": [
      "naive plan: (run LazyFrame.explain(optimized=True) to see the optimized plan)\n",
      "\n",
      "DF [\"PassengerId\", \"HomePlanet\", \"CryoSleep\", \"Cabin\"]; PROJECT */14 COLUMNS; SELECTION: \"None\"\n"
     ]
    }
   ],
   "source": [
    "df = pl.read_csv(\"train.csv\")\n",
    "df = df.lazy()\n",
    "print(df)"
   ]
  },
  {
   "cell_type": "code",
   "execution_count": 66,
   "id": "10b63d1f",
   "metadata": {},
   "outputs": [
    {
     "name": "stdout",
     "output_type": "stream",
     "text": [
      "There is no pivot in lazy scans\n"
     ]
    },
    {
     "data": {
      "text/html": [
       "<div><style>\n",
       ".dataframe > thead > tr,\n",
       ".dataframe > tbody > tr {\n",
       "  text-align: right;\n",
       "  white-space: pre-wrap;\n",
       "}\n",
       "</style>\n",
       "<small>shape: (3, 5)</small><table border=\"1\" class=\"dataframe\"><thead><tr><th>VIP</th><th>Europa</th><th>Earth</th><th>Mars</th><th>null</th></tr><tr><td>bool</td><td>f64</td><td>f64</td><td>f64</td><td>f64</td></tr></thead><tbody><tr><td>false</td><td>34.129184</td><td>26.122644</td><td>29.029758</td><td>28.413613</td></tr><tr><td>true</td><td>38.244275</td><td>null</td><td>35.564516</td><td>40.0</td></tr><tr><td>null</td><td>35.714286</td><td>23.90991</td><td>30.341463</td><td>34.333333</td></tr></tbody></table></div>"
      ],
      "text/plain": [
       "shape: (3, 5)\n",
       "┌───────┬───────────┬───────────┬───────────┬───────────┐\n",
       "│ VIP   ┆ Europa    ┆ Earth     ┆ Mars      ┆ null      │\n",
       "│ ---   ┆ ---       ┆ ---       ┆ ---       ┆ ---       │\n",
       "│ bool  ┆ f64       ┆ f64       ┆ f64       ┆ f64       │\n",
       "╞═══════╪═══════════╪═══════════╪═══════════╪═══════════╡\n",
       "│ false ┆ 34.129184 ┆ 26.122644 ┆ 29.029758 ┆ 28.413613 │\n",
       "│ true  ┆ 38.244275 ┆ null      ┆ 35.564516 ┆ 40.0      │\n",
       "│ null  ┆ 35.714286 ┆ 23.90991  ┆ 30.341463 ┆ 34.333333 │\n",
       "└───────┴───────────┴───────────┴───────────┴───────────┘"
      ]
     },
     "metadata": {},
     "output_type": "display_data"
    }
   ],
   "source": [
    "try:\n",
    "    (\n",
    "        pl.scan_csv(\"train.csv\")\n",
    "        .pivot(index=\"VIP\",columns=\"HomePlanet\",values=\"Age\",aggregate_function=\"mean\")\n",
    "    )\n",
    "except AttributeError:\n",
    "    print(\"There is no pivot in lazy scans\")\n",
    "    display(\n",
    "        pl.read_csv(\"train.csv\")\n",
    "        .pivot(index=\"VIP\",columns=\"HomePlanet\",values=\"Age\",aggregate_function=\"mean\")\n",
    "    )"
   ]
  },
  {
   "cell_type": "code",
   "execution_count": 67,
   "id": "0ff52e4f",
   "metadata": {},
   "outputs": [
    {
     "data": {
      "text/html": [
       "<div><style>\n",
       ".dataframe > thead > tr,\n",
       ".dataframe > tbody > tr {\n",
       "  text-align: right;\n",
       "  white-space: pre-wrap;\n",
       "}\n",
       "</style>\n",
       "<small>shape: (2, 4)</small><table border=\"1\" class=\"dataframe\"><thead><tr><th>VIP</th><th>Europa</th><th>Earth</th><th>Mars</th></tr><tr><td>bool</td><td>f64</td><td>f64</td><td>f64</td></tr></thead><tbody><tr><td>false</td><td>35.64497</td><td>25.559194</td><td>27.339506</td></tr><tr><td>true</td><td>40.555556</td><td>null</td><td>37.25</td></tr></tbody></table></div>"
      ],
      "text/plain": [
       "shape: (2, 4)\n",
       "┌───────┬───────────┬───────────┬───────────┐\n",
       "│ VIP   ┆ Europa    ┆ Earth     ┆ Mars      │\n",
       "│ ---   ┆ ---       ┆ ---       ┆ ---       │\n",
       "│ bool  ┆ f64       ┆ f64       ┆ f64       │\n",
       "╞═══════╪═══════════╪═══════════╪═══════════╡\n",
       "│ false ┆ 35.64497  ┆ 25.559194 ┆ 27.339506 │\n",
       "│ true  ┆ 40.555556 ┆ null      ┆ 37.25     │\n",
       "└───────┴───────────┴───────────┴───────────┘"
      ]
     },
     "execution_count": 67,
     "metadata": {},
     "output_type": "execute_result"
    }
   ],
   "source": [
    "(\n",
    "    pl.scan_csv(\"train.csv\")\n",
    "    .fetch(1000)\n",
    "    .drop_nulls()\n",
    "    .pivot(index=\"VIP\",columns=\"HomePlanet\",values=\"Age\",aggregate_function=\"mean\")\n",
    ")"
   ]
  },
  {
   "cell_type": "code",
   "execution_count": 68,
   "id": "6827a251",
   "metadata": {},
   "outputs": [
    {
     "name": "stdout",
     "output_type": "stream",
     "text": [
      "(500, 14)\n"
     ]
    },
    {
     "data": {
      "text/plain": [
       "['PassengerId',\n",
       " 'HomePlanet',\n",
       " 'CryoSleep',\n",
       " 'Cabin',\n",
       " 'Destination',\n",
       " 'Age',\n",
       " 'VIP',\n",
       " 'RoomService',\n",
       " 'FoodCourt',\n",
       " 'ShoppingMall',\n",
       " 'Spa',\n",
       " 'VRDeck',\n",
       " 'Name',\n",
       " 'Transported']"
      ]
     },
     "execution_count": 68,
     "metadata": {},
     "output_type": "execute_result"
    }
   ],
   "source": [
    "df = pl.scan_csv('train.csv')\n",
    "print(\n",
    "    df\n",
    "    .fetch()\n",
    "    .shape\n",
    ")\n",
    "(\n",
    "    df\n",
    "    .fetch()\n",
    "    .columns\n",
    ")"
   ]
  },
  {
   "cell_type": "code",
   "execution_count": 69,
   "id": "80265952",
   "metadata": {},
   "outputs": [],
   "source": [
    "df_lazy = pl.scan_csv(\"train.csv\")\n",
    "df_eager = df_lazy.collect()\n",
    "df_lazy = df_eager.lazy()"
   ]
  },
  {
   "cell_type": "code",
   "execution_count": 70,
   "id": "c9418991",
   "metadata": {},
   "outputs": [
    {
     "data": {
      "text/plain": [
       "14"
      ]
     },
     "execution_count": 70,
     "metadata": {},
     "output_type": "execute_result"
    }
   ],
   "source": [
    "df_eager.width"
   ]
  },
  {
   "cell_type": "code",
   "execution_count": 71,
   "id": "49c70f4d",
   "metadata": {},
   "outputs": [
    {
     "data": {
      "text/plain": [
       "8693"
      ]
     },
     "execution_count": 71,
     "metadata": {},
     "output_type": "execute_result"
    }
   ],
   "source": [
    "df_eager.height"
   ]
  },
  {
   "cell_type": "code",
   "execution_count": 72,
   "id": "1e4a3815",
   "metadata": {},
   "outputs": [
    {
     "name": "stdout",
     "output_type": "stream",
     "text": [
      "Rows: 8693\n",
      "Columns: 14\n",
      "$ PassengerId   <str> '0001_01', '0002_01', '0003_01', '0003_02', '0004_01', '0005_01', '0006_01', '0006_02', '0007_01', '0008_01'\n",
      "$ HomePlanet    <str> 'Europa', 'Earth', 'Europa', 'Europa', 'Earth', 'Earth', 'Earth', 'Earth', 'Earth', 'Europa'\n",
      "$ CryoSleep    <bool> False, False, False, False, False, False, False, True, False, True\n",
      "$ Cabin         <str> 'B/0/P', 'F/0/S', 'A/0/S', 'A/0/S', 'F/1/S', 'F/0/P', 'F/2/S', 'G/0/S', 'F/3/S', 'B/1/P'\n",
      "$ Destination   <str> 'TRAPPIST-1e', 'TRAPPIST-1e', 'TRAPPIST-1e', 'TRAPPIST-1e', 'TRAPPIST-1e', 'PSO J318.5-22', 'TRAPPIST-1e', 'TRAPPIST-1e', 'TRAPPIST-1e', '55 Cancri e'\n",
      "$ Age           <f64> 39.0, 24.0, 58.0, 33.0, 16.0, 44.0, 26.0, 28.0, 35.0, 14.0\n",
      "$ VIP          <bool> False, False, True, False, False, False, False, False, False, False\n",
      "$ RoomService   <f64> 0.0, 109.0, 43.0, 0.0, 303.0, 0.0, 42.0, 0.0, 0.0, 0.0\n",
      "$ FoodCourt     <f64> 0.0, 9.0, 3576.0, 1283.0, 70.0, 483.0, 1539.0, 0.0, 785.0, 0.0\n",
      "$ ShoppingMall  <f64> 0.0, 25.0, 0.0, 371.0, 151.0, 0.0, 3.0, 0.0, 17.0, 0.0\n",
      "$ Spa           <f64> 0.0, 549.0, 6715.0, 3329.0, 565.0, 291.0, 0.0, 0.0, 216.0, 0.0\n",
      "$ VRDeck        <f64> 0.0, 44.0, 49.0, 193.0, 2.0, 0.0, 0.0, None, 0.0, 0.0\n",
      "$ Name          <str> 'Maham Ofracculy', 'Juanna Vines', 'Altark Susent', 'Solam Susent', 'Willy Santantines', 'Sandie Hinetthews', 'Billex Jacostaffey', 'Candra Jacostaffey', 'Andona Beston', 'Erraiam Flatic'\n",
      "$ Transported  <bool> False, True, False, False, True, True, True, True, True, True\n",
      "\n"
     ]
    }
   ],
   "source": [
    "df_eager.glimpse()"
   ]
  },
  {
   "cell_type": "code",
   "execution_count": 73,
   "id": "88dca1dd",
   "metadata": {},
   "outputs": [
    {
     "data": {
      "text/plain": [
       "OrderedDict([('PassengerId', String),\n",
       "             ('HomePlanet', String),\n",
       "             ('CryoSleep', Boolean),\n",
       "             ('Cabin', String),\n",
       "             ('Destination', String),\n",
       "             ('Age', Float64),\n",
       "             ('VIP', Boolean),\n",
       "             ('RoomService', Float64),\n",
       "             ('FoodCourt', Float64),\n",
       "             ('ShoppingMall', Float64),\n",
       "             ('Spa', Float64),\n",
       "             ('VRDeck', Float64),\n",
       "             ('Name', String),\n",
       "             ('Transported', Boolean)])"
      ]
     },
     "execution_count": 73,
     "metadata": {},
     "output_type": "execute_result"
    }
   ],
   "source": [
    "df_eager.schema"
   ]
  },
  {
   "cell_type": "code",
   "execution_count": 74,
   "id": "18a029bf",
   "metadata": {},
   "outputs": [
    {
     "data": {
      "text/plain": [
       "[String,\n",
       " String,\n",
       " Boolean,\n",
       " String,\n",
       " String,\n",
       " Float64,\n",
       " Boolean,\n",
       " Float64,\n",
       " Float64,\n",
       " Float64,\n",
       " Float64,\n",
       " Float64,\n",
       " String,\n",
       " Boolean]"
      ]
     },
     "execution_count": 74,
     "metadata": {},
     "output_type": "execute_result"
    }
   ],
   "source": [
    "df_eager.dtypes"
   ]
  },
  {
   "cell_type": "code",
   "execution_count": 75,
   "id": "6647d3d0",
   "metadata": {},
   "outputs": [
    {
     "data": {
      "text/plain": [
       "String"
      ]
     },
     "execution_count": 75,
     "metadata": {},
     "output_type": "execute_result"
    }
   ],
   "source": [
    "df_eager[\"HomePlanet\"].dtype"
   ]
  },
  {
   "cell_type": "code",
   "execution_count": 76,
   "id": "8e27d23b",
   "metadata": {},
   "outputs": [
    {
     "data": {
      "text/plain": [
       "pyarrow.Table\n",
       "PassengerId: large_string\n",
       "HomePlanet: large_string\n",
       "CryoSleep: bool\n",
       "Cabin: large_string\n",
       "Destination: large_string\n",
       "Age: double\n",
       "VIP: bool\n",
       "RoomService: double\n",
       "FoodCourt: double\n",
       "ShoppingMall: double\n",
       "Spa: double\n",
       "VRDeck: double\n",
       "Name: large_string\n",
       "Transported: bool\n",
       "----\n",
       "PassengerId: [[\"0001_01\",\"0002_01\",\"0003_01\",\"0003_02\",\"0004_01\",...,\"9276_01\",\"9278_01\",\"9279_01\",\"9280_01\",\"9280_02\"]]\n",
       "HomePlanet: [[\"Europa\",\"Earth\",\"Europa\",\"Europa\",\"Earth\",...,\"Europa\",\"Earth\",\"Earth\",\"Europa\",\"Europa\"]]\n",
       "CryoSleep: [[false,false,false,false,false,...,false,true,false,false,false]]\n",
       "Cabin: [[\"B/0/P\",\"F/0/S\",\"A/0/S\",\"A/0/S\",\"F/1/S\",...,\"A/98/P\",\"G/1499/S\",\"G/1500/S\",\"E/608/S\",\"E/608/S\"]]\n",
       "Destination: [[\"TRAPPIST-1e\",\"TRAPPIST-1e\",\"TRAPPIST-1e\",\"TRAPPIST-1e\",\"TRAPPIST-1e\",...,\"55 Cancri e\",\"PSO J318.5-22\",\"TRAPPIST-1e\",\"55 Cancri e\",\"TRAPPIST-1e\"]]\n",
       "Age: [[39,24,58,33,16,...,41,18,26,32,44]]\n",
       "VIP: [[false,false,true,false,false,...,true,false,false,false,false]]\n",
       "RoomService: [[0,109,43,0,303,...,0,0,0,0,126]]\n",
       "FoodCourt: [[0,9,3576,1283,70,...,6819,0,0,1049,4688]]\n",
       "ShoppingMall: [[0,25,0,371,151,...,0,0,1872,0,0]]\n",
       "..."
      ]
     },
     "execution_count": 76,
     "metadata": {},
     "output_type": "execute_result"
    }
   ],
   "source": [
    "df_eager.to_arrow()"
   ]
  },
  {
   "cell_type": "code",
   "execution_count": 77,
   "id": "4c95c179",
   "metadata": {},
   "outputs": [
    {
     "data": {
      "text/html": [
       "<div><style>\n",
       ".dataframe > thead > tr,\n",
       ".dataframe > tbody > tr {\n",
       "  text-align: right;\n",
       "  white-space: pre-wrap;\n",
       "}\n",
       "</style>\n",
       "<small>shape: (5, 14)</small><table border=\"1\" class=\"dataframe\"><thead><tr><th>PassengerId</th><th>HomePlanet</th><th>CryoSleep</th><th>Cabin</th><th>Destination</th><th>Age</th><th>Vip</th><th>RoomService</th><th>FoodCourt</th><th>ShoppingMall</th><th>Spa</th><th>VRDeck</th><th>Name</th><th>Transported</th></tr><tr><td>str</td><td>str</td><td>bool</td><td>str</td><td>str</td><td>f64</td><td>bool</td><td>f64</td><td>f64</td><td>f64</td><td>f64</td><td>f64</td><td>str</td><td>bool</td></tr></thead><tbody><tr><td>&quot;0001_01&quot;</td><td>&quot;Europa&quot;</td><td>false</td><td>&quot;B/0/P&quot;</td><td>&quot;TRAPPIST-1e&quot;</td><td>39.0</td><td>false</td><td>0.0</td><td>0.0</td><td>0.0</td><td>0.0</td><td>0.0</td><td>&quot;Maham Ofraccul…</td><td>false</td></tr><tr><td>&quot;0002_01&quot;</td><td>&quot;Earth&quot;</td><td>false</td><td>&quot;F/0/S&quot;</td><td>&quot;TRAPPIST-1e&quot;</td><td>24.0</td><td>false</td><td>109.0</td><td>9.0</td><td>25.0</td><td>549.0</td><td>44.0</td><td>&quot;Juanna Vines&quot;</td><td>true</td></tr><tr><td>&quot;0003_01&quot;</td><td>&quot;Europa&quot;</td><td>false</td><td>&quot;A/0/S&quot;</td><td>&quot;TRAPPIST-1e&quot;</td><td>58.0</td><td>true</td><td>43.0</td><td>3576.0</td><td>0.0</td><td>6715.0</td><td>49.0</td><td>&quot;Altark Susent&quot;</td><td>false</td></tr><tr><td>&quot;0003_02&quot;</td><td>&quot;Europa&quot;</td><td>false</td><td>&quot;A/0/S&quot;</td><td>&quot;TRAPPIST-1e&quot;</td><td>33.0</td><td>false</td><td>0.0</td><td>1283.0</td><td>371.0</td><td>3329.0</td><td>193.0</td><td>&quot;Solam Susent&quot;</td><td>false</td></tr><tr><td>&quot;0004_01&quot;</td><td>&quot;Earth&quot;</td><td>false</td><td>&quot;F/1/S&quot;</td><td>&quot;TRAPPIST-1e&quot;</td><td>16.0</td><td>false</td><td>303.0</td><td>70.0</td><td>151.0</td><td>565.0</td><td>2.0</td><td>&quot;Willy Santanti…</td><td>true</td></tr></tbody></table></div>"
      ],
      "text/plain": [
       "shape: (5, 14)\n",
       "┌─────────────┬────────────┬───────────┬───────┬───┬────────┬────────┬───────────────┬─────────────┐\n",
       "│ PassengerId ┆ HomePlanet ┆ CryoSleep ┆ Cabin ┆ … ┆ Spa    ┆ VRDeck ┆ Name          ┆ Transported │\n",
       "│ ---         ┆ ---        ┆ ---       ┆ ---   ┆   ┆ ---    ┆ ---    ┆ ---           ┆ ---         │\n",
       "│ str         ┆ str        ┆ bool      ┆ str   ┆   ┆ f64    ┆ f64    ┆ str           ┆ bool        │\n",
       "╞═════════════╪════════════╪═══════════╪═══════╪═══╪════════╪════════╪═══════════════╪═════════════╡\n",
       "│ 0001_01     ┆ Europa     ┆ false     ┆ B/0/P ┆ … ┆ 0.0    ┆ 0.0    ┆ Maham         ┆ false       │\n",
       "│             ┆            ┆           ┆       ┆   ┆        ┆        ┆ Ofracculy     ┆             │\n",
       "│ 0002_01     ┆ Earth      ┆ false     ┆ F/0/S ┆ … ┆ 549.0  ┆ 44.0   ┆ Juanna Vines  ┆ true        │\n",
       "│ 0003_01     ┆ Europa     ┆ false     ┆ A/0/S ┆ … ┆ 6715.0 ┆ 49.0   ┆ Altark Susent ┆ false       │\n",
       "│ 0003_02     ┆ Europa     ┆ false     ┆ A/0/S ┆ … ┆ 3329.0 ┆ 193.0  ┆ Solam Susent  ┆ false       │\n",
       "│ 0004_01     ┆ Earth      ┆ false     ┆ F/1/S ┆ … ┆ 565.0  ┆ 2.0    ┆ Willy         ┆ true        │\n",
       "│             ┆            ┆           ┆       ┆   ┆        ┆        ┆ Santantines   ┆             │\n",
       "└─────────────┴────────────┴───────────┴───────┴───┴────────┴────────┴───────────────┴─────────────┘"
      ]
     },
     "execution_count": 77,
     "metadata": {},
     "output_type": "execute_result"
    }
   ],
   "source": [
    "(\n",
    "    df_eager\n",
    "    .rename(\n",
    "        {\"VIP\":\"Vip\"}\n",
    "    )\n",
    "    .head()\n",
    ")"
   ]
  },
  {
   "cell_type": "code",
   "execution_count": 78,
   "id": "9b0262cc",
   "metadata": {},
   "outputs": [
    {
     "data": {
      "text/html": [
       "<div><style>\n",
       ".dataframe > thead > tr,\n",
       ".dataframe > tbody > tr {\n",
       "  text-align: right;\n",
       "  white-space: pre-wrap;\n",
       "}\n",
       "</style>\n",
       "<small>shape: (5, 14)</small><table border=\"1\" class=\"dataframe\"><thead><tr><th>PassengerId</th><th>HomePlanet</th><th>CryoSleep</th><th>Cabin</th><th>Destination</th><th>Age</th><th>VIP</th><th>RoomService</th><th>FoodCourt</th><th>ShoppingMall</th><th>Spa</th><th>VRDeck</th><th>Name</th><th>Transported</th></tr><tr><td>str</td><td>str</td><td>bool</td><td>str</td><td>str</td><td>f64</td><td>bool</td><td>f64</td><td>f64</td><td>f64</td><td>f64</td><td>f64</td><td>str</td><td>bool</td></tr></thead><tbody><tr><td>&quot;0001_01&quot;</td><td>&quot;Europa&quot;</td><td>false</td><td>&quot;B/0/P&quot;</td><td>&quot;TRAPPIST-1e&quot;</td><td>39.0</td><td>false</td><td>0.0</td><td>0.0</td><td>0.0</td><td>0.0</td><td>0.0</td><td>&quot;Maham Ofraccul…</td><td>false</td></tr><tr><td>&quot;0002_01&quot;</td><td>&quot;Earth&quot;</td><td>false</td><td>&quot;F/0/S&quot;</td><td>&quot;TRAPPIST-1e&quot;</td><td>24.0</td><td>false</td><td>109.0</td><td>9.0</td><td>25.0</td><td>549.0</td><td>44.0</td><td>&quot;Juanna Vines&quot;</td><td>true</td></tr><tr><td>&quot;0003_01&quot;</td><td>&quot;Europa&quot;</td><td>false</td><td>&quot;A/0/S&quot;</td><td>&quot;TRAPPIST-1e&quot;</td><td>58.0</td><td>true</td><td>43.0</td><td>3576.0</td><td>0.0</td><td>6715.0</td><td>49.0</td><td>&quot;Altark Susent&quot;</td><td>false</td></tr><tr><td>&quot;0003_02&quot;</td><td>&quot;Europa&quot;</td><td>false</td><td>&quot;A/0/S&quot;</td><td>&quot;TRAPPIST-1e&quot;</td><td>33.0</td><td>false</td><td>0.0</td><td>1283.0</td><td>371.0</td><td>3329.0</td><td>193.0</td><td>&quot;Solam Susent&quot;</td><td>false</td></tr><tr><td>&quot;0004_01&quot;</td><td>&quot;Earth&quot;</td><td>false</td><td>&quot;F/1/S&quot;</td><td>&quot;TRAPPIST-1e&quot;</td><td>16.0</td><td>false</td><td>303.0</td><td>70.0</td><td>151.0</td><td>565.0</td><td>2.0</td><td>&quot;Willy Santanti…</td><td>true</td></tr></tbody></table></div>"
      ],
      "text/plain": [
       "shape: (5, 14)\n",
       "┌─────────────┬────────────┬───────────┬───────┬───┬────────┬────────┬───────────────┬─────────────┐\n",
       "│ PassengerId ┆ HomePlanet ┆ CryoSleep ┆ Cabin ┆ … ┆ Spa    ┆ VRDeck ┆ Name          ┆ Transported │\n",
       "│ ---         ┆ ---        ┆ ---       ┆ ---   ┆   ┆ ---    ┆ ---    ┆ ---           ┆ ---         │\n",
       "│ str         ┆ str        ┆ bool      ┆ str   ┆   ┆ f64    ┆ f64    ┆ str           ┆ bool        │\n",
       "╞═════════════╪════════════╪═══════════╪═══════╪═══╪════════╪════════╪═══════════════╪═════════════╡\n",
       "│ 0001_01     ┆ Europa     ┆ false     ┆ B/0/P ┆ … ┆ 0.0    ┆ 0.0    ┆ Maham         ┆ false       │\n",
       "│             ┆            ┆           ┆       ┆   ┆        ┆        ┆ Ofracculy     ┆             │\n",
       "│ 0002_01     ┆ Earth      ┆ false     ┆ F/0/S ┆ … ┆ 549.0  ┆ 44.0   ┆ Juanna Vines  ┆ true        │\n",
       "│ 0003_01     ┆ Europa     ┆ false     ┆ A/0/S ┆ … ┆ 6715.0 ┆ 49.0   ┆ Altark Susent ┆ false       │\n",
       "│ 0003_02     ┆ Europa     ┆ false     ┆ A/0/S ┆ … ┆ 3329.0 ┆ 193.0  ┆ Solam Susent  ┆ false       │\n",
       "│ 0004_01     ┆ Earth      ┆ false     ┆ F/1/S ┆ … ┆ 565.0  ┆ 2.0    ┆ Willy         ┆ true        │\n",
       "│             ┆            ┆           ┆       ┆   ┆        ┆        ┆ Santantines   ┆             │\n",
       "└─────────────┴────────────┴───────────┴───────┴───┴────────┴────────┴───────────────┴─────────────┘"
      ]
     },
     "execution_count": 78,
     "metadata": {},
     "output_type": "execute_result"
    }
   ],
   "source": [
    "df_clone = df_eager.clone()\n",
    "df_clone.head()"
   ]
  },
  {
   "cell_type": "code",
   "execution_count": 79,
   "id": "fe28ea10",
   "metadata": {},
   "outputs": [
    {
     "data": {
      "text/plain": [
       "[Int64, Float64]"
      ]
     },
     "execution_count": 79,
     "metadata": {},
     "output_type": "execute_result"
    }
   ],
   "source": [
    "temp_df = pl.DataFrame({'a':[0,1,2],'b':[0,1,2.0]})\n",
    "temp_df.dtypes"
   ]
  },
  {
   "cell_type": "code",
   "execution_count": 80,
   "id": "d159125b",
   "metadata": {},
   "outputs": [
    {
     "data": {
      "text/html": [
       "<div><style>\n",
       ".dataframe > thead > tr,\n",
       ".dataframe > tbody > tr {\n",
       "  text-align: right;\n",
       "  white-space: pre-wrap;\n",
       "}\n",
       "</style>\n",
       "<small>shape: (5,)</small><table border=\"1\" class=\"dataframe\"><thead><tr><th>case_ids</th></tr><tr><td>i64</td></tr></thead><tbody><tr><td>0</td></tr><tr><td>1</td></tr><tr><td>2</td></tr><tr><td>3</td></tr><tr><td>4</td></tr></tbody></table></div>"
      ],
      "text/plain": [
       "shape: (5,)\n",
       "Series: 'case_ids' [i64]\n",
       "[\n",
       "\t0\n",
       "\t1\n",
       "\t2\n",
       "\t3\n",
       "\t4\n",
       "]"
      ]
     },
     "metadata": {},
     "output_type": "display_data"
    },
    {
     "data": {
      "text/plain": [
       "[0, 1, 2, 3, 4]"
      ]
     },
     "execution_count": 80,
     "metadata": {},
     "output_type": "execute_result"
    }
   ],
   "source": [
    "# Creating a Series and transforming it to list\n",
    "display(pl.Series(\"case_ids\",np.arange(train_base[-1,\"case_id\"])).head(5))\n",
    "pl.Series(\"case_ids\",np.arange(train_base[-1,\"case_id\"])).to_list()[:5]"
   ]
  },
  {
   "cell_type": "code",
   "execution_count": 81,
   "id": "afa2dd9b",
   "metadata": {},
   "outputs": [
    {
     "data": {
      "text/html": [
       "<div><style>\n",
       ".dataframe > thead > tr,\n",
       ".dataframe > tbody > tr {\n",
       "  text-align: right;\n",
       "  white-space: pre-wrap;\n",
       "}\n",
       "</style>\n",
       "<small>shape: (5, 14)</small><table border=\"1\" class=\"dataframe\"><thead><tr><th>PassengerId</th><th>HomePlanet</th><th>CryoSleep</th><th>Cabin</th><th>Destination</th><th>Age</th><th>VIP</th><th>RoomService</th><th>FoodCourt</th><th>ShoppingMall</th><th>Spa</th><th>VRDeck</th><th>Name</th><th>Transported</th></tr><tr><td>str</td><td>str</td><td>bool</td><td>str</td><td>str</td><td>f64</td><td>bool</td><td>f64</td><td>f64</td><td>f64</td><td>f64</td><td>f64</td><td>str</td><td>bool</td></tr></thead><tbody><tr><td>&quot;0001_01&quot;</td><td>&quot;Europa&quot;</td><td>false</td><td>&quot;B/0/P&quot;</td><td>&quot;TRAPPIST-1e&quot;</td><td>39.0</td><td>false</td><td>0.0</td><td>0.0</td><td>0.0</td><td>0.0</td><td>0.0</td><td>&quot;Maham Ofraccul…</td><td>false</td></tr><tr><td>&quot;0002_01&quot;</td><td>&quot;Earth&quot;</td><td>false</td><td>&quot;F/0/S&quot;</td><td>&quot;TRAPPIST-1e&quot;</td><td>24.0</td><td>false</td><td>109.0</td><td>9.0</td><td>25.0</td><td>549.0</td><td>44.0</td><td>&quot;Juanna Vines&quot;</td><td>true</td></tr><tr><td>&quot;0003_01&quot;</td><td>&quot;Europa&quot;</td><td>false</td><td>&quot;A/0/S&quot;</td><td>&quot;TRAPPIST-1e&quot;</td><td>58.0</td><td>true</td><td>43.0</td><td>3576.0</td><td>0.0</td><td>6715.0</td><td>49.0</td><td>&quot;Altark Susent&quot;</td><td>false</td></tr><tr><td>&quot;0003_02&quot;</td><td>&quot;Europa&quot;</td><td>false</td><td>&quot;A/0/S&quot;</td><td>&quot;TRAPPIST-1e&quot;</td><td>33.0</td><td>false</td><td>0.0</td><td>1283.0</td><td>371.0</td><td>3329.0</td><td>193.0</td><td>&quot;Solam Susent&quot;</td><td>false</td></tr><tr><td>&quot;0004_01&quot;</td><td>&quot;Earth&quot;</td><td>false</td><td>&quot;F/1/S&quot;</td><td>&quot;TRAPPIST-1e&quot;</td><td>16.0</td><td>false</td><td>303.0</td><td>70.0</td><td>151.0</td><td>565.0</td><td>2.0</td><td>&quot;Willy Santanti…</td><td>true</td></tr></tbody></table></div>"
      ],
      "text/plain": [
       "shape: (5, 14)\n",
       "┌─────────────┬────────────┬───────────┬───────┬───┬────────┬────────┬───────────────┬─────────────┐\n",
       "│ PassengerId ┆ HomePlanet ┆ CryoSleep ┆ Cabin ┆ … ┆ Spa    ┆ VRDeck ┆ Name          ┆ Transported │\n",
       "│ ---         ┆ ---        ┆ ---       ┆ ---   ┆   ┆ ---    ┆ ---    ┆ ---           ┆ ---         │\n",
       "│ str         ┆ str        ┆ bool      ┆ str   ┆   ┆ f64    ┆ f64    ┆ str           ┆ bool        │\n",
       "╞═════════════╪════════════╪═══════════╪═══════╪═══╪════════╪════════╪═══════════════╪═════════════╡\n",
       "│ 0001_01     ┆ Europa     ┆ false     ┆ B/0/P ┆ … ┆ 0.0    ┆ 0.0    ┆ Maham         ┆ false       │\n",
       "│             ┆            ┆           ┆       ┆   ┆        ┆        ┆ Ofracculy     ┆             │\n",
       "│ 0002_01     ┆ Earth      ┆ false     ┆ F/0/S ┆ … ┆ 549.0  ┆ 44.0   ┆ Juanna Vines  ┆ true        │\n",
       "│ 0003_01     ┆ Europa     ┆ false     ┆ A/0/S ┆ … ┆ 6715.0 ┆ 49.0   ┆ Altark Susent ┆ false       │\n",
       "│ 0003_02     ┆ Europa     ┆ false     ┆ A/0/S ┆ … ┆ 3329.0 ┆ 193.0  ┆ Solam Susent  ┆ false       │\n",
       "│ 0004_01     ┆ Earth      ┆ false     ┆ F/1/S ┆ … ┆ 565.0  ┆ 2.0    ┆ Willy         ┆ true        │\n",
       "│             ┆            ┆           ┆       ┆   ┆        ┆        ┆ Santantines   ┆             │\n",
       "└─────────────┴────────────┴───────────┴───────┴───┴────────┴────────┴───────────────┴─────────────┘"
      ]
     },
     "execution_count": 81,
     "metadata": {},
     "output_type": "execute_result"
    }
   ],
   "source": [
    "df_eager.head()"
   ]
  },
  {
   "cell_type": "code",
   "execution_count": 82,
   "id": "2c81b157",
   "metadata": {},
   "outputs": [
    {
     "data": {
      "text/html": [
       "<div><style>\n",
       ".dataframe > thead > tr,\n",
       ".dataframe > tbody > tr {\n",
       "  text-align: right;\n",
       "  white-space: pre-wrap;\n",
       "}\n",
       "</style>\n",
       "<small>shape: (3, 2)</small><table border=\"1\" class=\"dataframe\"><thead><tr><th>HomePlanet</th><th>count</th></tr><tr><td>str</td><td>u32</td></tr></thead><tbody><tr><td>&quot;Earth&quot;</td><td>4602</td></tr><tr><td>&quot;Europa&quot;</td><td>2131</td></tr><tr><td>&quot;Mars&quot;</td><td>1759</td></tr></tbody></table></div>"
      ],
      "text/plain": [
       "shape: (3, 2)\n",
       "┌────────────┬───────┐\n",
       "│ HomePlanet ┆ count │\n",
       "│ ---        ┆ ---   │\n",
       "│ str        ┆ u32   │\n",
       "╞════════════╪═══════╡\n",
       "│ Earth      ┆ 4602  │\n",
       "│ Europa     ┆ 2131  │\n",
       "│ Mars       ┆ 1759  │\n",
       "└────────────┴───────┘"
      ]
     },
     "execution_count": 82,
     "metadata": {},
     "output_type": "execute_result"
    }
   ],
   "source": [
    "home_planet_counts = (\n",
    "    df_eager[\"HomePlanet\"]\n",
    "    .drop_nulls()\n",
    "    .value_counts()\n",
    "    .sort(\"HomePlanet\")\n",
    ")\n",
    "home_planet_counts"
   ]
  },
  {
   "cell_type": "code",
   "execution_count": 85,
   "id": "09ddb8ce",
   "metadata": {},
   "outputs": [
    {
     "name": "stdout",
     "output_type": "stream",
     "text": [
      "['area', 'bar', 'barh', 'bivariate', 'box', 'dataset', 'density', 'errorbars', 'explorer', 'heatmap', 'hexbin', 'hist', 'kde', 'labels', 'line', 'ohlc', 'paths', 'points', 'polygons', 'scatter', 'step', 'table', 'vectorfield', 'violin']"
     ]
    }
   ],
   "source": [
    "# Available plots\n",
    "print(list(_ for _ in dir(df_eager.plot) if not _.startswith(\"_\")),end=\"\")"
   ]
  },
  {
   "cell_type": "code",
   "execution_count": 89,
   "id": "e914bcd9",
   "metadata": {},
   "outputs": [
    {
     "data": {
      "image/png": "[encoded data removed]"
     },
     "metadata": {},
     "output_type": "display_data"
    }
   ],
   "source": [
    "(\n",
    "    px.histogram(df_eager,x=\"HomePlanet\")\n",
    "    .update_layout(height=700)\n",
    "    .update_yaxes(title=\"Counts\")\n",
    "    .update_xaxes(title=\"HomePlanet\",categoryorder=\"total descending\")\n",
    "    .show(\"png\")\n",
    ")"
   ]
  },
  {
   "cell_type": "code",
   "execution_count": 91,
   "id": "e461f516",
   "metadata": {},
   "outputs": [
    {
     "data": {
      "text/plain": [
       "dict_keys([('Europa',), ('Earth',), ('Mars',), (None,)])"
      ]
     },
     "execution_count": 91,
     "metadata": {},
     "output_type": "execute_result"
    }
   ],
   "source": [
    "(\n",
    "    df_eager\n",
    "    .partition_by(\n",
    "        by=[\"HomePlanet\"],\n",
    "        as_dict=True\n",
    "    )\n",
    ").keys()"
   ]
  },
  {
   "cell_type": "code",
   "execution_count": 94,
   "id": "2832e50f",
   "metadata": {},
   "outputs": [
    {
     "data": {
      "text/html": [
       "<div><style>\n",
       ".dataframe > thead > tr,\n",
       ".dataframe > tbody > tr {\n",
       "  text-align: right;\n",
       "  white-space: pre-wrap;\n",
       "}\n",
       "</style>\n",
       "<small>shape: (5, 14)</small><table border=\"1\" class=\"dataframe\"><thead><tr><th>PassengerId</th><th>HomePlanet</th><th>CryoSleep</th><th>Cabin</th><th>Destination</th><th>Age</th><th>VIP</th><th>RoomService</th><th>FoodCourt</th><th>ShoppingMall</th><th>Spa</th><th>VRDeck</th><th>Name</th><th>Transported</th></tr><tr><td>str</td><td>str</td><td>bool</td><td>str</td><td>str</td><td>f64</td><td>bool</td><td>f64</td><td>f64</td><td>f64</td><td>f64</td><td>f64</td><td>str</td><td>bool</td></tr></thead><tbody><tr><td>&quot;0001_01&quot;</td><td>&quot;Europa&quot;</td><td>false</td><td>&quot;B/0/P&quot;</td><td>&quot;TRAPPIST-1e&quot;</td><td>39.0</td><td>false</td><td>0.0</td><td>0.0</td><td>0.0</td><td>0.0</td><td>0.0</td><td>&quot;Maham Ofraccul…</td><td>false</td></tr><tr><td>&quot;0003_01&quot;</td><td>&quot;Europa&quot;</td><td>false</td><td>&quot;A/0/S&quot;</td><td>&quot;TRAPPIST-1e&quot;</td><td>58.0</td><td>true</td><td>43.0</td><td>3576.0</td><td>0.0</td><td>6715.0</td><td>49.0</td><td>&quot;Altark Susent&quot;</td><td>false</td></tr><tr><td>&quot;0003_02&quot;</td><td>&quot;Europa&quot;</td><td>false</td><td>&quot;A/0/S&quot;</td><td>&quot;TRAPPIST-1e&quot;</td><td>33.0</td><td>false</td><td>0.0</td><td>1283.0</td><td>371.0</td><td>3329.0</td><td>193.0</td><td>&quot;Solam Susent&quot;</td><td>false</td></tr><tr><td>&quot;0005_01&quot;</td><td>&quot;Earth&quot;</td><td>false</td><td>&quot;F/0/P&quot;</td><td>&quot;PSO J318.5-22&quot;</td><td>44.0</td><td>false</td><td>0.0</td><td>483.0</td><td>0.0</td><td>291.0</td><td>0.0</td><td>&quot;Sandie Hinetth…</td><td>true</td></tr><tr><td>&quot;0007_01&quot;</td><td>&quot;Earth&quot;</td><td>false</td><td>&quot;F/3/S&quot;</td><td>&quot;TRAPPIST-1e&quot;</td><td>35.0</td><td>false</td><td>0.0</td><td>785.0</td><td>17.0</td><td>216.0</td><td>0.0</td><td>&quot;Andona Beston&quot;</td><td>true</td></tr></tbody></table></div>"
      ],
      "text/plain": [
       "shape: (5, 14)\n",
       "┌─────────────┬────────────┬───────────┬───────┬───┬────────┬────────┬───────────────┬─────────────┐\n",
       "│ PassengerId ┆ HomePlanet ┆ CryoSleep ┆ Cabin ┆ … ┆ Spa    ┆ VRDeck ┆ Name          ┆ Transported │\n",
       "│ ---         ┆ ---        ┆ ---       ┆ ---   ┆   ┆ ---    ┆ ---    ┆ ---           ┆ ---         │\n",
       "│ str         ┆ str        ┆ bool      ┆ str   ┆   ┆ f64    ┆ f64    ┆ str           ┆ bool        │\n",
       "╞═════════════╪════════════╪═══════════╪═══════╪═══╪════════╪════════╪═══════════════╪═════════════╡\n",
       "│ 0001_01     ┆ Europa     ┆ false     ┆ B/0/P ┆ … ┆ 0.0    ┆ 0.0    ┆ Maham         ┆ false       │\n",
       "│             ┆            ┆           ┆       ┆   ┆        ┆        ┆ Ofracculy     ┆             │\n",
       "│ 0003_01     ┆ Europa     ┆ false     ┆ A/0/S ┆ … ┆ 6715.0 ┆ 49.0   ┆ Altark Susent ┆ false       │\n",
       "│ 0003_02     ┆ Europa     ┆ false     ┆ A/0/S ┆ … ┆ 3329.0 ┆ 193.0  ┆ Solam Susent  ┆ false       │\n",
       "│ 0005_01     ┆ Earth      ┆ false     ┆ F/0/P ┆ … ┆ 291.0  ┆ 0.0    ┆ Sandie        ┆ true        │\n",
       "│             ┆            ┆           ┆       ┆   ┆        ┆        ┆ Hinetthews    ┆             │\n",
       "│ 0007_01     ┆ Earth      ┆ false     ┆ F/3/S ┆ … ┆ 216.0  ┆ 0.0    ┆ Andona Beston ┆ true        │\n",
       "└─────────────┴────────────┴───────────┴───────┴───┴────────┴────────┴───────────────┴─────────────┘"
      ]
     },
     "execution_count": 94,
     "metadata": {},
     "output_type": "execute_result"
    }
   ],
   "source": [
    "(\n",
    "    df_eager\n",
    "    .filter(\n",
    "        (pl.col(\"Age\") > 30) & (pl.col(\"CryoSleep\") == True).not_()\n",
    "    )\n",
    "    .head()\n",
    ")"
   ]
  },
  {
   "cell_type": "code",
   "execution_count": 96,
   "id": "43ca3808",
   "metadata": {},
   "outputs": [
    {
     "data": {
      "text/html": [
       "<div><style>\n",
       ".dataframe > thead > tr,\n",
       ".dataframe > tbody > tr {\n",
       "  text-align: right;\n",
       "  white-space: pre-wrap;\n",
       "}\n",
       "</style>\n",
       "<small>shape: (5, 2)</small><table border=\"1\" class=\"dataframe\"><thead><tr><th>HomePlanet</th><th>className</th></tr><tr><td>str</td><td>i32</td></tr></thead><tbody><tr><td>&quot;Europa&quot;</td><td>1</td></tr><tr><td>&quot;Earth&quot;</td><td>2</td></tr><tr><td>&quot;Europa&quot;</td><td>1</td></tr><tr><td>&quot;Europa&quot;</td><td>1</td></tr><tr><td>&quot;Earth&quot;</td><td>2</td></tr></tbody></table></div>"
      ],
      "text/plain": [
       "shape: (5, 2)\n",
       "┌────────────┬───────────┐\n",
       "│ HomePlanet ┆ className │\n",
       "│ ---        ┆ ---       │\n",
       "│ str        ┆ i32       │\n",
       "╞════════════╪═══════════╡\n",
       "│ Europa     ┆ 1         │\n",
       "│ Earth      ┆ 2         │\n",
       "│ Europa     ┆ 1         │\n",
       "│ Europa     ┆ 1         │\n",
       "│ Earth      ┆ 2         │\n",
       "└────────────┴───────────┘"
      ]
     },
     "execution_count": 96,
     "metadata": {},
     "output_type": "execute_result"
    }
   ],
   "source": [
    "(\n",
    "    df_eager\n",
    "    .with_columns(\n",
    "        className = pl.col(\"HomePlanet\").replace(\n",
    "            {\n",
    "                \"Europa\":1,\n",
    "                \"Earth\":2,\n",
    "                \"Mars\":3\n",
    "            }\n",
    "        )\n",
    "    )\n",
    "    .select(\n",
    "        pl.col(\"HomePlanet\"),\n",
    "        pl.col(\"className\").cast(pl.Int32)\n",
    "    )\n",
    "    .head()\n",
    ")"
   ]
  },
  {
   "cell_type": "code",
   "execution_count": 127,
   "id": "db43fde9",
   "metadata": {},
   "outputs": [
    {
     "data": {
      "text/html": [
       "<div><style>\n",
       ".dataframe > thead > tr,\n",
       ".dataframe > tbody > tr {\n",
       "  text-align: right;\n",
       "  white-space: pre-wrap;\n",
       "}\n",
       "</style>\n",
       "<small>shape: (5, 5)</small><table border=\"1\" class=\"dataframe\"><thead><tr><th>Earth</th><th>Europa</th><th>Mars</th><th>null</th><th>Transported</th></tr><tr><td>u8</td><td>u8</td><td>u8</td><td>u8</td><td>bool</td></tr></thead><tbody><tr><td>0</td><td>1</td><td>0</td><td>0</td><td>false</td></tr><tr><td>1</td><td>0</td><td>0</td><td>0</td><td>true</td></tr><tr><td>0</td><td>1</td><td>0</td><td>0</td><td>false</td></tr><tr><td>0</td><td>1</td><td>0</td><td>0</td><td>false</td></tr><tr><td>1</td><td>0</td><td>0</td><td>0</td><td>true</td></tr></tbody></table></div>"
      ],
      "text/plain": [
       "shape: (5, 5)\n",
       "┌───────┬────────┬──────┬──────┬─────────────┐\n",
       "│ Earth ┆ Europa ┆ Mars ┆ null ┆ Transported │\n",
       "│ ---   ┆ ---    ┆ ---  ┆ ---  ┆ ---         │\n",
       "│ u8    ┆ u8     ┆ u8   ┆ u8   ┆ bool        │\n",
       "╞═══════╪════════╪══════╪══════╪═════════════╡\n",
       "│ 0     ┆ 1      ┆ 0    ┆ 0    ┆ false       │\n",
       "│ 1     ┆ 0      ┆ 0    ┆ 0    ┆ true        │\n",
       "│ 0     ┆ 1      ┆ 0    ┆ 0    ┆ false       │\n",
       "│ 0     ┆ 1      ┆ 0    ┆ 0    ┆ false       │\n",
       "│ 1     ┆ 0      ┆ 0    ┆ 0    ┆ true        │\n",
       "└───────┴────────┴──────┴──────┴─────────────┘"
      ]
     },
     "execution_count": 127,
     "metadata": {},
     "output_type": "execute_result"
    }
   ],
   "source": [
    "(\n",
    "    df_eager\n",
    "    .select(\n",
    "        pl.col(\"HomePlanet\"),\n",
    "        pl.col(\"Transported\"),\n",
    "    )\n",
    "    .to_dummies(columns=[\"HomePlanet\"],separator=\":\")\n",
    "    .rename(lambda _: _[len(\"HomePlanet\")+1:] if \"HomePlanet\" in _ else _)\n",
    "    .head()\n",
    ")"
   ]
  },
  {
   "cell_type": "code",
   "execution_count": 128,
   "id": "93086511",
   "metadata": {},
   "outputs": [
    {
     "data": {
      "text/html": [
       "<div><style>\n",
       ".dataframe > thead > tr,\n",
       ".dataframe > tbody > tr {\n",
       "  text-align: right;\n",
       "  white-space: pre-wrap;\n",
       "}\n",
       "</style>\n",
       "<small>shape: (5, 14)</small><table border=\"1\" class=\"dataframe\"><thead><tr><th>PassengerId</th><th>HomePlanet</th><th>CryoSleep</th><th>Cabin</th><th>Destination</th><th>Age</th><th>VIP</th><th>RoomService</th><th>FoodCourt</th><th>ShoppingMall</th><th>Spa</th><th>VRDeck</th><th>Name</th><th>Transported</th></tr><tr><td>str</td><td>str</td><td>bool</td><td>str</td><td>str</td><td>f64</td><td>bool</td><td>f64</td><td>f64</td><td>f64</td><td>f64</td><td>f64</td><td>str</td><td>bool</td></tr></thead><tbody><tr><td>&quot;0001_01&quot;</td><td>&quot;Europa&quot;</td><td>false</td><td>&quot;B/0/P&quot;</td><td>&quot;TRAPPIST-1e&quot;</td><td>39.0</td><td>false</td><td>0.0</td><td>0.0</td><td>0.0</td><td>0.0</td><td>0.0</td><td>&quot;Maham Ofraccul…</td><td>false</td></tr><tr><td>&quot;0002_01&quot;</td><td>&quot;Earth&quot;</td><td>false</td><td>&quot;F/0/S&quot;</td><td>&quot;TRAPPIST-1e&quot;</td><td>24.0</td><td>false</td><td>109.0</td><td>9.0</td><td>25.0</td><td>549.0</td><td>44.0</td><td>&quot;Juanna Vines&quot;</td><td>true</td></tr><tr><td>&quot;0003_01&quot;</td><td>&quot;Europa&quot;</td><td>false</td><td>&quot;A/0/S&quot;</td><td>&quot;TRAPPIST-1e&quot;</td><td>58.0</td><td>true</td><td>43.0</td><td>3576.0</td><td>0.0</td><td>6715.0</td><td>49.0</td><td>&quot;Altark Susent&quot;</td><td>false</td></tr><tr><td>&quot;0003_02&quot;</td><td>&quot;Europa&quot;</td><td>false</td><td>&quot;A/0/S&quot;</td><td>&quot;TRAPPIST-1e&quot;</td><td>33.0</td><td>false</td><td>0.0</td><td>1283.0</td><td>371.0</td><td>3329.0</td><td>193.0</td><td>&quot;Solam Susent&quot;</td><td>false</td></tr><tr><td>&quot;0004_01&quot;</td><td>&quot;Earth&quot;</td><td>false</td><td>&quot;F/1/S&quot;</td><td>&quot;TRAPPIST-1e&quot;</td><td>16.0</td><td>false</td><td>303.0</td><td>70.0</td><td>151.0</td><td>565.0</td><td>2.0</td><td>&quot;Willy Santanti…</td><td>true</td></tr></tbody></table></div>"
      ],
      "text/plain": [
       "shape: (5, 14)\n",
       "┌─────────────┬────────────┬───────────┬───────┬───┬────────┬────────┬───────────────┬─────────────┐\n",
       "│ PassengerId ┆ HomePlanet ┆ CryoSleep ┆ Cabin ┆ … ┆ Spa    ┆ VRDeck ┆ Name          ┆ Transported │\n",
       "│ ---         ┆ ---        ┆ ---       ┆ ---   ┆   ┆ ---    ┆ ---    ┆ ---           ┆ ---         │\n",
       "│ str         ┆ str        ┆ bool      ┆ str   ┆   ┆ f64    ┆ f64    ┆ str           ┆ bool        │\n",
       "╞═════════════╪════════════╪═══════════╪═══════╪═══╪════════╪════════╪═══════════════╪═════════════╡\n",
       "│ 0001_01     ┆ Europa     ┆ false     ┆ B/0/P ┆ … ┆ 0.0    ┆ 0.0    ┆ Maham         ┆ false       │\n",
       "│             ┆            ┆           ┆       ┆   ┆        ┆        ┆ Ofracculy     ┆             │\n",
       "│ 0002_01     ┆ Earth      ┆ false     ┆ F/0/S ┆ … ┆ 549.0  ┆ 44.0   ┆ Juanna Vines  ┆ true        │\n",
       "│ 0003_01     ┆ Europa     ┆ false     ┆ A/0/S ┆ … ┆ 6715.0 ┆ 49.0   ┆ Altark Susent ┆ false       │\n",
       "│ 0003_02     ┆ Europa     ┆ false     ┆ A/0/S ┆ … ┆ 3329.0 ┆ 193.0  ┆ Solam Susent  ┆ false       │\n",
       "│ 0004_01     ┆ Earth      ┆ false     ┆ F/1/S ┆ … ┆ 565.0  ┆ 2.0    ┆ Willy         ┆ true        │\n",
       "│             ┆            ┆           ┆       ┆   ┆        ┆        ┆ Santantines   ┆             │\n",
       "└─────────────┴────────────┴───────────┴───────┴───┴────────┴────────┴───────────────┴─────────────┘"
      ]
     },
     "execution_count": 128,
     "metadata": {},
     "output_type": "execute_result"
    }
   ],
   "source": [
    "(\n",
    "    pl.read_csv(\"train.csv\")\n",
    "    .select(\n",
    "        \n",
    "    )\n",
    ")"
   ]
  }
 ],
 "metadata": {
  "kernelspec": {
   "display_name": "Python 3 (ipykernel)",
   "language": "python",
   "name": "python3"
  },
  "language_info": {
   "codemirror_mode": {
    "name": "ipython",
    "version": 3
   },
   "file_extension": ".py",
   "mimetype": "text/x-python",
   "name": "python",
   "nbconvert_exporter": "python",
   "pygments_lexer": "ipython3",
   "version": "3.11.7"
  }
 },
 "nbformat": 4,
 "nbformat_minor": 5
}
