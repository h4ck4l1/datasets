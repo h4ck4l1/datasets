{
 "cells": [
  {
   "cell_type": "code",
   "execution_count": 1,
   "metadata": {},
   "outputs": [],
   "source": [
    "import os,sys,subprocess,time\n",
    "os.environ['TF_CPP_MIN_LOG_LEVEL'] = '3'\n",
    "import numpy as np\n",
    "import pandas as pd\n",
    "pd.set_option(\"display.float_format\",\"{:.2f}\".format)\n",
    "import matplotlib.pyplot as plt\n",
    "import plotly.express as px\n",
    "import plotly.graph_objects as go\n",
    "import plotly.io as pio\n",
    "from plotly.subplots import make_subplots\n",
    "pio.templates[\"mod\"] = go.layout.Template(layout=dict(font=dict(family=\"Fira Code\",size=20)))\n",
    "pio.templates.default = \"plotly_dark+mod\"\n",
    "from zipfile import ZipFile\n",
    "from glob import glob\n",
    "from scipy import stats\n",
    "import statsmodels.api as sm\n",
    "from sklearn.preprocessing import StandardScaler,OrdinalEncoder,MinMaxScaler,RobustScaler,OneHotEncoder\n",
    "from sklearn.ensemble import RandomForestClassifier,GradientBoostingClassifier\n",
    "from sklearn.base import BaseEstimator,TransformerMixin\n",
    "from sklearn.compose import ColumnTransformer\n",
    "from sklearn.model_selection import GridSearchCV,train_test_split,StratifiedShuffleSplit\n",
    "from sklearn.metrics import roc_auc_score,confusion_matrix,accuracy_score,f1_score,precision_recall_curve\n",
    "import miceforest as mf\n",
    "import tensorflow as tf\n",
    "from tensorflow import keras\n",
    "tf.get_logger().setLevel('ERROR')\n",
    "%matplotlib inline"
   ]
  },
  {
   "cell_type": "code",
   "execution_count": 2,
   "metadata": {},
   "outputs": [],
   "source": [
    "peng_lter = pd.read_csv('penguins_lter.csv')"
   ]
  },
  {
   "cell_type": "code",
   "execution_count": 3,
   "metadata": {},
   "outputs": [
    {
     "data": {
      "text/html": [
       "<div>\n",
       "<style scoped>\n",
       "    .dataframe tbody tr th:only-of-type {\n",
       "        vertical-align: middle;\n",
       "    }\n",
       "\n",
       "    .dataframe tbody tr th {\n",
       "        vertical-align: top;\n",
       "    }\n",
       "\n",
       "    .dataframe thead th {\n",
       "        text-align: right;\n",
       "    }\n",
       "</style>\n",
       "<table border=\"1\" class=\"dataframe\">\n",
       "  <thead>\n",
       "    <tr style=\"text-align: right;\">\n",
       "      <th></th>\n",
       "      <th>studyName</th>\n",
       "      <th>Sample Number</th>\n",
       "      <th>Species</th>\n",
       "      <th>Region</th>\n",
       "      <th>Island</th>\n",
       "      <th>Stage</th>\n",
       "      <th>Individual ID</th>\n",
       "      <th>Clutch Completion</th>\n",
       "      <th>Date Egg</th>\n",
       "      <th>Culmen Length (mm)</th>\n",
       "      <th>Culmen Depth (mm)</th>\n",
       "      <th>Flipper Length (mm)</th>\n",
       "      <th>Body Mass (g)</th>\n",
       "      <th>Sex</th>\n",
       "      <th>Delta 15 N (o/oo)</th>\n",
       "      <th>Delta 13 C (o/oo)</th>\n",
       "      <th>Comments</th>\n",
       "    </tr>\n",
       "  </thead>\n",
       "  <tbody>\n",
       "    <tr>\n",
       "      <th>0</th>\n",
       "      <td>PAL0708</td>\n",
       "      <td>1</td>\n",
       "      <td>Adelie Penguin (Pygoscelis adeliae)</td>\n",
       "      <td>Anvers</td>\n",
       "      <td>Torgersen</td>\n",
       "      <td>Adult, 1 Egg Stage</td>\n",
       "      <td>N1A1</td>\n",
       "      <td>Yes</td>\n",
       "      <td>11/11/07</td>\n",
       "      <td>39.10</td>\n",
       "      <td>18.70</td>\n",
       "      <td>181.00</td>\n",
       "      <td>3750.00</td>\n",
       "      <td>MALE</td>\n",
       "      <td>NaN</td>\n",
       "      <td>NaN</td>\n",
       "      <td>Not enough blood for isotopes.</td>\n",
       "    </tr>\n",
       "    <tr>\n",
       "      <th>1</th>\n",
       "      <td>PAL0708</td>\n",
       "      <td>2</td>\n",
       "      <td>Adelie Penguin (Pygoscelis adeliae)</td>\n",
       "      <td>Anvers</td>\n",
       "      <td>Torgersen</td>\n",
       "      <td>Adult, 1 Egg Stage</td>\n",
       "      <td>N1A2</td>\n",
       "      <td>Yes</td>\n",
       "      <td>11/11/07</td>\n",
       "      <td>39.50</td>\n",
       "      <td>17.40</td>\n",
       "      <td>186.00</td>\n",
       "      <td>3800.00</td>\n",
       "      <td>FEMALE</td>\n",
       "      <td>8.95</td>\n",
       "      <td>-24.69</td>\n",
       "      <td>NaN</td>\n",
       "    </tr>\n",
       "    <tr>\n",
       "      <th>2</th>\n",
       "      <td>PAL0708</td>\n",
       "      <td>3</td>\n",
       "      <td>Adelie Penguin (Pygoscelis adeliae)</td>\n",
       "      <td>Anvers</td>\n",
       "      <td>Torgersen</td>\n",
       "      <td>Adult, 1 Egg Stage</td>\n",
       "      <td>N2A1</td>\n",
       "      <td>Yes</td>\n",
       "      <td>11/16/07</td>\n",
       "      <td>40.30</td>\n",
       "      <td>18.00</td>\n",
       "      <td>195.00</td>\n",
       "      <td>3250.00</td>\n",
       "      <td>FEMALE</td>\n",
       "      <td>8.37</td>\n",
       "      <td>-25.33</td>\n",
       "      <td>NaN</td>\n",
       "    </tr>\n",
       "  </tbody>\n",
       "</table>\n",
       "</div>"
      ],
      "text/plain": [
       "  studyName  Sample Number                              Species  Region  \\\n",
       "0   PAL0708              1  Adelie Penguin (Pygoscelis adeliae)  Anvers   \n",
       "1   PAL0708              2  Adelie Penguin (Pygoscelis adeliae)  Anvers   \n",
       "2   PAL0708              3  Adelie Penguin (Pygoscelis adeliae)  Anvers   \n",
       "\n",
       "      Island               Stage Individual ID Clutch Completion  Date Egg  \\\n",
       "0  Torgersen  Adult, 1 Egg Stage          N1A1               Yes  11/11/07   \n",
       "1  Torgersen  Adult, 1 Egg Stage          N1A2               Yes  11/11/07   \n",
       "2  Torgersen  Adult, 1 Egg Stage          N2A1               Yes  11/16/07   \n",
       "\n",
       "   Culmen Length (mm)  Culmen Depth (mm)  Flipper Length (mm)  Body Mass (g)  \\\n",
       "0               39.10              18.70               181.00        3750.00   \n",
       "1               39.50              17.40               186.00        3800.00   \n",
       "2               40.30              18.00               195.00        3250.00   \n",
       "\n",
       "      Sex  Delta 15 N (o/oo)  Delta 13 C (o/oo)  \\\n",
       "0    MALE                NaN                NaN   \n",
       "1  FEMALE               8.95             -24.69   \n",
       "2  FEMALE               8.37             -25.33   \n",
       "\n",
       "                         Comments  \n",
       "0  Not enough blood for isotopes.  \n",
       "1                             NaN  \n",
       "2                             NaN  "
      ]
     },
     "execution_count": 3,
     "metadata": {},
     "output_type": "execute_result"
    }
   ],
   "source": [
    "peng_lter.head(3)"
   ]
  },
  {
   "cell_type": "code",
   "execution_count": 4,
   "metadata": {},
   "outputs": [
    {
     "data": {
      "text/plain": [
       "(344, 17)"
      ]
     },
     "execution_count": 4,
     "metadata": {},
     "output_type": "execute_result"
    }
   ],
   "source": [
    "peng_lter.shape"
   ]
  },
  {
   "cell_type": "code",
   "execution_count": 5,
   "metadata": {},
   "outputs": [
    {
     "data": {
      "text/html": [
       "<div>\n",
       "<style scoped>\n",
       "    .dataframe tbody tr th:only-of-type {\n",
       "        vertical-align: middle;\n",
       "    }\n",
       "\n",
       "    .dataframe tbody tr th {\n",
       "        vertical-align: top;\n",
       "    }\n",
       "\n",
       "    .dataframe thead th {\n",
       "        text-align: right;\n",
       "    }\n",
       "</style>\n",
       "<table border=\"1\" class=\"dataframe\">\n",
       "  <thead>\n",
       "    <tr style=\"text-align: right;\">\n",
       "      <th></th>\n",
       "      <th>Sample Number</th>\n",
       "      <th>Culmen Length (mm)</th>\n",
       "      <th>Culmen Depth (mm)</th>\n",
       "      <th>Flipper Length (mm)</th>\n",
       "      <th>Body Mass (g)</th>\n",
       "      <th>Delta 15 N (o/oo)</th>\n",
       "      <th>Delta 13 C (o/oo)</th>\n",
       "    </tr>\n",
       "  </thead>\n",
       "  <tbody>\n",
       "    <tr>\n",
       "      <th>count</th>\n",
       "      <td>344.00</td>\n",
       "      <td>342.00</td>\n",
       "      <td>342.00</td>\n",
       "      <td>342.00</td>\n",
       "      <td>342.00</td>\n",
       "      <td>330.00</td>\n",
       "      <td>331.00</td>\n",
       "    </tr>\n",
       "    <tr>\n",
       "      <th>mean</th>\n",
       "      <td>63.15</td>\n",
       "      <td>43.92</td>\n",
       "      <td>17.15</td>\n",
       "      <td>200.92</td>\n",
       "      <td>4201.75</td>\n",
       "      <td>8.73</td>\n",
       "      <td>-25.69</td>\n",
       "    </tr>\n",
       "    <tr>\n",
       "      <th>std</th>\n",
       "      <td>40.43</td>\n",
       "      <td>5.46</td>\n",
       "      <td>1.97</td>\n",
       "      <td>14.06</td>\n",
       "      <td>801.95</td>\n",
       "      <td>0.55</td>\n",
       "      <td>0.79</td>\n",
       "    </tr>\n",
       "    <tr>\n",
       "      <th>min</th>\n",
       "      <td>1.00</td>\n",
       "      <td>32.10</td>\n",
       "      <td>13.10</td>\n",
       "      <td>172.00</td>\n",
       "      <td>2700.00</td>\n",
       "      <td>7.63</td>\n",
       "      <td>-27.02</td>\n",
       "    </tr>\n",
       "    <tr>\n",
       "      <th>25%</th>\n",
       "      <td>29.00</td>\n",
       "      <td>39.23</td>\n",
       "      <td>15.60</td>\n",
       "      <td>190.00</td>\n",
       "      <td>3550.00</td>\n",
       "      <td>8.30</td>\n",
       "      <td>-26.32</td>\n",
       "    </tr>\n",
       "    <tr>\n",
       "      <th>50%</th>\n",
       "      <td>58.00</td>\n",
       "      <td>44.45</td>\n",
       "      <td>17.30</td>\n",
       "      <td>197.00</td>\n",
       "      <td>4050.00</td>\n",
       "      <td>8.65</td>\n",
       "      <td>-25.83</td>\n",
       "    </tr>\n",
       "    <tr>\n",
       "      <th>75%</th>\n",
       "      <td>95.25</td>\n",
       "      <td>48.50</td>\n",
       "      <td>18.70</td>\n",
       "      <td>213.00</td>\n",
       "      <td>4750.00</td>\n",
       "      <td>9.17</td>\n",
       "      <td>-25.06</td>\n",
       "    </tr>\n",
       "    <tr>\n",
       "      <th>max</th>\n",
       "      <td>152.00</td>\n",
       "      <td>59.60</td>\n",
       "      <td>21.50</td>\n",
       "      <td>231.00</td>\n",
       "      <td>6300.00</td>\n",
       "      <td>10.03</td>\n",
       "      <td>-23.79</td>\n",
       "    </tr>\n",
       "  </tbody>\n",
       "</table>\n",
       "</div>"
      ],
      "text/plain": [
       "       Sample Number  Culmen Length (mm)  Culmen Depth (mm)  \\\n",
       "count         344.00              342.00             342.00   \n",
       "mean           63.15               43.92              17.15   \n",
       "std            40.43                5.46               1.97   \n",
       "min             1.00               32.10              13.10   \n",
       "25%            29.00               39.23              15.60   \n",
       "50%            58.00               44.45              17.30   \n",
       "75%            95.25               48.50              18.70   \n",
       "max           152.00               59.60              21.50   \n",
       "\n",
       "       Flipper Length (mm)  Body Mass (g)  Delta 15 N (o/oo)  \\\n",
       "count               342.00         342.00             330.00   \n",
       "mean                200.92        4201.75               8.73   \n",
       "std                  14.06         801.95               0.55   \n",
       "min                 172.00        2700.00               7.63   \n",
       "25%                 190.00        3550.00               8.30   \n",
       "50%                 197.00        4050.00               8.65   \n",
       "75%                 213.00        4750.00               9.17   \n",
       "max                 231.00        6300.00              10.03   \n",
       "\n",
       "       Delta 13 C (o/oo)  \n",
       "count             331.00  \n",
       "mean              -25.69  \n",
       "std                 0.79  \n",
       "min               -27.02  \n",
       "25%               -26.32  \n",
       "50%               -25.83  \n",
       "75%               -25.06  \n",
       "max               -23.79  "
      ]
     },
     "execution_count": 5,
     "metadata": {},
     "output_type": "execute_result"
    }
   ],
   "source": [
    "peng_lter.describe()"
   ]
  },
  {
   "cell_type": "code",
   "execution_count": 6,
   "metadata": {},
   "outputs": [
    {
     "name": "stdout",
     "output_type": "stream",
     "text": [
      "<class 'pandas.core.frame.DataFrame'>\n",
      "RangeIndex: 344 entries, 0 to 343\n",
      "Data columns (total 17 columns):\n",
      " #   Column               Non-Null Count  Dtype  \n",
      "---  ------               --------------  -----  \n",
      " 0   studyName            344 non-null    object \n",
      " 1   Sample Number        344 non-null    int64  \n",
      " 2   Species              344 non-null    object \n",
      " 3   Region               344 non-null    object \n",
      " 4   Island               344 non-null    object \n",
      " 5   Stage                344 non-null    object \n",
      " 6   Individual ID        344 non-null    object \n",
      " 7   Clutch Completion    344 non-null    object \n",
      " 8   Date Egg             344 non-null    object \n",
      " 9   Culmen Length (mm)   342 non-null    float64\n",
      " 10  Culmen Depth (mm)    342 non-null    float64\n",
      " 11  Flipper Length (mm)  342 non-null    float64\n",
      " 12  Body Mass (g)        342 non-null    float64\n",
      " 13  Sex                  334 non-null    object \n",
      " 14  Delta 15 N (o/oo)    330 non-null    float64\n",
      " 15  Delta 13 C (o/oo)    331 non-null    float64\n",
      " 16  Comments             26 non-null     object \n",
      "dtypes: float64(6), int64(1), object(10)\n",
      "memory usage: 45.8+ KB\n"
     ]
    }
   ],
   "source": [
    "peng_lter.info()"
   ]
  },
  {
   "cell_type": "markdown",
   "metadata": {},
   "source": [
    "As comments column is heavily downsized and missing we can omit it<br>\n",
    "As this is heavily specie-related dataset lets clean the species column first<br>\n",
    "since there is only one Region we can drop it<br>\n",
    "since there is only one Stage we can drop it"
   ]
  },
  {
   "cell_type": "code",
   "execution_count": 7,
   "metadata": {},
   "outputs": [],
   "source": [
    "def preprocess(data:pd.DataFrame):\n",
    "   df = data.drop([\"Comments\"],axis=1)\n",
    "   df[\"Species\"] = df.Species.str.split(n=1,expand=True)[0]\n",
    "   df[['N','A']] =df['Individual ID'].str.split(r'(\\d+)',expand=True)[[1,3]]\n",
    "   df['Date Egg'] = pd.to_datetime(df['Date Egg'],format='mixed')\n",
    "   df.drop(columns=['Region','Stage','Individual ID','Sample Number'],inplace=True)\n",
    "   original_columns =df.columns.to_list()\n",
    "   df.columns = ['study','species','island','clutch','date','culmenL','culmenD','flipperL','bmass','sex','delta_15n','delta_13c','N','A']\n",
    "   df[['N','A']] =df[['N','A']].astype(np.float32)\n",
    "   return df"
   ]
  },
  {
   "cell_type": "markdown",
   "metadata": {},
   "source": [
    "<span style=\"font-family:Fira Code\">\n",
    "<font size=4>\n",
    "\n",
    "|Column Name|Description|Type|\n",
    "|:----------|:----------|:---|\n",
    "|StudyName|Sampling expedition from which data were collected, generated, etc.|categorical|\n",
    "|Sample Number|an integer denoting the continuous numbering sequence for each sample|categorical|\n",
    "|Species|a character string denoting the penguin species|categorical|\n",
    "|Region|a character string denoting the region of Palmer LTER sampling grid|categorical|\n",
    "|Island|a character string denoting the island near Palmer Station where samples were collected|categorical|\n",
    "|Stage|a character string denoting reproductive stage at sampling|categorical|\n",
    "|IndividualID|a character string denoting the unique ID for each individual in dataset [N,A]|categorical|\n",
    "|Clutch Completion|a character string denoting if the study nest observed with a full clutch, i.e., 2 eggs|categorical|\n",
    "|Date Egg|a date denoting the date study nest observed with 1 egg (sampled)|continuous|\n",
    "|Culmen Length|a number denoting the length of the dorsal ridge of a bird's bill (millimeters)|continuous|\n",
    "|Culmen Depth|a number denoting the depth of the dorsal ridge of a bird's bill (millimeters)|continuous|\n",
    "|Flipper Length|an integer denoting the length penguin flipper (millimeters)|continuous|\n",
    "|Body Mass|an integer denoting the penguin body mass (grams)|continuous|\n",
    "|Sex|a character string denoting the sex of an animal|categorical|\n",
    "|Delta 15 N|a number denoting the measure of the ratio of stable isotopes 15N:14N|continuous|\n",
    "|Delta 13 C|a number denoting the measure of the ratio of stable isotopes 13C:12C|continuous|"
   ]
  },
  {
   "cell_type": "code",
   "execution_count": 8,
   "metadata": {},
   "outputs": [],
   "source": [
    "temp_df = preprocess(peng_lter)"
   ]
  },
  {
   "cell_type": "code",
   "execution_count": 9,
   "metadata": {},
   "outputs": [
    {
     "data": {
      "text/html": [
       "<div>\n",
       "<style scoped>\n",
       "    .dataframe tbody tr th:only-of-type {\n",
       "        vertical-align: middle;\n",
       "    }\n",
       "\n",
       "    .dataframe tbody tr th {\n",
       "        vertical-align: top;\n",
       "    }\n",
       "\n",
       "    .dataframe thead th {\n",
       "        text-align: right;\n",
       "    }\n",
       "</style>\n",
       "<table border=\"1\" class=\"dataframe\">\n",
       "  <thead>\n",
       "    <tr style=\"text-align: right;\">\n",
       "      <th></th>\n",
       "      <th>study</th>\n",
       "      <th>species</th>\n",
       "      <th>island</th>\n",
       "      <th>clutch</th>\n",
       "      <th>date</th>\n",
       "      <th>culmenL</th>\n",
       "      <th>culmenD</th>\n",
       "      <th>flipperL</th>\n",
       "      <th>bmass</th>\n",
       "      <th>sex</th>\n",
       "      <th>delta_15n</th>\n",
       "      <th>delta_13c</th>\n",
       "      <th>N</th>\n",
       "      <th>A</th>\n",
       "    </tr>\n",
       "  </thead>\n",
       "  <tbody>\n",
       "    <tr>\n",
       "      <th>0</th>\n",
       "      <td>PAL0708</td>\n",
       "      <td>Adelie</td>\n",
       "      <td>Torgersen</td>\n",
       "      <td>Yes</td>\n",
       "      <td>2007-11-11</td>\n",
       "      <td>39.10</td>\n",
       "      <td>18.70</td>\n",
       "      <td>181.00</td>\n",
       "      <td>3750.00</td>\n",
       "      <td>MALE</td>\n",
       "      <td>NaN</td>\n",
       "      <td>NaN</td>\n",
       "      <td>1.00</td>\n",
       "      <td>1.00</td>\n",
       "    </tr>\n",
       "    <tr>\n",
       "      <th>1</th>\n",
       "      <td>PAL0708</td>\n",
       "      <td>Adelie</td>\n",
       "      <td>Torgersen</td>\n",
       "      <td>Yes</td>\n",
       "      <td>2007-11-11</td>\n",
       "      <td>39.50</td>\n",
       "      <td>17.40</td>\n",
       "      <td>186.00</td>\n",
       "      <td>3800.00</td>\n",
       "      <td>FEMALE</td>\n",
       "      <td>8.95</td>\n",
       "      <td>-24.69</td>\n",
       "      <td>1.00</td>\n",
       "      <td>2.00</td>\n",
       "    </tr>\n",
       "    <tr>\n",
       "      <th>2</th>\n",
       "      <td>PAL0708</td>\n",
       "      <td>Adelie</td>\n",
       "      <td>Torgersen</td>\n",
       "      <td>Yes</td>\n",
       "      <td>2007-11-16</td>\n",
       "      <td>40.30</td>\n",
       "      <td>18.00</td>\n",
       "      <td>195.00</td>\n",
       "      <td>3250.00</td>\n",
       "      <td>FEMALE</td>\n",
       "      <td>8.37</td>\n",
       "      <td>-25.33</td>\n",
       "      <td>2.00</td>\n",
       "      <td>1.00</td>\n",
       "    </tr>\n",
       "    <tr>\n",
       "      <th>3</th>\n",
       "      <td>PAL0708</td>\n",
       "      <td>Adelie</td>\n",
       "      <td>Torgersen</td>\n",
       "      <td>Yes</td>\n",
       "      <td>2007-11-16</td>\n",
       "      <td>NaN</td>\n",
       "      <td>NaN</td>\n",
       "      <td>NaN</td>\n",
       "      <td>NaN</td>\n",
       "      <td>NaN</td>\n",
       "      <td>NaN</td>\n",
       "      <td>NaN</td>\n",
       "      <td>2.00</td>\n",
       "      <td>2.00</td>\n",
       "    </tr>\n",
       "    <tr>\n",
       "      <th>4</th>\n",
       "      <td>PAL0708</td>\n",
       "      <td>Adelie</td>\n",
       "      <td>Torgersen</td>\n",
       "      <td>Yes</td>\n",
       "      <td>2007-11-16</td>\n",
       "      <td>36.70</td>\n",
       "      <td>19.30</td>\n",
       "      <td>193.00</td>\n",
       "      <td>3450.00</td>\n",
       "      <td>FEMALE</td>\n",
       "      <td>8.77</td>\n",
       "      <td>-25.32</td>\n",
       "      <td>3.00</td>\n",
       "      <td>1.00</td>\n",
       "    </tr>\n",
       "  </tbody>\n",
       "</table>\n",
       "</div>"
      ],
      "text/plain": [
       "     study species     island clutch       date  culmenL  culmenD  flipperL  \\\n",
       "0  PAL0708  Adelie  Torgersen    Yes 2007-11-11    39.10    18.70    181.00   \n",
       "1  PAL0708  Adelie  Torgersen    Yes 2007-11-11    39.50    17.40    186.00   \n",
       "2  PAL0708  Adelie  Torgersen    Yes 2007-11-16    40.30    18.00    195.00   \n",
       "3  PAL0708  Adelie  Torgersen    Yes 2007-11-16      NaN      NaN       NaN   \n",
       "4  PAL0708  Adelie  Torgersen    Yes 2007-11-16    36.70    19.30    193.00   \n",
       "\n",
       "    bmass     sex  delta_15n  delta_13c    N    A  \n",
       "0 3750.00    MALE        NaN        NaN 1.00 1.00  \n",
       "1 3800.00  FEMALE       8.95     -24.69 1.00 2.00  \n",
       "2 3250.00  FEMALE       8.37     -25.33 2.00 1.00  \n",
       "3     NaN     NaN        NaN        NaN 2.00 2.00  \n",
       "4 3450.00  FEMALE       8.77     -25.32 3.00 1.00  "
      ]
     },
     "execution_count": 9,
     "metadata": {},
     "output_type": "execute_result"
    }
   ],
   "source": [
    "temp_df.head()"
   ]
  },
  {
   "cell_type": "code",
   "execution_count": 10,
   "metadata": {},
   "outputs": [],
   "source": [
    "temp_df.loc[336,'sex'] = pd.NA\n",
    "temp_na = temp_df.dropna()"
   ]
  },
  {
   "cell_type": "markdown",
   "metadata": {},
   "source": [
    "<span style=\"font-family:Fira Code\">\n",
    "<h1>\n",
    "Univariate Analysis"
   ]
  },
  {
   "cell_type": "markdown",
   "metadata": {},
   "source": [
    "<span style=\"font-family:Fira Code\">\n",
    "<h2>\n",
    "Continuous"
   ]
  },
  {
   "cell_type": "markdown",
   "metadata": {},
   "source": [
    "<span style=\"font-family:Fira Code\">\n",
    "<h3>\n",
    "Date"
   ]
  },
  {
   "cell_type": "code",
   "execution_count": 11,
   "metadata": {},
   "outputs": [
    {
     "name": "stdout",
     "output_type": "stream",
     "text": [
      "Study:  PAL0708 and is carried on 2007\n",
      "Study:  PAL0809 and is carried on 2008\n",
      "Study:  PAL0910 and is carried on 2009\n"
     ]
    }
   ],
   "source": [
    "print(\"Study: \",temp_na.study.unique()[0],\"and is carried on\",temp_na.loc[temp_na.study == temp_na.study.unique()[0],'date'].dt.year.unique()[0])\n",
    "print(\"Study: \",temp_na.study.unique()[1],\"and is carried on\",temp_na.loc[temp_na.study == temp_na.study.unique()[1],'date'].dt.year.unique()[0])\n",
    "print(\"Study: \",temp_na.study.unique()[2],\"and is carried on\",temp_na.loc[temp_na.study == temp_na.study.unique()[2],'date'].dt.year.unique()[0])"
   ]
  },
  {
   "cell_type": "markdown",
   "metadata": {},
   "source": [
    "<span style=\"font-family:Fira Code\">\n",
    "There are three years [ 2007  2008  2009 ] and three studies which are carried on different times"
   ]
  },
  {
   "cell_type": "code",
   "execution_count": 12,
   "metadata": {},
   "outputs": [
    {
     "data": {
      "application/vnd.plotly.v1+json": {
       "config": {
        "plotlyServerURL": "https://plot.ly"
       },
       "data": [
        {
         "line": {
          "color": "#636EFA"
         },
         "mode": "lines",
         "name": "2007",
         "type": "scatter",
         "x": [
          "2007-11-11T00:00:00",
          "2007-11-16T00:00:00",
          "2007-11-16T00:00:00",
          "2007-11-16T00:00:00",
          "2007-11-15T00:00:00",
          "2007-11-15T00:00:00",
          "2007-11-16T00:00:00",
          "2007-11-12T00:00:00",
          "2007-11-12T00:00:00",
          "2007-11-16T00:00:00",
          "2007-11-16T00:00:00",
          "2007-11-12T00:00:00",
          "2007-11-12T00:00:00",
          "2007-11-12T00:00:00",
          "2007-11-12T00:00:00",
          "2007-11-10T00:00:00",
          "2007-11-10T00:00:00",
          "2007-11-12T00:00:00",
          "2007-11-12T00:00:00",
          "2007-11-10T00:00:00",
          "2007-11-10T00:00:00",
          "2007-11-09T00:00:00",
          "2007-11-09T00:00:00",
          "2007-11-09T00:00:00",
          "2007-11-09T00:00:00",
          "2007-11-16T00:00:00",
          "2007-11-16T00:00:00",
          "2007-11-16T00:00:00",
          "2007-11-16T00:00:00",
          "2007-11-13T00:00:00",
          "2007-11-16T00:00:00",
          "2007-11-19T00:00:00",
          "2007-11-19T00:00:00",
          "2007-11-16T00:00:00",
          "2007-11-16T00:00:00",
          "2007-11-13T00:00:00",
          "2007-11-13T00:00:00",
          "2007-11-19T00:00:00",
          "2007-11-19T00:00:00",
          "2007-11-26T00:00:00",
          "2007-11-26T00:00:00",
          "2007-11-21T00:00:00",
          "2007-11-21T00:00:00",
          "2007-11-28T00:00:00",
          "2007-11-28T00:00:00",
          "2007-11-21T00:00:00",
          "2007-11-21T00:00:00",
          "2007-11-28T00:00:00",
          "2007-11-28T00:00:00",
          "2007-11-26T00:00:00",
          "2007-11-26T00:00:00",
          "2007-11-22T00:00:00",
          "2007-11-22T00:00:00",
          "2007-11-30T00:00:00",
          "2007-11-30T00:00:00",
          "2007-11-30T00:00:00",
          "2007-11-30T00:00:00",
          "2007-12-03T00:00:00",
          "2007-12-03T00:00:00",
          "2007-11-28T00:00:00",
          "2007-11-28T00:00:00",
          "2007-11-28T00:00:00",
          "2007-11-28T00:00:00",
          "2007-11-27T00:00:00",
          "2007-11-27T00:00:00",
          "2007-11-27T00:00:00",
          "2007-11-27T00:00:00",
          "2007-11-18T00:00:00",
          "2007-11-18T00:00:00",
          "2007-11-27T00:00:00",
          "2007-11-27T00:00:00",
          "2007-11-27T00:00:00",
          "2007-11-27T00:00:00",
          "2007-11-27T00:00:00",
          "2007-11-27T00:00:00",
          "2007-11-29T00:00:00",
          "2007-11-29T00:00:00",
          "2007-12-03T00:00:00",
          "2007-12-03T00:00:00",
          "2007-11-27T00:00:00",
          "2007-11-27T00:00:00",
          "2007-11-27T00:00:00",
          "2007-11-27T00:00:00",
          "2007-11-27T00:00:00",
          "2007-11-27T00:00:00",
          "2007-11-27T00:00:00",
          "2007-11-27T00:00:00",
          "2007-11-29T00:00:00",
          "2007-11-29T00:00:00",
          "2007-11-29T00:00:00",
          "2007-11-29T00:00:00",
          "2007-11-29T00:00:00",
          "2007-11-29T00:00:00",
          "2007-12-03T00:00:00",
          "2007-12-03T00:00:00"
         ],
         "y": [
          1,
          1,
          1,
          1,
          1,
          1,
          1,
          1,
          1,
          1,
          1,
          1,
          1,
          1,
          1,
          1,
          1,
          1,
          1,
          1,
          1,
          1,
          1,
          1,
          1,
          1,
          1,
          1,
          1,
          1,
          1,
          1,
          1,
          1,
          1,
          1,
          1,
          1,
          1,
          1,
          1,
          1,
          1,
          1,
          1,
          1,
          1,
          1,
          1,
          1,
          1,
          1,
          1,
          1,
          1,
          1,
          1,
          1,
          1,
          1,
          1,
          1,
          1,
          1,
          1,
          1,
          1,
          1,
          1,
          1,
          1,
          1,
          1,
          1,
          1,
          1,
          1,
          1,
          1,
          1,
          1,
          1,
          1,
          1,
          1,
          1,
          1,
          1,
          1,
          1,
          1,
          1,
          1,
          1,
          1
         ]
        },
        {
         "marker": {
          "color": "#636EFA"
         },
         "mode": "markers",
         "name": "i",
         "showlegend": false,
         "type": "scatter",
         "x": [
          "2007-11-09T00:00:00",
          "2007-12-03T00:00:00"
         ],
         "y": [
          1,
          1
         ]
        },
        {
         "line": {
          "color": "#EF553B"
         },
         "mode": "lines",
         "name": "2008",
         "type": "scatter",
         "x": [
          "2008-11-06T00:00:00",
          "2008-11-06T00:00:00",
          "2008-11-09T00:00:00",
          "2008-11-09T00:00:00",
          "2008-11-09T00:00:00",
          "2008-11-09T00:00:00",
          "2008-11-15T00:00:00",
          "2008-11-15T00:00:00",
          "2008-11-15T00:00:00",
          "2008-11-15T00:00:00",
          "2008-11-13T00:00:00",
          "2008-11-13T00:00:00",
          "2008-11-13T00:00:00",
          "2008-11-13T00:00:00",
          "2008-11-13T00:00:00",
          "2008-11-13T00:00:00",
          "2008-11-06T00:00:00",
          "2008-11-06T00:00:00",
          "2008-11-11T00:00:00",
          "2008-11-11T00:00:00",
          "2008-11-14T00:00:00",
          "2008-11-14T00:00:00",
          "2008-11-11T00:00:00",
          "2008-11-11T00:00:00",
          "2008-11-08T00:00:00",
          "2008-11-08T00:00:00",
          "2008-11-06T00:00:00",
          "2008-11-06T00:00:00",
          "2008-11-09T00:00:00",
          "2008-11-09T00:00:00",
          "2008-11-02T00:00:00",
          "2008-11-02T00:00:00",
          "2008-11-07T00:00:00",
          "2008-11-07T00:00:00",
          "2008-11-17T00:00:00",
          "2008-11-17T00:00:00",
          "2008-11-08T00:00:00",
          "2008-11-08T00:00:00",
          "2008-11-08T00:00:00",
          "2008-11-08T00:00:00",
          "2008-11-14T00:00:00",
          "2008-11-14T00:00:00",
          "2008-11-05T00:00:00",
          "2008-11-05T00:00:00",
          "2008-11-17T00:00:00",
          "2008-11-17T00:00:00",
          "2008-11-08T00:00:00",
          "2008-11-08T00:00:00",
          "2008-11-10T00:00:00",
          "2008-11-10T00:00:00",
          "2008-11-25T00:00:00",
          "2008-11-25T00:00:00",
          "2008-11-14T00:00:00",
          "2008-11-14T00:00:00",
          "2008-11-24T00:00:00",
          "2008-11-24T00:00:00",
          "2008-11-24T00:00:00",
          "2008-11-24T00:00:00",
          "2008-11-25T00:00:00",
          "2008-11-25T00:00:00",
          "2008-11-14T00:00:00",
          "2008-11-14T00:00:00",
          "2008-11-24T00:00:00",
          "2008-11-24T00:00:00",
          "2008-11-24T00:00:00",
          "2008-11-24T00:00:00",
          "2008-11-14T00:00:00",
          "2008-11-14T00:00:00",
          "2008-11-13T00:00:00",
          "2008-11-13T00:00:00",
          "2008-11-02T00:00:00",
          "2008-11-02T00:00:00",
          "2008-11-09T00:00:00",
          "2008-11-09T00:00:00",
          "2008-11-04T00:00:00",
          "2008-11-04T00:00:00",
          "2008-11-04T00:00:00",
          "2008-11-04T00:00:00",
          "2008-11-03T00:00:00",
          "2008-11-03T00:00:00",
          "2008-11-09T00:00:00",
          "2008-11-09T00:00:00",
          "2008-11-02T00:00:00",
          "2008-11-02T00:00:00",
          "2008-11-04T00:00:00",
          "2008-11-04T00:00:00",
          "2008-11-04T00:00:00",
          "2008-11-04T00:00:00",
          "2008-11-04T00:00:00",
          "2008-11-04T00:00:00",
          "2008-11-03T00:00:00",
          "2008-11-03T00:00:00",
          "2008-11-06T00:00:00",
          "2008-11-06T00:00:00",
          "2008-11-03T00:00:00",
          "2008-11-03T00:00:00",
          "2008-11-13T00:00:00",
          "2008-11-13T00:00:00",
          "2008-11-04T00:00:00",
          "2008-11-04T00:00:00",
          "2008-11-09T00:00:00",
          "2008-11-13T00:00:00",
          "2008-11-13T00:00:00",
          "2008-11-03T00:00:00",
          "2008-11-03T00:00:00",
          "2008-11-09T00:00:00",
          "2008-11-09T00:00:00",
          "2008-11-06T00:00:00",
          "2008-11-06T00:00:00",
          "2008-11-06T00:00:00",
          "2008-11-06T00:00:00",
          "2008-11-09T00:00:00",
          "2008-11-09T00:00:00"
         ],
         "y": [
          1,
          1,
          1,
          1,
          1,
          1,
          1,
          1,
          1,
          1,
          1,
          1,
          1,
          1,
          1,
          1,
          1,
          1,
          1,
          1,
          1,
          1,
          1,
          1,
          1,
          1,
          1,
          1,
          1,
          1,
          1,
          1,
          1,
          1,
          1,
          1,
          1,
          1,
          1,
          1,
          1,
          1,
          1,
          1,
          1,
          1,
          1,
          1,
          1,
          1,
          1,
          1,
          1,
          1,
          1,
          1,
          1,
          1,
          1,
          1,
          1,
          1,
          1,
          1,
          1,
          1,
          1,
          1,
          1,
          1,
          1,
          1,
          1,
          1,
          1,
          1,
          1,
          1,
          1,
          1,
          1,
          1,
          1,
          1,
          1,
          1,
          1,
          1,
          1,
          1,
          1,
          1,
          1,
          1,
          1,
          1,
          1,
          1,
          1,
          1,
          1,
          1,
          1,
          1,
          1,
          1,
          1,
          1,
          1,
          1,
          1,
          1,
          1
         ]
        },
        {
         "marker": {
          "color": "#EF553B"
         },
         "mode": "markers",
         "name": "i",
         "showlegend": false,
         "type": "scatter",
         "x": [
          "2008-11-02T00:00:00",
          "2008-11-25T00:00:00"
         ],
         "y": [
          1,
          1
         ]
        },
        {
         "line": {
          "color": "#00CC96"
         },
         "mode": "lines",
         "name": "2009",
         "type": "scatter",
         "x": [
          "2009-11-09T00:00:00",
          "2009-11-09T00:00:00",
          "2009-11-15T00:00:00",
          "2009-11-15T00:00:00",
          "2009-11-15T00:00:00",
          "2009-11-15T00:00:00",
          "2009-11-15T00:00:00",
          "2009-11-15T00:00:00",
          "2009-11-20T00:00:00",
          "2009-11-20T00:00:00",
          "2009-11-12T00:00:00",
          "2009-11-12T00:00:00",
          "2009-11-15T00:00:00",
          "2009-11-15T00:00:00",
          "2009-11-17T00:00:00",
          "2009-11-17T00:00:00",
          "2009-11-18T00:00:00",
          "2009-11-18T00:00:00",
          "2009-11-22T00:00:00",
          "2009-11-22T00:00:00",
          "2009-11-17T00:00:00",
          "2009-11-17T00:00:00",
          "2009-11-16T00:00:00",
          "2009-11-16T00:00:00",
          "2009-11-18T00:00:00",
          "2009-11-18T00:00:00",
          "2009-11-21T00:00:00",
          "2009-11-21T00:00:00",
          "2009-11-18T00:00:00",
          "2009-11-18T00:00:00",
          "2009-11-23T00:00:00",
          "2009-11-23T00:00:00",
          "2009-11-10T00:00:00",
          "2009-11-10T00:00:00",
          "2009-11-13T00:00:00",
          "2009-11-13T00:00:00",
          "2009-11-16T00:00:00",
          "2009-11-16T00:00:00",
          "2009-11-16T00:00:00",
          "2009-11-16T00:00:00",
          "2009-11-14T00:00:00",
          "2009-11-14T00:00:00",
          "2009-11-16T00:00:00",
          "2009-11-16T00:00:00",
          "2009-11-16T00:00:00",
          "2009-11-16T00:00:00",
          "2009-11-13T00:00:00",
          "2009-11-13T00:00:00",
          "2009-11-17T00:00:00",
          "2009-11-17T00:00:00",
          "2009-11-17T00:00:00",
          "2009-11-17T00:00:00",
          "2009-11-17T00:00:00",
          "2009-11-17T00:00:00",
          "2009-11-27T00:00:00",
          "2009-11-27T00:00:00",
          "2009-11-23T00:00:00",
          "2009-11-23T00:00:00",
          "2009-11-21T00:00:00",
          "2009-11-21T00:00:00",
          "2009-11-23T00:00:00",
          "2009-11-23T00:00:00",
          "2009-11-27T00:00:00",
          "2009-11-27T00:00:00",
          "2009-11-21T00:00:00",
          "2009-11-21T00:00:00",
          "2009-11-21T00:00:00",
          "2009-11-21T00:00:00",
          "2009-11-27T00:00:00",
          "2009-11-19T00:00:00",
          "2009-11-19T00:00:00",
          "2009-11-21T00:00:00",
          "2009-11-21T00:00:00",
          "2009-11-21T00:00:00",
          "2009-11-21T00:00:00",
          "2009-11-18T00:00:00",
          "2009-11-18T00:00:00",
          "2009-11-15T00:00:00",
          "2009-11-15T00:00:00",
          "2009-11-22T00:00:00",
          "2009-11-22T00:00:00",
          "2009-11-20T00:00:00",
          "2009-11-20T00:00:00",
          "2009-11-25T00:00:00",
          "2009-11-25T00:00:00",
          "2009-11-25T00:00:00",
          "2009-11-25T00:00:00",
          "2009-12-01T00:00:00",
          "2009-12-01T00:00:00",
          "2009-11-27T00:00:00",
          "2009-11-27T00:00:00",
          "2009-11-18T00:00:00",
          "2009-11-18T00:00:00",
          "2009-11-18T00:00:00",
          "2009-11-18T00:00:00",
          "2009-11-22T00:00:00",
          "2009-11-22T00:00:00",
          "2009-11-18T00:00:00",
          "2009-11-18T00:00:00",
          "2009-12-01T00:00:00",
          "2009-11-10T00:00:00",
          "2009-11-10T00:00:00",
          "2009-11-09T00:00:00",
          "2009-11-09T00:00:00",
          "2009-11-20T00:00:00",
          "2009-11-20T00:00:00",
          "2009-11-27T00:00:00",
          "2009-11-27T00:00:00",
          "2009-11-25T00:00:00",
          "2009-11-25T00:00:00",
          "2009-12-01T00:00:00",
          "2009-12-01T00:00:00",
          "2009-11-22T00:00:00",
          "2009-11-22T00:00:00",
          "2009-11-22T00:00:00",
          "2009-11-22T00:00:00"
         ],
         "y": [
          1,
          1,
          1,
          1,
          1,
          1,
          1,
          1,
          1,
          1,
          1,
          1,
          1,
          1,
          1,
          1,
          1,
          1,
          1,
          1,
          1,
          1,
          1,
          1,
          1,
          1,
          1,
          1,
          1,
          1,
          1,
          1,
          1,
          1,
          1,
          1,
          1,
          1,
          1,
          1,
          1,
          1,
          1,
          1,
          1,
          1,
          1,
          1,
          1,
          1,
          1,
          1,
          1,
          1,
          1,
          1,
          1,
          1,
          1,
          1,
          1,
          1,
          1,
          1,
          1,
          1,
          1,
          1,
          1,
          1,
          1,
          1,
          1,
          1,
          1,
          1,
          1,
          1,
          1,
          1,
          1,
          1,
          1,
          1,
          1,
          1,
          1,
          1,
          1,
          1,
          1,
          1,
          1,
          1,
          1,
          1,
          1,
          1,
          1,
          1,
          1,
          1,
          1,
          1,
          1,
          1,
          1,
          1,
          1,
          1,
          1,
          1,
          1,
          1,
          1,
          1
         ]
        },
        {
         "marker": {
          "color": "#00CC96"
         },
         "mode": "markers",
         "name": "i",
         "showlegend": false,
         "type": "scatter",
         "x": [
          "2009-11-09T00:00:00",
          "2009-12-01T00:00:00"
         ],
         "y": [
          1,
          1
         ]
        }
       ],
       "layout": {
        "annotations": [
         {
          "bordercolor": "#636EFA",
          "borderpad": 5,
          "font": {
           "color": "#636EFA"
          },
          "showarrow": false,
          "text": "PAL0708",
          "x": "2007-11-21T17:25:53.684210432",
          "y": 0.65,
          "yref": "paper"
         },
         {
          "bordercolor": "#EF553B",
          "borderpad": 5,
          "font": {
           "color": "#EF553B"
          },
          "showarrow": false,
          "text": "PAL0809",
          "x": "2008-11-10T06:09:33.451327488",
          "y": 0.65,
          "yref": "paper"
         },
         {
          "bordercolor": "#00CC96",
          "borderpad": 5,
          "font": {
           "color": "#00CC96"
          },
          "showarrow": false,
          "text": "PAL0910",
          "x": "2009-11-19T04:57:55.862068992",
          "y": 0.65,
          "yref": "paper"
         }
        ],
        "template": {
         "data": {
          "bar": [
           {
            "error_x": {
             "color": "#f2f5fa"
            },
            "error_y": {
             "color": "#f2f5fa"
            },
            "marker": {
             "line": {
              "color": "rgb(17,17,17)",
              "width": 0.5
             },
             "pattern": {
              "fillmode": "overlay",
              "size": 10,
              "solidity": 0.2
             }
            },
            "type": "bar"
           }
          ],
          "barpolar": [
           {
            "marker": {
             "line": {
              "color": "rgb(17,17,17)",
              "width": 0.5
             },
             "pattern": {
              "fillmode": "overlay",
              "size": 10,
              "solidity": 0.2
             }
            },
            "type": "barpolar"
           }
          ],
          "carpet": [
           {
            "aaxis": {
             "endlinecolor": "#A2B1C6",
             "gridcolor": "#506784",
             "linecolor": "#506784",
             "minorgridcolor": "#506784",
             "startlinecolor": "#A2B1C6"
            },
            "baxis": {
             "endlinecolor": "#A2B1C6",
             "gridcolor": "#506784",
             "linecolor": "#506784",
             "minorgridcolor": "#506784",
             "startlinecolor": "#A2B1C6"
            },
            "type": "carpet"
           }
          ],
          "choropleth": [
           {
            "colorbar": {
             "outlinewidth": 0,
             "ticks": ""
            },
            "type": "choropleth"
           }
          ],
          "contour": [
           {
            "colorbar": {
             "outlinewidth": 0,
             "ticks": ""
            },
            "colorscale": [
             [
              0,
              "#0d0887"
             ],
             [
              0.1111111111111111,
              "#46039f"
             ],
             [
              0.2222222222222222,
              "#7201a8"
             ],
             [
              0.3333333333333333,
              "#9c179e"
             ],
             [
              0.4444444444444444,
              "#bd3786"
             ],
             [
              0.5555555555555556,
              "#d8576b"
             ],
             [
              0.6666666666666666,
              "#ed7953"
             ],
             [
              0.7777777777777778,
              "#fb9f3a"
             ],
             [
              0.8888888888888888,
              "#fdca26"
             ],
             [
              1,
              "#f0f921"
             ]
            ],
            "type": "contour"
           }
          ],
          "contourcarpet": [
           {
            "colorbar": {
             "outlinewidth": 0,
             "ticks": ""
            },
            "type": "contourcarpet"
           }
          ],
          "heatmap": [
           {
            "colorbar": {
             "outlinewidth": 0,
             "ticks": ""
            },
            "colorscale": [
             [
              0,
              "#0d0887"
             ],
             [
              0.1111111111111111,
              "#46039f"
             ],
             [
              0.2222222222222222,
              "#7201a8"
             ],
             [
              0.3333333333333333,
              "#9c179e"
             ],
             [
              0.4444444444444444,
              "#bd3786"
             ],
             [
              0.5555555555555556,
              "#d8576b"
             ],
             [
              0.6666666666666666,
              "#ed7953"
             ],
             [
              0.7777777777777778,
              "#fb9f3a"
             ],
             [
              0.8888888888888888,
              "#fdca26"
             ],
             [
              1,
              "#f0f921"
             ]
            ],
            "type": "heatmap"
           }
          ],
          "heatmapgl": [
           {
            "colorbar": {
             "outlinewidth": 0,
             "ticks": ""
            },
            "colorscale": [
             [
              0,
              "#0d0887"
             ],
             [
              0.1111111111111111,
              "#46039f"
             ],
             [
              0.2222222222222222,
              "#7201a8"
             ],
             [
              0.3333333333333333,
              "#9c179e"
             ],
             [
              0.4444444444444444,
              "#bd3786"
             ],
             [
              0.5555555555555556,
              "#d8576b"
             ],
             [
              0.6666666666666666,
              "#ed7953"
             ],
             [
              0.7777777777777778,
              "#fb9f3a"
             ],
             [
              0.8888888888888888,
              "#fdca26"
             ],
             [
              1,
              "#f0f921"
             ]
            ],
            "type": "heatmapgl"
           }
          ],
          "histogram": [
           {
            "marker": {
             "pattern": {
              "fillmode": "overlay",
              "size": 10,
              "solidity": 0.2
             }
            },
            "type": "histogram"
           }
          ],
          "histogram2d": [
           {
            "colorbar": {
             "outlinewidth": 0,
             "ticks": ""
            },
            "colorscale": [
             [
              0,
              "#0d0887"
             ],
             [
              0.1111111111111111,
              "#46039f"
             ],
             [
              0.2222222222222222,
              "#7201a8"
             ],
             [
              0.3333333333333333,
              "#9c179e"
             ],
             [
              0.4444444444444444,
              "#bd3786"
             ],
             [
              0.5555555555555556,
              "#d8576b"
             ],
             [
              0.6666666666666666,
              "#ed7953"
             ],
             [
              0.7777777777777778,
              "#fb9f3a"
             ],
             [
              0.8888888888888888,
              "#fdca26"
             ],
             [
              1,
              "#f0f921"
             ]
            ],
            "type": "histogram2d"
           }
          ],
          "histogram2dcontour": [
           {
            "colorbar": {
             "outlinewidth": 0,
             "ticks": ""
            },
            "colorscale": [
             [
              0,
              "#0d0887"
             ],
             [
              0.1111111111111111,
              "#46039f"
             ],
             [
              0.2222222222222222,
              "#7201a8"
             ],
             [
              0.3333333333333333,
              "#9c179e"
             ],
             [
              0.4444444444444444,
              "#bd3786"
             ],
             [
              0.5555555555555556,
              "#d8576b"
             ],
             [
              0.6666666666666666,
              "#ed7953"
             ],
             [
              0.7777777777777778,
              "#fb9f3a"
             ],
             [
              0.8888888888888888,
              "#fdca26"
             ],
             [
              1,
              "#f0f921"
             ]
            ],
            "type": "histogram2dcontour"
           }
          ],
          "mesh3d": [
           {
            "colorbar": {
             "outlinewidth": 0,
             "ticks": ""
            },
            "type": "mesh3d"
           }
          ],
          "parcoords": [
           {
            "line": {
             "colorbar": {
              "outlinewidth": 0,
              "ticks": ""
             }
            },
            "type": "parcoords"
           }
          ],
          "pie": [
           {
            "automargin": true,
            "type": "pie"
           }
          ],
          "scatter": [
           {
            "marker": {
             "line": {
              "color": "#283442"
             }
            },
            "type": "scatter"
           }
          ],
          "scatter3d": [
           {
            "line": {
             "colorbar": {
              "outlinewidth": 0,
              "ticks": ""
             }
            },
            "marker": {
             "colorbar": {
              "outlinewidth": 0,
              "ticks": ""
             }
            },
            "type": "scatter3d"
           }
          ],
          "scattercarpet": [
           {
            "marker": {
             "colorbar": {
              "outlinewidth": 0,
              "ticks": ""
             }
            },
            "type": "scattercarpet"
           }
          ],
          "scattergeo": [
           {
            "marker": {
             "colorbar": {
              "outlinewidth": 0,
              "ticks": ""
             }
            },
            "type": "scattergeo"
           }
          ],
          "scattergl": [
           {
            "marker": {
             "line": {
              "color": "#283442"
             }
            },
            "type": "scattergl"
           }
          ],
          "scattermapbox": [
           {
            "marker": {
             "colorbar": {
              "outlinewidth": 0,
              "ticks": ""
             }
            },
            "type": "scattermapbox"
           }
          ],
          "scatterpolar": [
           {
            "marker": {
             "colorbar": {
              "outlinewidth": 0,
              "ticks": ""
             }
            },
            "type": "scatterpolar"
           }
          ],
          "scatterpolargl": [
           {
            "marker": {
             "colorbar": {
              "outlinewidth": 0,
              "ticks": ""
             }
            },
            "type": "scatterpolargl"
           }
          ],
          "scatterternary": [
           {
            "marker": {
             "colorbar": {
              "outlinewidth": 0,
              "ticks": ""
             }
            },
            "type": "scatterternary"
           }
          ],
          "surface": [
           {
            "colorbar": {
             "outlinewidth": 0,
             "ticks": ""
            },
            "colorscale": [
             [
              0,
              "#0d0887"
             ],
             [
              0.1111111111111111,
              "#46039f"
             ],
             [
              0.2222222222222222,
              "#7201a8"
             ],
             [
              0.3333333333333333,
              "#9c179e"
             ],
             [
              0.4444444444444444,
              "#bd3786"
             ],
             [
              0.5555555555555556,
              "#d8576b"
             ],
             [
              0.6666666666666666,
              "#ed7953"
             ],
             [
              0.7777777777777778,
              "#fb9f3a"
             ],
             [
              0.8888888888888888,
              "#fdca26"
             ],
             [
              1,
              "#f0f921"
             ]
            ],
            "type": "surface"
           }
          ],
          "table": [
           {
            "cells": {
             "fill": {
              "color": "#506784"
             },
             "line": {
              "color": "rgb(17,17,17)"
             }
            },
            "header": {
             "fill": {
              "color": "#2a3f5f"
             },
             "line": {
              "color": "rgb(17,17,17)"
             }
            },
            "type": "table"
           }
          ]
         },
         "layout": {
          "annotationdefaults": {
           "arrowcolor": "#f2f5fa",
           "arrowhead": 0,
           "arrowwidth": 1
          },
          "autotypenumbers": "strict",
          "coloraxis": {
           "colorbar": {
            "outlinewidth": 0,
            "ticks": ""
           }
          },
          "colorscale": {
           "diverging": [
            [
             0,
             "#8e0152"
            ],
            [
             0.1,
             "#c51b7d"
            ],
            [
             0.2,
             "#de77ae"
            ],
            [
             0.3,
             "#f1b6da"
            ],
            [
             0.4,
             "#fde0ef"
            ],
            [
             0.5,
             "#f7f7f7"
            ],
            [
             0.6,
             "#e6f5d0"
            ],
            [
             0.7,
             "#b8e186"
            ],
            [
             0.8,
             "#7fbc41"
            ],
            [
             0.9,
             "#4d9221"
            ],
            [
             1,
             "#276419"
            ]
           ],
           "sequential": [
            [
             0,
             "#0d0887"
            ],
            [
             0.1111111111111111,
             "#46039f"
            ],
            [
             0.2222222222222222,
             "#7201a8"
            ],
            [
             0.3333333333333333,
             "#9c179e"
            ],
            [
             0.4444444444444444,
             "#bd3786"
            ],
            [
             0.5555555555555556,
             "#d8576b"
            ],
            [
             0.6666666666666666,
             "#ed7953"
            ],
            [
             0.7777777777777778,
             "#fb9f3a"
            ],
            [
             0.8888888888888888,
             "#fdca26"
            ],
            [
             1,
             "#f0f921"
            ]
           ],
           "sequentialminus": [
            [
             0,
             "#0d0887"
            ],
            [
             0.1111111111111111,
             "#46039f"
            ],
            [
             0.2222222222222222,
             "#7201a8"
            ],
            [
             0.3333333333333333,
             "#9c179e"
            ],
            [
             0.4444444444444444,
             "#bd3786"
            ],
            [
             0.5555555555555556,
             "#d8576b"
            ],
            [
             0.6666666666666666,
             "#ed7953"
            ],
            [
             0.7777777777777778,
             "#fb9f3a"
            ],
            [
             0.8888888888888888,
             "#fdca26"
            ],
            [
             1,
             "#f0f921"
            ]
           ]
          },
          "colorway": [
           "#636efa",
           "#EF553B",
           "#00cc96",
           "#ab63fa",
           "#FFA15A",
           "#19d3f3",
           "#FF6692",
           "#B6E880",
           "#FF97FF",
           "#FECB52"
          ],
          "font": {
           "color": "#f2f5fa",
           "family": "Fira Code",
           "size": 20
          },
          "geo": {
           "bgcolor": "rgb(17,17,17)",
           "lakecolor": "rgb(17,17,17)",
           "landcolor": "rgb(17,17,17)",
           "showlakes": true,
           "showland": true,
           "subunitcolor": "#506784"
          },
          "hoverlabel": {
           "align": "left"
          },
          "hovermode": "closest",
          "mapbox": {
           "style": "dark"
          },
          "paper_bgcolor": "rgb(17,17,17)",
          "plot_bgcolor": "rgb(17,17,17)",
          "polar": {
           "angularaxis": {
            "gridcolor": "#506784",
            "linecolor": "#506784",
            "ticks": ""
           },
           "bgcolor": "rgb(17,17,17)",
           "radialaxis": {
            "gridcolor": "#506784",
            "linecolor": "#506784",
            "ticks": ""
           }
          },
          "scene": {
           "xaxis": {
            "backgroundcolor": "rgb(17,17,17)",
            "gridcolor": "#506784",
            "gridwidth": 2,
            "linecolor": "#506784",
            "showbackground": true,
            "ticks": "",
            "zerolinecolor": "#C8D4E3"
           },
           "yaxis": {
            "backgroundcolor": "rgb(17,17,17)",
            "gridcolor": "#506784",
            "gridwidth": 2,
            "linecolor": "#506784",
            "showbackground": true,
            "ticks": "",
            "zerolinecolor": "#C8D4E3"
           },
           "zaxis": {
            "backgroundcolor": "rgb(17,17,17)",
            "gridcolor": "#506784",
            "gridwidth": 2,
            "linecolor": "#506784",
            "showbackground": true,
            "ticks": "",
            "zerolinecolor": "#C8D4E3"
           }
          },
          "shapedefaults": {
           "line": {
            "color": "#f2f5fa"
           }
          },
          "sliderdefaults": {
           "bgcolor": "#C8D4E3",
           "bordercolor": "rgb(17,17,17)",
           "borderwidth": 1,
           "tickwidth": 0
          },
          "ternary": {
           "aaxis": {
            "gridcolor": "#506784",
            "linecolor": "#506784",
            "ticks": ""
           },
           "baxis": {
            "gridcolor": "#506784",
            "linecolor": "#506784",
            "ticks": ""
           },
           "bgcolor": "rgb(17,17,17)",
           "caxis": {
            "gridcolor": "#506784",
            "linecolor": "#506784",
            "ticks": ""
           }
          },
          "title": {
           "x": 0.05
          },
          "updatemenudefaults": {
           "bgcolor": "#506784",
           "borderwidth": 0
          },
          "xaxis": {
           "automargin": true,
           "gridcolor": "#283442",
           "linecolor": "#506784",
           "ticks": "",
           "title": {
            "standoff": 15
           },
           "zerolinecolor": "#283442",
           "zerolinewidth": 2
          },
          "yaxis": {
           "automargin": true,
           "gridcolor": "#283442",
           "linecolor": "#506784",
           "ticks": "",
           "title": {
            "standoff": 15
           },
           "zerolinecolor": "#283442",
           "zerolinewidth": 2
          }
         }
        },
        "title": {
         "text": "Date Range"
        },
        "yaxis": {
         "showticklabels": false
        }
       }
      }
     },
     "metadata": {},
     "output_type": "display_data"
    }
   ],
   "source": [
    "years = temp_na.date.dt.year.unique()\n",
    "studies = temp_na.study.unique()\n",
    "colors_list = px.colors.qualitative.Plotly[:3]\n",
    "fig = go.Figure()\n",
    "for y,col,i in zip(years,colors_list,range(3)):\n",
    "    df = temp_na.loc[temp_na['date'].dt.year == y]\n",
    "    fig.add_trace(go.Scatter(x=df.date,y=[1]*df.shape[0],mode=\"lines\",name=f\"{y}\",line=dict(color=col)))\n",
    "    fig.add_trace(go.Scatter(x=np.r_[df.date.min(),df.date.max()],y=[1]*2,mode=\"markers\",name=\"i\",marker=dict(color=col)))\n",
    "    fig.add_annotation(text=f\"{studies[i]}\",x=df.date.mean(),y=0.65,yref=\"paper\",showarrow=False,font=dict(color=colors_list[i]),bordercolor=colors_list[i],borderpad=5)\n",
    "for trace in fig.data:\n",
    "    if trace['name'] == 'i':\n",
    "        trace['showlegend'] = False\n",
    "fig.update_layout(title=\"Date Range\")\n",
    "fig.update_yaxes(showticklabels=False)\n",
    "fig.show()"
   ]
  },
  {
   "cell_type": "markdown",
   "metadata": {},
   "source": [
    "<span style=\"font-family:Fira Code\">\n",
    "<h3>\n",
    "Physical Attributes"
   ]
  },
  {
   "cell_type": "code",
   "execution_count": 13,
   "metadata": {},
   "outputs": [
    {
     "data": {
      "text/html": [
       "<div>\n",
       "<style scoped>\n",
       "    .dataframe tbody tr th:only-of-type {\n",
       "        vertical-align: middle;\n",
       "    }\n",
       "\n",
       "    .dataframe tbody tr th {\n",
       "        vertical-align: top;\n",
       "    }\n",
       "\n",
       "    .dataframe thead th {\n",
       "        text-align: right;\n",
       "    }\n",
       "</style>\n",
       "<table border=\"1\" class=\"dataframe\">\n",
       "  <thead>\n",
       "    <tr style=\"text-align: right;\">\n",
       "      <th></th>\n",
       "      <th>culmenL</th>\n",
       "      <th>culmenD</th>\n",
       "      <th>flipperL</th>\n",
       "      <th>bmass</th>\n",
       "    </tr>\n",
       "  </thead>\n",
       "  <tbody>\n",
       "    <tr>\n",
       "      <th>count</th>\n",
       "      <td>324.00</td>\n",
       "      <td>324.00</td>\n",
       "      <td>324.00</td>\n",
       "      <td>324.00</td>\n",
       "    </tr>\n",
       "    <tr>\n",
       "      <th>mean</th>\n",
       "      <td>44.05</td>\n",
       "      <td>17.13</td>\n",
       "      <td>201.22</td>\n",
       "      <td>4213.97</td>\n",
       "    </tr>\n",
       "    <tr>\n",
       "      <th>std</th>\n",
       "      <td>5.48</td>\n",
       "      <td>1.97</td>\n",
       "      <td>13.96</td>\n",
       "      <td>809.28</td>\n",
       "    </tr>\n",
       "    <tr>\n",
       "      <th>min</th>\n",
       "      <td>32.10</td>\n",
       "      <td>13.10</td>\n",
       "      <td>172.00</td>\n",
       "      <td>2700.00</td>\n",
       "    </tr>\n",
       "    <tr>\n",
       "      <th>25%</th>\n",
       "      <td>39.50</td>\n",
       "      <td>15.57</td>\n",
       "      <td>190.00</td>\n",
       "      <td>3550.00</td>\n",
       "    </tr>\n",
       "    <tr>\n",
       "      <th>50%</th>\n",
       "      <td>44.95</td>\n",
       "      <td>17.30</td>\n",
       "      <td>197.00</td>\n",
       "      <td>4050.00</td>\n",
       "    </tr>\n",
       "    <tr>\n",
       "      <th>75%</th>\n",
       "      <td>48.70</td>\n",
       "      <td>18.60</td>\n",
       "      <td>213.00</td>\n",
       "      <td>4800.00</td>\n",
       "    </tr>\n",
       "    <tr>\n",
       "      <th>max</th>\n",
       "      <td>59.60</td>\n",
       "      <td>21.50</td>\n",
       "      <td>231.00</td>\n",
       "      <td>6300.00</td>\n",
       "    </tr>\n",
       "  </tbody>\n",
       "</table>\n",
       "</div>"
      ],
      "text/plain": [
       "       culmenL  culmenD  flipperL   bmass\n",
       "count   324.00   324.00    324.00  324.00\n",
       "mean     44.05    17.13    201.22 4213.97\n",
       "std       5.48     1.97     13.96  809.28\n",
       "min      32.10    13.10    172.00 2700.00\n",
       "25%      39.50    15.57    190.00 3550.00\n",
       "50%      44.95    17.30    197.00 4050.00\n",
       "75%      48.70    18.60    213.00 4800.00\n",
       "max      59.60    21.50    231.00 6300.00"
      ]
     },
     "execution_count": 13,
     "metadata": {},
     "output_type": "execute_result"
    }
   ],
   "source": [
    "phy_cols = ['culmenL','culmenD','flipperL','bmass']\n",
    "temp_na[phy_cols].describe()"
   ]
  },
  {
   "cell_type": "code",
   "execution_count": 14,
   "metadata": {},
   "outputs": [],
   "source": [
    "def plot_qq(_):\n",
    "    d = stats.zscore(temp_na[_].to_numpy())\n",
    "    data = sm.qqplot(d,line='45',fit=True,dist=stats.norm).gca().lines\n",
    "    plt.close()\n",
    "    return data\n",
    "\n",
    "def shapiro_test(_):\n",
    "    statistic,p_value = stats.shapiro(temp_na[_].to_numpy())\n",
    "    if p_value > 0.05:\n",
    "        return p_value,\"Shapiro Normality test H0 fail to reject\"\n",
    "    else:\n",
    "        return p_value,\"Shapiro Normality test H0 reject\""
   ]
  },
  {
   "cell_type": "code",
   "execution_count": 15,
   "metadata": {},
   "outputs": [
    {
     "data": {
      "application/vnd.plotly.v1+json": {
       "config": {
        "plotlyServerURL": "https://plot.ly"
       },
       "data": [
        {
         "marker": {
          "color": "#636EFA"
         },
         "type": "histogram",
         "x": [
          39.5,
          40.3,
          36.7,
          39.3,
          38.9,
          39.2,
          34.6,
          38.7,
          42.5,
          34.4,
          46,
          37.8,
          37.7,
          35.9,
          38.2,
          38.8,
          35.3,
          40.6,
          40.5,
          37.9,
          40.5,
          39.5,
          37.2,
          39.5,
          40.9,
          36.4,
          39.2,
          38.8,
          42.2,
          37.6,
          36.5,
          36,
          44.1,
          37,
          39.6,
          36,
          42.3,
          39.6,
          40.1,
          35,
          42,
          34.5,
          41.4,
          39,
          40.6,
          36.5,
          37.6,
          35.7,
          41.3,
          37.6,
          41.1,
          36.4,
          41.6,
          35.5,
          41.1,
          35.9,
          41.8,
          33.5,
          39.7,
          39.6,
          45.8,
          35.5,
          42.8,
          40.9,
          37.2,
          36.2,
          42.1,
          34.6,
          42.9,
          36.7,
          35.1,
          37.3,
          41.3,
          36.3,
          36.9,
          38.3,
          38.9,
          35.7,
          41.1,
          34,
          39.6,
          36.2,
          40.8,
          38.1,
          40.3,
          33.1,
          43.2,
          35,
          41,
          37.7,
          37.8,
          37.9,
          39.7,
          38.6,
          38.2,
          38.1,
          43.2,
          38.1,
          45.6,
          39.7,
          42.2,
          39.6,
          42.7,
          38.6,
          37.3,
          35.7,
          41.1,
          36.2,
          37.7,
          40.2,
          41.4,
          35.2,
          40.6,
          38.8,
          41.5,
          39,
          44.1,
          38.5,
          43.1,
          36.8,
          37.5,
          38.1,
          41.1,
          35.6,
          40.2,
          37,
          39.7,
          40.2,
          40.6,
          32.1,
          40.7,
          37.3,
          39,
          39.2,
          36.6,
          36,
          37.8,
          36,
          41.5,
          46.5,
          50,
          51.3,
          45.4,
          52.7,
          45.2,
          46.1,
          51.3,
          46,
          51.3,
          46.6,
          51.7,
          47,
          52,
          45.9,
          50.5,
          50.3,
          58,
          46.4,
          49.2,
          42.4,
          48.5,
          43.2,
          50.6,
          46.7,
          52,
          50.5,
          49.5,
          46.4,
          52.8,
          40.9,
          54.2,
          42.5,
          51,
          49.7,
          47.5,
          47.6,
          52,
          46.9,
          53.5,
          49,
          46.2,
          50.9,
          45.5,
          50.9,
          50.8,
          50.1,
          49,
          51.5,
          49.8,
          48.1,
          51.4,
          45.7,
          50.7,
          42.5,
          52.2,
          45.2,
          49.3,
          50.2,
          45.6,
          46.8,
          45.7,
          55.8,
          43.5,
          49.6,
          50.8,
          50.2,
          46.1,
          50,
          48.7,
          50,
          47.6,
          46.5,
          45.4,
          46.7,
          43.3,
          46.8,
          40.9,
          49,
          45.5,
          48.4,
          45.8,
          49.3,
          42,
          49.2,
          46.2,
          48.7,
          50.2,
          45.1,
          46.5,
          46.3,
          42.9,
          46.1,
          47.8,
          48.2,
          50,
          42.8,
          45.1,
          59.6,
          49.1,
          48.4,
          42.6,
          44.4,
          44,
          48.7,
          42.7,
          49.6,
          45.3,
          49.6,
          50.5,
          43.6,
          45.5,
          50.5,
          44.9,
          45.2,
          46.6,
          48.5,
          45.1,
          50.1,
          46.5,
          45,
          43.8,
          45.5,
          43.2,
          50.4,
          45.3,
          46.2,
          45.7,
          54.3,
          45.8,
          49.8,
          49.5,
          43.5,
          50.7,
          47.7,
          46.4,
          48.2,
          46.5,
          46.4,
          48.6,
          47.5,
          51.1,
          45.2,
          45.2,
          49.1,
          52.5,
          47.4,
          50,
          44.9,
          50.8,
          43.4,
          51.3,
          47.5,
          52.1,
          47.5,
          52.2,
          45.5,
          49.5,
          44.5,
          50.8,
          49.4,
          46.9,
          48.4,
          51.1,
          48.5,
          55.9,
          47.2,
          49.1,
          46.8,
          41.7,
          53.4,
          43.3,
          48.1,
          50.5,
          49.8,
          43.5,
          51.5,
          46.2,
          55.1,
          48.8,
          47.2,
          46.8,
          50.4,
          45.2,
          49.9
         ],
         "xaxis": "x",
         "yaxis": "y"
        },
        {
         "marker": {
          "color": "#636EFA"
         },
         "mode": "markers",
         "showlegend": false,
         "type": "scatter",
         "x": [
          -2.7394693011353435,
          -2.5031972666378133,
          -2.356228884885076,
          -2.247385754686027,
          -2.160044423184283,
          -2.0866136000540965,
          -2.0229633809989873,
          -1.966587642839119,
          -1.9158466693962373,
          -1.8696066471189026,
          -1.827049629469658,
          -1.7875653879202458,
          -1.75068607125217,
          -1.7160447833608958,
          -1.6833482640036077,
          -1.6523582633698055,
          -1.6228784805249126,
          -1.5947451783462447,
          -1.5678202959084404,
          -1.5419862988544464,
          -1.5171422652485793,
          -1.4932008664512426,
          -1.4700860074244941,
          -1.4477309603333306,
          -1.4260768722728474,
          -1.4050715603096329,
          -1.3846685297022652,
          -1.3648261673056918,
          -1.3455070738160948,
          -1.3266775070350318,
          -1.3083069146403565,
          -1.290367539673776,
          -1.2728340855266451,
          -1.2556834299331134,
          -1.23889437958136,
          -1.2224474585867124,
          -1.2063247253493694,
          -1.1905096133284863,
          -1.1749867920660904,
          -1.1597420454353515,
          -1.1447621646036692,
          -1.1300348536185383,
          -1.1155486458640713,
          -1.1012928299140692,
          -1.0872573835362347,
          -1.0734329147910218,
          -1.059810609325424,
          -1.046382183092732,
          -1.033139839838658,
          -1.0200762327862014,
          -1.0071844300291466,
          -0.994457883209753,
          -0.9818903991119535,
          -0.9694761138489097,
          -0.9572094693644218,
          -0.9450851920025287,
          -0.9330982729296341,
          -0.9212439502193468,
          -0.9095176924325932,
          -0.8979151835449687,
          -0.886432309090155,
          -0.8750651434029384,
          -0.8638099378582048,
          -0.852663110013538,
          -0.8416212335729142,
          -0.8306810290976713,
          -0.8198393553985739,
          -0.809093201549562,
          -0.7984396794697326,
          -0.7878760170254153,
          -0.7773995516089012,
          -0.7670077241545666,
          -0.7566980735568707,
          -0.746468231458026,
          -0.7363159173761294,
          -0.7262389341471894,
          -0.716235163656892,
          -0.7063025628400874,
          -0.696439159927908,
          -0.6866430509241719,
          -0.6769123962942973,
          -0.6672454178513608,
          -0.6576403958252243,
          -0.6480956661018106,
          -0.6386096176206588,
          -0.6291806899198484,
          -0.6198073708182489,
          -0.6104881942258346,
          -0.6012217380735386,
          -0.5920066223547552,
          -0.5828415072712162,
          -0.5737250914765053,
          -0.564656110410974,
          -0.5556333347222873,
          -0.5466555687662383,
          -0.5377216491828647,
          -0.5288304435432458,
          -0.5199808490626915,
          -0.5111717913763268,
          -0.5024022233733555,
          -0.493671124086536,
          -0.4849774976336414,
          -0.47632037220788664,
          -0.46769879911450823,
          -0.4591118518508644,
          -0.45055862522759604,
          -0.44203823452854335,
          -0.4335498147072649,
          -0.4250925196181335,
          -0.41666552128011664,
          -0.4082680091714618,
          -0.39989918955361464,
          -0.39155828482280386,
          -0.3832445328878139,
          -0.3749571865725573,
          -0.36669551304214115,
          -0.3584587932511938,
          -0.3502463214132924,
          -0.3420574044903942,
          -0.33389136170123906,
          -0.32574752404774643,
          -0.31762523385848135,
          -0.3095238443483213,
          -0.30144271919349197,
          -0.29338123212119327,
          -0.2853387665130725,
          -0.2773147150218403,
          -0.26930847920036516,
          -0.2613194691426085,
          -0.2533471031357997,
          -0.2453908073232792,
          -0.23745001537746058,
          -0.22952416818239713,
          -0.2216127135254519,
          -0.2137151057976028,
          -0.20583080570192913,
          -0.19795927996984825,
          -0.19010000108469102,
          -0.18225244701221852,
          -0.17441610093770257,
          -0.16659045100920616,
          -0.1587749900867137,
          -0.15096921549677725,
          -0.14317262879235282,
          -0.1353847355175167,
          -0.12760504497676112,
          -0.11983307000857707,
          -0.11206832676304594,
          -0.10431033448316418,
          -0.09655861528963908,
          -0.08881269396889788,
          -0.08107209776405953,
          -0.07333635616862769,
          -0.0656050007226638,
          -0.05787756481121016,
          -0.05015358346473367,
          -0.0424325931613663,
          -0.034714131630724,
          -0.026997737659084496,
          -0.019282950895712157,
          -0.011569311660117662,
          -0.0038563607500418954,
          0.0038563607500417562,
          0.011569311660117524,
          0.019282950895712157,
          0.026997737659084496,
          0.034714131630724,
          0.0424325931613663,
          0.05015358346473367,
          0.0578775648112103,
          0.06560500072266394,
          0.07333635616862783,
          0.0810720977640594,
          0.08881269396889774,
          0.09655861528963908,
          0.10431033448316418,
          0.11206832676304594,
          0.11983307000857707,
          0.12760504497676112,
          0.13538473551751684,
          0.14317262879235296,
          0.1509692154967774,
          0.15877499008671356,
          0.16659045100920603,
          0.17441610093770257,
          0.18225244701221852,
          0.19010000108469102,
          0.19795927996984825,
          0.20583080570192913,
          0.21371510579760294,
          0.22161271352545203,
          0.22952416818239726,
          0.23745001537746044,
          0.24539080732327906,
          0.2533471031357997,
          0.2613194691426085,
          0.26930847920036516,
          0.2773147150218403,
          0.2853387665130725,
          0.29338123212119344,
          0.30144271919349214,
          0.30952384434832114,
          0.3176252338584812,
          0.3257475240477463,
          0.33389136170123906,
          0.3420574044903942,
          0.3502463214132924,
          0.3584587932511938,
          0.36669551304214115,
          0.37495718657255744,
          0.383244532887814,
          0.39155828482280375,
          0.3998991895536145,
          0.40826800917146167,
          0.41666552128011664,
          0.4250925196181335,
          0.4335498147072649,
          0.44203823452854335,
          0.45055862522759604,
          0.45911185185086456,
          0.4676987991145084,
          0.4763203722078865,
          0.4849774976336413,
          0.4936711240865359,
          0.5024022233733555,
          0.5111717913763268,
          0.5199808490626915,
          0.5288304435432458,
          0.5377216491828648,
          0.5466555687662384,
          0.5556333347222874,
          0.5646561104109737,
          0.5737250914765051,
          0.5828415072712162,
          0.5920066223547552,
          0.6012217380735386,
          0.6104881942258346,
          0.6198073708182489,
          0.6291806899198488,
          0.6386096176206589,
          0.6480956661018107,
          0.657640395825224,
          0.6672454178513606,
          0.6769123962942973,
          0.6866430509241719,
          0.696439159927908,
          0.7063025628400874,
          0.716235163656892,
          0.7262389341471894,
          0.7363159173761297,
          0.7464682314580263,
          0.7566980735568705,
          0.7670077241545666,
          0.7773995516089012,
          0.7878760170254153,
          0.7984396794697326,
          0.809093201549562,
          0.8198393553985739,
          0.8306810290976713,
          0.8416212335729143,
          0.8526631100135379,
          0.8638099378582046,
          0.8750651434029384,
          0.886432309090155,
          0.8979151835449687,
          0.9095176924325932,
          0.9212439502193468,
          0.9330982729296341,
          0.9450851920025287,
          0.9572094693644219,
          0.9694761138489095,
          0.9818903991119531,
          0.994457883209753,
          1.0071844300291466,
          1.0200762327862014,
          1.033139839838658,
          1.046382183092732,
          1.059810609325424,
          1.0734329147910218,
          1.0872573835362356,
          1.1012928299140692,
          1.1155486458640713,
          1.1300348536185383,
          1.1447621646036685,
          1.1597420454353515,
          1.1749867920660904,
          1.1905096133284863,
          1.2063247253493699,
          1.2224474585867133,
          1.23889437958136,
          1.255683429933113,
          1.2728340855266451,
          1.290367539673776,
          1.3083069146403565,
          1.3266775070350318,
          1.3455070738160948,
          1.3648261673056923,
          1.3846685297022652,
          1.4050715603096329,
          1.4260768722728474,
          1.44773096033333,
          1.4700860074244935,
          1.493200866451242,
          1.5171422652485793,
          1.5419862988544464,
          1.5678202959084404,
          1.5947451783462454,
          1.622878480524913,
          1.6523582633698064,
          1.6833482640036084,
          1.7160447833608958,
          1.7506860712521692,
          1.7875653879202453,
          1.827049629469658,
          1.8696066471189026,
          1.9158466693962373,
          1.9665876428391196,
          2.0229633809989878,
          2.0866136000540974,
          2.1600444231842837,
          2.247385754686025,
          2.3562288848850748,
          2.5031972666378124,
          2.7394693011353426
         ],
         "xaxis": "x2",
         "y": [
          -2.184397445958921,
          -2.001654598869998,
          -1.9285574600344286,
          -1.837186036489967,
          -1.764088897654398,
          -1.7458146129455054,
          -1.727540328236613,
          -1.727540328236613,
          -1.654443189401044,
          -1.654443189401044,
          -1.6361689046921515,
          -1.617894619983259,
          -1.5996203352743676,
          -1.5630717658565825,
          -1.5630717658565825,
          -1.5447974811476899,
          -1.5265231964387973,
          -1.5265231964387973,
          -1.5265231964387973,
          -1.4899746270210135,
          -1.4899746270210135,
          -1.4717003423121209,
          -1.4717003423121209,
          -1.4717003423121209,
          -1.4717003423121209,
          -1.4351517728943357,
          -1.4351517728943357,
          -1.4351517728943357,
          -1.4168774881854445,
          -1.3986032034765519,
          -1.3986032034765519,
          -1.3803289187676593,
          -1.3803289187676593,
          -1.3620546340587667,
          -1.3437803493498741,
          -1.3437803493498741,
          -1.3255060646409829,
          -1.3072317799320903,
          -1.2889574952231977,
          -1.2889574952231977,
          -1.2524089258054125,
          -1.2524089258054125,
          -1.2341346410965213,
          -1.2341346410965213,
          -1.2341346410965213,
          -1.197586071678736,
          -1.1793117869698435,
          -1.1793117869698435,
          -1.1793117869698435,
          -1.161037502260951,
          -1.161037502260951,
          -1.161037502260951,
          -1.1427632175520597,
          -1.1427632175520597,
          -1.1427632175520597,
          -1.124488932843167,
          -1.124488932843167,
          -1.087940363425382,
          -1.087940363425382,
          -1.087940363425382,
          -1.087940363425382,
          -1.0696660787164893,
          -1.0696660787164893,
          -1.051391794007598,
          -1.014843224589813,
          -0.9965689398809204,
          -0.9965689398809204,
          -0.9782946551720278,
          -0.9600203704631366,
          -0.9600203704631366,
          -0.9600203704631366,
          -0.941746085754244,
          -0.941746085754244,
          -0.9234718010453514,
          -0.9234718010453514,
          -0.9234718010453514,
          -0.8869232316275663,
          -0.8869232316275663,
          -0.8869232316275663,
          -0.868648946918675,
          -0.8321003775008898,
          -0.8321003775008898,
          -0.8321003775008898,
          -0.8138260927919972,
          -0.8138260927919972,
          -0.8138260927919972,
          -0.8138260927919972,
          -0.8138260927919972,
          -0.7955518080831047,
          -0.7955518080831047,
          -0.7955518080831047,
          -0.7955518080831047,
          -0.7224546692475357,
          -0.7041803845386431,
          -0.7041803845386431,
          -0.7041803845386431,
          -0.6859060998297518,
          -0.6859060998297518,
          -0.6493575304119666,
          -0.6493575304119666,
          -0.6310832457030741,
          -0.6310832457030741,
          -0.6310832457030741,
          -0.6310832457030741,
          -0.6128089609941816,
          -0.5945346762852902,
          -0.5762603915763976,
          -0.5762603915763976,
          -0.5762603915763976,
          -0.5762603915763976,
          -0.5579861068675052,
          -0.5397118221586126,
          -0.5397118221586126,
          -0.5397118221586126,
          -0.5397118221586126,
          -0.5397118221586126,
          -0.5031632527408287,
          -0.5031632527408287,
          -0.4848889680319361,
          -0.4848889680319361,
          -0.46661468332304357,
          -0.46661468332304357,
          -0.448340398614151,
          -0.4300661139052584,
          -0.41179182919636714,
          -0.375243259778582,
          -0.375243259778582,
          -0.3569689750696894,
          -0.3386946903607968,
          -0.3386946903607968,
          -0.32042040565190555,
          -0.30214612094301296,
          -0.2838718362341204,
          -0.2838718362341204,
          -0.2838718362341204,
          -0.26559755152522785,
          -0.24732326681633526,
          -0.24732326681633526,
          -0.22904898210744398,
          -0.22904898210744398,
          -0.2107746973985514,
          -0.2107746973985514,
          -0.17422612798076625,
          -0.15595184327187367,
          -0.15595184327187367,
          -0.15595184327187367,
          -0.15595184327187367,
          -0.13767755856298242,
          -0.13767755856298242,
          -0.11940327385408983,
          -0.10112898914519726,
          -0.10112898914519726,
          -0.10112898914519726,
          -0.08285470443630469,
          -0.046306135018520836,
          -0.009757565600735686,
          0.008516719108156889,
          0.008516719108156889,
          0.06333957323483332,
          0.08161385794372589,
          0.1547109967792949,
          0.1547109967792949,
          0.17298528148818745,
          0.19125956619708004,
          0.19125956619708004,
          0.19125956619708004,
          0.2095338509059726,
          0.2095338509059726,
          0.2095338509059726,
          0.2095338509059726,
          0.2095338509059726,
          0.2095338509059726,
          0.22780813561486388,
          0.22780813561486388,
          0.24608242032375646,
          0.24608242032375646,
          0.264356705032649,
          0.264356705032649,
          0.264356705032649,
          0.264356705032649,
          0.264356705032649,
          0.2826309897415416,
          0.2826309897415416,
          0.3009052744504342,
          0.3009052744504342,
          0.3009052744504342,
          0.31917955915932544,
          0.31917955915932544,
          0.31917955915932544,
          0.33745384386821803,
          0.3557281285771106,
          0.3557281285771106,
          0.3740024132860032,
          0.3740024132860032,
          0.3740024132860032,
          0.39227669799489573,
          0.39227669799489573,
          0.39227669799489573,
          0.39227669799489573,
          0.41055098270378704,
          0.4288252674126796,
          0.4288252674126796,
          0.4288252674126796,
          0.4288252674126796,
          0.44709955212157215,
          0.44709955212157215,
          0.44709955212157215,
          0.44709955212157215,
          0.44709955212157215,
          0.46537383683046474,
          0.46537383683046474,
          0.4836481215393573,
          0.4836481215393573,
          0.5019224062482486,
          0.5019224062482486,
          0.5019224062482486,
          0.5019224062482486,
          0.5201966909571412,
          0.5201966909571412,
          0.5384709756660337,
          0.5750195450838189,
          0.5750195450838189,
          0.6115681145016028,
          0.6298423992104953,
          0.6298423992104953,
          0.6298423992104953,
          0.6298423992104953,
          0.6481166839193879,
          0.6481166839193879,
          0.6663909686282805,
          0.6846652533371718,
          0.7394881074638494,
          0.7394881074638494,
          0.757762392172742,
          0.757762392172742,
          0.7943109615905258,
          0.7943109615905258,
          0.7943109615905258,
          0.8125852462994184,
          0.8125852462994184,
          0.8125852462994184,
          0.830859531008311,
          0.8491338157172036,
          0.8491338157172036,
          0.8491338157172036,
          0.8674081004260948,
          0.90395666984388,
          0.90395666984388,
          0.90395666984388,
          0.9222309545527726,
          0.9222309545527726,
          0.9222309545527726,
          0.9405052392616652,
          0.9405052392616652,
          0.9587795239705564,
          0.9587795239705564,
          0.977053808679449,
          0.9953280933883416,
          0.9953280933883416,
          0.9953280933883416,
          1.013602378097234,
          1.013602378097234,
          1.013602378097234,
          1.0318766628061267,
          1.050150947515018,
          1.050150947515018,
          1.050150947515018,
          1.0684252322239105,
          1.086699516932803,
          1.086699516932803,
          1.086699516932803,
          1.086699516932803,
          1.086699516932803,
          1.1049738016416957,
          1.1049738016416957,
          1.1232480863505883,
          1.1232480863505883,
          1.1232480863505883,
          1.1415223710594795,
          1.159796655768372,
          1.159796655768372,
          1.1780709404772647,
          1.1780709404772647,
          1.1780709404772647,
          1.1780709404772647,
          1.1780709404772647,
          1.1963452251861573,
          1.2146195098950499,
          1.2146195098950499,
          1.232893794603941,
          1.232893794603941,
          1.232893794603941,
          1.232893794603941,
          1.2511680793128337,
          1.2511680793128337,
          1.2694423640217263,
          1.2877166487306189,
          1.2877166487306189,
          1.3242652181484027,
          1.3242652181484027,
          1.3242652181484027,
          1.3242652181484027,
          1.3425395028572953,
          1.3608137875661879,
          1.3608137875661879,
          1.397362356983973,
          1.4521852111106495,
          1.4521852111106495,
          1.4521852111106495,
          1.470459495819542,
          1.4887337805284346,
          1.4887337805284346,
          1.543556634655111,
          1.5801052040728962,
          1.5983794887817875,
          1.7080251970351417,
          1.7262994817440342,
          1.8542194747062808,
          1.8724937594151723,
          2.0186880370863114,
          2.146608030048557,
          2.1648823147574494,
          2.548642293644188,
          2.8410308489864655
         ],
         "yaxis": "y2"
        },
        {
         "line": {
          "color": "white"
         },
         "mode": "lines",
         "showlegend": false,
         "type": "scatter",
         "x": [
          -2.8490480731807573,
          3.092302263733735
         ],
         "xaxis": "x2",
         "y": [
          -2.8490480731807573,
          3.092302263733735
         ],
         "yaxis": "y2"
        },
        {
         "marker": {
          "color": "#EF553B"
         },
         "type": "histogram",
         "x": [
          17.4,
          18,
          19.3,
          20.6,
          17.8,
          19.6,
          21.1,
          19,
          20.7,
          18.4,
          21.5,
          18.3,
          18.7,
          19.2,
          18.1,
          17.2,
          18.9,
          18.6,
          17.9,
          18.6,
          18.9,
          16.7,
          18.1,
          17.8,
          18.9,
          17,
          21.1,
          20,
          18.5,
          19.3,
          18,
          18.5,
          19.7,
          16.9,
          18.8,
          17.9,
          21.2,
          17.7,
          18.9,
          17.9,
          19.5,
          18.1,
          18.6,
          17.5,
          18.8,
          16.6,
          19.1,
          16.9,
          21.1,
          17,
          18.2,
          17.1,
          18,
          16.2,
          19.1,
          16.6,
          19.4,
          19,
          18.4,
          17.2,
          18.9,
          17.5,
          18.5,
          16.8,
          19.4,
          16.1,
          19.1,
          17.2,
          17.6,
          18.8,
          19.4,
          17.8,
          20.3,
          19.5,
          18.6,
          19.2,
          18.8,
          18,
          18.1,
          17.1,
          18.1,
          17.3,
          18.9,
          18.6,
          18.5,
          16.1,
          18.5,
          17.9,
          20,
          16,
          20,
          18.6,
          18.9,
          17.2,
          20,
          17,
          19,
          16.5,
          20.3,
          17.7,
          19.5,
          20.7,
          18.3,
          17,
          20.5,
          17,
          18.6,
          17.2,
          19.8,
          17,
          18.5,
          15.9,
          19,
          17.6,
          18.3,
          17.1,
          18,
          17.9,
          19.2,
          18.5,
          18.5,
          17.6,
          17.5,
          17.5,
          20.1,
          16.5,
          17.9,
          17.1,
          17.2,
          15.5,
          17,
          16.8,
          18.7,
          18.6,
          18.4,
          17.8,
          18.1,
          17.1,
          18.5,
          17.9,
          19.5,
          19.2,
          18.7,
          19.8,
          17.8,
          18.2,
          18.2,
          18.9,
          19.9,
          17.8,
          20.3,
          17.3,
          18.1,
          17.1,
          19.6,
          20,
          17.8,
          18.6,
          18.2,
          17.3,
          17.5,
          16.6,
          19.4,
          17.9,
          19,
          18.4,
          19,
          17.8,
          20,
          16.6,
          20.8,
          16.7,
          18.8,
          18.6,
          16.8,
          18.3,
          20.7,
          16.6,
          19.9,
          19.5,
          17.5,
          19.1,
          17,
          17.9,
          18.5,
          17.9,
          19.6,
          18.7,
          17.3,
          16.4,
          19,
          17.3,
          19.7,
          17.3,
          18.8,
          16.6,
          19.9,
          18.8,
          19.4,
          16.5,
          17,
          19.8,
          18.1,
          18.2,
          19,
          18.7,
          13.2,
          16.3,
          14.1,
          15.2,
          14.5,
          13.5,
          14.6,
          15.3,
          13.4,
          15.4,
          13.7,
          16.1,
          13.7,
          14.6,
          14.6,
          15.7,
          13.5,
          15.2,
          14.5,
          15.1,
          14.3,
          14.5,
          14.5,
          15.8,
          13.1,
          15.1,
          15,
          14.3,
          15.3,
          14.2,
          14.5,
          17,
          14.8,
          16.3,
          13.7,
          17.3,
          13.6,
          15.7,
          13.7,
          16,
          13.7,
          15,
          15.9,
          13.9,
          13.9,
          15.9,
          13.3,
          15.8,
          14.2,
          14.1,
          14.4,
          15,
          14.4,
          15.4,
          13.9,
          15,
          14.5,
          15.3,
          13.8,
          14.9,
          13.9,
          15.7,
          14.2,
          16.8,
          16.2,
          14.2,
          15,
          15,
          15.6,
          15.6,
          14.8,
          15,
          16,
          14.2,
          16.3,
          13.8,
          16.4,
          14.5,
          15.6,
          14.6,
          15.9,
          13.8,
          17.3,
          14.4,
          14.2,
          14,
          17,
          15,
          17.1,
          14.5,
          16.1,
          14.7,
          15.7,
          15.8,
          14.6,
          14.4,
          16.5,
          15,
          17,
          15.5,
          15,
          16.1,
          14.7,
          15.8,
          14,
          15.1,
          15.2,
          15.9,
          15.2,
          16.3,
          14.1,
          16,
          16.2,
          13.7,
          14.3,
          15.7,
          14.8,
          16.1
         ],
         "xaxis": "x4",
         "yaxis": "y4"
        },
        {
         "marker": {
          "color": "#EF553B"
         },
         "mode": "markers",
         "showlegend": false,
         "type": "scatter",
         "x": [
          -2.7394693011353435,
          -2.5031972666378133,
          -2.356228884885076,
          -2.247385754686027,
          -2.160044423184283,
          -2.0866136000540965,
          -2.0229633809989873,
          -1.966587642839119,
          -1.9158466693962373,
          -1.8696066471189026,
          -1.827049629469658,
          -1.7875653879202458,
          -1.75068607125217,
          -1.7160447833608958,
          -1.6833482640036077,
          -1.6523582633698055,
          -1.6228784805249126,
          -1.5947451783462447,
          -1.5678202959084404,
          -1.5419862988544464,
          -1.5171422652485793,
          -1.4932008664512426,
          -1.4700860074244941,
          -1.4477309603333306,
          -1.4260768722728474,
          -1.4050715603096329,
          -1.3846685297022652,
          -1.3648261673056918,
          -1.3455070738160948,
          -1.3266775070350318,
          -1.3083069146403565,
          -1.290367539673776,
          -1.2728340855266451,
          -1.2556834299331134,
          -1.23889437958136,
          -1.2224474585867124,
          -1.2063247253493694,
          -1.1905096133284863,
          -1.1749867920660904,
          -1.1597420454353515,
          -1.1447621646036692,
          -1.1300348536185383,
          -1.1155486458640713,
          -1.1012928299140692,
          -1.0872573835362347,
          -1.0734329147910218,
          -1.059810609325424,
          -1.046382183092732,
          -1.033139839838658,
          -1.0200762327862014,
          -1.0071844300291466,
          -0.994457883209753,
          -0.9818903991119535,
          -0.9694761138489097,
          -0.9572094693644218,
          -0.9450851920025287,
          -0.9330982729296341,
          -0.9212439502193468,
          -0.9095176924325932,
          -0.8979151835449687,
          -0.886432309090155,
          -0.8750651434029384,
          -0.8638099378582048,
          -0.852663110013538,
          -0.8416212335729142,
          -0.8306810290976713,
          -0.8198393553985739,
          -0.809093201549562,
          -0.7984396794697326,
          -0.7878760170254153,
          -0.7773995516089012,
          -0.7670077241545666,
          -0.7566980735568707,
          -0.746468231458026,
          -0.7363159173761294,
          -0.7262389341471894,
          -0.716235163656892,
          -0.7063025628400874,
          -0.696439159927908,
          -0.6866430509241719,
          -0.6769123962942973,
          -0.6672454178513608,
          -0.6576403958252243,
          -0.6480956661018106,
          -0.6386096176206588,
          -0.6291806899198484,
          -0.6198073708182489,
          -0.6104881942258346,
          -0.6012217380735386,
          -0.5920066223547552,
          -0.5828415072712162,
          -0.5737250914765053,
          -0.564656110410974,
          -0.5556333347222873,
          -0.5466555687662383,
          -0.5377216491828647,
          -0.5288304435432458,
          -0.5199808490626915,
          -0.5111717913763268,
          -0.5024022233733555,
          -0.493671124086536,
          -0.4849774976336414,
          -0.47632037220788664,
          -0.46769879911450823,
          -0.4591118518508644,
          -0.45055862522759604,
          -0.44203823452854335,
          -0.4335498147072649,
          -0.4250925196181335,
          -0.41666552128011664,
          -0.4082680091714618,
          -0.39989918955361464,
          -0.39155828482280386,
          -0.3832445328878139,
          -0.3749571865725573,
          -0.36669551304214115,
          -0.3584587932511938,
          -0.3502463214132924,
          -0.3420574044903942,
          -0.33389136170123906,
          -0.32574752404774643,
          -0.31762523385848135,
          -0.3095238443483213,
          -0.30144271919349197,
          -0.29338123212119327,
          -0.2853387665130725,
          -0.2773147150218403,
          -0.26930847920036516,
          -0.2613194691426085,
          -0.2533471031357997,
          -0.2453908073232792,
          -0.23745001537746058,
          -0.22952416818239713,
          -0.2216127135254519,
          -0.2137151057976028,
          -0.20583080570192913,
          -0.19795927996984825,
          -0.19010000108469102,
          -0.18225244701221852,
          -0.17441610093770257,
          -0.16659045100920616,
          -0.1587749900867137,
          -0.15096921549677725,
          -0.14317262879235282,
          -0.1353847355175167,
          -0.12760504497676112,
          -0.11983307000857707,
          -0.11206832676304594,
          -0.10431033448316418,
          -0.09655861528963908,
          -0.08881269396889788,
          -0.08107209776405953,
          -0.07333635616862769,
          -0.0656050007226638,
          -0.05787756481121016,
          -0.05015358346473367,
          -0.0424325931613663,
          -0.034714131630724,
          -0.026997737659084496,
          -0.019282950895712157,
          -0.011569311660117662,
          -0.0038563607500418954,
          0.0038563607500417562,
          0.011569311660117524,
          0.019282950895712157,
          0.026997737659084496,
          0.034714131630724,
          0.0424325931613663,
          0.05015358346473367,
          0.0578775648112103,
          0.06560500072266394,
          0.07333635616862783,
          0.0810720977640594,
          0.08881269396889774,
          0.09655861528963908,
          0.10431033448316418,
          0.11206832676304594,
          0.11983307000857707,
          0.12760504497676112,
          0.13538473551751684,
          0.14317262879235296,
          0.1509692154967774,
          0.15877499008671356,
          0.16659045100920603,
          0.17441610093770257,
          0.18225244701221852,
          0.19010000108469102,
          0.19795927996984825,
          0.20583080570192913,
          0.21371510579760294,
          0.22161271352545203,
          0.22952416818239726,
          0.23745001537746044,
          0.24539080732327906,
          0.2533471031357997,
          0.2613194691426085,
          0.26930847920036516,
          0.2773147150218403,
          0.2853387665130725,
          0.29338123212119344,
          0.30144271919349214,
          0.30952384434832114,
          0.3176252338584812,
          0.3257475240477463,
          0.33389136170123906,
          0.3420574044903942,
          0.3502463214132924,
          0.3584587932511938,
          0.36669551304214115,
          0.37495718657255744,
          0.383244532887814,
          0.39155828482280375,
          0.3998991895536145,
          0.40826800917146167,
          0.41666552128011664,
          0.4250925196181335,
          0.4335498147072649,
          0.44203823452854335,
          0.45055862522759604,
          0.45911185185086456,
          0.4676987991145084,
          0.4763203722078865,
          0.4849774976336413,
          0.4936711240865359,
          0.5024022233733555,
          0.5111717913763268,
          0.5199808490626915,
          0.5288304435432458,
          0.5377216491828648,
          0.5466555687662384,
          0.5556333347222874,
          0.5646561104109737,
          0.5737250914765051,
          0.5828415072712162,
          0.5920066223547552,
          0.6012217380735386,
          0.6104881942258346,
          0.6198073708182489,
          0.6291806899198488,
          0.6386096176206589,
          0.6480956661018107,
          0.657640395825224,
          0.6672454178513606,
          0.6769123962942973,
          0.6866430509241719,
          0.696439159927908,
          0.7063025628400874,
          0.716235163656892,
          0.7262389341471894,
          0.7363159173761297,
          0.7464682314580263,
          0.7566980735568705,
          0.7670077241545666,
          0.7773995516089012,
          0.7878760170254153,
          0.7984396794697326,
          0.809093201549562,
          0.8198393553985739,
          0.8306810290976713,
          0.8416212335729143,
          0.8526631100135379,
          0.8638099378582046,
          0.8750651434029384,
          0.886432309090155,
          0.8979151835449687,
          0.9095176924325932,
          0.9212439502193468,
          0.9330982729296341,
          0.9450851920025287,
          0.9572094693644219,
          0.9694761138489095,
          0.9818903991119531,
          0.994457883209753,
          1.0071844300291466,
          1.0200762327862014,
          1.033139839838658,
          1.046382183092732,
          1.059810609325424,
          1.0734329147910218,
          1.0872573835362356,
          1.1012928299140692,
          1.1155486458640713,
          1.1300348536185383,
          1.1447621646036685,
          1.1597420454353515,
          1.1749867920660904,
          1.1905096133284863,
          1.2063247253493699,
          1.2224474585867133,
          1.23889437958136,
          1.255683429933113,
          1.2728340855266451,
          1.290367539673776,
          1.3083069146403565,
          1.3266775070350318,
          1.3455070738160948,
          1.3648261673056923,
          1.3846685297022652,
          1.4050715603096329,
          1.4260768722728474,
          1.44773096033333,
          1.4700860074244935,
          1.493200866451242,
          1.5171422652485793,
          1.5419862988544464,
          1.5678202959084404,
          1.5947451783462454,
          1.622878480524913,
          1.6523582633698064,
          1.6833482640036084,
          1.7160447833608958,
          1.7506860712521692,
          1.7875653879202453,
          1.827049629469658,
          1.8696066471189026,
          1.9158466693962373,
          1.9665876428391196,
          2.0229633809989878,
          2.0866136000540974,
          2.1600444231842837,
          2.247385754686025,
          2.3562288848850748,
          2.5031972666378124,
          2.7394693011353426
         ],
         "xaxis": "x5",
         "y": [
          -2.050283983935343,
          -1.9993764806174605,
          -1.9484689772995771,
          -1.8975614739816946,
          -1.8466539706638123,
          -1.8466539706638123,
          -1.7957464673459298,
          -1.7448389640280473,
          -1.7448389640280473,
          -1.7448389640280473,
          -1.7448389640280473,
          -1.7448389640280473,
          -1.7448389640280473,
          -1.6939314607101639,
          -1.6939314607101639,
          -1.6939314607101639,
          -1.6430239573922814,
          -1.6430239573922814,
          -1.6430239573922814,
          -1.6430239573922814,
          -1.592116454074399,
          -1.592116454074399,
          -1.5412089507565165,
          -1.5412089507565165,
          -1.5412089507565165,
          -1.490301447438634,
          -1.490301447438634,
          -1.490301447438634,
          -1.490301447438634,
          -1.490301447438634,
          -1.490301447438634,
          -1.4393939441207506,
          -1.4393939441207506,
          -1.4393939441207506,
          -1.388486440802868,
          -1.388486440802868,
          -1.388486440802868,
          -1.388486440802868,
          -1.3375789374849858,
          -1.3375789374849858,
          -1.3375789374849858,
          -1.3375789374849858,
          -1.3375789374849858,
          -1.3375789374849858,
          -1.3375789374849858,
          -1.3375789374849858,
          -1.2866714341671033,
          -1.2866714341671033,
          -1.2866714341671033,
          -1.2866714341671033,
          -1.2866714341671033,
          -1.2357639308492208,
          -1.2357639308492208,
          -1.1848564275313374,
          -1.1848564275313374,
          -1.1848564275313374,
          -1.1339489242134548,
          -1.0830414208955723,
          -1.0830414208955723,
          -1.0830414208955723,
          -1.0830414208955723,
          -1.0830414208955723,
          -1.0830414208955723,
          -1.0830414208955723,
          -1.0830414208955723,
          -1.0830414208955723,
          -1.0830414208955723,
          -1.03213391757769,
          -1.03213391757769,
          -1.03213391757769,
          -0.9812264142598075,
          -0.9812264142598075,
          -0.9812264142598075,
          -0.9812264142598075,
          -0.9303189109419241,
          -0.9303189109419241,
          -0.9303189109419241,
          -0.8794114076240416,
          -0.8794114076240416,
          -0.8285039043061592,
          -0.8285039043061592,
          -0.7775964009882766,
          -0.7775964009882766,
          -0.7775964009882766,
          -0.7266888976703942,
          -0.7266888976703942,
          -0.7266888976703942,
          -0.7266888976703942,
          -0.7266888976703942,
          -0.6757813943525108,
          -0.6757813943525108,
          -0.6757813943525108,
          -0.6757813943525108,
          -0.6248738910346283,
          -0.6248738910346283,
          -0.6248738910346283,
          -0.6248738910346283,
          -0.6248738910346283,
          -0.5739663877167459,
          -0.5739663877167459,
          -0.5739663877167459,
          -0.5739663877167459,
          -0.5230588843988625,
          -0.5230588843988625,
          -0.5230588843988625,
          -0.5230588843988625,
          -0.5230588843988625,
          -0.5230588843988625,
          -0.4721513810809809,
          -0.4721513810809809,
          -0.4721513810809809,
          -0.4212438777630975,
          -0.4212438777630975,
          -0.4212438777630975,
          -0.4212438777630975,
          -0.370336374445216,
          -0.370336374445216,
          -0.3194288711273326,
          -0.3194288711273326,
          -0.3194288711273326,
          -0.3194288711273326,
          -0.26852136780944924,
          -0.26852136780944924,
          -0.26852136780944924,
          -0.26852136780944924,
          -0.26852136780944924,
          -0.26852136780944924,
          -0.21761386449156764,
          -0.21761386449156764,
          -0.16670636117368426,
          -0.16670636117368426,
          -0.16670636117368426,
          -0.16670636117368426,
          -0.1157988578558027,
          -0.1157988578558027,
          -0.06489135453791932,
          -0.06489135453791932,
          -0.06489135453791932,
          -0.06489135453791932,
          -0.06489135453791932,
          -0.06489135453791932,
          -0.06489135453791932,
          -0.06489135453791932,
          -0.06489135453791932,
          -0.06489135453791932,
          -0.06489135453791932,
          -0.06489135453791932,
          -0.013983851220035945,
          -0.013983851220035945,
          -0.013983851220035945,
          -0.013983851220035945,
          -0.013983851220035945,
          -0.013983851220035945,
          -0.013983851220035945,
          0.03692365209784562,
          0.03692365209784562,
          0.03692365209784562,
          0.03692365209784562,
          0.03692365209784562,
          0.03692365209784562,
          0.087831155415729,
          0.087831155415729,
          0.087831155415729,
          0.087831155415729,
          0.087831155415729,
          0.087831155415729,
          0.087831155415729,
          0.087831155415729,
          0.13873865873361058,
          0.18964616205149396,
          0.18964616205149396,
          0.18964616205149396,
          0.18964616205149396,
          0.18964616205149396,
          0.18964616205149396,
          0.24055366536937733,
          0.24055366536937733,
          0.24055366536937733,
          0.2914611686872589,
          0.2914611686872589,
          0.34236867200514226,
          0.34236867200514226,
          0.34236867200514226,
          0.34236867200514226,
          0.34236867200514226,
          0.34236867200514226,
          0.34236867200514226,
          0.34236867200514226,
          0.39327617532302384,
          0.39327617532302384,
          0.39327617532302384,
          0.39327617532302384,
          0.39327617532302384,
          0.39327617532302384,
          0.39327617532302384,
          0.39327617532302384,
          0.39327617532302384,
          0.39327617532302384,
          0.44418367864090724,
          0.44418367864090724,
          0.44418367864090724,
          0.44418367864090724,
          0.44418367864090724,
          0.4950911819587906,
          0.4950911819587906,
          0.4950911819587906,
          0.4950911819587906,
          0.4950911819587906,
          0.4950911819587906,
          0.4950911819587906,
          0.4950911819587906,
          0.5459986852766722,
          0.5459986852766722,
          0.5459986852766722,
          0.5459986852766722,
          0.5459986852766722,
          0.5969061885945556,
          0.5969061885945556,
          0.5969061885945556,
          0.5969061885945556,
          0.6478136919124371,
          0.6478136919124371,
          0.6478136919124371,
          0.6478136919124371,
          0.6987211952303205,
          0.6987211952303205,
          0.6987211952303205,
          0.6987211952303205,
          0.6987211952303205,
          0.6987211952303205,
          0.6987211952303205,
          0.6987211952303205,
          0.6987211952303205,
          0.6987211952303205,
          0.7496286985482039,
          0.7496286985482039,
          0.7496286985482039,
          0.7496286985482039,
          0.7496286985482039,
          0.7496286985482039,
          0.7496286985482039,
          0.7496286985482039,
          0.7496286985482039,
          0.7496286985482039,
          0.8005362018660854,
          0.8005362018660854,
          0.8005362018660854,
          0.8005362018660854,
          0.8005362018660854,
          0.8514437051839688,
          0.8514437051839688,
          0.8514437051839688,
          0.8514437051839688,
          0.8514437051839688,
          0.8514437051839688,
          0.8514437051839688,
          0.9023512085018504,
          0.9023512085018504,
          0.9023512085018504,
          0.9023512085018504,
          0.9023512085018504,
          0.9023512085018504,
          0.9023512085018504,
          0.9023512085018504,
          0.9532587118197338,
          0.9532587118197338,
          0.9532587118197338,
          0.9532587118197338,
          0.9532587118197338,
          0.9532587118197338,
          0.9532587118197338,
          0.9532587118197338,
          1.0041662151376172,
          1.0041662151376172,
          1.0041662151376172,
          1.0041662151376172,
          1.0550737184554988,
          1.0550737184554988,
          1.0550737184554988,
          1.0550737184554988,
          1.1059812217733822,
          1.1059812217733822,
          1.1568887250912636,
          1.1568887250912636,
          1.1568887250912636,
          1.1568887250912636,
          1.1568887250912636,
          1.207796228409147,
          1.207796228409147,
          1.207796228409147,
          1.207796228409147,
          1.207796228409147,
          1.2587037317270304,
          1.2587037317270304,
          1.2587037317270304,
          1.309611235044912,
          1.309611235044912,
          1.3605187383627955,
          1.3605187383627955,
          1.3605187383627955,
          1.4114262416806769,
          1.4114262416806769,
          1.4114262416806769,
          1.4623337449985603,
          1.4623337449985603,
          1.4623337449985603,
          1.4623337449985603,
          1.4623337449985603,
          1.4623337449985603,
          1.5132412483164437,
          1.6150562549522087,
          1.6150562549522087,
          1.6150562549522087,
          1.7168712615879735,
          1.767778764905857,
          1.8186862682237386,
          1.8186862682237386,
          1.8186862682237386,
          1.869593771541622,
          2.02231628149527,
          2.02231628149527,
          2.02231628149527,
          2.073223784813152,
          2.2259462947668003
         ],
         "yaxis": "y5"
        },
        {
         "line": {
          "color": "white"
         },
         "mode": "lines",
         "showlegend": false,
         "type": "scatter",
         "x": [
          -2.8490480731807573,
          2.8490480731807564
         ],
         "xaxis": "x5",
         "y": [
          -2.8490480731807573,
          2.8490480731807564
         ],
         "yaxis": "y5"
        },
        {
         "marker": {
          "color": "#00CC96"
         },
         "type": "histogram",
         "x": [
          186,
          195,
          193,
          190,
          181,
          195,
          198,
          195,
          197,
          184,
          194,
          174,
          180,
          189,
          185,
          180,
          187,
          183,
          187,
          172,
          180,
          178,
          178,
          188,
          184,
          195,
          196,
          190,
          180,
          181,
          182,
          186,
          196,
          185,
          190,
          190,
          191,
          186,
          188,
          190,
          200,
          187,
          191,
          186,
          193,
          181,
          194,
          185,
          195,
          185,
          192,
          184,
          192,
          195,
          188,
          190,
          198,
          190,
          190,
          196,
          197,
          190,
          195,
          191,
          184,
          187,
          195,
          189,
          196,
          187,
          193,
          191,
          194,
          190,
          189,
          189,
          190,
          202,
          205,
          185,
          186,
          187,
          208,
          190,
          196,
          178,
          192,
          192,
          203,
          183,
          190,
          193,
          184,
          199,
          190,
          181,
          197,
          198,
          191,
          193,
          197,
          191,
          196,
          188,
          199,
          189,
          189,
          187,
          198,
          176,
          202,
          186,
          199,
          191,
          195,
          191,
          210,
          190,
          197,
          193,
          199,
          187,
          190,
          191,
          200,
          185,
          193,
          193,
          187,
          188,
          190,
          192,
          185,
          190,
          184,
          195,
          193,
          187,
          201,
          192,
          196,
          193,
          188,
          197,
          198,
          178,
          197,
          195,
          198,
          193,
          194,
          185,
          201,
          190,
          201,
          197,
          181,
          190,
          195,
          181,
          191,
          187,
          193,
          195,
          197,
          200,
          200,
          191,
          205,
          187,
          201,
          187,
          203,
          195,
          199,
          195,
          210,
          192,
          205,
          210,
          187,
          196,
          196,
          196,
          201,
          190,
          212,
          187,
          198,
          199,
          201,
          193,
          203,
          187,
          197,
          191,
          203,
          202,
          194,
          189,
          195,
          207,
          202,
          193,
          210,
          198,
          211,
          230,
          210,
          218,
          215,
          210,
          211,
          219,
          209,
          215,
          214,
          216,
          214,
          213,
          210,
          217,
          210,
          221,
          209,
          222,
          218,
          215,
          213,
          215,
          215,
          215,
          215,
          210,
          220,
          209,
          207,
          230,
          220,
          220,
          213,
          219,
          208,
          208,
          208,
          225,
          210,
          216,
          222,
          217,
          210,
          225,
          213,
          215,
          210,
          220,
          210,
          225,
          217,
          220,
          208,
          220,
          208,
          224,
          208,
          221,
          214,
          231,
          219,
          230,
          229,
          220,
          223,
          216,
          221,
          221,
          217,
          216,
          230,
          209,
          220,
          215,
          223,
          212,
          221,
          212,
          224,
          212,
          228,
          218,
          218,
          212,
          230,
          218,
          228,
          212,
          224,
          214,
          226,
          216,
          222,
          203,
          225,
          219,
          228,
          215,
          228,
          215,
          210,
          219,
          208,
          209,
          216,
          229,
          213,
          230,
          217,
          230,
          222,
          214,
          215,
          222,
          212,
          213
         ],
         "xaxis": "x7",
         "yaxis": "y7"
        },
        {
         "marker": {
          "color": "#00CC96"
         },
         "mode": "markers",
         "showlegend": false,
         "type": "scatter",
         "x": [
          -2.7394693011353435,
          -2.5031972666378133,
          -2.356228884885076,
          -2.247385754686027,
          -2.160044423184283,
          -2.0866136000540965,
          -2.0229633809989873,
          -1.966587642839119,
          -1.9158466693962373,
          -1.8696066471189026,
          -1.827049629469658,
          -1.7875653879202458,
          -1.75068607125217,
          -1.7160447833608958,
          -1.6833482640036077,
          -1.6523582633698055,
          -1.6228784805249126,
          -1.5947451783462447,
          -1.5678202959084404,
          -1.5419862988544464,
          -1.5171422652485793,
          -1.4932008664512426,
          -1.4700860074244941,
          -1.4477309603333306,
          -1.4260768722728474,
          -1.4050715603096329,
          -1.3846685297022652,
          -1.3648261673056918,
          -1.3455070738160948,
          -1.3266775070350318,
          -1.3083069146403565,
          -1.290367539673776,
          -1.2728340855266451,
          -1.2556834299331134,
          -1.23889437958136,
          -1.2224474585867124,
          -1.2063247253493694,
          -1.1905096133284863,
          -1.1749867920660904,
          -1.1597420454353515,
          -1.1447621646036692,
          -1.1300348536185383,
          -1.1155486458640713,
          -1.1012928299140692,
          -1.0872573835362347,
          -1.0734329147910218,
          -1.059810609325424,
          -1.046382183092732,
          -1.033139839838658,
          -1.0200762327862014,
          -1.0071844300291466,
          -0.994457883209753,
          -0.9818903991119535,
          -0.9694761138489097,
          -0.9572094693644218,
          -0.9450851920025287,
          -0.9330982729296341,
          -0.9212439502193468,
          -0.9095176924325932,
          -0.8979151835449687,
          -0.886432309090155,
          -0.8750651434029384,
          -0.8638099378582048,
          -0.852663110013538,
          -0.8416212335729142,
          -0.8306810290976713,
          -0.8198393553985739,
          -0.809093201549562,
          -0.7984396794697326,
          -0.7878760170254153,
          -0.7773995516089012,
          -0.7670077241545666,
          -0.7566980735568707,
          -0.746468231458026,
          -0.7363159173761294,
          -0.7262389341471894,
          -0.716235163656892,
          -0.7063025628400874,
          -0.696439159927908,
          -0.6866430509241719,
          -0.6769123962942973,
          -0.6672454178513608,
          -0.6576403958252243,
          -0.6480956661018106,
          -0.6386096176206588,
          -0.6291806899198484,
          -0.6198073708182489,
          -0.6104881942258346,
          -0.6012217380735386,
          -0.5920066223547552,
          -0.5828415072712162,
          -0.5737250914765053,
          -0.564656110410974,
          -0.5556333347222873,
          -0.5466555687662383,
          -0.5377216491828647,
          -0.5288304435432458,
          -0.5199808490626915,
          -0.5111717913763268,
          -0.5024022233733555,
          -0.493671124086536,
          -0.4849774976336414,
          -0.47632037220788664,
          -0.46769879911450823,
          -0.4591118518508644,
          -0.45055862522759604,
          -0.44203823452854335,
          -0.4335498147072649,
          -0.4250925196181335,
          -0.41666552128011664,
          -0.4082680091714618,
          -0.39989918955361464,
          -0.39155828482280386,
          -0.3832445328878139,
          -0.3749571865725573,
          -0.36669551304214115,
          -0.3584587932511938,
          -0.3502463214132924,
          -0.3420574044903942,
          -0.33389136170123906,
          -0.32574752404774643,
          -0.31762523385848135,
          -0.3095238443483213,
          -0.30144271919349197,
          -0.29338123212119327,
          -0.2853387665130725,
          -0.2773147150218403,
          -0.26930847920036516,
          -0.2613194691426085,
          -0.2533471031357997,
          -0.2453908073232792,
          -0.23745001537746058,
          -0.22952416818239713,
          -0.2216127135254519,
          -0.2137151057976028,
          -0.20583080570192913,
          -0.19795927996984825,
          -0.19010000108469102,
          -0.18225244701221852,
          -0.17441610093770257,
          -0.16659045100920616,
          -0.1587749900867137,
          -0.15096921549677725,
          -0.14317262879235282,
          -0.1353847355175167,
          -0.12760504497676112,
          -0.11983307000857707,
          -0.11206832676304594,
          -0.10431033448316418,
          -0.09655861528963908,
          -0.08881269396889788,
          -0.08107209776405953,
          -0.07333635616862769,
          -0.0656050007226638,
          -0.05787756481121016,
          -0.05015358346473367,
          -0.0424325931613663,
          -0.034714131630724,
          -0.026997737659084496,
          -0.019282950895712157,
          -0.011569311660117662,
          -0.0038563607500418954,
          0.0038563607500417562,
          0.011569311660117524,
          0.019282950895712157,
          0.026997737659084496,
          0.034714131630724,
          0.0424325931613663,
          0.05015358346473367,
          0.0578775648112103,
          0.06560500072266394,
          0.07333635616862783,
          0.0810720977640594,
          0.08881269396889774,
          0.09655861528963908,
          0.10431033448316418,
          0.11206832676304594,
          0.11983307000857707,
          0.12760504497676112,
          0.13538473551751684,
          0.14317262879235296,
          0.1509692154967774,
          0.15877499008671356,
          0.16659045100920603,
          0.17441610093770257,
          0.18225244701221852,
          0.19010000108469102,
          0.19795927996984825,
          0.20583080570192913,
          0.21371510579760294,
          0.22161271352545203,
          0.22952416818239726,
          0.23745001537746044,
          0.24539080732327906,
          0.2533471031357997,
          0.2613194691426085,
          0.26930847920036516,
          0.2773147150218403,
          0.2853387665130725,
          0.29338123212119344,
          0.30144271919349214,
          0.30952384434832114,
          0.3176252338584812,
          0.3257475240477463,
          0.33389136170123906,
          0.3420574044903942,
          0.3502463214132924,
          0.3584587932511938,
          0.36669551304214115,
          0.37495718657255744,
          0.383244532887814,
          0.39155828482280375,
          0.3998991895536145,
          0.40826800917146167,
          0.41666552128011664,
          0.4250925196181335,
          0.4335498147072649,
          0.44203823452854335,
          0.45055862522759604,
          0.45911185185086456,
          0.4676987991145084,
          0.4763203722078865,
          0.4849774976336413,
          0.4936711240865359,
          0.5024022233733555,
          0.5111717913763268,
          0.5199808490626915,
          0.5288304435432458,
          0.5377216491828648,
          0.5466555687662384,
          0.5556333347222874,
          0.5646561104109737,
          0.5737250914765051,
          0.5828415072712162,
          0.5920066223547552,
          0.6012217380735386,
          0.6104881942258346,
          0.6198073708182489,
          0.6291806899198488,
          0.6386096176206589,
          0.6480956661018107,
          0.657640395825224,
          0.6672454178513606,
          0.6769123962942973,
          0.6866430509241719,
          0.696439159927908,
          0.7063025628400874,
          0.716235163656892,
          0.7262389341471894,
          0.7363159173761297,
          0.7464682314580263,
          0.7566980735568705,
          0.7670077241545666,
          0.7773995516089012,
          0.7878760170254153,
          0.7984396794697326,
          0.809093201549562,
          0.8198393553985739,
          0.8306810290976713,
          0.8416212335729143,
          0.8526631100135379,
          0.8638099378582046,
          0.8750651434029384,
          0.886432309090155,
          0.8979151835449687,
          0.9095176924325932,
          0.9212439502193468,
          0.9330982729296341,
          0.9450851920025287,
          0.9572094693644219,
          0.9694761138489095,
          0.9818903991119531,
          0.994457883209753,
          1.0071844300291466,
          1.0200762327862014,
          1.033139839838658,
          1.046382183092732,
          1.059810609325424,
          1.0734329147910218,
          1.0872573835362356,
          1.1012928299140692,
          1.1155486458640713,
          1.1300348536185383,
          1.1447621646036685,
          1.1597420454353515,
          1.1749867920660904,
          1.1905096133284863,
          1.2063247253493699,
          1.2224474585867133,
          1.23889437958136,
          1.255683429933113,
          1.2728340855266451,
          1.290367539673776,
          1.3083069146403565,
          1.3266775070350318,
          1.3455070738160948,
          1.3648261673056923,
          1.3846685297022652,
          1.4050715603096329,
          1.4260768722728474,
          1.44773096033333,
          1.4700860074244935,
          1.493200866451242,
          1.5171422652485793,
          1.5419862988544464,
          1.5678202959084404,
          1.5947451783462454,
          1.622878480524913,
          1.6523582633698064,
          1.6833482640036084,
          1.7160447833608958,
          1.7506860712521692,
          1.7875653879202453,
          1.827049629469658,
          1.8696066471189026,
          1.9158466693962373,
          1.9665876428391196,
          2.0229633809989878,
          2.0866136000540974,
          2.1600444231842837,
          2.247385754686025,
          2.3562288848850748,
          2.5031972666378124,
          2.7394693011353426
         ],
         "xaxis": "x8",
         "y": [
          -2.096275230366681,
          -1.9527736088499255,
          -1.8092719873331697,
          -1.665770365816414,
          -1.665770365816414,
          -1.665770365816414,
          -1.665770365816414,
          -1.5222687442996585,
          -1.5222687442996585,
          -1.5222687442996585,
          -1.5222687442996585,
          -1.4505179335412806,
          -1.4505179335412806,
          -1.4505179335412806,
          -1.4505179335412806,
          -1.4505179335412806,
          -1.4505179335412806,
          -1.3787671227829028,
          -1.3070163120245248,
          -1.3070163120245248,
          -1.235265501266147,
          -1.235265501266147,
          -1.235265501266147,
          -1.235265501266147,
          -1.235265501266147,
          -1.235265501266147,
          -1.1635146905077691,
          -1.1635146905077691,
          -1.1635146905077691,
          -1.1635146905077691,
          -1.1635146905077691,
          -1.1635146905077691,
          -1.1635146905077691,
          -1.1635146905077691,
          -1.0917638797493914,
          -1.0917638797493914,
          -1.0917638797493914,
          -1.0917638797493914,
          -1.0917638797493914,
          -1.0917638797493914,
          -1.0200130689910136,
          -1.0200130689910136,
          -1.0200130689910136,
          -1.0200130689910136,
          -1.0200130689910136,
          -1.0200130689910136,
          -1.0200130689910136,
          -1.0200130689910136,
          -1.0200130689910136,
          -1.0200130689910136,
          -1.0200130689910136,
          -1.0200130689910136,
          -1.0200130689910136,
          -1.0200130689910136,
          -1.0200130689910136,
          -1.0200130689910136,
          -0.9482622582326357,
          -0.9482622582326357,
          -0.9482622582326357,
          -0.9482622582326357,
          -0.9482622582326357,
          -0.9482622582326357,
          -0.8765114474742578,
          -0.8765114474742578,
          -0.8765114474742578,
          -0.8765114474742578,
          -0.8765114474742578,
          -0.8765114474742578,
          -0.8765114474742578,
          -0.80476063671588,
          -0.80476063671588,
          -0.80476063671588,
          -0.80476063671588,
          -0.80476063671588,
          -0.80476063671588,
          -0.80476063671588,
          -0.80476063671588,
          -0.80476063671588,
          -0.80476063671588,
          -0.80476063671588,
          -0.80476063671588,
          -0.80476063671588,
          -0.80476063671588,
          -0.80476063671588,
          -0.80476063671588,
          -0.80476063671588,
          -0.80476063671588,
          -0.80476063671588,
          -0.80476063671588,
          -0.80476063671588,
          -0.7330098259575022,
          -0.7330098259575022,
          -0.7330098259575022,
          -0.7330098259575022,
          -0.7330098259575022,
          -0.7330098259575022,
          -0.7330098259575022,
          -0.7330098259575022,
          -0.7330098259575022,
          -0.7330098259575022,
          -0.7330098259575022,
          -0.7330098259575022,
          -0.6612590151991243,
          -0.6612590151991243,
          -0.6612590151991243,
          -0.6612590151991243,
          -0.6612590151991243,
          -0.6612590151991243,
          -0.6612590151991243,
          -0.5895082044407465,
          -0.5895082044407465,
          -0.5895082044407465,
          -0.5895082044407465,
          -0.5895082044407465,
          -0.5895082044407465,
          -0.5895082044407465,
          -0.5895082044407465,
          -0.5895082044407465,
          -0.5895082044407465,
          -0.5895082044407465,
          -0.5895082044407465,
          -0.5895082044407465,
          -0.5895082044407465,
          -0.5177573936823686,
          -0.5177573936823686,
          -0.5177573936823686,
          -0.5177573936823686,
          -0.5177573936823686,
          -0.44600658292399076,
          -0.44600658292399076,
          -0.44600658292399076,
          -0.44600658292399076,
          -0.44600658292399076,
          -0.44600658292399076,
          -0.44600658292399076,
          -0.44600658292399076,
          -0.44600658292399076,
          -0.44600658292399076,
          -0.44600658292399076,
          -0.44600658292399076,
          -0.44600658292399076,
          -0.44600658292399076,
          -0.44600658292399076,
          -0.44600658292399076,
          -0.37425577216561295,
          -0.37425577216561295,
          -0.37425577216561295,
          -0.37425577216561295,
          -0.37425577216561295,
          -0.37425577216561295,
          -0.37425577216561295,
          -0.37425577216561295,
          -0.37425577216561295,
          -0.37425577216561295,
          -0.3025049614072351,
          -0.3025049614072351,
          -0.3025049614072351,
          -0.3025049614072351,
          -0.3025049614072351,
          -0.3025049614072351,
          -0.3025049614072351,
          -0.3025049614072351,
          -0.3025049614072351,
          -0.3025049614072351,
          -0.23075415064885724,
          -0.23075415064885724,
          -0.23075415064885724,
          -0.23075415064885724,
          -0.23075415064885724,
          -0.23075415064885724,
          -0.23075415064885724,
          -0.23075415064885724,
          -0.1590033398904794,
          -0.1590033398904794,
          -0.1590033398904794,
          -0.1590033398904794,
          -0.1590033398904794,
          -0.1590033398904794,
          -0.08725252913210155,
          -0.08725252913210155,
          -0.08725252913210155,
          -0.08725252913210155,
          -0.01550171837372371,
          -0.01550171837372371,
          -0.01550171837372371,
          -0.01550171837372371,
          -0.01550171837372371,
          -0.01550171837372371,
          0.056249092384654135,
          0.056249092384654135,
          0.056249092384654135,
          0.056249092384654135,
          0.12799990314303197,
          0.12799990314303197,
          0.12799990314303197,
          0.12799990314303197,
          0.12799990314303197,
          0.27150152465978766,
          0.27150152465978766,
          0.27150152465978766,
          0.4150031461765434,
          0.4150031461765434,
          0.4867539569349212,
          0.4867539569349212,
          0.4867539569349212,
          0.4867539569349212,
          0.4867539569349212,
          0.4867539569349212,
          0.4867539569349212,
          0.4867539569349212,
          0.558504767693299,
          0.558504767693299,
          0.558504767693299,
          0.558504767693299,
          0.558504767693299,
          0.6302555784516769,
          0.6302555784516769,
          0.6302555784516769,
          0.6302555784516769,
          0.6302555784516769,
          0.6302555784516769,
          0.6302555784516769,
          0.6302555784516769,
          0.6302555784516769,
          0.6302555784516769,
          0.6302555784516769,
          0.6302555784516769,
          0.6302555784516769,
          0.6302555784516769,
          0.7020063892100548,
          0.7020063892100548,
          0.7737571999684326,
          0.7737571999684326,
          0.7737571999684326,
          0.7737571999684326,
          0.7737571999684326,
          0.7737571999684326,
          0.7737571999684326,
          0.8455080107268105,
          0.8455080107268105,
          0.8455080107268105,
          0.8455080107268105,
          0.8455080107268105,
          0.8455080107268105,
          0.9172588214851882,
          0.9172588214851882,
          0.9172588214851882,
          0.9172588214851882,
          0.9172588214851882,
          0.9890096322435661,
          0.9890096322435661,
          0.9890096322435661,
          0.9890096322435661,
          0.9890096322435661,
          0.9890096322435661,
          0.9890096322435661,
          0.9890096322435661,
          0.9890096322435661,
          0.9890096322435661,
          0.9890096322435661,
          0.9890096322435661,
          1.060760443001944,
          1.060760443001944,
          1.060760443001944,
          1.060760443001944,
          1.060760443001944,
          1.060760443001944,
          1.132511253760322,
          1.132511253760322,
          1.132511253760322,
          1.132511253760322,
          1.132511253760322,
          1.2042620645186997,
          1.2042620645186997,
          1.2042620645186997,
          1.2042620645186997,
          1.2042620645186997,
          1.2760128752770774,
          1.2760128752770774,
          1.2760128752770774,
          1.2760128752770774,
          1.2760128752770774,
          1.3477636860354554,
          1.3477636860354554,
          1.3477636860354554,
          1.3477636860354554,
          1.3477636860354554,
          1.3477636860354554,
          1.3477636860354554,
          1.3477636860354554,
          1.4195144967938331,
          1.4195144967938331,
          1.4195144967938331,
          1.4195144967938331,
          1.4195144967938331,
          1.491265307552211,
          1.491265307552211,
          1.491265307552211,
          1.491265307552211,
          1.491265307552211,
          1.5630161183105888,
          1.5630161183105888,
          1.6347669290689668,
          1.6347669290689668,
          1.6347669290689668,
          1.7065177398273446,
          1.7065177398273446,
          1.7065177398273446,
          1.7065177398273446,
          1.7782685505857223,
          1.921770172102478,
          1.921770172102478,
          1.921770172102478,
          1.921770172102478,
          1.993520982860856,
          1.993520982860856,
          2.065271793619234,
          2.065271793619234,
          2.065271793619234,
          2.065271793619234,
          2.065271793619234,
          2.065271793619234,
          2.065271793619234,
          2.1370226043776115
         ],
         "yaxis": "y8"
        },
        {
         "line": {
          "color": "white"
         },
         "mode": "lines",
         "showlegend": false,
         "type": "scatter",
         "x": [
          -2.8490480731807573,
          2.8490480731807564
         ],
         "xaxis": "x8",
         "y": [
          -2.8490480731807573,
          2.8490480731807564
         ],
         "yaxis": "y8"
        },
        {
         "marker": {
          "color": "#AB63FA"
         },
         "type": "histogram",
         "x": [
          3800,
          3250,
          3450,
          3650,
          3625,
          4675,
          4400,
          3450,
          4500,
          3325,
          4200,
          3400,
          3600,
          3800,
          3950,
          3800,
          3800,
          3550,
          3200,
          3150,
          3950,
          3250,
          3900,
          3300,
          3900,
          3325,
          4150,
          3950,
          3550,
          3300,
          3150,
          3100,
          4400,
          3000,
          4600,
          3450,
          4150,
          3500,
          4300,
          3450,
          4050,
          2900,
          3700,
          3550,
          3800,
          2850,
          3750,
          3150,
          4400,
          3600,
          4050,
          2850,
          3950,
          3350,
          4100,
          3050,
          4450,
          3600,
          3900,
          3550,
          4150,
          3700,
          4250,
          3700,
          3900,
          3550,
          4000,
          3200,
          4700,
          3800,
          4200,
          3350,
          3550,
          3800,
          3500,
          3950,
          3600,
          3550,
          4300,
          3400,
          4450,
          3300,
          4300,
          3700,
          4350,
          2900,
          4100,
          3725,
          4725,
          3075,
          4250,
          2925,
          3550,
          3750,
          3900,
          3175,
          4775,
          3825,
          4600,
          3200,
          4275,
          3900,
          4075,
          2900,
          3775,
          3350,
          3325,
          3150,
          3500,
          3450,
          3875,
          3050,
          4000,
          3275,
          4300,
          3050,
          4000,
          3325,
          3500,
          3500,
          4475,
          3425,
          3900,
          3175,
          3975,
          3400,
          4250,
          3400,
          3475,
          3050,
          3725,
          3000,
          3650,
          4250,
          3475,
          3450,
          3750,
          3700,
          4000,
          3500,
          3900,
          3650,
          3525,
          3725,
          3950,
          3250,
          3750,
          4150,
          3700,
          3800,
          3775,
          3700,
          4050,
          3575,
          4050,
          3300,
          3700,
          3450,
          4400,
          3600,
          3400,
          2900,
          3800,
          3300,
          4150,
          3400,
          3800,
          3700,
          4550,
          3200,
          4300,
          3350,
          4100,
          3600,
          3900,
          3850,
          4800,
          2700,
          4500,
          3950,
          3650,
          3550,
          3500,
          3675,
          4450,
          3400,
          4300,
          3250,
          3675,
          3325,
          3950,
          3600,
          4050,
          3350,
          3450,
          3250,
          4050,
          3800,
          3525,
          3650,
          3650,
          4000,
          3400,
          3775,
          4100,
          3775,
          4500,
          5700,
          4450,
          5700,
          5400,
          4550,
          4800,
          5200,
          4400,
          5150,
          4650,
          5550,
          4650,
          5850,
          4200,
          5850,
          4150,
          6300,
          4800,
          5350,
          5700,
          5000,
          4400,
          5050,
          5000,
          5100,
          5650,
          4600,
          5550,
          4700,
          5050,
          6050,
          5150,
          5400,
          4950,
          5250,
          4350,
          5350,
          3950,
          5700,
          4300,
          4750,
          5550,
          4900,
          4200,
          5400,
          5100,
          5300,
          4850,
          5300,
          4400,
          5000,
          4900,
          5050,
          4300,
          5000,
          4450,
          5550,
          4200,
          5300,
          4400,
          5650,
          4700,
          5700,
          5800,
          4700,
          5550,
          4750,
          5000,
          5100,
          5200,
          4700,
          5800,
          4600,
          6000,
          4750,
          5950,
          4625,
          5450,
          4725,
          5350,
          4750,
          5600,
          4600,
          5300,
          4875,
          5550,
          4950,
          5400,
          4750,
          5650,
          4850,
          5200,
          4925,
          4875,
          4625,
          5250,
          4850,
          5600,
          4975,
          5500,
          5500,
          4700,
          5500,
          4575,
          5500,
          5000,
          5950,
          4650,
          5500,
          4375,
          5850,
          6000,
          4925,
          4850,
          5750,
          5200,
          5400
         ],
         "xaxis": "x10",
         "yaxis": "y10"
        },
        {
         "marker": {
          "color": "#AB63FA"
         },
         "mode": "markers",
         "showlegend": false,
         "type": "scatter",
         "x": [
          -2.7394693011353435,
          -2.5031972666378133,
          -2.356228884885076,
          -2.247385754686027,
          -2.160044423184283,
          -2.0866136000540965,
          -2.0229633809989873,
          -1.966587642839119,
          -1.9158466693962373,
          -1.8696066471189026,
          -1.827049629469658,
          -1.7875653879202458,
          -1.75068607125217,
          -1.7160447833608958,
          -1.6833482640036077,
          -1.6523582633698055,
          -1.6228784805249126,
          -1.5947451783462447,
          -1.5678202959084404,
          -1.5419862988544464,
          -1.5171422652485793,
          -1.4932008664512426,
          -1.4700860074244941,
          -1.4477309603333306,
          -1.4260768722728474,
          -1.4050715603096329,
          -1.3846685297022652,
          -1.3648261673056918,
          -1.3455070738160948,
          -1.3266775070350318,
          -1.3083069146403565,
          -1.290367539673776,
          -1.2728340855266451,
          -1.2556834299331134,
          -1.23889437958136,
          -1.2224474585867124,
          -1.2063247253493694,
          -1.1905096133284863,
          -1.1749867920660904,
          -1.1597420454353515,
          -1.1447621646036692,
          -1.1300348536185383,
          -1.1155486458640713,
          -1.1012928299140692,
          -1.0872573835362347,
          -1.0734329147910218,
          -1.059810609325424,
          -1.046382183092732,
          -1.033139839838658,
          -1.0200762327862014,
          -1.0071844300291466,
          -0.994457883209753,
          -0.9818903991119535,
          -0.9694761138489097,
          -0.9572094693644218,
          -0.9450851920025287,
          -0.9330982729296341,
          -0.9212439502193468,
          -0.9095176924325932,
          -0.8979151835449687,
          -0.886432309090155,
          -0.8750651434029384,
          -0.8638099378582048,
          -0.852663110013538,
          -0.8416212335729142,
          -0.8306810290976713,
          -0.8198393553985739,
          -0.809093201549562,
          -0.7984396794697326,
          -0.7878760170254153,
          -0.7773995516089012,
          -0.7670077241545666,
          -0.7566980735568707,
          -0.746468231458026,
          -0.7363159173761294,
          -0.7262389341471894,
          -0.716235163656892,
          -0.7063025628400874,
          -0.696439159927908,
          -0.6866430509241719,
          -0.6769123962942973,
          -0.6672454178513608,
          -0.6576403958252243,
          -0.6480956661018106,
          -0.6386096176206588,
          -0.6291806899198484,
          -0.6198073708182489,
          -0.6104881942258346,
          -0.6012217380735386,
          -0.5920066223547552,
          -0.5828415072712162,
          -0.5737250914765053,
          -0.564656110410974,
          -0.5556333347222873,
          -0.5466555687662383,
          -0.5377216491828647,
          -0.5288304435432458,
          -0.5199808490626915,
          -0.5111717913763268,
          -0.5024022233733555,
          -0.493671124086536,
          -0.4849774976336414,
          -0.47632037220788664,
          -0.46769879911450823,
          -0.4591118518508644,
          -0.45055862522759604,
          -0.44203823452854335,
          -0.4335498147072649,
          -0.4250925196181335,
          -0.41666552128011664,
          -0.4082680091714618,
          -0.39989918955361464,
          -0.39155828482280386,
          -0.3832445328878139,
          -0.3749571865725573,
          -0.36669551304214115,
          -0.3584587932511938,
          -0.3502463214132924,
          -0.3420574044903942,
          -0.33389136170123906,
          -0.32574752404774643,
          -0.31762523385848135,
          -0.3095238443483213,
          -0.30144271919349197,
          -0.29338123212119327,
          -0.2853387665130725,
          -0.2773147150218403,
          -0.26930847920036516,
          -0.2613194691426085,
          -0.2533471031357997,
          -0.2453908073232792,
          -0.23745001537746058,
          -0.22952416818239713,
          -0.2216127135254519,
          -0.2137151057976028,
          -0.20583080570192913,
          -0.19795927996984825,
          -0.19010000108469102,
          -0.18225244701221852,
          -0.17441610093770257,
          -0.16659045100920616,
          -0.1587749900867137,
          -0.15096921549677725,
          -0.14317262879235282,
          -0.1353847355175167,
          -0.12760504497676112,
          -0.11983307000857707,
          -0.11206832676304594,
          -0.10431033448316418,
          -0.09655861528963908,
          -0.08881269396889788,
          -0.08107209776405953,
          -0.07333635616862769,
          -0.0656050007226638,
          -0.05787756481121016,
          -0.05015358346473367,
          -0.0424325931613663,
          -0.034714131630724,
          -0.026997737659084496,
          -0.019282950895712157,
          -0.011569311660117662,
          -0.0038563607500418954,
          0.0038563607500417562,
          0.011569311660117524,
          0.019282950895712157,
          0.026997737659084496,
          0.034714131630724,
          0.0424325931613663,
          0.05015358346473367,
          0.0578775648112103,
          0.06560500072266394,
          0.07333635616862783,
          0.0810720977640594,
          0.08881269396889774,
          0.09655861528963908,
          0.10431033448316418,
          0.11206832676304594,
          0.11983307000857707,
          0.12760504497676112,
          0.13538473551751684,
          0.14317262879235296,
          0.1509692154967774,
          0.15877499008671356,
          0.16659045100920603,
          0.17441610093770257,
          0.18225244701221852,
          0.19010000108469102,
          0.19795927996984825,
          0.20583080570192913,
          0.21371510579760294,
          0.22161271352545203,
          0.22952416818239726,
          0.23745001537746044,
          0.24539080732327906,
          0.2533471031357997,
          0.2613194691426085,
          0.26930847920036516,
          0.2773147150218403,
          0.2853387665130725,
          0.29338123212119344,
          0.30144271919349214,
          0.30952384434832114,
          0.3176252338584812,
          0.3257475240477463,
          0.33389136170123906,
          0.3420574044903942,
          0.3502463214132924,
          0.3584587932511938,
          0.36669551304214115,
          0.37495718657255744,
          0.383244532887814,
          0.39155828482280375,
          0.3998991895536145,
          0.40826800917146167,
          0.41666552128011664,
          0.4250925196181335,
          0.4335498147072649,
          0.44203823452854335,
          0.45055862522759604,
          0.45911185185086456,
          0.4676987991145084,
          0.4763203722078865,
          0.4849774976336413,
          0.4936711240865359,
          0.5024022233733555,
          0.5111717913763268,
          0.5199808490626915,
          0.5288304435432458,
          0.5377216491828648,
          0.5466555687662384,
          0.5556333347222874,
          0.5646561104109737,
          0.5737250914765051,
          0.5828415072712162,
          0.5920066223547552,
          0.6012217380735386,
          0.6104881942258346,
          0.6198073708182489,
          0.6291806899198488,
          0.6386096176206589,
          0.6480956661018107,
          0.657640395825224,
          0.6672454178513606,
          0.6769123962942973,
          0.6866430509241719,
          0.696439159927908,
          0.7063025628400874,
          0.716235163656892,
          0.7262389341471894,
          0.7363159173761297,
          0.7464682314580263,
          0.7566980735568705,
          0.7670077241545666,
          0.7773995516089012,
          0.7878760170254153,
          0.7984396794697326,
          0.809093201549562,
          0.8198393553985739,
          0.8306810290976713,
          0.8416212335729143,
          0.8526631100135379,
          0.8638099378582046,
          0.8750651434029384,
          0.886432309090155,
          0.8979151835449687,
          0.9095176924325932,
          0.9212439502193468,
          0.9330982729296341,
          0.9450851920025287,
          0.9572094693644219,
          0.9694761138489095,
          0.9818903991119531,
          0.994457883209753,
          1.0071844300291466,
          1.0200762327862014,
          1.033139839838658,
          1.046382183092732,
          1.059810609325424,
          1.0734329147910218,
          1.0872573835362356,
          1.1012928299140692,
          1.1155486458640713,
          1.1300348536185383,
          1.1447621646036685,
          1.1597420454353515,
          1.1749867920660904,
          1.1905096133284863,
          1.2063247253493699,
          1.2224474585867133,
          1.23889437958136,
          1.255683429933113,
          1.2728340855266451,
          1.290367539673776,
          1.3083069146403565,
          1.3266775070350318,
          1.3455070738160948,
          1.3648261673056923,
          1.3846685297022652,
          1.4050715603096329,
          1.4260768722728474,
          1.44773096033333,
          1.4700860074244935,
          1.493200866451242,
          1.5171422652485793,
          1.5419862988544464,
          1.5678202959084404,
          1.5947451783462454,
          1.622878480524913,
          1.6523582633698064,
          1.6833482640036084,
          1.7160447833608958,
          1.7506860712521692,
          1.7875653879202453,
          1.827049629469658,
          1.8696066471189026,
          1.9158466693962373,
          1.9665876428391196,
          2.0229633809989878,
          2.0866136000540974,
          2.1600444231842837,
          2.247385754686025,
          2.3562288848850748,
          2.5031972666378124,
          2.7394693011353426
         ],
         "xaxis": "x11",
         "y": [
          -1.87365617339996,
          -1.6880189683090103,
          -1.6880189683090103,
          -1.6261398999453605,
          -1.6261398999453605,
          -1.6261398999453605,
          -1.6261398999453605,
          -1.5952003657635354,
          -1.5023817632180607,
          -1.5023817632180607,
          -1.4405026948544108,
          -1.4405026948544108,
          -1.4405026948544108,
          -1.4405026948544108,
          -1.4095631606725858,
          -1.378623626490761,
          -1.316744558127111,
          -1.316744558127111,
          -1.316744558127111,
          -1.316744558127111,
          -1.285805023945286,
          -1.285805023945286,
          -1.2548654897634612,
          -1.2548654897634612,
          -1.2548654897634612,
          -1.2548654897634612,
          -1.1929864213998114,
          -1.1929864213998114,
          -1.1929864213998114,
          -1.1929864213998114,
          -1.1929864213998114,
          -1.1620468872179863,
          -1.1311073530361615,
          -1.1311073530361615,
          -1.1311073530361615,
          -1.1311073530361615,
          -1.1311073530361615,
          -1.1001678188543365,
          -1.1001678188543365,
          -1.1001678188543365,
          -1.1001678188543365,
          -1.1001678188543365,
          -1.0692282846725116,
          -1.0692282846725116,
          -1.0692282846725116,
          -1.0692282846725116,
          -1.0692282846725116,
          -1.0073492163088618,
          -1.0073492163088618,
          -1.0073492163088618,
          -1.0073492163088618,
          -1.0073492163088618,
          -1.0073492163088618,
          -1.0073492163088618,
          -1.0073492163088618,
          -0.9764096821270368,
          -0.9454701479452119,
          -0.9454701479452119,
          -0.9454701479452119,
          -0.9454701479452119,
          -0.9454701479452119,
          -0.9454701479452119,
          -0.9454701479452119,
          -0.9454701479452119,
          -0.914530613763387,
          -0.914530613763387,
          -0.883591079581562,
          -0.883591079581562,
          -0.883591079581562,
          -0.883591079581562,
          -0.883591079581562,
          -0.883591079581562,
          -0.883591079581562,
          -0.8526515453997371,
          -0.8526515453997371,
          -0.8217120112179122,
          -0.8217120112179122,
          -0.8217120112179122,
          -0.8217120112179122,
          -0.8217120112179122,
          -0.8217120112179122,
          -0.8217120112179122,
          -0.8217120112179122,
          -0.8217120112179122,
          -0.7907724770360872,
          -0.7598329428542623,
          -0.7598329428542623,
          -0.7598329428542623,
          -0.7598329428542623,
          -0.7598329428542623,
          -0.7598329428542623,
          -0.7598329428542623,
          -0.7288934086724373,
          -0.6979538744906124,
          -0.6979538744906124,
          -0.6979538744906124,
          -0.6979538744906124,
          -0.6979538744906124,
          -0.6979538744906124,
          -0.6670143403087875,
          -0.6670143403087875,
          -0.6360748061269625,
          -0.6360748061269625,
          -0.6360748061269625,
          -0.6360748061269625,
          -0.6360748061269625,
          -0.6360748061269625,
          -0.6360748061269625,
          -0.6360748061269625,
          -0.6360748061269625,
          -0.6051352719451376,
          -0.6051352719451376,
          -0.6051352719451376,
          -0.5741957377633127,
          -0.5741957377633127,
          -0.5741957377633127,
          -0.5741957377633127,
          -0.5432562035814877,
          -0.5432562035814877,
          -0.5432562035814877,
          -0.5432562035814877,
          -0.5123166693996628,
          -0.5123166693996628,
          -0.5123166693996628,
          -0.5123166693996628,
          -0.5123166693996628,
          -0.5123166693996628,
          -0.5123166693996628,
          -0.5123166693996628,
          -0.5123166693996628,
          -0.5123166693996628,
          -0.5123166693996628,
          -0.4813771352178378,
          -0.4504376010360129,
          -0.41949806685418795,
          -0.388558532672363,
          -0.388558532672363,
          -0.388558532672363,
          -0.388558532672363,
          -0.388558532672363,
          -0.388558532672363,
          -0.388558532672363,
          -0.388558532672363,
          -0.388558532672363,
          -0.32667946430871314,
          -0.32667946430871314,
          -0.32667946430871314,
          -0.32667946430871314,
          -0.32667946430871314,
          -0.32667946430871314,
          -0.32667946430871314,
          -0.32667946430871314,
          -0.32667946430871314,
          -0.2957399301268882,
          -0.26480039594506327,
          -0.26480039594506327,
          -0.26480039594506327,
          -0.26480039594506327,
          -0.26480039594506327,
          -0.2029213275814134,
          -0.2029213275814134,
          -0.2029213275814134,
          -0.2029213275814134,
          -0.2029213275814134,
          -0.2029213275814134,
          -0.17198179339958847,
          -0.14104225921776353,
          -0.14104225921776353,
          -0.14104225921776353,
          -0.14104225921776353,
          -0.07916319085411366,
          -0.07916319085411366,
          -0.07916319085411366,
          -0.07916319085411366,
          -0.07916319085411366,
          -0.07916319085411366,
          -0.01728412249046379,
          -0.01728412249046379,
          -0.01728412249046379,
          -0.01728412249046379,
          -0.01728412249046379,
          0.04459494587318608,
          0.04459494587318608,
          0.04459494587318608,
          0.04459494587318608,
          0.07553448005501101,
          0.10647401423683595,
          0.10647401423683595,
          0.10647401423683595,
          0.10647401423683595,
          0.10647401423683595,
          0.10647401423683595,
          0.10647401423683595,
          0.10647401423683595,
          0.16835308260048581,
          0.16835308260048581,
          0.19929261678231075,
          0.23023215096413568,
          0.23023215096413568,
          0.23023215096413568,
          0.23023215096413568,
          0.23023215096413568,
          0.23023215096413568,
          0.23023215096413568,
          0.23023215096413568,
          0.29211121932778555,
          0.29211121932778555,
          0.29211121932778555,
          0.29211121932778555,
          0.29211121932778555,
          0.3230507535096105,
          0.3539902876914354,
          0.3539902876914354,
          0.3539902876914354,
          0.4158693560550853,
          0.4158693560550853,
          0.44680889023691023,
          0.47774842441873516,
          0.47774842441873516,
          0.47774842441873516,
          0.47774842441873516,
          0.47774842441873516,
          0.5086879586005602,
          0.5086879586005602,
          0.5396274927823851,
          0.5396274927823851,
          0.5396274927823851,
          0.57056702696421,
          0.601506561146035,
          0.601506561146035,
          0.601506561146035,
          0.601506561146035,
          0.601506561146035,
          0.601506561146035,
          0.6324460953278599,
          0.6324460953278599,
          0.6633856295096848,
          0.6633856295096848,
          0.6633856295096848,
          0.6633856295096848,
          0.6633856295096848,
          0.6943251636915098,
          0.7252646978733347,
          0.7252646978733347,
          0.7252646978733347,
          0.7871437662369846,
          0.7871437662369846,
          0.7871437662369846,
          0.7871437662369846,
          0.8180833004188095,
          0.8180833004188095,
          0.8490228346006344,
          0.8490228346006344,
          0.8799623687824594,
          0.8799623687824594,
          0.9109019029642843,
          0.9109019029642843,
          0.9418414371461092,
          0.9727809713279342,
          0.9727809713279342,
          0.9727809713279342,
          0.9727809713279342,
          0.9727809713279342,
          0.9727809713279342,
          1.034660039691584,
          1.034660039691584,
          1.034660039691584,
          1.0965391080552338,
          1.0965391080552338,
          1.0965391080552338,
          1.1584181764188837,
          1.1584181764188837,
          1.2202972447825335,
          1.2202972447825335,
          1.2202972447825335,
          1.2202972447825335,
          1.2821763131461834,
          1.2821763131461834,
          1.3440553815098333,
          1.3440553815098333,
          1.3440553815098333,
          1.3440553815098333,
          1.4059344498734831,
          1.4059344498734831,
          1.4059344498734831,
          1.467813518237133,
          1.467813518237133,
          1.467813518237133,
          1.467813518237133,
          1.467813518237133,
          1.5296925866007829,
          1.5915716549644328,
          1.5915716549644328,
          1.5915716549644328,
          1.5915716549644328,
          1.5915716549644328,
          1.6534507233280826,
          1.6534507233280826,
          1.6534507233280826,
          1.6534507233280826,
          1.6534507233280826,
          1.6534507233280826,
          1.7153297916917325,
          1.7153297916917325,
          1.7772088600553824,
          1.7772088600553824,
          1.7772088600553824,
          1.8390879284190322,
          1.8390879284190322,
          1.8390879284190322,
          1.8390879284190322,
          1.8390879284190322,
          1.900966996782682,
          1.962846065146332,
          1.962846065146332,
          2.024725133509982,
          2.024725133509982,
          2.024725133509982,
          2.1484832702372816,
          2.1484832702372816,
          2.2103623386009317,
          2.2103623386009317,
          2.2722414069645813,
          2.581636748782831
         ],
         "yaxis": "y11"
        },
        {
         "line": {
          "color": "white"
         },
         "mode": "lines",
         "showlegend": false,
         "type": "scatter",
         "x": [
          -2.8490480731807573,
          2.8490480731807564
         ],
         "xaxis": "x11",
         "y": [
          -2.8490480731807573,
          2.8490480731807564
         ],
         "yaxis": "y11"
        }
       ],
       "layout": {
        "annotations": [
         {
          "font": {
           "size": 16
          },
          "showarrow": false,
          "text": "Culmen Length(mm)",
          "x": 0.14444444444444446,
          "xanchor": "center",
          "xref": "paper",
          "y": 1,
          "yanchor": "bottom",
          "yref": "paper"
         },
         {
          "font": {
           "size": 16
          },
          "showarrow": false,
          "text": "Culmen Length qq-plot",
          "x": 0.5,
          "xanchor": "center",
          "xref": "paper",
          "y": 1,
          "yanchor": "bottom",
          "yref": "paper"
         },
         {
          "font": {
           "size": 16
          },
          "showarrow": false,
          "text": "Shapiro test Culmen Length",
          "x": 0.8555555555555556,
          "xanchor": "center",
          "xref": "paper",
          "y": 1,
          "yanchor": "bottom",
          "yref": "paper"
         },
         {
          "font": {
           "size": 16
          },
          "showarrow": false,
          "text": "Culmen Depth(mm)",
          "x": 0.14444444444444446,
          "xanchor": "center",
          "xref": "paper",
          "y": 0.7375,
          "yanchor": "bottom",
          "yref": "paper"
         },
         {
          "font": {
           "size": 16
          },
          "showarrow": false,
          "text": "Culmen Depth qq-plot",
          "x": 0.5,
          "xanchor": "center",
          "xref": "paper",
          "y": 0.7375,
          "yanchor": "bottom",
          "yref": "paper"
         },
         {
          "font": {
           "size": 16
          },
          "showarrow": false,
          "text": "Shapiro test Culmen Depth",
          "x": 0.8555555555555556,
          "xanchor": "center",
          "xref": "paper",
          "y": 0.7375,
          "yanchor": "bottom",
          "yref": "paper"
         },
         {
          "font": {
           "size": 16
          },
          "showarrow": false,
          "text": "Flipper Length(mm)",
          "x": 0.14444444444444446,
          "xanchor": "center",
          "xref": "paper",
          "y": 0.475,
          "yanchor": "bottom",
          "yref": "paper"
         },
         {
          "font": {
           "size": 16
          },
          "showarrow": false,
          "text": "Flipper Length qq-plot",
          "x": 0.5,
          "xanchor": "center",
          "xref": "paper",
          "y": 0.475,
          "yanchor": "bottom",
          "yref": "paper"
         },
         {
          "font": {
           "size": 16
          },
          "showarrow": false,
          "text": "Shapiro test Flipper Length",
          "x": 0.8555555555555556,
          "xanchor": "center",
          "xref": "paper",
          "y": 0.475,
          "yanchor": "bottom",
          "yref": "paper"
         },
         {
          "font": {
           "size": 16
          },
          "showarrow": false,
          "text": "Body Mass(g)",
          "x": 0.14444444444444446,
          "xanchor": "center",
          "xref": "paper",
          "y": 0.2125,
          "yanchor": "bottom",
          "yref": "paper"
         },
         {
          "font": {
           "size": 16
          },
          "showarrow": false,
          "text": "Body Mass qq-plot",
          "x": 0.5,
          "xanchor": "center",
          "xref": "paper",
          "y": 0.2125,
          "yanchor": "bottom",
          "yref": "paper"
         },
         {
          "font": {
           "size": 16
          },
          "showarrow": false,
          "text": "Shapiro test BodyMass",
          "x": 0.8555555555555556,
          "xanchor": "center",
          "xref": "paper",
          "y": 0.2125,
          "yanchor": "bottom",
          "yref": "paper"
         },
         {
          "text": "p_value of shapiro: 1.6762794984970242e-05<br>Shapiro Normality test H0 reject",
          "xref": "x3",
          "yref": "y3"
         },
         {
          "text": "p_value of shapiro: 1.1346883184160106e-05<br>Shapiro Normality test H0 reject",
          "xref": "x6",
          "yref": "y6"
         },
         {
          "text": "p_value of shapiro: 1.0308026432426232e-08<br>Shapiro Normality test H0 reject",
          "xref": "x9",
          "yref": "y9"
         },
         {
          "text": "p_value of shapiro: 6.999837154353372e-08<br>Shapiro Normality test H0 reject",
          "xref": "x12",
          "yref": "y12"
         }
        ],
        "height": 1500,
        "margin": {
         "t": 150
        },
        "showlegend": false,
        "template": {
         "data": {
          "bar": [
           {
            "error_x": {
             "color": "#f2f5fa"
            },
            "error_y": {
             "color": "#f2f5fa"
            },
            "marker": {
             "line": {
              "color": "rgb(17,17,17)",
              "width": 0.5
             },
             "pattern": {
              "fillmode": "overlay",
              "size": 10,
              "solidity": 0.2
             }
            },
            "type": "bar"
           }
          ],
          "barpolar": [
           {
            "marker": {
             "line": {
              "color": "rgb(17,17,17)",
              "width": 0.5
             },
             "pattern": {
              "fillmode": "overlay",
              "size": 10,
              "solidity": 0.2
             }
            },
            "type": "barpolar"
           }
          ],
          "carpet": [
           {
            "aaxis": {
             "endlinecolor": "#A2B1C6",
             "gridcolor": "#506784",
             "linecolor": "#506784",
             "minorgridcolor": "#506784",
             "startlinecolor": "#A2B1C6"
            },
            "baxis": {
             "endlinecolor": "#A2B1C6",
             "gridcolor": "#506784",
             "linecolor": "#506784",
             "minorgridcolor": "#506784",
             "startlinecolor": "#A2B1C6"
            },
            "type": "carpet"
           }
          ],
          "choropleth": [
           {
            "colorbar": {
             "outlinewidth": 0,
             "ticks": ""
            },
            "type": "choropleth"
           }
          ],
          "contour": [
           {
            "colorbar": {
             "outlinewidth": 0,
             "ticks": ""
            },
            "colorscale": [
             [
              0,
              "#0d0887"
             ],
             [
              0.1111111111111111,
              "#46039f"
             ],
             [
              0.2222222222222222,
              "#7201a8"
             ],
             [
              0.3333333333333333,
              "#9c179e"
             ],
             [
              0.4444444444444444,
              "#bd3786"
             ],
             [
              0.5555555555555556,
              "#d8576b"
             ],
             [
              0.6666666666666666,
              "#ed7953"
             ],
             [
              0.7777777777777778,
              "#fb9f3a"
             ],
             [
              0.8888888888888888,
              "#fdca26"
             ],
             [
              1,
              "#f0f921"
             ]
            ],
            "type": "contour"
           }
          ],
          "contourcarpet": [
           {
            "colorbar": {
             "outlinewidth": 0,
             "ticks": ""
            },
            "type": "contourcarpet"
           }
          ],
          "heatmap": [
           {
            "colorbar": {
             "outlinewidth": 0,
             "ticks": ""
            },
            "colorscale": [
             [
              0,
              "#0d0887"
             ],
             [
              0.1111111111111111,
              "#46039f"
             ],
             [
              0.2222222222222222,
              "#7201a8"
             ],
             [
              0.3333333333333333,
              "#9c179e"
             ],
             [
              0.4444444444444444,
              "#bd3786"
             ],
             [
              0.5555555555555556,
              "#d8576b"
             ],
             [
              0.6666666666666666,
              "#ed7953"
             ],
             [
              0.7777777777777778,
              "#fb9f3a"
             ],
             [
              0.8888888888888888,
              "#fdca26"
             ],
             [
              1,
              "#f0f921"
             ]
            ],
            "type": "heatmap"
           }
          ],
          "heatmapgl": [
           {
            "colorbar": {
             "outlinewidth": 0,
             "ticks": ""
            },
            "colorscale": [
             [
              0,
              "#0d0887"
             ],
             [
              0.1111111111111111,
              "#46039f"
             ],
             [
              0.2222222222222222,
              "#7201a8"
             ],
             [
              0.3333333333333333,
              "#9c179e"
             ],
             [
              0.4444444444444444,
              "#bd3786"
             ],
             [
              0.5555555555555556,
              "#d8576b"
             ],
             [
              0.6666666666666666,
              "#ed7953"
             ],
             [
              0.7777777777777778,
              "#fb9f3a"
             ],
             [
              0.8888888888888888,
              "#fdca26"
             ],
             [
              1,
              "#f0f921"
             ]
            ],
            "type": "heatmapgl"
           }
          ],
          "histogram": [
           {
            "marker": {
             "pattern": {
              "fillmode": "overlay",
              "size": 10,
              "solidity": 0.2
             }
            },
            "type": "histogram"
           }
          ],
          "histogram2d": [
           {
            "colorbar": {
             "outlinewidth": 0,
             "ticks": ""
            },
            "colorscale": [
             [
              0,
              "#0d0887"
             ],
             [
              0.1111111111111111,
              "#46039f"
             ],
             [
              0.2222222222222222,
              "#7201a8"
             ],
             [
              0.3333333333333333,
              "#9c179e"
             ],
             [
              0.4444444444444444,
              "#bd3786"
             ],
             [
              0.5555555555555556,
              "#d8576b"
             ],
             [
              0.6666666666666666,
              "#ed7953"
             ],
             [
              0.7777777777777778,
              "#fb9f3a"
             ],
             [
              0.8888888888888888,
              "#fdca26"
             ],
             [
              1,
              "#f0f921"
             ]
            ],
            "type": "histogram2d"
           }
          ],
          "histogram2dcontour": [
           {
            "colorbar": {
             "outlinewidth": 0,
             "ticks": ""
            },
            "colorscale": [
             [
              0,
              "#0d0887"
             ],
             [
              0.1111111111111111,
              "#46039f"
             ],
             [
              0.2222222222222222,
              "#7201a8"
             ],
             [
              0.3333333333333333,
              "#9c179e"
             ],
             [
              0.4444444444444444,
              "#bd3786"
             ],
             [
              0.5555555555555556,
              "#d8576b"
             ],
             [
              0.6666666666666666,
              "#ed7953"
             ],
             [
              0.7777777777777778,
              "#fb9f3a"
             ],
             [
              0.8888888888888888,
              "#fdca26"
             ],
             [
              1,
              "#f0f921"
             ]
            ],
            "type": "histogram2dcontour"
           }
          ],
          "mesh3d": [
           {
            "colorbar": {
             "outlinewidth": 0,
             "ticks": ""
            },
            "type": "mesh3d"
           }
          ],
          "parcoords": [
           {
            "line": {
             "colorbar": {
              "outlinewidth": 0,
              "ticks": ""
             }
            },
            "type": "parcoords"
           }
          ],
          "pie": [
           {
            "automargin": true,
            "type": "pie"
           }
          ],
          "scatter": [
           {
            "marker": {
             "line": {
              "color": "#283442"
             }
            },
            "type": "scatter"
           }
          ],
          "scatter3d": [
           {
            "line": {
             "colorbar": {
              "outlinewidth": 0,
              "ticks": ""
             }
            },
            "marker": {
             "colorbar": {
              "outlinewidth": 0,
              "ticks": ""
             }
            },
            "type": "scatter3d"
           }
          ],
          "scattercarpet": [
           {
            "marker": {
             "colorbar": {
              "outlinewidth": 0,
              "ticks": ""
             }
            },
            "type": "scattercarpet"
           }
          ],
          "scattergeo": [
           {
            "marker": {
             "colorbar": {
              "outlinewidth": 0,
              "ticks": ""
             }
            },
            "type": "scattergeo"
           }
          ],
          "scattergl": [
           {
            "marker": {
             "line": {
              "color": "#283442"
             }
            },
            "type": "scattergl"
           }
          ],
          "scattermapbox": [
           {
            "marker": {
             "colorbar": {
              "outlinewidth": 0,
              "ticks": ""
             }
            },
            "type": "scattermapbox"
           }
          ],
          "scatterpolar": [
           {
            "marker": {
             "colorbar": {
              "outlinewidth": 0,
              "ticks": ""
             }
            },
            "type": "scatterpolar"
           }
          ],
          "scatterpolargl": [
           {
            "marker": {
             "colorbar": {
              "outlinewidth": 0,
              "ticks": ""
             }
            },
            "type": "scatterpolargl"
           }
          ],
          "scatterternary": [
           {
            "marker": {
             "colorbar": {
              "outlinewidth": 0,
              "ticks": ""
             }
            },
            "type": "scatterternary"
           }
          ],
          "surface": [
           {
            "colorbar": {
             "outlinewidth": 0,
             "ticks": ""
            },
            "colorscale": [
             [
              0,
              "#0d0887"
             ],
             [
              0.1111111111111111,
              "#46039f"
             ],
             [
              0.2222222222222222,
              "#7201a8"
             ],
             [
              0.3333333333333333,
              "#9c179e"
             ],
             [
              0.4444444444444444,
              "#bd3786"
             ],
             [
              0.5555555555555556,
              "#d8576b"
             ],
             [
              0.6666666666666666,
              "#ed7953"
             ],
             [
              0.7777777777777778,
              "#fb9f3a"
             ],
             [
              0.8888888888888888,
              "#fdca26"
             ],
             [
              1,
              "#f0f921"
             ]
            ],
            "type": "surface"
           }
          ],
          "table": [
           {
            "cells": {
             "fill": {
              "color": "#506784"
             },
             "line": {
              "color": "rgb(17,17,17)"
             }
            },
            "header": {
             "fill": {
              "color": "#2a3f5f"
             },
             "line": {
              "color": "rgb(17,17,17)"
             }
            },
            "type": "table"
           }
          ]
         },
         "layout": {
          "annotationdefaults": {
           "arrowcolor": "#f2f5fa",
           "arrowhead": 0,
           "arrowwidth": 1
          },
          "autotypenumbers": "strict",
          "coloraxis": {
           "colorbar": {
            "outlinewidth": 0,
            "ticks": ""
           }
          },
          "colorscale": {
           "diverging": [
            [
             0,
             "#8e0152"
            ],
            [
             0.1,
             "#c51b7d"
            ],
            [
             0.2,
             "#de77ae"
            ],
            [
             0.3,
             "#f1b6da"
            ],
            [
             0.4,
             "#fde0ef"
            ],
            [
             0.5,
             "#f7f7f7"
            ],
            [
             0.6,
             "#e6f5d0"
            ],
            [
             0.7,
             "#b8e186"
            ],
            [
             0.8,
             "#7fbc41"
            ],
            [
             0.9,
             "#4d9221"
            ],
            [
             1,
             "#276419"
            ]
           ],
           "sequential": [
            [
             0,
             "#0d0887"
            ],
            [
             0.1111111111111111,
             "#46039f"
            ],
            [
             0.2222222222222222,
             "#7201a8"
            ],
            [
             0.3333333333333333,
             "#9c179e"
            ],
            [
             0.4444444444444444,
             "#bd3786"
            ],
            [
             0.5555555555555556,
             "#d8576b"
            ],
            [
             0.6666666666666666,
             "#ed7953"
            ],
            [
             0.7777777777777778,
             "#fb9f3a"
            ],
            [
             0.8888888888888888,
             "#fdca26"
            ],
            [
             1,
             "#f0f921"
            ]
           ],
           "sequentialminus": [
            [
             0,
             "#0d0887"
            ],
            [
             0.1111111111111111,
             "#46039f"
            ],
            [
             0.2222222222222222,
             "#7201a8"
            ],
            [
             0.3333333333333333,
             "#9c179e"
            ],
            [
             0.4444444444444444,
             "#bd3786"
            ],
            [
             0.5555555555555556,
             "#d8576b"
            ],
            [
             0.6666666666666666,
             "#ed7953"
            ],
            [
             0.7777777777777778,
             "#fb9f3a"
            ],
            [
             0.8888888888888888,
             "#fdca26"
            ],
            [
             1,
             "#f0f921"
            ]
           ]
          },
          "colorway": [
           "#636efa",
           "#EF553B",
           "#00cc96",
           "#ab63fa",
           "#FFA15A",
           "#19d3f3",
           "#FF6692",
           "#B6E880",
           "#FF97FF",
           "#FECB52"
          ],
          "font": {
           "color": "#f2f5fa",
           "family": "Fira Code",
           "size": 20
          },
          "geo": {
           "bgcolor": "rgb(17,17,17)",
           "lakecolor": "rgb(17,17,17)",
           "landcolor": "rgb(17,17,17)",
           "showlakes": true,
           "showland": true,
           "subunitcolor": "#506784"
          },
          "hoverlabel": {
           "align": "left"
          },
          "hovermode": "closest",
          "mapbox": {
           "style": "dark"
          },
          "paper_bgcolor": "rgb(17,17,17)",
          "plot_bgcolor": "rgb(17,17,17)",
          "polar": {
           "angularaxis": {
            "gridcolor": "#506784",
            "linecolor": "#506784",
            "ticks": ""
           },
           "bgcolor": "rgb(17,17,17)",
           "radialaxis": {
            "gridcolor": "#506784",
            "linecolor": "#506784",
            "ticks": ""
           }
          },
          "scene": {
           "xaxis": {
            "backgroundcolor": "rgb(17,17,17)",
            "gridcolor": "#506784",
            "gridwidth": 2,
            "linecolor": "#506784",
            "showbackground": true,
            "ticks": "",
            "zerolinecolor": "#C8D4E3"
           },
           "yaxis": {
            "backgroundcolor": "rgb(17,17,17)",
            "gridcolor": "#506784",
            "gridwidth": 2,
            "linecolor": "#506784",
            "showbackground": true,
            "ticks": "",
            "zerolinecolor": "#C8D4E3"
           },
           "zaxis": {
            "backgroundcolor": "rgb(17,17,17)",
            "gridcolor": "#506784",
            "gridwidth": 2,
            "linecolor": "#506784",
            "showbackground": true,
            "ticks": "",
            "zerolinecolor": "#C8D4E3"
           }
          },
          "shapedefaults": {
           "line": {
            "color": "#f2f5fa"
           }
          },
          "sliderdefaults": {
           "bgcolor": "#C8D4E3",
           "bordercolor": "rgb(17,17,17)",
           "borderwidth": 1,
           "tickwidth": 0
          },
          "ternary": {
           "aaxis": {
            "gridcolor": "#506784",
            "linecolor": "#506784",
            "ticks": ""
           },
           "baxis": {
            "gridcolor": "#506784",
            "linecolor": "#506784",
            "ticks": ""
           },
           "bgcolor": "rgb(17,17,17)",
           "caxis": {
            "gridcolor": "#506784",
            "linecolor": "#506784",
            "ticks": ""
           }
          },
          "title": {
           "x": 0.05
          },
          "updatemenudefaults": {
           "bgcolor": "#506784",
           "borderwidth": 0
          },
          "xaxis": {
           "automargin": true,
           "gridcolor": "#283442",
           "linecolor": "#506784",
           "ticks": "",
           "title": {
            "standoff": 15
           },
           "zerolinecolor": "#283442",
           "zerolinewidth": 2
          },
          "yaxis": {
           "automargin": true,
           "gridcolor": "#283442",
           "linecolor": "#506784",
           "ticks": "",
           "title": {
            "standoff": 15
           },
           "zerolinecolor": "#283442",
           "zerolinewidth": 2
          }
         }
        },
        "title": {
         "font": {
          "size": 30
         },
         "text": "Physical Attributes Histogram and Q-Q plot"
        },
        "xaxis": {
         "anchor": "y",
         "domain": [
          0,
          0.2888888888888889
         ]
        },
        "xaxis10": {
         "anchor": "y10",
         "domain": [
          0,
          0.2888888888888889
         ]
        },
        "xaxis11": {
         "anchor": "y11",
         "domain": [
          0.35555555555555557,
          0.6444444444444445
         ]
        },
        "xaxis12": {
         "anchor": "y12",
         "domain": [
          0.7111111111111111,
          1
         ],
         "showgrid": false,
         "showticklabels": false
        },
        "xaxis2": {
         "anchor": "y2",
         "domain": [
          0.35555555555555557,
          0.6444444444444445
         ]
        },
        "xaxis3": {
         "anchor": "y3",
         "domain": [
          0.7111111111111111,
          1
         ],
         "showgrid": false,
         "showticklabels": false
        },
        "xaxis4": {
         "anchor": "y4",
         "domain": [
          0,
          0.2888888888888889
         ]
        },
        "xaxis5": {
         "anchor": "y5",
         "domain": [
          0.35555555555555557,
          0.6444444444444445
         ]
        },
        "xaxis6": {
         "anchor": "y6",
         "domain": [
          0.7111111111111111,
          1
         ],
         "showgrid": false,
         "showticklabels": false
        },
        "xaxis7": {
         "anchor": "y7",
         "domain": [
          0,
          0.2888888888888889
         ]
        },
        "xaxis8": {
         "anchor": "y8",
         "domain": [
          0.35555555555555557,
          0.6444444444444445
         ]
        },
        "xaxis9": {
         "anchor": "y9",
         "domain": [
          0.7111111111111111,
          1
         ],
         "showgrid": false,
         "showticklabels": false
        },
        "yaxis": {
         "anchor": "x",
         "domain": [
          0.7875,
          1
         ]
        },
        "yaxis10": {
         "anchor": "x10",
         "domain": [
          0,
          0.2125
         ]
        },
        "yaxis11": {
         "anchor": "x11",
         "domain": [
          0,
          0.2125
         ]
        },
        "yaxis12": {
         "anchor": "x12",
         "domain": [
          0,
          0.2125
         ],
         "showgrid": false,
         "showticklabels": false
        },
        "yaxis2": {
         "anchor": "x2",
         "domain": [
          0.7875,
          1
         ]
        },
        "yaxis3": {
         "anchor": "x3",
         "domain": [
          0.7875,
          1
         ],
         "showgrid": false,
         "showticklabels": false
        },
        "yaxis4": {
         "anchor": "x4",
         "domain": [
          0.525,
          0.7375
         ]
        },
        "yaxis5": {
         "anchor": "x5",
         "domain": [
          0.525,
          0.7375
         ]
        },
        "yaxis6": {
         "anchor": "x6",
         "domain": [
          0.525,
          0.7375
         ],
         "showgrid": false,
         "showticklabels": false
        },
        "yaxis7": {
         "anchor": "x7",
         "domain": [
          0.2625,
          0.475
         ]
        },
        "yaxis8": {
         "anchor": "x8",
         "domain": [
          0.2625,
          0.475
         ]
        },
        "yaxis9": {
         "anchor": "x9",
         "domain": [
          0.2625,
          0.475
         ],
         "showgrid": false,
         "showticklabels": false
        }
       }
      }
     },
     "metadata": {},
     "output_type": "display_data"
    }
   ],
   "source": [
    "fig = make_subplots(rows=4,cols=3,subplot_titles=(\"Culmen Length(mm)\",\"Culmen Length qq-plot\",\"Shapiro test Culmen Length\",\"Culmen Depth(mm)\",\"Culmen Depth qq-plot\",\"Shapiro test Culmen Depth\",\"Flipper Length(mm)\",\"Flipper Length qq-plot\",\"Shapiro test Flipper Length\",\"Body Mass(g)\",\"Body Mass qq-plot\",\"Shapiro test BodyMass\"),vertical_spacing=0.05)\n",
    "colors_list = px.colors.qualitative.Plotly[:4]\n",
    "for i,color_ in enumerate(colors_list):\n",
    "    d = plot_qq(phy_cols[i])\n",
    "    p_val,text_ = shapiro_test(phy_cols[i])\n",
    "    fig.add_trace(go.Histogram(x=temp_na[phy_cols[i]],marker=dict(color=color_)),row=i+1,col=1)\n",
    "    fig.append_trace(go.Scatter(x=d[0].get_xdata(),y=d[0].get_ydata(),mode=\"markers\",showlegend=False,marker=dict(color=color_)),row=i+1,col=2)\n",
    "    fig.append_trace(go.Scatter(x=d[1].get_xdata(),y=d[1].get_ydata(),mode=\"lines\",showlegend=False,line=dict(color=\"white\")),row=i+1,col=2)\n",
    "    fig.add_annotation(text=f\"p_value of shapiro: {p_val}<br>{text_}\",row=i+1,col=3)\n",
    "    fig.update_xaxes(showgrid=False,showticklabels=False,row=i+1,col=3)\n",
    "    fig.update_yaxes(showgrid=False,showticklabels=False,row=i+1,col=3)\n",
    "fig.update_layout(showlegend=False,height=1500,title=dict(text=\"Physical Attributes Histogram and Q-Q plot\",font=dict(size=30)),margin=dict(t=150))\n",
    "fig.show()"
   ]
  },
  {
   "cell_type": "markdown",
   "metadata": {},
   "source": [
    "<span style=\"font-family:Fira Code\">\n",
    "<h3>\n",
    "Experiment Outcomes"
   ]
  },
  {
   "cell_type": "code",
   "execution_count": 16,
   "metadata": {},
   "outputs": [
    {
     "data": {
      "text/html": [
       "<div>\n",
       "<style scoped>\n",
       "    .dataframe tbody tr th:only-of-type {\n",
       "        vertical-align: middle;\n",
       "    }\n",
       "\n",
       "    .dataframe tbody tr th {\n",
       "        vertical-align: top;\n",
       "    }\n",
       "\n",
       "    .dataframe thead th {\n",
       "        text-align: right;\n",
       "    }\n",
       "</style>\n",
       "<table border=\"1\" class=\"dataframe\">\n",
       "  <thead>\n",
       "    <tr style=\"text-align: right;\">\n",
       "      <th></th>\n",
       "      <th>delta_15n</th>\n",
       "      <th>delta_13c</th>\n",
       "    </tr>\n",
       "  </thead>\n",
       "  <tbody>\n",
       "    <tr>\n",
       "      <th>count</th>\n",
       "      <td>324.00</td>\n",
       "      <td>324.00</td>\n",
       "    </tr>\n",
       "    <tr>\n",
       "      <th>mean</th>\n",
       "      <td>8.74</td>\n",
       "      <td>-25.69</td>\n",
       "    </tr>\n",
       "    <tr>\n",
       "      <th>std</th>\n",
       "      <td>0.55</td>\n",
       "      <td>0.79</td>\n",
       "    </tr>\n",
       "    <tr>\n",
       "      <th>min</th>\n",
       "      <td>7.63</td>\n",
       "      <td>-27.02</td>\n",
       "    </tr>\n",
       "    <tr>\n",
       "      <th>25%</th>\n",
       "      <td>8.30</td>\n",
       "      <td>-26.33</td>\n",
       "    </tr>\n",
       "    <tr>\n",
       "      <th>50%</th>\n",
       "      <td>8.66</td>\n",
       "      <td>-25.84</td>\n",
       "    </tr>\n",
       "    <tr>\n",
       "      <th>75%</th>\n",
       "      <td>9.18</td>\n",
       "      <td>-25.06</td>\n",
       "    </tr>\n",
       "    <tr>\n",
       "      <th>max</th>\n",
       "      <td>10.03</td>\n",
       "      <td>-23.89</td>\n",
       "    </tr>\n",
       "  </tbody>\n",
       "</table>\n",
       "</div>"
      ],
      "text/plain": [
       "       delta_15n  delta_13c\n",
       "count     324.00     324.00\n",
       "mean        8.74     -25.69\n",
       "std         0.55       0.79\n",
       "min         7.63     -27.02\n",
       "25%         8.30     -26.33\n",
       "50%         8.66     -25.84\n",
       "75%         9.18     -25.06\n",
       "max        10.03     -23.89"
      ]
     },
     "execution_count": 16,
     "metadata": {},
     "output_type": "execute_result"
    }
   ],
   "source": [
    "exp_cols = ['delta_15n','delta_13c']\n",
    "temp_na[exp_cols].describe()"
   ]
  },
  {
   "cell_type": "markdown",
   "metadata": {},
   "source": [
    "<span style=\"font-family:Fira Code\">\n",
    "\n",
    "$\\delta^{15}N$ and $\\delta^{13}C$ are the ratio of the the two stable isotopes of the respective elements with respective to atmosphere\n",
    "- If the number is positive that means relative enrichment to the atmosphere\n",
    "- If the number is negative that means relative depletion to the atmosphere\n",
    "- Typical insignificant range is from [-20,80]"
   ]
  },
  {
   "cell_type": "code",
   "execution_count": 17,
   "metadata": {
    "tags": []
   },
   "outputs": [
    {
     "data": {
      "application/vnd.plotly.v1+json": {
       "config": {
        "plotlyServerURL": "https://plot.ly"
       },
       "data": [
        {
         "marker": {
          "color": "#636EFA"
         },
         "type": "histogram",
         "x": [
          8.94956,
          8.36821,
          8.76651,
          8.66496,
          9.18718,
          9.4606,
          8.55583,
          9.18528,
          8.67538,
          8.47827,
          9.11616,
          8.73762,
          8.66271,
          9.22286,
          8.43423,
          9.63954,
          9.21292,
          8.93997,
          8.08138,
          8.38404,
          8.90027,
          9.69756,
          9.72764,
          9.66523,
          8.79665,
          9.17847,
          9.15308,
          9.18985,
          8.04787,
          9.41131,
          9.68933,
          9.50772,
          9.2372,
          9.36392,
          9.49106,
          9.51784,
          8.87988,
          8.46616,
          8.51362,
          8.19539,
          8.48095,
          8.41837,
          8.35396,
          8.57199,
          8.56674,
          9.07878,
          9.108,
          8.96472,
          8.74802,
          8.58063,
          8.62264,
          8.62623,
          8.85562,
          8.56192,
          8.71078,
          8.47781,
          8.86853,
          7.88863,
          9.29808,
          8.33524,
          8.18658,
          8.70642,
          8.2993,
          8.47257,
          8.3554,
          7.82381,
          9.05736,
          7.69778,
          8.63259,
          7.88494,
          8.90002,
          8.32718,
          9.14863,
          8.57087,
          8.59147,
          9.07826,
          8.36936,
          8.46531,
          8.77018,
          8.01485,
          8.49915,
          8.90723,
          8.48204,
          8.10277,
          8.39459,
          9.04218,
          8.97025,
          8.84451,
          9.01079,
          9.2151,
          9.51929,
          9.02642,
          8.85699,
          8.77322,
          9.59245,
          9.79532,
          9.31735,
          8.43951,
          8.65466,
          9.02657,
          8.80186,
          8.80967,
          8.91434,
          9.18021,
          9.49645,
          8.96436,
          9.32277,
          9.04296,
          9.11066,
          9.30722,
          9.59462,
          8.81668,
          9.22537,
          8.88098,
          8.52566,
          9.19031,
          9.10702,
          8.9846,
          8.86495,
          8.98705,
          8.56708,
          8.717,
          8.94365,
          8.75984,
          8.95998,
          8.61651,
          9.25769,
          9.2881,
          9.23408,
          8.79787,
          9.05674,
          9.06829,
          9.22033,
          9.11006,
          8.68744,
          8.94332,
          8.97533,
          8.93465,
          8.8964,
          9.03935,
          8.92069,
          9.29078,
          8.64701,
          9.00642,
          8.88942,
          8.85664,
          8.63701,
          8.47173,
          8.79581,
          8.95063,
          8.68747,
          8.72037,
          9.0233,
          9.12277,
          9.8059,
          10.02019,
          9.14382,
          9.32105,
          9.27158,
          9.35138,
          9.42666,
          9.35416,
          9.28153,
          9.74144,
          9.36799,
          8.9399,
          9.63074,
          9.37369,
          9.25177,
          9.08458,
          9.49283,
          9.36668,
          9.23196,
          9.75486,
          9.07825,
          8.83502,
          9.43146,
          9.80589,
          10.02544,
          9.53262,
          9.61734,
          10.02372,
          9.36493,
          9.43684,
          9.45827,
          9.46819,
          9.34089,
          9.6895,
          9.32169,
          9.46929,
          9.43782,
          9.415,
          9.93727,
          9.56534,
          9.77528,
          9.62357,
          9.88809,
          9.74492,
          9.46985,
          9.65061,
          9.26715,
          9.70465,
          9.37608,
          9.4618,
          9.98044,
          9.39305,
          7.993,
          8.14756,
          8.14705,
          8.2554,
          8.2345,
          7.9953,
          8.24515,
          8.22673,
          8.13643,
          8.1631,
          8.19579,
          8.10417,
          7.77672,
          7.8208,
          7.79958,
          8.07137,
          7.63884,
          8.27376,
          7.84057,
          7.96491,
          7.8962,
          7.6322,
          7.90436,
          7.90971,
          7.68528,
          7.83733,
          7.92358,
          7.6887,
          8.30515,
          7.63452,
          7.97408,
          7.76843,
          7.89744,
          8.03659,
          7.96935,
          8.13746,
          8.01979,
          8.14776,
          8.14567,
          8.38324,
          8.37615,
          8.26548,
          8.46894,
          8.27141,
          8.47829,
          8.65803,
          8.45167,
          8.55868,
          8.38289,
          8.39867,
          8.51951,
          8.50153,
          8.48789,
          8.63488,
          8.58319,
          8.63604,
          8.48367,
          8.74647,
          8.65015,
          8.60092,
          8.6287,
          8.49662,
          8.60447,
          8.47067,
          8.49854,
          8.64931,
          8.63551,
          8.53018,
          8.35078,
          8.24651,
          8.58487,
          8.47938,
          8.5964,
          8.39299,
          8.40327,
          8.24694,
          8.19749,
          8.35802,
          8.28601,
          8.19101,
          8.20042,
          8.11238,
          8.27428,
          8.23468,
          8.15426,
          8.12691,
          8.27595,
          8.29671,
          8.36701,
          8.15566,
          8.83352,
          8.20106,
          8.27102,
          8.03624,
          7.8881,
          8.16582,
          8.2066,
          8.10231,
          8.3118,
          8.30817,
          8.65914,
          8.32359,
          8.12311,
          8.41017,
          8.4207,
          8.45738,
          8.24691,
          8.29226,
          8.21634,
          8.78557,
          8.30231,
          8.08354,
          8.33825,
          7.99184,
          8.41151,
          8.30166,
          8.24246,
          8.3639
         ],
         "xaxis": "x",
         "yaxis": "y"
        },
        {
         "marker": {
          "color": "#636EFA"
         },
         "mode": "markers",
         "showlegend": false,
         "type": "scatter",
         "x": [
          -2.7394693011353435,
          -2.5031972666378133,
          -2.356228884885076,
          -2.247385754686027,
          -2.160044423184283,
          -2.0866136000540965,
          -2.0229633809989873,
          -1.966587642839119,
          -1.9158466693962373,
          -1.8696066471189026,
          -1.827049629469658,
          -1.7875653879202458,
          -1.75068607125217,
          -1.7160447833608958,
          -1.6833482640036077,
          -1.6523582633698055,
          -1.6228784805249126,
          -1.5947451783462447,
          -1.5678202959084404,
          -1.5419862988544464,
          -1.5171422652485793,
          -1.4932008664512426,
          -1.4700860074244941,
          -1.4477309603333306,
          -1.4260768722728474,
          -1.4050715603096329,
          -1.3846685297022652,
          -1.3648261673056918,
          -1.3455070738160948,
          -1.3266775070350318,
          -1.3083069146403565,
          -1.290367539673776,
          -1.2728340855266451,
          -1.2556834299331134,
          -1.23889437958136,
          -1.2224474585867124,
          -1.2063247253493694,
          -1.1905096133284863,
          -1.1749867920660904,
          -1.1597420454353515,
          -1.1447621646036692,
          -1.1300348536185383,
          -1.1155486458640713,
          -1.1012928299140692,
          -1.0872573835362347,
          -1.0734329147910218,
          -1.059810609325424,
          -1.046382183092732,
          -1.033139839838658,
          -1.0200762327862014,
          -1.0071844300291466,
          -0.994457883209753,
          -0.9818903991119535,
          -0.9694761138489097,
          -0.9572094693644218,
          -0.9450851920025287,
          -0.9330982729296341,
          -0.9212439502193468,
          -0.9095176924325932,
          -0.8979151835449687,
          -0.886432309090155,
          -0.8750651434029384,
          -0.8638099378582048,
          -0.852663110013538,
          -0.8416212335729142,
          -0.8306810290976713,
          -0.8198393553985739,
          -0.809093201549562,
          -0.7984396794697326,
          -0.7878760170254153,
          -0.7773995516089012,
          -0.7670077241545666,
          -0.7566980735568707,
          -0.746468231458026,
          -0.7363159173761294,
          -0.7262389341471894,
          -0.716235163656892,
          -0.7063025628400874,
          -0.696439159927908,
          -0.6866430509241719,
          -0.6769123962942973,
          -0.6672454178513608,
          -0.6576403958252243,
          -0.6480956661018106,
          -0.6386096176206588,
          -0.6291806899198484,
          -0.6198073708182489,
          -0.6104881942258346,
          -0.6012217380735386,
          -0.5920066223547552,
          -0.5828415072712162,
          -0.5737250914765053,
          -0.564656110410974,
          -0.5556333347222873,
          -0.5466555687662383,
          -0.5377216491828647,
          -0.5288304435432458,
          -0.5199808490626915,
          -0.5111717913763268,
          -0.5024022233733555,
          -0.493671124086536,
          -0.4849774976336414,
          -0.47632037220788664,
          -0.46769879911450823,
          -0.4591118518508644,
          -0.45055862522759604,
          -0.44203823452854335,
          -0.4335498147072649,
          -0.4250925196181335,
          -0.41666552128011664,
          -0.4082680091714618,
          -0.39989918955361464,
          -0.39155828482280386,
          -0.3832445328878139,
          -0.3749571865725573,
          -0.36669551304214115,
          -0.3584587932511938,
          -0.3502463214132924,
          -0.3420574044903942,
          -0.33389136170123906,
          -0.32574752404774643,
          -0.31762523385848135,
          -0.3095238443483213,
          -0.30144271919349197,
          -0.29338123212119327,
          -0.2853387665130725,
          -0.2773147150218403,
          -0.26930847920036516,
          -0.2613194691426085,
          -0.2533471031357997,
          -0.2453908073232792,
          -0.23745001537746058,
          -0.22952416818239713,
          -0.2216127135254519,
          -0.2137151057976028,
          -0.20583080570192913,
          -0.19795927996984825,
          -0.19010000108469102,
          -0.18225244701221852,
          -0.17441610093770257,
          -0.16659045100920616,
          -0.1587749900867137,
          -0.15096921549677725,
          -0.14317262879235282,
          -0.1353847355175167,
          -0.12760504497676112,
          -0.11983307000857707,
          -0.11206832676304594,
          -0.10431033448316418,
          -0.09655861528963908,
          -0.08881269396889788,
          -0.08107209776405953,
          -0.07333635616862769,
          -0.0656050007226638,
          -0.05787756481121016,
          -0.05015358346473367,
          -0.0424325931613663,
          -0.034714131630724,
          -0.026997737659084496,
          -0.019282950895712157,
          -0.011569311660117662,
          -0.0038563607500418954,
          0.0038563607500417562,
          0.011569311660117524,
          0.019282950895712157,
          0.026997737659084496,
          0.034714131630724,
          0.0424325931613663,
          0.05015358346473367,
          0.0578775648112103,
          0.06560500072266394,
          0.07333635616862783,
          0.0810720977640594,
          0.08881269396889774,
          0.09655861528963908,
          0.10431033448316418,
          0.11206832676304594,
          0.11983307000857707,
          0.12760504497676112,
          0.13538473551751684,
          0.14317262879235296,
          0.1509692154967774,
          0.15877499008671356,
          0.16659045100920603,
          0.17441610093770257,
          0.18225244701221852,
          0.19010000108469102,
          0.19795927996984825,
          0.20583080570192913,
          0.21371510579760294,
          0.22161271352545203,
          0.22952416818239726,
          0.23745001537746044,
          0.24539080732327906,
          0.2533471031357997,
          0.2613194691426085,
          0.26930847920036516,
          0.2773147150218403,
          0.2853387665130725,
          0.29338123212119344,
          0.30144271919349214,
          0.30952384434832114,
          0.3176252338584812,
          0.3257475240477463,
          0.33389136170123906,
          0.3420574044903942,
          0.3502463214132924,
          0.3584587932511938,
          0.36669551304214115,
          0.37495718657255744,
          0.383244532887814,
          0.39155828482280375,
          0.3998991895536145,
          0.40826800917146167,
          0.41666552128011664,
          0.4250925196181335,
          0.4335498147072649,
          0.44203823452854335,
          0.45055862522759604,
          0.45911185185086456,
          0.4676987991145084,
          0.4763203722078865,
          0.4849774976336413,
          0.4936711240865359,
          0.5024022233733555,
          0.5111717913763268,
          0.5199808490626915,
          0.5288304435432458,
          0.5377216491828648,
          0.5466555687662384,
          0.5556333347222874,
          0.5646561104109737,
          0.5737250914765051,
          0.5828415072712162,
          0.5920066223547552,
          0.6012217380735386,
          0.6104881942258346,
          0.6198073708182489,
          0.6291806899198488,
          0.6386096176206589,
          0.6480956661018107,
          0.657640395825224,
          0.6672454178513606,
          0.6769123962942973,
          0.6866430509241719,
          0.696439159927908,
          0.7063025628400874,
          0.716235163656892,
          0.7262389341471894,
          0.7363159173761297,
          0.7464682314580263,
          0.7566980735568705,
          0.7670077241545666,
          0.7773995516089012,
          0.7878760170254153,
          0.7984396794697326,
          0.809093201549562,
          0.8198393553985739,
          0.8306810290976713,
          0.8416212335729143,
          0.8526631100135379,
          0.8638099378582046,
          0.8750651434029384,
          0.886432309090155,
          0.8979151835449687,
          0.9095176924325932,
          0.9212439502193468,
          0.9330982729296341,
          0.9450851920025287,
          0.9572094693644219,
          0.9694761138489095,
          0.9818903991119531,
          0.994457883209753,
          1.0071844300291466,
          1.0200762327862014,
          1.033139839838658,
          1.046382183092732,
          1.059810609325424,
          1.0734329147910218,
          1.0872573835362356,
          1.1012928299140692,
          1.1155486458640713,
          1.1300348536185383,
          1.1447621646036685,
          1.1597420454353515,
          1.1749867920660904,
          1.1905096133284863,
          1.2063247253493699,
          1.2224474585867133,
          1.23889437958136,
          1.255683429933113,
          1.2728340855266451,
          1.290367539673776,
          1.3083069146403565,
          1.3266775070350318,
          1.3455070738160948,
          1.3648261673056923,
          1.3846685297022652,
          1.4050715603096329,
          1.4260768722728474,
          1.44773096033333,
          1.4700860074244935,
          1.493200866451242,
          1.5171422652485793,
          1.5419862988544464,
          1.5678202959084404,
          1.5947451783462454,
          1.622878480524913,
          1.6523582633698064,
          1.6833482640036084,
          1.7160447833608958,
          1.7506860712521692,
          1.7875653879202453,
          1.827049629469658,
          1.8696066471189026,
          1.9158466693962373,
          1.9665876428391196,
          2.0229633809989878,
          2.0866136000540974,
          2.1600444231842837,
          2.247385754686025,
          2.3562288848850748,
          2.5031972666378124,
          2.7394693011353426
         ],
         "xaxis": "x2",
         "y": [
          -2.0096219540707323,
          -2.0054131092278102,
          -1.997575949865128,
          -1.913326486716293,
          -1.9071220688875024,
          -1.8906495209677903,
          -1.7624793105572543,
          -1.747439946872848,
          -1.7059683119119875,
          -1.6674718948573293,
          -1.6620112815050903,
          -1.6374838753515106,
          -1.631606005829499,
          -1.551111848208614,
          -1.5453791112673938,
          -1.5444176079196565,
          -1.530684437462363,
          -1.528434882460113,
          -1.515880914221742,
          -1.506175172881383,
          -1.4810128116868435,
          -1.4060336921359966,
          -1.3979788339021273,
          -1.389397870062895,
          -1.357178437127423,
          -1.355074014705961,
          -1.3509014530082366,
          -1.3154346785775812,
          -1.3064727417137707,
          -1.2766298547887436,
          -1.2759948997477837,
          -1.2555312058563366,
          -1.2128985102491516,
          -1.194738796077752,
          -1.190820216396411,
          -1.15676848462846,
          -1.1559339722889146,
          -1.1533941521250817,
          -1.1384999210214652,
          -1.11903401362295,
          -1.112140216035405,
          -1.0948694389213454,
          -1.0930008569436687,
          -1.0781066258400522,
          -1.075603088821419,
          -1.0746778686188796,
          -1.0743150371669044,
          -1.0625230149776816,
          -1.059983194813852,
          -1.0464858648003421,
          -1.041551357053468,
          -1.0038894523383566,
          -0.9958527356770855,
          -0.9879067268788114,
          -0.9871810639748578,
          -0.9840969966330623,
          -0.9787815158616148,
          -0.9776204552152903,
          -0.9675700239955543,
          -0.9499001322843199,
          -0.9310510383541661,
          -0.9169550364448958,
          -0.9166284881381169,
          -0.9025143446562517,
          -0.8976342616271717,
          -0.8951670077537347,
          -0.8944413448497843,
          -0.8943869201319867,
          -0.8790391497134014,
          -0.8607524445338085,
          -0.8507020133140725,
          -0.8499944919827203,
          -0.845731222422002,
          -0.8447878606468646,
          -0.8417582180228634,
          -0.82350779598847,
          -0.8121693131142163,
          -0.8040963133077521,
          -0.7993976460046599,
          -0.7951162348713436,
          -0.793937032652421,
          -0.788784826034363,
          -0.7833060711095228,
          -0.7767206802561588,
          -0.7553317661621723,
          -0.7488189415992009,
          -0.7341968340845659,
          -0.728736220732327,
          -0.7060048302660284,
          -0.7002358101796087,
          -0.6976234237253834,
          -0.6928703317044969,
          -0.6822030870164023,
          -0.6765610579381727,
          -0.6743840692263183,
          -0.6722977883774545,
          -0.6599796605828671,
          -0.6477522406512767,
          -0.6471172856103169,
          -0.6456659598024129,
          -0.6294292523264876,
          -0.6265266007106765,
          -0.6191248390903684,
          -0.6107797156949196,
          -0.5982620306017433,
          -0.5958310598735057,
          -0.5833859410707283,
          -0.5791589546552063,
          -0.5546134069290285,
          -0.5450346565968596,
          -0.5229745043167171,
          -0.5126156663628002,
          -0.49822939929195037,
          -0.4966873656210526,
          -0.49164400843858647,
          -0.4885055163789933,
          -0.486582509683519,
          -0.48505861758522256,
          -0.47555243354344934,
          -0.4747179212039038,
          -0.47468163805870756,
          -0.47270420664543567,
          -0.46985597974742527,
          -0.4678785483341566,
          -0.46492147200055106,
          -0.4572657283638565,
          -0.4414281354851026,
          -0.43794495354613244,
          -0.4368383176176055,
          -0.4325206233390898,
          -0.4105874620671405,
          -0.39990207580644466,
          -0.38874500865818173,
          -0.38054501784352435,
          -0.3340118841275965,
          -0.32884153593693716,
          -0.3229636664149255,
          -0.3142194284223053,
          -0.31360261495394365,
          -0.3067269589390002,
          -0.304695102807934,
          -0.28902078408256965,
          -0.2843765414972749,
          -0.2813287573006756,
          -0.26935531938546853,
          -0.2604115240942594,
          -0.25221153327959883,
          -0.24577127500702628,
          -0.22392882159806754,
          -0.21280803759500086,
          -0.20629521303203263,
          -0.20181424460012742,
          -0.1947571728591932,
          -0.19060275273406693,
          -0.1894598336603438,
          -0.18849833031260824,
          -0.1867385977705234,
          -0.16859702517172195,
          -0.16442446347399758,
          -0.1629005713756979,
          -0.15471872213363863,
          -0.14860501216784183,
          -0.14659129760937373,
          -0.14011475619160174,
          -0.13603290235687115,
          -0.11712938370891987,
          -0.0952506471547649,
          -0.09519622243697055,
          -0.060817942362240605,
          -0.05290821670916274,
          -0.04162415855270657,
          -0.03551044858690977,
          -0.004216235853978613,
          0.01183905589596228,
          0.014650999648776458,
          0.036094338460560545,
          0.0481947673839609,
          0.054852724527720484,
          0.060367762597756926,
          0.08277260475727656,
          0.1013495750984489,
          0.10287346719674857,
          0.10508673905380239,
          0.11232522652072423,
          0.12649379472039024,
          0.13921103711214908,
          0.16976144536853174,
          0.17248268125835212,
          0.18969903365461427,
          0.20985432081188385,
          0.21170476121696247,
          0.21233971625791906,
          0.2267804080465665,
          0.23327509103693658,
          0.25386577593657705,
          0.25586134892244383,
          0.271172836195833,
          0.2838356538697975,
          0.2904029031505633,
          0.2908564424655355,
          0.3034829769943005,
          0.3163816351120469,
          0.32790153371228825,
          0.35322716906021395,
          0.3627514946745853,
          0.36287848568277853,
          0.3689559125033759,
          0.36955458439913624,
          0.3802762538050283,
          0.38221740207310073,
          0.3991797724529796,
          0.4071257812512537,
          0.4077788778648116,
          0.4178111675119495,
          0.42702708639214,
          0.4438443241912307,
          0.4482890094779365,
          0.4834292356018163,
          0.49135710282749223,
          0.5140522101485946,
          0.5197123807994192,
          0.5199845043884006,
          0.5431694341696715,
          0.5483034992151313,
          0.5497185418778391,
          0.5747176289189858,
          0.5758424064201109,
          0.5956711452706015,
          0.6137401515790105,
          0.6137582931516086,
          0.614701654926746,
          0.6252237670340524,
          0.6659334559457629,
          0.6677113300604459,
          0.6714484940157994,
          0.6725369883717249,
          0.6825148533010685,
          0.6945064327888737,
          0.7326944431093528,
          0.7414205395293781,
          0.7494935393358423,
          0.795554992164203,
          0.7987116257963943,
          0.8079094031039866,
          0.8113563018977574,
          0.8162001017816378,
          0.8170346141211834,
          0.8580527097670747,
          0.862007572593612,
          0.8714956150627872,
          0.8760854329302843,
          0.880638967652582,
          0.8925942639951941,
          0.8964402773861396,
          0.9021004480369642,
          0.9285327193134201,
          0.9392725302919102,
          0.956434457970378,
          0.9644711746316459,
          0.9825220393674535,
          0.9944410525648664,
          0.9993029940213448,
          1.0125463420184715,
          1.0291277393737739,
          1.0475051524163606,
          1.0542175342779176,
          1.0553785949242422,
          1.0573378847649126,
          1.090210414313941,
          1.1092409239700856,
          1.1142842811525517,
          1.1319904560089824,
          1.1338227548414597,
          1.1369975300462523,
          1.1393740760566955,
          1.149714772438011,
          1.1540506082891249,
          1.1848368569892929,
          1.2179633685547044,
          1.2246576088436603,
          1.2458106824938648,
          1.2545186373412887,
          1.2642788033994452,
          1.2660566775141282,
          1.3031561934786786,
          1.3073831798941973,
          1.309560168606055,
          1.3211526334966885,
          1.3231482064825586,
          1.3241641345480886,
          1.362642410030147,
          1.365853468380136,
          1.3724207176609018,
          1.392866269979754,
          1.4112255414497394,
          1.413856069476566,
          1.4380387857507686,
          1.4973980112940504,
          1.5465798146093996,
          1.5505165358633421,
          1.5917341888078194,
          1.6030363885368735,
          1.616043896090212,
          1.632008479977159,
          1.652091200844033,
          1.6786141799834793,
          1.722335369946593,
          1.7226437766807738,
          1.7372658841954056,
          1.750128259167959,
          1.7918357345726015,
          1.816871104758951,
          1.8231843720233334,
          1.841217095186543,
          1.8782621864332958,
          1.9146178979212942,
          1.933793540158227,
          1.933811681730825,
          2.082917266920379,
          2.172137520961286,
          2.2504546898703133,
          2.32256744095055,
          2.3289714160779296,
          2.3320917665649215
         ],
         "yaxis": "y2"
        },
        {
         "line": {
          "color": "white"
         },
         "mode": "lines",
         "showlegend": false,
         "type": "scatter",
         "x": [
          -2.8490480731807573,
          2.8490480731807564
         ],
         "xaxis": "x2",
         "y": [
          -2.8490480731807573,
          2.8490480731807564
         ],
         "yaxis": "y2"
        },
        {
         "marker": {
          "color": "#EF553B"
         },
         "type": "histogram",
         "x": [
          -24.69454,
          -25.33302,
          -25.32426,
          -25.29805,
          -25.21799,
          -24.89958,
          -25.22588,
          -25.06691,
          -25.13993,
          -25.23319,
          -24.77227,
          -25.09383,
          -25.0639,
          -25.03474,
          -25.22664,
          -25.29856,
          -24.3613,
          -25.36288,
          -25.49448,
          -25.19837,
          -25.11609,
          -25.11223,
          -25.0102,
          -25.0602,
          -25.14591,
          -25.23061,
          -25.03469,
          -25.12255,
          -25.49523,
          -25.04169,
          -24.4228,
          -25.03492,
          -24.52698,
          -25.01745,
          -24.10255,
          -25.07683,
          -25.18543,
          -26.12989,
          -26.55602,
          -26.17213,
          -26.3146,
          -26.54718,
          -26.27853,
          -26.07188,
          -25.98843,
          -25.88156,
          -25.89677,
          -26.40943,
          -26.37809,
          -26.21569,
          -26.60023,
          -26.1165,
          -26.09294,
          -25.95541,
          -25.81012,
          -26.07821,
          -26.06209,
          -26.63085,
          -25.23453,
          -26.55351,
          -26.45978,
          -26.15003,
          -26.38986,
          -26.02002,
          -26.44787,
          -26.51382,
          -25.81513,
          -26.5387,
          -26.23027,
          -26.24837,
          -26.46254,
          -26.38396,
          -26.09635,
          -26.22227,
          -26.08165,
          -26.12417,
          -26.11199,
          -26.05621,
          -25.83352,
          -26.69543,
          -26.42406,
          -26.30037,
          -26.57941,
          -26.50086,
          -26.01152,
          -26.15775,
          -26.03679,
          -26.28055,
          -26.38085,
          -26.2253,
          -25.69199,
          -25.86482,
          -25.80208,
          -26.48973,
          -25.70711,
          -25.27385,
          -25.45171,
          -26.57563,
          -26.32909,
          -26.06203,
          -26.41218,
          -26.78958,
          -26.42018,
          -25.77264,
          -26.36678,
          -23.90309,
          -26.09989,
          -26.19444,
          -26.42563,
          -25.61039,
          -25.42621,
          -25.95399,
          -25.60826,
          -25.89741,
          -26.0245,
          -25.73722,
          -26.01363,
          -25.57956,
          -26.1396,
          -25.57647,
          -26.49288,
          -25.77951,
          -26.06943,
          -25.97696,
          -26.32601,
          -26.07021,
          -25.88798,
          -25.54976,
          -26.01549,
          -26.61075,
          -25.79529,
          -25.85203,
          -26.03442,
          -25.79549,
          -25.8306,
          -25.79189,
          -26.03495,
          -26.07081,
          -26.06967,
          -24.30229,
          -24.23592,
          -24.7557,
          -24.62717,
          -24.61867,
          -24.49433,
          -24.55644,
          -24.84059,
          -24.29229,
          -24.36088,
          -24.59897,
          -24.38751,
          -24.80526,
          -24.38933,
          -24.90024,
          -24.7294,
          -24.54704,
          -24.57994,
          -24.64162,
          -24.64335,
          -24.6879,
          -24.26375,
          -25.01185,
          -24.97134,
          -24.59467,
          -24.47142,
          -23.89017,
          -24.34684,
          -24.52896,
          -24.69638,
          -24.54903,
          -24.59996,
          -24.45195,
          -24.17282,
          -24.31198,
          -25.1455,
          -24.65859,
          -24.6844,
          -24.73735,
          -24.90816,
          -24.66867,
          -24.66188,
          -24.86594,
          -24.66259,
          -24.16566,
          -24.35575,
          -24.45721,
          -24.45189,
          -24.43062,
          -24.41562,
          -24.48403,
          -24.36202,
          -24.805,
          -24.59066,
          -24.60882,
          -24.56481,
          -24.78984,
          -24.59513,
          -24.404,
          -24.65786,
          -24.48153,
          -24.31912,
          -24.53494,
          -24.40753,
          -24.70615,
          -24.68741,
          -24.25255,
          -25.5139,
          -25.39369,
          -25.46172,
          -25.40075,
          -25.54456,
          -25.32829,
          -25.46782,
          -25.4276,
          -25.32176,
          -25.38017,
          -25.3933,
          -25.50562,
          -25.4168,
          -25.48025,
          -25.62618,
          -25.52473,
          -25.52627,
          -25.00169,
          -25.37899,
          -25.39587,
          -25.37746,
          -25.46569,
          -25.3947,
          -25.38157,
          -25.39181,
          -25.42826,
          -25.48383,
          -25.50811,
          -25.19017,
          -25.46327,
          -25.53768,
          -25.6821,
          -26.63405,
          -26.86127,
          -26.70968,
          -26.79093,
          -26.68311,
          -26.84506,
          -26.59467,
          -26.84272,
          -26.72791,
          -26.7699,
          -26.60436,
          -26.7765,
          -26.61788,
          -26.57585,
          -26.89644,
          -26.67799,
          -26.86352,
          -26.79358,
          -27.01854,
          -26.61414,
          -26.83006,
          -26.75621,
          -26.84415,
          -26.7489,
          -26.86485,
          -26.79846,
          -26.79053,
          -26.84374,
          -26.60484,
          -26.84166,
          -26.61601,
          -26.69166,
          -26.74809,
          -26.68867,
          -26.74249,
          -26.72751,
          -26.70783,
          -26.66958,
          -26.5929,
          -26.9547,
          -26.71199,
          -26.78733,
          -26.76821,
          -26.65359,
          -26.65931,
          -26.2766,
          -26.27573,
          -26.24369,
          -26.39677,
          -26.20372,
          -26.30019,
          -26.18599,
          -26.3433,
          -26.23613,
          -26.11657,
          -26.08547,
          -25.89834,
          -26.22848,
          -25.69195,
          -26.16524,
          -26.11244,
          -26.06594,
          -26.04726,
          -26.13971,
          -26.36863,
          -26.18763,
          -26.35425,
          -26.21651,
          -25.79203,
          -26.05756,
          -26.44815,
          -26.33867,
          -26.38092,
          -26.22664,
          -26.18466,
          -26.21019,
          -26.11046,
          -25.76147,
          -25.96013,
          -26.18161,
          -25.88547,
          -26.20538,
          -26.13832,
          -26.04117,
          -26.11969,
          -26.15531
         ],
         "xaxis": "x4",
         "yaxis": "y4"
        },
        {
         "marker": {
          "color": "#EF553B"
         },
         "mode": "markers",
         "showlegend": false,
         "type": "scatter",
         "x": [
          -2.7394693011353435,
          -2.5031972666378133,
          -2.356228884885076,
          -2.247385754686027,
          -2.160044423184283,
          -2.0866136000540965,
          -2.0229633809989873,
          -1.966587642839119,
          -1.9158466693962373,
          -1.8696066471189026,
          -1.827049629469658,
          -1.7875653879202458,
          -1.75068607125217,
          -1.7160447833608958,
          -1.6833482640036077,
          -1.6523582633698055,
          -1.6228784805249126,
          -1.5947451783462447,
          -1.5678202959084404,
          -1.5419862988544464,
          -1.5171422652485793,
          -1.4932008664512426,
          -1.4700860074244941,
          -1.4477309603333306,
          -1.4260768722728474,
          -1.4050715603096329,
          -1.3846685297022652,
          -1.3648261673056918,
          -1.3455070738160948,
          -1.3266775070350318,
          -1.3083069146403565,
          -1.290367539673776,
          -1.2728340855266451,
          -1.2556834299331134,
          -1.23889437958136,
          -1.2224474585867124,
          -1.2063247253493694,
          -1.1905096133284863,
          -1.1749867920660904,
          -1.1597420454353515,
          -1.1447621646036692,
          -1.1300348536185383,
          -1.1155486458640713,
          -1.1012928299140692,
          -1.0872573835362347,
          -1.0734329147910218,
          -1.059810609325424,
          -1.046382183092732,
          -1.033139839838658,
          -1.0200762327862014,
          -1.0071844300291466,
          -0.994457883209753,
          -0.9818903991119535,
          -0.9694761138489097,
          -0.9572094693644218,
          -0.9450851920025287,
          -0.9330982729296341,
          -0.9212439502193468,
          -0.9095176924325932,
          -0.8979151835449687,
          -0.886432309090155,
          -0.8750651434029384,
          -0.8638099378582048,
          -0.852663110013538,
          -0.8416212335729142,
          -0.8306810290976713,
          -0.8198393553985739,
          -0.809093201549562,
          -0.7984396794697326,
          -0.7878760170254153,
          -0.7773995516089012,
          -0.7670077241545666,
          -0.7566980735568707,
          -0.746468231458026,
          -0.7363159173761294,
          -0.7262389341471894,
          -0.716235163656892,
          -0.7063025628400874,
          -0.696439159927908,
          -0.6866430509241719,
          -0.6769123962942973,
          -0.6672454178513608,
          -0.6576403958252243,
          -0.6480956661018106,
          -0.6386096176206588,
          -0.6291806899198484,
          -0.6198073708182489,
          -0.6104881942258346,
          -0.6012217380735386,
          -0.5920066223547552,
          -0.5828415072712162,
          -0.5737250914765053,
          -0.564656110410974,
          -0.5556333347222873,
          -0.5466555687662383,
          -0.5377216491828647,
          -0.5288304435432458,
          -0.5199808490626915,
          -0.5111717913763268,
          -0.5024022233733555,
          -0.493671124086536,
          -0.4849774976336414,
          -0.47632037220788664,
          -0.46769879911450823,
          -0.4591118518508644,
          -0.45055862522759604,
          -0.44203823452854335,
          -0.4335498147072649,
          -0.4250925196181335,
          -0.41666552128011664,
          -0.4082680091714618,
          -0.39989918955361464,
          -0.39155828482280386,
          -0.3832445328878139,
          -0.3749571865725573,
          -0.36669551304214115,
          -0.3584587932511938,
          -0.3502463214132924,
          -0.3420574044903942,
          -0.33389136170123906,
          -0.32574752404774643,
          -0.31762523385848135,
          -0.3095238443483213,
          -0.30144271919349197,
          -0.29338123212119327,
          -0.2853387665130725,
          -0.2773147150218403,
          -0.26930847920036516,
          -0.2613194691426085,
          -0.2533471031357997,
          -0.2453908073232792,
          -0.23745001537746058,
          -0.22952416818239713,
          -0.2216127135254519,
          -0.2137151057976028,
          -0.20583080570192913,
          -0.19795927996984825,
          -0.19010000108469102,
          -0.18225244701221852,
          -0.17441610093770257,
          -0.16659045100920616,
          -0.1587749900867137,
          -0.15096921549677725,
          -0.14317262879235282,
          -0.1353847355175167,
          -0.12760504497676112,
          -0.11983307000857707,
          -0.11206832676304594,
          -0.10431033448316418,
          -0.09655861528963908,
          -0.08881269396889788,
          -0.08107209776405953,
          -0.07333635616862769,
          -0.0656050007226638,
          -0.05787756481121016,
          -0.05015358346473367,
          -0.0424325931613663,
          -0.034714131630724,
          -0.026997737659084496,
          -0.019282950895712157,
          -0.011569311660117662,
          -0.0038563607500418954,
          0.0038563607500417562,
          0.011569311660117524,
          0.019282950895712157,
          0.026997737659084496,
          0.034714131630724,
          0.0424325931613663,
          0.05015358346473367,
          0.0578775648112103,
          0.06560500072266394,
          0.07333635616862783,
          0.0810720977640594,
          0.08881269396889774,
          0.09655861528963908,
          0.10431033448316418,
          0.11206832676304594,
          0.11983307000857707,
          0.12760504497676112,
          0.13538473551751684,
          0.14317262879235296,
          0.1509692154967774,
          0.15877499008671356,
          0.16659045100920603,
          0.17441610093770257,
          0.18225244701221852,
          0.19010000108469102,
          0.19795927996984825,
          0.20583080570192913,
          0.21371510579760294,
          0.22161271352545203,
          0.22952416818239726,
          0.23745001537746044,
          0.24539080732327906,
          0.2533471031357997,
          0.2613194691426085,
          0.26930847920036516,
          0.2773147150218403,
          0.2853387665130725,
          0.29338123212119344,
          0.30144271919349214,
          0.30952384434832114,
          0.3176252338584812,
          0.3257475240477463,
          0.33389136170123906,
          0.3420574044903942,
          0.3502463214132924,
          0.3584587932511938,
          0.36669551304214115,
          0.37495718657255744,
          0.383244532887814,
          0.39155828482280375,
          0.3998991895536145,
          0.40826800917146167,
          0.41666552128011664,
          0.4250925196181335,
          0.4335498147072649,
          0.44203823452854335,
          0.45055862522759604,
          0.45911185185086456,
          0.4676987991145084,
          0.4763203722078865,
          0.4849774976336413,
          0.4936711240865359,
          0.5024022233733555,
          0.5111717913763268,
          0.5199808490626915,
          0.5288304435432458,
          0.5377216491828648,
          0.5466555687662384,
          0.5556333347222874,
          0.5646561104109737,
          0.5737250914765051,
          0.5828415072712162,
          0.5920066223547552,
          0.6012217380735386,
          0.6104881942258346,
          0.6198073708182489,
          0.6291806899198488,
          0.6386096176206589,
          0.6480956661018107,
          0.657640395825224,
          0.6672454178513606,
          0.6769123962942973,
          0.6866430509241719,
          0.696439159927908,
          0.7063025628400874,
          0.716235163656892,
          0.7262389341471894,
          0.7363159173761297,
          0.7464682314580263,
          0.7566980735568705,
          0.7670077241545666,
          0.7773995516089012,
          0.7878760170254153,
          0.7984396794697326,
          0.809093201549562,
          0.8198393553985739,
          0.8306810290976713,
          0.8416212335729143,
          0.8526631100135379,
          0.8638099378582046,
          0.8750651434029384,
          0.886432309090155,
          0.8979151835449687,
          0.9095176924325932,
          0.9212439502193468,
          0.9330982729296341,
          0.9450851920025287,
          0.9572094693644219,
          0.9694761138489095,
          0.9818903991119531,
          0.994457883209753,
          1.0071844300291466,
          1.0200762327862014,
          1.033139839838658,
          1.046382183092732,
          1.059810609325424,
          1.0734329147910218,
          1.0872573835362356,
          1.1012928299140692,
          1.1155486458640713,
          1.1300348536185383,
          1.1447621646036685,
          1.1597420454353515,
          1.1749867920660904,
          1.1905096133284863,
          1.2063247253493699,
          1.2224474585867133,
          1.23889437958136,
          1.255683429933113,
          1.2728340855266451,
          1.290367539673776,
          1.3083069146403565,
          1.3266775070350318,
          1.3455070738160948,
          1.3648261673056923,
          1.3846685297022652,
          1.4050715603096329,
          1.4260768722728474,
          1.44773096033333,
          1.4700860074244935,
          1.493200866451242,
          1.5171422652485793,
          1.5419862988544464,
          1.5678202959084404,
          1.5947451783462454,
          1.622878480524913,
          1.6523582633698064,
          1.6833482640036084,
          1.7160447833608958,
          1.7506860712521692,
          1.7875653879202453,
          1.827049629469658,
          1.8696066471189026,
          1.9158466693962373,
          1.9665876428391196,
          2.0229633809989878,
          2.0866136000540974,
          2.1600444231842837,
          2.247385754686025,
          2.3562288848850748,
          2.5031972666378124,
          2.7394693011353426
         ],
         "xaxis": "x5",
         "y": [
          -1.6841646289085554,
          -1.6033155202191234,
          -1.5295331099395781,
          -1.489526478619107,
          -1.487842122188078,
          -1.4849926470228019,
          -1.4644637614987464,
          -1.4633113070985666,
          -1.4627920694017846,
          -1.461500307326859,
          -1.4601578879156636,
          -1.445467260396906,
          -1.405447964742363,
          -1.3992677697172313,
          -1.3959117211892407,
          -1.3954051478265261,
          -1.3942020360900769,
          -1.391352560924801,
          -1.37763708712927,
          -1.3692786266444623,
          -1.3671383541869884,
          -1.3519411533055161,
          -1.342683525101886,
          -1.3416577140423895,
          -1.3345656869643678,
          -1.3161010878933816,
          -1.3155945145306627,
          -1.2959394680572944,
          -1.2930140068876095,
          -1.2906711050850523,
          -1.2749673308408658,
          -1.2701928768972663,
          -1.2664062410109658,
          -1.2593648712692183,
          -1.2528807322264597,
          -1.24223002727536,
          -1.2292237561876358,
          -1.2219797571008009,
          -1.1972336483321344,
          -1.193181061430409,
          -1.1767554201443529,
          -1.1743871896736566,
          -1.1720189592029602,
          -1.167725749953945,
          -1.1602411285198202,
          -1.159633240484562,
          -1.1544028705145222,
          -1.1473615007727747,
          -1.145119913642757,
          -1.1280357269851684,
          -1.1235272240569982,
          -1.123248608707506,
          -1.0984138496003677,
          -1.0952351017493256,
          -1.0872185782843513,
          -1.076479222994775,
          -1.044970359833858,
          -1.028557382881869,
          -1.0184512442956908,
          -1.014461979064307,
          -0.9800276547337048,
          -0.9765322985309637,
          -0.9618036780100038,
          -0.9614490766561072,
          -0.9332835976891132,
          -0.9312952972404528,
          -0.9263815356221073,
          -0.9162500683677941,
          -0.912767376499125,
          -0.896734329569172,
          -0.8879832747282563,
          -0.8805113176281989,
          -0.8766613600715611,
          -0.8765727097330848,
          -0.8730773535303482,
          -0.8610968935021205,
          -0.858753991699559,
          -0.8428855811124915,
          -0.8290181353081473,
          -0.8231545486347144,
          -0.8110221165976732,
          -0.8071215017047614,
          -0.7926714965332936,
          -0.7746501491546848,
          -0.7744221911414624,
          -0.7495494390321218,
          -0.7469912435504054,
          -0.7445470270753,
          -0.7434452300113945,
          -0.7087956120016419,
          -0.7028687036578674,
          -0.6932944671025383,
          -0.685873167338755,
          -0.6836062515406025,
          -0.6812760140721084,
          -0.679578993307012,
          -0.6757417000844417,
          -0.6684470436613326,
          -0.6674085682677642,
          -0.6604431845304257,
          -0.6543516398437704,
          -0.6522493603884988,
          -0.6404968583734936,
          -0.6318724468732565,
          -0.6297954960861242,
          -0.6281111396550952,
          -0.6242485177643856,
          -0.6122427290680231,
          -0.6035170028952468,
          -0.5940314166783941,
          -0.5909413191658283,
          -0.5842545507779819,
          -0.5711849580199162,
          -0.5710456503451702,
          -0.5694246155844782,
          -0.5587485819652437,
          -0.5515045828784088,
          -0.5458309612159915,
          -0.54187968898681,
          -0.5417910386483336,
          -0.5366493190167703,
          -0.5360794239837141,
          -0.5341417808713279,
          -0.5207555797615634,
          -0.5162724055015325,
          -0.511953867584378,
          -0.5024936100356646,
          -0.4976558344217282,
          -0.4932993035023715,
          -0.4852827800373973,
          -0.48392769629213456,
          -0.4831678362480582,
          -0.4824839622083909,
          -0.482180018190764,
          -0.4777601656010702,
          -0.4728843969849315,
          -0.4728084109805225,
          -0.4671474536521727,
          -0.4654377685530089,
          -0.4541031895622463,
          -0.44639061011489906,
          -0.44084363179316044,
          -0.4385133943246664,
          -0.437842184619071,
          -0.42527916522371983,
          -0.4196055435613026,
          -0.4138686002285483,
          -0.4115130340919194,
          -0.4088408596035962,
          -0.3795989122408315,
          -0.36507292106495476,
          -0.3437588468286924,
          -0.33778128114864825,
          -0.33598294571100806,
          -0.2655059266231837,
          -0.2643281435548692,
          -0.2635176261745233,
          -0.25238567652884386,
          -0.24920692867780606,
          -0.2442551740572584,
          -0.22305507882760728,
          -0.20685739555476898,
          -0.18341571319510017,
          -0.17971772764727595,
          -0.16012600284424483,
          -0.1537811714762322,
          -0.14359904688564476,
          -0.1352532507349043,
          -0.13499996405354703,
          -0.13087139114741275,
          -0.13069409047045996,
          -0.1150156448944081,
          -0.10631524738976657,
          -0.09216918623593023,
          -0.061458176121291605,
          -0.023325866242865194,
          -0.004177393132211552,
          -0.004126735795937399,
          0.008347633260937353,
          0.07916658936859089,
          0.09916357286179724,
          0.10186107601825531,
          0.13820771479310892,
          0.14212099402008818,
          0.175947430315432,
          0.1825328840307345,
          0.19124594586944346,
          0.2056959510409112,
          0.2076462584873649,
          0.22136173228289566,
          0.22869438170820705,
          0.23184780089111,
          0.24500604398765208,
          0.24595586904274408,
          0.2594433848250479,
          0.2639772164213529,
          0.27971898366774633,
          0.28241648682420895,
          0.28548125566863547,
          0.28744422744916104,
          0.30012122585112344,
          0.3298190892403285,
          0.3306549352888093,
          0.3324152777242472,
          0.3443324160821378,
          0.3646586722611059,
          0.37083886728623766,
          0.372320594372179,
          0.3735996921130373,
          0.37409360114168444,
          0.375980586917801,
          0.3889488650033229,
          0.3907218717728283,
          0.3922162631928371,
          0.39415390630522784,
          0.41261850537621414,
          0.4504342069029417,
          0.4564244369170578,
          0.4615281635464189,
          0.4646942470633893,
          0.4940755021009045,
          0.49472138313836506,
          0.5253690715826667,
          0.5751652331376218,
          0.5768622539027183,
          0.5801296520922369,
          0.585157392717189,
          0.5861198821063485,
          0.5961120416859157,
          0.6209594651271214,
          0.6313442190627965,
          0.6373471134109754,
          0.6873965616472879,
          0.6879157993440743,
          0.6949698334198892,
          0.7169804460298862,
          0.7251616058377458,
          0.7300500387879519,
          0.7533524134728746,
          0.774881781388292,
          0.7874448007836432,
          0.7912567653380786,
          0.7959425689432016,
          0.8193842513028704,
          0.8279580054668333,
          0.8281859634800558,
          0.8282492851503928,
          0.8500825970834416,
          0.8571746241614632,
          0.8592642392826628,
          0.8700415875744412,
          0.9084778414704946,
          0.9884911041114457,
          0.9985212566932152,
          0.999357102741696,
          1.0419599225460903,
          1.0740640094081986,
          1.1188071016700623,
          1.1191363743558285,
          1.1383355048027517,
          1.1605867397600431,
          1.1815715413105392,
          1.204810594325125,
          1.2148787399091012,
          1.244323316616949,
          1.25669637100128,
          1.2590266084697739,
          1.267435726290856,
          1.2680562786601817,
          1.2718682432146171,
          1.2917892407034146,
          1.29948915581669,
          1.3003883235355123,
          1.3045548894438488,
          1.305479385830806,
          1.323855334563316,
          1.326046264357064,
          1.3443462270851694,
          1.3551109110428758,
          1.3675852800997506,
          1.3788058800839065,
          1.3800596491566253,
          1.3849227534386965,
          1.3855053128058201,
          1.3905837107670465,
          1.4041598768878267,
          1.4233210143325477,
          1.4339210619473777,
          1.4433053334916865,
          1.4458255359711965,
          1.4611493801933473,
          1.468722651965944,
          1.471230190111391,
          1.5125792408430572,
          1.525623504932988,
          1.528789588449963,
          1.5415932301926039,
          1.559589248903078,
          1.5662506886227894,
          1.5663266746271984,
          1.593263713189604,
          1.6031672224306992,
          1.612260214291444,
          1.6225056605523684,
          1.6269761704783365,
          1.645554748555934,
          1.6478596573562934,
          1.6801410448953495,
          1.6810528769482393,
          1.6815847789790888,
          1.6880815823559194,
          1.6993655040104123,
          1.73447103804661,
          1.7435133725710896,
          1.7557851122828767,
          1.7684494463507672,
          1.8045934557805332,
          1.8187775099365762,
          1.8398382974914813,
          1.9197502454598843,
          1.9288179086524988,
          2.008742520954969,
          2.261345328273165,
          2.2777076478888794
         ],
         "yaxis": "y5"
        },
        {
         "line": {
          "color": "white"
         },
         "mode": "lines",
         "showlegend": false,
         "type": "scatter",
         "x": [
          -2.8490480731807573,
          2.8490480731807564
         ],
         "xaxis": "x5",
         "y": [
          -2.8490480731807573,
          2.8490480731807564
         ],
         "yaxis": "y5"
        }
       ],
       "layout": {
        "annotations": [
         {
          "font": {
           "size": 16
          },
          "showarrow": false,
          "text": "Delta 15N Ratio Histogram",
          "x": 0.14444444444444446,
          "xanchor": "center",
          "xref": "paper",
          "y": 1,
          "yanchor": "bottom",
          "yref": "paper"
         },
         {
          "font": {
           "size": 16
          },
          "showarrow": false,
          "text": "Delta 15N qq-plot",
          "x": 0.5,
          "xanchor": "center",
          "xref": "paper",
          "y": 1,
          "yanchor": "bottom",
          "yref": "paper"
         },
         {
          "font": {
           "size": 16
          },
          "showarrow": false,
          "text": "Shapiro test Delta 15N",
          "x": 0.8555555555555556,
          "xanchor": "center",
          "xref": "paper",
          "y": 1,
          "yanchor": "bottom",
          "yref": "paper"
         },
         {
          "font": {
           "size": 16
          },
          "showarrow": false,
          "text": "Delta 13C Histogram",
          "x": 0.14444444444444446,
          "xanchor": "center",
          "xref": "paper",
          "y": 0.375,
          "yanchor": "bottom",
          "yref": "paper"
         },
         {
          "font": {
           "size": 16
          },
          "showarrow": false,
          "text": "Delta 13C qq-plot",
          "x": 0.5,
          "xanchor": "center",
          "xref": "paper",
          "y": 0.375,
          "yanchor": "bottom",
          "yref": "paper"
         },
         {
          "font": {
           "size": 16
          },
          "showarrow": false,
          "text": "Shapiro test Delta 13C",
          "x": 0.8555555555555556,
          "xanchor": "center",
          "xref": "paper",
          "y": 0.375,
          "yanchor": "bottom",
          "yref": "paper"
         },
         {
          "text": "p_value of shapiro: 0.0002715522423386574<br>Shapiro Normality test H0 reject",
          "xref": "x3",
          "yref": "y3"
         },
         {
          "text": "p_value of shapiro: 2.6872595260130083e-09<br>Shapiro Normality test H0 reject",
          "xref": "x6",
          "yref": "y6"
         }
        ],
        "height": 1000,
        "margin": {
         "t": 150
        },
        "showlegend": false,
        "template": {
         "data": {
          "bar": [
           {
            "error_x": {
             "color": "#f2f5fa"
            },
            "error_y": {
             "color": "#f2f5fa"
            },
            "marker": {
             "line": {
              "color": "rgb(17,17,17)",
              "width": 0.5
             },
             "pattern": {
              "fillmode": "overlay",
              "size": 10,
              "solidity": 0.2
             }
            },
            "type": "bar"
           }
          ],
          "barpolar": [
           {
            "marker": {
             "line": {
              "color": "rgb(17,17,17)",
              "width": 0.5
             },
             "pattern": {
              "fillmode": "overlay",
              "size": 10,
              "solidity": 0.2
             }
            },
            "type": "barpolar"
           }
          ],
          "carpet": [
           {
            "aaxis": {
             "endlinecolor": "#A2B1C6",
             "gridcolor": "#506784",
             "linecolor": "#506784",
             "minorgridcolor": "#506784",
             "startlinecolor": "#A2B1C6"
            },
            "baxis": {
             "endlinecolor": "#A2B1C6",
             "gridcolor": "#506784",
             "linecolor": "#506784",
             "minorgridcolor": "#506784",
             "startlinecolor": "#A2B1C6"
            },
            "type": "carpet"
           }
          ],
          "choropleth": [
           {
            "colorbar": {
             "outlinewidth": 0,
             "ticks": ""
            },
            "type": "choropleth"
           }
          ],
          "contour": [
           {
            "colorbar": {
             "outlinewidth": 0,
             "ticks": ""
            },
            "colorscale": [
             [
              0,
              "#0d0887"
             ],
             [
              0.1111111111111111,
              "#46039f"
             ],
             [
              0.2222222222222222,
              "#7201a8"
             ],
             [
              0.3333333333333333,
              "#9c179e"
             ],
             [
              0.4444444444444444,
              "#bd3786"
             ],
             [
              0.5555555555555556,
              "#d8576b"
             ],
             [
              0.6666666666666666,
              "#ed7953"
             ],
             [
              0.7777777777777778,
              "#fb9f3a"
             ],
             [
              0.8888888888888888,
              "#fdca26"
             ],
             [
              1,
              "#f0f921"
             ]
            ],
            "type": "contour"
           }
          ],
          "contourcarpet": [
           {
            "colorbar": {
             "outlinewidth": 0,
             "ticks": ""
            },
            "type": "contourcarpet"
           }
          ],
          "heatmap": [
           {
            "colorbar": {
             "outlinewidth": 0,
             "ticks": ""
            },
            "colorscale": [
             [
              0,
              "#0d0887"
             ],
             [
              0.1111111111111111,
              "#46039f"
             ],
             [
              0.2222222222222222,
              "#7201a8"
             ],
             [
              0.3333333333333333,
              "#9c179e"
             ],
             [
              0.4444444444444444,
              "#bd3786"
             ],
             [
              0.5555555555555556,
              "#d8576b"
             ],
             [
              0.6666666666666666,
              "#ed7953"
             ],
             [
              0.7777777777777778,
              "#fb9f3a"
             ],
             [
              0.8888888888888888,
              "#fdca26"
             ],
             [
              1,
              "#f0f921"
             ]
            ],
            "type": "heatmap"
           }
          ],
          "heatmapgl": [
           {
            "colorbar": {
             "outlinewidth": 0,
             "ticks": ""
            },
            "colorscale": [
             [
              0,
              "#0d0887"
             ],
             [
              0.1111111111111111,
              "#46039f"
             ],
             [
              0.2222222222222222,
              "#7201a8"
             ],
             [
              0.3333333333333333,
              "#9c179e"
             ],
             [
              0.4444444444444444,
              "#bd3786"
             ],
             [
              0.5555555555555556,
              "#d8576b"
             ],
             [
              0.6666666666666666,
              "#ed7953"
             ],
             [
              0.7777777777777778,
              "#fb9f3a"
             ],
             [
              0.8888888888888888,
              "#fdca26"
             ],
             [
              1,
              "#f0f921"
             ]
            ],
            "type": "heatmapgl"
           }
          ],
          "histogram": [
           {
            "marker": {
             "pattern": {
              "fillmode": "overlay",
              "size": 10,
              "solidity": 0.2
             }
            },
            "type": "histogram"
           }
          ],
          "histogram2d": [
           {
            "colorbar": {
             "outlinewidth": 0,
             "ticks": ""
            },
            "colorscale": [
             [
              0,
              "#0d0887"
             ],
             [
              0.1111111111111111,
              "#46039f"
             ],
             [
              0.2222222222222222,
              "#7201a8"
             ],
             [
              0.3333333333333333,
              "#9c179e"
             ],
             [
              0.4444444444444444,
              "#bd3786"
             ],
             [
              0.5555555555555556,
              "#d8576b"
             ],
             [
              0.6666666666666666,
              "#ed7953"
             ],
             [
              0.7777777777777778,
              "#fb9f3a"
             ],
             [
              0.8888888888888888,
              "#fdca26"
             ],
             [
              1,
              "#f0f921"
             ]
            ],
            "type": "histogram2d"
           }
          ],
          "histogram2dcontour": [
           {
            "colorbar": {
             "outlinewidth": 0,
             "ticks": ""
            },
            "colorscale": [
             [
              0,
              "#0d0887"
             ],
             [
              0.1111111111111111,
              "#46039f"
             ],
             [
              0.2222222222222222,
              "#7201a8"
             ],
             [
              0.3333333333333333,
              "#9c179e"
             ],
             [
              0.4444444444444444,
              "#bd3786"
             ],
             [
              0.5555555555555556,
              "#d8576b"
             ],
             [
              0.6666666666666666,
              "#ed7953"
             ],
             [
              0.7777777777777778,
              "#fb9f3a"
             ],
             [
              0.8888888888888888,
              "#fdca26"
             ],
             [
              1,
              "#f0f921"
             ]
            ],
            "type": "histogram2dcontour"
           }
          ],
          "mesh3d": [
           {
            "colorbar": {
             "outlinewidth": 0,
             "ticks": ""
            },
            "type": "mesh3d"
           }
          ],
          "parcoords": [
           {
            "line": {
             "colorbar": {
              "outlinewidth": 0,
              "ticks": ""
             }
            },
            "type": "parcoords"
           }
          ],
          "pie": [
           {
            "automargin": true,
            "type": "pie"
           }
          ],
          "scatter": [
           {
            "marker": {
             "line": {
              "color": "#283442"
             }
            },
            "type": "scatter"
           }
          ],
          "scatter3d": [
           {
            "line": {
             "colorbar": {
              "outlinewidth": 0,
              "ticks": ""
             }
            },
            "marker": {
             "colorbar": {
              "outlinewidth": 0,
              "ticks": ""
             }
            },
            "type": "scatter3d"
           }
          ],
          "scattercarpet": [
           {
            "marker": {
             "colorbar": {
              "outlinewidth": 0,
              "ticks": ""
             }
            },
            "type": "scattercarpet"
           }
          ],
          "scattergeo": [
           {
            "marker": {
             "colorbar": {
              "outlinewidth": 0,
              "ticks": ""
             }
            },
            "type": "scattergeo"
           }
          ],
          "scattergl": [
           {
            "marker": {
             "line": {
              "color": "#283442"
             }
            },
            "type": "scattergl"
           }
          ],
          "scattermapbox": [
           {
            "marker": {
             "colorbar": {
              "outlinewidth": 0,
              "ticks": ""
             }
            },
            "type": "scattermapbox"
           }
          ],
          "scatterpolar": [
           {
            "marker": {
             "colorbar": {
              "outlinewidth": 0,
              "ticks": ""
             }
            },
            "type": "scatterpolar"
           }
          ],
          "scatterpolargl": [
           {
            "marker": {
             "colorbar": {
              "outlinewidth": 0,
              "ticks": ""
             }
            },
            "type": "scatterpolargl"
           }
          ],
          "scatterternary": [
           {
            "marker": {
             "colorbar": {
              "outlinewidth": 0,
              "ticks": ""
             }
            },
            "type": "scatterternary"
           }
          ],
          "surface": [
           {
            "colorbar": {
             "outlinewidth": 0,
             "ticks": ""
            },
            "colorscale": [
             [
              0,
              "#0d0887"
             ],
             [
              0.1111111111111111,
              "#46039f"
             ],
             [
              0.2222222222222222,
              "#7201a8"
             ],
             [
              0.3333333333333333,
              "#9c179e"
             ],
             [
              0.4444444444444444,
              "#bd3786"
             ],
             [
              0.5555555555555556,
              "#d8576b"
             ],
             [
              0.6666666666666666,
              "#ed7953"
             ],
             [
              0.7777777777777778,
              "#fb9f3a"
             ],
             [
              0.8888888888888888,
              "#fdca26"
             ],
             [
              1,
              "#f0f921"
             ]
            ],
            "type": "surface"
           }
          ],
          "table": [
           {
            "cells": {
             "fill": {
              "color": "#506784"
             },
             "line": {
              "color": "rgb(17,17,17)"
             }
            },
            "header": {
             "fill": {
              "color": "#2a3f5f"
             },
             "line": {
              "color": "rgb(17,17,17)"
             }
            },
            "type": "table"
           }
          ]
         },
         "layout": {
          "annotationdefaults": {
           "arrowcolor": "#f2f5fa",
           "arrowhead": 0,
           "arrowwidth": 1
          },
          "autotypenumbers": "strict",
          "coloraxis": {
           "colorbar": {
            "outlinewidth": 0,
            "ticks": ""
           }
          },
          "colorscale": {
           "diverging": [
            [
             0,
             "#8e0152"
            ],
            [
             0.1,
             "#c51b7d"
            ],
            [
             0.2,
             "#de77ae"
            ],
            [
             0.3,
             "#f1b6da"
            ],
            [
             0.4,
             "#fde0ef"
            ],
            [
             0.5,
             "#f7f7f7"
            ],
            [
             0.6,
             "#e6f5d0"
            ],
            [
             0.7,
             "#b8e186"
            ],
            [
             0.8,
             "#7fbc41"
            ],
            [
             0.9,
             "#4d9221"
            ],
            [
             1,
             "#276419"
            ]
           ],
           "sequential": [
            [
             0,
             "#0d0887"
            ],
            [
             0.1111111111111111,
             "#46039f"
            ],
            [
             0.2222222222222222,
             "#7201a8"
            ],
            [
             0.3333333333333333,
             "#9c179e"
            ],
            [
             0.4444444444444444,
             "#bd3786"
            ],
            [
             0.5555555555555556,
             "#d8576b"
            ],
            [
             0.6666666666666666,
             "#ed7953"
            ],
            [
             0.7777777777777778,
             "#fb9f3a"
            ],
            [
             0.8888888888888888,
             "#fdca26"
            ],
            [
             1,
             "#f0f921"
            ]
           ],
           "sequentialminus": [
            [
             0,
             "#0d0887"
            ],
            [
             0.1111111111111111,
             "#46039f"
            ],
            [
             0.2222222222222222,
             "#7201a8"
            ],
            [
             0.3333333333333333,
             "#9c179e"
            ],
            [
             0.4444444444444444,
             "#bd3786"
            ],
            [
             0.5555555555555556,
             "#d8576b"
            ],
            [
             0.6666666666666666,
             "#ed7953"
            ],
            [
             0.7777777777777778,
             "#fb9f3a"
            ],
            [
             0.8888888888888888,
             "#fdca26"
            ],
            [
             1,
             "#f0f921"
            ]
           ]
          },
          "colorway": [
           "#636efa",
           "#EF553B",
           "#00cc96",
           "#ab63fa",
           "#FFA15A",
           "#19d3f3",
           "#FF6692",
           "#B6E880",
           "#FF97FF",
           "#FECB52"
          ],
          "font": {
           "color": "#f2f5fa",
           "family": "Fira Code",
           "size": 20
          },
          "geo": {
           "bgcolor": "rgb(17,17,17)",
           "lakecolor": "rgb(17,17,17)",
           "landcolor": "rgb(17,17,17)",
           "showlakes": true,
           "showland": true,
           "subunitcolor": "#506784"
          },
          "hoverlabel": {
           "align": "left"
          },
          "hovermode": "closest",
          "mapbox": {
           "style": "dark"
          },
          "paper_bgcolor": "rgb(17,17,17)",
          "plot_bgcolor": "rgb(17,17,17)",
          "polar": {
           "angularaxis": {
            "gridcolor": "#506784",
            "linecolor": "#506784",
            "ticks": ""
           },
           "bgcolor": "rgb(17,17,17)",
           "radialaxis": {
            "gridcolor": "#506784",
            "linecolor": "#506784",
            "ticks": ""
           }
          },
          "scene": {
           "xaxis": {
            "backgroundcolor": "rgb(17,17,17)",
            "gridcolor": "#506784",
            "gridwidth": 2,
            "linecolor": "#506784",
            "showbackground": true,
            "ticks": "",
            "zerolinecolor": "#C8D4E3"
           },
           "yaxis": {
            "backgroundcolor": "rgb(17,17,17)",
            "gridcolor": "#506784",
            "gridwidth": 2,
            "linecolor": "#506784",
            "showbackground": true,
            "ticks": "",
            "zerolinecolor": "#C8D4E3"
           },
           "zaxis": {
            "backgroundcolor": "rgb(17,17,17)",
            "gridcolor": "#506784",
            "gridwidth": 2,
            "linecolor": "#506784",
            "showbackground": true,
            "ticks": "",
            "zerolinecolor": "#C8D4E3"
           }
          },
          "shapedefaults": {
           "line": {
            "color": "#f2f5fa"
           }
          },
          "sliderdefaults": {
           "bgcolor": "#C8D4E3",
           "bordercolor": "rgb(17,17,17)",
           "borderwidth": 1,
           "tickwidth": 0
          },
          "ternary": {
           "aaxis": {
            "gridcolor": "#506784",
            "linecolor": "#506784",
            "ticks": ""
           },
           "baxis": {
            "gridcolor": "#506784",
            "linecolor": "#506784",
            "ticks": ""
           },
           "bgcolor": "rgb(17,17,17)",
           "caxis": {
            "gridcolor": "#506784",
            "linecolor": "#506784",
            "ticks": ""
           }
          },
          "title": {
           "x": 0.05
          },
          "updatemenudefaults": {
           "bgcolor": "#506784",
           "borderwidth": 0
          },
          "xaxis": {
           "automargin": true,
           "gridcolor": "#283442",
           "linecolor": "#506784",
           "ticks": "",
           "title": {
            "standoff": 15
           },
           "zerolinecolor": "#283442",
           "zerolinewidth": 2
          },
          "yaxis": {
           "automargin": true,
           "gridcolor": "#283442",
           "linecolor": "#506784",
           "ticks": "",
           "title": {
            "standoff": 15
           },
           "zerolinecolor": "#283442",
           "zerolinewidth": 2
          }
         }
        },
        "title": {
         "font": {
          "size": 30
         },
         "text": "Obtained Data Histogram and Q-Q plot"
        },
        "xaxis": {
         "anchor": "y",
         "domain": [
          0,
          0.2888888888888889
         ]
        },
        "xaxis2": {
         "anchor": "y2",
         "domain": [
          0.35555555555555557,
          0.6444444444444445
         ]
        },
        "xaxis3": {
         "anchor": "y3",
         "domain": [
          0.7111111111111111,
          1
         ],
         "showgrid": false,
         "showticklabels": false
        },
        "xaxis4": {
         "anchor": "y4",
         "domain": [
          0,
          0.2888888888888889
         ]
        },
        "xaxis5": {
         "anchor": "y5",
         "domain": [
          0.35555555555555557,
          0.6444444444444445
         ]
        },
        "xaxis6": {
         "anchor": "y6",
         "domain": [
          0.7111111111111111,
          1
         ],
         "showgrid": false,
         "showticklabels": false
        },
        "yaxis": {
         "anchor": "x",
         "domain": [
          0.625,
          1
         ]
        },
        "yaxis2": {
         "anchor": "x2",
         "domain": [
          0.625,
          1
         ]
        },
        "yaxis3": {
         "anchor": "x3",
         "domain": [
          0.625,
          1
         ],
         "showgrid": false,
         "showticklabels": false
        },
        "yaxis4": {
         "anchor": "x4",
         "domain": [
          0,
          0.375
         ]
        },
        "yaxis5": {
         "anchor": "x5",
         "domain": [
          0,
          0.375
         ]
        },
        "yaxis6": {
         "anchor": "x6",
         "domain": [
          0,
          0.375
         ],
         "showgrid": false,
         "showticklabels": false
        }
       }
      }
     },
     "metadata": {},
     "output_type": "display_data"
    }
   ],
   "source": [
    "fig = make_subplots(rows=2,cols=3,subplot_titles=(\"Delta 15N Ratio Histogram\",\"Delta 15N qq-plot\",\"Shapiro test Delta 15N\",\"Delta 13C Histogram\",\"Delta 13C qq-plot\",\"Shapiro test Delta 13C\"))\n",
    "colors_list = px.colors.qualitative.Plotly[:2]\n",
    "for i,color_ in enumerate(colors_list):\n",
    "    d = plot_qq(exp_cols[i])\n",
    "    p_val,text_ = shapiro_test(exp_cols[i])\n",
    "    fig.add_trace(go.Histogram(x=temp_na[exp_cols[i]],marker=dict(color=color_)),row=i+1,col=1)\n",
    "    fig.append_trace(go.Scatter(x=d[0].get_xdata(),y=d[0].get_ydata(),mode=\"markers\",showlegend=False,marker=dict(color=color_)),row=i+1,col=2)\n",
    "    fig.append_trace(go.Scatter(x=d[1].get_xdata(),y=d[1].get_ydata(),mode=\"lines\",showlegend=False,line=dict(color=\"white\")),row=i+1,col=2)\n",
    "    fig.add_annotation(text=f\"p_value of shapiro: {p_val}<br>{text_}\",row=i+1,col=3)\n",
    "    fig.update_xaxes(showgrid=False,showticklabels=False,row=i+1,col=3)\n",
    "    fig.update_yaxes(showgrid=False,showticklabels=False,row=i+1,col=3)\n",
    "fig.update_layout(showlegend=False,height=1000,title=dict(text=\"Obtained Data Histogram and Q-Q plot\",font=dict(size=30)),margin=dict(t=150))\n",
    "fig.show()"
   ]
  },
  {
   "cell_type": "markdown",
   "metadata": {
    "tags": []
   },
   "source": [
    "<span style=\"font-family:Fira Code\">\n",
    "<h2>\n",
    "Categorical"
   ]
  },
  {
   "cell_type": "code",
   "execution_count": 18,
   "metadata": {},
   "outputs": [
    {
     "data": {
      "text/html": [
       "<div>\n",
       "<style scoped>\n",
       "    .dataframe tbody tr th:only-of-type {\n",
       "        vertical-align: middle;\n",
       "    }\n",
       "\n",
       "    .dataframe tbody tr th {\n",
       "        vertical-align: top;\n",
       "    }\n",
       "\n",
       "    .dataframe thead th {\n",
       "        text-align: right;\n",
       "    }\n",
       "</style>\n",
       "<table border=\"1\" class=\"dataframe\">\n",
       "  <thead>\n",
       "    <tr style=\"text-align: right;\">\n",
       "      <th></th>\n",
       "      <th>study</th>\n",
       "      <th>species</th>\n",
       "      <th>island</th>\n",
       "      <th>clutch</th>\n",
       "      <th>sex</th>\n",
       "    </tr>\n",
       "  </thead>\n",
       "  <tbody>\n",
       "    <tr>\n",
       "      <th>count</th>\n",
       "      <td>324</td>\n",
       "      <td>324</td>\n",
       "      <td>324</td>\n",
       "      <td>324</td>\n",
       "      <td>324</td>\n",
       "    </tr>\n",
       "    <tr>\n",
       "      <th>unique</th>\n",
       "      <td>3</td>\n",
       "      <td>3</td>\n",
       "      <td>3</td>\n",
       "      <td>2</td>\n",
       "      <td>2</td>\n",
       "    </tr>\n",
       "    <tr>\n",
       "      <th>top</th>\n",
       "      <td>PAL0910</td>\n",
       "      <td>Adelie</td>\n",
       "      <td>Biscoe</td>\n",
       "      <td>Yes</td>\n",
       "      <td>FEMALE</td>\n",
       "    </tr>\n",
       "    <tr>\n",
       "      <th>freq</th>\n",
       "      <td>116</td>\n",
       "      <td>139</td>\n",
       "      <td>162</td>\n",
       "      <td>290</td>\n",
       "      <td>163</td>\n",
       "    </tr>\n",
       "  </tbody>\n",
       "</table>\n",
       "</div>"
      ],
      "text/plain": [
       "          study species  island clutch     sex\n",
       "count       324     324     324    324     324\n",
       "unique        3       3       3      2       2\n",
       "top     PAL0910  Adelie  Biscoe    Yes  FEMALE\n",
       "freq        116     139     162    290     163"
      ]
     },
     "execution_count": 18,
     "metadata": {},
     "output_type": "execute_result"
    }
   ],
   "source": [
    "cat_cols = ['study','species','island','clutch','sex']\n",
    "temp_na[cat_cols].describe()"
   ]
  },
  {
   "cell_type": "code",
   "execution_count": 19,
   "metadata": {},
   "outputs": [
    {
     "data": {
      "application/vnd.plotly.v1+json": {
       "config": {
        "plotlyServerURL": "https://plot.ly"
       },
       "data": [
        {
         "domain": {
          "x": [
           0.55,
           1
          ],
          "y": [
           0,
           1
          ]
         },
         "labels": [
          "PAL0708",
          "PAL0708",
          "PAL0708",
          "PAL0708",
          "PAL0708",
          "PAL0708",
          "PAL0708",
          "PAL0708",
          "PAL0708",
          "PAL0708",
          "PAL0708",
          "PAL0708",
          "PAL0708",
          "PAL0708",
          "PAL0708",
          "PAL0708",
          "PAL0708",
          "PAL0708",
          "PAL0708",
          "PAL0708",
          "PAL0708",
          "PAL0708",
          "PAL0708",
          "PAL0708",
          "PAL0708",
          "PAL0708",
          "PAL0708",
          "PAL0708",
          "PAL0708",
          "PAL0708",
          "PAL0708",
          "PAL0708",
          "PAL0708",
          "PAL0708",
          "PAL0708",
          "PAL0708",
          "PAL0708",
          "PAL0809",
          "PAL0809",
          "PAL0809",
          "PAL0809",
          "PAL0809",
          "PAL0809",
          "PAL0809",
          "PAL0809",
          "PAL0809",
          "PAL0809",
          "PAL0809",
          "PAL0809",
          "PAL0809",
          "PAL0809",
          "PAL0809",
          "PAL0809",
          "PAL0809",
          "PAL0809",
          "PAL0809",
          "PAL0809",
          "PAL0809",
          "PAL0809",
          "PAL0809",
          "PAL0809",
          "PAL0809",
          "PAL0809",
          "PAL0809",
          "PAL0809",
          "PAL0809",
          "PAL0809",
          "PAL0809",
          "PAL0809",
          "PAL0809",
          "PAL0809",
          "PAL0809",
          "PAL0809",
          "PAL0809",
          "PAL0809",
          "PAL0809",
          "PAL0809",
          "PAL0809",
          "PAL0809",
          "PAL0809",
          "PAL0809",
          "PAL0809",
          "PAL0809",
          "PAL0809",
          "PAL0809",
          "PAL0809",
          "PAL0809",
          "PAL0910",
          "PAL0910",
          "PAL0910",
          "PAL0910",
          "PAL0910",
          "PAL0910",
          "PAL0910",
          "PAL0910",
          "PAL0910",
          "PAL0910",
          "PAL0910",
          "PAL0910",
          "PAL0910",
          "PAL0910",
          "PAL0910",
          "PAL0910",
          "PAL0910",
          "PAL0910",
          "PAL0910",
          "PAL0910",
          "PAL0910",
          "PAL0910",
          "PAL0910",
          "PAL0910",
          "PAL0910",
          "PAL0910",
          "PAL0910",
          "PAL0910",
          "PAL0910",
          "PAL0910",
          "PAL0910",
          "PAL0910",
          "PAL0910",
          "PAL0910",
          "PAL0910",
          "PAL0910",
          "PAL0910",
          "PAL0910",
          "PAL0910",
          "PAL0910",
          "PAL0910",
          "PAL0910",
          "PAL0910",
          "PAL0910",
          "PAL0910",
          "PAL0910",
          "PAL0910",
          "PAL0910",
          "PAL0910",
          "PAL0910",
          "PAL0910",
          "PAL0910",
          "PAL0708",
          "PAL0708",
          "PAL0708",
          "PAL0708",
          "PAL0708",
          "PAL0708",
          "PAL0708",
          "PAL0708",
          "PAL0708",
          "PAL0708",
          "PAL0708",
          "PAL0708",
          "PAL0708",
          "PAL0708",
          "PAL0708",
          "PAL0708",
          "PAL0708",
          "PAL0708",
          "PAL0708",
          "PAL0708",
          "PAL0708",
          "PAL0708",
          "PAL0708",
          "PAL0708",
          "PAL0708",
          "PAL0708",
          "PAL0809",
          "PAL0809",
          "PAL0809",
          "PAL0809",
          "PAL0809",
          "PAL0809",
          "PAL0809",
          "PAL0809",
          "PAL0809",
          "PAL0809",
          "PAL0809",
          "PAL0809",
          "PAL0809",
          "PAL0809",
          "PAL0809",
          "PAL0809",
          "PAL0809",
          "PAL0809",
          "PAL0910",
          "PAL0910",
          "PAL0910",
          "PAL0910",
          "PAL0910",
          "PAL0910",
          "PAL0910",
          "PAL0910",
          "PAL0910",
          "PAL0910",
          "PAL0910",
          "PAL0910",
          "PAL0910",
          "PAL0910",
          "PAL0910",
          "PAL0910",
          "PAL0910",
          "PAL0910",
          "PAL0910",
          "PAL0910",
          "PAL0910",
          "PAL0910",
          "PAL0910",
          "PAL0708",
          "PAL0708",
          "PAL0708",
          "PAL0708",
          "PAL0708",
          "PAL0708",
          "PAL0708",
          "PAL0708",
          "PAL0708",
          "PAL0708",
          "PAL0708",
          "PAL0708",
          "PAL0708",
          "PAL0708",
          "PAL0708",
          "PAL0708",
          "PAL0708",
          "PAL0708",
          "PAL0708",
          "PAL0708",
          "PAL0708",
          "PAL0708",
          "PAL0708",
          "PAL0708",
          "PAL0708",
          "PAL0708",
          "PAL0708",
          "PAL0708",
          "PAL0708",
          "PAL0708",
          "PAL0708",
          "PAL0708",
          "PAL0809",
          "PAL0809",
          "PAL0809",
          "PAL0809",
          "PAL0809",
          "PAL0809",
          "PAL0809",
          "PAL0809",
          "PAL0809",
          "PAL0809",
          "PAL0809",
          "PAL0809",
          "PAL0809",
          "PAL0809",
          "PAL0809",
          "PAL0809",
          "PAL0809",
          "PAL0809",
          "PAL0809",
          "PAL0809",
          "PAL0809",
          "PAL0809",
          "PAL0809",
          "PAL0809",
          "PAL0809",
          "PAL0809",
          "PAL0809",
          "PAL0809",
          "PAL0809",
          "PAL0809",
          "PAL0809",
          "PAL0809",
          "PAL0809",
          "PAL0809",
          "PAL0809",
          "PAL0809",
          "PAL0809",
          "PAL0809",
          "PAL0809",
          "PAL0809",
          "PAL0809",
          "PAL0809",
          "PAL0809",
          "PAL0809",
          "PAL0809",
          "PAL0910",
          "PAL0910",
          "PAL0910",
          "PAL0910",
          "PAL0910",
          "PAL0910",
          "PAL0910",
          "PAL0910",
          "PAL0910",
          "PAL0910",
          "PAL0910",
          "PAL0910",
          "PAL0910",
          "PAL0910",
          "PAL0910",
          "PAL0910",
          "PAL0910",
          "PAL0910",
          "PAL0910",
          "PAL0910",
          "PAL0910",
          "PAL0910",
          "PAL0910",
          "PAL0910",
          "PAL0910",
          "PAL0910",
          "PAL0910",
          "PAL0910",
          "PAL0910",
          "PAL0910",
          "PAL0910",
          "PAL0910",
          "PAL0910",
          "PAL0910",
          "PAL0910",
          "PAL0910",
          "PAL0910",
          "PAL0910",
          "PAL0910",
          "PAL0910",
          "PAL0910"
         ],
         "textinfo": "percent+label",
         "type": "pie",
         "visible": true
        },
        {
         "marker": {
          "color": [
           "#636EFA",
           "#EF553B",
           "#00CC96"
          ]
         },
         "textposition": "outside",
         "texttemplate": "%{y}",
         "type": "bar",
         "visible": true,
         "x": [
          "PAL0910",
          "PAL0809",
          "PAL0708"
         ],
         "xaxis": "x",
         "y": [
          116,
          113,
          95
         ],
         "yaxis": "y"
        },
        {
         "domain": {
          "x": [
           0.55,
           1
          ],
          "y": [
           0,
           1
          ]
         },
         "labels": [
          "Adelie",
          "Adelie",
          "Adelie",
          "Adelie",
          "Adelie",
          "Adelie",
          "Adelie",
          "Adelie",
          "Adelie",
          "Adelie",
          "Adelie",
          "Adelie",
          "Adelie",
          "Adelie",
          "Adelie",
          "Adelie",
          "Adelie",
          "Adelie",
          "Adelie",
          "Adelie",
          "Adelie",
          "Adelie",
          "Adelie",
          "Adelie",
          "Adelie",
          "Adelie",
          "Adelie",
          "Adelie",
          "Adelie",
          "Adelie",
          "Adelie",
          "Adelie",
          "Adelie",
          "Adelie",
          "Adelie",
          "Adelie",
          "Adelie",
          "Adelie",
          "Adelie",
          "Adelie",
          "Adelie",
          "Adelie",
          "Adelie",
          "Adelie",
          "Adelie",
          "Adelie",
          "Adelie",
          "Adelie",
          "Adelie",
          "Adelie",
          "Adelie",
          "Adelie",
          "Adelie",
          "Adelie",
          "Adelie",
          "Adelie",
          "Adelie",
          "Adelie",
          "Adelie",
          "Adelie",
          "Adelie",
          "Adelie",
          "Adelie",
          "Adelie",
          "Adelie",
          "Adelie",
          "Adelie",
          "Adelie",
          "Adelie",
          "Adelie",
          "Adelie",
          "Adelie",
          "Adelie",
          "Adelie",
          "Adelie",
          "Adelie",
          "Adelie",
          "Adelie",
          "Adelie",
          "Adelie",
          "Adelie",
          "Adelie",
          "Adelie",
          "Adelie",
          "Adelie",
          "Adelie",
          "Adelie",
          "Adelie",
          "Adelie",
          "Adelie",
          "Adelie",
          "Adelie",
          "Adelie",
          "Adelie",
          "Adelie",
          "Adelie",
          "Adelie",
          "Adelie",
          "Adelie",
          "Adelie",
          "Adelie",
          "Adelie",
          "Adelie",
          "Adelie",
          "Adelie",
          "Adelie",
          "Adelie",
          "Adelie",
          "Adelie",
          "Adelie",
          "Adelie",
          "Adelie",
          "Adelie",
          "Adelie",
          "Adelie",
          "Adelie",
          "Adelie",
          "Adelie",
          "Adelie",
          "Adelie",
          "Adelie",
          "Adelie",
          "Adelie",
          "Adelie",
          "Adelie",
          "Adelie",
          "Adelie",
          "Adelie",
          "Adelie",
          "Adelie",
          "Adelie",
          "Adelie",
          "Adelie",
          "Adelie",
          "Adelie",
          "Adelie",
          "Adelie",
          "Adelie",
          "Adelie",
          "Chinstrap",
          "Chinstrap",
          "Chinstrap",
          "Chinstrap",
          "Chinstrap",
          "Chinstrap",
          "Chinstrap",
          "Chinstrap",
          "Chinstrap",
          "Chinstrap",
          "Chinstrap",
          "Chinstrap",
          "Chinstrap",
          "Chinstrap",
          "Chinstrap",
          "Chinstrap",
          "Chinstrap",
          "Chinstrap",
          "Chinstrap",
          "Chinstrap",
          "Chinstrap",
          "Chinstrap",
          "Chinstrap",
          "Chinstrap",
          "Chinstrap",
          "Chinstrap",
          "Chinstrap",
          "Chinstrap",
          "Chinstrap",
          "Chinstrap",
          "Chinstrap",
          "Chinstrap",
          "Chinstrap",
          "Chinstrap",
          "Chinstrap",
          "Chinstrap",
          "Chinstrap",
          "Chinstrap",
          "Chinstrap",
          "Chinstrap",
          "Chinstrap",
          "Chinstrap",
          "Chinstrap",
          "Chinstrap",
          "Chinstrap",
          "Chinstrap",
          "Chinstrap",
          "Chinstrap",
          "Chinstrap",
          "Chinstrap",
          "Chinstrap",
          "Chinstrap",
          "Chinstrap",
          "Chinstrap",
          "Chinstrap",
          "Chinstrap",
          "Chinstrap",
          "Chinstrap",
          "Chinstrap",
          "Chinstrap",
          "Chinstrap",
          "Chinstrap",
          "Chinstrap",
          "Chinstrap",
          "Chinstrap",
          "Chinstrap",
          "Chinstrap",
          "Gentoo",
          "Gentoo",
          "Gentoo",
          "Gentoo",
          "Gentoo",
          "Gentoo",
          "Gentoo",
          "Gentoo",
          "Gentoo",
          "Gentoo",
          "Gentoo",
          "Gentoo",
          "Gentoo",
          "Gentoo",
          "Gentoo",
          "Gentoo",
          "Gentoo",
          "Gentoo",
          "Gentoo",
          "Gentoo",
          "Gentoo",
          "Gentoo",
          "Gentoo",
          "Gentoo",
          "Gentoo",
          "Gentoo",
          "Gentoo",
          "Gentoo",
          "Gentoo",
          "Gentoo",
          "Gentoo",
          "Gentoo",
          "Gentoo",
          "Gentoo",
          "Gentoo",
          "Gentoo",
          "Gentoo",
          "Gentoo",
          "Gentoo",
          "Gentoo",
          "Gentoo",
          "Gentoo",
          "Gentoo",
          "Gentoo",
          "Gentoo",
          "Gentoo",
          "Gentoo",
          "Gentoo",
          "Gentoo",
          "Gentoo",
          "Gentoo",
          "Gentoo",
          "Gentoo",
          "Gentoo",
          "Gentoo",
          "Gentoo",
          "Gentoo",
          "Gentoo",
          "Gentoo",
          "Gentoo",
          "Gentoo",
          "Gentoo",
          "Gentoo",
          "Gentoo",
          "Gentoo",
          "Gentoo",
          "Gentoo",
          "Gentoo",
          "Gentoo",
          "Gentoo",
          "Gentoo",
          "Gentoo",
          "Gentoo",
          "Gentoo",
          "Gentoo",
          "Gentoo",
          "Gentoo",
          "Gentoo",
          "Gentoo",
          "Gentoo",
          "Gentoo",
          "Gentoo",
          "Gentoo",
          "Gentoo",
          "Gentoo",
          "Gentoo",
          "Gentoo",
          "Gentoo",
          "Gentoo",
          "Gentoo",
          "Gentoo",
          "Gentoo",
          "Gentoo",
          "Gentoo",
          "Gentoo",
          "Gentoo",
          "Gentoo",
          "Gentoo",
          "Gentoo",
          "Gentoo",
          "Gentoo",
          "Gentoo",
          "Gentoo",
          "Gentoo",
          "Gentoo",
          "Gentoo",
          "Gentoo",
          "Gentoo",
          "Gentoo",
          "Gentoo",
          "Gentoo",
          "Gentoo",
          "Gentoo",
          "Gentoo",
          "Gentoo",
          "Gentoo",
          "Gentoo",
          "Gentoo"
         ],
         "textinfo": "percent+label",
         "type": "pie",
         "visible": false
        },
        {
         "marker": {
          "color": [
           "#636EFA",
           "#EF553B",
           "#00CC96"
          ]
         },
         "textposition": "outside",
         "texttemplate": "%{y}",
         "type": "bar",
         "visible": false,
         "x": [
          "Adelie",
          "Gentoo",
          "Chinstrap"
         ],
         "xaxis": "x",
         "y": [
          139,
          118,
          67
         ],
         "yaxis": "y"
        },
        {
         "domain": {
          "x": [
           0.55,
           1
          ],
          "y": [
           0,
           1
          ]
         },
         "labels": [
          "Torgersen",
          "Torgersen",
          "Torgersen",
          "Torgersen",
          "Torgersen",
          "Torgersen",
          "Torgersen",
          "Torgersen",
          "Torgersen",
          "Torgersen",
          "Torgersen",
          "Biscoe",
          "Biscoe",
          "Biscoe",
          "Biscoe",
          "Biscoe",
          "Biscoe",
          "Biscoe",
          "Biscoe",
          "Biscoe",
          "Biscoe",
          "Dream",
          "Dream",
          "Dream",
          "Dream",
          "Dream",
          "Dream",
          "Dream",
          "Dream",
          "Dream",
          "Dream",
          "Dream",
          "Dream",
          "Dream",
          "Dream",
          "Dream",
          "Dream",
          "Biscoe",
          "Biscoe",
          "Biscoe",
          "Biscoe",
          "Biscoe",
          "Biscoe",
          "Biscoe",
          "Biscoe",
          "Biscoe",
          "Biscoe",
          "Biscoe",
          "Biscoe",
          "Biscoe",
          "Biscoe",
          "Biscoe",
          "Biscoe",
          "Biscoe",
          "Biscoe",
          "Torgersen",
          "Torgersen",
          "Torgersen",
          "Torgersen",
          "Torgersen",
          "Torgersen",
          "Torgersen",
          "Torgersen",
          "Torgersen",
          "Torgersen",
          "Torgersen",
          "Torgersen",
          "Torgersen",
          "Torgersen",
          "Torgersen",
          "Torgersen",
          "Dream",
          "Dream",
          "Dream",
          "Dream",
          "Dream",
          "Dream",
          "Dream",
          "Dream",
          "Dream",
          "Dream",
          "Dream",
          "Dream",
          "Dream",
          "Dream",
          "Dream",
          "Dream",
          "Biscoe",
          "Biscoe",
          "Biscoe",
          "Biscoe",
          "Biscoe",
          "Biscoe",
          "Biscoe",
          "Biscoe",
          "Biscoe",
          "Biscoe",
          "Biscoe",
          "Biscoe",
          "Biscoe",
          "Biscoe",
          "Biscoe",
          "Biscoe",
          "Torgersen",
          "Torgersen",
          "Torgersen",
          "Torgersen",
          "Torgersen",
          "Torgersen",
          "Torgersen",
          "Torgersen",
          "Torgersen",
          "Torgersen",
          "Torgersen",
          "Torgersen",
          "Torgersen",
          "Torgersen",
          "Torgersen",
          "Torgersen",
          "Dream",
          "Dream",
          "Dream",
          "Dream",
          "Dream",
          "Dream",
          "Dream",
          "Dream",
          "Dream",
          "Dream",
          "Dream",
          "Dream",
          "Dream",
          "Dream",
          "Dream",
          "Dream",
          "Dream",
          "Dream",
          "Dream",
          "Dream",
          "Dream",
          "Dream",
          "Dream",
          "Dream",
          "Dream",
          "Dream",
          "Dream",
          "Dream",
          "Dream",
          "Dream",
          "Dream",
          "Dream",
          "Dream",
          "Dream",
          "Dream",
          "Dream",
          "Dream",
          "Dream",
          "Dream",
          "Dream",
          "Dream",
          "Dream",
          "Dream",
          "Dream",
          "Dream",
          "Dream",
          "Dream",
          "Dream",
          "Dream",
          "Dream",
          "Dream",
          "Dream",
          "Dream",
          "Dream",
          "Dream",
          "Dream",
          "Dream",
          "Dream",
          "Dream",
          "Dream",
          "Dream",
          "Dream",
          "Dream",
          "Dream",
          "Dream",
          "Dream",
          "Dream",
          "Dream",
          "Dream",
          "Dream",
          "Dream",
          "Dream",
          "Dream",
          "Dream",
          "Dream",
          "Dream",
          "Dream",
          "Dream",
          "Dream",
          "Dream",
          "Dream",
          "Dream",
          "Dream",
          "Dream",
          "Dream",
          "Dream",
          "Dream",
          "Biscoe",
          "Biscoe",
          "Biscoe",
          "Biscoe",
          "Biscoe",
          "Biscoe",
          "Biscoe",
          "Biscoe",
          "Biscoe",
          "Biscoe",
          "Biscoe",
          "Biscoe",
          "Biscoe",
          "Biscoe",
          "Biscoe",
          "Biscoe",
          "Biscoe",
          "Biscoe",
          "Biscoe",
          "Biscoe",
          "Biscoe",
          "Biscoe",
          "Biscoe",
          "Biscoe",
          "Biscoe",
          "Biscoe",
          "Biscoe",
          "Biscoe",
          "Biscoe",
          "Biscoe",
          "Biscoe",
          "Biscoe",
          "Biscoe",
          "Biscoe",
          "Biscoe",
          "Biscoe",
          "Biscoe",
          "Biscoe",
          "Biscoe",
          "Biscoe",
          "Biscoe",
          "Biscoe",
          "Biscoe",
          "Biscoe",
          "Biscoe",
          "Biscoe",
          "Biscoe",
          "Biscoe",
          "Biscoe",
          "Biscoe",
          "Biscoe",
          "Biscoe",
          "Biscoe",
          "Biscoe",
          "Biscoe",
          "Biscoe",
          "Biscoe",
          "Biscoe",
          "Biscoe",
          "Biscoe",
          "Biscoe",
          "Biscoe",
          "Biscoe",
          "Biscoe",
          "Biscoe",
          "Biscoe",
          "Biscoe",
          "Biscoe",
          "Biscoe",
          "Biscoe",
          "Biscoe",
          "Biscoe",
          "Biscoe",
          "Biscoe",
          "Biscoe",
          "Biscoe",
          "Biscoe",
          "Biscoe",
          "Biscoe",
          "Biscoe",
          "Biscoe",
          "Biscoe",
          "Biscoe",
          "Biscoe",
          "Biscoe",
          "Biscoe",
          "Biscoe",
          "Biscoe",
          "Biscoe",
          "Biscoe",
          "Biscoe",
          "Biscoe",
          "Biscoe",
          "Biscoe",
          "Biscoe",
          "Biscoe",
          "Biscoe",
          "Biscoe",
          "Biscoe",
          "Biscoe",
          "Biscoe",
          "Biscoe",
          "Biscoe",
          "Biscoe",
          "Biscoe",
          "Biscoe",
          "Biscoe",
          "Biscoe",
          "Biscoe",
          "Biscoe",
          "Biscoe",
          "Biscoe",
          "Biscoe",
          "Biscoe",
          "Biscoe",
          "Biscoe",
          "Biscoe",
          "Biscoe"
         ],
         "textinfo": "percent+label",
         "type": "pie",
         "visible": false
        },
        {
         "marker": {
          "color": [
           "#636EFA",
           "#EF553B",
           "#00CC96"
          ]
         },
         "textposition": "outside",
         "texttemplate": "%{y}",
         "type": "bar",
         "visible": false,
         "x": [
          "Biscoe",
          "Dream",
          "Torgersen"
         ],
         "xaxis": "x",
         "y": [
          162,
          119,
          43
         ],
         "yaxis": "y"
        },
        {
         "domain": {
          "x": [
           0.55,
           1
          ],
          "y": [
           0,
           1
          ]
         },
         "labels": [
          "Yes",
          "Yes",
          "Yes",
          "Yes",
          "No",
          "No",
          "Yes",
          "Yes",
          "Yes",
          "Yes",
          "Yes",
          "Yes",
          "Yes",
          "Yes",
          "Yes",
          "Yes",
          "Yes",
          "Yes",
          "Yes",
          "No",
          "No",
          "Yes",
          "Yes",
          "Yes",
          "Yes",
          "Yes",
          "Yes",
          "Yes",
          "Yes",
          "No",
          "Yes",
          "Yes",
          "Yes",
          "Yes",
          "Yes",
          "Yes",
          "Yes",
          "Yes",
          "Yes",
          "Yes",
          "Yes",
          "Yes",
          "Yes",
          "Yes",
          "Yes",
          "Yes",
          "Yes",
          "Yes",
          "Yes",
          "Yes",
          "Yes",
          "Yes",
          "Yes",
          "Yes",
          "Yes",
          "No",
          "No",
          "Yes",
          "Yes",
          "Yes",
          "Yes",
          "Yes",
          "Yes",
          "Yes",
          "Yes",
          "Yes",
          "Yes",
          "Yes",
          "Yes",
          "Yes",
          "Yes",
          "Yes",
          "Yes",
          "Yes",
          "Yes",
          "Yes",
          "Yes",
          "Yes",
          "Yes",
          "Yes",
          "Yes",
          "Yes",
          "Yes",
          "Yes",
          "Yes",
          "Yes",
          "Yes",
          "Yes",
          "Yes",
          "Yes",
          "Yes",
          "Yes",
          "Yes",
          "Yes",
          "Yes",
          "Yes",
          "Yes",
          "Yes",
          "Yes",
          "Yes",
          "Yes",
          "Yes",
          "Yes",
          "Yes",
          "Yes",
          "Yes",
          "Yes",
          "No",
          "No",
          "Yes",
          "Yes",
          "Yes",
          "Yes",
          "Yes",
          "Yes",
          "Yes",
          "Yes",
          "No",
          "No",
          "Yes",
          "Yes",
          "Yes",
          "Yes",
          "Yes",
          "Yes",
          "No",
          "No",
          "Yes",
          "Yes",
          "Yes",
          "Yes",
          "Yes",
          "Yes",
          "Yes",
          "Yes",
          "Yes",
          "Yes",
          "Yes",
          "Yes",
          "No",
          "No",
          "Yes",
          "Yes",
          "Yes",
          "Yes",
          "Yes",
          "Yes",
          "Yes",
          "Yes",
          "Yes",
          "Yes",
          "Yes",
          "Yes",
          "Yes",
          "Yes",
          "No",
          "No",
          "Yes",
          "Yes",
          "Yes",
          "Yes",
          "No",
          "No",
          "No",
          "No",
          "No",
          "No",
          "Yes",
          "Yes",
          "Yes",
          "Yes",
          "Yes",
          "Yes",
          "Yes",
          "Yes",
          "Yes",
          "Yes",
          "No",
          "No",
          "Yes",
          "Yes",
          "Yes",
          "Yes",
          "Yes",
          "Yes",
          "Yes",
          "Yes",
          "Yes",
          "Yes",
          "Yes",
          "Yes",
          "Yes",
          "Yes",
          "Yes",
          "Yes",
          "Yes",
          "Yes",
          "Yes",
          "Yes",
          "Yes",
          "Yes",
          "Yes",
          "No",
          "No",
          "Yes",
          "Yes",
          "Yes",
          "Yes",
          "Yes",
          "Yes",
          "Yes",
          "Yes",
          "Yes",
          "Yes",
          "Yes",
          "Yes",
          "No",
          "No",
          "Yes",
          "Yes",
          "Yes",
          "Yes",
          "Yes",
          "Yes",
          "Yes",
          "Yes",
          "Yes",
          "Yes",
          "Yes",
          "Yes",
          "Yes",
          "Yes",
          "Yes",
          "Yes",
          "Yes",
          "Yes",
          "Yes",
          "Yes",
          "Yes",
          "Yes",
          "Yes",
          "Yes",
          "Yes",
          "Yes",
          "No",
          "No",
          "Yes",
          "Yes",
          "Yes",
          "Yes",
          "No",
          "No",
          "Yes",
          "Yes",
          "Yes",
          "Yes",
          "Yes",
          "Yes",
          "Yes",
          "Yes",
          "Yes",
          "Yes",
          "Yes",
          "Yes",
          "Yes",
          "Yes",
          "Yes",
          "Yes",
          "Yes",
          "Yes",
          "Yes",
          "Yes",
          "Yes",
          "Yes",
          "Yes",
          "Yes",
          "Yes",
          "Yes",
          "Yes",
          "Yes",
          "Yes",
          "Yes",
          "Yes",
          "Yes",
          "Yes",
          "Yes",
          "Yes",
          "Yes",
          "Yes",
          "Yes",
          "Yes",
          "Yes",
          "Yes",
          "Yes",
          "Yes",
          "Yes",
          "Yes",
          "Yes",
          "Yes",
          "Yes",
          "Yes",
          "Yes",
          "Yes",
          "Yes",
          "Yes",
          "Yes",
          "Yes",
          "Yes",
          "Yes",
          "Yes",
          "Yes",
          "Yes",
          "Yes",
          "Yes",
          "Yes",
          "Yes",
          "Yes",
          "Yes",
          "Yes",
          "No",
          "Yes",
          "Yes",
          "Yes",
          "Yes"
         ],
         "textinfo": "percent+label",
         "type": "pie",
         "visible": false
        },
        {
         "marker": {
          "color": [
           "#636EFA",
           "#EF553B"
          ]
         },
         "textposition": "outside",
         "texttemplate": "%{y}",
         "type": "bar",
         "visible": false,
         "x": [
          "Yes",
          "No"
         ],
         "xaxis": "x",
         "y": [
          290,
          34
         ],
         "yaxis": "y"
        },
        {
         "domain": {
          "x": [
           0.55,
           1
          ],
          "y": [
           0,
           1
          ]
         },
         "labels": [
          "FEMALE",
          "FEMALE",
          "FEMALE",
          "MALE",
          "FEMALE",
          "MALE",
          "MALE",
          "FEMALE",
          "MALE",
          "FEMALE",
          "MALE",
          "FEMALE",
          "MALE",
          "FEMALE",
          "MALE",
          "MALE",
          "FEMALE",
          "MALE",
          "FEMALE",
          "FEMALE",
          "MALE",
          "FEMALE",
          "MALE",
          "FEMALE",
          "MALE",
          "FEMALE",
          "MALE",
          "MALE",
          "FEMALE",
          "FEMALE",
          "FEMALE",
          "FEMALE",
          "MALE",
          "FEMALE",
          "MALE",
          "FEMALE",
          "MALE",
          "FEMALE",
          "MALE",
          "FEMALE",
          "MALE",
          "FEMALE",
          "MALE",
          "FEMALE",
          "MALE",
          "FEMALE",
          "MALE",
          "FEMALE",
          "MALE",
          "FEMALE",
          "MALE",
          "FEMALE",
          "MALE",
          "FEMALE",
          "MALE",
          "FEMALE",
          "MALE",
          "FEMALE",
          "MALE",
          "FEMALE",
          "MALE",
          "FEMALE",
          "MALE",
          "FEMALE",
          "MALE",
          "FEMALE",
          "MALE",
          "FEMALE",
          "MALE",
          "FEMALE",
          "MALE",
          "FEMALE",
          "MALE",
          "MALE",
          "FEMALE",
          "MALE",
          "FEMALE",
          "FEMALE",
          "MALE",
          "FEMALE",
          "MALE",
          "FEMALE",
          "MALE",
          "FEMALE",
          "MALE",
          "FEMALE",
          "MALE",
          "FEMALE",
          "MALE",
          "FEMALE",
          "MALE",
          "FEMALE",
          "MALE",
          "FEMALE",
          "MALE",
          "FEMALE",
          "MALE",
          "FEMALE",
          "MALE",
          "FEMALE",
          "MALE",
          "FEMALE",
          "MALE",
          "FEMALE",
          "MALE",
          "FEMALE",
          "MALE",
          "FEMALE",
          "MALE",
          "FEMALE",
          "MALE",
          "FEMALE",
          "MALE",
          "FEMALE",
          "MALE",
          "FEMALE",
          "MALE",
          "FEMALE",
          "MALE",
          "FEMALE",
          "MALE",
          "FEMALE",
          "MALE",
          "FEMALE",
          "MALE",
          "FEMALE",
          "MALE",
          "FEMALE",
          "MALE",
          "FEMALE",
          "MALE",
          "FEMALE",
          "MALE",
          "MALE",
          "FEMALE",
          "FEMALE",
          "MALE",
          "FEMALE",
          "MALE",
          "FEMALE",
          "MALE",
          "MALE",
          "FEMALE",
          "MALE",
          "FEMALE",
          "FEMALE",
          "MALE",
          "FEMALE",
          "MALE",
          "FEMALE",
          "MALE",
          "FEMALE",
          "MALE",
          "FEMALE",
          "MALE",
          "MALE",
          "FEMALE",
          "FEMALE",
          "MALE",
          "FEMALE",
          "MALE",
          "FEMALE",
          "MALE",
          "FEMALE",
          "MALE",
          "FEMALE",
          "MALE",
          "FEMALE",
          "MALE",
          "FEMALE",
          "MALE",
          "FEMALE",
          "MALE",
          "MALE",
          "FEMALE",
          "FEMALE",
          "MALE",
          "FEMALE",
          "MALE",
          "MALE",
          "FEMALE",
          "MALE",
          "FEMALE",
          "FEMALE",
          "MALE",
          "FEMALE",
          "MALE",
          "MALE",
          "FEMALE",
          "FEMALE",
          "MALE",
          "FEMALE",
          "MALE",
          "FEMALE",
          "MALE",
          "FEMALE",
          "MALE",
          "MALE",
          "FEMALE",
          "FEMALE",
          "FEMALE",
          "MALE",
          "FEMALE",
          "MALE",
          "MALE",
          "FEMALE",
          "FEMALE",
          "MALE",
          "FEMALE",
          "MALE",
          "MALE",
          "FEMALE",
          "FEMALE",
          "MALE",
          "FEMALE",
          "MALE",
          "FEMALE",
          "MALE",
          "FEMALE",
          "MALE",
          "FEMALE",
          "MALE",
          "FEMALE",
          "MALE",
          "FEMALE",
          "MALE",
          "MALE",
          "FEMALE",
          "FEMALE",
          "MALE",
          "FEMALE",
          "MALE",
          "MALE",
          "FEMALE",
          "MALE",
          "FEMALE",
          "FEMALE",
          "MALE",
          "FEMALE",
          "MALE",
          "FEMALE",
          "MALE",
          "FEMALE",
          "MALE",
          "FEMALE",
          "MALE",
          "FEMALE",
          "MALE",
          "MALE",
          "FEMALE",
          "FEMALE",
          "MALE",
          "FEMALE",
          "MALE",
          "FEMALE",
          "MALE",
          "FEMALE",
          "MALE",
          "FEMALE",
          "MALE",
          "FEMALE",
          "MALE",
          "FEMALE",
          "MALE",
          "FEMALE",
          "MALE",
          "FEMALE",
          "MALE",
          "FEMALE",
          "MALE",
          "MALE",
          "FEMALE",
          "MALE",
          "FEMALE",
          "MALE",
          "MALE",
          "FEMALE",
          "FEMALE",
          "MALE",
          "FEMALE",
          "MALE",
          "FEMALE",
          "MALE",
          "FEMALE",
          "MALE",
          "FEMALE",
          "MALE",
          "FEMALE",
          "MALE",
          "FEMALE",
          "MALE",
          "FEMALE",
          "MALE",
          "FEMALE",
          "MALE",
          "FEMALE",
          "MALE",
          "FEMALE",
          "MALE",
          "MALE",
          "FEMALE",
          "FEMALE",
          "MALE",
          "FEMALE",
          "MALE",
          "FEMALE",
          "MALE",
          "MALE",
          "FEMALE",
          "MALE",
          "FEMALE",
          "MALE",
          "FEMALE",
          "MALE",
          "FEMALE",
          "MALE",
          "FEMALE",
          "MALE",
          "MALE",
          "FEMALE",
          "FEMALE",
          "MALE",
          "FEMALE",
          "MALE"
         ],
         "textinfo": "percent+label",
         "type": "pie",
         "visible": false
        },
        {
         "marker": {
          "color": [
           "#636EFA",
           "#EF553B"
          ]
         },
         "textposition": "outside",
         "texttemplate": "%{y}",
         "type": "bar",
         "visible": false,
         "x": [
          "FEMALE",
          "MALE"
         ],
         "xaxis": "x",
         "y": [
          163,
          161
         ],
         "yaxis": "y"
        }
       ],
       "layout": {
        "height": 1000,
        "showlegend": false,
        "template": {
         "data": {
          "bar": [
           {
            "error_x": {
             "color": "#f2f5fa"
            },
            "error_y": {
             "color": "#f2f5fa"
            },
            "marker": {
             "line": {
              "color": "rgb(17,17,17)",
              "width": 0.5
             },
             "pattern": {
              "fillmode": "overlay",
              "size": 10,
              "solidity": 0.2
             }
            },
            "type": "bar"
           }
          ],
          "barpolar": [
           {
            "marker": {
             "line": {
              "color": "rgb(17,17,17)",
              "width": 0.5
             },
             "pattern": {
              "fillmode": "overlay",
              "size": 10,
              "solidity": 0.2
             }
            },
            "type": "barpolar"
           }
          ],
          "carpet": [
           {
            "aaxis": {
             "endlinecolor": "#A2B1C6",
             "gridcolor": "#506784",
             "linecolor": "#506784",
             "minorgridcolor": "#506784",
             "startlinecolor": "#A2B1C6"
            },
            "baxis": {
             "endlinecolor": "#A2B1C6",
             "gridcolor": "#506784",
             "linecolor": "#506784",
             "minorgridcolor": "#506784",
             "startlinecolor": "#A2B1C6"
            },
            "type": "carpet"
           }
          ],
          "choropleth": [
           {
            "colorbar": {
             "outlinewidth": 0,
             "ticks": ""
            },
            "type": "choropleth"
           }
          ],
          "contour": [
           {
            "colorbar": {
             "outlinewidth": 0,
             "ticks": ""
            },
            "colorscale": [
             [
              0,
              "#0d0887"
             ],
             [
              0.1111111111111111,
              "#46039f"
             ],
             [
              0.2222222222222222,
              "#7201a8"
             ],
             [
              0.3333333333333333,
              "#9c179e"
             ],
             [
              0.4444444444444444,
              "#bd3786"
             ],
             [
              0.5555555555555556,
              "#d8576b"
             ],
             [
              0.6666666666666666,
              "#ed7953"
             ],
             [
              0.7777777777777778,
              "#fb9f3a"
             ],
             [
              0.8888888888888888,
              "#fdca26"
             ],
             [
              1,
              "#f0f921"
             ]
            ],
            "type": "contour"
           }
          ],
          "contourcarpet": [
           {
            "colorbar": {
             "outlinewidth": 0,
             "ticks": ""
            },
            "type": "contourcarpet"
           }
          ],
          "heatmap": [
           {
            "colorbar": {
             "outlinewidth": 0,
             "ticks": ""
            },
            "colorscale": [
             [
              0,
              "#0d0887"
             ],
             [
              0.1111111111111111,
              "#46039f"
             ],
             [
              0.2222222222222222,
              "#7201a8"
             ],
             [
              0.3333333333333333,
              "#9c179e"
             ],
             [
              0.4444444444444444,
              "#bd3786"
             ],
             [
              0.5555555555555556,
              "#d8576b"
             ],
             [
              0.6666666666666666,
              "#ed7953"
             ],
             [
              0.7777777777777778,
              "#fb9f3a"
             ],
             [
              0.8888888888888888,
              "#fdca26"
             ],
             [
              1,
              "#f0f921"
             ]
            ],
            "type": "heatmap"
           }
          ],
          "heatmapgl": [
           {
            "colorbar": {
             "outlinewidth": 0,
             "ticks": ""
            },
            "colorscale": [
             [
              0,
              "#0d0887"
             ],
             [
              0.1111111111111111,
              "#46039f"
             ],
             [
              0.2222222222222222,
              "#7201a8"
             ],
             [
              0.3333333333333333,
              "#9c179e"
             ],
             [
              0.4444444444444444,
              "#bd3786"
             ],
             [
              0.5555555555555556,
              "#d8576b"
             ],
             [
              0.6666666666666666,
              "#ed7953"
             ],
             [
              0.7777777777777778,
              "#fb9f3a"
             ],
             [
              0.8888888888888888,
              "#fdca26"
             ],
             [
              1,
              "#f0f921"
             ]
            ],
            "type": "heatmapgl"
           }
          ],
          "histogram": [
           {
            "marker": {
             "pattern": {
              "fillmode": "overlay",
              "size": 10,
              "solidity": 0.2
             }
            },
            "type": "histogram"
           }
          ],
          "histogram2d": [
           {
            "colorbar": {
             "outlinewidth": 0,
             "ticks": ""
            },
            "colorscale": [
             [
              0,
              "#0d0887"
             ],
             [
              0.1111111111111111,
              "#46039f"
             ],
             [
              0.2222222222222222,
              "#7201a8"
             ],
             [
              0.3333333333333333,
              "#9c179e"
             ],
             [
              0.4444444444444444,
              "#bd3786"
             ],
             [
              0.5555555555555556,
              "#d8576b"
             ],
             [
              0.6666666666666666,
              "#ed7953"
             ],
             [
              0.7777777777777778,
              "#fb9f3a"
             ],
             [
              0.8888888888888888,
              "#fdca26"
             ],
             [
              1,
              "#f0f921"
             ]
            ],
            "type": "histogram2d"
           }
          ],
          "histogram2dcontour": [
           {
            "colorbar": {
             "outlinewidth": 0,
             "ticks": ""
            },
            "colorscale": [
             [
              0,
              "#0d0887"
             ],
             [
              0.1111111111111111,
              "#46039f"
             ],
             [
              0.2222222222222222,
              "#7201a8"
             ],
             [
              0.3333333333333333,
              "#9c179e"
             ],
             [
              0.4444444444444444,
              "#bd3786"
             ],
             [
              0.5555555555555556,
              "#d8576b"
             ],
             [
              0.6666666666666666,
              "#ed7953"
             ],
             [
              0.7777777777777778,
              "#fb9f3a"
             ],
             [
              0.8888888888888888,
              "#fdca26"
             ],
             [
              1,
              "#f0f921"
             ]
            ],
            "type": "histogram2dcontour"
           }
          ],
          "mesh3d": [
           {
            "colorbar": {
             "outlinewidth": 0,
             "ticks": ""
            },
            "type": "mesh3d"
           }
          ],
          "parcoords": [
           {
            "line": {
             "colorbar": {
              "outlinewidth": 0,
              "ticks": ""
             }
            },
            "type": "parcoords"
           }
          ],
          "pie": [
           {
            "automargin": true,
            "type": "pie"
           }
          ],
          "scatter": [
           {
            "marker": {
             "line": {
              "color": "#283442"
             }
            },
            "type": "scatter"
           }
          ],
          "scatter3d": [
           {
            "line": {
             "colorbar": {
              "outlinewidth": 0,
              "ticks": ""
             }
            },
            "marker": {
             "colorbar": {
              "outlinewidth": 0,
              "ticks": ""
             }
            },
            "type": "scatter3d"
           }
          ],
          "scattercarpet": [
           {
            "marker": {
             "colorbar": {
              "outlinewidth": 0,
              "ticks": ""
             }
            },
            "type": "scattercarpet"
           }
          ],
          "scattergeo": [
           {
            "marker": {
             "colorbar": {
              "outlinewidth": 0,
              "ticks": ""
             }
            },
            "type": "scattergeo"
           }
          ],
          "scattergl": [
           {
            "marker": {
             "line": {
              "color": "#283442"
             }
            },
            "type": "scattergl"
           }
          ],
          "scattermapbox": [
           {
            "marker": {
             "colorbar": {
              "outlinewidth": 0,
              "ticks": ""
             }
            },
            "type": "scattermapbox"
           }
          ],
          "scatterpolar": [
           {
            "marker": {
             "colorbar": {
              "outlinewidth": 0,
              "ticks": ""
             }
            },
            "type": "scatterpolar"
           }
          ],
          "scatterpolargl": [
           {
            "marker": {
             "colorbar": {
              "outlinewidth": 0,
              "ticks": ""
             }
            },
            "type": "scatterpolargl"
           }
          ],
          "scatterternary": [
           {
            "marker": {
             "colorbar": {
              "outlinewidth": 0,
              "ticks": ""
             }
            },
            "type": "scatterternary"
           }
          ],
          "surface": [
           {
            "colorbar": {
             "outlinewidth": 0,
             "ticks": ""
            },
            "colorscale": [
             [
              0,
              "#0d0887"
             ],
             [
              0.1111111111111111,
              "#46039f"
             ],
             [
              0.2222222222222222,
              "#7201a8"
             ],
             [
              0.3333333333333333,
              "#9c179e"
             ],
             [
              0.4444444444444444,
              "#bd3786"
             ],
             [
              0.5555555555555556,
              "#d8576b"
             ],
             [
              0.6666666666666666,
              "#ed7953"
             ],
             [
              0.7777777777777778,
              "#fb9f3a"
             ],
             [
              0.8888888888888888,
              "#fdca26"
             ],
             [
              1,
              "#f0f921"
             ]
            ],
            "type": "surface"
           }
          ],
          "table": [
           {
            "cells": {
             "fill": {
              "color": "#506784"
             },
             "line": {
              "color": "rgb(17,17,17)"
             }
            },
            "header": {
             "fill": {
              "color": "#2a3f5f"
             },
             "line": {
              "color": "rgb(17,17,17)"
             }
            },
            "type": "table"
           }
          ]
         },
         "layout": {
          "annotationdefaults": {
           "arrowcolor": "#f2f5fa",
           "arrowhead": 0,
           "arrowwidth": 1
          },
          "autotypenumbers": "strict",
          "coloraxis": {
           "colorbar": {
            "outlinewidth": 0,
            "ticks": ""
           }
          },
          "colorscale": {
           "diverging": [
            [
             0,
             "#8e0152"
            ],
            [
             0.1,
             "#c51b7d"
            ],
            [
             0.2,
             "#de77ae"
            ],
            [
             0.3,
             "#f1b6da"
            ],
            [
             0.4,
             "#fde0ef"
            ],
            [
             0.5,
             "#f7f7f7"
            ],
            [
             0.6,
             "#e6f5d0"
            ],
            [
             0.7,
             "#b8e186"
            ],
            [
             0.8,
             "#7fbc41"
            ],
            [
             0.9,
             "#4d9221"
            ],
            [
             1,
             "#276419"
            ]
           ],
           "sequential": [
            [
             0,
             "#0d0887"
            ],
            [
             0.1111111111111111,
             "#46039f"
            ],
            [
             0.2222222222222222,
             "#7201a8"
            ],
            [
             0.3333333333333333,
             "#9c179e"
            ],
            [
             0.4444444444444444,
             "#bd3786"
            ],
            [
             0.5555555555555556,
             "#d8576b"
            ],
            [
             0.6666666666666666,
             "#ed7953"
            ],
            [
             0.7777777777777778,
             "#fb9f3a"
            ],
            [
             0.8888888888888888,
             "#fdca26"
            ],
            [
             1,
             "#f0f921"
            ]
           ],
           "sequentialminus": [
            [
             0,
             "#0d0887"
            ],
            [
             0.1111111111111111,
             "#46039f"
            ],
            [
             0.2222222222222222,
             "#7201a8"
            ],
            [
             0.3333333333333333,
             "#9c179e"
            ],
            [
             0.4444444444444444,
             "#bd3786"
            ],
            [
             0.5555555555555556,
             "#d8576b"
            ],
            [
             0.6666666666666666,
             "#ed7953"
            ],
            [
             0.7777777777777778,
             "#fb9f3a"
            ],
            [
             0.8888888888888888,
             "#fdca26"
            ],
            [
             1,
             "#f0f921"
            ]
           ]
          },
          "colorway": [
           "#636efa",
           "#EF553B",
           "#00cc96",
           "#ab63fa",
           "#FFA15A",
           "#19d3f3",
           "#FF6692",
           "#B6E880",
           "#FF97FF",
           "#FECB52"
          ],
          "font": {
           "color": "#f2f5fa",
           "family": "Fira Code",
           "size": 20
          },
          "geo": {
           "bgcolor": "rgb(17,17,17)",
           "lakecolor": "rgb(17,17,17)",
           "landcolor": "rgb(17,17,17)",
           "showlakes": true,
           "showland": true,
           "subunitcolor": "#506784"
          },
          "hoverlabel": {
           "align": "left"
          },
          "hovermode": "closest",
          "mapbox": {
           "style": "dark"
          },
          "paper_bgcolor": "rgb(17,17,17)",
          "plot_bgcolor": "rgb(17,17,17)",
          "polar": {
           "angularaxis": {
            "gridcolor": "#506784",
            "linecolor": "#506784",
            "ticks": ""
           },
           "bgcolor": "rgb(17,17,17)",
           "radialaxis": {
            "gridcolor": "#506784",
            "linecolor": "#506784",
            "ticks": ""
           }
          },
          "scene": {
           "xaxis": {
            "backgroundcolor": "rgb(17,17,17)",
            "gridcolor": "#506784",
            "gridwidth": 2,
            "linecolor": "#506784",
            "showbackground": true,
            "ticks": "",
            "zerolinecolor": "#C8D4E3"
           },
           "yaxis": {
            "backgroundcolor": "rgb(17,17,17)",
            "gridcolor": "#506784",
            "gridwidth": 2,
            "linecolor": "#506784",
            "showbackground": true,
            "ticks": "",
            "zerolinecolor": "#C8D4E3"
           },
           "zaxis": {
            "backgroundcolor": "rgb(17,17,17)",
            "gridcolor": "#506784",
            "gridwidth": 2,
            "linecolor": "#506784",
            "showbackground": true,
            "ticks": "",
            "zerolinecolor": "#C8D4E3"
           }
          },
          "shapedefaults": {
           "line": {
            "color": "#f2f5fa"
           }
          },
          "sliderdefaults": {
           "bgcolor": "#C8D4E3",
           "bordercolor": "rgb(17,17,17)",
           "borderwidth": 1,
           "tickwidth": 0
          },
          "ternary": {
           "aaxis": {
            "gridcolor": "#506784",
            "linecolor": "#506784",
            "ticks": ""
           },
           "baxis": {
            "gridcolor": "#506784",
            "linecolor": "#506784",
            "ticks": ""
           },
           "bgcolor": "rgb(17,17,17)",
           "caxis": {
            "gridcolor": "#506784",
            "linecolor": "#506784",
            "ticks": ""
           }
          },
          "title": {
           "x": 0.05
          },
          "updatemenudefaults": {
           "bgcolor": "#506784",
           "borderwidth": 0
          },
          "xaxis": {
           "automargin": true,
           "gridcolor": "#283442",
           "linecolor": "#506784",
           "ticks": "",
           "title": {
            "standoff": 15
           },
           "zerolinecolor": "#283442",
           "zerolinewidth": 2
          },
          "yaxis": {
           "automargin": true,
           "gridcolor": "#283442",
           "linecolor": "#506784",
           "ticks": "",
           "title": {
            "standoff": 15
           },
           "zerolinecolor": "#283442",
           "zerolinewidth": 2
          }
         }
        },
        "updatemenus": [
         {
          "buttons": [
           {
            "args": [
             {
              "visible": [
               true,
               true,
               false,
               false,
               false,
               false,
               false,
               false,
               false,
               false
              ]
             }
            ],
            "label": "Study",
            "method": "restyle",
            "visible": true
           },
           {
            "args": [
             {
              "visible": [
               false,
               false,
               true,
               true,
               false,
               false,
               false,
               false,
               false,
               false
              ]
             }
            ],
            "label": "Species",
            "method": "restyle",
            "visible": true
           },
           {
            "args": [
             {
              "visible": [
               false,
               false,
               false,
               false,
               true,
               true,
               false,
               false,
               false,
               false
              ]
             }
            ],
            "label": "Island",
            "method": "restyle",
            "visible": true
           },
           {
            "args": [
             {
              "visible": [
               false,
               false,
               false,
               false,
               false,
               false,
               true,
               true,
               false,
               false
              ]
             }
            ],
            "label": "Clutch",
            "method": "restyle",
            "visible": true
           },
           {
            "args": [
             {
              "visible": [
               false,
               false,
               false,
               false,
               false,
               false,
               false,
               false,
               true,
               true
              ]
             }
            ],
            "label": "Sex",
            "method": "restyle",
            "visible": true
           }
          ],
          "direction": "left",
          "font": {
           "color": "red",
           "size": 40
          },
          "showactive": true,
          "type": "buttons",
          "x": 0,
          "xanchor": "left",
          "y": 1.02,
          "yanchor": "bottom"
         }
        ],
        "xaxis": {
         "anchor": "y",
         "domain": [
          0,
          0.45
         ]
        },
        "yaxis": {
         "anchor": "x",
         "domain": [
          0,
          1
         ]
        }
       }
      }
     },
     "metadata": {},
     "output_type": "display_data"
    }
   ],
   "source": [
    "colors_list = px.colors.qualitative.Plotly\n",
    "fig = make_subplots(cols=2,specs=[[{},{'type':'domain'}]])\n",
    "fig.add_trace(go.Pie(labels=temp_na[cat_cols[0]],visible=True,textinfo=\"percent+label\"),row=1,col=2)\n",
    "fig.add_trace(go.Bar(x=temp_na[cat_cols[0]].value_counts().index,y=temp_na[cat_cols[0]].value_counts(),visible=True,texttemplate=\"%{y}\",textposition=\"outside\",marker=dict(color=colors_list[:temp_na[cat_cols[0]].nunique()])),row=1,col=1)\n",
    "for col in cat_cols[1:]:\n",
    "    fig.add_trace(go.Pie(labels=temp_na[col],visible=False,textinfo=\"percent+label\"),row=1,col=2)\n",
    "    fig.add_trace(go.Bar(y=temp_na[col].value_counts(),x=temp_na[col].value_counts().index,visible=False,texttemplate=\"%{y}\",textposition=\"outside\",marker=dict(color=colors_list[:temp_na[col].nunique()])),row=1,col=1)\n",
    "\n",
    "col_names_dict=dict(study=\"Study\",species=\"Species\",island=\"Island\",clutch=\"Clutch\",sex=\"Sex\")\n",
    "buttons = []\n",
    "for i,col in enumerate(cat_cols):\n",
    "    visible = [False]*10\n",
    "    visible[i*2] = True\n",
    "    visible[i*2+1] = True\n",
    "    d = dict(method=\"restyle\",label=col_names_dict[col],visible=True,args=[{\"visible\":visible}])\n",
    "    buttons.append(d)\n",
    "\n",
    "buttons\n",
    "updatemenus = [dict(\n",
    "    type=\"buttons\",\n",
    "    direction=\"left\",\n",
    "    buttons=buttons,\n",
    "    showactive=True,\n",
    "    x = 0,\n",
    "    y = 1.02,\n",
    "    xanchor=\"left\",\n",
    "    yanchor=\"bottom\",\n",
    "    font=dict(size=40,color=\"red\")\n",
    ")]\n",
    "fig.update_layout(updatemenus=updatemenus,height=1000,showlegend=False)\n",
    "fig.show()"
   ]
  },
  {
   "cell_type": "markdown",
   "metadata": {},
   "source": [
    "<font face=\"Fira Code\">\n",
    "<h1>\n",
    "Bi-Variate Analysis"
   ]
  },
  {
   "cell_type": "markdown",
   "metadata": {},
   "source": [
    "<font size = 5 face = \"Fira Code\">\n",
    "Main columns of interest for continuous are Isotopes and physical attributes<br>\n",
    "Main columns of interest for categorical are species,sex,island"
   ]
  },
  {
   "cell_type": "code",
   "execution_count": 75,
   "metadata": {},
   "outputs": [
    {
     "data": {
      "application/vnd.plotly.v1+json": {
       "config": {
        "plotlyServerURL": "https://plot.ly"
       },
       "data": [
        {
         "coloraxis": "coloraxis",
         "hovertemplate": "x: %{x}<br>y: %{y}<br>color: %{z}<extra></extra>",
         "name": "0",
         "type": "heatmap",
         "x": [
          "culmenL",
          "culmenD",
          "flipperL",
          "bmass",
          "delta_15n",
          "delta_13c",
          "N",
          "A",
          "PAL0708",
          "PAL0809",
          "PAL0910",
          "Adelie",
          "Chinstrap",
          "Gentoo",
          "Biscoe",
          "Dream",
          "Torgersen",
          "No",
          "Yes",
          "FEMALE",
          "MALE"
         ],
         "xaxis": "x",
         "y": [
          "culmenL",
          "culmenD",
          "flipperL",
          "bmass",
          "delta_15n",
          "delta_13c",
          "N",
          "A",
          "PAL0708",
          "PAL0809",
          "PAL0910",
          "Adelie",
          "Chinstrap",
          "Gentoo",
          "Biscoe",
          "Dream",
          "Torgersen",
          "No",
          "Yes",
          "FEMALE",
          "MALE"
         ],
         "yaxis": "y",
         "z": [
          [
           0,
           0,
           0.6652307777908449,
           0,
           0,
           0,
           0,
           0,
           0,
           0,
           0,
           -0.8364862875523945,
           0,
           0,
           0,
           0,
           0,
           0,
           0,
           0,
           0
          ],
          [
           0,
           0,
           0,
           0,
           0.6072846837515876,
           0,
           0,
           0,
           0,
           0,
           0,
           0,
           0,
           -0.8114788470315565,
           -0.608521053450929,
           0,
           0,
           0,
           0,
           0,
           0
          ],
          [
           0.6652307777908449,
           0,
           0,
           0.8479517837697735,
           0,
           0,
           0,
           0,
           0,
           0,
           0,
           -0.6806201274278075,
           0,
           0.8258740349866499,
           0,
           0,
           0,
           0,
           0,
           0,
           0
          ],
          [
           0,
           0,
           0.8479517837697735,
           0,
           0,
           0,
           0,
           0,
           0,
           0,
           0,
           0,
           0,
           0.8025686439546982,
           0.6120973652984992,
           0,
           0,
           0,
           0,
           0,
           0
          ],
          [
           0,
           0.6072846837515876,
           0,
           0,
           0,
           0,
           0,
           0,
           0,
           0,
           0,
           0,
           0,
           -0.7022883007505735,
           -0.6218358649055856,
           0.6048231439359866,
           0,
           0,
           0,
           0,
           0
          ],
          [
           0,
           0,
           0,
           0,
           0,
           0,
           0,
           0,
           0,
           0,
           0,
           0,
           0.6752541465732383,
           0,
           0,
           0,
           0,
           0,
           0,
           0,
           0
          ],
          [
           0,
           0,
           0,
           0,
           0,
           0,
           0,
           0,
           0,
           0,
           0,
           0,
           0.6076773767679985,
           0,
           0,
           0.6250004801788676,
           0,
           0,
           0,
           0,
           0
          ],
          [
           0,
           0,
           0,
           0,
           0,
           0,
           0,
           0,
           0,
           0,
           0,
           0,
           0,
           0,
           0,
           0,
           0,
           0,
           0,
           -0.7284609229127768,
           0.7284609229127768
          ],
          [
           0,
           0,
           0,
           0,
           0,
           0,
           0,
           0,
           0,
           0,
           0,
           0,
           0,
           0,
           0,
           0,
           0,
           0,
           0,
           0,
           0
          ],
          [
           0,
           0,
           0,
           0,
           0,
           0,
           0,
           0,
           0,
           0,
           0,
           0,
           0,
           0,
           0,
           0,
           0,
           0,
           0,
           0,
           0
          ],
          [
           0,
           0,
           0,
           0,
           0,
           0,
           0,
           0,
           0,
           0,
           0,
           0,
           0,
           0,
           0,
           0,
           0,
           0,
           0,
           0,
           0
          ],
          [
           -0.8364862875523945,
           0,
           -0.6806201274278075,
           0,
           0,
           0,
           0,
           0,
           0,
           0,
           0,
           0,
           0,
           -0.6560378994626428,
           0,
           0,
           0,
           0,
           0,
           0,
           0
          ],
          [
           0,
           0,
           0,
           0,
           0,
           0.6752541465732383,
           0.6076773767679985,
           0,
           0,
           0,
           0,
           0,
           0,
           0,
           0,
           0.6701534990760252,
           0,
           0,
           0,
           0,
           0
          ],
          [
           0,
           -0.8114788470315565,
           0.8258740349866499,
           0.8025686439546982,
           -0.7022883007505735,
           0,
           0,
           0,
           0,
           0,
           0,
           -0.6560378994626428,
           0,
           0,
           0.7568457795222105,
           0,
           0,
           0,
           0,
           0,
           0
          ],
          [
           0,
           -0.608521053450929,
           0,
           0.6120973652984992,
           -0.6218358649055856,
           0,
           0,
           0,
           0,
           0,
           0,
           0,
           0,
           0.7568457795222105,
           0,
           -0.7618975028690202,
           0,
           0,
           0,
           0,
           0
          ],
          [
           0,
           0,
           0,
           0,
           0.6048231439359866,
           0,
           0.6250004801788676,
           0,
           0,
           0,
           0,
           0,
           0.6701534990760252,
           0,
           -0.7618975028690202,
           0,
           0,
           0,
           0,
           0,
           0
          ],
          [
           0,
           0,
           0,
           0,
           0,
           0,
           0,
           0,
           0,
           0,
           0,
           0,
           0,
           0,
           0,
           0,
           0,
           0,
           0,
           0,
           0
          ],
          [
           0,
           0,
           0,
           0,
           0,
           0,
           0,
           0,
           0,
           0,
           0,
           0,
           0,
           0,
           0,
           0,
           0,
           0,
           -1,
           0,
           0
          ],
          [
           0,
           0,
           0,
           0,
           0,
           0,
           0,
           0,
           0,
           0,
           0,
           0,
           0,
           0,
           0,
           0,
           0,
           -1,
           0,
           0,
           0
          ],
          [
           0,
           0,
           0,
           0,
           0,
           0,
           0,
           -0.7284609229127768,
           0,
           0,
           0,
           0,
           0,
           0,
           0,
           0,
           0,
           0,
           0,
           0,
           -1
          ],
          [
           0,
           0,
           0,
           0,
           0,
           0,
           0,
           0.7284609229127768,
           0,
           0,
           0,
           0,
           0,
           0,
           0,
           0,
           0,
           0,
           0,
           -1,
           0
          ]
         ]
        }
       ],
       "layout": {
        "annotations": [
         {
          "font": {
           "color": "white"
          },
          "showarrow": false,
          "text": "categorical quadrant",
          "x": 1.35,
          "xref": "x domain",
          "y": 0.3,
          "yref": "y domain"
         },
         {
          "font": {
           "color": "white"
          },
          "showarrow": false,
          "text": "continuous quadrant",
          "x": 1.34,
          "xref": "x domain",
          "y": 0.9,
          "yref": "y domain"
         }
        ],
        "coloraxis": {
         "colorscale": [
          [
           0,
           "rgb(247,252,240)"
          ],
          [
           0.125,
           "rgb(224,243,219)"
          ],
          [
           0.25,
           "rgb(204,235,197)"
          ],
          [
           0.375,
           "rgb(168,221,181)"
          ],
          [
           0.5,
           "rgb(123,204,196)"
          ],
          [
           0.625,
           "rgb(78,179,211)"
          ],
          [
           0.75,
           "rgb(43,140,190)"
          ],
          [
           0.875,
           "rgb(8,104,172)"
          ],
          [
           1,
           "rgb(8,64,129)"
          ]
         ]
        },
        "height": 1000,
        "shapes": [
         {
          "line": {
           "color": "rgba(255,255,255,0.5)",
           "dash": "dash"
          },
          "type": "line",
          "x0": 0,
          "x1": 1,
          "xref": "x domain",
          "y0": 5.5,
          "y1": 5.5,
          "yref": "y"
         },
         {
          "line": {
           "color": "rgba(255,255,255,0.5)",
           "dash": "dash"
          },
          "type": "line",
          "x0": 5.5,
          "x1": 5.5,
          "xref": "x",
          "y0": 0,
          "y1": 1,
          "yref": "y domain"
         }
        ],
        "template": {
         "data": {
          "bar": [
           {
            "error_x": {
             "color": "#f2f5fa"
            },
            "error_y": {
             "color": "#f2f5fa"
            },
            "marker": {
             "line": {
              "color": "rgb(17,17,17)",
              "width": 0.5
             },
             "pattern": {
              "fillmode": "overlay",
              "size": 10,
              "solidity": 0.2
             }
            },
            "type": "bar"
           }
          ],
          "barpolar": [
           {
            "marker": {
             "line": {
              "color": "rgb(17,17,17)",
              "width": 0.5
             },
             "pattern": {
              "fillmode": "overlay",
              "size": 10,
              "solidity": 0.2
             }
            },
            "type": "barpolar"
           }
          ],
          "carpet": [
           {
            "aaxis": {
             "endlinecolor": "#A2B1C6",
             "gridcolor": "#506784",
             "linecolor": "#506784",
             "minorgridcolor": "#506784",
             "startlinecolor": "#A2B1C6"
            },
            "baxis": {
             "endlinecolor": "#A2B1C6",
             "gridcolor": "#506784",
             "linecolor": "#506784",
             "minorgridcolor": "#506784",
             "startlinecolor": "#A2B1C6"
            },
            "type": "carpet"
           }
          ],
          "choropleth": [
           {
            "colorbar": {
             "outlinewidth": 0,
             "ticks": ""
            },
            "type": "choropleth"
           }
          ],
          "contour": [
           {
            "colorbar": {
             "outlinewidth": 0,
             "ticks": ""
            },
            "colorscale": [
             [
              0,
              "#0d0887"
             ],
             [
              0.1111111111111111,
              "#46039f"
             ],
             [
              0.2222222222222222,
              "#7201a8"
             ],
             [
              0.3333333333333333,
              "#9c179e"
             ],
             [
              0.4444444444444444,
              "#bd3786"
             ],
             [
              0.5555555555555556,
              "#d8576b"
             ],
             [
              0.6666666666666666,
              "#ed7953"
             ],
             [
              0.7777777777777778,
              "#fb9f3a"
             ],
             [
              0.8888888888888888,
              "#fdca26"
             ],
             [
              1,
              "#f0f921"
             ]
            ],
            "type": "contour"
           }
          ],
          "contourcarpet": [
           {
            "colorbar": {
             "outlinewidth": 0,
             "ticks": ""
            },
            "type": "contourcarpet"
           }
          ],
          "heatmap": [
           {
            "colorbar": {
             "outlinewidth": 0,
             "ticks": ""
            },
            "colorscale": [
             [
              0,
              "#0d0887"
             ],
             [
              0.1111111111111111,
              "#46039f"
             ],
             [
              0.2222222222222222,
              "#7201a8"
             ],
             [
              0.3333333333333333,
              "#9c179e"
             ],
             [
              0.4444444444444444,
              "#bd3786"
             ],
             [
              0.5555555555555556,
              "#d8576b"
             ],
             [
              0.6666666666666666,
              "#ed7953"
             ],
             [
              0.7777777777777778,
              "#fb9f3a"
             ],
             [
              0.8888888888888888,
              "#fdca26"
             ],
             [
              1,
              "#f0f921"
             ]
            ],
            "type": "heatmap"
           }
          ],
          "heatmapgl": [
           {
            "colorbar": {
             "outlinewidth": 0,
             "ticks": ""
            },
            "colorscale": [
             [
              0,
              "#0d0887"
             ],
             [
              0.1111111111111111,
              "#46039f"
             ],
             [
              0.2222222222222222,
              "#7201a8"
             ],
             [
              0.3333333333333333,
              "#9c179e"
             ],
             [
              0.4444444444444444,
              "#bd3786"
             ],
             [
              0.5555555555555556,
              "#d8576b"
             ],
             [
              0.6666666666666666,
              "#ed7953"
             ],
             [
              0.7777777777777778,
              "#fb9f3a"
             ],
             [
              0.8888888888888888,
              "#fdca26"
             ],
             [
              1,
              "#f0f921"
             ]
            ],
            "type": "heatmapgl"
           }
          ],
          "histogram": [
           {
            "marker": {
             "pattern": {
              "fillmode": "overlay",
              "size": 10,
              "solidity": 0.2
             }
            },
            "type": "histogram"
           }
          ],
          "histogram2d": [
           {
            "colorbar": {
             "outlinewidth": 0,
             "ticks": ""
            },
            "colorscale": [
             [
              0,
              "#0d0887"
             ],
             [
              0.1111111111111111,
              "#46039f"
             ],
             [
              0.2222222222222222,
              "#7201a8"
             ],
             [
              0.3333333333333333,
              "#9c179e"
             ],
             [
              0.4444444444444444,
              "#bd3786"
             ],
             [
              0.5555555555555556,
              "#d8576b"
             ],
             [
              0.6666666666666666,
              "#ed7953"
             ],
             [
              0.7777777777777778,
              "#fb9f3a"
             ],
             [
              0.8888888888888888,
              "#fdca26"
             ],
             [
              1,
              "#f0f921"
             ]
            ],
            "type": "histogram2d"
           }
          ],
          "histogram2dcontour": [
           {
            "colorbar": {
             "outlinewidth": 0,
             "ticks": ""
            },
            "colorscale": [
             [
              0,
              "#0d0887"
             ],
             [
              0.1111111111111111,
              "#46039f"
             ],
             [
              0.2222222222222222,
              "#7201a8"
             ],
             [
              0.3333333333333333,
              "#9c179e"
             ],
             [
              0.4444444444444444,
              "#bd3786"
             ],
             [
              0.5555555555555556,
              "#d8576b"
             ],
             [
              0.6666666666666666,
              "#ed7953"
             ],
             [
              0.7777777777777778,
              "#fb9f3a"
             ],
             [
              0.8888888888888888,
              "#fdca26"
             ],
             [
              1,
              "#f0f921"
             ]
            ],
            "type": "histogram2dcontour"
           }
          ],
          "mesh3d": [
           {
            "colorbar": {
             "outlinewidth": 0,
             "ticks": ""
            },
            "type": "mesh3d"
           }
          ],
          "parcoords": [
           {
            "line": {
             "colorbar": {
              "outlinewidth": 0,
              "ticks": ""
             }
            },
            "type": "parcoords"
           }
          ],
          "pie": [
           {
            "automargin": true,
            "type": "pie"
           }
          ],
          "scatter": [
           {
            "marker": {
             "line": {
              "color": "#283442"
             }
            },
            "type": "scatter"
           }
          ],
          "scatter3d": [
           {
            "line": {
             "colorbar": {
              "outlinewidth": 0,
              "ticks": ""
             }
            },
            "marker": {
             "colorbar": {
              "outlinewidth": 0,
              "ticks": ""
             }
            },
            "type": "scatter3d"
           }
          ],
          "scattercarpet": [
           {
            "marker": {
             "colorbar": {
              "outlinewidth": 0,
              "ticks": ""
             }
            },
            "type": "scattercarpet"
           }
          ],
          "scattergeo": [
           {
            "marker": {
             "colorbar": {
              "outlinewidth": 0,
              "ticks": ""
             }
            },
            "type": "scattergeo"
           }
          ],
          "scattergl": [
           {
            "marker": {
             "line": {
              "color": "#283442"
             }
            },
            "type": "scattergl"
           }
          ],
          "scattermapbox": [
           {
            "marker": {
             "colorbar": {
              "outlinewidth": 0,
              "ticks": ""
             }
            },
            "type": "scattermapbox"
           }
          ],
          "scatterpolar": [
           {
            "marker": {
             "colorbar": {
              "outlinewidth": 0,
              "ticks": ""
             }
            },
            "type": "scatterpolar"
           }
          ],
          "scatterpolargl": [
           {
            "marker": {
             "colorbar": {
              "outlinewidth": 0,
              "ticks": ""
             }
            },
            "type": "scatterpolargl"
           }
          ],
          "scatterternary": [
           {
            "marker": {
             "colorbar": {
              "outlinewidth": 0,
              "ticks": ""
             }
            },
            "type": "scatterternary"
           }
          ],
          "surface": [
           {
            "colorbar": {
             "outlinewidth": 0,
             "ticks": ""
            },
            "colorscale": [
             [
              0,
              "#0d0887"
             ],
             [
              0.1111111111111111,
              "#46039f"
             ],
             [
              0.2222222222222222,
              "#7201a8"
             ],
             [
              0.3333333333333333,
              "#9c179e"
             ],
             [
              0.4444444444444444,
              "#bd3786"
             ],
             [
              0.5555555555555556,
              "#d8576b"
             ],
             [
              0.6666666666666666,
              "#ed7953"
             ],
             [
              0.7777777777777778,
              "#fb9f3a"
             ],
             [
              0.8888888888888888,
              "#fdca26"
             ],
             [
              1,
              "#f0f921"
             ]
            ],
            "type": "surface"
           }
          ],
          "table": [
           {
            "cells": {
             "fill": {
              "color": "#506784"
             },
             "line": {
              "color": "rgb(17,17,17)"
             }
            },
            "header": {
             "fill": {
              "color": "#2a3f5f"
             },
             "line": {
              "color": "rgb(17,17,17)"
             }
            },
            "type": "table"
           }
          ]
         },
         "layout": {
          "annotationdefaults": {
           "arrowcolor": "#f2f5fa",
           "arrowhead": 0,
           "arrowwidth": 1
          },
          "autotypenumbers": "strict",
          "coloraxis": {
           "colorbar": {
            "outlinewidth": 0,
            "ticks": ""
           }
          },
          "colorscale": {
           "diverging": [
            [
             0,
             "#8e0152"
            ],
            [
             0.1,
             "#c51b7d"
            ],
            [
             0.2,
             "#de77ae"
            ],
            [
             0.3,
             "#f1b6da"
            ],
            [
             0.4,
             "#fde0ef"
            ],
            [
             0.5,
             "#f7f7f7"
            ],
            [
             0.6,
             "#e6f5d0"
            ],
            [
             0.7,
             "#b8e186"
            ],
            [
             0.8,
             "#7fbc41"
            ],
            [
             0.9,
             "#4d9221"
            ],
            [
             1,
             "#276419"
            ]
           ],
           "sequential": [
            [
             0,
             "#0d0887"
            ],
            [
             0.1111111111111111,
             "#46039f"
            ],
            [
             0.2222222222222222,
             "#7201a8"
            ],
            [
             0.3333333333333333,
             "#9c179e"
            ],
            [
             0.4444444444444444,
             "#bd3786"
            ],
            [
             0.5555555555555556,
             "#d8576b"
            ],
            [
             0.6666666666666666,
             "#ed7953"
            ],
            [
             0.7777777777777778,
             "#fb9f3a"
            ],
            [
             0.8888888888888888,
             "#fdca26"
            ],
            [
             1,
             "#f0f921"
            ]
           ],
           "sequentialminus": [
            [
             0,
             "#0d0887"
            ],
            [
             0.1111111111111111,
             "#46039f"
            ],
            [
             0.2222222222222222,
             "#7201a8"
            ],
            [
             0.3333333333333333,
             "#9c179e"
            ],
            [
             0.4444444444444444,
             "#bd3786"
            ],
            [
             0.5555555555555556,
             "#d8576b"
            ],
            [
             0.6666666666666666,
             "#ed7953"
            ],
            [
             0.7777777777777778,
             "#fb9f3a"
            ],
            [
             0.8888888888888888,
             "#fdca26"
            ],
            [
             1,
             "#f0f921"
            ]
           ]
          },
          "colorway": [
           "#636efa",
           "#EF553B",
           "#00cc96",
           "#ab63fa",
           "#FFA15A",
           "#19d3f3",
           "#FF6692",
           "#B6E880",
           "#FF97FF",
           "#FECB52"
          ],
          "font": {
           "color": "#f2f5fa",
           "family": "Fira Code",
           "size": 20
          },
          "geo": {
           "bgcolor": "rgb(17,17,17)",
           "lakecolor": "rgb(17,17,17)",
           "landcolor": "rgb(17,17,17)",
           "showlakes": true,
           "showland": true,
           "subunitcolor": "#506784"
          },
          "hoverlabel": {
           "align": "left"
          },
          "hovermode": "closest",
          "mapbox": {
           "style": "dark"
          },
          "paper_bgcolor": "rgb(17,17,17)",
          "plot_bgcolor": "rgb(17,17,17)",
          "polar": {
           "angularaxis": {
            "gridcolor": "#506784",
            "linecolor": "#506784",
            "ticks": ""
           },
           "bgcolor": "rgb(17,17,17)",
           "radialaxis": {
            "gridcolor": "#506784",
            "linecolor": "#506784",
            "ticks": ""
           }
          },
          "scene": {
           "xaxis": {
            "backgroundcolor": "rgb(17,17,17)",
            "gridcolor": "#506784",
            "gridwidth": 2,
            "linecolor": "#506784",
            "showbackground": true,
            "ticks": "",
            "zerolinecolor": "#C8D4E3"
           },
           "yaxis": {
            "backgroundcolor": "rgb(17,17,17)",
            "gridcolor": "#506784",
            "gridwidth": 2,
            "linecolor": "#506784",
            "showbackground": true,
            "ticks": "",
            "zerolinecolor": "#C8D4E3"
           },
           "zaxis": {
            "backgroundcolor": "rgb(17,17,17)",
            "gridcolor": "#506784",
            "gridwidth": 2,
            "linecolor": "#506784",
            "showbackground": true,
            "ticks": "",
            "zerolinecolor": "#C8D4E3"
           }
          },
          "shapedefaults": {
           "line": {
            "color": "#f2f5fa"
           }
          },
          "sliderdefaults": {
           "bgcolor": "#C8D4E3",
           "bordercolor": "rgb(17,17,17)",
           "borderwidth": 1,
           "tickwidth": 0
          },
          "ternary": {
           "aaxis": {
            "gridcolor": "#506784",
            "linecolor": "#506784",
            "ticks": ""
           },
           "baxis": {
            "gridcolor": "#506784",
            "linecolor": "#506784",
            "ticks": ""
           },
           "bgcolor": "rgb(17,17,17)",
           "caxis": {
            "gridcolor": "#506784",
            "linecolor": "#506784",
            "ticks": ""
           }
          },
          "title": {
           "x": 0.05
          },
          "updatemenudefaults": {
           "bgcolor": "#506784",
           "borderwidth": 0
          },
          "xaxis": {
           "automargin": true,
           "gridcolor": "#283442",
           "linecolor": "#506784",
           "ticks": "",
           "title": {
            "standoff": 15
           },
           "zerolinecolor": "#283442",
           "zerolinewidth": 2
          },
          "yaxis": {
           "automargin": true,
           "gridcolor": "#283442",
           "linecolor": "#506784",
           "ticks": "",
           "title": {
            "standoff": 15
           },
           "zerolinecolor": "#283442",
           "zerolinewidth": 2
          }
         }
        },
        "title": {
         "text": "Correlation showing only the highly correlated elements greater than 0.6 and less than -0.6"
        },
        "xaxis": {
         "anchor": "y",
         "constrain": "domain",
         "domain": [
          0,
          1
         ],
         "scaleanchor": "y"
        },
        "yaxis": {
         "anchor": "x",
         "autorange": "reversed",
         "constrain": "domain",
         "domain": [
          0,
          1
         ]
        }
       }
      }
     },
     "metadata": {},
     "output_type": "display_data"
    }
   ],
   "source": [
    "corr_threshold = 0.6\n",
    "corr_img = pd.get_dummies(temp_na.drop(columns=['date']),prefix=\"\",prefix_sep=\"\",dtype=np.float64).corr(method=\"spearman\").copy()\n",
    "corr_img_all = corr_img.copy()\n",
    "cond = (corr_img > corr_threshold) | (corr_img < -corr_threshold)\n",
    "corr_img = corr_img.where(cond,0)\n",
    "np.fill_diagonal(corr_img.to_numpy(),0)\n",
    "fig = px.imshow(corr_img,height=1000,title=f\"Correlation showing only the highly correlated elements greater than {corr_threshold} and less than -{corr_threshold}\",color_continuous_scale=\"GnBu\")\n",
    "fig.add_hline(y=5.5,line=dict(dash=\"dash\",color=\"rgba(255,255,255,0.5)\"))\n",
    "fig.add_vline(x=5.5,line=dict(dash=\"dash\",color=\"rgba(255,255,255,0.5)\"))\n",
    "fig.add_annotation(text=\"categorical quadrant\",x=1.35,y=0.3,showarrow=False,font=dict(color=\"white\"),xref=\"x domain\",yref=\"y domain\")\n",
    "fig.add_annotation(text=\"continuous quadrant\",x=1.34,y=0.9,showarrow=False,font=dict(color=\"white\"),xref=\"x domain\",yref=\"y domain\")\n",
    "fig.show()"
   ]
  },
  {
   "cell_type": "markdown",
   "metadata": {},
   "source": [
    "<font face=\"Fira Code\" size=5>\n",
    "There are quite a number of high correlations, but with adjusting the correlation threshold we can see the most important ones.<br>\n",
    "\n",
    "- ~~Culmen Lenght v/s Species~~\n",
    "- Culmen Depth v/s Species\n",
    "- Flipper Length v/s Body Mass\n",
    "- Flipper Lenght v/s Species\n",
    "- Sex v/s A\n",
    "- $\\delta^{15}N$ v/s Species\n",
    "- $\\delta^{13}C$ v/s Species\n",
    "- Island v/s Species\n",
    "- $\\delta^{15}N$ v/s Island\n",
    "- Island v/s Biomass\n",
    "- Island v/s Culmen Depth\n"
   ]
  },
  {
   "cell_type": "code",
   "execution_count": 87,
   "metadata": {},
   "outputs": [
    {
     "data": {
      "application/vnd.plotly.v1+json": {
       "config": {
        "plotlyServerURL": "https://plot.ly"
       },
       "data": [
        {
         "alignmentgroup": "True",
         "bingroup": "x",
         "histfunc": "avg",
         "hovertemplate": "species=%{x}<br>avg of culmenL=%{y}<extra></extra>",
         "legendgroup": "Adelie",
         "marker": {
          "color": "#636efa",
          "pattern": {
           "shape": ""
          }
         },
         "name": "Adelie",
         "offsetgroup": "Adelie",
         "orientation": "v",
         "showlegend": true,
         "textposition": "outside",
         "texttemplate": "Avg : %{y}",
         "type": "histogram",
         "x": [
          "Adelie",
          "Adelie",
          "Adelie",
          "Adelie",
          "Adelie",
          "Adelie",
          "Adelie",
          "Adelie",
          "Adelie",
          "Adelie",
          "Adelie",
          "Adelie",
          "Adelie",
          "Adelie",
          "Adelie",
          "Adelie",
          "Adelie",
          "Adelie",
          "Adelie",
          "Adelie",
          "Adelie",
          "Adelie",
          "Adelie",
          "Adelie",
          "Adelie",
          "Adelie",
          "Adelie",
          "Adelie",
          "Adelie",
          "Adelie",
          "Adelie",
          "Adelie",
          "Adelie",
          "Adelie",
          "Adelie",
          "Adelie",
          "Adelie",
          "Adelie",
          "Adelie",
          "Adelie",
          "Adelie",
          "Adelie",
          "Adelie",
          "Adelie",
          "Adelie",
          "Adelie",
          "Adelie",
          "Adelie",
          "Adelie",
          "Adelie",
          "Adelie",
          "Adelie",
          "Adelie",
          "Adelie",
          "Adelie",
          "Adelie",
          "Adelie",
          "Adelie",
          "Adelie",
          "Adelie",
          "Adelie",
          "Adelie",
          "Adelie",
          "Adelie",
          "Adelie",
          "Adelie",
          "Adelie",
          "Adelie",
          "Adelie",
          "Adelie",
          "Adelie",
          "Adelie",
          "Adelie",
          "Adelie",
          "Adelie",
          "Adelie",
          "Adelie",
          "Adelie",
          "Adelie",
          "Adelie",
          "Adelie",
          "Adelie",
          "Adelie",
          "Adelie",
          "Adelie",
          "Adelie",
          "Adelie",
          "Adelie",
          "Adelie",
          "Adelie",
          "Adelie",
          "Adelie",
          "Adelie",
          "Adelie",
          "Adelie",
          "Adelie",
          "Adelie",
          "Adelie",
          "Adelie",
          "Adelie",
          "Adelie",
          "Adelie",
          "Adelie",
          "Adelie",
          "Adelie",
          "Adelie",
          "Adelie",
          "Adelie",
          "Adelie",
          "Adelie",
          "Adelie",
          "Adelie",
          "Adelie",
          "Adelie",
          "Adelie",
          "Adelie",
          "Adelie",
          "Adelie",
          "Adelie",
          "Adelie",
          "Adelie",
          "Adelie",
          "Adelie",
          "Adelie",
          "Adelie",
          "Adelie",
          "Adelie",
          "Adelie",
          "Adelie",
          "Adelie",
          "Adelie",
          "Adelie",
          "Adelie",
          "Adelie",
          "Adelie",
          "Adelie",
          "Adelie",
          "Adelie",
          "Adelie"
         ],
         "xaxis": "x",
         "y": [
          39.5,
          40.3,
          36.7,
          39.3,
          38.9,
          39.2,
          34.6,
          38.7,
          42.5,
          34.4,
          46,
          37.8,
          37.7,
          35.9,
          38.2,
          38.8,
          35.3,
          40.6,
          40.5,
          37.9,
          40.5,
          39.5,
          37.2,
          39.5,
          40.9,
          36.4,
          39.2,
          38.8,
          42.2,
          37.6,
          36.5,
          36,
          44.1,
          37,
          39.6,
          36,
          42.3,
          39.6,
          40.1,
          35,
          42,
          34.5,
          41.4,
          39,
          40.6,
          36.5,
          37.6,
          35.7,
          41.3,
          37.6,
          41.1,
          36.4,
          41.6,
          35.5,
          41.1,
          35.9,
          41.8,
          33.5,
          39.7,
          39.6,
          45.8,
          35.5,
          42.8,
          40.9,
          37.2,
          36.2,
          42.1,
          34.6,
          42.9,
          36.7,
          35.1,
          37.3,
          41.3,
          36.3,
          36.9,
          38.3,
          38.9,
          35.7,
          41.1,
          34,
          39.6,
          36.2,
          40.8,
          38.1,
          40.3,
          33.1,
          43.2,
          35,
          41,
          37.7,
          37.8,
          37.9,
          39.7,
          38.6,
          38.2,
          38.1,
          43.2,
          38.1,
          45.6,
          39.7,
          42.2,
          39.6,
          42.7,
          38.6,
          37.3,
          35.7,
          41.1,
          36.2,
          37.7,
          40.2,
          41.4,
          35.2,
          40.6,
          38.8,
          41.5,
          39,
          44.1,
          38.5,
          43.1,
          36.8,
          37.5,
          38.1,
          41.1,
          35.6,
          40.2,
          37,
          39.7,
          40.2,
          40.6,
          32.1,
          40.7,
          37.3,
          39,
          39.2,
          36.6,
          36,
          37.8,
          36,
          41.5
         ],
         "yaxis": "y"
        },
        {
         "alignmentgroup": "True",
         "bingroup": "x",
         "histfunc": "avg",
         "hovertemplate": "species=%{x}<br>avg of culmenL=%{y}<extra></extra>",
         "legendgroup": "Chinstrap",
         "marker": {
          "color": "#EF553B",
          "pattern": {
           "shape": ""
          }
         },
         "name": "Chinstrap",
         "offsetgroup": "Chinstrap",
         "orientation": "v",
         "showlegend": true,
         "textposition": "outside",
         "texttemplate": "Avg : %{y}",
         "type": "histogram",
         "x": [
          "Chinstrap",
          "Chinstrap",
          "Chinstrap",
          "Chinstrap",
          "Chinstrap",
          "Chinstrap",
          "Chinstrap",
          "Chinstrap",
          "Chinstrap",
          "Chinstrap",
          "Chinstrap",
          "Chinstrap",
          "Chinstrap",
          "Chinstrap",
          "Chinstrap",
          "Chinstrap",
          "Chinstrap",
          "Chinstrap",
          "Chinstrap",
          "Chinstrap",
          "Chinstrap",
          "Chinstrap",
          "Chinstrap",
          "Chinstrap",
          "Chinstrap",
          "Chinstrap",
          "Chinstrap",
          "Chinstrap",
          "Chinstrap",
          "Chinstrap",
          "Chinstrap",
          "Chinstrap",
          "Chinstrap",
          "Chinstrap",
          "Chinstrap",
          "Chinstrap",
          "Chinstrap",
          "Chinstrap",
          "Chinstrap",
          "Chinstrap",
          "Chinstrap",
          "Chinstrap",
          "Chinstrap",
          "Chinstrap",
          "Chinstrap",
          "Chinstrap",
          "Chinstrap",
          "Chinstrap",
          "Chinstrap",
          "Chinstrap",
          "Chinstrap",
          "Chinstrap",
          "Chinstrap",
          "Chinstrap",
          "Chinstrap",
          "Chinstrap",
          "Chinstrap",
          "Chinstrap",
          "Chinstrap",
          "Chinstrap",
          "Chinstrap",
          "Chinstrap",
          "Chinstrap",
          "Chinstrap",
          "Chinstrap",
          "Chinstrap",
          "Chinstrap"
         ],
         "xaxis": "x",
         "y": [
          46.5,
          50,
          51.3,
          45.4,
          52.7,
          45.2,
          46.1,
          51.3,
          46,
          51.3,
          46.6,
          51.7,
          47,
          52,
          45.9,
          50.5,
          50.3,
          58,
          46.4,
          49.2,
          42.4,
          48.5,
          43.2,
          50.6,
          46.7,
          52,
          50.5,
          49.5,
          46.4,
          52.8,
          40.9,
          54.2,
          42.5,
          51,
          49.7,
          47.5,
          47.6,
          52,
          46.9,
          53.5,
          49,
          46.2,
          50.9,
          45.5,
          50.9,
          50.8,
          50.1,
          49,
          51.5,
          49.8,
          48.1,
          51.4,
          45.7,
          50.7,
          42.5,
          52.2,
          45.2,
          49.3,
          50.2,
          45.6,
          46.8,
          45.7,
          55.8,
          43.5,
          49.6,
          50.8,
          50.2
         ],
         "yaxis": "y"
        },
        {
         "alignmentgroup": "True",
         "bingroup": "x",
         "histfunc": "avg",
         "hovertemplate": "species=%{x}<br>avg of culmenL=%{y}<extra></extra>",
         "legendgroup": "Gentoo",
         "marker": {
          "color": "#00cc96",
          "pattern": {
           "shape": ""
          }
         },
         "name": "Gentoo",
         "offsetgroup": "Gentoo",
         "orientation": "v",
         "showlegend": true,
         "textposition": "outside",
         "texttemplate": "Avg : %{y}",
         "type": "histogram",
         "x": [
          "Gentoo",
          "Gentoo",
          "Gentoo",
          "Gentoo",
          "Gentoo",
          "Gentoo",
          "Gentoo",
          "Gentoo",
          "Gentoo",
          "Gentoo",
          "Gentoo",
          "Gentoo",
          "Gentoo",
          "Gentoo",
          "Gentoo",
          "Gentoo",
          "Gentoo",
          "Gentoo",
          "Gentoo",
          "Gentoo",
          "Gentoo",
          "Gentoo",
          "Gentoo",
          "Gentoo",
          "Gentoo",
          "Gentoo",
          "Gentoo",
          "Gentoo",
          "Gentoo",
          "Gentoo",
          "Gentoo",
          "Gentoo",
          "Gentoo",
          "Gentoo",
          "Gentoo",
          "Gentoo",
          "Gentoo",
          "Gentoo",
          "Gentoo",
          "Gentoo",
          "Gentoo",
          "Gentoo",
          "Gentoo",
          "Gentoo",
          "Gentoo",
          "Gentoo",
          "Gentoo",
          "Gentoo",
          "Gentoo",
          "Gentoo",
          "Gentoo",
          "Gentoo",
          "Gentoo",
          "Gentoo",
          "Gentoo",
          "Gentoo",
          "Gentoo",
          "Gentoo",
          "Gentoo",
          "Gentoo",
          "Gentoo",
          "Gentoo",
          "Gentoo",
          "Gentoo",
          "Gentoo",
          "Gentoo",
          "Gentoo",
          "Gentoo",
          "Gentoo",
          "Gentoo",
          "Gentoo",
          "Gentoo",
          "Gentoo",
          "Gentoo",
          "Gentoo",
          "Gentoo",
          "Gentoo",
          "Gentoo",
          "Gentoo",
          "Gentoo",
          "Gentoo",
          "Gentoo",
          "Gentoo",
          "Gentoo",
          "Gentoo",
          "Gentoo",
          "Gentoo",
          "Gentoo",
          "Gentoo",
          "Gentoo",
          "Gentoo",
          "Gentoo",
          "Gentoo",
          "Gentoo",
          "Gentoo",
          "Gentoo",
          "Gentoo",
          "Gentoo",
          "Gentoo",
          "Gentoo",
          "Gentoo",
          "Gentoo",
          "Gentoo",
          "Gentoo",
          "Gentoo",
          "Gentoo",
          "Gentoo",
          "Gentoo",
          "Gentoo",
          "Gentoo",
          "Gentoo",
          "Gentoo",
          "Gentoo",
          "Gentoo",
          "Gentoo",
          "Gentoo",
          "Gentoo",
          "Gentoo"
         ],
         "xaxis": "x",
         "y": [
          46.1,
          50,
          48.7,
          50,
          47.6,
          46.5,
          45.4,
          46.7,
          43.3,
          46.8,
          40.9,
          49,
          45.5,
          48.4,
          45.8,
          49.3,
          42,
          49.2,
          46.2,
          48.7,
          50.2,
          45.1,
          46.5,
          46.3,
          42.9,
          46.1,
          47.8,
          48.2,
          50,
          42.8,
          45.1,
          59.6,
          49.1,
          48.4,
          42.6,
          44.4,
          44,
          48.7,
          42.7,
          49.6,
          45.3,
          49.6,
          50.5,
          43.6,
          45.5,
          50.5,
          44.9,
          45.2,
          46.6,
          48.5,
          45.1,
          50.1,
          46.5,
          45,
          43.8,
          45.5,
          43.2,
          50.4,
          45.3,
          46.2,
          45.7,
          54.3,
          45.8,
          49.8,
          49.5,
          43.5,
          50.7,
          47.7,
          46.4,
          48.2,
          46.5,
          46.4,
          48.6,
          47.5,
          51.1,
          45.2,
          45.2,
          49.1,
          52.5,
          47.4,
          50,
          44.9,
          50.8,
          43.4,
          51.3,
          47.5,
          52.1,
          47.5,
          52.2,
          45.5,
          49.5,
          44.5,
          50.8,
          49.4,
          46.9,
          48.4,
          51.1,
          48.5,
          55.9,
          47.2,
          49.1,
          46.8,
          41.7,
          53.4,
          43.3,
          48.1,
          50.5,
          49.8,
          43.5,
          51.5,
          46.2,
          55.1,
          48.8,
          47.2,
          46.8,
          50.4,
          45.2,
          49.9
         ],
         "yaxis": "y"
        }
       ],
       "layout": {
        "barmode": "relative",
        "height": 700,
        "legend": {
         "title": {
          "text": "species"
         },
         "tracegroupgap": 0
        },
        "margin": {
         "t": 60
        },
        "template": {
         "data": {
          "bar": [
           {
            "error_x": {
             "color": "#f2f5fa"
            },
            "error_y": {
             "color": "#f2f5fa"
            },
            "marker": {
             "line": {
              "color": "rgb(17,17,17)",
              "width": 0.5
             },
             "pattern": {
              "fillmode": "overlay",
              "size": 10,
              "solidity": 0.2
             }
            },
            "type": "bar"
           }
          ],
          "barpolar": [
           {
            "marker": {
             "line": {
              "color": "rgb(17,17,17)",
              "width": 0.5
             },
             "pattern": {
              "fillmode": "overlay",
              "size": 10,
              "solidity": 0.2
             }
            },
            "type": "barpolar"
           }
          ],
          "carpet": [
           {
            "aaxis": {
             "endlinecolor": "#A2B1C6",
             "gridcolor": "#506784",
             "linecolor": "#506784",
             "minorgridcolor": "#506784",
             "startlinecolor": "#A2B1C6"
            },
            "baxis": {
             "endlinecolor": "#A2B1C6",
             "gridcolor": "#506784",
             "linecolor": "#506784",
             "minorgridcolor": "#506784",
             "startlinecolor": "#A2B1C6"
            },
            "type": "carpet"
           }
          ],
          "choropleth": [
           {
            "colorbar": {
             "outlinewidth": 0,
             "ticks": ""
            },
            "type": "choropleth"
           }
          ],
          "contour": [
           {
            "colorbar": {
             "outlinewidth": 0,
             "ticks": ""
            },
            "colorscale": [
             [
              0,
              "#0d0887"
             ],
             [
              0.1111111111111111,
              "#46039f"
             ],
             [
              0.2222222222222222,
              "#7201a8"
             ],
             [
              0.3333333333333333,
              "#9c179e"
             ],
             [
              0.4444444444444444,
              "#bd3786"
             ],
             [
              0.5555555555555556,
              "#d8576b"
             ],
             [
              0.6666666666666666,
              "#ed7953"
             ],
             [
              0.7777777777777778,
              "#fb9f3a"
             ],
             [
              0.8888888888888888,
              "#fdca26"
             ],
             [
              1,
              "#f0f921"
             ]
            ],
            "type": "contour"
           }
          ],
          "contourcarpet": [
           {
            "colorbar": {
             "outlinewidth": 0,
             "ticks": ""
            },
            "type": "contourcarpet"
           }
          ],
          "heatmap": [
           {
            "colorbar": {
             "outlinewidth": 0,
             "ticks": ""
            },
            "colorscale": [
             [
              0,
              "#0d0887"
             ],
             [
              0.1111111111111111,
              "#46039f"
             ],
             [
              0.2222222222222222,
              "#7201a8"
             ],
             [
              0.3333333333333333,
              "#9c179e"
             ],
             [
              0.4444444444444444,
              "#bd3786"
             ],
             [
              0.5555555555555556,
              "#d8576b"
             ],
             [
              0.6666666666666666,
              "#ed7953"
             ],
             [
              0.7777777777777778,
              "#fb9f3a"
             ],
             [
              0.8888888888888888,
              "#fdca26"
             ],
             [
              1,
              "#f0f921"
             ]
            ],
            "type": "heatmap"
           }
          ],
          "heatmapgl": [
           {
            "colorbar": {
             "outlinewidth": 0,
             "ticks": ""
            },
            "colorscale": [
             [
              0,
              "#0d0887"
             ],
             [
              0.1111111111111111,
              "#46039f"
             ],
             [
              0.2222222222222222,
              "#7201a8"
             ],
             [
              0.3333333333333333,
              "#9c179e"
             ],
             [
              0.4444444444444444,
              "#bd3786"
             ],
             [
              0.5555555555555556,
              "#d8576b"
             ],
             [
              0.6666666666666666,
              "#ed7953"
             ],
             [
              0.7777777777777778,
              "#fb9f3a"
             ],
             [
              0.8888888888888888,
              "#fdca26"
             ],
             [
              1,
              "#f0f921"
             ]
            ],
            "type": "heatmapgl"
           }
          ],
          "histogram": [
           {
            "marker": {
             "pattern": {
              "fillmode": "overlay",
              "size": 10,
              "solidity": 0.2
             }
            },
            "type": "histogram"
           }
          ],
          "histogram2d": [
           {
            "colorbar": {
             "outlinewidth": 0,
             "ticks": ""
            },
            "colorscale": [
             [
              0,
              "#0d0887"
             ],
             [
              0.1111111111111111,
              "#46039f"
             ],
             [
              0.2222222222222222,
              "#7201a8"
             ],
             [
              0.3333333333333333,
              "#9c179e"
             ],
             [
              0.4444444444444444,
              "#bd3786"
             ],
             [
              0.5555555555555556,
              "#d8576b"
             ],
             [
              0.6666666666666666,
              "#ed7953"
             ],
             [
              0.7777777777777778,
              "#fb9f3a"
             ],
             [
              0.8888888888888888,
              "#fdca26"
             ],
             [
              1,
              "#f0f921"
             ]
            ],
            "type": "histogram2d"
           }
          ],
          "histogram2dcontour": [
           {
            "colorbar": {
             "outlinewidth": 0,
             "ticks": ""
            },
            "colorscale": [
             [
              0,
              "#0d0887"
             ],
             [
              0.1111111111111111,
              "#46039f"
             ],
             [
              0.2222222222222222,
              "#7201a8"
             ],
             [
              0.3333333333333333,
              "#9c179e"
             ],
             [
              0.4444444444444444,
              "#bd3786"
             ],
             [
              0.5555555555555556,
              "#d8576b"
             ],
             [
              0.6666666666666666,
              "#ed7953"
             ],
             [
              0.7777777777777778,
              "#fb9f3a"
             ],
             [
              0.8888888888888888,
              "#fdca26"
             ],
             [
              1,
              "#f0f921"
             ]
            ],
            "type": "histogram2dcontour"
           }
          ],
          "mesh3d": [
           {
            "colorbar": {
             "outlinewidth": 0,
             "ticks": ""
            },
            "type": "mesh3d"
           }
          ],
          "parcoords": [
           {
            "line": {
             "colorbar": {
              "outlinewidth": 0,
              "ticks": ""
             }
            },
            "type": "parcoords"
           }
          ],
          "pie": [
           {
            "automargin": true,
            "type": "pie"
           }
          ],
          "scatter": [
           {
            "marker": {
             "line": {
              "color": "#283442"
             }
            },
            "type": "scatter"
           }
          ],
          "scatter3d": [
           {
            "line": {
             "colorbar": {
              "outlinewidth": 0,
              "ticks": ""
             }
            },
            "marker": {
             "colorbar": {
              "outlinewidth": 0,
              "ticks": ""
             }
            },
            "type": "scatter3d"
           }
          ],
          "scattercarpet": [
           {
            "marker": {
             "colorbar": {
              "outlinewidth": 0,
              "ticks": ""
             }
            },
            "type": "scattercarpet"
           }
          ],
          "scattergeo": [
           {
            "marker": {
             "colorbar": {
              "outlinewidth": 0,
              "ticks": ""
             }
            },
            "type": "scattergeo"
           }
          ],
          "scattergl": [
           {
            "marker": {
             "line": {
              "color": "#283442"
             }
            },
            "type": "scattergl"
           }
          ],
          "scattermapbox": [
           {
            "marker": {
             "colorbar": {
              "outlinewidth": 0,
              "ticks": ""
             }
            },
            "type": "scattermapbox"
           }
          ],
          "scatterpolar": [
           {
            "marker": {
             "colorbar": {
              "outlinewidth": 0,
              "ticks": ""
             }
            },
            "type": "scatterpolar"
           }
          ],
          "scatterpolargl": [
           {
            "marker": {
             "colorbar": {
              "outlinewidth": 0,
              "ticks": ""
             }
            },
            "type": "scatterpolargl"
           }
          ],
          "scatterternary": [
           {
            "marker": {
             "colorbar": {
              "outlinewidth": 0,
              "ticks": ""
             }
            },
            "type": "scatterternary"
           }
          ],
          "surface": [
           {
            "colorbar": {
             "outlinewidth": 0,
             "ticks": ""
            },
            "colorscale": [
             [
              0,
              "#0d0887"
             ],
             [
              0.1111111111111111,
              "#46039f"
             ],
             [
              0.2222222222222222,
              "#7201a8"
             ],
             [
              0.3333333333333333,
              "#9c179e"
             ],
             [
              0.4444444444444444,
              "#bd3786"
             ],
             [
              0.5555555555555556,
              "#d8576b"
             ],
             [
              0.6666666666666666,
              "#ed7953"
             ],
             [
              0.7777777777777778,
              "#fb9f3a"
             ],
             [
              0.8888888888888888,
              "#fdca26"
             ],
             [
              1,
              "#f0f921"
             ]
            ],
            "type": "surface"
           }
          ],
          "table": [
           {
            "cells": {
             "fill": {
              "color": "#506784"
             },
             "line": {
              "color": "rgb(17,17,17)"
             }
            },
            "header": {
             "fill": {
              "color": "#2a3f5f"
             },
             "line": {
              "color": "rgb(17,17,17)"
             }
            },
            "type": "table"
           }
          ]
         },
         "layout": {
          "annotationdefaults": {
           "arrowcolor": "#f2f5fa",
           "arrowhead": 0,
           "arrowwidth": 1
          },
          "autotypenumbers": "strict",
          "coloraxis": {
           "colorbar": {
            "outlinewidth": 0,
            "ticks": ""
           }
          },
          "colorscale": {
           "diverging": [
            [
             0,
             "#8e0152"
            ],
            [
             0.1,
             "#c51b7d"
            ],
            [
             0.2,
             "#de77ae"
            ],
            [
             0.3,
             "#f1b6da"
            ],
            [
             0.4,
             "#fde0ef"
            ],
            [
             0.5,
             "#f7f7f7"
            ],
            [
             0.6,
             "#e6f5d0"
            ],
            [
             0.7,
             "#b8e186"
            ],
            [
             0.8,
             "#7fbc41"
            ],
            [
             0.9,
             "#4d9221"
            ],
            [
             1,
             "#276419"
            ]
           ],
           "sequential": [
            [
             0,
             "#0d0887"
            ],
            [
             0.1111111111111111,
             "#46039f"
            ],
            [
             0.2222222222222222,
             "#7201a8"
            ],
            [
             0.3333333333333333,
             "#9c179e"
            ],
            [
             0.4444444444444444,
             "#bd3786"
            ],
            [
             0.5555555555555556,
             "#d8576b"
            ],
            [
             0.6666666666666666,
             "#ed7953"
            ],
            [
             0.7777777777777778,
             "#fb9f3a"
            ],
            [
             0.8888888888888888,
             "#fdca26"
            ],
            [
             1,
             "#f0f921"
            ]
           ],
           "sequentialminus": [
            [
             0,
             "#0d0887"
            ],
            [
             0.1111111111111111,
             "#46039f"
            ],
            [
             0.2222222222222222,
             "#7201a8"
            ],
            [
             0.3333333333333333,
             "#9c179e"
            ],
            [
             0.4444444444444444,
             "#bd3786"
            ],
            [
             0.5555555555555556,
             "#d8576b"
            ],
            [
             0.6666666666666666,
             "#ed7953"
            ],
            [
             0.7777777777777778,
             "#fb9f3a"
            ],
            [
             0.8888888888888888,
             "#fdca26"
            ],
            [
             1,
             "#f0f921"
            ]
           ]
          },
          "colorway": [
           "#636efa",
           "#EF553B",
           "#00cc96",
           "#ab63fa",
           "#FFA15A",
           "#19d3f3",
           "#FF6692",
           "#B6E880",
           "#FF97FF",
           "#FECB52"
          ],
          "font": {
           "color": "#f2f5fa",
           "family": "Fira Code",
           "size": 20
          },
          "geo": {
           "bgcolor": "rgb(17,17,17)",
           "lakecolor": "rgb(17,17,17)",
           "landcolor": "rgb(17,17,17)",
           "showlakes": true,
           "showland": true,
           "subunitcolor": "#506784"
          },
          "hoverlabel": {
           "align": "left"
          },
          "hovermode": "closest",
          "mapbox": {
           "style": "dark"
          },
          "paper_bgcolor": "rgb(17,17,17)",
          "plot_bgcolor": "rgb(17,17,17)",
          "polar": {
           "angularaxis": {
            "gridcolor": "#506784",
            "linecolor": "#506784",
            "ticks": ""
           },
           "bgcolor": "rgb(17,17,17)",
           "radialaxis": {
            "gridcolor": "#506784",
            "linecolor": "#506784",
            "ticks": ""
           }
          },
          "scene": {
           "xaxis": {
            "backgroundcolor": "rgb(17,17,17)",
            "gridcolor": "#506784",
            "gridwidth": 2,
            "linecolor": "#506784",
            "showbackground": true,
            "ticks": "",
            "zerolinecolor": "#C8D4E3"
           },
           "yaxis": {
            "backgroundcolor": "rgb(17,17,17)",
            "gridcolor": "#506784",
            "gridwidth": 2,
            "linecolor": "#506784",
            "showbackground": true,
            "ticks": "",
            "zerolinecolor": "#C8D4E3"
           },
           "zaxis": {
            "backgroundcolor": "rgb(17,17,17)",
            "gridcolor": "#506784",
            "gridwidth": 2,
            "linecolor": "#506784",
            "showbackground": true,
            "ticks": "",
            "zerolinecolor": "#C8D4E3"
           }
          },
          "shapedefaults": {
           "line": {
            "color": "#f2f5fa"
           }
          },
          "sliderdefaults": {
           "bgcolor": "#C8D4E3",
           "bordercolor": "rgb(17,17,17)",
           "borderwidth": 1,
           "tickwidth": 0
          },
          "ternary": {
           "aaxis": {
            "gridcolor": "#506784",
            "linecolor": "#506784",
            "ticks": ""
           },
           "baxis": {
            "gridcolor": "#506784",
            "linecolor": "#506784",
            "ticks": ""
           },
           "bgcolor": "rgb(17,17,17)",
           "caxis": {
            "gridcolor": "#506784",
            "linecolor": "#506784",
            "ticks": ""
           }
          },
          "title": {
           "x": 0.05
          },
          "updatemenudefaults": {
           "bgcolor": "#506784",
           "borderwidth": 0
          },
          "xaxis": {
           "automargin": true,
           "gridcolor": "#283442",
           "linecolor": "#506784",
           "ticks": "",
           "title": {
            "standoff": 15
           },
           "zerolinecolor": "#283442",
           "zerolinewidth": 2
          },
          "yaxis": {
           "automargin": true,
           "gridcolor": "#283442",
           "linecolor": "#506784",
           "ticks": "",
           "title": {
            "standoff": 15
           },
           "zerolinecolor": "#283442",
           "zerolinewidth": 2
          }
         }
        },
        "xaxis": {
         "anchor": "y",
         "categoryarray": [
          "Adelie",
          "Chinstrap",
          "Gentoo"
         ],
         "categoryorder": "array",
         "domain": [
          0,
          1
         ],
         "title": {
          "text": "species"
         }
        },
        "yaxis": {
         "anchor": "x",
         "domain": [
          0,
          1
         ],
         "title": {
          "text": "avg of culmenL"
         }
        }
       }
      }
     },
     "metadata": {},
     "output_type": "display_data"
    }
   ],
   "source": [
    "px.histogram(temp_na,x=\"species\",y=\"culmenL\",histfunc=\"avg\",color=\"species\",height=700,text_auto=True).update_traces(textposition=\"outside\",texttemplate=\"Avg : %{y}\")"
   ]
  },
  {
   "cell_type": "code",
   "execution_count": 89,
   "metadata": {},
   "outputs": [
    {
     "data": {
      "application/vnd.plotly.v1+json": {
       "config": {
        "plotlyServerURL": "https://plot.ly"
       },
       "data": [
        {
         "alignmentgroup": "True",
         "bingroup": "x",
         "histfunc": "avg",
         "hovertemplate": "species=%{x}<br>avg of culmenD=%{y}<extra></extra>",
         "legendgroup": "Adelie",
         "marker": {
          "color": "#636efa",
          "pattern": {
           "shape": ""
          }
         },
         "name": "Adelie",
         "offsetgroup": "Adelie",
         "orientation": "v",
         "showlegend": true,
         "textposition": "outside",
         "texttemplate": "Avg : %{y}",
         "type": "histogram",
         "x": [
          "Adelie",
          "Adelie",
          "Adelie",
          "Adelie",
          "Adelie",
          "Adelie",
          "Adelie",
          "Adelie",
          "Adelie",
          "Adelie",
          "Adelie",
          "Adelie",
          "Adelie",
          "Adelie",
          "Adelie",
          "Adelie",
          "Adelie",
          "Adelie",
          "Adelie",
          "Adelie",
          "Adelie",
          "Adelie",
          "Adelie",
          "Adelie",
          "Adelie",
          "Adelie",
          "Adelie",
          "Adelie",
          "Adelie",
          "Adelie",
          "Adelie",
          "Adelie",
          "Adelie",
          "Adelie",
          "Adelie",
          "Adelie",
          "Adelie",
          "Adelie",
          "Adelie",
          "Adelie",
          "Adelie",
          "Adelie",
          "Adelie",
          "Adelie",
          "Adelie",
          "Adelie",
          "Adelie",
          "Adelie",
          "Adelie",
          "Adelie",
          "Adelie",
          "Adelie",
          "Adelie",
          "Adelie",
          "Adelie",
          "Adelie",
          "Adelie",
          "Adelie",
          "Adelie",
          "Adelie",
          "Adelie",
          "Adelie",
          "Adelie",
          "Adelie",
          "Adelie",
          "Adelie",
          "Adelie",
          "Adelie",
          "Adelie",
          "Adelie",
          "Adelie",
          "Adelie",
          "Adelie",
          "Adelie",
          "Adelie",
          "Adelie",
          "Adelie",
          "Adelie",
          "Adelie",
          "Adelie",
          "Adelie",
          "Adelie",
          "Adelie",
          "Adelie",
          "Adelie",
          "Adelie",
          "Adelie",
          "Adelie",
          "Adelie",
          "Adelie",
          "Adelie",
          "Adelie",
          "Adelie",
          "Adelie",
          "Adelie",
          "Adelie",
          "Adelie",
          "Adelie",
          "Adelie",
          "Adelie",
          "Adelie",
          "Adelie",
          "Adelie",
          "Adelie",
          "Adelie",
          "Adelie",
          "Adelie",
          "Adelie",
          "Adelie",
          "Adelie",
          "Adelie",
          "Adelie",
          "Adelie",
          "Adelie",
          "Adelie",
          "Adelie",
          "Adelie",
          "Adelie",
          "Adelie",
          "Adelie",
          "Adelie",
          "Adelie",
          "Adelie",
          "Adelie",
          "Adelie",
          "Adelie",
          "Adelie",
          "Adelie",
          "Adelie",
          "Adelie",
          "Adelie",
          "Adelie",
          "Adelie",
          "Adelie",
          "Adelie",
          "Adelie",
          "Adelie",
          "Adelie",
          "Adelie"
         ],
         "xaxis": "x",
         "y": [
          17.4,
          18,
          19.3,
          20.6,
          17.8,
          19.6,
          21.1,
          19,
          20.7,
          18.4,
          21.5,
          18.3,
          18.7,
          19.2,
          18.1,
          17.2,
          18.9,
          18.6,
          17.9,
          18.6,
          18.9,
          16.7,
          18.1,
          17.8,
          18.9,
          17,
          21.1,
          20,
          18.5,
          19.3,
          18,
          18.5,
          19.7,
          16.9,
          18.8,
          17.9,
          21.2,
          17.7,
          18.9,
          17.9,
          19.5,
          18.1,
          18.6,
          17.5,
          18.8,
          16.6,
          19.1,
          16.9,
          21.1,
          17,
          18.2,
          17.1,
          18,
          16.2,
          19.1,
          16.6,
          19.4,
          19,
          18.4,
          17.2,
          18.9,
          17.5,
          18.5,
          16.8,
          19.4,
          16.1,
          19.1,
          17.2,
          17.6,
          18.8,
          19.4,
          17.8,
          20.3,
          19.5,
          18.6,
          19.2,
          18.8,
          18,
          18.1,
          17.1,
          18.1,
          17.3,
          18.9,
          18.6,
          18.5,
          16.1,
          18.5,
          17.9,
          20,
          16,
          20,
          18.6,
          18.9,
          17.2,
          20,
          17,
          19,
          16.5,
          20.3,
          17.7,
          19.5,
          20.7,
          18.3,
          17,
          20.5,
          17,
          18.6,
          17.2,
          19.8,
          17,
          18.5,
          15.9,
          19,
          17.6,
          18.3,
          17.1,
          18,
          17.9,
          19.2,
          18.5,
          18.5,
          17.6,
          17.5,
          17.5,
          20.1,
          16.5,
          17.9,
          17.1,
          17.2,
          15.5,
          17,
          16.8,
          18.7,
          18.6,
          18.4,
          17.8,
          18.1,
          17.1,
          18.5
         ],
         "yaxis": "y"
        },
        {
         "alignmentgroup": "True",
         "bingroup": "x",
         "histfunc": "avg",
         "hovertemplate": "species=%{x}<br>avg of culmenD=%{y}<extra></extra>",
         "legendgroup": "Chinstrap",
         "marker": {
          "color": "#EF553B",
          "pattern": {
           "shape": ""
          }
         },
         "name": "Chinstrap",
         "offsetgroup": "Chinstrap",
         "orientation": "v",
         "showlegend": true,
         "textposition": "outside",
         "texttemplate": "Avg : %{y}",
         "type": "histogram",
         "x": [
          "Chinstrap",
          "Chinstrap",
          "Chinstrap",
          "Chinstrap",
          "Chinstrap",
          "Chinstrap",
          "Chinstrap",
          "Chinstrap",
          "Chinstrap",
          "Chinstrap",
          "Chinstrap",
          "Chinstrap",
          "Chinstrap",
          "Chinstrap",
          "Chinstrap",
          "Chinstrap",
          "Chinstrap",
          "Chinstrap",
          "Chinstrap",
          "Chinstrap",
          "Chinstrap",
          "Chinstrap",
          "Chinstrap",
          "Chinstrap",
          "Chinstrap",
          "Chinstrap",
          "Chinstrap",
          "Chinstrap",
          "Chinstrap",
          "Chinstrap",
          "Chinstrap",
          "Chinstrap",
          "Chinstrap",
          "Chinstrap",
          "Chinstrap",
          "Chinstrap",
          "Chinstrap",
          "Chinstrap",
          "Chinstrap",
          "Chinstrap",
          "Chinstrap",
          "Chinstrap",
          "Chinstrap",
          "Chinstrap",
          "Chinstrap",
          "Chinstrap",
          "Chinstrap",
          "Chinstrap",
          "Chinstrap",
          "Chinstrap",
          "Chinstrap",
          "Chinstrap",
          "Chinstrap",
          "Chinstrap",
          "Chinstrap",
          "Chinstrap",
          "Chinstrap",
          "Chinstrap",
          "Chinstrap",
          "Chinstrap",
          "Chinstrap",
          "Chinstrap",
          "Chinstrap",
          "Chinstrap",
          "Chinstrap",
          "Chinstrap",
          "Chinstrap"
         ],
         "xaxis": "x",
         "y": [
          17.9,
          19.5,
          19.2,
          18.7,
          19.8,
          17.8,
          18.2,
          18.2,
          18.9,
          19.9,
          17.8,
          20.3,
          17.3,
          18.1,
          17.1,
          19.6,
          20,
          17.8,
          18.6,
          18.2,
          17.3,
          17.5,
          16.6,
          19.4,
          17.9,
          19,
          18.4,
          19,
          17.8,
          20,
          16.6,
          20.8,
          16.7,
          18.8,
          18.6,
          16.8,
          18.3,
          20.7,
          16.6,
          19.9,
          19.5,
          17.5,
          19.1,
          17,
          17.9,
          18.5,
          17.9,
          19.6,
          18.7,
          17.3,
          16.4,
          19,
          17.3,
          19.7,
          17.3,
          18.8,
          16.6,
          19.9,
          18.8,
          19.4,
          16.5,
          17,
          19.8,
          18.1,
          18.2,
          19,
          18.7
         ],
         "yaxis": "y"
        },
        {
         "alignmentgroup": "True",
         "bingroup": "x",
         "histfunc": "avg",
         "hovertemplate": "species=%{x}<br>avg of culmenD=%{y}<extra></extra>",
         "legendgroup": "Gentoo",
         "marker": {
          "color": "#00cc96",
          "pattern": {
           "shape": ""
          }
         },
         "name": "Gentoo",
         "offsetgroup": "Gentoo",
         "orientation": "v",
         "showlegend": true,
         "textposition": "outside",
         "texttemplate": "Avg : %{y}",
         "type": "histogram",
         "x": [
          "Gentoo",
          "Gentoo",
          "Gentoo",
          "Gentoo",
          "Gentoo",
          "Gentoo",
          "Gentoo",
          "Gentoo",
          "Gentoo",
          "Gentoo",
          "Gentoo",
          "Gentoo",
          "Gentoo",
          "Gentoo",
          "Gentoo",
          "Gentoo",
          "Gentoo",
          "Gentoo",
          "Gentoo",
          "Gentoo",
          "Gentoo",
          "Gentoo",
          "Gentoo",
          "Gentoo",
          "Gentoo",
          "Gentoo",
          "Gentoo",
          "Gentoo",
          "Gentoo",
          "Gentoo",
          "Gentoo",
          "Gentoo",
          "Gentoo",
          "Gentoo",
          "Gentoo",
          "Gentoo",
          "Gentoo",
          "Gentoo",
          "Gentoo",
          "Gentoo",
          "Gentoo",
          "Gentoo",
          "Gentoo",
          "Gentoo",
          "Gentoo",
          "Gentoo",
          "Gentoo",
          "Gentoo",
          "Gentoo",
          "Gentoo",
          "Gentoo",
          "Gentoo",
          "Gentoo",
          "Gentoo",
          "Gentoo",
          "Gentoo",
          "Gentoo",
          "Gentoo",
          "Gentoo",
          "Gentoo",
          "Gentoo",
          "Gentoo",
          "Gentoo",
          "Gentoo",
          "Gentoo",
          "Gentoo",
          "Gentoo",
          "Gentoo",
          "Gentoo",
          "Gentoo",
          "Gentoo",
          "Gentoo",
          "Gentoo",
          "Gentoo",
          "Gentoo",
          "Gentoo",
          "Gentoo",
          "Gentoo",
          "Gentoo",
          "Gentoo",
          "Gentoo",
          "Gentoo",
          "Gentoo",
          "Gentoo",
          "Gentoo",
          "Gentoo",
          "Gentoo",
          "Gentoo",
          "Gentoo",
          "Gentoo",
          "Gentoo",
          "Gentoo",
          "Gentoo",
          "Gentoo",
          "Gentoo",
          "Gentoo",
          "Gentoo",
          "Gentoo",
          "Gentoo",
          "Gentoo",
          "Gentoo",
          "Gentoo",
          "Gentoo",
          "Gentoo",
          "Gentoo",
          "Gentoo",
          "Gentoo",
          "Gentoo",
          "Gentoo",
          "Gentoo",
          "Gentoo",
          "Gentoo",
          "Gentoo",
          "Gentoo",
          "Gentoo",
          "Gentoo",
          "Gentoo",
          "Gentoo"
         ],
         "xaxis": "x",
         "y": [
          13.2,
          16.3,
          14.1,
          15.2,
          14.5,
          13.5,
          14.6,
          15.3,
          13.4,
          15.4,
          13.7,
          16.1,
          13.7,
          14.6,
          14.6,
          15.7,
          13.5,
          15.2,
          14.5,
          15.1,
          14.3,
          14.5,
          14.5,
          15.8,
          13.1,
          15.1,
          15,
          14.3,
          15.3,
          14.2,
          14.5,
          17,
          14.8,
          16.3,
          13.7,
          17.3,
          13.6,
          15.7,
          13.7,
          16,
          13.7,
          15,
          15.9,
          13.9,
          13.9,
          15.9,
          13.3,
          15.8,
          14.2,
          14.1,
          14.4,
          15,
          14.4,
          15.4,
          13.9,
          15,
          14.5,
          15.3,
          13.8,
          14.9,
          13.9,
          15.7,
          14.2,
          16.8,
          16.2,
          14.2,
          15,
          15,
          15.6,
          15.6,
          14.8,
          15,
          16,
          14.2,
          16.3,
          13.8,
          16.4,
          14.5,
          15.6,
          14.6,
          15.9,
          13.8,
          17.3,
          14.4,
          14.2,
          14,
          17,
          15,
          17.1,
          14.5,
          16.1,
          14.7,
          15.7,
          15.8,
          14.6,
          14.4,
          16.5,
          15,
          17,
          15.5,
          15,
          16.1,
          14.7,
          15.8,
          14,
          15.1,
          15.2,
          15.9,
          15.2,
          16.3,
          14.1,
          16,
          16.2,
          13.7,
          14.3,
          15.7,
          14.8,
          16.1
         ],
         "yaxis": "y"
        }
       ],
       "layout": {
        "barmode": "relative",
        "height": 700,
        "legend": {
         "title": {
          "text": "species"
         },
         "tracegroupgap": 0
        },
        "margin": {
         "t": 60
        },
        "template": {
         "data": {
          "bar": [
           {
            "error_x": {
             "color": "#f2f5fa"
            },
            "error_y": {
             "color": "#f2f5fa"
            },
            "marker": {
             "line": {
              "color": "rgb(17,17,17)",
              "width": 0.5
             },
             "pattern": {
              "fillmode": "overlay",
              "size": 10,
              "solidity": 0.2
             }
            },
            "type": "bar"
           }
          ],
          "barpolar": [
           {
            "marker": {
             "line": {
              "color": "rgb(17,17,17)",
              "width": 0.5
             },
             "pattern": {
              "fillmode": "overlay",
              "size": 10,
              "solidity": 0.2
             }
            },
            "type": "barpolar"
           }
          ],
          "carpet": [
           {
            "aaxis": {
             "endlinecolor": "#A2B1C6",
             "gridcolor": "#506784",
             "linecolor": "#506784",
             "minorgridcolor": "#506784",
             "startlinecolor": "#A2B1C6"
            },
            "baxis": {
             "endlinecolor": "#A2B1C6",
             "gridcolor": "#506784",
             "linecolor": "#506784",
             "minorgridcolor": "#506784",
             "startlinecolor": "#A2B1C6"
            },
            "type": "carpet"
           }
          ],
          "choropleth": [
           {
            "colorbar": {
             "outlinewidth": 0,
             "ticks": ""
            },
            "type": "choropleth"
           }
          ],
          "contour": [
           {
            "colorbar": {
             "outlinewidth": 0,
             "ticks": ""
            },
            "colorscale": [
             [
              0,
              "#0d0887"
             ],
             [
              0.1111111111111111,
              "#46039f"
             ],
             [
              0.2222222222222222,
              "#7201a8"
             ],
             [
              0.3333333333333333,
              "#9c179e"
             ],
             [
              0.4444444444444444,
              "#bd3786"
             ],
             [
              0.5555555555555556,
              "#d8576b"
             ],
             [
              0.6666666666666666,
              "#ed7953"
             ],
             [
              0.7777777777777778,
              "#fb9f3a"
             ],
             [
              0.8888888888888888,
              "#fdca26"
             ],
             [
              1,
              "#f0f921"
             ]
            ],
            "type": "contour"
           }
          ],
          "contourcarpet": [
           {
            "colorbar": {
             "outlinewidth": 0,
             "ticks": ""
            },
            "type": "contourcarpet"
           }
          ],
          "heatmap": [
           {
            "colorbar": {
             "outlinewidth": 0,
             "ticks": ""
            },
            "colorscale": [
             [
              0,
              "#0d0887"
             ],
             [
              0.1111111111111111,
              "#46039f"
             ],
             [
              0.2222222222222222,
              "#7201a8"
             ],
             [
              0.3333333333333333,
              "#9c179e"
             ],
             [
              0.4444444444444444,
              "#bd3786"
             ],
             [
              0.5555555555555556,
              "#d8576b"
             ],
             [
              0.6666666666666666,
              "#ed7953"
             ],
             [
              0.7777777777777778,
              "#fb9f3a"
             ],
             [
              0.8888888888888888,
              "#fdca26"
             ],
             [
              1,
              "#f0f921"
             ]
            ],
            "type": "heatmap"
           }
          ],
          "heatmapgl": [
           {
            "colorbar": {
             "outlinewidth": 0,
             "ticks": ""
            },
            "colorscale": [
             [
              0,
              "#0d0887"
             ],
             [
              0.1111111111111111,
              "#46039f"
             ],
             [
              0.2222222222222222,
              "#7201a8"
             ],
             [
              0.3333333333333333,
              "#9c179e"
             ],
             [
              0.4444444444444444,
              "#bd3786"
             ],
             [
              0.5555555555555556,
              "#d8576b"
             ],
             [
              0.6666666666666666,
              "#ed7953"
             ],
             [
              0.7777777777777778,
              "#fb9f3a"
             ],
             [
              0.8888888888888888,
              "#fdca26"
             ],
             [
              1,
              "#f0f921"
             ]
            ],
            "type": "heatmapgl"
           }
          ],
          "histogram": [
           {
            "marker": {
             "pattern": {
              "fillmode": "overlay",
              "size": 10,
              "solidity": 0.2
             }
            },
            "type": "histogram"
           }
          ],
          "histogram2d": [
           {
            "colorbar": {
             "outlinewidth": 0,
             "ticks": ""
            },
            "colorscale": [
             [
              0,
              "#0d0887"
             ],
             [
              0.1111111111111111,
              "#46039f"
             ],
             [
              0.2222222222222222,
              "#7201a8"
             ],
             [
              0.3333333333333333,
              "#9c179e"
             ],
             [
              0.4444444444444444,
              "#bd3786"
             ],
             [
              0.5555555555555556,
              "#d8576b"
             ],
             [
              0.6666666666666666,
              "#ed7953"
             ],
             [
              0.7777777777777778,
              "#fb9f3a"
             ],
             [
              0.8888888888888888,
              "#fdca26"
             ],
             [
              1,
              "#f0f921"
             ]
            ],
            "type": "histogram2d"
           }
          ],
          "histogram2dcontour": [
           {
            "colorbar": {
             "outlinewidth": 0,
             "ticks": ""
            },
            "colorscale": [
             [
              0,
              "#0d0887"
             ],
             [
              0.1111111111111111,
              "#46039f"
             ],
             [
              0.2222222222222222,
              "#7201a8"
             ],
             [
              0.3333333333333333,
              "#9c179e"
             ],
             [
              0.4444444444444444,
              "#bd3786"
             ],
             [
              0.5555555555555556,
              "#d8576b"
             ],
             [
              0.6666666666666666,
              "#ed7953"
             ],
             [
              0.7777777777777778,
              "#fb9f3a"
             ],
             [
              0.8888888888888888,
              "#fdca26"
             ],
             [
              1,
              "#f0f921"
             ]
            ],
            "type": "histogram2dcontour"
           }
          ],
          "mesh3d": [
           {
            "colorbar": {
             "outlinewidth": 0,
             "ticks": ""
            },
            "type": "mesh3d"
           }
          ],
          "parcoords": [
           {
            "line": {
             "colorbar": {
              "outlinewidth": 0,
              "ticks": ""
             }
            },
            "type": "parcoords"
           }
          ],
          "pie": [
           {
            "automargin": true,
            "type": "pie"
           }
          ],
          "scatter": [
           {
            "marker": {
             "line": {
              "color": "#283442"
             }
            },
            "type": "scatter"
           }
          ],
          "scatter3d": [
           {
            "line": {
             "colorbar": {
              "outlinewidth": 0,
              "ticks": ""
             }
            },
            "marker": {
             "colorbar": {
              "outlinewidth": 0,
              "ticks": ""
             }
            },
            "type": "scatter3d"
           }
          ],
          "scattercarpet": [
           {
            "marker": {
             "colorbar": {
              "outlinewidth": 0,
              "ticks": ""
             }
            },
            "type": "scattercarpet"
           }
          ],
          "scattergeo": [
           {
            "marker": {
             "colorbar": {
              "outlinewidth": 0,
              "ticks": ""
             }
            },
            "type": "scattergeo"
           }
          ],
          "scattergl": [
           {
            "marker": {
             "line": {
              "color": "#283442"
             }
            },
            "type": "scattergl"
           }
          ],
          "scattermapbox": [
           {
            "marker": {
             "colorbar": {
              "outlinewidth": 0,
              "ticks": ""
             }
            },
            "type": "scattermapbox"
           }
          ],
          "scatterpolar": [
           {
            "marker": {
             "colorbar": {
              "outlinewidth": 0,
              "ticks": ""
             }
            },
            "type": "scatterpolar"
           }
          ],
          "scatterpolargl": [
           {
            "marker": {
             "colorbar": {
              "outlinewidth": 0,
              "ticks": ""
             }
            },
            "type": "scatterpolargl"
           }
          ],
          "scatterternary": [
           {
            "marker": {
             "colorbar": {
              "outlinewidth": 0,
              "ticks": ""
             }
            },
            "type": "scatterternary"
           }
          ],
          "surface": [
           {
            "colorbar": {
             "outlinewidth": 0,
             "ticks": ""
            },
            "colorscale": [
             [
              0,
              "#0d0887"
             ],
             [
              0.1111111111111111,
              "#46039f"
             ],
             [
              0.2222222222222222,
              "#7201a8"
             ],
             [
              0.3333333333333333,
              "#9c179e"
             ],
             [
              0.4444444444444444,
              "#bd3786"
             ],
             [
              0.5555555555555556,
              "#d8576b"
             ],
             [
              0.6666666666666666,
              "#ed7953"
             ],
             [
              0.7777777777777778,
              "#fb9f3a"
             ],
             [
              0.8888888888888888,
              "#fdca26"
             ],
             [
              1,
              "#f0f921"
             ]
            ],
            "type": "surface"
           }
          ],
          "table": [
           {
            "cells": {
             "fill": {
              "color": "#506784"
             },
             "line": {
              "color": "rgb(17,17,17)"
             }
            },
            "header": {
             "fill": {
              "color": "#2a3f5f"
             },
             "line": {
              "color": "rgb(17,17,17)"
             }
            },
            "type": "table"
           }
          ]
         },
         "layout": {
          "annotationdefaults": {
           "arrowcolor": "#f2f5fa",
           "arrowhead": 0,
           "arrowwidth": 1
          },
          "autotypenumbers": "strict",
          "coloraxis": {
           "colorbar": {
            "outlinewidth": 0,
            "ticks": ""
           }
          },
          "colorscale": {
           "diverging": [
            [
             0,
             "#8e0152"
            ],
            [
             0.1,
             "#c51b7d"
            ],
            [
             0.2,
             "#de77ae"
            ],
            [
             0.3,
             "#f1b6da"
            ],
            [
             0.4,
             "#fde0ef"
            ],
            [
             0.5,
             "#f7f7f7"
            ],
            [
             0.6,
             "#e6f5d0"
            ],
            [
             0.7,
             "#b8e186"
            ],
            [
             0.8,
             "#7fbc41"
            ],
            [
             0.9,
             "#4d9221"
            ],
            [
             1,
             "#276419"
            ]
           ],
           "sequential": [
            [
             0,
             "#0d0887"
            ],
            [
             0.1111111111111111,
             "#46039f"
            ],
            [
             0.2222222222222222,
             "#7201a8"
            ],
            [
             0.3333333333333333,
             "#9c179e"
            ],
            [
             0.4444444444444444,
             "#bd3786"
            ],
            [
             0.5555555555555556,
             "#d8576b"
            ],
            [
             0.6666666666666666,
             "#ed7953"
            ],
            [
             0.7777777777777778,
             "#fb9f3a"
            ],
            [
             0.8888888888888888,
             "#fdca26"
            ],
            [
             1,
             "#f0f921"
            ]
           ],
           "sequentialminus": [
            [
             0,
             "#0d0887"
            ],
            [
             0.1111111111111111,
             "#46039f"
            ],
            [
             0.2222222222222222,
             "#7201a8"
            ],
            [
             0.3333333333333333,
             "#9c179e"
            ],
            [
             0.4444444444444444,
             "#bd3786"
            ],
            [
             0.5555555555555556,
             "#d8576b"
            ],
            [
             0.6666666666666666,
             "#ed7953"
            ],
            [
             0.7777777777777778,
             "#fb9f3a"
            ],
            [
             0.8888888888888888,
             "#fdca26"
            ],
            [
             1,
             "#f0f921"
            ]
           ]
          },
          "colorway": [
           "#636efa",
           "#EF553B",
           "#00cc96",
           "#ab63fa",
           "#FFA15A",
           "#19d3f3",
           "#FF6692",
           "#B6E880",
           "#FF97FF",
           "#FECB52"
          ],
          "font": {
           "color": "#f2f5fa",
           "family": "Fira Code",
           "size": 20
          },
          "geo": {
           "bgcolor": "rgb(17,17,17)",
           "lakecolor": "rgb(17,17,17)",
           "landcolor": "rgb(17,17,17)",
           "showlakes": true,
           "showland": true,
           "subunitcolor": "#506784"
          },
          "hoverlabel": {
           "align": "left"
          },
          "hovermode": "closest",
          "mapbox": {
           "style": "dark"
          },
          "paper_bgcolor": "rgb(17,17,17)",
          "plot_bgcolor": "rgb(17,17,17)",
          "polar": {
           "angularaxis": {
            "gridcolor": "#506784",
            "linecolor": "#506784",
            "ticks": ""
           },
           "bgcolor": "rgb(17,17,17)",
           "radialaxis": {
            "gridcolor": "#506784",
            "linecolor": "#506784",
            "ticks": ""
           }
          },
          "scene": {
           "xaxis": {
            "backgroundcolor": "rgb(17,17,17)",
            "gridcolor": "#506784",
            "gridwidth": 2,
            "linecolor": "#506784",
            "showbackground": true,
            "ticks": "",
            "zerolinecolor": "#C8D4E3"
           },
           "yaxis": {
            "backgroundcolor": "rgb(17,17,17)",
            "gridcolor": "#506784",
            "gridwidth": 2,
            "linecolor": "#506784",
            "showbackground": true,
            "ticks": "",
            "zerolinecolor": "#C8D4E3"
           },
           "zaxis": {
            "backgroundcolor": "rgb(17,17,17)",
            "gridcolor": "#506784",
            "gridwidth": 2,
            "linecolor": "#506784",
            "showbackground": true,
            "ticks": "",
            "zerolinecolor": "#C8D4E3"
           }
          },
          "shapedefaults": {
           "line": {
            "color": "#f2f5fa"
           }
          },
          "sliderdefaults": {
           "bgcolor": "#C8D4E3",
           "bordercolor": "rgb(17,17,17)",
           "borderwidth": 1,
           "tickwidth": 0
          },
          "ternary": {
           "aaxis": {
            "gridcolor": "#506784",
            "linecolor": "#506784",
            "ticks": ""
           },
           "baxis": {
            "gridcolor": "#506784",
            "linecolor": "#506784",
            "ticks": ""
           },
           "bgcolor": "rgb(17,17,17)",
           "caxis": {
            "gridcolor": "#506784",
            "linecolor": "#506784",
            "ticks": ""
           }
          },
          "title": {
           "x": 0.05
          },
          "updatemenudefaults": {
           "bgcolor": "#506784",
           "borderwidth": 0
          },
          "xaxis": {
           "automargin": true,
           "gridcolor": "#283442",
           "linecolor": "#506784",
           "ticks": "",
           "title": {
            "standoff": 15
           },
           "zerolinecolor": "#283442",
           "zerolinewidth": 2
          },
          "yaxis": {
           "automargin": true,
           "gridcolor": "#283442",
           "linecolor": "#506784",
           "ticks": "",
           "title": {
            "standoff": 15
           },
           "zerolinecolor": "#283442",
           "zerolinewidth": 2
          }
         }
        },
        "xaxis": {
         "anchor": "y",
         "categoryarray": [
          "Adelie",
          "Chinstrap",
          "Gentoo"
         ],
         "categoryorder": "array",
         "domain": [
          0,
          1
         ],
         "title": {
          "text": "species"
         }
        },
        "yaxis": {
         "anchor": "x",
         "domain": [
          0,
          1
         ],
         "title": {
          "text": "avg of culmenD"
         }
        }
       }
      }
     },
     "metadata": {},
     "output_type": "display_data"
    }
   ],
   "source": [
    "px.histogram(temp_na,x=\"species\",y=\"culmenD\",color='species',histfunc=\"avg\",text_auto=True,height=700).update_traces(textposition=\"outside\",texttemplate=\"Avg : %{y}\")"
   ]
  },
  {
   "cell_type": "code",
   "execution_count": null,
   "metadata": {},
   "outputs": [],
   "source": []
  },
  {
   "cell_type": "code",
   "execution_count": null,
   "metadata": {},
   "outputs": [],
   "source": []
  },
  {
   "cell_type": "code",
   "execution_count": null,
   "metadata": {},
   "outputs": [],
   "source": []
  },
  {
   "cell_type": "code",
   "execution_count": null,
   "metadata": {},
   "outputs": [],
   "source": []
  },
  {
   "cell_type": "code",
   "execution_count": null,
   "metadata": {},
   "outputs": [],
   "source": []
  },
  {
   "cell_type": "code",
   "execution_count": null,
   "metadata": {},
   "outputs": [],
   "source": []
  },
  {
   "cell_type": "code",
   "execution_count": null,
   "metadata": {},
   "outputs": [],
   "source": []
  },
  {
   "cell_type": "code",
   "execution_count": null,
   "metadata": {},
   "outputs": [],
   "source": []
  },
  {
   "cell_type": "code",
   "execution_count": 21,
   "metadata": {},
   "outputs": [],
   "source": [
    "# ord_enc = OrdinalEncoder().set_output(transform='pandas')\n",
    "# temp_df[['study','species','island','clutch','sex']] = ord_enc.fit_transform(temp_df[['study','species','island','clutch','sex']])\n",
    "# temp_df.head()\n",
    "# kds = mf.ImputationKernel(data=temp_df.drop(columns=['date']),datasets=5,random_state=1991)\n",
    "# kds.mice(1)\n",
    "# plt.rcParams[\"figure.figsize\"] = (20,10)\n",
    "# kds.plot_imputed_distributions(datasets=1)\n",
    "# temp_df = kds.complete_data(dataset=1)\n",
    "# GradientBoostingClassifier().get_params()\n",
    "# gird_params = dict(\n",
    "#     learnig_rate=np.logspace(-6,-1,6),\n",
    "#     max_depth=np.arange(3,16),\n",
    "#     max_leaf_nodes=np.arange(8,32),\n",
    "#     n_estimators=np.arange(100,500,50)\n",
    "#     )"
   ]
  },
  {
   "cell_type": "code",
   "execution_count": null,
   "metadata": {},
   "outputs": [],
   "source": []
  }
 ],
 "metadata": {
  "kernelspec": {
   "display_name": "Python 3 (ipykernel)",
   "language": "python",
   "name": "python3"
  },
  "language_info": {
   "codemirror_mode": {
    "name": "ipython",
    "version": 3
   },
   "file_extension": ".py",
   "mimetype": "text/x-python",
   "name": "python",
   "nbconvert_exporter": "python",
   "pygments_lexer": "ipython3",
   "version": "3.11.4"
  },
  "orig_nbformat": 4
 },
 "nbformat": 4,
 "nbformat_minor": 2
}
