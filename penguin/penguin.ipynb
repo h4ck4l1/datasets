{
 "cells": [
  {
   "cell_type": "code",
   "execution_count": 107,
   "metadata": {},
   "outputs": [],
   "source": [
    "import os,sys,subprocess,time\n",
    "os.environ['TF_CPP_MIN_LOG_LEVEL'] = '3'\n",
    "import numpy as np\n",
    "import pandas as pd\n",
    "pd.set_option(\"display.float_format\",\"{:.2f}\".format)\n",
    "import matplotlib.pyplot as plt\n",
    "import plotly.express as px\n",
    "import plotly.graph_objects as go\n",
    "import plotly.io as pio\n",
    "from plotly.subplots import make_subplots\n",
    "pio.templates[\"mod\"] = go.layout.Template(layout=dict(font=dict(family=\"Fira Code\",size=20)))\n",
    "pio.templates.default = \"plotly_dark+mod\"\n",
    "from zipfile import ZipFile\n",
    "from glob import glob\n",
    "from sklearn.preprocessing import StandardScaler,OrdinalEncoder,MinMaxScaler,RobustScaler,OneHotEncoder\n",
    "from sklearn.ensemble import RandomForestClassifier,GradientBoostingClassifier\n",
    "from sklearn.base import BaseEstimator,TransformerMixin\n",
    "from sklearn.compose import ColumnTransformer\n",
    "from sklearn.model_selection import GridSearchCV,train_test_split,StratifiedShuffleSplit\n",
    "from sklearn.metrics import roc_auc_score,confusion_matrix,accuracy_score,f1_score,precision_recall_curve\n",
    "import miceforest as mf\n",
    "import tensorflow as tf\n",
    "from tensorflow import keras\n",
    "tf.get_logger().setLevel('ERROR')\n",
    "%matplotlib inline"
   ]
  },
  {
   "cell_type": "code",
   "execution_count": 108,
   "metadata": {},
   "outputs": [],
   "source": [
    "peng_lter = pd.read_csv('penguins_lter.csv')"
   ]
  },
  {
   "cell_type": "code",
   "execution_count": 109,
   "metadata": {},
   "outputs": [
    {
     "data": {
      "text/html": [
       "<div>\n",
       "<style scoped>\n",
       "    .dataframe tbody tr th:only-of-type {\n",
       "        vertical-align: middle;\n",
       "    }\n",
       "\n",
       "    .dataframe tbody tr th {\n",
       "        vertical-align: top;\n",
       "    }\n",
       "\n",
       "    .dataframe thead th {\n",
       "        text-align: right;\n",
       "    }\n",
       "</style>\n",
       "<table border=\"1\" class=\"dataframe\">\n",
       "  <thead>\n",
       "    <tr style=\"text-align: right;\">\n",
       "      <th></th>\n",
       "      <th>studyName</th>\n",
       "      <th>Sample Number</th>\n",
       "      <th>Species</th>\n",
       "      <th>Region</th>\n",
       "      <th>Island</th>\n",
       "      <th>Stage</th>\n",
       "      <th>Individual ID</th>\n",
       "      <th>Clutch Completion</th>\n",
       "      <th>Date Egg</th>\n",
       "      <th>Culmen Length (mm)</th>\n",
       "      <th>Culmen Depth (mm)</th>\n",
       "      <th>Flipper Length (mm)</th>\n",
       "      <th>Body Mass (g)</th>\n",
       "      <th>Sex</th>\n",
       "      <th>Delta 15 N (o/oo)</th>\n",
       "      <th>Delta 13 C (o/oo)</th>\n",
       "      <th>Comments</th>\n",
       "    </tr>\n",
       "  </thead>\n",
       "  <tbody>\n",
       "    <tr>\n",
       "      <th>0</th>\n",
       "      <td>PAL0708</td>\n",
       "      <td>1</td>\n",
       "      <td>Adelie Penguin (Pygoscelis adeliae)</td>\n",
       "      <td>Anvers</td>\n",
       "      <td>Torgersen</td>\n",
       "      <td>Adult, 1 Egg Stage</td>\n",
       "      <td>N1A1</td>\n",
       "      <td>Yes</td>\n",
       "      <td>11/11/07</td>\n",
       "      <td>39.10</td>\n",
       "      <td>18.70</td>\n",
       "      <td>181.00</td>\n",
       "      <td>3750.00</td>\n",
       "      <td>MALE</td>\n",
       "      <td>NaN</td>\n",
       "      <td>NaN</td>\n",
       "      <td>Not enough blood for isotopes.</td>\n",
       "    </tr>\n",
       "    <tr>\n",
       "      <th>1</th>\n",
       "      <td>PAL0708</td>\n",
       "      <td>2</td>\n",
       "      <td>Adelie Penguin (Pygoscelis adeliae)</td>\n",
       "      <td>Anvers</td>\n",
       "      <td>Torgersen</td>\n",
       "      <td>Adult, 1 Egg Stage</td>\n",
       "      <td>N1A2</td>\n",
       "      <td>Yes</td>\n",
       "      <td>11/11/07</td>\n",
       "      <td>39.50</td>\n",
       "      <td>17.40</td>\n",
       "      <td>186.00</td>\n",
       "      <td>3800.00</td>\n",
       "      <td>FEMALE</td>\n",
       "      <td>8.95</td>\n",
       "      <td>-24.69</td>\n",
       "      <td>NaN</td>\n",
       "    </tr>\n",
       "    <tr>\n",
       "      <th>2</th>\n",
       "      <td>PAL0708</td>\n",
       "      <td>3</td>\n",
       "      <td>Adelie Penguin (Pygoscelis adeliae)</td>\n",
       "      <td>Anvers</td>\n",
       "      <td>Torgersen</td>\n",
       "      <td>Adult, 1 Egg Stage</td>\n",
       "      <td>N2A1</td>\n",
       "      <td>Yes</td>\n",
       "      <td>11/16/07</td>\n",
       "      <td>40.30</td>\n",
       "      <td>18.00</td>\n",
       "      <td>195.00</td>\n",
       "      <td>3250.00</td>\n",
       "      <td>FEMALE</td>\n",
       "      <td>8.37</td>\n",
       "      <td>-25.33</td>\n",
       "      <td>NaN</td>\n",
       "    </tr>\n",
       "  </tbody>\n",
       "</table>\n",
       "</div>"
      ],
      "text/plain": [
       "  studyName  Sample Number                              Species  Region  \\\n",
       "0   PAL0708              1  Adelie Penguin (Pygoscelis adeliae)  Anvers   \n",
       "1   PAL0708              2  Adelie Penguin (Pygoscelis adeliae)  Anvers   \n",
       "2   PAL0708              3  Adelie Penguin (Pygoscelis adeliae)  Anvers   \n",
       "\n",
       "      Island               Stage Individual ID Clutch Completion  Date Egg  \\\n",
       "0  Torgersen  Adult, 1 Egg Stage          N1A1               Yes  11/11/07   \n",
       "1  Torgersen  Adult, 1 Egg Stage          N1A2               Yes  11/11/07   \n",
       "2  Torgersen  Adult, 1 Egg Stage          N2A1               Yes  11/16/07   \n",
       "\n",
       "   Culmen Length (mm)  Culmen Depth (mm)  Flipper Length (mm)  Body Mass (g)  \\\n",
       "0               39.10              18.70               181.00        3750.00   \n",
       "1               39.50              17.40               186.00        3800.00   \n",
       "2               40.30              18.00               195.00        3250.00   \n",
       "\n",
       "      Sex  Delta 15 N (o/oo)  Delta 13 C (o/oo)  \\\n",
       "0    MALE                NaN                NaN   \n",
       "1  FEMALE               8.95             -24.69   \n",
       "2  FEMALE               8.37             -25.33   \n",
       "\n",
       "                         Comments  \n",
       "0  Not enough blood for isotopes.  \n",
       "1                             NaN  \n",
       "2                             NaN  "
      ]
     },
     "execution_count": 109,
     "metadata": {},
     "output_type": "execute_result"
    }
   ],
   "source": [
    "peng_lter.head(3)"
   ]
  },
  {
   "cell_type": "code",
   "execution_count": 110,
   "metadata": {},
   "outputs": [
    {
     "data": {
      "text/plain": [
       "(344, 17)"
      ]
     },
     "execution_count": 110,
     "metadata": {},
     "output_type": "execute_result"
    }
   ],
   "source": [
    "peng_lter.shape"
   ]
  },
  {
   "cell_type": "code",
   "execution_count": 111,
   "metadata": {},
   "outputs": [
    {
     "data": {
      "text/html": [
       "<div>\n",
       "<style scoped>\n",
       "    .dataframe tbody tr th:only-of-type {\n",
       "        vertical-align: middle;\n",
       "    }\n",
       "\n",
       "    .dataframe tbody tr th {\n",
       "        vertical-align: top;\n",
       "    }\n",
       "\n",
       "    .dataframe thead th {\n",
       "        text-align: right;\n",
       "    }\n",
       "</style>\n",
       "<table border=\"1\" class=\"dataframe\">\n",
       "  <thead>\n",
       "    <tr style=\"text-align: right;\">\n",
       "      <th></th>\n",
       "      <th>Sample Number</th>\n",
       "      <th>Culmen Length (mm)</th>\n",
       "      <th>Culmen Depth (mm)</th>\n",
       "      <th>Flipper Length (mm)</th>\n",
       "      <th>Body Mass (g)</th>\n",
       "      <th>Delta 15 N (o/oo)</th>\n",
       "      <th>Delta 13 C (o/oo)</th>\n",
       "    </tr>\n",
       "  </thead>\n",
       "  <tbody>\n",
       "    <tr>\n",
       "      <th>count</th>\n",
       "      <td>344.00</td>\n",
       "      <td>342.00</td>\n",
       "      <td>342.00</td>\n",
       "      <td>342.00</td>\n",
       "      <td>342.00</td>\n",
       "      <td>330.00</td>\n",
       "      <td>331.00</td>\n",
       "    </tr>\n",
       "    <tr>\n",
       "      <th>mean</th>\n",
       "      <td>63.15</td>\n",
       "      <td>43.92</td>\n",
       "      <td>17.15</td>\n",
       "      <td>200.92</td>\n",
       "      <td>4201.75</td>\n",
       "      <td>8.73</td>\n",
       "      <td>-25.69</td>\n",
       "    </tr>\n",
       "    <tr>\n",
       "      <th>std</th>\n",
       "      <td>40.43</td>\n",
       "      <td>5.46</td>\n",
       "      <td>1.97</td>\n",
       "      <td>14.06</td>\n",
       "      <td>801.95</td>\n",
       "      <td>0.55</td>\n",
       "      <td>0.79</td>\n",
       "    </tr>\n",
       "    <tr>\n",
       "      <th>min</th>\n",
       "      <td>1.00</td>\n",
       "      <td>32.10</td>\n",
       "      <td>13.10</td>\n",
       "      <td>172.00</td>\n",
       "      <td>2700.00</td>\n",
       "      <td>7.63</td>\n",
       "      <td>-27.02</td>\n",
       "    </tr>\n",
       "    <tr>\n",
       "      <th>25%</th>\n",
       "      <td>29.00</td>\n",
       "      <td>39.23</td>\n",
       "      <td>15.60</td>\n",
       "      <td>190.00</td>\n",
       "      <td>3550.00</td>\n",
       "      <td>8.30</td>\n",
       "      <td>-26.32</td>\n",
       "    </tr>\n",
       "    <tr>\n",
       "      <th>50%</th>\n",
       "      <td>58.00</td>\n",
       "      <td>44.45</td>\n",
       "      <td>17.30</td>\n",
       "      <td>197.00</td>\n",
       "      <td>4050.00</td>\n",
       "      <td>8.65</td>\n",
       "      <td>-25.83</td>\n",
       "    </tr>\n",
       "    <tr>\n",
       "      <th>75%</th>\n",
       "      <td>95.25</td>\n",
       "      <td>48.50</td>\n",
       "      <td>18.70</td>\n",
       "      <td>213.00</td>\n",
       "      <td>4750.00</td>\n",
       "      <td>9.17</td>\n",
       "      <td>-25.06</td>\n",
       "    </tr>\n",
       "    <tr>\n",
       "      <th>max</th>\n",
       "      <td>152.00</td>\n",
       "      <td>59.60</td>\n",
       "      <td>21.50</td>\n",
       "      <td>231.00</td>\n",
       "      <td>6300.00</td>\n",
       "      <td>10.03</td>\n",
       "      <td>-23.79</td>\n",
       "    </tr>\n",
       "  </tbody>\n",
       "</table>\n",
       "</div>"
      ],
      "text/plain": [
       "       Sample Number  Culmen Length (mm)  Culmen Depth (mm)  \\\n",
       "count         344.00              342.00             342.00   \n",
       "mean           63.15               43.92              17.15   \n",
       "std            40.43                5.46               1.97   \n",
       "min             1.00               32.10              13.10   \n",
       "25%            29.00               39.23              15.60   \n",
       "50%            58.00               44.45              17.30   \n",
       "75%            95.25               48.50              18.70   \n",
       "max           152.00               59.60              21.50   \n",
       "\n",
       "       Flipper Length (mm)  Body Mass (g)  Delta 15 N (o/oo)  \\\n",
       "count               342.00         342.00             330.00   \n",
       "mean                200.92        4201.75               8.73   \n",
       "std                  14.06         801.95               0.55   \n",
       "min                 172.00        2700.00               7.63   \n",
       "25%                 190.00        3550.00               8.30   \n",
       "50%                 197.00        4050.00               8.65   \n",
       "75%                 213.00        4750.00               9.17   \n",
       "max                 231.00        6300.00              10.03   \n",
       "\n",
       "       Delta 13 C (o/oo)  \n",
       "count             331.00  \n",
       "mean              -25.69  \n",
       "std                 0.79  \n",
       "min               -27.02  \n",
       "25%               -26.32  \n",
       "50%               -25.83  \n",
       "75%               -25.06  \n",
       "max               -23.79  "
      ]
     },
     "execution_count": 111,
     "metadata": {},
     "output_type": "execute_result"
    }
   ],
   "source": [
    "peng_lter.describe()"
   ]
  },
  {
   "cell_type": "code",
   "execution_count": 112,
   "metadata": {},
   "outputs": [
    {
     "name": "stdout",
     "output_type": "stream",
     "text": [
      "<class 'pandas.core.frame.DataFrame'>\n",
      "RangeIndex: 344 entries, 0 to 343\n",
      "Data columns (total 17 columns):\n",
      " #   Column               Non-Null Count  Dtype  \n",
      "---  ------               --------------  -----  \n",
      " 0   studyName            344 non-null    object \n",
      " 1   Sample Number        344 non-null    int64  \n",
      " 2   Species              344 non-null    object \n",
      " 3   Region               344 non-null    object \n",
      " 4   Island               344 non-null    object \n",
      " 5   Stage                344 non-null    object \n",
      " 6   Individual ID        344 non-null    object \n",
      " 7   Clutch Completion    344 non-null    object \n",
      " 8   Date Egg             344 non-null    object \n",
      " 9   Culmen Length (mm)   342 non-null    float64\n",
      " 10  Culmen Depth (mm)    342 non-null    float64\n",
      " 11  Flipper Length (mm)  342 non-null    float64\n",
      " 12  Body Mass (g)        342 non-null    float64\n",
      " 13  Sex                  334 non-null    object \n",
      " 14  Delta 15 N (o/oo)    330 non-null    float64\n",
      " 15  Delta 13 C (o/oo)    331 non-null    float64\n",
      " 16  Comments             26 non-null     object \n",
      "dtypes: float64(6), int64(1), object(10)\n",
      "memory usage: 45.8+ KB\n"
     ]
    }
   ],
   "source": [
    "peng_lter.info()"
   ]
  },
  {
   "cell_type": "markdown",
   "metadata": {},
   "source": [
    "As comments column is heavily downsized and missing we can omit it<br>\n",
    "As this is heavily specie-related dataset lets clean the species column first<br>\n",
    "since there is only one Region we can drop it<br>\n",
    "since there is only one Stage we can drop it"
   ]
  },
  {
   "cell_type": "code",
   "execution_count": 113,
   "metadata": {},
   "outputs": [],
   "source": [
    "def preprocess(data:pd.DataFrame):\n",
    "   df = data.drop([\"Comments\"],axis=1)\n",
    "   df[\"Species\"] = df.Species.str.split(n=1,expand=True)[0]\n",
    "   df.drop(columns=['Region'],inplace=True)\n",
    "   df.drop(columns=['Stage'],inplace=True)\n",
    "   df[['N','A']] =df['Individual ID'].str.split(r'(\\d+)',expand=True)[[1,3]]\n",
    "   df['Date Egg'] = pd.to_datetime(df['Date Egg'],format='mixed')\n",
    "   df.drop(columns=['Individual ID'],inplace=True)\n",
    "   original_columns =df.columns.to_list()\n",
    "   df.columns = ['study','samples','species','island','clutch','date','culmenL','culmenD','flipperL','bmass','sex','delta_15n','delta_13c','N','A']\n",
    "   df[['N','A']] =df[['N','A']].astype(np.float32)\n",
    "   return df"
   ]
  },
  {
   "cell_type": "markdown",
   "metadata": {},
   "source": [
    "<font size=4>\n",
    "\n",
    "|Column Name|Description|Type|\n",
    "|:----------|:----------|:---|\n",
    "|StudyName|Sampling expedition from which data were collected, generated, etc.|categorical|\n",
    "|SampleNumber|an integer denoting the continuous numbering sequence for each sample|categorical|\n",
    "|Species|a character string denoting the penguin species|categorical|\n",
    "|Region|a character string denoting the region of Palmer LTER sampling grid|categorical|\n",
    "|Island|a character string denoting the island near Palmer Station where samples were collected|categorical|\n",
    "|Stage|a character string denoting reproductive stage at sampling|categorical|\n",
    "|IndividualID|a character string denoting the unique ID for each individual in dataset|categorical|\n",
    "|Clutch Completion|a character string denoting if the study nest observed with a full clutch, i.e., 2 eggs|categorical|\n",
    "|Date Egg|a date denoting the date study nest observed with 1 egg (sampled)|continuous|\n",
    "|Culmen Length|a number denoting the length of the dorsal ridge of a bird's bill (millimeters)|continuous|\n",
    "|Culmen Depth|a number denoting the depth of the dorsal ridge of a bird's bill (millimeters)|continuous|\n",
    "|Flipper Length|an integer denoting the length penguin flipper (millimeters)|continuous|\n",
    "|Body Mass|an integer denoting the penguin body mass (grams)|continuous|\n",
    "|Sex|a character string denoting the sex of an animal|categorical|\n",
    "|Delta 15 N|a number denoting the measure of the ratio of stable isotopes 15N:14N|continuous|\n",
    "|Delta 13 C|a number denoting the measure of the ratio of stable isotopes 13C:12C|continuous|\n",
    "|N|Individual Number assigned to penguin|categorical|\n",
    "|A|Individual Number assigned to penguin|categorical|"
   ]
  },
  {
   "cell_type": "code",
   "execution_count": 114,
   "metadata": {},
   "outputs": [],
   "source": [
    "temp_df = preprocess(peng_lter)"
   ]
  },
  {
   "cell_type": "code",
   "execution_count": 115,
   "metadata": {},
   "outputs": [
    {
     "data": {
      "text/html": [
       "<div>\n",
       "<style scoped>\n",
       "    .dataframe tbody tr th:only-of-type {\n",
       "        vertical-align: middle;\n",
       "    }\n",
       "\n",
       "    .dataframe tbody tr th {\n",
       "        vertical-align: top;\n",
       "    }\n",
       "\n",
       "    .dataframe thead th {\n",
       "        text-align: right;\n",
       "    }\n",
       "</style>\n",
       "<table border=\"1\" class=\"dataframe\">\n",
       "  <thead>\n",
       "    <tr style=\"text-align: right;\">\n",
       "      <th></th>\n",
       "      <th>study</th>\n",
       "      <th>samples</th>\n",
       "      <th>species</th>\n",
       "      <th>island</th>\n",
       "      <th>clutch</th>\n",
       "      <th>date</th>\n",
       "      <th>culmenL</th>\n",
       "      <th>culmenD</th>\n",
       "      <th>flipperL</th>\n",
       "      <th>bmass</th>\n",
       "      <th>sex</th>\n",
       "      <th>delta_15n</th>\n",
       "      <th>delta_13c</th>\n",
       "      <th>N</th>\n",
       "      <th>A</th>\n",
       "    </tr>\n",
       "  </thead>\n",
       "  <tbody>\n",
       "    <tr>\n",
       "      <th>0</th>\n",
       "      <td>PAL0708</td>\n",
       "      <td>1</td>\n",
       "      <td>Adelie</td>\n",
       "      <td>Torgersen</td>\n",
       "      <td>Yes</td>\n",
       "      <td>2007-11-11</td>\n",
       "      <td>39.10</td>\n",
       "      <td>18.70</td>\n",
       "      <td>181.00</td>\n",
       "      <td>3750.00</td>\n",
       "      <td>MALE</td>\n",
       "      <td>NaN</td>\n",
       "      <td>NaN</td>\n",
       "      <td>1.00</td>\n",
       "      <td>1.00</td>\n",
       "    </tr>\n",
       "    <tr>\n",
       "      <th>1</th>\n",
       "      <td>PAL0708</td>\n",
       "      <td>2</td>\n",
       "      <td>Adelie</td>\n",
       "      <td>Torgersen</td>\n",
       "      <td>Yes</td>\n",
       "      <td>2007-11-11</td>\n",
       "      <td>39.50</td>\n",
       "      <td>17.40</td>\n",
       "      <td>186.00</td>\n",
       "      <td>3800.00</td>\n",
       "      <td>FEMALE</td>\n",
       "      <td>8.95</td>\n",
       "      <td>-24.69</td>\n",
       "      <td>1.00</td>\n",
       "      <td>2.00</td>\n",
       "    </tr>\n",
       "    <tr>\n",
       "      <th>2</th>\n",
       "      <td>PAL0708</td>\n",
       "      <td>3</td>\n",
       "      <td>Adelie</td>\n",
       "      <td>Torgersen</td>\n",
       "      <td>Yes</td>\n",
       "      <td>2007-11-16</td>\n",
       "      <td>40.30</td>\n",
       "      <td>18.00</td>\n",
       "      <td>195.00</td>\n",
       "      <td>3250.00</td>\n",
       "      <td>FEMALE</td>\n",
       "      <td>8.37</td>\n",
       "      <td>-25.33</td>\n",
       "      <td>2.00</td>\n",
       "      <td>1.00</td>\n",
       "    </tr>\n",
       "    <tr>\n",
       "      <th>3</th>\n",
       "      <td>PAL0708</td>\n",
       "      <td>4</td>\n",
       "      <td>Adelie</td>\n",
       "      <td>Torgersen</td>\n",
       "      <td>Yes</td>\n",
       "      <td>2007-11-16</td>\n",
       "      <td>NaN</td>\n",
       "      <td>NaN</td>\n",
       "      <td>NaN</td>\n",
       "      <td>NaN</td>\n",
       "      <td>NaN</td>\n",
       "      <td>NaN</td>\n",
       "      <td>NaN</td>\n",
       "      <td>2.00</td>\n",
       "      <td>2.00</td>\n",
       "    </tr>\n",
       "    <tr>\n",
       "      <th>4</th>\n",
       "      <td>PAL0708</td>\n",
       "      <td>5</td>\n",
       "      <td>Adelie</td>\n",
       "      <td>Torgersen</td>\n",
       "      <td>Yes</td>\n",
       "      <td>2007-11-16</td>\n",
       "      <td>36.70</td>\n",
       "      <td>19.30</td>\n",
       "      <td>193.00</td>\n",
       "      <td>3450.00</td>\n",
       "      <td>FEMALE</td>\n",
       "      <td>8.77</td>\n",
       "      <td>-25.32</td>\n",
       "      <td>3.00</td>\n",
       "      <td>1.00</td>\n",
       "    </tr>\n",
       "  </tbody>\n",
       "</table>\n",
       "</div>"
      ],
      "text/plain": [
       "     study  samples species     island clutch       date  culmenL  culmenD  \\\n",
       "0  PAL0708        1  Adelie  Torgersen    Yes 2007-11-11    39.10    18.70   \n",
       "1  PAL0708        2  Adelie  Torgersen    Yes 2007-11-11    39.50    17.40   \n",
       "2  PAL0708        3  Adelie  Torgersen    Yes 2007-11-16    40.30    18.00   \n",
       "3  PAL0708        4  Adelie  Torgersen    Yes 2007-11-16      NaN      NaN   \n",
       "4  PAL0708        5  Adelie  Torgersen    Yes 2007-11-16    36.70    19.30   \n",
       "\n",
       "   flipperL   bmass     sex  delta_15n  delta_13c    N    A  \n",
       "0    181.00 3750.00    MALE        NaN        NaN 1.00 1.00  \n",
       "1    186.00 3800.00  FEMALE       8.95     -24.69 1.00 2.00  \n",
       "2    195.00 3250.00  FEMALE       8.37     -25.33 2.00 1.00  \n",
       "3       NaN     NaN     NaN        NaN        NaN 2.00 2.00  \n",
       "4    193.00 3450.00  FEMALE       8.77     -25.32 3.00 1.00  "
      ]
     },
     "execution_count": 115,
     "metadata": {},
     "output_type": "execute_result"
    }
   ],
   "source": [
    "temp_df.head()"
   ]
  },
  {
   "cell_type": "code",
   "execution_count": 116,
   "metadata": {},
   "outputs": [],
   "source": [
    "temp_na = temp_df.dropna()"
   ]
  },
  {
   "cell_type": "markdown",
   "metadata": {},
   "source": [
    "# Univariate Analysis"
   ]
  },
  {
   "cell_type": "markdown",
   "metadata": {},
   "source": [
    "## Continuous"
   ]
  },
  {
   "cell_type": "markdown",
   "metadata": {},
   "source": [
    "### Date"
   ]
  },
  {
   "cell_type": "code",
   "execution_count": 117,
   "metadata": {},
   "outputs": [
    {
     "data": {
      "text/plain": [
       "array([2007, 2008, 2009], dtype=int32)"
      ]
     },
     "execution_count": 117,
     "metadata": {},
     "output_type": "execute_result"
    }
   ],
   "source": [
    "years = temp_na.date.dt.year.unique()\n",
    "years"
   ]
  },
  {
   "cell_type": "markdown",
   "metadata": {},
   "source": [
    "There are three years [ 2007  2008  2009 ]"
   ]
  },
  {
   "cell_type": "code",
   "execution_count": 118,
   "metadata": {},
   "outputs": [
    {
     "data": {
      "application/vnd.plotly.v1+json": {
       "config": {
        "plotlyServerURL": "https://plot.ly"
       },
       "data": [
        {
         "line": {
          "color": "#636EFA"
         },
         "mode": "lines",
         "name": "2007",
         "type": "scatter",
         "x": [
          "2007-11-11T00:00:00",
          "2007-11-16T00:00:00",
          "2007-11-16T00:00:00",
          "2007-11-16T00:00:00",
          "2007-11-15T00:00:00",
          "2007-11-15T00:00:00",
          "2007-11-16T00:00:00",
          "2007-11-12T00:00:00",
          "2007-11-12T00:00:00",
          "2007-11-16T00:00:00",
          "2007-11-16T00:00:00",
          "2007-11-12T00:00:00",
          "2007-11-12T00:00:00",
          "2007-11-12T00:00:00",
          "2007-11-12T00:00:00",
          "2007-11-10T00:00:00",
          "2007-11-10T00:00:00",
          "2007-11-12T00:00:00",
          "2007-11-12T00:00:00",
          "2007-11-10T00:00:00",
          "2007-11-10T00:00:00",
          "2007-11-09T00:00:00",
          "2007-11-09T00:00:00",
          "2007-11-09T00:00:00",
          "2007-11-09T00:00:00",
          "2007-11-16T00:00:00",
          "2007-11-16T00:00:00",
          "2007-11-16T00:00:00",
          "2007-11-16T00:00:00",
          "2007-11-13T00:00:00",
          "2007-11-16T00:00:00",
          "2007-11-19T00:00:00",
          "2007-11-19T00:00:00",
          "2007-11-16T00:00:00",
          "2007-11-16T00:00:00",
          "2007-11-13T00:00:00",
          "2007-11-13T00:00:00",
          "2007-11-19T00:00:00",
          "2007-11-19T00:00:00",
          "2007-11-26T00:00:00",
          "2007-11-26T00:00:00",
          "2007-11-21T00:00:00",
          "2007-11-21T00:00:00",
          "2007-11-28T00:00:00",
          "2007-11-28T00:00:00",
          "2007-11-21T00:00:00",
          "2007-11-21T00:00:00",
          "2007-11-28T00:00:00",
          "2007-11-28T00:00:00",
          "2007-11-26T00:00:00",
          "2007-11-26T00:00:00",
          "2007-11-22T00:00:00",
          "2007-11-22T00:00:00",
          "2007-11-30T00:00:00",
          "2007-11-30T00:00:00",
          "2007-11-30T00:00:00",
          "2007-11-30T00:00:00",
          "2007-12-03T00:00:00",
          "2007-12-03T00:00:00",
          "2007-11-28T00:00:00",
          "2007-11-28T00:00:00",
          "2007-11-28T00:00:00",
          "2007-11-28T00:00:00",
          "2007-11-27T00:00:00",
          "2007-11-27T00:00:00",
          "2007-11-27T00:00:00",
          "2007-11-27T00:00:00",
          "2007-11-18T00:00:00",
          "2007-11-18T00:00:00",
          "2007-11-27T00:00:00",
          "2007-11-27T00:00:00",
          "2007-11-27T00:00:00",
          "2007-11-27T00:00:00",
          "2007-11-27T00:00:00",
          "2007-11-27T00:00:00",
          "2007-11-29T00:00:00",
          "2007-11-29T00:00:00",
          "2007-12-03T00:00:00",
          "2007-12-03T00:00:00",
          "2007-11-27T00:00:00",
          "2007-11-27T00:00:00",
          "2007-11-27T00:00:00",
          "2007-11-27T00:00:00",
          "2007-11-27T00:00:00",
          "2007-11-27T00:00:00",
          "2007-11-27T00:00:00",
          "2007-11-27T00:00:00",
          "2007-11-29T00:00:00",
          "2007-11-29T00:00:00",
          "2007-11-29T00:00:00",
          "2007-11-29T00:00:00",
          "2007-11-29T00:00:00",
          "2007-11-29T00:00:00",
          "2007-12-03T00:00:00",
          "2007-12-03T00:00:00"
         ],
         "y": [
          1,
          1,
          1,
          1,
          1,
          1,
          1,
          1,
          1,
          1,
          1,
          1,
          1,
          1,
          1,
          1,
          1,
          1,
          1,
          1,
          1,
          1,
          1,
          1,
          1,
          1,
          1,
          1,
          1,
          1,
          1,
          1,
          1,
          1,
          1,
          1,
          1,
          1,
          1,
          1,
          1,
          1,
          1,
          1,
          1,
          1,
          1,
          1,
          1,
          1,
          1,
          1,
          1,
          1,
          1,
          1,
          1,
          1,
          1,
          1,
          1,
          1,
          1,
          1,
          1,
          1,
          1,
          1,
          1,
          1,
          1,
          1,
          1,
          1,
          1,
          1,
          1,
          1,
          1,
          1,
          1,
          1,
          1,
          1,
          1,
          1,
          1,
          1,
          1,
          1,
          1,
          1,
          1,
          1,
          1
         ]
        },
        {
         "marker": {
          "color": "#636EFA"
         },
         "mode": "markers",
         "name": "extra",
         "showlegend": false,
         "type": "scatter",
         "x": [
          "2007-11-09T00:00:00",
          "2007-12-03T00:00:00"
         ],
         "y": [
          1,
          1
         ]
        },
        {
         "line": {
          "color": "#EF553B"
         },
         "mode": "lines",
         "name": "2008",
         "type": "scatter",
         "x": [
          "2008-11-06T00:00:00",
          "2008-11-06T00:00:00",
          "2008-11-09T00:00:00",
          "2008-11-09T00:00:00",
          "2008-11-09T00:00:00",
          "2008-11-09T00:00:00",
          "2008-11-15T00:00:00",
          "2008-11-15T00:00:00",
          "2008-11-15T00:00:00",
          "2008-11-15T00:00:00",
          "2008-11-13T00:00:00",
          "2008-11-13T00:00:00",
          "2008-11-13T00:00:00",
          "2008-11-13T00:00:00",
          "2008-11-13T00:00:00",
          "2008-11-13T00:00:00",
          "2008-11-06T00:00:00",
          "2008-11-06T00:00:00",
          "2008-11-11T00:00:00",
          "2008-11-11T00:00:00",
          "2008-11-14T00:00:00",
          "2008-11-14T00:00:00",
          "2008-11-11T00:00:00",
          "2008-11-11T00:00:00",
          "2008-11-08T00:00:00",
          "2008-11-08T00:00:00",
          "2008-11-06T00:00:00",
          "2008-11-06T00:00:00",
          "2008-11-09T00:00:00",
          "2008-11-09T00:00:00",
          "2008-11-02T00:00:00",
          "2008-11-02T00:00:00",
          "2008-11-07T00:00:00",
          "2008-11-07T00:00:00",
          "2008-11-17T00:00:00",
          "2008-11-17T00:00:00",
          "2008-11-08T00:00:00",
          "2008-11-08T00:00:00",
          "2008-11-08T00:00:00",
          "2008-11-08T00:00:00",
          "2008-11-14T00:00:00",
          "2008-11-14T00:00:00",
          "2008-11-05T00:00:00",
          "2008-11-05T00:00:00",
          "2008-11-17T00:00:00",
          "2008-11-17T00:00:00",
          "2008-11-08T00:00:00",
          "2008-11-08T00:00:00",
          "2008-11-10T00:00:00",
          "2008-11-10T00:00:00",
          "2008-11-25T00:00:00",
          "2008-11-25T00:00:00",
          "2008-11-14T00:00:00",
          "2008-11-14T00:00:00",
          "2008-11-24T00:00:00",
          "2008-11-24T00:00:00",
          "2008-11-24T00:00:00",
          "2008-11-24T00:00:00",
          "2008-11-25T00:00:00",
          "2008-11-25T00:00:00",
          "2008-11-14T00:00:00",
          "2008-11-14T00:00:00",
          "2008-11-24T00:00:00",
          "2008-11-24T00:00:00",
          "2008-11-24T00:00:00",
          "2008-11-24T00:00:00",
          "2008-11-14T00:00:00",
          "2008-11-14T00:00:00",
          "2008-11-13T00:00:00",
          "2008-11-13T00:00:00",
          "2008-11-02T00:00:00",
          "2008-11-02T00:00:00",
          "2008-11-09T00:00:00",
          "2008-11-09T00:00:00",
          "2008-11-04T00:00:00",
          "2008-11-04T00:00:00",
          "2008-11-04T00:00:00",
          "2008-11-04T00:00:00",
          "2008-11-03T00:00:00",
          "2008-11-03T00:00:00",
          "2008-11-09T00:00:00",
          "2008-11-09T00:00:00",
          "2008-11-02T00:00:00",
          "2008-11-02T00:00:00",
          "2008-11-04T00:00:00",
          "2008-11-04T00:00:00",
          "2008-11-04T00:00:00",
          "2008-11-04T00:00:00",
          "2008-11-04T00:00:00",
          "2008-11-04T00:00:00",
          "2008-11-03T00:00:00",
          "2008-11-03T00:00:00",
          "2008-11-06T00:00:00",
          "2008-11-06T00:00:00",
          "2008-11-03T00:00:00",
          "2008-11-03T00:00:00",
          "2008-11-13T00:00:00",
          "2008-11-13T00:00:00",
          "2008-11-04T00:00:00",
          "2008-11-04T00:00:00",
          "2008-11-09T00:00:00",
          "2008-11-13T00:00:00",
          "2008-11-13T00:00:00",
          "2008-11-03T00:00:00",
          "2008-11-03T00:00:00",
          "2008-11-09T00:00:00",
          "2008-11-09T00:00:00",
          "2008-11-06T00:00:00",
          "2008-11-06T00:00:00",
          "2008-11-06T00:00:00",
          "2008-11-06T00:00:00",
          "2008-11-09T00:00:00",
          "2008-11-09T00:00:00"
         ],
         "y": [
          1,
          1,
          1,
          1,
          1,
          1,
          1,
          1,
          1,
          1,
          1,
          1,
          1,
          1,
          1,
          1,
          1,
          1,
          1,
          1,
          1,
          1,
          1,
          1,
          1,
          1,
          1,
          1,
          1,
          1,
          1,
          1,
          1,
          1,
          1,
          1,
          1,
          1,
          1,
          1,
          1,
          1,
          1,
          1,
          1,
          1,
          1,
          1,
          1,
          1,
          1,
          1,
          1,
          1,
          1,
          1,
          1,
          1,
          1,
          1,
          1,
          1,
          1,
          1,
          1,
          1,
          1,
          1,
          1,
          1,
          1,
          1,
          1,
          1,
          1,
          1,
          1,
          1,
          1,
          1,
          1,
          1,
          1,
          1,
          1,
          1,
          1,
          1,
          1,
          1,
          1,
          1,
          1,
          1,
          1,
          1,
          1,
          1,
          1,
          1,
          1,
          1,
          1,
          1,
          1,
          1,
          1,
          1,
          1,
          1,
          1,
          1,
          1
         ]
        },
        {
         "marker": {
          "color": "#EF553B"
         },
         "mode": "markers",
         "name": "extra",
         "showlegend": false,
         "type": "scatter",
         "x": [
          "2008-11-02T00:00:00",
          "2008-11-25T00:00:00"
         ],
         "y": [
          1,
          1
         ]
        },
        {
         "line": {
          "color": "#00CC96"
         },
         "mode": "lines",
         "name": "2009",
         "type": "scatter",
         "x": [
          "2009-11-09T00:00:00",
          "2009-11-09T00:00:00",
          "2009-11-15T00:00:00",
          "2009-11-15T00:00:00",
          "2009-11-15T00:00:00",
          "2009-11-15T00:00:00",
          "2009-11-15T00:00:00",
          "2009-11-15T00:00:00",
          "2009-11-20T00:00:00",
          "2009-11-20T00:00:00",
          "2009-11-12T00:00:00",
          "2009-11-12T00:00:00",
          "2009-11-15T00:00:00",
          "2009-11-15T00:00:00",
          "2009-11-17T00:00:00",
          "2009-11-17T00:00:00",
          "2009-11-18T00:00:00",
          "2009-11-18T00:00:00",
          "2009-11-22T00:00:00",
          "2009-11-22T00:00:00",
          "2009-11-17T00:00:00",
          "2009-11-17T00:00:00",
          "2009-11-16T00:00:00",
          "2009-11-16T00:00:00",
          "2009-11-18T00:00:00",
          "2009-11-18T00:00:00",
          "2009-11-21T00:00:00",
          "2009-11-21T00:00:00",
          "2009-11-18T00:00:00",
          "2009-11-18T00:00:00",
          "2009-11-23T00:00:00",
          "2009-11-23T00:00:00",
          "2009-11-10T00:00:00",
          "2009-11-10T00:00:00",
          "2009-11-13T00:00:00",
          "2009-11-13T00:00:00",
          "2009-11-16T00:00:00",
          "2009-11-16T00:00:00",
          "2009-11-16T00:00:00",
          "2009-11-16T00:00:00",
          "2009-11-14T00:00:00",
          "2009-11-14T00:00:00",
          "2009-11-16T00:00:00",
          "2009-11-16T00:00:00",
          "2009-11-16T00:00:00",
          "2009-11-16T00:00:00",
          "2009-11-13T00:00:00",
          "2009-11-13T00:00:00",
          "2009-11-17T00:00:00",
          "2009-11-17T00:00:00",
          "2009-11-17T00:00:00",
          "2009-11-17T00:00:00",
          "2009-11-17T00:00:00",
          "2009-11-17T00:00:00",
          "2009-11-27T00:00:00",
          "2009-11-27T00:00:00",
          "2009-11-23T00:00:00",
          "2009-11-23T00:00:00",
          "2009-11-21T00:00:00",
          "2009-11-21T00:00:00",
          "2009-11-23T00:00:00",
          "2009-11-23T00:00:00",
          "2009-11-27T00:00:00",
          "2009-11-27T00:00:00",
          "2009-11-21T00:00:00",
          "2009-11-21T00:00:00",
          "2009-11-21T00:00:00",
          "2009-11-21T00:00:00",
          "2009-11-27T00:00:00",
          "2009-11-19T00:00:00",
          "2009-11-19T00:00:00",
          "2009-11-21T00:00:00",
          "2009-11-21T00:00:00",
          "2009-11-21T00:00:00",
          "2009-11-21T00:00:00",
          "2009-11-18T00:00:00",
          "2009-11-18T00:00:00",
          "2009-11-15T00:00:00",
          "2009-11-15T00:00:00",
          "2009-11-22T00:00:00",
          "2009-11-22T00:00:00",
          "2009-11-20T00:00:00",
          "2009-11-20T00:00:00",
          "2009-11-25T00:00:00",
          "2009-11-25T00:00:00",
          "2009-11-25T00:00:00",
          "2009-11-25T00:00:00",
          "2009-12-01T00:00:00",
          "2009-12-01T00:00:00",
          "2009-11-27T00:00:00",
          "2009-11-27T00:00:00",
          "2009-11-18T00:00:00",
          "2009-11-18T00:00:00",
          "2009-11-18T00:00:00",
          "2009-11-18T00:00:00",
          "2009-11-22T00:00:00",
          "2009-11-22T00:00:00",
          "2009-11-18T00:00:00",
          "2009-11-18T00:00:00",
          "2009-12-01T00:00:00",
          "2009-11-10T00:00:00",
          "2009-11-10T00:00:00",
          "2009-11-09T00:00:00",
          "2009-11-09T00:00:00",
          "2009-11-20T00:00:00",
          "2009-11-20T00:00:00",
          "2009-11-27T00:00:00",
          "2009-11-27T00:00:00",
          "2009-11-25T00:00:00",
          "2009-11-25T00:00:00",
          "2009-12-01T00:00:00",
          "2009-12-01T00:00:00",
          "2009-12-01T00:00:00",
          "2009-11-22T00:00:00",
          "2009-11-22T00:00:00",
          "2009-11-22T00:00:00",
          "2009-11-22T00:00:00"
         ],
         "y": [
          1,
          1,
          1,
          1,
          1,
          1,
          1,
          1,
          1,
          1,
          1,
          1,
          1,
          1,
          1,
          1,
          1,
          1,
          1,
          1,
          1,
          1,
          1,
          1,
          1,
          1,
          1,
          1,
          1,
          1,
          1,
          1,
          1,
          1,
          1,
          1,
          1,
          1,
          1,
          1,
          1,
          1,
          1,
          1,
          1,
          1,
          1,
          1,
          1,
          1,
          1,
          1,
          1,
          1,
          1,
          1,
          1,
          1,
          1,
          1,
          1,
          1,
          1,
          1,
          1,
          1,
          1,
          1,
          1,
          1,
          1,
          1,
          1,
          1,
          1,
          1,
          1,
          1,
          1,
          1,
          1,
          1,
          1,
          1,
          1,
          1,
          1,
          1,
          1,
          1,
          1,
          1,
          1,
          1,
          1,
          1,
          1,
          1,
          1,
          1,
          1,
          1,
          1,
          1,
          1,
          1,
          1,
          1,
          1,
          1,
          1,
          1,
          1,
          1,
          1,
          1,
          1
         ]
        },
        {
         "marker": {
          "color": "#00CC96"
         },
         "mode": "markers",
         "name": "extra",
         "showlegend": false,
         "type": "scatter",
         "x": [
          "2009-11-09T00:00:00",
          "2009-12-01T00:00:00"
         ],
         "y": [
          1,
          1
         ]
        }
       ],
       "layout": {
        "template": {
         "data": {
          "bar": [
           {
            "error_x": {
             "color": "#f2f5fa"
            },
            "error_y": {
             "color": "#f2f5fa"
            },
            "marker": {
             "line": {
              "color": "rgb(17,17,17)",
              "width": 0.5
             },
             "pattern": {
              "fillmode": "overlay",
              "size": 10,
              "solidity": 0.2
             }
            },
            "type": "bar"
           }
          ],
          "barpolar": [
           {
            "marker": {
             "line": {
              "color": "rgb(17,17,17)",
              "width": 0.5
             },
             "pattern": {
              "fillmode": "overlay",
              "size": 10,
              "solidity": 0.2
             }
            },
            "type": "barpolar"
           }
          ],
          "carpet": [
           {
            "aaxis": {
             "endlinecolor": "#A2B1C6",
             "gridcolor": "#506784",
             "linecolor": "#506784",
             "minorgridcolor": "#506784",
             "startlinecolor": "#A2B1C6"
            },
            "baxis": {
             "endlinecolor": "#A2B1C6",
             "gridcolor": "#506784",
             "linecolor": "#506784",
             "minorgridcolor": "#506784",
             "startlinecolor": "#A2B1C6"
            },
            "type": "carpet"
           }
          ],
          "choropleth": [
           {
            "colorbar": {
             "outlinewidth": 0,
             "ticks": ""
            },
            "type": "choropleth"
           }
          ],
          "contour": [
           {
            "colorbar": {
             "outlinewidth": 0,
             "ticks": ""
            },
            "colorscale": [
             [
              0,
              "#0d0887"
             ],
             [
              0.1111111111111111,
              "#46039f"
             ],
             [
              0.2222222222222222,
              "#7201a8"
             ],
             [
              0.3333333333333333,
              "#9c179e"
             ],
             [
              0.4444444444444444,
              "#bd3786"
             ],
             [
              0.5555555555555556,
              "#d8576b"
             ],
             [
              0.6666666666666666,
              "#ed7953"
             ],
             [
              0.7777777777777778,
              "#fb9f3a"
             ],
             [
              0.8888888888888888,
              "#fdca26"
             ],
             [
              1,
              "#f0f921"
             ]
            ],
            "type": "contour"
           }
          ],
          "contourcarpet": [
           {
            "colorbar": {
             "outlinewidth": 0,
             "ticks": ""
            },
            "type": "contourcarpet"
           }
          ],
          "heatmap": [
           {
            "colorbar": {
             "outlinewidth": 0,
             "ticks": ""
            },
            "colorscale": [
             [
              0,
              "#0d0887"
             ],
             [
              0.1111111111111111,
              "#46039f"
             ],
             [
              0.2222222222222222,
              "#7201a8"
             ],
             [
              0.3333333333333333,
              "#9c179e"
             ],
             [
              0.4444444444444444,
              "#bd3786"
             ],
             [
              0.5555555555555556,
              "#d8576b"
             ],
             [
              0.6666666666666666,
              "#ed7953"
             ],
             [
              0.7777777777777778,
              "#fb9f3a"
             ],
             [
              0.8888888888888888,
              "#fdca26"
             ],
             [
              1,
              "#f0f921"
             ]
            ],
            "type": "heatmap"
           }
          ],
          "heatmapgl": [
           {
            "colorbar": {
             "outlinewidth": 0,
             "ticks": ""
            },
            "colorscale": [
             [
              0,
              "#0d0887"
             ],
             [
              0.1111111111111111,
              "#46039f"
             ],
             [
              0.2222222222222222,
              "#7201a8"
             ],
             [
              0.3333333333333333,
              "#9c179e"
             ],
             [
              0.4444444444444444,
              "#bd3786"
             ],
             [
              0.5555555555555556,
              "#d8576b"
             ],
             [
              0.6666666666666666,
              "#ed7953"
             ],
             [
              0.7777777777777778,
              "#fb9f3a"
             ],
             [
              0.8888888888888888,
              "#fdca26"
             ],
             [
              1,
              "#f0f921"
             ]
            ],
            "type": "heatmapgl"
           }
          ],
          "histogram": [
           {
            "marker": {
             "pattern": {
              "fillmode": "overlay",
              "size": 10,
              "solidity": 0.2
             }
            },
            "type": "histogram"
           }
          ],
          "histogram2d": [
           {
            "colorbar": {
             "outlinewidth": 0,
             "ticks": ""
            },
            "colorscale": [
             [
              0,
              "#0d0887"
             ],
             [
              0.1111111111111111,
              "#46039f"
             ],
             [
              0.2222222222222222,
              "#7201a8"
             ],
             [
              0.3333333333333333,
              "#9c179e"
             ],
             [
              0.4444444444444444,
              "#bd3786"
             ],
             [
              0.5555555555555556,
              "#d8576b"
             ],
             [
              0.6666666666666666,
              "#ed7953"
             ],
             [
              0.7777777777777778,
              "#fb9f3a"
             ],
             [
              0.8888888888888888,
              "#fdca26"
             ],
             [
              1,
              "#f0f921"
             ]
            ],
            "type": "histogram2d"
           }
          ],
          "histogram2dcontour": [
           {
            "colorbar": {
             "outlinewidth": 0,
             "ticks": ""
            },
            "colorscale": [
             [
              0,
              "#0d0887"
             ],
             [
              0.1111111111111111,
              "#46039f"
             ],
             [
              0.2222222222222222,
              "#7201a8"
             ],
             [
              0.3333333333333333,
              "#9c179e"
             ],
             [
              0.4444444444444444,
              "#bd3786"
             ],
             [
              0.5555555555555556,
              "#d8576b"
             ],
             [
              0.6666666666666666,
              "#ed7953"
             ],
             [
              0.7777777777777778,
              "#fb9f3a"
             ],
             [
              0.8888888888888888,
              "#fdca26"
             ],
             [
              1,
              "#f0f921"
             ]
            ],
            "type": "histogram2dcontour"
           }
          ],
          "mesh3d": [
           {
            "colorbar": {
             "outlinewidth": 0,
             "ticks": ""
            },
            "type": "mesh3d"
           }
          ],
          "parcoords": [
           {
            "line": {
             "colorbar": {
              "outlinewidth": 0,
              "ticks": ""
             }
            },
            "type": "parcoords"
           }
          ],
          "pie": [
           {
            "automargin": true,
            "type": "pie"
           }
          ],
          "scatter": [
           {
            "marker": {
             "line": {
              "color": "#283442"
             }
            },
            "type": "scatter"
           }
          ],
          "scatter3d": [
           {
            "line": {
             "colorbar": {
              "outlinewidth": 0,
              "ticks": ""
             }
            },
            "marker": {
             "colorbar": {
              "outlinewidth": 0,
              "ticks": ""
             }
            },
            "type": "scatter3d"
           }
          ],
          "scattercarpet": [
           {
            "marker": {
             "colorbar": {
              "outlinewidth": 0,
              "ticks": ""
             }
            },
            "type": "scattercarpet"
           }
          ],
          "scattergeo": [
           {
            "marker": {
             "colorbar": {
              "outlinewidth": 0,
              "ticks": ""
             }
            },
            "type": "scattergeo"
           }
          ],
          "scattergl": [
           {
            "marker": {
             "line": {
              "color": "#283442"
             }
            },
            "type": "scattergl"
           }
          ],
          "scattermapbox": [
           {
            "marker": {
             "colorbar": {
              "outlinewidth": 0,
              "ticks": ""
             }
            },
            "type": "scattermapbox"
           }
          ],
          "scatterpolar": [
           {
            "marker": {
             "colorbar": {
              "outlinewidth": 0,
              "ticks": ""
             }
            },
            "type": "scatterpolar"
           }
          ],
          "scatterpolargl": [
           {
            "marker": {
             "colorbar": {
              "outlinewidth": 0,
              "ticks": ""
             }
            },
            "type": "scatterpolargl"
           }
          ],
          "scatterternary": [
           {
            "marker": {
             "colorbar": {
              "outlinewidth": 0,
              "ticks": ""
             }
            },
            "type": "scatterternary"
           }
          ],
          "surface": [
           {
            "colorbar": {
             "outlinewidth": 0,
             "ticks": ""
            },
            "colorscale": [
             [
              0,
              "#0d0887"
             ],
             [
              0.1111111111111111,
              "#46039f"
             ],
             [
              0.2222222222222222,
              "#7201a8"
             ],
             [
              0.3333333333333333,
              "#9c179e"
             ],
             [
              0.4444444444444444,
              "#bd3786"
             ],
             [
              0.5555555555555556,
              "#d8576b"
             ],
             [
              0.6666666666666666,
              "#ed7953"
             ],
             [
              0.7777777777777778,
              "#fb9f3a"
             ],
             [
              0.8888888888888888,
              "#fdca26"
             ],
             [
              1,
              "#f0f921"
             ]
            ],
            "type": "surface"
           }
          ],
          "table": [
           {
            "cells": {
             "fill": {
              "color": "#506784"
             },
             "line": {
              "color": "rgb(17,17,17)"
             }
            },
            "header": {
             "fill": {
              "color": "#2a3f5f"
             },
             "line": {
              "color": "rgb(17,17,17)"
             }
            },
            "type": "table"
           }
          ]
         },
         "layout": {
          "annotationdefaults": {
           "arrowcolor": "#f2f5fa",
           "arrowhead": 0,
           "arrowwidth": 1
          },
          "autotypenumbers": "strict",
          "coloraxis": {
           "colorbar": {
            "outlinewidth": 0,
            "ticks": ""
           }
          },
          "colorscale": {
           "diverging": [
            [
             0,
             "#8e0152"
            ],
            [
             0.1,
             "#c51b7d"
            ],
            [
             0.2,
             "#de77ae"
            ],
            [
             0.3,
             "#f1b6da"
            ],
            [
             0.4,
             "#fde0ef"
            ],
            [
             0.5,
             "#f7f7f7"
            ],
            [
             0.6,
             "#e6f5d0"
            ],
            [
             0.7,
             "#b8e186"
            ],
            [
             0.8,
             "#7fbc41"
            ],
            [
             0.9,
             "#4d9221"
            ],
            [
             1,
             "#276419"
            ]
           ],
           "sequential": [
            [
             0,
             "#0d0887"
            ],
            [
             0.1111111111111111,
             "#46039f"
            ],
            [
             0.2222222222222222,
             "#7201a8"
            ],
            [
             0.3333333333333333,
             "#9c179e"
            ],
            [
             0.4444444444444444,
             "#bd3786"
            ],
            [
             0.5555555555555556,
             "#d8576b"
            ],
            [
             0.6666666666666666,
             "#ed7953"
            ],
            [
             0.7777777777777778,
             "#fb9f3a"
            ],
            [
             0.8888888888888888,
             "#fdca26"
            ],
            [
             1,
             "#f0f921"
            ]
           ],
           "sequentialminus": [
            [
             0,
             "#0d0887"
            ],
            [
             0.1111111111111111,
             "#46039f"
            ],
            [
             0.2222222222222222,
             "#7201a8"
            ],
            [
             0.3333333333333333,
             "#9c179e"
            ],
            [
             0.4444444444444444,
             "#bd3786"
            ],
            [
             0.5555555555555556,
             "#d8576b"
            ],
            [
             0.6666666666666666,
             "#ed7953"
            ],
            [
             0.7777777777777778,
             "#fb9f3a"
            ],
            [
             0.8888888888888888,
             "#fdca26"
            ],
            [
             1,
             "#f0f921"
            ]
           ]
          },
          "colorway": [
           "#636efa",
           "#EF553B",
           "#00cc96",
           "#ab63fa",
           "#FFA15A",
           "#19d3f3",
           "#FF6692",
           "#B6E880",
           "#FF97FF",
           "#FECB52"
          ],
          "font": {
           "color": "#f2f5fa",
           "family": "Fira Code",
           "size": 20
          },
          "geo": {
           "bgcolor": "rgb(17,17,17)",
           "lakecolor": "rgb(17,17,17)",
           "landcolor": "rgb(17,17,17)",
           "showlakes": true,
           "showland": true,
           "subunitcolor": "#506784"
          },
          "hoverlabel": {
           "align": "left"
          },
          "hovermode": "closest",
          "mapbox": {
           "style": "dark"
          },
          "paper_bgcolor": "rgb(17,17,17)",
          "plot_bgcolor": "rgb(17,17,17)",
          "polar": {
           "angularaxis": {
            "gridcolor": "#506784",
            "linecolor": "#506784",
            "ticks": ""
           },
           "bgcolor": "rgb(17,17,17)",
           "radialaxis": {
            "gridcolor": "#506784",
            "linecolor": "#506784",
            "ticks": ""
           }
          },
          "scene": {
           "xaxis": {
            "backgroundcolor": "rgb(17,17,17)",
            "gridcolor": "#506784",
            "gridwidth": 2,
            "linecolor": "#506784",
            "showbackground": true,
            "ticks": "",
            "zerolinecolor": "#C8D4E3"
           },
           "yaxis": {
            "backgroundcolor": "rgb(17,17,17)",
            "gridcolor": "#506784",
            "gridwidth": 2,
            "linecolor": "#506784",
            "showbackground": true,
            "ticks": "",
            "zerolinecolor": "#C8D4E3"
           },
           "zaxis": {
            "backgroundcolor": "rgb(17,17,17)",
            "gridcolor": "#506784",
            "gridwidth": 2,
            "linecolor": "#506784",
            "showbackground": true,
            "ticks": "",
            "zerolinecolor": "#C8D4E3"
           }
          },
          "shapedefaults": {
           "line": {
            "color": "#f2f5fa"
           }
          },
          "sliderdefaults": {
           "bgcolor": "#C8D4E3",
           "bordercolor": "rgb(17,17,17)",
           "borderwidth": 1,
           "tickwidth": 0
          },
          "ternary": {
           "aaxis": {
            "gridcolor": "#506784",
            "linecolor": "#506784",
            "ticks": ""
           },
           "baxis": {
            "gridcolor": "#506784",
            "linecolor": "#506784",
            "ticks": ""
           },
           "bgcolor": "rgb(17,17,17)",
           "caxis": {
            "gridcolor": "#506784",
            "linecolor": "#506784",
            "ticks": ""
           }
          },
          "title": {
           "x": 0.05
          },
          "updatemenudefaults": {
           "bgcolor": "#506784",
           "borderwidth": 0
          },
          "xaxis": {
           "automargin": true,
           "gridcolor": "#283442",
           "linecolor": "#506784",
           "ticks": "",
           "title": {
            "standoff": 15
           },
           "zerolinecolor": "#283442",
           "zerolinewidth": 2
          },
          "yaxis": {
           "automargin": true,
           "gridcolor": "#283442",
           "linecolor": "#506784",
           "ticks": "",
           "title": {
            "standoff": 15
           },
           "zerolinecolor": "#283442",
           "zerolinewidth": 2
          }
         }
        },
        "yaxis": {
         "showticklabels": false
        }
       }
      },
      "text/html": [
       "<div>                            <div id=\"8284008c-3bdc-4134-be96-08a5f11dd771\" class=\"plotly-graph-div\" style=\"height:525px; width:100%;\"></div>            <script type=\"text/javascript\">                require([\"plotly\"], function(Plotly) {                    window.PLOTLYENV=window.PLOTLYENV || {};                                    if (document.getElementById(\"8284008c-3bdc-4134-be96-08a5f11dd771\")) {                    Plotly.newPlot(                        \"8284008c-3bdc-4134-be96-08a5f11dd771\",                        [{\"line\":{\"color\":\"#636EFA\"},\"mode\":\"lines\",\"name\":\"2007\",\"x\":[\"2007-11-11T00:00:00\",\"2007-11-16T00:00:00\",\"2007-11-16T00:00:00\",\"2007-11-16T00:00:00\",\"2007-11-15T00:00:00\",\"2007-11-15T00:00:00\",\"2007-11-16T00:00:00\",\"2007-11-12T00:00:00\",\"2007-11-12T00:00:00\",\"2007-11-16T00:00:00\",\"2007-11-16T00:00:00\",\"2007-11-12T00:00:00\",\"2007-11-12T00:00:00\",\"2007-11-12T00:00:00\",\"2007-11-12T00:00:00\",\"2007-11-10T00:00:00\",\"2007-11-10T00:00:00\",\"2007-11-12T00:00:00\",\"2007-11-12T00:00:00\",\"2007-11-10T00:00:00\",\"2007-11-10T00:00:00\",\"2007-11-09T00:00:00\",\"2007-11-09T00:00:00\",\"2007-11-09T00:00:00\",\"2007-11-09T00:00:00\",\"2007-11-16T00:00:00\",\"2007-11-16T00:00:00\",\"2007-11-16T00:00:00\",\"2007-11-16T00:00:00\",\"2007-11-13T00:00:00\",\"2007-11-16T00:00:00\",\"2007-11-19T00:00:00\",\"2007-11-19T00:00:00\",\"2007-11-16T00:00:00\",\"2007-11-16T00:00:00\",\"2007-11-13T00:00:00\",\"2007-11-13T00:00:00\",\"2007-11-19T00:00:00\",\"2007-11-19T00:00:00\",\"2007-11-26T00:00:00\",\"2007-11-26T00:00:00\",\"2007-11-21T00:00:00\",\"2007-11-21T00:00:00\",\"2007-11-28T00:00:00\",\"2007-11-28T00:00:00\",\"2007-11-21T00:00:00\",\"2007-11-21T00:00:00\",\"2007-11-28T00:00:00\",\"2007-11-28T00:00:00\",\"2007-11-26T00:00:00\",\"2007-11-26T00:00:00\",\"2007-11-22T00:00:00\",\"2007-11-22T00:00:00\",\"2007-11-30T00:00:00\",\"2007-11-30T00:00:00\",\"2007-11-30T00:00:00\",\"2007-11-30T00:00:00\",\"2007-12-03T00:00:00\",\"2007-12-03T00:00:00\",\"2007-11-28T00:00:00\",\"2007-11-28T00:00:00\",\"2007-11-28T00:00:00\",\"2007-11-28T00:00:00\",\"2007-11-27T00:00:00\",\"2007-11-27T00:00:00\",\"2007-11-27T00:00:00\",\"2007-11-27T00:00:00\",\"2007-11-18T00:00:00\",\"2007-11-18T00:00:00\",\"2007-11-27T00:00:00\",\"2007-11-27T00:00:00\",\"2007-11-27T00:00:00\",\"2007-11-27T00:00:00\",\"2007-11-27T00:00:00\",\"2007-11-27T00:00:00\",\"2007-11-29T00:00:00\",\"2007-11-29T00:00:00\",\"2007-12-03T00:00:00\",\"2007-12-03T00:00:00\",\"2007-11-27T00:00:00\",\"2007-11-27T00:00:00\",\"2007-11-27T00:00:00\",\"2007-11-27T00:00:00\",\"2007-11-27T00:00:00\",\"2007-11-27T00:00:00\",\"2007-11-27T00:00:00\",\"2007-11-27T00:00:00\",\"2007-11-29T00:00:00\",\"2007-11-29T00:00:00\",\"2007-11-29T00:00:00\",\"2007-11-29T00:00:00\",\"2007-11-29T00:00:00\",\"2007-11-29T00:00:00\",\"2007-12-03T00:00:00\",\"2007-12-03T00:00:00\"],\"y\":[1,1,1,1,1,1,1,1,1,1,1,1,1,1,1,1,1,1,1,1,1,1,1,1,1,1,1,1,1,1,1,1,1,1,1,1,1,1,1,1,1,1,1,1,1,1,1,1,1,1,1,1,1,1,1,1,1,1,1,1,1,1,1,1,1,1,1,1,1,1,1,1,1,1,1,1,1,1,1,1,1,1,1,1,1,1,1,1,1,1,1,1,1,1,1],\"type\":\"scatter\"},{\"marker\":{\"color\":\"#636EFA\"},\"mode\":\"markers\",\"name\":\"extra\",\"x\":[\"2007-11-09T00:00:00\",\"2007-12-03T00:00:00\"],\"y\":[1,1],\"type\":\"scatter\",\"showlegend\":false},{\"line\":{\"color\":\"#EF553B\"},\"mode\":\"lines\",\"name\":\"2008\",\"x\":[\"2008-11-06T00:00:00\",\"2008-11-06T00:00:00\",\"2008-11-09T00:00:00\",\"2008-11-09T00:00:00\",\"2008-11-09T00:00:00\",\"2008-11-09T00:00:00\",\"2008-11-15T00:00:00\",\"2008-11-15T00:00:00\",\"2008-11-15T00:00:00\",\"2008-11-15T00:00:00\",\"2008-11-13T00:00:00\",\"2008-11-13T00:00:00\",\"2008-11-13T00:00:00\",\"2008-11-13T00:00:00\",\"2008-11-13T00:00:00\",\"2008-11-13T00:00:00\",\"2008-11-06T00:00:00\",\"2008-11-06T00:00:00\",\"2008-11-11T00:00:00\",\"2008-11-11T00:00:00\",\"2008-11-14T00:00:00\",\"2008-11-14T00:00:00\",\"2008-11-11T00:00:00\",\"2008-11-11T00:00:00\",\"2008-11-08T00:00:00\",\"2008-11-08T00:00:00\",\"2008-11-06T00:00:00\",\"2008-11-06T00:00:00\",\"2008-11-09T00:00:00\",\"2008-11-09T00:00:00\",\"2008-11-02T00:00:00\",\"2008-11-02T00:00:00\",\"2008-11-07T00:00:00\",\"2008-11-07T00:00:00\",\"2008-11-17T00:00:00\",\"2008-11-17T00:00:00\",\"2008-11-08T00:00:00\",\"2008-11-08T00:00:00\",\"2008-11-08T00:00:00\",\"2008-11-08T00:00:00\",\"2008-11-14T00:00:00\",\"2008-11-14T00:00:00\",\"2008-11-05T00:00:00\",\"2008-11-05T00:00:00\",\"2008-11-17T00:00:00\",\"2008-11-17T00:00:00\",\"2008-11-08T00:00:00\",\"2008-11-08T00:00:00\",\"2008-11-10T00:00:00\",\"2008-11-10T00:00:00\",\"2008-11-25T00:00:00\",\"2008-11-25T00:00:00\",\"2008-11-14T00:00:00\",\"2008-11-14T00:00:00\",\"2008-11-24T00:00:00\",\"2008-11-24T00:00:00\",\"2008-11-24T00:00:00\",\"2008-11-24T00:00:00\",\"2008-11-25T00:00:00\",\"2008-11-25T00:00:00\",\"2008-11-14T00:00:00\",\"2008-11-14T00:00:00\",\"2008-11-24T00:00:00\",\"2008-11-24T00:00:00\",\"2008-11-24T00:00:00\",\"2008-11-24T00:00:00\",\"2008-11-14T00:00:00\",\"2008-11-14T00:00:00\",\"2008-11-13T00:00:00\",\"2008-11-13T00:00:00\",\"2008-11-02T00:00:00\",\"2008-11-02T00:00:00\",\"2008-11-09T00:00:00\",\"2008-11-09T00:00:00\",\"2008-11-04T00:00:00\",\"2008-11-04T00:00:00\",\"2008-11-04T00:00:00\",\"2008-11-04T00:00:00\",\"2008-11-03T00:00:00\",\"2008-11-03T00:00:00\",\"2008-11-09T00:00:00\",\"2008-11-09T00:00:00\",\"2008-11-02T00:00:00\",\"2008-11-02T00:00:00\",\"2008-11-04T00:00:00\",\"2008-11-04T00:00:00\",\"2008-11-04T00:00:00\",\"2008-11-04T00:00:00\",\"2008-11-04T00:00:00\",\"2008-11-04T00:00:00\",\"2008-11-03T00:00:00\",\"2008-11-03T00:00:00\",\"2008-11-06T00:00:00\",\"2008-11-06T00:00:00\",\"2008-11-03T00:00:00\",\"2008-11-03T00:00:00\",\"2008-11-13T00:00:00\",\"2008-11-13T00:00:00\",\"2008-11-04T00:00:00\",\"2008-11-04T00:00:00\",\"2008-11-09T00:00:00\",\"2008-11-13T00:00:00\",\"2008-11-13T00:00:00\",\"2008-11-03T00:00:00\",\"2008-11-03T00:00:00\",\"2008-11-09T00:00:00\",\"2008-11-09T00:00:00\",\"2008-11-06T00:00:00\",\"2008-11-06T00:00:00\",\"2008-11-06T00:00:00\",\"2008-11-06T00:00:00\",\"2008-11-09T00:00:00\",\"2008-11-09T00:00:00\"],\"y\":[1,1,1,1,1,1,1,1,1,1,1,1,1,1,1,1,1,1,1,1,1,1,1,1,1,1,1,1,1,1,1,1,1,1,1,1,1,1,1,1,1,1,1,1,1,1,1,1,1,1,1,1,1,1,1,1,1,1,1,1,1,1,1,1,1,1,1,1,1,1,1,1,1,1,1,1,1,1,1,1,1,1,1,1,1,1,1,1,1,1,1,1,1,1,1,1,1,1,1,1,1,1,1,1,1,1,1,1,1,1,1,1,1],\"type\":\"scatter\"},{\"marker\":{\"color\":\"#EF553B\"},\"mode\":\"markers\",\"name\":\"extra\",\"x\":[\"2008-11-02T00:00:00\",\"2008-11-25T00:00:00\"],\"y\":[1,1],\"type\":\"scatter\",\"showlegend\":false},{\"line\":{\"color\":\"#00CC96\"},\"mode\":\"lines\",\"name\":\"2009\",\"x\":[\"2009-11-09T00:00:00\",\"2009-11-09T00:00:00\",\"2009-11-15T00:00:00\",\"2009-11-15T00:00:00\",\"2009-11-15T00:00:00\",\"2009-11-15T00:00:00\",\"2009-11-15T00:00:00\",\"2009-11-15T00:00:00\",\"2009-11-20T00:00:00\",\"2009-11-20T00:00:00\",\"2009-11-12T00:00:00\",\"2009-11-12T00:00:00\",\"2009-11-15T00:00:00\",\"2009-11-15T00:00:00\",\"2009-11-17T00:00:00\",\"2009-11-17T00:00:00\",\"2009-11-18T00:00:00\",\"2009-11-18T00:00:00\",\"2009-11-22T00:00:00\",\"2009-11-22T00:00:00\",\"2009-11-17T00:00:00\",\"2009-11-17T00:00:00\",\"2009-11-16T00:00:00\",\"2009-11-16T00:00:00\",\"2009-11-18T00:00:00\",\"2009-11-18T00:00:00\",\"2009-11-21T00:00:00\",\"2009-11-21T00:00:00\",\"2009-11-18T00:00:00\",\"2009-11-18T00:00:00\",\"2009-11-23T00:00:00\",\"2009-11-23T00:00:00\",\"2009-11-10T00:00:00\",\"2009-11-10T00:00:00\",\"2009-11-13T00:00:00\",\"2009-11-13T00:00:00\",\"2009-11-16T00:00:00\",\"2009-11-16T00:00:00\",\"2009-11-16T00:00:00\",\"2009-11-16T00:00:00\",\"2009-11-14T00:00:00\",\"2009-11-14T00:00:00\",\"2009-11-16T00:00:00\",\"2009-11-16T00:00:00\",\"2009-11-16T00:00:00\",\"2009-11-16T00:00:00\",\"2009-11-13T00:00:00\",\"2009-11-13T00:00:00\",\"2009-11-17T00:00:00\",\"2009-11-17T00:00:00\",\"2009-11-17T00:00:00\",\"2009-11-17T00:00:00\",\"2009-11-17T00:00:00\",\"2009-11-17T00:00:00\",\"2009-11-27T00:00:00\",\"2009-11-27T00:00:00\",\"2009-11-23T00:00:00\",\"2009-11-23T00:00:00\",\"2009-11-21T00:00:00\",\"2009-11-21T00:00:00\",\"2009-11-23T00:00:00\",\"2009-11-23T00:00:00\",\"2009-11-27T00:00:00\",\"2009-11-27T00:00:00\",\"2009-11-21T00:00:00\",\"2009-11-21T00:00:00\",\"2009-11-21T00:00:00\",\"2009-11-21T00:00:00\",\"2009-11-27T00:00:00\",\"2009-11-19T00:00:00\",\"2009-11-19T00:00:00\",\"2009-11-21T00:00:00\",\"2009-11-21T00:00:00\",\"2009-11-21T00:00:00\",\"2009-11-21T00:00:00\",\"2009-11-18T00:00:00\",\"2009-11-18T00:00:00\",\"2009-11-15T00:00:00\",\"2009-11-15T00:00:00\",\"2009-11-22T00:00:00\",\"2009-11-22T00:00:00\",\"2009-11-20T00:00:00\",\"2009-11-20T00:00:00\",\"2009-11-25T00:00:00\",\"2009-11-25T00:00:00\",\"2009-11-25T00:00:00\",\"2009-11-25T00:00:00\",\"2009-12-01T00:00:00\",\"2009-12-01T00:00:00\",\"2009-11-27T00:00:00\",\"2009-11-27T00:00:00\",\"2009-11-18T00:00:00\",\"2009-11-18T00:00:00\",\"2009-11-18T00:00:00\",\"2009-11-18T00:00:00\",\"2009-11-22T00:00:00\",\"2009-11-22T00:00:00\",\"2009-11-18T00:00:00\",\"2009-11-18T00:00:00\",\"2009-12-01T00:00:00\",\"2009-11-10T00:00:00\",\"2009-11-10T00:00:00\",\"2009-11-09T00:00:00\",\"2009-11-09T00:00:00\",\"2009-11-20T00:00:00\",\"2009-11-20T00:00:00\",\"2009-11-27T00:00:00\",\"2009-11-27T00:00:00\",\"2009-11-25T00:00:00\",\"2009-11-25T00:00:00\",\"2009-12-01T00:00:00\",\"2009-12-01T00:00:00\",\"2009-12-01T00:00:00\",\"2009-11-22T00:00:00\",\"2009-11-22T00:00:00\",\"2009-11-22T00:00:00\",\"2009-11-22T00:00:00\"],\"y\":[1,1,1,1,1,1,1,1,1,1,1,1,1,1,1,1,1,1,1,1,1,1,1,1,1,1,1,1,1,1,1,1,1,1,1,1,1,1,1,1,1,1,1,1,1,1,1,1,1,1,1,1,1,1,1,1,1,1,1,1,1,1,1,1,1,1,1,1,1,1,1,1,1,1,1,1,1,1,1,1,1,1,1,1,1,1,1,1,1,1,1,1,1,1,1,1,1,1,1,1,1,1,1,1,1,1,1,1,1,1,1,1,1,1,1,1,1],\"type\":\"scatter\"},{\"marker\":{\"color\":\"#00CC96\"},\"mode\":\"markers\",\"name\":\"extra\",\"x\":[\"2009-11-09T00:00:00\",\"2009-12-01T00:00:00\"],\"y\":[1,1],\"type\":\"scatter\",\"showlegend\":false}],                        {\"template\":{\"data\":{\"barpolar\":[{\"marker\":{\"line\":{\"color\":\"rgb(17,17,17)\",\"width\":0.5},\"pattern\":{\"fillmode\":\"overlay\",\"size\":10,\"solidity\":0.2}},\"type\":\"barpolar\"}],\"bar\":[{\"error_x\":{\"color\":\"#f2f5fa\"},\"error_y\":{\"color\":\"#f2f5fa\"},\"marker\":{\"line\":{\"color\":\"rgb(17,17,17)\",\"width\":0.5},\"pattern\":{\"fillmode\":\"overlay\",\"size\":10,\"solidity\":0.2}},\"type\":\"bar\"}],\"carpet\":[{\"aaxis\":{\"endlinecolor\":\"#A2B1C6\",\"gridcolor\":\"#506784\",\"linecolor\":\"#506784\",\"minorgridcolor\":\"#506784\",\"startlinecolor\":\"#A2B1C6\"},\"baxis\":{\"endlinecolor\":\"#A2B1C6\",\"gridcolor\":\"#506784\",\"linecolor\":\"#506784\",\"minorgridcolor\":\"#506784\",\"startlinecolor\":\"#A2B1C6\"},\"type\":\"carpet\"}],\"choropleth\":[{\"colorbar\":{\"outlinewidth\":0,\"ticks\":\"\"},\"type\":\"choropleth\"}],\"contourcarpet\":[{\"colorbar\":{\"outlinewidth\":0,\"ticks\":\"\"},\"type\":\"contourcarpet\"}],\"contour\":[{\"colorbar\":{\"outlinewidth\":0,\"ticks\":\"\"},\"colorscale\":[[0.0,\"#0d0887\"],[0.1111111111111111,\"#46039f\"],[0.2222222222222222,\"#7201a8\"],[0.3333333333333333,\"#9c179e\"],[0.4444444444444444,\"#bd3786\"],[0.5555555555555556,\"#d8576b\"],[0.6666666666666666,\"#ed7953\"],[0.7777777777777778,\"#fb9f3a\"],[0.8888888888888888,\"#fdca26\"],[1.0,\"#f0f921\"]],\"type\":\"contour\"}],\"heatmapgl\":[{\"colorbar\":{\"outlinewidth\":0,\"ticks\":\"\"},\"colorscale\":[[0.0,\"#0d0887\"],[0.1111111111111111,\"#46039f\"],[0.2222222222222222,\"#7201a8\"],[0.3333333333333333,\"#9c179e\"],[0.4444444444444444,\"#bd3786\"],[0.5555555555555556,\"#d8576b\"],[0.6666666666666666,\"#ed7953\"],[0.7777777777777778,\"#fb9f3a\"],[0.8888888888888888,\"#fdca26\"],[1.0,\"#f0f921\"]],\"type\":\"heatmapgl\"}],\"heatmap\":[{\"colorbar\":{\"outlinewidth\":0,\"ticks\":\"\"},\"colorscale\":[[0.0,\"#0d0887\"],[0.1111111111111111,\"#46039f\"],[0.2222222222222222,\"#7201a8\"],[0.3333333333333333,\"#9c179e\"],[0.4444444444444444,\"#bd3786\"],[0.5555555555555556,\"#d8576b\"],[0.6666666666666666,\"#ed7953\"],[0.7777777777777778,\"#fb9f3a\"],[0.8888888888888888,\"#fdca26\"],[1.0,\"#f0f921\"]],\"type\":\"heatmap\"}],\"histogram2dcontour\":[{\"colorbar\":{\"outlinewidth\":0,\"ticks\":\"\"},\"colorscale\":[[0.0,\"#0d0887\"],[0.1111111111111111,\"#46039f\"],[0.2222222222222222,\"#7201a8\"],[0.3333333333333333,\"#9c179e\"],[0.4444444444444444,\"#bd3786\"],[0.5555555555555556,\"#d8576b\"],[0.6666666666666666,\"#ed7953\"],[0.7777777777777778,\"#fb9f3a\"],[0.8888888888888888,\"#fdca26\"],[1.0,\"#f0f921\"]],\"type\":\"histogram2dcontour\"}],\"histogram2d\":[{\"colorbar\":{\"outlinewidth\":0,\"ticks\":\"\"},\"colorscale\":[[0.0,\"#0d0887\"],[0.1111111111111111,\"#46039f\"],[0.2222222222222222,\"#7201a8\"],[0.3333333333333333,\"#9c179e\"],[0.4444444444444444,\"#bd3786\"],[0.5555555555555556,\"#d8576b\"],[0.6666666666666666,\"#ed7953\"],[0.7777777777777778,\"#fb9f3a\"],[0.8888888888888888,\"#fdca26\"],[1.0,\"#f0f921\"]],\"type\":\"histogram2d\"}],\"histogram\":[{\"marker\":{\"pattern\":{\"fillmode\":\"overlay\",\"size\":10,\"solidity\":0.2}},\"type\":\"histogram\"}],\"mesh3d\":[{\"colorbar\":{\"outlinewidth\":0,\"ticks\":\"\"},\"type\":\"mesh3d\"}],\"parcoords\":[{\"line\":{\"colorbar\":{\"outlinewidth\":0,\"ticks\":\"\"}},\"type\":\"parcoords\"}],\"pie\":[{\"automargin\":true,\"type\":\"pie\"}],\"scatter3d\":[{\"line\":{\"colorbar\":{\"outlinewidth\":0,\"ticks\":\"\"}},\"marker\":{\"colorbar\":{\"outlinewidth\":0,\"ticks\":\"\"}},\"type\":\"scatter3d\"}],\"scattercarpet\":[{\"marker\":{\"colorbar\":{\"outlinewidth\":0,\"ticks\":\"\"}},\"type\":\"scattercarpet\"}],\"scattergeo\":[{\"marker\":{\"colorbar\":{\"outlinewidth\":0,\"ticks\":\"\"}},\"type\":\"scattergeo\"}],\"scattergl\":[{\"marker\":{\"line\":{\"color\":\"#283442\"}},\"type\":\"scattergl\"}],\"scattermapbox\":[{\"marker\":{\"colorbar\":{\"outlinewidth\":0,\"ticks\":\"\"}},\"type\":\"scattermapbox\"}],\"scatterpolargl\":[{\"marker\":{\"colorbar\":{\"outlinewidth\":0,\"ticks\":\"\"}},\"type\":\"scatterpolargl\"}],\"scatterpolar\":[{\"marker\":{\"colorbar\":{\"outlinewidth\":0,\"ticks\":\"\"}},\"type\":\"scatterpolar\"}],\"scatter\":[{\"marker\":{\"line\":{\"color\":\"#283442\"}},\"type\":\"scatter\"}],\"scatterternary\":[{\"marker\":{\"colorbar\":{\"outlinewidth\":0,\"ticks\":\"\"}},\"type\":\"scatterternary\"}],\"surface\":[{\"colorbar\":{\"outlinewidth\":0,\"ticks\":\"\"},\"colorscale\":[[0.0,\"#0d0887\"],[0.1111111111111111,\"#46039f\"],[0.2222222222222222,\"#7201a8\"],[0.3333333333333333,\"#9c179e\"],[0.4444444444444444,\"#bd3786\"],[0.5555555555555556,\"#d8576b\"],[0.6666666666666666,\"#ed7953\"],[0.7777777777777778,\"#fb9f3a\"],[0.8888888888888888,\"#fdca26\"],[1.0,\"#f0f921\"]],\"type\":\"surface\"}],\"table\":[{\"cells\":{\"fill\":{\"color\":\"#506784\"},\"line\":{\"color\":\"rgb(17,17,17)\"}},\"header\":{\"fill\":{\"color\":\"#2a3f5f\"},\"line\":{\"color\":\"rgb(17,17,17)\"}},\"type\":\"table\"}]},\"layout\":{\"annotationdefaults\":{\"arrowcolor\":\"#f2f5fa\",\"arrowhead\":0,\"arrowwidth\":1},\"autotypenumbers\":\"strict\",\"coloraxis\":{\"colorbar\":{\"outlinewidth\":0,\"ticks\":\"\"}},\"colorscale\":{\"diverging\":[[0,\"#8e0152\"],[0.1,\"#c51b7d\"],[0.2,\"#de77ae\"],[0.3,\"#f1b6da\"],[0.4,\"#fde0ef\"],[0.5,\"#f7f7f7\"],[0.6,\"#e6f5d0\"],[0.7,\"#b8e186\"],[0.8,\"#7fbc41\"],[0.9,\"#4d9221\"],[1,\"#276419\"]],\"sequential\":[[0.0,\"#0d0887\"],[0.1111111111111111,\"#46039f\"],[0.2222222222222222,\"#7201a8\"],[0.3333333333333333,\"#9c179e\"],[0.4444444444444444,\"#bd3786\"],[0.5555555555555556,\"#d8576b\"],[0.6666666666666666,\"#ed7953\"],[0.7777777777777778,\"#fb9f3a\"],[0.8888888888888888,\"#fdca26\"],[1.0,\"#f0f921\"]],\"sequentialminus\":[[0.0,\"#0d0887\"],[0.1111111111111111,\"#46039f\"],[0.2222222222222222,\"#7201a8\"],[0.3333333333333333,\"#9c179e\"],[0.4444444444444444,\"#bd3786\"],[0.5555555555555556,\"#d8576b\"],[0.6666666666666666,\"#ed7953\"],[0.7777777777777778,\"#fb9f3a\"],[0.8888888888888888,\"#fdca26\"],[1.0,\"#f0f921\"]]},\"colorway\":[\"#636efa\",\"#EF553B\",\"#00cc96\",\"#ab63fa\",\"#FFA15A\",\"#19d3f3\",\"#FF6692\",\"#B6E880\",\"#FF97FF\",\"#FECB52\"],\"font\":{\"color\":\"#f2f5fa\",\"family\":\"Fira Code\",\"size\":20},\"geo\":{\"bgcolor\":\"rgb(17,17,17)\",\"lakecolor\":\"rgb(17,17,17)\",\"landcolor\":\"rgb(17,17,17)\",\"showlakes\":true,\"showland\":true,\"subunitcolor\":\"#506784\"},\"hoverlabel\":{\"align\":\"left\"},\"hovermode\":\"closest\",\"mapbox\":{\"style\":\"dark\"},\"paper_bgcolor\":\"rgb(17,17,17)\",\"plot_bgcolor\":\"rgb(17,17,17)\",\"polar\":{\"angularaxis\":{\"gridcolor\":\"#506784\",\"linecolor\":\"#506784\",\"ticks\":\"\"},\"bgcolor\":\"rgb(17,17,17)\",\"radialaxis\":{\"gridcolor\":\"#506784\",\"linecolor\":\"#506784\",\"ticks\":\"\"}},\"scene\":{\"xaxis\":{\"backgroundcolor\":\"rgb(17,17,17)\",\"gridcolor\":\"#506784\",\"gridwidth\":2,\"linecolor\":\"#506784\",\"showbackground\":true,\"ticks\":\"\",\"zerolinecolor\":\"#C8D4E3\"},\"yaxis\":{\"backgroundcolor\":\"rgb(17,17,17)\",\"gridcolor\":\"#506784\",\"gridwidth\":2,\"linecolor\":\"#506784\",\"showbackground\":true,\"ticks\":\"\",\"zerolinecolor\":\"#C8D4E3\"},\"zaxis\":{\"backgroundcolor\":\"rgb(17,17,17)\",\"gridcolor\":\"#506784\",\"gridwidth\":2,\"linecolor\":\"#506784\",\"showbackground\":true,\"ticks\":\"\",\"zerolinecolor\":\"#C8D4E3\"}},\"shapedefaults\":{\"line\":{\"color\":\"#f2f5fa\"}},\"sliderdefaults\":{\"bgcolor\":\"#C8D4E3\",\"bordercolor\":\"rgb(17,17,17)\",\"borderwidth\":1,\"tickwidth\":0},\"ternary\":{\"aaxis\":{\"gridcolor\":\"#506784\",\"linecolor\":\"#506784\",\"ticks\":\"\"},\"baxis\":{\"gridcolor\":\"#506784\",\"linecolor\":\"#506784\",\"ticks\":\"\"},\"bgcolor\":\"rgb(17,17,17)\",\"caxis\":{\"gridcolor\":\"#506784\",\"linecolor\":\"#506784\",\"ticks\":\"\"}},\"title\":{\"x\":0.05},\"updatemenudefaults\":{\"bgcolor\":\"#506784\",\"borderwidth\":0},\"xaxis\":{\"automargin\":true,\"gridcolor\":\"#283442\",\"linecolor\":\"#506784\",\"ticks\":\"\",\"title\":{\"standoff\":15},\"zerolinecolor\":\"#283442\",\"zerolinewidth\":2},\"yaxis\":{\"automargin\":true,\"gridcolor\":\"#283442\",\"linecolor\":\"#506784\",\"ticks\":\"\",\"title\":{\"standoff\":15},\"zerolinecolor\":\"#283442\",\"zerolinewidth\":2}}},\"yaxis\":{\"showticklabels\":false}},                        {\"responsive\": true}                    ).then(function(){\n",
       "                            \n",
       "var gd = document.getElementById('8284008c-3bdc-4134-be96-08a5f11dd771');\n",
       "var x = new MutationObserver(function (mutations, observer) {{\n",
       "        var display = window.getComputedStyle(gd).display;\n",
       "        if (!display || display === 'none') {{\n",
       "            console.log([gd, 'removed!']);\n",
       "            Plotly.purge(gd);\n",
       "            observer.disconnect();\n",
       "        }}\n",
       "}});\n",
       "\n",
       "// Listen for the removal of the full notebook cells\n",
       "var notebookContainer = gd.closest('#notebook-container');\n",
       "if (notebookContainer) {{\n",
       "    x.observe(notebookContainer, {childList: true});\n",
       "}}\n",
       "\n",
       "// Listen for the clearing of the current output cell\n",
       "var outputEl = gd.closest('.output');\n",
       "if (outputEl) {{\n",
       "    x.observe(outputEl, {childList: true});\n",
       "}}\n",
       "\n",
       "                        })                };                });            </script>        </div>"
      ]
     },
     "metadata": {},
     "output_type": "display_data"
    }
   ],
   "source": [
    "colors_list = px.colors.qualitative.Plotly[:3]\n",
    "fig = go.Figure()\n",
    "for y,col in zip(years,colors_list):\n",
    "    df = temp_na.loc[temp_na['date'].dt.year == y]\n",
    "    fig.add_trace(go.Scatter(x=df.date,y=[1]*df.shape[0],mode=\"lines\",name=f\"{y}\",line=dict(color=col)))\n",
    "    fig.add_trace(go.Scatter(x=np.r_[df.date.min(),df.date.max()],y=[1]*2,mode=\"markers\",name=\"extra\",marker=dict(color=col)))\n",
    "for trace in fig.data:\n",
    "    if trace['name'] == \"extra\":\n",
    "        trace[\"showlegend\"] = False\n",
    "fig.update_yaxes(showticklabels=False)\n",
    "fig.show()"
   ]
  },
  {
   "cell_type": "markdown",
   "metadata": {},
   "source": [
    "### Physical Attributes"
   ]
  },
  {
   "cell_type": "code",
   "execution_count": 119,
   "metadata": {},
   "outputs": [
    {
     "data": {
      "text/html": [
       "<div>\n",
       "<style scoped>\n",
       "    .dataframe tbody tr th:only-of-type {\n",
       "        vertical-align: middle;\n",
       "    }\n",
       "\n",
       "    .dataframe tbody tr th {\n",
       "        vertical-align: top;\n",
       "    }\n",
       "\n",
       "    .dataframe thead th {\n",
       "        text-align: right;\n",
       "    }\n",
       "</style>\n",
       "<table border=\"1\" class=\"dataframe\">\n",
       "  <thead>\n",
       "    <tr style=\"text-align: right;\">\n",
       "      <th></th>\n",
       "      <th>culmenL</th>\n",
       "      <th>culmenD</th>\n",
       "      <th>flipperL</th>\n",
       "      <th>delta_15n</th>\n",
       "      <th>delta_13c</th>\n",
       "    </tr>\n",
       "  </thead>\n",
       "  <tbody>\n",
       "    <tr>\n",
       "      <th>count</th>\n",
       "      <td>325.00</td>\n",
       "      <td>325.00</td>\n",
       "      <td>325.00</td>\n",
       "      <td>325.00</td>\n",
       "      <td>325.00</td>\n",
       "    </tr>\n",
       "    <tr>\n",
       "      <th>mean</th>\n",
       "      <td>44.05</td>\n",
       "      <td>17.12</td>\n",
       "      <td>201.26</td>\n",
       "      <td>8.74</td>\n",
       "      <td>-25.69</td>\n",
       "    </tr>\n",
       "    <tr>\n",
       "      <th>std</th>\n",
       "      <td>5.47</td>\n",
       "      <td>1.97</td>\n",
       "      <td>13.96</td>\n",
       "      <td>0.55</td>\n",
       "      <td>0.79</td>\n",
       "    </tr>\n",
       "    <tr>\n",
       "      <th>min</th>\n",
       "      <td>32.10</td>\n",
       "      <td>13.10</td>\n",
       "      <td>172.00</td>\n",
       "      <td>7.63</td>\n",
       "      <td>-27.02</td>\n",
       "    </tr>\n",
       "    <tr>\n",
       "      <th>25%</th>\n",
       "      <td>39.50</td>\n",
       "      <td>15.60</td>\n",
       "      <td>190.00</td>\n",
       "      <td>8.30</td>\n",
       "      <td>-26.33</td>\n",
       "    </tr>\n",
       "    <tr>\n",
       "      <th>50%</th>\n",
       "      <td>44.90</td>\n",
       "      <td>17.30</td>\n",
       "      <td>197.00</td>\n",
       "      <td>8.66</td>\n",
       "      <td>-25.85</td>\n",
       "    </tr>\n",
       "    <tr>\n",
       "      <th>75%</th>\n",
       "      <td>48.70</td>\n",
       "      <td>18.60</td>\n",
       "      <td>213.00</td>\n",
       "      <td>9.18</td>\n",
       "      <td>-25.06</td>\n",
       "    </tr>\n",
       "    <tr>\n",
       "      <th>max</th>\n",
       "      <td>59.60</td>\n",
       "      <td>21.50</td>\n",
       "      <td>231.00</td>\n",
       "      <td>10.03</td>\n",
       "      <td>-23.89</td>\n",
       "    </tr>\n",
       "  </tbody>\n",
       "</table>\n",
       "</div>"
      ],
      "text/plain": [
       "       culmenL  culmenD  flipperL  delta_15n  delta_13c\n",
       "count   325.00   325.00    325.00     325.00     325.00\n",
       "mean     44.05    17.12    201.26       8.74     -25.69\n",
       "std       5.47     1.97     13.96       0.55       0.79\n",
       "min      32.10    13.10    172.00       7.63     -27.02\n",
       "25%      39.50    15.60    190.00       8.30     -26.33\n",
       "50%      44.90    17.30    197.00       8.66     -25.85\n",
       "75%      48.70    18.60    213.00       9.18     -25.06\n",
       "max      59.60    21.50    231.00      10.03     -23.89"
      ]
     },
     "execution_count": 119,
     "metadata": {},
     "output_type": "execute_result"
    }
   ],
   "source": [
    "temp_na[['culmenL','culmenD','flipperL','delta_15n','delta_13c']].describe()"
   ]
  },
  {
   "cell_type": "code",
   "execution_count": 144,
   "metadata": {},
   "outputs": [
    {
     "data": {
      "application/vnd.plotly.v1+json": {
       "config": {
        "plotlyServerURL": "https://plot.ly"
       },
       "data": [
        {
         "name": "culmenL(mm)",
         "type": "histogram",
         "x": [
          39.5,
          40.3,
          36.7,
          39.3,
          38.9,
          39.2,
          34.6,
          38.7,
          42.5,
          34.4,
          46,
          37.8,
          37.7,
          35.9,
          38.2,
          38.8,
          35.3,
          40.6,
          40.5,
          37.9,
          40.5,
          39.5,
          37.2,
          39.5,
          40.9,
          36.4,
          39.2,
          38.8,
          42.2,
          37.6,
          36.5,
          36,
          44.1,
          37,
          39.6,
          36,
          42.3,
          39.6,
          40.1,
          35,
          42,
          34.5,
          41.4,
          39,
          40.6,
          36.5,
          37.6,
          35.7,
          41.3,
          37.6,
          41.1,
          36.4,
          41.6,
          35.5,
          41.1,
          35.9,
          41.8,
          33.5,
          39.7,
          39.6,
          45.8,
          35.5,
          42.8,
          40.9,
          37.2,
          36.2,
          42.1,
          34.6,
          42.9,
          36.7,
          35.1,
          37.3,
          41.3,
          36.3,
          36.9,
          38.3,
          38.9,
          35.7,
          41.1,
          34,
          39.6,
          36.2,
          40.8,
          38.1,
          40.3,
          33.1,
          43.2,
          35,
          41,
          37.7,
          37.8,
          37.9,
          39.7,
          38.6,
          38.2,
          38.1,
          43.2,
          38.1,
          45.6,
          39.7,
          42.2,
          39.6,
          42.7,
          38.6,
          37.3,
          35.7,
          41.1,
          36.2,
          37.7,
          40.2,
          41.4,
          35.2,
          40.6,
          38.8,
          41.5,
          39,
          44.1,
          38.5,
          43.1,
          36.8,
          37.5,
          38.1,
          41.1,
          35.6,
          40.2,
          37,
          39.7,
          40.2,
          40.6,
          32.1,
          40.7,
          37.3,
          39,
          39.2,
          36.6,
          36,
          37.8,
          36,
          41.5,
          46.5,
          50,
          51.3,
          45.4,
          52.7,
          45.2,
          46.1,
          51.3,
          46,
          51.3,
          46.6,
          51.7,
          47,
          52,
          45.9,
          50.5,
          50.3,
          58,
          46.4,
          49.2,
          42.4,
          48.5,
          43.2,
          50.6,
          46.7,
          52,
          50.5,
          49.5,
          46.4,
          52.8,
          40.9,
          54.2,
          42.5,
          51,
          49.7,
          47.5,
          47.6,
          52,
          46.9,
          53.5,
          49,
          46.2,
          50.9,
          45.5,
          50.9,
          50.8,
          50.1,
          49,
          51.5,
          49.8,
          48.1,
          51.4,
          45.7,
          50.7,
          42.5,
          52.2,
          45.2,
          49.3,
          50.2,
          45.6,
          46.8,
          45.7,
          55.8,
          43.5,
          49.6,
          50.8,
          50.2,
          46.1,
          50,
          48.7,
          50,
          47.6,
          46.5,
          45.4,
          46.7,
          43.3,
          46.8,
          40.9,
          49,
          45.5,
          48.4,
          45.8,
          49.3,
          42,
          49.2,
          46.2,
          48.7,
          50.2,
          45.1,
          46.5,
          46.3,
          42.9,
          46.1,
          47.8,
          48.2,
          50,
          42.8,
          45.1,
          59.6,
          49.1,
          48.4,
          42.6,
          44.4,
          44,
          48.7,
          42.7,
          49.6,
          45.3,
          49.6,
          50.5,
          43.6,
          45.5,
          50.5,
          44.9,
          45.2,
          46.6,
          48.5,
          45.1,
          50.1,
          46.5,
          45,
          43.8,
          45.5,
          43.2,
          50.4,
          45.3,
          46.2,
          45.7,
          54.3,
          45.8,
          49.8,
          49.5,
          43.5,
          50.7,
          47.7,
          46.4,
          48.2,
          46.5,
          46.4,
          48.6,
          47.5,
          51.1,
          45.2,
          45.2,
          49.1,
          52.5,
          47.4,
          50,
          44.9,
          50.8,
          43.4,
          51.3,
          47.5,
          52.1,
          47.5,
          52.2,
          45.5,
          49.5,
          44.5,
          50.8,
          49.4,
          46.9,
          48.4,
          51.1,
          48.5,
          55.9,
          47.2,
          49.1,
          46.8,
          41.7,
          53.4,
          43.3,
          48.1,
          50.5,
          49.8,
          43.5,
          51.5,
          46.2,
          55.1,
          44.5,
          48.8,
          47.2,
          46.8,
          50.4,
          45.2,
          49.9
         ],
         "xaxis": "x",
         "yaxis": "y"
        },
        {
         "name": "culmenD(mm)",
         "type": "histogram",
         "x": [
          17.4,
          18,
          19.3,
          20.6,
          17.8,
          19.6,
          21.1,
          19,
          20.7,
          18.4,
          21.5,
          18.3,
          18.7,
          19.2,
          18.1,
          17.2,
          18.9,
          18.6,
          17.9,
          18.6,
          18.9,
          16.7,
          18.1,
          17.8,
          18.9,
          17,
          21.1,
          20,
          18.5,
          19.3,
          18,
          18.5,
          19.7,
          16.9,
          18.8,
          17.9,
          21.2,
          17.7,
          18.9,
          17.9,
          19.5,
          18.1,
          18.6,
          17.5,
          18.8,
          16.6,
          19.1,
          16.9,
          21.1,
          17,
          18.2,
          17.1,
          18,
          16.2,
          19.1,
          16.6,
          19.4,
          19,
          18.4,
          17.2,
          18.9,
          17.5,
          18.5,
          16.8,
          19.4,
          16.1,
          19.1,
          17.2,
          17.6,
          18.8,
          19.4,
          17.8,
          20.3,
          19.5,
          18.6,
          19.2,
          18.8,
          18,
          18.1,
          17.1,
          18.1,
          17.3,
          18.9,
          18.6,
          18.5,
          16.1,
          18.5,
          17.9,
          20,
          16,
          20,
          18.6,
          18.9,
          17.2,
          20,
          17,
          19,
          16.5,
          20.3,
          17.7,
          19.5,
          20.7,
          18.3,
          17,
          20.5,
          17,
          18.6,
          17.2,
          19.8,
          17,
          18.5,
          15.9,
          19,
          17.6,
          18.3,
          17.1,
          18,
          17.9,
          19.2,
          18.5,
          18.5,
          17.6,
          17.5,
          17.5,
          20.1,
          16.5,
          17.9,
          17.1,
          17.2,
          15.5,
          17,
          16.8,
          18.7,
          18.6,
          18.4,
          17.8,
          18.1,
          17.1,
          18.5,
          17.9,
          19.5,
          19.2,
          18.7,
          19.8,
          17.8,
          18.2,
          18.2,
          18.9,
          19.9,
          17.8,
          20.3,
          17.3,
          18.1,
          17.1,
          19.6,
          20,
          17.8,
          18.6,
          18.2,
          17.3,
          17.5,
          16.6,
          19.4,
          17.9,
          19,
          18.4,
          19,
          17.8,
          20,
          16.6,
          20.8,
          16.7,
          18.8,
          18.6,
          16.8,
          18.3,
          20.7,
          16.6,
          19.9,
          19.5,
          17.5,
          19.1,
          17,
          17.9,
          18.5,
          17.9,
          19.6,
          18.7,
          17.3,
          16.4,
          19,
          17.3,
          19.7,
          17.3,
          18.8,
          16.6,
          19.9,
          18.8,
          19.4,
          16.5,
          17,
          19.8,
          18.1,
          18.2,
          19,
          18.7,
          13.2,
          16.3,
          14.1,
          15.2,
          14.5,
          13.5,
          14.6,
          15.3,
          13.4,
          15.4,
          13.7,
          16.1,
          13.7,
          14.6,
          14.6,
          15.7,
          13.5,
          15.2,
          14.5,
          15.1,
          14.3,
          14.5,
          14.5,
          15.8,
          13.1,
          15.1,
          15,
          14.3,
          15.3,
          14.2,
          14.5,
          17,
          14.8,
          16.3,
          13.7,
          17.3,
          13.6,
          15.7,
          13.7,
          16,
          13.7,
          15,
          15.9,
          13.9,
          13.9,
          15.9,
          13.3,
          15.8,
          14.2,
          14.1,
          14.4,
          15,
          14.4,
          15.4,
          13.9,
          15,
          14.5,
          15.3,
          13.8,
          14.9,
          13.9,
          15.7,
          14.2,
          16.8,
          16.2,
          14.2,
          15,
          15,
          15.6,
          15.6,
          14.8,
          15,
          16,
          14.2,
          16.3,
          13.8,
          16.4,
          14.5,
          15.6,
          14.6,
          15.9,
          13.8,
          17.3,
          14.4,
          14.2,
          14,
          17,
          15,
          17.1,
          14.5,
          16.1,
          14.7,
          15.7,
          15.8,
          14.6,
          14.4,
          16.5,
          15,
          17,
          15.5,
          15,
          16.1,
          14.7,
          15.8,
          14,
          15.1,
          15.2,
          15.9,
          15.2,
          16.3,
          14.1,
          16,
          15.7,
          16.2,
          13.7,
          14.3,
          15.7,
          14.8,
          16.1
         ],
         "xaxis": "x2",
         "yaxis": "y2"
        },
        {
         "name": "flipperL(mm)",
         "type": "histogram",
         "x": [
          186,
          195,
          193,
          190,
          181,
          195,
          198,
          195,
          197,
          184,
          194,
          174,
          180,
          189,
          185,
          180,
          187,
          183,
          187,
          172,
          180,
          178,
          178,
          188,
          184,
          195,
          196,
          190,
          180,
          181,
          182,
          186,
          196,
          185,
          190,
          190,
          191,
          186,
          188,
          190,
          200,
          187,
          191,
          186,
          193,
          181,
          194,
          185,
          195,
          185,
          192,
          184,
          192,
          195,
          188,
          190,
          198,
          190,
          190,
          196,
          197,
          190,
          195,
          191,
          184,
          187,
          195,
          189,
          196,
          187,
          193,
          191,
          194,
          190,
          189,
          189,
          190,
          202,
          205,
          185,
          186,
          187,
          208,
          190,
          196,
          178,
          192,
          192,
          203,
          183,
          190,
          193,
          184,
          199,
          190,
          181,
          197,
          198,
          191,
          193,
          197,
          191,
          196,
          188,
          199,
          189,
          189,
          187,
          198,
          176,
          202,
          186,
          199,
          191,
          195,
          191,
          210,
          190,
          197,
          193,
          199,
          187,
          190,
          191,
          200,
          185,
          193,
          193,
          187,
          188,
          190,
          192,
          185,
          190,
          184,
          195,
          193,
          187,
          201,
          192,
          196,
          193,
          188,
          197,
          198,
          178,
          197,
          195,
          198,
          193,
          194,
          185,
          201,
          190,
          201,
          197,
          181,
          190,
          195,
          181,
          191,
          187,
          193,
          195,
          197,
          200,
          200,
          191,
          205,
          187,
          201,
          187,
          203,
          195,
          199,
          195,
          210,
          192,
          205,
          210,
          187,
          196,
          196,
          196,
          201,
          190,
          212,
          187,
          198,
          199,
          201,
          193,
          203,
          187,
          197,
          191,
          203,
          202,
          194,
          189,
          195,
          207,
          202,
          193,
          210,
          198,
          211,
          230,
          210,
          218,
          215,
          210,
          211,
          219,
          209,
          215,
          214,
          216,
          214,
          213,
          210,
          217,
          210,
          221,
          209,
          222,
          218,
          215,
          213,
          215,
          215,
          215,
          215,
          210,
          220,
          209,
          207,
          230,
          220,
          220,
          213,
          219,
          208,
          208,
          208,
          225,
          210,
          216,
          222,
          217,
          210,
          225,
          213,
          215,
          210,
          220,
          210,
          225,
          217,
          220,
          208,
          220,
          208,
          224,
          208,
          221,
          214,
          231,
          219,
          230,
          229,
          220,
          223,
          216,
          221,
          221,
          217,
          216,
          230,
          209,
          220,
          215,
          223,
          212,
          221,
          212,
          224,
          212,
          228,
          218,
          218,
          212,
          230,
          218,
          228,
          212,
          224,
          214,
          226,
          216,
          222,
          203,
          225,
          219,
          228,
          215,
          228,
          215,
          210,
          219,
          208,
          209,
          216,
          229,
          213,
          230,
          217,
          230,
          217,
          222,
          214,
          215,
          222,
          212,
          213
         ],
         "xaxis": "x3",
         "yaxis": "y3"
        }
       ],
       "layout": {
        "annotations": [
         {
          "font": {
           "size": 16
          },
          "showarrow": false,
          "text": "Culmen Length(mm)",
          "x": 0.225,
          "xanchor": "center",
          "xref": "paper",
          "y": 1,
          "yanchor": "bottom",
          "yref": "paper"
         },
         {
          "font": {
           "size": 16
          },
          "showarrow": false,
          "text": "Culmen Depth(mm)",
          "x": 0.775,
          "xanchor": "center",
          "xref": "paper",
          "y": 1,
          "yanchor": "bottom",
          "yref": "paper"
         },
         {
          "font": {
           "size": 16
          },
          "showarrow": false,
          "text": "Flipper Length(mm)",
          "x": 0.225,
          "xanchor": "center",
          "xref": "paper",
          "y": 0.375,
          "yanchor": "bottom",
          "yref": "paper"
         }
        ],
        "height": 800,
        "legend": {
         "x": 0.7,
         "y": 0.1
        },
        "margin": {
         "t": 150
        },
        "template": {
         "data": {
          "bar": [
           {
            "error_x": {
             "color": "#f2f5fa"
            },
            "error_y": {
             "color": "#f2f5fa"
            },
            "marker": {
             "line": {
              "color": "rgb(17,17,17)",
              "width": 0.5
             },
             "pattern": {
              "fillmode": "overlay",
              "size": 10,
              "solidity": 0.2
             }
            },
            "type": "bar"
           }
          ],
          "barpolar": [
           {
            "marker": {
             "line": {
              "color": "rgb(17,17,17)",
              "width": 0.5
             },
             "pattern": {
              "fillmode": "overlay",
              "size": 10,
              "solidity": 0.2
             }
            },
            "type": "barpolar"
           }
          ],
          "carpet": [
           {
            "aaxis": {
             "endlinecolor": "#A2B1C6",
             "gridcolor": "#506784",
             "linecolor": "#506784",
             "minorgridcolor": "#506784",
             "startlinecolor": "#A2B1C6"
            },
            "baxis": {
             "endlinecolor": "#A2B1C6",
             "gridcolor": "#506784",
             "linecolor": "#506784",
             "minorgridcolor": "#506784",
             "startlinecolor": "#A2B1C6"
            },
            "type": "carpet"
           }
          ],
          "choropleth": [
           {
            "colorbar": {
             "outlinewidth": 0,
             "ticks": ""
            },
            "type": "choropleth"
           }
          ],
          "contour": [
           {
            "colorbar": {
             "outlinewidth": 0,
             "ticks": ""
            },
            "colorscale": [
             [
              0,
              "#0d0887"
             ],
             [
              0.1111111111111111,
              "#46039f"
             ],
             [
              0.2222222222222222,
              "#7201a8"
             ],
             [
              0.3333333333333333,
              "#9c179e"
             ],
             [
              0.4444444444444444,
              "#bd3786"
             ],
             [
              0.5555555555555556,
              "#d8576b"
             ],
             [
              0.6666666666666666,
              "#ed7953"
             ],
             [
              0.7777777777777778,
              "#fb9f3a"
             ],
             [
              0.8888888888888888,
              "#fdca26"
             ],
             [
              1,
              "#f0f921"
             ]
            ],
            "type": "contour"
           }
          ],
          "contourcarpet": [
           {
            "colorbar": {
             "outlinewidth": 0,
             "ticks": ""
            },
            "type": "contourcarpet"
           }
          ],
          "heatmap": [
           {
            "colorbar": {
             "outlinewidth": 0,
             "ticks": ""
            },
            "colorscale": [
             [
              0,
              "#0d0887"
             ],
             [
              0.1111111111111111,
              "#46039f"
             ],
             [
              0.2222222222222222,
              "#7201a8"
             ],
             [
              0.3333333333333333,
              "#9c179e"
             ],
             [
              0.4444444444444444,
              "#bd3786"
             ],
             [
              0.5555555555555556,
              "#d8576b"
             ],
             [
              0.6666666666666666,
              "#ed7953"
             ],
             [
              0.7777777777777778,
              "#fb9f3a"
             ],
             [
              0.8888888888888888,
              "#fdca26"
             ],
             [
              1,
              "#f0f921"
             ]
            ],
            "type": "heatmap"
           }
          ],
          "heatmapgl": [
           {
            "colorbar": {
             "outlinewidth": 0,
             "ticks": ""
            },
            "colorscale": [
             [
              0,
              "#0d0887"
             ],
             [
              0.1111111111111111,
              "#46039f"
             ],
             [
              0.2222222222222222,
              "#7201a8"
             ],
             [
              0.3333333333333333,
              "#9c179e"
             ],
             [
              0.4444444444444444,
              "#bd3786"
             ],
             [
              0.5555555555555556,
              "#d8576b"
             ],
             [
              0.6666666666666666,
              "#ed7953"
             ],
             [
              0.7777777777777778,
              "#fb9f3a"
             ],
             [
              0.8888888888888888,
              "#fdca26"
             ],
             [
              1,
              "#f0f921"
             ]
            ],
            "type": "heatmapgl"
           }
          ],
          "histogram": [
           {
            "marker": {
             "pattern": {
              "fillmode": "overlay",
              "size": 10,
              "solidity": 0.2
             }
            },
            "type": "histogram"
           }
          ],
          "histogram2d": [
           {
            "colorbar": {
             "outlinewidth": 0,
             "ticks": ""
            },
            "colorscale": [
             [
              0,
              "#0d0887"
             ],
             [
              0.1111111111111111,
              "#46039f"
             ],
             [
              0.2222222222222222,
              "#7201a8"
             ],
             [
              0.3333333333333333,
              "#9c179e"
             ],
             [
              0.4444444444444444,
              "#bd3786"
             ],
             [
              0.5555555555555556,
              "#d8576b"
             ],
             [
              0.6666666666666666,
              "#ed7953"
             ],
             [
              0.7777777777777778,
              "#fb9f3a"
             ],
             [
              0.8888888888888888,
              "#fdca26"
             ],
             [
              1,
              "#f0f921"
             ]
            ],
            "type": "histogram2d"
           }
          ],
          "histogram2dcontour": [
           {
            "colorbar": {
             "outlinewidth": 0,
             "ticks": ""
            },
            "colorscale": [
             [
              0,
              "#0d0887"
             ],
             [
              0.1111111111111111,
              "#46039f"
             ],
             [
              0.2222222222222222,
              "#7201a8"
             ],
             [
              0.3333333333333333,
              "#9c179e"
             ],
             [
              0.4444444444444444,
              "#bd3786"
             ],
             [
              0.5555555555555556,
              "#d8576b"
             ],
             [
              0.6666666666666666,
              "#ed7953"
             ],
             [
              0.7777777777777778,
              "#fb9f3a"
             ],
             [
              0.8888888888888888,
              "#fdca26"
             ],
             [
              1,
              "#f0f921"
             ]
            ],
            "type": "histogram2dcontour"
           }
          ],
          "mesh3d": [
           {
            "colorbar": {
             "outlinewidth": 0,
             "ticks": ""
            },
            "type": "mesh3d"
           }
          ],
          "parcoords": [
           {
            "line": {
             "colorbar": {
              "outlinewidth": 0,
              "ticks": ""
             }
            },
            "type": "parcoords"
           }
          ],
          "pie": [
           {
            "automargin": true,
            "type": "pie"
           }
          ],
          "scatter": [
           {
            "marker": {
             "line": {
              "color": "#283442"
             }
            },
            "type": "scatter"
           }
          ],
          "scatter3d": [
           {
            "line": {
             "colorbar": {
              "outlinewidth": 0,
              "ticks": ""
             }
            },
            "marker": {
             "colorbar": {
              "outlinewidth": 0,
              "ticks": ""
             }
            },
            "type": "scatter3d"
           }
          ],
          "scattercarpet": [
           {
            "marker": {
             "colorbar": {
              "outlinewidth": 0,
              "ticks": ""
             }
            },
            "type": "scattercarpet"
           }
          ],
          "scattergeo": [
           {
            "marker": {
             "colorbar": {
              "outlinewidth": 0,
              "ticks": ""
             }
            },
            "type": "scattergeo"
           }
          ],
          "scattergl": [
           {
            "marker": {
             "line": {
              "color": "#283442"
             }
            },
            "type": "scattergl"
           }
          ],
          "scattermapbox": [
           {
            "marker": {
             "colorbar": {
              "outlinewidth": 0,
              "ticks": ""
             }
            },
            "type": "scattermapbox"
           }
          ],
          "scatterpolar": [
           {
            "marker": {
             "colorbar": {
              "outlinewidth": 0,
              "ticks": ""
             }
            },
            "type": "scatterpolar"
           }
          ],
          "scatterpolargl": [
           {
            "marker": {
             "colorbar": {
              "outlinewidth": 0,
              "ticks": ""
             }
            },
            "type": "scatterpolargl"
           }
          ],
          "scatterternary": [
           {
            "marker": {
             "colorbar": {
              "outlinewidth": 0,
              "ticks": ""
             }
            },
            "type": "scatterternary"
           }
          ],
          "surface": [
           {
            "colorbar": {
             "outlinewidth": 0,
             "ticks": ""
            },
            "colorscale": [
             [
              0,
              "#0d0887"
             ],
             [
              0.1111111111111111,
              "#46039f"
             ],
             [
              0.2222222222222222,
              "#7201a8"
             ],
             [
              0.3333333333333333,
              "#9c179e"
             ],
             [
              0.4444444444444444,
              "#bd3786"
             ],
             [
              0.5555555555555556,
              "#d8576b"
             ],
             [
              0.6666666666666666,
              "#ed7953"
             ],
             [
              0.7777777777777778,
              "#fb9f3a"
             ],
             [
              0.8888888888888888,
              "#fdca26"
             ],
             [
              1,
              "#f0f921"
             ]
            ],
            "type": "surface"
           }
          ],
          "table": [
           {
            "cells": {
             "fill": {
              "color": "#506784"
             },
             "line": {
              "color": "rgb(17,17,17)"
             }
            },
            "header": {
             "fill": {
              "color": "#2a3f5f"
             },
             "line": {
              "color": "rgb(17,17,17)"
             }
            },
            "type": "table"
           }
          ]
         },
         "layout": {
          "annotationdefaults": {
           "arrowcolor": "#f2f5fa",
           "arrowhead": 0,
           "arrowwidth": 1
          },
          "autotypenumbers": "strict",
          "coloraxis": {
           "colorbar": {
            "outlinewidth": 0,
            "ticks": ""
           }
          },
          "colorscale": {
           "diverging": [
            [
             0,
             "#8e0152"
            ],
            [
             0.1,
             "#c51b7d"
            ],
            [
             0.2,
             "#de77ae"
            ],
            [
             0.3,
             "#f1b6da"
            ],
            [
             0.4,
             "#fde0ef"
            ],
            [
             0.5,
             "#f7f7f7"
            ],
            [
             0.6,
             "#e6f5d0"
            ],
            [
             0.7,
             "#b8e186"
            ],
            [
             0.8,
             "#7fbc41"
            ],
            [
             0.9,
             "#4d9221"
            ],
            [
             1,
             "#276419"
            ]
           ],
           "sequential": [
            [
             0,
             "#0d0887"
            ],
            [
             0.1111111111111111,
             "#46039f"
            ],
            [
             0.2222222222222222,
             "#7201a8"
            ],
            [
             0.3333333333333333,
             "#9c179e"
            ],
            [
             0.4444444444444444,
             "#bd3786"
            ],
            [
             0.5555555555555556,
             "#d8576b"
            ],
            [
             0.6666666666666666,
             "#ed7953"
            ],
            [
             0.7777777777777778,
             "#fb9f3a"
            ],
            [
             0.8888888888888888,
             "#fdca26"
            ],
            [
             1,
             "#f0f921"
            ]
           ],
           "sequentialminus": [
            [
             0,
             "#0d0887"
            ],
            [
             0.1111111111111111,
             "#46039f"
            ],
            [
             0.2222222222222222,
             "#7201a8"
            ],
            [
             0.3333333333333333,
             "#9c179e"
            ],
            [
             0.4444444444444444,
             "#bd3786"
            ],
            [
             0.5555555555555556,
             "#d8576b"
            ],
            [
             0.6666666666666666,
             "#ed7953"
            ],
            [
             0.7777777777777778,
             "#fb9f3a"
            ],
            [
             0.8888888888888888,
             "#fdca26"
            ],
            [
             1,
             "#f0f921"
            ]
           ]
          },
          "colorway": [
           "#636efa",
           "#EF553B",
           "#00cc96",
           "#ab63fa",
           "#FFA15A",
           "#19d3f3",
           "#FF6692",
           "#B6E880",
           "#FF97FF",
           "#FECB52"
          ],
          "font": {
           "color": "#f2f5fa",
           "family": "Fira Code",
           "size": 20
          },
          "geo": {
           "bgcolor": "rgb(17,17,17)",
           "lakecolor": "rgb(17,17,17)",
           "landcolor": "rgb(17,17,17)",
           "showlakes": true,
           "showland": true,
           "subunitcolor": "#506784"
          },
          "hoverlabel": {
           "align": "left"
          },
          "hovermode": "closest",
          "mapbox": {
           "style": "dark"
          },
          "paper_bgcolor": "rgb(17,17,17)",
          "plot_bgcolor": "rgb(17,17,17)",
          "polar": {
           "angularaxis": {
            "gridcolor": "#506784",
            "linecolor": "#506784",
            "ticks": ""
           },
           "bgcolor": "rgb(17,17,17)",
           "radialaxis": {
            "gridcolor": "#506784",
            "linecolor": "#506784",
            "ticks": ""
           }
          },
          "scene": {
           "xaxis": {
            "backgroundcolor": "rgb(17,17,17)",
            "gridcolor": "#506784",
            "gridwidth": 2,
            "linecolor": "#506784",
            "showbackground": true,
            "ticks": "",
            "zerolinecolor": "#C8D4E3"
           },
           "yaxis": {
            "backgroundcolor": "rgb(17,17,17)",
            "gridcolor": "#506784",
            "gridwidth": 2,
            "linecolor": "#506784",
            "showbackground": true,
            "ticks": "",
            "zerolinecolor": "#C8D4E3"
           },
           "zaxis": {
            "backgroundcolor": "rgb(17,17,17)",
            "gridcolor": "#506784",
            "gridwidth": 2,
            "linecolor": "#506784",
            "showbackground": true,
            "ticks": "",
            "zerolinecolor": "#C8D4E3"
           }
          },
          "shapedefaults": {
           "line": {
            "color": "#f2f5fa"
           }
          },
          "sliderdefaults": {
           "bgcolor": "#C8D4E3",
           "bordercolor": "rgb(17,17,17)",
           "borderwidth": 1,
           "tickwidth": 0
          },
          "ternary": {
           "aaxis": {
            "gridcolor": "#506784",
            "linecolor": "#506784",
            "ticks": ""
           },
           "baxis": {
            "gridcolor": "#506784",
            "linecolor": "#506784",
            "ticks": ""
           },
           "bgcolor": "rgb(17,17,17)",
           "caxis": {
            "gridcolor": "#506784",
            "linecolor": "#506784",
            "ticks": ""
           }
          },
          "title": {
           "x": 0.05
          },
          "updatemenudefaults": {
           "bgcolor": "#506784",
           "borderwidth": 0
          },
          "xaxis": {
           "automargin": true,
           "gridcolor": "#283442",
           "linecolor": "#506784",
           "ticks": "",
           "title": {
            "standoff": 15
           },
           "zerolinecolor": "#283442",
           "zerolinewidth": 2
          },
          "yaxis": {
           "automargin": true,
           "gridcolor": "#283442",
           "linecolor": "#506784",
           "ticks": "",
           "title": {
            "standoff": 15
           },
           "zerolinecolor": "#283442",
           "zerolinewidth": 2
          }
         }
        },
        "title": {
         "font": {
          "size": 30
         },
         "text": "Physical Attributes Histogram"
        },
        "width": 1000,
        "xaxis": {
         "anchor": "y",
         "domain": [
          0,
          0.45
         ]
        },
        "xaxis2": {
         "anchor": "y2",
         "domain": [
          0.55,
          1
         ]
        },
        "xaxis3": {
         "anchor": "y3",
         "domain": [
          0,
          0.45
         ]
        },
        "xaxis4": {
         "anchor": "y4",
         "domain": [
          0.55,
          1
         ]
        },
        "yaxis": {
         "anchor": "x",
         "domain": [
          0.625,
          1
         ]
        },
        "yaxis2": {
         "anchor": "x2",
         "domain": [
          0.625,
          1
         ]
        },
        "yaxis3": {
         "anchor": "x3",
         "domain": [
          0,
          0.375
         ]
        },
        "yaxis4": {
         "anchor": "x4",
         "domain": [
          0,
          0.375
         ]
        }
       }
      },
      "text/html": [
       "<div>                            <div id=\"decaed0e-043a-42cb-aac0-6735f292347b\" class=\"plotly-graph-div\" style=\"height:800px; width:1000px;\"></div>            <script type=\"text/javascript\">                require([\"plotly\"], function(Plotly) {                    window.PLOTLYENV=window.PLOTLYENV || {};                                    if (document.getElementById(\"decaed0e-043a-42cb-aac0-6735f292347b\")) {                    Plotly.newPlot(                        \"decaed0e-043a-42cb-aac0-6735f292347b\",                        [{\"name\":\"culmenL(mm)\",\"x\":[39.5,40.3,36.7,39.3,38.9,39.2,34.6,38.7,42.5,34.4,46.0,37.8,37.7,35.9,38.2,38.8,35.3,40.6,40.5,37.9,40.5,39.5,37.2,39.5,40.9,36.4,39.2,38.8,42.2,37.6,36.5,36.0,44.1,37.0,39.6,36.0,42.3,39.6,40.1,35.0,42.0,34.5,41.4,39.0,40.6,36.5,37.6,35.7,41.3,37.6,41.1,36.4,41.6,35.5,41.1,35.9,41.8,33.5,39.7,39.6,45.8,35.5,42.8,40.9,37.2,36.2,42.1,34.6,42.9,36.7,35.1,37.3,41.3,36.3,36.9,38.3,38.9,35.7,41.1,34.0,39.6,36.2,40.8,38.1,40.3,33.1,43.2,35.0,41.0,37.7,37.8,37.9,39.7,38.6,38.2,38.1,43.2,38.1,45.6,39.7,42.2,39.6,42.7,38.6,37.3,35.7,41.1,36.2,37.7,40.2,41.4,35.2,40.6,38.8,41.5,39.0,44.1,38.5,43.1,36.8,37.5,38.1,41.1,35.6,40.2,37.0,39.7,40.2,40.6,32.1,40.7,37.3,39.0,39.2,36.6,36.0,37.8,36.0,41.5,46.5,50.0,51.3,45.4,52.7,45.2,46.1,51.3,46.0,51.3,46.6,51.7,47.0,52.0,45.9,50.5,50.3,58.0,46.4,49.2,42.4,48.5,43.2,50.6,46.7,52.0,50.5,49.5,46.4,52.8,40.9,54.2,42.5,51.0,49.7,47.5,47.6,52.0,46.9,53.5,49.0,46.2,50.9,45.5,50.9,50.8,50.1,49.0,51.5,49.8,48.1,51.4,45.7,50.7,42.5,52.2,45.2,49.3,50.2,45.6,46.8,45.7,55.8,43.5,49.6,50.8,50.2,46.1,50.0,48.7,50.0,47.6,46.5,45.4,46.7,43.3,46.8,40.9,49.0,45.5,48.4,45.8,49.3,42.0,49.2,46.2,48.7,50.2,45.1,46.5,46.3,42.9,46.1,47.8,48.2,50.0,42.8,45.1,59.6,49.1,48.4,42.6,44.4,44.0,48.7,42.7,49.6,45.3,49.6,50.5,43.6,45.5,50.5,44.9,45.2,46.6,48.5,45.1,50.1,46.5,45.0,43.8,45.5,43.2,50.4,45.3,46.2,45.7,54.3,45.8,49.8,49.5,43.5,50.7,47.7,46.4,48.2,46.5,46.4,48.6,47.5,51.1,45.2,45.2,49.1,52.5,47.4,50.0,44.9,50.8,43.4,51.3,47.5,52.1,47.5,52.2,45.5,49.5,44.5,50.8,49.4,46.9,48.4,51.1,48.5,55.9,47.2,49.1,46.8,41.7,53.4,43.3,48.1,50.5,49.8,43.5,51.5,46.2,55.1,44.5,48.8,47.2,46.8,50.4,45.2,49.9],\"type\":\"histogram\",\"xaxis\":\"x\",\"yaxis\":\"y\"},{\"name\":\"culmenD(mm)\",\"x\":[17.4,18.0,19.3,20.6,17.8,19.6,21.1,19.0,20.7,18.4,21.5,18.3,18.7,19.2,18.1,17.2,18.9,18.6,17.9,18.6,18.9,16.7,18.1,17.8,18.9,17.0,21.1,20.0,18.5,19.3,18.0,18.5,19.7,16.9,18.8,17.9,21.2,17.7,18.9,17.9,19.5,18.1,18.6,17.5,18.8,16.6,19.1,16.9,21.1,17.0,18.2,17.1,18.0,16.2,19.1,16.6,19.4,19.0,18.4,17.2,18.9,17.5,18.5,16.8,19.4,16.1,19.1,17.2,17.6,18.8,19.4,17.8,20.3,19.5,18.6,19.2,18.8,18.0,18.1,17.1,18.1,17.3,18.9,18.6,18.5,16.1,18.5,17.9,20.0,16.0,20.0,18.6,18.9,17.2,20.0,17.0,19.0,16.5,20.3,17.7,19.5,20.7,18.3,17.0,20.5,17.0,18.6,17.2,19.8,17.0,18.5,15.9,19.0,17.6,18.3,17.1,18.0,17.9,19.2,18.5,18.5,17.6,17.5,17.5,20.1,16.5,17.9,17.1,17.2,15.5,17.0,16.8,18.7,18.6,18.4,17.8,18.1,17.1,18.5,17.9,19.5,19.2,18.7,19.8,17.8,18.2,18.2,18.9,19.9,17.8,20.3,17.3,18.1,17.1,19.6,20.0,17.8,18.6,18.2,17.3,17.5,16.6,19.4,17.9,19.0,18.4,19.0,17.8,20.0,16.6,20.8,16.7,18.8,18.6,16.8,18.3,20.7,16.6,19.9,19.5,17.5,19.1,17.0,17.9,18.5,17.9,19.6,18.7,17.3,16.4,19.0,17.3,19.7,17.3,18.8,16.6,19.9,18.8,19.4,16.5,17.0,19.8,18.1,18.2,19.0,18.7,13.2,16.3,14.1,15.2,14.5,13.5,14.6,15.3,13.4,15.4,13.7,16.1,13.7,14.6,14.6,15.7,13.5,15.2,14.5,15.1,14.3,14.5,14.5,15.8,13.1,15.1,15.0,14.3,15.3,14.2,14.5,17.0,14.8,16.3,13.7,17.3,13.6,15.7,13.7,16.0,13.7,15.0,15.9,13.9,13.9,15.9,13.3,15.8,14.2,14.1,14.4,15.0,14.4,15.4,13.9,15.0,14.5,15.3,13.8,14.9,13.9,15.7,14.2,16.8,16.2,14.2,15.0,15.0,15.6,15.6,14.8,15.0,16.0,14.2,16.3,13.8,16.4,14.5,15.6,14.6,15.9,13.8,17.3,14.4,14.2,14.0,17.0,15.0,17.1,14.5,16.1,14.7,15.7,15.8,14.6,14.4,16.5,15.0,17.0,15.5,15.0,16.1,14.7,15.8,14.0,15.1,15.2,15.9,15.2,16.3,14.1,16.0,15.7,16.2,13.7,14.3,15.7,14.8,16.1],\"type\":\"histogram\",\"xaxis\":\"x2\",\"yaxis\":\"y2\"},{\"name\":\"flipperL(mm)\",\"x\":[186.0,195.0,193.0,190.0,181.0,195.0,198.0,195.0,197.0,184.0,194.0,174.0,180.0,189.0,185.0,180.0,187.0,183.0,187.0,172.0,180.0,178.0,178.0,188.0,184.0,195.0,196.0,190.0,180.0,181.0,182.0,186.0,196.0,185.0,190.0,190.0,191.0,186.0,188.0,190.0,200.0,187.0,191.0,186.0,193.0,181.0,194.0,185.0,195.0,185.0,192.0,184.0,192.0,195.0,188.0,190.0,198.0,190.0,190.0,196.0,197.0,190.0,195.0,191.0,184.0,187.0,195.0,189.0,196.0,187.0,193.0,191.0,194.0,190.0,189.0,189.0,190.0,202.0,205.0,185.0,186.0,187.0,208.0,190.0,196.0,178.0,192.0,192.0,203.0,183.0,190.0,193.0,184.0,199.0,190.0,181.0,197.0,198.0,191.0,193.0,197.0,191.0,196.0,188.0,199.0,189.0,189.0,187.0,198.0,176.0,202.0,186.0,199.0,191.0,195.0,191.0,210.0,190.0,197.0,193.0,199.0,187.0,190.0,191.0,200.0,185.0,193.0,193.0,187.0,188.0,190.0,192.0,185.0,190.0,184.0,195.0,193.0,187.0,201.0,192.0,196.0,193.0,188.0,197.0,198.0,178.0,197.0,195.0,198.0,193.0,194.0,185.0,201.0,190.0,201.0,197.0,181.0,190.0,195.0,181.0,191.0,187.0,193.0,195.0,197.0,200.0,200.0,191.0,205.0,187.0,201.0,187.0,203.0,195.0,199.0,195.0,210.0,192.0,205.0,210.0,187.0,196.0,196.0,196.0,201.0,190.0,212.0,187.0,198.0,199.0,201.0,193.0,203.0,187.0,197.0,191.0,203.0,202.0,194.0,189.0,195.0,207.0,202.0,193.0,210.0,198.0,211.0,230.0,210.0,218.0,215.0,210.0,211.0,219.0,209.0,215.0,214.0,216.0,214.0,213.0,210.0,217.0,210.0,221.0,209.0,222.0,218.0,215.0,213.0,215.0,215.0,215.0,215.0,210.0,220.0,209.0,207.0,230.0,220.0,220.0,213.0,219.0,208.0,208.0,208.0,225.0,210.0,216.0,222.0,217.0,210.0,225.0,213.0,215.0,210.0,220.0,210.0,225.0,217.0,220.0,208.0,220.0,208.0,224.0,208.0,221.0,214.0,231.0,219.0,230.0,229.0,220.0,223.0,216.0,221.0,221.0,217.0,216.0,230.0,209.0,220.0,215.0,223.0,212.0,221.0,212.0,224.0,212.0,228.0,218.0,218.0,212.0,230.0,218.0,228.0,212.0,224.0,214.0,226.0,216.0,222.0,203.0,225.0,219.0,228.0,215.0,228.0,215.0,210.0,219.0,208.0,209.0,216.0,229.0,213.0,230.0,217.0,230.0,217.0,222.0,214.0,215.0,222.0,212.0,213.0],\"type\":\"histogram\",\"xaxis\":\"x3\",\"yaxis\":\"y3\"}],                        {\"template\":{\"data\":{\"barpolar\":[{\"marker\":{\"line\":{\"color\":\"rgb(17,17,17)\",\"width\":0.5},\"pattern\":{\"fillmode\":\"overlay\",\"size\":10,\"solidity\":0.2}},\"type\":\"barpolar\"}],\"bar\":[{\"error_x\":{\"color\":\"#f2f5fa\"},\"error_y\":{\"color\":\"#f2f5fa\"},\"marker\":{\"line\":{\"color\":\"rgb(17,17,17)\",\"width\":0.5},\"pattern\":{\"fillmode\":\"overlay\",\"size\":10,\"solidity\":0.2}},\"type\":\"bar\"}],\"carpet\":[{\"aaxis\":{\"endlinecolor\":\"#A2B1C6\",\"gridcolor\":\"#506784\",\"linecolor\":\"#506784\",\"minorgridcolor\":\"#506784\",\"startlinecolor\":\"#A2B1C6\"},\"baxis\":{\"endlinecolor\":\"#A2B1C6\",\"gridcolor\":\"#506784\",\"linecolor\":\"#506784\",\"minorgridcolor\":\"#506784\",\"startlinecolor\":\"#A2B1C6\"},\"type\":\"carpet\"}],\"choropleth\":[{\"colorbar\":{\"outlinewidth\":0,\"ticks\":\"\"},\"type\":\"choropleth\"}],\"contourcarpet\":[{\"colorbar\":{\"outlinewidth\":0,\"ticks\":\"\"},\"type\":\"contourcarpet\"}],\"contour\":[{\"colorbar\":{\"outlinewidth\":0,\"ticks\":\"\"},\"colorscale\":[[0.0,\"#0d0887\"],[0.1111111111111111,\"#46039f\"],[0.2222222222222222,\"#7201a8\"],[0.3333333333333333,\"#9c179e\"],[0.4444444444444444,\"#bd3786\"],[0.5555555555555556,\"#d8576b\"],[0.6666666666666666,\"#ed7953\"],[0.7777777777777778,\"#fb9f3a\"],[0.8888888888888888,\"#fdca26\"],[1.0,\"#f0f921\"]],\"type\":\"contour\"}],\"heatmapgl\":[{\"colorbar\":{\"outlinewidth\":0,\"ticks\":\"\"},\"colorscale\":[[0.0,\"#0d0887\"],[0.1111111111111111,\"#46039f\"],[0.2222222222222222,\"#7201a8\"],[0.3333333333333333,\"#9c179e\"],[0.4444444444444444,\"#bd3786\"],[0.5555555555555556,\"#d8576b\"],[0.6666666666666666,\"#ed7953\"],[0.7777777777777778,\"#fb9f3a\"],[0.8888888888888888,\"#fdca26\"],[1.0,\"#f0f921\"]],\"type\":\"heatmapgl\"}],\"heatmap\":[{\"colorbar\":{\"outlinewidth\":0,\"ticks\":\"\"},\"colorscale\":[[0.0,\"#0d0887\"],[0.1111111111111111,\"#46039f\"],[0.2222222222222222,\"#7201a8\"],[0.3333333333333333,\"#9c179e\"],[0.4444444444444444,\"#bd3786\"],[0.5555555555555556,\"#d8576b\"],[0.6666666666666666,\"#ed7953\"],[0.7777777777777778,\"#fb9f3a\"],[0.8888888888888888,\"#fdca26\"],[1.0,\"#f0f921\"]],\"type\":\"heatmap\"}],\"histogram2dcontour\":[{\"colorbar\":{\"outlinewidth\":0,\"ticks\":\"\"},\"colorscale\":[[0.0,\"#0d0887\"],[0.1111111111111111,\"#46039f\"],[0.2222222222222222,\"#7201a8\"],[0.3333333333333333,\"#9c179e\"],[0.4444444444444444,\"#bd3786\"],[0.5555555555555556,\"#d8576b\"],[0.6666666666666666,\"#ed7953\"],[0.7777777777777778,\"#fb9f3a\"],[0.8888888888888888,\"#fdca26\"],[1.0,\"#f0f921\"]],\"type\":\"histogram2dcontour\"}],\"histogram2d\":[{\"colorbar\":{\"outlinewidth\":0,\"ticks\":\"\"},\"colorscale\":[[0.0,\"#0d0887\"],[0.1111111111111111,\"#46039f\"],[0.2222222222222222,\"#7201a8\"],[0.3333333333333333,\"#9c179e\"],[0.4444444444444444,\"#bd3786\"],[0.5555555555555556,\"#d8576b\"],[0.6666666666666666,\"#ed7953\"],[0.7777777777777778,\"#fb9f3a\"],[0.8888888888888888,\"#fdca26\"],[1.0,\"#f0f921\"]],\"type\":\"histogram2d\"}],\"histogram\":[{\"marker\":{\"pattern\":{\"fillmode\":\"overlay\",\"size\":10,\"solidity\":0.2}},\"type\":\"histogram\"}],\"mesh3d\":[{\"colorbar\":{\"outlinewidth\":0,\"ticks\":\"\"},\"type\":\"mesh3d\"}],\"parcoords\":[{\"line\":{\"colorbar\":{\"outlinewidth\":0,\"ticks\":\"\"}},\"type\":\"parcoords\"}],\"pie\":[{\"automargin\":true,\"type\":\"pie\"}],\"scatter3d\":[{\"line\":{\"colorbar\":{\"outlinewidth\":0,\"ticks\":\"\"}},\"marker\":{\"colorbar\":{\"outlinewidth\":0,\"ticks\":\"\"}},\"type\":\"scatter3d\"}],\"scattercarpet\":[{\"marker\":{\"colorbar\":{\"outlinewidth\":0,\"ticks\":\"\"}},\"type\":\"scattercarpet\"}],\"scattergeo\":[{\"marker\":{\"colorbar\":{\"outlinewidth\":0,\"ticks\":\"\"}},\"type\":\"scattergeo\"}],\"scattergl\":[{\"marker\":{\"line\":{\"color\":\"#283442\"}},\"type\":\"scattergl\"}],\"scattermapbox\":[{\"marker\":{\"colorbar\":{\"outlinewidth\":0,\"ticks\":\"\"}},\"type\":\"scattermapbox\"}],\"scatterpolargl\":[{\"marker\":{\"colorbar\":{\"outlinewidth\":0,\"ticks\":\"\"}},\"type\":\"scatterpolargl\"}],\"scatterpolar\":[{\"marker\":{\"colorbar\":{\"outlinewidth\":0,\"ticks\":\"\"}},\"type\":\"scatterpolar\"}],\"scatter\":[{\"marker\":{\"line\":{\"color\":\"#283442\"}},\"type\":\"scatter\"}],\"scatterternary\":[{\"marker\":{\"colorbar\":{\"outlinewidth\":0,\"ticks\":\"\"}},\"type\":\"scatterternary\"}],\"surface\":[{\"colorbar\":{\"outlinewidth\":0,\"ticks\":\"\"},\"colorscale\":[[0.0,\"#0d0887\"],[0.1111111111111111,\"#46039f\"],[0.2222222222222222,\"#7201a8\"],[0.3333333333333333,\"#9c179e\"],[0.4444444444444444,\"#bd3786\"],[0.5555555555555556,\"#d8576b\"],[0.6666666666666666,\"#ed7953\"],[0.7777777777777778,\"#fb9f3a\"],[0.8888888888888888,\"#fdca26\"],[1.0,\"#f0f921\"]],\"type\":\"surface\"}],\"table\":[{\"cells\":{\"fill\":{\"color\":\"#506784\"},\"line\":{\"color\":\"rgb(17,17,17)\"}},\"header\":{\"fill\":{\"color\":\"#2a3f5f\"},\"line\":{\"color\":\"rgb(17,17,17)\"}},\"type\":\"table\"}]},\"layout\":{\"annotationdefaults\":{\"arrowcolor\":\"#f2f5fa\",\"arrowhead\":0,\"arrowwidth\":1},\"autotypenumbers\":\"strict\",\"coloraxis\":{\"colorbar\":{\"outlinewidth\":0,\"ticks\":\"\"}},\"colorscale\":{\"diverging\":[[0,\"#8e0152\"],[0.1,\"#c51b7d\"],[0.2,\"#de77ae\"],[0.3,\"#f1b6da\"],[0.4,\"#fde0ef\"],[0.5,\"#f7f7f7\"],[0.6,\"#e6f5d0\"],[0.7,\"#b8e186\"],[0.8,\"#7fbc41\"],[0.9,\"#4d9221\"],[1,\"#276419\"]],\"sequential\":[[0.0,\"#0d0887\"],[0.1111111111111111,\"#46039f\"],[0.2222222222222222,\"#7201a8\"],[0.3333333333333333,\"#9c179e\"],[0.4444444444444444,\"#bd3786\"],[0.5555555555555556,\"#d8576b\"],[0.6666666666666666,\"#ed7953\"],[0.7777777777777778,\"#fb9f3a\"],[0.8888888888888888,\"#fdca26\"],[1.0,\"#f0f921\"]],\"sequentialminus\":[[0.0,\"#0d0887\"],[0.1111111111111111,\"#46039f\"],[0.2222222222222222,\"#7201a8\"],[0.3333333333333333,\"#9c179e\"],[0.4444444444444444,\"#bd3786\"],[0.5555555555555556,\"#d8576b\"],[0.6666666666666666,\"#ed7953\"],[0.7777777777777778,\"#fb9f3a\"],[0.8888888888888888,\"#fdca26\"],[1.0,\"#f0f921\"]]},\"colorway\":[\"#636efa\",\"#EF553B\",\"#00cc96\",\"#ab63fa\",\"#FFA15A\",\"#19d3f3\",\"#FF6692\",\"#B6E880\",\"#FF97FF\",\"#FECB52\"],\"font\":{\"color\":\"#f2f5fa\",\"family\":\"Fira Code\",\"size\":20},\"geo\":{\"bgcolor\":\"rgb(17,17,17)\",\"lakecolor\":\"rgb(17,17,17)\",\"landcolor\":\"rgb(17,17,17)\",\"showlakes\":true,\"showland\":true,\"subunitcolor\":\"#506784\"},\"hoverlabel\":{\"align\":\"left\"},\"hovermode\":\"closest\",\"mapbox\":{\"style\":\"dark\"},\"paper_bgcolor\":\"rgb(17,17,17)\",\"plot_bgcolor\":\"rgb(17,17,17)\",\"polar\":{\"angularaxis\":{\"gridcolor\":\"#506784\",\"linecolor\":\"#506784\",\"ticks\":\"\"},\"bgcolor\":\"rgb(17,17,17)\",\"radialaxis\":{\"gridcolor\":\"#506784\",\"linecolor\":\"#506784\",\"ticks\":\"\"}},\"scene\":{\"xaxis\":{\"backgroundcolor\":\"rgb(17,17,17)\",\"gridcolor\":\"#506784\",\"gridwidth\":2,\"linecolor\":\"#506784\",\"showbackground\":true,\"ticks\":\"\",\"zerolinecolor\":\"#C8D4E3\"},\"yaxis\":{\"backgroundcolor\":\"rgb(17,17,17)\",\"gridcolor\":\"#506784\",\"gridwidth\":2,\"linecolor\":\"#506784\",\"showbackground\":true,\"ticks\":\"\",\"zerolinecolor\":\"#C8D4E3\"},\"zaxis\":{\"backgroundcolor\":\"rgb(17,17,17)\",\"gridcolor\":\"#506784\",\"gridwidth\":2,\"linecolor\":\"#506784\",\"showbackground\":true,\"ticks\":\"\",\"zerolinecolor\":\"#C8D4E3\"}},\"shapedefaults\":{\"line\":{\"color\":\"#f2f5fa\"}},\"sliderdefaults\":{\"bgcolor\":\"#C8D4E3\",\"bordercolor\":\"rgb(17,17,17)\",\"borderwidth\":1,\"tickwidth\":0},\"ternary\":{\"aaxis\":{\"gridcolor\":\"#506784\",\"linecolor\":\"#506784\",\"ticks\":\"\"},\"baxis\":{\"gridcolor\":\"#506784\",\"linecolor\":\"#506784\",\"ticks\":\"\"},\"bgcolor\":\"rgb(17,17,17)\",\"caxis\":{\"gridcolor\":\"#506784\",\"linecolor\":\"#506784\",\"ticks\":\"\"}},\"title\":{\"x\":0.05},\"updatemenudefaults\":{\"bgcolor\":\"#506784\",\"borderwidth\":0},\"xaxis\":{\"automargin\":true,\"gridcolor\":\"#283442\",\"linecolor\":\"#506784\",\"ticks\":\"\",\"title\":{\"standoff\":15},\"zerolinecolor\":\"#283442\",\"zerolinewidth\":2},\"yaxis\":{\"automargin\":true,\"gridcolor\":\"#283442\",\"linecolor\":\"#506784\",\"ticks\":\"\",\"title\":{\"standoff\":15},\"zerolinecolor\":\"#283442\",\"zerolinewidth\":2}}},\"xaxis\":{\"anchor\":\"y\",\"domain\":[0.0,0.45]},\"yaxis\":{\"anchor\":\"x\",\"domain\":[0.625,1.0]},\"xaxis2\":{\"anchor\":\"y2\",\"domain\":[0.55,1.0]},\"yaxis2\":{\"anchor\":\"x2\",\"domain\":[0.625,1.0]},\"xaxis3\":{\"anchor\":\"y3\",\"domain\":[0.0,0.45]},\"yaxis3\":{\"anchor\":\"x3\",\"domain\":[0.0,0.375]},\"xaxis4\":{\"anchor\":\"y4\",\"domain\":[0.55,1.0]},\"yaxis4\":{\"anchor\":\"x4\",\"domain\":[0.0,0.375]},\"annotations\":[{\"font\":{\"size\":16},\"showarrow\":false,\"text\":\"Culmen Length(mm)\",\"x\":0.225,\"xanchor\":\"center\",\"xref\":\"paper\",\"y\":1.0,\"yanchor\":\"bottom\",\"yref\":\"paper\"},{\"font\":{\"size\":16},\"showarrow\":false,\"text\":\"Culmen Depth(mm)\",\"x\":0.775,\"xanchor\":\"center\",\"xref\":\"paper\",\"y\":1.0,\"yanchor\":\"bottom\",\"yref\":\"paper\"},{\"font\":{\"size\":16},\"showarrow\":false,\"text\":\"Flipper Length(mm)\",\"x\":0.225,\"xanchor\":\"center\",\"xref\":\"paper\",\"y\":0.375,\"yanchor\":\"bottom\",\"yref\":\"paper\"}],\"legend\":{\"y\":0.1,\"x\":0.7},\"title\":{\"font\":{\"size\":30},\"text\":\"Physical Attributes Histogram\"},\"margin\":{\"t\":150},\"height\":800,\"width\":1000},                        {\"responsive\": true}                    ).then(function(){\n",
       "                            \n",
       "var gd = document.getElementById('decaed0e-043a-42cb-aac0-6735f292347b');\n",
       "var x = new MutationObserver(function (mutations, observer) {{\n",
       "        var display = window.getComputedStyle(gd).display;\n",
       "        if (!display || display === 'none') {{\n",
       "            console.log([gd, 'removed!']);\n",
       "            Plotly.purge(gd);\n",
       "            observer.disconnect();\n",
       "        }}\n",
       "}});\n",
       "\n",
       "// Listen for the removal of the full notebook cells\n",
       "var notebookContainer = gd.closest('#notebook-container');\n",
       "if (notebookContainer) {{\n",
       "    x.observe(notebookContainer, {childList: true});\n",
       "}}\n",
       "\n",
       "// Listen for the clearing of the current output cell\n",
       "var outputEl = gd.closest('.output');\n",
       "if (outputEl) {{\n",
       "    x.observe(outputEl, {childList: true});\n",
       "}}\n",
       "\n",
       "                        })                };                });            </script>        </div>"
      ]
     },
     "metadata": {},
     "output_type": "display_data"
    }
   ],
   "source": [
    "fig = make_subplots(rows=2,cols=2,subplot_titles=(\"Culmen Length(mm)\",\"Culmen Depth(mm)\",\"Flipper Length(mm)\"))\n",
    "fig.add_trace(go.Histogram(x=temp_na.culmenL,name=\"culmenL(mm)\"),row=1,col=1)\n",
    "fig.add_trace(go.Histogram(x=temp_na.culmenD,name=\"culmenD(mm)\"),row=1,col=2)\n",
    "fig.add_trace(go.Histogram(x=temp_na.flipperL,name=\"flipperL(mm)\"),row=2,col=1)\n",
    "fig.update_layout(legend=dict(y=0.1,x=0.7),height=800,width=1000,title=dict(text=\"Physical Attributes Histogram\",font=dict(size=30)),margin=dict(t=150))"
   ]
  },
  {
   "cell_type": "code",
   "execution_count": null,
   "metadata": {},
   "outputs": [],
   "source": []
  },
  {
   "cell_type": "code",
   "execution_count": null,
   "metadata": {},
   "outputs": [],
   "source": []
  },
  {
   "cell_type": "code",
   "execution_count": null,
   "metadata": {},
   "outputs": [],
   "source": []
  },
  {
   "cell_type": "code",
   "execution_count": 121,
   "metadata": {},
   "outputs": [],
   "source": [
    "# ord_enc = OrdinalEncoder().set_output(transform='pandas')\n",
    "# temp_df[['study','species','island','clutch','sex']] = ord_enc.fit_transform(temp_df[['study','species','island','clutch','sex']])\n",
    "# temp_df.head()\n",
    "# kds = mf.ImputationKernel(data=temp_df.drop(columns=['date']),datasets=5,random_state=1991)\n",
    "# kds.mice(1)\n",
    "# plt.rcParams[\"figure.figsize\"] = (20,10)\n",
    "# kds.plot_imputed_distributions(datasets=1)\n",
    "# temp_df = kds.complete_data(dataset=1)\n",
    "# GradientBoostingClassifier().get_params()\n",
    "# gird_params = dict(\n",
    "#     learnig_rate=np.logspace(-6,-1,6),\n",
    "#     max_depth=np.arange(3,16),\n",
    "#     max_leaf_nodes=np.arange(8,32),\n",
    "#     n_estimators=np.arange(100,500,50)\n",
    "#     )"
   ]
  },
  {
   "cell_type": "code",
   "execution_count": null,
   "metadata": {},
   "outputs": [],
   "source": []
  }
 ],
 "metadata": {
  "kernelspec": {
   "display_name": "Python 3 (ipykernel)",
   "language": "python",
   "name": "python3"
  },
  "language_info": {
   "codemirror_mode": {
    "name": "ipython",
    "version": 3
   },
   "file_extension": ".py",
   "mimetype": "text/x-python",
   "name": "python",
   "nbconvert_exporter": "python",
   "pygments_lexer": "ipython3",
   "version": "3.8.10"
  },
  "orig_nbformat": 4
 },
 "nbformat": 4,
 "nbformat_minor": 2
}
