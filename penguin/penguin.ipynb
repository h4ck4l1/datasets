{
 "cells": [
  {
   "cell_type": "code",
   "execution_count": 1,
   "metadata": {},
   "outputs": [],
   "source": [
    "import os,sys,subprocess,time\n",
    "os.environ['TF_CPP_MIN_LOG_LEVEL'] = '3'\n",
    "import numpy as np\n",
    "import pandas as pd\n",
    "import matplotlib.pyplot as plt\n",
    "import plotly.express as px\n",
    "import plotly.graph_objects as go\n",
    "import plotly.io as pio\n",
    "from plotly.subplots import make_subplots\n",
    "pio.templates[\"mod\"] = go.layout.Template(layout=dict(font=dict(family=\"Fira Code\")))\n",
    "pio.templates.default = \"plotly_dark+mod\"\n",
    "from zipfile import ZipFile\n",
    "from glob import glob\n",
    "from sklearn.preprocessing import StandardScaler,OrdinalEncoder,MinMaxScaler,RobustScaler,OneHotEncoder\n",
    "from sklearn.ensemble import RandomForestClassifier,GradientBoostingClassifier\n",
    "from sklearn.base import BaseEstimator,TransformerMixin\n",
    "from sklearn.compose import ColumnTransformer\n",
    "from sklearn.model_selection import GridSearchCV,train_test_split,StratifiedShuffleSplit\n",
    "from sklearn.metrics import roc_auc_score,confusion_matrix,accuracy_score,f1_score,precision_recall_curve\n",
    "import miceforest as mf\n",
    "import tensorflow as tf\n",
    "from tensorflow import keras\n",
    "tf.get_logger().setLevel('ERROR')\n",
    "%matplotlib inline"
   ]
  },
  {
   "cell_type": "code",
   "execution_count": 2,
   "metadata": {},
   "outputs": [],
   "source": [
    "peng_lter = pd.read_csv('penguins_lter.csv')"
   ]
  },
  {
   "cell_type": "code",
   "execution_count": 3,
   "metadata": {},
   "outputs": [
    {
     "data": {
      "text/html": [
       "<div>\n",
       "<style scoped>\n",
       "    .dataframe tbody tr th:only-of-type {\n",
       "        vertical-align: middle;\n",
       "    }\n",
       "\n",
       "    .dataframe tbody tr th {\n",
       "        vertical-align: top;\n",
       "    }\n",
       "\n",
       "    .dataframe thead th {\n",
       "        text-align: right;\n",
       "    }\n",
       "</style>\n",
       "<table border=\"1\" class=\"dataframe\">\n",
       "  <thead>\n",
       "    <tr style=\"text-align: right;\">\n",
       "      <th></th>\n",
       "      <th>studyName</th>\n",
       "      <th>Sample Number</th>\n",
       "      <th>Species</th>\n",
       "      <th>Region</th>\n",
       "      <th>Island</th>\n",
       "      <th>Stage</th>\n",
       "      <th>Individual ID</th>\n",
       "      <th>Clutch Completion</th>\n",
       "      <th>Date Egg</th>\n",
       "      <th>Culmen Length (mm)</th>\n",
       "      <th>Culmen Depth (mm)</th>\n",
       "      <th>Flipper Length (mm)</th>\n",
       "      <th>Body Mass (g)</th>\n",
       "      <th>Sex</th>\n",
       "      <th>Delta 15 N (o/oo)</th>\n",
       "      <th>Delta 13 C (o/oo)</th>\n",
       "      <th>Comments</th>\n",
       "    </tr>\n",
       "  </thead>\n",
       "  <tbody>\n",
       "    <tr>\n",
       "      <th>0</th>\n",
       "      <td>PAL0708</td>\n",
       "      <td>1</td>\n",
       "      <td>Adelie Penguin (Pygoscelis adeliae)</td>\n",
       "      <td>Anvers</td>\n",
       "      <td>Torgersen</td>\n",
       "      <td>Adult, 1 Egg Stage</td>\n",
       "      <td>N1A1</td>\n",
       "      <td>Yes</td>\n",
       "      <td>11/11/07</td>\n",
       "      <td>39.1</td>\n",
       "      <td>18.7</td>\n",
       "      <td>181.0</td>\n",
       "      <td>3750.0</td>\n",
       "      <td>MALE</td>\n",
       "      <td>NaN</td>\n",
       "      <td>NaN</td>\n",
       "      <td>Not enough blood for isotopes.</td>\n",
       "    </tr>\n",
       "    <tr>\n",
       "      <th>1</th>\n",
       "      <td>PAL0708</td>\n",
       "      <td>2</td>\n",
       "      <td>Adelie Penguin (Pygoscelis adeliae)</td>\n",
       "      <td>Anvers</td>\n",
       "      <td>Torgersen</td>\n",
       "      <td>Adult, 1 Egg Stage</td>\n",
       "      <td>N1A2</td>\n",
       "      <td>Yes</td>\n",
       "      <td>11/11/07</td>\n",
       "      <td>39.5</td>\n",
       "      <td>17.4</td>\n",
       "      <td>186.0</td>\n",
       "      <td>3800.0</td>\n",
       "      <td>FEMALE</td>\n",
       "      <td>8.94956</td>\n",
       "      <td>-24.69454</td>\n",
       "      <td>NaN</td>\n",
       "    </tr>\n",
       "    <tr>\n",
       "      <th>2</th>\n",
       "      <td>PAL0708</td>\n",
       "      <td>3</td>\n",
       "      <td>Adelie Penguin (Pygoscelis adeliae)</td>\n",
       "      <td>Anvers</td>\n",
       "      <td>Torgersen</td>\n",
       "      <td>Adult, 1 Egg Stage</td>\n",
       "      <td>N2A1</td>\n",
       "      <td>Yes</td>\n",
       "      <td>11/16/07</td>\n",
       "      <td>40.3</td>\n",
       "      <td>18.0</td>\n",
       "      <td>195.0</td>\n",
       "      <td>3250.0</td>\n",
       "      <td>FEMALE</td>\n",
       "      <td>8.36821</td>\n",
       "      <td>-25.33302</td>\n",
       "      <td>NaN</td>\n",
       "    </tr>\n",
       "  </tbody>\n",
       "</table>\n",
       "</div>"
      ],
      "text/plain": [
       "  studyName  Sample Number                              Species  Region  \\\n",
       "0   PAL0708              1  Adelie Penguin (Pygoscelis adeliae)  Anvers   \n",
       "1   PAL0708              2  Adelie Penguin (Pygoscelis adeliae)  Anvers   \n",
       "2   PAL0708              3  Adelie Penguin (Pygoscelis adeliae)  Anvers   \n",
       "\n",
       "      Island               Stage Individual ID Clutch Completion  Date Egg  \\\n",
       "0  Torgersen  Adult, 1 Egg Stage          N1A1               Yes  11/11/07   \n",
       "1  Torgersen  Adult, 1 Egg Stage          N1A2               Yes  11/11/07   \n",
       "2  Torgersen  Adult, 1 Egg Stage          N2A1               Yes  11/16/07   \n",
       "\n",
       "   Culmen Length (mm)  Culmen Depth (mm)  Flipper Length (mm)  Body Mass (g)  \\\n",
       "0                39.1               18.7                181.0         3750.0   \n",
       "1                39.5               17.4                186.0         3800.0   \n",
       "2                40.3               18.0                195.0         3250.0   \n",
       "\n",
       "      Sex  Delta 15 N (o/oo)  Delta 13 C (o/oo)  \\\n",
       "0    MALE                NaN                NaN   \n",
       "1  FEMALE            8.94956          -24.69454   \n",
       "2  FEMALE            8.36821          -25.33302   \n",
       "\n",
       "                         Comments  \n",
       "0  Not enough blood for isotopes.  \n",
       "1                             NaN  \n",
       "2                             NaN  "
      ]
     },
     "execution_count": 3,
     "metadata": {},
     "output_type": "execute_result"
    }
   ],
   "source": [
    "peng_lter.head(3)"
   ]
  },
  {
   "cell_type": "code",
   "execution_count": 4,
   "metadata": {},
   "outputs": [
    {
     "data": {
      "text/plain": [
       "(344, 17)"
      ]
     },
     "execution_count": 4,
     "metadata": {},
     "output_type": "execute_result"
    }
   ],
   "source": [
    "peng_lter.shape"
   ]
  },
  {
   "cell_type": "code",
   "execution_count": 5,
   "metadata": {},
   "outputs": [
    {
     "data": {
      "text/html": [
       "<div>\n",
       "<style scoped>\n",
       "    .dataframe tbody tr th:only-of-type {\n",
       "        vertical-align: middle;\n",
       "    }\n",
       "\n",
       "    .dataframe tbody tr th {\n",
       "        vertical-align: top;\n",
       "    }\n",
       "\n",
       "    .dataframe thead th {\n",
       "        text-align: right;\n",
       "    }\n",
       "</style>\n",
       "<table border=\"1\" class=\"dataframe\">\n",
       "  <thead>\n",
       "    <tr style=\"text-align: right;\">\n",
       "      <th></th>\n",
       "      <th>Sample Number</th>\n",
       "      <th>Culmen Length (mm)</th>\n",
       "      <th>Culmen Depth (mm)</th>\n",
       "      <th>Flipper Length (mm)</th>\n",
       "      <th>Body Mass (g)</th>\n",
       "      <th>Delta 15 N (o/oo)</th>\n",
       "      <th>Delta 13 C (o/oo)</th>\n",
       "    </tr>\n",
       "  </thead>\n",
       "  <tbody>\n",
       "    <tr>\n",
       "      <th>count</th>\n",
       "      <td>344.000000</td>\n",
       "      <td>342.000000</td>\n",
       "      <td>342.000000</td>\n",
       "      <td>342.000000</td>\n",
       "      <td>342.000000</td>\n",
       "      <td>330.000000</td>\n",
       "      <td>331.000000</td>\n",
       "    </tr>\n",
       "    <tr>\n",
       "      <th>mean</th>\n",
       "      <td>63.151163</td>\n",
       "      <td>43.921930</td>\n",
       "      <td>17.151170</td>\n",
       "      <td>200.915205</td>\n",
       "      <td>4201.754386</td>\n",
       "      <td>8.733382</td>\n",
       "      <td>-25.686292</td>\n",
       "    </tr>\n",
       "    <tr>\n",
       "      <th>std</th>\n",
       "      <td>40.430199</td>\n",
       "      <td>5.459584</td>\n",
       "      <td>1.974793</td>\n",
       "      <td>14.061714</td>\n",
       "      <td>801.954536</td>\n",
       "      <td>0.551770</td>\n",
       "      <td>0.793961</td>\n",
       "    </tr>\n",
       "    <tr>\n",
       "      <th>min</th>\n",
       "      <td>1.000000</td>\n",
       "      <td>32.100000</td>\n",
       "      <td>13.100000</td>\n",
       "      <td>172.000000</td>\n",
       "      <td>2700.000000</td>\n",
       "      <td>7.632200</td>\n",
       "      <td>-27.018540</td>\n",
       "    </tr>\n",
       "    <tr>\n",
       "      <th>25%</th>\n",
       "      <td>29.000000</td>\n",
       "      <td>39.225000</td>\n",
       "      <td>15.600000</td>\n",
       "      <td>190.000000</td>\n",
       "      <td>3550.000000</td>\n",
       "      <td>8.299890</td>\n",
       "      <td>-26.320305</td>\n",
       "    </tr>\n",
       "    <tr>\n",
       "      <th>50%</th>\n",
       "      <td>58.000000</td>\n",
       "      <td>44.450000</td>\n",
       "      <td>17.300000</td>\n",
       "      <td>197.000000</td>\n",
       "      <td>4050.000000</td>\n",
       "      <td>8.652405</td>\n",
       "      <td>-25.833520</td>\n",
       "    </tr>\n",
       "    <tr>\n",
       "      <th>75%</th>\n",
       "      <td>95.250000</td>\n",
       "      <td>48.500000</td>\n",
       "      <td>18.700000</td>\n",
       "      <td>213.000000</td>\n",
       "      <td>4750.000000</td>\n",
       "      <td>9.172123</td>\n",
       "      <td>-25.062050</td>\n",
       "    </tr>\n",
       "    <tr>\n",
       "      <th>max</th>\n",
       "      <td>152.000000</td>\n",
       "      <td>59.600000</td>\n",
       "      <td>21.500000</td>\n",
       "      <td>231.000000</td>\n",
       "      <td>6300.000000</td>\n",
       "      <td>10.025440</td>\n",
       "      <td>-23.787670</td>\n",
       "    </tr>\n",
       "  </tbody>\n",
       "</table>\n",
       "</div>"
      ],
      "text/plain": [
       "       Sample Number  Culmen Length (mm)  Culmen Depth (mm)  \\\n",
       "count     344.000000          342.000000         342.000000   \n",
       "mean       63.151163           43.921930          17.151170   \n",
       "std        40.430199            5.459584           1.974793   \n",
       "min         1.000000           32.100000          13.100000   \n",
       "25%        29.000000           39.225000          15.600000   \n",
       "50%        58.000000           44.450000          17.300000   \n",
       "75%        95.250000           48.500000          18.700000   \n",
       "max       152.000000           59.600000          21.500000   \n",
       "\n",
       "       Flipper Length (mm)  Body Mass (g)  Delta 15 N (o/oo)  \\\n",
       "count           342.000000     342.000000         330.000000   \n",
       "mean            200.915205    4201.754386           8.733382   \n",
       "std              14.061714     801.954536           0.551770   \n",
       "min             172.000000    2700.000000           7.632200   \n",
       "25%             190.000000    3550.000000           8.299890   \n",
       "50%             197.000000    4050.000000           8.652405   \n",
       "75%             213.000000    4750.000000           9.172123   \n",
       "max             231.000000    6300.000000          10.025440   \n",
       "\n",
       "       Delta 13 C (o/oo)  \n",
       "count         331.000000  \n",
       "mean          -25.686292  \n",
       "std             0.793961  \n",
       "min           -27.018540  \n",
       "25%           -26.320305  \n",
       "50%           -25.833520  \n",
       "75%           -25.062050  \n",
       "max           -23.787670  "
      ]
     },
     "execution_count": 5,
     "metadata": {},
     "output_type": "execute_result"
    }
   ],
   "source": [
    "peng_lter.describe()"
   ]
  },
  {
   "cell_type": "code",
   "execution_count": 6,
   "metadata": {},
   "outputs": [
    {
     "name": "stdout",
     "output_type": "stream",
     "text": [
      "<class 'pandas.core.frame.DataFrame'>\n",
      "RangeIndex: 344 entries, 0 to 343\n",
      "Data columns (total 17 columns):\n",
      " #   Column               Non-Null Count  Dtype  \n",
      "---  ------               --------------  -----  \n",
      " 0   studyName            344 non-null    object \n",
      " 1   Sample Number        344 non-null    int64  \n",
      " 2   Species              344 non-null    object \n",
      " 3   Region               344 non-null    object \n",
      " 4   Island               344 non-null    object \n",
      " 5   Stage                344 non-null    object \n",
      " 6   Individual ID        344 non-null    object \n",
      " 7   Clutch Completion    344 non-null    object \n",
      " 8   Date Egg             344 non-null    object \n",
      " 9   Culmen Length (mm)   342 non-null    float64\n",
      " 10  Culmen Depth (mm)    342 non-null    float64\n",
      " 11  Flipper Length (mm)  342 non-null    float64\n",
      " 12  Body Mass (g)        342 non-null    float64\n",
      " 13  Sex                  334 non-null    object \n",
      " 14  Delta 15 N (o/oo)    330 non-null    float64\n",
      " 15  Delta 13 C (o/oo)    331 non-null    float64\n",
      " 16  Comments             26 non-null     object \n",
      "dtypes: float64(6), int64(1), object(10)\n",
      "memory usage: 45.8+ KB\n"
     ]
    }
   ],
   "source": [
    "peng_lter.info()"
   ]
  },
  {
   "cell_type": "markdown",
   "metadata": {},
   "source": [
    "As comments column is heavily downsized and missing we can omit it<br>\n",
    "As this is heavily specie-related dataset lets clean the species column first<br>\n",
    "since there is only one Region we can drop it<br>\n",
    "since there is only one Stage we can drop it"
   ]
  },
  {
   "cell_type": "code",
   "execution_count": 23,
   "metadata": {},
   "outputs": [],
   "source": [
    "def preprocess(data:pd.DataFrame):\n",
    "   df = data.drop([\"Comments\"],axis=1)\n",
    "   df[\"Species\"] = df.Species.str.split(n=1,expand=True)[0]\n",
    "   df.drop(columns=['Region'],inplace=True)\n",
    "   df.drop(columns=['Stage'],inplace=True)\n",
    "   df[['N','A']] =df['Individual ID'].str.split(r'(\\d+)',expand=True)[[1,3]]\n",
    "   df['Date Egg'] = pd.to_datetime(df['Date Egg'],format='mixed')\n",
    "   df.drop(columns=['Individual ID'],inplace=True)\n",
    "   original_columns =df.columns.to_list()\n",
    "   df.columns = ['study','samples','species','island','clutch','date','culmenL','culmenD','flipperL','bmass','sex','delta_15n','delta_13c','N','A']\n",
    "   df[['N','A']] =df[['N','A']].astype(np.float32)\n",
    "   return df"
   ]
  },
  {
   "cell_type": "markdown",
   "metadata": {},
   "source": [
    "<font size=4>\n",
    "\n",
    "|Column Name|Description|Type|\n",
    "|:----------|:----------|:---|\n",
    "|StudyName|Sampling expedition from which data were collected, generated, etc.|categorical|\n",
    "|SampleNumber|an integer denoting the continuous numbering sequence for each sample|categorical|\n",
    "|Species|a character string denoting the penguin species|categorical|\n",
    "|Region|a character string denoting the region of Palmer LTER sampling grid|categorical|\n",
    "|Island|a character string denoting the island near Palmer Station where samples were collected|categorical|\n",
    "|Stage|a character string denoting reproductive stage at sampling|categorical|\n",
    "|IndividualID|a character string denoting the unique ID for each individual in dataset|categorical|\n",
    "|Clutch Completion|a character string denoting if the study nest observed with a full clutch, i.e., 2 eggs|categorical|\n",
    "|Date Egg|a date denoting the date study nest observed with 1 egg (sampled)|continuous|\n",
    "|Culmen Length|a number denoting the length of the dorsal ridge of a bird's bill (millimeters)|continuous|\n",
    "|Culmen Depth|a number denoting the depth of the dorsal ridge of a bird's bill (millimeters)|continuous|\n",
    "|Flipper Length|an integer denoting the length penguin flipper (millimeters)|continuous|\n",
    "|Body Mass|an integer denoting the penguin body mass (grams)|continuous|\n",
    "|Sex|a character string denoting the sex of an animal|categorical|\n",
    "|Delta 15 N|a number denoting the measure of the ratio of stable isotopes 15N:14N|continuous|\n",
    "|Delta 13 C|a number denoting the measure of the ratio of stable isotopes 13C:12C|continuous|\n",
    "|N|Individual Number assigned to penguin|categorical|\n",
    "|A|Individual Number assigned to penguin|categorical|"
   ]
  },
  {
   "cell_type": "code",
   "execution_count": 24,
   "metadata": {},
   "outputs": [],
   "source": [
    "temp_df = preprocess(peng_lter)"
   ]
  },
  {
   "cell_type": "code",
   "execution_count": 25,
   "metadata": {},
   "outputs": [
    {
     "data": {
      "text/html": [
       "<div>\n",
       "<style scoped>\n",
       "    .dataframe tbody tr th:only-of-type {\n",
       "        vertical-align: middle;\n",
       "    }\n",
       "\n",
       "    .dataframe tbody tr th {\n",
       "        vertical-align: top;\n",
       "    }\n",
       "\n",
       "    .dataframe thead th {\n",
       "        text-align: right;\n",
       "    }\n",
       "</style>\n",
       "<table border=\"1\" class=\"dataframe\">\n",
       "  <thead>\n",
       "    <tr style=\"text-align: right;\">\n",
       "      <th></th>\n",
       "      <th>study</th>\n",
       "      <th>samples</th>\n",
       "      <th>species</th>\n",
       "      <th>island</th>\n",
       "      <th>clutch</th>\n",
       "      <th>date</th>\n",
       "      <th>culmenL</th>\n",
       "      <th>culmenD</th>\n",
       "      <th>flipperL</th>\n",
       "      <th>bmass</th>\n",
       "      <th>sex</th>\n",
       "      <th>delta_15n</th>\n",
       "      <th>delta_13c</th>\n",
       "      <th>N</th>\n",
       "      <th>A</th>\n",
       "    </tr>\n",
       "  </thead>\n",
       "  <tbody>\n",
       "    <tr>\n",
       "      <th>0</th>\n",
       "      <td>PAL0708</td>\n",
       "      <td>1</td>\n",
       "      <td>Adelie</td>\n",
       "      <td>Torgersen</td>\n",
       "      <td>Yes</td>\n",
       "      <td>2007-11-11</td>\n",
       "      <td>39.1</td>\n",
       "      <td>18.7</td>\n",
       "      <td>181.0</td>\n",
       "      <td>3750.0</td>\n",
       "      <td>MALE</td>\n",
       "      <td>NaN</td>\n",
       "      <td>NaN</td>\n",
       "      <td>1.0</td>\n",
       "      <td>1.0</td>\n",
       "    </tr>\n",
       "    <tr>\n",
       "      <th>1</th>\n",
       "      <td>PAL0708</td>\n",
       "      <td>2</td>\n",
       "      <td>Adelie</td>\n",
       "      <td>Torgersen</td>\n",
       "      <td>Yes</td>\n",
       "      <td>2007-11-11</td>\n",
       "      <td>39.5</td>\n",
       "      <td>17.4</td>\n",
       "      <td>186.0</td>\n",
       "      <td>3800.0</td>\n",
       "      <td>FEMALE</td>\n",
       "      <td>8.94956</td>\n",
       "      <td>-24.69454</td>\n",
       "      <td>1.0</td>\n",
       "      <td>2.0</td>\n",
       "    </tr>\n",
       "    <tr>\n",
       "      <th>2</th>\n",
       "      <td>PAL0708</td>\n",
       "      <td>3</td>\n",
       "      <td>Adelie</td>\n",
       "      <td>Torgersen</td>\n",
       "      <td>Yes</td>\n",
       "      <td>2007-11-16</td>\n",
       "      <td>40.3</td>\n",
       "      <td>18.0</td>\n",
       "      <td>195.0</td>\n",
       "      <td>3250.0</td>\n",
       "      <td>FEMALE</td>\n",
       "      <td>8.36821</td>\n",
       "      <td>-25.33302</td>\n",
       "      <td>2.0</td>\n",
       "      <td>1.0</td>\n",
       "    </tr>\n",
       "    <tr>\n",
       "      <th>3</th>\n",
       "      <td>PAL0708</td>\n",
       "      <td>4</td>\n",
       "      <td>Adelie</td>\n",
       "      <td>Torgersen</td>\n",
       "      <td>Yes</td>\n",
       "      <td>2007-11-16</td>\n",
       "      <td>NaN</td>\n",
       "      <td>NaN</td>\n",
       "      <td>NaN</td>\n",
       "      <td>NaN</td>\n",
       "      <td>NaN</td>\n",
       "      <td>NaN</td>\n",
       "      <td>NaN</td>\n",
       "      <td>2.0</td>\n",
       "      <td>2.0</td>\n",
       "    </tr>\n",
       "    <tr>\n",
       "      <th>4</th>\n",
       "      <td>PAL0708</td>\n",
       "      <td>5</td>\n",
       "      <td>Adelie</td>\n",
       "      <td>Torgersen</td>\n",
       "      <td>Yes</td>\n",
       "      <td>2007-11-16</td>\n",
       "      <td>36.7</td>\n",
       "      <td>19.3</td>\n",
       "      <td>193.0</td>\n",
       "      <td>3450.0</td>\n",
       "      <td>FEMALE</td>\n",
       "      <td>8.76651</td>\n",
       "      <td>-25.32426</td>\n",
       "      <td>3.0</td>\n",
       "      <td>1.0</td>\n",
       "    </tr>\n",
       "  </tbody>\n",
       "</table>\n",
       "</div>"
      ],
      "text/plain": [
       "     study  samples species     island clutch       date  culmenL  culmenD  \\\n",
       "0  PAL0708        1  Adelie  Torgersen    Yes 2007-11-11     39.1     18.7   \n",
       "1  PAL0708        2  Adelie  Torgersen    Yes 2007-11-11     39.5     17.4   \n",
       "2  PAL0708        3  Adelie  Torgersen    Yes 2007-11-16     40.3     18.0   \n",
       "3  PAL0708        4  Adelie  Torgersen    Yes 2007-11-16      NaN      NaN   \n",
       "4  PAL0708        5  Adelie  Torgersen    Yes 2007-11-16     36.7     19.3   \n",
       "\n",
       "   flipperL   bmass     sex  delta_15n  delta_13c    N    A  \n",
       "0     181.0  3750.0    MALE        NaN        NaN  1.0  1.0  \n",
       "1     186.0  3800.0  FEMALE    8.94956  -24.69454  1.0  2.0  \n",
       "2     195.0  3250.0  FEMALE    8.36821  -25.33302  2.0  1.0  \n",
       "3       NaN     NaN     NaN        NaN        NaN  2.0  2.0  \n",
       "4     193.0  3450.0  FEMALE    8.76651  -25.32426  3.0  1.0  "
      ]
     },
     "execution_count": 25,
     "metadata": {},
     "output_type": "execute_result"
    }
   ],
   "source": [
    "temp_df.head()"
   ]
  },
  {
   "cell_type": "code",
   "execution_count": 26,
   "metadata": {},
   "outputs": [],
   "source": [
    "temp_na = temp_df.dropna()"
   ]
  },
  {
   "cell_type": "markdown",
   "metadata": {},
   "source": [
    "# Univariate Analysis"
   ]
  },
  {
   "cell_type": "markdown",
   "metadata": {},
   "source": [
    "## Continuous"
   ]
  },
  {
   "cell_type": "markdown",
   "metadata": {},
   "source": [
    "### Date"
   ]
  },
  {
   "cell_type": "code",
   "execution_count": 41,
   "metadata": {},
   "outputs": [
    {
     "data": {
      "text/plain": [
       "Index([2007, 2008, 2009], dtype='int32', name='date')"
      ]
     },
     "execution_count": 41,
     "metadata": {},
     "output_type": "execute_result"
    }
   ],
   "source": [
    "pd.DatetimeIndex(temp_na.date).year.unique()"
   ]
  },
  {
   "cell_type": "code",
   "execution_count": 33,
   "metadata": {},
   "outputs": [
    {
     "data": {
      "application/vnd.plotly.v1+json": {
       "config": {
        "plotlyServerURL": "https://plot.ly"
       },
       "data": [
        {
         "mode": "markers",
         "type": "scatter",
         "x": [
          "2007-11-11T00:00:00",
          "2007-11-16T00:00:00",
          "2007-11-16T00:00:00",
          "2007-11-16T00:00:00",
          "2007-11-15T00:00:00",
          "2007-11-15T00:00:00",
          "2007-11-16T00:00:00",
          "2007-11-12T00:00:00",
          "2007-11-12T00:00:00",
          "2007-11-16T00:00:00",
          "2007-11-16T00:00:00",
          "2007-11-12T00:00:00",
          "2007-11-12T00:00:00",
          "2007-11-12T00:00:00",
          "2007-11-12T00:00:00",
          "2007-11-10T00:00:00",
          "2007-11-10T00:00:00",
          "2007-11-12T00:00:00",
          "2007-11-12T00:00:00",
          "2007-11-10T00:00:00",
          "2007-11-10T00:00:00",
          "2007-11-09T00:00:00",
          "2007-11-09T00:00:00",
          "2007-11-09T00:00:00",
          "2007-11-09T00:00:00",
          "2007-11-16T00:00:00",
          "2007-11-16T00:00:00",
          "2007-11-16T00:00:00",
          "2007-11-16T00:00:00",
          "2007-11-13T00:00:00",
          "2007-11-16T00:00:00",
          "2007-11-19T00:00:00",
          "2007-11-19T00:00:00",
          "2007-11-16T00:00:00",
          "2007-11-16T00:00:00",
          "2007-11-13T00:00:00",
          "2007-11-13T00:00:00",
          "2008-11-06T00:00:00",
          "2008-11-06T00:00:00",
          "2008-11-09T00:00:00",
          "2008-11-09T00:00:00",
          "2008-11-09T00:00:00",
          "2008-11-09T00:00:00",
          "2008-11-15T00:00:00",
          "2008-11-15T00:00:00",
          "2008-11-15T00:00:00",
          "2008-11-15T00:00:00",
          "2008-11-13T00:00:00",
          "2008-11-13T00:00:00",
          "2008-11-13T00:00:00",
          "2008-11-13T00:00:00",
          "2008-11-13T00:00:00",
          "2008-11-13T00:00:00",
          "2008-11-06T00:00:00",
          "2008-11-06T00:00:00",
          "2008-11-11T00:00:00",
          "2008-11-11T00:00:00",
          "2008-11-14T00:00:00",
          "2008-11-14T00:00:00",
          "2008-11-11T00:00:00",
          "2008-11-11T00:00:00",
          "2008-11-08T00:00:00",
          "2008-11-08T00:00:00",
          "2008-11-06T00:00:00",
          "2008-11-06T00:00:00",
          "2008-11-09T00:00:00",
          "2008-11-09T00:00:00",
          "2008-11-02T00:00:00",
          "2008-11-02T00:00:00",
          "2008-11-07T00:00:00",
          "2008-11-07T00:00:00",
          "2008-11-17T00:00:00",
          "2008-11-17T00:00:00",
          "2008-11-08T00:00:00",
          "2008-11-08T00:00:00",
          "2008-11-08T00:00:00",
          "2008-11-08T00:00:00",
          "2008-11-14T00:00:00",
          "2008-11-14T00:00:00",
          "2008-11-05T00:00:00",
          "2008-11-05T00:00:00",
          "2008-11-17T00:00:00",
          "2008-11-17T00:00:00",
          "2008-11-08T00:00:00",
          "2008-11-08T00:00:00",
          "2008-11-10T00:00:00",
          "2008-11-10T00:00:00",
          "2009-11-09T00:00:00",
          "2009-11-09T00:00:00",
          "2009-11-15T00:00:00",
          "2009-11-15T00:00:00",
          "2009-11-15T00:00:00",
          "2009-11-15T00:00:00",
          "2009-11-15T00:00:00",
          "2009-11-15T00:00:00",
          "2009-11-20T00:00:00",
          "2009-11-20T00:00:00",
          "2009-11-12T00:00:00",
          "2009-11-12T00:00:00",
          "2009-11-15T00:00:00",
          "2009-11-15T00:00:00",
          "2009-11-17T00:00:00",
          "2009-11-17T00:00:00",
          "2009-11-18T00:00:00",
          "2009-11-18T00:00:00",
          "2009-11-22T00:00:00",
          "2009-11-22T00:00:00",
          "2009-11-17T00:00:00",
          "2009-11-17T00:00:00",
          "2009-11-16T00:00:00",
          "2009-11-16T00:00:00",
          "2009-11-18T00:00:00",
          "2009-11-18T00:00:00",
          "2009-11-21T00:00:00",
          "2009-11-21T00:00:00",
          "2009-11-18T00:00:00",
          "2009-11-18T00:00:00",
          "2009-11-23T00:00:00",
          "2009-11-23T00:00:00",
          "2009-11-10T00:00:00",
          "2009-11-10T00:00:00",
          "2009-11-13T00:00:00",
          "2009-11-13T00:00:00",
          "2009-11-16T00:00:00",
          "2009-11-16T00:00:00",
          "2009-11-16T00:00:00",
          "2009-11-16T00:00:00",
          "2009-11-14T00:00:00",
          "2009-11-14T00:00:00",
          "2009-11-16T00:00:00",
          "2009-11-16T00:00:00",
          "2009-11-16T00:00:00",
          "2009-11-16T00:00:00",
          "2009-11-13T00:00:00",
          "2009-11-13T00:00:00",
          "2009-11-17T00:00:00",
          "2009-11-17T00:00:00",
          "2009-11-17T00:00:00",
          "2009-11-17T00:00:00",
          "2007-11-19T00:00:00",
          "2007-11-19T00:00:00",
          "2007-11-26T00:00:00",
          "2007-11-26T00:00:00",
          "2007-11-21T00:00:00",
          "2007-11-21T00:00:00",
          "2007-11-28T00:00:00",
          "2007-11-28T00:00:00",
          "2007-11-21T00:00:00",
          "2007-11-21T00:00:00",
          "2007-11-28T00:00:00",
          "2007-11-28T00:00:00",
          "2007-11-26T00:00:00",
          "2007-11-26T00:00:00",
          "2007-11-22T00:00:00",
          "2007-11-22T00:00:00",
          "2007-11-30T00:00:00",
          "2007-11-30T00:00:00",
          "2007-11-30T00:00:00",
          "2007-11-30T00:00:00",
          "2007-12-03T00:00:00",
          "2007-12-03T00:00:00",
          "2007-11-28T00:00:00",
          "2007-11-28T00:00:00",
          "2007-11-28T00:00:00",
          "2007-11-28T00:00:00",
          "2008-11-25T00:00:00",
          "2008-11-25T00:00:00",
          "2008-11-14T00:00:00",
          "2008-11-14T00:00:00",
          "2008-11-24T00:00:00",
          "2008-11-24T00:00:00",
          "2008-11-24T00:00:00",
          "2008-11-24T00:00:00",
          "2008-11-25T00:00:00",
          "2008-11-25T00:00:00",
          "2008-11-14T00:00:00",
          "2008-11-14T00:00:00",
          "2008-11-24T00:00:00",
          "2008-11-24T00:00:00",
          "2008-11-24T00:00:00",
          "2008-11-24T00:00:00",
          "2008-11-14T00:00:00",
          "2008-11-14T00:00:00",
          "2009-11-17T00:00:00",
          "2009-11-17T00:00:00",
          "2009-11-27T00:00:00",
          "2009-11-27T00:00:00",
          "2009-11-23T00:00:00",
          "2009-11-23T00:00:00",
          "2009-11-21T00:00:00",
          "2009-11-21T00:00:00",
          "2009-11-23T00:00:00",
          "2009-11-23T00:00:00",
          "2009-11-27T00:00:00",
          "2009-11-27T00:00:00",
          "2009-11-21T00:00:00",
          "2009-11-21T00:00:00",
          "2009-11-21T00:00:00",
          "2009-11-21T00:00:00",
          "2009-11-27T00:00:00",
          "2009-11-19T00:00:00",
          "2009-11-19T00:00:00",
          "2009-11-21T00:00:00",
          "2009-11-21T00:00:00",
          "2009-11-21T00:00:00",
          "2009-11-21T00:00:00",
          "2007-11-27T00:00:00",
          "2007-11-27T00:00:00",
          "2007-11-27T00:00:00",
          "2007-11-27T00:00:00",
          "2007-11-18T00:00:00",
          "2007-11-18T00:00:00",
          "2007-11-27T00:00:00",
          "2007-11-27T00:00:00",
          "2007-11-27T00:00:00",
          "2007-11-27T00:00:00",
          "2007-11-27T00:00:00",
          "2007-11-27T00:00:00",
          "2007-11-29T00:00:00",
          "2007-11-29T00:00:00",
          "2007-12-03T00:00:00",
          "2007-12-03T00:00:00",
          "2007-11-27T00:00:00",
          "2007-11-27T00:00:00",
          "2007-11-27T00:00:00",
          "2007-11-27T00:00:00",
          "2007-11-27T00:00:00",
          "2007-11-27T00:00:00",
          "2007-11-27T00:00:00",
          "2007-11-27T00:00:00",
          "2007-11-29T00:00:00",
          "2007-11-29T00:00:00",
          "2007-11-29T00:00:00",
          "2007-11-29T00:00:00",
          "2007-11-29T00:00:00",
          "2007-11-29T00:00:00",
          "2007-12-03T00:00:00",
          "2007-12-03T00:00:00",
          "2008-11-13T00:00:00",
          "2008-11-13T00:00:00",
          "2008-11-02T00:00:00",
          "2008-11-02T00:00:00",
          "2008-11-09T00:00:00",
          "2008-11-09T00:00:00",
          "2008-11-04T00:00:00",
          "2008-11-04T00:00:00",
          "2008-11-04T00:00:00",
          "2008-11-04T00:00:00",
          "2008-11-03T00:00:00",
          "2008-11-03T00:00:00",
          "2008-11-09T00:00:00",
          "2008-11-09T00:00:00",
          "2008-11-02T00:00:00",
          "2008-11-02T00:00:00",
          "2008-11-04T00:00:00",
          "2008-11-04T00:00:00",
          "2008-11-04T00:00:00",
          "2008-11-04T00:00:00",
          "2008-11-04T00:00:00",
          "2008-11-04T00:00:00",
          "2008-11-03T00:00:00",
          "2008-11-03T00:00:00",
          "2008-11-06T00:00:00",
          "2008-11-06T00:00:00",
          "2008-11-03T00:00:00",
          "2008-11-03T00:00:00",
          "2008-11-13T00:00:00",
          "2008-11-13T00:00:00",
          "2008-11-04T00:00:00",
          "2008-11-04T00:00:00",
          "2008-11-09T00:00:00",
          "2008-11-13T00:00:00",
          "2008-11-13T00:00:00",
          "2008-11-03T00:00:00",
          "2008-11-03T00:00:00",
          "2008-11-09T00:00:00",
          "2008-11-09T00:00:00",
          "2008-11-06T00:00:00",
          "2008-11-06T00:00:00",
          "2008-11-06T00:00:00",
          "2008-11-06T00:00:00",
          "2008-11-09T00:00:00",
          "2008-11-09T00:00:00",
          "2009-11-18T00:00:00",
          "2009-11-18T00:00:00",
          "2009-11-15T00:00:00",
          "2009-11-15T00:00:00",
          "2009-11-22T00:00:00",
          "2009-11-22T00:00:00",
          "2009-11-20T00:00:00",
          "2009-11-20T00:00:00",
          "2009-11-25T00:00:00",
          "2009-11-25T00:00:00",
          "2009-11-25T00:00:00",
          "2009-11-25T00:00:00",
          "2009-12-01T00:00:00",
          "2009-12-01T00:00:00",
          "2009-11-27T00:00:00",
          "2009-11-27T00:00:00",
          "2009-11-18T00:00:00",
          "2009-11-18T00:00:00",
          "2009-11-18T00:00:00",
          "2009-11-18T00:00:00",
          "2009-11-22T00:00:00",
          "2009-11-22T00:00:00",
          "2009-11-18T00:00:00",
          "2009-11-18T00:00:00",
          "2009-12-01T00:00:00",
          "2009-11-10T00:00:00",
          "2009-11-10T00:00:00",
          "2009-11-09T00:00:00",
          "2009-11-09T00:00:00",
          "2009-11-20T00:00:00",
          "2009-11-20T00:00:00",
          "2009-11-27T00:00:00",
          "2009-11-27T00:00:00",
          "2009-11-25T00:00:00",
          "2009-11-25T00:00:00",
          "2009-12-01T00:00:00",
          "2009-12-01T00:00:00",
          "2009-12-01T00:00:00",
          "2009-11-22T00:00:00",
          "2009-11-22T00:00:00",
          "2009-11-22T00:00:00",
          "2009-11-22T00:00:00"
         ],
         "y": [
          1,
          1,
          1,
          1,
          1,
          1,
          1,
          1,
          1,
          1,
          1,
          1,
          1,
          1,
          1,
          1,
          1,
          1,
          1,
          1,
          1,
          1,
          1,
          1,
          1,
          1,
          1,
          1,
          1,
          1,
          1,
          1,
          1,
          1,
          1,
          1,
          1,
          1,
          1,
          1,
          1,
          1,
          1,
          1,
          1,
          1,
          1,
          1,
          1,
          1,
          1,
          1,
          1,
          1,
          1,
          1,
          1,
          1,
          1,
          1,
          1,
          1,
          1,
          1,
          1,
          1,
          1,
          1,
          1,
          1,
          1,
          1,
          1,
          1,
          1,
          1,
          1,
          1,
          1,
          1,
          1,
          1,
          1,
          1,
          1,
          1,
          1,
          1,
          1,
          1,
          1,
          1,
          1,
          1,
          1,
          1,
          1,
          1,
          1,
          1,
          1,
          1,
          1,
          1,
          1,
          1,
          1,
          1,
          1,
          1,
          1,
          1,
          1,
          1,
          1,
          1,
          1,
          1,
          1,
          1,
          1,
          1,
          1,
          1,
          1,
          1,
          1,
          1,
          1,
          1,
          1,
          1,
          1,
          1,
          1,
          1,
          1,
          1,
          1,
          1,
          1,
          1,
          1,
          1,
          1,
          1,
          1,
          1,
          1,
          1,
          1,
          1,
          1,
          1,
          1,
          1,
          1,
          1,
          1,
          1,
          1,
          1,
          1,
          1,
          1,
          1,
          1,
          1,
          1,
          1,
          1,
          1,
          1,
          1,
          1,
          1,
          1,
          1,
          1,
          1,
          1,
          1,
          1,
          1,
          1,
          1,
          1,
          1,
          1,
          1,
          1,
          1,
          1,
          1,
          1,
          1,
          1,
          1,
          1,
          1,
          1,
          1,
          1,
          1,
          1,
          1,
          1,
          1,
          1,
          1,
          1,
          1,
          1,
          1,
          1,
          1,
          1,
          1,
          1,
          1,
          1,
          1,
          1,
          1,
          1,
          1,
          1,
          1,
          1,
          1,
          1,
          1,
          1,
          1,
          1,
          1,
          1,
          1,
          1,
          1,
          1,
          1,
          1,
          1,
          1,
          1,
          1,
          1,
          1,
          1,
          1,
          1,
          1,
          1,
          1,
          1,
          1,
          1,
          1,
          1,
          1,
          1,
          1,
          1,
          1,
          1,
          1,
          1,
          1,
          1,
          1,
          1,
          1,
          1,
          1,
          1,
          1,
          1,
          1,
          1,
          1,
          1,
          1,
          1,
          1,
          1,
          1,
          1,
          1,
          1,
          1,
          1,
          1,
          1,
          1,
          1,
          1,
          1,
          1,
          1,
          1,
          1,
          1,
          1,
          1,
          1,
          1,
          1,
          1,
          1,
          1,
          1,
          1,
          1,
          1,
          1,
          1,
          1,
          1,
          1,
          1,
          1,
          1,
          1,
          1
         ]
        }
       ],
       "layout": {
        "template": {
         "data": {
          "bar": [
           {
            "error_x": {
             "color": "#f2f5fa"
            },
            "error_y": {
             "color": "#f2f5fa"
            },
            "marker": {
             "line": {
              "color": "rgb(17,17,17)",
              "width": 0.5
             },
             "pattern": {
              "fillmode": "overlay",
              "size": 10,
              "solidity": 0.2
             }
            },
            "type": "bar"
           }
          ],
          "barpolar": [
           {
            "marker": {
             "line": {
              "color": "rgb(17,17,17)",
              "width": 0.5
             },
             "pattern": {
              "fillmode": "overlay",
              "size": 10,
              "solidity": 0.2
             }
            },
            "type": "barpolar"
           }
          ],
          "carpet": [
           {
            "aaxis": {
             "endlinecolor": "#A2B1C6",
             "gridcolor": "#506784",
             "linecolor": "#506784",
             "minorgridcolor": "#506784",
             "startlinecolor": "#A2B1C6"
            },
            "baxis": {
             "endlinecolor": "#A2B1C6",
             "gridcolor": "#506784",
             "linecolor": "#506784",
             "minorgridcolor": "#506784",
             "startlinecolor": "#A2B1C6"
            },
            "type": "carpet"
           }
          ],
          "choropleth": [
           {
            "colorbar": {
             "outlinewidth": 0,
             "ticks": ""
            },
            "type": "choropleth"
           }
          ],
          "contour": [
           {
            "colorbar": {
             "outlinewidth": 0,
             "ticks": ""
            },
            "colorscale": [
             [
              0,
              "#0d0887"
             ],
             [
              0.1111111111111111,
              "#46039f"
             ],
             [
              0.2222222222222222,
              "#7201a8"
             ],
             [
              0.3333333333333333,
              "#9c179e"
             ],
             [
              0.4444444444444444,
              "#bd3786"
             ],
             [
              0.5555555555555556,
              "#d8576b"
             ],
             [
              0.6666666666666666,
              "#ed7953"
             ],
             [
              0.7777777777777778,
              "#fb9f3a"
             ],
             [
              0.8888888888888888,
              "#fdca26"
             ],
             [
              1,
              "#f0f921"
             ]
            ],
            "type": "contour"
           }
          ],
          "contourcarpet": [
           {
            "colorbar": {
             "outlinewidth": 0,
             "ticks": ""
            },
            "type": "contourcarpet"
           }
          ],
          "heatmap": [
           {
            "colorbar": {
             "outlinewidth": 0,
             "ticks": ""
            },
            "colorscale": [
             [
              0,
              "#0d0887"
             ],
             [
              0.1111111111111111,
              "#46039f"
             ],
             [
              0.2222222222222222,
              "#7201a8"
             ],
             [
              0.3333333333333333,
              "#9c179e"
             ],
             [
              0.4444444444444444,
              "#bd3786"
             ],
             [
              0.5555555555555556,
              "#d8576b"
             ],
             [
              0.6666666666666666,
              "#ed7953"
             ],
             [
              0.7777777777777778,
              "#fb9f3a"
             ],
             [
              0.8888888888888888,
              "#fdca26"
             ],
             [
              1,
              "#f0f921"
             ]
            ],
            "type": "heatmap"
           }
          ],
          "heatmapgl": [
           {
            "colorbar": {
             "outlinewidth": 0,
             "ticks": ""
            },
            "colorscale": [
             [
              0,
              "#0d0887"
             ],
             [
              0.1111111111111111,
              "#46039f"
             ],
             [
              0.2222222222222222,
              "#7201a8"
             ],
             [
              0.3333333333333333,
              "#9c179e"
             ],
             [
              0.4444444444444444,
              "#bd3786"
             ],
             [
              0.5555555555555556,
              "#d8576b"
             ],
             [
              0.6666666666666666,
              "#ed7953"
             ],
             [
              0.7777777777777778,
              "#fb9f3a"
             ],
             [
              0.8888888888888888,
              "#fdca26"
             ],
             [
              1,
              "#f0f921"
             ]
            ],
            "type": "heatmapgl"
           }
          ],
          "histogram": [
           {
            "marker": {
             "pattern": {
              "fillmode": "overlay",
              "size": 10,
              "solidity": 0.2
             }
            },
            "type": "histogram"
           }
          ],
          "histogram2d": [
           {
            "colorbar": {
             "outlinewidth": 0,
             "ticks": ""
            },
            "colorscale": [
             [
              0,
              "#0d0887"
             ],
             [
              0.1111111111111111,
              "#46039f"
             ],
             [
              0.2222222222222222,
              "#7201a8"
             ],
             [
              0.3333333333333333,
              "#9c179e"
             ],
             [
              0.4444444444444444,
              "#bd3786"
             ],
             [
              0.5555555555555556,
              "#d8576b"
             ],
             [
              0.6666666666666666,
              "#ed7953"
             ],
             [
              0.7777777777777778,
              "#fb9f3a"
             ],
             [
              0.8888888888888888,
              "#fdca26"
             ],
             [
              1,
              "#f0f921"
             ]
            ],
            "type": "histogram2d"
           }
          ],
          "histogram2dcontour": [
           {
            "colorbar": {
             "outlinewidth": 0,
             "ticks": ""
            },
            "colorscale": [
             [
              0,
              "#0d0887"
             ],
             [
              0.1111111111111111,
              "#46039f"
             ],
             [
              0.2222222222222222,
              "#7201a8"
             ],
             [
              0.3333333333333333,
              "#9c179e"
             ],
             [
              0.4444444444444444,
              "#bd3786"
             ],
             [
              0.5555555555555556,
              "#d8576b"
             ],
             [
              0.6666666666666666,
              "#ed7953"
             ],
             [
              0.7777777777777778,
              "#fb9f3a"
             ],
             [
              0.8888888888888888,
              "#fdca26"
             ],
             [
              1,
              "#f0f921"
             ]
            ],
            "type": "histogram2dcontour"
           }
          ],
          "mesh3d": [
           {
            "colorbar": {
             "outlinewidth": 0,
             "ticks": ""
            },
            "type": "mesh3d"
           }
          ],
          "parcoords": [
           {
            "line": {
             "colorbar": {
              "outlinewidth": 0,
              "ticks": ""
             }
            },
            "type": "parcoords"
           }
          ],
          "pie": [
           {
            "automargin": true,
            "type": "pie"
           }
          ],
          "scatter": [
           {
            "marker": {
             "line": {
              "color": "#283442"
             }
            },
            "type": "scatter"
           }
          ],
          "scatter3d": [
           {
            "line": {
             "colorbar": {
              "outlinewidth": 0,
              "ticks": ""
             }
            },
            "marker": {
             "colorbar": {
              "outlinewidth": 0,
              "ticks": ""
             }
            },
            "type": "scatter3d"
           }
          ],
          "scattercarpet": [
           {
            "marker": {
             "colorbar": {
              "outlinewidth": 0,
              "ticks": ""
             }
            },
            "type": "scattercarpet"
           }
          ],
          "scattergeo": [
           {
            "marker": {
             "colorbar": {
              "outlinewidth": 0,
              "ticks": ""
             }
            },
            "type": "scattergeo"
           }
          ],
          "scattergl": [
           {
            "marker": {
             "line": {
              "color": "#283442"
             }
            },
            "type": "scattergl"
           }
          ],
          "scattermapbox": [
           {
            "marker": {
             "colorbar": {
              "outlinewidth": 0,
              "ticks": ""
             }
            },
            "type": "scattermapbox"
           }
          ],
          "scatterpolar": [
           {
            "marker": {
             "colorbar": {
              "outlinewidth": 0,
              "ticks": ""
             }
            },
            "type": "scatterpolar"
           }
          ],
          "scatterpolargl": [
           {
            "marker": {
             "colorbar": {
              "outlinewidth": 0,
              "ticks": ""
             }
            },
            "type": "scatterpolargl"
           }
          ],
          "scatterternary": [
           {
            "marker": {
             "colorbar": {
              "outlinewidth": 0,
              "ticks": ""
             }
            },
            "type": "scatterternary"
           }
          ],
          "surface": [
           {
            "colorbar": {
             "outlinewidth": 0,
             "ticks": ""
            },
            "colorscale": [
             [
              0,
              "#0d0887"
             ],
             [
              0.1111111111111111,
              "#46039f"
             ],
             [
              0.2222222222222222,
              "#7201a8"
             ],
             [
              0.3333333333333333,
              "#9c179e"
             ],
             [
              0.4444444444444444,
              "#bd3786"
             ],
             [
              0.5555555555555556,
              "#d8576b"
             ],
             [
              0.6666666666666666,
              "#ed7953"
             ],
             [
              0.7777777777777778,
              "#fb9f3a"
             ],
             [
              0.8888888888888888,
              "#fdca26"
             ],
             [
              1,
              "#f0f921"
             ]
            ],
            "type": "surface"
           }
          ],
          "table": [
           {
            "cells": {
             "fill": {
              "color": "#506784"
             },
             "line": {
              "color": "rgb(17,17,17)"
             }
            },
            "header": {
             "fill": {
              "color": "#2a3f5f"
             },
             "line": {
              "color": "rgb(17,17,17)"
             }
            },
            "type": "table"
           }
          ]
         },
         "layout": {
          "annotationdefaults": {
           "arrowcolor": "#f2f5fa",
           "arrowhead": 0,
           "arrowwidth": 1
          },
          "autotypenumbers": "strict",
          "coloraxis": {
           "colorbar": {
            "outlinewidth": 0,
            "ticks": ""
           }
          },
          "colorscale": {
           "diverging": [
            [
             0,
             "#8e0152"
            ],
            [
             0.1,
             "#c51b7d"
            ],
            [
             0.2,
             "#de77ae"
            ],
            [
             0.3,
             "#f1b6da"
            ],
            [
             0.4,
             "#fde0ef"
            ],
            [
             0.5,
             "#f7f7f7"
            ],
            [
             0.6,
             "#e6f5d0"
            ],
            [
             0.7,
             "#b8e186"
            ],
            [
             0.8,
             "#7fbc41"
            ],
            [
             0.9,
             "#4d9221"
            ],
            [
             1,
             "#276419"
            ]
           ],
           "sequential": [
            [
             0,
             "#0d0887"
            ],
            [
             0.1111111111111111,
             "#46039f"
            ],
            [
             0.2222222222222222,
             "#7201a8"
            ],
            [
             0.3333333333333333,
             "#9c179e"
            ],
            [
             0.4444444444444444,
             "#bd3786"
            ],
            [
             0.5555555555555556,
             "#d8576b"
            ],
            [
             0.6666666666666666,
             "#ed7953"
            ],
            [
             0.7777777777777778,
             "#fb9f3a"
            ],
            [
             0.8888888888888888,
             "#fdca26"
            ],
            [
             1,
             "#f0f921"
            ]
           ],
           "sequentialminus": [
            [
             0,
             "#0d0887"
            ],
            [
             0.1111111111111111,
             "#46039f"
            ],
            [
             0.2222222222222222,
             "#7201a8"
            ],
            [
             0.3333333333333333,
             "#9c179e"
            ],
            [
             0.4444444444444444,
             "#bd3786"
            ],
            [
             0.5555555555555556,
             "#d8576b"
            ],
            [
             0.6666666666666666,
             "#ed7953"
            ],
            [
             0.7777777777777778,
             "#fb9f3a"
            ],
            [
             0.8888888888888888,
             "#fdca26"
            ],
            [
             1,
             "#f0f921"
            ]
           ]
          },
          "colorway": [
           "#636efa",
           "#EF553B",
           "#00cc96",
           "#ab63fa",
           "#FFA15A",
           "#19d3f3",
           "#FF6692",
           "#B6E880",
           "#FF97FF",
           "#FECB52"
          ],
          "font": {
           "color": "#f2f5fa",
           "family": "Fira Code"
          },
          "geo": {
           "bgcolor": "rgb(17,17,17)",
           "lakecolor": "rgb(17,17,17)",
           "landcolor": "rgb(17,17,17)",
           "showlakes": true,
           "showland": true,
           "subunitcolor": "#506784"
          },
          "hoverlabel": {
           "align": "left"
          },
          "hovermode": "closest",
          "mapbox": {
           "style": "dark"
          },
          "paper_bgcolor": "rgb(17,17,17)",
          "plot_bgcolor": "rgb(17,17,17)",
          "polar": {
           "angularaxis": {
            "gridcolor": "#506784",
            "linecolor": "#506784",
            "ticks": ""
           },
           "bgcolor": "rgb(17,17,17)",
           "radialaxis": {
            "gridcolor": "#506784",
            "linecolor": "#506784",
            "ticks": ""
           }
          },
          "scene": {
           "xaxis": {
            "backgroundcolor": "rgb(17,17,17)",
            "gridcolor": "#506784",
            "gridwidth": 2,
            "linecolor": "#506784",
            "showbackground": true,
            "ticks": "",
            "zerolinecolor": "#C8D4E3"
           },
           "yaxis": {
            "backgroundcolor": "rgb(17,17,17)",
            "gridcolor": "#506784",
            "gridwidth": 2,
            "linecolor": "#506784",
            "showbackground": true,
            "ticks": "",
            "zerolinecolor": "#C8D4E3"
           },
           "zaxis": {
            "backgroundcolor": "rgb(17,17,17)",
            "gridcolor": "#506784",
            "gridwidth": 2,
            "linecolor": "#506784",
            "showbackground": true,
            "ticks": "",
            "zerolinecolor": "#C8D4E3"
           }
          },
          "shapedefaults": {
           "line": {
            "color": "#f2f5fa"
           }
          },
          "sliderdefaults": {
           "bgcolor": "#C8D4E3",
           "bordercolor": "rgb(17,17,17)",
           "borderwidth": 1,
           "tickwidth": 0
          },
          "ternary": {
           "aaxis": {
            "gridcolor": "#506784",
            "linecolor": "#506784",
            "ticks": ""
           },
           "baxis": {
            "gridcolor": "#506784",
            "linecolor": "#506784",
            "ticks": ""
           },
           "bgcolor": "rgb(17,17,17)",
           "caxis": {
            "gridcolor": "#506784",
            "linecolor": "#506784",
            "ticks": ""
           }
          },
          "title": {
           "x": 0.05
          },
          "updatemenudefaults": {
           "bgcolor": "#506784",
           "borderwidth": 0
          },
          "xaxis": {
           "automargin": true,
           "gridcolor": "#283442",
           "linecolor": "#506784",
           "ticks": "",
           "title": {
            "standoff": 15
           },
           "zerolinecolor": "#283442",
           "zerolinewidth": 2
          },
          "yaxis": {
           "automargin": true,
           "gridcolor": "#283442",
           "linecolor": "#506784",
           "ticks": "",
           "title": {
            "standoff": 15
           },
           "zerolinecolor": "#283442",
           "zerolinewidth": 2
          }
         }
        }
       }
      },
      "text/html": [
       "<div>                            <div id=\"d9ab6e97-7650-4122-bf91-17f352d80884\" class=\"plotly-graph-div\" style=\"height:525px; width:100%;\"></div>            <script type=\"text/javascript\">                require([\"plotly\"], function(Plotly) {                    window.PLOTLYENV=window.PLOTLYENV || {};                                    if (document.getElementById(\"d9ab6e97-7650-4122-bf91-17f352d80884\")) {                    Plotly.newPlot(                        \"d9ab6e97-7650-4122-bf91-17f352d80884\",                        [{\"mode\":\"markers\",\"x\":[\"2007-11-11T00:00:00\",\"2007-11-16T00:00:00\",\"2007-11-16T00:00:00\",\"2007-11-16T00:00:00\",\"2007-11-15T00:00:00\",\"2007-11-15T00:00:00\",\"2007-11-16T00:00:00\",\"2007-11-12T00:00:00\",\"2007-11-12T00:00:00\",\"2007-11-16T00:00:00\",\"2007-11-16T00:00:00\",\"2007-11-12T00:00:00\",\"2007-11-12T00:00:00\",\"2007-11-12T00:00:00\",\"2007-11-12T00:00:00\",\"2007-11-10T00:00:00\",\"2007-11-10T00:00:00\",\"2007-11-12T00:00:00\",\"2007-11-12T00:00:00\",\"2007-11-10T00:00:00\",\"2007-11-10T00:00:00\",\"2007-11-09T00:00:00\",\"2007-11-09T00:00:00\",\"2007-11-09T00:00:00\",\"2007-11-09T00:00:00\",\"2007-11-16T00:00:00\",\"2007-11-16T00:00:00\",\"2007-11-16T00:00:00\",\"2007-11-16T00:00:00\",\"2007-11-13T00:00:00\",\"2007-11-16T00:00:00\",\"2007-11-19T00:00:00\",\"2007-11-19T00:00:00\",\"2007-11-16T00:00:00\",\"2007-11-16T00:00:00\",\"2007-11-13T00:00:00\",\"2007-11-13T00:00:00\",\"2008-11-06T00:00:00\",\"2008-11-06T00:00:00\",\"2008-11-09T00:00:00\",\"2008-11-09T00:00:00\",\"2008-11-09T00:00:00\",\"2008-11-09T00:00:00\",\"2008-11-15T00:00:00\",\"2008-11-15T00:00:00\",\"2008-11-15T00:00:00\",\"2008-11-15T00:00:00\",\"2008-11-13T00:00:00\",\"2008-11-13T00:00:00\",\"2008-11-13T00:00:00\",\"2008-11-13T00:00:00\",\"2008-11-13T00:00:00\",\"2008-11-13T00:00:00\",\"2008-11-06T00:00:00\",\"2008-11-06T00:00:00\",\"2008-11-11T00:00:00\",\"2008-11-11T00:00:00\",\"2008-11-14T00:00:00\",\"2008-11-14T00:00:00\",\"2008-11-11T00:00:00\",\"2008-11-11T00:00:00\",\"2008-11-08T00:00:00\",\"2008-11-08T00:00:00\",\"2008-11-06T00:00:00\",\"2008-11-06T00:00:00\",\"2008-11-09T00:00:00\",\"2008-11-09T00:00:00\",\"2008-11-02T00:00:00\",\"2008-11-02T00:00:00\",\"2008-11-07T00:00:00\",\"2008-11-07T00:00:00\",\"2008-11-17T00:00:00\",\"2008-11-17T00:00:00\",\"2008-11-08T00:00:00\",\"2008-11-08T00:00:00\",\"2008-11-08T00:00:00\",\"2008-11-08T00:00:00\",\"2008-11-14T00:00:00\",\"2008-11-14T00:00:00\",\"2008-11-05T00:00:00\",\"2008-11-05T00:00:00\",\"2008-11-17T00:00:00\",\"2008-11-17T00:00:00\",\"2008-11-08T00:00:00\",\"2008-11-08T00:00:00\",\"2008-11-10T00:00:00\",\"2008-11-10T00:00:00\",\"2009-11-09T00:00:00\",\"2009-11-09T00:00:00\",\"2009-11-15T00:00:00\",\"2009-11-15T00:00:00\",\"2009-11-15T00:00:00\",\"2009-11-15T00:00:00\",\"2009-11-15T00:00:00\",\"2009-11-15T00:00:00\",\"2009-11-20T00:00:00\",\"2009-11-20T00:00:00\",\"2009-11-12T00:00:00\",\"2009-11-12T00:00:00\",\"2009-11-15T00:00:00\",\"2009-11-15T00:00:00\",\"2009-11-17T00:00:00\",\"2009-11-17T00:00:00\",\"2009-11-18T00:00:00\",\"2009-11-18T00:00:00\",\"2009-11-22T00:00:00\",\"2009-11-22T00:00:00\",\"2009-11-17T00:00:00\",\"2009-11-17T00:00:00\",\"2009-11-16T00:00:00\",\"2009-11-16T00:00:00\",\"2009-11-18T00:00:00\",\"2009-11-18T00:00:00\",\"2009-11-21T00:00:00\",\"2009-11-21T00:00:00\",\"2009-11-18T00:00:00\",\"2009-11-18T00:00:00\",\"2009-11-23T00:00:00\",\"2009-11-23T00:00:00\",\"2009-11-10T00:00:00\",\"2009-11-10T00:00:00\",\"2009-11-13T00:00:00\",\"2009-11-13T00:00:00\",\"2009-11-16T00:00:00\",\"2009-11-16T00:00:00\",\"2009-11-16T00:00:00\",\"2009-11-16T00:00:00\",\"2009-11-14T00:00:00\",\"2009-11-14T00:00:00\",\"2009-11-16T00:00:00\",\"2009-11-16T00:00:00\",\"2009-11-16T00:00:00\",\"2009-11-16T00:00:00\",\"2009-11-13T00:00:00\",\"2009-11-13T00:00:00\",\"2009-11-17T00:00:00\",\"2009-11-17T00:00:00\",\"2009-11-17T00:00:00\",\"2009-11-17T00:00:00\",\"2007-11-19T00:00:00\",\"2007-11-19T00:00:00\",\"2007-11-26T00:00:00\",\"2007-11-26T00:00:00\",\"2007-11-21T00:00:00\",\"2007-11-21T00:00:00\",\"2007-11-28T00:00:00\",\"2007-11-28T00:00:00\",\"2007-11-21T00:00:00\",\"2007-11-21T00:00:00\",\"2007-11-28T00:00:00\",\"2007-11-28T00:00:00\",\"2007-11-26T00:00:00\",\"2007-11-26T00:00:00\",\"2007-11-22T00:00:00\",\"2007-11-22T00:00:00\",\"2007-11-30T00:00:00\",\"2007-11-30T00:00:00\",\"2007-11-30T00:00:00\",\"2007-11-30T00:00:00\",\"2007-12-03T00:00:00\",\"2007-12-03T00:00:00\",\"2007-11-28T00:00:00\",\"2007-11-28T00:00:00\",\"2007-11-28T00:00:00\",\"2007-11-28T00:00:00\",\"2008-11-25T00:00:00\",\"2008-11-25T00:00:00\",\"2008-11-14T00:00:00\",\"2008-11-14T00:00:00\",\"2008-11-24T00:00:00\",\"2008-11-24T00:00:00\",\"2008-11-24T00:00:00\",\"2008-11-24T00:00:00\",\"2008-11-25T00:00:00\",\"2008-11-25T00:00:00\",\"2008-11-14T00:00:00\",\"2008-11-14T00:00:00\",\"2008-11-24T00:00:00\",\"2008-11-24T00:00:00\",\"2008-11-24T00:00:00\",\"2008-11-24T00:00:00\",\"2008-11-14T00:00:00\",\"2008-11-14T00:00:00\",\"2009-11-17T00:00:00\",\"2009-11-17T00:00:00\",\"2009-11-27T00:00:00\",\"2009-11-27T00:00:00\",\"2009-11-23T00:00:00\",\"2009-11-23T00:00:00\",\"2009-11-21T00:00:00\",\"2009-11-21T00:00:00\",\"2009-11-23T00:00:00\",\"2009-11-23T00:00:00\",\"2009-11-27T00:00:00\",\"2009-11-27T00:00:00\",\"2009-11-21T00:00:00\",\"2009-11-21T00:00:00\",\"2009-11-21T00:00:00\",\"2009-11-21T00:00:00\",\"2009-11-27T00:00:00\",\"2009-11-19T00:00:00\",\"2009-11-19T00:00:00\",\"2009-11-21T00:00:00\",\"2009-11-21T00:00:00\",\"2009-11-21T00:00:00\",\"2009-11-21T00:00:00\",\"2007-11-27T00:00:00\",\"2007-11-27T00:00:00\",\"2007-11-27T00:00:00\",\"2007-11-27T00:00:00\",\"2007-11-18T00:00:00\",\"2007-11-18T00:00:00\",\"2007-11-27T00:00:00\",\"2007-11-27T00:00:00\",\"2007-11-27T00:00:00\",\"2007-11-27T00:00:00\",\"2007-11-27T00:00:00\",\"2007-11-27T00:00:00\",\"2007-11-29T00:00:00\",\"2007-11-29T00:00:00\",\"2007-12-03T00:00:00\",\"2007-12-03T00:00:00\",\"2007-11-27T00:00:00\",\"2007-11-27T00:00:00\",\"2007-11-27T00:00:00\",\"2007-11-27T00:00:00\",\"2007-11-27T00:00:00\",\"2007-11-27T00:00:00\",\"2007-11-27T00:00:00\",\"2007-11-27T00:00:00\",\"2007-11-29T00:00:00\",\"2007-11-29T00:00:00\",\"2007-11-29T00:00:00\",\"2007-11-29T00:00:00\",\"2007-11-29T00:00:00\",\"2007-11-29T00:00:00\",\"2007-12-03T00:00:00\",\"2007-12-03T00:00:00\",\"2008-11-13T00:00:00\",\"2008-11-13T00:00:00\",\"2008-11-02T00:00:00\",\"2008-11-02T00:00:00\",\"2008-11-09T00:00:00\",\"2008-11-09T00:00:00\",\"2008-11-04T00:00:00\",\"2008-11-04T00:00:00\",\"2008-11-04T00:00:00\",\"2008-11-04T00:00:00\",\"2008-11-03T00:00:00\",\"2008-11-03T00:00:00\",\"2008-11-09T00:00:00\",\"2008-11-09T00:00:00\",\"2008-11-02T00:00:00\",\"2008-11-02T00:00:00\",\"2008-11-04T00:00:00\",\"2008-11-04T00:00:00\",\"2008-11-04T00:00:00\",\"2008-11-04T00:00:00\",\"2008-11-04T00:00:00\",\"2008-11-04T00:00:00\",\"2008-11-03T00:00:00\",\"2008-11-03T00:00:00\",\"2008-11-06T00:00:00\",\"2008-11-06T00:00:00\",\"2008-11-03T00:00:00\",\"2008-11-03T00:00:00\",\"2008-11-13T00:00:00\",\"2008-11-13T00:00:00\",\"2008-11-04T00:00:00\",\"2008-11-04T00:00:00\",\"2008-11-09T00:00:00\",\"2008-11-13T00:00:00\",\"2008-11-13T00:00:00\",\"2008-11-03T00:00:00\",\"2008-11-03T00:00:00\",\"2008-11-09T00:00:00\",\"2008-11-09T00:00:00\",\"2008-11-06T00:00:00\",\"2008-11-06T00:00:00\",\"2008-11-06T00:00:00\",\"2008-11-06T00:00:00\",\"2008-11-09T00:00:00\",\"2008-11-09T00:00:00\",\"2009-11-18T00:00:00\",\"2009-11-18T00:00:00\",\"2009-11-15T00:00:00\",\"2009-11-15T00:00:00\",\"2009-11-22T00:00:00\",\"2009-11-22T00:00:00\",\"2009-11-20T00:00:00\",\"2009-11-20T00:00:00\",\"2009-11-25T00:00:00\",\"2009-11-25T00:00:00\",\"2009-11-25T00:00:00\",\"2009-11-25T00:00:00\",\"2009-12-01T00:00:00\",\"2009-12-01T00:00:00\",\"2009-11-27T00:00:00\",\"2009-11-27T00:00:00\",\"2009-11-18T00:00:00\",\"2009-11-18T00:00:00\",\"2009-11-18T00:00:00\",\"2009-11-18T00:00:00\",\"2009-11-22T00:00:00\",\"2009-11-22T00:00:00\",\"2009-11-18T00:00:00\",\"2009-11-18T00:00:00\",\"2009-12-01T00:00:00\",\"2009-11-10T00:00:00\",\"2009-11-10T00:00:00\",\"2009-11-09T00:00:00\",\"2009-11-09T00:00:00\",\"2009-11-20T00:00:00\",\"2009-11-20T00:00:00\",\"2009-11-27T00:00:00\",\"2009-11-27T00:00:00\",\"2009-11-25T00:00:00\",\"2009-11-25T00:00:00\",\"2009-12-01T00:00:00\",\"2009-12-01T00:00:00\",\"2009-12-01T00:00:00\",\"2009-11-22T00:00:00\",\"2009-11-22T00:00:00\",\"2009-11-22T00:00:00\",\"2009-11-22T00:00:00\"],\"y\":[1,1,1,1,1,1,1,1,1,1,1,1,1,1,1,1,1,1,1,1,1,1,1,1,1,1,1,1,1,1,1,1,1,1,1,1,1,1,1,1,1,1,1,1,1,1,1,1,1,1,1,1,1,1,1,1,1,1,1,1,1,1,1,1,1,1,1,1,1,1,1,1,1,1,1,1,1,1,1,1,1,1,1,1,1,1,1,1,1,1,1,1,1,1,1,1,1,1,1,1,1,1,1,1,1,1,1,1,1,1,1,1,1,1,1,1,1,1,1,1,1,1,1,1,1,1,1,1,1,1,1,1,1,1,1,1,1,1,1,1,1,1,1,1,1,1,1,1,1,1,1,1,1,1,1,1,1,1,1,1,1,1,1,1,1,1,1,1,1,1,1,1,1,1,1,1,1,1,1,1,1,1,1,1,1,1,1,1,1,1,1,1,1,1,1,1,1,1,1,1,1,1,1,1,1,1,1,1,1,1,1,1,1,1,1,1,1,1,1,1,1,1,1,1,1,1,1,1,1,1,1,1,1,1,1,1,1,1,1,1,1,1,1,1,1,1,1,1,1,1,1,1,1,1,1,1,1,1,1,1,1,1,1,1,1,1,1,1,1,1,1,1,1,1,1,1,1,1,1,1,1,1,1,1,1,1,1,1,1,1,1,1,1,1,1,1,1,1,1,1,1,1,1,1,1,1,1,1,1,1,1,1,1,1,1,1,1,1,1,1,1,1,1,1,1],\"type\":\"scatter\"}],                        {\"template\":{\"data\":{\"barpolar\":[{\"marker\":{\"line\":{\"color\":\"rgb(17,17,17)\",\"width\":0.5},\"pattern\":{\"fillmode\":\"overlay\",\"size\":10,\"solidity\":0.2}},\"type\":\"barpolar\"}],\"bar\":[{\"error_x\":{\"color\":\"#f2f5fa\"},\"error_y\":{\"color\":\"#f2f5fa\"},\"marker\":{\"line\":{\"color\":\"rgb(17,17,17)\",\"width\":0.5},\"pattern\":{\"fillmode\":\"overlay\",\"size\":10,\"solidity\":0.2}},\"type\":\"bar\"}],\"carpet\":[{\"aaxis\":{\"endlinecolor\":\"#A2B1C6\",\"gridcolor\":\"#506784\",\"linecolor\":\"#506784\",\"minorgridcolor\":\"#506784\",\"startlinecolor\":\"#A2B1C6\"},\"baxis\":{\"endlinecolor\":\"#A2B1C6\",\"gridcolor\":\"#506784\",\"linecolor\":\"#506784\",\"minorgridcolor\":\"#506784\",\"startlinecolor\":\"#A2B1C6\"},\"type\":\"carpet\"}],\"choropleth\":[{\"colorbar\":{\"outlinewidth\":0,\"ticks\":\"\"},\"type\":\"choropleth\"}],\"contourcarpet\":[{\"colorbar\":{\"outlinewidth\":0,\"ticks\":\"\"},\"type\":\"contourcarpet\"}],\"contour\":[{\"colorbar\":{\"outlinewidth\":0,\"ticks\":\"\"},\"colorscale\":[[0.0,\"#0d0887\"],[0.1111111111111111,\"#46039f\"],[0.2222222222222222,\"#7201a8\"],[0.3333333333333333,\"#9c179e\"],[0.4444444444444444,\"#bd3786\"],[0.5555555555555556,\"#d8576b\"],[0.6666666666666666,\"#ed7953\"],[0.7777777777777778,\"#fb9f3a\"],[0.8888888888888888,\"#fdca26\"],[1.0,\"#f0f921\"]],\"type\":\"contour\"}],\"heatmapgl\":[{\"colorbar\":{\"outlinewidth\":0,\"ticks\":\"\"},\"colorscale\":[[0.0,\"#0d0887\"],[0.1111111111111111,\"#46039f\"],[0.2222222222222222,\"#7201a8\"],[0.3333333333333333,\"#9c179e\"],[0.4444444444444444,\"#bd3786\"],[0.5555555555555556,\"#d8576b\"],[0.6666666666666666,\"#ed7953\"],[0.7777777777777778,\"#fb9f3a\"],[0.8888888888888888,\"#fdca26\"],[1.0,\"#f0f921\"]],\"type\":\"heatmapgl\"}],\"heatmap\":[{\"colorbar\":{\"outlinewidth\":0,\"ticks\":\"\"},\"colorscale\":[[0.0,\"#0d0887\"],[0.1111111111111111,\"#46039f\"],[0.2222222222222222,\"#7201a8\"],[0.3333333333333333,\"#9c179e\"],[0.4444444444444444,\"#bd3786\"],[0.5555555555555556,\"#d8576b\"],[0.6666666666666666,\"#ed7953\"],[0.7777777777777778,\"#fb9f3a\"],[0.8888888888888888,\"#fdca26\"],[1.0,\"#f0f921\"]],\"type\":\"heatmap\"}],\"histogram2dcontour\":[{\"colorbar\":{\"outlinewidth\":0,\"ticks\":\"\"},\"colorscale\":[[0.0,\"#0d0887\"],[0.1111111111111111,\"#46039f\"],[0.2222222222222222,\"#7201a8\"],[0.3333333333333333,\"#9c179e\"],[0.4444444444444444,\"#bd3786\"],[0.5555555555555556,\"#d8576b\"],[0.6666666666666666,\"#ed7953\"],[0.7777777777777778,\"#fb9f3a\"],[0.8888888888888888,\"#fdca26\"],[1.0,\"#f0f921\"]],\"type\":\"histogram2dcontour\"}],\"histogram2d\":[{\"colorbar\":{\"outlinewidth\":0,\"ticks\":\"\"},\"colorscale\":[[0.0,\"#0d0887\"],[0.1111111111111111,\"#46039f\"],[0.2222222222222222,\"#7201a8\"],[0.3333333333333333,\"#9c179e\"],[0.4444444444444444,\"#bd3786\"],[0.5555555555555556,\"#d8576b\"],[0.6666666666666666,\"#ed7953\"],[0.7777777777777778,\"#fb9f3a\"],[0.8888888888888888,\"#fdca26\"],[1.0,\"#f0f921\"]],\"type\":\"histogram2d\"}],\"histogram\":[{\"marker\":{\"pattern\":{\"fillmode\":\"overlay\",\"size\":10,\"solidity\":0.2}},\"type\":\"histogram\"}],\"mesh3d\":[{\"colorbar\":{\"outlinewidth\":0,\"ticks\":\"\"},\"type\":\"mesh3d\"}],\"parcoords\":[{\"line\":{\"colorbar\":{\"outlinewidth\":0,\"ticks\":\"\"}},\"type\":\"parcoords\"}],\"pie\":[{\"automargin\":true,\"type\":\"pie\"}],\"scatter3d\":[{\"line\":{\"colorbar\":{\"outlinewidth\":0,\"ticks\":\"\"}},\"marker\":{\"colorbar\":{\"outlinewidth\":0,\"ticks\":\"\"}},\"type\":\"scatter3d\"}],\"scattercarpet\":[{\"marker\":{\"colorbar\":{\"outlinewidth\":0,\"ticks\":\"\"}},\"type\":\"scattercarpet\"}],\"scattergeo\":[{\"marker\":{\"colorbar\":{\"outlinewidth\":0,\"ticks\":\"\"}},\"type\":\"scattergeo\"}],\"scattergl\":[{\"marker\":{\"line\":{\"color\":\"#283442\"}},\"type\":\"scattergl\"}],\"scattermapbox\":[{\"marker\":{\"colorbar\":{\"outlinewidth\":0,\"ticks\":\"\"}},\"type\":\"scattermapbox\"}],\"scatterpolargl\":[{\"marker\":{\"colorbar\":{\"outlinewidth\":0,\"ticks\":\"\"}},\"type\":\"scatterpolargl\"}],\"scatterpolar\":[{\"marker\":{\"colorbar\":{\"outlinewidth\":0,\"ticks\":\"\"}},\"type\":\"scatterpolar\"}],\"scatter\":[{\"marker\":{\"line\":{\"color\":\"#283442\"}},\"type\":\"scatter\"}],\"scatterternary\":[{\"marker\":{\"colorbar\":{\"outlinewidth\":0,\"ticks\":\"\"}},\"type\":\"scatterternary\"}],\"surface\":[{\"colorbar\":{\"outlinewidth\":0,\"ticks\":\"\"},\"colorscale\":[[0.0,\"#0d0887\"],[0.1111111111111111,\"#46039f\"],[0.2222222222222222,\"#7201a8\"],[0.3333333333333333,\"#9c179e\"],[0.4444444444444444,\"#bd3786\"],[0.5555555555555556,\"#d8576b\"],[0.6666666666666666,\"#ed7953\"],[0.7777777777777778,\"#fb9f3a\"],[0.8888888888888888,\"#fdca26\"],[1.0,\"#f0f921\"]],\"type\":\"surface\"}],\"table\":[{\"cells\":{\"fill\":{\"color\":\"#506784\"},\"line\":{\"color\":\"rgb(17,17,17)\"}},\"header\":{\"fill\":{\"color\":\"#2a3f5f\"},\"line\":{\"color\":\"rgb(17,17,17)\"}},\"type\":\"table\"}]},\"layout\":{\"annotationdefaults\":{\"arrowcolor\":\"#f2f5fa\",\"arrowhead\":0,\"arrowwidth\":1},\"autotypenumbers\":\"strict\",\"coloraxis\":{\"colorbar\":{\"outlinewidth\":0,\"ticks\":\"\"}},\"colorscale\":{\"diverging\":[[0,\"#8e0152\"],[0.1,\"#c51b7d\"],[0.2,\"#de77ae\"],[0.3,\"#f1b6da\"],[0.4,\"#fde0ef\"],[0.5,\"#f7f7f7\"],[0.6,\"#e6f5d0\"],[0.7,\"#b8e186\"],[0.8,\"#7fbc41\"],[0.9,\"#4d9221\"],[1,\"#276419\"]],\"sequential\":[[0.0,\"#0d0887\"],[0.1111111111111111,\"#46039f\"],[0.2222222222222222,\"#7201a8\"],[0.3333333333333333,\"#9c179e\"],[0.4444444444444444,\"#bd3786\"],[0.5555555555555556,\"#d8576b\"],[0.6666666666666666,\"#ed7953\"],[0.7777777777777778,\"#fb9f3a\"],[0.8888888888888888,\"#fdca26\"],[1.0,\"#f0f921\"]],\"sequentialminus\":[[0.0,\"#0d0887\"],[0.1111111111111111,\"#46039f\"],[0.2222222222222222,\"#7201a8\"],[0.3333333333333333,\"#9c179e\"],[0.4444444444444444,\"#bd3786\"],[0.5555555555555556,\"#d8576b\"],[0.6666666666666666,\"#ed7953\"],[0.7777777777777778,\"#fb9f3a\"],[0.8888888888888888,\"#fdca26\"],[1.0,\"#f0f921\"]]},\"colorway\":[\"#636efa\",\"#EF553B\",\"#00cc96\",\"#ab63fa\",\"#FFA15A\",\"#19d3f3\",\"#FF6692\",\"#B6E880\",\"#FF97FF\",\"#FECB52\"],\"font\":{\"color\":\"#f2f5fa\",\"family\":\"Fira Code\"},\"geo\":{\"bgcolor\":\"rgb(17,17,17)\",\"lakecolor\":\"rgb(17,17,17)\",\"landcolor\":\"rgb(17,17,17)\",\"showlakes\":true,\"showland\":true,\"subunitcolor\":\"#506784\"},\"hoverlabel\":{\"align\":\"left\"},\"hovermode\":\"closest\",\"mapbox\":{\"style\":\"dark\"},\"paper_bgcolor\":\"rgb(17,17,17)\",\"plot_bgcolor\":\"rgb(17,17,17)\",\"polar\":{\"angularaxis\":{\"gridcolor\":\"#506784\",\"linecolor\":\"#506784\",\"ticks\":\"\"},\"bgcolor\":\"rgb(17,17,17)\",\"radialaxis\":{\"gridcolor\":\"#506784\",\"linecolor\":\"#506784\",\"ticks\":\"\"}},\"scene\":{\"xaxis\":{\"backgroundcolor\":\"rgb(17,17,17)\",\"gridcolor\":\"#506784\",\"gridwidth\":2,\"linecolor\":\"#506784\",\"showbackground\":true,\"ticks\":\"\",\"zerolinecolor\":\"#C8D4E3\"},\"yaxis\":{\"backgroundcolor\":\"rgb(17,17,17)\",\"gridcolor\":\"#506784\",\"gridwidth\":2,\"linecolor\":\"#506784\",\"showbackground\":true,\"ticks\":\"\",\"zerolinecolor\":\"#C8D4E3\"},\"zaxis\":{\"backgroundcolor\":\"rgb(17,17,17)\",\"gridcolor\":\"#506784\",\"gridwidth\":2,\"linecolor\":\"#506784\",\"showbackground\":true,\"ticks\":\"\",\"zerolinecolor\":\"#C8D4E3\"}},\"shapedefaults\":{\"line\":{\"color\":\"#f2f5fa\"}},\"sliderdefaults\":{\"bgcolor\":\"#C8D4E3\",\"bordercolor\":\"rgb(17,17,17)\",\"borderwidth\":1,\"tickwidth\":0},\"ternary\":{\"aaxis\":{\"gridcolor\":\"#506784\",\"linecolor\":\"#506784\",\"ticks\":\"\"},\"baxis\":{\"gridcolor\":\"#506784\",\"linecolor\":\"#506784\",\"ticks\":\"\"},\"bgcolor\":\"rgb(17,17,17)\",\"caxis\":{\"gridcolor\":\"#506784\",\"linecolor\":\"#506784\",\"ticks\":\"\"}},\"title\":{\"x\":0.05},\"updatemenudefaults\":{\"bgcolor\":\"#506784\",\"borderwidth\":0},\"xaxis\":{\"automargin\":true,\"gridcolor\":\"#283442\",\"linecolor\":\"#506784\",\"ticks\":\"\",\"title\":{\"standoff\":15},\"zerolinecolor\":\"#283442\",\"zerolinewidth\":2},\"yaxis\":{\"automargin\":true,\"gridcolor\":\"#283442\",\"linecolor\":\"#506784\",\"ticks\":\"\",\"title\":{\"standoff\":15},\"zerolinecolor\":\"#283442\",\"zerolinewidth\":2}}}},                        {\"responsive\": true}                    ).then(function(){\n",
       "                            \n",
       "var gd = document.getElementById('d9ab6e97-7650-4122-bf91-17f352d80884');\n",
       "var x = new MutationObserver(function (mutations, observer) {{\n",
       "        var display = window.getComputedStyle(gd).display;\n",
       "        if (!display || display === 'none') {{\n",
       "            console.log([gd, 'removed!']);\n",
       "            Plotly.purge(gd);\n",
       "            observer.disconnect();\n",
       "        }}\n",
       "}});\n",
       "\n",
       "// Listen for the removal of the full notebook cells\n",
       "var notebookContainer = gd.closest('#notebook-container');\n",
       "if (notebookContainer) {{\n",
       "    x.observe(notebookContainer, {childList: true});\n",
       "}}\n",
       "\n",
       "// Listen for the clearing of the current output cell\n",
       "var outputEl = gd.closest('.output');\n",
       "if (outputEl) {{\n",
       "    x.observe(outputEl, {childList: true});\n",
       "}}\n",
       "\n",
       "                        })                };                });            </script>        </div>"
      ]
     },
     "metadata": {},
     "output_type": "display_data"
    }
   ],
   "source": [
    "fig = go.Figure()\n",
    "fig.add_trace(go.Scatter(x=temp_na.date,y=[1]*temp_na.shape[0],mode=\"markers\"))\n",
    "fig.show()"
   ]
  },
  {
   "cell_type": "code",
   "execution_count": null,
   "metadata": {},
   "outputs": [],
   "source": []
  },
  {
   "cell_type": "code",
   "execution_count": null,
   "metadata": {},
   "outputs": [],
   "source": []
  },
  {
   "cell_type": "code",
   "execution_count": null,
   "metadata": {},
   "outputs": [],
   "source": []
  },
  {
   "cell_type": "code",
   "execution_count": null,
   "metadata": {},
   "outputs": [],
   "source": []
  },
  {
   "cell_type": "code",
   "execution_count": null,
   "metadata": {},
   "outputs": [],
   "source": []
  },
  {
   "cell_type": "code",
   "execution_count": null,
   "metadata": {},
   "outputs": [],
   "source": []
  },
  {
   "cell_type": "code",
   "execution_count": null,
   "metadata": {},
   "outputs": [],
   "source": [
    "# ord_enc = OrdinalEncoder().set_output(transform='pandas')\n",
    "# temp_df[['study','species','island','clutch','sex']] = ord_enc.fit_transform(temp_df[['study','species','island','clutch','sex']])\n",
    "# temp_df.head()\n",
    "# kds = mf.ImputationKernel(data=temp_df.drop(columns=['date']),datasets=5,random_state=1991)\n",
    "# kds.mice(1)\n",
    "# plt.rcParams[\"figure.figsize\"] = (20,10)\n",
    "# kds.plot_imputed_distributions(datasets=1)\n",
    "# temp_df = kds.complete_data(dataset=1)\n",
    "# GradientBoostingClassifier().get_params()\n",
    "# gird_params = dict(\n",
    "#     learnig_rate=np.logspace(-6,-1,6),\n",
    "#     max_depth=np.arange(3,16),\n",
    "#     max_leaf_nodes=np.arange(8,32),\n",
    "#     n_estimators=np.arange(100,500,50)\n",
    "#     )"
   ]
  },
  {
   "cell_type": "code",
   "execution_count": null,
   "metadata": {},
   "outputs": [],
   "source": []
  }
 ],
 "metadata": {
  "kernelspec": {
   "display_name": "Python 3 (ipykernel)",
   "language": "python",
   "name": "python3"
  },
  "language_info": {
   "codemirror_mode": {
    "name": "ipython",
    "version": 3
   },
   "file_extension": ".py",
   "mimetype": "text/x-python",
   "name": "python",
   "nbconvert_exporter": "python",
   "pygments_lexer": "ipython3",
   "version": "3.8.10"
  },
  "orig_nbformat": 4
 },
 "nbformat": 4,
 "nbformat_minor": 2
}
