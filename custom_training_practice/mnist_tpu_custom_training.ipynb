{
  "cells": [
    {
      "cell_type": "markdown",
      "metadata": {
        "id": "view-in-github",
        "colab_type": "text"
      },
      "source": [
        "<a href=\"https://colab.research.google.com/github/h4ck4l1/datasets/blob/main/custom_training_practice/mnist_tpu_custom_training.ipynb\" target=\"_parent\"><img src=\"https://colab.research.google.com/assets/colab-badge.svg\" alt=\"Open In Colab\"/></a>"
      ]
    },
    {
      "cell_type": "code",
      "execution_count": 1,
      "metadata": {
        "id": "P60Zqprkr0Ny",
        "outputId": "25cb90ed-da3c-45e1-d931-11917e70334d",
        "colab": {
          "base_uri": "https://localhost:8080/"
        }
      },
      "outputs": [
        {
          "output_type": "stream",
          "name": "stdout",
          "text": [
            "Bismillah Hirrahamaa Nirraheem\n"
          ]
        }
      ],
      "source": [
        "print(\"Bismillah Hirrahamaa Nirraheem\")"
      ]
    },
    {
      "cell_type": "code",
      "execution_count": 2,
      "metadata": {
        "id": "A9bWoPg7r0N1",
        "outputId": "c0e790bc-e23c-4c65-9dbe-89c6cd08bfa8",
        "colab": {
          "base_uri": "https://localhost:8080/"
        }
      },
      "outputs": [
        {
          "output_type": "execute_result",
          "data": {
            "text/plain": [
              "40"
            ]
          },
          "metadata": {},
          "execution_count": 2
        }
      ],
      "source": [
        "import os,sys,warnings,time,re,math\n",
        "warnings.filterwarnings(\"ignore\")\n",
        "from IPython.display import clear_output\n",
        "os.cpu_count()"
      ]
    },
    {
      "cell_type": "code",
      "source": [
        "from google.colab import auth\n",
        "auth.authenticate_user()\n",
        "!gcloud auth login\n",
        "clear_output()\n",
        "!gcloud config set project kaggle-406814"
      ],
      "metadata": {
        "id": "tSk90zKisKCV",
        "outputId": "4767f15f-0a47-4042-8792-385562312d51",
        "colab": {
          "base_uri": "https://localhost:8080/"
        }
      },
      "execution_count": 3,
      "outputs": [
        {
          "output_type": "stream",
          "name": "stdout",
          "text": [
            "Updated property [core/project].\n"
          ]
        }
      ]
    },
    {
      "cell_type": "code",
      "execution_count": 4,
      "metadata": {
        "id": "ydOCgvH2r0N1"
      },
      "outputs": [],
      "source": [
        "os.environ[\"TF_CPP_MIN_LOG_LEVEL\"] = \"3\"\n",
        "import numpy as np\n",
        "import pandas as pd\n",
        "import matplotlib.pyplot as plt\n",
        "import plotly.express as px\n",
        "import plotly.graph_objects as go\n",
        "from plotly.subplots import make_subplots\n",
        "import plotly.io as pio\n",
        "from typing import Literal\n",
        "from multiprocessing import Process\n",
        "from concurrent.futures import ThreadPoolExecutor,ProcessPoolExecutor,wait\n",
        "pio.templates.default = \"plotly_dark\"\n",
        "import tensorflow as tf\n",
        "from tensorflow import keras\n",
        "from tensorflow.io import VarLenFeature,parse_tensor,parse_single_example\n",
        "from tensorflow.data import TFRecordDataset\n",
        "from sklearn.datasets import fetch_openml\n",
        "tf.get_logger().setLevel(\"ERROR\")\n",
        "from tqdm import tqdm\n",
        "from zipfile import ZipFile\n",
        "%matplotlib inline"
      ]
    },
    {
      "cell_type": "markdown",
      "metadata": {
        "id": "iGGqbsjor0N2"
      },
      "source": [
        "## Strategy"
      ]
    },
    {
      "cell_type": "code",
      "execution_count": 5,
      "metadata": {
        "id": "mMEmja4Er0N3",
        "outputId": "7f76ffb6-ed41-49f3-ae40-3d9a7a092f94",
        "colab": {
          "base_uri": "https://localhost:8080/"
        }
      },
      "outputs": [
        {
          "output_type": "stream",
          "name": "stdout",
          "text": [
            "TPU running on : ['10.22.86.130:8470']\n",
            "8\n"
          ]
        }
      ],
      "source": [
        "try:\n",
        "    tpu_cluster = tf.distribute.cluster_resolver.TPUClusterResolver()\n",
        "    is_tpu = True\n",
        "except ValueError:\n",
        "    is_tpu = False\n",
        "\n",
        "if is_tpu:\n",
        "    tf.config.experimental_connect_to_cluster(tpu_cluster)\n",
        "    tf.tpu.experimental.initialize_tpu_system(tpu_cluster)\n",
        "    strategy = tf.distribute.TPUStrategy(tpu_cluster)\n",
        "    print(\"TPU running on :\",tpu_cluster.cluster_spec().as_dict()[\"worker\"])\n",
        "else:\n",
        "    if len(tf.config.list_physical_devices()) > 1:\n",
        "        strategy = tf.distribute.OneDeviceStrategy(\"GPU\")\n",
        "    else:\n",
        "        strategy = tf.distribute.OneDeviceStrategy(\"CPU\")\n",
        "\n",
        "print(strategy.num_replicas_in_sync)"
      ]
    },
    {
      "cell_type": "markdown",
      "metadata": {
        "id": "GQ4X14cWr0N3"
      },
      "source": [
        "# Dataset Loading"
      ]
    },
    {
      "cell_type": "code",
      "execution_count": 6,
      "metadata": {
        "id": "zuNF9MB-r0N4"
      },
      "outputs": [],
      "source": [
        "PATH = \"gs://stanfordrna/mnist/*.tfrecord\"\n",
        "all_files = tf.io.gfile.glob(PATH)\n",
        "train_files = all_files[:15]\n",
        "valid_files = all_files[15:18]\n",
        "test_files = all_files[18:]\n",
        "train_raw = TFRecordDataset(train_files)\n",
        "test_raw = TFRecordDataset(test_files)\n",
        "valid_raw = TFRecordDataset(valid_files)"
      ]
    },
    {
      "cell_type": "code",
      "execution_count": 7,
      "metadata": {
        "id": "uJFuYkk3r0N4"
      },
      "outputs": [],
      "source": [
        "mnist_feature = dict(\n",
        "    image=VarLenFeature(tf.string),\n",
        "    label = VarLenFeature(tf.string)\n",
        ")\n",
        "\n",
        "def mnist_example(example):\n",
        "    example = parse_single_example(example,mnist_feature)\n",
        "    example[\"image\"] = parse_tensor(tf.sparse.to_dense(example[\"image\"])[0],out_type=tf.float32)[...,tf.newaxis]\n",
        "    example[\"image\"] /= 255.0\n",
        "    example[\"label\"] = parse_tensor(tf.sparse.to_dense(example[\"label\"])[0],out_type=tf.float32)\n",
        "    return example[\"image\"],example[\"label\"]\n",
        "\n",
        "\n",
        "def shape_set(image,label,batch_size):\n",
        "    image.set_shape([batch_size,28,28,1])\n",
        "    label.set_shape([batch_size,1])\n",
        "    return image,label\n",
        "\n",
        "def create_ds(ds:tf.data.Dataset,batch_size:int,is_train:bool=False,shuffle_size:int=5000):\n",
        "    ds = ds.map(mnist_example,num_parallel_calls=tf.data.AUTOTUNE)\n",
        "    if is_train:\n",
        "        ds = ds.shuffle(shuffle_size)\n",
        "        ds = ds.repeat()\n",
        "    ds = ds.batch(batch_size,drop_remainder=True)\n",
        "    ds = ds.map(lambda image,label: shape_set(image,label,batch_size),num_parallel_calls=tf.data.AUTOTUNE)\n",
        "    if not is_train:\n",
        "        ds = ds.cache()\n",
        "    return ds.prefetch(tf.data.AUTOTUNE)\n",
        "\n",
        "\n",
        "BATCH_SIZE = 32\n",
        "sample_ds = create_ds(train_raw,batch_size=BATCH_SIZE,is_train=True)"
      ]
    },
    {
      "cell_type": "code",
      "execution_count": 8,
      "metadata": {
        "id": "0TpClXWCr0N4",
        "outputId": "7966d7ed-b07b-4c2e-adc7-0d27f7fef0c1",
        "colab": {
          "base_uri": "https://localhost:8080/"
        }
      },
      "outputs": [
        {
          "output_type": "stream",
          "name": "stdout",
          "text": [
            "X shape:  (32, 28, 28, 1)\n",
            "y shape:  (32, 1)\n"
          ]
        }
      ],
      "source": [
        "X,y = sample_ds.take(1).get_single_element()\n",
        "print(\"X shape: \",X.shape)\n",
        "print(\"y shape: \",y.shape)"
      ]
    },
    {
      "cell_type": "code",
      "execution_count": 9,
      "metadata": {
        "id": "qTOM17_ur0N5",
        "outputId": "b767fdb6-930b-4d64-e023-559f761c8a3b",
        "colab": {
          "base_uri": "https://localhost:8080/",
          "height": 559
        }
      },
      "outputs": [
        {
          "output_type": "stream",
          "name": "stdout",
          "text": [
            "[6.]\n"
          ]
        },
        {
          "output_type": "display_data",
          "data": {
            "text/html": [
              "<html>\n",
              "<head><meta charset=\"utf-8\" /></head>\n",
              "<body>\n",
              "    <div>            <script src=\"https://cdnjs.cloudflare.com/ajax/libs/mathjax/2.7.5/MathJax.js?config=TeX-AMS-MML_SVG\"></script><script type=\"text/javascript\">if (window.MathJax && window.MathJax.Hub && window.MathJax.Hub.Config) {window.MathJax.Hub.Config({SVG: {font: \"STIX-Web\"}});}</script>                <script type=\"text/javascript\">window.PlotlyConfig = {MathJaxConfig: 'local'};</script>\n",
              "        <script charset=\"utf-8\" src=\"https://cdn.plot.ly/plotly-2.24.1.min.js\"></script>                <div id=\"f3b15a86-40d3-4089-aa5c-cd9a3f962510\" class=\"plotly-graph-div\" style=\"height:525px; width:100%;\"></div>            <script type=\"text/javascript\">                                    window.PLOTLYENV=window.PLOTLYENV || {};                                    if (document.getElementById(\"f3b15a86-40d3-4089-aa5c-cd9a3f962510\")) {                    Plotly.newPlot(                        \"f3b15a86-40d3-4089-aa5c-cd9a3f962510\",                        [{\"coloraxis\":\"coloraxis\",\"name\":\"0\",\"z\":[[0.0,0.0,0.0,0.0,0.0,0.0,0.03921568766236305,0.6313725709915161,0.7960784435272217,0.729411780834198,0.4901960790157318,0.33725491166114807,0.24705882370471954,0.23137255012989044,0.18039216101169586,0.34117648005485535,0.3803921639919281,0.6078431606292725,0.729411780834198,0.7372549176216125,0.33725491166114807,0.0,0.0,0.0,0.0,0.0,0.0,0.0],[0.0,0.0,0.0,0.0,0.0,0.0,0.2078431397676468,0.9333333373069763,0.8235294222831726,0.7764706015586853,0.7254902124404907,0.6705882549285889,0.8274509906768799,0.545098066329956,0.7843137383460999,0.7686274647712708,0.7137255072593689,0.658823549747467,0.7490196228027344,0.8941176533699036,0.9058823585510254,0.0,0.0,0.0,0.0,0.0,0.0,0.0],[0.0,0.0,0.0,0.0,0.0,0.0,0.12941177189350128,0.8705882430076599,0.8196078538894653,0.8078431487083435,0.7372549176216125,0.6274510025978088,0.772549033164978,0.0,0.42352941632270813,0.6627451181411743,0.5843137502670288,0.7490196228027344,0.8078431487083435,0.8588235378265381,0.6745098233222961,0.0,0.0,0.0,0.0,0.0,0.0,0.0],[0.0,0.0,0.0,0.0,0.0,0.0,0.1725490242242813,0.8901960849761963,0.8235294222831726,0.8235294222831726,0.8470588326454163,0.8039215803146362,0.8509804010391235,0.0,0.2549019753932953,0.843137264251709,0.7686274647712708,0.8352941274642944,0.8039215803146362,0.8745098114013672,0.7568627595901489,0.0,0.0,0.0,0.0,0.0,0.0,0.0],[0.0,0.0,0.0,0.0,0.0,0.0,0.1882352977991104,0.8745098114013672,0.8235294222831726,0.8235294222831726,0.8117647171020508,0.8313725590705872,0.9098039269447327,0.4941176474094391,0.8039215803146362,0.9019607901573181,0.8588235378265381,0.8196078538894653,0.8039215803146362,0.8823529481887817,0.6784313917160034,0.0,0.0,0.0,0.0,0.0,0.0,0.0],[0.0,0.0,0.0,0.0,0.0,0.0,0.21176470816135406,0.886274516582489,0.8313725590705872,0.8313725590705872,0.8235294222831726,0.8039215803146362,0.8235294222831726,0.9843137264251709,0.9411764740943909,0.8352941274642944,0.7921568751335144,0.8235294222831726,0.8235294222831726,0.8941176533699036,0.5921568870544434,0.0,0.0,0.0,0.0,0.0,0.0,0.0],[0.0,0.0,0.0,0.0,0.0,0.0,0.2549019753932953,0.9137254953384399,0.8274509906768799,0.8392156958580017,0.8352941274642944,0.8274509906768799,0.8156862854957581,0.772549033164978,0.7882353067398071,0.8156862854957581,0.8274509906768799,0.8313725590705872,0.8156862854957581,0.9019607901573181,0.41960784792900085,0.0,0.0117647061124444,0.0,0.0,0.0,0.0,0.0],[0.0,0.0,0.0,0.0,0.0,0.0,0.10588235408067703,0.8901960849761963,0.843137264251709,0.8392156958580017,0.8352941274642944,0.8352941274642944,0.8352941274642944,0.8392156958580017,0.843137264251709,0.843137264251709,0.8392156958580017,0.8470588326454163,0.8235294222831726,0.8980392217636108,0.30588236451148987,0.0,0.007843137718737125,0.0,0.0,0.0,0.0,0.0],[0.0,0.0,0.0,0.0,0.0,0.0,0.11764705926179886,0.8941176533699036,0.8470588326454163,0.8666666746139526,0.843137264251709,0.8509804010391235,0.8470588326454163,0.8549019694328308,0.8549019694328308,0.8509804010391235,0.8549019694328308,0.8705882430076599,0.8352941274642944,0.9058823585510254,0.29019609093666077,0.0,0.007843137718737125,0.0,0.0,0.0,0.0,0.0],[0.0,0.0,0.0,0.0,0.0,0.0,0.16078431904315948,0.9019607901573181,0.8627451062202454,0.8745098114013672,0.8549019694328308,0.8588235378265381,0.8627451062202454,0.8627451062202454,0.8588235378265381,0.8549019694328308,0.8509804010391235,0.8588235378265381,0.8470588326454163,0.9254902005195618,0.3294117748737335,0.0,0.007843137718737125,0.0,0.0,0.0,0.0,0.0],[0.0,0.0,0.0,0.0,0.0,0.0,0.14509804546833038,0.8980392217636108,0.8705882430076599,0.8509804010391235,0.8549019694328308,0.8549019694328308,0.8588235378265381,0.8588235378265381,0.8549019694328308,0.8549019694328308,0.843137264251709,0.8509804010391235,0.843137264251709,0.9411764740943909,0.4627451002597809,0.0,0.007843137718737125,0.0,0.0,0.0,0.0,0.0],[0.0,0.0,0.0,0.0,0.0,0.0,0.1725490242242813,0.9137254953384399,0.8666666746139526,0.8509804010391235,0.8588235378265381,0.8549019694328308,0.8588235378265381,0.8588235378265381,0.8549019694328308,0.8549019694328308,0.8509804010391235,0.8549019694328308,0.8392156958580017,0.9254902005195618,0.6274510025978088,0.0,0.003921568859368563,0.0,0.0,0.0,0.0,0.0],[0.0,0.0,0.0,0.0,0.0,0.0,0.16470588743686676,0.9215686321258545,0.8588235378265381,0.8627451062202454,0.8588235378265381,0.8666666746139526,0.8666666746139526,0.8627451062202454,0.8627451062202454,0.8666666746139526,0.8588235378265381,0.8627451062202454,0.843137264251709,0.9176470637321472,0.6627451181411743,0.0,0.0,0.0,0.0,0.0,0.0,0.0],[0.0,0.0,0.0,0.0,0.0,0.0,0.1568627506494522,0.9215686321258545,0.8549019694328308,0.8588235378265381,0.8588235378265381,0.8666666746139526,0.8666666746139526,0.8627451062202454,0.8627451062202454,0.8666666746139526,0.8588235378265381,0.8627451062202454,0.843137264251709,0.9137254953384399,0.7490196228027344,0.0,0.0,0.0,0.0,0.0,0.0,0.0],[0.0,0.0,0.0,0.0,0.0,0.0,0.26274511218070984,0.9411764740943909,0.8392156958580017,0.8588235378265381,0.8588235378265381,0.8666666746139526,0.8627451062202454,0.8627451062202454,0.8627451062202454,0.8666666746139526,0.8627451062202454,0.8666666746139526,0.8392156958580017,0.9058823585510254,0.8549019694328308,0.0,0.0,0.0,0.0,0.0,0.0,0.0],[0.0,0.0,0.0,0.0,0.0,0.0,0.3607843220233917,0.9450980424880981,0.8392156958580017,0.8745098114013672,0.8509804010391235,0.8666666746139526,0.8666666746139526,0.8666666746139526,0.8666666746139526,0.8705882430076599,0.8666666746139526,0.8666666746139526,0.843137264251709,0.8901960849761963,0.9333333373069763,0.0,0.0,0.0,0.0,0.0,0.0,0.0],[0.0,0.0,0.0,0.0,0.0,0.0,0.45098039507865906,0.929411768913269,0.8470588326454163,0.8705882430076599,0.8627451062202454,0.8666666746139526,0.8588235378265381,0.8627451062202454,0.8666666746139526,0.8705882430076599,0.8666666746139526,0.8627451062202454,0.8509804010391235,0.8784313797950745,0.8235294222831726,0.0,0.0,0.0,0.0,0.0,0.0,0.0],[0.0,0.0,0.0,0.0,0.0,0.0,0.5490196347236633,0.9254902005195618,0.8470588326454163,0.8666666746139526,0.8627451062202454,0.8745098114013672,0.8666666746139526,0.8666666746139526,0.8666666746139526,0.8705882430076599,0.8666666746139526,0.8627451062202454,0.8549019694328308,0.8705882430076599,0.8705882430076599,0.0,0.0,0.0,0.0,0.0,0.0,0.0],[0.0,0.0,0.0,0.0,0.0,0.0,0.6549019813537598,0.9176470637321472,0.8509804010391235,0.8705882430076599,0.8588235378265381,0.8745098114013672,0.8784313797950745,0.8666666746139526,0.8666666746139526,0.8666666746139526,0.8666666746139526,0.8627451062202454,0.8627451062202454,0.8549019694328308,0.9019607901573181,0.07058823853731155,0.0,0.0,0.0,0.0,0.0,0.0],[0.0,0.0,0.0,0.0,0.0,0.0,0.7568627595901489,0.9058823585510254,0.8588235378265381,0.8705882430076599,0.8705882430076599,0.8745098114013672,0.8784313797950745,0.8705882430076599,0.8745098114013672,0.8745098114013672,0.8705882430076599,0.8666666746139526,0.8666666746139526,0.8509804010391235,0.9058823585510254,0.09803921729326248,0.0,0.0,0.0,0.0,0.0,0.0],[0.0,0.0,0.0,0.0,0.0,0.0,0.8509804010391235,0.8941176533699036,0.8666666746139526,0.8627451062202454,0.8627451062202454,0.8666666746139526,0.8745098114013672,0.8666666746139526,0.8666666746139526,0.8666666746139526,0.8666666746139526,0.8666666746139526,0.8666666746139526,0.8549019694328308,0.9098039269447327,0.11764705926179886,0.0,0.0,0.0,0.0,0.0,0.0],[0.0,0.0,0.0,0.0,0.0,0.0,0.95686274766922,0.8784313797950745,0.8588235378265381,0.8588235378265381,0.8666666746139526,0.8666666746139526,0.8745098114013672,0.8666666746139526,0.8705882430076599,0.8745098114013672,0.8705882430076599,0.8705882430076599,0.8666666746139526,0.8470588326454163,0.9176470637321472,0.16470588743686676,0.0,0.0,0.0,0.0,0.0,0.0],[0.0,0.0,0.0,0.0,0.0,0.0,0.9647058844566345,0.8784313797950745,0.8509804010391235,0.8627451062202454,0.8705882430076599,0.8705882430076599,0.8745098114013672,0.8666666746139526,0.8705882430076599,0.8784313797950745,0.8745098114013672,0.8745098114013672,0.8705882430076599,0.8509804010391235,0.9490196108818054,0.3019607961177826,0.0,0.0,0.0,0.0,0.0,0.0],[0.0,0.0,0.0,0.0,0.0,0.0,0.9921568632125854,0.8745098114013672,0.8627451062202454,0.8666666746139526,0.8745098114013672,0.8705882430076599,0.8784313797950745,0.8705882430076599,0.8745098114013672,0.8823529481887817,0.8666666746139526,0.8666666746139526,0.8705882430076599,0.8509804010391235,0.9450980424880981,0.4431372582912445,0.0,0.0,0.0,0.0,0.0,0.0],[0.0,0.0,0.0,0.0,0.0,0.0,0.8470588326454163,0.8705882430076599,0.8666666746139526,0.8745098114013672,0.8705882430076599,0.8705882430076599,0.8705882430076599,0.8745098114013672,0.8745098114013672,0.8784313797950745,0.8705882430076599,0.8705882430076599,0.8784313797950745,0.8509804010391235,0.9372549057006836,0.5137255191802979,0.0,0.0,0.0,0.0,0.0,0.0],[0.0,0.0,0.0,0.0,0.0,0.0117647061124444,0.8627451062202454,0.8509804010391235,0.8470588326454163,0.8549019694328308,0.8392156958580017,0.8313725590705872,0.8313725590705872,0.8313725590705872,0.8352941274642944,0.8588235378265381,0.843137264251709,0.8392156958580017,0.8549019694328308,0.8392156958580017,0.9176470637321472,0.7137255072593689,0.0,0.0,0.0,0.0,0.0,0.0],[0.0,0.0,0.0,0.0,0.0,0.06666667014360428,0.8784313797950745,0.9019607901573181,0.8980392217636108,1.0,1.0,1.0,0.9921568632125854,0.9921568632125854,0.9921568632125854,1.0,1.0,1.0,1.0,0.9098039269447327,0.9647058844566345,0.843137264251709,0.0,0.0,0.0,0.0,0.0,0.0],[0.0,0.0,0.0,0.0,0.0,0.0,0.10588235408067703,0.12156862765550613,0.16470588743686676,0.23137255012989044,0.364705890417099,0.4156862795352936,0.47058823704719543,0.47843137383461,0.4627451002597809,0.43921568989753723,0.3843137323856354,0.3529411852359772,0.3843137323856354,0.3450980484485626,0.21176470816135406,0.0941176488995552,0.0,0.0,0.0,0.0,0.0,0.0]],\"type\":\"heatmap\",\"xaxis\":\"x\",\"yaxis\":\"y\",\"hovertemplate\":\"x: %{x}\\u003cbr\\u003ey: %{y}\\u003cbr\\u003ecolor: %{z}\\u003cextra\\u003e\\u003c\\u002fextra\\u003e\"}],                        {\"template\":{\"data\":{\"histogram2dcontour\":[{\"type\":\"histogram2dcontour\",\"colorbar\":{\"outlinewidth\":0,\"ticks\":\"\"},\"colorscale\":[[0.0,\"#0d0887\"],[0.1111111111111111,\"#46039f\"],[0.2222222222222222,\"#7201a8\"],[0.3333333333333333,\"#9c179e\"],[0.4444444444444444,\"#bd3786\"],[0.5555555555555556,\"#d8576b\"],[0.6666666666666666,\"#ed7953\"],[0.7777777777777778,\"#fb9f3a\"],[0.8888888888888888,\"#fdca26\"],[1.0,\"#f0f921\"]]}],\"choropleth\":[{\"type\":\"choropleth\",\"colorbar\":{\"outlinewidth\":0,\"ticks\":\"\"}}],\"histogram2d\":[{\"type\":\"histogram2d\",\"colorbar\":{\"outlinewidth\":0,\"ticks\":\"\"},\"colorscale\":[[0.0,\"#0d0887\"],[0.1111111111111111,\"#46039f\"],[0.2222222222222222,\"#7201a8\"],[0.3333333333333333,\"#9c179e\"],[0.4444444444444444,\"#bd3786\"],[0.5555555555555556,\"#d8576b\"],[0.6666666666666666,\"#ed7953\"],[0.7777777777777778,\"#fb9f3a\"],[0.8888888888888888,\"#fdca26\"],[1.0,\"#f0f921\"]]}],\"heatmap\":[{\"type\":\"heatmap\",\"colorbar\":{\"outlinewidth\":0,\"ticks\":\"\"},\"colorscale\":[[0.0,\"#0d0887\"],[0.1111111111111111,\"#46039f\"],[0.2222222222222222,\"#7201a8\"],[0.3333333333333333,\"#9c179e\"],[0.4444444444444444,\"#bd3786\"],[0.5555555555555556,\"#d8576b\"],[0.6666666666666666,\"#ed7953\"],[0.7777777777777778,\"#fb9f3a\"],[0.8888888888888888,\"#fdca26\"],[1.0,\"#f0f921\"]]}],\"heatmapgl\":[{\"type\":\"heatmapgl\",\"colorbar\":{\"outlinewidth\":0,\"ticks\":\"\"},\"colorscale\":[[0.0,\"#0d0887\"],[0.1111111111111111,\"#46039f\"],[0.2222222222222222,\"#7201a8\"],[0.3333333333333333,\"#9c179e\"],[0.4444444444444444,\"#bd3786\"],[0.5555555555555556,\"#d8576b\"],[0.6666666666666666,\"#ed7953\"],[0.7777777777777778,\"#fb9f3a\"],[0.8888888888888888,\"#fdca26\"],[1.0,\"#f0f921\"]]}],\"contourcarpet\":[{\"type\":\"contourcarpet\",\"colorbar\":{\"outlinewidth\":0,\"ticks\":\"\"}}],\"contour\":[{\"type\":\"contour\",\"colorbar\":{\"outlinewidth\":0,\"ticks\":\"\"},\"colorscale\":[[0.0,\"#0d0887\"],[0.1111111111111111,\"#46039f\"],[0.2222222222222222,\"#7201a8\"],[0.3333333333333333,\"#9c179e\"],[0.4444444444444444,\"#bd3786\"],[0.5555555555555556,\"#d8576b\"],[0.6666666666666666,\"#ed7953\"],[0.7777777777777778,\"#fb9f3a\"],[0.8888888888888888,\"#fdca26\"],[1.0,\"#f0f921\"]]}],\"surface\":[{\"type\":\"surface\",\"colorbar\":{\"outlinewidth\":0,\"ticks\":\"\"},\"colorscale\":[[0.0,\"#0d0887\"],[0.1111111111111111,\"#46039f\"],[0.2222222222222222,\"#7201a8\"],[0.3333333333333333,\"#9c179e\"],[0.4444444444444444,\"#bd3786\"],[0.5555555555555556,\"#d8576b\"],[0.6666666666666666,\"#ed7953\"],[0.7777777777777778,\"#fb9f3a\"],[0.8888888888888888,\"#fdca26\"],[1.0,\"#f0f921\"]]}],\"mesh3d\":[{\"type\":\"mesh3d\",\"colorbar\":{\"outlinewidth\":0,\"ticks\":\"\"}}],\"scatter\":[{\"marker\":{\"line\":{\"color\":\"#283442\"}},\"type\":\"scatter\"}],\"parcoords\":[{\"type\":\"parcoords\",\"line\":{\"colorbar\":{\"outlinewidth\":0,\"ticks\":\"\"}}}],\"scatterpolargl\":[{\"type\":\"scatterpolargl\",\"marker\":{\"colorbar\":{\"outlinewidth\":0,\"ticks\":\"\"}}}],\"bar\":[{\"error_x\":{\"color\":\"#f2f5fa\"},\"error_y\":{\"color\":\"#f2f5fa\"},\"marker\":{\"line\":{\"color\":\"rgb(17,17,17)\",\"width\":0.5},\"pattern\":{\"fillmode\":\"overlay\",\"size\":10,\"solidity\":0.2}},\"type\":\"bar\"}],\"scattergeo\":[{\"type\":\"scattergeo\",\"marker\":{\"colorbar\":{\"outlinewidth\":0,\"ticks\":\"\"}}}],\"scatterpolar\":[{\"type\":\"scatterpolar\",\"marker\":{\"colorbar\":{\"outlinewidth\":0,\"ticks\":\"\"}}}],\"histogram\":[{\"marker\":{\"pattern\":{\"fillmode\":\"overlay\",\"size\":10,\"solidity\":0.2}},\"type\":\"histogram\"}],\"scattergl\":[{\"marker\":{\"line\":{\"color\":\"#283442\"}},\"type\":\"scattergl\"}],\"scatter3d\":[{\"type\":\"scatter3d\",\"line\":{\"colorbar\":{\"outlinewidth\":0,\"ticks\":\"\"}},\"marker\":{\"colorbar\":{\"outlinewidth\":0,\"ticks\":\"\"}}}],\"scattermapbox\":[{\"type\":\"scattermapbox\",\"marker\":{\"colorbar\":{\"outlinewidth\":0,\"ticks\":\"\"}}}],\"scatterternary\":[{\"type\":\"scatterternary\",\"marker\":{\"colorbar\":{\"outlinewidth\":0,\"ticks\":\"\"}}}],\"scattercarpet\":[{\"type\":\"scattercarpet\",\"marker\":{\"colorbar\":{\"outlinewidth\":0,\"ticks\":\"\"}}}],\"carpet\":[{\"aaxis\":{\"endlinecolor\":\"#A2B1C6\",\"gridcolor\":\"#506784\",\"linecolor\":\"#506784\",\"minorgridcolor\":\"#506784\",\"startlinecolor\":\"#A2B1C6\"},\"baxis\":{\"endlinecolor\":\"#A2B1C6\",\"gridcolor\":\"#506784\",\"linecolor\":\"#506784\",\"minorgridcolor\":\"#506784\",\"startlinecolor\":\"#A2B1C6\"},\"type\":\"carpet\"}],\"table\":[{\"cells\":{\"fill\":{\"color\":\"#506784\"},\"line\":{\"color\":\"rgb(17,17,17)\"}},\"header\":{\"fill\":{\"color\":\"#2a3f5f\"},\"line\":{\"color\":\"rgb(17,17,17)\"}},\"type\":\"table\"}],\"barpolar\":[{\"marker\":{\"line\":{\"color\":\"rgb(17,17,17)\",\"width\":0.5},\"pattern\":{\"fillmode\":\"overlay\",\"size\":10,\"solidity\":0.2}},\"type\":\"barpolar\"}],\"pie\":[{\"automargin\":true,\"type\":\"pie\"}]},\"layout\":{\"autotypenumbers\":\"strict\",\"colorway\":[\"#636efa\",\"#EF553B\",\"#00cc96\",\"#ab63fa\",\"#FFA15A\",\"#19d3f3\",\"#FF6692\",\"#B6E880\",\"#FF97FF\",\"#FECB52\"],\"font\":{\"color\":\"#f2f5fa\"},\"hovermode\":\"closest\",\"hoverlabel\":{\"align\":\"left\"},\"paper_bgcolor\":\"rgb(17,17,17)\",\"plot_bgcolor\":\"rgb(17,17,17)\",\"polar\":{\"bgcolor\":\"rgb(17,17,17)\",\"angularaxis\":{\"gridcolor\":\"#506784\",\"linecolor\":\"#506784\",\"ticks\":\"\"},\"radialaxis\":{\"gridcolor\":\"#506784\",\"linecolor\":\"#506784\",\"ticks\":\"\"}},\"ternary\":{\"bgcolor\":\"rgb(17,17,17)\",\"aaxis\":{\"gridcolor\":\"#506784\",\"linecolor\":\"#506784\",\"ticks\":\"\"},\"baxis\":{\"gridcolor\":\"#506784\",\"linecolor\":\"#506784\",\"ticks\":\"\"},\"caxis\":{\"gridcolor\":\"#506784\",\"linecolor\":\"#506784\",\"ticks\":\"\"}},\"coloraxis\":{\"colorbar\":{\"outlinewidth\":0,\"ticks\":\"\"}},\"colorscale\":{\"sequential\":[[0.0,\"#0d0887\"],[0.1111111111111111,\"#46039f\"],[0.2222222222222222,\"#7201a8\"],[0.3333333333333333,\"#9c179e\"],[0.4444444444444444,\"#bd3786\"],[0.5555555555555556,\"#d8576b\"],[0.6666666666666666,\"#ed7953\"],[0.7777777777777778,\"#fb9f3a\"],[0.8888888888888888,\"#fdca26\"],[1.0,\"#f0f921\"]],\"sequentialminus\":[[0.0,\"#0d0887\"],[0.1111111111111111,\"#46039f\"],[0.2222222222222222,\"#7201a8\"],[0.3333333333333333,\"#9c179e\"],[0.4444444444444444,\"#bd3786\"],[0.5555555555555556,\"#d8576b\"],[0.6666666666666666,\"#ed7953\"],[0.7777777777777778,\"#fb9f3a\"],[0.8888888888888888,\"#fdca26\"],[1.0,\"#f0f921\"]],\"diverging\":[[0,\"#8e0152\"],[0.1,\"#c51b7d\"],[0.2,\"#de77ae\"],[0.3,\"#f1b6da\"],[0.4,\"#fde0ef\"],[0.5,\"#f7f7f7\"],[0.6,\"#e6f5d0\"],[0.7,\"#b8e186\"],[0.8,\"#7fbc41\"],[0.9,\"#4d9221\"],[1,\"#276419\"]]},\"xaxis\":{\"gridcolor\":\"#283442\",\"linecolor\":\"#506784\",\"ticks\":\"\",\"title\":{\"standoff\":15},\"zerolinecolor\":\"#283442\",\"automargin\":true,\"zerolinewidth\":2},\"yaxis\":{\"gridcolor\":\"#283442\",\"linecolor\":\"#506784\",\"ticks\":\"\",\"title\":{\"standoff\":15},\"zerolinecolor\":\"#283442\",\"automargin\":true,\"zerolinewidth\":2},\"scene\":{\"xaxis\":{\"backgroundcolor\":\"rgb(17,17,17)\",\"gridcolor\":\"#506784\",\"linecolor\":\"#506784\",\"showbackground\":true,\"ticks\":\"\",\"zerolinecolor\":\"#C8D4E3\",\"gridwidth\":2},\"yaxis\":{\"backgroundcolor\":\"rgb(17,17,17)\",\"gridcolor\":\"#506784\",\"linecolor\":\"#506784\",\"showbackground\":true,\"ticks\":\"\",\"zerolinecolor\":\"#C8D4E3\",\"gridwidth\":2},\"zaxis\":{\"backgroundcolor\":\"rgb(17,17,17)\",\"gridcolor\":\"#506784\",\"linecolor\":\"#506784\",\"showbackground\":true,\"ticks\":\"\",\"zerolinecolor\":\"#C8D4E3\",\"gridwidth\":2}},\"shapedefaults\":{\"line\":{\"color\":\"#f2f5fa\"}},\"annotationdefaults\":{\"arrowcolor\":\"#f2f5fa\",\"arrowhead\":0,\"arrowwidth\":1},\"geo\":{\"bgcolor\":\"rgb(17,17,17)\",\"landcolor\":\"rgb(17,17,17)\",\"subunitcolor\":\"#506784\",\"showland\":true,\"showlakes\":true,\"lakecolor\":\"rgb(17,17,17)\"},\"title\":{\"x\":0.05},\"updatemenudefaults\":{\"bgcolor\":\"#506784\",\"borderwidth\":0},\"sliderdefaults\":{\"bgcolor\":\"#C8D4E3\",\"borderwidth\":1,\"bordercolor\":\"rgb(17,17,17)\",\"tickwidth\":0},\"mapbox\":{\"style\":\"dark\"}}},\"xaxis\":{\"anchor\":\"y\",\"domain\":[0.0,1.0],\"scaleanchor\":\"y\",\"constrain\":\"domain\"},\"yaxis\":{\"anchor\":\"x\",\"domain\":[0.0,1.0],\"autorange\":\"reversed\",\"constrain\":\"domain\"},\"coloraxis\":{\"colorscale\":[[0.0,\"#0d0887\"],[0.1111111111111111,\"#46039f\"],[0.2222222222222222,\"#7201a8\"],[0.3333333333333333,\"#9c179e\"],[0.4444444444444444,\"#bd3786\"],[0.5555555555555556,\"#d8576b\"],[0.6666666666666666,\"#ed7953\"],[0.7777777777777778,\"#fb9f3a\"],[0.8888888888888888,\"#fdca26\"],[1.0,\"#f0f921\"]]},\"margin\":{\"t\":60}},                        {\"responsive\": true}                    ).then(function(){\n",
              "                            \n",
              "var gd = document.getElementById('f3b15a86-40d3-4089-aa5c-cd9a3f962510');\n",
              "var x = new MutationObserver(function (mutations, observer) {{\n",
              "        var display = window.getComputedStyle(gd).display;\n",
              "        if (!display || display === 'none') {{\n",
              "            console.log([gd, 'removed!']);\n",
              "            Plotly.purge(gd);\n",
              "            observer.disconnect();\n",
              "        }}\n",
              "}});\n",
              "\n",
              "// Listen for the removal of the full notebook cells\n",
              "var notebookContainer = gd.closest('#notebook-container');\n",
              "if (notebookContainer) {{\n",
              "    x.observe(notebookContainer, {childList: true});\n",
              "}}\n",
              "\n",
              "// Listen for the clearing of the current output cell\n",
              "var outputEl = gd.closest('.output');\n",
              "if (outputEl) {{\n",
              "    x.observe(outputEl, {childList: true});\n",
              "}}\n",
              "\n",
              "                        })                };                            </script>        </div>\n",
              "</body>\n",
              "</html>"
            ]
          },
          "metadata": {}
        }
      ],
      "source": [
        "print(y[0].numpy())\n",
        "px.imshow(X[0].numpy().reshape(28,28))"
      ]
    },
    {
      "cell_type": "code",
      "execution_count": 10,
      "metadata": {
        "id": "d_p-h3ZWr0N5"
      },
      "outputs": [],
      "source": [
        "class Mnist(keras.models.Model):\n",
        "\n",
        "    def __init__(self,\n",
        "        filters_1:int=12,\n",
        "        ksize_1:int=3,\n",
        "        filters_2:int=24,\n",
        "        ksize_2:int=6,\n",
        "        filters_3:int=32,\n",
        "        ksize_3:int=6,\n",
        "        norm_sacle:bool=False,\n",
        "        norm_center:bool=True,\n",
        "        padding:str=\"same\",\n",
        "        bias:bool=False,\n",
        "        activation=\"relu\",\n",
        "        dense_units:int=200,\n",
        "        drop_rate:float=0.4,\n",
        "        dense_out:int=10,\n",
        "        **kwargs):\n",
        "\n",
        "        super(Mnist,self).__init__(**kwargs)\n",
        "\n",
        "        self.conv_1 = keras.layers.Conv2D(filters=filters_1,kernel_size=ksize_1,padding=padding,use_bias=bias)\n",
        "        self.conv_2 = keras.layers.Conv2D(filters=filters_2,kernel_size=ksize_2,padding=padding,use_bias=bias,strides=2)\n",
        "        self.conv_3 = keras.layers.Conv2D(filters=filters_3,kernel_size=ksize_3,padding=padding,use_bias=bias,strides=2)\n",
        "        self.batch_norm_1 = keras.layers.BatchNormalization(scale=norm_sacle,center=norm_center)\n",
        "        self.batch_norm_2 = keras.layers.BatchNormalization(scale=norm_sacle,center=norm_center)\n",
        "        self.batch_norm_3 = keras.layers.BatchNormalization(scale=norm_sacle,center=norm_center)\n",
        "        self.batch_norm_4 = keras.layers.BatchNormalization(scale=norm_sacle,center=norm_center)\n",
        "        self.activation = keras.activations.get(activation)\n",
        "        self.flat = keras.layers.Flatten()\n",
        "        self.forward = keras.layers.Dense(dense_units,use_bias=False)\n",
        "        self.drop_out = keras.layers.Dropout(drop_rate)\n",
        "        self.out = keras.layers.Dense(dense_out,activation=\"softmax\")\n",
        "\n",
        "\n",
        "\n",
        "    def call(self,x):\n",
        "\n",
        "        x = self.conv_1(x)\n",
        "        x = self.batch_norm_1(x)\n",
        "        x = self.activation(x)\n",
        "        x = self.conv_2(x)\n",
        "        x = self.batch_norm_2(x)\n",
        "        x = self.activation(x)\n",
        "        x = self.conv_3(x)\n",
        "        x = self.batch_norm_3(x)\n",
        "        x = self.activation(x)\n",
        "        x = self.flat(x)\n",
        "        x = self.forward(x)\n",
        "        x = self.batch_norm_4(x)\n",
        "        x = self.activation(x)\n",
        "        x = self.drop_out(x)\n",
        "        return self.out(x)\n",
        ""
      ]
    },
    {
      "cell_type": "code",
      "execution_count": 11,
      "metadata": {
        "id": "L31K1sQpr0N5",
        "outputId": "fa35bca0-f577-4946-e9d6-b3e05972ff4a",
        "colab": {
          "base_uri": "https://localhost:8080/"
        }
      },
      "outputs": [
        {
          "output_type": "execute_result",
          "data": {
            "text/plain": [
              "TensorShape([32, 10])"
            ]
          },
          "metadata": {},
          "execution_count": 11
        }
      ],
      "source": [
        "model = Mnist()\n",
        "test_out = model(X)\n",
        "test_out.shape"
      ]
    },
    {
      "cell_type": "code",
      "execution_count": 12,
      "metadata": {
        "id": "hncNqsUwr0N6"
      },
      "outputs": [],
      "source": [
        "BATCH_SIZE = 16 * strategy.num_replicas_in_sync if is_tpu else 32\n",
        "num_train_files = 15\n",
        "num_valid_files = 3\n",
        "num_test_files = 2\n",
        "total_instances = 210000\n",
        "num_train_instances = (total_instances * 15)//20\n",
        "num_test_instances = (total_instances * 2)//20\n",
        "num_valid_instances = (total_instances * 3)//20\n",
        "steps_per_epoch = num_train_instances//BATCH_SIZE\n",
        "validation_steps = num_valid_instances//BATCH_SIZE"
      ]
    },
    {
      "cell_type": "code",
      "execution_count": 13,
      "metadata": {
        "id": "yZKNh9V9r0N6"
      },
      "outputs": [],
      "source": [
        "with strategy.scope():\n",
        "    model = Mnist()\n",
        "    optimizer = keras.optimizers.Adam()\n",
        "    training_loss = keras.metrics.Mean(\"Training Loss\",dtype=tf.float32)\n",
        "    training_accuracy = keras.metrics.SparseCategoricalAccuracy(\"Training Accuracy\",dtype=tf.float32)\n",
        "\n",
        "per_replica_batch_size = BATCH_SIZE // strategy.num_replicas_in_sync\n",
        "\n",
        "train_ds = strategy.distribute_datasets_from_function(lambda _: create_ds(train_raw,per_replica_batch_size,is_train=True))\n",
        "\n",
        "@tf.function\n",
        "def train_step(iterator):\n",
        "    \"\"\"The step function for one training step\"\"\"\n",
        "\n",
        "    def step_fn(inputs):\n",
        "        \"\"\"The computation to run on each TPU device.\"\"\"\n",
        "\n",
        "        images,labels = inputs\n",
        "        with tf.GradientTape() as tape:\n",
        "            logits = model(images,training=True)\n",
        "            per_example_loss = keras.losses.sparse_categorical_crossentropy(labels,logits,from_logits=True)\n",
        "            loss = tf.nn.compute_average_loss(per_example_loss)\n",
        "            model_losses = model.losses\n",
        "            if model_losses:\n",
        "                loss += tf.nn.scale_regularization_loss(tf.add_n(model_losses))\n",
        "\n",
        "        grads = tape.gradient(loss,model.trainable_variables)\n",
        "        optimizer.apply_gradients(list(zip(grads,model.trainable_variables)))\n",
        "        training_loss.update_state(loss*strategy.num_replicas_in_sync)\n",
        "        training_accuracy.update_state(labels,logits)\n",
        "\n",
        "    strategy.run(step_fn,args=(next(iterator),))"
      ]
    },
    {
      "cell_type": "code",
      "execution_count": 14,
      "metadata": {
        "id": "q3zPzad9r0N6",
        "outputId": "13d4d5c6-065e-479c-9642-b14f021a244a",
        "colab": {
          "base_uri": "https://localhost:8080/"
        }
      },
      "outputs": [
        {
          "output_type": "stream",
          "name": "stdout",
          "text": [
            "Epoch 0\n"
          ]
        },
        {
          "output_type": "stream",
          "name": "stderr",
          "text": [
            "100%|██████████| 1230/1230 [00:04<00:00, 268.89it/s]\n"
          ]
        },
        {
          "output_type": "stream",
          "name": "stdout",
          "text": [
            "current step 1230, Training Loss: 2, Training Accuracy: 55.87\n",
            "Epoch 1\n"
          ]
        },
        {
          "output_type": "stream",
          "name": "stderr",
          "text": [
            "100%|██████████| 1230/1230 [00:01<00:00, 720.51it/s]\n"
          ]
        },
        {
          "output_type": "stream",
          "name": "stdout",
          "text": [
            "current step 2460, Training Loss: 1, Training Accuracy: 60.16\n",
            "Epoch 2\n"
          ]
        },
        {
          "output_type": "stream",
          "name": "stderr",
          "text": [
            "100%|██████████| 1230/1230 [00:01<00:00, 717.82it/s]\n"
          ]
        },
        {
          "output_type": "stream",
          "name": "stdout",
          "text": [
            "current step 3690, Training Loss: 1, Training Accuracy: 61.19\n",
            "Epoch 3\n"
          ]
        },
        {
          "output_type": "stream",
          "name": "stderr",
          "text": [
            "100%|██████████| 1230/1230 [00:01<00:00, 724.84it/s]\n"
          ]
        },
        {
          "output_type": "stream",
          "name": "stdout",
          "text": [
            "current step 4920, Training Loss: 1, Training Accuracy: 61.81\n",
            "Epoch 4\n"
          ]
        },
        {
          "output_type": "stream",
          "name": "stderr",
          "text": [
            "100%|██████████| 1230/1230 [00:01<00:00, 711.62it/s]\n"
          ]
        },
        {
          "output_type": "stream",
          "name": "stdout",
          "text": [
            "current step 6150, Training Loss: 1, Training Accuracy: 62.53\n"
          ]
        }
      ],
      "source": [
        "train_iterator = iter(train_ds)\n",
        "for epoch in range(5):\n",
        "    print(f\"Epoch {epoch}\")\n",
        "\n",
        "    for step in tqdm(range(steps_per_epoch)):\n",
        "        train_step(train_iterator)\n",
        "\n",
        "    print(f\"current step {optimizer.iterations.numpy()}, Training Loss: {round(float(training_loss.result()))}, Training Accuracy: {round(float(training_accuracy.result())*100,2)}\")\n",
        "    training_loss.reset_state()\n",
        "    training_accuracy.reset_state()"
      ]
    }
  ],
  "metadata": {
    "kernelspec": {
      "display_name": "Python 3",
      "name": "python3"
    },
    "language_info": {
      "codemirror_mode": {
        "name": "ipython",
        "version": 3
      },
      "file_extension": ".py",
      "mimetype": "text/x-python",
      "name": "python",
      "nbconvert_exporter": "python",
      "pygments_lexer": "ipython3",
      "version": "3.11.0rc1"
    },
    "colab": {
      "provenance": [],
      "machine_shape": "hm",
      "include_colab_link": true
    },
    "accelerator": "TPU"
  },
  "nbformat": 4,
  "nbformat_minor": 0
}