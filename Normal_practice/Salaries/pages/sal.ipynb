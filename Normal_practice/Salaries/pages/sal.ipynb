{
 "cells": [
  {
   "cell_type": "code",
   "execution_count": 71,
   "metadata": {},
   "outputs": [],
   "source": [
    "import time\n",
    "import pycountry as pyc\n",
    "from IPython.display import clear_output\n",
    "import numpy as np\n",
    "import pandas as pd\n",
    "import matplotlib.pyplot as plt\n",
    "import plotly.express as px\n",
    "import plotly.graph_objects as go\n",
    "import plotly.io as pio\n",
    "import statsmodels.api as sm\n",
    "from sklearn.preprocessing import StandardScaler\n",
    "from plotly.subplots import make_subplots\n",
    "pio.templates['mod'] = go.layout.Template(layout=dict(font=dict(family=\"Fira Code\")))\n",
    "pio.templates.default = \"plotly_dark+mod\"\n",
    "from dash import html,dcc,callback,Input,Output,dash_table,register_page"
   ]
  },
  {
   "cell_type": "code",
   "execution_count": 72,
   "metadata": {},
   "outputs": [],
   "source": [
    "sal = pd.read_csv('https://github.com/h4ck4l1/datasets/raw/main/Normal_practice/ds_salaries.csv')\n",
    "salaries = sal.copy()"
   ]
  },
  {
   "cell_type": "code",
   "execution_count": 73,
   "metadata": {},
   "outputs": [
    {
     "data": {
      "text/html": [
       "<div>\n",
       "<style scoped>\n",
       "    .dataframe tbody tr th:only-of-type {\n",
       "        vertical-align: middle;\n",
       "    }\n",
       "\n",
       "    .dataframe tbody tr th {\n",
       "        vertical-align: top;\n",
       "    }\n",
       "\n",
       "    .dataframe thead th {\n",
       "        text-align: right;\n",
       "    }\n",
       "</style>\n",
       "<table border=\"1\" class=\"dataframe\">\n",
       "  <thead>\n",
       "    <tr style=\"text-align: right;\">\n",
       "      <th></th>\n",
       "      <th>work_year</th>\n",
       "      <th>experience_level</th>\n",
       "      <th>employment_type</th>\n",
       "      <th>job_title</th>\n",
       "      <th>salary</th>\n",
       "      <th>salary_currency</th>\n",
       "      <th>salary_in_usd</th>\n",
       "      <th>employee_residence</th>\n",
       "      <th>remote_ratio</th>\n",
       "      <th>company_location</th>\n",
       "      <th>company_size</th>\n",
       "    </tr>\n",
       "  </thead>\n",
       "  <tbody>\n",
       "    <tr>\n",
       "      <th>0</th>\n",
       "      <td>2023</td>\n",
       "      <td>SE</td>\n",
       "      <td>FT</td>\n",
       "      <td>Principal Data Scientist</td>\n",
       "      <td>80000</td>\n",
       "      <td>EUR</td>\n",
       "      <td>85847</td>\n",
       "      <td>ES</td>\n",
       "      <td>100</td>\n",
       "      <td>ES</td>\n",
       "      <td>L</td>\n",
       "    </tr>\n",
       "    <tr>\n",
       "      <th>1</th>\n",
       "      <td>2023</td>\n",
       "      <td>MI</td>\n",
       "      <td>CT</td>\n",
       "      <td>ML Engineer</td>\n",
       "      <td>30000</td>\n",
       "      <td>USD</td>\n",
       "      <td>30000</td>\n",
       "      <td>US</td>\n",
       "      <td>100</td>\n",
       "      <td>US</td>\n",
       "      <td>S</td>\n",
       "    </tr>\n",
       "    <tr>\n",
       "      <th>2</th>\n",
       "      <td>2023</td>\n",
       "      <td>MI</td>\n",
       "      <td>CT</td>\n",
       "      <td>ML Engineer</td>\n",
       "      <td>25500</td>\n",
       "      <td>USD</td>\n",
       "      <td>25500</td>\n",
       "      <td>US</td>\n",
       "      <td>100</td>\n",
       "      <td>US</td>\n",
       "      <td>S</td>\n",
       "    </tr>\n",
       "    <tr>\n",
       "      <th>3</th>\n",
       "      <td>2023</td>\n",
       "      <td>SE</td>\n",
       "      <td>FT</td>\n",
       "      <td>Data Scientist</td>\n",
       "      <td>175000</td>\n",
       "      <td>USD</td>\n",
       "      <td>175000</td>\n",
       "      <td>CA</td>\n",
       "      <td>100</td>\n",
       "      <td>CA</td>\n",
       "      <td>M</td>\n",
       "    </tr>\n",
       "    <tr>\n",
       "      <th>4</th>\n",
       "      <td>2023</td>\n",
       "      <td>SE</td>\n",
       "      <td>FT</td>\n",
       "      <td>Data Scientist</td>\n",
       "      <td>120000</td>\n",
       "      <td>USD</td>\n",
       "      <td>120000</td>\n",
       "      <td>CA</td>\n",
       "      <td>100</td>\n",
       "      <td>CA</td>\n",
       "      <td>M</td>\n",
       "    </tr>\n",
       "  </tbody>\n",
       "</table>\n",
       "</div>"
      ],
      "text/plain": [
       "   work_year experience_level employment_type                 job_title  \\\n",
       "0       2023               SE              FT  Principal Data Scientist   \n",
       "1       2023               MI              CT               ML Engineer   \n",
       "2       2023               MI              CT               ML Engineer   \n",
       "3       2023               SE              FT            Data Scientist   \n",
       "4       2023               SE              FT            Data Scientist   \n",
       "\n",
       "   salary salary_currency  salary_in_usd employee_residence  remote_ratio  \\\n",
       "0   80000             EUR          85847                 ES           100   \n",
       "1   30000             USD          30000                 US           100   \n",
       "2   25500             USD          25500                 US           100   \n",
       "3  175000             USD         175000                 CA           100   \n",
       "4  120000             USD         120000                 CA           100   \n",
       "\n",
       "  company_location company_size  \n",
       "0               ES            L  \n",
       "1               US            S  \n",
       "2               US            S  \n",
       "3               CA            M  \n",
       "4               CA            M  "
      ]
     },
     "execution_count": 73,
     "metadata": {},
     "output_type": "execute_result"
    }
   ],
   "source": [
    "sal.head()"
   ]
  },
  {
   "cell_type": "code",
   "execution_count": 74,
   "metadata": {},
   "outputs": [],
   "source": [
    "alpha2_names = sal.company_location.unique()\n",
    "all_counts = {country.alpha_2:country.name for country in pyc.countries}\n",
    "alpha_dict = {}\n",
    "for country in alpha2_names:\n",
    "    alpha_dict[country] = pyc.countries.get(alpha_2=country).name\n",
    "\n",
    "alpha2_names_1 = sal.employee_residence.unique()\n",
    "all_counts = {country.alpha_2:country.name for country in pyc.countries}\n",
    "alpha_dict_1 = {}\n",
    "for country in alpha2_names_1:\n",
    "    alpha_dict_1[country] = pyc.countries.get(alpha_2=country).name"
   ]
  },
  {
   "cell_type": "code",
   "execution_count": 75,
   "metadata": {},
   "outputs": [],
   "source": [
    "sal.drop(['job_title','salary','salary_currency'],axis=1,inplace=True)\n",
    "sal['work_year'] = sal.work_year.astype(str)\n",
    "sal['experience_level'] = sal.experience_level.map({'SE':'Senior','MI':'MidInter','EX':'Executive','EN':'Entry'})\n",
    "sal['employment_type'] = sal.employment_type.map({'FT':'FullTime','CT':'Contract','FL':'FreeLancer','PT':'PartTime'})\n",
    "sal['company_location'] = sal.company_location.map(alpha_dict)\n",
    "sal['employee_residence'] = sal.employee_residence.map(alpha_dict_1)\n",
    "sal_by_exp = sal.groupby(['work_year','experience_level']).aggregate({'salary_in_usd':'mean'}).salary_in_usd\n",
    "sal_by_emp = sal.groupby(['work_year','employment_type']).aggregate({'salary_in_usd':'mean'}).salary_in_usd\n",
    "exp_list = ['Entry','MidInter','Senior','Executive']\n",
    "emp_list = ['FullTime','Contract','FreeLancer','PartTime']\n",
    "years = ['2020','2021','2022','2023']"
   ]
  },
  {
   "cell_type": "code",
   "execution_count": 76,
   "metadata": {},
   "outputs": [],
   "source": [
    "salaries['experience_level'] = salaries.experience_level.map({'SE':'Senior','MI':'MidInter','EX':'Executive','EN':'Entry'})\n",
    "salaries['employment_type'] = salaries.employment_type.map({'FT':'FullTime','CT':'Contract','FL':'FreeLancer','PT':'PartTime'})\n",
    "salaries['company_location'] = salaries.company_location.map(alpha_dict)\n",
    "salaries['employee_residence'] = salaries.employee_residence.map(alpha_dict_1)"
   ]
  },
  {
   "cell_type": "code",
   "execution_count": 77,
   "metadata": {},
   "outputs": [],
   "source": [
    "idx = pd.IndexSlice"
   ]
  },
  {
   "cell_type": "code",
   "execution_count": 78,
   "metadata": {},
   "outputs": [],
   "source": [
    "sal_by_exp_mean = sal.groupby('work_year').aggregate({'salary_in_usd':'mean'})\n",
    "sal_by_exp_mean['shifted_salary'] = sal_by_exp_mean.shift(1).fillna(0).loc[:,'salary_in_usd']\n",
    "sal_by_exp_mean['net_minus'] = sal_by_exp_mean['salary_in_usd'] - sal_by_exp_mean['shifted_salary']\n",
    "sal_by_exp_mean.loc['2020','shifted_salary'] = 1\n",
    "sal_by_exp_mean['change'] = (sal_by_exp_mean.net_minus/sal_by_exp_mean.shifted_salary)*100\n",
    "sal_by_exp_mean.loc['2020','change'] = 0"
   ]
  },
  {
   "cell_type": "code",
   "execution_count": 79,
   "metadata": {},
   "outputs": [],
   "source": [
    "new_col_names = ['Work Year','Experience Level','Employment Type','Job Title','Salary','Salary Currency','Salary in USD','Employee Residence','Remote ratio','Company Location','Company Size']\n",
    "new_col_dict = {}\n",
    "for i in range(len(new_col_names)):\n",
    "    new_col_dict[salaries.columns[i]] = new_col_names[i]"
   ]
  },
  {
   "cell_type": "code",
   "execution_count": 80,
   "metadata": {},
   "outputs": [],
   "source": [
    "col_names = ['Work Year','Experience Level','Employment Type','Salary in USD','Employee Residence','Remote ratio','Company Location','Company Size']"
   ]
  },
  {
   "cell_type": "code",
   "execution_count": 81,
   "metadata": {},
   "outputs": [],
   "source": [
    "col_dict = {}\n",
    "for i in range(len(col_names)):\n",
    "    col_dict[sal.columns[i]] = col_names[i]"
   ]
  },
  {
   "cell_type": "code",
   "execution_count": 82,
   "metadata": {},
   "outputs": [
    {
     "data": {
      "text/plain": [
       "3755"
      ]
     },
     "execution_count": 82,
     "metadata": {},
     "output_type": "execute_result"
    }
   ],
   "source": [
    "len(sal)"
   ]
  },
  {
   "attachments": {},
   "cell_type": "markdown",
   "metadata": {},
   "source": [
    "# Dashtable"
   ]
  },
  {
   "cell_type": "code",
   "execution_count": 83,
   "metadata": {},
   "outputs": [],
   "source": [
    "tab = dash_table.DataTable(\n",
    "id='Table',\n",
    "data=salaries.to_dict('records'),\n",
    "columns=[{'name':new_col_dict[i],'id':i,'deletable':True,'selectable':True} for i in salaries.columns],\n",
    "page_size=10,\n",
    "filter_action='native',\n",
    "sort_action='native',\n",
    "row_selectable=\"multi\")"
   ]
  },
  {
   "attachments": {},
   "cell_type": "markdown",
   "metadata": {},
   "source": [
    "## Experience YoY"
   ]
  },
  {
   "cell_type": "code",
   "execution_count": 84,
   "metadata": {},
   "outputs": [],
   "source": [
    "exp_yoy = go.Figure()\n",
    "for exp in exp_list:\n",
    "    exp_yoy.add_trace(go.Bar(x=years,y=sal_by_exp.loc[idx[:,exp]],name=f\"{exp}\",text=f\"{exp}\",textfont=dict(size=20),texttemplate=\"%{text}<br>%{y:.2s}\"))\n",
    "exp_yoy.update_layout(barmode='stack',height=600)\n",
    "exp_yoy.update_xaxes(tickfont=dict(size=18),title=dict(text=\"Work Year\",font=dict(size=25)))\n",
    "exp_yoy.update_yaxes(tickfont=dict(size=18),title=dict(text=\"Mean in USD\",font=dict(size=25)))\n",
    "exp_yoy.add_annotation(text=\"Experiece Level Salary in USD YoY\",showarrow=False,font=dict(size=30),xanchor=\"center\",yanchor=\"bottom\",xref='x domain',yref='y domain',y=1.05,bordercolor=\"white\",borderpad=10)\n",
    "clear_output()"
   ]
  },
  {
   "attachments": {},
   "cell_type": "markdown",
   "metadata": {},
   "source": [
    "#### Experience Inference"
   ]
  },
  {
   "cell_type": "code",
   "execution_count": 85,
   "metadata": {},
   "outputs": [],
   "source": [
    "Experience_inference = \"Graph goes up and up good!\""
   ]
  },
  {
   "attachments": {},
   "cell_type": "markdown",
   "metadata": {},
   "source": [
    "## Employment YoY"
   ]
  },
  {
   "cell_type": "code",
   "execution_count": 86,
   "metadata": {},
   "outputs": [],
   "source": [
    "emp_yoy = go.Figure()\n",
    "for emp in emp_list:\n",
    "    emp_yoy.add_trace(go.Bar(x=years,y=sal_by_emp.loc[idx[:,emp]],name=f\"{emp}\",text=f\"{emp}\",textfont=dict(size=20),texttemplate=\"%{text}<br>%{y:.2s}\"))\n",
    "emp_yoy.update_layout(barmode='stack',height=650)\n",
    "emp_yoy.update_xaxes(tickfont=dict(size=18),title=dict(text=\"Work Year\",font=dict(size=25)))\n",
    "emp_yoy.update_yaxes(tickfont=dict(size=18),title=dict(text=\"Mean by Type in USD\",font=dict(size=25)))\n",
    "emp_yoy.add_annotation(text=\"Employment Type Salary in USD YoY\",showarrow=False,font=dict(size=30),xanchor=\"center\",yanchor=\"bottom\",xref='x domain',yref='y domain',y=1.05,bordercolor=\"white\")\n",
    "clear_output()"
   ]
  },
  {
   "attachments": {},
   "cell_type": "markdown",
   "metadata": {},
   "source": [
    "#### Employment Inference"
   ]
  },
  {
   "cell_type": "code",
   "execution_count": 87,
   "metadata": {},
   "outputs": [],
   "source": [
    "Employment_inference = \"Employment Type mean shots up at 2021 for contract\""
   ]
  },
  {
   "attachments": {},
   "cell_type": "markdown",
   "metadata": {},
   "source": [
    "## Reduced Mean YoY"
   ]
  },
  {
   "cell_type": "code",
   "execution_count": 88,
   "metadata": {},
   "outputs": [],
   "source": [
    "mean_yoy = go.Figure()\n",
    "mean_yoy.add_annotation(text=\"Reduced Mean with %Change wrt to previous year\",showarrow=False,font=dict(size=30),xanchor=\"center\",yanchor=\"bottom\",xref='x domain',yref='y domain',y=1.05,bordercolor=\"white\",borderpad=10)\n",
    "mean_yoy.add_trace(go.Scatter(x=years,y=sal.groupby(['work_year']).aggregate({'salary_in_usd':'mean'}),mode='lines+markers+text',line=dict(dash='dashdot',color=\"springgreen\"),marker=dict(size=50,opacity=0.3),name='Mean YoY',textposition=\"top center\",textfont=dict(size=15)))\n",
    "mean_yoy.add_trace(go.Bar(x=years,y=sal.groupby(['work_year']).aggregate({'salary_in_usd':'mean'}),marker=dict(color=\"royalblue\"),name=\"Mean YoY\",text=sal_by_exp_mean.change,texttemplate=\"<br>\\n<br>\\n<br>\\n<b><i>Mean :%{y:.2s}<br>%Change:%{text:.3s}</i></b>\",textposition=\"inside\",textfont=dict(size=20,color=\"rgb(225,145,65)\")))\n",
    "mean_yoy.update_traces(width=0.7,selector=dict(type=\"bar\"))\n",
    "mean_yoy.update_layout(height=700,width=1200)\n",
    "mean_yoy.update_xaxes(showline=False,griddash=\"dash\",gridcolor=\"rgba(255,255,255,0.2)\",tickfont=dict(size=20),title=\"Work Year\",titlefont=dict(size=20))\n",
    "mean_yoy.update_yaxes(range=[0,2e5],griddash=\"dash\",gridcolor=\"rgba(255,255,255,0.2)\",tickfont=dict(size=20),title=\"Mean reduced YoY\",titlefont=dict(size=20))\n",
    "clear_output()"
   ]
  },
  {
   "attachments": {},
   "cell_type": "markdown",
   "metadata": {},
   "source": [
    "#### Mean Inference"
   ]
  },
  {
   "cell_type": "code",
   "execution_count": 89,
   "metadata": {},
   "outputs": [],
   "source": [
    "Mean_inference = \"There was a good jump from 2021 to 2022 which can mean the employment along with payscale gradually increased, but it can also be due to growing interest towards datascience field ingeneral\""
   ]
  },
  {
   "attachments": {},
   "cell_type": "markdown",
   "metadata": {},
   "source": [
    "## Remote Ratio"
   ]
  },
  {
   "cell_type": "code",
   "execution_count": 90,
   "metadata": {},
   "outputs": [],
   "source": [
    "sal_by_rem = pd.pivot_table(sal,index=['work_year'],columns=['remote_ratio'],values=['salary_in_usd'],aggfunc=['count','mean'])"
   ]
  },
  {
   "cell_type": "code",
   "execution_count": 91,
   "metadata": {},
   "outputs": [
    {
     "data": {
      "text/html": [
       "<div>\n",
       "<style scoped>\n",
       "    .dataframe tbody tr th:only-of-type {\n",
       "        vertical-align: middle;\n",
       "    }\n",
       "\n",
       "    .dataframe tbody tr th {\n",
       "        vertical-align: top;\n",
       "    }\n",
       "\n",
       "    .dataframe thead tr th {\n",
       "        text-align: left;\n",
       "    }\n",
       "\n",
       "    .dataframe thead tr:last-of-type th {\n",
       "        text-align: right;\n",
       "    }\n",
       "</style>\n",
       "<table border=\"1\" class=\"dataframe\">\n",
       "  <thead>\n",
       "    <tr>\n",
       "      <th></th>\n",
       "      <th colspan=\"3\" halign=\"left\">count</th>\n",
       "      <th colspan=\"3\" halign=\"left\">mean</th>\n",
       "    </tr>\n",
       "    <tr>\n",
       "      <th></th>\n",
       "      <th colspan=\"3\" halign=\"left\">salary_in_usd</th>\n",
       "      <th colspan=\"3\" halign=\"left\">salary_in_usd</th>\n",
       "    </tr>\n",
       "    <tr>\n",
       "      <th>remote_ratio</th>\n",
       "      <th>0</th>\n",
       "      <th>50</th>\n",
       "      <th>100</th>\n",
       "      <th>0</th>\n",
       "      <th>50</th>\n",
       "      <th>100</th>\n",
       "    </tr>\n",
       "    <tr>\n",
       "      <th>work_year</th>\n",
       "      <th></th>\n",
       "      <th></th>\n",
       "      <th></th>\n",
       "      <th></th>\n",
       "      <th></th>\n",
       "      <th></th>\n",
       "    </tr>\n",
       "  </thead>\n",
       "  <tbody>\n",
       "    <tr>\n",
       "      <th>2020</th>\n",
       "      <td>16</td>\n",
       "      <td>21</td>\n",
       "      <td>39</td>\n",
       "      <td>93426.187500</td>\n",
       "      <td>77591.238095</td>\n",
       "      <td>99763.205128</td>\n",
       "    </tr>\n",
       "    <tr>\n",
       "      <th>2021</th>\n",
       "      <td>34</td>\n",
       "      <td>76</td>\n",
       "      <td>120</td>\n",
       "      <td>92899.676471</td>\n",
       "      <td>76104.407895</td>\n",
       "      <td>105812.783333</td>\n",
       "    </tr>\n",
       "    <tr>\n",
       "      <th>2022</th>\n",
       "      <td>711</td>\n",
       "      <td>62</td>\n",
       "      <td>891</td>\n",
       "      <td>134719.236287</td>\n",
       "      <td>84560.870968</td>\n",
       "      <td>135631.104377</td>\n",
       "    </tr>\n",
       "    <tr>\n",
       "      <th>2023</th>\n",
       "      <td>1162</td>\n",
       "      <td>30</td>\n",
       "      <td>593</td>\n",
       "      <td>152393.521515</td>\n",
       "      <td>72053.500000</td>\n",
       "      <td>146380.124789</td>\n",
       "    </tr>\n",
       "  </tbody>\n",
       "</table>\n",
       "</div>"
      ],
      "text/plain": [
       "                     count                    mean                \\\n",
       "             salary_in_usd           salary_in_usd                 \n",
       "remote_ratio           0   50   100            0             50    \n",
       "work_year                                                          \n",
       "2020                    16  21   39   93426.187500  77591.238095   \n",
       "2021                    34  76  120   92899.676471  76104.407895   \n",
       "2022                   711  62  891  134719.236287  84560.870968   \n",
       "2023                  1162  30  593  152393.521515  72053.500000   \n",
       "\n",
       "                             \n",
       "                             \n",
       "remote_ratio            100  \n",
       "work_year                    \n",
       "2020           99763.205128  \n",
       "2021          105812.783333  \n",
       "2022          135631.104377  \n",
       "2023          146380.124789  "
      ]
     },
     "execution_count": 91,
     "metadata": {},
     "output_type": "execute_result"
    }
   ],
   "source": [
    "sal_by_rem"
   ]
  },
  {
   "cell_type": "code",
   "execution_count": 92,
   "metadata": {},
   "outputs": [],
   "source": [
    "remote_pie = go.Figure()\n",
    "remote_pie.add_trace(go.Pie(values=sal_by_rem.loc['2020',idx['count','salary_in_usd']],labels=[0,50,100],texttemplate=\"<b>Remote Ratio</b>:<b>%{label}</b><br>count:%{value}<br>%{text:.2s}</br>\",textfont=dict(size=20),sort=False,direction=\"clockwise\",textposition=\"outside\",text=sal_by_rem.loc['2020',idx['mean','salary_in_usd']]))\n",
    "frames = []\n",
    "steps = []\n",
    "for year in years:\n",
    "    frames.append(go.Frame(data=[go.Pie(values=sal_by_rem.loc[year,idx['count','salary_in_usd']],labels=[0,50,100],texttemplate=\"<b>Remote Ratio</b>:<b>%{label}</b><br>count:%{value}<br>%{text:.2s}</br>\",textfont=dict(size=20),sort=False,direction=\"clockwise\",textposition=\"outside\",text=sal_by_rem.loc[year,idx['mean','salary_in_usd']])],layout=dict(autosize=False),name=year))\n",
    "    steps.append(dict(\n",
    "        args=[[year],dict(frame=dict(duration=1500,redraw=True),mode=\"immediate\",transition=dict(duration=1500,easing=\"quadratic-in-out\"))],\n",
    "        label=year,\n",
    "        method=\"animate\"\n",
    "    ))\n",
    "remote_pie.update(frames=frames)\n",
    "remote_pie.update_layout(\n",
    "    updatemenus=[dict(\n",
    "        buttons=[dict(label=\"Play\",method=\"animate\",args=[None,dict(frame=dict(duration=1500,redraw=True),fromcurrent=True,transition=dict(duration=1500,easing=\"circle-in-out\"))])],\n",
    "        xanchor=\"left\",\n",
    "        yanchor=\"top\",\n",
    "        x=0.1,\n",
    "        y=0,\n",
    "        showactive=False,\n",
    "        type=\"buttons\"\n",
    "    )],\n",
    "    sliders=[dict(\n",
    "        steps=steps,\n",
    "        xanchor=\"left\",\n",
    "        yanchor=\"top\",\n",
    "        x=0,\n",
    "        y=-0.09,\n",
    "        len=0.9,\n",
    "        active=0,\n",
    "        currentvalue=dict(\n",
    "            font=dict(size=20),\n",
    "            prefix=\"Year :\",\n",
    "            xanchor=\"right\",\n",
    "            visible=True\n",
    "        ),\n",
    "        transition=dict(duration=1500,easing=\"cubic-in-out\"),\n",
    "        pad=dict(r=10,b=10),\n",
    "        font=dict(size=20)\n",
    "    )]\n",
    ")\n",
    "remote_pie.update_layout(autosize=False,height=600,width=1100,margin=dict(t=5,r=10),legend=dict(font=dict(size=20),xanchor=\"right\",yanchor=\"top\",x=0,y=0.05))\n",
    "clear_output()"
   ]
  },
  {
   "attachments": {},
   "cell_type": "markdown",
   "metadata": {},
   "source": [
    "#### Remote ratio inference"
   ]
  },
  {
   "cell_type": "code",
   "execution_count": 93,
   "metadata": {},
   "outputs": [],
   "source": [
    "Remote_ratio = \"As it can be seen that people who worked remotely were higher in 2020 and eventually due to Covid reasons and companies started to reopen and employees gradually started working in office again\""
   ]
  },
  {
   "attachments": {},
   "cell_type": "markdown",
   "metadata": {},
   "source": [
    "## Company Location"
   ]
  },
  {
   "cell_type": "code",
   "execution_count": 96,
   "metadata": {},
   "outputs": [],
   "source": [
    "sal_by_comp = sal.groupby(['company_location']).aggregate({'salary_in_usd':'mean'})\n",
    "q_25 = sal_by_comp.salary_in_usd.quantile(0.25)\n",
    "q_75 = sal_by_comp.salary_in_usd.quantile(0.75)"
   ]
  },
  {
   "cell_type": "code",
   "execution_count": 97,
   "metadata": {},
   "outputs": [],
   "source": [
    "q_25_countries = sal_by_comp.loc[sal_by_comp['salary_in_usd'] < q_25].index\n",
    "q_75_countries = sal_by_comp.loc[sal_by_comp['salary_in_usd'] > q_75].index\n",
    "sal['q'] = np.NaN\n",
    "sal.loc[sal['company_location'].isin(q_25_countries),'q'] = 1\n",
    "sal.loc[sal['company_location'].isin(q_75_countries),'q'] = 3\n",
    "sal.fillna(2,inplace=True)"
   ]
  },
  {
   "cell_type": "code",
   "execution_count": 98,
   "metadata": {},
   "outputs": [],
   "source": [
    "company_loc = make_subplots(rows=3,cols=1,row_heights=[0.25,0.5,0.25],vertical_spacing=0.03,row_titles=['Companies below First Quantile','Companies in between First and Third Quantile','Companies in Third Quatile'])\n",
    "company_loc.add_trace(go.Histogram(x=sal.loc[sal.q==1,'salary_in_usd'],y=sal.loc[sal.q==1,'company_location'],name=\"First Quantile\",orientation='h',histfunc='avg'),row=1,col=1)\n",
    "company_loc.add_trace(go.Histogram(x=sal.loc[sal.q==2,'salary_in_usd'],y=sal.loc[sal.q==2,'company_location'],name=\"Between First and Third Quantile\",orientation='h',histfunc='avg'),row=2,col=1)\n",
    "company_loc.add_trace(go.Histogram(x=sal.loc[sal.q==3,'salary_in_usd'],y=sal.loc[sal.q==3,'company_location'],name=\"Third Quantile\",orientation='h',histfunc='avg'),row=3,col=1)\n",
    "company_loc.update_yaxes(categoryorder=\"total descending\",title=\"Country where company is located\",title_font_size=20)\n",
    "company_loc.update_xaxes(title=\"Mean salary in USD\",title_font_size=20)\n",
    "company_loc.update_annotations(font=dict(size=30))\n",
    "company_loc.update_layout(height=2500)\n",
    "clear_output()"
   ]
  },
  {
   "attachments": {},
   "cell_type": "markdown",
   "metadata": {},
   "source": [
    "#### Company Location Inference"
   ]
  },
  {
   "cell_type": "code",
   "execution_count": 99,
   "metadata": {},
   "outputs": [
    {
     "data": {
      "text/plain": [
       "work_year\n",
       "2020      31\n",
       "2021     100\n",
       "2022    1339\n",
       "2023    1570\n",
       "Name: United States, dtype: int64"
      ]
     },
     "execution_count": 99,
     "metadata": {},
     "output_type": "execute_result"
    }
   ],
   "source": [
    "pd.crosstab(index=sal.company_location,columns=sal.work_year).loc[\"United States\"]"
   ]
  },
  {
   "cell_type": "code",
   "execution_count": 100,
   "metadata": {},
   "outputs": [
    {
     "data": {
      "text/html": [
       "<div>\n",
       "<style scoped>\n",
       "    .dataframe tbody tr th:only-of-type {\n",
       "        vertical-align: middle;\n",
       "    }\n",
       "\n",
       "    .dataframe tbody tr th {\n",
       "        vertical-align: top;\n",
       "    }\n",
       "\n",
       "    .dataframe thead th {\n",
       "        text-align: right;\n",
       "    }\n",
       "</style>\n",
       "<table border=\"1\" class=\"dataframe\">\n",
       "  <thead>\n",
       "    <tr style=\"text-align: right;\">\n",
       "      <th></th>\n",
       "      <th>experience_level</th>\n",
       "      <th>employment_type</th>\n",
       "      <th>salary_in_usd</th>\n",
       "      <th>employee_residence</th>\n",
       "      <th>remote_ratio</th>\n",
       "      <th>company_location</th>\n",
       "      <th>company_size</th>\n",
       "      <th>q</th>\n",
       "    </tr>\n",
       "    <tr>\n",
       "      <th>work_year</th>\n",
       "      <th></th>\n",
       "      <th></th>\n",
       "      <th></th>\n",
       "      <th></th>\n",
       "      <th></th>\n",
       "      <th></th>\n",
       "      <th></th>\n",
       "      <th></th>\n",
       "    </tr>\n",
       "  </thead>\n",
       "  <tbody>\n",
       "    <tr>\n",
       "      <th>2020</th>\n",
       "      <td>76</td>\n",
       "      <td>76</td>\n",
       "      <td>76</td>\n",
       "      <td>76</td>\n",
       "      <td>76</td>\n",
       "      <td>76</td>\n",
       "      <td>76</td>\n",
       "      <td>76</td>\n",
       "    </tr>\n",
       "    <tr>\n",
       "      <th>2021</th>\n",
       "      <td>230</td>\n",
       "      <td>230</td>\n",
       "      <td>230</td>\n",
       "      <td>230</td>\n",
       "      <td>230</td>\n",
       "      <td>230</td>\n",
       "      <td>230</td>\n",
       "      <td>230</td>\n",
       "    </tr>\n",
       "    <tr>\n",
       "      <th>2022</th>\n",
       "      <td>1664</td>\n",
       "      <td>1664</td>\n",
       "      <td>1664</td>\n",
       "      <td>1664</td>\n",
       "      <td>1664</td>\n",
       "      <td>1664</td>\n",
       "      <td>1664</td>\n",
       "      <td>1664</td>\n",
       "    </tr>\n",
       "    <tr>\n",
       "      <th>2023</th>\n",
       "      <td>1785</td>\n",
       "      <td>1785</td>\n",
       "      <td>1785</td>\n",
       "      <td>1785</td>\n",
       "      <td>1785</td>\n",
       "      <td>1785</td>\n",
       "      <td>1785</td>\n",
       "      <td>1785</td>\n",
       "    </tr>\n",
       "  </tbody>\n",
       "</table>\n",
       "</div>"
      ],
      "text/plain": [
       "           experience_level  employment_type  salary_in_usd  \\\n",
       "work_year                                                     \n",
       "2020                     76               76             76   \n",
       "2021                    230              230            230   \n",
       "2022                   1664             1664           1664   \n",
       "2023                   1785             1785           1785   \n",
       "\n",
       "           employee_residence  remote_ratio  company_location  company_size  \\\n",
       "work_year                                                                     \n",
       "2020                       76            76                76            76   \n",
       "2021                      230           230               230           230   \n",
       "2022                     1664          1664              1664          1664   \n",
       "2023                     1785          1785              1785          1785   \n",
       "\n",
       "              q  \n",
       "work_year        \n",
       "2020         76  \n",
       "2021        230  \n",
       "2022       1664  \n",
       "2023       1785  "
      ]
     },
     "execution_count": 100,
     "metadata": {},
     "output_type": "execute_result"
    }
   ],
   "source": [
    "sal.groupby('work_year').count()"
   ]
  },
  {
   "cell_type": "code",
   "execution_count": 101,
   "metadata": {},
   "outputs": [],
   "source": [
    "Company_inf = '''\n",
    "The Mean salary of Israel is highest followed by Puero Rico and United States, though the count of United states is far higher than rest, so most of the mean salaries can be highly skewed\n",
    "'''"
   ]
  },
  {
   "cell_type": "code",
   "execution_count": 102,
   "metadata": {},
   "outputs": [
    {
     "ename": "PageError",
     "evalue": "`dash.register_page()` must be called after app instantiation",
     "output_type": "error",
     "traceback": [
      "\u001b[0;31m---------------------------------------------------------------------------\u001b[0m",
      "\u001b[0;31mPageError\u001b[0m                                 Traceback (most recent call last)",
      "\u001b[0;32m/tmp/ipykernel_39987/839820143.py\u001b[0m in \u001b[0;36m<module>\u001b[0;34m\u001b[0m\n\u001b[0;32m----> 1\u001b[0;31m \u001b[0mregister_page\u001b[0m\u001b[0;34m(\u001b[0m\u001b[0m__name__\u001b[0m\u001b[0;34m,\u001b[0m\u001b[0morder\u001b[0m\u001b[0;34m=\u001b[0m\u001b[0;36m2\u001b[0m\u001b[0;34m,\u001b[0m\u001b[0mpath\u001b[0m\u001b[0;34m=\u001b[0m\u001b[0;34m'/pages/sal'\u001b[0m\u001b[0;34m,\u001b[0m\u001b[0mname\u001b[0m\u001b[0;34m=\u001b[0m\u001b[0;34m\"Visual Presentation\"\u001b[0m\u001b[0;34m,\u001b[0m\u001b[0mtitle\u001b[0m\u001b[0;34m=\u001b[0m\u001b[0;34m\"Visual Presentation\"\u001b[0m\u001b[0;34m)\u001b[0m\u001b[0;34m\u001b[0m\u001b[0;34m\u001b[0m\u001b[0m\n\u001b[0m\u001b[1;32m      2\u001b[0m \u001b[0;34m\u001b[0m\u001b[0m\n\u001b[1;32m      3\u001b[0m layout = html.Div([\n\u001b[1;32m      4\u001b[0m     \u001b[0mhtml\u001b[0m\u001b[0;34m.\u001b[0m\u001b[0mBr\u001b[0m\u001b[0;34m(\u001b[0m\u001b[0;34m)\u001b[0m\u001b[0;34m,\u001b[0m\u001b[0;34m\u001b[0m\u001b[0;34m\u001b[0m\u001b[0m\n\u001b[1;32m      5\u001b[0m     dcc.Dropdown(\n",
      "\u001b[0;32m~/anaconda3/lib/python3.9/site-packages/dash/_pages.py\u001b[0m in \u001b[0;36mregister_page\u001b[0;34m(module, path, path_template, name, order, title, description, image, image_url, redirect_from, layout, **kwargs)\u001b[0m\n\u001b[1;32m    308\u001b[0m         \u001b[0;32mreturn\u001b[0m\u001b[0;34m\u001b[0m\u001b[0;34m\u001b[0m\u001b[0m\n\u001b[1;32m    309\u001b[0m \u001b[0;34m\u001b[0m\u001b[0m\n\u001b[0;32m--> 310\u001b[0;31m     \u001b[0m_validate\u001b[0m\u001b[0;34m.\u001b[0m\u001b[0mvalidate_use_pages\u001b[0m\u001b[0;34m(\u001b[0m\u001b[0mCONFIG\u001b[0m\u001b[0;34m)\u001b[0m\u001b[0;34m\u001b[0m\u001b[0;34m\u001b[0m\u001b[0m\n\u001b[0m\u001b[1;32m    311\u001b[0m \u001b[0;34m\u001b[0m\u001b[0m\n\u001b[1;32m    312\u001b[0m     page = dict(\n",
      "\u001b[0;32m~/anaconda3/lib/python3.9/site-packages/dash/_validate.py\u001b[0m in \u001b[0;36mvalidate_use_pages\u001b[0;34m(config)\u001b[0m\n\u001b[1;32m    472\u001b[0m \u001b[0;32mdef\u001b[0m \u001b[0mvalidate_use_pages\u001b[0m\u001b[0;34m(\u001b[0m\u001b[0mconfig\u001b[0m\u001b[0;34m)\u001b[0m\u001b[0;34m:\u001b[0m\u001b[0;34m\u001b[0m\u001b[0;34m\u001b[0m\u001b[0m\n\u001b[1;32m    473\u001b[0m     \u001b[0;32mif\u001b[0m \u001b[0;32mnot\u001b[0m \u001b[0mconfig\u001b[0m\u001b[0;34m.\u001b[0m\u001b[0mget\u001b[0m\u001b[0;34m(\u001b[0m\u001b[0;34m\"assets_folder\"\u001b[0m\u001b[0;34m,\u001b[0m \u001b[0;32mNone\u001b[0m\u001b[0;34m)\u001b[0m\u001b[0;34m:\u001b[0m\u001b[0;34m\u001b[0m\u001b[0;34m\u001b[0m\u001b[0m\n\u001b[0;32m--> 474\u001b[0;31m         raise exceptions.PageError(\n\u001b[0m\u001b[1;32m    475\u001b[0m             \u001b[0;34m\"`dash.register_page()` must be called after app instantiation\"\u001b[0m\u001b[0;34m\u001b[0m\u001b[0;34m\u001b[0m\u001b[0m\n\u001b[1;32m    476\u001b[0m         )\n",
      "\u001b[0;31mPageError\u001b[0m: `dash.register_page()` must be called after app instantiation"
     ]
    }
   ],
   "source": [
    "\n",
    "register_page(__name__,order=2,path='/pages/sal',name=\"Visual Presentation\",title=\"Visual Presentation\")\n",
    "\n",
    "layout = html.Div([\n",
    "    html.Br(),\n",
    "    dcc.Dropdown(\n",
    "        id='drop',\n",
    "        options=['Table','Experience YoY','Employment YoY','Mean reduced YoY','Remote Ratio YoY','Company Location'],\n",
    "        value='Table',\n",
    "        style={'backgroundColor':'black','color':'white','font-family':'Fira Code'}\n",
    "    ),\n",
    "    dcc.Loading(id=\"loading\",children=[\n",
    "        html.Div(id='Table_or_graphs'),\n",
    "        html.Br(),\n",
    "        html.Br(),\n",
    "        html.H2(id='Inf',style={'font-family':'Fira Code'}),\n",
    "        dcc.Markdown(id='msg',style={'white-space':'pre','font-family':'Fira Code'})\n",
    "    ],type='cube')\n",
    "])\n",
    "\n",
    "@callback(\n",
    "    [\n",
    "        Output('Table_or_graphs','children'),\n",
    "        Output('Inf','children'),\n",
    "        Output('msg','children')\n",
    "        ],\n",
    "    [Input('drop','value')]\n",
    ")\n",
    "def update_graph(value):\n",
    "\n",
    "    if value == 'Table':\n",
    "        time.sleep(2)\n",
    "        return tab,None,None\n",
    "    elif value == 'Experience YoY':\n",
    "        time.sleep(2)\n",
    "        return dcc.Graph(figure=exp_yoy),\"Inferences :\",Experience_inference\n",
    "    elif value == 'Employment YoY':\n",
    "        time.sleep(2)\n",
    "        return dcc.Graph(figure=emp_yoy),\"Inferences :\",Employment_inference\n",
    "    elif value == 'Mean reduced YoY':\n",
    "        time.sleep(2)\n",
    "        return dcc.Graph(figure=mean_yoy),\"Inferences :\",Mean_inference\n",
    "    elif value == 'Remote Ratio YoY':\n",
    "        time.sleep(2)\n",
    "        return dcc.Graph(figure=remote_pie),\"Inferences :\",Remote_ratio\n",
    "    elif value == 'Company Location':\n",
    "        time.sleep(2)\n",
    "        return dcc.Graph(figure=company_loc),\"Inferences :\",Company_inf\n",
    "    "
   ]
  }
 ],
 "metadata": {
  "kernelspec": {
   "display_name": "base",
   "language": "python",
   "name": "python3"
  },
  "language_info": {
   "codemirror_mode": {
    "name": "ipython",
    "version": 3
   },
   "file_extension": ".py",
   "mimetype": "text/x-python",
   "name": "python",
   "nbconvert_exporter": "python",
   "pygments_lexer": "ipython3",
   "version": "3.9.13"
  },
  "orig_nbformat": 4
 },
 "nbformat": 4,
 "nbformat_minor": 2
}
