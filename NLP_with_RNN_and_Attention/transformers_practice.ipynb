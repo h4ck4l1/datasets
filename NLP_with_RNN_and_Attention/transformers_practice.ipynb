{
  "nbformat": 4,
  "nbformat_minor": 0,
  "metadata": {
    "colab": {
      "provenance": [],
      "authorship_tag": "ABX9TyPpHfcXeQ4/6d+lJV7ckbgM",
      "include_colab_link": true
    },
    "kernelspec": {
      "name": "python3",
      "display_name": "Python 3"
    },
    "language_info": {
      "name": "python"
    }
  },
  "cells": [
    {
      "cell_type": "markdown",
      "metadata": {
        "id": "view-in-github",
        "colab_type": "text"
      },
      "source": [
        "<a href=\"https://colab.research.google.com/github/h4ck4l1/datasets/blob/main/NLP_with_RNN_and_Attention/transformers_practice.ipynb\" target=\"_parent\"><img src=\"https://colab.research.google.com/assets/colab-badge.svg\" alt=\"Open In Colab\"/></a>"
      ]
    },
    {
      "cell_type": "code",
      "execution_count": 1,
      "metadata": {
        "id": "eHXtkRG7FqeM"
      },
      "outputs": [],
      "source": [
        "import os,sys,warnings\n",
        "os.environ[\"TF_CPP_MIN_LOG_LEVEL\"] = \"3\"\n",
        "warnings.filterwarnings(\"ignore\")\n",
        "if \"google.colab\" in sys.modules:\n",
        "    !pip install \"tensorflow-text==2.13.0\"\n",
        "    !pip install einops\n",
        "    !pip install -U kaleido\n",
        "from IPython.display import clear_output\n",
        "from zipfile import ZipFile\n",
        "from typing import Literal\n",
        "import shutil\n",
        "import numpy as np\n",
        "import einops as ep\n",
        "import re\n",
        "import tensorflow as tf\n",
        "from tensorflow import keras\n",
        "import tensorflow_text as tftext\n",
        "from tensorflow_text.tools.wordpiece_vocab import bert_vocab_from_dataset as bert_vocab\n",
        "import plotly.express as px\n",
        "import plotly.graph_objects as go\n",
        "import plotly.io as pio\n",
        "pio.templates.default = \"plotly_dark\"\n",
        "import matplotlib.pyplot as plt\n",
        "%matplotlib inline\n",
        "clear_output()"
      ]
    },
    {
      "cell_type": "code",
      "source": [
        "url = \"https://storage.googleapis.com/download.tensorflow.org/data/spa-eng.zip\"\n",
        "file_path = keras.utils.get_file(fname=\"spa-eng.zip\",origin=url,extract=True)\n",
        "with ZipFile(file_path,\"r\") as f:\n",
        "    f.extractall(\"spa-eng\")\n",
        "with open(\"spa-eng/spa-eng/spa.txt\",\"r\") as f:\n",
        "    text = f.read()\n",
        "\n",
        "en_text,es_text = zip(*[line.split(\"\\t\") for line in text.splitlines()])\n",
        "for en,es in zip(en_text[:10],es_text[:10]):\n",
        "    print(f\"{en} ----> {es}\")"
      ],
      "metadata": {
        "colab": {
          "base_uri": "https://localhost:8080/"
        },
        "id": "saHbNz_-JTTh",
        "outputId": "ca703585-ac75-4b8a-8648-c38796fefcc3"
      },
      "execution_count": 2,
      "outputs": [
        {
          "output_type": "stream",
          "name": "stdout",
          "text": [
            "Go. ----> Ve.\n",
            "Go. ----> Vete.\n",
            "Go. ----> Vaya.\n",
            "Go. ----> Váyase.\n",
            "Hi. ----> Hola.\n",
            "Run! ----> ¡Corre!\n",
            "Run. ----> Corred.\n",
            "Who? ----> ¿Quién?\n",
            "Fire! ----> ¡Fuego!\n",
            "Fire! ----> ¡Incendio!\n"
          ]
        }
      ]
    },
    {
      "cell_type": "code",
      "source": [
        "def standardize(sentence:str):\n",
        "    sentence = tftext.normalize_utf8(sentence,\"NFKD\")\n",
        "    sentence = tf.strings.lower(sentence)\n",
        "    sentence = tf.strings.regex_replace(sentence,r\"[^ a-z?!,.¿]\",\"\")\n",
        "    sentence = tf.strings.regex_replace(sentence,r\"[?!.,¿]\",r\" \\0 \")\n",
        "    sentence = tf.strings.strip(sentence)\n",
        "    return sentence"
      ],
      "metadata": {
        "id": "QiULl73CNCCH"
      },
      "execution_count": 3,
      "outputs": []
    },
    {
      "cell_type": "code",
      "source": [
        "spa_ds = (\n",
        "    tf.data.Dataset\n",
        "    .from_tensor_slices(np.array(es_text))\n",
        "    .map(standardize)\n",
        ")\n",
        "en_ds = (\n",
        "    tf.data.Dataset\n",
        "    .from_tensor_slices(np.array(en_text))\n",
        "    .map(standardize)\n",
        ")\n",
        "\n",
        "spa_vocab = bert_vocab.bert_vocab_from_dataset(\n",
        "    spa_ds,\n",
        "    vocab_size=5000,\n",
        "    reserved_tokens=[\"[PAD]\",\"[UNK]\",\"[START]\",\"[END]\"],\n",
        "    bert_tokenizer_params=dict(normalization_form=\"NFKD\"),\n",
        "    learn_params={}\n",
        ")\n",
        "\n",
        "\n",
        "en_vocab = bert_vocab.bert_vocab_from_dataset(\n",
        "    en_ds,\n",
        "    vocab_size=5000,\n",
        "    reserved_tokens=[\"[PAD]\",\"[UNK]\",\"[START]\",\"[END]\"],\n",
        "    bert_tokenizer_params=dict(normalization_form=\"NFKD\"),\n",
        "    learn_params={}\n",
        ")"
      ],
      "metadata": {
        "id": "i3c7atVjZV8P"
      },
      "execution_count": 4,
      "outputs": []
    },
    {
      "cell_type": "code",
      "source": [
        "print(en_vocab[:10])\n",
        "print(en_vocab[-10:])"
      ],
      "metadata": {
        "colab": {
          "base_uri": "https://localhost:8080/"
        },
        "id": "XMLlRojaci1u",
        "outputId": "0816bcec-20b9-43d0-be33-32ad9346f5ea"
      },
      "execution_count": 5,
      "outputs": [
        {
          "output_type": "stream",
          "name": "stdout",
          "text": [
            "['[PAD]', '[UNK]', '[START]', '[END]', '!', ',', '.', '?', 'a', 'b']\n",
            "['yell', 'youngest', 'youth', '##!', '##,', '##.', '##?', '##j', '##q', '##v']\n"
          ]
        }
      ]
    },
    {
      "cell_type": "code",
      "source": [
        "with open(\"en_vocab.txt\",\"w\") as f:\n",
        "    for token in en_vocab:\n",
        "        print(token,file=f)\n",
        "\n",
        "\n",
        "with open(\"spa_vocab.txt\",\"w\") as f:\n",
        "    for token in spa_vocab:\n",
        "        print(token,file=f)"
      ],
      "metadata": {
        "id": "-QfAx-nHm0S_"
      },
      "execution_count": 6,
      "outputs": []
    },
    {
      "cell_type": "code",
      "source": [
        "print(len(spa_vocab))\n",
        "print(len(en_vocab))"
      ],
      "metadata": {
        "colab": {
          "base_uri": "https://localhost:8080/"
        },
        "id": "rYCHVIwPphRZ",
        "outputId": "a86671e8-7848-4c64-9268-88b0f2f7e4bb"
      },
      "execution_count": 7,
      "outputs": [
        {
          "output_type": "stream",
          "name": "stdout",
          "text": [
            "4870\n",
            "4563\n"
          ]
        }
      ]
    },
    {
      "cell_type": "code",
      "source": [
        "spa_tokenizer = tftext.BertTokenizer(\"spa_vocab.txt\",normalization_form=\"NFKD\")\n",
        "en_tokenizer = tftext.BertTokenizer(\"en_vocab.txt\",normalization_form=\"NFKD\")"
      ],
      "metadata": {
        "id": "gAleMXl8oHSk"
      },
      "execution_count": 8,
      "outputs": []
    },
    {
      "cell_type": "code",
      "source": [
        "spa_ex = spa_tokenizer.tokenize(standardize(es_text[1000:1010])).merge_dims(-2,-1)\n",
        "spa_ex"
      ],
      "metadata": {
        "colab": {
          "base_uri": "https://localhost:8080/"
        },
        "id": "nwqPBXFioYvV",
        "outputId": "0efff4c7-f37d-402a-b1d0-796877947478"
      },
      "execution_count": 9,
      "outputs": [
        {
          "output_type": "execute_result",
          "data": {
            "text/plain": [
              "<tf.RaggedTensor [[37, 42, 11, 4866, 6], [37, 46, 77, 4], [37, 42, 14, 1566, 4656, 6],\n",
              " [37, 42, 981, 6], [37, 42, 14, 4107, 3382, 6],\n",
              " [37, 42, 45, 832, 4867, 4387, 6], [37, 42, 427, 6],\n",
              " [37, 44, 25, 136, 233, 6], [48, 163, 37, 6], [48, 2184, 6]]>"
            ]
          },
          "metadata": {},
          "execution_count": 9
        }
      ]
    },
    {
      "cell_type": "code",
      "source": [
        "for i,j in zip(tf.strings.reduce_join(spa_tokenizer.detokenize(spa_ex),separator=\" \",axis=-1),es_text[1000:1010]):\n",
        "    print(i.numpy(),\"<----->\",j)"
      ],
      "metadata": {
        "colab": {
          "base_uri": "https://localhost:8080/"
        },
        "id": "ygr8yphgo6zI",
        "outputId": "8b22b629-d962-448a-b6e6-ef9f58b504e9"
      },
      "execution_count": 10,
      "outputs": [
        {
          "output_type": "stream",
          "name": "stdout",
          "text": [
            "b'el es dj .' <-----> Él es DJ.\n",
            "b'el esta aqui !' <-----> ¡Él está aquí!\n",
            "b'el es gentil .' <-----> Él es gentil.\n",
            "b'el es amable .' <-----> Él es amable.\n",
            "b'el es generoso .' <-----> Él es generoso.\n",
            "b'el es mezquino .' <-----> Él es mezquino.\n",
            "b'el es alto .' <-----> Él es alto.\n",
            "b'el se reia .' <-----> Él se reía.\n",
            "b'lo hizo el .' <-----> Lo hizo él.\n",
            "b'lo logro .' <-----> Lo logró.\n"
          ]
        }
      ]
    },
    {
      "cell_type": "code",
      "source": [
        "START = tf.argmax(tf.equal(spa_vocab,\"[START]\"))\n",
        "END = tf.argmax(tf.equal(spa_vocab,\"[END]\"))\n",
        "print(START.numpy(),END.numpy())"
      ],
      "metadata": {
        "colab": {
          "base_uri": "https://localhost:8080/"
        },
        "id": "GcFPXyadvOv9",
        "outputId": "43a158a1-8e38-422c-e47a-dbd18fa6ddce"
      },
      "execution_count": 11,
      "outputs": [
        {
          "output_type": "stream",
          "name": "stdout",
          "text": [
            "2 3\n"
          ]
        }
      ]
    },
    {
      "cell_type": "code",
      "source": [
        "def up_stream_processing(sentence:str,lang:Literal[\"es\",\"en\"]):\n",
        "    assert lang in [\"es\",\"en\"], f\"{lang} is not in the opitons ['es','en']\"\n",
        "    sentence = tftext.normalize_utf8(sentence,\"NFKD\")\n",
        "    sentence = tf.strings.lower(sentence)\n",
        "    sentence = tf.strings.regex_replace(sentence,r\"[^ a-z?!,.¿]\",\"\")\n",
        "    sentence = tf.strings.regex_replace(sentence,r\"[?!.,¿]\",r\" \\0 \")\n",
        "    sentence = tf.strings.strip(sentence)\n",
        "    if lang == \"en\":\n",
        "        tokens = en_tokenizer.tokenize(sentence).merge_dims(-2,-1)\n",
        "    else:\n",
        "        tokens = spa_tokenizer.tokenize(sentence).merge_dims(-2,-1)\n",
        "    batch_shape = tf.shape(tokens)[0]\n",
        "    start_tokens = tf.fill(dims=[batch_shape,1],value=START)\n",
        "    end_tokens = tf.fill(dims=[batch_shape,1],value=END)\n",
        "    return tf.concat([start_tokens,tokens,end_tokens],axis=-1)"
      ],
      "metadata": {
        "id": "W3lo7NXDtyl3"
      },
      "execution_count": 12,
      "outputs": []
    },
    {
      "cell_type": "code",
      "source": [
        "def down_stream_processing(tokens,lang:Literal[\"en\",\"es\"]):\n",
        "    if lang == \"en\":\n",
        "        words = en_tokenizer.detokenize(tokens)\n",
        "    else:\n",
        "        words = spa_tokenizer.detokenize(tokens)\n",
        "    bad_tokens = \"|\".join([re.escape(tok) for tok in [\"[PAD]\",\"[START]\",\"[END]\"]])\n",
        "    mask = tf.strings.regex_full_match(words,bad_tokens)\n",
        "    full_sentence = tf.ragged.boolean_mask(words,~mask)\n",
        "    return tf.strings.reduce_join(full_sentence,axis=-1,separator=\" \")"
      ],
      "metadata": {
        "id": "M0Bw7xlLw34X"
      },
      "execution_count": 13,
      "outputs": []
    },
    {
      "cell_type": "code",
      "source": [
        "ex_tokens = up_stream_processing(en_text[1000:1010],\"en\")\n",
        "ex_tokens"
      ],
      "metadata": {
        "colab": {
          "base_uri": "https://localhost:8080/"
        },
        "id": "F2N0IP4kzHWN",
        "outputId": "dd48731f-e23d-494e-e5b7-3697f278c3e6"
      },
      "execution_count": 14,
      "outputs": [
        {
          "output_type": "execute_result",
          "data": {
            "text/plain": [
              "<tf.RaggedTensor [[2, 39, 38, 8, 11, 4560, 6, 3], [2, 39, 38, 88, 4, 3],\n",
              " [2, 39, 38, 354, 6, 3], [2, 39, 38, 354, 6, 3], [2, 39, 38, 354, 6, 3],\n",
              " [2, 39, 38, 571, 6, 3], [2, 39, 38, 730, 6, 3], [2, 39, 1018, 6, 3],\n",
              " [2, 39, 173, 43, 6, 3], [2, 39, 173, 43, 6, 3]]>"
            ]
          },
          "metadata": {},
          "execution_count": 14
        }
      ]
    },
    {
      "cell_type": "code",
      "source": [
        "round_trip_tokens = down_stream_processing(ex_tokens,\"en\")\n",
        "round_trip_tokens"
      ],
      "metadata": {
        "colab": {
          "base_uri": "https://localhost:8080/"
        },
        "id": "1iQCnecc_HHQ",
        "outputId": "e81a8b2b-b94e-4c08-ca61-530b34a4ffd8"
      },
      "execution_count": 15,
      "outputs": [
        {
          "output_type": "execute_result",
          "data": {
            "text/plain": [
              "<tf.Tensor: shape=(10,), dtype=string, numpy=\n",
              "array([b'he is a dj .', b'he is here !', b'he is kind .', b'he is kind .',\n",
              "       b'he is kind .', b'he is mean .', b'he is tall .', b'he laughed .',\n",
              "       b'he made it .', b'he made it .'], dtype=object)>"
            ]
          },
          "metadata": {},
          "execution_count": 15
        }
      ]
    },
    {
      "cell_type": "code",
      "source": [
        "ex_tokens.row_lengths()"
      ],
      "metadata": {
        "colab": {
          "base_uri": "https://localhost:8080/"
        },
        "id": "2BBoyy8m_OWq",
        "outputId": "a7a4ea0a-1816-462f-b12f-4c147e7962ef"
      },
      "execution_count": 16,
      "outputs": [
        {
          "output_type": "execute_result",
          "data": {
            "text/plain": [
              "<tf.Tensor: shape=(10,), dtype=int64, numpy=array([8, 6, 6, 6, 6, 6, 6, 5, 6, 6])>"
            ]
          },
          "metadata": {},
          "execution_count": 16
        }
      ]
    },
    {
      "cell_type": "code",
      "source": [
        "en_tokens = up_stream_processing(en_text[1000:1010],\"en\")\n",
        "es_tokens = up_stream_processing(es_text[1000:1010],\"es\")\n",
        "print(en_tokens)\n",
        "print(es_tokens)"
      ],
      "metadata": {
        "colab": {
          "base_uri": "https://localhost:8080/"
        },
        "id": "rmv8QC0cDCRZ",
        "outputId": "49dd091b-4be6-44c8-c791-c6292b72f641"
      },
      "execution_count": 17,
      "outputs": [
        {
          "output_type": "stream",
          "name": "stdout",
          "text": [
            "<tf.RaggedTensor [[2, 39, 38, 8, 11, 4560, 6, 3], [2, 39, 38, 88, 4, 3],\n",
            " [2, 39, 38, 354, 6, 3], [2, 39, 38, 354, 6, 3], [2, 39, 38, 354, 6, 3],\n",
            " [2, 39, 38, 571, 6, 3], [2, 39, 38, 730, 6, 3], [2, 39, 1018, 6, 3],\n",
            " [2, 39, 173, 43, 6, 3], [2, 39, 173, 43, 6, 3]]>\n",
            "<tf.RaggedTensor [[2, 37, 42, 11, 4866, 6, 3], [2, 37, 46, 77, 4, 3],\n",
            " [2, 37, 42, 14, 1566, 4656, 6, 3], [2, 37, 42, 981, 6, 3],\n",
            " [2, 37, 42, 14, 4107, 3382, 6, 3], [2, 37, 42, 45, 832, 4867, 4387, 6, 3],\n",
            " [2, 37, 42, 427, 6, 3], [2, 37, 44, 25, 136, 233, 6, 3],\n",
            " [2, 48, 163, 37, 6, 3], [2, 48, 2184, 6, 3]]>\n"
          ]
        }
      ]
    },
    {
      "cell_type": "code",
      "source": [
        "en_tokens_len = up_stream_processing(en_text,\"en\").row_lengths().numpy()\n",
        "es_tokens_len = up_stream_processing(es_text,\"es\").row_lengths().numpy()"
      ],
      "metadata": {
        "id": "AAjTP0xFTq4j"
      },
      "execution_count": 18,
      "outputs": []
    },
    {
      "cell_type": "code",
      "source": [
        "all_tokens = en_tokens_len.tolist()+es_tokens_len.tolist()\n",
        "counts,bins = np.histogram(all_tokens,bins=np.linspace(0,500,501))\n",
        "fig = px.bar(y=[0]+counts.tolist(),x=bins.tolist())\n",
        "fig.show(\"png\")"
      ],
      "metadata": {
        "colab": {
          "base_uri": "https://localhost:8080/",
          "height": 517
        },
        "id": "FG2OaD7xVvjP",
        "outputId": "59109d83-251b-4321-f475-9b1ca719d35a"
      },
      "execution_count": 19,
      "outputs": [
        {
          "output_type": "display_data",
          "data": {
            "image/png": "[encoded data removed]"
          },
          "metadata": {}
        }
      ]
    },
    {
      "cell_type": "code",
      "source": [
        "MAX_TOKENS = 128\n",
        "def prepare_ds(en,es):\n",
        "    en = up_stream_processing(en,\"en\")\n",
        "    es = up_stream_processing(es,\"es\")\n",
        "    en = en[:,:MAX_TOKENS]\n",
        "    es = es[:,:MAX_TOKENS]\n",
        "    return (en.to_tensor(),es[:,:-1].to_tensor()),es[:,1:].to_tensor()"
      ],
      "metadata": {
        "id": "K0wl8AW4dQrj"
      },
      "execution_count": 20,
      "outputs": []
    },
    {
      "cell_type": "code",
      "source": [
        "BATCH_SIZE = 64\n",
        "AUTO = tf.data.AUTOTUNE\n",
        "en_array = np.array(en_text)\n",
        "es_array = np.array(es_text)\n",
        "all_indices = np.random.uniform(size=len(en_text))\n",
        "train_mask = all_indices <= 0.8\n",
        "valid_mask = (all_indices > 0.8) & (all_indices <= 0.95)\n",
        "test_mask = all_indices > 0.95\n",
        "train_ds = (\n",
        "    tf.data.Dataset\n",
        "    .from_tensor_slices((en_array[train_mask],es_array[train_mask]))\n",
        "    .shuffle(len(en_text))\n",
        "    .batch(BATCH_SIZE)\n",
        "    .map(prepare_ds)\n",
        "    .prefetch(AUTO)\n",
        ")\n",
        "valid_ds = (\n",
        "    tf.data.Dataset\n",
        "    .from_tensor_slices((en_array[valid_mask],es_array[valid_mask]))\n",
        "    .shuffle(len(en_text))\n",
        "    .batch(BATCH_SIZE)\n",
        "    .map(prepare_ds)\n",
        "    .prefetch(AUTO)\n",
        ")\n",
        "test_ds = (\n",
        "    tf.data.Dataset\n",
        "    .from_tensor_slices((en_array[test_mask],es_array[test_mask]))\n",
        "    .shuffle(len(en_text))\n",
        "    .batch(BATCH_SIZE)\n",
        "    .map(prepare_ds)\n",
        "    .prefetch(AUTO)\n",
        ")"
      ],
      "metadata": {
        "id": "7BA3Gvnwj20y"
      },
      "execution_count": 21,
      "outputs": []
    },
    {
      "cell_type": "code",
      "source": [
        "for (en_in,es_in),tar_in in train_ds.take(1):\n",
        "    print(en_in.shape,es_in.shape,tar_in.shape)\n",
        "    print(es_in[0,:10])\n",
        "    print(tar_in[0,:10])"
      ],
      "metadata": {
        "colab": {
          "base_uri": "https://localhost:8080/"
        },
        "id": "gCgBlq7Fnqkd",
        "outputId": "85be8dcb-e713-43bc-80bd-3b01b5303b78"
      },
      "execution_count": 22,
      "outputs": [
        {
          "output_type": "stream",
          "name": "stdout",
          "text": [
            "(64, 20) (64, 22) (64, 22)\n",
            "tf.Tensor([   2   84   37  226   73   25  136 1009 4362   41], shape=(10,), dtype=int64)\n",
            "tf.Tensor([  84   37  226   73   25  136 1009 4362   41   37], shape=(10,), dtype=int64)\n"
          ]
        }
      ]
    },
    {
      "cell_type": "code",
      "source": [],
      "metadata": {
        "id": "Z73J08zYnwpN"
      },
      "execution_count": 22,
      "outputs": []
    }
  ]
}