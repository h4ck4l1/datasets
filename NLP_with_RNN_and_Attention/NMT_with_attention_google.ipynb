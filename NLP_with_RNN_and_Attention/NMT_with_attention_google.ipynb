{
  "nbformat": 4,
  "nbformat_minor": 0,
  "metadata": {
    "colab": {
      "provenance": [],
      "machine_shape": "hm",
      "authorship_tag": "ABX9TyPmrYhE0l+KD7JbtyrYdG9f",
      "include_colab_link": true
    },
    "kernelspec": {
      "name": "python3",
      "display_name": "Python 3"
    },
    "language_info": {
      "name": "python"
    }
  },
  "cells": [
    {
      "cell_type": "markdown",
      "metadata": {
        "id": "view-in-github",
        "colab_type": "text"
      },
      "source": [
        "<a href=\"https://colab.research.google.com/github/h4ck4l1/datasets/blob/main/NLP_with_RNN_and_Attention/NMT_with_attention_google.ipynb\" target=\"_parent\"><img src=\"https://colab.research.google.com/assets/colab-badge.svg\" alt=\"Open In Colab\"/></a>"
      ]
    },
    {
      "cell_type": "code",
      "execution_count": null,
      "metadata": {
        "id": "VRuR4P2evZaO"
      },
      "outputs": [],
      "source": [
        "!pip3 install -q -U \"tensorflow-text==2.12.0\"\n",
        "!pip3 install einops\n",
        "import os,warnings\n",
        "from IPython.display import clear_output\n",
        "os.environ[\"TF_MIN_LOG_LEVEL\"] = \"3\"\n",
        "import tensorflow as tf\n",
        "from tensorflow import keras\n",
        "import tensorflow_text as text\n",
        "import typing\n",
        "from zipfile import ZipFile\n",
        "import plotly.graph_objects as go\n",
        "from plotly.subplots import make_subplots\n",
        "import plotly.express as px\n",
        "import plotly.io as pio\n",
        "import einops\n",
        "pio.templates.default = \"plotly_dark\"\n",
        "import numpy as np\n",
        "clear_output()"
      ]
    },
    {
      "cell_type": "code",
      "source": [
        "class ShapeCheck():\n",
        "\n",
        "    def __init__(self):\n",
        "\n",
        "        self.shapes = {}\n",
        "\n",
        "    def __call__(self,tensor,names,broadcast=False):\n",
        "\n",
        "        parsed = einops.parse_shape(tensor,names)\n",
        "\n",
        "        for name,new_dim in parsed.items():\n",
        "\n",
        "            old_dim = self.shapes.get(name,None)\n",
        "\n",
        "            if broadcast and (new_dim == 1):\n",
        "                continue\n",
        "\n",
        "            if old_dim is None:\n",
        "\n",
        "                self.shapes[name] = new_dim\n",
        "                continue\n",
        "\n",
        "            if new_dim != old_dim:\n",
        "\n",
        "                raise ValueError(f\"shape mismatch for dimension: '{name}' found: {new_dim} expected: {old_dim}\")"
      ],
      "metadata": {
        "id": "f2erXwlqwLBh"
      },
      "execution_count": null,
      "outputs": []
    },
    {
      "cell_type": "code",
      "source": [
        "url = \"http://storage.googleapis.com/download.tensorflow.org/data/spa-eng.zip\""
      ],
      "metadata": {
        "id": "lhHg7Efy9Mvo"
      },
      "execution_count": null,
      "outputs": []
    },
    {
      "cell_type": "code",
      "source": [
        "file_path = keras.utils.get_file(fname=\"spa-eng.zip\",origin=url,extract=True)\n",
        "\n",
        "with ZipFile(file_path,\"r\") as f:\n",
        "\n",
        "    f.extractall(\"spa-eng\")\n",
        "\n",
        "with open(\"spa-eng/spa-eng/spa.txt\",\"r\") as f:\n",
        "\n",
        "    total_text = f.read()\n",
        "    total_text = [line.split(\"\\t\") for line in total_text.splitlines()]\n",
        "    en_text,es_text = zip(*total_text)"
      ],
      "metadata": {
        "id": "EDT6uPFe-i-0"
      },
      "execution_count": null,
      "outputs": []
    },
    {
      "cell_type": "code",
      "source": [
        "en_text[-1]"
      ],
      "metadata": {
        "colab": {
          "base_uri": "https://localhost:8080/",
          "height": 53
        },
        "id": "5lrAdXx3_Q-M",
        "outputId": "49192867-4929-491e-f452-60243b633109"
      },
      "execution_count": null,
      "outputs": [
        {
          "output_type": "execute_result",
          "data": {
            "text/plain": [
              "'If you want to sound like a native speaker, you must be willing to practice saying the same sentence over and over in the same way that banjo players practice the same phrase over and over until they can play it correctly and at the desired tempo.'"
            ],
            "application/vnd.google.colaboratory.intrinsic+json": {
              "type": "string"
            }
          },
          "metadata": {},
          "execution_count": 218
        }
      ]
    },
    {
      "cell_type": "code",
      "source": [
        "es_text[-1]"
      ],
      "metadata": {
        "colab": {
          "base_uri": "https://localhost:8080/",
          "height": 53
        },
        "id": "RGKfYpb6AhS0",
        "outputId": "6fa1d809-88f1-4a92-b589-95f39b4c5e2a"
      },
      "execution_count": null,
      "outputs": [
        {
          "output_type": "execute_result",
          "data": {
            "text/plain": [
              "'Si quieres sonar como un hablante nativo, debes estar dispuesto a practicar diciendo la misma frase una y otra vez de la misma manera en que un músico de banjo practica el mismo fraseo una y otra vez hasta que lo puedan tocar correctamente y en el tiempo esperado.'"
            ],
            "application/vnd.google.colaboratory.intrinsic+json": {
              "type": "string"
            }
          },
          "metadata": {},
          "execution_count": 219
        }
      ]
    },
    {
      "cell_type": "code",
      "source": [
        "en_array = np.array(en_text)\n",
        "es_array = np.array(es_text)"
      ],
      "metadata": {
        "id": "mdA_HJWQAjDX"
      },
      "execution_count": null,
      "outputs": []
    },
    {
      "cell_type": "code",
      "source": [
        "is_train = np.random.uniform(size=(len(en_array),)) < 0.8\n",
        "\n",
        "raw_train = (\n",
        "    tf.data.Dataset\n",
        "    .from_tensor_slices((en_array[is_train],es_array[is_train]))\n",
        "    .shuffle(len(en_text))\n",
        "    .batch(16*8)\n",
        ")\n",
        "raw_valid = (\n",
        "    tf.data.Dataset\n",
        "    .from_tensor_slices((en_array[~is_train],es_array[~is_train]))\n",
        "    .shuffle(len(en_text))\n",
        "    .batch(16*8)\n",
        ")"
      ],
      "metadata": {
        "id": "t6-MP_RfCFqV"
      },
      "execution_count": null,
      "outputs": []
    },
    {
      "cell_type": "code",
      "source": [
        "for en,es in raw_train.take(1):\n",
        "    print(en[:4])\n",
        "    print(\"translates to latin as \")\n",
        "    print(es[:4])"
      ],
      "metadata": {
        "colab": {
          "base_uri": "https://localhost:8080/"
        },
        "id": "73KFDI7MC6OE",
        "outputId": "767e603a-57d0-4034-9789-9ef3ff073c74"
      },
      "execution_count": null,
      "outputs": [
        {
          "output_type": "stream",
          "name": "stdout",
          "text": [
            "tf.Tensor(\n",
            "[b'He knows many folk dances.' b'I accept your apologies.'\n",
            " b\"I'm good at mathematics.\" b\"They're with me.\"], shape=(4,), dtype=string)\n",
            "translates to latin as \n",
            "tf.Tensor(\n",
            "[b'\\xc3\\x89l conoce muchos bailes folcl\\xc3\\xb3ricos.'\n",
            " b'Acepto sus disculpas.' b'Se me dan bien las matem\\xc3\\xa1ticas.'\n",
            " b'Ellos est\\xc3\\xa1n conmigo.'], shape=(4,), dtype=string)\n"
          ]
        }
      ]
    },
    {
      "cell_type": "markdown",
      "source": [
        "# Standardize Text"
      ],
      "metadata": {
        "id": "WWoeMzZlKou5"
      }
    },
    {
      "cell_type": "code",
      "source": [
        "es_text[:10]"
      ],
      "metadata": {
        "colab": {
          "base_uri": "https://localhost:8080/"
        },
        "id": "SdPVTQtWmK4N",
        "outputId": "5f4acd09-86b6-4481-c456-6bfdb7997520"
      },
      "execution_count": null,
      "outputs": [
        {
          "output_type": "execute_result",
          "data": {
            "text/plain": [
              "('Ve.',\n",
              " 'Vete.',\n",
              " 'Vaya.',\n",
              " 'Váyase.',\n",
              " 'Hola.',\n",
              " '¡Corre!',\n",
              " 'Corred.',\n",
              " '¿Quién?',\n",
              " '¡Fuego!',\n",
              " '¡Incendio!')"
            ]
          },
          "metadata": {},
          "execution_count": 223
        }
      ]
    },
    {
      "cell_type": "code",
      "source": [
        "tf.constant(es_text[:10]) # converting to tensor"
      ],
      "metadata": {
        "colab": {
          "base_uri": "https://localhost:8080/"
        },
        "id": "VmaSDOGJWpgR",
        "outputId": "5ae31477-a781-4cc9-b03e-78a59591eb32"
      },
      "execution_count": null,
      "outputs": [
        {
          "output_type": "execute_result",
          "data": {
            "text/plain": [
              "<tf.Tensor: shape=(10,), dtype=string, numpy=\n",
              "array([b'Ve.', b'Vete.', b'Vaya.', b'V\\xc3\\xa1yase.', b'Hola.',\n",
              "       b'\\xc2\\xa1Corre!', b'Corred.', b'\\xc2\\xbfQui\\xc3\\xa9n?',\n",
              "       b'\\xc2\\xa1Fuego!', b'\\xc2\\xa1Incendio!'], dtype=object)>"
            ]
          },
          "metadata": {},
          "execution_count": 224
        }
      ]
    },
    {
      "cell_type": "code",
      "source": [
        "temp_text = text.normalize_utf8(es_text[:10],\"NFKD\") # Normalizing text so that it can be used in operations\n",
        "temp_text"
      ],
      "metadata": {
        "colab": {
          "base_uri": "https://localhost:8080/"
        },
        "id": "fUSK23dUYeGl",
        "outputId": "fb524b26-52e5-4a7b-c7f7-3b71092739b1"
      },
      "execution_count": null,
      "outputs": [
        {
          "output_type": "execute_result",
          "data": {
            "text/plain": [
              "<tf.Tensor: shape=(10,), dtype=string, numpy=\n",
              "array([b'Ve.', b'Vete.', b'Vaya.', b'Va\\xcc\\x81yase.', b'Hola.',\n",
              "       b'\\xc2\\xa1Corre!', b'Corred.', b'\\xc2\\xbfQuie\\xcc\\x81n?',\n",
              "       b'\\xc2\\xa1Fuego!', b'\\xc2\\xa1Incendio!'], dtype=object)>"
            ]
          },
          "metadata": {},
          "execution_count": 225
        }
      ]
    },
    {
      "cell_type": "code",
      "source": [
        "temp_text_1 = tf.strings.lower(temp_text) # Lower casing all the characters\n",
        "temp_text_1"
      ],
      "metadata": {
        "colab": {
          "base_uri": "https://localhost:8080/"
        },
        "id": "NNjOpADzjK_q",
        "outputId": "908a6ea8-49b3-4543-b843-b6f761227e18"
      },
      "execution_count": null,
      "outputs": [
        {
          "output_type": "execute_result",
          "data": {
            "text/plain": [
              "<tf.Tensor: shape=(10,), dtype=string, numpy=\n",
              "array([b've.', b'vete.', b'vaya.', b'va\\xcc\\x81yase.', b'hola.',\n",
              "       b'\\xc2\\xa1corre!', b'corred.', b'\\xc2\\xbfquie\\xcc\\x81n?',\n",
              "       b'\\xc2\\xa1fuego!', b'\\xc2\\xa1incendio!'], dtype=object)>"
            ]
          },
          "metadata": {},
          "execution_count": 226
        }
      ]
    },
    {
      "cell_type": "code",
      "source": [
        "temp_text_2 = tf.strings.regex_replace(temp_text_1,\"[^ a-z.?!,¿]\",\"\")  # [^ ...] means exclude..so excluding all the a-z and rest\n",
        "temp_text_2                                                            # and replacing with noting"
      ],
      "metadata": {
        "colab": {
          "base_uri": "https://localhost:8080/"
        },
        "id": "tvtl-SerZ3zX",
        "outputId": "590ec7ba-bce4-4513-f4a8-e125ca2063f2"
      },
      "execution_count": null,
      "outputs": [
        {
          "output_type": "execute_result",
          "data": {
            "text/plain": [
              "<tf.Tensor: shape=(10,), dtype=string, numpy=\n",
              "array([b've.', b'vete.', b'vaya.', b'vayase.', b'hola.', b'corre!',\n",
              "       b'corred.', b'\\xc2\\xbfquien?', b'fuego!', b'incendio!'],\n",
              "      dtype=object)>"
            ]
          },
          "metadata": {},
          "execution_count": 227
        }
      ]
    },
    {
      "cell_type": "code",
      "source": [
        "temp_text_3 = tf.strings.regex_replace(temp_text_2,\"[.¡¿,?!]\",r' \\0 ') # Placing a null character[raw_string : r'']\n",
        "temp_text_3                                                            # before and after every punctuation"
      ],
      "metadata": {
        "colab": {
          "base_uri": "https://localhost:8080/"
        },
        "id": "shZsU98Nk87Z",
        "outputId": "bd418004-3d7d-45bf-bccf-02934ed22a09"
      },
      "execution_count": null,
      "outputs": [
        {
          "output_type": "execute_result",
          "data": {
            "text/plain": [
              "<tf.Tensor: shape=(10,), dtype=string, numpy=\n",
              "array([b've . ', b'vete . ', b'vaya . ', b'vayase . ', b'hola . ',\n",
              "       b'corre ! ', b'corred . ', b' \\xc2\\xbf quien ? ', b'fuego ! ',\n",
              "       b'incendio ! '], dtype=object)>"
            ]
          },
          "metadata": {},
          "execution_count": 228
        }
      ]
    },
    {
      "cell_type": "code",
      "source": [
        "temp_text_4= tf.strings.strip(temp_text_3) # stripping any extra spaces\n",
        "temp_text_4"
      ],
      "metadata": {
        "colab": {
          "base_uri": "https://localhost:8080/"
        },
        "id": "Jwz8o9kome63",
        "outputId": "f30b8a1c-697e-48c8-c8a6-4743b2507396"
      },
      "execution_count": null,
      "outputs": [
        {
          "output_type": "execute_result",
          "data": {
            "text/plain": [
              "<tf.Tensor: shape=(10,), dtype=string, numpy=\n",
              "array([b've .', b'vete .', b'vaya .', b'vayase .', b'hola .', b'corre !',\n",
              "       b'corred .', b'\\xc2\\xbf quien ?', b'fuego !', b'incendio !'],\n",
              "      dtype=object)>"
            ]
          },
          "metadata": {},
          "execution_count": 229
        }
      ]
    },
    {
      "cell_type": "code",
      "source": [
        "temp_text_5 = tf.strings.join(['[startofsequence]',temp_text_4,'[endofsequence]'],separator=\" \")\n",
        "temp_text_5"
      ],
      "metadata": {
        "colab": {
          "base_uri": "https://localhost:8080/"
        },
        "id": "MZeMXXT_mkUw",
        "outputId": "43beee03-be08-4339-9371-41b7d377dbd7"
      },
      "execution_count": null,
      "outputs": [
        {
          "output_type": "execute_result",
          "data": {
            "text/plain": [
              "<tf.Tensor: shape=(10,), dtype=string, numpy=\n",
              "array([b'[startofsequence] ve . [endofsequence]',\n",
              "       b'[startofsequence] vete . [endofsequence]',\n",
              "       b'[startofsequence] vaya . [endofsequence]',\n",
              "       b'[startofsequence] vayase . [endofsequence]',\n",
              "       b'[startofsequence] hola . [endofsequence]',\n",
              "       b'[startofsequence] corre ! [endofsequence]',\n",
              "       b'[startofsequence] corred . [endofsequence]',\n",
              "       b'[startofsequence] \\xc2\\xbf quien ? [endofsequence]',\n",
              "       b'[startofsequence] fuego ! [endofsequence]',\n",
              "       b'[startofsequence] incendio ! [endofsequence]'], dtype=object)>"
            ]
          },
          "metadata": {},
          "execution_count": 230
        }
      ]
    },
    {
      "cell_type": "code",
      "source": [
        "def text_preprocessor(input_text):\n",
        "\n",
        "    input_text = text.normalize_utf8(input_text,\"NFKD\")\n",
        "    input_text = tf.strings.lower(input_text)\n",
        "    input_text = tf.strings.regex_replace(input_text,\"[^ a-z?.!¿¡,]\",\"\")\n",
        "    input_text = tf.strings.regex_replace(input_text,\"[?.!¿¡,]\",r\" \\0 \")\n",
        "    input_text = tf.strings.strip(input_text)\n",
        "    input_text = tf.strings.join([\"[startofsequence]\",input_text,\"[endofsequence]\"],separator=\" \")\n",
        "    return input_text"
      ],
      "metadata": {
        "id": "eNj9-XOmnDSB"
      },
      "execution_count": null,
      "outputs": []
    },
    {
      "cell_type": "markdown",
      "source": [
        "# Text Vectorization of En and Es"
      ],
      "metadata": {
        "id": "hBd-bHWivIkj"
      }
    },
    {
      "cell_type": "code",
      "source": [
        "vocab_size = 5000\n",
        "\n",
        "en_vec_layer = keras.layers.TextVectorization(vocab_size,standardize=text_preprocessor,ragged=True)\n",
        "en_vec_layer.adapt(raw_train.map(lambda en,es:en))\n",
        "es_vec_layer = keras.layers.TextVectorization(vocab_size,standardize=text_preprocessor,ragged=True)\n",
        "es_vec_layer.adapt(raw_train.map(lambda en,es:es))"
      ],
      "metadata": {
        "id": "LYvLY4eBuTxT"
      },
      "execution_count": null,
      "outputs": []
    },
    {
      "cell_type": "code",
      "source": [
        "print(en_vec_layer.get_vocabulary()[:10])\n",
        "print(es_vec_layer.get_vocabulary()[:10])"
      ],
      "metadata": {
        "colab": {
          "base_uri": "https://localhost:8080/"
        },
        "id": "2r2hLyWx0eRg",
        "outputId": "39c3e881-5f20-4e4a-df2e-72ccbbcd2911"
      },
      "execution_count": null,
      "outputs": [
        {
          "output_type": "stream",
          "name": "stdout",
          "text": [
            "['', '[UNK]', '[startofsequence]', '[endofsequence]', '.', 'the', 'i', 'to', 'you', 'tom']\n",
            "['', '[UNK]', '[startofsequence]', '[endofsequence]', '.', 'que', 'de', 'el', 'a', 'no']\n"
          ]
        }
      ]
    },
    {
      "cell_type": "code",
      "source": [
        "for english_text,en_vectorized_out in zip(en.numpy()[:4],en_vec_layer(en[:4])):\n",
        "    print(english_text,\"---->\",en_vectorized_out)"
      ],
      "metadata": {
        "colab": {
          "base_uri": "https://localhost:8080/"
        },
        "id": "lFsxkvFz2hZJ",
        "outputId": "1413c048-ec15-4e3c-da8b-c22b2102e9ad"
      },
      "execution_count": null,
      "outputs": [
        {
          "output_type": "stream",
          "name": "stdout",
          "text": [
            "b'He knows many folk dances.' ----> tf.Tensor([   2   13  254  123    1 4647    4    3], shape=(8,), dtype=int64)\n",
            "b'I accept your apologies.' ----> tf.Tensor([  2   6 874  33   1   4   3], shape=(7,), dtype=int64)\n",
            "b\"I'm good at mathematics.\" ----> tf.Tensor([   2   38   83   42 1719    4    3], shape=(7,), dtype=int64)\n",
            "b\"They're with me.\" ----> tf.Tensor([  2 287  37  21   4   3], shape=(6,), dtype=int64)\n"
          ]
        }
      ]
    },
    {
      "cell_type": "code",
      "source": [
        "for latin_text,es_vectorized_out in zip(es.numpy()[:4],es_vec_layer(es[:4])):\n",
        "    print(latin_text,\"---->\",es_vectorized_out)"
      ],
      "metadata": {
        "colab": {
          "base_uri": "https://localhost:8080/"
        },
        "id": "d1wRy9Os5cAd",
        "outputId": "c09368c9-bd66-447e-e21a-93c74f72d3bc"
      },
      "execution_count": null,
      "outputs": [
        {
          "output_type": "stream",
          "name": "stdout",
          "text": [
            "b'\\xc3\\x89l conoce muchos bailes folcl\\xc3\\xb3ricos.' ----> tf.Tensor([  2   7 583 212   1   1   4   3], shape=(8,), dtype=int64)\n",
            "b'Acepto sus disculpas.' ----> tf.Tensor([   2 1463   87 2069    4    3], shape=(6,), dtype=int64)\n",
            "b'Se me dan bien las matem\\xc3\\xa1ticas.' ----> tf.Tensor([   2   17   18 1332   74   33 1067    4    3], shape=(9,), dtype=int64)\n",
            "b'Ellos est\\xc3\\xa1n conmigo.' ----> tf.Tensor([  2  79 101 221   4   3], shape=(6,), dtype=int64)\n"
          ]
        }
      ]
    },
    {
      "cell_type": "code",
      "source": [
        "en_vocab = np.array(en_vec_layer.get_vocabulary())\n",
        "es_vocab = np.array(es_vec_layer.get_vocabulary())"
      ],
      "metadata": {
        "id": "Q8T1vTbG6DHc"
      },
      "execution_count": null,
      "outputs": []
    },
    {
      "cell_type": "code",
      "source": [
        "print(\" \".join(en_vocab[en_vectorized_out.numpy()]))\n",
        "print(\" \".join(es_vocab[es_vectorized_out.numpy()]))"
      ],
      "metadata": {
        "colab": {
          "base_uri": "https://localhost:8080/"
        },
        "id": "_ner_MaA60hs",
        "outputId": "79e18141-cac3-430d-c530-e1d80905af1b"
      },
      "execution_count": null,
      "outputs": [
        {
          "output_type": "stream",
          "name": "stdout",
          "text": [
            "[startofsequence] theyre with me . [endofsequence]\n",
            "[startofsequence] ellos estan conmigo . [endofsequence]\n"
          ]
        }
      ]
    },
    {
      "cell_type": "code",
      "source": [
        "en_vec_out = en_vec_layer(en)\n",
        "es_vec_out = es_vec_layer(es)"
      ],
      "metadata": {
        "id": "Nd_WwynD6-yg"
      },
      "execution_count": null,
      "outputs": []
    },
    {
      "cell_type": "code",
      "source": [
        "fig = make_subplots(cols=2,subplot_titles=[\"Unmasked\",\"Masked\"])\n",
        "fig.add_trace(go.Heatmap(z=en_vec_out.to_tensor().numpy()),row=1,col=1)\n",
        "fig.add_trace(go.Heatmap(z=np.array((en_vec_out.to_tensor() != 0).numpy(),dtype=np.int32)),row=1,col=2)\n",
        "fig.show()"
      ],
      "metadata": {
        "colab": {
          "base_uri": "https://localhost:8080/",
          "height": 542
        },
        "id": "hxdFErDy7s1A",
        "outputId": "1edad947-bdf9-44c8-ace4-33bdcb1ff7bb"
      },
      "execution_count": null,
      "outputs": [
        {
          "output_type": "display_data",
          "data": {
            "text/html": [
              "<html>\n",
              "<head><meta charset=\"utf-8\" /></head>\n",
              "<body>\n",
              "    <div>            <script src=\"https://cdnjs.cloudflare.com/ajax/libs/mathjax/2.7.5/MathJax.js?config=TeX-AMS-MML_SVG\"></script><script type=\"text/javascript\">if (window.MathJax && window.MathJax.Hub && window.MathJax.Hub.Config) {window.MathJax.Hub.Config({SVG: {font: \"STIX-Web\"}});}</script>                <script type=\"text/javascript\">window.PlotlyConfig = {MathJaxConfig: 'local'};</script>\n",
              "        <script charset=\"utf-8\" src=\"https://cdn.plot.ly/plotly-2.24.1.min.js\"></script>                <div id=\"3449ffaa-b1e1-4f14-b3e3-9216ff25a830\" class=\"plotly-graph-div\" style=\"height:525px; width:100%;\"></div>            <script type=\"text/javascript\">                                    window.PLOTLYENV=window.PLOTLYENV || {};                                    if (document.getElementById(\"3449ffaa-b1e1-4f14-b3e3-9216ff25a830\")) {                    Plotly.newPlot(                        \"3449ffaa-b1e1-4f14-b3e3-9216ff25a830\",                        [{\"z\":[[2,13,254,123,1,4647,4,3,0,0,0,0,0,0,0,0,0],[2,6,874,33,1,4,3,0,0,0,0,0,0,0,0,0,0],[2,38,83,42,1719,4,3,0,0,0,0,0,0,0,0,0,0],[2,287,37,21,4,3,0,0,0,0,0,0,0,0,0,0,0],[2,12,33,688,165,813,11,3,0,0,0,0,0,0,0,0,0],[2,9,100,14,30,112,4,3,0,0,0,0,0,0,0,0,0],[2,6,311,47,42,5,870,4,3,0,0,0,0,0,0,0,0],[2,22,1185,12,10,2271,3764,16,1535,357,1287,7,49,1,4,3,0],[2,20,8,23,129,4575,11,3,0,0,0,0,0,0,0,0,0],[2,929,587,166,4,3,0,0,0,0,0,0,0,0,0,0,0],[2,6,27,126,43,8,4,3,0,0,0,0,0,0,0,0,0],[2,6,23,7,508,63,101,265,172,6,45,4,3,0,0,0,0],[2,26,149,23,88,184,753,69,26,100,260,4,3,0,0,0,0],[2,191,550,52,12,183,4,3,0,0,0,0,0,0,0,0,0],[2,29,10,2697,3245,124,3,0,0,0,0,0,0,0,0,0,0],[2,113,8,2589,33,945,84,11,38,126,1260,184,4,3,0,0,0],[2,5,1075,14,5,2400,28,1,4,3,0,0,0,0,0,0,0],[2,22,559,3346,42,1219,14,5,729,4,3,0,0,0,0,0,0],[2,70,8,145,135,11,3,0,0,0,0,0,0,0,0,0,0],[2,6,23,10,2910,16,17,50,366,4,3,0,0,0,0,0,0],[2,783,33,281,960,4,3,0,0,0,0,0,0,0,0,0,0],[2,26,169,44,7,198,17,25,47,262,26,59,227,47,668,4,3],[2,81,8,969,42,4,3,0,0,0,0,0,0,0,0,0,0],[2,134,16,367,11,3,0,0,0,0,0,0,0,0,0,0,0],[2,24,1359,28,1862,4,3,0,0,0,0,0,0,0,0,0,0],[2,9,121,183,62,282,704,1048,4,3,0,0,0,0,0,0,0],[2,5,1,1,18,2097,4,3,0,0,0,0,0,0,0,0,0],[2,5,582,64,221,42,144,980,4,3,0,0,0,0,0,0,0],[2,9,658,21,10,2271,3406,4,3,0,0,0,0,0,0,0,0],[2,6,50,139,101,299,4,3,0,0,0,0,0,0,0,0,0],[2,13,46,79,4,3,0,0,0,0,0,0,0,0,0,0,0],[2,5,1,582,59,1523,34,2016,4,3,0,0,0,0,0,0,0],[2,6,59,24,607,974,4,3,0,0,0,0,0,0,0,0,0],[2,38,1231,15,24,1213,4,3,0,0,0,0,0,0,0,0,0],[2,20,8,43,29,1435,12,11,3,0,0,0,0,0,0,0,0],[2,5,910,12,143,15,1692,4,3,0,0,0,0,0,0,0,0],[2,9,438,188,4,3,0,0,0,0,0,0,0,0,0,0,0],[2,1,5,1,4,3,0,0,0,0,0,0,0,0,0,0,0],[2,1400,23,10,133,15,2986,2305,4,3,0,0,0,0,0,0,0],[2,87,76,43,400,10,1253,4047,11,3,0,0,0,0,0,0,0],[2,103,367,4,3,0,0,0,0,0,0,0,0,0,0,0,0],[2,606,564,28,836,4,3,0,0,0,0,0,0,0,0,0,0],[2,16,12,30,112,4,3,0,0,0,0,0,0,0,0,0,0],[2,9,275,31,77,847,228,4,3,0,0,0,0,0,0,0,0],[2,38,374,71,24,665,384,8,4,3,0,0,0,0,0,0,0],[2,6,425,1321,4,3,0,0,0,0,0,0,0,0,0,0,0],[2,6,4234,37,44,25,5,203,1256,4,3,0,0,0,0,0,0],[2,13,12,10,257,297,4,3,0,0,0,0,0,0,0,0,0],[2,178,6,168,7,9,11,3,0,0,0,0,0,0,0,0,0],[2,9,264,518,1,62,1,4,3,0,0,0,0,0,0,0,0],[2,177,17,52,4,3,0,0,0,0,0,0,0,0,0,0,0],[2,110,164,18,1,276,4,3,0,0,0,0,0,0,0,0,0],[2,29,1,127,9,205,11,3,0,0,0,0,0,0,0,0,0],[2,13,1195,14,42,5,2958,4,3,0,0,0,0,0,0,0,0],[2,82,402,8,118,34,5,864,4,3,0,0,0,0,0,0,0],[2,38,39,237,22,12,10,83,283,4,3,0,0,0,0,0,0],[2,26,1,495,44,4,3,0,0,0,0,0,0,0,0,0,0],[2,109,59,10,259,224,4,3,0,0,0,0,0,0,0,0,0],[2,6,65,9,919,66,15,24,750,78,477,4,3,0,0,0,0],[2,6,2404,9,25,148,844,4,3,0,0,0,0,0,0,0,0],[2,13,484,10,251,1513,30,310,4,3,0,0,0,0,0,0,0],[2,14,5,627,915,19,1250,833,50,73,511,35,85,10,575,4,3],[2,52,134,129,529,14,5,750,4,3,0,0,0,0,0,0,0],[2,6,2095,16,13,12,780,4,3,0,0,0,0,0,0,0,0],[2,918,21,4,182,33,239,11,3,0,0,0,0,0,0,0,0],[2,6,972,10,836,2499,4,3,0,0,0,0,0,0,0,0,0],[2,6,155,1,1,4,3,0,0,0,0,0,0,0,0,0,0],[2,32,983,7,144,980,110,1036,4,3,0,0,0,0,0,0,0],[2,16,12,10,782,125,4,3,0,0,0,0,0,0,0,0,0],[2,6,27,23,1736,152,4,3,0,0,0,0,0,0,0,0,0],[2,6,64,536,7,147,8,16,2127,4,3,0,0,0,0,0,0],[2,213,10,1129,1592,4,3,0,0,0,0,0,0,0,0,0,0],[2,20,8,43,129,1469,87,145,398,11,3,0,0,0,0,0,0],[2,13,1,30,1806,4,3,0,0,0,0,0,0,0,0,0,0],[2,29,12,33,952,1114,11,3,0,0,0,0,0,0,0,0,0],[2,20,8,23,10,1156,25,3593,11,3,0,0,0,0,0,0,0],[2,9,565,249,68,31,377,110,1994,4,3,0,0,0,0,0,0],[2,49,5,270,25,288,4,3,0,0,0,0,0,0,0,0,0],[2,6,85,89,10,189,53,4,3,0,0,0,0,0,0,0,0],[2,38,10,408,854,4,3,0,0,0,0,0,0,0,0,0,0],[2,13,18,14,5,998,4,3,0,0,0,0,0,0,0,0,0],[2,17,274,41,26,48,10,133,15,215,4,3,0,0,0,0,0],[2,51,185,14,3859,971,4,3,0,0,0,0,0,0,0,0,0],[2,6,18,90,200,7,67,33,225,4,3,0,0,0,0,0,0],[2,38,85,1407,66,4,3,0,0,0,0,0,0,0,0,0,0],[2,341,22,190,4,3,0,0,0,0,0,0,0,0,0,0,0],[2,290,76,43,55,7,205,718,4,3,0,0,0,0,0,0,0],[2,32,140,235,14,315,87,235,14,1307,4,3,0,0,0,0,0],[2,150,39,10,392,4,3,0,0,0,0,0,0,0,0,0,0],[2,26,149,35,82,14,279,4,3,0,0,0,0,0,0,0,0],[2,6,23,1245,73,230,37,16,4,3,0,0,0,0,0,0,0],[2,84,604,4,3,0,0,0,0,0,0,0,0,0,0,0,0],[2,191,26,59,876,47,774,840,19,26,222,10,112,4,3,0,0],[2,29,20,8,219,11,3,0,0,0,0,0,0,0,0,0,0],[2,13,931,10,133,4,3,0,0,0,0,0,0,0,0,0,0],[2,6,85,159,7,139,16,892,4,3,0,0,0,0,0,0,0],[2,52,12,73,995,61,4,3,0,0,0,0,0,0,0,0,0],[2,72,3105,48,10,153,1524,4,3,0,0,0,0,0,0,0,0],[2,293,9,4,3,0,0,0,0,0,0,0,0,0,0,0,0],[2,20,8,23,10,376,11,3,0,0,0,0,0,0,0,0,0],[2,20,8,43,55,86,75,7,1,9,11,3,0,0,0,0,0],[2,20,8,23,10,1313,11,3,0,0,0,0,0,0,0,0,0],[2,171,534,39,137,151,93,4,3,0,0,0,0,0,0,0,0],[2,5,3784,924,42,10,2142,4,3,0,0,0,0,0,0,0,0],[2,1146,3690,197,47,3349,4,3,0,0,0,0,0,0,0,0,0],[2,6,43,49,75,7,35,243,25,8,7,216,4,3,0,0,0],[2,26,46,145,1790,4,3,0,0,0,0,0,0,0,0,0,0],[2,49,10,1355,16,8,209,79,4,3,0,0,0,0,0,0,0],[2,17,396,366,4,32,107,103,72,736,4,3,0,0,0,0,0],[2,17,126,12,56,1253,4,3,0,0,0,0,0,0,0,0,0],[2,27,233,486,17,4,3,0,0,0,0,0,0,0,0,0,0],[2,52,28,140,158,855,14,5,505,4,3,0,0,0,0,0,0],[2,80,64,8,94,47,11,3,0,0,0,0,0,0,0,0,0],[2,9,706,25,31,4,3,0,0,0,0,0,0,0,0,0,0],[2,6,99,605,17,18,319,375,87,100,17,4,3,0,0,0,0],[2,6,292,7,3289,68,1145,210,1056,4,3,0,0,0,0,0,0],[2,5,156,2218,21,37,286,4109,4,3,0,0,0,0,0,0,0],[2,132,56,368,4,3,0,0,0,0,0,0,0,0,0,0,0],[2,8,46,310,863,191,360,4,3,0,0,0,0,0,0,0,0],[2,9,18,237,31,64,43,55,7,437,10,112,4,3,0,0,0],[2,287,271,7,145,1116,4,3,0,0,0,0,0,0,0,0,0],[2,6,454,103,10,998,172,479,4,3,0,0,0,0,0,0,0],[2,27,263,7,20,148,265,42,5,270,53,4,3,0,0,0,0],[2,150,39,2686,4,3,0,0,0,0,0,0,0,0,0,0,0],[2,26,381,145,7,44,4,3,0,0,0,0,0,0,0,0,0],[2,6,155,16,3865,4,3,0,0,0,0,0,0,0,0,0,0],[2,9,1,30,157,302,419,30,279,4,3,0,0,0,0,0,0],[2,59,6,710,62,17,19,6,77,23,122,8,4,3,0,0,0]],\"type\":\"heatmap\",\"xaxis\":\"x\",\"yaxis\":\"y\"},{\"z\":[[1,1,1,1,1,1,1,1,0,0,0,0,0,0,0,0,0],[1,1,1,1,1,1,1,0,0,0,0,0,0,0,0,0,0],[1,1,1,1,1,1,1,0,0,0,0,0,0,0,0,0,0],[1,1,1,1,1,1,0,0,0,0,0,0,0,0,0,0,0],[1,1,1,1,1,1,1,1,0,0,0,0,0,0,0,0,0],[1,1,1,1,1,1,1,1,0,0,0,0,0,0,0,0,0],[1,1,1,1,1,1,1,1,1,0,0,0,0,0,0,0,0],[1,1,1,1,1,1,1,1,1,1,1,1,1,1,1,1,0],[1,1,1,1,1,1,1,1,0,0,0,0,0,0,0,0,0],[1,1,1,1,1,1,0,0,0,0,0,0,0,0,0,0,0],[1,1,1,1,1,1,1,1,0,0,0,0,0,0,0,0,0],[1,1,1,1,1,1,1,1,1,1,1,1,1,0,0,0,0],[1,1,1,1,1,1,1,1,1,1,1,1,1,0,0,0,0],[1,1,1,1,1,1,1,1,0,0,0,0,0,0,0,0,0],[1,1,1,1,1,1,1,0,0,0,0,0,0,0,0,0,0],[1,1,1,1,1,1,1,1,1,1,1,1,1,1,0,0,0],[1,1,1,1,1,1,1,1,1,1,0,0,0,0,0,0,0],[1,1,1,1,1,1,1,1,1,1,1,0,0,0,0,0,0],[1,1,1,1,1,1,1,0,0,0,0,0,0,0,0,0,0],[1,1,1,1,1,1,1,1,1,1,1,0,0,0,0,0,0],[1,1,1,1,1,1,1,0,0,0,0,0,0,0,0,0,0],[1,1,1,1,1,1,1,1,1,1,1,1,1,1,1,1,1],[1,1,1,1,1,1,1,0,0,0,0,0,0,0,0,0,0],[1,1,1,1,1,1,0,0,0,0,0,0,0,0,0,0,0],[1,1,1,1,1,1,1,0,0,0,0,0,0,0,0,0,0],[1,1,1,1,1,1,1,1,1,1,0,0,0,0,0,0,0],[1,1,1,1,1,1,1,1,0,0,0,0,0,0,0,0,0],[1,1,1,1,1,1,1,1,1,1,0,0,0,0,0,0,0],[1,1,1,1,1,1,1,1,1,0,0,0,0,0,0,0,0],[1,1,1,1,1,1,1,1,0,0,0,0,0,0,0,0,0],[1,1,1,1,1,1,0,0,0,0,0,0,0,0,0,0,0],[1,1,1,1,1,1,1,1,1,1,0,0,0,0,0,0,0],[1,1,1,1,1,1,1,1,0,0,0,0,0,0,0,0,0],[1,1,1,1,1,1,1,1,0,0,0,0,0,0,0,0,0],[1,1,1,1,1,1,1,1,1,0,0,0,0,0,0,0,0],[1,1,1,1,1,1,1,1,1,0,0,0,0,0,0,0,0],[1,1,1,1,1,1,0,0,0,0,0,0,0,0,0,0,0],[1,1,1,1,1,1,0,0,0,0,0,0,0,0,0,0,0],[1,1,1,1,1,1,1,1,1,1,0,0,0,0,0,0,0],[1,1,1,1,1,1,1,1,1,1,0,0,0,0,0,0,0],[1,1,1,1,1,0,0,0,0,0,0,0,0,0,0,0,0],[1,1,1,1,1,1,1,0,0,0,0,0,0,0,0,0,0],[1,1,1,1,1,1,1,0,0,0,0,0,0,0,0,0,0],[1,1,1,1,1,1,1,1,1,0,0,0,0,0,0,0,0],[1,1,1,1,1,1,1,1,1,1,0,0,0,0,0,0,0],[1,1,1,1,1,1,0,0,0,0,0,0,0,0,0,0,0],[1,1,1,1,1,1,1,1,1,1,1,0,0,0,0,0,0],[1,1,1,1,1,1,1,1,0,0,0,0,0,0,0,0,0],[1,1,1,1,1,1,1,1,0,0,0,0,0,0,0,0,0],[1,1,1,1,1,1,1,1,1,0,0,0,0,0,0,0,0],[1,1,1,1,1,1,0,0,0,0,0,0,0,0,0,0,0],[1,1,1,1,1,1,1,1,0,0,0,0,0,0,0,0,0],[1,1,1,1,1,1,1,1,0,0,0,0,0,0,0,0,0],[1,1,1,1,1,1,1,1,1,0,0,0,0,0,0,0,0],[1,1,1,1,1,1,1,1,1,1,0,0,0,0,0,0,0],[1,1,1,1,1,1,1,1,1,1,1,0,0,0,0,0,0],[1,1,1,1,1,1,1,0,0,0,0,0,0,0,0,0,0],[1,1,1,1,1,1,1,1,0,0,0,0,0,0,0,0,0],[1,1,1,1,1,1,1,1,1,1,1,1,1,0,0,0,0],[1,1,1,1,1,1,1,1,1,0,0,0,0,0,0,0,0],[1,1,1,1,1,1,1,1,1,1,0,0,0,0,0,0,0],[1,1,1,1,1,1,1,1,1,1,1,1,1,1,1,1,1],[1,1,1,1,1,1,1,1,1,1,0,0,0,0,0,0,0],[1,1,1,1,1,1,1,1,1,0,0,0,0,0,0,0,0],[1,1,1,1,1,1,1,1,1,0,0,0,0,0,0,0,0],[1,1,1,1,1,1,1,1,0,0,0,0,0,0,0,0,0],[1,1,1,1,1,1,1,0,0,0,0,0,0,0,0,0,0],[1,1,1,1,1,1,1,1,1,1,0,0,0,0,0,0,0],[1,1,1,1,1,1,1,1,0,0,0,0,0,0,0,0,0],[1,1,1,1,1,1,1,1,0,0,0,0,0,0,0,0,0],[1,1,1,1,1,1,1,1,1,1,1,0,0,0,0,0,0],[1,1,1,1,1,1,1,0,0,0,0,0,0,0,0,0,0],[1,1,1,1,1,1,1,1,1,1,1,0,0,0,0,0,0],[1,1,1,1,1,1,1,0,0,0,0,0,0,0,0,0,0],[1,1,1,1,1,1,1,1,0,0,0,0,0,0,0,0,0],[1,1,1,1,1,1,1,1,1,1,0,0,0,0,0,0,0],[1,1,1,1,1,1,1,1,1,1,1,0,0,0,0,0,0],[1,1,1,1,1,1,1,1,0,0,0,0,0,0,0,0,0],[1,1,1,1,1,1,1,1,1,0,0,0,0,0,0,0,0],[1,1,1,1,1,1,1,0,0,0,0,0,0,0,0,0,0],[1,1,1,1,1,1,1,1,0,0,0,0,0,0,0,0,0],[1,1,1,1,1,1,1,1,1,1,1,1,0,0,0,0,0],[1,1,1,1,1,1,1,1,0,0,0,0,0,0,0,0,0],[1,1,1,1,1,1,1,1,1,1,1,0,0,0,0,0,0],[1,1,1,1,1,1,1,0,0,0,0,0,0,0,0,0,0],[1,1,1,1,1,1,0,0,0,0,0,0,0,0,0,0,0],[1,1,1,1,1,1,1,1,1,1,0,0,0,0,0,0,0],[1,1,1,1,1,1,1,1,1,1,1,1,0,0,0,0,0],[1,1,1,1,1,1,1,0,0,0,0,0,0,0,0,0,0],[1,1,1,1,1,1,1,1,1,0,0,0,0,0,0,0,0],[1,1,1,1,1,1,1,1,1,1,0,0,0,0,0,0,0],[1,1,1,1,1,0,0,0,0,0,0,0,0,0,0,0,0],[1,1,1,1,1,1,1,1,1,1,1,1,1,1,1,0,0],[1,1,1,1,1,1,1,0,0,0,0,0,0,0,0,0,0],[1,1,1,1,1,1,1,0,0,0,0,0,0,0,0,0,0],[1,1,1,1,1,1,1,1,1,1,0,0,0,0,0,0,0],[1,1,1,1,1,1,1,1,0,0,0,0,0,0,0,0,0],[1,1,1,1,1,1,1,1,1,0,0,0,0,0,0,0,0],[1,1,1,1,1,0,0,0,0,0,0,0,0,0,0,0,0],[1,1,1,1,1,1,1,1,0,0,0,0,0,0,0,0,0],[1,1,1,1,1,1,1,1,1,1,1,1,0,0,0,0,0],[1,1,1,1,1,1,1,1,0,0,0,0,0,0,0,0,0],[1,1,1,1,1,1,1,1,1,0,0,0,0,0,0,0,0],[1,1,1,1,1,1,1,1,1,0,0,0,0,0,0,0,0],[1,1,1,1,1,1,1,1,0,0,0,0,0,0,0,0,0],[1,1,1,1,1,1,1,1,1,1,1,1,1,1,0,0,0],[1,1,1,1,1,1,1,0,0,0,0,0,0,0,0,0,0],[1,1,1,1,1,1,1,1,1,1,0,0,0,0,0,0,0],[1,1,1,1,1,1,1,1,1,1,1,1,0,0,0,0,0],[1,1,1,1,1,1,1,1,0,0,0,0,0,0,0,0,0],[1,1,1,1,1,1,1,0,0,0,0,0,0,0,0,0,0],[1,1,1,1,1,1,1,1,1,1,1,0,0,0,0,0,0],[1,1,1,1,1,1,1,1,0,0,0,0,0,0,0,0,0],[1,1,1,1,1,1,1,0,0,0,0,0,0,0,0,0,0],[1,1,1,1,1,1,1,1,1,1,1,1,1,0,0,0,0],[1,1,1,1,1,1,1,1,1,1,1,0,0,0,0,0,0],[1,1,1,1,1,1,1,1,1,1,0,0,0,0,0,0,0],[1,1,1,1,1,1,0,0,0,0,0,0,0,0,0,0,0],[1,1,1,1,1,1,1,1,1,0,0,0,0,0,0,0,0],[1,1,1,1,1,1,1,1,1,1,1,1,1,1,0,0,0],[1,1,1,1,1,1,1,1,0,0,0,0,0,0,0,0,0],[1,1,1,1,1,1,1,1,1,1,0,0,0,0,0,0,0],[1,1,1,1,1,1,1,1,1,1,1,1,1,0,0,0,0],[1,1,1,1,1,1,0,0,0,0,0,0,0,0,0,0,0],[1,1,1,1,1,1,1,1,0,0,0,0,0,0,0,0,0],[1,1,1,1,1,1,1,0,0,0,0,0,0,0,0,0,0],[1,1,1,1,1,1,1,1,1,1,1,0,0,0,0,0,0],[1,1,1,1,1,1,1,1,1,1,1,1,1,1,0,0,0]],\"type\":\"heatmap\",\"xaxis\":\"x2\",\"yaxis\":\"y2\"}],                        {\"template\":{\"data\":{\"histogram2dcontour\":[{\"type\":\"histogram2dcontour\",\"colorbar\":{\"outlinewidth\":0,\"ticks\":\"\"},\"colorscale\":[[0.0,\"#0d0887\"],[0.1111111111111111,\"#46039f\"],[0.2222222222222222,\"#7201a8\"],[0.3333333333333333,\"#9c179e\"],[0.4444444444444444,\"#bd3786\"],[0.5555555555555556,\"#d8576b\"],[0.6666666666666666,\"#ed7953\"],[0.7777777777777778,\"#fb9f3a\"],[0.8888888888888888,\"#fdca26\"],[1.0,\"#f0f921\"]]}],\"choropleth\":[{\"type\":\"choropleth\",\"colorbar\":{\"outlinewidth\":0,\"ticks\":\"\"}}],\"histogram2d\":[{\"type\":\"histogram2d\",\"colorbar\":{\"outlinewidth\":0,\"ticks\":\"\"},\"colorscale\":[[0.0,\"#0d0887\"],[0.1111111111111111,\"#46039f\"],[0.2222222222222222,\"#7201a8\"],[0.3333333333333333,\"#9c179e\"],[0.4444444444444444,\"#bd3786\"],[0.5555555555555556,\"#d8576b\"],[0.6666666666666666,\"#ed7953\"],[0.7777777777777778,\"#fb9f3a\"],[0.8888888888888888,\"#fdca26\"],[1.0,\"#f0f921\"]]}],\"heatmap\":[{\"type\":\"heatmap\",\"colorbar\":{\"outlinewidth\":0,\"ticks\":\"\"},\"colorscale\":[[0.0,\"#0d0887\"],[0.1111111111111111,\"#46039f\"],[0.2222222222222222,\"#7201a8\"],[0.3333333333333333,\"#9c179e\"],[0.4444444444444444,\"#bd3786\"],[0.5555555555555556,\"#d8576b\"],[0.6666666666666666,\"#ed7953\"],[0.7777777777777778,\"#fb9f3a\"],[0.8888888888888888,\"#fdca26\"],[1.0,\"#f0f921\"]]}],\"heatmapgl\":[{\"type\":\"heatmapgl\",\"colorbar\":{\"outlinewidth\":0,\"ticks\":\"\"},\"colorscale\":[[0.0,\"#0d0887\"],[0.1111111111111111,\"#46039f\"],[0.2222222222222222,\"#7201a8\"],[0.3333333333333333,\"#9c179e\"],[0.4444444444444444,\"#bd3786\"],[0.5555555555555556,\"#d8576b\"],[0.6666666666666666,\"#ed7953\"],[0.7777777777777778,\"#fb9f3a\"],[0.8888888888888888,\"#fdca26\"],[1.0,\"#f0f921\"]]}],\"contourcarpet\":[{\"type\":\"contourcarpet\",\"colorbar\":{\"outlinewidth\":0,\"ticks\":\"\"}}],\"contour\":[{\"type\":\"contour\",\"colorbar\":{\"outlinewidth\":0,\"ticks\":\"\"},\"colorscale\":[[0.0,\"#0d0887\"],[0.1111111111111111,\"#46039f\"],[0.2222222222222222,\"#7201a8\"],[0.3333333333333333,\"#9c179e\"],[0.4444444444444444,\"#bd3786\"],[0.5555555555555556,\"#d8576b\"],[0.6666666666666666,\"#ed7953\"],[0.7777777777777778,\"#fb9f3a\"],[0.8888888888888888,\"#fdca26\"],[1.0,\"#f0f921\"]]}],\"surface\":[{\"type\":\"surface\",\"colorbar\":{\"outlinewidth\":0,\"ticks\":\"\"},\"colorscale\":[[0.0,\"#0d0887\"],[0.1111111111111111,\"#46039f\"],[0.2222222222222222,\"#7201a8\"],[0.3333333333333333,\"#9c179e\"],[0.4444444444444444,\"#bd3786\"],[0.5555555555555556,\"#d8576b\"],[0.6666666666666666,\"#ed7953\"],[0.7777777777777778,\"#fb9f3a\"],[0.8888888888888888,\"#fdca26\"],[1.0,\"#f0f921\"]]}],\"mesh3d\":[{\"type\":\"mesh3d\",\"colorbar\":{\"outlinewidth\":0,\"ticks\":\"\"}}],\"scatter\":[{\"marker\":{\"line\":{\"color\":\"#283442\"}},\"type\":\"scatter\"}],\"parcoords\":[{\"type\":\"parcoords\",\"line\":{\"colorbar\":{\"outlinewidth\":0,\"ticks\":\"\"}}}],\"scatterpolargl\":[{\"type\":\"scatterpolargl\",\"marker\":{\"colorbar\":{\"outlinewidth\":0,\"ticks\":\"\"}}}],\"bar\":[{\"error_x\":{\"color\":\"#f2f5fa\"},\"error_y\":{\"color\":\"#f2f5fa\"},\"marker\":{\"line\":{\"color\":\"rgb(17,17,17)\",\"width\":0.5},\"pattern\":{\"fillmode\":\"overlay\",\"size\":10,\"solidity\":0.2}},\"type\":\"bar\"}],\"scattergeo\":[{\"type\":\"scattergeo\",\"marker\":{\"colorbar\":{\"outlinewidth\":0,\"ticks\":\"\"}}}],\"scatterpolar\":[{\"type\":\"scatterpolar\",\"marker\":{\"colorbar\":{\"outlinewidth\":0,\"ticks\":\"\"}}}],\"histogram\":[{\"marker\":{\"pattern\":{\"fillmode\":\"overlay\",\"size\":10,\"solidity\":0.2}},\"type\":\"histogram\"}],\"scattergl\":[{\"marker\":{\"line\":{\"color\":\"#283442\"}},\"type\":\"scattergl\"}],\"scatter3d\":[{\"type\":\"scatter3d\",\"line\":{\"colorbar\":{\"outlinewidth\":0,\"ticks\":\"\"}},\"marker\":{\"colorbar\":{\"outlinewidth\":0,\"ticks\":\"\"}}}],\"scattermapbox\":[{\"type\":\"scattermapbox\",\"marker\":{\"colorbar\":{\"outlinewidth\":0,\"ticks\":\"\"}}}],\"scatterternary\":[{\"type\":\"scatterternary\",\"marker\":{\"colorbar\":{\"outlinewidth\":0,\"ticks\":\"\"}}}],\"scattercarpet\":[{\"type\":\"scattercarpet\",\"marker\":{\"colorbar\":{\"outlinewidth\":0,\"ticks\":\"\"}}}],\"carpet\":[{\"aaxis\":{\"endlinecolor\":\"#A2B1C6\",\"gridcolor\":\"#506784\",\"linecolor\":\"#506784\",\"minorgridcolor\":\"#506784\",\"startlinecolor\":\"#A2B1C6\"},\"baxis\":{\"endlinecolor\":\"#A2B1C6\",\"gridcolor\":\"#506784\",\"linecolor\":\"#506784\",\"minorgridcolor\":\"#506784\",\"startlinecolor\":\"#A2B1C6\"},\"type\":\"carpet\"}],\"table\":[{\"cells\":{\"fill\":{\"color\":\"#506784\"},\"line\":{\"color\":\"rgb(17,17,17)\"}},\"header\":{\"fill\":{\"color\":\"#2a3f5f\"},\"line\":{\"color\":\"rgb(17,17,17)\"}},\"type\":\"table\"}],\"barpolar\":[{\"marker\":{\"line\":{\"color\":\"rgb(17,17,17)\",\"width\":0.5},\"pattern\":{\"fillmode\":\"overlay\",\"size\":10,\"solidity\":0.2}},\"type\":\"barpolar\"}],\"pie\":[{\"automargin\":true,\"type\":\"pie\"}]},\"layout\":{\"autotypenumbers\":\"strict\",\"colorway\":[\"#636efa\",\"#EF553B\",\"#00cc96\",\"#ab63fa\",\"#FFA15A\",\"#19d3f3\",\"#FF6692\",\"#B6E880\",\"#FF97FF\",\"#FECB52\"],\"font\":{\"color\":\"#f2f5fa\"},\"hovermode\":\"closest\",\"hoverlabel\":{\"align\":\"left\"},\"paper_bgcolor\":\"rgb(17,17,17)\",\"plot_bgcolor\":\"rgb(17,17,17)\",\"polar\":{\"bgcolor\":\"rgb(17,17,17)\",\"angularaxis\":{\"gridcolor\":\"#506784\",\"linecolor\":\"#506784\",\"ticks\":\"\"},\"radialaxis\":{\"gridcolor\":\"#506784\",\"linecolor\":\"#506784\",\"ticks\":\"\"}},\"ternary\":{\"bgcolor\":\"rgb(17,17,17)\",\"aaxis\":{\"gridcolor\":\"#506784\",\"linecolor\":\"#506784\",\"ticks\":\"\"},\"baxis\":{\"gridcolor\":\"#506784\",\"linecolor\":\"#506784\",\"ticks\":\"\"},\"caxis\":{\"gridcolor\":\"#506784\",\"linecolor\":\"#506784\",\"ticks\":\"\"}},\"coloraxis\":{\"colorbar\":{\"outlinewidth\":0,\"ticks\":\"\"}},\"colorscale\":{\"sequential\":[[0.0,\"#0d0887\"],[0.1111111111111111,\"#46039f\"],[0.2222222222222222,\"#7201a8\"],[0.3333333333333333,\"#9c179e\"],[0.4444444444444444,\"#bd3786\"],[0.5555555555555556,\"#d8576b\"],[0.6666666666666666,\"#ed7953\"],[0.7777777777777778,\"#fb9f3a\"],[0.8888888888888888,\"#fdca26\"],[1.0,\"#f0f921\"]],\"sequentialminus\":[[0.0,\"#0d0887\"],[0.1111111111111111,\"#46039f\"],[0.2222222222222222,\"#7201a8\"],[0.3333333333333333,\"#9c179e\"],[0.4444444444444444,\"#bd3786\"],[0.5555555555555556,\"#d8576b\"],[0.6666666666666666,\"#ed7953\"],[0.7777777777777778,\"#fb9f3a\"],[0.8888888888888888,\"#fdca26\"],[1.0,\"#f0f921\"]],\"diverging\":[[0,\"#8e0152\"],[0.1,\"#c51b7d\"],[0.2,\"#de77ae\"],[0.3,\"#f1b6da\"],[0.4,\"#fde0ef\"],[0.5,\"#f7f7f7\"],[0.6,\"#e6f5d0\"],[0.7,\"#b8e186\"],[0.8,\"#7fbc41\"],[0.9,\"#4d9221\"],[1,\"#276419\"]]},\"xaxis\":{\"gridcolor\":\"#283442\",\"linecolor\":\"#506784\",\"ticks\":\"\",\"title\":{\"standoff\":15},\"zerolinecolor\":\"#283442\",\"automargin\":true,\"zerolinewidth\":2},\"yaxis\":{\"gridcolor\":\"#283442\",\"linecolor\":\"#506784\",\"ticks\":\"\",\"title\":{\"standoff\":15},\"zerolinecolor\":\"#283442\",\"automargin\":true,\"zerolinewidth\":2},\"scene\":{\"xaxis\":{\"backgroundcolor\":\"rgb(17,17,17)\",\"gridcolor\":\"#506784\",\"linecolor\":\"#506784\",\"showbackground\":true,\"ticks\":\"\",\"zerolinecolor\":\"#C8D4E3\",\"gridwidth\":2},\"yaxis\":{\"backgroundcolor\":\"rgb(17,17,17)\",\"gridcolor\":\"#506784\",\"linecolor\":\"#506784\",\"showbackground\":true,\"ticks\":\"\",\"zerolinecolor\":\"#C8D4E3\",\"gridwidth\":2},\"zaxis\":{\"backgroundcolor\":\"rgb(17,17,17)\",\"gridcolor\":\"#506784\",\"linecolor\":\"#506784\",\"showbackground\":true,\"ticks\":\"\",\"zerolinecolor\":\"#C8D4E3\",\"gridwidth\":2}},\"shapedefaults\":{\"line\":{\"color\":\"#f2f5fa\"}},\"annotationdefaults\":{\"arrowcolor\":\"#f2f5fa\",\"arrowhead\":0,\"arrowwidth\":1},\"geo\":{\"bgcolor\":\"rgb(17,17,17)\",\"landcolor\":\"rgb(17,17,17)\",\"subunitcolor\":\"#506784\",\"showland\":true,\"showlakes\":true,\"lakecolor\":\"rgb(17,17,17)\"},\"title\":{\"x\":0.05},\"updatemenudefaults\":{\"bgcolor\":\"#506784\",\"borderwidth\":0},\"sliderdefaults\":{\"bgcolor\":\"#C8D4E3\",\"borderwidth\":1,\"bordercolor\":\"rgb(17,17,17)\",\"tickwidth\":0},\"mapbox\":{\"style\":\"dark\"}}},\"xaxis\":{\"anchor\":\"y\",\"domain\":[0.0,0.45]},\"yaxis\":{\"anchor\":\"x\",\"domain\":[0.0,1.0]},\"xaxis2\":{\"anchor\":\"y2\",\"domain\":[0.55,1.0]},\"yaxis2\":{\"anchor\":\"x2\",\"domain\":[0.0,1.0]},\"annotations\":[{\"font\":{\"size\":16},\"showarrow\":false,\"text\":\"Unmasked\",\"x\":0.225,\"xanchor\":\"center\",\"xref\":\"paper\",\"y\":1.0,\"yanchor\":\"bottom\",\"yref\":\"paper\"},{\"font\":{\"size\":16},\"showarrow\":false,\"text\":\"Masked\",\"x\":0.775,\"xanchor\":\"center\",\"xref\":\"paper\",\"y\":1.0,\"yanchor\":\"bottom\",\"yref\":\"paper\"}]},                        {\"responsive\": true}                    ).then(function(){\n",
              "                            \n",
              "var gd = document.getElementById('3449ffaa-b1e1-4f14-b3e3-9216ff25a830');\n",
              "var x = new MutationObserver(function (mutations, observer) {{\n",
              "        var display = window.getComputedStyle(gd).display;\n",
              "        if (!display || display === 'none') {{\n",
              "            console.log([gd, 'removed!']);\n",
              "            Plotly.purge(gd);\n",
              "            observer.disconnect();\n",
              "        }}\n",
              "}});\n",
              "\n",
              "// Listen for the removal of the full notebook cells\n",
              "var notebookContainer = gd.closest('#notebook-container');\n",
              "if (notebookContainer) {{\n",
              "    x.observe(notebookContainer, {childList: true});\n",
              "}}\n",
              "\n",
              "// Listen for the clearing of the current output cell\n",
              "var outputEl = gd.closest('.output');\n",
              "if (outputEl) {{\n",
              "    x.observe(outputEl, {childList: true});\n",
              "}}\n",
              "\n",
              "                        })                };                            </script>        </div>\n",
              "</body>\n",
              "</html>"
            ]
          },
          "metadata": {}
        }
      ]
    },
    {
      "cell_type": "code",
      "source": [
        "def preprocess_dataset(en,es):\n",
        "    X_train = en_vec_layer(en).to_tensor()\n",
        "    X_dec = es_vec_layer(es)\n",
        "    X_dec_train = X_dec[:,:-1].to_tensor()\n",
        "    y_train = X_dec[:,1:].to_tensor()\n",
        "\n",
        "    return (X_train,X_dec),y_train"
      ],
      "metadata": {
        "id": "OBAs6ISC_JOb"
      },
      "execution_count": null,
      "outputs": []
    },
    {
      "cell_type": "code",
      "source": [
        "train_ds = raw_train.map(preprocess_dataset,tf.data.AUTOTUNE)\n",
        "valid_ds = raw_valid.map(preprocess_dataset,tf.data.AUTOTUNE)"
      ],
      "metadata": {
        "id": "4b0AXYxOBEWT"
      },
      "execution_count": null,
      "outputs": []
    },
    {
      "cell_type": "code",
      "source": [
        "for (X_train,X_dec_train),y_train in train_ds.take(1):\n",
        "    print(\"inputs:\")\n",
        "    print(X_train[0].numpy())\n",
        "    print(X_dec_train[0].numpy())\n",
        "    print(\"outputs\")\n",
        "    print(y_train[0].numpy())"
      ],
      "metadata": {
        "colab": {
          "base_uri": "https://localhost:8080/"
        },
        "id": "p6l0fYXMBQ9H",
        "outputId": "5390d7d0-ff0f-4d41-8708-fe3bc581fb86"
      },
      "execution_count": null,
      "outputs": [
        {
          "output_type": "stream",
          "name": "stdout",
          "text": [
            "inputs:\n",
            "[  2  20   8  43   5 673   6 199  61  11   3   0   0   0   0   0   0   0\n",
            "   0   0   0   0   0]\n",
            "[   2   13  190   21    5 1529   51   12    3]\n",
            "outputs\n",
            "[  13  190   21    5 1529   51   12    3    0    0    0    0    0    0\n",
            "    0    0    0    0]\n"
          ]
        }
      ]
    },
    {
      "cell_type": "code",
      "source": [
        "class Encoder(keras.Model):\n",
        "\n",
        "    def __init__(self,embed_size)"
      ],
      "metadata": {
        "id": "GlEMHBAfB7-v"
      },
      "execution_count": null,
      "outputs": []
    }
  ]
}