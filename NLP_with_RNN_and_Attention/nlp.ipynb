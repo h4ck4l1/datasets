{
 "cells": [
  {
   "cell_type": "code",
   "execution_count": 63,
   "metadata": {},
   "outputs": [],
   "source": [
    "import os,time,sys,subprocess,warnings\n",
    "warnings.filterwarnings(\"ignore\")\n",
    "os.environ['TF_CPP_MIN_LOG_LEVEL'] = \"3\"\n",
    "import tensorflow as tf\n",
    "import tensorflow_datasets as tfds\n",
    "from pathlib import Path\n",
    "from tensorflow import keras\n",
    "import numpy as np\n",
    "import plotly.express as px\n",
    "import plotly.graph_objects as go\n",
    "import plotly.io as pio\n",
    "from plotly.subplots import make_subplots\n",
    "pio.templates.default = \"plotly_dark\"\n",
    "tf.get_logger().setLevel(\"ERROR\")"
   ]
  },
  {
   "cell_type": "markdown",
   "metadata": {},
   "source": [
    "# Creating the Training Dataset"
   ]
  },
  {
   "cell_type": "code",
   "execution_count": 2,
   "metadata": {},
   "outputs": [
    {
     "data": {
      "text/plain": [
       "[LogicalDevice(name='/device:CPU:0', device_type='CPU'),\n",
       " LogicalDevice(name='/device:GPU:0', device_type='GPU')]"
      ]
     },
     "execution_count": 2,
     "metadata": {},
     "output_type": "execute_result"
    }
   ],
   "source": [
    "tf.config.list_logical_devices()"
   ]
  },
  {
   "cell_type": "code",
   "execution_count": 3,
   "metadata": {},
   "outputs": [],
   "source": [
    "shake = keras.utils.get_file(\"shakes.txt\",'https://homl.info/shakespeare')\n",
    "with open(shake) as f:\n",
    "    shakes = f.read()"
   ]
  },
  {
   "cell_type": "code",
   "execution_count": 4,
   "metadata": {},
   "outputs": [
    {
     "name": "stdout",
     "output_type": "stream",
     "text": [
      "First Citizen:\n",
      "Before we proceed any further, hear me speak.\n",
      "\n",
      "All:\n",
      "Speak, speak.\n",
      "\n",
      "First Citizen:\n",
      "You\n"
     ]
    }
   ],
   "source": [
    "print(shakes[:100])"
   ]
  },
  {
   "cell_type": "markdown",
   "metadata": {},
   "source": [
    "- encode every character to integer\n",
    "  - one option to create custom preprocessing layer\n",
    "  - second is to use keras tokenizer class"
   ]
  },
  {
   "cell_type": "code",
   "execution_count": 5,
   "metadata": {},
   "outputs": [
    {
     "name": "stdout",
     "output_type": "stream",
     "text": [
      "s h ; ? u b . $ : a j j e m $ t o j , s s ' r - y ! : o & - m ' h ! j 3 a m ? \n",
      "\n"
     ]
    },
    {
     "data": {
      "text/plain": [
       "array([[19],\n",
       "       [ 5],\n",
       "       [ 8],\n",
       "       [ 7],\n",
       "       [ 2]])"
      ]
     },
     "execution_count": 5,
     "metadata": {},
     "output_type": "execute_result"
    }
   ],
   "source": [
    "tokenizer = keras.preprocessing.text.Tokenizer(char_level=True)\n",
    "tokenizer.fit_on_texts(shakes)\n",
    "tokenizer.texts_to_sequences([\"Hello this is mario\"])\n",
    "print(\"\".join(tokenizer.sequences_to_texts(np.random.randint(1,50,size=[1,50]))))\n",
    "max_id = len(tokenizer.word_index)\n",
    "total_size = tokenizer.document_count\n",
    "encoded = np.array(tokenizer.texts_to_sequences(shakes))-1\n",
    "encoded[:5]"
   ]
  },
  {
   "cell_type": "code",
   "execution_count": 6,
   "metadata": {},
   "outputs": [],
   "source": [
    "token_layer = keras.layers.TextVectorization(split=\"character\",standardize=\"lower\")\n",
    "token_layer.adapt([shakes])\n",
    "encoded = token_layer([shakes])[0]\n",
    "encoded -= 2"
   ]
  },
  {
   "cell_type": "code",
   "execution_count": 7,
   "metadata": {},
   "outputs": [],
   "source": [
    "n_tokens = token_layer.vocabulary_size()-2"
   ]
  },
  {
   "cell_type": "code",
   "execution_count": 8,
   "metadata": {},
   "outputs": [
    {
     "name": "stdout",
     "output_type": "stream",
     "text": [
      "train size = 1003854 and valid size = 111540\n"
     ]
    }
   ],
   "source": [
    "train_size = total_size * 90//100\n",
    "valid_size = total_size - train_size\n",
    "print(f\"train size = {train_size} and valid size = {valid_size}\")"
   ]
  },
  {
   "cell_type": "code",
   "execution_count": 9,
   "metadata": {},
   "outputs": [],
   "source": [
    "n_steps = 100\n",
    "batch_size = 32\n",
    "shuffle_size = int(1e4)"
   ]
  },
  {
   "cell_type": "code",
   "execution_count": 10,
   "metadata": {},
   "outputs": [],
   "source": [
    "tf.config.list_logical_devices()\n",
    "strategy = tf.distribute.OneDeviceStrategy(device=\"/device:GPU:0\")"
   ]
  },
  {
   "cell_type": "code",
   "execution_count": 11,
   "metadata": {},
   "outputs": [],
   "source": [
    "def create_ds(slices,seq_len=100,batch_size=32,shuffle_size=10000,shuffle=False):\n",
    "    ds = tf.data.Dataset.from_tensor_slices(slices)\n",
    "    ds = ds.window(seq_len+1,shift=1,drop_remainder=True).flat_map(lambda x: x.batch(seq_len+1))\n",
    "    if shuffle:\n",
    "        ds = ds.shuffle(shuffle_size)\n",
    "    ds = ds.batch(batch_size)\n",
    "    ds = ds.map(lambda x: (x[:,:-1],x[:,1:]))\n",
    "    return ds.prefetch(1)"
   ]
  },
  {
   "cell_type": "code",
   "execution_count": 12,
   "metadata": {},
   "outputs": [],
   "source": [
    "train_ds = create_ds(encoded[:train_size],shuffle=True)\n",
    "valid_ds = create_ds(encoded[train_size:train_size+80_000])\n",
    "test_ds = create_ds(encoded[train_size+80_000:])"
   ]
  },
  {
   "cell_type": "code",
   "execution_count": 13,
   "metadata": {},
   "outputs": [
    {
     "data": {
      "text/plain": [
       "'This will take about an hour so skipping and downloading the model'"
      ]
     },
     "execution_count": 13,
     "metadata": {},
     "output_type": "execute_result"
    }
   ],
   "source": [
    "# with strategy.scope():\n",
    "#     model = keras.Sequential()\n",
    "#     model.add(keras.layers.Embedding(input_dim=max_id,output_dim=16))\n",
    "#     model.add(keras.layers.GRU(128,return_sequences=True))\n",
    "#     model.add(keras.layers.Dense(max_id,\"softmax\"))\n",
    "#     model.compile(\n",
    "#         loss=\"sparse_categorical_crossentropy\",\n",
    "#         optimizer=\"nadam\",\n",
    "#         metrics=[\"accuracy\"]\n",
    "#     )\n",
    "# checkp = keras.callbacks.ModelCheckpoint(\"shakes_model\",monitor=\"val_accuracy\",save_best_only=True)\n",
    "# model.fit(train_ds,validation_data=valid_ds,epochs=10,callbacks=[checkp])\n",
    "'''This will take about an hour so skipping and downloading the model'''"
   ]
  },
  {
   "cell_type": "code",
   "execution_count": 14,
   "metadata": {},
   "outputs": [],
   "source": [
    "url = \"https://github.com/ageron/data/raw/main/shakespeare_model.tgz\"\n",
    "path = keras.utils.get_file(\"shakespeare_model.tgz\",origin=url,extract=True)\n",
    "model_path = Path(path).with_name(\"shakespeare_model\")\n",
    "shakes_model = keras.models.load_model(model_path)"
   ]
  },
  {
   "cell_type": "code",
   "execution_count": 15,
   "metadata": {},
   "outputs": [
    {
     "name": "stdout",
     "output_type": "stream",
     "text": [
      "1/1 [==============================] - 2s 2s/step\n"
     ]
    },
    {
     "data": {
      "text/plain": [
       "<tf.Tensor: shape=(), dtype=int64, numpy=6>"
      ]
     },
     "execution_count": 15,
     "metadata": {},
     "output_type": "execute_result"
    }
   ],
   "source": [
    "phrase = \"To be or not to b\"\n",
    "tf.argmax(shakes_model.predict([phrase])[0,-1])+2"
   ]
  },
  {
   "cell_type": "code",
   "execution_count": 32,
   "metadata": {},
   "outputs": [
    {
     "name": "stdout",
     "output_type": "stream",
     "text": [
      "To be or not to bai tcei esttletylstctei tcitnaywrsttctitoheai\n",
      "eeao\n"
     ]
    }
   ],
   "source": [
    "def generate_poem(phrase,using_model=shakes_model,chars=50,temperature=1):\n",
    "    for i in range(chars):\n",
    "        logits = tf.math.log(using_model.predict([phrase],verbose=0)[0,-1:])\n",
    "        rescaled_logits = logits/temperature\n",
    "        char_ids = tf.reshape(tf.random.categorical(rescaled_logits,num_samples=1),shape=[])\n",
    "        phrase += token_layer.get_vocabulary()[char_ids+2]\n",
    "\n",
    "    print(phrase)\n",
    "tf.random.set_seed(42)\n",
    "generate_poem(\"To be or not to b\",temperature=0.01)"
   ]
  },
  {
   "cell_type": "code",
   "execution_count": 50,
   "metadata": {},
   "outputs": [
    {
     "name": "stdout",
     "output_type": "stream",
     "text": [
      "To be or not to b l,uk\n",
      "oaioaeaeslm\n",
      " l!oextl,ywxld.oeitoaieesdnuxers\n"
     ]
    }
   ],
   "source": [
    "def next_char(text,using_model,temperature=1):\n",
    "    y_proba = using_model.predict([text],verbose=0)[0, -1:]\n",
    "    rescaled_logits = tf.math.log(y_proba) / temperature\n",
    "    char_id = tf.random.categorical(rescaled_logits, num_samples=1)[0, 0]\n",
    "    return token_layer.get_vocabulary()[char_id + 2]\n",
    "\n",
    "def extend_text(text, n_chars=50,using_model=shakes_model, temperature=1):\n",
    "    for _ in range(n_chars):\n",
    "        text += next_char(text,using_model=shakes_model, temperature=temperature)\n",
    "    return text\n",
    "\n",
    "tf.random.set_seed(42)\n",
    "print(extend_text(\"To be or not to b\"))"
   ]
  },
  {
   "cell_type": "markdown",
   "metadata": {},
   "source": [
    "# Stateful RNN"
   ]
  },
  {
   "cell_type": "code",
   "execution_count": 17,
   "metadata": {},
   "outputs": [],
   "source": [
    "def create_stateful_ds(slices,seq_len=100):\n",
    "    ds = tf.data.Dataset.from_tensor_slices(slices)\n",
    "    ds = ds.window(seq_len+1,shift=seq_len,drop_remainder=True)\n",
    "    ds = ds.flat_map(lambda x: x.batch(seq_len+1))\n",
    "    ds = ds.batch(1)\n",
    "    ds = ds.map(lambda x: (x[:,:-1],x[:,1:])).prefetch(1)\n",
    "    return ds"
   ]
  },
  {
   "cell_type": "code",
   "execution_count": 18,
   "metadata": {},
   "outputs": [],
   "source": [
    "train_size = 1_000_000\n",
    "train_ds = create_stateful_ds(encoded[:train_size])\n",
    "valid_ds = create_stateful_ds(encoded[train_size:train_size+70_000])\n",
    "test_ds = create_stateful_ds(encoded[train_size+70_000:])"
   ]
  },
  {
   "cell_type": "code",
   "execution_count": 19,
   "metadata": {},
   "outputs": [],
   "source": [
    "stateful_shakes = keras.Sequential([\n",
    "    keras.layers.Embedding(input_dim=n_tokens,output_dim=16,batch_input_shape=[1,None]),\n",
    "    keras.layers.GRU(256,return_sequences=True,stateful=True),\n",
    "    keras.layers.Dense(n_tokens,activation=\"softmax\")\n",
    "])\n",
    "stateful_shakes.compile(\n",
    "    loss=\"sparse_categorical_crossentropy\",\n",
    "    optimizer=\"nadam\",\n",
    "    metrics=[\"accuracy\"]\n",
    ")\n",
    "class ResetStates(keras.callbacks.Callback):\n",
    "    def on_epoch_begin(self, epoch, logs=None):\n",
    "        self.model.reset_states()"
   ]
  },
  {
   "cell_type": "code",
   "execution_count": 20,
   "metadata": {},
   "outputs": [
    {
     "name": "stdout",
     "output_type": "stream",
     "text": [
      "Epoch 1/10\n",
      "9999/9999 [==============================] - 101s 10ms/step - loss: 1.7648 - accuracy: 0.4764 - val_loss: 1.5974 - val_accuracy: 0.5218\n",
      "Epoch 2/10\n",
      "9999/9999 [==============================] - 96s 10ms/step - loss: 1.4568 - accuracy: 0.5558 - val_loss: 1.5130 - val_accuracy: 0.5476\n",
      "Epoch 3/10\n",
      "9999/9999 [==============================] - 97s 10ms/step - loss: 1.3788 - accuracy: 0.5764 - val_loss: 1.4841 - val_accuracy: 0.5564\n",
      "Epoch 4/10\n",
      "9999/9999 [==============================] - 97s 10ms/step - loss: 1.3388 - accuracy: 0.5864 - val_loss: 1.4702 - val_accuracy: 0.5611\n",
      "Epoch 5/10\n",
      "9999/9999 [==============================] - 96s 10ms/step - loss: 1.3144 - accuracy: 0.5930 - val_loss: 1.4631 - val_accuracy: 0.5616\n",
      "Epoch 6/10\n",
      "9999/9999 [==============================] - 96s 10ms/step - loss: 1.2983 - accuracy: 0.5974 - val_loss: 1.4620 - val_accuracy: 0.5632\n",
      "Epoch 7/10\n",
      "9999/9999 [==============================] - 97s 10ms/step - loss: 1.2882 - accuracy: 0.5992 - val_loss: 1.4596 - val_accuracy: 0.5645\n",
      "Epoch 8/10\n",
      "9999/9999 [==============================] - 97s 10ms/step - loss: 1.2815 - accuracy: 0.6011 - val_loss: 1.4605 - val_accuracy: 0.5634\n",
      "Epoch 9/10\n",
      "9999/9999 [==============================] - 96s 10ms/step - loss: 1.2765 - accuracy: 0.6025 - val_loss: 1.4592 - val_accuracy: 0.5630\n",
      "Epoch 10/10\n",
      "9999/9999 [==============================] - 96s 10ms/step - loss: 1.2716 - accuracy: 0.6036 - val_loss: 1.4631 - val_accuracy: 0.5620\n"
     ]
    }
   ],
   "source": [
    "history = stateful_shakes.fit(train_ds,validation_data=valid_ds,epochs=10,callbacks=[ResetStates()])"
   ]
  },
  {
   "cell_type": "code",
   "execution_count": 28,
   "metadata": {},
   "outputs": [],
   "source": [
    "# shakes_stateful_model = keras.models.load_model(\"shakes_stateful_model\")"
   ]
  },
  {
   "cell_type": "code",
   "execution_count": 29,
   "metadata": {},
   "outputs": [],
   "source": [
    "shakes_stateless_model = keras.Sequential([\n",
    "    keras.layers.Embedding(input_dim=n_tokens,output_dim=16),\n",
    "    keras.layers.GRU(256,return_sequences=True),\n",
    "    keras.layers.Dense(n_tokens,\"softmax\")\n",
    "])"
   ]
  },
  {
   "cell_type": "code",
   "execution_count": 30,
   "metadata": {},
   "outputs": [],
   "source": [
    "shakes_stateless_model.build(input_shape=tf.TensorShape([None,None]))"
   ]
  },
  {
   "cell_type": "code",
   "execution_count": 31,
   "metadata": {},
   "outputs": [],
   "source": [
    "shakes_stateless_model.set_weights(stateful_shakes.get_weights())"
   ]
  },
  {
   "cell_type": "code",
   "execution_count": 61,
   "metadata": {},
   "outputs": [],
   "source": [
    "full_model = keras.Sequential([\n",
    "    token_layer,\n",
    "    keras.layers.Lambda(lambda x: x-2),\n",
    "    shakes_stateless_model\n",
    "])"
   ]
  },
  {
   "cell_type": "code",
   "execution_count": 62,
   "metadata": {},
   "outputs": [
    {
     "name": "stdout",
     "output_type": "stream",
     "text": [
      "To be or not to bohaiy\n",
      "tcci\n",
      "eslsttrlnxldgrenuxtcheitceesdi tcescei.\n"
     ]
    }
   ],
   "source": [
    "print(extend_text(\"To be or not to b\",using_model=stateful_shakes,temperature=1))"
   ]
  },
  {
   "cell_type": "code",
   "execution_count": null,
   "metadata": {},
   "outputs": [],
   "source": []
  }
 ],
 "metadata": {
  "kernelspec": {
   "display_name": "Python 3",
   "language": "python",
   "name": "python3"
  },
  "language_info": {
   "codemirror_mode": {
    "name": "ipython",
    "version": 3
   },
   "file_extension": ".py",
   "mimetype": "text/x-python",
   "name": "python",
   "nbconvert_exporter": "python",
   "pygments_lexer": "ipython3",
   "version": "3.8.10"
  },
  "orig_nbformat": 4
 },
 "nbformat": 4,
 "nbformat_minor": 2
}
