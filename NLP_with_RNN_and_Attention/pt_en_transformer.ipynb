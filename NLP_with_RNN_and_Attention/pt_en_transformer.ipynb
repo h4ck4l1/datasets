{
 "cells": [
  {
   "cell_type": "code",
   "execution_count": 1,
   "metadata": {},
   "outputs": [
    {
     "name": "stdout",
     "output_type": "stream",
     "text": [
      "Exception reporting mode: Context\n"
     ]
    }
   ],
   "source": [
    "import sys,os,warnings,logging,time\n",
    "from typing import Literal\n",
    "os.environ[\"TF_CPP_MIN_LOG_LEVEL\"] = \"3\"\n",
    "warnings.filterwarnings(\"ignore\")\n",
    "if \"google.colab\" in sys.modules:\n",
    "    %pip3 install -q -U \"tensorflow-text==2.13.0\"\n",
    "\n",
    "import numpy as np\n",
    "import tensorflow as tf\n",
    "from tensorflow import keras\n",
    "import tensorflow_datasets as tfds\n",
    "import tensorflow_text as tftext\n",
    "import tensorflow_text.tools.wordpiece_vocab.bert_vocab_from_dataset as bert_vocab\n",
    "import matplotlib.pyplot as plt\n",
    "import plotly.express as px\n",
    "import plotly.graph_objects as go\n",
    "import plotly.io as pio\n",
    "pio.templates.default = \"plotly_dark\"\n",
    "%matplotlib inline\n",
    "%xmode Context\n",
    "tf.get_logger().setLevel(\"ERROR\")"
   ]
  },
  {
   "cell_type": "code",
   "execution_count": 2,
   "metadata": {},
   "outputs": [],
   "source": [
    "examples,metadata = tfds.load(\"ted_hrlr_translate/pt_to_en\",with_info=True,as_supervised=True)\n",
    "train_raw,valid_raw = examples['train'],examples['validation']"
   ]
  },
  {
   "cell_type": "code",
   "execution_count": 3,
   "metadata": {},
   "outputs": [
    {
     "name": "stdout",
     "output_type": "stream",
     "text": [
      "e quando melhoramos a procura , tiramos a única vantagem da impressão , que é a serendipidade .\n",
      "and when you improve searchability , you actually take away the one advantage of print , which is serendipity .\n"
     ]
    }
   ],
   "source": [
    "for i in train_raw.take(1):\n",
    "    print(i[0].numpy().decode())\n",
    "    print(i[1].numpy().decode())"
   ]
  },
  {
   "cell_type": "code",
   "execution_count": 4,
   "metadata": {},
   "outputs": [],
   "source": [
    "en_vocab = bert_vocab.bert_vocab_from_dataset(\n",
    "    train_raw.map(lambda x,y:y),\n",
    "    vocab_size=8000,\n",
    "    reserved_tokens=[\"[PAD]\",\"[UNK]\",\"[START]\",\"[END]\"],\n",
    "    bert_tokenizer_params=dict(lower_case=True),\n",
    "    learn_params={}\n",
    "    )\n",
    "pt_vocab = bert_vocab.bert_vocab_from_dataset(\n",
    "    train_raw.map(lambda x,y:x),\n",
    "    vocab_size=8000,\n",
    "    reserved_tokens=[\"[PAD]\",\"[UNK]\",\"[START]\",\"[END]\"],\n",
    "    bert_tokenizer_params=dict(lower_case=True) ,\n",
    "    learn_params={}\n",
    ")"
   ]
  },
  {
   "cell_type": "code",
   "execution_count": 5,
   "metadata": {},
   "outputs": [],
   "source": [
    "with open(\"en_pt_vocab.txt\",\"w\") as f:\n",
    "    for token in en_vocab:\n",
    "        print(token,file=f)\n",
    "\n",
    "with open(\"pt_en_vocab.txt\",\"w\") as f:\n",
    "    for token in pt_vocab:\n",
    "        print(token,file=f)"
   ]
  },
  {
   "cell_type": "code",
   "execution_count": 6,
   "metadata": {},
   "outputs": [],
   "source": [
    "en_tokenizer = tftext.BertTokenizer(\"en_pt_vocab.txt\",lower_case=True)\n",
    "pt_tokenizer = tftext.BertTokenizer(\"pt_en_vocab.txt\",lower_case=True)"
   ]
  },
  {
   "cell_type": "code",
   "execution_count": 25,
   "metadata": {},
   "outputs": [],
   "source": [
    "def upstream(text,lang:Literal[\"en\",\"pt\"]):\n",
    "    batch_size = tf.shape(text)[0]\n",
    "    if lang == \"en\":\n",
    "        tokens = en_tokenizer.tokenize(text).merge_dims(-2,-1)\n",
    "    else:\n",
    "        tokens = pt_tokenizer.tokenize(text).merge_dims(-2,-1)\n",
    "    start_tokens = tf.fill(dims=[batch_size,1],value=tf.constant(value=en_vocab.index(\"[START]\"),dtype=tokens.dtype))\n",
    "    end_tokens = tf.fill(dims=[batch_size,1],value=tf.constant(value=en_vocab.index(\"[END]\"),dtype=tokens.dtype))\n",
    "    return tf.concat([start_tokens,tokens,end_tokens],axis=-1)"
   ]
  },
  {
   "cell_type": "code",
   "execution_count": 39,
   "metadata": {},
   "outputs": [
    {
     "name": "stdout",
     "output_type": "stream",
     "text": [
      "<tf.RaggedTensor [[2, 72, 117, 79, 1259, 1491, 2362, 13, 79, 150, 184, 311, 71, 103, 2308,\n",
      "  74, 2679, 13, 148, 80, 55, 4840, 1434, 2423, 540, 15, 3]               ,\n",
      " [2, 87, 90, 107, 76, 129, 1852, 30, 3],\n",
      " [2, 87, 83, 149, 50, 9, 56, 664, 85, 2512, 15, 3]]>\n"
     ]
    }
   ],
   "source": [
    "for i in train_raw.batch(3).take(1).map(lambda x,y:y):\n",
    "    tokens = upstream(i,\"en\")\n",
    "    print(tokens[:4])"
   ]
  },
  {
   "cell_type": "code",
   "execution_count": 36,
   "metadata": {},
   "outputs": [],
   "source": [
    "def preprocess(pt,en):\n",
    "    pt_tokens = upstream(pt,\"pt\")\n",
    "    en_tokens = upstream(en,\"en\")\n",
    "    pt_tokens = pt_tokens[:,:129]\n",
    "    en_tokens = en_tokens[:,:128]\n",
    "    return (en_tokens.to_tensor(),pt_tokens[:,:-1].to_tensor()),pt_tokens[:,1:].to_tensor()"
   ]
  },
  {
   "cell_type": "code",
   "execution_count": 37,
   "metadata": {},
   "outputs": [],
   "source": [
    "train_ds = (\n",
    "    train_raw\n",
    "    .shuffle(20000)\n",
    "    .batch(64)\n",
    "    .map(preprocess)\n",
    "    .prefetch(tf.data.AUTOTUNE)\n",
    ")\n",
    "valid_ds = (\n",
    "    valid_raw\n",
    "    .shuffle(20000)\n",
    "    .batch(64)\n",
    "    .map(preprocess)\n",
    "    .prefetch(tf.data.AUTOTUNE)\n",
    ")"
   ]
  },
  {
   "cell_type": "code",
   "execution_count": null,
   "metadata": {},
   "outputs": [],
   "source": []
  }
 ],
 "metadata": {
  "kernelspec": {
   "display_name": "Python 3",
   "language": "python",
   "name": "python3"
  },
  "language_info": {
   "codemirror_mode": {
    "name": "ipython",
    "version": 3
   },
   "file_extension": ".py",
   "mimetype": "text/x-python",
   "name": "python",
   "nbconvert_exporter": "python",
   "pygments_lexer": "ipython3",
   "version": "3.8.10"
  },
  "orig_nbformat": 4
 },
 "nbformat": 4,
 "nbformat_minor": 2
}
