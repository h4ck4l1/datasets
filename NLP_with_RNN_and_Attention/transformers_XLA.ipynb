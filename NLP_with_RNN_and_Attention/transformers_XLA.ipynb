{
 "cells": [
  {
   "cell_type": "code",
   "execution_count": 1,
   "metadata": {},
   "outputs": [],
   "source": [
    "# from google.colab import auth\n",
    "# auth.authenticate_user()\n",
    "import sys,os,warnings\n",
    "if \"google.colab\" in sys.modules:\n",
    "    %pip install \"tensorflow-text==2.13.0\"\n",
    "    %pip install kaleido\n",
    "os.environ[\"TF_CPP_MIN_LOG_LEVEL\"] = \"3\"\n",
    "warnings.filterwarnings(\"ignore\")\n",
    "import numpy as np\n",
    "import re\n",
    "from typing import Literal\n",
    "import tensorflow as tf\n",
    "from tensorflow import keras\n",
    "import tensorflow_text as tftext\n",
    "import tensorflow_text.tools.wordpiece_vocab.bert_vocab_from_dataset as bert_vocab\n",
    "from zipfile import ZipFile\n",
    "from IPython.display import clear_output\n",
    "from shutil import copytree,copy2\n",
    "import requests\n",
    "import plotly.express as px\n",
    "import plotly.graph_objects as go\n",
    "import plotly.io as pio\n",
    "pio.templates.default = \"plotly_dark\"\n",
    "if \"google.colab\" not in sys.modules:\n",
    "    gpus = tf.config.list_physical_devices(\"GPU\")\n",
    "    tf.config.experimental.set_virtual_device_configuration(\n",
    "        gpus[0],\n",
    "        [tf.config.LogicalDeviceConfiguration(memory_limit=9000)]\n",
    "        )\n",
    "tf.get_logger().setLevel(\"ERROR\")\n",
    "%xmode Context\n",
    "clear_output()"
   ]
  },
  {
   "cell_type": "code",
   "execution_count": 2,
   "metadata": {},
   "outputs": [
    {
     "name": "stdout",
     "output_type": "stream",
     "text": [
      "Go. ----> Ve.\n",
      "Go. ----> Vete.\n",
      "Go. ----> Vaya.\n",
      "Go. ----> Váyase.\n",
      "Hi. ----> Hola.\n",
      "Run! ----> ¡Corre!\n",
      "Run. ----> Corred.\n",
      "Who? ----> ¿Quién?\n",
      "Fire! ----> ¡Fuego!\n",
      "Fire! ----> ¡Incendio!\n"
     ]
    }
   ],
   "source": [
    "with tf.device(\"/job:localhost\"):\n",
    "    url = \"https://storage.googleapis.com/download.tensorflow.org/data/spa-eng.zip\"\n",
    "    file_path = keras.utils.get_file(fname=\"spa-eng.zip\",origin=url,extract=True)\n",
    "    with ZipFile(file_path,\"r\") as f:\n",
    "        f.extractall(\"spa-eng\")\n",
    "    with open(\"spa-eng/spa-eng/spa.txt\",\"r\") as f:\n",
    "        text = f.read()\n",
    "clear_output()\n",
    "en_text,es_text = zip(*[line.split(\"\\t\") for line in text.splitlines()])\n",
    "for en,es in zip(en_text[:10],es_text[:10]):\n",
    "    print(f\"{en} ----> {es}\")"
   ]
  },
  {
   "cell_type": "code",
   "execution_count": 3,
   "metadata": {},
   "outputs": [],
   "source": [
    "en_tokenizer = tftext.BertTokenizer(\n",
    "    \"en_vocab.txt\",\n",
    "    normalization_form=\"NFKD\"\n",
    ")\n",
    "es_tokenizer = tftext.BertTokenizer(\n",
    "    \"spa_vocab.txt\",\n",
    "    normalization_form=\"NFKD\"\n",
    ")"
   ]
  },
  {
   "cell_type": "code",
   "execution_count": 49,
   "metadata": {},
   "outputs": [],
   "source": [
    "with open(\"en_vocab.txt\",\"r\") as f:\n",
    "    en_vocab = f.read()\n",
    "\n",
    "with open(\"spa_vocab.txt\",\"r\") as f:\n",
    "    es_vocab = f.read()\n",
    "\n",
    "en_vocab = np.array(en_vocab.splitlines())\n",
    "es_vocab = np.array(es_vocab.splitlines())"
   ]
  },
  {
   "cell_type": "code",
   "execution_count": 50,
   "metadata": {},
   "outputs": [
    {
     "name": "stdout",
     "output_type": "stream",
     "text": [
      "['[PAD]' '[UNK]' '[START]' '[END]' '!' ',' '.' '?' 'a' 'b']\n",
      "['yell' 'youngest' 'youth' '##!' '##,' '##.' '##?' '##j' '##q' '##v']\n",
      "['[PAD]' '[UNK]' '[START]' '[END]' '!' ',' '.' '?' 'a' 'b']\n",
      "['volviera' '##!' '##,' '##.' '##?' '##f' '##j' '##q' '##v' '##¿']\n"
     ]
    }
   ],
   "source": [
    "print(en_vocab[:10])\n",
    "print(en_vocab[-10:])\n",
    "print(es_vocab[:10])\n",
    "print(es_vocab[-10:])"
   ]
  },
  {
   "cell_type": "code",
   "execution_count": 59,
   "metadata": {},
   "outputs": [
    {
     "name": "stdout",
     "output_type": "stream",
     "text": [
      "tf.Tensor(2, shape=(), dtype=int64)\n",
      "tf.Tensor(3, shape=(), dtype=int64)\n"
     ]
    }
   ],
   "source": [
    "BATCH_SIZE = 64\n",
    "start_token = tf.argmax(en_vocab == \"[START]\")\n",
    "end_token = tf.argmax(es_vocab== \"[END]\")\n",
    "print(start_token)\n",
    "print(end_token)"
   ]
  },
  {
   "cell_type": "code",
   "execution_count": null,
   "metadata": {},
   "outputs": [],
   "source": [
    "def upstream(sentence:str,lang:Literal[\"en\",\"es\"]):\n",
    "    sentence = tf.convert_to_tensor(sentence)\n",
    "    sentence = tftext.normalize_utf8(sentence,\"NFKD\")\n",
    "    sentence = tf.strings.lower(sentence)\n",
    "    sentence = tf.strings.regex_replace(sentence,r\"[^ a-z,.?!¿]\",\"\")\n",
    "    sentence = tf.strings.regex_replace(sentence,r\"[,.?!¿]\",r\" \\0 \")\n",
    "    sentence = tf.strings.strip(sentence)\n",
    "    if lang == \"en\":\n",
    "        tokens = en_tokenizer.tokenize(sentence)\n",
    "    else:\n",
    "        tokens = es_tokenizer.tokenize(sentence)\n"
   ]
  }
 ],
 "metadata": {
  "kernelspec": {
   "display_name": "Python 3",
   "language": "python",
   "name": "python3"
  },
  "language_info": {
   "codemirror_mode": {
    "name": "ipython",
    "version": 3
   },
   "file_extension": ".py",
   "mimetype": "text/x-python",
   "name": "python",
   "nbconvert_exporter": "python",
   "pygments_lexer": "ipython3",
   "version": "3.8.10"
  },
  "orig_nbformat": 4
 },
 "nbformat": 4,
 "nbformat_minor": 2
}
