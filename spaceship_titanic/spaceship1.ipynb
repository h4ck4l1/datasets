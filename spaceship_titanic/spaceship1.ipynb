{
 "cells": [
  {
   "cell_type": "code",
   "execution_count": 1,
   "metadata": {},
   "outputs": [
    {
     "name": "stdout",
     "output_type": "stream",
     "text": [
      "Bismillah Hirrahamaa Nirraheem\n"
     ]
    }
   ],
   "source": [
    "print(\"Bismillah Hirrahamaa Nirraheem\")"
   ]
  },
  {
   "cell_type": "code",
   "execution_count": 128,
   "metadata": {},
   "outputs": [],
   "source": [
    "import numpy as np\n",
    "import pandas as pd\n",
    "np.set_printoptions(suppress=True)\n",
    "import matplotlib.pyplot as plt\n",
    "import plotly.express as px\n",
    "import plotly.graph_objects as go\n",
    "import plotly.io as pio\n",
    "import sys\n",
    "pio.templates['mod'] = go.layout.Template(layout=dict(font=dict(family=\"Fira Code\",size=20)))\n",
    "pio.templates.default = \"plotly_dark+mod\"\n",
    "from sklearn.preprocessing import StandardScaler,MinMaxScaler,OrdinalEncoder,OneHotEncoder,RobustScaler\n",
    "from sklearn.model_selection import train_test_split,StratifiedShuffleSplit,GridSearchCV\n",
    "from sklearn.ensemble import GradientBoostingClassifier,AdaBoostClassifier,BaggingClassifier,RandomForestClassifier\n",
    "from sklearn.linear_model import LogisticRegression\n",
    "from sklearn.base import BaseEstimator,TransformerMixin\n",
    "from sklearn.experimental import enable_iterative_imputer\n",
    "from sklearn.impute import IterativeImputer\n",
    "from sklearn.impute import SimpleImputer\n",
    "import xgboost as xgb\n",
    "from sklearn.metrics import f1_score,confusion_matrix,roc_auc_score,roc_curve,accuracy_score\n",
    "from sklearn.compose import ColumnTransformer\n",
    "from sklearn.pipeline import Pipeline\n",
    "from missingno import matrix\n",
    "from zipfile import ZipFile\n",
    "from IPython.display import clear_output\n",
    "import shutil\n",
    "from IPython.display import clear_output\n",
    "if \"google.colab\" in sys.modules:\n",
    "    from google.colab import drive\n",
    "    drive.mount('/content/Drive')\n",
    "    !pip install miceforest\n",
    "    import miceforest as mf\n",
    "else:\n",
    "    import miceforest as mf\n",
    "\n",
    "clear_output()"
   ]
  },
  {
   "cell_type": "code",
   "execution_count": 3,
   "metadata": {},
   "outputs": [
    {
     "name": "stdout",
     "output_type": "stream",
     "text": [
      "Warning: Your Kaggle API key is readable by other users on this system! To fix this, you can run 'chmod 600 /home/sohail/.kaggle/kaggle.json'\n",
      "Downloading spaceship-titanic.zip to /home/sohail\n",
      "100%|█████████████████████████████████████████| 299k/299k [00:01<00:00, 292kB/s]\n",
      "100%|█████████████████████████████████████████| 299k/299k [00:01<00:00, 292kB/s]\n"
     ]
    }
   ],
   "source": [
    "if \"google.colab\" in sys.modules:\n",
    "    !mkdir ~/.kaggle\n",
    "    shutil.copy2('/content/Drive/MyDrive/kaggle.json','/root/.kaggle')\n",
    "    !kaggle competitions download -c spaceship-titanic\n",
    "    path = '/content/'\n",
    "else:\n",
    "    !kaggle competitions download -c spaceship-titanic\n",
    "    path = '/home/sohail/Downloads/'"
   ]
  },
  {
   "cell_type": "code",
   "execution_count": 4,
   "metadata": {},
   "outputs": [],
   "source": [
    "with ZipFile(file=path+'spaceship-titanic.zip',mode=\"r\") as file:\n",
    "    file.extractall(path+'spaceship-titanic-folder')"
   ]
  },
  {
   "cell_type": "code",
   "execution_count": 5,
   "metadata": {},
   "outputs": [],
   "source": [
    "train = pd.read_csv(path+'spaceship-titanic-folder/train.csv')\n",
    "test = pd.read_csv(path+'spaceship-titanic-folder/test.csv')\n",
    "sample = pd.read_csv(path+'spaceship-titanic-folder/sample_submission.csv')"
   ]
  },
  {
   "cell_type": "code",
   "execution_count": 6,
   "metadata": {},
   "outputs": [],
   "source": [
    "total = train.copy()"
   ]
  },
  {
   "cell_type": "markdown",
   "metadata": {},
   "source": [
    "# Table\n",
    "<font size=4>\n",
    "\n",
    "|SI.No|Name of Column|Description|\n",
    "|-----|--------------|-----------|\n",
    "|1|PassengerId|A unique Id for each passenger. Each Id takes the form gggg_pp where gggg indicates a group the passenger is travelling with and pp is their number within the group. People in a group are often family members, but not always.|\n",
    "|2|HomePlanet|The planet the passenger departed from, typically their planet of permanent residence|\n",
    "|3|CryoSleep|Indicates whether the passenger elected to be put into suspended animation for the duration of the voyage. Passengers in cryosleep are confined to their cabins|\n",
    "|4|Cabin|The cabin number where the passenger is staying. Takes the form deck/num/side, where side can be either P for Port or S for Starboard.|\n",
    "|5|Destination|The planet the passenger will be debarking to|\n",
    "|6|Age|The age of the passenger|\n",
    "|7|VIP|Whether the passenger has paid for special VIP service during the voyage|\n",
    "|8|RoomService, FoodCourt, ShoppingMall, Spa, VRDeck|Amount the passenger has billed at each of the Spaceship Titanic's many luxury amenities|\n",
    "|9|Name|The first and last names of the passenger|\n",
    "|10|Transported| Whether the passenger was transported to another dimension. This is the target, the column you are trying to predict|\n",
    "\n",
    "</font>"
   ]
  },
  {
   "cell_type": "markdown",
   "metadata": {},
   "source": [
    "# Preprocessing"
   ]
  },
  {
   "cell_type": "markdown",
   "metadata": {},
   "source": [
    "## Filling Nan's"
   ]
  },
  {
   "cell_type": "markdown",
   "metadata": {},
   "source": [
    "as you can see there are quite a bit of Null values which need to be filled, we can apply some stratergies as we will see below"
   ]
  },
  {
   "cell_type": "code",
   "execution_count": 7,
   "metadata": {},
   "outputs": [],
   "source": [
    "def preprocess_1(data:pd.DataFrame):\n",
    "    df = data.copy()\n",
    "    df[['CryoSleep','VIP']] = df[['CryoSleep','VIP']].astype(np.float32)\n",
    "    df[['Group','Within']] = df.PassengerId.str.split('_',expand=True).astype(np.float32)\n",
    "    df = df[df.columns[-2:].to_list()+df.columns[1:-2].to_list()]\n",
    "    df[['deck','num','side']] = df.Cabin.str.split('/',expand=True)\n",
    "    df = df[df.columns[:4].to_list() + df.columns[-3:].to_list() + df.columns[5:-3].to_list()]\n",
    "    df['num'] = df['num'].astype(np.float32)\n",
    "    df[['First','Last']] = df.Name.str.split(' ',expand=True)\n",
    "    df = df[df.columns[:2].to_list() + df.columns[-2:].to_list() + df.columns[2:-2].to_list()]\n",
    "    df.drop('Name',axis=1,inplace=True)\n",
    "    return df.infer_objects()"
   ]
  },
  {
   "cell_type": "code",
   "execution_count": 8,
   "metadata": {},
   "outputs": [],
   "source": [
    "total_train = preprocess_1(train)\n",
    "total_test = preprocess_1(test)"
   ]
  },
  {
   "cell_type": "code",
   "execution_count": 9,
   "metadata": {},
   "outputs": [],
   "source": [
    "total_df = pd.concat([total_train,total_test])\n",
    "y_total = total_df[['Transported']].astype(np.float32).dropna()\n",
    "total_df.drop('Transported',axis=1,inplace=True)\n",
    "total_df.reset_index(inplace=True,drop=True)"
   ]
  },
  {
   "cell_type": "code",
   "execution_count": 10,
   "metadata": {},
   "outputs": [],
   "source": [
    "num_cols = ['Group','Within','num','Age','RoomService','FoodCourt','ShoppingMall','Spa','VRDeck']\n",
    "cat_cols = ['HomePlanet','CryoSleep','deck','side','Destination','VIP']\n",
    "last_cols = ['RoomService','FoodCourt','ShoppingMall','Spa','VRDeck']\n",
    "all_cats = []\n",
    "for col in cat_cols:\n",
    "    all_cats += total_df[col].dropna().unique().tolist()"
   ]
  },
  {
   "cell_type": "markdown",
   "metadata": {},
   "source": [
    "- Group, Within don't have any null values as they are from PassengerId column<br>\n",
    "<br>\n",
    "<font size=8>\n",
    "Strategy :\n",
    "</font>\n",
    "\n",
    "- The strategy is to first fill null values according to the first and last names of the passengers as they are the closest relations for null values\n",
    "- The First,Last columns also have null values so for the columns with null we will impute the most recurrent in terms of categorical column\n",
    "- Then Look for the best predictors for single na values and impute those\n",
    "- The impute the doubly filled columns with clustering/normal imputation\n"
   ]
  },
  {
   "cell_type": "markdown",
   "metadata": {},
   "source": [
    "Missing Values"
   ]
  },
  {
   "cell_type": "code",
   "execution_count": 11,
   "metadata": {},
   "outputs": [
    {
     "data": {
      "text/plain": [
       "<Axes: >"
      ]
     },
     "execution_count": 11,
     "metadata": {},
     "output_type": "execute_result"
    },
    {
     "data": {
      "image/png": "[encoded data removed]",
      "text/plain": [
       "<Figure size 2500x1000 with 2 Axes>"
      ]
     },
     "metadata": {},
     "output_type": "display_data"
    }
   ],
   "source": [
    "plt.style.use('dark_background')\n",
    "matrix(total_df,color=(99/250,110/250,1))"
   ]
  },
  {
   "cell_type": "code",
   "execution_count": 12,
   "metadata": {},
   "outputs": [
    {
     "name": "stdout",
     "output_type": "stream",
     "text": [
      "No NaN shape (9887, 17)\n",
      "any NaN shape (3083, 17)\n"
     ]
    }
   ],
   "source": [
    "total_no_na = total_df.dropna()\n",
    "total_na = total_df[total_df.isna().any(axis=1)]\n",
    "print(\"No NaN shape\",total_no_na.shape)\n",
    "print(\"any NaN shape\",total_na.shape)"
   ]
  },
  {
   "cell_type": "code",
   "execution_count": 13,
   "metadata": {},
   "outputs": [
    {
     "data": {
      "application/vnd.plotly.v1+json": {
       "config": {
        "plotlyServerURL": "https://plot.ly"
       },
       "data": [
        {
         "coloraxis": "coloraxis",
         "hovertemplate": "x: %{x}<br>y: %{y}<br>color: %{z}<extra></extra>",
         "name": "0",
         "type": "heatmap",
         "x": [
          "55 Cancri e",
          "A",
          "Age",
          "B",
          "C",
          "CryoSleep",
          "D",
          "E",
          "Earth",
          "Europa",
          "F",
          "FoodCourt",
          "G",
          "Group",
          "Mars",
          "P",
          "PSO J318.5-22",
          "RoomService",
          "S",
          "ShoppingMall",
          "Spa",
          "T",
          "TRAPPIST-1e",
          "VIP",
          "VRDeck",
          "Within",
          "num"
         ],
         "xaxis": "x",
         "y": [
          "55 Cancri e",
          "A",
          "Age",
          "B",
          "C",
          "CryoSleep",
          "D",
          "E",
          "Earth",
          "Europa",
          "F",
          "FoodCourt",
          "G",
          "Group",
          "Mars",
          "P",
          "PSO J318.5-22",
          "RoomService",
          "S",
          "ShoppingMall",
          "Spa",
          "T",
          "TRAPPIST-1e",
          "VIP",
          "VRDeck",
          "Within",
          "num"
         ],
         "yaxis": "y",
         "z": [
          [
           0,
           0.09988080203041222,
           0.026463052306167745,
           0.19004917331222287,
           0.16681310099635663,
           0.06712503169023967,
           0.024509072272446277,
           -0.07045166532814179,
           -0.16185596608037064,
           0.3015172660233076,
           -0.12057267394112332,
           0.056171567408027256,
           -0.10079621842854743,
           0.0026632558592122038,
           -0.1217609016722028,
           -0.011732835918719915,
           -0.16451754894568688,
           -0.08558546213509342,
           0.011732835918719915,
           -0.08749258796108748,
           0.019483450949887755,
           -0.00426920624330524,
           -0.78008071077965,
           0.03759563439961202,
           0.03003955817611341,
           0.06842155645798305,
           -0.158453394463213
          ],
          [
           0.09988080203041222,
           0,
           0.09217850660343167,
           -0.05478648933047937,
           -0.05324910932856524,
           -0.026403057183745852,
           -0.042456600531032056,
           -0.058676774759057165,
           -0.18587228274441123,
           0.29840611516968846,
           -0.12199886254383838,
           0.12745718500502246,
           -0.11108964331596961,
           0.007897973480661426,
           -0.08917091998179216,
           -0.01173938566422893,
           -0.05105527958141952,
           -0.04294354571148624,
           0.01173938566422893,
           -0.05405157176073681,
           0.098949393337777,
           -0.004577477869369538,
           -0.05595286839111378,
           0.13416356734620846,
           0.11028512343739516,
           0.04625939299246743,
           -0.24800146262424383
          ],
          [
           0.026463052306167745,
           0.09217850660343167,
           0,
           0.10416702218700077,
           0.1454105358781447,
           -0.07996977823693927,
           0.08867521197687724,
           0.042738955307730316,
           -0.23533878879888961,
           0.24438180054180966,
           -0.03797918453750654,
           0.19448485366284682,
           -0.22578308389118892,
           -0.004713410763019232,
           0.028363763213979962,
           -0.014761244449063165,
           -0.0381517548846275,
           0.11550384615815107,
           0.014761244449063165,
           0.09900756767537552,
           0.19939409279886527,
           0.019727318341903177,
           0.0007955758449538926,
           0.09881289082108886,
           0.17765690989670646,
           -0.13032150051176378,
           -0.1639647726107976
          ],
          [
           0.19004917331222287,
           -0.05478648933047937,
           0.10416702218700077,
           0,
           -0.09864484821167312,
           0.11670972903173886,
           -0.07865154868835705,
           -0.10869968742468136,
           -0.34433145172333846,
           0.5528022216243537,
           -0.22600489340350008,
           0.0708559087831939,
           -0.2057953858941662,
           -0.01682001707372866,
           -0.16519059149371398,
           -0.030290863476245603,
           -0.09628136917267717,
           -0.14426395395687486,
           0.030290863476245603,
           -0.13776855579629138,
           0.023500767139886775,
           -0.008479852814627679,
           -0.10701327954653549,
           0.07759587307318902,
           0.04285745497803219,
           0.10683064456910783,
           -0.2906599312028803
          ],
          [
           0.16681310099635663,
           -0.05324910932856524,
           0.1454105358781447,
           -0.09864484821167312,
           0,
           0.04521749515239633,
           -0.07644448414469436,
           -0.10564943310645018,
           -0.3346690642555761,
           0.5372898737640541,
           -0.21966290274669092,
           0.17043194065157452,
           -0.20002050024943344,
           -0.00029611650945632166,
           -0.16055512908372316,
           -0.010395218925322941,
           -0.07728140526943317,
           -0.10672272212104907,
           0.010395218925322941,
           -0.09569344620887792,
           0.1075525336641098,
           -0.008241897138042083,
           -0.09851451480342222,
           0.05764441766312374,
           0.13456787259230055,
           0.10212265803294153,
           -0.28201481490619545
          ],
          [
           0.06712503169023967,
           -0.026403057183745852,
           -0.07996977823693927,
           0.11670972903173886,
           0.04521749515239633,
           0,
           -0.0705259179827793,
           -0.11658654021680559,
           -0.1144721772790555,
           0.10207426986052226,
           -0.23181577568938636,
           -0.540583465633808,
           0.2629489174945033,
           -0.004053767888614591,
           0.03157822184208992,
           -0.00956176039550399,
           0.09230605465530867,
           -0.5288325787537629,
           0.00956176039550399,
           -0.5245604891598041,
           -0.5590737250699979,
           -0.019913700789331665,
           -0.11791968481306199,
           -0.08141126374261726,
           -0.534708897051677,
           0.07484465848145505,
           -0.027822700018095
          ],
          [
           0.024509072272446277,
           -0.042456600531032056,
           0.08867521197687724,
           -0.07865154868835705,
           -0.07644448414469436,
           -0.0705259179827793,
           0,
           -0.0842364470371397,
           -0.26683846829285807,
           0.09784558817782675,
           -0.17514171093187156,
           0.042075315880203926,
           -0.1594804229439345,
           -0.011479283103160147,
           0.22191930162500556,
           0.009227118407957549,
           -0.05985544454725714,
           0.158948074678363,
           -0.009227118407957549,
           0.1198148638742457,
           0.05859515765199861,
           -0.006571432627136816,
           0.016290879099926714,
           0.06589360291978535,
           0.02650492981029464,
           0.008784388570183453,
           -0.24765079447957575
          ],
          [
           -0.07045166532814179,
           -0.058676774759057165,
           0.042738955307730316,
           -0.10869968742468136,
           -0.10564943310645018,
           -0.11658654021680559,
           -0.0842364470371397,
           0,
           -0.059411532289134275,
           -0.07500286927205528,
           -0.24205307525160724,
           0.020014045255315974,
           -0.2204085286743739,
           0.0029025665611215577,
           0.151875096691554,
           -0.009766733505180158,
           -0.05611370596263582,
           0.09778615080895496,
           0.009766733505180158,
           0.10322675176190703,
           0.043686037207486414,
           -0.0090819911929829,
           0.09790427979672732,
           -0.002111823955096845,
           0.029429714091766136,
           -0.054617099690591406,
           -0.15723071921245466
          ],
          [
           -0.16185596608037064,
           -0.18587228274441123,
           -0.23533878879888961,
           -0.34433145172333846,
           -0.3346690642555761,
           -0.1144721772790555,
           -0.26683846829285807,
           -0.059411532289134275,
           0,
           -0.6228836250179225,
           0.07163342855092078,
           -0.05445515614853644,
           0.5976665357294099,
           0.022933733952118538,
           -0.5604365730321469,
           0.012586197992678927,
           0.24548084913424822,
           -0.03190436773941271,
           -0.012586197992678927,
           0.015250949634791396,
           -0.05300118747579432,
           -0.02876931190979957,
           -0.012562382632268774,
           -0.16305135346654245,
           -0.008016054385355843,
           -0.15027591735088802,
           0.428146058983845
          ],
          [
           0.3015172660233076,
           0.29840611516968846,
           0.24438180054180966,
           0.5528022216243537,
           0.5372898737640541,
           0.10207426986052226,
           0.09784558817782675,
           -0.07500286927205528,
           -0.6228836250179225,
           0,
           -0.4088349948005047,
           0.2708665103792129,
           -0.3722766983270386,
           -0.007812284538021644,
           -0.2988240369373301,
           -0.029999717401574526,
           -0.16495601822765474,
           -0.21419716603128844,
           0.029999717401574526,
           -0.20083955253379604,
           0.1664465205743088,
           0.046187298484483,
           -0.1620380311261295,
           0.14606113352407898,
           0.20614264339670965,
           0.16086118732688473,
           -0.5480798624766953
          ],
          [
           -0.12057267394112332,
           -0.12199886254383838,
           -0.03797918453750654,
           -0.22600489340350008,
           -0.21966290274669092,
           -0.23181577568938636,
           -0.17514171093187156,
           -0.24205307525160724,
           0.07163342855092078,
           -0.4088349948005047,
           0,
           0.002784329904714792,
           -0.4582663226404414,
           -0.0022352116844528464,
           0.34543100688387746,
           0.022819093442753124,
           -0.017921990423160387,
           0.24462539935790556,
           -0.022819093442753124,
           0.2351161462879592,
           0.053363945169495594,
           -0.018882983935752967,
           0.11800734740809263,
           -0.06633485742439643,
           0.0311938810190069,
           -0.10945528904202925,
           0.42047777439028755
          ],
          [
           0.056171567408027256,
           0.12745718500502246,
           0.19448485366284682,
           0.0708559087831939,
           0.17043194065157452,
           -0.540583465633808,
           0.042075315880203926,
           0.020014045255315974,
           -0.05445515614853644,
           0.2708665103792129,
           0.002784329904714792,
           0,
           -0.237827092895083,
           0.007118072386540045,
           -0.2203256110228635,
           0.00019854799985995715,
           -0.074435829282849,
           0.17779672891248396,
           -0.00019854799985995715,
           0.18444854906165004,
           0.471480585898612,
           0.04655227389677527,
           -0.0024639693178345637,
           0.11555042028335318,
           0.5081289986516089,
           -0.03633319437483589,
           -0.14030944158729247
          ],
          [
           -0.10079621842854743,
           -0.11108964331596961,
           -0.22578308389118892,
           -0.2057953858941662,
           -0.20002050024943344,
           0.2629489174945033,
           -0.1594804229439345,
           -0.2204085286743739,
           0.5976665357294099,
           -0.3722766983270386,
           -0.4582663226404414,
           -0.237827092895083,
           0,
           0.0147824595200764,
           -0.3349541851001857,
           0.008386945254926632,
           0.21495558344542767,
           -0.22587828704813245,
           -0.008386945254926632,
           -0.2070290053846747,
           -0.23462345432301843,
           -0.01719445498444876,
           -0.04720308314745924,
           -0.09745033757233992,
           -0.21870427411910148,
           -0.0025868923483143287,
           0.2493300416410436
          ],
          [
           0.0026632558592122038,
           0.007897973480661426,
           -0.004713410763019232,
           -0.01682001707372866,
           -0.00029611650945632166,
           -0.004053767888614591,
           -0.011479283103160147,
           0.0029025665611215577,
           0.022933733952118538,
           -0.007812284538021644,
           -0.0022352116844528464,
           0.007118072386540045,
           0.0147824595200764,
           0,
           -0.01970529438156663,
           0.00713079836162187,
           0.020673920470227765,
           -0.007806766151511626,
           -0.00713079836162187,
           -0.00410975066579111,
           0.00217696970153455,
           -0.01012939711436345,
           -0.015469408293960409,
           0.014154748367760341,
           -0.002252174438726454,
           -0.0004243719418952867,
           0.6955681013703241
          ],
          [
           -0.1217609016722028,
           -0.08917091998179216,
           0.028363763213979962,
           -0.16519059149371398,
           -0.16055512908372316,
           0.03157822184208992,
           0.22191930162500556,
           0.151875096691554,
           -0.5604365730321469,
           -0.2988240369373301,
           0.34543100688387746,
           -0.2203256110228635,
           -0.3349541851001857,
           -0.01970529438156663,
           0,
           0.01640590063950079,
           -0.12481969383730024,
           0.26567847508091486,
           -0.01640590063950079,
           0.19401490898436569,
           -0.11155500341969542,
           -0.013801874988362639,
           0.1868658337280307,
           0.04427094787752334,
           -0.20845453108125295,
           0.013018722761486705,
           0.05794981579085901
          ],
          [
           -0.011732835918719915,
           -0.01173938566422893,
           -0.014761244449063165,
           -0.030290863476245603,
           -0.010395218925322941,
           -0.00956176039550399,
           0.009227118407957549,
           -0.009766733505180158,
           0.012586197992678927,
           -0.029999717401574526,
           0.022819093442753124,
           0.00019854799985995715,
           0.008386945254926632,
           0.00713079836162187,
           0.01640590063950079,
           0,
           0.010600336098598553,
           0.022889497624142583,
           -1,
           0.01699769039419365,
           -0.00989363819281773,
           -0.0035576899946472263,
           0.003652936699152515,
           0.010988945356712989,
           0.002423576180261764,
           -0.01013889895987189,
           0.023790804565573448
          ],
          [
           -0.16451754894568688,
           -0.05105527958141952,
           -0.0381517548846275,
           -0.09628136917267717,
           -0.07728140526943317,
           0.09230605465530867,
           -0.05985544454725714,
           -0.05611370596263582,
           0.24548084913424822,
           -0.16495601822765474,
           -0.017921990423160387,
           -0.074435829282849,
           0.21495558344542767,
           0.020673920470227765,
           -0.12481969383730024,
           0.010600336098598553,
           0,
           -0.05923340028445856,
           -0.010600336098598553,
           -0.03780438502515148,
           -0.06783926839035688,
           -0.008546333480477963,
           -0.4888165295704272,
           -0.003675882291191117,
           -0.056914726595038545,
           -0.06396424107605773,
           0.12633757360928824
          ],
          [
           -0.08558546213509342,
           -0.04294354571148624,
           0.11550384615815107,
           -0.14426395395687486,
           -0.10672272212104907,
           -0.5288325787537629,
           0.158948074678363,
           0.09778615080895496,
           -0.03190436773941271,
           -0.21419716603128844,
           0.24462539935790556,
           0.17779672891248396,
           -0.22587828704813245,
           -0.007806766151511626,
           0.26567847508091486,
           0.022889497624142583,
           -0.05923340028445856,
           0,
           -0.022889497624142583,
           0.4429666837797262,
           0.2472988746487773,
           -0.011685122534256865,
           0.11326807307189478,
           0.04980487903561347,
           0.18063324146108894,
           -0.1049259804674876,
           0.05357221998327439
          ],
          [
           0.011732835918719915,
           0.01173938566422893,
           0.014761244449063165,
           0.030290863476245603,
           0.010395218925322941,
           0.00956176039550399,
           -0.009227118407957549,
           0.009766733505180158,
           -0.012586197992678927,
           0.029999717401574526,
           -0.022819093442753124,
           -0.00019854799985995715,
           -0.008386945254926632,
           -0.00713079836162187,
           -0.01640590063950079,
           -1,
           -0.010600336098598553,
           -0.022889497624142583,
           0,
           -0.01699769039419365,
           0.00989363819281773,
           0.0035576899946472263,
           -0.003652936699152515,
           -0.010988945356712989,
           -0.002423576180261764,
           0.01013889895987189,
           -0.023790804565573448
          ],
          [
           -0.08749258796108748,
           -0.05405157176073681,
           0.09900756767537552,
           -0.13776855579629138,
           -0.09569344620887792,
           -0.5245604891598041,
           0.1198148638742457,
           0.10322675176190703,
           0.015250949634791396,
           -0.20083955253379604,
           0.2351161462879592,
           0.18444854906165004,
           -0.2070290053846747,
           -0.00410975066579111,
           0.19401490898436569,
           0.01699769039419365,
           -0.03780438502515148,
           0.4429666837797262,
           -0.01699769039419365,
           0,
           0.25958437387092326,
           -0.004155938247000756,
           0.1013619099161148,
           0.05018422932815543,
           0.19498937085164825,
           -0.11045318898997462,
           0.05900628804499217
          ],
          [
           0.019483450949887755,
           0.098949393337777,
           0.19939409279886527,
           0.023500767139886775,
           0.1075525336641098,
           -0.5590737250699979,
           0.05859515765199861,
           0.043686037207486414,
           -0.05300118747579432,
           0.1664465205743088,
           0.053363945169495594,
           0.471480585898612,
           -0.23462345432301843,
           0.00217696970153455,
           -0.11155500341969542,
           -0.00989363819281773,
           -0.06783926839035688,
           0.2472988746487773,
           0.00989363819281773,
           0.25958437387092326,
           0,
           0.03964653970162755,
           0.025800044369982386,
           0.09305663167117063,
           0.4416199582721204,
           -0.05500581485909502,
           -0.09947068492916786
          ],
          [
           -0.00426920624330524,
           -0.004577477869369538,
           0.019727318341903177,
           -0.008479852814627679,
           -0.008241897138042083,
           -0.019913700789331665,
           -0.006571432627136816,
           -0.0090819911929829,
           -0.02876931190979957,
           0.046187298484483,
           -0.018882983935752967,
           0.04655227389677527,
           -0.01719445498444876,
           -0.01012939711436345,
           -0.013801874988362639,
           -0.0035576899946472263,
           -0.008546333480477963,
           -0.011685122534256865,
           0.0035576899946472263,
           -0.004155938247000756,
           0.03964653970162755,
           0,
           0.009196975442751073,
           -0.00401546670134867,
           0.03611296528656677,
           0.000038695781798975555,
           -0.045712209348614787
          ],
          [
           -0.78008071077965,
           -0.05595286839111378,
           0.0007955758449538926,
           -0.10701327954653549,
           -0.09851451480342222,
           -0.11791968481306199,
           0.016290879099926714,
           0.09790427979672732,
           -0.012562382632268774,
           -0.1620380311261295,
           0.11800734740809263,
           -0.0024639693178345637,
           -0.04720308314745924,
           -0.015469408293960409,
           0.1868658337280307,
           0.003652936699152515,
           -0.4888165295704272,
           0.11326807307189478,
           -0.003652936699152515,
           0.1013619099161148,
           0.025800044369982386,
           0.009196975442751073,
           0,
           -0.030919307784046696,
           0.009534145879033189,
           -0.019940682503027368,
           0.0600034637844179
          ],
          [
           0.03759563439961202,
           0.13416356734620846,
           0.09881289082108886,
           0.07759587307318902,
           0.05764441766312374,
           -0.08141126374261726,
           0.06589360291978535,
           -0.002111823955096845,
           -0.16305135346654245,
           0.14606113352407898,
           -0.06633485742439643,
           0.11555042028335318,
           -0.09745033757233992,
           0.014154748367760341,
           0.04427094787752334,
           0.010988945356712989,
           -0.003675882291191117,
           0.04980487903561347,
           -0.010988945356712989,
           0.05018422932815543,
           0.09305663167117063,
           -0.00401546670134867,
           -0.030919307784046696,
           0,
           0.0994695143305025,
           0.010526232875942204,
           -0.1102002855639216
          ],
          [
           0.03003955817611341,
           0.11028512343739516,
           0.17765690989670646,
           0.04285745497803219,
           0.13456787259230055,
           -0.534708897051677,
           0.02650492981029464,
           0.029429714091766136,
           -0.008016054385355843,
           0.20614264339670965,
           0.0311938810190069,
           0.5081289986516089,
           -0.21870427411910148,
           -0.002252174438726454,
           -0.20845453108125295,
           0.002423576180261764,
           -0.056914726595038545,
           0.18063324146108894,
           -0.002423576180261764,
           0.19498937085164825,
           0.4416199582721204,
           0.03611296528656677,
           0.009534145879033189,
           0.0994695143305025,
           0,
           -0.05095596334118958,
           -0.11205530849982463
          ],
          [
           0.06842155645798305,
           0.04625939299246743,
           -0.13032150051176378,
           0.10683064456910783,
           0.10212265803294153,
           0.07484465848145505,
           0.008784388570183453,
           -0.054617099690591406,
           -0.15027591735088802,
           0.16086118732688473,
           -0.10945528904202925,
           -0.03633319437483589,
           -0.0025868923483143287,
           -0.0004243719418952867,
           0.013018722761486705,
           -0.01013889895987189,
           -0.06396424107605773,
           -0.1049259804674876,
           0.01013889895987189,
           -0.11045318898997462,
           -0.05500581485909502,
           0.000038695781798975555,
           -0.019940682503027368,
           0.010526232875942204,
           -0.05095596334118958,
           0,
           -0.08825812991606916
          ],
          [
           -0.158453394463213,
           -0.24800146262424383,
           -0.1639647726107976,
           -0.2906599312028803,
           -0.28201481490619545,
           -0.027822700018095,
           -0.24765079447957575,
           -0.15723071921245466,
           0.428146058983845,
           -0.5480798624766953,
           0.42047777439028755,
           -0.14030944158729247,
           0.2493300416410436,
           0.6955681013703241,
           0.05794981579085901,
           0.023790804565573448,
           0.12633757360928824,
           0.05357221998327439,
           -0.023790804565573448,
           0.05900628804499217,
           -0.09947068492916786,
           -0.045712209348614787,
           0.0600034637844179,
           -0.1102002855639216,
           -0.11205530849982463,
           -0.08825812991606916,
           0
          ]
         ]
        }
       ],
       "layout": {
        "coloraxis": {
         "colorscale": [
          [
           0,
           "#0d0887"
          ],
          [
           0.1111111111111111,
           "#46039f"
          ],
          [
           0.2222222222222222,
           "#7201a8"
          ],
          [
           0.3333333333333333,
           "#9c179e"
          ],
          [
           0.4444444444444444,
           "#bd3786"
          ],
          [
           0.5555555555555556,
           "#d8576b"
          ],
          [
           0.6666666666666666,
           "#ed7953"
          ],
          [
           0.7777777777777778,
           "#fb9f3a"
          ],
          [
           0.8888888888888888,
           "#fdca26"
          ],
          [
           1,
           "#f0f921"
          ]
         ]
        },
        "height": 1000,
        "margin": {
         "t": 60
        },
        "template": {
         "data": {
          "bar": [
           {
            "error_x": {
             "color": "#f2f5fa"
            },
            "error_y": {
             "color": "#f2f5fa"
            },
            "marker": {
             "line": {
              "color": "rgb(17,17,17)",
              "width": 0.5
             },
             "pattern": {
              "fillmode": "overlay",
              "size": 10,
              "solidity": 0.2
             }
            },
            "type": "bar"
           }
          ],
          "barpolar": [
           {
            "marker": {
             "line": {
              "color": "rgb(17,17,17)",
              "width": 0.5
             },
             "pattern": {
              "fillmode": "overlay",
              "size": 10,
              "solidity": 0.2
             }
            },
            "type": "barpolar"
           }
          ],
          "carpet": [
           {
            "aaxis": {
             "endlinecolor": "#A2B1C6",
             "gridcolor": "#506784",
             "linecolor": "#506784",
             "minorgridcolor": "#506784",
             "startlinecolor": "#A2B1C6"
            },
            "baxis": {
             "endlinecolor": "#A2B1C6",
             "gridcolor": "#506784",
             "linecolor": "#506784",
             "minorgridcolor": "#506784",
             "startlinecolor": "#A2B1C6"
            },
            "type": "carpet"
           }
          ],
          "choropleth": [
           {
            "colorbar": {
             "outlinewidth": 0,
             "ticks": ""
            },
            "type": "choropleth"
           }
          ],
          "contour": [
           {
            "colorbar": {
             "outlinewidth": 0,
             "ticks": ""
            },
            "colorscale": [
             [
              0,
              "#0d0887"
             ],
             [
              0.1111111111111111,
              "#46039f"
             ],
             [
              0.2222222222222222,
              "#7201a8"
             ],
             [
              0.3333333333333333,
              "#9c179e"
             ],
             [
              0.4444444444444444,
              "#bd3786"
             ],
             [
              0.5555555555555556,
              "#d8576b"
             ],
             [
              0.6666666666666666,
              "#ed7953"
             ],
             [
              0.7777777777777778,
              "#fb9f3a"
             ],
             [
              0.8888888888888888,
              "#fdca26"
             ],
             [
              1,
              "#f0f921"
             ]
            ],
            "type": "contour"
           }
          ],
          "contourcarpet": [
           {
            "colorbar": {
             "outlinewidth": 0,
             "ticks": ""
            },
            "type": "contourcarpet"
           }
          ],
          "heatmap": [
           {
            "colorbar": {
             "outlinewidth": 0,
             "ticks": ""
            },
            "colorscale": [
             [
              0,
              "#0d0887"
             ],
             [
              0.1111111111111111,
              "#46039f"
             ],
             [
              0.2222222222222222,
              "#7201a8"
             ],
             [
              0.3333333333333333,
              "#9c179e"
             ],
             [
              0.4444444444444444,
              "#bd3786"
             ],
             [
              0.5555555555555556,
              "#d8576b"
             ],
             [
              0.6666666666666666,
              "#ed7953"
             ],
             [
              0.7777777777777778,
              "#fb9f3a"
             ],
             [
              0.8888888888888888,
              "#fdca26"
             ],
             [
              1,
              "#f0f921"
             ]
            ],
            "type": "heatmap"
           }
          ],
          "heatmapgl": [
           {
            "colorbar": {
             "outlinewidth": 0,
             "ticks": ""
            },
            "colorscale": [
             [
              0,
              "#0d0887"
             ],
             [
              0.1111111111111111,
              "#46039f"
             ],
             [
              0.2222222222222222,
              "#7201a8"
             ],
             [
              0.3333333333333333,
              "#9c179e"
             ],
             [
              0.4444444444444444,
              "#bd3786"
             ],
             [
              0.5555555555555556,
              "#d8576b"
             ],
             [
              0.6666666666666666,
              "#ed7953"
             ],
             [
              0.7777777777777778,
              "#fb9f3a"
             ],
             [
              0.8888888888888888,
              "#fdca26"
             ],
             [
              1,
              "#f0f921"
             ]
            ],
            "type": "heatmapgl"
           }
          ],
          "histogram": [
           {
            "marker": {
             "pattern": {
              "fillmode": "overlay",
              "size": 10,
              "solidity": 0.2
             }
            },
            "type": "histogram"
           }
          ],
          "histogram2d": [
           {
            "colorbar": {
             "outlinewidth": 0,
             "ticks": ""
            },
            "colorscale": [
             [
              0,
              "#0d0887"
             ],
             [
              0.1111111111111111,
              "#46039f"
             ],
             [
              0.2222222222222222,
              "#7201a8"
             ],
             [
              0.3333333333333333,
              "#9c179e"
             ],
             [
              0.4444444444444444,
              "#bd3786"
             ],
             [
              0.5555555555555556,
              "#d8576b"
             ],
             [
              0.6666666666666666,
              "#ed7953"
             ],
             [
              0.7777777777777778,
              "#fb9f3a"
             ],
             [
              0.8888888888888888,
              "#fdca26"
             ],
             [
              1,
              "#f0f921"
             ]
            ],
            "type": "histogram2d"
           }
          ],
          "histogram2dcontour": [
           {
            "colorbar": {
             "outlinewidth": 0,
             "ticks": ""
            },
            "colorscale": [
             [
              0,
              "#0d0887"
             ],
             [
              0.1111111111111111,
              "#46039f"
             ],
             [
              0.2222222222222222,
              "#7201a8"
             ],
             [
              0.3333333333333333,
              "#9c179e"
             ],
             [
              0.4444444444444444,
              "#bd3786"
             ],
             [
              0.5555555555555556,
              "#d8576b"
             ],
             [
              0.6666666666666666,
              "#ed7953"
             ],
             [
              0.7777777777777778,
              "#fb9f3a"
             ],
             [
              0.8888888888888888,
              "#fdca26"
             ],
             [
              1,
              "#f0f921"
             ]
            ],
            "type": "histogram2dcontour"
           }
          ],
          "mesh3d": [
           {
            "colorbar": {
             "outlinewidth": 0,
             "ticks": ""
            },
            "type": "mesh3d"
           }
          ],
          "parcoords": [
           {
            "line": {
             "colorbar": {
              "outlinewidth": 0,
              "ticks": ""
             }
            },
            "type": "parcoords"
           }
          ],
          "pie": [
           {
            "automargin": true,
            "type": "pie"
           }
          ],
          "scatter": [
           {
            "marker": {
             "line": {
              "color": "#283442"
             }
            },
            "type": "scatter"
           }
          ],
          "scatter3d": [
           {
            "line": {
             "colorbar": {
              "outlinewidth": 0,
              "ticks": ""
             }
            },
            "marker": {
             "colorbar": {
              "outlinewidth": 0,
              "ticks": ""
             }
            },
            "type": "scatter3d"
           }
          ],
          "scattercarpet": [
           {
            "marker": {
             "colorbar": {
              "outlinewidth": 0,
              "ticks": ""
             }
            },
            "type": "scattercarpet"
           }
          ],
          "scattergeo": [
           {
            "marker": {
             "colorbar": {
              "outlinewidth": 0,
              "ticks": ""
             }
            },
            "type": "scattergeo"
           }
          ],
          "scattergl": [
           {
            "marker": {
             "line": {
              "color": "#283442"
             }
            },
            "type": "scattergl"
           }
          ],
          "scattermapbox": [
           {
            "marker": {
             "colorbar": {
              "outlinewidth": 0,
              "ticks": ""
             }
            },
            "type": "scattermapbox"
           }
          ],
          "scatterpolar": [
           {
            "marker": {
             "colorbar": {
              "outlinewidth": 0,
              "ticks": ""
             }
            },
            "type": "scatterpolar"
           }
          ],
          "scatterpolargl": [
           {
            "marker": {
             "colorbar": {
              "outlinewidth": 0,
              "ticks": ""
             }
            },
            "type": "scatterpolargl"
           }
          ],
          "scatterternary": [
           {
            "marker": {
             "colorbar": {
              "outlinewidth": 0,
              "ticks": ""
             }
            },
            "type": "scatterternary"
           }
          ],
          "surface": [
           {
            "colorbar": {
             "outlinewidth": 0,
             "ticks": ""
            },
            "colorscale": [
             [
              0,
              "#0d0887"
             ],
             [
              0.1111111111111111,
              "#46039f"
             ],
             [
              0.2222222222222222,
              "#7201a8"
             ],
             [
              0.3333333333333333,
              "#9c179e"
             ],
             [
              0.4444444444444444,
              "#bd3786"
             ],
             [
              0.5555555555555556,
              "#d8576b"
             ],
             [
              0.6666666666666666,
              "#ed7953"
             ],
             [
              0.7777777777777778,
              "#fb9f3a"
             ],
             [
              0.8888888888888888,
              "#fdca26"
             ],
             [
              1,
              "#f0f921"
             ]
            ],
            "type": "surface"
           }
          ],
          "table": [
           {
            "cells": {
             "fill": {
              "color": "#506784"
             },
             "line": {
              "color": "rgb(17,17,17)"
             }
            },
            "header": {
             "fill": {
              "color": "#2a3f5f"
             },
             "line": {
              "color": "rgb(17,17,17)"
             }
            },
            "type": "table"
           }
          ]
         },
         "layout": {
          "annotationdefaults": {
           "arrowcolor": "#f2f5fa",
           "arrowhead": 0,
           "arrowwidth": 1
          },
          "autotypenumbers": "strict",
          "coloraxis": {
           "colorbar": {
            "outlinewidth": 0,
            "ticks": ""
           }
          },
          "colorscale": {
           "diverging": [
            [
             0,
             "#8e0152"
            ],
            [
             0.1,
             "#c51b7d"
            ],
            [
             0.2,
             "#de77ae"
            ],
            [
             0.3,
             "#f1b6da"
            ],
            [
             0.4,
             "#fde0ef"
            ],
            [
             0.5,
             "#f7f7f7"
            ],
            [
             0.6,
             "#e6f5d0"
            ],
            [
             0.7,
             "#b8e186"
            ],
            [
             0.8,
             "#7fbc41"
            ],
            [
             0.9,
             "#4d9221"
            ],
            [
             1,
             "#276419"
            ]
           ],
           "sequential": [
            [
             0,
             "#0d0887"
            ],
            [
             0.1111111111111111,
             "#46039f"
            ],
            [
             0.2222222222222222,
             "#7201a8"
            ],
            [
             0.3333333333333333,
             "#9c179e"
            ],
            [
             0.4444444444444444,
             "#bd3786"
            ],
            [
             0.5555555555555556,
             "#d8576b"
            ],
            [
             0.6666666666666666,
             "#ed7953"
            ],
            [
             0.7777777777777778,
             "#fb9f3a"
            ],
            [
             0.8888888888888888,
             "#fdca26"
            ],
            [
             1,
             "#f0f921"
            ]
           ],
           "sequentialminus": [
            [
             0,
             "#0d0887"
            ],
            [
             0.1111111111111111,
             "#46039f"
            ],
            [
             0.2222222222222222,
             "#7201a8"
            ],
            [
             0.3333333333333333,
             "#9c179e"
            ],
            [
             0.4444444444444444,
             "#bd3786"
            ],
            [
             0.5555555555555556,
             "#d8576b"
            ],
            [
             0.6666666666666666,
             "#ed7953"
            ],
            [
             0.7777777777777778,
             "#fb9f3a"
            ],
            [
             0.8888888888888888,
             "#fdca26"
            ],
            [
             1,
             "#f0f921"
            ]
           ]
          },
          "colorway": [
           "#636efa",
           "#EF553B",
           "#00cc96",
           "#ab63fa",
           "#FFA15A",
           "#19d3f3",
           "#FF6692",
           "#B6E880",
           "#FF97FF",
           "#FECB52"
          ],
          "font": {
           "color": "#f2f5fa",
           "family": "Fira Code",
           "size": 20
          },
          "geo": {
           "bgcolor": "rgb(17,17,17)",
           "lakecolor": "rgb(17,17,17)",
           "landcolor": "rgb(17,17,17)",
           "showlakes": true,
           "showland": true,
           "subunitcolor": "#506784"
          },
          "hoverlabel": {
           "align": "left"
          },
          "hovermode": "closest",
          "mapbox": {
           "style": "dark"
          },
          "paper_bgcolor": "rgb(17,17,17)",
          "plot_bgcolor": "rgb(17,17,17)",
          "polar": {
           "angularaxis": {
            "gridcolor": "#506784",
            "linecolor": "#506784",
            "ticks": ""
           },
           "bgcolor": "rgb(17,17,17)",
           "radialaxis": {
            "gridcolor": "#506784",
            "linecolor": "#506784",
            "ticks": ""
           }
          },
          "scene": {
           "xaxis": {
            "backgroundcolor": "rgb(17,17,17)",
            "gridcolor": "#506784",
            "gridwidth": 2,
            "linecolor": "#506784",
            "showbackground": true,
            "ticks": "",
            "zerolinecolor": "#C8D4E3"
           },
           "yaxis": {
            "backgroundcolor": "rgb(17,17,17)",
            "gridcolor": "#506784",
            "gridwidth": 2,
            "linecolor": "#506784",
            "showbackground": true,
            "ticks": "",
            "zerolinecolor": "#C8D4E3"
           },
           "zaxis": {
            "backgroundcolor": "rgb(17,17,17)",
            "gridcolor": "#506784",
            "gridwidth": 2,
            "linecolor": "#506784",
            "showbackground": true,
            "ticks": "",
            "zerolinecolor": "#C8D4E3"
           }
          },
          "shapedefaults": {
           "line": {
            "color": "#f2f5fa"
           }
          },
          "sliderdefaults": {
           "bgcolor": "#C8D4E3",
           "bordercolor": "rgb(17,17,17)",
           "borderwidth": 1,
           "tickwidth": 0
          },
          "ternary": {
           "aaxis": {
            "gridcolor": "#506784",
            "linecolor": "#506784",
            "ticks": ""
           },
           "baxis": {
            "gridcolor": "#506784",
            "linecolor": "#506784",
            "ticks": ""
           },
           "bgcolor": "rgb(17,17,17)",
           "caxis": {
            "gridcolor": "#506784",
            "linecolor": "#506784",
            "ticks": ""
           }
          },
          "title": {
           "x": 0.05
          },
          "updatemenudefaults": {
           "bgcolor": "#506784",
           "borderwidth": 0
          },
          "xaxis": {
           "automargin": true,
           "gridcolor": "#283442",
           "linecolor": "#506784",
           "ticks": "",
           "title": {
            "standoff": 15
           },
           "zerolinecolor": "#283442",
           "zerolinewidth": 2
          },
          "yaxis": {
           "automargin": true,
           "gridcolor": "#283442",
           "linecolor": "#506784",
           "ticks": "",
           "title": {
            "standoff": 15
           },
           "zerolinecolor": "#283442",
           "zerolinewidth": 2
          }
         }
        },
        "width": 1800,
        "xaxis": {
         "anchor": "y",
         "constrain": "domain",
         "domain": [
          0,
          1
         ],
         "scaleanchor": "y",
         "tickangle": 30
        },
        "yaxis": {
         "anchor": "x",
         "autorange": "reversed",
         "constrain": "domain",
         "domain": [
          0,
          1
         ]
        }
       }
      }
     },
     "metadata": {},
     "output_type": "display_data"
    }
   ],
   "source": [
    "temp_df = pd.get_dummies(total_no_na,columns=['HomePlanet','deck','side','Destination'],prefix=\"\",prefix_sep=\"\",dtype=np.float32)\n",
    "temp_df = temp_df.loc[:,temp_df.columns.difference(['First','Last'])].corr(method='spearman')\n",
    "np.fill_diagonal(temp_df.to_numpy(),0)\n",
    "px.imshow(temp_df,height=1000,width=1800).update_xaxes(tickangle=30)"
   ]
  },
  {
   "cell_type": "markdown",
   "metadata": {},
   "source": [
    "filling the values with same First Name"
   ]
  },
  {
   "cell_type": "markdown",
   "metadata": {},
   "source": [
    "before filling "
   ]
  },
  {
   "cell_type": "code",
   "execution_count": 14,
   "metadata": {},
   "outputs": [
    {
     "name": "stdout",
     "output_type": "stream",
     "text": [
      "before filling :\n",
      "no of single vacant rows : 2274\n",
      "no of double vacant rows : 441\n",
      "no of triple vacant rows : 303\n"
     ]
    }
   ],
   "source": [
    "print(\"before filling :\")\n",
    "print(\"no of single vacant rows :\",total_df.loc[(total_df.isna().sum(axis=1) == 1)].shape[0])\n",
    "print(\"no of double vacant rows :\",total_df.loc[(total_df.isna().sum(axis=1) == 2)].shape[0])\n",
    "print(\"no of triple vacant rows :\",total_df.loc[(total_df.isna().sum(axis=1) == 3)].shape[0])"
   ]
  },
  {
   "cell_type": "code",
   "execution_count": 15,
   "metadata": {},
   "outputs": [],
   "source": [
    "for ind in total_na.index:\n",
    "    col = total_na.columns[total_na.loc[ind].isna()]\n",
    "    temp_df = total_no_na.query(f\"Group == {total_na.loc[ind,'Group']} and Last == '{total_na.loc[ind,'Last']}'\")\n",
    "    if temp_df.shape[0] != 0:\n",
    "        total_df.loc[ind,col] = temp_df.loc[temp_df.index[0],col]"
   ]
  },
  {
   "cell_type": "code",
   "execution_count": 16,
   "metadata": {},
   "outputs": [
    {
     "name": "stdout",
     "output_type": "stream",
     "text": [
      "after filling :\n",
      "no of single vacant rows : 1466\n",
      "no of double vacant rows : 364\n",
      "no of triple vacant rows : 214\n"
     ]
    }
   ],
   "source": [
    "print(\"after filling :\")\n",
    "print(\"no of single vacant rows :\",total_df.loc[(total_df.isna().sum(axis=1) == 1)].shape[0])\n",
    "print(\"no of double vacant rows :\",total_df.loc[(total_df.isna().sum(axis=1) == 2)].shape[0])\n",
    "print(\"no of triple vacant rows :\",total_df.loc[(total_df.isna().sum(axis=1) == 3)].shape[0])"
   ]
  },
  {
   "cell_type": "code",
   "execution_count": 17,
   "metadata": {},
   "outputs": [
    {
     "name": "stdout",
     "output_type": "stream",
     "text": [
      "No NaN shape (10880, 17)\n",
      "any NaN shape (2090, 17)\n"
     ]
    }
   ],
   "source": [
    "total_no_na = total_df.dropna()\n",
    "total_na = total_df[total_df.isna().any(axis=1)]\n",
    "print(\"No NaN shape\",total_no_na.shape)\n",
    "print(\"any NaN shape\",total_na.shape)"
   ]
  },
  {
   "cell_type": "code",
   "execution_count": 18,
   "metadata": {},
   "outputs": [
    {
     "data": {
      "application/vnd.plotly.v1+json": {
       "config": {
        "plotlyServerURL": "https://plot.ly"
       },
       "data": [
        {
         "coloraxis": "coloraxis",
         "hovertemplate": "x: %{x}<br>y: %{y}<br>color: %{z}<extra></extra>",
         "name": "0",
         "type": "heatmap",
         "x": [
          "Group",
          "Within",
          "CryoSleep",
          "num",
          "Age",
          "VIP",
          "RoomService",
          "FoodCourt",
          "ShoppingMall",
          "Spa",
          "VRDeck",
          "Earth",
          "Europa",
          "Mars",
          "A",
          "B",
          "C",
          "D",
          "E",
          "F",
          "G",
          "T",
          "P",
          "S",
          "55 Cancri e",
          "PSO J318.5-22",
          "TRAPPIST-1e"
         ],
         "xaxis": "x",
         "y": [
          "Group",
          "Within",
          "CryoSleep",
          "num",
          "Age",
          "VIP",
          "RoomService",
          "FoodCourt",
          "ShoppingMall",
          "Spa",
          "VRDeck",
          "Earth",
          "Europa",
          "Mars",
          "A",
          "B",
          "C",
          "D",
          "E",
          "F",
          "G",
          "T",
          "P",
          "S",
          "55 Cancri e",
          "PSO J318.5-22",
          "TRAPPIST-1e"
         ],
         "yaxis": "y",
         "z": [
          [
           0,
           0.0002236608620272315,
           -0.000831132805310915,
           0.6920144346173751,
           -0.007321725983157559,
           0.010616414144937702,
           -0.005753316517859778,
           0.005971123870245177,
           -0.0033398625967271645,
           0.005382477953902562,
           -0.0022268359622837045,
           0.02286608375694069,
           -0.006621441931240869,
           -0.020786126102422316,
           0.005367708709897483,
           -0.017022969684037065,
           0.003968155170368894,
           -0.011705008146201287,
           0.0010811903197803295,
           -0.0011749938874084896,
           0.013336030293837831,
           -0.00593670876836169,
           0.005642911880340142,
           -0.005642911880340142,
           -0.0018797804100509363,
           0.01905982587062603,
           -0.010258175774008204
          ],
          [
           0.0002236608620272315,
           0,
           0.07636226895152926,
           -0.08589820820749997,
           -0.125603021868792,
           0.011169754376752859,
           -0.10621690918373801,
           -0.04101243580133834,
           -0.11575575404770527,
           -0.05704206663745477,
           -0.05778831355065586,
           -0.13832502295422325,
           0.14842013401904522,
           0.009883484127267424,
           0.04495190182207867,
           0.10227937921878656,
           0.09322526107795281,
           0.005563965903159342,
           -0.04736755935921485,
           -0.11664646056840547,
           0.006845913083239269,
           -0.0039062316703055836,
           -0.00966818975819167,
           0.00966818975819167,
           0.057426210680553216,
           -0.06071814852657728,
           -0.013036271105151834
          ],
          [
           -0.000831132805310915,
           0.07636226895152926,
           0,
           -0.025329631178473092,
           -0.0748310328589976,
           -0.08170952909548902,
           -0.5166704248859818,
           -0.5312478774102318,
           -0.5134876240791147,
           -0.5487451993388265,
           -0.5264088545500365,
           -0.11172123746827604,
           0.10161823023804288,
           0.02750177127486484,
           -0.02400213824923887,
           0.11753386570983168,
           0.04269594953977154,
           -0.06633489142885458,
           -0.11642879690871953,
           -0.2218897852922136,
           0.24710884576722902,
           -0.020581498733864906,
           -0.009251173221807954,
           0.009251173221807954,
           0.06610843889936996,
           0.0820109866233051,
           -0.11008139067868337
          ],
          [
           0.6920144346173751,
           -0.08589820820749997,
           -0.025329631178473092,
           0,
           -0.16899403885506506,
           -0.1124859641871966,
           0.056064234225248574,
           -0.14530085818504,
           0.06088084463189586,
           -0.10372091181672824,
           -0.11411483728603715,
           0.4335081720545079,
           -0.5527859125444108,
           0.06272630506100157,
           -0.2543997417876886,
           -0.29203388029738947,
           -0.2814533384685484,
           -0.2447516500952514,
           -0.15060311744713528,
           0.42229876576519343,
           0.2574572460898184,
           -0.046548508277061265,
           0.021392448369916363,
           -0.021392448369916363,
           -0.1644050352535366,
           0.12844979461267078,
           0.06572288527785816
          ],
          [
           -0.007321725983157559,
           -0.125603021868792,
           -0.0748310328589976,
           -0.16899403885506506,
           0,
           0.09855650019691002,
           0.1180378443903705,
           0.2027020485363315,
           0.10135120421717025,
           0.2029349641748422,
           0.185725252391696,
           -0.23955950731386008,
           0.2495646553162635,
           0.025112158470826765,
           0.09344346646234965,
           0.11185273372480094,
           0.14329391008817546,
           0.08664379572258477,
           0.037594285784226744,
           -0.03517469749043474,
           -0.23269058553447464,
           0.01791483994071732,
           -0.010444402702884296,
           0.010444402702884296,
           0.03173190099996688,
           -0.03939583024925334,
           -0.003545320844123762
          ],
          [
           0.010616414144937702,
           0.011169754376752859,
           -0.08170952909548902,
           -0.1124859641871966,
           0.09855650019691002,
           0,
           0.05558047649382399,
           0.12108736118920886,
           0.04395079599103041,
           0.09309728482198538,
           0.0962371627751284,
           -0.16048295790189707,
           0.14510523487156352,
           0.04043016591561983,
           0.1321010303082546,
           0.07005734047454651,
           0.05930552939192028,
           0.06581600386642772,
           -0.002667771844831276,
           -0.0645158188542365,
           -0.097973511543234,
           -0.0041172246731833425,
           0.009449063030210123,
           -0.009449063030210123,
           0.04308662557498413,
           -0.006957782948220799,
           -0.03393857321185213
          ],
          [
           -0.005753316517859778,
           -0.10621690918373801,
           -0.5166704248859818,
           0.056064234225248574,
           0.1180378443903705,
           0.05558047649382399,
           0,
           0.1812181922548692,
           0.441033360560148,
           0.249242522571541,
           0.1831715573975425,
           -0.034821317523204116,
           -0.21273269804363407,
           0.269879805171254,
           -0.04787611692694315,
           -0.1412859444090965,
           -0.10619853463598641,
           0.15801583613251463,
           0.09924708711717059,
           0.24583278212764118,
           -0.22297402863281737,
           -0.0074324608708091254,
           0.019600940082602585,
           -0.019600940082602585,
           -0.08506294921841566,
           -0.05231515515214831,
           0.1083416850747453
          ],
          [
           0.005971123870245177,
           -0.04101243580133834,
           -0.5312478774102318,
           -0.14530085818504,
           0.2027020485363315,
           0.12108736118920886,
           0.1812181922548692,
           0,
           0.1877437471342176,
           0.47723187329312927,
           0.5192952963120357,
           -0.0618049881367061,
           0.27518566425711677,
           -0.2188993936693821,
           0.12544927191704514,
           0.07607273286226578,
           0.17237278071794865,
           0.03853287517348311,
           0.018440443668015876,
           -0.00227875817443289,
           -0.23800260032200346,
           0.04596358336938863,
           -0.0009631248241435546,
           0.0009631248241435546,
           0.06287106016556053,
           -0.06951761556357668,
           -0.012368119121232096
          ],
          [
           -0.0033398625967271645,
           -0.11575575404770527,
           -0.5134876240791147,
           0.06088084463189586,
           0.10135120421717025,
           0.04395079599103041,
           0.441033360560148,
           0.1877437471342176,
           0,
           0.26302185681151236,
           0.1933355114639384,
           0.01276810444173488,
           -0.2017370228852611,
           0.20012934430616117,
           -0.05511334024475695,
           -0.13486044459875207,
           -0.09703813239007406,
           0.12060768983368325,
           0.10315202345884089,
           0.23739299747150125,
           -0.20506077102125053,
           -0.005737401068293688,
           0.021906405719513248,
           -0.021906405719513248,
           -0.08909920291613503,
           -0.025737487537095947,
           0.09529493791148043
          ],
          [
           0.005382477953902562,
           -0.05704206663745477,
           -0.5487451993388265,
           -0.10372091181672824,
           0.2029349641748422,
           0.09309728482198538,
           0.249242522571541,
           0.47723187329312927,
           0.26302185681151236,
           0,
           0.4508044931430437,
           -0.06360723406150255,
           0.17309000573347677,
           -0.10754656256295882,
           0.09895842467375926,
           0.028074912991761077,
           0.11109751004001699,
           0.0587898259577991,
           0.04315859933027018,
           0.04853440539267874,
           -0.23710613563039684,
           0.04213614319043587,
           -0.006859037215794732,
           0.006859037215794732,
           0.02400111618015428,
           -0.06350865156440987,
           0.018416713378605638
          ],
          [
           -0.0022268359622837045,
           -0.05778831355065586,
           -0.5264088545500365,
           -0.11411483728603715,
           0.185725252391696,
           0.0962371627751284,
           0.1831715573975425,
           0.5192952963120357,
           0.1933355114639384,
           0.4508044931430437,
           0,
           -0.013891344696616043,
           0.21079632194851253,
           -0.20844635551989374,
           0.10550660147127179,
           0.04781630216199159,
           0.13628549079342325,
           0.024330477331500545,
           0.027069546142523753,
           0.02726596412658141,
           -0.21729079427487175,
           0.030096751605529944,
           0.0034409698338598057,
           -0.0034409698338598057,
           0.0347696287626679,
           -0.05170173731995391,
           0.0014567067318136677
          ],
          [
           0.02286608375694069,
           -0.13832502295422325,
           -0.11172123746827604,
           0.4335081720545079,
           -0.23955950731386008,
           -0.16048295790189707,
           -0.034821317523204116,
           -0.0618049881367061,
           0.01276810444173488,
           -0.06360723406150255,
           -0.013891344696616043,
           0,
           -0.6248211055622384,
           -0.5506056737797412,
           -0.18700161851149358,
           -0.34538503897167355,
           -0.3354577493027466,
           -0.2621337662273137,
           -0.05643899552935211,
           0.06768914429512632,
           0.6104916859964971,
           -0.02868170052700936,
           0.010639193774021094,
           -0.010639193774021094,
           -0.16447908786476248,
           0.24680688131971823,
           -0.008286551183272515
          ],
          [
           -0.006621441931240869,
           0.14842013401904522,
           0.10161823023804288,
           -0.5527859125444108,
           0.2495646553162635,
           0.14510523487156352,
           -0.21273269804363407,
           0.27518566425711677,
           -0.2017370228852611,
           0.17309000573347677,
           0.21079632194851253,
           -0.6248211055622384,
           0,
           -0.3077280768547487,
           0.29928825522502517,
           0.5527742835461402,
           0.53688607237569,
           0.08799751733516069,
           -0.0813012202151328,
           -0.4107317361783099,
           -0.3814480901808862,
           0.045903859955563515,
           -0.029824609678269092,
           0.029824609678269092,
           0.30589987679346936,
           -0.16838681026728158,
           -0.16648118323899427
          ],
          [
           -0.020786126102422316,
           0.009883484127267424,
           0.02750177127486484,
           0.06272630506100157,
           0.025112158470826765,
           0.04043016591561983,
           0.269879805171254,
           -0.2188993936693821,
           0.20012934430616117,
           -0.10754656256295882,
           -0.20844635551989374,
           -0.5506056737797412,
           -0.3077280768547487,
           0,
           -0.09209939920561018,
           -0.1701041672104153,
           -0.1652149185422705,
           0.2253630743021981,
           0.155702738981736,
           0.35664910211464734,
           -0.33614018610503155,
           -0.01412590654433527,
           0.018921927425743,
           -0.018921927425743,
           -0.12661511368040124,
           -0.12073615644373856,
           0.18809325476897845
          ],
          [
           0.005367708709897483,
           0.04495190182207867,
           -0.02400213824923887,
           -0.2543997417876886,
           0.09344346646234965,
           0.1321010303082546,
           -0.04787611692694315,
           0.12544927191704514,
           -0.05511334024475695,
           0.09895842467375926,
           0.10550660147127179,
           -0.18700161851149358,
           0.29928825522502517,
           -0.09209939920561018,
           0,
           -0.05777229712424332,
           -0.056111766806835085,
           -0.0438469190034121,
           -0.06003133478521841,
           -0.1229271846863517,
           -0.11416293336915549,
           -0.00479756659352824,
           -0.006949790302966691,
           0.006949790302966691,
           0.10309153545813927,
           -0.05213103736178276,
           -0.05899562498524093
          ],
          [
           -0.017022969684037065,
           0.10227937921878656,
           0.11753386570983168,
           -0.29203388029738947,
           0.11185273372480094,
           0.07005734047454651,
           -0.1412859444090965,
           0.07607273286226578,
           -0.13486044459875207,
           0.028074912991761077,
           0.04781630216199159,
           -0.34538503897167355,
           0.5527742835461402,
           -0.1701041672104153,
           -0.05777229712424332,
           0,
           -0.1036363477472097,
           -0.08098362971040547,
           -0.11087564412197794,
           -0.22704194119562757,
           -0.21085469475978288,
           -0.00886092718375647,
           -0.03467807272385498,
           0.03467807272385498,
           0.19005455308421984,
           -0.09775600702736469,
           -0.10772895181567527
          ],
          [
           0.003968155170368894,
           0.09322526107795281,
           0.04269594953977154,
           -0.2814533384685484,
           0.14329391008817546,
           0.05930552939192028,
           -0.10619853463598641,
           0.17237278071794865,
           -0.09703813239007406,
           0.11109751004001699,
           0.13628549079342325,
           -0.3354577493027466,
           0.53688607237569,
           -0.1652149185422705,
           -0.056111766806835085,
           -0.1036363477472097,
           0,
           -0.07865594362136716,
           -0.10768878159977698,
           -0.22051614863682087,
           -0.204794166952424,
           -0.008606240440085343,
           -0.007606657685957031,
           0.007606657685957031,
           0.16676207944572263,
           -0.0802277091007963,
           -0.09799809582941858
          ],
          [
           -0.011705008146201287,
           0.005563965903159342,
           -0.06633489142885458,
           -0.2447516500952514,
           0.08664379572258477,
           0.06581600386642772,
           0.15801583613251463,
           0.03853287517348311,
           0.12060768983368325,
           0.0587898259577991,
           0.024330477331500545,
           -0.2621337662273137,
           0.08799751733516069,
           0.2253630743021981,
           -0.0438469190034121,
           -0.08098362971040547,
           -0.07865594362136716,
           0,
           -0.08415028706254143,
           -0.1723159732522497,
           -0.16003048490072438,
           -0.006725097942457681,
           0.009362431069509243,
           -0.009362431069509243,
           0.017585140661355907,
           -0.057754886139032756,
           0.020517838646407577
          ],
          [
           0.0010811903197803295,
           -0.04736755935921485,
           -0.11642879690871953,
           -0.15060311744713528,
           0.037594285784226744,
           -0.002667771844831276,
           0.09924708711717059,
           0.018440443668015876,
           0.10315202345884089,
           0.04315859933027018,
           0.027069546142523753,
           -0.05643899552935211,
           -0.0813012202151328,
           0.155702738981736,
           -0.06003133478521841,
           -0.11087564412197794,
           -0.10768878159977698,
           -0.08415028706254143,
           0,
           -0.2359198346032377,
           -0.2190996273687698,
           -0.009207411038746961,
           -0.009563905072568981,
           0.009563905072568981,
           -0.07173864790397153,
           -0.05043349148779951,
           0.09532206536185335
          ],
          [
           -0.0011749938874084896,
           -0.11664646056840547,
           -0.2218897852922136,
           0.42229876576519343,
           -0.03517469749043474,
           -0.0645158188542365,
           0.24583278212764118,
           -0.00227875817443289,
           0.23739299747150125,
           0.04853440539267874,
           0.02726596412658141,
           0.06768914429512632,
           -0.4107317361783099,
           0.35664910211464734,
           -0.1229271846863517,
           -0.22704194119562757,
           -0.22051614863682087,
           -0.1723159732522497,
           -0.2359198346032377,
           0,
           -0.4486540313427019,
           -0.0188541720968346,
           0.024432482477573618,
           -0.024432482477573618,
           -0.12257961286211004,
           -0.009901929303178866,
           0.11513973247706646
          ],
          [
           0.013336030293837831,
           0.006845913083239269,
           0.24710884576722902,
           0.2574572460898184,
           -0.23269058553447464,
           -0.097973511543234,
           -0.22297402863281737,
           -0.23800260032200346,
           -0.20506077102125053,
           -0.23710613563039684,
           -0.21729079427487175,
           0.6104916859964971,
           -0.3814480901808862,
           -0.33614018610503155,
           -0.11416293336915549,
           -0.21085469475978288,
           -0.204794166952424,
           -0.16003048490072438,
           -0.2190996273687698,
           -0.4486540313427019,
           0,
           -0.017509939711980567,
           0.006740035128329675,
           -0.006740035128329675,
           -0.1025850144486406,
           0.20768765328807287,
           -0.038811582327498935
          ],
          [
           -0.00593670876836169,
           -0.0039062316703055836,
           -0.020581498733864906,
           -0.046548508277061265,
           0.01791483994071732,
           -0.0041172246731833425,
           -0.0074324608708091254,
           0.04596358336938863,
           -0.005737401068293688,
           0.04213614319043587,
           0.030096751605529944,
           -0.02868170052700936,
           0.045903859955563515,
           -0.01412590654433527,
           -0.00479756659352824,
           -0.00886092718375647,
           -0.008606240440085343,
           -0.006725097942457681,
           -0.009207411038746961,
           -0.0188541720968346,
           -0.017509939711980567,
           0,
           -0.00653252397749264,
           0.00653252397749264,
           0.002610329838802313,
           -0.008568106250852402,
           0.0030425279787453935
          ],
          [
           0.005642911880340142,
           -0.00966818975819167,
           -0.009251173221807954,
           0.021392448369916363,
           -0.010444402702884296,
           0.009449063030210123,
           0.019600940082602585,
           -0.0009631248241435546,
           0.021906405719513248,
           -0.006859037215794732,
           0.0034409698338598057,
           0.010639193774021094,
           -0.029824609678269092,
           0.018921927425743,
           -0.006949790302966691,
           -0.03467807272385498,
           -0.007606657685957031,
           0.009362431069509243,
           -0.009563905072568981,
           0.024432482477573618,
           0.006740035128329675,
           -0.00653252397749264,
           0,
           -1,
           -0.011702240418736187,
           0.010904090684421264,
           0.003575892059835153
          ],
          [
           -0.005642911880340142,
           0.00966818975819167,
           0.009251173221807954,
           -0.021392448369916363,
           0.010444402702884296,
           -0.009449063030210123,
           -0.019600940082602585,
           0.0009631248241435546,
           -0.021906405719513248,
           0.006859037215794732,
           -0.0034409698338598057,
           -0.010639193774021094,
           0.029824609678269092,
           -0.018921927425743,
           0.006949790302966691,
           0.03467807272385498,
           0.007606657685957031,
           -0.009362431069509243,
           0.009563905072568981,
           -0.024432482477573618,
           -0.006740035128329675,
           0.00653252397749264,
           -1,
           0,
           0.011702240418736187,
           -0.010904090684421264,
           -0.003575892059835153
          ],
          [
           -0.0018797804100509363,
           0.057426210680553216,
           0.06610843889936996,
           -0.1644050352535366,
           0.03173190099996688,
           0.04308662557498413,
           -0.08506294921841566,
           0.06287106016556053,
           -0.08909920291613503,
           0.02400111618015428,
           0.0347696287626679,
           -0.16447908786476248,
           0.30589987679346936,
           -0.12661511368040124,
           0.10309153545813927,
           0.19005455308421984,
           0.16676207944572263,
           0.017585140661355907,
           -0.07173864790397153,
           -0.12257961286211004,
           -0.1025850144486406,
           0.002610329838802313,
           -0.011702240418736187,
           0.011702240418736187,
           0,
           -0.16322093738965868,
           -0.7865949795613865
          ],
          [
           0.01905982587062603,
           -0.06071814852657728,
           0.0820109866233051,
           0.12844979461267078,
           -0.03939583024925334,
           -0.006957782948220799,
           -0.05231515515214831,
           -0.06951761556357668,
           -0.025737487537095947,
           -0.06350865156440987,
           -0.05170173731995391,
           0.24680688131971823,
           -0.16838681026728158,
           -0.12073615644373856,
           -0.05213103736178276,
           -0.09775600702736469,
           -0.0802277091007963,
           -0.057754886139032756,
           -0.05043349148779951,
           -0.009901929303178866,
           0.20768765328807287,
           -0.008568106250852402,
           0.010904090684421264,
           -0.010904090684421264,
           -0.16322093738965868,
           0,
           -0.48079998570311666
          ],
          [
           -0.010258175774008204,
           -0.013036271105151834,
           -0.11008139067868337,
           0.06572288527785816,
           -0.003545320844123762,
           -0.03393857321185213,
           0.1083416850747453,
           -0.012368119121232096,
           0.09529493791148043,
           0.018416713378605638,
           0.0014567067318136677,
           -0.008286551183272515,
           -0.16648118323899427,
           0.18809325476897845,
           -0.05899562498524093,
           -0.10772895181567527,
           -0.09799809582941858,
           0.020517838646407577,
           0.09532206536185335,
           0.11513973247706646,
           -0.038811582327498935,
           0.0030425279787453935,
           0.003575892059835153,
           -0.003575892059835153,
           -0.7865949795613865,
           -0.48079998570311666,
           0
          ]
         ]
        }
       ],
       "layout": {
        "coloraxis": {
         "colorscale": [
          [
           0,
           "#0d0887"
          ],
          [
           0.1111111111111111,
           "#46039f"
          ],
          [
           0.2222222222222222,
           "#7201a8"
          ],
          [
           0.3333333333333333,
           "#9c179e"
          ],
          [
           0.4444444444444444,
           "#bd3786"
          ],
          [
           0.5555555555555556,
           "#d8576b"
          ],
          [
           0.6666666666666666,
           "#ed7953"
          ],
          [
           0.7777777777777778,
           "#fb9f3a"
          ],
          [
           0.8888888888888888,
           "#fdca26"
          ],
          [
           1,
           "#f0f921"
          ]
         ]
        },
        "height": 1000,
        "margin": {
         "t": 60
        },
        "template": {
         "data": {
          "bar": [
           {
            "error_x": {
             "color": "#f2f5fa"
            },
            "error_y": {
             "color": "#f2f5fa"
            },
            "marker": {
             "line": {
              "color": "rgb(17,17,17)",
              "width": 0.5
             },
             "pattern": {
              "fillmode": "overlay",
              "size": 10,
              "solidity": 0.2
             }
            },
            "type": "bar"
           }
          ],
          "barpolar": [
           {
            "marker": {
             "line": {
              "color": "rgb(17,17,17)",
              "width": 0.5
             },
             "pattern": {
              "fillmode": "overlay",
              "size": 10,
              "solidity": 0.2
             }
            },
            "type": "barpolar"
           }
          ],
          "carpet": [
           {
            "aaxis": {
             "endlinecolor": "#A2B1C6",
             "gridcolor": "#506784",
             "linecolor": "#506784",
             "minorgridcolor": "#506784",
             "startlinecolor": "#A2B1C6"
            },
            "baxis": {
             "endlinecolor": "#A2B1C6",
             "gridcolor": "#506784",
             "linecolor": "#506784",
             "minorgridcolor": "#506784",
             "startlinecolor": "#A2B1C6"
            },
            "type": "carpet"
           }
          ],
          "choropleth": [
           {
            "colorbar": {
             "outlinewidth": 0,
             "ticks": ""
            },
            "type": "choropleth"
           }
          ],
          "contour": [
           {
            "colorbar": {
             "outlinewidth": 0,
             "ticks": ""
            },
            "colorscale": [
             [
              0,
              "#0d0887"
             ],
             [
              0.1111111111111111,
              "#46039f"
             ],
             [
              0.2222222222222222,
              "#7201a8"
             ],
             [
              0.3333333333333333,
              "#9c179e"
             ],
             [
              0.4444444444444444,
              "#bd3786"
             ],
             [
              0.5555555555555556,
              "#d8576b"
             ],
             [
              0.6666666666666666,
              "#ed7953"
             ],
             [
              0.7777777777777778,
              "#fb9f3a"
             ],
             [
              0.8888888888888888,
              "#fdca26"
             ],
             [
              1,
              "#f0f921"
             ]
            ],
            "type": "contour"
           }
          ],
          "contourcarpet": [
           {
            "colorbar": {
             "outlinewidth": 0,
             "ticks": ""
            },
            "type": "contourcarpet"
           }
          ],
          "heatmap": [
           {
            "colorbar": {
             "outlinewidth": 0,
             "ticks": ""
            },
            "colorscale": [
             [
              0,
              "#0d0887"
             ],
             [
              0.1111111111111111,
              "#46039f"
             ],
             [
              0.2222222222222222,
              "#7201a8"
             ],
             [
              0.3333333333333333,
              "#9c179e"
             ],
             [
              0.4444444444444444,
              "#bd3786"
             ],
             [
              0.5555555555555556,
              "#d8576b"
             ],
             [
              0.6666666666666666,
              "#ed7953"
             ],
             [
              0.7777777777777778,
              "#fb9f3a"
             ],
             [
              0.8888888888888888,
              "#fdca26"
             ],
             [
              1,
              "#f0f921"
             ]
            ],
            "type": "heatmap"
           }
          ],
          "heatmapgl": [
           {
            "colorbar": {
             "outlinewidth": 0,
             "ticks": ""
            },
            "colorscale": [
             [
              0,
              "#0d0887"
             ],
             [
              0.1111111111111111,
              "#46039f"
             ],
             [
              0.2222222222222222,
              "#7201a8"
             ],
             [
              0.3333333333333333,
              "#9c179e"
             ],
             [
              0.4444444444444444,
              "#bd3786"
             ],
             [
              0.5555555555555556,
              "#d8576b"
             ],
             [
              0.6666666666666666,
              "#ed7953"
             ],
             [
              0.7777777777777778,
              "#fb9f3a"
             ],
             [
              0.8888888888888888,
              "#fdca26"
             ],
             [
              1,
              "#f0f921"
             ]
            ],
            "type": "heatmapgl"
           }
          ],
          "histogram": [
           {
            "marker": {
             "pattern": {
              "fillmode": "overlay",
              "size": 10,
              "solidity": 0.2
             }
            },
            "type": "histogram"
           }
          ],
          "histogram2d": [
           {
            "colorbar": {
             "outlinewidth": 0,
             "ticks": ""
            },
            "colorscale": [
             [
              0,
              "#0d0887"
             ],
             [
              0.1111111111111111,
              "#46039f"
             ],
             [
              0.2222222222222222,
              "#7201a8"
             ],
             [
              0.3333333333333333,
              "#9c179e"
             ],
             [
              0.4444444444444444,
              "#bd3786"
             ],
             [
              0.5555555555555556,
              "#d8576b"
             ],
             [
              0.6666666666666666,
              "#ed7953"
             ],
             [
              0.7777777777777778,
              "#fb9f3a"
             ],
             [
              0.8888888888888888,
              "#fdca26"
             ],
             [
              1,
              "#f0f921"
             ]
            ],
            "type": "histogram2d"
           }
          ],
          "histogram2dcontour": [
           {
            "colorbar": {
             "outlinewidth": 0,
             "ticks": ""
            },
            "colorscale": [
             [
              0,
              "#0d0887"
             ],
             [
              0.1111111111111111,
              "#46039f"
             ],
             [
              0.2222222222222222,
              "#7201a8"
             ],
             [
              0.3333333333333333,
              "#9c179e"
             ],
             [
              0.4444444444444444,
              "#bd3786"
             ],
             [
              0.5555555555555556,
              "#d8576b"
             ],
             [
              0.6666666666666666,
              "#ed7953"
             ],
             [
              0.7777777777777778,
              "#fb9f3a"
             ],
             [
              0.8888888888888888,
              "#fdca26"
             ],
             [
              1,
              "#f0f921"
             ]
            ],
            "type": "histogram2dcontour"
           }
          ],
          "mesh3d": [
           {
            "colorbar": {
             "outlinewidth": 0,
             "ticks": ""
            },
            "type": "mesh3d"
           }
          ],
          "parcoords": [
           {
            "line": {
             "colorbar": {
              "outlinewidth": 0,
              "ticks": ""
             }
            },
            "type": "parcoords"
           }
          ],
          "pie": [
           {
            "automargin": true,
            "type": "pie"
           }
          ],
          "scatter": [
           {
            "marker": {
             "line": {
              "color": "#283442"
             }
            },
            "type": "scatter"
           }
          ],
          "scatter3d": [
           {
            "line": {
             "colorbar": {
              "outlinewidth": 0,
              "ticks": ""
             }
            },
            "marker": {
             "colorbar": {
              "outlinewidth": 0,
              "ticks": ""
             }
            },
            "type": "scatter3d"
           }
          ],
          "scattercarpet": [
           {
            "marker": {
             "colorbar": {
              "outlinewidth": 0,
              "ticks": ""
             }
            },
            "type": "scattercarpet"
           }
          ],
          "scattergeo": [
           {
            "marker": {
             "colorbar": {
              "outlinewidth": 0,
              "ticks": ""
             }
            },
            "type": "scattergeo"
           }
          ],
          "scattergl": [
           {
            "marker": {
             "line": {
              "color": "#283442"
             }
            },
            "type": "scattergl"
           }
          ],
          "scattermapbox": [
           {
            "marker": {
             "colorbar": {
              "outlinewidth": 0,
              "ticks": ""
             }
            },
            "type": "scattermapbox"
           }
          ],
          "scatterpolar": [
           {
            "marker": {
             "colorbar": {
              "outlinewidth": 0,
              "ticks": ""
             }
            },
            "type": "scatterpolar"
           }
          ],
          "scatterpolargl": [
           {
            "marker": {
             "colorbar": {
              "outlinewidth": 0,
              "ticks": ""
             }
            },
            "type": "scatterpolargl"
           }
          ],
          "scatterternary": [
           {
            "marker": {
             "colorbar": {
              "outlinewidth": 0,
              "ticks": ""
             }
            },
            "type": "scatterternary"
           }
          ],
          "surface": [
           {
            "colorbar": {
             "outlinewidth": 0,
             "ticks": ""
            },
            "colorscale": [
             [
              0,
              "#0d0887"
             ],
             [
              0.1111111111111111,
              "#46039f"
             ],
             [
              0.2222222222222222,
              "#7201a8"
             ],
             [
              0.3333333333333333,
              "#9c179e"
             ],
             [
              0.4444444444444444,
              "#bd3786"
             ],
             [
              0.5555555555555556,
              "#d8576b"
             ],
             [
              0.6666666666666666,
              "#ed7953"
             ],
             [
              0.7777777777777778,
              "#fb9f3a"
             ],
             [
              0.8888888888888888,
              "#fdca26"
             ],
             [
              1,
              "#f0f921"
             ]
            ],
            "type": "surface"
           }
          ],
          "table": [
           {
            "cells": {
             "fill": {
              "color": "#506784"
             },
             "line": {
              "color": "rgb(17,17,17)"
             }
            },
            "header": {
             "fill": {
              "color": "#2a3f5f"
             },
             "line": {
              "color": "rgb(17,17,17)"
             }
            },
            "type": "table"
           }
          ]
         },
         "layout": {
          "annotationdefaults": {
           "arrowcolor": "#f2f5fa",
           "arrowhead": 0,
           "arrowwidth": 1
          },
          "autotypenumbers": "strict",
          "coloraxis": {
           "colorbar": {
            "outlinewidth": 0,
            "ticks": ""
           }
          },
          "colorscale": {
           "diverging": [
            [
             0,
             "#8e0152"
            ],
            [
             0.1,
             "#c51b7d"
            ],
            [
             0.2,
             "#de77ae"
            ],
            [
             0.3,
             "#f1b6da"
            ],
            [
             0.4,
             "#fde0ef"
            ],
            [
             0.5,
             "#f7f7f7"
            ],
            [
             0.6,
             "#e6f5d0"
            ],
            [
             0.7,
             "#b8e186"
            ],
            [
             0.8,
             "#7fbc41"
            ],
            [
             0.9,
             "#4d9221"
            ],
            [
             1,
             "#276419"
            ]
           ],
           "sequential": [
            [
             0,
             "#0d0887"
            ],
            [
             0.1111111111111111,
             "#46039f"
            ],
            [
             0.2222222222222222,
             "#7201a8"
            ],
            [
             0.3333333333333333,
             "#9c179e"
            ],
            [
             0.4444444444444444,
             "#bd3786"
            ],
            [
             0.5555555555555556,
             "#d8576b"
            ],
            [
             0.6666666666666666,
             "#ed7953"
            ],
            [
             0.7777777777777778,
             "#fb9f3a"
            ],
            [
             0.8888888888888888,
             "#fdca26"
            ],
            [
             1,
             "#f0f921"
            ]
           ],
           "sequentialminus": [
            [
             0,
             "#0d0887"
            ],
            [
             0.1111111111111111,
             "#46039f"
            ],
            [
             0.2222222222222222,
             "#7201a8"
            ],
            [
             0.3333333333333333,
             "#9c179e"
            ],
            [
             0.4444444444444444,
             "#bd3786"
            ],
            [
             0.5555555555555556,
             "#d8576b"
            ],
            [
             0.6666666666666666,
             "#ed7953"
            ],
            [
             0.7777777777777778,
             "#fb9f3a"
            ],
            [
             0.8888888888888888,
             "#fdca26"
            ],
            [
             1,
             "#f0f921"
            ]
           ]
          },
          "colorway": [
           "#636efa",
           "#EF553B",
           "#00cc96",
           "#ab63fa",
           "#FFA15A",
           "#19d3f3",
           "#FF6692",
           "#B6E880",
           "#FF97FF",
           "#FECB52"
          ],
          "font": {
           "color": "#f2f5fa",
           "family": "Fira Code",
           "size": 20
          },
          "geo": {
           "bgcolor": "rgb(17,17,17)",
           "lakecolor": "rgb(17,17,17)",
           "landcolor": "rgb(17,17,17)",
           "showlakes": true,
           "showland": true,
           "subunitcolor": "#506784"
          },
          "hoverlabel": {
           "align": "left"
          },
          "hovermode": "closest",
          "mapbox": {
           "style": "dark"
          },
          "paper_bgcolor": "rgb(17,17,17)",
          "plot_bgcolor": "rgb(17,17,17)",
          "polar": {
           "angularaxis": {
            "gridcolor": "#506784",
            "linecolor": "#506784",
            "ticks": ""
           },
           "bgcolor": "rgb(17,17,17)",
           "radialaxis": {
            "gridcolor": "#506784",
            "linecolor": "#506784",
            "ticks": ""
           }
          },
          "scene": {
           "xaxis": {
            "backgroundcolor": "rgb(17,17,17)",
            "gridcolor": "#506784",
            "gridwidth": 2,
            "linecolor": "#506784",
            "showbackground": true,
            "ticks": "",
            "zerolinecolor": "#C8D4E3"
           },
           "yaxis": {
            "backgroundcolor": "rgb(17,17,17)",
            "gridcolor": "#506784",
            "gridwidth": 2,
            "linecolor": "#506784",
            "showbackground": true,
            "ticks": "",
            "zerolinecolor": "#C8D4E3"
           },
           "zaxis": {
            "backgroundcolor": "rgb(17,17,17)",
            "gridcolor": "#506784",
            "gridwidth": 2,
            "linecolor": "#506784",
            "showbackground": true,
            "ticks": "",
            "zerolinecolor": "#C8D4E3"
           }
          },
          "shapedefaults": {
           "line": {
            "color": "#f2f5fa"
           }
          },
          "sliderdefaults": {
           "bgcolor": "#C8D4E3",
           "bordercolor": "rgb(17,17,17)",
           "borderwidth": 1,
           "tickwidth": 0
          },
          "ternary": {
           "aaxis": {
            "gridcolor": "#506784",
            "linecolor": "#506784",
            "ticks": ""
           },
           "baxis": {
            "gridcolor": "#506784",
            "linecolor": "#506784",
            "ticks": ""
           },
           "bgcolor": "rgb(17,17,17)",
           "caxis": {
            "gridcolor": "#506784",
            "linecolor": "#506784",
            "ticks": ""
           }
          },
          "title": {
           "x": 0.05
          },
          "updatemenudefaults": {
           "bgcolor": "#506784",
           "borderwidth": 0
          },
          "xaxis": {
           "automargin": true,
           "gridcolor": "#283442",
           "linecolor": "#506784",
           "ticks": "",
           "title": {
            "standoff": 15
           },
           "zerolinecolor": "#283442",
           "zerolinewidth": 2
          },
          "yaxis": {
           "automargin": true,
           "gridcolor": "#283442",
           "linecolor": "#506784",
           "ticks": "",
           "title": {
            "standoff": 15
           },
           "zerolinecolor": "#283442",
           "zerolinewidth": 2
          }
         }
        },
        "width": 1800,
        "xaxis": {
         "anchor": "y",
         "constrain": "domain",
         "domain": [
          0,
          1
         ],
         "scaleanchor": "y",
         "tickangle": 30
        },
        "yaxis": {
         "anchor": "x",
         "autorange": "reversed",
         "constrain": "domain",
         "domain": [
          0,
          1
         ]
        }
       }
      }
     },
     "metadata": {},
     "output_type": "display_data"
    }
   ],
   "source": [
    "temp_df = pd.get_dummies(total_no_na,columns=['HomePlanet','deck','side','Destination'],prefix=\"\",prefix_sep=\"\",dtype=np.float32)\n",
    "temp_df = temp_df.drop(['First','Last'],axis=1).corr(method='spearman')\n",
    "np.fill_diagonal(temp_df.to_numpy(),0)\n",
    "px.imshow(temp_df,height=1000,width=1800).update_xaxes(tickangle=30)"
   ]
  },
  {
   "cell_type": "code",
   "execution_count": 77,
   "metadata": {},
   "outputs": [
    {
     "data": {
      "text/html": [
       "<div>\n",
       "<style scoped>\n",
       "    .dataframe tbody tr th:only-of-type {\n",
       "        vertical-align: middle;\n",
       "    }\n",
       "\n",
       "    .dataframe tbody tr th {\n",
       "        vertical-align: top;\n",
       "    }\n",
       "\n",
       "    .dataframe thead th {\n",
       "        text-align: right;\n",
       "    }\n",
       "</style>\n",
       "<table border=\"1\" class=\"dataframe\">\n",
       "  <thead>\n",
       "    <tr style=\"text-align: right;\">\n",
       "      <th></th>\n",
       "      <th>Group</th>\n",
       "      <th>Within</th>\n",
       "      <th>First</th>\n",
       "      <th>Last</th>\n",
       "      <th>HomePlanet</th>\n",
       "      <th>CryoSleep</th>\n",
       "      <th>deck</th>\n",
       "      <th>num</th>\n",
       "      <th>side</th>\n",
       "      <th>Destination</th>\n",
       "      <th>Age</th>\n",
       "      <th>VIP</th>\n",
       "      <th>RoomService</th>\n",
       "      <th>FoodCourt</th>\n",
       "      <th>ShoppingMall</th>\n",
       "      <th>Spa</th>\n",
       "      <th>VRDeck</th>\n",
       "    </tr>\n",
       "  </thead>\n",
       "  <tbody>\n",
       "    <tr>\n",
       "      <th>0</th>\n",
       "      <td>1.0</td>\n",
       "      <td>1.0</td>\n",
       "      <td>Maham</td>\n",
       "      <td>Ofracculy</td>\n",
       "      <td>Europa</td>\n",
       "      <td>0.0</td>\n",
       "      <td>B</td>\n",
       "      <td>0.0</td>\n",
       "      <td>P</td>\n",
       "      <td>TRAPPIST-1e</td>\n",
       "      <td>39.0</td>\n",
       "      <td>0.0</td>\n",
       "      <td>0.0</td>\n",
       "      <td>0.0</td>\n",
       "      <td>0.0</td>\n",
       "      <td>0.0</td>\n",
       "      <td>0.0</td>\n",
       "    </tr>\n",
       "    <tr>\n",
       "      <th>1</th>\n",
       "      <td>2.0</td>\n",
       "      <td>1.0</td>\n",
       "      <td>Juanna</td>\n",
       "      <td>Vines</td>\n",
       "      <td>Earth</td>\n",
       "      <td>0.0</td>\n",
       "      <td>F</td>\n",
       "      <td>0.0</td>\n",
       "      <td>S</td>\n",
       "      <td>TRAPPIST-1e</td>\n",
       "      <td>24.0</td>\n",
       "      <td>0.0</td>\n",
       "      <td>109.0</td>\n",
       "      <td>9.0</td>\n",
       "      <td>25.0</td>\n",
       "      <td>549.0</td>\n",
       "      <td>44.0</td>\n",
       "    </tr>\n",
       "  </tbody>\n",
       "</table>\n",
       "</div>"
      ],
      "text/plain": [
       "   Group  Within   First       Last HomePlanet  CryoSleep deck  num side  \\\n",
       "0    1.0     1.0   Maham  Ofracculy     Europa        0.0    B  0.0    P   \n",
       "1    2.0     1.0  Juanna      Vines      Earth        0.0    F  0.0    S   \n",
       "\n",
       "   Destination   Age  VIP  RoomService  FoodCourt  ShoppingMall    Spa  VRDeck  \n",
       "0  TRAPPIST-1e  39.0  0.0          0.0        0.0           0.0    0.0     0.0  \n",
       "1  TRAPPIST-1e  24.0  0.0        109.0        9.0          25.0  549.0    44.0  "
      ]
     },
     "execution_count": 77,
     "metadata": {},
     "output_type": "execute_result"
    }
   ],
   "source": [
    "total_df.head(2)"
   ]
  },
  {
   "cell_type": "code",
   "execution_count": 78,
   "metadata": {},
   "outputs": [],
   "source": [
    "temp_df = total_df.drop(['First','Last'],axis=1)\n",
    "# temp_df = pd.get_dummies(temp_df,columns=['HomePlanet','side','deck','Destination'],prefix_sep=\"\",prefix=\"\",dtype=np.float32)\n",
    "ord_enc = OrdinalEncoder()\n",
    "ord_enc.set_output(transform=\"pandas\")\n",
    "temp_df = pd.concat([temp_df[['Group','Within','CryoSleep','VIP','num','Age']+last_cols],ord_enc.fit_transform(temp_df[['HomePlanet','deck','side','Destination']])],axis=1)\n",
    "kds = mf.ImputationKernel(temp_df,random_state=55,save_all_iterations=True,datasets=5)\n",
    "kds.mice(10,n_estimators=100,max_depth=8,device=\"gpu\")"
   ]
  },
  {
   "cell_type": "code",
   "execution_count": 84,
   "metadata": {},
   "outputs": [
    {
     "data": {
      "image/png": "[encoded data removed]",
      "text/plain": [
       "<Figure size 2000x1500 with 16 Axes>"
      ]
     },
     "metadata": {},
     "output_type": "display_data"
    }
   ],
   "source": [
    "plt.style.use(\"seaborn-v0_8\")\n",
    "plt.rcParams[\"figure.figsize\"] = (20,15)\n",
    "kds.plot_imputed_distributions()"
   ]
  },
  {
   "cell_type": "code",
   "execution_count": 109,
   "metadata": {},
   "outputs": [
    {
     "data": {
      "text/html": [
       "<div>\n",
       "<style scoped>\n",
       "    .dataframe tbody tr th:only-of-type {\n",
       "        vertical-align: middle;\n",
       "    }\n",
       "\n",
       "    .dataframe tbody tr th {\n",
       "        vertical-align: top;\n",
       "    }\n",
       "\n",
       "    .dataframe thead th {\n",
       "        text-align: right;\n",
       "    }\n",
       "</style>\n",
       "<table border=\"1\" class=\"dataframe\">\n",
       "  <thead>\n",
       "    <tr style=\"text-align: right;\">\n",
       "      <th></th>\n",
       "      <th>Group</th>\n",
       "      <th>Within</th>\n",
       "      <th>CryoSleep</th>\n",
       "      <th>VIP</th>\n",
       "      <th>num</th>\n",
       "      <th>Age</th>\n",
       "      <th>RoomService</th>\n",
       "      <th>FoodCourt</th>\n",
       "      <th>ShoppingMall</th>\n",
       "      <th>Spa</th>\n",
       "      <th>...</th>\n",
       "      <th>3.0</th>\n",
       "      <th>4.0</th>\n",
       "      <th>5.0</th>\n",
       "      <th>6.0</th>\n",
       "      <th>7.0</th>\n",
       "      <th>0.0</th>\n",
       "      <th>1.0</th>\n",
       "      <th>0.0</th>\n",
       "      <th>1.0</th>\n",
       "      <th>2.0</th>\n",
       "    </tr>\n",
       "  </thead>\n",
       "  <tbody>\n",
       "    <tr>\n",
       "      <th>0</th>\n",
       "      <td>1.0</td>\n",
       "      <td>1.0</td>\n",
       "      <td>0.0</td>\n",
       "      <td>0.0</td>\n",
       "      <td>0.0</td>\n",
       "      <td>39.0</td>\n",
       "      <td>0.0</td>\n",
       "      <td>0.0</td>\n",
       "      <td>0.0</td>\n",
       "      <td>0.0</td>\n",
       "      <td>...</td>\n",
       "      <td>0.0</td>\n",
       "      <td>0.0</td>\n",
       "      <td>0.0</td>\n",
       "      <td>0.0</td>\n",
       "      <td>0.0</td>\n",
       "      <td>1.0</td>\n",
       "      <td>0.0</td>\n",
       "      <td>0.0</td>\n",
       "      <td>0.0</td>\n",
       "      <td>1.0</td>\n",
       "    </tr>\n",
       "    <tr>\n",
       "      <th>1</th>\n",
       "      <td>2.0</td>\n",
       "      <td>1.0</td>\n",
       "      <td>0.0</td>\n",
       "      <td>0.0</td>\n",
       "      <td>0.0</td>\n",
       "      <td>24.0</td>\n",
       "      <td>109.0</td>\n",
       "      <td>9.0</td>\n",
       "      <td>25.0</td>\n",
       "      <td>549.0</td>\n",
       "      <td>...</td>\n",
       "      <td>0.0</td>\n",
       "      <td>0.0</td>\n",
       "      <td>1.0</td>\n",
       "      <td>0.0</td>\n",
       "      <td>0.0</td>\n",
       "      <td>0.0</td>\n",
       "      <td>1.0</td>\n",
       "      <td>0.0</td>\n",
       "      <td>0.0</td>\n",
       "      <td>1.0</td>\n",
       "    </tr>\n",
       "    <tr>\n",
       "      <th>2</th>\n",
       "      <td>3.0</td>\n",
       "      <td>1.0</td>\n",
       "      <td>0.0</td>\n",
       "      <td>1.0</td>\n",
       "      <td>0.0</td>\n",
       "      <td>58.0</td>\n",
       "      <td>43.0</td>\n",
       "      <td>3576.0</td>\n",
       "      <td>0.0</td>\n",
       "      <td>6715.0</td>\n",
       "      <td>...</td>\n",
       "      <td>0.0</td>\n",
       "      <td>0.0</td>\n",
       "      <td>0.0</td>\n",
       "      <td>0.0</td>\n",
       "      <td>0.0</td>\n",
       "      <td>0.0</td>\n",
       "      <td>1.0</td>\n",
       "      <td>0.0</td>\n",
       "      <td>0.0</td>\n",
       "      <td>1.0</td>\n",
       "    </tr>\n",
       "    <tr>\n",
       "      <th>3</th>\n",
       "      <td>3.0</td>\n",
       "      <td>2.0</td>\n",
       "      <td>0.0</td>\n",
       "      <td>0.0</td>\n",
       "      <td>0.0</td>\n",
       "      <td>33.0</td>\n",
       "      <td>0.0</td>\n",
       "      <td>1283.0</td>\n",
       "      <td>371.0</td>\n",
       "      <td>3329.0</td>\n",
       "      <td>...</td>\n",
       "      <td>0.0</td>\n",
       "      <td>0.0</td>\n",
       "      <td>0.0</td>\n",
       "      <td>0.0</td>\n",
       "      <td>0.0</td>\n",
       "      <td>0.0</td>\n",
       "      <td>1.0</td>\n",
       "      <td>0.0</td>\n",
       "      <td>0.0</td>\n",
       "      <td>1.0</td>\n",
       "    </tr>\n",
       "    <tr>\n",
       "      <th>4</th>\n",
       "      <td>4.0</td>\n",
       "      <td>1.0</td>\n",
       "      <td>0.0</td>\n",
       "      <td>0.0</td>\n",
       "      <td>1.0</td>\n",
       "      <td>16.0</td>\n",
       "      <td>303.0</td>\n",
       "      <td>70.0</td>\n",
       "      <td>151.0</td>\n",
       "      <td>565.0</td>\n",
       "      <td>...</td>\n",
       "      <td>0.0</td>\n",
       "      <td>0.0</td>\n",
       "      <td>1.0</td>\n",
       "      <td>0.0</td>\n",
       "      <td>0.0</td>\n",
       "      <td>0.0</td>\n",
       "      <td>1.0</td>\n",
       "      <td>0.0</td>\n",
       "      <td>0.0</td>\n",
       "      <td>1.0</td>\n",
       "    </tr>\n",
       "  </tbody>\n",
       "</table>\n",
       "<p>5 rows × 27 columns</p>\n",
       "</div>"
      ],
      "text/plain": [
       "   Group  Within  CryoSleep  VIP  num   Age  RoomService  FoodCourt  \\\n",
       "0    1.0     1.0        0.0  0.0  0.0  39.0          0.0        0.0   \n",
       "1    2.0     1.0        0.0  0.0  0.0  24.0        109.0        9.0   \n",
       "2    3.0     1.0        0.0  1.0  0.0  58.0         43.0     3576.0   \n",
       "3    3.0     2.0        0.0  0.0  0.0  33.0          0.0     1283.0   \n",
       "4    4.0     1.0        0.0  0.0  1.0  16.0        303.0       70.0   \n",
       "\n",
       "   ShoppingMall     Spa  ...  3.0  4.0  5.0  6.0  7.0  0.0  1.0  0.0  1.0  2.0  \n",
       "0           0.0     0.0  ...  0.0  0.0  0.0  0.0  0.0  1.0  0.0  0.0  0.0  1.0  \n",
       "1          25.0   549.0  ...  0.0  0.0  1.0  0.0  0.0  0.0  1.0  0.0  0.0  1.0  \n",
       "2           0.0  6715.0  ...  0.0  0.0  0.0  0.0  0.0  0.0  1.0  0.0  0.0  1.0  \n",
       "3         371.0  3329.0  ...  0.0  0.0  0.0  0.0  0.0  0.0  1.0  0.0  0.0  1.0  \n",
       "4         151.0   565.0  ...  0.0  0.0  1.0  0.0  0.0  0.0  1.0  0.0  0.0  1.0  \n",
       "\n",
       "[5 rows x 27 columns]"
      ]
     },
     "execution_count": 109,
     "metadata": {},
     "output_type": "execute_result"
    }
   ],
   "source": [
    "new_data = kds.complete_data(3)\n",
    "new_data = pd.get_dummies(new_data,columns=['HomePlanet','deck','side','Destination'],prefix_sep=\"\",prefix=\"\",dtype=np.float32)\n",
    "new_data.head()"
   ]
  },
  {
   "cell_type": "code",
   "execution_count": 111,
   "metadata": {},
   "outputs": [
    {
     "name": "stdout",
     "output_type": "stream",
     "text": [
      "0.8247470101195952\n"
     ]
    }
   ],
   "source": [
    "stan = StandardScaler()\n",
    "stan.set_output(transform='pandas')\n",
    "new_data[num_cols] = stan.fit_transform(new_data[num_cols])\n",
    "train_set = new_data.loc[:8692].copy()\n",
    "test_set = new_data.loc[8693:].copy()\n",
    "y_arr = y_total.to_numpy().ravel()\n",
    "X = train_set.to_numpy()\n",
    "X_train,X_test,y_train,y_test = train_test_split(X,y_arr,stratify=y_arr,shuffle=True,random_state=55)\n",
    "grad = GradientBoostingClassifier(n_estimators=100,max_depth=6)\n",
    "grad.fit(X_train,y_train)\n",
    "print(grad.score(X_test,y_test))"
   ]
  },
  {
   "cell_type": "code",
   "execution_count": 130,
   "metadata": {},
   "outputs": [
    {
     "name": "stdout",
     "output_type": "stream",
     "text": [
      "0.8039102932719955\n",
      "{'learning_rate': 0.1, 'max_depth': 3, 'n_estimators': 400}\n"
     ]
    }
   ],
   "source": [
    "xgb_clf = xgb.XGBClassifier(n_jobs=-1)\n",
    "params = {\n",
    "    \"n_estimators\":np.arange(50,500,50),\n",
    "    \"max_depth\":np.arange(3,16,2),\n",
    "    \"learning_rate\":np.logspace(-4,-1,4)   \n",
    "}\n",
    "strat = StratifiedShuffleSplit(2,test_size=0.2,random_state=56)\n",
    "grid = GridSearchCV(xgb_clf,param_grid=params,cv=strat,n_jobs=-1,scoring=\"accuracy\")\n",
    "grid.fit(X,y_arr)\n",
    "print(grid.best_score_)\n",
    "print(grid.best_params_)"
   ]
  },
  {
   "cell_type": "code",
   "execution_count": 133,
   "metadata": {},
   "outputs": [],
   "source": [
    "y_pred = grad.predict(test_set.to_numpy())"
   ]
  },
  {
   "cell_type": "code",
   "execution_count": 140,
   "metadata": {},
   "outputs": [],
   "source": [
    "sample['Transported'] = y_pred.astype(np.bool_)"
   ]
  },
  {
   "cell_type": "code",
   "execution_count": null,
   "metadata": {},
   "outputs": [],
   "source": []
  },
  {
   "cell_type": "code",
   "execution_count": null,
   "metadata": {},
   "outputs": [],
   "source": []
  },
  {
   "cell_type": "code",
   "execution_count": null,
   "metadata": {},
   "outputs": [],
   "source": []
  },
  {
   "cell_type": "code",
   "execution_count": null,
   "metadata": {},
   "outputs": [],
   "source": []
  },
  {
   "cell_type": "code",
   "execution_count": 22,
   "metadata": {},
   "outputs": [],
   "source": [
    "class TotalTransform(BaseEstimator,TransformerMixin):\n",
    "\n",
    "    def __init__(self,train=True):\n",
    "        self.train = train\n",
    "\n",
    "    def fit(self,X,y=None):\n",
    "        return self\n",
    "    \n",
    "    def transform(self,X,y=None):\n",
    "        pass"
   ]
  },
  {
   "cell_type": "markdown",
   "metadata": {},
   "source": [
    "# Rough Work"
   ]
  },
  {
   "cell_type": "code",
   "execution_count": 23,
   "metadata": {},
   "outputs": [],
   "source": [
    "# check for corr() coefficient\n",
    "# arr1 = np.random.randint(20,40,30)\n",
    "# arr2 = np.random.randint(1,20,30)\n",
    "# temp_df = pd.DataFrame(np.hstack([arr1,arr2]),columns=[\"num\"])\n",
    "# temp_df.loc[:30,'choice'] = 0\n",
    "# temp_df.loc[30:,'choice'] = 1\n",
    "# temp_df.corr()\n",
    "# check for same deck,num,side in total_na\n",
    "# num = 2\n",
    "# total_no_na.query(f\"Last == '{total_na.query('deck != deck').Last.iloc[num]}' and Group == {total_na.query('deck != deck').Group.iloc[num]}\")"
   ]
  }
 ],
 "metadata": {
  "kernelspec": {
   "display_name": "base",
   "language": "python",
   "name": "python3"
  },
  "language_info": {
   "codemirror_mode": {
    "name": "ipython",
    "version": 3
   },
   "file_extension": ".py",
   "mimetype": "text/x-python",
   "name": "python",
   "nbconvert_exporter": "python",
   "pygments_lexer": "ipython3",
   "version": "3.11.3"
  },
  "orig_nbformat": 4
 },
 "nbformat": 4,
 "nbformat_minor": 2
}
