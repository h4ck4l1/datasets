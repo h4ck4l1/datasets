{
 "cells": [
  {
   "cell_type": "code",
   "execution_count": 1,
   "id": "50b74206",
   "metadata": {
    "execution": {
     "iopub.execute_input": "2024-04-15T09:26:44.165621Z",
     "iopub.status.busy": "2024-04-15T09:26:44.165276Z",
     "iopub.status.idle": "2024-04-15T09:26:49.527788Z",
     "shell.execute_reply": "2024-04-15T09:26:49.526561Z"
    },
    "papermill": {
     "duration": 5.376362,
     "end_time": "2024-04-15T09:26:49.529944",
     "exception": false,
     "start_time": "2024-04-15T09:26:44.153582",
     "status": "completed"
    },
    "tags": []
   },
   "outputs": [
    {
     "name": "stdout",
     "output_type": "stream",
     "text": [
      "Exception reporting mode: Minimal\n"
     ]
    }
   ],
   "source": [
    "import os,sys,warnings,re,math,gc,time\n",
    "warnings.filterwarnings('ignore')\n",
    "import numpy as np\n",
    "import pandas as pd\n",
    "import polars as pl\n",
    "import polars.selectors as cs\n",
    "from glob import glob\n",
    "from sklearn.metrics import roc_auc_score,auc\n",
    "from sklearn.neighbors import KNeighborsClassifier\n",
    "from sklearn.model_selection import train_test_split,StratifiedKFold,StratifiedGroupKFold\n",
    "from sklearn.preprocessing import OrdinalEncoder\n",
    "import lightgbm as lgb\n",
    "%xmode Minimal"
   ]
  },
  {
   "cell_type": "code",
   "execution_count": 2,
   "id": "7a55081b",
   "metadata": {
    "execution": {
     "iopub.execute_input": "2024-04-15T09:26:49.552269Z",
     "iopub.status.busy": "2024-04-15T09:26:49.551954Z",
     "iopub.status.idle": "2024-04-15T09:26:49.561197Z",
     "shell.execute_reply": "2024-04-15T09:26:49.560362Z"
    },
    "papermill": {
     "duration": 0.022448,
     "end_time": "2024-04-15T09:26:49.563045",
     "exception": false,
     "start_time": "2024-04-15T09:26:49.540597",
     "status": "completed"
    },
    "tags": []
   },
   "outputs": [
    {
     "data": {
      "text/plain": [
       "polars.config.Config"
      ]
     },
     "execution_count": 2,
     "metadata": {},
     "output_type": "execute_result"
    }
   ],
   "source": [
    "pl.Config.set_fmt_str_lengths(100)\n",
    "pl.Config.set_thousands_separator(\",\")\n",
    "pl.Config.set_float_precision(2)\n",
    "pl.Config.set_fmt_float(\"full\")\n",
    "pl.Config.set_tbl_rows(6)"
   ]
  },
  {
   "cell_type": "code",
   "execution_count": 3,
   "id": "458c285f",
   "metadata": {
    "execution": {
     "iopub.execute_input": "2024-04-15T09:26:49.583836Z",
     "iopub.status.busy": "2024-04-15T09:26:49.583416Z",
     "iopub.status.idle": "2024-04-15T09:26:49.587678Z",
     "shell.execute_reply": "2024-04-15T09:26:49.586851Z"
    },
    "papermill": {
     "duration": 0.016696,
     "end_time": "2024-04-15T09:26:49.589512",
     "exception": false,
     "start_time": "2024-04-15T09:26:49.572816",
     "status": "completed"
    },
    "tags": []
   },
   "outputs": [],
   "source": [
    "path_to_train = \"/kaggle/input/home-credit-credit-risk-model-stability/parquet_files/train\"\n",
    "path_to_test = \"/kaggle/input/home-credit-credit-risk-model-stability/parquet_files/test\"\n",
    "path_to_features = \"/kaggle/input/home-credit-credit-risk-model-stability/feature_definitions.csv\""
   ]
  },
  {
   "cell_type": "code",
   "execution_count": 4,
   "id": "d5d10e21",
   "metadata": {
    "execution": {
     "iopub.execute_input": "2024-04-15T09:26:49.610016Z",
     "iopub.status.busy": "2024-04-15T09:26:49.609698Z",
     "iopub.status.idle": "2024-04-15T09:26:49.674047Z",
     "shell.execute_reply": "2024-04-15T09:26:49.673141Z"
    },
    "papermill": {
     "duration": 0.076699,
     "end_time": "2024-04-15T09:26:49.675962",
     "exception": false,
     "start_time": "2024-04-15T09:26:49.599263",
     "status": "completed"
    },
    "tags": []
   },
   "outputs": [
    {
     "data": {
      "text/html": [
       "<div><style>\n",
       ".dataframe > thead > tr,\n",
       ".dataframe > tbody > tr {\n",
       "  text-align: right;\n",
       "  white-space: pre-wrap;\n",
       "}\n",
       "</style>\n",
       "<small>shape: (5, 2)</small><table border=\"1\" class=\"dataframe\"><thead><tr><th>Variable</th><th>Description</th></tr><tr><td>str</td><td>str</td></tr></thead><tbody><tr><td>&quot;actualdpd_943P&quot;</td><td>&quot;Days Past Due (DPD) of previous contract (actual).&quot;</td></tr><tr><td>&quot;actualdpdtolerance_344P&quot;</td><td>&quot;DPD of client with tolerance.&quot;</td></tr><tr><td>&quot;addres_district_368M&quot;</td><td>&quot;District of the person&#x27;s address.&quot;</td></tr><tr><td>&quot;addres_role_871L&quot;</td><td>&quot;Role of person&#x27;s address.&quot;</td></tr><tr><td>&quot;addres_zip_823M&quot;</td><td>&quot;Zip code of the address.&quot;</td></tr></tbody></table></div>"
      ],
      "text/plain": [
       "shape: (5, 2)\n",
       "┌─────────────────────────┬────────────────────────────────────────────────────┐\n",
       "│ Variable                ┆ Description                                        │\n",
       "│ ---                     ┆ ---                                                │\n",
       "│ str                     ┆ str                                                │\n",
       "╞═════════════════════════╪════════════════════════════════════════════════════╡\n",
       "│ actualdpd_943P          ┆ Days Past Due (DPD) of previous contract (actual). │\n",
       "│ actualdpdtolerance_344P ┆ DPD of client with tolerance.                      │\n",
       "│ addres_district_368M    ┆ District of the person's address.                  │\n",
       "│ addres_role_871L        ┆ Role of person's address.                          │\n",
       "│ addres_zip_823M         ┆ Zip code of the address.                           │\n",
       "└─────────────────────────┴────────────────────────────────────────────────────┘"
      ]
     },
     "execution_count": 4,
     "metadata": {},
     "output_type": "execute_result"
    }
   ],
   "source": [
    "feat_df = pl.read_csv(path_to_features)\n",
    "feat_df.head()"
   ]
  },
  {
   "cell_type": "code",
   "execution_count": 5,
   "id": "47e0b617",
   "metadata": {
    "execution": {
     "iopub.execute_input": "2024-04-15T09:26:49.697405Z",
     "iopub.status.busy": "2024-04-15T09:26:49.697112Z",
     "iopub.status.idle": "2024-04-15T09:26:49.775022Z",
     "shell.execute_reply": "2024-04-15T09:26:49.774152Z"
    },
    "papermill": {
     "duration": 0.090731,
     "end_time": "2024-04-15T09:26:49.776882",
     "exception": false,
     "start_time": "2024-04-15T09:26:49.686151",
     "status": "completed"
    },
    "tags": []
   },
   "outputs": [
    {
     "data": {
      "text/html": [
       "<div><style>\n",
       ".dataframe > thead > tr,\n",
       ".dataframe > tbody > tr {\n",
       "  text-align: right;\n",
       "  white-space: pre-wrap;\n",
       "}\n",
       "</style>\n",
       "<small>shape: (5, 3)</small><table border=\"1\" class=\"dataframe\"><thead><tr><th>index</th><th>path</th><th>filename</th></tr><tr><td>i64</td><td>str</td><td>str</td></tr></thead><tbody><tr><td>31</td><td>&quot;/kaggle/input/home-credit-credit-risk-model-stability/parquet_files/train/train_applprev_1_0.parque…</td><td>&quot;train_applprev_1_0.parquet&quot;</td></tr><tr><td>4</td><td>&quot;/kaggle/input/home-credit-credit-risk-model-stability/parquet_files/train/train_applprev_1_1.parque…</td><td>&quot;train_applprev_1_1.parquet&quot;</td></tr><tr><td>24</td><td>&quot;/kaggle/input/home-credit-credit-risk-model-stability/parquet_files/train/train_applprev_2.parquet&quot;</td><td>&quot;train_applprev_2.parquet&quot;</td></tr><tr><td>21</td><td>&quot;/kaggle/input/home-credit-credit-risk-model-stability/parquet_files/train/train_base.parquet&quot;</td><td>&quot;train_base.parquet&quot;</td></tr><tr><td>29</td><td>&quot;/kaggle/input/home-credit-credit-risk-model-stability/parquet_files/train/train_credit_bureau_a_1_0…</td><td>&quot;train_credit_bureau_a_1_0.parquet&quot;</td></tr></tbody></table></div>"
      ],
      "text/plain": [
       "shape: (5, 3)\n",
       "┌───────┬──────────────────────────────────────────────────────┬───────────────────────────────────┐\n",
       "│ index ┆ path                                                 ┆ filename                          │\n",
       "│ ---   ┆ ---                                                  ┆ ---                               │\n",
       "│ i64   ┆ str                                                  ┆ str                               │\n",
       "╞═══════╪══════════════════════════════════════════════════════╪═══════════════════════════════════╡\n",
       "│ 31    ┆ /kaggle/input/home-credit-credit-risk-model-stabilit ┆ train_applprev_1_0.parquet        │\n",
       "│       ┆ y/parquet_files/train/train_applprev_1_0.parquet     ┆                                   │\n",
       "│ 4     ┆ /kaggle/input/home-credit-credit-risk-model-stabilit ┆ train_applprev_1_1.parquet        │\n",
       "│       ┆ y/parquet_files/train/train_applprev_1_1.parquet     ┆                                   │\n",
       "│ 24    ┆ /kaggle/input/home-credit-credit-risk-model-stabilit ┆ train_applprev_2.parquet          │\n",
       "│       ┆ y/parquet_files/train/train_applprev_2.parquet       ┆                                   │\n",
       "│ 21    ┆ /kaggle/input/home-credit-credit-risk-model-stabilit ┆ train_base.parquet                │\n",
       "│       ┆ y/parquet_files/train/train_base.parquet             ┆                                   │\n",
       "│ 29    ┆ /kaggle/input/home-credit-credit-risk-model-stabilit ┆ train_credit_bureau_a_1_0.parquet │\n",
       "│       ┆ y/parquet_files/train/train_credit_bureau_a_1_0.…    ┆                                   │\n",
       "└───────┴──────────────────────────────────────────────────────┴───────────────────────────────────┘"
      ]
     },
     "metadata": {},
     "output_type": "display_data"
    },
    {
     "data": {
      "text/html": [
       "<div><style>\n",
       ".dataframe > thead > tr,\n",
       ".dataframe > tbody > tr {\n",
       "  text-align: right;\n",
       "  white-space: pre-wrap;\n",
       "}\n",
       "</style>\n",
       "<small>shape: (5, 3)</small><table border=\"1\" class=\"dataframe\"><thead><tr><th>index</th><th>path</th><th>filename</th></tr><tr><td>i64</td><td>str</td><td>str</td></tr></thead><tbody><tr><td>18</td><td>&quot;/kaggle/input/home-credit-credit-risk-model-stability/parquet_files/test/test_applprev_1_0.parquet&quot;</td><td>&quot;test_applprev_1_0.parquet&quot;</td></tr><tr><td>26</td><td>&quot;/kaggle/input/home-credit-credit-risk-model-stability/parquet_files/test/test_applprev_1_1.parquet&quot;</td><td>&quot;test_applprev_1_1.parquet&quot;</td></tr><tr><td>14</td><td>&quot;/kaggle/input/home-credit-credit-risk-model-stability/parquet_files/test/test_applprev_1_2.parquet&quot;</td><td>&quot;test_applprev_1_2.parquet&quot;</td></tr><tr><td>1</td><td>&quot;/kaggle/input/home-credit-credit-risk-model-stability/parquet_files/test/test_applprev_2.parquet&quot;</td><td>&quot;test_applprev_2.parquet&quot;</td></tr><tr><td>27</td><td>&quot;/kaggle/input/home-credit-credit-risk-model-stability/parquet_files/test/test_base.parquet&quot;</td><td>&quot;test_base.parquet&quot;</td></tr></tbody></table></div>"
      ],
      "text/plain": [
       "shape: (5, 3)\n",
       "┌───────┬──────────────────────────────────────────────────────────────┬───────────────────────────┐\n",
       "│ index ┆ path                                                         ┆ filename                  │\n",
       "│ ---   ┆ ---                                                          ┆ ---                       │\n",
       "│ i64   ┆ str                                                          ┆ str                       │\n",
       "╞═══════╪══════════════════════════════════════════════════════════════╪═══════════════════════════╡\n",
       "│ 18    ┆ /kaggle/input/home-credit-credit-risk-model-stability/parque ┆ test_applprev_1_0.parquet │\n",
       "│       ┆ t_files/test/test_applprev_1_0.parquet                       ┆                           │\n",
       "│ 26    ┆ /kaggle/input/home-credit-credit-risk-model-stability/parque ┆ test_applprev_1_1.parquet │\n",
       "│       ┆ t_files/test/test_applprev_1_1.parquet                       ┆                           │\n",
       "│ 14    ┆ /kaggle/input/home-credit-credit-risk-model-stability/parque ┆ test_applprev_1_2.parquet │\n",
       "│       ┆ t_files/test/test_applprev_1_2.parquet                       ┆                           │\n",
       "│ 1     ┆ /kaggle/input/home-credit-credit-risk-model-stability/parque ┆ test_applprev_2.parquet   │\n",
       "│       ┆ t_files/test/test_applprev_2.parquet                         ┆                           │\n",
       "│ 27    ┆ /kaggle/input/home-credit-credit-risk-model-stability/parque ┆ test_base.parquet         │\n",
       "│       ┆ t_files/test/test_base.parquet                               ┆                           │\n",
       "└───────┴──────────────────────────────────────────────────────────────┴───────────────────────────┘"
      ]
     },
     "metadata": {},
     "output_type": "display_data"
    }
   ],
   "source": [
    "all_train_files = glob(path_to_train+\"/*.parquet\")\n",
    "all_test_files = glob(path_to_test+\"/*.parquet\")\n",
    "train_files_df = pl.DataFrame({\"index\":range(len(all_train_files)),\"path\":all_train_files})\n",
    "test_files_df = pl.DataFrame({\"index\":range(len(all_test_files)),\"path\":all_test_files})\n",
    "train_files_df = (\n",
    "    train_files_df\n",
    "    .with_columns(\n",
    "        (pl.col(\"path\").str.split(\"/\").list.get(-1)).alias(\"filename\")\n",
    "    )\n",
    "    .sort(by=\"filename\")\n",
    ")\n",
    "test_files_df = (\n",
    "    test_files_df\n",
    "    .with_columns(\n",
    "        (pl.col(\"path\").str.split(\"/\").list.get(-1)).alias(\"filename\")\n",
    "    )\n",
    "    .sort(by=\"filename\")\n",
    ")\n",
    "display(train_files_df.head())\n",
    "display(test_files_df.head())"
   ]
  },
  {
   "cell_type": "code",
   "execution_count": 6,
   "id": "f85cf28e",
   "metadata": {
    "execution": {
     "iopub.execute_input": "2024-04-15T09:26:49.800096Z",
     "iopub.status.busy": "2024-04-15T09:26:49.799814Z",
     "iopub.status.idle": "2024-04-15T09:26:50.517082Z",
     "shell.execute_reply": "2024-04-15T09:26:50.516204Z"
    },
    "papermill": {
     "duration": 0.730896,
     "end_time": "2024-04-15T09:26:50.519267",
     "exception": false,
     "start_time": "2024-04-15T09:26:49.788371",
     "status": "completed"
    },
    "tags": []
   },
   "outputs": [
    {
     "data": {
      "text/html": [
       "<div><style>\n",
       ".dataframe > thead > tr,\n",
       ".dataframe > tbody > tr {\n",
       "  text-align: right;\n",
       "  white-space: pre-wrap;\n",
       "}\n",
       "</style>\n",
       "<small>shape: (1_526_659, 7)</small><table border=\"1\" class=\"dataframe\"><thead><tr><th>case_id_base</th><th>Date</th><th>month</th><th>week</th><th>weekday</th><th>year</th><th>target</th></tr><tr><td>u32</td><td>date</td><td>i8</td><td>i8</td><td>i8</td><td>i32</td><td>u8</td></tr></thead><tbody><tr><td>0</td><td>2019-01-03</td><td>1</td><td>1</td><td>4</td><td>0</td><td>0</td></tr><tr><td>1</td><td>2019-01-03</td><td>1</td><td>1</td><td>4</td><td>0</td><td>0</td></tr><tr><td>2</td><td>2019-01-04</td><td>1</td><td>1</td><td>5</td><td>0</td><td>0</td></tr><tr><td>&hellip;</td><td>&hellip;</td><td>&hellip;</td><td>&hellip;</td><td>&hellip;</td><td>&hellip;</td><td>&hellip;</td></tr><tr><td>2,703,452</td><td>2020-10-05</td><td>10</td><td>41</td><td>1</td><td>1</td><td>0</td></tr><tr><td>2,703,453</td><td>2020-10-05</td><td>10</td><td>41</td><td>1</td><td>1</td><td>0</td></tr><tr><td>2,703,454</td><td>2020-10-05</td><td>10</td><td>41</td><td>1</td><td>1</td><td>0</td></tr></tbody></table></div>"
      ],
      "text/plain": [
       "shape: (1_526_659, 7)\n",
       "┌──────────────┬────────────┬───────┬──────┬─────────┬──────┬────────┐\n",
       "│ case_id_base ┆ Date       ┆ month ┆ week ┆ weekday ┆ year ┆ target │\n",
       "│ ---          ┆ ---        ┆ ---   ┆ ---  ┆ ---     ┆ ---  ┆ ---    │\n",
       "│ u32          ┆ date       ┆ i8    ┆ i8   ┆ i8      ┆ i32  ┆ u8     │\n",
       "╞══════════════╪════════════╪═══════╪══════╪═════════╪══════╪════════╡\n",
       "│ 0            ┆ 2019-01-03 ┆ 1     ┆ 1    ┆ 4       ┆ 0    ┆ 0      │\n",
       "│ 1            ┆ 2019-01-03 ┆ 1     ┆ 1    ┆ 4       ┆ 0    ┆ 0      │\n",
       "│ 2            ┆ 2019-01-04 ┆ 1     ┆ 1    ┆ 5       ┆ 0    ┆ 0      │\n",
       "│ …            ┆ …          ┆ …     ┆ …    ┆ …       ┆ …    ┆ …      │\n",
       "│ 2,703,452    ┆ 2020-10-05 ┆ 10    ┆ 41   ┆ 1       ┆ 1    ┆ 0      │\n",
       "│ 2,703,453    ┆ 2020-10-05 ┆ 10    ┆ 41   ┆ 1       ┆ 1    ┆ 0      │\n",
       "│ 2,703,454    ┆ 2020-10-05 ┆ 10    ┆ 41   ┆ 1       ┆ 1    ┆ 0      │\n",
       "└──────────────┴────────────┴───────┴──────┴─────────┴──────┴────────┘"
      ]
     },
     "execution_count": 6,
     "metadata": {},
     "output_type": "execute_result"
    }
   ],
   "source": [
    "train_base = (\n",
    "    pl.read_parquet(path_to_train+\"/train_base.parquet\")\n",
    "    .select(\n",
    "        pl.col(\"case_id\").cast(pl.UInt32).alias(\"case_id_base\"),\n",
    "        cs.contains(\"date\").str.to_date().alias(\"Date\"),\n",
    "        pl.col(\"target\").cast(pl.UInt8)\n",
    "    )\n",
    "    .with_columns(\n",
    "        pl.col(\"Date\").dt.month().alias(\"month\"),\n",
    "        pl.col(\"Date\").dt.week().alias(\"week\"),\n",
    "        pl.col(\"Date\").dt.weekday().alias(\"weekday\"),\n",
    "        (pl.col(\"Date\").dt.year() - 2019).alias(\"year\")\n",
    "    )\n",
    "    .select(~cs.contains(\"target\"),cs.contains(\"target\"))\n",
    ")\n",
    "train_base"
   ]
  },
  {
   "cell_type": "code",
   "execution_count": 7,
   "id": "f5592215",
   "metadata": {
    "execution": {
     "iopub.execute_input": "2024-04-15T09:26:50.542480Z",
     "iopub.status.busy": "2024-04-15T09:26:50.542022Z",
     "iopub.status.idle": "2024-04-15T09:26:50.562574Z",
     "shell.execute_reply": "2024-04-15T09:26:50.561689Z"
    },
    "papermill": {
     "duration": 0.034471,
     "end_time": "2024-04-15T09:26:50.564598",
     "exception": false,
     "start_time": "2024-04-15T09:26:50.530127",
     "status": "completed"
    },
    "tags": []
   },
   "outputs": [
    {
     "data": {
      "text/html": [
       "<div><style>\n",
       ".dataframe > thead > tr,\n",
       ".dataframe > tbody > tr {\n",
       "  text-align: right;\n",
       "  white-space: pre-wrap;\n",
       "}\n",
       "</style>\n",
       "<small>shape: (10, 7)</small><table border=\"1\" class=\"dataframe\"><thead><tr><th>case_id_base</th><th>Date</th><th>month</th><th>week</th><th>weekday</th><th>year</th><th>target</th></tr><tr><td>u32</td><td>date</td><td>i8</td><td>i8</td><td>i8</td><td>i32</td><td>u8</td></tr></thead><tbody><tr><td>57,543</td><td>2021-05-14</td><td>5</td><td>19</td><td>5</td><td>2</td><td>0</td></tr><tr><td>57,549</td><td>2022-01-17</td><td>1</td><td>3</td><td>1</td><td>3</td><td>0</td></tr><tr><td>57,551</td><td>2020-11-27</td><td>11</td><td>48</td><td>5</td><td>1</td><td>0</td></tr><tr><td>&hellip;</td><td>&hellip;</td><td>&hellip;</td><td>&hellip;</td><td>&hellip;</td><td>&hellip;</td><td>&hellip;</td></tr><tr><td>57,632</td><td>2022-02-05</td><td>2</td><td>5</td><td>6</td><td>3</td><td>0</td></tr><tr><td>57,633</td><td>2022-01-25</td><td>1</td><td>4</td><td>2</td><td>3</td><td>0</td></tr><tr><td>57,634</td><td>2021-01-27</td><td>1</td><td>4</td><td>3</td><td>2</td><td>0</td></tr></tbody></table></div>"
      ],
      "text/plain": [
       "shape: (10, 7)\n",
       "┌──────────────┬────────────┬───────┬──────┬─────────┬──────┬────────┐\n",
       "│ case_id_base ┆ Date       ┆ month ┆ week ┆ weekday ┆ year ┆ target │\n",
       "│ ---          ┆ ---        ┆ ---   ┆ ---  ┆ ---     ┆ ---  ┆ ---    │\n",
       "│ u32          ┆ date       ┆ i8    ┆ i8   ┆ i8      ┆ i32  ┆ u8     │\n",
       "╞══════════════╪════════════╪═══════╪══════╪═════════╪══════╪════════╡\n",
       "│ 57,543       ┆ 2021-05-14 ┆ 5     ┆ 19   ┆ 5       ┆ 2    ┆ 0      │\n",
       "│ 57,549       ┆ 2022-01-17 ┆ 1     ┆ 3    ┆ 1       ┆ 3    ┆ 0      │\n",
       "│ 57,551       ┆ 2020-11-27 ┆ 11    ┆ 48   ┆ 5       ┆ 1    ┆ 0      │\n",
       "│ …            ┆ …          ┆ …     ┆ …    ┆ …       ┆ …    ┆ …      │\n",
       "│ 57,632       ┆ 2022-02-05 ┆ 2     ┆ 5    ┆ 6       ┆ 3    ┆ 0      │\n",
       "│ 57,633       ┆ 2022-01-25 ┆ 1     ┆ 4    ┆ 2       ┆ 3    ┆ 0      │\n",
       "│ 57,634       ┆ 2021-01-27 ┆ 1     ┆ 4    ┆ 3       ┆ 2    ┆ 0      │\n",
       "└──────────────┴────────────┴───────┴──────┴─────────┴──────┴────────┘"
      ]
     },
     "execution_count": 7,
     "metadata": {},
     "output_type": "execute_result"
    }
   ],
   "source": [
    "test_base = (\n",
    "    pl.read_parquet(path_to_test+\"/test_base.parquet\")\n",
    "    .select(\n",
    "        pl.col(\"case_id\").cast(pl.UInt32).alias(\"case_id_base\"),\n",
    "        cs.contains(\"date\").str.to_date().alias(\"Date\"),\n",
    "    )\n",
    "    .with_columns(\n",
    "        pl.col(\"Date\").dt.month().alias(\"month\"),\n",
    "        pl.col(\"Date\").dt.week().alias(\"week\"),\n",
    "        pl.col(\"Date\").dt.weekday().alias(\"weekday\"),\n",
    "        (pl.col(\"Date\").dt.year() - 2019).alias(\"year\"),\n",
    "        pl.lit(0).cast(pl.UInt8).alias(\"target\")\n",
    "    )\n",
    ")\n",
    "test_base"
   ]
  },
  {
   "cell_type": "code",
   "execution_count": 8,
   "id": "1c0d241a",
   "metadata": {
    "execution": {
     "iopub.execute_input": "2024-04-15T09:26:50.587696Z",
     "iopub.status.busy": "2024-04-15T09:26:50.587416Z",
     "iopub.status.idle": "2024-04-15T09:26:50.614839Z",
     "shell.execute_reply": "2024-04-15T09:26:50.614071Z"
    },
    "papermill": {
     "duration": 0.041231,
     "end_time": "2024-04-15T09:26:50.616803",
     "exception": false,
     "start_time": "2024-04-15T09:26:50.575572",
     "status": "completed"
    },
    "tags": []
   },
   "outputs": [],
   "source": [
    "total_base = (\n",
    "    pl.concat(\n",
    "        [\n",
    "            train_base,\n",
    "            test_base\n",
    "        ],\n",
    "        how=\"vertical\"\n",
    "    )\n",
    ")"
   ]
  },
  {
   "cell_type": "code",
   "execution_count": 9,
   "id": "780d4434",
   "metadata": {
    "execution": {
     "iopub.execute_input": "2024-04-15T09:26:50.640019Z",
     "iopub.status.busy": "2024-04-15T09:26:50.639691Z",
     "iopub.status.idle": "2024-04-15T09:26:50.653588Z",
     "shell.execute_reply": "2024-04-15T09:26:50.652766Z"
    },
    "papermill": {
     "duration": 0.027717,
     "end_time": "2024-04-15T09:26:50.655515",
     "exception": false,
     "start_time": "2024-04-15T09:26:50.627798",
     "status": "completed"
    },
    "tags": []
   },
   "outputs": [],
   "source": [
    "def reduce_dtypes(df:pl.DataFrame):\n",
    "    return (\n",
    "        df\n",
    "        .with_columns(\n",
    "            cs.by_name(\"case_id\").cast(pl.UInt32),\n",
    "            cs.contains(\"num_group\").cast(pl.UInt16),\n",
    "            cs.ends_with(\"D\").cast(pl.Date),\n",
    "            cs.ends_with(\"T\",\"M\").cast(pl.String),\n",
    "            cs.ends_with(\"P\",\"A\").cast(pl.Float32),\n",
    "            (cs.ends_with(\"L\") & cs.numeric()).cast(pl.Float32),\n",
    "        )\n",
    "    )\n",
    "\n",
    "def grouping(df):\n",
    "    return (\n",
    "        df\n",
    "        .group_by(\"case_id\")\n",
    "        .agg(\n",
    "            cs.numeric().max(),\n",
    "            (~cs.numeric()).drop_nulls().mode().first()\n",
    "        )\n",
    "    )\n",
    "\n",
    "def preprocess(filter_string:str,prefix_string:str):\n",
    "    train_files_list = train_files_df.filter(pl.col(\"filename\").str.contains(filter_string))[\"path\"].to_list()\n",
    "    test_files_list = test_files_df.filter(pl.col(\"filename\").str.contains(filter_string))[\"path\"].to_list()\n",
    "    with pl.StringCache():\n",
    "        train_df = (\n",
    "            pl.concat(\n",
    "                [\n",
    "                    pl.read_parquet(_).pipe(reduce_dtypes).pipe(grouping) for _ in train_files_list\n",
    "                ]\n",
    "            )\n",
    "        )\n",
    "        test_df = (\n",
    "            pl.concat(\n",
    "                [\n",
    "                    pl.read_parquet(_).select(train_df.columns).cast(train_df.schema).pipe(grouping) for _ in test_files_list\n",
    "                ]\n",
    "            )\n",
    "        )\n",
    "    return (\n",
    "        pl.concat(\n",
    "            [\n",
    "                train_df,\n",
    "                test_df\n",
    "            ],\n",
    "            how=\"vertical_relaxed\"\n",
    "        )\n",
    "        .pipe(lambda df: df.rename({_:f\"{prefix_string}_{_}\" for _ in df.columns if not _ == 'case_id'}))\n",
    "    )\n",
    "\n",
    "def select_low_catcols(df:pl.DataFrame,thresh=200):\n",
    "    col_names = []\n",
    "    for col_name in df.select(cs.categorical()).columns:\n",
    "        if df.select(pl.col(col_name).value_counts()).shape[0] > thresh:\n",
    "            col_names.append(col_name)\n",
    "    return df.select(~cs.by_name(col_names))\n",
    "    \n",
    "\n",
    "def select_impuatable(df:pl.DataFrame,thresh=0.95):\n",
    "    cols =  (\n",
    "        df\n",
    "        .select(pl.all().is_null().mean())\n",
    "        .transpose(include_header=True)\n",
    "        .filter(pl.col(\"column_0\") < thresh)\n",
    "        [\"column\"].to_list()\n",
    "    )\n",
    "    return df.select(cols)"
   ]
  },
  {
   "cell_type": "code",
   "execution_count": 10,
   "id": "985b3008",
   "metadata": {
    "execution": {
     "iopub.execute_input": "2024-04-15T09:26:50.678092Z",
     "iopub.status.busy": "2024-04-15T09:26:50.677821Z",
     "iopub.status.idle": "2024-04-15T09:27:40.238855Z",
     "shell.execute_reply": "2024-04-15T09:27:40.237952Z"
    },
    "papermill": {
     "duration": 49.586351,
     "end_time": "2024-04-15T09:27:40.252597",
     "exception": false,
     "start_time": "2024-04-15T09:26:50.666246",
     "status": "completed"
    },
    "tags": []
   },
   "outputs": [
    {
     "data": {
      "text/html": [
       "<div><style>\n",
       ".dataframe > thead > tr,\n",
       ".dataframe > tbody > tr {\n",
       "  text-align: right;\n",
       "  white-space: pre-wrap;\n",
       "}\n",
       "</style>\n",
       "<small>shape: (1_221_526, 41)</small><table border=\"1\" class=\"dataframe\"><thead><tr><th>case_id</th><th>past_shallow_actualdpd_943P</th><th>past_shallow_annuity_853A</th><th>past_shallow_byoccupationinc_3656910L</th><th>past_shallow_childnum_21L</th><th>past_shallow_credacc_actualbalance_314A</th><th>past_shallow_credacc_credlmt_575A</th><th>past_shallow_credacc_maxhisbal_375A</th><th>past_shallow_credacc_minhisbal_90A</th><th>past_shallow_credacc_transactions_402L</th><th>past_shallow_credamount_590A</th><th>past_shallow_currdebt_94A</th><th>past_shallow_downpmt_134A</th><th>past_shallow_mainoccupationinc_437A</th><th>past_shallow_maxdpdtolerance_577P</th><th>past_shallow_num_group1</th><th>past_shallow_outstandingdebt_522A</th><th>past_shallow_pmtnum_8L</th><th>past_shallow_revolvingaccount_394A</th><th>past_shallow_tenor_203L</th><th>past_shallow_approvaldate_319D</th><th>past_shallow_cancelreason_3545846M</th><th>past_shallow_creationdate_885D</th><th>past_shallow_credacc_status_367L</th><th>past_shallow_credtype_587L</th><th>past_shallow_dateactivated_425D</th><th>past_shallow_district_544M</th><th>past_shallow_dtlastpmt_581D</th><th>past_shallow_dtlastpmtallstes_3545839D</th><th>past_shallow_education_1138M</th><th>past_shallow_employedfrom_700D</th><th>past_shallow_familystate_726L</th><th>past_shallow_firstnonzeroinstldate_307D</th><th>past_shallow_inittransactioncode_279L</th><th>past_shallow_isbidproduct_390L</th><th>past_shallow_isdebitcard_527L</th><th>past_shallow_postype_4733339M</th><th>past_shallow_profession_152M</th><th>past_shallow_rejectreason_755M</th><th>past_shallow_rejectreasonclient_4145042M</th><th>past_shallow_status_219L</th></tr><tr><td>u32</td><td>f32</td><td>f32</td><td>f32</td><td>f32</td><td>f32</td><td>f32</td><td>f32</td><td>f32</td><td>f32</td><td>f32</td><td>f32</td><td>f32</td><td>f32</td><td>f32</td><td>u16</td><td>f32</td><td>f32</td><td>f32</td><td>f32</td><td>date</td><td>str</td><td>date</td><td>str</td><td>str</td><td>date</td><td>str</td><td>date</td><td>date</td><td>str</td><td>date</td><td>str</td><td>date</td><td>str</td><td>bool</td><td>bool</td><td>str</td><td>str</td><td>str</td><td>str</td><td>str</td></tr></thead><tbody><tr><td>836,630</td><td>0.00</td><td>4,136.80</td><td>null</td><td>null</td><td>null</td><td>0.00</td><td>null</td><td>null</td><td>null</td><td>11,000.00</td><td>null</td><td>0.00</td><td>30,000.00</td><td>null</td><td>1</td><td>null</td><td>3.00</td><td>null</td><td>3.00</td><td>null</td><td>&quot;P94_109_143&quot;</td><td>2017-03-23</td><td>null</td><td>&quot;COL&quot;</td><td>null</td><td>&quot;P50_139_56&quot;</td><td>null</td><td>null</td><td>&quot;a55475b1&quot;</td><td>null</td><td>null</td><td>2017-11-02</td><td>&quot;POS&quot;</td><td>false</td><td>null</td><td>&quot;a55475b1&quot;</td><td>&quot;a55475b1&quot;</td><td>&quot;P94_109_143&quot;</td><td>&quot;P94_109_143&quot;</td><td>&quot;D&quot;</td></tr><tr><td>1,536,271</td><td>0.00</td><td>1,421.00</td><td>null</td><td>0.00</td><td>19,404.00</td><td>19,404.00</td><td>0.00</td><td>0.00</td><td>0.00</td><td>19,404.00</td><td>0.00</td><td>0.00</td><td>20,000.00</td><td>0.00</td><td>1</td><td>0.00</td><td>12.00</td><td>760,031,232.00</td><td>12.00</td><td>2018-02-03</td><td>&quot;a55475b1&quot;</td><td>2018-02-03</td><td>&quot;CL&quot;</td><td>&quot;REL&quot;</td><td>2011-01-19</td><td>&quot;P152_138_35&quot;</td><td>2018-07-25</td><td>2018-07-25</td><td>&quot;P97_36_170&quot;</td><td>2014-01-15</td><td>&quot;SINGLE&quot;</td><td>2011-02-08</td><td>&quot;POS&quot;</td><td>false</td><td>false</td><td>&quot;a55475b1&quot;</td><td>&quot;a55475b1&quot;</td><td>&quot;a55475b1&quot;</td><td>&quot;a55475b1&quot;</td><td>&quot;K&quot;</td></tr><tr><td>1,615,771</td><td>0.00</td><td>2,504.60</td><td>null</td><td>null</td><td>null</td><td>0.00</td><td>null</td><td>null</td><td>null</td><td>23,840.00</td><td>0.00</td><td>0.00</td><td>29,000.00</td><td>0.00</td><td>0</td><td>0.00</td><td>12.00</td><td>null</td><td>12.00</td><td>2018-07-12</td><td>&quot;a55475b1&quot;</td><td>2018-07-12</td><td>null</td><td>&quot;COL&quot;</td><td>2018-07-17</td><td>&quot;P119_55_167&quot;</td><td>2019-06-11</td><td>2019-06-11</td><td>&quot;P33_146_175&quot;</td><td>2014-01-15</td><td>&quot;SINGLE&quot;</td><td>2018-08-11</td><td>&quot;POS&quot;</td><td>false</td><td>null</td><td>&quot;a55475b1&quot;</td><td>&quot;a55475b1&quot;</td><td>&quot;a55475b1&quot;</td><td>&quot;a55475b1&quot;</td><td>&quot;K&quot;</td></tr><tr><td>&hellip;</td><td>&hellip;</td><td>&hellip;</td><td>&hellip;</td><td>&hellip;</td><td>&hellip;</td><td>&hellip;</td><td>&hellip;</td><td>&hellip;</td><td>&hellip;</td><td>&hellip;</td><td>&hellip;</td><td>&hellip;</td><td>&hellip;</td><td>&hellip;</td><td>&hellip;</td><td>&hellip;</td><td>&hellip;</td><td>&hellip;</td><td>&hellip;</td><td>&hellip;</td><td>&hellip;</td><td>&hellip;</td><td>&hellip;</td><td>&hellip;</td><td>&hellip;</td><td>&hellip;</td><td>&hellip;</td><td>&hellip;</td><td>&hellip;</td><td>&hellip;</td><td>&hellip;</td><td>&hellip;</td><td>&hellip;</td><td>&hellip;</td><td>&hellip;</td><td>&hellip;</td><td>&hellip;</td><td>&hellip;</td><td>&hellip;</td><td>&hellip;</td></tr><tr><td>57,549</td><td>0.00</td><td>3,819.80</td><td>50,000.00</td><td>0.00</td><td>34,066.00</td><td>34,066.00</td><td>0.00</td><td>0.00</td><td>0.00</td><td>60,000.00</td><td>10,256.63</td><td>0.00</td><td>60,000.00</td><td>1.00</td><td>13</td><td>10,638.20</td><td>36.00</td><td>840,049,792.00</td><td>36.00</td><td>2021-10-12</td><td>&quot;a55475b1&quot;</td><td>2012-05-03</td><td>&quot;CL&quot;</td><td>&quot;REL&quot;</td><td>2012-12-14</td><td>&quot;P158_150_171&quot;</td><td>2017-01-19</td><td>2022-01-08</td><td>&quot;a55475b1&quot;</td><td>1998-07-12</td><td>&quot;DIVORCED&quot;</td><td>2013-01-12</td><td>&quot;POS&quot;</td><td>false</td><td>false</td><td>&quot;P46_145_78&quot;</td><td>&quot;a55475b1&quot;</td><td>&quot;a55475b1&quot;</td><td>&quot;a55475b1&quot;</td><td>&quot;D&quot;</td></tr><tr><td>57,760</td><td>0.00</td><td>14,092.60</td><td>null</td><td>1.00</td><td>100,000.00</td><td>100,000.00</td><td>0.00</td><td>0.00</td><td>0.00</td><td>200,000.00</td><td>0.00</td><td>0.00</td><td>112,000.00</td><td>18.00</td><td>7</td><td>0.00</td><td>24.00</td><td>820,377,856.00</td><td>24.00</td><td>2020-06-15</td><td>&quot;a55475b1&quot;</td><td>2020-06-15</td><td>&quot;AC&quot;</td><td>&quot;REL&quot;</td><td>2020-08-07</td><td>&quot;P117_87_136&quot;</td><td>2019-07-30</td><td>2020-06-15</td><td>&quot;a55475b1&quot;</td><td>2009-02-12</td><td>&quot;MARRIED&quot;</td><td>2020-07-15</td><td>&quot;NDF&quot;</td><td>false</td><td>true</td><td>&quot;P46_145_78&quot;</td><td>&quot;a55475b1&quot;</td><td>&quot;a55475b1&quot;</td><td>&quot;a55475b1&quot;</td><td>&quot;K&quot;</td></tr><tr><td>57,970</td><td>0.00</td><td>768.00</td><td>18,000.00</td><td>2.00</td><td>null</td><td>30,000.00</td><td>null</td><td>null</td><td>null</td><td>30,000.00</td><td>0.00</td><td>0.00</td><td>43,000.00</td><td>0.00</td><td>7</td><td>0.00</td><td>24.00</td><td>null</td><td>24.00</td><td>null</td><td>&quot;P94_109_143&quot;</td><td>2012-09-10</td><td>null</td><td>&quot;CAL&quot;</td><td>null</td><td>&quot;a55475b1&quot;</td><td>null</td><td>null</td><td>&quot;P97_36_170&quot;</td><td>2006-12-30</td><td>&quot;MARRIED&quot;</td><td>2012-10-11</td><td>&quot;CASH&quot;</td><td>false</td><td>false</td><td>&quot;P46_145_78&quot;</td><td>&quot;a55475b1&quot;</td><td>&quot;a55475b1&quot;</td><td>&quot;a55475b1&quot;</td><td>&quot;D&quot;</td></tr></tbody></table></div>"
      ],
      "text/plain": [
       "shape: (1_221_526, 41)\n",
       "┌───────────┬───────────┬───────────┬───────────┬───┬───────────┬───────────┬───────────┬──────────┐\n",
       "│ case_id   ┆ past_shal ┆ past_shal ┆ past_shal ┆ … ┆ past_shal ┆ past_shal ┆ past_shal ┆ past_sha │\n",
       "│ ---       ┆ low_actua ┆ low_annui ┆ low_byocc ┆   ┆ low_profe ┆ low_rejec ┆ low_rejec ┆ llow_sta │\n",
       "│ u32       ┆ ldpd_943P ┆ ty_853A   ┆ upationin ┆   ┆ ssion_152 ┆ treason_7 ┆ treasoncl ┆ tus_219L │\n",
       "│           ┆ ---       ┆ ---       ┆ c_3656910 ┆   ┆ M         ┆ 55M       ┆ ient_4145 ┆ ---      │\n",
       "│           ┆ f32       ┆ f32       ┆ L         ┆   ┆ ---       ┆ ---       ┆ 042M      ┆ str      │\n",
       "│           ┆           ┆           ┆ ---       ┆   ┆ str       ┆ str       ┆ ---       ┆          │\n",
       "│           ┆           ┆           ┆ f32       ┆   ┆           ┆           ┆ str       ┆          │\n",
       "╞═══════════╪═══════════╪═══════════╪═══════════╪═══╪═══════════╪═══════════╪═══════════╪══════════╡\n",
       "│ 836,630   ┆ 0.00      ┆ 4,136.80  ┆ null      ┆ … ┆ a55475b1  ┆ P94_109_1 ┆ P94_109_1 ┆ D        │\n",
       "│           ┆           ┆           ┆           ┆   ┆           ┆ 43        ┆ 43        ┆          │\n",
       "│ 1,536,271 ┆ 0.00      ┆ 1,421.00  ┆ null      ┆ … ┆ a55475b1  ┆ a55475b1  ┆ a55475b1  ┆ K        │\n",
       "│ 1,615,771 ┆ 0.00      ┆ 2,504.60  ┆ null      ┆ … ┆ a55475b1  ┆ a55475b1  ┆ a55475b1  ┆ K        │\n",
       "│ …         ┆ …         ┆ …         ┆ …         ┆ … ┆ …         ┆ …         ┆ …         ┆ …        │\n",
       "│ 57,549    ┆ 0.00      ┆ 3,819.80  ┆ 50,000.00 ┆ … ┆ a55475b1  ┆ a55475b1  ┆ a55475b1  ┆ D        │\n",
       "│ 57,760    ┆ 0.00      ┆ 14,092.60 ┆ null      ┆ … ┆ a55475b1  ┆ a55475b1  ┆ a55475b1  ┆ K        │\n",
       "│ 57,970    ┆ 0.00      ┆ 768.00    ┆ 18,000.00 ┆ … ┆ a55475b1  ┆ a55475b1  ┆ a55475b1  ┆ D        │\n",
       "└───────────┴───────────┴───────────┴───────────┴───┴───────────┴───────────┴───────────┴──────────┘"
      ]
     },
     "execution_count": 10,
     "metadata": {},
     "output_type": "execute_result"
    }
   ],
   "source": [
    "total_past_shallow = preprocess(\"applprev_1\",\"past_shallow\")\n",
    "total_past_shallow"
   ]
  },
  {
   "cell_type": "code",
   "execution_count": 11,
   "id": "2e097f17",
   "metadata": {
    "execution": {
     "iopub.execute_input": "2024-04-15T09:27:40.277298Z",
     "iopub.status.busy": "2024-04-15T09:27:40.276534Z",
     "iopub.status.idle": "2024-04-15T09:27:52.783634Z",
     "shell.execute_reply": "2024-04-15T09:27:52.782735Z"
    },
    "papermill": {
     "duration": 12.521828,
     "end_time": "2024-04-15T09:27:52.785803",
     "exception": false,
     "start_time": "2024-04-15T09:27:40.263975",
     "status": "completed"
    },
    "tags": []
   },
   "outputs": [
    {
     "data": {
      "text/html": [
       "<div><style>\n",
       ".dataframe > thead > tr,\n",
       ".dataframe > tbody > tr {\n",
       "  text-align: right;\n",
       "  white-space: pre-wrap;\n",
       "}\n",
       "</style>\n",
       "<small>shape: (1_221_523, 6)</small><table border=\"1\" class=\"dataframe\"><thead><tr><th>case_id</th><th>past_depth_num_group1</th><th>past_depth_num_group2</th><th>past_depth_cacccardblochreas_147M</th><th>past_depth_conts_type_509L</th><th>past_depth_credacc_cards_status_52L</th></tr><tr><td>u32</td><td>u16</td><td>u16</td><td>str</td><td>str</td><td>str</td></tr></thead><tbody><tr><td>1,916,042</td><td>15</td><td>2</td><td>&quot;a55475b1&quot;</td><td>&quot;PRIMARY_MOBILE&quot;</td><td>&quot;INACTIVE&quot;</td></tr><tr><td>951,199</td><td>0</td><td>1</td><td>&quot;a55475b1&quot;</td><td>&quot;PHONE&quot;</td><td>null</td></tr><tr><td>1,271,927</td><td>1</td><td>1</td><td>&quot;a55475b1&quot;</td><td>&quot;HOME_PHONE&quot;</td><td>&quot;CANCELLED&quot;</td></tr><tr><td>&hellip;</td><td>&hellip;</td><td>&hellip;</td><td>&hellip;</td><td>&hellip;</td><td>&hellip;</td></tr><tr><td>1,279,447</td><td>18</td><td>3</td><td>&quot;a55475b1&quot;</td><td>&quot;PRIMARY_MOBILE&quot;</td><td>null</td></tr><tr><td>41,065</td><td>0</td><td>0</td><td>null</td><td>&quot;PRIMARY_MOBILE&quot;</td><td>null</td></tr><tr><td>57,543</td><td>4</td><td>1</td><td>&quot;a55475b1&quot;</td><td>&quot;PRIMARY_MOBILE&quot;</td><td>null</td></tr></tbody></table></div>"
      ],
      "text/plain": [
       "shape: (1_221_523, 6)\n",
       "┌───────────┬─────────────────┬─────────────────┬────────────────┬────────────────┬────────────────┐\n",
       "│ case_id   ┆ past_depth_num_ ┆ past_depth_num_ ┆ past_depth_cac ┆ past_depth_con ┆ past_depth_cre │\n",
       "│ ---       ┆ group1          ┆ group2          ┆ ccardblochreas ┆ ts_type_509L   ┆ dacc_cards_sta │\n",
       "│ u32       ┆ ---             ┆ ---             ┆ _147M          ┆ ---            ┆ tus_52L        │\n",
       "│           ┆ u16             ┆ u16             ┆ ---            ┆ str            ┆ ---            │\n",
       "│           ┆                 ┆                 ┆ str            ┆                ┆ str            │\n",
       "╞═══════════╪═════════════════╪═════════════════╪════════════════╪════════════════╪════════════════╡\n",
       "│ 1,916,042 ┆ 15              ┆ 2               ┆ a55475b1       ┆ PRIMARY_MOBILE ┆ INACTIVE       │\n",
       "│ 951,199   ┆ 0               ┆ 1               ┆ a55475b1       ┆ PHONE          ┆ null           │\n",
       "│ 1,271,927 ┆ 1               ┆ 1               ┆ a55475b1       ┆ HOME_PHONE     ┆ CANCELLED      │\n",
       "│ …         ┆ …               ┆ …               ┆ …              ┆ …              ┆ …              │\n",
       "│ 1,279,447 ┆ 18              ┆ 3               ┆ a55475b1       ┆ PRIMARY_MOBILE ┆ null           │\n",
       "│ 41,065    ┆ 0               ┆ 0               ┆ null           ┆ PRIMARY_MOBILE ┆ null           │\n",
       "│ 57,543    ┆ 4               ┆ 1               ┆ a55475b1       ┆ PRIMARY_MOBILE ┆ null           │\n",
       "└───────────┴─────────────────┴─────────────────┴────────────────┴────────────────┴────────────────┘"
      ]
     },
     "execution_count": 11,
     "metadata": {},
     "output_type": "execute_result"
    }
   ],
   "source": [
    "total_past_depth = preprocess(\"applprev_2\",\"past_depth\")\n",
    "total_past_depth"
   ]
  },
  {
   "cell_type": "code",
   "execution_count": 12,
   "id": "2c6cc922",
   "metadata": {
    "execution": {
     "iopub.execute_input": "2024-04-15T09:27:52.810005Z",
     "iopub.status.busy": "2024-04-15T09:27:52.809689Z",
     "iopub.status.idle": "2024-04-15T09:29:23.203963Z",
     "shell.execute_reply": "2024-04-15T09:29:23.203042Z"
    },
    "papermill": {
     "duration": 90.419827,
     "end_time": "2024-04-15T09:29:23.217404",
     "exception": false,
     "start_time": "2024-04-15T09:27:52.797577",
     "status": "completed"
    },
    "tags": []
   },
   "outputs": [
    {
     "data": {
      "text/html": [
       "<div><style>\n",
       ".dataframe > thead > tr,\n",
       ".dataframe > tbody > tr {\n",
       "  text-align: right;\n",
       "  white-space: pre-wrap;\n",
       "}\n",
       "</style>\n",
       "<small>shape: (1_526_689, 168)</small><table border=\"1\" class=\"dataframe\"><thead><tr><th>case_id</th><th>static_base_actualdpdtolerance_344P</th><th>static_base_amtinstpaidbefduel24m_4187115A</th><th>static_base_annuity_780A</th><th>static_base_annuitynextmonth_57A</th><th>static_base_applicationcnt_361L</th><th>static_base_applications30d_658L</th><th>static_base_applicationscnt_1086L</th><th>static_base_applicationscnt_464L</th><th>static_base_applicationscnt_629L</th><th>static_base_applicationscnt_867L</th><th>static_base_avgdbddpdlast24m_3658932P</th><th>static_base_avgdbddpdlast3m_4187120P</th><th>static_base_avgdbdtollast24m_4525197P</th><th>static_base_avgdpdtolclosure24_3658938P</th><th>static_base_avginstallast24m_3658937A</th><th>static_base_avglnamtstart24m_4525187A</th><th>static_base_avgmaxdpdlast9m_3716943P</th><th>static_base_avgoutstandbalancel6m_4187114A</th><th>static_base_avgpmtlast12m_4525200A</th><th>static_base_clientscnt12m_3712952L</th><th>static_base_clientscnt3m_3712950L</th><th>static_base_clientscnt6m_3712949L</th><th>static_base_clientscnt_100L</th><th>static_base_clientscnt_1022L</th><th>static_base_clientscnt_1071L</th><th>static_base_clientscnt_1130L</th><th>static_base_clientscnt_136L</th><th>static_base_clientscnt_157L</th><th>static_base_clientscnt_257L</th><th>static_base_clientscnt_304L</th><th>static_base_clientscnt_360L</th><th>static_base_clientscnt_493L</th><th>static_base_clientscnt_533L</th><th>static_base_clientscnt_887L</th><th>static_base_clientscnt_946L</th><th>static_base_cntincpaycont9m_3716944L</th><th>&hellip;</th><th>static_base_credtype_322L</th><th>static_base_datefirstoffer_1144D</th><th>static_base_datelastinstal40dpd_247D</th><th>static_base_datelastunpaid_3546854D</th><th>static_base_disbursementtype_67L</th><th>static_base_dtlastpmtallstes_4499206D</th><th>static_base_equalitydataagreement_891L</th><th>static_base_equalityempfrom_62L</th><th>static_base_firstclxcampaign_1125D</th><th>static_base_firstdatedue_489D</th><th>static_base_inittransactioncode_186L</th><th>static_base_isbidproduct_1095L</th><th>static_base_isbidproductrequest_292L</th><th>static_base_isdebitcard_729L</th><th>static_base_lastactivateddate_801D</th><th>static_base_lastapplicationdate_877D</th><th>static_base_lastapprcommoditycat_1041M</th><th>static_base_lastapprcommoditytypec_5251766M</th><th>static_base_lastapprdate_640D</th><th>static_base_lastcancelreason_561M</th><th>static_base_lastdelinqdate_224D</th><th>static_base_lastrejectcommoditycat_161M</th><th>static_base_lastrejectcommodtypec_5251769M</th><th>static_base_lastrejectdate_50D</th><th>static_base_lastrejectreason_759M</th><th>static_base_lastrejectreasonclient_4145040M</th><th>static_base_lastrepayingdate_696D</th><th>static_base_lastst_736L</th><th>static_base_maxdpdinstldate_3546855D</th><th>static_base_opencred_647L</th><th>static_base_paytype1st_925L</th><th>static_base_paytype_783L</th><th>static_base_payvacationpostpone_4187118D</th><th>static_base_previouscontdistrict_112M</th><th>static_base_twobodfilling_608L</th><th>static_base_typesuite_864L</th><th>static_base_validfrom_1069D</th></tr><tr><td>u32</td><td>f32</td><td>f32</td><td>f32</td><td>f32</td><td>f32</td><td>f32</td><td>f32</td><td>f32</td><td>f32</td><td>f32</td><td>f32</td><td>f32</td><td>f32</td><td>f32</td><td>f32</td><td>f32</td><td>f32</td><td>f32</td><td>f32</td><td>f32</td><td>f32</td><td>f32</td><td>f32</td><td>f32</td><td>f32</td><td>f32</td><td>f32</td><td>f32</td><td>f32</td><td>f32</td><td>f32</td><td>f32</td><td>f32</td><td>f32</td><td>f32</td><td>f32</td><td>&hellip;</td><td>str</td><td>date</td><td>date</td><td>date</td><td>str</td><td>date</td><td>bool</td><td>bool</td><td>date</td><td>date</td><td>str</td><td>bool</td><td>bool</td><td>bool</td><td>date</td><td>date</td><td>str</td><td>str</td><td>date</td><td>str</td><td>date</td><td>str</td><td>str</td><td>date</td><td>str</td><td>str</td><td>date</td><td>str</td><td>date</td><td>bool</td><td>str</td><td>str</td><td>date</td><td>str</td><td>str</td><td>str</td><td>date</td></tr></thead><tbody><tr><td>723,627</td><td>null</td><td>null</td><td>5,319.40</td><td>0.00</td><td>0.00</td><td>0.00</td><td>0.00</td><td>0.00</td><td>0.00</td><td>0.00</td><td>null</td><td>null</td><td>null</td><td>null</td><td>null</td><td>null</td><td>null</td><td>null</td><td>null</td><td>0.00</td><td>0.00</td><td>0.00</td><td>0.00</td><td>0.00</td><td>0.00</td><td>1.00</td><td>null</td><td>0.00</td><td>0.00</td><td>0.00</td><td>0.00</td><td>0.00</td><td>0.00</td><td>3.00</td><td>0.00</td><td>null</td><td>&hellip;</td><td>&quot;COL&quot;</td><td>null</td><td>null</td><td>null</td><td>&quot;SBA&quot;</td><td>null</td><td>null</td><td>null</td><td>null</td><td>null</td><td>&quot;POS&quot;</td><td>false</td><td>null</td><td>null</td><td>null</td><td>null</td><td>&quot;a55475b1&quot;</td><td>&quot;a55475b1&quot;</td><td>null</td><td>&quot;a55475b1&quot;</td><td>null</td><td>&quot;a55475b1&quot;</td><td>&quot;a55475b1&quot;</td><td>null</td><td>&quot;a55475b1&quot;</td><td>&quot;a55475b1&quot;</td><td>null</td><td>null</td><td>null</td><td>null</td><td>&quot;OTHER&quot;</td><td>&quot;OTHER&quot;</td><td>null</td><td>&quot;a55475b1&quot;</td><td>&quot;FO&quot;</td><td>null</td><td>null</td></tr><tr><td>1,450,951</td><td>0.00</td><td>83,112.21</td><td>2,165.00</td><td>6,339.00</td><td>0.00</td><td>0.00</td><td>0.00</td><td>0.00</td><td>0.00</td><td>3.00</td><td>-5.00</td><td>-1.00</td><td>null</td><td>0.00</td><td>5,096.20</td><td>null</td><td>0.00</td><td>124,702.27</td><td>null</td><td>0.00</td><td>0.00</td><td>0.00</td><td>0.00</td><td>0.00</td><td>0.00</td><td>0.00</td><td>null</td><td>0.00</td><td>0.00</td><td>0.00</td><td>0.00</td><td>0.00</td><td>0.00</td><td>0.00</td><td>0.00</td><td>9.00</td><td>&hellip;</td><td>&quot;COL&quot;</td><td>2008-04-03</td><td>null</td><td>2019-04-06</td><td>&quot;SBA&quot;</td><td>null</td><td>null</td><td>null</td><td>2016-01-31</td><td>2012-05-09</td><td>&quot;POS&quot;</td><td>false</td><td>null</td><td>null</td><td>2019-05-13</td><td>2019-05-09</td><td>&quot;a55475b1&quot;</td><td>&quot;a55475b1&quot;</td><td>2019-05-09</td><td>&quot;a55475b1&quot;</td><td>2019-04-06</td><td>&quot;a55475b1&quot;</td><td>&quot;a55475b1&quot;</td><td>null</td><td>&quot;a55475b1&quot;</td><td>&quot;a55475b1&quot;</td><td>null</td><td>&quot;A&quot;</td><td>2018-09-06</td><td>false</td><td>&quot;OTHER&quot;</td><td>&quot;OTHER&quot;</td><td>null</td><td>&quot;P133_12_111&quot;</td><td>&quot;FO&quot;</td><td>null</td><td>null</td></tr><tr><td>1,244,783</td><td>0.00</td><td>null</td><td>2,973.40</td><td>5,870.60</td><td>0.00</td><td>0.00</td><td>0.00</td><td>0.00</td><td>0.00</td><td>3.00</td><td>-122.00</td><td>null</td><td>null</td><td>0.00</td><td>2,685.60</td><td>null</td><td>0.00</td><td>null</td><td>null</td><td>0.00</td><td>0.00</td><td>0.00</td><td>0.00</td><td>0.00</td><td>0.00</td><td>0.00</td><td>null</td><td>0.00</td><td>0.00</td><td>0.00</td><td>0.00</td><td>0.00</td><td>0.00</td><td>0.00</td><td>0.00</td><td>4.00</td><td>&hellip;</td><td>&quot;COL&quot;</td><td>null</td><td>null</td><td>2017-09-16</td><td>&quot;SBA&quot;</td><td>null</td><td>null</td><td>null</td><td>null</td><td>2006-09-08</td><td>&quot;POS&quot;</td><td>false</td><td>null</td><td>null</td><td>2018-09-25</td><td>2018-09-21</td><td>&quot;P148_110_5&quot;</td><td>&quot;a55475b1&quot;</td><td>2018-09-21</td><td>&quot;a55475b1&quot;</td><td>2017-09-16</td><td>&quot;P12_6_178&quot;</td><td>&quot;a55475b1&quot;</td><td>2016-01-24</td><td>&quot;a55475b1&quot;</td><td>&quot;a55475b1&quot;</td><td>null</td><td>&quot;A&quot;</td><td>2007-02-05</td><td>false</td><td>&quot;OTHER&quot;</td><td>&quot;OTHER&quot;</td><td>null</td><td>&quot;P109_162_152&quot;</td><td>&quot;FO&quot;</td><td>null</td><td>null</td></tr><tr><td>&hellip;</td><td>&hellip;</td><td>&hellip;</td><td>&hellip;</td><td>&hellip;</td><td>&hellip;</td><td>&hellip;</td><td>&hellip;</td><td>&hellip;</td><td>&hellip;</td><td>&hellip;</td><td>&hellip;</td><td>&hellip;</td><td>&hellip;</td><td>&hellip;</td><td>&hellip;</td><td>&hellip;</td><td>&hellip;</td><td>&hellip;</td><td>&hellip;</td><td>&hellip;</td><td>&hellip;</td><td>&hellip;</td><td>&hellip;</td><td>&hellip;</td><td>&hellip;</td><td>&hellip;</td><td>&hellip;</td><td>&hellip;</td><td>&hellip;</td><td>&hellip;</td><td>&hellip;</td><td>&hellip;</td><td>&hellip;</td><td>&hellip;</td><td>&hellip;</td><td>&hellip;</td><td>&hellip;</td><td>&hellip;</td><td>&hellip;</td><td>&hellip;</td><td>&hellip;</td><td>&hellip;</td><td>&hellip;</td><td>&hellip;</td><td>&hellip;</td><td>&hellip;</td><td>&hellip;</td><td>&hellip;</td><td>&hellip;</td><td>&hellip;</td><td>&hellip;</td><td>&hellip;</td><td>&hellip;</td><td>&hellip;</td><td>&hellip;</td><td>&hellip;</td><td>&hellip;</td><td>&hellip;</td><td>&hellip;</td><td>&hellip;</td><td>&hellip;</td><td>&hellip;</td><td>&hellip;</td><td>&hellip;</td><td>&hellip;</td><td>&hellip;</td><td>&hellip;</td><td>&hellip;</td><td>&hellip;</td><td>&hellip;</td><td>&hellip;</td><td>&hellip;</td><td>&hellip;</td><td>&hellip;</td></tr><tr><td>57,760</td><td>0.00</td><td>278,286.97</td><td>8,008.00</td><td>0.00</td><td>0.00</td><td>0.00</td><td>0.00</td><td>0.00</td><td>0.00</td><td>8.00</td><td>-31.00</td><td>null</td><td>-31.00</td><td>0.00</td><td>55,657.40</td><td>null</td><td>null</td><td>0.00</td><td>83,367.20</td><td>0.00</td><td>0.00</td><td>0.00</td><td>0.00</td><td>0.00</td><td>0.00</td><td>0.00</td><td>null</td><td>0.00</td><td>0.00</td><td>0.00</td><td>0.00</td><td>0.00</td><td>0.00</td><td>0.00</td><td>0.00</td><td>0.00</td><td>&hellip;</td><td>&quot;CAL&quot;</td><td>2016-07-20</td><td>null</td><td>2018-06-14</td><td>&quot;GBA&quot;</td><td>null</td><td>null</td><td>null</td><td>2016-07-19</td><td>2016-03-12</td><td>&quot;CASH&quot;</td><td>true</td><td>null</td><td>false</td><td>2020-08-07</td><td>2020-06-15</td><td>&quot;a55475b1&quot;</td><td>&quot;a55475b1&quot;</td><td>2020-06-15</td><td>&quot;a55475b1&quot;</td><td>2018-06-14</td><td>&quot;P159_130_59&quot;</td><td>&quot;P75_90_70&quot;</td><td>2017-01-11</td><td>&quot;P99_56_166&quot;</td><td>&quot;P94_109_143&quot;</td><td>null</td><td>&quot;A&quot;</td><td>2018-01-14</td><td>false</td><td>&quot;OTHER&quot;</td><td>&quot;OTHER&quot;</td><td>null</td><td>&quot;P117_87_136&quot;</td><td>&quot;BO&quot;</td><td>null</td><td>null</td></tr><tr><td>58,033</td><td>0.00</td><td>137,465.80</td><td>19,195.20</td><td>0.00</td><td>0.00</td><td>0.00</td><td>0.00</td><td>0.00</td><td>0.00</td><td>17.00</td><td>-4.00</td><td>-1.00</td><td>-3.00</td><td>0.00</td><td>12,167.60</td><td>14,842.00</td><td>0.00</td><td>22,678.43</td><td>11,094.20</td><td>0.00</td><td>0.00</td><td>0.00</td><td>0.00</td><td>0.00</td><td>0.00</td><td>0.00</td><td>null</td><td>0.00</td><td>0.00</td><td>0.00</td><td>0.00</td><td>0.00</td><td>0.00</td><td>0.00</td><td>0.00</td><td>9.00</td><td>&hellip;</td><td>&quot;CAL&quot;</td><td>2008-02-21</td><td>null</td><td>2022-05-15</td><td>null</td><td>null</td><td>null</td><td>null</td><td>2015-12-20</td><td>2012-10-25</td><td>&quot;CASH&quot;</td><td>true</td><td>null</td><td>false</td><td>2022-07-23</td><td>2022-04-06</td><td>&quot;a55475b1&quot;</td><td>&quot;a55475b1&quot;</td><td>2022-04-06</td><td>&quot;a55475b1&quot;</td><td>2022-05-15</td><td>&quot;a55475b1&quot;</td><td>&quot;a55475b1&quot;</td><td>2020-07-06</td><td>&quot;a55475b1&quot;</td><td>&quot;P94_109_143&quot;</td><td>null</td><td>&quot;A&quot;</td><td>2022-05-15</td><td>false</td><td>null</td><td>null</td><td>null</td><td>&quot;a55475b1&quot;</td><td>&quot;FO&quot;</td><td>null</td><td>null</td></tr><tr><td>57,970</td><td>9.00</td><td>117,938.84</td><td>1,965.20</td><td>9,907.20</td><td>0.00</td><td>0.00</td><td>0.00</td><td>0.00</td><td>0.00</td><td>7.00</td><td>-3.00</td><td>5.00</td><td>-2.00</td><td>2.00</td><td>7,345.00</td><td>null</td><td>2.00</td><td>55,877.42</td><td>8,655.60</td><td>0.00</td><td>0.00</td><td>0.00</td><td>0.00</td><td>0.00</td><td>0.00</td><td>0.00</td><td>null</td><td>0.00</td><td>0.00</td><td>0.00</td><td>0.00</td><td>0.00</td><td>0.00</td><td>0.00</td><td>0.00</td><td>7.00</td><td>&hellip;</td><td>&quot;COL&quot;</td><td>null</td><td>null</td><td>2022-01-01</td><td>&quot;SBA&quot;</td><td>2021-12-13</td><td>null</td><td>null</td><td>null</td><td>2018-08-22</td><td>&quot;POS&quot;</td><td>false</td><td>null</td><td>false</td><td>2021-04-03</td><td>2021-04-02</td><td>&quot;P109_133_183&quot;</td><td>&quot;P49_111_165&quot;</td><td>2021-04-02</td><td>&quot;a55475b1&quot;</td><td>2022-01-01</td><td>&quot;a55475b1&quot;</td><td>&quot;a55475b1&quot;</td><td>2021-04-02</td><td>&quot;a55475b1&quot;</td><td>&quot;P94_109_143&quot;</td><td>null</td><td>&quot;D&quot;</td><td>2021-12-01</td><td>false</td><td>null</td><td>null</td><td>null</td><td>&quot;a55475b1&quot;</td><td>&quot;FO&quot;</td><td>null</td><td>null</td></tr></tbody></table></div>"
      ],
      "text/plain": [
       "shape: (1_526_689, 168)\n",
       "┌───────────┬───────────┬───────────┬───────────┬───┬───────────┬───────────┬───────────┬──────────┐\n",
       "│ case_id   ┆ static_ba ┆ static_ba ┆ static_ba ┆ … ┆ static_ba ┆ static_ba ┆ static_ba ┆ static_b │\n",
       "│ ---       ┆ se_actual ┆ se_amtins ┆ se_annuit ┆   ┆ se_previo ┆ se_twobod ┆ se_typesu ┆ ase_vali │\n",
       "│ u32       ┆ dpdtolera ┆ tpaidbefd ┆ y_780A    ┆   ┆ uscontdis ┆ filling_6 ┆ ite_864L  ┆ dfrom_10 │\n",
       "│           ┆ nce_344P  ┆ uel24m_41 ┆ ---       ┆   ┆ trict_112 ┆ 08L       ┆ ---       ┆ 69D      │\n",
       "│           ┆ ---       ┆ 87115A    ┆ f32       ┆   ┆ M         ┆ ---       ┆ str       ┆ ---      │\n",
       "│           ┆ f32       ┆ ---       ┆           ┆   ┆ ---       ┆ str       ┆           ┆ date     │\n",
       "│           ┆           ┆ f32       ┆           ┆   ┆ str       ┆           ┆           ┆          │\n",
       "╞═══════════╪═══════════╪═══════════╪═══════════╪═══╪═══════════╪═══════════╪═══════════╪══════════╡\n",
       "│ 723,627   ┆ null      ┆ null      ┆ 5,319.40  ┆ … ┆ a55475b1  ┆ FO        ┆ null      ┆ null     │\n",
       "│ 1,450,951 ┆ 0.00      ┆ 83,112.21 ┆ 2,165.00  ┆ … ┆ P133_12_1 ┆ FO        ┆ null      ┆ null     │\n",
       "│           ┆           ┆           ┆           ┆   ┆ 11        ┆           ┆           ┆          │\n",
       "│ 1,244,783 ┆ 0.00      ┆ null      ┆ 2,973.40  ┆ … ┆ P109_162_ ┆ FO        ┆ null      ┆ null     │\n",
       "│           ┆           ┆           ┆           ┆   ┆ 152       ┆           ┆           ┆          │\n",
       "│ …         ┆ …         ┆ …         ┆ …         ┆ … ┆ …         ┆ …         ┆ …         ┆ …        │\n",
       "│ 57,760    ┆ 0.00      ┆ 278,286.9 ┆ 8,008.00  ┆ … ┆ P117_87_1 ┆ BO        ┆ null      ┆ null     │\n",
       "│           ┆           ┆ 7         ┆           ┆   ┆ 36        ┆           ┆           ┆          │\n",
       "│ 58,033    ┆ 0.00      ┆ 137,465.8 ┆ 19,195.20 ┆ … ┆ a55475b1  ┆ FO        ┆ null      ┆ null     │\n",
       "│           ┆           ┆ 0         ┆           ┆   ┆           ┆           ┆           ┆          │\n",
       "│ 57,970    ┆ 9.00      ┆ 117,938.8 ┆ 1,965.20  ┆ … ┆ a55475b1  ┆ FO        ┆ null      ┆ null     │\n",
       "│           ┆           ┆ 4         ┆           ┆   ┆           ┆           ┆           ┆          │\n",
       "└───────────┴───────────┴───────────┴───────────┴───┴───────────┴───────────┴───────────┴──────────┘"
      ]
     },
     "execution_count": 12,
     "metadata": {},
     "output_type": "execute_result"
    }
   ],
   "source": [
    "total_static_base = preprocess(\"static_0\",\"static_base\")\n",
    "total_static_base"
   ]
  },
  {
   "cell_type": "code",
   "execution_count": 13,
   "id": "b9973ab4",
   "metadata": {
    "execution": {
     "iopub.execute_input": "2024-04-15T09:29:23.241860Z",
     "iopub.status.busy": "2024-04-15T09:29:23.241529Z",
     "iopub.status.idle": "2024-04-15T09:30:06.002070Z",
     "shell.execute_reply": "2024-04-15T09:30:06.001148Z"
    },
    "papermill": {
     "duration": 42.787767,
     "end_time": "2024-04-15T09:30:06.016607",
     "exception": false,
     "start_time": "2024-04-15T09:29:23.228840",
     "status": "completed"
    },
    "tags": []
   },
   "outputs": [
    {
     "data": {
      "text/html": [
       "<div><style>\n",
       ".dataframe > thead > tr,\n",
       ".dataframe > tbody > tr {\n",
       "  text-align: right;\n",
       "  white-space: pre-wrap;\n",
       "}\n",
       "</style>\n",
       "<small>shape: (1_500_486, 53)</small><table border=\"1\" class=\"dataframe\"><thead><tr><th>case_id</th><th>static_external_contractssum_5085716L</th><th>static_external_days120_123L</th><th>static_external_days180_256L</th><th>static_external_days30_165L</th><th>static_external_days360_512L</th><th>static_external_days90_310L</th><th>static_external_firstquarter_103L</th><th>static_external_for3years_128L</th><th>static_external_for3years_504L</th><th>static_external_for3years_584L</th><th>static_external_formonth_118L</th><th>static_external_formonth_206L</th><th>static_external_formonth_535L</th><th>static_external_forquarter_1017L</th><th>static_external_forquarter_462L</th><th>static_external_forquarter_634L</th><th>static_external_fortoday_1092L</th><th>static_external_forweek_1077L</th><th>static_external_forweek_528L</th><th>static_external_forweek_601L</th><th>static_external_foryear_618L</th><th>static_external_foryear_818L</th><th>static_external_foryear_850L</th><th>static_external_fourthquarter_440L</th><th>static_external_numberofqueries_373L</th><th>static_external_pmtaverage_3A</th><th>static_external_pmtaverage_4527227A</th><th>static_external_pmtaverage_4955615A</th><th>static_external_pmtcount_4527229L</th><th>static_external_pmtcount_4955617L</th><th>static_external_pmtcount_693L</th><th>static_external_pmtscount_423L</th><th>static_external_pmtssum_45A</th><th>static_external_secondquarter_766L</th><th>static_external_thirdquarter_1082L</th><th>static_external_assignmentdate_238D</th><th>static_external_assignmentdate_4527235D</th><th>static_external_assignmentdate_4955616D</th><th>static_external_birthdate_574D</th><th>static_external_dateofbirth_337D</th><th>static_external_dateofbirth_342D</th><th>static_external_description_5085714M</th><th>static_external_education_1103M</th><th>static_external_education_88M</th><th>static_external_maritalst_385M</th><th>static_external_maritalst_893M</th><th>static_external_requesttype_4525192L</th><th>static_external_responsedate_1012D</th><th>static_external_responsedate_4527233D</th><th>static_external_responsedate_4917613D</th><th>static_external_riskassesment_302T</th><th>static_external_riskassesment_940T</th></tr><tr><td>u32</td><td>f32</td><td>f32</td><td>f32</td><td>f32</td><td>f32</td><td>f32</td><td>f32</td><td>f32</td><td>f32</td><td>f32</td><td>f32</td><td>f32</td><td>f32</td><td>f32</td><td>f32</td><td>f32</td><td>f32</td><td>f32</td><td>f32</td><td>f32</td><td>f32</td><td>f32</td><td>f32</td><td>f32</td><td>f32</td><td>f32</td><td>f32</td><td>f32</td><td>f32</td><td>f32</td><td>f32</td><td>f32</td><td>f32</td><td>f32</td><td>f32</td><td>date</td><td>date</td><td>date</td><td>date</td><td>date</td><td>date</td><td>str</td><td>str</td><td>str</td><td>str</td><td>str</td><td>str</td><td>date</td><td>date</td><td>date</td><td>f64</td><td>str</td></tr></thead><tbody><tr><td>610,368</td><td>null</td><td>null</td><td>null</td><td>null</td><td>null</td><td>null</td><td>null</td><td>null</td><td>null</td><td>null</td><td>null</td><td>null</td><td>null</td><td>null</td><td>null</td><td>null</td><td>null</td><td>null</td><td>null</td><td>null</td><td>null</td><td>null</td><td>null</td><td>null</td><td>null</td><td>null</td><td>null</td><td>null</td><td>null</td><td>null</td><td>null</td><td>6.00</td><td>12,697.45</td><td>null</td><td>null</td><td>null</td><td>null</td><td>null</td><td>1992-09-01</td><td>null</td><td>null</td><td>&quot;a55475b1&quot;</td><td>&quot;a55475b1&quot;</td><td>&quot;a55475b1&quot;</td><td>&quot;a55475b1&quot;</td><td>&quot;a55475b1&quot;</td><td>null</td><td>2019-01-27</td><td>null</td><td>null</td><td>null</td><td>null</td></tr><tr><td>1,394</td><td>null</td><td>0.00</td><td>0.00</td><td>0.00</td><td>3.00</td><td>0.00</td><td>2.00</td><td>null</td><td>null</td><td>null</td><td>null</td><td>null</td><td>null</td><td>null</td><td>null</td><td>null</td><td>null</td><td>null</td><td>null</td><td>null</td><td>null</td><td>null</td><td>null</td><td>1.00</td><td>3.00</td><td>null</td><td>null</td><td>null</td><td>null</td><td>null</td><td>null</td><td>5.00</td><td>3,474.80</td><td>5.00</td><td>1.00</td><td>null</td><td>null</td><td>null</td><td>1966-01-01</td><td>1966-01-01</td><td>null</td><td>&quot;a55475b1&quot;</td><td>&quot;a55475b1&quot;</td><td>&quot;a55475b1&quot;</td><td>&quot;a55475b1&quot;</td><td>&quot;a55475b1&quot;</td><td>null</td><td>2019-01-30</td><td>null</td><td>null</td><td>null</td><td>null</td></tr><tr><td>1,504,941</td><td>null</td><td>0.00</td><td>0.00</td><td>0.00</td><td>3.00</td><td>0.00</td><td>1.00</td><td>null</td><td>null</td><td>null</td><td>null</td><td>null</td><td>null</td><td>null</td><td>null</td><td>null</td><td>null</td><td>null</td><td>null</td><td>null</td><td>null</td><td>null</td><td>null</td><td>2.00</td><td>3.00</td><td>null</td><td>null</td><td>null</td><td>null</td><td>null</td><td>null</td><td>6.00</td><td>6,050.60</td><td>0.00</td><td>0.00</td><td>null</td><td>null</td><td>null</td><td>1984-09-01</td><td>1984-09-01</td><td>null</td><td>&quot;a55475b1&quot;</td><td>&quot;39a0853f&quot;</td><td>&quot;a55475b1&quot;</td><td>&quot;3439d993&quot;</td><td>&quot;a55475b1&quot;</td><td>null</td><td>2019-09-08</td><td>null</td><td>null</td><td>null</td><td>null</td></tr><tr><td>&hellip;</td><td>&hellip;</td><td>&hellip;</td><td>&hellip;</td><td>&hellip;</td><td>&hellip;</td><td>&hellip;</td><td>&hellip;</td><td>&hellip;</td><td>&hellip;</td><td>&hellip;</td><td>&hellip;</td><td>&hellip;</td><td>&hellip;</td><td>&hellip;</td><td>&hellip;</td><td>&hellip;</td><td>&hellip;</td><td>&hellip;</td><td>&hellip;</td><td>&hellip;</td><td>&hellip;</td><td>&hellip;</td><td>&hellip;</td><td>&hellip;</td><td>&hellip;</td><td>&hellip;</td><td>&hellip;</td><td>&hellip;</td><td>&hellip;</td><td>&hellip;</td><td>&hellip;</td><td>&hellip;</td><td>&hellip;</td><td>&hellip;</td><td>&hellip;</td><td>&hellip;</td><td>&hellip;</td><td>&hellip;</td><td>&hellip;</td><td>&hellip;</td><td>&hellip;</td><td>&hellip;</td><td>&hellip;</td><td>&hellip;</td><td>&hellip;</td><td>&hellip;</td><td>&hellip;</td><td>&hellip;</td><td>&hellip;</td><td>&hellip;</td><td>&hellip;</td><td>&hellip;</td></tr><tr><td>57,630</td><td>499,975.00</td><td>1.00</td><td>2.00</td><td>1.00</td><td>5.00</td><td>1.00</td><td>1.00</td><td>null</td><td>null</td><td>null</td><td>null</td><td>null</td><td>null</td><td>null</td><td>null</td><td>null</td><td>null</td><td>null</td><td>null</td><td>null</td><td>null</td><td>null</td><td>null</td><td>3.00</td><td>5.00</td><td>null</td><td>null</td><td>null</td><td>null</td><td>null</td><td>null</td><td>null</td><td>null</td><td>4.00</td><td>1.00</td><td>null</td><td>null</td><td>null</td><td>null</td><td>1967-02-01</td><td>null</td><td>&quot;2fc785b2&quot;</td><td>&quot;6b2ae0fa&quot;</td><td>&quot;a55475b1&quot;</td><td>&quot;3439d993&quot;</td><td>&quot;a55475b1&quot;</td><td>null</td><td>null</td><td>null</td><td>2021-03-30</td><td>null</td><td>null</td></tr><tr><td>57,632</td><td>17,677.00</td><td>1.00</td><td>2.00</td><td>0.00</td><td>4.00</td><td>0.00</td><td>1.00</td><td>null</td><td>null</td><td>null</td><td>null</td><td>null</td><td>null</td><td>null</td><td>null</td><td>null</td><td>null</td><td>null</td><td>null</td><td>null</td><td>null</td><td>null</td><td>null</td><td>1.00</td><td>4.00</td><td>null</td><td>null</td><td>15,841.20</td><td>null</td><td>14.00</td><td>null</td><td>null</td><td>null</td><td>1.00</td><td>1.00</td><td>null</td><td>null</td><td>2015-11-26</td><td>null</td><td>1958-11-01</td><td>null</td><td>&quot;2fc785b2&quot;</td><td>&quot;a55475b1&quot;</td><td>&quot;a55475b1&quot;</td><td>&quot;a55475b1&quot;</td><td>&quot;a55475b1&quot;</td><td>null</td><td>null</td><td>null</td><td>2022-02-19</td><td>null</td><td>null</td></tr><tr><td>57,551</td><td>2,926,195.25</td><td>1.00</td><td>3.00</td><td>1.00</td><td>4.00</td><td>1.00</td><td>3.00</td><td>null</td><td>null</td><td>null</td><td>null</td><td>null</td><td>null</td><td>null</td><td>null</td><td>null</td><td>null</td><td>null</td><td>null</td><td>null</td><td>null</td><td>null</td><td>null</td><td>2.00</td><td>4.00</td><td>null</td><td>null</td><td>null</td><td>null</td><td>null</td><td>null</td><td>null</td><td>null</td><td>5.00</td><td>5.00</td><td>null</td><td>null</td><td>null</td><td>null</td><td>1982-05-01</td><td>null</td><td>&quot;2fc785b2&quot;</td><td>&quot;6b2ae0fa&quot;</td><td>&quot;a55475b1&quot;</td><td>&quot;3439d993&quot;</td><td>&quot;a55475b1&quot;</td><td>null</td><td>null</td><td>null</td><td>2020-12-11</td><td>null</td><td>null</td></tr></tbody></table></div>"
      ],
      "text/plain": [
       "shape: (1_500_486, 53)\n",
       "┌───────────┬───────────┬───────────┬───────────┬───┬───────────┬───────────┬───────────┬──────────┐\n",
       "│ case_id   ┆ static_ex ┆ static_ex ┆ static_ex ┆ … ┆ static_ex ┆ static_ex ┆ static_ex ┆ static_e │\n",
       "│ ---       ┆ ternal_co ┆ ternal_da ┆ ternal_da ┆   ┆ ternal_re ┆ ternal_re ┆ ternal_ri ┆ xternal_ │\n",
       "│ u32       ┆ ntractssu ┆ ys120_123 ┆ ys180_256 ┆   ┆ sponsedat ┆ sponsedat ┆ skassesme ┆ riskasse │\n",
       "│           ┆ m_5085716 ┆ L         ┆ L         ┆   ┆ e_4527233 ┆ e_4917613 ┆ nt_302T   ┆ sment_94 │\n",
       "│           ┆ L         ┆ ---       ┆ ---       ┆   ┆ D         ┆ D         ┆ ---       ┆ 0T       │\n",
       "│           ┆ ---       ┆ f32       ┆ f32       ┆   ┆ ---       ┆ ---       ┆ f64       ┆ ---      │\n",
       "│           ┆ f32       ┆           ┆           ┆   ┆ date      ┆ date      ┆           ┆ str      │\n",
       "╞═══════════╪═══════════╪═══════════╪═══════════╪═══╪═══════════╪═══════════╪═══════════╪══════════╡\n",
       "│ 610,368   ┆ null      ┆ null      ┆ null      ┆ … ┆ null      ┆ null      ┆ null      ┆ null     │\n",
       "│ 1,394     ┆ null      ┆ 0.00      ┆ 0.00      ┆ … ┆ null      ┆ null      ┆ null      ┆ null     │\n",
       "│ 1,504,941 ┆ null      ┆ 0.00      ┆ 0.00      ┆ … ┆ null      ┆ null      ┆ null      ┆ null     │\n",
       "│ …         ┆ …         ┆ …         ┆ …         ┆ … ┆ …         ┆ …         ┆ …         ┆ …        │\n",
       "│ 57,630    ┆ 499,975.0 ┆ 1.00      ┆ 2.00      ┆ … ┆ null      ┆ 2021-03-3 ┆ null      ┆ null     │\n",
       "│           ┆ 0         ┆           ┆           ┆   ┆           ┆ 0         ┆           ┆          │\n",
       "│ 57,632    ┆ 17,677.00 ┆ 1.00      ┆ 2.00      ┆ … ┆ null      ┆ 2022-02-1 ┆ null      ┆ null     │\n",
       "│           ┆           ┆           ┆           ┆   ┆           ┆ 9         ┆           ┆          │\n",
       "│ 57,551    ┆ 2,926,195 ┆ 1.00      ┆ 3.00      ┆ … ┆ null      ┆ 2020-12-1 ┆ null      ┆ null     │\n",
       "│           ┆ .25       ┆           ┆           ┆   ┆           ┆ 1         ┆           ┆          │\n",
       "└───────────┴───────────┴───────────┴───────────┴───┴───────────┴───────────┴───────────┴──────────┘"
      ]
     },
     "execution_count": 13,
     "metadata": {},
     "output_type": "execute_result"
    }
   ],
   "source": [
    "total_static_external = (\n",
    "    preprocess(\"static_cb\",\"static_external\")\n",
    "    .with_columns(\n",
    "        pl.col(\"static_external_riskassesment_302T\").str.split(\"%\").list.gather([0,1]).apply(lambda x: (int(x[0])+int(x[1].split(\"-\")[1]))/200)\n",
    "    )\n",
    ")\n",
    "total_static_external"
   ]
  },
  {
   "cell_type": "code",
   "execution_count": 14,
   "id": "64ff93d9",
   "metadata": {
    "execution": {
     "iopub.execute_input": "2024-04-15T09:30:06.041605Z",
     "iopub.status.busy": "2024-04-15T09:30:06.041298Z",
     "iopub.status.idle": "2024-04-15T09:31:21.801257Z",
     "shell.execute_reply": "2024-04-15T09:31:21.800295Z"
    },
    "papermill": {
     "duration": 75.787237,
     "end_time": "2024-04-15T09:31:21.815518",
     "exception": false,
     "start_time": "2024-04-15T09:30:06.028281",
     "status": "completed"
    },
    "tags": []
   },
   "outputs": [
    {
     "data": {
      "text/html": [
       "<div><style>\n",
       ".dataframe > thead > tr,\n",
       ".dataframe > tbody > tr {\n",
       "  text-align: right;\n",
       "  white-space: pre-wrap;\n",
       "}\n",
       "</style>\n",
       "<small>shape: (1_526_665, 37)</small><table border=\"1\" class=\"dataframe\"><thead><tr><th>case_id</th><th>person_shallow_childnum_185L</th><th>person_shallow_mainoccupationinc_384A</th><th>person_shallow_num_group1</th><th>person_shallow_personindex_1023L</th><th>person_shallow_persontype_1072L</th><th>person_shallow_persontype_792L</th><th>person_shallow_birth_259D</th><th>person_shallow_birthdate_87D</th><th>person_shallow_contaddr_district_15M</th><th>person_shallow_contaddr_matchlist_1032L</th><th>person_shallow_contaddr_smempladdr_334L</th><th>person_shallow_contaddr_zipcode_807M</th><th>person_shallow_education_927M</th><th>person_shallow_empl_employedfrom_271D</th><th>person_shallow_empl_employedtotal_800L</th><th>person_shallow_empl_industry_691L</th><th>person_shallow_empladdr_district_926M</th><th>person_shallow_empladdr_zipcode_114M</th><th>person_shallow_familystate_447L</th><th>person_shallow_gender_992L</th><th>person_shallow_housetype_905L</th><th>person_shallow_housingtype_772L</th><th>person_shallow_incometype_1044T</th><th>person_shallow_isreference_387L</th><th>person_shallow_language1_981M</th><th>person_shallow_maritalst_703L</th><th>person_shallow_registaddr_district_1083M</th><th>person_shallow_registaddr_zipcode_184M</th><th>person_shallow_relationshiptoclient_415T</th><th>person_shallow_relationshiptoclient_642T</th><th>person_shallow_remitter_829L</th><th>person_shallow_role_1084L</th><th>person_shallow_role_993L</th><th>person_shallow_safeguarantyflag_411L</th><th>person_shallow_sex_738L</th><th>person_shallow_type_25L</th></tr><tr><td>u32</td><td>f32</td><td>f32</td><td>u16</td><td>f32</td><td>f32</td><td>f32</td><td>date</td><td>date</td><td>str</td><td>bool</td><td>bool</td><td>str</td><td>str</td><td>date</td><td>str</td><td>str</td><td>str</td><td>str</td><td>str</td><td>str</td><td>str</td><td>str</td><td>str</td><td>bool</td><td>str</td><td>str</td><td>str</td><td>str</td><td>str</td><td>str</td><td>bool</td><td>str</td><td>str</td><td>bool</td><td>str</td><td>str</td></tr></thead><tbody><tr><td>747,582</td><td>null</td><td>24,000.00</td><td>1</td><td>0.00</td><td>1.00</td><td>1.00</td><td>1990-12-01</td><td>null</td><td>&quot;a55475b1&quot;</td><td>false</td><td>false</td><td>&quot;a55475b1&quot;</td><td>&quot;P33_146_175&quot;</td><td>2017-01-15</td><td>&quot;MORE_ONE&quot;</td><td>&quot;GOVERNMENT&quot;</td><td>&quot;a55475b1&quot;</td><td>&quot;P91_47_168&quot;</td><td>&quot;SINGLE&quot;</td><td>null</td><td>null</td><td>null</td><td>&quot;SALARIED_GOVT&quot;</td><td>null</td><td>&quot;P10_39_147&quot;</td><td>null</td><td>&quot;a55475b1&quot;</td><td>&quot;P91_47_168&quot;</td><td>null</td><td>null</td><td>null</td><td>&quot;CL&quot;</td><td>null</td><td>true</td><td>&quot;M&quot;</td><td>&quot;PRIMARY_MOBILE&quot;</td></tr><tr><td>156,808</td><td>null</td><td>73,080.00</td><td>2</td><td>1.00</td><td>5.00</td><td>5.00</td><td>1994-03-01</td><td>null</td><td>&quot;a55475b1&quot;</td><td>false</td><td>false</td><td>&quot;a55475b1&quot;</td><td>&quot;a55475b1&quot;</td><td>2017-01-15</td><td>&quot;MORE_ONE&quot;</td><td>&quot;GOVERNMENT&quot;</td><td>&quot;a55475b1&quot;</td><td>&quot;a55475b1&quot;</td><td>&quot;SINGLE&quot;</td><td>null</td><td>null</td><td>null</td><td>&quot;SALARIED_GOVT&quot;</td><td>null</td><td>&quot;a55475b1&quot;</td><td>null</td><td>&quot;a55475b1&quot;</td><td>&quot;a55475b1&quot;</td><td>&quot;SIBLING&quot;</td><td>&quot;SIBLING&quot;</td><td>false</td><td>&quot;PE&quot;</td><td>null</td><td>true</td><td>&quot;M&quot;</td><td>&quot;PRIMARY_MOBILE&quot;</td></tr><tr><td>1,795,036</td><td>null</td><td>64,000.00</td><td>0</td><td>0.00</td><td>1.00</td><td>1.00</td><td>1975-01-01</td><td>null</td><td>&quot;P133_12_111&quot;</td><td>false</td><td>false</td><td>&quot;P124_111_73&quot;</td><td>&quot;a55475b1&quot;</td><td>null</td><td>null</td><td>null</td><td>&quot;a55475b1&quot;</td><td>&quot;a55475b1&quot;</td><td>null</td><td>null</td><td>null</td><td>null</td><td>&quot;EMPLOYED&quot;</td><td>null</td><td>&quot;P10_39_147&quot;</td><td>null</td><td>&quot;P133_12_111&quot;</td><td>&quot;P124_111_73&quot;</td><td>null</td><td>null</td><td>null</td><td>&quot;CL&quot;</td><td>null</td><td>true</td><td>&quot;F&quot;</td><td>&quot;PRIMARY_MOBILE&quot;</td></tr><tr><td>&hellip;</td><td>&hellip;</td><td>&hellip;</td><td>&hellip;</td><td>&hellip;</td><td>&hellip;</td><td>&hellip;</td><td>&hellip;</td><td>&hellip;</td><td>&hellip;</td><td>&hellip;</td><td>&hellip;</td><td>&hellip;</td><td>&hellip;</td><td>&hellip;</td><td>&hellip;</td><td>&hellip;</td><td>&hellip;</td><td>&hellip;</td><td>&hellip;</td><td>&hellip;</td><td>&hellip;</td><td>&hellip;</td><td>&hellip;</td><td>&hellip;</td><td>&hellip;</td><td>&hellip;</td><td>&hellip;</td><td>&hellip;</td><td>&hellip;</td><td>&hellip;</td><td>&hellip;</td><td>&hellip;</td><td>&hellip;</td><td>&hellip;</td><td>&hellip;</td><td>&hellip;</td></tr><tr><td>57,551</td><td>null</td><td>59,600.00</td><td>0</td><td>0.00</td><td>1.00</td><td>1.00</td><td>1982-05-01</td><td>null</td><td>&quot;P11_36_178&quot;</td><td>false</td><td>false</td><td>&quot;P97_107_128&quot;</td><td>&quot;a55475b1&quot;</td><td>2002-01-08</td><td>null</td><td>null</td><td>&quot;a55475b1&quot;</td><td>&quot;a55475b1&quot;</td><td>null</td><td>null</td><td>null</td><td>null</td><td>&quot;SALARIED_GOVT&quot;</td><td>null</td><td>&quot;P10_39_147&quot;</td><td>null</td><td>&quot;P11_36_178&quot;</td><td>&quot;P97_107_128&quot;</td><td>null</td><td>null</td><td>null</td><td>&quot;CL&quot;</td><td>null</td><td>false</td><td>&quot;F&quot;</td><td>&quot;PRIMARY_MOBILE&quot;</td></tr><tr><td>57,549</td><td>null</td><td>49,800.00</td><td>1</td><td>1.00</td><td>5.00</td><td>5.00</td><td>1959-11-01</td><td>null</td><td>&quot;a55475b1&quot;</td><td>null</td><td>null</td><td>&quot;a55475b1&quot;</td><td>&quot;P106_81_188&quot;</td><td>null</td><td>null</td><td>null</td><td>&quot;a55475b1&quot;</td><td>&quot;a55475b1&quot;</td><td>&quot;SINGLE&quot;</td><td>null</td><td>null</td><td>null</td><td>&quot;RETIRED_PENSIONER&quot;</td><td>null</td><td>&quot;a55475b1&quot;</td><td>null</td><td>&quot;a55475b1&quot;</td><td>&quot;P111_112_180&quot;</td><td>&quot;COLLEAGUE&quot;</td><td>&quot;COLLEAGUE&quot;</td><td>false</td><td>&quot;PE&quot;</td><td>null</td><td>true</td><td>&quot;F&quot;</td><td>&quot;PRIMARY_MOBILE&quot;</td></tr><tr><td>57,552</td><td>null</td><td>112,000.00</td><td>0</td><td>0.00</td><td>1.00</td><td>1.00</td><td>1955-11-01</td><td>null</td><td>&quot;P21_84_40&quot;</td><td>false</td><td>false</td><td>&quot;P91_47_168&quot;</td><td>&quot;a55475b1&quot;</td><td>null</td><td>null</td><td>null</td><td>&quot;a55475b1&quot;</td><td>&quot;a55475b1&quot;</td><td>null</td><td>null</td><td>&quot;OWNED&quot;</td><td>null</td><td>&quot;RETIRED_PENSIONER&quot;</td><td>null</td><td>&quot;P10_39_147&quot;</td><td>null</td><td>&quot;P21_87_50&quot;</td><td>&quot;P91_47_168&quot;</td><td>null</td><td>null</td><td>null</td><td>&quot;CL&quot;</td><td>null</td><td>true</td><td>&quot;M&quot;</td><td>&quot;PRIMARY_MOBILE&quot;</td></tr></tbody></table></div>"
      ],
      "text/plain": [
       "shape: (1_526_665, 37)\n",
       "┌───────────┬───────────┬───────────┬───────────┬───┬───────────┬───────────┬───────────┬──────────┐\n",
       "│ case_id   ┆ person_sh ┆ person_sh ┆ person_sh ┆ … ┆ person_sh ┆ person_sh ┆ person_sh ┆ person_s │\n",
       "│ ---       ┆ allow_chi ┆ allow_mai ┆ allow_num ┆   ┆ allow_rol ┆ allow_saf ┆ allow_sex ┆ hallow_t │\n",
       "│ u32       ┆ ldnum_185 ┆ noccupati ┆ _group1   ┆   ┆ e_993L    ┆ eguaranty ┆ _738L     ┆ ype_25L  │\n",
       "│           ┆ L         ┆ oninc_384 ┆ ---       ┆   ┆ ---       ┆ flag_411L ┆ ---       ┆ ---      │\n",
       "│           ┆ ---       ┆ A         ┆ u16       ┆   ┆ str       ┆ ---       ┆ str       ┆ str      │\n",
       "│           ┆ f32       ┆ ---       ┆           ┆   ┆           ┆ bool      ┆           ┆          │\n",
       "│           ┆           ┆ f32       ┆           ┆   ┆           ┆           ┆           ┆          │\n",
       "╞═══════════╪═══════════╪═══════════╪═══════════╪═══╪═══════════╪═══════════╪═══════════╪══════════╡\n",
       "│ 747,582   ┆ null      ┆ 24,000.00 ┆ 1         ┆ … ┆ null      ┆ true      ┆ M         ┆ PRIMARY_ │\n",
       "│           ┆           ┆           ┆           ┆   ┆           ┆           ┆           ┆ MOBILE   │\n",
       "│ 156,808   ┆ null      ┆ 73,080.00 ┆ 2         ┆ … ┆ null      ┆ true      ┆ M         ┆ PRIMARY_ │\n",
       "│           ┆           ┆           ┆           ┆   ┆           ┆           ┆           ┆ MOBILE   │\n",
       "│ 1,795,036 ┆ null      ┆ 64,000.00 ┆ 0         ┆ … ┆ null      ┆ true      ┆ F         ┆ PRIMARY_ │\n",
       "│           ┆           ┆           ┆           ┆   ┆           ┆           ┆           ┆ MOBILE   │\n",
       "│ …         ┆ …         ┆ …         ┆ …         ┆ … ┆ …         ┆ …         ┆ …         ┆ …        │\n",
       "│ 57,551    ┆ null      ┆ 59,600.00 ┆ 0         ┆ … ┆ null      ┆ false     ┆ F         ┆ PRIMARY_ │\n",
       "│           ┆           ┆           ┆           ┆   ┆           ┆           ┆           ┆ MOBILE   │\n",
       "│ 57,549    ┆ null      ┆ 49,800.00 ┆ 1         ┆ … ┆ null      ┆ true      ┆ F         ┆ PRIMARY_ │\n",
       "│           ┆           ┆           ┆           ┆   ┆           ┆           ┆           ┆ MOBILE   │\n",
       "│ 57,552    ┆ null      ┆ 112,000.0 ┆ 0         ┆ … ┆ null      ┆ true      ┆ M         ┆ PRIMARY_ │\n",
       "│           ┆           ┆ 0         ┆           ┆   ┆           ┆           ┆           ┆ MOBILE   │\n",
       "└───────────┴───────────┴───────────┴───────────┴───┴───────────┴───────────┴───────────┴──────────┘"
      ]
     },
     "execution_count": 14,
     "metadata": {},
     "output_type": "execute_result"
    }
   ],
   "source": [
    "total_person_shallow = preprocess(\"person_1\",\"person_shallow\")\n",
    "total_person_shallow"
   ]
  },
  {
   "cell_type": "code",
   "execution_count": 15,
   "id": "0bd7aa86",
   "metadata": {
    "execution": {
     "iopub.execute_input": "2024-04-15T09:31:21.840569Z",
     "iopub.status.busy": "2024-04-15T09:31:21.840298Z",
     "iopub.status.idle": "2024-04-15T09:31:39.119740Z",
     "shell.execute_reply": "2024-04-15T09:31:39.118843Z"
    },
    "papermill": {
     "duration": 17.294545,
     "end_time": "2024-04-15T09:31:39.121828",
     "exception": false,
     "start_time": "2024-04-15T09:31:21.827283",
     "status": "completed"
    },
    "tags": []
   },
   "outputs": [
    {
     "data": {
      "text/html": [
       "<div><style>\n",
       ".dataframe > thead > tr,\n",
       ".dataframe > tbody > tr {\n",
       "  text-align: right;\n",
       "  white-space: pre-wrap;\n",
       "}\n",
       "</style>\n",
       "<small>shape: (1_435_108, 11)</small><table border=\"1\" class=\"dataframe\"><thead><tr><th>case_id</th><th>person_depth_num_group1</th><th>person_depth_num_group2</th><th>person_depth_addres_district_368M</th><th>person_depth_addres_role_871L</th><th>person_depth_addres_zip_823M</th><th>person_depth_conts_role_79M</th><th>person_depth_empls_economicalst_849M</th><th>person_depth_empls_employedfrom_796D</th><th>person_depth_empls_employer_name_740M</th><th>person_depth_relatedpersons_role_762T</th></tr><tr><td>u32</td><td>u16</td><td>u16</td><td>str</td><td>str</td><td>str</td><td>str</td><td>str</td><td>date</td><td>str</td><td>str</td></tr></thead><tbody><tr><td>925,600</td><td>0</td><td>0</td><td>&quot;a55475b1&quot;</td><td>null</td><td>&quot;a55475b1&quot;</td><td>&quot;a55475b1&quot;</td><td>&quot;a55475b1&quot;</td><td>null</td><td>&quot;a55475b1&quot;</td><td>null</td></tr><tr><td>255,913</td><td>0</td><td>0</td><td>&quot;a55475b1&quot;</td><td>null</td><td>&quot;a55475b1&quot;</td><td>&quot;a55475b1&quot;</td><td>&quot;a55475b1&quot;</td><td>null</td><td>&quot;a55475b1&quot;</td><td>null</td></tr><tr><td>2,536,023</td><td>0</td><td>0</td><td>&quot;a55475b1&quot;</td><td>null</td><td>&quot;a55475b1&quot;</td><td>&quot;a55475b1&quot;</td><td>&quot;a55475b1&quot;</td><td>null</td><td>&quot;a55475b1&quot;</td><td>null</td></tr><tr><td>&hellip;</td><td>&hellip;</td><td>&hellip;</td><td>&hellip;</td><td>&hellip;</td><td>&hellip;</td><td>&hellip;</td><td>&hellip;</td><td>&hellip;</td><td>&hellip;</td><td>&hellip;</td></tr><tr><td>57,552</td><td>0</td><td>0</td><td>&quot;a55475b1&quot;</td><td>null</td><td>&quot;a55475b1&quot;</td><td>&quot;a55475b1&quot;</td><td>&quot;a55475b1&quot;</td><td>null</td><td>&quot;a55475b1&quot;</td><td>null</td></tr><tr><td>57,551</td><td>0</td><td>0</td><td>&quot;a55475b1&quot;</td><td>null</td><td>&quot;a55475b1&quot;</td><td>&quot;a55475b1&quot;</td><td>&quot;a55475b1&quot;</td><td>null</td><td>&quot;a55475b1&quot;</td><td>null</td></tr><tr><td>57,569</td><td>1</td><td>5</td><td>&quot;P121_131_159&quot;</td><td>&quot;PERMANENT&quot;</td><td>&quot;P47_66_61&quot;</td><td>&quot;P38_92_157&quot;</td><td>&quot;a55475b1&quot;</td><td>null</td><td>&quot;a55475b1&quot;</td><td>&quot;PARENT&quot;</td></tr></tbody></table></div>"
      ],
      "text/plain": [
       "shape: (1_435_108, 11)\n",
       "┌───────────┬───────────┬───────────┬───────────┬───┬───────────┬───────────┬───────────┬──────────┐\n",
       "│ case_id   ┆ person_de ┆ person_de ┆ person_de ┆ … ┆ person_de ┆ person_de ┆ person_de ┆ person_d │\n",
       "│ ---       ┆ pth_num_g ┆ pth_num_g ┆ pth_addre ┆   ┆ pth_empls ┆ pth_empls ┆ pth_empls ┆ epth_rel │\n",
       "│ u32       ┆ roup1     ┆ roup2     ┆ s_distric ┆   ┆ _economic ┆ _employed ┆ _employer ┆ atedpers │\n",
       "│           ┆ ---       ┆ ---       ┆ t_368M    ┆   ┆ alst_849M ┆ from_796D ┆ _name_740 ┆ ons_role │\n",
       "│           ┆ u16       ┆ u16       ┆ ---       ┆   ┆ ---       ┆ ---       ┆ M         ┆ _762T    │\n",
       "│           ┆           ┆           ┆ str       ┆   ┆ str       ┆ date      ┆ ---       ┆ ---      │\n",
       "│           ┆           ┆           ┆           ┆   ┆           ┆           ┆ str       ┆ str      │\n",
       "╞═══════════╪═══════════╪═══════════╪═══════════╪═══╪═══════════╪═══════════╪═══════════╪══════════╡\n",
       "│ 925,600   ┆ 0         ┆ 0         ┆ a55475b1  ┆ … ┆ a55475b1  ┆ null      ┆ a55475b1  ┆ null     │\n",
       "│ 255,913   ┆ 0         ┆ 0         ┆ a55475b1  ┆ … ┆ a55475b1  ┆ null      ┆ a55475b1  ┆ null     │\n",
       "│ 2,536,023 ┆ 0         ┆ 0         ┆ a55475b1  ┆ … ┆ a55475b1  ┆ null      ┆ a55475b1  ┆ null     │\n",
       "│ …         ┆ …         ┆ …         ┆ …         ┆ … ┆ …         ┆ …         ┆ …         ┆ …        │\n",
       "│ 57,552    ┆ 0         ┆ 0         ┆ a55475b1  ┆ … ┆ a55475b1  ┆ null      ┆ a55475b1  ┆ null     │\n",
       "│ 57,551    ┆ 0         ┆ 0         ┆ a55475b1  ┆ … ┆ a55475b1  ┆ null      ┆ a55475b1  ┆ null     │\n",
       "│ 57,569    ┆ 1         ┆ 5         ┆ P121_131_ ┆ … ┆ a55475b1  ┆ null      ┆ a55475b1  ┆ PARENT   │\n",
       "│           ┆           ┆           ┆ 159       ┆   ┆           ┆           ┆           ┆          │\n",
       "└───────────┴───────────┴───────────┴───────────┴───┴───────────┴───────────┴───────────┴──────────┘"
      ]
     },
     "execution_count": 15,
     "metadata": {},
     "output_type": "execute_result"
    }
   ],
   "source": [
    "total_person_depth = preprocess(\"person_2\",\"person_depth\")\n",
    "total_person_depth"
   ]
  },
  {
   "cell_type": "code",
   "execution_count": 16,
   "id": "cb32414d",
   "metadata": {
    "execution": {
     "iopub.execute_input": "2024-04-15T09:31:39.148429Z",
     "iopub.status.busy": "2024-04-15T09:31:39.148123Z",
     "iopub.status.idle": "2024-04-15T09:31:39.184309Z",
     "shell.execute_reply": "2024-04-15T09:31:39.183397Z"
    },
    "papermill": {
     "duration": 0.051725,
     "end_time": "2024-04-15T09:31:39.186346",
     "exception": false,
     "start_time": "2024-04-15T09:31:39.134621",
     "status": "completed"
    },
    "tags": []
   },
   "outputs": [
    {
     "data": {
      "text/html": [
       "<div><style>\n",
       ".dataframe > thead > tr,\n",
       ".dataframe > tbody > tr {\n",
       "  text-align: right;\n",
       "  white-space: pre-wrap;\n",
       "}\n",
       "</style>\n",
       "<small>shape: (51_118, 7)</small><table border=\"1\" class=\"dataframe\"><thead><tr><th>case_id</th><th>other_shallow_amtdebitincoming_4809443A</th><th>other_shallow_amtdebitoutgoing_4809440A</th><th>other_shallow_amtdepositbalance_4809441A</th><th>other_shallow_amtdepositincoming_4809444A</th><th>other_shallow_amtdepositoutgoing_4809442A</th><th>other_shallow_num_group1</th></tr><tr><td>u32</td><td>f32</td><td>f32</td><td>f32</td><td>f32</td><td>f32</td><td>u16</td></tr></thead><tbody><tr><td>248,181</td><td>0.00</td><td>0.20</td><td>0.00</td><td>0.00</td><td>0.00</td><td>0</td></tr><tr><td>1,843,274</td><td>0.00</td><td>0.00</td><td>0.00</td><td>0.00</td><td>6.00</td><td>0</td></tr><tr><td>1,766,174</td><td>13,333.40</td><td>13,333.40</td><td>0.00</td><td>0.00</td><td>0.00</td><td>0</td></tr><tr><td>&hellip;</td><td>&hellip;</td><td>&hellip;</td><td>&hellip;</td><td>&hellip;</td><td>&hellip;</td><td>&hellip;</td></tr><tr><td>57,657</td><td>17,171.40</td><td>19,970.00</td><td>228.40</td><td>0.00</td><td>1.80</td><td>0</td></tr><tr><td>57,667</td><td>9,930.80</td><td>9,930.80</td><td>0.00</td><td>0.00</td><td>0.00</td><td>0</td></tr><tr><td>57,648</td><td>15,233.40</td><td>15,233.40</td><td>0.00</td><td>0.00</td><td>0.00</td><td>0</td></tr></tbody></table></div>"
      ],
      "text/plain": [
       "shape: (51_118, 7)\n",
       "┌───────────┬──────────────┬──────────────┬──────────────┬─────────────┬─────────────┬─────────────┐\n",
       "│ case_id   ┆ other_shallo ┆ other_shallo ┆ other_shallo ┆ other_shall ┆ other_shall ┆ other_shall │\n",
       "│ ---       ┆ w_amtdebitin ┆ w_amtdebitou ┆ w_amtdeposit ┆ ow_amtdepos ┆ ow_amtdepos ┆ ow_num_grou │\n",
       "│ u32       ┆ coming_48094 ┆ tgoing_48094 ┆ balance_4809 ┆ itincoming_ ┆ itoutgoing_ ┆ p1          │\n",
       "│           ┆ 43A          ┆ 40A          ┆ 441A         ┆ 4809444A    ┆ 4809442A    ┆ ---         │\n",
       "│           ┆ ---          ┆ ---          ┆ ---          ┆ ---         ┆ ---         ┆ u16         │\n",
       "│           ┆ f32          ┆ f32          ┆ f32          ┆ f32         ┆ f32         ┆             │\n",
       "╞═══════════╪══════════════╪══════════════╪══════════════╪═════════════╪═════════════╪═════════════╡\n",
       "│ 248,181   ┆ 0.00         ┆ 0.20         ┆ 0.00         ┆ 0.00        ┆ 0.00        ┆ 0           │\n",
       "│ 1,843,274 ┆ 0.00         ┆ 0.00         ┆ 0.00         ┆ 0.00        ┆ 6.00        ┆ 0           │\n",
       "│ 1,766,174 ┆ 13,333.40    ┆ 13,333.40    ┆ 0.00         ┆ 0.00        ┆ 0.00        ┆ 0           │\n",
       "│ …         ┆ …            ┆ …            ┆ …            ┆ …           ┆ …           ┆ …           │\n",
       "│ 57,657    ┆ 17,171.40    ┆ 19,970.00    ┆ 228.40       ┆ 0.00        ┆ 1.80        ┆ 0           │\n",
       "│ 57,667    ┆ 9,930.80     ┆ 9,930.80     ┆ 0.00         ┆ 0.00        ┆ 0.00        ┆ 0           │\n",
       "│ 57,648    ┆ 15,233.40    ┆ 15,233.40    ┆ 0.00         ┆ 0.00        ┆ 0.00        ┆ 0           │\n",
       "└───────────┴──────────────┴──────────────┴──────────────┴─────────────┴─────────────┴─────────────┘"
      ]
     },
     "execution_count": 16,
     "metadata": {},
     "output_type": "execute_result"
    }
   ],
   "source": [
    "total_other_shallow = preprocess(\"other_1\",\"other_shallow\")\n",
    "total_other_shallow"
   ]
  },
  {
   "cell_type": "code",
   "execution_count": 17,
   "id": "1f26b422",
   "metadata": {
    "execution": {
     "iopub.execute_input": "2024-04-15T09:31:39.212814Z",
     "iopub.status.busy": "2024-04-15T09:31:39.212526Z",
     "iopub.status.idle": "2024-04-15T09:31:39.615779Z",
     "shell.execute_reply": "2024-04-15T09:31:39.614791Z"
    },
    "papermill": {
     "duration": 0.418815,
     "end_time": "2024-04-15T09:31:39.617934",
     "exception": false,
     "start_time": "2024-04-15T09:31:39.199119",
     "status": "completed"
    },
    "tags": []
   },
   "outputs": [
    {
     "data": {
      "text/html": [
       "<div><style>\n",
       ".dataframe > thead > tr,\n",
       ".dataframe > tbody > tr {\n",
       "  text-align: right;\n",
       "  white-space: pre-wrap;\n",
       "}\n",
       "</style>\n",
       "<small>shape: (105_116, 5)</small><table border=\"1\" class=\"dataframe\"><thead><tr><th>case_id</th><th>deposit_shallow_amount_416A</th><th>deposit_shallow_num_group1</th><th>deposit_shallow_contractenddate_991D</th><th>deposit_shallow_openingdate_313D</th></tr><tr><td>u32</td><td>f32</td><td>u16</td><td>date</td><td>date</td></tr></thead><tbody><tr><td>2,638,868</td><td>404.85</td><td>0</td><td>2018-11-27</td><td>2014-05-28</td></tr><tr><td>197,353</td><td>0.00</td><td>0</td><td>2017-04-02</td><td>2014-04-03</td></tr><tr><td>168,110</td><td>229.00</td><td>3</td><td>2017-10-04</td><td>2015-09-09</td></tr><tr><td>&hellip;</td><td>&hellip;</td><td>&hellip;</td><td>&hellip;</td><td>&hellip;</td></tr><tr><td>57,644</td><td>0.00</td><td>2</td><td>2016-11-29</td><td>2013-08-08</td></tr><tr><td>57,708</td><td>262.56</td><td>0</td><td>2019-04-21</td><td>2016-04-21</td></tr><tr><td>57,715</td><td>1,800.00</td><td>4</td><td>2016-03-16</td><td>2014-08-13</td></tr></tbody></table></div>"
      ],
      "text/plain": [
       "shape: (105_116, 5)\n",
       "┌───────────┬─────────────────────┬─────────────────────┬─────────────────────┬────────────────────┐\n",
       "│ case_id   ┆ deposit_shallow_amo ┆ deposit_shallow_num ┆ deposit_shallow_con ┆ deposit_shallow_op │\n",
       "│ ---       ┆ unt_416A            ┆ _group1             ┆ tractenddate_991D   ┆ eningdate_313D     │\n",
       "│ u32       ┆ ---                 ┆ ---                 ┆ ---                 ┆ ---                │\n",
       "│           ┆ f32                 ┆ u16                 ┆ date                ┆ date               │\n",
       "╞═══════════╪═════════════════════╪═════════════════════╪═════════════════════╪════════════════════╡\n",
       "│ 2,638,868 ┆ 404.85              ┆ 0                   ┆ 2018-11-27          ┆ 2014-05-28         │\n",
       "│ 197,353   ┆ 0.00                ┆ 0                   ┆ 2017-04-02          ┆ 2014-04-03         │\n",
       "│ 168,110   ┆ 229.00              ┆ 3                   ┆ 2017-10-04          ┆ 2015-09-09         │\n",
       "│ …         ┆ …                   ┆ …                   ┆ …                   ┆ …                  │\n",
       "│ 57,644    ┆ 0.00                ┆ 2                   ┆ 2016-11-29          ┆ 2013-08-08         │\n",
       "│ 57,708    ┆ 262.56              ┆ 0                   ┆ 2019-04-21          ┆ 2016-04-21         │\n",
       "│ 57,715    ┆ 1,800.00            ┆ 4                   ┆ 2016-03-16          ┆ 2014-08-13         │\n",
       "└───────────┴─────────────────────┴─────────────────────┴─────────────────────┴────────────────────┘"
      ]
     },
     "execution_count": 17,
     "metadata": {},
     "output_type": "execute_result"
    }
   ],
   "source": [
    "total_deposit_shallow = preprocess(\"deposit_1\",\"deposit_shallow\")\n",
    "total_deposit_shallow"
   ]
  },
  {
   "cell_type": "code",
   "execution_count": 18,
   "id": "b7c70c2c",
   "metadata": {
    "execution": {
     "iopub.execute_input": "2024-04-15T09:31:39.646058Z",
     "iopub.status.busy": "2024-04-15T09:31:39.645325Z",
     "iopub.status.idle": "2024-04-15T09:31:39.946276Z",
     "shell.execute_reply": "2024-04-15T09:31:39.945355Z"
    },
    "papermill": {
     "duration": 0.316994,
     "end_time": "2024-04-15T09:31:39.948399",
     "exception": false,
     "start_time": "2024-04-15T09:31:39.631405",
     "status": "completed"
    },
    "tags": []
   },
   "outputs": [
    {
     "data": {
      "text/html": [
       "<div><style>\n",
       ".dataframe > thead > tr,\n",
       ".dataframe > tbody > tr {\n",
       "  text-align: right;\n",
       "  white-space: pre-wrap;\n",
       "}\n",
       "</style>\n",
       "<small>shape: (111_777, 6)</small><table border=\"1\" class=\"dataframe\"><thead><tr><th>case_id</th><th>card_shallow_last180dayaveragebalance_704A</th><th>card_shallow_last180dayturnover_1134A</th><th>card_shallow_last30dayturnover_651A</th><th>card_shallow_num_group1</th><th>card_shallow_openingdate_857D</th></tr><tr><td>u32</td><td>f32</td><td>f32</td><td>f32</td><td>u16</td><td>date</td></tr></thead><tbody><tr><td>2,682,247</td><td>null</td><td>null</td><td>null</td><td>0</td><td>2014-02-06</td></tr><tr><td>2,691,095</td><td>null</td><td>null</td><td>null</td><td>0</td><td>2013-10-07</td></tr><tr><td>2,628,444</td><td>null</td><td>null</td><td>null</td><td>2</td><td>2015-07-31</td></tr><tr><td>&hellip;</td><td>&hellip;</td><td>&hellip;</td><td>&hellip;</td><td>&hellip;</td><td>&hellip;</td></tr><tr><td>57,644</td><td>null</td><td>null</td><td>null</td><td>2</td><td>2013-11-29</td></tr><tr><td>57,701</td><td>null</td><td>null</td><td>null</td><td>0</td><td>2014-09-06</td></tr><tr><td>57,709</td><td>null</td><td>null</td><td>null</td><td>0</td><td>2015-09-14</td></tr></tbody></table></div>"
      ],
      "text/plain": [
       "shape: (111_777, 6)\n",
       "┌───────────┬─────────────────┬─────────────────┬────────────────┬────────────────┬────────────────┐\n",
       "│ case_id   ┆ card_shallow_la ┆ card_shallow_la ┆ card_shallow_l ┆ card_shallow_n ┆ card_shallow_o │\n",
       "│ ---       ┆ st180dayaverage ┆ st180dayturnove ┆ ast30dayturnov ┆ um_group1      ┆ peningdate_857 │\n",
       "│ u32       ┆ balance_704A    ┆ r_1134A         ┆ er_651A        ┆ ---            ┆ D              │\n",
       "│           ┆ ---             ┆ ---             ┆ ---            ┆ u16            ┆ ---            │\n",
       "│           ┆ f32             ┆ f32             ┆ f32            ┆                ┆ date           │\n",
       "╞═══════════╪═════════════════╪═════════════════╪════════════════╪════════════════╪════════════════╡\n",
       "│ 2,682,247 ┆ null            ┆ null            ┆ null           ┆ 0              ┆ 2014-02-06     │\n",
       "│ 2,691,095 ┆ null            ┆ null            ┆ null           ┆ 0              ┆ 2013-10-07     │\n",
       "│ 2,628,444 ┆ null            ┆ null            ┆ null           ┆ 2              ┆ 2015-07-31     │\n",
       "│ …         ┆ …               ┆ …               ┆ …              ┆ …              ┆ …              │\n",
       "│ 57,644    ┆ null            ┆ null            ┆ null           ┆ 2              ┆ 2013-11-29     │\n",
       "│ 57,701    ┆ null            ┆ null            ┆ null           ┆ 0              ┆ 2014-09-06     │\n",
       "│ 57,709    ┆ null            ┆ null            ┆ null           ┆ 0              ┆ 2015-09-14     │\n",
       "└───────────┴─────────────────┴─────────────────┴────────────────┴────────────────┴────────────────┘"
      ]
     },
     "execution_count": 18,
     "metadata": {},
     "output_type": "execute_result"
    }
   ],
   "source": [
    "total_debitcard_shallow = preprocess(\"debitcard\",\"card_shallow\")\n",
    "total_debitcard_shallow"
   ]
  },
  {
   "cell_type": "code",
   "execution_count": 19,
   "id": "b7496c11",
   "metadata": {
    "execution": {
     "iopub.execute_input": "2024-04-15T09:31:39.975887Z",
     "iopub.status.busy": "2024-04-15T09:31:39.975568Z",
     "iopub.status.idle": "2024-04-15T09:33:30.775960Z",
     "shell.execute_reply": "2024-04-15T09:33:30.774999Z"
    },
    "papermill": {
     "duration": 110.830109,
     "end_time": "2024-04-15T09:33:30.791827",
     "exception": false,
     "start_time": "2024-04-15T09:31:39.961718",
     "status": "completed"
    },
    "tags": []
   },
   "outputs": [
    {
     "data": {
      "text/html": [
       "<div><style>\n",
       ".dataframe > thead > tr,\n",
       ".dataframe > tbody > tr {\n",
       "  text-align: right;\n",
       "  white-space: pre-wrap;\n",
       "}\n",
       "</style>\n",
       "<small>shape: (1_386_278, 79)</small><table border=\"1\" class=\"dataframe\"><thead><tr><th>case_id</th><th>int_shallow_annualeffectiverate_199L</th><th>int_shallow_annualeffectiverate_63L</th><th>int_shallow_contractsum_5085717L</th><th>int_shallow_credlmt_230A</th><th>int_shallow_credlmt_935A</th><th>int_shallow_debtoutstand_525A</th><th>int_shallow_debtoverdue_47A</th><th>int_shallow_dpdmax_139P</th><th>int_shallow_dpdmax_757P</th><th>int_shallow_instlamount_768A</th><th>int_shallow_instlamount_852A</th><th>int_shallow_interestrate_508L</th><th>int_shallow_monthlyinstlamount_332A</th><th>int_shallow_monthlyinstlamount_674A</th><th>int_shallow_nominalrate_281L</th><th>int_shallow_nominalrate_498L</th><th>int_shallow_num_group1</th><th>int_shallow_numberofcontrsvalue_258L</th><th>int_shallow_numberofcontrsvalue_358L</th><th>int_shallow_numberofinstls_229L</th><th>int_shallow_numberofinstls_320L</th><th>int_shallow_numberofoutstandinstls_520L</th><th>int_shallow_numberofoutstandinstls_59L</th><th>int_shallow_numberofoverdueinstlmax_1039L</th><th>int_shallow_numberofoverdueinstlmax_1151L</th><th>int_shallow_numberofoverdueinstls_725L</th><th>int_shallow_numberofoverdueinstls_834L</th><th>int_shallow_outstandingamount_354A</th><th>int_shallow_outstandingamount_362A</th><th>int_shallow_overdueamount_31A</th><th>int_shallow_overdueamount_659A</th><th>int_shallow_overdueamountmax2_14A</th><th>int_shallow_overdueamountmax2_398A</th><th>int_shallow_overdueamountmax_155A</th><th>int_shallow_overdueamountmax_35A</th><th>int_shallow_periodicityofpmts_1102L</th><th>&hellip;</th><th>int_shallow_totalamount_6A</th><th>int_shallow_totalamount_996A</th><th>int_shallow_totaldebtoverduevalue_178A</th><th>int_shallow_totaldebtoverduevalue_718A</th><th>int_shallow_totaloutstanddebtvalue_39A</th><th>int_shallow_totaloutstanddebtvalue_668A</th><th>int_shallow_classificationofcontr_13M</th><th>int_shallow_classificationofcontr_400M</th><th>int_shallow_contractst_545M</th><th>int_shallow_contractst_964M</th><th>int_shallow_dateofcredend_289D</th><th>int_shallow_dateofcredend_353D</th><th>int_shallow_dateofcredstart_181D</th><th>int_shallow_dateofcredstart_739D</th><th>int_shallow_dateofrealrepmt_138D</th><th>int_shallow_description_351M</th><th>int_shallow_dpdmaxdatemonth_442T</th><th>int_shallow_dpdmaxdatemonth_89T</th><th>int_shallow_dpdmaxdateyear_596T</th><th>int_shallow_dpdmaxdateyear_896T</th><th>int_shallow_financialinstitution_382M</th><th>int_shallow_financialinstitution_591M</th><th>int_shallow_lastupdate_1112D</th><th>int_shallow_lastupdate_388D</th><th>int_shallow_numberofoverdueinstlmaxdat_148D</th><th>int_shallow_numberofoverdueinstlmaxdat_641D</th><th>int_shallow_overdueamountmax2date_1002D</th><th>int_shallow_overdueamountmax2date_1142D</th><th>int_shallow_overdueamountmaxdatemonth_284T</th><th>int_shallow_overdueamountmaxdatemonth_365T</th><th>int_shallow_overdueamountmaxdateyear_2T</th><th>int_shallow_overdueamountmaxdateyear_994T</th><th>int_shallow_purposeofcred_426M</th><th>int_shallow_purposeofcred_874M</th><th>int_shallow_refreshdate_3813885D</th><th>int_shallow_subjectrole_182M</th><th>int_shallow_subjectrole_93M</th></tr><tr><td>u32</td><td>f32</td><td>f32</td><td>f32</td><td>f32</td><td>f32</td><td>f32</td><td>f32</td><td>f32</td><td>f32</td><td>f32</td><td>f32</td><td>f32</td><td>f32</td><td>f32</td><td>f32</td><td>f32</td><td>u16</td><td>f32</td><td>f32</td><td>f32</td><td>f32</td><td>f32</td><td>f32</td><td>f32</td><td>f32</td><td>f32</td><td>f32</td><td>f32</td><td>f32</td><td>f32</td><td>f32</td><td>f32</td><td>f32</td><td>f32</td><td>f32</td><td>f32</td><td>&hellip;</td><td>f32</td><td>f32</td><td>f32</td><td>f32</td><td>f32</td><td>f32</td><td>str</td><td>str</td><td>str</td><td>str</td><td>date</td><td>date</td><td>date</td><td>date</td><td>date</td><td>str</td><td>str</td><td>str</td><td>str</td><td>str</td><td>str</td><td>str</td><td>date</td><td>date</td><td>date</td><td>date</td><td>date</td><td>date</td><td>str</td><td>str</td><td>str</td><td>str</td><td>str</td><td>str</td><td>date</td><td>str</td><td>str</td></tr></thead><tbody><tr><td>1,361,335</td><td>null</td><td>null</td><td>null</td><td>null</td><td>0.00</td><td>33,196.35</td><td>0.00</td><td>0.00</td><td>null</td><td>0.00</td><td>null</td><td>null</td><td>5,350.20</td><td>null</td><td>45.00</td><td>null</td><td>10</td><td>2.00</td><td>8.00</td><td>null</td><td>12.00</td><td>null</td><td>7.00</td><td>0.00</td><td>null</td><td>0.00</td><td>null</td><td>null</td><td>33,196.35</td><td>null</td><td>0.00</td><td>0.00</td><td>null</td><td>0.00</td><td>null</td><td>null</td><td>&hellip;</td><td>null</td><td>50,984.20</td><td>0.00</td><td>0.00</td><td>33,196.35</td><td>0.00</td><td>&quot;a55475b1&quot;</td><td>&quot;a55475b1&quot;</td><td>&quot;a55475b1&quot;</td><td>&quot;a55475b1&quot;</td><td>2019-11-11</td><td>null</td><td>null</td><td>2015-11-11</td><td>null</td><td>&quot;a55475b1&quot;</td><td>null</td><td>&quot;12.0&quot;</td><td>&quot;2017.0&quot;</td><td>null</td><td>&quot;a55475b1&quot;</td><td>&quot;a55475b1&quot;</td><td>2019-05-07</td><td>null</td><td>null</td><td>null</td><td>null</td><td>null</td><td>null</td><td>&quot;12.0&quot;</td><td>&quot;2017.0&quot;</td><td>null</td><td>&quot;a55475b1&quot;</td><td>&quot;a55475b1&quot;</td><td>2019-05-21</td><td>&quot;a55475b1&quot;</td><td>&quot;a55475b1&quot;</td></tr><tr><td>1,344,716</td><td>null</td><td>null</td><td>null</td><td>null</td><td>null</td><td>17,677.44</td><td>0.00</td><td>9.00</td><td>null</td><td>null</td><td>null</td><td>null</td><td>2,503.00</td><td>null</td><td>43.30</td><td>null</td><td>10</td><td>1.00</td><td>null</td><td>null</td><td>16.00</td><td>null</td><td>8.00</td><td>10.00</td><td>null</td><td>0.00</td><td>null</td><td>null</td><td>17,677.44</td><td>null</td><td>0.00</td><td>14.00</td><td>null</td><td>14.00</td><td>null</td><td>null</td><td>&hellip;</td><td>null</td><td>29,998.00</td><td>0.00</td><td>null</td><td>17,677.44</td><td>null</td><td>&quot;a55475b1&quot;</td><td>&quot;a55475b1&quot;</td><td>&quot;a55475b1&quot;</td><td>&quot;a55475b1&quot;</td><td>2019-11-28</td><td>null</td><td>null</td><td>2018-07-28</td><td>null</td><td>&quot;a55475b1&quot;</td><td>null</td><td>&quot;2.0&quot;</td><td>&quot;2019.0&quot;</td><td>null</td><td>&quot;a55475b1&quot;</td><td>&quot;a55475b1&quot;</td><td>2019-04-24</td><td>null</td><td>null</td><td>2019-02-07</td><td>null</td><td>2019-02-07</td><td>null</td><td>&quot;2.0&quot;</td><td>&quot;2019.0&quot;</td><td>null</td><td>&quot;a55475b1&quot;</td><td>&quot;a55475b1&quot;</td><td>2019-05-03</td><td>&quot;a55475b1&quot;</td><td>&quot;a55475b1&quot;</td></tr><tr><td>2,577,452</td><td>null</td><td>null</td><td>null</td><td>null</td><td>10,000.00</td><td>140,111.11</td><td>0.00</td><td>0.00</td><td>null</td><td>2,095.20</td><td>null</td><td>null</td><td>9,340.40</td><td>null</td><td>42.00</td><td>null</td><td>10</td><td>2.00</td><td>2.00</td><td>null</td><td>24.00</td><td>null</td><td>19.00</td><td>0.00</td><td>null</td><td>0.00</td><td>null</td><td>null</td><td>129,958.98</td><td>null</td><td>0.00</td><td>0.00</td><td>null</td><td>0.00</td><td>null</td><td>null</td><td>&hellip;</td><td>null</td><td>150,000.00</td><td>0.00</td><td>0.00</td><td>140,111.11</td><td>0.00</td><td>&quot;a55475b1&quot;</td><td>&quot;a55475b1&quot;</td><td>&quot;a55475b1&quot;</td><td>&quot;a55475b1&quot;</td><td>2020-12-15</td><td>null</td><td>null</td><td>2018-12-14</td><td>null</td><td>&quot;a55475b1&quot;</td><td>null</td><td>&quot;1.0&quot;</td><td>&quot;2019.0&quot;</td><td>null</td><td>&quot;a55475b1&quot;</td><td>&quot;a55475b1&quot;</td><td>2019-05-28</td><td>null</td><td>null</td><td>null</td><td>null</td><td>null</td><td>null</td><td>&quot;7.0&quot;</td><td>&quot;2019.0&quot;</td><td>null</td><td>&quot;a55475b1&quot;</td><td>&quot;a55475b1&quot;</td><td>2019-06-10</td><td>&quot;a55475b1&quot;</td><td>&quot;a55475b1&quot;</td></tr><tr><td>&hellip;</td><td>&hellip;</td><td>&hellip;</td><td>&hellip;</td><td>&hellip;</td><td>&hellip;</td><td>&hellip;</td><td>&hellip;</td><td>&hellip;</td><td>&hellip;</td><td>&hellip;</td><td>&hellip;</td><td>&hellip;</td><td>&hellip;</td><td>&hellip;</td><td>&hellip;</td><td>&hellip;</td><td>&hellip;</td><td>&hellip;</td><td>&hellip;</td><td>&hellip;</td><td>&hellip;</td><td>&hellip;</td><td>&hellip;</td><td>&hellip;</td><td>&hellip;</td><td>&hellip;</td><td>&hellip;</td><td>&hellip;</td><td>&hellip;</td><td>&hellip;</td><td>&hellip;</td><td>&hellip;</td><td>&hellip;</td><td>&hellip;</td><td>&hellip;</td><td>&hellip;</td><td>&hellip;</td><td>&hellip;</td><td>&hellip;</td><td>&hellip;</td><td>&hellip;</td><td>&hellip;</td><td>&hellip;</td><td>&hellip;</td><td>&hellip;</td><td>&hellip;</td><td>&hellip;</td><td>&hellip;</td><td>&hellip;</td><td>&hellip;</td><td>&hellip;</td><td>&hellip;</td><td>&hellip;</td><td>&hellip;</td><td>&hellip;</td><td>&hellip;</td><td>&hellip;</td><td>&hellip;</td><td>&hellip;</td><td>&hellip;</td><td>&hellip;</td><td>&hellip;</td><td>&hellip;</td><td>&hellip;</td><td>&hellip;</td><td>&hellip;</td><td>&hellip;</td><td>&hellip;</td><td>&hellip;</td><td>&hellip;</td><td>&hellip;</td><td>&hellip;</td><td>&hellip;</td><td>&hellip;</td></tr><tr><td>57,633</td><td>34.50</td><td>56.00</td><td>4,800,829.00</td><td>null</td><td>1,280,000.00</td><td>2,579,517.75</td><td>0.00</td><td>0.00</td><td>0.00</td><td>10,397.20</td><td>null</td><td>null</td><td>70,888.40</td><td>56,508.40</td><td>33.00</td><td>29.88</td><td>9</td><td>6.00</td><td>9.00</td><td>12.00</td><td>84.00</td><td>0.00</td><td>84.00</td><td>0.00</td><td>0.00</td><td>0.00</td><td>0.00</td><td>0.00</td><td>1,304,916.12</td><td>0.00</td><td>0.00</td><td>0.00</td><td>0.00</td><td>0.00</td><td>0.00</td><td>30.00</td><td>&hellip;</td><td>580,000.00</td><td>1,301,400.00</td><td>0.00</td><td>0.00</td><td>2,579,517.75</td><td>0.00</td><td>&quot;ea6782cc&quot;</td><td>&quot;ea6782cc&quot;</td><td>&quot;7241344e&quot;</td><td>&quot;7241344e&quot;</td><td>2023-10-02</td><td>2022-12-29</td><td>2021-04-05</td><td>2021-01-15</td><td>2021-11-22</td><td>&quot;a55475b1&quot;</td><td>&quot;10.0&quot;</td><td>&quot;1.0&quot;</td><td>&quot;2022.0&quot;</td><td>&quot;2021.0&quot;</td><td>&quot;b619fa46&quot;</td><td>&quot;b619fa46&quot;</td><td>2022-01-28</td><td>2021-11-30</td><td>null</td><td>null</td><td>null</td><td>null</td><td>&quot;10.0&quot;</td><td>&quot;1.0&quot;</td><td>&quot;2022.0&quot;</td><td>&quot;2021.0&quot;</td><td>&quot;5d1b0cdd&quot;</td><td>&quot;5d1b0cdd&quot;</td><td>2022-02-08</td><td>&quot;a55475b1&quot;</td><td>&quot;a55475b1&quot;</td></tr><tr><td>57,549</td><td>657.00</td><td>56.00</td><td>911,176.56</td><td>17,800.00</td><td>257,978.00</td><td>312,615.59</td><td>0.00</td><td>0.00</td><td>108.00</td><td>13,542.40</td><td>99.80</td><td>null</td><td>13,542.40</td><td>45,490.40</td><td>27.10</td><td>657.00</td><td>10</td><td>3.00</td><td>11.00</td><td>1.00</td><td>48.00</td><td>0.00</td><td>48.00</td><td>0.00</td><td>120.00</td><td>0.00</td><td>0.00</td><td>0.00</td><td>120,024.73</td><td>0.00</td><td>0.00</td><td>0.00</td><td>48,690.40</td><td>0.00</td><td>48,690.40</td><td>30.00</td><td>&hellip;</td><td>330,000.00</td><td>118,964.80</td><td>0.00</td><td>0.00</td><td>312,615.59</td><td>0.00</td><td>&quot;a55475b1&quot;</td><td>&quot;00135d9c&quot;</td><td>&quot;a55475b1&quot;</td><td>&quot;7241344e&quot;</td><td>2023-02-25</td><td>2024-08-10</td><td>2018-12-17</td><td>2021-10-12</td><td>2020-09-19</td><td>&quot;a55475b1&quot;</td><td>&quot;12.0&quot;</td><td>&quot;6.0&quot;</td><td>&quot;2022.0&quot;</td><td>&quot;2019.0&quot;</td><td>&quot;a0fa072e&quot;</td><td>&quot;a55475b1&quot;</td><td>2022-01-25</td><td>2019-11-18</td><td>2017-02-02</td><td>null</td><td>2017-12-18</td><td>null</td><td>&quot;1.0&quot;</td><td>&quot;6.0&quot;</td><td>&quot;2022.0&quot;</td><td>&quot;2019.0&quot;</td><td>&quot;a55475b1&quot;</td><td>&quot;96a8fdfe&quot;</td><td>2022-01-31</td><td>&quot;a55475b1&quot;</td><td>&quot;a55475b1&quot;</td></tr><tr><td>57,760</td><td>42.58</td><td>56.00</td><td>1,421,529.38</td><td>100,000.00</td><td>320,000.00</td><td>284,305.88</td><td>0.00</td><td>0.00</td><td>281.00</td><td>14,448.60</td><td>867.01</td><td>null</td><td>14,448.60</td><td>63,224.80</td><td>20.95</td><td>45.00</td><td>9</td><td>1.00</td><td>5.00</td><td>12.00</td><td>null</td><td>0.00</td><td>null</td><td>1.00</td><td>313.00</td><td>0.00</td><td>0.00</td><td>0.00</td><td>null</td><td>0.00</td><td>0.00</td><td>950.62</td><td>3,998.00</td><td>0.00</td><td>3,998.00</td><td>30.00</td><td>&hellip;</td><td>247,625.61</td><td>null</td><td>0.00</td><td>0.00</td><td>284,305.88</td><td>0.00</td><td>&quot;a55475b1&quot;</td><td>&quot;a55475b1&quot;</td><td>&quot;a55475b1&quot;</td><td>&quot;a55475b1&quot;</td><td>2022-09-08</td><td>2019-09-02</td><td>2016-09-05</td><td>2016-09-08</td><td>2017-04-18</td><td>&quot;a55475b1&quot;</td><td>&quot;4.0&quot;</td><td>&quot;11.0&quot;</td><td>&quot;2020.0&quot;</td><td>&quot;2021.0&quot;</td><td>&quot;a55475b1&quot;</td><td>&quot;a55475b1&quot;</td><td>2021-09-08</td><td>2017-05-15</td><td>2017-04-15</td><td>2017-09-09</td><td>2020-03-16</td><td>2017-09-09</td><td>&quot;12.0&quot;</td><td>&quot;11.0&quot;</td><td>&quot;2020.0&quot;</td><td>&quot;2021.0&quot;</td><td>&quot;a55475b1&quot;</td><td>&quot;a55475b1&quot;</td><td>2021-09-13</td><td>&quot;a55475b1&quot;</td><td>&quot;a55475b1&quot;</td></tr></tbody></table></div>"
      ],
      "text/plain": [
       "shape: (1_386_278, 79)\n",
       "┌───────────┬───────────┬───────────┬───────────┬───┬───────────┬───────────┬───────────┬──────────┐\n",
       "│ case_id   ┆ int_shall ┆ int_shall ┆ int_shall ┆ … ┆ int_shall ┆ int_shall ┆ int_shall ┆ int_shal │\n",
       "│ ---       ┆ ow_annual ┆ ow_annual ┆ ow_contra ┆   ┆ ow_purpos ┆ ow_refres ┆ ow_subjec ┆ low_subj │\n",
       "│ u32       ┆ effective ┆ effective ┆ ctsum_508 ┆   ┆ eofcred_8 ┆ hdate_381 ┆ trole_182 ┆ ectrole_ │\n",
       "│           ┆ rate_199L ┆ rate_63L  ┆ 5717L     ┆   ┆ 74M       ┆ 3885D     ┆ M         ┆ 93M      │\n",
       "│           ┆ ---       ┆ ---       ┆ ---       ┆   ┆ ---       ┆ ---       ┆ ---       ┆ ---      │\n",
       "│           ┆ f32       ┆ f32       ┆ f32       ┆   ┆ str       ┆ date      ┆ str       ┆ str      │\n",
       "╞═══════════╪═══════════╪═══════════╪═══════════╪═══╪═══════════╪═══════════╪═══════════╪══════════╡\n",
       "│ 1,361,335 ┆ null      ┆ null      ┆ null      ┆ … ┆ a55475b1  ┆ 2019-05-2 ┆ a55475b1  ┆ a55475b1 │\n",
       "│           ┆           ┆           ┆           ┆   ┆           ┆ 1         ┆           ┆          │\n",
       "│ 1,344,716 ┆ null      ┆ null      ┆ null      ┆ … ┆ a55475b1  ┆ 2019-05-0 ┆ a55475b1  ┆ a55475b1 │\n",
       "│           ┆           ┆           ┆           ┆   ┆           ┆ 3         ┆           ┆          │\n",
       "│ 2,577,452 ┆ null      ┆ null      ┆ null      ┆ … ┆ a55475b1  ┆ 2019-06-1 ┆ a55475b1  ┆ a55475b1 │\n",
       "│           ┆           ┆           ┆           ┆   ┆           ┆ 0         ┆           ┆          │\n",
       "│ …         ┆ …         ┆ …         ┆ …         ┆ … ┆ …         ┆ …         ┆ …         ┆ …        │\n",
       "│ 57,633    ┆ 34.50     ┆ 56.00     ┆ 4,800,829 ┆ … ┆ 5d1b0cdd  ┆ 2022-02-0 ┆ a55475b1  ┆ a55475b1 │\n",
       "│           ┆           ┆           ┆ .00       ┆   ┆           ┆ 8         ┆           ┆          │\n",
       "│ 57,549    ┆ 657.00    ┆ 56.00     ┆ 911,176.5 ┆ … ┆ 96a8fdfe  ┆ 2022-01-3 ┆ a55475b1  ┆ a55475b1 │\n",
       "│           ┆           ┆           ┆ 6         ┆   ┆           ┆ 1         ┆           ┆          │\n",
       "│ 57,760    ┆ 42.58     ┆ 56.00     ┆ 1,421,529 ┆ … ┆ a55475b1  ┆ 2021-09-1 ┆ a55475b1  ┆ a55475b1 │\n",
       "│           ┆           ┆           ┆ .38       ┆   ┆           ┆ 3         ┆           ┆          │\n",
       "└───────────┴───────────┴───────────┴───────────┴───┴───────────┴───────────┴───────────┴──────────┘"
      ]
     },
     "execution_count": 19,
     "metadata": {},
     "output_type": "execute_result"
    }
   ],
   "source": [
    "total_credit_internal_shallow = preprocess(\"bureau_a_1\",\"int_shallow\")\n",
    "total_credit_internal_shallow"
   ]
  },
  {
   "cell_type": "code",
   "execution_count": 20,
   "id": "c2a37e4b",
   "metadata": {
    "execution": {
     "iopub.execute_input": "2024-04-15T09:33:30.819747Z",
     "iopub.status.busy": "2024-04-15T09:33:30.819434Z",
     "iopub.status.idle": "2024-04-15T09:36:07.265923Z",
     "shell.execute_reply": "2024-04-15T09:36:07.265007Z"
    },
    "papermill": {
     "duration": 156.476535,
     "end_time": "2024-04-15T09:36:07.281837",
     "exception": false,
     "start_time": "2024-04-15T09:33:30.805302",
     "status": "completed"
    },
    "tags": []
   },
   "outputs": [
    {
     "data": {
      "text/html": [
       "<div><style>\n",
       ".dataframe > thead > tr,\n",
       ".dataframe > tbody > tr {\n",
       "  text-align: right;\n",
       "  white-space: pre-wrap;\n",
       "}\n",
       "</style>\n",
       "<small>shape: (1_385_300, 19)</small><table border=\"1\" class=\"dataframe\"><thead><tr><th>case_id</th><th>int_depth_collater_valueofguarantee_1124L</th><th>int_depth_collater_valueofguarantee_876L</th><th>int_depth_num_group1</th><th>int_depth_num_group2</th><th>int_depth_pmts_dpd_1073P</th><th>int_depth_pmts_dpd_303P</th><th>int_depth_pmts_overdue_1140A</th><th>int_depth_pmts_overdue_1152A</th><th>int_depth_collater_typofvalofguarant_298M</th><th>int_depth_collater_typofvalofguarant_407M</th><th>int_depth_collaterals_typeofguarante_359M</th><th>int_depth_collaterals_typeofguarante_669M</th><th>int_depth_pmts_month_158T</th><th>int_depth_pmts_month_706T</th><th>int_depth_pmts_year_1139T</th><th>int_depth_pmts_year_507T</th><th>int_depth_subjectroles_name_541M</th><th>int_depth_subjectroles_name_838M</th></tr><tr><td>u32</td><td>f32</td><td>f32</td><td>u16</td><td>u16</td><td>f32</td><td>f32</td><td>f32</td><td>f32</td><td>str</td><td>str</td><td>str</td><td>str</td><td>str</td><td>str</td><td>str</td><td>str</td><td>str</td><td>str</td></tr></thead><tbody><tr><td>1,279,781</td><td>0.00</td><td>null</td><td>2</td><td>23</td><td>0.00</td><td>null</td><td>0.00</td><td>null</td><td>&quot;a55475b1&quot;</td><td>&quot;a55475b1&quot;</td><td>&quot;a55475b1&quot;</td><td>&quot;a55475b1&quot;</td><td>&quot;6.0&quot;</td><td>null</td><td>&quot;2019.0&quot;</td><td>null</td><td>&quot;a55475b1&quot;</td><td>&quot;a55475b1&quot;</td></tr><tr><td>1,265,082</td><td>0.00</td><td>null</td><td>1</td><td>35</td><td>0.00</td><td>null</td><td>0.00</td><td>null</td><td>&quot;a55475b1&quot;</td><td>&quot;a55475b1&quot;</td><td>&quot;a55475b1&quot;</td><td>&quot;a55475b1&quot;</td><td>&quot;1.0&quot;</td><td>null</td><td>&quot;2019.0&quot;</td><td>null</td><td>&quot;a55475b1&quot;</td><td>&quot;a55475b1&quot;</td></tr><tr><td>1,286,209</td><td>0.00</td><td>null</td><td>1</td><td>23</td><td>30.00</td><td>null</td><td>4,012.00</td><td>null</td><td>&quot;a55475b1&quot;</td><td>&quot;a55475b1&quot;</td><td>&quot;a55475b1&quot;</td><td>&quot;a55475b1&quot;</td><td>&quot;9.0&quot;</td><td>null</td><td>&quot;2019.0&quot;</td><td>null</td><td>&quot;a55475b1&quot;</td><td>&quot;a55475b1&quot;</td></tr><tr><td>&hellip;</td><td>&hellip;</td><td>&hellip;</td><td>&hellip;</td><td>&hellip;</td><td>&hellip;</td><td>&hellip;</td><td>&hellip;</td><td>&hellip;</td><td>&hellip;</td><td>&hellip;</td><td>&hellip;</td><td>&hellip;</td><td>&hellip;</td><td>&hellip;</td><td>&hellip;</td><td>&hellip;</td><td>&hellip;</td><td>&hellip;</td></tr><tr><td>57,633</td><td>7,230,000.00</td><td>0.00</td><td>8</td><td>1</td><td>0.00</td><td>0.00</td><td>0.00</td><td>0.00</td><td>&quot;9a0c095e&quot;</td><td>&quot;9a0c095e&quot;</td><td>&quot;c7a5ad39&quot;</td><td>&quot;c7a5ad39&quot;</td><td>&quot;2.0&quot;</td><td>&quot;2.0&quot;</td><td>&quot;2021.0&quot;</td><td>&quot;2021.0&quot;</td><td>&quot;ab3c25cf&quot;</td><td>&quot;ab3c25cf&quot;</td></tr><tr><td>57,645</td><td>0.00</td><td>0.00</td><td>9</td><td>0</td><td>null</td><td>null</td><td>null</td><td>null</td><td>&quot;a55475b1&quot;</td><td>&quot;8fd95e4b&quot;</td><td>&quot;c7a5ad39&quot;</td><td>&quot;a55475b1&quot;</td><td>&quot;2.0&quot;</td><td>&quot;2.0&quot;</td><td>&quot;2020.0&quot;</td><td>&quot;2019.0&quot;</td><td>&quot;ab3c25cf&quot;</td><td>&quot;a55475b1&quot;</td></tr><tr><td>57,549</td><td>0.00</td><td>0.00</td><td>9</td><td>0</td><td>null</td><td>null</td><td>null</td><td>null</td><td>&quot;a55475b1&quot;</td><td>&quot;9a0c095e&quot;</td><td>&quot;c7a5ad39&quot;</td><td>&quot;a55475b1&quot;</td><td>&quot;2.0&quot;</td><td>&quot;2.0&quot;</td><td>&quot;2022.0&quot;</td><td>&quot;2019.0&quot;</td><td>&quot;ab3c25cf&quot;</td><td>&quot;a55475b1&quot;</td></tr></tbody></table></div>"
      ],
      "text/plain": [
       "shape: (1_385_300, 19)\n",
       "┌───────────┬───────────┬───────────┬───────────┬───┬───────────┬───────────┬───────────┬──────────┐\n",
       "│ case_id   ┆ int_depth ┆ int_depth ┆ int_depth ┆ … ┆ int_depth ┆ int_depth ┆ int_depth ┆ int_dept │\n",
       "│ ---       ┆ _collater ┆ _collater ┆ _num_grou ┆   ┆ _pmts_yea ┆ _pmts_yea ┆ _subjectr ┆ h_subjec │\n",
       "│ u32       ┆ _valueofg ┆ _valueofg ┆ p1        ┆   ┆ r_1139T   ┆ r_507T    ┆ oles_name ┆ troles_n │\n",
       "│           ┆ uarantee_ ┆ uarantee_ ┆ ---       ┆   ┆ ---       ┆ ---       ┆ _541M     ┆ ame_838M │\n",
       "│           ┆ 1124L     ┆ 876L      ┆ u16       ┆   ┆ str       ┆ str       ┆ ---       ┆ ---      │\n",
       "│           ┆ ---       ┆ ---       ┆           ┆   ┆           ┆           ┆ str       ┆ str      │\n",
       "│           ┆ f32       ┆ f32       ┆           ┆   ┆           ┆           ┆           ┆          │\n",
       "╞═══════════╪═══════════╪═══════════╪═══════════╪═══╪═══════════╪═══════════╪═══════════╪══════════╡\n",
       "│ 1,279,781 ┆ 0.00      ┆ null      ┆ 2         ┆ … ┆ 2019.0    ┆ null      ┆ a55475b1  ┆ a55475b1 │\n",
       "│ 1,265,082 ┆ 0.00      ┆ null      ┆ 1         ┆ … ┆ 2019.0    ┆ null      ┆ a55475b1  ┆ a55475b1 │\n",
       "│ 1,286,209 ┆ 0.00      ┆ null      ┆ 1         ┆ … ┆ 2019.0    ┆ null      ┆ a55475b1  ┆ a55475b1 │\n",
       "│ …         ┆ …         ┆ …         ┆ …         ┆ … ┆ …         ┆ …         ┆ …         ┆ …        │\n",
       "│ 57,633    ┆ 7,230,000 ┆ 0.00      ┆ 8         ┆ … ┆ 2021.0    ┆ 2021.0    ┆ ab3c25cf  ┆ ab3c25cf │\n",
       "│           ┆ .00       ┆           ┆           ┆   ┆           ┆           ┆           ┆          │\n",
       "│ 57,645    ┆ 0.00      ┆ 0.00      ┆ 9         ┆ … ┆ 2020.0    ┆ 2019.0    ┆ ab3c25cf  ┆ a55475b1 │\n",
       "│ 57,549    ┆ 0.00      ┆ 0.00      ┆ 9         ┆ … ┆ 2022.0    ┆ 2019.0    ┆ ab3c25cf  ┆ a55475b1 │\n",
       "└───────────┴───────────┴───────────┴───────────┴───┴───────────┴───────────┴───────────┴──────────┘"
      ]
     },
     "execution_count": 20,
     "metadata": {},
     "output_type": "execute_result"
    }
   ],
   "source": [
    "total_credit_internal_depth = preprocess(\"bureau_a_2\",\"int_depth\")\n",
    "total_credit_internal_depth"
   ]
  },
  {
   "cell_type": "code",
   "execution_count": 21,
   "id": "418ea9bd",
   "metadata": {
    "execution": {
     "iopub.execute_input": "2024-04-15T09:36:07.310165Z",
     "iopub.status.busy": "2024-04-15T09:36:07.309858Z",
     "iopub.status.idle": "2024-04-15T09:36:08.304360Z",
     "shell.execute_reply": "2024-04-15T09:36:08.303483Z"
    },
    "papermill": {
     "duration": 1.010842,
     "end_time": "2024-04-15T09:36:08.306420",
     "exception": false,
     "start_time": "2024-04-15T09:36:07.295578",
     "status": "completed"
    },
    "tags": []
   },
   "outputs": [
    {
     "data": {
      "text/html": [
       "<div><style>\n",
       ".dataframe > thead > tr,\n",
       ".dataframe > tbody > tr {\n",
       "  text-align: right;\n",
       "  white-space: pre-wrap;\n",
       "}\n",
       "</style>\n",
       "<small>shape: (36_503, 45)</small><table border=\"1\" class=\"dataframe\"><thead><tr><th>case_id</th><th>ext_shallow_amount_1115A</th><th>ext_shallow_credlmt_1052A</th><th>ext_shallow_credlmt_228A</th><th>ext_shallow_credlmt_3940954A</th><th>ext_shallow_credquantity_1099L</th><th>ext_shallow_credquantity_984L</th><th>ext_shallow_debtpastduevalue_732A</th><th>ext_shallow_debtvalue_227A</th><th>ext_shallow_dpd_550P</th><th>ext_shallow_dpd_733P</th><th>ext_shallow_dpdmax_851P</th><th>ext_shallow_installmentamount_644A</th><th>ext_shallow_installmentamount_833A</th><th>ext_shallow_instlamount_892A</th><th>ext_shallow_interesteffectiverate_369L</th><th>ext_shallow_interestrateyearly_538L</th><th>ext_shallow_maxdebtpduevalodued_3940955A</th><th>ext_shallow_num_group1</th><th>ext_shallow_numberofinstls_810L</th><th>ext_shallow_overdueamountmax_950A</th><th>ext_shallow_pmtdaysoverdue_1135P</th><th>ext_shallow_pmtnumpending_403L</th><th>ext_shallow_residualamount_1093A</th><th>ext_shallow_residualamount_127A</th><th>ext_shallow_residualamount_3940956A</th><th>ext_shallow_totalamount_503A</th><th>ext_shallow_totalamount_881A</th><th>ext_shallow_classificationofcontr_1114M</th><th>ext_shallow_contractdate_551D</th><th>ext_shallow_contractmaturitydate_151D</th><th>ext_shallow_contractst_516M</th><th>ext_shallow_contracttype_653M</th><th>ext_shallow_credor_3940957M</th><th>ext_shallow_dpdmaxdatemonth_804T</th><th>ext_shallow_dpdmaxdateyear_742T</th><th>ext_shallow_lastupdate_260D</th><th>ext_shallow_overdueamountmaxdatemonth_494T</th><th>ext_shallow_overdueamountmaxdateyear_432T</th><th>ext_shallow_periodicityofpmts_997L</th><th>ext_shallow_periodicityofpmts_997M</th><th>ext_shallow_pmtmethod_731M</th><th>ext_shallow_purposeofcred_722M</th><th>ext_shallow_subjectrole_326M</th><th>ext_shallow_subjectrole_43M</th></tr><tr><td>u32</td><td>f32</td><td>f32</td><td>f32</td><td>f32</td><td>f32</td><td>f32</td><td>f32</td><td>f32</td><td>f32</td><td>f32</td><td>f32</td><td>f32</td><td>f32</td><td>f32</td><td>f32</td><td>f32</td><td>f32</td><td>u16</td><td>f32</td><td>f32</td><td>f32</td><td>f32</td><td>f32</td><td>f32</td><td>f32</td><td>f32</td><td>f32</td><td>str</td><td>date</td><td>date</td><td>str</td><td>str</td><td>str</td><td>str</td><td>str</td><td>date</td><td>str</td><td>str</td><td>str</td><td>str</td><td>str</td><td>str</td><td>str</td><td>str</td></tr></thead><tbody><tr><td>1,575,670</td><td>17,521.80</td><td>null</td><td>137,600.00</td><td>null</td><td>1.00</td><td>4.00</td><td>0.00</td><td>6,101.06</td><td>0.00</td><td>0.00</td><td>0.00</td><td>0.00</td><td>6,101.06</td><td>6,195.00</td><td>null</td><td>35.60</td><td>0.00</td><td>1</td><td>3.00</td><td>0.00</td><td>0.00</td><td>1.00</td><td>0.00</td><td>null</td><td>null</td><td>17,521.80</td><td>502,821.81</td><td>&quot;ea6782cc&quot;</td><td>2019-07-24</td><td>2019-10-24</td><td>&quot;7241344e&quot;</td><td>&quot;a55475b1&quot;</td><td>&quot;a55475b1&quot;</td><td>&quot;8.0&quot;</td><td>&quot;2019.0&quot;</td><td>2019-10-10</td><td>&quot;8.0&quot;</td><td>&quot;2019.0&quot;</td><td>null</td><td>&quot;a0b598e4&quot;</td><td>&quot;a55475b1&quot;</td><td>&quot;a55475b1&quot;</td><td>&quot;a55475b1&quot;</td><td>&quot;ab3c25cf&quot;</td></tr><tr><td>1,777,521</td><td>null</td><td>0.00</td><td>null</td><td>0.00</td><td>1.00</td><td>1.00</td><td>0.00</td><td>null</td><td>0.00</td><td>0.00</td><td>0.00</td><td>0.00</td><td>0.00</td><td>null</td><td>null</td><td>null</td><td>0.00</td><td>0</td><td>null</td><td>0.00</td><td>0.00</td><td>null</td><td>null</td><td>0.00</td><td>0.00</td><td>0.00</td><td>9,300.20</td><td>&quot;ea6782cc&quot;</td><td>2016-07-07</td><td>2020-07-07</td><td>&quot;7241344e&quot;</td><td>&quot;1c9c5356&quot;</td><td>&quot;b619fa46&quot;</td><td>&quot;8.0&quot;</td><td>&quot;2016.0&quot;</td><td>2020-02-13</td><td>&quot;8.0&quot;</td><td>&quot;2016.0&quot;</td><td>null</td><td>&quot;a55475b1&quot;</td><td>&quot;a55475b1&quot;</td><td>&quot;60c73645&quot;</td><td>&quot;ab3c25cf&quot;</td><td>&quot;ab3c25cf&quot;</td></tr><tr><td>708,901</td><td>null</td><td>19,998.00</td><td>0.00</td><td>10,000.00</td><td>2.00</td><td>1.00</td><td>0.00</td><td>null</td><td>0.00</td><td>0.00</td><td>0.00</td><td>0.00</td><td>9,055.00</td><td>null</td><td>null</td><td>null</td><td>0.00</td><td>1</td><td>null</td><td>0.00</td><td>0.00</td><td>null</td><td>0.00</td><td>9,055.00</td><td>5,722.60</td><td>19,998.00</td><td>40,000.00</td><td>&quot;ea6782cc&quot;</td><td>2018-01-28</td><td>2020-01-28</td><td>&quot;7241344e&quot;</td><td>&quot;1c9c5356&quot;</td><td>&quot;b619fa46&quot;</td><td>&quot;8.0&quot;</td><td>&quot;2018.0&quot;</td><td>2019-06-13</td><td>&quot;8.0&quot;</td><td>&quot;2015.0&quot;</td><td>null</td><td>&quot;a55475b1&quot;</td><td>&quot;a55475b1&quot;</td><td>&quot;60c73645&quot;</td><td>&quot;a55475b1&quot;</td><td>&quot;ab3c25cf&quot;</td></tr><tr><td>&hellip;</td><td>&hellip;</td><td>&hellip;</td><td>&hellip;</td><td>&hellip;</td><td>&hellip;</td><td>&hellip;</td><td>&hellip;</td><td>&hellip;</td><td>&hellip;</td><td>&hellip;</td><td>&hellip;</td><td>&hellip;</td><td>&hellip;</td><td>&hellip;</td><td>&hellip;</td><td>&hellip;</td><td>&hellip;</td><td>&hellip;</td><td>&hellip;</td><td>&hellip;</td><td>&hellip;</td><td>&hellip;</td><td>&hellip;</td><td>&hellip;</td><td>&hellip;</td><td>&hellip;</td><td>&hellip;</td><td>&hellip;</td><td>&hellip;</td><td>&hellip;</td><td>&hellip;</td><td>&hellip;</td><td>&hellip;</td><td>&hellip;</td><td>&hellip;</td><td>&hellip;</td><td>&hellip;</td><td>&hellip;</td><td>&hellip;</td><td>&hellip;</td><td>&hellip;</td><td>&hellip;</td><td>&hellip;</td><td>&hellip;</td></tr><tr><td>57,775</td><td>3,000.00</td><td>null</td><td>null</td><td>null</td><td>null</td><td>8.00</td><td>0.00</td><td>0.00</td><td>null</td><td>0.00</td><td>17,168.00</td><td>0.00</td><td>null</td><td>0.00</td><td>30.00</td><td>2.00</td><td>1.60</td><td>6</td><td>1.00</td><td>1.60</td><td>0.00</td><td>0.00</td><td>null</td><td>null</td><td>null</td><td>null</td><td>156,400.00</td><td>&quot;a55475b1&quot;</td><td>2020-06-26</td><td>2021-02-19</td><td>&quot;7241344e&quot;</td><td>&quot;4257cbed&quot;</td><td>&quot;3e0bc39b&quot;</td><td>&quot;4.0&quot;</td><td>&quot;2019.0&quot;</td><td>2021-12-01</td><td>&quot;4.0&quot;</td><td>&quot;2019.0&quot;</td><td>null</td><td>&quot;3ecc50a0&quot;</td><td>&quot;dbcbe8f8&quot;</td><td>&quot;96a8fdfe&quot;</td><td>&quot;a55475b1&quot;</td><td>&quot;ab3c25cf&quot;</td></tr><tr><td>57,754</td><td>1,932,619.38</td><td>132,032.00</td><td>38,000.00</td><td>76,800.00</td><td>4.00</td><td>11.00</td><td>0.00</td><td>1,473,622.38</td><td>0.00</td><td>0.00</td><td>0.00</td><td>0.00</td><td>1,473,622.38</td><td>8,052.58</td><td>null</td><td>39.00</td><td>0.00</td><td>4</td><td>240.00</td><td>0.00</td><td>0.00</td><td>183.00</td><td>0.00</td><td>68,059.91</td><td>50,039.51</td><td>1,932,619.38</td><td>575,772.44</td><td>&quot;ea6782cc&quot;</td><td>2017-06-09</td><td>2022-09-16</td><td>&quot;7241344e&quot;</td><td>&quot;1c9c5356&quot;</td><td>&quot;b619fa46&quot;</td><td>&quot;11.0&quot;</td><td>&quot;2019.0&quot;</td><td>2022-06-04</td><td>&quot;11.0&quot;</td><td>&quot;2019.0&quot;</td><td>null</td><td>&quot;a55475b1&quot;</td><td>&quot;a55475b1&quot;</td><td>&quot;60c73645&quot;</td><td>&quot;a55475b1&quot;</td><td>&quot;a55475b1&quot;</td></tr><tr><td>57,675</td><td>1,488,000.00</td><td>220,598.00</td><td>10,000.00</td><td>200,598.00</td><td>2.00</td><td>19.00</td><td>0.00</td><td>1,433,179.00</td><td>0.00</td><td>0.00</td><td>37,403.00</td><td>0.00</td><td>1,433,179.00</td><td>17,030.26</td><td>null</td><td>null</td><td>0.00</td><td>2</td><td>181.00</td><td>10.60</td><td>0.00</td><td>160.00</td><td>0.00</td><td>182,816.69</td><td>165,095.89</td><td>1,488,000.00</td><td>480,262.59</td><td>&quot;ea6782cc&quot;</td><td>2020-06-01</td><td>2022-06-02</td><td>&quot;7241344e&quot;</td><td>&quot;1c9c5356&quot;</td><td>&quot;b619fa46&quot;</td><td>&quot;8.0&quot;</td><td>&quot;2019.0&quot;</td><td>2021-12-27</td><td>&quot;12.0&quot;</td><td>&quot;2019.0&quot;</td><td>null</td><td>&quot;a55475b1&quot;</td><td>&quot;a55475b1&quot;</td><td>&quot;60c73645&quot;</td><td>&quot;ab3c25cf&quot;</td><td>&quot;ab3c25cf&quot;</td></tr></tbody></table></div>"
      ],
      "text/plain": [
       "shape: (36_503, 45)\n",
       "┌───────────┬───────────┬───────────┬───────────┬───┬───────────┬───────────┬───────────┬──────────┐\n",
       "│ case_id   ┆ ext_shall ┆ ext_shall ┆ ext_shall ┆ … ┆ ext_shall ┆ ext_shall ┆ ext_shall ┆ ext_shal │\n",
       "│ ---       ┆ ow_amount ┆ ow_credlm ┆ ow_credlm ┆   ┆ ow_pmtmet ┆ ow_purpos ┆ ow_subjec ┆ low_subj │\n",
       "│ u32       ┆ _1115A    ┆ t_1052A   ┆ t_228A    ┆   ┆ hod_731M  ┆ eofcred_7 ┆ trole_326 ┆ ectrole_ │\n",
       "│           ┆ ---       ┆ ---       ┆ ---       ┆   ┆ ---       ┆ 22M       ┆ M         ┆ 43M      │\n",
       "│           ┆ f32       ┆ f32       ┆ f32       ┆   ┆ str       ┆ ---       ┆ ---       ┆ ---      │\n",
       "│           ┆           ┆           ┆           ┆   ┆           ┆ str       ┆ str       ┆ str      │\n",
       "╞═══════════╪═══════════╪═══════════╪═══════════╪═══╪═══════════╪═══════════╪═══════════╪══════════╡\n",
       "│ 1,575,670 ┆ 17,521.80 ┆ null      ┆ 137,600.0 ┆ … ┆ a55475b1  ┆ a55475b1  ┆ a55475b1  ┆ ab3c25cf │\n",
       "│           ┆           ┆           ┆ 0         ┆   ┆           ┆           ┆           ┆          │\n",
       "│ 1,777,521 ┆ null      ┆ 0.00      ┆ null      ┆ … ┆ a55475b1  ┆ 60c73645  ┆ ab3c25cf  ┆ ab3c25cf │\n",
       "│ 708,901   ┆ null      ┆ 19,998.00 ┆ 0.00      ┆ … ┆ a55475b1  ┆ 60c73645  ┆ a55475b1  ┆ ab3c25cf │\n",
       "│ …         ┆ …         ┆ …         ┆ …         ┆ … ┆ …         ┆ …         ┆ …         ┆ …        │\n",
       "│ 57,775    ┆ 3,000.00  ┆ null      ┆ null      ┆ … ┆ dbcbe8f8  ┆ 96a8fdfe  ┆ a55475b1  ┆ ab3c25cf │\n",
       "│ 57,754    ┆ 1,932,619 ┆ 132,032.0 ┆ 38,000.00 ┆ … ┆ a55475b1  ┆ 60c73645  ┆ a55475b1  ┆ a55475b1 │\n",
       "│           ┆ .38       ┆ 0         ┆           ┆   ┆           ┆           ┆           ┆          │\n",
       "│ 57,675    ┆ 1,488,000 ┆ 220,598.0 ┆ 10,000.00 ┆ … ┆ a55475b1  ┆ 60c73645  ┆ ab3c25cf  ┆ ab3c25cf │\n",
       "│           ┆ .00       ┆ 0         ┆           ┆   ┆           ┆           ┆           ┆          │\n",
       "└───────────┴───────────┴───────────┴───────────┴───┴───────────┴───────────┴───────────┴──────────┘"
      ]
     },
     "execution_count": 21,
     "metadata": {},
     "output_type": "execute_result"
    }
   ],
   "source": [
    "total_credit_external_shallow = preprocess(\"bureau_b_1\",\"ext_shallow\")\n",
    "total_credit_external_shallow"
   ]
  },
  {
   "cell_type": "code",
   "execution_count": 22,
   "id": "9b669d09",
   "metadata": {
    "execution": {
     "iopub.execute_input": "2024-04-15T09:36:08.336386Z",
     "iopub.status.busy": "2024-04-15T09:36:08.336064Z",
     "iopub.status.idle": "2024-04-15T09:36:08.908514Z",
     "shell.execute_reply": "2024-04-15T09:36:08.907579Z"
    },
    "papermill": {
     "duration": 0.590028,
     "end_time": "2024-04-15T09:36:08.910578",
     "exception": false,
     "start_time": "2024-04-15T09:36:08.320550",
     "status": "completed"
    },
    "tags": []
   },
   "outputs": [
    {
     "data": {
      "text/html": [
       "<div><style>\n",
       ".dataframe > thead > tr,\n",
       ".dataframe > tbody > tr {\n",
       "  text-align: right;\n",
       "  white-space: pre-wrap;\n",
       "}\n",
       "</style>\n",
       "<small>shape: (36_448, 6)</small><table border=\"1\" class=\"dataframe\"><thead><tr><th>case_id</th><th>ext_depth_num_group1</th><th>ext_depth_num_group2</th><th>ext_depth_pmts_dpdvalue_108P</th><th>ext_depth_pmts_pmtsoverdue_635A</th><th>ext_depth_pmts_date_1107D</th></tr><tr><td>u32</td><td>u16</td><td>u16</td><td>f32</td><td>f32</td><td>date</td></tr></thead><tbody><tr><td>1,583,518</td><td>2</td><td>36</td><td>0.00</td><td>0.00</td><td>2019-03-15</td></tr><tr><td>1,791,764</td><td>2</td><td>18</td><td>144.00</td><td>1.20</td><td>2020-01-15</td></tr><tr><td>121,905</td><td>0</td><td>4</td><td>0.00</td><td>0.00</td><td>2019-03-15</td></tr><tr><td>&hellip;</td><td>&hellip;</td><td>&hellip;</td><td>&hellip;</td><td>&hellip;</td><td>&hellip;</td></tr><tr><td>752,768</td><td>0</td><td>4</td><td>0.00</td><td>0.00</td><td>2019-03-15</td></tr><tr><td>257,663</td><td>1</td><td>18</td><td>88.00</td><td>4.60</td><td>2019-07-15</td></tr><tr><td>57,675</td><td>0</td><td>9</td><td>0.00</td><td>0.00</td><td>2020-09-13</td></tr></tbody></table></div>"
      ],
      "text/plain": [
       "shape: (36_448, 6)\n",
       "┌───────────┬─────────────────┬─────────────────┬────────────────┬────────────────┬────────────────┐\n",
       "│ case_id   ┆ ext_depth_num_g ┆ ext_depth_num_g ┆ ext_depth_pmts ┆ ext_depth_pmts ┆ ext_depth_pmts │\n",
       "│ ---       ┆ roup1           ┆ roup2           ┆ _dpdvalue_108P ┆ _pmtsoverdue_6 ┆ _date_1107D    │\n",
       "│ u32       ┆ ---             ┆ ---             ┆ ---            ┆ 35A            ┆ ---            │\n",
       "│           ┆ u16             ┆ u16             ┆ f32            ┆ ---            ┆ date           │\n",
       "│           ┆                 ┆                 ┆                ┆ f32            ┆                │\n",
       "╞═══════════╪═════════════════╪═════════════════╪════════════════╪════════════════╪════════════════╡\n",
       "│ 1,583,518 ┆ 2               ┆ 36              ┆ 0.00           ┆ 0.00           ┆ 2019-03-15     │\n",
       "│ 1,791,764 ┆ 2               ┆ 18              ┆ 144.00         ┆ 1.20           ┆ 2020-01-15     │\n",
       "│ 121,905   ┆ 0               ┆ 4               ┆ 0.00           ┆ 0.00           ┆ 2019-03-15     │\n",
       "│ …         ┆ …               ┆ …               ┆ …              ┆ …              ┆ …              │\n",
       "│ 752,768   ┆ 0               ┆ 4               ┆ 0.00           ┆ 0.00           ┆ 2019-03-15     │\n",
       "│ 257,663   ┆ 1               ┆ 18              ┆ 88.00          ┆ 4.60           ┆ 2019-07-15     │\n",
       "│ 57,675    ┆ 0               ┆ 9               ┆ 0.00           ┆ 0.00           ┆ 2020-09-13     │\n",
       "└───────────┴─────────────────┴─────────────────┴────────────────┴────────────────┴────────────────┘"
      ]
     },
     "execution_count": 22,
     "metadata": {},
     "output_type": "execute_result"
    }
   ],
   "source": [
    "total_credit_external_depth = preprocess(\"bureau_b_2\",\"ext_depth\")\n",
    "total_credit_external_depth"
   ]
  },
  {
   "cell_type": "code",
   "execution_count": 23,
   "id": "948df1ae",
   "metadata": {
    "execution": {
     "iopub.execute_input": "2024-04-15T09:36:08.940493Z",
     "iopub.status.busy": "2024-04-15T09:36:08.940195Z",
     "iopub.status.idle": "2024-04-15T09:36:11.884752Z",
     "shell.execute_reply": "2024-04-15T09:36:11.883789Z"
    },
    "papermill": {
     "duration": 2.961851,
     "end_time": "2024-04-15T09:36:11.886993",
     "exception": false,
     "start_time": "2024-04-15T09:36:08.925142",
     "status": "completed"
    },
    "tags": []
   },
   "outputs": [
    {
     "data": {
      "text/html": [
       "<div><style>\n",
       ".dataframe > thead > tr,\n",
       ".dataframe > tbody > tr {\n",
       "  text-align: right;\n",
       "  white-space: pre-wrap;\n",
       "}\n",
       "</style>\n",
       "<small>shape: (457_936, 5)</small><table border=\"1\" class=\"dataframe\"><thead><tr><th>case_id</th><th>reg_a_amount_4527230A</th><th>reg_a_num_group1</th><th>reg_a_name_4527232M</th><th>reg_a_recorddate_4527225D</th></tr><tr><td>u32</td><td>f32</td><td>u16</td><td>str</td><td>date</td></tr></thead><tbody><tr><td>816,697</td><td>4,999.80</td><td>11</td><td>&quot;7864e164&quot;</td><td>2019-10-13</td></tr><tr><td>1,743,547</td><td>1,641.00</td><td>4</td><td>&quot;6edf048a&quot;</td><td>2020-01-25</td></tr><tr><td>2,665,568</td><td>3,084.20</td><td>5</td><td>&quot;4943b9d1&quot;</td><td>2020-02-24</td></tr><tr><td>&hellip;</td><td>&hellip;</td><td>&hellip;</td><td>&hellip;</td><td>&hellip;</td></tr><tr><td>2,674,088</td><td>4,454.80</td><td>5</td><td>&quot;4875f0a6&quot;</td><td>2020-03-20</td></tr><tr><td>57,754</td><td>3,807.80</td><td>7</td><td>&quot;cc68a90a&quot;</td><td>2022-06-16</td></tr><tr><td>57,675</td><td>5,061.80</td><td>5</td><td>&quot;ff9eb829&quot;</td><td>2022-01-07</td></tr></tbody></table></div>"
      ],
      "text/plain": [
       "shape: (457_936, 5)\n",
       "┌───────────┬──────────────────────┬──────────────────┬─────────────────────┬──────────────────────┐\n",
       "│ case_id   ┆ reg_a_amount_4527230 ┆ reg_a_num_group1 ┆ reg_a_name_4527232M ┆ reg_a_recorddate_452 │\n",
       "│ ---       ┆ A                    ┆ ---              ┆ ---                 ┆ 7225D                │\n",
       "│ u32       ┆ ---                  ┆ u16              ┆ str                 ┆ ---                  │\n",
       "│           ┆ f32                  ┆                  ┆                     ┆ date                 │\n",
       "╞═══════════╪══════════════════════╪══════════════════╪═════════════════════╪══════════════════════╡\n",
       "│ 816,697   ┆ 4,999.80             ┆ 11               ┆ 7864e164            ┆ 2019-10-13           │\n",
       "│ 1,743,547 ┆ 1,641.00             ┆ 4                ┆ 6edf048a            ┆ 2020-01-25           │\n",
       "│ 2,665,568 ┆ 3,084.20             ┆ 5                ┆ 4943b9d1            ┆ 2020-02-24           │\n",
       "│ …         ┆ …                    ┆ …                ┆ …                   ┆ …                    │\n",
       "│ 2,674,088 ┆ 4,454.80             ┆ 5                ┆ 4875f0a6            ┆ 2020-03-20           │\n",
       "│ 57,754    ┆ 3,807.80             ┆ 7                ┆ cc68a90a            ┆ 2022-06-16           │\n",
       "│ 57,675    ┆ 5,061.80             ┆ 5                ┆ ff9eb829            ┆ 2022-01-07           │\n",
       "└───────────┴──────────────────────┴──────────────────┴─────────────────────┴──────────────────────┘"
      ]
     },
     "execution_count": 23,
     "metadata": {},
     "output_type": "execute_result"
    }
   ],
   "source": [
    "total_registry_a = preprocess(\"registry_a\",\"reg_a\")\n",
    "total_registry_a"
   ]
  },
  {
   "cell_type": "code",
   "execution_count": 24,
   "id": "a2bb8508",
   "metadata": {
    "execution": {
     "iopub.execute_input": "2024-04-15T09:36:11.916900Z",
     "iopub.status.busy": "2024-04-15T09:36:11.916561Z",
     "iopub.status.idle": "2024-04-15T09:36:12.874712Z",
     "shell.execute_reply": "2024-04-15T09:36:12.873781Z"
    },
    "papermill": {
     "duration": 0.975209,
     "end_time": "2024-04-15T09:36:12.876693",
     "exception": false,
     "start_time": "2024-04-15T09:36:11.901484",
     "status": "completed"
    },
    "tags": []
   },
   "outputs": [
    {
     "data": {
      "text/html": [
       "<div><style>\n",
       ".dataframe > thead > tr,\n",
       ".dataframe > tbody > tr {\n",
       "  text-align: right;\n",
       "  white-space: pre-wrap;\n",
       "}\n",
       "</style>\n",
       "<small>shape: (150_734, 5)</small><table border=\"1\" class=\"dataframe\"><thead><tr><th>case_id</th><th>reg_b_amount_4917619A</th><th>reg_b_num_group1</th><th>reg_b_deductiondate_4917603D</th><th>reg_b_name_4917606M</th></tr><tr><td>u32</td><td>f32</td><td>u16</td><td>date</td><td>str</td></tr></thead><tbody><tr><td>246,627</td><td>84,875.00</td><td>17</td><td>2020-03-31</td><td>&quot;cda1fd10&quot;</td></tr><tr><td>1,880,368</td><td>47,744.60</td><td>10</td><td>2020-04-14</td><td>&quot;ac223a58&quot;</td></tr><tr><td>991,029</td><td>62,202.60</td><td>9</td><td>2020-01-03</td><td>&quot;e751f256&quot;</td></tr><tr><td>&hellip;</td><td>&hellip;</td><td>&hellip;</td><td>&hellip;</td><td>&hellip;</td></tr><tr><td>1,900,967</td><td>644.20</td><td>1</td><td>2020-08-05</td><td>&quot;5e180ef0&quot;</td></tr><tr><td>57,543</td><td>27,191.80</td><td>5</td><td>2021-02-03</td><td>&quot;787c689d&quot;</td></tr><tr><td>57,551</td><td>14,644.80</td><td>6</td><td>2020-07-30</td><td>&quot;d580dfef&quot;</td></tr></tbody></table></div>"
      ],
      "text/plain": [
       "shape: (150_734, 5)\n",
       "┌───────────┬──────────────────────┬──────────────────┬──────────────────────┬─────────────────────┐\n",
       "│ case_id   ┆ reg_b_amount_4917619 ┆ reg_b_num_group1 ┆ reg_b_deductiondate_ ┆ reg_b_name_4917606M │\n",
       "│ ---       ┆ A                    ┆ ---              ┆ 4917603D             ┆ ---                 │\n",
       "│ u32       ┆ ---                  ┆ u16              ┆ ---                  ┆ str                 │\n",
       "│           ┆ f32                  ┆                  ┆ date                 ┆                     │\n",
       "╞═══════════╪══════════════════════╪══════════════════╪══════════════════════╪═════════════════════╡\n",
       "│ 246,627   ┆ 84,875.00            ┆ 17               ┆ 2020-03-31           ┆ cda1fd10            │\n",
       "│ 1,880,368 ┆ 47,744.60            ┆ 10               ┆ 2020-04-14           ┆ ac223a58            │\n",
       "│ 991,029   ┆ 62,202.60            ┆ 9                ┆ 2020-01-03           ┆ e751f256            │\n",
       "│ …         ┆ …                    ┆ …                ┆ …                    ┆ …                   │\n",
       "│ 1,900,967 ┆ 644.20               ┆ 1                ┆ 2020-08-05           ┆ 5e180ef0            │\n",
       "│ 57,543    ┆ 27,191.80            ┆ 5                ┆ 2021-02-03           ┆ 787c689d            │\n",
       "│ 57,551    ┆ 14,644.80            ┆ 6                ┆ 2020-07-30           ┆ d580dfef            │\n",
       "└───────────┴──────────────────────┴──────────────────┴──────────────────────┴─────────────────────┘"
      ]
     },
     "execution_count": 24,
     "metadata": {},
     "output_type": "execute_result"
    }
   ],
   "source": [
    "total_registry_b = preprocess(\"registry_b\",\"reg_b\")\n",
    "total_registry_b"
   ]
  },
  {
   "cell_type": "code",
   "execution_count": 25,
   "id": "a7b6b7bb",
   "metadata": {
    "execution": {
     "iopub.execute_input": "2024-04-15T09:36:12.906809Z",
     "iopub.status.busy": "2024-04-15T09:36:12.906508Z",
     "iopub.status.idle": "2024-04-15T09:36:16.068019Z",
     "shell.execute_reply": "2024-04-15T09:36:16.066978Z"
    },
    "papermill": {
     "duration": 3.178916,
     "end_time": "2024-04-15T09:36:16.070106",
     "exception": false,
     "start_time": "2024-04-15T09:36:12.891190",
     "status": "completed"
    },
    "tags": []
   },
   "outputs": [
    {
     "data": {
      "text/html": [
       "<div><style>\n",
       ".dataframe > thead > tr,\n",
       ".dataframe > tbody > tr {\n",
       "  text-align: right;\n",
       "  white-space: pre-wrap;\n",
       "}\n",
       "</style>\n",
       "<small>shape: (482_265, 5)</small><table border=\"1\" class=\"dataframe\"><thead><tr><th>case_id</th><th>reg_c_num_group1</th><th>reg_c_pmtamount_36A</th><th>reg_c_employername_160M</th><th>reg_c_processingdate_168D</th></tr><tr><td>u32</td><td>u16</td><td>f32</td><td>str</td><td>date</td></tr></thead><tbody><tr><td>611,514</td><td>4</td><td>5,378.60</td><td>&quot;a754a3ed&quot;</td><td>2018-10-11</td></tr><tr><td>1,250,309</td><td>4</td><td>3,870.00</td><td>&quot;4121018a&quot;</td><td>2019-01-03</td></tr><tr><td>729,239</td><td>4</td><td>2,364.20</td><td>&quot;a59d2703&quot;</td><td>2019-01-25</td></tr><tr><td>&hellip;</td><td>&hellip;</td><td>&hellip;</td><td>&hellip;</td><td>&hellip;</td></tr><tr><td>2,568,954</td><td>5</td><td>3,068.36</td><td>&quot;70bcf308&quot;</td><td>2019-04-12</td></tr><tr><td>1,388,243</td><td>9</td><td>157.60</td><td>&quot;f6dc2cd2&quot;</td><td>2019-04-22</td></tr><tr><td>163,506</td><td>10</td><td>1,114.00</td><td>&quot;d5d9440f&quot;</td><td>2019-10-15</td></tr></tbody></table></div>"
      ],
      "text/plain": [
       "shape: (482_265, 5)\n",
       "┌───────────┬──────────────────┬─────────────────────┬──────────────────────┬──────────────────────┐\n",
       "│ case_id   ┆ reg_c_num_group1 ┆ reg_c_pmtamount_36A ┆ reg_c_employername_1 ┆ reg_c_processingdate │\n",
       "│ ---       ┆ ---              ┆ ---                 ┆ 60M                  ┆ _168D                │\n",
       "│ u32       ┆ u16              ┆ f32                 ┆ ---                  ┆ ---                  │\n",
       "│           ┆                  ┆                     ┆ str                  ┆ date                 │\n",
       "╞═══════════╪══════════════════╪═════════════════════╪══════════════════════╪══════════════════════╡\n",
       "│ 611,514   ┆ 4                ┆ 5,378.60            ┆ a754a3ed             ┆ 2018-10-11           │\n",
       "│ 1,250,309 ┆ 4                ┆ 3,870.00            ┆ 4121018a             ┆ 2019-01-03           │\n",
       "│ 729,239   ┆ 4                ┆ 2,364.20            ┆ a59d2703             ┆ 2019-01-25           │\n",
       "│ …         ┆ …                ┆ …                   ┆ …                    ┆ …                    │\n",
       "│ 2,568,954 ┆ 5                ┆ 3,068.36            ┆ 70bcf308             ┆ 2019-04-12           │\n",
       "│ 1,388,243 ┆ 9                ┆ 157.60              ┆ f6dc2cd2             ┆ 2019-04-22           │\n",
       "│ 163,506   ┆ 10               ┆ 1,114.00            ┆ d5d9440f             ┆ 2019-10-15           │\n",
       "└───────────┴──────────────────┴─────────────────────┴──────────────────────┴──────────────────────┘"
      ]
     },
     "execution_count": 25,
     "metadata": {},
     "output_type": "execute_result"
    }
   ],
   "source": [
    "total_registry_c = preprocess(\"registry_c\",\"reg_c\")\n",
    "total_registry_c"
   ]
  },
  {
   "cell_type": "code",
   "execution_count": 26,
   "id": "ca840111",
   "metadata": {
    "_kg_hide-input": true,
    "execution": {
     "iopub.execute_input": "2024-04-15T09:36:16.101017Z",
     "iopub.status.busy": "2024-04-15T09:36:16.100459Z",
     "iopub.status.idle": "2024-04-15T09:36:16.107125Z",
     "shell.execute_reply": "2024-04-15T09:36:16.106281Z"
    },
    "papermill": {
     "duration": 0.024143,
     "end_time": "2024-04-15T09:36:16.109096",
     "exception": false,
     "start_time": "2024-04-15T09:36:16.084953",
     "status": "completed"
    },
    "tags": []
   },
   "outputs": [],
   "source": [
    "# drop_columns = ['Date','800L','845L','801D','725L','4525192L','507T','5251769M','3546852L','4499204L','2T','994T','608L','727P','4493213L','828A','1059P','4499208L','867L','562L','440L','int_shallow_num_group1','411L','896T','973L','4525197P','4493211L','4499205L','628L','1084L','829L','859L','817L','4493216L','57A','4493210L','103L','533L','392P','216L','766L','1102L','934L','647L','657L','414L','3546850L','4493214L','718A','925L','279L','545M','3545846M','755M','1023L','838M','474P','182M','344P','person_shallow_num_group1','669M','338L','887L','893M','93M','25L','3813885D','1087L','943P','351M','88M','946L','3712952L','750L','927M','1086L','915L','426M','541M','1022L','360L','668A','629L','354A','1071L','622L','493L','783L','3712949L','304L','13M','1143L','3546845L','520L','464L','1130L','834L','3712950L','4145042M','334L','318L','479L','31A','359M','257L','157L','658L','100L','298M','706T','158T','109L','407M','519L','361L','1072L','926M','166L','114M','792L','1032L']\n",
    "drop_columns = [\n",
    "    \"int_shallow_subjectrole_182M\",\n",
    "    \"int_shallow_subjectrole_93M\",\n",
    "    \"person_depth_empls_employer_name_740M\",\n",
    "    \"person_shallow_contaddr_matchlist_1032L\",\n",
    "    \"person_shallow_remitter_829L\",\n",
    "    \"static_base_applicationcnt_361L\",\n",
    "    \"static_base_bankacctype_710L\",\n",
    "    \"static_base_commnoinclast6m_3546845L\",\n",
    "    \"static_base_deferredmnthsnum_166L\",\n",
    "    \"static_base_isdebitcard_729L\",\n",
    "    \"static_base_mastercontrelectronic_519L\",\n",
    "    \"static_base_mastercontrexist_109L\",\n",
    "    \"static_base_paytype1st_925L\",\n",
    "    \"static_base_paytype_783L\",\n",
    "    \"static_base_typesuite_864L\",\n",
    "    \"past_depth_cacccardblochreas_147M\",\n",
    "    \"past_depth_cacccardblochreas_147M\",\n",
    "    \"int_shallow_financialinstitution_591M\",\n",
    "    \"person_depth_empls_economicalst_849M\",\n",
    "    \"static_external_assignmentdate_4527235D\",\n",
    "    \"int_shallow_purposeofcred_426M\",\n",
    "    \"deposit_shallow_num_group1\",\n",
    "    \"static_base_cardtype_51L\",\n",
    "    \"reg_a_recorddate_4527225D\",\n",
    "    \"static_external_responsedate_4527233D\",\n",
    "    \"int_shallow_numberofoverdueinstls_834L\",\n",
    "    \"int_shallow_numberofoutstandinstls_520L\",\n",
    "    \"person_shallow_housetype_905L\",\n",
    "    \"person_depth_conts_role_79M\",\n",
    "    \"static_base_clientscnt_493L\",\n",
    "    \"card_shallow_num_group1\",\n",
    "    \"static_external_responsedate_4917613D\",\n",
    "    \"static_base_lastrejectcommodtypec_5251769M\",\n",
    "    \"static_base_clientscnt_257L\"\n",
    "]"
   ]
  },
  {
   "cell_type": "code",
   "execution_count": 27,
   "id": "ef8aebb7",
   "metadata": {
    "execution": {
     "iopub.execute_input": "2024-04-15T09:36:16.139186Z",
     "iopub.status.busy": "2024-04-15T09:36:16.138888Z",
     "iopub.status.idle": "2024-04-15T09:36:31.405668Z",
     "shell.execute_reply": "2024-04-15T09:36:31.404740Z"
    },
    "papermill": {
     "duration": 15.284553,
     "end_time": "2024-04-15T09:36:31.408025",
     "exception": false,
     "start_time": "2024-04-15T09:36:16.123472",
     "status": "completed"
    },
    "tags": []
   },
   "outputs": [
    {
     "data": {
      "text/html": [
       "<div><style>\n",
       ".dataframe > thead > tr,\n",
       ".dataframe > tbody > tr {\n",
       "  text-align: right;\n",
       "  white-space: pre-wrap;\n",
       "}\n",
       "</style>\n",
       "<small>shape: (1_526_669, 320)</small><table border=\"1\" class=\"dataframe\"><thead><tr><th>case_id_base</th><th>Date</th><th>month</th><th>week</th><th>weekday</th><th>year</th><th>past_shallow_actualdpd_943P</th><th>past_shallow_annuity_853A</th><th>past_shallow_byoccupationinc_3656910L</th><th>past_shallow_childnum_21L</th><th>past_shallow_credacc_actualbalance_314A</th><th>past_shallow_credacc_credlmt_575A</th><th>past_shallow_credacc_maxhisbal_375A</th><th>past_shallow_credacc_minhisbal_90A</th><th>past_shallow_credacc_transactions_402L</th><th>past_shallow_credamount_590A</th><th>past_shallow_currdebt_94A</th><th>past_shallow_downpmt_134A</th><th>past_shallow_mainoccupationinc_437A</th><th>past_shallow_maxdpdtolerance_577P</th><th>past_shallow_num_group1</th><th>past_shallow_outstandingdebt_522A</th><th>past_shallow_pmtnum_8L</th><th>past_shallow_revolvingaccount_394A</th><th>past_shallow_tenor_203L</th><th>past_shallow_approvaldate_319D</th><th>past_shallow_cancelreason_3545846M</th><th>past_shallow_creationdate_885D</th><th>past_shallow_credacc_status_367L</th><th>past_shallow_credtype_587L</th><th>past_shallow_dateactivated_425D</th><th>past_shallow_dtlastpmt_581D</th><th>past_shallow_dtlastpmtallstes_3545839D</th><th>past_shallow_education_1138M</th><th>past_shallow_employedfrom_700D</th><th>past_shallow_familystate_726L</th><th>past_shallow_firstnonzeroinstldate_307D</th><th>&hellip;</th><th>int_shallow_totaloutstanddebtvalue_668A</th><th>int_shallow_classificationofcontr_13M</th><th>int_shallow_classificationofcontr_400M</th><th>int_shallow_contractst_545M</th><th>int_shallow_contractst_964M</th><th>int_shallow_dateofcredend_289D</th><th>int_shallow_dateofcredend_353D</th><th>int_shallow_dateofcredstart_181D</th><th>int_shallow_dateofcredstart_739D</th><th>int_shallow_dateofrealrepmt_138D</th><th>int_shallow_description_351M</th><th>int_shallow_dpdmaxdatemonth_442T</th><th>int_shallow_dpdmaxdatemonth_89T</th><th>int_shallow_dpdmaxdateyear_596T</th><th>int_shallow_dpdmaxdateyear_896T</th><th>int_shallow_financialinstitution_382M</th><th>int_shallow_lastupdate_1112D</th><th>int_shallow_lastupdate_388D</th><th>int_shallow_numberofoverdueinstlmaxdat_148D</th><th>int_shallow_numberofoverdueinstlmaxdat_641D</th><th>int_shallow_overdueamountmax2date_1002D</th><th>int_shallow_overdueamountmax2date_1142D</th><th>int_shallow_overdueamountmaxdatemonth_284T</th><th>int_shallow_overdueamountmaxdatemonth_365T</th><th>int_shallow_overdueamountmaxdateyear_2T</th><th>int_shallow_overdueamountmaxdateyear_994T</th><th>int_shallow_purposeofcred_874M</th><th>int_shallow_refreshdate_3813885D</th><th>reg_a_amount_4527230A</th><th>reg_a_num_group1</th><th>reg_b_amount_4917619A</th><th>reg_b_num_group1</th><th>reg_b_deductiondate_4917603D</th><th>reg_c_num_group1</th><th>reg_c_pmtamount_36A</th><th>reg_c_processingdate_168D</th><th>target</th></tr><tr><td>u32</td><td>f64</td><td>f64</td><td>f64</td><td>f64</td><td>f64</td><td>f32</td><td>f32</td><td>f32</td><td>f32</td><td>f32</td><td>f32</td><td>f32</td><td>f32</td><td>f32</td><td>f32</td><td>f32</td><td>f32</td><td>f32</td><td>f32</td><td>f64</td><td>f32</td><td>f32</td><td>f32</td><td>f32</td><td>f64</td><td>f64</td><td>f64</td><td>f64</td><td>f64</td><td>f64</td><td>f64</td><td>f64</td><td>f64</td><td>f64</td><td>f64</td><td>f64</td><td>&hellip;</td><td>f32</td><td>f64</td><td>f64</td><td>f64</td><td>f64</td><td>f64</td><td>f64</td><td>f64</td><td>f64</td><td>f64</td><td>f64</td><td>f64</td><td>f64</td><td>f64</td><td>f64</td><td>f64</td><td>f64</td><td>f64</td><td>f64</td><td>f64</td><td>f64</td><td>f64</td><td>f64</td><td>f64</td><td>f64</td><td>f64</td><td>f64</td><td>f64</td><td>f32</td><td>f64</td><td>f32</td><td>f64</td><td>f64</td><td>f64</td><td>f32</td><td>f64</td><td>u8</td></tr></thead><tbody><tr><td>0</td><td>NaN</td><td>0.00</td><td>0.00</td><td>0.50</td><td>0.00</td><td>0.00</td><td>0.00</td><td>0.00</td><td>0.00</td><td>0.00</td><td>0.00</td><td>0.00</td><td>0.00</td><td>0.00</td><td>0.00</td><td>0.00</td><td>0.00</td><td>0.00</td><td>0.00</td><td>0.21</td><td>0.00</td><td>0.00</td><td>0.00</td><td>0.00</td><td>0.79</td><td>0.00</td><td>0.79</td><td>0.20</td><td>0.50</td><td>0.79</td><td>0.89</td><td>0.92</td><td>0.20</td><td>0.83</td><td>0.25</td><td>0.77</td><td>&hellip;</td><td>0.00</td><td>0.00</td><td>0.00</td><td>0.00</td><td>0.00</td><td>0.18</td><td>0.59</td><td>0.75</td><td>0.90</td><td>0.59</td><td>0.00</td><td>0.00</td><td>0.18</td><td>0.29</td><td>0.06</td><td>0.00</td><td>0.98</td><td>0.78</td><td>0.71</td><td>0.88</td><td>0.70</td><td>0.88</td><td>0.64</td><td>0.73</td><td>0.29</td><td>0.06</td><td>0.00</td><td>0.99</td><td>0.00</td><td>0.06</td><td>0.00</td><td>0.06</td><td>0.56</td><td>0.04</td><td>0.00</td><td>0.60</td><td>0</td></tr><tr><td>1</td><td>NaN</td><td>0.00</td><td>0.00</td><td>0.50</td><td>0.00</td><td>0.00</td><td>0.00</td><td>0.00</td><td>0.00</td><td>0.00</td><td>0.00</td><td>0.00</td><td>0.00</td><td>0.00</td><td>0.00</td><td>0.00</td><td>0.00</td><td>0.00</td><td>0.00</td><td>0.21</td><td>0.00</td><td>0.00</td><td>0.00</td><td>0.00</td><td>0.79</td><td>0.00</td><td>0.79</td><td>0.20</td><td>0.50</td><td>0.79</td><td>0.89</td><td>0.92</td><td>0.20</td><td>0.83</td><td>0.25</td><td>0.77</td><td>&hellip;</td><td>0.00</td><td>0.00</td><td>0.00</td><td>0.00</td><td>0.00</td><td>0.18</td><td>0.59</td><td>0.75</td><td>0.90</td><td>0.59</td><td>0.00</td><td>0.00</td><td>0.18</td><td>0.29</td><td>0.06</td><td>0.00</td><td>0.98</td><td>0.78</td><td>0.71</td><td>0.88</td><td>0.70</td><td>0.88</td><td>0.64</td><td>0.73</td><td>0.29</td><td>0.06</td><td>0.00</td><td>0.99</td><td>0.00</td><td>0.06</td><td>0.00</td><td>0.06</td><td>0.56</td><td>0.04</td><td>0.00</td><td>0.60</td><td>0</td></tr><tr><td>2</td><td>NaN</td><td>0.00</td><td>0.00</td><td>0.67</td><td>0.00</td><td>-0.01</td><td>-1.08</td><td>0.00</td><td>-1.12</td><td>0.00</td><td>-0.45</td><td>0.00</td><td>0.00</td><td>0.00</td><td>-1.06</td><td>0.00</td><td>-0.35</td><td>-1.58</td><td>0.00</td><td>0.05</td><td>0.00</td><td>0.08</td><td>0.00</td><td>0.08</td><td>0.79</td><td>0.00</td><td>0.61</td><td>0.20</td><td>0.00</td><td>0.79</td><td>0.89</td><td>0.92</td><td>0.00</td><td>0.85</td><td>0.00</td><td>0.61</td><td>&hellip;</td><td>0.00</td><td>0.00</td><td>0.00</td><td>0.00</td><td>0.00</td><td>0.18</td><td>0.59</td><td>0.75</td><td>0.90</td><td>0.59</td><td>0.00</td><td>0.00</td><td>0.18</td><td>0.29</td><td>0.06</td><td>0.00</td><td>0.98</td><td>0.78</td><td>0.71</td><td>0.88</td><td>0.70</td><td>0.88</td><td>0.64</td><td>0.73</td><td>0.29</td><td>0.06</td><td>0.00</td><td>0.99</td><td>0.00</td><td>0.06</td><td>0.00</td><td>0.06</td><td>0.56</td><td>0.04</td><td>0.00</td><td>0.60</td><td>0</td></tr><tr><td>&hellip;</td><td>&hellip;</td><td>&hellip;</td><td>&hellip;</td><td>&hellip;</td><td>&hellip;</td><td>&hellip;</td><td>&hellip;</td><td>&hellip;</td><td>&hellip;</td><td>&hellip;</td><td>&hellip;</td><td>&hellip;</td><td>&hellip;</td><td>&hellip;</td><td>&hellip;</td><td>&hellip;</td><td>&hellip;</td><td>&hellip;</td><td>&hellip;</td><td>&hellip;</td><td>&hellip;</td><td>&hellip;</td><td>&hellip;</td><td>&hellip;</td><td>&hellip;</td><td>&hellip;</td><td>&hellip;</td><td>&hellip;</td><td>&hellip;</td><td>&hellip;</td><td>&hellip;</td><td>&hellip;</td><td>&hellip;</td><td>&hellip;</td><td>&hellip;</td><td>&hellip;</td><td>&hellip;</td><td>&hellip;</td><td>&hellip;</td><td>&hellip;</td><td>&hellip;</td><td>&hellip;</td><td>&hellip;</td><td>&hellip;</td><td>&hellip;</td><td>&hellip;</td><td>&hellip;</td><td>&hellip;</td><td>&hellip;</td><td>&hellip;</td><td>&hellip;</td><td>&hellip;</td><td>&hellip;</td><td>&hellip;</td><td>&hellip;</td><td>&hellip;</td><td>&hellip;</td><td>&hellip;</td><td>&hellip;</td><td>&hellip;</td><td>&hellip;</td><td>&hellip;</td><td>&hellip;</td><td>&hellip;</td><td>&hellip;</td><td>&hellip;</td><td>&hellip;</td><td>&hellip;</td><td>&hellip;</td><td>&hellip;</td><td>&hellip;</td><td>&hellip;</td><td>&hellip;</td><td>&hellip;</td></tr><tr><td>57,632</td><td>NaN</td><td>0.09</td><td>0.08</td><td>0.83</td><td>1.00</td><td>0.00</td><td>0.00</td><td>0.00</td><td>0.00</td><td>0.00</td><td>0.00</td><td>0.00</td><td>0.00</td><td>0.00</td><td>0.00</td><td>0.00</td><td>0.00</td><td>0.00</td><td>0.00</td><td>0.21</td><td>0.00</td><td>0.00</td><td>0.00</td><td>0.00</td><td>0.79</td><td>0.00</td><td>0.79</td><td>0.20</td><td>0.50</td><td>0.79</td><td>0.89</td><td>0.92</td><td>0.20</td><td>0.83</td><td>0.25</td><td>0.77</td><td>&hellip;</td><td>0.00</td><td>0.00</td><td>0.00</td><td>0.00</td><td>0.00</td><td>0.18</td><td>0.59</td><td>0.75</td><td>0.90</td><td>0.59</td><td>0.00</td><td>0.00</td><td>0.18</td><td>0.29</td><td>0.06</td><td>0.00</td><td>0.98</td><td>0.78</td><td>0.71</td><td>0.88</td><td>0.70</td><td>0.88</td><td>0.64</td><td>0.73</td><td>0.29</td><td>0.06</td><td>0.00</td><td>0.99</td><td>0.00</td><td>0.06</td><td>0.00</td><td>0.06</td><td>0.56</td><td>0.04</td><td>0.00</td><td>0.60</td><td>0</td></tr><tr><td>57,633</td><td>NaN</td><td>0.00</td><td>0.06</td><td>0.17</td><td>1.00</td><td>0.00</td><td>0.00</td><td>0.00</td><td>0.00</td><td>0.00</td><td>0.00</td><td>0.00</td><td>0.00</td><td>0.00</td><td>0.00</td><td>0.00</td><td>0.00</td><td>0.00</td><td>0.00</td><td>0.21</td><td>0.00</td><td>0.00</td><td>0.00</td><td>0.00</td><td>0.79</td><td>0.00</td><td>0.79</td><td>0.20</td><td>0.50</td><td>0.79</td><td>0.89</td><td>0.92</td><td>0.20</td><td>0.83</td><td>0.25</td><td>0.77</td><td>&hellip;</td><td>-0.00</td><td>0.50</td><td>0.01</td><td>0.12</td><td>0.04</td><td>0.19</td><td>0.61</td><td>0.96</td><td>0.95</td><td>0.60</td><td>0.00</td><td>0.91</td><td>0.64</td><td>1.00</td><td>1.00</td><td>0.03</td><td>0.99</td><td>0.99</td><td>0.71</td><td>0.88</td><td>0.70</td><td>0.88</td><td>0.45</td><td>0.82</td><td>1.00</td><td>1.00</td><td>0.22</td><td>1.00</td><td>0.00</td><td>0.06</td><td>0.00</td><td>0.06</td><td>0.56</td><td>0.04</td><td>0.00</td><td>0.60</td><td>0</td></tr><tr><td>57,634</td><td>NaN</td><td>0.00</td><td>0.06</td><td>0.33</td><td>0.67</td><td>0.00</td><td>0.00</td><td>0.00</td><td>0.00</td><td>0.00</td><td>0.00</td><td>0.00</td><td>0.00</td><td>0.00</td><td>0.00</td><td>0.00</td><td>0.00</td><td>0.00</td><td>0.00</td><td>0.21</td><td>0.00</td><td>0.00</td><td>0.00</td><td>0.00</td><td>0.79</td><td>0.00</td><td>0.79</td><td>0.20</td><td>0.50</td><td>0.79</td><td>0.89</td><td>0.92</td><td>0.20</td><td>0.83</td><td>0.25</td><td>0.77</td><td>&hellip;</td><td>0.00</td><td>0.00</td><td>0.00</td><td>0.00</td><td>0.00</td><td>0.18</td><td>0.59</td><td>0.75</td><td>0.90</td><td>0.59</td><td>0.00</td><td>0.00</td><td>0.18</td><td>0.29</td><td>0.06</td><td>0.00</td><td>0.98</td><td>0.78</td><td>0.71</td><td>0.88</td><td>0.70</td><td>0.88</td><td>0.64</td><td>0.73</td><td>0.29</td><td>0.06</td><td>0.00</td><td>0.99</td><td>0.00</td><td>0.06</td><td>0.00</td><td>0.06</td><td>0.56</td><td>0.04</td><td>0.00</td><td>0.60</td><td>0</td></tr></tbody></table></div>"
      ],
      "text/plain": [
       "shape: (1_526_669, 320)\n",
       "┌──────────────┬──────┬───────┬──────┬───┬────────────────┬───────────────┬───────────────┬────────┐\n",
       "│ case_id_base ┆ Date ┆ month ┆ week ┆ … ┆ reg_c_num_grou ┆ reg_c_pmtamou ┆ reg_c_process ┆ target │\n",
       "│ ---          ┆ ---  ┆ ---   ┆ ---  ┆   ┆ p1             ┆ nt_36A        ┆ ingdate_168D  ┆ ---    │\n",
       "│ u32          ┆ f64  ┆ f64   ┆ f64  ┆   ┆ ---            ┆ ---           ┆ ---           ┆ u8     │\n",
       "│              ┆      ┆       ┆      ┆   ┆ f64            ┆ f32           ┆ f64           ┆        │\n",
       "╞══════════════╪══════╪═══════╪══════╪═══╪════════════════╪═══════════════╪═══════════════╪════════╡\n",
       "│ 0            ┆ NaN  ┆ 0.00  ┆ 0.00 ┆ … ┆ 0.04           ┆ 0.00          ┆ 0.60          ┆ 0      │\n",
       "│ 1            ┆ NaN  ┆ 0.00  ┆ 0.00 ┆ … ┆ 0.04           ┆ 0.00          ┆ 0.60          ┆ 0      │\n",
       "│ 2            ┆ NaN  ┆ 0.00  ┆ 0.00 ┆ … ┆ 0.04           ┆ 0.00          ┆ 0.60          ┆ 0      │\n",
       "│ …            ┆ …    ┆ …     ┆ …    ┆ … ┆ …              ┆ …             ┆ …             ┆ …      │\n",
       "│ 57,632       ┆ NaN  ┆ 0.09  ┆ 0.08 ┆ … ┆ 0.04           ┆ 0.00          ┆ 0.60          ┆ 0      │\n",
       "│ 57,633       ┆ NaN  ┆ 0.00  ┆ 0.06 ┆ … ┆ 0.04           ┆ 0.00          ┆ 0.60          ┆ 0      │\n",
       "│ 57,634       ┆ NaN  ┆ 0.00  ┆ 0.06 ┆ … ┆ 0.04           ┆ 0.00          ┆ 0.60          ┆ 0      │\n",
       "└──────────────┴──────┴───────┴──────┴───┴────────────────┴───────────────┴───────────────┴────────┘"
      ]
     },
     "execution_count": 27,
     "metadata": {},
     "output_type": "execute_result"
    }
   ],
   "source": [
    "total_df = (\n",
    "    total_base\n",
    "    .join(\n",
    "        total_past_shallow,\n",
    "        left_on=\"case_id_base\",\n",
    "        right_on=\"case_id\",\n",
    "        how=\"left\"\n",
    "    )\n",
    "    .join(\n",
    "        total_past_depth,\n",
    "        left_on=\"case_id_base\",\n",
    "        right_on=\"case_id\",\n",
    "        how=\"left\"\n",
    "    )\n",
    "    .join(\n",
    "        total_static_base,\n",
    "        left_on=\"case_id_base\",\n",
    "        right_on=\"case_id\",\n",
    "        how=\"left\"\n",
    "    )\n",
    "    .join(\n",
    "        total_static_external,\n",
    "        left_on=\"case_id_base\",\n",
    "        right_on=\"case_id\",\n",
    "        how=\"left\"\n",
    "    )\n",
    "    .join(\n",
    "        total_person_shallow,\n",
    "        left_on=\"case_id_base\",\n",
    "        right_on=\"case_id\",\n",
    "        how=\"left\"\n",
    "    )\n",
    "    .join(\n",
    "        total_person_depth,\n",
    "        left_on=\"case_id_base\",\n",
    "        right_on=\"case_id\",\n",
    "        how=\"left\"\n",
    "    )\n",
    "    .join(\n",
    "        total_other_shallow,\n",
    "        left_on=\"case_id_base\",\n",
    "        right_on=\"case_id\",\n",
    "        how=\"left\"\n",
    "    )\n",
    "    .join(\n",
    "        total_deposit_shallow,\n",
    "        left_on=\"case_id_base\",\n",
    "        right_on=\"case_id\",\n",
    "        how=\"left\"\n",
    "    )\n",
    "    .join(\n",
    "        total_debitcard_shallow,\n",
    "        left_on=\"case_id_base\",\n",
    "        right_on=\"case_id\",\n",
    "        how=\"left\"\n",
    "    )\n",
    "    .join(\n",
    "        total_credit_internal_shallow,\n",
    "        left_on=\"case_id_base\",\n",
    "        right_on=\"case_id\",\n",
    "        how=\"left\"\n",
    "    )\n",
    "    .join(\n",
    "        total_credit_external_shallow,\n",
    "        left_on=\"case_id_base\",\n",
    "        right_on=\"case_id\",\n",
    "        how=\"left\"\n",
    "    )\n",
    "    .join(\n",
    "        total_credit_external_depth,\n",
    "        left_on=\"case_id_base\",\n",
    "        right_on=\"case_id\",\n",
    "        how=\"left\"\n",
    "    )\n",
    "    .join(\n",
    "        total_registry_a,\n",
    "        left_on=\"case_id_base\",\n",
    "        right_on=\"case_id\",\n",
    "        how=\"left\"\n",
    "    )\n",
    "    .join(\n",
    "        total_registry_b,\n",
    "        left_on=\"case_id_base\",\n",
    "        right_on=\"case_id\",\n",
    "        how=\"left\"\n",
    "    )\n",
    "    .join(\n",
    "        total_registry_c,\n",
    "        left_on=\"case_id_base\",\n",
    "        right_on=\"case_id\",\n",
    "        how=\"left\"\n",
    "    )\n",
    "    .with_columns(\n",
    "        (pl.col(pl.Date) - pl.col(\"Date\")).dt.total_days(),\n",
    "        pl.col(pl.String).cast(pl.Categorical)\n",
    "    )\n",
    "#     .drop(cs.contains(drop_columns))\n",
    "    .drop(drop_columns)\n",
    "    .pipe(select_impuatable)\n",
    "    .pipe(select_low_catcols)\n",
    "    .with_columns(\n",
    "        pl.col(pl.INTEGER_DTYPES).fill_null(strategy=\"mean\"),\n",
    "        pl.col(pl.FLOAT_DTYPES).fill_null(strategy=\"mean\"),\n",
    "        pl.col(pl.Boolean).fill_null(value=pl.col(pl.Boolean).drop_nulls().mode().first()),\n",
    "        pl.col(pl.Categorical).fill_null(value=pl.col(pl.Categorical).drop_nulls().mode().first())\n",
    "    )\n",
    "    .with_columns(\n",
    "        pl.col(pl.Categorical).to_physical()\n",
    "    )\n",
    "    .with_columns(\n",
    "        (pl.col(pl.INTEGER_DTYPES).exclude([\"case_id_base\",\"target\"]) - pl.col(pl.INTEGER_DTYPES).exclude([\"case_id_base\",\"target\"]).min())/(pl.col(pl.INTEGER_DTYPES).exclude([\"case_id_base\",\"target\"]).max()-pl.col(pl.INTEGER_DTYPES).exclude([\"case_id_base\",\"target\"]).min()),\n",
    "        (pl.col(pl.FLOAT_DTYPES) - pl.col(pl.FLOAT_DTYPES).mean())/(pl.col(pl.FLOAT_DTYPES).std())\n",
    "    )\n",
    "    .select(\n",
    "        ~cs.by_name(\"target\"),\n",
    "        cs.by_name(\"target\")\n",
    "    )\n",
    ")\n",
    "total_df"
   ]
  },
  {
   "cell_type": "code",
   "execution_count": 28,
   "id": "fad72a0e",
   "metadata": {
    "execution": {
     "iopub.execute_input": "2024-04-15T09:36:31.485676Z",
     "iopub.status.busy": "2024-04-15T09:36:31.485303Z",
     "iopub.status.idle": "2024-04-15T09:36:32.145628Z",
     "shell.execute_reply": "2024-04-15T09:36:32.144656Z"
    },
    "papermill": {
     "duration": 0.724955,
     "end_time": "2024-04-15T09:36:32.147968",
     "exception": false,
     "start_time": "2024-04-15T09:36:31.423013",
     "status": "completed"
    },
    "tags": []
   },
   "outputs": [
    {
     "data": {
      "text/html": [
       "<div><style>\n",
       ".dataframe > thead > tr,\n",
       ".dataframe > tbody > tr {\n",
       "  text-align: right;\n",
       "  white-space: pre-wrap;\n",
       "}\n",
       "</style>\n",
       "<small>shape: (5, 319)</small><table border=\"1\" class=\"dataframe\"><thead><tr><th>Date</th><th>month</th><th>week</th><th>weekday</th><th>year</th><th>past_shallow_actualdpd_943P</th><th>past_shallow_annuity_853A</th><th>past_shallow_byoccupationinc_3656910L</th><th>past_shallow_childnum_21L</th><th>past_shallow_credacc_actualbalance_314A</th><th>past_shallow_credacc_credlmt_575A</th><th>past_shallow_credacc_maxhisbal_375A</th><th>past_shallow_credacc_minhisbal_90A</th><th>past_shallow_credacc_transactions_402L</th><th>past_shallow_credamount_590A</th><th>past_shallow_currdebt_94A</th><th>past_shallow_downpmt_134A</th><th>past_shallow_mainoccupationinc_437A</th><th>past_shallow_maxdpdtolerance_577P</th><th>past_shallow_num_group1</th><th>past_shallow_outstandingdebt_522A</th><th>past_shallow_pmtnum_8L</th><th>past_shallow_revolvingaccount_394A</th><th>past_shallow_tenor_203L</th><th>past_shallow_approvaldate_319D</th><th>past_shallow_cancelreason_3545846M</th><th>past_shallow_creationdate_885D</th><th>past_shallow_credacc_status_367L</th><th>past_shallow_credtype_587L</th><th>past_shallow_dateactivated_425D</th><th>past_shallow_dtlastpmt_581D</th><th>past_shallow_dtlastpmtallstes_3545839D</th><th>past_shallow_education_1138M</th><th>past_shallow_employedfrom_700D</th><th>past_shallow_familystate_726L</th><th>past_shallow_firstnonzeroinstldate_307D</th><th>past_shallow_inittransactioncode_279L</th><th>&hellip;</th><th>int_shallow_totaloutstanddebtvalue_668A</th><th>int_shallow_classificationofcontr_13M</th><th>int_shallow_classificationofcontr_400M</th><th>int_shallow_contractst_545M</th><th>int_shallow_contractst_964M</th><th>int_shallow_dateofcredend_289D</th><th>int_shallow_dateofcredend_353D</th><th>int_shallow_dateofcredstart_181D</th><th>int_shallow_dateofcredstart_739D</th><th>int_shallow_dateofrealrepmt_138D</th><th>int_shallow_description_351M</th><th>int_shallow_dpdmaxdatemonth_442T</th><th>int_shallow_dpdmaxdatemonth_89T</th><th>int_shallow_dpdmaxdateyear_596T</th><th>int_shallow_dpdmaxdateyear_896T</th><th>int_shallow_financialinstitution_382M</th><th>int_shallow_lastupdate_1112D</th><th>int_shallow_lastupdate_388D</th><th>int_shallow_numberofoverdueinstlmaxdat_148D</th><th>int_shallow_numberofoverdueinstlmaxdat_641D</th><th>int_shallow_overdueamountmax2date_1002D</th><th>int_shallow_overdueamountmax2date_1142D</th><th>int_shallow_overdueamountmaxdatemonth_284T</th><th>int_shallow_overdueamountmaxdatemonth_365T</th><th>int_shallow_overdueamountmaxdateyear_2T</th><th>int_shallow_overdueamountmaxdateyear_994T</th><th>int_shallow_purposeofcred_874M</th><th>int_shallow_refreshdate_3813885D</th><th>reg_a_amount_4527230A</th><th>reg_a_num_group1</th><th>reg_b_amount_4917619A</th><th>reg_b_num_group1</th><th>reg_b_deductiondate_4917603D</th><th>reg_c_num_group1</th><th>reg_c_pmtamount_36A</th><th>reg_c_processingdate_168D</th><th>target</th></tr><tr><td>f64</td><td>f64</td><td>f64</td><td>f64</td><td>f64</td><td>f32</td><td>f32</td><td>f32</td><td>f32</td><td>f32</td><td>f32</td><td>f32</td><td>f32</td><td>f32</td><td>f32</td><td>f32</td><td>f32</td><td>f32</td><td>f32</td><td>f64</td><td>f32</td><td>f32</td><td>f32</td><td>f32</td><td>f64</td><td>f64</td><td>f64</td><td>f64</td><td>f64</td><td>f64</td><td>f64</td><td>f64</td><td>f64</td><td>f64</td><td>f64</td><td>f64</td><td>f64</td><td>&hellip;</td><td>f32</td><td>f64</td><td>f64</td><td>f64</td><td>f64</td><td>f64</td><td>f64</td><td>f64</td><td>f64</td><td>f64</td><td>f64</td><td>f64</td><td>f64</td><td>f64</td><td>f64</td><td>f64</td><td>f64</td><td>f64</td><td>f64</td><td>f64</td><td>f64</td><td>f64</td><td>f64</td><td>f64</td><td>f64</td><td>f64</td><td>f64</td><td>f64</td><td>f32</td><td>f64</td><td>f32</td><td>f64</td><td>f64</td><td>f64</td><td>f32</td><td>f64</td><td>u8</td></tr></thead><tbody><tr><td>NaN</td><td>0.00</td><td>0.00</td><td>0.50</td><td>0.00</td><td>0.00</td><td>0.00</td><td>0.00</td><td>0.00</td><td>0.00</td><td>0.00</td><td>0.00</td><td>0.00</td><td>0.00</td><td>0.00</td><td>0.00</td><td>0.00</td><td>0.00</td><td>0.00</td><td>0.21</td><td>0.00</td><td>0.00</td><td>0.00</td><td>0.00</td><td>0.79</td><td>0.00</td><td>0.79</td><td>0.20</td><td>0.50</td><td>0.79</td><td>0.89</td><td>0.92</td><td>0.20</td><td>0.83</td><td>0.25</td><td>0.77</td><td>0.50</td><td>&hellip;</td><td>0.00</td><td>0.00</td><td>0.00</td><td>0.00</td><td>0.00</td><td>0.18</td><td>0.59</td><td>0.75</td><td>0.90</td><td>0.59</td><td>0.00</td><td>0.00</td><td>0.18</td><td>0.29</td><td>0.06</td><td>0.00</td><td>0.98</td><td>0.78</td><td>0.71</td><td>0.88</td><td>0.70</td><td>0.88</td><td>0.64</td><td>0.73</td><td>0.29</td><td>0.06</td><td>0.00</td><td>0.99</td><td>0.00</td><td>0.06</td><td>0.00</td><td>0.06</td><td>0.56</td><td>0.04</td><td>0.00</td><td>0.60</td><td>0</td></tr><tr><td>NaN</td><td>0.00</td><td>0.00</td><td>0.50</td><td>0.00</td><td>0.00</td><td>0.00</td><td>0.00</td><td>0.00</td><td>0.00</td><td>0.00</td><td>0.00</td><td>0.00</td><td>0.00</td><td>0.00</td><td>0.00</td><td>0.00</td><td>0.00</td><td>0.00</td><td>0.21</td><td>0.00</td><td>0.00</td><td>0.00</td><td>0.00</td><td>0.79</td><td>0.00</td><td>0.79</td><td>0.20</td><td>0.50</td><td>0.79</td><td>0.89</td><td>0.92</td><td>0.20</td><td>0.83</td><td>0.25</td><td>0.77</td><td>0.50</td><td>&hellip;</td><td>0.00</td><td>0.00</td><td>0.00</td><td>0.00</td><td>0.00</td><td>0.18</td><td>0.59</td><td>0.75</td><td>0.90</td><td>0.59</td><td>0.00</td><td>0.00</td><td>0.18</td><td>0.29</td><td>0.06</td><td>0.00</td><td>0.98</td><td>0.78</td><td>0.71</td><td>0.88</td><td>0.70</td><td>0.88</td><td>0.64</td><td>0.73</td><td>0.29</td><td>0.06</td><td>0.00</td><td>0.99</td><td>0.00</td><td>0.06</td><td>0.00</td><td>0.06</td><td>0.56</td><td>0.04</td><td>0.00</td><td>0.60</td><td>0</td></tr><tr><td>NaN</td><td>0.00</td><td>0.00</td><td>0.67</td><td>0.00</td><td>-0.01</td><td>-1.08</td><td>0.00</td><td>-1.12</td><td>0.00</td><td>-0.45</td><td>0.00</td><td>0.00</td><td>0.00</td><td>-1.06</td><td>0.00</td><td>-0.35</td><td>-1.58</td><td>0.00</td><td>0.05</td><td>0.00</td><td>0.08</td><td>0.00</td><td>0.08</td><td>0.79</td><td>0.00</td><td>0.61</td><td>0.20</td><td>0.00</td><td>0.79</td><td>0.89</td><td>0.92</td><td>0.00</td><td>0.85</td><td>0.00</td><td>0.61</td><td>0.00</td><td>&hellip;</td><td>0.00</td><td>0.00</td><td>0.00</td><td>0.00</td><td>0.00</td><td>0.18</td><td>0.59</td><td>0.75</td><td>0.90</td><td>0.59</td><td>0.00</td><td>0.00</td><td>0.18</td><td>0.29</td><td>0.06</td><td>0.00</td><td>0.98</td><td>0.78</td><td>0.71</td><td>0.88</td><td>0.70</td><td>0.88</td><td>0.64</td><td>0.73</td><td>0.29</td><td>0.06</td><td>0.00</td><td>0.99</td><td>0.00</td><td>0.06</td><td>0.00</td><td>0.06</td><td>0.56</td><td>0.04</td><td>0.00</td><td>0.60</td><td>0</td></tr><tr><td>NaN</td><td>0.00</td><td>0.00</td><td>0.50</td><td>0.00</td><td>-0.01</td><td>0.13</td><td>0.00</td><td>0.00</td><td>0.00</td><td>-0.45</td><td>0.00</td><td>0.00</td><td>0.00</td><td>-0.22</td><td>0.00</td><td>-0.35</td><td>-1.50</td><td>0.00</td><td>0.00</td><td>0.00</td><td>-0.97</td><td>0.00</td><td>-0.97</td><td>0.79</td><td>0.02</td><td>1.00</td><td>0.20</td><td>0.00</td><td>0.79</td><td>0.89</td><td>0.92</td><td>0.00</td><td>0.99</td><td>0.25</td><td>1.00</td><td>0.00</td><td>&hellip;</td><td>0.00</td><td>0.00</td><td>0.00</td><td>0.00</td><td>0.00</td><td>0.18</td><td>0.59</td><td>0.75</td><td>0.90</td><td>0.59</td><td>0.00</td><td>0.00</td><td>0.18</td><td>0.29</td><td>0.06</td><td>0.00</td><td>0.98</td><td>0.78</td><td>0.71</td><td>0.88</td><td>0.70</td><td>0.88</td><td>0.64</td><td>0.73</td><td>0.29</td><td>0.06</td><td>0.00</td><td>0.99</td><td>0.00</td><td>0.06</td><td>0.00</td><td>0.06</td><td>0.56</td><td>0.04</td><td>0.00</td><td>0.60</td><td>0</td></tr><tr><td>NaN</td><td>0.00</td><td>0.00</td><td>0.67</td><td>0.00</td><td>-0.01</td><td>-0.84</td><td>0.00</td><td>0.00</td><td>0.00</td><td>-0.45</td><td>0.00</td><td>0.00</td><td>0.00</td><td>-0.60</td><td>0.00</td><td>-0.35</td><td>-1.36</td><td>0.00</td><td>0.00</td><td>0.00</td><td>0.08</td><td>0.00</td><td>0.08</td><td>0.79</td><td>0.03</td><td>1.00</td><td>0.20</td><td>0.00</td><td>0.79</td><td>0.89</td><td>0.92</td><td>0.20</td><td>0.83</td><td>0.25</td><td>1.00</td><td>0.00</td><td>&hellip;</td><td>0.00</td><td>0.00</td><td>0.00</td><td>0.00</td><td>0.00</td><td>0.18</td><td>0.59</td><td>0.75</td><td>0.90</td><td>0.59</td><td>0.00</td><td>0.00</td><td>0.18</td><td>0.29</td><td>0.06</td><td>0.00</td><td>0.98</td><td>0.78</td><td>0.71</td><td>0.88</td><td>0.70</td><td>0.88</td><td>0.64</td><td>0.73</td><td>0.29</td><td>0.06</td><td>0.00</td><td>0.99</td><td>0.00</td><td>0.06</td><td>0.00</td><td>0.06</td><td>0.56</td><td>0.04</td><td>0.00</td><td>0.60</td><td>1</td></tr></tbody></table></div>"
      ],
      "text/plain": [
       "shape: (5, 319)\n",
       "┌──────┬───────┬──────┬─────────┬───┬─────────────────┬─────────────────┬─────────────────┬────────┐\n",
       "│ Date ┆ month ┆ week ┆ weekday ┆ … ┆ reg_c_num_group ┆ reg_c_pmtamount ┆ reg_c_processin ┆ target │\n",
       "│ ---  ┆ ---   ┆ ---  ┆ ---     ┆   ┆ 1               ┆ _36A            ┆ gdate_168D      ┆ ---    │\n",
       "│ f64  ┆ f64   ┆ f64  ┆ f64     ┆   ┆ ---             ┆ ---             ┆ ---             ┆ u8     │\n",
       "│      ┆       ┆      ┆         ┆   ┆ f64             ┆ f32             ┆ f64             ┆        │\n",
       "╞══════╪═══════╪══════╪═════════╪═══╪═════════════════╪═════════════════╪═════════════════╪════════╡\n",
       "│ NaN  ┆ 0.00  ┆ 0.00 ┆ 0.50    ┆ … ┆ 0.04            ┆ 0.00            ┆ 0.60            ┆ 0      │\n",
       "│ NaN  ┆ 0.00  ┆ 0.00 ┆ 0.50    ┆ … ┆ 0.04            ┆ 0.00            ┆ 0.60            ┆ 0      │\n",
       "│ NaN  ┆ 0.00  ┆ 0.00 ┆ 0.67    ┆ … ┆ 0.04            ┆ 0.00            ┆ 0.60            ┆ 0      │\n",
       "│ NaN  ┆ 0.00  ┆ 0.00 ┆ 0.50    ┆ … ┆ 0.04            ┆ 0.00            ┆ 0.60            ┆ 0      │\n",
       "│ NaN  ┆ 0.00  ┆ 0.00 ┆ 0.67    ┆ … ┆ 0.04            ┆ 0.00            ┆ 0.60            ┆ 1      │\n",
       "└──────┴───────┴──────┴─────────┴───┴─────────────────┴─────────────────┴─────────────────┴────────┘"
      ]
     },
     "execution_count": 28,
     "metadata": {},
     "output_type": "execute_result"
    }
   ],
   "source": [
    "train_total = total_df.filter(pl.col(\"case_id_base\").is_in(test_base.select(\"case_id_base\")).not_()).drop(\"case_id_base\")\n",
    "train_total.head()"
   ]
  },
  {
   "cell_type": "code",
   "execution_count": 29,
   "id": "629c50f8",
   "metadata": {
    "execution": {
     "iopub.execute_input": "2024-04-15T09:36:32.179444Z",
     "iopub.status.busy": "2024-04-15T09:36:32.179148Z",
     "iopub.status.idle": "2024-04-15T09:36:32.207989Z",
     "shell.execute_reply": "2024-04-15T09:36:32.207172Z"
    },
    "papermill": {
     "duration": 0.046843,
     "end_time": "2024-04-15T09:36:32.210169",
     "exception": false,
     "start_time": "2024-04-15T09:36:32.163326",
     "status": "completed"
    },
    "tags": []
   },
   "outputs": [
    {
     "data": {
      "text/html": [
       "<div><style>\n",
       ".dataframe > thead > tr,\n",
       ".dataframe > tbody > tr {\n",
       "  text-align: right;\n",
       "  white-space: pre-wrap;\n",
       "}\n",
       "</style>\n",
       "<small>shape: (5, 319)</small><table border=\"1\" class=\"dataframe\"><thead><tr><th>case_id_base</th><th>Date</th><th>month</th><th>week</th><th>weekday</th><th>year</th><th>past_shallow_actualdpd_943P</th><th>past_shallow_annuity_853A</th><th>past_shallow_byoccupationinc_3656910L</th><th>past_shallow_childnum_21L</th><th>past_shallow_credacc_actualbalance_314A</th><th>past_shallow_credacc_credlmt_575A</th><th>past_shallow_credacc_maxhisbal_375A</th><th>past_shallow_credacc_minhisbal_90A</th><th>past_shallow_credacc_transactions_402L</th><th>past_shallow_credamount_590A</th><th>past_shallow_currdebt_94A</th><th>past_shallow_downpmt_134A</th><th>past_shallow_mainoccupationinc_437A</th><th>past_shallow_maxdpdtolerance_577P</th><th>past_shallow_num_group1</th><th>past_shallow_outstandingdebt_522A</th><th>past_shallow_pmtnum_8L</th><th>past_shallow_revolvingaccount_394A</th><th>past_shallow_tenor_203L</th><th>past_shallow_approvaldate_319D</th><th>past_shallow_cancelreason_3545846M</th><th>past_shallow_creationdate_885D</th><th>past_shallow_credacc_status_367L</th><th>past_shallow_credtype_587L</th><th>past_shallow_dateactivated_425D</th><th>past_shallow_dtlastpmt_581D</th><th>past_shallow_dtlastpmtallstes_3545839D</th><th>past_shallow_education_1138M</th><th>past_shallow_employedfrom_700D</th><th>past_shallow_familystate_726L</th><th>past_shallow_firstnonzeroinstldate_307D</th><th>&hellip;</th><th>int_shallow_totaloutstanddebtvalue_39A</th><th>int_shallow_totaloutstanddebtvalue_668A</th><th>int_shallow_classificationofcontr_13M</th><th>int_shallow_classificationofcontr_400M</th><th>int_shallow_contractst_545M</th><th>int_shallow_contractst_964M</th><th>int_shallow_dateofcredend_289D</th><th>int_shallow_dateofcredend_353D</th><th>int_shallow_dateofcredstart_181D</th><th>int_shallow_dateofcredstart_739D</th><th>int_shallow_dateofrealrepmt_138D</th><th>int_shallow_description_351M</th><th>int_shallow_dpdmaxdatemonth_442T</th><th>int_shallow_dpdmaxdatemonth_89T</th><th>int_shallow_dpdmaxdateyear_596T</th><th>int_shallow_dpdmaxdateyear_896T</th><th>int_shallow_financialinstitution_382M</th><th>int_shallow_lastupdate_1112D</th><th>int_shallow_lastupdate_388D</th><th>int_shallow_numberofoverdueinstlmaxdat_148D</th><th>int_shallow_numberofoverdueinstlmaxdat_641D</th><th>int_shallow_overdueamountmax2date_1002D</th><th>int_shallow_overdueamountmax2date_1142D</th><th>int_shallow_overdueamountmaxdatemonth_284T</th><th>int_shallow_overdueamountmaxdatemonth_365T</th><th>int_shallow_overdueamountmaxdateyear_2T</th><th>int_shallow_overdueamountmaxdateyear_994T</th><th>int_shallow_purposeofcred_874M</th><th>int_shallow_refreshdate_3813885D</th><th>reg_a_amount_4527230A</th><th>reg_a_num_group1</th><th>reg_b_amount_4917619A</th><th>reg_b_num_group1</th><th>reg_b_deductiondate_4917603D</th><th>reg_c_num_group1</th><th>reg_c_pmtamount_36A</th><th>reg_c_processingdate_168D</th></tr><tr><td>u32</td><td>f64</td><td>f64</td><td>f64</td><td>f64</td><td>f64</td><td>f32</td><td>f32</td><td>f32</td><td>f32</td><td>f32</td><td>f32</td><td>f32</td><td>f32</td><td>f32</td><td>f32</td><td>f32</td><td>f32</td><td>f32</td><td>f32</td><td>f64</td><td>f32</td><td>f32</td><td>f32</td><td>f32</td><td>f64</td><td>f64</td><td>f64</td><td>f64</td><td>f64</td><td>f64</td><td>f64</td><td>f64</td><td>f64</td><td>f64</td><td>f64</td><td>f64</td><td>&hellip;</td><td>f32</td><td>f32</td><td>f64</td><td>f64</td><td>f64</td><td>f64</td><td>f64</td><td>f64</td><td>f64</td><td>f64</td><td>f64</td><td>f64</td><td>f64</td><td>f64</td><td>f64</td><td>f64</td><td>f64</td><td>f64</td><td>f64</td><td>f64</td><td>f64</td><td>f64</td><td>f64</td><td>f64</td><td>f64</td><td>f64</td><td>f64</td><td>f64</td><td>f64</td><td>f32</td><td>f64</td><td>f32</td><td>f64</td><td>f64</td><td>f64</td><td>f32</td><td>f64</td></tr></thead><tbody><tr><td>57,543</td><td>NaN</td><td>0.36</td><td>0.35</td><td>0.67</td><td>0.67</td><td>-0.01</td><td>-0.14</td><td>-0.54</td><td>0.56</td><td>0.00</td><td>-0.45</td><td>0.00</td><td>0.00</td><td>0.00</td><td>0.62</td><td>-0.22</td><td>0.48</td><td>-0.69</td><td>0.04</td><td>0.47</td><td>-0.28</td><td>1.40</td><td>0.00</td><td>1.40</td><td>0.82</td><td>0.00</td><td>0.61</td><td>0.20</td><td>0.50</td><td>0.55</td><td>0.93</td><td>0.93</td><td>0.60</td><td>0.83</td><td>0.25</td><td>0.61</td><td>&hellip;</td><td>-0.10</td><td>-0.00</td><td>0.00</td><td>0.03</td><td>0.00</td><td>0.04</td><td>0.18</td><td>0.60</td><td>0.65</td><td>0.96</td><td>0.56</td><td>0.00</td><td>0.73</td><td>0.18</td><td>0.57</td><td>0.94</td><td>0.50</td><td>0.97</td><td>0.99</td><td>0.68</td><td>0.88</td><td>0.65</td><td>0.88</td><td>0.36</td><td>0.18</td><td>0.86</td><td>0.94</td><td>0.17</td><td>1.00</td><td>0.00</td><td>0.06</td><td>-0.69</td><td>0.05</td><td>0.43</td><td>0.04</td><td>0.00</td><td>0.60</td></tr><tr><td>57,549</td><td>NaN</td><td>0.00</td><td>0.04</td><td>0.00</td><td>1.00</td><td>-0.01</td><td>-0.50</td><td>0.99</td><td>-1.12</td><td>1.21</td><td>1.01</td><td>0.18</td><td>0.84</td><td>-0.46</td><td>-0.22</td><td>-0.28</td><td>-0.35</td><td>-0.13</td><td>-0.20</td><td>0.68</td><td>-0.32</td><td>1.14</td><td>4.18</td><td>1.14</td><td>0.98</td><td>0.00</td><td>0.34</td><td>0.00</td><td>1.00</td><td>0.38</td><td>0.57</td><td>0.99</td><td>0.20</td><td>0.59</td><td>0.50</td><td>0.38</td><td>&hellip;</td><td>0.05</td><td>-0.00</td><td>0.00</td><td>0.02</td><td>0.00</td><td>0.04</td><td>0.18</td><td>0.62</td><td>0.86</td><td>0.98</td><td>0.60</td><td>0.00</td><td>0.36</td><td>0.55</td><td>1.00</td><td>0.29</td><td>0.21</td><td>0.99</td><td>0.86</td><td>0.69</td><td>0.88</td><td>0.74</td><td>0.88</td><td>0.27</td><td>0.55</td><td>1.00</td><td>0.76</td><td>0.06</td><td>1.00</td><td>0.00</td><td>0.06</td><td>0.00</td><td>0.06</td><td>0.56</td><td>0.04</td><td>0.00</td><td>0.60</td></tr><tr><td>57,551</td><td>NaN</td><td>0.91</td><td>0.92</td><td>0.67</td><td>0.33</td><td>0.00</td><td>0.00</td><td>0.00</td><td>0.00</td><td>0.00</td><td>0.00</td><td>0.00</td><td>0.00</td><td>0.00</td><td>0.00</td><td>0.00</td><td>0.00</td><td>0.00</td><td>0.00</td><td>0.21</td><td>0.00</td><td>0.00</td><td>0.00</td><td>0.00</td><td>0.79</td><td>0.00</td><td>0.79</td><td>0.20</td><td>0.50</td><td>0.79</td><td>0.89</td><td>0.92</td><td>0.20</td><td>0.83</td><td>0.25</td><td>0.77</td><td>&hellip;</td><td>0.19</td><td>-0.00</td><td>0.00</td><td>0.01</td><td>0.00</td><td>0.04</td><td>0.17</td><td>0.60</td><td>0.85</td><td>0.98</td><td>0.60</td><td>0.00</td><td>0.45</td><td>0.73</td><td>0.29</td><td>0.06</td><td>0.03</td><td>0.99</td><td>0.97</td><td>0.87</td><td>0.88</td><td>0.94</td><td>0.88</td><td>0.91</td><td>0.00</td><td>0.29</td><td>0.00</td><td>0.11</td><td>1.00</td><td>0.00</td><td>0.06</td><td>-1.68</td><td>0.06</td><td>0.32</td><td>0.04</td><td>0.00</td><td>0.60</td></tr><tr><td>57,552</td><td>NaN</td><td>0.91</td><td>0.92</td><td>0.67</td><td>0.33</td><td>0.00</td><td>0.00</td><td>0.00</td><td>0.00</td><td>0.00</td><td>0.00</td><td>0.00</td><td>0.00</td><td>0.00</td><td>0.00</td><td>0.00</td><td>0.00</td><td>0.00</td><td>0.00</td><td>0.21</td><td>0.00</td><td>0.00</td><td>0.00</td><td>0.00</td><td>0.79</td><td>0.00</td><td>0.79</td><td>0.20</td><td>0.50</td><td>0.79</td><td>0.89</td><td>0.92</td><td>0.20</td><td>0.83</td><td>0.25</td><td>0.77</td><td>&hellip;</td><td>0.00</td><td>0.00</td><td>0.00</td><td>0.00</td><td>0.00</td><td>0.00</td><td>0.18</td><td>0.59</td><td>0.75</td><td>0.90</td><td>0.59</td><td>0.00</td><td>0.00</td><td>0.18</td><td>0.29</td><td>0.06</td><td>0.00</td><td>0.98</td><td>0.78</td><td>0.71</td><td>0.88</td><td>0.70</td><td>0.88</td><td>0.64</td><td>0.73</td><td>0.29</td><td>0.06</td><td>0.00</td><td>0.99</td><td>0.00</td><td>0.06</td><td>0.00</td><td>0.06</td><td>0.56</td><td>0.04</td><td>0.00</td><td>0.60</td></tr><tr><td>57,569</td><td>NaN</td><td>1.00</td><td>0.98</td><td>0.00</td><td>0.67</td><td>0.00</td><td>0.00</td><td>0.00</td><td>0.00</td><td>0.00</td><td>0.00</td><td>0.00</td><td>0.00</td><td>0.00</td><td>0.00</td><td>0.00</td><td>0.00</td><td>0.00</td><td>0.00</td><td>0.21</td><td>0.00</td><td>0.00</td><td>0.00</td><td>0.00</td><td>0.79</td><td>0.00</td><td>0.79</td><td>0.20</td><td>0.50</td><td>0.79</td><td>0.89</td><td>0.92</td><td>0.20</td><td>0.83</td><td>0.25</td><td>0.77</td><td>&hellip;</td><td>0.00</td><td>0.00</td><td>0.00</td><td>0.00</td><td>0.00</td><td>0.00</td><td>0.18</td><td>0.59</td><td>0.75</td><td>0.90</td><td>0.59</td><td>0.00</td><td>0.00</td><td>0.18</td><td>0.29</td><td>0.06</td><td>0.00</td><td>0.98</td><td>0.78</td><td>0.71</td><td>0.88</td><td>0.70</td><td>0.88</td><td>0.64</td><td>0.73</td><td>0.29</td><td>0.06</td><td>0.00</td><td>0.99</td><td>0.00</td><td>0.06</td><td>0.00</td><td>0.06</td><td>0.56</td><td>0.04</td><td>0.00</td><td>0.60</td></tr></tbody></table></div>"
      ],
      "text/plain": [
       "shape: (5, 319)\n",
       "┌──────────────┬──────┬───────┬──────┬───┬──────────────┬──────────────┬─────────────┬─────────────┐\n",
       "│ case_id_base ┆ Date ┆ month ┆ week ┆ … ┆ reg_b_deduct ┆ reg_c_num_gr ┆ reg_c_pmtam ┆ reg_c_proce │\n",
       "│ ---          ┆ ---  ┆ ---   ┆ ---  ┆   ┆ iondate_4917 ┆ oup1         ┆ ount_36A    ┆ ssingdate_1 │\n",
       "│ u32          ┆ f64  ┆ f64   ┆ f64  ┆   ┆ 603D         ┆ ---          ┆ ---         ┆ 68D         │\n",
       "│              ┆      ┆       ┆      ┆   ┆ ---          ┆ f64          ┆ f32         ┆ ---         │\n",
       "│              ┆      ┆       ┆      ┆   ┆ f64          ┆              ┆             ┆ f64         │\n",
       "╞══════════════╪══════╪═══════╪══════╪═══╪══════════════╪══════════════╪═════════════╪═════════════╡\n",
       "│ 57,543       ┆ NaN  ┆ 0.36  ┆ 0.35 ┆ … ┆ 0.43         ┆ 0.04         ┆ 0.00        ┆ 0.60        │\n",
       "│ 57,549       ┆ NaN  ┆ 0.00  ┆ 0.04 ┆ … ┆ 0.56         ┆ 0.04         ┆ 0.00        ┆ 0.60        │\n",
       "│ 57,551       ┆ NaN  ┆ 0.91  ┆ 0.92 ┆ … ┆ 0.32         ┆ 0.04         ┆ 0.00        ┆ 0.60        │\n",
       "│ 57,552       ┆ NaN  ┆ 0.91  ┆ 0.92 ┆ … ┆ 0.56         ┆ 0.04         ┆ 0.00        ┆ 0.60        │\n",
       "│ 57,569       ┆ NaN  ┆ 1.00  ┆ 0.98 ┆ … ┆ 0.56         ┆ 0.04         ┆ 0.00        ┆ 0.60        │\n",
       "└──────────────┴──────┴───────┴──────┴───┴──────────────┴──────────────┴─────────────┴─────────────┘"
      ]
     },
     "execution_count": 29,
     "metadata": {},
     "output_type": "execute_result"
    }
   ],
   "source": [
    "submission_df = total_df.filter(pl.col(\"case_id_base\").is_in(test_base.select(\"case_id_base\"))).drop([\"target\"])\n",
    "submission_df.head()"
   ]
  },
  {
   "cell_type": "code",
   "execution_count": 30,
   "id": "9f486ff8",
   "metadata": {
    "execution": {
     "iopub.execute_input": "2024-04-15T09:36:32.242537Z",
     "iopub.status.busy": "2024-04-15T09:36:32.242245Z",
     "iopub.status.idle": "2024-04-15T09:36:42.733432Z",
     "shell.execute_reply": "2024-04-15T09:36:42.732431Z"
    },
    "papermill": {
     "duration": 10.509597,
     "end_time": "2024-04-15T09:36:42.735836",
     "exception": false,
     "start_time": "2024-04-15T09:36:32.226239",
     "status": "completed"
    },
    "tags": []
   },
   "outputs": [],
   "source": [
    "train_df,valid_df = train_test_split(\n",
    "    train_total,\n",
    "    stratify=train_total.select(\"target\"),\n",
    "    test_size=0.1,\n",
    "    random_state=420,\n",
    "    shuffle=True\n",
    "    )"
   ]
  },
  {
   "cell_type": "code",
   "execution_count": 31,
   "id": "5fb82ce9",
   "metadata": {
    "execution": {
     "iopub.execute_input": "2024-04-15T09:36:42.770031Z",
     "iopub.status.busy": "2024-04-15T09:36:42.769403Z",
     "iopub.status.idle": "2024-04-15T09:36:42.887858Z",
     "shell.execute_reply": "2024-04-15T09:36:42.886941Z"
    },
    "papermill": {
     "duration": 0.136964,
     "end_time": "2024-04-15T09:36:42.890162",
     "exception": false,
     "start_time": "2024-04-15T09:36:42.753198",
     "status": "completed"
    },
    "tags": []
   },
   "outputs": [
    {
     "data": {
      "text/plain": [
       "0"
      ]
     },
     "execution_count": 31,
     "metadata": {},
     "output_type": "execute_result"
    }
   ],
   "source": [
    "del total_df\n",
    "del train_total\n",
    "del total_past_shallow\n",
    "del total_past_depth\n",
    "del total_static_base\n",
    "del total_static_external\n",
    "del total_person_depth\n",
    "del total_person_shallow\n",
    "del total_other_shallow\n",
    "del total_deposit_shallow\n",
    "del total_debitcard_shallow\n",
    "del total_credit_external_depth\n",
    "del total_credit_external_shallow\n",
    "del total_credit_internal_depth\n",
    "del total_credit_internal_shallow\n",
    "del total_registry_a\n",
    "del total_registry_b\n",
    "del total_registry_c\n",
    "gc.collect()"
   ]
  },
  {
   "cell_type": "code",
   "execution_count": 32,
   "id": "e5a2fa53",
   "metadata": {
    "execution": {
     "iopub.execute_input": "2024-04-15T09:36:42.922717Z",
     "iopub.status.busy": "2024-04-15T09:36:42.922438Z",
     "iopub.status.idle": "2024-04-15T09:36:42.927198Z",
     "shell.execute_reply": "2024-04-15T09:36:42.926220Z"
    },
    "papermill": {
     "duration": 0.023085,
     "end_time": "2024-04-15T09:36:42.929216",
     "exception": false,
     "start_time": "2024-04-15T09:36:42.906131",
     "status": "completed"
    },
    "tags": []
   },
   "outputs": [
    {
     "name": "stdout",
     "output_type": "stream",
     "text": [
      "(1373993, 319)\n",
      "(152666, 319)\n"
     ]
    }
   ],
   "source": [
    "print(train_df.shape)\n",
    "print(valid_df.shape)"
   ]
  },
  {
   "cell_type": "code",
   "execution_count": 33,
   "id": "142dfa70",
   "metadata": {
    "execution": {
     "iopub.execute_input": "2024-04-15T09:36:42.962439Z",
     "iopub.status.busy": "2024-04-15T09:36:42.961930Z",
     "iopub.status.idle": "2024-04-15T09:36:43.507664Z",
     "shell.execute_reply": "2024-04-15T09:36:43.506633Z"
    },
    "papermill": {
     "duration": 0.565733,
     "end_time": "2024-04-15T09:36:43.510044",
     "exception": false,
     "start_time": "2024-04-15T09:36:42.944311",
     "status": "completed"
    },
    "tags": []
   },
   "outputs": [],
   "source": [
    "X_train,y_train = train_df.select((~(cs.by_name(\"target\"))).cast(pl.Float32)),train_df.select(pl.col(\"target\").cast(pl.Float32))\n",
    "X_valid,y_valid = valid_df.select((~(cs.by_name(\"target\"))).cast(pl.Float32)),valid_df.select(pl.col(\"target\").cast(pl.Float32))\n",
    "del train_df,valid_df"
   ]
  },
  {
   "cell_type": "code",
   "execution_count": 34,
   "id": "6591277f",
   "metadata": {
    "execution": {
     "iopub.execute_input": "2024-04-15T09:36:43.542816Z",
     "iopub.status.busy": "2024-04-15T09:36:43.542487Z",
     "iopub.status.idle": "2024-04-15T09:36:43.548102Z",
     "shell.execute_reply": "2024-04-15T09:36:43.547239Z"
    },
    "papermill": {
     "duration": 0.024174,
     "end_time": "2024-04-15T09:36:43.550047",
     "exception": false,
     "start_time": "2024-04-15T09:36:43.525873",
     "status": "completed"
    },
    "tags": []
   },
   "outputs": [],
   "source": [
    "params = {\n",
    "    \"objective\":\"binary\",\n",
    "    \"boosting_type\": \"gbdt\",\n",
    "    \"metric\":\"auc\",\n",
    "    \"max_depth\": 256,\n",
    "    \"learning_rate\": 0.001,\n",
    "    \"n_estimators\": 25000,\n",
    "    \"colsample_bynode\": 0.8,\n",
    "    \"colsample_bytree\": 0.8,\n",
    "    \"random_state\": 42,\n",
    "    \"reg_alpha\": 0.2,\n",
    "    \"reg_lambda\": 20,\n",
    "    \"extra_trees\": True,\n",
    "    \"num_leaves\": 512,\n",
    "    \"device\": \"gpu\",\n",
    "    \"importance_type\": \"gain\",\n",
    "    \"verbose\": -1\n",
    "}"
   ]
  },
  {
   "cell_type": "code",
   "execution_count": 35,
   "id": "229e6564",
   "metadata": {
    "execution": {
     "iopub.execute_input": "2024-04-15T09:36:43.581946Z",
     "iopub.status.busy": "2024-04-15T09:36:43.581654Z",
     "iopub.status.idle": "2024-04-15T13:13:48.698428Z",
     "shell.execute_reply": "2024-04-15T13:13:48.697500Z"
    },
    "papermill": {
     "duration": 13025.171695,
     "end_time": "2024-04-15T13:13:48.736997",
     "exception": false,
     "start_time": "2024-04-15T09:36:43.565302",
     "status": "completed"
    },
    "tags": []
   },
   "outputs": [
    {
     "name": "stderr",
     "output_type": "stream",
     "text": [
      "1 warning generated.\n",
      "1 warning generated.\n",
      "1 warning generated.\n",
      "1 warning generated.\n",
      "1 warning generated.\n",
      "1 warning generated.\n",
      "1 warning generated.\n",
      "1 warning generated.\n",
      "1 warning generated.\n",
      "1 warning generated.\n",
      "1 warning generated.\n",
      "1 warning generated.\n",
      "1 warning generated.\n",
      "1 warning generated.\n",
      "1 warning generated.\n",
      "1 warning generated.\n",
      "1 warning generated.\n",
      "1 warning generated.\n",
      "1 warning generated.\n",
      "1 warning generated.\n",
      "1 warning generated.\n",
      "1 warning generated.\n",
      "1 warning generated.\n",
      "1 warning generated.\n",
      "1 warning generated.\n",
      "1 warning generated.\n",
      "1 warning generated.\n",
      "1 warning generated.\n",
      "1 warning generated.\n",
      "1 warning generated.\n",
      "1 warning generated.\n",
      "1 warning generated.\n",
      "1 warning generated.\n"
     ]
    },
    {
     "name": "stdout",
     "output_type": "stream",
     "text": [
      "Training until validation scores don't improve for 2000 rounds\n",
      "[100]\tvalid_0's auc: 0.805538\n",
      "[200]\tvalid_0's auc: 0.807208\n",
      "[300]\tvalid_0's auc: 0.808851\n",
      "[400]\tvalid_0's auc: 0.810232\n",
      "[500]\tvalid_0's auc: 0.811714\n",
      "[600]\tvalid_0's auc: 0.813073\n",
      "[700]\tvalid_0's auc: 0.814485\n",
      "[800]\tvalid_0's auc: 0.815928\n",
      "[900]\tvalid_0's auc: 0.817206\n",
      "[1000]\tvalid_0's auc: 0.818472\n",
      "[1100]\tvalid_0's auc: 0.819842\n",
      "[1200]\tvalid_0's auc: 0.821083\n",
      "[1300]\tvalid_0's auc: 0.822337\n",
      "[1400]\tvalid_0's auc: 0.823609\n",
      "[1500]\tvalid_0's auc: 0.824747\n",
      "[1600]\tvalid_0's auc: 0.825884\n",
      "[1700]\tvalid_0's auc: 0.827005\n",
      "[1800]\tvalid_0's auc: 0.828124\n",
      "[1900]\tvalid_0's auc: 0.82923\n",
      "[2000]\tvalid_0's auc: 0.830221\n",
      "[2100]\tvalid_0's auc: 0.831208\n",
      "[2200]\tvalid_0's auc: 0.832146\n",
      "[2300]\tvalid_0's auc: 0.833061\n",
      "[2400]\tvalid_0's auc: 0.833904\n",
      "[2500]\tvalid_0's auc: 0.834726\n",
      "[2600]\tvalid_0's auc: 0.835521\n",
      "[2700]\tvalid_0's auc: 0.836289\n",
      "[2800]\tvalid_0's auc: 0.836996\n",
      "[2900]\tvalid_0's auc: 0.837701\n",
      "[3000]\tvalid_0's auc: 0.838354\n",
      "[3100]\tvalid_0's auc: 0.838986\n",
      "[3200]\tvalid_0's auc: 0.839585\n",
      "[3300]\tvalid_0's auc: 0.840158\n",
      "[3400]\tvalid_0's auc: 0.84072\n",
      "[3500]\tvalid_0's auc: 0.841257\n",
      "[3600]\tvalid_0's auc: 0.841752\n",
      "[3700]\tvalid_0's auc: 0.842234\n",
      "[3800]\tvalid_0's auc: 0.842702\n",
      "[3900]\tvalid_0's auc: 0.843147\n",
      "[4000]\tvalid_0's auc: 0.843583\n",
      "[4100]\tvalid_0's auc: 0.844001\n",
      "[4200]\tvalid_0's auc: 0.844408\n",
      "[4300]\tvalid_0's auc: 0.844778\n",
      "[4400]\tvalid_0's auc: 0.845165\n",
      "[4500]\tvalid_0's auc: 0.845519\n",
      "[4600]\tvalid_0's auc: 0.845858\n",
      "[4700]\tvalid_0's auc: 0.846189\n",
      "[4800]\tvalid_0's auc: 0.846516\n",
      "[4900]\tvalid_0's auc: 0.846829\n",
      "[5000]\tvalid_0's auc: 0.847122\n",
      "[5100]\tvalid_0's auc: 0.847423\n",
      "[5200]\tvalid_0's auc: 0.847712\n",
      "[5300]\tvalid_0's auc: 0.848\n",
      "[5400]\tvalid_0's auc: 0.848274\n",
      "[5500]\tvalid_0's auc: 0.848537\n",
      "[5600]\tvalid_0's auc: 0.848802\n",
      "[5700]\tvalid_0's auc: 0.849049\n",
      "[5800]\tvalid_0's auc: 0.849295\n",
      "[5900]\tvalid_0's auc: 0.84953\n",
      "[6000]\tvalid_0's auc: 0.84976\n",
      "[6100]\tvalid_0's auc: 0.849988\n",
      "[6200]\tvalid_0's auc: 0.85019\n",
      "[6300]\tvalid_0's auc: 0.850403\n",
      "[6400]\tvalid_0's auc: 0.850615\n",
      "[6500]\tvalid_0's auc: 0.850824\n",
      "[6600]\tvalid_0's auc: 0.851019\n",
      "[6700]\tvalid_0's auc: 0.851214\n",
      "[6800]\tvalid_0's auc: 0.851403\n",
      "[6900]\tvalid_0's auc: 0.85159\n",
      "[7000]\tvalid_0's auc: 0.851767\n",
      "[7100]\tvalid_0's auc: 0.851946\n",
      "[7200]\tvalid_0's auc: 0.852118\n",
      "[7300]\tvalid_0's auc: 0.852288\n",
      "[7400]\tvalid_0's auc: 0.85246\n",
      "[7500]\tvalid_0's auc: 0.852627\n",
      "[7600]\tvalid_0's auc: 0.852782\n",
      "[7700]\tvalid_0's auc: 0.852946\n",
      "[7800]\tvalid_0's auc: 0.8531\n",
      "[7900]\tvalid_0's auc: 0.853255\n",
      "[8000]\tvalid_0's auc: 0.853407\n",
      "[8100]\tvalid_0's auc: 0.853554\n",
      "[8200]\tvalid_0's auc: 0.853698\n",
      "[8300]\tvalid_0's auc: 0.853838\n",
      "[8400]\tvalid_0's auc: 0.853973\n",
      "[8500]\tvalid_0's auc: 0.854108\n",
      "[8600]\tvalid_0's auc: 0.854239\n",
      "[8700]\tvalid_0's auc: 0.854366\n",
      "[8800]\tvalid_0's auc: 0.854503\n",
      "[8900]\tvalid_0's auc: 0.854633\n",
      "[9000]\tvalid_0's auc: 0.854755\n",
      "[9100]\tvalid_0's auc: 0.854876\n",
      "[9200]\tvalid_0's auc: 0.855008\n",
      "[9300]\tvalid_0's auc: 0.855122\n",
      "[9400]\tvalid_0's auc: 0.855232\n",
      "[9500]\tvalid_0's auc: 0.855342\n",
      "[9600]\tvalid_0's auc: 0.855462\n",
      "[9700]\tvalid_0's auc: 0.85557\n",
      "[9800]\tvalid_0's auc: 0.85568\n",
      "[9900]\tvalid_0's auc: 0.855788\n",
      "[10000]\tvalid_0's auc: 0.855896\n",
      "[10100]\tvalid_0's auc: 0.855995\n",
      "[10200]\tvalid_0's auc: 0.856092\n",
      "[10300]\tvalid_0's auc: 0.856193\n",
      "[10400]\tvalid_0's auc: 0.856289\n",
      "[10500]\tvalid_0's auc: 0.856391\n",
      "[10600]\tvalid_0's auc: 0.856486\n",
      "[10700]\tvalid_0's auc: 0.856587\n",
      "[10800]\tvalid_0's auc: 0.856686\n",
      "[10900]\tvalid_0's auc: 0.856781\n",
      "[11000]\tvalid_0's auc: 0.856867\n",
      "[11100]\tvalid_0's auc: 0.856955\n",
      "[11200]\tvalid_0's auc: 0.857043\n",
      "[11300]\tvalid_0's auc: 0.857128\n",
      "[11400]\tvalid_0's auc: 0.857211\n",
      "[11500]\tvalid_0's auc: 0.857296\n",
      "[11600]\tvalid_0's auc: 0.85738\n",
      "[11700]\tvalid_0's auc: 0.857447\n",
      "[11800]\tvalid_0's auc: 0.857527\n",
      "[11900]\tvalid_0's auc: 0.857598\n",
      "[12000]\tvalid_0's auc: 0.857671\n",
      "[12100]\tvalid_0's auc: 0.857746\n",
      "[12200]\tvalid_0's auc: 0.857817\n",
      "[12300]\tvalid_0's auc: 0.85789\n",
      "[12400]\tvalid_0's auc: 0.857958\n",
      "[12500]\tvalid_0's auc: 0.858025\n",
      "[12600]\tvalid_0's auc: 0.858097\n",
      "[12700]\tvalid_0's auc: 0.858166\n",
      "[12800]\tvalid_0's auc: 0.858232\n",
      "[12900]\tvalid_0's auc: 0.858293\n",
      "[13000]\tvalid_0's auc: 0.858359\n",
      "[13100]\tvalid_0's auc: 0.858423\n",
      "[13200]\tvalid_0's auc: 0.858493\n",
      "[13300]\tvalid_0's auc: 0.85856\n",
      "[13400]\tvalid_0's auc: 0.858622\n",
      "[13500]\tvalid_0's auc: 0.858678\n",
      "[13600]\tvalid_0's auc: 0.858741\n",
      "[13700]\tvalid_0's auc: 0.858804\n",
      "[13800]\tvalid_0's auc: 0.85886\n",
      "[13900]\tvalid_0's auc: 0.858918\n",
      "[14000]\tvalid_0's auc: 0.858972\n",
      "[14100]\tvalid_0's auc: 0.859032\n",
      "[14200]\tvalid_0's auc: 0.859087\n",
      "[14300]\tvalid_0's auc: 0.859139\n",
      "[14400]\tvalid_0's auc: 0.859199\n",
      "[14500]\tvalid_0's auc: 0.859256\n",
      "[14600]\tvalid_0's auc: 0.859307\n",
      "[14700]\tvalid_0's auc: 0.859354\n",
      "[14800]\tvalid_0's auc: 0.859407\n",
      "[14900]\tvalid_0's auc: 0.859452\n",
      "[15000]\tvalid_0's auc: 0.859501\n",
      "[15100]\tvalid_0's auc: 0.859547\n",
      "[15200]\tvalid_0's auc: 0.859596\n",
      "[15300]\tvalid_0's auc: 0.859645\n",
      "[15400]\tvalid_0's auc: 0.859687\n",
      "[15500]\tvalid_0's auc: 0.859739\n",
      "[15600]\tvalid_0's auc: 0.859783\n",
      "[15700]\tvalid_0's auc: 0.859829\n",
      "[15800]\tvalid_0's auc: 0.859875\n",
      "[15900]\tvalid_0's auc: 0.859917\n",
      "[16000]\tvalid_0's auc: 0.859964\n",
      "[16100]\tvalid_0's auc: 0.860009\n",
      "[16200]\tvalid_0's auc: 0.860051\n",
      "[16300]\tvalid_0's auc: 0.860094\n",
      "[16400]\tvalid_0's auc: 0.860134\n",
      "[16500]\tvalid_0's auc: 0.860176\n",
      "[16600]\tvalid_0's auc: 0.860218\n",
      "[16700]\tvalid_0's auc: 0.86026\n",
      "[16800]\tvalid_0's auc: 0.860305\n",
      "[16900]\tvalid_0's auc: 0.860338\n",
      "[17000]\tvalid_0's auc: 0.860378\n",
      "[17100]\tvalid_0's auc: 0.860424\n",
      "[17200]\tvalid_0's auc: 0.860463\n",
      "[17300]\tvalid_0's auc: 0.860498\n",
      "[17400]\tvalid_0's auc: 0.860536\n",
      "[17500]\tvalid_0's auc: 0.860568\n",
      "[17600]\tvalid_0's auc: 0.860602\n",
      "[17700]\tvalid_0's auc: 0.860641\n",
      "[17800]\tvalid_0's auc: 0.860671\n",
      "[17900]\tvalid_0's auc: 0.860707\n",
      "[18000]\tvalid_0's auc: 0.860744\n",
      "[18100]\tvalid_0's auc: 0.860781\n",
      "[18200]\tvalid_0's auc: 0.860812\n",
      "[18300]\tvalid_0's auc: 0.860843\n",
      "[18400]\tvalid_0's auc: 0.860873\n",
      "[18500]\tvalid_0's auc: 0.860907\n",
      "[18600]\tvalid_0's auc: 0.860937\n",
      "[18700]\tvalid_0's auc: 0.860962\n",
      "[18800]\tvalid_0's auc: 0.860994\n",
      "[18900]\tvalid_0's auc: 0.861025\n",
      "[19000]\tvalid_0's auc: 0.861055\n",
      "[19100]\tvalid_0's auc: 0.861084\n",
      "[19200]\tvalid_0's auc: 0.861112\n",
      "[19300]\tvalid_0's auc: 0.861139\n",
      "[19400]\tvalid_0's auc: 0.861168\n",
      "[19500]\tvalid_0's auc: 0.86119\n",
      "[19600]\tvalid_0's auc: 0.861216\n",
      "[19700]\tvalid_0's auc: 0.861246\n",
      "[19800]\tvalid_0's auc: 0.861271\n",
      "[19900]\tvalid_0's auc: 0.861302\n",
      "[20000]\tvalid_0's auc: 0.861328\n",
      "[20100]\tvalid_0's auc: 0.86135\n",
      "[20200]\tvalid_0's auc: 0.861377\n",
      "[20300]\tvalid_0's auc: 0.861406\n",
      "[20400]\tvalid_0's auc: 0.861434\n",
      "[20500]\tvalid_0's auc: 0.861461\n",
      "[20600]\tvalid_0's auc: 0.861487\n",
      "[20700]\tvalid_0's auc: 0.861505\n",
      "[20800]\tvalid_0's auc: 0.861536\n",
      "[20900]\tvalid_0's auc: 0.861559\n",
      "[21000]\tvalid_0's auc: 0.861583\n",
      "[21100]\tvalid_0's auc: 0.861605\n",
      "[21200]\tvalid_0's auc: 0.86163\n",
      "[21300]\tvalid_0's auc: 0.861654\n",
      "[21400]\tvalid_0's auc: 0.861678\n",
      "[21500]\tvalid_0's auc: 0.861698\n",
      "[21600]\tvalid_0's auc: 0.861723\n",
      "[21700]\tvalid_0's auc: 0.861747\n",
      "[21800]\tvalid_0's auc: 0.861766\n",
      "[21900]\tvalid_0's auc: 0.86179\n",
      "[22000]\tvalid_0's auc: 0.861814\n",
      "[22100]\tvalid_0's auc: 0.861834\n",
      "[22200]\tvalid_0's auc: 0.861856\n",
      "[22300]\tvalid_0's auc: 0.861879\n",
      "[22400]\tvalid_0's auc: 0.861896\n",
      "[22500]\tvalid_0's auc: 0.861912\n",
      "[22600]\tvalid_0's auc: 0.861928\n",
      "[22700]\tvalid_0's auc: 0.861949\n",
      "[22800]\tvalid_0's auc: 0.861972\n",
      "[22900]\tvalid_0's auc: 0.861991\n",
      "[23000]\tvalid_0's auc: 0.862007\n",
      "[23100]\tvalid_0's auc: 0.862023\n",
      "[23200]\tvalid_0's auc: 0.862043\n",
      "[23300]\tvalid_0's auc: 0.862057\n",
      "[23400]\tvalid_0's auc: 0.86208\n",
      "[23500]\tvalid_0's auc: 0.862099\n",
      "[23600]\tvalid_0's auc: 0.862112\n",
      "[23700]\tvalid_0's auc: 0.862124\n",
      "[23800]\tvalid_0's auc: 0.86214\n",
      "[23900]\tvalid_0's auc: 0.862155\n",
      "[24000]\tvalid_0's auc: 0.86217\n",
      "[24100]\tvalid_0's auc: 0.862188\n",
      "[24200]\tvalid_0's auc: 0.862206\n",
      "[24300]\tvalid_0's auc: 0.862225\n",
      "[24400]\tvalid_0's auc: 0.862242\n",
      "[24500]\tvalid_0's auc: 0.862264\n",
      "[24600]\tvalid_0's auc: 0.862284\n",
      "[24700]\tvalid_0's auc: 0.862301\n",
      "[24800]\tvalid_0's auc: 0.862317\n",
      "[24900]\tvalid_0's auc: 0.862334\n",
      "[25000]\tvalid_0's auc: 0.862347\n",
      "Did not meet early stopping. Best iteration is:\n",
      "[25000]\tvalid_0's auc: 0.862347\n"
     ]
    },
    {
     "data": {
      "text/html": [
       "<style>#sk-container-id-1 {color: black;background-color: white;}#sk-container-id-1 pre{padding: 0;}#sk-container-id-1 div.sk-toggleable {background-color: white;}#sk-container-id-1 label.sk-toggleable__label {cursor: pointer;display: block;width: 100%;margin-bottom: 0;padding: 0.3em;box-sizing: border-box;text-align: center;}#sk-container-id-1 label.sk-toggleable__label-arrow:before {content: \"▸\";float: left;margin-right: 0.25em;color: #696969;}#sk-container-id-1 label.sk-toggleable__label-arrow:hover:before {color: black;}#sk-container-id-1 div.sk-estimator:hover label.sk-toggleable__label-arrow:before {color: black;}#sk-container-id-1 div.sk-toggleable__content {max-height: 0;max-width: 0;overflow: hidden;text-align: left;background-color: #f0f8ff;}#sk-container-id-1 div.sk-toggleable__content pre {margin: 0.2em;color: black;border-radius: 0.25em;background-color: #f0f8ff;}#sk-container-id-1 input.sk-toggleable__control:checked~div.sk-toggleable__content {max-height: 200px;max-width: 100%;overflow: auto;}#sk-container-id-1 input.sk-toggleable__control:checked~label.sk-toggleable__label-arrow:before {content: \"▾\";}#sk-container-id-1 div.sk-estimator input.sk-toggleable__control:checked~label.sk-toggleable__label {background-color: #d4ebff;}#sk-container-id-1 div.sk-label input.sk-toggleable__control:checked~label.sk-toggleable__label {background-color: #d4ebff;}#sk-container-id-1 input.sk-hidden--visually {border: 0;clip: rect(1px 1px 1px 1px);clip: rect(1px, 1px, 1px, 1px);height: 1px;margin: -1px;overflow: hidden;padding: 0;position: absolute;width: 1px;}#sk-container-id-1 div.sk-estimator {font-family: monospace;background-color: #f0f8ff;border: 1px dotted black;border-radius: 0.25em;box-sizing: border-box;margin-bottom: 0.5em;}#sk-container-id-1 div.sk-estimator:hover {background-color: #d4ebff;}#sk-container-id-1 div.sk-parallel-item::after {content: \"\";width: 100%;border-bottom: 1px solid gray;flex-grow: 1;}#sk-container-id-1 div.sk-label:hover label.sk-toggleable__label {background-color: #d4ebff;}#sk-container-id-1 div.sk-serial::before {content: \"\";position: absolute;border-left: 1px solid gray;box-sizing: border-box;top: 0;bottom: 0;left: 50%;z-index: 0;}#sk-container-id-1 div.sk-serial {display: flex;flex-direction: column;align-items: center;background-color: white;padding-right: 0.2em;padding-left: 0.2em;position: relative;}#sk-container-id-1 div.sk-item {position: relative;z-index: 1;}#sk-container-id-1 div.sk-parallel {display: flex;align-items: stretch;justify-content: center;background-color: white;position: relative;}#sk-container-id-1 div.sk-item::before, #sk-container-id-1 div.sk-parallel-item::before {content: \"\";position: absolute;border-left: 1px solid gray;box-sizing: border-box;top: 0;bottom: 0;left: 50%;z-index: -1;}#sk-container-id-1 div.sk-parallel-item {display: flex;flex-direction: column;z-index: 1;position: relative;background-color: white;}#sk-container-id-1 div.sk-parallel-item:first-child::after {align-self: flex-end;width: 50%;}#sk-container-id-1 div.sk-parallel-item:last-child::after {align-self: flex-start;width: 50%;}#sk-container-id-1 div.sk-parallel-item:only-child::after {width: 0;}#sk-container-id-1 div.sk-dashed-wrapped {border: 1px dashed gray;margin: 0 0.4em 0.5em 0.4em;box-sizing: border-box;padding-bottom: 0.4em;background-color: white;}#sk-container-id-1 div.sk-label label {font-family: monospace;font-weight: bold;display: inline-block;line-height: 1.2em;}#sk-container-id-1 div.sk-label-container {text-align: center;}#sk-container-id-1 div.sk-container {/* jupyter's `normalize.less` sets `[hidden] { display: none; }` but bootstrap.min.css set `[hidden] { display: none !important; }` so we also need the `!important` here to be able to override the default hidden behavior on the sphinx rendered scikit-learn.org. See: https://github.com/scikit-learn/scikit-learn/issues/21755 */display: inline-block !important;position: relative;}#sk-container-id-1 div.sk-text-repr-fallback {display: none;}</style><div id=\"sk-container-id-1\" class=\"sk-top-container\"><div class=\"sk-text-repr-fallback\"><pre>LGBMClassifier(colsample_bynode=0.8, colsample_bytree=0.8, device=&#x27;gpu&#x27;,\n",
       "               extra_trees=True, importance_type=&#x27;gain&#x27;, learning_rate=0.001,\n",
       "               max_depth=256, metric=&#x27;auc&#x27;, n_estimators=25000, num_leaves=512,\n",
       "               objective=&#x27;binary&#x27;, random_state=42, reg_alpha=0.2,\n",
       "               reg_lambda=20, verbose=-1)</pre><b>In a Jupyter environment, please rerun this cell to show the HTML representation or trust the notebook. <br />On GitHub, the HTML representation is unable to render, please try loading this page with nbviewer.org.</b></div><div class=\"sk-container\" hidden><div class=\"sk-item\"><div class=\"sk-estimator sk-toggleable\"><input class=\"sk-toggleable__control sk-hidden--visually\" id=\"sk-estimator-id-1\" type=\"checkbox\" checked><label for=\"sk-estimator-id-1\" class=\"sk-toggleable__label sk-toggleable__label-arrow\">LGBMClassifier</label><div class=\"sk-toggleable__content\"><pre>LGBMClassifier(colsample_bynode=0.8, colsample_bytree=0.8, device=&#x27;gpu&#x27;,\n",
       "               extra_trees=True, importance_type=&#x27;gain&#x27;, learning_rate=0.001,\n",
       "               max_depth=256, metric=&#x27;auc&#x27;, n_estimators=25000, num_leaves=512,\n",
       "               objective=&#x27;binary&#x27;, random_state=42, reg_alpha=0.2,\n",
       "               reg_lambda=20, verbose=-1)</pre></div></div></div></div></div>"
      ],
      "text/plain": [
       "LGBMClassifier(colsample_bynode=0.8, colsample_bytree=0.8, device='gpu',\n",
       "               extra_trees=True, importance_type='gain', learning_rate=0.001,\n",
       "               max_depth=256, metric='auc', n_estimators=25000, num_leaves=512,\n",
       "               objective='binary', random_state=42, reg_alpha=0.2,\n",
       "               reg_lambda=20, verbose=-1)"
      ]
     },
     "execution_count": 35,
     "metadata": {},
     "output_type": "execute_result"
    }
   ],
   "source": [
    "model = lgb.LGBMClassifier(**params)\n",
    "model.fit(X_train,y_train,eval_set=[(X_valid,y_valid)],callbacks=[lgb.log_evaluation(100),lgb.early_stopping(2000)])"
   ]
  },
  {
   "cell_type": "code",
   "execution_count": 36,
   "id": "d3d5e126",
   "metadata": {
    "execution": {
     "iopub.execute_input": "2024-04-15T13:13:48.810541Z",
     "iopub.status.busy": "2024-04-15T13:13:48.809979Z",
     "iopub.status.idle": "2024-04-15T13:13:48.943434Z",
     "shell.execute_reply": "2024-04-15T13:13:48.942633Z"
    },
    "papermill": {
     "duration": 0.172905,
     "end_time": "2024-04-15T13:13:48.946035",
     "exception": false,
     "start_time": "2024-04-15T13:13:48.773130",
     "status": "completed"
    },
    "tags": []
   },
   "outputs": [],
   "source": [
    "sub_df = pd.DataFrame({\n",
    "    \"case_id\": submission_df['case_id_base'].to_list(),\n",
    "    \"score\": model.predict_proba(submission_df.drop(\"case_id_base\"))[:,1]\n",
    "}).set_index(\"case_id\")\n",
    "sub_df.to_csv(\"./submission.csv\")"
   ]
  }
 ],
 "metadata": {
  "kaggle": {
   "accelerator": "gpu",
   "dataSources": [
    {
     "databundleVersionId": 7921029,
     "sourceId": 50160,
     "sourceType": "competition"
    }
   ],
   "dockerImageVersionId": 30673,
   "isGpuEnabled": true,
   "isInternetEnabled": false,
   "language": "python",
   "sourceType": "notebook"
  },
  "kernelspec": {
   "display_name": "Python 3",
   "language": "python",
   "name": "python3"
  },
  "language_info": {
   "codemirror_mode": {
    "name": "ipython",
    "version": 3
   },
   "file_extension": ".py",
   "mimetype": "text/x-python",
   "name": "python",
   "nbconvert_exporter": "python",
   "pygments_lexer": "ipython3",
   "version": "3.10.13"
  },
  "papermill": {
   "default_parameters": {},
   "duration": 13629.424408,
   "end_time": "2024-04-15T13:13:50.836212",
   "environment_variables": {},
   "exception": null,
   "input_path": "__notebook__.ipynb",
   "output_path": "__notebook__.ipynb",
   "parameters": {},
   "start_time": "2024-04-15T09:26:41.411804",
   "version": "2.5.0"
  }
 },
 "nbformat": 4,
 "nbformat_minor": 5
}
