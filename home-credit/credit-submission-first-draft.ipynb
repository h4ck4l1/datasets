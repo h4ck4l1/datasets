{
 "cells": [
  {
   "cell_type": "code",
   "execution_count": 1,
   "id": "f8d4c99e",
   "metadata": {
    "execution": {
     "iopub.execute_input": "2024-04-24T10:05:20.866148Z",
     "iopub.status.busy": "2024-04-24T10:05:20.865779Z",
     "iopub.status.idle": "2024-04-24T10:05:25.977081Z",
     "shell.execute_reply": "2024-04-24T10:05:25.976145Z"
    },
    "papermill": {
     "duration": 5.125704,
     "end_time": "2024-04-24T10:05:25.979260",
     "exception": false,
     "start_time": "2024-04-24T10:05:20.853556",
     "status": "completed"
    },
    "tags": []
   },
   "outputs": [
    {
     "name": "stdout",
     "output_type": "stream",
     "text": [
      "Exception reporting mode: Minimal\n"
     ]
    }
   ],
   "source": [
    "import os,sys,warnings,re,math,gc,time\n",
    "warnings.filterwarnings('ignore')\n",
    "import numpy as np\n",
    "import pandas as pd\n",
    "import polars as pl\n",
    "import polars.selectors as cs\n",
    "from glob import glob\n",
    "from sklearn.metrics import roc_auc_score,auc\n",
    "from sklearn.neighbors import KNeighborsClassifier\n",
    "from sklearn.model_selection import train_test_split,StratifiedKFold,StratifiedGroupKFold\n",
    "from sklearn.preprocessing import OrdinalEncoder\n",
    "import lightgbm as lgb\n",
    "%xmode Minimal"
   ]
  },
  {
   "cell_type": "code",
   "execution_count": 2,
   "id": "53d83a15",
   "metadata": {
    "execution": {
     "iopub.execute_input": "2024-04-24T10:05:26.002771Z",
     "iopub.status.busy": "2024-04-24T10:05:26.001997Z",
     "iopub.status.idle": "2024-04-24T10:05:26.011776Z",
     "shell.execute_reply": "2024-04-24T10:05:26.010942Z"
    },
    "papermill": {
     "duration": 0.02353,
     "end_time": "2024-04-24T10:05:26.013640",
     "exception": false,
     "start_time": "2024-04-24T10:05:25.990110",
     "status": "completed"
    },
    "tags": []
   },
   "outputs": [
    {
     "data": {
      "text/plain": [
       "polars.config.Config"
      ]
     },
     "execution_count": 2,
     "metadata": {},
     "output_type": "execute_result"
    }
   ],
   "source": [
    "pl.Config.set_fmt_str_lengths(100)\n",
    "pl.Config.set_thousands_separator(\",\")\n",
    "pl.Config.set_float_precision(2)\n",
    "pl.Config.set_fmt_float(\"full\")\n",
    "pl.Config.set_tbl_rows(6)"
   ]
  },
  {
   "cell_type": "code",
   "execution_count": 3,
   "id": "fec41141",
   "metadata": {
    "execution": {
     "iopub.execute_input": "2024-04-24T10:05:26.039722Z",
     "iopub.status.busy": "2024-04-24T10:05:26.039200Z",
     "iopub.status.idle": "2024-04-24T10:05:26.043984Z",
     "shell.execute_reply": "2024-04-24T10:05:26.043266Z"
    },
    "papermill": {
     "duration": 0.019937,
     "end_time": "2024-04-24T10:05:26.046334",
     "exception": false,
     "start_time": "2024-04-24T10:05:26.026397",
     "status": "completed"
    },
    "tags": []
   },
   "outputs": [],
   "source": [
    "path_to_train = \"/kaggle/input/home-credit-credit-risk-model-stability/parquet_files/train\"\n",
    "path_to_test = \"/kaggle/input/home-credit-credit-risk-model-stability/parquet_files/test\"\n",
    "path_to_features = \"/kaggle/input/home-credit-credit-risk-model-stability/feature_definitions.csv\""
   ]
  },
  {
   "cell_type": "code",
   "execution_count": 4,
   "id": "60d27fae",
   "metadata": {
    "execution": {
     "iopub.execute_input": "2024-04-24T10:05:26.070061Z",
     "iopub.status.busy": "2024-04-24T10:05:26.069443Z",
     "iopub.status.idle": "2024-04-24T10:05:26.111824Z",
     "shell.execute_reply": "2024-04-24T10:05:26.111135Z"
    },
    "papermill": {
     "duration": 0.055281,
     "end_time": "2024-04-24T10:05:26.113691",
     "exception": false,
     "start_time": "2024-04-24T10:05:26.058410",
     "status": "completed"
    },
    "tags": []
   },
   "outputs": [],
   "source": [
    "feat_df = pl.read_csv(path_to_features)\n",
    "# feat_df.head()"
   ]
  },
  {
   "cell_type": "code",
   "execution_count": 5,
   "id": "4b6364d9",
   "metadata": {
    "execution": {
     "iopub.execute_input": "2024-04-24T10:05:26.135945Z",
     "iopub.status.busy": "2024-04-24T10:05:26.135391Z",
     "iopub.status.idle": "2024-04-24T10:05:26.213161Z",
     "shell.execute_reply": "2024-04-24T10:05:26.212305Z"
    },
    "papermill": {
     "duration": 0.091576,
     "end_time": "2024-04-24T10:05:26.215692",
     "exception": false,
     "start_time": "2024-04-24T10:05:26.124116",
     "status": "completed"
    },
    "tags": []
   },
   "outputs": [],
   "source": [
    "all_train_files = glob(path_to_train+\"/*.parquet\")\n",
    "all_test_files = glob(path_to_test+\"/*.parquet\")\n",
    "train_files_df = pl.DataFrame({\"index\":range(len(all_train_files)),\"path\":all_train_files})\n",
    "test_files_df = pl.DataFrame({\"index\":range(len(all_test_files)),\"path\":all_test_files})\n",
    "train_files_df = (\n",
    "    train_files_df\n",
    "    .with_columns(\n",
    "        (pl.col(\"path\").str.split(\"/\").list.get(-1)).alias(\"filename\")\n",
    "    )\n",
    "    .sort(by=\"filename\")\n",
    ")\n",
    "test_files_df = (\n",
    "    test_files_df\n",
    "    .with_columns(\n",
    "        (pl.col(\"path\").str.split(\"/\").list.get(-1)).alias(\"filename\")\n",
    "    )\n",
    "    .sort(by=\"filename\")\n",
    ")\n",
    "# display(train_files_df.head())\n",
    "# display(test_files_df.head())"
   ]
  },
  {
   "cell_type": "code",
   "execution_count": 6,
   "id": "ee2a38f9",
   "metadata": {
    "execution": {
     "iopub.execute_input": "2024-04-24T10:05:26.242220Z",
     "iopub.status.busy": "2024-04-24T10:05:26.241940Z",
     "iopub.status.idle": "2024-04-24T10:05:26.972248Z",
     "shell.execute_reply": "2024-04-24T10:05:26.971462Z"
    },
    "papermill": {
     "duration": 0.743827,
     "end_time": "2024-04-24T10:05:26.974583",
     "exception": false,
     "start_time": "2024-04-24T10:05:26.230756",
     "status": "completed"
    },
    "tags": []
   },
   "outputs": [],
   "source": [
    "train_base = (\n",
    "    pl.read_parquet(path_to_train+\"/train_base.parquet\")\n",
    "    .select(\n",
    "        pl.col(\"case_id\").cast(pl.UInt32).alias(\"case_id_base\"),\n",
    "        cs.contains(\"date\").str.to_date().alias(\"Date\"),\n",
    "        pl.col(\"target\").cast(pl.UInt8)\n",
    "    )\n",
    "    .with_columns(\n",
    "        pl.col(\"Date\").dt.month().alias(\"month\"),\n",
    "        pl.col(\"Date\").dt.week().alias(\"week\"),\n",
    "        pl.col(\"Date\").dt.weekday().alias(\"weekday\"),\n",
    "        (pl.col(\"Date\").dt.year() - 2019).alias(\"year\")\n",
    "    )\n",
    "    .select(~cs.contains(\"target\"),cs.contains(\"target\"))\n",
    ")\n",
    "# train_base"
   ]
  },
  {
   "cell_type": "code",
   "execution_count": 7,
   "id": "687a03df",
   "metadata": {
    "execution": {
     "iopub.execute_input": "2024-04-24T10:05:26.998326Z",
     "iopub.status.busy": "2024-04-24T10:05:26.997584Z",
     "iopub.status.idle": "2024-04-24T10:05:27.016781Z",
     "shell.execute_reply": "2024-04-24T10:05:27.015890Z"
    },
    "papermill": {
     "duration": 0.032674,
     "end_time": "2024-04-24T10:05:27.018826",
     "exception": false,
     "start_time": "2024-04-24T10:05:26.986152",
     "status": "completed"
    },
    "tags": []
   },
   "outputs": [],
   "source": [
    "test_base = (\n",
    "    pl.read_parquet(path_to_test+\"/test_base.parquet\")\n",
    "    .select(\n",
    "        pl.col(\"case_id\").cast(pl.UInt32).alias(\"case_id_base\"),\n",
    "        cs.contains(\"date\").str.to_date().alias(\"Date\"),\n",
    "    )\n",
    "    .with_columns(\n",
    "        pl.col(\"Date\").dt.month().alias(\"month\"),\n",
    "        pl.col(\"Date\").dt.week().alias(\"week\"),\n",
    "        pl.col(\"Date\").dt.weekday().alias(\"weekday\"),\n",
    "        (pl.col(\"Date\").dt.year() - 2019).alias(\"year\"),\n",
    "        pl.lit(0).cast(pl.UInt8).alias(\"target\")\n",
    "    )\n",
    ")\n",
    "# test_base"
   ]
  },
  {
   "cell_type": "code",
   "execution_count": 8,
   "id": "4c3cdc50",
   "metadata": {
    "execution": {
     "iopub.execute_input": "2024-04-24T10:05:27.040462Z",
     "iopub.status.busy": "2024-04-24T10:05:27.040191Z",
     "iopub.status.idle": "2024-04-24T10:05:27.069477Z",
     "shell.execute_reply": "2024-04-24T10:05:27.068744Z"
    },
    "papermill": {
     "duration": 0.04241,
     "end_time": "2024-04-24T10:05:27.071514",
     "exception": false,
     "start_time": "2024-04-24T10:05:27.029104",
     "status": "completed"
    },
    "tags": []
   },
   "outputs": [],
   "source": [
    "total_base = (\n",
    "    pl.concat(\n",
    "        [\n",
    "            train_base,\n",
    "            test_base\n",
    "        ],\n",
    "        how=\"vertical\"\n",
    "    )\n",
    ")"
   ]
  },
  {
   "cell_type": "code",
   "execution_count": 9,
   "id": "1e7b581a",
   "metadata": {
    "execution": {
     "iopub.execute_input": "2024-04-24T10:05:27.094083Z",
     "iopub.status.busy": "2024-04-24T10:05:27.093587Z",
     "iopub.status.idle": "2024-04-24T10:05:27.108330Z",
     "shell.execute_reply": "2024-04-24T10:05:27.107386Z"
    },
    "papermill": {
     "duration": 0.028062,
     "end_time": "2024-04-24T10:05:27.110288",
     "exception": false,
     "start_time": "2024-04-24T10:05:27.082226",
     "status": "completed"
    },
    "tags": []
   },
   "outputs": [],
   "source": [
    "def reduce_dtypes(df:pl.DataFrame):\n",
    "    return (\n",
    "        df\n",
    "        .with_columns(\n",
    "            cs.by_name(\"case_id\").cast(pl.UInt32),\n",
    "            cs.contains(\"num_group\").cast(pl.UInt16),\n",
    "            cs.ends_with(\"D\").cast(pl.Date),\n",
    "            cs.ends_with(\"T\",\"M\").cast(pl.String),\n",
    "            cs.ends_with(\"P\",\"A\").cast(pl.Float32),\n",
    "            (cs.ends_with(\"L\") & cs.numeric()).cast(pl.Float32),\n",
    "        )\n",
    "    )\n",
    "\n",
    "def grouping(df):\n",
    "    return (\n",
    "        df\n",
    "        .group_by(\"case_id\")\n",
    "        .agg(\n",
    "            cs.numeric().max(),\n",
    "            (~cs.numeric()).drop_nulls().mode().first()\n",
    "        )\n",
    "    )\n",
    "\n",
    "def preprocess(filter_string:str,prefix_string:str):\n",
    "    train_files_list = train_files_df.filter(pl.col(\"filename\").str.contains(filter_string))[\"path\"].to_list()\n",
    "    test_files_list = test_files_df.filter(pl.col(\"filename\").str.contains(filter_string))[\"path\"].to_list()\n",
    "    with pl.StringCache():\n",
    "        train_df = (\n",
    "            pl.concat(\n",
    "                [\n",
    "                    pl.read_parquet(_).pipe(reduce_dtypes).pipe(grouping) for _ in train_files_list\n",
    "                ]\n",
    "            )\n",
    "        )\n",
    "        test_df = (\n",
    "            pl.concat(\n",
    "                [\n",
    "                    pl.read_parquet(_).select(train_df.columns).cast(train_df.schema).pipe(grouping) for _ in test_files_list\n",
    "                ]\n",
    "            )\n",
    "        )\n",
    "    return (\n",
    "        pl.concat(\n",
    "            [\n",
    "                train_df,\n",
    "                test_df\n",
    "            ],\n",
    "            how=\"vertical_relaxed\"\n",
    "        )\n",
    "        .pipe(lambda df: df.rename({_:f\"{prefix_string}_{_}\" for _ in df.columns if not _ == 'case_id'}))\n",
    "    )\n",
    "\n",
    "def select_low_catcols(df:pl.DataFrame,thresh=200):\n",
    "    col_names = []\n",
    "    for col_name in df.select(cs.categorical()).columns:\n",
    "        if df.select(pl.col(col_name).value_counts()).shape[0] > thresh:\n",
    "            col_names.append(col_name)\n",
    "    return df.select(~cs.by_name(col_names))\n",
    "    \n",
    "\n",
    "def select_impuatable(df:pl.DataFrame,thresh=0.95):\n",
    "    cols =  (\n",
    "        df\n",
    "        .select(pl.all().is_null().mean())\n",
    "        .transpose(include_header=True)\n",
    "        .filter(pl.col(\"column_0\") < thresh)\n",
    "        [\"column\"].to_list()\n",
    "    )\n",
    "    return df.select(cols)"
   ]
  },
  {
   "cell_type": "code",
   "execution_count": 10,
   "id": "d7adb547",
   "metadata": {
    "execution": {
     "iopub.execute_input": "2024-04-24T10:05:27.132926Z",
     "iopub.status.busy": "2024-04-24T10:05:27.132205Z",
     "iopub.status.idle": "2024-04-24T10:06:14.490778Z",
     "shell.execute_reply": "2024-04-24T10:06:14.489690Z"
    },
    "papermill": {
     "duration": 47.37247,
     "end_time": "2024-04-24T10:06:14.493369",
     "exception": false,
     "start_time": "2024-04-24T10:05:27.120899",
     "status": "completed"
    },
    "tags": []
   },
   "outputs": [],
   "source": [
    "total_past_shallow = preprocess(\"applprev_1\",\"past_shallow\")\n",
    "# total_past_shallow"
   ]
  },
  {
   "cell_type": "code",
   "execution_count": 11,
   "id": "b5f51856",
   "metadata": {
    "execution": {
     "iopub.execute_input": "2024-04-24T10:06:14.517636Z",
     "iopub.status.busy": "2024-04-24T10:06:14.517325Z",
     "iopub.status.idle": "2024-04-24T10:06:26.793289Z",
     "shell.execute_reply": "2024-04-24T10:06:26.792266Z"
    },
    "papermill": {
     "duration": 12.290723,
     "end_time": "2024-04-24T10:06:26.795858",
     "exception": false,
     "start_time": "2024-04-24T10:06:14.505135",
     "status": "completed"
    },
    "tags": []
   },
   "outputs": [],
   "source": [
    "total_past_depth = preprocess(\"applprev_2\",\"past_depth\")\n",
    "# total_past_depth"
   ]
  },
  {
   "cell_type": "code",
   "execution_count": 12,
   "id": "c35674e9",
   "metadata": {
    "execution": {
     "iopub.execute_input": "2024-04-24T10:06:26.818278Z",
     "iopub.status.busy": "2024-04-24T10:06:26.818008Z",
     "iopub.status.idle": "2024-04-24T10:07:52.549559Z",
     "shell.execute_reply": "2024-04-24T10:07:52.548766Z"
    },
    "papermill": {
     "duration": 85.745473,
     "end_time": "2024-04-24T10:07:52.552153",
     "exception": false,
     "start_time": "2024-04-24T10:06:26.806680",
     "status": "completed"
    },
    "tags": []
   },
   "outputs": [],
   "source": [
    "total_static_base = preprocess(\"static_0\",\"static_base\")\n",
    "# total_static_base"
   ]
  },
  {
   "cell_type": "code",
   "execution_count": 13,
   "id": "166b9f80",
   "metadata": {
    "execution": {
     "iopub.execute_input": "2024-04-24T10:07:52.575010Z",
     "iopub.status.busy": "2024-04-24T10:07:52.574681Z",
     "iopub.status.idle": "2024-04-24T10:08:33.086630Z",
     "shell.execute_reply": "2024-04-24T10:08:33.085855Z"
    },
    "papermill": {
     "duration": 40.525696,
     "end_time": "2024-04-24T10:08:33.088894",
     "exception": false,
     "start_time": "2024-04-24T10:07:52.563198",
     "status": "completed"
    },
    "tags": []
   },
   "outputs": [],
   "source": [
    "total_static_external = (\n",
    "    preprocess(\"static_cb\",\"static_external\")\n",
    "    .with_columns(\n",
    "        pl.col(\"static_external_riskassesment_302T\").str.split(\"%\").list.gather([0,1]).apply(lambda x: (int(x[0])+int(x[1].split(\"-\")[1]))/200)\n",
    "    )\n",
    ")\n",
    "# total_static_external"
   ]
  },
  {
   "cell_type": "code",
   "execution_count": 14,
   "id": "d3117493",
   "metadata": {
    "execution": {
     "iopub.execute_input": "2024-04-24T10:08:33.111654Z",
     "iopub.status.busy": "2024-04-24T10:08:33.111354Z",
     "iopub.status.idle": "2024-04-24T10:09:46.290751Z",
     "shell.execute_reply": "2024-04-24T10:09:46.289920Z"
    },
    "papermill": {
     "duration": 73.193232,
     "end_time": "2024-04-24T10:09:46.293196",
     "exception": false,
     "start_time": "2024-04-24T10:08:33.099964",
     "status": "completed"
    },
    "tags": []
   },
   "outputs": [],
   "source": [
    "total_person_shallow = preprocess(\"person_1\",\"person_shallow\")\n",
    "# total_person_shallow"
   ]
  },
  {
   "cell_type": "code",
   "execution_count": 15,
   "id": "b4344b1d",
   "metadata": {
    "execution": {
     "iopub.execute_input": "2024-04-24T10:09:46.315861Z",
     "iopub.status.busy": "2024-04-24T10:09:46.315570Z",
     "iopub.status.idle": "2024-04-24T10:10:02.536229Z",
     "shell.execute_reply": "2024-04-24T10:10:02.535444Z"
    },
    "papermill": {
     "duration": 16.234351,
     "end_time": "2024-04-24T10:10:02.538548",
     "exception": false,
     "start_time": "2024-04-24T10:09:46.304197",
     "status": "completed"
    },
    "tags": []
   },
   "outputs": [],
   "source": [
    "total_person_depth = preprocess(\"person_2\",\"person_depth\")\n",
    "# total_person_depth"
   ]
  },
  {
   "cell_type": "code",
   "execution_count": 16,
   "id": "d0024b04",
   "metadata": {
    "execution": {
     "iopub.execute_input": "2024-04-24T10:10:02.560800Z",
     "iopub.status.busy": "2024-04-24T10:10:02.560530Z",
     "iopub.status.idle": "2024-04-24T10:10:02.593135Z",
     "shell.execute_reply": "2024-04-24T10:10:02.592278Z"
    },
    "papermill": {
     "duration": 0.045699,
     "end_time": "2024-04-24T10:10:02.595062",
     "exception": false,
     "start_time": "2024-04-24T10:10:02.549363",
     "status": "completed"
    },
    "tags": []
   },
   "outputs": [],
   "source": [
    "total_other_shallow = preprocess(\"other_1\",\"other_shallow\")\n",
    "# total_other_shallow"
   ]
  },
  {
   "cell_type": "code",
   "execution_count": 17,
   "id": "031ba8aa",
   "metadata": {
    "execution": {
     "iopub.execute_input": "2024-04-24T10:10:02.617965Z",
     "iopub.status.busy": "2024-04-24T10:10:02.617612Z",
     "iopub.status.idle": "2024-04-24T10:10:03.016403Z",
     "shell.execute_reply": "2024-04-24T10:10:03.015559Z"
    },
    "papermill": {
     "duration": 0.413224,
     "end_time": "2024-04-24T10:10:03.018687",
     "exception": false,
     "start_time": "2024-04-24T10:10:02.605463",
     "status": "completed"
    },
    "tags": []
   },
   "outputs": [],
   "source": [
    "total_deposit_shallow = preprocess(\"deposit_1\",\"deposit_shallow\")\n",
    "# total_deposit_shallow"
   ]
  },
  {
   "cell_type": "code",
   "execution_count": 18,
   "id": "57571e45",
   "metadata": {
    "execution": {
     "iopub.execute_input": "2024-04-24T10:10:03.041973Z",
     "iopub.status.busy": "2024-04-24T10:10:03.041658Z",
     "iopub.status.idle": "2024-04-24T10:10:03.341509Z",
     "shell.execute_reply": "2024-04-24T10:10:03.340555Z"
    },
    "papermill": {
     "duration": 0.313874,
     "end_time": "2024-04-24T10:10:03.343925",
     "exception": false,
     "start_time": "2024-04-24T10:10:03.030051",
     "status": "completed"
    },
    "tags": []
   },
   "outputs": [],
   "source": [
    "total_debitcard_shallow = preprocess(\"debitcard\",\"card_shallow\")\n",
    "# total_debitcard_shallow"
   ]
  },
  {
   "cell_type": "code",
   "execution_count": 19,
   "id": "a2915574",
   "metadata": {
    "execution": {
     "iopub.execute_input": "2024-04-24T10:10:03.366652Z",
     "iopub.status.busy": "2024-04-24T10:10:03.366345Z",
     "iopub.status.idle": "2024-04-24T10:11:53.072247Z",
     "shell.execute_reply": "2024-04-24T10:11:53.071131Z"
    },
    "papermill": {
     "duration": 109.720165,
     "end_time": "2024-04-24T10:11:53.075091",
     "exception": false,
     "start_time": "2024-04-24T10:10:03.354926",
     "status": "completed"
    },
    "tags": []
   },
   "outputs": [],
   "source": [
    "total_credit_internal_shallow = preprocess(\"bureau_a_1\",\"int_shallow\")\n",
    "# total_credit_internal_shallow"
   ]
  },
  {
   "cell_type": "code",
   "execution_count": 20,
   "id": "cf722c96",
   "metadata": {
    "execution": {
     "iopub.execute_input": "2024-04-24T10:11:53.098017Z",
     "iopub.status.busy": "2024-04-24T10:11:53.097679Z",
     "iopub.status.idle": "2024-04-24T10:14:30.199448Z",
     "shell.execute_reply": "2024-04-24T10:14:30.198387Z"
    },
    "papermill": {
     "duration": 157.115973,
     "end_time": "2024-04-24T10:14:30.202006",
     "exception": false,
     "start_time": "2024-04-24T10:11:53.086033",
     "status": "completed"
    },
    "tags": []
   },
   "outputs": [],
   "source": [
    "total_credit_internal_depth = preprocess(\"bureau_a_2\",\"int_depth\")\n",
    "# total_credit_internal_depth"
   ]
  },
  {
   "cell_type": "code",
   "execution_count": 21,
   "id": "7740cadb",
   "metadata": {
    "execution": {
     "iopub.execute_input": "2024-04-24T10:14:30.225003Z",
     "iopub.status.busy": "2024-04-24T10:14:30.224594Z",
     "iopub.status.idle": "2024-04-24T10:14:31.094840Z",
     "shell.execute_reply": "2024-04-24T10:14:31.093630Z"
    },
    "papermill": {
     "duration": 0.884439,
     "end_time": "2024-04-24T10:14:31.097647",
     "exception": false,
     "start_time": "2024-04-24T10:14:30.213208",
     "status": "completed"
    },
    "tags": []
   },
   "outputs": [],
   "source": [
    "total_credit_external_shallow = preprocess(\"bureau_b_1\",\"ext_shallow\")\n",
    "# total_credit_external_shallow"
   ]
  },
  {
   "cell_type": "code",
   "execution_count": 22,
   "id": "dc80f0c4",
   "metadata": {
    "execution": {
     "iopub.execute_input": "2024-04-24T10:14:31.131536Z",
     "iopub.status.busy": "2024-04-24T10:14:31.130091Z",
     "iopub.status.idle": "2024-04-24T10:14:31.779865Z",
     "shell.execute_reply": "2024-04-24T10:14:31.778869Z"
    },
    "papermill": {
     "duration": 0.673519,
     "end_time": "2024-04-24T10:14:31.783342",
     "exception": false,
     "start_time": "2024-04-24T10:14:31.109823",
     "status": "completed"
    },
    "tags": []
   },
   "outputs": [],
   "source": [
    "total_credit_external_depth = preprocess(\"bureau_b_2\",\"ext_depth\")\n",
    "# total_credit_external_depth"
   ]
  },
  {
   "cell_type": "code",
   "execution_count": 23,
   "id": "6ec9f197",
   "metadata": {
    "execution": {
     "iopub.execute_input": "2024-04-24T10:14:31.809480Z",
     "iopub.status.busy": "2024-04-24T10:14:31.808722Z",
     "iopub.status.idle": "2024-04-24T10:14:35.106477Z",
     "shell.execute_reply": "2024-04-24T10:14:35.105549Z"
    },
    "papermill": {
     "duration": 3.312161,
     "end_time": "2024-04-24T10:14:35.108982",
     "exception": false,
     "start_time": "2024-04-24T10:14:31.796821",
     "status": "completed"
    },
    "tags": []
   },
   "outputs": [],
   "source": [
    "total_registry_a = preprocess(\"registry_a\",\"reg_a\")\n",
    "# total_registry_a"
   ]
  },
  {
   "cell_type": "code",
   "execution_count": 24,
   "id": "424482ea",
   "metadata": {
    "execution": {
     "iopub.execute_input": "2024-04-24T10:14:35.131267Z",
     "iopub.status.busy": "2024-04-24T10:14:35.130982Z",
     "iopub.status.idle": "2024-04-24T10:14:36.092684Z",
     "shell.execute_reply": "2024-04-24T10:14:36.091705Z"
    },
    "papermill": {
     "duration": 0.97511,
     "end_time": "2024-04-24T10:14:36.095075",
     "exception": false,
     "start_time": "2024-04-24T10:14:35.119965",
     "status": "completed"
    },
    "tags": []
   },
   "outputs": [],
   "source": [
    "total_registry_b = preprocess(\"registry_b\",\"reg_b\")\n",
    "# total_registry_b"
   ]
  },
  {
   "cell_type": "code",
   "execution_count": 25,
   "id": "db440ef3",
   "metadata": {
    "execution": {
     "iopub.execute_input": "2024-04-24T10:14:36.117243Z",
     "iopub.status.busy": "2024-04-24T10:14:36.116956Z",
     "iopub.status.idle": "2024-04-24T10:14:39.124731Z",
     "shell.execute_reply": "2024-04-24T10:14:39.123828Z"
    },
    "papermill": {
     "duration": 3.021958,
     "end_time": "2024-04-24T10:14:39.127622",
     "exception": false,
     "start_time": "2024-04-24T10:14:36.105664",
     "status": "completed"
    },
    "tags": []
   },
   "outputs": [],
   "source": [
    "total_registry_c = preprocess(\"registry_c\",\"reg_c\")\n",
    "# total_registry_c"
   ]
  },
  {
   "cell_type": "code",
   "execution_count": 26,
   "id": "92b8dc38",
   "metadata": {
    "_kg_hide-input": true,
    "execution": {
     "iopub.execute_input": "2024-04-24T10:14:39.153542Z",
     "iopub.status.busy": "2024-04-24T10:14:39.153261Z",
     "iopub.status.idle": "2024-04-24T10:14:39.174960Z",
     "shell.execute_reply": "2024-04-24T10:14:39.174068Z"
    },
    "papermill": {
     "duration": 0.035285,
     "end_time": "2024-04-24T10:14:39.176867",
     "exception": false,
     "start_time": "2024-04-24T10:14:39.141582",
     "status": "completed"
    },
    "tags": []
   },
   "outputs": [],
   "source": [
    "select_columns = [\n",
    "    'case_id_base',\n",
    "    'static_base_numinstpaidearly5dest_4493211L',\n",
    "    'reg_c_num_group1',\n",
    "    'static_base_applicationscnt_1086L',\n",
    "    'static_base_clientscnt6m_3712949L',\n",
    "    'int_shallow_refreshdate_3813885D',\n",
    "    'past_shallow_credacc_status_367L',\n",
    "    'int_shallow_contractst_545M',\n",
    "    'static_base_numinstpaidearlyest_4493214L',\n",
    "    'int_shallow_periodicityofpmts_1102L',\n",
    "    'person_shallow_contaddr_smempladdr_334L',\n",
    "    'static_base_clientscnt_887L',\n",
    "    'past_shallow_isbidproduct_390L',\n",
    "    'static_base_numinstpaidearly5dobd_4499205L',\n",
    "    'static_base_numactiverelcontr_750L',\n",
    "    'static_base_avgdbdtollast24m_4525197P',\n",
    "    'int_shallow_lastupdate_1112D',\n",
    "    'static_base_lastrejectcommoditycat_161M',\n",
    "    'static_base_numcontrs3months_479L',\n",
    "    'static_base_numinstregularpaidest_4493210L',\n",
    "    'past_shallow_cancelreason_3545846M',\n",
    "    'int_shallow_contractst_964M',\n",
    "    'static_base_clientscnt12m_3712952L',\n",
    "    'static_base_numinstpaid_4499208L',\n",
    "    'int_shallow_purposeofcred_874M',\n",
    "    'int_shallow_numberofcontrsvalue_258L',\n",
    "    'static_base_numinstpaidearly_338L',\n",
    "    'static_base_numinstlswithdpd5_4187116L',\n",
    "    'int_shallow_totaldebtoverduevalue_718A',\n",
    "    'static_base_maxdbddpdtollast6m_4187119P',\n",
    "    'static_external_maritalst_893M',\n",
    "    'static_base_numnotactivated_1143L',\n",
    "    'past_depth_credacc_cards_status_52L',\n",
    "    'past_depth_num_group2',\n",
    "    'static_base_clientscnt_1071L',\n",
    "    'reg_b_num_group1',\n",
    "    'static_external_secondquarter_766L',\n",
    "    'static_base_numinstpaidearly3dest_4493216L',\n",
    "    'past_shallow_childnum_21L',\n",
    "    'static_base_numinstpaidlastcontr_4325080L',\n",
    "    'int_shallow_periodicityofpmts_837L',\n",
    "    'static_base_numinstregularpaid_973L',\n",
    "    'deposit_shallow_openingdate_313D',\n",
    "    'card_shallow_openingdate_857D',\n",
    "    'static_base_maxdpdlast3m_392P',\n",
    "    'static_base_numinstls_657L',\n",
    "    'static_base_numactivecreds_622L',\n",
    "    'int_shallow_prolongationcount_1120L',\n",
    "    'static_base_sellerplacecnt_915L',\n",
    "    'person_shallow_personindex_1023L',\n",
    "    'static_external_thirdquarter_1082L',\n",
    "    'static_external_fourthquarter_440L',\n",
    "    'static_external_firstquarter_103L',\n",
    "    'static_base_mindbdtollast24m_4525191P',\n",
    "    'static_base_lastcancelreason_561M',\n",
    "    'static_base_avgdbddpdlast3m_4187120P',\n",
    "    'static_base_maxdpdinstlnum_3546846P',\n",
    "    'person_shallow_type_25L',\n",
    "    'static_base_validfrom_1069D',\n",
    "    'static_base_numinstpaidlate1d_3546852L',\n",
    "    'static_base_maxdbddpdlast1m_3658939P',\n",
    "    'reg_b_deductiondate_4917603D',\n",
    "    'past_shallow_credacc_minhisbal_90A',\n",
    "    'person_shallow_num_group1',\n",
    "    'static_base_numinstmatpaidtearly2d_4499204L',\n",
    "    'int_shallow_contractsum_5085717L',\n",
    "    'static_base_avgdbddpdlast24m_3658932P',\n",
    "    'static_external_contractssum_5085716L',\n",
    "    'static_base_applicationscnt_867L',\n",
    "    'static_base_lastapprcommoditycat_1041M',\n",
    "    'person_shallow_empl_industry_691L',\n",
    "    'static_base_numinstpaidearly3d_3546850L',\n",
    "    'static_base_cntincpaycont9m_3716944L',\n",
    "    'static_base_sellerplacescnt_216L',\n",
    "    'past_shallow_credacc_maxhisbal_375A',\n",
    "    'static_base_numinstunpaidmaxest_4493212L',\n",
    "    'int_shallow_num_group1',\n",
    "    'static_base_numinstlallpaidearly3d_817L',\n",
    "    'static_base_avglnamtstart24m_4525187A',\n",
    "    'person_depth_num_group1',\n",
    "    'static_base_numinsttopaygrest_4493213L',\n",
    "    'past_depth_conts_type_509L',\n",
    "    'static_external_assignmentdate_238D',\n",
    "    'int_shallow_numberofinstls_229L',\n",
    "    'past_shallow_revolvingaccount_394A',\n",
    "    'int_shallow_numberofoverdueinstls_725L',\n",
    "    'static_base_numinstlswithoutdpd_562L',\n",
    "    'static_base_numincomingpmts_3546848L',\n",
    "    'int_shallow_financialinstitution_382M',\n",
    "    'static_base_homephncnt_628L',\n",
    "    'static_base_lastst_736L',\n",
    "    'static_base_clientscnt_533L',\n",
    "    'static_base_numinstlsallpaid_934L',\n",
    "    'static_base_mindbddpdlast24m_3658935P',\n",
    "    'static_external_pmtscount_423L',\n",
    "    'static_base_numinstunpaidmax_3546851L',\n",
    "    'static_base_numactivecredschannel_414L',\n",
    "    'int_shallow_numberofoutstandinstls_59L',\n",
    "    'static_base_opencred_647L',\n",
    "    'static_external_pmtaverage_4527227A',\n",
    "    'static_base_monthsannuity_845L',\n",
    "    'deposit_shallow_amount_416A',\n",
    "    'static_base_maxdpdlast6m_474P',\n",
    "    'static_base_maxlnamtstart6m_4525199A',\n",
    "    'static_base_totinstallast1m_4525188A',\n",
    "    'static_base_maxpmtlast3m_4525190A',\n",
    "    'reg_b_amount_4917619A',\n",
    "    'static_base_avgpmtlast12m_4525200A',\n",
    "    'person_shallow_education_927M',\n",
    "    'past_shallow_rejectreason_755M',\n",
    "    'past_shallow_isdebitcard_527L',\n",
    "    'past_shallow_credacc_actualbalance_314A',\n",
    "    'static_base_dtlastpmtallstes_4499206D',\n",
    "    'static_base_numinsttopaygr_769L',\n",
    "    'static_base_lastrejectreasonclient_4145040M',\n",
    "    'person_shallow_safeguarantyflag_411L',\n",
    "    'static_external_pmtaverage_3A',\n",
    "    'static_base_numrejects9m_859L',\n",
    "    'static_base_maxdbddpdtollast12m_3658940P',\n",
    "    'past_shallow_postype_4733339M',\n",
    "    'static_external_numberofqueries_373L',\n",
    "    'static_base_avgmaxdpdlast9m_3716943P',\n",
    "    'static_base_posfpd10lastmonth_333P',\n",
    "    'int_shallow_numberofinstls_320L',\n",
    "    'static_external_days360_512L',\n",
    "    'static_base_lastactivateddate_801D',\n",
    "    'static_base_maxoutstandbalancel12m_4187113A',\n",
    "    'static_base_datefirstoffer_1144D',\n",
    "    'static_base_lastapprdate_640D',\n",
    "    'static_base_numinstlswithdpd10_728L',\n",
    "    'static_base_maxdpdtolerance_374P',\n",
    "    'int_shallow_numberofcontrsvalue_358L',\n",
    "    'reg_c_processingdate_168D',\n",
    "    'static_base_maxdpdfrom6mto36m_3546853P',\n",
    "    'static_base_twobodfilling_608L',\n",
    "    'static_base_annuitynextmonth_57A',\n",
    "    'static_base_avginstallast24m_3658937A',\n",
    "    'static_base_sumoutstandtotalest_4493215A',\n",
    "    'static_base_downpmt_116A',\n",
    "    'static_base_maininc_215A',\n",
    "    'static_base_daysoverduetolerancedd_3976961L',\n",
    "    'past_shallow_dateactivated_425D',\n",
    "    'past_shallow_approvaldate_319D',\n",
    "    'static_base_currdebtcredtyperange_828A',\n",
    "    'static_base_avgdpdtolclosure24_3658938P',\n",
    "    'past_shallow_credamount_590A',\n",
    "    'person_shallow_persontype_792L',\n",
    "    'person_shallow_persontype_1072L',\n",
    "    'static_base_avgoutstandbalancel6m_4187114A',\n",
    "    'int_shallow_nominalrate_498L',\n",
    "    'static_base_maxdpdlast9m_1059P',\n",
    "    'year',\n",
    "    'past_shallow_num_group1',\n",
    "    'past_depth_num_group1',\n",
    "    'past_shallow_dtlastpmt_581D',\n",
    "    'static_base_maxinstallast24m_3658928A',\n",
    "    'static_external_birthdate_574D',\n",
    "    'int_shallow_overdueamount_659A',\n",
    "    'int_shallow_nominalrate_281L',\n",
    "    'reg_a_num_group1',\n",
    "    'int_shallow_totaldebtoverduevalue_178A',\n",
    "    'static_external_requesttype_4525192L',\n",
    "    'static_external_days30_165L',\n",
    "    'static_base_inittransactioncode_186L',\n",
    "    'int_shallow_dateofcredend_353D',\n",
    "    'static_base_posfpd30lastmonth_3976960P',\n",
    "    'static_base_lastapprcredamount_781A',\n",
    "    'past_shallow_rejectreasonclient_4145042M',\n",
    "    'past_shallow_dtlastpmtallstes_3545839D',\n",
    "    'int_shallow_dpdmaxdateyear_896T',\n",
    "    'static_base_posfstqpd30lastmonth_3976962P',\n",
    "    'past_shallow_mainoccupationinc_437A',\n",
    "    'int_shallow_overdueamountmaxdatemonth_284T',\n",
    "    'past_shallow_creationdate_885D',\n",
    "    'static_base_inittransactionamount_650A',\n",
    "    'static_base_lastrejectreason_759M',\n",
    "    'past_shallow_currdebt_94A',\n",
    "    'int_shallow_instlamount_852A',\n",
    "    'int_shallow_outstandingamount_362A',\n",
    "    'static_base_sumoutstandtotal_3546847A',\n",
    "    'int_shallow_overdueamountmaxdateyear_994T',\n",
    "    'static_base_lastrejectcredamount_222A',\n",
    "    'person_shallow_language1_981M',\n",
    "    'past_shallow_firstnonzeroinstldate_307D',\n",
    "    'reg_c_pmtamount_36A',\n",
    "    'int_shallow_annualeffectiverate_63L',\n",
    "    'person_shallow_mainoccupationinc_384A',\n",
    "    'int_shallow_lastupdate_388D',\n",
    "    'past_shallow_byoccupationinc_3656910L',\n",
    "    'static_base_lastapplicationdate_877D',\n",
    "    'past_shallow_outstandingdebt_522A',\n",
    "    'person_shallow_relationshiptoclient_415T',\n",
    "    'int_shallow_monthlyinstlamount_674A',\n",
    "    'int_shallow_credlmt_230A',\n",
    "    'static_base_maxdebt4_972A',\n",
    "    'past_shallow_downpmt_134A',\n",
    "    'int_shallow_dpdmaxdatemonth_442T',\n",
    "    'int_shallow_dateofcredstart_181D',\n",
    "    'static_base_credtype_322L',\n",
    "    'past_shallow_maxdpdtolerance_577P',\n",
    "    'int_shallow_dateofcredend_289D',\n",
    "    'int_shallow_annualeffectiverate_199L',\n",
    "    'int_shallow_dateofrealrepmt_138D',\n",
    "    'static_base_firstclxcampaign_1125D',\n",
    "    'past_shallow_credtype_587L',\n",
    "    'static_external_maritalst_385M',\n",
    "    'static_base_currdebt_22A',\n",
    "    'static_base_firstdatedue_489D',\n",
    "    'static_base_totaldebt_9A',\n",
    "    'static_external_days180_256L',\n",
    "    'person_shallow_role_1084L',\n",
    "    'int_shallow_overdueamountmaxdatemonth_365T',\n",
    "    'int_shallow_dpdmaxdatemonth_89T',\n",
    "    'past_shallow_tenor_203L',\n",
    "    'past_shallow_credacc_credlmt_575A',\n",
    "    'past_shallow_pmtnum_8L',\n",
    "    'int_shallow_totaloutstanddebtvalue_39A',\n",
    "    'static_base_maxannuity_159A',\n",
    "    'past_shallow_annuity_853A',\n",
    "    'person_shallow_relationshiptoclient_642T',\n",
    "    'int_shallow_overdueamountmax2_398A',\n",
    "    'int_shallow_monthlyinstlamount_332A',\n",
    "    'static_base_maxdpdlast12m_727P',\n",
    "    'int_shallow_overdueamountmax_35A',\n",
    "    'int_shallow_debtoverdue_47A',\n",
    "    'int_shallow_credlmt_935A',\n",
    "    'static_base_maxdpdinstldate_3546855D',\n",
    "    'static_external_days90_310L',\n",
    "    'static_base_disbursementtype_67L',\n",
    "    'static_external_days120_123L',\n",
    "    'person_shallow_empl_employedtotal_800L',\n",
    "    'static_base_amtinstpaidbefduel24m_4187115A',\n",
    "    'week',\n",
    "    'past_shallow_inittransactioncode_279L',\n",
    "    'int_shallow_instlamount_768A',\n",
    "    'int_shallow_debtoutstand_525A',\n",
    "    'static_base_datelastinstal40dpd_247D',\n",
    "    'static_base_totalsettled_863A',\n",
    "    'static_base_maxdpdlast24m_143P',\n",
    "    'static_base_pctinstlsallpaidearl3d_427L',\n",
    "    'int_shallow_totalamount_996A',\n",
    "    'month',\n",
    "    'past_shallow_familystate_726L',\n",
    "    'static_base_datelastunpaid_3546854D',\n",
    "    'past_shallow_education_1138M',\n",
    "    'person_shallow_familystate_447L',\n",
    "    'int_shallow_residualamount_488A',\n",
    "    'int_shallow_overdueamountmax2date_1002D',\n",
    "    'static_external_education_1103M',\n",
    "    'static_base_mobilephncnt_593L',\n",
    "    'static_base_cntpmts24_3658933L',\n",
    "    'static_external_description_5085714M',\n",
    "    'static_base_lastdelinqdate_224D',\n",
    "    'weekday',\n",
    "    'static_base_eir_270L',\n",
    "    'static_base_interestrate_311L',\n",
    "    'int_shallow_overdueamountmaxdateyear_2T',\n",
    "    'static_base_disbursedcredamount_1113A',\n",
    "    'static_external_dateofbirth_337D',\n",
    "    'static_base_pctinstlsallpaidlat10d_839L',\n",
    "    'int_shallow_overdueamountmax2date_1142D',\n",
    "    'static_base_credamount_770A',\n",
    "    'person_shallow_empl_employedfrom_271D',\n",
    "    'static_base_annuity_780A',\n",
    "    'int_shallow_overdueamountmax2_14A',\n",
    "    'int_shallow_dateofcredstart_739D',\n",
    "    'person_shallow_incometype_1044T',\n",
    "    'int_shallow_totalamount_6A',\n",
    "    'past_shallow_employedfrom_700D',\n",
    "    'int_shallow_numberofoverdueinstlmaxdat_148D',\n",
    "    'int_shallow_numberofoverdueinstlmaxdat_641D',\n",
    "    'reg_a_amount_4527230A',\n",
    "    'int_shallow_residualamount_856A',\n",
    "    'static_external_pmtssum_45A',\n",
    "    'static_base_price_1097A',\n",
    "    'int_shallow_dpdmaxdateyear_596T',\n",
    "    'static_base_isbidproduct_1095L',\n",
    "    'int_shallow_dpdmax_757P',\n",
    "    'static_base_pmtnum_254L',\n",
    "    'int_shallow_numberofoverdueinstlmax_1039L',\n",
    "    'static_base_pctinstlsallpaidlate6d_3546844L',\n",
    "    'int_shallow_numberofoverdueinstlmax_1151L',\n",
    "    'int_shallow_dpdmax_139P',\n",
    "    'person_shallow_birth_259D',\n",
    "    'static_base_pctinstlsallpaidlate4d_3546849L',\n",
    "    'static_base_lastrejectdate_50D',\n",
    "    'past_shallow_status_219L',\n",
    "    'int_shallow_overdueamountmax_155A',\n",
    "    'static_base_pctinstlsallpaidlate1d_3546856L',\n",
    "    'person_shallow_sex_738L',\n",
    "    'target'\n",
    "]"
   ]
  },
  {
   "cell_type": "code",
   "execution_count": 27,
   "id": "46adfded",
   "metadata": {
    "execution": {
     "iopub.execute_input": "2024-04-24T10:14:39.198487Z",
     "iopub.status.busy": "2024-04-24T10:14:39.198234Z",
     "iopub.status.idle": "2024-04-24T10:14:51.402121Z",
     "shell.execute_reply": "2024-04-24T10:14:51.401273Z"
    },
    "papermill": {
     "duration": 12.217199,
     "end_time": "2024-04-24T10:14:51.404389",
     "exception": false,
     "start_time": "2024-04-24T10:14:39.187190",
     "status": "completed"
    },
    "tags": []
   },
   "outputs": [
    {
     "data": {
      "text/html": [
       "<div><style>\n",
       ".dataframe > thead > tr,\n",
       ".dataframe > tbody > tr {\n",
       "  text-align: right;\n",
       "  white-space: pre-wrap;\n",
       "}\n",
       "</style>\n",
       "<small>shape: (1_526_669, 291)</small><table border=\"1\" class=\"dataframe\"><thead><tr><th>case_id_base</th><th>static_base_numinstpaidearly5dest_4493211L</th><th>reg_c_num_group1</th><th>static_base_applicationscnt_1086L</th><th>static_base_clientscnt6m_3712949L</th><th>int_shallow_refreshdate_3813885D</th><th>past_shallow_credacc_status_367L</th><th>int_shallow_contractst_545M</th><th>static_base_numinstpaidearlyest_4493214L</th><th>int_shallow_periodicityofpmts_1102L</th><th>person_shallow_contaddr_smempladdr_334L</th><th>static_base_clientscnt_887L</th><th>past_shallow_isbidproduct_390L</th><th>static_base_numinstpaidearly5dobd_4499205L</th><th>static_base_numactiverelcontr_750L</th><th>static_base_avgdbdtollast24m_4525197P</th><th>int_shallow_lastupdate_1112D</th><th>static_base_lastrejectcommoditycat_161M</th><th>static_base_numcontrs3months_479L</th><th>static_base_numinstregularpaidest_4493210L</th><th>past_shallow_cancelreason_3545846M</th><th>int_shallow_contractst_964M</th><th>static_base_clientscnt12m_3712952L</th><th>static_base_numinstpaid_4499208L</th><th>int_shallow_purposeofcred_874M</th><th>int_shallow_numberofcontrsvalue_258L</th><th>static_base_numinstpaidearly_338L</th><th>static_base_numinstlswithdpd5_4187116L</th><th>int_shallow_totaldebtoverduevalue_718A</th><th>static_base_maxdbddpdtollast6m_4187119P</th><th>static_external_maritalst_893M</th><th>static_base_numnotactivated_1143L</th><th>past_depth_credacc_cards_status_52L</th><th>past_depth_num_group2</th><th>static_base_clientscnt_1071L</th><th>reg_b_num_group1</th><th>static_external_secondquarter_766L</th><th>&hellip;</th><th>static_base_eir_270L</th><th>static_base_interestrate_311L</th><th>int_shallow_overdueamountmaxdateyear_2T</th><th>static_base_disbursedcredamount_1113A</th><th>static_external_dateofbirth_337D</th><th>static_base_pctinstlsallpaidlat10d_839L</th><th>int_shallow_overdueamountmax2date_1142D</th><th>static_base_credamount_770A</th><th>person_shallow_empl_employedfrom_271D</th><th>static_base_annuity_780A</th><th>int_shallow_overdueamountmax2_14A</th><th>int_shallow_dateofcredstart_739D</th><th>person_shallow_incometype_1044T</th><th>int_shallow_totalamount_6A</th><th>past_shallow_employedfrom_700D</th><th>int_shallow_numberofoverdueinstlmaxdat_148D</th><th>int_shallow_numberofoverdueinstlmaxdat_641D</th><th>reg_a_amount_4527230A</th><th>int_shallow_residualamount_856A</th><th>static_external_pmtssum_45A</th><th>static_base_price_1097A</th><th>int_shallow_dpdmaxdateyear_596T</th><th>static_base_isbidproduct_1095L</th><th>int_shallow_dpdmax_757P</th><th>static_base_pmtnum_254L</th><th>int_shallow_numberofoverdueinstlmax_1039L</th><th>static_base_pctinstlsallpaidlate6d_3546844L</th><th>int_shallow_numberofoverdueinstlmax_1151L</th><th>int_shallow_dpdmax_139P</th><th>person_shallow_birth_259D</th><th>static_base_pctinstlsallpaidlate4d_3546849L</th><th>static_base_lastrejectdate_50D</th><th>past_shallow_status_219L</th><th>int_shallow_overdueamountmax_155A</th><th>static_base_pctinstlsallpaidlate1d_3546856L</th><th>person_shallow_sex_738L</th><th>target</th></tr><tr><td>u32</td><td>f32</td><td>f32</td><td>f32</td><td>f32</td><td>f64</td><td>f64</td><td>f64</td><td>f32</td><td>f32</td><td>bool</td><td>f32</td><td>bool</td><td>f32</td><td>f32</td><td>f32</td><td>f64</td><td>f64</td><td>f32</td><td>f32</td><td>f64</td><td>f64</td><td>f32</td><td>f32</td><td>f64</td><td>f32</td><td>f32</td><td>f32</td><td>f32</td><td>f32</td><td>f64</td><td>f32</td><td>f64</td><td>f32</td><td>f32</td><td>f32</td><td>f32</td><td>&hellip;</td><td>f32</td><td>f32</td><td>f64</td><td>f32</td><td>f64</td><td>f32</td><td>f64</td><td>f32</td><td>f64</td><td>f32</td><td>f32</td><td>f64</td><td>f64</td><td>f32</td><td>f64</td><td>f64</td><td>f64</td><td>f32</td><td>f32</td><td>f32</td><td>f32</td><td>f64</td><td>bool</td><td>f32</td><td>f32</td><td>f32</td><td>f32</td><td>f32</td><td>f32</td><td>f64</td><td>f32</td><td>f64</td><td>f64</td><td>f32</td><td>f32</td><td>f64</td><td>u8</td></tr></thead><tbody><tr><td>0</td><td>0.00</td><td>0.04</td><td>-0.14</td><td>-0.03</td><td>0.99</td><td>0.20</td><td>0.00</td><td>0.00</td><td>0.00</td><td>false</td><td>-0.06</td><td>false</td><td>0.00</td><td>-0.52</td><td>0.00</td><td>1.00</td><td>0.00</td><td>-0.34</td><td>0.00</td><td>0.00</td><td>0.00</td><td>-0.05</td><td>0.00</td><td>0.00</td><td>0.00</td><td>0.00</td><td>0.00</td><td>0.00</td><td>0.00</td><td>0.00</td><td>-0.14</td><td>0.00</td><td>0.09</td><td>-0.18</td><td>0.06</td><td>0.00</td><td>&hellip;</td><td>0.94</td><td>0.94</td><td>0.29</td><td>-0.38</td><td>0.63</td><td>0.00</td><td>0.88</td><td>-0.45</td><td>0.98</td><td>-0.71</td><td>0.00</td><td>0.87</td><td>0.00</td><td>0.00</td><td>0.83</td><td>0.71</td><td>0.88</td><td>0.00</td><td>0.00</td><td>0.00</td><td>0.00</td><td>0.29</td><td>false</td><td>0.00</td><td>0.72</td><td>0.00</td><td>0.00</td><td>0.00</td><td>0.00</td><td>0.79</td><td>0.00</td><td>0.84</td><td>0.20</td><td>0.00</td><td>0.00</td><td>0.00</td><td>0</td></tr><tr><td>1</td><td>0.00</td><td>0.04</td><td>-0.14</td><td>-0.03</td><td>0.99</td><td>0.20</td><td>0.00</td><td>0.00</td><td>0.00</td><td>false</td><td>-0.06</td><td>false</td><td>0.00</td><td>-0.52</td><td>0.00</td><td>1.00</td><td>0.00</td><td>-0.34</td><td>0.00</td><td>0.00</td><td>0.00</td><td>-0.05</td><td>0.00</td><td>0.00</td><td>0.00</td><td>0.00</td><td>0.00</td><td>0.00</td><td>0.00</td><td>0.00</td><td>-0.14</td><td>0.00</td><td>0.09</td><td>-0.18</td><td>0.06</td><td>0.00</td><td>&hellip;</td><td>0.12</td><td>0.12</td><td>0.29</td><td>-0.61</td><td>0.63</td><td>0.00</td><td>0.88</td><td>-0.68</td><td>0.82</td><td>-0.30</td><td>0.00</td><td>0.87</td><td>0.00</td><td>0.00</td><td>0.83</td><td>0.71</td><td>0.88</td><td>0.00</td><td>0.00</td><td>0.00</td><td>0.00</td><td>0.29</td><td>false</td><td>0.00</td><td>0.10</td><td>0.00</td><td>0.00</td><td>0.00</td><td>0.00</td><td>0.27</td><td>0.00</td><td>0.84</td><td>0.20</td><td>0.00</td><td>0.00</td><td>1.00</td><td>0</td></tr><tr><td>2</td><td>0.00</td><td>0.04</td><td>-0.14</td><td>-0.03</td><td>0.99</td><td>0.20</td><td>0.00</td><td>0.00</td><td>0.00</td><td>false</td><td>-0.06</td><td>false</td><td>0.00</td><td>-0.52</td><td>0.00</td><td>1.00</td><td>0.00</td><td>-0.34</td><td>0.00</td><td>0.00</td><td>0.00</td><td>-0.05</td><td>0.00</td><td>0.00</td><td>0.00</td><td>0.00</td><td>0.00</td><td>0.00</td><td>0.00</td><td>0.00</td><td>-0.14</td><td>0.00</td><td>0.09</td><td>-0.18</td><td>0.06</td><td>0.00</td><td>&hellip;</td><td>0.94</td><td>0.94</td><td>0.29</td><td>0.75</td><td>0.63</td><td>0.00</td><td>0.88</td><td>0.64</td><td>0.84</td><td>0.30</td><td>0.00</td><td>0.87</td><td>0.12</td><td>0.00</td><td>0.85</td><td>0.71</td><td>0.88</td><td>0.00</td><td>0.00</td><td>0.00</td><td>0.00</td><td>0.29</td><td>false</td><td>0.00</td><td>1.96</td><td>0.00</td><td>0.00</td><td>0.00</td><td>0.00</td><td>0.58</td><td>0.00</td><td>0.60</td><td>0.00</td><td>0.00</td><td>0.00</td><td>0.00</td><td>0</td></tr><tr><td>&hellip;</td><td>&hellip;</td><td>&hellip;</td><td>&hellip;</td><td>&hellip;</td><td>&hellip;</td><td>&hellip;</td><td>&hellip;</td><td>&hellip;</td><td>&hellip;</td><td>&hellip;</td><td>&hellip;</td><td>&hellip;</td><td>&hellip;</td><td>&hellip;</td><td>&hellip;</td><td>&hellip;</td><td>&hellip;</td><td>&hellip;</td><td>&hellip;</td><td>&hellip;</td><td>&hellip;</td><td>&hellip;</td><td>&hellip;</td><td>&hellip;</td><td>&hellip;</td><td>&hellip;</td><td>&hellip;</td><td>&hellip;</td><td>&hellip;</td><td>&hellip;</td><td>&hellip;</td><td>&hellip;</td><td>&hellip;</td><td>&hellip;</td><td>&hellip;</td><td>&hellip;</td><td>&hellip;</td><td>&hellip;</td><td>&hellip;</td><td>&hellip;</td><td>&hellip;</td><td>&hellip;</td><td>&hellip;</td><td>&hellip;</td><td>&hellip;</td><td>&hellip;</td><td>&hellip;</td><td>&hellip;</td><td>&hellip;</td><td>&hellip;</td><td>&hellip;</td><td>&hellip;</td><td>&hellip;</td><td>&hellip;</td><td>&hellip;</td><td>&hellip;</td><td>&hellip;</td><td>&hellip;</td><td>&hellip;</td><td>&hellip;</td><td>&hellip;</td><td>&hellip;</td><td>&hellip;</td><td>&hellip;</td><td>&hellip;</td><td>&hellip;</td><td>&hellip;</td><td>&hellip;</td><td>&hellip;</td><td>&hellip;</td><td>&hellip;</td><td>&hellip;</td><td>&hellip;</td><td>&hellip;</td></tr><tr><td>57,632</td><td>4.29</td><td>0.04</td><td>-0.14</td><td>-0.03</td><td>0.99</td><td>0.20</td><td>0.00</td><td>-0.03</td><td>0.00</td><td>false</td><td>-0.06</td><td>false</td><td>-0.03</td><td>-0.52</td><td>-0.19</td><td>1.00</td><td>0.00</td><td>-0.34</td><td>-0.68</td><td>0.00</td><td>0.00</td><td>-0.05</td><td>-0.68</td><td>0.00</td><td>0.00</td><td>-0.01</td><td>-0.59</td><td>0.00</td><td>-0.19</td><td>0.00</td><td>-0.14</td><td>0.00</td><td>0.09</td><td>-0.18</td><td>0.06</td><td>-0.53</td><td>&hellip;</td><td>-1.50</td><td>-1.50</td><td>0.29</td><td>-0.47</td><td>0.48</td><td>-0.59</td><td>0.88</td><td>-0.54</td><td>0.89</td><td>0.23</td><td>0.00</td><td>0.87</td><td>0.25</td><td>0.00</td><td>0.83</td><td>0.71</td><td>0.88</td><td>0.00</td><td>0.00</td><td>0.00</td><td>-0.27</td><td>0.29</td><td>false</td><td>0.00</td><td>-1.15</td><td>0.00</td><td>-0.66</td><td>0.00</td><td>0.00</td><td>0.57</td><td>-0.72</td><td>0.84</td><td>0.20</td><td>0.00</td><td>-0.93</td><td>0.00</td><td>0</td></tr><tr><td>57,633</td><td>0.00</td><td>0.04</td><td>-0.14</td><td>-0.03</td><td>1.00</td><td>0.20</td><td>0.11</td><td>0.00</td><td>-0.07</td><td>false</td><td>-0.06</td><td>false</td><td>0.00</td><td>-0.52</td><td>0.00</td><td>1.00</td><td>0.07</td><td>-0.34</td><td>0.00</td><td>0.00</td><td>0.04</td><td>-0.05</td><td>0.00</td><td>0.24</td><td>3.85</td><td>0.00</td><td>0.00</td><td>-0.02</td><td>0.00</td><td>0.00</td><td>-0.14</td><td>0.00</td><td>0.09</td><td>-0.18</td><td>0.06</td><td>0.10</td><td>&hellip;</td><td>0.61</td><td>0.61</td><td>1.00</td><td>3.62</td><td>0.76</td><td>0.00</td><td>0.88</td><td>3.40</td><td>0.89</td><td>1.41</td><td>-0.01</td><td>0.96</td><td>0.25</td><td>0.35</td><td>0.83</td><td>0.71</td><td>0.88</td><td>0.00</td><td>0.58</td><td>0.00</td><td>-1.08</td><td>1.00</td><td>false</td><td>-0.27</td><td>3.21</td><td>-0.15</td><td>0.00</td><td>-0.26</td><td>-0.14</td><td>0.57</td><td>0.00</td><td>0.85</td><td>0.20</td><td>-0.01</td><td>0.00</td><td>0.00</td><td>0</td></tr><tr><td>57,634</td><td>-1.09</td><td>0.04</td><td>-0.14</td><td>-0.03</td><td>0.99</td><td>0.20</td><td>0.00</td><td>-0.97</td><td>0.00</td><td>false</td><td>-0.06</td><td>false</td><td>-0.97</td><td>-0.52</td><td>-0.18</td><td>1.00</td><td>0.00</td><td>-0.34</td><td>-1.03</td><td>0.00</td><td>0.00</td><td>-0.05</td><td>-1.04</td><td>0.00</td><td>0.00</td><td>-0.77</td><td>-0.59</td><td>0.00</td><td>-0.17</td><td>0.00</td><td>-0.14</td><td>0.00</td><td>0.09</td><td>-0.18</td><td>0.06</td><td>-0.85</td><td>&hellip;</td><td>-0.00</td><td>-0.00</td><td>0.29</td><td>-0.80</td><td>0.63</td><td>-0.59</td><td>0.88</td><td>-0.85</td><td>0.89</td><td>-0.96</td><td>0.00</td><td>0.87</td><td>0.25</td><td>0.00</td><td>0.83</td><td>0.71</td><td>0.88</td><td>0.00</td><td>0.00</td><td>0.00</td><td>-0.64</td><td>0.29</td><td>false</td><td>0.00</td><td>-0.53</td><td>0.00</td><td>-0.66</td><td>0.00</td><td>0.00</td><td>0.57</td><td>-0.72</td><td>0.84</td><td>0.20</td><td>0.00</td><td>-0.93</td><td>0.00</td><td>0</td></tr></tbody></table></div>"
      ],
      "text/plain": [
       "shape: (1_526_669, 291)\n",
       "┌────────────┬────────────┬───────────┬───────────┬───┬───────────┬───────────┬───────────┬────────┐\n",
       "│ case_id_ba ┆ static_bas ┆ reg_c_num ┆ static_ba ┆ … ┆ int_shall ┆ static_ba ┆ person_sh ┆ target │\n",
       "│ se         ┆ e_numinstp ┆ _group1   ┆ se_applic ┆   ┆ ow_overdu ┆ se_pctins ┆ allow_sex ┆ ---    │\n",
       "│ ---        ┆ aidearly5d ┆ ---       ┆ ationscnt ┆   ┆ eamountma ┆ tlsallpai ┆ _738L     ┆ u8     │\n",
       "│ u32        ┆ est_449321 ┆ f32       ┆ _1086L    ┆   ┆ x_155A    ┆ dlate1d_3 ┆ ---       ┆        │\n",
       "│            ┆ 1L         ┆           ┆ ---       ┆   ┆ ---       ┆ 546856L   ┆ f64       ┆        │\n",
       "│            ┆ ---        ┆           ┆ f32       ┆   ┆ f32       ┆ ---       ┆           ┆        │\n",
       "│            ┆ f32        ┆           ┆           ┆   ┆           ┆ f32       ┆           ┆        │\n",
       "╞════════════╪════════════╪═══════════╪═══════════╪═══╪═══════════╪═══════════╪═══════════╪════════╡\n",
       "│ 0          ┆ 0.00       ┆ 0.04      ┆ -0.14     ┆ … ┆ 0.00      ┆ 0.00      ┆ 0.00      ┆ 0      │\n",
       "│ 1          ┆ 0.00       ┆ 0.04      ┆ -0.14     ┆ … ┆ 0.00      ┆ 0.00      ┆ 1.00      ┆ 0      │\n",
       "│ 2          ┆ 0.00       ┆ 0.04      ┆ -0.14     ┆ … ┆ 0.00      ┆ 0.00      ┆ 0.00      ┆ 0      │\n",
       "│ …          ┆ …          ┆ …         ┆ …         ┆ … ┆ …         ┆ …         ┆ …         ┆ …      │\n",
       "│ 57,632     ┆ 4.29       ┆ 0.04      ┆ -0.14     ┆ … ┆ 0.00      ┆ -0.93     ┆ 0.00      ┆ 0      │\n",
       "│ 57,633     ┆ 0.00       ┆ 0.04      ┆ -0.14     ┆ … ┆ -0.01     ┆ 0.00      ┆ 0.00      ┆ 0      │\n",
       "│ 57,634     ┆ -1.09      ┆ 0.04      ┆ -0.14     ┆ … ┆ 0.00      ┆ -0.93     ┆ 0.00      ┆ 0      │\n",
       "└────────────┴────────────┴───────────┴───────────┴───┴───────────┴───────────┴───────────┴────────┘"
      ]
     },
     "execution_count": 27,
     "metadata": {},
     "output_type": "execute_result"
    }
   ],
   "source": [
    "total_df = (\n",
    "    total_base\n",
    "    .join(\n",
    "        total_past_shallow,\n",
    "        left_on=\"case_id_base\",\n",
    "        right_on=\"case_id\",\n",
    "        how=\"left\"\n",
    "    )\n",
    "    .join(\n",
    "        total_past_depth,\n",
    "        left_on=\"case_id_base\",\n",
    "        right_on=\"case_id\",\n",
    "        how=\"left\"\n",
    "    )\n",
    "    .join(\n",
    "        total_static_base,\n",
    "        left_on=\"case_id_base\",\n",
    "        right_on=\"case_id\",\n",
    "        how=\"left\"\n",
    "    )\n",
    "    .join(\n",
    "        total_static_external,\n",
    "        left_on=\"case_id_base\",\n",
    "        right_on=\"case_id\",\n",
    "        how=\"left\"\n",
    "    )\n",
    "    .join(\n",
    "        total_person_shallow,\n",
    "        left_on=\"case_id_base\",\n",
    "        right_on=\"case_id\",\n",
    "        how=\"left\"\n",
    "    )\n",
    "    .join(\n",
    "        total_person_depth,\n",
    "        left_on=\"case_id_base\",\n",
    "        right_on=\"case_id\",\n",
    "        how=\"left\"\n",
    "    )\n",
    "    .join(\n",
    "        total_other_shallow,\n",
    "        left_on=\"case_id_base\",\n",
    "        right_on=\"case_id\",\n",
    "        how=\"left\"\n",
    "    )\n",
    "    .join(\n",
    "        total_deposit_shallow,\n",
    "        left_on=\"case_id_base\",\n",
    "        right_on=\"case_id\",\n",
    "        how=\"left\"\n",
    "    )\n",
    "    .join(\n",
    "        total_debitcard_shallow,\n",
    "        left_on=\"case_id_base\",\n",
    "        right_on=\"case_id\",\n",
    "        how=\"left\"\n",
    "    )\n",
    "    .join(\n",
    "        total_credit_internal_shallow,\n",
    "        left_on=\"case_id_base\",\n",
    "        right_on=\"case_id\",\n",
    "        how=\"left\"\n",
    "    )\n",
    "    .join(\n",
    "        total_credit_external_shallow,\n",
    "        left_on=\"case_id_base\",\n",
    "        right_on=\"case_id\",\n",
    "        how=\"left\"\n",
    "    )\n",
    "    .join(\n",
    "        total_credit_external_depth,\n",
    "        left_on=\"case_id_base\",\n",
    "        right_on=\"case_id\",\n",
    "        how=\"left\"\n",
    "    )\n",
    "    .join(\n",
    "        total_registry_a,\n",
    "        left_on=\"case_id_base\",\n",
    "        right_on=\"case_id\",\n",
    "        how=\"left\"\n",
    "    )\n",
    "    .join(\n",
    "        total_registry_b,\n",
    "        left_on=\"case_id_base\",\n",
    "        right_on=\"case_id\",\n",
    "        how=\"left\"\n",
    "    )\n",
    "    .join(\n",
    "        total_registry_c,\n",
    "        left_on=\"case_id_base\",\n",
    "        right_on=\"case_id\",\n",
    "        how=\"left\"\n",
    "    )\n",
    "    .with_columns(\n",
    "        (pl.col(pl.Date) - pl.col(\"Date\")).dt.total_days(),\n",
    "        pl.col(pl.String).cast(pl.Categorical)\n",
    "    )\n",
    "    .select(select_columns)\n",
    "    .with_columns(\n",
    "        pl.col(pl.INTEGER_DTYPES).fill_null(strategy=\"mean\"),\n",
    "        pl.col(pl.FLOAT_DTYPES).fill_null(strategy=\"mean\"),\n",
    "        pl.col(pl.Boolean).fill_null(value=pl.col(pl.Boolean).drop_nulls().mode().first()),\n",
    "        pl.col(pl.Categorical).fill_null(value=pl.col(pl.Categorical).drop_nulls().mode().first())\n",
    "    )\n",
    "    .with_columns(\n",
    "        pl.col(pl.Categorical).to_physical()\n",
    "    )\n",
    "    .with_columns(\n",
    "        (pl.col(pl.INTEGER_DTYPES).exclude([\"case_id_base\",\"target\"]) - pl.col(pl.INTEGER_DTYPES).exclude([\"case_id_base\",\"target\"]).min())/(pl.col(pl.INTEGER_DTYPES).exclude([\"case_id_base\",\"target\"]).max()-pl.col(pl.INTEGER_DTYPES).exclude([\"case_id_base\",\"target\"]).min()).cast(pl.Float32),\n",
    "        (pl.col(pl.FLOAT_DTYPES) - pl.col(pl.FLOAT_DTYPES).mean())/(pl.col(pl.FLOAT_DTYPES).std()).cast(pl.Float32)\n",
    "    )\n",
    ")\n",
    "total_df"
   ]
  },
  {
   "cell_type": "code",
   "execution_count": 28,
   "id": "3d9a5802",
   "metadata": {
    "execution": {
     "iopub.execute_input": "2024-04-24T10:14:51.427574Z",
     "iopub.status.busy": "2024-04-24T10:14:51.426826Z",
     "iopub.status.idle": "2024-04-24T10:14:51.971568Z",
     "shell.execute_reply": "2024-04-24T10:14:51.970630Z"
    },
    "papermill": {
     "duration": 0.558737,
     "end_time": "2024-04-24T10:14:51.974006",
     "exception": false,
     "start_time": "2024-04-24T10:14:51.415269",
     "status": "completed"
    },
    "tags": []
   },
   "outputs": [],
   "source": [
    "train_total = total_df.filter(pl.col(\"case_id_base\").is_in(test_base.select(\"case_id_base\")).not_()).drop(\"case_id_base\")\n",
    "# train_total.head()"
   ]
  },
  {
   "cell_type": "code",
   "execution_count": 29,
   "id": "0ba438b9",
   "metadata": {
    "execution": {
     "iopub.execute_input": "2024-04-24T10:14:51.997079Z",
     "iopub.status.busy": "2024-04-24T10:14:51.996525Z",
     "iopub.status.idle": "2024-04-24T10:14:52.014219Z",
     "shell.execute_reply": "2024-04-24T10:14:52.013565Z"
    },
    "papermill": {
     "duration": 0.030906,
     "end_time": "2024-04-24T10:14:52.016164",
     "exception": false,
     "start_time": "2024-04-24T10:14:51.985258",
     "status": "completed"
    },
    "tags": []
   },
   "outputs": [],
   "source": [
    "submission_df = total_df.filter(pl.col(\"case_id_base\").is_in(test_base.select(\"case_id_base\"))).drop([\"target\"])\n",
    "# submission_df.head()"
   ]
  },
  {
   "cell_type": "code",
   "execution_count": 30,
   "id": "c39db41e",
   "metadata": {
    "_kg_hide-input": true,
    "execution": {
     "iopub.execute_input": "2024-04-24T10:14:52.038670Z",
     "iopub.status.busy": "2024-04-24T10:14:52.038370Z",
     "iopub.status.idle": "2024-04-24T10:14:52.452155Z",
     "shell.execute_reply": "2024-04-24T10:14:52.451268Z"
    },
    "papermill": {
     "duration": 0.427347,
     "end_time": "2024-04-24T10:14:52.454192",
     "exception": false,
     "start_time": "2024-04-24T10:14:52.026845",
     "status": "completed"
    },
    "tags": []
   },
   "outputs": [
    {
     "data": {
      "text/plain": [
       "0"
      ]
     },
     "execution_count": 30,
     "metadata": {},
     "output_type": "execute_result"
    }
   ],
   "source": [
    "del total_df\n",
    "del train_files_df\n",
    "del test_files_df\n",
    "del total_base\n",
    "del total_past_shallow\n",
    "del total_past_depth\n",
    "del total_static_base\n",
    "del total_static_external\n",
    "del total_person_depth\n",
    "del total_person_shallow\n",
    "del total_other_shallow\n",
    "del total_deposit_shallow\n",
    "del total_debitcard_shallow\n",
    "del total_credit_external_depth\n",
    "del total_credit_external_shallow\n",
    "del total_credit_internal_depth\n",
    "del total_credit_internal_shallow\n",
    "del total_registry_a\n",
    "del total_registry_b\n",
    "del total_registry_c\n",
    "gc.collect()"
   ]
  },
  {
   "cell_type": "code",
   "execution_count": 31,
   "id": "11d8aed2",
   "metadata": {
    "execution": {
     "iopub.execute_input": "2024-04-24T10:14:52.476968Z",
     "iopub.status.busy": "2024-04-24T10:14:52.476648Z",
     "iopub.status.idle": "2024-04-24T10:14:52.961527Z",
     "shell.execute_reply": "2024-04-24T10:14:52.960642Z"
    },
    "papermill": {
     "duration": 0.498429,
     "end_time": "2024-04-24T10:14:52.963591",
     "exception": false,
     "start_time": "2024-04-24T10:14:52.465162",
     "status": "completed"
    },
    "tags": []
   },
   "outputs": [
    {
     "data": {
      "text/plain": [
       "0"
      ]
     },
     "execution_count": 31,
     "metadata": {},
     "output_type": "execute_result"
    }
   ],
   "source": [
    "X_total,y_total = train_total.select((~(cs.by_name(\"target\"))).cast(pl.Float32)),train_total.select(pl.col(\"target\").cast(pl.Float32))\n",
    "del train_total\n",
    "gc.collect()"
   ]
  },
  {
   "cell_type": "code",
   "execution_count": 32,
   "id": "2edb28d4",
   "metadata": {
    "execution": {
     "iopub.execute_input": "2024-04-24T10:14:52.987136Z",
     "iopub.status.busy": "2024-04-24T10:14:52.986813Z",
     "iopub.status.idle": "2024-04-24T10:14:52.991979Z",
     "shell.execute_reply": "2024-04-24T10:14:52.991177Z"
    },
    "papermill": {
     "duration": 0.01894,
     "end_time": "2024-04-24T10:14:52.993736",
     "exception": false,
     "start_time": "2024-04-24T10:14:52.974796",
     "status": "completed"
    },
    "tags": []
   },
   "outputs": [],
   "source": [
    "params = {\n",
    "    \"objective\":\"binary\",\n",
    "    \"boosting_type\": \"gbdt\",\n",
    "    \"metric\":\"auc\",\n",
    "    \"max_depth\": 256,\n",
    "    \"learning_rate\": 0.005,\n",
    "    \"n_estimators\": 10000,\n",
    "    \"colsample_bynode\": 0.8,\n",
    "    \"colsample_bytree\": 0.8,\n",
    "    \"random_state\": 42,\n",
    "    \"reg_alpha\": 0.25,\n",
    "    \"reg_lambda\": 20,\n",
    "    \"extra_trees\": True,\n",
    "    \"num_leaves\": 512,\n",
    "    \"device\": \"gpu\",\n",
    "    \"importance_type\": \"gain\",\n",
    "    \"verbose\": -1\n",
    "}"
   ]
  },
  {
   "cell_type": "code",
   "execution_count": 33,
   "id": "8484d8b7",
   "metadata": {
    "execution": {
     "iopub.execute_input": "2024-04-24T10:14:53.016334Z",
     "iopub.status.busy": "2024-04-24T10:14:53.016053Z",
     "iopub.status.idle": "2024-04-24T16:02:18.498057Z",
     "shell.execute_reply": "2024-04-24T16:02:18.497024Z"
    },
    "papermill": {
     "duration": 20845.535504,
     "end_time": "2024-04-24T16:02:18.540161",
     "exception": false,
     "start_time": "2024-04-24T10:14:53.004657",
     "status": "completed"
    },
    "tags": []
   },
   "outputs": [
    {
     "name": "stderr",
     "output_type": "stream",
     "text": [
      "1 warning generated.\n",
      "1 warning generated.\n",
      "1 warning generated.\n",
      "1 warning generated.\n",
      "1 warning generated.\n",
      "1 warning generated.\n",
      "1 warning generated.\n",
      "1 warning generated.\n",
      "1 warning generated.\n",
      "1 warning generated.\n",
      "1 warning generated.\n",
      "1 warning generated.\n",
      "1 warning generated.\n",
      "1 warning generated.\n",
      "1 warning generated.\n",
      "1 warning generated.\n",
      "1 warning generated.\n",
      "1 warning generated.\n",
      "1 warning generated.\n",
      "1 warning generated.\n",
      "1 warning generated.\n",
      "1 warning generated.\n",
      "1 warning generated.\n",
      "1 warning generated.\n",
      "1 warning generated.\n",
      "1 warning generated.\n",
      "1 warning generated.\n",
      "1 warning generated.\n",
      "1 warning generated.\n",
      "1 warning generated.\n",
      "1 warning generated.\n",
      "1 warning generated.\n",
      "1 warning generated.\n"
     ]
    },
    {
     "name": "stdout",
     "output_type": "stream",
     "text": [
      "Training until validation scores don't improve for 500 rounds\n",
      "[100]\tvalid_0's auc: 0.810986\n",
      "[200]\tvalid_0's auc: 0.818354\n",
      "[300]\tvalid_0's auc: 0.824862\n",
      "[400]\tvalid_0's auc: 0.830195\n",
      "[500]\tvalid_0's auc: 0.834559\n",
      "[600]\tvalid_0's auc: 0.838045\n",
      "[700]\tvalid_0's auc: 0.840757\n",
      "[800]\tvalid_0's auc: 0.842899\n",
      "[900]\tvalid_0's auc: 0.844731\n",
      "[1000]\tvalid_0's auc: 0.846288\n",
      "[1100]\tvalid_0's auc: 0.847659\n",
      "[1200]\tvalid_0's auc: 0.848793\n",
      "[1300]\tvalid_0's auc: 0.84983\n",
      "[1400]\tvalid_0's auc: 0.850728\n",
      "[1500]\tvalid_0's auc: 0.851549\n",
      "[1600]\tvalid_0's auc: 0.852247\n",
      "[1700]\tvalid_0's auc: 0.8529\n",
      "[1800]\tvalid_0's auc: 0.853512\n",
      "[1900]\tvalid_0's auc: 0.854034\n",
      "[2000]\tvalid_0's auc: 0.854515\n",
      "[2100]\tvalid_0's auc: 0.854948\n",
      "[2200]\tvalid_0's auc: 0.85535\n",
      "[2300]\tvalid_0's auc: 0.855715\n",
      "[2400]\tvalid_0's auc: 0.856037\n",
      "[2500]\tvalid_0's auc: 0.856363\n",
      "[2600]\tvalid_0's auc: 0.856663\n",
      "[2700]\tvalid_0's auc: 0.85694\n",
      "[2800]\tvalid_0's auc: 0.857178\n",
      "[2900]\tvalid_0's auc: 0.857409\n",
      "[3000]\tvalid_0's auc: 0.857616\n",
      "[3100]\tvalid_0's auc: 0.857805\n",
      "[3200]\tvalid_0's auc: 0.857978\n",
      "[3300]\tvalid_0's auc: 0.858137\n",
      "[3400]\tvalid_0's auc: 0.858307\n",
      "[3500]\tvalid_0's auc: 0.858464\n",
      "[3600]\tvalid_0's auc: 0.858585\n",
      "[3700]\tvalid_0's auc: 0.858732\n",
      "[3800]\tvalid_0's auc: 0.858842\n",
      "[3900]\tvalid_0's auc: 0.858966\n",
      "[4000]\tvalid_0's auc: 0.859092\n",
      "[4100]\tvalid_0's auc: 0.859193\n",
      "[4200]\tvalid_0's auc: 0.859274\n",
      "[4300]\tvalid_0's auc: 0.85937\n",
      "[4400]\tvalid_0's auc: 0.859446\n",
      "[4500]\tvalid_0's auc: 0.859538\n",
      "[4600]\tvalid_0's auc: 0.859616\n",
      "[4700]\tvalid_0's auc: 0.859673\n",
      "[4800]\tvalid_0's auc: 0.859744\n",
      "[4900]\tvalid_0's auc: 0.859819\n",
      "[5000]\tvalid_0's auc: 0.859891\n",
      "[5100]\tvalid_0's auc: 0.859938\n",
      "[5200]\tvalid_0's auc: 0.86\n",
      "[5300]\tvalid_0's auc: 0.860019\n",
      "[5400]\tvalid_0's auc: 0.860067\n",
      "[5500]\tvalid_0's auc: 0.860105\n",
      "[5600]\tvalid_0's auc: 0.860142\n",
      "[5700]\tvalid_0's auc: 0.860176\n",
      "[5800]\tvalid_0's auc: 0.860213\n",
      "[5900]\tvalid_0's auc: 0.860231\n",
      "[6000]\tvalid_0's auc: 0.860268\n",
      "[6100]\tvalid_0's auc: 0.860293\n",
      "[6200]\tvalid_0's auc: 0.86032\n",
      "[6300]\tvalid_0's auc: 0.860342\n",
      "[6400]\tvalid_0's auc: 0.860348\n",
      "[6500]\tvalid_0's auc: 0.860375\n",
      "[6600]\tvalid_0's auc: 0.860404\n",
      "[6700]\tvalid_0's auc: 0.860431\n",
      "[6800]\tvalid_0's auc: 0.860441\n",
      "[6900]\tvalid_0's auc: 0.860469\n",
      "[7000]\tvalid_0's auc: 0.860479\n",
      "[7100]\tvalid_0's auc: 0.860493\n",
      "[7200]\tvalid_0's auc: 0.86051\n",
      "[7300]\tvalid_0's auc: 0.860508\n",
      "[7400]\tvalid_0's auc: 0.860506\n",
      "[7500]\tvalid_0's auc: 0.86052\n",
      "[7600]\tvalid_0's auc: 0.860522\n",
      "[7700]\tvalid_0's auc: 0.860513\n",
      "[7800]\tvalid_0's auc: 0.86051\n",
      "[7900]\tvalid_0's auc: 0.860503\n",
      "Early stopping, best iteration is:\n",
      "[7495]\tvalid_0's auc: 0.860524\n",
      "<-------- Roc_Auc score for split 1 is 0.8605237189591145 -------->\n",
      "Training until validation scores don't improve for 500 rounds\n",
      "[100]\tvalid_0's auc: 0.812786\n",
      "[200]\tvalid_0's auc: 0.819572\n",
      "[300]\tvalid_0's auc: 0.825698\n",
      "[400]\tvalid_0's auc: 0.830949\n",
      "[500]\tvalid_0's auc: 0.835417\n",
      "[600]\tvalid_0's auc: 0.839025\n",
      "[700]\tvalid_0's auc: 0.841826\n",
      "[800]\tvalid_0's auc: 0.844047\n",
      "[900]\tvalid_0's auc: 0.845882\n",
      "[1000]\tvalid_0's auc: 0.847479\n",
      "[1100]\tvalid_0's auc: 0.848844\n",
      "[1200]\tvalid_0's auc: 0.850037\n",
      "[1300]\tvalid_0's auc: 0.851053\n",
      "[1400]\tvalid_0's auc: 0.851954\n",
      "[1500]\tvalid_0's auc: 0.852777\n",
      "[1600]\tvalid_0's auc: 0.853523\n",
      "[1700]\tvalid_0's auc: 0.854197\n",
      "[1800]\tvalid_0's auc: 0.854808\n",
      "[1900]\tvalid_0's auc: 0.855351\n",
      "[2000]\tvalid_0's auc: 0.855845\n",
      "[2100]\tvalid_0's auc: 0.856296\n",
      "[2200]\tvalid_0's auc: 0.856693\n",
      "[2300]\tvalid_0's auc: 0.857074\n",
      "[2400]\tvalid_0's auc: 0.857425\n",
      "[2500]\tvalid_0's auc: 0.857749\n",
      "[2600]\tvalid_0's auc: 0.858061\n",
      "[2700]\tvalid_0's auc: 0.858346\n",
      "[2800]\tvalid_0's auc: 0.858608\n",
      "[2900]\tvalid_0's auc: 0.858848\n",
      "[3000]\tvalid_0's auc: 0.859076\n",
      "[3100]\tvalid_0's auc: 0.859293\n",
      "[3200]\tvalid_0's auc: 0.859512\n",
      "[3300]\tvalid_0's auc: 0.859712\n",
      "[3400]\tvalid_0's auc: 0.859866\n",
      "[3500]\tvalid_0's auc: 0.860015\n",
      "[3600]\tvalid_0's auc: 0.860179\n",
      "[3700]\tvalid_0's auc: 0.860336\n",
      "[3800]\tvalid_0's auc: 0.860443\n",
      "[3900]\tvalid_0's auc: 0.860571\n",
      "[4000]\tvalid_0's auc: 0.860685\n",
      "[4100]\tvalid_0's auc: 0.860783\n",
      "[4200]\tvalid_0's auc: 0.860878\n",
      "[4300]\tvalid_0's auc: 0.860976\n",
      "[4400]\tvalid_0's auc: 0.861067\n",
      "[4500]\tvalid_0's auc: 0.861152\n",
      "[4600]\tvalid_0's auc: 0.861227\n",
      "[4700]\tvalid_0's auc: 0.861308\n",
      "[4800]\tvalid_0's auc: 0.861382\n",
      "[4900]\tvalid_0's auc: 0.861444\n",
      "[5000]\tvalid_0's auc: 0.861492\n",
      "[5100]\tvalid_0's auc: 0.861542\n",
      "[5200]\tvalid_0's auc: 0.861582\n",
      "[5300]\tvalid_0's auc: 0.861626\n",
      "[5400]\tvalid_0's auc: 0.861666\n",
      "[5500]\tvalid_0's auc: 0.861716\n",
      "[5600]\tvalid_0's auc: 0.861779\n",
      "[5700]\tvalid_0's auc: 0.861816\n",
      "[5800]\tvalid_0's auc: 0.861862\n",
      "[5900]\tvalid_0's auc: 0.861887\n",
      "[6000]\tvalid_0's auc: 0.861908\n",
      "[6100]\tvalid_0's auc: 0.861945\n",
      "[6200]\tvalid_0's auc: 0.86198\n",
      "[6300]\tvalid_0's auc: 0.861994\n",
      "[6400]\tvalid_0's auc: 0.862021\n",
      "[6500]\tvalid_0's auc: 0.862035\n",
      "[6600]\tvalid_0's auc: 0.862054\n",
      "[6700]\tvalid_0's auc: 0.862081\n",
      "[6800]\tvalid_0's auc: 0.862088\n",
      "[6900]\tvalid_0's auc: 0.862091\n",
      "[7000]\tvalid_0's auc: 0.862114\n",
      "[7100]\tvalid_0's auc: 0.862104\n",
      "[7200]\tvalid_0's auc: 0.862113\n",
      "[7300]\tvalid_0's auc: 0.862121\n",
      "[7400]\tvalid_0's auc: 0.862126\n",
      "[7500]\tvalid_0's auc: 0.862139\n",
      "[7600]\tvalid_0's auc: 0.862151\n",
      "[7700]\tvalid_0's auc: 0.862166\n",
      "[7800]\tvalid_0's auc: 0.862167\n",
      "[7900]\tvalid_0's auc: 0.862171\n",
      "[8000]\tvalid_0's auc: 0.862182\n",
      "[8100]\tvalid_0's auc: 0.862176\n",
      "[8200]\tvalid_0's auc: 0.862172\n",
      "[8300]\tvalid_0's auc: 0.862172\n",
      "[8400]\tvalid_0's auc: 0.862171\n",
      "[8500]\tvalid_0's auc: 0.862167\n",
      "Early stopping, best iteration is:\n",
      "[8044]\tvalid_0's auc: 0.862188\n",
      "<-------- Roc_Auc score for split 2 is 0.8621876450306487 -------->\n",
      "Training until validation scores don't improve for 500 rounds\n",
      "[100]\tvalid_0's auc: 0.81169\n",
      "[200]\tvalid_0's auc: 0.818671\n",
      "[300]\tvalid_0's auc: 0.824788\n",
      "[400]\tvalid_0's auc: 0.830164\n",
      "[500]\tvalid_0's auc: 0.834534\n",
      "[600]\tvalid_0's auc: 0.838008\n",
      "[700]\tvalid_0's auc: 0.840747\n",
      "[800]\tvalid_0's auc: 0.843064\n",
      "[900]\tvalid_0's auc: 0.845011\n",
      "[1000]\tvalid_0's auc: 0.846648\n",
      "[1100]\tvalid_0's auc: 0.847995\n",
      "[1200]\tvalid_0's auc: 0.84921\n",
      "[1300]\tvalid_0's auc: 0.850279\n",
      "[1400]\tvalid_0's auc: 0.851232\n",
      "[1500]\tvalid_0's auc: 0.852053\n",
      "[1600]\tvalid_0's auc: 0.85279\n",
      "[1700]\tvalid_0's auc: 0.853485\n",
      "[1800]\tvalid_0's auc: 0.85409\n",
      "[1900]\tvalid_0's auc: 0.854623\n",
      "[2000]\tvalid_0's auc: 0.855157\n",
      "[2100]\tvalid_0's auc: 0.855606\n",
      "[2200]\tvalid_0's auc: 0.856012\n",
      "[2300]\tvalid_0's auc: 0.856396\n",
      "[2400]\tvalid_0's auc: 0.856731\n",
      "[2500]\tvalid_0's auc: 0.857067\n",
      "[2600]\tvalid_0's auc: 0.857403\n",
      "[2700]\tvalid_0's auc: 0.857687\n",
      "[2800]\tvalid_0's auc: 0.857937\n",
      "[2900]\tvalid_0's auc: 0.858197\n",
      "[3000]\tvalid_0's auc: 0.858425\n",
      "[3100]\tvalid_0's auc: 0.858638\n",
      "[3200]\tvalid_0's auc: 0.858837\n",
      "[3300]\tvalid_0's auc: 0.859016\n",
      "[3400]\tvalid_0's auc: 0.859208\n",
      "[3500]\tvalid_0's auc: 0.859371\n",
      "[3600]\tvalid_0's auc: 0.859493\n",
      "[3700]\tvalid_0's auc: 0.859648\n",
      "[3800]\tvalid_0's auc: 0.859809\n",
      "[3900]\tvalid_0's auc: 0.859947\n",
      "[4000]\tvalid_0's auc: 0.860044\n",
      "[4100]\tvalid_0's auc: 0.860174\n",
      "[4200]\tvalid_0's auc: 0.860306\n",
      "[4300]\tvalid_0's auc: 0.860424\n",
      "[4400]\tvalid_0's auc: 0.860524\n",
      "[4500]\tvalid_0's auc: 0.860596\n",
      "[4600]\tvalid_0's auc: 0.860682\n",
      "[4700]\tvalid_0's auc: 0.860766\n",
      "[4800]\tvalid_0's auc: 0.860832\n",
      "[4900]\tvalid_0's auc: 0.860898\n",
      "[5000]\tvalid_0's auc: 0.860976\n",
      "[5100]\tvalid_0's auc: 0.861012\n",
      "[5200]\tvalid_0's auc: 0.86105\n",
      "[5300]\tvalid_0's auc: 0.861108\n",
      "[5400]\tvalid_0's auc: 0.861166\n",
      "[5500]\tvalid_0's auc: 0.861225\n",
      "[5600]\tvalid_0's auc: 0.861272\n",
      "[5700]\tvalid_0's auc: 0.861322\n",
      "[5800]\tvalid_0's auc: 0.861378\n",
      "[5900]\tvalid_0's auc: 0.861407\n",
      "[6000]\tvalid_0's auc: 0.86144\n",
      "[6100]\tvalid_0's auc: 0.861454\n",
      "[6200]\tvalid_0's auc: 0.861501\n",
      "[6300]\tvalid_0's auc: 0.861514\n",
      "[6400]\tvalid_0's auc: 0.861537\n",
      "[6500]\tvalid_0's auc: 0.861528\n",
      "[6600]\tvalid_0's auc: 0.86155\n",
      "[6700]\tvalid_0's auc: 0.861563\n",
      "[6800]\tvalid_0's auc: 0.861593\n",
      "[6900]\tvalid_0's auc: 0.861596\n",
      "[7000]\tvalid_0's auc: 0.861607\n",
      "[7100]\tvalid_0's auc: 0.861598\n",
      "[7200]\tvalid_0's auc: 0.861601\n",
      "[7300]\tvalid_0's auc: 0.861613\n",
      "[7400]\tvalid_0's auc: 0.861613\n",
      "[7500]\tvalid_0's auc: 0.86163\n",
      "[7600]\tvalid_0's auc: 0.86164\n",
      "[7700]\tvalid_0's auc: 0.861638\n",
      "[7800]\tvalid_0's auc: 0.861626\n",
      "[7900]\tvalid_0's auc: 0.861627\n",
      "[8000]\tvalid_0's auc: 0.861635\n",
      "[8100]\tvalid_0's auc: 0.861616\n",
      "Early stopping, best iteration is:\n",
      "[7611]\tvalid_0's auc: 0.861646\n",
      "<-------- Roc_Auc score for split 3 is 0.8616462478716019 -------->\n",
      "Training until validation scores don't improve for 500 rounds\n",
      "[100]\tvalid_0's auc: 0.797081\n",
      "[200]\tvalid_0's auc: 0.804683\n",
      "[300]\tvalid_0's auc: 0.811067\n",
      "[400]\tvalid_0's auc: 0.816758\n",
      "[500]\tvalid_0's auc: 0.821551\n",
      "[600]\tvalid_0's auc: 0.825177\n",
      "[700]\tvalid_0's auc: 0.828065\n",
      "[800]\tvalid_0's auc: 0.830423\n",
      "[900]\tvalid_0's auc: 0.832321\n",
      "[1000]\tvalid_0's auc: 0.833967\n",
      "[1100]\tvalid_0's auc: 0.83535\n",
      "[1200]\tvalid_0's auc: 0.836544\n",
      "[1300]\tvalid_0's auc: 0.837623\n",
      "[1400]\tvalid_0's auc: 0.838567\n",
      "[1500]\tvalid_0's auc: 0.839393\n",
      "[1600]\tvalid_0's auc: 0.840173\n",
      "[1700]\tvalid_0's auc: 0.84083\n",
      "[1800]\tvalid_0's auc: 0.84146\n",
      "[1900]\tvalid_0's auc: 0.842009\n",
      "[2000]\tvalid_0's auc: 0.842504\n",
      "[2100]\tvalid_0's auc: 0.842946\n",
      "[2200]\tvalid_0's auc: 0.843352\n",
      "[2300]\tvalid_0's auc: 0.843764\n",
      "[2400]\tvalid_0's auc: 0.844157\n",
      "[2500]\tvalid_0's auc: 0.8445\n",
      "[2600]\tvalid_0's auc: 0.844818\n",
      "[2700]\tvalid_0's auc: 0.845096\n",
      "[2800]\tvalid_0's auc: 0.845334\n",
      "[2900]\tvalid_0's auc: 0.845584\n",
      "[3000]\tvalid_0's auc: 0.845806\n",
      "[3100]\tvalid_0's auc: 0.846019\n",
      "[3200]\tvalid_0's auc: 0.846236\n",
      "[3300]\tvalid_0's auc: 0.846419\n",
      "[3400]\tvalid_0's auc: 0.846583\n",
      "[3500]\tvalid_0's auc: 0.846742\n",
      "[3600]\tvalid_0's auc: 0.846899\n",
      "[3700]\tvalid_0's auc: 0.847028\n",
      "[3800]\tvalid_0's auc: 0.847162\n",
      "[3900]\tvalid_0's auc: 0.847296\n",
      "[4000]\tvalid_0's auc: 0.847405\n",
      "[4100]\tvalid_0's auc: 0.847491\n",
      "[4200]\tvalid_0's auc: 0.847607\n",
      "[4300]\tvalid_0's auc: 0.847701\n",
      "[4400]\tvalid_0's auc: 0.847783\n",
      "[4500]\tvalid_0's auc: 0.847872\n",
      "[4600]\tvalid_0's auc: 0.847947\n",
      "[4700]\tvalid_0's auc: 0.847993\n",
      "[4800]\tvalid_0's auc: 0.84806\n",
      "[4900]\tvalid_0's auc: 0.848119\n",
      "[5000]\tvalid_0's auc: 0.848189\n",
      "[5100]\tvalid_0's auc: 0.848242\n",
      "[5200]\tvalid_0's auc: 0.848279\n",
      "[5300]\tvalid_0's auc: 0.84832\n",
      "[5400]\tvalid_0's auc: 0.848359\n",
      "[5500]\tvalid_0's auc: 0.848389\n",
      "[5600]\tvalid_0's auc: 0.848428\n",
      "[5700]\tvalid_0's auc: 0.848459\n",
      "[5800]\tvalid_0's auc: 0.848492\n",
      "[5900]\tvalid_0's auc: 0.848522\n",
      "[6000]\tvalid_0's auc: 0.848525\n",
      "[6100]\tvalid_0's auc: 0.848547\n",
      "[6200]\tvalid_0's auc: 0.848544\n",
      "[6300]\tvalid_0's auc: 0.848575\n",
      "[6400]\tvalid_0's auc: 0.848581\n",
      "[6500]\tvalid_0's auc: 0.848582\n",
      "[6600]\tvalid_0's auc: 0.8486\n",
      "[6700]\tvalid_0's auc: 0.848606\n",
      "[6800]\tvalid_0's auc: 0.848616\n",
      "[6900]\tvalid_0's auc: 0.848618\n",
      "[7000]\tvalid_0's auc: 0.848619\n",
      "[7100]\tvalid_0's auc: 0.848628\n",
      "[7200]\tvalid_0's auc: 0.848628\n",
      "[7300]\tvalid_0's auc: 0.848635\n",
      "[7400]\tvalid_0's auc: 0.84863\n",
      "[7500]\tvalid_0's auc: 0.848621\n",
      "Early stopping, best iteration is:\n",
      "[7070]\tvalid_0's auc: 0.848637\n",
      "<-------- Roc_Auc score for split 4 is 0.8486368173840008 -------->\n"
     ]
    }
   ],
   "source": [
    "splits = 4\n",
    "models = [\n",
    "    lgb.LGBMClassifier(**params) for _ in range(splits)\n",
    "]\n",
    "cv = StratifiedGroupKFold(n_splits=splits)\n",
    "for i,(train_ind,valid_ind) in enumerate(cv.split(X_total,y_total,groups=X_total[\"weekday\"])):\n",
    "    X_train = X_total.with_row_index().filter(pl.col('index').is_in(train_ind)).drop(\"index\")\n",
    "    y_train = y_total.with_row_index().filter(pl.col('index').is_in(train_ind)).drop(\"index\")\n",
    "    X_valid = X_total.with_row_index().filter(pl.col('index').is_in(valid_ind)).drop(\"index\")\n",
    "    y_valid = y_total.with_row_index().filter(pl.col('index').is_in(valid_ind)).drop(\"index\")\n",
    "    models[i].fit(X_train,y_train,eval_set=[(X_valid,y_valid)],callbacks=[lgb.log_evaluation(100),lgb.early_stopping(500)])\n",
    "    y_pred = models[i].predict_proba(X_valid)[:,1]\n",
    "    print(f\"<-------- Roc_Auc score for split {i+1} is {roc_auc_score(y_true=y_valid,y_score=y_pred)} -------->\")"
   ]
  },
  {
   "cell_type": "code",
   "execution_count": 34,
   "id": "1981e12e",
   "metadata": {
    "execution": {
     "iopub.execute_input": "2024-04-24T16:02:18.711130Z",
     "iopub.status.busy": "2024-04-24T16:02:18.710457Z",
     "iopub.status.idle": "2024-04-24T16:02:18.969812Z",
     "shell.execute_reply": "2024-04-24T16:02:18.968850Z"
    },
    "papermill": {
     "duration": 0.301997,
     "end_time": "2024-04-24T16:02:18.971906",
     "exception": false,
     "start_time": "2024-04-24T16:02:18.669909",
     "status": "completed"
    },
    "tags": []
   },
   "outputs": [
    {
     "data": {
      "text/plain": [
       "73"
      ]
     },
     "execution_count": 34,
     "metadata": {},
     "output_type": "execute_result"
    }
   ],
   "source": [
    "del X_train,X_valid,y_train,y_valid\n",
    "gc.collect()"
   ]
  },
  {
   "cell_type": "code",
   "execution_count": 35,
   "id": "c247972a",
   "metadata": {
    "execution": {
     "iopub.execute_input": "2024-04-24T16:02:19.055396Z",
     "iopub.status.busy": "2024-04-24T16:02:19.054516Z",
     "iopub.status.idle": "2024-04-24T16:02:19.061485Z",
     "shell.execute_reply": "2024-04-24T16:02:19.060364Z"
    },
    "papermill": {
     "duration": 0.050538,
     "end_time": "2024-04-24T16:02:19.063587",
     "exception": false,
     "start_time": "2024-04-24T16:02:19.013049",
     "status": "completed"
    },
    "tags": []
   },
   "outputs": [],
   "source": [
    "class Model:\n",
    "\n",
    "    def __init__(self,_models:list) -> None:\n",
    "        self.models = _models\n",
    "\n",
    "    def predict(self,X):\n",
    "        return np.mean([_.predict(X) for _ in self.models],axis=0)\n",
    "    \n",
    "    def predict_proba(self,X):\n",
    "        return np.mean([_.predict_proba(X)[:,1] for _ in self.models],axis=0)"
   ]
  },
  {
   "cell_type": "code",
   "execution_count": 36,
   "id": "670cfde4",
   "metadata": {
    "execution": {
     "iopub.execute_input": "2024-04-24T16:02:19.144309Z",
     "iopub.status.busy": "2024-04-24T16:02:19.143530Z",
     "iopub.status.idle": "2024-04-24T16:02:19.481791Z",
     "shell.execute_reply": "2024-04-24T16:02:19.480935Z"
    },
    "papermill": {
     "duration": 0.381041,
     "end_time": "2024-04-24T16:02:19.484316",
     "exception": false,
     "start_time": "2024-04-24T16:02:19.103275",
     "status": "completed"
    },
    "tags": []
   },
   "outputs": [],
   "source": [
    "model = Model(models)\n",
    "n_chunks = 5\n",
    "chunk_size = len(submission_df)//n_chunks\n",
    "case_ids = submission_df[\"case_id_base\"].to_list()\n",
    "chunks = [submission_df[chunk_size*_:chunk_size*(_+1)] for _ in range(n_chunks)]\n",
    "del submission_df\n",
    "gc.collect()\n",
    "predictions = []\n",
    "for chunk in chunks:\n",
    "    chunk_pred = model.predict_proba(chunk.drop(\"case_id_base\"))\n",
    "    predictions.append(chunk_pred)\n",
    "all_predictions = np.ravel(predictions)"
   ]
  },
  {
   "cell_type": "code",
   "execution_count": 37,
   "id": "ca7dec51",
   "metadata": {
    "execution": {
     "iopub.execute_input": "2024-04-24T16:02:19.563901Z",
     "iopub.status.busy": "2024-04-24T16:02:19.563213Z",
     "iopub.status.idle": "2024-04-24T16:02:19.582061Z",
     "shell.execute_reply": "2024-04-24T16:02:19.581081Z"
    },
    "papermill": {
     "duration": 0.060652,
     "end_time": "2024-04-24T16:02:19.584308",
     "exception": false,
     "start_time": "2024-04-24T16:02:19.523656",
     "status": "completed"
    },
    "tags": []
   },
   "outputs": [],
   "source": [
    "sub_df = pd.DataFrame({\n",
    "    \"case_id\": case_ids,\n",
    "    \"score\": all_predictions\n",
    "}).set_index(\"case_id\")\n",
    "sub_df.to_csv(\"./submission.csv\")"
   ]
  }
 ],
 "metadata": {
  "kaggle": {
   "accelerator": "gpu",
   "dataSources": [
    {
     "databundleVersionId": 7921029,
     "sourceId": 50160,
     "sourceType": "competition"
    },
    {
     "datasetId": 4800576,
     "sourceId": 8135359,
     "sourceType": "datasetVersion"
    }
   ],
   "dockerImageVersionId": 30699,
   "isGpuEnabled": true,
   "isInternetEnabled": false,
   "language": "python",
   "sourceType": "notebook"
  },
  "kernelspec": {
   "display_name": "Python 3",
   "language": "python",
   "name": "python3"
  },
  "language_info": {
   "codemirror_mode": {
    "name": "ipython",
    "version": 3
   },
   "file_extension": ".py",
   "mimetype": "text/x-python",
   "name": "python",
   "nbconvert_exporter": "python",
   "pygments_lexer": "ipython3",
   "version": "3.10.13"
  },
  "papermill": {
   "default_parameters": {},
   "duration": 21423.103985,
   "end_time": "2024-04-24T16:02:21.194907",
   "environment_variables": {},
   "exception": null,
   "input_path": "__notebook__.ipynb",
   "output_path": "__notebook__.ipynb",
   "parameters": {},
   "start_time": "2024-04-24T10:05:18.090922",
   "version": "2.5.0"
  }
 },
 "nbformat": 4,
 "nbformat_minor": 5
}
