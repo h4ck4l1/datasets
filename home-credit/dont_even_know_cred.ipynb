{
 "cells": [
  {
   "cell_type": "code",
   "execution_count": 1,
   "metadata": {},
   "outputs": [],
   "source": [
    "import os,sys,warnings,time,re,math,gc\n",
    "warnings.filterwarnings(\"ignore\")\n",
    "from glob import glob\n",
    "import numpy as np\n",
    "import pandas as pd\n",
    "import polars as pl\n",
    "import polars.selectors as cs\n",
    "from sklearn.metrics import roc_auc_score\n",
    "from sklearn.model_selection import StratifiedGroupKFold,GroupKFold,train_test_split\n",
    "import lightgbm as lgb\n",
    "import catboost as cgb\n",
    "import xgboost as xgb\n",
    "import joblib"
   ]
  },
  {
   "cell_type": "code",
   "execution_count": 2,
   "metadata": {},
   "outputs": [
    {
     "data": {
      "text/plain": [
       "polars.config.Config"
      ]
     },
     "execution_count": 2,
     "metadata": {},
     "output_type": "execute_result"
    }
   ],
   "source": [
    "pl.Config.set_float_precision(2)\n",
    "pl.Config.set_fmt_float(\"full\")\n",
    "pl.Config.set_tbl_rows(20)\n",
    "pl.Config.set_fmt_str_lengths(200)"
   ]
  },
  {
   "cell_type": "code",
   "execution_count": 3,
   "metadata": {},
   "outputs": [],
   "source": [
    "path_to_train = \"/home/sohail/Downloads/credit_risk/train\"\n",
    "path_to_test = \"/home/sohail/Downloads/credit_risk/test\""
   ]
  },
  {
   "cell_type": "code",
   "execution_count": 4,
   "metadata": {},
   "outputs": [
    {
     "data": {
      "text/html": [
       "<div><style>\n",
       ".dataframe > thead > tr,\n",
       ".dataframe > tbody > tr {\n",
       "  text-align: right;\n",
       "  white-space: pre-wrap;\n",
       "}\n",
       "</style>\n",
       "<small>shape: (5, 3)</small><table border=\"1\" class=\"dataframe\"><thead><tr><th>index</th><th>path</th><th>filename</th></tr><tr><td>i64</td><td>str</td><td>str</td></tr></thead><tbody><tr><td>31</td><td>&quot;/home/sohail/Downloads/credit_risk/train/train_applprev_1_0.parquet&quot;</td><td>&quot;train_applprev_1_0.parquet&quot;</td></tr><tr><td>13</td><td>&quot;/home/sohail/Downloads/credit_risk/train/train_applprev_1_1.parquet&quot;</td><td>&quot;train_applprev_1_1.parquet&quot;</td></tr><tr><td>0</td><td>&quot;/home/sohail/Downloads/credit_risk/train/train_applprev_2.parquet&quot;</td><td>&quot;train_applprev_2.parquet&quot;</td></tr><tr><td>7</td><td>&quot;/home/sohail/Downloads/credit_risk/train/train_base.parquet&quot;</td><td>&quot;train_base.parquet&quot;</td></tr><tr><td>11</td><td>&quot;/home/sohail/Downloads/credit_risk/train/train_credit_bureau_a_1_0.parquet&quot;</td><td>&quot;train_credit_bureau_a_1_0.parquet&quot;</td></tr></tbody></table></div>"
      ],
      "text/plain": [
       "shape: (5, 3)\n",
       "┌───────┬──────────────────────────────────────────────────────┬───────────────────────────────────┐\n",
       "│ index ┆ path                                                 ┆ filename                          │\n",
       "│ ---   ┆ ---                                                  ┆ ---                               │\n",
       "│ i64   ┆ str                                                  ┆ str                               │\n",
       "╞═══════╪══════════════════════════════════════════════════════╪═══════════════════════════════════╡\n",
       "│ 31    ┆ /home/sohail/Downloads/credit_risk/train/train_applp ┆ train_applprev_1_0.parquet        │\n",
       "│       ┆ rev_1_0.parquet                                      ┆                                   │\n",
       "│ 13    ┆ /home/sohail/Downloads/credit_risk/train/train_applp ┆ train_applprev_1_1.parquet        │\n",
       "│       ┆ rev_1_1.parquet                                      ┆                                   │\n",
       "│ 0     ┆ /home/sohail/Downloads/credit_risk/train/train_applp ┆ train_applprev_2.parquet          │\n",
       "│       ┆ rev_2.parquet                                        ┆                                   │\n",
       "│ 7     ┆ /home/sohail/Downloads/credit_risk/train/train_base. ┆ train_base.parquet                │\n",
       "│       ┆ parquet                                              ┆                                   │\n",
       "│ 11    ┆ /home/sohail/Downloads/credit_risk/train/train_credi ┆ train_credit_bureau_a_1_0.parquet │\n",
       "│       ┆ t_bureau_a_1_0.parquet                               ┆                                   │\n",
       "└───────┴──────────────────────────────────────────────────────┴───────────────────────────────────┘"
      ]
     },
     "metadata": {},
     "output_type": "display_data"
    },
    {
     "data": {
      "text/html": [
       "<div><style>\n",
       ".dataframe > thead > tr,\n",
       ".dataframe > tbody > tr {\n",
       "  text-align: right;\n",
       "  white-space: pre-wrap;\n",
       "}\n",
       "</style>\n",
       "<small>shape: (5, 3)</small><table border=\"1\" class=\"dataframe\"><thead><tr><th>index</th><th>path</th><th>filename</th></tr><tr><td>i64</td><td>str</td><td>str</td></tr></thead><tbody><tr><td>31</td><td>&quot;/home/sohail/Downloads/credit_risk/test/test_applprev_1_0.parquet&quot;</td><td>&quot;test_applprev_1_0.parquet&quot;</td></tr><tr><td>35</td><td>&quot;/home/sohail/Downloads/credit_risk/test/test_applprev_1_1.parquet&quot;</td><td>&quot;test_applprev_1_1.parquet&quot;</td></tr><tr><td>9</td><td>&quot;/home/sohail/Downloads/credit_risk/test/test_applprev_1_2.parquet&quot;</td><td>&quot;test_applprev_1_2.parquet&quot;</td></tr><tr><td>1</td><td>&quot;/home/sohail/Downloads/credit_risk/test/test_applprev_2.parquet&quot;</td><td>&quot;test_applprev_2.parquet&quot;</td></tr><tr><td>33</td><td>&quot;/home/sohail/Downloads/credit_risk/test/test_base.parquet&quot;</td><td>&quot;test_base.parquet&quot;</td></tr></tbody></table></div>"
      ],
      "text/plain": [
       "shape: (5, 3)\n",
       "┌───────┬──────────────────────────────────────────────────────────────┬───────────────────────────┐\n",
       "│ index ┆ path                                                         ┆ filename                  │\n",
       "│ ---   ┆ ---                                                          ┆ ---                       │\n",
       "│ i64   ┆ str                                                          ┆ str                       │\n",
       "╞═══════╪══════════════════════════════════════════════════════════════╪═══════════════════════════╡\n",
       "│ 31    ┆ /home/sohail/Downloads/credit_risk/test/test_applprev_1_0.pa ┆ test_applprev_1_0.parquet │\n",
       "│       ┆ rquet                                                        ┆                           │\n",
       "│ 35    ┆ /home/sohail/Downloads/credit_risk/test/test_applprev_1_1.pa ┆ test_applprev_1_1.parquet │\n",
       "│       ┆ rquet                                                        ┆                           │\n",
       "│ 9     ┆ /home/sohail/Downloads/credit_risk/test/test_applprev_1_2.pa ┆ test_applprev_1_2.parquet │\n",
       "│       ┆ rquet                                                        ┆                           │\n",
       "│ 1     ┆ /home/sohail/Downloads/credit_risk/test/test_applprev_2.parq ┆ test_applprev_2.parquet   │\n",
       "│       ┆ uet                                                          ┆                           │\n",
       "│ 33    ┆ /home/sohail/Downloads/credit_risk/test/test_base.parquet    ┆ test_base.parquet         │\n",
       "└───────┴──────────────────────────────────────────────────────────────┴───────────────────────────┘"
      ]
     },
     "metadata": {},
     "output_type": "display_data"
    }
   ],
   "source": [
    "all_train_files = glob(path_to_train+\"/*.parquet\")\n",
    "all_test_files = glob(path_to_test+\"/*.parquet\")\n",
    "train_files_df = pl.DataFrame({\"index\":range(len(all_train_files)),\"path\":all_train_files})\n",
    "test_files_df = pl.DataFrame({\"index\":range(len(all_test_files)),\"path\":all_test_files})\n",
    "train_files_df = (\n",
    "    train_files_df\n",
    "    .with_columns(\n",
    "        (pl.col(\"path\").str.split(\"/\").list.get(-1)).alias(\"filename\")\n",
    "    )\n",
    "    .sort(by=\"filename\")\n",
    ")\n",
    "test_files_df = (\n",
    "    test_files_df\n",
    "    .with_columns(\n",
    "        (pl.col(\"path\").str.split(\"/\").list.get(-1)).alias(\"filename\")\n",
    "    )\n",
    "    .sort(by=\"filename\")\n",
    ")\n",
    "display(train_files_df.head())\n",
    "display(test_files_df.head())"
   ]
  },
  {
   "cell_type": "code",
   "execution_count": 5,
   "metadata": {},
   "outputs": [
    {
     "data": {
      "text/html": [
       "<div><style>\n",
       ".dataframe > thead > tr,\n",
       ".dataframe > tbody > tr {\n",
       "  text-align: right;\n",
       "  white-space: pre-wrap;\n",
       "}\n",
       "</style>\n",
       "<small>shape: (1_526_659, 8)</small><table border=\"1\" class=\"dataframe\"><thead><tr><th>case_id</th><th>Date</th><th>week_num</th><th>month</th><th>weekday</th><th>week</th><th>year</th><th>target</th></tr><tr><td>u64</td><td>date</td><td>u8</td><td>i8</td><td>i8</td><td>i8</td><td>i32</td><td>u8</td></tr></thead><tbody><tr><td>0</td><td>2019-01-03</td><td>0</td><td>1</td><td>4</td><td>1</td><td>1</td><td>0</td></tr><tr><td>1</td><td>2019-01-03</td><td>0</td><td>1</td><td>4</td><td>1</td><td>1</td><td>0</td></tr><tr><td>2</td><td>2019-01-04</td><td>0</td><td>1</td><td>5</td><td>1</td><td>1</td><td>0</td></tr><tr><td>3</td><td>2019-01-03</td><td>0</td><td>1</td><td>4</td><td>1</td><td>1</td><td>0</td></tr><tr><td>4</td><td>2019-01-04</td><td>0</td><td>1</td><td>5</td><td>1</td><td>1</td><td>1</td></tr><tr><td>5</td><td>2019-01-02</td><td>0</td><td>1</td><td>3</td><td>1</td><td>1</td><td>0</td></tr><tr><td>6</td><td>2019-01-03</td><td>0</td><td>1</td><td>4</td><td>1</td><td>1</td><td>0</td></tr><tr><td>7</td><td>2019-01-03</td><td>0</td><td>1</td><td>4</td><td>1</td><td>1</td><td>0</td></tr><tr><td>8</td><td>2019-01-03</td><td>0</td><td>1</td><td>4</td><td>1</td><td>1</td><td>0</td></tr><tr><td>9</td><td>2019-01-03</td><td>0</td><td>1</td><td>4</td><td>1</td><td>1</td><td>0</td></tr><tr><td>&hellip;</td><td>&hellip;</td><td>&hellip;</td><td>&hellip;</td><td>&hellip;</td><td>&hellip;</td><td>&hellip;</td><td>&hellip;</td></tr><tr><td>2703445</td><td>2020-10-05</td><td>91</td><td>10</td><td>1</td><td>41</td><td>2</td><td>0</td></tr><tr><td>2703446</td><td>2020-10-05</td><td>91</td><td>10</td><td>1</td><td>41</td><td>2</td><td>0</td></tr><tr><td>2703447</td><td>2020-10-05</td><td>91</td><td>10</td><td>1</td><td>41</td><td>2</td><td>0</td></tr><tr><td>2703448</td><td>2020-10-05</td><td>91</td><td>10</td><td>1</td><td>41</td><td>2</td><td>0</td></tr><tr><td>2703449</td><td>2020-10-05</td><td>91</td><td>10</td><td>1</td><td>41</td><td>2</td><td>0</td></tr><tr><td>2703450</td><td>2020-10-05</td><td>91</td><td>10</td><td>1</td><td>41</td><td>2</td><td>0</td></tr><tr><td>2703451</td><td>2020-10-05</td><td>91</td><td>10</td><td>1</td><td>41</td><td>2</td><td>0</td></tr><tr><td>2703452</td><td>2020-10-05</td><td>91</td><td>10</td><td>1</td><td>41</td><td>2</td><td>0</td></tr><tr><td>2703453</td><td>2020-10-05</td><td>91</td><td>10</td><td>1</td><td>41</td><td>2</td><td>0</td></tr><tr><td>2703454</td><td>2020-10-05</td><td>91</td><td>10</td><td>1</td><td>41</td><td>2</td><td>0</td></tr></tbody></table></div>"
      ],
      "text/plain": [
       "shape: (1_526_659, 8)\n",
       "┌─────────┬────────────┬──────────┬───────┬─────────┬──────┬──────┬────────┐\n",
       "│ case_id ┆ Date       ┆ week_num ┆ month ┆ weekday ┆ week ┆ year ┆ target │\n",
       "│ ---     ┆ ---        ┆ ---      ┆ ---   ┆ ---     ┆ ---  ┆ ---  ┆ ---    │\n",
       "│ u64     ┆ date       ┆ u8       ┆ i8    ┆ i8      ┆ i8   ┆ i32  ┆ u8     │\n",
       "╞═════════╪════════════╪══════════╪═══════╪═════════╪══════╪══════╪════════╡\n",
       "│ 0       ┆ 2019-01-03 ┆ 0        ┆ 1     ┆ 4       ┆ 1    ┆ 1    ┆ 0      │\n",
       "│ 1       ┆ 2019-01-03 ┆ 0        ┆ 1     ┆ 4       ┆ 1    ┆ 1    ┆ 0      │\n",
       "│ 2       ┆ 2019-01-04 ┆ 0        ┆ 1     ┆ 5       ┆ 1    ┆ 1    ┆ 0      │\n",
       "│ 3       ┆ 2019-01-03 ┆ 0        ┆ 1     ┆ 4       ┆ 1    ┆ 1    ┆ 0      │\n",
       "│ 4       ┆ 2019-01-04 ┆ 0        ┆ 1     ┆ 5       ┆ 1    ┆ 1    ┆ 1      │\n",
       "│ 5       ┆ 2019-01-02 ┆ 0        ┆ 1     ┆ 3       ┆ 1    ┆ 1    ┆ 0      │\n",
       "│ 6       ┆ 2019-01-03 ┆ 0        ┆ 1     ┆ 4       ┆ 1    ┆ 1    ┆ 0      │\n",
       "│ 7       ┆ 2019-01-03 ┆ 0        ┆ 1     ┆ 4       ┆ 1    ┆ 1    ┆ 0      │\n",
       "│ 8       ┆ 2019-01-03 ┆ 0        ┆ 1     ┆ 4       ┆ 1    ┆ 1    ┆ 0      │\n",
       "│ 9       ┆ 2019-01-03 ┆ 0        ┆ 1     ┆ 4       ┆ 1    ┆ 1    ┆ 0      │\n",
       "│ …       ┆ …          ┆ …        ┆ …     ┆ …       ┆ …    ┆ …    ┆ …      │\n",
       "│ 2703445 ┆ 2020-10-05 ┆ 91       ┆ 10    ┆ 1       ┆ 41   ┆ 2    ┆ 0      │\n",
       "│ 2703446 ┆ 2020-10-05 ┆ 91       ┆ 10    ┆ 1       ┆ 41   ┆ 2    ┆ 0      │\n",
       "│ 2703447 ┆ 2020-10-05 ┆ 91       ┆ 10    ┆ 1       ┆ 41   ┆ 2    ┆ 0      │\n",
       "│ 2703448 ┆ 2020-10-05 ┆ 91       ┆ 10    ┆ 1       ┆ 41   ┆ 2    ┆ 0      │\n",
       "│ 2703449 ┆ 2020-10-05 ┆ 91       ┆ 10    ┆ 1       ┆ 41   ┆ 2    ┆ 0      │\n",
       "│ 2703450 ┆ 2020-10-05 ┆ 91       ┆ 10    ┆ 1       ┆ 41   ┆ 2    ┆ 0      │\n",
       "│ 2703451 ┆ 2020-10-05 ┆ 91       ┆ 10    ┆ 1       ┆ 41   ┆ 2    ┆ 0      │\n",
       "│ 2703452 ┆ 2020-10-05 ┆ 91       ┆ 10    ┆ 1       ┆ 41   ┆ 2    ┆ 0      │\n",
       "│ 2703453 ┆ 2020-10-05 ┆ 91       ┆ 10    ┆ 1       ┆ 41   ┆ 2    ┆ 0      │\n",
       "│ 2703454 ┆ 2020-10-05 ┆ 91       ┆ 10    ┆ 1       ┆ 41   ┆ 2    ┆ 0      │\n",
       "└─────────┴────────────┴──────────┴───────┴─────────┴──────┴──────┴────────┘"
      ]
     },
     "execution_count": 5,
     "metadata": {},
     "output_type": "execute_result"
    }
   ],
   "source": [
    "train_base = (\n",
    "    pl.read_parquet(path_to_train+\"/train_base.parquet\")\n",
    "    .select(\n",
    "        pl.col(\"case_id\").cast(pl.UInt64),\n",
    "        cs.contains(\"date\").str.to_date().alias(\"Date\"),\n",
    "        pl.col(\"WEEK_NUM\").cast(pl.UInt8).alias(\"week_num\"),\n",
    "        pl.col(\"target\").cast(pl.UInt8)\n",
    "    )\n",
    "    .with_columns(\n",
    "        pl.col(\"Date\").dt.month().alias(\"month\"),\n",
    "        pl.col(\"Date\").dt.weekday().alias(\"weekday\"),\n",
    "        pl.col(\"Date\").dt.week().alias(\"week\"),\n",
    "        (pl.col(\"Date\").dt.year() - 2018).cast(pl.UInt8).alias(\"year\")\n",
    "    )\n",
    "    .select(~cs.contains(\"target\"),cs.contains(\"target\"))\n",
    ")\n",
    "train_base"
   ]
  },
  {
   "cell_type": "code",
   "execution_count": 6,
   "metadata": {},
   "outputs": [
    {
     "data": {
      "text/html": [
       "<div><style>\n",
       ".dataframe > thead > tr,\n",
       ".dataframe > tbody > tr {\n",
       "  text-align: right;\n",
       "  white-space: pre-wrap;\n",
       "}\n",
       "</style>\n",
       "<small>shape: (10, 8)</small><table border=\"1\" class=\"dataframe\"><thead><tr><th>case_id</th><th>Date</th><th>week_num</th><th>month</th><th>weekday</th><th>week</th><th>year</th><th>target</th></tr><tr><td>u64</td><td>date</td><td>u8</td><td>i8</td><td>i8</td><td>i8</td><td>i32</td><td>u8</td></tr></thead><tbody><tr><td>57543</td><td>2020-10-06</td><td>92</td><td>10</td><td>2</td><td>41</td><td>2</td><td>0</td></tr><tr><td>57549</td><td>2020-10-06</td><td>92</td><td>10</td><td>2</td><td>41</td><td>2</td><td>0</td></tr><tr><td>57551</td><td>2020-10-06</td><td>92</td><td>10</td><td>2</td><td>41</td><td>2</td><td>0</td></tr><tr><td>57552</td><td>2020-10-07</td><td>92</td><td>10</td><td>3</td><td>41</td><td>2</td><td>0</td></tr><tr><td>57569</td><td>2020-10-06</td><td>92</td><td>10</td><td>2</td><td>41</td><td>2</td><td>0</td></tr><tr><td>57630</td><td>2020-10-06</td><td>92</td><td>10</td><td>2</td><td>41</td><td>2</td><td>0</td></tr><tr><td>57631</td><td>2020-10-06</td><td>92</td><td>10</td><td>2</td><td>41</td><td>2</td><td>0</td></tr><tr><td>57632</td><td>2020-10-06</td><td>92</td><td>10</td><td>2</td><td>41</td><td>2</td><td>0</td></tr><tr><td>57633</td><td>2020-10-06</td><td>92</td><td>10</td><td>2</td><td>41</td><td>2</td><td>0</td></tr><tr><td>57634</td><td>2020-10-06</td><td>92</td><td>10</td><td>2</td><td>41</td><td>2</td><td>0</td></tr></tbody></table></div>"
      ],
      "text/plain": [
       "shape: (10, 8)\n",
       "┌─────────┬────────────┬──────────┬───────┬─────────┬──────┬──────┬────────┐\n",
       "│ case_id ┆ Date       ┆ week_num ┆ month ┆ weekday ┆ week ┆ year ┆ target │\n",
       "│ ---     ┆ ---        ┆ ---      ┆ ---   ┆ ---     ┆ ---  ┆ ---  ┆ ---    │\n",
       "│ u64     ┆ date       ┆ u8       ┆ i8    ┆ i8      ┆ i8   ┆ i32  ┆ u8     │\n",
       "╞═════════╪════════════╪══════════╪═══════╪═════════╪══════╪══════╪════════╡\n",
       "│ 57543   ┆ 2020-10-06 ┆ 92       ┆ 10    ┆ 2       ┆ 41   ┆ 2    ┆ 0      │\n",
       "│ 57549   ┆ 2020-10-06 ┆ 92       ┆ 10    ┆ 2       ┆ 41   ┆ 2    ┆ 0      │\n",
       "│ 57551   ┆ 2020-10-06 ┆ 92       ┆ 10    ┆ 2       ┆ 41   ┆ 2    ┆ 0      │\n",
       "│ 57552   ┆ 2020-10-07 ┆ 92       ┆ 10    ┆ 3       ┆ 41   ┆ 2    ┆ 0      │\n",
       "│ 57569   ┆ 2020-10-06 ┆ 92       ┆ 10    ┆ 2       ┆ 41   ┆ 2    ┆ 0      │\n",
       "│ 57630   ┆ 2020-10-06 ┆ 92       ┆ 10    ┆ 2       ┆ 41   ┆ 2    ┆ 0      │\n",
       "│ 57631   ┆ 2020-10-06 ┆ 92       ┆ 10    ┆ 2       ┆ 41   ┆ 2    ┆ 0      │\n",
       "│ 57632   ┆ 2020-10-06 ┆ 92       ┆ 10    ┆ 2       ┆ 41   ┆ 2    ┆ 0      │\n",
       "│ 57633   ┆ 2020-10-06 ┆ 92       ┆ 10    ┆ 2       ┆ 41   ┆ 2    ┆ 0      │\n",
       "│ 57634   ┆ 2020-10-06 ┆ 92       ┆ 10    ┆ 2       ┆ 41   ┆ 2    ┆ 0      │\n",
       "└─────────┴────────────┴──────────┴───────┴─────────┴──────┴──────┴────────┘"
      ]
     },
     "execution_count": 6,
     "metadata": {},
     "output_type": "execute_result"
    }
   ],
   "source": [
    "test_base = (\n",
    "    pl.read_parquet(path_to_test+\"/test_base.parquet\")\n",
    "    .select(\n",
    "        pl.col(\"case_id\").cast(pl.UInt64),\n",
    "        cs.contains(\"date\").str.to_date().alias(\"Date\"),\n",
    "        pl.col(\"WEEK_NUM\").cast(pl.UInt8).alias(\"week_num\")\n",
    "    )\n",
    "    .with_columns(\n",
    "        pl.col(\"Date\").dt.month().alias(\"month\"),\n",
    "        pl.col(\"Date\").dt.weekday().alias(\"weekday\"),\n",
    "        pl.col(\"Date\").dt.week().alias(\"week\"),\n",
    "        (pl.col(\"Date\").dt.year() - 2018).cast(pl.UInt8).alias(\"year\"),\n",
    "        pl.lit(0).cast(pl.UInt8).alias(\"target\")\n",
    "    )\n",
    "    .select(~cs.contains(\"target\"),cs.contains(\"target\"))\n",
    ")\n",
    "test_base"
   ]
  },
  {
   "cell_type": "code",
   "execution_count": 7,
   "metadata": {},
   "outputs": [],
   "source": [
    "def rename_cols(df:pl.DataFrame,name:str):\n",
    "    if name == \"intshallow\":\n",
    "        return df.rename(\n",
    "            {\n",
    "                \"dpdmaxdatemonth_442T\":\"dpdmaxdatemonth_442D\",\n",
    "                \"dpdmaxdatemonth_89T\":\"dpdmaxdatemonth_89D\",\n",
    "                \"dpdmaxdateyear_596T\":\"dpdmaxdateyear_596D\",\n",
    "                \"dpdmaxdateyear_896T\":\"dpdmaxdateyear_896D\",\n",
    "                \"overdueamountmaxdatemonth_284T\":\"overdueamountmaxdatemonth_284D\",\n",
    "                \"overdueamountmaxdatemonth_365T\":\"overdueamountmaxdatemonth_365D\",\n",
    "                \"overdueamountmaxdateyear_2T\":\"overdueamountmaxdateyear_2D\",\n",
    "                \"overdueamountmaxdateyear_994T\":\"overdueamountmaxdateyear_994D\",\n",
    "            }\n",
    "        )\n",
    "    elif name == \"intdepth\":\n",
    "        return df.rename(\n",
    "            {\n",
    "                \"pmts_month_158T\":\"pmts_month_158D\",\n",
    "                \"pmts_month_706T\":\"pmts_month_706D\",\n",
    "                \"pmts_year_1139T\":\"pmts_year_1139D\",\n",
    "                \"pmts_year_507T\":\"pmts_year_507D\",\n",
    "            }\n",
    "        )\n",
    "    elif name == \"extshallow\":\n",
    "        return df.rename(\n",
    "            {\n",
    "                \"dpdmaxdatemonth_804T\":\"dpdmaxdatemonth_804D\",\n",
    "                \"dpdmaxdateyear_742T\":\"dpdmaxdateyear_742D\",\n",
    "                \"overdueamountmaxdatemonth_494T\":\"overdueamountmaxdatemonth_494D\",\n",
    "                \"overdueamountmaxdateyear_432T\":\"overdueamountmaxdateyear_432D\",\n",
    "            }\n",
    "        )\n",
    "    else:\n",
    "        return df"
   ]
  },
  {
   "cell_type": "code",
   "execution_count": 8,
   "metadata": {},
   "outputs": [],
   "source": [
    "def convert_dtype(df:pl.DataFrame):\n",
    "    return (\n",
    "        df\n",
    "        .select(\n",
    "            cs.by_name(\"case_id\").cast(pl.UInt64),\n",
    "            cs.contains(\"num_group\").cast(pl.UInt16),\n",
    "            cs.ends_with(\"D\").cast(pl.Date),\n",
    "            (cs.ends_with(\"T\",\"M\") | (cs.ends_with(\"L\") & cs.string())).cast(pl.String),\n",
    "            (cs.ends_with(\"L\") & cs.integer()).cast(pl.Int32),\n",
    "            (cs.ends_with(\"L\") & cs.float()).cast(pl.Float32),\n",
    "            (cs.ends_with(\"P\",\"A\") & cs.unsigned_integer()).cast(pl.UInt32),\n",
    "            (cs.ends_with(\"P\",\"A\") & cs.signed_integer()).cast(pl.Int32),\n",
    "            (cs.ends_with(\"P\",\"A\") & cs.float()).cast(pl.Float32),\n",
    "            pl.col(pl.Boolean)\n",
    "        )\n",
    "    )"
   ]
  },
  {
   "cell_type": "code",
   "execution_count": 9,
   "metadata": {},
   "outputs": [],
   "source": [
    "def grouping(df:pl.DataFrame):\n",
    "    return (\n",
    "        df\n",
    "        .group_by(\"case_id\")\n",
    "        .agg(\n",
    "            cs.numeric().max().prefix(\"max_\"),\n",
    "            cs.numeric().mean().prefix(\"mean_\"),\n",
    "            cs.numeric().first().prefix(\"first_\"),\n",
    "            cs.numeric().last().prefix(\"last_\"),\n",
    "            cs.date().first().prefix(\"first_\"),\n",
    "            cs.date().last().prefix(\"last_\"),\n",
    "            (cs.string() | cs.boolean()).drop_nulls().mode().first().prefix(\"mode_\"),\n",
    "            (cs.string() | cs.boolean()).last().prefix(\"last_\"),\n",
    "            (cs.string() | cs.boolean()).first().prefix(\"first_\")\n",
    "        )\n",
    "    )"
   ]
  },
  {
   "cell_type": "code",
   "execution_count": 10,
   "metadata": {},
   "outputs": [],
   "source": [
    "def preprocess(\n",
    "        string_name:str,\n",
    "        prefix_string:str,\n",
    "        train_base_df:pl.DataFrame,\n",
    "        test_base_df:pl.DataFrame,\n",
    "        cat_cols:list,\n",
    "        num_cols:list\n",
    "        ):\n",
    "    train_files_list = train_files_df.filter(pl.col(\"filename\").str.contains(string_name))[\"path\"].to_list()\n",
    "    test_files_list = test_files_df.filter(pl.col(\"filename\").str.contains(string_name))[\"path\"].to_list()\n",
    "    with pl.StringCache():\n",
    "        train_df = (\n",
    "            pl.concat(\n",
    "                [\n",
    "                    pl.read_parquet(train_file)\n",
    "                    .pipe(rename_cols,prefix_string)\n",
    "                    .pipe(convert_dtype)\n",
    "                    .pipe(grouping)\n",
    "                    for train_file in train_files_list\n",
    "                ],\n",
    "                parallel=False,\n",
    "                rechunk=False\n",
    "            )\n",
    "        )\n",
    "        test_schema = {\"_\".join(col_name.split(\"_\")[1:]) if col_name != \"case_id\" else col_name:dtype for col_name,dtype in train_df.schema.items()}\n",
    "        test_columns = {col_name for col_name in test_schema.keys()}\n",
    "        if prefix_string == \"staticexternal\":\n",
    "            train_df = (\n",
    "                train_df\n",
    "                .with_columns(\n",
    "                    cs.contains(\"302T\").str.split(\"%\").list.gather([0,1])\n",
    "                    .map_elements(\n",
    "                        lambda x: (int(x[0]) + int(x[1].strip().split(\" \")[1]))/200,return_dtype=pl.Float32\n",
    "                    )\n",
    "                )\n",
    "            )\n",
    "        cat_cols += train_df.select((~(cs.numeric() | cs.date())).prefix(f\"{prefix_string}_\")).columns\n",
    "        num_cols += train_df.select((cs.numeric() | cs.date()).exclude(\"case_id\").prefix(f\"{prefix_string}_\")).columns\n",
    "        train_base_df = train_base_df.join(\n",
    "            train_df\n",
    "            .with_columns(pl.col(pl.String).cast(pl.Categorical).rank(\"dense\"))\n",
    "            .select(pl.col(\"case_id\"),pl.all().exclude(\"case_id\").shrink_dtype().prefix(f\"{prefix_string}_\")),\n",
    "            on=\"case_id\",\n",
    "            how=\"left\"\n",
    "        )\n",
    "        test_df = (\n",
    "            pl.concat(\n",
    "                [\n",
    "                    pl.read_parquet(test_file)\n",
    "                    .pipe(rename_cols,prefix_string)\n",
    "                    .select(test_columns)\n",
    "                    .cast(test_schema)\n",
    "                    .pipe(grouping)\n",
    "                    for test_file in test_files_list\n",
    "                ],\n",
    "                parallel=False,\n",
    "                rechunk=False\n",
    "            )\n",
    "        )\n",
    "        if prefix_string == \"staticexternal\":\n",
    "            test_df = (\n",
    "                test_df\n",
    "                .with_columns(\n",
    "                    cs.contains(\"302T\").str.split(\"%\").list.gather([0,1])\n",
    "                    .map_elements(\n",
    "                        lambda x: (int(x[0]) + int(x[1].strip().split(\" \")[1]))/200,return_dtype=pl.Float32\n",
    "                    )\n",
    "                )\n",
    "            )\n",
    "        test_base_df = test_base_df.join(\n",
    "            test_df\n",
    "            .with_columns(pl.col(pl.String).cast(pl.Categorical).rank(\"dense\"))\n",
    "            .select(pl.col(\"case_id\"),pl.all().exclude(\"case_id\").shrink_dtype().prefix(f\"{prefix_string}_\")),\n",
    "            on=\"case_id\",\n",
    "            how=\"left\"\n",
    "        )\n",
    "    return train_base_df,test_base_df,cat_cols,num_cols\n"
   ]
  },
  {
   "cell_type": "code",
   "execution_count": 11,
   "metadata": {},
   "outputs": [],
   "source": [
    "string_list = [\"applprev_1\",\"applprev_2\",\"static_0\",\"static_cb\",\"person_1\",\"person_2\",\"other_1\",\"deposit_1\",\"debitcard\",\"bureau_a_1\",\"bureau_a_2\",\"bureau_b_1\",\"bureau_b_2\",\"registry_a\",\"registry_b\",\"registry_b\"]\n",
    "prefix_string_list = [\"pastshallow\",\"pastdepth\",\"staticbase\",\"staticexternal\",\"personshallow\",\"persondepth\",\"othershallow\",\"depositshallow\",\"cardshallow\",\"intshallow\",\"intdepth\",\"extshallow\",\"extdepth\",\"rega\",\"regb\",\"regc\"]"
   ]
  },
  {
   "cell_type": "code",
   "execution_count": 12,
   "metadata": {},
   "outputs": [
    {
     "name": "stdout",
     "output_type": "stream",
     "text": [
      "done: 1 for pastshallow\n",
      "done: 2 for pastdepth\n",
      "done: 3 for staticbase\n",
      "done: 4 for staticexternal\n",
      "done: 5 for personshallow\n",
      "done: 6 for persondepth\n",
      "done: 7 for othershallow\n",
      "done: 8 for depositshallow\n",
      "done: 9 for cardshallow\n",
      "done: 10 for intshallow\n",
      "done: 11 for intdepth\n",
      "done: 12 for extshallow\n",
      "done: 13 for extdepth\n",
      "done: 14 for rega\n",
      "done: 15 for regb\n",
      "done: 16 for regc\n"
     ]
    }
   ],
   "source": [
    "cat_cols = []\n",
    "num_cols = []\n",
    "count = 0\n",
    "for string_name,prefix_name in zip(string_list,prefix_string_list):\n",
    "    train_base,test_base,cat_cols,num_cols = preprocess(string_name,prefix_name,train_base,test_base,cat_cols,num_cols)\n",
    "    print(f\"done: {count+1} for {prefix_name}\")\n",
    "    count += 1\n",
    "    gc.collect()"
   ]
  },
  {
   "cell_type": "code",
   "execution_count": 13,
   "metadata": {},
   "outputs": [],
   "source": [
    "train_base = (\n",
    "    train_base\n",
    "    .with_columns(\n",
    "        (pl.col(pl.Date) - pl.col(\"Date\")).dt.total_days(),\n",
    "        pl.col(pl.Date).exclude(\"Date\").dt.weekday().prefix(\"weekdaydate_\"),\n",
    "        pl.col(pl.Date).exclude(\"Date\").dt.month().prefix(\"monthdate_\"),\n",
    "        pl.col(pl.Date).exclude(\"Date\").dt.week().prefix(\"weekdate_\")\n",
    "    )\n",
    "    .drop(\"Date\",\"case_id\")\n",
    "    .with_columns(pl.col(pl.Boolean).cast(pl.UInt8))\n",
    "    .select(pl.all().shrink_dtype())\n",
    ")\n",
    "\n",
    "all_date_cols = train_base.select(cs.contains([\"weekdaydate\",\"monthdate\",\"weekdate\"])).columns"
   ]
  },
  {
   "cell_type": "code",
   "execution_count": 14,
   "metadata": {},
   "outputs": [
    {
     "data": {
      "text/plain": [
       "320"
      ]
     },
     "execution_count": 14,
     "metadata": {},
     "output_type": "execute_result"
    }
   ],
   "source": [
    "list_of_nan_groups = (\n",
    "    train_base.select(num_cols)\n",
    "    .select(pl.all().is_null().sum())\n",
    "    .transpose(include_header=True)\n",
    "    .group_by(\"column_0\")\n",
    "    .agg(pl.col(\"column\"))\n",
    "    .sort(by=\"column_0\")\n",
    "    [\"column\"].to_list()\n",
    ")\n",
    "len(list_of_nan_groups)"
   ]
  },
  {
   "cell_type": "code",
   "execution_count": 15,
   "metadata": {},
   "outputs": [
    {
     "data": {
      "text/plain": [
       "486"
      ]
     },
     "execution_count": 15,
     "metadata": {},
     "output_type": "execute_result"
    }
   ],
   "source": [
    "def reduce_grps(grps):\n",
    "    use = []\n",
    "    for g in grps:\n",
    "        mx = 0; vx = g[0]\n",
    "        for gg in g:\n",
    "            n = train_base.select(gg).n_unique()\n",
    "            if n > mx:\n",
    "                mx = n\n",
    "                vx = gg\n",
    "        use.append(vx)\n",
    "    return use\n",
    "\n",
    "def group_col_by_corr(mat:pl.DataFrame,thresh=0.8):\n",
    "    remaining_cols = mat.columns\n",
    "    groups = []\n",
    "    while remaining_cols:\n",
    "        col_name = remaining_cols.pop(0)\n",
    "        corr_cols = (\n",
    "        mat\n",
    "        .fill_null(0)\n",
    "        .corr()\n",
    "        .pipe(lambda df: df.select(pl.Series(name=\"col_name\",values=df.columns),pl.all()))\n",
    "        .select(\"col_name\",col_name)\n",
    "        .filter(pl.col(col_name) >= thresh)\n",
    "        [\"col_name\"].to_list()\n",
    "    )\n",
    "        groups.append(corr_cols)\n",
    "        remaining_cols = [c for c in remaining_cols if c not in corr_cols]\n",
    "\n",
    "    return groups\n",
    "\n",
    "\n",
    "uses = []\n",
    "count = 0\n",
    "for k in list_of_nan_groups[1:]:\n",
    "    if len(k) > 1:\n",
    "        grps = group_col_by_corr(train_base.select(k))\n",
    "        use = reduce_grps(grps)\n",
    "        uses += use\n",
    "    else:\n",
    "        uses += k\n",
    "    count += 1\n",
    "\n",
    "len(uses)"
   ]
  },
  {
   "cell_type": "code",
   "execution_count": 16,
   "metadata": {},
   "outputs": [
    {
     "data": {
      "text/plain": [
       "['personshallow_first_birth_259D',\n",
       " 'personshallow_first_mainoccupationinc_384A',\n",
       " 'personshallow_first_num_group1',\n",
       " 'personshallow_first_personindex_1023L',\n",
       " 'personshallow_first_persontype_1072L',\n",
       " 'personshallow_first_persontype_792L',\n",
       " 'personshallow_last_num_group1',\n",
       " 'personshallow_max_mainoccupationinc_384A',\n",
       " 'personshallow_max_num_group1',\n",
       " 'personshallow_max_personindex_1023L',\n",
       " 'personshallow_max_persontype_1072L',\n",
       " 'personshallow_max_persontype_792L',\n",
       " 'personshallow_mean_mainoccupationinc_384A',\n",
       " 'personshallow_mean_num_group1',\n",
       " 'personshallow_mean_personindex_1023L',\n",
       " 'personshallow_mean_persontype_1072L',\n",
       " 'personshallow_mean_persontype_792L',\n",
       " 'staticbase_first_annuity_780A',\n",
       " 'staticbase_first_applicationcnt_361L',\n",
       " 'staticbase_first_applications30d_658L',\n",
       " 'staticbase_first_applicationscnt_1086L',\n",
       " 'staticbase_first_applicationscnt_464L',\n",
       " 'staticbase_first_applicationscnt_629L',\n",
       " 'staticbase_first_applicationscnt_867L',\n",
       " 'staticbase_first_clientscnt12m_3712952L',\n",
       " 'staticbase_first_clientscnt3m_3712950L',\n",
       " 'staticbase_first_clientscnt6m_3712949L',\n",
       " 'staticbase_first_clientscnt_100L',\n",
       " 'staticbase_first_clientscnt_1022L',\n",
       " 'staticbase_first_clientscnt_1071L',\n",
       " 'staticbase_first_clientscnt_1130L',\n",
       " 'staticbase_first_clientscnt_157L',\n",
       " 'staticbase_first_clientscnt_257L',\n",
       " 'staticbase_first_clientscnt_304L',\n",
       " 'staticbase_first_clientscnt_360L',\n",
       " 'staticbase_first_clientscnt_493L',\n",
       " 'staticbase_first_clientscnt_533L',\n",
       " 'staticbase_first_clientscnt_887L',\n",
       " 'staticbase_first_clientscnt_946L',\n",
       " 'staticbase_first_credamount_770A',\n",
       " 'staticbase_first_deferredmnthsnum_166L',\n",
       " 'staticbase_first_disbursedcredamount_1113A',\n",
       " 'staticbase_first_downpmt_116A',\n",
       " 'staticbase_first_homephncnt_628L',\n",
       " 'staticbase_first_mobilephncnt_593L',\n",
       " 'staticbase_first_numactivecreds_622L',\n",
       " 'staticbase_first_numactivecredschannel_414L',\n",
       " 'staticbase_first_numactiverelcontr_750L',\n",
       " 'staticbase_first_numcontrs3months_479L',\n",
       " 'staticbase_first_numnotactivated_1143L',\n",
       " 'staticbase_first_numpmtchanneldd_318L',\n",
       " 'staticbase_first_numrejects9m_859L',\n",
       " 'staticbase_first_sellerplacecnt_915L',\n",
       " 'staticbase_first_sellerplacescnt_216L',\n",
       " 'staticbase_last_annuity_780A',\n",
       " 'staticbase_last_applicationcnt_361L',\n",
       " 'staticbase_last_applications30d_658L',\n",
       " 'staticbase_last_applicationscnt_1086L',\n",
       " 'staticbase_last_applicationscnt_464L',\n",
       " 'staticbase_last_applicationscnt_629L',\n",
       " 'staticbase_last_applicationscnt_867L',\n",
       " 'staticbase_last_clientscnt12m_3712952L',\n",
       " 'staticbase_last_clientscnt3m_3712950L',\n",
       " 'staticbase_last_clientscnt6m_3712949L',\n",
       " 'staticbase_last_clientscnt_100L',\n",
       " 'staticbase_last_clientscnt_1022L',\n",
       " 'staticbase_last_clientscnt_1071L',\n",
       " 'staticbase_last_clientscnt_1130L',\n",
       " 'staticbase_last_clientscnt_157L',\n",
       " 'staticbase_last_clientscnt_257L',\n",
       " 'staticbase_last_clientscnt_304L',\n",
       " 'staticbase_last_clientscnt_360L',\n",
       " 'staticbase_last_clientscnt_493L',\n",
       " 'staticbase_last_clientscnt_533L',\n",
       " 'staticbase_last_clientscnt_887L',\n",
       " 'staticbase_last_clientscnt_946L',\n",
       " 'staticbase_last_credamount_770A',\n",
       " 'staticbase_last_deferredmnthsnum_166L',\n",
       " 'staticbase_last_disbursedcredamount_1113A',\n",
       " 'staticbase_last_downpmt_116A',\n",
       " 'staticbase_last_homephncnt_628L',\n",
       " 'staticbase_last_mobilephncnt_593L',\n",
       " 'staticbase_last_numactivecreds_622L',\n",
       " 'staticbase_last_numactivecredschannel_414L',\n",
       " 'staticbase_last_numactiverelcontr_750L',\n",
       " 'staticbase_last_numcontrs3months_479L',\n",
       " 'staticbase_last_numnotactivated_1143L',\n",
       " 'staticbase_last_numpmtchanneldd_318L',\n",
       " 'staticbase_last_numrejects9m_859L',\n",
       " 'staticbase_last_sellerplacecnt_915L',\n",
       " 'staticbase_last_sellerplacescnt_216L',\n",
       " 'staticbase_max_annuity_780A',\n",
       " 'staticbase_max_applicationcnt_361L',\n",
       " 'staticbase_max_applications30d_658L',\n",
       " 'staticbase_max_applicationscnt_1086L',\n",
       " 'staticbase_max_applicationscnt_464L',\n",
       " 'staticbase_max_applicationscnt_629L',\n",
       " 'staticbase_max_applicationscnt_867L',\n",
       " 'staticbase_max_clientscnt12m_3712952L',\n",
       " 'staticbase_max_clientscnt3m_3712950L',\n",
       " 'staticbase_max_clientscnt6m_3712949L',\n",
       " 'staticbase_max_clientscnt_100L',\n",
       " 'staticbase_max_clientscnt_1022L',\n",
       " 'staticbase_max_clientscnt_1071L',\n",
       " 'staticbase_max_clientscnt_1130L',\n",
       " 'staticbase_max_clientscnt_157L',\n",
       " 'staticbase_max_clientscnt_257L',\n",
       " 'staticbase_max_clientscnt_304L',\n",
       " 'staticbase_max_clientscnt_360L',\n",
       " 'staticbase_max_clientscnt_493L',\n",
       " 'staticbase_max_clientscnt_533L',\n",
       " 'staticbase_max_clientscnt_887L',\n",
       " 'staticbase_max_clientscnt_946L',\n",
       " 'staticbase_max_credamount_770A',\n",
       " 'staticbase_max_deferredmnthsnum_166L',\n",
       " 'staticbase_max_disbursedcredamount_1113A',\n",
       " 'staticbase_max_downpmt_116A',\n",
       " 'staticbase_max_homephncnt_628L',\n",
       " 'staticbase_max_mobilephncnt_593L',\n",
       " 'staticbase_max_numactivecreds_622L',\n",
       " 'staticbase_max_numactivecredschannel_414L',\n",
       " 'staticbase_max_numactiverelcontr_750L',\n",
       " 'staticbase_max_numcontrs3months_479L',\n",
       " 'staticbase_max_numnotactivated_1143L',\n",
       " 'staticbase_max_numpmtchanneldd_318L',\n",
       " 'staticbase_max_numrejects9m_859L',\n",
       " 'staticbase_max_sellerplacecnt_915L',\n",
       " 'staticbase_max_sellerplacescnt_216L',\n",
       " 'staticbase_mean_annuity_780A',\n",
       " 'staticbase_mean_applicationcnt_361L',\n",
       " 'staticbase_mean_applications30d_658L',\n",
       " 'staticbase_mean_applicationscnt_1086L',\n",
       " 'staticbase_mean_applicationscnt_464L',\n",
       " 'staticbase_mean_applicationscnt_629L',\n",
       " 'staticbase_mean_applicationscnt_867L',\n",
       " 'staticbase_mean_clientscnt12m_3712952L',\n",
       " 'staticbase_mean_clientscnt3m_3712950L',\n",
       " 'staticbase_mean_clientscnt6m_3712949L',\n",
       " 'staticbase_mean_clientscnt_100L',\n",
       " 'staticbase_mean_clientscnt_1022L',\n",
       " 'staticbase_mean_clientscnt_1071L',\n",
       " 'staticbase_mean_clientscnt_1130L',\n",
       " 'staticbase_mean_clientscnt_157L',\n",
       " 'staticbase_mean_clientscnt_257L',\n",
       " 'staticbase_mean_clientscnt_304L',\n",
       " 'staticbase_mean_clientscnt_360L',\n",
       " 'staticbase_mean_clientscnt_493L',\n",
       " 'staticbase_mean_clientscnt_533L',\n",
       " 'staticbase_mean_clientscnt_887L',\n",
       " 'staticbase_mean_clientscnt_946L',\n",
       " 'staticbase_mean_credamount_770A',\n",
       " 'staticbase_mean_deferredmnthsnum_166L',\n",
       " 'staticbase_mean_disbursedcredamount_1113A',\n",
       " 'staticbase_mean_downpmt_116A',\n",
       " 'staticbase_mean_homephncnt_628L',\n",
       " 'staticbase_mean_mobilephncnt_593L',\n",
       " 'staticbase_mean_numactivecreds_622L',\n",
       " 'staticbase_mean_numactivecredschannel_414L',\n",
       " 'staticbase_mean_numactiverelcontr_750L',\n",
       " 'staticbase_mean_numcontrs3months_479L',\n",
       " 'staticbase_mean_numnotactivated_1143L',\n",
       " 'staticbase_mean_numpmtchanneldd_318L',\n",
       " 'staticbase_mean_numrejects9m_859L',\n",
       " 'staticbase_mean_sellerplacecnt_915L',\n",
       " 'staticbase_mean_sellerplacescnt_216L']"
      ]
     },
     "execution_count": 16,
     "metadata": {},
     "output_type": "execute_result"
    }
   ],
   "source": [
    "sorted(list_of_nan_groups[0])"
   ]
  },
  {
   "cell_type": "code",
   "execution_count": 26,
   "metadata": {},
   "outputs": [
    {
     "data": {
      "text/plain": [
       "486"
      ]
     },
     "execution_count": 26,
     "metadata": {},
     "output_type": "execute_result"
    }
   ],
   "source": [
    "len(uses)"
   ]
  },
  {
   "cell_type": "code",
   "execution_count": 27,
   "metadata": {},
   "outputs": [
    {
     "data": {
      "text/plain": [
       "481"
      ]
     },
     "execution_count": 27,
     "metadata": {},
     "output_type": "execute_result"
    }
   ],
   "source": [
    "len(set(uses))"
   ]
  },
  {
   "cell_type": "code",
   "execution_count": 29,
   "metadata": {},
   "outputs": [
    {
     "data": {
      "text/html": [
       "<div><style>\n",
       ".dataframe > thead > tr,\n",
       ".dataframe > tbody > tr {\n",
       "  text-align: right;\n",
       "  white-space: pre-wrap;\n",
       "}\n",
       "</style>\n",
       "<small>shape: (5, 982)</small><table border=\"1\" class=\"dataframe\"><thead><tr><th>staticbase_max_applicationcnt_361L</th><th>staticbase_max_applications30d_658L</th><th>staticbase_max_applicationscnt_1086L</th><th>staticbase_max_applicationscnt_464L</th><th>staticbase_max_applicationscnt_629L</th><th>staticbase_max_applicationscnt_867L</th><th>staticbase_max_clientscnt12m_3712952L</th><th>staticbase_max_clientscnt3m_3712950L</th><th>staticbase_max_clientscnt6m_3712949L</th><th>staticbase_max_clientscnt_100L</th><th>staticbase_max_clientscnt_1022L</th><th>staticbase_max_clientscnt_1071L</th><th>staticbase_max_clientscnt_1130L</th><th>staticbase_max_clientscnt_157L</th><th>staticbase_max_clientscnt_257L</th><th>staticbase_max_clientscnt_304L</th><th>staticbase_max_clientscnt_360L</th><th>staticbase_max_clientscnt_493L</th><th>staticbase_max_clientscnt_533L</th><th>staticbase_max_clientscnt_887L</th><th>staticbase_max_clientscnt_946L</th><th>staticbase_max_deferredmnthsnum_166L</th><th>staticbase_max_homephncnt_628L</th><th>staticbase_max_mobilephncnt_593L</th><th>staticbase_max_numactivecreds_622L</th><th>staticbase_max_numactivecredschannel_414L</th><th>staticbase_max_numactiverelcontr_750L</th><th>staticbase_max_numcontrs3months_479L</th><th>staticbase_max_numnotactivated_1143L</th><th>staticbase_max_numpmtchanneldd_318L</th><th>staticbase_max_numrejects9m_859L</th><th>staticbase_max_sellerplacecnt_915L</th><th>staticbase_max_sellerplacescnt_216L</th><th>staticbase_max_annuity_780A</th><th>staticbase_max_credamount_770A</th><th>staticbase_max_disbursedcredamount_1113A</th><th>staticbase_max_downpmt_116A</th><th>&hellip;</th><th>extshallow_mode_contracttype_653M</th><th>extshallow_mode_credor_3940957M</th><th>extshallow_mode_periodicityofpmts_997M</th><th>extshallow_mode_pmtmethod_731M</th><th>extshallow_mode_purposeofcred_722M</th><th>extshallow_mode_subjectrole_326M</th><th>extshallow_mode_subjectrole_43M</th><th>extshallow_mode_periodicityofpmts_997L</th><th>extshallow_last_classificationofcontr_1114M</th><th>extshallow_last_contractst_516M</th><th>extshallow_last_contracttype_653M</th><th>extshallow_last_credor_3940957M</th><th>extshallow_last_periodicityofpmts_997M</th><th>extshallow_last_pmtmethod_731M</th><th>extshallow_last_purposeofcred_722M</th><th>extshallow_last_subjectrole_326M</th><th>extshallow_last_subjectrole_43M</th><th>extshallow_last_periodicityofpmts_997L</th><th>extshallow_first_classificationofcontr_1114M</th><th>extshallow_first_contractst_516M</th><th>extshallow_first_contracttype_653M</th><th>extshallow_first_credor_3940957M</th><th>extshallow_first_periodicityofpmts_997M</th><th>extshallow_first_pmtmethod_731M</th><th>extshallow_first_purposeofcred_722M</th><th>extshallow_first_subjectrole_326M</th><th>extshallow_first_subjectrole_43M</th><th>extshallow_first_periodicityofpmts_997L</th><th>rega_mode_name_4527232M</th><th>rega_last_name_4527232M</th><th>rega_first_name_4527232M</th><th>regb_mode_name_4917606M</th><th>regb_last_name_4917606M</th><th>regb_first_name_4917606M</th><th>regc_mode_name_4917606M</th><th>regc_last_name_4917606M</th><th>regc_first_name_4917606M</th></tr><tr><td>f32</td><td>f32</td><td>f32</td><td>f32</td><td>f32</td><td>f32</td><td>f32</td><td>f32</td><td>f32</td><td>f32</td><td>f32</td><td>f32</td><td>f32</td><td>f32</td><td>f32</td><td>f32</td><td>f32</td><td>f32</td><td>f32</td><td>f32</td><td>f32</td><td>f32</td><td>f32</td><td>f32</td><td>f32</td><td>f32</td><td>f32</td><td>f32</td><td>f32</td><td>f32</td><td>f32</td><td>f32</td><td>f32</td><td>f32</td><td>f32</td><td>f32</td><td>f32</td><td>&hellip;</td><td>u8</td><td>u8</td><td>u8</td><td>u8</td><td>u8</td><td>u8</td><td>u8</td><td>u8</td><td>u8</td><td>u8</td><td>u8</td><td>u8</td><td>u8</td><td>u8</td><td>u8</td><td>u8</td><td>u8</td><td>u8</td><td>u8</td><td>u8</td><td>u8</td><td>u8</td><td>u8</td><td>u8</td><td>u8</td><td>u8</td><td>u8</td><td>u8</td><td>u32</td><td>u32</td><td>u32</td><td>u16</td><td>u16</td><td>u16</td><td>u16</td><td>u16</td><td>u16</td></tr></thead><tbody><tr><td>0.00</td><td>0.00</td><td>0.00</td><td>0.00</td><td>0.00</td><td>0.00</td><td>0.00</td><td>0.00</td><td>0.00</td><td>0.00</td><td>0.00</td><td>0.00</td><td>0.00</td><td>0.00</td><td>0.00</td><td>0.00</td><td>0.00</td><td>0.00</td><td>0.00</td><td>0.00</td><td>0.00</td><td>0.00</td><td>0.00</td><td>1.00</td><td>0.00</td><td>0.00</td><td>0.00</td><td>0.00</td><td>0.00</td><td>0.00</td><td>0.00</td><td>0.00</td><td>0.00</td><td>1917.60</td><td>30000.00</td><td>30000.00</td><td>0.00</td><td>&hellip;</td><td>null</td><td>null</td><td>null</td><td>null</td><td>null</td><td>null</td><td>null</td><td>null</td><td>null</td><td>null</td><td>null</td><td>null</td><td>null</td><td>null</td><td>null</td><td>null</td><td>null</td><td>null</td><td>null</td><td>null</td><td>null</td><td>null</td><td>null</td><td>null</td><td>null</td><td>null</td><td>null</td><td>null</td><td>null</td><td>null</td><td>null</td><td>null</td><td>null</td><td>null</td><td>null</td><td>null</td><td>null</td></tr><tr><td>0.00</td><td>0.00</td><td>0.00</td><td>0.00</td><td>0.00</td><td>0.00</td><td>0.00</td><td>0.00</td><td>0.00</td><td>0.00</td><td>0.00</td><td>0.00</td><td>0.00</td><td>3.00</td><td>0.00</td><td>0.00</td><td>0.00</td><td>0.00</td><td>0.00</td><td>0.00</td><td>0.00</td><td>0.00</td><td>0.00</td><td>1.00</td><td>0.00</td><td>0.00</td><td>0.00</td><td>0.00</td><td>0.00</td><td>0.00</td><td>0.00</td><td>0.00</td><td>0.00</td><td>3134.00</td><td>19999.80</td><td>19999.80</td><td>0.00</td><td>&hellip;</td><td>null</td><td>null</td><td>null</td><td>null</td><td>null</td><td>null</td><td>null</td><td>null</td><td>null</td><td>null</td><td>null</td><td>null</td><td>null</td><td>null</td><td>null</td><td>null</td><td>null</td><td>null</td><td>null</td><td>null</td><td>null</td><td>null</td><td>null</td><td>null</td><td>null</td><td>null</td><td>null</td><td>null</td><td>null</td><td>null</td><td>null</td><td>null</td><td>null</td><td>null</td><td>null</td><td>null</td><td>null</td></tr><tr><td>0.00</td><td>0.00</td><td>0.00</td><td>0.00</td><td>0.00</td><td>0.00</td><td>0.00</td><td>0.00</td><td>0.00</td><td>0.00</td><td>0.00</td><td>0.00</td><td>0.00</td><td>0.00</td><td>0.00</td><td>0.00</td><td>0.00</td><td>0.00</td><td>0.00</td><td>0.00</td><td>0.00</td><td>0.00</td><td>1.00</td><td>2.00</td><td>0.00</td><td>0.00</td><td>0.00</td><td>0.00</td><td>0.00</td><td>0.00</td><td>0.00</td><td>0.00</td><td>0.00</td><td>4937.00</td><td>78000.00</td><td>78000.00</td><td>0.00</td><td>&hellip;</td><td>null</td><td>null</td><td>null</td><td>null</td><td>null</td><td>null</td><td>null</td><td>null</td><td>null</td><td>null</td><td>null</td><td>null</td><td>null</td><td>null</td><td>null</td><td>null</td><td>null</td><td>null</td><td>null</td><td>null</td><td>null</td><td>null</td><td>null</td><td>null</td><td>null</td><td>null</td><td>null</td><td>null</td><td>null</td><td>null</td><td>null</td><td>null</td><td>null</td><td>null</td><td>null</td><td>null</td><td>null</td></tr><tr><td>0.00</td><td>1.00</td><td>0.00</td><td>2.00</td><td>0.00</td><td>1.00</td><td>0.00</td><td>0.00</td><td>0.00</td><td>0.00</td><td>0.00</td><td>0.00</td><td>1.00</td><td>0.00</td><td>0.00</td><td>0.00</td><td>0.00</td><td>0.00</td><td>0.00</td><td>0.00</td><td>0.00</td><td>0.00</td><td>0.00</td><td>1.00</td><td>0.00</td><td>0.00</td><td>0.00</td><td>1.00</td><td>0.00</td><td>0.00</td><td>1.00</td><td>1.00</td><td>1.00</td><td>4643.60</td><td>40000.00</td><td>40000.00</td><td>0.00</td><td>&hellip;</td><td>null</td><td>null</td><td>null</td><td>null</td><td>null</td><td>null</td><td>null</td><td>null</td><td>null</td><td>null</td><td>null</td><td>null</td><td>null</td><td>null</td><td>null</td><td>null</td><td>null</td><td>null</td><td>null</td><td>null</td><td>null</td><td>null</td><td>null</td><td>null</td><td>null</td><td>null</td><td>null</td><td>null</td><td>null</td><td>null</td><td>null</td><td>null</td><td>null</td><td>null</td><td>null</td><td>null</td><td>null</td></tr><tr><td>0.00</td><td>1.00</td><td>0.00</td><td>0.00</td><td>0.00</td><td>1.00</td><td>0.00</td><td>0.00</td><td>0.00</td><td>0.00</td><td>0.00</td><td>0.00</td><td>0.00</td><td>0.00</td><td>0.00</td><td>0.00</td><td>0.00</td><td>0.00</td><td>0.00</td><td>0.00</td><td>0.00</td><td>0.00</td><td>1.00</td><td>1.00</td><td>0.00</td><td>0.00</td><td>0.00</td><td>0.00</td><td>0.00</td><td>0.00</td><td>0.00</td><td>0.00</td><td>0.00</td><td>3390.20</td><td>44000.00</td><td>44000.00</td><td>0.00</td><td>&hellip;</td><td>null</td><td>null</td><td>null</td><td>null</td><td>null</td><td>null</td><td>null</td><td>null</td><td>null</td><td>null</td><td>null</td><td>null</td><td>null</td><td>null</td><td>null</td><td>null</td><td>null</td><td>null</td><td>null</td><td>null</td><td>null</td><td>null</td><td>null</td><td>null</td><td>null</td><td>null</td><td>null</td><td>null</td><td>null</td><td>null</td><td>null</td><td>null</td><td>null</td><td>null</td><td>null</td><td>null</td><td>null</td></tr></tbody></table></div>"
      ],
      "text/plain": [
       "shape: (5, 982)\n",
       "┌───────────┬───────────┬───────────┬───────────┬───┬───────────┬───────────┬───────────┬──────────┐\n",
       "│ staticbas ┆ staticbas ┆ staticbas ┆ staticbas ┆ … ┆ regb_firs ┆ regc_mode ┆ regc_last ┆ regc_fir │\n",
       "│ e_max_app ┆ e_max_app ┆ e_max_app ┆ e_max_app ┆   ┆ t_name_49 ┆ _name_491 ┆ _name_491 ┆ st_name_ │\n",
       "│ licationc ┆ lications ┆ lications ┆ lications ┆   ┆ 17606M    ┆ 7606M     ┆ 7606M     ┆ 4917606M │\n",
       "│ nt_361L   ┆ 30d_658L  ┆ cnt_1086L ┆ cnt_464L  ┆   ┆ ---       ┆ ---       ┆ ---       ┆ ---      │\n",
       "│ ---       ┆ ---       ┆ ---       ┆ ---       ┆   ┆ u16       ┆ u16       ┆ u16       ┆ u16      │\n",
       "│ f32       ┆ f32       ┆ f32       ┆ f32       ┆   ┆           ┆           ┆           ┆          │\n",
       "╞═══════════╪═══════════╪═══════════╪═══════════╪═══╪═══════════╪═══════════╪═══════════╪══════════╡\n",
       "│ 0.00      ┆ 0.00      ┆ 0.00      ┆ 0.00      ┆ … ┆ null      ┆ null      ┆ null      ┆ null     │\n",
       "│ 0.00      ┆ 0.00      ┆ 0.00      ┆ 0.00      ┆ … ┆ null      ┆ null      ┆ null      ┆ null     │\n",
       "│ 0.00      ┆ 0.00      ┆ 0.00      ┆ 0.00      ┆ … ┆ null      ┆ null      ┆ null      ┆ null     │\n",
       "│ 0.00      ┆ 1.00      ┆ 0.00      ┆ 2.00      ┆ … ┆ null      ┆ null      ┆ null      ┆ null     │\n",
       "│ 0.00      ┆ 1.00      ┆ 0.00      ┆ 0.00      ┆ … ┆ null      ┆ null      ┆ null      ┆ null     │\n",
       "└───────────┴───────────┴───────────┴───────────┴───┴───────────┴───────────┴───────────┴──────────┘"
      ]
     },
     "execution_count": 29,
     "metadata": {},
     "output_type": "execute_result"
    }
   ],
   "source": [
    "train_base = train_base.select(list_of_nan_groups[0]+list(set(uses))+cat_cols)\n",
    "train_base.head()"
   ]
  }
 ],
 "metadata": {
  "kernelspec": {
   "display_name": "base",
   "language": "python",
   "name": "python3"
  },
  "language_info": {
   "codemirror_mode": {
    "name": "ipython",
    "version": 3
   },
   "file_extension": ".py",
   "mimetype": "text/x-python",
   "name": "python",
   "nbconvert_exporter": "python",
   "pygments_lexer": "ipython3",
   "version": "3.11.7"
  }
 },
 "nbformat": 4,
 "nbformat_minor": 2
}
