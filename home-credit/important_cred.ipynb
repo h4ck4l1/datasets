{
 "cells": [
  {
   "cell_type": "code",
   "execution_count": 1,
   "metadata": {},
   "outputs": [
    {
     "name": "stdout",
     "output_type": "stream",
     "text": [
      "Exception reporting mode: Minimal\n"
     ]
    }
   ],
   "source": [
    "import os,warnings,gc\n",
    "warnings.filterwarnings('ignore')\n",
    "import numpy as np\n",
    "import json\n",
    "import pandas as pd\n",
    "import polars as pl\n",
    "import polars.selectors as cs\n",
    "from glob import glob\n",
    "from sklearn.metrics import roc_auc_score,auc\n",
    "from sklearn.neighbors import KNeighborsClassifier\n",
    "from sklearn.model_selection import train_test_split,StratifiedGroupKFold\n",
    "from sklearn.preprocessing import OrdinalEncoder\n",
    "import lightgbm as lgb\n",
    "import xgboost as xgb\n",
    "import catboost as cgb\n",
    "%xmode Minimal"
   ]
  },
  {
   "cell_type": "code",
   "execution_count": 2,
   "metadata": {},
   "outputs": [
    {
     "data": {
      "text/html": [
       "<div><style>\n",
       ".dataframe > thead > tr,\n",
       ".dataframe > tbody > tr {\n",
       "  text-align: right;\n",
       "  white-space: pre-wrap;\n",
       "}\n",
       "</style>\n",
       "<small>shape: (1_526_659, 7)</small><table border=\"1\" class=\"dataframe\"><thead><tr><th>case_id_base</th><th>Date</th><th>month</th><th>week</th><th>weekday</th><th>year</th><th>target</th></tr><tr><td>u32</td><td>date</td><td>i8</td><td>i8</td><td>i8</td><td>i32</td><td>u8</td></tr></thead><tbody><tr><td>0</td><td>2019-01-03</td><td>1</td><td>1</td><td>4</td><td>0</td><td>0</td></tr><tr><td>1</td><td>2019-01-03</td><td>1</td><td>1</td><td>4</td><td>0</td><td>0</td></tr><tr><td>2</td><td>2019-01-04</td><td>1</td><td>1</td><td>5</td><td>0</td><td>0</td></tr><tr><td>3</td><td>2019-01-03</td><td>1</td><td>1</td><td>4</td><td>0</td><td>0</td></tr><tr><td>4</td><td>2019-01-04</td><td>1</td><td>1</td><td>5</td><td>0</td><td>1</td></tr><tr><td>&hellip;</td><td>&hellip;</td><td>&hellip;</td><td>&hellip;</td><td>&hellip;</td><td>&hellip;</td><td>&hellip;</td></tr><tr><td>2703450</td><td>2020-10-05</td><td>10</td><td>41</td><td>1</td><td>1</td><td>0</td></tr><tr><td>2703451</td><td>2020-10-05</td><td>10</td><td>41</td><td>1</td><td>1</td><td>0</td></tr><tr><td>2703452</td><td>2020-10-05</td><td>10</td><td>41</td><td>1</td><td>1</td><td>0</td></tr><tr><td>2703453</td><td>2020-10-05</td><td>10</td><td>41</td><td>1</td><td>1</td><td>0</td></tr><tr><td>2703454</td><td>2020-10-05</td><td>10</td><td>41</td><td>1</td><td>1</td><td>0</td></tr></tbody></table></div>"
      ],
      "text/plain": [
       "shape: (1_526_659, 7)\n",
       "┌──────────────┬────────────┬───────┬──────┬─────────┬──────┬────────┐\n",
       "│ case_id_base ┆ Date       ┆ month ┆ week ┆ weekday ┆ year ┆ target │\n",
       "│ ---          ┆ ---        ┆ ---   ┆ ---  ┆ ---     ┆ ---  ┆ ---    │\n",
       "│ u32          ┆ date       ┆ i8    ┆ i8   ┆ i8      ┆ i32  ┆ u8     │\n",
       "╞══════════════╪════════════╪═══════╪══════╪═════════╪══════╪════════╡\n",
       "│ 0            ┆ 2019-01-03 ┆ 1     ┆ 1    ┆ 4       ┆ 0    ┆ 0      │\n",
       "│ 1            ┆ 2019-01-03 ┆ 1     ┆ 1    ┆ 4       ┆ 0    ┆ 0      │\n",
       "│ 2            ┆ 2019-01-04 ┆ 1     ┆ 1    ┆ 5       ┆ 0    ┆ 0      │\n",
       "│ 3            ┆ 2019-01-03 ┆ 1     ┆ 1    ┆ 4       ┆ 0    ┆ 0      │\n",
       "│ 4            ┆ 2019-01-04 ┆ 1     ┆ 1    ┆ 5       ┆ 0    ┆ 1      │\n",
       "│ …            ┆ …          ┆ …     ┆ …    ┆ …       ┆ …    ┆ …      │\n",
       "│ 2703450      ┆ 2020-10-05 ┆ 10    ┆ 41   ┆ 1       ┆ 1    ┆ 0      │\n",
       "│ 2703451      ┆ 2020-10-05 ┆ 10    ┆ 41   ┆ 1       ┆ 1    ┆ 0      │\n",
       "│ 2703452      ┆ 2020-10-05 ┆ 10    ┆ 41   ┆ 1       ┆ 1    ┆ 0      │\n",
       "│ 2703453      ┆ 2020-10-05 ┆ 10    ┆ 41   ┆ 1       ┆ 1    ┆ 0      │\n",
       "│ 2703454      ┆ 2020-10-05 ┆ 10    ┆ 41   ┆ 1       ┆ 1    ┆ 0      │\n",
       "└──────────────┴────────────┴───────┴──────┴─────────┴──────┴────────┘"
      ]
     },
     "execution_count": 2,
     "metadata": {},
     "output_type": "execute_result"
    }
   ],
   "source": [
    "train_base = (\n",
    "    pl.read_parquet(\"/home/sohail/Downloads/credit_risk/train/train_base.parquet\")\n",
    "    .select(\n",
    "        pl.col(\"case_id\").cast(pl.UInt32).alias(\"case_id_base\"),\n",
    "        cs.contains(\"date\").str.to_date().alias(\"Date\"),\n",
    "        pl.col(\"target\").cast(pl.UInt8)\n",
    "    )\n",
    "    .with_columns(\n",
    "        pl.col(\"Date\").dt.month().alias(\"month\"),\n",
    "        pl.col(\"Date\").dt.week().alias(\"week\"),\n",
    "        pl.col(\"Date\").dt.weekday().alias(\"weekday\"),\n",
    "        (pl.col(\"Date\").dt.year() - 2019).alias(\"year\")\n",
    "    )\n",
    "    .select(~cs.contains(\"target\"),cs.contains(\"target\"))\n",
    ")\n",
    "# train_case_ids = train_base[\"case_id_base\"]\n",
    "train_base"
   ]
  },
  {
   "cell_type": "code",
   "execution_count": 3,
   "metadata": {},
   "outputs": [
    {
     "data": {
      "text/html": [
       "<div><style>\n",
       ".dataframe > thead > tr,\n",
       ".dataframe > tbody > tr {\n",
       "  text-align: right;\n",
       "  white-space: pre-wrap;\n",
       "}\n",
       "</style>\n",
       "<small>shape: (10, 7)</small><table border=\"1\" class=\"dataframe\"><thead><tr><th>case_id_base</th><th>Date</th><th>month</th><th>week</th><th>weekday</th><th>year</th><th>target</th></tr><tr><td>u32</td><td>date</td><td>i8</td><td>i8</td><td>i8</td><td>i32</td><td>u8</td></tr></thead><tbody><tr><td>57543</td><td>2020-10-06</td><td>10</td><td>41</td><td>2</td><td>1</td><td>0</td></tr><tr><td>57549</td><td>2020-10-06</td><td>10</td><td>41</td><td>2</td><td>1</td><td>0</td></tr><tr><td>57551</td><td>2020-10-06</td><td>10</td><td>41</td><td>2</td><td>1</td><td>0</td></tr><tr><td>57552</td><td>2020-10-07</td><td>10</td><td>41</td><td>3</td><td>1</td><td>0</td></tr><tr><td>57569</td><td>2020-10-06</td><td>10</td><td>41</td><td>2</td><td>1</td><td>0</td></tr><tr><td>57630</td><td>2020-10-06</td><td>10</td><td>41</td><td>2</td><td>1</td><td>0</td></tr><tr><td>57631</td><td>2020-10-06</td><td>10</td><td>41</td><td>2</td><td>1</td><td>0</td></tr><tr><td>57632</td><td>2020-10-06</td><td>10</td><td>41</td><td>2</td><td>1</td><td>0</td></tr><tr><td>57633</td><td>2020-10-06</td><td>10</td><td>41</td><td>2</td><td>1</td><td>0</td></tr><tr><td>57634</td><td>2020-10-06</td><td>10</td><td>41</td><td>2</td><td>1</td><td>0</td></tr></tbody></table></div>"
      ],
      "text/plain": [
       "shape: (10, 7)\n",
       "┌──────────────┬────────────┬───────┬──────┬─────────┬──────┬────────┐\n",
       "│ case_id_base ┆ Date       ┆ month ┆ week ┆ weekday ┆ year ┆ target │\n",
       "│ ---          ┆ ---        ┆ ---   ┆ ---  ┆ ---     ┆ ---  ┆ ---    │\n",
       "│ u32          ┆ date       ┆ i8    ┆ i8   ┆ i8      ┆ i32  ┆ u8     │\n",
       "╞══════════════╪════════════╪═══════╪══════╪═════════╪══════╪════════╡\n",
       "│ 57543        ┆ 2020-10-06 ┆ 10    ┆ 41   ┆ 2       ┆ 1    ┆ 0      │\n",
       "│ 57549        ┆ 2020-10-06 ┆ 10    ┆ 41   ┆ 2       ┆ 1    ┆ 0      │\n",
       "│ 57551        ┆ 2020-10-06 ┆ 10    ┆ 41   ┆ 2       ┆ 1    ┆ 0      │\n",
       "│ 57552        ┆ 2020-10-07 ┆ 10    ┆ 41   ┆ 3       ┆ 1    ┆ 0      │\n",
       "│ 57569        ┆ 2020-10-06 ┆ 10    ┆ 41   ┆ 2       ┆ 1    ┆ 0      │\n",
       "│ 57630        ┆ 2020-10-06 ┆ 10    ┆ 41   ┆ 2       ┆ 1    ┆ 0      │\n",
       "│ 57631        ┆ 2020-10-06 ┆ 10    ┆ 41   ┆ 2       ┆ 1    ┆ 0      │\n",
       "│ 57632        ┆ 2020-10-06 ┆ 10    ┆ 41   ┆ 2       ┆ 1    ┆ 0      │\n",
       "│ 57633        ┆ 2020-10-06 ┆ 10    ┆ 41   ┆ 2       ┆ 1    ┆ 0      │\n",
       "│ 57634        ┆ 2020-10-06 ┆ 10    ┆ 41   ┆ 2       ┆ 1    ┆ 0      │\n",
       "└──────────────┴────────────┴───────┴──────┴─────────┴──────┴────────┘"
      ]
     },
     "execution_count": 3,
     "metadata": {},
     "output_type": "execute_result"
    }
   ],
   "source": [
    "test_base = (\n",
    "    pl.read_parquet(\"/home/sohail/Downloads/credit_risk/test/test_base.parquet\")\n",
    "    .select(\n",
    "        pl.col(\"case_id\").cast(pl.UInt32).alias(\"case_id_base\"),\n",
    "        cs.contains(\"date\").str.to_date().alias(\"Date\"),\n",
    "    )\n",
    "    .with_columns(\n",
    "        pl.col(\"Date\").dt.month().alias(\"month\"),\n",
    "        pl.col(\"Date\").dt.week().alias(\"week\"),\n",
    "        pl.col(\"Date\").dt.weekday().alias(\"weekday\"),\n",
    "        (pl.col(\"Date\").dt.year() - 2019).alias(\"year\"),\n",
    "        pl.lit(0).cast(pl.UInt8).alias(\"target\")\n",
    "    )\n",
    ")\n",
    "# test_case_ids = test_base[\"case_id_base\"]\n",
    "test_base"
   ]
  },
  {
   "cell_type": "code",
   "execution_count": 4,
   "metadata": {},
   "outputs": [],
   "source": [
    "gain_df = pl.read_csv(\"/home/sohail/Downloads/gains.csv\")\n",
    "new_gains_df = pl.read_csv(\"/home/sohail/Downloads/new_gains.csv\")\n",
    "new_filled_gains_df = pl.read_csv(\"/home/sohail/Downloads/new_filled_gains.csv\")"
   ]
  },
  {
   "cell_type": "code",
   "execution_count": 5,
   "metadata": {},
   "outputs": [
    {
     "data": {
      "text/plain": [
       "19"
      ]
     },
     "execution_count": 5,
     "metadata": {},
     "output_type": "execute_result"
    }
   ],
   "source": [
    "drop_list = new_gains_df.filter(pl.col(\"gain\") < 1000)[\"column_name\"].to_list()\n",
    "len(drop_list)"
   ]
  },
  {
   "cell_type": "code",
   "execution_count": 6,
   "metadata": {},
   "outputs": [
    {
     "data": {
      "text/html": [
       "<div><style>\n",
       ".dataframe > thead > tr,\n",
       ".dataframe > tbody > tr {\n",
       "  text-align: right;\n",
       "  white-space: pre-wrap;\n",
       "}\n",
       "</style>\n",
       "<small>shape: (1_526_659, 402)</small><table border=\"1\" class=\"dataframe\"><thead><tr><th>month</th><th>week</th><th>weekday</th><th>year</th><th>target</th><th>past_shallow_actualdpd_943P</th><th>past_shallow_annuity_853A</th><th>past_shallow_byoccupationinc_3656910L</th><th>past_shallow_childnum_21L</th><th>past_shallow_credacc_actualbalance_314A</th><th>past_shallow_credacc_credlmt_575A</th><th>past_shallow_credacc_maxhisbal_375A</th><th>past_shallow_credacc_minhisbal_90A</th><th>past_shallow_credacc_transactions_402L</th><th>past_shallow_credamount_590A</th><th>past_shallow_currdebt_94A</th><th>past_shallow_downpmt_134A</th><th>past_shallow_mainoccupationinc_437A</th><th>past_shallow_maxdpdtolerance_577P</th><th>past_shallow_num_group1</th><th>past_shallow_outstandingdebt_522A</th><th>past_shallow_pmtnum_8L</th><th>past_shallow_revolvingaccount_394A</th><th>past_shallow_tenor_203L</th><th>past_shallow_approvaldate_319D</th><th>past_shallow_cancelreason_3545846M</th><th>past_shallow_creationdate_885D</th><th>past_shallow_credacc_status_367L</th><th>past_shallow_credtype_587L</th><th>past_shallow_dateactivated_425D</th><th>past_shallow_dtlastpmt_581D</th><th>past_shallow_dtlastpmtallstes_3545839D</th><th>past_shallow_education_1138M</th><th>past_shallow_employedfrom_700D</th><th>past_shallow_familystate_726L</th><th>past_shallow_firstnonzeroinstldate_307D</th><th>past_shallow_inittransactioncode_279L</th><th>&hellip;</th><th>ext_shallow_pmtnumpending_403L</th><th>ext_shallow_residualamount_1093A</th><th>ext_shallow_residualamount_127A</th><th>ext_shallow_residualamount_3940956A</th><th>ext_shallow_totalamount_503A</th><th>ext_shallow_totalamount_881A</th><th>ext_shallow_classificationofcontr_1114M</th><th>ext_shallow_contractdate_551D</th><th>ext_shallow_contractmaturitydate_151D</th><th>ext_shallow_contractst_516M</th><th>ext_shallow_contracttype_653M</th><th>ext_shallow_credor_3940957M</th><th>ext_shallow_dpdmaxdatemonth_804T</th><th>ext_shallow_dpdmaxdateyear_742T</th><th>ext_shallow_lastupdate_260D</th><th>ext_shallow_overdueamountmaxdatemonth_494T</th><th>ext_shallow_overdueamountmaxdateyear_432T</th><th>ext_shallow_periodicityofpmts_997M</th><th>ext_shallow_pmtmethod_731M</th><th>ext_shallow_purposeofcred_722M</th><th>ext_shallow_subjectrole_326M</th><th>ext_shallow_subjectrole_43M</th><th>ext_depth_num_group1</th><th>ext_depth_num_group2</th><th>ext_depth_pmts_dpdvalue_108P</th><th>ext_depth_pmts_pmtsoverdue_635A</th><th>ext_depth_pmts_date_1107D</th><th>reg_a_amount_4527230A</th><th>reg_a_num_group1</th><th>reg_a_recorddate_4527225D</th><th>reg_b_amount_4917619A</th><th>reg_b_num_group1</th><th>reg_b_deductiondate_4917603D</th><th>reg_c_num_group1</th><th>reg_c_pmtamount_36A</th><th>reg_c_processingdate_168D</th><th>case_id_base</th></tr><tr><td>i8</td><td>i8</td><td>i8</td><td>i32</td><td>u8</td><td>f32</td><td>f32</td><td>f32</td><td>f32</td><td>f32</td><td>f32</td><td>f32</td><td>f32</td><td>f32</td><td>f32</td><td>f32</td><td>f32</td><td>f32</td><td>f32</td><td>f64</td><td>f32</td><td>f32</td><td>f32</td><td>f32</td><td>f64</td><td>f64</td><td>f64</td><td>f64</td><td>f64</td><td>f64</td><td>f64</td><td>f64</td><td>f64</td><td>f64</td><td>f64</td><td>f64</td><td>f64</td><td>&hellip;</td><td>f32</td><td>f32</td><td>f32</td><td>f32</td><td>f32</td><td>f32</td><td>f64</td><td>f64</td><td>f64</td><td>f64</td><td>f64</td><td>f64</td><td>f64</td><td>f64</td><td>f64</td><td>f64</td><td>f64</td><td>f64</td><td>f64</td><td>f64</td><td>f64</td><td>f64</td><td>f64</td><td>f64</td><td>f32</td><td>f32</td><td>f64</td><td>f32</td><td>f64</td><td>f64</td><td>f32</td><td>f64</td><td>f64</td><td>f64</td><td>f32</td><td>f64</td><td>i64</td></tr></thead><tbody><tr><td>1</td><td>1</td><td>4</td><td>0</td><td>0</td><td>0.0</td><td>4349.0</td><td>1.0</td><td>2.0</td><td>2.0</td><td>0.0</td><td>0.0</td><td>0.0</td><td>0.0</td><td>64824.0</td><td>0.0</td><td>0.0</td><td>52000.0</td><td>0.0</td><td>0.0</td><td>0.0</td><td>36.0</td><td>7.41000704e8</td><td>36.0</td><td>-843.0</td><td>1.0</td><td>-461.0</td><td>3.0</td><td>2.0</td><td>-239.0</td><td>-338.0</td><td>-258.0</td><td>4.0</td><td>-1824.0</td><td>2.0</td><td>-313.0</td><td>3.0</td><td>&hellip;</td><td>36.0</td><td>0.0</td><td>33313.511719</td><td>21158.150391</td><td>400000.0</td><td>108565.398438</td><td>2.0</td><td>-174.0</td><td>1325.0</td><td>8.0</td><td>3.0</td><td>11.0</td><td>10.0</td><td>3.0</td><td>7.0</td><td>12.0</td><td>4.0</td><td>2.0</td><td>1.0</td><td>2.0</td><td>2.0</td><td>2.0</td><td>1.0</td><td>9.0</td><td>0.0</td><td>33.0</td><td>-28.0</td><td>3780.0</td><td>13.0</td><td>14.0</td><td>19440.0</td><td>12.0</td><td>-130.0</td><td>15.0</td><td>3088.199951</td><td>-10.0</td><td>0</td></tr><tr><td>1</td><td>1</td><td>4</td><td>0</td><td>0</td><td>0.0</td><td>4204.200195</td><td>1.0</td><td>0.0</td><td>0.0</td><td>0.0</td><td>0.0</td><td>0.0</td><td>0.0</td><td>45760.0</td><td>0.0</td><td>0.0</td><td>36400.0</td><td>1.0</td><td>1.0</td><td>0.0</td><td>12.0</td><td>7.29854848e8</td><td>12.0</td><td>-927.0</td><td>1.0</td><td>-3618.0</td><td>6.0</td><td>1.0</td><td>-550.0</td><td>-787.0</td><td>-583.0</td><td>4.0</td><td>-8842.0</td><td>1.0</td><td>-3683.0</td><td>1.0</td><td>&hellip;</td><td>0.0</td><td>0.0</td><td>14620.0</td><td>21506.330078</td><td>127200.0</td><td>153773.0</td><td>3.0</td><td>-1102.0</td><td>160.0</td><td>2.0</td><td>1.0</td><td>12.0</td><td>6.0</td><td>2.0</td><td>6.0</td><td>8.0</td><td>6.0</td><td>3.0</td><td>3.0</td><td>1.0</td><td>1.0</td><td>1.0</td><td>2.0</td><td>36.0</td><td>255114.0</td><td>253.800003</td><td>-83.0</td><td>2793.600098</td><td>11.0</td><td>14.0</td><td>6885.0</td><td>1.0</td><td>-167.0</td><td>11.0</td><td>3915.055908</td><td>-4.0</td><td>1</td></tr><tr><td>1</td><td>1</td><td>5</td><td>0</td><td>0</td><td>0.0</td><td>1682.400024</td><td>35000.0</td><td>0.0</td><td>0.0</td><td>0.0</td><td>0.0</td><td>0.0</td><td>0.0</td><td>16000.0</td><td>0.0</td><td>0.0</td><td>8200.0</td><td>0.0</td><td>1.0</td><td>0.0</td><td>24.0</td><td>7.60218176e8</td><td>24.0</td><td>-1925.0</td><td>1.0</td><td>-2102.0</td><td>1.0</td><td>1.0</td><td>-766.0</td><td>-1258.0</td><td>-1187.0</td><td>2.0</td><td>-3245.0</td><td>1.0</td><td>-2071.0</td><td>1.0</td><td>&hellip;</td><td>17.0</td><td>0.0</td><td>0.0</td><td>0.0</td><td>120241.601562</td><td>78000.0</td><td>2.0</td><td>-256.0</td><td>457.0</td><td>2.0</td><td>3.0</td><td>10.0</td><td>8.0</td><td>2.0</td><td>-4.0</td><td>8.0</td><td>2.0</td><td>2.0</td><td>4.0</td><td>3.0</td><td>1.0</td><td>2.0</td><td>2.0</td><td>35.0</td><td>48854.0</td><td>0.2</td><td>-225.0</td><td>2466.0</td><td>2.0</td><td>14.0</td><td>14523.400391</td><td>12.0</td><td>-24.0</td><td>0.0</td><td>20.200001</td><td>-156.0</td><td>2</td></tr><tr><td>1</td><td>1</td><td>4</td><td>0</td><td>0</td><td>0.0</td><td>6140.0</td><td>1.0</td><td>3.0</td><td>0.0</td><td>0.0</td><td>0.0</td><td>0.0</td><td>0.0</td><td>59999.800781</td><td>0.0</td><td>0.0</td><td>11000.0</td><td>0.0</td><td>0.0</td><td>0.0</td><td>12.0</td><td>7.4118048e8</td><td>12.0</td><td>-152.0</td><td>2.0</td><td>4.0</td><td>1.0</td><td>1.0</td><td>-778.0</td><td>-1504.0</td><td>-1614.0</td><td>2.0</td><td>-233.0</td><td>2.0</td><td>35.0</td><td>1.0</td><td>&hellip;</td><td>16.0</td><td>0.0</td><td>0.0</td><td>0.0</td><td>208000.0</td><td>168009.203125</td><td>2.0</td><td>-227.0</td><td>181.0</td><td>2.0</td><td>3.0</td><td>11.0</td><td>1.0</td><td>6.0</td><td>3.0</td><td>4.0</td><td>6.0</td><td>2.0</td><td>3.0</td><td>2.0</td><td>1.0</td><td>1.0</td><td>1.0</td><td>14.0</td><td>0.0</td><td>0.0</td><td>-142.0</td><td>5195.399902</td><td>4.0</td><td>14.0</td><td>24933.400391</td><td>4.0</td><td>-146.0</td><td>5.0</td><td>1611.0</td><td>-96.0</td><td>3</td></tr><tr><td>1</td><td>1</td><td>5</td><td>0</td><td>1</td><td>0.0</td><td>2556.600098</td><td>1.0</td><td>1.0</td><td>0.0</td><td>0.0</td><td>2.0</td><td>0.0</td><td>0.0</td><td>40000.0</td><td>0.0</td><td>0.0</td><td>16000.0</td><td>0.0</td><td>0.0</td><td>0.0</td><td>24.0</td><td>7.80407744e8</td><td>24.0</td><td>14.0</td><td>13.0</td><td>4.0</td><td>6.0</td><td>1.0</td><td>-411.0</td><td>-40.0</td><td>-451.0</td><td>1.0</td><td>-1115.0</td><td>2.0</td><td>35.0</td><td>1.0</td><td>&hellip;</td><td>13.0</td><td>0.0</td><td>4283.0</td><td>4039.67627</td><td>43381.800781</td><td>39841.0</td><td>1.0</td><td>-29.0</td><td>521.0</td><td>2.0</td><td>1.0</td><td>1.0</td><td>4.0</td><td>6.0</td><td>2.0</td><td>5.0</td><td>6.0</td><td>2.0</td><td>3.0</td><td>3.0</td><td>2.0</td><td>2.0</td><td>1.0</td><td>19.0</td><td>1.460478e6</td><td>10.6</td><td>-20.0</td><td>2153.400146</td><td>6.0</td><td>14.0</td><td>24300.0</td><td>18.0</td><td>-52.0</td><td>5.0</td><td>2704.083984</td><td>-139.0</td><td>4</td></tr><tr><td>&hellip;</td><td>&hellip;</td><td>&hellip;</td><td>&hellip;</td><td>&hellip;</td><td>&hellip;</td><td>&hellip;</td><td>&hellip;</td><td>&hellip;</td><td>&hellip;</td><td>&hellip;</td><td>&hellip;</td><td>&hellip;</td><td>&hellip;</td><td>&hellip;</td><td>&hellip;</td><td>&hellip;</td><td>&hellip;</td><td>&hellip;</td><td>&hellip;</td><td>&hellip;</td><td>&hellip;</td><td>&hellip;</td><td>&hellip;</td><td>&hellip;</td><td>&hellip;</td><td>&hellip;</td><td>&hellip;</td><td>&hellip;</td><td>&hellip;</td><td>&hellip;</td><td>&hellip;</td><td>&hellip;</td><td>&hellip;</td><td>&hellip;</td><td>&hellip;</td><td>&hellip;</td><td>&hellip;</td><td>&hellip;</td><td>&hellip;</td><td>&hellip;</td><td>&hellip;</td><td>&hellip;</td><td>&hellip;</td><td>&hellip;</td><td>&hellip;</td><td>&hellip;</td><td>&hellip;</td><td>&hellip;</td><td>&hellip;</td><td>&hellip;</td><td>&hellip;</td><td>&hellip;</td><td>&hellip;</td><td>&hellip;</td><td>&hellip;</td><td>&hellip;</td><td>&hellip;</td><td>&hellip;</td><td>&hellip;</td><td>&hellip;</td><td>&hellip;</td><td>&hellip;</td><td>&hellip;</td><td>&hellip;</td><td>&hellip;</td><td>&hellip;</td><td>&hellip;</td><td>&hellip;</td><td>&hellip;</td><td>&hellip;</td><td>&hellip;</td><td>&hellip;</td><td>&hellip;</td><td>&hellip;</td></tr><tr><td>10</td><td>41</td><td>1</td><td>1</td><td>0</td><td>0.0</td><td>30875.0</td><td>1.0</td><td>2.0</td><td>0.092</td><td>0.0</td><td>0.092</td><td>0.092</td><td>0.0</td><td>150000.0</td><td>0.0</td><td>0.0</td><td>50000.0</td><td>6.0</td><td>12.0</td><td>0.0</td><td>24.0</td><td>7.60714944e8</td><td>24.0</td><td>-637.0</td><td>1.0</td><td>-1040.0</td><td>2.0</td><td>1.0</td><td>-622.0</td><td>-637.0</td><td>-637.0</td><td>1.0</td><td>-8087.0</td><td>2.0</td><td>-1010.0</td><td>1.0</td><td>&hellip;</td><td>5.0</td><td>0.0</td><td>20724.521484</td><td>17126.191406</td><td>30095.400391</td><td>375577.59375</td><td>2.0</td><td>-998.0</td><td>52.0</td><td>2.0</td><td>4.0</td><td>8.0</td><td>5.0</td><td>6.0</td><td>-2.0</td><td>9.0</td><td>7.0</td><td>1.0</td><td>3.0</td><td>2.0</td><td>2.0</td><td>2.0</td><td>1.0</td><td>36.0</td><td>4606.0</td><td>1.6</td><td>-84.0</td><td>8838.0</td><td>5.0</td><td>14.0</td><td>1288.400024</td><td>1.0</td><td>-123.0</td><td>5.0</td><td>4640.800293</td><td>14.0</td><td>2703450</td></tr><tr><td>10</td><td>41</td><td>1</td><td>1</td><td>0</td><td>0.0</td><td>12809.200195</td><td>10340.0</td><td>0.0</td><td>90.0</td><td>0.0</td><td>90.0</td><td>90.0</td><td>0.0</td><td>114000.0</td><td>59773.714844</td><td>0.0</td><td>50000.0</td><td>1.0</td><td>5.0</td><td>68098.398438</td><td>24.0</td><td>7.80594496e8</td><td>24.0</td><td>-371.0</td><td>1.0</td><td>-371.0</td><td>2.0</td><td>1.0</td><td>-368.0</td><td>-1388.0</td><td>8.0</td><td>1.0</td><td>-6861.0</td><td>2.0</td><td>-585.0</td><td>1.0</td><td>&hellip;</td><td>4.0</td><td>0.0</td><td>14571.97168</td><td>29998.800781</td><td>107242.203125</td><td>219331.40625</td><td>2.0</td><td>-11.0</td><td>353.0</td><td>2.0</td><td>3.0</td><td>2.0</td><td>9.0</td><td>11.0</td><td>6.0</td><td>11.0</td><td>11.0</td><td>2.0</td><td>2.0</td><td>3.0</td><td>2.0</td><td>2.0</td><td>0.0</td><td>5.0</td><td>20074.0</td><td>0.2</td><td>6.0</td><td>1823.400024</td><td>5.0</td><td>14.0</td><td>12035.0</td><td>6.0</td><td>-36.0</td><td>5.0</td><td>1845.400024</td><td>14.0</td><td>2703451</td></tr><tr><td>10</td><td>41</td><td>1</td><td>1</td><td>0</td><td>0.0</td><td>9048.0</td><td>1.0</td><td>3.0</td><td>3600.0</td><td>0.0</td><td>0.0</td><td>0.116</td><td>0.0</td><td>80000.0</td><td>0.0</td><td>0.0</td><td>34000.0</td><td>1.0</td><td>2.0</td><td>0.0</td><td>14.0</td><td>7.80417984e8</td><td>14.0</td><td>-750.0</td><td>1.0</td><td>-45.0</td><td>4.0</td><td>2.0</td><td>-409.0</td><td>-566.0</td><td>-566.0</td><td>1.0</td><td>-977.0</td><td>2.0</td><td>-382.0</td><td>3.0</td><td>&hellip;</td><td>12.0</td><td>0.0</td><td>35543.199219</td><td>25192.380859</td><td>123980.0</td><td>29787.599609</td><td>2.0</td><td>-264.0</td><td>426.0</td><td>2.0</td><td>3.0</td><td>5.0</td><td>5.0</td><td>8.0</td><td>8.0</td><td>4.0</td><td>11.0</td><td>2.0</td><td>4.0</td><td>3.0</td><td>1.0</td><td>2.0</td><td>1.0</td><td>35.0</td><td>26520.0</td><td>47.200001</td><td>-73.0</td><td>2750.600098</td><td>10.0</td><td>14.0</td><td>15552.0</td><td>5.0</td><td>-116.0</td><td>12.0</td><td>2072.400146</td><td>14.0</td><td>2703452</td></tr><tr><td>10</td><td>41</td><td>1</td><td>1</td><td>0</td><td>0.0</td><td>5981.399902</td><td>33059.0</td><td>0.0</td><td>179.423996</td><td>0.0</td><td>398.024017</td><td>198.024002</td><td>14.0</td><td>123800.0</td><td>34550.855469</td><td>0.0</td><td>76000.0</td><td>33.0</td><td>8.0</td><td>46806.601562</td><td>48.0</td><td>7.8082592e8</td><td>48.0</td><td>-292.0</td><td>1.0</td><td>-292.0</td><td>2.0</td><td>1.0</td><td>-287.0</td><td>-1060.0</td><td>4.0</td><td>1.0</td><td>-2125.0</td><td>2.0</td><td>-2625.0</td><td>3.0</td><td>&hellip;</td><td>21.0</td><td>0.0</td><td>12397.600586</td><td>10350.045898</td><td>101969.203125</td><td>510430.40625</td><td>1.0</td><td>-293.0</td><td>623.0</td><td>1.0</td><td>4.0</td><td>1.0</td><td>8.0</td><td>11.0</td><td>2.0</td><td>9.0</td><td>11.0</td><td>2.0</td><td>3.0</td><td>2.0</td><td>2.0</td><td>2.0</td><td>0.0</td><td>10.0</td><td>47.0</td><td>5.4</td><td>-54.0</td><td>850.0</td><td>5.0</td><td>14.0</td><td>9499.600586</td><td>7.0</td><td>-128.0</td><td>5.0</td><td>772.799988</td><td>14.0</td><td>2703453</td></tr><tr><td>10</td><td>41</td><td>1</td><td>1</td><td>0</td><td>0.0</td><td>6726.600098</td><td>25000.0</td><td>2.0</td><td>0.0</td><td>0.0</td><td>0.0</td><td>0.0</td><td>0.0</td><td>60000.0</td><td>5631.405762</td><td>0.0</td><td>60000.0</td><td>0.0</td><td>1.0</td><td>5919.200195</td><td>12.0</td><td>7.60707584e8</td><td>12.0</td><td>-431.0</td><td>1.0</td><td>-106.0</td><td>1.0</td><td>2.0</td><td>-412.0</td><td>-64.0</td><td>-64.0</td><td>1.0</td><td>-4689.0</td><td>4.0</td><td>-400.0</td><td>1.0</td><td>&hellip;</td><td>3.0</td><td>0.0</td><td>2398.0</td><td>2251.12207</td><td>20000.0</td><td>562153.1875</td><td>2.0</td><td>-831.0</td><td>253.0</td><td>8.0</td><td>5.0</td><td>38.0</td><td>9.0</td><td>11.0</td><td>13.0</td><td>10.0</td><td>11.0</td><td>2.0</td><td>4.0</td><td>3.0</td><td>1.0</td><td>1.0</td><td>3.0</td><td>36.0</td><td>4260.0</td><td>77.200005</td><td>-48.0</td><td>6535.0</td><td>5.0</td><td>14.0</td><td>5905.0</td><td>6.0</td><td>-6.0</td><td>5.0</td><td>3940.800049</td><td>14.0</td><td>2703454</td></tr></tbody></table></div>"
      ],
      "text/plain": [
       "shape: (1_526_659, 402)\n",
       "┌───────┬──────┬─────────┬──────┬───┬───────────────┬───────────────┬───────────────┬──────────────┐\n",
       "│ month ┆ week ┆ weekday ┆ year ┆ … ┆ reg_c_num_gro ┆ reg_c_pmtamou ┆ reg_c_process ┆ case_id_base │\n",
       "│ ---   ┆ ---  ┆ ---     ┆ ---  ┆   ┆ up1           ┆ nt_36A        ┆ ingdate_168D  ┆ ---          │\n",
       "│ i8    ┆ i8   ┆ i8      ┆ i32  ┆   ┆ ---           ┆ ---           ┆ ---           ┆ i64          │\n",
       "│       ┆      ┆         ┆      ┆   ┆ f64           ┆ f32           ┆ f64           ┆              │\n",
       "╞═══════╪══════╪═════════╪══════╪═══╪═══════════════╪═══════════════╪═══════════════╪══════════════╡\n",
       "│ 1     ┆ 1    ┆ 4       ┆ 0    ┆ … ┆ 15.0          ┆ 3088.199951   ┆ -10.0         ┆ 0            │\n",
       "│ 1     ┆ 1    ┆ 4       ┆ 0    ┆ … ┆ 11.0          ┆ 3915.055908   ┆ -4.0          ┆ 1            │\n",
       "│ 1     ┆ 1    ┆ 5       ┆ 0    ┆ … ┆ 0.0           ┆ 20.200001     ┆ -156.0        ┆ 2            │\n",
       "│ 1     ┆ 1    ┆ 4       ┆ 0    ┆ … ┆ 5.0           ┆ 1611.0        ┆ -96.0         ┆ 3            │\n",
       "│ 1     ┆ 1    ┆ 5       ┆ 0    ┆ … ┆ 5.0           ┆ 2704.083984   ┆ -139.0        ┆ 4            │\n",
       "│ …     ┆ …    ┆ …       ┆ …    ┆ … ┆ …             ┆ …             ┆ …             ┆ …            │\n",
       "│ 10    ┆ 41   ┆ 1       ┆ 1    ┆ … ┆ 5.0           ┆ 4640.800293   ┆ 14.0          ┆ 2703450      │\n",
       "│ 10    ┆ 41   ┆ 1       ┆ 1    ┆ … ┆ 5.0           ┆ 1845.400024   ┆ 14.0          ┆ 2703451      │\n",
       "│ 10    ┆ 41   ┆ 1       ┆ 1    ┆ … ┆ 12.0          ┆ 2072.400146   ┆ 14.0          ┆ 2703452      │\n",
       "│ 10    ┆ 41   ┆ 1       ┆ 1    ┆ … ┆ 5.0           ┆ 772.799988    ┆ 14.0          ┆ 2703453      │\n",
       "│ 10    ┆ 41   ┆ 1       ┆ 1    ┆ … ┆ 5.0           ┆ 3940.800049   ┆ 14.0          ┆ 2703454      │\n",
       "└───────┴──────┴─────────┴──────┴───┴───────────────┴───────────────┴───────────────┴──────────────┘"
      ]
     },
     "execution_count": 6,
     "metadata": {},
     "output_type": "execute_result"
    }
   ],
   "source": [
    "total_df = (\n",
    "    pl.read_parquet(\"/home/sohail/Downloads/total_imputed.parquet\")\n",
    "    .rename({\"case_id\":\"case_id_base\"})\n",
    "    .drop(drop_list)\n",
    ")\n",
    "total_df"
   ]
  },
  {
   "cell_type": "code",
   "execution_count": 7,
   "metadata": {},
   "outputs": [
    {
     "data": {
      "text/html": [
       "<div><style>\n",
       ".dataframe > thead > tr,\n",
       ".dataframe > tbody > tr {\n",
       "  text-align: right;\n",
       "  white-space: pre-wrap;\n",
       "}\n",
       "</style>\n",
       "<small>shape: (401, 2)</small><table border=\"1\" class=\"dataframe\"><thead><tr><th>col name</th><th>Nan count</th></tr><tr><td>str</td><td>u32</td></tr></thead><tbody><tr><td>&quot;month&quot;</td><td>0</td></tr><tr><td>&quot;week&quot;</td><td>0</td></tr><tr><td>&quot;weekday&quot;</td><td>0</td></tr><tr><td>&quot;year&quot;</td><td>0</td></tr><tr><td>&quot;target&quot;</td><td>0</td></tr><tr><td>&hellip;</td><td>&hellip;</td></tr><tr><td>&quot;reg_b_num_grou…</td><td>0</td></tr><tr><td>&quot;reg_b_deductio…</td><td>0</td></tr><tr><td>&quot;reg_c_num_grou…</td><td>0</td></tr><tr><td>&quot;reg_c_pmtamoun…</td><td>0</td></tr><tr><td>&quot;reg_c_processi…</td><td>0</td></tr></tbody></table></div>"
      ],
      "text/plain": [
       "shape: (401, 2)\n",
       "┌──────────────────────────────┬───────────┐\n",
       "│ col name                     ┆ Nan count │\n",
       "│ ---                          ┆ ---       │\n",
       "│ str                          ┆ u32       │\n",
       "╞══════════════════════════════╪═══════════╡\n",
       "│ month                        ┆ 0         │\n",
       "│ week                         ┆ 0         │\n",
       "│ weekday                      ┆ 0         │\n",
       "│ year                         ┆ 0         │\n",
       "│ target                       ┆ 0         │\n",
       "│ …                            ┆ …         │\n",
       "│ reg_b_num_group1             ┆ 0         │\n",
       "│ reg_b_deductiondate_4917603D ┆ 0         │\n",
       "│ reg_c_num_group1             ┆ 0         │\n",
       "│ reg_c_pmtamount_36A          ┆ 0         │\n",
       "│ reg_c_processingdate_168D    ┆ 0         │\n",
       "└──────────────────────────────┴───────────┘"
      ]
     },
     "execution_count": 7,
     "metadata": {},
     "output_type": "execute_result"
    }
   ],
   "source": [
    "train_total = (\n",
    "    total_df\n",
    "    .filter(\n",
    "        pl.col(\"case_id_base\").is_in(train_base.select(\"case_id_base\"))\n",
    "    )\n",
    "    .drop(\"case_id_base\")\n",
    ")\n",
    "submission_df = (\n",
    "    total_df\n",
    "    .filter(\n",
    "        pl.col(\"case_id_base\").is_in(test_base.select(\"case_id_base\"))\n",
    "    )\n",
    ")\n",
    "train_total.null_count().transpose(include_header=True,header_name=\"col name\",column_names=[\"Nan count\"]).sort(by=\"Nan count\")"
   ]
  },
  {
   "cell_type": "code",
   "execution_count": 8,
   "metadata": {},
   "outputs": [
    {
     "data": {
      "text/plain": [
       "0"
      ]
     },
     "execution_count": 8,
     "metadata": {},
     "output_type": "execute_result"
    }
   ],
   "source": [
    "train_total,valid_df = train_test_split(\n",
    "    train_total,\n",
    "    test_size=0.1,\n",
    "    random_state=533,\n",
    "    shuffle=True,\n",
    "    stratify=train_total.select(\"target\")\n",
    ")\n",
    "gc.collect()"
   ]
  },
  {
   "cell_type": "code",
   "execution_count": 9,
   "metadata": {},
   "outputs": [],
   "source": [
    "def filter_ind(df:pl.DataFrame,indexes:np.array):\n",
    "    return (\n",
    "        df\n",
    "        .with_row_index()\n",
    "        .filter(\n",
    "            pl.col(\"index\").is_in(indexes)\n",
    "        )\n",
    "        .drop(\"index\")\n",
    "    )"
   ]
  },
  {
   "cell_type": "code",
   "execution_count": 10,
   "metadata": {},
   "outputs": [],
   "source": [
    "class_params = {\n",
    "    \"objective\":\"binary\",\n",
    "    \"boosting_type\": \"gbdt\",\n",
    "    \"metric\":\"auc\",\n",
    "    \"max_depth\": 128,\n",
    "    \"learning_rate\": 0.01,\n",
    "    \"n_estimators\": 8000,\n",
    "    \"max_bin\": 255,\n",
    "    \"colsample_bynode\": 0.8,\n",
    "    \"colsample_bytree\": 0.8,\n",
    "    \"random_state\": 420,\n",
    "    \"reg_alpha\": 0.2,\n",
    "    \"reg_lambda\": 20,\n",
    "    \"extra_trees\": True,\n",
    "    \"num_leaves\": 256,\n",
    "    \"device\": \"gpu\",\n",
    "    \"importance_type\": \"gain\",\n",
    "    \"verbose\": -1\n",
    "}\n",
    "\n",
    "xgb_params = {\n",
    "    \"objective\": \"binary:logistic\",\n",
    "    \"n_estimators\": 5000,\n",
    "    \"eval_metric\": \"auc\",\n",
    "    \"seed\": 420,\n",
    "    \"booster\": \"gbtree\",\n",
    "    \"device\": \"cuda\",\n",
    "    \"eta\": 0.02,\n",
    "    \"gamma\": 5,\n",
    "    \"max_depth\": 64,\n",
    "    \"colsample_bytree\": 0.8,\n",
    "    \"colsample_bynode\": 0.8,\n",
    "    \"lambda\": 10,\n",
    "    \"alpha\": 2,\n",
    "    \"updater\": \"grow_gpu_hist\",\n",
    "    \"grow_policy\": \"depthwise\",\n",
    "    \"max_leaves\": 256,\n",
    "    \"num_parallel_tree\": 1,    \n",
    "    \"sample_type\": \"uniform\",\n",
    "    \"normalize_type\": \"tree\",\n",
    "    \"rate_drop\": 0.15,\n",
    "    \"skip_drop\": 0.9,\n",
    "    \"enable_categorical\": True\n",
    "}\n",
    "\n",
    "\n",
    "cat_params = {\n",
    "    \"eval_metric\": \"AUC\",\n",
    "    \"task_type\": \"GPU\",\n",
    "    \"iterations\": 8000,\n",
    "    \"learning_rate\": 0.005,\n",
    "    \"bootstrap_type\": \"Poisson\",\n",
    "    \"random_seed\": 420,\n",
    "    \"l2_leaf_reg\": 15,\n",
    "    \"subsample\": 0.8,\n",
    "    \"depth\": 16,\n",
    "    \"max_leaves\": 64,\n",
    "    \"grow_policy\": \"Lossguide\",\n",
    "    \"od_type\": \"Iter\",\n",
    "    \"od_wait\": 700,\n",
    "    \"verbose\": 500\n",
    "}\n",
    "\n",
    "cat_clf_params = {\n",
    "    \"eval_metric\": \"AUC\",\n",
    "    \"task_type\": \"GPU\",\n",
    "    \"iterations\": 6000,\n",
    "    \"learning_rate\": 0.01,\n",
    "    \"bootstrap_type\": \"Poisson\",\n",
    "    \"random_seed\": 420,\n",
    "    \"l2_leaf_reg\": 15,\n",
    "    \"subsample\": 0.8,\n",
    "    \"depth\": 16,\n",
    "    \"max_leaves\": 64,\n",
    "    \"grow_policy\": \"Lossguide\",\n",
    "    \"od_type\": \"Iter\",\n",
    "    \"od_wait\": 700,\n",
    "    \"verbose\": 500\n",
    "}"
   ]
  },
  {
   "cell_type": "code",
   "execution_count": 11,
   "metadata": {},
   "outputs": [
    {
     "name": "stdout",
     "output_type": "stream",
     "text": [
      "Training start for LGBClassifier: 1\n",
      "Training until validation scores don't improve for 2000 rounds\n",
      "[500]\tvalid_0's auc: 0.827567\n",
      "[1000]\tvalid_0's auc: 0.836732\n",
      "[1500]\tvalid_0's auc: 0.840326\n",
      "[2000]\tvalid_0's auc: 0.842194\n",
      "[2500]\tvalid_0's auc: 0.843371\n",
      "[3000]\tvalid_0's auc: 0.844078\n",
      "[3500]\tvalid_0's auc: 0.844492\n",
      "[4000]\tvalid_0's auc: 0.844663\n",
      "[4500]\tvalid_0's auc: 0.844841\n",
      "[5000]\tvalid_0's auc: 0.844768\n",
      "[5500]\tvalid_0's auc: 0.84476\n",
      "[6000]\tvalid_0's auc: 0.844665\n",
      "Early stopping, best iteration is:\n",
      "[4402]\tvalid_0's auc: 0.84486\n",
      "Roc score for validation df of Lgb total classification model 1: 0.8427298714637474\n",
      "31\n",
      "Training start for XGBClassifier: 1\n",
      "[0]\tvalidation_0-auc:0.74400\n",
      "[500]\tvalidation_0-auc:0.84290\n",
      "[986]\tvalidation_0-auc:0.84551\n",
      "Roc score for validation df of xgb total classification model 1: 0.8434238609922731\n",
      "132\n",
      "Training start for CatBoostClassifier: 1\n"
     ]
    },
    {
     "name": "stderr",
     "output_type": "stream",
     "text": [
      "Default metric period is 5 because AUC is/are not implemented for GPU\n"
     ]
    },
    {
     "name": "stdout",
     "output_type": "stream",
     "text": [
      "0:\ttest: 0.7114078\tbest: 0.7114078 (0)\ttotal: 104ms\tremaining: 13m 55s\n",
      "500:\ttest: 0.8162660\tbest: 0.8162660 (500)\ttotal: 22.3s\tremaining: 5m 33s\n",
      "1000:\ttest: 0.8309364\tbest: 0.8309364 (1000)\ttotal: 46.5s\tremaining: 5m 25s\n",
      "1500:\ttest: 0.8368471\tbest: 0.8368471 (1500)\ttotal: 1m 10s\tremaining: 5m 3s\n",
      "2000:\ttest: 0.8398386\tbest: 0.8398386 (2000)\ttotal: 1m 32s\tremaining: 4m 37s\n",
      "2500:\ttest: 0.8415634\tbest: 0.8415634 (2500)\ttotal: 1m 54s\tremaining: 4m 11s\n",
      "3000:\ttest: 0.8428519\tbest: 0.8428519 (3000)\ttotal: 2m 15s\tremaining: 3m 46s\n",
      "3500:\ttest: 0.8437029\tbest: 0.8437029 (3500)\ttotal: 2m 36s\tremaining: 3m 20s\n",
      "4000:\ttest: 0.8443268\tbest: 0.8443268 (4000)\ttotal: 2m 56s\tremaining: 2m 56s\n",
      "4500:\ttest: 0.8448238\tbest: 0.8448238 (4499)\ttotal: 3m 15s\tremaining: 2m 32s\n",
      "5000:\ttest: 0.8452303\tbest: 0.8452303 (5000)\ttotal: 3m 34s\tremaining: 2m 8s\n",
      "5500:\ttest: 0.8456023\tbest: 0.8456030 (5499)\ttotal: 3m 53s\tremaining: 1m 46s\n",
      "6000:\ttest: 0.8458722\tbest: 0.8458741 (5990)\ttotal: 4m 12s\tremaining: 1m 24s\n",
      "6500:\ttest: 0.8461660\tbest: 0.8461660 (6500)\ttotal: 4m 30s\tremaining: 1m 2s\n",
      "7000:\ttest: 0.8464159\tbest: 0.8464159 (7000)\ttotal: 4m 49s\tremaining: 41.2s\n",
      "7500:\ttest: 0.8466712\tbest: 0.8466712 (7500)\ttotal: 5m 7s\tremaining: 20.4s\n",
      "7999:\ttest: 0.8468187\tbest: 0.8468190 (7998)\ttotal: 5m 25s\tremaining: 0us\n",
      "bestTest = 0.8468189836\n",
      "bestIteration = 7998\n",
      "Shrink model to first 7999 iterations.\n",
      "Roc score for validation df of cat boost classification model 1: 0.8449304672630962\n",
      "0\n",
      "Training start for LGBClassifier: 2\n",
      "Training until validation scores don't improve for 2000 rounds\n",
      "[500]\tvalid_0's auc: 0.821097\n",
      "[1000]\tvalid_0's auc: 0.830434\n",
      "[1500]\tvalid_0's auc: 0.834479\n",
      "[2000]\tvalid_0's auc: 0.836719\n",
      "[2500]\tvalid_0's auc: 0.837907\n",
      "[3000]\tvalid_0's auc: 0.838808\n",
      "[3500]\tvalid_0's auc: 0.839318\n",
      "[4000]\tvalid_0's auc: 0.839575\n",
      "[4500]\tvalid_0's auc: 0.839884\n",
      "[5000]\tvalid_0's auc: 0.839917\n",
      "[5500]\tvalid_0's auc: 0.839965\n",
      "[6000]\tvalid_0's auc: 0.839947\n",
      "[6500]\tvalid_0's auc: 0.839782\n",
      "[7000]\tvalid_0's auc: 0.839646\n",
      "[7500]\tvalid_0's auc: 0.839513\n",
      "Early stopping, best iteration is:\n",
      "[5540]\tvalid_0's auc: 0.839994\n",
      "Roc score for validation df of Lgb total classification model 2: 0.8425054409142896\n",
      "29\n",
      "Training start for XGBClassifier: 2\n",
      "[0]\tvalidation_0-auc:0.73632\n",
      "[500]\tvalidation_0-auc:0.83797\n",
      "[987]\tvalidation_0-auc:0.84027\n",
      "Roc score for validation df of xgb total classification model 2: 0.8439419675098085\n",
      "201\n",
      "Training start for CatBoostClassifier: 2\n"
     ]
    },
    {
     "name": "stderr",
     "output_type": "stream",
     "text": [
      "Default metric period is 5 because AUC is/are not implemented for GPU\n"
     ]
    },
    {
     "name": "stdout",
     "output_type": "stream",
     "text": [
      "0:\ttest: 0.7118705\tbest: 0.7118705 (0)\ttotal: 44.2ms\tremaining: 5m 53s\n",
      "500:\ttest: 0.8098778\tbest: 0.8098778 (500)\ttotal: 22.3s\tremaining: 5m 33s\n",
      "1000:\ttest: 0.8253887\tbest: 0.8253887 (1000)\ttotal: 46.4s\tremaining: 5m 24s\n",
      "1500:\ttest: 0.8314674\tbest: 0.8314674 (1500)\ttotal: 1m 9s\tremaining: 5m 1s\n",
      "2000:\ttest: 0.8345669\tbest: 0.8345669 (2000)\ttotal: 1m 32s\tremaining: 4m 36s\n",
      "2500:\ttest: 0.8364197\tbest: 0.8364197 (2500)\ttotal: 1m 54s\tremaining: 4m 10s\n",
      "3000:\ttest: 0.8376944\tbest: 0.8376944 (3000)\ttotal: 2m 15s\tremaining: 3m 45s\n",
      "3500:\ttest: 0.8386053\tbest: 0.8386053 (3500)\ttotal: 2m 35s\tremaining: 3m 20s\n",
      "4000:\ttest: 0.8393211\tbest: 0.8393219 (3999)\ttotal: 2m 55s\tremaining: 2m 55s\n",
      "4500:\ttest: 0.8398273\tbest: 0.8398273 (4500)\ttotal: 3m 15s\tremaining: 2m 31s\n",
      "5000:\ttest: 0.8402302\tbest: 0.8402302 (5000)\ttotal: 3m 34s\tremaining: 2m 8s\n",
      "5500:\ttest: 0.8406116\tbest: 0.8406116 (5500)\ttotal: 3m 53s\tremaining: 1m 45s\n",
      "6000:\ttest: 0.8409480\tbest: 0.8409483 (5994)\ttotal: 4m 11s\tremaining: 1m 23s\n",
      "6500:\ttest: 0.8412350\tbest: 0.8412367 (6488)\ttotal: 4m 29s\tremaining: 1m 2s\n",
      "7000:\ttest: 0.8414975\tbest: 0.8414975 (7000)\ttotal: 4m 48s\tremaining: 41.1s\n",
      "7500:\ttest: 0.8416939\tbest: 0.8416939 (7500)\ttotal: 5m 6s\tremaining: 20.4s\n",
      "7999:\ttest: 0.8418657\tbest: 0.8418691 (7995)\ttotal: 5m 24s\tremaining: 0us\n",
      "bestTest = 0.8418691158\n",
      "bestIteration = 7995\n",
      "Shrink model to first 7996 iterations.\n",
      "Roc score for validation df of cat boost classification model 2: 0.84512074120189\n",
      "0\n",
      "Training start for LGBClassifier: 3\n",
      "Training until validation scores don't improve for 2000 rounds\n",
      "[500]\tvalid_0's auc: 0.826122\n",
      "[1000]\tvalid_0's auc: 0.835143\n",
      "[1500]\tvalid_0's auc: 0.838632\n",
      "[2000]\tvalid_0's auc: 0.840368\n",
      "[2500]\tvalid_0's auc: 0.841312\n",
      "[3000]\tvalid_0's auc: 0.841843\n",
      "[3500]\tvalid_0's auc: 0.842164\n",
      "[4000]\tvalid_0's auc: 0.842329\n",
      "[4500]\tvalid_0's auc: 0.842329\n",
      "[5000]\tvalid_0's auc: 0.842254\n",
      "[5500]\tvalid_0's auc: 0.842105\n",
      "[6000]\tvalid_0's auc: 0.841965\n",
      "Early stopping, best iteration is:\n",
      "[4425]\tvalid_0's auc: 0.842348\n",
      "Roc score for validation df of Lgb total classification model 3: 0.8433919612432303\n",
      "95\n",
      "Training start for XGBClassifier: 3\n",
      "[0]\tvalidation_0-auc:0.74251\n",
      "[500]\tvalidation_0-auc:0.83979\n",
      "[970]\tvalidation_0-auc:0.84187\n",
      "Roc score for validation df of xgb total classification model 3: 0.8439575605000306\n",
      "201\n",
      "Training start for CatBoostClassifier: 3\n"
     ]
    },
    {
     "name": "stderr",
     "output_type": "stream",
     "text": [
      "Default metric period is 5 because AUC is/are not implemented for GPU\n"
     ]
    },
    {
     "name": "stdout",
     "output_type": "stream",
     "text": [
      "0:\ttest: 0.7171739\tbest: 0.7171739 (0)\ttotal: 45.2ms\tremaining: 6m 1s\n",
      "500:\ttest: 0.8132825\tbest: 0.8132825 (500)\ttotal: 22.2s\tremaining: 5m 32s\n",
      "1000:\ttest: 0.8285686\tbest: 0.8285686 (1000)\ttotal: 46.4s\tremaining: 5m 24s\n",
      "1500:\ttest: 0.8345651\tbest: 0.8345651 (1500)\ttotal: 1m 9s\tremaining: 5m 1s\n",
      "2000:\ttest: 0.8374826\tbest: 0.8374826 (2000)\ttotal: 1m 32s\tremaining: 4m 35s\n",
      "2500:\ttest: 0.8392929\tbest: 0.8392929 (2500)\ttotal: 1m 53s\tremaining: 4m 9s\n",
      "3000:\ttest: 0.8404800\tbest: 0.8404800 (3000)\ttotal: 2m 14s\tremaining: 3m 44s\n",
      "3500:\ttest: 0.8413322\tbest: 0.8413322 (3500)\ttotal: 2m 35s\tremaining: 3m 19s\n",
      "4000:\ttest: 0.8419310\tbest: 0.8419310 (4000)\ttotal: 2m 54s\tremaining: 2m 54s\n",
      "4500:\ttest: 0.8424051\tbest: 0.8424051 (4500)\ttotal: 3m 13s\tremaining: 2m 30s\n",
      "5000:\ttest: 0.8428006\tbest: 0.8428006 (5000)\ttotal: 3m 32s\tremaining: 2m 7s\n",
      "5500:\ttest: 0.8431196\tbest: 0.8431196 (5500)\ttotal: 3m 51s\tremaining: 1m 45s\n",
      "6000:\ttest: 0.8434144\tbest: 0.8434148 (5999)\ttotal: 4m 9s\tremaining: 1m 23s\n",
      "6500:\ttest: 0.8436740\tbest: 0.8436740 (6500)\ttotal: 4m 28s\tremaining: 1m 1s\n",
      "7000:\ttest: 0.8438771\tbest: 0.8438779 (6996)\ttotal: 4m 46s\tremaining: 40.8s\n",
      "7500:\ttest: 0.8440888\tbest: 0.8440930 (7497)\ttotal: 5m 4s\tremaining: 20.2s\n",
      "7999:\ttest: 0.8442243\tbest: 0.8442269 (7995)\ttotal: 5m 22s\tremaining: 0us\n",
      "bestTest = 0.844226867\n",
      "bestIteration = 7995\n",
      "Shrink model to first 7996 iterations.\n",
      "Roc score for validation df of cat boost classification model 3: 0.845582133061678\n",
      "0\n",
      "Training start for LGBClassifier: 4\n",
      "Training until validation scores don't improve for 2000 rounds\n",
      "[500]\tvalid_0's auc: 0.821799\n",
      "[1000]\tvalid_0's auc: 0.829992\n",
      "[1500]\tvalid_0's auc: 0.833363\n",
      "[2000]\tvalid_0's auc: 0.835385\n",
      "[2500]\tvalid_0's auc: 0.836666\n",
      "[3000]\tvalid_0's auc: 0.837574\n",
      "[3500]\tvalid_0's auc: 0.838212\n",
      "[4000]\tvalid_0's auc: 0.838592\n",
      "[4500]\tvalid_0's auc: 0.838807\n",
      "[5000]\tvalid_0's auc: 0.838837\n",
      "[5500]\tvalid_0's auc: 0.838929\n",
      "[6000]\tvalid_0's auc: 0.838924\n",
      "[6500]\tvalid_0's auc: 0.83888\n",
      "[7000]\tvalid_0's auc: 0.838671\n",
      "[7500]\tvalid_0's auc: 0.838525\n",
      "Early stopping, best iteration is:\n",
      "[5555]\tvalid_0's auc: 0.838959\n",
      "Roc score for validation df of Lgb total classification model 4: 0.8429119592588268\n",
      "46\n",
      "Training start for XGBClassifier: 4\n",
      "[0]\tvalidation_0-auc:0.73633\n",
      "[500]\tvalidation_0-auc:0.83647\n",
      "[971]\tvalidation_0-auc:0.83842\n",
      "Roc score for validation df of xgb total classification model 4: 0.8435790862858061\n",
      "201\n",
      "Training start for CatBoostClassifier: 4\n"
     ]
    },
    {
     "name": "stderr",
     "output_type": "stream",
     "text": [
      "Default metric period is 5 because AUC is/are not implemented for GPU\n"
     ]
    },
    {
     "name": "stdout",
     "output_type": "stream",
     "text": [
      "0:\ttest: 0.7143151\tbest: 0.7143151 (0)\ttotal: 45.8ms\tremaining: 6m 6s\n",
      "500:\ttest: 0.8111688\tbest: 0.8111688 (500)\ttotal: 22.3s\tremaining: 5m 34s\n",
      "1000:\ttest: 0.8256657\tbest: 0.8256657 (1000)\ttotal: 46.7s\tremaining: 5m 26s\n",
      "1500:\ttest: 0.8308766\tbest: 0.8308766 (1500)\ttotal: 1m 10s\tremaining: 5m 3s\n",
      "2000:\ttest: 0.8335465\tbest: 0.8335465 (2000)\ttotal: 1m 32s\tremaining: 4m 38s\n",
      "2500:\ttest: 0.8351467\tbest: 0.8351467 (2500)\ttotal: 1m 55s\tremaining: 4m 12s\n",
      "3000:\ttest: 0.8362572\tbest: 0.8362572 (3000)\ttotal: 2m 16s\tremaining: 3m 47s\n",
      "3500:\ttest: 0.8370941\tbest: 0.8370941 (3500)\ttotal: 2m 37s\tremaining: 3m 22s\n",
      "4000:\ttest: 0.8377193\tbest: 0.8377193 (4000)\ttotal: 2m 57s\tremaining: 2m 57s\n",
      "4500:\ttest: 0.8382559\tbest: 0.8382559 (4500)\ttotal: 3m 16s\tremaining: 2m 33s\n",
      "5000:\ttest: 0.8387191\tbest: 0.8387191 (5000)\ttotal: 3m 36s\tremaining: 2m 9s\n",
      "5500:\ttest: 0.8390516\tbest: 0.8390516 (5500)\ttotal: 3m 55s\tremaining: 1m 46s\n",
      "6000:\ttest: 0.8393283\tbest: 0.8393283 (6000)\ttotal: 4m 13s\tremaining: 1m 24s\n",
      "6500:\ttest: 0.8395548\tbest: 0.8395548 (6500)\ttotal: 4m 32s\tremaining: 1m 2s\n",
      "7000:\ttest: 0.8397945\tbest: 0.8397945 (7000)\ttotal: 4m 50s\tremaining: 41.5s\n",
      "7500:\ttest: 0.8400443\tbest: 0.8400443 (7500)\ttotal: 5m 9s\tremaining: 20.6s\n",
      "7999:\ttest: 0.8401947\tbest: 0.8401969 (7978)\ttotal: 5m 27s\tremaining: 0us\n",
      "bestTest = 0.8401968777\n",
      "bestIteration = 7978\n",
      "Shrink model to first 7979 iterations.\n",
      "Roc score for validation df of cat boost classification model 4: 0.8448996082210828\n",
      "0\n",
      "Training start for LGBClassifier: 5\n",
      "Training until validation scores don't improve for 2000 rounds\n",
      "[500]\tvalid_0's auc: 0.820071\n",
      "[1000]\tvalid_0's auc: 0.829022\n",
      "[1500]\tvalid_0's auc: 0.832519\n",
      "[2000]\tvalid_0's auc: 0.834441\n",
      "[2500]\tvalid_0's auc: 0.83562\n",
      "[3000]\tvalid_0's auc: 0.836242\n",
      "[3500]\tvalid_0's auc: 0.836573\n",
      "[4000]\tvalid_0's auc: 0.836901\n",
      "[4500]\tvalid_0's auc: 0.837086\n",
      "[5000]\tvalid_0's auc: 0.837165\n",
      "[5500]\tvalid_0's auc: 0.837144\n",
      "[6000]\tvalid_0's auc: 0.837092\n",
      "[6500]\tvalid_0's auc: 0.837022\n",
      "[7000]\tvalid_0's auc: 0.836848\n",
      "Early stopping, best iteration is:\n",
      "[5200]\tvalid_0's auc: 0.837205\n",
      "Roc score for validation df of Lgb total classification model 5: 0.8423107335776434\n",
      "103\n",
      "Training start for XGBClassifier: 5\n",
      "[0]\tvalidation_0-auc:0.73738\n",
      "[500]\tvalidation_0-auc:0.83616\n",
      "[1000]\tvalidation_0-auc:0.83847\n",
      "[1075]\tvalidation_0-auc:0.83847\n",
      "Roc score for validation df of xgb total classification model 5: 0.8438244352579349\n",
      "201\n",
      "Training start for CatBoostClassifier: 5\n"
     ]
    },
    {
     "name": "stderr",
     "output_type": "stream",
     "text": [
      "Default metric period is 5 because AUC is/are not implemented for GPU\n"
     ]
    },
    {
     "name": "stdout",
     "output_type": "stream",
     "text": [
      "0:\ttest: 0.7094741\tbest: 0.7094741 (0)\ttotal: 43.7ms\tremaining: 5m 49s\n",
      "500:\ttest: 0.8091254\tbest: 0.8091254 (500)\ttotal: 22.1s\tremaining: 5m 30s\n",
      "1000:\ttest: 0.8240677\tbest: 0.8240677 (1000)\ttotal: 46s\tremaining: 5m 21s\n",
      "1500:\ttest: 0.8299726\tbest: 0.8299726 (1500)\ttotal: 1m 9s\tremaining: 4m 59s\n",
      "2000:\ttest: 0.8330230\tbest: 0.8330230 (2000)\ttotal: 1m 31s\tremaining: 4m 34s\n",
      "2500:\ttest: 0.8348547\tbest: 0.8348547 (2500)\ttotal: 1m 52s\tremaining: 4m 8s\n",
      "3000:\ttest: 0.8360656\tbest: 0.8360656 (3000)\ttotal: 2m 13s\tremaining: 3m 43s\n",
      "3500:\ttest: 0.8369388\tbest: 0.8369388 (3500)\ttotal: 2m 33s\tremaining: 3m 17s\n",
      "4000:\ttest: 0.8375648\tbest: 0.8375668 (3997)\ttotal: 2m 53s\tremaining: 2m 53s\n",
      "4500:\ttest: 0.8380795\tbest: 0.8380795 (4500)\ttotal: 3m 12s\tremaining: 2m 29s\n",
      "5000:\ttest: 0.8384875\tbest: 0.8384875 (5000)\ttotal: 3m 31s\tremaining: 2m 6s\n",
      "5500:\ttest: 0.8388227\tbest: 0.8388227 (5500)\ttotal: 3m 49s\tremaining: 1m 44s\n",
      "6000:\ttest: 0.8391681\tbest: 0.8391681 (6000)\ttotal: 4m 8s\tremaining: 1m 22s\n",
      "6500:\ttest: 0.8394648\tbest: 0.8394651 (6499)\ttotal: 4m 26s\tremaining: 1m 1s\n",
      "7000:\ttest: 0.8396693\tbest: 0.8396693 (7000)\ttotal: 4m 44s\tremaining: 40.6s\n",
      "7500:\ttest: 0.8398723\tbest: 0.8398740 (7486)\ttotal: 5m 2s\tremaining: 20.1s\n",
      "7999:\ttest: 0.8399886\tbest: 0.8399886 (7999)\ttotal: 5m 20s\tremaining: 0us\n",
      "bestTest = 0.8399886489\n",
      "bestIteration = 7999\n",
      "Roc score for validation df of cat boost classification model 5: 0.8451675807689025\n",
      "0\n"
     ]
    }
   ],
   "source": [
    "num_splits = 5\n",
    "cv = StratifiedGroupKFold(n_splits=num_splits,shuffle=True)\n",
    "lgb_clf_models = [\n",
    "    lgb.LGBMClassifier(**class_params) for _ in range(num_splits)\n",
    "]\n",
    "xgb_clf_models = [\n",
    "    xgb.XGBClassifier(**xgb_params) for _ in range(num_splits)\n",
    "]\n",
    "cat_models = [\n",
    "    cgb.CatBoostClassifier(**cat_params) for _ in range(num_splits)\n",
    "]\n",
    "cat_clf_models = [\n",
    "    cgb.CatBoostClassifier(**cat_clf_params) for _ in range(num_splits)\n",
    "]\n",
    "for i,(train_ind,valid_ind) in enumerate(\n",
    "    cv.split(train_total.drop(\"target\"),\n",
    "    train_total.select(\"target\"),\n",
    "    groups=train_total[\"week\"])\n",
    "    ):\n",
    "    print(f\"Training start for LGBClassifier: {i+1}\")\n",
    "    lgb_clf_models[i].fit(\n",
    "        (\n",
    "            train_total\n",
    "            .pipe(filter_ind,train_ind)\n",
    "            .drop(\"target\")\n",
    "        ),\n",
    "        (\n",
    "            train_total\n",
    "            .select(\"target\")\n",
    "            .pipe(filter_ind,train_ind)\n",
    "        ),\n",
    "        eval_set=[(\n",
    "            (\n",
    "                train_total\n",
    "                .drop(\"target\")\n",
    "                .pipe(filter_ind,valid_ind)\n",
    "            ),\n",
    "            (\n",
    "                train_total\n",
    "                .select(\"target\")\n",
    "                .pipe(filter_ind,valid_ind)\n",
    "            )\n",
    "        )],\n",
    "        callbacks=[lgb.log_evaluation(500),lgb.early_stopping(2000)]\n",
    "    )\n",
    "    print(f'''Roc score for validation df of Lgb total classification model {i+1}: {roc_auc_score(\n",
    "        valid_df.select(\"target\"),\n",
    "        lgb_clf_models[i].predict_proba(valid_df.drop(\"target\"))[:,1]\n",
    "    )}''')\n",
    "    print(gc.collect())\n",
    "    print(f\"Training start for XGBClassifier: {i+1}\")\n",
    "    early_stop = xgb.callback.EarlyStopping(rounds=300)\n",
    "    log_eval = xgb.callback.EvaluationMonitor(period=500)\n",
    "    xgb_clf_models[i].fit(\n",
    "        (\n",
    "            train_total\n",
    "            .pipe(filter_ind,train_ind)\n",
    "            .drop(\"target\")\n",
    "        ),\n",
    "        (\n",
    "            train_total\n",
    "            .select(\"target\")\n",
    "            .pipe(filter_ind,train_ind)\n",
    "        ),\n",
    "        eval_set=[(\n",
    "            (\n",
    "                train_total\n",
    "                .drop(\"target\")\n",
    "                .pipe(filter_ind,valid_ind)\n",
    "            ),\n",
    "            (\n",
    "                train_total\n",
    "                .select(\"target\")\n",
    "                .pipe(filter_ind,valid_ind)\n",
    "            )\n",
    "        )],\n",
    "        callbacks=[early_stop,log_eval],\n",
    "        verbose=False\n",
    "    )\n",
    "    print(f'''Roc score for validation df of xgb total classification model {i+1}: {roc_auc_score(\n",
    "        valid_df.select(\"target\"),\n",
    "        xgb_clf_models[i].predict_proba(valid_df.drop(\"target\"))[:,1]\n",
    "    )}''')\n",
    "    print(gc.collect())\n",
    "    print(f\"Training start for CatBoostClassifier: {i+1}\")\n",
    "    cat_models[i].fit(\n",
    "        (\n",
    "            train_total\n",
    "            .drop(\"target\")\n",
    "            .pipe(filter_ind,train_ind)\n",
    "            .to_pandas()\n",
    "        ),\n",
    "        (\n",
    "            train_total\n",
    "            .pipe(filter_ind,train_ind)\n",
    "            .select(\"target\")\n",
    "            .to_pandas()\n",
    "        ),\n",
    "        eval_set=[(\n",
    "            (\n",
    "                train_total\n",
    "                .drop(\"target\")\n",
    "                .pipe(filter_ind,valid_ind)\n",
    "                .to_pandas()\n",
    "            ),\n",
    "            (\n",
    "                train_total\n",
    "                .select(\"target\")\n",
    "                .pipe(filter_ind,valid_ind)\n",
    "                .to_pandas()\n",
    "            )\n",
    "        )]\n",
    "    )\n",
    "    print(f'''Roc score for validation df of cat boost classification model {i+1}: {roc_auc_score(\n",
    "        valid_df.select(\"target\").to_pandas(),\n",
    "        cat_models[i].predict_proba(valid_df.drop(\"target\").to_pandas())[:,1]\n",
    "    )}''')\n",
    "    print(gc.collect())\n",
    "    # cat_clf_models[i].fit(\n",
    "    #     (\n",
    "    #         train_total\n",
    "    #         .select(cat_cols)\n",
    "    #     )\n",
    "    # )"
   ]
  },
  {
   "cell_type": "code",
   "execution_count": 12,
   "metadata": {},
   "outputs": [],
   "source": [
    "class Model:\n",
    "\n",
    "    def __init__(\n",
    "            self,\n",
    "            lgb_clf_models:list,\n",
    "            xgb_clf_models:list,\n",
    "            cat_models:list\n",
    "            ) -> None:\n",
    "        self.lgb_clf_models = lgb_clf_models\n",
    "        self.xgb_clf_models = xgb_clf_models\n",
    "        self.cat_models =  cat_models\n",
    "    \n",
    "    def predict_proba(self,X):\n",
    "\n",
    "        self.lgb_clf_pred = [_.predict_proba(X)[:,1] for _ in self.lgb_clf_models] * 2\n",
    "        self.xgb_clf_pred = [_.predict_proba(X)[:,1] for _ in self.xgb_clf_models]\n",
    "        self.cat_pred = [_.predict_proba(X.to_pandas())[:,1] for _ in self.cat_models]\n",
    "\n",
    "        return np.mean(\n",
    "            self.lgb_clf_pred+\\\n",
    "            self.xgb_clf_pred+\\\n",
    "            self.cat_pred,\n",
    "            axis=0\n",
    "            )"
   ]
  },
  {
   "cell_type": "code",
   "execution_count": 13,
   "metadata": {},
   "outputs": [
    {
     "data": {
      "text/plain": [
       "0.8474002954505955"
      ]
     },
     "execution_count": 13,
     "metadata": {},
     "output_type": "execute_result"
    }
   ],
   "source": [
    "model = Model(\n",
    "    lgb_clf_models,\n",
    "    xgb_clf_models,\n",
    "    cat_models\n",
    "    )\n",
    "\n",
    "y_pred = model.predict_proba(valid_df.drop(\"target\"))\n",
    "auc_score = roc_auc_score(valid_df.select('target'),y_pred)\n",
    "auc_score"
   ]
  },
  {
   "cell_type": "code",
   "execution_count": 14,
   "metadata": {},
   "outputs": [
    {
     "data": {
      "text/plain": [
       "0.6878907026151981"
      ]
     },
     "execution_count": 14,
     "metadata": {},
     "output_type": "execute_result"
    }
   ],
   "source": [
    "def gini_stability(base,y,w_fallingrate=88.0, w_resstd=-0.5):\n",
    "    base = base.to_pandas()\n",
    "    base[\"score\"] = y\n",
    "    gini_in_time = base.loc[:, [\"weekday\", \"target\", \"score\"]]\\\n",
    "        .sort_values(\"weekday\")\\\n",
    "        .groupby(\"weekday\")[[\"target\", \"score\"]]\\\n",
    "        .apply(lambda x: 2*roc_auc_score(x[\"target\"], x[\"score\"])-1).tolist()\n",
    "    \n",
    "    x = np.arange(len(gini_in_time))\n",
    "    y = gini_in_time\n",
    "    a, b = np.polyfit(x, y, 1)\n",
    "    y_hat = a*x + b\n",
    "    residuals = y - y_hat\n",
    "    res_std = np.std(residuals)\n",
    "    avg_gini = np.mean(gini_in_time)\n",
    "    return avg_gini + w_fallingrate * min(0, a) + w_resstd * res_std\n",
    "\n",
    "gini_score = gini_stability(valid_df,y_pred)\n",
    "gini_score"
   ]
  },
  {
   "cell_type": "code",
   "execution_count": 15,
   "metadata": {},
   "outputs": [
    {
     "name": "stdout",
     "output_type": "stream",
     "text": [
      "0.8448479646320486\n",
      "0.6830680771807403\n"
     ]
    }
   ],
   "source": [
    "print(roc_auc_score(valid_df.select(\"target\"),np.mean(model.lgb_clf_pred,axis=0)))\n",
    "print(gini_stability(valid_df,np.mean(model.lgb_clf_pred,axis=0)))"
   ]
  },
  {
   "cell_type": "code",
   "execution_count": 16,
   "metadata": {},
   "outputs": [
    {
     "data": {
      "text/plain": [
       "[array([0.00621409, 0.03489557, 0.00558151, ..., 0.01204837, 0.00205422,\n",
       "        0.03026072]),\n",
       " array([0.00996328, 0.02990734, 0.00429911, ..., 0.01514234, 0.00202418,\n",
       "        0.03549717]),\n",
       " array([0.00666438, 0.02828708, 0.00578279, ..., 0.01170573, 0.00331275,\n",
       "        0.03118495]),\n",
       " array([0.00604   , 0.01814798, 0.00657663, ..., 0.01012939, 0.00215094,\n",
       "        0.03281149]),\n",
       " array([0.00777309, 0.02708617, 0.00286457, ..., 0.01174099, 0.00208598,\n",
       "        0.04165706]),\n",
       " array([0.00621409, 0.03489557, 0.00558151, ..., 0.01204837, 0.00205422,\n",
       "        0.03026072]),\n",
       " array([0.00996328, 0.02990734, 0.00429911, ..., 0.01514234, 0.00202418,\n",
       "        0.03549717]),\n",
       " array([0.00666438, 0.02828708, 0.00578279, ..., 0.01170573, 0.00331275,\n",
       "        0.03118495]),\n",
       " array([0.00604   , 0.01814798, 0.00657663, ..., 0.01012939, 0.00215094,\n",
       "        0.03281149]),\n",
       " array([0.00777309, 0.02708617, 0.00286457, ..., 0.01174099, 0.00208598,\n",
       "        0.04165706])]"
      ]
     },
     "execution_count": 16,
     "metadata": {},
     "output_type": "execute_result"
    }
   ],
   "source": [
    "model.lgb_clf_pred"
   ]
  },
  {
   "cell_type": "code",
   "execution_count": 17,
   "metadata": {},
   "outputs": [
    {
     "name": "stdout",
     "output_type": "stream",
     "text": [
      "0.8455786297472909\n"
     ]
    },
    {
     "name": "stdout",
     "output_type": "stream",
     "text": [
      "0.6840164672161458\n"
     ]
    }
   ],
   "source": [
    "print(roc_auc_score(valid_df.select(\"target\"),np.mean(model.xgb_clf_pred,axis=0)))\n",
    "print(gini_stability(valid_df,np.mean(model.xgb_clf_pred,axis=0)))"
   ]
  },
  {
   "cell_type": "code",
   "execution_count": 18,
   "metadata": {},
   "outputs": [
    {
     "data": {
      "text/plain": [
       "[array([0.00604226, 0.03829956, 0.00823687, ..., 0.01325773, 0.00612623,\n",
       "        0.01764909], dtype=float32),\n",
       " array([0.00625285, 0.02765135, 0.0059294 , ..., 0.01567665, 0.00602752,\n",
       "        0.01919378], dtype=float32),\n",
       " array([0.00575946, 0.02694468, 0.01035446, ..., 0.01500583, 0.00734547,\n",
       "        0.02026871], dtype=float32),\n",
       " array([0.00565003, 0.02405031, 0.00899982, ..., 0.01346271, 0.00906722,\n",
       "        0.01613377], dtype=float32),\n",
       " array([0.00743908, 0.03265947, 0.00789238, ..., 0.01901342, 0.00543336,\n",
       "        0.02447376], dtype=float32)]"
      ]
     },
     "execution_count": 18,
     "metadata": {},
     "output_type": "execute_result"
    }
   ],
   "source": [
    "model.xgb_clf_pred"
   ]
  },
  {
   "cell_type": "code",
   "execution_count": 19,
   "metadata": {},
   "outputs": [
    {
     "name": "stdout",
     "output_type": "stream",
     "text": [
      "0.8459847831045288\n",
      "0.684467377735524\n"
     ]
    }
   ],
   "source": [
    "print(roc_auc_score(valid_df.select(\"target\"),np.mean(model.cat_pred,axis=0)))\n",
    "print(gini_stability(valid_df,np.mean(model.cat_pred,axis=0)))"
   ]
  },
  {
   "cell_type": "code",
   "execution_count": 20,
   "metadata": {},
   "outputs": [
    {
     "data": {
      "text/plain": [
       "[array([0.00553317, 0.02525808, 0.00740729, ..., 0.01400124, 0.00766944,\n",
       "        0.02083976]),\n",
       " array([0.00576882, 0.02587494, 0.00655486, ..., 0.0185197 , 0.00722916,\n",
       "        0.02145336]),\n",
       " array([0.00549824, 0.02521695, 0.00740571, ..., 0.01208073, 0.00700351,\n",
       "        0.02139665]),\n",
       " array([0.00514528, 0.0227229 , 0.00812103, ..., 0.01130249, 0.00641884,\n",
       "        0.01870658]),\n",
       " array([0.00647916, 0.02738061, 0.00572591, ..., 0.01207945, 0.006707  ,\n",
       "        0.01917659])]"
      ]
     },
     "execution_count": 20,
     "metadata": {},
     "output_type": "execute_result"
    }
   ],
   "source": [
    "model.cat_pred"
   ]
  },
  {
   "cell_type": "code",
   "execution_count": null,
   "metadata": {},
   "outputs": [],
   "source": [
    "import numpy as np"
   ]
  },
  {
   "cell_type": "code",
   "execution_count": 12,
   "metadata": {},
   "outputs": [],
   "source": [
    "ones = [np.full(shape=10,fill_value=1)] * 5\n",
    "twos = [np.full(shape=10,fill_value=2)] * 5\n",
    "threes = [np.full(shape=10,fill_value=3)] * 5"
   ]
  },
  {
   "cell_type": "code",
   "execution_count": 13,
   "metadata": {},
   "outputs": [
    {
     "data": {
      "text/plain": [
       "[array([3.5, 3.5, 3.5, 3.5, 3.5, 3.5, 3.5, 3.5, 3.5, 3.5]),\n",
       " array([3.5, 3.5, 3.5, 3.5, 3.5, 3.5, 3.5, 3.5, 3.5, 3.5]),\n",
       " array([3.5, 3.5, 3.5, 3.5, 3.5, 3.5, 3.5, 3.5, 3.5, 3.5]),\n",
       " array([3.5, 3.5, 3.5, 3.5, 3.5, 3.5, 3.5, 3.5, 3.5, 3.5]),\n",
       " array([3.5, 3.5, 3.5, 3.5, 3.5, 3.5, 3.5, 3.5, 3.5, 3.5])]"
      ]
     },
     "execution_count": 13,
     "metadata": {},
     "output_type": "execute_result"
    }
   ],
   "source": [
    "[_*3.5 for _ in ones]"
   ]
  },
  {
   "cell_type": "code",
   "execution_count": 8,
   "metadata": {},
   "outputs": [
    {
     "data": {
      "text/plain": [
       "array([2., 2., 2., 2., 2., 2., 2., 2., 2., 2.])"
      ]
     },
     "execution_count": 8,
     "metadata": {},
     "output_type": "execute_result"
    }
   ],
   "source": [
    "np.mean(ones+twos+threes,axis=0)"
   ]
  }
 ],
 "metadata": {
  "kernelspec": {
   "display_name": "base",
   "language": "python",
   "name": "python3"
  },
  "language_info": {
   "codemirror_mode": {
    "name": "ipython",
    "version": 3
   },
   "file_extension": ".py",
   "mimetype": "text/x-python",
   "name": "python",
   "nbconvert_exporter": "python",
   "pygments_lexer": "ipython3",
   "version": "3.11.7"
  }
 },
 "nbformat": 4,
 "nbformat_minor": 2
}
