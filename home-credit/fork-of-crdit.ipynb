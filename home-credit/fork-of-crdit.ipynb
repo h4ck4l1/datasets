{
 "cells": [
  {
   "cell_type": "code",
   "execution_count": 1,
   "id": "c65d5a81",
   "metadata": {
    "execution": {
     "iopub.execute_input": "2024-05-12T16:28:04.260602Z",
     "iopub.status.busy": "2024-05-12T16:28:04.260228Z",
     "iopub.status.idle": "2024-05-12T16:28:09.725906Z",
     "shell.execute_reply": "2024-05-12T16:28:09.724923Z"
    },
    "papermill": {
     "duration": 5.47712,
     "end_time": "2024-05-12T16:28:09.728332",
     "exception": false,
     "start_time": "2024-05-12T16:28:04.251212",
     "status": "completed"
    },
    "tags": []
   },
   "outputs": [],
   "source": [
    "import os,warnings,gc\n",
    "warnings.filterwarnings('ignore')\n",
    "import numpy as np\n",
    "import pandas as pd\n",
    "import polars as pl\n",
    "import polars.selectors as cs\n",
    "from glob import glob\n",
    "from sklearn.metrics import roc_auc_score,auc\n",
    "from sklearn.neighbors import KNeighborsClassifier\n",
    "from sklearn.model_selection import StratifiedGroupKFold,train_test_split\n",
    "import lightgbm as lgb\n",
    "import xgboost as xgb\n",
    "import catboost as cgb"
   ]
  },
  {
   "cell_type": "markdown",
   "id": "6df13311",
   "metadata": {
    "papermill": {
     "duration": 0.00732,
     "end_time": "2024-05-12T16:28:09.743316",
     "exception": false,
     "start_time": "2024-05-12T16:28:09.735996",
     "status": "completed"
    },
    "tags": []
   },
   "source": [
    "I supressed outputs cuz, I ended up with a OOM exception after submitting. You can uncomment it if you need."
   ]
  },
  {
   "cell_type": "code",
   "execution_count": 2,
   "id": "178fdddb",
   "metadata": {
    "execution": {
     "iopub.execute_input": "2024-05-12T16:28:09.758751Z",
     "iopub.status.busy": "2024-05-12T16:28:09.758433Z",
     "iopub.status.idle": "2024-05-12T16:28:09.768283Z",
     "shell.execute_reply": "2024-05-12T16:28:09.767425Z"
    },
    "papermill": {
     "duration": 0.019687,
     "end_time": "2024-05-12T16:28:09.770194",
     "exception": false,
     "start_time": "2024-05-12T16:28:09.750507",
     "status": "completed"
    },
    "tags": []
   },
   "outputs": [
    {
     "data": {
      "text/plain": [
       "polars.config.Config"
      ]
     },
     "execution_count": 2,
     "metadata": {},
     "output_type": "execute_result"
    }
   ],
   "source": [
    "pl.Config.set_float_precision(2)\n",
    "pl.Config.set_fmt_float(\"full\")\n",
    "pl.Config.set_tbl_rows(4)"
   ]
  },
  {
   "cell_type": "code",
   "execution_count": 3,
   "id": "9fc9a028",
   "metadata": {
    "execution": {
     "iopub.execute_input": "2024-05-12T16:28:09.785700Z",
     "iopub.status.busy": "2024-05-12T16:28:09.785403Z",
     "iopub.status.idle": "2024-05-12T16:28:09.789582Z",
     "shell.execute_reply": "2024-05-12T16:28:09.788711Z"
    },
    "papermill": {
     "duration": 0.013928,
     "end_time": "2024-05-12T16:28:09.791396",
     "exception": false,
     "start_time": "2024-05-12T16:28:09.777468",
     "status": "completed"
    },
    "tags": []
   },
   "outputs": [],
   "source": [
    "path_to_train = \"/home/sohail/Downloads/credit_risk/train/\"\n",
    "path_to_test = \"/home/sohail/Downloads/credit_risk/test/\""
   ]
  },
  {
   "cell_type": "code",
   "execution_count": 4,
   "id": "e1bd1ab0",
   "metadata": {
    "execution": {
     "iopub.execute_input": "2024-05-12T16:28:09.866681Z",
     "iopub.status.busy": "2024-05-12T16:28:09.866426Z",
     "iopub.status.idle": "2024-05-12T16:28:09.966523Z",
     "shell.execute_reply": "2024-05-12T16:28:09.965663Z"
    },
    "papermill": {
     "duration": 0.110379,
     "end_time": "2024-05-12T16:28:09.968725",
     "exception": false,
     "start_time": "2024-05-12T16:28:09.858346",
     "status": "completed"
    },
    "tags": []
   },
   "outputs": [
    {
     "data": {
      "text/html": [
       "<div><style>\n",
       ".dataframe > thead > tr,\n",
       ".dataframe > tbody > tr {\n",
       "  text-align: right;\n",
       "  white-space: pre-wrap;\n",
       "}\n",
       "</style>\n",
       "<small>shape: (5, 3)</small><table border=\"1\" class=\"dataframe\"><thead><tr><th>index</th><th>path</th><th>filename</th></tr><tr><td>i64</td><td>str</td><td>str</td></tr></thead><tbody><tr><td>31</td><td>&quot;/home/sohail/D…</td><td>&quot;train_applprev…</td></tr><tr><td>13</td><td>&quot;/home/sohail/D…</td><td>&quot;train_applprev…</td></tr><tr><td>&hellip;</td><td>&hellip;</td><td>&hellip;</td></tr><tr><td>7</td><td>&quot;/home/sohail/D…</td><td>&quot;train_base.par…</td></tr><tr><td>11</td><td>&quot;/home/sohail/D…</td><td>&quot;train_credit_b…</td></tr></tbody></table></div>"
      ],
      "text/plain": [
       "shape: (5, 3)\n",
       "┌───────┬───────────────────────────────────┬───────────────────────────────────┐\n",
       "│ index ┆ path                              ┆ filename                          │\n",
       "│ ---   ┆ ---                               ┆ ---                               │\n",
       "│ i64   ┆ str                               ┆ str                               │\n",
       "╞═══════╪═══════════════════════════════════╪═══════════════════════════════════╡\n",
       "│ 31    ┆ /home/sohail/Downloads/credit_ri… ┆ train_applprev_1_0.parquet        │\n",
       "│ 13    ┆ /home/sohail/Downloads/credit_ri… ┆ train_applprev_1_1.parquet        │\n",
       "│ …     ┆ …                                 ┆ …                                 │\n",
       "│ 7     ┆ /home/sohail/Downloads/credit_ri… ┆ train_base.parquet                │\n",
       "│ 11    ┆ /home/sohail/Downloads/credit_ri… ┆ train_credit_bureau_a_1_0.parque… │\n",
       "└───────┴───────────────────────────────────┴───────────────────────────────────┘"
      ]
     },
     "metadata": {},
     "output_type": "display_data"
    },
    {
     "data": {
      "text/html": [
       "<div><style>\n",
       ".dataframe > thead > tr,\n",
       ".dataframe > tbody > tr {\n",
       "  text-align: right;\n",
       "  white-space: pre-wrap;\n",
       "}\n",
       "</style>\n",
       "<small>shape: (5, 3)</small><table border=\"1\" class=\"dataframe\"><thead><tr><th>index</th><th>path</th><th>filename</th></tr><tr><td>i64</td><td>str</td><td>str</td></tr></thead><tbody><tr><td>31</td><td>&quot;/home/sohail/D…</td><td>&quot;test_applprev_…</td></tr><tr><td>35</td><td>&quot;/home/sohail/D…</td><td>&quot;test_applprev_…</td></tr><tr><td>&hellip;</td><td>&hellip;</td><td>&hellip;</td></tr><tr><td>1</td><td>&quot;/home/sohail/D…</td><td>&quot;test_applprev_…</td></tr><tr><td>33</td><td>&quot;/home/sohail/D…</td><td>&quot;test_base.parq…</td></tr></tbody></table></div>"
      ],
      "text/plain": [
       "shape: (5, 3)\n",
       "┌───────┬───────────────────────────────────┬───────────────────────────┐\n",
       "│ index ┆ path                              ┆ filename                  │\n",
       "│ ---   ┆ ---                               ┆ ---                       │\n",
       "│ i64   ┆ str                               ┆ str                       │\n",
       "╞═══════╪═══════════════════════════════════╪═══════════════════════════╡\n",
       "│ 31    ┆ /home/sohail/Downloads/credit_ri… ┆ test_applprev_1_0.parquet │\n",
       "│ 35    ┆ /home/sohail/Downloads/credit_ri… ┆ test_applprev_1_1.parquet │\n",
       "│ …     ┆ …                                 ┆ …                         │\n",
       "│ 1     ┆ /home/sohail/Downloads/credit_ri… ┆ test_applprev_2.parquet   │\n",
       "│ 33    ┆ /home/sohail/Downloads/credit_ri… ┆ test_base.parquet         │\n",
       "└───────┴───────────────────────────────────┴───────────────────────────┘"
      ]
     },
     "metadata": {},
     "output_type": "display_data"
    }
   ],
   "source": [
    "all_train_files = glob(path_to_train+\"/*.parquet\")\n",
    "all_test_files = glob(path_to_test+\"/*.parquet\")\n",
    "train_files_df = pl.DataFrame({\"index\":range(len(all_train_files)),\"path\":all_train_files})\n",
    "test_files_df = pl.DataFrame({\"index\":range(len(all_test_files)),\"path\":all_test_files})\n",
    "train_files_df = (\n",
    "    train_files_df\n",
    "    .with_columns(\n",
    "        (pl.col(\"path\").str.split(\"/\").list.get(-1)).alias(\"filename\")\n",
    "    )\n",
    "    .sort(by=\"filename\")\n",
    ")\n",
    "test_files_df = (\n",
    "    test_files_df\n",
    "    .with_columns(\n",
    "        (pl.col(\"path\").str.split(\"/\").list.get(-1)).alias(\"filename\")\n",
    "    )\n",
    "    .sort(by=\"filename\")\n",
    ")\n",
    "display(train_files_df.head())\n",
    "display(test_files_df.head())"
   ]
  },
  {
   "cell_type": "code",
   "execution_count": 5,
   "id": "277b8d20",
   "metadata": {
    "execution": {
     "iopub.execute_input": "2024-05-12T16:28:09.985049Z",
     "iopub.status.busy": "2024-05-12T16:28:09.984769Z",
     "iopub.status.idle": "2024-05-12T16:28:10.867958Z",
     "shell.execute_reply": "2024-05-12T16:28:10.867005Z"
    },
    "papermill": {
     "duration": 0.893871,
     "end_time": "2024-05-12T16:28:10.870270",
     "exception": false,
     "start_time": "2024-05-12T16:28:09.976399",
     "status": "completed"
    },
    "tags": []
   },
   "outputs": [
    {
     "data": {
      "text/html": [
       "<div><style>\n",
       ".dataframe > thead > tr,\n",
       ".dataframe > tbody > tr {\n",
       "  text-align: right;\n",
       "  white-space: pre-wrap;\n",
       "}\n",
       "</style>\n",
       "<small>shape: (1_526_669, 8)</small><table border=\"1\" class=\"dataframe\"><thead><tr><th>case_id</th><th>Date</th><th>weeknum</th><th>month</th><th>weekday</th><th>week</th><th>year</th><th>target</th></tr><tr><td>u32</td><td>date</td><td>u8</td><td>i8</td><td>i8</td><td>i8</td><td>i32</td><td>u8</td></tr></thead><tbody><tr><td>0</td><td>2019-01-03</td><td>0</td><td>1</td><td>4</td><td>1</td><td>1</td><td>0</td></tr><tr><td>1</td><td>2019-01-03</td><td>0</td><td>1</td><td>4</td><td>1</td><td>1</td><td>0</td></tr><tr><td>&hellip;</td><td>&hellip;</td><td>&hellip;</td><td>&hellip;</td><td>&hellip;</td><td>&hellip;</td><td>&hellip;</td><td>&hellip;</td></tr><tr><td>57633</td><td>2020-10-06</td><td>92</td><td>10</td><td>2</td><td>41</td><td>2</td><td>0</td></tr><tr><td>57634</td><td>2020-10-06</td><td>92</td><td>10</td><td>2</td><td>41</td><td>2</td><td>0</td></tr></tbody></table></div>"
      ],
      "text/plain": [
       "shape: (1_526_669, 8)\n",
       "┌─────────┬────────────┬─────────┬───────┬─────────┬──────┬──────┬────────┐\n",
       "│ case_id ┆ Date       ┆ weeknum ┆ month ┆ weekday ┆ week ┆ year ┆ target │\n",
       "│ ---     ┆ ---        ┆ ---     ┆ ---   ┆ ---     ┆ ---  ┆ ---  ┆ ---    │\n",
       "│ u32     ┆ date       ┆ u8      ┆ i8    ┆ i8      ┆ i8   ┆ i32  ┆ u8     │\n",
       "╞═════════╪════════════╪═════════╪═══════╪═════════╪══════╪══════╪════════╡\n",
       "│ 0       ┆ 2019-01-03 ┆ 0       ┆ 1     ┆ 4       ┆ 1    ┆ 1    ┆ 0      │\n",
       "│ 1       ┆ 2019-01-03 ┆ 0       ┆ 1     ┆ 4       ┆ 1    ┆ 1    ┆ 0      │\n",
       "│ …       ┆ …          ┆ …       ┆ …     ┆ …       ┆ …    ┆ …    ┆ …      │\n",
       "│ 57633   ┆ 2020-10-06 ┆ 92      ┆ 10    ┆ 2       ┆ 41   ┆ 2    ┆ 0      │\n",
       "│ 57634   ┆ 2020-10-06 ┆ 92      ┆ 10    ┆ 2       ┆ 41   ┆ 2    ┆ 0      │\n",
       "└─────────┴────────────┴─────────┴───────┴─────────┴──────┴──────┴────────┘"
      ]
     },
     "execution_count": 5,
     "metadata": {},
     "output_type": "execute_result"
    }
   ],
   "source": [
    "train_base = (\n",
    "    pl.read_parquet(path_to_train+\"/train_base.parquet\")\n",
    "    .select(\n",
    "        pl.col(\"case_id\").cast(pl.UInt32),\n",
    "        cs.contains(\"date\").str.to_date().alias(\"Date\"),\n",
    "        pl.col(\"WEEK_NUM\").cast(pl.UInt8).alias(\"weeknum\"),\n",
    "        pl.col(\"target\").cast(pl.UInt8)\n",
    "    )\n",
    "    .with_columns(\n",
    "        pl.col(\"Date\").dt.month().alias(\"month\"),\n",
    "        pl.col(\"Date\").dt.weekday().alias(\"weekday\"),\n",
    "        pl.col(\"Date\").dt.week().alias(\"week\"),\n",
    "        (pl.col(\"Date\").dt.year() - 2018).alias(\"year\")\n",
    "    )\n",
    "    .select(~cs.contains(\"target\"),cs.contains(\"target\"))\n",
    ")\n",
    "test_base = (\n",
    "    pl.read_parquet(path_to_test+\"/test_base.parquet\")\n",
    "    .select(\n",
    "        pl.col(\"case_id\").cast(pl.UInt32),\n",
    "        cs.contains(\"date\").str.to_date().alias(\"Date\"),\n",
    "        pl.col(\"WEEK_NUM\").cast(pl.UInt8).alias(\"weeknum\")\n",
    "    )\n",
    "    .with_columns(\n",
    "        pl.col(\"Date\").dt.month().alias(\"month\"),\n",
    "        pl.col(\"Date\").dt.weekday().alias(\"weekday\"),\n",
    "        pl.col(\"Date\").dt.week().alias(\"week\"),\n",
    "        (pl.col(\"Date\").dt.year() - 2018).alias(\"year\"),\n",
    "        pl.lit(0).cast(pl.UInt8).alias(\"target\")\n",
    "    )\n",
    "    .select(~cs.contains(\"target\"),cs.contains(\"target\"))\n",
    ")\n",
    "train_case_ids = train_base[\"case_id\"].to_numpy()\n",
    "test_case_ids = test_base[\"case_id\"].to_numpy()\n",
    "total_base = (\n",
    "    pl.concat(\n",
    "        [\n",
    "            train_base,\n",
    "            test_base\n",
    "        ],\n",
    "        how=\"vertical\"\n",
    "    )\n",
    ")\n",
    "del train_base,test_base\n",
    "gc.collect()\n",
    "total_base"
   ]
  },
  {
   "cell_type": "code",
   "execution_count": 6,
   "id": "5576b3ff",
   "metadata": {
    "execution": {
     "iopub.execute_input": "2024-05-12T16:28:10.887804Z",
     "iopub.status.busy": "2024-05-12T16:28:10.887535Z",
     "iopub.status.idle": "2024-05-12T16:28:10.901535Z",
     "shell.execute_reply": "2024-05-12T16:28:10.900719Z"
    },
    "papermill": {
     "duration": 0.024854,
     "end_time": "2024-05-12T16:28:10.903420",
     "exception": false,
     "start_time": "2024-05-12T16:28:10.878566",
     "status": "completed"
    },
    "tags": []
   },
   "outputs": [],
   "source": [
    "def reduce_dtypes(df:pl.DataFrame,name):\n",
    "    if name == \"intshallow\":\n",
    "        df = df.rename(\n",
    "            {\n",
    "                \"dpdmaxdatemonth_442T\":\"dpdmaxdatemonth_442D\",\n",
    "                \"dpdmaxdatemonth_89T\":\"dpdmaxdatemonth_89D\",\n",
    "                \"dpdmaxdateyear_596T\":\"dpdmaxdateyear_596D\",\n",
    "                \"dpdmaxdateyear_896T\":\"dpdmaxdateyear_896D\",\n",
    "                \"overdueamountmaxdatemonth_284T\":\"overdueamountmaxdatemonth_284D\",\n",
    "                \"overdueamountmaxdatemonth_365T\":\"overdueamountmaxdatemonth_365D\",\n",
    "                \"overdueamountmaxdateyear_2T\":\"overdueamountmaxdateyear_2D\",\n",
    "                \"overdueamountmaxdateyear_994T\":\"overdueamountmaxdateyear_994D\",\n",
    "            }\n",
    "        )\n",
    "    elif name == \"intdepth\":\n",
    "        df = df.rename(\n",
    "            {\n",
    "                \"pmts_month_158T\":\"pmts_month_158D\",\n",
    "                \"pmts_month_706T\":\"pmts_month_706D\",\n",
    "                \"pmts_year_1139T\":\"pmts_year_1139D\",\n",
    "                \"pmts_year_507T\":\"pmts_year_507D\",\n",
    "            }\n",
    "        )\n",
    "    elif name == \"extshallow\":\n",
    "        df = df.rename(\n",
    "            {\n",
    "                \"dpdmaxdatemonth_804T\":\"dpdmaxdatemonth_804D\",\n",
    "                \"dpdmaxdateyear_742T\":\"dpdmaxdateyear_742D\",\n",
    "                \"overdueamountmaxdatemonth_494T\":\"overdueamountmaxdatemonth_494D\",\n",
    "                \"overdueamountmaxdateyear_432T\":\"overdueamountmaxdateyear_432D\",\n",
    "            }\n",
    "        )\n",
    "    return (\n",
    "        df\n",
    "        .select(\n",
    "            cs.by_name(\"case_id\").cast(pl.UInt32),\n",
    "            cs.contains(\"num_group\").cast(pl.UInt16),\n",
    "            cs.ends_with(\"D\").cast(pl.Date),\n",
    "            cs.ends_with(\"T\",\"M\").cast(pl.String),\n",
    "            cs.ends_with(\"P\",\"A\").cast(pl.Float32),\n",
    "            (cs.ends_with(\"L\") & cs.numeric()).cast(pl.Float32)\n",
    "        )\n",
    "    )\n",
    "\n",
    "def grouping(df:pl.DataFrame):\n",
    "    return (\n",
    "        df\n",
    "        .group_by(\"case_id\")\n",
    "        .agg(\n",
    "            ((cs.ends_with(\"P\",\"A\",\"D\")) | (cs.ends_with(\"L\") & cs.numeric())).mean().prefix(\"mean_\"),\n",
    "            ((cs.ends_with(\"P\",\"A\",\"D\")) | (cs.ends_with(\"L\") & cs.numeric())).max().prefix(\"max_\"),\n",
    "            # ((cs.ends_with(\"P\",\"A\",\"D\")) | (cs.ends_with(\"L\") & cs.numeric())).min().prefix(\"min_\"),\n",
    "            # ((cs.ends_with(\"P\",\"A\")) | (cs.ends_with(\"L\") & cs.numeric())).var().prefix(\"var_\"),\n",
    "            (cs.string() | cs.boolean()).drop_nulls().mode().first().prefix(\"mode_\")\n",
    "        )\n",
    "    )\n",
    "\n",
    "def date_features(df:pl.DataFrame):\n",
    "    return (\n",
    "        df\n",
    "        .join(\n",
    "            total_base\n",
    "            .select([\"case_id\",\"Date\"]),\n",
    "            on=\"case_id\",\n",
    "            how=\"left\"\n",
    "        )\n",
    "        .select(\n",
    "            pl.col(\"case_id\"),\n",
    "            (pl.col(pl.Date) - pl.col(\"Date\")).dt.total_days(),\n",
    "            (pl.col(pl.Date).exclude(\"Date\").dt.year() - 2018).cast(pl.Int8).prefix(\"year_\"),\n",
    "            pl.col(pl.Date).exclude(\"Date\").dt.month().cast(pl.Int8).prefix(\"month_\"),\n",
    "            pl.col(pl.Date).exclude(\"Date\").dt.week().cast(pl.Int16).prefix(\"week_\"),\n",
    "            # pl.col(pl.Date).exclude(\"Date\").dt.weekday().cast(pl.Int16).prefix(\"weekday_\"),\n",
    "            (~(cs.date() | cs.datetime())).exclude(\"case_id\").prefix(\"nodate_\")\n",
    "        )\n",
    "        .drop(\"Date\")\n",
    "    )\n",
    "\n",
    "def select_low_cat_cols(df:pl.DataFrame,thresh=200):\n",
    "    cols = []\n",
    "    for col_name in df.select(pl.col(pl.Categorical)).columns:\n",
    "        if df.select(pl.col(col_name).unique()).shape[0] >= thresh:\n",
    "            cols.append(col_name)\n",
    "        if df.select(pl.col(col_name).unique()).shape[0] <= 1:\n",
    "            cols.append(col_name)\n",
    "    return df.drop(cols)\n",
    "\n",
    "def select_impuatable(df:pl.DataFrame,thresh=0.95):\n",
    "    cols =  (\n",
    "        df\n",
    "        .select(pl.all().is_null().mean())\n",
    "        .transpose(include_header=True)\n",
    "        .filter(pl.col(\"column_0\") < thresh)\n",
    "        [\"column\"].to_list()\n",
    "    )\n",
    "    return df.select(cols)\n",
    "\n",
    "def preprocess(filter_string:str,prefix_string:str):\n",
    "    train_files_list = train_files_df.filter(pl.col(\"filename\").str.contains(filter_string))[\"path\"].to_list()\n",
    "    test_files_list = test_files_df.filter(pl.col(\"filename\").str.contains(filter_string))[\"path\"].to_list()\n",
    "    with pl.StringCache():\n",
    "        train_df = (\n",
    "            pl.concat(\n",
    "                [\n",
    "                    pl.read_parquet(_).pipe(reduce_dtypes,prefix_string).pipe(grouping) for _ in train_files_list\n",
    "                ]\n",
    "            )\n",
    "        )\n",
    "        test_df = (\n",
    "            pl.concat(\n",
    "                [\n",
    "                    pl.read_parquet(_).pipe(reduce_dtypes,prefix_string).pipe(grouping) for _ in test_files_list\n",
    "                ]\n",
    "            )\n",
    "        )\n",
    "    return (\n",
    "        pl.concat(\n",
    "            [\n",
    "                train_df,\n",
    "                test_df\n",
    "            ],\n",
    "            how=\"vertical_relaxed\",\n",
    "            rechunk=True\n",
    "        )\n",
    "        .pipe(select_impuatable)\n",
    "        .pipe(select_low_cat_cols)\n",
    "        # .pipe(date_features)\n",
    "        .with_columns(\n",
    "            pl.col(pl.String).cast(pl.Categorical).rank(\"dense\")\n",
    "        )\n",
    "        .select(pl.col(\"case_id\"),pl.all().shrink_dtype().exclude(\"case_id\").prefix(f\"{prefix_string}_\"))\n",
    "    )\n"
   ]
  },
  {
   "cell_type": "code",
   "execution_count": 7,
   "id": "a7ce079e",
   "metadata": {},
   "outputs": [
    {
     "data": {
      "text/html": [
       "<div><style>\n",
       ".dataframe > thead > tr,\n",
       ".dataframe > tbody > tr {\n",
       "  text-align: right;\n",
       "  white-space: pre-wrap;\n",
       "}\n",
       "</style>\n",
       "<small>shape: (1_221_536, 58)</small><table border=\"1\" class=\"dataframe\"><thead><tr><th>case_id</th><th>pastshallow_mean_approvaldate_319D</th><th>pastshallow_mean_creationdate_885D</th><th>pastshallow_mean_dateactivated_425D</th><th>pastshallow_mean_dtlastpmt_581D</th><th>pastshallow_mean_dtlastpmtallstes_3545839D</th><th>pastshallow_mean_employedfrom_700D</th><th>pastshallow_mean_firstnonzeroinstldate_307D</th><th>pastshallow_mean_actualdpd_943P</th><th>pastshallow_mean_annuity_853A</th><th>pastshallow_mean_credacc_actualbalance_314A</th><th>pastshallow_mean_credacc_credlmt_575A</th><th>pastshallow_mean_credacc_maxhisbal_375A</th><th>pastshallow_mean_credacc_minhisbal_90A</th><th>pastshallow_mean_credamount_590A</th><th>pastshallow_mean_currdebt_94A</th><th>pastshallow_mean_downpmt_134A</th><th>pastshallow_mean_mainoccupationinc_437A</th><th>pastshallow_mean_maxdpdtolerance_577P</th><th>pastshallow_mean_outstandingdebt_522A</th><th>pastshallow_mean_revolvingaccount_394A</th><th>pastshallow_mean_byoccupationinc_3656910L</th><th>pastshallow_mean_childnum_21L</th><th>pastshallow_mean_credacc_transactions_402L</th><th>pastshallow_mean_pmtnum_8L</th><th>pastshallow_mean_tenor_203L</th><th>pastshallow_max_approvaldate_319D</th><th>pastshallow_max_creationdate_885D</th><th>pastshallow_max_dateactivated_425D</th><th>pastshallow_max_dtlastpmt_581D</th><th>pastshallow_max_dtlastpmtallstes_3545839D</th><th>pastshallow_max_employedfrom_700D</th><th>pastshallow_max_firstnonzeroinstldate_307D</th><th>pastshallow_max_actualdpd_943P</th><th>pastshallow_max_annuity_853A</th><th>pastshallow_max_credacc_actualbalance_314A</th><th>pastshallow_max_credacc_credlmt_575A</th><th>pastshallow_max_credacc_maxhisbal_375A</th><th>pastshallow_max_credacc_minhisbal_90A</th><th>pastshallow_max_credamount_590A</th><th>pastshallow_max_currdebt_94A</th><th>pastshallow_max_downpmt_134A</th><th>pastshallow_max_mainoccupationinc_437A</th><th>pastshallow_max_maxdpdtolerance_577P</th><th>pastshallow_max_outstandingdebt_522A</th><th>pastshallow_max_revolvingaccount_394A</th><th>pastshallow_max_byoccupationinc_3656910L</th><th>pastshallow_max_childnum_21L</th><th>pastshallow_max_credacc_transactions_402L</th><th>pastshallow_max_pmtnum_8L</th><th>pastshallow_max_tenor_203L</th><th>pastshallow_mode_cancelreason_3545846M</th><th>pastshallow_mode_district_544M</th><th>pastshallow_mode_education_1138M</th><th>pastshallow_mode_postype_4733339M</th><th>pastshallow_mode_profession_152M</th><th>pastshallow_mode_rejectreason_755M</th><th>pastshallow_mode_rejectreasonclient_4145042M</th></tr><tr><td>u32</td><td>date</td><td>date</td><td>date</td><td>date</td><td>date</td><td>date</td><td>date</td><td>f32</td><td>f32</td><td>f32</td><td>f32</td><td>f32</td><td>f32</td><td>f32</td><td>f32</td><td>f32</td><td>f32</td><td>f32</td><td>f32</td><td>f32</td><td>f32</td><td>f32</td><td>f32</td><td>f32</td><td>f32</td><td>date</td><td>date</td><td>date</td><td>date</td><td>date</td><td>date</td><td>date</td><td>f32</td><td>f32</td><td>f32</td><td>f32</td><td>f32</td><td>f32</td><td>f32</td><td>f32</td><td>f32</td><td>f32</td><td>f32</td><td>f32</td><td>f32</td><td>f32</td><td>f32</td><td>f32</td><td>f32</td><td>f32</td><td>u8</td><td>u16</td><td>u8</td><td>u8</td><td>u16</td><td>u8</td><td>u8</td></tr></thead><tbody><tr><td>159535</td><td>2018-01-31</td><td>2018-01-31</td><td>2018-02-08</td><td>2017-06-23</td><td>2018-08-11</td><td>null</td><td>2018-03-03</td><td>0.00</td><td>5815.60</td><td>null</td><td>0.00</td><td>null</td><td>null</td><td>43890.00</td><td>8295.25</td><td>0.00</td><td>33000.00</td><td>0.00</td><td>8744.20</td><td>null</td><td>null</td><td>1.00</td><td>null</td><td>7.00</td><td>7.00</td><td>2018-12-10</td><td>2018-12-10</td><td>2018-12-20</td><td>2017-06-23</td><td>2019-09-30</td><td>null</td><td>2019-01-09</td><td>0.00</td><td>8881.00</td><td>null</td><td>0.00</td><td>null</td><td>null</td><td>80000.00</td><td>16590.51</td><td>0.00</td><td>46000.00</td><td>0.00</td><td>17488.40</td><td>null</td><td>null</td><td>1.00</td><td>null</td><td>11.00</td><td>11.00</td><td>1</td><td>1</td><td>1</td><td>1</td><td>1</td><td>1</td><td>1</td></tr><tr><td>1436782</td><td>2015-07-29</td><td>2016-03-07</td><td>2015-08-05</td><td>2017-11-19</td><td>2017-11-19</td><td>null</td><td>2015-12-26</td><td>0.00</td><td>3321.96</td><td>null</td><td>0.00</td><td>null</td><td>null</td><td>22790.70</td><td>0.00</td><td>64.00</td><td>24833.33</td><td>0.25</td><td>0.00</td><td>null</td><td>15250.00</td><td>0.25</td><td>null</td><td>9.90</td><td>9.90</td><td>2018-03-05</td><td>2018-03-05</td><td>2018-03-09</td><td>2019-01-28</td><td>2019-01-28</td><td>null</td><td>2018-04-02</td><td>0.00</td><td>5259.20</td><td>null</td><td>0.00</td><td>null</td><td>null</td><td>40000.00</td><td>0.00</td><td>640.00</td><td>50000.00</td><td>1.00</td><td>0.00</td><td>null</td><td>40000.00</td><td>1.00</td><td>null</td><td>24.00</td><td>24.00</td><td>1</td><td>2</td><td>2</td><td>1</td><td>1</td><td>1</td><td>1</td></tr><tr><td>&hellip;</td><td>&hellip;</td><td>&hellip;</td><td>&hellip;</td><td>&hellip;</td><td>&hellip;</td><td>&hellip;</td><td>&hellip;</td><td>&hellip;</td><td>&hellip;</td><td>&hellip;</td><td>&hellip;</td><td>&hellip;</td><td>&hellip;</td><td>&hellip;</td><td>&hellip;</td><td>&hellip;</td><td>&hellip;</td><td>&hellip;</td><td>&hellip;</td><td>&hellip;</td><td>&hellip;</td><td>&hellip;</td><td>&hellip;</td><td>&hellip;</td><td>&hellip;</td><td>&hellip;</td><td>&hellip;</td><td>&hellip;</td><td>&hellip;</td><td>&hellip;</td><td>&hellip;</td><td>&hellip;</td><td>&hellip;</td><td>&hellip;</td><td>&hellip;</td><td>&hellip;</td><td>&hellip;</td><td>&hellip;</td><td>&hellip;</td><td>&hellip;</td><td>&hellip;</td><td>&hellip;</td><td>&hellip;</td><td>&hellip;</td><td>&hellip;</td><td>&hellip;</td><td>&hellip;</td><td>&hellip;</td><td>&hellip;</td><td>&hellip;</td><td>&hellip;</td><td>&hellip;</td><td>&hellip;</td><td>&hellip;</td><td>&hellip;</td><td>&hellip;</td><td>&hellip;</td></tr><tr><td>100984</td><td>2022-09-12</td><td>2022-09-12</td><td>null</td><td>null</td><td>2022-09-20</td><td>null</td><td>null</td><td>0.00</td><td>0.00</td><td>1816.71</td><td>0.00</td><td>4000.00</td><td>0.00</td><td>0.00</td><td>0.00</td><td>0.00</td><td>null</td><td>0.00</td><td>0.00</td><td>840473664.00</td><td>null</td><td>null</td><td>3.00</td><td>null</td><td>null</td><td>2022-09-12</td><td>2022-09-12</td><td>null</td><td>null</td><td>2022-09-20</td><td>null</td><td>null</td><td>0.00</td><td>0.00</td><td>1816.71</td><td>0.00</td><td>4000.00</td><td>0.00</td><td>0.00</td><td>0.00</td><td>0.00</td><td>null</td><td>0.00</td><td>0.00</td><td>840473664.00</td><td>null</td><td>null</td><td>3.00</td><td>null</td><td>null</td><td>1</td><td>39</td><td>2</td><td>6</td><td>1</td><td>1</td><td>1</td></tr><tr><td>101005</td><td>null</td><td>2022-09-12</td><td>null</td><td>null</td><td>null</td><td>null</td><td>2022-10-15</td><td>0.00</td><td>4699.70</td><td>null</td><td>0.00</td><td>null</td><td>null</td><td>125000.00</td><td>null</td><td>0.00</td><td>50000.00</td><td>null</td><td>null</td><td>null</td><td>null</td><td>null</td><td>null</td><td>54.00</td><td>54.00</td><td>null</td><td>2022-09-13</td><td>null</td><td>null</td><td>null</td><td>null</td><td>2022-10-15</td><td>0.00</td><td>5847.00</td><td>null</td><td>0.00</td><td>null</td><td>null</td><td>150000.00</td><td>null</td><td>0.00</td><td>50000.00</td><td>null</td><td>null</td><td>null</td><td>null</td><td>null</td><td>null</td><td>60.00</td><td>60.00</td><td>2</td><td>580</td><td>2</td><td>4</td><td>1</td><td>1</td><td>2</td></tr></tbody></table></div>"
      ],
      "text/plain": [
       "shape: (1_221_536, 58)\n",
       "┌─────────┬────────────┬───────────┬───────────┬───┬───────────┬───────────┬───────────┬───────────┐\n",
       "│ case_id ┆ pastshallo ┆ pastshall ┆ pastshall ┆ … ┆ pastshall ┆ pastshall ┆ pastshall ┆ pastshall │\n",
       "│ ---     ┆ w_mean_app ┆ ow_mean_c ┆ ow_mean_d ┆   ┆ ow_mode_p ┆ ow_mode_p ┆ ow_mode_r ┆ ow_mode_r │\n",
       "│ u32     ┆ rovaldate_ ┆ reationda ┆ ateactiva ┆   ┆ ostype_47 ┆ rofession ┆ ejectreas ┆ ejectreas │\n",
       "│         ┆ 31…        ┆ te_88…    ┆ ted_4…    ┆   ┆ 33339…    ┆ _152M     ┆ on_75…    ┆ oncli…    │\n",
       "│         ┆ ---        ┆ ---       ┆ ---       ┆   ┆ ---       ┆ ---       ┆ ---       ┆ ---       │\n",
       "│         ┆ date       ┆ date      ┆ date      ┆   ┆ u8        ┆ u16       ┆ u8        ┆ u8        │\n",
       "╞═════════╪════════════╪═══════════╪═══════════╪═══╪═══════════╪═══════════╪═══════════╪═══════════╡\n",
       "│ 159535  ┆ 2018-01-31 ┆ 2018-01-3 ┆ 2018-02-0 ┆ … ┆ 1         ┆ 1         ┆ 1         ┆ 1         │\n",
       "│         ┆            ┆ 1         ┆ 8         ┆   ┆           ┆           ┆           ┆           │\n",
       "│ 1436782 ┆ 2015-07-29 ┆ 2016-03-0 ┆ 2015-08-0 ┆ … ┆ 1         ┆ 1         ┆ 1         ┆ 1         │\n",
       "│         ┆            ┆ 7         ┆ 5         ┆   ┆           ┆           ┆           ┆           │\n",
       "│ …       ┆ …          ┆ …         ┆ …         ┆ … ┆ …         ┆ …         ┆ …         ┆ …         │\n",
       "│ 100984  ┆ 2022-09-12 ┆ 2022-09-1 ┆ null      ┆ … ┆ 6         ┆ 1         ┆ 1         ┆ 1         │\n",
       "│         ┆            ┆ 2         ┆           ┆   ┆           ┆           ┆           ┆           │\n",
       "│ 101005  ┆ null       ┆ 2022-09-1 ┆ null      ┆ … ┆ 4         ┆ 1         ┆ 1         ┆ 2         │\n",
       "│         ┆            ┆ 2         ┆           ┆   ┆           ┆           ┆           ┆           │\n",
       "└─────────┴────────────┴───────────┴───────────┴───┴───────────┴───────────┴───────────┴───────────┘"
      ]
     },
     "execution_count": 7,
     "metadata": {},
     "output_type": "execute_result"
    }
   ],
   "source": [
    "total_past_shallow = preprocess(\"applprev_1\", \"pastshallow\")\n",
    "total_past_shallow"
   ]
  },
  {
   "cell_type": "code",
   "execution_count": 20,
   "id": "16befc01",
   "metadata": {},
   "outputs": [
    {
     "data": {
      "text/html": [
       "<div><style>\n",
       ".dataframe > thead > tr,\n",
       ".dataframe > tbody > tr {\n",
       "  text-align: right;\n",
       "  white-space: pre-wrap;\n",
       "}\n",
       "</style>\n",
       "<small>shape: (1_221_536, 44)</small><table border=\"1\" class=\"dataframe\"><thead><tr><th>case_id</th><th>pastshallow_mean_actualdpd_943P</th><th>pastshallow_mean_annuity_853A</th><th>pastshallow_mean_credacc_actualbalance_314A</th><th>pastshallow_mean_credacc_credlmt_575A</th><th>pastshallow_mean_credacc_maxhisbal_375A</th><th>pastshallow_mean_credacc_minhisbal_90A</th><th>pastshallow_mean_credamount_590A</th><th>pastshallow_mean_currdebt_94A</th><th>pastshallow_mean_downpmt_134A</th><th>pastshallow_mean_mainoccupationinc_437A</th><th>pastshallow_mean_maxdpdtolerance_577P</th><th>pastshallow_mean_outstandingdebt_522A</th><th>pastshallow_mean_revolvingaccount_394A</th><th>pastshallow_mean_byoccupationinc_3656910L</th><th>pastshallow_mean_childnum_21L</th><th>pastshallow_mean_credacc_transactions_402L</th><th>pastshallow_mean_pmtnum_8L</th><th>pastshallow_mean_tenor_203L</th><th>pastshallow_max_actualdpd_943P</th><th>pastshallow_max_annuity_853A</th><th>pastshallow_max_credacc_actualbalance_314A</th><th>pastshallow_max_credacc_credlmt_575A</th><th>pastshallow_max_credacc_maxhisbal_375A</th><th>pastshallow_max_credacc_minhisbal_90A</th><th>pastshallow_max_credamount_590A</th><th>pastshallow_max_currdebt_94A</th><th>pastshallow_max_downpmt_134A</th><th>pastshallow_max_mainoccupationinc_437A</th><th>pastshallow_max_maxdpdtolerance_577P</th><th>pastshallow_max_outstandingdebt_522A</th><th>pastshallow_max_revolvingaccount_394A</th><th>pastshallow_max_byoccupationinc_3656910L</th><th>pastshallow_max_childnum_21L</th><th>pastshallow_max_credacc_transactions_402L</th><th>pastshallow_max_pmtnum_8L</th><th>pastshallow_max_tenor_203L</th><th>pastshallow_mode_cancelreason_3545846M</th><th>pastshallow_mode_district_544M</th><th>pastshallow_mode_education_1138M</th><th>pastshallow_mode_postype_4733339M</th><th>pastshallow_mode_profession_152M</th><th>pastshallow_mode_rejectreason_755M</th><th>pastshallow_mode_rejectreasonclient_4145042M</th></tr><tr><td>u32</td><td>f32</td><td>f32</td><td>f32</td><td>f32</td><td>f32</td><td>f32</td><td>f32</td><td>f32</td><td>f32</td><td>f32</td><td>f32</td><td>f32</td><td>f32</td><td>f32</td><td>f32</td><td>f32</td><td>f32</td><td>f32</td><td>f32</td><td>f32</td><td>f32</td><td>f32</td><td>f32</td><td>f32</td><td>f32</td><td>f32</td><td>f32</td><td>f32</td><td>f32</td><td>f32</td><td>f32</td><td>f32</td><td>f32</td><td>f32</td><td>f32</td><td>f32</td><td>u8</td><td>u16</td><td>u8</td><td>u8</td><td>u16</td><td>u8</td><td>u8</td></tr></thead><tbody><tr><td>159535</td><td>0.00</td><td>5815.60</td><td>null</td><td>0.00</td><td>null</td><td>null</td><td>43890.00</td><td>8295.25</td><td>0.00</td><td>33000.00</td><td>0.00</td><td>8744.20</td><td>null</td><td>null</td><td>1.00</td><td>null</td><td>7.00</td><td>7.00</td><td>0.00</td><td>8881.00</td><td>null</td><td>0.00</td><td>null</td><td>null</td><td>80000.00</td><td>16590.51</td><td>0.00</td><td>46000.00</td><td>0.00</td><td>17488.40</td><td>null</td><td>null</td><td>1.00</td><td>null</td><td>11.00</td><td>11.00</td><td>1</td><td>1</td><td>1</td><td>1</td><td>1</td><td>1</td><td>1</td></tr><tr><td>1436782</td><td>0.00</td><td>3321.96</td><td>null</td><td>0.00</td><td>null</td><td>null</td><td>22790.70</td><td>0.00</td><td>64.00</td><td>24833.33</td><td>0.25</td><td>0.00</td><td>null</td><td>15250.00</td><td>0.25</td><td>null</td><td>9.90</td><td>9.90</td><td>0.00</td><td>5259.20</td><td>null</td><td>0.00</td><td>null</td><td>null</td><td>40000.00</td><td>0.00</td><td>640.00</td><td>50000.00</td><td>1.00</td><td>0.00</td><td>null</td><td>40000.00</td><td>1.00</td><td>null</td><td>24.00</td><td>24.00</td><td>1</td><td>2</td><td>2</td><td>1</td><td>1</td><td>1</td><td>1</td></tr><tr><td>&hellip;</td><td>&hellip;</td><td>&hellip;</td><td>&hellip;</td><td>&hellip;</td><td>&hellip;</td><td>&hellip;</td><td>&hellip;</td><td>&hellip;</td><td>&hellip;</td><td>&hellip;</td><td>&hellip;</td><td>&hellip;</td><td>&hellip;</td><td>&hellip;</td><td>&hellip;</td><td>&hellip;</td><td>&hellip;</td><td>&hellip;</td><td>&hellip;</td><td>&hellip;</td><td>&hellip;</td><td>&hellip;</td><td>&hellip;</td><td>&hellip;</td><td>&hellip;</td><td>&hellip;</td><td>&hellip;</td><td>&hellip;</td><td>&hellip;</td><td>&hellip;</td><td>&hellip;</td><td>&hellip;</td><td>&hellip;</td><td>&hellip;</td><td>&hellip;</td><td>&hellip;</td><td>&hellip;</td><td>&hellip;</td><td>&hellip;</td><td>&hellip;</td><td>&hellip;</td><td>&hellip;</td><td>&hellip;</td></tr><tr><td>100984</td><td>0.00</td><td>0.00</td><td>1816.71</td><td>0.00</td><td>4000.00</td><td>0.00</td><td>0.00</td><td>0.00</td><td>0.00</td><td>null</td><td>0.00</td><td>0.00</td><td>840473664.00</td><td>null</td><td>null</td><td>3.00</td><td>null</td><td>null</td><td>0.00</td><td>0.00</td><td>1816.71</td><td>0.00</td><td>4000.00</td><td>0.00</td><td>0.00</td><td>0.00</td><td>0.00</td><td>null</td><td>0.00</td><td>0.00</td><td>840473664.00</td><td>null</td><td>null</td><td>3.00</td><td>null</td><td>null</td><td>1</td><td>39</td><td>2</td><td>6</td><td>1</td><td>1</td><td>1</td></tr><tr><td>101005</td><td>0.00</td><td>4699.70</td><td>null</td><td>0.00</td><td>null</td><td>null</td><td>125000.00</td><td>null</td><td>0.00</td><td>50000.00</td><td>null</td><td>null</td><td>null</td><td>null</td><td>null</td><td>null</td><td>54.00</td><td>54.00</td><td>0.00</td><td>5847.00</td><td>null</td><td>0.00</td><td>null</td><td>null</td><td>150000.00</td><td>null</td><td>0.00</td><td>50000.00</td><td>null</td><td>null</td><td>null</td><td>null</td><td>null</td><td>null</td><td>60.00</td><td>60.00</td><td>2</td><td>580</td><td>2</td><td>4</td><td>1</td><td>1</td><td>2</td></tr></tbody></table></div>"
      ],
      "text/plain": [
       "shape: (1_221_536, 44)\n",
       "┌─────────┬────────────┬───────────┬───────────┬───┬───────────┬───────────┬───────────┬───────────┐\n",
       "│ case_id ┆ pastshallo ┆ pastshall ┆ pastshall ┆ … ┆ pastshall ┆ pastshall ┆ pastshall ┆ pastshall │\n",
       "│ ---     ┆ w_mean_act ┆ ow_mean_a ┆ ow_mean_c ┆   ┆ ow_mode_p ┆ ow_mode_p ┆ ow_mode_r ┆ ow_mode_r │\n",
       "│ u32     ┆ ualdpd_943 ┆ nnuity_85 ┆ redacc_ac ┆   ┆ ostype_47 ┆ rofession ┆ ejectreas ┆ ejectreas │\n",
       "│         ┆ P          ┆ 3A        ┆ tualb…    ┆   ┆ 33339…    ┆ _152M     ┆ on_75…    ┆ oncli…    │\n",
       "│         ┆ ---        ┆ ---       ┆ ---       ┆   ┆ ---       ┆ ---       ┆ ---       ┆ ---       │\n",
       "│         ┆ f32        ┆ f32       ┆ f32       ┆   ┆ u8        ┆ u16       ┆ u8        ┆ u8        │\n",
       "╞═════════╪════════════╪═══════════╪═══════════╪═══╪═══════════╪═══════════╪═══════════╪═══════════╡\n",
       "│ 159535  ┆ 0.00       ┆ 5815.60   ┆ null      ┆ … ┆ 1         ┆ 1         ┆ 1         ┆ 1         │\n",
       "│ 1436782 ┆ 0.00       ┆ 3321.96   ┆ null      ┆ … ┆ 1         ┆ 1         ┆ 1         ┆ 1         │\n",
       "│ …       ┆ …          ┆ …         ┆ …         ┆ … ┆ …         ┆ …         ┆ …         ┆ …         │\n",
       "│ 100984  ┆ 0.00       ┆ 0.00      ┆ 1816.71   ┆ … ┆ 6         ┆ 1         ┆ 1         ┆ 1         │\n",
       "│ 101005  ┆ 0.00       ┆ 4699.70   ┆ null      ┆ … ┆ 4         ┆ 1         ┆ 1         ┆ 2         │\n",
       "└─────────┴────────────┴───────────┴───────────┴───┴───────────┴───────────┴───────────┴───────────┘"
      ]
     },
     "execution_count": 20,
     "metadata": {},
     "output_type": "execute_result"
    }
   ],
   "source": [
    "total_past_shallow.select(~cs.date())"
   ]
  },
  {
   "cell_type": "code",
   "execution_count": 26,
   "id": "b0009692",
   "metadata": {},
   "outputs": [
    {
     "data": {
      "text/html": [
       "<div><style>\n",
       ".dataframe > thead > tr,\n",
       ".dataframe > tbody > tr {\n",
       "  text-align: right;\n",
       "  white-space: pre-wrap;\n",
       "}\n",
       "</style>\n",
       "<small>shape: (1_221_536, 114)</small><table border=\"1\" class=\"dataframe\"><thead><tr><th>case_id</th><th>tdays_pastshallow_mean_approvaldate_319D</th><th>tdays_pastshallow_mean_creationdate_885D</th><th>tdays_pastshallow_mean_dateactivated_425D</th><th>tdays_pastshallow_mean_dtlastpmt_581D</th><th>tdays_pastshallow_mean_dtlastpmtallstes_3545839D</th><th>tdays_pastshallow_mean_employedfrom_700D</th><th>tdays_pastshallow_mean_firstnonzeroinstldate_307D</th><th>tdays_pastshallow_max_approvaldate_319D</th><th>tdays_pastshallow_max_creationdate_885D</th><th>tdays_pastshallow_max_dateactivated_425D</th><th>tdays_pastshallow_max_dtlastpmt_581D</th><th>tdays_pastshallow_max_dtlastpmtallstes_3545839D</th><th>tdays_pastshallow_max_employedfrom_700D</th><th>tdays_pastshallow_max_firstnonzeroinstldate_307D</th><th>year_pastshallow_mean_approvaldate_319D</th><th>year_pastshallow_mean_creationdate_885D</th><th>year_pastshallow_mean_dateactivated_425D</th><th>year_pastshallow_mean_dtlastpmt_581D</th><th>year_pastshallow_mean_dtlastpmtallstes_3545839D</th><th>year_pastshallow_mean_employedfrom_700D</th><th>year_pastshallow_mean_firstnonzeroinstldate_307D</th><th>year_pastshallow_max_approvaldate_319D</th><th>year_pastshallow_max_creationdate_885D</th><th>year_pastshallow_max_dateactivated_425D</th><th>year_pastshallow_max_dtlastpmt_581D</th><th>year_pastshallow_max_dtlastpmtallstes_3545839D</th><th>year_pastshallow_max_employedfrom_700D</th><th>year_pastshallow_max_firstnonzeroinstldate_307D</th><th>month_pastshallow_mean_approvaldate_319D</th><th>month_pastshallow_mean_creationdate_885D</th><th>month_pastshallow_mean_dateactivated_425D</th><th>month_pastshallow_mean_dtlastpmt_581D</th><th>month_pastshallow_mean_dtlastpmtallstes_3545839D</th><th>month_pastshallow_mean_employedfrom_700D</th><th>month_pastshallow_mean_firstnonzeroinstldate_307D</th><th>month_pastshallow_max_approvaldate_319D</th><th>&hellip;</th><th>nodate_pastshallow_mean_credamount_590A</th><th>nodate_pastshallow_mean_currdebt_94A</th><th>nodate_pastshallow_mean_downpmt_134A</th><th>nodate_pastshallow_mean_mainoccupationinc_437A</th><th>nodate_pastshallow_mean_maxdpdtolerance_577P</th><th>nodate_pastshallow_mean_outstandingdebt_522A</th><th>nodate_pastshallow_mean_revolvingaccount_394A</th><th>nodate_pastshallow_mean_byoccupationinc_3656910L</th><th>nodate_pastshallow_mean_childnum_21L</th><th>nodate_pastshallow_mean_credacc_transactions_402L</th><th>nodate_pastshallow_mean_pmtnum_8L</th><th>nodate_pastshallow_mean_tenor_203L</th><th>nodate_pastshallow_max_actualdpd_943P</th><th>nodate_pastshallow_max_annuity_853A</th><th>nodate_pastshallow_max_credacc_actualbalance_314A</th><th>nodate_pastshallow_max_credacc_credlmt_575A</th><th>nodate_pastshallow_max_credacc_maxhisbal_375A</th><th>nodate_pastshallow_max_credacc_minhisbal_90A</th><th>nodate_pastshallow_max_credamount_590A</th><th>nodate_pastshallow_max_currdebt_94A</th><th>nodate_pastshallow_max_downpmt_134A</th><th>nodate_pastshallow_max_mainoccupationinc_437A</th><th>nodate_pastshallow_max_maxdpdtolerance_577P</th><th>nodate_pastshallow_max_outstandingdebt_522A</th><th>nodate_pastshallow_max_revolvingaccount_394A</th><th>nodate_pastshallow_max_byoccupationinc_3656910L</th><th>nodate_pastshallow_max_childnum_21L</th><th>nodate_pastshallow_max_credacc_transactions_402L</th><th>nodate_pastshallow_max_pmtnum_8L</th><th>nodate_pastshallow_max_tenor_203L</th><th>nodate_pastshallow_mode_cancelreason_3545846M</th><th>nodate_pastshallow_mode_district_544M</th><th>nodate_pastshallow_mode_education_1138M</th><th>nodate_pastshallow_mode_postype_4733339M</th><th>nodate_pastshallow_mode_profession_152M</th><th>nodate_pastshallow_mode_rejectreason_755M</th><th>nodate_pastshallow_mode_rejectreasonclient_4145042M</th></tr><tr><td>u32</td><td>i64</td><td>i64</td><td>i64</td><td>i64</td><td>i64</td><td>i64</td><td>i64</td><td>i64</td><td>i64</td><td>i64</td><td>i64</td><td>i64</td><td>i64</td><td>i64</td><td>i8</td><td>i8</td><td>i8</td><td>i8</td><td>i8</td><td>i8</td><td>i8</td><td>i8</td><td>i8</td><td>i8</td><td>i8</td><td>i8</td><td>i8</td><td>i8</td><td>i8</td><td>i8</td><td>i8</td><td>i8</td><td>i8</td><td>i8</td><td>i8</td><td>i8</td><td>&hellip;</td><td>f32</td><td>f32</td><td>f32</td><td>f32</td><td>f32</td><td>f32</td><td>f32</td><td>f32</td><td>f32</td><td>f32</td><td>f32</td><td>f32</td><td>f32</td><td>f32</td><td>f32</td><td>f32</td><td>f32</td><td>f32</td><td>f32</td><td>f32</td><td>f32</td><td>f32</td><td>f32</td><td>f32</td><td>f32</td><td>f32</td><td>f32</td><td>f32</td><td>f32</td><td>f32</td><td>u8</td><td>u16</td><td>u8</td><td>u8</td><td>u16</td><td>u8</td><td>u8</td></tr></thead><tbody><tr><td>159535</td><td>-593</td><td>-593</td><td>-585</td><td>-815</td><td>-401</td><td>null</td><td>-562</td><td>-280</td><td>-280</td><td>-270</td><td>-815</td><td>14</td><td>null</td><td>-250</td><td>0</td><td>0</td><td>0</td><td>-1</td><td>0</td><td>null</td><td>0</td><td>0</td><td>0</td><td>0</td><td>-1</td><td>1</td><td>null</td><td>1</td><td>1</td><td>1</td><td>2</td><td>6</td><td>8</td><td>null</td><td>3</td><td>12</td><td>&hellip;</td><td>43890.00</td><td>8295.25</td><td>0.00</td><td>33000.00</td><td>0.00</td><td>8744.20</td><td>null</td><td>null</td><td>1.00</td><td>null</td><td>7.00</td><td>7.00</td><td>0.00</td><td>8881.00</td><td>null</td><td>0.00</td><td>null</td><td>null</td><td>80000.00</td><td>16590.51</td><td>0.00</td><td>46000.00</td><td>0.00</td><td>17488.40</td><td>null</td><td>null</td><td>1.00</td><td>null</td><td>11.00</td><td>11.00</td><td>1</td><td>1</td><td>1</td><td>1</td><td>1</td><td>1</td><td>1</td></tr><tr><td>1436782</td><td>-1440</td><td>-1218</td><td>-1433</td><td>-596</td><td>-596</td><td>null</td><td>-1290</td><td>-490</td><td>-490</td><td>-486</td><td>-161</td><td>-161</td><td>null</td><td>-462</td><td>-3</td><td>-2</td><td>-3</td><td>-1</td><td>-1</td><td>null</td><td>-3</td><td>0</td><td>0</td><td>0</td><td>1</td><td>1</td><td>null</td><td>0</td><td>7</td><td>3</td><td>8</td><td>11</td><td>11</td><td>null</td><td>12</td><td>3</td><td>&hellip;</td><td>22790.70</td><td>0.00</td><td>64.00</td><td>24833.33</td><td>0.25</td><td>0.00</td><td>null</td><td>15250.00</td><td>0.25</td><td>null</td><td>9.90</td><td>9.90</td><td>0.00</td><td>5259.20</td><td>null</td><td>0.00</td><td>null</td><td>null</td><td>40000.00</td><td>0.00</td><td>640.00</td><td>50000.00</td><td>1.00</td><td>0.00</td><td>null</td><td>40000.00</td><td>1.00</td><td>null</td><td>24.00</td><td>24.00</td><td>1</td><td>2</td><td>2</td><td>1</td><td>1</td><td>1</td><td>1</td></tr><tr><td>&hellip;</td><td>&hellip;</td><td>&hellip;</td><td>&hellip;</td><td>&hellip;</td><td>&hellip;</td><td>&hellip;</td><td>&hellip;</td><td>&hellip;</td><td>&hellip;</td><td>&hellip;</td><td>&hellip;</td><td>&hellip;</td><td>&hellip;</td><td>&hellip;</td><td>&hellip;</td><td>&hellip;</td><td>&hellip;</td><td>&hellip;</td><td>&hellip;</td><td>&hellip;</td><td>&hellip;</td><td>&hellip;</td><td>&hellip;</td><td>&hellip;</td><td>&hellip;</td><td>&hellip;</td><td>&hellip;</td><td>&hellip;</td><td>&hellip;</td><td>&hellip;</td><td>&hellip;</td><td>&hellip;</td><td>&hellip;</td><td>&hellip;</td><td>&hellip;</td><td>&hellip;</td><td>&hellip;</td><td>&hellip;</td><td>&hellip;</td><td>&hellip;</td><td>&hellip;</td><td>&hellip;</td><td>&hellip;</td><td>&hellip;</td><td>&hellip;</td><td>&hellip;</td><td>&hellip;</td><td>&hellip;</td><td>&hellip;</td><td>&hellip;</td><td>&hellip;</td><td>&hellip;</td><td>&hellip;</td><td>&hellip;</td><td>&hellip;</td><td>&hellip;</td><td>&hellip;</td><td>&hellip;</td><td>&hellip;</td><td>&hellip;</td><td>&hellip;</td><td>&hellip;</td><td>&hellip;</td><td>&hellip;</td><td>&hellip;</td><td>&hellip;</td><td>&hellip;</td><td>&hellip;</td><td>&hellip;</td><td>&hellip;</td><td>&hellip;</td><td>&hellip;</td><td>&hellip;</td><td>&hellip;</td></tr><tr><td>100984</td><td>null</td><td>null</td><td>null</td><td>null</td><td>null</td><td>null</td><td>null</td><td>null</td><td>null</td><td>null</td><td>null</td><td>null</td><td>null</td><td>null</td><td>4</td><td>4</td><td>null</td><td>null</td><td>4</td><td>null</td><td>null</td><td>4</td><td>4</td><td>null</td><td>null</td><td>4</td><td>null</td><td>null</td><td>9</td><td>9</td><td>null</td><td>null</td><td>9</td><td>null</td><td>null</td><td>9</td><td>&hellip;</td><td>0.00</td><td>0.00</td><td>0.00</td><td>null</td><td>0.00</td><td>0.00</td><td>840473664.00</td><td>null</td><td>null</td><td>3.00</td><td>null</td><td>null</td><td>0.00</td><td>0.00</td><td>1816.71</td><td>0.00</td><td>4000.00</td><td>0.00</td><td>0.00</td><td>0.00</td><td>0.00</td><td>null</td><td>0.00</td><td>0.00</td><td>840473664.00</td><td>null</td><td>null</td><td>3.00</td><td>null</td><td>null</td><td>1</td><td>39</td><td>2</td><td>6</td><td>1</td><td>1</td><td>1</td></tr><tr><td>101005</td><td>null</td><td>null</td><td>null</td><td>null</td><td>null</td><td>null</td><td>null</td><td>null</td><td>null</td><td>null</td><td>null</td><td>null</td><td>null</td><td>null</td><td>null</td><td>4</td><td>null</td><td>null</td><td>null</td><td>null</td><td>4</td><td>null</td><td>4</td><td>null</td><td>null</td><td>null</td><td>null</td><td>4</td><td>null</td><td>9</td><td>null</td><td>null</td><td>null</td><td>null</td><td>10</td><td>null</td><td>&hellip;</td><td>125000.00</td><td>null</td><td>0.00</td><td>50000.00</td><td>null</td><td>null</td><td>null</td><td>null</td><td>null</td><td>null</td><td>54.00</td><td>54.00</td><td>0.00</td><td>5847.00</td><td>null</td><td>0.00</td><td>null</td><td>null</td><td>150000.00</td><td>null</td><td>0.00</td><td>50000.00</td><td>null</td><td>null</td><td>null</td><td>null</td><td>null</td><td>null</td><td>60.00</td><td>60.00</td><td>2</td><td>580</td><td>2</td><td>4</td><td>1</td><td>1</td><td>2</td></tr></tbody></table></div>"
      ],
      "text/plain": [
       "shape: (1_221_536, 114)\n",
       "┌─────────┬────────────┬───────────┬───────────┬───┬───────────┬───────────┬───────────┬───────────┐\n",
       "│ case_id ┆ tdays_past ┆ tdays_pas ┆ tdays_pas ┆ … ┆ nodate_pa ┆ nodate_pa ┆ nodate_pa ┆ nodate_pa │\n",
       "│ ---     ┆ shallow_me ┆ tshallow_ ┆ tshallow_ ┆   ┆ stshallow ┆ stshallow ┆ stshallow ┆ stshallow │\n",
       "│ u32     ┆ an_approva ┆ mean_crea ┆ mean_date ┆   ┆ _mode_pos ┆ _mode_pro ┆ _mode_rej ┆ _mode_rej │\n",
       "│         ┆ ld…        ┆ tiond…    ┆ activ…    ┆   ┆ type_…    ┆ fessi…    ┆ ectre…    ┆ ectre…    │\n",
       "│         ┆ ---        ┆ ---       ┆ ---       ┆   ┆ ---       ┆ ---       ┆ ---       ┆ ---       │\n",
       "│         ┆ i64        ┆ i64       ┆ i64       ┆   ┆ u8        ┆ u16       ┆ u8        ┆ u8        │\n",
       "╞═════════╪════════════╪═══════════╪═══════════╪═══╪═══════════╪═══════════╪═══════════╪═══════════╡\n",
       "│ 159535  ┆ -593       ┆ -593      ┆ -585      ┆ … ┆ 1         ┆ 1         ┆ 1         ┆ 1         │\n",
       "│ 1436782 ┆ -1440      ┆ -1218     ┆ -1433     ┆ … ┆ 1         ┆ 1         ┆ 1         ┆ 1         │\n",
       "│ …       ┆ …          ┆ …         ┆ …         ┆ … ┆ …         ┆ …         ┆ …         ┆ …         │\n",
       "│ 100984  ┆ null       ┆ null      ┆ null      ┆ … ┆ 6         ┆ 1         ┆ 1         ┆ 1         │\n",
       "│ 101005  ┆ null       ┆ null      ┆ null      ┆ … ┆ 4         ┆ 1         ┆ 1         ┆ 2         │\n",
       "└─────────┴────────────┴───────────┴───────────┴───┴───────────┴───────────┴───────────┴───────────┘"
      ]
     },
     "execution_count": 26,
     "metadata": {},
     "output_type": "execute_result"
    }
   ],
   "source": [
    "(\n",
    "    total_past_shallow\n",
    "    .join(\n",
    "        total_base\n",
    "        .select([\"case_id\",\"Date\"]),\n",
    "        how=\"left\",\n",
    "        on=\"case_id\"\n",
    "    )\n",
    "    .select(\n",
    "        pl.col(\"case_id\"),\n",
    "        (pl.col(pl.Date) - pl.col(\"Date\")).dt.total_days().prefix(\"tdays_\"),\n",
    "        (pl.col(pl.Date).exclude(\"Date\").dt.year() - 2018).cast(pl.Int8).prefix(\"year_\"),\n",
    "        pl.col(pl.Date).exclude(\"Date\").dt.month().cast(pl.Int8).prefix(\"month_\"),\n",
    "        pl.col(pl.Date).exclude(\"Date\").dt.week().cast(pl.Int16).prefix(\"week_\"),\n",
    "        pl.col(pl.Date).exclude(\"Date\").dt.weekday().cast(pl.Int16).prefix(\"weekday_\"),\n",
    "        (~cs.date()).exclude(\"case_id\").prefix(\"notdate_\")\n",
    "    )\n",
    "    .drop(\"tdays_Date\")\n",
    ")"
   ]
  },
  {
   "cell_type": "code",
   "execution_count": 22,
   "id": "5dfafee6",
   "metadata": {},
   "outputs": [
    {
     "data": {
      "text/plain": [
       "115"
      ]
     },
     "execution_count": 22,
     "metadata": {},
     "output_type": "execute_result"
    }
   ],
   "source": [
    "5 * 14 + 1 + (58 - 14)"
   ]
  },
  {
   "cell_type": "code",
   "execution_count": 9,
   "id": "06653951",
   "metadata": {},
   "outputs": [
    {
     "data": {
      "text/plain": [
       "57"
      ]
     },
     "execution_count": 9,
     "metadata": {},
     "output_type": "execute_result"
    }
   ],
   "source": [
    "115 - 58"
   ]
  },
  {
   "cell_type": "code",
   "execution_count": 7,
   "id": "70775496",
   "metadata": {
    "execution": {
     "iopub.execute_input": "2024-05-07T18:31:01.514593Z",
     "iopub.status.busy": "2024-05-07T18:31:01.514332Z",
     "iopub.status.idle": "2024-05-07T18:40:10.119548Z",
     "shell.execute_reply": "2024-05-07T18:40:10.118535Z",
     "shell.execute_reply.started": "2024-05-07T18:31:01.514569Z"
    },
    "papermill": {
     "duration": null,
     "end_time": null,
     "exception": false,
     "start_time": "2024-05-12T16:28:10.942309",
     "status": "running"
    },
    "tags": []
   },
   "outputs": [
    {
     "name": "stdout",
     "output_type": "stream",
     "text": [
      "done 1\n",
      "done 2\n",
      "done 3\n",
      "done 4\n",
      "done 5\n",
      "done 6\n",
      "done 7\n",
      "done 8\n",
      "done 9\n",
      "done 10\n",
      "done 11\n",
      "done 12\n",
      "done 13\n",
      "done 14\n",
      "done 15\n",
      "done 16\n"
     ]
    }
   ],
   "source": [
    "total_past_shallow = preprocess(\"applprev_1\", \"pastshallow\")\n",
    "# display(total_past_shallow)\n",
    "print(\"done 1\")\n",
    "\n",
    "total_past_depth = preprocess(\"applprev_2\", \"pastdepth\")\n",
    "# display(total_past_depth)\n",
    "print(\"done 2\")\n",
    "\n",
    "total_static_base = preprocess(\"static_0\",\"staticbase\")\n",
    "# display(total_static_base)\n",
    "print(\"done 3\")\n",
    "\n",
    "\n",
    "total_static_external = (\n",
    "    preprocess(\"static_cb\", \"staticexternal\")\n",
    "    .with_columns(\n",
    "        cs.contains(\"riskassesment_302T\").str.split(\"%\").list.gather([0, 1]).apply(\n",
    "            lambda x: (int(x[0]) + int(x[1].split(\"-\")[1])) / 200\n",
    "        )\n",
    "    )\n",
    ")\n",
    "# display(total_static_external)\n",
    "print(\"done 4\")\n",
    "\n",
    "\n",
    "total_person_shallow = preprocess(\"person_1\", \"personshallow\")\n",
    "# display(total_person_shallow)\n",
    "print(\"done 5\")\n",
    "\n",
    "\n",
    "total_person_depth = preprocess(\"person_2\", \"persondepth\")\n",
    "# display(total_person_depth)\n",
    "print(\"done 6\")\n",
    "\n",
    "\n",
    "total_other_shallow = preprocess(\"other_1\", \"othershallow\")\n",
    "# display(total_other_shallow)\n",
    "print(\"done 7\")\n",
    "\n",
    "\n",
    "total_deposit_shallow = preprocess(\"deposit_1\", \"depositshallow\")\n",
    "# display(total_deposit_shallow)\n",
    "print(\"done 8\")\n",
    "\n",
    "\n",
    "total_debitcard_shallow = preprocess(\"debitcard\", \"cardshallow\")\n",
    "# display(total_debitcard_shallow)\n",
    "print(\"done 9\")\n",
    "\n",
    "\n",
    "total_credit_internal_shallow = preprocess(\"bureau_a_1\", \"intshallow\")\n",
    "# display(total_credit_internal_shallow)\n",
    "print(\"done 10\")\n",
    "\n",
    "\n",
    "total_credit_internal_depth = preprocess(\"bureau_a_2\", \"intdepth\")\n",
    "# display(total_credit_internal_depth)\n",
    "print(\"done 11\")\n",
    "\n",
    "\n",
    "total_credit_external_shallow = preprocess(\"bureau_b_1\", \"extshallow\")\n",
    "# display(total_credit_external_shallow)\n",
    "print(\"done 12\")\n",
    "\n",
    "\n",
    "total_credit_external_depth = preprocess(\"bureau_b_2\", \"extdepth\")\n",
    "# display(total_credit_external_depth)\n",
    "print(\"done 13\")\n",
    "\n",
    "\n",
    "total_registry_a = preprocess(\"registry_a\", \"rega\")\n",
    "# display(total_registry_a)\n",
    "print(\"done 14\")\n",
    "\n",
    "\n",
    "total_registry_b = preprocess(\"registry_b\", \"regb\")\n",
    "# display(total_registry_b)\n",
    "print(\"done 15\")\n",
    "\n",
    "\n",
    "total_registry_c = preprocess(\"registry_c\", \"regc\")\n",
    "# display(total_registry_c)\n",
    "print(\"done 16\")"
   ]
  },
  {
   "cell_type": "code",
   "execution_count": 8,
   "id": "1ebf202b",
   "metadata": {
    "execution": {
     "iopub.execute_input": "2024-05-07T18:40:10.150966Z",
     "iopub.status.busy": "2024-05-07T18:40:10.150678Z",
     "iopub.status.idle": "2024-05-07T18:40:18.610425Z",
     "shell.execute_reply": "2024-05-07T18:40:18.609516Z",
     "shell.execute_reply.started": "2024-05-07T18:40:10.150936Z"
    },
    "papermill": {
     "duration": null,
     "end_time": null,
     "exception": null,
     "start_time": null,
     "status": "pending"
    },
    "tags": []
   },
   "outputs": [
    {
     "data": {
      "text/html": [
       "<div><style>\n",
       ".dataframe > thead > tr,\n",
       ".dataframe > tbody > tr {\n",
       "  text-align: right;\n",
       "  white-space: pre-wrap;\n",
       "}\n",
       "</style>\n",
       "<small>shape: (1_526_659, 1_244)</small><table border=\"1\" class=\"dataframe\"><thead><tr><th>weeknum</th><th>month</th><th>weekday</th><th>week</th><th>year</th><th>target</th><th>pastshallow_mean_approvaldate_319D</th><th>pastshallow_mean_creationdate_885D</th><th>pastshallow_mean_dateactivated_425D</th><th>pastshallow_mean_dtlastpmt_581D</th><th>pastshallow_mean_dtlastpmtallstes_3545839D</th><th>pastshallow_mean_employedfrom_700D</th><th>pastshallow_mean_firstnonzeroinstldate_307D</th><th>pastshallow_max_approvaldate_319D</th><th>pastshallow_max_creationdate_885D</th><th>pastshallow_max_dateactivated_425D</th><th>pastshallow_max_dtlastpmt_581D</th><th>pastshallow_max_dtlastpmtallstes_3545839D</th><th>pastshallow_max_employedfrom_700D</th><th>pastshallow_max_firstnonzeroinstldate_307D</th><th>pastshallow_year_mean_approvaldate_319D</th><th>pastshallow_year_mean_creationdate_885D</th><th>pastshallow_year_mean_dateactivated_425D</th><th>pastshallow_year_mean_dtlastpmt_581D</th><th>pastshallow_year_mean_dtlastpmtallstes_3545839D</th><th>pastshallow_year_mean_employedfrom_700D</th><th>pastshallow_year_mean_firstnonzeroinstldate_307D</th><th>pastshallow_year_max_approvaldate_319D</th><th>pastshallow_year_max_creationdate_885D</th><th>pastshallow_year_max_dateactivated_425D</th><th>pastshallow_year_max_dtlastpmt_581D</th><th>pastshallow_year_max_dtlastpmtallstes_3545839D</th><th>pastshallow_year_max_employedfrom_700D</th><th>pastshallow_year_max_firstnonzeroinstldate_307D</th><th>pastshallow_month_mean_approvaldate_319D</th><th>pastshallow_month_mean_creationdate_885D</th><th>pastshallow_month_mean_dateactivated_425D</th><th>&hellip;</th><th>rega_year_mean_recorddate_4527225D</th><th>rega_year_max_recorddate_4527225D</th><th>rega_month_mean_recorddate_4527225D</th><th>rega_month_max_recorddate_4527225D</th><th>rega_week_mean_recorddate_4527225D</th><th>rega_week_max_recorddate_4527225D</th><th>rega_weekday_mean_recorddate_4527225D</th><th>rega_weekday_max_recorddate_4527225D</th><th>rega_nodate_mean_amount_4527230A</th><th>rega_nodate_max_amount_4527230A</th><th>rega_nodate_mode_name_4527232M</th><th>regb_mean_deductiondate_4917603D</th><th>regb_max_deductiondate_4917603D</th><th>regb_year_mean_deductiondate_4917603D</th><th>regb_year_max_deductiondate_4917603D</th><th>regb_month_mean_deductiondate_4917603D</th><th>regb_month_max_deductiondate_4917603D</th><th>regb_week_mean_deductiondate_4917603D</th><th>regb_week_max_deductiondate_4917603D</th><th>regb_weekday_mean_deductiondate_4917603D</th><th>regb_weekday_max_deductiondate_4917603D</th><th>regb_nodate_mean_amount_4917619A</th><th>regb_nodate_max_amount_4917619A</th><th>regb_nodate_mode_name_4917606M</th><th>regc_mean_processingdate_168D</th><th>regc_max_processingdate_168D</th><th>regc_year_mean_processingdate_168D</th><th>regc_year_max_processingdate_168D</th><th>regc_month_mean_processingdate_168D</th><th>regc_month_max_processingdate_168D</th><th>regc_week_mean_processingdate_168D</th><th>regc_week_max_processingdate_168D</th><th>regc_weekday_mean_processingdate_168D</th><th>regc_weekday_max_processingdate_168D</th><th>regc_nodate_mean_pmtamount_36A</th><th>regc_nodate_max_pmtamount_36A</th><th>regc_nodate_mode_employername_160M</th></tr><tr><td>u8</td><td>i8</td><td>i8</td><td>i8</td><td>i8</td><td>u8</td><td>i16</td><td>i16</td><td>i16</td><td>i16</td><td>i16</td><td>i16</td><td>i16</td><td>i16</td><td>i16</td><td>i16</td><td>i16</td><td>i16</td><td>i16</td><td>i16</td><td>i8</td><td>i8</td><td>i8</td><td>i8</td><td>i8</td><td>i8</td><td>i8</td><td>i8</td><td>i8</td><td>i8</td><td>i8</td><td>i8</td><td>i8</td><td>i8</td><td>i8</td><td>i8</td><td>i8</td><td>&hellip;</td><td>i8</td><td>i8</td><td>i8</td><td>i8</td><td>i8</td><td>i8</td><td>i8</td><td>i8</td><td>f32</td><td>f32</td><td>u32</td><td>i16</td><td>i16</td><td>i8</td><td>i8</td><td>i8</td><td>i8</td><td>i8</td><td>i8</td><td>i8</td><td>i8</td><td>f32</td><td>f32</td><td>u16</td><td>i16</td><td>i16</td><td>i8</td><td>i8</td><td>i8</td><td>i8</td><td>i8</td><td>i8</td><td>i8</td><td>i8</td><td>f32</td><td>f32</td><td>u32</td></tr></thead><tbody><tr><td>0</td><td>1</td><td>4</td><td>1</td><td>1</td><td>0</td><td>null</td><td>null</td><td>null</td><td>null</td><td>null</td><td>null</td><td>null</td><td>null</td><td>null</td><td>null</td><td>null</td><td>null</td><td>null</td><td>null</td><td>null</td><td>null</td><td>null</td><td>null</td><td>null</td><td>null</td><td>null</td><td>null</td><td>null</td><td>null</td><td>null</td><td>null</td><td>null</td><td>null</td><td>null</td><td>null</td><td>null</td><td>&hellip;</td><td>null</td><td>null</td><td>null</td><td>null</td><td>null</td><td>null</td><td>null</td><td>null</td><td>null</td><td>null</td><td>null</td><td>null</td><td>null</td><td>null</td><td>null</td><td>null</td><td>null</td><td>null</td><td>null</td><td>null</td><td>null</td><td>null</td><td>null</td><td>null</td><td>null</td><td>null</td><td>null</td><td>null</td><td>null</td><td>null</td><td>null</td><td>null</td><td>null</td><td>null</td><td>null</td><td>null</td><td>null</td></tr><tr><td>0</td><td>1</td><td>4</td><td>1</td><td>1</td><td>0</td><td>null</td><td>null</td><td>null</td><td>null</td><td>null</td><td>null</td><td>null</td><td>null</td><td>null</td><td>null</td><td>null</td><td>null</td><td>null</td><td>null</td><td>null</td><td>null</td><td>null</td><td>null</td><td>null</td><td>null</td><td>null</td><td>null</td><td>null</td><td>null</td><td>null</td><td>null</td><td>null</td><td>null</td><td>null</td><td>null</td><td>null</td><td>&hellip;</td><td>null</td><td>null</td><td>null</td><td>null</td><td>null</td><td>null</td><td>null</td><td>null</td><td>null</td><td>null</td><td>null</td><td>null</td><td>null</td><td>null</td><td>null</td><td>null</td><td>null</td><td>null</td><td>null</td><td>null</td><td>null</td><td>null</td><td>null</td><td>null</td><td>null</td><td>null</td><td>null</td><td>null</td><td>null</td><td>null</td><td>null</td><td>null</td><td>null</td><td>null</td><td>null</td><td>null</td><td>null</td></tr><tr><td>&hellip;</td><td>&hellip;</td><td>&hellip;</td><td>&hellip;</td><td>&hellip;</td><td>&hellip;</td><td>&hellip;</td><td>&hellip;</td><td>&hellip;</td><td>&hellip;</td><td>&hellip;</td><td>&hellip;</td><td>&hellip;</td><td>&hellip;</td><td>&hellip;</td><td>&hellip;</td><td>&hellip;</td><td>&hellip;</td><td>&hellip;</td><td>&hellip;</td><td>&hellip;</td><td>&hellip;</td><td>&hellip;</td><td>&hellip;</td><td>&hellip;</td><td>&hellip;</td><td>&hellip;</td><td>&hellip;</td><td>&hellip;</td><td>&hellip;</td><td>&hellip;</td><td>&hellip;</td><td>&hellip;</td><td>&hellip;</td><td>&hellip;</td><td>&hellip;</td><td>&hellip;</td><td>&hellip;</td><td>&hellip;</td><td>&hellip;</td><td>&hellip;</td><td>&hellip;</td><td>&hellip;</td><td>&hellip;</td><td>&hellip;</td><td>&hellip;</td><td>&hellip;</td><td>&hellip;</td><td>&hellip;</td><td>&hellip;</td><td>&hellip;</td><td>&hellip;</td><td>&hellip;</td><td>&hellip;</td><td>&hellip;</td><td>&hellip;</td><td>&hellip;</td><td>&hellip;</td><td>&hellip;</td><td>&hellip;</td><td>&hellip;</td><td>&hellip;</td><td>&hellip;</td><td>&hellip;</td><td>&hellip;</td><td>&hellip;</td><td>&hellip;</td><td>&hellip;</td><td>&hellip;</td><td>&hellip;</td><td>&hellip;</td><td>&hellip;</td><td>&hellip;</td><td>&hellip;</td><td>&hellip;</td></tr><tr><td>91</td><td>10</td><td>1</td><td>41</td><td>2</td><td>0</td><td>-1379</td><td>-1521</td><td>-1375</td><td>-722</td><td>-480</td><td>null</td><td>-1644</td><td>-292</td><td>-292</td><td>-287</td><td>-293</td><td>4</td><td>null</td><td>-261</td><td>-2</td><td>-2</td><td>-2</td><td>0</td><td>1</td><td>null</td><td>-2</td><td>1</td><td>1</td><td>1</td><td>1</td><td>2</td><td>null</td><td>2</td><td>12</td><td>8</td><td>12</td><td>&hellip;</td><td>null</td><td>null</td><td>null</td><td>null</td><td>null</td><td>null</td><td>null</td><td>null</td><td>null</td><td>null</td><td>null</td><td>null</td><td>null</td><td>null</td><td>null</td><td>null</td><td>null</td><td>null</td><td>null</td><td>null</td><td>null</td><td>null</td><td>null</td><td>null</td><td>null</td><td>null</td><td>null</td><td>null</td><td>null</td><td>null</td><td>null</td><td>null</td><td>null</td><td>null</td><td>null</td><td>null</td><td>null</td></tr><tr><td>91</td><td>10</td><td>1</td><td>41</td><td>2</td><td>0</td><td>-269</td><td>-269</td><td>-258</td><td>-64</td><td>-25</td><td>null</td><td>-238</td><td>-106</td><td>-106</td><td>-104</td><td>-64</td><td>14</td><td>null</td><td>-76</td><td>2</td><td>2</td><td>2</td><td>2</td><td>2</td><td>null</td><td>2</td><td>2</td><td>2</td><td>2</td><td>2</td><td>2</td><td>null</td><td>2</td><td>1</td><td>1</td><td>1</td><td>&hellip;</td><td>null</td><td>null</td><td>null</td><td>null</td><td>null</td><td>null</td><td>null</td><td>null</td><td>null</td><td>null</td><td>null</td><td>null</td><td>null</td><td>null</td><td>null</td><td>null</td><td>null</td><td>null</td><td>null</td><td>null</td><td>null</td><td>null</td><td>null</td><td>null</td><td>null</td><td>null</td><td>null</td><td>null</td><td>null</td><td>null</td><td>null</td><td>null</td><td>null</td><td>null</td><td>null</td><td>null</td><td>null</td></tr></tbody></table></div>"
      ],
      "text/plain": [
       "shape: (1_526_659, 1_244)\n",
       "┌─────────┬───────┬─────────┬──────┬───┬──────────────┬──────────────┬──────────────┬──────────────┐\n",
       "│ weeknum ┆ month ┆ weekday ┆ week ┆ … ┆ regc_weekday ┆ regc_nodate_ ┆ regc_nodate_ ┆ regc_nodate_ │\n",
       "│ ---     ┆ ---   ┆ ---     ┆ ---  ┆   ┆ _max_process ┆ mean_pmtamou ┆ max_pmtamoun ┆ mode_employe │\n",
       "│ u8      ┆ i8    ┆ i8      ┆ i8   ┆   ┆ ingdate_…    ┆ nt_36A       ┆ t_36A        ┆ rname_16…    │\n",
       "│         ┆       ┆         ┆      ┆   ┆ ---          ┆ ---          ┆ ---          ┆ ---          │\n",
       "│         ┆       ┆         ┆      ┆   ┆ i8           ┆ f32          ┆ f32          ┆ u32          │\n",
       "╞═════════╪═══════╪═════════╪══════╪═══╪══════════════╪══════════════╪══════════════╪══════════════╡\n",
       "│ 0       ┆ 1     ┆ 4       ┆ 1    ┆ … ┆ null         ┆ null         ┆ null         ┆ null         │\n",
       "│ 0       ┆ 1     ┆ 4       ┆ 1    ┆ … ┆ null         ┆ null         ┆ null         ┆ null         │\n",
       "│ …       ┆ …     ┆ …       ┆ …    ┆ … ┆ …            ┆ …            ┆ …            ┆ …            │\n",
       "│ 91      ┆ 10    ┆ 1       ┆ 41   ┆ … ┆ null         ┆ null         ┆ null         ┆ null         │\n",
       "│ 91      ┆ 10    ┆ 1       ┆ 41   ┆ … ┆ null         ┆ null         ┆ null         ┆ null         │\n",
       "└─────────┴───────┴─────────┴──────┴───┴──────────────┴──────────────┴──────────────┴──────────────┘"
      ]
     },
     "execution_count": 8,
     "metadata": {},
     "output_type": "execute_result"
    }
   ],
   "source": [
    "train_total = (\n",
    "    total_base\n",
    "    .join(\n",
    "        total_past_shallow,\n",
    "        on=\"case_id\",\n",
    "        how=\"left\"\n",
    "    )\n",
    "    .join(\n",
    "        total_past_depth,\n",
    "        on=\"case_id\",\n",
    "        how=\"left\"\n",
    "    )\n",
    "    .join(\n",
    "        total_static_base,\n",
    "        on=\"case_id\",\n",
    "        how=\"left\"\n",
    "    )\n",
    "    .join(\n",
    "        total_static_external,\n",
    "        on=\"case_id\",\n",
    "        how=\"left\"\n",
    "    )\n",
    "    .join(\n",
    "        total_person_shallow,\n",
    "        on=\"case_id\",\n",
    "        how=\"left\"\n",
    "    )\n",
    "    .join(\n",
    "        total_person_depth,\n",
    "        on=\"case_id\",\n",
    "        how=\"left\"\n",
    "    )\n",
    "    .join(\n",
    "        total_other_shallow,\n",
    "        on=\"case_id\",\n",
    "        how=\"left\"\n",
    "    )\n",
    "    .join(\n",
    "        total_deposit_shallow,\n",
    "        on=\"case_id\",\n",
    "        how=\"left\"\n",
    "    )\n",
    "    .join(\n",
    "        total_debitcard_shallow,\n",
    "        on=\"case_id\",\n",
    "        how=\"left\"\n",
    "    )\n",
    "    .join(\n",
    "        total_credit_internal_shallow,\n",
    "        on=\"case_id\",\n",
    "        how=\"left\"\n",
    "    )\n",
    "    .join(\n",
    "        total_credit_internal_depth,\n",
    "        on=\"case_id\",\n",
    "        how=\"left\"\n",
    "    )\n",
    "    .join(\n",
    "        total_credit_external_shallow,\n",
    "        on=\"case_id\",\n",
    "        how=\"left\"\n",
    "    )\n",
    "    .join(\n",
    "        total_credit_external_depth,\n",
    "        on=\"case_id\",\n",
    "        how=\"left\"\n",
    "    )\n",
    "    .join(\n",
    "        total_registry_a,\n",
    "        on=\"case_id\",\n",
    "        how=\"left\"\n",
    "    )\n",
    "    .join(\n",
    "        total_registry_b,\n",
    "        on=\"case_id\",\n",
    "        how=\"left\"\n",
    "    )\n",
    "    .join(\n",
    "        total_registry_c,\n",
    "        on=\"case_id\",\n",
    "        how=\"left\"\n",
    "    )\n",
    "    .drop(\"Date\")\n",
    "    .filter(\n",
    "        pl.col(\"case_id\").is_in(train_case_ids)\n",
    "    )\n",
    "    .drop(\"case_id\")\n",
    "    .select(pl.all().shrink_dtype())\n",
    ")\n",
    "train_total"
   ]
  },
  {
   "cell_type": "code",
   "execution_count": 9,
   "id": "39e6f5f6",
   "metadata": {
    "_kg_hide-input": true,
    "execution": {
     "iopub.execute_input": "2024-05-07T18:40:19.497126Z",
     "iopub.status.busy": "2024-05-07T18:40:19.496844Z",
     "iopub.status.idle": "2024-05-07T18:40:19.925607Z",
     "shell.execute_reply": "2024-05-07T18:40:19.924635Z",
     "shell.execute_reply.started": "2024-05-07T18:40:19.497104Z"
    },
    "papermill": {
     "duration": null,
     "end_time": null,
     "exception": null,
     "start_time": null,
     "status": "pending"
    },
    "tags": []
   },
   "outputs": [
    {
     "data": {
      "text/plain": [
       "0"
      ]
     },
     "execution_count": 9,
     "metadata": {},
     "output_type": "execute_result"
    }
   ],
   "source": [
    "del train_files_df\n",
    "del test_files_df\n",
    "del total_base\n",
    "del total_past_shallow\n",
    "del total_past_depth\n",
    "del total_static_base\n",
    "del total_static_external\n",
    "del total_person_depth\n",
    "del total_person_shallow\n",
    "del total_other_shallow\n",
    "del total_deposit_shallow\n",
    "del total_debitcard_shallow\n",
    "del total_credit_external_depth\n",
    "del total_credit_external_shallow\n",
    "del total_credit_internal_depth\n",
    "del total_credit_internal_shallow\n",
    "del total_registry_a\n",
    "del total_registry_b\n",
    "del total_registry_c\n",
    "gc.collect()"
   ]
  },
  {
   "cell_type": "code",
   "execution_count": 10,
   "id": "d5100a64",
   "metadata": {
    "_kg_hide-input": true,
    "execution": {
     "iopub.execute_input": "2024-05-07T18:40:19.927191Z",
     "iopub.status.busy": "2024-05-07T18:40:19.926822Z",
     "iopub.status.idle": "2024-05-07T18:40:19.937412Z",
     "shell.execute_reply": "2024-05-07T18:40:19.936506Z",
     "shell.execute_reply.started": "2024-05-07T18:40:19.927157Z"
    },
    "papermill": {
     "duration": null,
     "end_time": null,
     "exception": null,
     "start_time": null,
     "status": "pending"
    },
    "tags": []
   },
   "outputs": [],
   "source": [
    "class_params = {\n",
    "    \"objective\":\"binary\",\n",
    "    \"boosting_type\": \"gbdt\",\n",
    "    \"metric\":\"auc\",\n",
    "    \"max_depth\": 128,\n",
    "    \"learning_rate\": 0.01,\n",
    "    \"n_estimators\": 10000,\n",
    "    \"colsample_bynode\": 0.8,\n",
    "    \"colsample_bytree\": 0.8,\n",
    "    \"random_state\": 420,\n",
    "    \"reg_alpha\": 0.15,\n",
    "    \"reg_lambda\": 15,\n",
    "    \"extra_trees\": True,\n",
    "    \"num_leaves\": 256,\n",
    "    \"device\": \"gpu\",\n",
    "    \"importance_type\": \"gain\",\n",
    "    \"verbose\": -1\n",
    "}\n",
    "\n",
    "xgb_params = {\n",
    "    \"objective\": \"binary:logistic\",\n",
    "    \"n_estimators\": 10000,\n",
    "    \"eval_metric\": \"auc\",\n",
    "    \"seed\": 420,\n",
    "    \"booster\": \"gbtree\",\n",
    "    \"device\": \"cuda\",\n",
    "    \"eta\": 0.01,\n",
    "    \"gamma\": 5,\n",
    "    \"max_depth\": 128,\n",
    "    \"colsample_bytree\": 0.8,\n",
    "    \"colsample_bynode\": 0.8,\n",
    "    \"lambda\": 10,\n",
    "    \"alpha\": 2,\n",
    "    \"updater\": \"grow_gpu_hist\",\n",
    "    \"grow_policy\": \"depthwise\",\n",
    "    \"max_leaves\": 256,\n",
    "    \"num_parallel_tree\": 1,    \n",
    "    \"sample_type\": \"uniform\",\n",
    "    \"normalize_type\": \"tree\",\n",
    "    \"rate_drop\": 0.15,\n",
    "    \"skip_drop\": 0.9,\n",
    "    \"enable_categorical\": True\n",
    "}\n",
    "\n",
    "cat_params = {\n",
    "    \"eval_metric\": \"AUC\",\n",
    "    \"task_type\": \"GPU\",\n",
    "    \"iterations\": 10000,\n",
    "    \"learning_rate\": 0.01,\n",
    "    \"bootstrap_type\": \"Poisson\",\n",
    "    \"random_seed\": 420,\n",
    "    \"l2_leaf_reg\": 15,\n",
    "    \"subsample\": 0.8,\n",
    "    \"depth\": 32,\n",
    "    \"max_leaves\": 64,\n",
    "    \"grow_policy\": \"Lossguide\",\n",
    "    \"od_type\": \"Iter\",\n",
    "    \"od_wait\": 1000,\n",
    "    \"verbose\": 10\n",
    "}"
   ]
  },
  {
   "cell_type": "code",
   "execution_count": 11,
   "id": "3699f194",
   "metadata": {
    "_kg_hide-input": true,
    "execution": {
     "iopub.execute_input": "2024-05-07T18:40:19.939045Z",
     "iopub.status.busy": "2024-05-07T18:40:19.938654Z",
     "iopub.status.idle": "2024-05-07T18:40:19.951806Z",
     "shell.execute_reply": "2024-05-07T18:40:19.950996Z",
     "shell.execute_reply.started": "2024-05-07T18:40:19.939015Z"
    },
    "jupyter": {
     "source_hidden": true
    },
    "papermill": {
     "duration": null,
     "end_time": null,
     "exception": null,
     "start_time": null,
     "status": "pending"
    },
    "tags": []
   },
   "outputs": [],
   "source": [
    "week_num = train_total[\"weeknum\"]\n",
    "train_total = train_total.drop(\"weeknum\")\n",
    "gc.collect()\n",
    "\n",
    "def filter_ind(df:pl.DataFrame,indexes:np.array):\n",
    "    return (\n",
    "        df\n",
    "        .with_row_index()\n",
    "        .filter(\n",
    "            pl.col(\"index\").is_in(indexes)\n",
    "        )\n",
    "        .drop(\"index\")\n",
    "    )"
   ]
  },
  {
   "cell_type": "code",
   "execution_count": 12,
   "id": "fba09335",
   "metadata": {},
   "outputs": [
    {
     "data": {
      "text/plain": [
       "0"
      ]
     },
     "execution_count": 12,
     "metadata": {},
     "output_type": "execute_result"
    }
   ],
   "source": [
    "gc.collect()"
   ]
  },
  {
   "cell_type": "code",
   "execution_count": 13,
   "id": "b337e98c",
   "metadata": {
    "execution": {
     "iopub.execute_input": "2024-05-07T18:40:19.953182Z",
     "iopub.status.busy": "2024-05-07T18:40:19.952926Z"
    },
    "papermill": {
     "duration": null,
     "end_time": null,
     "exception": null,
     "start_time": null,
     "status": "pending"
    },
    "tags": []
   },
   "outputs": [
    {
     "name": "stdout",
     "output_type": "stream",
     "text": [
      "Training start for LGBClassifier: 1\n",
      "Training until validation scores don't improve for 1000 rounds\n",
      "[10]\tvalid_0's auc: 0.677015\n",
      "[20]\tvalid_0's auc: 0.663521\n",
      "[30]\tvalid_0's auc: 0.664297\n",
      "[40]\tvalid_0's auc: 0.669632\n",
      "[50]\tvalid_0's auc: 0.674551\n",
      "[60]\tvalid_0's auc: 0.67826\n",
      "[70]\tvalid_0's auc: 0.680364\n",
      "[80]\tvalid_0's auc: 0.682004\n",
      "[90]\tvalid_0's auc: 0.681495\n",
      "[100]\tvalid_0's auc: 0.68193\n",
      "[110]\tvalid_0's auc: 0.683248\n",
      "[120]\tvalid_0's auc: 0.686015\n",
      "[130]\tvalid_0's auc: 0.686755\n",
      "[140]\tvalid_0's auc: 0.689198\n",
      "[150]\tvalid_0's auc: 0.691364\n",
      "[160]\tvalid_0's auc: 0.69049\n",
      "[170]\tvalid_0's auc: 0.690259\n",
      "[180]\tvalid_0's auc: 0.689915\n",
      "[190]\tvalid_0's auc: 0.690022\n",
      "[200]\tvalid_0's auc: 0.691171\n",
      "[210]\tvalid_0's auc: 0.692005\n",
      "[220]\tvalid_0's auc: 0.691143\n",
      "[230]\tvalid_0's auc: 0.691185\n",
      "[240]\tvalid_0's auc: 0.691595\n",
      "[250]\tvalid_0's auc: 0.692278\n",
      "[260]\tvalid_0's auc: 0.692344\n",
      "[270]\tvalid_0's auc: 0.693816\n",
      "[280]\tvalid_0's auc: 0.693688\n",
      "[290]\tvalid_0's auc: 0.694066\n",
      "[300]\tvalid_0's auc: 0.693896\n",
      "[310]\tvalid_0's auc: 0.69448\n",
      "[320]\tvalid_0's auc: 0.695032\n",
      "[330]\tvalid_0's auc: 0.695063\n",
      "[340]\tvalid_0's auc: 0.694141\n",
      "[350]\tvalid_0's auc: 0.694745\n",
      "[360]\tvalid_0's auc: 0.694243\n",
      "[370]\tvalid_0's auc: 0.693109\n",
      "[380]\tvalid_0's auc: 0.691782\n",
      "[390]\tvalid_0's auc: 0.691904\n",
      "[400]\tvalid_0's auc: 0.690667\n",
      "[410]\tvalid_0's auc: 0.690263\n",
      "[420]\tvalid_0's auc: 0.689624\n",
      "[430]\tvalid_0's auc: 0.688997\n",
      "[440]\tvalid_0's auc: 0.688456\n",
      "[450]\tvalid_0's auc: 0.688653\n"
     ]
    }
   ],
   "source": [
    "num_splits = 5\n",
    "cv = StratifiedGroupKFold(n_splits=num_splits,shuffle=False)\n",
    "lgb_clf_models = [\n",
    "    lgb.LGBMClassifier(**class_params) for _ in range(num_splits)\n",
    "]\n",
    "xgb_clf_models = [\n",
    "    xgb.XGBClassifier(**xgb_params) for _ in range(num_splits)\n",
    "]\n",
    "cat_models = [\n",
    "    cgb.CatBoostClassifier(**cat_params) for _ in range(num_splits)\n",
    "]\n",
    "for i,(train_ind,valid_ind) in enumerate(\n",
    "    cv.split(train_total.drop(\"target\"),\n",
    "    train_total.select(\"target\"),\n",
    "    groups=week_num)\n",
    "    ):\n",
    "    print(f\"Training start for LGBClassifier: {i+1}\")\n",
    "    lgb_clf_models[i].fit(\n",
    "        (\n",
    "            train_total\n",
    "            .drop(\"target\")\n",
    "            .pipe(filter_ind,train_ind)\n",
    "        ),\n",
    "        (\n",
    "            train_total\n",
    "            .select(\"target\")\n",
    "            .pipe(filter_ind,train_ind)\n",
    "        ),\n",
    "        eval_set=[(\n",
    "            (\n",
    "                train_total\n",
    "                .pipe(filter_ind,valid_ind)\n",
    "            ),\n",
    "            (\n",
    "                train_total\n",
    "                .select(\"target\")\n",
    "                .pipe(filter_ind,valid_ind)\n",
    "            )\n",
    "        )],\n",
    "        callbacks=[lgb.log_evaluation(10),lgb.early_stopping(1000)]\n",
    "    )\n",
    "    print(gc.collect())\n",
    "    print(f\"Training start for XGBClassifier: {i+1}\")\n",
    "    early_stop = xgb.callback.EarlyStopping(rounds=1000)\n",
    "    log_eval = xgb.callback.EvaluationMonitor(period=10)\n",
    "    xgb_clf_models[i].fit(\n",
    "        (\n",
    "            train_total\n",
    "            .drop(\"target\")\n",
    "            .pipe(filter_ind,train_ind)\n",
    "        ),\n",
    "        (\n",
    "            train_total\n",
    "            .select(\"target\")\n",
    "            .pipe(filter_ind,train_ind)\n",
    "        ),\n",
    "        eval_set=[(\n",
    "            (\n",
    "                train_total\n",
    "                .drop(\"target\")\n",
    "                .pipe(filter_ind,valid_ind)\n",
    "            ),\n",
    "            (\n",
    "                train_total\n",
    "                .select(\"target\")\n",
    "                .pipe(filter_ind,valid_ind)\n",
    "            )\n",
    "        )],\n",
    "        callbacks=[early_stop,log_eval],\n",
    "        verbose=False\n",
    "    )\n",
    "    print(gc.collect())\n",
    "    print(f\"Training start for CatBoostClassifier: {i+1}\")\n",
    "    cat_models[i].fit(\n",
    "        (\n",
    "            train_total\n",
    "            .drop(\"target\")\n",
    "            .pipe(filter_ind,train_ind)\n",
    "            .to_pandas()\n",
    "        ),\n",
    "        (\n",
    "            train_total\n",
    "            .select(\"target\")\n",
    "            .pipe(filter_ind,train_ind)\n",
    "            .to_pandas()\n",
    "        ),\n",
    "        eval_set=[(\n",
    "            (\n",
    "                train_total\n",
    "                .drop(\"target\")\n",
    "                .pipe(filter_ind,valid_ind)\n",
    "                .to_pandas()\n",
    "            ),\n",
    "            (\n",
    "                train_total\n",
    "                .select(\"target\")\n",
    "                .pipe(filter_ind,valid_ind)\n",
    "                .to_pandas()\n",
    "            )\n",
    "        )]\n",
    "    )\n",
    "    print(gc.collect())"
   ]
  },
  {
   "cell_type": "code",
   "execution_count": null,
   "id": "a34baa79",
   "metadata": {
    "papermill": {
     "duration": null,
     "end_time": null,
     "exception": null,
     "start_time": null,
     "status": "pending"
    },
    "tags": []
   },
   "outputs": [],
   "source": [
    "# class Model:\n",
    "\n",
    "#     def __init__(\n",
    "#             self,\n",
    "#             lgb_clf_models:list,\n",
    "#             xgb_clf_models:list,\n",
    "#             cat_models:list\n",
    "#             ) -> None:\n",
    "#         self.lgb_clf_models = lgb_clf_models\n",
    "#         self.xgb_clf_models = xgb_clf_models\n",
    "#         self.cat_models =  cat_models\n",
    "    \n",
    "#     def predict_proba(self,X):\n",
    "#         self.lgb_clf_pred = [_.predict_proba(\n",
    "#             X\n",
    "#             # .select(lgb_cols)\n",
    "#             )[:,1] for _ in self.lgb_clf_models]\n",
    "#         self.xgb_clf_pred = [_.predict_proba(\n",
    "#             X\n",
    "#             # .select(xgb_cols)\n",
    "#             )[:,1] for _ in self.xgb_clf_models]\n",
    "#         self.cat_pred = [_.predict_proba(\n",
    "#             X\n",
    "#             # .select(cat_cols)\n",
    "#             .to_pandas()\n",
    "#             )[:,1] for _ in self.cat_models]\n",
    "\n",
    "#         return np.mean(\n",
    "#             self.lgb_clf_pred+\\\n",
    "#             self.xgb_clf_pred+\\\n",
    "#             self.cat_pred,\n",
    "#             axis=0\n",
    "#             )"
   ]
  },
  {
   "cell_type": "code",
   "execution_count": null,
   "id": "b16ae99f",
   "metadata": {
    "papermill": {
     "duration": null,
     "end_time": null,
     "exception": null,
     "start_time": null,
     "status": "pending"
    },
    "tags": []
   },
   "outputs": [],
   "source": [
    "# model = Model(\n",
    "#     lgb_clf_models,\n",
    "#     xgb_clf_models,\n",
    "#     cat_models\n",
    "#     )"
   ]
  },
  {
   "cell_type": "code",
   "execution_count": null,
   "id": "f98ae519",
   "metadata": {},
   "outputs": [],
   "source": [
    "lgb_imp = pd.DataFrame(index=train_total.drop(\"target\").columns,columns=[\"gain_1\",\"gain_2\",\"gain_3\",\"gain_4\",\"gain_5\"])\n",
    "for _ in range(5):\n",
    "    for imp,col_name in sorted(zip(lgb_clf_models[_].feature_importances_,train_total.drop(\"target\").columns)):\n",
    "        lgb_imp.loc[col_name,f\"gain_{_+1}\"] = imp\n",
    "lgb_imp.reset_index(inplace=True)\n",
    "lgb_imp.to_parquet(\"/home/sohail/Downloads/lgb_imp_mean.parquet\")\n",
    "\n",
    "lgb_imp = pd.DataFrame(index=train_total.drop(\"target\").columns,columns=[\"gain_1\",\"gain_2\",\"gain_3\",\"gain_4\",\"gain_5\"])\n",
    "for _ in range(5):\n",
    "    for imp,col_name in sorted(zip(xgb_clf_models[_].feature_importances_,train_total.drop(\"target\").columns)):\n",
    "        lgb_imp.loc[col_name,f\"gain_{_+1}\"] = imp\n",
    "lgb_imp.reset_index(inplace=True)\n",
    "lgb_imp.to_parquet(\"/home/sohail/Downloads/xgb_imp_mean.parquet\")\n",
    "\n",
    "lgb_imp = pd.DataFrame(index=train_total.drop(\"target\").columns,columns=[\"gain_1\",\"gain_2\",\"gain_3\",\"gain_4\",\"gain_5\"])\n",
    "for _ in range(5):\n",
    "    for imp,col_name in sorted(zip(cat_models[_].feature_importances_,train_total.drop(\"target\").columns)):\n",
    "        lgb_imp.loc[col_name,f\"gain_{_+1}\"] = imp\n",
    "lgb_imp.reset_index(inplace=True)\n",
    "lgb_imp.to_parquet(\"/home/sohail/Downloads/cat_imp_mean.parquet\")"
   ]
  },
  {
   "cell_type": "code",
   "execution_count": null,
   "id": "808da189",
   "metadata": {},
   "outputs": [],
   "source": [
    "# model.lgb_clf_pred"
   ]
  },
  {
   "cell_type": "code",
   "execution_count": null,
   "id": "61e6ad06",
   "metadata": {
    "_kg_hide-input": true,
    "jupyter": {
     "source_hidden": true
    },
    "papermill": {
     "duration": null,
     "end_time": null,
     "exception": null,
     "start_time": null,
     "status": "pending"
    },
    "tags": []
   },
   "outputs": [],
   "source": [
    "# gini_stability(valid_df,np.mean(model.lgb_clf_pred,axis=0))"
   ]
  },
  {
   "cell_type": "code",
   "execution_count": null,
   "id": "4e4f6ce8",
   "metadata": {},
   "outputs": [],
   "source": [
    "# model.xgb_clf_pred"
   ]
  },
  {
   "cell_type": "code",
   "execution_count": null,
   "id": "3cb4001d",
   "metadata": {},
   "outputs": [],
   "source": [
    "# gini_stability(valid_df,np.mean(model.xgb_clf_pred,axis=0))"
   ]
  },
  {
   "cell_type": "code",
   "execution_count": null,
   "id": "5f12cefd",
   "metadata": {},
   "outputs": [],
   "source": [
    "# model.cat_pred"
   ]
  },
  {
   "cell_type": "code",
   "execution_count": null,
   "id": "302dc2bb",
   "metadata": {},
   "outputs": [],
   "source": [
    "# gini_stability(valid_df,np.mean(model.cat_pred,axis=0))"
   ]
  }
 ],
 "metadata": {
  "kaggle": {
   "accelerator": "gpu",
   "dataSources": [
    {
     "databundleVersionId": 7921029,
     "sourceId": 50160,
     "sourceType": "competition"
    },
    {
     "datasetId": 4922260,
     "sourceId": 8287202,
     "sourceType": "datasetVersion"
    },
    {
     "datasetId": 4960542,
     "sourceId": 8385855,
     "sourceType": "datasetVersion"
    }
   ],
   "dockerImageVersionId": 30699,
   "isGpuEnabled": true,
   "isInternetEnabled": false,
   "language": "python",
   "sourceType": "notebook"
  },
  "kernelspec": {
   "display_name": "Python 3",
   "language": "python",
   "name": "python3"
  },
  "language_info": {
   "codemirror_mode": {
    "name": "ipython",
    "version": 3
   },
   "file_extension": ".py",
   "mimetype": "text/x-python",
   "name": "python",
   "nbconvert_exporter": "python",
   "pygments_lexer": "ipython3",
   "version": "3.11.7"
  },
  "papermill": {
   "default_parameters": {},
   "duration": null,
   "end_time": null,
   "environment_variables": {},
   "exception": null,
   "input_path": "__notebook__.ipynb",
   "output_path": "__notebook__.ipynb",
   "parameters": {},
   "start_time": "2024-05-12T16:28:01.448053",
   "version": "2.5.0"
  }
 },
 "nbformat": 4,
 "nbformat_minor": 5
}
