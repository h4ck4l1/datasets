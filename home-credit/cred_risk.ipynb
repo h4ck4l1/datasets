{
 "cells": [
  {
   "cell_type": "code",
   "execution_count": 1,
   "metadata": {},
   "outputs": [
    {
     "name": "stdout",
     "output_type": "stream",
     "text": [
      "بِسْمِ اللهِ الرَّحْمٰنِ الرَّحِيْمِ\n"
     ]
    }
   ],
   "source": [
    "print(\"بِسْمِ اللهِ الرَّحْمٰنِ الرَّحِيْمِ\")"
   ]
  },
  {
   "cell_type": "code",
   "execution_count": 2,
   "metadata": {},
   "outputs": [
    {
     "name": "stdout",
     "output_type": "stream",
     "text": [
      "Exception reporting mode: Minimal\n"
     ]
    },
    {
     "data": {
      "text/plain": [
       "12"
      ]
     },
     "execution_count": 2,
     "metadata": {},
     "output_type": "execute_result"
    }
   ],
   "source": [
    "%xmode Minimal\n",
    "import os,sys,warnings,time,re,gc\n",
    "from IPython.display import clear_output\n",
    "warnings.filterwarnings(\"ignore\")\n",
    "from typing import Literal,Optional\n",
    "from pathlib import Path\n",
    "import numpy as np\n",
    "import polars as pl\n",
    "import polars.selectors as cs\n",
    "import pandas as pd\n",
    "import plotly.express as px\n",
    "import plotly.graph_objects as go\n",
    "import plotly.io as pio\n",
    "pio.templates.default = \"plotly_dark\"\n",
    "from plotly.subplots import make_subplots\n",
    "import hvplot as hv\n",
    "os.cpu_count()"
   ]
  },
  {
   "cell_type": "code",
   "execution_count": 3,
   "metadata": {},
   "outputs": [
    {
     "data": {
      "application/javascript": "(function(root) {\n  function now() {\n    return new Date();\n  }\n\n  var force = true;\n  var py_version = '3.3.4'.replace('rc', '-rc.').replace('.dev', '-dev.');\n  var reloading = false;\n  var Bokeh = root.Bokeh;\n\n  if (typeof (root._bokeh_timeout) === \"undefined\" || force) {\n    root._bokeh_timeout = Date.now() + 5000;\n    root._bokeh_failed_load = false;\n  }\n\n  function run_callbacks() {\n    try {\n      root._bokeh_onload_callbacks.forEach(function(callback) {\n        if (callback != null)\n          callback();\n      });\n    } finally {\n      delete root._bokeh_onload_callbacks;\n    }\n    console.debug(\"Bokeh: all callbacks have finished\");\n  }\n\n  function load_libs(css_urls, js_urls, js_modules, js_exports, callback) {\n    if (css_urls == null) css_urls = [];\n    if (js_urls == null) js_urls = [];\n    if (js_modules == null) js_modules = [];\n    if (js_exports == null) js_exports = {};\n\n    root._bokeh_onload_callbacks.push(callback);\n\n    if (root._bokeh_is_loading > 0) {\n      console.debug(\"Bokeh: BokehJS is being loaded, scheduling callback at\", now());\n      return null;\n    }\n    if (js_urls.length === 0 && js_modules.length === 0 && Object.keys(js_exports).length === 0) {\n      run_callbacks();\n      return null;\n    }\n    if (!reloading) {\n      console.debug(\"Bokeh: BokehJS not loaded, scheduling load and callback at\", now());\n    }\n\n    function on_load() {\n      root._bokeh_is_loading--;\n      if (root._bokeh_is_loading === 0) {\n        console.debug(\"Bokeh: all BokehJS libraries/stylesheets loaded\");\n        run_callbacks()\n      }\n    }\n    window._bokeh_on_load = on_load\n\n    function on_error() {\n      console.error(\"failed to load \" + url);\n    }\n\n    var skip = [];\n    if (window.requirejs) {\n      window.requirejs.config({'packages': {}, 'paths': {'plotly': 'https://cdn.plot.ly/plotly-2.25.2.min', 'jspanel': 'https://cdn.jsdelivr.net/npm/jspanel4@4.12.0/dist/jspanel', 'jspanel-modal': 'https://cdn.jsdelivr.net/npm/jspanel4@4.12.0/dist/extensions/modal/jspanel.modal', 'jspanel-tooltip': 'https://cdn.jsdelivr.net/npm/jspanel4@4.12.0/dist/extensions/tooltip/jspanel.tooltip', 'jspanel-hint': 'https://cdn.jsdelivr.net/npm/jspanel4@4.12.0/dist/extensions/hint/jspanel.hint', 'jspanel-layout': 'https://cdn.jsdelivr.net/npm/jspanel4@4.12.0/dist/extensions/layout/jspanel.layout', 'jspanel-contextmenu': 'https://cdn.jsdelivr.net/npm/jspanel4@4.12.0/dist/extensions/contextmenu/jspanel.contextmenu', 'jspanel-dock': 'https://cdn.jsdelivr.net/npm/jspanel4@4.12.0/dist/extensions/dock/jspanel.dock', 'gridstack': 'https://cdn.jsdelivr.net/npm/gridstack@7.2.3/dist/gridstack-all', 'notyf': 'https://cdn.jsdelivr.net/npm/notyf@3/notyf.min'}, 'shim': {'jspanel': {'exports': 'jsPanel'}, 'gridstack': {'exports': 'GridStack'}}});\n      require([\"plotly\"], function(Plotly) {\n\twindow.Plotly = Plotly\n\ton_load()\n      })\n      require([\"jspanel\"], function(jsPanel) {\n\twindow.jsPanel = jsPanel\n\ton_load()\n      })\n      require([\"jspanel-modal\"], function() {\n\ton_load()\n      })\n      require([\"jspanel-tooltip\"], function() {\n\ton_load()\n      })\n      require([\"jspanel-hint\"], function() {\n\ton_load()\n      })\n      require([\"jspanel-layout\"], function() {\n\ton_load()\n      })\n      require([\"jspanel-contextmenu\"], function() {\n\ton_load()\n      })\n      require([\"jspanel-dock\"], function() {\n\ton_load()\n      })\n      require([\"gridstack\"], function(GridStack) {\n\twindow.GridStack = GridStack\n\ton_load()\n      })\n      require([\"notyf\"], function() {\n\ton_load()\n      })\n      root._bokeh_is_loading = css_urls.length + 10;\n    } else {\n      root._bokeh_is_loading = css_urls.length + js_urls.length + js_modules.length + Object.keys(js_exports).length;\n    }\n\n    var existing_stylesheets = []\n    var links = document.getElementsByTagName('link')\n    for (var i = 0; i < links.length; i++) {\n      var link = links[i]\n      if (link.href != null) {\n\texisting_stylesheets.push(link.href)\n      }\n    }\n    for (var i = 0; i < css_urls.length; i++) {\n      var url = css_urls[i];\n      if (existing_stylesheets.indexOf(url) !== -1) {\n\ton_load()\n\tcontinue;\n      }\n      const element = document.createElement(\"link\");\n      element.onload = on_load;\n      element.onerror = on_error;\n      element.rel = \"stylesheet\";\n      element.type = \"text/css\";\n      element.href = url;\n      console.debug(\"Bokeh: injecting link tag for BokehJS stylesheet: \", url);\n      document.body.appendChild(element);\n    }    if (((window['Plotly'] !== undefined) && (!(window['Plotly'] instanceof HTMLElement))) || window.requirejs) {\n      var urls = ['https://cdn.holoviz.org/panel/1.3.8/dist/bundled/plotlyplot/plotly-2.25.2.min.js'];\n      for (var i = 0; i < urls.length; i++) {\n        skip.push(urls[i])\n      }\n    }    if (((window['jsPanel'] !== undefined) && (!(window['jsPanel'] instanceof HTMLElement))) || window.requirejs) {\n      var urls = ['https://cdn.holoviz.org/panel/1.3.8/dist/bundled/floatpanel/jspanel4@4.12.0/dist/jspanel.js', 'https://cdn.holoviz.org/panel/1.3.8/dist/bundled/floatpanel/jspanel4@4.12.0/dist/extensions/modal/jspanel.modal.js', 'https://cdn.holoviz.org/panel/1.3.8/dist/bundled/floatpanel/jspanel4@4.12.0/dist/extensions/tooltip/jspanel.tooltip.js', 'https://cdn.holoviz.org/panel/1.3.8/dist/bundled/floatpanel/jspanel4@4.12.0/dist/extensions/hint/jspanel.hint.js', 'https://cdn.holoviz.org/panel/1.3.8/dist/bundled/floatpanel/jspanel4@4.12.0/dist/extensions/layout/jspanel.layout.js', 'https://cdn.holoviz.org/panel/1.3.8/dist/bundled/floatpanel/jspanel4@4.12.0/dist/extensions/contextmenu/jspanel.contextmenu.js', 'https://cdn.holoviz.org/panel/1.3.8/dist/bundled/floatpanel/jspanel4@4.12.0/dist/extensions/dock/jspanel.dock.js'];\n      for (var i = 0; i < urls.length; i++) {\n        skip.push(urls[i])\n      }\n    }    if (((window['GridStack'] !== undefined) && (!(window['GridStack'] instanceof HTMLElement))) || window.requirejs) {\n      var urls = ['https://cdn.holoviz.org/panel/1.3.8/dist/bundled/gridstack/gridstack@7.2.3/dist/gridstack-all.js'];\n      for (var i = 0; i < urls.length; i++) {\n        skip.push(urls[i])\n      }\n    }    if (((window['Notyf'] !== undefined) && (!(window['Notyf'] instanceof HTMLElement))) || window.requirejs) {\n      var urls = ['https://cdn.holoviz.org/panel/1.3.8/dist/bundled/notificationarea/notyf@3/notyf.min.js'];\n      for (var i = 0; i < urls.length; i++) {\n        skip.push(urls[i])\n      }\n    }    var existing_scripts = []\n    var scripts = document.getElementsByTagName('script')\n    for (var i = 0; i < scripts.length; i++) {\n      var script = scripts[i]\n      if (script.src != null) {\n\texisting_scripts.push(script.src)\n      }\n    }\n    for (var i = 0; i < js_urls.length; i++) {\n      var url = js_urls[i];\n      if (skip.indexOf(url) !== -1 || existing_scripts.indexOf(url) !== -1) {\n\tif (!window.requirejs) {\n\t  on_load();\n\t}\n\tcontinue;\n      }\n      var element = document.createElement('script');\n      element.onload = on_load;\n      element.onerror = on_error;\n      element.async = false;\n      element.src = url;\n      console.debug(\"Bokeh: injecting script tag for BokehJS library: \", url);\n      document.head.appendChild(element);\n    }\n    for (var i = 0; i < js_modules.length; i++) {\n      var url = js_modules[i];\n      if (skip.indexOf(url) !== -1 || existing_scripts.indexOf(url) !== -1) {\n\tif (!window.requirejs) {\n\t  on_load();\n\t}\n\tcontinue;\n      }\n      var element = document.createElement('script');\n      element.onload = on_load;\n      element.onerror = on_error;\n      element.async = false;\n      element.src = url;\n      element.type = \"module\";\n      console.debug(\"Bokeh: injecting script tag for BokehJS library: \", url);\n      document.head.appendChild(element);\n    }\n    for (const name in js_exports) {\n      var url = js_exports[name];\n      if (skip.indexOf(url) >= 0 || root[name] != null) {\n\tif (!window.requirejs) {\n\t  on_load();\n\t}\n\tcontinue;\n      }\n      var element = document.createElement('script');\n      element.onerror = on_error;\n      element.async = false;\n      element.type = \"module\";\n      console.debug(\"Bokeh: injecting script tag for BokehJS library: \", url);\n      element.textContent = `\n      import ${name} from \"${url}\"\n      window.${name} = ${name}\n      window._bokeh_on_load()\n      `\n      document.head.appendChild(element);\n    }\n    if (!js_urls.length && !js_modules.length) {\n      on_load()\n    }\n  };\n\n  function inject_raw_css(css) {\n    const element = document.createElement(\"style\");\n    element.appendChild(document.createTextNode(css));\n    document.body.appendChild(element);\n  }\n\n  var js_urls = [\"https://cdn.holoviz.org/panel/1.3.8/dist/bundled/jquery/jquery.slim.min.js\", \"https://cdn.holoviz.org/panel/1.3.8/dist/bundled/plotlyplot/plotly-2.25.2.min.js\", \"https://cdn.bokeh.org/bokeh/release/bokeh-3.3.4.min.js\", \"https://cdn.bokeh.org/bokeh/release/bokeh-gl-3.3.4.min.js\", \"https://cdn.bokeh.org/bokeh/release/bokeh-widgets-3.3.4.min.js\", \"https://cdn.bokeh.org/bokeh/release/bokeh-tables-3.3.4.min.js\", \"https://cdn.holoviz.org/panel/1.3.8/dist/panel.min.js\"];\n  var js_modules = [];\n  var js_exports = {};\n  var css_urls = [];\n  var inline_js = [    function(Bokeh) {\n      Bokeh.set_log_level(\"info\");\n    },\nfunction(Bokeh) {} // ensure no trailing comma for IE\n  ];\n\n  function run_inline_js() {\n    if ((root.Bokeh !== undefined) || (force === true)) {\n      for (var i = 0; i < inline_js.length; i++) {\n\ttry {\n          inline_js[i].call(root, root.Bokeh);\n\t} catch(e) {\n\t  if (!reloading) {\n\t    throw e;\n\t  }\n\t}\n      }\n      // Cache old bokeh versions\n      if (Bokeh != undefined && !reloading) {\n\tvar NewBokeh = root.Bokeh;\n\tif (Bokeh.versions === undefined) {\n\t  Bokeh.versions = new Map();\n\t}\n\tif (NewBokeh.version !== Bokeh.version) {\n\t  Bokeh.versions.set(NewBokeh.version, NewBokeh)\n\t}\n\troot.Bokeh = Bokeh;\n      }} else if (Date.now() < root._bokeh_timeout) {\n      setTimeout(run_inline_js, 100);\n    } else if (!root._bokeh_failed_load) {\n      console.log(\"Bokeh: BokehJS failed to load within specified timeout.\");\n      root._bokeh_failed_load = true;\n    }\n    root._bokeh_is_initializing = false\n  }\n\n  function load_or_wait() {\n    // Implement a backoff loop that tries to ensure we do not load multiple\n    // versions of Bokeh and its dependencies at the same time.\n    // In recent versions we use the root._bokeh_is_initializing flag\n    // to determine whether there is an ongoing attempt to initialize\n    // bokeh, however for backward compatibility we also try to ensure\n    // that we do not start loading a newer (Panel>=1.0 and Bokeh>3) version\n    // before older versions are fully initialized.\n    if (root._bokeh_is_initializing && Date.now() > root._bokeh_timeout) {\n      root._bokeh_is_initializing = false;\n      root._bokeh_onload_callbacks = undefined;\n      console.log(\"Bokeh: BokehJS was loaded multiple times but one version failed to initialize.\");\n      load_or_wait();\n    } else if (root._bokeh_is_initializing || (typeof root._bokeh_is_initializing === \"undefined\" && root._bokeh_onload_callbacks !== undefined)) {\n      setTimeout(load_or_wait, 100);\n    } else {\n      root._bokeh_is_initializing = true\n      root._bokeh_onload_callbacks = []\n      var bokeh_loaded = Bokeh != null && (Bokeh.version === py_version || (Bokeh.versions !== undefined && Bokeh.versions.has(py_version)));\n      if (!reloading && !bokeh_loaded) {\n\troot.Bokeh = undefined;\n      }\n      load_libs(css_urls, js_urls, js_modules, js_exports, function() {\n\tconsole.debug(\"Bokeh: BokehJS plotting callback run at\", now());\n\trun_inline_js();\n      });\n    }\n  }\n  // Give older versions of the autoload script a head-start to ensure\n  // they initialize before we start loading newer version.\n  setTimeout(load_or_wait, 100)\n}(window));",
      "application/vnd.holoviews_load.v0+json": ""
     },
     "metadata": {},
     "output_type": "display_data"
    },
    {
     "data": {
      "application/javascript": "\nif ((window.PyViz === undefined) || (window.PyViz instanceof HTMLElement)) {\n  window.PyViz = {comms: {}, comm_status:{}, kernels:{}, receivers: {}, plot_index: []}\n}\n\n\n    function JupyterCommManager() {\n    }\n\n    JupyterCommManager.prototype.register_target = function(plot_id, comm_id, msg_handler) {\n      if (window.comm_manager || ((window.Jupyter !== undefined) && (Jupyter.notebook.kernel != null))) {\n        var comm_manager = window.comm_manager || Jupyter.notebook.kernel.comm_manager;\n        comm_manager.register_target(comm_id, function(comm) {\n          comm.on_msg(msg_handler);\n        });\n      } else if ((plot_id in window.PyViz.kernels) && (window.PyViz.kernels[plot_id])) {\n        window.PyViz.kernels[plot_id].registerCommTarget(comm_id, function(comm) {\n          comm.onMsg = msg_handler;\n        });\n      } else if (typeof google != 'undefined' && google.colab.kernel != null) {\n        google.colab.kernel.comms.registerTarget(comm_id, (comm) => {\n          var messages = comm.messages[Symbol.asyncIterator]();\n          function processIteratorResult(result) {\n            var message = result.value;\n            console.log(message)\n            var content = {data: message.data, comm_id};\n            var buffers = []\n            for (var buffer of message.buffers || []) {\n              buffers.push(new DataView(buffer))\n            }\n            var metadata = message.metadata || {};\n            var msg = {content, buffers, metadata}\n            msg_handler(msg);\n            return messages.next().then(processIteratorResult);\n          }\n          return messages.next().then(processIteratorResult);\n        })\n      }\n    }\n\n    JupyterCommManager.prototype.get_client_comm = function(plot_id, comm_id, msg_handler) {\n      if (comm_id in window.PyViz.comms) {\n        return window.PyViz.comms[comm_id];\n      } else if (window.comm_manager || ((window.Jupyter !== undefined) && (Jupyter.notebook.kernel != null))) {\n        var comm_manager = window.comm_manager || Jupyter.notebook.kernel.comm_manager;\n        var comm = comm_manager.new_comm(comm_id, {}, {}, {}, comm_id);\n        if (msg_handler) {\n          comm.on_msg(msg_handler);\n        }\n      } else if ((plot_id in window.PyViz.kernels) && (window.PyViz.kernels[plot_id])) {\n        var comm = window.PyViz.kernels[plot_id].connectToComm(comm_id);\n        comm.open();\n        if (msg_handler) {\n          comm.onMsg = msg_handler;\n        }\n      } else if (typeof google != 'undefined' && google.colab.kernel != null) {\n        var comm_promise = google.colab.kernel.comms.open(comm_id)\n        comm_promise.then((comm) => {\n          window.PyViz.comms[comm_id] = comm;\n          if (msg_handler) {\n            var messages = comm.messages[Symbol.asyncIterator]();\n            function processIteratorResult(result) {\n              var message = result.value;\n              var content = {data: message.data};\n              var metadata = message.metadata || {comm_id};\n              var msg = {content, metadata}\n              msg_handler(msg);\n              return messages.next().then(processIteratorResult);\n            }\n            return messages.next().then(processIteratorResult);\n          }\n        }) \n        var sendClosure = (data, metadata, buffers, disposeOnDone) => {\n          return comm_promise.then((comm) => {\n            comm.send(data, metadata, buffers, disposeOnDone);\n          });\n        };\n        var comm = {\n          send: sendClosure\n        };\n      }\n      window.PyViz.comms[comm_id] = comm;\n      return comm;\n    }\n    window.PyViz.comm_manager = new JupyterCommManager();\n    \n\n\nvar JS_MIME_TYPE = 'application/javascript';\nvar HTML_MIME_TYPE = 'text/html';\nvar EXEC_MIME_TYPE = 'application/vnd.holoviews_exec.v0+json';\nvar CLASS_NAME = 'output';\n\n/**\n * Render data to the DOM node\n */\nfunction render(props, node) {\n  var div = document.createElement(\"div\");\n  var script = document.createElement(\"script\");\n  node.appendChild(div);\n  node.appendChild(script);\n}\n\n/**\n * Handle when a new output is added\n */\nfunction handle_add_output(event, handle) {\n  var output_area = handle.output_area;\n  var output = handle.output;\n  if ((output.data == undefined) || (!output.data.hasOwnProperty(EXEC_MIME_TYPE))) {\n    return\n  }\n  var id = output.metadata[EXEC_MIME_TYPE][\"id\"];\n  var toinsert = output_area.element.find(\".\" + CLASS_NAME.split(' ')[0]);\n  if (id !== undefined) {\n    var nchildren = toinsert.length;\n    var html_node = toinsert[nchildren-1].children[0];\n    html_node.innerHTML = output.data[HTML_MIME_TYPE];\n    var scripts = [];\n    var nodelist = html_node.querySelectorAll(\"script\");\n    for (var i in nodelist) {\n      if (nodelist.hasOwnProperty(i)) {\n        scripts.push(nodelist[i])\n      }\n    }\n\n    scripts.forEach( function (oldScript) {\n      var newScript = document.createElement(\"script\");\n      var attrs = [];\n      var nodemap = oldScript.attributes;\n      for (var j in nodemap) {\n        if (nodemap.hasOwnProperty(j)) {\n          attrs.push(nodemap[j])\n        }\n      }\n      attrs.forEach(function(attr) { newScript.setAttribute(attr.name, attr.value) });\n      newScript.appendChild(document.createTextNode(oldScript.innerHTML));\n      oldScript.parentNode.replaceChild(newScript, oldScript);\n    });\n    if (JS_MIME_TYPE in output.data) {\n      toinsert[nchildren-1].children[1].textContent = output.data[JS_MIME_TYPE];\n    }\n    output_area._hv_plot_id = id;\n    if ((window.Bokeh !== undefined) && (id in Bokeh.index)) {\n      window.PyViz.plot_index[id] = Bokeh.index[id];\n    } else {\n      window.PyViz.plot_index[id] = null;\n    }\n  } else if (output.metadata[EXEC_MIME_TYPE][\"server_id\"] !== undefined) {\n    var bk_div = document.createElement(\"div\");\n    bk_div.innerHTML = output.data[HTML_MIME_TYPE];\n    var script_attrs = bk_div.children[0].attributes;\n    for (var i = 0; i < script_attrs.length; i++) {\n      toinsert[toinsert.length - 1].childNodes[1].setAttribute(script_attrs[i].name, script_attrs[i].value);\n    }\n    // store reference to server id on output_area\n    output_area._bokeh_server_id = output.metadata[EXEC_MIME_TYPE][\"server_id\"];\n  }\n}\n\n/**\n * Handle when an output is cleared or removed\n */\nfunction handle_clear_output(event, handle) {\n  var id = handle.cell.output_area._hv_plot_id;\n  var server_id = handle.cell.output_area._bokeh_server_id;\n  if (((id === undefined) || !(id in PyViz.plot_index)) && (server_id !== undefined)) { return; }\n  var comm = window.PyViz.comm_manager.get_client_comm(\"hv-extension-comm\", \"hv-extension-comm\", function () {});\n  if (server_id !== null) {\n    comm.send({event_type: 'server_delete', 'id': server_id});\n    return;\n  } else if (comm !== null) {\n    comm.send({event_type: 'delete', 'id': id});\n  }\n  delete PyViz.plot_index[id];\n  if ((window.Bokeh !== undefined) & (id in window.Bokeh.index)) {\n    var doc = window.Bokeh.index[id].model.document\n    doc.clear();\n    const i = window.Bokeh.documents.indexOf(doc);\n    if (i > -1) {\n      window.Bokeh.documents.splice(i, 1);\n    }\n  }\n}\n\n/**\n * Handle kernel restart event\n */\nfunction handle_kernel_cleanup(event, handle) {\n  delete PyViz.comms[\"hv-extension-comm\"];\n  window.PyViz.plot_index = {}\n}\n\n/**\n * Handle update_display_data messages\n */\nfunction handle_update_output(event, handle) {\n  handle_clear_output(event, {cell: {output_area: handle.output_area}})\n  handle_add_output(event, handle)\n}\n\nfunction register_renderer(events, OutputArea) {\n  function append_mime(data, metadata, element) {\n    // create a DOM node to render to\n    var toinsert = this.create_output_subarea(\n    metadata,\n    CLASS_NAME,\n    EXEC_MIME_TYPE\n    );\n    this.keyboard_manager.register_events(toinsert);\n    // Render to node\n    var props = {data: data, metadata: metadata[EXEC_MIME_TYPE]};\n    render(props, toinsert[0]);\n    element.append(toinsert);\n    return toinsert\n  }\n\n  events.on('output_added.OutputArea', handle_add_output);\n  events.on('output_updated.OutputArea', handle_update_output);\n  events.on('clear_output.CodeCell', handle_clear_output);\n  events.on('delete.Cell', handle_clear_output);\n  events.on('kernel_ready.Kernel', handle_kernel_cleanup);\n\n  OutputArea.prototype.register_mime_type(EXEC_MIME_TYPE, append_mime, {\n    safe: true,\n    index: 0\n  });\n}\n\nif (window.Jupyter !== undefined) {\n  try {\n    var events = require('base/js/events');\n    var OutputArea = require('notebook/js/outputarea').OutputArea;\n    if (OutputArea.prototype.mime_types().indexOf(EXEC_MIME_TYPE) == -1) {\n      register_renderer(events, OutputArea);\n    }\n  } catch(err) {\n  }\n}\n",
      "application/vnd.holoviews_load.v0+json": ""
     },
     "metadata": {},
     "output_type": "display_data"
    },
    {
     "data": {
      "text/html": [
       "<style>*[data-root-id],\n",
       "*[data-root-id] > * {\n",
       "  box-sizing: border-box;\n",
       "  font-family: var(--jp-ui-font-family);\n",
       "  font-size: var(--jp-ui-font-size1);\n",
       "  color: var(--vscode-editor-foreground, var(--jp-ui-font-color1));\n",
       "}\n",
       "\n",
       "/* Override VSCode background color */\n",
       ".cell-output-ipywidget-background:has(\n",
       "    > .cell-output-ipywidget-background > .lm-Widget > *[data-root-id]\n",
       "  ),\n",
       ".cell-output-ipywidget-background:has(> .lm-Widget > *[data-root-id]) {\n",
       "  background-color: transparent !important;\n",
       "}\n",
       "</style>"
      ]
     },
     "metadata": {},
     "output_type": "display_data"
    },
    {
     "data": {
      "application/vnd.holoviews_exec.v0+json": "",
      "text/html": [
       "<div id='p1002'>\n",
       "  <div id=\"b8dd2ebc-c9f2-4caa-a4fb-211e4a009d35\" data-root-id=\"p1002\" style=\"display: contents;\"></div>\n",
       "</div>\n",
       "<script type=\"application/javascript\">(function(root) {\n",
       "  var docs_json = {\"89b151e3-89c5-4ed6-87d8-d5681bab3f3d\":{\"version\":\"3.3.4\",\"title\":\"Bokeh Application\",\"roots\":[{\"type\":\"object\",\"name\":\"panel.models.browser.BrowserInfo\",\"id\":\"p1002\"},{\"type\":\"object\",\"name\":\"panel.models.comm_manager.CommManager\",\"id\":\"p1003\",\"attributes\":{\"plot_id\":\"p1002\",\"comm_id\":\"e815c79e1ddc4b549a4ce3e7295e2dd6\",\"client_comm_id\":\"10960a87558f46ae9c70be787b06d331\"}}],\"defs\":[{\"type\":\"model\",\"name\":\"ReactiveHTML1\"},{\"type\":\"model\",\"name\":\"FlexBox1\",\"properties\":[{\"name\":\"align_content\",\"kind\":\"Any\",\"default\":\"flex-start\"},{\"name\":\"align_items\",\"kind\":\"Any\",\"default\":\"flex-start\"},{\"name\":\"flex_direction\",\"kind\":\"Any\",\"default\":\"row\"},{\"name\":\"flex_wrap\",\"kind\":\"Any\",\"default\":\"wrap\"},{\"name\":\"justify_content\",\"kind\":\"Any\",\"default\":\"flex-start\"}]},{\"type\":\"model\",\"name\":\"FloatPanel1\",\"properties\":[{\"name\":\"config\",\"kind\":\"Any\",\"default\":{\"type\":\"map\"}},{\"name\":\"contained\",\"kind\":\"Any\",\"default\":true},{\"name\":\"position\",\"kind\":\"Any\",\"default\":\"right-top\"},{\"name\":\"offsetx\",\"kind\":\"Any\",\"default\":null},{\"name\":\"offsety\",\"kind\":\"Any\",\"default\":null},{\"name\":\"theme\",\"kind\":\"Any\",\"default\":\"primary\"},{\"name\":\"status\",\"kind\":\"Any\",\"default\":\"normalized\"}]},{\"type\":\"model\",\"name\":\"GridStack1\",\"properties\":[{\"name\":\"mode\",\"kind\":\"Any\",\"default\":\"warn\"},{\"name\":\"ncols\",\"kind\":\"Any\",\"default\":null},{\"name\":\"nrows\",\"kind\":\"Any\",\"default\":null},{\"name\":\"allow_resize\",\"kind\":\"Any\",\"default\":true},{\"name\":\"allow_drag\",\"kind\":\"Any\",\"default\":true},{\"name\":\"state\",\"kind\":\"Any\",\"default\":[]}]},{\"type\":\"model\",\"name\":\"drag1\",\"properties\":[{\"name\":\"slider_width\",\"kind\":\"Any\",\"default\":5},{\"name\":\"slider_color\",\"kind\":\"Any\",\"default\":\"black\"},{\"name\":\"value\",\"kind\":\"Any\",\"default\":50}]},{\"type\":\"model\",\"name\":\"click1\",\"properties\":[{\"name\":\"terminal_output\",\"kind\":\"Any\",\"default\":\"\"},{\"name\":\"debug_name\",\"kind\":\"Any\",\"default\":\"\"},{\"name\":\"clears\",\"kind\":\"Any\",\"default\":0}]},{\"type\":\"model\",\"name\":\"copy_to_clipboard1\",\"properties\":[{\"name\":\"fill\",\"kind\":\"Any\",\"default\":\"none\"},{\"name\":\"value\",\"kind\":\"Any\",\"default\":null}]},{\"type\":\"model\",\"name\":\"FastWrapper1\",\"properties\":[{\"name\":\"object\",\"kind\":\"Any\",\"default\":null},{\"name\":\"style\",\"kind\":\"Any\",\"default\":null}]},{\"type\":\"model\",\"name\":\"NotificationAreaBase1\",\"properties\":[{\"name\":\"js_events\",\"kind\":\"Any\",\"default\":{\"type\":\"map\"}},{\"name\":\"position\",\"kind\":\"Any\",\"default\":\"bottom-right\"},{\"name\":\"_clear\",\"kind\":\"Any\",\"default\":0}]},{\"type\":\"model\",\"name\":\"NotificationArea1\",\"properties\":[{\"name\":\"js_events\",\"kind\":\"Any\",\"default\":{\"type\":\"map\"}},{\"name\":\"notifications\",\"kind\":\"Any\",\"default\":[]},{\"name\":\"position\",\"kind\":\"Any\",\"default\":\"bottom-right\"},{\"name\":\"_clear\",\"kind\":\"Any\",\"default\":0},{\"name\":\"types\",\"kind\":\"Any\",\"default\":[{\"type\":\"map\",\"entries\":[[\"type\",\"warning\"],[\"background\",\"#ffc107\"],[\"icon\",{\"type\":\"map\",\"entries\":[[\"className\",\"fas fa-exclamation-triangle\"],[\"tagName\",\"i\"],[\"color\",\"white\"]]}]]},{\"type\":\"map\",\"entries\":[[\"type\",\"info\"],[\"background\",\"#007bff\"],[\"icon\",{\"type\":\"map\",\"entries\":[[\"className\",\"fas fa-info-circle\"],[\"tagName\",\"i\"],[\"color\",\"white\"]]}]]}]}]},{\"type\":\"model\",\"name\":\"Notification\",\"properties\":[{\"name\":\"background\",\"kind\":\"Any\",\"default\":null},{\"name\":\"duration\",\"kind\":\"Any\",\"default\":3000},{\"name\":\"icon\",\"kind\":\"Any\",\"default\":null},{\"name\":\"message\",\"kind\":\"Any\",\"default\":\"\"},{\"name\":\"notification_type\",\"kind\":\"Any\",\"default\":null},{\"name\":\"_destroyed\",\"kind\":\"Any\",\"default\":false}]},{\"type\":\"model\",\"name\":\"TemplateActions1\",\"properties\":[{\"name\":\"open_modal\",\"kind\":\"Any\",\"default\":0},{\"name\":\"close_modal\",\"kind\":\"Any\",\"default\":0}]},{\"type\":\"model\",\"name\":\"BootstrapTemplateActions1\",\"properties\":[{\"name\":\"open_modal\",\"kind\":\"Any\",\"default\":0},{\"name\":\"close_modal\",\"kind\":\"Any\",\"default\":0}]},{\"type\":\"model\",\"name\":\"MaterialTemplateActions1\",\"properties\":[{\"name\":\"open_modal\",\"kind\":\"Any\",\"default\":0},{\"name\":\"close_modal\",\"kind\":\"Any\",\"default\":0}]}]}};\n",
       "  var render_items = [{\"docid\":\"89b151e3-89c5-4ed6-87d8-d5681bab3f3d\",\"roots\":{\"p1002\":\"b8dd2ebc-c9f2-4caa-a4fb-211e4a009d35\"},\"root_ids\":[\"p1002\"]}];\n",
       "  var docs = Object.values(docs_json)\n",
       "  if (!docs) {\n",
       "    return\n",
       "  }\n",
       "  const py_version = docs[0].version.replace('rc', '-rc.').replace('.dev', '-dev.')\n",
       "  function embed_document(root) {\n",
       "    var Bokeh = get_bokeh(root)\n",
       "    Bokeh.embed.embed_items_notebook(docs_json, render_items);\n",
       "    for (const render_item of render_items) {\n",
       "      for (const root_id of render_item.root_ids) {\n",
       "\tconst id_el = document.getElementById(root_id)\n",
       "\tif (id_el.children.length && (id_el.children[0].className === 'bk-root')) {\n",
       "\t  const root_el = id_el.children[0]\n",
       "\t  root_el.id = root_el.id + '-rendered'\n",
       "\t}\n",
       "      }\n",
       "    }\n",
       "  }\n",
       "  function get_bokeh(root) {\n",
       "    if (root.Bokeh === undefined) {\n",
       "      return null\n",
       "    } else if (root.Bokeh.version !== py_version) {\n",
       "      if (root.Bokeh.versions === undefined || !root.Bokeh.versions.has(py_version)) {\n",
       "\treturn null\n",
       "      }\n",
       "      return root.Bokeh.versions.get(py_version);\n",
       "    } else if (root.Bokeh.version === py_version) {\n",
       "      return root.Bokeh\n",
       "    }\n",
       "    return null\n",
       "  }\n",
       "  function is_loaded(root) {\n",
       "    var Bokeh = get_bokeh(root)\n",
       "    return (Bokeh != null && Bokeh.Panel !== undefined && ( root['Plotly'] !== undefined))\n",
       "  }\n",
       "  if (is_loaded(root)) {\n",
       "    embed_document(root);\n",
       "  } else {\n",
       "    var attempts = 0;\n",
       "    var timer = setInterval(function(root) {\n",
       "      if (is_loaded(root)) {\n",
       "        clearInterval(timer);\n",
       "        embed_document(root);\n",
       "      } else if (document.readyState == \"complete\") {\n",
       "        attempts++;\n",
       "        if (attempts > 200) {\n",
       "          clearInterval(timer);\n",
       "\t  var Bokeh = get_bokeh(root)\n",
       "\t  if (Bokeh == null || Bokeh.Panel == null) {\n",
       "            console.warn(\"Panel: ERROR: Unable to run Panel code because Bokeh or Panel library is missing\");\n",
       "\t  } else {\n",
       "\t    console.warn(\"Panel: WARNING: Attempting to render but not all required libraries could be resolved.\")\n",
       "\t    embed_document(root)\n",
       "\t  }\n",
       "        }\n",
       "      }\n",
       "    }, 25, root)\n",
       "  }\n",
       "})(window);</script>"
      ]
     },
     "metadata": {
      "application/vnd.holoviews_exec.v0+json": {
       "id": "p1002"
      }
     },
     "output_type": "display_data"
    }
   ],
   "source": [
    "hv.extension('plotly')"
   ]
  },
  {
   "cell_type": "code",
   "execution_count": 4,
   "metadata": {},
   "outputs": [
    {
     "data": {
      "text/plain": [
       "polars.config.Config"
      ]
     },
     "execution_count": 4,
     "metadata": {},
     "output_type": "execute_result"
    }
   ],
   "source": [
    "pl.Config.set_fmt_float(\"full\")\n",
    "pl.Config.set_fmt_str_lengths(200)\n",
    "pl.Config.set_float_precision(2)\n",
    "pl.Config.set_tbl_rows(10)"
   ]
  },
  {
   "cell_type": "code",
   "execution_count": 5,
   "metadata": {},
   "outputs": [
    {
     "name": "stdout",
     "output_type": "stream",
     "text": [
      "32\n"
     ]
    },
    {
     "data": {
      "text/html": [
       "<div><style>\n",
       ".dataframe > thead > tr,\n",
       ".dataframe > tbody > tr {\n",
       "  text-align: right;\n",
       "  white-space: pre-wrap;\n",
       "}\n",
       "</style>\n",
       "<small>shape: (32, 2)</small><table border=\"1\" class=\"dataframe\"><thead><tr><th>index</th><th>filename</th></tr><tr><td>i8</td><td>str</td></tr></thead><tbody><tr><td>0</td><td>&quot;train_applprev_1_0.parquet&quot;</td></tr><tr><td>1</td><td>&quot;train_applprev_1_1.parquet&quot;</td></tr><tr><td>2</td><td>&quot;train_applprev_2.parquet&quot;</td></tr><tr><td>3</td><td>&quot;train_base.parquet&quot;</td></tr><tr><td>4</td><td>&quot;train_credit_bureau_a_1_0.parquet&quot;</td></tr><tr><td>&hellip;</td><td>&hellip;</td></tr><tr><td>27</td><td>&quot;train_static_0_1.parquet&quot;</td></tr><tr><td>28</td><td>&quot;train_static_cb_0.parquet&quot;</td></tr><tr><td>29</td><td>&quot;train_tax_registry_a_1.parquet&quot;</td></tr><tr><td>30</td><td>&quot;train_tax_registry_b_1.parquet&quot;</td></tr><tr><td>31</td><td>&quot;train_tax_registry_c_1.parquet&quot;</td></tr></tbody></table></div>"
      ],
      "text/plain": [
       "shape: (32, 2)\n",
       "┌───────┬───────────────────────────────────┐\n",
       "│ index ┆ filename                          │\n",
       "│ ---   ┆ ---                               │\n",
       "│ i8    ┆ str                               │\n",
       "╞═══════╪═══════════════════════════════════╡\n",
       "│ 0     ┆ train_applprev_1_0.parquet        │\n",
       "│ 1     ┆ train_applprev_1_1.parquet        │\n",
       "│ 2     ┆ train_applprev_2.parquet          │\n",
       "│ 3     ┆ train_base.parquet                │\n",
       "│ 4     ┆ train_credit_bureau_a_1_0.parquet │\n",
       "│ …     ┆ …                                 │\n",
       "│ 27    ┆ train_static_0_1.parquet          │\n",
       "│ 28    ┆ train_static_cb_0.parquet         │\n",
       "│ 29    ┆ train_tax_registry_a_1.parquet    │\n",
       "│ 30    ┆ train_tax_registry_b_1.parquet    │\n",
       "│ 31    ┆ train_tax_registry_c_1.parquet    │\n",
       "└───────┴───────────────────────────────────┘"
      ]
     },
     "execution_count": 5,
     "metadata": {},
     "output_type": "execute_result"
    }
   ],
   "source": [
    "path_to_train = Path(\"Downloads/credit_risk/train\")\n",
    "all_train_files = os.listdir(path_to_train)\n",
    "print(len(all_train_files))\n",
    "all_train_files.sort()\n",
    "all_files_df = (\n",
    "    pl.DataFrame({\n",
    "        \"index\":range(len(all_train_files)),\n",
    "        \"filename\":all_train_files\n",
    "    },\n",
    "    schema={\"index\":pl.Int8,\"filename\":pl.Utf8}\n",
    "    )\n",
    ")\n",
    "all_files_df"
   ]
  },
  {
   "cell_type": "code",
   "execution_count": 6,
   "metadata": {},
   "outputs": [
    {
     "name": "stdout",
     "output_type": "stream",
     "text": [
      "45\n"
     ]
    },
    {
     "data": {
      "text/html": [
       "<div><style>\n",
       ".dataframe > thead > tr,\n",
       ".dataframe > tbody > tr {\n",
       "  text-align: right;\n",
       "  white-space: pre-wrap;\n",
       "}\n",
       "</style>\n",
       "<small>shape: (5, 2)</small><table border=\"1\" class=\"dataframe\"><thead><tr><th>Variable</th><th>Description</th></tr><tr><td>str</td><td>str</td></tr></thead><tbody><tr><td>&quot;actualdpd_943P&quot;</td><td>&quot;Days Past Due (DPD) of previous contract (actual).&quot;</td></tr><tr><td>&quot;actualdpdtolerance_344P&quot;</td><td>&quot;DPD of client with tolerance.&quot;</td></tr><tr><td>&quot;addres_district_368M&quot;</td><td>&quot;District of the person&#x27;s address.&quot;</td></tr><tr><td>&quot;addres_role_871L&quot;</td><td>&quot;Role of person&#x27;s address.&quot;</td></tr><tr><td>&quot;addres_zip_823M&quot;</td><td>&quot;Zip code of the address.&quot;</td></tr></tbody></table></div>"
      ],
      "text/plain": [
       "shape: (5, 2)\n",
       "┌─────────────────────────┬────────────────────────────────────────────────────┐\n",
       "│ Variable                ┆ Description                                        │\n",
       "│ ---                     ┆ ---                                                │\n",
       "│ str                     ┆ str                                                │\n",
       "╞═════════════════════════╪════════════════════════════════════════════════════╡\n",
       "│ actualdpd_943P          ┆ Days Past Due (DPD) of previous contract (actual). │\n",
       "│ actualdpdtolerance_344P ┆ DPD of client with tolerance.                      │\n",
       "│ addres_district_368M    ┆ District of the person's address.                  │\n",
       "│ addres_role_871L        ┆ Role of person's address.                          │\n",
       "│ addres_zip_823M         ┆ Zip code of the address.                           │\n",
       "└─────────────────────────┴────────────────────────────────────────────────────┘"
      ]
     },
     "execution_count": 6,
     "metadata": {},
     "output_type": "execute_result"
    }
   ],
   "source": [
    "feature_columns = (\n",
    "    pl.read_csv(\"Downloads/feature_definitions.csv\")\n",
    "    .select(\n",
    "        pl.all().shrink_dtype()\n",
    "    )\n",
    ")\n",
    "def rename_to_full(df:pl.DataFrame) -> pl.DataFrame:    \n",
    "    rename_dict = {}\n",
    "    for _ in df.columns:\n",
    "        des_str = feature_columns.filter(pl.col(\"Variable\") == _)[\"Description\"].item() if _ not in [\"case_id\",\"num_group1\",\"num_group2\"] else \"\"\n",
    "        total_str = _+\"\\n\"+\"(\"+des_str+\")\" if _ not in [\"case_id\",\"num_group1\",\"num_group2\"] else _\n",
    "        rename_dict[_] = total_str\n",
    "    return df.rename(rename_dict)\n",
    "print(gc.collect())\n",
    "feature_columns.head()"
   ]
  },
  {
   "cell_type": "code",
   "execution_count": 7,
   "metadata": {},
   "outputs": [
    {
     "data": {
      "text/html": [
       "<div><style>\n",
       ".dataframe > thead > tr,\n",
       ".dataframe > tbody > tr {\n",
       "  text-align: right;\n",
       "  white-space: pre-wrap;\n",
       "}\n",
       "</style>\n",
       "<small>shape: (1, 2)</small><table border=\"1\" class=\"dataframe\"><thead><tr><th>index</th><th>filename</th></tr><tr><td>i8</td><td>str</td></tr></thead><tbody><tr><td>3</td><td>&quot;train_base.parquet&quot;</td></tr></tbody></table></div>"
      ],
      "text/plain": [
       "shape: (1, 2)\n",
       "┌───────┬────────────────────┐\n",
       "│ index ┆ filename           │\n",
       "│ ---   ┆ ---                │\n",
       "│ i8    ┆ str                │\n",
       "╞═══════╪════════════════════╡\n",
       "│ 3     ┆ train_base.parquet │\n",
       "└───────┴────────────────────┘"
      ]
     },
     "execution_count": 7,
     "metadata": {},
     "output_type": "execute_result"
    }
   ],
   "source": [
    "all_files_df.filter(pl.col(\"filename\").str.contains(\"base\"))"
   ]
  },
  {
   "cell_type": "code",
   "execution_count": 8,
   "metadata": {},
   "outputs": [
    {
     "name": "stdout",
     "output_type": "stream",
     "text": [
      "0\n"
     ]
    },
    {
     "data": {
      "text/html": [
       "<div><style>\n",
       ".dataframe > thead > tr,\n",
       ".dataframe > tbody > tr {\n",
       "  text-align: right;\n",
       "  white-space: pre-wrap;\n",
       "}\n",
       "</style>\n",
       "<small>shape: (5, 6)</small><table border=\"1\" class=\"dataframe\"><thead><tr><th>case_id</th><th>date_decision</th><th>MONTH</th><th>WEEK_NUM</th><th>target</th><th>month</th></tr><tr><td>i32</td><td>date</td><td>i32</td><td>i8</td><td>i8</td><td>i8</td></tr></thead><tbody><tr><td>0</td><td>2019-01-03</td><td>201901</td><td>0</td><td>0</td><td>1</td></tr><tr><td>1</td><td>2019-01-03</td><td>201901</td><td>0</td><td>0</td><td>1</td></tr><tr><td>2</td><td>2019-01-04</td><td>201901</td><td>0</td><td>0</td><td>1</td></tr><tr><td>3</td><td>2019-01-03</td><td>201901</td><td>0</td><td>0</td><td>1</td></tr><tr><td>4</td><td>2019-01-04</td><td>201901</td><td>0</td><td>1</td><td>1</td></tr></tbody></table></div>"
      ],
      "text/plain": [
       "shape: (5, 6)\n",
       "┌─────────┬───────────────┬────────┬──────────┬────────┬───────┐\n",
       "│ case_id ┆ date_decision ┆ MONTH  ┆ WEEK_NUM ┆ target ┆ month │\n",
       "│ ---     ┆ ---           ┆ ---    ┆ ---      ┆ ---    ┆ ---   │\n",
       "│ i32     ┆ date          ┆ i32    ┆ i8       ┆ i8     ┆ i8    │\n",
       "╞═════════╪═══════════════╪════════╪══════════╪════════╪═══════╡\n",
       "│ 0       ┆ 2019-01-03    ┆ 201901 ┆ 0        ┆ 0      ┆ 1     │\n",
       "│ 1       ┆ 2019-01-03    ┆ 201901 ┆ 0        ┆ 0      ┆ 1     │\n",
       "│ 2       ┆ 2019-01-04    ┆ 201901 ┆ 0        ┆ 0      ┆ 1     │\n",
       "│ 3       ┆ 2019-01-03    ┆ 201901 ┆ 0        ┆ 0      ┆ 1     │\n",
       "│ 4       ┆ 2019-01-04    ┆ 201901 ┆ 0        ┆ 1      ┆ 1     │\n",
       "└─────────┴───────────────┴────────┴──────────┴────────┴───────┘"
      ]
     },
     "metadata": {},
     "output_type": "display_data"
    },
    {
     "data": {
      "text/plain": [
       "21.83903217315674"
      ]
     },
     "execution_count": 8,
     "metadata": {},
     "output_type": "execute_result"
    }
   ],
   "source": [
    "train_base = (\n",
    "    pl.read_parquet(path_to_train/all_train_files[3])\n",
    "    .select(pl.all().shrink_dtype())\n",
    "    .with_columns(\n",
    "        pl.col(\"date_decision\").str.to_date(),\n",
    "        pl.col(\"date_decision\").str.to_date().dt.month().alias(\"month\")\n",
    "    )\n",
    ")\n",
    "print(gc.collect())\n",
    "display(train_base.head())\n",
    "train_base.estimated_size(\"mb\")"
   ]
  },
  {
   "cell_type": "code",
   "execution_count": 9,
   "metadata": {},
   "outputs": [
    {
     "data": {
      "text/html": [
       "<div><style>\n",
       ".dataframe > thead > tr,\n",
       ".dataframe > tbody > tr {\n",
       "  text-align: right;\n",
       "  white-space: pre-wrap;\n",
       "}\n",
       "</style>\n",
       "<small>shape: (9, 7)</small><table border=\"1\" class=\"dataframe\"><thead><tr><th>statistic</th><th>case_id</th><th>date_decision</th><th>MONTH</th><th>WEEK_NUM</th><th>target</th><th>month</th></tr><tr><td>str</td><td>f64</td><td>str</td><td>f64</td><td>f64</td><td>f64</td><td>f64</td></tr></thead><tbody><tr><td>&quot;count&quot;</td><td>1526659.00</td><td>&quot;1526659&quot;</td><td>1526659.00</td><td>1526659.00</td><td>1526659.00</td><td>1526659.00</td></tr><tr><td>&quot;null_count&quot;</td><td>0.00</td><td>&quot;0&quot;</td><td>0.00</td><td>0.00</td><td>0.00</td><td>0.00</td></tr><tr><td>&quot;mean&quot;</td><td>1286076.57</td><td>&quot;2019-10-16&quot;</td><td>201936.29</td><td>40.77</td><td>0.03</td><td>6.43</td></tr><tr><td>&quot;std&quot;</td><td>718946.59</td><td>null</td><td>44.74</td><td>23.80</td><td>0.17</td><td>3.51</td></tr><tr><td>&quot;min&quot;</td><td>0.00</td><td>&quot;2019-01-01&quot;</td><td>201901.00</td><td>0.00</td><td>0.00</td><td>1.00</td></tr><tr><td>&quot;25%&quot;</td><td>766198.00</td><td>&quot;2019-06-13&quot;</td><td>201906.00</td><td>23.00</td><td>0.00</td><td>3.00</td></tr><tr><td>&quot;50%&quot;</td><td>1357358.00</td><td>&quot;2019-10-11&quot;</td><td>201910.00</td><td>40.00</td><td>0.00</td><td>7.00</td></tr><tr><td>&quot;75%&quot;</td><td>1739023.00</td><td>&quot;2020-01-26&quot;</td><td>202001.00</td><td>55.00</td><td>0.00</td><td>9.00</td></tr><tr><td>&quot;max&quot;</td><td>2703454.00</td><td>&quot;2020-10-05&quot;</td><td>202010.00</td><td>91.00</td><td>1.00</td><td>12.00</td></tr></tbody></table></div>"
      ],
      "text/plain": [
       "shape: (9, 7)\n",
       "┌────────────┬────────────┬───────────────┬────────────┬────────────┬────────────┬────────────┐\n",
       "│ statistic  ┆ case_id    ┆ date_decision ┆ MONTH      ┆ WEEK_NUM   ┆ target     ┆ month      │\n",
       "│ ---        ┆ ---        ┆ ---           ┆ ---        ┆ ---        ┆ ---        ┆ ---        │\n",
       "│ str        ┆ f64        ┆ str           ┆ f64        ┆ f64        ┆ f64        ┆ f64        │\n",
       "╞════════════╪════════════╪═══════════════╪════════════╪════════════╪════════════╪════════════╡\n",
       "│ count      ┆ 1526659.00 ┆ 1526659       ┆ 1526659.00 ┆ 1526659.00 ┆ 1526659.00 ┆ 1526659.00 │\n",
       "│ null_count ┆ 0.00       ┆ 0             ┆ 0.00       ┆ 0.00       ┆ 0.00       ┆ 0.00       │\n",
       "│ mean       ┆ 1286076.57 ┆ 2019-10-16    ┆ 201936.29  ┆ 40.77      ┆ 0.03       ┆ 6.43       │\n",
       "│ std        ┆ 718946.59  ┆ null          ┆ 44.74      ┆ 23.80      ┆ 0.17       ┆ 3.51       │\n",
       "│ min        ┆ 0.00       ┆ 2019-01-01    ┆ 201901.00  ┆ 0.00       ┆ 0.00       ┆ 1.00       │\n",
       "│ 25%        ┆ 766198.00  ┆ 2019-06-13    ┆ 201906.00  ┆ 23.00      ┆ 0.00       ┆ 3.00       │\n",
       "│ 50%        ┆ 1357358.00 ┆ 2019-10-11    ┆ 201910.00  ┆ 40.00      ┆ 0.00       ┆ 7.00       │\n",
       "│ 75%        ┆ 1739023.00 ┆ 2020-01-26    ┆ 202001.00  ┆ 55.00      ┆ 0.00       ┆ 9.00       │\n",
       "│ max        ┆ 2703454.00 ┆ 2020-10-05    ┆ 202010.00  ┆ 91.00      ┆ 1.00       ┆ 12.00      │\n",
       "└────────────┴────────────┴───────────────┴────────────┴────────────┴────────────┴────────────┘"
      ]
     },
     "execution_count": 9,
     "metadata": {},
     "output_type": "execute_result"
    }
   ],
   "source": [
    "train_base.describe()"
   ]
  },
  {
   "cell_type": "code",
   "execution_count": 10,
   "metadata": {},
   "outputs": [
    {
     "data": {
      "text/html": [
       "<div><style>\n",
       ".dataframe > thead > tr,\n",
       ".dataframe > tbody > tr {\n",
       "  text-align: right;\n",
       "  white-space: pre-wrap;\n",
       "}\n",
       "</style>\n",
       "<small>shape: (1_000, 37)</small><table border=\"1\" class=\"dataframe\"><thead><tr><th>case_id</th><th>actualdpd_943P\n",
       "(Days Past Due (DPD) of previous contract (actual).)</th><th>annuity_853A\n",
       "(Monthly annuity for previous applications.)</th><th>byoccupationinc_3656910L\n",
       "(Applicant&#x27;s income from previous applications.)</th><th>cancelreason_3545846M\n",
       "(Application cancellation reason.)</th><th>childnum_21L\n",
       "(Number of children in the previous application.)</th><th>credacc_actualbalance_314A\n",
       "(Actual balance on credit account.)</th><th>credacc_credlmt_575A\n",
       "(Credit card credit limit provided for previous applications.)</th><th>credacc_maxhisbal_375A\n",
       "(Maximal historical balance of previous credit account)</th><th>credacc_minhisbal_90A\n",
       "(Minimum historical balance of previous credit accounts.)</th><th>credacc_status_367L\n",
       "(Account status of previous credit applications.)</th><th>credacc_transactions_402L\n",
       "(Number of transactions made with the previous credit account of the applicant.)</th><th>credamount_590A\n",
       "(Loan amount or card limit of previous applications.)</th><th>credtype_587L\n",
       "(Credit type of previous application.)</th><th>currdebt_94A\n",
       "(Previous application&#x27;s current debt.)</th><th>district_544M\n",
       "(District of the address used in the previous loan application.)</th><th>downpmt_134A\n",
       "(Previous application downpayment amount.)</th><th>dtlastpmt_581D\n",
       "(Date of last payment made by the applicant.)</th><th>dtlastpmtallstes_3545839D\n",
       "(Date of the applicant&#x27;s last payment.)</th><th>education_1138M\n",
       "(Applicant&#x27;s education level from their previous application.)</th><th>employedfrom_700D\n",
       "(Employment start date from the previous application.)</th><th>familystate_726L\n",
       "(Family State in previous application of applicant.)</th><th>inittransactioncode_279L\n",
       "(Type of the initial transaction made in the previous application of the client.)</th><th>isbidproduct_390L\n",
       "(Flag for determining if the product is a cross-sell in previous applications.)</th><th>isdebitcard_527L\n",
       "(Previous application flag indicating if product being applied for is a debit card.)</th><th>mainoccupationinc_437A\n",
       "(Client&#x27;s main income amount in their previous application.)</th><th>maxdpdtolerance_577P\n",
       "(Maximum DPD with tolerance (on previous application/s).)</th><th>num_group1</th><th>outstandingdebt_522A\n",
       "(Amount of outstanding debt on the client&#x27;s previous application.)</th><th>pmtnum_8L\n",
       "(Number of payments made for the previous application.)</th><th>postype_4733339M\n",
       "(Type of point of sale.)</th><th>profession_152M\n",
       "(Profession of the client during their previous loan application.)</th><th>rejectreason_755M\n",
       "(Reason for previous application rejection.)</th><th>rejectreasonclient_4145042M\n",
       "(Reason for rejection of the client&#x27;s previous application.)</th><th>revolvingaccount_394A\n",
       "(Revolving account that was present in the applicant&#x27;s previous application.)</th><th>status_219L\n",
       "(Previous application status.)</th><th>tenor_203L\n",
       "(Number of instalments in the previous application.)</th></tr><tr><td>i32</td><td>f32</td><td>f32</td><td>f32</td><td>str</td><td>f32</td><td>f32</td><td>f32</td><td>f32</td><td>f32</td><td>str</td><td>f32</td><td>f32</td><td>str</td><td>f32</td><td>str</td><td>f32</td><td>str</td><td>str</td><td>str</td><td>str</td><td>str</td><td>str</td><td>bool</td><td>bool</td><td>f32</td><td>f32</td><td>i8</td><td>f32</td><td>f32</td><td>str</td><td>str</td><td>str</td><td>str</td><td>f32</td><td>str</td><td>f32</td></tr></thead><tbody><tr><td>2</td><td>0.00</td><td>640.20</td><td>null</td><td>&quot;a55475b1&quot;</td><td>0.00</td><td>null</td><td>0.00</td><td>null</td><td>null</td><td>null</td><td>null</td><td>10000.00</td><td>&quot;CAL&quot;</td><td>null</td><td>&quot;P136_108_173&quot;</td><td>0.00</td><td>null</td><td>null</td><td>&quot;P97_36_170&quot;</td><td>&quot;2010-02-15&quot;</td><td>&quot;SINGLE&quot;</td><td>&quot;CASH&quot;</td><td>false</td><td>null</td><td>8200.00</td><td>null</td><td>0</td><td>null</td><td>24.00</td><td>&quot;a55475b1&quot;</td><td>&quot;a55475b1&quot;</td><td>&quot;a55475b1&quot;</td><td>&quot;a55475b1&quot;</td><td>null</td><td>&quot;D&quot;</td><td>24.00</td></tr><tr><td>2</td><td>0.00</td><td>1682.40</td><td>null</td><td>&quot;a55475b1&quot;</td><td>0.00</td><td>null</td><td>0.00</td><td>null</td><td>null</td><td>null</td><td>null</td><td>16000.00</td><td>&quot;CAL&quot;</td><td>null</td><td>&quot;P136_108_173&quot;</td><td>0.00</td><td>null</td><td>null</td><td>&quot;P97_36_170&quot;</td><td>&quot;2010-02-15&quot;</td><td>&quot;SINGLE&quot;</td><td>&quot;CASH&quot;</td><td>false</td><td>null</td><td>8200.00</td><td>null</td><td>1</td><td>null</td><td>12.00</td><td>&quot;a55475b1&quot;</td><td>&quot;a55475b1&quot;</td><td>&quot;a55475b1&quot;</td><td>&quot;a55475b1&quot;</td><td>null</td><td>&quot;D&quot;</td><td>12.00</td></tr><tr><td>3</td><td>0.00</td><td>6140.00</td><td>null</td><td>&quot;P94_109_143&quot;</td><td>null</td><td>null</td><td>0.00</td><td>null</td><td>null</td><td>null</td><td>null</td><td>59999.80</td><td>&quot;CAL&quot;</td><td>null</td><td>&quot;P131_33_167&quot;</td><td>0.00</td><td>null</td><td>null</td><td>&quot;P97_36_170&quot;</td><td>&quot;2018-05-15&quot;</td><td>&quot;MARRIED&quot;</td><td>&quot;CASH&quot;</td><td>false</td><td>null</td><td>11000.00</td><td>null</td><td>0</td><td>null</td><td>12.00</td><td>&quot;a55475b1&quot;</td><td>&quot;a55475b1&quot;</td><td>&quot;P94_109_143&quot;</td><td>&quot;a55475b1&quot;</td><td>null</td><td>&quot;D&quot;</td><td>12.00</td></tr><tr><td>4</td><td>0.00</td><td>2556.60</td><td>null</td><td>&quot;P24_27_36&quot;</td><td>null</td><td>null</td><td>0.00</td><td>null</td><td>null</td><td>null</td><td>null</td><td>40000.00</td><td>&quot;CAL&quot;</td><td>null</td><td>&quot;P194_82_174&quot;</td><td>0.00</td><td>null</td><td>null</td><td>&quot;a55475b1&quot;</td><td>null</td><td>null</td><td>&quot;CASH&quot;</td><td>false</td><td>null</td><td>16000.00</td><td>null</td><td>0</td><td>null</td><td>24.00</td><td>&quot;a55475b1&quot;</td><td>&quot;a55475b1&quot;</td><td>&quot;a55475b1&quot;</td><td>&quot;a55475b1&quot;</td><td>null</td><td>&quot;T&quot;</td><td>24.00</td></tr><tr><td>5</td><td>0.00</td><td>null</td><td>null</td><td>&quot;P85_114_140&quot;</td><td>null</td><td>null</td><td>null</td><td>null</td><td>null</td><td>null</td><td>null</td><td>null</td><td>null</td><td>null</td><td>&quot;P54_133_26&quot;</td><td>null</td><td>null</td><td>null</td><td>&quot;a55475b1&quot;</td><td>null</td><td>null</td><td>null</td><td>false</td><td>null</td><td>62000.00</td><td>null</td><td>0</td><td>null</td><td>null</td><td>&quot;a55475b1&quot;</td><td>&quot;a55475b1&quot;</td><td>&quot;a55475b1&quot;</td><td>&quot;a55475b1&quot;</td><td>null</td><td>&quot;T&quot;</td><td>null</td></tr><tr><td>&hellip;</td><td>&hellip;</td><td>&hellip;</td><td>&hellip;</td><td>&hellip;</td><td>&hellip;</td><td>&hellip;</td><td>&hellip;</td><td>&hellip;</td><td>&hellip;</td><td>&hellip;</td><td>&hellip;</td><td>&hellip;</td><td>&hellip;</td><td>&hellip;</td><td>&hellip;</td><td>&hellip;</td><td>&hellip;</td><td>&hellip;</td><td>&hellip;</td><td>&hellip;</td><td>&hellip;</td><td>&hellip;</td><td>&hellip;</td><td>&hellip;</td><td>&hellip;</td><td>&hellip;</td><td>&hellip;</td><td>&hellip;</td><td>&hellip;</td><td>&hellip;</td><td>&hellip;</td><td>&hellip;</td><td>&hellip;</td><td>&hellip;</td><td>&hellip;</td><td>&hellip;</td></tr><tr><td>41277</td><td>0.00</td><td>0.00</td><td>null</td><td>&quot;P94_109_143&quot;</td><td>1.00</td><td>null</td><td>20000.00</td><td>null</td><td>null</td><td>null</td><td>null</td><td>20000.00</td><td>&quot;REL&quot;</td><td>null</td><td>&quot;P91_56_167&quot;</td><td>0.00</td><td>null</td><td>null</td><td>&quot;P97_36_170&quot;</td><td>&quot;2014-01-15&quot;</td><td>&quot;MARRIED&quot;</td><td>&quot;NDF&quot;</td><td>false</td><td>false</td><td>42000.00</td><td>null</td><td>7</td><td>null</td><td>null</td><td>&quot;P46_145_78&quot;</td><td>&quot;a55475b1&quot;</td><td>&quot;P94_109_143&quot;</td><td>&quot;P94_109_143&quot;</td><td>null</td><td>&quot;D&quot;</td><td>null</td></tr><tr><td>41277</td><td>0.00</td><td>13831.80</td><td>null</td><td>&quot;P94_109_143&quot;</td><td>1.00</td><td>null</td><td>0.00</td><td>null</td><td>null</td><td>null</td><td>null</td><td>200000.00</td><td>&quot;CAL&quot;</td><td>null</td><td>&quot;P91_56_167&quot;</td><td>0.00</td><td>null</td><td>null</td><td>&quot;P97_36_170&quot;</td><td>&quot;2014-01-15&quot;</td><td>&quot;MARRIED&quot;</td><td>&quot;CASH&quot;</td><td>false</td><td>null</td><td>42000.00</td><td>null</td><td>8</td><td>null</td><td>18.00</td><td>&quot;P46_145_78&quot;</td><td>&quot;a55475b1&quot;</td><td>&quot;P45_84_106&quot;</td><td>&quot;P94_109_143&quot;</td><td>null</td><td>&quot;D&quot;</td><td>18.00</td></tr><tr><td>41279</td><td>0.00</td><td>0.00</td><td>null</td><td>&quot;P94_109_143&quot;</td><td>0.00</td><td>null</td><td>76138.00</td><td>null</td><td>null</td><td>null</td><td>null</td><td>76138.00</td><td>&quot;REL&quot;</td><td>null</td><td>&quot;P162_18_172&quot;</td><td>0.00</td><td>null</td><td>null</td><td>&quot;P33_146_175&quot;</td><td>&quot;2016-05-17&quot;</td><td>&quot;MARRIED&quot;</td><td>&quot;POS&quot;</td><td>false</td><td>false</td><td>70000.00</td><td>null</td><td>0</td><td>null</td><td>null</td><td>&quot;P177_117_192&quot;</td><td>&quot;a55475b1&quot;</td><td>&quot;P99_56_166&quot;</td><td>&quot;P94_109_143&quot;</td><td>null</td><td>&quot;D&quot;</td><td>null</td></tr><tr><td>41281</td><td>0.00</td><td>1240.00</td><td>null</td><td>&quot;a55475b1&quot;</td><td>null</td><td>null</td><td>0.00</td><td>null</td><td>null</td><td>null</td><td>null</td><td>11998.00</td><td>&quot;COL&quot;</td><td>9440.11</td><td>&quot;P65_77_113&quot;</td><td>0.00</td><td>null</td><td>&quot;2019-12-25&quot;</td><td>&quot;P33_146_175&quot;</td><td>&quot;2016-01-15&quot;</td><td>&quot;MARRIED&quot;</td><td>&quot;POS&quot;</td><td>false</td><td>null</td><td>60000.00</td><td>6.00</td><td>0</td><td>11158.40</td><td>12.00</td><td>&quot;P177_117_192&quot;</td><td>&quot;a55475b1&quot;</td><td>&quot;a55475b1&quot;</td><td>&quot;a55475b1&quot;</td><td>null</td><td>&quot;A&quot;</td><td>12.00</td></tr><tr><td>41282</td><td>0.00</td><td>4917.20</td><td>null</td><td>&quot;P94_109_143&quot;</td><td>null</td><td>null</td><td>0.00</td><td>null</td><td>null</td><td>null</td><td>null</td><td>80000.00</td><td>&quot;CAL&quot;</td><td>null</td><td>&quot;a55475b1&quot;</td><td>0.00</td><td>null</td><td>null</td><td>&quot;a55475b1&quot;</td><td>null</td><td>null</td><td>&quot;CASH&quot;</td><td>false</td><td>null</td><td>36000.00</td><td>null</td><td>0</td><td>null</td><td>36.00</td><td>&quot;P46_145_78&quot;</td><td>&quot;a55475b1&quot;</td><td>&quot;P198_131_9&quot;</td><td>&quot;P94_109_143&quot;</td><td>null</td><td>&quot;D&quot;</td><td>36.00</td></tr></tbody></table></div>"
      ],
      "text/plain": [
       "shape: (1_000, 37)\n",
       "┌─────────┬────────────┬───────────┬───────────┬───┬───────────┬───────────┬───────────┬───────────┐\n",
       "│ case_id ┆ actualdpd_ ┆ annuity_8 ┆ byoccupat ┆ … ┆ rejectrea ┆ revolving ┆ status_21 ┆ tenor_203 │\n",
       "│ ---     ┆ 943P       ┆ 53A       ┆ ioninc_36 ┆   ┆ sonclient ┆ account_3 ┆ 9L        ┆ L         │\n",
       "│ i32     ┆ (Days Past ┆ (Monthly  ┆ 56910L    ┆   ┆ _4145042M ┆ 94A       ┆ (Previous ┆ (Number   │\n",
       "│         ┆ Due (DPD)  ┆ annuity   ┆ (Applican ┆   ┆ (Reason   ┆ (Revolvin ┆ applicati ┆ of instal │\n",
       "│         ┆ of         ┆ for       ┆ t's       ┆   ┆ for       ┆ g account ┆ on        ┆ ments in  │\n",
       "│         ┆ previous   ┆ previous  ┆ income    ┆   ┆ rejection ┆ that was  ┆ status.)  ┆ the       │\n",
       "│         ┆ contract   ┆ applicati ┆ from      ┆   ┆ of the    ┆ present   ┆ ---       ┆ previous  │\n",
       "│         ┆ (actual).) ┆ ons.)     ┆ previous  ┆   ┆ client's  ┆ in the    ┆ str       ┆ applicati │\n",
       "│         ┆ ---        ┆ ---       ┆ applicati ┆   ┆ previous  ┆ applicant ┆           ┆ on.)      │\n",
       "│         ┆ f32        ┆ f32       ┆ ons.)     ┆   ┆ applicati ┆ 's        ┆           ┆ ---       │\n",
       "│         ┆            ┆           ┆ ---       ┆   ┆ on.)      ┆ previous  ┆           ┆ f32       │\n",
       "│         ┆            ┆           ┆ f32       ┆   ┆ ---       ┆ applicati ┆           ┆           │\n",
       "│         ┆            ┆           ┆           ┆   ┆ str       ┆ on.)      ┆           ┆           │\n",
       "│         ┆            ┆           ┆           ┆   ┆           ┆ ---       ┆           ┆           │\n",
       "│         ┆            ┆           ┆           ┆   ┆           ┆ f32       ┆           ┆           │\n",
       "╞═════════╪════════════╪═══════════╪═══════════╪═══╪═══════════╪═══════════╪═══════════╪═══════════╡\n",
       "│ 2       ┆ 0.00       ┆ 640.20    ┆ null      ┆ … ┆ a55475b1  ┆ null      ┆ D         ┆ 24.00     │\n",
       "│ 2       ┆ 0.00       ┆ 1682.40   ┆ null      ┆ … ┆ a55475b1  ┆ null      ┆ D         ┆ 12.00     │\n",
       "│ 3       ┆ 0.00       ┆ 6140.00   ┆ null      ┆ … ┆ a55475b1  ┆ null      ┆ D         ┆ 12.00     │\n",
       "│ 4       ┆ 0.00       ┆ 2556.60   ┆ null      ┆ … ┆ a55475b1  ┆ null      ┆ T         ┆ 24.00     │\n",
       "│ 5       ┆ 0.00       ┆ null      ┆ null      ┆ … ┆ a55475b1  ┆ null      ┆ T         ┆ null      │\n",
       "│ …       ┆ …          ┆ …         ┆ …         ┆ … ┆ …         ┆ …         ┆ …         ┆ …         │\n",
       "│ 41277   ┆ 0.00       ┆ 0.00      ┆ null      ┆ … ┆ P94_109_1 ┆ null      ┆ D         ┆ null      │\n",
       "│         ┆            ┆           ┆           ┆   ┆ 43        ┆           ┆           ┆           │\n",
       "│ 41277   ┆ 0.00       ┆ 13831.80  ┆ null      ┆ … ┆ P94_109_1 ┆ null      ┆ D         ┆ 18.00     │\n",
       "│         ┆            ┆           ┆           ┆   ┆ 43        ┆           ┆           ┆           │\n",
       "│ 41279   ┆ 0.00       ┆ 0.00      ┆ null      ┆ … ┆ P94_109_1 ┆ null      ┆ D         ┆ null      │\n",
       "│         ┆            ┆           ┆           ┆   ┆ 43        ┆           ┆           ┆           │\n",
       "│ 41281   ┆ 0.00       ┆ 1240.00   ┆ null      ┆ … ┆ a55475b1  ┆ null      ┆ A         ┆ 12.00     │\n",
       "│ 41282   ┆ 0.00       ┆ 4917.20   ┆ null      ┆ … ┆ P94_109_1 ┆ null      ┆ D         ┆ 36.00     │\n",
       "│         ┆            ┆           ┆           ┆   ┆ 43        ┆           ┆           ┆           │\n",
       "└─────────┴────────────┴───────────┴───────────┴───┴───────────┴───────────┴───────────┴───────────┘"
      ]
     },
     "execution_count": 10,
     "metadata": {},
     "output_type": "execute_result"
    }
   ],
   "source": [
    "train_applprev_1 = (\n",
    "    pl.scan_parquet(path_to_train/all_train_files[0])\n",
    "    .drop(cs.contains(\"date\"))\n",
    ")\n",
    "train_applprev_2 = (\n",
    "    pl.scan_parquet(path_to_train/all_train_files[1])\n",
    "    .drop(cs.contains(\"date\"))\n",
    ")\n",
    "train_previous_application = (\n",
    "    pl.concat(items=[train_applprev_1,train_applprev_2],how=\"vertical\",rechunk=True)\n",
    "    .with_columns(\n",
    "        pl.all().shrink_dtype()\n",
    "    )\n",
    "    .pipe(rename_to_full)\n",
    ")\n",
    "train_previous_application.fetch()"
   ]
  },
  {
   "cell_type": "code",
   "execution_count": 11,
   "metadata": {},
   "outputs": [
    {
     "data": {
      "text/html": [
       "<div><style>\n",
       ".dataframe > thead > tr,\n",
       ".dataframe > tbody > tr {\n",
       "  text-align: right;\n",
       "  white-space: pre-wrap;\n",
       "}\n",
       "</style>\n",
       "<small>shape: (500, 6)</small><table border=\"1\" class=\"dataframe\"><thead><tr><th>case_id</th><th>cacccardblochreas_147M\n",
       "(Card blocking reason.)</th><th>conts_type_509L\n",
       "(Person contact type in previous application.)</th><th>credacc_cards_status_52L\n",
       "(Card status of the previous credit account.)</th><th>num_group1</th><th>num_group2</th></tr><tr><td>i16</td><td>str</td><td>str</td><td>str</td><td>i8</td><td>i8</td></tr></thead><tbody><tr><td>2</td><td>null</td><td>&quot;EMPLOYMENT_PHONE&quot;</td><td>null</td><td>1</td><td>1</td></tr><tr><td>2</td><td>null</td><td>&quot;EMPLOYMENT_PHONE&quot;</td><td>null</td><td>0</td><td>1</td></tr><tr><td>2</td><td>null</td><td>&quot;PRIMARY_MOBILE&quot;</td><td>null</td><td>0</td><td>0</td></tr><tr><td>2</td><td>null</td><td>&quot;PRIMARY_MOBILE&quot;</td><td>null</td><td>1</td><td>0</td></tr><tr><td>3</td><td>null</td><td>&quot;PRIMARY_MOBILE&quot;</td><td>null</td><td>0</td><td>1</td></tr><tr><td>&hellip;</td><td>&hellip;</td><td>&hellip;</td><td>&hellip;</td><td>&hellip;</td><td>&hellip;</td></tr><tr><td>237</td><td>null</td><td>&quot;PRIMARY_MOBILE&quot;</td><td>null</td><td>5</td><td>0</td></tr><tr><td>237</td><td>null</td><td>&quot;PRIMARY_MOBILE&quot;</td><td>null</td><td>4</td><td>0</td></tr><tr><td>237</td><td>null</td><td>&quot;PRIMARY_MOBILE&quot;</td><td>null</td><td>7</td><td>0</td></tr><tr><td>238</td><td>null</td><td>&quot;PRIMARY_MOBILE&quot;</td><td>null</td><td>3</td><td>0</td></tr><tr><td>238</td><td>null</td><td>&quot;PRIMARY_MOBILE&quot;</td><td>null</td><td>4</td><td>2</td></tr></tbody></table></div>"
      ],
      "text/plain": [
       "shape: (500, 6)\n",
       "┌─────────┬────────────────────┬────────────────────┬────────────────────┬────────────┬────────────┐\n",
       "│ case_id ┆ cacccardblochreas_ ┆ conts_type_509L    ┆ credacc_cards_stat ┆ num_group1 ┆ num_group2 │\n",
       "│ ---     ┆ 147M               ┆ (Person contact    ┆ us_52L             ┆ ---        ┆ ---        │\n",
       "│ i16     ┆ (Card blocking     ┆ type in previous   ┆ (Card status of    ┆ i8         ┆ i8         │\n",
       "│         ┆ reason.)           ┆ application.)      ┆ the previous       ┆            ┆            │\n",
       "│         ┆ ---                ┆ ---                ┆ credit account.)   ┆            ┆            │\n",
       "│         ┆ str                ┆ str                ┆ ---                ┆            ┆            │\n",
       "│         ┆                    ┆                    ┆ str                ┆            ┆            │\n",
       "╞═════════╪════════════════════╪════════════════════╪════════════════════╪════════════╪════════════╡\n",
       "│ 2       ┆ null               ┆ EMPLOYMENT_PHONE   ┆ null               ┆ 1          ┆ 1          │\n",
       "│ 2       ┆ null               ┆ EMPLOYMENT_PHONE   ┆ null               ┆ 0          ┆ 1          │\n",
       "│ 2       ┆ null               ┆ PRIMARY_MOBILE     ┆ null               ┆ 0          ┆ 0          │\n",
       "│ 2       ┆ null               ┆ PRIMARY_MOBILE     ┆ null               ┆ 1          ┆ 0          │\n",
       "│ 3       ┆ null               ┆ PRIMARY_MOBILE     ┆ null               ┆ 0          ┆ 1          │\n",
       "│ …       ┆ …                  ┆ …                  ┆ …                  ┆ …          ┆ …          │\n",
       "│ 237     ┆ null               ┆ PRIMARY_MOBILE     ┆ null               ┆ 5          ┆ 0          │\n",
       "│ 237     ┆ null               ┆ PRIMARY_MOBILE     ┆ null               ┆ 4          ┆ 0          │\n",
       "│ 237     ┆ null               ┆ PRIMARY_MOBILE     ┆ null               ┆ 7          ┆ 0          │\n",
       "│ 238     ┆ null               ┆ PRIMARY_MOBILE     ┆ null               ┆ 3          ┆ 0          │\n",
       "│ 238     ┆ null               ┆ PRIMARY_MOBILE     ┆ null               ┆ 4          ┆ 2          │\n",
       "└─────────┴────────────────────┴────────────────────┴────────────────────┴────────────┴────────────┘"
      ]
     },
     "execution_count": 11,
     "metadata": {},
     "output_type": "execute_result"
    }
   ],
   "source": [
    "train_previous_application_status = (\n",
    "    pl.scan_parquet(path_to_train/all_train_files[2])\n",
    "    .drop(cs.contains(\"date\"))\n",
    "    .with_columns(\n",
    "        pl.all().shrink_dtype()\n",
    "    )\n",
    "    .pipe(rename_to_full)\n",
    ")\n",
    "train_previous_application_status.fetch()"
   ]
  },
  {
   "cell_type": "code",
   "execution_count": null,
   "metadata": {},
   "outputs": [],
   "source": []
  }
 ],
 "metadata": {
  "kernelspec": {
   "display_name": "base",
   "language": "python",
   "name": "python3"
  },
  "language_info": {
   "codemirror_mode": {
    "name": "ipython",
    "version": 3
   },
   "file_extension": ".py",
   "mimetype": "text/x-python",
   "name": "python",
   "nbconvert_exporter": "python",
   "pygments_lexer": "ipython3",
   "version": "3.11.7"
  }
 },
 "nbformat": 4,
 "nbformat_minor": 2
}
