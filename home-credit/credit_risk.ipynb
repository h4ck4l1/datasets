{
 "cells": [
  {
   "cell_type": "code",
   "execution_count": 1,
   "metadata": {},
   "outputs": [
    {
     "name": "stdout",
     "output_type": "stream",
     "text": [
      "Exception reporting mode: Minimal\n"
     ]
    }
   ],
   "source": [
    "import os,sys,warnings,re,math,gc,time\n",
    "os.environ[\"TF_CPP_MIN_LOG_LEVEL\"] = \"3\"\n",
    "os.environ[\"KERAS_BACKEND\"] = \"tensorflow\"\n",
    "warnings.filterwarnings('ignore')\n",
    "import numpy as np\n",
    "import pandas as pd\n",
    "import polars as pl\n",
    "import polars.selectors as cs\n",
    "from glob import glob\n",
    "from sklearn.metrics import roc_auc_score,auc\n",
    "from sklearn.neighbors import KNeighborsClassifier\n",
    "from sklearn.model_selection import train_test_split,StratifiedKFold,StratifiedGroupKFold\n",
    "from sklearn.preprocessing import OrdinalEncoder\n",
    "from sklearn.model_selection import GridSearchCV\n",
    "import lightgbm as lgb\n",
    "import tensorflow as tf\n",
    "import keras\n",
    "tf.get_logger().setLevel(\"ERROR\")\n",
    "%xmode Minimal"
   ]
  },
  {
   "cell_type": "code",
   "execution_count": 2,
   "metadata": {},
   "outputs": [
    {
     "data": {
      "text/plain": [
       "polars.config.Config"
      ]
     },
     "execution_count": 2,
     "metadata": {},
     "output_type": "execute_result"
    }
   ],
   "source": [
    "pl.Config.set_fmt_str_lengths(100)\n",
    "pl.Config.set_thousands_separator(\",\")\n",
    "pl.Config.set_fmt_float(\"full\")\n",
    "pl.Config.set_tbl_rows(6)"
   ]
  },
  {
   "cell_type": "code",
   "execution_count": 3,
   "metadata": {},
   "outputs": [],
   "source": [
    "path_to_train = \"Downloads/credit_risk/train\"\n",
    "path_to_test = \"Downloads/credit_risk/test\"\n",
    "path_to_features = \"Downloads/feature_definitions.csv\""
   ]
  },
  {
   "cell_type": "code",
   "execution_count": 4,
   "metadata": {},
   "outputs": [
    {
     "data": {
      "text/html": [
       "<div><style>\n",
       ".dataframe > thead > tr,\n",
       ".dataframe > tbody > tr {\n",
       "  text-align: right;\n",
       "  white-space: pre-wrap;\n",
       "}\n",
       "</style>\n",
       "<small>shape: (5, 2)</small><table border=\"1\" class=\"dataframe\"><thead><tr><th>Variable</th><th>Description</th></tr><tr><td>str</td><td>str</td></tr></thead><tbody><tr><td>&quot;actualdpd_943P&quot;</td><td>&quot;Days Past Due (DPD) of previous contract (actual).&quot;</td></tr><tr><td>&quot;actualdpdtolerance_344P&quot;</td><td>&quot;DPD of client with tolerance.&quot;</td></tr><tr><td>&quot;addres_district_368M&quot;</td><td>&quot;District of the person&#x27;s address.&quot;</td></tr><tr><td>&quot;addres_role_871L&quot;</td><td>&quot;Role of person&#x27;s address.&quot;</td></tr><tr><td>&quot;addres_zip_823M&quot;</td><td>&quot;Zip code of the address.&quot;</td></tr></tbody></table></div>"
      ],
      "text/plain": [
       "shape: (5, 2)\n",
       "┌─────────────────────────┬────────────────────────────────────────────────────┐\n",
       "│ Variable                ┆ Description                                        │\n",
       "│ ---                     ┆ ---                                                │\n",
       "│ str                     ┆ str                                                │\n",
       "╞═════════════════════════╪════════════════════════════════════════════════════╡\n",
       "│ actualdpd_943P          ┆ Days Past Due (DPD) of previous contract (actual). │\n",
       "│ actualdpdtolerance_344P ┆ DPD of client with tolerance.                      │\n",
       "│ addres_district_368M    ┆ District of the person's address.                  │\n",
       "│ addres_role_871L        ┆ Role of person's address.                          │\n",
       "│ addres_zip_823M         ┆ Zip code of the address.                           │\n",
       "└─────────────────────────┴────────────────────────────────────────────────────┘"
      ]
     },
     "execution_count": 4,
     "metadata": {},
     "output_type": "execute_result"
    }
   ],
   "source": [
    "feat_df = pl.read_csv(path_to_features)\n",
    "feat_df.head()"
   ]
  },
  {
   "cell_type": "code",
   "execution_count": 5,
   "metadata": {},
   "outputs": [
    {
     "data": {
      "text/html": [
       "<div><style>\n",
       ".dataframe > thead > tr,\n",
       ".dataframe > tbody > tr {\n",
       "  text-align: right;\n",
       "  white-space: pre-wrap;\n",
       "}\n",
       "</style>\n",
       "<small>shape: (5, 3)</small><table border=\"1\" class=\"dataframe\"><thead><tr><th>index</th><th>path</th><th>filename</th></tr><tr><td>i64</td><td>str</td><td>str</td></tr></thead><tbody><tr><td>31</td><td>&quot;Downloads/credit_risk/train/train_applprev_1_0.parquet&quot;</td><td>&quot;train_applprev_1_0.parquet&quot;</td></tr><tr><td>13</td><td>&quot;Downloads/credit_risk/train/train_applprev_1_1.parquet&quot;</td><td>&quot;train_applprev_1_1.parquet&quot;</td></tr><tr><td>0</td><td>&quot;Downloads/credit_risk/train/train_applprev_2.parquet&quot;</td><td>&quot;train_applprev_2.parquet&quot;</td></tr><tr><td>7</td><td>&quot;Downloads/credit_risk/train/train_base.parquet&quot;</td><td>&quot;train_base.parquet&quot;</td></tr><tr><td>11</td><td>&quot;Downloads/credit_risk/train/train_credit_bureau_a_1_0.parquet&quot;</td><td>&quot;train_credit_bureau_a_1_0.parquet&quot;</td></tr></tbody></table></div>"
      ],
      "text/plain": [
       "shape: (5, 3)\n",
       "┌───────┬──────────────────────────────────────────────────────┬───────────────────────────────────┐\n",
       "│ index ┆ path                                                 ┆ filename                          │\n",
       "│ ---   ┆ ---                                                  ┆ ---                               │\n",
       "│ i64   ┆ str                                                  ┆ str                               │\n",
       "╞═══════╪══════════════════════════════════════════════════════╪═══════════════════════════════════╡\n",
       "│ 31    ┆ Downloads/credit_risk/train/train_applprev_1_0.parqu ┆ train_applprev_1_0.parquet        │\n",
       "│       ┆ et                                                   ┆                                   │\n",
       "│ 13    ┆ Downloads/credit_risk/train/train_applprev_1_1.parqu ┆ train_applprev_1_1.parquet        │\n",
       "│       ┆ et                                                   ┆                                   │\n",
       "│ 0     ┆ Downloads/credit_risk/train/train_applprev_2.parquet ┆ train_applprev_2.parquet          │\n",
       "│ 7     ┆ Downloads/credit_risk/train/train_base.parquet       ┆ train_base.parquet                │\n",
       "│ 11    ┆ Downloads/credit_risk/train/train_credit_bureau_a_1_ ┆ train_credit_bureau_a_1_0.parquet │\n",
       "│       ┆ 0.parquet                                            ┆                                   │\n",
       "└───────┴──────────────────────────────────────────────────────┴───────────────────────────────────┘"
      ]
     },
     "metadata": {},
     "output_type": "display_data"
    },
    {
     "data": {
      "text/html": [
       "<div><style>\n",
       ".dataframe > thead > tr,\n",
       ".dataframe > tbody > tr {\n",
       "  text-align: right;\n",
       "  white-space: pre-wrap;\n",
       "}\n",
       "</style>\n",
       "<small>shape: (5, 3)</small><table border=\"1\" class=\"dataframe\"><thead><tr><th>index</th><th>path</th><th>filename</th></tr><tr><td>i64</td><td>str</td><td>str</td></tr></thead><tbody><tr><td>31</td><td>&quot;Downloads/credit_risk/test/test_applprev_1_0.parquet&quot;</td><td>&quot;test_applprev_1_0.parquet&quot;</td></tr><tr><td>35</td><td>&quot;Downloads/credit_risk/test/test_applprev_1_1.parquet&quot;</td><td>&quot;test_applprev_1_1.parquet&quot;</td></tr><tr><td>9</td><td>&quot;Downloads/credit_risk/test/test_applprev_1_2.parquet&quot;</td><td>&quot;test_applprev_1_2.parquet&quot;</td></tr><tr><td>1</td><td>&quot;Downloads/credit_risk/test/test_applprev_2.parquet&quot;</td><td>&quot;test_applprev_2.parquet&quot;</td></tr><tr><td>33</td><td>&quot;Downloads/credit_risk/test/test_base.parquet&quot;</td><td>&quot;test_base.parquet&quot;</td></tr></tbody></table></div>"
      ],
      "text/plain": [
       "shape: (5, 3)\n",
       "┌───────┬──────────────────────────────────────────────────────┬───────────────────────────┐\n",
       "│ index ┆ path                                                 ┆ filename                  │\n",
       "│ ---   ┆ ---                                                  ┆ ---                       │\n",
       "│ i64   ┆ str                                                  ┆ str                       │\n",
       "╞═══════╪══════════════════════════════════════════════════════╪═══════════════════════════╡\n",
       "│ 31    ┆ Downloads/credit_risk/test/test_applprev_1_0.parquet ┆ test_applprev_1_0.parquet │\n",
       "│ 35    ┆ Downloads/credit_risk/test/test_applprev_1_1.parquet ┆ test_applprev_1_1.parquet │\n",
       "│ 9     ┆ Downloads/credit_risk/test/test_applprev_1_2.parquet ┆ test_applprev_1_2.parquet │\n",
       "│ 1     ┆ Downloads/credit_risk/test/test_applprev_2.parquet   ┆ test_applprev_2.parquet   │\n",
       "│ 33    ┆ Downloads/credit_risk/test/test_base.parquet         ┆ test_base.parquet         │\n",
       "└───────┴──────────────────────────────────────────────────────┴───────────────────────────┘"
      ]
     },
     "metadata": {},
     "output_type": "display_data"
    }
   ],
   "source": [
    "all_train_files = glob(path_to_train+\"/*.parquet\")\n",
    "all_test_files = glob(path_to_test+\"/*.parquet\")\n",
    "train_files_df = pl.DataFrame({\"index\":range(len(all_train_files)),\"path\":all_train_files})\n",
    "test_files_df = pl.DataFrame({\"index\":range(len(all_test_files)),\"path\":all_test_files})\n",
    "train_files_df = (\n",
    "    train_files_df\n",
    "    .with_columns(\n",
    "        (pl.col(\"path\").str.split(\"/\").list.get(-1)).alias(\"filename\")\n",
    "    )\n",
    "    .sort(by=\"filename\")\n",
    ")\n",
    "test_files_df = (\n",
    "    test_files_df\n",
    "    .with_columns(\n",
    "        (pl.col(\"path\").str.split(\"/\").list.get(-1)).alias(\"filename\")\n",
    "    )\n",
    "    .sort(by=\"filename\")\n",
    ")\n",
    "display(train_files_df.head())\n",
    "display(test_files_df.head())"
   ]
  },
  {
   "cell_type": "code",
   "execution_count": 6,
   "metadata": {},
   "outputs": [
    {
     "data": {
      "text/html": [
       "<div><style>\n",
       ".dataframe > thead > tr,\n",
       ".dataframe > tbody > tr {\n",
       "  text-align: right;\n",
       "  white-space: pre-wrap;\n",
       "}\n",
       "</style>\n",
       "<small>shape: (1_526_659, 7)</small><table border=\"1\" class=\"dataframe\"><thead><tr><th>case_id_base</th><th>Date</th><th>month</th><th>week</th><th>weekday</th><th>year</th><th>target</th></tr><tr><td>u32</td><td>date</td><td>i8</td><td>i8</td><td>i8</td><td>i32</td><td>u8</td></tr></thead><tbody><tr><td>0</td><td>2019-01-03</td><td>1</td><td>1</td><td>4</td><td>0</td><td>0</td></tr><tr><td>1</td><td>2019-01-03</td><td>1</td><td>1</td><td>4</td><td>0</td><td>0</td></tr><tr><td>2</td><td>2019-01-04</td><td>1</td><td>1</td><td>5</td><td>0</td><td>0</td></tr><tr><td>&hellip;</td><td>&hellip;</td><td>&hellip;</td><td>&hellip;</td><td>&hellip;</td><td>&hellip;</td><td>&hellip;</td></tr><tr><td>2,703,452</td><td>2020-10-05</td><td>10</td><td>41</td><td>1</td><td>1</td><td>0</td></tr><tr><td>2,703,453</td><td>2020-10-05</td><td>10</td><td>41</td><td>1</td><td>1</td><td>0</td></tr><tr><td>2,703,454</td><td>2020-10-05</td><td>10</td><td>41</td><td>1</td><td>1</td><td>0</td></tr></tbody></table></div>"
      ],
      "text/plain": [
       "shape: (1_526_659, 7)\n",
       "┌──────────────┬────────────┬───────┬──────┬─────────┬──────┬────────┐\n",
       "│ case_id_base ┆ Date       ┆ month ┆ week ┆ weekday ┆ year ┆ target │\n",
       "│ ---          ┆ ---        ┆ ---   ┆ ---  ┆ ---     ┆ ---  ┆ ---    │\n",
       "│ u32          ┆ date       ┆ i8    ┆ i8   ┆ i8      ┆ i32  ┆ u8     │\n",
       "╞══════════════╪════════════╪═══════╪══════╪═════════╪══════╪════════╡\n",
       "│ 0            ┆ 2019-01-03 ┆ 1     ┆ 1    ┆ 4       ┆ 0    ┆ 0      │\n",
       "│ 1            ┆ 2019-01-03 ┆ 1     ┆ 1    ┆ 4       ┆ 0    ┆ 0      │\n",
       "│ 2            ┆ 2019-01-04 ┆ 1     ┆ 1    ┆ 5       ┆ 0    ┆ 0      │\n",
       "│ …            ┆ …          ┆ …     ┆ …    ┆ …       ┆ …    ┆ …      │\n",
       "│ 2,703,452    ┆ 2020-10-05 ┆ 10    ┆ 41   ┆ 1       ┆ 1    ┆ 0      │\n",
       "│ 2,703,453    ┆ 2020-10-05 ┆ 10    ┆ 41   ┆ 1       ┆ 1    ┆ 0      │\n",
       "│ 2,703,454    ┆ 2020-10-05 ┆ 10    ┆ 41   ┆ 1       ┆ 1    ┆ 0      │\n",
       "└──────────────┴────────────┴───────┴──────┴─────────┴──────┴────────┘"
      ]
     },
     "execution_count": 6,
     "metadata": {},
     "output_type": "execute_result"
    }
   ],
   "source": [
    "train_base = (\n",
    "    pl.read_parquet(path_to_train+\"/train_base.parquet\")\n",
    "    .select(\n",
    "        pl.col(\"case_id\").cast(pl.UInt32).alias(\"case_id_base\"),\n",
    "        cs.contains(\"date\").str.to_date().alias(\"Date\"),\n",
    "        pl.col(\"target\").cast(pl.UInt8)\n",
    "    )\n",
    "    .with_columns(\n",
    "        pl.col(\"Date\").dt.month().alias(\"month\"),\n",
    "        pl.col(\"Date\").dt.week().alias(\"week\"),\n",
    "        pl.col(\"Date\").dt.weekday().alias(\"weekday\"),\n",
    "        (pl.col(\"Date\").dt.year() - 2019).alias(\"year\")\n",
    "    )\n",
    "    .select(~cs.contains(\"target\"),cs.contains(\"target\"))\n",
    ")\n",
    "train_base"
   ]
  },
  {
   "cell_type": "code",
   "execution_count": 7,
   "metadata": {},
   "outputs": [
    {
     "data": {
      "text/html": [
       "<div><style>\n",
       ".dataframe > thead > tr,\n",
       ".dataframe > tbody > tr {\n",
       "  text-align: right;\n",
       "  white-space: pre-wrap;\n",
       "}\n",
       "</style>\n",
       "<small>shape: (10, 7)</small><table border=\"1\" class=\"dataframe\"><thead><tr><th>case_id_base</th><th>Date</th><th>month</th><th>week</th><th>weekday</th><th>year</th><th>target</th></tr><tr><td>u32</td><td>date</td><td>i8</td><td>i8</td><td>i8</td><td>i32</td><td>u8</td></tr></thead><tbody><tr><td>57,543</td><td>2020-10-06</td><td>10</td><td>41</td><td>2</td><td>1</td><td>0</td></tr><tr><td>57,549</td><td>2020-10-06</td><td>10</td><td>41</td><td>2</td><td>1</td><td>0</td></tr><tr><td>57,551</td><td>2020-10-06</td><td>10</td><td>41</td><td>2</td><td>1</td><td>0</td></tr><tr><td>&hellip;</td><td>&hellip;</td><td>&hellip;</td><td>&hellip;</td><td>&hellip;</td><td>&hellip;</td><td>&hellip;</td></tr><tr><td>57,632</td><td>2020-10-06</td><td>10</td><td>41</td><td>2</td><td>1</td><td>0</td></tr><tr><td>57,633</td><td>2020-10-06</td><td>10</td><td>41</td><td>2</td><td>1</td><td>0</td></tr><tr><td>57,634</td><td>2020-10-06</td><td>10</td><td>41</td><td>2</td><td>1</td><td>0</td></tr></tbody></table></div>"
      ],
      "text/plain": [
       "shape: (10, 7)\n",
       "┌──────────────┬────────────┬───────┬──────┬─────────┬──────┬────────┐\n",
       "│ case_id_base ┆ Date       ┆ month ┆ week ┆ weekday ┆ year ┆ target │\n",
       "│ ---          ┆ ---        ┆ ---   ┆ ---  ┆ ---     ┆ ---  ┆ ---    │\n",
       "│ u32          ┆ date       ┆ i8    ┆ i8   ┆ i8      ┆ i32  ┆ u8     │\n",
       "╞══════════════╪════════════╪═══════╪══════╪═════════╪══════╪════════╡\n",
       "│ 57,543       ┆ 2020-10-06 ┆ 10    ┆ 41   ┆ 2       ┆ 1    ┆ 0      │\n",
       "│ 57,549       ┆ 2020-10-06 ┆ 10    ┆ 41   ┆ 2       ┆ 1    ┆ 0      │\n",
       "│ 57,551       ┆ 2020-10-06 ┆ 10    ┆ 41   ┆ 2       ┆ 1    ┆ 0      │\n",
       "│ …            ┆ …          ┆ …     ┆ …    ┆ …       ┆ …    ┆ …      │\n",
       "│ 57,632       ┆ 2020-10-06 ┆ 10    ┆ 41   ┆ 2       ┆ 1    ┆ 0      │\n",
       "│ 57,633       ┆ 2020-10-06 ┆ 10    ┆ 41   ┆ 2       ┆ 1    ┆ 0      │\n",
       "│ 57,634       ┆ 2020-10-06 ┆ 10    ┆ 41   ┆ 2       ┆ 1    ┆ 0      │\n",
       "└──────────────┴────────────┴───────┴──────┴─────────┴──────┴────────┘"
      ]
     },
     "execution_count": 7,
     "metadata": {},
     "output_type": "execute_result"
    }
   ],
   "source": [
    "test_base = (\n",
    "    pl.read_parquet(path_to_test+\"/test_base.parquet\")\n",
    "    .select(\n",
    "        pl.col(\"case_id\").cast(pl.UInt32).alias(\"case_id_base\"),\n",
    "        cs.contains(\"date\").str.to_date().alias(\"Date\"),\n",
    "    )\n",
    "    .with_columns(\n",
    "        pl.col(\"Date\").dt.month().alias(\"month\"),\n",
    "        pl.col(\"Date\").dt.week().alias(\"week\"),\n",
    "        pl.col(\"Date\").dt.weekday().alias(\"weekday\"),\n",
    "        (pl.col(\"Date\").dt.year() - 2019).alias(\"year\"),\n",
    "        pl.lit(0).cast(pl.UInt8).alias(\"target\")\n",
    "    )\n",
    ")\n",
    "test_base"
   ]
  },
  {
   "cell_type": "code",
   "execution_count": 8,
   "metadata": {},
   "outputs": [],
   "source": [
    "total_base = (\n",
    "    pl.concat(\n",
    "        [\n",
    "            train_base,\n",
    "            test_base\n",
    "        ],\n",
    "        how=\"vertical\"\n",
    "    )\n",
    ")"
   ]
  },
  {
   "cell_type": "code",
   "execution_count": 9,
   "metadata": {},
   "outputs": [],
   "source": [
    "def reduce_dtypes(df:pl.DataFrame):\n",
    "    return (\n",
    "        df\n",
    "        .with_columns(\n",
    "            cs.by_name(\"case_id\").cast(pl.UInt32),\n",
    "            cs.contains(\"num_group\").cast(pl.UInt16),\n",
    "            cs.ends_with(\"D\").cast(pl.Date),\n",
    "            cs.ends_with(\"T\",\"M\").cast(pl.String),\n",
    "            cs.ends_with(\"P\",\"A\").cast(pl.Float32),\n",
    "            (cs.ends_with(\"L\") & cs.numeric()).cast(pl.Float32),\n",
    "        )\n",
    "    )\n",
    "\n",
    "def grouping(df):\n",
    "    return (\n",
    "        df\n",
    "        .group_by(\"case_id\")\n",
    "        .agg(\n",
    "            cs.numeric().max(),\n",
    "            (~cs.numeric()).drop_nulls().mode().first()\n",
    "        )\n",
    "    )\n",
    "\n",
    "def preprocess(filter_string:str,prefix_string:str):\n",
    "    train_files_list = train_files_df.filter(pl.col(\"filename\").str.contains(filter_string))[\"path\"].to_list()\n",
    "    test_files_list = test_files_df.filter(pl.col(\"filename\").str.contains(filter_string))[\"path\"].to_list()\n",
    "    with pl.StringCache():\n",
    "        train_df = (\n",
    "            pl.concat(\n",
    "                [\n",
    "                    pl.read_parquet(_).pipe(reduce_dtypes).pipe(grouping) for _ in train_files_list\n",
    "                ]\n",
    "            )\n",
    "        )\n",
    "        test_df = (\n",
    "            pl.concat(\n",
    "                [\n",
    "                    pl.read_parquet(_).select(train_df.columns).cast(train_df.schema).pipe(grouping) for _ in test_files_list\n",
    "                ]\n",
    "            )\n",
    "        )\n",
    "    return (\n",
    "        pl.concat(\n",
    "            [\n",
    "                train_df,\n",
    "                test_df\n",
    "            ],\n",
    "            how=\"vertical_relaxed\"\n",
    "        )\n",
    "        .pipe(lambda df: df.rename({_:f\"{prefix_string}_{_}\" for _ in df.columns if not _ == 'case_id'}))\n",
    "    )\n",
    "\n",
    "\n",
    "def select_impuatable(df:pl.DataFrame,thresh=0.95):\n",
    "    cols =  (\n",
    "        df\n",
    "        .select(pl.all().is_null().mean())\n",
    "        .transpose(include_header=True)\n",
    "        .filter(pl.col(\"column_0\") < thresh)\n",
    "        [\"column\"].to_list()\n",
    "    )\n",
    "    return df.select(cols)"
   ]
  },
  {
   "cell_type": "code",
   "execution_count": 10,
   "metadata": {},
   "outputs": [],
   "source": [
    "total_past_shallow = preprocess(\"applprev_1\",\"past_shallow\")\n",
    "total_past_shallow"
   ]
  },
  {
   "cell_type": "code",
   "execution_count": null,
   "metadata": {},
   "outputs": [
    {
     "data": {
      "text/html": [
       "<div><style>\n",
       ".dataframe > thead > tr,\n",
       ".dataframe > tbody > tr {\n",
       "  text-align: right;\n",
       "  white-space: pre-wrap;\n",
       "}\n",
       "</style>\n",
       "<small>shape: (1_221_526, 6)</small><table border=\"1\" class=\"dataframe\"><thead><tr><th>case_id</th><th>past_depth_num_group1</th><th>past_depth_num_group2</th><th>past_depth_cacccardblochreas_147M</th><th>past_depth_conts_type_509L</th><th>past_depth_credacc_cards_status_52L</th></tr><tr><td>u32</td><td>u16</td><td>u16</td><td>str</td><td>str</td><td>str</td></tr></thead><tbody><tr><td>1,434,046</td><td>2</td><td>3</td><td>&quot;a55475b1&quot;</td><td>&quot;PRIMARY_MOBILE&quot;</td><td>null</td></tr><tr><td>1,487,381</td><td>5</td><td>2</td><td>&quot;a55475b1&quot;</td><td>&quot;PRIMARY_MOBILE&quot;</td><td>null</td></tr><tr><td>1,352,644</td><td>1</td><td>2</td><td>&quot;a55475b1&quot;</td><td>&quot;PRIMARY_MOBILE&quot;</td><td>null</td></tr><tr><td>&hellip;</td><td>&hellip;</td><td>&hellip;</td><td>&hellip;</td><td>&hellip;</td><td>&hellip;</td></tr><tr><td>57,543</td><td>0</td><td>0</td><td>null</td><td>&quot;PRIMARY_MOBILE&quot;</td><td>null</td></tr><tr><td>57,551</td><td>1</td><td>1</td><td>null</td><td>&quot;PRIMARY_MOBILE&quot;</td><td>null</td></tr><tr><td>57,552</td><td>0</td><td>2</td><td>null</td><td>&quot;PRIMARY_MOBILE&quot;</td><td>null</td></tr></tbody></table></div>"
      ],
      "text/plain": [
       "shape: (1_221_526, 6)\n",
       "┌───────────┬─────────────────┬─────────────────┬────────────────┬────────────────┬────────────────┐\n",
       "│ case_id   ┆ past_depth_num_ ┆ past_depth_num_ ┆ past_depth_cac ┆ past_depth_con ┆ past_depth_cre │\n",
       "│ ---       ┆ group1          ┆ group2          ┆ ccardblochreas ┆ ts_type_509L   ┆ dacc_cards_sta │\n",
       "│ u32       ┆ ---             ┆ ---             ┆ _147M          ┆ ---            ┆ tus_52L        │\n",
       "│           ┆ u16             ┆ u16             ┆ ---            ┆ str            ┆ ---            │\n",
       "│           ┆                 ┆                 ┆ str            ┆                ┆ str            │\n",
       "╞═══════════╪═════════════════╪═════════════════╪════════════════╪════════════════╪════════════════╡\n",
       "│ 1,434,046 ┆ 2               ┆ 3               ┆ a55475b1       ┆ PRIMARY_MOBILE ┆ null           │\n",
       "│ 1,487,381 ┆ 5               ┆ 2               ┆ a55475b1       ┆ PRIMARY_MOBILE ┆ null           │\n",
       "│ 1,352,644 ┆ 1               ┆ 2               ┆ a55475b1       ┆ PRIMARY_MOBILE ┆ null           │\n",
       "│ …         ┆ …               ┆ …               ┆ …              ┆ …              ┆ …              │\n",
       "│ 57,543    ┆ 0               ┆ 0               ┆ null           ┆ PRIMARY_MOBILE ┆ null           │\n",
       "│ 57,551    ┆ 1               ┆ 1               ┆ null           ┆ PRIMARY_MOBILE ┆ null           │\n",
       "│ 57,552    ┆ 0               ┆ 2               ┆ null           ┆ PRIMARY_MOBILE ┆ null           │\n",
       "└───────────┴─────────────────┴─────────────────┴────────────────┴────────────────┴────────────────┘"
      ]
     },
     "execution_count": 11,
     "metadata": {},
     "output_type": "execute_result"
    }
   ],
   "source": [
    "total_past_depth = preprocess(\"applprev_2\",\"past_depth\")\n",
    "total_past_depth"
   ]
  },
  {
   "cell_type": "code",
   "execution_count": null,
   "metadata": {},
   "outputs": [
    {
     "data": {
      "text/html": [
       "<div><style>\n",
       ".dataframe > thead > tr,\n",
       ".dataframe > tbody > tr {\n",
       "  text-align: right;\n",
       "  white-space: pre-wrap;\n",
       "}\n",
       "</style>\n",
       "<small>shape: (1_526_689, 168)</small><table border=\"1\" class=\"dataframe\"><thead><tr><th>case_id</th><th>static_base_actualdpdtolerance_344P</th><th>static_base_amtinstpaidbefduel24m_4187115A</th><th>static_base_annuity_780A</th><th>static_base_annuitynextmonth_57A</th><th>static_base_applicationcnt_361L</th><th>static_base_applications30d_658L</th><th>static_base_applicationscnt_1086L</th><th>static_base_applicationscnt_464L</th><th>static_base_applicationscnt_629L</th><th>static_base_applicationscnt_867L</th><th>static_base_avgdbddpdlast24m_3658932P</th><th>static_base_avgdbddpdlast3m_4187120P</th><th>static_base_avgdbdtollast24m_4525197P</th><th>static_base_avgdpdtolclosure24_3658938P</th><th>static_base_avginstallast24m_3658937A</th><th>static_base_avglnamtstart24m_4525187A</th><th>static_base_avgmaxdpdlast9m_3716943P</th><th>static_base_avgoutstandbalancel6m_4187114A</th><th>static_base_avgpmtlast12m_4525200A</th><th>static_base_clientscnt12m_3712952L</th><th>static_base_clientscnt3m_3712950L</th><th>static_base_clientscnt6m_3712949L</th><th>static_base_clientscnt_100L</th><th>static_base_clientscnt_1022L</th><th>static_base_clientscnt_1071L</th><th>static_base_clientscnt_1130L</th><th>static_base_clientscnt_136L</th><th>static_base_clientscnt_157L</th><th>static_base_clientscnt_257L</th><th>static_base_clientscnt_304L</th><th>static_base_clientscnt_360L</th><th>static_base_clientscnt_493L</th><th>static_base_clientscnt_533L</th><th>static_base_clientscnt_887L</th><th>static_base_clientscnt_946L</th><th>static_base_cntincpaycont9m_3716944L</th><th>&hellip;</th><th>static_base_credtype_322L</th><th>static_base_datefirstoffer_1144D</th><th>static_base_datelastinstal40dpd_247D</th><th>static_base_datelastunpaid_3546854D</th><th>static_base_disbursementtype_67L</th><th>static_base_dtlastpmtallstes_4499206D</th><th>static_base_equalitydataagreement_891L</th><th>static_base_equalityempfrom_62L</th><th>static_base_firstclxcampaign_1125D</th><th>static_base_firstdatedue_489D</th><th>static_base_inittransactioncode_186L</th><th>static_base_isbidproduct_1095L</th><th>static_base_isbidproductrequest_292L</th><th>static_base_isdebitcard_729L</th><th>static_base_lastactivateddate_801D</th><th>static_base_lastapplicationdate_877D</th><th>static_base_lastapprcommoditycat_1041M</th><th>static_base_lastapprcommoditytypec_5251766M</th><th>static_base_lastapprdate_640D</th><th>static_base_lastcancelreason_561M</th><th>static_base_lastdelinqdate_224D</th><th>static_base_lastrejectcommoditycat_161M</th><th>static_base_lastrejectcommodtypec_5251769M</th><th>static_base_lastrejectdate_50D</th><th>static_base_lastrejectreason_759M</th><th>static_base_lastrejectreasonclient_4145040M</th><th>static_base_lastrepayingdate_696D</th><th>static_base_lastst_736L</th><th>static_base_maxdpdinstldate_3546855D</th><th>static_base_opencred_647L</th><th>static_base_paytype1st_925L</th><th>static_base_paytype_783L</th><th>static_base_payvacationpostpone_4187118D</th><th>static_base_previouscontdistrict_112M</th><th>static_base_twobodfilling_608L</th><th>static_base_typesuite_864L</th><th>static_base_validfrom_1069D</th></tr><tr><td>u32</td><td>f32</td><td>f32</td><td>f32</td><td>f32</td><td>f32</td><td>f32</td><td>f32</td><td>f32</td><td>f32</td><td>f32</td><td>f32</td><td>f32</td><td>f32</td><td>f32</td><td>f32</td><td>f32</td><td>f32</td><td>f32</td><td>f32</td><td>f32</td><td>f32</td><td>f32</td><td>f32</td><td>f32</td><td>f32</td><td>f32</td><td>f32</td><td>f32</td><td>f32</td><td>f32</td><td>f32</td><td>f32</td><td>f32</td><td>f32</td><td>f32</td><td>f32</td><td>&hellip;</td><td>str</td><td>date</td><td>date</td><td>date</td><td>str</td><td>date</td><td>bool</td><td>bool</td><td>date</td><td>date</td><td>str</td><td>bool</td><td>bool</td><td>bool</td><td>date</td><td>date</td><td>str</td><td>str</td><td>date</td><td>str</td><td>date</td><td>str</td><td>str</td><td>date</td><td>str</td><td>str</td><td>date</td><td>str</td><td>date</td><td>bool</td><td>str</td><td>str</td><td>date</td><td>str</td><td>str</td><td>str</td><td>date</td></tr></thead><tbody><tr><td>1,300,184</td><td>0</td><td>null</td><td>4,581</td><td>0</td><td>0</td><td>0</td><td>0</td><td>0</td><td>0</td><td>1</td><td>0</td><td>null</td><td>null</td><td>0</td><td>9,029</td><td>null</td><td>null</td><td>null</td><td>null</td><td>0</td><td>0</td><td>0</td><td>0</td><td>0</td><td>0</td><td>0</td><td>null</td><td>0</td><td>0</td><td>0</td><td>0</td><td>0</td><td>0</td><td>0</td><td>0</td><td>0</td><td>&hellip;</td><td>&quot;COL&quot;</td><td>null</td><td>null</td><td>2018-05-29</td><td>&quot;SBA&quot;</td><td>null</td><td>null</td><td>null</td><td>null</td><td>2017-12-29</td><td>&quot;POS&quot;</td><td>false</td><td>null</td><td>null</td><td>2018-01-29</td><td>2017-11-29</td><td>&quot;P159_130_59&quot;</td><td>&quot;a55475b1&quot;</td><td>2017-11-29</td><td>&quot;a55475b1&quot;</td><td>2018-05-29</td><td>&quot;a55475b1&quot;</td><td>&quot;a55475b1&quot;</td><td>null</td><td>&quot;a55475b1&quot;</td><td>&quot;a55475b1&quot;</td><td>null</td><td>&quot;K&quot;</td><td>2018-05-29</td><td>false</td><td>&quot;OTHER&quot;</td><td>&quot;OTHER&quot;</td><td>null</td><td>&quot;P192_103_107&quot;</td><td>&quot;FO&quot;</td><td>null</td><td>null</td></tr><tr><td>1,492,892</td><td>0</td><td>21,747</td><td>1,497.800048828125</td><td>0</td><td>0</td><td>0</td><td>0</td><td>0</td><td>0</td><td>2</td><td>-2</td><td>null</td><td>null</td><td>0</td><td>2,145.400146484375</td><td>null</td><td>0</td><td>null</td><td>null</td><td>0</td><td>0</td><td>0</td><td>0</td><td>0</td><td>0</td><td>0</td><td>null</td><td>0</td><td>0</td><td>0</td><td>0</td><td>0</td><td>0</td><td>0</td><td>0</td><td>1</td><td>&hellip;</td><td>&quot;COL&quot;</td><td>2016-03-01</td><td>null</td><td>2018-12-05</td><td>&quot;SBA&quot;</td><td>2018-12-06</td><td>null</td><td>null</td><td>2016-03-01</td><td>2015-05-11</td><td>&quot;POS&quot;</td><td>false</td><td>null</td><td>null</td><td>2018-01-11</td><td>2017-12-05</td><td>&quot;P159_130_59&quot;</td><td>&quot;a55475b1&quot;</td><td>2017-12-05</td><td>&quot;a55475b1&quot;</td><td>2018-12-05</td><td>&quot;a55475b1&quot;</td><td>&quot;a55475b1&quot;</td><td>null</td><td>&quot;a55475b1&quot;</td><td>&quot;a55475b1&quot;</td><td>null</td><td>&quot;K&quot;</td><td>2018-02-10</td><td>false</td><td>&quot;OTHER&quot;</td><td>&quot;OTHER&quot;</td><td>null</td><td>&quot;P98_137_111&quot;</td><td>&quot;FO&quot;</td><td>null</td><td>null</td></tr><tr><td>1,631,428</td><td>0</td><td>12,377</td><td>458.3999938964844</td><td>1,579.5999755859375</td><td>0</td><td>0</td><td>0</td><td>0</td><td>0</td><td>4</td><td>-5</td><td>-5</td><td>-5</td><td>0</td><td>1,074.5999755859375</td><td>9,996</td><td>0</td><td>28,420.373046875</td><td>1,074.5999755859375</td><td>0</td><td>0</td><td>0</td><td>0</td><td>1</td><td>0</td><td>0</td><td>null</td><td>0</td><td>0</td><td>0</td><td>0</td><td>0</td><td>0</td><td>0</td><td>0</td><td>10</td><td>&hellip;</td><td>&quot;COL&quot;</td><td>null</td><td>null</td><td>null</td><td>&quot;SBA&quot;</td><td>2019-11-17</td><td>null</td><td>null</td><td>null</td><td>2019-01-21</td><td>&quot;POS&quot;</td><td>false</td><td>null</td><td>null</td><td>2019-10-31</td><td>2019-10-13</td><td>&quot;P12_6_178&quot;</td><td>&quot;a55475b1&quot;</td><td>2019-10-13</td><td>&quot;a55475b1&quot;</td><td>null</td><td>&quot;P12_6_178&quot;</td><td>&quot;a55475b1&quot;</td><td>2017-12-11</td><td>&quot;P99_56_166&quot;</td><td>&quot;P94_109_143&quot;</td><td>null</td><td>&quot;A&quot;</td><td>null</td><td>false</td><td>&quot;OTHER&quot;</td><td>&quot;OTHER&quot;</td><td>null</td><td>&quot;P173_115_85&quot;</td><td>&quot;FO&quot;</td><td>null</td><td>null</td></tr><tr><td>&hellip;</td><td>&hellip;</td><td>&hellip;</td><td>&hellip;</td><td>&hellip;</td><td>&hellip;</td><td>&hellip;</td><td>&hellip;</td><td>&hellip;</td><td>&hellip;</td><td>&hellip;</td><td>&hellip;</td><td>&hellip;</td><td>&hellip;</td><td>&hellip;</td><td>&hellip;</td><td>&hellip;</td><td>&hellip;</td><td>&hellip;</td><td>&hellip;</td><td>&hellip;</td><td>&hellip;</td><td>&hellip;</td><td>&hellip;</td><td>&hellip;</td><td>&hellip;</td><td>&hellip;</td><td>&hellip;</td><td>&hellip;</td><td>&hellip;</td><td>&hellip;</td><td>&hellip;</td><td>&hellip;</td><td>&hellip;</td><td>&hellip;</td><td>&hellip;</td><td>&hellip;</td><td>&hellip;</td><td>&hellip;</td><td>&hellip;</td><td>&hellip;</td><td>&hellip;</td><td>&hellip;</td><td>&hellip;</td><td>&hellip;</td><td>&hellip;</td><td>&hellip;</td><td>&hellip;</td><td>&hellip;</td><td>&hellip;</td><td>&hellip;</td><td>&hellip;</td><td>&hellip;</td><td>&hellip;</td><td>&hellip;</td><td>&hellip;</td><td>&hellip;</td><td>&hellip;</td><td>&hellip;</td><td>&hellip;</td><td>&hellip;</td><td>&hellip;</td><td>&hellip;</td><td>&hellip;</td><td>&hellip;</td><td>&hellip;</td><td>&hellip;</td><td>&hellip;</td><td>&hellip;</td><td>&hellip;</td><td>&hellip;</td><td>&hellip;</td><td>&hellip;</td><td>&hellip;</td><td>&hellip;</td></tr><tr><td>101,065</td><td>0</td><td>null</td><td>7,795.80029296875</td><td>0</td><td>0</td><td>2</td><td>0</td><td>0</td><td>0</td><td>3</td><td>null</td><td>null</td><td>null</td><td>null</td><td>null</td><td>null</td><td>null</td><td>null</td><td>null</td><td>0</td><td>0</td><td>0</td><td>0</td><td>0</td><td>0</td><td>0</td><td>null</td><td>0</td><td>0</td><td>0</td><td>0</td><td>0</td><td>1</td><td>0</td><td>0</td><td>null</td><td>&hellip;</td><td>&quot;CAL&quot;</td><td>null</td><td>null</td><td>null</td><td>null</td><td>null</td><td>null</td><td>null</td><td>null</td><td>null</td><td>&quot;CASH&quot;</td><td>false</td><td>null</td><td>false</td><td>2022-09-20</td><td>2022-09-20</td><td>&quot;a55475b1&quot;</td><td>&quot;a55475b1&quot;</td><td>2022-09-20</td><td>&quot;P19_105_83&quot;</td><td>null</td><td>&quot;a55475b1&quot;</td><td>&quot;a55475b1&quot;</td><td>2017-06-27</td><td>&quot;P198_131_9&quot;</td><td>&quot;P94_109_143&quot;</td><td>null</td><td>&quot;T&quot;</td><td>null</td><td>true</td><td>null</td><td>null</td><td>null</td><td>&quot;a55475b1&quot;</td><td>&quot;FO&quot;</td><td>null</td><td>null</td></tr><tr><td>101,302</td><td>0</td><td>null</td><td>6,781.39990234375</td><td>0</td><td>0</td><td>0</td><td>0</td><td>0</td><td>0</td><td>3</td><td>null</td><td>null</td><td>null</td><td>null</td><td>null</td><td>null</td><td>null</td><td>null</td><td>null</td><td>0</td><td>0</td><td>0</td><td>0</td><td>0</td><td>0</td><td>0</td><td>null</td><td>0</td><td>0</td><td>0</td><td>0</td><td>0</td><td>0</td><td>0</td><td>0</td><td>null</td><td>&hellip;</td><td>&quot;CAL&quot;</td><td>null</td><td>null</td><td>null</td><td>&quot;GBA&quot;</td><td>null</td><td>null</td><td>null</td><td>null</td><td>null</td><td>&quot;CASH&quot;</td><td>false</td><td>null</td><td>false</td><td>null</td><td>2019-03-19</td><td>&quot;a55475b1&quot;</td><td>&quot;a55475b1&quot;</td><td>null</td><td>&quot;P141_135_146&quot;</td><td>null</td><td>&quot;P109_133_183&quot;</td><td>&quot;P78_110_79&quot;</td><td>2018-09-20</td><td>&quot;P94_109_143&quot;</td><td>&quot;P94_109_143&quot;</td><td>null</td><td>&quot;T&quot;</td><td>null</td><td>false</td><td>null</td><td>null</td><td>null</td><td>&quot;a55475b1&quot;</td><td>&quot;FO&quot;</td><td>&quot;AL&quot;</td><td>null</td></tr><tr><td>101,005</td><td>0</td><td>null</td><td>1,943.4000244140625</td><td>0</td><td>0</td><td>2</td><td>0</td><td>0</td><td>0</td><td>2</td><td>null</td><td>null</td><td>null</td><td>null</td><td>null</td><td>null</td><td>null</td><td>null</td><td>null</td><td>0</td><td>0</td><td>0</td><td>0</td><td>0</td><td>0</td><td>0</td><td>null</td><td>0</td><td>0</td><td>0</td><td>0</td><td>0</td><td>0</td><td>0</td><td>0</td><td>null</td><td>&hellip;</td><td>&quot;CAL&quot;</td><td>null</td><td>null</td><td>null</td><td>&quot;GBA&quot;</td><td>null</td><td>null</td><td>null</td><td>null</td><td>null</td><td>&quot;CASH&quot;</td><td>false</td><td>null</td><td>false</td><td>null</td><td>2022-09-13</td><td>&quot;a55475b1&quot;</td><td>&quot;a55475b1&quot;</td><td>null</td><td>&quot;P94_109_143&quot;</td><td>null</td><td>&quot;a55475b1&quot;</td><td>&quot;a55475b1&quot;</td><td>2022-09-13</td><td>&quot;a55475b1&quot;</td><td>&quot;P94_109_143&quot;</td><td>null</td><td>&quot;D&quot;</td><td>null</td><td>false</td><td>&quot;OTHER&quot;</td><td>&quot;OTHER&quot;</td><td>null</td><td>&quot;a55475b1&quot;</td><td>&quot;FO&quot;</td><td>null</td><td>null</td></tr></tbody></table></div>"
      ],
      "text/plain": [
       "shape: (1_526_689, 168)\n",
       "┌───────────┬───────────┬───────────┬───────────┬───┬───────────┬───────────┬───────────┬──────────┐\n",
       "│ case_id   ┆ static_ba ┆ static_ba ┆ static_ba ┆ … ┆ static_ba ┆ static_ba ┆ static_ba ┆ static_b │\n",
       "│ ---       ┆ se_actual ┆ se_amtins ┆ se_annuit ┆   ┆ se_previo ┆ se_twobod ┆ se_typesu ┆ ase_vali │\n",
       "│ u32       ┆ dpdtolera ┆ tpaidbefd ┆ y_780A    ┆   ┆ uscontdis ┆ filling_6 ┆ ite_864L  ┆ dfrom_10 │\n",
       "│           ┆ nce_344P  ┆ uel24m_41 ┆ ---       ┆   ┆ trict_112 ┆ 08L       ┆ ---       ┆ 69D      │\n",
       "│           ┆ ---       ┆ 87115A    ┆ f32       ┆   ┆ M         ┆ ---       ┆ str       ┆ ---      │\n",
       "│           ┆ f32       ┆ ---       ┆           ┆   ┆ ---       ┆ str       ┆           ┆ date     │\n",
       "│           ┆           ┆ f32       ┆           ┆   ┆ str       ┆           ┆           ┆          │\n",
       "╞═══════════╪═══════════╪═══════════╪═══════════╪═══╪═══════════╪═══════════╪═══════════╪══════════╡\n",
       "│ 1,300,184 ┆ 0         ┆ null      ┆ 4,581     ┆ … ┆ P192_103_ ┆ FO        ┆ null      ┆ null     │\n",
       "│           ┆           ┆           ┆           ┆   ┆ 107       ┆           ┆           ┆          │\n",
       "│ 1,492,892 ┆ 0         ┆ 21,747    ┆ 1,497.800 ┆ … ┆ P98_137_1 ┆ FO        ┆ null      ┆ null     │\n",
       "│           ┆           ┆           ┆ 048828125 ┆   ┆ 11        ┆           ┆           ┆          │\n",
       "│ 1,631,428 ┆ 0         ┆ 12,377    ┆ 458.39999 ┆ … ┆ P173_115_ ┆ FO        ┆ null      ┆ null     │\n",
       "│           ┆           ┆           ┆ 38964844  ┆   ┆ 85        ┆           ┆           ┆          │\n",
       "│ …         ┆ …         ┆ …         ┆ …         ┆ … ┆ …         ┆ …         ┆ …         ┆ …        │\n",
       "│ 101,065   ┆ 0         ┆ null      ┆ 7,795.800 ┆ … ┆ a55475b1  ┆ FO        ┆ null      ┆ null     │\n",
       "│           ┆           ┆           ┆ 29296875  ┆   ┆           ┆           ┆           ┆          │\n",
       "│ 101,302   ┆ 0         ┆ null      ┆ 6,781.399 ┆ … ┆ a55475b1  ┆ FO        ┆ AL        ┆ null     │\n",
       "│           ┆           ┆           ┆ 90234375  ┆   ┆           ┆           ┆           ┆          │\n",
       "│ 101,005   ┆ 0         ┆ null      ┆ 1,943.400 ┆ … ┆ a55475b1  ┆ FO        ┆ null      ┆ null     │\n",
       "│           ┆           ┆           ┆ 024414062 ┆   ┆           ┆           ┆           ┆          │\n",
       "│           ┆           ┆           ┆ 5         ┆   ┆           ┆           ┆           ┆          │\n",
       "└───────────┴───────────┴───────────┴───────────┴───┴───────────┴───────────┴───────────┴──────────┘"
      ]
     },
     "execution_count": 12,
     "metadata": {},
     "output_type": "execute_result"
    }
   ],
   "source": [
    "total_static_base = preprocess(\"static_0\",\"static_base\")\n",
    "total_static_base"
   ]
  },
  {
   "cell_type": "code",
   "execution_count": null,
   "metadata": {},
   "outputs": [
    {
     "data": {
      "text/html": [
       "<div><style>\n",
       ".dataframe > thead > tr,\n",
       ".dataframe > tbody > tr {\n",
       "  text-align: right;\n",
       "  white-space: pre-wrap;\n",
       "}\n",
       "</style>\n",
       "<small>shape: (1_500_486, 53)</small><table border=\"1\" class=\"dataframe\"><thead><tr><th>case_id</th><th>static_external_contractssum_5085716L</th><th>static_external_days120_123L</th><th>static_external_days180_256L</th><th>static_external_days30_165L</th><th>static_external_days360_512L</th><th>static_external_days90_310L</th><th>static_external_firstquarter_103L</th><th>static_external_for3years_128L</th><th>static_external_for3years_504L</th><th>static_external_for3years_584L</th><th>static_external_formonth_118L</th><th>static_external_formonth_206L</th><th>static_external_formonth_535L</th><th>static_external_forquarter_1017L</th><th>static_external_forquarter_462L</th><th>static_external_forquarter_634L</th><th>static_external_fortoday_1092L</th><th>static_external_forweek_1077L</th><th>static_external_forweek_528L</th><th>static_external_forweek_601L</th><th>static_external_foryear_618L</th><th>static_external_foryear_818L</th><th>static_external_foryear_850L</th><th>static_external_fourthquarter_440L</th><th>static_external_numberofqueries_373L</th><th>static_external_pmtaverage_3A</th><th>static_external_pmtaverage_4527227A</th><th>static_external_pmtaverage_4955615A</th><th>static_external_pmtcount_4527229L</th><th>static_external_pmtcount_4955617L</th><th>static_external_pmtcount_693L</th><th>static_external_pmtscount_423L</th><th>static_external_pmtssum_45A</th><th>static_external_secondquarter_766L</th><th>static_external_thirdquarter_1082L</th><th>static_external_assignmentdate_238D</th><th>static_external_assignmentdate_4527235D</th><th>static_external_assignmentdate_4955616D</th><th>static_external_birthdate_574D</th><th>static_external_dateofbirth_337D</th><th>static_external_dateofbirth_342D</th><th>static_external_description_5085714M</th><th>static_external_education_1103M</th><th>static_external_education_88M</th><th>static_external_maritalst_385M</th><th>static_external_maritalst_893M</th><th>static_external_requesttype_4525192L</th><th>static_external_responsedate_1012D</th><th>static_external_responsedate_4527233D</th><th>static_external_responsedate_4917613D</th><th>static_external_riskassesment_302T</th><th>static_external_riskassesment_940T</th></tr><tr><td>u32</td><td>f32</td><td>f32</td><td>f32</td><td>f32</td><td>f32</td><td>f32</td><td>f32</td><td>f32</td><td>f32</td><td>f32</td><td>f32</td><td>f32</td><td>f32</td><td>f32</td><td>f32</td><td>f32</td><td>f32</td><td>f32</td><td>f32</td><td>f32</td><td>f32</td><td>f32</td><td>f32</td><td>f32</td><td>f32</td><td>f32</td><td>f32</td><td>f32</td><td>f32</td><td>f32</td><td>f32</td><td>f32</td><td>f32</td><td>f32</td><td>f32</td><td>date</td><td>date</td><td>date</td><td>date</td><td>date</td><td>date</td><td>str</td><td>str</td><td>str</td><td>str</td><td>str</td><td>str</td><td>date</td><td>date</td><td>date</td><td>f64</td><td>str</td></tr></thead><tbody><tr><td>1,783,085</td><td>null</td><td>7</td><td>10</td><td>4</td><td>16</td><td>7</td><td>17</td><td>null</td><td>null</td><td>null</td><td>null</td><td>null</td><td>null</td><td>null</td><td>null</td><td>null</td><td>null</td><td>null</td><td>null</td><td>null</td><td>null</td><td>null</td><td>null</td><td>6</td><td>16</td><td>null</td><td>null</td><td>null</td><td>null</td><td>null</td><td>null</td><td>null</td><td>null</td><td>10</td><td>10</td><td>null</td><td>null</td><td>null</td><td>null</td><td>1978-03-01</td><td>null</td><td>&quot;a55475b1&quot;</td><td>&quot;6b2ae0fa&quot;</td><td>&quot;a55475b1&quot;</td><td>&quot;3439d993&quot;</td><td>&quot;a55475b1&quot;</td><td>&quot;DEDUCTION_6&quot;</td><td>null</td><td>2020-02-26</td><td>null</td><td>null</td><td>null</td></tr><tr><td>1,282,621</td><td>null</td><td>null</td><td>null</td><td>null</td><td>null</td><td>null</td><td>null</td><td>null</td><td>null</td><td>null</td><td>null</td><td>null</td><td>null</td><td>null</td><td>null</td><td>null</td><td>null</td><td>null</td><td>null</td><td>null</td><td>null</td><td>null</td><td>null</td><td>null</td><td>null</td><td>18,319.732421875</td><td>null</td><td>null</td><td>null</td><td>null</td><td>6</td><td>null</td><td>null</td><td>null</td><td>null</td><td>2008-04-09</td><td>null</td><td>null</td><td>1950-04-01</td><td>null</td><td>null</td><td>&quot;a55475b1&quot;</td><td>&quot;a55475b1&quot;</td><td>&quot;a55475b1&quot;</td><td>&quot;a55475b1&quot;</td><td>&quot;a55475b1&quot;</td><td>null</td><td>2019-02-28</td><td>null</td><td>null</td><td>null</td><td>null</td></tr><tr><td>112,470</td><td>null</td><td>3</td><td>3</td><td>0</td><td>6</td><td>3</td><td>5</td><td>null</td><td>null</td><td>null</td><td>null</td><td>null</td><td>null</td><td>null</td><td>null</td><td>null</td><td>null</td><td>null</td><td>null</td><td>null</td><td>null</td><td>null</td><td>null</td><td>5</td><td>6</td><td>null</td><td>null</td><td>null</td><td>null</td><td>null</td><td>null</td><td>7</td><td>10,208.7998046875</td><td>4</td><td>1</td><td>null</td><td>null</td><td>null</td><td>1990-10-01</td><td>1990-10-01</td><td>null</td><td>&quot;a55475b1&quot;</td><td>&quot;6b2ae0fa&quot;</td><td>&quot;a55475b1&quot;</td><td>&quot;3439d993&quot;</td><td>&quot;a55475b1&quot;</td><td>null</td><td>2019-03-07</td><td>null</td><td>null</td><td>null</td><td>null</td></tr><tr><td>&hellip;</td><td>&hellip;</td><td>&hellip;</td><td>&hellip;</td><td>&hellip;</td><td>&hellip;</td><td>&hellip;</td><td>&hellip;</td><td>&hellip;</td><td>&hellip;</td><td>&hellip;</td><td>&hellip;</td><td>&hellip;</td><td>&hellip;</td><td>&hellip;</td><td>&hellip;</td><td>&hellip;</td><td>&hellip;</td><td>&hellip;</td><td>&hellip;</td><td>&hellip;</td><td>&hellip;</td><td>&hellip;</td><td>&hellip;</td><td>&hellip;</td><td>&hellip;</td><td>&hellip;</td><td>&hellip;</td><td>&hellip;</td><td>&hellip;</td><td>&hellip;</td><td>&hellip;</td><td>&hellip;</td><td>&hellip;</td><td>&hellip;</td><td>&hellip;</td><td>&hellip;</td><td>&hellip;</td><td>&hellip;</td><td>&hellip;</td><td>&hellip;</td><td>&hellip;</td><td>&hellip;</td><td>&hellip;</td><td>&hellip;</td><td>&hellip;</td><td>&hellip;</td><td>&hellip;</td><td>&hellip;</td><td>&hellip;</td><td>&hellip;</td><td>&hellip;</td><td>&hellip;</td></tr><tr><td>57,552</td><td>null</td><td>0</td><td>0</td><td>0</td><td>0</td><td>0</td><td>0</td><td>null</td><td>null</td><td>null</td><td>null</td><td>null</td><td>null</td><td>null</td><td>null</td><td>null</td><td>null</td><td>null</td><td>null</td><td>null</td><td>null</td><td>null</td><td>null</td><td>0</td><td>0</td><td>null</td><td>null</td><td>16,327</td><td>null</td><td>14</td><td>null</td><td>null</td><td>null</td><td>0</td><td>0</td><td>null</td><td>null</td><td>2012-03-02</td><td>null</td><td>1948-10-01</td><td>null</td><td>&quot;2fc785b2&quot;</td><td>&quot;a55475b1&quot;</td><td>&quot;a55475b1&quot;</td><td>&quot;a55475b1&quot;</td><td>&quot;a55475b1&quot;</td><td>null</td><td>null</td><td>null</td><td>2020-10-19</td><td>null</td><td>null</td></tr><tr><td>57,634</td><td>null</td><td>null</td><td>null</td><td>null</td><td>null</td><td>null</td><td>null</td><td>null</td><td>null</td><td>null</td><td>null</td><td>null</td><td>null</td><td>null</td><td>null</td><td>null</td><td>null</td><td>null</td><td>null</td><td>null</td><td>null</td><td>null</td><td>null</td><td>null</td><td>null</td><td>null</td><td>null</td><td>6,917</td><td>null</td><td>14</td><td>null</td><td>null</td><td>null</td><td>null</td><td>null</td><td>null</td><td>null</td><td>2017-12-15</td><td>null</td><td>null</td><td>null</td><td>&quot;a55475b1&quot;</td><td>&quot;a55475b1&quot;</td><td>&quot;a55475b1&quot;</td><td>&quot;a55475b1&quot;</td><td>&quot;a55475b1&quot;</td><td>null</td><td>null</td><td>null</td><td>2020-10-20</td><td>null</td><td>null</td></tr><tr><td>57,631</td><td>750,875.4375</td><td>6</td><td>7</td><td>1</td><td>12</td><td>1</td><td>6</td><td>null</td><td>null</td><td>null</td><td>null</td><td>null</td><td>null</td><td>null</td><td>null</td><td>null</td><td>null</td><td>null</td><td>null</td><td>null</td><td>null</td><td>null</td><td>null</td><td>2</td><td>12</td><td>null</td><td>null</td><td>16,863</td><td>null</td><td>12</td><td>null</td><td>null</td><td>null</td><td>6</td><td>0</td><td>null</td><td>null</td><td>2013-04-12</td><td>null</td><td>1955-03-01</td><td>null</td><td>&quot;2fc785b2&quot;</td><td>&quot;a55475b1&quot;</td><td>&quot;a55475b1&quot;</td><td>&quot;a55475b1&quot;</td><td>&quot;a55475b1&quot;</td><td>null</td><td>null</td><td>null</td><td>2020-10-20</td><td>null</td><td>null</td></tr></tbody></table></div>"
      ],
      "text/plain": [
       "shape: (1_500_486, 53)\n",
       "┌───────────┬───────────┬───────────┬───────────┬───┬───────────┬───────────┬───────────┬──────────┐\n",
       "│ case_id   ┆ static_ex ┆ static_ex ┆ static_ex ┆ … ┆ static_ex ┆ static_ex ┆ static_ex ┆ static_e │\n",
       "│ ---       ┆ ternal_co ┆ ternal_da ┆ ternal_da ┆   ┆ ternal_re ┆ ternal_re ┆ ternal_ri ┆ xternal_ │\n",
       "│ u32       ┆ ntractssu ┆ ys120_123 ┆ ys180_256 ┆   ┆ sponsedat ┆ sponsedat ┆ skassesme ┆ riskasse │\n",
       "│           ┆ m_5085716 ┆ L         ┆ L         ┆   ┆ e_4527233 ┆ e_4917613 ┆ nt_302T   ┆ sment_94 │\n",
       "│           ┆ L         ┆ ---       ┆ ---       ┆   ┆ D         ┆ D         ┆ ---       ┆ 0T       │\n",
       "│           ┆ ---       ┆ f32       ┆ f32       ┆   ┆ ---       ┆ ---       ┆ f64       ┆ ---      │\n",
       "│           ┆ f32       ┆           ┆           ┆   ┆ date      ┆ date      ┆           ┆ str      │\n",
       "╞═══════════╪═══════════╪═══════════╪═══════════╪═══╪═══════════╪═══════════╪═══════════╪══════════╡\n",
       "│ 1,783,085 ┆ null      ┆ 7         ┆ 10        ┆ … ┆ 2020-02-2 ┆ null      ┆ null      ┆ null     │\n",
       "│           ┆           ┆           ┆           ┆   ┆ 6         ┆           ┆           ┆          │\n",
       "│ 1,282,621 ┆ null      ┆ null      ┆ null      ┆ … ┆ null      ┆ null      ┆ null      ┆ null     │\n",
       "│ 112,470   ┆ null      ┆ 3         ┆ 3         ┆ … ┆ null      ┆ null      ┆ null      ┆ null     │\n",
       "│ …         ┆ …         ┆ …         ┆ …         ┆ … ┆ …         ┆ …         ┆ …         ┆ …        │\n",
       "│ 57,552    ┆ null      ┆ 0         ┆ 0         ┆ … ┆ null      ┆ 2020-10-1 ┆ null      ┆ null     │\n",
       "│           ┆           ┆           ┆           ┆   ┆           ┆ 9         ┆           ┆          │\n",
       "│ 57,634    ┆ null      ┆ null      ┆ null      ┆ … ┆ null      ┆ 2020-10-2 ┆ null      ┆ null     │\n",
       "│           ┆           ┆           ┆           ┆   ┆           ┆ 0         ┆           ┆          │\n",
       "│ 57,631    ┆ 750,875.4 ┆ 6         ┆ 7         ┆ … ┆ null      ┆ 2020-10-2 ┆ null      ┆ null     │\n",
       "│           ┆ 375       ┆           ┆           ┆   ┆           ┆ 0         ┆           ┆          │\n",
       "└───────────┴───────────┴───────────┴───────────┴───┴───────────┴───────────┴───────────┴──────────┘"
      ]
     },
     "execution_count": 13,
     "metadata": {},
     "output_type": "execute_result"
    }
   ],
   "source": [
    "total_static_external = (\n",
    "    preprocess(\"static_cb\",\"static_external\")\n",
    "    .with_columns(\n",
    "        pl.col(\"static_external_riskassesment_302T\").str.split(\"%\").list.gather([0,1]).apply(lambda x: (int(x[0])+int(x[1].split(\"-\")[1]))/200)\n",
    "    )\n",
    ")\n",
    "total_static_external"
   ]
  },
  {
   "cell_type": "code",
   "execution_count": null,
   "metadata": {},
   "outputs": [
    {
     "data": {
      "text/html": [
       "<div><style>\n",
       ".dataframe > thead > tr,\n",
       ".dataframe > tbody > tr {\n",
       "  text-align: right;\n",
       "  white-space: pre-wrap;\n",
       "}\n",
       "</style>\n",
       "<small>shape: (1_526_662, 37)</small><table border=\"1\" class=\"dataframe\"><thead><tr><th>case_id</th><th>person_shallow_childnum_185L</th><th>person_shallow_mainoccupationinc_384A</th><th>person_shallow_num_group1</th><th>person_shallow_personindex_1023L</th><th>person_shallow_persontype_1072L</th><th>person_shallow_persontype_792L</th><th>person_shallow_birth_259D</th><th>person_shallow_birthdate_87D</th><th>person_shallow_contaddr_district_15M</th><th>person_shallow_contaddr_matchlist_1032L</th><th>person_shallow_contaddr_smempladdr_334L</th><th>person_shallow_contaddr_zipcode_807M</th><th>person_shallow_education_927M</th><th>person_shallow_empl_employedfrom_271D</th><th>person_shallow_empl_employedtotal_800L</th><th>person_shallow_empl_industry_691L</th><th>person_shallow_empladdr_district_926M</th><th>person_shallow_empladdr_zipcode_114M</th><th>person_shallow_familystate_447L</th><th>person_shallow_gender_992L</th><th>person_shallow_housetype_905L</th><th>person_shallow_housingtype_772L</th><th>person_shallow_incometype_1044T</th><th>person_shallow_isreference_387L</th><th>person_shallow_language1_981M</th><th>person_shallow_maritalst_703L</th><th>person_shallow_registaddr_district_1083M</th><th>person_shallow_registaddr_zipcode_184M</th><th>person_shallow_relationshiptoclient_415T</th><th>person_shallow_relationshiptoclient_642T</th><th>person_shallow_remitter_829L</th><th>person_shallow_role_1084L</th><th>person_shallow_role_993L</th><th>person_shallow_safeguarantyflag_411L</th><th>person_shallow_sex_738L</th><th>person_shallow_type_25L</th></tr><tr><td>u32</td><td>f32</td><td>f32</td><td>u16</td><td>f32</td><td>f32</td><td>f32</td><td>date</td><td>date</td><td>str</td><td>bool</td><td>bool</td><td>str</td><td>str</td><td>date</td><td>str</td><td>str</td><td>str</td><td>str</td><td>str</td><td>str</td><td>str</td><td>str</td><td>str</td><td>bool</td><td>str</td><td>str</td><td>str</td><td>str</td><td>str</td><td>str</td><td>bool</td><td>str</td><td>str</td><td>bool</td><td>str</td><td>str</td></tr></thead><tbody><tr><td>753,462</td><td>null</td><td>30,000</td><td>2</td><td>1</td><td>5</td><td>5</td><td>1994-09-01</td><td>null</td><td>&quot;a55475b1&quot;</td><td>false</td><td>false</td><td>&quot;a55475b1&quot;</td><td>&quot;a55475b1&quot;</td><td>2019-04-15</td><td>&quot;LESS_ONE&quot;</td><td>&quot;EDUCATION&quot;</td><td>&quot;a55475b1&quot;</td><td>&quot;a55475b1&quot;</td><td>&quot;SINGLE&quot;</td><td>null</td><td>null</td><td>null</td><td>&quot;PRIVATE_SECTOR_EMPLOYEE&quot;</td><td>null</td><td>&quot;a55475b1&quot;</td><td>null</td><td>&quot;a55475b1&quot;</td><td>&quot;a55475b1&quot;</td><td>&quot;PARENT&quot;</td><td>&quot;PARENT&quot;</td><td>false</td><td>&quot;CL&quot;</td><td>null</td><td>true</td><td>&quot;M&quot;</td><td>&quot;PHONE&quot;</td></tr><tr><td>807,455</td><td>null</td><td>80,000</td><td>2</td><td>1</td><td>4</td><td>4</td><td>1996-01-01</td><td>null</td><td>&quot;a55475b1&quot;</td><td>false</td><td>false</td><td>&quot;a55475b1&quot;</td><td>&quot;a55475b1&quot;</td><td>2018-08-15</td><td>&quot;MORE_ONE&quot;</td><td>&quot;OTHER&quot;</td><td>&quot;a55475b1&quot;</td><td>&quot;a55475b1&quot;</td><td>&quot;MARRIED&quot;</td><td>null</td><td>null</td><td>null</td><td>&quot;PRIVATE_SECTOR_EMPLOYEE&quot;</td><td>null</td><td>&quot;a55475b1&quot;</td><td>null</td><td>&quot;a55475b1&quot;</td><td>&quot;a55475b1&quot;</td><td>&quot;SPOUSE&quot;</td><td>&quot;SPOUSE&quot;</td><td>false</td><td>&quot;PE&quot;</td><td>null</td><td>true</td><td>&quot;F&quot;</td><td>&quot;PRIMARY_MOBILE&quot;</td></tr><tr><td>3,933</td><td>null</td><td>40,200</td><td>2</td><td>2</td><td>5</td><td>5</td><td>1957-04-01</td><td>null</td><td>&quot;a55475b1&quot;</td><td>false</td><td>false</td><td>&quot;a55475b1&quot;</td><td>&quot;a55475b1&quot;</td><td>null</td><td>null</td><td>null</td><td>&quot;a55475b1&quot;</td><td>&quot;a55475b1&quot;</td><td>&quot;MARRIED&quot;</td><td>null</td><td>null</td><td>null</td><td>&quot;RETIRED_PENSIONER&quot;</td><td>null</td><td>&quot;a55475b1&quot;</td><td>null</td><td>&quot;a55475b1&quot;</td><td>&quot;a55475b1&quot;</td><td>&quot;CHILD&quot;</td><td>&quot;CHILD&quot;</td><td>false</td><td>&quot;PE&quot;</td><td>null</td><td>true</td><td>&quot;F&quot;</td><td>&quot;PHONE&quot;</td></tr><tr><td>&hellip;</td><td>&hellip;</td><td>&hellip;</td><td>&hellip;</td><td>&hellip;</td><td>&hellip;</td><td>&hellip;</td><td>&hellip;</td><td>&hellip;</td><td>&hellip;</td><td>&hellip;</td><td>&hellip;</td><td>&hellip;</td><td>&hellip;</td><td>&hellip;</td><td>&hellip;</td><td>&hellip;</td><td>&hellip;</td><td>&hellip;</td><td>&hellip;</td><td>&hellip;</td><td>&hellip;</td><td>&hellip;</td><td>&hellip;</td><td>&hellip;</td><td>&hellip;</td><td>&hellip;</td><td>&hellip;</td><td>&hellip;</td><td>&hellip;</td><td>&hellip;</td><td>&hellip;</td><td>&hellip;</td><td>&hellip;</td><td>&hellip;</td><td>&hellip;</td><td>&hellip;</td></tr><tr><td>57,551</td><td>null</td><td>24,000</td><td>2</td><td>1</td><td>5</td><td>5</td><td>1990-08-01</td><td>null</td><td>&quot;a55475b1&quot;</td><td>false</td><td>false</td><td>&quot;a55475b1&quot;</td><td>&quot;a55475b1&quot;</td><td>2019-01-15</td><td>&quot;MORE_FIVE&quot;</td><td>&quot;OTHER&quot;</td><td>&quot;a55475b1&quot;</td><td>&quot;a55475b1&quot;</td><td>&quot;MARRIED&quot;</td><td>null</td><td>null</td><td>null</td><td>&quot;EMPLOYED&quot;</td><td>null</td><td>&quot;a55475b1&quot;</td><td>null</td><td>&quot;a55475b1&quot;</td><td>&quot;a55475b1&quot;</td><td>&quot;FRIEND&quot;</td><td>&quot;FRIEND&quot;</td><td>false</td><td>&quot;EM&quot;</td><td>null</td><td>false</td><td>&quot;M&quot;</td><td>&quot;PHONE&quot;</td></tr><tr><td>57,549</td><td>null</td><td>15,000</td><td>3</td><td>1</td><td>5</td><td>5</td><td>1992-03-01</td><td>null</td><td>&quot;a55475b1&quot;</td><td>false</td><td>false</td><td>&quot;a55475b1&quot;</td><td>&quot;a55475b1&quot;</td><td>2019-05-04</td><td>&quot;MORE_ONE&quot;</td><td>&quot;OTHER&quot;</td><td>&quot;a55475b1&quot;</td><td>&quot;a55475b1&quot;</td><td>&quot;SINGLE&quot;</td><td>null</td><td>null</td><td>null</td><td>&quot;EMPLOYED&quot;</td><td>null</td><td>&quot;a55475b1&quot;</td><td>null</td><td>&quot;a55475b1&quot;</td><td>&quot;a55475b1&quot;</td><td>&quot;SIBLING&quot;</td><td>&quot;SIBLING&quot;</td><td>false</td><td>&quot;EM&quot;</td><td>null</td><td>false</td><td>&quot;M&quot;</td><td>&quot;PRIMARY_MOBILE&quot;</td></tr><tr><td>57,543</td><td>null</td><td>36,000</td><td>2</td><td>1</td><td>5</td><td>5</td><td>1996-08-01</td><td>null</td><td>&quot;a55475b1&quot;</td><td>false</td><td>false</td><td>&quot;a55475b1&quot;</td><td>&quot;a55475b1&quot;</td><td>2018-02-15</td><td>&quot;MORE_ONE&quot;</td><td>&quot;OTHER&quot;</td><td>&quot;a55475b1&quot;</td><td>&quot;a55475b1&quot;</td><td>&quot;MARRIED&quot;</td><td>null</td><td>null</td><td>null</td><td>&quot;EMPLOYED&quot;</td><td>null</td><td>&quot;a55475b1&quot;</td><td>null</td><td>&quot;a55475b1&quot;</td><td>&quot;a55475b1&quot;</td><td>&quot;OTHER&quot;</td><td>&quot;OTHER&quot;</td><td>false</td><td>&quot;CL&quot;</td><td>null</td><td>false</td><td>&quot;M&quot;</td><td>&quot;PHONE&quot;</td></tr></tbody></table></div>"
      ],
      "text/plain": [
       "shape: (1_526_662, 37)\n",
       "┌─────────┬────────────┬───────────┬───────────┬───┬───────────┬───────────┬───────────┬───────────┐\n",
       "│ case_id ┆ person_sha ┆ person_sh ┆ person_sh ┆ … ┆ person_sh ┆ person_sh ┆ person_sh ┆ person_sh │\n",
       "│ ---     ┆ llow_child ┆ allow_mai ┆ allow_num ┆   ┆ allow_rol ┆ allow_saf ┆ allow_sex ┆ allow_typ │\n",
       "│ u32     ┆ num_185L   ┆ noccupati ┆ _group1   ┆   ┆ e_993L    ┆ eguaranty ┆ _738L     ┆ e_25L     │\n",
       "│         ┆ ---        ┆ oninc_384 ┆ ---       ┆   ┆ ---       ┆ flag_411L ┆ ---       ┆ ---       │\n",
       "│         ┆ f32        ┆ A         ┆ u16       ┆   ┆ str       ┆ ---       ┆ str       ┆ str       │\n",
       "│         ┆            ┆ ---       ┆           ┆   ┆           ┆ bool      ┆           ┆           │\n",
       "│         ┆            ┆ f32       ┆           ┆   ┆           ┆           ┆           ┆           │\n",
       "╞═════════╪════════════╪═══════════╪═══════════╪═══╪═══════════╪═══════════╪═══════════╪═══════════╡\n",
       "│ 753,462 ┆ null       ┆ 30,000    ┆ 2         ┆ … ┆ null      ┆ true      ┆ M         ┆ PHONE     │\n",
       "│ 807,455 ┆ null       ┆ 80,000    ┆ 2         ┆ … ┆ null      ┆ true      ┆ F         ┆ PRIMARY_M │\n",
       "│         ┆            ┆           ┆           ┆   ┆           ┆           ┆           ┆ OBILE     │\n",
       "│ 3,933   ┆ null       ┆ 40,200    ┆ 2         ┆ … ┆ null      ┆ true      ┆ F         ┆ PHONE     │\n",
       "│ …       ┆ …          ┆ …         ┆ …         ┆ … ┆ …         ┆ …         ┆ …         ┆ …         │\n",
       "│ 57,551  ┆ null       ┆ 24,000    ┆ 2         ┆ … ┆ null      ┆ false     ┆ M         ┆ PHONE     │\n",
       "│ 57,549  ┆ null       ┆ 15,000    ┆ 3         ┆ … ┆ null      ┆ false     ┆ M         ┆ PRIMARY_M │\n",
       "│         ┆            ┆           ┆           ┆   ┆           ┆           ┆           ┆ OBILE     │\n",
       "│ 57,543  ┆ null       ┆ 36,000    ┆ 2         ┆ … ┆ null      ┆ false     ┆ M         ┆ PHONE     │\n",
       "└─────────┴────────────┴───────────┴───────────┴───┴───────────┴───────────┴───────────┴───────────┘"
      ]
     },
     "execution_count": 14,
     "metadata": {},
     "output_type": "execute_result"
    }
   ],
   "source": [
    "total_person_shallow = preprocess(\"person_1\",\"person_shallow\")\n",
    "total_person_shallow"
   ]
  },
  {
   "cell_type": "code",
   "execution_count": null,
   "metadata": {},
   "outputs": [
    {
     "data": {
      "text/html": [
       "<div><style>\n",
       ".dataframe > thead > tr,\n",
       ".dataframe > tbody > tr {\n",
       "  text-align: right;\n",
       "  white-space: pre-wrap;\n",
       "}\n",
       "</style>\n",
       "<small>shape: (1_435_115, 11)</small><table border=\"1\" class=\"dataframe\"><thead><tr><th>case_id</th><th>person_depth_num_group1</th><th>person_depth_num_group2</th><th>person_depth_addres_district_368M</th><th>person_depth_addres_role_871L</th><th>person_depth_addres_zip_823M</th><th>person_depth_conts_role_79M</th><th>person_depth_empls_economicalst_849M</th><th>person_depth_empls_employedfrom_796D</th><th>person_depth_empls_employer_name_740M</th><th>person_depth_relatedpersons_role_762T</th></tr><tr><td>u32</td><td>u16</td><td>u16</td><td>str</td><td>str</td><td>str</td><td>str</td><td>str</td><td>date</td><td>str</td><td>str</td></tr></thead><tbody><tr><td>843,132</td><td>0</td><td>0</td><td>&quot;a55475b1&quot;</td><td>null</td><td>&quot;a55475b1&quot;</td><td>&quot;a55475b1&quot;</td><td>&quot;a55475b1&quot;</td><td>null</td><td>&quot;a55475b1&quot;</td><td>null</td></tr><tr><td>887,705</td><td>2</td><td>1</td><td>&quot;a55475b1&quot;</td><td>null</td><td>&quot;a55475b1&quot;</td><td>&quot;a55475b1&quot;</td><td>&quot;a55475b1&quot;</td><td>null</td><td>&quot;a55475b1&quot;</td><td>null</td></tr><tr><td>1,661,597</td><td>0</td><td>0</td><td>&quot;a55475b1&quot;</td><td>null</td><td>&quot;a55475b1&quot;</td><td>&quot;a55475b1&quot;</td><td>&quot;a55475b1&quot;</td><td>null</td><td>&quot;a55475b1&quot;</td><td>null</td></tr><tr><td>&hellip;</td><td>&hellip;</td><td>&hellip;</td><td>&hellip;</td><td>&hellip;</td><td>&hellip;</td><td>&hellip;</td><td>&hellip;</td><td>&hellip;</td><td>&hellip;</td><td>&hellip;</td></tr><tr><td>57,631</td><td>0</td><td>0</td><td>&quot;a55475b1&quot;</td><td>null</td><td>&quot;a55475b1&quot;</td><td>&quot;a55475b1&quot;</td><td>&quot;a55475b1&quot;</td><td>null</td><td>&quot;a55475b1&quot;</td><td>null</td></tr><tr><td>57,569</td><td>0</td><td>0</td><td>&quot;a55475b1&quot;</td><td>null</td><td>&quot;a55475b1&quot;</td><td>&quot;a55475b1&quot;</td><td>&quot;a55475b1&quot;</td><td>null</td><td>&quot;a55475b1&quot;</td><td>null</td></tr><tr><td>57,636</td><td>0</td><td>0</td><td>&quot;a55475b1&quot;</td><td>null</td><td>&quot;a55475b1&quot;</td><td>&quot;a55475b1&quot;</td><td>&quot;a55475b1&quot;</td><td>null</td><td>&quot;a55475b1&quot;</td><td>null</td></tr></tbody></table></div>"
      ],
      "text/plain": [
       "shape: (1_435_115, 11)\n",
       "┌───────────┬───────────┬───────────┬───────────┬───┬───────────┬───────────┬───────────┬──────────┐\n",
       "│ case_id   ┆ person_de ┆ person_de ┆ person_de ┆ … ┆ person_de ┆ person_de ┆ person_de ┆ person_d │\n",
       "│ ---       ┆ pth_num_g ┆ pth_num_g ┆ pth_addre ┆   ┆ pth_empls ┆ pth_empls ┆ pth_empls ┆ epth_rel │\n",
       "│ u32       ┆ roup1     ┆ roup2     ┆ s_distric ┆   ┆ _economic ┆ _employed ┆ _employer ┆ atedpers │\n",
       "│           ┆ ---       ┆ ---       ┆ t_368M    ┆   ┆ alst_849M ┆ from_796D ┆ _name_740 ┆ ons_role │\n",
       "│           ┆ u16       ┆ u16       ┆ ---       ┆   ┆ ---       ┆ ---       ┆ M         ┆ _762T    │\n",
       "│           ┆           ┆           ┆ str       ┆   ┆ str       ┆ date      ┆ ---       ┆ ---      │\n",
       "│           ┆           ┆           ┆           ┆   ┆           ┆           ┆ str       ┆ str      │\n",
       "╞═══════════╪═══════════╪═══════════╪═══════════╪═══╪═══════════╪═══════════╪═══════════╪══════════╡\n",
       "│ 843,132   ┆ 0         ┆ 0         ┆ a55475b1  ┆ … ┆ a55475b1  ┆ null      ┆ a55475b1  ┆ null     │\n",
       "│ 887,705   ┆ 2         ┆ 1         ┆ a55475b1  ┆ … ┆ a55475b1  ┆ null      ┆ a55475b1  ┆ null     │\n",
       "│ 1,661,597 ┆ 0         ┆ 0         ┆ a55475b1  ┆ … ┆ a55475b1  ┆ null      ┆ a55475b1  ┆ null     │\n",
       "│ …         ┆ …         ┆ …         ┆ …         ┆ … ┆ …         ┆ …         ┆ …         ┆ …        │\n",
       "│ 57,631    ┆ 0         ┆ 0         ┆ a55475b1  ┆ … ┆ a55475b1  ┆ null      ┆ a55475b1  ┆ null     │\n",
       "│ 57,569    ┆ 0         ┆ 0         ┆ a55475b1  ┆ … ┆ a55475b1  ┆ null      ┆ a55475b1  ┆ null     │\n",
       "│ 57,636    ┆ 0         ┆ 0         ┆ a55475b1  ┆ … ┆ a55475b1  ┆ null      ┆ a55475b1  ┆ null     │\n",
       "└───────────┴───────────┴───────────┴───────────┴───┴───────────┴───────────┴───────────┴──────────┘"
      ]
     },
     "execution_count": 15,
     "metadata": {},
     "output_type": "execute_result"
    }
   ],
   "source": [
    "total_person_depth = preprocess(\"person_2\",\"person_depth\")\n",
    "total_person_depth"
   ]
  },
  {
   "cell_type": "code",
   "execution_count": null,
   "metadata": {},
   "outputs": [
    {
     "data": {
      "text/html": [
       "<div><style>\n",
       ".dataframe > thead > tr,\n",
       ".dataframe > tbody > tr {\n",
       "  text-align: right;\n",
       "  white-space: pre-wrap;\n",
       "}\n",
       "</style>\n",
       "<small>shape: (51_119, 7)</small><table border=\"1\" class=\"dataframe\"><thead><tr><th>case_id</th><th>other_shallow_amtdebitincoming_4809443A</th><th>other_shallow_amtdebitoutgoing_4809440A</th><th>other_shallow_amtdepositbalance_4809441A</th><th>other_shallow_amtdepositincoming_4809444A</th><th>other_shallow_amtdepositoutgoing_4809442A</th><th>other_shallow_num_group1</th></tr><tr><td>u32</td><td>f32</td><td>f32</td><td>f32</td><td>f32</td><td>f32</td><td>u16</td></tr></thead><tbody><tr><td>215,261</td><td>0</td><td>0</td><td>0</td><td>0</td><td>2.799999952316284</td><td>0</td></tr><tr><td>237,534</td><td>25,000</td><td>25,000</td><td>0</td><td>0</td><td>0</td><td>0</td></tr><tr><td>1,840,115</td><td>4,000</td><td>4,000</td><td>0</td><td>0</td><td>0</td><td>0</td></tr><tr><td>&hellip;</td><td>&hellip;</td><td>&hellip;</td><td>&hellip;</td><td>&hellip;</td><td>&hellip;</td><td>&hellip;</td></tr><tr><td>57,823</td><td>0</td><td>0</td><td>101,817</td><td>0</td><td>33,950.80078125</td><td>0</td></tr><tr><td>57,774</td><td>0</td><td>0</td><td>988.6000366210938</td><td>0</td><td>8.199999809265137</td><td>0</td></tr><tr><td>57,635</td><td>0</td><td>0</td><td>12,028.7998046875</td><td>0</td><td>4,011</td><td>0</td></tr></tbody></table></div>"
      ],
      "text/plain": [
       "shape: (51_119, 7)\n",
       "┌───────────┬──────────────┬──────────────┬──────────────┬─────────────┬─────────────┬─────────────┐\n",
       "│ case_id   ┆ other_shallo ┆ other_shallo ┆ other_shallo ┆ other_shall ┆ other_shall ┆ other_shall │\n",
       "│ ---       ┆ w_amtdebitin ┆ w_amtdebitou ┆ w_amtdeposit ┆ ow_amtdepos ┆ ow_amtdepos ┆ ow_num_grou │\n",
       "│ u32       ┆ coming_48094 ┆ tgoing_48094 ┆ balance_4809 ┆ itincoming_ ┆ itoutgoing_ ┆ p1          │\n",
       "│           ┆ 43A          ┆ 40A          ┆ 441A         ┆ 4809444A    ┆ 4809442A    ┆ ---         │\n",
       "│           ┆ ---          ┆ ---          ┆ ---          ┆ ---         ┆ ---         ┆ u16         │\n",
       "│           ┆ f32          ┆ f32          ┆ f32          ┆ f32         ┆ f32         ┆             │\n",
       "╞═══════════╪══════════════╪══════════════╪══════════════╪═════════════╪═════════════╪═════════════╡\n",
       "│ 215,261   ┆ 0            ┆ 0            ┆ 0            ┆ 0           ┆ 2.799999952 ┆ 0           │\n",
       "│           ┆              ┆              ┆              ┆             ┆ 316284      ┆             │\n",
       "│ 237,534   ┆ 25,000       ┆ 25,000       ┆ 0            ┆ 0           ┆ 0           ┆ 0           │\n",
       "│ 1,840,115 ┆ 4,000        ┆ 4,000        ┆ 0            ┆ 0           ┆ 0           ┆ 0           │\n",
       "│ …         ┆ …            ┆ …            ┆ …            ┆ …           ┆ …           ┆ …           │\n",
       "│ 57,823    ┆ 0            ┆ 0            ┆ 101,817      ┆ 0           ┆ 33,950.8007 ┆ 0           │\n",
       "│           ┆              ┆              ┆              ┆             ┆ 8125        ┆             │\n",
       "│ 57,774    ┆ 0            ┆ 0            ┆ 988.60003662 ┆ 0           ┆ 8.199999809 ┆ 0           │\n",
       "│           ┆              ┆              ┆ 10938        ┆             ┆ 265137      ┆             │\n",
       "│ 57,635    ┆ 0            ┆ 0            ┆ 12,028.79980 ┆ 0           ┆ 4,011       ┆ 0           │\n",
       "│           ┆              ┆              ┆ 46875        ┆             ┆             ┆             │\n",
       "└───────────┴──────────────┴──────────────┴──────────────┴─────────────┴─────────────┴─────────────┘"
      ]
     },
     "execution_count": 16,
     "metadata": {},
     "output_type": "execute_result"
    }
   ],
   "source": [
    "total_other_shallow = preprocess(\"other_1\",\"other_shallow\")\n",
    "total_other_shallow"
   ]
  },
  {
   "cell_type": "code",
   "execution_count": null,
   "metadata": {},
   "outputs": [
    {
     "data": {
      "text/html": [
       "<div><style>\n",
       ".dataframe > thead > tr,\n",
       ".dataframe > tbody > tr {\n",
       "  text-align: right;\n",
       "  white-space: pre-wrap;\n",
       "}\n",
       "</style>\n",
       "<small>shape: (105_121, 5)</small><table border=\"1\" class=\"dataframe\"><thead><tr><th>case_id</th><th>deposit_shallow_amount_416A</th><th>deposit_shallow_num_group1</th><th>deposit_shallow_contractenddate_991D</th><th>deposit_shallow_openingdate_313D</th></tr><tr><td>u32</td><td>f32</td><td>u16</td><td>date</td><td>date</td></tr></thead><tbody><tr><td>173,582</td><td>393.0220031738281</td><td>0</td><td>2017-11-13</td><td>2013-11-13</td></tr><tr><td>147,733</td><td>827.2440795898438</td><td>2</td><td>2016-12-17</td><td>2016-07-13</td></tr><tr><td>196,245</td><td>269.7220153808594</td><td>0</td><td>2017-12-16</td><td>2014-12-17</td></tr><tr><td>&hellip;</td><td>&hellip;</td><td>&hellip;</td><td>&hellip;</td><td>&hellip;</td></tr><tr><td>57,951</td><td>289.17401123046875</td><td>0</td><td>2017-10-09</td><td>2013-10-10</td></tr><tr><td>57,925</td><td>208.1840057373047</td><td>0</td><td>null</td><td>2017-04-07</td></tr><tr><td>57,932</td><td>1,008.9960327148438</td><td>0</td><td>null</td><td>2017-07-06</td></tr></tbody></table></div>"
      ],
      "text/plain": [
       "shape: (105_121, 5)\n",
       "┌─────────┬──────────────────────┬─────────────────────┬─────────────────────┬─────────────────────┐\n",
       "│ case_id ┆ deposit_shallow_amou ┆ deposit_shallow_num ┆ deposit_shallow_con ┆ deposit_shallow_ope │\n",
       "│ ---     ┆ nt_416A              ┆ _group1             ┆ tractenddate_991D   ┆ ningdate_313D       │\n",
       "│ u32     ┆ ---                  ┆ ---                 ┆ ---                 ┆ ---                 │\n",
       "│         ┆ f32                  ┆ u16                 ┆ date                ┆ date                │\n",
       "╞═════════╪══════════════════════╪═════════════════════╪═════════════════════╪═════════════════════╡\n",
       "│ 173,582 ┆ 393.0220031738281    ┆ 0                   ┆ 2017-11-13          ┆ 2013-11-13          │\n",
       "│ 147,733 ┆ 827.2440795898438    ┆ 2                   ┆ 2016-12-17          ┆ 2016-07-13          │\n",
       "│ 196,245 ┆ 269.7220153808594    ┆ 0                   ┆ 2017-12-16          ┆ 2014-12-17          │\n",
       "│ …       ┆ …                    ┆ …                   ┆ …                   ┆ …                   │\n",
       "│ 57,951  ┆ 289.17401123046875   ┆ 0                   ┆ 2017-10-09          ┆ 2013-10-10          │\n",
       "│ 57,925  ┆ 208.1840057373047    ┆ 0                   ┆ null                ┆ 2017-04-07          │\n",
       "│ 57,932  ┆ 1,008.9960327148438  ┆ 0                   ┆ null                ┆ 2017-07-06          │\n",
       "└─────────┴──────────────────────┴─────────────────────┴─────────────────────┴─────────────────────┘"
      ]
     },
     "execution_count": 17,
     "metadata": {},
     "output_type": "execute_result"
    }
   ],
   "source": [
    "total_deposit_shallow = preprocess(\"deposit_1\",\"deposit_shallow\")\n",
    "total_deposit_shallow"
   ]
  },
  {
   "cell_type": "code",
   "execution_count": null,
   "metadata": {},
   "outputs": [
    {
     "data": {
      "text/html": [
       "<div><style>\n",
       ".dataframe > thead > tr,\n",
       ".dataframe > tbody > tr {\n",
       "  text-align: right;\n",
       "  white-space: pre-wrap;\n",
       "}\n",
       "</style>\n",
       "<small>shape: (111_782, 6)</small><table border=\"1\" class=\"dataframe\"><thead><tr><th>case_id</th><th>card_shallow_last180dayaveragebalance_704A</th><th>card_shallow_last180dayturnover_1134A</th><th>card_shallow_last30dayturnover_651A</th><th>card_shallow_num_group1</th><th>card_shallow_openingdate_857D</th></tr><tr><td>u32</td><td>f32</td><td>f32</td><td>f32</td><td>u16</td><td>date</td></tr></thead><tbody><tr><td>2,697,761</td><td>null</td><td>null</td><td>null</td><td>2</td><td>2013-12-26</td></tr><tr><td>2,644,831</td><td>null</td><td>null</td><td>null</td><td>0</td><td>2014-05-26</td></tr><tr><td>197,701</td><td>0</td><td>20,000</td><td>0</td><td>4</td><td>2014-02-21</td></tr><tr><td>&hellip;</td><td>&hellip;</td><td>&hellip;</td><td>&hellip;</td><td>&hellip;</td><td>&hellip;</td></tr><tr><td>58,038</td><td>null</td><td>null</td><td>null</td><td>1</td><td>2016-03-04</td></tr><tr><td>57,925</td><td>null</td><td>null</td><td>null</td><td>0</td><td>2017-04-07</td></tr><tr><td>57,719</td><td>null</td><td>null</td><td>null</td><td>0</td><td>2016-09-22</td></tr></tbody></table></div>"
      ],
      "text/plain": [
       "shape: (111_782, 6)\n",
       "┌───────────┬─────────────────┬─────────────────┬────────────────┬────────────────┬────────────────┐\n",
       "│ case_id   ┆ card_shallow_la ┆ card_shallow_la ┆ card_shallow_l ┆ card_shallow_n ┆ card_shallow_o │\n",
       "│ ---       ┆ st180dayaverage ┆ st180dayturnove ┆ ast30dayturnov ┆ um_group1      ┆ peningdate_857 │\n",
       "│ u32       ┆ balance_704A    ┆ r_1134A         ┆ er_651A        ┆ ---            ┆ D              │\n",
       "│           ┆ ---             ┆ ---             ┆ ---            ┆ u16            ┆ ---            │\n",
       "│           ┆ f32             ┆ f32             ┆ f32            ┆                ┆ date           │\n",
       "╞═══════════╪═════════════════╪═════════════════╪════════════════╪════════════════╪════════════════╡\n",
       "│ 2,697,761 ┆ null            ┆ null            ┆ null           ┆ 2              ┆ 2013-12-26     │\n",
       "│ 2,644,831 ┆ null            ┆ null            ┆ null           ┆ 0              ┆ 2014-05-26     │\n",
       "│ 197,701   ┆ 0               ┆ 20,000          ┆ 0              ┆ 4              ┆ 2014-02-21     │\n",
       "│ …         ┆ …               ┆ …               ┆ …              ┆ …              ┆ …              │\n",
       "│ 58,038    ┆ null            ┆ null            ┆ null           ┆ 1              ┆ 2016-03-04     │\n",
       "│ 57,925    ┆ null            ┆ null            ┆ null           ┆ 0              ┆ 2017-04-07     │\n",
       "│ 57,719    ┆ null            ┆ null            ┆ null           ┆ 0              ┆ 2016-09-22     │\n",
       "└───────────┴─────────────────┴─────────────────┴────────────────┴────────────────┴────────────────┘"
      ]
     },
     "execution_count": 18,
     "metadata": {},
     "output_type": "execute_result"
    }
   ],
   "source": [
    "total_debitcard_shallow = preprocess(\"debitcard\",\"card_shallow\")\n",
    "total_debitcard_shallow"
   ]
  },
  {
   "cell_type": "code",
   "execution_count": null,
   "metadata": {},
   "outputs": [
    {
     "data": {
      "text/html": [
       "<div><style>\n",
       ".dataframe > thead > tr,\n",
       ".dataframe > tbody > tr {\n",
       "  text-align: right;\n",
       "  white-space: pre-wrap;\n",
       "}\n",
       "</style>\n",
       "<small>shape: (1_386_281, 79)</small><table border=\"1\" class=\"dataframe\"><thead><tr><th>case_id</th><th>int_shallow_annualeffectiverate_199L</th><th>int_shallow_annualeffectiverate_63L</th><th>int_shallow_contractsum_5085717L</th><th>int_shallow_credlmt_230A</th><th>int_shallow_credlmt_935A</th><th>int_shallow_debtoutstand_525A</th><th>int_shallow_debtoverdue_47A</th><th>int_shallow_dpdmax_139P</th><th>int_shallow_dpdmax_757P</th><th>int_shallow_instlamount_768A</th><th>int_shallow_instlamount_852A</th><th>int_shallow_interestrate_508L</th><th>int_shallow_monthlyinstlamount_332A</th><th>int_shallow_monthlyinstlamount_674A</th><th>int_shallow_nominalrate_281L</th><th>int_shallow_nominalrate_498L</th><th>int_shallow_num_group1</th><th>int_shallow_numberofcontrsvalue_258L</th><th>int_shallow_numberofcontrsvalue_358L</th><th>int_shallow_numberofinstls_229L</th><th>int_shallow_numberofinstls_320L</th><th>int_shallow_numberofoutstandinstls_520L</th><th>int_shallow_numberofoutstandinstls_59L</th><th>int_shallow_numberofoverdueinstlmax_1039L</th><th>int_shallow_numberofoverdueinstlmax_1151L</th><th>int_shallow_numberofoverdueinstls_725L</th><th>int_shallow_numberofoverdueinstls_834L</th><th>int_shallow_outstandingamount_354A</th><th>int_shallow_outstandingamount_362A</th><th>int_shallow_overdueamount_31A</th><th>int_shallow_overdueamount_659A</th><th>int_shallow_overdueamountmax2_14A</th><th>int_shallow_overdueamountmax2_398A</th><th>int_shallow_overdueamountmax_155A</th><th>int_shallow_overdueamountmax_35A</th><th>int_shallow_periodicityofpmts_1102L</th><th>&hellip;</th><th>int_shallow_totalamount_6A</th><th>int_shallow_totalamount_996A</th><th>int_shallow_totaldebtoverduevalue_178A</th><th>int_shallow_totaldebtoverduevalue_718A</th><th>int_shallow_totaloutstanddebtvalue_39A</th><th>int_shallow_totaloutstanddebtvalue_668A</th><th>int_shallow_classificationofcontr_13M</th><th>int_shallow_classificationofcontr_400M</th><th>int_shallow_contractst_545M</th><th>int_shallow_contractst_964M</th><th>int_shallow_dateofcredend_289D</th><th>int_shallow_dateofcredend_353D</th><th>int_shallow_dateofcredstart_181D</th><th>int_shallow_dateofcredstart_739D</th><th>int_shallow_dateofrealrepmt_138D</th><th>int_shallow_description_351M</th><th>int_shallow_dpdmaxdatemonth_442T</th><th>int_shallow_dpdmaxdatemonth_89T</th><th>int_shallow_dpdmaxdateyear_596T</th><th>int_shallow_dpdmaxdateyear_896T</th><th>int_shallow_financialinstitution_382M</th><th>int_shallow_financialinstitution_591M</th><th>int_shallow_lastupdate_1112D</th><th>int_shallow_lastupdate_388D</th><th>int_shallow_numberofoverdueinstlmaxdat_148D</th><th>int_shallow_numberofoverdueinstlmaxdat_641D</th><th>int_shallow_overdueamountmax2date_1002D</th><th>int_shallow_overdueamountmax2date_1142D</th><th>int_shallow_overdueamountmaxdatemonth_284T</th><th>int_shallow_overdueamountmaxdatemonth_365T</th><th>int_shallow_overdueamountmaxdateyear_2T</th><th>int_shallow_overdueamountmaxdateyear_994T</th><th>int_shallow_purposeofcred_426M</th><th>int_shallow_purposeofcred_874M</th><th>int_shallow_refreshdate_3813885D</th><th>int_shallow_subjectrole_182M</th><th>int_shallow_subjectrole_93M</th></tr><tr><td>u32</td><td>f32</td><td>f32</td><td>f32</td><td>f32</td><td>f32</td><td>f32</td><td>f32</td><td>f32</td><td>f32</td><td>f32</td><td>f32</td><td>f32</td><td>f32</td><td>f32</td><td>f32</td><td>f32</td><td>u16</td><td>f32</td><td>f32</td><td>f32</td><td>f32</td><td>f32</td><td>f32</td><td>f32</td><td>f32</td><td>f32</td><td>f32</td><td>f32</td><td>f32</td><td>f32</td><td>f32</td><td>f32</td><td>f32</td><td>f32</td><td>f32</td><td>f32</td><td>&hellip;</td><td>f32</td><td>f32</td><td>f32</td><td>f32</td><td>f32</td><td>f32</td><td>str</td><td>str</td><td>str</td><td>str</td><td>date</td><td>date</td><td>date</td><td>date</td><td>date</td><td>str</td><td>str</td><td>str</td><td>str</td><td>str</td><td>str</td><td>str</td><td>date</td><td>date</td><td>date</td><td>date</td><td>date</td><td>date</td><td>str</td><td>str</td><td>str</td><td>str</td><td>str</td><td>str</td><td>date</td><td>str</td><td>str</td></tr></thead><tbody><tr><td>1,301,783</td><td>null</td><td>null</td><td>null</td><td>null</td><td>44,798</td><td>39,023.75390625</td><td>0</td><td>10</td><td>null</td><td>2,938.688232421875</td><td>null</td><td>null</td><td>2,938.688232421875</td><td>null</td><td>43</td><td>null</td><td>10</td><td>2</td><td>null</td><td>null</td><td>18</td><td>null</td><td>15</td><td>17</td><td>null</td><td>0</td><td>null</td><td>null</td><td>16,584.6953125</td><td>null</td><td>0</td><td>2,380.35400390625</td><td>null</td><td>2,380.35400390625</td><td>null</td><td>null</td><td>&hellip;</td><td>null</td><td>18,540</td><td>0</td><td>null</td><td>39,023.75390625</td><td>null</td><td>&quot;a55475b1&quot;</td><td>&quot;a55475b1&quot;</td><td>&quot;a55475b1&quot;</td><td>&quot;a55475b1&quot;</td><td>2020-05-15</td><td>null</td><td>null</td><td>2014-01-25</td><td>null</td><td>&quot;a55475b1&quot;</td><td>null</td><td>&quot;12.0&quot;</td><td>&quot;2017.0&quot;</td><td>null</td><td>&quot;a55475b1&quot;</td><td>&quot;a55475b1&quot;</td><td>2019-03-05</td><td>null</td><td>null</td><td>2014-10-12</td><td>null</td><td>2018-12-29</td><td>null</td><td>&quot;1.0&quot;</td><td>&quot;2018.0&quot;</td><td>null</td><td>&quot;a55475b1&quot;</td><td>&quot;a55475b1&quot;</td><td>2019-03-21</td><td>&quot;a55475b1&quot;</td><td>&quot;a55475b1&quot;</td></tr><tr><td>618,576</td><td>null</td><td>null</td><td>null</td><td>null</td><td>20,176</td><td>23,115.552734375</td><td>0</td><td>0</td><td>null</td><td>3,362.800048828125</td><td>null</td><td>null</td><td>3,362.800048828125</td><td>null</td><td>42.5</td><td>null</td><td>10</td><td>2</td><td>null</td><td>null</td><td>11</td><td>null</td><td>9</td><td>0</td><td>null</td><td>0</td><td>null</td><td>null</td><td>2,939.552001953125</td><td>null</td><td>0</td><td>0</td><td>null</td><td>0</td><td>null</td><td>null</td><td>&hellip;</td><td>null</td><td>3,374</td><td>0</td><td>null</td><td>23,115.552734375</td><td>null</td><td>&quot;a55475b1&quot;</td><td>&quot;a55475b1&quot;</td><td>&quot;a55475b1&quot;</td><td>&quot;a55475b1&quot;</td><td>2020-07-20</td><td>null</td><td>null</td><td>2018-10-29</td><td>null</td><td>&quot;a55475b1&quot;</td><td>null</td><td>&quot;8.0&quot;</td><td>&quot;2018.0&quot;</td><td>null</td><td>&quot;a55475b1&quot;</td><td>&quot;a55475b1&quot;</td><td>2019-01-29</td><td>null</td><td>null</td><td>null</td><td>null</td><td>null</td><td>null</td><td>&quot;8.0&quot;</td><td>&quot;2018.0&quot;</td><td>null</td><td>&quot;a55475b1&quot;</td><td>&quot;a55475b1&quot;</td><td>2019-02-08</td><td>&quot;a55475b1&quot;</td><td>&quot;a55475b1&quot;</td></tr><tr><td>1,281,195</td><td>null</td><td>null</td><td>null</td><td>null</td><td>38,000</td><td>35,179.28515625</td><td>0</td><td>0</td><td>null</td><td>4,541.80029296875</td><td>null</td><td>null</td><td>4,541.80029296875</td><td>null</td><td>39</td><td>null</td><td>10</td><td>2</td><td>3</td><td>null</td><td>null</td><td>null</td><td>null</td><td>0</td><td>null</td><td>0</td><td>null</td><td>null</td><td>null</td><td>null</td><td>0</td><td>0</td><td>null</td><td>0</td><td>null</td><td>null</td><td>&hellip;</td><td>null</td><td>null</td><td>0</td><td>0</td><td>35,179.28515625</td><td>0</td><td>&quot;a55475b1&quot;</td><td>&quot;a55475b1&quot;</td><td>&quot;a55475b1&quot;</td><td>&quot;a55475b1&quot;</td><td>2021-07-14</td><td>null</td><td>null</td><td>2018-10-04</td><td>null</td><td>&quot;a55475b1&quot;</td><td>null</td><td>&quot;10.0&quot;</td><td>&quot;2019.0&quot;</td><td>null</td><td>&quot;a55475b1&quot;</td><td>&quot;a55475b1&quot;</td><td>2019-02-07</td><td>null</td><td>null</td><td>null</td><td>null</td><td>null</td><td>null</td><td>&quot;10.0&quot;</td><td>&quot;2018.0&quot;</td><td>null</td><td>&quot;a55475b1&quot;</td><td>&quot;a55475b1&quot;</td><td>2019-02-27</td><td>&quot;a55475b1&quot;</td><td>&quot;a55475b1&quot;</td></tr><tr><td>&hellip;</td><td>&hellip;</td><td>&hellip;</td><td>&hellip;</td><td>&hellip;</td><td>&hellip;</td><td>&hellip;</td><td>&hellip;</td><td>&hellip;</td><td>&hellip;</td><td>&hellip;</td><td>&hellip;</td><td>&hellip;</td><td>&hellip;</td><td>&hellip;</td><td>&hellip;</td><td>&hellip;</td><td>&hellip;</td><td>&hellip;</td><td>&hellip;</td><td>&hellip;</td><td>&hellip;</td><td>&hellip;</td><td>&hellip;</td><td>&hellip;</td><td>&hellip;</td><td>&hellip;</td><td>&hellip;</td><td>&hellip;</td><td>&hellip;</td><td>&hellip;</td><td>&hellip;</td><td>&hellip;</td><td>&hellip;</td><td>&hellip;</td><td>&hellip;</td><td>&hellip;</td><td>&hellip;</td><td>&hellip;</td><td>&hellip;</td><td>&hellip;</td><td>&hellip;</td><td>&hellip;</td><td>&hellip;</td><td>&hellip;</td><td>&hellip;</td><td>&hellip;</td><td>&hellip;</td><td>&hellip;</td><td>&hellip;</td><td>&hellip;</td><td>&hellip;</td><td>&hellip;</td><td>&hellip;</td><td>&hellip;</td><td>&hellip;</td><td>&hellip;</td><td>&hellip;</td><td>&hellip;</td><td>&hellip;</td><td>&hellip;</td><td>&hellip;</td><td>&hellip;</td><td>&hellip;</td><td>&hellip;</td><td>&hellip;</td><td>&hellip;</td><td>&hellip;</td><td>&hellip;</td><td>&hellip;</td><td>&hellip;</td><td>&hellip;</td><td>&hellip;</td><td>&hellip;</td><td>&hellip;</td></tr><tr><td>87,191</td><td>null</td><td>null</td><td>null</td><td>null</td><td>null</td><td>0</td><td>0</td><td>null</td><td>null</td><td>null</td><td>null</td><td>null</td><td>null</td><td>null</td><td>null</td><td>null</td><td>8</td><td>null</td><td>null</td><td>null</td><td>null</td><td>null</td><td>null</td><td>null</td><td>null</td><td>null</td><td>null</td><td>null</td><td>null</td><td>null</td><td>null</td><td>null</td><td>null</td><td>null</td><td>null</td><td>null</td><td>&hellip;</td><td>null</td><td>null</td><td>null</td><td>null</td><td>null</td><td>null</td><td>&quot;a55475b1&quot;</td><td>&quot;a55475b1&quot;</td><td>&quot;a55475b1&quot;</td><td>&quot;a55475b1&quot;</td><td>null</td><td>null</td><td>null</td><td>null</td><td>null</td><td>&quot;a55475b1&quot;</td><td>null</td><td>null</td><td>null</td><td>null</td><td>&quot;a55475b1&quot;</td><td>&quot;a55475b1&quot;</td><td>null</td><td>null</td><td>null</td><td>null</td><td>null</td><td>null</td><td>null</td><td>null</td><td>null</td><td>null</td><td>&quot;a55475b1&quot;</td><td>&quot;a55475b1&quot;</td><td>2022-03-26</td><td>&quot;a55475b1&quot;</td><td>&quot;a55475b1&quot;</td></tr><tr><td>87,206</td><td>null</td><td>56</td><td>1,000,000</td><td>null</td><td>200,000</td><td>1,012,822.6875</td><td>0</td><td>0</td><td>0</td><td>9,068</td><td>null</td><td>null</td><td>9,068</td><td>6,391.89013671875</td><td>20.950000762939453</td><td>null</td><td>0</td><td>4</td><td>2</td><td>24</td><td>null</td><td>0</td><td>null</td><td>0</td><td>0</td><td>0</td><td>0</td><td>0</td><td>null</td><td>0</td><td>0</td><td>0</td><td>0</td><td>0</td><td>0</td><td>30</td><td>&hellip;</td><td>100,000</td><td>null</td><td>0</td><td>0</td><td>777,849.0625</td><td>0</td><td>&quot;ea6782cc&quot;</td><td>&quot;00135d9c&quot;</td><td>&quot;7241344e&quot;</td><td>&quot;7241344e&quot;</td><td>2023-06-13</td><td>2022-07-29</td><td>2020-07-30</td><td>2017-06-13</td><td>2020-10-29</td><td>&quot;a55475b1&quot;</td><td>&quot;8.0&quot;</td><td>&quot;4.0&quot;</td><td>&quot;2020.0&quot;</td><td>&quot;2020.0&quot;</td><td>&quot;d6a7d943&quot;</td><td>&quot;b619fa46&quot;</td><td>2022-03-11</td><td>2020-11-25</td><td>null</td><td>null</td><td>null</td><td>null</td><td>&quot;8.0&quot;</td><td>&quot;4.0&quot;</td><td>&quot;2020.0&quot;</td><td>&quot;2020.0&quot;</td><td>&quot;60c73645&quot;</td><td>&quot;96a8fdfe&quot;</td><td>2022-03-26</td><td>&quot;ab3c25cf&quot;</td><td>&quot;ab3c25cf&quot;</td></tr><tr><td>100,984</td><td>null</td><td>56</td><td>0</td><td>75,000</td><td>0</td><td>0</td><td>0</td><td>0</td><td>530</td><td>0</td><td>400</td><td>null</td><td>0</td><td>400</td><td>0</td><td>null</td><td>9</td><td>1</td><td>5</td><td>0</td><td>null</td><td>0</td><td>null</td><td>3</td><td>589</td><td>0</td><td>0</td><td>0</td><td>null</td><td>0</td><td>0</td><td>7,447.60009765625</td><td>20,654.3984375</td><td>0</td><td>20,654.3984375</td><td>30</td><td>&hellip;</td><td>233,376</td><td>null</td><td>0</td><td>0</td><td>0</td><td>0</td><td>&quot;a55475b1&quot;</td><td>&quot;a55475b1&quot;</td><td>&quot;a55475b1&quot;</td><td>&quot;a55475b1&quot;</td><td>2023-06-30</td><td>2017-05-14</td><td>2011-07-13</td><td>2019-06-30</td><td>2018-08-10</td><td>&quot;a55475b1&quot;</td><td>&quot;1.0&quot;</td><td>&quot;10.0&quot;</td><td>&quot;2020.0&quot;</td><td>&quot;2018.0&quot;</td><td>&quot;a55475b1&quot;</td><td>&quot;a55475b1&quot;</td><td>2022-09-07</td><td>2018-08-11</td><td>2018-08-02</td><td>2020-06-04</td><td>2018-08-02</td><td>2020-06-04</td><td>&quot;1.0&quot;</td><td>&quot;10.0&quot;</td><td>&quot;2020.0&quot;</td><td>&quot;2019.0&quot;</td><td>&quot;a55475b1&quot;</td><td>&quot;a55475b1&quot;</td><td>2022-09-15</td><td>&quot;a55475b1&quot;</td><td>&quot;a55475b1&quot;</td></tr></tbody></table></div>"
      ],
      "text/plain": [
       "shape: (1_386_281, 79)\n",
       "┌───────────┬───────────┬───────────┬───────────┬───┬───────────┬───────────┬───────────┬──────────┐\n",
       "│ case_id   ┆ int_shall ┆ int_shall ┆ int_shall ┆ … ┆ int_shall ┆ int_shall ┆ int_shall ┆ int_shal │\n",
       "│ ---       ┆ ow_annual ┆ ow_annual ┆ ow_contra ┆   ┆ ow_purpos ┆ ow_refres ┆ ow_subjec ┆ low_subj │\n",
       "│ u32       ┆ effective ┆ effective ┆ ctsum_508 ┆   ┆ eofcred_8 ┆ hdate_381 ┆ trole_182 ┆ ectrole_ │\n",
       "│           ┆ rate_199L ┆ rate_63L  ┆ 5717L     ┆   ┆ 74M       ┆ 3885D     ┆ M         ┆ 93M      │\n",
       "│           ┆ ---       ┆ ---       ┆ ---       ┆   ┆ ---       ┆ ---       ┆ ---       ┆ ---      │\n",
       "│           ┆ f32       ┆ f32       ┆ f32       ┆   ┆ str       ┆ date      ┆ str       ┆ str      │\n",
       "╞═══════════╪═══════════╪═══════════╪═══════════╪═══╪═══════════╪═══════════╪═══════════╪══════════╡\n",
       "│ 1,301,783 ┆ null      ┆ null      ┆ null      ┆ … ┆ a55475b1  ┆ 2019-03-2 ┆ a55475b1  ┆ a55475b1 │\n",
       "│           ┆           ┆           ┆           ┆   ┆           ┆ 1         ┆           ┆          │\n",
       "│ 618,576   ┆ null      ┆ null      ┆ null      ┆ … ┆ a55475b1  ┆ 2019-02-0 ┆ a55475b1  ┆ a55475b1 │\n",
       "│           ┆           ┆           ┆           ┆   ┆           ┆ 8         ┆           ┆          │\n",
       "│ 1,281,195 ┆ null      ┆ null      ┆ null      ┆ … ┆ a55475b1  ┆ 2019-02-2 ┆ a55475b1  ┆ a55475b1 │\n",
       "│           ┆           ┆           ┆           ┆   ┆           ┆ 7         ┆           ┆          │\n",
       "│ …         ┆ …         ┆ …         ┆ …         ┆ … ┆ …         ┆ …         ┆ …         ┆ …        │\n",
       "│ 87,191    ┆ null      ┆ null      ┆ null      ┆ … ┆ a55475b1  ┆ 2022-03-2 ┆ a55475b1  ┆ a55475b1 │\n",
       "│           ┆           ┆           ┆           ┆   ┆           ┆ 6         ┆           ┆          │\n",
       "│ 87,206    ┆ null      ┆ 56        ┆ 1,000,000 ┆ … ┆ 96a8fdfe  ┆ 2022-03-2 ┆ ab3c25cf  ┆ ab3c25cf │\n",
       "│           ┆           ┆           ┆           ┆   ┆           ┆ 6         ┆           ┆          │\n",
       "│ 100,984   ┆ null      ┆ 56        ┆ 0         ┆ … ┆ a55475b1  ┆ 2022-09-1 ┆ a55475b1  ┆ a55475b1 │\n",
       "│           ┆           ┆           ┆           ┆   ┆           ┆ 5         ┆           ┆          │\n",
       "└───────────┴───────────┴───────────┴───────────┴───┴───────────┴───────────┴───────────┴──────────┘"
      ]
     },
     "execution_count": 19,
     "metadata": {},
     "output_type": "execute_result"
    }
   ],
   "source": [
    "total_credit_internal_shallow = preprocess(\"bureau_a_1\",\"int_shallow\")\n",
    "total_credit_internal_shallow"
   ]
  },
  {
   "cell_type": "code",
   "execution_count": null,
   "metadata": {},
   "outputs": [
    {
     "data": {
      "text/html": [
       "<div><style>\n",
       ".dataframe > thead > tr,\n",
       ".dataframe > tbody > tr {\n",
       "  text-align: right;\n",
       "  white-space: pre-wrap;\n",
       "}\n",
       "</style>\n",
       "<small>shape: (1_385_300, 19)</small><table border=\"1\" class=\"dataframe\"><thead><tr><th>case_id</th><th>int_depth_collater_valueofguarantee_1124L</th><th>int_depth_collater_valueofguarantee_876L</th><th>int_depth_num_group1</th><th>int_depth_num_group2</th><th>int_depth_pmts_dpd_1073P</th><th>int_depth_pmts_dpd_303P</th><th>int_depth_pmts_overdue_1140A</th><th>int_depth_pmts_overdue_1152A</th><th>int_depth_collater_typofvalofguarant_298M</th><th>int_depth_collater_typofvalofguarant_407M</th><th>int_depth_collaterals_typeofguarante_359M</th><th>int_depth_collaterals_typeofguarante_669M</th><th>int_depth_pmts_month_158T</th><th>int_depth_pmts_month_706T</th><th>int_depth_pmts_year_1139T</th><th>int_depth_pmts_year_507T</th><th>int_depth_subjectroles_name_541M</th><th>int_depth_subjectroles_name_838M</th></tr><tr><td>u32</td><td>f32</td><td>f32</td><td>u16</td><td>u16</td><td>f32</td><td>f32</td><td>f32</td><td>f32</td><td>str</td><td>str</td><td>str</td><td>str</td><td>str</td><td>str</td><td>str</td><td>str</td><td>str</td><td>str</td></tr></thead><tbody><tr><td>1,251,053</td><td>0</td><td>null</td><td>0</td><td>23</td><td>0</td><td>null</td><td>0</td><td>null</td><td>&quot;a55475b1&quot;</td><td>&quot;a55475b1&quot;</td><td>&quot;a55475b1&quot;</td><td>&quot;a55475b1&quot;</td><td>&quot;5.0&quot;</td><td>null</td><td>&quot;2018.0&quot;</td><td>null</td><td>&quot;a55475b1&quot;</td><td>&quot;a55475b1&quot;</td></tr><tr><td>630,628</td><td>16,188</td><td>null</td><td>1</td><td>35</td><td>0</td><td>null</td><td>0</td><td>null</td><td>&quot;a55475b1&quot;</td><td>&quot;a55475b1&quot;</td><td>&quot;a55475b1&quot;</td><td>&quot;a55475b1&quot;</td><td>&quot;7.0&quot;</td><td>null</td><td>&quot;2018.0&quot;</td><td>null</td><td>&quot;a55475b1&quot;</td><td>&quot;a55475b1&quot;</td></tr><tr><td>642,448</td><td>0</td><td>null</td><td>2</td><td>35</td><td>21</td><td>null</td><td>1,229.3919677734375</td><td>null</td><td>&quot;a55475b1&quot;</td><td>&quot;a55475b1&quot;</td><td>&quot;a55475b1&quot;</td><td>&quot;a55475b1&quot;</td><td>&quot;11.0&quot;</td><td>null</td><td>&quot;2018.0&quot;</td><td>null</td><td>&quot;a55475b1&quot;</td><td>&quot;a55475b1&quot;</td></tr><tr><td>&hellip;</td><td>&hellip;</td><td>&hellip;</td><td>&hellip;</td><td>&hellip;</td><td>&hellip;</td><td>&hellip;</td><td>&hellip;</td><td>&hellip;</td><td>&hellip;</td><td>&hellip;</td><td>&hellip;</td><td>&hellip;</td><td>&hellip;</td><td>&hellip;</td><td>&hellip;</td><td>&hellip;</td><td>&hellip;</td><td>&hellip;</td></tr><tr><td>82,797</td><td>0</td><td>0</td><td>0</td><td>9</td><td>0</td><td>0</td><td>0</td><td>0</td><td>&quot;a55475b1&quot;</td><td>&quot;a55475b1&quot;</td><td>&quot;a55475b1&quot;</td><td>&quot;a55475b1&quot;</td><td>&quot;4.0&quot;</td><td>&quot;2.0&quot;</td><td>&quot;2020.0&quot;</td><td>&quot;2018.0&quot;</td><td>&quot;a55475b1&quot;</td><td>&quot;a55475b1&quot;</td></tr><tr><td>85,784</td><td>0</td><td>null</td><td>0</td><td>9</td><td>0</td><td>null</td><td>0</td><td>null</td><td>&quot;a55475b1&quot;</td><td>&quot;a55475b1&quot;</td><td>&quot;a55475b1&quot;</td><td>&quot;a55475b1&quot;</td><td>&quot;2.0&quot;</td><td>null</td><td>&quot;2020.0&quot;</td><td>null</td><td>&quot;a55475b1&quot;</td><td>&quot;a55475b1&quot;</td></tr><tr><td>91,257</td><td>0</td><td>0</td><td>0</td><td>9</td><td>0</td><td>0</td><td>0</td><td>0</td><td>&quot;a55475b1&quot;</td><td>&quot;a55475b1&quot;</td><td>&quot;a55475b1&quot;</td><td>&quot;a55475b1&quot;</td><td>&quot;10.0&quot;</td><td>&quot;10.0&quot;</td><td>&quot;2020.0&quot;</td><td>&quot;2017.0&quot;</td><td>&quot;a55475b1&quot;</td><td>&quot;a55475b1&quot;</td></tr></tbody></table></div>"
      ],
      "text/plain": [
       "shape: (1_385_300, 19)\n",
       "┌───────────┬───────────┬───────────┬───────────┬───┬───────────┬───────────┬───────────┬──────────┐\n",
       "│ case_id   ┆ int_depth ┆ int_depth ┆ int_depth ┆ … ┆ int_depth ┆ int_depth ┆ int_depth ┆ int_dept │\n",
       "│ ---       ┆ _collater ┆ _collater ┆ _num_grou ┆   ┆ _pmts_yea ┆ _pmts_yea ┆ _subjectr ┆ h_subjec │\n",
       "│ u32       ┆ _valueofg ┆ _valueofg ┆ p1        ┆   ┆ r_1139T   ┆ r_507T    ┆ oles_name ┆ troles_n │\n",
       "│           ┆ uarantee_ ┆ uarantee_ ┆ ---       ┆   ┆ ---       ┆ ---       ┆ _541M     ┆ ame_838M │\n",
       "│           ┆ 1124L     ┆ 876L      ┆ u16       ┆   ┆ str       ┆ str       ┆ ---       ┆ ---      │\n",
       "│           ┆ ---       ┆ ---       ┆           ┆   ┆           ┆           ┆ str       ┆ str      │\n",
       "│           ┆ f32       ┆ f32       ┆           ┆   ┆           ┆           ┆           ┆          │\n",
       "╞═══════════╪═══════════╪═══════════╪═══════════╪═══╪═══════════╪═══════════╪═══════════╪══════════╡\n",
       "│ 1,251,053 ┆ 0         ┆ null      ┆ 0         ┆ … ┆ 2018.0    ┆ null      ┆ a55475b1  ┆ a55475b1 │\n",
       "│ 630,628   ┆ 16,188    ┆ null      ┆ 1         ┆ … ┆ 2018.0    ┆ null      ┆ a55475b1  ┆ a55475b1 │\n",
       "│ 642,448   ┆ 0         ┆ null      ┆ 2         ┆ … ┆ 2018.0    ┆ null      ┆ a55475b1  ┆ a55475b1 │\n",
       "│ …         ┆ …         ┆ …         ┆ …         ┆ … ┆ …         ┆ …         ┆ …         ┆ …        │\n",
       "│ 82,797    ┆ 0         ┆ 0         ┆ 0         ┆ … ┆ 2020.0    ┆ 2018.0    ┆ a55475b1  ┆ a55475b1 │\n",
       "│ 85,784    ┆ 0         ┆ null      ┆ 0         ┆ … ┆ 2020.0    ┆ null      ┆ a55475b1  ┆ a55475b1 │\n",
       "│ 91,257    ┆ 0         ┆ 0         ┆ 0         ┆ … ┆ 2020.0    ┆ 2017.0    ┆ a55475b1  ┆ a55475b1 │\n",
       "└───────────┴───────────┴───────────┴───────────┴───┴───────────┴───────────┴───────────┴──────────┘"
      ]
     },
     "execution_count": 20,
     "metadata": {},
     "output_type": "execute_result"
    }
   ],
   "source": [
    "total_credit_internal_depth = preprocess(\"bureau_a_2\",\"int_depth\")\n",
    "total_credit_internal_depth"
   ]
  },
  {
   "cell_type": "code",
   "execution_count": null,
   "metadata": {},
   "outputs": [
    {
     "data": {
      "text/html": [
       "<div><style>\n",
       ".dataframe > thead > tr,\n",
       ".dataframe > tbody > tr {\n",
       "  text-align: right;\n",
       "  white-space: pre-wrap;\n",
       "}\n",
       "</style>\n",
       "<small>shape: (36_505, 45)</small><table border=\"1\" class=\"dataframe\"><thead><tr><th>case_id</th><th>ext_shallow_amount_1115A</th><th>ext_shallow_credlmt_1052A</th><th>ext_shallow_credlmt_228A</th><th>ext_shallow_credlmt_3940954A</th><th>ext_shallow_credquantity_1099L</th><th>ext_shallow_credquantity_984L</th><th>ext_shallow_debtpastduevalue_732A</th><th>ext_shallow_debtvalue_227A</th><th>ext_shallow_dpd_550P</th><th>ext_shallow_dpd_733P</th><th>ext_shallow_dpdmax_851P</th><th>ext_shallow_installmentamount_644A</th><th>ext_shallow_installmentamount_833A</th><th>ext_shallow_instlamount_892A</th><th>ext_shallow_interesteffectiverate_369L</th><th>ext_shallow_interestrateyearly_538L</th><th>ext_shallow_maxdebtpduevalodued_3940955A</th><th>ext_shallow_num_group1</th><th>ext_shallow_numberofinstls_810L</th><th>ext_shallow_overdueamountmax_950A</th><th>ext_shallow_pmtdaysoverdue_1135P</th><th>ext_shallow_pmtnumpending_403L</th><th>ext_shallow_residualamount_1093A</th><th>ext_shallow_residualamount_127A</th><th>ext_shallow_residualamount_3940956A</th><th>ext_shallow_totalamount_503A</th><th>ext_shallow_totalamount_881A</th><th>ext_shallow_classificationofcontr_1114M</th><th>ext_shallow_contractdate_551D</th><th>ext_shallow_contractmaturitydate_151D</th><th>ext_shallow_contractst_516M</th><th>ext_shallow_contracttype_653M</th><th>ext_shallow_credor_3940957M</th><th>ext_shallow_dpdmaxdatemonth_804T</th><th>ext_shallow_dpdmaxdateyear_742T</th><th>ext_shallow_lastupdate_260D</th><th>ext_shallow_overdueamountmaxdatemonth_494T</th><th>ext_shallow_overdueamountmaxdateyear_432T</th><th>ext_shallow_periodicityofpmts_997L</th><th>ext_shallow_periodicityofpmts_997M</th><th>ext_shallow_pmtmethod_731M</th><th>ext_shallow_purposeofcred_722M</th><th>ext_shallow_subjectrole_326M</th><th>ext_shallow_subjectrole_43M</th></tr><tr><td>u32</td><td>f32</td><td>f32</td><td>f32</td><td>f32</td><td>f32</td><td>f32</td><td>f32</td><td>f32</td><td>f32</td><td>f32</td><td>f32</td><td>f32</td><td>f32</td><td>f32</td><td>f32</td><td>f32</td><td>f32</td><td>u16</td><td>f32</td><td>f32</td><td>f32</td><td>f32</td><td>f32</td><td>f32</td><td>f32</td><td>f32</td><td>f32</td><td>str</td><td>date</td><td>date</td><td>str</td><td>str</td><td>str</td><td>str</td><td>str</td><td>date</td><td>str</td><td>str</td><td>str</td><td>str</td><td>str</td><td>str</td><td>str</td><td>str</td></tr></thead><tbody><tr><td>188,522</td><td>612,455.875</td><td>20,000</td><td>40,000</td><td>20,000</td><td>2</td><td>9</td><td>0</td><td>559,850.625</td><td>0</td><td>0</td><td>28,517</td><td>0</td><td>563,349.8125</td><td>6,357.60205078125</td><td>4.590000152587891</td><td>39</td><td>0.6000000238418579</td><td>2</td><td>120</td><td>2</td><td>0</td><td>107</td><td>0</td><td>19,986.291015625</td><td>19,986.291015625</td><td>626,453.875</td><td>1,523,398.375</td><td>&quot;ea6782cc&quot;</td><td>2019-04-26</td><td>2020-01-02</td><td>&quot;7241344e&quot;</td><td>&quot;4257cbed&quot;</td><td>&quot;P0_31_66&quot;</td><td>&quot;8.0&quot;</td><td>&quot;2019.0&quot;</td><td>2019-12-20</td><td>&quot;5.0&quot;</td><td>&quot;2019.0&quot;</td><td>null</td><td>&quot;a0b598e4&quot;</td><td>&quot;f6e26148&quot;</td><td>&quot;60c73645&quot;</td><td>&quot;ab3c25cf&quot;</td><td>&quot;ab3c25cf&quot;</td></tr><tr><td>1,826,601</td><td>null</td><td>0</td><td>null</td><td>0</td><td>1</td><td>null</td><td>0</td><td>null</td><td>0</td><td>null</td><td>0</td><td>null</td><td>0</td><td>null</td><td>null</td><td>39</td><td>0</td><td>0</td><td>null</td><td>0</td><td>0</td><td>null</td><td>null</td><td>0</td><td>0</td><td>0</td><td>null</td><td>&quot;ea6782cc&quot;</td><td>2019-03-14</td><td>2022-01-14</td><td>&quot;7241344e&quot;</td><td>&quot;1c9c5356&quot;</td><td>&quot;P0_31_66&quot;</td><td>&quot;4.0&quot;</td><td>&quot;2019.0&quot;</td><td>2020-04-04</td><td>&quot;4.0&quot;</td><td>&quot;2019.0&quot;</td><td>null</td><td>&quot;a55475b1&quot;</td><td>&quot;a55475b1&quot;</td><td>&quot;60c73645&quot;</td><td>&quot;ab3c25cf&quot;</td><td>&quot;a55475b1&quot;</td></tr><tr><td>1,336,900</td><td>101,280</td><td>100,000</td><td>0</td><td>100,000</td><td>2</td><td>5</td><td>187.68800354003906</td><td>2,880.93212890625</td><td>844</td><td>0</td><td>16,378</td><td>0</td><td>81,657.515625</td><td>3,657.60009765625</td><td>22.950000762939453</td><td>45</td><td>1.2000000476837158</td><td>2</td><td>36</td><td>4</td><td>0</td><td>3</td><td>0</td><td>81,657.515625</td><td>81,657.515625</td><td>117,080</td><td>170,753.40625</td><td>&quot;ea6782cc&quot;</td><td>2018-07-07</td><td>2019-04-14</td><td>&quot;7241344e&quot;</td><td>&quot;4257cbed&quot;</td><td>&quot;P0_31_66&quot;</td><td>&quot;4.0&quot;</td><td>&quot;2018.0&quot;</td><td>2019-04-17</td><td>&quot;1.0&quot;</td><td>&quot;2018.0&quot;</td><td>null</td><td>&quot;a0b598e4&quot;</td><td>&quot;f6e26148&quot;</td><td>&quot;60c73645&quot;</td><td>&quot;ab3c25cf&quot;</td><td>&quot;ab3c25cf&quot;</td></tr><tr><td>&hellip;</td><td>&hellip;</td><td>&hellip;</td><td>&hellip;</td><td>&hellip;</td><td>&hellip;</td><td>&hellip;</td><td>&hellip;</td><td>&hellip;</td><td>&hellip;</td><td>&hellip;</td><td>&hellip;</td><td>&hellip;</td><td>&hellip;</td><td>&hellip;</td><td>&hellip;</td><td>&hellip;</td><td>&hellip;</td><td>&hellip;</td><td>&hellip;</td><td>&hellip;</td><td>&hellip;</td><td>&hellip;</td><td>&hellip;</td><td>&hellip;</td><td>&hellip;</td><td>&hellip;</td><td>&hellip;</td><td>&hellip;</td><td>&hellip;</td><td>&hellip;</td><td>&hellip;</td><td>&hellip;</td><td>&hellip;</td><td>&hellip;</td><td>&hellip;</td><td>&hellip;</td><td>&hellip;</td><td>&hellip;</td><td>&hellip;</td><td>&hellip;</td><td>&hellip;</td><td>&hellip;</td><td>&hellip;</td><td>&hellip;</td></tr><tr><td>57,660</td><td>null</td><td>133,279</td><td>null</td><td>113,279</td><td>2</td><td>1</td><td>0</td><td>null</td><td>0</td><td>0</td><td>32,618</td><td>0</td><td>109,099.578125</td><td>null</td><td>null</td><td>null</td><td>11.40000057220459</td><td>1</td><td>null</td><td>16.200000762939453</td><td>0</td><td>null</td><td>null</td><td>109,099.578125</td><td>90,845.9765625</td><td>133,279</td><td>16,800</td><td>&quot;ea6782cc&quot;</td><td>2019-12-08</td><td>2021-03-14</td><td>&quot;7241344e&quot;</td><td>&quot;1c9c5356&quot;</td><td>&quot;b619fa46&quot;</td><td>&quot;10.0&quot;</td><td>&quot;2017.0&quot;</td><td>2020-10-10</td><td>&quot;12.0&quot;</td><td>&quot;2019.0&quot;</td><td>null</td><td>&quot;a55475b1&quot;</td><td>&quot;a55475b1&quot;</td><td>&quot;60c73645&quot;</td><td>&quot;a55475b1&quot;</td><td>&quot;a55475b1&quot;</td></tr><tr><td>57,689</td><td>null</td><td>144,958.796875</td><td>null</td><td>114,958.8046875</td><td>2</td><td>null</td><td>0</td><td>null</td><td>0</td><td>null</td><td>0</td><td>null</td><td>82,776.8046875</td><td>null</td><td>null</td><td>null</td><td>0</td><td>1</td><td>null</td><td>0</td><td>0</td><td>null</td><td>null</td><td>82,776.8046875</td><td>72,465.8046875</td><td>144,958.796875</td><td>null</td><td>&quot;ea6782cc&quot;</td><td>2019-08-20</td><td>2021-12-31</td><td>&quot;7241344e&quot;</td><td>&quot;1c9c5356&quot;</td><td>&quot;b619fa46&quot;</td><td>&quot;2.0&quot;</td><td>&quot;2020.0&quot;</td><td>2020-10-10</td><td>&quot;2.0&quot;</td><td>&quot;2020.0&quot;</td><td>null</td><td>&quot;a55475b1&quot;</td><td>&quot;a55475b1&quot;</td><td>&quot;60c73645&quot;</td><td>&quot;a55475b1&quot;</td><td>&quot;a55475b1&quot;</td></tr><tr><td>57,700</td><td>425,600</td><td>0</td><td>null</td><td>0</td><td>2</td><td>null</td><td>6,062.72607421875</td><td>678,996</td><td>27,282</td><td>null</td><td>27,911</td><td>null</td><td>843,961.6875</td><td>18,861</td><td>null</td><td>null</td><td>4</td><td>2</td><td>53</td><td>4</td><td>3</td><td>36</td><td>null</td><td>0</td><td>0</td><td>625,600</td><td>null</td><td>&quot;ea6782cc&quot;</td><td>2020-10-12</td><td>2023-10-12</td><td>&quot;8f3a197f&quot;</td><td>&quot;4257cbed&quot;</td><td>&quot;74bd67a8&quot;</td><td>&quot;10.0&quot;</td><td>&quot;2020.0&quot;</td><td>2020-10-14</td><td>&quot;8.0&quot;</td><td>&quot;2020.0&quot;</td><td>null</td><td>&quot;a0b598e4&quot;</td><td>&quot;e914c86c&quot;</td><td>&quot;60c73645&quot;</td><td>&quot;ab3c25cf&quot;</td><td>&quot;a55475b1&quot;</td></tr></tbody></table></div>"
      ],
      "text/plain": [
       "shape: (36_505, 45)\n",
       "┌───────────┬───────────┬───────────┬───────────┬───┬───────────┬───────────┬───────────┬──────────┐\n",
       "│ case_id   ┆ ext_shall ┆ ext_shall ┆ ext_shall ┆ … ┆ ext_shall ┆ ext_shall ┆ ext_shall ┆ ext_shal │\n",
       "│ ---       ┆ ow_amount ┆ ow_credlm ┆ ow_credlm ┆   ┆ ow_pmtmet ┆ ow_purpos ┆ ow_subjec ┆ low_subj │\n",
       "│ u32       ┆ _1115A    ┆ t_1052A   ┆ t_228A    ┆   ┆ hod_731M  ┆ eofcred_7 ┆ trole_326 ┆ ectrole_ │\n",
       "│           ┆ ---       ┆ ---       ┆ ---       ┆   ┆ ---       ┆ 22M       ┆ M         ┆ 43M      │\n",
       "│           ┆ f32       ┆ f32       ┆ f32       ┆   ┆ str       ┆ ---       ┆ ---       ┆ ---      │\n",
       "│           ┆           ┆           ┆           ┆   ┆           ┆ str       ┆ str       ┆ str      │\n",
       "╞═══════════╪═══════════╪═══════════╪═══════════╪═══╪═══════════╪═══════════╪═══════════╪══════════╡\n",
       "│ 188,522   ┆ 612,455.8 ┆ 20,000    ┆ 40,000    ┆ … ┆ f6e26148  ┆ 60c73645  ┆ ab3c25cf  ┆ ab3c25cf │\n",
       "│           ┆ 75        ┆           ┆           ┆   ┆           ┆           ┆           ┆          │\n",
       "│ 1,826,601 ┆ null      ┆ 0         ┆ null      ┆ … ┆ a55475b1  ┆ 60c73645  ┆ ab3c25cf  ┆ a55475b1 │\n",
       "│ 1,336,900 ┆ 101,280   ┆ 100,000   ┆ 0         ┆ … ┆ f6e26148  ┆ 60c73645  ┆ ab3c25cf  ┆ ab3c25cf │\n",
       "│ …         ┆ …         ┆ …         ┆ …         ┆ … ┆ …         ┆ …         ┆ …         ┆ …        │\n",
       "│ 57,660    ┆ null      ┆ 133,279   ┆ null      ┆ … ┆ a55475b1  ┆ 60c73645  ┆ a55475b1  ┆ a55475b1 │\n",
       "│ 57,689    ┆ null      ┆ 144,958.7 ┆ null      ┆ … ┆ a55475b1  ┆ 60c73645  ┆ a55475b1  ┆ a55475b1 │\n",
       "│           ┆           ┆ 96875     ┆           ┆   ┆           ┆           ┆           ┆          │\n",
       "│ 57,700    ┆ 425,600   ┆ 0         ┆ null      ┆ … ┆ e914c86c  ┆ 60c73645  ┆ ab3c25cf  ┆ a55475b1 │\n",
       "└───────────┴───────────┴───────────┴───────────┴───┴───────────┴───────────┴───────────┴──────────┘"
      ]
     },
     "execution_count": 21,
     "metadata": {},
     "output_type": "execute_result"
    }
   ],
   "source": [
    "total_credit_external_shallow = preprocess(\"bureau_b_1\",\"ext_shallow\")\n",
    "total_credit_external_shallow"
   ]
  },
  {
   "cell_type": "code",
   "execution_count": null,
   "metadata": {},
   "outputs": [
    {
     "data": {
      "text/html": [
       "<div><style>\n",
       ".dataframe > thead > tr,\n",
       ".dataframe > tbody > tr {\n",
       "  text-align: right;\n",
       "  white-space: pre-wrap;\n",
       "}\n",
       "</style>\n",
       "<small>shape: (36_448, 6)</small><table border=\"1\" class=\"dataframe\"><thead><tr><th>case_id</th><th>ext_depth_num_group1</th><th>ext_depth_num_group2</th><th>ext_depth_pmts_dpdvalue_108P</th><th>ext_depth_pmts_pmtsoverdue_635A</th><th>ext_depth_pmts_date_1107D</th></tr><tr><td>u32</td><td>u16</td><td>u16</td><td>f32</td><td>f32</td><td>date</td></tr></thead><tbody><tr><td>2,575,210</td><td>1</td><td>36</td><td>0</td><td>0</td><td>2018-11-15</td></tr><tr><td>855,690</td><td>1</td><td>8</td><td>0</td><td>0</td><td>2019-10-15</td></tr><tr><td>104,753</td><td>2</td><td>35</td><td>52,730</td><td>2</td><td>2018-10-15</td></tr><tr><td>&hellip;</td><td>&hellip;</td><td>&hellip;</td><td>&hellip;</td><td>&hellip;</td><td>&hellip;</td></tr><tr><td>1,686,588</td><td>1</td><td>6</td><td>0</td><td>0</td><td>2019-09-15</td></tr><tr><td>1,946,270</td><td>1</td><td>35</td><td>0</td><td>0</td><td>2020-09-15</td></tr><tr><td>57,660</td><td>1</td><td>34</td><td>8,814</td><td>2.200000047683716</td><td>2020-08-15</td></tr></tbody></table></div>"
      ],
      "text/plain": [
       "shape: (36_448, 6)\n",
       "┌───────────┬─────────────────┬─────────────────┬────────────────┬────────────────┬────────────────┐\n",
       "│ case_id   ┆ ext_depth_num_g ┆ ext_depth_num_g ┆ ext_depth_pmts ┆ ext_depth_pmts ┆ ext_depth_pmts │\n",
       "│ ---       ┆ roup1           ┆ roup2           ┆ _dpdvalue_108P ┆ _pmtsoverdue_6 ┆ _date_1107D    │\n",
       "│ u32       ┆ ---             ┆ ---             ┆ ---            ┆ 35A            ┆ ---            │\n",
       "│           ┆ u16             ┆ u16             ┆ f32            ┆ ---            ┆ date           │\n",
       "│           ┆                 ┆                 ┆                ┆ f32            ┆                │\n",
       "╞═══════════╪═════════════════╪═════════════════╪════════════════╪════════════════╪════════════════╡\n",
       "│ 2,575,210 ┆ 1               ┆ 36              ┆ 0              ┆ 0              ┆ 2018-11-15     │\n",
       "│ 855,690   ┆ 1               ┆ 8               ┆ 0              ┆ 0              ┆ 2019-10-15     │\n",
       "│ 104,753   ┆ 2               ┆ 35              ┆ 52,730         ┆ 2              ┆ 2018-10-15     │\n",
       "│ …         ┆ …               ┆ …               ┆ …              ┆ …              ┆ …              │\n",
       "│ 1,686,588 ┆ 1               ┆ 6               ┆ 0              ┆ 0              ┆ 2019-09-15     │\n",
       "│ 1,946,270 ┆ 1               ┆ 35              ┆ 0              ┆ 0              ┆ 2020-09-15     │\n",
       "│ 57,660    ┆ 1               ┆ 34              ┆ 8,814          ┆ 2.200000047683 ┆ 2020-08-15     │\n",
       "│           ┆                 ┆                 ┆                ┆ 716            ┆                │\n",
       "└───────────┴─────────────────┴─────────────────┴────────────────┴────────────────┴────────────────┘"
      ]
     },
     "execution_count": 22,
     "metadata": {},
     "output_type": "execute_result"
    }
   ],
   "source": [
    "total_credit_external_depth = preprocess(\"bureau_b_2\",\"ext_depth\")\n",
    "total_credit_external_depth"
   ]
  },
  {
   "cell_type": "code",
   "execution_count": null,
   "metadata": {},
   "outputs": [
    {
     "data": {
      "text/html": [
       "<div><style>\n",
       ".dataframe > thead > tr,\n",
       ".dataframe > tbody > tr {\n",
       "  text-align: right;\n",
       "  white-space: pre-wrap;\n",
       "}\n",
       "</style>\n",
       "<small>shape: (457_936, 5)</small><table border=\"1\" class=\"dataframe\"><thead><tr><th>case_id</th><th>reg_a_amount_4527230A</th><th>reg_a_num_group1</th><th>reg_a_name_4527232M</th><th>reg_a_recorddate_4527225D</th></tr><tr><td>u32</td><td>f32</td><td>u16</td><td>str</td><td>date</td></tr></thead><tbody><tr><td>1,552,673</td><td>4,837.60009765625</td><td>5</td><td>&quot;88a34b2a&quot;</td><td>2019-10-09</td></tr><tr><td>939,084</td><td>1,596.2000732421875</td><td>8</td><td>&quot;1dfc94c5&quot;</td><td>2020-02-01</td></tr><tr><td>857,527</td><td>3,412.800048828125</td><td>15</td><td>&quot;d4ad0a11&quot;</td><td>2019-11-24</td></tr><tr><td>&hellip;</td><td>&hellip;</td><td>&hellip;</td><td>&hellip;</td><td>&hellip;</td></tr><tr><td>1,704,672</td><td>2,596</td><td>5</td><td>&quot;5670e628&quot;</td><td>2020-01-06</td></tr><tr><td>57,679</td><td>3,640</td><td>4</td><td>&quot;ba006408&quot;</td><td>2020-10-20</td></tr><tr><td>57,689</td><td>3,214.800048828125</td><td>6</td><td>&quot;aac4edf4&quot;</td><td>2020-10-20</td></tr></tbody></table></div>"
      ],
      "text/plain": [
       "shape: (457_936, 5)\n",
       "┌───────────┬──────────────────────┬──────────────────┬─────────────────────┬──────────────────────┐\n",
       "│ case_id   ┆ reg_a_amount_4527230 ┆ reg_a_num_group1 ┆ reg_a_name_4527232M ┆ reg_a_recorddate_452 │\n",
       "│ ---       ┆ A                    ┆ ---              ┆ ---                 ┆ 7225D                │\n",
       "│ u32       ┆ ---                  ┆ u16              ┆ str                 ┆ ---                  │\n",
       "│           ┆ f32                  ┆                  ┆                     ┆ date                 │\n",
       "╞═══════════╪══════════════════════╪══════════════════╪═════════════════════╪══════════════════════╡\n",
       "│ 1,552,673 ┆ 4,837.60009765625    ┆ 5                ┆ 88a34b2a            ┆ 2019-10-09           │\n",
       "│ 939,084   ┆ 1,596.2000732421875  ┆ 8                ┆ 1dfc94c5            ┆ 2020-02-01           │\n",
       "│ 857,527   ┆ 3,412.800048828125   ┆ 15               ┆ d4ad0a11            ┆ 2019-11-24           │\n",
       "│ …         ┆ …                    ┆ …                ┆ …                   ┆ …                    │\n",
       "│ 1,704,672 ┆ 2,596                ┆ 5                ┆ 5670e628            ┆ 2020-01-06           │\n",
       "│ 57,679    ┆ 3,640                ┆ 4                ┆ ba006408            ┆ 2020-10-20           │\n",
       "│ 57,689    ┆ 3,214.800048828125   ┆ 6                ┆ aac4edf4            ┆ 2020-10-20           │\n",
       "└───────────┴──────────────────────┴──────────────────┴─────────────────────┴──────────────────────┘"
      ]
     },
     "execution_count": 23,
     "metadata": {},
     "output_type": "execute_result"
    }
   ],
   "source": [
    "total_registry_a = preprocess(\"registry_a\",\"reg_a\")\n",
    "total_registry_a"
   ]
  },
  {
   "cell_type": "code",
   "execution_count": null,
   "metadata": {},
   "outputs": [
    {
     "data": {
      "text/html": [
       "<div><style>\n",
       ".dataframe > thead > tr,\n",
       ".dataframe > tbody > tr {\n",
       "  text-align: right;\n",
       "  white-space: pre-wrap;\n",
       "}\n",
       "</style>\n",
       "<small>shape: (150_734, 5)</small><table border=\"1\" class=\"dataframe\"><thead><tr><th>case_id</th><th>reg_b_amount_4917619A</th><th>reg_b_num_group1</th><th>reg_b_deductiondate_4917603D</th><th>reg_b_name_4917606M</th></tr><tr><td>u32</td><td>f32</td><td>u16</td><td>date</td><td>str</td></tr></thead><tbody><tr><td>240,940</td><td>10,135</td><td>5</td><td>2020-06-05</td><td>&quot;b0356c56&quot;</td></tr><tr><td>1,946,693</td><td>8,910</td><td>5</td><td>2020-05-07</td><td>&quot;cb8cda49&quot;</td></tr><tr><td>985,345</td><td>18,630</td><td>5</td><td>2020-02-03</td><td>&quot;4e7d21f5&quot;</td></tr><tr><td>&hellip;</td><td>&hellip;</td><td>&hellip;</td><td>&hellip;</td><td>&hellip;</td></tr><tr><td>1,899,732</td><td>20,873.80078125</td><td>5</td><td>2020-07-14</td><td>&quot;f9a186d6&quot;</td></tr><tr><td>57,549</td><td>8,760.6005859375</td><td>11</td><td>2020-08-06</td><td>&quot;bf93e092&quot;</td></tr><tr><td>57,543</td><td>31,060.201171875</td><td>4</td><td>2020-09-17</td><td>&quot;d2142f5c&quot;</td></tr></tbody></table></div>"
      ],
      "text/plain": [
       "shape: (150_734, 5)\n",
       "┌───────────┬──────────────────────┬──────────────────┬──────────────────────┬─────────────────────┐\n",
       "│ case_id   ┆ reg_b_amount_4917619 ┆ reg_b_num_group1 ┆ reg_b_deductiondate_ ┆ reg_b_name_4917606M │\n",
       "│ ---       ┆ A                    ┆ ---              ┆ 4917603D             ┆ ---                 │\n",
       "│ u32       ┆ ---                  ┆ u16              ┆ ---                  ┆ str                 │\n",
       "│           ┆ f32                  ┆                  ┆ date                 ┆                     │\n",
       "╞═══════════╪══════════════════════╪══════════════════╪══════════════════════╪═════════════════════╡\n",
       "│ 240,940   ┆ 10,135               ┆ 5                ┆ 2020-06-05           ┆ b0356c56            │\n",
       "│ 1,946,693 ┆ 8,910                ┆ 5                ┆ 2020-05-07           ┆ cb8cda49            │\n",
       "│ 985,345   ┆ 18,630               ┆ 5                ┆ 2020-02-03           ┆ 4e7d21f5            │\n",
       "│ …         ┆ …                    ┆ …                ┆ …                    ┆ …                   │\n",
       "│ 1,899,732 ┆ 20,873.80078125      ┆ 5                ┆ 2020-07-14           ┆ f9a186d6            │\n",
       "│ 57,549    ┆ 8,760.6005859375     ┆ 11               ┆ 2020-08-06           ┆ bf93e092            │\n",
       "│ 57,543    ┆ 31,060.201171875     ┆ 4                ┆ 2020-09-17           ┆ d2142f5c            │\n",
       "└───────────┴──────────────────────┴──────────────────┴──────────────────────┴─────────────────────┘"
      ]
     },
     "execution_count": 24,
     "metadata": {},
     "output_type": "execute_result"
    }
   ],
   "source": [
    "total_registry_b = preprocess(\"registry_b\",\"reg_b\")\n",
    "total_registry_b"
   ]
  },
  {
   "cell_type": "code",
   "execution_count": null,
   "metadata": {},
   "outputs": [
    {
     "data": {
      "text/html": [
       "<div><style>\n",
       ".dataframe > thead > tr,\n",
       ".dataframe > tbody > tr {\n",
       "  text-align: right;\n",
       "  white-space: pre-wrap;\n",
       "}\n",
       "</style>\n",
       "<small>shape: (482_265, 5)</small><table border=\"1\" class=\"dataframe\"><thead><tr><th>case_id</th><th>reg_c_num_group1</th><th>reg_c_pmtamount_36A</th><th>reg_c_employername_160M</th><th>reg_c_processingdate_168D</th></tr><tr><td>u32</td><td>u16</td><td>f32</td><td>str</td><td>date</td></tr></thead><tbody><tr><td>135,303</td><td>9</td><td>1,331.5999755859375</td><td>&quot;18ac4741&quot;</td><td>2019-04-09</td></tr><tr><td>718,866</td><td>4</td><td>1,400</td><td>&quot;b37ec2f9&quot;</td><td>2019-06-10</td></tr><tr><td>1,365,205</td><td>12</td><td>4,499.60009765625</td><td>&quot;d4fe4906&quot;</td><td>2019-03-29</td></tr><tr><td>&hellip;</td><td>&hellip;</td><td>&hellip;</td><td>&hellip;</td><td>&hellip;</td></tr><tr><td>1,530,489</td><td>1</td><td>5,535.80029296875</td><td>&quot;09de35c5&quot;</td><td>2019-09-24</td></tr><tr><td>701,130</td><td>5</td><td>850</td><td>&quot;527d1b27&quot;</td><td>2019-04-19</td></tr><tr><td>18,197</td><td>2</td><td>850</td><td>&quot;587ca2ba&quot;</td><td>2019-04-25</td></tr></tbody></table></div>"
      ],
      "text/plain": [
       "shape: (482_265, 5)\n",
       "┌───────────┬──────────────────┬─────────────────────┬──────────────────────┬──────────────────────┐\n",
       "│ case_id   ┆ reg_c_num_group1 ┆ reg_c_pmtamount_36A ┆ reg_c_employername_1 ┆ reg_c_processingdate │\n",
       "│ ---       ┆ ---              ┆ ---                 ┆ 60M                  ┆ _168D                │\n",
       "│ u32       ┆ u16              ┆ f32                 ┆ ---                  ┆ ---                  │\n",
       "│           ┆                  ┆                     ┆ str                  ┆ date                 │\n",
       "╞═══════════╪══════════════════╪═════════════════════╪══════════════════════╪══════════════════════╡\n",
       "│ 135,303   ┆ 9                ┆ 1,331.5999755859375 ┆ 18ac4741             ┆ 2019-04-09           │\n",
       "│ 718,866   ┆ 4                ┆ 1,400               ┆ b37ec2f9             ┆ 2019-06-10           │\n",
       "│ 1,365,205 ┆ 12               ┆ 4,499.60009765625   ┆ d4fe4906             ┆ 2019-03-29           │\n",
       "│ …         ┆ …                ┆ …                   ┆ …                    ┆ …                    │\n",
       "│ 1,530,489 ┆ 1                ┆ 5,535.80029296875   ┆ 09de35c5             ┆ 2019-09-24           │\n",
       "│ 701,130   ┆ 5                ┆ 850                 ┆ 527d1b27             ┆ 2019-04-19           │\n",
       "│ 18,197    ┆ 2                ┆ 850                 ┆ 587ca2ba             ┆ 2019-04-25           │\n",
       "└───────────┴──────────────────┴─────────────────────┴──────────────────────┴──────────────────────┘"
      ]
     },
     "execution_count": 25,
     "metadata": {},
     "output_type": "execute_result"
    }
   ],
   "source": [
    "total_registry_c = preprocess(\"registry_c\",\"reg_c\")\n",
    "total_registry_c"
   ]
  },
  {
   "cell_type": "code",
   "execution_count": null,
   "metadata": {},
   "outputs": [],
   "source": [
    "drop_columns = [\n",
    "    \"Date\",\n",
    "    \"static_base_commnoinclast6m_3546845L\",\n",
    "    \"static_base_deferredmnthsnum_166L\",\n",
    "    \"static_base_mastercontrelectronic_519L\",\n",
    "    \"static_base_mastercontrexist_109L\",\n",
    "    \"static_base_bankacctype_710L\",\n",
    "    \"static_base_isdebitcard_729L\",\n",
    "    \"static_base_paytype1st_925L\",\n",
    "    \"static_base_paytype_783L\",\n",
    "    \"static_base_typesuite_864L\",\n",
    "    \"person_shallow_contaddr_matchlist_1032L\",\n",
    "    \"person_shallow_remitter_829L\",\n",
    "    \"person_depth_empls_employer_name_740M\",\n",
    "    \"int_shallow_subjectrole_182M\",\n",
    "    \"person_shallow_relationshiptoclient_642T\",\n",
    "    \"int_shallow_refreshdate_3813885D\",\n",
    "    \"int_shallow_monthlyinstlamount_674A\",\n",
    "    \"static_base_maxlnamtstart6m_4525199A\",\n",
    "    \"static_base_dtlastpmtallstes_4499206D\",\n",
    "    \"static_base_cardtype_51L\",\n",
    "    \"static_base_applicationscnt_1086L\",\n",
    "    \"past_shallow_profession_152M\",\n",
    "    \"int_shallow_periodicityofpmts_1102L\",\n",
    "    \"past_shallow_annuity_853A\",\n",
    "    \"card_shallow_openingdate_857D\",\n",
    "    \"deposit_shallow_openingdate_313D\",\n",
    "    \"int_shallow_credlmt_230A\",\n",
    "    \"static_base_avgpmtlast12m_4525200A\",\n",
    "    \"int_shallow_monthlyinstlamount_332A\",\n",
    "    \"static_base_maxinstallast24m_3658928A\",\n",
    "    \"int_shallow_outstandingamount_354A\",\n",
    "    \"static_base_clientscnt_946L\",\n",
    "    \"int_shallow_credlmt_935A\",\n",
    "    \"int_shallow_dpdmaxdatemonth_442T\",\n",
    "    \"int_shallow_periodicityofpmts_837L\",\n",
    "    \"static_base_clientscnt_304L\",\n",
    "    \"int_shallow_totaloutstanddebtvalue_668A\",\n",
    "    \"int_shallow_residualamount_488A\",\n",
    "    \"person_shallow_contaddr_smempladdr_334L\",\n",
    "    \"person_depth_conts_role_79M\",\n",
    "    \"int_shallow_subjectrole_93M\",\n",
    "    \"int_shallow_contractsum_5085717L\",\n",
    "    \"past_depth_cacccardblochreas_147M\",\n",
    "    \"int_shallow_overdueamount_659A\",\n",
    "    \"int_shallow_debtoverdue_47A\",\n",
    "    \"int_shallow_totaldebtoverduevalue_178A\",\n",
    "    \"int_shallow_overdueamountmaxdatemonth_284T\",\n",
    "    \"person_shallow_empladdr_district_926M\",\n",
    "    \"person_depth_empls_economicalst_849M\",\n",
    "    \"static_base_maxpmtlast3m_4525190A\",\n",
    "    \"past_shallow_isbidproduct_390L\",\n",
    "    \"person_shallow_housetype_905L\",\n",
    "    \"person_shallow_empladdr_zipcode_114M\",\n",
    "    \"int_shallow_overdueamountmax_155A\",\n",
    "    \"int_shallow_overdueamountmax2_14A\",\n",
    "    \"int_shallow_financialinstitution_591M\",\n",
    "    \"static_base_totinstallast1m_4525188A\",\n",
    "    \"static_base_lastapprcommoditycat_1041M\",\n",
    "    \"static_base_applicationcnt_361L\",\n",
    "    \"person_shallow_safeguarantyflag_411L\",\n",
    "    \"person_depth_addres_zip_823M\",\n",
    "    \"person_depth_addres_district_368M\",\n",
    "    \"int_shallow_overdueamountmax_35A\",\n",
    "    \"static_base_clientscnt_493L\",\n",
    "    \"int_shallow_overdueamountmax2_398A\",\n",
    "    \"past_shallow_actualdpd_943P\",\n",
    "    \"past_depth_credacc_cards_status_52L\",\n",
    "    \"person_depth_num_group2\",\n",
    "    \"static_base_actualdpdtolerance_344P\",\n",
    "    ]"
   ]
  },
  {
   "cell_type": "code",
   "execution_count": null,
   "metadata": {},
   "outputs": [],
   "source": [
    "gain_df = pl.read_csv(\"/home/sohail/Downloads/gains.csv\")\n",
    "drop_list = gain_df.filter(pl.col(\"gain\") < 5000)[\"col_name\"].to_list()\n",
    "select_list = gain_df.filter(pl.col(\"gain\") > 20000)[\"col_name\"].to_list()"
   ]
  },
  {
   "cell_type": "code",
   "execution_count": null,
   "metadata": {},
   "outputs": [],
   "source": [
    "df = (\n",
    "    total_base\n",
    "    .join(\n",
    "        total_past_shallow,\n",
    "        left_on=\"case_id_base\",\n",
    "        right_on=\"case_id\",\n",
    "        how=\"left\"\n",
    "    )\n",
    "    .join(\n",
    "        total_past_depth,\n",
    "        left_on=\"case_id_base\",\n",
    "        right_on=\"case_id\",\n",
    "        how=\"left\"\n",
    "    )\n",
    "    .join(\n",
    "        total_static_base,\n",
    "        left_on=\"case_id_base\",\n",
    "        right_on=\"case_id\",\n",
    "        how=\"left\"\n",
    "    )\n",
    "    .join(\n",
    "        total_person_shallow,\n",
    "        left_on=\"case_id_base\",\n",
    "        right_on=\"case_id\",\n",
    "        how=\"left\"\n",
    "    )\n",
    "    .join(\n",
    "        total_person_depth,\n",
    "        left_on=\"case_id_base\",\n",
    "        right_on=\"case_id\",\n",
    "        how=\"left\"\n",
    "    )\n",
    "    .join(\n",
    "        total_other_shallow,\n",
    "        left_on=\"case_id_base\",\n",
    "        right_on=\"case_id\",\n",
    "        how=\"left\"\n",
    "    )\n",
    "    .join(\n",
    "        total_deposit_shallow,\n",
    "        left_on=\"case_id_base\",\n",
    "        right_on=\"case_id\",\n",
    "        how=\"left\"\n",
    "    )\n",
    "    .join(\n",
    "        total_debitcard_shallow,\n",
    "        left_on=\"case_id_base\",\n",
    "        right_on=\"case_id\",\n",
    "        how=\"left\"\n",
    "    )\n",
    "    .join(\n",
    "        total_credit_internal_shallow,\n",
    "        left_on=\"case_id_base\",\n",
    "        right_on=\"case_id\",\n",
    "        how=\"left\"\n",
    "    )\n",
    "    .join(\n",
    "        total_credit_internal_depth,\n",
    "        left_on=\"case_id_base\",\n",
    "        right_on=\"case_id\",\n",
    "        how=\"left\"\n",
    "    )\n",
    "    .join(\n",
    "        total_credit_external_shallow,\n",
    "        left_on=\"case_id_base\",\n",
    "        right_on=\"case_id\",\n",
    "        how=\"left\"\n",
    "    )\n",
    "    .join(\n",
    "        total_credit_external_depth,\n",
    "        left_on=\"case_id_base\",\n",
    "        right_on=\"case_id\",\n",
    "        how=\"left\"\n",
    "    )\n",
    "    .join(\n",
    "        total_registry_a,\n",
    "        left_on=\"case_id_base\",\n",
    "        right_on=\"case_id\",\n",
    "        how=\"left\"\n",
    "    )\n",
    "    .join(\n",
    "        total_registry_b,\n",
    "        left_on=\"case_id_base\",\n",
    "        right_on=\"case_id\",\n",
    "        how=\"left\"\n",
    "    )\n",
    "    .join(\n",
    "        total_registry_c,\n",
    "        left_on=\"case_id_base\",\n",
    "        right_on=\"case_id\",\n",
    "        how=\"left\"\n",
    "    )\n",
    "    .with_columns(\n",
    "        (pl.col(pl.Date) - pl.col(\"Date\")).dt.total_days(),\n",
    "        pl.col(pl.String).cast(pl.Categorical)\n",
    "    )\n",
    "    .drop(\"Date\")\n",
    "    # .with_columns(\n",
    "    #     pl.col(pl.INTEGER_DTYPES).fill_null(strategy=\"mean\"),\n",
    "    #     pl.col(pl.FLOAT_DTYPES).fill_null(strategy=\"mean\"),\n",
    "    #     pl.col(pl.Boolean).fill_null(value=pl.col(pl.Boolean).drop_nulls().mode().first()),\n",
    "    #     pl.col(pl.Categorical).fill_null(value=pl.col(pl.Categorical).drop_nulls().mode().first())\n",
    "    # )\n",
    ")"
   ]
  },
  {
   "cell_type": "code",
   "execution_count": null,
   "metadata": {},
   "outputs": [],
   "source": [
    "df.write_parquet(\"/home/sohail/Downloads/total_df.parquet\")"
   ]
  },
  {
   "cell_type": "code",
   "execution_count": 30,
   "metadata": {},
   "outputs": [],
   "source": [
    "# corr_df = pd.DataFrame()\n",
    "# for i,col in enumerate(total_df.columns):\n",
    "#     corr_df.loc[i,\"col\"] = col\n",
    "#     corr_df.loc[i,\"val\"] = (\n",
    "#         total_df\n",
    "#         .select(pl.corr(\"target\",col))\n",
    "#         .item()\n",
    "#     )\n",
    "# corr_df = pl.from_pandas(corr_df).sort(by=\"val\")\n",
    "# cols_list = corr_df.filter((pl.col(\"val\") > -0.0025) & (pl.col(\"val\") < 0.0025))[\"col\"].to_list()"
   ]
  },
  {
   "cell_type": "code",
   "execution_count": 31,
   "metadata": {},
   "outputs": [
    {
     "data": {
      "text/plain": [
       "[57543, 57549, 57551, 57552, 57569, 57630, 57631, 57632, 57633, 57634]"
      ]
     },
     "execution_count": 31,
     "metadata": {},
     "output_type": "execute_result"
    }
   ],
   "source": [
    "test_base.select(\"case_id_base\").to_series().to_list()"
   ]
  },
  {
   "cell_type": "code",
   "execution_count": 32,
   "metadata": {},
   "outputs": [
    {
     "ename": "AttributeError",
     "evalue": "'Series' object has no attribute 'isin'",
     "output_type": "error",
     "traceback": [
      "\u001b[0;31mAttributeError\u001b[0m\u001b[0;31m:\u001b[0m 'Series' object has no attribute 'isin'\n"
     ]
    }
   ],
   "source": [
    "submission_df = df[df[\"case_id_base\"].isin(test_base.select(\"case_id_base\").sort(by=\"case_id_base\").to_series().to_list())].drop(columns=[\"target\"])\n",
    "submission_df"
   ]
  },
  {
   "cell_type": "code",
   "execution_count": null,
   "metadata": {},
   "outputs": [],
   "source": [
    "X_total = df.loc[~df[\"case_id_base\"].isin(test_base.select(\"case_id_base\").sort(by=\"case_id_base\").to_series().to_list())].drop(columns=[\"target\",\"case_id_base\"])\n",
    "y_total = df.loc[~df[\"case_id_base\"].isin(test_base.select(\"case_id_base\").sort(by=\"case_id_base\").to_series().to_list()),[\"target\"]]"
   ]
  },
  {
   "cell_type": "code",
   "execution_count": null,
   "metadata": {},
   "outputs": [
    {
     "data": {
      "text/plain": [
       "27"
      ]
     },
     "execution_count": 31,
     "metadata": {},
     "output_type": "execute_result"
    }
   ],
   "source": [
    "del df\n",
    "del total_past_shallow\n",
    "del total_past_depth\n",
    "del total_static_base\n",
    "del total_person_depth\n",
    "del total_person_shallow\n",
    "del total_other_shallow\n",
    "del total_deposit_shallow\n",
    "del total_debitcard_shallow\n",
    "del total_credit_external_depth\n",
    "del total_credit_external_shallow\n",
    "del total_credit_internal_depth\n",
    "del total_credit_internal_shallow\n",
    "del total_registry_a\n",
    "del total_registry_b\n",
    "del total_registry_c\n",
    "gc.collect()"
   ]
  },
  {
   "cell_type": "code",
   "execution_count": null,
   "metadata": {},
   "outputs": [],
   "source": [
    "params = {\n",
    "    \"objective\":\"binary\",\n",
    "    \"metric\":\"auc\",\n",
    "    \"max_depth\": 16,\n",
    "    \"learning_rate\": 0.05,\n",
    "    \"n_estimators\": 2000,\n",
    "    \"colsample_bynode\": 0.8,\n",
    "    \"colsample_bytree\": 0.8,\n",
    "    \"verbose\": -1,\n",
    "    \"random_state\": 42,\n",
    "    \"reg_alpha\": 0.1,\n",
    "    \"reg_lambda\": 10,\n",
    "    \"extra_trees\": True,\n",
    "    \"num_leaves\": 64,\n",
    "    \"device\": \"gpu\",\n",
    "    \"verbose\": -1\n",
    "}"
   ]
  },
  {
   "cell_type": "code",
   "execution_count": null,
   "metadata": {},
   "outputs": [],
   "source": [
    "X_train,X_valid,y_train,y_valid = train_test_split(X_total,y_total,stratify=y_total,random_state=69,shuffle=True,test_size=0.15)\n",
    "del X_total,y_total"
   ]
  },
  {
   "cell_type": "code",
   "execution_count": null,
   "metadata": {},
   "outputs": [
    {
     "name": "stdout",
     "output_type": "stream",
     "text": [
      "Training until validation scores don't improve for 500 rounds\n",
      "[100]\tvalid_0's auc: 0.832495\n",
      "[200]\tvalid_0's auc: 0.843628\n",
      "[300]\tvalid_0's auc: 0.848076\n",
      "[400]\tvalid_0's auc: 0.850703\n",
      "[500]\tvalid_0's auc: 0.85213\n",
      "[600]\tvalid_0's auc: 0.853176\n",
      "[700]\tvalid_0's auc: 0.853795\n",
      "[800]\tvalid_0's auc: 0.854136\n",
      "[900]\tvalid_0's auc: 0.854428\n",
      "[1000]\tvalid_0's auc: 0.854753\n",
      "[1100]\tvalid_0's auc: 0.854902\n",
      "[1200]\tvalid_0's auc: 0.855\n",
      "[1300]\tvalid_0's auc: 0.855121\n",
      "[1400]\tvalid_0's auc: 0.855187\n",
      "[1500]\tvalid_0's auc: 0.85526\n",
      "[1600]\tvalid_0's auc: 0.855392\n",
      "[1700]\tvalid_0's auc: 0.855437\n",
      "[1800]\tvalid_0's auc: 0.855495\n",
      "[1900]\tvalid_0's auc: 0.855499\n",
      "[2000]\tvalid_0's auc: 0.855426\n",
      "Did not meet early stopping. Best iteration is:\n",
      "[1823]\tvalid_0's auc: 0.85554\n"
     ]
    },
    {
     "data": {
      "text/html": [
       "<style>#sk-container-id-1 {\n",
       "  /* Definition of color scheme common for light and dark mode */\n",
       "  --sklearn-color-text: black;\n",
       "  --sklearn-color-line: gray;\n",
       "  /* Definition of color scheme for unfitted estimators */\n",
       "  --sklearn-color-unfitted-level-0: #fff5e6;\n",
       "  --sklearn-color-unfitted-level-1: #f6e4d2;\n",
       "  --sklearn-color-unfitted-level-2: #ffe0b3;\n",
       "  --sklearn-color-unfitted-level-3: chocolate;\n",
       "  /* Definition of color scheme for fitted estimators */\n",
       "  --sklearn-color-fitted-level-0: #f0f8ff;\n",
       "  --sklearn-color-fitted-level-1: #d4ebff;\n",
       "  --sklearn-color-fitted-level-2: #b3dbfd;\n",
       "  --sklearn-color-fitted-level-3: cornflowerblue;\n",
       "\n",
       "  /* Specific color for light theme */\n",
       "  --sklearn-color-text-on-default-background: var(--sg-text-color, var(--theme-code-foreground, var(--jp-content-font-color1, black)));\n",
       "  --sklearn-color-background: var(--sg-background-color, var(--theme-background, var(--jp-layout-color0, white)));\n",
       "  --sklearn-color-border-box: var(--sg-text-color, var(--theme-code-foreground, var(--jp-content-font-color1, black)));\n",
       "  --sklearn-color-icon: #696969;\n",
       "\n",
       "  @media (prefers-color-scheme: dark) {\n",
       "    /* Redefinition of color scheme for dark theme */\n",
       "    --sklearn-color-text-on-default-background: var(--sg-text-color, var(--theme-code-foreground, var(--jp-content-font-color1, white)));\n",
       "    --sklearn-color-background: var(--sg-background-color, var(--theme-background, var(--jp-layout-color0, #111)));\n",
       "    --sklearn-color-border-box: var(--sg-text-color, var(--theme-code-foreground, var(--jp-content-font-color1, white)));\n",
       "    --sklearn-color-icon: #878787;\n",
       "  }\n",
       "}\n",
       "\n",
       "#sk-container-id-1 {\n",
       "  color: var(--sklearn-color-text);\n",
       "}\n",
       "\n",
       "#sk-container-id-1 pre {\n",
       "  padding: 0;\n",
       "}\n",
       "\n",
       "#sk-container-id-1 input.sk-hidden--visually {\n",
       "  border: 0;\n",
       "  clip: rect(1px 1px 1px 1px);\n",
       "  clip: rect(1px, 1px, 1px, 1px);\n",
       "  height: 1px;\n",
       "  margin: -1px;\n",
       "  overflow: hidden;\n",
       "  padding: 0;\n",
       "  position: absolute;\n",
       "  width: 1px;\n",
       "}\n",
       "\n",
       "#sk-container-id-1 div.sk-dashed-wrapped {\n",
       "  border: 1px dashed var(--sklearn-color-line);\n",
       "  margin: 0 0.4em 0.5em 0.4em;\n",
       "  box-sizing: border-box;\n",
       "  padding-bottom: 0.4em;\n",
       "  background-color: var(--sklearn-color-background);\n",
       "}\n",
       "\n",
       "#sk-container-id-1 div.sk-container {\n",
       "  /* jupyter's `normalize.less` sets `[hidden] { display: none; }`\n",
       "     but bootstrap.min.css set `[hidden] { display: none !important; }`\n",
       "     so we also need the `!important` here to be able to override the\n",
       "     default hidden behavior on the sphinx rendered scikit-learn.org.\n",
       "     See: https://github.com/scikit-learn/scikit-learn/issues/21755 */\n",
       "  display: inline-block !important;\n",
       "  position: relative;\n",
       "}\n",
       "\n",
       "#sk-container-id-1 div.sk-text-repr-fallback {\n",
       "  display: none;\n",
       "}\n",
       "\n",
       "div.sk-parallel-item,\n",
       "div.sk-serial,\n",
       "div.sk-item {\n",
       "  /* draw centered vertical line to link estimators */\n",
       "  background-image: linear-gradient(var(--sklearn-color-text-on-default-background), var(--sklearn-color-text-on-default-background));\n",
       "  background-size: 2px 100%;\n",
       "  background-repeat: no-repeat;\n",
       "  background-position: center center;\n",
       "}\n",
       "\n",
       "/* Parallel-specific style estimator block */\n",
       "\n",
       "#sk-container-id-1 div.sk-parallel-item::after {\n",
       "  content: \"\";\n",
       "  width: 100%;\n",
       "  border-bottom: 2px solid var(--sklearn-color-text-on-default-background);\n",
       "  flex-grow: 1;\n",
       "}\n",
       "\n",
       "#sk-container-id-1 div.sk-parallel {\n",
       "  display: flex;\n",
       "  align-items: stretch;\n",
       "  justify-content: center;\n",
       "  background-color: var(--sklearn-color-background);\n",
       "  position: relative;\n",
       "}\n",
       "\n",
       "#sk-container-id-1 div.sk-parallel-item {\n",
       "  display: flex;\n",
       "  flex-direction: column;\n",
       "}\n",
       "\n",
       "#sk-container-id-1 div.sk-parallel-item:first-child::after {\n",
       "  align-self: flex-end;\n",
       "  width: 50%;\n",
       "}\n",
       "\n",
       "#sk-container-id-1 div.sk-parallel-item:last-child::after {\n",
       "  align-self: flex-start;\n",
       "  width: 50%;\n",
       "}\n",
       "\n",
       "#sk-container-id-1 div.sk-parallel-item:only-child::after {\n",
       "  width: 0;\n",
       "}\n",
       "\n",
       "/* Serial-specific style estimator block */\n",
       "\n",
       "#sk-container-id-1 div.sk-serial {\n",
       "  display: flex;\n",
       "  flex-direction: column;\n",
       "  align-items: center;\n",
       "  background-color: var(--sklearn-color-background);\n",
       "  padding-right: 1em;\n",
       "  padding-left: 1em;\n",
       "}\n",
       "\n",
       "\n",
       "/* Toggleable style: style used for estimator/Pipeline/ColumnTransformer box that is\n",
       "clickable and can be expanded/collapsed.\n",
       "- Pipeline and ColumnTransformer use this feature and define the default style\n",
       "- Estimators will overwrite some part of the style using the `sk-estimator` class\n",
       "*/\n",
       "\n",
       "/* Pipeline and ColumnTransformer style (default) */\n",
       "\n",
       "#sk-container-id-1 div.sk-toggleable {\n",
       "  /* Default theme specific background. It is overwritten whether we have a\n",
       "  specific estimator or a Pipeline/ColumnTransformer */\n",
       "  background-color: var(--sklearn-color-background);\n",
       "}\n",
       "\n",
       "/* Toggleable label */\n",
       "#sk-container-id-1 label.sk-toggleable__label {\n",
       "  cursor: pointer;\n",
       "  display: block;\n",
       "  width: 100%;\n",
       "  margin-bottom: 0;\n",
       "  padding: 0.5em;\n",
       "  box-sizing: border-box;\n",
       "  text-align: center;\n",
       "}\n",
       "\n",
       "#sk-container-id-1 label.sk-toggleable__label-arrow:before {\n",
       "  /* Arrow on the left of the label */\n",
       "  content: \"▸\";\n",
       "  float: left;\n",
       "  margin-right: 0.25em;\n",
       "  color: var(--sklearn-color-icon);\n",
       "}\n",
       "\n",
       "#sk-container-id-1 label.sk-toggleable__label-arrow:hover:before {\n",
       "  color: var(--sklearn-color-text);\n",
       "}\n",
       "\n",
       "/* Toggleable content - dropdown */\n",
       "\n",
       "#sk-container-id-1 div.sk-toggleable__content {\n",
       "  max-height: 0;\n",
       "  max-width: 0;\n",
       "  overflow: hidden;\n",
       "  text-align: left;\n",
       "  /* unfitted */\n",
       "  background-color: var(--sklearn-color-unfitted-level-0);\n",
       "}\n",
       "\n",
       "#sk-container-id-1 div.sk-toggleable__content.fitted {\n",
       "  /* fitted */\n",
       "  background-color: var(--sklearn-color-fitted-level-0);\n",
       "}\n",
       "\n",
       "#sk-container-id-1 div.sk-toggleable__content pre {\n",
       "  margin: 0.2em;\n",
       "  border-radius: 0.25em;\n",
       "  color: var(--sklearn-color-text);\n",
       "  /* unfitted */\n",
       "  background-color: var(--sklearn-color-unfitted-level-0);\n",
       "}\n",
       "\n",
       "#sk-container-id-1 div.sk-toggleable__content.fitted pre {\n",
       "  /* unfitted */\n",
       "  background-color: var(--sklearn-color-fitted-level-0);\n",
       "}\n",
       "\n",
       "#sk-container-id-1 input.sk-toggleable__control:checked~div.sk-toggleable__content {\n",
       "  /* Expand drop-down */\n",
       "  max-height: 200px;\n",
       "  max-width: 100%;\n",
       "  overflow: auto;\n",
       "}\n",
       "\n",
       "#sk-container-id-1 input.sk-toggleable__control:checked~label.sk-toggleable__label-arrow:before {\n",
       "  content: \"▾\";\n",
       "}\n",
       "\n",
       "/* Pipeline/ColumnTransformer-specific style */\n",
       "\n",
       "#sk-container-id-1 div.sk-label input.sk-toggleable__control:checked~label.sk-toggleable__label {\n",
       "  color: var(--sklearn-color-text);\n",
       "  background-color: var(--sklearn-color-unfitted-level-2);\n",
       "}\n",
       "\n",
       "#sk-container-id-1 div.sk-label.fitted input.sk-toggleable__control:checked~label.sk-toggleable__label {\n",
       "  background-color: var(--sklearn-color-fitted-level-2);\n",
       "}\n",
       "\n",
       "/* Estimator-specific style */\n",
       "\n",
       "/* Colorize estimator box */\n",
       "#sk-container-id-1 div.sk-estimator input.sk-toggleable__control:checked~label.sk-toggleable__label {\n",
       "  /* unfitted */\n",
       "  background-color: var(--sklearn-color-unfitted-level-2);\n",
       "}\n",
       "\n",
       "#sk-container-id-1 div.sk-estimator.fitted input.sk-toggleable__control:checked~label.sk-toggleable__label {\n",
       "  /* fitted */\n",
       "  background-color: var(--sklearn-color-fitted-level-2);\n",
       "}\n",
       "\n",
       "#sk-container-id-1 div.sk-label label.sk-toggleable__label,\n",
       "#sk-container-id-1 div.sk-label label {\n",
       "  /* The background is the default theme color */\n",
       "  color: var(--sklearn-color-text-on-default-background);\n",
       "}\n",
       "\n",
       "/* On hover, darken the color of the background */\n",
       "#sk-container-id-1 div.sk-label:hover label.sk-toggleable__label {\n",
       "  color: var(--sklearn-color-text);\n",
       "  background-color: var(--sklearn-color-unfitted-level-2);\n",
       "}\n",
       "\n",
       "/* Label box, darken color on hover, fitted */\n",
       "#sk-container-id-1 div.sk-label.fitted:hover label.sk-toggleable__label.fitted {\n",
       "  color: var(--sklearn-color-text);\n",
       "  background-color: var(--sklearn-color-fitted-level-2);\n",
       "}\n",
       "\n",
       "/* Estimator label */\n",
       "\n",
       "#sk-container-id-1 div.sk-label label {\n",
       "  font-family: monospace;\n",
       "  font-weight: bold;\n",
       "  display: inline-block;\n",
       "  line-height: 1.2em;\n",
       "}\n",
       "\n",
       "#sk-container-id-1 div.sk-label-container {\n",
       "  text-align: center;\n",
       "}\n",
       "\n",
       "/* Estimator-specific */\n",
       "#sk-container-id-1 div.sk-estimator {\n",
       "  font-family: monospace;\n",
       "  border: 1px dotted var(--sklearn-color-border-box);\n",
       "  border-radius: 0.25em;\n",
       "  box-sizing: border-box;\n",
       "  margin-bottom: 0.5em;\n",
       "  /* unfitted */\n",
       "  background-color: var(--sklearn-color-unfitted-level-0);\n",
       "}\n",
       "\n",
       "#sk-container-id-1 div.sk-estimator.fitted {\n",
       "  /* fitted */\n",
       "  background-color: var(--sklearn-color-fitted-level-0);\n",
       "}\n",
       "\n",
       "/* on hover */\n",
       "#sk-container-id-1 div.sk-estimator:hover {\n",
       "  /* unfitted */\n",
       "  background-color: var(--sklearn-color-unfitted-level-2);\n",
       "}\n",
       "\n",
       "#sk-container-id-1 div.sk-estimator.fitted:hover {\n",
       "  /* fitted */\n",
       "  background-color: var(--sklearn-color-fitted-level-2);\n",
       "}\n",
       "\n",
       "/* Specification for estimator info (e.g. \"i\" and \"?\") */\n",
       "\n",
       "/* Common style for \"i\" and \"?\" */\n",
       "\n",
       ".sk-estimator-doc-link,\n",
       "a:link.sk-estimator-doc-link,\n",
       "a:visited.sk-estimator-doc-link {\n",
       "  float: right;\n",
       "  font-size: smaller;\n",
       "  line-height: 1em;\n",
       "  font-family: monospace;\n",
       "  background-color: var(--sklearn-color-background);\n",
       "  border-radius: 1em;\n",
       "  height: 1em;\n",
       "  width: 1em;\n",
       "  text-decoration: none !important;\n",
       "  margin-left: 1ex;\n",
       "  /* unfitted */\n",
       "  border: var(--sklearn-color-unfitted-level-1) 1pt solid;\n",
       "  color: var(--sklearn-color-unfitted-level-1);\n",
       "}\n",
       "\n",
       ".sk-estimator-doc-link.fitted,\n",
       "a:link.sk-estimator-doc-link.fitted,\n",
       "a:visited.sk-estimator-doc-link.fitted {\n",
       "  /* fitted */\n",
       "  border: var(--sklearn-color-fitted-level-1) 1pt solid;\n",
       "  color: var(--sklearn-color-fitted-level-1);\n",
       "}\n",
       "\n",
       "/* On hover */\n",
       "div.sk-estimator:hover .sk-estimator-doc-link:hover,\n",
       ".sk-estimator-doc-link:hover,\n",
       "div.sk-label-container:hover .sk-estimator-doc-link:hover,\n",
       ".sk-estimator-doc-link:hover {\n",
       "  /* unfitted */\n",
       "  background-color: var(--sklearn-color-unfitted-level-3);\n",
       "  color: var(--sklearn-color-background);\n",
       "  text-decoration: none;\n",
       "}\n",
       "\n",
       "div.sk-estimator.fitted:hover .sk-estimator-doc-link.fitted:hover,\n",
       ".sk-estimator-doc-link.fitted:hover,\n",
       "div.sk-label-container:hover .sk-estimator-doc-link.fitted:hover,\n",
       ".sk-estimator-doc-link.fitted:hover {\n",
       "  /* fitted */\n",
       "  background-color: var(--sklearn-color-fitted-level-3);\n",
       "  color: var(--sklearn-color-background);\n",
       "  text-decoration: none;\n",
       "}\n",
       "\n",
       "/* Span, style for the box shown on hovering the info icon */\n",
       ".sk-estimator-doc-link span {\n",
       "  display: none;\n",
       "  z-index: 9999;\n",
       "  position: relative;\n",
       "  font-weight: normal;\n",
       "  right: .2ex;\n",
       "  padding: .5ex;\n",
       "  margin: .5ex;\n",
       "  width: min-content;\n",
       "  min-width: 20ex;\n",
       "  max-width: 50ex;\n",
       "  color: var(--sklearn-color-text);\n",
       "  box-shadow: 2pt 2pt 4pt #999;\n",
       "  /* unfitted */\n",
       "  background: var(--sklearn-color-unfitted-level-0);\n",
       "  border: .5pt solid var(--sklearn-color-unfitted-level-3);\n",
       "}\n",
       "\n",
       ".sk-estimator-doc-link.fitted span {\n",
       "  /* fitted */\n",
       "  background: var(--sklearn-color-fitted-level-0);\n",
       "  border: var(--sklearn-color-fitted-level-3);\n",
       "}\n",
       "\n",
       ".sk-estimator-doc-link:hover span {\n",
       "  display: block;\n",
       "}\n",
       "\n",
       "/* \"?\"-specific style due to the `<a>` HTML tag */\n",
       "\n",
       "#sk-container-id-1 a.estimator_doc_link {\n",
       "  float: right;\n",
       "  font-size: 1rem;\n",
       "  line-height: 1em;\n",
       "  font-family: monospace;\n",
       "  background-color: var(--sklearn-color-background);\n",
       "  border-radius: 1rem;\n",
       "  height: 1rem;\n",
       "  width: 1rem;\n",
       "  text-decoration: none;\n",
       "  /* unfitted */\n",
       "  color: var(--sklearn-color-unfitted-level-1);\n",
       "  border: var(--sklearn-color-unfitted-level-1) 1pt solid;\n",
       "}\n",
       "\n",
       "#sk-container-id-1 a.estimator_doc_link.fitted {\n",
       "  /* fitted */\n",
       "  border: var(--sklearn-color-fitted-level-1) 1pt solid;\n",
       "  color: var(--sklearn-color-fitted-level-1);\n",
       "}\n",
       "\n",
       "/* On hover */\n",
       "#sk-container-id-1 a.estimator_doc_link:hover {\n",
       "  /* unfitted */\n",
       "  background-color: var(--sklearn-color-unfitted-level-3);\n",
       "  color: var(--sklearn-color-background);\n",
       "  text-decoration: none;\n",
       "}\n",
       "\n",
       "#sk-container-id-1 a.estimator_doc_link.fitted:hover {\n",
       "  /* fitted */\n",
       "  background-color: var(--sklearn-color-fitted-level-3);\n",
       "}\n",
       "</style><div id=\"sk-container-id-1\" class=\"sk-top-container\"><div class=\"sk-text-repr-fallback\"><pre>LGBMClassifier(colsample_bynode=0.7, colsample_bytree=0.7, device=&#x27;gpu&#x27;,\n",
       "               extra_trees=True, learning_rate=0.05, max_depth=16, metric=&#x27;auc&#x27;,\n",
       "               n_estimators=2000, num_leaves=64, objective=&#x27;binary&#x27;,\n",
       "               random_state=42, reg_alpha=0.1, reg_lambda=10, verbose=-1)</pre><b>In a Jupyter environment, please rerun this cell to show the HTML representation or trust the notebook. <br />On GitHub, the HTML representation is unable to render, please try loading this page with nbviewer.org.</b></div><div class=\"sk-container\" hidden><div class=\"sk-item\"><div class=\"sk-estimator fitted sk-toggleable\"><input class=\"sk-toggleable__control sk-hidden--visually\" id=\"sk-estimator-id-1\" type=\"checkbox\" checked><label for=\"sk-estimator-id-1\" class=\"sk-toggleable__label fitted sk-toggleable__label-arrow fitted\">&nbsp;LGBMClassifier<span class=\"sk-estimator-doc-link fitted\">i<span>Fitted</span></span></label><div class=\"sk-toggleable__content fitted\"><pre>LGBMClassifier(colsample_bynode=0.7, colsample_bytree=0.7, device=&#x27;gpu&#x27;,\n",
       "               extra_trees=True, learning_rate=0.05, max_depth=16, metric=&#x27;auc&#x27;,\n",
       "               n_estimators=2000, num_leaves=64, objective=&#x27;binary&#x27;,\n",
       "               random_state=42, reg_alpha=0.1, reg_lambda=10, verbose=-1)</pre></div> </div></div></div></div>"
      ],
      "text/plain": [
       "LGBMClassifier(colsample_bynode=0.7, colsample_bytree=0.7, device='gpu',\n",
       "               extra_trees=True, learning_rate=0.05, max_depth=16, metric='auc',\n",
       "               n_estimators=2000, num_leaves=64, objective='binary',\n",
       "               random_state=42, reg_alpha=0.1, reg_lambda=10, verbose=-1)"
      ]
     },
     "execution_count": 34,
     "metadata": {},
     "output_type": "execute_result"
    }
   ],
   "source": [
    "model = lgb.LGBMClassifier(**params)\n",
    "model.fit(X_train,y_train,eval_set=[(X_valid,y_valid)],callbacks=[lgb.log_evaluation(100),lgb.early_stopping(500)])"
   ]
  },
  {
   "cell_type": "code",
   "execution_count": null,
   "metadata": {},
   "outputs": [
    {
     "ename": "ValueError",
     "evalue": "Failed to convert a NumPy array to a Tensor (Unsupported object type int).",
     "output_type": "error",
     "traceback": [
      "\u001b[0;31mTypeError\u001b[0m\u001b[0;31m:\u001b[0m Could not build a `TypeSpec` for         month  week  weekday  year  past_shallow_byoccupationinc_3656910L  \\\n480311     11    46        7     0                           27272.957031   \n421480      9    38        3     0                               1.000000   \n221960      1     2        3     0                           27272.957031   \n710528      3    10        6     0                               1.000000   \n474585     11    46        2     0                           27272.957031   \n...       ...   ...      ...   ...                                    ...   \n758081      4    17        5     0                           27272.957031   \n953297      9    38        6     0                               1.000000   \n65381       2     7        3     0                           25000.000000   \n896318      8    33        4     0                           27272.957031   \n291441      4    16        6     0                           27272.957031   \n\n        past_shallow_childnum_21L  past_shallow_credacc_actualbalance_314A  \\\n480311                   1.329747                             20240.501953   \n421480                   0.000000                             16059.038086   \n221960                   1.329747                             20240.501953   \n710528                   2.000000                             20240.501953   \n474585                   1.329747                             20240.501953   \n...                           ...                                      ...   \n758081                   0.000000                             20240.501953   \n953297                   0.000000                             20240.501953   \n65381                    1.000000                             20240.501953   \n896318                   2.000000                             20240.501953   \n291441                   1.329747                             20240.501953   \n\n        past_shallow_credacc_credlmt_575A  \\\n480311                       10458.984375   \n421480                       16000.000000   \n221960                       10458.984375   \n710528                           0.000000   \n474585                       10458.984375   \n...                                   ...   \n758081                           0.000000   \n953297                       56396.000000   \n65381                            0.000000   \n896318                           0.000000   \n291441                       10458.984375   \n\n        past_shallow_credacc_maxhisbal_375A  \\\n480311                         -2243.567871   \n421480                          4013.892334   \n221960                         -2243.567871   \n710528                         -2243.567871   \n474585                         -2243.567871   \n...                                     ...   \n758081                         -2243.567871   \n953297                         -2243.567871   \n65381                          -2243.567871   \n896318                         -2243.567871   \n291441                         -2243.567871   \n\n        past_shallow_credacc_minhisbal_90A  ...  reg_a_name_4527232M  \\\n480311                        -5741.770996  ...                    2   \n421480                       -11786.108398  ...                 1866   \n221960                        -5741.770996  ...                    2   \n710528                        -5741.770996  ...                    2   \n474585                        -5741.770996  ...                    2   \n...                                    ...  ...                  ...   \n758081                        -5741.770996  ...                    2   \n953297                        -5741.770996  ...                70996   \n65381                         -5741.770996  ...                    2   \n896318                        -5741.770996  ...                    2   \n291441                        -5741.770996  ...                    2   \n\n        reg_a_recorddate_4527225D  reg_b_amount_4917619A  reg_b_num_group1  \\\n480311                         13           35982.242188                 6   \n421480                         14           35982.242188                 6   \n221960                         13           35982.242188                 6   \n710528                         13           35982.242188                 6   \n474585                         13           35982.242188                 6   \n...                           ...                    ...               ...   \n758081                         13           35982.242188                 6   \n953297                         14           35982.242188                 6   \n65381                          13           35982.242188                 6   \n896318                         13           35982.242188                 6   \n291441                         13           35982.242188                 6   \n\n        reg_b_deductiondate_4917603D  reg_b_name_4917606M  reg_c_num_group1  \\\n480311                           -76                   21                 5   \n421480                           -76                   21                 4   \n221960                           -76                   21                 4   \n710528                           -76                   21                 7   \n474585                           -76                   21                 5   \n...                              ...                  ...               ...   \n758081                           -76                   21                 5   \n953297                           -76                   21                10   \n65381                            -76                   21                12   \n896318                           -76                   21                 8   \n291441                           -76                   21                 5   \n\n        reg_c_pmtamount_36A  reg_c_employername_160M  \\\n480311          3881.558105                       17   \n421480          1000.000000                     3887   \n221960          5441.399902                    24636   \n710528          1211.000000                      927   \n474585          3881.558105                       17   \n...                     ...                      ...   \n758081          4873.442383                      319   \n953297          3876.000000                    37505   \n65381           2866.600098                     3784   \n896318          5437.600098                    83378   \n291441          3881.558105                       17   \n\n        reg_c_processingdate_168D  \n480311                        -60  \n421480                         14  \n221960                       -106  \n710528                          9  \n474585                        -60  \n...                           ...  \n758081                        -25  \n953297                         14  \n65381                         -33  \n896318                       -128  \n291441                        -60  \n\n[1297660 rows x 267 columns] with type DataFrame\n",
      "\nDuring handling of the above exception, another exception occurred:\n",
      "\u001b[0;31mValueError\u001b[0m\u001b[0;31m:\u001b[0m Failed to convert a NumPy array to a Tensor (Unsupported object type int).\n"
     ]
    }
   ],
   "source": [
    "train_ds = tf.data.Dataset.from_tensor_slices(X_train,y_train)"
   ]
  },
  {
   "cell_type": "code",
   "execution_count": null,
   "metadata": {},
   "outputs": [
    {
     "ename": "ValueError",
     "evalue": "Failed to convert a NumPy array to a Tensor (Unsupported object type int).",
     "output_type": "error",
     "traceback": [
      "\u001b[0;31mValueError\u001b[0m\u001b[0;31m:\u001b[0m Failed to convert a NumPy array to a Tensor (Unsupported object type int).\n"
     ]
    }
   ],
   "source": [
    "model = keras.Sequential()\n",
    "model.add(keras.layers.Dense(100))\n",
    "model.add(keras.layers.Dense(100))\n",
    "model.add(keras.layers.Dense(100))\n",
    "model.add(keras.layers.Dense(100))\n",
    "model.add(keras.layers.Dense(1))\n",
    "model.compile(\n",
    "    loss=\"binary_crossentropy\",\n",
    "    metrics=[keras.metrics.AUC()],\n",
    "    optimizer=keras.optimizers.Adam()\n",
    ")\n",
    "model.fit(X_train.to_numpy(),y_train.to_numpy(),validation_data=(X_valid.to_numpy(),y_valid.to_numpy()),batch_size=32)"
   ]
  },
  {
   "cell_type": "code",
   "execution_count": null,
   "metadata": {},
   "outputs": [],
   "source": [
    "# splits = 3\n",
    "# models = [\n",
    "#     lgb.LGBMClassifier(**params) for _ in range(splits)\n",
    "# ]\n",
    "# cv = StratifiedGroupKFold(n_splits=splits)\n",
    "# for i,(train_ind,valid_ind) in enumerate(cv.split(X_total,y_total,groups=X_total[\"week\"])):\n",
    "#     X_train,y_train = X_total.iloc[train_ind],y_total.iloc[train_ind]\n",
    "#     X_valid,y_valid = X_total.iloc[valid_ind],y_total.iloc[valid_ind]\n",
    "#     models[i].fit(X_train,y_train,eval_set=[(X_valid,y_valid)],callbacks=[lgb.log_evaluation(100),lgb.early_stopping(50)])\n",
    "#     y_pred = models[i].predict_proba(X_valid)[:,1]\n",
    "#     print(f\"<-------- Roc_Auc score for split {i+1} is {roc_auc_score(y_true=y_valid,y_score=y_pred)} -------->\")"
   ]
  },
  {
   "cell_type": "code",
   "execution_count": null,
   "metadata": {},
   "outputs": [],
   "source": [
    "# cols = []\n",
    "# for col in X_train.columns:\n",
    "#     if \"person_shallow\" in col:\n",
    "#         cols.append(col)\n",
    "# X_train[cols]"
   ]
  },
  {
   "cell_type": "code",
   "execution_count": null,
   "metadata": {},
   "outputs": [],
   "source": [
    "# class Model:\n",
    "\n",
    "#     def __init__(self,_models:list) -> None:\n",
    "#         self.models = _models\n",
    "\n",
    "#     def predict(self,X):\n",
    "#         return np.mean([_.predict(X) for _ in self.models],axis=0)\n",
    "    \n",
    "#     def predict_proba(self,X):\n",
    "#         return np.mean([_.predict_proba(X)[:,1] for _ in self.models],axis=0)"
   ]
  },
  {
   "cell_type": "code",
   "execution_count": null,
   "metadata": {},
   "outputs": [],
   "source": [
    "# model = Model(models)\n",
    "# y_pred = model.predict_proba(X_valid)\n",
    "# roc_auc_score(y_valid,y_pred)"
   ]
  },
  {
   "cell_type": "code",
   "execution_count": null,
   "metadata": {},
   "outputs": [
    {
     "ename": "ValueError",
     "evalue": "Per-column arrays must each be 1-dimensional",
     "output_type": "error",
     "traceback": [
      "\u001b[0;31mValueError\u001b[0m\u001b[0;31m:\u001b[0m Per-column arrays must each be 1-dimensional\n"
     ]
    }
   ],
   "source": [
    "sub_df = pd.DataFrame({\n",
    "    \"case_id\": submission_df['case_id_base'].to_list(),\n",
    "    \"score\": model.predict_proba(submission_df.drop(columns=[\"case_id_base\"]))\n",
    "}).set_index(\"case_id\")\n",
    "sub_df.to_csv(\"./submission.csv\")"
   ]
  }
 ],
 "metadata": {
  "kernelspec": {
   "display_name": "base",
   "language": "python",
   "name": "python3"
  },
  "language_info": {
   "codemirror_mode": {
    "name": "ipython",
    "version": 3
   },
   "file_extension": ".py",
   "mimetype": "text/x-python",
   "name": "python",
   "nbconvert_exporter": "python",
   "pygments_lexer": "ipython3",
   "version": "3.11.7"
  }
 },
 "nbformat": 4,
 "nbformat_minor": 2
}
