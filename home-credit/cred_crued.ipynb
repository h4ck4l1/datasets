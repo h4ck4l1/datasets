{
 "cells": [
  {
   "cell_type": "code",
   "execution_count": 1,
   "metadata": {},
   "outputs": [
    {
     "data": {
      "text/plain": [
       "'بِسْمِ اللهِ الرَّحْمٰنِ الرَّحِيْمِ'"
      ]
     },
     "execution_count": 1,
     "metadata": {},
     "output_type": "execute_result"
    }
   ],
   "source": [
    "'''بِسْمِ اللهِ الرَّحْمٰنِ الرَّحِيْمِ'''"
   ]
  },
  {
   "cell_type": "code",
   "execution_count": 2,
   "metadata": {},
   "outputs": [
    {
     "data": {
      "text/plain": [
       "'سُبْحَـٰنَكَ لَا عِلْمَ لَنَآ إِلَّا مَا عَلَّمْتَنَآ ۖ إِنَّكَ أَنتَ الْعَلِيمُ الْحَكِيمُ'"
      ]
     },
     "execution_count": 2,
     "metadata": {},
     "output_type": "execute_result"
    }
   ],
   "source": [
    "'''سُبْحَـٰنَكَ لَا عِلْمَ لَنَآ إِلَّا مَا عَلَّمْتَنَآ ۖ إِنَّكَ أَنتَ الْعَلِيمُ الْحَكِيمُ'''"
   ]
  },
  {
   "cell_type": "code",
   "execution_count": 3,
   "metadata": {},
   "outputs": [
    {
     "data": {
      "text/html": [
       "\n",
       "<style>\n",
       "    * {\n",
       "        font-family: Monaco;\n",
       "    }\n",
       "</style>\n"
      ],
      "text/plain": [
       "<IPython.core.display.HTML object>"
      ]
     },
     "execution_count": 3,
     "metadata": {},
     "output_type": "execute_result"
    }
   ],
   "source": [
    "from IPython.core.display import HTML\n",
    "HTML(r\"\"\"\n",
    "<style>\n",
    "    * {\n",
    "        font-family: Monaco;\n",
    "    }\n",
    "</style>\n",
    "\"\"\")"
   ]
  },
  {
   "cell_type": "code",
   "execution_count": 4,
   "metadata": {},
   "outputs": [
    {
     "data": {
      "text/plain": [
       "12"
      ]
     },
     "execution_count": 4,
     "metadata": {},
     "output_type": "execute_result"
    }
   ],
   "source": [
    "import os,sys,warnings,re,math,gc,time\n",
    "warnings.filterwarnings(\"ignore\")\n",
    "os.cpu_count()"
   ]
  },
  {
   "cell_type": "code",
   "execution_count": 5,
   "metadata": {},
   "outputs": [
    {
     "name": "stdout",
     "output_type": "stream",
     "text": [
      "Exception reporting mode: Context\n"
     ]
    }
   ],
   "source": [
    "import numpy as np\n",
    "import pandas as pd\n",
    "import polars as pl\n",
    "import polars.selectors as cs\n",
    "from glob import glob\n",
    "from pathlib import Path\n",
    "from tqdm import tqdm\n",
    "from concurrent.futures import ThreadPoolExecutor\n",
    "import plotly.express as px\n",
    "import plotly.graph_objects as go\n",
    "import plotly.io as pio\n",
    "from plotly.subplots import make_subplots\n",
    "pio.templates[\"mod\"] = go.layout.Template(layout=dict(font=dict(family=\"Monaco\",size=15)))\n",
    "pio.templates.default = \"mod+plotly_dark\"\n",
    "from sklearn.metrics import auc,roc_auc_score\n",
    "from sklearn.model_selection import train_test_split\n",
    "import lightgbm as lgb\n",
    "import miceforest as mf\n",
    "%xmode Context"
   ]
  },
  {
   "cell_type": "code",
   "execution_count": 6,
   "metadata": {},
   "outputs": [],
   "source": [
    "pl.Config.set_fmt_str_lengths(100)\n",
    "pl.Config.set_thousands_separator(\",\")\n",
    "pl.Config.set_float_precision(2)\n",
    "pl.Config.set_fmt_float(\"full\")\n",
    "pl.Config.set_tbl_rows(6)\n",
    "pl.enable_string_cache()"
   ]
  },
  {
   "cell_type": "code",
   "execution_count": 7,
   "metadata": {},
   "outputs": [],
   "source": [
    "path_to_train = \"/home/sohail/Downloads/credit_risk/train/\"\n",
    "path_to_test = \"/home/sohail/Downloads/credit_risk/test/\"\n",
    "path_to_features = \"/home/sohail/Downloads/feature_definitions.csv\""
   ]
  },
  {
   "cell_type": "code",
   "execution_count": 8,
   "metadata": {},
   "outputs": [
    {
     "data": {
      "text/html": [
       "<div><style>\n",
       ".dataframe > thead > tr,\n",
       ".dataframe > tbody > tr {\n",
       "  text-align: right;\n",
       "  white-space: pre-wrap;\n",
       "}\n",
       "</style>\n",
       "<small>shape: (5, 2)</small><table border=\"1\" class=\"dataframe\"><thead><tr><th>Variable</th><th>Description</th></tr><tr><td>str</td><td>str</td></tr></thead><tbody><tr><td>&quot;actualdpd_943P&quot;</td><td>&quot;Days Past Due (DPD) of previous contract (actual).&quot;</td></tr><tr><td>&quot;actualdpdtolerance_344P&quot;</td><td>&quot;DPD of client with tolerance.&quot;</td></tr><tr><td>&quot;addres_district_368M&quot;</td><td>&quot;District of the person&#x27;s address.&quot;</td></tr><tr><td>&quot;addres_role_871L&quot;</td><td>&quot;Role of person&#x27;s address.&quot;</td></tr><tr><td>&quot;addres_zip_823M&quot;</td><td>&quot;Zip code of the address.&quot;</td></tr></tbody></table></div>"
      ],
      "text/plain": [
       "shape: (5, 2)\n",
       "┌─────────────────────────┬────────────────────────────────────────────────────┐\n",
       "│ Variable                ┆ Description                                        │\n",
       "│ ---                     ┆ ---                                                │\n",
       "│ str                     ┆ str                                                │\n",
       "╞═════════════════════════╪════════════════════════════════════════════════════╡\n",
       "│ actualdpd_943P          ┆ Days Past Due (DPD) of previous contract (actual). │\n",
       "│ actualdpdtolerance_344P ┆ DPD of client with tolerance.                      │\n",
       "│ addres_district_368M    ┆ District of the person's address.                  │\n",
       "│ addres_role_871L        ┆ Role of person's address.                          │\n",
       "│ addres_zip_823M         ┆ Zip code of the address.                           │\n",
       "└─────────────────────────┴────────────────────────────────────────────────────┘"
      ]
     },
     "execution_count": 8,
     "metadata": {},
     "output_type": "execute_result"
    }
   ],
   "source": [
    "feat_df = pl.read_csv(path_to_features)\n",
    "feat_df.head()"
   ]
  },
  {
   "cell_type": "code",
   "execution_count": 9,
   "metadata": {},
   "outputs": [
    {
     "data": {
      "text/html": [
       "<div><style>\n",
       ".dataframe > thead > tr,\n",
       ".dataframe > tbody > tr {\n",
       "  text-align: right;\n",
       "  white-space: pre-wrap;\n",
       "}\n",
       "</style>\n",
       "<small>shape: (5, 3)</small><table border=\"1\" class=\"dataframe\"><thead><tr><th>index</th><th>path</th><th>filename</th></tr><tr><td>i64</td><td>str</td><td>str</td></tr></thead><tbody><tr><td>31</td><td>&quot;/home/sohail/Downloads/credit_risk/train/train_applprev_1_0.parquet&quot;</td><td>&quot;train_applprev_1_0.parquet&quot;</td></tr><tr><td>13</td><td>&quot;/home/sohail/Downloads/credit_risk/train/train_applprev_1_1.parquet&quot;</td><td>&quot;train_applprev_1_1.parquet&quot;</td></tr><tr><td>0</td><td>&quot;/home/sohail/Downloads/credit_risk/train/train_applprev_2.parquet&quot;</td><td>&quot;train_applprev_2.parquet&quot;</td></tr><tr><td>7</td><td>&quot;/home/sohail/Downloads/credit_risk/train/train_base.parquet&quot;</td><td>&quot;train_base.parquet&quot;</td></tr><tr><td>11</td><td>&quot;/home/sohail/Downloads/credit_risk/train/train_credit_bureau_a_1_0.parquet&quot;</td><td>&quot;train_credit_bureau_a_1_0.parquet&quot;</td></tr></tbody></table></div>"
      ],
      "text/plain": [
       "shape: (5, 3)\n",
       "┌───────┬──────────────────────────────────────────────────────┬───────────────────────────────────┐\n",
       "│ index ┆ path                                                 ┆ filename                          │\n",
       "│ ---   ┆ ---                                                  ┆ ---                               │\n",
       "│ i64   ┆ str                                                  ┆ str                               │\n",
       "╞═══════╪══════════════════════════════════════════════════════╪═══════════════════════════════════╡\n",
       "│ 31    ┆ /home/sohail/Downloads/credit_risk/train/train_applp ┆ train_applprev_1_0.parquet        │\n",
       "│       ┆ rev_1_0.parquet                                      ┆                                   │\n",
       "│ 13    ┆ /home/sohail/Downloads/credit_risk/train/train_applp ┆ train_applprev_1_1.parquet        │\n",
       "│       ┆ rev_1_1.parquet                                      ┆                                   │\n",
       "│ 0     ┆ /home/sohail/Downloads/credit_risk/train/train_applp ┆ train_applprev_2.parquet          │\n",
       "│       ┆ rev_2.parquet                                        ┆                                   │\n",
       "│ 7     ┆ /home/sohail/Downloads/credit_risk/train/train_base. ┆ train_base.parquet                │\n",
       "│       ┆ parquet                                              ┆                                   │\n",
       "│ 11    ┆ /home/sohail/Downloads/credit_risk/train/train_credi ┆ train_credit_bureau_a_1_0.parquet │\n",
       "│       ┆ t_bureau_a_1_0.parquet                               ┆                                   │\n",
       "└───────┴──────────────────────────────────────────────────────┴───────────────────────────────────┘"
      ]
     },
     "metadata": {},
     "output_type": "display_data"
    },
    {
     "data": {
      "text/html": [
       "<div><style>\n",
       ".dataframe > thead > tr,\n",
       ".dataframe > tbody > tr {\n",
       "  text-align: right;\n",
       "  white-space: pre-wrap;\n",
       "}\n",
       "</style>\n",
       "<small>shape: (5, 3)</small><table border=\"1\" class=\"dataframe\"><thead><tr><th>index</th><th>path</th><th>filename</th></tr><tr><td>i64</td><td>str</td><td>str</td></tr></thead><tbody><tr><td>31</td><td>&quot;/home/sohail/Downloads/credit_risk/test/test_applprev_1_0.parquet&quot;</td><td>&quot;test_applprev_1_0.parquet&quot;</td></tr><tr><td>35</td><td>&quot;/home/sohail/Downloads/credit_risk/test/test_applprev_1_1.parquet&quot;</td><td>&quot;test_applprev_1_1.parquet&quot;</td></tr><tr><td>9</td><td>&quot;/home/sohail/Downloads/credit_risk/test/test_applprev_1_2.parquet&quot;</td><td>&quot;test_applprev_1_2.parquet&quot;</td></tr><tr><td>1</td><td>&quot;/home/sohail/Downloads/credit_risk/test/test_applprev_2.parquet&quot;</td><td>&quot;test_applprev_2.parquet&quot;</td></tr><tr><td>33</td><td>&quot;/home/sohail/Downloads/credit_risk/test/test_base.parquet&quot;</td><td>&quot;test_base.parquet&quot;</td></tr></tbody></table></div>"
      ],
      "text/plain": [
       "shape: (5, 3)\n",
       "┌───────┬──────────────────────────────────────────────────────────────┬───────────────────────────┐\n",
       "│ index ┆ path                                                         ┆ filename                  │\n",
       "│ ---   ┆ ---                                                          ┆ ---                       │\n",
       "│ i64   ┆ str                                                          ┆ str                       │\n",
       "╞═══════╪══════════════════════════════════════════════════════════════╪═══════════════════════════╡\n",
       "│ 31    ┆ /home/sohail/Downloads/credit_risk/test/test_applprev_1_0.pa ┆ test_applprev_1_0.parquet │\n",
       "│       ┆ rquet                                                        ┆                           │\n",
       "│ 35    ┆ /home/sohail/Downloads/credit_risk/test/test_applprev_1_1.pa ┆ test_applprev_1_1.parquet │\n",
       "│       ┆ rquet                                                        ┆                           │\n",
       "│ 9     ┆ /home/sohail/Downloads/credit_risk/test/test_applprev_1_2.pa ┆ test_applprev_1_2.parquet │\n",
       "│       ┆ rquet                                                        ┆                           │\n",
       "│ 1     ┆ /home/sohail/Downloads/credit_risk/test/test_applprev_2.parq ┆ test_applprev_2.parquet   │\n",
       "│       ┆ uet                                                          ┆                           │\n",
       "│ 33    ┆ /home/sohail/Downloads/credit_risk/test/test_base.parquet    ┆ test_base.parquet         │\n",
       "└───────┴──────────────────────────────────────────────────────────────┴───────────────────────────┘"
      ]
     },
     "metadata": {},
     "output_type": "display_data"
    }
   ],
   "source": [
    "all_train_files = glob(path_to_train+\"/*.parquet\")\n",
    "all_test_files = glob(path_to_test+\"/*.parquet\")\n",
    "train_files_df = pl.DataFrame({\"index\":range(len(all_train_files)),\"path\":all_train_files})\n",
    "test_files_df = pl.DataFrame({\"index\":range(len(all_test_files)),\"path\":all_test_files})\n",
    "train_files_df = (\n",
    "    train_files_df\n",
    "    .with_columns(\n",
    "        (pl.col(\"path\").str.split(\"/\").list.get(-1)).alias(\"filename\")\n",
    "    )\n",
    "    .sort(by=\"filename\")\n",
    ")\n",
    "test_files_df = (\n",
    "    test_files_df\n",
    "    .with_columns(\n",
    "        (pl.col(\"path\").str.split(\"/\").list.get(-1)).alias(\"filename\")\n",
    "    )\n",
    "    .sort(by=\"filename\")\n",
    ")\n",
    "display(train_files_df.head())\n",
    "display(test_files_df.head())"
   ]
  },
  {
   "cell_type": "code",
   "execution_count": 10,
   "metadata": {},
   "outputs": [
    {
     "data": {
      "text/html": [
       "<div><style>\n",
       ".dataframe > thead > tr,\n",
       ".dataframe > tbody > tr {\n",
       "  text-align: right;\n",
       "  white-space: pre-wrap;\n",
       "}\n",
       "</style>\n",
       "<small>shape: (1, 3)</small><table border=\"1\" class=\"dataframe\"><thead><tr><th>index</th><th>path</th><th>filename</th></tr><tr><td>i64</td><td>str</td><td>str</td></tr></thead><tbody><tr><td>7</td><td>&quot;/home/sohail/Downloads/credit_risk/train/train_base.parquet&quot;</td><td>&quot;train_base.parquet&quot;</td></tr></tbody></table></div>"
      ],
      "text/plain": [
       "shape: (1, 3)\n",
       "┌───────┬─────────────────────────────────────────────────────────────┬────────────────────┐\n",
       "│ index ┆ path                                                        ┆ filename           │\n",
       "│ ---   ┆ ---                                                         ┆ ---                │\n",
       "│ i64   ┆ str                                                         ┆ str                │\n",
       "╞═══════╪═════════════════════════════════════════════════════════════╪════════════════════╡\n",
       "│ 7     ┆ /home/sohail/Downloads/credit_risk/train/train_base.parquet ┆ train_base.parquet │\n",
       "└───────┴─────────────────────────────────────────────────────────────┴────────────────────┘"
      ]
     },
     "metadata": {},
     "output_type": "display_data"
    }
   ],
   "source": [
    "display(train_files_df.filter(pl.col(\"filename\").str.contains(\"base\")))\n",
    "_ind = train_files_df.filter(pl.col(\"filename\").str.contains(\"base\")).select(\"index\").item()"
   ]
  },
  {
   "cell_type": "code",
   "execution_count": 11,
   "metadata": {},
   "outputs": [
    {
     "data": {
      "text/html": [
       "<div><style>\n",
       ".dataframe > thead > tr,\n",
       ".dataframe > tbody > tr {\n",
       "  text-align: right;\n",
       "  white-space: pre-wrap;\n",
       "}\n",
       "</style>\n",
       "<small>shape: (1_526_659, 7)</small><table border=\"1\" class=\"dataframe\"><thead><tr><th>case_id_base</th><th>Date</th><th>month</th><th>week</th><th>weekday</th><th>year</th><th>target</th></tr><tr><td>u32</td><td>date</td><td>i8</td><td>i8</td><td>i8</td><td>i32</td><td>u8</td></tr></thead><tbody><tr><td>0</td><td>2019-01-03</td><td>1</td><td>1</td><td>4</td><td>0</td><td>0</td></tr><tr><td>1</td><td>2019-01-03</td><td>1</td><td>1</td><td>4</td><td>0</td><td>0</td></tr><tr><td>2</td><td>2019-01-04</td><td>1</td><td>1</td><td>5</td><td>0</td><td>0</td></tr><tr><td>&hellip;</td><td>&hellip;</td><td>&hellip;</td><td>&hellip;</td><td>&hellip;</td><td>&hellip;</td><td>&hellip;</td></tr><tr><td>2,703,452</td><td>2020-10-05</td><td>10</td><td>41</td><td>1</td><td>1</td><td>0</td></tr><tr><td>2,703,453</td><td>2020-10-05</td><td>10</td><td>41</td><td>1</td><td>1</td><td>0</td></tr><tr><td>2,703,454</td><td>2020-10-05</td><td>10</td><td>41</td><td>1</td><td>1</td><td>0</td></tr></tbody></table></div>"
      ],
      "text/plain": [
       "shape: (1_526_659, 7)\n",
       "┌──────────────┬────────────┬───────┬──────┬─────────┬──────┬────────┐\n",
       "│ case_id_base ┆ Date       ┆ month ┆ week ┆ weekday ┆ year ┆ target │\n",
       "│ ---          ┆ ---        ┆ ---   ┆ ---  ┆ ---     ┆ ---  ┆ ---    │\n",
       "│ u32          ┆ date       ┆ i8    ┆ i8   ┆ i8      ┆ i32  ┆ u8     │\n",
       "╞══════════════╪════════════╪═══════╪══════╪═════════╪══════╪════════╡\n",
       "│ 0            ┆ 2019-01-03 ┆ 1     ┆ 1    ┆ 4       ┆ 0    ┆ 0      │\n",
       "│ 1            ┆ 2019-01-03 ┆ 1     ┆ 1    ┆ 4       ┆ 0    ┆ 0      │\n",
       "│ 2            ┆ 2019-01-04 ┆ 1     ┆ 1    ┆ 5       ┆ 0    ┆ 0      │\n",
       "│ …            ┆ …          ┆ …     ┆ …    ┆ …       ┆ …    ┆ …      │\n",
       "│ 2,703,452    ┆ 2020-10-05 ┆ 10    ┆ 41   ┆ 1       ┆ 1    ┆ 0      │\n",
       "│ 2,703,453    ┆ 2020-10-05 ┆ 10    ┆ 41   ┆ 1       ┆ 1    ┆ 0      │\n",
       "│ 2,703,454    ┆ 2020-10-05 ┆ 10    ┆ 41   ┆ 1       ┆ 1    ┆ 0      │\n",
       "└──────────────┴────────────┴───────┴──────┴─────────┴──────┴────────┘"
      ]
     },
     "execution_count": 11,
     "metadata": {},
     "output_type": "execute_result"
    }
   ],
   "source": [
    "train_base = (\n",
    "    pl.read_parquet(all_train_files[_ind])\n",
    "    .select(\n",
    "        pl.col(\"case_id\").cast(pl.UInt32).alias(\"case_id_base\"),\n",
    "        cs.contains(\"date\").str.to_date().alias(\"Date\"),\n",
    "        pl.col(\"target\").cast(pl.UInt8)\n",
    "    )\n",
    "    .with_columns(\n",
    "        pl.col(\"Date\").dt.month().alias(\"month\"),\n",
    "        pl.col(\"Date\").dt.week().alias(\"week\"),\n",
    "        pl.col(\"Date\").dt.weekday().alias(\"weekday\"),\n",
    "        (pl.col(\"Date\").dt.year() - 2019).alias(\"year\")\n",
    "    )\n",
    "    .select(~cs.contains(\"target\"),cs.contains(\"target\"))\n",
    ")\n",
    "train_base"
   ]
  },
  {
   "cell_type": "code",
   "execution_count": 12,
   "metadata": {},
   "outputs": [
    {
     "data": {
      "text/html": [
       "<div><style>\n",
       ".dataframe > thead > tr,\n",
       ".dataframe > tbody > tr {\n",
       "  text-align: right;\n",
       "  white-space: pre-wrap;\n",
       "}\n",
       "</style>\n",
       "<small>shape: (1, 3)</small><table border=\"1\" class=\"dataframe\"><thead><tr><th>index</th><th>path</th><th>filename</th></tr><tr><td>i64</td><td>str</td><td>str</td></tr></thead><tbody><tr><td>33</td><td>&quot;/home/sohail/Downloads/credit_risk/test/test_base.parquet&quot;</td><td>&quot;test_base.parquet&quot;</td></tr></tbody></table></div>"
      ],
      "text/plain": [
       "shape: (1, 3)\n",
       "┌───────┬───────────────────────────────────────────────────────────┬───────────────────┐\n",
       "│ index ┆ path                                                      ┆ filename          │\n",
       "│ ---   ┆ ---                                                       ┆ ---               │\n",
       "│ i64   ┆ str                                                       ┆ str               │\n",
       "╞═══════╪═══════════════════════════════════════════════════════════╪═══════════════════╡\n",
       "│ 33    ┆ /home/sohail/Downloads/credit_risk/test/test_base.parquet ┆ test_base.parquet │\n",
       "└───────┴───────────────────────────────────────────────────────────┴───────────────────┘"
      ]
     },
     "metadata": {},
     "output_type": "display_data"
    }
   ],
   "source": [
    "display(test_files_df.filter(pl.col(\"filename\").str.contains(\"base\")))\n",
    "_ind = test_files_df.filter(pl.col(\"filename\").str.contains(\"base\")).select(\"index\").item()"
   ]
  },
  {
   "cell_type": "code",
   "execution_count": 13,
   "metadata": {},
   "outputs": [
    {
     "data": {
      "text/html": [
       "<div><style>\n",
       ".dataframe > thead > tr,\n",
       ".dataframe > tbody > tr {\n",
       "  text-align: right;\n",
       "  white-space: pre-wrap;\n",
       "}\n",
       "</style>\n",
       "<small>shape: (10, 7)</small><table border=\"1\" class=\"dataframe\"><thead><tr><th>case_id_base</th><th>Date</th><th>month</th><th>week</th><th>weekday</th><th>year</th><th>target</th></tr><tr><td>u32</td><td>date</td><td>i8</td><td>i8</td><td>i8</td><td>i32</td><td>u8</td></tr></thead><tbody><tr><td>57,543</td><td>2020-10-06</td><td>10</td><td>41</td><td>2</td><td>1</td><td>0</td></tr><tr><td>57,549</td><td>2020-10-06</td><td>10</td><td>41</td><td>2</td><td>1</td><td>0</td></tr><tr><td>57,551</td><td>2020-10-06</td><td>10</td><td>41</td><td>2</td><td>1</td><td>0</td></tr><tr><td>&hellip;</td><td>&hellip;</td><td>&hellip;</td><td>&hellip;</td><td>&hellip;</td><td>&hellip;</td><td>&hellip;</td></tr><tr><td>57,632</td><td>2020-10-06</td><td>10</td><td>41</td><td>2</td><td>1</td><td>0</td></tr><tr><td>57,633</td><td>2020-10-06</td><td>10</td><td>41</td><td>2</td><td>1</td><td>0</td></tr><tr><td>57,634</td><td>2020-10-06</td><td>10</td><td>41</td><td>2</td><td>1</td><td>0</td></tr></tbody></table></div>"
      ],
      "text/plain": [
       "shape: (10, 7)\n",
       "┌──────────────┬────────────┬───────┬──────┬─────────┬──────┬────────┐\n",
       "│ case_id_base ┆ Date       ┆ month ┆ week ┆ weekday ┆ year ┆ target │\n",
       "│ ---          ┆ ---        ┆ ---   ┆ ---  ┆ ---     ┆ ---  ┆ ---    │\n",
       "│ u32          ┆ date       ┆ i8    ┆ i8   ┆ i8      ┆ i32  ┆ u8     │\n",
       "╞══════════════╪════════════╪═══════╪══════╪═════════╪══════╪════════╡\n",
       "│ 57,543       ┆ 2020-10-06 ┆ 10    ┆ 41   ┆ 2       ┆ 1    ┆ 0      │\n",
       "│ 57,549       ┆ 2020-10-06 ┆ 10    ┆ 41   ┆ 2       ┆ 1    ┆ 0      │\n",
       "│ 57,551       ┆ 2020-10-06 ┆ 10    ┆ 41   ┆ 2       ┆ 1    ┆ 0      │\n",
       "│ …            ┆ …          ┆ …     ┆ …    ┆ …       ┆ …    ┆ …      │\n",
       "│ 57,632       ┆ 2020-10-06 ┆ 10    ┆ 41   ┆ 2       ┆ 1    ┆ 0      │\n",
       "│ 57,633       ┆ 2020-10-06 ┆ 10    ┆ 41   ┆ 2       ┆ 1    ┆ 0      │\n",
       "│ 57,634       ┆ 2020-10-06 ┆ 10    ┆ 41   ┆ 2       ┆ 1    ┆ 0      │\n",
       "└──────────────┴────────────┴───────┴──────┴─────────┴──────┴────────┘"
      ]
     },
     "execution_count": 13,
     "metadata": {},
     "output_type": "execute_result"
    }
   ],
   "source": [
    "test_base = (\n",
    "    pl.read_parquet(all_test_files[_ind])\n",
    "    .select(\n",
    "        pl.col(\"case_id\").cast(pl.UInt32).alias(\"case_id_base\"),\n",
    "        cs.contains(\"date\").str.to_date().alias(\"Date\"),\n",
    "    )\n",
    "    .with_columns(\n",
    "        pl.col(\"Date\").dt.month().alias(\"month\"),\n",
    "        pl.col(\"Date\").dt.week().alias(\"week\"),\n",
    "        pl.col(\"Date\").dt.weekday().alias(\"weekday\"),\n",
    "        (pl.col(\"Date\").dt.year() - 2019).alias(\"year\"),\n",
    "        pl.lit(0).cast(pl.UInt8).alias(\"target\")\n",
    "    )\n",
    ")\n",
    "test_base"
   ]
  },
  {
   "cell_type": "code",
   "execution_count": 14,
   "metadata": {},
   "outputs": [
    {
     "data": {
      "text/html": [
       "<div><style>\n",
       ".dataframe > thead > tr,\n",
       ".dataframe > tbody > tr {\n",
       "  text-align: right;\n",
       "  white-space: pre-wrap;\n",
       "}\n",
       "</style>\n",
       "<small>shape: (5, 3)</small><table border=\"1\" class=\"dataframe\"><thead><tr><th>index</th><th>path</th><th>filename</th></tr><tr><td>i64</td><td>str</td><td>str</td></tr></thead><tbody><tr><td>31</td><td>&quot;/home/sohail/Downloads/credit_risk/test/test_applprev_1_0.parquet&quot;</td><td>&quot;test_applprev_1_0.parquet&quot;</td></tr><tr><td>35</td><td>&quot;/home/sohail/Downloads/credit_risk/test/test_applprev_1_1.parquet&quot;</td><td>&quot;test_applprev_1_1.parquet&quot;</td></tr><tr><td>9</td><td>&quot;/home/sohail/Downloads/credit_risk/test/test_applprev_1_2.parquet&quot;</td><td>&quot;test_applprev_1_2.parquet&quot;</td></tr><tr><td>1</td><td>&quot;/home/sohail/Downloads/credit_risk/test/test_applprev_2.parquet&quot;</td><td>&quot;test_applprev_2.parquet&quot;</td></tr><tr><td>33</td><td>&quot;/home/sohail/Downloads/credit_risk/test/test_base.parquet&quot;</td><td>&quot;test_base.parquet&quot;</td></tr></tbody></table></div>"
      ],
      "text/plain": [
       "shape: (5, 3)\n",
       "┌───────┬──────────────────────────────────────────────────────────────┬───────────────────────────┐\n",
       "│ index ┆ path                                                         ┆ filename                  │\n",
       "│ ---   ┆ ---                                                          ┆ ---                       │\n",
       "│ i64   ┆ str                                                          ┆ str                       │\n",
       "╞═══════╪══════════════════════════════════════════════════════════════╪═══════════════════════════╡\n",
       "│ 31    ┆ /home/sohail/Downloads/credit_risk/test/test_applprev_1_0.pa ┆ test_applprev_1_0.parquet │\n",
       "│       ┆ rquet                                                        ┆                           │\n",
       "│ 35    ┆ /home/sohail/Downloads/credit_risk/test/test_applprev_1_1.pa ┆ test_applprev_1_1.parquet │\n",
       "│       ┆ rquet                                                        ┆                           │\n",
       "│ 9     ┆ /home/sohail/Downloads/credit_risk/test/test_applprev_1_2.pa ┆ test_applprev_1_2.parquet │\n",
       "│       ┆ rquet                                                        ┆                           │\n",
       "│ 1     ┆ /home/sohail/Downloads/credit_risk/test/test_applprev_2.parq ┆ test_applprev_2.parquet   │\n",
       "│       ┆ uet                                                          ┆                           │\n",
       "│ 33    ┆ /home/sohail/Downloads/credit_risk/test/test_base.parquet    ┆ test_base.parquet         │\n",
       "└───────┴──────────────────────────────────────────────────────────────┴───────────────────────────┘"
      ]
     },
     "execution_count": 14,
     "metadata": {},
     "output_type": "execute_result"
    }
   ],
   "source": [
    "all_files_df = (\n",
    "    pl.concat(\n",
    "        [\n",
    "            train_files_df,\n",
    "            test_files_df\n",
    "        ]\n",
    "    )\n",
    "    .sort(by=\"filename\")\n",
    ")\n",
    "all_files_df.head()"
   ]
  },
  {
   "cell_type": "code",
   "execution_count": 15,
   "metadata": {},
   "outputs": [
    {
     "data": {
      "text/html": [
       "<div><style>\n",
       ".dataframe > thead > tr,\n",
       ".dataframe > tbody > tr {\n",
       "  text-align: right;\n",
       "  white-space: pre-wrap;\n",
       "}\n",
       "</style>\n",
       "<small>shape: (1_526_669, 7)</small><table border=\"1\" class=\"dataframe\"><thead><tr><th>case_id_base</th><th>Date</th><th>month</th><th>week</th><th>weekday</th><th>year</th><th>target</th></tr><tr><td>u32</td><td>date</td><td>i8</td><td>i8</td><td>i8</td><td>i32</td><td>u8</td></tr></thead><tbody><tr><td>0</td><td>2019-01-03</td><td>1</td><td>1</td><td>4</td><td>0</td><td>0</td></tr><tr><td>1</td><td>2019-01-03</td><td>1</td><td>1</td><td>4</td><td>0</td><td>0</td></tr><tr><td>2</td><td>2019-01-04</td><td>1</td><td>1</td><td>5</td><td>0</td><td>0</td></tr><tr><td>&hellip;</td><td>&hellip;</td><td>&hellip;</td><td>&hellip;</td><td>&hellip;</td><td>&hellip;</td><td>&hellip;</td></tr><tr><td>57,632</td><td>2020-10-06</td><td>10</td><td>41</td><td>2</td><td>1</td><td>0</td></tr><tr><td>57,633</td><td>2020-10-06</td><td>10</td><td>41</td><td>2</td><td>1</td><td>0</td></tr><tr><td>57,634</td><td>2020-10-06</td><td>10</td><td>41</td><td>2</td><td>1</td><td>0</td></tr></tbody></table></div>"
      ],
      "text/plain": [
       "shape: (1_526_669, 7)\n",
       "┌──────────────┬────────────┬───────┬──────┬─────────┬──────┬────────┐\n",
       "│ case_id_base ┆ Date       ┆ month ┆ week ┆ weekday ┆ year ┆ target │\n",
       "│ ---          ┆ ---        ┆ ---   ┆ ---  ┆ ---     ┆ ---  ┆ ---    │\n",
       "│ u32          ┆ date       ┆ i8    ┆ i8   ┆ i8      ┆ i32  ┆ u8     │\n",
       "╞══════════════╪════════════╪═══════╪══════╪═════════╪══════╪════════╡\n",
       "│ 0            ┆ 2019-01-03 ┆ 1     ┆ 1    ┆ 4       ┆ 0    ┆ 0      │\n",
       "│ 1            ┆ 2019-01-03 ┆ 1     ┆ 1    ┆ 4       ┆ 0    ┆ 0      │\n",
       "│ 2            ┆ 2019-01-04 ┆ 1     ┆ 1    ┆ 5       ┆ 0    ┆ 0      │\n",
       "│ …            ┆ …          ┆ …     ┆ …    ┆ …       ┆ …    ┆ …      │\n",
       "│ 57,632       ┆ 2020-10-06 ┆ 10    ┆ 41   ┆ 2       ┆ 1    ┆ 0      │\n",
       "│ 57,633       ┆ 2020-10-06 ┆ 10    ┆ 41   ┆ 2       ┆ 1    ┆ 0      │\n",
       "│ 57,634       ┆ 2020-10-06 ┆ 10    ┆ 41   ┆ 2       ┆ 1    ┆ 0      │\n",
       "└──────────────┴────────────┴───────┴──────┴─────────┴──────┴────────┘"
      ]
     },
     "execution_count": 15,
     "metadata": {},
     "output_type": "execute_result"
    }
   ],
   "source": [
    "total_base = (\n",
    "    pl.concat(\n",
    "        [\n",
    "            train_base,\n",
    "            test_base\n",
    "        ]\n",
    "    )\n",
    ")\n",
    "total_base"
   ]
  },
  {
   "cell_type": "code",
   "execution_count": 16,
   "metadata": {},
   "outputs": [],
   "source": [
    "def reduce_dtypes(df:pl.DataFrame):\n",
    "    return(\n",
    "        df\n",
    "    )\n",
    "def grouping(df:pl.DataFrame):\n",
    "    return (\n",
    "        df\n",
    "        .group_by(\"case_id\")\n",
    "        .agg(\n",
    "            cs.numeric().max(),\n",
    "            (~cs.numeric()).drop_nulls().mode().first()\n",
    "        )\n",
    "    )"
   ]
  },
  {
   "cell_type": "code",
   "execution_count": 17,
   "metadata": {},
   "outputs": [],
   "source": [
    "def read_and_cast(filter_string:str,prefix_string:str):\n",
    "    train_files_list = sorted(train_files_df.filter(pl.col(\"filename\").str.contains(filter_string))[\"path\"].to_list())\n",
    "    test_files_list = sorted(test_files_df.filter(pl.col(\"filename\").str.contains(filter_string))[\"path\"].to_list())\n",
    "    train_df = (\n",
    "        pl.concat(\n",
    "            [\n",
    "                pl.read_parquet(_).pipe(reduce_dtypes).pipe(grouping) for _ in train_files_list\n",
    "            ]\n",
    "        )\n",
    "    )\n",
    "    test_df = (\n",
    "        pl.concat(\n",
    "            [\n",
    "                pl.read_parquet(_).select(train_df.columns).cast(train_df.schema).pipe(reduce_dtypes).pipe(grouping) for _ in test_files_list\n",
    "            ]\n",
    "        )\n",
    "    )\n",
    "    return (\n",
    "        pl.concat(\n",
    "            [train_df,test_df],\n",
    "            how=\"vertical_relaxed\"\n",
    "        )\n",
    "        .rename({_:f\"{prefix_string}_{_}\" for _ in train_df.columns if not _ == \"case_id\"})\n",
    "    )\n",
    "\n",
    "def select_impuatable(df:pl.DataFrame,thresh=0.95):\n",
    "    cols =  (\n",
    "        df\n",
    "        .select(pl.all().is_null().mean())\n",
    "        .transpose(include_header=True)\n",
    "        .filter(pl.col(\"column_0\") < thresh)\n",
    "        [\"column\"].to_list()\n",
    "    )\n",
    "    return df.select(cols)"
   ]
  },
  {
   "cell_type": "markdown",
   "metadata": {},
   "source": [
    "## Past Application"
   ]
  },
  {
   "cell_type": "code",
   "execution_count": 20,
   "metadata": {},
   "outputs": [
    {
     "data": {
      "text/html": [
       "<div><style>\n",
       ".dataframe > thead > tr,\n",
       ".dataframe > tbody > tr {\n",
       "  text-align: right;\n",
       "  white-space: pre-wrap;\n",
       "}\n",
       "</style>\n",
       "<small>shape: (1_221_536, 41)</small><table border=\"1\" class=\"dataframe\"><thead><tr><th>case_id</th><th>past_shallow_actualdpd_943P</th><th>past_shallow_annuity_853A</th><th>past_shallow_byoccupationinc_3656910L</th><th>past_shallow_childnum_21L</th><th>past_shallow_credacc_actualbalance_314A</th><th>past_shallow_credacc_credlmt_575A</th><th>past_shallow_credacc_maxhisbal_375A</th><th>past_shallow_credacc_minhisbal_90A</th><th>past_shallow_credacc_transactions_402L</th><th>past_shallow_credamount_590A</th><th>past_shallow_currdebt_94A</th><th>past_shallow_downpmt_134A</th><th>past_shallow_mainoccupationinc_437A</th><th>past_shallow_maxdpdtolerance_577P</th><th>past_shallow_num_group1</th><th>past_shallow_outstandingdebt_522A</th><th>past_shallow_pmtnum_8L</th><th>past_shallow_revolvingaccount_394A</th><th>past_shallow_tenor_203L</th><th>past_shallow_approvaldate_319D</th><th>past_shallow_cancelreason_3545846M</th><th>past_shallow_creationdate_885D</th><th>past_shallow_credacc_status_367L</th><th>past_shallow_credtype_587L</th><th>past_shallow_dateactivated_425D</th><th>past_shallow_district_544M</th><th>past_shallow_dtlastpmt_581D</th><th>past_shallow_dtlastpmtallstes_3545839D</th><th>past_shallow_education_1138M</th><th>past_shallow_employedfrom_700D</th><th>past_shallow_familystate_726L</th><th>past_shallow_firstnonzeroinstldate_307D</th><th>past_shallow_inittransactioncode_279L</th><th>past_shallow_isbidproduct_390L</th><th>past_shallow_isdebitcard_527L</th><th>past_shallow_postype_4733339M</th><th>past_shallow_profession_152M</th><th>past_shallow_rejectreason_755M</th><th>past_shallow_rejectreasonclient_4145042M</th><th>past_shallow_status_219L</th></tr><tr><td>u32</td><td>f32</td><td>f32</td><td>f32</td><td>f32</td><td>f32</td><td>f32</td><td>f32</td><td>f32</td><td>f32</td><td>f32</td><td>f32</td><td>f32</td><td>f32</td><td>f32</td><td>u16</td><td>f32</td><td>f32</td><td>f32</td><td>f32</td><td>date</td><td>cat</td><td>date</td><td>str</td><td>str</td><td>date</td><td>cat</td><td>date</td><td>date</td><td>cat</td><td>date</td><td>str</td><td>date</td><td>str</td><td>bool</td><td>bool</td><td>cat</td><td>cat</td><td>cat</td><td>cat</td><td>str</td></tr></thead><tbody><tr><td>1,256,284</td><td>0.00</td><td>6,574.00</td><td>25,000.00</td><td>1.00</td><td>null</td><td>0.00</td><td>null</td><td>null</td><td>null</td><td>48,998.00</td><td>0.00</td><td>0.00</td><td>80,000.00</td><td>26.00</td><td>14</td><td>0.00</td><td>18.00</td><td>null</td><td>18.00</td><td>2014-09-05</td><td>&quot;a55475b1&quot;</td><td>2012-08-16</td><td>null</td><td>&quot;COL&quot;</td><td>2014-02-11</td><td>&quot;P142_57_166&quot;</td><td>2018-12-26</td><td>2018-06-09</td><td>&quot;a55475b1&quot;</td><td>2010-07-15</td><td>&quot;MARRIED&quot;</td><td>2017-03-29</td><td>&quot;POS&quot;</td><td>false</td><td>null</td><td>&quot;a55475b1&quot;</td><td>&quot;a55475b1&quot;</td><td>&quot;a55475b1&quot;</td><td>&quot;a55475b1&quot;</td><td>&quot;K&quot;</td></tr><tr><td>1,479,000</td><td>0.00</td><td>2,000.60</td><td>1.00</td><td>0.00</td><td>36,241.80</td><td>36,241.80</td><td>0.00</td><td>0.00</td><td>0.00</td><td>36,241.80</td><td>0.00</td><td>0.00</td><td>20,000.00</td><td>0.00</td><td>1</td><td>0.00</td><td>6.00</td><td>703,548,288.00</td><td>6.00</td><td>2014-02-11</td><td>&quot;a55475b1&quot;</td><td>2015-09-02</td><td>&quot;CL&quot;</td><td>&quot;COL&quot;</td><td>2015-09-03</td><td>&quot;P111_135_181&quot;</td><td>2016-06-16</td><td>2016-06-16</td><td>&quot;P33_146_175&quot;</td><td>1994-10-15</td><td>&quot;WIDOWED&quot;</td><td>2015-09-30</td><td>&quot;POS&quot;</td><td>false</td><td>false</td><td>&quot;a55475b1&quot;</td><td>&quot;a55475b1&quot;</td><td>&quot;a55475b1&quot;</td><td>&quot;a55475b1&quot;</td><td>&quot;K&quot;</td></tr><tr><td>148,808</td><td>0.00</td><td>5,112.20</td><td>40,000.00</td><td>0.00</td><td>null</td><td>0.00</td><td>null</td><td>null</td><td>null</td><td>80,000.00</td><td>19,781.40</td><td>0.00</td><td>40,000.00</td><td>1.00</td><td>2</td><td>19,781.40</td><td>36.00</td><td>null</td><td>36.00</td><td>2018-11-10</td><td>&quot;a55475b1&quot;</td><td>2016-02-25</td><td>null</td><td>&quot;CAL&quot;</td><td>2018-11-13</td><td>&quot;P142_57_166&quot;</td><td>null</td><td>2019-08-13</td><td>&quot;P97_36_170&quot;</td><td>2012-09-18</td><td>&quot;MARRIED&quot;</td><td>2016-03-25</td><td>&quot;CASH&quot;</td><td>false</td><td>null</td><td>&quot;a55475b1&quot;</td><td>&quot;a55475b1&quot;</td><td>&quot;a55475b1&quot;</td><td>&quot;a55475b1&quot;</td><td>&quot;D&quot;</td></tr><tr><td>&hellip;</td><td>&hellip;</td><td>&hellip;</td><td>&hellip;</td><td>&hellip;</td><td>&hellip;</td><td>&hellip;</td><td>&hellip;</td><td>&hellip;</td><td>&hellip;</td><td>&hellip;</td><td>&hellip;</td><td>&hellip;</td><td>&hellip;</td><td>&hellip;</td><td>&hellip;</td><td>&hellip;</td><td>&hellip;</td><td>&hellip;</td><td>&hellip;</td><td>&hellip;</td><td>&hellip;</td><td>&hellip;</td><td>&hellip;</td><td>&hellip;</td><td>&hellip;</td><td>&hellip;</td><td>&hellip;</td><td>&hellip;</td><td>&hellip;</td><td>&hellip;</td><td>&hellip;</td><td>&hellip;</td><td>&hellip;</td><td>&hellip;</td><td>&hellip;</td><td>&hellip;</td><td>&hellip;</td><td>&hellip;</td><td>&hellip;</td><td>&hellip;</td></tr><tr><td>101,005</td><td>0.00</td><td>5,847.00</td><td>null</td><td>null</td><td>null</td><td>0.00</td><td>null</td><td>null</td><td>null</td><td>150,000.00</td><td>null</td><td>0.00</td><td>50,000.00</td><td>null</td><td>1</td><td>null</td><td>60.00</td><td>null</td><td>60.00</td><td>null</td><td>&quot;P94_109_143&quot;</td><td>2022-09-12</td><td>null</td><td>&quot;CAL&quot;</td><td>null</td><td>&quot;P39_22_51&quot;</td><td>null</td><td>null</td><td>&quot;a55475b1&quot;</td><td>null</td><td>null</td><td>2022-10-15</td><td>&quot;CASH&quot;</td><td>false</td><td>null</td><td>&quot;P46_145_78&quot;</td><td>&quot;a55475b1&quot;</td><td>&quot;a55475b1&quot;</td><td>&quot;P94_109_143&quot;</td><td>&quot;D&quot;</td></tr><tr><td>101,065</td><td>0.00</td><td>7,798.40</td><td>null</td><td>null</td><td>0.00</td><td>10,660.00</td><td>0.00</td><td>0.00</td><td>0.00</td><td>200,000.00</td><td>null</td><td>0.00</td><td>30,000.00</td><td>null</td><td>2</td><td>null</td><td>48.00</td><td>840,488,064.00</td><td>48.00</td><td>2022-09-20</td><td>&quot;P19_105_83&quot;</td><td>2017-06-27</td><td>&quot;AC&quot;</td><td>&quot;REL&quot;</td><td>2022-09-20</td><td>&quot;P133_68_68&quot;</td><td>null</td><td>null</td><td>&quot;a55475b1&quot;</td><td>null</td><td>null</td><td>2022-10-02</td><td>&quot;NDF&quot;</td><td>false</td><td>false</td><td>&quot;P46_145_78&quot;</td><td>&quot;a55475b1&quot;</td><td>&quot;P198_131_9&quot;</td><td>&quot;P94_109_143&quot;</td><td>&quot;T&quot;</td></tr><tr><td>101,146</td><td>0.00</td><td>7,800.80</td><td>1.00</td><td>0.00</td><td>null</td><td>0.00</td><td>null</td><td>null</td><td>null</td><td>200,000.00</td><td>10,500.46</td><td>0.00</td><td>30,000.00</td><td>0.00</td><td>3</td><td>11,158.20</td><td>48.00</td><td>null</td><td>48.00</td><td>2022-06-24</td><td>&quot;a55475b1&quot;</td><td>2015-10-23</td><td>null</td><td>&quot;CAL&quot;</td><td>2022-09-03</td><td>&quot;a55475b1&quot;</td><td>null</td><td>2022-08-23</td><td>&quot;a55475b1&quot;</td><td>2015-07-15</td><td>&quot;SINGLE&quot;</td><td>2022-07-24</td><td>&quot;CASH&quot;</td><td>false</td><td>null</td><td>&quot;P46_145_78&quot;</td><td>&quot;a55475b1&quot;</td><td>&quot;a55475b1&quot;</td><td>&quot;a55475b1&quot;</td><td>&quot;D&quot;</td></tr></tbody></table></div>"
      ],
      "text/plain": [
       "shape: (1_221_536, 41)\n",
       "┌───────────┬───────────┬───────────┬───────────┬───┬───────────┬───────────┬───────────┬──────────┐\n",
       "│ case_id   ┆ past_shal ┆ past_shal ┆ past_shal ┆ … ┆ past_shal ┆ past_shal ┆ past_shal ┆ past_sha │\n",
       "│ ---       ┆ low_actua ┆ low_annui ┆ low_byocc ┆   ┆ low_profe ┆ low_rejec ┆ low_rejec ┆ llow_sta │\n",
       "│ u32       ┆ ldpd_943P ┆ ty_853A   ┆ upationin ┆   ┆ ssion_152 ┆ treason_7 ┆ treasoncl ┆ tus_219L │\n",
       "│           ┆ ---       ┆ ---       ┆ c_3656910 ┆   ┆ M         ┆ 55M       ┆ ient_4145 ┆ ---      │\n",
       "│           ┆ f32       ┆ f32       ┆ L         ┆   ┆ ---       ┆ ---       ┆ 042M      ┆ str      │\n",
       "│           ┆           ┆           ┆ ---       ┆   ┆ cat       ┆ cat       ┆ ---       ┆          │\n",
       "│           ┆           ┆           ┆ f32       ┆   ┆           ┆           ┆ cat       ┆          │\n",
       "╞═══════════╪═══════════╪═══════════╪═══════════╪═══╪═══════════╪═══════════╪═══════════╪══════════╡\n",
       "│ 1,256,284 ┆ 0.00      ┆ 6,574.00  ┆ 25,000.00 ┆ … ┆ a55475b1  ┆ a55475b1  ┆ a55475b1  ┆ K        │\n",
       "│ 1,479,000 ┆ 0.00      ┆ 2,000.60  ┆ 1.00      ┆ … ┆ a55475b1  ┆ a55475b1  ┆ a55475b1  ┆ K        │\n",
       "│ 148,808   ┆ 0.00      ┆ 5,112.20  ┆ 40,000.00 ┆ … ┆ a55475b1  ┆ a55475b1  ┆ a55475b1  ┆ D        │\n",
       "│ …         ┆ …         ┆ …         ┆ …         ┆ … ┆ …         ┆ …         ┆ …         ┆ …        │\n",
       "│ 101,005   ┆ 0.00      ┆ 5,847.00  ┆ null      ┆ … ┆ a55475b1  ┆ a55475b1  ┆ P94_109_1 ┆ D        │\n",
       "│           ┆           ┆           ┆           ┆   ┆           ┆           ┆ 43        ┆          │\n",
       "│ 101,065   ┆ 0.00      ┆ 7,798.40  ┆ null      ┆ … ┆ a55475b1  ┆ P198_131_ ┆ P94_109_1 ┆ T        │\n",
       "│           ┆           ┆           ┆           ┆   ┆           ┆ 9         ┆ 43        ┆          │\n",
       "│ 101,146   ┆ 0.00      ┆ 7,800.80  ┆ 1.00      ┆ … ┆ a55475b1  ┆ a55475b1  ┆ a55475b1  ┆ D        │\n",
       "└───────────┴───────────┴───────────┴───────────┴───┴───────────┴───────────┴───────────┴──────────┘"
      ]
     },
     "execution_count": 20,
     "metadata": {},
     "output_type": "execute_result"
    }
   ],
   "source": [
    "total_past_shallow = (\n",
    "    read_and_cast(\"applprev_1_\",\"past_shallow\")\n",
    ")\n",
    "total_past_shallow"
   ]
  },
  {
   "cell_type": "code",
   "execution_count": 19,
   "metadata": {},
   "outputs": [
    {
     "data": {
      "text/html": [
       "<div><style>\n",
       ".dataframe > thead > tr,\n",
       ".dataframe > tbody > tr {\n",
       "  text-align: right;\n",
       "  white-space: pre-wrap;\n",
       "}\n",
       "</style>\n",
       "<small>shape: (1_221_526, 6)</small><table border=\"1\" class=\"dataframe\"><thead><tr><th>case_id</th><th>past_depth_num_group1</th><th>past_depth_num_group2</th><th>past_depth_cacccardblochreas_147M</th><th>past_depth_conts_type_509L</th><th>past_depth_credacc_cards_status_52L</th></tr><tr><td>u32</td><td>u16</td><td>u16</td><td>cat</td><td>str</td><td>str</td></tr></thead><tbody><tr><td>1,841,684</td><td>0</td><td>1</td><td>&quot;a55475b1&quot;</td><td>&quot;PRIMARY_MOBILE&quot;</td><td>&quot;ACTIVE&quot;</td></tr><tr><td>218,253</td><td>0</td><td>2</td><td>&quot;a55475b1&quot;</td><td>&quot;PHONE&quot;</td><td>null</td></tr><tr><td>1,361,272</td><td>7</td><td>1</td><td>&quot;a55475b1&quot;</td><td>&quot;PRIMARY_MOBILE&quot;</td><td>&quot;INACTIVE&quot;</td></tr><tr><td>&hellip;</td><td>&hellip;</td><td>&hellip;</td><td>&hellip;</td><td>&hellip;</td><td>&hellip;</td></tr><tr><td>57,551</td><td>1</td><td>1</td><td>null</td><td>&quot;PRIMARY_MOBILE&quot;</td><td>null</td></tr><tr><td>57,552</td><td>0</td><td>2</td><td>null</td><td>&quot;PRIMARY_MOBILE&quot;</td><td>null</td></tr><tr><td>57,549</td><td>0</td><td>2</td><td>null</td><td>&quot;PHONE&quot;</td><td>null</td></tr></tbody></table></div>"
      ],
      "text/plain": [
       "shape: (1_221_526, 6)\n",
       "┌───────────┬─────────────────┬─────────────────┬────────────────┬────────────────┬────────────────┐\n",
       "│ case_id   ┆ past_depth_num_ ┆ past_depth_num_ ┆ past_depth_cac ┆ past_depth_con ┆ past_depth_cre │\n",
       "│ ---       ┆ group1          ┆ group2          ┆ ccardblochreas ┆ ts_type_509L   ┆ dacc_cards_sta │\n",
       "│ u32       ┆ ---             ┆ ---             ┆ _147M          ┆ ---            ┆ tus_52L        │\n",
       "│           ┆ u16             ┆ u16             ┆ ---            ┆ str            ┆ ---            │\n",
       "│           ┆                 ┆                 ┆ cat            ┆                ┆ str            │\n",
       "╞═══════════╪═════════════════╪═════════════════╪════════════════╪════════════════╪════════════════╡\n",
       "│ 1,841,684 ┆ 0               ┆ 1               ┆ a55475b1       ┆ PRIMARY_MOBILE ┆ ACTIVE         │\n",
       "│ 218,253   ┆ 0               ┆ 2               ┆ a55475b1       ┆ PHONE          ┆ null           │\n",
       "│ 1,361,272 ┆ 7               ┆ 1               ┆ a55475b1       ┆ PRIMARY_MOBILE ┆ INACTIVE       │\n",
       "│ …         ┆ …               ┆ …               ┆ …              ┆ …              ┆ …              │\n",
       "│ 57,551    ┆ 1               ┆ 1               ┆ null           ┆ PRIMARY_MOBILE ┆ null           │\n",
       "│ 57,552    ┆ 0               ┆ 2               ┆ null           ┆ PRIMARY_MOBILE ┆ null           │\n",
       "│ 57,549    ┆ 0               ┆ 2               ┆ null           ┆ PHONE          ┆ null           │\n",
       "└───────────┴─────────────────┴─────────────────┴────────────────┴────────────────┴────────────────┘"
      ]
     },
     "execution_count": 19,
     "metadata": {},
     "output_type": "execute_result"
    }
   ],
   "source": [
    "total_past_depth = (\n",
    "    read_and_cast(\"applprev_2_\",\"past_depth\")\n",
    ")\n",
    "total_past_depth"
   ]
  },
  {
   "cell_type": "code",
   "execution_count": 20,
   "metadata": {},
   "outputs": [
    {
     "data": {
      "text/html": [
       "<div><style>\n",
       ".dataframe > thead > tr,\n",
       ".dataframe > tbody > tr {\n",
       "  text-align: right;\n",
       "  white-space: pre-wrap;\n",
       "}\n",
       "</style>\n",
       "<small>shape: (1_526_689, 168)</small><table border=\"1\" class=\"dataframe\"><thead><tr><th>case_id</th><th>static_base_actualdpdtolerance_344P</th><th>static_base_amtinstpaidbefduel24m_4187115A</th><th>static_base_annuity_780A</th><th>static_base_annuitynextmonth_57A</th><th>static_base_applicationcnt_361L</th><th>static_base_applications30d_658L</th><th>static_base_applicationscnt_1086L</th><th>static_base_applicationscnt_464L</th><th>static_base_applicationscnt_629L</th><th>static_base_applicationscnt_867L</th><th>static_base_avgdbddpdlast24m_3658932P</th><th>static_base_avgdbddpdlast3m_4187120P</th><th>static_base_avgdbdtollast24m_4525197P</th><th>static_base_avgdpdtolclosure24_3658938P</th><th>static_base_avginstallast24m_3658937A</th><th>static_base_avglnamtstart24m_4525187A</th><th>static_base_avgmaxdpdlast9m_3716943P</th><th>static_base_avgoutstandbalancel6m_4187114A</th><th>static_base_avgpmtlast12m_4525200A</th><th>static_base_clientscnt12m_3712952L</th><th>static_base_clientscnt3m_3712950L</th><th>static_base_clientscnt6m_3712949L</th><th>static_base_clientscnt_100L</th><th>static_base_clientscnt_1022L</th><th>static_base_clientscnt_1071L</th><th>static_base_clientscnt_1130L</th><th>static_base_clientscnt_136L</th><th>static_base_clientscnt_157L</th><th>static_base_clientscnt_257L</th><th>static_base_clientscnt_304L</th><th>static_base_clientscnt_360L</th><th>static_base_clientscnt_493L</th><th>static_base_clientscnt_533L</th><th>static_base_clientscnt_887L</th><th>static_base_clientscnt_946L</th><th>static_base_cntincpaycont9m_3716944L</th><th>&hellip;</th><th>static_base_credtype_322L</th><th>static_base_datefirstoffer_1144D</th><th>static_base_datelastinstal40dpd_247D</th><th>static_base_datelastunpaid_3546854D</th><th>static_base_disbursementtype_67L</th><th>static_base_dtlastpmtallstes_4499206D</th><th>static_base_equalitydataagreement_891L</th><th>static_base_equalityempfrom_62L</th><th>static_base_firstclxcampaign_1125D</th><th>static_base_firstdatedue_489D</th><th>static_base_inittransactioncode_186L</th><th>static_base_isbidproduct_1095L</th><th>static_base_isbidproductrequest_292L</th><th>static_base_isdebitcard_729L</th><th>static_base_lastactivateddate_801D</th><th>static_base_lastapplicationdate_877D</th><th>static_base_lastapprcommoditycat_1041M</th><th>static_base_lastapprcommoditytypec_5251766M</th><th>static_base_lastapprdate_640D</th><th>static_base_lastcancelreason_561M</th><th>static_base_lastdelinqdate_224D</th><th>static_base_lastrejectcommoditycat_161M</th><th>static_base_lastrejectcommodtypec_5251769M</th><th>static_base_lastrejectdate_50D</th><th>static_base_lastrejectreason_759M</th><th>static_base_lastrejectreasonclient_4145040M</th><th>static_base_lastrepayingdate_696D</th><th>static_base_lastst_736L</th><th>static_base_maxdpdinstldate_3546855D</th><th>static_base_opencred_647L</th><th>static_base_paytype1st_925L</th><th>static_base_paytype_783L</th><th>static_base_payvacationpostpone_4187118D</th><th>static_base_previouscontdistrict_112M</th><th>static_base_twobodfilling_608L</th><th>static_base_typesuite_864L</th><th>static_base_validfrom_1069D</th></tr><tr><td>u32</td><td>f32</td><td>f32</td><td>f32</td><td>f32</td><td>f32</td><td>f32</td><td>f32</td><td>f32</td><td>f32</td><td>f32</td><td>f32</td><td>f32</td><td>f32</td><td>f32</td><td>f32</td><td>f32</td><td>f32</td><td>f32</td><td>f32</td><td>f32</td><td>f32</td><td>f32</td><td>f32</td><td>f32</td><td>f32</td><td>f32</td><td>f32</td><td>f32</td><td>f32</td><td>f32</td><td>f32</td><td>f32</td><td>f32</td><td>f32</td><td>f32</td><td>f32</td><td>&hellip;</td><td>str</td><td>date</td><td>date</td><td>date</td><td>str</td><td>date</td><td>bool</td><td>bool</td><td>date</td><td>date</td><td>str</td><td>bool</td><td>bool</td><td>bool</td><td>date</td><td>date</td><td>cat</td><td>cat</td><td>date</td><td>cat</td><td>date</td><td>cat</td><td>cat</td><td>date</td><td>cat</td><td>cat</td><td>date</td><td>str</td><td>date</td><td>bool</td><td>str</td><td>str</td><td>date</td><td>cat</td><td>str</td><td>str</td><td>date</td></tr></thead><tbody><tr><td>613,738</td><td>null</td><td>null</td><td>2,470.00</td><td>0.00</td><td>0.00</td><td>0.00</td><td>0.00</td><td>0.00</td><td>0.00</td><td>0.00</td><td>null</td><td>null</td><td>null</td><td>null</td><td>null</td><td>null</td><td>null</td><td>null</td><td>null</td><td>0.00</td><td>0.00</td><td>0.00</td><td>1.00</td><td>0.00</td><td>0.00</td><td>0.00</td><td>null</td><td>0.00</td><td>0.00</td><td>0.00</td><td>0.00</td><td>0.00</td><td>0.00</td><td>0.00</td><td>0.00</td><td>null</td><td>&hellip;</td><td>&quot;COL&quot;</td><td>null</td><td>null</td><td>null</td><td>&quot;SBA&quot;</td><td>null</td><td>null</td><td>null</td><td>null</td><td>null</td><td>&quot;POS&quot;</td><td>false</td><td>null</td><td>null</td><td>null</td><td>null</td><td>&quot;a55475b1&quot;</td><td>&quot;a55475b1&quot;</td><td>null</td><td>&quot;a55475b1&quot;</td><td>null</td><td>&quot;a55475b1&quot;</td><td>&quot;a55475b1&quot;</td><td>null</td><td>&quot;a55475b1&quot;</td><td>&quot;a55475b1&quot;</td><td>null</td><td>null</td><td>null</td><td>null</td><td>&quot;OTHER&quot;</td><td>&quot;OTHER&quot;</td><td>null</td><td>&quot;a55475b1&quot;</td><td>&quot;FO&quot;</td><td>null</td><td>null</td></tr><tr><td>2,644,298</td><td>0.00</td><td>9,567.45</td><td>3,045.00</td><td>0.00</td><td>0.00</td><td>0.00</td><td>0.00</td><td>0.00</td><td>0.00</td><td>1.00</td><td>-2.00</td><td>null</td><td>-2.00</td><td>0.00</td><td>1,467.00</td><td>null</td><td>null</td><td>null</td><td>null</td><td>0.00</td><td>0.00</td><td>0.00</td><td>0.00</td><td>0.00</td><td>0.00</td><td>0.00</td><td>null</td><td>0.00</td><td>0.00</td><td>0.00</td><td>0.00</td><td>0.00</td><td>0.00</td><td>0.00</td><td>0.00</td><td>0.00</td><td>&hellip;</td><td>&quot;REL&quot;</td><td>2015-10-26</td><td>null</td><td>2018-09-09</td><td>&quot;DD&quot;</td><td>2018-09-10</td><td>null</td><td>null</td><td>2016-01-31</td><td>2014-10-27</td><td>&quot;NDF&quot;</td><td>true</td><td>null</td><td>false</td><td>2017-12-13</td><td>2017-12-10</td><td>&quot;P12_6_178&quot;</td><td>&quot;a55475b1&quot;</td><td>2017-12-10</td><td>&quot;a55475b1&quot;</td><td>2018-09-09</td><td>&quot;a55475b1&quot;</td><td>&quot;a55475b1&quot;</td><td>null</td><td>&quot;a55475b1&quot;</td><td>&quot;a55475b1&quot;</td><td>null</td><td>&quot;K&quot;</td><td>2018-04-09</td><td>false</td><td>&quot;OTHER&quot;</td><td>&quot;OTHER&quot;</td><td>null</td><td>&quot;P19_11_176&quot;</td><td>&quot;FO&quot;</td><td>null</td><td>2019-11-12</td></tr><tr><td>1,388,562</td><td>0.00</td><td>20,542.80</td><td>1,997.60</td><td>0.00</td><td>0.00</td><td>0.00</td><td>0.00</td><td>0.00</td><td>0.00</td><td>1.00</td><td>-7.00</td><td>null</td><td>null</td><td>1.00</td><td>2,054.40</td><td>null</td><td>1.00</td><td>0.00</td><td>null</td><td>0.00</td><td>0.00</td><td>0.00</td><td>0.00</td><td>0.00</td><td>0.00</td><td>0.00</td><td>null</td><td>0.00</td><td>0.00</td><td>0.00</td><td>0.00</td><td>0.00</td><td>0.00</td><td>0.00</td><td>0.00</td><td>4.00</td><td>&hellip;</td><td>&quot;COL&quot;</td><td>null</td><td>null</td><td>2018-10-29</td><td>&quot;SBA&quot;</td><td>null</td><td>null</td><td>null</td><td>null</td><td>2018-01-29</td><td>&quot;POS&quot;</td><td>false</td><td>null</td><td>null</td><td>2018-01-08</td><td>2017-12-29</td><td>&quot;P159_130_59&quot;</td><td>&quot;a55475b1&quot;</td><td>2017-12-29</td><td>&quot;a55475b1&quot;</td><td>2018-10-29</td><td>&quot;a55475b1&quot;</td><td>&quot;a55475b1&quot;</td><td>null</td><td>&quot;a55475b1&quot;</td><td>&quot;a55475b1&quot;</td><td>null</td><td>&quot;K&quot;</td><td>2018-07-29</td><td>false</td><td>&quot;OTHER&quot;</td><td>&quot;OTHER&quot;</td><td>null</td><td>&quot;P98_137_111&quot;</td><td>&quot;FO&quot;</td><td>null</td><td>null</td></tr><tr><td>&hellip;</td><td>&hellip;</td><td>&hellip;</td><td>&hellip;</td><td>&hellip;</td><td>&hellip;</td><td>&hellip;</td><td>&hellip;</td><td>&hellip;</td><td>&hellip;</td><td>&hellip;</td><td>&hellip;</td><td>&hellip;</td><td>&hellip;</td><td>&hellip;</td><td>&hellip;</td><td>&hellip;</td><td>&hellip;</td><td>&hellip;</td><td>&hellip;</td><td>&hellip;</td><td>&hellip;</td><td>&hellip;</td><td>&hellip;</td><td>&hellip;</td><td>&hellip;</td><td>&hellip;</td><td>&hellip;</td><td>&hellip;</td><td>&hellip;</td><td>&hellip;</td><td>&hellip;</td><td>&hellip;</td><td>&hellip;</td><td>&hellip;</td><td>&hellip;</td><td>&hellip;</td><td>&hellip;</td><td>&hellip;</td><td>&hellip;</td><td>&hellip;</td><td>&hellip;</td><td>&hellip;</td><td>&hellip;</td><td>&hellip;</td><td>&hellip;</td><td>&hellip;</td><td>&hellip;</td><td>&hellip;</td><td>&hellip;</td><td>&hellip;</td><td>&hellip;</td><td>&hellip;</td><td>&hellip;</td><td>&hellip;</td><td>&hellip;</td><td>&hellip;</td><td>&hellip;</td><td>&hellip;</td><td>&hellip;</td><td>&hellip;</td><td>&hellip;</td><td>&hellip;</td><td>&hellip;</td><td>&hellip;</td><td>&hellip;</td><td>&hellip;</td><td>&hellip;</td><td>&hellip;</td><td>&hellip;</td><td>&hellip;</td><td>&hellip;</td><td>&hellip;</td><td>&hellip;</td><td>&hellip;</td></tr><tr><td>101,302</td><td>0.00</td><td>null</td><td>6,781.40</td><td>0.00</td><td>0.00</td><td>0.00</td><td>0.00</td><td>0.00</td><td>0.00</td><td>3.00</td><td>null</td><td>null</td><td>null</td><td>null</td><td>null</td><td>null</td><td>null</td><td>null</td><td>null</td><td>0.00</td><td>0.00</td><td>0.00</td><td>0.00</td><td>0.00</td><td>0.00</td><td>0.00</td><td>null</td><td>0.00</td><td>0.00</td><td>0.00</td><td>0.00</td><td>0.00</td><td>0.00</td><td>0.00</td><td>0.00</td><td>null</td><td>&hellip;</td><td>&quot;CAL&quot;</td><td>null</td><td>null</td><td>null</td><td>&quot;GBA&quot;</td><td>null</td><td>null</td><td>null</td><td>null</td><td>null</td><td>&quot;CASH&quot;</td><td>false</td><td>null</td><td>false</td><td>null</td><td>2019-03-19</td><td>&quot;a55475b1&quot;</td><td>&quot;a55475b1&quot;</td><td>null</td><td>&quot;P141_135_146&quot;</td><td>null</td><td>&quot;P109_133_183&quot;</td><td>&quot;P78_110_79&quot;</td><td>2018-09-20</td><td>&quot;P94_109_143&quot;</td><td>&quot;P94_109_143&quot;</td><td>null</td><td>&quot;T&quot;</td><td>null</td><td>false</td><td>null</td><td>null</td><td>null</td><td>&quot;a55475b1&quot;</td><td>&quot;FO&quot;</td><td>&quot;AL&quot;</td><td>null</td></tr><tr><td>101,259</td><td>0.00</td><td>null</td><td>37,639.00</td><td>0.00</td><td>0.00</td><td>0.00</td><td>0.00</td><td>0.00</td><td>0.00</td><td>0.00</td><td>null</td><td>null</td><td>null</td><td>null</td><td>null</td><td>null</td><td>null</td><td>null</td><td>null</td><td>0.00</td><td>0.00</td><td>0.00</td><td>0.00</td><td>0.00</td><td>0.00</td><td>0.00</td><td>null</td><td>0.00</td><td>0.00</td><td>0.00</td><td>0.00</td><td>0.00</td><td>0.00</td><td>0.00</td><td>0.00</td><td>null</td><td>&hellip;</td><td>&quot;CAL&quot;</td><td>null</td><td>null</td><td>null</td><td>null</td><td>null</td><td>null</td><td>null</td><td>null</td><td>null</td><td>&quot;CASH&quot;</td><td>false</td><td>null</td><td>false</td><td>null</td><td>null</td><td>&quot;a55475b1&quot;</td><td>&quot;a55475b1&quot;</td><td>null</td><td>&quot;a55475b1&quot;</td><td>null</td><td>&quot;a55475b1&quot;</td><td>&quot;a55475b1&quot;</td><td>null</td><td>&quot;a55475b1&quot;</td><td>&quot;a55475b1&quot;</td><td>null</td><td>null</td><td>null</td><td>null</td><td>null</td><td>null</td><td>null</td><td>&quot;a55475b1&quot;</td><td>&quot;FO&quot;</td><td>null</td><td>null</td></tr><tr><td>101,222</td><td>0.00</td><td>null</td><td>77,956.40</td><td>0.00</td><td>0.00</td><td>0.00</td><td>0.00</td><td>0.00</td><td>0.00</td><td>6.00</td><td>null</td><td>null</td><td>null</td><td>null</td><td>null</td><td>null</td><td>null</td><td>null</td><td>null</td><td>0.00</td><td>0.00</td><td>0.00</td><td>0.00</td><td>0.00</td><td>0.00</td><td>0.00</td><td>null</td><td>0.00</td><td>0.00</td><td>0.00</td><td>0.00</td><td>0.00</td><td>0.00</td><td>0.00</td><td>0.00</td><td>null</td><td>&hellip;</td><td>&quot;CAL&quot;</td><td>null</td><td>null</td><td>null</td><td>&quot;GBA&quot;</td><td>null</td><td>null</td><td>null</td><td>null</td><td>null</td><td>&quot;CASH&quot;</td><td>false</td><td>false</td><td>false</td><td>null</td><td>2021-10-28</td><td>&quot;a55475b1&quot;</td><td>&quot;a55475b1&quot;</td><td>null</td><td>&quot;P94_109_143&quot;</td><td>null</td><td>&quot;a55475b1&quot;</td><td>&quot;a55475b1&quot;</td><td>2021-10-28</td><td>&quot;a55475b1&quot;</td><td>&quot;P94_109_143&quot;</td><td>null</td><td>&quot;D&quot;</td><td>null</td><td>false</td><td>null</td><td>null</td><td>null</td><td>&quot;a55475b1&quot;</td><td>&quot;FO&quot;</td><td>&quot;AL&quot;</td><td>null</td></tr></tbody></table></div>"
      ],
      "text/plain": [
       "shape: (1_526_689, 168)\n",
       "┌───────────┬───────────┬───────────┬───────────┬───┬───────────┬───────────┬───────────┬──────────┐\n",
       "│ case_id   ┆ static_ba ┆ static_ba ┆ static_ba ┆ … ┆ static_ba ┆ static_ba ┆ static_ba ┆ static_b │\n",
       "│ ---       ┆ se_actual ┆ se_amtins ┆ se_annuit ┆   ┆ se_previo ┆ se_twobod ┆ se_typesu ┆ ase_vali │\n",
       "│ u32       ┆ dpdtolera ┆ tpaidbefd ┆ y_780A    ┆   ┆ uscontdis ┆ filling_6 ┆ ite_864L  ┆ dfrom_10 │\n",
       "│           ┆ nce_344P  ┆ uel24m_41 ┆ ---       ┆   ┆ trict_112 ┆ 08L       ┆ ---       ┆ 69D      │\n",
       "│           ┆ ---       ┆ 87115A    ┆ f32       ┆   ┆ M         ┆ ---       ┆ str       ┆ ---      │\n",
       "│           ┆ f32       ┆ ---       ┆           ┆   ┆ ---       ┆ str       ┆           ┆ date     │\n",
       "│           ┆           ┆ f32       ┆           ┆   ┆ cat       ┆           ┆           ┆          │\n",
       "╞═══════════╪═══════════╪═══════════╪═══════════╪═══╪═══════════╪═══════════╪═══════════╪══════════╡\n",
       "│ 613,738   ┆ null      ┆ null      ┆ 2,470.00  ┆ … ┆ a55475b1  ┆ FO        ┆ null      ┆ null     │\n",
       "│ 2,644,298 ┆ 0.00      ┆ 9,567.45  ┆ 3,045.00  ┆ … ┆ P19_11_17 ┆ FO        ┆ null      ┆ 2019-11- │\n",
       "│           ┆           ┆           ┆           ┆   ┆ 6         ┆           ┆           ┆ 12       │\n",
       "│ 1,388,562 ┆ 0.00      ┆ 20,542.80 ┆ 1,997.60  ┆ … ┆ P98_137_1 ┆ FO        ┆ null      ┆ null     │\n",
       "│           ┆           ┆           ┆           ┆   ┆ 11        ┆           ┆           ┆          │\n",
       "│ …         ┆ …         ┆ …         ┆ …         ┆ … ┆ …         ┆ …         ┆ …         ┆ …        │\n",
       "│ 101,302   ┆ 0.00      ┆ null      ┆ 6,781.40  ┆ … ┆ a55475b1  ┆ FO        ┆ AL        ┆ null     │\n",
       "│ 101,259   ┆ 0.00      ┆ null      ┆ 37,639.00 ┆ … ┆ a55475b1  ┆ FO        ┆ null      ┆ null     │\n",
       "│ 101,222   ┆ 0.00      ┆ null      ┆ 77,956.40 ┆ … ┆ a55475b1  ┆ FO        ┆ AL        ┆ null     │\n",
       "└───────────┴───────────┴───────────┴───────────┴───┴───────────┴───────────┴───────────┴──────────┘"
      ]
     },
     "execution_count": 20,
     "metadata": {},
     "output_type": "execute_result"
    }
   ],
   "source": [
    "total_static_base = (\n",
    "    read_and_cast(\"static_0\",\"static_base\")\n",
    ")\n",
    "total_static_base"
   ]
  },
  {
   "cell_type": "code",
   "execution_count": 21,
   "metadata": {},
   "outputs": [
    {
     "data": {
      "text/html": [
       "<div><style>\n",
       ".dataframe > thead > tr,\n",
       ".dataframe > tbody > tr {\n",
       "  text-align: right;\n",
       "  white-space: pre-wrap;\n",
       "}\n",
       "</style>\n",
       "<small>shape: (1_526_662, 37)</small><table border=\"1\" class=\"dataframe\"><thead><tr><th>case_id</th><th>person_shallow_childnum_185L</th><th>person_shallow_mainoccupationinc_384A</th><th>person_shallow_num_group1</th><th>person_shallow_personindex_1023L</th><th>person_shallow_persontype_1072L</th><th>person_shallow_persontype_792L</th><th>person_shallow_birth_259D</th><th>person_shallow_birthdate_87D</th><th>person_shallow_contaddr_district_15M</th><th>person_shallow_contaddr_matchlist_1032L</th><th>person_shallow_contaddr_smempladdr_334L</th><th>person_shallow_contaddr_zipcode_807M</th><th>person_shallow_education_927M</th><th>person_shallow_empl_employedfrom_271D</th><th>person_shallow_empl_employedtotal_800L</th><th>person_shallow_empl_industry_691L</th><th>person_shallow_empladdr_district_926M</th><th>person_shallow_empladdr_zipcode_114M</th><th>person_shallow_familystate_447L</th><th>person_shallow_gender_992L</th><th>person_shallow_housetype_905L</th><th>person_shallow_housingtype_772L</th><th>person_shallow_incometype_1044T</th><th>person_shallow_isreference_387L</th><th>person_shallow_language1_981M</th><th>person_shallow_maritalst_703L</th><th>person_shallow_registaddr_district_1083M</th><th>person_shallow_registaddr_zipcode_184M</th><th>person_shallow_relationshiptoclient_415T</th><th>person_shallow_relationshiptoclient_642T</th><th>person_shallow_remitter_829L</th><th>person_shallow_role_1084L</th><th>person_shallow_role_993L</th><th>person_shallow_safeguarantyflag_411L</th><th>person_shallow_sex_738L</th><th>person_shallow_type_25L</th></tr><tr><td>u32</td><td>f32</td><td>f32</td><td>u16</td><td>f32</td><td>f32</td><td>f32</td><td>date</td><td>date</td><td>cat</td><td>bool</td><td>bool</td><td>cat</td><td>cat</td><td>date</td><td>str</td><td>str</td><td>cat</td><td>cat</td><td>str</td><td>str</td><td>str</td><td>str</td><td>cat</td><td>bool</td><td>cat</td><td>str</td><td>cat</td><td>cat</td><td>cat</td><td>cat</td><td>bool</td><td>str</td><td>str</td><td>bool</td><td>str</td><td>str</td></tr></thead><tbody><tr><td>886,374</td><td>null</td><td>30,000.00</td><td>3</td><td>2.00</td><td>5.00</td><td>5.00</td><td>1990-07-01</td><td>null</td><td>&quot;a55475b1&quot;</td><td>false</td><td>false</td><td>&quot;a55475b1&quot;</td><td>&quot;a55475b1&quot;</td><td>2016-01-17</td><td>&quot;MORE_ONE&quot;</td><td>&quot;OTHER&quot;</td><td>&quot;a55475b1&quot;</td><td>&quot;a55475b1&quot;</td><td>&quot;MARRIED&quot;</td><td>null</td><td>null</td><td>null</td><td>&quot;EMPLOYED&quot;</td><td>null</td><td>&quot;a55475b1&quot;</td><td>null</td><td>&quot;a55475b1&quot;</td><td>&quot;a55475b1&quot;</td><td>&quot;PARENT&quot;</td><td>&quot;SPOUSE&quot;</td><td>false</td><td>&quot;PE&quot;</td><td>null</td><td>true</td><td>&quot;F&quot;</td><td>&quot;PHONE&quot;</td></tr><tr><td>898,974</td><td>null</td><td>25,000.00</td><td>2</td><td>1.00</td><td>5.00</td><td>5.00</td><td>1987-12-01</td><td>null</td><td>&quot;a55475b1&quot;</td><td>false</td><td>false</td><td>&quot;a55475b1&quot;</td><td>&quot;a55475b1&quot;</td><td>2019-01-15</td><td>&quot;MORE_FIVE&quot;</td><td>&quot;OTHER&quot;</td><td>&quot;a55475b1&quot;</td><td>&quot;a55475b1&quot;</td><td>&quot;MARRIED&quot;</td><td>null</td><td>null</td><td>null</td><td>&quot;PRIVATE_SECTOR_EMPLOYEE&quot;</td><td>null</td><td>&quot;a55475b1&quot;</td><td>null</td><td>&quot;a55475b1&quot;</td><td>&quot;a55475b1&quot;</td><td>&quot;SIBLING&quot;</td><td>&quot;SIBLING&quot;</td><td>false</td><td>&quot;PE&quot;</td><td>null</td><td>true</td><td>&quot;M&quot;</td><td>&quot;PHONE&quot;</td></tr><tr><td>1,671,547</td><td>null</td><td>34,000.00</td><td>0</td><td>0.00</td><td>1.00</td><td>1.00</td><td>1979-02-01</td><td>null</td><td>&quot;P19_11_176&quot;</td><td>false</td><td>false</td><td>&quot;P11_15_81&quot;</td><td>&quot;a55475b1&quot;</td><td>null</td><td>null</td><td>null</td><td>&quot;a55475b1&quot;</td><td>&quot;a55475b1&quot;</td><td>null</td><td>null</td><td>null</td><td>null</td><td>&quot;PRIVATE_SECTOR_EMPLOYEE&quot;</td><td>null</td><td>&quot;P10_39_147&quot;</td><td>null</td><td>&quot;P19_11_176&quot;</td><td>&quot;P11_15_81&quot;</td><td>null</td><td>null</td><td>null</td><td>&quot;CL&quot;</td><td>null</td><td>true</td><td>&quot;M&quot;</td><td>&quot;PRIMARY_MOBILE&quot;</td></tr><tr><td>&hellip;</td><td>&hellip;</td><td>&hellip;</td><td>&hellip;</td><td>&hellip;</td><td>&hellip;</td><td>&hellip;</td><td>&hellip;</td><td>&hellip;</td><td>&hellip;</td><td>&hellip;</td><td>&hellip;</td><td>&hellip;</td><td>&hellip;</td><td>&hellip;</td><td>&hellip;</td><td>&hellip;</td><td>&hellip;</td><td>&hellip;</td><td>&hellip;</td><td>&hellip;</td><td>&hellip;</td><td>&hellip;</td><td>&hellip;</td><td>&hellip;</td><td>&hellip;</td><td>&hellip;</td><td>&hellip;</td><td>&hellip;</td><td>&hellip;</td><td>&hellip;</td><td>&hellip;</td><td>&hellip;</td><td>&hellip;</td><td>&hellip;</td><td>&hellip;</td><td>&hellip;</td></tr><tr><td>57,543</td><td>null</td><td>36,000.00</td><td>2</td><td>1.00</td><td>5.00</td><td>5.00</td><td>1996-08-01</td><td>null</td><td>&quot;a55475b1&quot;</td><td>false</td><td>false</td><td>&quot;a55475b1&quot;</td><td>&quot;a55475b1&quot;</td><td>2018-02-15</td><td>&quot;MORE_ONE&quot;</td><td>&quot;OTHER&quot;</td><td>&quot;a55475b1&quot;</td><td>&quot;a55475b1&quot;</td><td>&quot;MARRIED&quot;</td><td>null</td><td>null</td><td>null</td><td>&quot;EMPLOYED&quot;</td><td>null</td><td>&quot;a55475b1&quot;</td><td>null</td><td>&quot;a55475b1&quot;</td><td>&quot;a55475b1&quot;</td><td>&quot;OTHER&quot;</td><td>&quot;OTHER&quot;</td><td>false</td><td>&quot;PE&quot;</td><td>null</td><td>false</td><td>&quot;M&quot;</td><td>&quot;PHONE&quot;</td></tr><tr><td>57,551</td><td>null</td><td>24,000.00</td><td>2</td><td>1.00</td><td>5.00</td><td>5.00</td><td>1990-08-01</td><td>null</td><td>&quot;a55475b1&quot;</td><td>false</td><td>false</td><td>&quot;a55475b1&quot;</td><td>&quot;a55475b1&quot;</td><td>2019-01-15</td><td>&quot;MORE_FIVE&quot;</td><td>&quot;OTHER&quot;</td><td>&quot;a55475b1&quot;</td><td>&quot;a55475b1&quot;</td><td>&quot;MARRIED&quot;</td><td>null</td><td>null</td><td>null</td><td>&quot;EMPLOYED&quot;</td><td>null</td><td>&quot;a55475b1&quot;</td><td>null</td><td>&quot;a55475b1&quot;</td><td>&quot;a55475b1&quot;</td><td>&quot;FRIEND&quot;</td><td>&quot;FRIEND&quot;</td><td>false</td><td>&quot;CL&quot;</td><td>null</td><td>false</td><td>&quot;M&quot;</td><td>&quot;PHONE&quot;</td></tr><tr><td>57,549</td><td>null</td><td>15,000.00</td><td>3</td><td>1.00</td><td>5.00</td><td>5.00</td><td>1992-03-01</td><td>null</td><td>&quot;a55475b1&quot;</td><td>false</td><td>false</td><td>&quot;a55475b1&quot;</td><td>&quot;a55475b1&quot;</td><td>2019-05-04</td><td>&quot;MORE_ONE&quot;</td><td>&quot;OTHER&quot;</td><td>&quot;a55475b1&quot;</td><td>&quot;a55475b1&quot;</td><td>&quot;SINGLE&quot;</td><td>null</td><td>null</td><td>null</td><td>&quot;EMPLOYED&quot;</td><td>null</td><td>&quot;a55475b1&quot;</td><td>null</td><td>&quot;a55475b1&quot;</td><td>&quot;a55475b1&quot;</td><td>&quot;SIBLING&quot;</td><td>&quot;SIBLING&quot;</td><td>false</td><td>&quot;EM&quot;</td><td>null</td><td>false</td><td>&quot;M&quot;</td><td>&quot;PRIMARY_MOBILE&quot;</td></tr></tbody></table></div>"
      ],
      "text/plain": [
       "shape: (1_526_662, 37)\n",
       "┌───────────┬───────────┬───────────┬───────────┬───┬───────────┬───────────┬───────────┬──────────┐\n",
       "│ case_id   ┆ person_sh ┆ person_sh ┆ person_sh ┆ … ┆ person_sh ┆ person_sh ┆ person_sh ┆ person_s │\n",
       "│ ---       ┆ allow_chi ┆ allow_mai ┆ allow_num ┆   ┆ allow_rol ┆ allow_saf ┆ allow_sex ┆ hallow_t │\n",
       "│ u32       ┆ ldnum_185 ┆ noccupati ┆ _group1   ┆   ┆ e_993L    ┆ eguaranty ┆ _738L     ┆ ype_25L  │\n",
       "│           ┆ L         ┆ oninc_384 ┆ ---       ┆   ┆ ---       ┆ flag_411L ┆ ---       ┆ ---      │\n",
       "│           ┆ ---       ┆ A         ┆ u16       ┆   ┆ str       ┆ ---       ┆ str       ┆ str      │\n",
       "│           ┆ f32       ┆ ---       ┆           ┆   ┆           ┆ bool      ┆           ┆          │\n",
       "│           ┆           ┆ f32       ┆           ┆   ┆           ┆           ┆           ┆          │\n",
       "╞═══════════╪═══════════╪═══════════╪═══════════╪═══╪═══════════╪═══════════╪═══════════╪══════════╡\n",
       "│ 886,374   ┆ null      ┆ 30,000.00 ┆ 3         ┆ … ┆ null      ┆ true      ┆ F         ┆ PHONE    │\n",
       "│ 898,974   ┆ null      ┆ 25,000.00 ┆ 2         ┆ … ┆ null      ┆ true      ┆ M         ┆ PHONE    │\n",
       "│ 1,671,547 ┆ null      ┆ 34,000.00 ┆ 0         ┆ … ┆ null      ┆ true      ┆ M         ┆ PRIMARY_ │\n",
       "│           ┆           ┆           ┆           ┆   ┆           ┆           ┆           ┆ MOBILE   │\n",
       "│ …         ┆ …         ┆ …         ┆ …         ┆ … ┆ …         ┆ …         ┆ …         ┆ …        │\n",
       "│ 57,543    ┆ null      ┆ 36,000.00 ┆ 2         ┆ … ┆ null      ┆ false     ┆ M         ┆ PHONE    │\n",
       "│ 57,551    ┆ null      ┆ 24,000.00 ┆ 2         ┆ … ┆ null      ┆ false     ┆ M         ┆ PHONE    │\n",
       "│ 57,549    ┆ null      ┆ 15,000.00 ┆ 3         ┆ … ┆ null      ┆ false     ┆ M         ┆ PRIMARY_ │\n",
       "│           ┆           ┆           ┆           ┆   ┆           ┆           ┆           ┆ MOBILE   │\n",
       "└───────────┴───────────┴───────────┴───────────┴───┴───────────┴───────────┴───────────┴──────────┘"
      ]
     },
     "execution_count": 21,
     "metadata": {},
     "output_type": "execute_result"
    }
   ],
   "source": [
    "total_person_shallow = (\n",
    "    read_and_cast(\"person_1\",\"person_shallow\")\n",
    ")\n",
    "total_person_shallow"
   ]
  },
  {
   "cell_type": "code",
   "execution_count": 22,
   "metadata": {},
   "outputs": [
    {
     "data": {
      "text/html": [
       "<div><style>\n",
       ".dataframe > thead > tr,\n",
       ".dataframe > tbody > tr {\n",
       "  text-align: right;\n",
       "  white-space: pre-wrap;\n",
       "}\n",
       "</style>\n",
       "<small>shape: (1_435_115, 11)</small><table border=\"1\" class=\"dataframe\"><thead><tr><th>case_id</th><th>person_depth_num_group1</th><th>person_depth_num_group2</th><th>person_depth_addres_district_368M</th><th>person_depth_addres_role_871L</th><th>person_depth_addres_zip_823M</th><th>person_depth_conts_role_79M</th><th>person_depth_empls_economicalst_849M</th><th>person_depth_empls_employedfrom_796D</th><th>person_depth_empls_employer_name_740M</th><th>person_depth_relatedpersons_role_762T</th></tr><tr><td>u32</td><td>u16</td><td>u16</td><td>cat</td><td>str</td><td>cat</td><td>cat</td><td>cat</td><td>date</td><td>cat</td><td>cat</td></tr></thead><tbody><tr><td>149,963</td><td>0</td><td>0</td><td>&quot;a55475b1&quot;</td><td>null</td><td>&quot;a55475b1&quot;</td><td>&quot;a55475b1&quot;</td><td>&quot;a55475b1&quot;</td><td>null</td><td>&quot;a55475b1&quot;</td><td>null</td></tr><tr><td>1,718,359</td><td>0</td><td>0</td><td>&quot;a55475b1&quot;</td><td>null</td><td>&quot;a55475b1&quot;</td><td>&quot;a55475b1&quot;</td><td>&quot;a55475b1&quot;</td><td>null</td><td>&quot;a55475b1&quot;</td><td>null</td></tr><tr><td>928,071</td><td>0</td><td>0</td><td>&quot;a55475b1&quot;</td><td>null</td><td>&quot;a55475b1&quot;</td><td>&quot;a55475b1&quot;</td><td>&quot;a55475b1&quot;</td><td>null</td><td>&quot;a55475b1&quot;</td><td>null</td></tr><tr><td>&hellip;</td><td>&hellip;</td><td>&hellip;</td><td>&hellip;</td><td>&hellip;</td><td>&hellip;</td><td>&hellip;</td><td>&hellip;</td><td>&hellip;</td><td>&hellip;</td><td>&hellip;</td></tr><tr><td>57,635</td><td>0</td><td>0</td><td>&quot;a55475b1&quot;</td><td>null</td><td>&quot;a55475b1&quot;</td><td>&quot;a55475b1&quot;</td><td>&quot;a55475b1&quot;</td><td>null</td><td>&quot;a55475b1&quot;</td><td>null</td></tr><tr><td>57,636</td><td>0</td><td>0</td><td>&quot;a55475b1&quot;</td><td>null</td><td>&quot;a55475b1&quot;</td><td>&quot;a55475b1&quot;</td><td>&quot;a55475b1&quot;</td><td>null</td><td>&quot;a55475b1&quot;</td><td>null</td></tr><tr><td>57,632</td><td>0</td><td>0</td><td>&quot;a55475b1&quot;</td><td>null</td><td>&quot;a55475b1&quot;</td><td>&quot;a55475b1&quot;</td><td>&quot;a55475b1&quot;</td><td>null</td><td>&quot;a55475b1&quot;</td><td>null</td></tr></tbody></table></div>"
      ],
      "text/plain": [
       "shape: (1_435_115, 11)\n",
       "┌───────────┬───────────┬───────────┬───────────┬───┬───────────┬───────────┬───────────┬──────────┐\n",
       "│ case_id   ┆ person_de ┆ person_de ┆ person_de ┆ … ┆ person_de ┆ person_de ┆ person_de ┆ person_d │\n",
       "│ ---       ┆ pth_num_g ┆ pth_num_g ┆ pth_addre ┆   ┆ pth_empls ┆ pth_empls ┆ pth_empls ┆ epth_rel │\n",
       "│ u32       ┆ roup1     ┆ roup2     ┆ s_distric ┆   ┆ _economic ┆ _employed ┆ _employer ┆ atedpers │\n",
       "│           ┆ ---       ┆ ---       ┆ t_368M    ┆   ┆ alst_849M ┆ from_796D ┆ _name_740 ┆ ons_role │\n",
       "│           ┆ u16       ┆ u16       ┆ ---       ┆   ┆ ---       ┆ ---       ┆ M         ┆ _762T    │\n",
       "│           ┆           ┆           ┆ cat       ┆   ┆ cat       ┆ date      ┆ ---       ┆ ---      │\n",
       "│           ┆           ┆           ┆           ┆   ┆           ┆           ┆ cat       ┆ cat      │\n",
       "╞═══════════╪═══════════╪═══════════╪═══════════╪═══╪═══════════╪═══════════╪═══════════╪══════════╡\n",
       "│ 149,963   ┆ 0         ┆ 0         ┆ a55475b1  ┆ … ┆ a55475b1  ┆ null      ┆ a55475b1  ┆ null     │\n",
       "│ 1,718,359 ┆ 0         ┆ 0         ┆ a55475b1  ┆ … ┆ a55475b1  ┆ null      ┆ a55475b1  ┆ null     │\n",
       "│ 928,071   ┆ 0         ┆ 0         ┆ a55475b1  ┆ … ┆ a55475b1  ┆ null      ┆ a55475b1  ┆ null     │\n",
       "│ …         ┆ …         ┆ …         ┆ …         ┆ … ┆ …         ┆ …         ┆ …         ┆ …        │\n",
       "│ 57,635    ┆ 0         ┆ 0         ┆ a55475b1  ┆ … ┆ a55475b1  ┆ null      ┆ a55475b1  ┆ null     │\n",
       "│ 57,636    ┆ 0         ┆ 0         ┆ a55475b1  ┆ … ┆ a55475b1  ┆ null      ┆ a55475b1  ┆ null     │\n",
       "│ 57,632    ┆ 0         ┆ 0         ┆ a55475b1  ┆ … ┆ a55475b1  ┆ null      ┆ a55475b1  ┆ null     │\n",
       "└───────────┴───────────┴───────────┴───────────┴───┴───────────┴───────────┴───────────┴──────────┘"
      ]
     },
     "execution_count": 22,
     "metadata": {},
     "output_type": "execute_result"
    }
   ],
   "source": [
    "total_person_depth = (\n",
    "    read_and_cast(\"person_2\",\"person_depth\")\n",
    ")\n",
    "total_person_depth"
   ]
  },
  {
   "cell_type": "code",
   "execution_count": 23,
   "metadata": {},
   "outputs": [
    {
     "data": {
      "text/html": [
       "<div><style>\n",
       ".dataframe > thead > tr,\n",
       ".dataframe > tbody > tr {\n",
       "  text-align: right;\n",
       "  white-space: pre-wrap;\n",
       "}\n",
       "</style>\n",
       "<small>shape: (51_119, 7)</small><table border=\"1\" class=\"dataframe\"><thead><tr><th>case_id</th><th>other_shallow_amtdebitincoming_4809443A</th><th>other_shallow_amtdebitoutgoing_4809440A</th><th>other_shallow_amtdepositbalance_4809441A</th><th>other_shallow_amtdepositincoming_4809444A</th><th>other_shallow_amtdepositoutgoing_4809442A</th><th>other_shallow_num_group1</th></tr><tr><td>u32</td><td>f32</td><td>f32</td><td>f32</td><td>f32</td><td>f32</td><td>u16</td></tr></thead><tbody><tr><td>1,794,503</td><td>0.00</td><td>0.00</td><td>3,015.20</td><td>0.00</td><td>24.80</td><td>0</td></tr><tr><td>2,685,983</td><td>10,000.00</td><td>10,000.00</td><td>0.00</td><td>0.00</td><td>0.00</td><td>0</td></tr><tr><td>1,918,757</td><td>0.00</td><td>0.00</td><td>0.00</td><td>0.00</td><td>12.20</td><td>0</td></tr><tr><td>&hellip;</td><td>&hellip;</td><td>&hellip;</td><td>&hellip;</td><td>&hellip;</td><td>&hellip;</td><td>&hellip;</td></tr><tr><td>57,932</td><td>0.00</td><td>0.00</td><td>23,212.00</td><td>0.00</td><td>178.20</td><td>0</td></tr><tr><td>57,635</td><td>0.00</td><td>0.00</td><td>12,028.80</td><td>0.00</td><td>4,011.00</td><td>0</td></tr><tr><td>57,762</td><td>0.00</td><td>0.00</td><td>240.20</td><td>0.00</td><td>1.80</td><td>0</td></tr></tbody></table></div>"
      ],
      "text/plain": [
       "shape: (51_119, 7)\n",
       "┌───────────┬──────────────┬──────────────┬──────────────┬─────────────┬─────────────┬─────────────┐\n",
       "│ case_id   ┆ other_shallo ┆ other_shallo ┆ other_shallo ┆ other_shall ┆ other_shall ┆ other_shall │\n",
       "│ ---       ┆ w_amtdebitin ┆ w_amtdebitou ┆ w_amtdeposit ┆ ow_amtdepos ┆ ow_amtdepos ┆ ow_num_grou │\n",
       "│ u32       ┆ coming_48094 ┆ tgoing_48094 ┆ balance_4809 ┆ itincoming_ ┆ itoutgoing_ ┆ p1          │\n",
       "│           ┆ 43A          ┆ 40A          ┆ 441A         ┆ 4809444A    ┆ 4809442A    ┆ ---         │\n",
       "│           ┆ ---          ┆ ---          ┆ ---          ┆ ---         ┆ ---         ┆ u16         │\n",
       "│           ┆ f32          ┆ f32          ┆ f32          ┆ f32         ┆ f32         ┆             │\n",
       "╞═══════════╪══════════════╪══════════════╪══════════════╪═════════════╪═════════════╪═════════════╡\n",
       "│ 1,794,503 ┆ 0.00         ┆ 0.00         ┆ 3,015.20     ┆ 0.00        ┆ 24.80       ┆ 0           │\n",
       "│ 2,685,983 ┆ 10,000.00    ┆ 10,000.00    ┆ 0.00         ┆ 0.00        ┆ 0.00        ┆ 0           │\n",
       "│ 1,918,757 ┆ 0.00         ┆ 0.00         ┆ 0.00         ┆ 0.00        ┆ 12.20       ┆ 0           │\n",
       "│ …         ┆ …            ┆ …            ┆ …            ┆ …           ┆ …           ┆ …           │\n",
       "│ 57,932    ┆ 0.00         ┆ 0.00         ┆ 23,212.00    ┆ 0.00        ┆ 178.20      ┆ 0           │\n",
       "│ 57,635    ┆ 0.00         ┆ 0.00         ┆ 12,028.80    ┆ 0.00        ┆ 4,011.00    ┆ 0           │\n",
       "│ 57,762    ┆ 0.00         ┆ 0.00         ┆ 240.20       ┆ 0.00        ┆ 1.80        ┆ 0           │\n",
       "└───────────┴──────────────┴──────────────┴──────────────┴─────────────┴─────────────┴─────────────┘"
      ]
     },
     "execution_count": 23,
     "metadata": {},
     "output_type": "execute_result"
    }
   ],
   "source": [
    "total_other_shallow = (\n",
    "    read_and_cast(\"other_1\",\"other_shallow\")\n",
    ")\n",
    "total_other_shallow"
   ]
  },
  {
   "cell_type": "code",
   "execution_count": 24,
   "metadata": {},
   "outputs": [
    {
     "data": {
      "text/html": [
       "<div><style>\n",
       ".dataframe > thead > tr,\n",
       ".dataframe > tbody > tr {\n",
       "  text-align: right;\n",
       "  white-space: pre-wrap;\n",
       "}\n",
       "</style>\n",
       "<small>shape: (105_121, 5)</small><table border=\"1\" class=\"dataframe\"><thead><tr><th>case_id</th><th>deposit_shallow_amount_416A</th><th>deposit_shallow_num_group1</th><th>deposit_shallow_contractenddate_991D</th><th>deposit_shallow_openingdate_313D</th></tr><tr><td>u32</td><td>f32</td><td>u16</td><td>date</td><td>date</td></tr></thead><tbody><tr><td>656,867</td><td>4,239.86</td><td>1</td><td>2016-12-12</td><td>2013-12-13</td></tr><tr><td>1,766,180</td><td>278.73</td><td>0</td><td>2017-09-21</td><td>2014-09-22</td></tr><tr><td>2,543,898</td><td>264.46</td><td>0</td><td>2018-02-06</td><td>2015-02-07</td></tr><tr><td>&hellip;</td><td>&hellip;</td><td>&hellip;</td><td>&hellip;</td><td>&hellip;</td></tr><tr><td>57,890</td><td>1,178.49</td><td>0</td><td>2018-03-11</td><td>2015-03-12</td></tr><tr><td>57,774</td><td>733.01</td><td>0</td><td>null</td><td>2016-03-03</td></tr><tr><td>57,737</td><td>202.00</td><td>0</td><td>2018-05-16</td><td>2016-05-13</td></tr></tbody></table></div>"
      ],
      "text/plain": [
       "shape: (105_121, 5)\n",
       "┌───────────┬─────────────────────┬─────────────────────┬─────────────────────┬────────────────────┐\n",
       "│ case_id   ┆ deposit_shallow_amo ┆ deposit_shallow_num ┆ deposit_shallow_con ┆ deposit_shallow_op │\n",
       "│ ---       ┆ unt_416A            ┆ _group1             ┆ tractenddate_991D   ┆ eningdate_313D     │\n",
       "│ u32       ┆ ---                 ┆ ---                 ┆ ---                 ┆ ---                │\n",
       "│           ┆ f32                 ┆ u16                 ┆ date                ┆ date               │\n",
       "╞═══════════╪═════════════════════╪═════════════════════╪═════════════════════╪════════════════════╡\n",
       "│ 656,867   ┆ 4,239.86            ┆ 1                   ┆ 2016-12-12          ┆ 2013-12-13         │\n",
       "│ 1,766,180 ┆ 278.73              ┆ 0                   ┆ 2017-09-21          ┆ 2014-09-22         │\n",
       "│ 2,543,898 ┆ 264.46              ┆ 0                   ┆ 2018-02-06          ┆ 2015-02-07         │\n",
       "│ …         ┆ …                   ┆ …                   ┆ …                   ┆ …                  │\n",
       "│ 57,890    ┆ 1,178.49            ┆ 0                   ┆ 2018-03-11          ┆ 2015-03-12         │\n",
       "│ 57,774    ┆ 733.01              ┆ 0                   ┆ null                ┆ 2016-03-03         │\n",
       "│ 57,737    ┆ 202.00              ┆ 0                   ┆ 2018-05-16          ┆ 2016-05-13         │\n",
       "└───────────┴─────────────────────┴─────────────────────┴─────────────────────┴────────────────────┘"
      ]
     },
     "execution_count": 24,
     "metadata": {},
     "output_type": "execute_result"
    }
   ],
   "source": [
    "total_deposit_shallow = (\n",
    "    read_and_cast(\"deposit_1\",\"deposit_shallow\")\n",
    ")\n",
    "total_deposit_shallow"
   ]
  },
  {
   "cell_type": "code",
   "execution_count": 25,
   "metadata": {},
   "outputs": [
    {
     "data": {
      "text/html": [
       "<div><style>\n",
       ".dataframe > thead > tr,\n",
       ".dataframe > tbody > tr {\n",
       "  text-align: right;\n",
       "  white-space: pre-wrap;\n",
       "}\n",
       "</style>\n",
       "<small>shape: (111_782, 6)</small><table border=\"1\" class=\"dataframe\"><thead><tr><th>case_id</th><th>card_shallow_last180dayaveragebalance_704A</th><th>card_shallow_last180dayturnover_1134A</th><th>card_shallow_last30dayturnover_651A</th><th>card_shallow_num_group1</th><th>card_shallow_openingdate_857D</th></tr><tr><td>u32</td><td>f32</td><td>f32</td><td>f32</td><td>u16</td><td>date</td></tr></thead><tbody><tr><td>202,926</td><td>null</td><td>null</td><td>null</td><td>1</td><td>2015-03-09</td></tr><tr><td>1,477,544</td><td>null</td><td>null</td><td>null</td><td>1</td><td>2014-01-07</td></tr><tr><td>1,522,498</td><td>null</td><td>null</td><td>null</td><td>0</td><td>2017-04-14</td></tr><tr><td>&hellip;</td><td>&hellip;</td><td>&hellip;</td><td>&hellip;</td><td>&hellip;</td><td>&hellip;</td></tr><tr><td>57,968</td><td>null</td><td>null</td><td>null</td><td>0</td><td>2017-05-08</td></tr><tr><td>57,932</td><td>null</td><td>null</td><td>null</td><td>0</td><td>2017-07-06</td></tr><tr><td>57,774</td><td>null</td><td>null</td><td>null</td><td>0</td><td>2016-03-03</td></tr></tbody></table></div>"
      ],
      "text/plain": [
       "shape: (111_782, 6)\n",
       "┌───────────┬─────────────────┬─────────────────┬────────────────┬────────────────┬────────────────┐\n",
       "│ case_id   ┆ card_shallow_la ┆ card_shallow_la ┆ card_shallow_l ┆ card_shallow_n ┆ card_shallow_o │\n",
       "│ ---       ┆ st180dayaverage ┆ st180dayturnove ┆ ast30dayturnov ┆ um_group1      ┆ peningdate_857 │\n",
       "│ u32       ┆ balance_704A    ┆ r_1134A         ┆ er_651A        ┆ ---            ┆ D              │\n",
       "│           ┆ ---             ┆ ---             ┆ ---            ┆ u16            ┆ ---            │\n",
       "│           ┆ f32             ┆ f32             ┆ f32            ┆                ┆ date           │\n",
       "╞═══════════╪═════════════════╪═════════════════╪════════════════╪════════════════╪════════════════╡\n",
       "│ 202,926   ┆ null            ┆ null            ┆ null           ┆ 1              ┆ 2015-03-09     │\n",
       "│ 1,477,544 ┆ null            ┆ null            ┆ null           ┆ 1              ┆ 2014-01-07     │\n",
       "│ 1,522,498 ┆ null            ┆ null            ┆ null           ┆ 0              ┆ 2017-04-14     │\n",
       "│ …         ┆ …               ┆ …               ┆ …              ┆ …              ┆ …              │\n",
       "│ 57,968    ┆ null            ┆ null            ┆ null           ┆ 0              ┆ 2017-05-08     │\n",
       "│ 57,932    ┆ null            ┆ null            ┆ null           ┆ 0              ┆ 2017-07-06     │\n",
       "│ 57,774    ┆ null            ┆ null            ┆ null           ┆ 0              ┆ 2016-03-03     │\n",
       "└───────────┴─────────────────┴─────────────────┴────────────────┴────────────────┴────────────────┘"
      ]
     },
     "execution_count": 25,
     "metadata": {},
     "output_type": "execute_result"
    }
   ],
   "source": [
    "total_debitcard_shallow = (\n",
    "    read_and_cast(\"debitcard\",\"card_shallow\")\n",
    ")\n",
    "total_debitcard_shallow"
   ]
  },
  {
   "cell_type": "code",
   "execution_count": 21,
   "metadata": {},
   "outputs": [
    {
     "ename": "ComputeError",
     "evalue": "cannot cast numeric types to 'Categorical'",
     "output_type": "error",
     "traceback": [
      "\u001b[0;31m---------------------------------------------------------------------------\u001b[0m",
      "\u001b[0;31mComputeError\u001b[0m                              Traceback (most recent call last)",
      "Cell \u001b[0;32mIn[21], line 2\u001b[0m\n\u001b[1;32m      1\u001b[0m total_credit_internal_shallow \u001b[38;5;241m=\u001b[39m (\n\u001b[0;32m----> 2\u001b[0m     read_and_cast(\u001b[38;5;124m\"\u001b[39m\u001b[38;5;124mbureau_a_1_\u001b[39m\u001b[38;5;124m\"\u001b[39m,\u001b[38;5;124m\"\u001b[39m\u001b[38;5;124mint_shallow\u001b[39m\u001b[38;5;124m\"\u001b[39m)\n\u001b[1;32m      3\u001b[0m )\n\u001b[1;32m      4\u001b[0m total_credit_internal_shallow\n",
      "Cell \u001b[0;32mIn[17], line 13\u001b[0m, in \u001b[0;36mread_and_cast\u001b[0;34m(filter_string, prefix_string)\u001b[0m\n\u001b[1;32m      3\u001b[0m test_files_list \u001b[38;5;241m=\u001b[39m \u001b[38;5;28msorted\u001b[39m(test_files_df\u001b[38;5;241m.\u001b[39mfilter(pl\u001b[38;5;241m.\u001b[39mcol(\u001b[38;5;124m\"\u001b[39m\u001b[38;5;124mfilename\u001b[39m\u001b[38;5;124m\"\u001b[39m)\u001b[38;5;241m.\u001b[39mstr\u001b[38;5;241m.\u001b[39mcontains(filter_string))[\u001b[38;5;124m\"\u001b[39m\u001b[38;5;124mpath\u001b[39m\u001b[38;5;124m\"\u001b[39m]\u001b[38;5;241m.\u001b[39mto_list())\n\u001b[1;32m      4\u001b[0m train_df \u001b[38;5;241m=\u001b[39m (\n\u001b[1;32m      5\u001b[0m     pl\u001b[38;5;241m.\u001b[39mconcat(\n\u001b[1;32m      6\u001b[0m         [\n\u001b[0;32m   (...)\u001b[0m\n\u001b[1;32m      9\u001b[0m     )\n\u001b[1;32m     10\u001b[0m )\n\u001b[1;32m     11\u001b[0m test_df \u001b[38;5;241m=\u001b[39m (\n\u001b[1;32m     12\u001b[0m     pl\u001b[38;5;241m.\u001b[39mconcat(\n\u001b[0;32m---> 13\u001b[0m         [\n\u001b[1;32m     14\u001b[0m             pl\u001b[38;5;241m.\u001b[39mread_parquet(_)\u001b[38;5;241m.\u001b[39mselect(train_df\u001b[38;5;241m.\u001b[39mcolumns)\u001b[38;5;241m.\u001b[39mcast(train_df\u001b[38;5;241m.\u001b[39mschema)\u001b[38;5;241m.\u001b[39mpipe(reduce_dtypes)\u001b[38;5;241m.\u001b[39mpipe(grouping) \u001b[38;5;28;01mfor\u001b[39;00m _ \u001b[38;5;129;01min\u001b[39;00m test_files_list\n\u001b[1;32m     15\u001b[0m         ]\n\u001b[1;32m     16\u001b[0m     )\n\u001b[1;32m     17\u001b[0m )\n\u001b[1;32m     18\u001b[0m \u001b[38;5;28;01mreturn\u001b[39;00m (\n\u001b[1;32m     19\u001b[0m     pl\u001b[38;5;241m.\u001b[39mconcat(\n\u001b[1;32m     20\u001b[0m         [train_df,test_df],\n\u001b[0;32m   (...)\u001b[0m\n\u001b[1;32m     23\u001b[0m     \u001b[38;5;241m.\u001b[39mrename({_:\u001b[38;5;124mf\u001b[39m\u001b[38;5;124m\"\u001b[39m\u001b[38;5;132;01m{\u001b[39;00mprefix_string\u001b[38;5;132;01m}\u001b[39;00m\u001b[38;5;124m_\u001b[39m\u001b[38;5;132;01m{\u001b[39;00m_\u001b[38;5;132;01m}\u001b[39;00m\u001b[38;5;124m\"\u001b[39m \u001b[38;5;28;01mfor\u001b[39;00m _ \u001b[38;5;129;01min\u001b[39;00m train_df\u001b[38;5;241m.\u001b[39mcolumns \u001b[38;5;28;01mif\u001b[39;00m \u001b[38;5;129;01mnot\u001b[39;00m _ \u001b[38;5;241m==\u001b[39m \u001b[38;5;124m\"\u001b[39m\u001b[38;5;124mcase_id\u001b[39m\u001b[38;5;124m\"\u001b[39m})\n\u001b[1;32m     24\u001b[0m )\n",
      "Cell \u001b[0;32mIn[17], line 14\u001b[0m, in \u001b[0;36m<listcomp>\u001b[0;34m(.0)\u001b[0m\n\u001b[1;32m      3\u001b[0m test_files_list \u001b[38;5;241m=\u001b[39m \u001b[38;5;28msorted\u001b[39m(test_files_df\u001b[38;5;241m.\u001b[39mfilter(pl\u001b[38;5;241m.\u001b[39mcol(\u001b[38;5;124m\"\u001b[39m\u001b[38;5;124mfilename\u001b[39m\u001b[38;5;124m\"\u001b[39m)\u001b[38;5;241m.\u001b[39mstr\u001b[38;5;241m.\u001b[39mcontains(filter_string))[\u001b[38;5;124m\"\u001b[39m\u001b[38;5;124mpath\u001b[39m\u001b[38;5;124m\"\u001b[39m]\u001b[38;5;241m.\u001b[39mto_list())\n\u001b[1;32m      4\u001b[0m train_df \u001b[38;5;241m=\u001b[39m (\n\u001b[1;32m      5\u001b[0m     pl\u001b[38;5;241m.\u001b[39mconcat(\n\u001b[1;32m      6\u001b[0m         [\n\u001b[0;32m   (...)\u001b[0m\n\u001b[1;32m      9\u001b[0m     )\n\u001b[1;32m     10\u001b[0m )\n\u001b[1;32m     11\u001b[0m test_df \u001b[38;5;241m=\u001b[39m (\n\u001b[1;32m     12\u001b[0m     pl\u001b[38;5;241m.\u001b[39mconcat(\n\u001b[1;32m     13\u001b[0m         [\n\u001b[0;32m---> 14\u001b[0m             pl\u001b[38;5;241m.\u001b[39mread_parquet(_)\u001b[38;5;241m.\u001b[39mselect(train_df\u001b[38;5;241m.\u001b[39mcolumns)\u001b[38;5;241m.\u001b[39mcast(train_df\u001b[38;5;241m.\u001b[39mschema)\u001b[38;5;241m.\u001b[39mpipe(reduce_dtypes)\u001b[38;5;241m.\u001b[39mpipe(grouping) \u001b[38;5;28;01mfor\u001b[39;00m _ \u001b[38;5;129;01min\u001b[39;00m test_files_list\n\u001b[1;32m     15\u001b[0m         ]\n\u001b[1;32m     16\u001b[0m     )\n\u001b[1;32m     17\u001b[0m )\n\u001b[1;32m     18\u001b[0m \u001b[38;5;28;01mreturn\u001b[39;00m (\n\u001b[1;32m     19\u001b[0m     pl\u001b[38;5;241m.\u001b[39mconcat(\n\u001b[1;32m     20\u001b[0m         [train_df,test_df],\n\u001b[0;32m   (...)\u001b[0m\n\u001b[1;32m     23\u001b[0m     \u001b[38;5;241m.\u001b[39mrename({_:\u001b[38;5;124mf\u001b[39m\u001b[38;5;124m\"\u001b[39m\u001b[38;5;132;01m{\u001b[39;00mprefix_string\u001b[38;5;132;01m}\u001b[39;00m\u001b[38;5;124m_\u001b[39m\u001b[38;5;132;01m{\u001b[39;00m_\u001b[38;5;132;01m}\u001b[39;00m\u001b[38;5;124m\"\u001b[39m \u001b[38;5;28;01mfor\u001b[39;00m _ \u001b[38;5;129;01min\u001b[39;00m train_df\u001b[38;5;241m.\u001b[39mcolumns \u001b[38;5;28;01mif\u001b[39;00m \u001b[38;5;129;01mnot\u001b[39;00m _ \u001b[38;5;241m==\u001b[39m \u001b[38;5;124m\"\u001b[39m\u001b[38;5;124mcase_id\u001b[39m\u001b[38;5;124m\"\u001b[39m})\n\u001b[1;32m     24\u001b[0m )\n",
      "File \u001b[0;32m~/anaconda3/lib/python3.11/site-packages/polars/dataframe/frame.py:6860\u001b[0m, in \u001b[0;36mDataFrame.cast\u001b[0;34m(self, dtypes, strict)\u001b[0m\n\u001b[1;32m   6778\u001b[0m \u001b[38;5;28;01mdef\u001b[39;00m \u001b[38;5;21mcast\u001b[39m(\n\u001b[1;32m   6779\u001b[0m     \u001b[38;5;28mself\u001b[39m,\n\u001b[1;32m   6780\u001b[0m     dtypes: (\n\u001b[0;32m   (...)\u001b[0m\n\u001b[1;32m   6785\u001b[0m     strict: \u001b[38;5;28mbool\u001b[39m \u001b[38;5;241m=\u001b[39m \u001b[38;5;28;01mTrue\u001b[39;00m,\n\u001b[1;32m   6786\u001b[0m ) \u001b[38;5;241m-\u001b[39m\u001b[38;5;241m>\u001b[39m DataFrame:\n\u001b[1;32m   6787\u001b[0m \u001b[38;5;250m    \u001b[39m\u001b[38;5;124;03m\"\"\"\u001b[39;00m\n\u001b[1;32m   6788\u001b[0m \u001b[38;5;124;03m    Cast DataFrame column(s) to the specified dtype(s).\u001b[39;00m\n\u001b[1;32m   6789\u001b[0m \n\u001b[0;32m   (...)\u001b[0m\n\u001b[1;32m   6858\u001b[0m \u001b[38;5;124;03m     'ham': ['2020-01-02', '2021-03-04', '2022-05-06']}\u001b[39;00m\n\u001b[1;32m   6859\u001b[0m \u001b[38;5;124;03m    \"\"\"\u001b[39;00m\n\u001b[0;32m-> 6860\u001b[0m     \u001b[38;5;28;01mreturn\u001b[39;00m \u001b[38;5;28mself\u001b[39m\u001b[38;5;241m.\u001b[39mlazy()\u001b[38;5;241m.\u001b[39mcast(dtypes, strict\u001b[38;5;241m=\u001b[39mstrict)\u001b[38;5;241m.\u001b[39mcollect(_eager\u001b[38;5;241m=\u001b[39m\u001b[38;5;28;01mTrue\u001b[39;00m)\n",
      "File \u001b[0;32m~/anaconda3/lib/python3.11/site-packages/polars/lazyframe/frame.py:1934\u001b[0m, in \u001b[0;36mLazyFrame.collect\u001b[0;34m(self, type_coercion, predicate_pushdown, projection_pushdown, simplify_expression, slice_pushdown, comm_subplan_elim, comm_subexpr_elim, no_optimization, streaming, background, _eager)\u001b[0m\n\u001b[1;32m   1931\u001b[0m \u001b[38;5;28;01mif\u001b[39;00m background:\n\u001b[1;32m   1932\u001b[0m     \u001b[38;5;28;01mreturn\u001b[39;00m InProcessQuery(ldf\u001b[38;5;241m.\u001b[39mcollect_concurrently())\n\u001b[0;32m-> 1934\u001b[0m \u001b[38;5;28;01mreturn\u001b[39;00m wrap_df(ldf\u001b[38;5;241m.\u001b[39mcollect())\n",
      "\u001b[0;31mComputeError\u001b[0m: cannot cast numeric types to 'Categorical'"
     ]
    }
   ],
   "source": [
    "total_credit_internal_shallow = (\n",
    "    read_and_cast(\"bureau_a_1_\",\"int_shallow\")\n",
    ")\n",
    "total_credit_internal_shallow"
   ]
  },
  {
   "cell_type": "code",
   "execution_count": null,
   "metadata": {},
   "outputs": [
    {
     "data": {
      "text/html": [
       "<div><style>\n",
       ".dataframe > thead > tr,\n",
       ".dataframe > tbody > tr {\n",
       "  text-align: right;\n",
       "  white-space: pre-wrap;\n",
       "}\n",
       "</style>\n",
       "<small>shape: (1_385_288, 19)</small><table border=\"1\" class=\"dataframe\"><thead><tr><th>case_id</th><th>max_collater_valueofguarantee_1124L</th><th>max_collater_valueofguarantee_876L</th><th>max_num_group1</th><th>max_num_group2</th><th>max_pmts_dpd_1073P</th><th>max_pmts_dpd_303P</th><th>max_pmts_overdue_1140A</th><th>max_pmts_overdue_1152A</th><th>mode_collater_typofvalofguarant_298M</th><th>mode_collater_typofvalofguarant_407M</th><th>mode_collaterals_typeofguarante_359M</th><th>mode_collaterals_typeofguarante_669M</th><th>mode_pmts_month_158T</th><th>mode_pmts_month_706T</th><th>mode_pmts_year_1139T</th><th>mode_pmts_year_507T</th><th>mode_subjectroles_name_541M</th><th>mode_subjectroles_name_838M</th></tr><tr><td>u32</td><td>f64</td><td>f64</td><td>u16</td><td>u16</td><td>f32</td><td>f32</td><td>f32</td><td>f32</td><td>cat</td><td>cat</td><td>cat</td><td>cat</td><td>cat</td><td>cat</td><td>cat</td><td>cat</td><td>cat</td><td>cat</td></tr></thead><tbody><tr><td>1,282,761</td><td>0.00</td><td>null</td><td>3</td><td>35</td><td>22.00</td><td>null</td><td>5,999.40</td><td>null</td><td>&quot;a55475b1&quot;</td><td>&quot;a55475b1&quot;</td><td>&quot;a55475b1&quot;</td><td>&quot;a55475b1&quot;</td><td>&quot;5.0&quot;</td><td>null</td><td>&quot;2019.0&quot;</td><td>null</td><td>&quot;a55475b1&quot;</td><td>&quot;a55475b1&quot;</td></tr><tr><td>598,914</td><td>0.00</td><td>null</td><td>0</td><td>23</td><td>0.00</td><td>null</td><td>0.00</td><td>null</td><td>&quot;a55475b1&quot;</td><td>&quot;a55475b1&quot;</td><td>&quot;a55475b1&quot;</td><td>&quot;a55475b1&quot;</td><td>&quot;1.0&quot;</td><td>null</td><td>&quot;2018.0&quot;</td><td>null</td><td>&quot;a55475b1&quot;</td><td>&quot;a55475b1&quot;</td></tr><tr><td>1,283,407</td><td>0.00</td><td>null</td><td>0</td><td>23</td><td>0.00</td><td>null</td><td>0.00</td><td>null</td><td>&quot;a55475b1&quot;</td><td>&quot;a55475b1&quot;</td><td>&quot;a55475b1&quot;</td><td>&quot;a55475b1&quot;</td><td>&quot;10.0&quot;</td><td>null</td><td>&quot;2019.0&quot;</td><td>null</td><td>&quot;a55475b1&quot;</td><td>&quot;a55475b1&quot;</td></tr><tr><td>&hellip;</td><td>&hellip;</td><td>&hellip;</td><td>&hellip;</td><td>&hellip;</td><td>&hellip;</td><td>&hellip;</td><td>&hellip;</td><td>&hellip;</td><td>&hellip;</td><td>&hellip;</td><td>&hellip;</td><td>&hellip;</td><td>&hellip;</td><td>&hellip;</td><td>&hellip;</td><td>&hellip;</td><td>&hellip;</td><td>&hellip;</td></tr><tr><td>1,893,033</td><td>0.00</td><td>0.00</td><td>9</td><td>35</td><td>22.00</td><td>24.00</td><td>5,269.88</td><td>5,621.60</td><td>&quot;a55475b1&quot;</td><td>&quot;a55475b1&quot;</td><td>&quot;a55475b1&quot;</td><td>&quot;a55475b1&quot;</td><td>&quot;2.0&quot;</td><td>&quot;2.0&quot;</td><td>&quot;2020.0&quot;</td><td>&quot;2019.0&quot;</td><td>&quot;a55475b1&quot;</td><td>&quot;a55475b1&quot;</td></tr><tr><td>1,004,831</td><td>0.00</td><td>142,000.00</td><td>8</td><td>35</td><td>47.00</td><td>108.00</td><td>28,274.51</td><td>37,575.57</td><td>&quot;a55475b1&quot;</td><td>&quot;a55475b1&quot;</td><td>&quot;a55475b1&quot;</td><td>&quot;a55475b1&quot;</td><td>&quot;11.0&quot;</td><td>&quot;3.0&quot;</td><td>&quot;2020.0&quot;</td><td>&quot;2013.0&quot;</td><td>&quot;a55475b1&quot;</td><td>&quot;a55475b1&quot;</td></tr><tr><td>245,108</td><td>0.00</td><td>0.00</td><td>4</td><td>35</td><td>1.00</td><td>1.00</td><td>1,616.40</td><td>4,780.60</td><td>&quot;a55475b1&quot;</td><td>&quot;a55475b1&quot;</td><td>&quot;a55475b1&quot;</td><td>&quot;a55475b1&quot;</td><td>&quot;1.0&quot;</td><td>&quot;9.0&quot;</td><td>&quot;2020.0&quot;</td><td>&quot;2017.0&quot;</td><td>&quot;a55475b1&quot;</td><td>&quot;a55475b1&quot;</td></tr></tbody></table></div>"
      ],
      "text/plain": [
       "shape: (1_385_288, 19)\n",
       "┌───────────┬───────────┬───────────┬───────────┬───┬───────────┬───────────┬───────────┬──────────┐\n",
       "│ case_id   ┆ max_colla ┆ max_colla ┆ max_num_g ┆ … ┆ mode_pmts ┆ mode_pmts ┆ mode_subj ┆ mode_sub │\n",
       "│ ---       ┆ ter_value ┆ ter_value ┆ roup1     ┆   ┆ _year_113 ┆ _year_507 ┆ ectroles_ ┆ jectrole │\n",
       "│ u32       ┆ ofguarant ┆ ofguarant ┆ ---       ┆   ┆ 9T        ┆ T         ┆ name_541M ┆ s_name_8 │\n",
       "│           ┆ ee_1124L  ┆ ee_876L   ┆ u16       ┆   ┆ ---       ┆ ---       ┆ ---       ┆ 38M      │\n",
       "│           ┆ ---       ┆ ---       ┆           ┆   ┆ cat       ┆ cat       ┆ cat       ┆ ---      │\n",
       "│           ┆ f64       ┆ f64       ┆           ┆   ┆           ┆           ┆           ┆ cat      │\n",
       "╞═══════════╪═══════════╪═══════════╪═══════════╪═══╪═══════════╪═══════════╪═══════════╪══════════╡\n",
       "│ 1,282,761 ┆ 0.00      ┆ null      ┆ 3         ┆ … ┆ 2019.0    ┆ null      ┆ a55475b1  ┆ a55475b1 │\n",
       "│ 598,914   ┆ 0.00      ┆ null      ┆ 0         ┆ … ┆ 2018.0    ┆ null      ┆ a55475b1  ┆ a55475b1 │\n",
       "│ 1,283,407 ┆ 0.00      ┆ null      ┆ 0         ┆ … ┆ 2019.0    ┆ null      ┆ a55475b1  ┆ a55475b1 │\n",
       "│ …         ┆ …         ┆ …         ┆ …         ┆ … ┆ …         ┆ …         ┆ …         ┆ …        │\n",
       "│ 1,893,033 ┆ 0.00      ┆ 0.00      ┆ 9         ┆ … ┆ 2020.0    ┆ 2019.0    ┆ a55475b1  ┆ a55475b1 │\n",
       "│ 1,004,831 ┆ 0.00      ┆ 142,000.0 ┆ 8         ┆ … ┆ 2020.0    ┆ 2013.0    ┆ a55475b1  ┆ a55475b1 │\n",
       "│           ┆           ┆ 0         ┆           ┆   ┆           ┆           ┆           ┆          │\n",
       "│ 245,108   ┆ 0.00      ┆ 0.00      ┆ 4         ┆ … ┆ 2020.0    ┆ 2017.0    ┆ a55475b1  ┆ a55475b1 │\n",
       "└───────────┴───────────┴───────────┴───────────┴───┴───────────┴───────────┴───────────┴──────────┘"
      ]
     },
     "execution_count": 28,
     "metadata": {},
     "output_type": "execute_result"
    }
   ],
   "source": [
    "total_credit_internal_depth = (\n",
    "    read_and_cast(\"bureau_a_2\",\"int_depth\")\n",
    ")\n",
    "total_credit_internal_depth"
   ]
  },
  {
   "cell_type": "code",
   "execution_count": null,
   "metadata": {},
   "outputs": [
    {
     "data": {
      "text/html": [
       "<div><style>\n",
       ".dataframe > thead > tr,\n",
       ".dataframe > tbody > tr {\n",
       "  text-align: right;\n",
       "  white-space: pre-wrap;\n",
       "}\n",
       "</style>\n",
       "<small>shape: (36_500, 45)</small><table border=\"1\" class=\"dataframe\"><thead><tr><th>case_id</th><th>max_amount_1115A</th><th>max_credlmt_1052A</th><th>max_credlmt_228A</th><th>max_credlmt_3940954A</th><th>max_credquantity_1099L</th><th>max_credquantity_984L</th><th>max_debtpastduevalue_732A</th><th>max_debtvalue_227A</th><th>max_dpd_550P</th><th>max_dpd_733P</th><th>max_dpdmax_851P</th><th>max_installmentamount_644A</th><th>max_installmentamount_833A</th><th>max_instlamount_892A</th><th>max_interesteffectiverate_369L</th><th>max_interestrateyearly_538L</th><th>max_maxdebtpduevalodued_3940955A</th><th>max_num_group1</th><th>max_numberofinstls_810L</th><th>max_overdueamountmax_950A</th><th>max_pmtdaysoverdue_1135P</th><th>max_pmtnumpending_403L</th><th>max_residualamount_1093A</th><th>max_residualamount_127A</th><th>max_residualamount_3940956A</th><th>max_totalamount_503A</th><th>max_totalamount_881A</th><th>mode_classificationofcontr_1114M</th><th>mode_contractdate_551D</th><th>mode_contractmaturitydate_151D</th><th>mode_contractst_516M</th><th>mode_contracttype_653M</th><th>mode_credor_3940957M</th><th>mode_dpdmaxdatemonth_804T</th><th>mode_dpdmaxdateyear_742T</th><th>mode_lastupdate_260D</th><th>mode_overdueamountmaxdatemonth_494T</th><th>mode_overdueamountmaxdateyear_432T</th><th>mode_periodicityofpmts_997L</th><th>mode_periodicityofpmts_997M</th><th>mode_pmtmethod_731M</th><th>mode_purposeofcred_722M</th><th>mode_subjectrole_326M</th><th>mode_subjectrole_43M</th></tr><tr><td>u32</td><td>f32</td><td>f32</td><td>f32</td><td>f32</td><td>f64</td><td>f64</td><td>f32</td><td>f32</td><td>f32</td><td>f32</td><td>f32</td><td>f32</td><td>f32</td><td>f32</td><td>f64</td><td>f64</td><td>f32</td><td>u16</td><td>f64</td><td>f32</td><td>f32</td><td>f64</td><td>f32</td><td>f32</td><td>f32</td><td>f32</td><td>f32</td><td>cat</td><td>date</td><td>date</td><td>cat</td><td>cat</td><td>cat</td><td>cat</td><td>cat</td><td>date</td><td>cat</td><td>cat</td><td>str</td><td>cat</td><td>cat</td><td>cat</td><td>cat</td><td>cat</td></tr></thead><tbody><tr><td>1,905,791</td><td>67,367.80</td><td>null</td><td>null</td><td>null</td><td>1.00</td><td>2.00</td><td>0.00</td><td>6,796.84</td><td>0.00</td><td>0.00</td><td>0.00</td><td>0.00</td><td>6,796.84</td><td>6,966.80</td><td>null</td><td>42.00</td><td>0.00</td><td>0</td><td>12.00</td><td>0.00</td><td>0.00</td><td>1.00</td><td>null</td><td>null</td><td>null</td><td>67,367.80</td><td>64,303.20</td><td>&quot;ea6782cc&quot;</td><td>2019-09-17</td><td>2020-09-17</td><td>&quot;7241344e&quot;</td><td>&quot;4257cbed&quot;</td><td>&quot;P0_31_66&quot;</td><td>&quot;10.0&quot;</td><td>&quot;2019.0&quot;</td><td>2020-09-02</td><td>&quot;10.0&quot;</td><td>&quot;2019.0&quot;</td><td>null</td><td>&quot;a0b598e4&quot;</td><td>&quot;f6e26148&quot;</td><td>&quot;60c73645&quot;</td><td>&quot;ab3c25cf&quot;</td><td>&quot;ab3c25cf&quot;</td></tr><tr><td>143,809</td><td>400,000.00</td><td>216,836.00</td><td>null</td><td>196,836.00</td><td>2.00</td><td>1.00</td><td>0.00</td><td>414,066.69</td><td>0.00</td><td>0.00</td><td>6,584.00</td><td>0.00</td><td>414,066.69</td><td>18,133.33</td><td>null</td><td>null</td><td>0.20</td><td>2</td><td>22.00</td><td>4.00</td><td>0.00</td><td>22.00</td><td>null</td><td>85,830.67</td><td>85,830.67</td><td>400,000.00</td><td>20,447.40</td><td>&quot;ea6782cc&quot;</td><td>2013-06-14</td><td>2025-06-10</td><td>&quot;7241344e&quot;</td><td>&quot;1c9c5356&quot;</td><td>&quot;b619fa46&quot;</td><td>&quot;5.0&quot;</td><td>&quot;2018.0&quot;</td><td>2019-07-25</td><td>&quot;1.0&quot;</td><td>&quot;2019.0&quot;</td><td>null</td><td>&quot;a55475b1&quot;</td><td>&quot;a55475b1&quot;</td><td>&quot;60c73645&quot;</td><td>&quot;ab3c25cf&quot;</td><td>&quot;a55475b1&quot;</td></tr><tr><td>1,654,374</td><td>148,844.61</td><td>null</td><td>null</td><td>null</td><td>1.00</td><td>5.00</td><td>0.00</td><td>133,095.67</td><td>0.00</td><td>0.00</td><td>0.00</td><td>0.00</td><td>133,095.67</td><td>7,324.80</td><td>null</td><td>42.00</td><td>0.00</td><td>0</td><td>36.00</td><td>0.00</td><td>0.00</td><td>28.00</td><td>null</td><td>null</td><td>null</td><td>148,844.61</td><td>146,242.20</td><td>&quot;ea6782cc&quot;</td><td>2019-03-12</td><td>2022-03-12</td><td>&quot;7241344e&quot;</td><td>&quot;4257cbed&quot;</td><td>&quot;P0_31_66&quot;</td><td>&quot;4.0&quot;</td><td>&quot;2019.0&quot;</td><td>2019-12-11</td><td>&quot;4.0&quot;</td><td>&quot;2019.0&quot;</td><td>null</td><td>&quot;a0b598e4&quot;</td><td>&quot;f6e26148&quot;</td><td>&quot;60c73645&quot;</td><td>&quot;ab3c25cf&quot;</td><td>&quot;ab3c25cf&quot;</td></tr><tr><td>&hellip;</td><td>&hellip;</td><td>&hellip;</td><td>&hellip;</td><td>&hellip;</td><td>&hellip;</td><td>&hellip;</td><td>&hellip;</td><td>&hellip;</td><td>&hellip;</td><td>&hellip;</td><td>&hellip;</td><td>&hellip;</td><td>&hellip;</td><td>&hellip;</td><td>&hellip;</td><td>&hellip;</td><td>&hellip;</td><td>&hellip;</td><td>&hellip;</td><td>&hellip;</td><td>&hellip;</td><td>&hellip;</td><td>&hellip;</td><td>&hellip;</td><td>&hellip;</td><td>&hellip;</td><td>&hellip;</td><td>&hellip;</td><td>&hellip;</td><td>&hellip;</td><td>&hellip;</td><td>&hellip;</td><td>&hellip;</td><td>&hellip;</td><td>&hellip;</td><td>&hellip;</td><td>&hellip;</td><td>&hellip;</td><td>&hellip;</td><td>&hellip;</td><td>&hellip;</td><td>&hellip;</td><td>&hellip;</td><td>&hellip;</td></tr><tr><td>241,705</td><td>null</td><td>23,010.00</td><td>null</td><td>23,010.00</td><td>1.00</td><td>4.00</td><td>0.00</td><td>null</td><td>0.00</td><td>0.00</td><td>51,705.00</td><td>0.00</td><td>21,954.16</td><td>null</td><td>null</td><td>null</td><td>10.60</td><td>0</td><td>null</td><td>10.60</td><td>0.00</td><td>null</td><td>null</td><td>21,954.16</td><td>21,954.16</td><td>23,010.00</td><td>115,143.80</td><td>&quot;ea6782cc&quot;</td><td>2019-09-24</td><td>2021-09-24</td><td>&quot;7241344e&quot;</td><td>&quot;1c9c5356&quot;</td><td>&quot;b619fa46&quot;</td><td>&quot;3.0&quot;</td><td>&quot;2020.0&quot;</td><td>2020-08-06</td><td>&quot;3.0&quot;</td><td>&quot;2020.0&quot;</td><td>null</td><td>&quot;a55475b1&quot;</td><td>&quot;a55475b1&quot;</td><td>&quot;60c73645&quot;</td><td>&quot;ab3c25cf&quot;</td><td>&quot;ab3c25cf&quot;</td></tr><tr><td>163,310</td><td>125,600.00</td><td>null</td><td>0.00</td><td>null</td><td>3.00</td><td>2.00</td><td>0.00</td><td>60,964.62</td><td>0.00</td><td>0.00</td><td>21,476.00</td><td>0.00</td><td>160,605.97</td><td>5,054.00</td><td>32.29</td><td>25.90</td><td>0.60</td><td>2</td><td>60.00</td><td>0.60</td><td>0.00</td><td>31.00</td><td>0.00</td><td>null</td><td>null</td><td>257,210.70</td><td>77,938.20</td><td>&quot;ea6782cc&quot;</td><td>2017-10-20</td><td>2022-05-01</td><td>&quot;7241344e&quot;</td><td>&quot;4257cbed&quot;</td><td>&quot;P133_127_114&quot;</td><td>&quot;5.0&quot;</td><td>&quot;2019.0&quot;</td><td>2019-10-08</td><td>&quot;5.0&quot;</td><td>&quot;2019.0&quot;</td><td>null</td><td>&quot;a0b598e4&quot;</td><td>&quot;dbcbe8f8&quot;</td><td>&quot;96a8fdfe&quot;</td><td>&quot;a55475b1&quot;</td><td>&quot;ab3c25cf&quot;</td></tr><tr><td>126,883</td><td>411,720.22</td><td>49,168.00</td><td>10,000.00</td><td>49,168.00</td><td>6.00</td><td>20.00</td><td>5,691.18</td><td>407,298.47</td><td>0.00</td><td>0.00</td><td>51,275.00</td><td>0.00</td><td>40,195.32</td><td>10,600.00</td><td>0.12</td><td>0.12</td><td>6.00</td><td>6</td><td>240.00</td><td>8.60</td><td>5.00</td><td>223.00</td><td>0.00</td><td>40,195.32</td><td>40,195.32</td><td>49,168.00</td><td>1,196,136.88</td><td>&quot;01f63ac8&quot;</td><td>2018-08-20</td><td>2019-07-23</td><td>&quot;7241344e&quot;</td><td>&quot;4257cbed&quot;</td><td>&quot;a7a613e0&quot;</td><td>&quot;4.0&quot;</td><td>&quot;2018.0&quot;</td><td>2019-05-13</td><td>&quot;9.0&quot;</td><td>&quot;2018.0&quot;</td><td>null</td><td>&quot;a0b598e4&quot;</td><td>&quot;f6e26148&quot;</td><td>&quot;60c73645&quot;</td><td>&quot;a55475b1&quot;</td><td>&quot;a55475b1&quot;</td></tr></tbody></table></div>"
      ],
      "text/plain": [
       "shape: (36_500, 45)\n",
       "┌───────────┬───────────┬───────────┬───────────┬───┬───────────┬───────────┬───────────┬──────────┐\n",
       "│ case_id   ┆ max_amoun ┆ max_credl ┆ max_credl ┆ … ┆ mode_pmtm ┆ mode_purp ┆ mode_subj ┆ mode_sub │\n",
       "│ ---       ┆ t_1115A   ┆ mt_1052A  ┆ mt_228A   ┆   ┆ ethod_731 ┆ oseofcred ┆ ectrole_3 ┆ jectrole │\n",
       "│ u32       ┆ ---       ┆ ---       ┆ ---       ┆   ┆ M         ┆ _722M     ┆ 26M       ┆ _43M     │\n",
       "│           ┆ f32       ┆ f32       ┆ f32       ┆   ┆ ---       ┆ ---       ┆ ---       ┆ ---      │\n",
       "│           ┆           ┆           ┆           ┆   ┆ cat       ┆ cat       ┆ cat       ┆ cat      │\n",
       "╞═══════════╪═══════════╪═══════════╪═══════════╪═══╪═══════════╪═══════════╪═══════════╪══════════╡\n",
       "│ 1,905,791 ┆ 67,367.80 ┆ null      ┆ null      ┆ … ┆ f6e26148  ┆ 60c73645  ┆ ab3c25cf  ┆ ab3c25cf │\n",
       "│ 143,809   ┆ 400,000.0 ┆ 216,836.0 ┆ null      ┆ … ┆ a55475b1  ┆ 60c73645  ┆ ab3c25cf  ┆ a55475b1 │\n",
       "│           ┆ 0         ┆ 0         ┆           ┆   ┆           ┆           ┆           ┆          │\n",
       "│ 1,654,374 ┆ 148,844.6 ┆ null      ┆ null      ┆ … ┆ f6e26148  ┆ 60c73645  ┆ ab3c25cf  ┆ ab3c25cf │\n",
       "│           ┆ 1         ┆           ┆           ┆   ┆           ┆           ┆           ┆          │\n",
       "│ …         ┆ …         ┆ …         ┆ …         ┆ … ┆ …         ┆ …         ┆ …         ┆ …        │\n",
       "│ 241,705   ┆ null      ┆ 23,010.00 ┆ null      ┆ … ┆ a55475b1  ┆ 60c73645  ┆ ab3c25cf  ┆ ab3c25cf │\n",
       "│ 163,310   ┆ 125,600.0 ┆ null      ┆ 0.00      ┆ … ┆ dbcbe8f8  ┆ 96a8fdfe  ┆ a55475b1  ┆ ab3c25cf │\n",
       "│           ┆ 0         ┆           ┆           ┆   ┆           ┆           ┆           ┆          │\n",
       "│ 126,883   ┆ 411,720.2 ┆ 49,168.00 ┆ 10,000.00 ┆ … ┆ f6e26148  ┆ 60c73645  ┆ a55475b1  ┆ a55475b1 │\n",
       "│           ┆ 2         ┆           ┆           ┆   ┆           ┆           ┆           ┆          │\n",
       "└───────────┴───────────┴───────────┴───────────┴───┴───────────┴───────────┴───────────┴──────────┘"
      ]
     },
     "execution_count": 29,
     "metadata": {},
     "output_type": "execute_result"
    }
   ],
   "source": [
    "total_credit_external_shallow = (\n",
    "    read_and_cast(\"bureau_b_1\",\"ext_shallow\")\n",
    ")\n",
    "total_credit_external_shallow"
   ]
  },
  {
   "cell_type": "code",
   "execution_count": null,
   "metadata": {},
   "outputs": [
    {
     "data": {
      "text/html": [
       "<div><style>\n",
       ".dataframe > thead > tr,\n",
       ".dataframe > tbody > tr {\n",
       "  text-align: right;\n",
       "  white-space: pre-wrap;\n",
       "}\n",
       "</style>\n",
       "<small>shape: (36_447, 6)</small><table border=\"1\" class=\"dataframe\"><thead><tr><th>case_id</th><th>max_num_group1</th><th>max_num_group2</th><th>max_pmts_dpdvalue_108P</th><th>max_pmts_pmtsoverdue_635A</th><th>mode_pmts_date_1107D</th></tr><tr><td>u32</td><td>u16</td><td>u16</td><td>f32</td><td>f32</td><td>date</td></tr></thead><tbody><tr><td>1,010,262</td><td>5</td><td>14</td><td>0.00</td><td>0.00</td><td>2020-08-15</td></tr><tr><td>885,868</td><td>1</td><td>5</td><td>0.00</td><td>0.00</td><td>2019-08-15</td></tr><tr><td>865,414</td><td>0</td><td>25</td><td>50,150.00</td><td>11.80</td><td>2018-08-15</td></tr><tr><td>&hellip;</td><td>&hellip;</td><td>&hellip;</td><td>&hellip;</td><td>&hellip;</td><td>&hellip;</td></tr><tr><td>1,601,655</td><td>3</td><td>36</td><td>2,949,446.00</td><td>21.60</td><td>2019-06-15</td></tr><tr><td>1,779,533</td><td>2</td><td>35</td><td>0.00</td><td>0.00</td><td>2019-09-15</td></tr><tr><td>731,275</td><td>0</td><td>35</td><td>0.00</td><td>0.00</td><td>2018-10-15</td></tr></tbody></table></div>"
      ],
      "text/plain": [
       "shape: (36_447, 6)\n",
       "┌───────────┬────────────────┬────────────────┬─────────────────┬─────────────────┬────────────────┐\n",
       "│ case_id   ┆ max_num_group1 ┆ max_num_group2 ┆ max_pmts_dpdval ┆ max_pmts_pmtsov ┆ mode_pmts_date │\n",
       "│ ---       ┆ ---            ┆ ---            ┆ ue_108P         ┆ erdue_635A      ┆ _1107D         │\n",
       "│ u32       ┆ u16            ┆ u16            ┆ ---             ┆ ---             ┆ ---            │\n",
       "│           ┆                ┆                ┆ f32             ┆ f32             ┆ date           │\n",
       "╞═══════════╪════════════════╪════════════════╪═════════════════╪═════════════════╪════════════════╡\n",
       "│ 1,010,262 ┆ 5              ┆ 14             ┆ 0.00            ┆ 0.00            ┆ 2020-08-15     │\n",
       "│ 885,868   ┆ 1              ┆ 5              ┆ 0.00            ┆ 0.00            ┆ 2019-08-15     │\n",
       "│ 865,414   ┆ 0              ┆ 25             ┆ 50,150.00       ┆ 11.80           ┆ 2018-08-15     │\n",
       "│ …         ┆ …              ┆ …              ┆ …               ┆ …               ┆ …              │\n",
       "│ 1,601,655 ┆ 3              ┆ 36             ┆ 2,949,446.00    ┆ 21.60           ┆ 2019-06-15     │\n",
       "│ 1,779,533 ┆ 2              ┆ 35             ┆ 0.00            ┆ 0.00            ┆ 2019-09-15     │\n",
       "│ 731,275   ┆ 0              ┆ 35             ┆ 0.00            ┆ 0.00            ┆ 2018-10-15     │\n",
       "└───────────┴────────────────┴────────────────┴─────────────────┴─────────────────┴────────────────┘"
      ]
     },
     "execution_count": 30,
     "metadata": {},
     "output_type": "execute_result"
    }
   ],
   "source": [
    "total_credit_external_depth = (\n",
    "    read_and_cast(\"bureau_b_2\",\"ext_depth\")\n",
    ")\n",
    "total_credit_external_depth"
   ]
  },
  {
   "cell_type": "code",
   "execution_count": null,
   "metadata": {},
   "outputs": [
    {
     "data": {
      "text/html": [
       "<div><style>\n",
       ".dataframe > thead > tr,\n",
       ".dataframe > tbody > tr {\n",
       "  text-align: right;\n",
       "  white-space: pre-wrap;\n",
       "}\n",
       "</style>\n",
       "<small>shape: (457_934, 5)</small><table border=\"1\" class=\"dataframe\"><thead><tr><th>case_id</th><th>max_amount_4527230A</th><th>max_num_group1</th><th>mode_name_4527232M</th><th>mode_recorddate_4527225D</th></tr><tr><td>u32</td><td>f32</td><td>u16</td><td>cat</td><td>date</td></tr></thead><tbody><tr><td>1,562,239</td><td>850.00</td><td>5</td><td>&quot;9883ae26&quot;</td><td>2019-10-16</td></tr><tr><td>1,641,515</td><td>3,715.60</td><td>5</td><td>&quot;75c8df1b&quot;</td><td>2019-12-04</td></tr><tr><td>1,733,010</td><td>850.00</td><td>1</td><td>&quot;334350d4&quot;</td><td>2020-01-18</td></tr><tr><td>&hellip;</td><td>&hellip;</td><td>&hellip;</td><td>&hellip;</td><td>&hellip;</td></tr><tr><td>211,542</td><td>2,155.60</td><td>7</td><td>&quot;ba8550bf&quot;</td><td>2020-03-16</td></tr><tr><td>2,623,171</td><td>2,733.80</td><td>5</td><td>&quot;d613d705&quot;</td><td>2019-10-02</td></tr><tr><td>787,254</td><td>3,317.80</td><td>8</td><td>&quot;41227108&quot;</td><td>2019-09-14</td></tr></tbody></table></div>"
      ],
      "text/plain": [
       "shape: (457_934, 5)\n",
       "┌───────────┬─────────────────────┬────────────────┬────────────────────┬──────────────────────────┐\n",
       "│ case_id   ┆ max_amount_4527230A ┆ max_num_group1 ┆ mode_name_4527232M ┆ mode_recorddate_4527225D │\n",
       "│ ---       ┆ ---                 ┆ ---            ┆ ---                ┆ ---                      │\n",
       "│ u32       ┆ f32                 ┆ u16            ┆ cat                ┆ date                     │\n",
       "╞═══════════╪═════════════════════╪════════════════╪════════════════════╪══════════════════════════╡\n",
       "│ 1,562,239 ┆ 850.00              ┆ 5              ┆ 9883ae26           ┆ 2019-10-16               │\n",
       "│ 1,641,515 ┆ 3,715.60            ┆ 5              ┆ 75c8df1b           ┆ 2019-12-04               │\n",
       "│ 1,733,010 ┆ 850.00              ┆ 1              ┆ 334350d4           ┆ 2020-01-18               │\n",
       "│ …         ┆ …                   ┆ …              ┆ …                  ┆ …                        │\n",
       "│ 211,542   ┆ 2,155.60            ┆ 7              ┆ ba8550bf           ┆ 2020-03-16               │\n",
       "│ 2,623,171 ┆ 2,733.80            ┆ 5              ┆ d613d705           ┆ 2019-10-02               │\n",
       "│ 787,254   ┆ 3,317.80            ┆ 8              ┆ 41227108           ┆ 2019-09-14               │\n",
       "└───────────┴─────────────────────┴────────────────┴────────────────────┴──────────────────────────┘"
      ]
     },
     "execution_count": 31,
     "metadata": {},
     "output_type": "execute_result"
    }
   ],
   "source": [
    "total_registry_a = (\n",
    "    read_and_cast(\"registry_a\",\"reg_a\")\n",
    ")\n",
    "total_registry_a"
   ]
  },
  {
   "cell_type": "code",
   "execution_count": null,
   "metadata": {},
   "outputs": [
    {
     "data": {
      "text/html": [
       "<div><style>\n",
       ".dataframe > thead > tr,\n",
       ".dataframe > tbody > tr {\n",
       "  text-align: right;\n",
       "  white-space: pre-wrap;\n",
       "}\n",
       "</style>\n",
       "<small>shape: (150_732, 5)</small><table border=\"1\" class=\"dataframe\"><thead><tr><th>case_id</th><th>max_amount_4917619A</th><th>max_num_group1</th><th>mode_deductiondate_4917603D</th><th>mode_name_4917606M</th></tr><tr><td>u32</td><td>f32</td><td>u16</td><td>date</td><td>cat</td></tr></thead><tbody><tr><td>993,863</td><td>18,400.00</td><td>5</td><td>2020-06-09</td><td>&quot;4d2a2ad9&quot;</td></tr><tr><td>245,671</td><td>17,058.60</td><td>5</td><td>2020-05-13</td><td>&quot;abae903b&quot;</td></tr><tr><td>1,838,552</td><td>8,895.40</td><td>5</td><td>2020-04-24</td><td>&quot;a314a065&quot;</td></tr><tr><td>&hellip;</td><td>&hellip;</td><td>&hellip;</td><td>&hellip;</td><td>&hellip;</td></tr><tr><td>1,942,078</td><td>56,199.40</td><td>12</td><td>2020-04-14</td><td>&quot;d492b9eb&quot;</td></tr><tr><td>2,683,053</td><td>23,248.00</td><td>5</td><td>2020-06-02</td><td>&quot;74da09fb&quot;</td></tr><tr><td>1,921,865</td><td>109,175.00</td><td>5</td><td>2020-05-11</td><td>&quot;2983205f&quot;</td></tr></tbody></table></div>"
      ],
      "text/plain": [
       "shape: (150_732, 5)\n",
       "┌───────────┬─────────────────────┬────────────────┬──────────────────────────┬────────────────────┐\n",
       "│ case_id   ┆ max_amount_4917619A ┆ max_num_group1 ┆ mode_deductiondate_49176 ┆ mode_name_4917606M │\n",
       "│ ---       ┆ ---                 ┆ ---            ┆ 03D                      ┆ ---                │\n",
       "│ u32       ┆ f32                 ┆ u16            ┆ ---                      ┆ cat                │\n",
       "│           ┆                     ┆                ┆ date                     ┆                    │\n",
       "╞═══════════╪═════════════════════╪════════════════╪══════════════════════════╪════════════════════╡\n",
       "│ 993,863   ┆ 18,400.00           ┆ 5              ┆ 2020-06-09               ┆ 4d2a2ad9           │\n",
       "│ 245,671   ┆ 17,058.60           ┆ 5              ┆ 2020-05-13               ┆ abae903b           │\n",
       "│ 1,838,552 ┆ 8,895.40            ┆ 5              ┆ 2020-04-24               ┆ a314a065           │\n",
       "│ …         ┆ …                   ┆ …              ┆ …                        ┆ …                  │\n",
       "│ 1,942,078 ┆ 56,199.40           ┆ 12             ┆ 2020-04-14               ┆ d492b9eb           │\n",
       "│ 2,683,053 ┆ 23,248.00           ┆ 5              ┆ 2020-06-02               ┆ 74da09fb           │\n",
       "│ 1,921,865 ┆ 109,175.00          ┆ 5              ┆ 2020-05-11               ┆ 2983205f           │\n",
       "└───────────┴─────────────────────┴────────────────┴──────────────────────────┴────────────────────┘"
      ]
     },
     "execution_count": 32,
     "metadata": {},
     "output_type": "execute_result"
    }
   ],
   "source": [
    "total_registry_b = (\n",
    "    read_and_cast(\"registry_b\",\"reg_b\")\n",
    ")\n",
    "total_registry_b"
   ]
  },
  {
   "cell_type": "code",
   "execution_count": null,
   "metadata": {},
   "outputs": [
    {
     "data": {
      "text/html": [
       "<div><style>\n",
       ".dataframe > thead > tr,\n",
       ".dataframe > tbody > tr {\n",
       "  text-align: right;\n",
       "  white-space: pre-wrap;\n",
       "}\n",
       "</style>\n",
       "<small>shape: (482_265, 5)</small><table border=\"1\" class=\"dataframe\"><thead><tr><th>case_id</th><th>max_num_group1</th><th>max_pmtamount_36A</th><th>mode_employername_160M</th><th>mode_processingdate_168D</th></tr><tr><td>u32</td><td>u16</td><td>f32</td><td>cat</td><td>date</td></tr></thead><tbody><tr><td>2,607,582</td><td>5</td><td>2,854.27</td><td>&quot;32dd4008&quot;</td><td>2019-08-07</td></tr><tr><td>686,610</td><td>7</td><td>1,809.91</td><td>&quot;f37ec779&quot;</td><td>2018-12-04</td></tr><tr><td>1,550,297</td><td>5</td><td>12,635.20</td><td>&quot;e7d51f8d&quot;</td><td>2019-10-07</td></tr><tr><td>&hellip;</td><td>&hellip;</td><td>&hellip;</td><td>&hellip;</td><td>&hellip;</td></tr><tr><td>750,538</td><td>5</td><td>2,905.34</td><td>&quot;4eaf6879&quot;</td><td>2019-05-22</td></tr><tr><td>705,846</td><td>5</td><td>3,815.02</td><td>&quot;aa536852&quot;</td><td>2019-05-08</td></tr><tr><td>1,292,306</td><td>5</td><td>4,023.75</td><td>&quot;fc69f41e&quot;</td><td>2018-10-18</td></tr></tbody></table></div>"
      ],
      "text/plain": [
       "shape: (482_265, 5)\n",
       "┌───────────┬────────────────┬───────────────────┬────────────────────────┬────────────────────────┐\n",
       "│ case_id   ┆ max_num_group1 ┆ max_pmtamount_36A ┆ mode_employername_160M ┆ mode_processingdate_16 │\n",
       "│ ---       ┆ ---            ┆ ---               ┆ ---                    ┆ 8D                     │\n",
       "│ u32       ┆ u16            ┆ f32               ┆ cat                    ┆ ---                    │\n",
       "│           ┆                ┆                   ┆                        ┆ date                   │\n",
       "╞═══════════╪════════════════╪═══════════════════╪════════════════════════╪════════════════════════╡\n",
       "│ 2,607,582 ┆ 5              ┆ 2,854.27          ┆ 32dd4008               ┆ 2019-08-07             │\n",
       "│ 686,610   ┆ 7              ┆ 1,809.91          ┆ f37ec779               ┆ 2018-12-04             │\n",
       "│ 1,550,297 ┆ 5              ┆ 12,635.20         ┆ e7d51f8d               ┆ 2019-10-07             │\n",
       "│ …         ┆ …              ┆ …                 ┆ …                      ┆ …                      │\n",
       "│ 750,538   ┆ 5              ┆ 2,905.34          ┆ 4eaf6879               ┆ 2019-05-22             │\n",
       "│ 705,846   ┆ 5              ┆ 3,815.02          ┆ aa536852               ┆ 2019-05-08             │\n",
       "│ 1,292,306 ┆ 5              ┆ 4,023.75          ┆ fc69f41e               ┆ 2018-10-18             │\n",
       "└───────────┴────────────────┴───────────────────┴────────────────────────┴────────────────────────┘"
      ]
     },
     "execution_count": 33,
     "metadata": {},
     "output_type": "execute_result"
    }
   ],
   "source": [
    "total_registry_c = (\n",
    "    read_and_cast(\"registry_c\",\"reg_c\")\n",
    ")\n",
    "total_registry_c"
   ]
  },
  {
   "cell_type": "code",
   "execution_count": null,
   "metadata": {},
   "outputs": [
    {
     "name": "stdout",
     "output_type": "stream",
     "text": [
      "total_base\n",
      "total_past_shallow\n",
      "total_past_depth\n",
      "total_static_base\n",
      "total_person_shallow\n",
      "total_person_depth\n",
      "total_other_shallow\n",
      "total_deposit_shallow\n",
      "total_debitcard_shallow\n",
      "total_credit_internal_shallow\n",
      "total_credit_internal_depth\n",
      "total_credit_external_shallow\n",
      "total_credit_external_depth\n",
      "total_registry_a\n",
      "total_registry_b\n",
      "total_registry_c\n"
     ]
    }
   ],
   "source": [
    "# try:\n",
    "#     for _ in globals().keys():\n",
    "#         if \"total_\" in _:\n",
    "#             print(_)\n",
    "# except RuntimeError:\n",
    "#     for _ in globals().keys():\n",
    "#         if \"total_\" in _:\n",
    "#             print(_)"
   ]
  },
  {
   "cell_type": "code",
   "execution_count": null,
   "metadata": {},
   "outputs": [
    {
     "ename": "DuplicateError",
     "evalue": "unable to hstack, column with name \"max_num_group1_right\" already exists",
     "output_type": "error",
     "traceback": [
      "\u001b[0;31m---------------------------------------------------------------------------\u001b[0m",
      "\u001b[0;31mDuplicateError\u001b[0m                            Traceback (most recent call last)",
      "Cell \u001b[0;32mIn[35], line 21\u001b[0m\n\u001b[1;32m      1\u001b[0m total_df \u001b[38;5;241m=\u001b[39m (\n\u001b[1;32m      2\u001b[0m     total_base\n\u001b[1;32m      3\u001b[0m     \u001b[38;5;241m.\u001b[39mjoin(\n\u001b[1;32m      4\u001b[0m         total_past_shallow,\n\u001b[1;32m      5\u001b[0m         left_on\u001b[38;5;241m=\u001b[39m\u001b[38;5;124m\"\u001b[39m\u001b[38;5;124mcase_id_base\u001b[39m\u001b[38;5;124m\"\u001b[39m,\n\u001b[1;32m      6\u001b[0m         right_on\u001b[38;5;241m=\u001b[39m\u001b[38;5;124m\"\u001b[39m\u001b[38;5;124mcase_id\u001b[39m\u001b[38;5;124m\"\u001b[39m,\n\u001b[1;32m      7\u001b[0m         how\u001b[38;5;241m=\u001b[39m\u001b[38;5;124m\"\u001b[39m\u001b[38;5;124mleft\u001b[39m\u001b[38;5;124m\"\u001b[39m\n\u001b[1;32m      8\u001b[0m     )\n\u001b[1;32m      9\u001b[0m     \u001b[38;5;241m.\u001b[39mjoin(\n\u001b[1;32m     10\u001b[0m         total_past_depth,\n\u001b[1;32m     11\u001b[0m         left_on\u001b[38;5;241m=\u001b[39m\u001b[38;5;124m\"\u001b[39m\u001b[38;5;124mcase_id_base\u001b[39m\u001b[38;5;124m\"\u001b[39m,\n\u001b[1;32m     12\u001b[0m         right_on\u001b[38;5;241m=\u001b[39m\u001b[38;5;124m\"\u001b[39m\u001b[38;5;124mcase_id\u001b[39m\u001b[38;5;124m\"\u001b[39m,\n\u001b[1;32m     13\u001b[0m         how\u001b[38;5;241m=\u001b[39m\u001b[38;5;124m\"\u001b[39m\u001b[38;5;124mleft\u001b[39m\u001b[38;5;124m\"\u001b[39m\n\u001b[1;32m     14\u001b[0m     )\n\u001b[1;32m     15\u001b[0m     \u001b[38;5;241m.\u001b[39mjoin(\n\u001b[1;32m     16\u001b[0m         total_static_base,\n\u001b[1;32m     17\u001b[0m         left_on\u001b[38;5;241m=\u001b[39m\u001b[38;5;124m\"\u001b[39m\u001b[38;5;124mcase_id_base\u001b[39m\u001b[38;5;124m\"\u001b[39m,\n\u001b[1;32m     18\u001b[0m         right_on\u001b[38;5;241m=\u001b[39m\u001b[38;5;124m\"\u001b[39m\u001b[38;5;124mcase_id\u001b[39m\u001b[38;5;124m\"\u001b[39m,\n\u001b[1;32m     19\u001b[0m         how\u001b[38;5;241m=\u001b[39m\u001b[38;5;124m\"\u001b[39m\u001b[38;5;124mleft\u001b[39m\u001b[38;5;124m\"\u001b[39m\n\u001b[1;32m     20\u001b[0m     )\n\u001b[0;32m---> 21\u001b[0m     \u001b[38;5;241m.\u001b[39mjoin(\n\u001b[1;32m     22\u001b[0m         total_person_shallow,\n\u001b[1;32m     23\u001b[0m         left_on\u001b[38;5;241m=\u001b[39m\u001b[38;5;124m\"\u001b[39m\u001b[38;5;124mcase_id_base\u001b[39m\u001b[38;5;124m\"\u001b[39m,\n\u001b[1;32m     24\u001b[0m         right_on\u001b[38;5;241m=\u001b[39m\u001b[38;5;124m\"\u001b[39m\u001b[38;5;124mcase_id\u001b[39m\u001b[38;5;124m\"\u001b[39m,\n\u001b[1;32m     25\u001b[0m         how\u001b[38;5;241m=\u001b[39m\u001b[38;5;124m\"\u001b[39m\u001b[38;5;124mleft\u001b[39m\u001b[38;5;124m\"\u001b[39m\n\u001b[1;32m     26\u001b[0m     )\n\u001b[1;32m     27\u001b[0m     \u001b[38;5;241m.\u001b[39mjoin(\n\u001b[1;32m     28\u001b[0m         total_person_depth,\n\u001b[1;32m     29\u001b[0m         left_on\u001b[38;5;241m=\u001b[39m\u001b[38;5;124m\"\u001b[39m\u001b[38;5;124mcase_id_base\u001b[39m\u001b[38;5;124m\"\u001b[39m,\n\u001b[1;32m     30\u001b[0m         right_on\u001b[38;5;241m=\u001b[39m\u001b[38;5;124m\"\u001b[39m\u001b[38;5;124mcase_id\u001b[39m\u001b[38;5;124m\"\u001b[39m,\n\u001b[1;32m     31\u001b[0m         how\u001b[38;5;241m=\u001b[39m\u001b[38;5;124m\"\u001b[39m\u001b[38;5;124mleft\u001b[39m\u001b[38;5;124m\"\u001b[39m\n\u001b[1;32m     32\u001b[0m     )\n\u001b[1;32m     33\u001b[0m     \u001b[38;5;241m.\u001b[39mjoin(\n\u001b[1;32m     34\u001b[0m         total_other_shallow,\n\u001b[1;32m     35\u001b[0m         left_on\u001b[38;5;241m=\u001b[39m\u001b[38;5;124m\"\u001b[39m\u001b[38;5;124mcase_id_base\u001b[39m\u001b[38;5;124m\"\u001b[39m,\n\u001b[1;32m     36\u001b[0m         right_on\u001b[38;5;241m=\u001b[39m\u001b[38;5;124m\"\u001b[39m\u001b[38;5;124mcase_id\u001b[39m\u001b[38;5;124m\"\u001b[39m,\n\u001b[1;32m     37\u001b[0m         how\u001b[38;5;241m=\u001b[39m\u001b[38;5;124m\"\u001b[39m\u001b[38;5;124mleft\u001b[39m\u001b[38;5;124m\"\u001b[39m\n\u001b[1;32m     38\u001b[0m     )\n\u001b[1;32m     39\u001b[0m     \u001b[38;5;241m.\u001b[39mjoin(\n\u001b[1;32m     40\u001b[0m         total_deposit_shallow,\n\u001b[1;32m     41\u001b[0m         left_on\u001b[38;5;241m=\u001b[39m\u001b[38;5;124m\"\u001b[39m\u001b[38;5;124mcase_id_base\u001b[39m\u001b[38;5;124m\"\u001b[39m,\n\u001b[1;32m     42\u001b[0m         right_on\u001b[38;5;241m=\u001b[39m\u001b[38;5;124m\"\u001b[39m\u001b[38;5;124mcase_id\u001b[39m\u001b[38;5;124m\"\u001b[39m,\n\u001b[1;32m     43\u001b[0m         how\u001b[38;5;241m=\u001b[39m\u001b[38;5;124m\"\u001b[39m\u001b[38;5;124mleft\u001b[39m\u001b[38;5;124m\"\u001b[39m\n\u001b[1;32m     44\u001b[0m     )\n\u001b[1;32m     45\u001b[0m     \u001b[38;5;241m.\u001b[39mjoin(\n\u001b[1;32m     46\u001b[0m         total_debitcard_shallow,\n\u001b[1;32m     47\u001b[0m         left_on\u001b[38;5;241m=\u001b[39m\u001b[38;5;124m\"\u001b[39m\u001b[38;5;124mcase_id_base\u001b[39m\u001b[38;5;124m\"\u001b[39m,\n\u001b[1;32m     48\u001b[0m         right_on\u001b[38;5;241m=\u001b[39m\u001b[38;5;124m\"\u001b[39m\u001b[38;5;124mcase_id\u001b[39m\u001b[38;5;124m\"\u001b[39m,\n\u001b[1;32m     49\u001b[0m         how\u001b[38;5;241m=\u001b[39m\u001b[38;5;124m\"\u001b[39m\u001b[38;5;124mleft\u001b[39m\u001b[38;5;124m\"\u001b[39m\n\u001b[1;32m     50\u001b[0m     )\n\u001b[1;32m     51\u001b[0m     \u001b[38;5;241m.\u001b[39mjoin(\n\u001b[1;32m     52\u001b[0m         total_credit_internal_shallow,\n\u001b[1;32m     53\u001b[0m         left_on\u001b[38;5;241m=\u001b[39m\u001b[38;5;124m\"\u001b[39m\u001b[38;5;124mcase_id_base\u001b[39m\u001b[38;5;124m\"\u001b[39m,\n\u001b[1;32m     54\u001b[0m         right_on\u001b[38;5;241m=\u001b[39m\u001b[38;5;124m\"\u001b[39m\u001b[38;5;124mcase_id\u001b[39m\u001b[38;5;124m\"\u001b[39m,\n\u001b[1;32m     55\u001b[0m         how\u001b[38;5;241m=\u001b[39m\u001b[38;5;124m\"\u001b[39m\u001b[38;5;124mleft\u001b[39m\u001b[38;5;124m\"\u001b[39m\n\u001b[1;32m     56\u001b[0m     )\n\u001b[1;32m     57\u001b[0m     \u001b[38;5;241m.\u001b[39mjoin(\n\u001b[1;32m     58\u001b[0m         total_credit_external_shallow,\n\u001b[1;32m     59\u001b[0m         left_on\u001b[38;5;241m=\u001b[39m\u001b[38;5;124m\"\u001b[39m\u001b[38;5;124mcase_id_base\u001b[39m\u001b[38;5;124m\"\u001b[39m,\n\u001b[1;32m     60\u001b[0m         right_on\u001b[38;5;241m=\u001b[39m\u001b[38;5;124m\"\u001b[39m\u001b[38;5;124mcase_id\u001b[39m\u001b[38;5;124m\"\u001b[39m,\n\u001b[1;32m     61\u001b[0m         how\u001b[38;5;241m=\u001b[39m\u001b[38;5;124m\"\u001b[39m\u001b[38;5;124mleft\u001b[39m\u001b[38;5;124m\"\u001b[39m\n\u001b[1;32m     62\u001b[0m     )\n\u001b[1;32m     63\u001b[0m     \u001b[38;5;241m.\u001b[39mjoin(\n\u001b[1;32m     64\u001b[0m         total_credit_external_depth,\n\u001b[1;32m     65\u001b[0m         left_on\u001b[38;5;241m=\u001b[39m\u001b[38;5;124m\"\u001b[39m\u001b[38;5;124mcase_id_base\u001b[39m\u001b[38;5;124m\"\u001b[39m,\n\u001b[1;32m     66\u001b[0m         right_on\u001b[38;5;241m=\u001b[39m\u001b[38;5;124m\"\u001b[39m\u001b[38;5;124mcase_id\u001b[39m\u001b[38;5;124m\"\u001b[39m,\n\u001b[1;32m     67\u001b[0m         how\u001b[38;5;241m=\u001b[39m\u001b[38;5;124m\"\u001b[39m\u001b[38;5;124mleft\u001b[39m\u001b[38;5;124m\"\u001b[39m\n\u001b[1;32m     68\u001b[0m     )\n\u001b[1;32m     69\u001b[0m     \u001b[38;5;241m.\u001b[39mjoin(\n\u001b[1;32m     70\u001b[0m         total_registry_a,\n\u001b[1;32m     71\u001b[0m         left_on\u001b[38;5;241m=\u001b[39m\u001b[38;5;124m\"\u001b[39m\u001b[38;5;124mcase_id_base\u001b[39m\u001b[38;5;124m\"\u001b[39m,\n\u001b[1;32m     72\u001b[0m         right_on\u001b[38;5;241m=\u001b[39m\u001b[38;5;124m\"\u001b[39m\u001b[38;5;124mcase_id\u001b[39m\u001b[38;5;124m\"\u001b[39m,\n\u001b[1;32m     73\u001b[0m         how\u001b[38;5;241m=\u001b[39m\u001b[38;5;124m\"\u001b[39m\u001b[38;5;124mleft\u001b[39m\u001b[38;5;124m\"\u001b[39m\n\u001b[1;32m     74\u001b[0m     )\n\u001b[1;32m     75\u001b[0m     \u001b[38;5;241m.\u001b[39mjoin(\n\u001b[1;32m     76\u001b[0m         total_registry_b,\n\u001b[1;32m     77\u001b[0m         left_on\u001b[38;5;241m=\u001b[39m\u001b[38;5;124m\"\u001b[39m\u001b[38;5;124mcase_id_base\u001b[39m\u001b[38;5;124m\"\u001b[39m,\n\u001b[1;32m     78\u001b[0m         right_on\u001b[38;5;241m=\u001b[39m\u001b[38;5;124m\"\u001b[39m\u001b[38;5;124mcase_id\u001b[39m\u001b[38;5;124m\"\u001b[39m,\n\u001b[1;32m     79\u001b[0m         how\u001b[38;5;241m=\u001b[39m\u001b[38;5;124m\"\u001b[39m\u001b[38;5;124mleft\u001b[39m\u001b[38;5;124m\"\u001b[39m\n\u001b[1;32m     80\u001b[0m     )\n\u001b[1;32m     81\u001b[0m     \u001b[38;5;241m.\u001b[39mjoin(\n\u001b[1;32m     82\u001b[0m         total_registry_c,\n\u001b[1;32m     83\u001b[0m         left_on\u001b[38;5;241m=\u001b[39m\u001b[38;5;124m\"\u001b[39m\u001b[38;5;124mcase_id_base\u001b[39m\u001b[38;5;124m\"\u001b[39m,\n\u001b[1;32m     84\u001b[0m         right_on\u001b[38;5;241m=\u001b[39m\u001b[38;5;124m\"\u001b[39m\u001b[38;5;124mcase_id\u001b[39m\u001b[38;5;124m\"\u001b[39m,\n\u001b[1;32m     85\u001b[0m         how\u001b[38;5;241m=\u001b[39m\u001b[38;5;124m\"\u001b[39m\u001b[38;5;124mleft\u001b[39m\u001b[38;5;124m\"\u001b[39m\n\u001b[1;32m     86\u001b[0m     )\n\u001b[1;32m     87\u001b[0m     \u001b[38;5;241m.\u001b[39mwith_columns(\n\u001b[1;32m     88\u001b[0m         (pl\u001b[38;5;241m.\u001b[39mcol(pl\u001b[38;5;241m.\u001b[39mDate) \u001b[38;5;241m-\u001b[39m pl\u001b[38;5;241m.\u001b[39mcol(\u001b[38;5;124m\"\u001b[39m\u001b[38;5;124mDate\u001b[39m\u001b[38;5;124m\"\u001b[39m))\u001b[38;5;241m.\u001b[39mdt\u001b[38;5;241m.\u001b[39mtotal_days()\n\u001b[1;32m     89\u001b[0m     )\n\u001b[1;32m     90\u001b[0m     \u001b[38;5;241m.\u001b[39mdrop([\u001b[38;5;124m\"\u001b[39m\u001b[38;5;124mDate\u001b[39m\u001b[38;5;124m\"\u001b[39m])\n\u001b[1;32m     91\u001b[0m     \u001b[38;5;241m.\u001b[39mpipe(select_impuatable)\n\u001b[1;32m     92\u001b[0m )\n\u001b[1;32m     93\u001b[0m total_df\n",
      "File \u001b[0;32m~/anaconda3/lib/python3.11/site-packages/polars/dataframe/frame.py:6395\u001b[0m, in \u001b[0;36mDataFrame.join\u001b[0;34m(self, other, on, how, left_on, right_on, suffix, validate, join_nulls)\u001b[0m\n\u001b[1;32m   6380\u001b[0m     msg \u001b[38;5;241m=\u001b[39m \u001b[38;5;124mf\u001b[39m\u001b[38;5;124m\"\u001b[39m\u001b[38;5;124mexpected `other` join table to be a DataFrame, got \u001b[39m\u001b[38;5;132;01m{\u001b[39;00m\u001b[38;5;28mtype\u001b[39m(other)\u001b[38;5;241m.\u001b[39m\u001b[38;5;18m__name__\u001b[39m\u001b[38;5;132;01m!r}\u001b[39;00m\u001b[38;5;124m\"\u001b[39m\n\u001b[1;32m   6381\u001b[0m     \u001b[38;5;28;01mraise\u001b[39;00m \u001b[38;5;167;01mTypeError\u001b[39;00m(msg)\n\u001b[1;32m   6383\u001b[0m \u001b[38;5;28;01mreturn\u001b[39;00m (\n\u001b[1;32m   6384\u001b[0m     \u001b[38;5;28mself\u001b[39m\u001b[38;5;241m.\u001b[39mlazy()\n\u001b[1;32m   6385\u001b[0m     \u001b[38;5;241m.\u001b[39mjoin(\n\u001b[1;32m   6386\u001b[0m         other\u001b[38;5;241m=\u001b[39mother\u001b[38;5;241m.\u001b[39mlazy(),\n\u001b[1;32m   6387\u001b[0m         left_on\u001b[38;5;241m=\u001b[39mleft_on,\n\u001b[1;32m   6388\u001b[0m         right_on\u001b[38;5;241m=\u001b[39mright_on,\n\u001b[1;32m   6389\u001b[0m         on\u001b[38;5;241m=\u001b[39mon,\n\u001b[1;32m   6390\u001b[0m         how\u001b[38;5;241m=\u001b[39mhow,\n\u001b[1;32m   6391\u001b[0m         suffix\u001b[38;5;241m=\u001b[39msuffix,\n\u001b[1;32m   6392\u001b[0m         validate\u001b[38;5;241m=\u001b[39mvalidate,\n\u001b[1;32m   6393\u001b[0m         join_nulls\u001b[38;5;241m=\u001b[39mjoin_nulls,\n\u001b[1;32m   6394\u001b[0m     )\n\u001b[0;32m-> 6395\u001b[0m     \u001b[38;5;241m.\u001b[39mcollect(_eager\u001b[38;5;241m=\u001b[39m\u001b[38;5;28;01mTrue\u001b[39;00m)\n\u001b[1;32m   6396\u001b[0m )\n",
      "File \u001b[0;32m~/anaconda3/lib/python3.11/site-packages/polars/lazyframe/frame.py:1934\u001b[0m, in \u001b[0;36mLazyFrame.collect\u001b[0;34m(self, type_coercion, predicate_pushdown, projection_pushdown, simplify_expression, slice_pushdown, comm_subplan_elim, comm_subexpr_elim, no_optimization, streaming, background, _eager)\u001b[0m\n\u001b[1;32m   1931\u001b[0m \u001b[38;5;28;01mif\u001b[39;00m background:\n\u001b[1;32m   1932\u001b[0m     \u001b[38;5;28;01mreturn\u001b[39;00m InProcessQuery(ldf\u001b[38;5;241m.\u001b[39mcollect_concurrently())\n\u001b[0;32m-> 1934\u001b[0m \u001b[38;5;28;01mreturn\u001b[39;00m wrap_df(ldf\u001b[38;5;241m.\u001b[39mcollect())\n",
      "\u001b[0;31mDuplicateError\u001b[0m: unable to hstack, column with name \"max_num_group1_right\" already exists"
     ]
    }
   ],
   "source": [
    "total_df = (\n",
    "    total_base\n",
    "    .join(\n",
    "        total_past_shallow,\n",
    "        left_on=\"case_id_base\",\n",
    "        right_on=\"case_id\",\n",
    "        how=\"left\"\n",
    "    )\n",
    "    .join(\n",
    "        total_past_depth,\n",
    "        left_on=\"case_id_base\",\n",
    "        right_on=\"case_id\",\n",
    "        how=\"left\"\n",
    "    )\n",
    "    .join(\n",
    "        total_static_base,\n",
    "        left_on=\"case_id_base\",\n",
    "        right_on=\"case_id\",\n",
    "        how=\"left\"\n",
    "    )\n",
    "    .join(\n",
    "        total_person_shallow,\n",
    "        left_on=\"case_id_base\",\n",
    "        right_on=\"case_id\",\n",
    "        how=\"left\"\n",
    "    )\n",
    "    .join(\n",
    "        total_person_depth,\n",
    "        left_on=\"case_id_base\",\n",
    "        right_on=\"case_id\",\n",
    "        how=\"left\"\n",
    "    )\n",
    "    .join(\n",
    "        total_other_shallow,\n",
    "        left_on=\"case_id_base\",\n",
    "        right_on=\"case_id\",\n",
    "        how=\"left\"\n",
    "    )\n",
    "    .join(\n",
    "        total_deposit_shallow,\n",
    "        left_on=\"case_id_base\",\n",
    "        right_on=\"case_id\",\n",
    "        how=\"left\"\n",
    "    )\n",
    "    .join(\n",
    "        total_debitcard_shallow,\n",
    "        left_on=\"case_id_base\",\n",
    "        right_on=\"case_id\",\n",
    "        how=\"left\"\n",
    "    )\n",
    "    .join(\n",
    "        total_credit_internal_shallow,\n",
    "        left_on=\"case_id_base\",\n",
    "        right_on=\"case_id\",\n",
    "        how=\"left\"\n",
    "    )\n",
    "    .join(\n",
    "        total_credit_external_shallow,\n",
    "        left_on=\"case_id_base\",\n",
    "        right_on=\"case_id\",\n",
    "        how=\"left\"\n",
    "    )\n",
    "    .join(\n",
    "        total_credit_external_depth,\n",
    "        left_on=\"case_id_base\",\n",
    "        right_on=\"case_id\",\n",
    "        how=\"left\"\n",
    "    )\n",
    "    .join(\n",
    "        total_registry_a,\n",
    "        left_on=\"case_id_base\",\n",
    "        right_on=\"case_id\",\n",
    "        how=\"left\"\n",
    "    )\n",
    "    .join(\n",
    "        total_registry_b,\n",
    "        left_on=\"case_id_base\",\n",
    "        right_on=\"case_id\",\n",
    "        how=\"left\"\n",
    "    )\n",
    "    .join(\n",
    "        total_registry_c,\n",
    "        left_on=\"case_id_base\",\n",
    "        right_on=\"case_id\",\n",
    "        how=\"left\"\n",
    "    )\n",
    "    .with_columns(\n",
    "        (pl.col(pl.Date) - pl.col(\"Date\")).dt.total_days()\n",
    "    )\n",
    "    .drop([\"Date\"])\n",
    "    .pipe(select_impuatable)\n",
    ")\n",
    "total_df"
   ]
  },
  {
   "cell_type": "code",
   "execution_count": null,
   "metadata": {},
   "outputs": [],
   "source": [
    "kernel = mf.ImputationKernel(\n",
    "    total_df.to_pandas(),\n",
    "    datasets=3,\n",
    "    save_all_iterations=True,\n",
    "    random_state=2024\n",
    ")"
   ]
  }
 ],
 "metadata": {
  "kernelspec": {
   "display_name": "base",
   "language": "python",
   "name": "python3"
  },
  "language_info": {
   "codemirror_mode": {
    "name": "ipython",
    "version": 3
   },
   "file_extension": ".py",
   "mimetype": "text/x-python",
   "name": "python",
   "nbconvert_exporter": "python",
   "pygments_lexer": "ipython3",
   "version": "3.11.7"
  }
 },
 "nbformat": 4,
 "nbformat_minor": 2
}
